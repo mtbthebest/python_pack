{
 "cells": [
  {
   "cell_type": "code",
   "execution_count": 2,
   "id": "65f9cc2e-aa4d-4894-8ae6-6ec459fc5756",
   "metadata": {
    "pycharm": {
     "name": "#%%\n"
    }
   },
   "outputs": [],
   "source": [
    "import torch\n",
    "import numpy as np\n",
    "import array\n"
   ]
  },
  {
   "cell_type": "code",
   "execution_count": 3,
   "id": "40638093-d7a2-47e7-bb0f-2180af8b8a7b",
   "metadata": {
    "pycharm": {
     "name": "#%%\n"
    }
   },
   "outputs": [
    {
     "data": {
      "text/plain": [
       "'1.12.1+cu116'"
      ]
     },
     "execution_count": 3,
     "metadata": {},
     "output_type": "execute_result"
    }
   ],
   "source": [
    "torch.__version__"
   ]
  },
  {
   "cell_type": "code",
   "execution_count": 4,
   "id": "4d35308a-e79a-46fc-8518-050cb4e2d41a",
   "metadata": {
    "pycharm": {
     "name": "#%%\n"
    }
   },
   "outputs": [],
   "source": [
    "t = torch.tensor(1)"
   ]
  },
  {
   "cell_type": "code",
   "execution_count": 5,
   "id": "4e618c3b-49ab-45a4-9cde-3ca2e2041474",
   "metadata": {
    "pycharm": {
     "name": "#%%\n"
    }
   },
   "outputs": [
    {
     "data": {
      "text/plain": [
       "tensor(1)"
      ]
     },
     "execution_count": 5,
     "metadata": {},
     "output_type": "execute_result"
    }
   ],
   "source": [
    "t"
   ]
  },
  {
   "cell_type": "code",
   "execution_count": 6,
   "id": "40283e69-c52c-47d6-9b0a-9259a1497caa",
   "metadata": {
    "pycharm": {
     "name": "#%%\n"
    }
   },
   "outputs": [
    {
     "data": {
      "text/plain": [
       "torch.Size([])"
      ]
     },
     "execution_count": 6,
     "metadata": {},
     "output_type": "execute_result"
    }
   ],
   "source": [
    "t.shape"
   ]
  },
  {
   "cell_type": "code",
   "execution_count": 7,
   "id": "ca661468-3c61-47f8-bac8-f37af7872bc3",
   "metadata": {
    "pycharm": {
     "name": "#%%\n"
    }
   },
   "outputs": [],
   "source": [
    "x = t + torch.tensor([1, 2])"
   ]
  },
  {
   "cell_type": "code",
   "execution_count": 8,
   "id": "323d4904-0be7-443d-bfac-a12fd75b3cb6",
   "metadata": {
    "pycharm": {
     "name": "#%%\n"
    }
   },
   "outputs": [
    {
     "data": {
      "text/plain": [
       "tensor([2, 3])"
      ]
     },
     "execution_count": 8,
     "metadata": {},
     "output_type": "execute_result"
    }
   ],
   "source": [
    "x"
   ]
  },
  {
   "cell_type": "code",
   "execution_count": 9,
   "id": "0123518a-57dc-473b-8434-64f58bd9fcd5",
   "metadata": {
    "pycharm": {
     "name": "#%%\n"
    }
   },
   "outputs": [
    {
     "data": {
      "text/plain": [
       "torch.Size([2])"
      ]
     },
     "execution_count": 9,
     "metadata": {},
     "output_type": "execute_result"
    }
   ],
   "source": [
    "x.shape"
   ]
  },
  {
   "cell_type": "code",
   "execution_count": 10,
   "id": "2a2b18f7-065d-4cac-b772-5ee2a9825caa",
   "metadata": {
    "pycharm": {
     "name": "#%%\n"
    }
   },
   "outputs": [],
   "source": [
    "a = \"12\""
   ]
  },
  {
   "cell_type": "code",
   "execution_count": 11,
   "id": "126a1151-3a97-4ada-b010-a37afc08fb11",
   "metadata": {
    "pycharm": {
     "name": "#%%\n"
    }
   },
   "outputs": [
    {
     "data": {
      "text/plain": [
       "False"
      ]
     },
     "execution_count": 11,
     "metadata": {},
     "output_type": "execute_result"
    }
   ],
   "source": [
    "torch.is_tensor(a)"
   ]
  },
  {
   "cell_type": "code",
   "execution_count": 12,
   "id": "ce626628-e8c8-4ec3-8301-68895c5534d9",
   "metadata": {
    "pycharm": {
     "name": "#%%\n"
    }
   },
   "outputs": [
    {
     "data": {
      "text/plain": [
       "True"
      ]
     },
     "execution_count": 12,
     "metadata": {},
     "output_type": "execute_result"
    }
   ],
   "source": [
    "torch.is_tensor(x)"
   ]
  },
  {
   "cell_type": "code",
   "execution_count": 13,
   "id": "864d4981-590a-4dea-b965-f053aabd5b29",
   "metadata": {
    "pycharm": {
     "name": "#%%\n"
    }
   },
   "outputs": [
    {
     "data": {
      "text/plain": [
       "False"
      ]
     },
     "execution_count": 13,
     "metadata": {},
     "output_type": "execute_result"
    }
   ],
   "source": [
    "torch.is_floating_point(x)"
   ]
  },
  {
   "cell_type": "code",
   "execution_count": 14,
   "id": "c9f03f7c-442a-405c-bcdf-97d1408d5ea1",
   "metadata": {
    "pycharm": {
     "name": "#%%\n"
    }
   },
   "outputs": [
    {
     "data": {
      "text/plain": [
       "True"
      ]
     },
     "execution_count": 14,
     "metadata": {},
     "output_type": "execute_result"
    }
   ],
   "source": [
    "torch.is_nonzero(x[0])"
   ]
  },
  {
   "cell_type": "code",
   "execution_count": 15,
   "id": "02f40e81-5396-4d8a-9422-4c5262724d67",
   "metadata": {
    "pycharm": {
     "name": "#%%\n"
    }
   },
   "outputs": [],
   "source": [
    "y = torch.tensor((1.3, 2.4))"
   ]
  },
  {
   "cell_type": "code",
   "execution_count": 16,
   "id": "ea991306-014b-40da-af32-7e00d34f197d",
   "metadata": {
    "pycharm": {
     "name": "#%%\n"
    }
   },
   "outputs": [
    {
     "data": {
      "text/plain": [
       "torch.float32"
      ]
     },
     "execution_count": 16,
     "metadata": {},
     "output_type": "execute_result"
    }
   ],
   "source": [
    "y.dtype"
   ]
  },
  {
   "cell_type": "code",
   "execution_count": null,
   "id": "c43366e1-a4e8-4715-aae3-9d23eba229c8",
   "metadata": {
    "pycharm": {
     "name": "#%%\n"
    }
   },
   "outputs": [],
   "source": []
  },
  {
   "cell_type": "code",
   "execution_count": 17,
   "id": "02eb2c89-7d6f-49c2-8109-158f3c166bda",
   "metadata": {
    "pycharm": {
     "name": "#%%\n"
    }
   },
   "outputs": [
    {
     "data": {
      "text/plain": [
       "torch.Size([1, 5, 2])"
      ]
     },
     "execution_count": 17,
     "metadata": {},
     "output_type": "execute_result"
    }
   ],
   "source": [
    "torch.tensor(np.linspace(0, 30, 10).reshape(1, 5, 2)).shape"
   ]
  },
  {
   "cell_type": "code",
   "execution_count": 18,
   "id": "1572e575-0d22-4eb3-9a33-1ab5bb53851d",
   "metadata": {
    "pycharm": {
     "name": "#%%\n"
    }
   },
   "outputs": [
    {
     "data": {
      "text/plain": [
       "3"
      ]
     },
     "execution_count": 18,
     "metadata": {},
     "output_type": "execute_result"
    }
   ],
   "source": [
    "torch.tensor(np.linspace(0, 30, 10).reshape(1, 5, 2)).dim()"
   ]
  },
  {
   "cell_type": "code",
   "execution_count": 19,
   "id": "9e9cd037-a6c8-43ae-a3cc-98d631d900cd",
   "metadata": {
    "pycharm": {
     "name": "#%%\n"
    }
   },
   "outputs": [
    {
     "data": {
      "text/plain": [
       "torch.Size([1, 5, 2])"
      ]
     },
     "execution_count": 19,
     "metadata": {},
     "output_type": "execute_result"
    }
   ],
   "source": [
    "torch.tensor(np.linspace(0, 30, 10).reshape(1, 5, 2)).size()"
   ]
  },
  {
   "cell_type": "code",
   "execution_count": 20,
   "id": "696b773c-aeb6-4763-b56b-c96575ed4ee1",
   "metadata": {
    "pycharm": {
     "name": "#%%\n"
    }
   },
   "outputs": [],
   "source": [
    "x = torch.tensor(np.linspace(0, 30, 10).reshape(1, 5, 2))"
   ]
  },
  {
   "cell_type": "code",
   "execution_count": 21,
   "id": "835732c5",
   "metadata": {
    "pycharm": {
     "name": "#%%\n"
    }
   },
   "outputs": [
    {
     "name": "stdout",
     "output_type": "stream",
     "text": [
      "tensor([1, 2, 3]) [1, 2, 3, 4]\n"
     ]
    }
   ],
   "source": [
    "y = [1, 2, 3]\n",
    "x = torch.tensor(y)\n",
    "y.append(4)\n",
    "print(x, y)"
   ]
  },
  {
   "cell_type": "code",
   "execution_count": 22,
   "id": "660a2c56-402c-48a3-a479-f53cdcd96c44",
   "metadata": {
    "pycharm": {
     "name": "#%%\n"
    }
   },
   "outputs": [
    {
     "name": "stdout",
     "output_type": "stream",
     "text": [
      "tensor([1, 2, 3]) [20, 2, 3]\n"
     ]
    }
   ],
   "source": [
    "y = [1, 2, 3]\n",
    "x = torch.tensor(y)\n",
    "y[0] = 20\n",
    "print(x, y)"
   ]
  },
  {
   "cell_type": "code",
   "execution_count": 23,
   "id": "21bf949c-696b-4b56-8a84-688558b750a0",
   "metadata": {
    "pycharm": {
     "name": "#%%\n"
    }
   },
   "outputs": [
    {
     "name": "stdout",
     "output_type": "stream",
     "text": [
      "tensor([20,  2,  3]) [20  2  3]\n"
     ]
    }
   ],
   "source": [
    "y = np.array([1, 2, 3])\n",
    "x = torch.as_tensor(y)\n",
    "y[0] = 20\n",
    "print(x, y)"
   ]
  },
  {
   "cell_type": "code",
   "execution_count": 24,
   "id": "f50874d2-96cb-4c71-ab33-6e1ef1c18ab1",
   "metadata": {
    "pycharm": {
     "name": "#%%\n"
    }
   },
   "outputs": [
    {
     "name": "stdout",
     "output_type": "stream",
     "text": [
      "tensor([20,  2,  3], device='cuda:0') [-1  2  3]\n"
     ]
    }
   ],
   "source": [
    "x = torch.from_numpy(y).cuda()\n",
    "y[0] = -1\n",
    "print(x, y)"
   ]
  },
  {
   "cell_type": "code",
   "execution_count": 25,
   "id": "67c3dd8e-6bde-45df-9d18-6685e36b14e4",
   "metadata": {
    "pycharm": {
     "name": "#%%\n"
    }
   },
   "outputs": [
    {
     "name": "stdout",
     "output_type": "stream",
     "text": [
      "tensor([1, 2, 3], device='cuda:0') [20  2  3]\n"
     ]
    }
   ],
   "source": [
    "y = np.array([1, 2, 3])\n",
    "x = torch.as_tensor(y).cuda()\n",
    "y[0] = 20\n",
    "print(x, y)"
   ]
  },
  {
   "cell_type": "code",
   "execution_count": 26,
   "id": "87bfe117-5788-41c8-9ad3-abfb21104d3c",
   "metadata": {
    "pycharm": {
     "name": "#%%\n"
    }
   },
   "outputs": [],
   "source": [
    "x.detach().cpu()[0] = 4"
   ]
  },
  {
   "cell_type": "code",
   "execution_count": 27,
   "id": "3d86f019-a327-40db-84a4-0bbf94f0e110",
   "metadata": {
    "pycharm": {
     "name": "#%%\n"
    }
   },
   "outputs": [],
   "source": [
    "x = torch.tensor([[1]])"
   ]
  },
  {
   "cell_type": "code",
   "execution_count": 28,
   "id": "ebe074e7-d10b-4f98-a58f-18712e8e1694",
   "metadata": {
    "pycharm": {
     "name": "#%%\n"
    }
   },
   "outputs": [
    {
     "data": {
      "text/plain": [
       "1"
      ]
     },
     "execution_count": 28,
     "metadata": {},
     "output_type": "execute_result"
    }
   ],
   "source": [
    "x.item()"
   ]
  },
  {
   "cell_type": "code",
   "execution_count": 29,
   "id": "d9cf5fec-4e4a-4dd0-879c-2a03def9237f",
   "metadata": {
    "pycharm": {
     "name": "#%%\n"
    }
   },
   "outputs": [],
   "source": [
    "x = torch.from_numpy(np.random.standard_normal((2, 3, 5)))"
   ]
  },
  {
   "cell_type": "code",
   "execution_count": 30,
   "id": "a38e2385-147e-4187-88c7-8bdc2d01beb8",
   "metadata": {
    "pycharm": {
     "name": "#%%\n"
    }
   },
   "outputs": [
    {
     "data": {
      "text/plain": [
       "(tensor([[[-1.0167, -0.5739,  0.3380, -0.2852,  0.1838],\n",
       "          [ 0.0043,  0.0866,  0.1194,  0.3638,  1.6323],\n",
       "          [ 1.2208,  0.4956, -0.4026, -1.2917,  0.6575]],\n",
       " \n",
       "         [[ 1.6654, -1.2402, -1.3954,  0.2543,  0.5615],\n",
       "          [ 1.2787,  1.0393, -0.0894,  1.2436, -1.1498],\n",
       "          [ 0.7018, -0.5111, -0.2880, -0.2063,  0.8071]]], dtype=torch.float64),\n",
       " torch.Size([2, 3, 5]))"
      ]
     },
     "execution_count": 30,
     "metadata": {},
     "output_type": "execute_result"
    }
   ],
   "source": [
    "x, x.shape"
   ]
  },
  {
   "cell_type": "code",
   "execution_count": 31,
   "id": "c78e2fb6-9164-49cf-bdfc-9b45a3afeb6b",
   "metadata": {
    "pycharm": {
     "name": "#%%\n"
    }
   },
   "outputs": [
    {
     "name": "stderr",
     "output_type": "stream",
     "text": [
      "/tmp/ipykernel_8635/3687214812.py:1: UserWarning: The use of `x.T` on tensors of dimension other than 2 to reverse their shape is deprecated and it will throw an error in a future release. Consider `x.mT` to transpose batches of matricesor `x.permute(*torch.arange(x.ndim - 1, -1, -1))` to reverse the dimensions of a tensor. (Triggered internally at  ../aten/src/ATen/native/TensorShape.cpp:2981.)\n",
      "  x.T, x.T.shape\n"
     ]
    },
    {
     "data": {
      "text/plain": [
       "(tensor([[[-1.0167,  1.6654],\n",
       "          [ 0.0043,  1.2787],\n",
       "          [ 1.2208,  0.7018]],\n",
       " \n",
       "         [[-0.5739, -1.2402],\n",
       "          [ 0.0866,  1.0393],\n",
       "          [ 0.4956, -0.5111]],\n",
       " \n",
       "         [[ 0.3380, -1.3954],\n",
       "          [ 0.1194, -0.0894],\n",
       "          [-0.4026, -0.2880]],\n",
       " \n",
       "         [[-0.2852,  0.2543],\n",
       "          [ 0.3638,  1.2436],\n",
       "          [-1.2917, -0.2063]],\n",
       " \n",
       "         [[ 0.1838,  0.5615],\n",
       "          [ 1.6323, -1.1498],\n",
       "          [ 0.6575,  0.8071]]], dtype=torch.float64),\n",
       " torch.Size([5, 3, 2]))"
      ]
     },
     "execution_count": 31,
     "metadata": {},
     "output_type": "execute_result"
    }
   ],
   "source": [
    "x.T, x.T.shape"
   ]
  },
  {
   "cell_type": "code",
   "execution_count": 32,
   "id": "e44e4e46-6e86-4093-9e80-4bfb054d95b4",
   "metadata": {
    "pycharm": {
     "name": "#%%\n"
    }
   },
   "outputs": [],
   "source": [
    "# view of x\n",
    "y = x.T"
   ]
  },
  {
   "cell_type": "code",
   "execution_count": 33,
   "id": "c102c88e-947c-476f-8c50-a9b02300be07",
   "metadata": {
    "pycharm": {
     "name": "#%%\n"
    }
   },
   "outputs": [],
   "source": [
    "y[0][0][0] = -6"
   ]
  },
  {
   "cell_type": "code",
   "execution_count": 34,
   "id": "73c4b26a-8a6f-4fa0-95af-ebafe47741b7",
   "metadata": {
    "pycharm": {
     "name": "#%%\n"
    }
   },
   "outputs": [
    {
     "data": {
      "text/plain": [
       "tensor([[[-6.0000e+00, -5.7389e-01,  3.3795e-01, -2.8518e-01,  1.8382e-01],\n",
       "         [ 4.2907e-03,  8.6559e-02,  1.1941e-01,  3.6382e-01,  1.6323e+00],\n",
       "         [ 1.2208e+00,  4.9561e-01, -4.0260e-01, -1.2917e+00,  6.5753e-01]],\n",
       "\n",
       "        [[ 1.6654e+00, -1.2402e+00, -1.3954e+00,  2.5430e-01,  5.6154e-01],\n",
       "         [ 1.2787e+00,  1.0393e+00, -8.9394e-02,  1.2436e+00, -1.1498e+00],\n",
       "         [ 7.0182e-01, -5.1110e-01, -2.8802e-01, -2.0626e-01,  8.0711e-01]]],\n",
       "       dtype=torch.float64)"
      ]
     },
     "execution_count": 34,
     "metadata": {},
     "output_type": "execute_result"
    }
   ],
   "source": [
    "x"
   ]
  },
  {
   "cell_type": "code",
   "execution_count": 35,
   "id": "bd259a02-bb2f-40a6-8af6-8d4e9c121830",
   "metadata": {
    "pycharm": {
     "name": "#%%\n"
    }
   },
   "outputs": [],
   "source": [
    "z = x.permute((2, 1, 0))"
   ]
  },
  {
   "cell_type": "code",
   "execution_count": 36,
   "id": "da28810f-65ab-487c-a93e-35b95b432648",
   "metadata": {
    "pycharm": {
     "name": "#%%\n"
    }
   },
   "outputs": [
    {
     "data": {
      "text/plain": [
       "tensor([[[-6.0000e+00,  1.6654e+00],\n",
       "         [ 4.2907e-03,  1.2787e+00],\n",
       "         [ 1.2208e+00,  7.0182e-01]],\n",
       "\n",
       "        [[-5.7389e-01, -1.2402e+00],\n",
       "         [ 8.6559e-02,  1.0393e+00],\n",
       "         [ 4.9561e-01, -5.1110e-01]],\n",
       "\n",
       "        [[ 3.3795e-01, -1.3954e+00],\n",
       "         [ 1.1941e-01, -8.9394e-02],\n",
       "         [-4.0260e-01, -2.8802e-01]],\n",
       "\n",
       "        [[-2.8518e-01,  2.5430e-01],\n",
       "         [ 3.6382e-01,  1.2436e+00],\n",
       "         [-1.2917e+00, -2.0626e-01]],\n",
       "\n",
       "        [[ 1.8382e-01,  5.6154e-01],\n",
       "         [ 1.6323e+00, -1.1498e+00],\n",
       "         [ 6.5753e-01,  8.0711e-01]]], dtype=torch.float64)"
      ]
     },
     "execution_count": 36,
     "metadata": {},
     "output_type": "execute_result"
    }
   ],
   "source": [
    "z"
   ]
  },
  {
   "cell_type": "code",
   "execution_count": 37,
   "id": "6b54b553-07b5-40e9-bfb8-c6c85ddfed7e",
   "metadata": {
    "pycharm": {
     "name": "#%%\n"
    }
   },
   "outputs": [],
   "source": [
    "# View\n",
    "z[0] *= 2"
   ]
  },
  {
   "cell_type": "code",
   "execution_count": 38,
   "id": "09dcff0d-5f46-426b-bb0b-cad07ca302fe",
   "metadata": {
    "pycharm": {
     "name": "#%%\n"
    }
   },
   "outputs": [
    {
     "data": {
      "text/plain": [
       "tensor([[[-1.2000e+01,  3.3308e+00],\n",
       "         [ 8.5814e-03,  2.5573e+00],\n",
       "         [ 2.4416e+00,  1.4036e+00]],\n",
       "\n",
       "        [[-5.7389e-01, -1.2402e+00],\n",
       "         [ 8.6559e-02,  1.0393e+00],\n",
       "         [ 4.9561e-01, -5.1110e-01]],\n",
       "\n",
       "        [[ 3.3795e-01, -1.3954e+00],\n",
       "         [ 1.1941e-01, -8.9394e-02],\n",
       "         [-4.0260e-01, -2.8802e-01]],\n",
       "\n",
       "        [[-2.8518e-01,  2.5430e-01],\n",
       "         [ 3.6382e-01,  1.2436e+00],\n",
       "         [-1.2917e+00, -2.0626e-01]],\n",
       "\n",
       "        [[ 1.8382e-01,  5.6154e-01],\n",
       "         [ 1.6323e+00, -1.1498e+00],\n",
       "         [ 6.5753e-01,  8.0711e-01]]], dtype=torch.float64)"
      ]
     },
     "execution_count": 38,
     "metadata": {},
     "output_type": "execute_result"
    }
   ],
   "source": [
    "z"
   ]
  },
  {
   "cell_type": "code",
   "execution_count": 39,
   "id": "608b9643-0726-4b4e-bf9e-3952aaa8cd77",
   "metadata": {
    "pycharm": {
     "name": "#%%\n"
    }
   },
   "outputs": [
    {
     "data": {
      "text/plain": [
       "tensor([[[-1.2000e+01, -5.7389e-01,  3.3795e-01, -2.8518e-01,  1.8382e-01],\n",
       "         [ 8.5814e-03,  8.6559e-02,  1.1941e-01,  3.6382e-01,  1.6323e+00],\n",
       "         [ 2.4416e+00,  4.9561e-01, -4.0260e-01, -1.2917e+00,  6.5753e-01]],\n",
       "\n",
       "        [[ 3.3308e+00, -1.2402e+00, -1.3954e+00,  2.5430e-01,  5.6154e-01],\n",
       "         [ 2.5573e+00,  1.0393e+00, -8.9394e-02,  1.2436e+00, -1.1498e+00],\n",
       "         [ 1.4036e+00, -5.1110e-01, -2.8802e-01, -2.0626e-01,  8.0711e-01]]],\n",
       "       dtype=torch.float64)"
      ]
     },
     "execution_count": 39,
     "metadata": {},
     "output_type": "execute_result"
    }
   ],
   "source": [
    "x"
   ]
  },
  {
   "cell_type": "code",
   "execution_count": 40,
   "id": "f0cdc5b6-31b4-4b8f-868c-fd2d8d0ce0ef",
   "metadata": {
    "pycharm": {
     "name": "#%%\n"
    }
   },
   "outputs": [
    {
     "data": {
      "text/plain": [
       "torch.Size([2, 3, 5])"
      ]
     },
     "execution_count": 40,
     "metadata": {},
     "output_type": "execute_result"
    }
   ],
   "source": [
    "x.shape"
   ]
  },
  {
   "cell_type": "code",
   "execution_count": 41,
   "id": "d933d874-46d4-48ea-8686-4e1c68cac5ae",
   "metadata": {
    "pycharm": {
     "name": "#%%\n"
    }
   },
   "outputs": [
    {
     "data": {
      "text/plain": [
       "tensor([[[-1.2000e+01,  3.3308e+00],\n",
       "         [ 8.5814e-03,  2.5573e+00],\n",
       "         [ 2.4416e+00,  1.4036e+00]],\n",
       "\n",
       "        [[-5.7389e-01, -1.2402e+00],\n",
       "         [ 8.6559e-02,  1.0393e+00],\n",
       "         [ 4.9561e-01, -5.1110e-01]],\n",
       "\n",
       "        [[ 3.3795e-01, -1.3954e+00],\n",
       "         [ 1.1941e-01, -8.9394e-02],\n",
       "         [-4.0260e-01, -2.8802e-01]],\n",
       "\n",
       "        [[-2.8518e-01,  2.5430e-01],\n",
       "         [ 3.6382e-01,  1.2436e+00],\n",
       "         [-1.2917e+00, -2.0626e-01]],\n",
       "\n",
       "        [[ 1.8382e-01,  5.6154e-01],\n",
       "         [ 1.6323e+00, -1.1498e+00],\n",
       "         [ 6.5753e-01,  8.0711e-01]]], dtype=torch.float64)"
      ]
     },
     "execution_count": 41,
     "metadata": {},
     "output_type": "execute_result"
    }
   ],
   "source": [
    "x.T"
   ]
  },
  {
   "cell_type": "code",
   "execution_count": 42,
   "id": "cb8c0073-42f7-4ed2-b797-07d4af7f3911",
   "metadata": {
    "pycharm": {
     "name": "#%%\n"
    }
   },
   "outputs": [
    {
     "data": {
      "text/plain": [
       "tensor([[[-1.2000e+01,  8.5814e-03,  2.4416e+00],\n",
       "         [-5.7389e-01,  8.6559e-02,  4.9561e-01],\n",
       "         [ 3.3795e-01,  1.1941e-01, -4.0260e-01],\n",
       "         [-2.8518e-01,  3.6382e-01, -1.2917e+00],\n",
       "         [ 1.8382e-01,  1.6323e+00,  6.5753e-01]],\n",
       "\n",
       "        [[ 3.3308e+00,  2.5573e+00,  1.4036e+00],\n",
       "         [-1.2402e+00,  1.0393e+00, -5.1110e-01],\n",
       "         [-1.3954e+00, -8.9394e-02, -2.8802e-01],\n",
       "         [ 2.5430e-01,  1.2436e+00, -2.0626e-01],\n",
       "         [ 5.6154e-01, -1.1498e+00,  8.0711e-01]]], dtype=torch.float64)"
      ]
     },
     "execution_count": 42,
     "metadata": {},
     "output_type": "execute_result"
    }
   ],
   "source": [
    "x.mT"
   ]
  },
  {
   "cell_type": "code",
   "execution_count": 43,
   "id": "7a89918e-75da-436a-af9b-4d9cd749d12b",
   "metadata": {
    "pycharm": {
     "name": "#%%\n"
    }
   },
   "outputs": [
    {
     "data": {
      "text/plain": [
       "torch.Size([2, 5, 3])"
      ]
     },
     "execution_count": 43,
     "metadata": {},
     "output_type": "execute_result"
    }
   ],
   "source": [
    "x.mT.shape"
   ]
  },
  {
   "cell_type": "code",
   "execution_count": 44,
   "id": "77c93a59-14ca-47f2-9064-49439aa12fb0",
   "metadata": {
    "pycharm": {
     "name": "#%%\n"
    }
   },
   "outputs": [],
   "source": [
    "x = torch.from_numpy(np.random.standard_normal((2, 4, 3)))"
   ]
  },
  {
   "cell_type": "code",
   "execution_count": 45,
   "id": "02361535-2df5-4540-b070-03eb3cdabd2c",
   "metadata": {
    "pycharm": {
     "name": "#%%\n"
    }
   },
   "outputs": [
    {
     "data": {
      "text/plain": [
       "tensor([[[-0.3826, -0.6037, -0.6748],\n",
       "         [-1.8787, -0.2547, -0.0289],\n",
       "         [-0.4818, -0.3606, -0.1400],\n",
       "         [-0.1242, -0.7942, -0.9416]],\n",
       "\n",
       "        [[-1.1494, -2.4842, -0.7269],\n",
       "         [-0.1529, -0.1367,  0.6774],\n",
       "         [-0.8078,  2.0476,  0.9494],\n",
       "         [-0.3300,  0.1469, -0.5152]]], dtype=torch.float64)"
      ]
     },
     "execution_count": 45,
     "metadata": {},
     "output_type": "execute_result"
    }
   ],
   "source": [
    "x"
   ]
  },
  {
   "cell_type": "code",
   "execution_count": 46,
   "id": "033c1688-8a1e-4a1d-ac8e-b35eacfb32b2",
   "metadata": {
    "pycharm": {
     "name": "#%%\n"
    }
   },
   "outputs": [
    {
     "data": {
      "text/plain": [
       "tensor([[[-0.3826, -1.1494],\n",
       "         [-0.6037, -2.4842],\n",
       "         [-0.6748, -0.7269]],\n",
       "\n",
       "        [[-1.8787, -0.1529],\n",
       "         [-0.2547, -0.1367],\n",
       "         [-0.0289,  0.6774]],\n",
       "\n",
       "        [[-0.4818, -0.8078],\n",
       "         [-0.3606,  2.0476],\n",
       "         [-0.1400,  0.9494]],\n",
       "\n",
       "        [[-0.1242, -0.3300],\n",
       "         [-0.7942,  0.1469],\n",
       "         [-0.9416, -0.5152]]], dtype=torch.float64)"
      ]
     },
     "execution_count": 46,
     "metadata": {},
     "output_type": "execute_result"
    }
   ],
   "source": [
    "x.permute((1, -1, 0))"
   ]
  },
  {
   "cell_type": "code",
   "execution_count": 47,
   "id": "5a62ba69-7113-4b71-92c2-78cd621b9adf",
   "metadata": {
    "pycharm": {
     "name": "#%%\n"
    }
   },
   "outputs": [
    {
     "data": {
      "text/plain": [
       "torch.Size([4, 3, 2])"
      ]
     },
     "execution_count": 47,
     "metadata": {},
     "output_type": "execute_result"
    }
   ],
   "source": [
    "x.permute((1, -1, 0)).shape"
   ]
  },
  {
   "cell_type": "code",
   "execution_count": 48,
   "id": "7ac36dda-6fce-41c6-86e1-53fa853cd181",
   "metadata": {
    "pycharm": {
     "name": "#%%\n"
    }
   },
   "outputs": [
    {
     "data": {
      "text/plain": [
       "tensor([[0., 0., 0., 0., 0.],\n",
       "        [0., 0., 0., 0., 0.],\n",
       "        [0., 0., 0., 0., 0.],\n",
       "        [0., 0., 0., 0., 0.],\n",
       "        [0., 0., 0., 0., 0.],\n",
       "        [0., 0., 0., 0., 0.],\n",
       "        [0., 0., 0., 0., 0.],\n",
       "        [0., 0., 0., 0., 0.],\n",
       "        [0., 0., 0., 0., 0.],\n",
       "        [0., 0., 0., 0., 0.]])"
      ]
     },
     "execution_count": 48,
     "metadata": {},
     "output_type": "execute_result"
    }
   ],
   "source": [
    "torch.zeros((10, 5))"
   ]
  },
  {
   "cell_type": "code",
   "execution_count": 49,
   "id": "ddc2c0e0-96f8-40be-96ca-8a1ba6fd5733",
   "metadata": {
    "pycharm": {
     "name": "#%%\n"
    }
   },
   "outputs": [
    {
     "data": {
      "text/plain": [
       "tensor([[1., 1., 1., 1., 1.],\n",
       "        [1., 1., 1., 1., 1.],\n",
       "        [1., 1., 1., 1., 1.],\n",
       "        [1., 1., 1., 1., 1.],\n",
       "        [1., 1., 1., 1., 1.],\n",
       "        [1., 1., 1., 1., 1.],\n",
       "        [1., 1., 1., 1., 1.],\n",
       "        [1., 1., 1., 1., 1.],\n",
       "        [1., 1., 1., 1., 1.],\n",
       "        [1., 1., 1., 1., 1.]])"
      ]
     },
     "execution_count": 49,
     "metadata": {},
     "output_type": "execute_result"
    }
   ],
   "source": [
    "torch.ones((10, 5))"
   ]
  },
  {
   "cell_type": "code",
   "execution_count": 50,
   "id": "76c7ac0a-59c1-47e3-bbe7-ed13fd87c626",
   "metadata": {
    "pycharm": {
     "name": "#%%\n"
    }
   },
   "outputs": [
    {
     "data": {
      "text/plain": [
       "device(type='cpu')"
      ]
     },
     "execution_count": 50,
     "metadata": {},
     "output_type": "execute_result"
    }
   ],
   "source": [
    "x.device"
   ]
  },
  {
   "cell_type": "code",
   "execution_count": 51,
   "id": "515e3c03-4e35-4bb4-a025-23a6b1273c07",
   "metadata": {
    "pycharm": {
     "name": "#%%\n"
    }
   },
   "outputs": [
    {
     "data": {
      "text/plain": [
       "device(type='cpu')"
      ]
     },
     "execution_count": 51,
     "metadata": {},
     "output_type": "execute_result"
    }
   ],
   "source": [
    "torch.device(\"cpu\")"
   ]
  },
  {
   "cell_type": "code",
   "execution_count": 52,
   "id": "f2ba9996-a166-4cae-a10c-66538a370b01",
   "metadata": {
    "pycharm": {
     "name": "#%%\n"
    }
   },
   "outputs": [
    {
     "data": {
      "text/plain": [
       "device(type='cuda', index=0)"
      ]
     },
     "execution_count": 52,
     "metadata": {},
     "output_type": "execute_result"
    }
   ],
   "source": [
    "torch.device(\"cuda:0\")"
   ]
  },
  {
   "cell_type": "code",
   "execution_count": 53,
   "id": "c2de43a3-4a41-4948-8553-3d21aa971642",
   "metadata": {
    "pycharm": {
     "name": "#%%\n"
    }
   },
   "outputs": [
    {
     "data": {
      "text/plain": [
       "24"
      ]
     },
     "execution_count": 53,
     "metadata": {},
     "output_type": "execute_result"
    }
   ],
   "source": [
    "# Product of x size shape\n",
    "x.numel()"
   ]
  },
  {
   "cell_type": "code",
   "execution_count": 54,
   "id": "1d297107-20b2-4ab0-96e0-2328c28df603",
   "metadata": {
    "pycharm": {
     "name": "#%%\n"
    }
   },
   "outputs": [
    {
     "data": {
      "text/plain": [
       "torch.float64"
      ]
     },
     "execution_count": 54,
     "metadata": {},
     "output_type": "execute_result"
    }
   ],
   "source": [
    "x.dtype"
   ]
  },
  {
   "cell_type": "code",
   "execution_count": 55,
   "id": "39661bd8-c6ed-44a6-9bef-9c548bcf87f2",
   "metadata": {
    "pycharm": {
     "name": "#%%\n"
    }
   },
   "outputs": [
    {
     "data": {
      "text/plain": [
       "torch.float32"
      ]
     },
     "execution_count": 55,
     "metadata": {},
     "output_type": "execute_result"
    }
   ],
   "source": [
    "torch.get_default_dtype()"
   ]
  },
  {
   "cell_type": "code",
   "execution_count": 56,
   "id": "aba45475-aaee-4739-a40b-d1ccfe14272a",
   "metadata": {
    "pycharm": {
     "name": "#%%\n"
    }
   },
   "outputs": [
    {
     "data": {
      "text/plain": [
       "(tensor([2., 3.]), torch.float64)"
      ]
     },
     "execution_count": 56,
     "metadata": {},
     "output_type": "execute_result"
    }
   ],
   "source": [
    "torch.set_default_dtype(torch.float64)\n",
    "x = torch.tensor([2.0, 3.0])\n",
    "x, x.dtype"
   ]
  },
  {
   "cell_type": "code",
   "execution_count": 57,
   "id": "545ead16-b2f4-49ab-8660-4ea121a064e3",
   "metadata": {
    "pycharm": {
     "name": "#%%\n"
    }
   },
   "outputs": [
    {
     "data": {
      "text/plain": [
       "torch.float64"
      ]
     },
     "execution_count": 57,
     "metadata": {},
     "output_type": "execute_result"
    }
   ],
   "source": [
    "torch.get_default_dtype()"
   ]
  },
  {
   "cell_type": "code",
   "execution_count": 58,
   "id": "941b86e6-2ce1-4394-b252-aec18d5a50c4",
   "metadata": {
    "pycharm": {
     "name": "#%%\n"
    }
   },
   "outputs": [],
   "source": [
    "torch.set_default_dtype(torch.float32)"
   ]
  },
  {
   "cell_type": "code",
   "execution_count": 59,
   "id": "e664b192-2558-4a5f-9db7-1d22bf260ccd",
   "metadata": {
    "pycharm": {
     "name": "#%%\n"
    }
   },
   "outputs": [
    {
     "data": {
      "text/plain": [
       "(tensor([2., 3.]), torch.float32)"
      ]
     },
     "execution_count": 59,
     "metadata": {},
     "output_type": "execute_result"
    }
   ],
   "source": [
    "x = torch.tensor([2.0, 3.0])\n",
    "x, x.dtype"
   ]
  },
  {
   "cell_type": "code",
   "execution_count": 60,
   "id": "a7a6a462-57bb-403b-9380-7caa730c08db",
   "metadata": {
    "pycharm": {
     "name": "#%%\n"
    }
   },
   "outputs": [],
   "source": [
    "a = torch.tensor([1, 2, 3.], requires_grad=True).cuda()"
   ]
  },
  {
   "cell_type": "code",
   "execution_count": 61,
   "id": "600dec67-3b29-407a-8680-397ffd0b71aa",
   "metadata": {
    "pycharm": {
     "name": "#%%\n"
    }
   },
   "outputs": [],
   "source": [
    "b = torch.asarray(a)"
   ]
  },
  {
   "cell_type": "code",
   "execution_count": 62,
   "id": "6c6989a4-02f4-4788-9964-9fb34ab376fd",
   "metadata": {
    "pycharm": {
     "name": "#%%\n"
    }
   },
   "outputs": [
    {
     "data": {
      "text/plain": [
       "tensor([1., 2., 3.], device='cuda:0')"
      ]
     },
     "execution_count": 62,
     "metadata": {},
     "output_type": "execute_result"
    }
   ],
   "source": [
    "b"
   ]
  },
  {
   "cell_type": "code",
   "execution_count": 63,
   "id": "29427df4-4534-47d6-ba8f-1bf065f280a1",
   "metadata": {
    "pycharm": {
     "name": "#%%\n"
    }
   },
   "outputs": [
    {
     "data": {
      "text/plain": [
       "(False, device(type='cuda', index=0))"
      ]
     },
     "execution_count": 63,
     "metadata": {},
     "output_type": "execute_result"
    }
   ],
   "source": [
    "b.requires_grad, b.device"
   ]
  },
  {
   "cell_type": "code",
   "execution_count": 64,
   "id": "4f094357-b3f8-4988-b5cf-4a1e55431bed",
   "metadata": {
    "pycharm": {
     "name": "#%%\n"
    }
   },
   "outputs": [
    {
     "data": {
      "text/plain": [
       "True"
      ]
     },
     "execution_count": 64,
     "metadata": {},
     "output_type": "execute_result"
    }
   ],
   "source": [
    "a.requires_grad"
   ]
  },
  {
   "cell_type": "code",
   "execution_count": 65,
   "id": "19bb6f41-2ab8-4fb2-bb32-bcc77c92fd95",
   "metadata": {
    "pycharm": {
     "name": "#%%\n"
    }
   },
   "outputs": [
    {
     "data": {
      "text/plain": [
       "(tensor([1., 2., 3.], device='cuda:0', grad_fn=<ToCopyBackward0>),\n",
       " device(type='cuda', index=0),\n",
       " True)"
      ]
     },
     "execution_count": 65,
     "metadata": {},
     "output_type": "execute_result"
    }
   ],
   "source": [
    "b = torch.asarray(a, requires_grad=True)\n",
    "b, b.device, b.requires_grad"
   ]
  },
  {
   "cell_type": "code",
   "execution_count": 66,
   "id": "87a4a4ef-1356-473e-a077-cdef8dba994b",
   "metadata": {
    "pycharm": {
     "name": "#%%\n"
    }
   },
   "outputs": [
    {
     "data": {
      "text/plain": [
       "(tensor([2., 4., 6.], device='cuda:0', grad_fn=<MulBackward0>),\n",
       " tensor([2., 4., 6.], device='cuda:0', grad_fn=<MulBackward0>))"
      ]
     },
     "execution_count": 66,
     "metadata": {},
     "output_type": "execute_result"
    }
   ],
   "source": [
    "a *= 2\n",
    "a, b"
   ]
  },
  {
   "cell_type": "code",
   "execution_count": 67,
   "id": "b4aa8a5e-fc73-424f-9e14-e07b2a61143b",
   "metadata": {
    "pycharm": {
     "name": "#%%\n"
    }
   },
   "outputs": [
    {
     "data": {
      "text/plain": [
       "True"
      ]
     },
     "execution_count": 67,
     "metadata": {},
     "output_type": "execute_result"
    }
   ],
   "source": [
    "a.data_ptr() == b.data_ptr()"
   ]
  },
  {
   "cell_type": "code",
   "execution_count": 68,
   "id": "61f9d325-80fa-434f-88dd-b2330ab9650b",
   "metadata": {
    "pycharm": {
     "name": "#%%\n"
    }
   },
   "outputs": [
    {
     "data": {
      "text/plain": [
       "False"
      ]
     },
     "execution_count": 68,
     "metadata": {},
     "output_type": "execute_result"
    }
   ],
   "source": [
    "c = torch.asarray(a, copy=True)\n",
    "c.data_ptr() == a.data_ptr()"
   ]
  },
  {
   "cell_type": "code",
   "execution_count": 69,
   "id": "8fb073dd-df97-4cf2-878a-db16703b269c",
   "metadata": {
    "pycharm": {
     "name": "#%%\n"
    }
   },
   "outputs": [],
   "source": [
    "a *= 2"
   ]
  },
  {
   "cell_type": "code",
   "execution_count": 70,
   "id": "7a0711f0-529b-44f9-ab90-2b1e66405ac2",
   "metadata": {
    "pycharm": {
     "name": "#%%\n"
    }
   },
   "outputs": [
    {
     "data": {
      "text/plain": [
       "(tensor([ 4.,  8., 12.], device='cuda:0', grad_fn=<MulBackward0>),\n",
       " tensor([ 4.,  8., 12.], device='cuda:0', grad_fn=<MulBackward0>),\n",
       " tensor([2., 4., 6.], device='cuda:0'))"
      ]
     },
     "execution_count": 70,
     "metadata": {},
     "output_type": "execute_result"
    }
   ],
   "source": [
    "a, b, c"
   ]
  },
  {
   "cell_type": "code",
   "execution_count": 71,
   "id": "ef68340b-9723-4bdc-ab86-9630622e7f87",
   "metadata": {
    "pycharm": {
     "name": "#%%\n"
    }
   },
   "outputs": [
    {
     "data": {
      "text/plain": [
       "140351799034368"
      ]
     },
     "execution_count": 71,
     "metadata": {},
     "output_type": "execute_result"
    }
   ],
   "source": [
    "c.data_ptr()"
   ]
  },
  {
   "cell_type": "code",
   "execution_count": 72,
   "id": "2d981ff0-bd81-41ea-a432-1b2defe1c7a9",
   "metadata": {
    "pycharm": {
     "name": "#%%\n"
    }
   },
   "outputs": [
    {
     "data": {
      "text/plain": [
       "94609805706240"
      ]
     },
     "execution_count": 72,
     "metadata": {},
     "output_type": "execute_result"
    }
   ],
   "source": [
    "# Numpy data_ptr\n",
    "np.array([1, 2, 3]).__array_interface__[\"data\"][0]"
   ]
  },
  {
   "cell_type": "code",
   "execution_count": 73,
   "id": "859be230-a9ff-4345-9d29-3a001cbca47c",
   "metadata": {
    "pycharm": {
     "name": "#%%\n"
    }
   },
   "outputs": [
    {
     "data": {
      "text/plain": [
       "tensor([1, 0, 2, 0, 3, 0], dtype=torch.int16)"
      ]
     },
     "execution_count": 73,
     "metadata": {},
     "output_type": "execute_result"
    }
   ],
   "source": [
    "a = array.array('i', [1, 2, 3])\n",
    "b = torch.frombuffer(a, dtype=torch.int16)\n",
    "b"
   ]
  },
  {
   "cell_type": "code",
   "execution_count": 74,
   "id": "a84b4158",
   "metadata": {
    "collapsed": false,
    "jupyter": {
     "outputs_hidden": false
    },
    "pycharm": {
     "name": "#%%\n"
    }
   },
   "outputs": [
    {
     "data": {
      "text/plain": [
       "tensor([65,  0,  0,  0, 66,  0,  0,  0], dtype=torch.int8)"
      ]
     },
     "execution_count": 74,
     "metadata": {},
     "output_type": "execute_result"
    }
   ],
   "source": [
    "c = array.array('u', ['A', 'B'])\n",
    "b = torch.frombuffer(c, dtype=torch.int8)\n",
    "b"
   ]
  },
  {
   "cell_type": "code",
   "execution_count": 75,
   "id": "3adc9ca6",
   "metadata": {
    "collapsed": false,
    "jupyter": {
     "outputs_hidden": false
    },
    "pycharm": {
     "name": "#%%\n"
    }
   },
   "outputs": [],
   "source": [
    "x = torch.randn(5, 5)"
   ]
  },
  {
   "cell_type": "code",
   "execution_count": 76,
   "id": "f0d54738",
   "metadata": {
    "collapsed": false,
    "jupyter": {
     "outputs_hidden": false
    },
    "pycharm": {
     "name": "#%%\n"
    }
   },
   "outputs": [
    {
     "data": {
      "text/plain": [
       "tensor([[-0.3418,  0.2913,  0.4422, -0.9478, -2.1082],\n",
       "        [-0.0315, -1.7208,  0.0347, -0.1945, -1.0246],\n",
       "        [ 1.7817, -0.9046, -0.9375,  0.2244, -0.5881],\n",
       "        [ 0.3344,  0.8130,  0.3590,  1.1079, -0.3558],\n",
       "        [ 1.0216,  0.4711, -0.6301,  0.3078,  1.4080]])"
      ]
     },
     "execution_count": 76,
     "metadata": {},
     "output_type": "execute_result"
    }
   ],
   "source": [
    "x"
   ]
  },
  {
   "cell_type": "code",
   "execution_count": 77,
   "id": "1c259ecc",
   "metadata": {
    "collapsed": false,
    "jupyter": {
     "outputs_hidden": false
    },
    "pycharm": {
     "name": "#%%\n"
    }
   },
   "outputs": [
    {
     "data": {
      "text/plain": [
       "tensor([[-0.3418, -1.7208],\n",
       "        [-2.1082,  1.7817]])"
      ]
     },
     "execution_count": 77,
     "metadata": {},
     "output_type": "execute_result"
    }
   ],
   "source": [
    "t = torch.as_strided(x, (2, 2), (4, 6) )\n",
    "t"
   ]
  },
  {
   "cell_type": "code",
   "execution_count": 78,
   "id": "b73945a7",
   "metadata": {
    "collapsed": false,
    "jupyter": {
     "outputs_hidden": false
    },
    "pycharm": {
     "name": "#%%\n"
    }
   },
   "outputs": [
    {
     "data": {
      "text/plain": [
       "tensor([[ 0.2913,  0.0347],\n",
       "        [-0.0315, -0.9046]])"
      ]
     },
     "execution_count": 78,
     "metadata": {},
     "output_type": "execute_result"
    }
   ],
   "source": [
    "t = torch.as_strided(x, (2, 2), (4, 6) , 1)\n",
    "t\n"
   ]
  },
  {
   "cell_type": "code",
   "execution_count": 79,
   "id": "d8582605",
   "metadata": {
    "collapsed": false,
    "jupyter": {
     "outputs_hidden": false
    },
    "pycharm": {
     "name": "#%%\n"
    }
   },
   "outputs": [
    {
     "data": {
      "text/plain": [
       "tensor([[ 0.4422, -0.1945],\n",
       "        [-1.7208, -0.9375]])"
      ]
     },
     "execution_count": 79,
     "metadata": {},
     "output_type": "execute_result"
    }
   ],
   "source": [
    "t = torch.as_strided(x, (2, 2), (4, 6) , 2)\n",
    "t\n",
    "\n"
   ]
  },
  {
   "cell_type": "code",
   "execution_count": 80,
   "id": "bdd710bb",
   "metadata": {
    "collapsed": false,
    "jupyter": {
     "outputs_hidden": false
    },
    "pycharm": {
     "name": "#%%\n"
    }
   },
   "outputs": [
    {
     "data": {
      "text/plain": [
       "tensor([[-0.5881,  1.0216],\n",
       "        [ 1.1079,  1.4080]])"
      ]
     },
     "execution_count": 80,
     "metadata": {},
     "output_type": "execute_result"
    }
   ],
   "source": [
    "t = torch.as_strided(x, (2, 2), (4, 6) , 14)\n",
    "t"
   ]
  },
  {
   "cell_type": "code",
   "execution_count": 81,
   "id": "c0bca1d1",
   "metadata": {
    "collapsed": false,
    "jupyter": {
     "outputs_hidden": false
    },
    "pycharm": {
     "name": "#%%\n"
    }
   },
   "outputs": [
    {
     "data": {
      "text/plain": [
       "tensor([[[-0.5881],\n",
       "         [ 1.0216]],\n",
       "\n",
       "        [[ 1.1079],\n",
       "         [ 1.4080]]])"
      ]
     },
     "execution_count": 81,
     "metadata": {},
     "output_type": "execute_result"
    }
   ],
   "source": [
    "t = torch.as_strided(x, (2, 2, 1), (4, 6, 1) , 14)\n",
    "t\n",
    "\n"
   ]
  },
  {
   "cell_type": "code",
   "execution_count": 82,
   "id": "01b8fe72",
   "metadata": {
    "collapsed": false,
    "jupyter": {
     "outputs_hidden": false
    },
    "pycharm": {
     "name": "#%%\n"
    }
   },
   "outputs": [
    {
     "data": {
      "text/plain": [
       "tensor([1.0000, 1.5000, 2.0000, 2.5000, 3.0000, 3.5000, 4.0000, 4.5000, 5.0000,\n",
       "        5.5000, 6.0000, 6.5000, 7.0000, 7.5000, 8.0000, 8.5000, 9.0000, 9.5000])"
      ]
     },
     "execution_count": 82,
     "metadata": {},
     "output_type": "execute_result"
    }
   ],
   "source": [
    "x = torch.arange(1, 10, 0.5)\n",
    "x"
   ]
  },
  {
   "cell_type": "code",
   "execution_count": 83,
   "id": "d885c4ec",
   "metadata": {
    "collapsed": false,
    "jupyter": {
     "outputs_hidden": false
    },
    "pycharm": {
     "name": "#%%\n"
    }
   },
   "outputs": [
    {
     "data": {
      "text/plain": [
       "tensor([ 1.0000,  3.2500,  5.5000,  7.7500, 10.0000])"
      ]
     },
     "execution_count": 83,
     "metadata": {},
     "output_type": "execute_result"
    }
   ],
   "source": [
    "x = torch.linspace(1, 10, 5)\n",
    "x"
   ]
  },
  {
   "cell_type": "code",
   "execution_count": 84,
   "id": "5dc07568",
   "metadata": {
    "collapsed": false,
    "jupyter": {
     "outputs_hidden": false
    },
    "pycharm": {
     "name": "#%%\n"
    }
   },
   "outputs": [
    {
     "name": "stderr",
     "output_type": "stream",
     "text": [
      "/tmp/ipykernel_8635/1458550859.py:1: UserWarning: torch.range is deprecated and will be removed in a future release because its behavior is inconsistent with Python's range builtin. Instead, use torch.arange, which produces values in [start, end).\n",
      "  x = torch.range(1, 10, 2, dtype=torch.int32)\n"
     ]
    },
    {
     "data": {
      "text/plain": [
       "tensor([1, 3, 5, 7, 9], dtype=torch.int32)"
      ]
     },
     "execution_count": 84,
     "metadata": {},
     "output_type": "execute_result"
    }
   ],
   "source": [
    "x = torch.range(1, 10, 2, dtype=torch.int32)\n",
    "x"
   ]
  },
  {
   "cell_type": "code",
   "execution_count": 85,
   "id": "8b501646",
   "metadata": {
    "collapsed": false,
    "jupyter": {
     "outputs_hidden": false
    },
    "pycharm": {
     "name": "#%%\n"
    }
   },
   "outputs": [
    {
     "data": {
      "text/plain": [
       "tensor([0.1250, 0.3536, 1.0000, 2.8284, 8.0000])"
      ]
     },
     "execution_count": 85,
     "metadata": {},
     "output_type": "execute_result"
    }
   ],
   "source": [
    "\"\"\"\n",
    "(\n",
    "base ** start,\n",
    "base **(start+ steps−1 end−start),\n",
    "base ** end\n",
    ")\n",
    "\"\"\"\n",
    "torch.logspace(-3, 3, 5, base=2)"
   ]
  },
  {
   "cell_type": "code",
   "execution_count": 86,
   "id": "51495b1e",
   "metadata": {
    "collapsed": false,
    "jupyter": {
     "outputs_hidden": false
    },
    "pycharm": {
     "name": "#%%\n"
    }
   },
   "outputs": [
    {
     "name": "stdout",
     "output_type": "stream",
     "text": [
      "tensor([[0., 0., 0., 0., 0.],\n",
      "        [0., 0., 0., 0., 0.],\n",
      "        [0., 0., 0., 0., 0.],\n",
      "        [0., 0., 0., 0., 0.],\n",
      "        [0., 0., 0., 0., 0.],\n",
      "        [0., 0., 0., 0., 0.],\n",
      "        [0., 0., 0., 0., 0.],\n",
      "        [0., 0., 0., 0., 0.],\n",
      "        [0., 0., 0., 0., 0.],\n",
      "        [0., 0., 0., 0., 0.]])\n"
     ]
    },
    {
     "data": {
      "text/plain": [
       "(tensor([[1., 0., 0., 0.],\n",
       "         [0., 1., 0., 0.],\n",
       "         [0., 0., 1., 0.]]),\n",
       " tensor([[1., 0., 0., 0.],\n",
       "         [0., 1., 0., 0.],\n",
       "         [0., 0., 1., 0.]]))"
      ]
     },
     "execution_count": 86,
     "metadata": {},
     "output_type": "execute_result"
    }
   ],
   "source": [
    "s = (10, 5)\n",
    "y  = torch.zeros(s)\n",
    "print(y)\n",
    "x = torch.eye(3, 4, out=y)\n",
    "x, y"
   ]
  },
  {
   "cell_type": "code",
   "execution_count": 87,
   "id": "cbcc2530",
   "metadata": {
    "collapsed": false,
    "jupyter": {
     "outputs_hidden": false
    },
    "pycharm": {
     "name": "#%%\n"
    }
   },
   "outputs": [
    {
     "data": {
      "text/plain": [
       "tensor([[1735617826,  577005919, 1663180858,  942684472,  761608249],\n",
       "        [1650549042, 1714762797,  876096816, 1663908147,  845374004],\n",
       "        [ 808661602,  576808038, 1830953004, 1952409459,  577073273],\n",
       "        [1696735290, 1969448312, 1918854516, 1702195557,  740455539],\n",
       "        [1702044192, 1869181811,  540680814,  929457442,  962935094],\n",
       "        [1714498867,  875389751,  761410866,  878850914, 1681143341],\n",
       "        [ 825516338, 1664103777,  539763253, 1702065442, 1835101810],\n",
       "        [ 540680805,  909326114,  909390386, 1667312946,  875377713],\n",
       "        [ 758330419, 1647862328,  895891501, 1681350960,  909259059],\n",
       "        [ 539763251, 1919252002, 1852795251,  572537378,  573713973]],\n",
       "       dtype=torch.int32)"
      ]
     },
     "execution_count": 87,
     "metadata": {},
     "output_type": "execute_result"
    }
   ],
   "source": [
    "x = torch.empty(size=s, dtype=torch.int32)\n",
    "x"
   ]
  },
  {
   "cell_type": "code",
   "execution_count": 88,
   "id": "4db32229",
   "metadata": {
    "collapsed": false,
    "jupyter": {
     "outputs_hidden": false
    },
    "pycharm": {
     "name": "#%%\n"
    }
   },
   "outputs": [
    {
     "data": {
      "text/plain": [
       "tensor([[1073741824, 1082130432, 1086324736,          0,          0],\n",
       "        [         0,          0,          0,          0,          0],\n",
       "        [         0,          0,          0,          0,          0],\n",
       "        [         0,          0,          0,          0,          0],\n",
       "        [         0,          0,          0,          0,          0],\n",
       "        [         0,          0,          0,          0,          0],\n",
       "        [         0,          0,          0,          0,          0],\n",
       "        [         0,          0,          0,          0,          0],\n",
       "        [         0,          0,          0,          0,          0],\n",
       "        [         0,          0,          0,          0,          0]],\n",
       "       device='cuda:0', dtype=torch.int32)"
      ]
     },
     "execution_count": 88,
     "metadata": {},
     "output_type": "execute_result"
    }
   ],
   "source": [
    "z = torch.empty_like(x, device='cuda:0')\n",
    "z"
   ]
  },
  {
   "cell_type": "code",
   "execution_count": 89,
   "id": "4a9097cb",
   "metadata": {
    "collapsed": false,
    "jupyter": {
     "outputs_hidden": false
    },
    "pycharm": {
     "name": "#%%\n"
    }
   },
   "outputs": [
    {
     "data": {
      "text/plain": [
       "tensor([[1.3058e+06, 2.7019e+00, 8.9683e-44],\n",
       "        [3.0868e-41, 4.5793e-41, 0.0000e+00],\n",
       "        [2.7019e+00, 8.9683e-44, 1.1210e-43]])"
      ]
     },
     "execution_count": 89,
     "metadata": {},
     "output_type": "execute_result"
    }
   ],
   "source": [
    "a = torch.empty_strided((3, 3), (1, 2))\n",
    "a"
   ]
  },
  {
   "cell_type": "code",
   "execution_count": 90,
   "id": "278fafed",
   "metadata": {
    "collapsed": false,
    "jupyter": {
     "outputs_hidden": false
    },
    "pycharm": {
     "name": "#%%\n"
    }
   },
   "outputs": [
    {
     "data": {
      "text/plain": [
       "(1, 2)"
      ]
     },
     "execution_count": 90,
     "metadata": {},
     "output_type": "execute_result"
    }
   ],
   "source": [
    "a.stride()"
   ]
  },
  {
   "cell_type": "code",
   "execution_count": 91,
   "id": "d25a5ee1",
   "metadata": {
    "collapsed": false,
    "jupyter": {
     "outputs_hidden": false
    },
    "pycharm": {
     "name": "#%%\n"
    }
   },
   "outputs": [
    {
     "data": {
      "text/plain": [
       "tensor([[10, 10, 10, 10],\n",
       "        [10, 10, 10, 10],\n",
       "        [10, 10, 10, 10]], dtype=torch.int32)"
      ]
     },
     "execution_count": 91,
     "metadata": {},
     "output_type": "execute_result"
    }
   ],
   "source": [
    "a = torch.full((3, 4), 10, dtype=torch.int32)\n",
    "a"
   ]
  },
  {
   "cell_type": "code",
   "execution_count": 92,
   "id": "77a2ac82",
   "metadata": {
    "collapsed": false,
    "jupyter": {
     "outputs_hidden": false
    },
    "pycharm": {
     "name": "#%%\n"
    }
   },
   "outputs": [
    {
     "data": {
      "text/plain": [
       "tensor([[2, 2, 2, 2],\n",
       "        [2, 2, 2, 2],\n",
       "        [2, 2, 2, 2]], dtype=torch.int32)"
      ]
     },
     "execution_count": 92,
     "metadata": {},
     "output_type": "execute_result"
    }
   ],
   "source": [
    "b = torch.full_like(a, 2)\n",
    "b\n"
   ]
  },
  {
   "cell_type": "code",
   "execution_count": 93,
   "id": "c86c2fb7",
   "metadata": {
    "collapsed": false,
    "jupyter": {
     "outputs_hidden": false
    },
    "pycharm": {
     "name": "#%%\n"
    }
   },
   "outputs": [
    {
     "data": {
      "text/plain": [
       "tensor([0.0000, 0.7000, 1.0000, 1.0000])"
      ]
     },
     "execution_count": 93,
     "metadata": {},
     "output_type": "execute_result"
    }
   ],
   "source": [
    "z = torch.tensor([-1.5, 0, 0.4, 2.])\n",
    "torch.heaviside(z, torch.tensor(0.7))"
   ]
  },
  {
   "cell_type": "code",
   "execution_count": 94,
   "id": "7f87bb3d",
   "metadata": {
    "collapsed": false,
    "jupyter": {
     "outputs_hidden": false
    },
    "pycharm": {
     "name": "#%%\n"
    }
   },
   "outputs": [
    {
     "data": {
      "text/plain": [
       "(array([ 0.16550526,  0.96500488, -0.14495367, -0.54093585,  0.83232426,\n",
       "         0.07820075, -0.27294538,  0.9457885 ,  0.37416238,  0.58761035]),\n",
       " tensor([0.1655, 0.9650, 0.1450, 0.5409, 0.8323, 0.0782, 0.2729, 0.9458, 0.3742,\n",
       "         0.5876], dtype=torch.float64))"
      ]
     },
     "execution_count": 94,
     "metadata": {},
     "output_type": "execute_result"
    }
   ],
   "source": [
    "x = np.random.uniform(-1, 1, (10, ))\n",
    "y = torch.from_numpy(x)\n",
    "y = torch.abs(y)\n",
    "x, y"
   ]
  },
  {
   "cell_type": "code",
   "execution_count": 95,
   "id": "68e921d7",
   "metadata": {
    "collapsed": false,
    "jupyter": {
     "outputs_hidden": false
    },
    "pycharm": {
     "name": "#%%\n"
    }
   },
   "outputs": [
    {
     "data": {
      "text/plain": [
       "(tensor(0.7071), tensor(0.7071), tensor(1.))"
      ]
     },
     "execution_count": 95,
     "metadata": {},
     "output_type": "execute_result"
    }
   ],
   "source": [
    "deg = np.pi / 4\n",
    "\n",
    "torch.cos(torch.tensor(deg)), torch.sin(torch.tensor(deg)), torch.tan(torch.tensor(deg))\n"
   ]
  },
  {
   "cell_type": "code",
   "execution_count": 96,
   "id": "29627da5",
   "metadata": {
    "collapsed": false,
    "jupyter": {
     "outputs_hidden": false
    },
    "pycharm": {
     "name": "#%%\n"
    }
   },
   "outputs": [
    {
     "data": {
      "text/plain": [
       "tensor([1.6576, 1.5305, 1.6655, 1.0529, 1.5700])"
      ]
     },
     "execution_count": 96,
     "metadata": {},
     "output_type": "execute_result"
    }
   ],
   "source": [
    "a = torch.randn(4).uniform_(1, 2)\n",
    "a = a.tolist() + [1.57]\n",
    "a = torch.tensor(a)\n",
    "a"
   ]
  },
  {
   "cell_type": "code",
   "execution_count": 97,
   "id": "989ad9cb",
   "metadata": {
    "collapsed": false,
    "jupyter": {
     "outputs_hidden": false
    },
    "pycharm": {
     "name": "#%%\n"
    }
   },
   "outputs": [
    {
     "data": {
      "text/plain": [
       "tensor([1.0918, 0.9892, 1.0977, 0.3238, 1.0226])"
      ]
     },
     "execution_count": 97,
     "metadata": {},
     "output_type": "execute_result"
    }
   ],
   "source": [
    "torch.acosh(a)"
   ]
  },
  {
   "cell_type": "code",
   "execution_count": 98,
   "id": "82dfeb46",
   "metadata": {
    "collapsed": false,
    "jupyter": {
     "outputs_hidden": false
    },
    "pycharm": {
     "name": "#%%\n"
    }
   },
   "outputs": [
    {
     "data": {
      "text/plain": [
       "tensor([nan, nan, nan, nan, nan])"
      ]
     },
     "execution_count": 98,
     "metadata": {},
     "output_type": "execute_result"
    }
   ],
   "source": [
    "torch.atanh(a)\n",
    "\n"
   ]
  },
  {
   "cell_type": "code",
   "execution_count": 99,
   "id": "0d50bc23",
   "metadata": {
    "collapsed": false,
    "jupyter": {
     "outputs_hidden": false
    },
    "pycharm": {
     "name": "#%%\n"
    }
   },
   "outputs": [
    {
     "data": {
      "text/plain": [
       "tensor([1.2791, 1.2116, 1.2832, 0.9183, 1.2330])"
      ]
     },
     "execution_count": 99,
     "metadata": {},
     "output_type": "execute_result"
    }
   ],
   "source": [
    "torch.asinh(a)"
   ]
  },
  {
   "cell_type": "code",
   "execution_count": 100,
   "id": "36352383",
   "metadata": {
    "collapsed": false,
    "jupyter": {
     "outputs_hidden": false
    },
    "pycharm": {
     "name": "#%%\n"
    }
   },
   "outputs": [
    {
     "data": {
      "text/plain": [
       "tensor([45.0005])"
      ]
     },
     "execution_count": 100,
     "metadata": {},
     "output_type": "execute_result"
    }
   ],
   "source": [
    "torch.acos(torch.tensor([0.7071])) * 180 / np.pi"
   ]
  },
  {
   "cell_type": "code",
   "execution_count": 101,
   "id": "e612bbf1",
   "metadata": {
    "collapsed": false,
    "jupyter": {
     "outputs_hidden": false
    },
    "pycharm": {
     "name": "#%%\n"
    }
   },
   "outputs": [
    {
     "data": {
      "text/plain": [
       "tensor([60.0000], dtype=torch.float64)"
      ]
     },
     "execution_count": 101,
     "metadata": {},
     "output_type": "execute_result"
    }
   ],
   "source": [
    "torch.asin(torch.tensor([np.sqrt(3) / 2])) * 180 / np.pi\n"
   ]
  },
  {
   "cell_type": "code",
   "execution_count": 102,
   "id": "ea5f4aed",
   "metadata": {
    "collapsed": false,
    "jupyter": {
     "outputs_hidden": false
    },
    "pycharm": {
     "name": "#%%\n"
    }
   },
   "outputs": [
    {
     "data": {
      "text/plain": [
       "(tensor([  7.3790,   7.1874, -21.1222,  14.5005, -10.3309,  -3.9729,  11.7958,\n",
       "          13.8140,   4.8689,  -5.9807]),\n",
       " tensor([ 1.7384,  1.4906, -2.7460,  0.8728, -1.9983,  0.4970,  2.9859,  1.6976,\n",
       "         -0.0544,  0.4979]),\n",
       " tensor([  5.6405,   5.6968, -18.3762,  13.6276,  -8.3326,  -4.4699,   8.8099,\n",
       "          12.1164,   4.9233,  -6.4786]))"
      ]
     },
     "execution_count": 102,
     "metadata": {},
     "output_type": "execute_result"
    }
   ],
   "source": [
    "\"\"\"out\n",
    "i\n",
    "​\n",
    " =input\n",
    "i\n",
    "​\n",
    " +alpha×other\n",
    "i\n",
    "​\n",
    "\n",
    "\"\"\"\n",
    "a = torch.randn(10)\n",
    "b = torch.randn_like(a)\n",
    "c = torch.add(a, b, alpha=10)\n",
    "d = a + b\n",
    "c, d, c-d\n"
   ]
  },
  {
   "cell_type": "code",
   "execution_count": 103,
   "id": "922336bf",
   "metadata": {
    "collapsed": false,
    "jupyter": {
     "outputs_hidden": false
    },
    "pycharm": {
     "name": "#%%\n"
    }
   },
   "outputs": [
    {
     "data": {
      "text/plain": [
       "tensor([135.0001, 135.0001, -45.0000])"
      ]
     },
     "execution_count": 103,
     "metadata": {},
     "output_type": "execute_result"
    }
   ],
   "source": [
    "torch.angle(torch.tensor([-1+1j, -2+2j, 3-3j])) * 180 / 3.14159"
   ]
  },
  {
   "cell_type": "code",
   "execution_count": 104,
   "id": "80c65c7e",
   "metadata": {
    "collapsed": false,
    "jupyter": {
     "outputs_hidden": false
    },
    "pycharm": {
     "name": "#%%\n"
    }
   },
   "outputs": [
    {
     "data": {
      "text/plain": [
       "tensor([ 1, -1, -3], dtype=torch.int8)"
      ]
     },
     "execution_count": 104,
     "metadata": {},
     "output_type": "execute_result"
    }
   ],
   "source": [
    "torch.bitwise_not(torch.tensor([-2, 0, 2], dtype=torch.int8))"
   ]
  },
  {
   "cell_type": "code",
   "execution_count": 105,
   "id": "d3c18375",
   "metadata": {
    "collapsed": false,
    "jupyter": {
     "outputs_hidden": false
    },
    "pycharm": {
     "name": "#%%\n"
    }
   },
   "outputs": [
    {
     "data": {
      "text/plain": [
       "(1, -1, -3)"
      ]
     },
     "execution_count": 105,
     "metadata": {},
     "output_type": "execute_result"
    }
   ],
   "source": [
    "~-2, ~0, ~2"
   ]
  },
  {
   "cell_type": "code",
   "execution_count": 106,
   "id": "531b6ba5",
   "metadata": {
    "collapsed": false,
    "jupyter": {
     "outputs_hidden": false
    },
    "pycharm": {
     "name": "#%%\n"
    }
   },
   "outputs": [],
   "source": [
    "a = torch.tensor([-1, -2, 3], dtype=torch.int8)\n",
    "b = torch.tensor([1, 0, 13], dtype=torch.int8)"
   ]
  },
  {
   "cell_type": "code",
   "execution_count": 107,
   "id": "9f3edcbd",
   "metadata": {
    "collapsed": false,
    "jupyter": {
     "outputs_hidden": false
    },
    "pycharm": {
     "name": "#%%\n"
    }
   },
   "outputs": [
    {
     "data": {
      "text/plain": [
       "(tensor([-1, -2, 15], dtype=torch.int8),\n",
       " tensor([-1, -2, 15], dtype=torch.int8))"
      ]
     },
     "execution_count": 107,
     "metadata": {},
     "output_type": "execute_result"
    }
   ],
   "source": [
    "a | b, torch.bitwise_or(a, b)\n"
   ]
  },
  {
   "cell_type": "code",
   "execution_count": 108,
   "id": "1f49ee20",
   "metadata": {
    "collapsed": false,
    "jupyter": {
     "outputs_hidden": false
    },
    "pycharm": {
     "name": "#%%\n"
    }
   },
   "outputs": [
    {
     "data": {
      "text/plain": [
       "(tensor([1, 0, 1], dtype=torch.int8), tensor([1, 0, 1], dtype=torch.int8))"
      ]
     },
     "execution_count": 108,
     "metadata": {},
     "output_type": "execute_result"
    }
   ],
   "source": [
    "a & b, torch.bitwise_and(a, b)"
   ]
  },
  {
   "cell_type": "code",
   "execution_count": 109,
   "id": "fc22ebe2",
   "metadata": {
    "collapsed": false,
    "jupyter": {
     "outputs_hidden": false
    },
    "pycharm": {
     "name": "#%%\n"
    }
   },
   "outputs": [
    {
     "data": {
      "text/plain": [
       "(tensor([-2, -2, 14], dtype=torch.int8),\n",
       " tensor([-2, -2, 14], dtype=torch.int8))"
      ]
     },
     "execution_count": 109,
     "metadata": {},
     "output_type": "execute_result"
    }
   ],
   "source": [
    "a ^ b, torch.bitwise_xor(a, b)\n",
    "\n"
   ]
  },
  {
   "cell_type": "code",
   "execution_count": 110,
   "id": "5beb696b",
   "metadata": {
    "collapsed": false,
    "jupyter": {
     "outputs_hidden": false
    },
    "pycharm": {
     "name": "#%%\n"
    }
   },
   "outputs": [
    {
     "data": {
      "text/plain": [
       "(tensor([ 0,  1, -4], dtype=torch.int8),\n",
       " tensor([ 0,  1, -4], dtype=torch.int8))"
      ]
     },
     "execution_count": 110,
     "metadata": {},
     "output_type": "execute_result"
    }
   ],
   "source": [
    "~a, torch.bitwise_not(a)"
   ]
  },
  {
   "cell_type": "code",
   "execution_count": 111,
   "id": "440533d4",
   "metadata": {
    "collapsed": false,
    "jupyter": {
     "outputs_hidden": false
    },
    "pycharm": {
     "name": "#%%\n"
    }
   },
   "outputs": [
    {
     "data": {
      "text/plain": [
       "(tensor([-1, -1,  0], dtype=torch.int8),\n",
       " tensor([-1, -1,  0], dtype=torch.int8))"
      ]
     },
     "execution_count": 111,
     "metadata": {},
     "output_type": "execute_result"
    }
   ],
   "source": [
    "a >> 2, torch.bitwise_right_shift(a, 2)"
   ]
  },
  {
   "cell_type": "code",
   "execution_count": 112,
   "id": "fda177af",
   "metadata": {
    "collapsed": false,
    "jupyter": {
     "outputs_hidden": false
    },
    "pycharm": {
     "name": "#%%\n"
    }
   },
   "outputs": [
    {
     "data": {
      "text/plain": [
       "(tensor([-4, -8, 12], dtype=torch.int8),\n",
       " tensor([-4, -8, 12], dtype=torch.int8))"
      ]
     },
     "execution_count": 112,
     "metadata": {},
     "output_type": "execute_result"
    }
   ],
   "source": [
    "a << 2, torch.bitwise_left_shift(a, 2)"
   ]
  },
  {
   "cell_type": "code",
   "execution_count": 113,
   "id": "b97b2e8e",
   "metadata": {
    "collapsed": false,
    "jupyter": {
     "outputs_hidden": false
    },
    "pycharm": {
     "name": "#%%\n"
    }
   },
   "outputs": [
    {
     "data": {
      "text/plain": [
       "(tensor([-1.0068, -0.0583, -1.7446,  1.0425,  0.5845,  0.1460, -0.3792,  0.5689,\n",
       "         -2.2889,  0.1642]),\n",
       " tensor([-1., -0., -1.,  2.,  1.,  1., -0.,  1., -2.,  1.]))"
      ]
     },
     "execution_count": 113,
     "metadata": {},
     "output_type": "execute_result"
    }
   ],
   "source": [
    "x = torch.randn(10)\n",
    "y = torch.ceil(x)\n",
    "x, y"
   ]
  },
  {
   "cell_type": "code",
   "execution_count": 114,
   "id": "3e39ecff",
   "metadata": {
    "collapsed": false,
    "jupyter": {
     "outputs_hidden": false
    },
    "pycharm": {
     "name": "#%%\n"
    }
   },
   "outputs": [
    {
     "data": {
      "text/plain": [
       "tensor([-2., -1., -2.,  1.,  0.,  0., -1.,  0., -3.,  0.])"
      ]
     },
     "execution_count": 114,
     "metadata": {},
     "output_type": "execute_result"
    }
   ],
   "source": [
    "torch.floor(x)"
   ]
  },
  {
   "cell_type": "code",
   "execution_count": 115,
   "id": "49955b0c",
   "metadata": {
    "collapsed": false,
    "jupyter": {
     "outputs_hidden": false
    },
    "pycharm": {
     "name": "#%%\n"
    }
   },
   "outputs": [
    {
     "data": {
      "text/plain": [
       "tensor([-0.5000, -0.0583, -0.5000,  0.5000,  0.5000,  0.1460, -0.3792,  0.5000,\n",
       "        -0.5000,  0.1642])"
      ]
     },
     "execution_count": 115,
     "metadata": {},
     "output_type": "execute_result"
    }
   ],
   "source": [
    "torch.clamp(x, -0.5, 0.5)"
   ]
  },
  {
   "cell_type": "code",
   "execution_count": 116,
   "id": "5d64e7cd",
   "metadata": {
    "collapsed": false,
    "jupyter": {
     "outputs_hidden": false
    },
    "pycharm": {
     "name": "#%%\n"
    }
   },
   "outputs": [
    {
     "data": {
      "text/plain": [
       "tensor([-0.5000, -0.0583, -0.5000,  0.5000,  0.5000,  0.1460, -0.3792,  0.5000,\n",
       "        -0.5000,  0.1642])"
      ]
     },
     "execution_count": 116,
     "metadata": {},
     "output_type": "execute_result"
    }
   ],
   "source": [
    "torch.clip(x, -0.5, 0.5)\n"
   ]
  },
  {
   "cell_type": "code",
   "execution_count": 117,
   "id": "59eee0b4",
   "metadata": {
    "collapsed": false,
    "jupyter": {
     "outputs_hidden": false
    },
    "pycharm": {
     "name": "#%%\n"
    }
   },
   "outputs": [
    {
     "data": {
      "text/plain": [
       "tensor([-1.0000, -0.7778, -0.5556, -0.3333, -0.1111,  0.1111,  0.3333,  0.5556,\n",
       "         0.7778,  1.0000])"
      ]
     },
     "execution_count": 117,
     "metadata": {},
     "output_type": "execute_result"
    }
   ],
   "source": [
    "z = torch.linspace(-1, 1, steps=x.shape[0])\n",
    "z"
   ]
  },
  {
   "cell_type": "code",
   "execution_count": 118,
   "id": "5d8539c2",
   "metadata": {
    "collapsed": false,
    "jupyter": {
     "outputs_hidden": false
    },
    "pycharm": {
     "name": "#%%\n"
    }
   },
   "outputs": [
    {
     "data": {
      "text/plain": [
       "(tensor([-1.0068, -0.0583, -1.7446,  1.0425,  0.5845,  0.1460, -0.3792,  0.5689,\n",
       "         -2.2889,  0.1642]),\n",
       " tensor([-1.0000, -0.7778, -0.5556, -0.3333, -0.1111,  0.1111,  0.3333,  0.5556,\n",
       "          0.7778,  1.0000]),\n",
       " tensor([-1.0000, -0.0583, -0.5556,  1.0425,  0.5845,  0.1460,  0.3333,  0.5689,\n",
       "          0.7778,  1.0000]))"
      ]
     },
     "execution_count": 118,
     "metadata": {},
     "output_type": "execute_result"
    }
   ],
   "source": [
    "x, z, torch.clamp(x, min=z)"
   ]
  },
  {
   "cell_type": "code",
   "execution_count": 119,
   "id": "07207863",
   "metadata": {
    "collapsed": false,
    "jupyter": {
     "outputs_hidden": false
    },
    "pycharm": {
     "name": "#%%\n"
    }
   },
   "outputs": [
    {
     "data": {
      "text/plain": [
       "tensor([1.0068, 0.0583, 1.7446, 1.0425, 0.5845, 0.1460, 0.3792, 0.5689, 2.2889,\n",
       "        0.1642])"
      ]
     },
     "execution_count": 119,
     "metadata": {},
     "output_type": "execute_result"
    }
   ],
   "source": [
    "torch.copysign(x, 1)"
   ]
  },
  {
   "cell_type": "code",
   "execution_count": 120,
   "id": "dc52cbdd",
   "metadata": {
    "collapsed": false,
    "jupyter": {
     "outputs_hidden": false
    },
    "pycharm": {
     "name": "#%%\n"
    }
   },
   "outputs": [
    {
     "data": {
      "text/plain": [
       "tensor([-1.0068, -0.0583, -1.7446, -1.0425, -0.5845, -0.1460, -0.3792, -0.5689,\n",
       "        -2.2889, -0.1642])"
      ]
     },
     "execution_count": 120,
     "metadata": {},
     "output_type": "execute_result"
    }
   ],
   "source": [
    "torch.copysign(x, -1)"
   ]
  },
  {
   "cell_type": "code",
   "execution_count": 121,
   "id": "a85282c2",
   "metadata": {
    "collapsed": false,
    "jupyter": {
     "outputs_hidden": false
    },
    "pycharm": {
     "name": "#%%\n"
    }
   },
   "outputs": [
    {
     "data": {
      "text/plain": [
       "tensor([ -57.6827,   -3.3392,  -99.9559,   59.7323,   33.4912,    8.3656,\n",
       "         -21.7253,   32.5927, -131.1439,    9.4100])"
      ]
     },
     "execution_count": 121,
     "metadata": {},
     "output_type": "execute_result"
    }
   ],
   "source": [
    "torch.rad2deg(x)"
   ]
  },
  {
   "cell_type": "code",
   "execution_count": 122,
   "id": "7492a453",
   "metadata": {
    "collapsed": false,
    "jupyter": {
     "outputs_hidden": false
    },
    "pycharm": {
     "name": "#%%\n"
    }
   },
   "outputs": [
    {
     "data": {
      "text/plain": [
       "tensor([-0.0176, -0.0010, -0.0304,  0.0182,  0.0102,  0.0025, -0.0066,  0.0099,\n",
       "        -0.0399,  0.0029])"
      ]
     },
     "execution_count": 122,
     "metadata": {},
     "output_type": "execute_result"
    }
   ],
   "source": [
    "torch.deg2rad(x)\n",
    "\n"
   ]
  },
  {
   "cell_type": "code",
   "execution_count": 123,
   "id": "7cd7ae50",
   "metadata": {
    "collapsed": false,
    "jupyter": {
     "outputs_hidden": false
    },
    "pycharm": {
     "name": "#%%\n"
    }
   },
   "outputs": [
    {
     "data": {
      "text/plain": [
       "tensor([1.0068, 0.0000, 1.7446, 2.0850, 0.5845, 0.1460, 0.0000, 0.5689, 4.5778,\n",
       "        0.1642])"
      ]
     },
     "execution_count": 123,
     "metadata": {},
     "output_type": "execute_result"
    }
   ],
   "source": [
    "torch.mul(x, y)"
   ]
  },
  {
   "cell_type": "code",
   "execution_count": 124,
   "id": "621646e7",
   "metadata": {
    "collapsed": false,
    "jupyter": {
     "outputs_hidden": false
    },
    "pycharm": {
     "name": "#%%\n"
    }
   },
   "outputs": [
    {
     "data": {
      "text/plain": [
       "tensor([0.5000, 0.5000, 0.5000, 0.5000, 0.5000, 0.5000, 0.5000, 0.5000, 0.5000,\n",
       "        0.5000])"
      ]
     },
     "execution_count": 124,
     "metadata": {},
     "output_type": "execute_result"
    }
   ],
   "source": [
    "torch.div(x, 2*x)"
   ]
  },
  {
   "cell_type": "code",
   "execution_count": 125,
   "id": "360227f3",
   "metadata": {
    "collapsed": false,
    "jupyter": {
     "outputs_hidden": false
    },
    "pycharm": {
     "name": "#%%\n"
    }
   },
   "outputs": [],
   "source": [
    "y = torch.randn((x.numel(), 1))"
   ]
  },
  {
   "cell_type": "code",
   "execution_count": 126,
   "id": "d252514b",
   "metadata": {
    "collapsed": false,
    "jupyter": {
     "outputs_hidden": false
    },
    "pycharm": {
     "name": "#%%\n"
    }
   },
   "outputs": [
    {
     "data": {
      "text/plain": [
       "tensor([[-1.3639],\n",
       "        [-0.2790],\n",
       "        [ 1.1846],\n",
       "        [-0.5830],\n",
       "        [ 2.7489],\n",
       "        [ 0.1846],\n",
       "        [-0.4409],\n",
       "        [-0.9860],\n",
       "        [ 1.3114],\n",
       "        [-0.9555]])"
      ]
     },
     "execution_count": 126,
     "metadata": {},
     "output_type": "execute_result"
    }
   ],
   "source": [
    "y"
   ]
  },
  {
   "cell_type": "code",
   "execution_count": 127,
   "id": "57c95466",
   "metadata": {
    "collapsed": false,
    "jupyter": {
     "outputs_hidden": false
    },
    "pycharm": {
     "name": "#%%\n"
    }
   },
   "outputs": [
    {
     "data": {
      "text/plain": [
       "tensor([[  0.7381,   0.0427,   1.2791,  -0.7644,  -0.4286,  -0.1071,   0.2780,\n",
       "          -0.4171,   1.6782,  -0.1204],\n",
       "        [  3.6080,   0.2089,   6.2521,  -3.7362,  -2.0948,  -0.5233,   1.3589,\n",
       "          -2.0386,   8.2029,  -0.5886],\n",
       "        [ -0.8499,  -0.0492,  -1.4727,   0.8801,   0.4934,   0.1233,  -0.3201,\n",
       "           0.4802,  -1.9322,   0.1386],\n",
       "        [  1.7267,   0.1000,   2.9922,  -1.7881,  -1.0026,  -0.2504,   0.6504,\n",
       "          -0.9757,   3.9258,  -0.2817],\n",
       "        [ -0.3662,  -0.0212,  -0.6346,   0.3793,   0.2126,   0.0531,  -0.1379,\n",
       "           0.2069,  -0.8327,   0.0597],\n",
       "        [ -5.4528,  -0.3157,  -9.4489,   5.6466,   3.1660,   0.7908,  -2.0537,\n",
       "           3.0810, -12.3972,   0.8895],\n",
       "        [  2.2834,   0.1322,   3.9567,  -2.3645,  -1.3257,  -0.3312,   0.8600,\n",
       "          -1.2902,   5.1913,  -0.3725],\n",
       "        [  1.0210,   0.0591,   1.7693,  -1.0573,  -0.5928,  -0.1481,   0.3846,\n",
       "          -0.5769,   2.3214,  -0.1666],\n",
       "        [ -0.7677,  -0.0444,  -1.3303,   0.7950,   0.4457,   0.1113,  -0.2891,\n",
       "           0.4338,  -1.7454,   0.1252],\n",
       "        [  1.0536,   0.0610,   1.8258,  -1.0911,  -0.6117,  -0.1528,   0.3968,\n",
       "          -0.5953,   2.3954,  -0.1719]])"
      ]
     },
     "execution_count": 127,
     "metadata": {},
     "output_type": "execute_result"
    }
   ],
   "source": [
    "x / y"
   ]
  },
  {
   "cell_type": "code",
   "execution_count": 128,
   "id": "0f46e958",
   "metadata": {
    "collapsed": false,
    "jupyter": {
     "outputs_hidden": false
    },
    "pycharm": {
     "name": "#%%\n"
    }
   },
   "outputs": [
    {
     "data": {
      "text/plain": [
       "tensor([[  0.7381,   0.0427,   1.2791,  -0.7644,  -0.4286,  -0.1071,   0.2780,\n",
       "          -0.4171,   1.6782,  -0.1204],\n",
       "        [  3.6080,   0.2089,   6.2521,  -3.7362,  -2.0948,  -0.5233,   1.3589,\n",
       "          -2.0386,   8.2029,  -0.5886],\n",
       "        [ -0.8499,  -0.0492,  -1.4727,   0.8801,   0.4934,   0.1233,  -0.3201,\n",
       "           0.4802,  -1.9322,   0.1386],\n",
       "        [  1.7267,   0.1000,   2.9922,  -1.7881,  -1.0026,  -0.2504,   0.6504,\n",
       "          -0.9757,   3.9258,  -0.2817],\n",
       "        [ -0.3662,  -0.0212,  -0.6346,   0.3793,   0.2126,   0.0531,  -0.1379,\n",
       "           0.2069,  -0.8327,   0.0597],\n",
       "        [ -5.4528,  -0.3157,  -9.4489,   5.6466,   3.1660,   0.7908,  -2.0537,\n",
       "           3.0810, -12.3972,   0.8895],\n",
       "        [  2.2834,   0.1322,   3.9567,  -2.3645,  -1.3257,  -0.3312,   0.8600,\n",
       "          -1.2902,   5.1913,  -0.3725],\n",
       "        [  1.0210,   0.0591,   1.7693,  -1.0573,  -0.5928,  -0.1481,   0.3846,\n",
       "          -0.5769,   2.3214,  -0.1666],\n",
       "        [ -0.7677,  -0.0444,  -1.3303,   0.7950,   0.4457,   0.1113,  -0.2891,\n",
       "           0.4338,  -1.7454,   0.1252],\n",
       "        [  1.0536,   0.0610,   1.8258,  -1.0911,  -0.6117,  -0.1528,   0.3968,\n",
       "          -0.5953,   2.3954,  -0.1719]])"
      ]
     },
     "execution_count": 128,
     "metadata": {},
     "output_type": "execute_result"
    }
   ],
   "source": [
    "\n",
    "torch.div(x, y)"
   ]
  },
  {
   "cell_type": "code",
   "execution_count": 129,
   "id": "3fef806c",
   "metadata": {
    "collapsed": false,
    "jupyter": {
     "outputs_hidden": false
    },
    "pycharm": {
     "name": "#%%\n"
    }
   },
   "outputs": [
    {
     "data": {
      "text/plain": [
       "tensor([[  0.,   0.,   1.,  -0.,  -0.,  -0.,   0.,  -0.,   1.,  -0.],\n",
       "        [  3.,   0.,   6.,  -3.,  -2.,  -0.,   1.,  -2.,   8.,  -0.],\n",
       "        [ -0.,  -0.,  -1.,   0.,   0.,   0.,  -0.,   0.,  -1.,   0.],\n",
       "        [  1.,   0.,   2.,  -1.,  -1.,  -0.,   0.,  -0.,   3.,  -0.],\n",
       "        [ -0.,  -0.,  -0.,   0.,   0.,   0.,  -0.,   0.,  -0.,   0.],\n",
       "        [ -5.,  -0.,  -9.,   5.,   3.,   0.,  -2.,   3., -12.,   0.],\n",
       "        [  2.,   0.,   3.,  -2.,  -1.,  -0.,   0.,  -1.,   5.,  -0.],\n",
       "        [  1.,   0.,   1.,  -1.,  -0.,  -0.,   0.,  -0.,   2.,  -0.],\n",
       "        [ -0.,  -0.,  -1.,   0.,   0.,   0.,  -0.,   0.,  -1.,   0.],\n",
       "        [  1.,   0.,   1.,  -1.,  -0.,  -0.,   0.,  -0.,   2.,  -0.]])"
      ]
     },
     "execution_count": 129,
     "metadata": {},
     "output_type": "execute_result"
    }
   ],
   "source": [
    "torch.div(x, y, rounding_mode=\"trunc\")"
   ]
  },
  {
   "cell_type": "code",
   "execution_count": 130,
   "id": "473db953",
   "metadata": {
    "collapsed": false,
    "jupyter": {
     "outputs_hidden": false
    },
    "pycharm": {
     "name": "#%%\n"
    }
   },
   "outputs": [
    {
     "data": {
      "text/plain": [
       "tensor([[  0.,   0.,   1.,  -1.,  -1.,  -1.,   0.,  -1.,   1.,  -1.],\n",
       "        [  3.,   0.,   6.,  -4.,  -3.,  -1.,   1.,  -3.,   8.,  -1.],\n",
       "        [ -1.,  -1.,  -2.,   0.,   0.,   0.,  -1.,   0.,  -2.,   0.],\n",
       "        [  1.,   0.,   2.,  -2.,  -2.,  -1.,   0.,  -1.,   3.,  -1.],\n",
       "        [ -1.,  -1.,  -1.,   0.,   0.,   0.,  -1.,   0.,  -1.,   0.],\n",
       "        [ -6.,  -1., -10.,   5.,   3.,   0.,  -3.,   3., -13.,   0.],\n",
       "        [  2.,   0.,   3.,  -3.,  -2.,  -1.,   0.,  -2.,   5.,  -1.],\n",
       "        [  1.,   0.,   1.,  -2.,  -1.,  -1.,   0.,  -1.,   2.,  -1.],\n",
       "        [ -1.,  -1.,  -2.,   0.,   0.,   0.,  -1.,   0.,  -2.,   0.],\n",
       "        [  1.,   0.,   1.,  -2.,  -1.,  -1.,   0.,  -1.,   2.,  -1.]])"
      ]
     },
     "execution_count": 130,
     "metadata": {},
     "output_type": "execute_result"
    }
   ],
   "source": [
    "torch.div(x, y, rounding_mode=\"floor\")\n"
   ]
  },
  {
   "cell_type": "code",
   "execution_count": 131,
   "id": "68f06f38",
   "metadata": {
    "collapsed": false,
    "jupyter": {
     "outputs_hidden": false
    },
    "pycharm": {
     "name": "#%%\n"
    }
   },
   "outputs": [
    {
     "data": {
      "text/plain": [
       "(torch.Size([10]),\n",
       " torch.Size([10, 1]),\n",
       " torch.Size([10, 10]),\n",
       " torch.Size([10, 10]))"
      ]
     },
     "execution_count": 131,
     "metadata": {},
     "output_type": "execute_result"
    }
   ],
   "source": [
    "x.shape, y.shape, (x / y).shape, (x*y).shape"
   ]
  },
  {
   "cell_type": "code",
   "execution_count": 132,
   "id": "a1000f64",
   "metadata": {
    "collapsed": false,
    "jupyter": {
     "outputs_hidden": false
    },
    "pycharm": {
     "name": "#%%\n"
    }
   },
   "outputs": [
    {
     "data": {
      "text/plain": [
       "tensor([2.7183, 3.0377, 3.3947, 3.7937, 4.2395, 4.7377, 5.2945, 5.9167, 6.6120,\n",
       "        7.3891])"
      ]
     },
     "execution_count": 132,
     "metadata": {},
     "output_type": "execute_result"
    }
   ],
   "source": [
    "c = torch.logspace(1, 2, 10,\n",
    "                   base=torch.exp(torch.tensor(1.0)).item())\n",
    "c"
   ]
  },
  {
   "cell_type": "code",
   "execution_count": 133,
   "id": "4a14ae66",
   "metadata": {
    "collapsed": false,
    "jupyter": {
     "outputs_hidden": false
    },
    "pycharm": {
     "name": "#%%\n"
    }
   },
   "outputs": [
    {
     "data": {
      "text/plain": [
       "(tensor([2.7183, 3.0377, 3.3947, 3.7937, 4.2395, 4.7377, 5.2945, 5.9167, 6.6120,\n",
       "         7.3891]),\n",
       " tensor([  15.1543,   20.8579,   29.8064,   44.4190,   69.3729,  114.1733,\n",
       "          199.2360,  371.1823,  743.9826, 1618.1774]))"
      ]
     },
     "execution_count": 133,
     "metadata": {},
     "output_type": "execute_result"
    }
   ],
   "source": [
    "c, torch.exp(c)"
   ]
  },
  {
   "cell_type": "code",
   "execution_count": 134,
   "id": "e5d20184",
   "metadata": {
    "collapsed": false,
    "jupyter": {
     "outputs_hidden": false
    },
    "pycharm": {
     "name": "#%%\n"
    }
   },
   "outputs": [
    {
     "data": {
      "text/plain": [
       "tensor([  6.5809,   8.2120,  10.5175,  13.8678,  18.8893,  26.6806,  39.2464,\n",
       "         60.4091,  97.8173, 167.6206])"
      ]
     },
     "execution_count": 134,
     "metadata": {},
     "output_type": "execute_result"
    }
   ],
   "source": [
    "torch.special.exp2(c)"
   ]
  },
  {
   "cell_type": "code",
   "execution_count": 135,
   "id": "4b5cd8ee",
   "metadata": {
    "collapsed": false,
    "jupyter": {
     "outputs_hidden": false
    },
    "pycharm": {
     "name": "#%%\n"
    }
   },
   "outputs": [
    {
     "data": {
      "text/plain": [
       "tensor([  14.1543,   19.8579,   28.8064,   43.4190,   68.3729,  113.1733,\n",
       "         198.2360,  370.1823,  742.9826, 1617.1774])"
      ]
     },
     "execution_count": 135,
     "metadata": {},
     "output_type": "execute_result"
    }
   ],
   "source": [
    "torch.special.expm1(c)"
   ]
  },
  {
   "cell_type": "code",
   "execution_count": 136,
   "id": "3bc1b040",
   "metadata": {
    "collapsed": false,
    "jupyter": {
     "outputs_hidden": false
    },
    "pycharm": {
     "name": "#%%\n"
    }
   },
   "outputs": [],
   "source": [
    "# torch.special.logsumexp(c) # LSE"
   ]
  },
  {
   "cell_type": "code",
   "execution_count": 137,
   "id": "f5167988",
   "metadata": {
    "collapsed": false,
    "jupyter": {
     "outputs_hidden": false
    },
    "pycharm": {
     "name": "#%%\n"
    }
   },
   "outputs": [
    {
     "data": {
      "text/plain": [
       "(tensor([1.3133, 1.3957, 1.4804, 1.5673, 1.6562, 1.7471, 1.8397, 1.9339, 2.0297,\n",
       "         2.1269]),\n",
       " tensor([1.3133, 1.3957, 1.4804, 1.5673, 1.6562, 1.7471, 1.8397, 1.9339, 2.0297,\n",
       "         2.1269]))"
      ]
     },
     "execution_count": 137,
     "metadata": {},
     "output_type": "execute_result"
    }
   ],
   "source": [
    "torch.log1p(c),  torch.log( 1 + c)\n"
   ]
  },
  {
   "cell_type": "code",
   "execution_count": 138,
   "id": "6f81feeb",
   "metadata": {
    "collapsed": false,
    "jupyter": {
     "outputs_hidden": false
    },
    "pycharm": {
     "name": "#%%\n"
    }
   },
   "outputs": [
    {
     "data": {
      "text/plain": [
       "(tensor([-1.0068, -0.0583, -1.7446,  1.0425,  0.5845,  0.1460, -0.3792,  0.5689,\n",
       "         -2.2889,  0.1642]),\n",
       " tensor([-1., -0., -1.,  1.,  0.,  0., -0.,  0., -2.,  0.]),\n",
       " tensor([-2., -1., -2.,  1.,  0.,  0., -1.,  0., -3.,  0.]))"
      ]
     },
     "execution_count": 138,
     "metadata": {},
     "output_type": "execute_result"
    }
   ],
   "source": [
    "x, torch.trunc(x), torch.floor(x)\n"
   ]
  },
  {
   "cell_type": "code",
   "execution_count": null,
   "id": "0e2c6804",
   "metadata": {
    "collapsed": false,
    "jupyter": {
     "outputs_hidden": false
    },
    "pycharm": {
     "name": "#%%\n"
    }
   },
   "outputs": [],
   "source": []
  },
  {
   "cell_type": "code",
   "execution_count": 139,
   "id": "d5368b59",
   "metadata": {
    "collapsed": false,
    "jupyter": {
     "outputs_hidden": false
    },
    "pycharm": {
     "name": "#%%\n"
    }
   },
   "outputs": [
    {
     "data": {
      "text/plain": [
       "tensor([5, 5, 8, 2])"
      ]
     },
     "execution_count": 139,
     "metadata": {},
     "output_type": "execute_result"
    }
   ],
   "source": [
    "a = torch.randint(10, (4, ))\n",
    "a"
   ]
  },
  {
   "cell_type": "code",
   "execution_count": 140,
   "id": "a899cf14",
   "metadata": {
    "collapsed": false,
    "jupyter": {
     "outputs_hidden": false
    },
    "pycharm": {
     "name": "#%%\n"
    }
   },
   "outputs": [
    {
     "data": {
      "text/plain": [
       "(tensor([25., 25., 64.,  4.], dtype=torch.float64),\n",
       " tensor([25, 25, 64,  4]),\n",
       " tensor([25, 25, 64,  4]))"
      ]
     },
     "execution_count": 140,
     "metadata": {},
     "output_type": "execute_result"
    }
   ],
   "source": [
    "torch.float_power(a, 2) , a**2, torch.pow(a, 2)"
   ]
  },
  {
   "cell_type": "code",
   "execution_count": 141,
   "id": "c5ab3818",
   "metadata": {
    "collapsed": false,
    "jupyter": {
     "outputs_hidden": false
    },
    "pycharm": {
     "name": "#%%\n"
    }
   },
   "outputs": [
    {
     "data": {
      "text/plain": [
       "(tensor([ -7.2709,  -2.6744,  -4.5113,  -6.7455,  -7.9241,   4.2573,  -8.3328,\n",
       "          -8.2041,   1.0384, -20.4137]),\n",
       " tensor([-0.2709, -0.6744, -0.5113, -0.7455, -0.9241,  0.2573, -0.3328, -0.2041,\n",
       "          0.0384, -0.4137]))"
      ]
     },
     "execution_count": 141,
     "metadata": {},
     "output_type": "execute_result"
    }
   ],
   "source": [
    "z = torch.normal(mean=torch.ones((10, )) * -5.0,\n",
    "                 std= torch.linspace(1, 10, 10))\n",
    "\n",
    "z, torch.frac(z)"
   ]
  },
  {
   "cell_type": "code",
   "execution_count": 142,
   "id": "ee707b1d",
   "metadata": {
    "collapsed": false,
    "jupyter": {
     "outputs_hidden": false
    },
    "pycharm": {
     "name": "#%%\n"
    }
   },
   "outputs": [
    {
     "data": {
      "text/plain": [
       "(tensor([1, 3, 5, 7, 9]), tensor([0, 2, 4, 6, 8]))"
      ]
     },
     "execution_count": 142,
     "metadata": {},
     "output_type": "execute_result"
    }
   ],
   "source": [
    "x = torch.arange(1, 10, 2)\n",
    "z = torch.arange(0, 10, 2)\n",
    "x, z\n"
   ]
  },
  {
   "cell_type": "code",
   "execution_count": 143,
   "id": "f3c7af8e",
   "metadata": {
    "collapsed": false,
    "jupyter": {
     "outputs_hidden": false
    },
    "pycharm": {
     "name": "#%%\n"
    }
   },
   "outputs": [],
   "source": [
    "y = 2 * z"
   ]
  },
  {
   "cell_type": "code",
   "execution_count": 144,
   "id": "a6f23dba",
   "metadata": {
    "collapsed": false,
    "jupyter": {
     "outputs_hidden": false
    },
    "pycharm": {
     "name": "#%%\n"
    }
   },
   "outputs": [
    {
     "data": {
      "text/plain": [
       "(tensor([2., 2., 2., 2., 2.]),)"
      ]
     },
     "execution_count": 144,
     "metadata": {},
     "output_type": "execute_result"
    }
   ],
   "source": [
    "torch.gradient(y, spacing=(z, ))"
   ]
  },
  {
   "cell_type": "code",
   "execution_count": 145,
   "id": "b7893957",
   "metadata": {
    "collapsed": false,
    "jupyter": {
     "outputs_hidden": false
    },
    "pycharm": {
     "name": "#%%\n"
    }
   },
   "outputs": [],
   "source": [
    "mat = torch.randint(0, 10, size=(10, 5))\n"
   ]
  },
  {
   "cell_type": "code",
   "execution_count": 146,
   "id": "90ed8c44",
   "metadata": {
    "collapsed": false,
    "jupyter": {
     "outputs_hidden": false
    },
    "pycharm": {
     "name": "#%%\n"
    }
   },
   "outputs": [
    {
     "data": {
      "text/plain": [
       "tensor([[1, 3, 6, 1, 7],\n",
       "        [0, 5, 3, 5, 3],\n",
       "        [7, 5, 4, 2, 3],\n",
       "        [7, 3, 9, 1, 3],\n",
       "        [7, 0, 9, 9, 1],\n",
       "        [8, 8, 1, 9, 1],\n",
       "        [5, 5, 4, 5, 6],\n",
       "        [8, 3, 7, 3, 6],\n",
       "        [3, 8, 2, 7, 2],\n",
       "        [1, 1, 0, 6, 8]])"
      ]
     },
     "execution_count": 146,
     "metadata": {},
     "output_type": "execute_result"
    }
   ],
   "source": [
    "mat"
   ]
  },
  {
   "cell_type": "code",
   "execution_count": 147,
   "id": "a77e484c",
   "metadata": {
    "collapsed": false,
    "jupyter": {
     "outputs_hidden": false
    },
    "pycharm": {
     "name": "#%%\n"
    }
   },
   "outputs": [
    {
     "data": {
      "text/plain": [
       "tensor([ 92,  76,  62,  72,  98,  82, 104, 100,  82, 102])"
      ]
     },
     "execution_count": 147,
     "metadata": {},
     "output_type": "execute_result"
    }
   ],
   "source": [
    "w = torch.matmul(mat, z)\n",
    "w"
   ]
  },
  {
   "cell_type": "code",
   "execution_count": 148,
   "id": "ab853b4a",
   "metadata": {
    "collapsed": false,
    "jupyter": {
     "outputs_hidden": false
    },
    "pycharm": {
     "name": "#%%\n"
    }
   },
   "outputs": [
    {
     "data": {
      "text/plain": [
       "tensor([ 0.6288+0.0533j, -0.4901+0.7358j, -1.0048+0.5569j,  0.7986+0.6270j])"
      ]
     },
     "execution_count": 148,
     "metadata": {},
     "output_type": "execute_result"
    }
   ],
   "source": [
    "x=torch.randn(4, dtype=torch.cfloat)\n",
    "x"
   ]
  },
  {
   "cell_type": "code",
   "execution_count": 149,
   "id": "f4c779ad",
   "metadata": {
    "collapsed": false,
    "jupyter": {
     "outputs_hidden": false
    },
    "pycharm": {
     "name": "#%%\n"
    }
   },
   "outputs": [
    {
     "data": {
      "text/plain": [
       "tensor([0.0533, 0.7358, 0.5569, 0.6270])"
      ]
     },
     "execution_count": 149,
     "metadata": {},
     "output_type": "execute_result"
    }
   ],
   "source": [
    "x.imag\n"
   ]
  },
  {
   "cell_type": "code",
   "execution_count": 150,
   "id": "ecbf3f37",
   "metadata": {
    "collapsed": false,
    "jupyter": {
     "outputs_hidden": false
    },
    "pycharm": {
     "name": "#%%\n"
    }
   },
   "outputs": [
    {
     "data": {
      "text/plain": [
       "(tensor([1, 2, 3, 4]), tensor([10., 10., 10., 10.]))"
      ]
     },
     "execution_count": 150,
     "metadata": {},
     "output_type": "execute_result"
    }
   ],
   "source": [
    "start = torch.arange(1, 5)\n",
    "end = torch.empty(4).fill_(10)\n",
    "start, end"
   ]
  },
  {
   "cell_type": "code",
   "execution_count": 151,
   "id": "fb69de83",
   "metadata": {
    "collapsed": false,
    "jupyter": {
     "outputs_hidden": false
    },
    "pycharm": {
     "name": "#%%\n"
    }
   },
   "outputs": [
    {
     "data": {
      "text/plain": [
       "tensor([5.5000, 6.0000, 6.5000, 7.0000])"
      ]
     },
     "execution_count": 151,
     "metadata": {},
     "output_type": "execute_result"
    }
   ],
   "source": [
    "start = torch.arange(1, 5.)\n",
    "end = torch.empty(4).fill_(10.)\n",
    "\n",
    "x = torch.lerp(start, end, 0.5)\n",
    "x"
   ]
  },
  {
   "cell_type": "code",
   "execution_count": 152,
   "id": "86b97246",
   "metadata": {
    "collapsed": false,
    "jupyter": {
     "outputs_hidden": false
    },
    "pycharm": {
     "name": "#%%\n"
    }
   },
   "outputs": [
    {
     "data": {
      "text/plain": [
       "tensor([5.5000, 6.0000, 6.5000, 7.0000])"
      ]
     },
     "execution_count": 152,
     "metadata": {},
     "output_type": "execute_result"
    }
   ],
   "source": [
    "y = torch.lgamma(x)\n",
    "x"
   ]
  },
  {
   "cell_type": "code",
   "execution_count": 153,
   "id": "02ed245e",
   "metadata": {
    "collapsed": false,
    "jupyter": {
     "outputs_hidden": false
    },
    "pycharm": {
     "name": "#%%\n"
    }
   },
   "outputs": [
    {
     "data": {
      "text/plain": [
       "tensor([0.0000, 0.6931, 1.0986, 2.3026])"
      ]
     },
     "execution_count": 153,
     "metadata": {},
     "output_type": "execute_result"
    }
   ],
   "source": [
    "z = torch.log(torch.tensor([1.0, 2, 3, 10]))\n",
    "\n",
    "z"
   ]
  },
  {
   "cell_type": "code",
   "execution_count": 154,
   "id": "6ded2005",
   "metadata": {
    "collapsed": false,
    "jupyter": {
     "outputs_hidden": false
    },
    "pycharm": {
     "name": "#%%\n"
    }
   },
   "outputs": [
    {
     "data": {
      "text/plain": [
       "(tensor([2.4594, 2.5850, 2.7004, 2.8074]),\n",
       " tensor([0.7404, 0.7782, 0.8129, 0.8451]))"
      ]
     },
     "execution_count": 154,
     "metadata": {},
     "output_type": "execute_result"
    }
   ],
   "source": [
    "torch.log2(x), torch.log10(x)"
   ]
  },
  {
   "cell_type": "code",
   "execution_count": 155,
   "id": "320268f4",
   "metadata": {
    "collapsed": false,
    "jupyter": {
     "outputs_hidden": false
    },
    "pycharm": {
     "name": "#%%\n"
    }
   },
   "outputs": [
    {
     "data": {
      "text/plain": [
       "tensor([0.6931, 1.3863, 1.7918], dtype=torch.float64)"
      ]
     },
     "execution_count": 155,
     "metadata": {},
     "output_type": "execute_result"
    }
   ],
   "source": [
    "\"\"\"log(e**x  +  e**y)\"\"\"\n",
    "a = torch.tensor([np.log(1.0), np.log(2), np.log(3)])\n",
    "x = torch.logaddexp(a, a)\n",
    "x"
   ]
  },
  {
   "cell_type": "code",
   "execution_count": 156,
   "id": "8ccc7731",
   "metadata": {
    "collapsed": false,
    "jupyter": {
     "outputs_hidden": false
    },
    "pycharm": {
     "name": "#%%\n"
    }
   },
   "outputs": [
    {
     "data": {
      "text/plain": [
       "tensor([False,  True,  True])"
      ]
     },
     "execution_count": 156,
     "metadata": {},
     "output_type": "execute_result"
    }
   ],
   "source": [
    "torch.logical_and(a, a)"
   ]
  },
  {
   "cell_type": "code",
   "execution_count": 157,
   "id": "eef21f1c",
   "metadata": {
    "collapsed": false,
    "jupyter": {
     "outputs_hidden": false
    },
    "pycharm": {
     "name": "#%%\n"
    }
   },
   "outputs": [
    {
     "data": {
      "text/plain": [
       "tensor([False,  True,  True])"
      ]
     },
     "execution_count": 157,
     "metadata": {},
     "output_type": "execute_result"
    }
   ],
   "source": [
    "torch.logical_or(a, a)\n"
   ]
  },
  {
   "cell_type": "code",
   "execution_count": 158,
   "id": "e959bd5e",
   "metadata": {
    "collapsed": false,
    "jupyter": {
     "outputs_hidden": false
    },
    "pycharm": {
     "name": "#%%\n"
    }
   },
   "outputs": [
    {
     "data": {
      "text/plain": [
       "tensor(2.)"
      ]
     },
     "execution_count": 158,
     "metadata": {},
     "output_type": "execute_result"
    }
   ],
   "source": [
    "torch.log2(torch.tensor(4))"
   ]
  },
  {
   "cell_type": "code",
   "execution_count": 159,
   "id": "0ae2e2c7",
   "metadata": {
    "collapsed": false,
    "jupyter": {
     "outputs_hidden": false
    },
    "pycharm": {
     "name": "#%%\n"
    }
   },
   "outputs": [
    {
     "data": {
      "text/plain": [
       "tensor(1.)"
      ]
     },
     "execution_count": 159,
     "metadata": {},
     "output_type": "execute_result"
    }
   ],
   "source": [
    "torch.log10(torch.tensor(10))"
   ]
  },
  {
   "cell_type": "code",
   "execution_count": 160,
   "id": "cb4a15cb",
   "metadata": {
    "collapsed": false,
    "jupyter": {
     "outputs_hidden": false
    },
    "pycharm": {
     "name": "#%%\n"
    }
   },
   "outputs": [
    {
     "data": {
      "text/plain": [
       "(tensor([0.6931, 1.0986, 1.3863, 1.6094, 1.7918]),\n",
       " tensor([0.6931, 1.0986, 1.3863, 1.6094, 1.7918]))"
      ]
     },
     "execution_count": 160,
     "metadata": {},
     "output_type": "execute_result"
    }
   ],
   "source": [
    "a = torch.arange(1, 6.)\n",
    "torch.log1p(a), torch.log(1 + a)"
   ]
  },
  {
   "cell_type": "code",
   "execution_count": 161,
   "id": "ce64e642",
   "metadata": {
    "collapsed": false,
    "jupyter": {
     "outputs_hidden": false
    },
    "pycharm": {
     "name": "#%%\n"
    }
   },
   "outputs": [
    {
     "data": {
      "text/plain": [
       "(tensor([0.0290, 0.0257, 0.0531, 0.0987, 0.3532]),\n",
       " tensor([-3.5107, -3.6333, -2.8811, -2.2121, -0.6051]))"
      ]
     },
     "execution_count": 161,
     "metadata": {},
     "output_type": "execute_result"
    }
   ],
   "source": [
    "a = torch.rand((5, ))\n",
    "\"\"\"Inverse of sigmoid = sigmoid^(-1)(x)\"\"\"\n",
    "x = torch.logit(a, eps=1e-7)\n",
    "a, x"
   ]
  },
  {
   "cell_type": "code",
   "execution_count": 162,
   "id": "a757a060",
   "metadata": {
    "collapsed": false,
    "jupyter": {
     "outputs_hidden": false
    },
    "pycharm": {
     "name": "#%%\n"
    }
   },
   "outputs": [
    {
     "data": {
      "text/plain": [
       "tensor([-3.5107, -3.6333, -2.8811, -2.2121, -0.6051])"
      ]
     },
     "execution_count": 162,
     "metadata": {},
     "output_type": "execute_result"
    }
   ],
   "source": [
    "torch.special.logit(a)"
   ]
  },
  {
   "cell_type": "code",
   "execution_count": 163,
   "id": "8614a4f6",
   "metadata": {
    "collapsed": false,
    "jupyter": {
     "outputs_hidden": false
    },
    "pycharm": {
     "name": "#%%\n"
    }
   },
   "outputs": [
    {
     "data": {
      "text/plain": [
       "tensor([1.7294])"
      ]
     },
     "execution_count": 163,
     "metadata": {},
     "output_type": "execute_result"
    }
   ],
   "source": [
    "torch.special.logsumexp(a, 0, keepdim=True)"
   ]
  },
  {
   "cell_type": "code",
   "execution_count": 164,
   "id": "a626fe76",
   "metadata": {
    "collapsed": false,
    "jupyter": {
     "outputs_hidden": false
    },
    "pycharm": {
     "name": "#%%\n"
    }
   },
   "outputs": [
    {
     "data": {
      "text/plain": [
       "tensor([-1.7004, -1.7037, -1.6763, -1.6307, -1.3762])"
      ]
     },
     "execution_count": 164,
     "metadata": {},
     "output_type": "execute_result"
    }
   ],
   "source": [
    "torch.special.log_softmax(a, 0)"
   ]
  },
  {
   "cell_type": "code",
   "execution_count": 165,
   "id": "dda69b0b",
   "metadata": {
    "collapsed": false,
    "jupyter": {
     "outputs_hidden": false
    },
    "pycharm": {
     "name": "#%%\n"
    }
   },
   "outputs": [
    {
     "data": {
      "text/plain": [
       "tensor([5.0000, 5.6569, 6.4031])"
      ]
     },
     "execution_count": 165,
     "metadata": {},
     "output_type": "execute_result"
    }
   ],
   "source": [
    "a = torch.hypot(torch.tensor([4.0]), torch.tensor([3.0, 4.0, 5.0]))\n",
    "a"
   ]
  },
  {
   "cell_type": "code",
   "execution_count": 166,
   "id": "ae255ab9",
   "metadata": {
    "collapsed": false,
    "jupyter": {
     "outputs_hidden": false
    },
    "pycharm": {
     "name": "#%%\n"
    }
   },
   "outputs": [
    {
     "data": {
      "text/plain": [
       "(tensor([[ 0.8733, -0.1694, -0.6686],\n",
       "         [ 2.5879, -1.1164, -0.1450],\n",
       "         [-0.0334,  0.8912,  0.3700],\n",
       "         [-0.7426, -0.4579, -1.7458]]),\n",
       " tensor([[ 1.0611, -1.0127, -1.0582]]),\n",
       " tensor([[ 0.8733, -0.1694, -0.6686],\n",
       "         [ 2.5879, -1.1164, -0.1450],\n",
       "         [-0.0334,  0.8912,  0.3700],\n",
       "         [-0.7426, -0.4579, -1.7458]]))"
      ]
     },
     "execution_count": 166,
     "metadata": {},
     "output_type": "execute_result"
    }
   ],
   "source": [
    "a = torch.randn((4, 3))\n",
    "b = torch.randn((1, 3))\n",
    "c = torch.mul(a, torch.div(b, b))\n",
    "a, b, c"
   ]
  },
  {
   "cell_type": "code",
   "execution_count": 167,
   "id": "e41e1984",
   "metadata": {
    "collapsed": false,
    "jupyter": {
     "outputs_hidden": false
    },
    "pycharm": {
     "name": "#%%\n"
    }
   },
   "outputs": [
    {
     "data": {
      "text/plain": [
       "tensor([[-0.4693, -0.2679,  0.2850, -0.2720],\n",
       "        [-0.8004, -0.4570,  0.4862, -0.4639],\n",
       "        [-1.0237, -0.5844,  0.6218, -0.5933],\n",
       "        [-0.2175, -0.1242,  0.1321, -0.1261]])"
      ]
     },
     "execution_count": 167,
     "metadata": {},
     "output_type": "execute_result"
    }
   ],
   "source": [
    "torch.multiply(torch.randn((4, 1)), torch.randn((1, 4)))"
   ]
  },
  {
   "cell_type": "code",
   "execution_count": 168,
   "id": "37314f8c",
   "metadata": {
    "collapsed": false,
    "jupyter": {
     "outputs_hidden": false
    },
    "pycharm": {
     "name": "#%%\n"
    }
   },
   "outputs": [
    {
     "data": {
      "text/plain": [
       "(torch.Size([100, 10]), torch.Size([100, 10]), torch.Size([1, 100, 10]))"
      ]
     },
     "execution_count": 168,
     "metadata": {},
     "output_type": "execute_result"
    }
   ],
   "source": [
    "mat = torch.randn((100, 50))\n",
    "weights = torch.randn((50, 10))\n",
    "\n",
    "out = torch.einsum(\"ij, jk -> ik\", mat, weights)\n",
    "out2 = torch.matmul(mat, weights)\n",
    "out3 = torch.matmul(mat, torch.reshape(weights, (1, weights.shape[0], weights.shape[-1])))\n",
    "out.shape, out2.shape, out3.shape"
   ]
  },
  {
   "cell_type": "code",
   "execution_count": 169,
   "id": "d80c2c76",
   "metadata": {
    "collapsed": false,
    "jupyter": {
     "outputs_hidden": false
    },
    "pycharm": {
     "name": "#%%\n"
    }
   },
   "outputs": [
    {
     "data": {
      "text/plain": [
       "torch.Size([100, 50])"
      ]
     },
     "execution_count": 169,
     "metadata": {},
     "output_type": "execute_result"
    }
   ],
   "source": [
    "mat = torch.randn((100, 50))\n",
    "weights = torch.randn((50,))\n",
    "\n",
    "out = torch.multiply(mat, weights)\n",
    "out.shape"
   ]
  },
  {
   "cell_type": "code",
   "execution_count": 170,
   "id": "be334245",
   "metadata": {
    "collapsed": false,
    "jupyter": {
     "outputs_hidden": false
    },
    "pycharm": {
     "name": "#%%\n"
    }
   },
   "outputs": [
    {
     "data": {
      "text/plain": [
       "torch.Size([5])"
      ]
     },
     "execution_count": 170,
     "metadata": {},
     "output_type": "execute_result"
    }
   ],
   "source": [
    "out = torch.matmul(torch.randn(100), torch.randn((100, 5)))\n",
    "out.size()"
   ]
  },
  {
   "cell_type": "code",
   "execution_count": 171,
   "id": "fa76b2f7",
   "metadata": {
    "collapsed": false,
    "jupyter": {
     "outputs_hidden": false
    },
    "pycharm": {
     "name": "#%%\n"
    }
   },
   "outputs": [
    {
     "name": "stdout",
     "output_type": "stream",
     "text": [
      "tensor([-1.4982,  0.0207, -0.8316,  0.0661, -0.5382, -0.3427,  0.2333, -0.5733,\n",
      "        -0.3469, -0.1285])\n",
      "tensor([ 0.1167,  0.0220,  0.0563,  0.6478,  0.2594,  0.1649,  0.0123, -0.4254,\n",
      "         0.9684, -0.4800])\n",
      "tensor([-0.1748,  0.0005, -0.0469,  0.0428, -0.1396, -0.0565,  0.0029,  0.2439,\n",
      "        -0.3359,  0.0617])\n",
      "tensor(-0.4020) torch.Size([10])\n",
      "tensor(-0.4020)\n"
     ]
    }
   ],
   "source": [
    "x = torch.randn(10)\n",
    "y = torch.randn(10)\n",
    "print(x)\n",
    "print(y)\n",
    "print(x*y)\n",
    "print(torch.matmul(x, y.T), y.T.shape)\n",
    "print(torch.matmul(x, y))"
   ]
  },
  {
   "cell_type": "code",
   "execution_count": 172,
   "id": "b878a2ca",
   "metadata": {
    "collapsed": false,
    "jupyter": {
     "outputs_hidden": false
    },
    "pycharm": {
     "name": "#%%\n"
    }
   },
   "outputs": [
    {
     "name": "stdout",
     "output_type": "stream",
     "text": [
      "tensor([[-0.3747, -1.5817, -1.3022],\n",
      "        [-0.7510, -0.3534,  0.4367],\n",
      "        [ 0.6360, -0.5406, -0.0478],\n",
      "        [ 1.2996, -0.3324, -0.3114]])\n",
      "tensor([[-0.1443,  0.2048,  1.3460],\n",
      "        [ 0.3340, -1.2798,  1.8885],\n",
      "        [-0.9498,  0.1028,  0.5047],\n",
      "        [ 1.3814,  0.8677, -0.2459]])\n",
      "tensor([[ 0.0541, -0.3239, -1.7528],\n",
      "        [-0.2508,  0.4523,  0.8246],\n",
      "        [-0.6040, -0.0556, -0.0241],\n",
      "        [ 1.7952, -0.2884,  0.0766]])\n",
      "tensor([[-2.0226, -0.5601, -0.4640, -1.5699],\n",
      "        [ 0.6238,  1.0261,  0.8974, -1.4514],\n",
      "        [-0.2668,  0.8140, -0.6837,  0.4212],\n",
      "        [-0.6747,  0.2714, -1.4257,  1.5833]])\n"
     ]
    }
   ],
   "source": [
    "x = torch.randn((4, 3))\n",
    "y = torch.randn((4, 3))\n",
    "print(x)\n",
    "print(y)\n",
    "print(x*y)\n",
    "print(torch.matmul(x, y.T))"
   ]
  },
  {
   "cell_type": "code",
   "execution_count": 173,
   "id": "596e8c74",
   "metadata": {
    "collapsed": false,
    "jupyter": {
     "outputs_hidden": false
    },
    "pycharm": {
     "name": "#%%\n"
    }
   },
   "outputs": [
    {
     "name": "stdout",
     "output_type": "stream",
     "text": [
      "torch.Size([2])\n"
     ]
    }
   ],
   "source": [
    "x = torch.randn(10)\n",
    "y = torch.randn((10, 2))\n",
    "z = torch.matmul(x, y)\n",
    "print(z.shape)"
   ]
  },
  {
   "cell_type": "code",
   "execution_count": 174,
   "id": "1e620a97",
   "metadata": {
    "collapsed": false,
    "jupyter": {
     "outputs_hidden": false
    },
    "pycharm": {
     "name": "#%%\n"
    }
   },
   "outputs": [
    {
     "data": {
      "text/plain": [
       "torch.Size([3, 4, 2, 2])"
      ]
     },
     "execution_count": 174,
     "metadata": {},
     "output_type": "execute_result"
    }
   ],
   "source": [
    "j, k, n = 3, 4, 2\n",
    "\n",
    "x = torch.randn((j, 1, n, n))\n",
    "y = torch.randn((k, n, n))\n",
    "z = torch.matmul(x, y)\n",
    "z.shape"
   ]
  },
  {
   "cell_type": "code",
   "execution_count": 175,
   "id": "4733577a",
   "metadata": {
    "collapsed": false,
    "jupyter": {
     "outputs_hidden": false
    },
    "pycharm": {
     "name": "#%%\n"
    }
   },
   "outputs": [
    {
     "data": {
      "text/plain": [
       "torch.Size([10, 3, 5])"
      ]
     },
     "execution_count": 175,
     "metadata": {},
     "output_type": "execute_result"
    }
   ],
   "source": [
    "x = torch.randn(10, 3, 4)\n",
    "y = torch.randn(4, 5)\n",
    "\n",
    "z = torch.matmul(x, y).size()\n",
    "z"
   ]
  },
  {
   "cell_type": "code",
   "execution_count": 176,
   "id": "d2478ff3",
   "metadata": {
    "collapsed": false,
    "jupyter": {
     "outputs_hidden": false
    },
    "pycharm": {
     "name": "#%%\n"
    }
   },
   "outputs": [
    {
     "data": {
      "text/plain": [
       "(tensor([-1., -2., -3., -4., -5., -6., -7., -8., -9.]),\n",
       " tensor([-1., -2., -3., -4., -5., -6., -7., -8., -9.]))"
      ]
     },
     "execution_count": 176,
     "metadata": {},
     "output_type": "execute_result"
    }
   ],
   "source": [
    "torch.neg(torch.arange(1, 10.)), -torch.arange(1, 10.0)\n",
    "\n"
   ]
  },
  {
   "cell_type": "code",
   "execution_count": 177,
   "id": "a53d83b9-4f5d-4fd4-9921-d4cb38e79d32",
   "metadata": {
    "pycharm": {
     "name": "#%%\n"
    }
   },
   "outputs": [
    {
     "data": {
      "text/plain": [
       "(tensor([ 1.,  4.,  9., 16., 25., 36., 49., 64., 81.]),\n",
       " tensor([ 1.0000,  2.6390,  4.6555,  6.9644,  9.5183, 12.2860, 15.2453, 18.3792,\n",
       "         21.6740]),\n",
       " tensor([ 1.0000,  2.6390,  4.6555,  6.9644,  9.5183, 12.2860, 15.2453, 18.3792,\n",
       "         21.6740]),\n",
       " tensor([1.0000e+00, 4.0000e+00, 2.7000e+01, 2.5600e+02, 3.1250e+03, 4.6656e+04,\n",
       "         8.2354e+05, 1.6777e+07, 3.8742e+08]),\n",
       " tensor([1.0000e+00, 4.0000e+00, 2.7000e+01, 2.5600e+02, 3.1250e+03, 4.6656e+04,\n",
       "         8.2354e+05, 1.6777e+07, 3.8742e+08]))"
      ]
     },
     "execution_count": 177,
     "metadata": {},
     "output_type": "execute_result"
    }
   ],
   "source": [
    "x = torch.arange(1.0, 10.0)\n",
    "y = torch.arange(1, 10)\n",
    "torch.pow(x, 2), torch.pow(x, 1.4), x**1.4, torch.pow(x, y), x**y"
   ]
  },
  {
   "cell_type": "code",
   "execution_count": 178,
   "id": "8fe9450a-59e0-4ce6-95f8-db37e944a598",
   "metadata": {
    "pycharm": {
     "name": "#%%\n"
    }
   },
   "outputs": [
    {
     "data": {
      "text/plain": [
       "tensor([[[[1.5000, 0.0000],\n",
       "          [1.5000, 1.5000]],\n",
       "\n",
       "         [[0.0000, 0.0000],\n",
       "          [0.0000, 0.0000]]],\n",
       "\n",
       "\n",
       "        [[[0.0000, 0.0000],\n",
       "          [0.0000, 0.0000]],\n",
       "\n",
       "         [[0.0000, 1.5000],\n",
       "          [1.5000, 0.0000]]]], size=(2, 2, 2, 2), dtype=torch.quint8,\n",
       "       quantization_scheme=torch.per_tensor_affine, scale=1.5, zero_point=3)"
      ]
     },
     "execution_count": 178,
     "metadata": {},
     "output_type": "execute_result"
    }
   ],
   "source": [
    "qx = torch.quantize_per_tensor(torch.rand(2, 2, 2, 2), 1.5, 3, torch.quint8)\n",
    "qx"
   ]
  },
  {
   "cell_type": "code",
   "execution_count": 179,
   "id": "013e8456-13aa-467a-a02b-a7fc2c2d4208",
   "metadata": {
    "pycharm": {
     "name": "#%%\n"
    }
   },
   "outputs": [
    {
     "data": {
      "text/plain": [
       "tensor([[[[0.0000, 0.0000],\n",
       "          [1.5000, 1.5000]],\n",
       "\n",
       "         [[1.5000, 0.0000],\n",
       "          [0.0000, 0.0000]]],\n",
       "\n",
       "\n",
       "        [[[0.0000, 0.0000],\n",
       "          [0.0000, 0.0000]],\n",
       "\n",
       "         [[0.0000, 0.0000],\n",
       "          [0.0000, 0.0000]]]], size=(2, 2, 2, 2), dtype=torch.quint8,\n",
       "       quantization_scheme=torch.per_tensor_affine, scale=1.5, zero_point=3)"
      ]
     },
     "execution_count": 179,
     "metadata": {},
     "output_type": "execute_result"
    }
   ],
   "source": [
    "qx = torch.quantize_per_tensor(torch.rand(2, 2, 2, 2), 1.5, 3, torch.quint8)\n",
    "qx"
   ]
  },
  {
   "cell_type": "code",
   "execution_count": 180,
   "id": "e4eba639-2fc0-4333-aed1-592ea0cc3af2",
   "metadata": {
    "pycharm": {
     "name": "#%%\n"
    }
   },
   "outputs": [
    {
     "data": {
      "text/plain": [
       "tensor([[ 180.0233, -180.0233],\n",
       "        [ 359.9894, -359.9894],\n",
       "        [  89.9544,  -89.9544]])"
      ]
     },
     "execution_count": 180,
     "metadata": {},
     "output_type": "execute_result"
    }
   ],
   "source": [
    "a = torch.tensor([[3.142, -3.142], [6.283, -6.283], [1.570, -1.570]])\n",
    "torch.rad2deg(a)"
   ]
  },
  {
   "cell_type": "code",
   "execution_count": 181,
   "id": "c613c6a5-217f-42db-9bff-c17ca840ba9d",
   "metadata": {
    "pycharm": {
     "name": "#%%\n"
    }
   },
   "outputs": [
    {
     "data": {
      "text/plain": [
       "(tensor([-1.0311+0.2964j,  0.9546-0.8135j, -0.3357-0.1241j,  1.0272+1.3002j]),\n",
       " tensor([-1.0311,  0.9546, -0.3357,  1.0272]),\n",
       " tensor([ 0.2964, -0.8135, -0.1241,  1.3002]))"
      ]
     },
     "execution_count": 181,
     "metadata": {},
     "output_type": "execute_result"
    }
   ],
   "source": [
    "x = torch.randn(4, dtype=torch.cfloat)\n",
    "x, x.real, x.imag"
   ]
  },
  {
   "cell_type": "code",
   "execution_count": 182,
   "id": "2d80d55c-e46d-4b28-a32b-c1a0dc5663d5",
   "metadata": {
    "pycharm": {
     "name": "#%%\n"
    }
   },
   "outputs": [
    {
     "data": {
      "text/plain": [
       "(tensor([-1.0994,  1.4736, -1.7582, -7.9448]),\n",
       " tensor([-1.0994,  1.4736, -1.7582, -7.9448]))"
      ]
     },
     "execution_count": 182,
     "metadata": {},
     "output_type": "execute_result"
    }
   ],
   "source": [
    "x = torch.randn(4)\n",
    "torch.reciprocal(x), 1.0 / x"
   ]
  },
  {
   "cell_type": "code",
   "execution_count": 183,
   "id": "87919fbd-216a-4e07-b923-a553c9da1229",
   "metadata": {
    "pycharm": {
     "name": "#%%\n"
    }
   },
   "outputs": [
    {
     "data": {
      "text/plain": [
       "tensor([-3, -2, -1,  1,  2,  3])"
      ]
     },
     "execution_count": 183,
     "metadata": {},
     "output_type": "execute_result"
    }
   ],
   "source": [
    "x = torch.tensor([-3, -2, -1, 1, 2, 3])\n",
    "x"
   ]
  },
  {
   "cell_type": "code",
   "execution_count": 184,
   "id": "73ab7ff4-945f-48d1-8dfe-5bbc4576a6e0",
   "metadata": {
    "pycharm": {
     "name": "#%%\n"
    }
   },
   "outputs": [
    {
     "data": {
      "text/plain": [
       "(tensor([-3, -2, -1,  1,  2,  3]),\n",
       " tensor([0, 1, 2, 1, 2, 0]),\n",
       " tensor([0, 1, 2, 1, 2, 0]),\n",
       " tensor([-1.0000, -0.6667, -0.3333,  0.3333,  0.6667,  1.0000]))"
      ]
     },
     "execution_count": 184,
     "metadata": {},
     "output_type": "execute_result"
    }
   ],
   "source": [
    "x, x % 3, torch.remainder(x, 3), torch.div(x, 3)"
   ]
  },
  {
   "cell_type": "code",
   "execution_count": 185,
   "id": "9754509f-aafb-4f09-8cdc-60f58d67ecbd",
   "metadata": {
    "pycharm": {
     "name": "#%%\n"
    }
   },
   "outputs": [
    {
     "data": {
      "text/plain": [
       "(tensor([-3, -2, -1,  1,  2,  3]),\n",
       " tensor([ 0, -2, -1, -2, -1,  0]),\n",
       " tensor([ 0, -2, -1, -2, -1,  0]),\n",
       " tensor([ 1.0000,  0.6667,  0.3333, -0.3333, -0.6667, -1.0000]))"
      ]
     },
     "execution_count": 185,
     "metadata": {},
     "output_type": "execute_result"
    }
   ],
   "source": [
    "div = -3\n",
    "x, x % div, torch.remainder(x, div), torch.div(x, div)"
   ]
  },
  {
   "cell_type": "code",
   "execution_count": 186,
   "id": "14427b9b-7f4c-4a93-b807-dda5da2fa34a",
   "metadata": {
    "pycharm": {
     "name": "#%%\n"
    }
   },
   "outputs": [
    {
     "data": {
      "text/plain": [
       "(tensor([ 2.0776,  0.7586,  2.6102, -1.0443,  0.3573, -2.7570,  1.3784,  5.2163,\n",
       "          1.0419, -0.3403,  1.7830,  0.4019,  3.9618,  2.0822,  3.0938,  3.2167,\n",
       "         -1.3552,  1.2674,  1.6332,  2.2491]),\n",
       " tensor([ 2.,  0.,  2., -1.,  0., -2.,  1.,  5.,  1., -0.,  1.,  0.,  3.,  2.,\n",
       "          3.,  3., -1.,  1.,  1.,  2.]),\n",
       " tensor([ 3.,  1.,  3., -1.,  1., -2.,  2.,  6.,  2., -0.,  2.,  1.,  4.,  3.,\n",
       "          4.,  4., -1.,  2.,  2.,  3.]),\n",
       " tensor([ 2.,  1.,  3., -1.,  0., -3.,  1.,  5.,  1., -0.,  2.,  0.,  4.,  2.,\n",
       "          3.,  3., -1.,  1.,  2.,  2.]),\n",
       " tensor([ 2.,  0.,  2., -2.,  0., -3.,  1.,  5.,  1., -1.,  1.,  0.,  3.,  2.,\n",
       "          3.,  3., -2.,  1.,  1.,  2.]))"
      ]
     },
     "execution_count": 186,
     "metadata": {},
     "output_type": "execute_result"
    }
   ],
   "source": [
    "x = 1. + torch.randn(20) * 2\n",
    "x, torch.trunc(x), torch.ceil(x), torch.round(x), torch.floor(x)"
   ]
  },
  {
   "cell_type": "code",
   "execution_count": 187,
   "id": "e26ce0a7-5732-4dd3-971a-cdc1a28b0fac",
   "metadata": {
    "pycharm": {
     "name": "#%%\n"
    }
   },
   "outputs": [
    {
     "data": {
      "text/plain": [
       "(tensor([1.4414, 0.8710, 1.6156,    nan, 0.5978,    nan, 1.1740, 2.2839, 1.0207,\n",
       "            nan, 1.3353, 0.6339, 1.9904, 1.4430, 1.7589, 1.7935,    nan, 1.1258,\n",
       "         1.2780, 1.4997]),\n",
       " tensor([1.4414, 0.8710, 1.6156,    nan, 0.5978,    nan, 1.1740, 2.2839, 1.0207,\n",
       "            nan, 1.3353, 0.6339, 1.9904, 1.4430, 1.7589, 1.7935,    nan, 1.1258,\n",
       "         1.2780, 1.4997]))"
      ]
     },
     "execution_count": 187,
     "metadata": {},
     "output_type": "execute_result"
    }
   ],
   "source": [
    "torch.sqrt(x), x ** 0.5"
   ]
  },
  {
   "cell_type": "code",
   "execution_count": 188,
   "id": "131ded28-bae2-443d-926d-de997f4be809",
   "metadata": {
    "pycharm": {
     "name": "#%%\n"
    }
   },
   "outputs": [
    {
     "data": {
      "text/plain": [
       "tensor([False, False, False,  True, False,  True, False, False, False,  True,\n",
       "        False, False, False, False, False, False,  True, False, False, False])"
      ]
     },
     "execution_count": 188,
     "metadata": {},
     "output_type": "execute_result"
    }
   ],
   "source": [
    "torch.isnan(torch.sqrt(x))"
   ]
  },
  {
   "cell_type": "code",
   "execution_count": 189,
   "id": "8fd60365-8193-4546-ba81-19fc45dad79d",
   "metadata": {
    "pycharm": {
     "name": "#%%\n"
    }
   },
   "outputs": [
    {
     "data": {
      "text/plain": [
       "(tensor([0.6938, 1.1481, 0.6190,    nan, 1.6729,    nan, 0.8518, 0.4378, 0.9797,\n",
       "            nan, 0.7489, 1.5774, 0.5024, 0.6930, 0.5685, 0.5576,    nan, 0.8883,\n",
       "         0.7825, 0.6668]),\n",
       " tensor([0.6938, 1.1481, 0.6190,    nan, 1.6729,    nan, 0.8518, 0.4378, 0.9797,\n",
       "            nan, 0.7489, 1.5774, 0.5024, 0.6930, 0.5685, 0.5576,    nan, 0.8883,\n",
       "         0.7825, 0.6668]))"
      ]
     },
     "execution_count": 189,
     "metadata": {},
     "output_type": "execute_result"
    }
   ],
   "source": [
    "torch.rsqrt(x), x **-0.5"
   ]
  },
  {
   "cell_type": "code",
   "execution_count": 190,
   "id": "ef866854-1cab-452e-87f2-60377dfa79db",
   "metadata": {
    "pycharm": {
     "name": "#%%\n"
    }
   },
   "outputs": [
    {
     "data": {
      "text/plain": [
       "(tensor([ 2.0776,  0.7586,  2.6102, -1.0443,  0.3573, -2.7570,  1.3784,  5.2163,\n",
       "          1.0419, -0.3403,  1.7830,  0.4019,  3.9618,  2.0822,  3.0938,  3.2167,\n",
       "         -1.3552,  1.2674,  1.6332,  2.2491]),\n",
       " tensor([ 1.,  1.,  1., -1.,  1., -1.,  1.,  1.,  1., -1.,  1.,  1.,  1.,  1.,\n",
       "          1.,  1., -1.,  1.,  1.,  1.]))"
      ]
     },
     "execution_count": 190,
     "metadata": {},
     "output_type": "execute_result"
    }
   ],
   "source": [
    "x, torch.sign(x)"
   ]
  },
  {
   "cell_type": "code",
   "execution_count": 191,
   "id": "7847efcb-3656-4dfe-8149-a03ed74e4377",
   "metadata": {
    "pycharm": {
     "name": "#%%\n"
    }
   },
   "outputs": [
    {
     "data": {
      "text/plain": [
       "tensor([0.6000+0.8000j, 0.2800-0.9600j, 0.0000+0.0000j, 0.4472+0.8944j])"
      ]
     },
     "execution_count": 191,
     "metadata": {},
     "output_type": "execute_result"
    }
   ],
   "source": [
    "t = torch.tensor([3+4j, 7-24j, 0, 1+2j])\n",
    "torch.sgn(t)"
   ]
  },
  {
   "cell_type": "code",
   "execution_count": 192,
   "id": "71cd36be-ff9a-4010-98c8-80c447aad939",
   "metadata": {
    "pycharm": {
     "name": "#%%\n"
    }
   },
   "outputs": [
    {
     "data": {
      "text/plain": [
       "tensor([False, False, False,  True, False,  True, False, False, False,  True,\n",
       "        False, False, False, False, False, False,  True, False, False, False])"
      ]
     },
     "execution_count": 192,
     "metadata": {},
     "output_type": "execute_result"
    }
   ],
   "source": [
    "torch.signbit(x)"
   ]
  },
  {
   "cell_type": "code",
   "execution_count": 193,
   "id": "072d87e6-0441-43a5-b4c7-df1e39be35b3",
   "metadata": {
    "pycharm": {
     "name": "#%%\n"
    }
   },
   "outputs": [
    {
     "data": {
      "text/plain": [
       "(tensor([ 4.3166,  0.5755,  6.8133,  1.0905,  0.1277,  7.6009,  1.8999, 27.2102,\n",
       "          1.0855,  0.1158,  3.1789,  0.1615, 15.6960,  4.3354,  9.5715, 10.3472,\n",
       "          1.8365,  1.6063,  2.6673,  5.0584]),\n",
       " tensor([ 4.3166,  0.5755,  6.8133,  1.0905,  0.1277,  7.6009,  1.8999, 27.2102,\n",
       "          1.0855,  0.1158,  3.1789,  0.1615, 15.6960,  4.3354,  9.5715, 10.3472,\n",
       "          1.8365,  1.6063,  2.6673,  5.0584]))"
      ]
     },
     "execution_count": 193,
     "metadata": {},
     "output_type": "execute_result"
    }
   ],
   "source": [
    "torch.square(x), x ** 2"
   ]
  },
  {
   "cell_type": "code",
   "execution_count": 194,
   "id": "b45232b4-c8f7-49d8-989e-41a1a7324283",
   "metadata": {
    "pycharm": {
     "name": "#%%\n"
    }
   },
   "outputs": [
    {
     "data": {
      "text/plain": [
       "tensor([0., 0., 0., 0., 0., 0., 0., 0., 0., 0., 0., 0., 0., 0., 0., 0., 0., 0., 0., 0.])"
      ]
     },
     "execution_count": 194,
     "metadata": {},
     "output_type": "execute_result"
    }
   ],
   "source": [
    "torch.sub(x, x)"
   ]
  },
  {
   "cell_type": "code",
   "execution_count": 195,
   "id": "2b040497-a28e-4820-88e3-8eb4093e0d7d",
   "metadata": {
    "pycharm": {
     "name": "#%%\n"
    }
   },
   "outputs": [
    {
     "data": {
      "text/plain": [
       "(tensor([-2.1449, -1.5406,  0.9217, -1.8385, -1.0841, -1.0028,  1.8336,  1.0232,\n",
       "         -2.0306,  2.8827, -1.4774,  0.6438, -2.1109, -2.8992, -1.8653, -2.0659,\n",
       "         -8.8199, -0.6881,  3.0503,  2.4412]),\n",
       " tensor([-2.1449, -1.5406,  0.9217, -1.8385, -1.0841, -1.0028,  1.8336,  1.0232,\n",
       "         -2.0306,  2.8827, -1.4774,  0.6438, -2.1109, -2.8992, -1.8653, -2.0659,\n",
       "         -8.8199, -0.6881,  3.0503,  2.4412]),\n",
       " tensor([-2.1449, -1.5406,  0.9217, -1.8385, -1.0841, -1.0028,  1.8336,  1.0232,\n",
       "         -2.0306,  2.8827, -1.4774,  0.6438, -2.1109, -2.8992, -1.8653, -2.0659,\n",
       "         -8.8199, -0.6881,  3.0503,  2.4412]),\n",
       " tensor([-2.1449, -1.5406,  0.9217, -1.8385, -1.0841, -1.0028,  1.8336,  1.0232,\n",
       "         -2.0306,  2.8827, -1.4774,  0.6438, -2.1109, -2.8992, -1.8653, -2.0659,\n",
       "         -8.8199, -0.6881,  3.0503,  2.4412]))"
      ]
     },
     "execution_count": 195,
     "metadata": {},
     "output_type": "execute_result"
    }
   ],
   "source": [
    "z = torch.randn_like(x)\n",
    "torch.divide(x, z * x), torch.div(x, z*x), torch.div(x, z*x), torch.true_divide(x, z*x)"
   ]
  },
  {
   "cell_type": "code",
   "execution_count": 196,
   "id": "46ac6ca7-9ec5-4579-8634-961182fb0959",
   "metadata": {
    "pycharm": {
     "name": "#%%\n"
    }
   },
   "outputs": [
    {
     "data": {
      "text/plain": [
       "(tensor([-0.9686, -0.4924,  2.8320,  0.5680, -0.3296,  2.7493,  0.7517,  5.0983,\n",
       "         -0.5131, -0.1181, -1.2068,  0.6242, -1.8768, -0.7182, -1.6586, -1.5570,\n",
       "          0.1537, -1.8418,  0.5354,  0.9213]),\n",
       " tensor([-0.9686, -0.4924,  2.8320,  0.5680, -0.3296,  2.7493,  0.7517,  5.0983,\n",
       "         -0.5131, -0.1181, -1.2068,  0.6242, -1.8768, -0.7182, -1.6586, -1.5570,\n",
       "          0.1537, -1.8418,  0.5354,  0.9213]),\n",
       " tensor([ 5.9605e-08,  0.0000e+00,  0.0000e+00, -5.9605e-08, -2.9802e-08,\n",
       "          0.0000e+00,  0.0000e+00,  0.0000e+00, -5.9605e-08, -1.4901e-08,\n",
       "         -1.1921e-07,  0.0000e+00,  2.3842e-07,  0.0000e+00,  0.0000e+00,\n",
       "          1.1921e-07,  1.4901e-08,  0.0000e+00,  5.9605e-08,  5.9605e-08]))"
      ]
     },
     "execution_count": 196,
     "metadata": {},
     "output_type": "execute_result"
    }
   ],
   "source": [
    "y = torch.special.xlogy(x, torch.exp(z))\n",
    "y, x*z, y - x*z"
   ]
  },
  {
   "cell_type": "code",
   "execution_count": 197,
   "id": "1395705b-12b4-41eb-89ac-891c3e69a24d",
   "metadata": {
    "pycharm": {
     "name": "#%%\n"
    }
   },
   "outputs": [
    {
     "data": {
      "text/plain": [
       "tensor([False, False, False, False, False, False, False, False, False, False,\n",
       "        False, False, False, False, False, False, False, False, False, False])"
      ]
     },
     "execution_count": 197,
     "metadata": {},
     "output_type": "execute_result"
    }
   ],
   "source": [
    "torch.isnan(x)"
   ]
  },
  {
   "cell_type": "code",
   "execution_count": 198,
   "metadata": {
    "collapsed": false,
    "pycharm": {
     "name": "#%%\n"
    }
   },
   "outputs": [
    {
     "data": {
      "text/plain": [
       "tensor([ 2.0776,  0.7586,  2.6102, -1.0443,  0.3573, -2.7570,  1.3784,  5.2163,\n",
       "         1.0419, -0.3403,  1.7830,  0.4019,  3.9618,  2.0822,  3.0938,  3.2167,\n",
       "        -1.3552,  1.2674,  1.6332,  2.2491])"
      ]
     },
     "execution_count": 198,
     "metadata": {},
     "output_type": "execute_result"
    }
   ],
   "source": [
    "x"
   ]
  },
  {
   "cell_type": "code",
   "execution_count": 212,
   "metadata": {
    "collapsed": false,
    "pycharm": {
     "name": "#%%\n"
    }
   },
   "outputs": [
    {
     "data": {
      "text/plain": [
       "(tensor([[30, 94, 31, 73, 89, 76, 19, 76, 82, 61],\n",
       "         [38, 96, 55, 13, 50, 87, 67, 33,  0, 12],\n",
       "         [78, 80, 18, 14, 22, 64, 31, 12, 79, 97],\n",
       "         [49, 33, 82, 17, 14, 84, 86,  2,  5, 14]]),\n",
       " tensor(97),\n",
       " torch.return_types.max(\n",
       " values=tensor([78, 96, 82, 73, 89, 87, 86, 76, 82, 97]),\n",
       " indices=tensor([2, 1, 3, 0, 0, 1, 3, 0, 0, 2])),\n",
       " torch.return_types.max(\n",
       " values=tensor([94, 96, 97, 86]),\n",
       " indices=tensor([1, 1, 9, 6])))"
      ]
     },
     "execution_count": 212,
     "metadata": {},
     "output_type": "execute_result"
    }
   ],
   "source": [
    "torch.manual_seed(4)\n",
    "x = torch.randint(0, 100, size=(4, 10))\n",
    "x, torch.max(x), torch.max(x, dim=0), torch.max(x, dim=1)"
   ]
  },
  {
   "cell_type": "code",
   "execution_count": 214,
   "metadata": {
    "collapsed": false,
    "pycharm": {
     "name": "#%%\n"
    }
   },
   "outputs": [
    {
     "data": {
      "text/plain": [
       "torch.return_types.max(\n",
       "values=tensor([[94],\n",
       "        [96],\n",
       "        [97],\n",
       "        [86]]),\n",
       "indices=tensor([[1],\n",
       "        [1],\n",
       "        [9],\n",
       "        [6]]))"
      ]
     },
     "execution_count": 214,
     "metadata": {},
     "output_type": "execute_result"
    }
   ],
   "source": [
    "torch.max(x, dim=1, keepdim=True)\n"
   ]
  },
  {
   "cell_type": "code",
   "execution_count": 215,
   "id": "de78736a",
   "metadata": {},
   "outputs": [
    {
     "data": {
      "text/plain": [
       "torch.return_types.max(\n",
       "values=tensor([[78, 96, 82, 73, 89, 87, 86, 76, 82, 97]]),\n",
       "indices=tensor([[2, 1, 3, 0, 0, 1, 3, 0, 0, 2]]))"
      ]
     },
     "execution_count": 215,
     "metadata": {},
     "output_type": "execute_result"
    }
   ],
   "source": [
    "torch.max(x, dim=0, keepdim=True)"
   ]
  },
  {
   "cell_type": "code",
   "execution_count": 222,
   "id": "0eede983",
   "metadata": {},
   "outputs": [
    {
     "data": {
      "text/plain": [
       "(tensor([[46, 81, 29, 76,  1],\n",
       "         [57, 57, 43, 53, 28],\n",
       "         [ 2, 19, 49, 68, 73],\n",
       "         [88, 89, 93, 38, 99]]),\n",
       " tensor([[74,  0, 72, 53, 11],\n",
       "         [ 1, 13,  4, 87, 14],\n",
       "         [55, 48,  4, 30, 28],\n",
       "         [95, 52, 85, 48, 86]]),\n",
       " tensor([[74, 81, 72, 76, 11],\n",
       "         [57, 57, 43, 87, 28],\n",
       "         [55, 48, 49, 68, 73],\n",
       "         [95, 89, 93, 48, 99]]))"
      ]
     },
     "execution_count": 222,
     "metadata": {},
     "output_type": "execute_result"
    }
   ],
   "source": [
    "y = torch.randint(0, 100, size=(4, 5))\n",
    "z = torch.randint(0, 100, size=(4, 5))\n",
    "\n",
    "\n",
    "y, z, torch.max(y, z)"
   ]
  },
  {
   "cell_type": "code",
   "execution_count": 224,
   "id": "0377a79c",
   "metadata": {},
   "outputs": [
    {
     "data": {
      "text/plain": [
       "tensor([88, 89, 93, 76, 99])"
      ]
     },
     "execution_count": 224,
     "metadata": {},
     "output_type": "execute_result"
    }
   ],
   "source": [
    "torch.max(y, dim=0).values\n"
   ]
  },
  {
   "cell_type": "code",
   "execution_count": 225,
   "id": "4972641b",
   "metadata": {},
   "outputs": [
    {
     "data": {
      "text/plain": [
       "tensor([3, 3, 3, 0, 3])"
      ]
     },
     "execution_count": 225,
     "metadata": {},
     "output_type": "execute_result"
    }
   ],
   "source": [
    "torch.max(y, dim=0).indices"
   ]
  },
  {
   "cell_type": "code",
   "execution_count": 229,
   "id": "40e8a6de",
   "metadata": {},
   "outputs": [
    {
     "data": {
      "text/plain": [
       "tensor([3, 3, 3, 0, 3])"
      ]
     },
     "execution_count": 229,
     "metadata": {},
     "output_type": "execute_result"
    }
   ],
   "source": [
    "torch.argmax(y, dim=0)"
   ]
  },
  {
   "cell_type": "code",
   "execution_count": 231,
   "id": "80f877f4",
   "metadata": {},
   "outputs": [
    {
     "data": {
      "text/plain": [
       "tensor([[74, 81, 72, 76, 11],\n",
       "        [57, 57, 43, 87, 28],\n",
       "        [55, 48, 49, 68, 73],\n",
       "        [95, 89, 93, 48, 99]])"
      ]
     },
     "execution_count": 231,
     "metadata": {},
     "output_type": "execute_result"
    }
   ],
   "source": [
    "torch.maximum(y, z)"
   ]
  },
  {
   "cell_type": "code",
   "execution_count": 250,
   "id": "cd593dbc",
   "metadata": {},
   "outputs": [
    {
     "data": {
      "text/plain": [
       "tensor([[[ 0.2929,  1.2911],\n",
       "         [ 0.6166,  0.2693],\n",
       "         [-0.4581,  0.8754],\n",
       "         [-0.3745,  2.3506]],\n",
       "\n",
       "        [[ 2.7820, -0.6994],\n",
       "         [ 1.7504,  0.1734],\n",
       "         [ 0.4083,  2.5536],\n",
       "         [-2.5738, -2.4772]],\n",
       "\n",
       "        [[-2.8787,  1.9957],\n",
       "         [ 1.6689,  2.2201],\n",
       "         [ 2.8717,  1.7950],\n",
       "         [-0.2311,  1.6832]]], dtype=torch.float64)"
      ]
     },
     "execution_count": 250,
     "metadata": {},
     "output_type": "execute_result"
    }
   ],
   "source": [
    "np.random.seed(0)\n",
    "x = torch.from_numpy(np.random.uniform(-3, 3, size=(3, 4, 2)))\n",
    "x"
   ]
  },
  {
   "cell_type": "code",
   "execution_count": 251,
   "id": "46ba61cc",
   "metadata": {},
   "outputs": [
    {
     "data": {
      "text/plain": [
       "tensor(2.8717, dtype=torch.float64)"
      ]
     },
     "execution_count": 251,
     "metadata": {},
     "output_type": "execute_result"
    }
   ],
   "source": [
    "torch.amax(x)"
   ]
  },
  {
   "cell_type": "code",
   "execution_count": 252,
   "id": "cc92fa8c",
   "metadata": {},
   "outputs": [
    {
     "data": {
      "text/plain": [
       "tensor([[0.6166, 2.3506],\n",
       "        [2.7820, 2.5536],\n",
       "        [2.8717, 2.2201]], dtype=torch.float64)"
      ]
     },
     "execution_count": 252,
     "metadata": {},
     "output_type": "execute_result"
    }
   ],
   "source": [
    "torch.amax(x, dim=1)"
   ]
  },
  {
   "cell_type": "code",
   "execution_count": 254,
   "id": "abd07bf6",
   "metadata": {},
   "outputs": [
    {
     "data": {
      "text/plain": [
       "tensor([[[ 2.7820,  1.9957],\n",
       "         [ 1.7504,  2.2201],\n",
       "         [ 2.8717,  2.5536],\n",
       "         [-0.2311,  2.3506]]], dtype=torch.float64)"
      ]
     },
     "execution_count": 254,
     "metadata": {},
     "output_type": "execute_result"
    }
   ],
   "source": [
    "torch.amax(x, dim=0, keepdim=True)"
   ]
  },
  {
   "cell_type": "code",
   "execution_count": 255,
   "id": "fc381dc5",
   "metadata": {},
   "outputs": [
    {
     "data": {
      "text/plain": [
       "tensor([[[1, 2],\n",
       "         [1, 2],\n",
       "         [2, 1],\n",
       "         [2, 0]]])"
      ]
     },
     "execution_count": 255,
     "metadata": {},
     "output_type": "execute_result"
    }
   ],
   "source": [
    "torch.argmax(x, dim=0, keepdim=True)"
   ]
  },
  {
   "cell_type": "code",
   "execution_count": 258,
   "id": "73097036",
   "metadata": {},
   "outputs": [
    {
     "data": {
      "text/plain": [
       "tensor([2.8717, 2.5536], dtype=torch.float64)"
      ]
     },
     "execution_count": 258,
     "metadata": {},
     "output_type": "execute_result"
    }
   ],
   "source": [
    "torch.amax(x, dim=(0, 1))"
   ]
  },
  {
   "cell_type": "code",
   "execution_count": 261,
   "id": "4da86753",
   "metadata": {},
   "outputs": [
    {
     "data": {
      "text/plain": [
       "tensor([2.8717, 2.5536], dtype=torch.float64)"
      ]
     },
     "execution_count": 261,
     "metadata": {},
     "output_type": "execute_result"
    }
   ],
   "source": [
    "torch.amax(x, dim=(1, 0))\n"
   ]
  },
  {
   "cell_type": "code",
   "execution_count": 262,
   "id": "64c671b0",
   "metadata": {},
   "outputs": [
    {
     "data": {
      "text/plain": [
       "tensor([[0.6166, 2.3506],\n",
       "        [2.7820, 2.5536],\n",
       "        [2.8717, 2.2201]], dtype=torch.float64)"
      ]
     },
     "execution_count": 262,
     "metadata": {},
     "output_type": "execute_result"
    }
   ],
   "source": [
    "torch.amax(x, dim=(1, ))"
   ]
  },
  {
   "cell_type": "code",
   "execution_count": 263,
   "id": "4e035e78",
   "metadata": {},
   "outputs": [
    {
     "data": {
      "text/plain": [
       "tensor([[[2.8717, 2.5536]]], dtype=torch.float64)"
      ]
     },
     "execution_count": 263,
     "metadata": {},
     "output_type": "execute_result"
    }
   ],
   "source": [
    "torch.amax(x, dim=(1, 0), keepdim=True)"
   ]
  },
  {
   "cell_type": "code",
   "execution_count": 266,
   "id": "29a261ad",
   "metadata": {},
   "outputs": [
    {
     "data": {
      "text/plain": [
       "(tensor(16), tensor(-2.8787, dtype=torch.float64))"
      ]
     },
     "execution_count": 266,
     "metadata": {},
     "output_type": "execute_result"
    }
   ],
   "source": [
    "torch.argmin(x), torch.min(x)"
   ]
  },
  {
   "cell_type": "code",
   "execution_count": 267,
   "id": "965bc2ca",
   "metadata": {},
   "outputs": [
    {
     "data": {
      "text/plain": [
       "tensor([-2.8787, -2.4772], dtype=torch.float64)"
      ]
     },
     "execution_count": 267,
     "metadata": {},
     "output_type": "execute_result"
    }
   ],
   "source": [
    "torch.amin(x, dim=(0, 1))"
   ]
  },
  {
   "cell_type": "code",
   "execution_count": 268,
   "id": "bf5d7958",
   "metadata": {},
   "outputs": [
    {
     "data": {
      "text/plain": [
       "torch.return_types.min(\n",
       "values=tensor([[-0.4581,  0.2693],\n",
       "        [-2.5738, -2.4772],\n",
       "        [-2.8787,  1.6832]], dtype=torch.float64),\n",
       "indices=tensor([[2, 1],\n",
       "        [3, 3],\n",
       "        [0, 3]]))"
      ]
     },
     "execution_count": 268,
     "metadata": {},
     "output_type": "execute_result"
    }
   ],
   "source": [
    "torch.min(x, dim=1)"
   ]
  },
  {
   "cell_type": "code",
   "execution_count": 269,
   "id": "1f4998ad",
   "metadata": {},
   "outputs": [
    {
     "data": {
      "text/plain": [
       "tensor([[[ 0.2929,  1.2911],\n",
       "         [ 0.6166,  0.2693],\n",
       "         [-0.4581,  0.8754],\n",
       "         [-0.3745,  2.3506]],\n",
       "\n",
       "        [[ 2.7820, -0.6994],\n",
       "         [ 1.7504,  0.1734],\n",
       "         [ 0.4083,  2.5536],\n",
       "         [-2.5738, -2.4772]],\n",
       "\n",
       "        [[-2.8787,  1.9957],\n",
       "         [ 1.6689,  2.2201],\n",
       "         [ 2.8717,  1.7950],\n",
       "         [-0.2311,  1.6832]]], dtype=torch.float64)"
      ]
     },
     "execution_count": 269,
     "metadata": {},
     "output_type": "execute_result"
    }
   ],
   "source": [
    "x"
   ]
  },
  {
   "cell_type": "code",
   "execution_count": 270,
   "id": "5e191142",
   "metadata": {},
   "outputs": [
    {
     "data": {
      "text/plain": [
       "torch.return_types.aminmax(\n",
       "min=tensor(-2.8787, dtype=torch.float64),\n",
       "max=tensor(2.8717, dtype=torch.float64))"
      ]
     },
     "execution_count": 270,
     "metadata": {},
     "output_type": "execute_result"
    }
   ],
   "source": [
    "torch.aminmax(x,)"
   ]
  },
  {
   "cell_type": "code",
   "execution_count": 272,
   "id": "335a090e",
   "metadata": {},
   "outputs": [
    {
     "data": {
      "text/plain": [
       "torch.return_types.aminmax(\n",
       "min=tensor([[-0.4581,  0.2693],\n",
       "        [-2.5738, -2.4772],\n",
       "        [-2.8787,  1.6832]], dtype=torch.float64),\n",
       "max=tensor([[0.6166, 2.3506],\n",
       "        [2.7820, 2.5536],\n",
       "        [2.8717, 2.2201]], dtype=torch.float64))"
      ]
     },
     "execution_count": 272,
     "metadata": {},
     "output_type": "execute_result"
    }
   ],
   "source": [
    "torch.aminmax(x, dim=1)"
   ]
  },
  {
   "cell_type": "code",
   "execution_count": 291,
   "id": "d7ff2e4f",
   "metadata": {},
   "outputs": [
    {
     "data": {
      "text/plain": [
       "(tensor([[ True,  True,  True,  True,  True],\n",
       "         [ True,  True,  True, False, False],\n",
       "         [ True,  True,  True,  True, False]]),\n",
       " tensor([ True, False, False]),\n",
       " tensor([True, True, True]))"
      ]
     },
     "execution_count": 291,
     "metadata": {},
     "output_type": "execute_result"
    }
   ],
   "source": [
    "p = torch.empty(3, 5).uniform_(0.7, 1)\n",
    "x = torch.bernoulli(p).type(torch.bool)\n",
    "x, torch.all(x, dim=1), torch.any(x, dim=1)"
   ]
  },
  {
   "cell_type": "code",
   "execution_count": 301,
   "id": "66c7748b",
   "metadata": {},
   "outputs": [
    {
     "data": {
      "text/plain": [
       "(tensor([1., 2.]), tensor([3., 4.]), tensor(2.8284), tensor(2.8284))"
      ]
     },
     "execution_count": 301,
     "metadata": {},
     "output_type": "execute_result"
    }
   ],
   "source": [
    "x = torch.tensor([1., 2.])\n",
    "y = torch.tensor([3, 4.])\n",
    "x, y, torch.dist(y, x, 2), torch.sum(torch.sqrt(y-x))"
   ]
  },
  {
   "cell_type": "code",
   "execution_count": 305,
   "id": "c3edd510",
   "metadata": {},
   "outputs": [
    {
     "data": {
      "text/plain": [
       "tensor([0.6128, 1.3178, 1.0855])"
      ]
     },
     "execution_count": 305,
     "metadata": {},
     "output_type": "execute_result"
    }
   ],
   "source": [
    "y = torch.randn(3, 3)\n",
    "torch.logsumexp(y, 1)"
   ]
  },
  {
   "cell_type": "code",
   "execution_count": 311,
   "id": "51c8e7ce",
   "metadata": {},
   "outputs": [
    {
     "data": {
      "text/plain": [
       "(tensor([[0., 1., 2., 3., 4.],\n",
       "         [5., 6., 7., 8., 9.]]),\n",
       " tensor(4.5000),\n",
       " tensor(4.),\n",
       " tensor([2., 7.]),\n",
       " torch.return_types.median(\n",
       " values=tensor([2., 7.]),\n",
       " indices=tensor([2, 2])))"
      ]
     },
     "execution_count": 311,
     "metadata": {},
     "output_type": "execute_result"
    }
   ],
   "source": [
    "x = torch.arange(0, 10).to(dtype=torch.float32).reshape((2, 5))\n",
    "x, torch.mean(x), torch.median(x), torch.mean(x, dim=1), torch.median(x, dim=1)"
   ]
  },
  {
   "cell_type": "code",
   "execution_count": 328,
   "id": "f6e8aced",
   "metadata": {},
   "outputs": [
    {
     "data": {
      "text/plain": [
       "(tensor([4, 4, 2, 5, 7]),\n",
       " tensor([[ 8,  8,  6,  9, 11],\n",
       "         [-1, -1, -3,  0,  2],\n",
       "         [ 4,  4,  2,  5,  7],\n",
       "         [11, 11,  9, 12, 14]]),\n",
       " torch.return_types.mode(\n",
       " values=tensor([-1, -1, -3,  0,  2]),\n",
       " indices=tensor([1, 1, 1, 1, 1])),\n",
       " torch.return_types.mode(\n",
       " values=tensor([ 8, -1,  4, 11]),\n",
       " indices=tensor([1, 1, 1, 1])))"
      ]
     },
     "execution_count": 328,
     "metadata": {},
     "output_type": "execute_result"
    }
   ],
   "source": [
    "a = torch.randint(10, (5,))\n",
    "b = a + (torch.randn(4, 1) * 5).long()\n",
    "a, b, torch.mode(b, dim=0),torch.mode(b, dim=1)"
   ]
  },
  {
   "cell_type": "code",
   "execution_count": 331,
   "id": "0142a5f8",
   "metadata": {},
   "outputs": [
    {
     "data": {
      "text/plain": [
       "tensor(33.9706)"
      ]
     },
     "execution_count": 331,
     "metadata": {},
     "output_type": "execute_result"
    }
   ],
   "source": [
    "torch.norm(b.to(dtype=torch.float32))"
   ]
  },
  {
   "cell_type": "code",
   "execution_count": 333,
   "id": "9dae3afb",
   "metadata": {},
   "outputs": [
    {
     "data": {
      "text/plain": [
       "(tensor(1.), tensor(nan))"
      ]
     },
     "execution_count": 333,
     "metadata": {},
     "output_type": "execute_result"
    }
   ],
   "source": [
    "torch.nansum(torch.tensor([1., float(\"nan\")])), torch.sum(torch.tensor([1., float(\"nan\")]))"
   ]
  },
  {
   "cell_type": "code",
   "execution_count": 338,
   "id": "4a48f771",
   "metadata": {},
   "outputs": [
    {
     "data": {
      "text/plain": [
       "(tensor([[1, 2],\n",
       "         [3, 4]]),\n",
       " tensor(24),\n",
       " tensor([ 2, 12]))"
      ]
     },
     "execution_count": 338,
     "metadata": {},
     "output_type": "execute_result"
    }
   ],
   "source": [
    "a = torch.tensor([[1, 2], [3, 4]])\n",
    "a, torch.prod(a), torch.prod(a, dim=1)"
   ]
  },
  {
   "cell_type": "code",
   "execution_count": 345,
   "id": "4022537c",
   "metadata": {},
   "outputs": [
    {
     "data": {
      "text/plain": [
       "(tensor([[-1.1258, -1.1524, -0.2506, -0.4339,  0.5988],\n",
       "         [-1.5551, -0.3414,  1.8530,  0.4681, -0.1577],\n",
       "         [ 1.4437,  0.2660,  1.3894,  1.5863,  0.9463],\n",
       "         [-0.8437,  0.9318,  1.2590,  2.0050,  0.0537]]),)"
      ]
     },
     "execution_count": 345,
     "metadata": {},
     "output_type": "execute_result"
    }
   ],
   "source": [
    "torch.manual_seed(0)\n",
    "x = torch.randn((4, 5))\n",
    "x, "
   ]
  },
  {
   "cell_type": "code",
   "execution_count": 346,
   "id": "08f3e7c2",
   "metadata": {},
   "outputs": [
    {
     "data": {
      "text/plain": [
       "tensor([0.3671])"
      ]
     },
     "execution_count": 346,
     "metadata": {},
     "output_type": "execute_result"
    }
   ],
   "source": [
    "torch.quantile(x, torch.tensor([0.5]))"
   ]
  },
  {
   "cell_type": "code",
   "execution_count": 347,
   "id": "fa4f14da",
   "metadata": {},
   "outputs": [
    {
     "data": {
      "text/plain": [
       "tensor([ 0.3671, -0.3645])"
      ]
     },
     "execution_count": 347,
     "metadata": {},
     "output_type": "execute_result"
    }
   ],
   "source": [
    "torch.quantile(x, torch.tensor([0.5, 0.25]))"
   ]
  },
  {
   "cell_type": "code",
   "execution_count": 353,
   "id": "d8ea3368",
   "metadata": {},
   "outputs": [
    {
     "data": {
      "text/plain": [
       "tensor([[-0.4339, -0.1577,  1.3894,  0.9318]])"
      ]
     },
     "execution_count": 353,
     "metadata": {},
     "output_type": "execute_result"
    }
   ],
   "source": [
    "torch.quantile(x, torch.tensor([0.5]), dim=1)"
   ]
  },
  {
   "cell_type": "code",
   "execution_count": 354,
   "id": "5a305dfd",
   "metadata": {},
   "outputs": [
    {
     "data": {
      "text/plain": [
       "tensor([[-0.4339, -0.1577,  1.3894,  0.9318]])"
      ]
     },
     "execution_count": 354,
     "metadata": {},
     "output_type": "execute_result"
    }
   ],
   "source": [
    "torch.quantile(x, torch.tensor([0.5]), interpolation=\"linear\", dim=1)\n"
   ]
  },
  {
   "cell_type": "code",
   "execution_count": 355,
   "id": "fb912f29",
   "metadata": {},
   "outputs": [
    {
     "data": {
      "text/plain": [
       "tensor([[-0.4339, -0.1577,  1.3894,  0.9318]])"
      ]
     },
     "execution_count": 355,
     "metadata": {},
     "output_type": "execute_result"
    }
   ],
   "source": [
    "torch.quantile(x, torch.tensor([0.5]), interpolation=\"lower\", dim=1)\n"
   ]
  },
  {
   "cell_type": "code",
   "execution_count": 356,
   "id": "4418edff",
   "metadata": {},
   "outputs": [
    {
     "data": {
      "text/plain": [
       "tensor([[-0.4339, -0.1577,  1.3894,  0.9318]])"
      ]
     },
     "execution_count": 356,
     "metadata": {},
     "output_type": "execute_result"
    }
   ],
   "source": [
    "torch.quantile(x, torch.tensor([0.5]), interpolation=\"higher\", dim=1)\n"
   ]
  },
  {
   "cell_type": "code",
   "execution_count": 358,
   "id": "a8da68dc",
   "metadata": {},
   "outputs": [
    {
     "data": {
      "text/plain": [
       "tensor([[-0.4339, -0.1577,  1.3894,  0.9318]])"
      ]
     },
     "execution_count": 358,
     "metadata": {},
     "output_type": "execute_result"
    }
   ],
   "source": [
    "torch.quantile(x, torch.tensor([0.5]), interpolation=\"nearest\", dim=1)\n"
   ]
  },
  {
   "cell_type": "code",
   "execution_count": 359,
   "id": "03b2dbd2",
   "metadata": {},
   "outputs": [
    {
     "data": {
      "text/plain": [
       "tensor([[-0.4339, -0.1577,  1.3894,  0.9318]])"
      ]
     },
     "execution_count": 359,
     "metadata": {},
     "output_type": "execute_result"
    }
   ],
   "source": [
    "torch.quantile(x, torch.tensor([0.5]), interpolation=\"midpoint\", dim=1)\n"
   ]
  },
  {
   "cell_type": "code",
   "execution_count": 361,
   "id": "332e6d67",
   "metadata": {},
   "outputs": [
    {
     "data": {
      "text/plain": [
       "(tensor([[-0.0209, -0.7185,  0.5186, -1.3125,  0.1920],\n",
       "         [ 0.5428, -2.2188,  0.2590, -1.0297, -0.5008]]),\n",
       " tensor([-1.3412, -2.9475]))"
      ]
     },
     "execution_count": 361,
     "metadata": {},
     "output_type": "execute_result"
    }
   ],
   "source": [
    "x = torch.randn((2, 5))\n",
    "x, torch.sum(x, dim=1)\n"
   ]
  },
  {
   "cell_type": "code",
   "execution_count": 368,
   "id": "48491b8b",
   "metadata": {},
   "outputs": [
    {
     "data": {
      "text/plain": [
       "(tensor([[7, 4, 7, 6, 9, 3, 8, 4, 4, 9],\n",
       "         [4, 4, 9, 9, 5, 7, 0, 3, 2, 0],\n",
       "         [8, 6, 1, 9, 1, 6, 9, 8, 6, 5],\n",
       "         [1, 3, 5, 5, 3, 6, 2, 7, 5, 7]]),\n",
       " tensor([[1, 3, 5, 5, 3, 6, 2, 7, 5, 7],\n",
       "         [4, 4, 9, 9, 5, 7, 0, 3, 2, 0],\n",
       "         [7, 4, 7, 6, 9, 3, 8, 4, 4, 9],\n",
       "         [8, 6, 1, 9, 1, 6, 9, 8, 6, 5]]),\n",
       " tensor([[3, 4, 4, 4, 6, 7, 7, 8, 9, 9],\n",
       "         [7, 2, 3, 4, 9, 4, 9, 0, 0, 5],\n",
       "         [6, 6, 8, 6, 9, 8, 1, 9, 5, 1],\n",
       "         [6, 5, 7, 3, 5, 1, 5, 2, 7, 3]]))"
      ]
     },
     "execution_count": 368,
     "metadata": {},
     "output_type": "execute_result"
    }
   ],
   "source": [
    "x = torch.randint(0, 10, (4, 10))\n",
    "x, torch.unique(x, dim=0), torch.unique(x, dim=1, sorted=False)"
   ]
  },
  {
   "cell_type": "code",
   "execution_count": 371,
   "id": "f3742831",
   "metadata": {},
   "outputs": [
    {
     "data": {
      "text/plain": [
       "(tensor([ 4.9889, 10.6778,  8.5444,  4.2667]),\n",
       " tensor([6.1000, 4.3000, 5.9000, 4.4000]))"
      ]
     },
     "execution_count": 371,
     "metadata": {},
     "output_type": "execute_result"
    }
   ],
   "source": [
    "torch.var_mean(x.to(torch.float32), dim=1)"
   ]
  },
  {
   "cell_type": "code",
   "execution_count": null,
   "id": "92a88826",
   "metadata": {},
   "outputs": [],
   "source": []
  }
 ],
 "metadata": {
  "kernelspec": {
   "display_name": "Python 3.9.10 ('env')",
   "language": "python",
   "name": "python3"
  },
  "language_info": {
   "codemirror_mode": {
    "name": "ipython",
    "version": 3
   },
   "file_extension": ".py",
   "mimetype": "text/x-python",
   "name": "python",
   "nbconvert_exporter": "python",
   "pygments_lexer": "ipython3",
   "version": "3.9.10"
  },
  "toc-showtags": false,
  "vscode": {
   "interpreter": {
    "hash": "f7d1c444690c64dc164009c81e7c7e493213a917c1ee917acb226d895d2dc691"
   }
  }
 },
 "nbformat": 4,
 "nbformat_minor": 5
}
