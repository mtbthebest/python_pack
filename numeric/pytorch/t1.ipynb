{
 "cells": [
  {
   "cell_type": "code",
   "execution_count": 1,
   "id": "65f9cc2e-aa4d-4894-8ae6-6ec459fc5756",
   "metadata": {
    "pycharm": {
     "name": "#%%\n"
    }
   },
   "outputs": [],
   "source": [
    "import torch\n",
    "import numpy as np\n",
    "import array\n"
   ]
  },
  {
   "cell_type": "code",
   "execution_count": 2,
   "id": "40638093-d7a2-47e7-bb0f-2180af8b8a7b",
   "metadata": {
    "pycharm": {
     "name": "#%%\n"
    }
   },
   "outputs": [
    {
     "data": {
      "text/plain": [
       "'1.12.1+cu116'"
      ]
     },
     "execution_count": 2,
     "metadata": {},
     "output_type": "execute_result"
    }
   ],
   "source": [
    "torch.__version__"
   ]
  },
  {
   "cell_type": "code",
   "execution_count": 3,
   "id": "4d35308a-e79a-46fc-8518-050cb4e2d41a",
   "metadata": {
    "pycharm": {
     "name": "#%%\n"
    }
   },
   "outputs": [],
   "source": [
    "t = torch.tensor(1)"
   ]
  },
  {
   "cell_type": "code",
   "execution_count": 4,
   "id": "4e618c3b-49ab-45a4-9cde-3ca2e2041474",
   "metadata": {
    "pycharm": {
     "name": "#%%\n"
    }
   },
   "outputs": [
    {
     "data": {
      "text/plain": [
       "tensor(1)"
      ]
     },
     "execution_count": 4,
     "metadata": {},
     "output_type": "execute_result"
    }
   ],
   "source": [
    "t"
   ]
  },
  {
   "cell_type": "code",
   "execution_count": 5,
   "id": "40283e69-c52c-47d6-9b0a-9259a1497caa",
   "metadata": {
    "pycharm": {
     "name": "#%%\n"
    }
   },
   "outputs": [
    {
     "data": {
      "text/plain": [
       "torch.Size([])"
      ]
     },
     "execution_count": 5,
     "metadata": {},
     "output_type": "execute_result"
    }
   ],
   "source": [
    "t.shape"
   ]
  },
  {
   "cell_type": "code",
   "execution_count": 6,
   "id": "ca661468-3c61-47f8-bac8-f37af7872bc3",
   "metadata": {
    "pycharm": {
     "name": "#%%\n"
    }
   },
   "outputs": [],
   "source": [
    "x = t + torch.tensor([1, 2])"
   ]
  },
  {
   "cell_type": "code",
   "execution_count": 7,
   "id": "323d4904-0be7-443d-bfac-a12fd75b3cb6",
   "metadata": {
    "pycharm": {
     "name": "#%%\n"
    }
   },
   "outputs": [
    {
     "data": {
      "text/plain": [
       "tensor([2, 3])"
      ]
     },
     "execution_count": 7,
     "metadata": {},
     "output_type": "execute_result"
    }
   ],
   "source": [
    "x"
   ]
  },
  {
   "cell_type": "code",
   "execution_count": 8,
   "id": "0123518a-57dc-473b-8434-64f58bd9fcd5",
   "metadata": {
    "pycharm": {
     "name": "#%%\n"
    }
   },
   "outputs": [
    {
     "data": {
      "text/plain": [
       "torch.Size([2])"
      ]
     },
     "execution_count": 8,
     "metadata": {},
     "output_type": "execute_result"
    }
   ],
   "source": [
    "x.shape"
   ]
  },
  {
   "cell_type": "code",
   "execution_count": 9,
   "id": "2a2b18f7-065d-4cac-b772-5ee2a9825caa",
   "metadata": {
    "pycharm": {
     "name": "#%%\n"
    }
   },
   "outputs": [],
   "source": [
    "a = \"12\""
   ]
  },
  {
   "cell_type": "code",
   "execution_count": 10,
   "id": "126a1151-3a97-4ada-b010-a37afc08fb11",
   "metadata": {
    "pycharm": {
     "name": "#%%\n"
    }
   },
   "outputs": [
    {
     "data": {
      "text/plain": [
       "False"
      ]
     },
     "execution_count": 10,
     "metadata": {},
     "output_type": "execute_result"
    }
   ],
   "source": [
    "torch.is_tensor(a)"
   ]
  },
  {
   "cell_type": "code",
   "execution_count": 11,
   "id": "ce626628-e8c8-4ec3-8301-68895c5534d9",
   "metadata": {
    "pycharm": {
     "name": "#%%\n"
    }
   },
   "outputs": [
    {
     "data": {
      "text/plain": [
       "True"
      ]
     },
     "execution_count": 11,
     "metadata": {},
     "output_type": "execute_result"
    }
   ],
   "source": [
    "torch.is_tensor(x)"
   ]
  },
  {
   "cell_type": "code",
   "execution_count": 12,
   "id": "864d4981-590a-4dea-b965-f053aabd5b29",
   "metadata": {
    "pycharm": {
     "name": "#%%\n"
    }
   },
   "outputs": [
    {
     "data": {
      "text/plain": [
       "False"
      ]
     },
     "execution_count": 12,
     "metadata": {},
     "output_type": "execute_result"
    }
   ],
   "source": [
    "torch.is_floating_point(x)"
   ]
  },
  {
   "cell_type": "code",
   "execution_count": 13,
   "id": "c9f03f7c-442a-405c-bcdf-97d1408d5ea1",
   "metadata": {
    "pycharm": {
     "name": "#%%\n"
    }
   },
   "outputs": [
    {
     "data": {
      "text/plain": [
       "True"
      ]
     },
     "execution_count": 13,
     "metadata": {},
     "output_type": "execute_result"
    }
   ],
   "source": [
    "torch.is_nonzero(x[0])"
   ]
  },
  {
   "cell_type": "code",
   "execution_count": 14,
   "id": "02f40e81-5396-4d8a-9422-4c5262724d67",
   "metadata": {
    "pycharm": {
     "name": "#%%\n"
    }
   },
   "outputs": [],
   "source": [
    "y = torch.tensor((1.3, 2.4))"
   ]
  },
  {
   "cell_type": "code",
   "execution_count": 15,
   "id": "ea991306-014b-40da-af32-7e00d34f197d",
   "metadata": {
    "pycharm": {
     "name": "#%%\n"
    }
   },
   "outputs": [
    {
     "data": {
      "text/plain": [
       "torch.float32"
      ]
     },
     "execution_count": 15,
     "metadata": {},
     "output_type": "execute_result"
    }
   ],
   "source": [
    "y.dtype"
   ]
  },
  {
   "cell_type": "code",
   "execution_count": null,
   "id": "c43366e1-a4e8-4715-aae3-9d23eba229c8",
   "metadata": {
    "pycharm": {
     "name": "#%%\n"
    }
   },
   "outputs": [],
   "source": []
  },
  {
   "cell_type": "code",
   "execution_count": 16,
   "id": "02eb2c89-7d6f-49c2-8109-158f3c166bda",
   "metadata": {
    "pycharm": {
     "name": "#%%\n"
    }
   },
   "outputs": [
    {
     "data": {
      "text/plain": [
       "torch.Size([1, 5, 2])"
      ]
     },
     "execution_count": 16,
     "metadata": {},
     "output_type": "execute_result"
    }
   ],
   "source": [
    "torch.tensor(np.linspace(0, 30, 10).reshape(1, 5, 2)).shape"
   ]
  },
  {
   "cell_type": "code",
   "execution_count": 17,
   "id": "1572e575-0d22-4eb3-9a33-1ab5bb53851d",
   "metadata": {
    "pycharm": {
     "name": "#%%\n"
    }
   },
   "outputs": [
    {
     "data": {
      "text/plain": [
       "3"
      ]
     },
     "execution_count": 17,
     "metadata": {},
     "output_type": "execute_result"
    }
   ],
   "source": [
    "torch.tensor(np.linspace(0, 30, 10).reshape(1, 5, 2)).dim()"
   ]
  },
  {
   "cell_type": "code",
   "execution_count": 18,
   "id": "9e9cd037-a6c8-43ae-a3cc-98d631d900cd",
   "metadata": {
    "pycharm": {
     "name": "#%%\n"
    }
   },
   "outputs": [
    {
     "data": {
      "text/plain": [
       "torch.Size([1, 5, 2])"
      ]
     },
     "execution_count": 18,
     "metadata": {},
     "output_type": "execute_result"
    }
   ],
   "source": [
    "torch.tensor(np.linspace(0, 30, 10).reshape(1, 5, 2)).size()"
   ]
  },
  {
   "cell_type": "code",
   "execution_count": 19,
   "id": "696b773c-aeb6-4763-b56b-c96575ed4ee1",
   "metadata": {
    "pycharm": {
     "name": "#%%\n"
    }
   },
   "outputs": [],
   "source": [
    "x = torch.tensor(np.linspace(0, 30, 10).reshape(1, 5, 2))"
   ]
  },
  {
   "cell_type": "code",
   "execution_count": 20,
   "id": "835732c5",
   "metadata": {
    "pycharm": {
     "name": "#%%\n"
    }
   },
   "outputs": [
    {
     "name": "stdout",
     "output_type": "stream",
     "text": [
      "tensor([1, 2, 3]) [1, 2, 3, 4]\n"
     ]
    }
   ],
   "source": [
    "y = [1, 2, 3]\n",
    "x = torch.tensor(y)\n",
    "y.append(4)\n",
    "print(x, y)"
   ]
  },
  {
   "cell_type": "code",
   "execution_count": 21,
   "id": "660a2c56-402c-48a3-a479-f53cdcd96c44",
   "metadata": {
    "pycharm": {
     "name": "#%%\n"
    }
   },
   "outputs": [
    {
     "name": "stdout",
     "output_type": "stream",
     "text": [
      "tensor([1, 2, 3]) [20, 2, 3]\n"
     ]
    }
   ],
   "source": [
    "y = [1, 2, 3]\n",
    "x = torch.tensor(y)\n",
    "y[0] = 20\n",
    "print(x, y)"
   ]
  },
  {
   "cell_type": "code",
   "execution_count": 22,
   "id": "21bf949c-696b-4b56-8a84-688558b750a0",
   "metadata": {
    "pycharm": {
     "name": "#%%\n"
    }
   },
   "outputs": [
    {
     "name": "stdout",
     "output_type": "stream",
     "text": [
      "tensor([20,  2,  3]) [20  2  3]\n"
     ]
    }
   ],
   "source": [
    "y = np.array([1, 2, 3])\n",
    "x = torch.as_tensor(y)\n",
    "y[0] = 20\n",
    "print(x, y)"
   ]
  },
  {
   "cell_type": "code",
   "execution_count": 23,
   "id": "f50874d2-96cb-4c71-ab33-6e1ef1c18ab1",
   "metadata": {
    "pycharm": {
     "name": "#%%\n"
    }
   },
   "outputs": [
    {
     "name": "stdout",
     "output_type": "stream",
     "text": [
      "tensor([20,  2,  3], device='cuda:0') [-1  2  3]\n"
     ]
    }
   ],
   "source": [
    "x = torch.from_numpy(y).cuda()\n",
    "y[0] = -1\n",
    "print(x, y)"
   ]
  },
  {
   "cell_type": "code",
   "execution_count": 24,
   "id": "67c3dd8e-6bde-45df-9d18-6685e36b14e4",
   "metadata": {
    "pycharm": {
     "name": "#%%\n"
    }
   },
   "outputs": [
    {
     "name": "stdout",
     "output_type": "stream",
     "text": [
      "tensor([1, 2, 3], device='cuda:0') [20  2  3]\n"
     ]
    }
   ],
   "source": [
    "y = np.array([1, 2, 3])\n",
    "x = torch.as_tensor(y).cuda()\n",
    "y[0] = 20\n",
    "print(x, y)"
   ]
  },
  {
   "cell_type": "code",
   "execution_count": 25,
   "id": "87bfe117-5788-41c8-9ad3-abfb21104d3c",
   "metadata": {
    "pycharm": {
     "name": "#%%\n"
    }
   },
   "outputs": [],
   "source": [
    "x.detach().cpu()[0] = 4"
   ]
  },
  {
   "cell_type": "code",
   "execution_count": 26,
   "id": "3d86f019-a327-40db-84a4-0bbf94f0e110",
   "metadata": {
    "pycharm": {
     "name": "#%%\n"
    }
   },
   "outputs": [],
   "source": [
    "x = torch.tensor([[1]])"
   ]
  },
  {
   "cell_type": "code",
   "execution_count": 27,
   "id": "ebe074e7-d10b-4f98-a58f-18712e8e1694",
   "metadata": {
    "pycharm": {
     "name": "#%%\n"
    }
   },
   "outputs": [
    {
     "data": {
      "text/plain": [
       "1"
      ]
     },
     "execution_count": 27,
     "metadata": {},
     "output_type": "execute_result"
    }
   ],
   "source": [
    "x.item()"
   ]
  },
  {
   "cell_type": "code",
   "execution_count": 28,
   "id": "d9cf5fec-4e4a-4dd0-879c-2a03def9237f",
   "metadata": {
    "pycharm": {
     "name": "#%%\n"
    }
   },
   "outputs": [],
   "source": [
    "x = torch.from_numpy(np.random.standard_normal((2, 3, 5)))"
   ]
  },
  {
   "cell_type": "code",
   "execution_count": 29,
   "id": "a38e2385-147e-4187-88c7-8bdc2d01beb8",
   "metadata": {
    "pycharm": {
     "name": "#%%\n"
    }
   },
   "outputs": [
    {
     "data": {
      "text/plain": [
       "(tensor([[[-1.0515,  1.8255,  0.2415,  2.0738,  0.7022],\n",
       "          [-1.6770, -1.0367, -0.5149, -0.0379,  0.6503],\n",
       "          [ 0.2754, -0.9174,  0.3786, -1.2310,  1.8606]],\n",
       " \n",
       "         [[-1.7829,  1.1927, -0.6806,  0.0521,  0.2833],\n",
       "          [-0.3990, -0.6285,  0.7206, -1.3526,  1.4244],\n",
       "          [ 0.5231, -0.8408,  0.1160, -0.4214,  0.9636]]], dtype=torch.float64),\n",
       " torch.Size([2, 3, 5]))"
      ]
     },
     "execution_count": 29,
     "metadata": {},
     "output_type": "execute_result"
    }
   ],
   "source": [
    "x, x.shape"
   ]
  },
  {
   "cell_type": "code",
   "execution_count": 30,
   "id": "c78e2fb6-9164-49cf-bdfc-9b45a3afeb6b",
   "metadata": {
    "pycharm": {
     "name": "#%%\n"
    }
   },
   "outputs": [
    {
     "name": "stderr",
     "output_type": "stream",
     "text": [
      "/tmp/ipykernel_6370/3687214812.py:1: UserWarning: The use of `x.T` on tensors of dimension other than 2 to reverse their shape is deprecated and it will throw an error in a future release. Consider `x.mT` to transpose batches of matricesor `x.permute(*torch.arange(x.ndim - 1, -1, -1))` to reverse the dimensions of a tensor. (Triggered internally at  ../aten/src/ATen/native/TensorShape.cpp:2981.)\n",
      "  x.T, x.T.shape\n"
     ]
    },
    {
     "data": {
      "text/plain": [
       "(tensor([[[-1.0515, -1.7829],\n",
       "          [-1.6770, -0.3990],\n",
       "          [ 0.2754,  0.5231]],\n",
       " \n",
       "         [[ 1.8255,  1.1927],\n",
       "          [-1.0367, -0.6285],\n",
       "          [-0.9174, -0.8408]],\n",
       " \n",
       "         [[ 0.2415, -0.6806],\n",
       "          [-0.5149,  0.7206],\n",
       "          [ 0.3786,  0.1160]],\n",
       " \n",
       "         [[ 2.0738,  0.0521],\n",
       "          [-0.0379, -1.3526],\n",
       "          [-1.2310, -0.4214]],\n",
       " \n",
       "         [[ 0.7022,  0.2833],\n",
       "          [ 0.6503,  1.4244],\n",
       "          [ 1.8606,  0.9636]]], dtype=torch.float64),\n",
       " torch.Size([5, 3, 2]))"
      ]
     },
     "execution_count": 30,
     "metadata": {},
     "output_type": "execute_result"
    }
   ],
   "source": [
    "x.T, x.T.shape"
   ]
  },
  {
   "cell_type": "code",
   "execution_count": 31,
   "id": "e44e4e46-6e86-4093-9e80-4bfb054d95b4",
   "metadata": {
    "pycharm": {
     "name": "#%%\n"
    }
   },
   "outputs": [],
   "source": [
    "# view of x\n",
    "y = x.T"
   ]
  },
  {
   "cell_type": "code",
   "execution_count": 32,
   "id": "c102c88e-947c-476f-8c50-a9b02300be07",
   "metadata": {
    "pycharm": {
     "name": "#%%\n"
    }
   },
   "outputs": [],
   "source": [
    "y[0][0][0] = -6"
   ]
  },
  {
   "cell_type": "code",
   "execution_count": 33,
   "id": "73c4b26a-8a6f-4fa0-95af-ebafe47741b7",
   "metadata": {
    "pycharm": {
     "name": "#%%\n"
    }
   },
   "outputs": [
    {
     "data": {
      "text/plain": [
       "tensor([[[-6.0000,  1.8255,  0.2415,  2.0738,  0.7022],\n",
       "         [-1.6770, -1.0367, -0.5149, -0.0379,  0.6503],\n",
       "         [ 0.2754, -0.9174,  0.3786, -1.2310,  1.8606]],\n",
       "\n",
       "        [[-1.7829,  1.1927, -0.6806,  0.0521,  0.2833],\n",
       "         [-0.3990, -0.6285,  0.7206, -1.3526,  1.4244],\n",
       "         [ 0.5231, -0.8408,  0.1160, -0.4214,  0.9636]]], dtype=torch.float64)"
      ]
     },
     "execution_count": 33,
     "metadata": {},
     "output_type": "execute_result"
    }
   ],
   "source": [
    "x"
   ]
  },
  {
   "cell_type": "code",
   "execution_count": 34,
   "id": "bd259a02-bb2f-40a6-8af6-8d4e9c121830",
   "metadata": {
    "pycharm": {
     "name": "#%%\n"
    }
   },
   "outputs": [],
   "source": [
    "z = x.permute((2, 1, 0))"
   ]
  },
  {
   "cell_type": "code",
   "execution_count": 35,
   "id": "da28810f-65ab-487c-a93e-35b95b432648",
   "metadata": {
    "pycharm": {
     "name": "#%%\n"
    }
   },
   "outputs": [
    {
     "data": {
      "text/plain": [
       "tensor([[[-6.0000, -1.7829],\n",
       "         [-1.6770, -0.3990],\n",
       "         [ 0.2754,  0.5231]],\n",
       "\n",
       "        [[ 1.8255,  1.1927],\n",
       "         [-1.0367, -0.6285],\n",
       "         [-0.9174, -0.8408]],\n",
       "\n",
       "        [[ 0.2415, -0.6806],\n",
       "         [-0.5149,  0.7206],\n",
       "         [ 0.3786,  0.1160]],\n",
       "\n",
       "        [[ 2.0738,  0.0521],\n",
       "         [-0.0379, -1.3526],\n",
       "         [-1.2310, -0.4214]],\n",
       "\n",
       "        [[ 0.7022,  0.2833],\n",
       "         [ 0.6503,  1.4244],\n",
       "         [ 1.8606,  0.9636]]], dtype=torch.float64)"
      ]
     },
     "execution_count": 35,
     "metadata": {},
     "output_type": "execute_result"
    }
   ],
   "source": [
    "z"
   ]
  },
  {
   "cell_type": "code",
   "execution_count": 36,
   "id": "6b54b553-07b5-40e9-bfb8-c6c85ddfed7e",
   "metadata": {
    "pycharm": {
     "name": "#%%\n"
    }
   },
   "outputs": [],
   "source": [
    "# View\n",
    "z[0] *= 2"
   ]
  },
  {
   "cell_type": "code",
   "execution_count": 37,
   "id": "09dcff0d-5f46-426b-bb0b-cad07ca302fe",
   "metadata": {
    "pycharm": {
     "name": "#%%\n"
    }
   },
   "outputs": [
    {
     "data": {
      "text/plain": [
       "tensor([[[-12.0000,  -3.5657],\n",
       "         [ -3.3539,  -0.7979],\n",
       "         [  0.5507,   1.0461]],\n",
       "\n",
       "        [[  1.8255,   1.1927],\n",
       "         [ -1.0367,  -0.6285],\n",
       "         [ -0.9174,  -0.8408]],\n",
       "\n",
       "        [[  0.2415,  -0.6806],\n",
       "         [ -0.5149,   0.7206],\n",
       "         [  0.3786,   0.1160]],\n",
       "\n",
       "        [[  2.0738,   0.0521],\n",
       "         [ -0.0379,  -1.3526],\n",
       "         [ -1.2310,  -0.4214]],\n",
       "\n",
       "        [[  0.7022,   0.2833],\n",
       "         [  0.6503,   1.4244],\n",
       "         [  1.8606,   0.9636]]], dtype=torch.float64)"
      ]
     },
     "execution_count": 37,
     "metadata": {},
     "output_type": "execute_result"
    }
   ],
   "source": [
    "z"
   ]
  },
  {
   "cell_type": "code",
   "execution_count": 38,
   "id": "608b9643-0726-4b4e-bf9e-3952aaa8cd77",
   "metadata": {
    "pycharm": {
     "name": "#%%\n"
    }
   },
   "outputs": [
    {
     "data": {
      "text/plain": [
       "tensor([[[-12.0000,   1.8255,   0.2415,   2.0738,   0.7022],\n",
       "         [ -3.3539,  -1.0367,  -0.5149,  -0.0379,   0.6503],\n",
       "         [  0.5507,  -0.9174,   0.3786,  -1.2310,   1.8606]],\n",
       "\n",
       "        [[ -3.5657,   1.1927,  -0.6806,   0.0521,   0.2833],\n",
       "         [ -0.7979,  -0.6285,   0.7206,  -1.3526,   1.4244],\n",
       "         [  1.0461,  -0.8408,   0.1160,  -0.4214,   0.9636]]],\n",
       "       dtype=torch.float64)"
      ]
     },
     "execution_count": 38,
     "metadata": {},
     "output_type": "execute_result"
    }
   ],
   "source": [
    "x"
   ]
  },
  {
   "cell_type": "code",
   "execution_count": 39,
   "id": "f0cdc5b6-31b4-4b8f-868c-fd2d8d0ce0ef",
   "metadata": {
    "pycharm": {
     "name": "#%%\n"
    }
   },
   "outputs": [
    {
     "data": {
      "text/plain": [
       "torch.Size([2, 3, 5])"
      ]
     },
     "execution_count": 39,
     "metadata": {},
     "output_type": "execute_result"
    }
   ],
   "source": [
    "x.shape"
   ]
  },
  {
   "cell_type": "code",
   "execution_count": 40,
   "id": "d933d874-46d4-48ea-8686-4e1c68cac5ae",
   "metadata": {
    "pycharm": {
     "name": "#%%\n"
    }
   },
   "outputs": [
    {
     "data": {
      "text/plain": [
       "tensor([[[-12.0000,  -3.5657],\n",
       "         [ -3.3539,  -0.7979],\n",
       "         [  0.5507,   1.0461]],\n",
       "\n",
       "        [[  1.8255,   1.1927],\n",
       "         [ -1.0367,  -0.6285],\n",
       "         [ -0.9174,  -0.8408]],\n",
       "\n",
       "        [[  0.2415,  -0.6806],\n",
       "         [ -0.5149,   0.7206],\n",
       "         [  0.3786,   0.1160]],\n",
       "\n",
       "        [[  2.0738,   0.0521],\n",
       "         [ -0.0379,  -1.3526],\n",
       "         [ -1.2310,  -0.4214]],\n",
       "\n",
       "        [[  0.7022,   0.2833],\n",
       "         [  0.6503,   1.4244],\n",
       "         [  1.8606,   0.9636]]], dtype=torch.float64)"
      ]
     },
     "execution_count": 40,
     "metadata": {},
     "output_type": "execute_result"
    }
   ],
   "source": [
    "x.T"
   ]
  },
  {
   "cell_type": "code",
   "execution_count": 41,
   "id": "cb8c0073-42f7-4ed2-b797-07d4af7f3911",
   "metadata": {
    "pycharm": {
     "name": "#%%\n"
    }
   },
   "outputs": [
    {
     "data": {
      "text/plain": [
       "tensor([[[-12.0000,  -3.3539,   0.5507],\n",
       "         [  1.8255,  -1.0367,  -0.9174],\n",
       "         [  0.2415,  -0.5149,   0.3786],\n",
       "         [  2.0738,  -0.0379,  -1.2310],\n",
       "         [  0.7022,   0.6503,   1.8606]],\n",
       "\n",
       "        [[ -3.5657,  -0.7979,   1.0461],\n",
       "         [  1.1927,  -0.6285,  -0.8408],\n",
       "         [ -0.6806,   0.7206,   0.1160],\n",
       "         [  0.0521,  -1.3526,  -0.4214],\n",
       "         [  0.2833,   1.4244,   0.9636]]], dtype=torch.float64)"
      ]
     },
     "execution_count": 41,
     "metadata": {},
     "output_type": "execute_result"
    }
   ],
   "source": [
    "x.mT"
   ]
  },
  {
   "cell_type": "code",
   "execution_count": 42,
   "id": "7a89918e-75da-436a-af9b-4d9cd749d12b",
   "metadata": {
    "pycharm": {
     "name": "#%%\n"
    }
   },
   "outputs": [
    {
     "data": {
      "text/plain": [
       "torch.Size([2, 5, 3])"
      ]
     },
     "execution_count": 42,
     "metadata": {},
     "output_type": "execute_result"
    }
   ],
   "source": [
    "x.mT.shape"
   ]
  },
  {
   "cell_type": "code",
   "execution_count": 43,
   "id": "77c93a59-14ca-47f2-9064-49439aa12fb0",
   "metadata": {
    "pycharm": {
     "name": "#%%\n"
    }
   },
   "outputs": [],
   "source": [
    "x = torch.from_numpy(np.random.standard_normal((2, 4, 3)))"
   ]
  },
  {
   "cell_type": "code",
   "execution_count": 44,
   "id": "02361535-2df5-4540-b070-03eb3cdabd2c",
   "metadata": {
    "pycharm": {
     "name": "#%%\n"
    }
   },
   "outputs": [
    {
     "data": {
      "text/plain": [
       "tensor([[[-0.4072,  0.5869,  0.1657],\n",
       "         [-0.4047,  0.5791, -0.0752],\n",
       "         [ 0.0499, -0.3501, -1.0806],\n",
       "         [ 0.5472,  0.7060,  1.5146]],\n",
       "\n",
       "        [[-0.3035,  0.8827, -0.7835],\n",
       "         [-0.6369,  0.3440,  1.6243],\n",
       "         [-1.2218,  0.6084, -0.1069],\n",
       "         [-0.5566,  0.3096,  2.3234]]], dtype=torch.float64)"
      ]
     },
     "execution_count": 44,
     "metadata": {},
     "output_type": "execute_result"
    }
   ],
   "source": [
    "x"
   ]
  },
  {
   "cell_type": "code",
   "execution_count": 45,
   "id": "033c1688-8a1e-4a1d-ac8e-b35eacfb32b2",
   "metadata": {
    "pycharm": {
     "name": "#%%\n"
    }
   },
   "outputs": [
    {
     "data": {
      "text/plain": [
       "tensor([[[-0.4072, -0.3035],\n",
       "         [ 0.5869,  0.8827],\n",
       "         [ 0.1657, -0.7835]],\n",
       "\n",
       "        [[-0.4047, -0.6369],\n",
       "         [ 0.5791,  0.3440],\n",
       "         [-0.0752,  1.6243]],\n",
       "\n",
       "        [[ 0.0499, -1.2218],\n",
       "         [-0.3501,  0.6084],\n",
       "         [-1.0806, -0.1069]],\n",
       "\n",
       "        [[ 0.5472, -0.5566],\n",
       "         [ 0.7060,  0.3096],\n",
       "         [ 1.5146,  2.3234]]], dtype=torch.float64)"
      ]
     },
     "execution_count": 45,
     "metadata": {},
     "output_type": "execute_result"
    }
   ],
   "source": [
    "x.permute((1, -1, 0))"
   ]
  },
  {
   "cell_type": "code",
   "execution_count": 46,
   "id": "5a62ba69-7113-4b71-92c2-78cd621b9adf",
   "metadata": {
    "pycharm": {
     "name": "#%%\n"
    }
   },
   "outputs": [
    {
     "data": {
      "text/plain": [
       "torch.Size([4, 3, 2])"
      ]
     },
     "execution_count": 46,
     "metadata": {},
     "output_type": "execute_result"
    }
   ],
   "source": [
    "x.permute((1, -1, 0)).shape"
   ]
  },
  {
   "cell_type": "code",
   "execution_count": 47,
   "id": "7ac36dda-6fce-41c6-86e1-53fa853cd181",
   "metadata": {
    "pycharm": {
     "name": "#%%\n"
    }
   },
   "outputs": [
    {
     "data": {
      "text/plain": [
       "tensor([[0., 0., 0., 0., 0.],\n",
       "        [0., 0., 0., 0., 0.],\n",
       "        [0., 0., 0., 0., 0.],\n",
       "        [0., 0., 0., 0., 0.],\n",
       "        [0., 0., 0., 0., 0.],\n",
       "        [0., 0., 0., 0., 0.],\n",
       "        [0., 0., 0., 0., 0.],\n",
       "        [0., 0., 0., 0., 0.],\n",
       "        [0., 0., 0., 0., 0.],\n",
       "        [0., 0., 0., 0., 0.]])"
      ]
     },
     "execution_count": 47,
     "metadata": {},
     "output_type": "execute_result"
    }
   ],
   "source": [
    "torch.zeros((10, 5))"
   ]
  },
  {
   "cell_type": "code",
   "execution_count": 48,
   "id": "ddc2c0e0-96f8-40be-96ca-8a1ba6fd5733",
   "metadata": {
    "pycharm": {
     "name": "#%%\n"
    }
   },
   "outputs": [
    {
     "data": {
      "text/plain": [
       "tensor([[1., 1., 1., 1., 1.],\n",
       "        [1., 1., 1., 1., 1.],\n",
       "        [1., 1., 1., 1., 1.],\n",
       "        [1., 1., 1., 1., 1.],\n",
       "        [1., 1., 1., 1., 1.],\n",
       "        [1., 1., 1., 1., 1.],\n",
       "        [1., 1., 1., 1., 1.],\n",
       "        [1., 1., 1., 1., 1.],\n",
       "        [1., 1., 1., 1., 1.],\n",
       "        [1., 1., 1., 1., 1.]])"
      ]
     },
     "execution_count": 48,
     "metadata": {},
     "output_type": "execute_result"
    }
   ],
   "source": [
    "torch.ones((10, 5))"
   ]
  },
  {
   "cell_type": "code",
   "execution_count": 49,
   "id": "76c7ac0a-59c1-47e3-bbe7-ed13fd87c626",
   "metadata": {
    "pycharm": {
     "name": "#%%\n"
    }
   },
   "outputs": [
    {
     "data": {
      "text/plain": [
       "device(type='cpu')"
      ]
     },
     "execution_count": 49,
     "metadata": {},
     "output_type": "execute_result"
    }
   ],
   "source": [
    "x.device"
   ]
  },
  {
   "cell_type": "code",
   "execution_count": 50,
   "id": "515e3c03-4e35-4bb4-a025-23a6b1273c07",
   "metadata": {
    "pycharm": {
     "name": "#%%\n"
    }
   },
   "outputs": [
    {
     "data": {
      "text/plain": [
       "device(type='cpu')"
      ]
     },
     "execution_count": 50,
     "metadata": {},
     "output_type": "execute_result"
    }
   ],
   "source": [
    "torch.device(\"cpu\")"
   ]
  },
  {
   "cell_type": "code",
   "execution_count": 51,
   "id": "f2ba9996-a166-4cae-a10c-66538a370b01",
   "metadata": {
    "pycharm": {
     "name": "#%%\n"
    }
   },
   "outputs": [
    {
     "data": {
      "text/plain": [
       "device(type='cuda', index=0)"
      ]
     },
     "execution_count": 51,
     "metadata": {},
     "output_type": "execute_result"
    }
   ],
   "source": [
    "torch.device(\"cuda:0\")"
   ]
  },
  {
   "cell_type": "code",
   "execution_count": 52,
   "id": "c2de43a3-4a41-4948-8553-3d21aa971642",
   "metadata": {
    "pycharm": {
     "name": "#%%\n"
    }
   },
   "outputs": [
    {
     "data": {
      "text/plain": [
       "24"
      ]
     },
     "execution_count": 52,
     "metadata": {},
     "output_type": "execute_result"
    }
   ],
   "source": [
    "# Product of x size shape\n",
    "x.numel()"
   ]
  },
  {
   "cell_type": "code",
   "execution_count": 53,
   "id": "1d297107-20b2-4ab0-96e0-2328c28df603",
   "metadata": {
    "pycharm": {
     "name": "#%%\n"
    }
   },
   "outputs": [
    {
     "data": {
      "text/plain": [
       "torch.float64"
      ]
     },
     "execution_count": 53,
     "metadata": {},
     "output_type": "execute_result"
    }
   ],
   "source": [
    "x.dtype"
   ]
  },
  {
   "cell_type": "code",
   "execution_count": 54,
   "id": "39661bd8-c6ed-44a6-9bef-9c548bcf87f2",
   "metadata": {
    "pycharm": {
     "name": "#%%\n"
    }
   },
   "outputs": [
    {
     "data": {
      "text/plain": [
       "torch.float32"
      ]
     },
     "execution_count": 54,
     "metadata": {},
     "output_type": "execute_result"
    }
   ],
   "source": [
    "torch.get_default_dtype()"
   ]
  },
  {
   "cell_type": "code",
   "execution_count": 55,
   "id": "aba45475-aaee-4739-a40b-d1ccfe14272a",
   "metadata": {
    "pycharm": {
     "name": "#%%\n"
    }
   },
   "outputs": [
    {
     "data": {
      "text/plain": [
       "(tensor([2., 3.]), torch.float64)"
      ]
     },
     "execution_count": 55,
     "metadata": {},
     "output_type": "execute_result"
    }
   ],
   "source": [
    "torch.set_default_dtype(torch.float64)\n",
    "x = torch.tensor([2.0, 3.0])\n",
    "x, x.dtype"
   ]
  },
  {
   "cell_type": "code",
   "execution_count": 56,
   "id": "545ead16-b2f4-49ab-8660-4ea121a064e3",
   "metadata": {
    "pycharm": {
     "name": "#%%\n"
    }
   },
   "outputs": [
    {
     "data": {
      "text/plain": [
       "torch.float64"
      ]
     },
     "execution_count": 56,
     "metadata": {},
     "output_type": "execute_result"
    }
   ],
   "source": [
    "torch.get_default_dtype()"
   ]
  },
  {
   "cell_type": "code",
   "execution_count": 57,
   "id": "941b86e6-2ce1-4394-b252-aec18d5a50c4",
   "metadata": {
    "pycharm": {
     "name": "#%%\n"
    }
   },
   "outputs": [],
   "source": [
    "torch.set_default_dtype(torch.float32)"
   ]
  },
  {
   "cell_type": "code",
   "execution_count": 58,
   "id": "e664b192-2558-4a5f-9db7-1d22bf260ccd",
   "metadata": {
    "pycharm": {
     "name": "#%%\n"
    }
   },
   "outputs": [
    {
     "data": {
      "text/plain": [
       "(tensor([2., 3.]), torch.float32)"
      ]
     },
     "execution_count": 58,
     "metadata": {},
     "output_type": "execute_result"
    }
   ],
   "source": [
    "x = torch.tensor([2.0, 3.0])\n",
    "x, x.dtype"
   ]
  },
  {
   "cell_type": "code",
   "execution_count": 59,
   "id": "a7a6a462-57bb-403b-9380-7caa730c08db",
   "metadata": {
    "pycharm": {
     "name": "#%%\n"
    }
   },
   "outputs": [],
   "source": [
    "a = torch.tensor([1, 2, 3.], requires_grad=True).cuda()"
   ]
  },
  {
   "cell_type": "code",
   "execution_count": 60,
   "id": "600dec67-3b29-407a-8680-397ffd0b71aa",
   "metadata": {
    "pycharm": {
     "name": "#%%\n"
    }
   },
   "outputs": [],
   "source": [
    "b = torch.asarray(a)"
   ]
  },
  {
   "cell_type": "code",
   "execution_count": 61,
   "id": "6c6989a4-02f4-4788-9964-9fb34ab376fd",
   "metadata": {
    "pycharm": {
     "name": "#%%\n"
    }
   },
   "outputs": [
    {
     "data": {
      "text/plain": [
       "tensor([1., 2., 3.], device='cuda:0')"
      ]
     },
     "execution_count": 61,
     "metadata": {},
     "output_type": "execute_result"
    }
   ],
   "source": [
    "b"
   ]
  },
  {
   "cell_type": "code",
   "execution_count": 62,
   "id": "29427df4-4534-47d6-ba8f-1bf065f280a1",
   "metadata": {
    "pycharm": {
     "name": "#%%\n"
    }
   },
   "outputs": [
    {
     "data": {
      "text/plain": [
       "(False, device(type='cuda', index=0))"
      ]
     },
     "execution_count": 62,
     "metadata": {},
     "output_type": "execute_result"
    }
   ],
   "source": [
    "b.requires_grad, b.device"
   ]
  },
  {
   "cell_type": "code",
   "execution_count": 63,
   "id": "4f094357-b3f8-4988-b5cf-4a1e55431bed",
   "metadata": {
    "pycharm": {
     "name": "#%%\n"
    }
   },
   "outputs": [
    {
     "data": {
      "text/plain": [
       "True"
      ]
     },
     "execution_count": 63,
     "metadata": {},
     "output_type": "execute_result"
    }
   ],
   "source": [
    "a.requires_grad"
   ]
  },
  {
   "cell_type": "code",
   "execution_count": 64,
   "id": "19bb6f41-2ab8-4fb2-bb32-bcc77c92fd95",
   "metadata": {
    "pycharm": {
     "name": "#%%\n"
    }
   },
   "outputs": [
    {
     "data": {
      "text/plain": [
       "(tensor([1., 2., 3.], device='cuda:0', grad_fn=<ToCopyBackward0>),\n",
       " device(type='cuda', index=0),\n",
       " True)"
      ]
     },
     "execution_count": 64,
     "metadata": {},
     "output_type": "execute_result"
    }
   ],
   "source": [
    "b = torch.asarray(a, requires_grad=True)\n",
    "b, b.device, b.requires_grad"
   ]
  },
  {
   "cell_type": "code",
   "execution_count": 65,
   "id": "87a4a4ef-1356-473e-a077-cdef8dba994b",
   "metadata": {
    "pycharm": {
     "name": "#%%\n"
    }
   },
   "outputs": [
    {
     "data": {
      "text/plain": [
       "(tensor([2., 4., 6.], device='cuda:0', grad_fn=<MulBackward0>),\n",
       " tensor([2., 4., 6.], device='cuda:0', grad_fn=<MulBackward0>))"
      ]
     },
     "execution_count": 65,
     "metadata": {},
     "output_type": "execute_result"
    }
   ],
   "source": [
    "a *= 2\n",
    "a, b"
   ]
  },
  {
   "cell_type": "code",
   "execution_count": 66,
   "id": "b4aa8a5e-fc73-424f-9e14-e07b2a61143b",
   "metadata": {
    "pycharm": {
     "name": "#%%\n"
    }
   },
   "outputs": [
    {
     "data": {
      "text/plain": [
       "True"
      ]
     },
     "execution_count": 66,
     "metadata": {},
     "output_type": "execute_result"
    }
   ],
   "source": [
    "a.data_ptr() == b.data_ptr()"
   ]
  },
  {
   "cell_type": "code",
   "execution_count": 67,
   "id": "61f9d325-80fa-434f-88dd-b2330ab9650b",
   "metadata": {
    "pycharm": {
     "name": "#%%\n"
    }
   },
   "outputs": [
    {
     "data": {
      "text/plain": [
       "False"
      ]
     },
     "execution_count": 67,
     "metadata": {},
     "output_type": "execute_result"
    }
   ],
   "source": [
    "c = torch.asarray(a, copy=True)\n",
    "c.data_ptr() == a.data_ptr()"
   ]
  },
  {
   "cell_type": "code",
   "execution_count": 68,
   "id": "8fb073dd-df97-4cf2-878a-db16703b269c",
   "metadata": {
    "pycharm": {
     "name": "#%%\n"
    }
   },
   "outputs": [],
   "source": [
    "a *= 2"
   ]
  },
  {
   "cell_type": "code",
   "execution_count": 69,
   "id": "7a0711f0-529b-44f9-ab90-2b1e66405ac2",
   "metadata": {
    "pycharm": {
     "name": "#%%\n"
    }
   },
   "outputs": [
    {
     "data": {
      "text/plain": [
       "(tensor([ 4.,  8., 12.], device='cuda:0', grad_fn=<MulBackward0>),\n",
       " tensor([ 4.,  8., 12.], device='cuda:0', grad_fn=<MulBackward0>),\n",
       " tensor([2., 4., 6.], device='cuda:0'))"
      ]
     },
     "execution_count": 69,
     "metadata": {},
     "output_type": "execute_result"
    }
   ],
   "source": [
    "a, b, c"
   ]
  },
  {
   "cell_type": "code",
   "execution_count": 70,
   "id": "ef68340b-9723-4bdc-ab86-9630622e7f87",
   "metadata": {
    "pycharm": {
     "name": "#%%\n"
    }
   },
   "outputs": [
    {
     "data": {
      "text/plain": [
       "139755402560000"
      ]
     },
     "execution_count": 70,
     "metadata": {},
     "output_type": "execute_result"
    }
   ],
   "source": [
    "c.data_ptr()"
   ]
  },
  {
   "cell_type": "code",
   "execution_count": 71,
   "id": "2d981ff0-bd81-41ea-a432-1b2defe1c7a9",
   "metadata": {
    "pycharm": {
     "name": "#%%\n"
    }
   },
   "outputs": [
    {
     "data": {
      "text/plain": [
       "94467873410320"
      ]
     },
     "execution_count": 71,
     "metadata": {},
     "output_type": "execute_result"
    }
   ],
   "source": [
    "# Numpy data_ptr\n",
    "np.array([1, 2, 3]).__array_interface__[\"data\"][0]"
   ]
  },
  {
   "cell_type": "code",
   "execution_count": 72,
   "id": "859be230-a9ff-4345-9d29-3a001cbca47c",
   "metadata": {
    "pycharm": {
     "name": "#%%\n"
    }
   },
   "outputs": [
    {
     "data": {
      "text/plain": [
       "tensor([1, 0, 2, 0, 3, 0], dtype=torch.int16)"
      ]
     },
     "execution_count": 72,
     "metadata": {},
     "output_type": "execute_result"
    }
   ],
   "source": [
    "a = array.array('i', [1, 2, 3])\n",
    "b = torch.frombuffer(a, dtype=torch.int16)\n",
    "b"
   ]
  },
  {
   "cell_type": "code",
   "execution_count": 73,
   "id": "a84b4158",
   "metadata": {
    "collapsed": false,
    "jupyter": {
     "outputs_hidden": false
    },
    "pycharm": {
     "name": "#%%\n"
    }
   },
   "outputs": [
    {
     "data": {
      "text/plain": [
       "tensor([65,  0,  0,  0, 66,  0,  0,  0], dtype=torch.int8)"
      ]
     },
     "execution_count": 73,
     "metadata": {},
     "output_type": "execute_result"
    }
   ],
   "source": [
    "c = array.array('u', ['A', 'B'])\n",
    "b = torch.frombuffer(c, dtype=torch.int8)\n",
    "b"
   ]
  },
  {
   "cell_type": "code",
   "execution_count": 74,
   "id": "3adc9ca6",
   "metadata": {
    "collapsed": false,
    "jupyter": {
     "outputs_hidden": false
    },
    "pycharm": {
     "name": "#%%\n"
    }
   },
   "outputs": [],
   "source": [
    "x = torch.randn(5, 5)"
   ]
  },
  {
   "cell_type": "code",
   "execution_count": 75,
   "id": "f0d54738",
   "metadata": {
    "collapsed": false,
    "jupyter": {
     "outputs_hidden": false
    },
    "pycharm": {
     "name": "#%%\n"
    }
   },
   "outputs": [
    {
     "data": {
      "text/plain": [
       "tensor([[-1.5813, -0.4337,  0.3027, -1.2180, -0.9503],\n",
       "        [ 0.4511, -0.2591,  0.9578, -1.8174,  0.8920],\n",
       "        [ 0.5342, -0.3572,  0.7105, -0.4269,  0.6064],\n",
       "        [-1.6215, -0.6079,  0.7207,  1.1098,  2.5863],\n",
       "        [ 0.6796, -1.0624, -0.2001,  0.7767,  0.5696]])"
      ]
     },
     "execution_count": 75,
     "metadata": {},
     "output_type": "execute_result"
    }
   ],
   "source": [
    "x"
   ]
  },
  {
   "cell_type": "code",
   "execution_count": 76,
   "id": "1c259ecc",
   "metadata": {
    "collapsed": false,
    "jupyter": {
     "outputs_hidden": false
    },
    "pycharm": {
     "name": "#%%\n"
    }
   },
   "outputs": [
    {
     "data": {
      "text/plain": [
       "tensor([[-1.5813, -0.2591],\n",
       "        [-0.9503,  0.5342]])"
      ]
     },
     "execution_count": 76,
     "metadata": {},
     "output_type": "execute_result"
    }
   ],
   "source": [
    "t = torch.as_strided(x, (2, 2), (4, 6) )\n",
    "t"
   ]
  },
  {
   "cell_type": "code",
   "execution_count": 77,
   "id": "b73945a7",
   "metadata": {
    "collapsed": false,
    "jupyter": {
     "outputs_hidden": false
    },
    "pycharm": {
     "name": "#%%\n"
    }
   },
   "outputs": [
    {
     "data": {
      "text/plain": [
       "tensor([[-0.4337,  0.9578],\n",
       "        [ 0.4511, -0.3572]])"
      ]
     },
     "execution_count": 77,
     "metadata": {},
     "output_type": "execute_result"
    }
   ],
   "source": [
    "t = torch.as_strided(x, (2, 2), (4, 6) , 1)\n",
    "t\n"
   ]
  },
  {
   "cell_type": "code",
   "execution_count": 78,
   "id": "d8582605",
   "metadata": {
    "collapsed": false,
    "jupyter": {
     "outputs_hidden": false
    },
    "pycharm": {
     "name": "#%%\n"
    }
   },
   "outputs": [
    {
     "data": {
      "text/plain": [
       "tensor([[ 0.3027, -1.8174],\n",
       "        [-0.2591,  0.7105]])"
      ]
     },
     "execution_count": 78,
     "metadata": {},
     "output_type": "execute_result"
    }
   ],
   "source": [
    "t = torch.as_strided(x, (2, 2), (4, 6) , 2)\n",
    "t\n",
    "\n"
   ]
  },
  {
   "cell_type": "code",
   "execution_count": 79,
   "id": "bdd710bb",
   "metadata": {
    "collapsed": false,
    "jupyter": {
     "outputs_hidden": false
    },
    "pycharm": {
     "name": "#%%\n"
    }
   },
   "outputs": [
    {
     "data": {
      "text/plain": [
       "tensor([[0.6064, 0.6796],\n",
       "        [1.1098, 0.5696]])"
      ]
     },
     "execution_count": 79,
     "metadata": {},
     "output_type": "execute_result"
    }
   ],
   "source": [
    "t = torch.as_strided(x, (2, 2), (4, 6) , 14)\n",
    "t"
   ]
  },
  {
   "cell_type": "code",
   "execution_count": 80,
   "id": "c0bca1d1",
   "metadata": {
    "collapsed": false,
    "jupyter": {
     "outputs_hidden": false
    },
    "pycharm": {
     "name": "#%%\n"
    }
   },
   "outputs": [
    {
     "data": {
      "text/plain": [
       "tensor([[[0.6064],\n",
       "         [0.6796]],\n",
       "\n",
       "        [[1.1098],\n",
       "         [0.5696]]])"
      ]
     },
     "execution_count": 80,
     "metadata": {},
     "output_type": "execute_result"
    }
   ],
   "source": [
    "t = torch.as_strided(x, (2, 2, 1), (4, 6, 1) , 14)\n",
    "t\n",
    "\n"
   ]
  },
  {
   "cell_type": "code",
   "execution_count": 81,
   "id": "01b8fe72",
   "metadata": {
    "collapsed": false,
    "jupyter": {
     "outputs_hidden": false
    },
    "pycharm": {
     "name": "#%%\n"
    }
   },
   "outputs": [
    {
     "data": {
      "text/plain": [
       "tensor([1.0000, 1.5000, 2.0000, 2.5000, 3.0000, 3.5000, 4.0000, 4.5000, 5.0000,\n",
       "        5.5000, 6.0000, 6.5000, 7.0000, 7.5000, 8.0000, 8.5000, 9.0000, 9.5000])"
      ]
     },
     "execution_count": 81,
     "metadata": {},
     "output_type": "execute_result"
    }
   ],
   "source": [
    "x = torch.arange(1, 10, 0.5)\n",
    "x"
   ]
  },
  {
   "cell_type": "code",
   "execution_count": 82,
   "id": "d885c4ec",
   "metadata": {
    "collapsed": false,
    "jupyter": {
     "outputs_hidden": false
    },
    "pycharm": {
     "name": "#%%\n"
    }
   },
   "outputs": [
    {
     "data": {
      "text/plain": [
       "tensor([ 1.0000,  3.2500,  5.5000,  7.7500, 10.0000])"
      ]
     },
     "execution_count": 82,
     "metadata": {},
     "output_type": "execute_result"
    }
   ],
   "source": [
    "x = torch.linspace(1, 10, 5)\n",
    "x"
   ]
  },
  {
   "cell_type": "code",
   "execution_count": 83,
   "id": "5dc07568",
   "metadata": {
    "collapsed": false,
    "jupyter": {
     "outputs_hidden": false
    },
    "pycharm": {
     "name": "#%%\n"
    }
   },
   "outputs": [
    {
     "name": "stderr",
     "output_type": "stream",
     "text": [
      "/tmp/ipykernel_6370/1458550859.py:1: UserWarning: torch.range is deprecated and will be removed in a future release because its behavior is inconsistent with Python's range builtin. Instead, use torch.arange, which produces values in [start, end).\n",
      "  x = torch.range(1, 10, 2, dtype=torch.int32)\n"
     ]
    },
    {
     "data": {
      "text/plain": [
       "tensor([1, 3, 5, 7, 9], dtype=torch.int32)"
      ]
     },
     "execution_count": 83,
     "metadata": {},
     "output_type": "execute_result"
    }
   ],
   "source": [
    "x = torch.range(1, 10, 2, dtype=torch.int32)\n",
    "x"
   ]
  },
  {
   "cell_type": "code",
   "execution_count": 84,
   "id": "8b501646",
   "metadata": {
    "collapsed": false,
    "jupyter": {
     "outputs_hidden": false
    },
    "pycharm": {
     "name": "#%%\n"
    }
   },
   "outputs": [
    {
     "data": {
      "text/plain": [
       "tensor([0.1250, 0.3536, 1.0000, 2.8284, 8.0000])"
      ]
     },
     "execution_count": 84,
     "metadata": {},
     "output_type": "execute_result"
    }
   ],
   "source": [
    "\"\"\"\n",
    "(\n",
    "base ** start,\n",
    "base **(start+ steps−1 end−start),\n",
    "base ** end\n",
    ")\n",
    "\"\"\"\n",
    "torch.logspace(-3, 3, 5, base=2)"
   ]
  },
  {
   "cell_type": "code",
   "execution_count": 85,
   "id": "51495b1e",
   "metadata": {
    "collapsed": false,
    "jupyter": {
     "outputs_hidden": false
    },
    "pycharm": {
     "name": "#%%\n"
    }
   },
   "outputs": [
    {
     "name": "stdout",
     "output_type": "stream",
     "text": [
      "tensor([[0., 0., 0., 0., 0.],\n",
      "        [0., 0., 0., 0., 0.],\n",
      "        [0., 0., 0., 0., 0.],\n",
      "        [0., 0., 0., 0., 0.],\n",
      "        [0., 0., 0., 0., 0.],\n",
      "        [0., 0., 0., 0., 0.],\n",
      "        [0., 0., 0., 0., 0.],\n",
      "        [0., 0., 0., 0., 0.],\n",
      "        [0., 0., 0., 0., 0.],\n",
      "        [0., 0., 0., 0., 0.]])\n"
     ]
    },
    {
     "data": {
      "text/plain": [
       "(tensor([[1., 0., 0., 0.],\n",
       "         [0., 1., 0., 0.],\n",
       "         [0., 0., 1., 0.]]),\n",
       " tensor([[1., 0., 0., 0.],\n",
       "         [0., 1., 0., 0.],\n",
       "         [0., 0., 1., 0.]]))"
      ]
     },
     "execution_count": 85,
     "metadata": {},
     "output_type": "execute_result"
    }
   ],
   "source": [
    "s = (10, 5)\n",
    "y  = torch.zeros(s)\n",
    "print(y)\n",
    "x = torch.eye(3, 4, out=y)\n",
    "x, y"
   ]
  },
  {
   "cell_type": "code",
   "execution_count": 86,
   "id": "cbcc2530",
   "metadata": {
    "collapsed": false,
    "jupyter": {
     "outputs_hidden": false
    },
    "pycharm": {
     "name": "#%%\n"
    }
   },
   "outputs": [
    {
     "data": {
      "text/plain": [
       "tensor([[ 808591904,  808268594,  875638065,  976630100,  809121587],\n",
       "        [ 959852080,  808464434,  539763290, 1735617826,  577005919],\n",
       "        [1646403642, 1664575025,  758264115,  959854949, 1664234541],\n",
       "        [ 943271225, 1697462374, 1698117944,  825571430,  573989218],\n",
       "        [1830953004, 1952409459,  577073273, 1696735290, 1969448312],\n",
       "        [1918854516, 1702195557,  740455539, 1702044192, 1869181811],\n",
       "        [ 540680814, 1647392802, 1664496482,  828583270,  875378484],\n",
       "        [ 761345889,  959655992,  892548141,  942881123, 1647325539],\n",
       "        [ 539763300, 1702065442, 1835101810,  540680805,  808727330],\n",
       "        [1681220405, 1714761061,  875378787,  758462772, 1664495672]],\n",
       "       dtype=torch.int32)"
      ]
     },
     "execution_count": 86,
     "metadata": {},
     "output_type": "execute_result"
    }
   ],
   "source": [
    "x = torch.empty(size=s, dtype=torch.int32)\n",
    "x"
   ]
  },
  {
   "cell_type": "code",
   "execution_count": 87,
   "id": "4db32229",
   "metadata": {
    "collapsed": false,
    "jupyter": {
     "outputs_hidden": false
    },
    "pycharm": {
     "name": "#%%\n"
    }
   },
   "outputs": [
    {
     "data": {
      "text/plain": [
       "tensor([[1073741824, 1082130432, 1086324736,          0,          0],\n",
       "        [         0,          0,          0,          0,          0],\n",
       "        [         0,          0,          0,          0,          0],\n",
       "        [         0,          0,          0,          0,          0],\n",
       "        [         0,          0,          0,          0,          0],\n",
       "        [         0,          0,          0,          0,          0],\n",
       "        [         0,          0,          0,          0,          0],\n",
       "        [         0,          0,          0,          0,          0],\n",
       "        [         0,          0,          0,          0,          0],\n",
       "        [         0,          0,          0,          0,          0]],\n",
       "       device='cuda:0', dtype=torch.int32)"
      ]
     },
     "execution_count": 87,
     "metadata": {},
     "output_type": "execute_result"
    }
   ],
   "source": [
    "z = torch.empty_like(x, device='cuda:0')\n",
    "z"
   ]
  },
  {
   "cell_type": "code",
   "execution_count": 88,
   "id": "4a9097cb",
   "metadata": {
    "collapsed": false,
    "jupyter": {
     "outputs_hidden": false
    },
    "pycharm": {
     "name": "#%%\n"
    }
   },
   "outputs": [
    {
     "data": {
      "text/plain": [
       "tensor([[2.1946e+24, 7.7681e-02, 4.4842e-44],\n",
       "        [4.5598e-41, 3.0822e-41, 0.0000e+00],\n",
       "        [7.7681e-02, 4.4842e-44, 1.7937e-43]])"
      ]
     },
     "execution_count": 88,
     "metadata": {},
     "output_type": "execute_result"
    }
   ],
   "source": [
    "a = torch.empty_strided((3, 3), (1, 2))\n",
    "a"
   ]
  },
  {
   "cell_type": "code",
   "execution_count": 89,
   "id": "278fafed",
   "metadata": {
    "collapsed": false,
    "jupyter": {
     "outputs_hidden": false
    },
    "pycharm": {
     "name": "#%%\n"
    }
   },
   "outputs": [
    {
     "data": {
      "text/plain": [
       "(1, 2)"
      ]
     },
     "execution_count": 89,
     "metadata": {},
     "output_type": "execute_result"
    }
   ],
   "source": [
    "a.stride()"
   ]
  },
  {
   "cell_type": "code",
   "execution_count": 90,
   "id": "d25a5ee1",
   "metadata": {
    "collapsed": false,
    "jupyter": {
     "outputs_hidden": false
    },
    "pycharm": {
     "name": "#%%\n"
    }
   },
   "outputs": [
    {
     "data": {
      "text/plain": [
       "tensor([[10, 10, 10, 10],\n",
       "        [10, 10, 10, 10],\n",
       "        [10, 10, 10, 10]], dtype=torch.int32)"
      ]
     },
     "execution_count": 90,
     "metadata": {},
     "output_type": "execute_result"
    }
   ],
   "source": [
    "a = torch.full((3, 4), 10, dtype=torch.int32)\n",
    "a"
   ]
  },
  {
   "cell_type": "code",
   "execution_count": 91,
   "id": "77a2ac82",
   "metadata": {
    "collapsed": false,
    "jupyter": {
     "outputs_hidden": false
    },
    "pycharm": {
     "name": "#%%\n"
    }
   },
   "outputs": [
    {
     "data": {
      "text/plain": [
       "tensor([[2, 2, 2, 2],\n",
       "        [2, 2, 2, 2],\n",
       "        [2, 2, 2, 2]], dtype=torch.int32)"
      ]
     },
     "execution_count": 91,
     "metadata": {},
     "output_type": "execute_result"
    }
   ],
   "source": [
    "b = torch.full_like(a, 2)\n",
    "b\n"
   ]
  },
  {
   "cell_type": "code",
   "execution_count": 92,
   "id": "c86c2fb7",
   "metadata": {
    "collapsed": false,
    "jupyter": {
     "outputs_hidden": false
    },
    "pycharm": {
     "name": "#%%\n"
    }
   },
   "outputs": [
    {
     "data": {
      "text/plain": [
       "tensor([0.0000, 0.7000, 1.0000, 1.0000])"
      ]
     },
     "execution_count": 92,
     "metadata": {},
     "output_type": "execute_result"
    }
   ],
   "source": [
    "z = torch.tensor([-1.5, 0, 0.4, 2.])\n",
    "torch.heaviside(z, torch.tensor(0.7))"
   ]
  },
  {
   "cell_type": "code",
   "execution_count": 93,
   "id": "7f87bb3d",
   "metadata": {
    "collapsed": false,
    "jupyter": {
     "outputs_hidden": false
    },
    "pycharm": {
     "name": "#%%\n"
    }
   },
   "outputs": [
    {
     "data": {
      "text/plain": [
       "(array([-0.3550481 ,  0.98486243, -0.97743879, -0.69263049,  0.3861651 ,\n",
       "         0.27022368, -0.45386277, -0.11667697, -0.10492853,  0.00927598]),\n",
       " tensor([0.3550, 0.9849, 0.9774, 0.6926, 0.3862, 0.2702, 0.4539, 0.1167, 0.1049,\n",
       "         0.0093], dtype=torch.float64))"
      ]
     },
     "execution_count": 93,
     "metadata": {},
     "output_type": "execute_result"
    }
   ],
   "source": [
    "x = np.random.uniform(-1, 1, (10, ))\n",
    "y = torch.from_numpy(x)\n",
    "y = torch.abs(y)\n",
    "x, y"
   ]
  },
  {
   "cell_type": "code",
   "execution_count": 94,
   "id": "68e921d7",
   "metadata": {
    "collapsed": false,
    "jupyter": {
     "outputs_hidden": false
    },
    "pycharm": {
     "name": "#%%\n"
    }
   },
   "outputs": [
    {
     "data": {
      "text/plain": [
       "(tensor(0.7071), tensor(0.7071), tensor(1.))"
      ]
     },
     "execution_count": 94,
     "metadata": {},
     "output_type": "execute_result"
    }
   ],
   "source": [
    "deg = np.pi / 4\n",
    "\n",
    "torch.cos(torch.tensor(deg)), torch.sin(torch.tensor(deg)), torch.tan(torch.tensor(deg))\n"
   ]
  },
  {
   "cell_type": "code",
   "execution_count": 95,
   "id": "29627da5",
   "metadata": {
    "collapsed": false,
    "jupyter": {
     "outputs_hidden": false
    },
    "pycharm": {
     "name": "#%%\n"
    }
   },
   "outputs": [
    {
     "data": {
      "text/plain": [
       "tensor([1.3754, 1.4873, 1.7676, 1.9216, 1.5700])"
      ]
     },
     "execution_count": 95,
     "metadata": {},
     "output_type": "execute_result"
    }
   ],
   "source": [
    "a = torch.randn(4).uniform_(1, 2)\n",
    "a = a.tolist() + [1.57]\n",
    "a = torch.tensor(a)\n",
    "a"
   ]
  },
  {
   "cell_type": "code",
   "execution_count": 96,
   "id": "989ad9cb",
   "metadata": {
    "collapsed": false,
    "jupyter": {
     "outputs_hidden": false
    },
    "pycharm": {
     "name": "#%%\n"
    }
   },
   "outputs": [
    {
     "data": {
      "text/plain": [
       "tensor([0.8414, 0.9510, 1.1710, 1.2705, 1.0226])"
      ]
     },
     "execution_count": 96,
     "metadata": {},
     "output_type": "execute_result"
    }
   ],
   "source": [
    "torch.acosh(a)"
   ]
  },
  {
   "cell_type": "code",
   "execution_count": 97,
   "id": "82dfeb46",
   "metadata": {
    "collapsed": false,
    "jupyter": {
     "outputs_hidden": false
    },
    "pycharm": {
     "name": "#%%\n"
    }
   },
   "outputs": [
    {
     "data": {
      "text/plain": [
       "tensor([nan, nan, nan, nan, nan])"
      ]
     },
     "execution_count": 97,
     "metadata": {},
     "output_type": "execute_result"
    }
   ],
   "source": [
    "torch.atanh(a)\n",
    "\n"
   ]
  },
  {
   "cell_type": "code",
   "execution_count": 98,
   "id": "0d50bc23",
   "metadata": {
    "collapsed": false,
    "jupyter": {
     "outputs_hidden": false
    },
    "pycharm": {
     "name": "#%%\n"
    }
   },
   "outputs": [
    {
     "data": {
      "text/plain": [
       "tensor([1.1236, 1.1877, 1.3346, 1.4080, 1.2330])"
      ]
     },
     "execution_count": 98,
     "metadata": {},
     "output_type": "execute_result"
    }
   ],
   "source": [
    "torch.asinh(a)"
   ]
  },
  {
   "cell_type": "code",
   "execution_count": 99,
   "id": "36352383",
   "metadata": {
    "collapsed": false,
    "jupyter": {
     "outputs_hidden": false
    },
    "pycharm": {
     "name": "#%%\n"
    }
   },
   "outputs": [
    {
     "data": {
      "text/plain": [
       "tensor([45.0005])"
      ]
     },
     "execution_count": 99,
     "metadata": {},
     "output_type": "execute_result"
    }
   ],
   "source": [
    "torch.acos(torch.tensor([0.7071])) * 180 / np.pi"
   ]
  },
  {
   "cell_type": "code",
   "execution_count": 100,
   "id": "e612bbf1",
   "metadata": {
    "collapsed": false,
    "jupyter": {
     "outputs_hidden": false
    },
    "pycharm": {
     "name": "#%%\n"
    }
   },
   "outputs": [
    {
     "data": {
      "text/plain": [
       "tensor([60.0000], dtype=torch.float64)"
      ]
     },
     "execution_count": 100,
     "metadata": {},
     "output_type": "execute_result"
    }
   ],
   "source": [
    "torch.asin(torch.tensor([np.sqrt(3) / 2])) * 180 / np.pi\n"
   ]
  },
  {
   "cell_type": "code",
   "execution_count": 101,
   "id": "ea5f4aed",
   "metadata": {
    "collapsed": false,
    "jupyter": {
     "outputs_hidden": false
    },
    "pycharm": {
     "name": "#%%\n"
    }
   },
   "outputs": [
    {
     "data": {
      "text/plain": [
       "(tensor([  8.2366,  -1.8473,  -1.0383,  -9.9814,   3.3530,  -0.5995,   1.7258,\n",
       "           0.9347,  18.7082, -11.0653]),\n",
       " tensor([ 1.3117, -0.5948, -0.8301, -1.0373,  1.1127, -0.3654, -0.0326,  0.7514,\n",
       "          2.2994,  0.4756]),\n",
       " tensor([  6.9250,  -1.2525,  -0.2081,  -8.9441,   2.2403,  -0.2341,   1.7584,\n",
       "           0.1834,  16.4087, -11.5409]))"
      ]
     },
     "execution_count": 101,
     "metadata": {},
     "output_type": "execute_result"
    }
   ],
   "source": [
    "\"\"\"out\n",
    "i\n",
    "​\n",
    " =input\n",
    "i\n",
    "​\n",
    " +alpha×other\n",
    "i\n",
    "​\n",
    "\n",
    "\"\"\"\n",
    "a = torch.randn(10)\n",
    "b = torch.randn_like(a)\n",
    "c = torch.add(a, b, alpha=10)\n",
    "d = a + b\n",
    "c, d, c-d\n"
   ]
  },
  {
   "cell_type": "code",
   "execution_count": 102,
   "id": "922336bf",
   "metadata": {
    "collapsed": false,
    "jupyter": {
     "outputs_hidden": false
    },
    "pycharm": {
     "name": "#%%\n"
    }
   },
   "outputs": [
    {
     "data": {
      "text/plain": [
       "tensor([135.0001, 135.0001, -45.0000])"
      ]
     },
     "execution_count": 102,
     "metadata": {},
     "output_type": "execute_result"
    }
   ],
   "source": [
    "torch.angle(torch.tensor([-1+1j, -2+2j, 3-3j])) * 180 / 3.14159"
   ]
  },
  {
   "cell_type": "code",
   "execution_count": 103,
   "id": "80c65c7e",
   "metadata": {
    "collapsed": false,
    "jupyter": {
     "outputs_hidden": false
    },
    "pycharm": {
     "name": "#%%\n"
    }
   },
   "outputs": [
    {
     "data": {
      "text/plain": [
       "tensor([ 1, -1, -3], dtype=torch.int8)"
      ]
     },
     "execution_count": 103,
     "metadata": {},
     "output_type": "execute_result"
    }
   ],
   "source": [
    "torch.bitwise_not(torch.tensor([-2, 0, 2], dtype=torch.int8))"
   ]
  },
  {
   "cell_type": "code",
   "execution_count": 104,
   "id": "d3c18375",
   "metadata": {
    "collapsed": false,
    "jupyter": {
     "outputs_hidden": false
    },
    "pycharm": {
     "name": "#%%\n"
    }
   },
   "outputs": [
    {
     "data": {
      "text/plain": [
       "(1, -1, -3)"
      ]
     },
     "execution_count": 104,
     "metadata": {},
     "output_type": "execute_result"
    }
   ],
   "source": [
    "~-2, ~0, ~2"
   ]
  },
  {
   "cell_type": "code",
   "execution_count": 105,
   "id": "531b6ba5",
   "metadata": {
    "collapsed": false,
    "jupyter": {
     "outputs_hidden": false
    },
    "pycharm": {
     "name": "#%%\n"
    }
   },
   "outputs": [],
   "source": [
    "a = torch.tensor([-1, -2, 3], dtype=torch.int8)\n",
    "b = torch.tensor([1, 0, 13], dtype=torch.int8)"
   ]
  },
  {
   "cell_type": "code",
   "execution_count": 106,
   "id": "9f3edcbd",
   "metadata": {
    "collapsed": false,
    "jupyter": {
     "outputs_hidden": false
    },
    "pycharm": {
     "name": "#%%\n"
    }
   },
   "outputs": [
    {
     "data": {
      "text/plain": [
       "(tensor([-1, -2, 15], dtype=torch.int8),\n",
       " tensor([-1, -2, 15], dtype=torch.int8))"
      ]
     },
     "execution_count": 106,
     "metadata": {},
     "output_type": "execute_result"
    }
   ],
   "source": [
    "a | b, torch.bitwise_or(a, b)\n"
   ]
  },
  {
   "cell_type": "code",
   "execution_count": 107,
   "id": "1f49ee20",
   "metadata": {
    "collapsed": false,
    "jupyter": {
     "outputs_hidden": false
    },
    "pycharm": {
     "name": "#%%\n"
    }
   },
   "outputs": [
    {
     "data": {
      "text/plain": [
       "(tensor([1, 0, 1], dtype=torch.int8), tensor([1, 0, 1], dtype=torch.int8))"
      ]
     },
     "execution_count": 107,
     "metadata": {},
     "output_type": "execute_result"
    }
   ],
   "source": [
    "a & b, torch.bitwise_and(a, b)"
   ]
  },
  {
   "cell_type": "code",
   "execution_count": 108,
   "id": "fc22ebe2",
   "metadata": {
    "collapsed": false,
    "jupyter": {
     "outputs_hidden": false
    },
    "pycharm": {
     "name": "#%%\n"
    }
   },
   "outputs": [
    {
     "data": {
      "text/plain": [
       "(tensor([-2, -2, 14], dtype=torch.int8),\n",
       " tensor([-2, -2, 14], dtype=torch.int8))"
      ]
     },
     "execution_count": 108,
     "metadata": {},
     "output_type": "execute_result"
    }
   ],
   "source": [
    "a ^ b, torch.bitwise_xor(a, b)\n",
    "\n"
   ]
  },
  {
   "cell_type": "code",
   "execution_count": 109,
   "id": "5beb696b",
   "metadata": {
    "collapsed": false,
    "jupyter": {
     "outputs_hidden": false
    },
    "pycharm": {
     "name": "#%%\n"
    }
   },
   "outputs": [
    {
     "data": {
      "text/plain": [
       "(tensor([ 0,  1, -4], dtype=torch.int8),\n",
       " tensor([ 0,  1, -4], dtype=torch.int8))"
      ]
     },
     "execution_count": 109,
     "metadata": {},
     "output_type": "execute_result"
    }
   ],
   "source": [
    "~a, torch.bitwise_not(a)"
   ]
  },
  {
   "cell_type": "code",
   "execution_count": 110,
   "id": "440533d4",
   "metadata": {
    "collapsed": false,
    "jupyter": {
     "outputs_hidden": false
    },
    "pycharm": {
     "name": "#%%\n"
    }
   },
   "outputs": [
    {
     "data": {
      "text/plain": [
       "(tensor([-1, -1,  0], dtype=torch.int8),\n",
       " tensor([-1, -1,  0], dtype=torch.int8))"
      ]
     },
     "execution_count": 110,
     "metadata": {},
     "output_type": "execute_result"
    }
   ],
   "source": [
    "a >> 2, torch.bitwise_right_shift(a, 2)"
   ]
  },
  {
   "cell_type": "code",
   "execution_count": 111,
   "id": "fda177af",
   "metadata": {
    "collapsed": false,
    "jupyter": {
     "outputs_hidden": false
    },
    "pycharm": {
     "name": "#%%\n"
    }
   },
   "outputs": [
    {
     "data": {
      "text/plain": [
       "(tensor([-4, -8, 12], dtype=torch.int8),\n",
       " tensor([-4, -8, 12], dtype=torch.int8))"
      ]
     },
     "execution_count": 111,
     "metadata": {},
     "output_type": "execute_result"
    }
   ],
   "source": [
    "a << 2, torch.bitwise_left_shift(a, 2)"
   ]
  },
  {
   "cell_type": "code",
   "execution_count": 112,
   "id": "b97b2e8e",
   "metadata": {
    "collapsed": false,
    "jupyter": {
     "outputs_hidden": false
    },
    "pycharm": {
     "name": "#%%\n"
    }
   },
   "outputs": [
    {
     "data": {
      "text/plain": [
       "(tensor([ 0.5182, -0.0853, -0.2801,  0.6299, -0.0135, -1.0216,  0.9339, -0.3262,\n",
       "          2.1208, -1.4042]),\n",
       " tensor([ 1., -0., -0.,  1., -0., -1.,  1., -0.,  3., -1.]))"
      ]
     },
     "execution_count": 112,
     "metadata": {},
     "output_type": "execute_result"
    }
   ],
   "source": [
    "x = torch.randn(10)\n",
    "y = torch.ceil(x)\n",
    "x, y"
   ]
  },
  {
   "cell_type": "code",
   "execution_count": 113,
   "id": "3e39ecff",
   "metadata": {
    "collapsed": false,
    "jupyter": {
     "outputs_hidden": false
    },
    "pycharm": {
     "name": "#%%\n"
    }
   },
   "outputs": [
    {
     "data": {
      "text/plain": [
       "tensor([ 0., -1., -1.,  0., -1., -2.,  0., -1.,  2., -2.])"
      ]
     },
     "execution_count": 113,
     "metadata": {},
     "output_type": "execute_result"
    }
   ],
   "source": [
    "torch.floor(x)"
   ]
  },
  {
   "cell_type": "code",
   "execution_count": 114,
   "id": "49955b0c",
   "metadata": {
    "collapsed": false,
    "jupyter": {
     "outputs_hidden": false
    },
    "pycharm": {
     "name": "#%%\n"
    }
   },
   "outputs": [
    {
     "data": {
      "text/plain": [
       "tensor([ 0.5000, -0.0853, -0.2801,  0.5000, -0.0135, -0.5000,  0.5000, -0.3262,\n",
       "         0.5000, -0.5000])"
      ]
     },
     "execution_count": 114,
     "metadata": {},
     "output_type": "execute_result"
    }
   ],
   "source": [
    "torch.clamp(x, -0.5, 0.5)"
   ]
  },
  {
   "cell_type": "code",
   "execution_count": 115,
   "id": "5d64e7cd",
   "metadata": {
    "collapsed": false,
    "jupyter": {
     "outputs_hidden": false
    },
    "pycharm": {
     "name": "#%%\n"
    }
   },
   "outputs": [
    {
     "data": {
      "text/plain": [
       "tensor([ 0.5000, -0.0853, -0.2801,  0.5000, -0.0135, -0.5000,  0.5000, -0.3262,\n",
       "         0.5000, -0.5000])"
      ]
     },
     "execution_count": 115,
     "metadata": {},
     "output_type": "execute_result"
    }
   ],
   "source": [
    "torch.clip(x, -0.5, 0.5)\n"
   ]
  },
  {
   "cell_type": "code",
   "execution_count": 116,
   "id": "59eee0b4",
   "metadata": {
    "collapsed": false,
    "jupyter": {
     "outputs_hidden": false
    },
    "pycharm": {
     "name": "#%%\n"
    }
   },
   "outputs": [
    {
     "data": {
      "text/plain": [
       "tensor([-1.0000, -0.7778, -0.5556, -0.3333, -0.1111,  0.1111,  0.3333,  0.5556,\n",
       "         0.7778,  1.0000])"
      ]
     },
     "execution_count": 116,
     "metadata": {},
     "output_type": "execute_result"
    }
   ],
   "source": [
    "z = torch.linspace(-1, 1, steps=x.shape[0])\n",
    "z"
   ]
  },
  {
   "cell_type": "code",
   "execution_count": 117,
   "id": "5d8539c2",
   "metadata": {
    "collapsed": false,
    "jupyter": {
     "outputs_hidden": false
    },
    "pycharm": {
     "name": "#%%\n"
    }
   },
   "outputs": [
    {
     "data": {
      "text/plain": [
       "(tensor([ 0.5182, -0.0853, -0.2801,  0.6299, -0.0135, -1.0216,  0.9339, -0.3262,\n",
       "          2.1208, -1.4042]),\n",
       " tensor([-1.0000, -0.7778, -0.5556, -0.3333, -0.1111,  0.1111,  0.3333,  0.5556,\n",
       "          0.7778,  1.0000]),\n",
       " tensor([ 0.5182, -0.0853, -0.2801,  0.6299, -0.0135,  0.1111,  0.9339,  0.5556,\n",
       "          2.1208,  1.0000]))"
      ]
     },
     "execution_count": 117,
     "metadata": {},
     "output_type": "execute_result"
    }
   ],
   "source": [
    "x, z, torch.clamp(x, min=z)"
   ]
  },
  {
   "cell_type": "code",
   "execution_count": 118,
   "id": "07207863",
   "metadata": {
    "collapsed": false,
    "jupyter": {
     "outputs_hidden": false
    },
    "pycharm": {
     "name": "#%%\n"
    }
   },
   "outputs": [
    {
     "data": {
      "text/plain": [
       "tensor([0.5182, 0.0853, 0.2801, 0.6299, 0.0135, 1.0216, 0.9339, 0.3262, 2.1208,\n",
       "        1.4042])"
      ]
     },
     "execution_count": 118,
     "metadata": {},
     "output_type": "execute_result"
    }
   ],
   "source": [
    "torch.copysign(x, 1)"
   ]
  },
  {
   "cell_type": "code",
   "execution_count": 119,
   "id": "dc52cbdd",
   "metadata": {
    "collapsed": false,
    "jupyter": {
     "outputs_hidden": false
    },
    "pycharm": {
     "name": "#%%\n"
    }
   },
   "outputs": [
    {
     "data": {
      "text/plain": [
       "tensor([-0.5182, -0.0853, -0.2801, -0.6299, -0.0135, -1.0216, -0.9339, -0.3262,\n",
       "        -2.1208, -1.4042])"
      ]
     },
     "execution_count": 119,
     "metadata": {},
     "output_type": "execute_result"
    }
   ],
   "source": [
    "torch.copysign(x, -1)"
   ]
  },
  {
   "cell_type": "code",
   "execution_count": 120,
   "id": "a85282c2",
   "metadata": {
    "collapsed": false,
    "jupyter": {
     "outputs_hidden": false
    },
    "pycharm": {
     "name": "#%%\n"
    }
   },
   "outputs": [
    {
     "data": {
      "text/plain": [
       "tensor([ 29.6934,  -4.8890, -16.0512,  36.0897,  -0.7708, -58.5320,  53.5107,\n",
       "        -18.6925, 121.5130, -80.4571])"
      ]
     },
     "execution_count": 120,
     "metadata": {},
     "output_type": "execute_result"
    }
   ],
   "source": [
    "torch.rad2deg(x)"
   ]
  },
  {
   "cell_type": "code",
   "execution_count": 121,
   "id": "7492a453",
   "metadata": {
    "collapsed": false,
    "jupyter": {
     "outputs_hidden": false
    },
    "pycharm": {
     "name": "#%%\n"
    }
   },
   "outputs": [
    {
     "data": {
      "text/plain": [
       "tensor([ 0.0090, -0.0015, -0.0049,  0.0110, -0.0002, -0.0178,  0.0163, -0.0057,\n",
       "         0.0370, -0.0245])"
      ]
     },
     "execution_count": 121,
     "metadata": {},
     "output_type": "execute_result"
    }
   ],
   "source": [
    "torch.deg2rad(x)\n",
    "\n"
   ]
  },
  {
   "cell_type": "code",
   "execution_count": 122,
   "id": "7cd7ae50",
   "metadata": {
    "collapsed": false,
    "jupyter": {
     "outputs_hidden": false
    },
    "pycharm": {
     "name": "#%%\n"
    }
   },
   "outputs": [
    {
     "data": {
      "text/plain": [
       "(tensor([ 0.5182, -0.0853, -0.2801,  0.6299, -0.0135, -1.0216,  0.9339, -0.3262,\n",
       "          2.1208, -1.4042]),\n",
       " tensor([ 1., -0., -0.,  1., -0., -1.,  1., -0.,  3., -1.]),\n",
       " tensor([0.5182, 0.0000, 0.0000, 0.6299, 0.0000, 1.0216, 0.9339, 0.0000, 6.3624,\n",
       "         1.4042]))"
      ]
     },
     "execution_count": 122,
     "metadata": {},
     "output_type": "execute_result"
    }
   ],
   "source": [
    "x, y, torch.mul(x, y)"
   ]
  },
  {
   "cell_type": "code",
   "execution_count": 123,
   "id": "621646e7",
   "metadata": {
    "collapsed": false,
    "jupyter": {
     "outputs_hidden": false
    },
    "pycharm": {
     "name": "#%%\n"
    }
   },
   "outputs": [
    {
     "data": {
      "text/plain": [
       "tensor([0.5000, 0.5000, 0.5000, 0.5000, 0.5000, 0.5000, 0.5000, 0.5000, 0.5000,\n",
       "        0.5000])"
      ]
     },
     "execution_count": 123,
     "metadata": {},
     "output_type": "execute_result"
    }
   ],
   "source": [
    "torch.div(x, 2*x)"
   ]
  },
  {
   "cell_type": "code",
   "execution_count": 124,
   "id": "360227f3",
   "metadata": {
    "collapsed": false,
    "jupyter": {
     "outputs_hidden": false
    },
    "pycharm": {
     "name": "#%%\n"
    }
   },
   "outputs": [],
   "source": [
    "y = torch.randn((x.numel(), 1))"
   ]
  },
  {
   "cell_type": "code",
   "execution_count": 125,
   "id": "d252514b",
   "metadata": {
    "collapsed": false,
    "jupyter": {
     "outputs_hidden": false
    },
    "pycharm": {
     "name": "#%%\n"
    }
   },
   "outputs": [
    {
     "data": {
      "text/plain": [
       "tensor([[ 0.9619],\n",
       "        [-0.2362],\n",
       "        [ 0.3118],\n",
       "        [ 0.0980],\n",
       "        [ 1.1075],\n",
       "        [ 0.9309],\n",
       "        [ 0.7905],\n",
       "        [ 0.3308],\n",
       "        [ 1.4936],\n",
       "        [-1.5343]])"
      ]
     },
     "execution_count": 125,
     "metadata": {},
     "output_type": "execute_result"
    }
   ],
   "source": [
    "y"
   ]
  },
  {
   "cell_type": "code",
   "execution_count": 126,
   "id": "57c95466",
   "metadata": {
    "collapsed": false,
    "jupyter": {
     "outputs_hidden": false
    },
    "pycharm": {
     "name": "#%%\n"
    }
   },
   "outputs": [
    {
     "data": {
      "text/plain": [
       "tensor([[ 5.3876e-01, -8.8707e-02, -2.9123e-01,  6.5482e-01, -1.3985e-02,\n",
       "         -1.0620e+00,  9.7091e-01, -3.3916e-01,  2.2047e+00, -1.4598e+00],\n",
       "        [-2.1939e+00,  3.6122e-01,  1.1859e+00, -2.6664e+00,  5.6946e-02,\n",
       "          4.3246e+00, -3.9536e+00,  1.3811e+00, -8.9779e+00,  5.9445e+00],\n",
       "        [ 1.6619e+00, -2.7363e-01, -8.9836e-01,  2.0199e+00, -4.3138e-02,\n",
       "         -3.2759e+00,  2.9949e+00, -1.0462e+00,  6.8009e+00, -4.5030e+00],\n",
       "        [ 5.2859e+00, -8.7032e-01, -2.8573e+00,  6.4245e+00, -1.3721e-01,\n",
       "         -1.0420e+01,  9.5257e+00, -3.3275e+00,  2.1631e+01, -1.4323e+01],\n",
       "        [ 4.6793e-01, -7.7045e-02, -2.5295e-01,  5.6873e-01, -1.2146e-02,\n",
       "         -9.2239e-01,  8.4326e-01, -2.9457e-01,  1.9149e+00, -1.2679e+00],\n",
       "        [ 5.5673e-01, -9.1666e-02, -3.0095e-01,  6.7665e-01, -1.4451e-02,\n",
       "         -1.0974e+00,  1.0033e+00, -3.5047e-01,  2.2783e+00, -1.5085e+00],\n",
       "        [ 6.5563e-01, -1.0795e-01, -3.5441e-01,  7.9686e-01, -1.7018e-02,\n",
       "         -1.2924e+00,  1.1815e+00, -4.1273e-01,  2.6830e+00, -1.7765e+00],\n",
       "        [ 1.5666e+00, -2.5795e-01, -8.4687e-01,  1.9041e+00, -4.0666e-02,\n",
       "         -3.0882e+00,  2.8233e+00, -9.8623e-01,  6.4111e+00, -4.2450e+00],\n",
       "        [ 3.4698e-01, -5.7130e-02, -1.8756e-01,  4.2172e-01, -9.0065e-03,\n",
       "         -6.8396e-01,  6.2529e-01, -2.1843e-01,  1.4199e+00, -9.4016e-01],\n",
       "        [-3.3777e-01,  5.5614e-02,  1.8258e-01, -4.1052e-01,  8.7674e-03,\n",
       "          6.6581e-01, -6.0869e-01,  2.1263e-01, -1.3822e+00,  9.1521e-01]])"
      ]
     },
     "execution_count": 126,
     "metadata": {},
     "output_type": "execute_result"
    }
   ],
   "source": [
    "x / y"
   ]
  },
  {
   "cell_type": "code",
   "execution_count": 127,
   "id": "0f46e958",
   "metadata": {
    "collapsed": false,
    "jupyter": {
     "outputs_hidden": false
    },
    "pycharm": {
     "name": "#%%\n"
    }
   },
   "outputs": [
    {
     "data": {
      "text/plain": [
       "tensor([[ 5.3876e-01, -8.8707e-02, -2.9123e-01,  6.5482e-01, -1.3985e-02,\n",
       "         -1.0620e+00,  9.7091e-01, -3.3916e-01,  2.2047e+00, -1.4598e+00],\n",
       "        [-2.1939e+00,  3.6122e-01,  1.1859e+00, -2.6664e+00,  5.6946e-02,\n",
       "          4.3246e+00, -3.9536e+00,  1.3811e+00, -8.9779e+00,  5.9445e+00],\n",
       "        [ 1.6619e+00, -2.7363e-01, -8.9836e-01,  2.0199e+00, -4.3138e-02,\n",
       "         -3.2759e+00,  2.9949e+00, -1.0462e+00,  6.8009e+00, -4.5030e+00],\n",
       "        [ 5.2859e+00, -8.7032e-01, -2.8573e+00,  6.4245e+00, -1.3721e-01,\n",
       "         -1.0420e+01,  9.5257e+00, -3.3275e+00,  2.1631e+01, -1.4323e+01],\n",
       "        [ 4.6793e-01, -7.7045e-02, -2.5295e-01,  5.6873e-01, -1.2146e-02,\n",
       "         -9.2239e-01,  8.4326e-01, -2.9457e-01,  1.9149e+00, -1.2679e+00],\n",
       "        [ 5.5673e-01, -9.1666e-02, -3.0095e-01,  6.7665e-01, -1.4451e-02,\n",
       "         -1.0974e+00,  1.0033e+00, -3.5047e-01,  2.2783e+00, -1.5085e+00],\n",
       "        [ 6.5563e-01, -1.0795e-01, -3.5441e-01,  7.9686e-01, -1.7018e-02,\n",
       "         -1.2924e+00,  1.1815e+00, -4.1273e-01,  2.6830e+00, -1.7765e+00],\n",
       "        [ 1.5666e+00, -2.5795e-01, -8.4687e-01,  1.9041e+00, -4.0666e-02,\n",
       "         -3.0882e+00,  2.8233e+00, -9.8623e-01,  6.4111e+00, -4.2450e+00],\n",
       "        [ 3.4698e-01, -5.7130e-02, -1.8756e-01,  4.2172e-01, -9.0065e-03,\n",
       "         -6.8396e-01,  6.2529e-01, -2.1843e-01,  1.4199e+00, -9.4016e-01],\n",
       "        [-3.3777e-01,  5.5614e-02,  1.8258e-01, -4.1052e-01,  8.7674e-03,\n",
       "          6.6581e-01, -6.0869e-01,  2.1263e-01, -1.3822e+00,  9.1521e-01]])"
      ]
     },
     "execution_count": 127,
     "metadata": {},
     "output_type": "execute_result"
    }
   ],
   "source": [
    "\n",
    "torch.div(x, y)"
   ]
  },
  {
   "cell_type": "code",
   "execution_count": 128,
   "id": "3fef806c",
   "metadata": {
    "collapsed": false,
    "jupyter": {
     "outputs_hidden": false
    },
    "pycharm": {
     "name": "#%%\n"
    }
   },
   "outputs": [
    {
     "data": {
      "text/plain": [
       "tensor([[  0.,  -0.,  -0.,   0.,  -0.,  -1.,   0.,  -0.,   2.,  -1.],\n",
       "        [ -2.,   0.,   1.,  -2.,   0.,   4.,  -3.,   1.,  -8.,   5.],\n",
       "        [  1.,  -0.,  -0.,   2.,  -0.,  -3.,   2.,  -1.,   6.,  -4.],\n",
       "        [  5.,  -0.,  -2.,   6.,  -0., -10.,   9.,  -3.,  21., -14.],\n",
       "        [  0.,  -0.,  -0.,   0.,  -0.,  -0.,   0.,  -0.,   1.,  -1.],\n",
       "        [  0.,  -0.,  -0.,   0.,  -0.,  -1.,   1.,  -0.,   2.,  -1.],\n",
       "        [  0.,  -0.,  -0.,   0.,  -0.,  -1.,   1.,  -0.,   2.,  -1.],\n",
       "        [  1.,  -0.,  -0.,   1.,  -0.,  -3.,   2.,  -0.,   6.,  -4.],\n",
       "        [  0.,  -0.,  -0.,   0.,  -0.,  -0.,   0.,  -0.,   1.,  -0.],\n",
       "        [ -0.,   0.,   0.,  -0.,   0.,   0.,  -0.,   0.,  -1.,   0.]])"
      ]
     },
     "execution_count": 128,
     "metadata": {},
     "output_type": "execute_result"
    }
   ],
   "source": [
    "torch.div(x, y, rounding_mode=\"trunc\")"
   ]
  },
  {
   "cell_type": "code",
   "execution_count": 129,
   "id": "473db953",
   "metadata": {
    "collapsed": false,
    "jupyter": {
     "outputs_hidden": false
    },
    "pycharm": {
     "name": "#%%\n"
    }
   },
   "outputs": [
    {
     "data": {
      "text/plain": [
       "tensor([[  0.,  -1.,  -1.,   0.,  -1.,  -2.,   0.,  -1.,   2.,  -2.],\n",
       "        [ -3.,   0.,   1.,  -3.,   0.,   4.,  -4.,   1.,  -9.,   5.],\n",
       "        [  1.,  -1.,  -1.,   2.,  -1.,  -4.,   2.,  -2.,   6.,  -5.],\n",
       "        [  5.,  -1.,  -3.,   6.,  -1., -11.,   9.,  -4.,  21., -15.],\n",
       "        [  0.,  -1.,  -1.,   0.,  -1.,  -1.,   0.,  -1.,   1.,  -2.],\n",
       "        [  0.,  -1.,  -1.,   0.,  -1.,  -2.,   1.,  -1.,   2.,  -2.],\n",
       "        [  0.,  -1.,  -1.,   0.,  -1.,  -2.,   1.,  -1.,   2.,  -2.],\n",
       "        [  1.,  -1.,  -1.,   1.,  -1.,  -4.,   2.,  -1.,   6.,  -5.],\n",
       "        [  0.,  -1.,  -1.,   0.,  -1.,  -1.,   0.,  -1.,   1.,  -1.],\n",
       "        [ -1.,   0.,   0.,  -1.,   0.,   0.,  -1.,   0.,  -2.,   0.]])"
      ]
     },
     "execution_count": 129,
     "metadata": {},
     "output_type": "execute_result"
    }
   ],
   "source": [
    "torch.div(x, y, rounding_mode=\"floor\")\n"
   ]
  },
  {
   "cell_type": "code",
   "execution_count": 130,
   "id": "68f06f38",
   "metadata": {
    "collapsed": false,
    "jupyter": {
     "outputs_hidden": false
    },
    "pycharm": {
     "name": "#%%\n"
    }
   },
   "outputs": [
    {
     "data": {
      "text/plain": [
       "(torch.Size([10]),\n",
       " torch.Size([10, 1]),\n",
       " torch.Size([10, 10]),\n",
       " torch.Size([10, 10]))"
      ]
     },
     "execution_count": 130,
     "metadata": {},
     "output_type": "execute_result"
    }
   ],
   "source": [
    "x.shape, y.shape, (x / y).shape, (x*y).shape"
   ]
  },
  {
   "cell_type": "code",
   "execution_count": 131,
   "id": "a1000f64",
   "metadata": {
    "collapsed": false,
    "jupyter": {
     "outputs_hidden": false
    },
    "pycharm": {
     "name": "#%%\n"
    }
   },
   "outputs": [
    {
     "data": {
      "text/plain": [
       "tensor([2.7183, 3.0377, 3.3947, 3.7937, 4.2395, 4.7377, 5.2945, 5.9167, 6.6120,\n",
       "        7.3891])"
      ]
     },
     "execution_count": 131,
     "metadata": {},
     "output_type": "execute_result"
    }
   ],
   "source": [
    "c = torch.logspace(1, 2, 10,\n",
    "                   base=torch.exp(torch.tensor(1.0)).item())\n",
    "c"
   ]
  },
  {
   "cell_type": "code",
   "execution_count": 132,
   "id": "4a14ae66",
   "metadata": {
    "collapsed": false,
    "jupyter": {
     "outputs_hidden": false
    },
    "pycharm": {
     "name": "#%%\n"
    }
   },
   "outputs": [
    {
     "data": {
      "text/plain": [
       "(tensor([2.7183, 3.0377, 3.3947, 3.7937, 4.2395, 4.7377, 5.2945, 5.9167, 6.6120,\n",
       "         7.3891]),\n",
       " tensor([  15.1543,   20.8579,   29.8064,   44.4190,   69.3729,  114.1733,\n",
       "          199.2360,  371.1823,  743.9826, 1618.1774]))"
      ]
     },
     "execution_count": 132,
     "metadata": {},
     "output_type": "execute_result"
    }
   ],
   "source": [
    "c, torch.exp(c)"
   ]
  },
  {
   "cell_type": "code",
   "execution_count": 133,
   "id": "e5d20184",
   "metadata": {
    "collapsed": false,
    "jupyter": {
     "outputs_hidden": false
    },
    "pycharm": {
     "name": "#%%\n"
    }
   },
   "outputs": [
    {
     "data": {
      "text/plain": [
       "tensor([  6.5809,   8.2120,  10.5175,  13.8678,  18.8893,  26.6806,  39.2464,\n",
       "         60.4091,  97.8173, 167.6206])"
      ]
     },
     "execution_count": 133,
     "metadata": {},
     "output_type": "execute_result"
    }
   ],
   "source": [
    "torch.special.exp2(c)"
   ]
  },
  {
   "cell_type": "code",
   "execution_count": 134,
   "id": "4b5cd8ee",
   "metadata": {
    "collapsed": false,
    "jupyter": {
     "outputs_hidden": false
    },
    "pycharm": {
     "name": "#%%\n"
    }
   },
   "outputs": [
    {
     "data": {
      "text/plain": [
       "tensor([  14.1543,   19.8579,   28.8064,   43.4190,   68.3729,  113.1733,\n",
       "         198.2360,  370.1823,  742.9826, 1617.1774])"
      ]
     },
     "execution_count": 134,
     "metadata": {},
     "output_type": "execute_result"
    }
   ],
   "source": [
    "torch.special.expm1(c)"
   ]
  },
  {
   "cell_type": "code",
   "execution_count": 135,
   "id": "3bc1b040",
   "metadata": {
    "collapsed": false,
    "jupyter": {
     "outputs_hidden": false
    },
    "pycharm": {
     "name": "#%%\n"
    }
   },
   "outputs": [],
   "source": [
    "# torch.special.logsumexp(c) # LSE"
   ]
  },
  {
   "cell_type": "code",
   "execution_count": 136,
   "id": "f5167988",
   "metadata": {
    "collapsed": false,
    "jupyter": {
     "outputs_hidden": false
    },
    "pycharm": {
     "name": "#%%\n"
    }
   },
   "outputs": [
    {
     "data": {
      "text/plain": [
       "(tensor([1.3133, 1.3957, 1.4804, 1.5673, 1.6562, 1.7471, 1.8397, 1.9339, 2.0297,\n",
       "         2.1269]),\n",
       " tensor([1.3133, 1.3957, 1.4804, 1.5673, 1.6562, 1.7471, 1.8397, 1.9339, 2.0297,\n",
       "         2.1269]))"
      ]
     },
     "execution_count": 136,
     "metadata": {},
     "output_type": "execute_result"
    }
   ],
   "source": [
    "torch.log1p(c),  torch.log(1 + c)\n"
   ]
  },
  {
   "cell_type": "code",
   "execution_count": 137,
   "id": "6f81feeb",
   "metadata": {
    "collapsed": false,
    "jupyter": {
     "outputs_hidden": false
    },
    "pycharm": {
     "name": "#%%\n"
    }
   },
   "outputs": [
    {
     "data": {
      "text/plain": [
       "(tensor([ 0.5182, -0.0853, -0.2801,  0.6299, -0.0135, -1.0216,  0.9339, -0.3262,\n",
       "          2.1208, -1.4042]),\n",
       " tensor([ 0., -0., -0.,  0., -0., -1.,  0., -0.,  2., -1.]),\n",
       " tensor([ 0., -1., -1.,  0., -1., -2.,  0., -1.,  2., -2.]))"
      ]
     },
     "execution_count": 137,
     "metadata": {},
     "output_type": "execute_result"
    }
   ],
   "source": [
    "x, torch.trunc(x), torch.floor(x)\n"
   ]
  },
  {
   "cell_type": "code",
   "execution_count": 138,
   "id": "d5368b59",
   "metadata": {
    "collapsed": false,
    "jupyter": {
     "outputs_hidden": false
    },
    "pycharm": {
     "name": "#%%\n"
    }
   },
   "outputs": [
    {
     "data": {
      "text/plain": [
       "tensor([8, 7, 2, 8])"
      ]
     },
     "execution_count": 138,
     "metadata": {},
     "output_type": "execute_result"
    }
   ],
   "source": [
    "a = torch.randint(10, (4, ))\n",
    "a"
   ]
  },
  {
   "cell_type": "code",
   "execution_count": 139,
   "id": "a899cf14",
   "metadata": {
    "collapsed": false,
    "jupyter": {
     "outputs_hidden": false
    },
    "pycharm": {
     "name": "#%%\n"
    }
   },
   "outputs": [
    {
     "data": {
      "text/plain": [
       "(tensor([64., 49.,  4., 64.], dtype=torch.float64),\n",
       " tensor([64, 49,  4, 64]),\n",
       " tensor([64, 49,  4, 64]))"
      ]
     },
     "execution_count": 139,
     "metadata": {},
     "output_type": "execute_result"
    }
   ],
   "source": [
    "torch.float_power(a, 2) , a**2, torch.pow(a, 2)"
   ]
  },
  {
   "cell_type": "code",
   "execution_count": 140,
   "id": "c5ab3818",
   "metadata": {
    "collapsed": false,
    "jupyter": {
     "outputs_hidden": false
    },
    "pycharm": {
     "name": "#%%\n"
    }
   },
   "outputs": [
    {
     "data": {
      "text/plain": [
       "(tensor([ -5.4131,  -4.8303,  -5.5335,  -9.8848, -13.1705, -14.2105,  -9.3286,\n",
       "           0.6813,  -9.1023, -20.2666]),\n",
       " tensor([-0.4131, -0.8303, -0.5335, -0.8848, -0.1705, -0.2105, -0.3286,  0.6813,\n",
       "         -0.1023, -0.2666]))"
      ]
     },
     "execution_count": 140,
     "metadata": {},
     "output_type": "execute_result"
    }
   ],
   "source": [
    "z = torch.normal(mean=torch.ones((10, )) * -5.0,\n",
    "                 std= torch.linspace(1, 10, 10))\n",
    "\n",
    "z, torch.frac(z)"
   ]
  },
  {
   "cell_type": "code",
   "execution_count": 141,
   "id": "ee707b1d",
   "metadata": {
    "collapsed": false,
    "jupyter": {
     "outputs_hidden": false
    },
    "pycharm": {
     "name": "#%%\n"
    }
   },
   "outputs": [
    {
     "data": {
      "text/plain": [
       "(tensor([1, 3, 5, 7, 9]), tensor([0, 2, 4, 6, 8]))"
      ]
     },
     "execution_count": 141,
     "metadata": {},
     "output_type": "execute_result"
    }
   ],
   "source": [
    "x = torch.arange(1, 10, 2)\n",
    "z = torch.arange(0, 10, 2)\n",
    "x, z\n"
   ]
  },
  {
   "cell_type": "code",
   "execution_count": 142,
   "id": "f3c7af8e",
   "metadata": {
    "collapsed": false,
    "jupyter": {
     "outputs_hidden": false
    },
    "pycharm": {
     "name": "#%%\n"
    }
   },
   "outputs": [],
   "source": [
    "y = 2 * z"
   ]
  },
  {
   "cell_type": "code",
   "execution_count": 143,
   "id": "a6f23dba",
   "metadata": {
    "collapsed": false,
    "jupyter": {
     "outputs_hidden": false
    },
    "pycharm": {
     "name": "#%%\n"
    }
   },
   "outputs": [
    {
     "data": {
      "text/plain": [
       "(tensor([2., 2., 2., 2., 2.]),)"
      ]
     },
     "execution_count": 143,
     "metadata": {},
     "output_type": "execute_result"
    }
   ],
   "source": [
    "torch.gradient(y, spacing=(z, ))"
   ]
  },
  {
   "cell_type": "code",
   "execution_count": 144,
   "id": "b7893957",
   "metadata": {
    "collapsed": false,
    "jupyter": {
     "outputs_hidden": false
    },
    "pycharm": {
     "name": "#%%\n"
    }
   },
   "outputs": [],
   "source": [
    "mat = torch.randint(0, 10, size=(10, 5))\n"
   ]
  },
  {
   "cell_type": "code",
   "execution_count": 145,
   "id": "90ed8c44",
   "metadata": {
    "collapsed": false,
    "jupyter": {
     "outputs_hidden": false
    },
    "pycharm": {
     "name": "#%%\n"
    }
   },
   "outputs": [
    {
     "data": {
      "text/plain": [
       "tensor([[1, 4, 2, 1, 9],\n",
       "        [3, 7, 5, 9, 5],\n",
       "        [8, 2, 4, 4, 4],\n",
       "        [9, 9, 5, 6, 6],\n",
       "        [5, 7, 6, 0, 4],\n",
       "        [9, 4, 4, 1, 6],\n",
       "        [2, 0, 2, 1, 9],\n",
       "        [5, 2, 7, 4, 5],\n",
       "        [4, 2, 3, 4, 5],\n",
       "        [4, 1, 2, 3, 9]])"
      ]
     },
     "execution_count": 145,
     "metadata": {},
     "output_type": "execute_result"
    }
   ],
   "source": [
    "mat"
   ]
  },
  {
   "cell_type": "code",
   "execution_count": 146,
   "id": "a77e484c",
   "metadata": {
    "collapsed": false,
    "jupyter": {
     "outputs_hidden": false
    },
    "pycharm": {
     "name": "#%%\n"
    }
   },
   "outputs": [
    {
     "data": {
      "text/plain": [
       "(tensor([ 94, 128,  76, 122,  70,  78,  86,  96,  80, 100]),\n",
       " tensor([ 94, 128,  76, 122,  70,  78,  86,  96,  80, 100]))"
      ]
     },
     "execution_count": 146,
     "metadata": {},
     "output_type": "execute_result"
    }
   ],
   "source": [
    "w = torch.matmul(mat, z)\n",
    "w, mat @ z"
   ]
  },
  {
   "cell_type": "code",
   "execution_count": 147,
   "id": "ab853b4a",
   "metadata": {
    "collapsed": false,
    "jupyter": {
     "outputs_hidden": false
    },
    "pycharm": {
     "name": "#%%\n"
    }
   },
   "outputs": [
    {
     "data": {
      "text/plain": [
       "tensor([ 0.6057-1.0350j, -0.9416-1.9782j,  1.3287-0.2900j,  0.2322-0.5285j])"
      ]
     },
     "execution_count": 147,
     "metadata": {},
     "output_type": "execute_result"
    }
   ],
   "source": [
    "x=torch.randn(4, dtype=torch.cfloat)\n",
    "x"
   ]
  },
  {
   "cell_type": "code",
   "execution_count": 148,
   "id": "f4c779ad",
   "metadata": {
    "collapsed": false,
    "jupyter": {
     "outputs_hidden": false
    },
    "pycharm": {
     "name": "#%%\n"
    }
   },
   "outputs": [
    {
     "data": {
      "text/plain": [
       "tensor([-1.0350, -1.9782, -0.2900, -0.5285])"
      ]
     },
     "execution_count": 148,
     "metadata": {},
     "output_type": "execute_result"
    }
   ],
   "source": [
    "x.imag\n"
   ]
  },
  {
   "cell_type": "code",
   "execution_count": 149,
   "id": "ecbf3f37",
   "metadata": {
    "collapsed": false,
    "jupyter": {
     "outputs_hidden": false
    },
    "pycharm": {
     "name": "#%%\n"
    }
   },
   "outputs": [
    {
     "data": {
      "text/plain": [
       "(tensor([1, 2, 3, 4]), tensor([10., 10., 10., 10.]))"
      ]
     },
     "execution_count": 149,
     "metadata": {},
     "output_type": "execute_result"
    }
   ],
   "source": [
    "start = torch.arange(1, 5)\n",
    "end = torch.empty(4).fill_(10)\n",
    "start, end"
   ]
  },
  {
   "cell_type": "code",
   "execution_count": 150,
   "id": "fb69de83",
   "metadata": {
    "collapsed": false,
    "jupyter": {
     "outputs_hidden": false
    },
    "pycharm": {
     "name": "#%%\n"
    }
   },
   "outputs": [
    {
     "data": {
      "text/plain": [
       "tensor([5.5000, 6.0000, 6.5000, 7.0000])"
      ]
     },
     "execution_count": 150,
     "metadata": {},
     "output_type": "execute_result"
    }
   ],
   "source": [
    "start = torch.arange(1, 5.)\n",
    "end = torch.empty(4).fill_(10.)\n",
    "\n",
    "x = torch.lerp(start, end, 0.5)\n",
    "x"
   ]
  },
  {
   "cell_type": "code",
   "execution_count": 151,
   "id": "86b97246",
   "metadata": {
    "collapsed": false,
    "jupyter": {
     "outputs_hidden": false
    },
    "pycharm": {
     "name": "#%%\n"
    }
   },
   "outputs": [
    {
     "data": {
      "text/plain": [
       "tensor([5.5000, 6.0000, 6.5000, 7.0000])"
      ]
     },
     "execution_count": 151,
     "metadata": {},
     "output_type": "execute_result"
    }
   ],
   "source": [
    "y = torch.lgamma(x)\n",
    "x"
   ]
  },
  {
   "cell_type": "code",
   "execution_count": 152,
   "id": "02ed245e",
   "metadata": {
    "collapsed": false,
    "jupyter": {
     "outputs_hidden": false
    },
    "pycharm": {
     "name": "#%%\n"
    }
   },
   "outputs": [
    {
     "data": {
      "text/plain": [
       "tensor([0.0000, 0.6931, 1.0986, 2.3026])"
      ]
     },
     "execution_count": 152,
     "metadata": {},
     "output_type": "execute_result"
    }
   ],
   "source": [
    "z = torch.log(torch.tensor([1.0, 2, 3, 10]))\n",
    "\n",
    "z"
   ]
  },
  {
   "cell_type": "code",
   "execution_count": 153,
   "id": "6ded2005",
   "metadata": {
    "collapsed": false,
    "jupyter": {
     "outputs_hidden": false
    },
    "pycharm": {
     "name": "#%%\n"
    }
   },
   "outputs": [
    {
     "data": {
      "text/plain": [
       "(tensor([2.4594, 2.5850, 2.7004, 2.8074]),\n",
       " tensor([0.7404, 0.7782, 0.8129, 0.8451]))"
      ]
     },
     "execution_count": 153,
     "metadata": {},
     "output_type": "execute_result"
    }
   ],
   "source": [
    "torch.log2(x), torch.log10(x)"
   ]
  },
  {
   "cell_type": "code",
   "execution_count": 154,
   "id": "320268f4",
   "metadata": {
    "collapsed": false,
    "jupyter": {
     "outputs_hidden": false
    },
    "pycharm": {
     "name": "#%%\n"
    }
   },
   "outputs": [
    {
     "data": {
      "text/plain": [
       "tensor([0.6931, 1.3863, 1.7918], dtype=torch.float64)"
      ]
     },
     "execution_count": 154,
     "metadata": {},
     "output_type": "execute_result"
    }
   ],
   "source": [
    "\"\"\"log(e**x  +  e**y)\"\"\"\n",
    "a = torch.tensor([np.log(1.0), np.log(2), np.log(3)])\n",
    "x = torch.logaddexp(a, a)\n",
    "x"
   ]
  },
  {
   "cell_type": "code",
   "execution_count": 155,
   "id": "8ccc7731",
   "metadata": {
    "collapsed": false,
    "jupyter": {
     "outputs_hidden": false
    },
    "pycharm": {
     "name": "#%%\n"
    }
   },
   "outputs": [
    {
     "data": {
      "text/plain": [
       "tensor([False,  True,  True])"
      ]
     },
     "execution_count": 155,
     "metadata": {},
     "output_type": "execute_result"
    }
   ],
   "source": [
    "torch.logical_and(a, a)"
   ]
  },
  {
   "cell_type": "code",
   "execution_count": 156,
   "id": "eef21f1c",
   "metadata": {
    "collapsed": false,
    "jupyter": {
     "outputs_hidden": false
    },
    "pycharm": {
     "name": "#%%\n"
    }
   },
   "outputs": [
    {
     "data": {
      "text/plain": [
       "tensor([False,  True,  True])"
      ]
     },
     "execution_count": 156,
     "metadata": {},
     "output_type": "execute_result"
    }
   ],
   "source": [
    "torch.logical_or(a, a)\n"
   ]
  },
  {
   "cell_type": "code",
   "execution_count": 157,
   "id": "e959bd5e",
   "metadata": {
    "collapsed": false,
    "jupyter": {
     "outputs_hidden": false
    },
    "pycharm": {
     "name": "#%%\n"
    }
   },
   "outputs": [
    {
     "data": {
      "text/plain": [
       "tensor(2.)"
      ]
     },
     "execution_count": 157,
     "metadata": {},
     "output_type": "execute_result"
    }
   ],
   "source": [
    "torch.log2(torch.tensor(4))"
   ]
  },
  {
   "cell_type": "code",
   "execution_count": 158,
   "id": "0ae2e2c7",
   "metadata": {
    "collapsed": false,
    "jupyter": {
     "outputs_hidden": false
    },
    "pycharm": {
     "name": "#%%\n"
    }
   },
   "outputs": [
    {
     "data": {
      "text/plain": [
       "tensor(1.)"
      ]
     },
     "execution_count": 158,
     "metadata": {},
     "output_type": "execute_result"
    }
   ],
   "source": [
    "torch.log10(torch.tensor(10))"
   ]
  },
  {
   "cell_type": "code",
   "execution_count": 159,
   "id": "cb4a15cb",
   "metadata": {
    "collapsed": false,
    "jupyter": {
     "outputs_hidden": false
    },
    "pycharm": {
     "name": "#%%\n"
    }
   },
   "outputs": [
    {
     "data": {
      "text/plain": [
       "(tensor([0.6931, 1.0986, 1.3863, 1.6094, 1.7918]),\n",
       " tensor([0.6931, 1.0986, 1.3863, 1.6094, 1.7918]))"
      ]
     },
     "execution_count": 159,
     "metadata": {},
     "output_type": "execute_result"
    }
   ],
   "source": [
    "a = torch.arange(1, 6.)\n",
    "torch.log1p(a), torch.log(1 + a)"
   ]
  },
  {
   "cell_type": "code",
   "execution_count": 160,
   "id": "ce64e642",
   "metadata": {
    "collapsed": false,
    "jupyter": {
     "outputs_hidden": false
    },
    "pycharm": {
     "name": "#%%\n"
    }
   },
   "outputs": [
    {
     "data": {
      "text/plain": [
       "(tensor([0.7506, 0.1876, 0.2165, 0.1741, 0.4284]),\n",
       " tensor([ 1.1016, -1.4658, -1.2862, -1.5569, -0.2883]))"
      ]
     },
     "execution_count": 160,
     "metadata": {},
     "output_type": "execute_result"
    }
   ],
   "source": [
    "a = torch.rand((5, ))\n",
    "\"\"\"Inverse of sigmoid = sigmoid^(-1)(x)\"\"\"\n",
    "x = torch.logit(a, eps=1e-7)\n",
    "a, x"
   ]
  },
  {
   "cell_type": "code",
   "execution_count": 161,
   "id": "a757a060",
   "metadata": {
    "collapsed": false,
    "jupyter": {
     "outputs_hidden": false
    },
    "pycharm": {
     "name": "#%%\n"
    }
   },
   "outputs": [
    {
     "data": {
      "text/plain": [
       "tensor([ 1.1016, -1.4658, -1.2862, -1.5569, -0.2883])"
      ]
     },
     "execution_count": 161,
     "metadata": {},
     "output_type": "execute_result"
    }
   ],
   "source": [
    "torch.special.logit(a)"
   ]
  },
  {
   "cell_type": "code",
   "execution_count": 162,
   "id": "8614a4f6",
   "metadata": {
    "collapsed": false,
    "jupyter": {
     "outputs_hidden": false
    },
    "pycharm": {
     "name": "#%%\n"
    }
   },
   "outputs": [
    {
     "data": {
      "text/plain": [
       "tensor([1.9867])"
      ]
     },
     "execution_count": 162,
     "metadata": {},
     "output_type": "execute_result"
    }
   ],
   "source": [
    "torch.special.logsumexp(a, 0, keepdim=True)"
   ]
  },
  {
   "cell_type": "code",
   "execution_count": 163,
   "id": "a626fe76",
   "metadata": {
    "collapsed": false,
    "jupyter": {
     "outputs_hidden": false
    },
    "pycharm": {
     "name": "#%%\n"
    }
   },
   "outputs": [
    {
     "data": {
      "text/plain": [
       "tensor([-1.2361, -1.7991, -1.7702, -1.8126, -1.5583])"
      ]
     },
     "execution_count": 163,
     "metadata": {},
     "output_type": "execute_result"
    }
   ],
   "source": [
    "torch.special.log_softmax(a, 0)"
   ]
  },
  {
   "cell_type": "code",
   "execution_count": 164,
   "id": "dda69b0b",
   "metadata": {
    "collapsed": false,
    "jupyter": {
     "outputs_hidden": false
    },
    "pycharm": {
     "name": "#%%\n"
    }
   },
   "outputs": [
    {
     "data": {
      "text/plain": [
       "tensor([5.0000, 5.6569, 6.4031])"
      ]
     },
     "execution_count": 164,
     "metadata": {},
     "output_type": "execute_result"
    }
   ],
   "source": [
    "a = torch.hypot(torch.tensor([4.0]), torch.tensor([3.0, 4.0, 5.0]))\n",
    "a"
   ]
  },
  {
   "cell_type": "code",
   "execution_count": 165,
   "id": "ae255ab9",
   "metadata": {
    "collapsed": false,
    "jupyter": {
     "outputs_hidden": false
    },
    "pycharm": {
     "name": "#%%\n"
    }
   },
   "outputs": [
    {
     "data": {
      "text/plain": [
       "(tensor([[ 1.6566,  1.5401,  1.8910],\n",
       "         [-0.4494,  1.5309,  0.7752],\n",
       "         [ 3.1734,  0.5528, -0.6703],\n",
       "         [ 0.1661, -0.6356, -0.0414]]),\n",
       " tensor([[-1.2500, -1.5469,  1.7200]]),\n",
       " tensor([[ 1.6566,  1.5401,  1.8910],\n",
       "         [-0.4494,  1.5309,  0.7752],\n",
       "         [ 3.1734,  0.5528, -0.6703],\n",
       "         [ 0.1661, -0.6356, -0.0414]]))"
      ]
     },
     "execution_count": 165,
     "metadata": {},
     "output_type": "execute_result"
    }
   ],
   "source": [
    "a = torch.randn((4, 3))\n",
    "b = torch.randn((1, 3))\n",
    "c = torch.mul(a, torch.div(b, b))\n",
    "a, b, c"
   ]
  },
  {
   "cell_type": "code",
   "execution_count": 166,
   "id": "e41e1984",
   "metadata": {
    "collapsed": false,
    "jupyter": {
     "outputs_hidden": false
    },
    "pycharm": {
     "name": "#%%\n"
    }
   },
   "outputs": [
    {
     "data": {
      "text/plain": [
       "tensor([[ 0.8066, -0.5717,  0.8188,  0.9286],\n",
       "        [-0.6916,  0.4902, -0.7021, -0.7963],\n",
       "        [-0.4513,  0.3198, -0.4581, -0.5195],\n",
       "        [-0.0236,  0.0167, -0.0240, -0.0272]])"
      ]
     },
     "execution_count": 166,
     "metadata": {},
     "output_type": "execute_result"
    }
   ],
   "source": [
    "torch.multiply(torch.randn((4, 1)), torch.randn((1, 4)))"
   ]
  },
  {
   "cell_type": "code",
   "execution_count": 167,
   "id": "37314f8c",
   "metadata": {
    "collapsed": false,
    "jupyter": {
     "outputs_hidden": false
    },
    "pycharm": {
     "name": "#%%\n"
    }
   },
   "outputs": [
    {
     "data": {
      "text/plain": [
       "(torch.Size([100, 10]), torch.Size([100, 10]), torch.Size([1, 100, 10]))"
      ]
     },
     "execution_count": 167,
     "metadata": {},
     "output_type": "execute_result"
    }
   ],
   "source": [
    "mat = torch.randn((100, 50))\n",
    "weights = torch.randn((50, 10))\n",
    "\n",
    "out = torch.einsum(\"ij, jk -> ik\", mat, weights)\n",
    "out2 = torch.matmul(mat, weights)\n",
    "out3 = torch.matmul(mat, torch.reshape(weights, (1, weights.shape[0], weights.shape[-1])))\n",
    "out.shape, out2.shape, out3.shape"
   ]
  },
  {
   "cell_type": "code",
   "execution_count": 168,
   "id": "d80c2c76",
   "metadata": {
    "collapsed": false,
    "jupyter": {
     "outputs_hidden": false
    },
    "pycharm": {
     "name": "#%%\n"
    }
   },
   "outputs": [
    {
     "data": {
      "text/plain": [
       "torch.Size([100, 50])"
      ]
     },
     "execution_count": 168,
     "metadata": {},
     "output_type": "execute_result"
    }
   ],
   "source": [
    "mat = torch.randn((100, 50))\n",
    "weights = torch.randn((50,))\n",
    "\n",
    "out = torch.multiply(mat, weights)\n",
    "out.shape"
   ]
  },
  {
   "cell_type": "code",
   "execution_count": 169,
   "id": "be334245",
   "metadata": {
    "collapsed": false,
    "jupyter": {
     "outputs_hidden": false
    },
    "pycharm": {
     "name": "#%%\n"
    }
   },
   "outputs": [
    {
     "data": {
      "text/plain": [
       "torch.Size([5])"
      ]
     },
     "execution_count": 169,
     "metadata": {},
     "output_type": "execute_result"
    }
   ],
   "source": [
    "out = torch.matmul(torch.randn(100), torch.randn((100, 5)))\n",
    "out.size()"
   ]
  },
  {
   "cell_type": "code",
   "execution_count": 170,
   "id": "fa76b2f7",
   "metadata": {
    "collapsed": false,
    "jupyter": {
     "outputs_hidden": false
    },
    "pycharm": {
     "name": "#%%\n"
    }
   },
   "outputs": [
    {
     "name": "stdout",
     "output_type": "stream",
     "text": [
      "tensor([ 1.0069, -1.0087, -0.7001,  0.3110,  0.6531,  0.2604, -0.5620,  1.0041,\n",
      "        -2.4733, -0.6225])\n",
      "tensor([-0.8515,  0.4086,  1.3014,  0.3135,  0.3704,  0.9442, -0.2978,  0.7110,\n",
      "        -2.0869, -1.6790])\n",
      "tensor([-0.8573, -0.4122, -0.9111,  0.0975,  0.2419,  0.2459,  0.1674,  0.7139,\n",
      "         5.1614,  1.0452])\n",
      "tensor(5.4925) torch.Size([10])\n",
      "tensor(5.4925)\n"
     ]
    }
   ],
   "source": [
    "x = torch.randn(10)\n",
    "y = torch.randn(10)\n",
    "print(x)\n",
    "print(y)\n",
    "print(x*y)\n",
    "print(torch.matmul(x, y.T), y.T.shape)\n",
    "print(torch.matmul(x, y))"
   ]
  },
  {
   "cell_type": "code",
   "execution_count": 171,
   "id": "b878a2ca",
   "metadata": {
    "collapsed": false,
    "jupyter": {
     "outputs_hidden": false
    },
    "pycharm": {
     "name": "#%%\n"
    }
   },
   "outputs": [
    {
     "name": "stdout",
     "output_type": "stream",
     "text": [
      "tensor([[-0.5338,  1.5334,  0.1575],\n",
      "        [-0.7814, -0.6906, -0.4092],\n",
      "        [ 1.5230,  0.2843, -0.0605],\n",
      "        [ 0.0139,  1.7410,  0.5402]])\n",
      "tensor([[-0.9061,  0.3419,  0.8508],\n",
      "        [ 1.4569,  0.8452, -1.7345],\n",
      "        [ 0.1827, -1.4297, -0.3720],\n",
      "        [ 1.0224,  0.6510, -0.8656]])\n",
      "tensor([[ 0.4837,  0.5243,  0.1340],\n",
      "        [-1.1385, -0.5837,  0.7097],\n",
      "        [ 0.2783, -0.4064,  0.0225],\n",
      "        [ 0.0142,  1.1334, -0.4676]])\n",
      "tensor([[ 1.1420,  0.2452, -2.3484,  0.3161],\n",
      "        [ 0.1238, -1.0125,  0.9968, -0.8943],\n",
      "        [-1.3342,  2.5640, -0.1056,  1.7945],\n",
      "        [ 1.0423,  0.5549, -2.6876,  0.6800]])\n"
     ]
    }
   ],
   "source": [
    "x = torch.randn((4, 3))\n",
    "y = torch.randn((4, 3))\n",
    "print(x)\n",
    "print(y)\n",
    "print(x*y)\n",
    "print(torch.matmul(x, y.T))"
   ]
  },
  {
   "cell_type": "code",
   "execution_count": 172,
   "id": "596e8c74",
   "metadata": {
    "collapsed": false,
    "jupyter": {
     "outputs_hidden": false
    },
    "pycharm": {
     "name": "#%%\n"
    }
   },
   "outputs": [
    {
     "name": "stdout",
     "output_type": "stream",
     "text": [
      "torch.Size([2])\n"
     ]
    }
   ],
   "source": [
    "x = torch.randn(10)\n",
    "y = torch.randn((10, 2))\n",
    "z = torch.matmul(x, y)\n",
    "print(z.shape)"
   ]
  },
  {
   "cell_type": "code",
   "execution_count": 173,
   "id": "1e620a97",
   "metadata": {
    "collapsed": false,
    "jupyter": {
     "outputs_hidden": false
    },
    "pycharm": {
     "name": "#%%\n"
    }
   },
   "outputs": [
    {
     "data": {
      "text/plain": [
       "torch.Size([3, 4, 2, 2])"
      ]
     },
     "execution_count": 173,
     "metadata": {},
     "output_type": "execute_result"
    }
   ],
   "source": [
    "j, k, n = 3, 4, 2\n",
    "\n",
    "x = torch.randn((j, 1, n, n))\n",
    "y = torch.randn((k, n, n))\n",
    "z = torch.matmul(x, y)\n",
    "z.shape"
   ]
  },
  {
   "cell_type": "code",
   "execution_count": 174,
   "id": "4733577a",
   "metadata": {
    "collapsed": false,
    "jupyter": {
     "outputs_hidden": false
    },
    "pycharm": {
     "name": "#%%\n"
    }
   },
   "outputs": [
    {
     "data": {
      "text/plain": [
       "torch.Size([10, 3, 5])"
      ]
     },
     "execution_count": 174,
     "metadata": {},
     "output_type": "execute_result"
    }
   ],
   "source": [
    "x = torch.randn(10, 3, 4)\n",
    "y = torch.randn(4, 5)\n",
    "\n",
    "z = torch.matmul(x, y).size()\n",
    "z"
   ]
  },
  {
   "cell_type": "code",
   "execution_count": 175,
   "id": "d2478ff3",
   "metadata": {
    "collapsed": false,
    "jupyter": {
     "outputs_hidden": false
    },
    "pycharm": {
     "name": "#%%\n"
    }
   },
   "outputs": [
    {
     "data": {
      "text/plain": [
       "(tensor([-1., -2., -3., -4., -5., -6., -7., -8., -9.]),\n",
       " tensor([-1., -2., -3., -4., -5., -6., -7., -8., -9.]))"
      ]
     },
     "execution_count": 175,
     "metadata": {},
     "output_type": "execute_result"
    }
   ],
   "source": [
    "torch.neg(torch.arange(1, 10.)), -torch.arange(1, 10.0)\n",
    "\n"
   ]
  },
  {
   "cell_type": "code",
   "execution_count": 176,
   "id": "a53d83b9-4f5d-4fd4-9921-d4cb38e79d32",
   "metadata": {
    "pycharm": {
     "name": "#%%\n"
    }
   },
   "outputs": [
    {
     "data": {
      "text/plain": [
       "(tensor([ 1.,  4.,  9., 16., 25., 36., 49., 64., 81.]),\n",
       " tensor([ 1.0000,  2.6390,  4.6555,  6.9644,  9.5183, 12.2860, 15.2453, 18.3792,\n",
       "         21.6740]),\n",
       " tensor([ 1.0000,  2.6390,  4.6555,  6.9644,  9.5183, 12.2860, 15.2453, 18.3792,\n",
       "         21.6740]),\n",
       " tensor([1.0000e+00, 4.0000e+00, 2.7000e+01, 2.5600e+02, 3.1250e+03, 4.6656e+04,\n",
       "         8.2354e+05, 1.6777e+07, 3.8742e+08]),\n",
       " tensor([1.0000e+00, 4.0000e+00, 2.7000e+01, 2.5600e+02, 3.1250e+03, 4.6656e+04,\n",
       "         8.2354e+05, 1.6777e+07, 3.8742e+08]))"
      ]
     },
     "execution_count": 176,
     "metadata": {},
     "output_type": "execute_result"
    }
   ],
   "source": [
    "x = torch.arange(1.0, 10.0)\n",
    "y = torch.arange(1, 10)\n",
    "torch.pow(x, 2), torch.pow(x, 1.4), x**1.4, torch.pow(x, y), x**y"
   ]
  },
  {
   "cell_type": "code",
   "execution_count": 177,
   "id": "8fe9450a-59e0-4ce6-95f8-db37e944a598",
   "metadata": {
    "pycharm": {
     "name": "#%%\n"
    }
   },
   "outputs": [
    {
     "data": {
      "text/plain": [
       "tensor([[[[0.0000, 0.0000],\n",
       "          [0.0000, 0.0000]],\n",
       "\n",
       "         [[1.5000, 0.0000],\n",
       "          [0.0000, 0.0000]]],\n",
       "\n",
       "\n",
       "        [[[1.5000, 0.0000],\n",
       "          [0.0000, 1.5000]],\n",
       "\n",
       "         [[1.5000, 0.0000],\n",
       "          [0.0000, 0.0000]]]], size=(2, 2, 2, 2), dtype=torch.quint8,\n",
       "       quantization_scheme=torch.per_tensor_affine, scale=1.5, zero_point=3)"
      ]
     },
     "execution_count": 177,
     "metadata": {},
     "output_type": "execute_result"
    }
   ],
   "source": [
    "qx = torch.quantize_per_tensor(torch.rand(2, 2, 2, 2), 1.5, 3, torch.quint8)\n",
    "qx"
   ]
  },
  {
   "cell_type": "code",
   "execution_count": 178,
   "id": "013e8456-13aa-467a-a02b-a7fc2c2d4208",
   "metadata": {
    "pycharm": {
     "name": "#%%\n"
    }
   },
   "outputs": [
    {
     "data": {
      "text/plain": [
       "tensor([[[[0.0000, 0.0000],\n",
       "          [0.0000, 0.0000]],\n",
       "\n",
       "         [[0.0000, 0.0000],\n",
       "          [1.5000, 0.0000]]],\n",
       "\n",
       "\n",
       "        [[[0.0000, 1.5000],\n",
       "          [0.0000, 1.5000]],\n",
       "\n",
       "         [[1.5000, 0.0000],\n",
       "          [0.0000, 0.0000]]]], size=(2, 2, 2, 2), dtype=torch.quint8,\n",
       "       quantization_scheme=torch.per_tensor_affine, scale=1.5, zero_point=3)"
      ]
     },
     "execution_count": 178,
     "metadata": {},
     "output_type": "execute_result"
    }
   ],
   "source": [
    "qx = torch.quantize_per_tensor(torch.rand(2, 2, 2, 2), 1.5, 3, torch.quint8)\n",
    "qx"
   ]
  },
  {
   "cell_type": "code",
   "execution_count": 179,
   "id": "e4eba639-2fc0-4333-aed1-592ea0cc3af2",
   "metadata": {
    "pycharm": {
     "name": "#%%\n"
    }
   },
   "outputs": [
    {
     "data": {
      "text/plain": [
       "tensor([[ 180.0233, -180.0233],\n",
       "        [ 359.9894, -359.9894],\n",
       "        [  89.9544,  -89.9544]])"
      ]
     },
     "execution_count": 179,
     "metadata": {},
     "output_type": "execute_result"
    }
   ],
   "source": [
    "a = torch.tensor([[3.142, -3.142], [6.283, -6.283], [1.570, -1.570]])\n",
    "torch.rad2deg(a)"
   ]
  },
  {
   "cell_type": "code",
   "execution_count": 180,
   "id": "c613c6a5-217f-42db-9bff-c17ca840ba9d",
   "metadata": {
    "pycharm": {
     "name": "#%%\n"
    }
   },
   "outputs": [
    {
     "data": {
      "text/plain": [
       "(tensor([0.0882+0.7058j, 0.3544-0.8289j, 0.6864-0.2557j, 0.1208-0.9810j]),\n",
       " tensor([0.0882, 0.3544, 0.6864, 0.1208]),\n",
       " tensor([ 0.7058, -0.8289, -0.2557, -0.9810]))"
      ]
     },
     "execution_count": 180,
     "metadata": {},
     "output_type": "execute_result"
    }
   ],
   "source": [
    "x = torch.randn(4, dtype=torch.cfloat)\n",
    "x, x.real, x.imag"
   ]
  },
  {
   "cell_type": "code",
   "execution_count": 181,
   "id": "2d80d55c-e46d-4b28-a32b-c1a0dc5663d5",
   "metadata": {
    "pycharm": {
     "name": "#%%\n"
    }
   },
   "outputs": [
    {
     "data": {
      "text/plain": [
       "(tensor([ 1.1925,  0.5514, -0.9186, -1.8427]),\n",
       " tensor([ 1.1925,  0.5514, -0.9186, -1.8427]))"
      ]
     },
     "execution_count": 181,
     "metadata": {},
     "output_type": "execute_result"
    }
   ],
   "source": [
    "x = torch.randn(4)\n",
    "torch.reciprocal(x), 1.0 / x"
   ]
  },
  {
   "cell_type": "code",
   "execution_count": 182,
   "id": "87919fbd-216a-4e07-b923-a553c9da1229",
   "metadata": {
    "pycharm": {
     "name": "#%%\n"
    }
   },
   "outputs": [
    {
     "data": {
      "text/plain": [
       "tensor([-3, -2, -1,  1,  2,  3])"
      ]
     },
     "execution_count": 182,
     "metadata": {},
     "output_type": "execute_result"
    }
   ],
   "source": [
    "x = torch.tensor([-3, -2, -1, 1, 2, 3])\n",
    "x"
   ]
  },
  {
   "cell_type": "code",
   "execution_count": 183,
   "id": "73ab7ff4-945f-48d1-8dfe-5bbc4576a6e0",
   "metadata": {
    "pycharm": {
     "name": "#%%\n"
    }
   },
   "outputs": [
    {
     "data": {
      "text/plain": [
       "(tensor([-3, -2, -1,  1,  2,  3]),\n",
       " tensor([0, 1, 2, 1, 2, 0]),\n",
       " tensor([0, 1, 2, 1, 2, 0]),\n",
       " tensor([-1.0000, -0.6667, -0.3333,  0.3333,  0.6667,  1.0000]))"
      ]
     },
     "execution_count": 183,
     "metadata": {},
     "output_type": "execute_result"
    }
   ],
   "source": [
    "x, x % 3, torch.remainder(x, 3), torch.div(x, 3)"
   ]
  },
  {
   "cell_type": "code",
   "execution_count": 184,
   "id": "9754509f-aafb-4f09-8cdc-60f58d67ecbd",
   "metadata": {
    "pycharm": {
     "name": "#%%\n"
    }
   },
   "outputs": [
    {
     "data": {
      "text/plain": [
       "(tensor([-3, -2, -1,  1,  2,  3]),\n",
       " tensor([ 0, -2, -1, -2, -1,  0]),\n",
       " tensor([ 0, -2, -1, -2, -1,  0]),\n",
       " tensor([ 1.0000,  0.6667,  0.3333, -0.3333, -0.6667, -1.0000]))"
      ]
     },
     "execution_count": 184,
     "metadata": {},
     "output_type": "execute_result"
    }
   ],
   "source": [
    "div = -3\n",
    "x, x % div, torch.remainder(x, div), torch.div(x, div)"
   ]
  },
  {
   "cell_type": "code",
   "execution_count": 185,
   "id": "14427b9b-7f4c-4a93-b807-dda5da2fa34a",
   "metadata": {
    "pycharm": {
     "name": "#%%\n"
    }
   },
   "outputs": [
    {
     "data": {
      "text/plain": [
       "(tensor([ 2.1250, -3.3621, -0.8920,  4.3580, -0.2678,  0.3451,  3.1434,  3.7844,\n",
       "         -0.6415,  0.5584, -1.1515,  4.1429,  0.9475, -2.2007, -0.3272, -0.4356,\n",
       "          4.1674,  1.3124, -1.7271,  2.4338]),\n",
       " tensor([ 2., -3., -0.,  4., -0.,  0.,  3.,  3., -0.,  0., -1.,  4.,  0., -2.,\n",
       "         -0., -0.,  4.,  1., -1.,  2.]),\n",
       " tensor([ 3., -3., -0.,  5., -0.,  1.,  4.,  4., -0.,  1., -1.,  5.,  1., -2.,\n",
       "         -0., -0.,  5.,  2., -1.,  3.]),\n",
       " tensor([ 2., -3., -1.,  4., -0.,  0.,  3.,  4., -1.,  1., -1.,  4.,  1., -2.,\n",
       "         -0., -0.,  4.,  1., -2.,  2.]),\n",
       " tensor([ 2., -4., -1.,  4., -1.,  0.,  3.,  3., -1.,  0., -2.,  4.,  0., -3.,\n",
       "         -1., -1.,  4.,  1., -2.,  2.]))"
      ]
     },
     "execution_count": 185,
     "metadata": {},
     "output_type": "execute_result"
    }
   ],
   "source": [
    "x = 1. + torch.randn(20) * 2\n",
    "x, torch.trunc(x), torch.ceil(x), torch.round(x), torch.floor(x)"
   ]
  },
  {
   "cell_type": "code",
   "execution_count": 186,
   "id": "e26ce0a7-5732-4dd3-971a-cdc1a28b0fac",
   "metadata": {
    "pycharm": {
     "name": "#%%\n"
    }
   },
   "outputs": [
    {
     "data": {
      "text/plain": [
       "(tensor([1.4577,    nan,    nan, 2.0876,    nan, 0.5875, 1.7730, 1.9454,    nan,\n",
       "         0.7473,    nan, 2.0354, 0.9734,    nan,    nan,    nan, 2.0414, 1.1456,\n",
       "            nan, 1.5601]),\n",
       " tensor([1.4577,    nan,    nan, 2.0876,    nan, 0.5875, 1.7730, 1.9454,    nan,\n",
       "         0.7473,    nan, 2.0354, 0.9734,    nan,    nan,    nan, 2.0414, 1.1456,\n",
       "            nan, 1.5601]))"
      ]
     },
     "execution_count": 186,
     "metadata": {},
     "output_type": "execute_result"
    }
   ],
   "source": [
    "torch.sqrt(x), x ** 0.5"
   ]
  },
  {
   "cell_type": "code",
   "execution_count": 187,
   "id": "131ded28-bae2-443d-926d-de997f4be809",
   "metadata": {
    "pycharm": {
     "name": "#%%\n"
    }
   },
   "outputs": [
    {
     "data": {
      "text/plain": [
       "tensor([False,  True,  True, False,  True, False, False, False,  True, False,\n",
       "         True, False, False,  True,  True,  True, False, False,  True, False])"
      ]
     },
     "execution_count": 187,
     "metadata": {},
     "output_type": "execute_result"
    }
   ],
   "source": [
    "torch.isnan(torch.sqrt(x))"
   ]
  },
  {
   "cell_type": "code",
   "execution_count": 188,
   "id": "8fd60365-8193-4546-ba81-19fc45dad79d",
   "metadata": {
    "pycharm": {
     "name": "#%%\n"
    }
   },
   "outputs": [
    {
     "data": {
      "text/plain": [
       "(tensor([0.6860,    nan,    nan, 0.4790,    nan, 1.7022, 0.5640, 0.5140,    nan,\n",
       "         1.3382,    nan, 0.4913, 1.0273,    nan,    nan,    nan, 0.4899, 0.8729,\n",
       "            nan, 0.6410]),\n",
       " tensor([0.6860,    nan,    nan, 0.4790,    nan, 1.7022, 0.5640, 0.5140,    nan,\n",
       "         1.3382,    nan, 0.4913, 1.0273,    nan,    nan,    nan, 0.4899, 0.8729,\n",
       "            nan, 0.6410]))"
      ]
     },
     "execution_count": 188,
     "metadata": {},
     "output_type": "execute_result"
    }
   ],
   "source": [
    "torch.rsqrt(x), x **-0.5"
   ]
  },
  {
   "cell_type": "code",
   "execution_count": 189,
   "id": "ef866854-1cab-452e-87f2-60377dfa79db",
   "metadata": {
    "pycharm": {
     "name": "#%%\n"
    }
   },
   "outputs": [
    {
     "data": {
      "text/plain": [
       "(tensor([ 2.1250, -3.3621, -0.8920,  4.3580, -0.2678,  0.3451,  3.1434,  3.7844,\n",
       "         -0.6415,  0.5584, -1.1515,  4.1429,  0.9475, -2.2007, -0.3272, -0.4356,\n",
       "          4.1674,  1.3124, -1.7271,  2.4338]),\n",
       " tensor([ 1., -1., -1.,  1., -1.,  1.,  1.,  1., -1.,  1., -1.,  1.,  1., -1.,\n",
       "         -1., -1.,  1.,  1., -1.,  1.]))"
      ]
     },
     "execution_count": 189,
     "metadata": {},
     "output_type": "execute_result"
    }
   ],
   "source": [
    "x, torch.sign(x)"
   ]
  },
  {
   "cell_type": "code",
   "execution_count": 190,
   "id": "7847efcb-3656-4dfe-8149-a03ed74e4377",
   "metadata": {
    "pycharm": {
     "name": "#%%\n"
    }
   },
   "outputs": [
    {
     "data": {
      "text/plain": [
       "tensor([0.6000+0.8000j, 0.2800-0.9600j, 0.0000+0.0000j, 0.4472+0.8944j])"
      ]
     },
     "execution_count": 190,
     "metadata": {},
     "output_type": "execute_result"
    }
   ],
   "source": [
    "t = torch.tensor([3+4j, 7-24j, 0, 1+2j])\n",
    "torch.sgn(t)"
   ]
  },
  {
   "cell_type": "code",
   "execution_count": 191,
   "id": "71cd36be-ff9a-4010-98c8-80c447aad939",
   "metadata": {
    "pycharm": {
     "name": "#%%\n"
    }
   },
   "outputs": [
    {
     "data": {
      "text/plain": [
       "tensor([False,  True,  True, False,  True, False, False, False,  True, False,\n",
       "         True, False, False,  True,  True,  True, False, False,  True, False])"
      ]
     },
     "execution_count": 191,
     "metadata": {},
     "output_type": "execute_result"
    }
   ],
   "source": [
    "torch.signbit(x)"
   ]
  },
  {
   "cell_type": "code",
   "execution_count": 192,
   "id": "072d87e6-0441-43a5-b4c7-df1e39be35b3",
   "metadata": {
    "pycharm": {
     "name": "#%%\n"
    }
   },
   "outputs": [
    {
     "data": {
      "text/plain": [
       "(tensor([ 4.5157, 11.3037,  0.7956, 18.9923,  0.0717,  0.1191,  9.8812, 14.3218,\n",
       "          0.4115,  0.3118,  1.3259, 17.1639,  0.8978,  4.8432,  0.1071,  0.1897,\n",
       "         17.3670,  1.7223,  2.9829,  5.9236]),\n",
       " tensor([ 4.5157, 11.3037,  0.7956, 18.9923,  0.0717,  0.1191,  9.8812, 14.3218,\n",
       "          0.4115,  0.3118,  1.3259, 17.1639,  0.8978,  4.8432,  0.1071,  0.1897,\n",
       "         17.3670,  1.7223,  2.9829,  5.9236]))"
      ]
     },
     "execution_count": 192,
     "metadata": {},
     "output_type": "execute_result"
    }
   ],
   "source": [
    "torch.square(x), x ** 2"
   ]
  },
  {
   "cell_type": "code",
   "execution_count": 193,
   "id": "b45232b4-c8f7-49d8-989e-41a1a7324283",
   "metadata": {
    "pycharm": {
     "name": "#%%\n"
    }
   },
   "outputs": [
    {
     "data": {
      "text/plain": [
       "tensor([0., 0., 0., 0., 0., 0., 0., 0., 0., 0., 0., 0., 0., 0., 0., 0., 0., 0., 0., 0.])"
      ]
     },
     "execution_count": 193,
     "metadata": {},
     "output_type": "execute_result"
    }
   ],
   "source": [
    "torch.sub(x, x)"
   ]
  },
  {
   "cell_type": "code",
   "execution_count": 194,
   "id": "2b040497-a28e-4820-88e3-8eb4093e0d7d",
   "metadata": {
    "pycharm": {
     "name": "#%%\n"
    }
   },
   "outputs": [
    {
     "data": {
      "text/plain": [
       "(tensor([ -0.7428,   1.3611,  -2.4670, -62.1684,   1.7390,   1.1380,  15.7112,\n",
       "          -0.5030,   5.7550,   1.2671,   2.5256,   2.6931,   1.0490,   0.3153,\n",
       "          -7.9885,   0.7847,  -1.5172,   1.7246,   0.4648,   3.2658]),\n",
       " tensor([ -0.7428,   1.3611,  -2.4670, -62.1684,   1.7390,   1.1380,  15.7112,\n",
       "          -0.5030,   5.7550,   1.2671,   2.5256,   2.6931,   1.0490,   0.3153,\n",
       "          -7.9885,   0.7847,  -1.5172,   1.7246,   0.4648,   3.2658]),\n",
       " tensor([ -0.7428,   1.3611,  -2.4670, -62.1684,   1.7390,   1.1380,  15.7112,\n",
       "          -0.5030,   5.7550,   1.2671,   2.5256,   2.6931,   1.0490,   0.3153,\n",
       "          -7.9885,   0.7847,  -1.5172,   1.7246,   0.4648,   3.2658]),\n",
       " tensor([ -0.7428,   1.3611,  -2.4670, -62.1684,   1.7390,   1.1380,  15.7112,\n",
       "          -0.5030,   5.7550,   1.2671,   2.5256,   2.6931,   1.0490,   0.3153,\n",
       "          -7.9885,   0.7847,  -1.5172,   1.7246,   0.4648,   3.2658]))"
      ]
     },
     "execution_count": 194,
     "metadata": {},
     "output_type": "execute_result"
    }
   ],
   "source": [
    "z = torch.randn_like(x)\n",
    "torch.divide(x, z * x), torch.div(x, z*x), torch.div(x, z*x), torch.true_divide(x, z*x)"
   ]
  },
  {
   "cell_type": "code",
   "execution_count": 195,
   "id": "46ac6ca7-9ec5-4579-8634-961182fb0959",
   "metadata": {
    "pycharm": {
     "name": "#%%\n"
    }
   },
   "outputs": [
    {
     "data": {
      "text/plain": [
       "(tensor([-2.8609, -2.4702,  0.3616, -0.0701, -0.1540,  0.3033,  0.2001, -7.5235,\n",
       "         -0.1115,  0.4407, -0.4559,  1.5384,  0.9033, -6.9787,  0.0410, -0.5551,\n",
       "         -2.7468,  0.7610, -3.7157,  0.7453]),\n",
       " tensor([-2.8609, -2.4702,  0.3616, -0.0701, -0.1540,  0.3033,  0.2001, -7.5235,\n",
       "         -0.1115,  0.4407, -0.4559,  1.5384,  0.9033, -6.9787,  0.0410, -0.5551,\n",
       "         -2.7468,  0.7610, -3.7157,  0.7453]),\n",
       " tensor([ 0.0000e+00,  0.0000e+00,  0.0000e+00,  7.4506e-08,  0.0000e+00,\n",
       "          0.0000e+00, -7.4506e-08,  0.0000e+00,  2.9802e-08,  0.0000e+00,\n",
       "          5.9605e-08, -1.1921e-07,  0.0000e+00,  0.0000e+00, -7.4506e-09,\n",
       "          0.0000e+00, -2.3842e-07,  0.0000e+00,  0.0000e+00,  0.0000e+00]))"
      ]
     },
     "execution_count": 195,
     "metadata": {},
     "output_type": "execute_result"
    }
   ],
   "source": [
    "y = torch.special.xlogy(x, torch.exp(z))\n",
    "y, x*z, y - x*z"
   ]
  },
  {
   "cell_type": "code",
   "execution_count": 196,
   "id": "1395705b-12b4-41eb-89ac-891c3e69a24d",
   "metadata": {
    "pycharm": {
     "name": "#%%\n"
    }
   },
   "outputs": [
    {
     "data": {
      "text/plain": [
       "tensor([False, False, False, False, False, False, False, False, False, False,\n",
       "        False, False, False, False, False, False, False, False, False, False])"
      ]
     },
     "execution_count": 196,
     "metadata": {},
     "output_type": "execute_result"
    }
   ],
   "source": [
    "torch.isnan(x)"
   ]
  },
  {
   "cell_type": "code",
   "execution_count": 197,
   "metadata": {
    "collapsed": false,
    "pycharm": {
     "name": "#%%\n"
    }
   },
   "outputs": [
    {
     "data": {
      "text/plain": [
       "tensor([ 2.1250, -3.3621, -0.8920,  4.3580, -0.2678,  0.3451,  3.1434,  3.7844,\n",
       "        -0.6415,  0.5584, -1.1515,  4.1429,  0.9475, -2.2007, -0.3272, -0.4356,\n",
       "         4.1674,  1.3124, -1.7271,  2.4338])"
      ]
     },
     "execution_count": 197,
     "metadata": {},
     "output_type": "execute_result"
    }
   ],
   "source": [
    "x"
   ]
  },
  {
   "cell_type": "code",
   "execution_count": 198,
   "metadata": {
    "collapsed": false,
    "pycharm": {
     "name": "#%%\n"
    }
   },
   "outputs": [
    {
     "data": {
      "text/plain": [
       "(tensor([[30, 94, 31, 73, 89, 76, 19, 76, 82, 61],\n",
       "         [38, 96, 55, 13, 50, 87, 67, 33,  0, 12],\n",
       "         [78, 80, 18, 14, 22, 64, 31, 12, 79, 97],\n",
       "         [49, 33, 82, 17, 14, 84, 86,  2,  5, 14]]),\n",
       " tensor(97),\n",
       " torch.return_types.max(\n",
       " values=tensor([78, 96, 82, 73, 89, 87, 86, 76, 82, 97]),\n",
       " indices=tensor([2, 1, 3, 0, 0, 1, 3, 0, 0, 2])),\n",
       " torch.return_types.max(\n",
       " values=tensor([94, 96, 97, 86]),\n",
       " indices=tensor([1, 1, 9, 6])))"
      ]
     },
     "execution_count": 198,
     "metadata": {},
     "output_type": "execute_result"
    }
   ],
   "source": [
    "torch.manual_seed(4)\n",
    "x = torch.randint(0, 100, size=(4, 10))\n",
    "x, torch.max(x), torch.max(x, dim=0), torch.max(x, dim=1)"
   ]
  },
  {
   "cell_type": "code",
   "execution_count": 199,
   "metadata": {
    "collapsed": false,
    "pycharm": {
     "name": "#%%\n"
    }
   },
   "outputs": [
    {
     "data": {
      "text/plain": [
       "torch.return_types.max(\n",
       "values=tensor([[94],\n",
       "        [96],\n",
       "        [97],\n",
       "        [86]]),\n",
       "indices=tensor([[1],\n",
       "        [1],\n",
       "        [9],\n",
       "        [6]]))"
      ]
     },
     "execution_count": 199,
     "metadata": {},
     "output_type": "execute_result"
    }
   ],
   "source": [
    "torch.max(x, dim=1, keepdim=True)\n"
   ]
  },
  {
   "cell_type": "code",
   "execution_count": 200,
   "id": "de78736a",
   "metadata": {},
   "outputs": [
    {
     "data": {
      "text/plain": [
       "torch.return_types.max(\n",
       "values=tensor([[78, 96, 82, 73, 89, 87, 86, 76, 82, 97]]),\n",
       "indices=tensor([[2, 1, 3, 0, 0, 1, 3, 0, 0, 2]]))"
      ]
     },
     "execution_count": 200,
     "metadata": {},
     "output_type": "execute_result"
    }
   ],
   "source": [
    "torch.max(x, dim=0, keepdim=True)"
   ]
  },
  {
   "cell_type": "code",
   "execution_count": 201,
   "id": "0eede983",
   "metadata": {},
   "outputs": [
    {
     "data": {
      "text/plain": [
       "(tensor([[92, 41, 98, 54, 87],\n",
       "         [ 8,  0, 19, 18, 17],\n",
       "         [29, 20, 66, 53, 36],\n",
       "         [15, 26, 83,  7, 62]]),\n",
       " tensor([[35, 49, 95, 42, 93],\n",
       "         [44, 57, 49, 61, 87],\n",
       "         [68, 80, 91, 42, 66],\n",
       "         [22, 95, 26, 10, 47]]),\n",
       " tensor([[92, 49, 98, 54, 93],\n",
       "         [44, 57, 49, 61, 87],\n",
       "         [68, 80, 91, 53, 66],\n",
       "         [22, 95, 83, 10, 62]]))"
      ]
     },
     "execution_count": 201,
     "metadata": {},
     "output_type": "execute_result"
    }
   ],
   "source": [
    "y = torch.randint(0, 100, size=(4, 5))\n",
    "z = torch.randint(0, 100, size=(4, 5))\n",
    "\n",
    "\n",
    "y, z, torch.max(y, z)"
   ]
  },
  {
   "cell_type": "code",
   "execution_count": 202,
   "id": "0377a79c",
   "metadata": {},
   "outputs": [
    {
     "data": {
      "text/plain": [
       "tensor([92, 41, 98, 54, 87])"
      ]
     },
     "execution_count": 202,
     "metadata": {},
     "output_type": "execute_result"
    }
   ],
   "source": [
    "torch.max(y, dim=0).values\n"
   ]
  },
  {
   "cell_type": "code",
   "execution_count": 203,
   "id": "4972641b",
   "metadata": {},
   "outputs": [
    {
     "data": {
      "text/plain": [
       "tensor([0, 0, 0, 0, 0])"
      ]
     },
     "execution_count": 203,
     "metadata": {},
     "output_type": "execute_result"
    }
   ],
   "source": [
    "torch.max(y, dim=0).indices"
   ]
  },
  {
   "cell_type": "code",
   "execution_count": 204,
   "id": "40e8a6de",
   "metadata": {},
   "outputs": [
    {
     "data": {
      "text/plain": [
       "tensor([0, 0, 0, 0, 0])"
      ]
     },
     "execution_count": 204,
     "metadata": {},
     "output_type": "execute_result"
    }
   ],
   "source": [
    "torch.argmax(y, dim=0)"
   ]
  },
  {
   "cell_type": "code",
   "execution_count": 205,
   "id": "80f877f4",
   "metadata": {},
   "outputs": [
    {
     "data": {
      "text/plain": [
       "tensor([[92, 49, 98, 54, 93],\n",
       "        [44, 57, 49, 61, 87],\n",
       "        [68, 80, 91, 53, 66],\n",
       "        [22, 95, 83, 10, 62]])"
      ]
     },
     "execution_count": 205,
     "metadata": {},
     "output_type": "execute_result"
    }
   ],
   "source": [
    "torch.maximum(y, z)"
   ]
  },
  {
   "cell_type": "code",
   "execution_count": 206,
   "id": "cd593dbc",
   "metadata": {},
   "outputs": [
    {
     "data": {
      "text/plain": [
       "tensor([[[ 0.2929,  1.2911],\n",
       "         [ 0.6166,  0.2693],\n",
       "         [-0.4581,  0.8754],\n",
       "         [-0.3745,  2.3506]],\n",
       "\n",
       "        [[ 2.7820, -0.6994],\n",
       "         [ 1.7504,  0.1734],\n",
       "         [ 0.4083,  2.5536],\n",
       "         [-2.5738, -2.4772]],\n",
       "\n",
       "        [[-2.8787,  1.9957],\n",
       "         [ 1.6689,  2.2201],\n",
       "         [ 2.8717,  1.7950],\n",
       "         [-0.2311,  1.6832]]], dtype=torch.float64)"
      ]
     },
     "execution_count": 206,
     "metadata": {},
     "output_type": "execute_result"
    }
   ],
   "source": [
    "np.random.seed(0)\n",
    "x = torch.from_numpy(np.random.uniform(-3, 3, size=(3, 4, 2)))\n",
    "x"
   ]
  },
  {
   "cell_type": "code",
   "execution_count": 207,
   "id": "46ba61cc",
   "metadata": {},
   "outputs": [
    {
     "data": {
      "text/plain": [
       "tensor(2.8717, dtype=torch.float64)"
      ]
     },
     "execution_count": 207,
     "metadata": {},
     "output_type": "execute_result"
    }
   ],
   "source": [
    "torch.amax(x)"
   ]
  },
  {
   "cell_type": "code",
   "execution_count": 208,
   "id": "cc92fa8c",
   "metadata": {},
   "outputs": [
    {
     "data": {
      "text/plain": [
       "tensor([[0.6166, 2.3506],\n",
       "        [2.7820, 2.5536],\n",
       "        [2.8717, 2.2201]], dtype=torch.float64)"
      ]
     },
     "execution_count": 208,
     "metadata": {},
     "output_type": "execute_result"
    }
   ],
   "source": [
    "torch.amax(x, dim=1)"
   ]
  },
  {
   "cell_type": "code",
   "execution_count": 209,
   "id": "abd07bf6",
   "metadata": {},
   "outputs": [
    {
     "data": {
      "text/plain": [
       "tensor([[[ 2.7820,  1.9957],\n",
       "         [ 1.7504,  2.2201],\n",
       "         [ 2.8717,  2.5536],\n",
       "         [-0.2311,  2.3506]]], dtype=torch.float64)"
      ]
     },
     "execution_count": 209,
     "metadata": {},
     "output_type": "execute_result"
    }
   ],
   "source": [
    "torch.amax(x, dim=0, keepdim=True)"
   ]
  },
  {
   "cell_type": "code",
   "execution_count": 210,
   "id": "fc381dc5",
   "metadata": {},
   "outputs": [
    {
     "data": {
      "text/plain": [
       "tensor([[[1, 2],\n",
       "         [1, 2],\n",
       "         [2, 1],\n",
       "         [2, 0]]])"
      ]
     },
     "execution_count": 210,
     "metadata": {},
     "output_type": "execute_result"
    }
   ],
   "source": [
    "torch.argmax(x, dim=0, keepdim=True)"
   ]
  },
  {
   "cell_type": "code",
   "execution_count": 211,
   "id": "73097036",
   "metadata": {},
   "outputs": [
    {
     "data": {
      "text/plain": [
       "tensor([2.8717, 2.5536], dtype=torch.float64)"
      ]
     },
     "execution_count": 211,
     "metadata": {},
     "output_type": "execute_result"
    }
   ],
   "source": [
    "torch.amax(x, dim=(0, 1))"
   ]
  },
  {
   "cell_type": "code",
   "execution_count": 212,
   "id": "4da86753",
   "metadata": {},
   "outputs": [
    {
     "data": {
      "text/plain": [
       "tensor([2.8717, 2.5536], dtype=torch.float64)"
      ]
     },
     "execution_count": 212,
     "metadata": {},
     "output_type": "execute_result"
    }
   ],
   "source": [
    "torch.amax(x, dim=(1, 0))\n"
   ]
  },
  {
   "cell_type": "code",
   "execution_count": 213,
   "id": "64c671b0",
   "metadata": {},
   "outputs": [
    {
     "data": {
      "text/plain": [
       "tensor([[0.6166, 2.3506],\n",
       "        [2.7820, 2.5536],\n",
       "        [2.8717, 2.2201]], dtype=torch.float64)"
      ]
     },
     "execution_count": 213,
     "metadata": {},
     "output_type": "execute_result"
    }
   ],
   "source": [
    "torch.amax(x, dim=(1, ))"
   ]
  },
  {
   "cell_type": "code",
   "execution_count": 214,
   "id": "4e035e78",
   "metadata": {},
   "outputs": [
    {
     "data": {
      "text/plain": [
       "tensor([[[2.8717, 2.5536]]], dtype=torch.float64)"
      ]
     },
     "execution_count": 214,
     "metadata": {},
     "output_type": "execute_result"
    }
   ],
   "source": [
    "torch.amax(x, dim=(1, 0), keepdim=True)"
   ]
  },
  {
   "cell_type": "code",
   "execution_count": 215,
   "id": "29a261ad",
   "metadata": {},
   "outputs": [
    {
     "data": {
      "text/plain": [
       "(tensor(16), tensor(-2.8787, dtype=torch.float64))"
      ]
     },
     "execution_count": 215,
     "metadata": {},
     "output_type": "execute_result"
    }
   ],
   "source": [
    "torch.argmin(x), torch.min(x)"
   ]
  },
  {
   "cell_type": "code",
   "execution_count": 216,
   "id": "965bc2ca",
   "metadata": {},
   "outputs": [
    {
     "data": {
      "text/plain": [
       "tensor([-2.8787, -2.4772], dtype=torch.float64)"
      ]
     },
     "execution_count": 216,
     "metadata": {},
     "output_type": "execute_result"
    }
   ],
   "source": [
    "torch.amin(x, dim=(0, 1))"
   ]
  },
  {
   "cell_type": "code",
   "execution_count": 217,
   "id": "bf5d7958",
   "metadata": {},
   "outputs": [
    {
     "data": {
      "text/plain": [
       "torch.return_types.min(\n",
       "values=tensor([[-0.4581,  0.2693],\n",
       "        [-2.5738, -2.4772],\n",
       "        [-2.8787,  1.6832]], dtype=torch.float64),\n",
       "indices=tensor([[2, 1],\n",
       "        [3, 3],\n",
       "        [0, 3]]))"
      ]
     },
     "execution_count": 217,
     "metadata": {},
     "output_type": "execute_result"
    }
   ],
   "source": [
    "torch.min(x, dim=1)"
   ]
  },
  {
   "cell_type": "code",
   "execution_count": 218,
   "id": "1f4998ad",
   "metadata": {},
   "outputs": [
    {
     "data": {
      "text/plain": [
       "tensor([[[ 0.2929,  1.2911],\n",
       "         [ 0.6166,  0.2693],\n",
       "         [-0.4581,  0.8754],\n",
       "         [-0.3745,  2.3506]],\n",
       "\n",
       "        [[ 2.7820, -0.6994],\n",
       "         [ 1.7504,  0.1734],\n",
       "         [ 0.4083,  2.5536],\n",
       "         [-2.5738, -2.4772]],\n",
       "\n",
       "        [[-2.8787,  1.9957],\n",
       "         [ 1.6689,  2.2201],\n",
       "         [ 2.8717,  1.7950],\n",
       "         [-0.2311,  1.6832]]], dtype=torch.float64)"
      ]
     },
     "execution_count": 218,
     "metadata": {},
     "output_type": "execute_result"
    }
   ],
   "source": [
    "x"
   ]
  },
  {
   "cell_type": "code",
   "execution_count": 219,
   "id": "5e191142",
   "metadata": {},
   "outputs": [
    {
     "data": {
      "text/plain": [
       "torch.return_types.aminmax(\n",
       "min=tensor(-2.8787, dtype=torch.float64),\n",
       "max=tensor(2.8717, dtype=torch.float64))"
      ]
     },
     "execution_count": 219,
     "metadata": {},
     "output_type": "execute_result"
    }
   ],
   "source": [
    "torch.aminmax(x,)"
   ]
  },
  {
   "cell_type": "code",
   "execution_count": 220,
   "id": "335a090e",
   "metadata": {},
   "outputs": [
    {
     "data": {
      "text/plain": [
       "torch.return_types.aminmax(\n",
       "min=tensor([[-0.4581,  0.2693],\n",
       "        [-2.5738, -2.4772],\n",
       "        [-2.8787,  1.6832]], dtype=torch.float64),\n",
       "max=tensor([[0.6166, 2.3506],\n",
       "        [2.7820, 2.5536],\n",
       "        [2.8717, 2.2201]], dtype=torch.float64))"
      ]
     },
     "execution_count": 220,
     "metadata": {},
     "output_type": "execute_result"
    }
   ],
   "source": [
    "torch.aminmax(x, dim=1)"
   ]
  },
  {
   "cell_type": "code",
   "execution_count": 221,
   "id": "d7ff2e4f",
   "metadata": {},
   "outputs": [
    {
     "data": {
      "text/plain": [
       "(tensor([[0.8819, 0.9886, 0.9168, 0.7289, 0.8367],\n",
       "         [0.8561, 0.9452, 0.9134, 0.7442, 0.7085],\n",
       "         [0.8945, 0.9232, 0.9360, 0.9533, 0.9826]]),\n",
       " tensor([[ True,  True,  True, False,  True],\n",
       "         [ True,  True,  True,  True,  True],\n",
       "         [ True,  True,  True,  True,  True]]),\n",
       " tensor([False,  True,  True]),\n",
       " tensor([True, True, True]))"
      ]
     },
     "execution_count": 221,
     "metadata": {},
     "output_type": "execute_result"
    }
   ],
   "source": [
    "p = torch.empty(3, 5).uniform_(0.7, 1)\n",
    "x = torch.bernoulli(p).type(torch.bool)\n",
    "p, x, torch.all(x, dim=1), torch.any(x, dim=1)"
   ]
  },
  {
   "cell_type": "code",
   "execution_count": 222,
   "id": "66c7748b",
   "metadata": {},
   "outputs": [
    {
     "data": {
      "text/plain": [
       "(tensor([1., 2.]), tensor([3., 4.]), tensor(2.8284), tensor(2.8284))"
      ]
     },
     "execution_count": 222,
     "metadata": {},
     "output_type": "execute_result"
    }
   ],
   "source": [
    "x = torch.tensor([1., 2.])\n",
    "y = torch.tensor([3, 4.])\n",
    "x, y, torch.dist(y, x, 2), torch.sum(torch.sqrt(y-x))"
   ]
  },
  {
   "cell_type": "code",
   "execution_count": 223,
   "id": "c3edd510",
   "metadata": {},
   "outputs": [
    {
     "data": {
      "text/plain": [
       "tensor([0.1258, 0.8880, 1.4590])"
      ]
     },
     "execution_count": 223,
     "metadata": {},
     "output_type": "execute_result"
    }
   ],
   "source": [
    "y = torch.randn(3, 3)\n",
    "torch.logsumexp(y, 1)"
   ]
  },
  {
   "cell_type": "code",
   "execution_count": 224,
   "id": "51c8e7ce",
   "metadata": {},
   "outputs": [
    {
     "data": {
      "text/plain": [
       "(tensor([[0., 1., 2., 3., 4.],\n",
       "         [5., 6., 7., 8., 9.]]),\n",
       " tensor(4.5000),\n",
       " tensor(4.),\n",
       " tensor([2., 7.]),\n",
       " torch.return_types.median(\n",
       " values=tensor([2., 7.]),\n",
       " indices=tensor([2, 2])))"
      ]
     },
     "execution_count": 224,
     "metadata": {},
     "output_type": "execute_result"
    }
   ],
   "source": [
    "x = torch.arange(0, 10).to(dtype=torch.float32).reshape((2, 5))\n",
    "x, torch.mean(x), torch.median(x), torch.mean(x, dim=1), torch.median(x, dim=1)"
   ]
  },
  {
   "cell_type": "code",
   "execution_count": 225,
   "id": "f6e8aced",
   "metadata": {},
   "outputs": [
    {
     "data": {
      "text/plain": [
       "(tensor([2, 7, 2, 4, 6]),\n",
       " tensor([[-3,  2, -3, -1,  1],\n",
       "         [ 3,  8,  3,  5,  7],\n",
       "         [-3,  2, -3, -1,  1],\n",
       "         [ 6, 11,  6,  8, 10]]),\n",
       " torch.return_types.mode(\n",
       " values=tensor([-3,  2, -3, -1,  1]),\n",
       " indices=tensor([2, 2, 2, 2, 2])),\n",
       " torch.return_types.mode(\n",
       " values=tensor([-3,  3, -3,  6]),\n",
       " indices=tensor([2, 2, 2, 2])))"
      ]
     },
     "execution_count": 225,
     "metadata": {},
     "output_type": "execute_result"
    }
   ],
   "source": [
    "a = torch.randint(10, (5,))\n",
    "b = a + (torch.randn(4, 1) * 5).long()\n",
    "a, b, torch.mode(b, dim=0),torch.mode(b, dim=1)"
   ]
  },
  {
   "cell_type": "code",
   "execution_count": 226,
   "id": "0142a5f8",
   "metadata": {},
   "outputs": [
    {
     "data": {
      "text/plain": [
       "tensor(23.6854)"
      ]
     },
     "execution_count": 226,
     "metadata": {},
     "output_type": "execute_result"
    }
   ],
   "source": [
    "torch.norm(b.to(dtype=torch.float32))"
   ]
  },
  {
   "cell_type": "code",
   "execution_count": 227,
   "id": "9dae3afb",
   "metadata": {},
   "outputs": [
    {
     "data": {
      "text/plain": [
       "(tensor(1.), tensor(nan))"
      ]
     },
     "execution_count": 227,
     "metadata": {},
     "output_type": "execute_result"
    }
   ],
   "source": [
    "torch.nansum(torch.tensor([1., float(\"nan\")])), torch.sum(torch.tensor([1., float(\"nan\")]))"
   ]
  },
  {
   "cell_type": "code",
   "execution_count": 228,
   "id": "4a48f771",
   "metadata": {},
   "outputs": [
    {
     "data": {
      "text/plain": [
       "(tensor([[1, 2],\n",
       "         [3, 4]]),\n",
       " tensor(24),\n",
       " tensor([ 2, 12]))"
      ]
     },
     "execution_count": 228,
     "metadata": {},
     "output_type": "execute_result"
    }
   ],
   "source": [
    "a = torch.tensor([[1, 2], [3, 4]])\n",
    "a, torch.prod(a), torch.prod(a, dim=1)"
   ]
  },
  {
   "cell_type": "code",
   "execution_count": 229,
   "id": "4022537c",
   "metadata": {},
   "outputs": [
    {
     "data": {
      "text/plain": [
       "(tensor([[-1.1258, -1.1524, -0.2506, -0.4339,  0.5988],\n",
       "         [-1.5551, -0.3414,  1.8530,  0.4681, -0.1577],\n",
       "         [ 1.4437,  0.2660,  1.3894,  1.5863,  0.9463],\n",
       "         [-0.8437,  0.9318,  1.2590,  2.0050,  0.0537]]),)"
      ]
     },
     "execution_count": 229,
     "metadata": {},
     "output_type": "execute_result"
    }
   ],
   "source": [
    "torch.manual_seed(0)\n",
    "x = torch.randn((4, 5))\n",
    "x, "
   ]
  },
  {
   "cell_type": "code",
   "execution_count": 230,
   "id": "b20c9a86",
   "metadata": {},
   "outputs": [
    {
     "data": {
      "text/plain": [
       "tensor([-1.5551, -1.1524, -1.1258, -0.8437, -0.4339, -0.3414, -0.2506, -0.1577,\n",
       "         0.0537,  0.2660,  0.4681,  0.5988,  0.9318,  0.9463,  1.2590,  1.3894,\n",
       "         1.4437,  1.5863,  1.8530,  2.0050])"
      ]
     },
     "execution_count": 230,
     "metadata": {},
     "output_type": "execute_result"
    }
   ],
   "source": [
    "torch.sort(x.flatten()).values"
   ]
  },
  {
   "cell_type": "code",
   "execution_count": 231,
   "id": "08f3e7c2",
   "metadata": {},
   "outputs": [
    {
     "data": {
      "text/plain": [
       "tensor([0.3671])"
      ]
     },
     "execution_count": 231,
     "metadata": {},
     "output_type": "execute_result"
    }
   ],
   "source": [
    "torch.quantile(x, torch.tensor([0.5]))"
   ]
  },
  {
   "cell_type": "code",
   "execution_count": 232,
   "id": "fa4f14da",
   "metadata": {},
   "outputs": [
    {
     "data": {
      "text/plain": [
       "tensor([ 0.3671, -0.3645])"
      ]
     },
     "execution_count": 232,
     "metadata": {},
     "output_type": "execute_result"
    }
   ],
   "source": [
    "torch.quantile(x, torch.tensor([0.5, 0.25]))"
   ]
  },
  {
   "cell_type": "code",
   "execution_count": 233,
   "id": "d8ea3368",
   "metadata": {},
   "outputs": [
    {
     "data": {
      "text/plain": [
       "tensor([[-0.4339, -0.1577,  1.3894,  0.9318]])"
      ]
     },
     "execution_count": 233,
     "metadata": {},
     "output_type": "execute_result"
    }
   ],
   "source": [
    "torch.quantile(x, torch.tensor([0.5]), dim=1)"
   ]
  },
  {
   "cell_type": "code",
   "execution_count": 234,
   "id": "5a305dfd",
   "metadata": {},
   "outputs": [
    {
     "data": {
      "text/plain": [
       "tensor([[-0.4339, -0.1577,  1.3894,  0.9318]])"
      ]
     },
     "execution_count": 234,
     "metadata": {},
     "output_type": "execute_result"
    }
   ],
   "source": [
    "torch.quantile(x, torch.tensor([0.5]), interpolation=\"linear\", dim=1)\n"
   ]
  },
  {
   "cell_type": "code",
   "execution_count": 235,
   "id": "fb912f29",
   "metadata": {},
   "outputs": [
    {
     "data": {
      "text/plain": [
       "tensor([[-0.4339, -0.1577,  1.3894,  0.9318]])"
      ]
     },
     "execution_count": 235,
     "metadata": {},
     "output_type": "execute_result"
    }
   ],
   "source": [
    "torch.quantile(x, torch.tensor([0.5]), interpolation=\"lower\", dim=1)\n"
   ]
  },
  {
   "cell_type": "code",
   "execution_count": 236,
   "id": "4418edff",
   "metadata": {},
   "outputs": [
    {
     "data": {
      "text/plain": [
       "tensor([[-0.4339, -0.1577,  1.3894,  0.9318]])"
      ]
     },
     "execution_count": 236,
     "metadata": {},
     "output_type": "execute_result"
    }
   ],
   "source": [
    "torch.quantile(x, torch.tensor([0.5]), interpolation=\"higher\", dim=1)\n"
   ]
  },
  {
   "cell_type": "code",
   "execution_count": 237,
   "id": "a8da68dc",
   "metadata": {},
   "outputs": [
    {
     "data": {
      "text/plain": [
       "tensor([[-0.4339, -0.1577,  1.3894,  0.9318]])"
      ]
     },
     "execution_count": 237,
     "metadata": {},
     "output_type": "execute_result"
    }
   ],
   "source": [
    "torch.quantile(x, torch.tensor([0.5]), interpolation=\"nearest\", dim=1)\n"
   ]
  },
  {
   "cell_type": "code",
   "execution_count": 238,
   "id": "03b2dbd2",
   "metadata": {},
   "outputs": [
    {
     "data": {
      "text/plain": [
       "tensor([[-0.4339, -0.1577,  1.3894,  0.9318]])"
      ]
     },
     "execution_count": 238,
     "metadata": {},
     "output_type": "execute_result"
    }
   ],
   "source": [
    "torch.quantile(x, torch.tensor([0.5]), interpolation=\"midpoint\", dim=1)\n"
   ]
  },
  {
   "cell_type": "code",
   "execution_count": 239,
   "id": "332e6d67",
   "metadata": {},
   "outputs": [
    {
     "data": {
      "text/plain": [
       "(tensor([[-0.8920, -1.5091,  0.3704,  1.4565,  0.9398],\n",
       "         [ 0.7748,  0.1919,  1.2638, -1.2904, -0.7911]]),\n",
       " tensor([0.3656, 0.1490]))"
      ]
     },
     "execution_count": 239,
     "metadata": {},
     "output_type": "execute_result"
    }
   ],
   "source": [
    "x = torch.randn((2, 5))\n",
    "x, torch.sum(x, dim=1)\n"
   ]
  },
  {
   "cell_type": "code",
   "execution_count": 240,
   "id": "48491b8b",
   "metadata": {},
   "outputs": [
    {
     "data": {
      "text/plain": [
       "(tensor([[3, 2, 0, 3, 3, 2, 3, 2, 3, 0],\n",
       "         [2, 0, 0, 0, 1, 1, 2, 0, 0, 1],\n",
       "         [3, 0, 1, 2, 2, 3, 0, 1, 1, 3],\n",
       "         [1, 1, 3, 2, 3, 3, 2, 2, 3, 0]]),\n",
       " tensor([[1, 1, 3, 2, 3, 3, 2, 2, 3, 0],\n",
       "         [2, 0, 0, 0, 1, 1, 2, 0, 0, 1],\n",
       "         [3, 0, 1, 2, 2, 3, 0, 1, 1, 3],\n",
       "         [3, 2, 0, 3, 3, 2, 3, 2, 3, 0]]),\n",
       " tensor([[0, 0, 2, 2, 2, 3, 3, 3, 3, 3],\n",
       "         [0, 1, 0, 0, 1, 0, 0, 1, 2, 2],\n",
       "         [1, 3, 0, 1, 3, 1, 2, 2, 0, 3],\n",
       "         [3, 0, 1, 2, 3, 3, 2, 3, 2, 1]]))"
      ]
     },
     "execution_count": 240,
     "metadata": {},
     "output_type": "execute_result"
    }
   ],
   "source": [
    "x = torch.randint(0, 4, (4, 10))\n",
    "x, torch.unique(x, dim=0), torch.unique(x, dim=1, sorted=False)"
   ]
  },
  {
   "cell_type": "code",
   "execution_count": 241,
   "id": "f3742831",
   "metadata": {},
   "outputs": [
    {
     "data": {
      "text/plain": [
       "(tensor([1.4333, 0.6778, 1.3778, 1.1111]),\n",
       " tensor([2.1000, 0.7000, 1.6000, 2.0000]))"
      ]
     },
     "execution_count": 241,
     "metadata": {},
     "output_type": "execute_result"
    }
   ],
   "source": [
    "torch.var_mean(x.to(torch.float32), dim=1)"
   ]
  },
  {
   "cell_type": "code",
   "execution_count": 242,
   "id": "92a88826",
   "metadata": {},
   "outputs": [
    {
     "data": {
      "text/plain": [
       "True"
      ]
     },
     "execution_count": 242,
     "metadata": {},
     "output_type": "execute_result"
    }
   ],
   "source": [
    "torch.allclose(torch.tensor([10000., 1e-08]), torch.tensor([10000.1, 1e-09]))"
   ]
  },
  {
   "cell_type": "code",
   "execution_count": 243,
   "id": "f9db76c9",
   "metadata": {},
   "outputs": [
    {
     "data": {
      "text/plain": [
       "(tensor([[-1.1258, -1.1524, -0.2506, -0.4339,  0.5988],\n",
       "         [-1.5551, -0.3414,  1.8530,  0.4681, -0.1577],\n",
       "         [ 1.4437,  0.2660,  1.3894,  1.5863,  0.9463],\n",
       "         [-0.8437,  0.9318,  1.2590,  2.0050,  0.0537]]),\n",
       " torch.return_types.sort(\n",
       " values=tensor([[-1.1524, -1.1258, -0.4339, -0.2506,  0.5988],\n",
       "         [-1.5551, -0.3414, -0.1577,  0.4681,  1.8530],\n",
       "         [ 0.2660,  0.9463,  1.3894,  1.4437,  1.5863],\n",
       "         [-0.8437,  0.0537,  0.9318,  1.2590,  2.0050]]),\n",
       " indices=tensor([[1, 0, 3, 2, 4],\n",
       "         [0, 1, 4, 3, 2],\n",
       "         [1, 4, 2, 0, 3],\n",
       "         [0, 4, 1, 2, 3]])),\n",
       " torch.return_types.sort(\n",
       " values=tensor([[-1.1524, -1.1258, -0.4339, -0.2506,  0.5988],\n",
       "         [-1.5551, -0.3414, -0.1577,  0.4681,  1.8530],\n",
       "         [ 0.2660,  0.9463,  1.3894,  1.4437,  1.5863],\n",
       "         [-0.8437,  0.0537,  0.9318,  1.2590,  2.0050]]),\n",
       " indices=tensor([[1, 0, 3, 2, 4],\n",
       "         [0, 1, 4, 3, 2],\n",
       "         [1, 4, 2, 0, 3],\n",
       "         [0, 4, 1, 2, 3]])),\n",
       " torch.return_types.sort(\n",
       " values=tensor([[-1.5551, -1.1524, -0.2506, -0.4339, -0.1577],\n",
       "         [-1.1258, -0.3414,  1.2590,  0.4681,  0.0537],\n",
       "         [-0.8437,  0.2660,  1.3894,  1.5863,  0.5988],\n",
       "         [ 1.4437,  0.9318,  1.8530,  2.0050,  0.9463]]),\n",
       " indices=tensor([[1, 0, 0, 0, 1],\n",
       "         [0, 1, 3, 1, 3],\n",
       "         [3, 2, 2, 2, 0],\n",
       "         [2, 3, 1, 3, 2]])))"
      ]
     },
     "execution_count": 243,
     "metadata": {},
     "output_type": "execute_result"
    }
   ],
   "source": [
    "torch.manual_seed(0)\n",
    "x = torch.randn((4, 5))\n",
    "x, torch.sort(x), torch.sort(x, dim=1), torch.sort(x, dim=0)"
   ]
  },
  {
   "cell_type": "code",
   "execution_count": 244,
   "id": "4f11a400",
   "metadata": {},
   "outputs": [
    {
     "data": {
      "text/plain": [
       "(tensor([[-1.5551, -1.1524, -0.2506, -0.4339, -0.1577],\n",
       "         [-1.1258, -0.3414,  1.2590,  0.4681,  0.0537],\n",
       "         [-0.8437,  0.2660,  1.3894,  1.5863,  0.5988],\n",
       "         [ 1.4437,  0.9318,  1.8530,  2.0050,  0.9463]]),\n",
       " tensor([[1, 0, 0, 0, 1],\n",
       "         [0, 1, 3, 1, 3],\n",
       "         [3, 2, 2, 2, 0],\n",
       "         [2, 3, 1, 3, 2]]))"
      ]
     },
     "execution_count": 244,
     "metadata": {},
     "output_type": "execute_result"
    }
   ],
   "source": [
    "s, indexes = torch.sort(x, dim=0)\n",
    "s, indexes"
   ]
  },
  {
   "cell_type": "code",
   "execution_count": 245,
   "id": "da02bcab",
   "metadata": {},
   "outputs": [
    {
     "data": {
      "text/plain": [
       "tensor([[1, 0, 0, 0, 1],\n",
       "        [0, 1, 3, 1, 3],\n",
       "        [3, 2, 2, 2, 0],\n",
       "        [2, 3, 1, 3, 2]])"
      ]
     },
     "execution_count": 245,
     "metadata": {},
     "output_type": "execute_result"
    }
   ],
   "source": [
    "torch.argsort(x, dim=0)"
   ]
  },
  {
   "cell_type": "code",
   "execution_count": 246,
   "id": "979ab70a",
   "metadata": {},
   "outputs": [
    {
     "data": {
      "text/plain": [
       "(tensor([[-0.8920, -1.5091,  0.3704],\n",
       "         [ 1.4565,  0.9398,  0.7748],\n",
       "         [ 0.1919,  1.2638, -1.2904]]),\n",
       " tensor([[-0.8920, -1.5091,  0.3704],\n",
       "         [ 1.4565,  0.9398,  0.7748],\n",
       "         [ 0.1919,  1.2638, -1.2904]]),\n",
       " tensor([[-4.4600, -7.5455,  1.8520],\n",
       "         [ 7.2825,  4.6990,  3.8742],\n",
       "         [ 0.9593,  6.3190, -6.4522]]))"
      ]
     },
     "execution_count": 246,
     "metadata": {},
     "output_type": "execute_result"
    }
   ],
   "source": [
    "x = torch.randn((3, 3))\n",
    "y = x * 1.0\n",
    "z = x * 5.0\n",
    "\n",
    "x, y, z"
   ]
  },
  {
   "cell_type": "code",
   "execution_count": 247,
   "id": "e450e78e",
   "metadata": {},
   "outputs": [
    {
     "data": {
      "text/plain": [
       "(tensor([[True, True, True],\n",
       "         [True, True, True],\n",
       "         [True, True, True]]),\n",
       " tensor([[False, False, False],\n",
       "         [False, False, False],\n",
       "         [False, False, False]]))"
      ]
     },
     "execution_count": 247,
     "metadata": {},
     "output_type": "execute_result"
    }
   ],
   "source": [
    "torch.eq(x, y), torch.eq(x, z)"
   ]
  },
  {
   "cell_type": "code",
   "execution_count": 248,
   "id": "b32ac2d4",
   "metadata": {},
   "outputs": [
    {
     "data": {
      "text/plain": [
       "(tensor([[False, False, False],\n",
       "         [False, False, False],\n",
       "         [False, False, False]]),\n",
       " tensor([[False, False,  True],\n",
       "         [ True,  True,  True],\n",
       "         [ True,  True, False]]))"
      ]
     },
     "execution_count": 248,
     "metadata": {},
     "output_type": "execute_result"
    }
   ],
   "source": [
    "torch.gt(x, y), torch.gt(z, x)"
   ]
  },
  {
   "cell_type": "code",
   "execution_count": 249,
   "id": "77bfc7e3",
   "metadata": {},
   "outputs": [
    {
     "data": {
      "text/plain": [
       "tensor([-0.7911, -0.0209, -0.7185])"
      ]
     },
     "execution_count": 249,
     "metadata": {},
     "output_type": "execute_result"
    }
   ],
   "source": [
    "w = torch.randn(3)\n",
    "w"
   ]
  },
  {
   "cell_type": "code",
   "execution_count": 250,
   "id": "baff1cae",
   "metadata": {},
   "outputs": [
    {
     "data": {
      "text/plain": [
       "(tensor([[-4.4600, -7.5455,  1.8520],\n",
       "         [ 7.2825,  4.6990,  3.8742],\n",
       "         [ 0.9593,  6.3190, -6.4522]]),\n",
       " tensor([-0.7911, -0.0209, -0.7185]),\n",
       " tensor([[False, False,  True],\n",
       "         [ True,  True,  True],\n",
       "         [ True,  True, False]]))"
      ]
     },
     "execution_count": 250,
     "metadata": {},
     "output_type": "execute_result"
    }
   ],
   "source": [
    "z, w, torch.greater(z, w)"
   ]
  },
  {
   "cell_type": "code",
   "execution_count": 251,
   "id": "1ebfb6a1",
   "metadata": {},
   "outputs": [
    {
     "data": {
      "text/plain": [
       "(tensor([[-4.4600, -7.5455,  1.8520],\n",
       "         [ 7.2825,  4.6990,  3.8742],\n",
       "         [ 0.9593,  6.3190, -6.4522]]),\n",
       " tensor([-0.7911, -0.0209, -0.7185]),\n",
       " tensor([[ True,  True, False],\n",
       "         [False, False, False],\n",
       "         [False, False,  True]]))"
      ]
     },
     "execution_count": 251,
     "metadata": {},
     "output_type": "execute_result"
    }
   ],
   "source": [
    "z, w, torch.less(z, w)"
   ]
  },
  {
   "cell_type": "code",
   "execution_count": 252,
   "id": "f1e3999c",
   "metadata": {},
   "outputs": [
    {
     "data": {
      "text/plain": [
       "(tensor([[-4.4600, -7.5455,  1.8520],\n",
       "         [ 7.2825,  4.6990,  3.8742],\n",
       "         [ 0.9593,  6.3190, -6.4522]]),\n",
       " tensor([-0.7911, -0.0209, -0.7185]),\n",
       " tensor([[False, False,  True],\n",
       "         [ True,  True,  True],\n",
       "         [ True,  True, False]]))"
      ]
     },
     "execution_count": 252,
     "metadata": {},
     "output_type": "execute_result"
    }
   ],
   "source": [
    "z, w, torch.greater_equal(z, w)"
   ]
  },
  {
   "cell_type": "code",
   "execution_count": 253,
   "id": "0b4ce564",
   "metadata": {},
   "outputs": [
    {
     "data": {
      "text/plain": [
       "(tensor([[-4.4600, -7.5455,  1.8520],\n",
       "         [ 7.2825,  4.6990,  3.8742],\n",
       "         [ 0.9593,  6.3190, -6.4522]]),\n",
       " tensor([[ 0.5186, -1.3125,  0.1920]]),\n",
       " tensor([[False, False,  True],\n",
       "         [ True,  True,  True],\n",
       "         [ True,  True, False]]))"
      ]
     },
     "execution_count": 253,
     "metadata": {},
     "output_type": "execute_result"
    }
   ],
   "source": [
    "u = torch.randn((1, 3))\n",
    "z, u, torch.greater(z, u)"
   ]
  },
  {
   "cell_type": "code",
   "execution_count": 254,
   "id": "dd2eb55e",
   "metadata": {},
   "outputs": [
    {
     "data": {
      "text/plain": [
       "(tensor([[-4.4600, -7.5455,  1.8520],\n",
       "         [ 7.2825,  4.6990,  3.8742],\n",
       "         [ 0.9593,  6.3190, -6.4522]]),\n",
       " tensor([[ 0.5428],\n",
       "         [-2.2188],\n",
       "         [ 0.2590]]),\n",
       " tensor([[False, False,  True],\n",
       "         [ True,  True,  True],\n",
       "         [ True,  True, False]]))"
      ]
     },
     "execution_count": 254,
     "metadata": {},
     "output_type": "execute_result"
    }
   ],
   "source": [
    "u = torch.randn((3, 1))\n",
    "z, u, torch.greater(z, u)"
   ]
  },
  {
   "cell_type": "code",
   "execution_count": 255,
   "id": "6ca3af1d",
   "metadata": {},
   "outputs": [
    {
     "data": {
      "text/plain": [
       "(tensor([[-4.4600, -7.5455,  1.8520],\n",
       "         [ 7.2825,  4.6990,  3.8742],\n",
       "         [ 0.9593,  6.3190, -6.4522]]),\n",
       " tensor([[-1.0297],\n",
       "         [-0.5008],\n",
       "         [ 0.2734]]),\n",
       " tensor([[ True,  True, False],\n",
       "         [False, False, False],\n",
       "         [False, False,  True]]))"
      ]
     },
     "execution_count": 255,
     "metadata": {},
     "output_type": "execute_result"
    }
   ],
   "source": [
    "u = torch.randn((3, 1))\n",
    "z, u, torch.le(z, u)"
   ]
  },
  {
   "cell_type": "code",
   "execution_count": 256,
   "id": "ca9b7a2e",
   "metadata": {},
   "outputs": [
    {
     "data": {
      "text/plain": [
       "(tensor([[-4.4600, -7.5455,  1.8520],\n",
       "         [ 7.2825,  4.6990,  3.8742],\n",
       "         [ 0.9593,  6.3190, -6.4522]]),\n",
       " tensor([[-1.0297],\n",
       "         [-0.5008],\n",
       "         [ 0.2734]]),\n",
       " tensor([[-1.0297, -1.0297,  1.8520],\n",
       "         [ 7.2825,  4.6990,  3.8742],\n",
       "         [ 0.9593,  6.3190,  0.2734]]))"
      ]
     },
     "execution_count": 256,
     "metadata": {},
     "output_type": "execute_result"
    }
   ],
   "source": [
    "z, u, torch.maximum(u, z)"
   ]
  },
  {
   "cell_type": "code",
   "execution_count": 257,
   "id": "742fbf92",
   "metadata": {},
   "outputs": [
    {
     "data": {
      "text/plain": [
       "(tensor([[False, False, False],\n",
       "         [False, False, False],\n",
       "         [False, False, False]]),\n",
       " False)"
      ]
     },
     "execution_count": 257,
     "metadata": {},
     "output_type": "execute_result"
    }
   ],
   "source": [
    "torch.eq(z, u), torch.equal(z, u)"
   ]
  },
  {
   "cell_type": "code",
   "execution_count": 258,
   "id": "f5d9a9ad",
   "metadata": {},
   "outputs": [
    {
     "data": {
      "text/plain": [
       "(tensor([[-1.0297],\n",
       "         [-0.5008],\n",
       "         [ 0.2734]]),\n",
       " tensor([[False],\n",
       "         [ True],\n",
       "         [False]]))"
      ]
     },
     "execution_count": 258,
     "metadata": {},
     "output_type": "execute_result"
    }
   ],
   "source": [
    "u, torch.isclose(u, u + torch.tensor([[1], [1.e-10], [2]]))"
   ]
  },
  {
   "cell_type": "code",
   "execution_count": 259,
   "id": "cbef61a0",
   "metadata": {},
   "outputs": [
    {
     "data": {
      "text/plain": [
       "tensor([ True, False, False])"
      ]
     },
     "execution_count": 259,
     "metadata": {},
     "output_type": "execute_result"
    }
   ],
   "source": [
    "torch.isfinite(torch.tensor([1.0, float('inf'), torch.nan]))"
   ]
  },
  {
   "cell_type": "code",
   "execution_count": 260,
   "id": "e496c4b8",
   "metadata": {},
   "outputs": [
    {
     "data": {
      "text/plain": [
       "tensor([False,  True, False])"
      ]
     },
     "execution_count": 260,
     "metadata": {},
     "output_type": "execute_result"
    }
   ],
   "source": [
    "torch.isinf(torch.tensor([1.0, float('inf'), torch.nan]))"
   ]
  },
  {
   "cell_type": "code",
   "execution_count": 261,
   "id": "b2d54fd8",
   "metadata": {},
   "outputs": [
    {
     "data": {
      "text/plain": [
       "tensor([False, False,  True])"
      ]
     },
     "execution_count": 261,
     "metadata": {},
     "output_type": "execute_result"
    }
   ],
   "source": [
    "torch.isnan(torch.tensor([1.0, float('inf'), torch.nan]))"
   ]
  },
  {
   "cell_type": "code",
   "execution_count": 262,
   "id": "533aa729",
   "metadata": {},
   "outputs": [
    {
     "data": {
      "text/plain": [
       "tensor([[False,  True],\n",
       "        [ True, False]])"
      ]
     },
     "execution_count": 262,
     "metadata": {},
     "output_type": "execute_result"
    }
   ],
   "source": [
    "torch.isin(torch.tensor([[1, 2], [3, 4]]), torch.tensor([2, 3]))"
   ]
  },
  {
   "cell_type": "code",
   "execution_count": 263,
   "id": "6b748d51",
   "metadata": {},
   "outputs": [
    {
     "name": "stderr",
     "output_type": "stream",
     "text": [
      "/tmp/ipykernel_6370/1689219387.py:1: UserWarning: ComplexHalf support is experimental and many operators don't support it yet. (Triggered internally at  ../aten/src/ATen/EmptyTensor.cpp:31.)\n",
      "  torch.isreal(torch.tensor([1.0, 3*j], dtype=torch.complex32))\n"
     ]
    },
    {
     "data": {
      "text/plain": [
       "tensor([True, True])"
      ]
     },
     "execution_count": 263,
     "metadata": {},
     "output_type": "execute_result"
    }
   ],
   "source": [
    "torch.isreal(torch.tensor([1.0, 3*j], dtype=torch.complex32))"
   ]
  },
  {
   "cell_type": "code",
   "execution_count": 264,
   "id": "2b48269b",
   "metadata": {},
   "outputs": [
    {
     "data": {
      "text/plain": [
       "(tensor([[-9.3348e-02,  6.8705e-01, -8.3832e-01,  8.9182e-04,  8.4189e-01,\n",
       "          -4.0003e-01,  1.0395e+00,  3.5815e-01, -2.4600e-01,  2.3025e+00],\n",
       "         [-1.8817e+00, -4.9727e-02, -1.0450e+00, -9.5650e-01,  3.3532e-02,\n",
       "           7.1009e-01,  1.6459e+00, -1.3602e+00,  3.4457e-01,  5.1987e-01],\n",
       "         [-2.6133e+00, -1.6965e+00, -2.2824e-01,  2.7995e-01,  2.4693e-01,\n",
       "           7.6887e-02,  3.3801e-01,  4.5440e-01,  4.5694e-01, -8.6537e-01],\n",
       "         [ 7.8131e-01, -9.2679e-01, -2.1883e-01, -2.4351e+00, -8.0483e-01,\n",
       "           5.6561e-01,  6.1036e-01,  4.6688e-01,  1.9507e+00, -1.0631e+00],\n",
       "         [ 1.1404e+00, -8.9882e-02, -5.9399e-01, -1.2439e+00, -1.0209e-01,\n",
       "          -1.0335e+00, -3.1264e-01,  2.4579e-01,  3.7718e-01,  1.1012e+00]]),\n",
       " torch.return_types.topk(\n",
       " values=tensor([[2.3025, 1.0395],\n",
       "         [1.6459, 0.7101],\n",
       "         [0.4569, 0.4544],\n",
       "         [1.9507, 0.7813],\n",
       "         [1.1404, 1.1012]]),\n",
       " indices=tensor([[9, 6],\n",
       "         [6, 5],\n",
       "         [8, 7],\n",
       "         [8, 0],\n",
       "         [0, 9]])))"
      ]
     },
     "execution_count": 264,
     "metadata": {},
     "output_type": "execute_result"
    }
   ],
   "source": [
    "x = torch.randn((5, 10))\n",
    "x, torch.topk(x, 2, dim=1)"
   ]
  },
  {
   "cell_type": "code",
   "execution_count": 265,
   "id": "7be31df7",
   "metadata": {},
   "outputs": [
    {
     "data": {
      "text/plain": [
       "(tensor([[ 0.2440,  1.1646,  0.2886,  0.3866, -0.2011, -0.1179, -0.8294, -1.4073,\n",
       "          -1.9003,  0.1307],\n",
       "         [-0.7043,  0.3147,  0.1574,  0.3854,  0.5737,  0.9979,  0.3016, -0.1073,\n",
       "           0.9985, -0.4987],\n",
       "         [ 0.7611,  0.6183, -0.2994, -0.1878, -0.1201,  0.3605, -0.3140, -1.0787,\n",
       "           0.2408, -1.3962],\n",
       "         [ 0.1136,  1.1047, -1.5616, -0.3546,  0.1715,  0.8760, -0.2871,  1.0216,\n",
       "          -0.5111, -1.7137],\n",
       "         [-0.5101, -0.4749,  0.6623, -1.2063,  0.6074, -0.5472, -1.1005, -0.7201,\n",
       "           0.0119,  0.3398]]),\n",
       " torch.return_types.topk(\n",
       " values=tensor([[ 0.7611,  1.1646,  0.6623,  0.3866,  0.6074,  0.9979,  0.3016,  1.0216,\n",
       "           0.9985,  0.3398],\n",
       "         [ 0.2440,  1.1047,  0.2886,  0.3854,  0.5737,  0.8760, -0.2871, -0.1073,\n",
       "           0.2408,  0.1307]]),\n",
       " indices=tensor([[2, 0, 4, 0, 4, 1, 1, 3, 1, 4],\n",
       "         [0, 3, 0, 1, 1, 3, 3, 1, 2, 0]])))"
      ]
     },
     "execution_count": 265,
     "metadata": {},
     "output_type": "execute_result"
    }
   ],
   "source": [
    "x = torch.randn((5, 10))\n",
    "x, torch.topk(x, 2, dim=0)"
   ]
  },
  {
   "cell_type": "code",
   "execution_count": 266,
   "id": "b77e7620",
   "metadata": {},
   "outputs": [
    {
     "data": {
      "text/plain": [
       "(tensor(-0.1063), tensor(0.5957))"
      ]
     },
     "execution_count": 266,
     "metadata": {},
     "output_type": "execute_result"
    }
   ],
   "source": [
    "torch.mean(x), torch.var(x)"
   ]
  },
  {
   "cell_type": "code",
   "execution_count": 267,
   "id": "6d665bd0",
   "metadata": {},
   "outputs": [
    {
     "data": {
      "text/plain": [
       "(torch.return_types.sort(\n",
       " values=tensor([[-1.9003, -1.4073, -0.8294, -0.2011, -0.1179,  0.1307,  0.2440,  0.2886,\n",
       "           0.3866,  1.1646],\n",
       "         [-0.7043, -0.4987, -0.1073,  0.1574,  0.3016,  0.3147,  0.3854,  0.5737,\n",
       "           0.9979,  0.9985],\n",
       "         [-1.3962, -1.0787, -0.3140, -0.2994, -0.1878, -0.1201,  0.2408,  0.3605,\n",
       "           0.6183,  0.7611],\n",
       "         [-1.7137, -1.5616, -0.5111, -0.3546, -0.2871,  0.1136,  0.1715,  0.8760,\n",
       "           1.0216,  1.1047],\n",
       "         [-1.2063, -1.1005, -0.7201, -0.5472, -0.5101, -0.4749,  0.0119,  0.3398,\n",
       "           0.6074,  0.6623]]),\n",
       " indices=tensor([[8, 7, 6, 4, 5, 9, 0, 2, 3, 1],\n",
       "         [0, 9, 7, 2, 6, 1, 3, 4, 5, 8],\n",
       "         [9, 7, 6, 2, 3, 4, 8, 5, 1, 0],\n",
       "         [9, 2, 8, 3, 6, 0, 4, 5, 7, 1],\n",
       "         [3, 6, 7, 5, 0, 1, 8, 9, 4, 2]])),\n",
       " torch.return_types.kthvalue(\n",
       " values=tensor([-1.4073, -0.4987, -1.0787, -1.5616, -1.1005]),\n",
       " indices=tensor([7, 9, 7, 2, 6])))"
      ]
     },
     "execution_count": 267,
     "metadata": {},
     "output_type": "execute_result"
    }
   ],
   "source": [
    "torch.sort(x),torch.kthvalue(x, 2, dim=-1, ) # smallest kth value"
   ]
  },
  {
   "cell_type": "code",
   "execution_count": 268,
   "id": "b8ac4d97",
   "metadata": {},
   "outputs": [
    {
     "data": {
      "text/plain": [
       "(tensor([[ 0.2440,  1.1646,  0.2886,  0.3866, -0.2011, -0.1179, -0.8294, -1.4073,\n",
       "          -1.9003,  0.1307],\n",
       "         [-0.7043,  0.3147,  0.1574,  0.3854,  0.5737,  0.9979,  0.3016, -0.1073,\n",
       "           0.9985, -0.4987],\n",
       "         [ 0.7611,  0.6183, -0.2994, -0.1878, -0.1201,  0.3605, -0.3140, -1.0787,\n",
       "           0.2408, -1.3962],\n",
       "         [ 0.1136,  1.1047, -1.5616, -0.3546,  0.1715,  0.8760, -0.2871,  1.0216,\n",
       "          -0.5111, -1.7137],\n",
       "         [-0.5101, -0.4749,  0.6623, -1.2063,  0.6074, -0.5472, -1.1005, -0.7201,\n",
       "           0.0119,  0.3398]]),\n",
       " torch.return_types.sort(\n",
       " values=tensor([[ 1.1646,  0.3866,  0.2886,  0.2440,  0.1307, -0.1179, -0.2011, -0.8294,\n",
       "          -1.4073, -1.9003],\n",
       "         [ 0.9985,  0.9979,  0.5737,  0.3854,  0.3147,  0.3016,  0.1574, -0.1073,\n",
       "          -0.4987, -0.7043],\n",
       "         [ 0.7611,  0.6183,  0.3605,  0.2408, -0.1201, -0.1878, -0.2994, -0.3140,\n",
       "          -1.0787, -1.3962],\n",
       "         [ 1.1047,  1.0216,  0.8760,  0.1715,  0.1136, -0.2871, -0.3546, -0.5111,\n",
       "          -1.5616, -1.7137],\n",
       "         [ 0.6623,  0.6074,  0.3398,  0.0119, -0.4749, -0.5101, -0.5472, -0.7201,\n",
       "          -1.1005, -1.2063]]),\n",
       " indices=tensor([[1, 3, 2, 0, 9, 5, 4, 6, 7, 8],\n",
       "         [8, 5, 4, 3, 1, 6, 2, 7, 9, 0],\n",
       "         [0, 1, 5, 8, 4, 3, 2, 6, 7, 9],\n",
       "         [1, 7, 5, 4, 0, 6, 3, 8, 2, 9],\n",
       "         [2, 4, 9, 8, 1, 0, 5, 7, 6, 3]])))"
      ]
     },
     "execution_count": 268,
     "metadata": {},
     "output_type": "execute_result"
    }
   ],
   "source": [
    "x, torch.sort(x, descending=True)"
   ]
  },
  {
   "cell_type": "code",
   "execution_count": 269,
   "id": "0fc6c07e",
   "metadata": {},
   "outputs": [
    {
     "data": {
      "text/plain": [
       "torch.return_types.sort(\n",
       "values=tensor([[-1.9003, -1.4073, -0.8294, -0.2011, -0.1179,  0.1307,  0.2440,  0.2886,\n",
       "          0.3866,  1.1646],\n",
       "        [-0.7043, -0.4987, -0.1073,  0.1574,  0.3016,  0.3147,  0.3854,  0.5737,\n",
       "          0.9979,  0.9985],\n",
       "        [-1.3962, -1.0787, -0.3140, -0.2994, -0.1878, -0.1201,  0.2408,  0.3605,\n",
       "          0.6183,  0.7611],\n",
       "        [-1.7137, -1.5616, -0.5111, -0.3546, -0.2871,  0.1136,  0.1715,  0.8760,\n",
       "          1.0216,  1.1047],\n",
       "        [-1.2063, -1.1005, -0.7201, -0.5472, -0.5101, -0.4749,  0.0119,  0.3398,\n",
       "          0.6074,  0.6623]]),\n",
       "indices=tensor([[8, 7, 6, 4, 5, 9, 0, 2, 3, 1],\n",
       "        [0, 9, 7, 2, 6, 1, 3, 4, 5, 8],\n",
       "        [9, 7, 6, 2, 3, 4, 8, 5, 1, 0],\n",
       "        [9, 2, 8, 3, 6, 0, 4, 5, 7, 1],\n",
       "        [3, 6, 7, 5, 0, 1, 8, 9, 4, 2]]))"
      ]
     },
     "execution_count": 269,
     "metadata": {},
     "output_type": "execute_result"
    }
   ],
   "source": [
    "torch.sort(x, descending=False)"
   ]
  },
  {
   "cell_type": "code",
   "execution_count": 270,
   "id": "a8788496",
   "metadata": {},
   "outputs": [
    {
     "data": {
      "text/plain": [
       "tensor([9.7000, 0.5000, 3.1000,    nan])"
      ]
     },
     "execution_count": 270,
     "metadata": {},
     "output_type": "execute_result"
    }
   ],
   "source": [
    "a = torch.tensor([9.7, float('nan'), 3.1, float('nan')])\n",
    "b = torch.tensor([-2.2, 0.5, float('nan'), float('nan')])\n",
    "torch.fmax(a, b)"
   ]
  },
  {
   "cell_type": "code",
   "execution_count": 271,
   "id": "a4414612",
   "metadata": {},
   "outputs": [
    {
     "data": {
      "text/plain": [
       "tensor([-2.2000,  0.5000,  3.1000,     nan])"
      ]
     },
     "execution_count": 271,
     "metadata": {},
     "output_type": "execute_result"
    }
   ],
   "source": [
    "a = torch.tensor([9.7, float('nan'), 3.1, float('nan')])\n",
    "b = torch.tensor([-2.2, 0.5, float('nan'), float('nan')])\n",
    "torch.fmin(a, b)"
   ]
  },
  {
   "cell_type": "code",
   "execution_count": 272,
   "id": "26873081",
   "metadata": {},
   "outputs": [
    {
     "data": {
      "text/plain": [
       "<torch._C.Generator at 0x7f1c3e516350>"
      ]
     },
     "execution_count": 272,
     "metadata": {},
     "output_type": "execute_result"
    }
   ],
   "source": [
    "torch.manual_seed(15)"
   ]
  },
  {
   "cell_type": "code",
   "execution_count": 273,
   "id": "4ee5eede",
   "metadata": {},
   "outputs": [
    {
     "data": {
      "text/plain": [
       "15"
      ]
     },
     "execution_count": 273,
     "metadata": {},
     "output_type": "execute_result"
    }
   ],
   "source": [
    "torch.initial_seed()"
   ]
  },
  {
   "cell_type": "code",
   "execution_count": 274,
   "id": "27437632",
   "metadata": {},
   "outputs": [],
   "source": [
    "torch.set_rng_state(torch.manual_seed(10).get_state())"
   ]
  },
  {
   "cell_type": "code",
   "execution_count": 275,
   "id": "2a3f4147",
   "metadata": {},
   "outputs": [
    {
     "data": {
      "text/plain": [
       "tensor([10,  0,  0,  ...,  0,  0,  0], dtype=torch.uint8)"
      ]
     },
     "execution_count": 275,
     "metadata": {},
     "output_type": "execute_result"
    }
   ],
   "source": [
    "torch.get_rng_state()"
   ]
  },
  {
   "cell_type": "code",
   "execution_count": 276,
   "id": "6d558244",
   "metadata": {},
   "outputs": [
    {
     "data": {
      "text/plain": [
       "torch.Size([5056])"
      ]
     },
     "execution_count": 276,
     "metadata": {},
     "output_type": "execute_result"
    }
   ],
   "source": [
    "torch.get_rng_state().shape"
   ]
  },
  {
   "cell_type": "code",
   "execution_count": 277,
   "id": "3d6157de",
   "metadata": {},
   "outputs": [
    {
     "data": {
      "text/plain": [
       "tensor([0., 1., 0., 1., 0., 0., 1., 1., 1., 0.])"
      ]
     },
     "execution_count": 277,
     "metadata": {},
     "output_type": "execute_result"
    }
   ],
   "source": [
    "x = torch.bernoulli(torch.empty((10, )).uniform_(0., 1.))\n",
    "x"
   ]
  },
  {
   "cell_type": "code",
   "execution_count": 278,
   "id": "3d891148",
   "metadata": {},
   "outputs": [
    {
     "data": {
      "text/plain": [
       "(tensor([[0.0000e+00, 0.0000e+00, 0.0000e+00, 0.0000e+00, 0.0000e+00, 0.0000e+00,\n",
       "          0.0000e+00, 0.0000e+00, 0.0000e+00, 1.0000e+00],\n",
       "         [1.3114e-01, 1.4448e-01, 1.1519e-01, 7.2451e-02, 9.4196e-02, 0.0000e+00,\n",
       "          1.9251e-01, 0.0000e+00, 1.8448e-01, 6.5550e-02],\n",
       "         [3.2687e-01, 3.3312e-01, 0.0000e+00, 0.0000e+00, 6.2837e-02, 0.0000e+00,\n",
       "          6.5319e-02, 2.1185e-01, 0.0000e+00, 0.0000e+00],\n",
       "         [0.0000e+00, 2.8622e-01, 0.0000e+00, 5.6685e-02, 0.0000e+00, 1.6846e-01,\n",
       "          9.9556e-04, 0.0000e+00, 2.1693e-01, 2.7071e-01],\n",
       "         [0.0000e+00, 0.0000e+00, 3.0034e-02, 1.1351e-01, 8.2245e-02, 3.3287e-01,\n",
       "          1.6176e-01, 0.0000e+00, 0.0000e+00, 2.7958e-01],\n",
       "         [6.0583e-01, 0.0000e+00, 0.0000e+00, 2.2125e-01, 0.0000e+00, 0.0000e+00,\n",
       "          0.0000e+00, 1.7293e-01, 0.0000e+00, 0.0000e+00]]),\n",
       " tensor([[9, 5, 8, 7, 6, 3],\n",
       "         [1, 6, 2, 3, 4, 8],\n",
       "         [6, 0, 7, 4, 1, 8],\n",
       "         [9, 5, 8, 1, 3, 6],\n",
       "         [5, 3, 9, 4, 6, 2],\n",
       "         [0, 3, 7, 9, 8, 5]]))"
      ]
     },
     "execution_count": 278,
     "metadata": {},
     "output_type": "execute_result"
    }
   ],
   "source": [
    "x = torch.empty((6, 10)).uniform_(-1., 1.).clip(min=0)\n",
    "x /= x.sum(axis=1).reshape(-1, 1)\n",
    "y = torch.multinomial(x, 6)\n",
    "x, y"
   ]
  },
  {
   "cell_type": "code",
   "execution_count": 279,
   "id": "30978b0f",
   "metadata": {},
   "outputs": [
    {
     "data": {
      "text/plain": [
       "(tensor([[0.0000, 0.1881, 0.0742, 0.2092, 0.0000, 0.0000, 0.2912, 0.0000, 0.0000,\n",
       "          0.2373],\n",
       "         [0.4821, 0.0000, 0.0000, 0.0255, 0.0000, 0.1551, 0.2795, 0.0579, 0.0000,\n",
       "          0.0000],\n",
       "         [0.1440, 0.0512, 0.0000, 0.0000, 0.0000, 0.0000, 0.1582, 0.1226, 0.2635,\n",
       "          0.2605],\n",
       "         [0.0000, 0.0000, 0.0973, 0.1545, 0.1771, 0.1794, 0.1609, 0.0637, 0.0198,\n",
       "          0.1473],\n",
       "         [0.0000, 0.2393, 0.1349, 0.1293, 0.0000, 0.1394, 0.1150, 0.0000, 0.0000,\n",
       "          0.2422],\n",
       "         [0.0000, 0.0000, 0.2279, 0.2012, 0.0000, 0.1741, 0.0000, 0.3435, 0.0000,\n",
       "          0.0534]]),\n",
       " tensor([[1, 9, 3, 1, 6, 1, 6, 6, 3, 6, 6, 6, 1, 9, 3, 6, 2, 3, 1, 2],\n",
       "         [0, 0, 0, 0, 5, 5, 0, 7, 6, 0, 0, 6, 6, 7, 0, 0, 6, 0, 6, 6],\n",
       "         [9, 9, 6, 8, 0, 6, 9, 8, 0, 9, 6, 6, 0, 9, 6, 9, 6, 9, 0, 8],\n",
       "         [9, 2, 9, 7, 2, 6, 9, 6, 4, 4, 6, 4, 6, 5, 5, 9, 6, 3, 5, 5],\n",
       "         [5, 3, 2, 1, 6, 3, 6, 6, 1, 3, 2, 1, 6, 6, 6, 2, 1, 9, 6, 2],\n",
       "         [7, 7, 7, 2, 2, 7, 3, 2, 9, 3, 7, 7, 7, 3, 7, 7, 7, 9, 3, 5]]))"
      ]
     },
     "execution_count": 279,
     "metadata": {},
     "output_type": "execute_result"
    }
   ],
   "source": [
    "x = torch.empty((6, 10)).uniform_(-1., 1.).clip(min=0)\n",
    "x /= x.sum(axis=1).reshape(-1, 1)\n",
    "y = torch.multinomial(x, 20, replacement=True)\n",
    "x, y"
   ]
  },
  {
   "cell_type": "code",
   "execution_count": 280,
   "id": "cffda130",
   "metadata": {},
   "outputs": [
    {
     "data": {
      "text/plain": [
       "(tensor([[0.0000, 0.0000, 0.0000, 0.4580, 0.0108, 0.0000, 0.1587, 0.2064, 0.0000,\n",
       "          0.1661],\n",
       "         [0.1816, 0.0964, 0.0000, 0.0000, 0.2290, 0.2510, 0.0000, 0.1652, 0.0000,\n",
       "          0.0768],\n",
       "         [0.0000, 0.0000, 0.0000, 0.0443, 0.0000, 0.0000, 0.1160, 0.0000, 0.0000,\n",
       "          0.8397],\n",
       "         [0.0000, 0.0000, 0.2169, 0.1343, 0.1757, 0.0000, 0.1465, 0.0000, 0.2067,\n",
       "          0.1199],\n",
       "         [0.7760, 0.0054, 0.0000, 0.0000, 0.0000, 0.0000, 0.2186, 0.0000, 0.0000,\n",
       "          0.0000],\n",
       "         [0.0000, 0.0000, 0.0000, 0.0000, 0.0000, 0.0000, 0.0000, 0.2384, 0.0000,\n",
       "          0.7616]]),\n",
       " tensor([[3, 7, 3, 6, 7, 3],\n",
       "         [5, 4, 1, 5, 0, 5],\n",
       "         [9, 6, 6, 9, 9, 9],\n",
       "         [9, 3, 8, 2, 6, 3],\n",
       "         [6, 0, 0, 0, 0, 0],\n",
       "         [9, 9, 9, 9, 9, 9]]))"
      ]
     },
     "execution_count": 280,
     "metadata": {},
     "output_type": "execute_result"
    }
   ],
   "source": [
    "x = torch.empty((6, 10)).uniform_(-1., 1.).clip(min=0)\n",
    "x /= x.sum(axis=1).reshape(-1, 1)\n",
    "y = torch.multinomial(x, 6, replacement=True)\n",
    "x, y"
   ]
  },
  {
   "cell_type": "code",
   "execution_count": 281,
   "id": "4bfc77ef",
   "metadata": {},
   "outputs": [
    {
     "data": {
      "text/plain": [
       "(tensor([[0.3914, 0.0000, 0.0969, 0.2064, 0.0000, 0.1348, 0.0000, 0.0000, 0.0000,\n",
       "          0.1705],\n",
       "         [0.0000, 0.0000, 0.1196, 0.0000, 0.0000, 0.1816, 0.2322, 0.3338, 0.1327,\n",
       "          0.0000],\n",
       "         [0.0661, 0.2158, 0.1306, 0.1723, 0.0037, 0.0000, 0.0000, 0.1553, 0.2139,\n",
       "          0.0423],\n",
       "         [0.2445, 0.0000, 0.2532, 0.0000, 0.0151, 0.0000, 0.0000, 0.2768, 0.1069,\n",
       "          0.1034],\n",
       "         [0.1116, 0.0000, 0.0000, 0.0000, 0.1179, 0.0000, 0.0000, 0.7705, 0.0000,\n",
       "          0.0000],\n",
       "         [0.0000, 0.3239, 0.0000, 0.0790, 0.2611, 0.1221, 0.2139, 0.0000, 0.0000,\n",
       "          0.0000]]),\n",
       " tensor([[3, 0, 9, 2, 5, 7],\n",
       "         [6, 2, 5, 7, 8, 9],\n",
       "         [1, 8, 2, 3, 0, 7],\n",
       "         [8, 7, 2, 9, 0, 4],\n",
       "         [7, 4, 0, 8, 9, 5],\n",
       "         [1, 5, 4, 6, 3, 7]]))"
      ]
     },
     "execution_count": 281,
     "metadata": {},
     "output_type": "execute_result"
    }
   ],
   "source": [
    "x = torch.empty((6, 10)).uniform_(-1., 1.).clip(min=0)\n",
    "x /= x.sum(axis=1).reshape(-1, 1)\n",
    "y = torch.multinomial(x, 6, )\n",
    "x, y"
   ]
  },
  {
   "cell_type": "code",
   "execution_count": 282,
   "id": "ec7dfc92",
   "metadata": {},
   "outputs": [
    {
     "data": {
      "text/plain": [
       "tensor([-0.6586, -0.1060, -1.2703,  3.3482, -0.1665,  0.0593, -0.7544, -1.5684,\n",
       "         0.4485, -0.0209], dtype=torch.float64)"
      ]
     },
     "execution_count": 282,
     "metadata": {},
     "output_type": "execute_result"
    }
   ],
   "source": [
    "torch.normal(mean=torch.as_tensor(np.random.uniform(-1, 1, (10, ))), \n",
    "             std=torch.tensor([1.0,]))"
   ]
  },
  {
   "cell_type": "code",
   "execution_count": 283,
   "id": "111c4523",
   "metadata": {},
   "outputs": [
    {
     "data": {
      "text/plain": [
       "tensor([-2.5098,  0.1792, -2.0132, -0.0133, -0.6491, -0.5718,  0.0967, -1.3372,\n",
       "         0.3180, -1.1399])"
      ]
     },
     "execution_count": 283,
     "metadata": {},
     "output_type": "execute_result"
    }
   ],
   "source": [
    "torch.randn(10)"
   ]
  },
  {
   "cell_type": "code",
   "execution_count": 284,
   "id": "1c83111b",
   "metadata": {},
   "outputs": [
    {
     "data": {
      "text/plain": [
       "tensor([1.4109, 1.2928, 3.7011, 3.1359, 4.5263, 6.9892, 8.0888, 8.8280, 8.7037])"
      ]
     },
     "execution_count": 284,
     "metadata": {},
     "output_type": "execute_result"
    }
   ],
   "source": [
    "torch.normal(torch.arange(1, 10).to(dtype=torch.float32)) # std=1"
   ]
  },
  {
   "cell_type": "code",
   "execution_count": 285,
   "id": "6faf6a26",
   "metadata": {},
   "outputs": [
    {
     "data": {
      "text/plain": [
       "tensor([[ 3.4175,  0.6281,  6.6869,  3.3786,  3.3302],\n",
       "        [-0.1417, -0.1872,  1.0041,  1.6659,  5.7913]])"
      ]
     },
     "execution_count": 285,
     "metadata": {},
     "output_type": "execute_result"
    }
   ],
   "source": [
    "torch.normal(2, 3, size=(2, 5))"
   ]
  },
  {
   "cell_type": "code",
   "execution_count": 286,
   "id": "27b81ec3",
   "metadata": {},
   "outputs": [
    {
     "data": {
      "text/plain": [
       "tensor(5.)"
      ]
     },
     "execution_count": 286,
     "metadata": {},
     "output_type": "execute_result"
    }
   ],
   "source": [
    "torch.poisson(torch.tensor(2.0))"
   ]
  },
  {
   "cell_type": "code",
   "execution_count": 287,
   "id": "00bc2888",
   "metadata": {},
   "outputs": [
    {
     "data": {
      "text/plain": [
       "tensor([0.8691, 0.8476, 0.7216, 0.2752, 0.2451, 0.4001, 0.1851, 0.5446, 0.4505,\n",
       "        0.8453])"
      ]
     },
     "execution_count": 287,
     "metadata": {},
     "output_type": "execute_result"
    }
   ],
   "source": [
    "torch.rand(10)"
   ]
  },
  {
   "cell_type": "code",
   "execution_count": 288,
   "id": "966740a4",
   "metadata": {},
   "outputs": [
    {
     "data": {
      "text/plain": [
       "tensor([0.0562, 0.6537, 0.6693, 0.2503, 0.2214, 0.1055, 0.4320, 0.1998, 0.0837,\n",
       "        0.2836])"
      ]
     },
     "execution_count": 288,
     "metadata": {},
     "output_type": "execute_result"
    }
   ],
   "source": [
    "torch.rand_like(torch.rand(10)) # uniform [0, 1])"
   ]
  },
  {
   "cell_type": "code",
   "execution_count": 289,
   "id": "9763d26f",
   "metadata": {},
   "outputs": [
    {
     "data": {
      "text/plain": [
       "tensor([[1, 1, 1, 1, 1],\n",
       "        [1, 1, 1, 1, 1],\n",
       "        [1, 1, 1, 1, 1],\n",
       "        [1, 1, 1, 1, 1]])"
      ]
     },
     "execution_count": 289,
     "metadata": {},
     "output_type": "execute_result"
    }
   ],
   "source": [
    "torch.randint(1, 2, (4, 5)) # 2 exclusive"
   ]
  },
  {
   "cell_type": "code",
   "execution_count": 290,
   "id": "e83beff7",
   "metadata": {},
   "outputs": [
    {
     "data": {
      "text/plain": [
       "tensor([-0.3435,  0.0763,  1.1972, -0.3095, -0.1022,  0.7600, -0.3332,  0.9962,\n",
       "         1.9406, -0.8433])"
      ]
     },
     "execution_count": 290,
     "metadata": {},
     "output_type": "execute_result"
    }
   ],
   "source": [
    "torch.randn((10, )) # Gaussian(mean=0, std=1)"
   ]
  },
  {
   "cell_type": "code",
   "execution_count": 291,
   "id": "c88ff56a",
   "metadata": {},
   "outputs": [
    {
     "data": {
      "text/plain": [
       "tensor([8, 1, 9, 7, 5, 3, 2, 6, 4, 0])"
      ]
     },
     "execution_count": 291,
     "metadata": {},
     "output_type": "execute_result"
    }
   ],
   "source": [
    "torch.randperm(10) # 0 to n - 1."
   ]
  },
  {
   "cell_type": "code",
   "execution_count": 292,
   "id": "7a92d448",
   "metadata": {},
   "outputs": [
    {
     "data": {
      "text/plain": [
       "(tensor([[0.9492+0.9531j, 0.0073+0.6045j],\n",
       "         [0.5566+0.0786j, 0.1240+0.1743j],\n",
       "         [0.0322+0.2231j, 0.6943+0.6431j]], dtype=torch.complex32),\n",
       " tensor([[0.9492-0.9531j, 0.5566-0.0786j, 0.0322-0.2231j],\n",
       "         [0.0073-0.6045j, 0.1240-0.1743j, 0.6943-0.6431j]],\n",
       "        dtype=torch.complex32),\n",
       " tensor([[0.9492-0.9531j, 0.5566-0.0786j, 0.0322-0.2231j],\n",
       "         [0.0073-0.6045j, 0.1240-0.1743j, 0.6943-0.6431j]],\n",
       "        dtype=torch.complex32))"
      ]
     },
     "execution_count": 292,
     "metadata": {},
     "output_type": "execute_result"
    }
   ],
   "source": [
    "x = torch.rand((3, 2), dtype=torch.complex32)\n",
    "x, torch.adjoint(x), x.mH"
   ]
  },
  {
   "cell_type": "code",
   "execution_count": 293,
   "id": "37f3a7d0",
   "metadata": {},
   "outputs": [
    {
     "data": {
      "text/plain": [
       "(tensor([[[ 0.7849,  0.2833],\n",
       "          [ 2.5434,  0.0181],\n",
       "          [ 1.3786,  0.6507],\n",
       "          [-0.3836, -0.0290],\n",
       "          [-1.2926, -0.2967]],\n",
       " \n",
       "         [[-1.3300, -0.9712],\n",
       "          [-0.2033,  0.5962],\n",
       "          [-2.5893,  0.1280],\n",
       "          [ 0.5126,  1.1982],\n",
       "          [-0.0122, -1.3918]],\n",
       " \n",
       "         [[ 0.1027, -0.7840],\n",
       "          [ 3.2564,  0.1908],\n",
       "          [-2.0345,  0.1245],\n",
       "          [ 0.5929,  0.0608],\n",
       "          [-1.8114,  0.4046]]]),\n",
       " tensor([[0, 0, 0],\n",
       "         [0, 0, 1],\n",
       "         [0, 1, 0],\n",
       "         [0, 1, 1],\n",
       "         [0, 2, 0],\n",
       "         [0, 2, 1],\n",
       "         [1, 1, 1],\n",
       "         [1, 2, 1],\n",
       "         [1, 3, 0],\n",
       "         [1, 3, 1],\n",
       "         [2, 0, 0],\n",
       "         [2, 1, 0],\n",
       "         [2, 1, 1],\n",
       "         [2, 2, 1],\n",
       "         [2, 3, 0],\n",
       "         [2, 3, 1],\n",
       "         [2, 4, 1]]))"
      ]
     },
     "execution_count": 293,
     "metadata": {},
     "output_type": "execute_result"
    }
   ],
   "source": [
    "x = torch.randn((3, 5, 2)) * torch.randn((3, 5, 2))\n",
    "y = torch.argwhere(x > 0)\n",
    "x, y"
   ]
  },
  {
   "cell_type": "code",
   "execution_count": 294,
   "id": "908225ee",
   "metadata": {},
   "outputs": [
    {
     "data": {
      "text/plain": [
       "(tensor([[ 0.7849,  0.2833,  2.5434,  0.0181,  1.3786,  0.6507],\n",
       "         [-0.3836, -0.0290, -1.2926, -0.2967, -1.3300, -0.9712],\n",
       "         [-0.2033,  0.5962, -2.5893,  0.1280,  0.5126,  1.1982],\n",
       "         [-0.0122, -1.3918,  0.1027, -0.7840,  3.2564,  0.1908],\n",
       "         [-2.0345,  0.1245,  0.5929,  0.0608, -1.8114,  0.4046]]),\n",
       " tensor([[ True, False,  True, False,  True,  True],\n",
       "         [False, False, False, False, False, False],\n",
       "         [False,  True, False, False,  True,  True],\n",
       "         [False, False, False, False,  True, False],\n",
       "         [False, False,  True, False, False, False]]))"
      ]
     },
     "execution_count": 294,
     "metadata": {},
     "output_type": "execute_result"
    }
   ],
   "source": [
    "z = x.reshape((-1, 6))\n",
    "w = z > 0.5\n",
    "z, w"
   ]
  },
  {
   "cell_type": "code",
   "execution_count": 295,
   "id": "3c7b62e4",
   "metadata": {},
   "outputs": [
    {
     "data": {
      "text/plain": [
       "tensor([[0, 0],\n",
       "        [0, 2],\n",
       "        [0, 4],\n",
       "        [0, 5],\n",
       "        [2, 1],\n",
       "        [2, 4],\n",
       "        [2, 5],\n",
       "        [3, 4],\n",
       "        [4, 2]])"
      ]
     },
     "execution_count": 295,
     "metadata": {},
     "output_type": "execute_result"
    }
   ],
   "source": [
    "torch.argwhere(w)"
   ]
  },
  {
   "cell_type": "code",
   "execution_count": 296,
   "id": "80985d91",
   "metadata": {},
   "outputs": [
    {
     "data": {
      "text/plain": [
       "tensor([0.7849, 2.5434, 1.3786, 0.6507, 0.5962, 0.5126, 1.1982, 3.2564, 0.5929])"
      ]
     },
     "execution_count": 296,
     "metadata": {},
     "output_type": "execute_result"
    }
   ],
   "source": [
    "z[w]"
   ]
  },
  {
   "cell_type": "code",
   "execution_count": 297,
   "id": "8451a01b",
   "metadata": {},
   "outputs": [
    {
     "data": {
      "text/plain": [
       "tensor([0.7849, 2.5434, 1.3786, 0.6507, 0.5962, 0.5126, 1.1982, 3.2564, 0.5929])"
      ]
     },
     "execution_count": 297,
     "metadata": {},
     "output_type": "execute_result"
    }
   ],
   "source": [
    "z[z > 0.5]"
   ]
  },
  {
   "cell_type": "code",
   "execution_count": 298,
   "id": "8cd8f7a1",
   "metadata": {},
   "outputs": [
    {
     "data": {
      "text/plain": [
       "tensor([0.7849, 2.5434, 1.3786, 0.6507, 0.5962, 0.5126, 1.1982, 3.2564, 0.5929])"
      ]
     },
     "execution_count": 298,
     "metadata": {},
     "output_type": "execute_result"
    }
   ],
   "source": [
    "u, v = torch.argwhere(w)[:, 0], torch.argwhere(w)[:, 1]\n",
    "u, v\n",
    "z[u, v]"
   ]
  },
  {
   "cell_type": "code",
   "execution_count": 299,
   "id": "c30a8cf4",
   "metadata": {},
   "outputs": [
    {
     "data": {
      "text/plain": [
       "(tensor([[ 1.3303, -0.1029,  0.7936],\n",
       "         [ 1.0432, -1.7968,  0.9867]]),\n",
       " tensor([[ 1.3232,  0.1512, -0.1929, -0.6992,  1.0317],\n",
       "         [ 0.5546,  1.2497,  2.1303, -0.1405, -0.7468]]),\n",
       " tensor([[ 1.3303, -0.1029,  0.7936,  1.3232,  0.1512, -0.1929, -0.6992,  1.0317],\n",
       "         [ 1.0432, -1.7968,  0.9867,  0.5546,  1.2497,  2.1303, -0.1405, -0.7468]]))"
      ]
     },
     "execution_count": 299,
     "metadata": {},
     "output_type": "execute_result"
    }
   ],
   "source": [
    "x = torch.randn((2, 3))\n",
    "y = torch.randn((2, 5))\n",
    "x, y, torch.cat([x, y], dim=1)"
   ]
  },
  {
   "cell_type": "code",
   "execution_count": 300,
   "id": "1d7901de",
   "metadata": {},
   "outputs": [
    {
     "data": {
      "text/plain": [
       "(tensor([[-1.0620, -1.1670,  0.1510],\n",
       "         [-0.0018, -0.8504, -1.7453]]),\n",
       " tensor([[-0.4489,  0.8071, -0.4201],\n",
       "         [ 1.8900, -0.6517, -0.9375],\n",
       "         [-1.0854,  0.8030,  1.7166],\n",
       "         [-0.2632,  0.0726, -1.3100],\n",
       "         [-0.1871,  0.2769,  0.3347],\n",
       "         [ 0.3570,  1.5697,  0.5059]]),\n",
       " tensor([[-1.0620e+00, -1.1670e+00,  1.5104e-01],\n",
       "         [-1.8064e-03, -8.5039e-01, -1.7453e+00],\n",
       "         [-4.4892e-01,  8.0711e-01, -4.2013e-01],\n",
       "         [ 1.8900e+00, -6.5173e-01, -9.3748e-01],\n",
       "         [-1.0854e+00,  8.0301e-01,  1.7166e+00],\n",
       "         [-2.6322e-01,  7.2553e-02, -1.3100e+00],\n",
       "         [-1.8708e-01,  2.7687e-01,  3.3471e-01],\n",
       "         [ 3.5698e-01,  1.5697e+00,  5.0589e-01]]))"
      ]
     },
     "execution_count": 300,
     "metadata": {},
     "output_type": "execute_result"
    }
   ],
   "source": [
    "x = torch.randn((2, 3))\n",
    "y = torch.randn((6, 3))\n",
    "x, y, torch.cat([x, y], dim=0)"
   ]
  },
  {
   "cell_type": "code",
   "execution_count": 301,
   "id": "6ac73a0e",
   "metadata": {},
   "outputs": [
    {
     "data": {
      "text/plain": [
       "(tensor([[ 0.2622-0.2476j, -0.0945+0.7168j, -0.7100-0.4229j],\n",
       "         [-0.1370-0.1276j, -0.2206+0.2712j,  0.5039-0.4824j],\n",
       "         [-1.0059+0.7271j, -0.5723+0.6245j, -0.1505-0.0443j],\n",
       "         [-0.3896-0.6665j, -0.7856-0.0842j,  0.9971-0.4058j]],\n",
       "        dtype=torch.complex32),\n",
       " tensor([[ 0.2622+0.2476j, -0.0945-0.7168j, -0.7100+0.4229j],\n",
       "         [-0.1370+0.1276j, -0.2206-0.2712j,  0.5039+0.4824j],\n",
       "         [-1.0059-0.7271j, -0.5723-0.6245j, -0.1505+0.0443j],\n",
       "         [-0.3896+0.6665j, -0.7856+0.0842j,  0.9971+0.4058j]],\n",
       "        dtype=torch.complex32),\n",
       " True,\n",
       " tensor(True))"
      ]
     },
     "execution_count": 301,
     "metadata": {},
     "output_type": "execute_result"
    }
   ],
   "source": [
    "x = torch.randn((4, 3), dtype=torch.complex32)\n",
    "y = torch.conj(x)\n",
    "x, y, y.is_conj(), torch.all(x == torch.conj(y))"
   ]
  },
  {
   "cell_type": "code",
   "execution_count": 302,
   "id": "3af8afb4",
   "metadata": {},
   "outputs": [
    {
     "data": {
      "text/plain": [
       "(tensor([ 0,  1,  2,  3,  4,  5,  6,  7,  8,  9, 10]),\n",
       " (tensor([0, 1, 2, 3, 4, 5]), tensor([ 6,  7,  8,  9, 10])),\n",
       " (tensor([0, 1, 2, 3]), tensor([4, 5, 6, 7]), tensor([ 8,  9, 10])))"
      ]
     },
     "execution_count": 302,
     "metadata": {},
     "output_type": "execute_result"
    }
   ],
   "source": [
    "x = torch.arange(11)\n",
    "y = torch.chunk(x, 2)\n",
    "z = torch.chunk(x, 3)\n",
    "x, y, z"
   ]
  },
  {
   "cell_type": "code",
   "execution_count": 303,
   "id": "72e9c9cc",
   "metadata": {},
   "outputs": [
    {
     "data": {
      "text/plain": [
       "(tensor([[ 0.5916,  0.3237,  0.1185,  0.9920, -0.1610, -0.1669],\n",
       "         [-1.3604, -0.6594,  2.2604, -1.3918,  0.4173, -0.3318]]),\n",
       " (tensor([[ 0.5916,  0.3237],\n",
       "          [-1.3604, -0.6594]]),\n",
       "  tensor([[ 0.1185,  0.9920],\n",
       "          [ 2.2604, -1.3918]]),\n",
       "  tensor([[-0.1610, -0.1669],\n",
       "          [ 0.4173, -0.3318]])),\n",
       " (tensor([[ 0.5916,  0.3237,  0.1185,  0.9920, -0.1610, -0.1669]]),\n",
       "  tensor([[-1.3604, -0.6594,  2.2604, -1.3918,  0.4173, -0.3318]])))"
      ]
     },
     "execution_count": 303,
     "metadata": {},
     "output_type": "execute_result"
    }
   ],
   "source": [
    "x = torch.randn((2, 6))\n",
    "y = torch.chunk(x, 3, dim=1)\n",
    "z = torch.chunk(x, 4, dim=0)\n",
    "x, y, z"
   ]
  },
  {
   "cell_type": "code",
   "execution_count": 304,
   "id": "b52526b2",
   "metadata": {},
   "outputs": [
    {
     "data": {
      "text/plain": [
       "(tensor([[[ 0,  1,  2,  3],\n",
       "          [ 4,  5,  6,  7]],\n",
       " \n",
       "         [[ 8,  9, 10, 11],\n",
       "          [12, 13, 14, 15]]]),\n",
       " (tensor([[[ 0,  1],\n",
       "           [ 4,  5]],\n",
       "  \n",
       "          [[ 8,  9],\n",
       "           [12, 13]]]),\n",
       "  tensor([[[ 2,  3],\n",
       "           [ 6,  7]],\n",
       "  \n",
       "          [[10, 11],\n",
       "           [14, 15]]])))"
      ]
     },
     "execution_count": 304,
     "metadata": {},
     "output_type": "execute_result"
    }
   ],
   "source": [
    "x = torch.arange(16).reshape(2, 2, 4)\n",
    "y = torch.dsplit(x, 2)\n",
    "x, y"
   ]
  },
  {
   "cell_type": "code",
   "execution_count": 305,
   "id": "14ed41c5",
   "metadata": {},
   "outputs": [
    {
     "data": {
      "text/plain": [
       "(tensor([[[ 0,  1,  2,  3],\n",
       "          [ 4,  5,  6,  7]],\n",
       " \n",
       "         [[ 8,  9, 10, 11],\n",
       "          [12, 13, 14, 15]],\n",
       " \n",
       "         [[16, 17, 18, 19],\n",
       "          [20, 21, 22, 23]],\n",
       " \n",
       "         [[24, 25, 26, 27],\n",
       "          [28, 29, 30, 31]]]),\n",
       " (tensor([[[ 0],\n",
       "           [ 4]],\n",
       "  \n",
       "          [[ 8],\n",
       "           [12]],\n",
       "  \n",
       "          [[16],\n",
       "           [20]],\n",
       "  \n",
       "          [[24],\n",
       "           [28]]]),\n",
       "  tensor([[[ 1],\n",
       "           [ 5]],\n",
       "  \n",
       "          [[ 9],\n",
       "           [13]],\n",
       "  \n",
       "          [[17],\n",
       "           [21]],\n",
       "  \n",
       "          [[25],\n",
       "           [29]]]),\n",
       "  tensor([[[ 2],\n",
       "           [ 6]],\n",
       "  \n",
       "          [[10],\n",
       "           [14]],\n",
       "  \n",
       "          [[18],\n",
       "           [22]],\n",
       "  \n",
       "          [[26],\n",
       "           [30]]]),\n",
       "  tensor([[[ 3],\n",
       "           [ 7]],\n",
       "  \n",
       "          [[11],\n",
       "           [15]],\n",
       "  \n",
       "          [[19],\n",
       "           [23]],\n",
       "  \n",
       "          [[27],\n",
       "           [31]]])))"
      ]
     },
     "execution_count": 305,
     "metadata": {},
     "output_type": "execute_result"
    }
   ],
   "source": [
    "x = torch.arange(32).reshape(4, 2, 4)\n",
    "y = torch.dsplit(x, 4)\n",
    "x, y"
   ]
  },
  {
   "cell_type": "code",
   "execution_count": 306,
   "id": "79e4a3d8",
   "metadata": {},
   "outputs": [
    {
     "data": {
      "text/plain": [
       "(tensor([[[ 0,  1,  2,  3],\n",
       "          [ 4,  5,  6,  7]],\n",
       " \n",
       "         [[ 8,  9, 10, 11],\n",
       "          [12, 13, 14, 15]],\n",
       " \n",
       "         [[16, 17, 18, 19],\n",
       "          [20, 21, 22, 23]],\n",
       " \n",
       "         [[24, 25, 26, 27],\n",
       "          [28, 29, 30, 31]]]),\n",
       " (tensor([[[ 0],\n",
       "           [ 4]],\n",
       "  \n",
       "          [[ 8],\n",
       "           [12]],\n",
       "  \n",
       "          [[16],\n",
       "           [20]],\n",
       "  \n",
       "          [[24],\n",
       "           [28]]]),\n",
       "  tensor([[[ 1,  2],\n",
       "           [ 5,  6]],\n",
       "  \n",
       "          [[ 9, 10],\n",
       "           [13, 14]],\n",
       "  \n",
       "          [[17, 18],\n",
       "           [21, 22]],\n",
       "  \n",
       "          [[25, 26],\n",
       "           [29, 30]]]),\n",
       "  tensor([[[ 3],\n",
       "           [ 7]],\n",
       "  \n",
       "          [[11],\n",
       "           [15]],\n",
       "  \n",
       "          [[19],\n",
       "           [23]],\n",
       "  \n",
       "          [[27],\n",
       "           [31]]])))"
      ]
     },
     "execution_count": 306,
     "metadata": {},
     "output_type": "execute_result"
    }
   ],
   "source": [
    "x = torch.arange(32).reshape(4, 2, 4)\n",
    "y = torch.dsplit(x, [1, 3])\n",
    "x, y"
   ]
  },
  {
   "cell_type": "code",
   "execution_count": 307,
   "id": "030f7442",
   "metadata": {},
   "outputs": [
    {
     "data": {
      "text/plain": [
       "(tensor([0, 1, 2, 3, 4, 5, 6, 7]),\n",
       " (tensor([0, 1, 2, 3]), tensor([4, 5, 6, 7])))"
      ]
     },
     "execution_count": 307,
     "metadata": {},
     "output_type": "execute_result"
    }
   ],
   "source": [
    "x = torch.arange(8)\n",
    "y = torch.tensor_split(x, 2)\n",
    "x, y"
   ]
  },
  {
   "cell_type": "code",
   "execution_count": 308,
   "id": "21001d03",
   "metadata": {},
   "outputs": [
    {
     "data": {
      "text/plain": [
       "(tensor([0, 1, 2, 3, 4, 5, 6]), (tensor([0, 1, 2, 3]), tensor([4, 5, 6])))"
      ]
     },
     "execution_count": 308,
     "metadata": {},
     "output_type": "execute_result"
    }
   ],
   "source": [
    "x = torch.arange(7)\n",
    "y = torch.tensor_split(x, 2)\n",
    "x, y"
   ]
  },
  {
   "cell_type": "code",
   "execution_count": 309,
   "id": "af4496de",
   "metadata": {},
   "outputs": [
    {
     "data": {
      "text/plain": [
       "(tensor([[[-0.9891,  0.2736, -0.3410, -0.5595, -0.6359],\n",
       "          [-0.3519,  0.4749,  0.0566,  0.8611, -0.3574],\n",
       "          [-0.2926,  0.9788, -0.9538, -0.3936, -0.6204]],\n",
       " \n",
       "         [[ 0.9621,  0.5324, -0.3351, -0.4245,  0.3067],\n",
       "          [-0.3380,  0.3105, -0.5119, -0.6188, -0.0250],\n",
       "          [ 0.5872,  0.8517,  0.2210, -0.5939,  0.5228]],\n",
       " \n",
       "         [[ 0.3898,  0.4266, -0.3334, -0.1349,  0.4615],\n",
       "          [ 0.4131,  0.6642, -0.5998,  0.6279, -0.3890],\n",
       "          [-0.0251, -0.4707, -0.2964,  0.6742,  0.8543]],\n",
       " \n",
       "         [[ 0.3482, -0.7501, -0.3688,  0.6937, -0.2698],\n",
       "          [-0.8169,  0.2323, -0.8877, -0.0060, -0.1229],\n",
       "          [ 0.0096, -0.2381, -0.1461, -0.6045, -0.6602]]]),\n",
       " (tensor([[[-0.9891,  0.2736, -0.3410, -0.5595, -0.6359]],\n",
       "  \n",
       "          [[ 0.9621,  0.5324, -0.3351, -0.4245,  0.3067]],\n",
       "  \n",
       "          [[ 0.3898,  0.4266, -0.3334, -0.1349,  0.4615]],\n",
       "  \n",
       "          [[ 0.3482, -0.7501, -0.3688,  0.6937, -0.2698]]]),\n",
       "  tensor([[[-0.3519,  0.4749,  0.0566,  0.8611, -0.3574]],\n",
       "  \n",
       "          [[-0.3380,  0.3105, -0.5119, -0.6188, -0.0250]],\n",
       "  \n",
       "          [[ 0.4131,  0.6642, -0.5998,  0.6279, -0.3890]],\n",
       "  \n",
       "          [[-0.8169,  0.2323, -0.8877, -0.0060, -0.1229]]]),\n",
       "  tensor([[[-0.2926,  0.9788, -0.9538, -0.3936, -0.6204]],\n",
       "  \n",
       "          [[ 0.5872,  0.8517,  0.2210, -0.5939,  0.5228]],\n",
       "  \n",
       "          [[-0.0251, -0.4707, -0.2964,  0.6742,  0.8543]],\n",
       "  \n",
       "          [[ 0.0096, -0.2381, -0.1461, -0.6045, -0.6602]]])),\n",
       " 3,\n",
       " torch.Size([4, 1, 5]))"
      ]
     },
     "execution_count": 309,
     "metadata": {},
     "output_type": "execute_result"
    }
   ],
   "source": [
    "torch.manual_seed(10)\n",
    "x = torch.randn((4, 3, 5)).uniform_(-1, 1)\n",
    "y = torch.tensor_split(x, 3, dim=1)\n",
    "\n",
    "x, y, len(y), y[0].shape"
   ]
  },
  {
   "cell_type": "code",
   "execution_count": 310,
   "id": "627c5eb2",
   "metadata": {},
   "outputs": [
    {
     "data": {
      "text/plain": [
       "(tensor([[[-0.9891,  0.2736, -0.3410, -0.5595, -0.6359],\n",
       "          [-0.3519,  0.4749,  0.0566,  0.8611, -0.3574],\n",
       "          [-0.2926,  0.9788, -0.9538, -0.3936, -0.6204]],\n",
       " \n",
       "         [[ 0.9621,  0.5324, -0.3351, -0.4245,  0.3067],\n",
       "          [-0.3380,  0.3105, -0.5119, -0.6188, -0.0250],\n",
       "          [ 0.5872,  0.8517,  0.2210, -0.5939,  0.5228]],\n",
       " \n",
       "         [[ 0.3898,  0.4266, -0.3334, -0.1349,  0.4615],\n",
       "          [ 0.4131,  0.6642, -0.5998,  0.6279, -0.3890],\n",
       "          [-0.0251, -0.4707, -0.2964,  0.6742,  0.8543]],\n",
       " \n",
       "         [[ 0.3482, -0.7501, -0.3688,  0.6937, -0.2698],\n",
       "          [-0.8169,  0.2323, -0.8877, -0.0060, -0.1229],\n",
       "          [ 0.0096, -0.2381, -0.1461, -0.6045, -0.6602]]]),\n",
       " (tensor([[[-0.9891,  0.2736, -0.3410, -0.5595, -0.6359],\n",
       "           [-0.3519,  0.4749,  0.0566,  0.8611, -0.3574]],\n",
       "  \n",
       "          [[ 0.9621,  0.5324, -0.3351, -0.4245,  0.3067],\n",
       "           [-0.3380,  0.3105, -0.5119, -0.6188, -0.0250]],\n",
       "  \n",
       "          [[ 0.3898,  0.4266, -0.3334, -0.1349,  0.4615],\n",
       "           [ 0.4131,  0.6642, -0.5998,  0.6279, -0.3890]],\n",
       "  \n",
       "          [[ 0.3482, -0.7501, -0.3688,  0.6937, -0.2698],\n",
       "           [-0.8169,  0.2323, -0.8877, -0.0060, -0.1229]]]),\n",
       "  tensor([[[-0.2926,  0.9788, -0.9538, -0.3936, -0.6204]],\n",
       "  \n",
       "          [[ 0.5872,  0.8517,  0.2210, -0.5939,  0.5228]],\n",
       "  \n",
       "          [[-0.0251, -0.4707, -0.2964,  0.6742,  0.8543]],\n",
       "  \n",
       "          [[ 0.0096, -0.2381, -0.1461, -0.6045, -0.6602]]])),\n",
       " 2,\n",
       " torch.Size([4, 2, 5]),\n",
       " torch.Size([4, 1, 5]))"
      ]
     },
     "execution_count": 310,
     "metadata": {},
     "output_type": "execute_result"
    }
   ],
   "source": [
    "torch.manual_seed(10)\n",
    "x = torch.randn((4, 3, 5)).uniform_(-1, 1)\n",
    "y = torch.tensor_split(x, 2, dim=1)\n",
    "\n",
    "x, y, len(y), y[0].shape, y[1].shape"
   ]
  },
  {
   "cell_type": "code",
   "execution_count": 311,
   "id": "2db0c90f",
   "metadata": {},
   "outputs": [
    {
     "data": {
      "text/plain": [
       "(tensor([[[-0.9891,  0.2736, -0.3410, -0.5595, -0.6359],\n",
       "          [-0.3519,  0.4749,  0.0566,  0.8611, -0.3574],\n",
       "          [-0.2926,  0.9788, -0.9538, -0.3936, -0.6204]],\n",
       " \n",
       "         [[ 0.9621,  0.5324, -0.3351, -0.4245,  0.3067],\n",
       "          [-0.3380,  0.3105, -0.5119, -0.6188, -0.0250],\n",
       "          [ 0.5872,  0.8517,  0.2210, -0.5939,  0.5228]],\n",
       " \n",
       "         [[ 0.3898,  0.4266, -0.3334, -0.1349,  0.4615],\n",
       "          [ 0.4131,  0.6642, -0.5998,  0.6279, -0.3890],\n",
       "          [-0.0251, -0.4707, -0.2964,  0.6742,  0.8543]],\n",
       " \n",
       "         [[ 0.3482, -0.7501, -0.3688,  0.6937, -0.2698],\n",
       "          [-0.8169,  0.2323, -0.8877, -0.0060, -0.1229],\n",
       "          [ 0.0096, -0.2381, -0.1461, -0.6045, -0.6602]]]),\n",
       " (tensor([[[-0.9891,  0.2736, -0.3410, -0.5595, -0.6359]],\n",
       "  \n",
       "          [[ 0.9621,  0.5324, -0.3351, -0.4245,  0.3067]],\n",
       "  \n",
       "          [[ 0.3898,  0.4266, -0.3334, -0.1349,  0.4615]],\n",
       "  \n",
       "          [[ 0.3482, -0.7501, -0.3688,  0.6937, -0.2698]]]),\n",
       "  tensor([[[-0.3519,  0.4749,  0.0566,  0.8611, -0.3574]],\n",
       "  \n",
       "          [[-0.3380,  0.3105, -0.5119, -0.6188, -0.0250]],\n",
       "  \n",
       "          [[ 0.4131,  0.6642, -0.5998,  0.6279, -0.3890]],\n",
       "  \n",
       "          [[-0.8169,  0.2323, -0.8877, -0.0060, -0.1229]]]),\n",
       "  tensor([[[-0.2926,  0.9788, -0.9538, -0.3936, -0.6204]],\n",
       "  \n",
       "          [[ 0.5872,  0.8517,  0.2210, -0.5939,  0.5228]],\n",
       "  \n",
       "          [[-0.0251, -0.4707, -0.2964,  0.6742,  0.8543]],\n",
       "  \n",
       "          [[ 0.0096, -0.2381, -0.1461, -0.6045, -0.6602]]])),\n",
       " 3,\n",
       " torch.Size([4, 1, 5]),\n",
       " torch.Size([4, 1, 5]))"
      ]
     },
     "execution_count": 311,
     "metadata": {},
     "output_type": "execute_result"
    }
   ],
   "source": [
    "torch.manual_seed(10)\n",
    "x = torch.randn((4, 3, 5)).uniform_(-1, 1)\n",
    "y = torch.tensor_split(x, [1,2], dim=1) # in dim 1 indices 0:1, 1:2, 2:\n",
    "\n",
    "x, y, len(y), y[0].shape, y[1].shape"
   ]
  },
  {
   "cell_type": "code",
   "execution_count": 312,
   "id": "89f0f597",
   "metadata": {},
   "outputs": [
    {
     "data": {
      "text/plain": [
       "(tensor([[ 0,  1,  2,  3],\n",
       "         [ 4,  5,  6,  7],\n",
       "         [ 8,  9, 10, 11],\n",
       "         [12, 13, 14, 15]]),\n",
       " (tensor([[ 0,  1],\n",
       "          [ 4,  5],\n",
       "          [ 8,  9],\n",
       "          [12, 13]]),\n",
       "  tensor([[ 2,  3],\n",
       "          [ 6,  7],\n",
       "          [10, 11],\n",
       "          [14, 15]])),\n",
       " 2,\n",
       " torch.Size([4, 2]),\n",
       " torch.Size([4, 2]))"
      ]
     },
     "execution_count": 312,
     "metadata": {},
     "output_type": "execute_result"
    }
   ],
   "source": [
    "torch.manual_seed(10)\n",
    "x = torch.arange(16).reshape(4, 4)\n",
    "y = torch.hsplit(x, 2)\n",
    "\n",
    "x, y, len(y), y[0].shape, y[1].shape"
   ]
  },
  {
   "cell_type": "code",
   "execution_count": 313,
   "id": "55ecb133",
   "metadata": {},
   "outputs": [
    {
     "data": {
      "text/plain": [
       "(tensor([[[-0.9891,  0.2736, -0.3410, -0.5595, -0.6359],\n",
       "          [-0.3519,  0.4749,  0.0566,  0.8611, -0.3574],\n",
       "          [-0.2926,  0.9788, -0.9538, -0.3936, -0.6204]],\n",
       " \n",
       "         [[ 0.9621,  0.5324, -0.3351, -0.4245,  0.3067],\n",
       "          [-0.3380,  0.3105, -0.5119, -0.6188, -0.0250],\n",
       "          [ 0.5872,  0.8517,  0.2210, -0.5939,  0.5228]],\n",
       " \n",
       "         [[ 0.3898,  0.4266, -0.3334, -0.1349,  0.4615],\n",
       "          [ 0.4131,  0.6642, -0.5998,  0.6279, -0.3890],\n",
       "          [-0.0251, -0.4707, -0.2964,  0.6742,  0.8543]],\n",
       " \n",
       "         [[ 0.3482, -0.7501, -0.3688,  0.6937, -0.2698],\n",
       "          [-0.8169,  0.2323, -0.8877, -0.0060, -0.1229],\n",
       "          [ 0.0096, -0.2381, -0.1461, -0.6045, -0.6602]]]),\n",
       " (tensor([[[-0.9891,  0.2736, -0.3410, -0.5595, -0.6359]],\n",
       "  \n",
       "          [[ 0.9621,  0.5324, -0.3351, -0.4245,  0.3067]],\n",
       "  \n",
       "          [[ 0.3898,  0.4266, -0.3334, -0.1349,  0.4615]],\n",
       "  \n",
       "          [[ 0.3482, -0.7501, -0.3688,  0.6937, -0.2698]]]),\n",
       "  tensor([[[-0.3519,  0.4749,  0.0566,  0.8611, -0.3574]],\n",
       "  \n",
       "          [[-0.3380,  0.3105, -0.5119, -0.6188, -0.0250]],\n",
       "  \n",
       "          [[ 0.4131,  0.6642, -0.5998,  0.6279, -0.3890]],\n",
       "  \n",
       "          [[-0.8169,  0.2323, -0.8877, -0.0060, -0.1229]]]),\n",
       "  tensor([[[-0.2926,  0.9788, -0.9538, -0.3936, -0.6204]],\n",
       "  \n",
       "          [[ 0.5872,  0.8517,  0.2210, -0.5939,  0.5228]],\n",
       "  \n",
       "          [[-0.0251, -0.4707, -0.2964,  0.6742,  0.8543]],\n",
       "  \n",
       "          [[ 0.0096, -0.2381, -0.1461, -0.6045, -0.6602]]])),\n",
       " 3,\n",
       " torch.Size([4, 1, 5]),\n",
       " torch.Size([4, 1, 5]))"
      ]
     },
     "execution_count": 313,
     "metadata": {},
     "output_type": "execute_result"
    }
   ],
   "source": [
    "torch.manual_seed(10)\n",
    "x = torch.randn((4, 3, 5)).uniform_(-1, 1)\n",
    "y = torch.hsplit(x, 3) # dim >= 2 split with dim=1\n",
    "\n",
    "x, y, len(y), y[0].shape, y[1].shape"
   ]
  },
  {
   "cell_type": "code",
   "execution_count": 314,
   "id": "1e26a08c",
   "metadata": {},
   "outputs": [
    {
     "data": {
      "text/plain": [
       "(tensor([[ 0,  1,  2,  3],\n",
       "         [ 4,  5,  6,  7],\n",
       "         [ 8,  9, 10, 11],\n",
       "         [12, 13, 14, 15]]),\n",
       " (tensor([[0, 1, 2, 3],\n",
       "          [4, 5, 6, 7]]),\n",
       "  tensor([[ 8,  9, 10, 11],\n",
       "          [12, 13, 14, 15]])),\n",
       " 2,\n",
       " torch.Size([2, 4]),\n",
       " torch.Size([2, 4]))"
      ]
     },
     "execution_count": 314,
     "metadata": {},
     "output_type": "execute_result"
    }
   ],
   "source": [
    "torch.manual_seed(10)\n",
    "x = torch.arange(16).reshape(4, 4)\n",
    "y = torch.vsplit(x, 2)\n",
    "\n",
    "x, y, len(y), y[0].shape, y[1].shape"
   ]
  },
  {
   "cell_type": "code",
   "execution_count": 315,
   "id": "a391a46a",
   "metadata": {},
   "outputs": [
    {
     "data": {
      "text/plain": [
       "(tensor([[[-0.9891,  0.2736, -0.3410, -0.5595, -0.6359],\n",
       "          [-0.3519,  0.4749,  0.0566,  0.8611, -0.3574],\n",
       "          [-0.2926,  0.9788, -0.9538, -0.3936, -0.6204]],\n",
       " \n",
       "         [[ 0.9621,  0.5324, -0.3351, -0.4245,  0.3067],\n",
       "          [-0.3380,  0.3105, -0.5119, -0.6188, -0.0250],\n",
       "          [ 0.5872,  0.8517,  0.2210, -0.5939,  0.5228]],\n",
       " \n",
       "         [[ 0.3898,  0.4266, -0.3334, -0.1349,  0.4615],\n",
       "          [ 0.4131,  0.6642, -0.5998,  0.6279, -0.3890],\n",
       "          [-0.0251, -0.4707, -0.2964,  0.6742,  0.8543]],\n",
       " \n",
       "         [[ 0.3482, -0.7501, -0.3688,  0.6937, -0.2698],\n",
       "          [-0.8169,  0.2323, -0.8877, -0.0060, -0.1229],\n",
       "          [ 0.0096, -0.2381, -0.1461, -0.6045, -0.6602]]]),\n",
       " (tensor([[[-0.9891,  0.2736, -0.3410, -0.5595, -0.6359],\n",
       "           [-0.3519,  0.4749,  0.0566,  0.8611, -0.3574],\n",
       "           [-0.2926,  0.9788, -0.9538, -0.3936, -0.6204]],\n",
       "  \n",
       "          [[ 0.9621,  0.5324, -0.3351, -0.4245,  0.3067],\n",
       "           [-0.3380,  0.3105, -0.5119, -0.6188, -0.0250],\n",
       "           [ 0.5872,  0.8517,  0.2210, -0.5939,  0.5228]]]),\n",
       "  tensor([[[ 0.3898,  0.4266, -0.3334, -0.1349,  0.4615],\n",
       "           [ 0.4131,  0.6642, -0.5998,  0.6279, -0.3890],\n",
       "           [-0.0251, -0.4707, -0.2964,  0.6742,  0.8543]],\n",
       "  \n",
       "          [[ 0.3482, -0.7501, -0.3688,  0.6937, -0.2698],\n",
       "           [-0.8169,  0.2323, -0.8877, -0.0060, -0.1229],\n",
       "           [ 0.0096, -0.2381, -0.1461, -0.6045, -0.6602]]])),\n",
       " 2,\n",
       " torch.Size([2, 3, 5]),\n",
       " torch.Size([2, 3, 5]))"
      ]
     },
     "execution_count": 315,
     "metadata": {},
     "output_type": "execute_result"
    }
   ],
   "source": [
    "torch.manual_seed(10)\n",
    "x = torch.randn((4, 3, 5)).uniform_(-1, 1)\n",
    "y = torch.vsplit(x, 2) # dim >= 2 split with dim=0 => tensor_split(x, 2, dim=0)\n",
    "\n",
    "x, y, len(y), y[0].shape, y[1].shape"
   ]
  },
  {
   "cell_type": "code",
   "execution_count": 316,
   "id": "5df3865c",
   "metadata": {},
   "outputs": [
    {
     "data": {
      "text/plain": [
       "(tensor([[0, 1],\n",
       "         [2, 3],\n",
       "         [4, 5],\n",
       "         [6, 7]]),\n",
       " (tensor([[0, 1],\n",
       "          [2, 3]]),\n",
       "  tensor([[4, 5],\n",
       "          [6, 7]])),\n",
       " (tensor([[0, 1],\n",
       "          [2, 3]]),\n",
       "  tensor([[4, 5],\n",
       "          [6, 7]])))"
      ]
     },
     "execution_count": 316,
     "metadata": {},
     "output_type": "execute_result"
    }
   ],
   "source": [
    "x = torch.arange(8).reshape(4, 2)\n",
    "y = torch.chunk(x, 2)\n",
    "z = torch.split(x, 2)\n",
    "x, y, z\n"
   ]
  },
  {
   "cell_type": "code",
   "execution_count": 317,
   "id": "cbfe9f22",
   "metadata": {},
   "outputs": [
    {
     "data": {
      "text/plain": [
       "(tensor([[0, 1],\n",
       "         [2, 3],\n",
       "         [4, 5],\n",
       "         [6, 7]]),\n",
       " (tensor([[0],\n",
       "          [2],\n",
       "          [4],\n",
       "          [6]]),\n",
       "  tensor([[1],\n",
       "          [3],\n",
       "          [5],\n",
       "          [7]])),\n",
       " (tensor([[0],\n",
       "          [2],\n",
       "          [4],\n",
       "          [6]]),\n",
       "  tensor([[1],\n",
       "          [3],\n",
       "          [5],\n",
       "          [7]])))"
      ]
     },
     "execution_count": 317,
     "metadata": {},
     "output_type": "execute_result"
    }
   ],
   "source": [
    "x = torch.arange(8).reshape(4, 2)\n",
    "y = torch.chunk(x, 2, dim=1)\n",
    "z = torch.split(x, 1, dim=1)\n",
    "x, y, z\n"
   ]
  },
  {
   "cell_type": "code",
   "execution_count": 318,
   "id": "47fd5b9c",
   "metadata": {},
   "outputs": [
    {
     "data": {
      "text/plain": [
       "(tensor([[ 0,  1,  2,  3],\n",
       "         [ 4,  5,  6,  7],\n",
       "         [ 8,  9, 10, 11],\n",
       "         [12, 13, 14, 15]]),\n",
       " (tensor([[ 0,  1],\n",
       "          [ 4,  5],\n",
       "          [ 8,  9],\n",
       "          [12, 13]]),\n",
       "  tensor([[ 2,  3],\n",
       "          [ 6,  7],\n",
       "          [10, 11],\n",
       "          [14, 15]])),\n",
       " (tensor([[ 0,  1],\n",
       "          [ 4,  5],\n",
       "          [ 8,  9],\n",
       "          [12, 13]]),\n",
       "  tensor([[ 2,  3],\n",
       "          [ 6,  7],\n",
       "          [10, 11],\n",
       "          [14, 15]])))"
      ]
     },
     "execution_count": 318,
     "metadata": {},
     "output_type": "execute_result"
    }
   ],
   "source": [
    "x = torch.arange(16).reshape(4, 4)\n",
    "y = torch.chunk(x, 2, dim=1)\n",
    "z = torch.split(x, 2, dim=1)\n",
    "x, y, z\n"
   ]
  },
  {
   "cell_type": "code",
   "execution_count": 319,
   "id": "a204422d",
   "metadata": {},
   "outputs": [
    {
     "data": {
      "text/plain": [
       "(tensor([[ 0,  1,  2,  3],\n",
       "         [ 4,  5,  6,  7],\n",
       "         [ 8,  9, 10, 11],\n",
       "         [12, 13, 14, 15]]),\n",
       " (tensor([[ 0,  1],\n",
       "          [ 4,  5],\n",
       "          [ 8,  9],\n",
       "          [12, 13]]),\n",
       "  tensor([[ 2,  3],\n",
       "          [ 6,  7],\n",
       "          [10, 11],\n",
       "          [14, 15]])),\n",
       " (tensor([[ 0,  1,  2],\n",
       "          [ 4,  5,  6],\n",
       "          [ 8,  9, 10],\n",
       "          [12, 13, 14]]),\n",
       "  tensor([[ 3],\n",
       "          [ 7],\n",
       "          [11],\n",
       "          [15]])))"
      ]
     },
     "execution_count": 319,
     "metadata": {},
     "output_type": "execute_result"
    }
   ],
   "source": [
    "x = torch.arange(16).reshape(4, 4)\n",
    "y = torch.chunk(x, 3, dim=1)\n",
    "z = torch.split(x, 3, dim=1)\n",
    "x, y, z\n"
   ]
  },
  {
   "cell_type": "code",
   "execution_count": 320,
   "id": "eb681ba0",
   "metadata": {},
   "outputs": [
    {
     "data": {
      "text/plain": [
       "(tensor([[ 0,  1,  2,  3],\n",
       "         [ 4,  5,  6,  7],\n",
       "         [ 8,  9, 10, 11],\n",
       "         [12, 13, 14, 15]]),\n",
       " (tensor([[ 0,  1],\n",
       "          [ 4,  5],\n",
       "          [ 8,  9],\n",
       "          [12, 13]]),\n",
       "  tensor([[ 2,  3],\n",
       "          [ 6,  7],\n",
       "          [10, 11],\n",
       "          [14, 15]])),\n",
       " (tensor([[ 0],\n",
       "          [ 4],\n",
       "          [ 8],\n",
       "          [12]]),\n",
       "  tensor([[ 1,  2,  3],\n",
       "          [ 5,  6,  7],\n",
       "          [ 9, 10, 11],\n",
       "          [13, 14, 15]])),\n",
       " (tensor([[ 0],\n",
       "          [ 4],\n",
       "          [ 8],\n",
       "          [12]]),\n",
       "  tensor([[ 1,  2,  3],\n",
       "          [ 5,  6,  7],\n",
       "          [ 9, 10, 11],\n",
       "          [13, 14, 15]]),\n",
       "  tensor([], size=(4, 0), dtype=torch.int64)))"
      ]
     },
     "execution_count": 320,
     "metadata": {},
     "output_type": "execute_result"
    }
   ],
   "source": [
    "x = torch.arange(16).reshape(4, 4)\n",
    "y = torch.chunk(x, 3, dim=1)\n",
    "# z = torch.split(x, (1, 2), dim=1) # error\n",
    "z = torch.split(x, (1, 3), dim=1) # split size 2. 1 + 3 = 4\n",
    "w = torch.tensor_split(x, (1, 4), dim=1)\n",
    "x, y, z, w\n"
   ]
  },
  {
   "cell_type": "code",
   "execution_count": 321,
   "id": "581f836a",
   "metadata": {},
   "outputs": [
    {
     "data": {
      "text/plain": [
       "(tensor([[ 0,  1,  2],\n",
       "         [ 3,  4,  5],\n",
       "         [ 6,  7,  8],\n",
       "         [ 9, 10, 11],\n",
       "         [12, 13, 14],\n",
       "         [15, 16, 17],\n",
       "         [18, 19, 20],\n",
       "         [21, 22, 23],\n",
       "         [24, 25, 26]]),\n",
       " (tensor([[ 0],\n",
       "          [ 3],\n",
       "          [ 6],\n",
       "          [ 9],\n",
       "          [12],\n",
       "          [15],\n",
       "          [18],\n",
       "          [21],\n",
       "          [24]]),\n",
       "  tensor([[ 1],\n",
       "          [ 4],\n",
       "          [ 7],\n",
       "          [10],\n",
       "          [13],\n",
       "          [16],\n",
       "          [19],\n",
       "          [22],\n",
       "          [25]]),\n",
       "  tensor([[ 2],\n",
       "          [ 5],\n",
       "          [ 8],\n",
       "          [11],\n",
       "          [14],\n",
       "          [17],\n",
       "          [20],\n",
       "          [23],\n",
       "          [26]])),\n",
       " (tensor([[ 0,  1,  2],\n",
       "          [ 3,  4,  5],\n",
       "          [ 6,  7,  8],\n",
       "          [ 9, 10, 11],\n",
       "          [12, 13, 14],\n",
       "          [15, 16, 17],\n",
       "          [18, 19, 20],\n",
       "          [21, 22, 23],\n",
       "          [24, 25, 26]]),))"
      ]
     },
     "execution_count": 321,
     "metadata": {},
     "output_type": "execute_result"
    }
   ],
   "source": [
    "x = torch.arange(27).reshape(9, 3)\n",
    "y = torch.chunk(x, 3, dim=1)\n",
    "z = torch.split(x, 3, dim=1)\n",
    "x, y, z\n"
   ]
  },
  {
   "cell_type": "code",
   "execution_count": 322,
   "id": "d29d18cb",
   "metadata": {},
   "outputs": [
    {
     "data": {
      "text/plain": [
       "(tensor([[ 0,  1,  2],\n",
       "         [ 3,  4,  5],\n",
       "         [ 6,  7,  8],\n",
       "         [ 9, 10, 11],\n",
       "         [12, 13, 14],\n",
       "         [15, 16, 17],\n",
       "         [18, 19, 20],\n",
       "         [21, 22, 23],\n",
       "         [24, 25, 26]]),\n",
       " (tensor([[ 0],\n",
       "          [ 3],\n",
       "          [ 6],\n",
       "          [ 9],\n",
       "          [12],\n",
       "          [15],\n",
       "          [18],\n",
       "          [21],\n",
       "          [24]]),\n",
       "  tensor([[ 1],\n",
       "          [ 4],\n",
       "          [ 7],\n",
       "          [10],\n",
       "          [13],\n",
       "          [16],\n",
       "          [19],\n",
       "          [22],\n",
       "          [25]]),\n",
       "  tensor([[ 2],\n",
       "          [ 5],\n",
       "          [ 8],\n",
       "          [11],\n",
       "          [14],\n",
       "          [17],\n",
       "          [20],\n",
       "          [23],\n",
       "          [26]])),\n",
       " (tensor([[ 0,  1],\n",
       "          [ 3,  4],\n",
       "          [ 6,  7],\n",
       "          [ 9, 10],\n",
       "          [12, 13],\n",
       "          [15, 16],\n",
       "          [18, 19],\n",
       "          [21, 22],\n",
       "          [24, 25]]),\n",
       "  tensor([[ 2],\n",
       "          [ 5],\n",
       "          [ 8],\n",
       "          [11],\n",
       "          [14],\n",
       "          [17],\n",
       "          [20],\n",
       "          [23],\n",
       "          [26]])))"
      ]
     },
     "execution_count": 322,
     "metadata": {},
     "output_type": "execute_result"
    }
   ],
   "source": [
    "x = torch.arange(27).reshape(9, 3)\n",
    "y = torch.chunk(x, 3, dim=1)\n",
    "z = torch.split(x, 2, dim=1)\n",
    "x, y, z\n"
   ]
  },
  {
   "cell_type": "code",
   "execution_count": 323,
   "id": "6c269204",
   "metadata": {},
   "outputs": [
    {
     "data": {
      "text/plain": [
       "(tensor([ 0,  1,  2,  3,  4,  5,  6,  7,  8,  9, 10, 11, 12, 13]),\n",
       " (tensor([0, 1, 2]),\n",
       "  tensor([3, 4, 5]),\n",
       "  tensor([6, 7, 8]),\n",
       "  tensor([ 9, 10, 11]),\n",
       "  tensor([12, 13])),\n",
       " (tensor([0, 1, 2]),\n",
       "  tensor([3, 4, 5]),\n",
       "  tensor([6, 7]),\n",
       "  tensor([8, 9]),\n",
       "  tensor([10, 11]),\n",
       "  tensor([12, 13])),\n",
       " (tensor([0, 1, 2, 3]),\n",
       "  tensor([4, 5, 6, 7]),\n",
       "  tensor([ 8,  9, 10, 11]),\n",
       "  tensor([12, 13])))"
      ]
     },
     "execution_count": 323,
     "metadata": {},
     "output_type": "execute_result"
    }
   ],
   "source": [
    "x = torch.arange(14)\n",
    "y = x.chunk(6)\n",
    "z = x.tensor_split(6)\n",
    "w = x.split(4)\n",
    "x, y, z, w"
   ]
  },
  {
   "cell_type": "code",
   "execution_count": 324,
   "id": "0eb79e0c",
   "metadata": {},
   "outputs": [
    {
     "data": {
      "text/plain": [
       "(tensor([[ 0,  1,  2,  3,  4,  5,  6,  7,  8,  9, 10, 11],\n",
       "         [12, 13, 14, 15, 16, 17, 18, 19, 20, 21, 22, 23]]),\n",
       " (tensor([[ 0,  1,  2,  3,  4],\n",
       "          [12, 13, 14, 15, 16]]),\n",
       "  tensor([[ 5,  6,  7,  8,  9],\n",
       "          [17, 18, 19, 20, 21]]),\n",
       "  tensor([[10, 11],\n",
       "          [22, 23]])))"
      ]
     },
     "execution_count": 324,
     "metadata": {},
     "output_type": "execute_result"
    }
   ],
   "source": [
    "x = torch.arange(24).reshape(2, 12)\n",
    "y = torch.split(x, 5, dim=-1)\n",
    "x, y"
   ]
  },
  {
   "cell_type": "code",
   "execution_count": 325,
   "id": "29a3f5bd",
   "metadata": {},
   "outputs": [
    {
     "data": {
      "text/plain": [
       "([tensor([0]),\n",
       "  tensor([1]),\n",
       "  tensor([2]),\n",
       "  tensor([3]),\n",
       "  tensor([4]),\n",
       "  tensor([5]),\n",
       "  tensor([6]),\n",
       "  tensor([7]),\n",
       "  tensor([8]),\n",
       "  tensor([9])],\n",
       " tensor([0, 1, 2, 3, 4, 5, 6, 7, 8, 9]))"
      ]
     },
     "execution_count": 325,
     "metadata": {},
     "output_type": "execute_result"
    }
   ],
   "source": [
    "x = [torch.tensor([i]) for i in range(10)]\n",
    "y = torch.cat(x)\n",
    "x, y\n"
   ]
  },
  {
   "cell_type": "code",
   "execution_count": 326,
   "id": "72a8bb2c",
   "metadata": {},
   "outputs": [
    {
     "data": {
      "text/plain": [
       "(torch.Size([8, 3]), torch.Size([4, 6]), torch.Size([2, 4, 3]))"
      ]
     },
     "execution_count": 326,
     "metadata": {},
     "output_type": "execute_result"
    }
   ],
   "source": [
    "x = torch.rand((4, 3))\n",
    "y = torch.randn((4, 3))\n",
    "z = torch.cat([x, y], axis=0)\n",
    "w = torch.cat([x, y], axis=1)\n",
    "u = torch.stack([x, y])\n",
    "\n",
    "z.shape, w.shape, u.shape"
   ]
  },
  {
   "cell_type": "code",
   "execution_count": 327,
   "id": "0024c9a6",
   "metadata": {},
   "outputs": [
    {
     "data": {
      "text/plain": [
       "tensor([[ 0.6641,  0.9510,  0.1006],\n",
       "        [ 0.0280,  0.2296,  0.9799],\n",
       "        [ 0.9500,  0.0135,  0.6213],\n",
       "        [ 0.5674,  0.9417,  0.3501],\n",
       "        [-0.3283,  0.7096,  0.4556],\n",
       "        [ 0.2015, -0.1900,  0.2915],\n",
       "        [ 0.2235,  1.2975, -0.1288],\n",
       "        [ 0.1381,  0.0779,  0.1783]])"
      ]
     },
     "execution_count": 327,
     "metadata": {},
     "output_type": "execute_result"
    }
   ],
   "source": [
    "z"
   ]
  },
  {
   "cell_type": "code",
   "execution_count": 328,
   "id": "5cac57da",
   "metadata": {},
   "outputs": [
    {
     "data": {
      "text/plain": [
       "tensor([[[ 0.6641,  0.9510,  0.1006],\n",
       "         [ 0.0280,  0.2296,  0.9799],\n",
       "         [ 0.9500,  0.0135,  0.6213],\n",
       "         [ 0.5674,  0.9417,  0.3501]],\n",
       "\n",
       "        [[-0.3283,  0.7096,  0.4556],\n",
       "         [ 0.2015, -0.1900,  0.2915],\n",
       "         [ 0.2235,  1.2975, -0.1288],\n",
       "         [ 0.1381,  0.0779,  0.1783]]])"
      ]
     },
     "execution_count": 328,
     "metadata": {},
     "output_type": "execute_result"
    }
   ],
   "source": [
    "u"
   ]
  },
  {
   "cell_type": "code",
   "execution_count": 329,
   "id": "5915bf52",
   "metadata": {},
   "outputs": [
    {
     "data": {
      "text/plain": [
       "(torch.Size([8, 3]), torch.Size([4, 2, 3]))"
      ]
     },
     "execution_count": 329,
     "metadata": {},
     "output_type": "execute_result"
    }
   ],
   "source": [
    "x = torch.rand((4, 3))\n",
    "y = torch.randn((4, 3))\n",
    "z = torch.cat([x, y], axis=0)\n",
    "u = torch.stack([x, y], dim=1)\n",
    "\n",
    "z.shape, u.shape"
   ]
  },
  {
   "cell_type": "code",
   "execution_count": 330,
   "id": "aefb0857",
   "metadata": {},
   "outputs": [
    {
     "data": {
      "text/plain": [
       "(torch.Size([8, 3]), torch.Size([4, 3, 2]))"
      ]
     },
     "execution_count": 330,
     "metadata": {},
     "output_type": "execute_result"
    }
   ],
   "source": [
    "x = torch.rand((4, 3))\n",
    "y = torch.randn((4, 3))\n",
    "z = torch.cat([x, y], axis=0)\n",
    "u = torch.stack([x, y], dim=-1)\n",
    "\n",
    "z.shape, u.shape"
   ]
  },
  {
   "cell_type": "code",
   "execution_count": 331,
   "id": "61b30073",
   "metadata": {},
   "outputs": [
    {
     "data": {
      "text/plain": [
       "(torch.Size([3]), torch.Size([1, 3, 2]))"
      ]
     },
     "execution_count": 331,
     "metadata": {},
     "output_type": "execute_result"
    }
   ],
   "source": [
    "a = torch.tensor([1, 2, 3])\n",
    "b = torch.tensor([4, 5, 6])\n",
    "z = torch.dstack((a,b))\n",
    "a.shape, z.shape"
   ]
  },
  {
   "cell_type": "code",
   "execution_count": 332,
   "id": "b9f5b5c4",
   "metadata": {},
   "outputs": [
    {
     "data": {
      "text/plain": [
       "(tensor([1, 2, 3]), tensor([4, 5, 6]), tensor([1, 2, 3, 4, 5, 6]))"
      ]
     },
     "execution_count": 332,
     "metadata": {},
     "output_type": "execute_result"
    }
   ],
   "source": [
    "x = torch.tensor([1, 2, 3])\n",
    "y = torch.tensor([4, 5, 6])\n",
    "z = torch.hstack([x, y])\n",
    "\n",
    "x, y, z"
   ]
  },
  {
   "cell_type": "code",
   "execution_count": 333,
   "id": "afbabaf5",
   "metadata": {},
   "outputs": [
    {
     "data": {
      "text/plain": [
       "torch.Size([2, 2, 3, 5])"
      ]
     },
     "execution_count": 333,
     "metadata": {},
     "output_type": "execute_result"
    }
   ],
   "source": [
    "x = torch.randn((2, 3, 5))\n",
    "y = torch.randn((2, 3, 5))\n",
    "\n",
    "z = torch.stack([x, y])\n",
    "z.shape"
   ]
  },
  {
   "cell_type": "code",
   "execution_count": 334,
   "id": "3b7aa047",
   "metadata": {},
   "outputs": [
    {
     "data": {
      "text/plain": [
       "(torch.Size([2, 3, 10]), torch.Size([2, 2, 3, 5]))"
      ]
     },
     "execution_count": 334,
     "metadata": {},
     "output_type": "execute_result"
    }
   ],
   "source": [
    "x = torch.randn((2, 3, 5))\n",
    "y = torch.randn((2, 3, 5))\n",
    "\n",
    "z = torch.dstack([x, y])\n",
    "w = torch.stack([x, y])\n",
    "z.shape, w.shape"
   ]
  },
  {
   "cell_type": "code",
   "execution_count": 335,
   "id": "b08d01c7",
   "metadata": {},
   "outputs": [
    {
     "data": {
      "text/plain": [
       "torch.Size([2, 3, 20])"
      ]
     },
     "execution_count": 335,
     "metadata": {},
     "output_type": "execute_result"
    }
   ],
   "source": [
    "x = torch.randn((2, 3, 5))\n",
    "y = torch.randn((2, 3, 15))\n",
    "\n",
    "z = torch.dstack([x, y])\n",
    "# w = torch.stack([x, y]) # error\n",
    "\n",
    "z.shape"
   ]
  },
  {
   "cell_type": "code",
   "execution_count": 336,
   "id": "a920b5a1",
   "metadata": {},
   "outputs": [
    {
     "data": {
      "text/plain": [
       "(torch.Size([2, 6, 5]), torch.Size([2, 2, 3, 5]))"
      ]
     },
     "execution_count": 336,
     "metadata": {},
     "output_type": "execute_result"
    }
   ],
   "source": [
    "x = torch.randn((2, 3, 5))\n",
    "y = torch.randn((2, 3, 5))\n",
    "\n",
    "z = torch.hstack([x, y])\n",
    "w = torch.stack([x, y]) \n",
    "\n",
    "z.shape, w.shape"
   ]
  },
  {
   "cell_type": "code",
   "execution_count": 337,
   "id": "6b084fba",
   "metadata": {},
   "outputs": [
    {
     "data": {
      "text/plain": [
       "torch.Size([2, 16, 5, 10])"
      ]
     },
     "execution_count": 337,
     "metadata": {},
     "output_type": "execute_result"
    }
   ],
   "source": [
    "x = torch.randn((2, 3, 5, 10))\n",
    "y = torch.randn((2, 13, 5, 10))\n",
    "\n",
    "z = torch.hstack([x, y])\n",
    "\n",
    "z.shape"
   ]
  },
  {
   "cell_type": "code",
   "execution_count": 338,
   "id": "2b825799",
   "metadata": {},
   "outputs": [
    {
     "data": {
      "text/plain": [
       "(tensor([[0, 1],\n",
       "         [2, 3],\n",
       "         [4, 5],\n",
       "         [6, 7]]),\n",
       " tensor([[ 0,  1,  2,  3,  4],\n",
       "         [ 5,  6,  7,  8,  9],\n",
       "         [10, 11, 12, 13, 14],\n",
       "         [15, 16, 17, 18, 19]]),\n",
       " tensor([[ 0,  1,  0,  1,  2,  3,  4],\n",
       "         [ 2,  3,  5,  6,  7,  8,  9],\n",
       "         [ 4,  5, 10, 11, 12, 13, 14],\n",
       "         [ 6,  7, 15, 16, 17, 18, 19]]))"
      ]
     },
     "execution_count": 338,
     "metadata": {},
     "output_type": "execute_result"
    }
   ],
   "source": [
    "x = torch.arange(8).reshape(4, 2)\n",
    "y = torch.arange(20).reshape(4, 5)\n",
    "\n",
    "z = torch.hstack([x, y])\n",
    "\n",
    "x, y, z"
   ]
  },
  {
   "cell_type": "code",
   "execution_count": 339,
   "id": "631628b1",
   "metadata": {},
   "outputs": [
    {
     "data": {
      "text/plain": [
       "(tensor([1, 2, 3]),\n",
       " tensor([4, 5, 6]),\n",
       " tensor([[1, 2, 3],\n",
       "         [4, 5, 6]]))"
      ]
     },
     "execution_count": 339,
     "metadata": {},
     "output_type": "execute_result"
    }
   ],
   "source": [
    "x = torch.tensor([1, 2, 3])\n",
    "y = torch.tensor([4, 5, 6])\n",
    "z = torch.vstack([x, y])\n",
    "\n",
    "x, y, z"
   ]
  },
  {
   "cell_type": "code",
   "execution_count": 340,
   "id": "c932e302",
   "metadata": {},
   "outputs": [
    {
     "data": {
      "text/plain": [
       "torch.Size([14, 3, 5, 10])"
      ]
     },
     "execution_count": 340,
     "metadata": {},
     "output_type": "execute_result"
    }
   ],
   "source": [
    "x = torch.randn((2, 3, 5, 10))\n",
    "y = torch.randn((12, 3, 5, 10))\n",
    "\n",
    "z = torch.vstack([x, y])\n",
    "\n",
    "z.shape"
   ]
  },
  {
   "cell_type": "code",
   "execution_count": 341,
   "id": "98e985bb",
   "metadata": {},
   "outputs": [
    {
     "data": {
      "text/plain": [
       "torch.Size([2, 6, 5, 10])"
      ]
     },
     "execution_count": 341,
     "metadata": {},
     "output_type": "execute_result"
    }
   ],
   "source": [
    "x = torch.randn((2, 3, 5, 10))\n",
    "y = torch.randn((2, 3, 5, 10))\n",
    "\n",
    "z = torch.column_stack([x, y])\n",
    "\n",
    "z.shape"
   ]
  },
  {
   "cell_type": "code",
   "execution_count": 342,
   "id": "00103f81",
   "metadata": {},
   "outputs": [
    {
     "data": {
      "text/plain": [
       "(tensor([-1.2116, -0.5383, -0.1504, -0.1749,  1.7689]),\n",
       " tensor([[ 1.2172,  0.5667],\n",
       "         [ 0.0333, -0.4585],\n",
       "         [-0.9698,  1.2196],\n",
       "         [ 0.6280, -0.4454],\n",
       "         [-0.6688,  1.6057]]),\n",
       " tensor([[-1.2116,  1.2172,  0.5667],\n",
       "         [-0.5383,  0.0333, -0.4585],\n",
       "         [-0.1504, -0.9698,  1.2196],\n",
       "         [-0.1749,  0.6280, -0.4454],\n",
       "         [ 1.7689, -0.6688,  1.6057]]))"
      ]
     },
     "execution_count": 342,
     "metadata": {},
     "output_type": "execute_result"
    }
   ],
   "source": [
    "x = torch.randn((5, )) \n",
    "y = torch.randn((5, 2))\n",
    "\n",
    "z = torch.column_stack([x, y])  # same as hstack but can use column x instead of x of shape 5, 1\n",
    "\n",
    "x, y, z"
   ]
  },
  {
   "cell_type": "code",
   "execution_count": 343,
   "id": "81a62f4c",
   "metadata": {},
   "outputs": [
    {
     "data": {
      "text/plain": [
       "tensor([-1.2116, -0.5383, -0.1504, -0.1749,  1.7689])"
      ]
     },
     "execution_count": 343,
     "metadata": {},
     "output_type": "execute_result"
    }
   ],
   "source": [
    "x.T"
   ]
  },
  {
   "cell_type": "code",
   "execution_count": 344,
   "id": "c67ddf93",
   "metadata": {},
   "outputs": [
    {
     "data": {
      "text/plain": [
       "(tensor([[1, 2],\n",
       "         [3, 2]]),\n",
       " tensor([[1, 1],\n",
       "         [4, 3]]))"
      ]
     },
     "execution_count": 344,
     "metadata": {},
     "output_type": "execute_result"
    }
   ],
   "source": [
    "t = torch.tensor([[1, 2], [3, 4]])\n",
    "torch.gather(t, 0, torch.tensor([[0, 0], [1, 0]])),torch.gather(t, 1, torch.tensor([[0, 0], [1, 0]]))"
   ]
  },
  {
   "cell_type": "code",
   "execution_count": 345,
   "id": "08829216",
   "metadata": {},
   "outputs": [
    {
     "data": {
      "text/plain": [
       "tensor([[1, 2, 3],\n",
       "        [4, 2, 3]])"
      ]
     },
     "execution_count": 345,
     "metadata": {},
     "output_type": "execute_result"
    }
   ],
   "source": [
    "t = torch.tensor([[1, 2, 3], [4,5,6]])\n",
    "torch.gather(t, 0, torch.tensor([[0, 0, 0], [1, 0, 0]]))"
   ]
  },
  {
   "cell_type": "code",
   "execution_count": 346,
   "id": "9f9e8226",
   "metadata": {},
   "outputs": [
    {
     "data": {
      "text/plain": [
       "(tensor([[[0.1197, 0.2728],\n",
       "          [0.3819, 0.7567],\n",
       "          [0.6406, 0.2714]],\n",
       " \n",
       "         [[0.5889, 0.6309],\n",
       "          [0.1938, 0.4290],\n",
       "          [0.2140, 0.7119]],\n",
       " \n",
       "         [[0.3032, 0.7327],\n",
       "          [0.8981, 0.7449],\n",
       "          [0.3084, 0.8792]],\n",
       " \n",
       "         [[0.1399, 0.9273],\n",
       "          [0.7912, 0.7858],\n",
       "          [0.5700, 0.4172]]]),\n",
       " tensor([[[0.1197, 0.2728],\n",
       "          [0.3819, 0.7567],\n",
       "          [0.6406, 0.2714]],\n",
       " \n",
       "         [[0.3032, 0.7327],\n",
       "          [0.8981, 0.7449],\n",
       "          [0.3084, 0.8792]]]))"
      ]
     },
     "execution_count": 346,
     "metadata": {},
     "output_type": "execute_result"
    }
   ],
   "source": [
    "x = torch.rand((4, 3, 2))\n",
    "y = torch.index_select(x, 0, torch.tensor([0, 2]))\n",
    "x, y"
   ]
  },
  {
   "cell_type": "code",
   "execution_count": 347,
   "id": "69e53293",
   "metadata": {},
   "outputs": [
    {
     "data": {
      "text/plain": [
       "(tensor([[[0.2588, 0.4315],\n",
       "          [0.4071, 0.9524],\n",
       "          [0.8136, 0.7359]],\n",
       " \n",
       "         [[0.9063, 0.7745],\n",
       "          [0.5473, 0.4315],\n",
       "          [0.9037, 0.2336]],\n",
       " \n",
       "         [[0.7448, 0.3647],\n",
       "          [0.4384, 0.3581],\n",
       "          [0.0176, 0.9219]],\n",
       " \n",
       "         [[0.8851, 0.8574],\n",
       "          [0.1434, 0.1502],\n",
       "          [0.7832, 0.0542]]]),\n",
       " tensor([[[0.2588, 0.4315],\n",
       "          [0.8136, 0.7359]],\n",
       " \n",
       "         [[0.9063, 0.7745],\n",
       "          [0.9037, 0.2336]],\n",
       " \n",
       "         [[0.7448, 0.3647],\n",
       "          [0.0176, 0.9219]],\n",
       " \n",
       "         [[0.8851, 0.8574],\n",
       "          [0.7832, 0.0542]]]),\n",
       " torch.Size([4, 2, 2]))"
      ]
     },
     "execution_count": 347,
     "metadata": {},
     "output_type": "execute_result"
    }
   ],
   "source": [
    "x = torch.rand((4, 3, 2))\n",
    "y = torch.index_select(x, 1, torch.tensor([0, 2]))\n",
    "x, y, y.shape"
   ]
  },
  {
   "cell_type": "code",
   "execution_count": 348,
   "id": "1b6d7b06",
   "metadata": {},
   "outputs": [
    {
     "data": {
      "text/plain": [
       "(tensor([[[0.6126, 0.8412],\n",
       "          [0.6581, 0.4990],\n",
       "          [0.6855, 0.6859]],\n",
       " \n",
       "         [[0.3530, 0.0777],\n",
       "          [0.3486, 0.5891],\n",
       "          [0.3117, 0.4206]],\n",
       " \n",
       "         [[0.7498, 0.5268],\n",
       "          [0.0200, 0.3796],\n",
       "          [0.0572, 0.8437]],\n",
       " \n",
       "         [[0.4454, 0.4888],\n",
       "          [0.4468, 0.3609],\n",
       "          [0.4953, 0.2509]]]),\n",
       " tensor([[[0.6126, 0.8412]],\n",
       " \n",
       "         [[0.3530, 0.0777]],\n",
       " \n",
       "         [[0.7498, 0.5268]],\n",
       " \n",
       "         [[0.4454, 0.4888]]]),\n",
       " torch.Size([4, 1, 2]))"
      ]
     },
     "execution_count": 348,
     "metadata": {},
     "output_type": "execute_result"
    }
   ],
   "source": [
    "x = torch.rand((4, 3, 2))\n",
    "y = torch.index_select(x, 1, torch.tensor([0, ]))\n",
    "x, y, y.shape"
   ]
  },
  {
   "cell_type": "code",
   "execution_count": 349,
   "id": "2f9c4883",
   "metadata": {},
   "outputs": [
    {
     "data": {
      "text/plain": [
       "(tensor([[[-0.8173, -0.5556, -0.8267, -1.2970],\n",
       "          [-0.1974, -0.9643, -0.5133,  2.6278],\n",
       "          [ 0.0178, -0.1282, -0.0944,  0.0526]],\n",
       " \n",
       "         [[ 0.2386, -1.5565,  1.6471, -1.0891],\n",
       "          [-0.1460, -0.2311, -0.4995,  0.3127],\n",
       "          [-0.0772,  0.3426, -0.7574, -1.5660]]]),\n",
       " tensor([2.6278, 1.6471]))"
      ]
     },
     "execution_count": 349,
     "metadata": {},
     "output_type": "execute_result"
    }
   ],
   "source": [
    "torch.manual_seed(10)\n",
    "x = torch.randn((2, 3, 4))\n",
    "y = torch.masked_select(x, x.ge(0.5))\n",
    "x, y\n"
   ]
  },
  {
   "cell_type": "code",
   "execution_count": 350,
   "id": "5182c1d0",
   "metadata": {},
   "outputs": [
    {
     "data": {
      "text/plain": [
       "(tensor([[[-0.8173, -0.5556, -0.8267, -1.2970],\n",
       "          [-0.1974, -0.9643, -0.5133,  2.6278],\n",
       "          [ 0.0178, -0.1282, -0.0944,  0.0526]],\n",
       " \n",
       "         [[ 0.2386, -1.5565,  1.6471, -1.0891],\n",
       "          [-0.1460, -0.2311, -0.4995,  0.3127],\n",
       "          [-0.0772,  0.3426, -0.7574, -1.5660]]]),\n",
       " tensor([2.6278, 1.6471]))"
      ]
     },
     "execution_count": 350,
     "metadata": {},
     "output_type": "execute_result"
    }
   ],
   "source": [
    "torch.manual_seed(10)\n",
    "x = torch.randn((2, 3, 4))\n",
    "y = x[x.ge(0.5)]\n",
    "x, y\n"
   ]
  },
  {
   "cell_type": "code",
   "execution_count": 351,
   "id": "9177f6b7",
   "metadata": {},
   "outputs": [
    {
     "data": {
      "text/plain": [
       "(tensor([[[-0.8173, -0.5556, -0.8267, -1.2970],\n",
       "          [-0.1974, -0.9643, -0.5133,  2.6278],\n",
       "          [ 0.0178, -0.1282, -0.0944,  0.0526]],\n",
       " \n",
       "         [[ 0.2386, -1.5565,  1.6471, -1.0891],\n",
       "          [-0.1460, -0.2311, -0.4995,  0.3127],\n",
       "          [-0.0772,  0.3426, -0.7574, -1.5660]]]),\n",
       " tensor([[0, 1, 3],\n",
       "         [1, 0, 2]]),\n",
       " tensor([[[-1.0000, -1.0000, -1.0000, -1.0000],\n",
       "          [-1.0000, -1.0000, -1.0000,  2.6278],\n",
       "          [-1.0000, -1.0000, -1.0000, -1.0000]],\n",
       " \n",
       "         [[-1.0000, -1.0000,  1.6471, -1.0000],\n",
       "          [-1.0000, -1.0000, -1.0000, -1.0000],\n",
       "          [-1.0000, -1.0000, -1.0000, -1.0000]]]))"
      ]
     },
     "execution_count": 351,
     "metadata": {},
     "output_type": "execute_result"
    }
   ],
   "source": [
    "torch.manual_seed(10)\n",
    "x = torch.randn((2, 3, 4))\n",
    "y = torch.argwhere(x.ge(0.5))\n",
    "z = torch.where(x.ge(0.5), x, -1)\n",
    "x, y, z\n"
   ]
  },
  {
   "cell_type": "code",
   "execution_count": 352,
   "id": "7ac9227f",
   "metadata": {},
   "outputs": [
    {
     "data": {
      "text/plain": [
       "(tensor([[0., 0., 0.],\n",
       "         [0., 0., 0.],\n",
       "         [0., 0., 0.],\n",
       "         [0., 0., 0.],\n",
       "         [0., 0., 0.]]),\n",
       " tensor([[ 0.,  1.,  2.],\n",
       "         [ 3.,  4.,  5.],\n",
       "         [ 6.,  7.,  8.],\n",
       "         [ 9., 10., 11.],\n",
       "         [12., 13., 14.]]),\n",
       " tensor([[ 0.,  2.,  4.],\n",
       "         [ 6.,  8., 10.],\n",
       "         [12., 14., 16.],\n",
       "         [18., 20., 22.],\n",
       "         [24., 26., 28.]]),\n",
       " tensor([[ 3.,  0.,  0.],\n",
       "         [12.,  0.,  0.],\n",
       "         [21.,  0.,  0.],\n",
       "         [30.,  0.,  0.],\n",
       "         [39.,  0.,  0.]]))"
      ]
     },
     "execution_count": 352,
     "metadata": {},
     "output_type": "execute_result"
    }
   ],
   "source": [
    "x = torch.zeros((5, 3))\n",
    "_x = x.clone()\n",
    "y = torch.arange(15, dtype=torch.float32).reshape((5, 3))\n",
    "z = torch.index_add(x, 0, torch.tensor([0,1,2,3,4]), y, alpha=2)\n",
    "w = x.index_add_(1, torch.tensor([0, 0, 0]), y)\n",
    "_x, y, z, w"
   ]
  },
  {
   "cell_type": "code",
   "execution_count": 353,
   "id": "a2b429e1",
   "metadata": {},
   "outputs": [
    {
     "data": {
      "text/plain": [
       "(tensor([[0., 0., 0.],\n",
       "         [0., 0., 0.],\n",
       "         [0., 0., 0.],\n",
       "         [0., 0., 0.]]),\n",
       " tensor([[ 0.,  1.,  2.],\n",
       "         [ 3.,  4.,  5.],\n",
       "         [ 6.,  7.,  8.],\n",
       "         [ 9., 10., 11.]]),\n",
       " tensor([[ 9., 12., 15.],\n",
       "         [ 9., 10., 11.],\n",
       "         [ 0.,  0.,  0.],\n",
       "         [ 0.,  0.,  0.]]))"
      ]
     },
     "execution_count": 353,
     "metadata": {},
     "output_type": "execute_result"
    }
   ],
   "source": [
    "x = torch.zeros((4, 3))\n",
    "_x = x.clone()\n",
    "y = torch.arange(12, dtype=torch.float32).reshape((4, 3))\n",
    "z = torch.index_add(x, 0, torch.tensor([0, 0, 0, 1]), y)\n",
    "x, y, z"
   ]
  },
  {
   "cell_type": "code",
   "execution_count": 354,
   "id": "45d9acf9",
   "metadata": {},
   "outputs": [
    {
     "name": "stderr",
     "output_type": "stream",
     "text": [
      "/tmp/ipykernel_6370/1813383457.py:4: UserWarning: index_reduce() is in beta and the API may change at any time. (Triggered internally at  ../aten/src/ATen/native/TensorAdvancedIndexing.cpp:1037.)\n",
      "  z = torch.index_reduce(x, 0, torch.tensor([0, 0, 0, 1]), y, \"prod\")\n"
     ]
    },
    {
     "data": {
      "text/plain": [
       "(tensor([[1., 1., 1.],\n",
       "         [1., 1., 1.],\n",
       "         [1., 1., 1.],\n",
       "         [1., 1., 1.]]),\n",
       " tensor([[ 0.,  1.,  2.],\n",
       "         [ 3.,  4.,  5.],\n",
       "         [ 6.,  7.,  8.],\n",
       "         [ 9., 10., 11.]]),\n",
       " tensor([[ 0., 28., 80.],\n",
       "         [ 9., 10., 11.],\n",
       "         [ 1.,  1.,  1.],\n",
       "         [ 1.,  1.,  1.]]))"
      ]
     },
     "execution_count": 354,
     "metadata": {},
     "output_type": "execute_result"
    }
   ],
   "source": [
    "x = torch.ones((4, 3))\n",
    "_x = x.clone()\n",
    "y = torch.arange(12, dtype=torch.float32).reshape((4, 3))\n",
    "z = torch.index_reduce(x, 0, torch.tensor([0, 0, 0, 1]), y, \"prod\")\n",
    "x, y, z"
   ]
  },
  {
   "cell_type": "code",
   "execution_count": 355,
   "id": "1795332d",
   "metadata": {},
   "outputs": [
    {
     "data": {
      "text/plain": [
       "(tensor([[1., 1., 1.],\n",
       "         [1., 1., 1.],\n",
       "         [1., 1., 1.],\n",
       "         [1., 1., 1.]]),\n",
       " tensor([[ 0.,  1.,  2.],\n",
       "         [ 3.,  4.,  5.],\n",
       "         [ 6.,  7.,  8.],\n",
       "         [ 9., 10., 11.]]),\n",
       " tensor([[ 0., 28., 80.],\n",
       "         [ 9., 10., 11.],\n",
       "         [ 1.,  1.,  1.],\n",
       "         [ 1.,  1.,  1.]]))"
      ]
     },
     "execution_count": 355,
     "metadata": {},
     "output_type": "execute_result"
    }
   ],
   "source": [
    "x = torch.ones((4, 3))\n",
    "_x = x.clone()\n",
    "y = torch.arange(12, dtype=torch.float32).reshape((4, 3))\n",
    "z = torch.index_reduce(x, 0, torch.tensor([0, 0, 0, 1]), y, \"prod\", include_self=False)\n",
    "x, y, z"
   ]
  },
  {
   "cell_type": "code",
   "execution_count": 356,
   "id": "9d1030cc",
   "metadata": {},
   "outputs": [
    {
     "data": {
      "text/plain": [
       "(torch.Size([2, 4, 5]), torch.Size([4, 5, 2]))"
      ]
     },
     "execution_count": 356,
     "metadata": {},
     "output_type": "execute_result"
    }
   ],
   "source": [
    "x = torch.randn(2, 4, 5)\n",
    "y = torch.movedim(x, 0, 2)\n",
    "x.shape, y.shape"
   ]
  },
  {
   "cell_type": "code",
   "execution_count": 357,
   "id": "89bff73d",
   "metadata": {},
   "outputs": [
    {
     "data": {
      "text/plain": [
       "(torch.Size([2, 3, 4, 5]), torch.Size([2, 4, 3, 5]))"
      ]
     },
     "execution_count": 357,
     "metadata": {},
     "output_type": "execute_result"
    }
   ],
   "source": [
    "x = torch.randn(2, 3, 4, 5)\n",
    "y = torch.movedim(x, 1, 2)\n",
    "x.shape, y.shape"
   ]
  },
  {
   "cell_type": "code",
   "execution_count": 358,
   "id": "16a3b1cf",
   "metadata": {},
   "outputs": [
    {
     "data": {
      "text/plain": [
       "(torch.Size([2, 3, 4, 5]), torch.Size([3, 4, 5, 2]))"
      ]
     },
     "execution_count": 358,
     "metadata": {},
     "output_type": "execute_result"
    }
   ],
   "source": [
    "x = torch.randn(2, 3, 4, 5)\n",
    "y = torch.movedim(x, 0, 3)\n",
    "x.shape, y.shape"
   ]
  },
  {
   "cell_type": "code",
   "execution_count": 359,
   "id": "b53b4a19",
   "metadata": {},
   "outputs": [
    {
     "data": {
      "text/plain": [
       "(torch.Size([2, 3, 4, 5]), torch.Size([2, 3, 5, 4]))"
      ]
     },
     "execution_count": 359,
     "metadata": {},
     "output_type": "execute_result"
    }
   ],
   "source": [
    "x = torch.randn(2, 3, 4, 5)\n",
    "y = torch.movedim(x, -2, -1)\n",
    "x.shape, y.shape"
   ]
  },
  {
   "cell_type": "code",
   "execution_count": 360,
   "id": "943c86b0",
   "metadata": {},
   "outputs": [
    {
     "data": {
      "text/plain": [
       "(torch.Size([2, 3, 4, 5]), torch.Size([2, 4, 5, 3]))"
      ]
     },
     "execution_count": 360,
     "metadata": {},
     "output_type": "execute_result"
    }
   ],
   "source": [
    "x = torch.randn(2, 3, 4, 5)\n",
    "y = torch.movedim(x, 1, -1)\n",
    "x.shape, y.shape"
   ]
  },
  {
   "cell_type": "code",
   "execution_count": 361,
   "id": "10883469",
   "metadata": {},
   "outputs": [
    {
     "data": {
      "text/plain": [
       "(torch.Size([2, 3, 4, 5]), torch.Size([3, 2, 4, 5]))"
      ]
     },
     "execution_count": 361,
     "metadata": {},
     "output_type": "execute_result"
    }
   ],
   "source": [
    "x = torch.randn(2, 3, 4, 5)\n",
    "y = x.permute((1, 0, 2, -1))\n",
    "x.shape, y.shape"
   ]
  },
  {
   "cell_type": "code",
   "execution_count": 362,
   "id": "bab56ab0",
   "metadata": {},
   "outputs": [
    {
     "data": {
      "text/plain": [
       "(torch.Size([2, 3, 4, 5]), torch.Size([3, 2, 4, 5]))"
      ]
     },
     "execution_count": 362,
     "metadata": {},
     "output_type": "execute_result"
    }
   ],
   "source": [
    "x = torch.randn(2, 3, 4, 5)\n",
    "y = torch.movedim(x, (1, 0), (0, 1))\n",
    "x.shape, y.shape"
   ]
  },
  {
   "cell_type": "code",
   "execution_count": 363,
   "id": "87871ea5",
   "metadata": {},
   "outputs": [
    {
     "data": {
      "text/plain": [
       "(torch.Size([2, 3, 4, 5]), torch.Size([3, 4, 2, 5]))"
      ]
     },
     "execution_count": 363,
     "metadata": {},
     "output_type": "execute_result"
    }
   ],
   "source": [
    "x = torch.randn(2, 3, 4, 5)\n",
    "y = torch.movedim(x, (1, 0), (0, 2))\n",
    "x.shape, y.shape"
   ]
  },
  {
   "cell_type": "code",
   "execution_count": 364,
   "id": "c2ede1b4",
   "metadata": {},
   "outputs": [
    {
     "data": {
      "text/plain": [
       "(torch.Size([3, 4, 5]), torch.Size([4, 5, 3]))"
      ]
     },
     "execution_count": 364,
     "metadata": {},
     "output_type": "execute_result"
    }
   ],
   "source": [
    "x = torch.randn( 3, 4, 5)\n",
    "y = torch.movedim(x, (1, 0, 2), (0, 2, 1))\n",
    "x.shape, y.shape"
   ]
  },
  {
   "cell_type": "code",
   "execution_count": 365,
   "id": "f191cb5c",
   "metadata": {},
   "outputs": [
    {
     "data": {
      "text/plain": [
       "(torch.Size([3, 4, 5]), torch.Size([4, 5, 3]))"
      ]
     },
     "execution_count": 365,
     "metadata": {},
     "output_type": "execute_result"
    }
   ],
   "source": [
    "x = torch.randn( 3, 4, 5)\n",
    "y = torch.moveaxis(x, (1, 0, 2), (0, 2, 1))\n",
    "x.shape, y.shape"
   ]
  },
  {
   "cell_type": "code",
   "execution_count": 366,
   "id": "102cdbcd",
   "metadata": {},
   "outputs": [
    {
     "data": {
      "text/plain": [
       "(tensor([[0, 1, 2, 3, 4],\n",
       "         [5, 6, 7, 8, 9]]),\n",
       " tensor([[2, 3, 4],\n",
       "         [7, 8, 9]]))"
      ]
     },
     "execution_count": 366,
     "metadata": {},
     "output_type": "execute_result"
    }
   ],
   "source": [
    "x = torch.arange(10).reshape(2, 5)\n",
    "y = torch.narrow(x, 1, 2, 3)\n",
    "x, y"
   ]
  },
  {
   "cell_type": "code",
   "execution_count": 367,
   "id": "ab6d549b",
   "metadata": {},
   "outputs": [
    {
     "data": {
      "text/plain": [
       "(tensor([[0, 0, 1, 0, 0],\n",
       "         [1, 1, 0, 0, 1]]),\n",
       " tensor([[0, 2],\n",
       "         [1, 0],\n",
       "         [1, 1],\n",
       "         [1, 4]]))"
      ]
     },
     "execution_count": 367,
     "metadata": {},
     "output_type": "execute_result"
    }
   ],
   "source": [
    "x = torch.randint(2, size=(2, 5))\n",
    "y = torch.nonzero(x)\n",
    "x, y"
   ]
  },
  {
   "cell_type": "code",
   "execution_count": 368,
   "id": "5de8f39c",
   "metadata": {},
   "outputs": [
    {
     "data": {
      "text/plain": [
       "(tensor([ 0.0634, -0.5729, -0.2855, -1.6254, -1.0430]),\n",
       " tensor([[ 0.1328, -0.2586, -0.4328,  0.4707, -0.1545],\n",
       "         [ 0.6331, -0.3422,  0.1174, -0.5801,  1.0772]]),\n",
       " tensor([[ 0.0634, -0.5729, -0.2855, -1.6254, -1.0430],\n",
       "         [ 0.1328, -0.2586, -0.4328,  0.4707, -0.1545],\n",
       "         [ 0.6331, -0.3422,  0.1174, -0.5801,  1.0772]]))"
      ]
     },
     "execution_count": 368,
     "metadata": {},
     "output_type": "execute_result"
    }
   ],
   "source": [
    "x = torch.randn((5))\n",
    "y = torch.randn((2, 5))\n",
    "z = torch.row_stack([x, y])\n",
    "x, y, z"
   ]
  },
  {
   "cell_type": "code",
   "execution_count": 369,
   "id": "86d64666",
   "metadata": {},
   "outputs": [
    {
     "data": {
      "text/plain": [
       "(tensor([[[[ 0.3906, -1.7717],\n",
       "           [-0.9503,  0.5643],\n",
       "           [-0.9142, -0.8655]]],\n",
       " \n",
       " \n",
       "         [[[-0.5092, -0.0452],\n",
       "           [ 2.1930, -0.4885],\n",
       "           [ 0.4138,  0.4032]]]]),\n",
       " tensor([[[ 0.3906, -0.9503, -0.9142]],\n",
       " \n",
       "         [[-0.5092,  2.1930,  0.4138]]]))"
      ]
     },
     "execution_count": 369,
     "metadata": {},
     "output_type": "execute_result"
    }
   ],
   "source": [
    "x = torch.randn((2, 1, 3, 2))\n",
    "y = x.select(3, 0)\n",
    "x, y"
   ]
  },
  {
   "cell_type": "code",
   "execution_count": 370,
   "id": "cb9ecf0a",
   "metadata": {},
   "outputs": [
    {
     "data": {
      "text/plain": [
       "(tensor([[[[-1.4470, -0.7547],\n",
       "           [-0.4344, -0.3228],\n",
       "           [-0.9116, -3.4322]]],\n",
       " \n",
       " \n",
       "         [[[-1.8018, -1.5609],\n",
       "           [ 0.0479,  0.0819],\n",
       "           [ 1.1457,  0.4785]]]]),\n",
       " tensor([[[-1.4470, -0.4344, -0.9116]],\n",
       " \n",
       "         [[-1.8018,  0.0479,  1.1457]]]))"
      ]
     },
     "execution_count": 370,
     "metadata": {},
     "output_type": "execute_result"
    }
   ],
   "source": [
    "x = torch.randn((2, 1, 3, 2))\n",
    "y = x.select(-1, 0)\n",
    "x, y"
   ]
  },
  {
   "cell_type": "code",
   "execution_count": 371,
   "id": "bec98db1",
   "metadata": {},
   "outputs": [
    {
     "data": {
      "text/plain": [
       "(tensor([[ 1,  2,  3,  4,  5],\n",
       "         [ 6,  7,  8,  9, 10]]),\n",
       " tensor([[ 1,  0,  3,  4,  5],\n",
       "         [ 0,  2,  0,  0,  0],\n",
       "         [ 0,  7,  0,  0,  0],\n",
       "         [ 6,  0,  8,  9, 10]]))"
      ]
     },
     "execution_count": 371,
     "metadata": {},
     "output_type": "execute_result"
    }
   ],
   "source": [
    "x = torch.arange(1, 11).reshape((2, 5))\n",
    "y = torch.zeros(4, 5, dtype=x.dtype).scatter_(0, torch.tensor([[0, 1, 0, 0,0,], [3, 2,3,3,3] ]), x)\n",
    "x, y"
   ]
  },
  {
   "cell_type": "code",
   "execution_count": 372,
   "id": "411c8056",
   "metadata": {},
   "outputs": [
    {
     "data": {
      "text/plain": [
       "(tensor([[ 1,  2,  3,  4,  5],\n",
       "         [ 6,  7,  8,  9, 10]]),\n",
       " tensor([[1, 2, 3, 0, 0],\n",
       "         [6, 0, 7, 0, 8],\n",
       "         [0, 0, 0, 0, 0],\n",
       "         [0, 0, 0, 0, 0]]))"
      ]
     },
     "execution_count": 372,
     "metadata": {},
     "output_type": "execute_result"
    }
   ],
   "source": [
    "x = torch.arange(1, 11).reshape((2, 5))\n",
    "y = torch.zeros(4, 5, dtype=x.dtype).scatter_(1, torch.tensor([[0,1,2], [0,2,4] ]), x)\n",
    "x, y"
   ]
  },
  {
   "cell_type": "code",
   "execution_count": 373,
   "id": "f9b56155",
   "metadata": {},
   "outputs": [
    {
     "data": {
      "text/plain": [
       "(tensor([[ 1,  2,  3,  4,  5],\n",
       "         [ 6,  7,  8,  9, 10]]),\n",
       " tensor([[5, 3, 1, 1, 1],\n",
       "         [7, 1, 8, 1, 9],\n",
       "         [1, 1, 1, 1, 1],\n",
       "         [1, 1, 1, 1, 1]]))"
      ]
     },
     "execution_count": 373,
     "metadata": {},
     "output_type": "execute_result"
    }
   ],
   "source": [
    "x = torch.arange(1, 11).reshape((2, 5))\n",
    "y = torch.ones(4, 5, dtype=x.dtype).scatter_(1, torch.tensor([[0,1,0], [0,2,4] ]), x, reduce=\"add\")\n",
    "x, y"
   ]
  },
  {
   "cell_type": "code",
   "execution_count": 374,
   "id": "6dc48da6",
   "metadata": {},
   "outputs": [],
   "source": [
    "# x = torch.zeros(8, 8)\n",
    "# y = torch.ones(8)\n",
    "# z = x.slice_scatter(y, start=6)\n",
    "# z"
   ]
  },
  {
   "cell_type": "code",
   "execution_count": 375,
   "id": "bf977c24",
   "metadata": {},
   "outputs": [],
   "source": [
    "# x = torch.zeros(2, 2)\n",
    "# y = torch.ones(2)\n",
    "# x.select_scatter(b, 0, 0)"
   ]
  },
  {
   "cell_type": "code",
   "execution_count": 376,
   "id": "317df56d",
   "metadata": {},
   "outputs": [
    {
     "data": {
      "text/plain": [
       "torch.Size([2, 2, 2])"
      ]
     },
     "execution_count": 376,
     "metadata": {},
     "output_type": "execute_result"
    }
   ],
   "source": [
    "x = torch.zeros(2, 1, 2, 1, 2)\n",
    "y = torch.squeeze(x)\n",
    "y.shape\n"
   ]
  },
  {
   "cell_type": "code",
   "execution_count": 377,
   "id": "882d0bfa",
   "metadata": {},
   "outputs": [
    {
     "data": {
      "text/plain": [
       "torch.Size([2, 1, 2, 2])"
      ]
     },
     "execution_count": 377,
     "metadata": {},
     "output_type": "execute_result"
    }
   ],
   "source": [
    "x = torch.zeros(2, 1, 2, 1, 2)\n",
    "y = torch.squeeze(x, -2)\n",
    "y.shape\n"
   ]
  },
  {
   "cell_type": "code",
   "execution_count": 378,
   "id": "567ea9e0",
   "metadata": {},
   "outputs": [
    {
     "data": {
      "text/plain": [
       "(torch.Size([2, 3, 5]), torch.Size([5, 3, 2]))"
      ]
     },
     "execution_count": 378,
     "metadata": {},
     "output_type": "execute_result"
    }
   ],
   "source": [
    "x = torch.rand(2, 3, 5)\n",
    "\n",
    "y = torch.transpose(x, 0, 2)\n",
    "x.shape, y.shape"
   ]
  },
  {
   "cell_type": "code",
   "execution_count": 379,
   "id": "ef2aa58f",
   "metadata": {},
   "outputs": [
    {
     "data": {
      "text/plain": [
       "(torch.Size([2, 3, 5]), torch.Size([5, 3, 2]))"
      ]
     },
     "execution_count": 379,
     "metadata": {},
     "output_type": "execute_result"
    }
   ],
   "source": [
    "x = torch.rand(2, 3, 5)\n",
    "\n",
    "y = torch.swapaxes(x, 0, 2)\n",
    "x.shape, y.shape"
   ]
  },
  {
   "cell_type": "code",
   "execution_count": 380,
   "id": "4eb92f16",
   "metadata": {},
   "outputs": [
    {
     "data": {
      "text/plain": [
       "(torch.Size([2, 3, 5]), torch.Size([5, 3, 2]))"
      ]
     },
     "execution_count": 380,
     "metadata": {},
     "output_type": "execute_result"
    }
   ],
   "source": [
    "x = torch.rand(2, 3, 5)\n",
    "\n",
    "y = torch.swapdims(x, 0, 2)\n",
    "x.shape, y.shape"
   ]
  },
  {
   "cell_type": "code",
   "execution_count": 381,
   "id": "8cd534cf",
   "metadata": {},
   "outputs": [
    {
     "data": {
      "text/plain": [
       "torch.Size([4, 2])"
      ]
     },
     "execution_count": 381,
     "metadata": {},
     "output_type": "execute_result"
    }
   ],
   "source": [
    "x = torch.rand(2, 3, 5)\n",
    "# torch.t(x).shape # error shape 3D\n",
    "x = torch.rand(2, 4)\n",
    "x.t().shape"
   ]
  },
  {
   "cell_type": "code",
   "execution_count": 382,
   "id": "5f276e45",
   "metadata": {},
   "outputs": [
    {
     "data": {
      "text/plain": [
       "tensor([4, 5, 8])"
      ]
     },
     "execution_count": 382,
     "metadata": {},
     "output_type": "execute_result"
    }
   ],
   "source": [
    "x= torch.tensor([[4, 3, 5],\n",
    "                    [6, 7, 8]])\n",
    "torch.take(x, torch.tensor([0, 2, 5]))"
   ]
  },
  {
   "cell_type": "code",
   "execution_count": 383,
   "id": "65d8a2c9",
   "metadata": {},
   "outputs": [
    {
     "data": {
      "text/plain": [
       "(tensor([[ 0,  1,  2],\n",
       "         [ 3,  4,  5],\n",
       "         [70,  7,  8]]),\n",
       " tensor(6),\n",
       " tensor([70]))"
      ]
     },
     "execution_count": 383,
     "metadata": {},
     "output_type": "execute_result"
    }
   ],
   "source": [
    "x = torch.arange(9).reshape(3, 3)\n",
    "x[-1][0] = 70\n",
    "\n",
    "idx = torch.argmax(x)\n",
    "x, idx, x.take_along_dim(idx, )"
   ]
  },
  {
   "cell_type": "code",
   "execution_count": 384,
   "id": "35977cfc",
   "metadata": {},
   "outputs": [
    {
     "data": {
      "text/plain": [
       "(tensor([[ 0,  1,  2],\n",
       "         [ 3,  4,  5],\n",
       "         [70,  7,  8]]),\n",
       " tensor([[0, 1, 2],\n",
       "         [0, 1, 2],\n",
       "         [1, 2, 0]]),\n",
       " tensor([[ 0,  1,  2],\n",
       "         [ 3,  4,  5],\n",
       "         [ 7,  8, 70]]))"
      ]
     },
     "execution_count": 384,
     "metadata": {},
     "output_type": "execute_result"
    }
   ],
   "source": [
    "x = torch.arange(9).reshape(3, 3)\n",
    "x[-1][0] = 70\n",
    "\n",
    "idx = torch.argsort(x)\n",
    "x, idx, x.take_along_dim(idx, 1)"
   ]
  },
  {
   "cell_type": "code",
   "execution_count": 385,
   "id": "5b1454b5",
   "metadata": {},
   "outputs": [
    {
     "data": {
      "text/plain": [
       "(tensor([1, 2, 3]), tensor([1, 2, 3, 1, 2, 3]))"
      ]
     },
     "execution_count": 385,
     "metadata": {},
     "output_type": "execute_result"
    }
   ],
   "source": [
    "x = torch.tensor([1,2,3])\n",
    "y = torch.tile(x, (2,\n",
    "                   ))\n",
    "x, y"
   ]
  },
  {
   "cell_type": "code",
   "execution_count": 386,
   "id": "6d29c44b",
   "metadata": {},
   "outputs": [
    {
     "data": {
      "text/plain": [
       "(tensor([1, 2, 3]),\n",
       " tensor([[1, 2, 3, 1, 2, 3, 1, 2, 3],\n",
       "         [1, 2, 3, 1, 2, 3, 1, 2, 3]]))"
      ]
     },
     "execution_count": 386,
     "metadata": {},
     "output_type": "execute_result"
    }
   ],
   "source": [
    "x = torch.tensor([1,2,3])\n",
    "y = torch.tile(x, (2,3,\n",
    "                   ))\n",
    "x, y"
   ]
  },
  {
   "cell_type": "code",
   "execution_count": 387,
   "id": "8531bc1f",
   "metadata": {},
   "outputs": [
    {
     "data": {
      "text/plain": [
       "(tensor([1, 2, 3]),\n",
       " tensor([[[1, 2, 3, 1, 2, 3, 1, 2, 3, 1, 2, 3],\n",
       "          [1, 2, 3, 1, 2, 3, 1, 2, 3, 1, 2, 3],\n",
       "          [1, 2, 3, 1, 2, 3, 1, 2, 3, 1, 2, 3]],\n",
       " \n",
       "         [[1, 2, 3, 1, 2, 3, 1, 2, 3, 1, 2, 3],\n",
       "          [1, 2, 3, 1, 2, 3, 1, 2, 3, 1, 2, 3],\n",
       "          [1, 2, 3, 1, 2, 3, 1, 2, 3, 1, 2, 3]]]),\n",
       " torch.Size([2, 3, 12]))"
      ]
     },
     "execution_count": 387,
     "metadata": {},
     "output_type": "execute_result"
    }
   ],
   "source": [
    "x = torch.tensor([1,2,3])\n",
    "y = torch.tile(x, (2,3,4\n",
    "                   ))\n",
    "x, y, y.shape"
   ]
  },
  {
   "cell_type": "code",
   "execution_count": 388,
   "id": "2ba07b32",
   "metadata": {},
   "outputs": [
    {
     "data": {
      "text/plain": [
       "(tensor([0, 1, 2]), tensor([3, 4, 5]), tensor([6, 7, 8]))"
      ]
     },
     "execution_count": 388,
     "metadata": {},
     "output_type": "execute_result"
    }
   ],
   "source": [
    "torch.unbind(torch.arange(9).reshape(3,3))"
   ]
  },
  {
   "cell_type": "code",
   "execution_count": 389,
   "id": "595c01f6",
   "metadata": {},
   "outputs": [
    {
     "data": {
      "text/plain": [
       "(tensor([0, 3, 6]), tensor([1, 4, 7]), tensor([2, 5, 8]))"
      ]
     },
     "execution_count": 389,
     "metadata": {},
     "output_type": "execute_result"
    }
   ],
   "source": [
    "torch.unbind(torch.arange(9).reshape(3,3), dim=1)"
   ]
  },
  {
   "cell_type": "code",
   "execution_count": 390,
   "id": "a127bdf7",
   "metadata": {},
   "outputs": [
    {
     "data": {
      "text/plain": [
       "(tensor([1, 2, 3]), tensor([[1, 2, 3]]))"
      ]
     },
     "execution_count": 390,
     "metadata": {},
     "output_type": "execute_result"
    }
   ],
   "source": [
    "x = torch.tensor([1,2,3])\n",
    "y = torch.unsqueeze(x, 0)\n",
    "x, y"
   ]
  },
  {
   "cell_type": "code",
   "execution_count": 391,
   "id": "d85a3aa1",
   "metadata": {},
   "outputs": [
    {
     "data": {
      "text/plain": [
       "(tensor([[1, 2, 3],\n",
       "         [4, 5, 6]]),\n",
       " tensor([[[1, 2, 3]],\n",
       " \n",
       "         [[4, 5, 6]]]),\n",
       " torch.Size([2, 1, 3]))"
      ]
     },
     "execution_count": 391,
     "metadata": {},
     "output_type": "execute_result"
    }
   ],
   "source": [
    "x = torch.tensor([[1,2,3], [4,5,6]])\n",
    "y = torch.unsqueeze(x, 1)\n",
    "x, y, y.shape"
   ]
  },
  {
   "cell_type": "code",
   "execution_count": null,
   "id": "29d1e945",
   "metadata": {},
   "outputs": [],
   "source": []
  }
 ],
 "metadata": {
  "kernelspec": {
   "display_name": "Python 3.9.10 ('env')",
   "language": "python",
   "name": "python3"
  },
  "language_info": {
   "codemirror_mode": {
    "name": "ipython",
    "version": 3
   },
   "file_extension": ".py",
   "mimetype": "text/x-python",
   "name": "python",
   "nbconvert_exporter": "python",
   "pygments_lexer": "ipython3",
   "version": "3.9.10"
  },
  "toc-showtags": false,
  "vscode": {
   "interpreter": {
    "hash": "f7d1c444690c64dc164009c81e7c7e493213a917c1ee917acb226d895d2dc691"
   }
  }
 },
 "nbformat": 4,
 "nbformat_minor": 5
}
