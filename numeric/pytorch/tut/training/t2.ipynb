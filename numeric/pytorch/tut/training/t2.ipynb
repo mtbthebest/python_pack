{
 "cells": [
  {
   "cell_type": "code",
   "execution_count": 2,
   "metadata": {
    "tags": []
   },
   "outputs": [],
   "source": [
    "import torch\n",
    "import numpy as np\n",
    "import array\n",
    "import math\n",
    "from torch import nn\n",
    "import torch.nn.functional as F\n"
   ]
  },
  {
   "cell_type": "code",
   "execution_count": 3,
   "metadata": {
    "tags": []
   },
   "outputs": [],
   "source": [
    "from torch.optim import Adam"
   ]
  },
  {
   "cell_type": "code",
   "execution_count": 4,
   "metadata": {
    "tags": []
   },
   "outputs": [
    {
     "data": {
      "text/plain": [
       "torch.optim.adam.Adam"
      ]
     },
     "execution_count": 4,
     "metadata": {},
     "output_type": "execute_result"
    }
   ],
   "source": [
    "Adam"
   ]
  },
  {
   "cell_type": "code",
   "execution_count": 5,
   "metadata": {},
   "outputs": [
    {
     "data": {
      "text/plain": [
       "-2"
      ]
     },
     "execution_count": 5,
     "metadata": {},
     "output_type": "execute_result"
    }
   ],
   "source": [
    "math.ceil(-2.2)"
   ]
  },
  {
   "cell_type": "code",
   "execution_count": 6,
   "metadata": {},
   "outputs": [
    {
     "data": {
      "text/plain": [
       "tensor([[[0, 1, 2, 3, 4, 5, 6, 7, 8, 9]]])"
      ]
     },
     "execution_count": 6,
     "metadata": {},
     "output_type": "execute_result"
    }
   ],
   "source": [
    "torch.arange(10)[None, None, :]"
   ]
  },
  {
   "cell_type": "code",
   "execution_count": 7,
   "metadata": {},
   "outputs": [
    {
     "name": "stderr",
     "output_type": "stream",
     "text": [
      "/home/mtb/env/lib/python3.9/site-packages/torch/nn/modules/lazy.py:180: UserWarning: Lazy modules are a new feature under heavy development so changes to the API or functionality can happen at any moment.\n",
      "  warnings.warn('Lazy modules are a new feature under heavy development '\n"
     ]
    }
   ],
   "source": [
    "net = nn.LazyLinear(256)"
   ]
  },
  {
   "cell_type": "code",
   "execution_count": 8,
   "metadata": {},
   "outputs": [
    {
     "data": {
      "text/plain": [
       "torch.Size([0])"
      ]
     },
     "execution_count": 8,
     "metadata": {},
     "output_type": "execute_result"
    }
   ],
   "source": [
    "net.weight.size()"
   ]
  },
  {
   "cell_type": "code",
   "execution_count": 9,
   "metadata": {},
   "outputs": [],
   "source": [
    "x = torch.randn((10, 30))"
   ]
  },
  {
   "cell_type": "code",
   "execution_count": 10,
   "metadata": {},
   "outputs": [],
   "source": [
    "y = net(x)"
   ]
  },
  {
   "cell_type": "code",
   "execution_count": 11,
   "metadata": {},
   "outputs": [
    {
     "data": {
      "text/plain": [
       "torch.Size([10, 256])"
      ]
     },
     "execution_count": 11,
     "metadata": {},
     "output_type": "execute_result"
    }
   ],
   "source": [
    "y.shape"
   ]
  },
  {
   "cell_type": "code",
   "execution_count": 12,
   "metadata": {},
   "outputs": [
    {
     "data": {
      "text/plain": [
       "torch.Size([256, 30])"
      ]
     },
     "execution_count": 12,
     "metadata": {},
     "output_type": "execute_result"
    }
   ],
   "source": [
    "net.weight.shape"
   ]
  },
  {
   "cell_type": "code",
   "execution_count": 13,
   "metadata": {},
   "outputs": [
    {
     "data": {
      "text/plain": [
       "tensor([[ 7.6156e-01,  2.2416e-01, -6.2062e-01,  4.0938e-01, -2.2079e-01,\n",
       "         -9.5154e-01, -9.3815e-01,  8.2117e-01, -1.8201e+00, -1.4522e+00,\n",
       "         -1.2727e-01, -1.1335e+00, -1.4772e+00, -1.2622e+00,  8.8334e-01,\n",
       "         -4.3175e-01, -4.0975e-01,  4.5277e-01, -2.7047e-01,  2.0095e+00,\n",
       "         -1.5936e+00,  1.4700e+00,  1.6986e+00, -1.2798e+00, -3.0017e+00,\n",
       "         -5.9000e-01, -1.1693e-01,  4.5831e-01,  1.5630e+00, -1.5814e-01],\n",
       "        [-1.1859e+00, -1.0206e-01, -1.0175e+00,  1.1703e+00,  3.5414e-01,\n",
       "          1.6072e+00, -9.0198e-01, -6.3206e-01,  1.3173e+00,  7.3807e-01,\n",
       "         -1.6103e-01,  2.1051e-01,  9.5457e-01, -5.1960e-01,  3.2614e-01,\n",
       "         -1.0304e+00, -2.9474e-01,  1.0184e+00, -1.0407e+00, -2.1810e-01,\n",
       "          1.2669e+00, -6.9635e-01,  1.0776e-01,  6.4657e-01, -2.9427e-01,\n",
       "         -1.4450e+00,  4.0426e-01,  1.3840e+00, -8.1841e-01,  1.0840e+00],\n",
       "        [ 2.8282e-01,  1.7083e-01,  1.9828e-02, -7.3426e-01,  2.1143e-01,\n",
       "         -1.2155e+00,  5.0430e-01,  9.3777e-01,  8.1694e-01, -1.0562e-01,\n",
       "          1.5497e+00,  5.8259e-01,  7.7262e-02,  1.6845e+00, -1.4896e+00,\n",
       "         -8.7987e-02, -1.0919e+00,  1.3655e+00,  1.6922e-02,  5.6531e-01,\n",
       "         -1.1235e+00,  1.4124e+00, -1.5233e+00, -8.0443e-01,  4.7545e-01,\n",
       "         -3.5765e-01,  1.3020e+00,  7.6841e-02, -2.3570e+00,  4.4981e-02],\n",
       "        [-1.1073e-01,  2.1331e-01, -1.0177e+00,  1.4283e-01, -2.1083e+00,\n",
       "          3.5516e-01,  1.0148e+00, -9.8489e-01,  4.1148e-02, -5.6249e-01,\n",
       "          4.7800e-01,  1.2725e+00, -1.1164e+00,  1.3294e-01, -1.0909e+00,\n",
       "         -3.6433e+00,  3.2136e-01,  1.3627e+00,  7.6291e-01,  8.7301e-01,\n",
       "         -5.6854e-01,  1.1652e+00, -1.8673e+00,  3.6275e-01,  1.4992e+00,\n",
       "         -6.1866e-01,  1.0800e+00, -7.5044e-01,  5.1406e-01,  2.9559e+00],\n",
       "        [ 3.1969e-01, -9.1770e-02,  2.1884e+00,  6.3736e-01, -1.4636e+00,\n",
       "          7.5187e-01, -6.0137e-01,  8.9028e-01,  1.1327e+00, -3.9886e-03,\n",
       "         -2.7043e-01, -2.9323e-03,  4.3195e-01,  3.6161e-01, -2.1862e-01,\n",
       "         -4.2217e-01,  1.1475e+00, -8.1822e-01,  4.4147e-01,  4.6128e-01,\n",
       "         -6.8586e-01,  1.3104e+00,  9.7762e-01, -8.9785e-01, -2.4395e+00,\n",
       "         -1.1153e+00,  2.4294e+00, -1.0103e+00, -1.6775e+00,  2.4599e-01],\n",
       "        [-1.0674e+00, -3.4352e-01,  1.2054e+00,  3.2612e-01,  6.2129e-01,\n",
       "         -1.0812e+00,  9.0886e-02, -9.6978e-01,  1.2768e+00,  8.1821e-01,\n",
       "          4.5186e-01,  1.7817e+00,  4.0097e-01,  4.9698e-01,  8.5906e-01,\n",
       "          7.2965e-01, -2.6836e-01,  5.2555e-01, -1.2972e+00,  5.1536e-01,\n",
       "         -7.3793e-01,  1.1705e-01, -4.3488e-01,  5.5081e-01,  1.2049e+00,\n",
       "         -9.1874e-01,  4.2706e-01, -8.7224e-01, -4.5616e-01, -8.3806e-01],\n",
       "        [ 4.4100e-01,  1.7160e-02, -6.8717e-01,  1.6360e+00, -6.1404e-01,\n",
       "         -4.0949e-01, -1.4601e+00, -1.7070e+00,  4.7801e-01,  9.8480e-01,\n",
       "         -9.1575e-01,  1.2975e+00, -1.9429e-01, -2.5435e+00,  6.3935e-02,\n",
       "          1.4658e+00, -1.9793e+00,  1.0352e-01, -4.3778e-01,  2.2962e-01,\n",
       "          6.8356e-01,  5.2588e-01, -1.6387e+00,  1.9321e+00, -3.0785e+00,\n",
       "         -1.1291e+00, -9.3366e-01,  6.0448e-01,  5.9599e-01,  1.3521e+00],\n",
       "        [ 3.8758e-01,  2.4513e-02,  1.1695e+00,  4.3923e-01, -3.5258e-02,\n",
       "          1.6481e+00, -3.7318e-01, -1.0033e+00,  1.4587e+00,  1.3176e+00,\n",
       "         -1.4921e+00, -8.5830e-01, -1.2305e+00, -2.0405e-01, -8.8352e-01,\n",
       "          7.5491e-02,  8.4597e-01, -1.2890e+00, -5.1712e-01,  3.0274e-01,\n",
       "         -6.1571e-02, -1.9013e+00,  9.3647e-01, -2.2715e-01, -8.1699e-01,\n",
       "         -2.9211e-01, -1.7466e+00,  1.3624e+00,  5.2226e-01, -1.3297e+00],\n",
       "        [-5.8154e-01, -2.5865e-02, -2.1228e+00, -1.0404e+00,  1.0749e+00,\n",
       "         -1.4214e+00,  2.4459e-01, -1.3607e+00, -1.9717e-01, -1.2305e+00,\n",
       "          1.7430e+00, -1.0207e+00,  9.1177e-01,  1.6036e-01,  1.7847e+00,\n",
       "         -4.2765e-02, -6.7315e-01,  7.0620e-01, -6.6108e-02,  5.3985e-01,\n",
       "          3.3999e-01,  1.4644e-01,  2.3507e-01, -1.3524e-01, -1.0918e+00,\n",
       "          1.1836e+00,  1.5375e-01, -6.0674e-01,  1.9783e-01,  2.2066e-01],\n",
       "        [ 2.2536e+00,  3.7752e-01,  4.2995e-01, -3.9471e-01,  7.9218e-01,\n",
       "         -1.8003e-01,  8.7715e-01,  5.9121e-01,  8.7063e-01, -5.7466e-01,\n",
       "          1.2433e+00,  1.8882e+00, -4.0605e-01,  1.8592e+00,  1.7207e+00,\n",
       "         -4.1632e-02,  1.4089e-01,  1.1812e+00, -1.5754e+00, -6.9097e-02,\n",
       "          1.8431e+00,  3.8182e-02, -5.2407e-01,  1.3960e+00, -3.4882e-01,\n",
       "         -5.6062e-01, -1.5886e+00, -6.5436e-02,  1.4764e+00, -1.6549e+00]],\n",
       "       device='cuda:0')"
      ]
     },
     "execution_count": 13,
     "metadata": {},
     "output_type": "execute_result"
    }
   ],
   "source": [
    "x.to(device='cuda:0') "
   ]
  },
  {
   "cell_type": "code",
   "execution_count": 14,
   "metadata": {},
   "outputs": [
    {
     "data": {
      "text/plain": [
       "device(type='cpu')"
      ]
     },
     "execution_count": 14,
     "metadata": {},
     "output_type": "execute_result"
    }
   ],
   "source": [
    "x.device"
   ]
  },
  {
   "cell_type": "code",
   "execution_count": 15,
   "metadata": {},
   "outputs": [],
   "source": [
    "torch.manual_seed(10)\n",
    "x = torch.empty((10, 5000)).uniform_(-4, 4)"
   ]
  },
  {
   "cell_type": "code",
   "execution_count": 16,
   "metadata": {},
   "outputs": [],
   "source": [
    "y = x.clone()"
   ]
  },
  {
   "cell_type": "code",
   "execution_count": 17,
   "metadata": {},
   "outputs": [
    {
     "data": {
      "text/plain": [
       "tensor([[-0.3695,  0.2178, -0.8544,  ..., -0.5767,  0.0687,  0.9357],\n",
       "        [ 0.7685, -1.7597, -0.5440,  ...,  0.0067, -0.1785, -0.2007],\n",
       "        [-1.3787,  1.0032,  1.5139,  ..., -0.0311, -0.7310, -0.7357],\n",
       "        ...,\n",
       "        [-0.6211,  1.6740,  1.3860,  ..., -0.3418, -0.1636, -0.1092],\n",
       "        [ 1.5157, -0.0277,  0.8166,  ...,  1.1793,  0.7833, -0.5789],\n",
       "        [-0.3016,  1.0526,  0.3381,  ..., -0.3096,  0.3056, -1.4316]])"
      ]
     },
     "execution_count": 17,
     "metadata": {},
     "output_type": "execute_result"
    }
   ],
   "source": [
    "torch.normal(0., 1., size=(10, 5000))"
   ]
  },
  {
   "cell_type": "code",
   "execution_count": 18,
   "metadata": {},
   "outputs": [
    {
     "data": {
      "text/plain": [
       "tensor([[ 0.3510,  1.1682,  1.3972,  ..., -0.5403, -1.8046,  1.1958],\n",
       "        [ 1.4531, -0.5814, -0.5592,  ..., -2.4647,  0.2427, -0.5404],\n",
       "        [ 0.0337,  0.9904, -0.9932,  ..., -2.0111, -0.2497,  1.1261],\n",
       "        ...,\n",
       "        [-0.3714,  1.3240, -0.1600,  ..., -1.9292,  1.6265,  0.3676],\n",
       "        [ 0.6357,  0.2587,  0.5304,  ..., -1.2510,  0.8620,  1.0873],\n",
       "        [ 0.4514, -0.1732,  0.4199,  ...,  0.6106,  1.2206, -1.0866]])"
      ]
     },
     "execution_count": 18,
     "metadata": {},
     "output_type": "execute_result"
    }
   ],
   "source": [
    "x.normal_(0, 1)"
   ]
  },
  {
   "cell_type": "code",
   "execution_count": 19,
   "metadata": {},
   "outputs": [
    {
     "data": {
      "text/plain": [
       "tensor([[ 0.3887, -0.0518, -0.6590,  ..., -0.3228,  0.7122, -1.4934],\n",
       "        [ 1.3387,  2.3876,  0.5639,  ...,  0.8801, -0.1235, -0.5796],\n",
       "        [ 1.4232, -0.8363,  0.4545,  ...,  0.4513, -0.0427, -0.6412],\n",
       "        ...,\n",
       "        [ 0.0268,  0.0838, -0.0644,  ...,  0.5830, -0.5323, -0.2533],\n",
       "        [ 0.1744,  0.6938, -0.6699,  ..., -0.5077, -0.0810,  0.5587],\n",
       "        [ 0.1309,  0.6458,  1.9199,  ...,  0.8345, -1.2508,  0.6531]])"
      ]
     },
     "execution_count": 19,
     "metadata": {},
     "output_type": "execute_result"
    }
   ],
   "source": [
    "x.normal_(0, 1)"
   ]
  },
  {
   "cell_type": "code",
   "execution_count": 20,
   "metadata": {},
   "outputs": [
    {
     "data": {
      "text/plain": [
       "tensor([[ 0.3887, -0.0518, -0.6590,  ..., -0.3228,  0.7122, -1.4934],\n",
       "        [ 1.3387,  2.3876,  0.5639,  ...,  0.8801, -0.1235, -0.5796],\n",
       "        [ 1.4232, -0.8363,  0.4545,  ...,  0.4513, -0.0427, -0.6412],\n",
       "        ...,\n",
       "        [ 0.0268,  0.0838, -0.0644,  ...,  0.5830, -0.5323, -0.2533],\n",
       "        [ 0.1744,  0.6938, -0.6699,  ..., -0.5077, -0.0810,  0.5587],\n",
       "        [ 0.1309,  0.6458,  1.9199,  ...,  0.8345, -1.2508,  0.6531]])"
      ]
     },
     "execution_count": 20,
     "metadata": {},
     "output_type": "execute_result"
    }
   ],
   "source": [
    "x"
   ]
  },
  {
   "cell_type": "code",
   "execution_count": 21,
   "metadata": {},
   "outputs": [
    {
     "data": {
      "text/plain": [
       "tensor([ 0.0124, -0.0021,  0.0146, -0.0086,  0.0119, -0.0051,  0.0012,  0.0191,\n",
       "         0.0050,  0.0265])"
      ]
     },
     "execution_count": 21,
     "metadata": {},
     "output_type": "execute_result"
    }
   ],
   "source": [
    "x.sum((-1)) / 5000"
   ]
  },
  {
   "cell_type": "code",
   "execution_count": 22,
   "metadata": {},
   "outputs": [
    {
     "data": {
      "text/plain": [
       "(tensor([[-0.3817, -0.1835, -1.5463,  ..., -2.1051, -1.2046,  3.5418],\n",
       "         [ 3.8134,  2.7599, -3.0942,  ..., -3.6861,  3.3261, -3.9601],\n",
       "         [-2.9215, -3.5598, -2.8361,  ..., -3.5278,  0.1972, -0.7693],\n",
       "         ...,\n",
       "         [-0.8184, -3.0790,  2.2531,  ..., -3.7783, -3.3329,  1.3009],\n",
       "         [ 3.3563,  1.7762,  0.0914,  ...,  0.9927,  1.0587, -1.5650],\n",
       "         [ 3.8360,  0.8514, -2.5571,  ...,  3.6733,  0.1638,  2.8013]]),\n",
       " tensor([[-0.3500, -0.1518, -1.5146,  ..., -2.0734, -1.1729,  3.5735],\n",
       "         [ 3.7703,  2.7168, -3.1373,  ..., -3.7292,  3.2830, -4.0032],\n",
       "         [-2.9363, -3.5746, -2.8509,  ..., -3.5426,  0.1824, -0.7841],\n",
       "         ...,\n",
       "         [-0.7874, -3.0481,  2.2840,  ..., -3.7473, -3.3019,  1.3318],\n",
       "         [ 3.3932,  1.8130,  0.1283,  ...,  1.0296,  1.0956, -1.5282],\n",
       "         [ 3.8346,  0.8500, -2.5585,  ...,  3.6719,  0.1623,  2.7999]]))"
      ]
     },
     "execution_count": 22,
     "metadata": {},
     "output_type": "execute_result"
    }
   ],
   "source": [
    "y - y.mean(axis=(1, ), keepdim=True), y -  y.sum() / 50000"
   ]
  },
  {
   "cell_type": "code",
   "execution_count": 23,
   "metadata": {},
   "outputs": [],
   "source": [
    "z = y.sum(axis=-1, keepdim=True) / 5000"
   ]
  },
  {
   "cell_type": "code",
   "execution_count": 24,
   "metadata": {},
   "outputs": [],
   "source": [
    "w = y - z"
   ]
  },
  {
   "cell_type": "code",
   "execution_count": 25,
   "metadata": {},
   "outputs": [
    {
     "data": {
      "text/plain": [
       "tensor([ 5.7602e-08, -7.6294e-08,  1.2207e-08,  2.1362e-08, -3.3569e-08,\n",
       "        -3.0518e-08, -5.2643e-08,  4.5776e-08,  4.5776e-08,  2.5177e-08])"
      ]
     },
     "execution_count": 25,
     "metadata": {},
     "output_type": "execute_result"
    }
   ],
   "source": [
    "w.mean(axis=(-1))"
   ]
  },
  {
   "cell_type": "code",
   "execution_count": 26,
   "metadata": {},
   "outputs": [
    {
     "data": {
      "text/plain": [
       "tensor([[ 1.6183,  1.8165,  0.4537,  ..., -0.1051,  0.7954,  5.5418],\n",
       "        [ 5.8134,  4.7599, -1.0942,  ..., -1.6861,  5.3261, -1.9601],\n",
       "        [-0.9215, -1.5598, -0.8361,  ..., -1.5278,  2.1972,  1.2307],\n",
       "        ...,\n",
       "        [ 1.1816, -1.0790,  4.2531,  ..., -1.7783, -1.3329,  3.3009],\n",
       "        [ 5.3563,  3.7762,  2.0914,  ...,  2.9927,  3.0587,  0.4350],\n",
       "        [ 5.8360,  2.8514, -0.5571,  ...,  5.6733,  2.1638,  4.8013]])"
      ]
     },
     "execution_count": 26,
     "metadata": {},
     "output_type": "execute_result"
    }
   ],
   "source": [
    "w + 2"
   ]
  },
  {
   "cell_type": "code",
   "execution_count": 27,
   "metadata": {},
   "outputs": [],
   "source": [
    "torch.manual_seed(10)\n",
    "x = torch.empty((10, 5, 10, 5000)).uniform_(-4, 4)"
   ]
  },
  {
   "cell_type": "code",
   "execution_count": 28,
   "metadata": {},
   "outputs": [
    {
     "data": {
      "text/plain": [
       "tensor([[ 0.0146,  0.0002, -0.0002, -0.0103,  0.0040],\n",
       "        [ 0.0043, -0.0058,  0.0041,  0.0007,  0.0131],\n",
       "        [-0.0122,  0.0037, -0.0264, -0.0108, -0.0075],\n",
       "        [ 0.0198, -0.0003, -0.0140,  0.0062, -0.0056],\n",
       "        [-0.0018,  0.0028,  0.0114, -0.0059, -0.0080],\n",
       "        [ 0.0002, -0.0061, -0.0109, -0.0079, -0.0001],\n",
       "        [ 0.0123, -0.0162,  0.0010,  0.0027, -0.0017],\n",
       "        [-0.0154, -0.0113, -0.0122,  0.0016, -0.0126],\n",
       "        [ 0.0298,  0.0111, -0.0063,  0.0095, -0.0102],\n",
       "        [-0.0012,  0.0038, -0.0087,  0.0119, -0.0023]])"
      ]
     },
     "execution_count": 28,
     "metadata": {},
     "output_type": "execute_result"
    }
   ],
   "source": [
    "x.mean(axis=(-1, -2))"
   ]
  },
  {
   "attachments": {},
   "cell_type": "markdown",
   "metadata": {},
   "source": [
    "MLP"
   ]
  },
  {
   "cell_type": "code",
   "execution_count": 29,
   "metadata": {},
   "outputs": [],
   "source": [
    "net = nn.Linear(4, 10)"
   ]
  },
  {
   "cell_type": "code",
   "execution_count": 30,
   "metadata": {},
   "outputs": [],
   "source": [
    "x = torch.randn(2, 4)"
   ]
  },
  {
   "cell_type": "code",
   "execution_count": 31,
   "metadata": {},
   "outputs": [
    {
     "data": {
      "text/plain": [
       "torch.Size([2, 10])"
      ]
     },
     "execution_count": 31,
     "metadata": {},
     "output_type": "execute_result"
    }
   ],
   "source": [
    "y = net(x)\n",
    "y.shape"
   ]
  },
  {
   "cell_type": "code",
   "execution_count": 32,
   "metadata": {},
   "outputs": [
    {
     "data": {
      "text/plain": [
       "tensor([[-0.5986,  0.2001,  1.2537,  0.5834, -0.5716,  0.2312,  0.0540,  0.0463,\n",
       "         -0.3411,  0.3042],\n",
       "        [-0.4324,  0.1083, -0.6668, -0.4291, -0.7299, -0.0870, -1.0466,  0.3723,\n",
       "         -0.6390, -0.0645]], grad_fn=<AddmmBackward0>)"
      ]
     },
     "execution_count": 32,
     "metadata": {},
     "output_type": "execute_result"
    }
   ],
   "source": [
    "y"
   ]
  },
  {
   "cell_type": "code",
   "execution_count": 33,
   "metadata": {},
   "outputs": [
    {
     "data": {
      "text/plain": [
       "Parameter containing:\n",
       "tensor([[ 0.0322, -0.0182, -0.4234, -0.4418],\n",
       "        [ 0.4645, -0.0485,  0.1915,  0.4401],\n",
       "        [-0.2199,  0.2342, -0.1968,  0.4420],\n",
       "        [-0.3294, -0.1101, -0.0606,  0.2784],\n",
       "        [-0.4155,  0.4957, -0.1378, -0.4509],\n",
       "        [-0.2811,  0.3955, -0.3359, -0.4654],\n",
       "        [ 0.0860,  0.1035, -0.4661,  0.0312],\n",
       "        [ 0.4474,  0.0618,  0.0999,  0.1228],\n",
       "        [ 0.0265,  0.4594,  0.2514,  0.1779],\n",
       "        [ 0.1866,  0.4216,  0.1418,  0.1924]], requires_grad=True)"
      ]
     },
     "execution_count": 33,
     "metadata": {},
     "output_type": "execute_result"
    }
   ],
   "source": [
    "net.weight"
   ]
  },
  {
   "cell_type": "code",
   "execution_count": 34,
   "metadata": {},
   "outputs": [
    {
     "data": {
      "text/plain": [
       "torch.Size([10, 4])"
      ]
     },
     "execution_count": 34,
     "metadata": {},
     "output_type": "execute_result"
    }
   ],
   "source": [
    "net.weight.shape"
   ]
  },
  {
   "cell_type": "code",
   "execution_count": 35,
   "metadata": {},
   "outputs": [
    {
     "data": {
      "text/plain": [
       "tensor([[-0.5986,  0.2001,  1.2537,  0.5834, -0.5716,  0.2312,  0.0540,  0.0463,\n",
       "         -0.3411,  0.3042],\n",
       "        [-0.4324,  0.1083, -0.6668, -0.4291, -0.7299, -0.0870, -1.0466,  0.3723,\n",
       "         -0.6390, -0.0645]], grad_fn=<AddBackward0>)"
      ]
     },
     "execution_count": 35,
     "metadata": {},
     "output_type": "execute_result"
    }
   ],
   "source": [
    "torch.matmul(x, net.weight.T) + net.bias"
   ]
  },
  {
   "cell_type": "code",
   "execution_count": 36,
   "metadata": {},
   "outputs": [
    {
     "data": {
      "text/plain": [
       "tensor([[-0.5986,  0.2001,  1.2537,  0.5834, -0.5716,  0.2312,  0.0540,  0.0463,\n",
       "         -0.3411,  0.3042],\n",
       "        [-0.4324,  0.1083, -0.6668, -0.4291, -0.7299, -0.0870, -1.0466,  0.3723,\n",
       "         -0.6390, -0.0645]], grad_fn=<AddBackward0>)"
      ]
     },
     "execution_count": 36,
     "metadata": {},
     "output_type": "execute_result"
    }
   ],
   "source": [
    "torch.einsum('bj, ij -> bi', x, net.weight) + net.bias"
   ]
  },
  {
   "cell_type": "code",
   "execution_count": 37,
   "metadata": {},
   "outputs": [],
   "source": [
    "import torch.nn.functional as F"
   ]
  },
  {
   "cell_type": "code",
   "execution_count": 38,
   "metadata": {},
   "outputs": [
    {
     "data": {
      "text/plain": [
       "(torch.Size([2, 4]), torch.Size([10, 4]), torch.Size([10]))"
      ]
     },
     "execution_count": 38,
     "metadata": {},
     "output_type": "execute_result"
    }
   ],
   "source": [
    "x.shape, net.weight.shape, net.bias.shape"
   ]
  },
  {
   "cell_type": "code",
   "execution_count": 39,
   "metadata": {},
   "outputs": [
    {
     "data": {
      "text/plain": [
       "tensor([[-0.5986,  0.2001,  1.2537,  0.5834, -0.5716,  0.2312,  0.0540,  0.0463,\n",
       "         -0.3411,  0.3042],\n",
       "        [-0.4324,  0.1083, -0.6668, -0.4291, -0.7299, -0.0870, -1.0466,  0.3723,\n",
       "         -0.6390, -0.0645]], grad_fn=<AddmmBackward0>)"
      ]
     },
     "execution_count": 39,
     "metadata": {},
     "output_type": "execute_result"
    }
   ],
   "source": [
    "F.linear(x, net.weight, net.bias)"
   ]
  },
  {
   "cell_type": "code",
   "execution_count": 40,
   "metadata": {},
   "outputs": [],
   "source": [
    "torch.manual_seed(42)\n",
    "net = nn.Sequential()\n",
    "net.add_module('lin1', nn.Linear(32, 64))\n",
    "net.add_module('lin2', nn.Linear(64, 10))"
   ]
  },
  {
   "cell_type": "code",
   "execution_count": 41,
   "metadata": {},
   "outputs": [],
   "source": [
    "x = torch.randn((4, 32))"
   ]
  },
  {
   "cell_type": "code",
   "execution_count": 42,
   "metadata": {},
   "outputs": [
    {
     "data": {
      "text/plain": [
       "(tensor([-0.0630, -0.0022, -0.0127, -0.3661,  0.0866,  0.0741,  0.0963,  0.1773,\n",
       "         -0.0797,  0.3435], grad_fn=<SelectBackward0>),\n",
       " torch.Size([4, 10]))"
      ]
     },
     "execution_count": 42,
     "metadata": {},
     "output_type": "execute_result"
    }
   ],
   "source": [
    "y = net(x)\n",
    "y[0], y.shape\n"
   ]
  },
  {
   "cell_type": "code",
   "execution_count": 43,
   "metadata": {},
   "outputs": [
    {
     "data": {
      "text/plain": [
       "tensor([-0.0630, -0.0022, -0.0127, -0.3661,  0.0866,  0.0741,  0.0963,  0.1773,\n",
       "        -0.0797,  0.3435], grad_fn=<SelectBackward0>)"
      ]
     },
     "execution_count": 43,
     "metadata": {},
     "output_type": "execute_result"
    }
   ],
   "source": [
    "z = net.lin2(net.lin1(x))\n",
    "z[0]"
   ]
  },
  {
   "cell_type": "code",
   "execution_count": 44,
   "metadata": {},
   "outputs": [
    {
     "data": {
      "text/plain": [
       "odict_keys(['lin1.weight', 'lin1.bias', 'lin2.weight', 'lin2.bias'])"
      ]
     },
     "execution_count": 44,
     "metadata": {},
     "output_type": "execute_result"
    }
   ],
   "source": [
    "net.state_dict().keys()"
   ]
  },
  {
   "cell_type": "code",
   "execution_count": 45,
   "metadata": {},
   "outputs": [
    {
     "data": {
      "text/plain": [
       "torch.Size([20, 10, 4, 10])"
      ]
     },
     "execution_count": 45,
     "metadata": {},
     "output_type": "execute_result"
    }
   ],
   "source": [
    "x = torch.randn(20, 10, 4, 32)\n",
    "y = net(x)\n",
    "y.shape"
   ]
  },
  {
   "cell_type": "code",
   "execution_count": 46,
   "metadata": {},
   "outputs": [],
   "source": [
    "x = torch.empty((4, 5)).uniform_(-10, 10)"
   ]
  },
  {
   "cell_type": "code",
   "execution_count": 47,
   "metadata": {},
   "outputs": [
    {
     "data": {
      "text/plain": [
       "tensor([[ 9.6053,  6.1465, -3.9468, -6.8474,  6.5705],\n",
       "        [ 7.9896,  7.8190, -2.3512,  7.2122,  8.1273],\n",
       "        [ 7.9416,  9.6219, -9.1863,  9.3812,  7.5133],\n",
       "        [ 2.9351,  5.0090,  1.0653, -6.3083,  4.4218]])"
      ]
     },
     "execution_count": 47,
     "metadata": {},
     "output_type": "execute_result"
    }
   ],
   "source": [
    "x"
   ]
  },
  {
   "cell_type": "code",
   "execution_count": 48,
   "metadata": {},
   "outputs": [],
   "source": [
    "bn = nn.BatchNorm1d(x.shape[1])\n",
    "y = bn(x)"
   ]
  },
  {
   "cell_type": "code",
   "execution_count": 49,
   "metadata": {},
   "outputs": [
    {
     "data": {
      "text/plain": [
       "(Parameter containing:\n",
       " tensor([1., 1., 1., 1., 1.], requires_grad=True),\n",
       " Parameter containing:\n",
       " tensor([0., 0., 0., 0., 0.], requires_grad=True),\n",
       " torch.Size([5]),\n",
       " torch.Size([5]))"
      ]
     },
     "execution_count": 49,
     "metadata": {},
     "output_type": "execute_result"
    }
   ],
   "source": [
    "bn.weight, bn.bias, bn.weight.shape, bn.bias.size()"
   ]
  },
  {
   "cell_type": "code",
   "execution_count": 50,
   "metadata": {},
   "outputs": [
    {
     "data": {
      "text/plain": [
       "(tensor([[ 0.9926, -0.5753, -0.0925, -1.0304, -0.0625],\n",
       "         [ 0.3478,  0.3844,  0.3391,  0.8494,  1.0455],\n",
       "         [ 0.3287,  1.4189, -1.5100,  1.1394,  0.6085],\n",
       "         [-1.6691, -1.2280,  1.2634, -0.9584, -1.5915]],\n",
       "        grad_fn=<NativeBatchNormBackward0>),\n",
       " tensor([ 5.9605e-08,  5.9605e-08,  5.9605e-08, -1.4901e-08, -1.4901e-07],\n",
       "        grad_fn=<MeanBackward1>),\n",
       " tensor([1.1547, 1.1547, 1.1547, 1.1547, 1.1547], grad_fn=<StdBackward0>))"
      ]
     },
     "execution_count": 50,
     "metadata": {},
     "output_type": "execute_result"
    }
   ],
   "source": [
    "y, y.mean(dim=0), y.std(0)"
   ]
  },
  {
   "cell_type": "code",
   "execution_count": 51,
   "metadata": {},
   "outputs": [
    {
     "data": {
      "text/plain": [
       "tensor([ 7.1179,  7.1491, -3.6047,  0.8594,  6.6582])"
      ]
     },
     "execution_count": 51,
     "metadata": {},
     "output_type": "execute_result"
    }
   ],
   "source": [
    "x.mean(dim=0)"
   ]
  },
  {
   "cell_type": "code",
   "execution_count": 52,
   "metadata": {},
   "outputs": [
    {
     "data": {
      "text/plain": [
       "tensor([[ 0.8596, -0.4982, -0.0801, -0.8924, -0.0541],\n",
       "        [ 0.3012,  0.3329,  0.2937,  0.7356,  0.9054],\n",
       "        [ 0.2846,  1.2288, -1.3077,  0.9868,  0.5270],\n",
       "        [-1.4455, -1.0635,  1.0942, -0.8300, -1.3783]])"
      ]
     },
     "execution_count": 52,
     "metadata": {},
     "output_type": "execute_result"
    }
   ],
   "source": [
    "(x - x.mean(dim=0)) / (x.std(dim=0) + 1e-9)"
   ]
  },
  {
   "cell_type": "code",
   "execution_count": 53,
   "metadata": {},
   "outputs": [
    {
     "data": {
      "text/plain": [
       "tensor([[[3, 3, 3, 1],\n",
       "         [3, 1, 1, 3]],\n",
       "\n",
       "        [[0, 0, 2, 3],\n",
       "         [2, 3, 2, 1]],\n",
       "\n",
       "        [[3, 0, 3, 2],\n",
       "         [2, 2, 2, 2]]])"
      ]
     },
     "execution_count": 53,
     "metadata": {},
     "output_type": "execute_result"
    }
   ],
   "source": [
    "x = torch.randint(0, 4, (3, 2, 4))\n",
    "x"
   ]
  },
  {
   "cell_type": "code",
   "execution_count": 54,
   "metadata": {},
   "outputs": [
    {
     "data": {
      "text/plain": [
       "(torch.Size([3, 2, 4]),\n",
       " torch.Size([3, 2, 4, 6]),\n",
       " tensor([[[[0, 0, 0, 1, 0, 0],\n",
       "           [0, 0, 0, 1, 0, 0],\n",
       "           [0, 0, 0, 1, 0, 0],\n",
       "           [0, 1, 0, 0, 0, 0]],\n",
       " \n",
       "          [[0, 0, 0, 1, 0, 0],\n",
       "           [0, 1, 0, 0, 0, 0],\n",
       "           [0, 1, 0, 0, 0, 0],\n",
       "           [0, 0, 0, 1, 0, 0]]],\n",
       " \n",
       " \n",
       "         [[[1, 0, 0, 0, 0, 0],\n",
       "           [1, 0, 0, 0, 0, 0],\n",
       "           [0, 0, 1, 0, 0, 0],\n",
       "           [0, 0, 0, 1, 0, 0]],\n",
       " \n",
       "          [[0, 0, 1, 0, 0, 0],\n",
       "           [0, 0, 0, 1, 0, 0],\n",
       "           [0, 0, 1, 0, 0, 0],\n",
       "           [0, 1, 0, 0, 0, 0]]],\n",
       " \n",
       " \n",
       "         [[[0, 0, 0, 1, 0, 0],\n",
       "           [1, 0, 0, 0, 0, 0],\n",
       "           [0, 0, 0, 1, 0, 0],\n",
       "           [0, 0, 1, 0, 0, 0]],\n",
       " \n",
       "          [[0, 0, 1, 0, 0, 0],\n",
       "           [0, 0, 1, 0, 0, 0],\n",
       "           [0, 0, 1, 0, 0, 0],\n",
       "           [0, 0, 1, 0, 0, 0]]]]))"
      ]
     },
     "execution_count": 54,
     "metadata": {},
     "output_type": "execute_result"
    }
   ],
   "source": [
    "x.shape, F.one_hot(x, 6).shape, F.one_hot(x, 6)"
   ]
  },
  {
   "cell_type": "code",
   "execution_count": 55,
   "metadata": {},
   "outputs": [],
   "source": [
    "input = torch.normal(4, 10, size=(10, )).requires_grad_()"
   ]
  },
  {
   "cell_type": "code",
   "execution_count": 56,
   "metadata": {},
   "outputs": [
    {
     "data": {
      "text/plain": [
       "tensor([-10.9103,   5.8988,  -4.5014,   3.9894,  26.0803,   0.7348,  -1.2472,\n",
       "          4.5035,  -0.0993,   2.3917], requires_grad=True)"
      ]
     },
     "execution_count": 56,
     "metadata": {},
     "output_type": "execute_result"
    }
   ],
   "source": [
    "input"
   ]
  },
  {
   "cell_type": "code",
   "execution_count": 57,
   "metadata": {},
   "outputs": [
    {
     "data": {
      "text/plain": [
       "tensor([1., 0., 1., 1., 0., 0., 1., 1., 0., 0.], requires_grad=True)"
      ]
     },
     "execution_count": 57,
     "metadata": {},
     "output_type": "execute_result"
    }
   ],
   "source": [
    "target = torch.randint(0, 2, size=input.size(), dtype=torch.float).requires_grad_()\n",
    "target"
   ]
  },
  {
   "cell_type": "code",
   "execution_count": 58,
   "metadata": {},
   "outputs": [
    {
     "data": {
      "text/plain": [
       "tensor([1., 0., 1., 1., 0., 0., 1., 1., 0., 0.], requires_grad=True)"
      ]
     },
     "execution_count": 58,
     "metadata": {},
     "output_type": "execute_result"
    }
   ],
   "source": [
    "target"
   ]
  },
  {
   "cell_type": "code",
   "execution_count": 59,
   "metadata": {},
   "outputs": [
    {
     "data": {
      "text/plain": [
       "tensor(12.7104, grad_fn=<BinaryCrossEntropyBackward0>)"
      ]
     },
     "execution_count": 59,
     "metadata": {},
     "output_type": "execute_result"
    }
   ],
   "source": [
    "F.binary_cross_entropy(F.sigmoid(input), target, reduce=None)"
   ]
  },
  {
   "cell_type": "code",
   "execution_count": 60,
   "metadata": {},
   "outputs": [
    {
     "data": {
      "text/plain": [
       "tensor(inf, grad_fn=<NegBackward0>)"
      ]
     },
     "execution_count": 60,
     "metadata": {},
     "output_type": "execute_result"
    }
   ],
   "source": [
    "def binary_cross_entropy(input, target):\n",
    "    mu = nn.Sigmoid()(input)\n",
    "    \n",
    "    loss = target * torch.log(mu) + (1 - target) * torch.log( 1 - mu)\n",
    "    \n",
    "    return -loss.mean()\n",
    "    \n",
    "binary_cross_entropy(input, target)\n",
    "    "
   ]
  },
  {
   "cell_type": "code",
   "execution_count": 61,
   "metadata": {},
   "outputs": [],
   "source": [
    "target = torch.empty_like(target).uniform_(0, 1).requires_grad_()"
   ]
  },
  {
   "cell_type": "code",
   "execution_count": 62,
   "metadata": {},
   "outputs": [
    {
     "data": {
      "text/plain": [
       "tensor([0.4711, 0.7032, 0.9075, 0.0051, 0.0616, 0.8857, 0.4707, 0.7001, 0.8452,\n",
       "        0.8964], requires_grad=True)"
      ]
     },
     "execution_count": 62,
     "metadata": {},
     "output_type": "execute_result"
    }
   ],
   "source": [
    "target"
   ]
  },
  {
   "cell_type": "code",
   "execution_count": 63,
   "metadata": {},
   "outputs": [
    {
     "data": {
      "text/plain": [
       "tensor(11.2562, grad_fn=<BinaryCrossEntropyBackward0>)"
      ]
     },
     "execution_count": 63,
     "metadata": {},
     "output_type": "execute_result"
    }
   ],
   "source": [
    "F.binary_cross_entropy(F.sigmoid(input), target, reduce=None)"
   ]
  },
  {
   "cell_type": "code",
   "execution_count": 64,
   "metadata": {},
   "outputs": [
    {
     "data": {
      "text/plain": [
       "tensor(inf, grad_fn=<NegBackward0>)"
      ]
     },
     "execution_count": 64,
     "metadata": {},
     "output_type": "execute_result"
    }
   ],
   "source": [
    "binary_cross_entropy(input, target)"
   ]
  },
  {
   "cell_type": "code",
   "execution_count": 65,
   "metadata": {},
   "outputs": [
    {
     "data": {
      "text/plain": [
       "tensor([-1.0316e-23,  4.5688e-41, -9.9713e-24,  4.5688e-41, -1.0599e-23,\n",
       "         4.5688e-41, -1.0662e-23,  4.5688e-41, -1.0043e-23,  4.5688e-41,\n",
       "        -1.0031e-23,  4.5688e-41, -1.0031e-23,  4.5688e-41, -1.0003e-23,\n",
       "         4.5688e-41, -1.0638e-23,  4.5688e-41, -1.0022e-23,  4.5688e-41,\n",
       "        -9.6668e-24,  4.5688e-41, -9.7150e-24,  4.5688e-41, -9.6879e-24])"
      ]
     },
     "execution_count": 65,
     "metadata": {},
     "output_type": "execute_result"
    }
   ],
   "source": [
    "torch.Tensor(25)"
   ]
  },
  {
   "attachments": {},
   "cell_type": "markdown",
   "metadata": {},
   "source": [
    "LSTM"
   ]
  },
  {
   "cell_type": "code",
   "execution_count": 66,
   "metadata": {},
   "outputs": [],
   "source": [
    "net = nn.LSTM(input_size=128, \n",
    "                hidden_size=256,\n",
    "                num_layers=1, \n",
    "                )"
   ]
  },
  {
   "cell_type": "code",
   "execution_count": 67,
   "metadata": {},
   "outputs": [],
   "source": [
    "inp = torch.randn((64, 32, 128))"
   ]
  },
  {
   "cell_type": "code",
   "execution_count": 68,
   "metadata": {},
   "outputs": [],
   "source": [
    "out, (hn, cn)= net(inp)"
   ]
  },
  {
   "cell_type": "code",
   "execution_count": 69,
   "metadata": {},
   "outputs": [
    {
     "data": {
      "text/plain": [
       "torch.Size([64, 32, 256])"
      ]
     },
     "execution_count": 69,
     "metadata": {},
     "output_type": "execute_result"
    }
   ],
   "source": [
    "out.shape"
   ]
  },
  {
   "cell_type": "code",
   "execution_count": 70,
   "metadata": {},
   "outputs": [
    {
     "data": {
      "text/plain": [
       "torch.Size([1, 32, 256])"
      ]
     },
     "execution_count": 70,
     "metadata": {},
     "output_type": "execute_result"
    }
   ],
   "source": [
    "hn.shape"
   ]
  },
  {
   "cell_type": "code",
   "execution_count": 71,
   "metadata": {},
   "outputs": [],
   "source": [
    "h0 = torch.randn((1, 32, 256))\n",
    "c0 = torch.zeros_like(h0)"
   ]
  },
  {
   "cell_type": "code",
   "execution_count": 72,
   "metadata": {},
   "outputs": [],
   "source": [
    "out, (hn, cn) = net(inp, (h0, c0))"
   ]
  },
  {
   "cell_type": "code",
   "execution_count": 73,
   "metadata": {},
   "outputs": [
    {
     "data": {
      "text/plain": [
       "torch.Size([1, 32, 256])"
      ]
     },
     "execution_count": 73,
     "metadata": {},
     "output_type": "execute_result"
    }
   ],
   "source": [
    "hn.shape"
   ]
  },
  {
   "cell_type": "code",
   "execution_count": 74,
   "metadata": {},
   "outputs": [],
   "source": [
    "net = nn.LSTM(input_size=128, \n",
    "                hidden_size=256,\n",
    "                num_layers=1, \n",
    "                proj_size=96\n",
    "                )"
   ]
  },
  {
   "cell_type": "code",
   "execution_count": 75,
   "metadata": {},
   "outputs": [
    {
     "name": "stderr",
     "output_type": "stream",
     "text": [
      "/home/mtb/env/lib/python3.9/site-packages/torch/nn/modules/rnn.py:812: UserWarning: LSTM with projections is not supported with oneDNN. Using default implementation. (Triggered internally at ../aten/src/ATen/native/RNN.cpp:1463.)\n",
      "  result = _VF.lstm(input, hx, self._flat_weights, self.bias, self.num_layers,\n"
     ]
    }
   ],
   "source": [
    "h0 = torch.randn((1, 32, 96))\n",
    "c0 = torch.randn((1, 32, 256))\n",
    "out, (hn, cn) = net(inp, (h0, c0))"
   ]
  },
  {
   "cell_type": "code",
   "execution_count": 76,
   "metadata": {},
   "outputs": [
    {
     "data": {
      "text/plain": [
       "torch.Size([64, 32, 96])"
      ]
     },
     "execution_count": 76,
     "metadata": {},
     "output_type": "execute_result"
    }
   ],
   "source": [
    "out.shape"
   ]
  },
  {
   "cell_type": "code",
   "execution_count": 77,
   "metadata": {},
   "outputs": [
    {
     "data": {
      "text/plain": [
       "torch.Size([1, 32, 96])"
      ]
     },
     "execution_count": 77,
     "metadata": {},
     "output_type": "execute_result"
    }
   ],
   "source": [
    "hn.shape"
   ]
  },
  {
   "cell_type": "code",
   "execution_count": 78,
   "metadata": {},
   "outputs": [
    {
     "data": {
      "text/plain": [
       "torch.Size([1, 32, 256])"
      ]
     },
     "execution_count": 78,
     "metadata": {},
     "output_type": "execute_result"
    }
   ],
   "source": [
    "cn.shape"
   ]
  },
  {
   "cell_type": "code",
   "execution_count": 79,
   "metadata": {},
   "outputs": [],
   "source": [
    "net = nn.LSTM(input_size=128, \n",
    "                hidden_size=256,\n",
    "                num_layers=1, \n",
    "                bidirectional=True\n",
    "                )"
   ]
  },
  {
   "cell_type": "code",
   "execution_count": 80,
   "metadata": {},
   "outputs": [],
   "source": [
    "out, (hn, cn) = net(inp)"
   ]
  },
  {
   "cell_type": "code",
   "execution_count": 81,
   "metadata": {},
   "outputs": [
    {
     "data": {
      "text/plain": [
       "torch.Size([64, 32, 512])"
      ]
     },
     "execution_count": 81,
     "metadata": {},
     "output_type": "execute_result"
    }
   ],
   "source": [
    "out.shape"
   ]
  },
  {
   "cell_type": "code",
   "execution_count": 82,
   "metadata": {},
   "outputs": [
    {
     "data": {
      "text/plain": [
       "torch.Size([2, 32, 256])"
      ]
     },
     "execution_count": 82,
     "metadata": {},
     "output_type": "execute_result"
    }
   ],
   "source": [
    "hn.shape"
   ]
  },
  {
   "cell_type": "code",
   "execution_count": 83,
   "metadata": {},
   "outputs": [
    {
     "data": {
      "text/plain": [
       "torch.Size([2, 32, 256])"
      ]
     },
     "execution_count": 83,
     "metadata": {},
     "output_type": "execute_result"
    }
   ],
   "source": [
    "cn.shape"
   ]
  },
  {
   "cell_type": "code",
   "execution_count": 84,
   "metadata": {},
   "outputs": [],
   "source": [
    "net = nn.LSTM(input_size=128, \n",
    "                hidden_size=256,\n",
    "                num_layers=4, \n",
    "                bidirectional=True\n",
    "                )"
   ]
  },
  {
   "cell_type": "code",
   "execution_count": 85,
   "metadata": {},
   "outputs": [],
   "source": [
    "out, (hn, cn) = net(inp)"
   ]
  },
  {
   "cell_type": "code",
   "execution_count": 86,
   "metadata": {},
   "outputs": [
    {
     "data": {
      "text/plain": [
       "torch.Size([64, 32, 512])"
      ]
     },
     "execution_count": 86,
     "metadata": {},
     "output_type": "execute_result"
    }
   ],
   "source": [
    "out.shape"
   ]
  },
  {
   "cell_type": "code",
   "execution_count": 87,
   "metadata": {},
   "outputs": [
    {
     "data": {
      "text/plain": [
       "torch.Size([8, 32, 256])"
      ]
     },
     "execution_count": 87,
     "metadata": {},
     "output_type": "execute_result"
    }
   ],
   "source": [
    "hn.shape"
   ]
  },
  {
   "cell_type": "code",
   "execution_count": 88,
   "metadata": {},
   "outputs": [
    {
     "data": {
      "text/plain": [
       "torch.Size([8, 32, 256])"
      ]
     },
     "execution_count": 88,
     "metadata": {},
     "output_type": "execute_result"
    }
   ],
   "source": [
    "cn.shape"
   ]
  },
  {
   "cell_type": "code",
   "execution_count": 89,
   "metadata": {},
   "outputs": [],
   "source": [
    "x = torch.arange(0, 100)"
   ]
  },
  {
   "cell_type": "code",
   "execution_count": 90,
   "metadata": {},
   "outputs": [
    {
     "data": {
      "text/plain": [
       "tensor([ 0,  1,  2,  3,  4,  5,  6,  7,  8,  9, 10, 11, 12, 13, 14, 15, 16, 17,\n",
       "        18, 19, 20, 21, 22, 23, 24, 25, 26, 27, 28, 29, 30, 31, 32, 33, 34, 35,\n",
       "        36, 37, 38, 39, 40, 41, 42, 43, 44, 45, 46, 47, 48, 49, 50, 51, 52, 53,\n",
       "        54, 55, 56, 57, 58, 59, 60, 61, 62, 63, 64, 65, 66, 67, 68, 69, 70, 71,\n",
       "        72, 73, 74, 75, 76, 77, 78, 79, 80, 81, 82, 83, 84, 85, 86, 87, 88, 89,\n",
       "        90, 91, 92, 93, 94, 95, 96, 97, 98, 99])"
      ]
     },
     "execution_count": 90,
     "metadata": {},
     "output_type": "execute_result"
    }
   ],
   "source": [
    "x"
   ]
  },
  {
   "cell_type": "code",
   "execution_count": 91,
   "metadata": {},
   "outputs": [],
   "source": [
    "y = x.view(2, 50)"
   ]
  },
  {
   "cell_type": "code",
   "execution_count": 92,
   "metadata": {},
   "outputs": [
    {
     "data": {
      "text/plain": [
       "(tensor([  1,   2,   3,   4,   5,   6,   7,   8,   9,  10,  11,  12,  13,  14,\n",
       "          15,  16,  17,  18,  19,  20,  21,  22,  23,  24,  25,  26,  27,  28,\n",
       "          29,  30,  31,  32,  33,  34,  35,  36,  37,  38,  39,  40,  41,  42,\n",
       "          43,  44,  45,  46,  47,  48,  49,  50,  51,  52,  53,  54,  55,  56,\n",
       "          57,  58,  59,  60,  61,  62,  63,  64,  65,  66,  67,  68,  69,  70,\n",
       "          71,  72,  73,  74,  75,  76,  77,  78,  79,  80,  81,  82,  83,  84,\n",
       "          85,  86,  87,  88,  89,  90,  91,  92,  93,  94,  95,  96,  97,  98,\n",
       "          99, 100]),\n",
       " tensor([[  1,   2,   3,   4,   5,   6,   7,   8,   9,  10,  11,  12,  13,  14,\n",
       "           15,  16,  17,  18,  19,  20,  21,  22,  23,  24,  25,  26,  27,  28,\n",
       "           29,  30,  31,  32,  33,  34,  35,  36,  37,  38,  39,  40,  41,  42,\n",
       "           43,  44,  45,  46,  47,  48,  49,  50],\n",
       "         [ 51,  52,  53,  54,  55,  56,  57,  58,  59,  60,  61,  62,  63,  64,\n",
       "           65,  66,  67,  68,  69,  70,  71,  72,  73,  74,  75,  76,  77,  78,\n",
       "           79,  80,  81,  82,  83,  84,  85,  86,  87,  88,  89,  90,  91,  92,\n",
       "           93,  94,  95,  96,  97,  98,  99, 100]]))"
      ]
     },
     "execution_count": 92,
     "metadata": {},
     "output_type": "execute_result"
    }
   ],
   "source": [
    "y+= 1\n",
    "x, y"
   ]
  },
  {
   "cell_type": "code",
   "execution_count": 93,
   "metadata": {},
   "outputs": [],
   "source": [
    "y = x.view(20, 5)"
   ]
  },
  {
   "cell_type": "code",
   "execution_count": 94,
   "metadata": {},
   "outputs": [
    {
     "data": {
      "text/plain": [
       "tensor([[  1,   2,   3,   4,   5],\n",
       "        [  6,   7,   8,   9,  10],\n",
       "        [ 11,  12,  13,  14,  15],\n",
       "        [ 16,  17,  18,  19,  20],\n",
       "        [ 21,  22,  23,  24,  25],\n",
       "        [ 26,  27,  28,  29,  30],\n",
       "        [ 31,  32,  33,  34,  35],\n",
       "        [ 36,  37,  38,  39,  40],\n",
       "        [ 41,  42,  43,  44,  45],\n",
       "        [ 46,  47,  48,  49,  50],\n",
       "        [ 51,  52,  53,  54,  55],\n",
       "        [ 56,  57,  58,  59,  60],\n",
       "        [ 61,  62,  63,  64,  65],\n",
       "        [ 66,  67,  68,  69,  70],\n",
       "        [ 71,  72,  73,  74,  75],\n",
       "        [ 76,  77,  78,  79,  80],\n",
       "        [ 81,  82,  83,  84,  85],\n",
       "        [ 86,  87,  88,  89,  90],\n",
       "        [ 91,  92,  93,  94,  95],\n",
       "        [ 96,  97,  98,  99, 100]])"
      ]
     },
     "execution_count": 94,
     "metadata": {},
     "output_type": "execute_result"
    }
   ],
   "source": [
    "y"
   ]
  },
  {
   "cell_type": "code",
   "execution_count": 95,
   "metadata": {},
   "outputs": [
    {
     "data": {
      "text/plain": [
       "tensor([[[  1,   2,   3,   4,   5],\n",
       "         [  6,   7,   8,   9,  10],\n",
       "         [ 11,  12,  13,  14,  15],\n",
       "         [ 16,  17,  18,  19,  20],\n",
       "         [ 21,  22,  23,  24,  25]],\n",
       "\n",
       "        [[ 26,  27,  28,  29,  30],\n",
       "         [ 31,  32,  33,  34,  35],\n",
       "         [ 36,  37,  38,  39,  40],\n",
       "         [ 41,  42,  43,  44,  45],\n",
       "         [ 46,  47,  48,  49,  50]],\n",
       "\n",
       "        [[ 51,  52,  53,  54,  55],\n",
       "         [ 56,  57,  58,  59,  60],\n",
       "         [ 61,  62,  63,  64,  65],\n",
       "         [ 66,  67,  68,  69,  70],\n",
       "         [ 71,  72,  73,  74,  75]],\n",
       "\n",
       "        [[ 76,  77,  78,  79,  80],\n",
       "         [ 81,  82,  83,  84,  85],\n",
       "         [ 86,  87,  88,  89,  90],\n",
       "         [ 91,  92,  93,  94,  95],\n",
       "         [ 96,  97,  98,  99, 100]]])"
      ]
     },
     "execution_count": 95,
     "metadata": {},
     "output_type": "execute_result"
    }
   ],
   "source": [
    "y.view(4, 5, -1)"
   ]
  },
  {
   "cell_type": "code",
   "execution_count": 96,
   "metadata": {},
   "outputs": [
    {
     "data": {
      "text/plain": [
       "torch.Size([1024, 128])"
      ]
     },
     "execution_count": 96,
     "metadata": {},
     "output_type": "execute_result"
    }
   ],
   "source": [
    "net.weight_ih_l0.shape"
   ]
  },
  {
   "cell_type": "code",
   "execution_count": 97,
   "metadata": {},
   "outputs": [],
   "source": [
    "emb_net = nn.Embedding(1000, 128, padding_idx=0)"
   ]
  },
  {
   "cell_type": "code",
   "execution_count": 98,
   "metadata": {},
   "outputs": [],
   "source": [
    "x = torch.randint(0, 1000, size=(64, 20))"
   ]
  },
  {
   "cell_type": "code",
   "execution_count": 99,
   "metadata": {},
   "outputs": [
    {
     "data": {
      "text/plain": [
       "torch.Size([64, 20])"
      ]
     },
     "execution_count": 99,
     "metadata": {},
     "output_type": "execute_result"
    }
   ],
   "source": [
    "x.shape"
   ]
  },
  {
   "cell_type": "code",
   "execution_count": 100,
   "metadata": {},
   "outputs": [],
   "source": [
    "emb = emb_net(x)"
   ]
  },
  {
   "cell_type": "code",
   "execution_count": 101,
   "metadata": {},
   "outputs": [
    {
     "data": {
      "text/plain": [
       "torch.Size([64, 20, 128])"
      ]
     },
     "execution_count": 101,
     "metadata": {},
     "output_type": "execute_result"
    }
   ],
   "source": [
    "emb.shape"
   ]
  },
  {
   "cell_type": "code",
   "execution_count": 102,
   "metadata": {},
   "outputs": [
    {
     "data": {
      "text/plain": [
       "tensor([-9.0001e-01, -4.5618e-01, -3.3796e-01,  5.4977e-02,  2.1113e+00,\n",
       "        -1.2687e+00,  2.2862e+00,  2.0994e+00,  1.1920e-01,  1.9923e-01,\n",
       "         9.4172e-01, -1.7726e-01,  1.1779e+00,  1.1366e+00, -1.1261e+00,\n",
       "        -1.3342e+00,  8.5693e-01, -1.9372e+00,  1.7511e+00,  1.1171e+00,\n",
       "         1.0702e+00,  3.2450e-04,  1.1027e+00,  6.2287e-02, -1.1783e-01,\n",
       "        -6.0368e-01, -5.4402e-01,  6.4613e-01,  1.1293e+00,  1.0740e+00,\n",
       "         1.0198e+00,  4.9398e-01,  2.8837e-01,  7.4511e-01, -9.0288e-01,\n",
       "        -8.9145e-02,  5.0449e-01,  2.2546e+00, -5.8698e-01,  6.1598e-02,\n",
       "         7.3877e-01, -2.3824e-01, -3.3074e-01,  1.3412e+00,  5.6607e-02,\n",
       "         7.2386e-01, -1.0868e+00,  3.5732e-01,  2.0704e+00, -2.2176e-01,\n",
       "        -6.3954e-01, -1.1623e+00, -7.9249e-01, -1.5707e+00,  5.0808e-01,\n",
       "         1.7823e-01,  4.4992e-01,  2.2511e-01,  1.0701e+00, -1.1095e+00,\n",
       "         2.1271e-01, -5.1025e-01,  5.1649e-01,  9.7876e-01,  4.2928e-02,\n",
       "        -3.4780e-01, -4.9096e-01,  9.8162e-01,  8.6362e-01, -5.8475e-01,\n",
       "        -3.2616e-01, -3.8286e-02,  1.7550e-01, -1.0179e+00,  7.2550e-01,\n",
       "         1.1855e-01,  1.0779e-01,  8.1955e-01, -5.3300e-01,  6.8588e-01,\n",
       "        -4.4239e-01, -1.4110e+00,  1.1984e-01,  2.2388e-01,  3.4301e-01,\n",
       "        -1.0977e+00,  6.2391e-01, -3.1400e-01, -1.3998e+00, -7.4145e-01,\n",
       "         1.1912e-01, -8.7096e-02, -1.1957e+00, -2.1299e+00, -2.0019e+00,\n",
       "         5.8400e-01, -4.5507e-01, -1.1448e+00, -2.3241e-01,  2.6495e-01,\n",
       "        -4.7463e-01,  5.5368e-01, -3.2993e-01, -1.5286e-01, -8.8135e-01,\n",
       "         1.6724e+00,  8.5673e-01, -2.4184e-01,  1.2727e-01, -1.1808e+00,\n",
       "         2.1562e-01,  1.7423e-01,  8.5779e-01,  1.7494e+00, -1.5705e-01,\n",
       "        -2.0473e+00, -1.0001e+00,  9.8806e-02,  8.4366e-01, -2.0698e+00,\n",
       "         6.2498e-01,  1.0849e+00,  1.6052e+00, -8.5887e-02, -6.4546e-01,\n",
       "         3.9385e-01, -4.5622e-01, -1.2998e+00], grad_fn=<SelectBackward0>)"
      ]
     },
     "execution_count": 102,
     "metadata": {},
     "output_type": "execute_result"
    }
   ],
   "source": [
    "emb[0][0]"
   ]
  },
  {
   "cell_type": "code",
   "execution_count": 103,
   "metadata": {},
   "outputs": [],
   "source": [
    "x = torch.randn((10, ))"
   ]
  },
  {
   "cell_type": "code",
   "execution_count": 104,
   "metadata": {},
   "outputs": [
    {
     "data": {
      "text/plain": [
       "tensor([-0.2459, -0.5377,  0.2185,  0.9448, -0.2103,  0.7507,  1.4196, -0.7844,\n",
       "        -0.0427, -0.8096])"
      ]
     },
     "execution_count": 104,
     "metadata": {},
     "output_type": "execute_result"
    }
   ],
   "source": [
    "x"
   ]
  },
  {
   "cell_type": "code",
   "execution_count": 105,
   "metadata": {},
   "outputs": [],
   "source": [
    "dropout = nn.Dropout(p=0.2)"
   ]
  },
  {
   "cell_type": "code",
   "execution_count": 106,
   "metadata": {},
   "outputs": [],
   "source": [
    "y = dropout(x)"
   ]
  },
  {
   "cell_type": "code",
   "execution_count": 107,
   "metadata": {},
   "outputs": [
    {
     "data": {
      "text/plain": [
       "tensor([-0.0000, -0.6722,  0.0000,  1.1810, -0.2629,  0.9384,  1.7746, -0.9805,\n",
       "        -0.0534, -1.0119])"
      ]
     },
     "execution_count": 107,
     "metadata": {},
     "output_type": "execute_result"
    }
   ],
   "source": [
    "y"
   ]
  },
  {
   "cell_type": "code",
   "execution_count": 108,
   "metadata": {},
   "outputs": [
    {
     "data": {
      "text/plain": [
       "tensor([-0.2459, -0.5377,  0.2185,  0.9448, -0.2103,  0.7507,  1.4196, -0.7844,\n",
       "        -0.0427, -0.8096])"
      ]
     },
     "execution_count": 108,
     "metadata": {},
     "output_type": "execute_result"
    }
   ],
   "source": [
    "x"
   ]
  },
  {
   "cell_type": "code",
   "execution_count": 109,
   "metadata": {},
   "outputs": [
    {
     "data": {
      "text/plain": [
       "tensor([   inf, 0.8000,    inf, 0.8000, 0.8000, 0.8000, 0.8000, 0.8000, 0.8000,\n",
       "        0.8000])"
      ]
     },
     "execution_count": 109,
     "metadata": {},
     "output_type": "execute_result"
    }
   ],
   "source": [
    "x / y"
   ]
  },
  {
   "cell_type": "code",
   "execution_count": 110,
   "metadata": {},
   "outputs": [
    {
     "data": {
      "text/plain": [
       "tensor([-0.0000, -0.5377,  0.0000,  0.9448, -0.2103,  0.7507,  1.4196, -0.7844,\n",
       "        -0.0427, -0.8096])"
      ]
     },
     "execution_count": 110,
     "metadata": {},
     "output_type": "execute_result"
    }
   ],
   "source": [
    "y * 0.8"
   ]
  },
  {
   "attachments": {},
   "cell_type": "markdown",
   "metadata": {},
   "source": [
    "Pack padding"
   ]
  },
  {
   "cell_type": "code",
   "execution_count": 111,
   "metadata": {},
   "outputs": [],
   "source": [
    "seqs = ['Long_str', 'tiny', 'medium']"
   ]
  },
  {
   "cell_type": "code",
   "execution_count": 112,
   "metadata": {},
   "outputs": [],
   "source": [
    "vocab = ['<pad>'] + sorted(set(c for s in seqs for c in s))"
   ]
  },
  {
   "cell_type": "code",
   "execution_count": 113,
   "metadata": {},
   "outputs": [
    {
     "data": {
      "text/plain": [
       "['<pad>', 'L', '_', 'd', 'e', 'g', 'i', 'm', 'n', 'o', 'r', 's', 't', 'u', 'y']"
      ]
     },
     "execution_count": 113,
     "metadata": {},
     "output_type": "execute_result"
    }
   ],
   "source": [
    "vocab"
   ]
  },
  {
   "cell_type": "code",
   "execution_count": 114,
   "metadata": {},
   "outputs": [],
   "source": [
    "tok_dict = {c: i for i, c in enumerate(vocab)}"
   ]
  },
  {
   "cell_type": "code",
   "execution_count": 115,
   "metadata": {},
   "outputs": [
    {
     "data": {
      "text/plain": [
       "{'<pad>': 0,\n",
       " 'L': 1,\n",
       " '_': 2,\n",
       " 'd': 3,\n",
       " 'e': 4,\n",
       " 'g': 5,\n",
       " 'i': 6,\n",
       " 'm': 7,\n",
       " 'n': 8,\n",
       " 'o': 9,\n",
       " 'r': 10,\n",
       " 's': 11,\n",
       " 't': 12,\n",
       " 'u': 13,\n",
       " 'y': 14}"
      ]
     },
     "execution_count": 115,
     "metadata": {},
     "output_type": "execute_result"
    }
   ],
   "source": [
    "tok_dict"
   ]
  },
  {
   "cell_type": "code",
   "execution_count": 116,
   "metadata": {},
   "outputs": [],
   "source": [
    "tensor_seqs = [[tok_dict[c] for c in seq] for seq in seqs ]"
   ]
  },
  {
   "cell_type": "code",
   "execution_count": 117,
   "metadata": {},
   "outputs": [
    {
     "data": {
      "text/plain": [
       "[[1, 9, 8, 5, 2, 11, 12, 10], [12, 6, 8, 14], [7, 4, 3, 6, 13, 7]]"
      ]
     },
     "execution_count": 117,
     "metadata": {},
     "output_type": "execute_result"
    }
   ],
   "source": [
    "tensor_seqs"
   ]
  },
  {
   "cell_type": "code",
   "execution_count": 118,
   "metadata": {},
   "outputs": [],
   "source": [
    "lengths = [len(s) for s in seqs]"
   ]
  },
  {
   "cell_type": "code",
   "execution_count": 119,
   "metadata": {},
   "outputs": [
    {
     "data": {
      "text/plain": [
       "[8, 4, 6]"
      ]
     },
     "execution_count": 119,
     "metadata": {},
     "output_type": "execute_result"
    }
   ],
   "source": [
    "lengths"
   ]
  },
  {
   "cell_type": "code",
   "execution_count": 120,
   "metadata": {},
   "outputs": [],
   "source": [
    "seq_tensor = torch.full((len(seqs), max(lengths)),  0)"
   ]
  },
  {
   "cell_type": "code",
   "execution_count": 121,
   "metadata": {},
   "outputs": [],
   "source": [
    "for i, s in enumerate(tensor_seqs):\n",
    "    seq_tensor[i, :lengths[i]].copy_(torch.tensor(s))"
   ]
  },
  {
   "cell_type": "code",
   "execution_count": 122,
   "metadata": {},
   "outputs": [
    {
     "data": {
      "text/plain": [
       "tensor([[ 1,  9,  8,  5,  2, 11, 12, 10],\n",
       "        [12,  6,  8, 14,  0,  0,  0,  0],\n",
       "        [ 7,  4,  3,  6, 13,  7,  0,  0]])"
      ]
     },
     "execution_count": 122,
     "metadata": {},
     "output_type": "execute_result"
    }
   ],
   "source": [
    "seq_tensor"
   ]
  },
  {
   "cell_type": "code",
   "execution_count": 123,
   "metadata": {},
   "outputs": [
    {
     "data": {
      "text/plain": [
       "torch.Size([3, 8])"
      ]
     },
     "execution_count": 123,
     "metadata": {},
     "output_type": "execute_result"
    }
   ],
   "source": [
    "seq_tensor.shape"
   ]
  },
  {
   "cell_type": "code",
   "execution_count": 124,
   "metadata": {},
   "outputs": [],
   "source": [
    "seq_tensor = seq_tensor[[0, 2, 1]]"
   ]
  },
  {
   "cell_type": "code",
   "execution_count": 125,
   "metadata": {},
   "outputs": [
    {
     "data": {
      "text/plain": [
       "tensor([[ 1,  9,  8,  5,  2, 11, 12, 10],\n",
       "        [ 7,  4,  3,  6, 13,  7,  0,  0],\n",
       "        [12,  6,  8, 14,  0,  0,  0,  0]])"
      ]
     },
     "execution_count": 125,
     "metadata": {},
     "output_type": "execute_result"
    }
   ],
   "source": [
    "seq_tensor"
   ]
  },
  {
   "cell_type": "code",
   "execution_count": 126,
   "metadata": {},
   "outputs": [],
   "source": [
    "emb_net = nn.Embedding(len(vocab), 4, padding_idx=0)"
   ]
  },
  {
   "cell_type": "code",
   "execution_count": 127,
   "metadata": {},
   "outputs": [],
   "source": [
    "emb = emb_net(seq_tensor)"
   ]
  },
  {
   "cell_type": "code",
   "execution_count": 128,
   "metadata": {},
   "outputs": [
    {
     "data": {
      "text/plain": [
       "torch.Size([3, 8, 4])"
      ]
     },
     "execution_count": 128,
     "metadata": {},
     "output_type": "execute_result"
    }
   ],
   "source": [
    "emb.shape"
   ]
  },
  {
   "cell_type": "code",
   "execution_count": 129,
   "metadata": {},
   "outputs": [],
   "source": [
    "lstm = nn.LSTM(4, 5, batch_first=True)"
   ]
  },
  {
   "cell_type": "code",
   "execution_count": 130,
   "metadata": {},
   "outputs": [
    {
     "data": {
      "text/plain": [
       "tensor([[[ 0.3671,  1.3340,  0.8594, -0.3965],\n",
       "         [ 1.0585, -1.7917,  1.2432, -0.4402],\n",
       "         [-0.6276,  0.2203,  0.0834,  0.0284],\n",
       "         [-1.3854,  0.5379, -0.2663, -0.4320],\n",
       "         [-2.2702, -0.1355, -0.2149,  0.1521],\n",
       "         [ 1.0618,  1.0721,  0.7986,  0.1014],\n",
       "         [ 0.1155,  0.7137,  0.3804, -2.0123],\n",
       "         [-1.1377, -1.4786,  0.9397, -0.7802]],\n",
       "\n",
       "        [[-1.2943,  0.5872, -1.7636,  0.6925],\n",
       "         [ 1.7885,  1.1710,  0.5277, -0.0941],\n",
       "         [-1.3338, -1.9147, -0.6878,  0.2971],\n",
       "         [-0.4266, -0.8293, -0.5631,  2.1739],\n",
       "         [ 0.4974, -0.5883,  0.2990, -0.4474],\n",
       "         [-1.2943,  0.5872, -1.7636,  0.6925],\n",
       "         [ 0.0000,  0.0000,  0.0000,  0.0000],\n",
       "         [ 0.0000,  0.0000,  0.0000,  0.0000]],\n",
       "\n",
       "        [[ 0.1155,  0.7137,  0.3804, -2.0123],\n",
       "         [-0.4266, -0.8293, -0.5631,  2.1739],\n",
       "         [-0.6276,  0.2203,  0.0834,  0.0284],\n",
       "         [ 0.7318,  0.0792,  0.5259,  0.2827],\n",
       "         [ 0.0000,  0.0000,  0.0000,  0.0000],\n",
       "         [ 0.0000,  0.0000,  0.0000,  0.0000],\n",
       "         [ 0.0000,  0.0000,  0.0000,  0.0000],\n",
       "         [ 0.0000,  0.0000,  0.0000,  0.0000]]], grad_fn=<EmbeddingBackward0>)"
      ]
     },
     "execution_count": 130,
     "metadata": {},
     "output_type": "execute_result"
    }
   ],
   "source": [
    "emb"
   ]
  },
  {
   "cell_type": "code",
   "execution_count": 131,
   "metadata": {},
   "outputs": [],
   "source": [
    "seq_lengths = torch.tensor([lengths[0], lengths[2], lengths[1]])"
   ]
  },
  {
   "cell_type": "code",
   "execution_count": 132,
   "metadata": {},
   "outputs": [
    {
     "data": {
      "text/plain": [
       "tensor([8, 6, 4])"
      ]
     },
     "execution_count": 132,
     "metadata": {},
     "output_type": "execute_result"
    }
   ],
   "source": [
    "seq_lengths"
   ]
  },
  {
   "cell_type": "code",
   "execution_count": 133,
   "metadata": {},
   "outputs": [
    {
     "data": {
      "text/plain": [
       "(tensor([[[ 0.3671,  1.3340,  0.8594, -0.3965],\n",
       "          [ 1.0585, -1.7917,  1.2432, -0.4402],\n",
       "          [-0.6276,  0.2203,  0.0834,  0.0284],\n",
       "          [-1.3854,  0.5379, -0.2663, -0.4320],\n",
       "          [-2.2702, -0.1355, -0.2149,  0.1521],\n",
       "          [ 1.0618,  1.0721,  0.7986,  0.1014],\n",
       "          [ 0.1155,  0.7137,  0.3804, -2.0123],\n",
       "          [-1.1377, -1.4786,  0.9397, -0.7802]],\n",
       " \n",
       "         [[-1.2943,  0.5872, -1.7636,  0.6925],\n",
       "          [ 1.7885,  1.1710,  0.5277, -0.0941],\n",
       "          [-1.3338, -1.9147, -0.6878,  0.2971],\n",
       "          [-0.4266, -0.8293, -0.5631,  2.1739],\n",
       "          [ 0.4974, -0.5883,  0.2990, -0.4474],\n",
       "          [-1.2943,  0.5872, -1.7636,  0.6925],\n",
       "          [ 0.0000,  0.0000,  0.0000,  0.0000],\n",
       "          [ 0.0000,  0.0000,  0.0000,  0.0000]],\n",
       " \n",
       "         [[ 0.1155,  0.7137,  0.3804, -2.0123],\n",
       "          [-0.4266, -0.8293, -0.5631,  2.1739],\n",
       "          [-0.6276,  0.2203,  0.0834,  0.0284],\n",
       "          [ 0.7318,  0.0792,  0.5259,  0.2827],\n",
       "          [ 0.0000,  0.0000,  0.0000,  0.0000],\n",
       "          [ 0.0000,  0.0000,  0.0000,  0.0000],\n",
       "          [ 0.0000,  0.0000,  0.0000,  0.0000],\n",
       "          [ 0.0000,  0.0000,  0.0000,  0.0000]]], grad_fn=<EmbeddingBackward0>),\n",
       " torch.Size([3, 8, 4]))"
      ]
     },
     "execution_count": 133,
     "metadata": {},
     "output_type": "execute_result"
    }
   ],
   "source": [
    "emb, emb.shape"
   ]
  },
  {
   "cell_type": "code",
   "execution_count": 134,
   "metadata": {},
   "outputs": [],
   "source": [
    "pack = nn.utils.rnn.pack_padded_sequence(emb, seq_lengths, batch_first=True)"
   ]
  },
  {
   "cell_type": "code",
   "execution_count": 135,
   "metadata": {},
   "outputs": [
    {
     "data": {
      "text/plain": [
       "PackedSequence(data=tensor([[ 0.3671,  1.3340,  0.8594, -0.3965],\n",
       "        [-1.2943,  0.5872, -1.7636,  0.6925],\n",
       "        [ 0.1155,  0.7137,  0.3804, -2.0123],\n",
       "        [ 1.0585, -1.7917,  1.2432, -0.4402],\n",
       "        [ 1.7885,  1.1710,  0.5277, -0.0941],\n",
       "        [-0.4266, -0.8293, -0.5631,  2.1739],\n",
       "        [-0.6276,  0.2203,  0.0834,  0.0284],\n",
       "        [-1.3338, -1.9147, -0.6878,  0.2971],\n",
       "        [-0.6276,  0.2203,  0.0834,  0.0284],\n",
       "        [-1.3854,  0.5379, -0.2663, -0.4320],\n",
       "        [-0.4266, -0.8293, -0.5631,  2.1739],\n",
       "        [ 0.7318,  0.0792,  0.5259,  0.2827],\n",
       "        [-2.2702, -0.1355, -0.2149,  0.1521],\n",
       "        [ 0.4974, -0.5883,  0.2990, -0.4474],\n",
       "        [ 1.0618,  1.0721,  0.7986,  0.1014],\n",
       "        [-1.2943,  0.5872, -1.7636,  0.6925],\n",
       "        [ 0.1155,  0.7137,  0.3804, -2.0123],\n",
       "        [-1.1377, -1.4786,  0.9397, -0.7802]],\n",
       "       grad_fn=<PackPaddedSequenceBackward0>), batch_sizes=tensor([3, 3, 3, 3, 2, 2, 1, 1]), sorted_indices=None, unsorted_indices=None)"
      ]
     },
     "execution_count": 135,
     "metadata": {},
     "output_type": "execute_result"
    }
   ],
   "source": [
    "pack"
   ]
  },
  {
   "cell_type": "code",
   "execution_count": 136,
   "metadata": {},
   "outputs": [],
   "source": [
    "pack_out, (hn, cn) = lstm(pack)"
   ]
  },
  {
   "cell_type": "code",
   "execution_count": 137,
   "metadata": {},
   "outputs": [
    {
     "data": {
      "text/plain": [
       "PackedSequence(data=tensor([[-0.0479,  0.1212,  0.1360, -0.0552, -0.0867],\n",
       "        [-0.2239, -0.0018, -0.0403,  0.0916,  0.0348],\n",
       "        [-0.0582,  0.0309,  0.1993, -0.0363, -0.1940],\n",
       "        [ 0.0527,  0.3471,  0.1746, -0.0436,  0.1176],\n",
       "        [-0.1283,  0.1882,  0.1621, -0.1178,  0.0758],\n",
       "        [ 0.1396,  0.1737,  0.0049,  0.2628,  0.0236],\n",
       "        [ 0.0521,  0.1669,  0.1245,  0.0671,  0.0438],\n",
       "        [ 0.0601,  0.0435,  0.0103,  0.0845,  0.1172],\n",
       "        [ 0.0191,  0.0935,  0.0060,  0.1596, -0.0057],\n",
       "        [-0.0837,  0.0347,  0.0886,  0.0900, -0.0941],\n",
       "        [ 0.1646,  0.1336, -0.0343,  0.3357,  0.2339],\n",
       "        [ 0.0511,  0.2284,  0.0769,  0.1150,  0.0718],\n",
       "        [-0.1049, -0.0510,  0.0171,  0.1851, -0.0958],\n",
       "        [ 0.0759,  0.1482, -0.0040,  0.2034,  0.2706],\n",
       "        [-0.0709,  0.1320,  0.1601,  0.0020, -0.1178],\n",
       "        [-0.1885,  0.0074, -0.0555,  0.1314,  0.2051],\n",
       "        [-0.1011,  0.1170,  0.3258, -0.0443, -0.2554],\n",
       "        [ 0.0254,  0.0929,  0.1277,  0.0225, -0.1082]], grad_fn=<CatBackward0>), batch_sizes=tensor([3, 3, 3, 3, 2, 2, 1, 1]), sorted_indices=None, unsorted_indices=None)"
      ]
     },
     "execution_count": 137,
     "metadata": {},
     "output_type": "execute_result"
    }
   ],
   "source": [
    "pack_out"
   ]
  },
  {
   "cell_type": "code",
   "execution_count": 138,
   "metadata": {},
   "outputs": [
    {
     "data": {
      "text/plain": [
       "(tensor([[[ 0.0254,  0.0929,  0.1277,  0.0225, -0.1082],\n",
       "          [-0.1885,  0.0074, -0.0555,  0.1314,  0.2051],\n",
       "          [ 0.0511,  0.2284,  0.0769,  0.1150,  0.0718]]],\n",
       "        grad_fn=<StackBackward0>),\n",
       " torch.Size([1, 3, 5]))"
      ]
     },
     "execution_count": 138,
     "metadata": {},
     "output_type": "execute_result"
    }
   ],
   "source": [
    "hn, hn.shape"
   ]
  },
  {
   "cell_type": "code",
   "execution_count": 139,
   "metadata": {},
   "outputs": [
    {
     "data": {
      "text/plain": [
       "(tensor([[[ 0.0780,  0.1852,  0.2993,  0.0389, -0.3620],\n",
       "          [-0.2909,  0.0284, -0.1417,  0.5317,  0.3060],\n",
       "          [ 0.1402,  0.4977,  0.1136,  0.2195,  0.1058]]],\n",
       "        grad_fn=<StackBackward0>),\n",
       " torch.Size([1, 3, 5]))"
      ]
     },
     "execution_count": 139,
     "metadata": {},
     "output_type": "execute_result"
    }
   ],
   "source": [
    "cn, cn.shape"
   ]
  },
  {
   "cell_type": "code",
   "execution_count": 140,
   "metadata": {},
   "outputs": [],
   "source": [
    "out = nn.utils.rnn.pad_packed_sequence(pack_out, batch_first=True)"
   ]
  },
  {
   "cell_type": "code",
   "execution_count": 141,
   "metadata": {},
   "outputs": [
    {
     "data": {
      "text/plain": [
       "(tensor([[[-0.0479,  0.1212,  0.1360, -0.0552, -0.0867],\n",
       "          [ 0.0527,  0.3471,  0.1746, -0.0436,  0.1176],\n",
       "          [ 0.0521,  0.1669,  0.1245,  0.0671,  0.0438],\n",
       "          [-0.0837,  0.0347,  0.0886,  0.0900, -0.0941],\n",
       "          [-0.1049, -0.0510,  0.0171,  0.1851, -0.0958],\n",
       "          [-0.0709,  0.1320,  0.1601,  0.0020, -0.1178],\n",
       "          [-0.1011,  0.1170,  0.3258, -0.0443, -0.2554],\n",
       "          [ 0.0254,  0.0929,  0.1277,  0.0225, -0.1082]],\n",
       " \n",
       "         [[-0.2239, -0.0018, -0.0403,  0.0916,  0.0348],\n",
       "          [-0.1283,  0.1882,  0.1621, -0.1178,  0.0758],\n",
       "          [ 0.0601,  0.0435,  0.0103,  0.0845,  0.1172],\n",
       "          [ 0.1646,  0.1336, -0.0343,  0.3357,  0.2339],\n",
       "          [ 0.0759,  0.1482, -0.0040,  0.2034,  0.2706],\n",
       "          [-0.1885,  0.0074, -0.0555,  0.1314,  0.2051],\n",
       "          [ 0.0000,  0.0000,  0.0000,  0.0000,  0.0000],\n",
       "          [ 0.0000,  0.0000,  0.0000,  0.0000,  0.0000]],\n",
       " \n",
       "         [[-0.0582,  0.0309,  0.1993, -0.0363, -0.1940],\n",
       "          [ 0.1396,  0.1737,  0.0049,  0.2628,  0.0236],\n",
       "          [ 0.0191,  0.0935,  0.0060,  0.1596, -0.0057],\n",
       "          [ 0.0511,  0.2284,  0.0769,  0.1150,  0.0718],\n",
       "          [ 0.0000,  0.0000,  0.0000,  0.0000,  0.0000],\n",
       "          [ 0.0000,  0.0000,  0.0000,  0.0000,  0.0000],\n",
       "          [ 0.0000,  0.0000,  0.0000,  0.0000,  0.0000],\n",
       "          [ 0.0000,  0.0000,  0.0000,  0.0000,  0.0000]]],\n",
       "        grad_fn=<TransposeBackward0>),\n",
       " tensor([8, 6, 4]))"
      ]
     },
     "execution_count": 141,
     "metadata": {},
     "output_type": "execute_result"
    }
   ],
   "source": [
    "out"
   ]
  },
  {
   "cell_type": "code",
   "execution_count": 142,
   "metadata": {},
   "outputs": [
    {
     "data": {
      "text/plain": [
       "torch.Size([3, 8, 5])"
      ]
     },
     "execution_count": 142,
     "metadata": {},
     "output_type": "execute_result"
    }
   ],
   "source": [
    "out[0].shape"
   ]
  },
  {
   "cell_type": "code",
   "execution_count": 143,
   "metadata": {},
   "outputs": [
    {
     "data": {
      "text/plain": [
       "torch.Size([3, 8, 4])"
      ]
     },
     "execution_count": 143,
     "metadata": {},
     "output_type": "execute_result"
    }
   ],
   "source": [
    "emb.shape"
   ]
  },
  {
   "cell_type": "code",
   "execution_count": 144,
   "metadata": {},
   "outputs": [
    {
     "data": {
      "text/plain": [
       "tensor([[[-1.5460, -2.5042,  0.4786,  0.8921,  1.4133,  0.7514,  2.1048,\n",
       "          -0.0121,  2.6287, -3.4389],\n",
       "         [-0.4235,  0.0000,  1.4360,  0.6238,  0.0000,  0.0000,  1.2670,\n",
       "           2.7964, -0.6498,  0.4897],\n",
       "         [-0.9694, -0.2152,  0.3140, -0.3766,  0.0000,  1.1677, -0.9263,\n",
       "           0.0385, -1.9612,  0.2844],\n",
       "         [-0.3100,  1.5022,  0.5568, -0.7406, -0.0820, -1.3247,  0.1136,\n",
       "           1.3514,  0.7137,  0.5456],\n",
       "         [ 0.3754, -0.7686,  0.0527,  0.3326, -0.5875,  0.0000, -1.5427,\n",
       "           1.2762, -0.2588,  0.6040]],\n",
       "\n",
       "        [[ 1.6713, -0.1814, -0.1206, -0.0000,  1.7031,  1.2326, -0.8841,\n",
       "           0.3153, -0.5282, -2.3104],\n",
       "         [-1.4563,  1.5149, -0.7979,  1.0994, -1.4102,  0.4619,  0.1596,\n",
       "           0.8654,  1.3375,  0.0607],\n",
       "         [ 1.4168,  0.3127,  0.3840, -0.3514,  0.3749,  0.4348,  1.9042,\n",
       "           0.6755, -1.8836,  0.9926],\n",
       "         [-0.8742,  1.3405,  0.6788,  0.5404,  1.0181,  2.5527, -0.4064,\n",
       "          -0.0000,  2.8675,  0.5209],\n",
       "         [ 0.0000,  0.3145, -0.9145,  0.7358, -0.0000,  1.0096, -0.7242,\n",
       "          -1.7239,  0.0611,  0.2169]]])"
      ]
     },
     "execution_count": 144,
     "metadata": {},
     "output_type": "execute_result"
    }
   ],
   "source": [
    "nn.Dropout(p=0.1)(torch.randn(2, 5, 10))"
   ]
  },
  {
   "cell_type": "code",
   "execution_count": 145,
   "metadata": {},
   "outputs": [
    {
     "data": {
      "text/plain": [
       "Parameter containing:\n",
       "tensor([[-0.0333,  0.1173, -0.0640,  0.0197,  0.0359],\n",
       "        [-0.3169, -0.4083,  0.3587,  0.3638,  0.0152],\n",
       "        [ 0.3171, -0.0092, -0.0725, -0.3896,  0.0393],\n",
       "        [-0.0629,  0.0823,  0.3987, -0.3283, -0.1105],\n",
       "        [ 0.3074, -0.3461, -0.4293, -0.2412, -0.1811],\n",
       "        [ 0.1837, -0.3388,  0.0512,  0.2533, -0.4404],\n",
       "        [-0.1301,  0.2809,  0.2151,  0.3206,  0.2904],\n",
       "        [-0.0255, -0.4137,  0.1480, -0.2196,  0.1552],\n",
       "        [ 0.2892, -0.0090,  0.0429, -0.3924, -0.2510],\n",
       "        [-0.3423,  0.2023,  0.0337,  0.2497,  0.1350],\n",
       "        [ 0.4103,  0.3104,  0.2279, -0.3925,  0.1034],\n",
       "        [-0.0767, -0.0106,  0.0750, -0.3789, -0.3944],\n",
       "        [-0.4202,  0.3310,  0.0324, -0.2236, -0.3058],\n",
       "        [ 0.3241, -0.2345,  0.0772,  0.0695,  0.4145],\n",
       "        [-0.3109, -0.4248, -0.2422,  0.2540, -0.0280],\n",
       "        [-0.3810,  0.4236, -0.1972, -0.1865, -0.0556],\n",
       "        [-0.0341,  0.4008,  0.2638, -0.2003,  0.0666],\n",
       "        [-0.4169,  0.1741, -0.4416,  0.0811, -0.0734],\n",
       "        [-0.2715, -0.1549,  0.3251, -0.1380,  0.3148],\n",
       "        [ 0.3530,  0.3771,  0.2422,  0.4266,  0.3653]], requires_grad=True)"
      ]
     },
     "execution_count": 145,
     "metadata": {},
     "output_type": "execute_result"
    }
   ],
   "source": [
    "lstm.weight_hh_l0"
   ]
  },
  {
   "cell_type": "code",
   "execution_count": 146,
   "metadata": {},
   "outputs": [
    {
     "data": {
      "text/plain": [
       "torch.Size([20, 5])"
      ]
     },
     "execution_count": 146,
     "metadata": {},
     "output_type": "execute_result"
    }
   ],
   "source": [
    "w = lstm.weight_hh_l0\n",
    "w.shape"
   ]
  },
  {
   "cell_type": "code",
   "execution_count": 147,
   "metadata": {},
   "outputs": [],
   "source": [
    "u, v = w.chunk(2, dim=1)"
   ]
  },
  {
   "cell_type": "code",
   "execution_count": 148,
   "metadata": {},
   "outputs": [
    {
     "data": {
      "text/plain": [
       "tensor([[-0.0333,  0.1173, -0.0640],\n",
       "        [-0.3169, -0.4083,  0.3587],\n",
       "        [ 0.3171, -0.0092, -0.0725],\n",
       "        [-0.0629,  0.0823,  0.3987],\n",
       "        [ 0.3074, -0.3461, -0.4293],\n",
       "        [ 0.1837, -0.3388,  0.0512],\n",
       "        [-0.1301,  0.2809,  0.2151],\n",
       "        [-0.0255, -0.4137,  0.1480],\n",
       "        [ 0.2892, -0.0090,  0.0429],\n",
       "        [-0.3423,  0.2023,  0.0337],\n",
       "        [ 0.4103,  0.3104,  0.2279],\n",
       "        [-0.0767, -0.0106,  0.0750],\n",
       "        [-0.4202,  0.3310,  0.0324],\n",
       "        [ 0.3241, -0.2345,  0.0772],\n",
       "        [-0.3109, -0.4248, -0.2422],\n",
       "        [-0.3810,  0.4236, -0.1972],\n",
       "        [-0.0341,  0.4008,  0.2638],\n",
       "        [-0.4169,  0.1741, -0.4416],\n",
       "        [-0.2715, -0.1549,  0.3251],\n",
       "        [ 0.3530,  0.3771,  0.2422]], grad_fn=<SplitBackward0>)"
      ]
     },
     "execution_count": 148,
     "metadata": {},
     "output_type": "execute_result"
    }
   ],
   "source": [
    "u"
   ]
  },
  {
   "cell_type": "code",
   "execution_count": 149,
   "metadata": {},
   "outputs": [
    {
     "data": {
      "text/plain": [
       "tensor([[ 0.0197,  0.0359],\n",
       "        [ 0.3638,  0.0152],\n",
       "        [-0.3896,  0.0393],\n",
       "        [-0.3283, -0.1105],\n",
       "        [-0.2412, -0.1811],\n",
       "        [ 0.2533, -0.4404],\n",
       "        [ 0.3206,  0.2904],\n",
       "        [-0.2196,  0.1552],\n",
       "        [-0.3924, -0.2510],\n",
       "        [ 0.2497,  0.1350],\n",
       "        [-0.3925,  0.1034],\n",
       "        [-0.3789, -0.3944],\n",
       "        [-0.2236, -0.3058],\n",
       "        [ 0.0695,  0.4145],\n",
       "        [ 0.2540, -0.0280],\n",
       "        [-0.1865, -0.0556],\n",
       "        [-0.2003,  0.0666],\n",
       "        [ 0.0811, -0.0734],\n",
       "        [-0.1380,  0.3148],\n",
       "        [ 0.4266,  0.3653]], grad_fn=<SplitBackward0>)"
      ]
     },
     "execution_count": 149,
     "metadata": {},
     "output_type": "execute_result"
    }
   ],
   "source": [
    "v"
   ]
  },
  {
   "cell_type": "code",
   "execution_count": 150,
   "metadata": {},
   "outputs": [
    {
     "data": {
      "text/plain": [
       "3"
      ]
     },
     "execution_count": 150,
     "metadata": {},
     "output_type": "execute_result"
    }
   ],
   "source": [
    "(torch.arange(0, 10,) >= torch.randint(4, 8, (30, )).view(3, 10).unsqueeze_(1)).size(0)"
   ]
  },
  {
   "cell_type": "code",
   "execution_count": 151,
   "metadata": {},
   "outputs": [
    {
     "data": {
      "text/plain": [
       "tensor([[False, False, False, False,  True,  True,  True,  True,  True,  True],\n",
       "        [False, False, False, False,  True,  True,  True,  True,  True,  True],\n",
       "        [False, False, False, False,  True,  True,  True,  True,  True,  True],\n",
       "        [False, False, False, False,  True,  True,  True,  True,  True,  True],\n",
       "        [False, False, False, False, False, False, False,  True,  True,  True],\n",
       "        [False, False, False, False, False, False,  True,  True,  True,  True],\n",
       "        [False, False, False, False, False,  True,  True,  True,  True,  True],\n",
       "        [False, False, False, False, False, False, False,  True,  True,  True],\n",
       "        [False, False, False, False, False, False, False,  True,  True,  True]])"
      ]
     },
     "execution_count": 151,
     "metadata": {},
     "output_type": "execute_result"
    }
   ],
   "source": [
    "torch.arange(0, 10,) >= torch.randint(4, 8, (9, )).view(9).unsqueeze(1)"
   ]
  },
  {
   "cell_type": "code",
   "execution_count": 152,
   "metadata": {},
   "outputs": [
    {
     "data": {
      "text/plain": [
       "torch.Size([16, 64, 92, 256])"
      ]
     },
     "execution_count": 152,
     "metadata": {},
     "output_type": "execute_result"
    }
   ],
   "source": [
    "nn.Linear(128, 256)(torch.randn((16, 64, 92, 128))).shape"
   ]
  },
  {
   "cell_type": "code",
   "execution_count": 153,
   "metadata": {},
   "outputs": [
    {
     "data": {
      "text/plain": [
       "torch.Size([3, 1, 4])"
      ]
     },
     "execution_count": 153,
     "metadata": {},
     "output_type": "execute_result"
    }
   ],
   "source": [
    "(torch.randn((3, 1, 4)) + torch.randn(( 4))).shape"
   ]
  },
  {
   "cell_type": "code",
   "execution_count": 154,
   "metadata": {},
   "outputs": [
    {
     "data": {
      "text/plain": [
       "tensor(0.)"
      ]
     },
     "execution_count": 154,
     "metadata": {},
     "output_type": "execute_result"
    }
   ],
   "source": [
    "torch.exp(torch.tensor(-65504.))"
   ]
  },
  {
   "attachments": {},
   "cell_type": "markdown",
   "metadata": {},
   "source": [
    "Cross entropy loss"
   ]
  },
  {
   "cell_type": "code",
   "execution_count": 155,
   "metadata": {},
   "outputs": [],
   "source": [
    "x = torch.randn((16, 48, 128))"
   ]
  },
  {
   "cell_type": "code",
   "execution_count": 156,
   "metadata": {},
   "outputs": [
    {
     "data": {
      "text/plain": [
       "tensor([104])"
      ]
     },
     "execution_count": 156,
     "metadata": {},
     "output_type": "execute_result"
    }
   ],
   "source": [
    "mask = torch.randint(10, 128, size=(16, 48, 1))\n",
    "mask[0][0]"
   ]
  },
  {
   "cell_type": "code",
   "execution_count": 157,
   "metadata": {},
   "outputs": [
    {
     "data": {
      "text/plain": [
       "tensor([  1,  66,  94,  85,  29,  79,  97,  99, 100,  72,  15,  27,  79,  52,\n",
       "         79,  85,  17, 104,  93,  85,  48, 122,  17,  10,  52,  98,  42,  38,\n",
       "         14,  26,  14,  87,  85,  92,  80, 120,  95, 100,  50,  70,  26, 122,\n",
       "         89,  64,   1,  82,   1, 109,  34, 124,  26,  82,  59,  73, 104,  73,\n",
       "         63,  78, 107, 113,  40,  21,  64, 112,  13, 100,  56,  81,  66, 119,\n",
       "          6,  13,  39,  85, 107,  82,  85,  65,  31,  31, 104,  98,  22,  69,\n",
       "         75,  56,  45,  17,  46,  18,  59,  58,  25,  67,  11,  14,  33,  98,\n",
       "         92,   8,  98,  79,  85, 116,  46,  62,  32, 106,  29,  23, 107,  98,\n",
       "         96,  75,  22, 110, 122,  20,  94,  74,  25,   8, 101, 121,  44,  50,\n",
       "          4,  28])"
      ]
     },
     "execution_count": 157,
     "metadata": {},
     "output_type": "execute_result"
    }
   ],
   "source": [
    "target = torch.empty((16, 48, 128), dtype=torch.int64).random_(1, 128)\n",
    "target[0][0]"
   ]
  },
  {
   "cell_type": "code",
   "execution_count": 158,
   "metadata": {},
   "outputs": [],
   "source": [
    "masked = torch.arange(0, 128, dtype=torch.long) >= mask\n",
    "target.masked_fill_(masked, 0) \n",
    "pass"
   ]
  },
  {
   "cell_type": "code",
   "execution_count": 159,
   "metadata": {},
   "outputs": [
    {
     "data": {
      "text/plain": [
       "tensor([116,   0,   0,   0,   0,   0,   0,   0,   0,   0,   0,   0,   0,   0,\n",
       "          0,   0,   0,   0,   0,   0,   0,   0,   0,   0,   0])"
      ]
     },
     "execution_count": 159,
     "metadata": {},
     "output_type": "execute_result"
    }
   ],
   "source": [
    "target[0][0][mask[0][0]-1:]"
   ]
  },
  {
   "cell_type": "code",
   "execution_count": 160,
   "metadata": {},
   "outputs": [],
   "source": [
    "cross_loss = nn.CrossEntropyLoss(ignore_index=0)"
   ]
  },
  {
   "cell_type": "code",
   "execution_count": 161,
   "metadata": {},
   "outputs": [],
   "source": [
    "# loss = cross_loss(input, target)"
   ]
  },
  {
   "cell_type": "code",
   "execution_count": 162,
   "metadata": {},
   "outputs": [
    {
     "data": {
      "text/plain": [
       "tensor([  1,  66,  94,  85,  29,  79,  97,  99, 100,  72,  15,  27,  79,  52,\n",
       "         79,  85,  17, 104,  93,  85,  48, 122,  17,  10,  52,  98,  42,  38,\n",
       "         14,  26,  14,  87,  85,  92,  80, 120,  95, 100,  50,  70,  26, 122,\n",
       "         89,  64,   1,  82,   1, 109,  34, 124,  26,  82,  59,  73, 104,  73,\n",
       "         63,  78, 107, 113,  40,  21,  64, 112,  13, 100,  56,  81,  66, 119,\n",
       "          6,  13,  39,  85, 107,  82,  85,  65,  31,  31, 104,  98,  22,  69,\n",
       "         75,  56,  45,  17,  46,  18,  59,  58,  25,  67,  11,  14,  33,  98,\n",
       "         92,   8,  98,  79,  85, 116,   0,   0,   0,   0,   0,   0,   0,   0,\n",
       "          0,   0,   0,   0,   0,   0,   0,   0,   0,   0,   0,   0,   0,   0,\n",
       "          0,   0])"
      ]
     },
     "execution_count": 162,
     "metadata": {},
     "output_type": "execute_result"
    }
   ],
   "source": [
    "target[0][0]"
   ]
  },
  {
   "cell_type": "code",
   "execution_count": 163,
   "metadata": {},
   "outputs": [
    {
     "data": {
      "text/plain": [
       "tensor([[[ 0.2552, -0.1802,  0.2588, -0.7061, -0.8777, -1.2653,  0.0321,\n",
       "           1.5530],\n",
       "         [ 0.3243,  0.2790,  0.1466,  0.7425,  0.5751, -0.4438,  0.9766,\n",
       "           0.1799],\n",
       "         [-0.0652, -0.1049, -0.1837, -0.6695,  1.3287, -1.7559,  0.6593,\n",
       "           0.4805],\n",
       "         [ 0.5903,  0.8178, -0.9333, -0.6854,  0.9481,  0.7393,  0.3437,\n",
       "           0.0594]],\n",
       "\n",
       "        [[ 0.7289,  0.7445,  0.5808,  0.7623, -2.6973,  0.2699, -0.7284,\n",
       "           1.2703],\n",
       "         [-0.9471, -0.5631,  0.7597, -0.1863, -0.0955, -1.4100,  0.2837,\n",
       "           2.0454],\n",
       "         [ 0.2972, -0.9666, -1.2491, -0.0188, -0.7169,  1.4711,  1.8277,\n",
       "          -0.6550],\n",
       "         [-1.7866, -0.5917,  1.0615, -0.8268, -0.9765,  0.1190, -2.1398,\n",
       "           1.4746]]])"
      ]
     },
     "execution_count": 163,
     "metadata": {},
     "output_type": "execute_result"
    }
   ],
   "source": [
    "x = torch.randn((2, 4, 8))\n",
    "x"
   ]
  },
  {
   "cell_type": "code",
   "execution_count": 164,
   "metadata": {},
   "outputs": [
    {
     "data": {
      "text/plain": [
       "tensor([[1, 7, 1, 3],\n",
       "        [5, 4, 6, 2]])"
      ]
     },
     "execution_count": 164,
     "metadata": {},
     "output_type": "execute_result"
    }
   ],
   "source": [
    "target = torch.empty((2, 4), dtype=torch.int64).random_(1, 8)\n",
    "target"
   ]
  },
  {
   "cell_type": "code",
   "execution_count": 165,
   "metadata": {},
   "outputs": [],
   "source": [
    "y = x.gather(dim=-1, index=target.unsqueeze(2))"
   ]
  },
  {
   "cell_type": "code",
   "execution_count": 166,
   "metadata": {},
   "outputs": [
    {
     "data": {
      "text/plain": [
       "(torch.Size([2, 4, 1]),\n",
       " tensor([[[-0.1802],\n",
       "          [ 0.1799],\n",
       "          [-0.1049],\n",
       "          [-0.6854]],\n",
       " \n",
       "         [[ 0.2699],\n",
       "          [-0.0955],\n",
       "          [ 1.8277],\n",
       "          [ 1.0615]]]))"
      ]
     },
     "execution_count": 166,
     "metadata": {},
     "output_type": "execute_result"
    }
   ],
   "source": [
    "y.shape, y"
   ]
  },
  {
   "cell_type": "code",
   "execution_count": 167,
   "metadata": {},
   "outputs": [],
   "source": [
    "net = nn.Linear(10, 50)"
   ]
  },
  {
   "cell_type": "code",
   "execution_count": 168,
   "metadata": {},
   "outputs": [
    {
     "data": {
      "text/plain": [
       "Linear(in_features=10, out_features=50, bias=True)"
      ]
     },
     "execution_count": 168,
     "metadata": {},
     "output_type": "execute_result"
    }
   ],
   "source": [
    "net.half()"
   ]
  },
  {
   "cell_type": "code",
   "execution_count": 169,
   "metadata": {},
   "outputs": [
    {
     "name": "stdout",
     "output_type": "stream",
     "text": [
      "torch.float16\n",
      "torch.float16\n"
     ]
    }
   ],
   "source": [
    "for p in net.parameters():\n",
    "    print(p.dtype)"
   ]
  },
  {
   "cell_type": "code",
   "execution_count": 170,
   "metadata": {},
   "outputs": [
    {
     "name": "stdout",
     "output_type": "stream",
     "text": [
      "torch.float16\n",
      "torch.float16\n"
     ]
    }
   ],
   "source": [
    "for p in net.parameters():\n",
    "    p.to(torch.float)\n",
    "    print(p.dtype)\n",
    "    "
   ]
  },
  {
   "cell_type": "code",
   "execution_count": 171,
   "metadata": {},
   "outputs": [
    {
     "name": "stdout",
     "output_type": "stream",
     "text": [
      "True\n",
      "True\n"
     ]
    }
   ],
   "source": [
    "for p in net.parameters():\n",
    "    print(p.requires_grad)"
   ]
  },
  {
   "cell_type": "code",
   "execution_count": 172,
   "metadata": {},
   "outputs": [
    {
     "name": "stdout",
     "output_type": "stream",
     "text": [
      "False torch.float16\n",
      "False torch.float16\n"
     ]
    }
   ],
   "source": [
    "for p in net.parameters():\n",
    "    print(p.detach().requires_grad, p.dtype)"
   ]
  },
  {
   "cell_type": "code",
   "execution_count": 173,
   "metadata": {},
   "outputs": [],
   "source": [
    "net.float()\n",
    "loss = net(torch.randn((32, 10), dtype=torch.float32)).sum()"
   ]
  },
  {
   "cell_type": "code",
   "execution_count": 174,
   "metadata": {},
   "outputs": [],
   "source": [
    "loss.backward()"
   ]
  },
  {
   "cell_type": "code",
   "execution_count": 175,
   "metadata": {},
   "outputs": [
    {
     "name": "stdout",
     "output_type": "stream",
     "text": [
      "<class 'torch.Tensor'> False\n",
      "<class 'torch.Tensor'> False\n"
     ]
    }
   ],
   "source": [
    "for p in net.parameters():\n",
    "    print(type(p.grad), p.grad.requires_grad)"
   ]
  },
  {
   "cell_type": "code",
   "execution_count": 176,
   "metadata": {},
   "outputs": [
    {
     "data": {
      "text/plain": [
       "tensor(267.4038)"
      ]
     },
     "execution_count": 176,
     "metadata": {},
     "output_type": "execute_result"
    }
   ],
   "source": [
    "nn.utils.clip_grad_norm_(net.parameters(), 5.0)"
   ]
  },
  {
   "cell_type": "code",
   "execution_count": 177,
   "metadata": {},
   "outputs": [
    {
     "data": {
      "text/plain": [
       "0.954992586021436"
      ]
     },
     "execution_count": 177,
     "metadata": {},
     "output_type": "execute_result"
    }
   ],
   "source": [
    "math.exp(math.log(0.01) / 100)"
   ]
  },
  {
   "cell_type": "code",
   "execution_count": 178,
   "metadata": {},
   "outputs": [
    {
     "data": {
      "text/plain": [
       "0.010000000000000049"
      ]
     },
     "execution_count": 178,
     "metadata": {},
     "output_type": "execute_result"
    }
   ],
   "source": [
    "0.954992586021436 ** 100"
   ]
  },
  {
   "cell_type": "code",
   "execution_count": 179,
   "metadata": {},
   "outputs": [],
   "source": [
    "x = torch.empty((4, 5)).float().uniform_(-1, 1)"
   ]
  },
  {
   "cell_type": "code",
   "execution_count": 180,
   "metadata": {},
   "outputs": [
    {
     "data": {
      "text/plain": [
       "tensor([[ 0.7856, -0.7376, -0.3534, -0.2913, -0.6105],\n",
       "        [ 0.5831, -0.2230, -0.5985, -0.2779,  0.9229],\n",
       "        [ 0.6013,  0.0888, -0.3773,  0.8554,  0.2857],\n",
       "        [-0.2183, -0.9263,  0.0471,  0.4908,  0.4940]])"
      ]
     },
     "execution_count": 180,
     "metadata": {},
     "output_type": "execute_result"
    }
   ],
   "source": [
    "x"
   ]
  },
  {
   "cell_type": "code",
   "execution_count": 181,
   "metadata": {},
   "outputs": [],
   "source": [
    "y = torch.zeros_like(x)"
   ]
  },
  {
   "cell_type": "code",
   "execution_count": 182,
   "metadata": {},
   "outputs": [
    {
     "data": {
      "text/plain": [
       "tensor([[0., 0., 0., 0., 0.],\n",
       "        [0., 0., 0., 0., 0.],\n",
       "        [0., 0., 0., 0., 0.],\n",
       "        [0., 0., 0., 0., 0.]])"
      ]
     },
     "execution_count": 182,
     "metadata": {},
     "output_type": "execute_result"
    }
   ],
   "source": [
    "y"
   ]
  },
  {
   "cell_type": "code",
   "execution_count": 183,
   "metadata": {},
   "outputs": [],
   "source": [
    "z = x.to(y)"
   ]
  },
  {
   "cell_type": "code",
   "execution_count": 184,
   "metadata": {},
   "outputs": [],
   "source": [
    "z += 3"
   ]
  },
  {
   "cell_type": "code",
   "execution_count": 185,
   "metadata": {},
   "outputs": [
    {
     "data": {
      "text/plain": [
       "(tensor([[3.7856, 2.2624, 2.6466, 2.7087, 2.3895],\n",
       "         [3.5831, 2.7770, 2.4015, 2.7221, 3.9229],\n",
       "         [3.6013, 3.0888, 2.6227, 3.8554, 3.2857],\n",
       "         [2.7817, 2.0737, 3.0471, 3.4908, 3.4940]]),\n",
       " tensor([[0., 0., 0., 0., 0.],\n",
       "         [0., 0., 0., 0., 0.],\n",
       "         [0., 0., 0., 0., 0.],\n",
       "         [0., 0., 0., 0., 0.]]),\n",
       " tensor([[3.7856, 2.2624, 2.6466, 2.7087, 2.3895],\n",
       "         [3.5831, 2.7770, 2.4015, 2.7221, 3.9229],\n",
       "         [3.6013, 3.0888, 2.6227, 3.8554, 3.2857],\n",
       "         [2.7817, 2.0737, 3.0471, 3.4908, 3.4940]]))"
      ]
     },
     "execution_count": 185,
     "metadata": {},
     "output_type": "execute_result"
    }
   ],
   "source": [
    "z, y, x"
   ]
  },
  {
   "cell_type": "code",
   "execution_count": 186,
   "metadata": {},
   "outputs": [],
   "source": [
    "x = torch.randn(4, 5)"
   ]
  },
  {
   "cell_type": "code",
   "execution_count": 187,
   "metadata": {},
   "outputs": [],
   "source": [
    "x = x.cuda()"
   ]
  },
  {
   "cell_type": "code",
   "execution_count": 188,
   "metadata": {},
   "outputs": [
    {
     "data": {
      "text/plain": [
       "tensor([[-1.2026,  0.4336,  1.5385, -0.2196,  0.5242],\n",
       "        [ 0.3118,  0.3979, -0.9387, -1.3952,  1.2149],\n",
       "        [ 0.8543,  0.3101, -0.2559, -1.3743, -0.5957],\n",
       "        [ 1.9387, -0.8684,  0.3165, -0.1275,  0.2961]], device='cuda:0')"
      ]
     },
     "execution_count": 188,
     "metadata": {},
     "output_type": "execute_result"
    }
   ],
   "source": [
    "x"
   ]
  },
  {
   "cell_type": "code",
   "execution_count": 189,
   "metadata": {},
   "outputs": [
    {
     "data": {
      "text/plain": [
       "tensor([[0., 0., 0., 0., 0., 0., 0., 0., 0., 0., 0., 0., 0., 0., 0., 0., 0., 0., 0., 0.],\n",
       "        [0., 0., 0., 0., 0., 0., 0., 0., 0., 0., 0., 0., 0., 0., 0., 0., 0., 0., 0., 0.],\n",
       "        [0., 0., 0., 0., 0., 0., 0., 0., 0., 0., 0., 0., 0., 0., 0., 0., 0., 0., 0., 0.],\n",
       "        [0., 0., 0., 0., 0., 0., 0., 0., 0., 0., 0., 0., 0., 0., 0., 0., 0., 0., 0., 0.],\n",
       "        [0., 0., 0., 0., 0., 0., 0., 0., 0., 0., 0., 0., 0., 0., 0., 0., 0., 0., 0., 0.],\n",
       "        [0., 0., 0., 0., 0., 0., 0., 0., 0., 0., 0., 0., 0., 0., 0., 0., 0., 0., 0., 0.],\n",
       "        [0., 0., 0., 0., 0., 0., 0., 0., 0., 0., 0., 0., 0., 0., 0., 0., 0., 0., 0., 0.],\n",
       "        [0., 0., 0., 0., 0., 0., 0., 0., 0., 0., 0., 0., 0., 0., 0., 0., 0., 0., 0., 0.]],\n",
       "       device='cuda:0')"
      ]
     },
     "execution_count": 189,
     "metadata": {},
     "output_type": "execute_result"
    }
   ],
   "source": [
    "x.new_zeros(8, 20)"
   ]
  },
  {
   "cell_type": "code",
   "execution_count": 190,
   "metadata": {},
   "outputs": [
    {
     "data": {
      "text/plain": [
       "tensor([[-1.2026,  0.4336,  1.5385, -0.2196,  0.5242],\n",
       "        [ 0.3118,  0.3979, -0.9387, -1.3952,  1.2149],\n",
       "        [ 0.8543,  0.3101, -0.2559, -1.3743, -0.5957],\n",
       "        [ 1.9387, -0.8684,  0.3165, -0.1275,  0.2961]], device='cuda:0')"
      ]
     },
     "execution_count": 190,
     "metadata": {},
     "output_type": "execute_result"
    }
   ],
   "source": [
    "x"
   ]
  },
  {
   "cell_type": "code",
   "execution_count": 191,
   "metadata": {},
   "outputs": [
    {
     "data": {
      "text/plain": [
       "torch.Size([4, 5])"
      ]
     },
     "execution_count": 191,
     "metadata": {},
     "output_type": "execute_result"
    }
   ],
   "source": [
    "x.shape"
   ]
  },
  {
   "cell_type": "code",
   "execution_count": 192,
   "metadata": {},
   "outputs": [
    {
     "data": {
      "text/plain": [
       "tensor([[[-1.2026,  0.4336,  1.5385, -0.2196,  0.5242],\n",
       "         [ 0.3118,  0.3979, -0.9387, -1.3952,  1.2149],\n",
       "         [ 0.8543,  0.3101, -0.2559, -1.3743, -0.5957],\n",
       "         [ 1.9387, -0.8684,  0.3165, -0.1275,  0.2961]],\n",
       "\n",
       "        [[-1.2026,  0.4336,  1.5385, -0.2196,  0.5242],\n",
       "         [ 0.3118,  0.3979, -0.9387, -1.3952,  1.2149],\n",
       "         [ 0.8543,  0.3101, -0.2559, -1.3743, -0.5957],\n",
       "         [ 1.9387, -0.8684,  0.3165, -0.1275,  0.2961]]], device='cuda:0')"
      ]
     },
     "execution_count": 192,
     "metadata": {},
     "output_type": "execute_result"
    }
   ],
   "source": [
    "x.expand(2, -1, -1)"
   ]
  },
  {
   "cell_type": "code",
   "execution_count": 193,
   "metadata": {},
   "outputs": [
    {
     "data": {
      "text/plain": [
       "tensor([[-1.2026,  0.4336,  1.5385, -0.2196,  0.5242],\n",
       "        [ 0.3118,  0.3979, -0.9387, -1.3952,  1.2149],\n",
       "        [ 0.8543,  0.3101, -0.2559, -1.3743, -0.5957],\n",
       "        [ 1.9387, -0.8684,  0.3165, -0.1275,  0.2961],\n",
       "        [-1.2026,  0.4336,  1.5385, -0.2196,  0.5242],\n",
       "        [ 0.3118,  0.3979, -0.9387, -1.3952,  1.2149],\n",
       "        [ 0.8543,  0.3101, -0.2559, -1.3743, -0.5957],\n",
       "        [ 1.9387, -0.8684,  0.3165, -0.1275,  0.2961]], device='cuda:0')"
      ]
     },
     "execution_count": 193,
     "metadata": {},
     "output_type": "execute_result"
    }
   ],
   "source": [
    "torch.cat([x, x])"
   ]
  },
  {
   "cell_type": "code",
   "execution_count": 194,
   "metadata": {},
   "outputs": [
    {
     "data": {
      "text/plain": [
       "tensor([[ 30,  80],\n",
       "        [130, 180],\n",
       "        [230, 280],\n",
       "        [330, 380]])"
      ]
     },
     "execution_count": 194,
     "metadata": {},
     "output_type": "execute_result"
    }
   ],
   "source": [
    "torch.arange(4*2*5).view(4,2,5) @ torch.arange(5)"
   ]
  },
  {
   "cell_type": "code",
   "execution_count": 195,
   "metadata": {},
   "outputs": [
    {
     "data": {
      "text/plain": [
       "tensor([[[ 0,  1,  2,  3,  4],\n",
       "         [ 5,  6,  7,  8,  9]],\n",
       "\n",
       "        [[10, 11, 12, 13, 14],\n",
       "         [15, 16, 17, 18, 19]],\n",
       "\n",
       "        [[20, 21, 22, 23, 24],\n",
       "         [25, 26, 27, 28, 29]],\n",
       "\n",
       "        [[30, 31, 32, 33, 34],\n",
       "         [35, 36, 37, 38, 39]]])"
      ]
     },
     "execution_count": 195,
     "metadata": {},
     "output_type": "execute_result"
    }
   ],
   "source": [
    "torch.arange(4*2*5).view(4,2,5)"
   ]
  },
  {
   "cell_type": "code",
   "execution_count": 196,
   "metadata": {},
   "outputs": [
    {
     "data": {
      "text/plain": [
       "tensor(80)"
      ]
     },
     "execution_count": 196,
     "metadata": {},
     "output_type": "execute_result"
    }
   ],
   "source": [
    "a = torch.tensor([ 0,  1,  2,  3,  4]) \n",
    "b = torch.tensor([ 5,  6,  7,  8,  9]) \n",
    "torch.dot(a, b) "
   ]
  },
  {
   "cell_type": "code",
   "execution_count": 197,
   "metadata": {},
   "outputs": [
    {
     "data": {
      "text/plain": [
       "tensor(0.)"
      ]
     },
     "execution_count": 197,
     "metadata": {},
     "output_type": "execute_result"
    }
   ],
   "source": [
    "torch.exp(torch.tensor(-torch.inf))"
   ]
  },
  {
   "cell_type": "code",
   "execution_count": 198,
   "metadata": {},
   "outputs": [
    {
     "data": {
      "text/plain": [
       "tensor([[0, 1, 2, 3, 4],\n",
       "        [0, 1, 2, 3, 4],\n",
       "        [0, 1, 2, 3, 4],\n",
       "        [0, 1, 2, 3, 4]])"
      ]
     },
     "execution_count": 198,
     "metadata": {},
     "output_type": "execute_result"
    }
   ],
   "source": [
    "a = torch.tensor([ 0,  1,  2,  3,  4]) \n",
    "b = a.expand(4, -1)\n",
    "b"
   ]
  },
  {
   "cell_type": "code",
   "execution_count": 199,
   "metadata": {},
   "outputs": [],
   "source": [
    "b[0][0] = -1"
   ]
  },
  {
   "cell_type": "code",
   "execution_count": 200,
   "metadata": {},
   "outputs": [
    {
     "data": {
      "text/plain": [
       "tensor([[-1,  1,  2,  3,  4],\n",
       "        [-1,  1,  2,  3,  4],\n",
       "        [-1,  1,  2,  3,  4],\n",
       "        [-1,  1,  2,  3,  4]])"
      ]
     },
     "execution_count": 200,
     "metadata": {},
     "output_type": "execute_result"
    }
   ],
   "source": [
    "b"
   ]
  },
  {
   "cell_type": "code",
   "execution_count": 201,
   "metadata": {},
   "outputs": [
    {
     "data": {
      "text/plain": [
       "tensor([[-1,  1,  2,  3,  4],\n",
       "        [-1,  1,  2,  3,  4],\n",
       "        [-1,  1,  2,  3,  4],\n",
       "        [-1,  1,  2,  3,  4]])"
      ]
     },
     "execution_count": 201,
     "metadata": {},
     "output_type": "execute_result"
    }
   ],
   "source": [
    "c = a.tile((4, 1))\n",
    "c"
   ]
  },
  {
   "cell_type": "code",
   "execution_count": 202,
   "metadata": {},
   "outputs": [],
   "source": [
    "c[0][0] = 5"
   ]
  },
  {
   "cell_type": "code",
   "execution_count": 203,
   "metadata": {},
   "outputs": [
    {
     "data": {
      "text/plain": [
       "tensor([[ 5,  1,  2,  3,  4],\n",
       "        [-1,  1,  2,  3,  4],\n",
       "        [-1,  1,  2,  3,  4],\n",
       "        [-1,  1,  2,  3,  4]])"
      ]
     },
     "execution_count": 203,
     "metadata": {},
     "output_type": "execute_result"
    }
   ],
   "source": [
    "c"
   ]
  },
  {
   "cell_type": "code",
   "execution_count": 204,
   "metadata": {},
   "outputs": [
    {
     "data": {
      "text/plain": [
       "tensor([[[ 1.0379, -1.2986,  3.6725,  6.4050, -1.8806],\n",
       "         [ 0.5234,  0.5678,  0.1198, -0.8536, -0.0784],\n",
       "         [-0.5930,  1.6018, -1.6862, -1.7482,  0.9474],\n",
       "         [-2.9078, -4.2625, -2.9139, -2.7605,  1.3777]],\n",
       "\n",
       "        [[ 0.9528,  1.2752, -2.7449, -0.4769,  2.6711],\n",
       "         [-0.0438,  0.2637, -0.3784,  0.3944, -0.5114],\n",
       "         [-0.1442, -0.8427,  0.8159,  0.2917, -0.3605],\n",
       "         [-1.0823, -1.4784,  4.6096, -1.7656, -1.2659]],\n",
       "\n",
       "        [[ 3.3463,  0.1492,  1.6178,  0.7421,  0.1577],\n",
       "         [-0.3393, -0.1095, -0.0792,  0.2257,  0.2204],\n",
       "         [-0.9660, -0.1936, -0.5210,  0.3073, -1.1235],\n",
       "         [-1.8322,  0.7251, -1.1677, -3.0768,  1.3006]],\n",
       "\n",
       "        [[ 1.3937,  1.0690, -2.4575,  1.4787, -2.0818],\n",
       "         [ 0.0680,  0.3015, -0.2224, -0.2757,  0.5324],\n",
       "         [-1.4089, -0.0089,  1.5750, -0.4738,  1.1633],\n",
       "         [ 0.5870, -3.2606,  1.5887, -0.0941, -1.7241]]])"
      ]
     },
     "execution_count": 204,
     "metadata": {},
     "output_type": "execute_result"
    }
   ],
   "source": [
    "torch.randn( 4, 3) @ torch.randn(4,3,5)"
   ]
  },
  {
   "cell_type": "code",
   "execution_count": 205,
   "metadata": {},
   "outputs": [
    {
     "data": {
      "text/plain": [
       "(tensor([[0, 1],\n",
       "         [2, 3],\n",
       "         [4, 5]]),\n",
       " tensor([[[ 0,  1,  2,  3],\n",
       "          [ 4,  5,  6,  7]],\n",
       " \n",
       "         [[ 8,  9, 10, 11],\n",
       "          [12, 13, 14, 15]],\n",
       " \n",
       "         [[16, 17, 18, 19],\n",
       "          [20, 21, 22, 23]]]),\n",
       " tensor([[[  0,   0,   0,   0],\n",
       "          [  4,   5,   6,   7]],\n",
       " \n",
       "         [[ 16,  18,  20,  22],\n",
       "          [ 36,  39,  42,  45]],\n",
       " \n",
       "         [[ 64,  68,  72,  76],\n",
       "          [100, 105, 110, 115]]]))"
      ]
     },
     "execution_count": 205,
     "metadata": {},
     "output_type": "execute_result"
    }
   ],
   "source": [
    "a, b = torch.arange(3*2*4).view(3,2,4), torch.arange(3* 2).view(3, 2)\n",
    "c = a * b.unsqueeze(2)\n",
    "b, a, c"
   ]
  },
  {
   "cell_type": "code",
   "execution_count": 206,
   "metadata": {},
   "outputs": [
    {
     "data": {
      "text/plain": [
       "(tensor([[0, 1],\n",
       "         [2, 3],\n",
       "         [4, 5]]),\n",
       " tensor([[[ 0,  1,  2,  3],\n",
       "          [ 4,  5,  6,  7]],\n",
       " \n",
       "         [[ 8,  9, 10, 11],\n",
       "          [12, 13, 14, 15]],\n",
       " \n",
       "         [[16, 17, 18, 19],\n",
       "          [20, 21, 22, 23]]]),\n",
       " tensor([[[  0,   0,   0,   0],\n",
       "          [  4,   5,   6,   7]],\n",
       " \n",
       "         [[ 16,  18,  20,  22],\n",
       "          [ 36,  39,  42,  45]],\n",
       " \n",
       "         [[ 64,  68,  72,  76],\n",
       "          [100, 105, 110, 115]]]))"
      ]
     },
     "execution_count": 206,
     "metadata": {},
     "output_type": "execute_result"
    }
   ],
   "source": [
    "a, b = torch.arange(3*2*4).view(3,2,4), torch.arange(3* 2).view(3, 2)\n",
    "c = b.unsqueeze(2) * a\n",
    "b, a, c"
   ]
  },
  {
   "cell_type": "code",
   "execution_count": 207,
   "metadata": {},
   "outputs": [
    {
     "data": {
      "text/plain": [
       "(torch.Size([3, 2]), torch.Size([3, 2, 4]), torch.Size([3, 2, 4]))"
      ]
     },
     "execution_count": 207,
     "metadata": {},
     "output_type": "execute_result"
    }
   ],
   "source": [
    "b.shape, a.shape, c.shape"
   ]
  },
  {
   "cell_type": "code",
   "execution_count": 208,
   "metadata": {},
   "outputs": [],
   "source": [
    "x = torch.randn(10, 5, 4)\n",
    "y = torch.randn(5, 4)\n",
    "x[:,] = y"
   ]
  },
  {
   "cell_type": "code",
   "execution_count": 209,
   "metadata": {},
   "outputs": [
    {
     "data": {
      "text/plain": [
       "tensor([[[ 0.2611, -1.6730,  0.8805, -1.2368],\n",
       "         [ 0.9056, -1.6026,  0.8037, -0.0968],\n",
       "         [ 0.0798,  0.7070,  0.7029,  1.2827],\n",
       "         [ 0.4760, -0.3411, -0.6110, -2.0911],\n",
       "         [ 1.2856,  0.5431, -1.7813, -1.2636]],\n",
       "\n",
       "        [[ 0.2611, -1.6730,  0.8805, -1.2368],\n",
       "         [ 0.9056, -1.6026,  0.8037, -0.0968],\n",
       "         [ 0.0798,  0.7070,  0.7029,  1.2827],\n",
       "         [ 0.4760, -0.3411, -0.6110, -2.0911],\n",
       "         [ 1.2856,  0.5431, -1.7813, -1.2636]],\n",
       "\n",
       "        [[ 0.2611, -1.6730,  0.8805, -1.2368],\n",
       "         [ 0.9056, -1.6026,  0.8037, -0.0968],\n",
       "         [ 0.0798,  0.7070,  0.7029,  1.2827],\n",
       "         [ 0.4760, -0.3411, -0.6110, -2.0911],\n",
       "         [ 1.2856,  0.5431, -1.7813, -1.2636]]])"
      ]
     },
     "execution_count": 209,
     "metadata": {},
     "output_type": "execute_result"
    }
   ],
   "source": [
    "x[:3]"
   ]
  },
  {
   "cell_type": "code",
   "execution_count": 210,
   "metadata": {},
   "outputs": [
    {
     "data": {
      "text/plain": [
       "tensor([[ 0.2611, -1.6730,  0.8805, -1.2368],\n",
       "        [ 0.9056, -1.6026,  0.8037, -0.0968],\n",
       "        [ 0.0798,  0.7070,  0.7029,  1.2827],\n",
       "        [ 0.4760, -0.3411, -0.6110, -2.0911],\n",
       "        [ 1.2856,  0.5431, -1.7813, -1.2636]])"
      ]
     },
     "execution_count": 210,
     "metadata": {},
     "output_type": "execute_result"
    }
   ],
   "source": [
    "y"
   ]
  },
  {
   "cell_type": "code",
   "execution_count": 211,
   "metadata": {},
   "outputs": [],
   "source": [
    "y[0] = 0"
   ]
  },
  {
   "cell_type": "code",
   "execution_count": 212,
   "metadata": {},
   "outputs": [
    {
     "data": {
      "text/plain": [
       "tensor([[ 0.0000,  0.0000,  0.0000,  0.0000],\n",
       "        [ 0.9056, -1.6026,  0.8037, -0.0968],\n",
       "        [ 0.0798,  0.7070,  0.7029,  1.2827],\n",
       "        [ 0.4760, -0.3411, -0.6110, -2.0911],\n",
       "        [ 1.2856,  0.5431, -1.7813, -1.2636]])"
      ]
     },
     "execution_count": 212,
     "metadata": {},
     "output_type": "execute_result"
    }
   ],
   "source": [
    "y"
   ]
  },
  {
   "cell_type": "code",
   "execution_count": 213,
   "metadata": {},
   "outputs": [
    {
     "data": {
      "text/plain": [
       "tensor([[ 0.2611, -1.6730,  0.8805, -1.2368],\n",
       "        [ 0.9056, -1.6026,  0.8037, -0.0968],\n",
       "        [ 0.0798,  0.7070,  0.7029,  1.2827],\n",
       "        [ 0.4760, -0.3411, -0.6110, -2.0911],\n",
       "        [ 1.2856,  0.5431, -1.7813, -1.2636]])"
      ]
     },
     "execution_count": 213,
     "metadata": {},
     "output_type": "execute_result"
    }
   ],
   "source": [
    "x[0]"
   ]
  },
  {
   "cell_type": "code",
   "execution_count": 214,
   "metadata": {},
   "outputs": [
    {
     "data": {
      "text/plain": [
       "(10, 5, 4)"
      ]
     },
     "execution_count": 214,
     "metadata": {},
     "output_type": "execute_result"
    }
   ],
   "source": [
    "tuple(x.size())"
   ]
  },
  {
   "cell_type": "code",
   "execution_count": 215,
   "metadata": {},
   "outputs": [
    {
     "data": {
      "text/plain": [
       "[5, 4]"
      ]
     },
     "execution_count": 215,
     "metadata": {},
     "output_type": "execute_result"
    }
   ],
   "source": [
    "list(y.size())"
   ]
  },
  {
   "cell_type": "code",
   "execution_count": 216,
   "metadata": {},
   "outputs": [],
   "source": [
    "x = torch.randn(4, 5)\n",
    "A = torch.Tensor(torch.ones(2, 5)).requires_grad_()\n",
    "y = x @ A.t()"
   ]
  },
  {
   "cell_type": "code",
   "execution_count": 217,
   "metadata": {},
   "outputs": [
    {
     "data": {
      "text/plain": [
       "tensor([[-0.0106, -0.0106],\n",
       "        [-1.5656, -1.5656],\n",
       "        [ 3.5710,  3.5710],\n",
       "        [ 1.8564,  1.8564]], grad_fn=<MmBackward0>)"
      ]
     },
     "execution_count": 217,
     "metadata": {},
     "output_type": "execute_result"
    }
   ],
   "source": [
    "y"
   ]
  },
  {
   "cell_type": "code",
   "execution_count": 218,
   "metadata": {},
   "outputs": [],
   "source": [
    "mask = torch.zeros_like(y)\n",
    "mask[0][0] = 1.\n",
    "y = y * mask\n",
    "z = y.sum()"
   ]
  },
  {
   "cell_type": "code",
   "execution_count": 219,
   "metadata": {},
   "outputs": [
    {
     "data": {
      "text/plain": [
       "tensor(-0.0106, grad_fn=<SumBackward0>)"
      ]
     },
     "execution_count": 219,
     "metadata": {},
     "output_type": "execute_result"
    }
   ],
   "source": [
    "z"
   ]
  },
  {
   "cell_type": "code",
   "execution_count": 220,
   "metadata": {},
   "outputs": [],
   "source": [
    "z.backward(retain_graph=True)"
   ]
  },
  {
   "cell_type": "code",
   "execution_count": 221,
   "metadata": {},
   "outputs": [
    {
     "data": {
      "text/plain": [
       "tensor([[ 0.8339,  0.2999, -0.4332, -0.4029, -0.3084],\n",
       "        [ 0.0000,  0.0000,  0.0000,  0.0000,  0.0000]])"
      ]
     },
     "execution_count": 221,
     "metadata": {},
     "output_type": "execute_result"
    }
   ],
   "source": [
    "A.grad"
   ]
  },
  {
   "cell_type": "code",
   "execution_count": 222,
   "metadata": {},
   "outputs": [
    {
     "data": {
      "text/plain": [
       "tensor([[1., 1., 1., 1., 1.],\n",
       "        [1., 1., 1., 1., 1.]], requires_grad=True)"
      ]
     },
     "execution_count": 222,
     "metadata": {},
     "output_type": "execute_result"
    }
   ],
   "source": [
    "A"
   ]
  },
  {
   "cell_type": "code",
   "execution_count": 223,
   "metadata": {},
   "outputs": [
    {
     "data": {
      "text/plain": [
       "tensor([[ 0.8339,  0.2999, -0.4332, -0.4029, -0.3084],\n",
       "        [ 0.2644,  0.1852, -0.1659,  0.2319, -2.0811],\n",
       "        [ 3.1821,  0.8301, -1.0467, -0.6358,  1.2415],\n",
       "        [ 1.3403, -0.1496,  1.1866,  0.8511, -1.3719]])"
      ]
     },
     "execution_count": 223,
     "metadata": {},
     "output_type": "execute_result"
    }
   ],
   "source": [
    "x"
   ]
  },
  {
   "cell_type": "code",
   "execution_count": 224,
   "metadata": {},
   "outputs": [
    {
     "data": {
      "text/plain": [
       "tensor([3., 4.])"
      ]
     },
     "execution_count": 224,
     "metadata": {},
     "output_type": "execute_result"
    }
   ],
   "source": [
    "torch.Tensor([3, 4])"
   ]
  },
  {
   "cell_type": "code",
   "execution_count": 225,
   "metadata": {},
   "outputs": [
    {
     "data": {
      "text/plain": [
       "tensor([[-8.4212e+26,  3.0934e-41, -8.4209e+26,  3.0934e-41],\n",
       "        [ 1.1210e-43,  0.0000e+00,  8.9683e-44,  0.0000e+00],\n",
       "        [-8.3748e+26,  3.0934e-41,  1.1351e-43,  0.0000e+00]])"
      ]
     },
     "execution_count": 225,
     "metadata": {},
     "output_type": "execute_result"
    }
   ],
   "source": [
    "torch.Tensor(3, 4)"
   ]
  },
  {
   "cell_type": "code",
   "execution_count": 226,
   "metadata": {},
   "outputs": [
    {
     "data": {
      "text/plain": [
       "tensor([3.], dtype=torch.float64)"
      ]
     },
     "execution_count": 226,
     "metadata": {},
     "output_type": "execute_result"
    }
   ],
   "source": [
    "torch.DoubleTensor([3.])"
   ]
  },
  {
   "cell_type": "code",
   "execution_count": 227,
   "metadata": {},
   "outputs": [
    {
     "data": {
      "text/plain": [
       "tensor([5], dtype=torch.int32)"
      ]
     },
     "execution_count": 227,
     "metadata": {},
     "output_type": "execute_result"
    }
   ],
   "source": [
    "torch.IntTensor([5])"
   ]
  },
  {
   "cell_type": "code",
   "execution_count": 228,
   "metadata": {},
   "outputs": [
    {
     "data": {
      "text/plain": [
       "(tensor([140035826068784, 140035826068784,              32,             128,\n",
       "                       0]),\n",
       " torch.int64)"
      ]
     },
     "execution_count": 228,
     "metadata": {},
     "output_type": "execute_result"
    }
   ],
   "source": [
    "torch.LongTensor(5), torch.LongTensor(5).dtype"
   ]
  },
  {
   "cell_type": "code",
   "execution_count": 229,
   "metadata": {},
   "outputs": [
    {
     "data": {
      "text/plain": [
       "tensor([140035826068800, 140035826068800,              32,             112,\n",
       "         94815304830160])"
      ]
     },
     "execution_count": 229,
     "metadata": {},
     "output_type": "execute_result"
    }
   ],
   "source": [
    "torch.LongTensor(5)"
   ]
  },
  {
   "cell_type": "code",
   "execution_count": 230,
   "metadata": {},
   "outputs": [
    {
     "data": {
      "text/plain": [
       "(tensor([[[-0.8173, -0.5556, -0.8267, -1.2970],\n",
       "          [-0.1974, -0.9643, -0.5133,  2.6278]],\n",
       " \n",
       "         [[ 0.0178, -0.1282, -0.0944,  0.0526],\n",
       "          [ 0.2386, -1.5565,  1.6471, -1.0891]],\n",
       " \n",
       "         [[-0.1460, -0.2311, -0.4995,  0.3127],\n",
       "          [-0.0772,  0.3426, -0.7574, -1.5660]]]),\n",
       " '---',\n",
       " tensor([[[-0.8173, -0.5556, -0.8267, -1.2970],\n",
       "          [ 0.0000, -0.9643, -0.5133,  2.6278]],\n",
       " \n",
       "         [[ 0.0178, -0.1282, -0.0944,  0.0526],\n",
       "          [ 0.0000, -1.5565,  1.6471, -1.0891]],\n",
       " \n",
       "         [[-0.1460, -0.2311, -0.4995,  0.3127],\n",
       "          [ 0.0000,  0.3426, -0.7574, -1.5660]]]),\n",
       " torch.Size([3, 2, 4]),\n",
       " torch.Size([3, 2, 4]))"
      ]
     },
     "execution_count": 230,
     "metadata": {},
     "output_type": "execute_result"
    }
   ],
   "source": [
    "torch.manual_seed(10)\n",
    "x = torch.randn(3, 2, 4)\n",
    "y = torch.triu(x, 0)\n",
    "x, \"---\", y, x.shape, y.shape"
   ]
  },
  {
   "cell_type": "code",
   "execution_count": 231,
   "metadata": {},
   "outputs": [
    {
     "data": {
      "text/plain": [
       "(tensor([[[-0.8173, -0.5556, -0.8267, -1.2970],\n",
       "          [-0.1974, -0.9643, -0.5133,  2.6278]],\n",
       " \n",
       "         [[ 0.0178, -0.1282, -0.0944,  0.0526],\n",
       "          [ 0.2386, -1.5565,  1.6471, -1.0891]],\n",
       " \n",
       "         [[-0.1460, -0.2311, -0.4995,  0.3127],\n",
       "          [-0.0772,  0.3426, -0.7574, -1.5660]]]),\n",
       " '---',\n",
       " tensor([[[ 0.0000, -0.5556, -0.8267, -1.2970],\n",
       "          [ 0.0000,  0.0000, -0.5133,  2.6278]],\n",
       " \n",
       "         [[ 0.0000, -0.1282, -0.0944,  0.0526],\n",
       "          [ 0.0000,  0.0000,  1.6471, -1.0891]],\n",
       " \n",
       "         [[ 0.0000, -0.2311, -0.4995,  0.3127],\n",
       "          [ 0.0000,  0.0000, -0.7574, -1.5660]]]),\n",
       " torch.Size([3, 2, 4]),\n",
       " torch.Size([3, 2, 4]))"
      ]
     },
     "execution_count": 231,
     "metadata": {},
     "output_type": "execute_result"
    }
   ],
   "source": [
    "torch.manual_seed(10)\n",
    "x = torch.randn(3, 2, 4)\n",
    "y = torch.triu(x, 1)\n",
    "x, \"---\", y, x.shape, y.shape"
   ]
  },
  {
   "cell_type": "code",
   "execution_count": 232,
   "metadata": {},
   "outputs": [
    {
     "data": {
      "text/plain": [
       "tensor([])"
      ]
     },
     "execution_count": 232,
     "metadata": {},
     "output_type": "execute_result"
    }
   ],
   "source": [
    "torch.empty(0)"
   ]
  },
  {
   "cell_type": "code",
   "execution_count": 233,
   "metadata": {},
   "outputs": [
    {
     "data": {
      "text/plain": [
       "torch.float32"
      ]
     },
     "execution_count": 233,
     "metadata": {},
     "output_type": "execute_result"
    }
   ],
   "source": [
    "torch.empty(0).dtype"
   ]
  },
  {
   "cell_type": "code",
   "execution_count": 234,
   "metadata": {},
   "outputs": [
    {
     "data": {
      "text/plain": [
       "(tensor([[0., -inf, -inf, -inf, -inf],\n",
       "         [0., 0., -inf, -inf, -inf],\n",
       "         [0., 0., 0., -inf, -inf],\n",
       "         [0., 0., 0., 0., -inf],\n",
       "         [0., 0., 0., 0., 0.]]),\n",
       " tensor([[1., 0., 0., 0., 0.],\n",
       "         [1., 1., 0., 0., 0.],\n",
       "         [1., 1., 1., 0., 0.],\n",
       "         [1., 1., 1., 1., 0.],\n",
       "         [1., 1., 1., 1., 1.]]))"
      ]
     },
     "execution_count": 234,
     "metadata": {},
     "output_type": "execute_result"
    }
   ],
   "source": [
    "dim = 5\n",
    "torch.triu(torch.zeros([dim, dim]).float().fill_(float(\"-inf\")), 1), torch.exp(torch.triu(torch.zeros([dim, dim]).float().fill_(float(\"-inf\")), 1))"
   ]
  },
  {
   "cell_type": "code",
   "execution_count": 235,
   "metadata": {},
   "outputs": [
    {
     "data": {
      "text/plain": [
       "torch.float32"
      ]
     },
     "execution_count": 235,
     "metadata": {},
     "output_type": "execute_result"
    }
   ],
   "source": [
    "x.dtype"
   ]
  },
  {
   "cell_type": "code",
   "execution_count": 236,
   "metadata": {},
   "outputs": [],
   "source": [
    "x = x.to(torch.float64)"
   ]
  },
  {
   "cell_type": "code",
   "execution_count": 237,
   "metadata": {},
   "outputs": [
    {
     "data": {
      "text/plain": [
       "torch.float64"
      ]
     },
     "execution_count": 237,
     "metadata": {},
     "output_type": "execute_result"
    }
   ],
   "source": [
    "x.dtype"
   ]
  },
  {
   "cell_type": "code",
   "execution_count": 238,
   "metadata": {},
   "outputs": [
    {
     "data": {
      "text/plain": [
       "torch.float32"
      ]
     },
     "execution_count": 238,
     "metadata": {},
     "output_type": "execute_result"
    }
   ],
   "source": [
    "y.dtype"
   ]
  },
  {
   "cell_type": "code",
   "execution_count": 239,
   "metadata": {},
   "outputs": [],
   "source": [
    "y = y.to(x)"
   ]
  },
  {
   "cell_type": "code",
   "execution_count": 240,
   "metadata": {},
   "outputs": [
    {
     "data": {
      "text/plain": [
       "torch.float64"
      ]
     },
     "execution_count": 240,
     "metadata": {},
     "output_type": "execute_result"
    }
   ],
   "source": [
    "y.dtype"
   ]
  },
  {
   "cell_type": "code",
   "execution_count": 241,
   "metadata": {},
   "outputs": [
    {
     "data": {
      "text/plain": [
       "tensor([1., 1., 1., 1., 1.])"
      ]
     },
     "execution_count": 241,
     "metadata": {},
     "output_type": "execute_result"
    }
   ],
   "source": [
    "x = torch.randn(5).requires_grad_()\n",
    "y = x.sum()\n",
    "y.backward()\n",
    "x.grad\n"
   ]
  },
  {
   "cell_type": "code",
   "execution_count": 242,
   "metadata": {},
   "outputs": [
    {
     "data": {
      "text/plain": [
       "tensor([2., 2., 2., 2., 2.])"
      ]
     },
     "execution_count": 242,
     "metadata": {},
     "output_type": "execute_result"
    }
   ],
   "source": [
    "x = torch.randn(5).requires_grad_()\n",
    "z = x + 5\n",
    "z += x\n",
    "y = z.sum()\n",
    "y.backward()\n",
    "x.grad"
   ]
  },
  {
   "cell_type": "code",
   "execution_count": 243,
   "metadata": {},
   "outputs": [
    {
     "data": {
      "text/plain": [
       "tensor([1., 1., 1., 1., 1.])"
      ]
     },
     "execution_count": 243,
     "metadata": {},
     "output_type": "execute_result"
    }
   ],
   "source": [
    "z = torch.randn(5)\n",
    "\n",
    "x = torch.randn(5).requires_grad_()\n",
    "z += x\n",
    "y = z.sum()\n",
    "y.backward()\n",
    "x.grad"
   ]
  },
  {
   "cell_type": "code",
   "execution_count": 244,
   "metadata": {},
   "outputs": [
    {
     "data": {
      "text/plain": [
       "tensor(-2.0651)"
      ]
     },
     "execution_count": 244,
     "metadata": {},
     "output_type": "execute_result"
    }
   ],
   "source": [
    "torch.randn(())"
   ]
  },
  {
   "cell_type": "code",
   "execution_count": 245,
   "metadata": {},
   "outputs": [
    {
     "data": {
      "text/plain": [
       "tensor([ 1.8899, -0.5093,  0.2018,  1.3687,  0.3852], requires_grad=True)"
      ]
     },
     "execution_count": 245,
     "metadata": {},
     "output_type": "execute_result"
    }
   ],
   "source": [
    "x"
   ]
  },
  {
   "cell_type": "code",
   "execution_count": 246,
   "metadata": {},
   "outputs": [
    {
     "data": {
      "text/plain": [
       "tensor([1., 1., 1., 1., 1.])"
      ]
     },
     "execution_count": 246,
     "metadata": {},
     "output_type": "execute_result"
    }
   ],
   "source": [
    "x.grad\n"
   ]
  },
  {
   "cell_type": "code",
   "execution_count": 247,
   "metadata": {},
   "outputs": [],
   "source": [
    "x = x - 0.1 * x.grad"
   ]
  },
  {
   "cell_type": "code",
   "execution_count": 248,
   "metadata": {},
   "outputs": [
    {
     "data": {
      "text/plain": [
       "tensor([ 1.7899, -0.6093,  0.1018,  1.2687,  0.2852], grad_fn=<SubBackward0>)"
      ]
     },
     "execution_count": 248,
     "metadata": {},
     "output_type": "execute_result"
    }
   ],
   "source": [
    "x"
   ]
  },
  {
   "cell_type": "code",
   "execution_count": 249,
   "metadata": {},
   "outputs": [
    {
     "name": "stderr",
     "output_type": "stream",
     "text": [
      "/tmp/ipykernel_26274/3730140797.py:1: UserWarning: The .grad attribute of a Tensor that is not a leaf Tensor is being accessed. Its .grad attribute won't be populated during autograd.backward(). If you indeed want the .grad field to be populated for a non-leaf Tensor, use .retain_grad() on the non-leaf Tensor. If you access the non-leaf Tensor by mistake, make sure you access the leaf Tensor instead. See github.com/pytorch/pytorch/pull/30531 for more informations. (Triggered internally at aten/src/ATen/core/TensorBody.h:486.)\n",
      "  x.grad\n"
     ]
    }
   ],
   "source": [
    "x.grad"
   ]
  },
  {
   "cell_type": "code",
   "execution_count": 250,
   "metadata": {},
   "outputs": [
    {
     "data": {
      "text/plain": [
       "tensor([ 1.7899, -0.6093,  0.1018,  1.2687,  0.2852], grad_fn=<SubBackward0>)"
      ]
     },
     "execution_count": 250,
     "metadata": {},
     "output_type": "execute_result"
    }
   ],
   "source": [
    "x"
   ]
  },
  {
   "cell_type": "code",
   "execution_count": 251,
   "metadata": {},
   "outputs": [
    {
     "data": {
      "text/plain": [
       "1"
      ]
     },
     "execution_count": 251,
     "metadata": {},
     "output_type": "execute_result"
    }
   ],
   "source": [
    "x.dim()"
   ]
  },
  {
   "cell_type": "code",
   "execution_count": 252,
   "metadata": {},
   "outputs": [
    {
     "data": {
      "text/plain": [
       "0"
      ]
     },
     "execution_count": 252,
     "metadata": {},
     "output_type": "execute_result"
    }
   ],
   "source": [
    "torch.tensor(5).dim()"
   ]
  },
  {
   "cell_type": "code",
   "execution_count": 253,
   "metadata": {},
   "outputs": [
    {
     "data": {
      "text/plain": [
       "tensor(-inf)"
      ]
     },
     "execution_count": 253,
     "metadata": {},
     "output_type": "execute_result"
    }
   ],
   "source": [
    "-torch.inf + torch.tensor(5)"
   ]
  },
  {
   "cell_type": "code",
   "execution_count": 254,
   "metadata": {},
   "outputs": [
    {
     "data": {
      "text/plain": [
       "tensor(nan)"
      ]
     },
     "execution_count": 254,
     "metadata": {},
     "output_type": "execute_result"
    }
   ],
   "source": [
    "-torch.inf * torch.tensor(0)"
   ]
  },
  {
   "cell_type": "code",
   "execution_count": 255,
   "metadata": {},
   "outputs": [
    {
     "data": {
      "text/plain": [
       "tensor([[[ 0.8144,  0.1437],\n",
       "         [ 0.4803, -1.0208],\n",
       "         [-1.2641, -1.6355],\n",
       "         [ 1.2382,  2.2412],\n",
       "         [-2.5275,  0.5352]],\n",
       "\n",
       "        [[ 1.4880, -1.8960],\n",
       "         [ 0.8885, -0.0039],\n",
       "         [-0.5104,  1.4639],\n",
       "         [ 0.6361, -0.4052],\n",
       "         [-0.5050, -0.6000]],\n",
       "\n",
       "        [[ 0.9122,  1.1021],\n",
       "         [ 1.3025,  0.1595],\n",
       "         [-2.5788, -2.0133],\n",
       "         [ 1.3553,  1.8816],\n",
       "         [-0.4043,  0.8875]],\n",
       "\n",
       "        [[ 1.4468,  1.7470],\n",
       "         [ 2.0174,  1.1222],\n",
       "         [-0.7440,  0.0533],\n",
       "         [ 0.9224,  0.8589],\n",
       "         [ 0.4049, -0.0221]]])"
      ]
     },
     "execution_count": 255,
     "metadata": {},
     "output_type": "execute_result"
    }
   ],
   "source": [
    "torch.randn(4, 5, 2) + torch.randn(5, 1)"
   ]
  },
  {
   "cell_type": "code",
   "execution_count": 256,
   "metadata": {},
   "outputs": [
    {
     "data": {
      "text/plain": [
       "(torch.Size([4, 5, 6]), torch.Size([2, 4, 5, 6]))"
      ]
     },
     "execution_count": 256,
     "metadata": {},
     "output_type": "execute_result"
    }
   ],
   "source": [
    "x = torch.randn(4, 5, 6)\n",
    "y = x.expand(2, -1, -1, 6,)\n",
    "x.shape, y.shape"
   ]
  },
  {
   "cell_type": "code",
   "execution_count": 257,
   "metadata": {},
   "outputs": [
    {
     "data": {
      "text/plain": [
       "(torch.Size([4, 5, 6]), torch.Size([3, 2, 4, 5, 6]))"
      ]
     },
     "execution_count": 257,
     "metadata": {},
     "output_type": "execute_result"
    }
   ],
   "source": [
    "x = torch.randn(4, 5, 6)\n",
    "y = x.expand(3, 2, -1,-1, 6,)\n",
    "x.shape, y.shape"
   ]
  },
  {
   "cell_type": "code",
   "execution_count": 258,
   "metadata": {},
   "outputs": [
    {
     "data": {
      "text/plain": [
       "tensor([1., 1., 1., 0., 0.])"
      ]
     },
     "execution_count": 258,
     "metadata": {},
     "output_type": "execute_result"
    }
   ],
   "source": [
    "x = torch.bernoulli(torch.randn(5), 0.5)\n",
    "x"
   ]
  },
  {
   "cell_type": "code",
   "execution_count": 259,
   "metadata": {},
   "outputs": [
    {
     "data": {
      "text/plain": [
       "tensor([0., 0., 0., 0., 0., 0., 0., 0., 0., 0.])"
      ]
     },
     "execution_count": 259,
     "metadata": {},
     "output_type": "execute_result"
    }
   ],
   "source": [
    "x.new_zeros(10)"
   ]
  },
  {
   "cell_type": "code",
   "execution_count": 260,
   "metadata": {},
   "outputs": [],
   "source": [
    "cur_device = torch.cuda.current_device()"
   ]
  },
  {
   "cell_type": "code",
   "execution_count": 261,
   "metadata": {},
   "outputs": [
    {
     "data": {
      "text/plain": [
       "0"
      ]
     },
     "execution_count": 261,
     "metadata": {},
     "output_type": "execute_result"
    }
   ],
   "source": [
    "cur_device"
   ]
  },
  {
   "cell_type": "code",
   "execution_count": 262,
   "metadata": {},
   "outputs": [
    {
     "data": {
      "text/plain": [
       "_CudaDeviceProperties(name='NVIDIA TITAN RTX', major=7, minor=5, total_memory=24211MB, multi_processor_count=72)"
      ]
     },
     "execution_count": 262,
     "metadata": {},
     "output_type": "execute_result"
    }
   ],
   "source": [
    "prop = torch.cuda.get_device_properties(\"cuda:{}\".format(cur_device))\n",
    "prop"
   ]
  },
  {
   "cell_type": "code",
   "execution_count": 263,
   "metadata": {},
   "outputs": [
    {
     "data": {
      "text/plain": [
       "25387401216"
      ]
     },
     "execution_count": 263,
     "metadata": {},
     "output_type": "execute_result"
    }
   ],
   "source": [
    "prop.total_memory"
   ]
  },
  {
   "cell_type": "code",
   "execution_count": 264,
   "metadata": {},
   "outputs": [
    {
     "data": {
      "text/plain": [
       "23.64385986328125"
      ]
     },
     "execution_count": 264,
     "metadata": {},
     "output_type": "execute_result"
    }
   ],
   "source": [
    "prop.total_memory / 1024 / 1024 /1024"
   ]
  },
  {
   "cell_type": "code",
   "execution_count": 265,
   "metadata": {},
   "outputs": [
    {
     "data": {
      "text/plain": [
       "1"
      ]
     },
     "execution_count": 265,
     "metadata": {},
     "output_type": "execute_result"
    }
   ],
   "source": [
    "torch.cuda.memory_usage(cur_device)"
   ]
  },
  {
   "cell_type": "code",
   "execution_count": 266,
   "metadata": {},
   "outputs": [
    {
     "data": {
      "text/plain": [
       "tensor([1., 1., 1., 0., 0.])"
      ]
     },
     "execution_count": 266,
     "metadata": {},
     "output_type": "execute_result"
    }
   ],
   "source": [
    "x"
   ]
  },
  {
   "cell_type": "code",
   "execution_count": 267,
   "metadata": {},
   "outputs": [],
   "source": [
    "x  = torch.randn(10)\n",
    "x[0] = 0.0"
   ]
  },
  {
   "cell_type": "code",
   "execution_count": 268,
   "metadata": {},
   "outputs": [
    {
     "data": {
      "text/plain": [
       "tensor([ 0.0000, -1.3141,  0.4699,  0.4385,  0.1432,  1.0163, -0.2541,  0.8300,\n",
       "        -1.0317, -0.7860])"
      ]
     },
     "execution_count": 268,
     "metadata": {},
     "output_type": "execute_result"
    }
   ],
   "source": [
    "x"
   ]
  },
  {
   "cell_type": "code",
   "execution_count": 269,
   "metadata": {},
   "outputs": [
    {
     "data": {
      "text/plain": [
       "tensor([-99.0000, -99.0000,   0.4699,   0.4385,   0.1432,   1.0163, -99.0000,\n",
       "          0.8300, -99.0000, -99.0000])"
      ]
     },
     "execution_count": 269,
     "metadata": {},
     "output_type": "execute_result"
    }
   ],
   "source": [
    "F.threshold(x, 0, -99)"
   ]
  },
  {
   "cell_type": "code",
   "execution_count": 270,
   "metadata": {},
   "outputs": [
    {
     "data": {
      "text/plain": [
       "tensor([ 0.0000, -1.3141,  0.4699,  0.4385,  0.1432,  1.0163, -0.2541,  0.8300,\n",
       "        -1.0317, -0.7860])"
      ]
     },
     "execution_count": 270,
     "metadata": {},
     "output_type": "execute_result"
    }
   ],
   "source": [
    "x.reshape(-1, 5).ravel()"
   ]
  },
  {
   "cell_type": "code",
   "execution_count": 271,
   "metadata": {},
   "outputs": [
    {
     "data": {
      "text/plain": [
       "10"
      ]
     },
     "execution_count": 271,
     "metadata": {},
     "output_type": "execute_result"
    }
   ],
   "source": [
    "x.reshape(-1, 5).numel()"
   ]
  },
  {
   "cell_type": "code",
   "execution_count": 272,
   "metadata": {},
   "outputs": [],
   "source": [
    "x = torch.randn(5, 4)"
   ]
  },
  {
   "cell_type": "code",
   "execution_count": 273,
   "metadata": {},
   "outputs": [
    {
     "data": {
      "text/plain": [
       "torch.Size([5, 4])"
      ]
     },
     "execution_count": 273,
     "metadata": {},
     "output_type": "execute_result"
    }
   ],
   "source": [
    "x.size()"
   ]
  },
  {
   "cell_type": "code",
   "execution_count": 274,
   "metadata": {},
   "outputs": [
    {
     "data": {
      "text/plain": [
       "torch.Size([2, 1])"
      ]
     },
     "execution_count": 274,
     "metadata": {},
     "output_type": "execute_result"
    }
   ],
   "source": [
    "x.new(2, 1).shape"
   ]
  },
  {
   "cell_type": "code",
   "execution_count": 275,
   "metadata": {},
   "outputs": [
    {
     "data": {
      "text/plain": [
       "tensor([[-8.4100e+26],\n",
       "        [ 3.0934e-41]])"
      ]
     },
     "execution_count": 275,
     "metadata": {},
     "output_type": "execute_result"
    }
   ],
   "source": [
    "x.new(2, 1)"
   ]
  },
  {
   "cell_type": "code",
   "execution_count": 276,
   "metadata": {},
   "outputs": [
    {
     "data": {
      "text/plain": [
       "torch.Size([2, 1, 5, 8])"
      ]
     },
     "execution_count": 276,
     "metadata": {},
     "output_type": "execute_result"
    }
   ],
   "source": [
    "x.new(2, 1, 5, 8).shape"
   ]
  },
  {
   "cell_type": "code",
   "execution_count": 277,
   "metadata": {},
   "outputs": [
    {
     "data": {
      "text/plain": [
       "tensor([[[[-8.4260e+26,  3.0934e-41, -1.1599e-18,  4.5688e-41, -8.1638e-26,\n",
       "            4.5688e-41,  0.0000e+00,  0.0000e+00],\n",
       "          [-8.4259e+26,  3.0934e-41,  0.0000e+00,  0.0000e+00,  0.0000e+00,\n",
       "            0.0000e+00,  1.4013e-45,  0.0000e+00],\n",
       "          [ 0.0000e+00,  0.0000e+00,  1.9618e-44,  1.4013e-45,  0.0000e+00,\n",
       "            0.0000e+00,  1.7096e-43,  1.1491e-43],\n",
       "          [ 0.0000e+00,  4.5687e-41, -1.2333e+11,  4.5687e-41, -1.2333e+11,\n",
       "            4.5687e-41, -9.3320e-38,  4.5687e-41],\n",
       "          [ 0.0000e+00,  0.0000e+00,  0.0000e+00,  0.0000e+00, -1.2347e+11,\n",
       "            4.5687e-41,  0.0000e+00,  0.0000e+00]]],\n",
       "\n",
       "\n",
       "        [[[ 0.0000e+00,  0.0000e+00, -1.3345e+20,  3.0934e-41,  7.0065e-45,\n",
       "            0.0000e+00, -3.1196e-18,  4.5688e-41],\n",
       "          [-2.9032e-18,  4.5688e-41, -1.2333e+11,  4.5687e-41, -1.2333e+11,\n",
       "            4.5687e-41, -9.3320e-38,  4.5687e-41],\n",
       "          [ 0.0000e+00,  0.0000e+00,  0.0000e+00,  0.0000e+00, -1.2347e+11,\n",
       "            4.5687e-41,  0.0000e+00,  0.0000e+00],\n",
       "          [ 0.0000e+00,  0.0000e+00, -1.3345e+20,  3.0934e-41,  7.0065e-45,\n",
       "            0.0000e+00, -3.1193e-18,  4.5688e-41],\n",
       "          [-1.2349e+11,  4.5687e-41, -1.2334e+11,  4.5687e-41, -1.2334e+11,\n",
       "            4.5687e-41, -9.3320e-38,  4.5687e-41]]]])"
      ]
     },
     "execution_count": 277,
     "metadata": {},
     "output_type": "execute_result"
    }
   ],
   "source": [
    "x.new(2, 1, 5, 8)"
   ]
  },
  {
   "cell_type": "code",
   "execution_count": 278,
   "metadata": {},
   "outputs": [],
   "source": [
    "x = torch.tensor([[1], [2], [3]])"
   ]
  },
  {
   "cell_type": "code",
   "execution_count": 279,
   "metadata": {},
   "outputs": [],
   "source": [
    "y = x.expand(3, 4)"
   ]
  },
  {
   "cell_type": "code",
   "execution_count": 280,
   "metadata": {},
   "outputs": [],
   "source": [
    "x[0][0] = -1"
   ]
  },
  {
   "cell_type": "code",
   "execution_count": 281,
   "metadata": {},
   "outputs": [
    {
     "data": {
      "text/plain": [
       "tensor([[-1, -1, -1, -1],\n",
       "        [ 2,  2,  2,  2],\n",
       "        [ 3,  3,  3,  3]])"
      ]
     },
     "execution_count": 281,
     "metadata": {},
     "output_type": "execute_result"
    }
   ],
   "source": [
    "y"
   ]
  },
  {
   "cell_type": "code",
   "execution_count": 282,
   "metadata": {},
   "outputs": [
    {
     "data": {
      "text/plain": [
       "0.420911967754364"
      ]
     },
     "execution_count": 282,
     "metadata": {},
     "output_type": "execute_result"
    }
   ],
   "source": [
    "torch.rand(1).item()"
   ]
  },
  {
   "cell_type": "code",
   "execution_count": 283,
   "metadata": {},
   "outputs": [
    {
     "data": {
      "text/plain": [
       "tensor([[-1],\n",
       "        [ 2],\n",
       "        [ 3]])"
      ]
     },
     "execution_count": 283,
     "metadata": {},
     "output_type": "execute_result"
    }
   ],
   "source": [
    "x"
   ]
  },
  {
   "cell_type": "code",
   "execution_count": 284,
   "metadata": {},
   "outputs": [
    {
     "data": {
      "text/plain": [
       "tensor([], dtype=torch.int64)"
      ]
     },
     "execution_count": 284,
     "metadata": {},
     "output_type": "execute_result"
    }
   ],
   "source": [
    "x.new(0)"
   ]
  },
  {
   "cell_type": "code",
   "execution_count": 285,
   "metadata": {},
   "outputs": [
    {
     "data": {
      "text/plain": [
       "tensor([], dtype=torch.int64)"
      ]
     },
     "execution_count": 285,
     "metadata": {},
     "output_type": "execute_result"
    }
   ],
   "source": [
    "x.new_empty(0)"
   ]
  },
  {
   "cell_type": "code",
   "execution_count": 286,
   "metadata": {},
   "outputs": [
    {
     "data": {
      "text/plain": [
       "tensor([], size=(0, 1), dtype=torch.int64)"
      ]
     },
     "execution_count": 286,
     "metadata": {},
     "output_type": "execute_result"
    }
   ],
   "source": [
    "x.new_empty(0, 1)"
   ]
  },
  {
   "cell_type": "code",
   "execution_count": 287,
   "metadata": {},
   "outputs": [],
   "source": [
    "tz, bz, sz, num_head, head_dim = 4, 32, 6, 2, 8\n",
    "torch.manual_seed(0)\n",
    "q = torch.randn(bz, tz, num_head * head_dim)\n",
    "k = torch.randn(bz, sz, num_head * head_dim)\n",
    "v = torch.randn(bz, sz, num_head * head_dim)"
   ]
  },
  {
   "cell_type": "code",
   "execution_count": 288,
   "metadata": {},
   "outputs": [
    {
     "data": {
      "text/plain": [
       "(torch.Size([32, 4, 16]), torch.Size([32, 6, 16]), torch.Size([32, 6, 16]))"
      ]
     },
     "execution_count": 288,
     "metadata": {},
     "output_type": "execute_result"
    }
   ],
   "source": [
    "q.shape, k.shape, v.shape"
   ]
  },
  {
   "cell_type": "code",
   "execution_count": 289,
   "metadata": {},
   "outputs": [
    {
     "data": {
      "text/plain": [
       "(tensor(27.1336), tensor(-65.7946), tensor(-28.6850))"
      ]
     },
     "execution_count": 289,
     "metadata": {},
     "output_type": "execute_result"
    }
   ],
   "source": [
    "_q = q.transpose(0, 1).contiguous().view(tz, bz * num_head, head_dim).transpose(0, 1)#.contiguous()\n",
    "_k = k.transpose(0, 1).contiguous().view(sz, bz * num_head, head_dim).transpose(0, 1)#.contiguous()\n",
    "_v = v.transpose(0, 1).contiguous().view(sz, bz * num_head, head_dim).transpose(0, 1)#.contiguous()\n",
    "_q.sum(), _k.sum(), _v.sum()"
   ]
  },
  {
   "cell_type": "code",
   "execution_count": 290,
   "metadata": {},
   "outputs": [
    {
     "data": {
      "text/plain": [
       "(torch.Size([64, 4, 8]), torch.Size([64, 6, 8]), torch.Size([64, 6, 8]))"
      ]
     },
     "execution_count": 290,
     "metadata": {},
     "output_type": "execute_result"
    }
   ],
   "source": [
    "_q.shape, _k.shape, _v.shape"
   ]
  },
  {
   "cell_type": "code",
   "execution_count": 291,
   "metadata": {},
   "outputs": [],
   "source": [
    "qk = torch.matmul(_q, _k.transpose(1, 2))"
   ]
  },
  {
   "cell_type": "code",
   "execution_count": 292,
   "metadata": {},
   "outputs": [
    {
     "data": {
      "text/plain": [
       "torch.Size([64, 4, 6])"
      ]
     },
     "execution_count": 292,
     "metadata": {},
     "output_type": "execute_result"
    }
   ],
   "source": [
    "qk.shape"
   ]
  },
  {
   "cell_type": "code",
   "execution_count": 293,
   "metadata": {},
   "outputs": [
    {
     "data": {
      "text/plain": [
       "tensor(48.4539)"
      ]
     },
     "execution_count": 293,
     "metadata": {},
     "output_type": "execute_result"
    }
   ],
   "source": [
    "qk.sum()"
   ]
  },
  {
   "cell_type": "code",
   "execution_count": 294,
   "metadata": {},
   "outputs": [
    {
     "data": {
      "text/plain": [
       "torch.Size([64, 4, 6])"
      ]
     },
     "execution_count": 294,
     "metadata": {},
     "output_type": "execute_result"
    }
   ],
   "source": [
    "weights = F.softmax(qk, dim=-1)\n",
    "weights.shape"
   ]
  },
  {
   "cell_type": "code",
   "execution_count": 295,
   "metadata": {},
   "outputs": [
    {
     "data": {
      "text/plain": [
       "tensor([[1.0000, 1.0000, 1.0000, 1.0000],\n",
       "        [1.0000, 1.0000, 1.0000, 1.0000]])"
      ]
     },
     "execution_count": 295,
     "metadata": {},
     "output_type": "execute_result"
    }
   ],
   "source": [
    "weights.sum(axis=-1)[:2]"
   ]
  },
  {
   "cell_type": "code",
   "execution_count": 296,
   "metadata": {},
   "outputs": [
    {
     "data": {
      "text/plain": [
       "(torch.Size([64, 4, 8]), torch.Size([32, 4, 16]))"
      ]
     },
     "execution_count": 296,
     "metadata": {},
     "output_type": "execute_result"
    }
   ],
   "source": [
    "attn = torch.matmul(weights, _v)\n",
    "attn.shape, q.shape"
   ]
  },
  {
   "cell_type": "code",
   "execution_count": 297,
   "metadata": {},
   "outputs": [],
   "source": [
    "attn = attn.transpose(0, 1).view(tz, bz, num_head, -1)"
   ]
  },
  {
   "cell_type": "code",
   "execution_count": 298,
   "metadata": {},
   "outputs": [
    {
     "data": {
      "text/plain": [
       "torch.Size([4, 32, 2, 8])"
      ]
     },
     "execution_count": 298,
     "metadata": {},
     "output_type": "execute_result"
    }
   ],
   "source": [
    "attn.shape"
   ]
  },
  {
   "cell_type": "code",
   "execution_count": 299,
   "metadata": {},
   "outputs": [
    {
     "data": {
      "text/plain": [
       "tensor(-57.9944)"
      ]
     },
     "execution_count": 299,
     "metadata": {},
     "output_type": "execute_result"
    }
   ],
   "source": [
    "attn.sum()"
   ]
  },
  {
   "cell_type": "code",
   "execution_count": 300,
   "metadata": {},
   "outputs": [
    {
     "data": {
      "text/plain": [
       "tensor([[ 0.5265, -0.1538, -1.3277,  0.4612, -0.5305, -1.4538,  0.1661, -0.6279],\n",
       "        [-1.3330,  0.4727, -1.1413,  0.0799, -0.6708, -0.8198, -0.1158, -1.4448]])"
      ]
     },
     "execution_count": 300,
     "metadata": {},
     "output_type": "execute_result"
    }
   ],
   "source": [
    "attn[2][0]"
   ]
  },
  {
   "cell_type": "code",
   "execution_count": 301,
   "metadata": {},
   "outputs": [
    {
     "data": {
      "text/plain": [
       "(torch.Size([32, 4, 16]), torch.Size([32, 6, 16]), torch.Size([32, 6, 16]))"
      ]
     },
     "execution_count": 301,
     "metadata": {},
     "output_type": "execute_result"
    }
   ],
   "source": [
    "q.shape, k.shape, v.shape"
   ]
  },
  {
   "cell_type": "code",
   "execution_count": 302,
   "metadata": {},
   "outputs": [
    {
     "data": {
      "text/plain": [
       "(tensor(27.1336), tensor(-65.7946), tensor(-28.6850))"
      ]
     },
     "execution_count": 302,
     "metadata": {},
     "output_type": "execute_result"
    }
   ],
   "source": [
    "_q = q.view(bz, tz, num_head, head_dim).transpose(1, 2).contiguous()\n",
    "_v = v.view(bz, sz, num_head, head_dim).transpose(1, 2).contiguous()\n",
    "_k = k.view(bz, sz, num_head, head_dim).transpose(1, 2).contiguous()\n",
    "_q.sum(), _k.sum(), _v.sum()\n"
   ]
  },
  {
   "cell_type": "code",
   "execution_count": 303,
   "metadata": {},
   "outputs": [],
   "source": [
    "qk = torch.einsum('bhtd, bhsd -> bhts', _q, _k)"
   ]
  },
  {
   "cell_type": "code",
   "execution_count": 304,
   "metadata": {},
   "outputs": [
    {
     "data": {
      "text/plain": [
       "tensor(48.4539)"
      ]
     },
     "execution_count": 304,
     "metadata": {},
     "output_type": "execute_result"
    }
   ],
   "source": [
    "qk.sum()"
   ]
  },
  {
   "cell_type": "code",
   "execution_count": 305,
   "metadata": {},
   "outputs": [],
   "source": [
    "weights = F.softmax(qk, dim=-1)"
   ]
  },
  {
   "cell_type": "code",
   "execution_count": 306,
   "metadata": {},
   "outputs": [
    {
     "data": {
      "text/plain": [
       "tensor([[1.0000, 1.0000, 1.0000, 1.0000],\n",
       "        [1.0000, 1.0000, 1.0000, 1.0000]])"
      ]
     },
     "execution_count": 306,
     "metadata": {},
     "output_type": "execute_result"
    }
   ],
   "source": [
    "weights.sum(dim=-1)[0]"
   ]
  },
  {
   "cell_type": "code",
   "execution_count": 307,
   "metadata": {},
   "outputs": [
    {
     "data": {
      "text/plain": [
       "torch.Size([32, 2, 4, 6])"
      ]
     },
     "execution_count": 307,
     "metadata": {},
     "output_type": "execute_result"
    }
   ],
   "source": [
    "weights.shape"
   ]
  },
  {
   "cell_type": "code",
   "execution_count": 308,
   "metadata": {},
   "outputs": [],
   "source": [
    "attn = torch.einsum('bhts, bhsd -> bhtd', weights, _v)"
   ]
  },
  {
   "cell_type": "code",
   "execution_count": 309,
   "metadata": {},
   "outputs": [
    {
     "data": {
      "text/plain": [
       "tensor(-57.9944)"
      ]
     },
     "execution_count": 309,
     "metadata": {},
     "output_type": "execute_result"
    }
   ],
   "source": [
    "attn.sum()"
   ]
  },
  {
   "cell_type": "code",
   "execution_count": 310,
   "metadata": {},
   "outputs": [
    {
     "data": {
      "text/plain": [
       "torch.Size([32, 2, 4, 8])"
      ]
     },
     "execution_count": 310,
     "metadata": {},
     "output_type": "execute_result"
    }
   ],
   "source": [
    "attn.shape"
   ]
  },
  {
   "cell_type": "code",
   "execution_count": 311,
   "metadata": {},
   "outputs": [
    {
     "data": {
      "text/plain": [
       "tensor([[ 0.5265, -0.1538, -1.3277,  0.4612, -0.5305, -1.4538,  0.1661, -0.6279],\n",
       "        [-1.3330,  0.4727, -1.1413,  0.0799, -0.6708, -0.8198, -0.1158, -1.4448]])"
      ]
     },
     "execution_count": 311,
     "metadata": {},
     "output_type": "execute_result"
    }
   ],
   "source": [
    "attn[0, :, 2]"
   ]
  },
  {
   "cell_type": "code",
   "execution_count": 312,
   "metadata": {},
   "outputs": [
    {
     "data": {
      "text/plain": [
       "tensor([[4., 5.],\n",
       "        [0., 7.]])"
      ]
     },
     "execution_count": 312,
     "metadata": {},
     "output_type": "execute_result"
    }
   ],
   "source": [
    "torch.triu(torch.tensor([[4., 5.], [6.0, 7.0]]), 0)"
   ]
  },
  {
   "cell_type": "code",
   "execution_count": 313,
   "metadata": {},
   "outputs": [],
   "source": [
    "y = x.float()"
   ]
  },
  {
   "cell_type": "code",
   "execution_count": 314,
   "metadata": {},
   "outputs": [
    {
     "data": {
      "text/plain": [
       "torch.float32"
      ]
     },
     "execution_count": 314,
     "metadata": {},
     "output_type": "execute_result"
    }
   ],
   "source": [
    "y.dtype"
   ]
  },
  {
   "cell_type": "code",
   "execution_count": 315,
   "metadata": {},
   "outputs": [],
   "source": [
    "y = y.half()"
   ]
  },
  {
   "cell_type": "code",
   "execution_count": 316,
   "metadata": {},
   "outputs": [
    {
     "data": {
      "text/plain": [
       "torch.float16"
      ]
     },
     "execution_count": 316,
     "metadata": {},
     "output_type": "execute_result"
    }
   ],
   "source": [
    "y.dtype"
   ]
  },
  {
   "cell_type": "code",
   "execution_count": 317,
   "metadata": {},
   "outputs": [],
   "source": [
    "z = y.float()"
   ]
  },
  {
   "cell_type": "code",
   "execution_count": 318,
   "metadata": {},
   "outputs": [
    {
     "data": {
      "text/plain": [
       "torch.float32"
      ]
     },
     "execution_count": 318,
     "metadata": {},
     "output_type": "execute_result"
    }
   ],
   "source": [
    "z.dtype"
   ]
  },
  {
   "cell_type": "code",
   "execution_count": null,
   "metadata": {},
   "outputs": [],
   "source": []
  },
  {
   "cell_type": "code",
   "execution_count": 319,
   "metadata": {},
   "outputs": [],
   "source": [
    "y =x.clone()"
   ]
  },
  {
   "cell_type": "code",
   "execution_count": 320,
   "metadata": {},
   "outputs": [
    {
     "data": {
      "text/plain": [
       "(tensor([[0],\n",
       "         [2],\n",
       "         [3]]),\n",
       " tensor([[-1],\n",
       "         [ 2],\n",
       "         [ 3]]))"
      ]
     },
     "execution_count": 320,
     "metadata": {},
     "output_type": "execute_result"
    }
   ],
   "source": [
    "y[0] = 0\n",
    "y, x"
   ]
  },
  {
   "cell_type": "code",
   "execution_count": 321,
   "metadata": {},
   "outputs": [
    {
     "data": {
      "text/plain": [
       "tensor([[[-1],\n",
       "         [ 2],\n",
       "         [ 3]],\n",
       "\n",
       "        [[-1],\n",
       "         [ 2],\n",
       "         [ 3]]])"
      ]
     },
     "execution_count": 321,
     "metadata": {},
     "output_type": "execute_result"
    }
   ],
   "source": [
    "z =x.expand(2, -1, -1)\n",
    "z"
   ]
  },
  {
   "cell_type": "code",
   "execution_count": 322,
   "metadata": {},
   "outputs": [],
   "source": [
    "x[0][0] = 4"
   ]
  },
  {
   "cell_type": "code",
   "execution_count": 323,
   "metadata": {},
   "outputs": [
    {
     "data": {
      "text/plain": [
       "tensor([[[4],\n",
       "         [2],\n",
       "         [3]],\n",
       "\n",
       "        [[4],\n",
       "         [2],\n",
       "         [3]]])"
      ]
     },
     "execution_count": 323,
     "metadata": {},
     "output_type": "execute_result"
    }
   ],
   "source": [
    "z"
   ]
  },
  {
   "cell_type": "code",
   "execution_count": 324,
   "metadata": {},
   "outputs": [],
   "source": [
    "x = x.cuda()"
   ]
  },
  {
   "cell_type": "code",
   "execution_count": 325,
   "metadata": {},
   "outputs": [],
   "source": [
    "z = x.clone()"
   ]
  },
  {
   "cell_type": "code",
   "execution_count": 326,
   "metadata": {},
   "outputs": [
    {
     "data": {
      "text/plain": [
       "tensor([[4],\n",
       "        [2],\n",
       "        [3]], device='cuda:0')"
      ]
     },
     "execution_count": 326,
     "metadata": {},
     "output_type": "execute_result"
    }
   ],
   "source": [
    "z"
   ]
  },
  {
   "cell_type": "code",
   "execution_count": 327,
   "metadata": {},
   "outputs": [
    {
     "data": {
      "text/plain": [
       "tensor([], device='cuda:0', dtype=torch.int64)"
      ]
     },
     "execution_count": 327,
     "metadata": {},
     "output_type": "execute_result"
    }
   ],
   "source": [
    "u = z.new_empty(0)\n",
    "u"
   ]
  },
  {
   "cell_type": "code",
   "execution_count": 328,
   "metadata": {},
   "outputs": [
    {
     "data": {
      "text/plain": [
       "(torch.Size([0]), torch.Size([3, 1]))"
      ]
     },
     "execution_count": 328,
     "metadata": {},
     "output_type": "execute_result"
    }
   ],
   "source": [
    "u.size(), z.size()"
   ]
  },
  {
   "cell_type": "code",
   "execution_count": 329,
   "metadata": {},
   "outputs": [
    {
     "data": {
      "text/plain": [
       "tensor([[4],\n",
       "        [2],\n",
       "        [3]], device='cuda:0')"
      ]
     },
     "execution_count": 329,
     "metadata": {},
     "output_type": "execute_result"
    }
   ],
   "source": [
    "torch.cat([z, u], 1)"
   ]
  },
  {
   "cell_type": "code",
   "execution_count": 330,
   "metadata": {},
   "outputs": [],
   "source": [
    "x = torch.randn(5, 4)"
   ]
  },
  {
   "cell_type": "code",
   "execution_count": 331,
   "metadata": {},
   "outputs": [
    {
     "data": {
      "text/plain": [
       "tensor([[ 0.2652, -0.7908,  0.9808, -0.1746],\n",
       "        [ 0.7809,  0.1765,  0.6721, -0.9734],\n",
       "        [ 1.0928, -0.9968, -0.6994, -1.3530],\n",
       "        [ 1.1896,  0.0035, -0.2285, -0.0105],\n",
       "        [ 0.3985,  1.1669, -1.8245,  0.1341]])"
      ]
     },
     "execution_count": 331,
     "metadata": {},
     "output_type": "execute_result"
    }
   ],
   "source": [
    "x"
   ]
  },
  {
   "cell_type": "code",
   "execution_count": 332,
   "metadata": {},
   "outputs": [
    {
     "data": {
      "text/plain": [
       "tensor([[0.2652],\n",
       "        [0.7809],\n",
       "        [1.0928],\n",
       "        [1.1896],\n",
       "        [0.3985]])"
      ]
     },
     "execution_count": 332,
     "metadata": {},
     "output_type": "execute_result"
    }
   ],
   "source": [
    "y = x[:, :1]\n",
    "y"
   ]
  },
  {
   "cell_type": "code",
   "execution_count": 333,
   "metadata": {},
   "outputs": [
    {
     "data": {
      "text/plain": [
       "tensor([[5.],\n",
       "        [5.],\n",
       "        [5.],\n",
       "        [5.],\n",
       "        [5.]])"
      ]
     },
     "execution_count": 333,
     "metadata": {},
     "output_type": "execute_result"
    }
   ],
   "source": [
    "y[:, 0] = 5\n",
    "y"
   ]
  },
  {
   "cell_type": "code",
   "execution_count": 334,
   "metadata": {},
   "outputs": [
    {
     "data": {
      "text/plain": [
       "tensor([[ 5.0000e+00, -7.9081e-01,  9.8081e-01, -1.7459e-01],\n",
       "        [ 5.0000e+00,  1.7653e-01,  6.7213e-01, -9.7336e-01],\n",
       "        [ 5.0000e+00, -9.9680e-01, -6.9938e-01, -1.3530e+00],\n",
       "        [ 5.0000e+00,  3.4749e-03, -2.2855e-01, -1.0477e-02],\n",
       "        [ 5.0000e+00,  1.1669e+00, -1.8245e+00,  1.3407e-01]])"
      ]
     },
     "execution_count": 334,
     "metadata": {},
     "output_type": "execute_result"
    }
   ],
   "source": [
    "x"
   ]
  },
  {
   "cell_type": "code",
   "execution_count": 336,
   "metadata": {},
   "outputs": [
    {
     "data": {
      "text/plain": [
       "tensor([[ 1.0000e+01, -1.5816e+00,  1.9616e+00, -3.4918e-01],\n",
       "        [ 1.0000e+01,  3.5307e-01,  1.3443e+00, -1.9467e+00],\n",
       "        [ 1.0000e+01, -1.9936e+00, -1.3988e+00, -2.7060e+00],\n",
       "        [ 1.0000e+01,  6.9498e-03, -4.5709e-01, -2.0953e-02],\n",
       "        [ 1.0000e+01,  2.3338e+00, -3.6491e+00,  2.6814e-01]])"
      ]
     },
     "execution_count": 336,
     "metadata": {},
     "output_type": "execute_result"
    }
   ],
   "source": [
    "x * 2"
   ]
  },
  {
   "cell_type": "code",
   "execution_count": 340,
   "metadata": {},
   "outputs": [
    {
     "data": {
      "text/plain": [
       "(tensor([[ 1.0000e+01, -1.5816e+00,  1.9616e+00, -3.4918e-01],\n",
       "         [ 1.0000e+01,  3.5307e-01,  1.3443e+00, -1.9467e+00],\n",
       "         [ 1.0000e+01, -1.9936e+00, -1.3988e+00, -2.7060e+00],\n",
       "         [ 1.0000e+01,  6.9498e-03, -4.5709e-01, -2.0953e-02],\n",
       "         [ 1.0000e+01,  2.3338e+00, -3.6491e+00,  2.6814e-01]]),)"
      ]
     },
     "execution_count": 340,
     "metadata": {},
     "output_type": "execute_result"
    }
   ],
   "source": [
    "torch._foreach_mul((x ,), 2.)"
   ]
  },
  {
   "cell_type": "code",
   "execution_count": 341,
   "metadata": {},
   "outputs": [
    {
     "data": {
      "text/plain": [
       "(tensor([[ 1.0000e+01, -1.5816e+00,  1.9616e+00, -3.4918e-01],\n",
       "         [ 1.0000e+01,  3.5307e-01,  1.3443e+00, -1.9467e+00],\n",
       "         [ 1.0000e+01, -1.9936e+00, -1.3988e+00, -2.7060e+00],\n",
       "         [ 1.0000e+01,  6.9498e-03, -4.5709e-01, -2.0953e-02],\n",
       "         [ 1.0000e+01,  2.3338e+00, -3.6491e+00,  2.6814e-01]]),)"
      ]
     },
     "execution_count": 341,
     "metadata": {},
     "output_type": "execute_result"
    }
   ],
   "source": [
    "torch._foreach_mul((x ,), torch.tensor(2.))"
   ]
  },
  {
   "cell_type": "code",
   "execution_count": 345,
   "metadata": {},
   "outputs": [
    {
     "data": {
      "text/plain": [
       "(tensor([[ 1.0000e+01, -1.5816e+00,  1.9616e+00, -3.4918e-01],\n",
       "         [ 1.0000e+01,  3.5307e-01,  1.3443e+00, -1.9467e+00],\n",
       "         [ 1.0000e+01, -1.9936e+00, -1.3988e+00, -2.7060e+00],\n",
       "         [ 1.0000e+01,  6.9498e-03, -4.5709e-01, -2.0953e-02],\n",
       "         [ 1.0000e+01,  2.3338e+00, -3.6491e+00,  2.6814e-01]]),\n",
       " tensor([[ 1.5000e+01, -2.3724e+00,  2.9424e+00, -5.2377e-01],\n",
       "         [ 1.5000e+01,  5.2960e-01,  2.0164e+00, -2.9201e+00],\n",
       "         [ 1.5000e+01, -2.9904e+00, -2.0981e+00, -4.0591e+00],\n",
       "         [ 1.5000e+01,  1.0425e-02, -6.8564e-01, -3.1430e-02],\n",
       "         [ 1.5000e+01,  3.5008e+00, -5.4736e+00,  4.0222e-01]]))"
      ]
     },
     "execution_count": 345,
     "metadata": {},
     "output_type": "execute_result"
    }
   ],
   "source": [
    "torch._foreach_mul((x , x), (torch.tensor(2.0), torch.tensor(3.0),))"
   ]
  },
  {
   "cell_type": "code",
   "execution_count": 350,
   "metadata": {},
   "outputs": [
    {
     "data": {
      "text/plain": [
       "tensor([2, 6])"
      ]
     },
     "execution_count": 350,
     "metadata": {},
     "output_type": "execute_result"
    }
   ],
   "source": [
    "torch.stack([torch.tensor(2), torch.tensor(6)], 0)"
   ]
  },
  {
   "cell_type": "code",
   "execution_count": 351,
   "metadata": {},
   "outputs": [
    {
     "data": {
      "text/plain": [
       "tensor([[2],\n",
       "        [6]])"
      ]
     },
     "execution_count": 351,
     "metadata": {},
     "output_type": "execute_result"
    }
   ],
   "source": [
    "torch.stack([torch.tensor([2]), torch.tensor([6])], 0)"
   ]
  },
  {
   "cell_type": "code",
   "execution_count": 353,
   "metadata": {},
   "outputs": [],
   "source": [
    "y = {x: 5}"
   ]
  },
  {
   "cell_type": "code",
   "execution_count": 355,
   "metadata": {},
   "outputs": [
    {
     "data": {
      "text/plain": [
       "140032206180496"
      ]
     },
     "execution_count": 355,
     "metadata": {},
     "output_type": "execute_result"
    }
   ],
   "source": [
    "hash(x)"
   ]
  },
  {
   "cell_type": "code",
   "execution_count": 356,
   "metadata": {},
   "outputs": [
    {
     "data": {
      "text/plain": [
       "63878"
      ]
     },
     "execution_count": 356,
     "metadata": {},
     "output_type": "execute_result"
    }
   ],
   "source": [
    "4088192 // 64"
   ]
  },
  {
   "cell_type": "code",
   "execution_count": null,
   "metadata": {},
   "outputs": [],
   "source": [
    "lr2 = 1e-3\n",
    "lr1 = 5e-5\n",
    "s = 1000\n",
    "c = 5\n",
    "ratio = np.log(lr2 / (lr2 - lr1))\n",
    "a = 1000. / (c - ratio)\n",
    "b = a * ratio\n",
    "x = np.arange(1, 1001)\n",
    "y = lr2 * ( 1 - np.exp(-(x + b) / a ))\n",
    "fig, ax = plt.subplots()\n",
    "ax.plot(x, y)"
   ]
  }
 ],
 "metadata": {
  "kernelspec": {
   "display_name": "Python 3 (ipykernel)",
   "language": "python",
   "name": "python3"
  },
  "language_info": {
   "codemirror_mode": {
    "name": "ipython",
    "version": 3
   },
   "file_extension": ".py",
   "mimetype": "text/x-python",
   "name": "python",
   "nbconvert_exporter": "python",
   "pygments_lexer": "ipython3",
   "version": "3.9.10"
  },
  "vscode": {
   "interpreter": {
    "hash": "f7d1c444690c64dc164009c81e7c7e493213a917c1ee917acb226d895d2dc691"
   }
  }
 },
 "nbformat": 4,
 "nbformat_minor": 4
}
