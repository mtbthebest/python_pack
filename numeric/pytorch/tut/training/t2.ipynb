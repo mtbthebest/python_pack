{
 "cells": [
  {
   "cell_type": "code",
   "execution_count": 1,
   "metadata": {},
   "outputs": [],
   "source": [
    "import torch\n",
    "import numpy as np\n",
    "import array\n",
    "import math\n",
    "from torch import nn\n"
   ]
  },
  {
   "cell_type": "code",
   "execution_count": 2,
   "metadata": {},
   "outputs": [
    {
     "data": {
      "text/plain": [
       "-2"
      ]
     },
     "execution_count": 2,
     "metadata": {},
     "output_type": "execute_result"
    }
   ],
   "source": [
    "math.ceil(-2.2)"
   ]
  },
  {
   "cell_type": "code",
   "execution_count": 3,
   "metadata": {},
   "outputs": [
    {
     "data": {
      "text/plain": [
       "tensor([[[0, 1, 2, 3, 4, 5, 6, 7, 8, 9]]])"
      ]
     },
     "execution_count": 3,
     "metadata": {},
     "output_type": "execute_result"
    }
   ],
   "source": [
    "torch.arange(10)[None, None, :]"
   ]
  },
  {
   "cell_type": "code",
   "execution_count": 4,
   "metadata": {},
   "outputs": [
    {
     "name": "stderr",
     "output_type": "stream",
     "text": [
      "/home/mtb/env/lib/python3.9/site-packages/torch/nn/modules/lazy.py:178: UserWarning: Lazy modules are a new feature under heavy development so changes to the API or functionality can happen at any moment.\n",
      "  warnings.warn('Lazy modules are a new feature under heavy development '\n"
     ]
    }
   ],
   "source": [
    "net = nn.LazyLinear(256)"
   ]
  },
  {
   "cell_type": "code",
   "execution_count": 5,
   "metadata": {},
   "outputs": [
    {
     "data": {
      "text/plain": [
       "torch.Size([0])"
      ]
     },
     "execution_count": 5,
     "metadata": {},
     "output_type": "execute_result"
    }
   ],
   "source": [
    "net.weight.size()"
   ]
  },
  {
   "cell_type": "code",
   "execution_count": 6,
   "metadata": {},
   "outputs": [],
   "source": [
    "x = torch.randn((10, 30))"
   ]
  },
  {
   "cell_type": "code",
   "execution_count": 7,
   "metadata": {},
   "outputs": [],
   "source": [
    "y = net(x)"
   ]
  },
  {
   "cell_type": "code",
   "execution_count": 8,
   "metadata": {},
   "outputs": [
    {
     "data": {
      "text/plain": [
       "torch.Size([10, 256])"
      ]
     },
     "execution_count": 8,
     "metadata": {},
     "output_type": "execute_result"
    }
   ],
   "source": [
    "y.shape"
   ]
  },
  {
   "cell_type": "code",
   "execution_count": 9,
   "metadata": {},
   "outputs": [
    {
     "data": {
      "text/plain": [
       "torch.Size([256, 30])"
      ]
     },
     "execution_count": 9,
     "metadata": {},
     "output_type": "execute_result"
    }
   ],
   "source": [
    "net.weight.shape"
   ]
  },
  {
   "cell_type": "code",
   "execution_count": 10,
   "metadata": {},
   "outputs": [
    {
     "data": {
      "text/plain": [
       "tensor([[ 3.0911e-01, -1.0789e+00,  1.0737e-01, -1.3498e+00,  1.5476e-01,\n",
       "         -1.1084e+00, -3.4560e-01,  4.6330e-01, -9.8335e-01,  6.4840e-01,\n",
       "         -6.5192e-02, -1.3707e-01, -7.1245e-01, -7.7227e-01,  1.9990e+00,\n",
       "          5.1117e-01, -2.1491e-01,  9.6488e-01, -1.5871e+00, -3.1419e-01,\n",
       "          1.8360e+00,  1.0339e+00,  3.7070e-01,  7.2553e-01,  6.3298e-01,\n",
       "          5.4931e-01, -8.1978e-01, -7.5271e-01, -1.0334e+00,  1.0417e+00],\n",
       "        [ 1.1480e+00,  1.2092e-01, -6.4100e-01, -1.7866e+00,  2.3195e-02,\n",
       "         -3.3704e-01, -2.0448e+00, -8.8505e-01,  1.8044e+00,  1.1934e+00,\n",
       "         -1.5795e-01, -8.5402e-01, -8.6426e-01,  1.8778e+00,  7.1888e-01,\n",
       "         -2.8875e-01, -6.6242e-01,  3.3368e-01,  1.3396e-01, -9.5222e-01,\n",
       "          1.0995e+00, -1.4410e+00, -1.0610e+00, -6.4639e-01, -4.2257e-01,\n",
       "          6.8144e-01,  1.4082e+00, -1.0659e+00,  2.5271e-01,  1.2011e+00],\n",
       "        [ 4.6962e-01,  5.8273e-01,  1.4306e-01,  1.6111e+00, -1.9799e-01,\n",
       "          3.1544e-01,  2.9356e-01,  1.2015e+00, -5.2587e-01, -1.1852e-01,\n",
       "         -4.0868e-01,  1.4593e+00,  3.4181e-01,  5.8198e-01,  2.2181e+00,\n",
       "         -6.1733e-01, -3.6761e-02, -6.8287e-01,  8.5871e-01, -7.9239e-01,\n",
       "         -1.0150e-03,  1.8303e+00, -4.2785e-01, -1.5776e-01,  5.7014e-01,\n",
       "         -1.3899e+00, -7.2450e-01,  7.8255e-02,  1.8323e-01,  2.9492e-01],\n",
       "        [ 8.0024e-02,  4.1488e-01, -1.1769e+00, -3.4623e-01,  4.0631e-01,\n",
       "          2.3722e-01,  3.8951e-01, -1.8927e+00,  8.3909e-01,  1.1118e+00,\n",
       "          1.1917e+00, -2.4640e-01,  1.5969e+00,  8.3790e-01, -9.4410e-01,\n",
       "         -8.7876e-01,  5.1577e-01, -3.5653e-01,  5.9122e-01,  1.1956e+00,\n",
       "          1.9326e+00,  8.4031e-01,  6.2886e-01, -1.2907e+00, -8.4505e-01,\n",
       "         -4.8834e-01, -8.2338e-01,  5.3524e-01, -3.9294e-01,  2.8588e-01],\n",
       "        [ 6.0717e-01,  7.5275e-01,  1.4887e+00,  1.8083e+00,  4.5609e-01,\n",
       "          6.0581e-01, -7.5960e-01,  9.1000e-01,  9.0284e-01, -1.1085e-01,\n",
       "          1.4894e-01, -4.3557e-01, -1.1371e+00,  7.4525e-01,  9.0321e-01,\n",
       "          5.5607e-02, -2.1255e-01,  1.5854e+00, -7.6618e-01,  9.3575e-01,\n",
       "          1.8148e-01,  1.4656e+00, -1.1309e+00,  6.8187e-01, -1.2942e-02,\n",
       "          2.5019e+00,  1.3373e+00, -1.4278e+00, -1.0341e+00,  5.1097e-01],\n",
       "        [ 5.7869e-01, -9.7758e-01, -6.2937e-01,  5.9712e-01, -8.2566e-01,\n",
       "          6.7335e-01, -1.3648e+00, -1.2329e+00, -3.1876e-01,  2.7123e-01,\n",
       "          8.8059e-01, -1.9891e-01,  6.5181e-01, -1.2343e+00,  9.2304e-02,\n",
       "         -6.6306e-01, -9.9798e-02,  1.1464e+00,  7.3737e-01,  1.5108e+00,\n",
       "         -2.5440e+00,  6.9051e-01, -3.2241e-01, -8.5010e-02,  4.6004e-01,\n",
       "         -9.9465e-01,  3.3902e-01,  6.3811e-01, -1.6178e+00, -1.3212e+00],\n",
       "        [ 2.6044e+00, -5.7324e-01, -7.0974e-01, -1.1858e+00,  5.0663e-02,\n",
       "          3.6426e-01,  1.6278e-01,  1.0495e+00, -1.0701e-01,  1.4329e+00,\n",
       "         -1.1316e+00, -2.9277e+00, -3.4210e+00,  1.3034e+00, -2.7102e+00,\n",
       "          1.2507e+00,  3.0507e-01,  2.0373e-01,  1.0249e+00,  7.2582e-02,\n",
       "         -2.9663e-02,  2.2415e+00, -2.4619e-01, -8.5177e-01,  1.9892e+00,\n",
       "          1.4012e+00,  6.9633e-01,  7.3826e-01, -6.9816e-01,  1.2348e-01],\n",
       "        [-8.2525e-01,  1.7403e+00,  4.7158e-02, -5.8326e-01,  3.1315e-01,\n",
       "          4.9553e-01, -1.3055e+00,  9.1379e-02,  6.5660e-01,  1.2877e+00,\n",
       "          3.3457e-01,  5.5604e-01, -8.9494e-02,  1.3922e+00,  1.1867e+00,\n",
       "         -8.6037e-01,  5.5689e-01, -6.0039e-01,  1.8088e-01, -7.8106e-01,\n",
       "          9.9885e-01,  6.8166e-01,  3.9106e-01,  7.5662e-01,  8.8620e-01,\n",
       "         -7.9726e-01, -3.3369e-01,  1.1370e+00, -2.1312e-01, -9.8152e-01],\n",
       "        [-2.1291e-01,  7.9022e-01,  1.9191e+00, -2.4548e+00,  8.3250e-01,\n",
       "          2.4257e+00, -1.5046e+00, -1.6667e-01, -9.0383e-02, -9.4566e-02,\n",
       "         -1.1427e-01, -6.4862e-01,  1.1076e+00, -1.5070e+00,  9.6830e-01,\n",
       "          2.9274e-01,  1.3280e+00, -1.2262e+00,  7.5457e-01,  3.3184e-01,\n",
       "          1.4292e-01,  2.7824e-01, -7.5581e-01, -3.0296e-01, -1.4680e-01,\n",
       "         -2.6731e-01, -6.6103e-01, -5.4614e-01, -2.0335e-01,  2.1910e-01],\n",
       "        [-8.0192e-01, -6.7413e-01, -1.9675e+00,  3.1571e-01, -1.4692e+00,\n",
       "          1.3628e+00, -1.3070e+00,  1.6984e-01, -1.6765e+00,  1.7329e-01,\n",
       "          3.7547e-01, -1.7019e-01, -9.0703e-02,  4.0057e-01,  1.3977e+00,\n",
       "         -1.2526e+00, -1.3263e-01,  1.1355e+00,  6.0911e-01, -8.8604e-02,\n",
       "         -1.8909e+00, -9.4573e-01, -1.3925e-01,  7.9380e-01, -2.5392e-01,\n",
       "          4.4587e-01,  1.0385e+00,  1.2893e+00, -1.0132e-01, -4.7336e-01]],\n",
       "       device='cuda:0')"
      ]
     },
     "execution_count": 10,
     "metadata": {},
     "output_type": "execute_result"
    }
   ],
   "source": [
    "x.to(device='cuda:0') "
   ]
  },
  {
   "cell_type": "code",
   "execution_count": 11,
   "metadata": {},
   "outputs": [
    {
     "data": {
      "text/plain": [
       "device(type='cpu')"
      ]
     },
     "execution_count": 11,
     "metadata": {},
     "output_type": "execute_result"
    }
   ],
   "source": [
    "x.device"
   ]
  },
  {
   "cell_type": "code",
   "execution_count": 12,
   "metadata": {},
   "outputs": [],
   "source": [
    "torch.manual_seed(10)\n",
    "x = torch.empty((10, 5000)).uniform_(-4, 4)"
   ]
  },
  {
   "cell_type": "code",
   "execution_count": 13,
   "metadata": {},
   "outputs": [],
   "source": [
    "y = x.clone()"
   ]
  },
  {
   "cell_type": "code",
   "execution_count": 14,
   "metadata": {},
   "outputs": [
    {
     "data": {
      "text/plain": [
       "tensor([[-0.3695,  0.2178, -0.8544,  ..., -0.5767,  0.0687,  0.9357],\n",
       "        [ 0.7685, -1.7597, -0.5440,  ...,  0.0067, -0.1785, -0.2007],\n",
       "        [-1.3787,  1.0032,  1.5139,  ..., -0.0311, -0.7310, -0.7357],\n",
       "        ...,\n",
       "        [-0.6211,  1.6740,  1.3860,  ..., -0.3418, -0.1636, -0.1092],\n",
       "        [ 1.5157, -0.0277,  0.8166,  ...,  1.1793,  0.7833, -0.5789],\n",
       "        [-0.3016,  1.0526,  0.3381,  ..., -0.3096,  0.3056, -1.4316]])"
      ]
     },
     "execution_count": 14,
     "metadata": {},
     "output_type": "execute_result"
    }
   ],
   "source": [
    "torch.normal(0., 1., size=(10, 5000))"
   ]
  },
  {
   "cell_type": "code",
   "execution_count": 15,
   "metadata": {},
   "outputs": [
    {
     "data": {
      "text/plain": [
       "tensor([[ 0.3510,  1.1682,  1.3972,  ..., -0.5403, -1.8046,  1.1958],\n",
       "        [ 1.4531, -0.5814, -0.5592,  ..., -2.4647,  0.2427, -0.5404],\n",
       "        [ 0.0337,  0.9904, -0.9932,  ..., -2.0111, -0.2497,  1.1261],\n",
       "        ...,\n",
       "        [-0.3714,  1.3240, -0.1600,  ..., -1.9292,  1.6265,  0.3676],\n",
       "        [ 0.6357,  0.2587,  0.5304,  ..., -1.2510,  0.8620,  1.0873],\n",
       "        [ 0.4514, -0.1732,  0.4199,  ...,  0.6106,  1.2206, -1.0866]])"
      ]
     },
     "execution_count": 15,
     "metadata": {},
     "output_type": "execute_result"
    }
   ],
   "source": [
    "x.normal_(0, 1)"
   ]
  },
  {
   "cell_type": "code",
   "execution_count": 16,
   "metadata": {},
   "outputs": [
    {
     "data": {
      "text/plain": [
       "tensor([[ 0.3887, -0.0518, -0.6590,  ..., -0.3228,  0.7122, -1.4934],\n",
       "        [ 1.3387,  2.3876,  0.5639,  ...,  0.8801, -0.1235, -0.5796],\n",
       "        [ 1.4232, -0.8363,  0.4545,  ...,  0.4513, -0.0427, -0.6412],\n",
       "        ...,\n",
       "        [ 0.0268,  0.0838, -0.0644,  ...,  0.5830, -0.5323, -0.2533],\n",
       "        [ 0.1744,  0.6938, -0.6699,  ..., -0.5077, -0.0810,  0.5587],\n",
       "        [ 0.1309,  0.6458,  1.9199,  ...,  0.8345, -1.2508,  0.6531]])"
      ]
     },
     "execution_count": 16,
     "metadata": {},
     "output_type": "execute_result"
    }
   ],
   "source": [
    "x.normal_(0, 1)"
   ]
  },
  {
   "cell_type": "code",
   "execution_count": 17,
   "metadata": {},
   "outputs": [
    {
     "data": {
      "text/plain": [
       "tensor([[ 0.3887, -0.0518, -0.6590,  ..., -0.3228,  0.7122, -1.4934],\n",
       "        [ 1.3387,  2.3876,  0.5639,  ...,  0.8801, -0.1235, -0.5796],\n",
       "        [ 1.4232, -0.8363,  0.4545,  ...,  0.4513, -0.0427, -0.6412],\n",
       "        ...,\n",
       "        [ 0.0268,  0.0838, -0.0644,  ...,  0.5830, -0.5323, -0.2533],\n",
       "        [ 0.1744,  0.6938, -0.6699,  ..., -0.5077, -0.0810,  0.5587],\n",
       "        [ 0.1309,  0.6458,  1.9199,  ...,  0.8345, -1.2508,  0.6531]])"
      ]
     },
     "execution_count": 17,
     "metadata": {},
     "output_type": "execute_result"
    }
   ],
   "source": [
    "x"
   ]
  },
  {
   "cell_type": "code",
   "execution_count": 18,
   "metadata": {},
   "outputs": [
    {
     "data": {
      "text/plain": [
       "tensor([ 0.0124, -0.0021,  0.0146, -0.0086,  0.0119, -0.0051,  0.0012,  0.0191,\n",
       "         0.0050,  0.0265])"
      ]
     },
     "execution_count": 18,
     "metadata": {},
     "output_type": "execute_result"
    }
   ],
   "source": [
    "x.sum((-1)) / 5000"
   ]
  },
  {
   "cell_type": "code",
   "execution_count": 19,
   "metadata": {},
   "outputs": [
    {
     "data": {
      "text/plain": [
       "(tensor([[-0.3817, -0.1835, -1.5463,  ..., -2.1051, -1.2046,  3.5418],\n",
       "         [ 3.8134,  2.7599, -3.0942,  ..., -3.6861,  3.3261, -3.9601],\n",
       "         [-2.9215, -3.5598, -2.8361,  ..., -3.5278,  0.1972, -0.7693],\n",
       "         ...,\n",
       "         [-0.8184, -3.0790,  2.2531,  ..., -3.7783, -3.3329,  1.3009],\n",
       "         [ 3.3563,  1.7762,  0.0914,  ...,  0.9927,  1.0587, -1.5650],\n",
       "         [ 3.8360,  0.8514, -2.5571,  ...,  3.6733,  0.1638,  2.8013]]),\n",
       " tensor([[-0.3500, -0.1518, -1.5146,  ..., -2.0734, -1.1729,  3.5735],\n",
       "         [ 3.7703,  2.7168, -3.1373,  ..., -3.7292,  3.2830, -4.0032],\n",
       "         [-2.9363, -3.5746, -2.8509,  ..., -3.5426,  0.1824, -0.7841],\n",
       "         ...,\n",
       "         [-0.7874, -3.0481,  2.2840,  ..., -3.7473, -3.3019,  1.3318],\n",
       "         [ 3.3932,  1.8130,  0.1283,  ...,  1.0296,  1.0956, -1.5282],\n",
       "         [ 3.8346,  0.8500, -2.5585,  ...,  3.6719,  0.1623,  2.7999]]))"
      ]
     },
     "execution_count": 19,
     "metadata": {},
     "output_type": "execute_result"
    }
   ],
   "source": [
    "y - y.mean(axis=(1, ), keepdim=True), y -  y.sum() / 50000"
   ]
  },
  {
   "cell_type": "code",
   "execution_count": 20,
   "metadata": {},
   "outputs": [],
   "source": [
    "z = y.sum(axis=-1, keepdim=True) / 5000"
   ]
  },
  {
   "cell_type": "code",
   "execution_count": 21,
   "metadata": {},
   "outputs": [],
   "source": [
    "w = y - z"
   ]
  },
  {
   "cell_type": "code",
   "execution_count": 22,
   "metadata": {},
   "outputs": [
    {
     "data": {
      "text/plain": [
       "tensor([ 5.7602e-08, -7.6294e-08,  1.2207e-08,  2.1362e-08, -3.3569e-08,\n",
       "        -3.0518e-08, -5.2643e-08,  4.5776e-08,  4.5776e-08,  2.5177e-08])"
      ]
     },
     "execution_count": 22,
     "metadata": {},
     "output_type": "execute_result"
    }
   ],
   "source": [
    "w.mean(axis=(-1))"
   ]
  },
  {
   "cell_type": "code",
   "execution_count": 23,
   "metadata": {},
   "outputs": [
    {
     "data": {
      "text/plain": [
       "tensor([[ 1.6183,  1.8165,  0.4537,  ..., -0.1051,  0.7954,  5.5418],\n",
       "        [ 5.8134,  4.7599, -1.0942,  ..., -1.6861,  5.3261, -1.9601],\n",
       "        [-0.9215, -1.5598, -0.8361,  ..., -1.5278,  2.1972,  1.2307],\n",
       "        ...,\n",
       "        [ 1.1816, -1.0790,  4.2531,  ..., -1.7783, -1.3329,  3.3009],\n",
       "        [ 5.3563,  3.7762,  2.0914,  ...,  2.9927,  3.0587,  0.4350],\n",
       "        [ 5.8360,  2.8514, -0.5571,  ...,  5.6733,  2.1638,  4.8013]])"
      ]
     },
     "execution_count": 23,
     "metadata": {},
     "output_type": "execute_result"
    }
   ],
   "source": [
    "w + 2"
   ]
  },
  {
   "cell_type": "code",
   "execution_count": 24,
   "metadata": {},
   "outputs": [],
   "source": [
    "torch.manual_seed(10)\n",
    "x = torch.empty((10, 5, 10, 5000)).uniform_(-4, 4)"
   ]
  },
  {
   "cell_type": "code",
   "execution_count": 25,
   "metadata": {},
   "outputs": [
    {
     "data": {
      "text/plain": [
       "tensor([[ 0.0146,  0.0002, -0.0002, -0.0103,  0.0040],\n",
       "        [ 0.0043, -0.0058,  0.0041,  0.0007,  0.0131],\n",
       "        [-0.0122,  0.0037, -0.0264, -0.0108, -0.0075],\n",
       "        [ 0.0198, -0.0003, -0.0140,  0.0062, -0.0056],\n",
       "        [-0.0018,  0.0028,  0.0114, -0.0059, -0.0080],\n",
       "        [ 0.0002, -0.0061, -0.0109, -0.0079, -0.0001],\n",
       "        [ 0.0123, -0.0162,  0.0010,  0.0027, -0.0017],\n",
       "        [-0.0154, -0.0113, -0.0122,  0.0016, -0.0126],\n",
       "        [ 0.0298,  0.0111, -0.0063,  0.0095, -0.0102],\n",
       "        [-0.0012,  0.0038, -0.0087,  0.0119, -0.0023]])"
      ]
     },
     "execution_count": 25,
     "metadata": {},
     "output_type": "execute_result"
    }
   ],
   "source": [
    "x.mean(axis=(-1, -2))"
   ]
  },
  {
   "cell_type": "markdown",
   "metadata": {},
   "source": [
    "MLP"
   ]
  },
  {
   "cell_type": "code",
   "execution_count": 26,
   "metadata": {},
   "outputs": [],
   "source": [
    "net = nn.Linear(4, 10)"
   ]
  },
  {
   "cell_type": "code",
   "execution_count": 27,
   "metadata": {},
   "outputs": [],
   "source": [
    "x = torch.randn(2, 4)"
   ]
  },
  {
   "cell_type": "code",
   "execution_count": 28,
   "metadata": {},
   "outputs": [
    {
     "data": {
      "text/plain": [
       "torch.Size([2, 10])"
      ]
     },
     "execution_count": 28,
     "metadata": {},
     "output_type": "execute_result"
    }
   ],
   "source": [
    "y = net(x)\n",
    "y.shape"
   ]
  },
  {
   "cell_type": "code",
   "execution_count": 29,
   "metadata": {},
   "outputs": [
    {
     "data": {
      "text/plain": [
       "tensor([[-0.5986,  0.2001,  1.2537,  0.5834, -0.5716,  0.2312,  0.0540,  0.0463,\n",
       "         -0.3411,  0.3042],\n",
       "        [-0.4324,  0.1083, -0.6668, -0.4291, -0.7299, -0.0870, -1.0466,  0.3723,\n",
       "         -0.6390, -0.0645]], grad_fn=<AddmmBackward0>)"
      ]
     },
     "execution_count": 29,
     "metadata": {},
     "output_type": "execute_result"
    }
   ],
   "source": [
    "y"
   ]
  },
  {
   "cell_type": "code",
   "execution_count": 30,
   "metadata": {},
   "outputs": [
    {
     "data": {
      "text/plain": [
       "Parameter containing:\n",
       "tensor([[ 0.0322, -0.0182, -0.4234, -0.4418],\n",
       "        [ 0.4645, -0.0485,  0.1915,  0.4401],\n",
       "        [-0.2199,  0.2342, -0.1968,  0.4420],\n",
       "        [-0.3294, -0.1101, -0.0606,  0.2784],\n",
       "        [-0.4155,  0.4957, -0.1378, -0.4509],\n",
       "        [-0.2811,  0.3955, -0.3359, -0.4654],\n",
       "        [ 0.0860,  0.1035, -0.4661,  0.0312],\n",
       "        [ 0.4474,  0.0618,  0.0999,  0.1228],\n",
       "        [ 0.0265,  0.4594,  0.2514,  0.1779],\n",
       "        [ 0.1866,  0.4216,  0.1418,  0.1924]], requires_grad=True)"
      ]
     },
     "execution_count": 30,
     "metadata": {},
     "output_type": "execute_result"
    }
   ],
   "source": [
    "net.weight"
   ]
  },
  {
   "cell_type": "code",
   "execution_count": 31,
   "metadata": {},
   "outputs": [
    {
     "data": {
      "text/plain": [
       "torch.Size([10, 4])"
      ]
     },
     "execution_count": 31,
     "metadata": {},
     "output_type": "execute_result"
    }
   ],
   "source": [
    "net.weight.shape"
   ]
  },
  {
   "cell_type": "code",
   "execution_count": 32,
   "metadata": {},
   "outputs": [
    {
     "data": {
      "text/plain": [
       "tensor([[-0.5986,  0.2001,  1.2537,  0.5834, -0.5716,  0.2312,  0.0540,  0.0463,\n",
       "         -0.3411,  0.3042],\n",
       "        [-0.4324,  0.1083, -0.6668, -0.4291, -0.7299, -0.0870, -1.0466,  0.3723,\n",
       "         -0.6390, -0.0645]], grad_fn=<AddBackward0>)"
      ]
     },
     "execution_count": 32,
     "metadata": {},
     "output_type": "execute_result"
    }
   ],
   "source": [
    "torch.matmul(x, net.weight.T) + net.bias"
   ]
  },
  {
   "cell_type": "code",
   "execution_count": 33,
   "metadata": {},
   "outputs": [
    {
     "data": {
      "text/plain": [
       "tensor([[-0.5986,  0.2001,  1.2537,  0.5834, -0.5716,  0.2312,  0.0540,  0.0463,\n",
       "         -0.3411,  0.3042],\n",
       "        [-0.4324,  0.1083, -0.6668, -0.4291, -0.7299, -0.0870, -1.0466,  0.3723,\n",
       "         -0.6390, -0.0645]], grad_fn=<AddBackward0>)"
      ]
     },
     "execution_count": 33,
     "metadata": {},
     "output_type": "execute_result"
    }
   ],
   "source": [
    "torch.einsum('bj, ij -> bi', x, net.weight) + net.bias"
   ]
  },
  {
   "cell_type": "code",
   "execution_count": 34,
   "metadata": {},
   "outputs": [],
   "source": [
    "import torch.nn.functional as F"
   ]
  },
  {
   "cell_type": "code",
   "execution_count": 35,
   "metadata": {},
   "outputs": [
    {
     "data": {
      "text/plain": [
       "tensor([[-0.5986,  0.2001,  1.2537,  0.5834, -0.5716,  0.2312,  0.0540,  0.0463,\n",
       "         -0.3411,  0.3042],\n",
       "        [-0.4324,  0.1083, -0.6668, -0.4291, -0.7299, -0.0870, -1.0466,  0.3723,\n",
       "         -0.6390, -0.0645]], grad_fn=<AddmmBackward0>)"
      ]
     },
     "execution_count": 35,
     "metadata": {},
     "output_type": "execute_result"
    }
   ],
   "source": [
    "F.linear(x, net.weight, net.bias)"
   ]
  },
  {
   "cell_type": "code",
   "execution_count": 36,
   "metadata": {},
   "outputs": [],
   "source": [
    "torch.manual_seed(42)\n",
    "net = nn.Sequential()\n",
    "net.add_module('lin1', nn.Linear(32, 64))\n",
    "net.add_module('lin2', nn.Linear(64, 10))"
   ]
  },
  {
   "cell_type": "code",
   "execution_count": 37,
   "metadata": {},
   "outputs": [],
   "source": [
    "x = torch.randn((4, 32))"
   ]
  },
  {
   "cell_type": "code",
   "execution_count": 38,
   "metadata": {},
   "outputs": [
    {
     "data": {
      "text/plain": [
       "(tensor([-0.0630, -0.0022, -0.0127, -0.3661,  0.0866,  0.0741,  0.0963,  0.1773,\n",
       "         -0.0797,  0.3435], grad_fn=<SelectBackward0>),\n",
       " torch.Size([4, 10]))"
      ]
     },
     "execution_count": 38,
     "metadata": {},
     "output_type": "execute_result"
    }
   ],
   "source": [
    "y = net(x)\n",
    "y[0], y.shape\n"
   ]
  },
  {
   "cell_type": "code",
   "execution_count": 39,
   "metadata": {},
   "outputs": [
    {
     "data": {
      "text/plain": [
       "tensor([-0.0630, -0.0022, -0.0127, -0.3661,  0.0866,  0.0741,  0.0963,  0.1773,\n",
       "        -0.0797,  0.3435], grad_fn=<SelectBackward0>)"
      ]
     },
     "execution_count": 39,
     "metadata": {},
     "output_type": "execute_result"
    }
   ],
   "source": [
    "z = net.lin2(net.lin1(x))\n",
    "z[0]"
   ]
  },
  {
   "cell_type": "code",
   "execution_count": 40,
   "metadata": {},
   "outputs": [
    {
     "data": {
      "text/plain": [
       "odict_keys(['lin1.weight', 'lin1.bias', 'lin2.weight', 'lin2.bias'])"
      ]
     },
     "execution_count": 40,
     "metadata": {},
     "output_type": "execute_result"
    }
   ],
   "source": [
    "net.state_dict().keys()"
   ]
  },
  {
   "cell_type": "code",
   "execution_count": 41,
   "metadata": {},
   "outputs": [
    {
     "data": {
      "text/plain": [
       "torch.Size([20, 10, 4, 10])"
      ]
     },
     "execution_count": 41,
     "metadata": {},
     "output_type": "execute_result"
    }
   ],
   "source": [
    "x = torch.randn(20, 10, 4, 32)\n",
    "y = net(x)\n",
    "y.shape"
   ]
  },
  {
   "cell_type": "code",
   "execution_count": 42,
   "metadata": {},
   "outputs": [],
   "source": [
    "x = torch.empty((4, 5)).uniform_(-10, 10)"
   ]
  },
  {
   "cell_type": "code",
   "execution_count": 43,
   "metadata": {},
   "outputs": [
    {
     "data": {
      "text/plain": [
       "tensor([[ 9.6053,  6.1465, -3.9468, -6.8474,  6.5705],\n",
       "        [ 7.9896,  7.8190, -2.3512,  7.2122,  8.1273],\n",
       "        [ 7.9416,  9.6219, -9.1863,  9.3812,  7.5133],\n",
       "        [ 2.9351,  5.0090,  1.0653, -6.3083,  4.4218]])"
      ]
     },
     "execution_count": 43,
     "metadata": {},
     "output_type": "execute_result"
    }
   ],
   "source": [
    "x"
   ]
  },
  {
   "cell_type": "code",
   "execution_count": 44,
   "metadata": {},
   "outputs": [],
   "source": [
    "bn = nn.BatchNorm1d(x.shape[1])\n",
    "y = bn(x)"
   ]
  },
  {
   "cell_type": "code",
   "execution_count": 45,
   "metadata": {},
   "outputs": [
    {
     "data": {
      "text/plain": [
       "(Parameter containing:\n",
       " tensor([1., 1., 1., 1., 1.], requires_grad=True),\n",
       " Parameter containing:\n",
       " tensor([0., 0., 0., 0., 0.], requires_grad=True),\n",
       " torch.Size([5]),\n",
       " torch.Size([5]))"
      ]
     },
     "execution_count": 45,
     "metadata": {},
     "output_type": "execute_result"
    }
   ],
   "source": [
    "bn.weight, bn.bias, bn.weight.shape, bn.bias.size()"
   ]
  },
  {
   "cell_type": "code",
   "execution_count": 46,
   "metadata": {},
   "outputs": [
    {
     "data": {
      "text/plain": [
       "(tensor([[ 0.9926, -0.5753, -0.0925, -1.0304, -0.0625],\n",
       "         [ 0.3478,  0.3844,  0.3391,  0.8494,  1.0455],\n",
       "         [ 0.3287,  1.4189, -1.5100,  1.1394,  0.6085],\n",
       "         [-1.6691, -1.2280,  1.2634, -0.9584, -1.5915]],\n",
       "        grad_fn=<NativeBatchNormBackward0>),\n",
       " tensor([ 5.9605e-08,  5.9605e-08,  5.9605e-08, -1.4901e-08, -1.4901e-07],\n",
       "        grad_fn=<MeanBackward1>),\n",
       " tensor([1.1547, 1.1547, 1.1547, 1.1547, 1.1547], grad_fn=<StdBackward0>))"
      ]
     },
     "execution_count": 46,
     "metadata": {},
     "output_type": "execute_result"
    }
   ],
   "source": [
    "y, y.mean(dim=0), y.std(0)"
   ]
  },
  {
   "cell_type": "code",
   "execution_count": 47,
   "metadata": {},
   "outputs": [
    {
     "data": {
      "text/plain": [
       "tensor([ 7.1179,  7.1491, -3.6047,  0.8594,  6.6582])"
      ]
     },
     "execution_count": 47,
     "metadata": {},
     "output_type": "execute_result"
    }
   ],
   "source": [
    "x.mean(dim=0)"
   ]
  },
  {
   "cell_type": "code",
   "execution_count": 48,
   "metadata": {},
   "outputs": [
    {
     "data": {
      "text/plain": [
       "tensor([[ 0.8596, -0.4982, -0.0801, -0.8924, -0.0541],\n",
       "        [ 0.3012,  0.3329,  0.2937,  0.7356,  0.9054],\n",
       "        [ 0.2846,  1.2288, -1.3077,  0.9868,  0.5270],\n",
       "        [-1.4455, -1.0635,  1.0942, -0.8300, -1.3783]])"
      ]
     },
     "execution_count": 48,
     "metadata": {},
     "output_type": "execute_result"
    }
   ],
   "source": [
    "(x - x.mean(dim=0)) / (x.std(dim=0) + 1e-9)"
   ]
  },
  {
   "cell_type": "code",
   "execution_count": 49,
   "metadata": {},
   "outputs": [
    {
     "data": {
      "text/plain": [
       "tensor([[[3, 3, 3, 1],\n",
       "         [3, 1, 1, 3]],\n",
       "\n",
       "        [[0, 0, 2, 3],\n",
       "         [2, 3, 2, 1]],\n",
       "\n",
       "        [[3, 0, 3, 2],\n",
       "         [2, 2, 2, 2]]])"
      ]
     },
     "execution_count": 49,
     "metadata": {},
     "output_type": "execute_result"
    }
   ],
   "source": [
    "x = torch.randint(0, 4, (3, 2, 4))\n",
    "x"
   ]
  },
  {
   "cell_type": "code",
   "execution_count": 51,
   "metadata": {},
   "outputs": [
    {
     "data": {
      "text/plain": [
       "(torch.Size([3, 2, 4]),\n",
       " torch.Size([3, 2, 4, 6]),\n",
       " tensor([[[[0, 0, 0, 1, 0, 0],\n",
       "           [0, 0, 0, 1, 0, 0],\n",
       "           [0, 0, 0, 1, 0, 0],\n",
       "           [0, 1, 0, 0, 0, 0]],\n",
       " \n",
       "          [[0, 0, 0, 1, 0, 0],\n",
       "           [0, 1, 0, 0, 0, 0],\n",
       "           [0, 1, 0, 0, 0, 0],\n",
       "           [0, 0, 0, 1, 0, 0]]],\n",
       " \n",
       " \n",
       "         [[[1, 0, 0, 0, 0, 0],\n",
       "           [1, 0, 0, 0, 0, 0],\n",
       "           [0, 0, 1, 0, 0, 0],\n",
       "           [0, 0, 0, 1, 0, 0]],\n",
       " \n",
       "          [[0, 0, 1, 0, 0, 0],\n",
       "           [0, 0, 0, 1, 0, 0],\n",
       "           [0, 0, 1, 0, 0, 0],\n",
       "           [0, 1, 0, 0, 0, 0]]],\n",
       " \n",
       " \n",
       "         [[[0, 0, 0, 1, 0, 0],\n",
       "           [1, 0, 0, 0, 0, 0],\n",
       "           [0, 0, 0, 1, 0, 0],\n",
       "           [0, 0, 1, 0, 0, 0]],\n",
       " \n",
       "          [[0, 0, 1, 0, 0, 0],\n",
       "           [0, 0, 1, 0, 0, 0],\n",
       "           [0, 0, 1, 0, 0, 0],\n",
       "           [0, 0, 1, 0, 0, 0]]]]))"
      ]
     },
     "execution_count": 51,
     "metadata": {},
     "output_type": "execute_result"
    }
   ],
   "source": [
    "x.shape, F.one_hot(x, 6).shape, F.one_hot(x, 6)"
   ]
  },
  {
   "cell_type": "code",
   "execution_count": 56,
   "metadata": {},
   "outputs": [],
   "source": [
    "input = torch.normal(4, 10, size=(10, )).requires_grad_()"
   ]
  },
  {
   "cell_type": "code",
   "execution_count": 57,
   "metadata": {},
   "outputs": [
    {
     "data": {
      "text/plain": [
       "tensor([12.7321,  5.6809,  9.2964, 14.9853, -3.7835,  3.7777,  5.0353, -3.6466,\n",
       "        -2.5364, 12.3880], requires_grad=True)"
      ]
     },
     "execution_count": 57,
     "metadata": {},
     "output_type": "execute_result"
    }
   ],
   "source": [
    "input"
   ]
  },
  {
   "cell_type": "code",
   "execution_count": 89,
   "metadata": {},
   "outputs": [
    {
     "data": {
      "text/plain": [
       "tensor([0., 1., 1., 0., 1., 0., 1., 0., 0., 1.], requires_grad=True)"
      ]
     },
     "execution_count": 89,
     "metadata": {},
     "output_type": "execute_result"
    }
   ],
   "source": [
    "target = torch.randint(0, 2, size=input.size(), dtype=torch.float).requires_grad_()\n",
    "target"
   ]
  },
  {
   "cell_type": "code",
   "execution_count": 90,
   "metadata": {},
   "outputs": [
    {
     "data": {
      "text/plain": [
       "tensor([0., 1., 1., 0., 1., 0., 1., 0., 0., 1.], requires_grad=True)"
      ]
     },
     "execution_count": 90,
     "metadata": {},
     "output_type": "execute_result"
    }
   ],
   "source": [
    "target"
   ]
  },
  {
   "cell_type": "code",
   "execution_count": 94,
   "metadata": {},
   "outputs": [
    {
     "name": "stderr",
     "output_type": "stream",
     "text": [
      "/home/mtb/env/lib/python3.9/site-packages/torch/nn/functional.py:1960: UserWarning: nn.functional.sigmoid is deprecated. Use torch.sigmoid instead.\n",
      "  warnings.warn(\"nn.functional.sigmoid is deprecated. Use torch.sigmoid instead.\")\n"
     ]
    },
    {
     "data": {
      "text/plain": [
       "tensor(3.5285, grad_fn=<BinaryCrossEntropyBackward0>)"
      ]
     },
     "execution_count": 94,
     "metadata": {},
     "output_type": "execute_result"
    }
   ],
   "source": [
    "F.binary_cross_entropy(F.sigmoid(input), target, reduce=None)"
   ]
  },
  {
   "cell_type": "code",
   "execution_count": 92,
   "metadata": {},
   "outputs": [
    {
     "data": {
      "text/plain": [
       "tensor(3.5285, grad_fn=<NegBackward0>)"
      ]
     },
     "execution_count": 92,
     "metadata": {},
     "output_type": "execute_result"
    }
   ],
   "source": [
    "def binary_cross_entropy(input, target):\n",
    "    mu = nn.Sigmoid()(input)\n",
    "    \n",
    "    loss = target * torch.log(mu) + (1 - target) * torch.log( 1 - mu)\n",
    "    \n",
    "    return -loss.mean()\n",
    "    \n",
    "binary_cross_entropy(input, target)\n",
    "    "
   ]
  },
  {
   "cell_type": "code",
   "execution_count": 95,
   "metadata": {},
   "outputs": [],
   "source": [
    "target = torch.empty_like(target).uniform_(0, 1).requires_grad_()"
   ]
  },
  {
   "cell_type": "code",
   "execution_count": 96,
   "metadata": {},
   "outputs": [
    {
     "data": {
      "text/plain": [
       "tensor([0.6049, 0.8155, 0.2100, 0.4384, 0.0345, 0.9598, 0.2903, 0.3734, 0.9725,\n",
       "        0.0572], requires_grad=True)"
      ]
     },
     "execution_count": 96,
     "metadata": {},
     "output_type": "execute_result"
    }
   ],
   "source": [
    "target"
   ]
  },
  {
   "cell_type": "code",
   "execution_count": 97,
   "metadata": {},
   "outputs": [
    {
     "name": "stderr",
     "output_type": "stream",
     "text": [
      "/home/mtb/env/lib/python3.9/site-packages/torch/nn/functional.py:1960: UserWarning: nn.functional.sigmoid is deprecated. Use torch.sigmoid instead.\n",
      "  warnings.warn(\"nn.functional.sigmoid is deprecated. Use torch.sigmoid instead.\")\n"
     ]
    },
    {
     "data": {
      "text/plain": [
       "tensor(4.1276, grad_fn=<BinaryCrossEntropyBackward0>)"
      ]
     },
     "execution_count": 97,
     "metadata": {},
     "output_type": "execute_result"
    }
   ],
   "source": [
    "F.binary_cross_entropy(F.sigmoid(input), target, reduce=None)"
   ]
  },
  {
   "cell_type": "code",
   "execution_count": 99,
   "metadata": {},
   "outputs": [
    {
     "data": {
      "text/plain": [
       "tensor(4.1276, grad_fn=<NegBackward0>)"
      ]
     },
     "execution_count": 99,
     "metadata": {},
     "output_type": "execute_result"
    }
   ],
   "source": [
    "binary_cross_entropy(input, target)"
   ]
  },
  {
   "cell_type": "code",
   "execution_count": null,
   "metadata": {},
   "outputs": [],
   "source": []
  }
 ],
 "metadata": {
  "kernelspec": {
   "display_name": "env",
   "language": "python",
   "name": "python3"
  },
  "language_info": {
   "codemirror_mode": {
    "name": "ipython",
    "version": 3
   },
   "file_extension": ".py",
   "mimetype": "text/x-python",
   "name": "python",
   "nbconvert_exporter": "python",
   "pygments_lexer": "ipython3",
   "version": "3.9.10"
  },
  "orig_nbformat": 4,
  "vscode": {
   "interpreter": {
    "hash": "f7d1c444690c64dc164009c81e7c7e493213a917c1ee917acb226d895d2dc691"
   }
  }
 },
 "nbformat": 4,
 "nbformat_minor": 2
}
