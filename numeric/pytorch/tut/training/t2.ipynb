{
 "cells": [
  {
   "cell_type": "code",
   "execution_count": 1,
   "metadata": {},
   "outputs": [],
   "source": [
    "import torch\n",
    "import numpy as np\n",
    "import array\n",
    "import math\n",
    "from torch import nn\n"
   ]
  },
  {
   "cell_type": "code",
   "execution_count": 2,
   "metadata": {},
   "outputs": [
    {
     "data": {
      "text/plain": [
       "-2"
      ]
     },
     "execution_count": 2,
     "metadata": {},
     "output_type": "execute_result"
    }
   ],
   "source": [
    "math.ceil(-2.2)"
   ]
  },
  {
   "cell_type": "code",
   "execution_count": 3,
   "metadata": {},
   "outputs": [
    {
     "data": {
      "text/plain": [
       "tensor([[[0, 1, 2, 3, 4, 5, 6, 7, 8, 9]]])"
      ]
     },
     "execution_count": 3,
     "metadata": {},
     "output_type": "execute_result"
    }
   ],
   "source": [
    "torch.arange(10)[None, None, :]"
   ]
  },
  {
   "cell_type": "code",
   "execution_count": 4,
   "metadata": {},
   "outputs": [
    {
     "name": "stderr",
     "output_type": "stream",
     "text": [
      "/home/mtb/env/lib/python3.9/site-packages/torch/nn/modules/lazy.py:178: UserWarning: Lazy modules are a new feature under heavy development so changes to the API or functionality can happen at any moment.\n",
      "  warnings.warn('Lazy modules are a new feature under heavy development '\n"
     ]
    }
   ],
   "source": [
    "net = nn.LazyLinear(256)"
   ]
  },
  {
   "cell_type": "code",
   "execution_count": 5,
   "metadata": {},
   "outputs": [
    {
     "data": {
      "text/plain": [
       "torch.Size([0])"
      ]
     },
     "execution_count": 5,
     "metadata": {},
     "output_type": "execute_result"
    }
   ],
   "source": [
    "net.weight.size()"
   ]
  },
  {
   "cell_type": "code",
   "execution_count": 6,
   "metadata": {},
   "outputs": [],
   "source": [
    "x = torch.randn((10, 30))"
   ]
  },
  {
   "cell_type": "code",
   "execution_count": 7,
   "metadata": {},
   "outputs": [],
   "source": [
    "y = net(x)"
   ]
  },
  {
   "cell_type": "code",
   "execution_count": 8,
   "metadata": {},
   "outputs": [
    {
     "data": {
      "text/plain": [
       "torch.Size([10, 256])"
      ]
     },
     "execution_count": 8,
     "metadata": {},
     "output_type": "execute_result"
    }
   ],
   "source": [
    "y.shape"
   ]
  },
  {
   "cell_type": "code",
   "execution_count": 9,
   "metadata": {},
   "outputs": [
    {
     "data": {
      "text/plain": [
       "torch.Size([256, 30])"
      ]
     },
     "execution_count": 9,
     "metadata": {},
     "output_type": "execute_result"
    }
   ],
   "source": [
    "net.weight.shape"
   ]
  },
  {
   "cell_type": "code",
   "execution_count": 10,
   "metadata": {},
   "outputs": [
    {
     "data": {
      "text/plain": [
       "tensor([[-7.3163e-01, -1.0313e+00,  1.8594e-01, -9.4720e-01, -2.7819e-01,\n",
       "         -2.2081e+00, -2.7091e-01,  1.0568e-01,  1.2409e+00, -9.7190e-01,\n",
       "         -9.2889e-01, -1.8283e+00,  1.1666e-02, -1.7476e+00, -1.6947e-01,\n",
       "         -8.8269e-01,  1.9062e-01, -8.7030e-02, -4.2455e-02, -1.2796e+00,\n",
       "         -6.9992e-01, -7.0008e-01,  1.1642e+00, -3.0651e-02,  2.4511e+00,\n",
       "          1.5897e+00,  1.1503e+00,  3.9321e-01, -1.5156e+00,  1.7036e+00],\n",
       "        [-1.1412e+00, -1.2044e-01, -1.5878e-02, -1.5245e-02,  7.9413e-02,\n",
       "         -2.8009e+00, -3.5001e-01,  2.5047e-03, -5.4148e-01,  1.2040e-01,\n",
       "          7.2117e-01,  5.4736e-01,  1.3624e-01,  9.1551e-01, -8.1633e-01,\n",
       "          3.2112e-01, -8.4277e-01,  6.7162e-01,  1.1701e+00,  1.2082e+00,\n",
       "          7.4769e-01, -8.3368e-01, -4.6225e-01, -7.5649e-02, -3.0070e-01,\n",
       "         -1.1871e+00,  1.4423e+00, -1.4274e+00, -2.3278e+00, -5.9206e-01],\n",
       "        [ 9.6932e-01,  1.3559e+00, -4.4272e-01,  1.5111e-02,  5.8392e-01,\n",
       "          1.0838e+00, -6.9949e-01, -1.6177e+00, -7.4465e-01,  6.2816e-01,\n",
       "         -1.2297e+00, -2.3606e-01,  9.6893e-01, -1.3813e-01, -2.9717e-01,\n",
       "         -5.7914e-01, -2.3252e-01, -5.0510e-01,  5.4983e-01, -2.7088e-02,\n",
       "          1.2081e+00, -1.6389e-01,  9.6054e-01, -2.7523e-01, -5.9413e-01,\n",
       "         -4.2025e-01, -5.1805e-02, -6.2978e-01,  2.7400e+00,  7.4305e-01],\n",
       "        [-1.7972e-02,  2.8489e-01, -2.8004e+00,  2.5151e-01, -7.1199e-01,\n",
       "          3.4195e-01, -9.3675e-01,  9.8793e-01, -1.3791e+00, -1.3333e+00,\n",
       "         -9.6667e-01, -1.8027e-01, -4.2672e-02,  4.3312e-02,  4.1788e-02,\n",
       "          7.1390e-01,  3.1736e-01, -5.8015e-01, -1.0704e+00, -5.9324e-01,\n",
       "          6.7583e-01,  4.4844e-01, -3.7476e-01, -7.3773e-01, -3.2500e-01,\n",
       "         -1.0994e+00,  8.0160e-02,  1.2483e+00, -6.4966e-01, -3.5815e-01],\n",
       "        [-1.6654e-01,  5.6140e-01, -6.4818e-01,  2.5754e-02,  6.0232e-01,\n",
       "         -1.5962e+00, -1.9027e+00,  1.6631e+00, -8.5314e-01,  3.8701e-01,\n",
       "          1.8454e+00,  3.6112e-01,  2.4731e+00,  1.9867e+00, -5.7393e-01,\n",
       "          5.4477e-01,  4.2904e-02,  2.2872e-01,  9.7079e-02, -7.1727e-01,\n",
       "         -4.6491e-01,  5.2481e-01,  1.5546e-01,  1.5405e+00,  1.0560e+00,\n",
       "          1.3293e+00,  3.9960e-01,  3.9580e-03, -3.9081e-01, -8.2134e-02],\n",
       "        [ 1.5930e+00,  1.3218e+00, -9.1337e-01,  3.3694e-03, -2.6795e-01,\n",
       "         -1.0157e+00, -1.0952e+00, -1.5807e+00,  7.7130e-02, -1.4546e+00,\n",
       "          1.3707e+00,  1.7832e-01, -1.1518e+00,  7.6047e-01, -1.0970e+00,\n",
       "          8.7368e-01,  1.3289e+00,  7.3449e-01,  5.6392e-01, -4.0015e-01,\n",
       "         -1.2695e+00,  2.5686e-01, -4.1642e-01, -4.3493e-01, -1.2558e+00,\n",
       "          7.9984e-01,  3.5962e-01,  1.8131e-01, -8.3298e-01, -2.7623e+00],\n",
       "        [ 1.0581e-01, -9.4344e-02,  1.3691e+00,  1.9199e-01, -1.4300e-01,\n",
       "          1.5801e+00, -1.6551e-02, -1.5032e+00, -3.3060e-01,  2.4917e-01,\n",
       "         -9.0707e-01,  2.0733e+00, -1.6516e+00,  2.2405e-01,  1.0074e+00,\n",
       "         -3.6952e-02, -9.2498e-01,  1.2953e-01,  1.1305e-01, -1.9367e-01,\n",
       "         -1.7396e+00, -7.9767e-01, -7.2714e-01,  1.6194e+00, -1.2107e-01,\n",
       "          7.7401e-02, -1.5837e+00,  8.3352e-01, -1.0974e+00, -1.5017e+00],\n",
       "        [-5.8037e-02,  3.8807e-01,  1.2137e+00,  1.1141e+00, -8.5743e-01,\n",
       "         -6.7689e-02, -8.3837e-01,  3.0145e-01, -6.0373e-01,  4.3904e-01,\n",
       "          1.8204e+00,  1.8690e+00, -2.0670e+00,  1.6298e-01,  7.3312e-01,\n",
       "         -4.3786e-01, -1.3780e+00,  2.9921e-01,  2.8189e-02, -6.1224e-01,\n",
       "         -7.7080e-01, -6.8159e-01,  1.7087e+00,  8.8717e-01,  3.5644e-01,\n",
       "          7.1614e-02, -1.7747e+00,  1.4944e-02,  1.6612e-01,  2.4286e-01],\n",
       "        [-2.7735e-01, -4.3670e-01,  5.4122e-01, -1.5351e-02, -2.1464e+00,\n",
       "         -2.4177e+00,  1.4032e+00, -1.0697e+00, -4.1233e-01, -5.3017e-01,\n",
       "          1.4787e+00,  2.0131e+00, -8.9746e-02, -7.2587e-01, -2.1337e-01,\n",
       "          1.1787e+00,  3.9705e-01, -9.5169e-01,  7.6439e-01,  1.1245e+00,\n",
       "          4.9255e-01, -7.0589e-01, -1.2600e+00,  8.4372e-01, -5.0331e-01,\n",
       "         -1.7350e+00,  6.3446e-01, -1.3121e+00, -8.5673e-01,  5.9001e-01],\n",
       "        [-9.5941e-01, -4.9877e-01,  7.9441e-01,  5.0771e-01,  1.9654e+00,\n",
       "          1.4493e+00,  8.4462e-01, -5.0510e-01, -4.3471e-01,  1.5423e-01,\n",
       "         -3.8272e-01,  5.2303e-01, -9.2285e-01, -7.0722e-01,  9.4028e-01,\n",
       "         -1.1100e+00, -5.9794e-01,  3.2358e-01,  1.0089e-01, -4.6063e-02,\n",
       "          6.4142e-01,  6.9968e-01,  1.0594e+00, -1.3551e-01, -1.0908e+00,\n",
       "         -9.7188e-02,  2.1580e-01,  4.7582e-01,  2.3323e-01,  4.7737e-01]],\n",
       "       device='cuda:0')"
      ]
     },
     "execution_count": 10,
     "metadata": {},
     "output_type": "execute_result"
    }
   ],
   "source": [
    "x.to(device='cuda:0') "
   ]
  },
  {
   "cell_type": "code",
   "execution_count": 11,
   "metadata": {},
   "outputs": [
    {
     "data": {
      "text/plain": [
       "device(type='cpu')"
      ]
     },
     "execution_count": 11,
     "metadata": {},
     "output_type": "execute_result"
    }
   ],
   "source": [
    "x.device"
   ]
  },
  {
   "cell_type": "code",
   "execution_count": 12,
   "metadata": {},
   "outputs": [],
   "source": [
    "torch.manual_seed(10)\n",
    "x = torch.empty((10, 5000)).uniform_(-4, 4)"
   ]
  },
  {
   "cell_type": "code",
   "execution_count": 13,
   "metadata": {},
   "outputs": [],
   "source": [
    "y = x.clone()"
   ]
  },
  {
   "cell_type": "code",
   "execution_count": 14,
   "metadata": {},
   "outputs": [
    {
     "data": {
      "text/plain": [
       "tensor([[-0.3695,  0.2178, -0.8544,  ..., -0.5767,  0.0687,  0.9357],\n",
       "        [ 0.7685, -1.7597, -0.5440,  ...,  0.0067, -0.1785, -0.2007],\n",
       "        [-1.3787,  1.0032,  1.5139,  ..., -0.0311, -0.7310, -0.7357],\n",
       "        ...,\n",
       "        [-0.6211,  1.6740,  1.3860,  ..., -0.3418, -0.1636, -0.1092],\n",
       "        [ 1.5157, -0.0277,  0.8166,  ...,  1.1793,  0.7833, -0.5789],\n",
       "        [-0.3016,  1.0526,  0.3381,  ..., -0.3096,  0.3056, -1.4316]])"
      ]
     },
     "execution_count": 14,
     "metadata": {},
     "output_type": "execute_result"
    }
   ],
   "source": [
    "torch.normal(0., 1., size=(10, 5000))"
   ]
  },
  {
   "cell_type": "code",
   "execution_count": 15,
   "metadata": {},
   "outputs": [
    {
     "data": {
      "text/plain": [
       "tensor([[ 0.3510,  1.1682,  1.3972,  ..., -0.5403, -1.8046,  1.1958],\n",
       "        [ 1.4531, -0.5814, -0.5592,  ..., -2.4647,  0.2427, -0.5404],\n",
       "        [ 0.0337,  0.9904, -0.9932,  ..., -2.0111, -0.2497,  1.1261],\n",
       "        ...,\n",
       "        [-0.3714,  1.3240, -0.1600,  ..., -1.9292,  1.6265,  0.3676],\n",
       "        [ 0.6357,  0.2587,  0.5304,  ..., -1.2510,  0.8620,  1.0873],\n",
       "        [ 0.4514, -0.1732,  0.4199,  ...,  0.6106,  1.2206, -1.0866]])"
      ]
     },
     "execution_count": 15,
     "metadata": {},
     "output_type": "execute_result"
    }
   ],
   "source": [
    "x.normal_(0, 1)"
   ]
  },
  {
   "cell_type": "code",
   "execution_count": 16,
   "metadata": {},
   "outputs": [
    {
     "data": {
      "text/plain": [
       "tensor([[ 0.3887, -0.0518, -0.6590,  ..., -0.3228,  0.7122, -1.4934],\n",
       "        [ 1.3387,  2.3876,  0.5639,  ...,  0.8801, -0.1235, -0.5796],\n",
       "        [ 1.4232, -0.8363,  0.4545,  ...,  0.4513, -0.0427, -0.6412],\n",
       "        ...,\n",
       "        [ 0.0268,  0.0838, -0.0644,  ...,  0.5830, -0.5323, -0.2533],\n",
       "        [ 0.1744,  0.6938, -0.6699,  ..., -0.5077, -0.0810,  0.5587],\n",
       "        [ 0.1309,  0.6458,  1.9199,  ...,  0.8345, -1.2508,  0.6531]])"
      ]
     },
     "execution_count": 16,
     "metadata": {},
     "output_type": "execute_result"
    }
   ],
   "source": [
    "x.normal_(0, 1)"
   ]
  },
  {
   "cell_type": "code",
   "execution_count": 17,
   "metadata": {},
   "outputs": [
    {
     "data": {
      "text/plain": [
       "tensor([[ 0.3887, -0.0518, -0.6590,  ..., -0.3228,  0.7122, -1.4934],\n",
       "        [ 1.3387,  2.3876,  0.5639,  ...,  0.8801, -0.1235, -0.5796],\n",
       "        [ 1.4232, -0.8363,  0.4545,  ...,  0.4513, -0.0427, -0.6412],\n",
       "        ...,\n",
       "        [ 0.0268,  0.0838, -0.0644,  ...,  0.5830, -0.5323, -0.2533],\n",
       "        [ 0.1744,  0.6938, -0.6699,  ..., -0.5077, -0.0810,  0.5587],\n",
       "        [ 0.1309,  0.6458,  1.9199,  ...,  0.8345, -1.2508,  0.6531]])"
      ]
     },
     "execution_count": 17,
     "metadata": {},
     "output_type": "execute_result"
    }
   ],
   "source": [
    "x"
   ]
  },
  {
   "cell_type": "code",
   "execution_count": 18,
   "metadata": {},
   "outputs": [
    {
     "data": {
      "text/plain": [
       "tensor([ 0.0124, -0.0021,  0.0146, -0.0086,  0.0119, -0.0051,  0.0012,  0.0191,\n",
       "         0.0050,  0.0265])"
      ]
     },
     "execution_count": 18,
     "metadata": {},
     "output_type": "execute_result"
    }
   ],
   "source": [
    "x.sum((-1)) / 5000"
   ]
  },
  {
   "cell_type": "code",
   "execution_count": 19,
   "metadata": {},
   "outputs": [
    {
     "data": {
      "text/plain": [
       "(tensor([[-0.3817, -0.1835, -1.5463,  ..., -2.1051, -1.2046,  3.5418],\n",
       "         [ 3.8134,  2.7599, -3.0942,  ..., -3.6861,  3.3261, -3.9601],\n",
       "         [-2.9215, -3.5598, -2.8361,  ..., -3.5278,  0.1972, -0.7693],\n",
       "         ...,\n",
       "         [-0.8184, -3.0790,  2.2531,  ..., -3.7783, -3.3329,  1.3009],\n",
       "         [ 3.3563,  1.7762,  0.0914,  ...,  0.9927,  1.0587, -1.5650],\n",
       "         [ 3.8360,  0.8514, -2.5571,  ...,  3.6733,  0.1638,  2.8013]]),\n",
       " tensor([[-0.3500, -0.1518, -1.5146,  ..., -2.0734, -1.1729,  3.5735],\n",
       "         [ 3.7703,  2.7168, -3.1373,  ..., -3.7292,  3.2830, -4.0032],\n",
       "         [-2.9363, -3.5746, -2.8509,  ..., -3.5426,  0.1824, -0.7841],\n",
       "         ...,\n",
       "         [-0.7874, -3.0481,  2.2840,  ..., -3.7473, -3.3019,  1.3318],\n",
       "         [ 3.3932,  1.8130,  0.1283,  ...,  1.0296,  1.0956, -1.5282],\n",
       "         [ 3.8346,  0.8500, -2.5585,  ...,  3.6719,  0.1623,  2.7999]]))"
      ]
     },
     "execution_count": 19,
     "metadata": {},
     "output_type": "execute_result"
    }
   ],
   "source": [
    "y - y.mean(axis=(1, ), keepdim=True), y -  y.sum() / 50000"
   ]
  },
  {
   "cell_type": "code",
   "execution_count": 20,
   "metadata": {},
   "outputs": [],
   "source": [
    "z = y.sum(axis=-1, keepdim=True) / 5000"
   ]
  },
  {
   "cell_type": "code",
   "execution_count": 21,
   "metadata": {},
   "outputs": [],
   "source": [
    "w = y - z"
   ]
  },
  {
   "cell_type": "code",
   "execution_count": 22,
   "metadata": {},
   "outputs": [
    {
     "data": {
      "text/plain": [
       "tensor([ 5.7602e-08, -7.6294e-08,  1.2207e-08,  2.1362e-08, -3.3569e-08,\n",
       "        -3.0518e-08, -5.2643e-08,  4.5776e-08,  4.5776e-08,  2.5177e-08])"
      ]
     },
     "execution_count": 22,
     "metadata": {},
     "output_type": "execute_result"
    }
   ],
   "source": [
    "w.mean(axis=(-1))"
   ]
  },
  {
   "cell_type": "code",
   "execution_count": 23,
   "metadata": {},
   "outputs": [
    {
     "data": {
      "text/plain": [
       "tensor([[ 1.6183,  1.8165,  0.4537,  ..., -0.1051,  0.7954,  5.5418],\n",
       "        [ 5.8134,  4.7599, -1.0942,  ..., -1.6861,  5.3261, -1.9601],\n",
       "        [-0.9215, -1.5598, -0.8361,  ..., -1.5278,  2.1972,  1.2307],\n",
       "        ...,\n",
       "        [ 1.1816, -1.0790,  4.2531,  ..., -1.7783, -1.3329,  3.3009],\n",
       "        [ 5.3563,  3.7762,  2.0914,  ...,  2.9927,  3.0587,  0.4350],\n",
       "        [ 5.8360,  2.8514, -0.5571,  ...,  5.6733,  2.1638,  4.8013]])"
      ]
     },
     "execution_count": 23,
     "metadata": {},
     "output_type": "execute_result"
    }
   ],
   "source": [
    "w + 2"
   ]
  },
  {
   "cell_type": "code",
   "execution_count": 24,
   "metadata": {},
   "outputs": [],
   "source": [
    "torch.manual_seed(10)\n",
    "x = torch.empty((10, 5, 10, 5000)).uniform_(-4, 4)"
   ]
  },
  {
   "cell_type": "code",
   "execution_count": 25,
   "metadata": {},
   "outputs": [
    {
     "data": {
      "text/plain": [
       "tensor([[ 0.0146,  0.0002, -0.0002, -0.0103,  0.0040],\n",
       "        [ 0.0043, -0.0058,  0.0041,  0.0007,  0.0131],\n",
       "        [-0.0122,  0.0037, -0.0264, -0.0108, -0.0075],\n",
       "        [ 0.0198, -0.0003, -0.0140,  0.0062, -0.0056],\n",
       "        [-0.0018,  0.0028,  0.0114, -0.0059, -0.0080],\n",
       "        [ 0.0002, -0.0061, -0.0109, -0.0079, -0.0001],\n",
       "        [ 0.0123, -0.0162,  0.0010,  0.0027, -0.0017],\n",
       "        [-0.0154, -0.0113, -0.0122,  0.0016, -0.0126],\n",
       "        [ 0.0298,  0.0111, -0.0063,  0.0095, -0.0102],\n",
       "        [-0.0012,  0.0038, -0.0087,  0.0119, -0.0023]])"
      ]
     },
     "execution_count": 25,
     "metadata": {},
     "output_type": "execute_result"
    }
   ],
   "source": [
    "x.mean(axis=(-1, -2))"
   ]
  },
  {
   "cell_type": "markdown",
   "metadata": {},
   "source": [
    "MLP"
   ]
  },
  {
   "cell_type": "code",
   "execution_count": 26,
   "metadata": {},
   "outputs": [],
   "source": [
    "net = nn.Linear(4, 10)"
   ]
  },
  {
   "cell_type": "code",
   "execution_count": 27,
   "metadata": {},
   "outputs": [],
   "source": [
    "x = torch.randn(2, 4)"
   ]
  },
  {
   "cell_type": "code",
   "execution_count": 28,
   "metadata": {},
   "outputs": [
    {
     "data": {
      "text/plain": [
       "torch.Size([2, 10])"
      ]
     },
     "execution_count": 28,
     "metadata": {},
     "output_type": "execute_result"
    }
   ],
   "source": [
    "y = net(x)\n",
    "y.shape"
   ]
  },
  {
   "cell_type": "code",
   "execution_count": 29,
   "metadata": {},
   "outputs": [
    {
     "data": {
      "text/plain": [
       "tensor([[-0.5986,  0.2001,  1.2537,  0.5834, -0.5716,  0.2312,  0.0540,  0.0463,\n",
       "         -0.3411,  0.3042],\n",
       "        [-0.4324,  0.1083, -0.6668, -0.4291, -0.7299, -0.0870, -1.0466,  0.3723,\n",
       "         -0.6390, -0.0645]], grad_fn=<AddmmBackward0>)"
      ]
     },
     "execution_count": 29,
     "metadata": {},
     "output_type": "execute_result"
    }
   ],
   "source": [
    "y"
   ]
  },
  {
   "cell_type": "code",
   "execution_count": 30,
   "metadata": {},
   "outputs": [
    {
     "data": {
      "text/plain": [
       "Parameter containing:\n",
       "tensor([[ 0.0322, -0.0182, -0.4234, -0.4418],\n",
       "        [ 0.4645, -0.0485,  0.1915,  0.4401],\n",
       "        [-0.2199,  0.2342, -0.1968,  0.4420],\n",
       "        [-0.3294, -0.1101, -0.0606,  0.2784],\n",
       "        [-0.4155,  0.4957, -0.1378, -0.4509],\n",
       "        [-0.2811,  0.3955, -0.3359, -0.4654],\n",
       "        [ 0.0860,  0.1035, -0.4661,  0.0312],\n",
       "        [ 0.4474,  0.0618,  0.0999,  0.1228],\n",
       "        [ 0.0265,  0.4594,  0.2514,  0.1779],\n",
       "        [ 0.1866,  0.4216,  0.1418,  0.1924]], requires_grad=True)"
      ]
     },
     "execution_count": 30,
     "metadata": {},
     "output_type": "execute_result"
    }
   ],
   "source": [
    "net.weight"
   ]
  },
  {
   "cell_type": "code",
   "execution_count": 31,
   "metadata": {},
   "outputs": [
    {
     "data": {
      "text/plain": [
       "torch.Size([10, 4])"
      ]
     },
     "execution_count": 31,
     "metadata": {},
     "output_type": "execute_result"
    }
   ],
   "source": [
    "net.weight.shape"
   ]
  },
  {
   "cell_type": "code",
   "execution_count": 32,
   "metadata": {},
   "outputs": [
    {
     "data": {
      "text/plain": [
       "tensor([[-0.5986,  0.2001,  1.2537,  0.5834, -0.5716,  0.2312,  0.0540,  0.0463,\n",
       "         -0.3411,  0.3042],\n",
       "        [-0.4324,  0.1083, -0.6668, -0.4291, -0.7299, -0.0870, -1.0466,  0.3723,\n",
       "         -0.6390, -0.0645]], grad_fn=<AddBackward0>)"
      ]
     },
     "execution_count": 32,
     "metadata": {},
     "output_type": "execute_result"
    }
   ],
   "source": [
    "torch.matmul(x, net.weight.T) + net.bias"
   ]
  },
  {
   "cell_type": "code",
   "execution_count": 33,
   "metadata": {},
   "outputs": [
    {
     "data": {
      "text/plain": [
       "tensor([[-0.5986,  0.2001,  1.2537,  0.5834, -0.5716,  0.2312,  0.0540,  0.0463,\n",
       "         -0.3411,  0.3042],\n",
       "        [-0.4324,  0.1083, -0.6668, -0.4291, -0.7299, -0.0870, -1.0466,  0.3723,\n",
       "         -0.6390, -0.0645]], grad_fn=<AddBackward0>)"
      ]
     },
     "execution_count": 33,
     "metadata": {},
     "output_type": "execute_result"
    }
   ],
   "source": [
    "torch.einsum('bj, ij -> bi', x, net.weight) + net.bias"
   ]
  },
  {
   "cell_type": "code",
   "execution_count": 34,
   "metadata": {},
   "outputs": [],
   "source": [
    "import torch.nn.functional as F"
   ]
  },
  {
   "cell_type": "code",
   "execution_count": 35,
   "metadata": {},
   "outputs": [
    {
     "data": {
      "text/plain": [
       "tensor([[-0.5986,  0.2001,  1.2537,  0.5834, -0.5716,  0.2312,  0.0540,  0.0463,\n",
       "         -0.3411,  0.3042],\n",
       "        [-0.4324,  0.1083, -0.6668, -0.4291, -0.7299, -0.0870, -1.0466,  0.3723,\n",
       "         -0.6390, -0.0645]], grad_fn=<AddmmBackward0>)"
      ]
     },
     "execution_count": 35,
     "metadata": {},
     "output_type": "execute_result"
    }
   ],
   "source": [
    "F.linear(x, net.weight, net.bias)"
   ]
  },
  {
   "cell_type": "code",
   "execution_count": 36,
   "metadata": {},
   "outputs": [],
   "source": [
    "torch.manual_seed(42)\n",
    "net = nn.Sequential()\n",
    "net.add_module('lin1', nn.Linear(32, 64))\n",
    "net.add_module('lin2', nn.Linear(64, 10))"
   ]
  },
  {
   "cell_type": "code",
   "execution_count": 37,
   "metadata": {},
   "outputs": [],
   "source": [
    "x = torch.randn((4, 32))"
   ]
  },
  {
   "cell_type": "code",
   "execution_count": 38,
   "metadata": {},
   "outputs": [
    {
     "data": {
      "text/plain": [
       "(tensor([-0.0630, -0.0022, -0.0127, -0.3661,  0.0866,  0.0741,  0.0963,  0.1773,\n",
       "         -0.0797,  0.3435], grad_fn=<SelectBackward0>),\n",
       " torch.Size([4, 10]))"
      ]
     },
     "execution_count": 38,
     "metadata": {},
     "output_type": "execute_result"
    }
   ],
   "source": [
    "y = net(x)\n",
    "y[0], y.shape\n"
   ]
  },
  {
   "cell_type": "code",
   "execution_count": 39,
   "metadata": {},
   "outputs": [
    {
     "data": {
      "text/plain": [
       "tensor([-0.0630, -0.0022, -0.0127, -0.3661,  0.0866,  0.0741,  0.0963,  0.1773,\n",
       "        -0.0797,  0.3435], grad_fn=<SelectBackward0>)"
      ]
     },
     "execution_count": 39,
     "metadata": {},
     "output_type": "execute_result"
    }
   ],
   "source": [
    "z = net.lin2(net.lin1(x))\n",
    "z[0]"
   ]
  },
  {
   "cell_type": "code",
   "execution_count": 40,
   "metadata": {},
   "outputs": [
    {
     "data": {
      "text/plain": [
       "odict_keys(['lin1.weight', 'lin1.bias', 'lin2.weight', 'lin2.bias'])"
      ]
     },
     "execution_count": 40,
     "metadata": {},
     "output_type": "execute_result"
    }
   ],
   "source": [
    "net.state_dict().keys()"
   ]
  },
  {
   "cell_type": "code",
   "execution_count": 41,
   "metadata": {},
   "outputs": [
    {
     "data": {
      "text/plain": [
       "torch.Size([20, 10, 4, 10])"
      ]
     },
     "execution_count": 41,
     "metadata": {},
     "output_type": "execute_result"
    }
   ],
   "source": [
    "x = torch.randn(20, 10, 4, 32)\n",
    "y = net(x)\n",
    "y.shape"
   ]
  },
  {
   "cell_type": "code",
   "execution_count": 43,
   "metadata": {},
   "outputs": [],
   "source": [
    "x = torch.empty((4, 5)).uniform_(-10, 10)"
   ]
  },
  {
   "cell_type": "code",
   "execution_count": 44,
   "metadata": {},
   "outputs": [
    {
     "data": {
      "text/plain": [
       "tensor([[ 9.6053,  6.1465, -3.9468, -6.8474,  6.5705],\n",
       "        [ 7.9896,  7.8190, -2.3512,  7.2122,  8.1273],\n",
       "        [ 7.9416,  9.6219, -9.1863,  9.3812,  7.5133],\n",
       "        [ 2.9351,  5.0090,  1.0653, -6.3083,  4.4218]])"
      ]
     },
     "execution_count": 44,
     "metadata": {},
     "output_type": "execute_result"
    }
   ],
   "source": [
    "x"
   ]
  },
  {
   "cell_type": "code",
   "execution_count": 47,
   "metadata": {},
   "outputs": [],
   "source": [
    "bn = nn.BatchNorm1d(x.shape[1])\n",
    "y = bn(x)"
   ]
  },
  {
   "cell_type": "code",
   "execution_count": 62,
   "metadata": {},
   "outputs": [
    {
     "data": {
      "text/plain": [
       "(Parameter containing:\n",
       " tensor([1., 1., 1., 1., 1.], requires_grad=True),\n",
       " Parameter containing:\n",
       " tensor([0., 0., 0., 0., 0.], requires_grad=True),\n",
       " torch.Size([5]),\n",
       " torch.Size([5]))"
      ]
     },
     "execution_count": 62,
     "metadata": {},
     "output_type": "execute_result"
    }
   ],
   "source": [
    "bn.weight, bn.bias, bn.weight.shape, bn.bias.size()"
   ]
  },
  {
   "cell_type": "code",
   "execution_count": 65,
   "metadata": {},
   "outputs": [
    {
     "data": {
      "text/plain": [
       "(tensor([[ 0.9926, -0.5753, -0.0925, -1.0304, -0.0625],\n",
       "         [ 0.3478,  0.3844,  0.3391,  0.8494,  1.0455],\n",
       "         [ 0.3287,  1.4189, -1.5100,  1.1394,  0.6085],\n",
       "         [-1.6691, -1.2280,  1.2634, -0.9584, -1.5915]],\n",
       "        grad_fn=<NativeBatchNormBackward0>),\n",
       " tensor([ 5.9605e-08,  5.9605e-08,  5.9605e-08, -1.4901e-08, -1.4901e-07],\n",
       "        grad_fn=<MeanBackward1>),\n",
       " tensor([1.1547, 1.1547, 1.1547, 1.1547, 1.1547], grad_fn=<StdBackward0>))"
      ]
     },
     "execution_count": 65,
     "metadata": {},
     "output_type": "execute_result"
    }
   ],
   "source": [
    "y, y.mean(dim=0), y.std(0)"
   ]
  },
  {
   "cell_type": "code",
   "execution_count": 67,
   "metadata": {},
   "outputs": [
    {
     "data": {
      "text/plain": [
       "tensor([ 7.1179,  7.1491, -3.6047,  0.8594,  6.6582])"
      ]
     },
     "execution_count": 67,
     "metadata": {},
     "output_type": "execute_result"
    }
   ],
   "source": [
    "x.mean(dim=0)"
   ]
  },
  {
   "cell_type": "code",
   "execution_count": 69,
   "metadata": {},
   "outputs": [
    {
     "data": {
      "text/plain": [
       "tensor([[ 0.8596, -0.4982, -0.0801, -0.8924, -0.0541],\n",
       "        [ 0.3012,  0.3329,  0.2937,  0.7356,  0.9054],\n",
       "        [ 0.2846,  1.2288, -1.3077,  0.9868,  0.5270],\n",
       "        [-1.4455, -1.0635,  1.0942, -0.8300, -1.3783]])"
      ]
     },
     "execution_count": 69,
     "metadata": {},
     "output_type": "execute_result"
    }
   ],
   "source": [
    "(x - x.mean(dim=0)) / (x.std(dim=0) + 1e-9)"
   ]
  },
  {
   "cell_type": "code",
   "execution_count": null,
   "metadata": {},
   "outputs": [],
   "source": []
  }
 ],
 "metadata": {
  "kernelspec": {
   "display_name": "env",
   "language": "python",
   "name": "python3"
  },
  "language_info": {
   "codemirror_mode": {
    "name": "ipython",
    "version": 3
   },
   "file_extension": ".py",
   "mimetype": "text/x-python",
   "name": "python",
   "nbconvert_exporter": "python",
   "pygments_lexer": "ipython3",
   "version": "3.9.10"
  },
  "orig_nbformat": 4,
  "vscode": {
   "interpreter": {
    "hash": "f7d1c444690c64dc164009c81e7c7e493213a917c1ee917acb226d895d2dc691"
   }
  }
 },
 "nbformat": 4,
 "nbformat_minor": 2
}
