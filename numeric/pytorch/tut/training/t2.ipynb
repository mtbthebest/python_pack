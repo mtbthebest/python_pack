{
 "cells": [
  {
   "cell_type": "code",
   "execution_count": 1,
   "metadata": {},
   "outputs": [],
   "source": [
    "import torch\n",
    "import numpy as np\n",
    "import array\n",
    "import math\n",
    "from torch import nn\n",
    "import torch.nn.functional as F\n"
   ]
  },
  {
   "cell_type": "code",
   "execution_count": 2,
   "metadata": {},
   "outputs": [
    {
     "data": {
      "text/plain": [
       "-2"
      ]
     },
     "execution_count": 2,
     "metadata": {},
     "output_type": "execute_result"
    }
   ],
   "source": [
    "math.ceil(-2.2)"
   ]
  },
  {
   "cell_type": "code",
   "execution_count": 3,
   "metadata": {},
   "outputs": [
    {
     "data": {
      "text/plain": [
       "tensor([[[0, 1, 2, 3, 4, 5, 6, 7, 8, 9]]])"
      ]
     },
     "execution_count": 3,
     "metadata": {},
     "output_type": "execute_result"
    }
   ],
   "source": [
    "torch.arange(10)[None, None, :]"
   ]
  },
  {
   "cell_type": "code",
   "execution_count": 4,
   "metadata": {},
   "outputs": [
    {
     "name": "stderr",
     "output_type": "stream",
     "text": [
      "/home/mtb/env/lib/python3.9/site-packages/torch/nn/modules/lazy.py:180: UserWarning: Lazy modules are a new feature under heavy development so changes to the API or functionality can happen at any moment.\n",
      "  warnings.warn('Lazy modules are a new feature under heavy development '\n"
     ]
    }
   ],
   "source": [
    "net = nn.LazyLinear(256)"
   ]
  },
  {
   "cell_type": "code",
   "execution_count": 5,
   "metadata": {},
   "outputs": [
    {
     "data": {
      "text/plain": [
       "torch.Size([0])"
      ]
     },
     "execution_count": 5,
     "metadata": {},
     "output_type": "execute_result"
    }
   ],
   "source": [
    "net.weight.size()"
   ]
  },
  {
   "cell_type": "code",
   "execution_count": 6,
   "metadata": {},
   "outputs": [],
   "source": [
    "x = torch.randn((10, 30))"
   ]
  },
  {
   "cell_type": "code",
   "execution_count": 7,
   "metadata": {},
   "outputs": [],
   "source": [
    "y = net(x)"
   ]
  },
  {
   "cell_type": "code",
   "execution_count": 8,
   "metadata": {},
   "outputs": [
    {
     "data": {
      "text/plain": [
       "torch.Size([10, 256])"
      ]
     },
     "execution_count": 8,
     "metadata": {},
     "output_type": "execute_result"
    }
   ],
   "source": [
    "y.shape"
   ]
  },
  {
   "cell_type": "code",
   "execution_count": 9,
   "metadata": {},
   "outputs": [
    {
     "data": {
      "text/plain": [
       "torch.Size([256, 30])"
      ]
     },
     "execution_count": 9,
     "metadata": {},
     "output_type": "execute_result"
    }
   ],
   "source": [
    "net.weight.shape"
   ]
  },
  {
   "cell_type": "code",
   "execution_count": 10,
   "metadata": {},
   "outputs": [
    {
     "data": {
      "text/plain": [
       "tensor([[-0.0711, -0.7287, -0.8962,  0.3501,  2.1428,  0.6574, -1.3410,  0.5911,\n",
       "          0.8452,  0.3379, -0.8423, -0.1479, -0.9323,  0.9383,  1.5864,  2.0727,\n",
       "          0.1437,  1.6896,  0.0109,  0.6179,  0.5501, -0.6179, -0.7571, -0.4760,\n",
       "         -2.3076,  1.1079,  0.3161, -0.2823,  0.3467, -1.8149],\n",
       "        [-0.2055, -1.1561, -0.4401,  0.3473,  2.9118,  0.4501,  0.2212,  0.2409,\n",
       "          1.1135, -0.8555, -1.7724, -1.9532,  1.1647,  0.7096, -1.3412,  0.7407,\n",
       "          1.1381, -0.4520,  0.9520,  1.1187,  0.4615, -0.6393,  0.2202,  1.6608,\n",
       "          1.1580,  0.5205, -2.2525, -0.7301,  0.4007,  1.9229],\n",
       "        [ 0.3897,  0.0173, -0.5648, -0.1991, -0.8437, -0.0175, -0.1718, -0.7723,\n",
       "          0.6423, -0.1824, -0.8979, -0.3881, -0.1498,  0.1611,  0.9230,  0.5203,\n",
       "          1.1053,  0.0172,  0.2584, -2.8764, -0.2554, -0.4132,  0.2866, -0.7340,\n",
       "         -1.7117, -1.2503, -0.7841,  1.0536,  1.6874,  1.3148],\n",
       "        [-0.1994,  1.1508,  0.1899,  0.1986,  1.2227, -0.8071,  1.1322, -0.8977,\n",
       "          0.7542,  1.1612, -0.0346, -0.7400, -0.0836, -1.9069, -1.8833, -0.5053,\n",
       "          1.2745,  0.6981,  0.1908, -0.3555, -0.3359,  0.4219,  1.3440, -1.0685,\n",
       "         -1.9548, -0.8538, -1.6329,  0.9441,  1.1432,  0.4382],\n",
       "        [-1.4247,  0.7483,  0.2084,  0.6659, -0.0887, -0.6324, -0.9677, -0.4053,\n",
       "          0.4722,  0.0307,  2.8473,  0.0318, -0.2891,  0.2794,  1.0674,  0.7134,\n",
       "          0.8639,  0.8029, -0.9916,  0.5748,  0.0738,  0.7752, -0.2977, -0.9207,\n",
       "         -1.3661,  0.2355, -2.1894,  0.8474, -1.4329, -1.4509],\n",
       "        [ 0.5610,  1.4047, -1.5419,  0.7597, -0.9256, -0.3205, -1.6161,  0.4979,\n",
       "          2.5821,  0.4262, -1.0281,  1.1046, -1.6303,  0.0750,  0.7897, -0.2120,\n",
       "          2.0551, -0.2628, -1.0043, -0.0368, -0.2318, -0.1887, -0.7872, -0.8113,\n",
       "          0.1840,  0.6700, -0.0366, -0.1006,  0.3886, -0.9247],\n",
       "        [-0.5243,  0.0543, -1.5412,  0.0607,  0.1416, -0.4358, -1.5898,  0.6709,\n",
       "         -0.4614,  0.8917, -0.2682, -0.3295,  0.0380,  0.7111,  0.8452,  0.0372,\n",
       "          0.0918, -0.3263,  0.0925, -0.4642, -0.6365,  0.6180,  1.0969, -0.2566,\n",
       "         -1.6178, -1.5169,  1.0521,  0.4164, -1.3389, -0.7385],\n",
       "        [-0.6305,  0.3601, -1.1897,  0.3162,  0.2154, -1.0419, -1.2902,  1.3039,\n",
       "         -0.2756,  0.8167,  0.2861, -1.8739, -0.1150,  0.0410,  1.5037, -1.0105,\n",
       "          0.5542,  1.1579,  0.4751, -0.7467, -0.9167, -0.2878, -0.4523, -1.2414,\n",
       "         -1.9865,  1.7126,  0.1899,  1.2331,  0.7256,  2.2196],\n",
       "        [-1.5706, -1.7071, -0.0754,  0.6077,  1.0459,  1.0610, -1.6051,  0.4450,\n",
       "         -0.0796,  0.3690,  2.1952,  2.2193, -0.1149,  1.8227,  0.7844, -1.5330,\n",
       "          0.3895, -0.4920,  0.5114,  0.7452,  0.3786, -0.8555,  0.6754,  0.1481,\n",
       "         -0.6420,  1.2634, -1.6134, -0.1880, -0.3228,  0.2606],\n",
       "        [ 0.7215,  0.2538, -0.2497, -0.1142,  0.7665, -0.2863,  0.7781,  1.2215,\n",
       "          0.3003, -0.5779,  0.3677, -0.2555, -0.4617,  1.1282,  1.0102,  0.4280,\n",
       "         -1.0803,  1.1045,  1.3027,  0.2231,  0.1897, -0.4545,  0.5637,  0.0145,\n",
       "          1.0640,  0.6240, -0.3160, -0.0977,  0.1662, -0.0205]],\n",
       "       device='cuda:0')"
      ]
     },
     "execution_count": 10,
     "metadata": {},
     "output_type": "execute_result"
    }
   ],
   "source": [
    "x.to(device='cuda:0') "
   ]
  },
  {
   "cell_type": "code",
   "execution_count": 11,
   "metadata": {},
   "outputs": [
    {
     "data": {
      "text/plain": [
       "device(type='cpu')"
      ]
     },
     "execution_count": 11,
     "metadata": {},
     "output_type": "execute_result"
    }
   ],
   "source": [
    "x.device"
   ]
  },
  {
   "cell_type": "code",
   "execution_count": 12,
   "metadata": {},
   "outputs": [],
   "source": [
    "torch.manual_seed(10)\n",
    "x = torch.empty((10, 5000)).uniform_(-4, 4)"
   ]
  },
  {
   "cell_type": "code",
   "execution_count": 13,
   "metadata": {},
   "outputs": [],
   "source": [
    "y = x.clone()"
   ]
  },
  {
   "cell_type": "code",
   "execution_count": 14,
   "metadata": {},
   "outputs": [
    {
     "data": {
      "text/plain": [
       "tensor([[-0.3695,  0.2178, -0.8544,  ..., -0.5767,  0.0687,  0.9357],\n",
       "        [ 0.7685, -1.7597, -0.5440,  ...,  0.0067, -0.1785, -0.2007],\n",
       "        [-1.3787,  1.0032,  1.5139,  ..., -0.0311, -0.7310, -0.7357],\n",
       "        ...,\n",
       "        [-0.6211,  1.6740,  1.3860,  ..., -0.3418, -0.1636, -0.1092],\n",
       "        [ 1.5157, -0.0277,  0.8166,  ...,  1.1793,  0.7833, -0.5789],\n",
       "        [-0.3016,  1.0526,  0.3381,  ..., -0.3096,  0.3056, -1.4316]])"
      ]
     },
     "execution_count": 14,
     "metadata": {},
     "output_type": "execute_result"
    }
   ],
   "source": [
    "torch.normal(0., 1., size=(10, 5000))"
   ]
  },
  {
   "cell_type": "code",
   "execution_count": 15,
   "metadata": {},
   "outputs": [
    {
     "data": {
      "text/plain": [
       "tensor([[ 0.3510,  1.1682,  1.3972,  ..., -0.5403, -1.8046,  1.1958],\n",
       "        [ 1.4531, -0.5814, -0.5592,  ..., -2.4647,  0.2427, -0.5404],\n",
       "        [ 0.0337,  0.9904, -0.9932,  ..., -2.0111, -0.2497,  1.1261],\n",
       "        ...,\n",
       "        [-0.3714,  1.3240, -0.1600,  ..., -1.9292,  1.6265,  0.3676],\n",
       "        [ 0.6357,  0.2587,  0.5304,  ..., -1.2510,  0.8620,  1.0873],\n",
       "        [ 0.4514, -0.1732,  0.4199,  ...,  0.6106,  1.2206, -1.0866]])"
      ]
     },
     "execution_count": 15,
     "metadata": {},
     "output_type": "execute_result"
    }
   ],
   "source": [
    "x.normal_(0, 1)"
   ]
  },
  {
   "cell_type": "code",
   "execution_count": 16,
   "metadata": {},
   "outputs": [
    {
     "data": {
      "text/plain": [
       "tensor([[ 0.3887, -0.0518, -0.6590,  ..., -0.3228,  0.7122, -1.4934],\n",
       "        [ 1.3387,  2.3876,  0.5639,  ...,  0.8801, -0.1235, -0.5796],\n",
       "        [ 1.4232, -0.8363,  0.4545,  ...,  0.4513, -0.0427, -0.6412],\n",
       "        ...,\n",
       "        [ 0.0268,  0.0838, -0.0644,  ...,  0.5830, -0.5323, -0.2533],\n",
       "        [ 0.1744,  0.6938, -0.6699,  ..., -0.5077, -0.0810,  0.5587],\n",
       "        [ 0.1309,  0.6458,  1.9199,  ...,  0.8345, -1.2508,  0.6531]])"
      ]
     },
     "execution_count": 16,
     "metadata": {},
     "output_type": "execute_result"
    }
   ],
   "source": [
    "x.normal_(0, 1)"
   ]
  },
  {
   "cell_type": "code",
   "execution_count": 17,
   "metadata": {},
   "outputs": [
    {
     "data": {
      "text/plain": [
       "tensor([[ 0.3887, -0.0518, -0.6590,  ..., -0.3228,  0.7122, -1.4934],\n",
       "        [ 1.3387,  2.3876,  0.5639,  ...,  0.8801, -0.1235, -0.5796],\n",
       "        [ 1.4232, -0.8363,  0.4545,  ...,  0.4513, -0.0427, -0.6412],\n",
       "        ...,\n",
       "        [ 0.0268,  0.0838, -0.0644,  ...,  0.5830, -0.5323, -0.2533],\n",
       "        [ 0.1744,  0.6938, -0.6699,  ..., -0.5077, -0.0810,  0.5587],\n",
       "        [ 0.1309,  0.6458,  1.9199,  ...,  0.8345, -1.2508,  0.6531]])"
      ]
     },
     "execution_count": 17,
     "metadata": {},
     "output_type": "execute_result"
    }
   ],
   "source": [
    "x"
   ]
  },
  {
   "cell_type": "code",
   "execution_count": 18,
   "metadata": {},
   "outputs": [
    {
     "data": {
      "text/plain": [
       "tensor([ 0.0124, -0.0021,  0.0146, -0.0086,  0.0119, -0.0051,  0.0012,  0.0191,\n",
       "         0.0050,  0.0265])"
      ]
     },
     "execution_count": 18,
     "metadata": {},
     "output_type": "execute_result"
    }
   ],
   "source": [
    "x.sum((-1)) / 5000"
   ]
  },
  {
   "cell_type": "code",
   "execution_count": 19,
   "metadata": {},
   "outputs": [
    {
     "data": {
      "text/plain": [
       "(tensor([[-0.3817, -0.1835, -1.5463,  ..., -2.1051, -1.2046,  3.5418],\n",
       "         [ 3.8134,  2.7599, -3.0942,  ..., -3.6861,  3.3261, -3.9601],\n",
       "         [-2.9215, -3.5598, -2.8361,  ..., -3.5278,  0.1972, -0.7693],\n",
       "         ...,\n",
       "         [-0.8184, -3.0790,  2.2531,  ..., -3.7783, -3.3329,  1.3009],\n",
       "         [ 3.3563,  1.7762,  0.0914,  ...,  0.9927,  1.0587, -1.5650],\n",
       "         [ 3.8360,  0.8514, -2.5571,  ...,  3.6733,  0.1638,  2.8013]]),\n",
       " tensor([[-0.3500, -0.1518, -1.5146,  ..., -2.0734, -1.1729,  3.5735],\n",
       "         [ 3.7703,  2.7168, -3.1373,  ..., -3.7292,  3.2830, -4.0032],\n",
       "         [-2.9363, -3.5746, -2.8509,  ..., -3.5426,  0.1824, -0.7841],\n",
       "         ...,\n",
       "         [-0.7874, -3.0481,  2.2840,  ..., -3.7473, -3.3019,  1.3318],\n",
       "         [ 3.3932,  1.8130,  0.1283,  ...,  1.0296,  1.0956, -1.5282],\n",
       "         [ 3.8346,  0.8500, -2.5585,  ...,  3.6719,  0.1623,  2.7999]]))"
      ]
     },
     "execution_count": 19,
     "metadata": {},
     "output_type": "execute_result"
    }
   ],
   "source": [
    "y - y.mean(axis=(1, ), keepdim=True), y -  y.sum() / 50000"
   ]
  },
  {
   "cell_type": "code",
   "execution_count": 20,
   "metadata": {},
   "outputs": [],
   "source": [
    "z = y.sum(axis=-1, keepdim=True) / 5000"
   ]
  },
  {
   "cell_type": "code",
   "execution_count": 21,
   "metadata": {},
   "outputs": [],
   "source": [
    "w = y - z"
   ]
  },
  {
   "cell_type": "code",
   "execution_count": 22,
   "metadata": {},
   "outputs": [
    {
     "data": {
      "text/plain": [
       "tensor([ 5.7602e-08, -7.6294e-08,  1.2207e-08,  2.1362e-08, -3.3569e-08,\n",
       "        -3.0518e-08, -5.2643e-08,  4.5776e-08,  4.5776e-08,  2.5177e-08])"
      ]
     },
     "execution_count": 22,
     "metadata": {},
     "output_type": "execute_result"
    }
   ],
   "source": [
    "w.mean(axis=(-1))"
   ]
  },
  {
   "cell_type": "code",
   "execution_count": 23,
   "metadata": {},
   "outputs": [
    {
     "data": {
      "text/plain": [
       "tensor([[ 1.6183,  1.8165,  0.4537,  ..., -0.1051,  0.7954,  5.5418],\n",
       "        [ 5.8134,  4.7599, -1.0942,  ..., -1.6861,  5.3261, -1.9601],\n",
       "        [-0.9215, -1.5598, -0.8361,  ..., -1.5278,  2.1972,  1.2307],\n",
       "        ...,\n",
       "        [ 1.1816, -1.0790,  4.2531,  ..., -1.7783, -1.3329,  3.3009],\n",
       "        [ 5.3563,  3.7762,  2.0914,  ...,  2.9927,  3.0587,  0.4350],\n",
       "        [ 5.8360,  2.8514, -0.5571,  ...,  5.6733,  2.1638,  4.8013]])"
      ]
     },
     "execution_count": 23,
     "metadata": {},
     "output_type": "execute_result"
    }
   ],
   "source": [
    "w + 2"
   ]
  },
  {
   "cell_type": "code",
   "execution_count": 24,
   "metadata": {},
   "outputs": [],
   "source": [
    "torch.manual_seed(10)\n",
    "x = torch.empty((10, 5, 10, 5000)).uniform_(-4, 4)"
   ]
  },
  {
   "cell_type": "code",
   "execution_count": 25,
   "metadata": {},
   "outputs": [
    {
     "data": {
      "text/plain": [
       "tensor([[ 0.0146,  0.0002, -0.0002, -0.0103,  0.0040],\n",
       "        [ 0.0043, -0.0058,  0.0041,  0.0007,  0.0131],\n",
       "        [-0.0122,  0.0037, -0.0264, -0.0108, -0.0075],\n",
       "        [ 0.0198, -0.0003, -0.0140,  0.0062, -0.0056],\n",
       "        [-0.0018,  0.0028,  0.0114, -0.0059, -0.0080],\n",
       "        [ 0.0002, -0.0061, -0.0109, -0.0079, -0.0001],\n",
       "        [ 0.0123, -0.0162,  0.0010,  0.0027, -0.0017],\n",
       "        [-0.0154, -0.0113, -0.0122,  0.0016, -0.0126],\n",
       "        [ 0.0298,  0.0111, -0.0063,  0.0095, -0.0102],\n",
       "        [-0.0012,  0.0038, -0.0087,  0.0119, -0.0023]])"
      ]
     },
     "execution_count": 25,
     "metadata": {},
     "output_type": "execute_result"
    }
   ],
   "source": [
    "x.mean(axis=(-1, -2))"
   ]
  },
  {
   "cell_type": "markdown",
   "metadata": {},
   "source": [
    "MLP"
   ]
  },
  {
   "cell_type": "code",
   "execution_count": 26,
   "metadata": {},
   "outputs": [],
   "source": [
    "net = nn.Linear(4, 10)"
   ]
  },
  {
   "cell_type": "code",
   "execution_count": 27,
   "metadata": {},
   "outputs": [],
   "source": [
    "x = torch.randn(2, 4)"
   ]
  },
  {
   "cell_type": "code",
   "execution_count": 28,
   "metadata": {},
   "outputs": [
    {
     "data": {
      "text/plain": [
       "torch.Size([2, 10])"
      ]
     },
     "execution_count": 28,
     "metadata": {},
     "output_type": "execute_result"
    }
   ],
   "source": [
    "y = net(x)\n",
    "y.shape"
   ]
  },
  {
   "cell_type": "code",
   "execution_count": 29,
   "metadata": {},
   "outputs": [
    {
     "data": {
      "text/plain": [
       "tensor([[-0.5986,  0.2001,  1.2537,  0.5834, -0.5716,  0.2312,  0.0540,  0.0463,\n",
       "         -0.3411,  0.3042],\n",
       "        [-0.4324,  0.1083, -0.6668, -0.4291, -0.7299, -0.0870, -1.0466,  0.3723,\n",
       "         -0.6390, -0.0645]], grad_fn=<AddmmBackward0>)"
      ]
     },
     "execution_count": 29,
     "metadata": {},
     "output_type": "execute_result"
    }
   ],
   "source": [
    "y"
   ]
  },
  {
   "cell_type": "code",
   "execution_count": 30,
   "metadata": {},
   "outputs": [
    {
     "data": {
      "text/plain": [
       "Parameter containing:\n",
       "tensor([[ 0.0322, -0.0182, -0.4234, -0.4418],\n",
       "        [ 0.4645, -0.0485,  0.1915,  0.4401],\n",
       "        [-0.2199,  0.2342, -0.1968,  0.4420],\n",
       "        [-0.3294, -0.1101, -0.0606,  0.2784],\n",
       "        [-0.4155,  0.4957, -0.1378, -0.4509],\n",
       "        [-0.2811,  0.3955, -0.3359, -0.4654],\n",
       "        [ 0.0860,  0.1035, -0.4661,  0.0312],\n",
       "        [ 0.4474,  0.0618,  0.0999,  0.1228],\n",
       "        [ 0.0265,  0.4594,  0.2514,  0.1779],\n",
       "        [ 0.1866,  0.4216,  0.1418,  0.1924]], requires_grad=True)"
      ]
     },
     "execution_count": 30,
     "metadata": {},
     "output_type": "execute_result"
    }
   ],
   "source": [
    "net.weight"
   ]
  },
  {
   "cell_type": "code",
   "execution_count": 31,
   "metadata": {},
   "outputs": [
    {
     "data": {
      "text/plain": [
       "torch.Size([10, 4])"
      ]
     },
     "execution_count": 31,
     "metadata": {},
     "output_type": "execute_result"
    }
   ],
   "source": [
    "net.weight.shape"
   ]
  },
  {
   "cell_type": "code",
   "execution_count": 32,
   "metadata": {},
   "outputs": [
    {
     "data": {
      "text/plain": [
       "tensor([[-0.5986,  0.2001,  1.2537,  0.5834, -0.5716,  0.2312,  0.0540,  0.0463,\n",
       "         -0.3411,  0.3042],\n",
       "        [-0.4324,  0.1083, -0.6668, -0.4291, -0.7299, -0.0870, -1.0466,  0.3723,\n",
       "         -0.6390, -0.0645]], grad_fn=<AddBackward0>)"
      ]
     },
     "execution_count": 32,
     "metadata": {},
     "output_type": "execute_result"
    }
   ],
   "source": [
    "torch.matmul(x, net.weight.T) + net.bias"
   ]
  },
  {
   "cell_type": "code",
   "execution_count": 33,
   "metadata": {},
   "outputs": [
    {
     "data": {
      "text/plain": [
       "tensor([[-0.5986,  0.2001,  1.2537,  0.5834, -0.5716,  0.2312,  0.0540,  0.0463,\n",
       "         -0.3411,  0.3042],\n",
       "        [-0.4324,  0.1083, -0.6668, -0.4291, -0.7299, -0.0870, -1.0466,  0.3723,\n",
       "         -0.6390, -0.0645]], grad_fn=<AddBackward0>)"
      ]
     },
     "execution_count": 33,
     "metadata": {},
     "output_type": "execute_result"
    }
   ],
   "source": [
    "torch.einsum('bj, ij -> bi', x, net.weight) + net.bias"
   ]
  },
  {
   "cell_type": "code",
   "execution_count": 34,
   "metadata": {},
   "outputs": [],
   "source": [
    "import torch.nn.functional as F"
   ]
  },
  {
   "cell_type": "code",
   "execution_count": 35,
   "metadata": {},
   "outputs": [
    {
     "data": {
      "text/plain": [
       "tensor([[-0.5986,  0.2001,  1.2537,  0.5834, -0.5716,  0.2312,  0.0540,  0.0463,\n",
       "         -0.3411,  0.3042],\n",
       "        [-0.4324,  0.1083, -0.6668, -0.4291, -0.7299, -0.0870, -1.0466,  0.3723,\n",
       "         -0.6390, -0.0645]], grad_fn=<AddmmBackward0>)"
      ]
     },
     "execution_count": 35,
     "metadata": {},
     "output_type": "execute_result"
    }
   ],
   "source": [
    "F.linear(x, net.weight, net.bias)"
   ]
  },
  {
   "cell_type": "code",
   "execution_count": 36,
   "metadata": {},
   "outputs": [],
   "source": [
    "torch.manual_seed(42)\n",
    "net = nn.Sequential()\n",
    "net.add_module('lin1', nn.Linear(32, 64))\n",
    "net.add_module('lin2', nn.Linear(64, 10))"
   ]
  },
  {
   "cell_type": "code",
   "execution_count": 37,
   "metadata": {},
   "outputs": [],
   "source": [
    "x = torch.randn((4, 32))"
   ]
  },
  {
   "cell_type": "code",
   "execution_count": 38,
   "metadata": {},
   "outputs": [
    {
     "data": {
      "text/plain": [
       "(tensor([-0.0630, -0.0022, -0.0127, -0.3661,  0.0866,  0.0741,  0.0963,  0.1773,\n",
       "         -0.0797,  0.3435], grad_fn=<SelectBackward0>),\n",
       " torch.Size([4, 10]))"
      ]
     },
     "execution_count": 38,
     "metadata": {},
     "output_type": "execute_result"
    }
   ],
   "source": [
    "y = net(x)\n",
    "y[0], y.shape\n"
   ]
  },
  {
   "cell_type": "code",
   "execution_count": 39,
   "metadata": {},
   "outputs": [
    {
     "data": {
      "text/plain": [
       "tensor([-0.0630, -0.0022, -0.0127, -0.3661,  0.0866,  0.0741,  0.0963,  0.1773,\n",
       "        -0.0797,  0.3435], grad_fn=<SelectBackward0>)"
      ]
     },
     "execution_count": 39,
     "metadata": {},
     "output_type": "execute_result"
    }
   ],
   "source": [
    "z = net.lin2(net.lin1(x))\n",
    "z[0]"
   ]
  },
  {
   "cell_type": "code",
   "execution_count": 40,
   "metadata": {},
   "outputs": [
    {
     "data": {
      "text/plain": [
       "odict_keys(['lin1.weight', 'lin1.bias', 'lin2.weight', 'lin2.bias'])"
      ]
     },
     "execution_count": 40,
     "metadata": {},
     "output_type": "execute_result"
    }
   ],
   "source": [
    "net.state_dict().keys()"
   ]
  },
  {
   "cell_type": "code",
   "execution_count": 41,
   "metadata": {},
   "outputs": [
    {
     "data": {
      "text/plain": [
       "torch.Size([20, 10, 4, 10])"
      ]
     },
     "execution_count": 41,
     "metadata": {},
     "output_type": "execute_result"
    }
   ],
   "source": [
    "x = torch.randn(20, 10, 4, 32)\n",
    "y = net(x)\n",
    "y.shape"
   ]
  },
  {
   "cell_type": "code",
   "execution_count": 42,
   "metadata": {},
   "outputs": [],
   "source": [
    "x = torch.empty((4, 5)).uniform_(-10, 10)"
   ]
  },
  {
   "cell_type": "code",
   "execution_count": 43,
   "metadata": {},
   "outputs": [
    {
     "data": {
      "text/plain": [
       "tensor([[ 9.6053,  6.1465, -3.9468, -6.8474,  6.5705],\n",
       "        [ 7.9896,  7.8190, -2.3512,  7.2122,  8.1273],\n",
       "        [ 7.9416,  9.6219, -9.1863,  9.3812,  7.5133],\n",
       "        [ 2.9351,  5.0090,  1.0653, -6.3083,  4.4218]])"
      ]
     },
     "execution_count": 43,
     "metadata": {},
     "output_type": "execute_result"
    }
   ],
   "source": [
    "x"
   ]
  },
  {
   "cell_type": "code",
   "execution_count": 44,
   "metadata": {},
   "outputs": [],
   "source": [
    "bn = nn.BatchNorm1d(x.shape[1])\n",
    "y = bn(x)"
   ]
  },
  {
   "cell_type": "code",
   "execution_count": 45,
   "metadata": {},
   "outputs": [
    {
     "data": {
      "text/plain": [
       "(Parameter containing:\n",
       " tensor([1., 1., 1., 1., 1.], requires_grad=True),\n",
       " Parameter containing:\n",
       " tensor([0., 0., 0., 0., 0.], requires_grad=True),\n",
       " torch.Size([5]),\n",
       " torch.Size([5]))"
      ]
     },
     "execution_count": 45,
     "metadata": {},
     "output_type": "execute_result"
    }
   ],
   "source": [
    "bn.weight, bn.bias, bn.weight.shape, bn.bias.size()"
   ]
  },
  {
   "cell_type": "code",
   "execution_count": 46,
   "metadata": {},
   "outputs": [
    {
     "data": {
      "text/plain": [
       "(tensor([[ 0.9926, -0.5753, -0.0925, -1.0304, -0.0625],\n",
       "         [ 0.3478,  0.3844,  0.3391,  0.8494,  1.0455],\n",
       "         [ 0.3287,  1.4189, -1.5100,  1.1394,  0.6085],\n",
       "         [-1.6691, -1.2280,  1.2634, -0.9584, -1.5915]],\n",
       "        grad_fn=<NativeBatchNormBackward0>),\n",
       " tensor([ 5.9605e-08,  5.9605e-08,  5.9605e-08, -1.4901e-08, -1.4901e-07],\n",
       "        grad_fn=<MeanBackward1>),\n",
       " tensor([1.1547, 1.1547, 1.1547, 1.1547, 1.1547], grad_fn=<StdBackward0>))"
      ]
     },
     "execution_count": 46,
     "metadata": {},
     "output_type": "execute_result"
    }
   ],
   "source": [
    "y, y.mean(dim=0), y.std(0)"
   ]
  },
  {
   "cell_type": "code",
   "execution_count": 47,
   "metadata": {},
   "outputs": [
    {
     "data": {
      "text/plain": [
       "tensor([ 7.1179,  7.1491, -3.6047,  0.8594,  6.6582])"
      ]
     },
     "execution_count": 47,
     "metadata": {},
     "output_type": "execute_result"
    }
   ],
   "source": [
    "x.mean(dim=0)"
   ]
  },
  {
   "cell_type": "code",
   "execution_count": 48,
   "metadata": {},
   "outputs": [
    {
     "data": {
      "text/plain": [
       "tensor([[ 0.8596, -0.4982, -0.0801, -0.8924, -0.0541],\n",
       "        [ 0.3012,  0.3329,  0.2937,  0.7356,  0.9054],\n",
       "        [ 0.2846,  1.2288, -1.3077,  0.9868,  0.5270],\n",
       "        [-1.4455, -1.0635,  1.0942, -0.8300, -1.3783]])"
      ]
     },
     "execution_count": 48,
     "metadata": {},
     "output_type": "execute_result"
    }
   ],
   "source": [
    "(x - x.mean(dim=0)) / (x.std(dim=0) + 1e-9)"
   ]
  },
  {
   "cell_type": "code",
   "execution_count": 49,
   "metadata": {},
   "outputs": [
    {
     "data": {
      "text/plain": [
       "tensor([[[3, 3, 3, 1],\n",
       "         [3, 1, 1, 3]],\n",
       "\n",
       "        [[0, 0, 2, 3],\n",
       "         [2, 3, 2, 1]],\n",
       "\n",
       "        [[3, 0, 3, 2],\n",
       "         [2, 2, 2, 2]]])"
      ]
     },
     "execution_count": 49,
     "metadata": {},
     "output_type": "execute_result"
    }
   ],
   "source": [
    "x = torch.randint(0, 4, (3, 2, 4))\n",
    "x"
   ]
  },
  {
   "cell_type": "code",
   "execution_count": 50,
   "metadata": {},
   "outputs": [
    {
     "data": {
      "text/plain": [
       "(torch.Size([3, 2, 4]),\n",
       " torch.Size([3, 2, 4, 6]),\n",
       " tensor([[[[0, 0, 0, 1, 0, 0],\n",
       "           [0, 0, 0, 1, 0, 0],\n",
       "           [0, 0, 0, 1, 0, 0],\n",
       "           [0, 1, 0, 0, 0, 0]],\n",
       " \n",
       "          [[0, 0, 0, 1, 0, 0],\n",
       "           [0, 1, 0, 0, 0, 0],\n",
       "           [0, 1, 0, 0, 0, 0],\n",
       "           [0, 0, 0, 1, 0, 0]]],\n",
       " \n",
       " \n",
       "         [[[1, 0, 0, 0, 0, 0],\n",
       "           [1, 0, 0, 0, 0, 0],\n",
       "           [0, 0, 1, 0, 0, 0],\n",
       "           [0, 0, 0, 1, 0, 0]],\n",
       " \n",
       "          [[0, 0, 1, 0, 0, 0],\n",
       "           [0, 0, 0, 1, 0, 0],\n",
       "           [0, 0, 1, 0, 0, 0],\n",
       "           [0, 1, 0, 0, 0, 0]]],\n",
       " \n",
       " \n",
       "         [[[0, 0, 0, 1, 0, 0],\n",
       "           [1, 0, 0, 0, 0, 0],\n",
       "           [0, 0, 0, 1, 0, 0],\n",
       "           [0, 0, 1, 0, 0, 0]],\n",
       " \n",
       "          [[0, 0, 1, 0, 0, 0],\n",
       "           [0, 0, 1, 0, 0, 0],\n",
       "           [0, 0, 1, 0, 0, 0],\n",
       "           [0, 0, 1, 0, 0, 0]]]]))"
      ]
     },
     "execution_count": 50,
     "metadata": {},
     "output_type": "execute_result"
    }
   ],
   "source": [
    "x.shape, F.one_hot(x, 6).shape, F.one_hot(x, 6)"
   ]
  },
  {
   "cell_type": "code",
   "execution_count": 51,
   "metadata": {},
   "outputs": [],
   "source": [
    "input = torch.normal(4, 10, size=(10, )).requires_grad_()"
   ]
  },
  {
   "cell_type": "code",
   "execution_count": 52,
   "metadata": {},
   "outputs": [
    {
     "data": {
      "text/plain": [
       "tensor([-10.9103,   5.8988,  -4.5014,   3.9894,  26.0803,   0.7348,  -1.2472,\n",
       "          4.5035,  -0.0993,   2.3917], requires_grad=True)"
      ]
     },
     "execution_count": 52,
     "metadata": {},
     "output_type": "execute_result"
    }
   ],
   "source": [
    "input"
   ]
  },
  {
   "cell_type": "code",
   "execution_count": 53,
   "metadata": {},
   "outputs": [
    {
     "data": {
      "text/plain": [
       "tensor([1., 0., 1., 1., 0., 0., 1., 1., 0., 0.], requires_grad=True)"
      ]
     },
     "execution_count": 53,
     "metadata": {},
     "output_type": "execute_result"
    }
   ],
   "source": [
    "target = torch.randint(0, 2, size=input.size(), dtype=torch.float).requires_grad_()\n",
    "target"
   ]
  },
  {
   "cell_type": "code",
   "execution_count": 54,
   "metadata": {},
   "outputs": [
    {
     "data": {
      "text/plain": [
       "tensor([1., 0., 1., 1., 0., 0., 1., 1., 0., 0.], requires_grad=True)"
      ]
     },
     "execution_count": 54,
     "metadata": {},
     "output_type": "execute_result"
    }
   ],
   "source": [
    "target"
   ]
  },
  {
   "cell_type": "code",
   "execution_count": 55,
   "metadata": {},
   "outputs": [
    {
     "data": {
      "text/plain": [
       "tensor(12.7104, grad_fn=<BinaryCrossEntropyBackward0>)"
      ]
     },
     "execution_count": 55,
     "metadata": {},
     "output_type": "execute_result"
    }
   ],
   "source": [
    "F.binary_cross_entropy(F.sigmoid(input), target, reduce=None)"
   ]
  },
  {
   "cell_type": "code",
   "execution_count": 56,
   "metadata": {},
   "outputs": [
    {
     "data": {
      "text/plain": [
       "tensor(inf, grad_fn=<NegBackward0>)"
      ]
     },
     "execution_count": 56,
     "metadata": {},
     "output_type": "execute_result"
    }
   ],
   "source": [
    "def binary_cross_entropy(input, target):\n",
    "    mu = nn.Sigmoid()(input)\n",
    "    \n",
    "    loss = target * torch.log(mu) + (1 - target) * torch.log( 1 - mu)\n",
    "    \n",
    "    return -loss.mean()\n",
    "    \n",
    "binary_cross_entropy(input, target)\n",
    "    "
   ]
  },
  {
   "cell_type": "code",
   "execution_count": 57,
   "metadata": {},
   "outputs": [],
   "source": [
    "target = torch.empty_like(target).uniform_(0, 1).requires_grad_()"
   ]
  },
  {
   "cell_type": "code",
   "execution_count": 58,
   "metadata": {},
   "outputs": [
    {
     "data": {
      "text/plain": [
       "tensor([0.4711, 0.7032, 0.9075, 0.0051, 0.0616, 0.8857, 0.4707, 0.7001, 0.8452,\n",
       "        0.8964], requires_grad=True)"
      ]
     },
     "execution_count": 58,
     "metadata": {},
     "output_type": "execute_result"
    }
   ],
   "source": [
    "target"
   ]
  },
  {
   "cell_type": "code",
   "execution_count": 59,
   "metadata": {},
   "outputs": [
    {
     "data": {
      "text/plain": [
       "tensor(11.2562, grad_fn=<BinaryCrossEntropyBackward0>)"
      ]
     },
     "execution_count": 59,
     "metadata": {},
     "output_type": "execute_result"
    }
   ],
   "source": [
    "F.binary_cross_entropy(F.sigmoid(input), target, reduce=None)"
   ]
  },
  {
   "cell_type": "code",
   "execution_count": 60,
   "metadata": {},
   "outputs": [
    {
     "data": {
      "text/plain": [
       "tensor(inf, grad_fn=<NegBackward0>)"
      ]
     },
     "execution_count": 60,
     "metadata": {},
     "output_type": "execute_result"
    }
   ],
   "source": [
    "binary_cross_entropy(input, target)"
   ]
  },
  {
   "cell_type": "code",
   "execution_count": 61,
   "metadata": {},
   "outputs": [
    {
     "data": {
      "text/plain": [
       "tensor([7.5556e+31, 2.1707e-18, 7.0976e+22, 2.1715e-18, 2.8828e+26, 1.9144e+28,\n",
       "        1.4580e-19, 1.1024e+24, 3.0979e+32, 6.1949e-04, 1.3470e+37, 3.4034e-18,\n",
       "        4.4656e+30, 1.5766e-19, 2.1707e-18, 3.0958e-18, 1.0310e-08, 5.1380e+31,\n",
       "        3.3132e-18, 5.1380e+31, 4.2964e+24, 1.7443e+28, 7.5556e+31, 2.8219e+26,\n",
       "        1.4580e-19])"
      ]
     },
     "execution_count": 61,
     "metadata": {},
     "output_type": "execute_result"
    }
   ],
   "source": [
    "torch.Tensor(25)"
   ]
  },
  {
   "attachments": {},
   "cell_type": "markdown",
   "metadata": {},
   "source": [
    "LSTM"
   ]
  },
  {
   "cell_type": "code",
   "execution_count": 62,
   "metadata": {},
   "outputs": [],
   "source": [
    "net = nn.LSTM(input_size=128, \n",
    "                hidden_size=256,\n",
    "                num_layers=1, \n",
    "                )"
   ]
  },
  {
   "cell_type": "code",
   "execution_count": 63,
   "metadata": {},
   "outputs": [],
   "source": [
    "inp = torch.randn((64, 32, 128))"
   ]
  },
  {
   "cell_type": "code",
   "execution_count": 64,
   "metadata": {},
   "outputs": [],
   "source": [
    "out, (hn, cn)= net(inp)"
   ]
  },
  {
   "cell_type": "code",
   "execution_count": 65,
   "metadata": {},
   "outputs": [
    {
     "data": {
      "text/plain": [
       "torch.Size([64, 32, 256])"
      ]
     },
     "execution_count": 65,
     "metadata": {},
     "output_type": "execute_result"
    }
   ],
   "source": [
    "out.shape"
   ]
  },
  {
   "cell_type": "code",
   "execution_count": 66,
   "metadata": {},
   "outputs": [
    {
     "data": {
      "text/plain": [
       "torch.Size([1, 32, 256])"
      ]
     },
     "execution_count": 66,
     "metadata": {},
     "output_type": "execute_result"
    }
   ],
   "source": [
    "hn.shape"
   ]
  },
  {
   "cell_type": "code",
   "execution_count": 67,
   "metadata": {},
   "outputs": [],
   "source": [
    "h0 = torch.randn((1, 32, 256))\n",
    "c0 = torch.zeros_like(h0)"
   ]
  },
  {
   "cell_type": "code",
   "execution_count": 68,
   "metadata": {},
   "outputs": [],
   "source": [
    "out, (hn, cn) = net(inp, (h0, c0))"
   ]
  },
  {
   "cell_type": "code",
   "execution_count": 69,
   "metadata": {},
   "outputs": [
    {
     "data": {
      "text/plain": [
       "torch.Size([1, 32, 256])"
      ]
     },
     "execution_count": 69,
     "metadata": {},
     "output_type": "execute_result"
    }
   ],
   "source": [
    "hn.shape"
   ]
  },
  {
   "cell_type": "code",
   "execution_count": 70,
   "metadata": {},
   "outputs": [],
   "source": [
    "net = nn.LSTM(input_size=128, \n",
    "                hidden_size=256,\n",
    "                num_layers=1, \n",
    "                proj_size=96\n",
    "                )"
   ]
  },
  {
   "cell_type": "code",
   "execution_count": 71,
   "metadata": {},
   "outputs": [
    {
     "name": "stderr",
     "output_type": "stream",
     "text": [
      "/home/mtb/env/lib/python3.9/site-packages/torch/nn/modules/rnn.py:812: UserWarning: LSTM with projections is not supported with oneDNN. Using default implementation. (Triggered internally at ../aten/src/ATen/native/RNN.cpp:1463.)\n",
      "  result = _VF.lstm(input, hx, self._flat_weights, self.bias, self.num_layers,\n"
     ]
    }
   ],
   "source": [
    "h0 = torch.randn((1, 32, 96))\n",
    "c0 = torch.randn((1, 32, 256))\n",
    "out, (hn, cn) = net(inp, (h0, c0))"
   ]
  },
  {
   "cell_type": "code",
   "execution_count": 72,
   "metadata": {},
   "outputs": [
    {
     "data": {
      "text/plain": [
       "torch.Size([64, 32, 96])"
      ]
     },
     "execution_count": 72,
     "metadata": {},
     "output_type": "execute_result"
    }
   ],
   "source": [
    "out.shape"
   ]
  },
  {
   "cell_type": "code",
   "execution_count": 73,
   "metadata": {},
   "outputs": [
    {
     "data": {
      "text/plain": [
       "torch.Size([1, 32, 96])"
      ]
     },
     "execution_count": 73,
     "metadata": {},
     "output_type": "execute_result"
    }
   ],
   "source": [
    "hn.shape"
   ]
  },
  {
   "cell_type": "code",
   "execution_count": 74,
   "metadata": {},
   "outputs": [
    {
     "data": {
      "text/plain": [
       "torch.Size([1, 32, 256])"
      ]
     },
     "execution_count": 74,
     "metadata": {},
     "output_type": "execute_result"
    }
   ],
   "source": [
    "cn.shape"
   ]
  },
  {
   "cell_type": "code",
   "execution_count": 75,
   "metadata": {},
   "outputs": [],
   "source": [
    "net = nn.LSTM(input_size=128, \n",
    "                hidden_size=256,\n",
    "                num_layers=1, \n",
    "                bidirectional=True\n",
    "                )"
   ]
  },
  {
   "cell_type": "code",
   "execution_count": 76,
   "metadata": {},
   "outputs": [],
   "source": [
    "out, (hn, cn) = net(inp)"
   ]
  },
  {
   "cell_type": "code",
   "execution_count": 77,
   "metadata": {},
   "outputs": [
    {
     "data": {
      "text/plain": [
       "torch.Size([64, 32, 512])"
      ]
     },
     "execution_count": 77,
     "metadata": {},
     "output_type": "execute_result"
    }
   ],
   "source": [
    "out.shape"
   ]
  },
  {
   "cell_type": "code",
   "execution_count": 78,
   "metadata": {},
   "outputs": [
    {
     "data": {
      "text/plain": [
       "torch.Size([2, 32, 256])"
      ]
     },
     "execution_count": 78,
     "metadata": {},
     "output_type": "execute_result"
    }
   ],
   "source": [
    "hn.shape"
   ]
  },
  {
   "cell_type": "code",
   "execution_count": 79,
   "metadata": {},
   "outputs": [
    {
     "data": {
      "text/plain": [
       "torch.Size([2, 32, 256])"
      ]
     },
     "execution_count": 79,
     "metadata": {},
     "output_type": "execute_result"
    }
   ],
   "source": [
    "cn.shape"
   ]
  },
  {
   "cell_type": "code",
   "execution_count": 80,
   "metadata": {},
   "outputs": [],
   "source": [
    "net = nn.LSTM(input_size=128, \n",
    "                hidden_size=256,\n",
    "                num_layers=4, \n",
    "                bidirectional=True\n",
    "                )"
   ]
  },
  {
   "cell_type": "code",
   "execution_count": 81,
   "metadata": {},
   "outputs": [],
   "source": [
    "out, (hn, cn) = net(inp)"
   ]
  },
  {
   "cell_type": "code",
   "execution_count": 82,
   "metadata": {},
   "outputs": [
    {
     "data": {
      "text/plain": [
       "torch.Size([64, 32, 512])"
      ]
     },
     "execution_count": 82,
     "metadata": {},
     "output_type": "execute_result"
    }
   ],
   "source": [
    "out.shape"
   ]
  },
  {
   "cell_type": "code",
   "execution_count": 83,
   "metadata": {},
   "outputs": [
    {
     "data": {
      "text/plain": [
       "torch.Size([8, 32, 256])"
      ]
     },
     "execution_count": 83,
     "metadata": {},
     "output_type": "execute_result"
    }
   ],
   "source": [
    "hn.shape"
   ]
  },
  {
   "cell_type": "code",
   "execution_count": 84,
   "metadata": {},
   "outputs": [
    {
     "data": {
      "text/plain": [
       "torch.Size([8, 32, 256])"
      ]
     },
     "execution_count": 84,
     "metadata": {},
     "output_type": "execute_result"
    }
   ],
   "source": [
    "cn.shape"
   ]
  },
  {
   "cell_type": "code",
   "execution_count": 85,
   "metadata": {},
   "outputs": [],
   "source": [
    "x = torch.arange(0, 100)"
   ]
  },
  {
   "cell_type": "code",
   "execution_count": 86,
   "metadata": {},
   "outputs": [
    {
     "data": {
      "text/plain": [
       "tensor([ 0,  1,  2,  3,  4,  5,  6,  7,  8,  9, 10, 11, 12, 13, 14, 15, 16, 17,\n",
       "        18, 19, 20, 21, 22, 23, 24, 25, 26, 27, 28, 29, 30, 31, 32, 33, 34, 35,\n",
       "        36, 37, 38, 39, 40, 41, 42, 43, 44, 45, 46, 47, 48, 49, 50, 51, 52, 53,\n",
       "        54, 55, 56, 57, 58, 59, 60, 61, 62, 63, 64, 65, 66, 67, 68, 69, 70, 71,\n",
       "        72, 73, 74, 75, 76, 77, 78, 79, 80, 81, 82, 83, 84, 85, 86, 87, 88, 89,\n",
       "        90, 91, 92, 93, 94, 95, 96, 97, 98, 99])"
      ]
     },
     "execution_count": 86,
     "metadata": {},
     "output_type": "execute_result"
    }
   ],
   "source": [
    "x"
   ]
  },
  {
   "cell_type": "code",
   "execution_count": 87,
   "metadata": {},
   "outputs": [],
   "source": [
    "y = x.view(2, 50)"
   ]
  },
  {
   "cell_type": "code",
   "execution_count": 88,
   "metadata": {},
   "outputs": [
    {
     "data": {
      "text/plain": [
       "(tensor([  1,   2,   3,   4,   5,   6,   7,   8,   9,  10,  11,  12,  13,  14,\n",
       "          15,  16,  17,  18,  19,  20,  21,  22,  23,  24,  25,  26,  27,  28,\n",
       "          29,  30,  31,  32,  33,  34,  35,  36,  37,  38,  39,  40,  41,  42,\n",
       "          43,  44,  45,  46,  47,  48,  49,  50,  51,  52,  53,  54,  55,  56,\n",
       "          57,  58,  59,  60,  61,  62,  63,  64,  65,  66,  67,  68,  69,  70,\n",
       "          71,  72,  73,  74,  75,  76,  77,  78,  79,  80,  81,  82,  83,  84,\n",
       "          85,  86,  87,  88,  89,  90,  91,  92,  93,  94,  95,  96,  97,  98,\n",
       "          99, 100]),\n",
       " tensor([[  1,   2,   3,   4,   5,   6,   7,   8,   9,  10,  11,  12,  13,  14,\n",
       "           15,  16,  17,  18,  19,  20,  21,  22,  23,  24,  25,  26,  27,  28,\n",
       "           29,  30,  31,  32,  33,  34,  35,  36,  37,  38,  39,  40,  41,  42,\n",
       "           43,  44,  45,  46,  47,  48,  49,  50],\n",
       "         [ 51,  52,  53,  54,  55,  56,  57,  58,  59,  60,  61,  62,  63,  64,\n",
       "           65,  66,  67,  68,  69,  70,  71,  72,  73,  74,  75,  76,  77,  78,\n",
       "           79,  80,  81,  82,  83,  84,  85,  86,  87,  88,  89,  90,  91,  92,\n",
       "           93,  94,  95,  96,  97,  98,  99, 100]]))"
      ]
     },
     "execution_count": 88,
     "metadata": {},
     "output_type": "execute_result"
    }
   ],
   "source": [
    "y+= 1\n",
    "x, y"
   ]
  },
  {
   "cell_type": "code",
   "execution_count": 89,
   "metadata": {},
   "outputs": [],
   "source": [
    "y = x.view(20, 5)"
   ]
  },
  {
   "cell_type": "code",
   "execution_count": 90,
   "metadata": {},
   "outputs": [
    {
     "data": {
      "text/plain": [
       "tensor([[  1,   2,   3,   4,   5],\n",
       "        [  6,   7,   8,   9,  10],\n",
       "        [ 11,  12,  13,  14,  15],\n",
       "        [ 16,  17,  18,  19,  20],\n",
       "        [ 21,  22,  23,  24,  25],\n",
       "        [ 26,  27,  28,  29,  30],\n",
       "        [ 31,  32,  33,  34,  35],\n",
       "        [ 36,  37,  38,  39,  40],\n",
       "        [ 41,  42,  43,  44,  45],\n",
       "        [ 46,  47,  48,  49,  50],\n",
       "        [ 51,  52,  53,  54,  55],\n",
       "        [ 56,  57,  58,  59,  60],\n",
       "        [ 61,  62,  63,  64,  65],\n",
       "        [ 66,  67,  68,  69,  70],\n",
       "        [ 71,  72,  73,  74,  75],\n",
       "        [ 76,  77,  78,  79,  80],\n",
       "        [ 81,  82,  83,  84,  85],\n",
       "        [ 86,  87,  88,  89,  90],\n",
       "        [ 91,  92,  93,  94,  95],\n",
       "        [ 96,  97,  98,  99, 100]])"
      ]
     },
     "execution_count": 90,
     "metadata": {},
     "output_type": "execute_result"
    }
   ],
   "source": [
    "y"
   ]
  },
  {
   "cell_type": "code",
   "execution_count": 91,
   "metadata": {},
   "outputs": [
    {
     "data": {
      "text/plain": [
       "tensor([[[  1,   2,   3,   4,   5],\n",
       "         [  6,   7,   8,   9,  10],\n",
       "         [ 11,  12,  13,  14,  15],\n",
       "         [ 16,  17,  18,  19,  20],\n",
       "         [ 21,  22,  23,  24,  25]],\n",
       "\n",
       "        [[ 26,  27,  28,  29,  30],\n",
       "         [ 31,  32,  33,  34,  35],\n",
       "         [ 36,  37,  38,  39,  40],\n",
       "         [ 41,  42,  43,  44,  45],\n",
       "         [ 46,  47,  48,  49,  50]],\n",
       "\n",
       "        [[ 51,  52,  53,  54,  55],\n",
       "         [ 56,  57,  58,  59,  60],\n",
       "         [ 61,  62,  63,  64,  65],\n",
       "         [ 66,  67,  68,  69,  70],\n",
       "         [ 71,  72,  73,  74,  75]],\n",
       "\n",
       "        [[ 76,  77,  78,  79,  80],\n",
       "         [ 81,  82,  83,  84,  85],\n",
       "         [ 86,  87,  88,  89,  90],\n",
       "         [ 91,  92,  93,  94,  95],\n",
       "         [ 96,  97,  98,  99, 100]]])"
      ]
     },
     "execution_count": 91,
     "metadata": {},
     "output_type": "execute_result"
    }
   ],
   "source": [
    "y.view(4, 5, -1)"
   ]
  },
  {
   "cell_type": "code",
   "execution_count": 92,
   "metadata": {},
   "outputs": [
    {
     "data": {
      "text/plain": [
       "torch.Size([1024, 128])"
      ]
     },
     "execution_count": 92,
     "metadata": {},
     "output_type": "execute_result"
    }
   ],
   "source": [
    "net.weight_ih_l0.shape"
   ]
  },
  {
   "cell_type": "code",
   "execution_count": 93,
   "metadata": {},
   "outputs": [],
   "source": [
    "emb_net = nn.Embedding(1000, 128, padding_idx=0)"
   ]
  },
  {
   "cell_type": "code",
   "execution_count": 94,
   "metadata": {},
   "outputs": [],
   "source": [
    "x = torch.randint(0, 1000, size=(64, 20))"
   ]
  },
  {
   "cell_type": "code",
   "execution_count": 95,
   "metadata": {},
   "outputs": [
    {
     "data": {
      "text/plain": [
       "torch.Size([64, 20])"
      ]
     },
     "execution_count": 95,
     "metadata": {},
     "output_type": "execute_result"
    }
   ],
   "source": [
    "x.shape"
   ]
  },
  {
   "cell_type": "code",
   "execution_count": 96,
   "metadata": {},
   "outputs": [],
   "source": [
    "emb = emb_net(x)"
   ]
  },
  {
   "cell_type": "code",
   "execution_count": 97,
   "metadata": {},
   "outputs": [
    {
     "data": {
      "text/plain": [
       "torch.Size([64, 20, 128])"
      ]
     },
     "execution_count": 97,
     "metadata": {},
     "output_type": "execute_result"
    }
   ],
   "source": [
    "emb.shape"
   ]
  },
  {
   "cell_type": "code",
   "execution_count": 98,
   "metadata": {},
   "outputs": [
    {
     "data": {
      "text/plain": [
       "tensor([-9.0001e-01, -4.5618e-01, -3.3796e-01,  5.4977e-02,  2.1113e+00,\n",
       "        -1.2687e+00,  2.2862e+00,  2.0994e+00,  1.1920e-01,  1.9923e-01,\n",
       "         9.4172e-01, -1.7726e-01,  1.1779e+00,  1.1366e+00, -1.1261e+00,\n",
       "        -1.3342e+00,  8.5693e-01, -1.9372e+00,  1.7511e+00,  1.1171e+00,\n",
       "         1.0702e+00,  3.2450e-04,  1.1027e+00,  6.2287e-02, -1.1783e-01,\n",
       "        -6.0368e-01, -5.4402e-01,  6.4613e-01,  1.1293e+00,  1.0740e+00,\n",
       "         1.0198e+00,  4.9398e-01,  2.8837e-01,  7.4511e-01, -9.0288e-01,\n",
       "        -8.9145e-02,  5.0449e-01,  2.2546e+00, -5.8698e-01,  6.1598e-02,\n",
       "         7.3877e-01, -2.3824e-01, -3.3074e-01,  1.3412e+00,  5.6607e-02,\n",
       "         7.2386e-01, -1.0868e+00,  3.5732e-01,  2.0704e+00, -2.2176e-01,\n",
       "        -6.3954e-01, -1.1623e+00, -7.9249e-01, -1.5707e+00,  5.0808e-01,\n",
       "         1.7823e-01,  4.4992e-01,  2.2511e-01,  1.0701e+00, -1.1095e+00,\n",
       "         2.1271e-01, -5.1025e-01,  5.1649e-01,  9.7876e-01,  4.2928e-02,\n",
       "        -3.4780e-01, -4.9096e-01,  9.8162e-01,  8.6362e-01, -5.8475e-01,\n",
       "        -3.2616e-01, -3.8286e-02,  1.7550e-01, -1.0179e+00,  7.2550e-01,\n",
       "         1.1855e-01,  1.0779e-01,  8.1955e-01, -5.3300e-01,  6.8588e-01,\n",
       "        -4.4239e-01, -1.4110e+00,  1.1984e-01,  2.2388e-01,  3.4301e-01,\n",
       "        -1.0977e+00,  6.2391e-01, -3.1400e-01, -1.3998e+00, -7.4145e-01,\n",
       "         1.1912e-01, -8.7096e-02, -1.1957e+00, -2.1299e+00, -2.0019e+00,\n",
       "         5.8400e-01, -4.5507e-01, -1.1448e+00, -2.3241e-01,  2.6495e-01,\n",
       "        -4.7463e-01,  5.5368e-01, -3.2993e-01, -1.5286e-01, -8.8135e-01,\n",
       "         1.6724e+00,  8.5673e-01, -2.4184e-01,  1.2727e-01, -1.1808e+00,\n",
       "         2.1562e-01,  1.7423e-01,  8.5779e-01,  1.7494e+00, -1.5705e-01,\n",
       "        -2.0473e+00, -1.0001e+00,  9.8806e-02,  8.4366e-01, -2.0698e+00,\n",
       "         6.2498e-01,  1.0849e+00,  1.6052e+00, -8.5887e-02, -6.4546e-01,\n",
       "         3.9385e-01, -4.5622e-01, -1.2998e+00], grad_fn=<SelectBackward0>)"
      ]
     },
     "execution_count": 98,
     "metadata": {},
     "output_type": "execute_result"
    }
   ],
   "source": [
    "emb[0][0]"
   ]
  },
  {
   "cell_type": "code",
   "execution_count": 99,
   "metadata": {},
   "outputs": [],
   "source": [
    "x = torch.randn((10, ))"
   ]
  },
  {
   "cell_type": "code",
   "execution_count": 100,
   "metadata": {},
   "outputs": [
    {
     "data": {
      "text/plain": [
       "tensor([-0.2459, -0.5377,  0.2185,  0.9448, -0.2103,  0.7507,  1.4196, -0.7844,\n",
       "        -0.0427, -0.8096])"
      ]
     },
     "execution_count": 100,
     "metadata": {},
     "output_type": "execute_result"
    }
   ],
   "source": [
    "x"
   ]
  },
  {
   "cell_type": "code",
   "execution_count": 101,
   "metadata": {},
   "outputs": [],
   "source": [
    "dropout = nn.Dropout(p=0.2)"
   ]
  },
  {
   "cell_type": "code",
   "execution_count": 102,
   "metadata": {},
   "outputs": [],
   "source": [
    "y = dropout(x)"
   ]
  },
  {
   "cell_type": "code",
   "execution_count": 103,
   "metadata": {},
   "outputs": [
    {
     "data": {
      "text/plain": [
       "tensor([-0.0000, -0.6722,  0.0000,  1.1810, -0.2629,  0.9384,  1.7746, -0.9805,\n",
       "        -0.0534, -1.0119])"
      ]
     },
     "execution_count": 103,
     "metadata": {},
     "output_type": "execute_result"
    }
   ],
   "source": [
    "y"
   ]
  },
  {
   "cell_type": "code",
   "execution_count": 104,
   "metadata": {},
   "outputs": [
    {
     "data": {
      "text/plain": [
       "tensor([-0.2459, -0.5377,  0.2185,  0.9448, -0.2103,  0.7507,  1.4196, -0.7844,\n",
       "        -0.0427, -0.8096])"
      ]
     },
     "execution_count": 104,
     "metadata": {},
     "output_type": "execute_result"
    }
   ],
   "source": [
    "x"
   ]
  },
  {
   "cell_type": "code",
   "execution_count": 105,
   "metadata": {},
   "outputs": [
    {
     "data": {
      "text/plain": [
       "tensor([   inf, 0.8000,    inf, 0.8000, 0.8000, 0.8000, 0.8000, 0.8000, 0.8000,\n",
       "        0.8000])"
      ]
     },
     "execution_count": 105,
     "metadata": {},
     "output_type": "execute_result"
    }
   ],
   "source": [
    "x / y"
   ]
  },
  {
   "cell_type": "code",
   "execution_count": 106,
   "metadata": {},
   "outputs": [
    {
     "data": {
      "text/plain": [
       "tensor([-0.0000, -0.5377,  0.0000,  0.9448, -0.2103,  0.7507,  1.4196, -0.7844,\n",
       "        -0.0427, -0.8096])"
      ]
     },
     "execution_count": 106,
     "metadata": {},
     "output_type": "execute_result"
    }
   ],
   "source": [
    "y * 0.8"
   ]
  },
  {
   "attachments": {},
   "cell_type": "markdown",
   "metadata": {},
   "source": [
    "Pack padding"
   ]
  },
  {
   "cell_type": "code",
   "execution_count": 107,
   "metadata": {},
   "outputs": [],
   "source": [
    "seqs = ['Long_str', 'tiny', 'medium']"
   ]
  },
  {
   "cell_type": "code",
   "execution_count": 108,
   "metadata": {},
   "outputs": [],
   "source": [
    "vocab = ['<pad>'] + sorted(set(c for s in seqs for c in s))"
   ]
  },
  {
   "cell_type": "code",
   "execution_count": 109,
   "metadata": {},
   "outputs": [
    {
     "data": {
      "text/plain": [
       "['<pad>', 'L', '_', 'd', 'e', 'g', 'i', 'm', 'n', 'o', 'r', 's', 't', 'u', 'y']"
      ]
     },
     "execution_count": 109,
     "metadata": {},
     "output_type": "execute_result"
    }
   ],
   "source": [
    "vocab"
   ]
  },
  {
   "cell_type": "code",
   "execution_count": 110,
   "metadata": {},
   "outputs": [],
   "source": [
    "tok_dict = {c: i for i, c in enumerate(vocab)}"
   ]
  },
  {
   "cell_type": "code",
   "execution_count": 111,
   "metadata": {},
   "outputs": [
    {
     "data": {
      "text/plain": [
       "{'<pad>': 0,\n",
       " 'L': 1,\n",
       " '_': 2,\n",
       " 'd': 3,\n",
       " 'e': 4,\n",
       " 'g': 5,\n",
       " 'i': 6,\n",
       " 'm': 7,\n",
       " 'n': 8,\n",
       " 'o': 9,\n",
       " 'r': 10,\n",
       " 's': 11,\n",
       " 't': 12,\n",
       " 'u': 13,\n",
       " 'y': 14}"
      ]
     },
     "execution_count": 111,
     "metadata": {},
     "output_type": "execute_result"
    }
   ],
   "source": [
    "tok_dict"
   ]
  },
  {
   "cell_type": "code",
   "execution_count": 112,
   "metadata": {},
   "outputs": [],
   "source": [
    "tensor_seqs = [[tok_dict[c] for c in seq] for seq in seqs ]"
   ]
  },
  {
   "cell_type": "code",
   "execution_count": 113,
   "metadata": {},
   "outputs": [
    {
     "data": {
      "text/plain": [
       "[[1, 9, 8, 5, 2, 11, 12, 10], [12, 6, 8, 14], [7, 4, 3, 6, 13, 7]]"
      ]
     },
     "execution_count": 113,
     "metadata": {},
     "output_type": "execute_result"
    }
   ],
   "source": [
    "tensor_seqs"
   ]
  },
  {
   "cell_type": "code",
   "execution_count": 114,
   "metadata": {},
   "outputs": [],
   "source": [
    "lengths = [len(s) for s in seqs]"
   ]
  },
  {
   "cell_type": "code",
   "execution_count": 115,
   "metadata": {},
   "outputs": [
    {
     "data": {
      "text/plain": [
       "[8, 4, 6]"
      ]
     },
     "execution_count": 115,
     "metadata": {},
     "output_type": "execute_result"
    }
   ],
   "source": [
    "lengths"
   ]
  },
  {
   "cell_type": "code",
   "execution_count": 116,
   "metadata": {},
   "outputs": [],
   "source": [
    "seq_tensor = torch.full((len(seqs), max(lengths)),  0)"
   ]
  },
  {
   "cell_type": "code",
   "execution_count": 117,
   "metadata": {},
   "outputs": [],
   "source": [
    "for i, s in enumerate(tensor_seqs):\n",
    "    seq_tensor[i, :lengths[i]].copy_(torch.tensor(s))"
   ]
  },
  {
   "cell_type": "code",
   "execution_count": 118,
   "metadata": {},
   "outputs": [
    {
     "data": {
      "text/plain": [
       "tensor([[ 1,  9,  8,  5,  2, 11, 12, 10],\n",
       "        [12,  6,  8, 14,  0,  0,  0,  0],\n",
       "        [ 7,  4,  3,  6, 13,  7,  0,  0]])"
      ]
     },
     "execution_count": 118,
     "metadata": {},
     "output_type": "execute_result"
    }
   ],
   "source": [
    "seq_tensor"
   ]
  },
  {
   "cell_type": "code",
   "execution_count": 119,
   "metadata": {},
   "outputs": [
    {
     "data": {
      "text/plain": [
       "torch.Size([3, 8])"
      ]
     },
     "execution_count": 119,
     "metadata": {},
     "output_type": "execute_result"
    }
   ],
   "source": [
    "seq_tensor.shape"
   ]
  },
  {
   "cell_type": "code",
   "execution_count": 120,
   "metadata": {},
   "outputs": [],
   "source": [
    "seq_tensor = seq_tensor[[0, 2, 1]]"
   ]
  },
  {
   "cell_type": "code",
   "execution_count": 121,
   "metadata": {},
   "outputs": [
    {
     "data": {
      "text/plain": [
       "tensor([[ 1,  9,  8,  5,  2, 11, 12, 10],\n",
       "        [ 7,  4,  3,  6, 13,  7,  0,  0],\n",
       "        [12,  6,  8, 14,  0,  0,  0,  0]])"
      ]
     },
     "execution_count": 121,
     "metadata": {},
     "output_type": "execute_result"
    }
   ],
   "source": [
    "seq_tensor"
   ]
  },
  {
   "cell_type": "code",
   "execution_count": 122,
   "metadata": {},
   "outputs": [],
   "source": [
    "emb_net = nn.Embedding(len(vocab), 4, padding_idx=0)"
   ]
  },
  {
   "cell_type": "code",
   "execution_count": 123,
   "metadata": {},
   "outputs": [],
   "source": [
    "emb = emb_net(seq_tensor)"
   ]
  },
  {
   "cell_type": "code",
   "execution_count": 124,
   "metadata": {},
   "outputs": [
    {
     "data": {
      "text/plain": [
       "torch.Size([3, 8, 4])"
      ]
     },
     "execution_count": 124,
     "metadata": {},
     "output_type": "execute_result"
    }
   ],
   "source": [
    "emb.shape"
   ]
  },
  {
   "cell_type": "code",
   "execution_count": 125,
   "metadata": {},
   "outputs": [],
   "source": [
    "lstm = nn.LSTM(4, 5, batch_first=True)"
   ]
  },
  {
   "cell_type": "code",
   "execution_count": 126,
   "metadata": {},
   "outputs": [
    {
     "data": {
      "text/plain": [
       "tensor([[[ 0.3671,  1.3340,  0.8594, -0.3965],\n",
       "         [ 1.0585, -1.7917,  1.2432, -0.4402],\n",
       "         [-0.6276,  0.2203,  0.0834,  0.0284],\n",
       "         [-1.3854,  0.5379, -0.2663, -0.4320],\n",
       "         [-2.2702, -0.1355, -0.2149,  0.1521],\n",
       "         [ 1.0618,  1.0721,  0.7986,  0.1014],\n",
       "         [ 0.1155,  0.7137,  0.3804, -2.0123],\n",
       "         [-1.1377, -1.4786,  0.9397, -0.7802]],\n",
       "\n",
       "        [[-1.2943,  0.5872, -1.7636,  0.6925],\n",
       "         [ 1.7885,  1.1710,  0.5277, -0.0941],\n",
       "         [-1.3338, -1.9147, -0.6878,  0.2971],\n",
       "         [-0.4266, -0.8293, -0.5631,  2.1739],\n",
       "         [ 0.4974, -0.5883,  0.2990, -0.4474],\n",
       "         [-1.2943,  0.5872, -1.7636,  0.6925],\n",
       "         [ 0.0000,  0.0000,  0.0000,  0.0000],\n",
       "         [ 0.0000,  0.0000,  0.0000,  0.0000]],\n",
       "\n",
       "        [[ 0.1155,  0.7137,  0.3804, -2.0123],\n",
       "         [-0.4266, -0.8293, -0.5631,  2.1739],\n",
       "         [-0.6276,  0.2203,  0.0834,  0.0284],\n",
       "         [ 0.7318,  0.0792,  0.5259,  0.2827],\n",
       "         [ 0.0000,  0.0000,  0.0000,  0.0000],\n",
       "         [ 0.0000,  0.0000,  0.0000,  0.0000],\n",
       "         [ 0.0000,  0.0000,  0.0000,  0.0000],\n",
       "         [ 0.0000,  0.0000,  0.0000,  0.0000]]], grad_fn=<EmbeddingBackward0>)"
      ]
     },
     "execution_count": 126,
     "metadata": {},
     "output_type": "execute_result"
    }
   ],
   "source": [
    "emb"
   ]
  },
  {
   "cell_type": "code",
   "execution_count": 127,
   "metadata": {},
   "outputs": [],
   "source": [
    "seq_lengths = torch.tensor([lengths[0], lengths[2], lengths[1]])"
   ]
  },
  {
   "cell_type": "code",
   "execution_count": 128,
   "metadata": {},
   "outputs": [
    {
     "data": {
      "text/plain": [
       "tensor([8, 6, 4])"
      ]
     },
     "execution_count": 128,
     "metadata": {},
     "output_type": "execute_result"
    }
   ],
   "source": [
    "seq_lengths"
   ]
  },
  {
   "cell_type": "code",
   "execution_count": 129,
   "metadata": {},
   "outputs": [
    {
     "data": {
      "text/plain": [
       "(tensor([[[ 0.3671,  1.3340,  0.8594, -0.3965],\n",
       "          [ 1.0585, -1.7917,  1.2432, -0.4402],\n",
       "          [-0.6276,  0.2203,  0.0834,  0.0284],\n",
       "          [-1.3854,  0.5379, -0.2663, -0.4320],\n",
       "          [-2.2702, -0.1355, -0.2149,  0.1521],\n",
       "          [ 1.0618,  1.0721,  0.7986,  0.1014],\n",
       "          [ 0.1155,  0.7137,  0.3804, -2.0123],\n",
       "          [-1.1377, -1.4786,  0.9397, -0.7802]],\n",
       " \n",
       "         [[-1.2943,  0.5872, -1.7636,  0.6925],\n",
       "          [ 1.7885,  1.1710,  0.5277, -0.0941],\n",
       "          [-1.3338, -1.9147, -0.6878,  0.2971],\n",
       "          [-0.4266, -0.8293, -0.5631,  2.1739],\n",
       "          [ 0.4974, -0.5883,  0.2990, -0.4474],\n",
       "          [-1.2943,  0.5872, -1.7636,  0.6925],\n",
       "          [ 0.0000,  0.0000,  0.0000,  0.0000],\n",
       "          [ 0.0000,  0.0000,  0.0000,  0.0000]],\n",
       " \n",
       "         [[ 0.1155,  0.7137,  0.3804, -2.0123],\n",
       "          [-0.4266, -0.8293, -0.5631,  2.1739],\n",
       "          [-0.6276,  0.2203,  0.0834,  0.0284],\n",
       "          [ 0.7318,  0.0792,  0.5259,  0.2827],\n",
       "          [ 0.0000,  0.0000,  0.0000,  0.0000],\n",
       "          [ 0.0000,  0.0000,  0.0000,  0.0000],\n",
       "          [ 0.0000,  0.0000,  0.0000,  0.0000],\n",
       "          [ 0.0000,  0.0000,  0.0000,  0.0000]]], grad_fn=<EmbeddingBackward0>),\n",
       " torch.Size([3, 8, 4]))"
      ]
     },
     "execution_count": 129,
     "metadata": {},
     "output_type": "execute_result"
    }
   ],
   "source": [
    "emb, emb.shape"
   ]
  },
  {
   "cell_type": "code",
   "execution_count": 130,
   "metadata": {},
   "outputs": [],
   "source": [
    "pack = nn.utils.rnn.pack_padded_sequence(emb, seq_lengths, batch_first=True)"
   ]
  },
  {
   "cell_type": "code",
   "execution_count": 131,
   "metadata": {},
   "outputs": [
    {
     "data": {
      "text/plain": [
       "PackedSequence(data=tensor([[ 0.3671,  1.3340,  0.8594, -0.3965],\n",
       "        [-1.2943,  0.5872, -1.7636,  0.6925],\n",
       "        [ 0.1155,  0.7137,  0.3804, -2.0123],\n",
       "        [ 1.0585, -1.7917,  1.2432, -0.4402],\n",
       "        [ 1.7885,  1.1710,  0.5277, -0.0941],\n",
       "        [-0.4266, -0.8293, -0.5631,  2.1739],\n",
       "        [-0.6276,  0.2203,  0.0834,  0.0284],\n",
       "        [-1.3338, -1.9147, -0.6878,  0.2971],\n",
       "        [-0.6276,  0.2203,  0.0834,  0.0284],\n",
       "        [-1.3854,  0.5379, -0.2663, -0.4320],\n",
       "        [-0.4266, -0.8293, -0.5631,  2.1739],\n",
       "        [ 0.7318,  0.0792,  0.5259,  0.2827],\n",
       "        [-2.2702, -0.1355, -0.2149,  0.1521],\n",
       "        [ 0.4974, -0.5883,  0.2990, -0.4474],\n",
       "        [ 1.0618,  1.0721,  0.7986,  0.1014],\n",
       "        [-1.2943,  0.5872, -1.7636,  0.6925],\n",
       "        [ 0.1155,  0.7137,  0.3804, -2.0123],\n",
       "        [-1.1377, -1.4786,  0.9397, -0.7802]],\n",
       "       grad_fn=<PackPaddedSequenceBackward0>), batch_sizes=tensor([3, 3, 3, 3, 2, 2, 1, 1]), sorted_indices=None, unsorted_indices=None)"
      ]
     },
     "execution_count": 131,
     "metadata": {},
     "output_type": "execute_result"
    }
   ],
   "source": [
    "pack"
   ]
  },
  {
   "cell_type": "code",
   "execution_count": 132,
   "metadata": {},
   "outputs": [],
   "source": [
    "pack_out, (hn, cn) = lstm(pack)"
   ]
  },
  {
   "cell_type": "code",
   "execution_count": 133,
   "metadata": {},
   "outputs": [
    {
     "data": {
      "text/plain": [
       "PackedSequence(data=tensor([[-0.0479,  0.1212,  0.1360, -0.0552, -0.0867],\n",
       "        [-0.2239, -0.0018, -0.0403,  0.0916,  0.0348],\n",
       "        [-0.0582,  0.0309,  0.1993, -0.0363, -0.1940],\n",
       "        [ 0.0527,  0.3471,  0.1746, -0.0436,  0.1176],\n",
       "        [-0.1283,  0.1882,  0.1621, -0.1178,  0.0758],\n",
       "        [ 0.1396,  0.1737,  0.0049,  0.2628,  0.0236],\n",
       "        [ 0.0521,  0.1669,  0.1245,  0.0671,  0.0438],\n",
       "        [ 0.0601,  0.0435,  0.0103,  0.0845,  0.1172],\n",
       "        [ 0.0191,  0.0935,  0.0060,  0.1596, -0.0057],\n",
       "        [-0.0837,  0.0347,  0.0886,  0.0900, -0.0941],\n",
       "        [ 0.1646,  0.1336, -0.0343,  0.3357,  0.2339],\n",
       "        [ 0.0511,  0.2284,  0.0769,  0.1150,  0.0718],\n",
       "        [-0.1049, -0.0510,  0.0171,  0.1851, -0.0958],\n",
       "        [ 0.0759,  0.1482, -0.0040,  0.2034,  0.2706],\n",
       "        [-0.0709,  0.1320,  0.1601,  0.0020, -0.1178],\n",
       "        [-0.1885,  0.0074, -0.0555,  0.1314,  0.2051],\n",
       "        [-0.1011,  0.1170,  0.3258, -0.0443, -0.2554],\n",
       "        [ 0.0254,  0.0929,  0.1277,  0.0225, -0.1082]], grad_fn=<CatBackward0>), batch_sizes=tensor([3, 3, 3, 3, 2, 2, 1, 1]), sorted_indices=None, unsorted_indices=None)"
      ]
     },
     "execution_count": 133,
     "metadata": {},
     "output_type": "execute_result"
    }
   ],
   "source": [
    "pack_out"
   ]
  },
  {
   "cell_type": "code",
   "execution_count": 134,
   "metadata": {},
   "outputs": [
    {
     "data": {
      "text/plain": [
       "(tensor([[[ 0.0254,  0.0929,  0.1277,  0.0225, -0.1082],\n",
       "          [-0.1885,  0.0074, -0.0555,  0.1314,  0.2051],\n",
       "          [ 0.0511,  0.2284,  0.0769,  0.1150,  0.0718]]],\n",
       "        grad_fn=<StackBackward0>),\n",
       " torch.Size([1, 3, 5]))"
      ]
     },
     "execution_count": 134,
     "metadata": {},
     "output_type": "execute_result"
    }
   ],
   "source": [
    "hn, hn.shape"
   ]
  },
  {
   "cell_type": "code",
   "execution_count": 135,
   "metadata": {},
   "outputs": [
    {
     "data": {
      "text/plain": [
       "(tensor([[[ 0.0780,  0.1852,  0.2993,  0.0389, -0.3620],\n",
       "          [-0.2909,  0.0284, -0.1417,  0.5317,  0.3060],\n",
       "          [ 0.1402,  0.4977,  0.1136,  0.2195,  0.1058]]],\n",
       "        grad_fn=<StackBackward0>),\n",
       " torch.Size([1, 3, 5]))"
      ]
     },
     "execution_count": 135,
     "metadata": {},
     "output_type": "execute_result"
    }
   ],
   "source": [
    "cn, cn.shape"
   ]
  },
  {
   "cell_type": "code",
   "execution_count": 136,
   "metadata": {},
   "outputs": [],
   "source": [
    "out = nn.utils.rnn.pad_packed_sequence(pack_out, batch_first=True)"
   ]
  },
  {
   "cell_type": "code",
   "execution_count": 137,
   "metadata": {},
   "outputs": [
    {
     "data": {
      "text/plain": [
       "(tensor([[[-0.0479,  0.1212,  0.1360, -0.0552, -0.0867],\n",
       "          [ 0.0527,  0.3471,  0.1746, -0.0436,  0.1176],\n",
       "          [ 0.0521,  0.1669,  0.1245,  0.0671,  0.0438],\n",
       "          [-0.0837,  0.0347,  0.0886,  0.0900, -0.0941],\n",
       "          [-0.1049, -0.0510,  0.0171,  0.1851, -0.0958],\n",
       "          [-0.0709,  0.1320,  0.1601,  0.0020, -0.1178],\n",
       "          [-0.1011,  0.1170,  0.3258, -0.0443, -0.2554],\n",
       "          [ 0.0254,  0.0929,  0.1277,  0.0225, -0.1082]],\n",
       " \n",
       "         [[-0.2239, -0.0018, -0.0403,  0.0916,  0.0348],\n",
       "          [-0.1283,  0.1882,  0.1621, -0.1178,  0.0758],\n",
       "          [ 0.0601,  0.0435,  0.0103,  0.0845,  0.1172],\n",
       "          [ 0.1646,  0.1336, -0.0343,  0.3357,  0.2339],\n",
       "          [ 0.0759,  0.1482, -0.0040,  0.2034,  0.2706],\n",
       "          [-0.1885,  0.0074, -0.0555,  0.1314,  0.2051],\n",
       "          [ 0.0000,  0.0000,  0.0000,  0.0000,  0.0000],\n",
       "          [ 0.0000,  0.0000,  0.0000,  0.0000,  0.0000]],\n",
       " \n",
       "         [[-0.0582,  0.0309,  0.1993, -0.0363, -0.1940],\n",
       "          [ 0.1396,  0.1737,  0.0049,  0.2628,  0.0236],\n",
       "          [ 0.0191,  0.0935,  0.0060,  0.1596, -0.0057],\n",
       "          [ 0.0511,  0.2284,  0.0769,  0.1150,  0.0718],\n",
       "          [ 0.0000,  0.0000,  0.0000,  0.0000,  0.0000],\n",
       "          [ 0.0000,  0.0000,  0.0000,  0.0000,  0.0000],\n",
       "          [ 0.0000,  0.0000,  0.0000,  0.0000,  0.0000],\n",
       "          [ 0.0000,  0.0000,  0.0000,  0.0000,  0.0000]]],\n",
       "        grad_fn=<TransposeBackward0>),\n",
       " tensor([8, 6, 4]))"
      ]
     },
     "execution_count": 137,
     "metadata": {},
     "output_type": "execute_result"
    }
   ],
   "source": [
    "out"
   ]
  },
  {
   "cell_type": "code",
   "execution_count": 138,
   "metadata": {},
   "outputs": [
    {
     "data": {
      "text/plain": [
       "torch.Size([3, 8, 5])"
      ]
     },
     "execution_count": 138,
     "metadata": {},
     "output_type": "execute_result"
    }
   ],
   "source": [
    "out[0].shape"
   ]
  },
  {
   "cell_type": "code",
   "execution_count": 139,
   "metadata": {},
   "outputs": [
    {
     "data": {
      "text/plain": [
       "torch.Size([3, 8, 4])"
      ]
     },
     "execution_count": 139,
     "metadata": {},
     "output_type": "execute_result"
    }
   ],
   "source": [
    "emb.shape"
   ]
  },
  {
   "cell_type": "code",
   "execution_count": 140,
   "metadata": {},
   "outputs": [
    {
     "data": {
      "text/plain": [
       "tensor([[[-1.5460, -2.5042,  0.4786,  0.8921,  1.4133,  0.7514,  2.1048,\n",
       "          -0.0121,  2.6287, -3.4389],\n",
       "         [-0.4235,  0.0000,  1.4360,  0.6238,  0.0000,  0.0000,  1.2670,\n",
       "           2.7964, -0.6498,  0.4897],\n",
       "         [-0.9694, -0.2152,  0.3140, -0.3766,  0.0000,  1.1677, -0.9263,\n",
       "           0.0385, -1.9612,  0.2844],\n",
       "         [-0.3100,  1.5022,  0.5568, -0.7406, -0.0820, -1.3247,  0.1136,\n",
       "           1.3514,  0.7137,  0.5456],\n",
       "         [ 0.3754, -0.7686,  0.0527,  0.3326, -0.5875,  0.0000, -1.5427,\n",
       "           1.2762, -0.2588,  0.6040]],\n",
       "\n",
       "        [[ 1.6713, -0.1814, -0.1206, -0.0000,  1.7031,  1.2326, -0.8841,\n",
       "           0.3153, -0.5282, -2.3104],\n",
       "         [-1.4563,  1.5149, -0.7979,  1.0994, -1.4102,  0.4619,  0.1596,\n",
       "           0.8654,  1.3375,  0.0607],\n",
       "         [ 1.4168,  0.3127,  0.3840, -0.3514,  0.3749,  0.4348,  1.9042,\n",
       "           0.6755, -1.8836,  0.9926],\n",
       "         [-0.8742,  1.3405,  0.6788,  0.5404,  1.0181,  2.5527, -0.4064,\n",
       "          -0.0000,  2.8675,  0.5209],\n",
       "         [ 0.0000,  0.3145, -0.9145,  0.7358, -0.0000,  1.0096, -0.7242,\n",
       "          -1.7239,  0.0611,  0.2169]]])"
      ]
     },
     "execution_count": 140,
     "metadata": {},
     "output_type": "execute_result"
    }
   ],
   "source": [
    "nn.Dropout(p=0.1)(torch.randn(2, 5, 10))"
   ]
  },
  {
   "cell_type": "code",
   "execution_count": 141,
   "metadata": {},
   "outputs": [
    {
     "data": {
      "text/plain": [
       "Parameter containing:\n",
       "tensor([[-0.0333,  0.1173, -0.0640,  0.0197,  0.0359],\n",
       "        [-0.3169, -0.4083,  0.3587,  0.3638,  0.0152],\n",
       "        [ 0.3171, -0.0092, -0.0725, -0.3896,  0.0393],\n",
       "        [-0.0629,  0.0823,  0.3987, -0.3283, -0.1105],\n",
       "        [ 0.3074, -0.3461, -0.4293, -0.2412, -0.1811],\n",
       "        [ 0.1837, -0.3388,  0.0512,  0.2533, -0.4404],\n",
       "        [-0.1301,  0.2809,  0.2151,  0.3206,  0.2904],\n",
       "        [-0.0255, -0.4137,  0.1480, -0.2196,  0.1552],\n",
       "        [ 0.2892, -0.0090,  0.0429, -0.3924, -0.2510],\n",
       "        [-0.3423,  0.2023,  0.0337,  0.2497,  0.1350],\n",
       "        [ 0.4103,  0.3104,  0.2279, -0.3925,  0.1034],\n",
       "        [-0.0767, -0.0106,  0.0750, -0.3789, -0.3944],\n",
       "        [-0.4202,  0.3310,  0.0324, -0.2236, -0.3058],\n",
       "        [ 0.3241, -0.2345,  0.0772,  0.0695,  0.4145],\n",
       "        [-0.3109, -0.4248, -0.2422,  0.2540, -0.0280],\n",
       "        [-0.3810,  0.4236, -0.1972, -0.1865, -0.0556],\n",
       "        [-0.0341,  0.4008,  0.2638, -0.2003,  0.0666],\n",
       "        [-0.4169,  0.1741, -0.4416,  0.0811, -0.0734],\n",
       "        [-0.2715, -0.1549,  0.3251, -0.1380,  0.3148],\n",
       "        [ 0.3530,  0.3771,  0.2422,  0.4266,  0.3653]], requires_grad=True)"
      ]
     },
     "execution_count": 141,
     "metadata": {},
     "output_type": "execute_result"
    }
   ],
   "source": [
    "lstm.weight_hh_l0"
   ]
  },
  {
   "cell_type": "code",
   "execution_count": 142,
   "metadata": {},
   "outputs": [
    {
     "data": {
      "text/plain": [
       "torch.Size([20, 5])"
      ]
     },
     "execution_count": 142,
     "metadata": {},
     "output_type": "execute_result"
    }
   ],
   "source": [
    "w = lstm.weight_hh_l0\n",
    "w.shape"
   ]
  },
  {
   "cell_type": "code",
   "execution_count": 143,
   "metadata": {},
   "outputs": [],
   "source": [
    "u, v = w.chunk(2, dim=1)"
   ]
  },
  {
   "cell_type": "code",
   "execution_count": 144,
   "metadata": {},
   "outputs": [
    {
     "data": {
      "text/plain": [
       "tensor([[-0.0333,  0.1173, -0.0640],\n",
       "        [-0.3169, -0.4083,  0.3587],\n",
       "        [ 0.3171, -0.0092, -0.0725],\n",
       "        [-0.0629,  0.0823,  0.3987],\n",
       "        [ 0.3074, -0.3461, -0.4293],\n",
       "        [ 0.1837, -0.3388,  0.0512],\n",
       "        [-0.1301,  0.2809,  0.2151],\n",
       "        [-0.0255, -0.4137,  0.1480],\n",
       "        [ 0.2892, -0.0090,  0.0429],\n",
       "        [-0.3423,  0.2023,  0.0337],\n",
       "        [ 0.4103,  0.3104,  0.2279],\n",
       "        [-0.0767, -0.0106,  0.0750],\n",
       "        [-0.4202,  0.3310,  0.0324],\n",
       "        [ 0.3241, -0.2345,  0.0772],\n",
       "        [-0.3109, -0.4248, -0.2422],\n",
       "        [-0.3810,  0.4236, -0.1972],\n",
       "        [-0.0341,  0.4008,  0.2638],\n",
       "        [-0.4169,  0.1741, -0.4416],\n",
       "        [-0.2715, -0.1549,  0.3251],\n",
       "        [ 0.3530,  0.3771,  0.2422]], grad_fn=<SplitBackward0>)"
      ]
     },
     "execution_count": 144,
     "metadata": {},
     "output_type": "execute_result"
    }
   ],
   "source": [
    "u"
   ]
  },
  {
   "cell_type": "code",
   "execution_count": 145,
   "metadata": {},
   "outputs": [
    {
     "data": {
      "text/plain": [
       "tensor([[ 0.0197,  0.0359],\n",
       "        [ 0.3638,  0.0152],\n",
       "        [-0.3896,  0.0393],\n",
       "        [-0.3283, -0.1105],\n",
       "        [-0.2412, -0.1811],\n",
       "        [ 0.2533, -0.4404],\n",
       "        [ 0.3206,  0.2904],\n",
       "        [-0.2196,  0.1552],\n",
       "        [-0.3924, -0.2510],\n",
       "        [ 0.2497,  0.1350],\n",
       "        [-0.3925,  0.1034],\n",
       "        [-0.3789, -0.3944],\n",
       "        [-0.2236, -0.3058],\n",
       "        [ 0.0695,  0.4145],\n",
       "        [ 0.2540, -0.0280],\n",
       "        [-0.1865, -0.0556],\n",
       "        [-0.2003,  0.0666],\n",
       "        [ 0.0811, -0.0734],\n",
       "        [-0.1380,  0.3148],\n",
       "        [ 0.4266,  0.3653]], grad_fn=<SplitBackward0>)"
      ]
     },
     "execution_count": 145,
     "metadata": {},
     "output_type": "execute_result"
    }
   ],
   "source": [
    "v"
   ]
  },
  {
   "cell_type": "code",
   "execution_count": 146,
   "metadata": {},
   "outputs": [
    {
     "data": {
      "text/plain": [
       "3"
      ]
     },
     "execution_count": 146,
     "metadata": {},
     "output_type": "execute_result"
    }
   ],
   "source": [
    "(torch.arange(0, 10,) >= torch.randint(4, 8, (30, )).view(3, 10).unsqueeze_(1)).size(0)"
   ]
  },
  {
   "cell_type": "code",
   "execution_count": 147,
   "metadata": {},
   "outputs": [
    {
     "data": {
      "text/plain": [
       "tensor([[False, False, False, False,  True,  True,  True,  True,  True,  True],\n",
       "        [False, False, False, False,  True,  True,  True,  True,  True,  True],\n",
       "        [False, False, False, False,  True,  True,  True,  True,  True,  True],\n",
       "        [False, False, False, False,  True,  True,  True,  True,  True,  True],\n",
       "        [False, False, False, False, False, False, False,  True,  True,  True],\n",
       "        [False, False, False, False, False, False,  True,  True,  True,  True],\n",
       "        [False, False, False, False, False,  True,  True,  True,  True,  True],\n",
       "        [False, False, False, False, False, False, False,  True,  True,  True],\n",
       "        [False, False, False, False, False, False, False,  True,  True,  True]])"
      ]
     },
     "execution_count": 147,
     "metadata": {},
     "output_type": "execute_result"
    }
   ],
   "source": [
    "torch.arange(0, 10,) >= torch.randint(4, 8, (9, )).view(9).unsqueeze(1)"
   ]
  },
  {
   "cell_type": "code",
   "execution_count": 148,
   "metadata": {},
   "outputs": [
    {
     "data": {
      "text/plain": [
       "torch.Size([16, 64, 92, 256])"
      ]
     },
     "execution_count": 148,
     "metadata": {},
     "output_type": "execute_result"
    }
   ],
   "source": [
    "nn.Linear(128, 256)(torch.randn((16, 64, 92, 128))).shape"
   ]
  },
  {
   "cell_type": "code",
   "execution_count": 149,
   "metadata": {},
   "outputs": [
    {
     "data": {
      "text/plain": [
       "torch.Size([3, 1, 4])"
      ]
     },
     "execution_count": 149,
     "metadata": {},
     "output_type": "execute_result"
    }
   ],
   "source": [
    "(torch.randn((3, 1, 4)) + torch.randn(( 4))).shape"
   ]
  },
  {
   "cell_type": "code",
   "execution_count": 150,
   "metadata": {},
   "outputs": [
    {
     "data": {
      "text/plain": [
       "tensor(0.)"
      ]
     },
     "execution_count": 150,
     "metadata": {},
     "output_type": "execute_result"
    }
   ],
   "source": [
    "torch.exp(torch.tensor(-65504.))"
   ]
  },
  {
   "attachments": {},
   "cell_type": "markdown",
   "metadata": {},
   "source": [
    "Cross entropy loss"
   ]
  },
  {
   "cell_type": "code",
   "execution_count": 151,
   "metadata": {},
   "outputs": [],
   "source": [
    "x = torch.randn((16, 48, 128))"
   ]
  },
  {
   "cell_type": "code",
   "execution_count": 152,
   "metadata": {},
   "outputs": [
    {
     "data": {
      "text/plain": [
       "tensor([104])"
      ]
     },
     "execution_count": 152,
     "metadata": {},
     "output_type": "execute_result"
    }
   ],
   "source": [
    "mask = torch.randint(10, 128, size=(16, 48, 1))\n",
    "mask[0][0]"
   ]
  },
  {
   "cell_type": "code",
   "execution_count": 153,
   "metadata": {},
   "outputs": [
    {
     "data": {
      "text/plain": [
       "tensor([  1,  66,  94,  85,  29,  79,  97,  99, 100,  72,  15,  27,  79,  52,\n",
       "         79,  85,  17, 104,  93,  85,  48, 122,  17,  10,  52,  98,  42,  38,\n",
       "         14,  26,  14,  87,  85,  92,  80, 120,  95, 100,  50,  70,  26, 122,\n",
       "         89,  64,   1,  82,   1, 109,  34, 124,  26,  82,  59,  73, 104,  73,\n",
       "         63,  78, 107, 113,  40,  21,  64, 112,  13, 100,  56,  81,  66, 119,\n",
       "          6,  13,  39,  85, 107,  82,  85,  65,  31,  31, 104,  98,  22,  69,\n",
       "         75,  56,  45,  17,  46,  18,  59,  58,  25,  67,  11,  14,  33,  98,\n",
       "         92,   8,  98,  79,  85, 116,  46,  62,  32, 106,  29,  23, 107,  98,\n",
       "         96,  75,  22, 110, 122,  20,  94,  74,  25,   8, 101, 121,  44,  50,\n",
       "          4,  28])"
      ]
     },
     "execution_count": 153,
     "metadata": {},
     "output_type": "execute_result"
    }
   ],
   "source": [
    "target = torch.empty((16, 48, 128), dtype=torch.int64).random_(1, 128)\n",
    "target[0][0]"
   ]
  },
  {
   "cell_type": "code",
   "execution_count": 154,
   "metadata": {},
   "outputs": [],
   "source": [
    "masked = torch.arange(0, 128, dtype=torch.long) >= mask\n",
    "target.masked_fill_(masked, 0) \n",
    "pass"
   ]
  },
  {
   "cell_type": "code",
   "execution_count": 155,
   "metadata": {},
   "outputs": [
    {
     "data": {
      "text/plain": [
       "tensor([116,   0,   0,   0,   0,   0,   0,   0,   0,   0,   0,   0,   0,   0,\n",
       "          0,   0,   0,   0,   0,   0,   0,   0,   0,   0,   0])"
      ]
     },
     "execution_count": 155,
     "metadata": {},
     "output_type": "execute_result"
    }
   ],
   "source": [
    "target[0][0][mask[0][0]-1:]"
   ]
  },
  {
   "cell_type": "code",
   "execution_count": 156,
   "metadata": {},
   "outputs": [],
   "source": [
    "cross_loss = nn.CrossEntropyLoss(ignore_index=0)"
   ]
  },
  {
   "cell_type": "code",
   "execution_count": 157,
   "metadata": {},
   "outputs": [],
   "source": [
    "# loss = cross_loss(input, target)"
   ]
  },
  {
   "cell_type": "code",
   "execution_count": 158,
   "metadata": {},
   "outputs": [
    {
     "data": {
      "text/plain": [
       "tensor([  1,  66,  94,  85,  29,  79,  97,  99, 100,  72,  15,  27,  79,  52,\n",
       "         79,  85,  17, 104,  93,  85,  48, 122,  17,  10,  52,  98,  42,  38,\n",
       "         14,  26,  14,  87,  85,  92,  80, 120,  95, 100,  50,  70,  26, 122,\n",
       "         89,  64,   1,  82,   1, 109,  34, 124,  26,  82,  59,  73, 104,  73,\n",
       "         63,  78, 107, 113,  40,  21,  64, 112,  13, 100,  56,  81,  66, 119,\n",
       "          6,  13,  39,  85, 107,  82,  85,  65,  31,  31, 104,  98,  22,  69,\n",
       "         75,  56,  45,  17,  46,  18,  59,  58,  25,  67,  11,  14,  33,  98,\n",
       "         92,   8,  98,  79,  85, 116,   0,   0,   0,   0,   0,   0,   0,   0,\n",
       "          0,   0,   0,   0,   0,   0,   0,   0,   0,   0,   0,   0,   0,   0,\n",
       "          0,   0])"
      ]
     },
     "execution_count": 158,
     "metadata": {},
     "output_type": "execute_result"
    }
   ],
   "source": [
    "target[0][0]"
   ]
  },
  {
   "cell_type": "code",
   "execution_count": 159,
   "metadata": {},
   "outputs": [
    {
     "data": {
      "text/plain": [
       "tensor([[[ 0.2552, -0.1802,  0.2588, -0.7061, -0.8777, -1.2653,  0.0321,\n",
       "           1.5530],\n",
       "         [ 0.3243,  0.2790,  0.1466,  0.7425,  0.5751, -0.4438,  0.9766,\n",
       "           0.1799],\n",
       "         [-0.0652, -0.1049, -0.1837, -0.6695,  1.3287, -1.7559,  0.6593,\n",
       "           0.4805],\n",
       "         [ 0.5903,  0.8178, -0.9333, -0.6854,  0.9481,  0.7393,  0.3437,\n",
       "           0.0594]],\n",
       "\n",
       "        [[ 0.7289,  0.7445,  0.5808,  0.7623, -2.6973,  0.2699, -0.7284,\n",
       "           1.2703],\n",
       "         [-0.9471, -0.5631,  0.7597, -0.1863, -0.0955, -1.4100,  0.2837,\n",
       "           2.0454],\n",
       "         [ 0.2972, -0.9666, -1.2491, -0.0188, -0.7169,  1.4711,  1.8277,\n",
       "          -0.6550],\n",
       "         [-1.7866, -0.5917,  1.0615, -0.8268, -0.9765,  0.1190, -2.1398,\n",
       "           1.4746]]])"
      ]
     },
     "execution_count": 159,
     "metadata": {},
     "output_type": "execute_result"
    }
   ],
   "source": [
    "x = torch.randn((2, 4, 8))\n",
    "x"
   ]
  },
  {
   "cell_type": "code",
   "execution_count": 160,
   "metadata": {},
   "outputs": [
    {
     "data": {
      "text/plain": [
       "tensor([[1, 7, 1, 3],\n",
       "        [5, 4, 6, 2]])"
      ]
     },
     "execution_count": 160,
     "metadata": {},
     "output_type": "execute_result"
    }
   ],
   "source": [
    "target = torch.empty((2, 4), dtype=torch.int64).random_(1, 8)\n",
    "target"
   ]
  },
  {
   "cell_type": "code",
   "execution_count": 161,
   "metadata": {},
   "outputs": [],
   "source": [
    "y = x.gather(dim=-1, index=target.unsqueeze(2))"
   ]
  },
  {
   "cell_type": "code",
   "execution_count": 162,
   "metadata": {},
   "outputs": [
    {
     "data": {
      "text/plain": [
       "(torch.Size([2, 4, 1]),\n",
       " tensor([[[-0.1802],\n",
       "          [ 0.1799],\n",
       "          [-0.1049],\n",
       "          [-0.6854]],\n",
       " \n",
       "         [[ 0.2699],\n",
       "          [-0.0955],\n",
       "          [ 1.8277],\n",
       "          [ 1.0615]]]))"
      ]
     },
     "execution_count": 162,
     "metadata": {},
     "output_type": "execute_result"
    }
   ],
   "source": [
    "y.shape, y"
   ]
  },
  {
   "cell_type": "code",
   "execution_count": 163,
   "metadata": {},
   "outputs": [],
   "source": [
    "net = nn.Linear(10, 50)"
   ]
  },
  {
   "cell_type": "code",
   "execution_count": 164,
   "metadata": {},
   "outputs": [
    {
     "data": {
      "text/plain": [
       "Linear(in_features=10, out_features=50, bias=True)"
      ]
     },
     "execution_count": 164,
     "metadata": {},
     "output_type": "execute_result"
    }
   ],
   "source": [
    "net.half()"
   ]
  },
  {
   "cell_type": "code",
   "execution_count": 165,
   "metadata": {},
   "outputs": [
    {
     "name": "stdout",
     "output_type": "stream",
     "text": [
      "torch.float16\n",
      "torch.float16\n"
     ]
    }
   ],
   "source": [
    "for p in net.parameters():\n",
    "    print(p.dtype)"
   ]
  },
  {
   "cell_type": "code",
   "execution_count": 166,
   "metadata": {},
   "outputs": [
    {
     "name": "stdout",
     "output_type": "stream",
     "text": [
      "torch.float16\n",
      "torch.float16\n"
     ]
    }
   ],
   "source": [
    "for p in net.parameters():\n",
    "    p.to(torch.float)\n",
    "    print(p.dtype)\n",
    "    "
   ]
  },
  {
   "cell_type": "code",
   "execution_count": 167,
   "metadata": {},
   "outputs": [
    {
     "name": "stdout",
     "output_type": "stream",
     "text": [
      "True\n",
      "True\n"
     ]
    }
   ],
   "source": [
    "for p in net.parameters():\n",
    "    print(p.requires_grad)"
   ]
  },
  {
   "cell_type": "code",
   "execution_count": 168,
   "metadata": {},
   "outputs": [
    {
     "name": "stdout",
     "output_type": "stream",
     "text": [
      "False torch.float16\n",
      "False torch.float16\n"
     ]
    }
   ],
   "source": [
    "for p in net.parameters():\n",
    "    print(p.detach().requires_grad, p.dtype)"
   ]
  },
  {
   "cell_type": "code",
   "execution_count": 169,
   "metadata": {},
   "outputs": [],
   "source": [
    "net.float()\n",
    "loss = net(torch.randn((32, 10), dtype=torch.float32)).sum()"
   ]
  },
  {
   "cell_type": "code",
   "execution_count": 170,
   "metadata": {},
   "outputs": [],
   "source": [
    "loss.backward()"
   ]
  },
  {
   "cell_type": "code",
   "execution_count": 171,
   "metadata": {},
   "outputs": [
    {
     "name": "stdout",
     "output_type": "stream",
     "text": [
      "<class 'torch.Tensor'> False\n",
      "<class 'torch.Tensor'> False\n"
     ]
    }
   ],
   "source": [
    "for p in net.parameters():\n",
    "    print(type(p.grad), p.grad.requires_grad)"
   ]
  },
  {
   "cell_type": "code",
   "execution_count": 172,
   "metadata": {},
   "outputs": [
    {
     "data": {
      "text/plain": [
       "tensor(267.4038)"
      ]
     },
     "execution_count": 172,
     "metadata": {},
     "output_type": "execute_result"
    }
   ],
   "source": [
    "nn.utils.clip_grad_norm_(net.parameters(), 5.0)"
   ]
  },
  {
   "cell_type": "code",
   "execution_count": 173,
   "metadata": {},
   "outputs": [
    {
     "data": {
      "text/plain": [
       "0.954992586021436"
      ]
     },
     "execution_count": 173,
     "metadata": {},
     "output_type": "execute_result"
    }
   ],
   "source": [
    "math.exp(math.log(0.01) / 100)"
   ]
  },
  {
   "cell_type": "code",
   "execution_count": 174,
   "metadata": {},
   "outputs": [
    {
     "data": {
      "text/plain": [
       "0.010000000000000049"
      ]
     },
     "execution_count": 174,
     "metadata": {},
     "output_type": "execute_result"
    }
   ],
   "source": [
    "0.954992586021436 ** 100"
   ]
  },
  {
   "cell_type": "code",
   "execution_count": 188,
   "metadata": {},
   "outputs": [],
   "source": [
    "x = torch.empty((4, 5)).float().uniform_(-1, 1)"
   ]
  },
  {
   "cell_type": "code",
   "execution_count": 189,
   "metadata": {},
   "outputs": [
    {
     "data": {
      "text/plain": [
       "tensor([[ 0.1155,  0.2325,  0.9164, -0.2074, -0.8107],\n",
       "        [-0.6912,  0.9049,  0.6055, -0.1095, -0.6014],\n",
       "        [ 0.7091, -0.4299,  0.0394, -0.9688,  0.5415],\n",
       "        [ 0.9204,  0.5323,  0.6835,  0.1981, -0.3870]])"
      ]
     },
     "execution_count": 189,
     "metadata": {},
     "output_type": "execute_result"
    }
   ],
   "source": [
    "x"
   ]
  },
  {
   "cell_type": "code",
   "execution_count": 190,
   "metadata": {},
   "outputs": [],
   "source": [
    "y = torch.zeros_like(x)"
   ]
  },
  {
   "cell_type": "code",
   "execution_count": 191,
   "metadata": {},
   "outputs": [
    {
     "data": {
      "text/plain": [
       "tensor([[0., 0., 0., 0., 0.],\n",
       "        [0., 0., 0., 0., 0.],\n",
       "        [0., 0., 0., 0., 0.],\n",
       "        [0., 0., 0., 0., 0.]])"
      ]
     },
     "execution_count": 191,
     "metadata": {},
     "output_type": "execute_result"
    }
   ],
   "source": [
    "y"
   ]
  },
  {
   "cell_type": "code",
   "execution_count": 192,
   "metadata": {},
   "outputs": [],
   "source": [
    "z = x.to(y)"
   ]
  },
  {
   "cell_type": "code",
   "execution_count": 196,
   "metadata": {},
   "outputs": [],
   "source": [
    "z += 3"
   ]
  },
  {
   "cell_type": "code",
   "execution_count": 198,
   "metadata": {},
   "outputs": [
    {
     "data": {
      "text/plain": [
       "(tensor([[4.1155, 4.2325, 4.9164, 3.7926, 3.1893],\n",
       "         [3.3088, 4.9049, 4.6055, 3.8905, 3.3986],\n",
       "         [4.7091, 3.5701, 4.0394, 3.0312, 4.5415],\n",
       "         [4.9204, 4.5323, 4.6835, 4.1981, 3.6130]]),\n",
       " tensor([[0., 0., 0., 0., 0.],\n",
       "         [0., 0., 0., 0., 0.],\n",
       "         [0., 0., 0., 0., 0.],\n",
       "         [0., 0., 0., 0., 0.]]),\n",
       " tensor([[4.1155, 4.2325, 4.9164, 3.7926, 3.1893],\n",
       "         [3.3088, 4.9049, 4.6055, 3.8905, 3.3986],\n",
       "         [4.7091, 3.5701, 4.0394, 3.0312, 4.5415],\n",
       "         [4.9204, 4.5323, 4.6835, 4.1981, 3.6130]]))"
      ]
     },
     "execution_count": 198,
     "metadata": {},
     "output_type": "execute_result"
    }
   ],
   "source": [
    "z, y, x"
   ]
  }
 ],
 "metadata": {
  "kernelspec": {
   "display_name": "env",
   "language": "python",
   "name": "python3"
  },
  "language_info": {
   "codemirror_mode": {
    "name": "ipython",
    "version": 3
   },
   "file_extension": ".py",
   "mimetype": "text/x-python",
   "name": "python",
   "nbconvert_exporter": "python",
   "pygments_lexer": "ipython3",
   "version": "3.9.10"
  },
  "orig_nbformat": 4,
  "vscode": {
   "interpreter": {
    "hash": "f7d1c444690c64dc164009c81e7c7e493213a917c1ee917acb226d895d2dc691"
   }
  }
 },
 "nbformat": 4,
 "nbformat_minor": 2
}
