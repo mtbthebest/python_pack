{
 "cells": [
  {
   "cell_type": "code",
   "execution_count": 1,
   "id": "b7ad7870",
   "metadata": {},
   "outputs": [],
   "source": [
    "import torch\n",
    "import numpy as np\n",
    "import array\n",
    "import itertools\n"
   ]
  },
  {
   "cell_type": "code",
   "execution_count": 2,
   "id": "ec9acec7",
   "metadata": {},
   "outputs": [
    {
     "data": {
      "text/plain": [
       "'2.0.0+cu118'"
      ]
     },
     "execution_count": 2,
     "metadata": {},
     "output_type": "execute_result"
    }
   ],
   "source": [
    "torch.__version__"
   ]
  },
  {
   "cell_type": "code",
   "execution_count": 3,
   "id": "4d35308a-e79a-46fc-8518-050cb4e2d41a",
   "metadata": {
    "pycharm": {
     "name": "#%%\n"
    }
   },
   "outputs": [],
   "source": [
    "t = torch.tensor(1)"
   ]
  },
  {
   "cell_type": "code",
   "execution_count": 4,
   "id": "4e618c3b-49ab-45a4-9cde-3ca2e2041474",
   "metadata": {
    "pycharm": {
     "name": "#%%\n"
    }
   },
   "outputs": [
    {
     "data": {
      "text/plain": [
       "tensor(1)"
      ]
     },
     "execution_count": 4,
     "metadata": {},
     "output_type": "execute_result"
    }
   ],
   "source": [
    "t"
   ]
  },
  {
   "cell_type": "code",
   "execution_count": 5,
   "id": "40283e69-c52c-47d6-9b0a-9259a1497caa",
   "metadata": {
    "pycharm": {
     "name": "#%%\n"
    }
   },
   "outputs": [
    {
     "data": {
      "text/plain": [
       "(torch.Size([]), 0)"
      ]
     },
     "execution_count": 5,
     "metadata": {},
     "output_type": "execute_result"
    }
   ],
   "source": [
    "t.shape, t.dim()"
   ]
  },
  {
   "cell_type": "code",
   "execution_count": 6,
   "id": "ca661468-3c61-47f8-bac8-f37af7872bc3",
   "metadata": {
    "pycharm": {
     "name": "#%%\n"
    }
   },
   "outputs": [],
   "source": [
    "x = t + torch.tensor([1, 2])"
   ]
  },
  {
   "cell_type": "code",
   "execution_count": 7,
   "id": "323d4904-0be7-443d-bfac-a12fd75b3cb6",
   "metadata": {
    "pycharm": {
     "name": "#%%\n"
    }
   },
   "outputs": [
    {
     "data": {
      "text/plain": [
       "tensor([2, 3])"
      ]
     },
     "execution_count": 7,
     "metadata": {},
     "output_type": "execute_result"
    }
   ],
   "source": [
    "x"
   ]
  },
  {
   "cell_type": "code",
   "execution_count": 8,
   "id": "0123518a-57dc-473b-8434-64f58bd9fcd5",
   "metadata": {
    "pycharm": {
     "name": "#%%\n"
    }
   },
   "outputs": [
    {
     "data": {
      "text/plain": [
       "(torch.Size([2]), 1)"
      ]
     },
     "execution_count": 8,
     "metadata": {},
     "output_type": "execute_result"
    }
   ],
   "source": [
    "x.shape, x.dim()"
   ]
  },
  {
   "cell_type": "code",
   "execution_count": 9,
   "id": "2a2b18f7-065d-4cac-b772-5ee2a9825caa",
   "metadata": {
    "pycharm": {
     "name": "#%%\n"
    }
   },
   "outputs": [],
   "source": [
    "a = \"12\""
   ]
  },
  {
   "cell_type": "code",
   "execution_count": 10,
   "id": "126a1151-3a97-4ada-b010-a37afc08fb11",
   "metadata": {
    "pycharm": {
     "name": "#%%\n"
    }
   },
   "outputs": [
    {
     "data": {
      "text/plain": [
       "False"
      ]
     },
     "execution_count": 10,
     "metadata": {},
     "output_type": "execute_result"
    }
   ],
   "source": [
    "torch.is_tensor(a)"
   ]
  },
  {
   "cell_type": "code",
   "execution_count": 11,
   "id": "ce626628-e8c8-4ec3-8301-68895c5534d9",
   "metadata": {
    "pycharm": {
     "name": "#%%\n"
    }
   },
   "outputs": [
    {
     "data": {
      "text/plain": [
       "True"
      ]
     },
     "execution_count": 11,
     "metadata": {},
     "output_type": "execute_result"
    }
   ],
   "source": [
    "torch.is_tensor(x)"
   ]
  },
  {
   "cell_type": "code",
   "execution_count": 12,
   "id": "864d4981-590a-4dea-b965-f053aabd5b29",
   "metadata": {
    "pycharm": {
     "name": "#%%\n"
    }
   },
   "outputs": [
    {
     "data": {
      "text/plain": [
       "False"
      ]
     },
     "execution_count": 12,
     "metadata": {},
     "output_type": "execute_result"
    }
   ],
   "source": [
    "torch.is_floating_point(x)"
   ]
  },
  {
   "cell_type": "code",
   "execution_count": 13,
   "id": "c9f03f7c-442a-405c-bcdf-97d1408d5ea1",
   "metadata": {
    "pycharm": {
     "name": "#%%\n"
    }
   },
   "outputs": [
    {
     "data": {
      "text/plain": [
       "True"
      ]
     },
     "execution_count": 13,
     "metadata": {},
     "output_type": "execute_result"
    }
   ],
   "source": [
    "torch.is_nonzero(x[0])"
   ]
  },
  {
   "cell_type": "code",
   "execution_count": 14,
   "id": "02f40e81-5396-4d8a-9422-4c5262724d67",
   "metadata": {
    "pycharm": {
     "name": "#%%\n"
    }
   },
   "outputs": [],
   "source": [
    "y = torch.tensor((1.3, 2.4))"
   ]
  },
  {
   "cell_type": "code",
   "execution_count": 15,
   "id": "ea991306-014b-40da-af32-7e00d34f197d",
   "metadata": {
    "pycharm": {
     "name": "#%%\n"
    }
   },
   "outputs": [
    {
     "data": {
      "text/plain": [
       "torch.float32"
      ]
     },
     "execution_count": 15,
     "metadata": {},
     "output_type": "execute_result"
    }
   ],
   "source": [
    "y.dtype"
   ]
  },
  {
   "cell_type": "code",
   "execution_count": 16,
   "id": "02eb2c89-7d6f-49c2-8109-158f3c166bda",
   "metadata": {
    "pycharm": {
     "name": "#%%\n"
    }
   },
   "outputs": [
    {
     "data": {
      "text/plain": [
       "torch.Size([1, 5, 2])"
      ]
     },
     "execution_count": 16,
     "metadata": {},
     "output_type": "execute_result"
    }
   ],
   "source": [
    "torch.tensor(np.linspace(0, 30, 10).reshape(1, 5, 2)).shape"
   ]
  },
  {
   "cell_type": "code",
   "execution_count": 17,
   "id": "1572e575-0d22-4eb3-9a33-1ab5bb53851d",
   "metadata": {
    "pycharm": {
     "name": "#%%\n"
    }
   },
   "outputs": [
    {
     "data": {
      "text/plain": [
       "3"
      ]
     },
     "execution_count": 17,
     "metadata": {},
     "output_type": "execute_result"
    }
   ],
   "source": [
    "torch.tensor(np.linspace(0, 30, 10).reshape(1, 5, 2)).dim()"
   ]
  },
  {
   "cell_type": "code",
   "execution_count": 18,
   "id": "9e9cd037-a6c8-43ae-a3cc-98d631d900cd",
   "metadata": {
    "pycharm": {
     "name": "#%%\n"
    }
   },
   "outputs": [
    {
     "data": {
      "text/plain": [
       "torch.Size([1, 5, 2])"
      ]
     },
     "execution_count": 18,
     "metadata": {},
     "output_type": "execute_result"
    }
   ],
   "source": [
    "torch.tensor(np.linspace(0, 30, 10).reshape(1, 5, 2)).size()"
   ]
  },
  {
   "cell_type": "code",
   "execution_count": 19,
   "id": "696b773c-aeb6-4763-b56b-c96575ed4ee1",
   "metadata": {
    "pycharm": {
     "name": "#%%\n"
    }
   },
   "outputs": [],
   "source": [
    "x = torch.tensor(np.linspace(0, 30, 10).reshape(1, 5, 2))"
   ]
  },
  {
   "cell_type": "code",
   "execution_count": 20,
   "id": "835732c5",
   "metadata": {
    "pycharm": {
     "name": "#%%\n"
    }
   },
   "outputs": [
    {
     "name": "stdout",
     "output_type": "stream",
     "text": [
      "tensor([1, 2, 3]) [1, 2, 3, 4]\n"
     ]
    }
   ],
   "source": [
    "y = [1, 2, 3]\n",
    "x = torch.tensor(y)\n",
    "y.append(4)\n",
    "print(x, y)"
   ]
  },
  {
   "cell_type": "code",
   "execution_count": 21,
   "id": "660a2c56-402c-48a3-a479-f53cdcd96c44",
   "metadata": {
    "pycharm": {
     "name": "#%%\n"
    }
   },
   "outputs": [
    {
     "name": "stdout",
     "output_type": "stream",
     "text": [
      "tensor([1, 2, 3]) [20, 2, 3]\n"
     ]
    }
   ],
   "source": [
    "y = [1, 2, 3]\n",
    "x = torch.tensor(y)\n",
    "y[0] = 20\n",
    "print(x, y)"
   ]
  },
  {
   "cell_type": "code",
   "execution_count": 1186,
   "id": "7f9a6d78",
   "metadata": {},
   "outputs": [
    {
     "name": "stdout",
     "output_type": "stream",
     "text": [
      "tensor([1, 2, 3]) tensor([20,  2,  3])\n"
     ]
    },
    {
     "name": "stderr",
     "output_type": "stream",
     "text": [
      "/tmp/ipykernel_11384/4262607423.py:2: UserWarning: To copy construct from a tensor, it is recommended to use sourceTensor.clone().detach() or sourceTensor.clone().detach().requires_grad_(True), rather than torch.tensor(sourceTensor).\n",
      "  x = torch.tensor(y)\n"
     ]
    }
   ],
   "source": [
    "y = torch.tensor([1, 2, 3])\n",
    "x = torch.tensor(y)\n",
    "y[0] = 20\n",
    "print(x, y)"
   ]
  },
  {
   "cell_type": "code",
   "execution_count": 1187,
   "id": "995ed996",
   "metadata": {},
   "outputs": [
    {
     "name": "stdout",
     "output_type": "stream",
     "text": [
      "tensor([1, 2, 3]) [20  2  3]\n"
     ]
    }
   ],
   "source": [
    "y = np.array([1, 2, 3])\n",
    "x = torch.tensor(y)\n",
    "y[0] = 20\n",
    "print(x, y)"
   ]
  },
  {
   "cell_type": "code",
   "execution_count": 24,
   "id": "d3e19c31",
   "metadata": {},
   "outputs": [
    {
     "name": "stdout",
     "output_type": "stream",
     "text": [
      "tensor([1, 2, 3]) [20, 2, 3]\n"
     ]
    }
   ],
   "source": [
    "y = [1, 2, 3]\n",
    "x = torch.as_tensor(y)\n",
    "y[0] = 20\n",
    "print(x, y)"
   ]
  },
  {
   "cell_type": "code",
   "execution_count": 25,
   "id": "21bf949c-696b-4b56-8a84-688558b750a0",
   "metadata": {
    "pycharm": {
     "name": "#%%\n"
    }
   },
   "outputs": [
    {
     "name": "stdout",
     "output_type": "stream",
     "text": [
      "tensor([20,  2,  3]) [20  2  3]\n"
     ]
    }
   ],
   "source": [
    "y = np.array([1, 2, 3])\n",
    "x = torch.as_tensor(y)\n",
    "y[0] = 20\n",
    "print(x, y)"
   ]
  },
  {
   "cell_type": "code",
   "execution_count": 26,
   "id": "6371fa13",
   "metadata": {},
   "outputs": [
    {
     "name": "stdout",
     "output_type": "stream",
     "text": [
      "tensor([1., 2., 3.]) [20  2  3]\n"
     ]
    }
   ],
   "source": [
    "y = np.array([1, 2, 3])\n",
    "x = torch.as_tensor(y, dtype=torch.float32)\n",
    "y[0] = 20\n",
    "print(x, y)"
   ]
  },
  {
   "cell_type": "code",
   "execution_count": 27,
   "id": "41864d51",
   "metadata": {},
   "outputs": [
    {
     "name": "stdout",
     "output_type": "stream",
     "text": [
      "tensor([1, 2, 3], device='cuda:0') [20  2  3]\n"
     ]
    }
   ],
   "source": [
    "y = np.array([1, 2, 3])\n",
    "x = torch.as_tensor(y).cuda() # When in cuda modifications do influence\n",
    "y[0] = 20\n",
    "print(x, y)"
   ]
  },
  {
   "cell_type": "code",
   "execution_count": 28,
   "id": "bd1dfaf2",
   "metadata": {},
   "outputs": [
    {
     "name": "stdout",
     "output_type": "stream",
     "text": [
      "tensor([20,  2,  3]) tensor([20,  2,  3]) 94377906274816 94377906274816\n"
     ]
    }
   ],
   "source": [
    "y = torch.tensor([1, 2, 3])\n",
    "x = torch.as_tensor(y)\n",
    "y[0] = 20\n",
    "print(x, y, x.data_ptr(), y.data_ptr())"
   ]
  },
  {
   "cell_type": "code",
   "execution_count": 29,
   "id": "681c9a1d",
   "metadata": {},
   "outputs": [
    {
     "name": "stdout",
     "output_type": "stream",
     "text": [
      "tensor([1, 2, 3], device='cuda:0') tensor([20,  2,  3]) 139735974543360 94377906273408\n"
     ]
    }
   ],
   "source": [
    "y = torch.tensor([1, 2, 3])\n",
    "x = torch.as_tensor(y).cuda() \n",
    "y[0] = 20\n",
    "print(x, y, x.data_ptr(), y.data_ptr())"
   ]
  },
  {
   "cell_type": "code",
   "execution_count": 30,
   "id": "7776aeb8",
   "metadata": {},
   "outputs": [
    {
     "name": "stdout",
     "output_type": "stream",
     "text": [
      "tensor([1, 2, 3]) tensor([20,  2,  3], device='cuda:0')\n"
     ]
    }
   ],
   "source": [
    "y = torch.tensor([1, 2, 3]).cuda()\n",
    "x = torch.as_tensor(y).cpu()\n",
    "y[0] = 20\n",
    "print(x, y)"
   ]
  },
  {
   "cell_type": "code",
   "execution_count": 31,
   "id": "88ba9dfe",
   "metadata": {},
   "outputs": [
    {
     "data": {
      "text/plain": [
       "tensor([1., 1., 1., 1., 1., 1., 1., 1., 1., 1.])"
      ]
     },
     "execution_count": 31,
     "metadata": {},
     "output_type": "execute_result"
    }
   ],
   "source": [
    "x = torch.arange(10).float().requires_grad_()\n",
    "y = x.sum()\n",
    "y.backward()\n",
    "z = torch.as_tensor(x)\n",
    "x.grad"
   ]
  },
  {
   "cell_type": "code",
   "execution_count": 32,
   "id": "f1a3c828",
   "metadata": {},
   "outputs": [
    {
     "data": {
      "text/plain": [
       "'error because requires_grad_() is missing'"
      ]
     },
     "execution_count": 32,
     "metadata": {},
     "output_type": "execute_result"
    }
   ],
   "source": [
    "# x = torch.arange(10).float()\n",
    "# y = x.sum()\n",
    "# y.backward()\n",
    "# z = torch.as_tensor(x)\n",
    "# x.grad\n",
    "\"\"\"error because requires_grad_() is missing\"\"\""
   ]
  },
  {
   "cell_type": "code",
   "execution_count": 33,
   "id": "70fe07d8",
   "metadata": {},
   "outputs": [
    {
     "data": {
      "text/plain": [
       "(tensor([3., 3., 3., 3., 3., 3., 3., 3., 3., 3.]),\n",
       " tensor(45., grad_fn=<SumBackward0>),\n",
       " tensor(45., grad_fn=<SumBackward0>))"
      ]
     },
     "execution_count": 33,
     "metadata": {},
     "output_type": "execute_result"
    }
   ],
   "source": [
    "x = torch.arange(10).float().requires_grad_()\n",
    "y = x.sum()\n",
    "z = y\n",
    "w = 3*z\n",
    "w.backward()\n",
    "x.grad, y, z"
   ]
  },
  {
   "cell_type": "code",
   "execution_count": 34,
   "id": "bacac328",
   "metadata": {},
   "outputs": [
    {
     "data": {
      "text/plain": [
       "(tensor([3., 3., 3., 3., 3., 3., 3., 3., 3., 3.]),\n",
       " tensor(45., grad_fn=<SumBackward0>),\n",
       " tensor(45., grad_fn=<SumBackward0>))"
      ]
     },
     "execution_count": 34,
     "metadata": {},
     "output_type": "execute_result"
    }
   ],
   "source": [
    "x = torch.arange(10).float().requires_grad_()\n",
    "y = x.sum()\n",
    "z = torch.as_tensor(y) # Gradient is conserved\n",
    "w = 3*z\n",
    "w.backward()\n",
    "x.grad, y, z"
   ]
  },
  {
   "cell_type": "code",
   "execution_count": 35,
   "id": "24421d90",
   "metadata": {},
   "outputs": [
    {
     "data": {
      "text/plain": [
       "(tensor([4., 4., 4., 4., 4., 4., 4., 4., 4., 4.]),\n",
       " tensor(45., grad_fn=<SumBackward0>))"
      ]
     },
     "execution_count": 35,
     "metadata": {},
     "output_type": "execute_result"
    }
   ],
   "source": [
    "x = torch.arange(10).float().requires_grad_()\n",
    "y = x.sum()\n",
    "y.backward()\n",
    "z = torch.as_tensor(y) # Gradient is conserved\n",
    "w = 3*z\n",
    "w.backward()\n",
    "x.grad, z"
   ]
  },
  {
   "cell_type": "code",
   "execution_count": 36,
   "id": "f91b0f59",
   "metadata": {},
   "outputs": [
    {
     "data": {
      "text/plain": [
       "(tensor([4., 4., 4., 4., 4., 4., 4., 4., 4., 4.]),\n",
       " tensor(45., grad_fn=<SumBackward0>))"
      ]
     },
     "execution_count": 36,
     "metadata": {},
     "output_type": "execute_result"
    }
   ],
   "source": [
    "x = torch.arange(10).float().requires_grad_()\n",
    "y = x.sum()\n",
    "z = torch.as_tensor(y) # Gradient is conserved\n",
    "w = 3*z\n",
    "w.backward()\n",
    "y.backward()\n",
    "x.grad, z"
   ]
  },
  {
   "cell_type": "code",
   "execution_count": 37,
   "id": "4b37fe25",
   "metadata": {},
   "outputs": [
    {
     "name": "stdout",
     "output_type": "stream",
     "text": [
      "tensor(45., grad_fn=<SumBackward0>) tensor([1., 1., 1., 1., 1., 1., 1., 1., 1., 1.])\n"
     ]
    },
    {
     "name": "stderr",
     "output_type": "stream",
     "text": [
      "/tmp/ipykernel_11384/2038946383.py:8: UserWarning: The .grad attribute of a Tensor that is not a leaf Tensor is being accessed. Its .grad attribute won't be populated during autograd.backward(). If you indeed want the .grad field to be populated for a non-leaf Tensor, use .retain_grad() on the non-leaf Tensor. If you access the non-leaf Tensor by mistake, make sure you access the leaf Tensor instead. See github.com/pytorch/pytorch/pull/30531 for more informations. (Triggered internally at aten/src/ATen/core/TensorBody.h:486.)\n",
      "  x.grad, y.grad, x.device, z.device\n"
     ]
    },
    {
     "data": {
      "text/plain": [
       "(tensor([4., 4., 4., 4., 4., 4., 4., 4., 4., 4.]),\n",
       " None,\n",
       " device(type='cpu'),\n",
       " device(type='cuda', index=0))"
      ]
     },
     "execution_count": 37,
     "metadata": {},
     "output_type": "execute_result"
    }
   ],
   "source": [
    "x = torch.arange(10).float().requires_grad_()\n",
    "y = x.sum()\n",
    "y.backward()\n",
    "print(y, x.grad)\n",
    "z = torch.as_tensor(y).cuda() # Conserve the gradient history\n",
    "w = 3*z\n",
    "w.backward()\n",
    "x.grad, y.grad, x.device, z.device"
   ]
  },
  {
   "cell_type": "code",
   "execution_count": 38,
   "id": "444bc91e",
   "metadata": {},
   "outputs": [
    {
     "data": {
      "text/plain": [
       "(tensor([4., 4., 4., 4., 4., 4., 4., 4., 4., 4.], device='cuda:0'),\n",
       " device(type='cuda', index=0),\n",
       " device(type='cpu'))"
      ]
     },
     "execution_count": 38,
     "metadata": {},
     "output_type": "execute_result"
    }
   ],
   "source": [
    "x = torch.arange(10).float().cuda().requires_grad_()\n",
    "y = x.sum()\n",
    "y.backward()\n",
    "z = torch.as_tensor(y).cpu() # torch.as_tensor trace the gradient from the current tensor object and does not share object locations in the case of device change but stil gradient graph to the leaf nodes remain in the path \n",
    "w = 3*z\n",
    "w.backward()\n",
    "x.grad, x.device, z.device"
   ]
  },
  {
   "cell_type": "code",
   "execution_count": 39,
   "id": "4b75668b",
   "metadata": {},
   "outputs": [
    {
     "data": {
      "text/plain": [
       "(tensor([4., 4., 4., 4., 4., 4., 4., 4., 4., 4.], device='cuda:0'),\n",
       " device(type='cuda', index=0),\n",
       " device(type='cpu'))"
      ]
     },
     "execution_count": 39,
     "metadata": {},
     "output_type": "execute_result"
    }
   ],
   "source": [
    "x = torch.arange(10).float().cuda().requires_grad_()\n",
    "y = x.sum()\n",
    "z = torch.as_tensor(y).cpu() \n",
    "w = 3*z\n",
    "w.backward()\n",
    "y.backward()\n",
    "x.grad, x.device, z.device"
   ]
  },
  {
   "cell_type": "code",
   "execution_count": 40,
   "id": "f2c8ab7d",
   "metadata": {},
   "outputs": [
    {
     "data": {
      "text/plain": [
       "False"
      ]
     },
     "execution_count": 40,
     "metadata": {},
     "output_type": "execute_result"
    }
   ],
   "source": [
    "x = torch.arange(10).float()\n",
    "x.cuda() is x"
   ]
  },
  {
   "cell_type": "code",
   "execution_count": 41,
   "id": "a3919157",
   "metadata": {},
   "outputs": [
    {
     "data": {
      "text/plain": [
       "False"
      ]
     },
     "execution_count": 41,
     "metadata": {},
     "output_type": "execute_result"
    }
   ],
   "source": [
    "x = torch.arange(10).float().cuda()\n",
    "x.requires_grad"
   ]
  },
  {
   "cell_type": "code",
   "execution_count": 42,
   "id": "33c4c547",
   "metadata": {},
   "outputs": [
    {
     "data": {
      "text/plain": [
       "True"
      ]
     },
     "execution_count": 42,
     "metadata": {},
     "output_type": "execute_result"
    }
   ],
   "source": [
    "x = torch.arange(10).float().cuda()\n",
    "x.requires_grad_() is x"
   ]
  },
  {
   "cell_type": "code",
   "execution_count": 43,
   "id": "f33f8393",
   "metadata": {},
   "outputs": [
    {
     "data": {
      "text/plain": [
       "True"
      ]
     },
     "execution_count": 43,
     "metadata": {},
     "output_type": "execute_result"
    }
   ],
   "source": [
    "x = torch.arange(10).float().cuda().requires_grad_()\n",
    "x.requires_grad"
   ]
  },
  {
   "cell_type": "code",
   "execution_count": 44,
   "id": "0760dc1a",
   "metadata": {},
   "outputs": [
    {
     "data": {
      "text/plain": [
       "True"
      ]
     },
     "execution_count": 44,
     "metadata": {},
     "output_type": "execute_result"
    }
   ],
   "source": [
    "x = torch.arange(10).float().requires_grad_()\n",
    "x.requires_grad"
   ]
  },
  {
   "cell_type": "code",
   "execution_count": 45,
   "id": "90a67499",
   "metadata": {},
   "outputs": [
    {
     "data": {
      "text/plain": [
       "True"
      ]
     },
     "execution_count": 45,
     "metadata": {},
     "output_type": "execute_result"
    }
   ],
   "source": [
    "x = torch.arange(10).float().requires_grad_().cuda()\n",
    "x.requires_grad"
   ]
  },
  {
   "cell_type": "code",
   "execution_count": 46,
   "id": "9d7c5d5d",
   "metadata": {},
   "outputs": [
    {
     "data": {
      "text/plain": [
       "(tensor([4., 4., 4., 4., 4., 4., 4., 4., 4., 4.], device='cuda:0'),\n",
       " device(type='cuda', index=0),\n",
       " device(type='cpu'))"
      ]
     },
     "execution_count": 46,
     "metadata": {},
     "output_type": "execute_result"
    }
   ],
   "source": [
    "x = torch.arange(10).float().cuda().requires_grad_()\n",
    "y = x.sum()\n",
    "z = torch.as_tensor(y).cpu() \n",
    "w = 3*z\n",
    "w.backward()\n",
    "y.backward()\n",
    "x.grad, x.device, z.device"
   ]
  },
  {
   "cell_type": "code",
   "execution_count": 47,
   "id": "d9792b2d",
   "metadata": {},
   "outputs": [
    {
     "name": "stderr",
     "output_type": "stream",
     "text": [
      "/tmp/ipykernel_11384/650773435.py:7: UserWarning: The .grad attribute of a Tensor that is not a leaf Tensor is being accessed. Its .grad attribute won't be populated during autograd.backward(). If you indeed want the .grad field to be populated for a non-leaf Tensor, use .retain_grad() on the non-leaf Tensor. If you access the non-leaf Tensor by mistake, make sure you access the leaf Tensor instead. See github.com/pytorch/pytorch/pull/30531 for more informations. (Triggered internally at aten/src/ATen/core/TensorBody.h:486.)\n",
      "  x.grad, x.device, z.device\n"
     ]
    },
    {
     "data": {
      "text/plain": [
       "(None, device(type='cuda', index=0), device(type='cpu'))"
      ]
     },
     "execution_count": 47,
     "metadata": {},
     "output_type": "execute_result"
    }
   ],
   "source": [
    "x = torch.arange(10).float().requires_grad_().cuda() # When inverting x is not a leaf anymore\n",
    "y = x.sum()\n",
    "y.backward()\n",
    "z = torch.as_tensor(y).cpu()\n",
    "w = 3*z\n",
    "w.backward()\n",
    "x.grad, x.device, z.device"
   ]
  },
  {
   "cell_type": "code",
   "execution_count": 48,
   "id": "3112477b",
   "metadata": {},
   "outputs": [
    {
     "name": "stderr",
     "output_type": "stream",
     "text": [
      "/tmp/ipykernel_11384/2042416135.py:7: UserWarning: The .grad attribute of a Tensor that is not a leaf Tensor is being accessed. Its .grad attribute won't be populated during autograd.backward(). If you indeed want the .grad field to be populated for a non-leaf Tensor, use .retain_grad() on the non-leaf Tensor. If you access the non-leaf Tensor by mistake, make sure you access the leaf Tensor instead. See github.com/pytorch/pytorch/pull/30531 for more informations. (Triggered internally at aten/src/ATen/core/TensorBody.h:486.)\n",
      "  x.grad, y.requires_grad, x.device, z.device\n"
     ]
    },
    {
     "data": {
      "text/plain": [
       "(None, True, device(type='cuda', index=0), device(type='cpu'))"
      ]
     },
     "execution_count": 48,
     "metadata": {},
     "output_type": "execute_result"
    }
   ],
   "source": [
    "x = torch.arange(10).float().requires_grad_().cuda()\n",
    "y = x.sum()\n",
    "y.backward()\n",
    "z = torch.as_tensor(y).cpu()\n",
    "w = 3*z\n",
    "w.backward()\n",
    "x.grad, y.requires_grad, x.device, z.device"
   ]
  },
  {
   "cell_type": "code",
   "execution_count": 49,
   "id": "deb88c4a",
   "metadata": {},
   "outputs": [
    {
     "name": "stdout",
     "output_type": "stream",
     "text": [
      "tensor([1, 2, 3]) [1 2 3] 94377896411200 94377896411200\n",
      "tensor([-1,  2,  3]) [-1  2  3] 94377896411200 94377896411200\n"
     ]
    }
   ],
   "source": [
    "y = np.array([1, 2, 3])\n",
    "x = torch.as_tensor(y)\n",
    "print(x, y, x.data_ptr(), y.__array_interface__['data'][0])\n",
    "x = torch.from_numpy(y)\n",
    "y[0] = -1\n",
    "print(x, y, x.data_ptr(), y.__array_interface__['data'][0])"
   ]
  },
  {
   "cell_type": "code",
   "execution_count": 50,
   "id": "f50874d2-96cb-4c71-ab33-6e1ef1c18ab1",
   "metadata": {
    "pycharm": {
     "name": "#%%\n"
    }
   },
   "outputs": [
    {
     "name": "stdout",
     "output_type": "stream",
     "text": [
      "tensor([1, 2, 3]) [1 2 3] 94377828074576 94377828074576\n",
      "tensor([1, 2, 3], device='cuda:0') [-1  2  3]\n"
     ]
    }
   ],
   "source": [
    "y = np.array([1, 2, 3])\n",
    "x = torch.as_tensor(y)\n",
    "print(x, y, x.data_ptr(), y.__array_interface__['data'][0])\n",
    "x = torch.from_numpy(y).cuda()\n",
    "y[0] = -1\n",
    "print(x, y)"
   ]
  },
  {
   "cell_type": "code",
   "execution_count": 51,
   "id": "840bc5bd",
   "metadata": {},
   "outputs": [
    {
     "name": "stdout",
     "output_type": "stream",
     "text": [
      "tensor(45., grad_fn=<SumBackward0>) tensor([3., 3., 3., 3., 3., 3., 3., 3., 3., 3.])\n"
     ]
    },
    {
     "name": "stderr",
     "output_type": "stream",
     "text": [
      "/home/mtb/env/lib/python3.9/site-packages/torch/autograd/__init__.py:200: UserWarning: Using backward() with create_graph=True will create a reference cycle between the parameter and its gradient which can cause a memory leak. We recommend using autograd.grad when creating the graph to avoid this. If you have to use this function, make sure to reset the .grad fields of your parameters to None after use to break the cycle and avoid the leak. (Triggered internally at ../torch/csrc/autograd/engine.cpp:1151.)\n",
      "  Variable._execution_engine.run_backward(  # Calls into the C++ engine to run the backward pass\n"
     ]
    },
    {
     "data": {
      "text/plain": [
       "(tensor([6., 6., 6., 6., 6., 6., 6., 6., 6., 6.]),\n",
       " device(type='cpu'),\n",
       " device(type='cuda', index=0))"
      ]
     },
     "execution_count": 51,
     "metadata": {},
     "output_type": "execute_result"
    }
   ],
   "source": [
    "x = torch.arange(10).float().requires_grad_()\n",
    "y = x.sum()\n",
    "y.backward()\n",
    "y.backward(create_graph=True)\n",
    "y.backward()\n",
    "print(y, x.grad)\n",
    "z = torch.as_tensor(y).cuda()\n",
    "w = 3*z\n",
    "w.backward()\n",
    "x.grad, x.device, z.device"
   ]
  },
  {
   "cell_type": "code",
   "execution_count": 52,
   "id": "562cf5a3",
   "metadata": {},
   "outputs": [
    {
     "name": "stdout",
     "output_type": "stream",
     "text": [
      "tensor([20,  2,  3]) [20  2  3]\n"
     ]
    }
   ],
   "source": [
    "y = np.array([1, 2, 3])\n",
    "x = torch.as_tensor(y)\n",
    "y[0] = 20\n",
    "print(x, y)"
   ]
  },
  {
   "cell_type": "code",
   "execution_count": 53,
   "id": "32311fb9",
   "metadata": {},
   "outputs": [
    {
     "name": "stdout",
     "output_type": "stream",
     "text": [
      "tensor([1., 2., 3.]) [20  2  3]\n"
     ]
    }
   ],
   "source": [
    "y = np.array([1, 2, 3])\n",
    "x = torch.as_tensor(y).float()\n",
    "y[0] = 20\n",
    "print(x, y)"
   ]
  },
  {
   "cell_type": "code",
   "execution_count": 54,
   "id": "b02c4f36",
   "metadata": {},
   "outputs": [
    {
     "name": "stdout",
     "output_type": "stream",
     "text": [
      "tensor([20,  2,  3]) [20  2  3]\n"
     ]
    }
   ],
   "source": [
    "y = np.array([1, 2, 3])\n",
    "x = torch.as_tensor(y).detach() # With or without detach the pointer is same\n",
    "y[0] = 20\n",
    "print(x, y)"
   ]
  },
  {
   "cell_type": "code",
   "execution_count": 55,
   "id": "e5b4afdb",
   "metadata": {},
   "outputs": [
    {
     "name": "stdout",
     "output_type": "stream",
     "text": [
      "tensor([1, 2, 3]) [20  2  3]\n"
     ]
    }
   ],
   "source": [
    "y = np.array([1, 2, 3])\n",
    "x = torch.as_tensor(y).clone()\n",
    "y[0] = 20\n",
    "print(x, y)"
   ]
  },
  {
   "cell_type": "code",
   "execution_count": 1189,
   "id": "954c1f60",
   "metadata": {},
   "outputs": [
    {
     "name": "stdout",
     "output_type": "stream",
     "text": [
      "tensor([20,  2,  3]) [20  2  3]\n"
     ]
    }
   ],
   "source": [
    "y = np.array([1, 2, 3])\n",
    "x = torch.as_tensor(y).long()\n",
    "y[0] = 20\n",
    "print(x, y)"
   ]
  },
  {
   "cell_type": "code",
   "execution_count": 1190,
   "id": "8abab4c8",
   "metadata": {},
   "outputs": [
    {
     "name": "stdout",
     "output_type": "stream",
     "text": [
      "tensor([1., 2., 3.]) [20  2  3]\n"
     ]
    }
   ],
   "source": [
    "y = np.array([1, 2, 3])\n",
    "x = torch.as_tensor(y).float()\n",
    "y[0] = 20\n",
    "print(x, y)"
   ]
  },
  {
   "cell_type": "code",
   "execution_count": 1192,
   "id": "eeda5815",
   "metadata": {},
   "outputs": [
    {
     "name": "stdout",
     "output_type": "stream",
     "text": [
      "tensor([20,  2,  3], device='cuda:0') tensor([20,  2,  3], device='cuda:0')\n"
     ]
    }
   ],
   "source": [
    "y = torch.tensor([1, 2, 3]).cuda()\n",
    "x = torch.as_tensor(y).cuda()\n",
    "y[0] = 20\n",
    "print(x, y)"
   ]
  },
  {
   "cell_type": "code",
   "execution_count": 56,
   "id": "7f41363f",
   "metadata": {},
   "outputs": [
    {
     "name": "stdout",
     "output_type": "stream",
     "text": [
      "tensor([1, 2, 3], device='cuda:0') [20  2  3]\n"
     ]
    }
   ],
   "source": [
    "y = np.array([1, 2, 3])\n",
    "x = torch.as_tensor(y).cuda()\n",
    "y[0] = 20\n",
    "print(x, y)"
   ]
  },
  {
   "cell_type": "code",
   "execution_count": 57,
   "id": "87bfe117-5788-41c8-9ad3-abfb21104d3c",
   "metadata": {
    "pycharm": {
     "name": "#%%\n"
    }
   },
   "outputs": [],
   "source": [
    "x.detach().cpu()[0] = 4"
   ]
  },
  {
   "cell_type": "code",
   "execution_count": 58,
   "id": "ceafa1e7",
   "metadata": {},
   "outputs": [
    {
     "data": {
      "text/plain": [
       "tensor([1, 2, 3], device='cuda:0')"
      ]
     },
     "execution_count": 58,
     "metadata": {},
     "output_type": "execute_result"
    }
   ],
   "source": [
    "x"
   ]
  },
  {
   "cell_type": "code",
   "execution_count": 59,
   "id": "2bf2e1c7",
   "metadata": {},
   "outputs": [],
   "source": [
    "x.detach()[0] = 8"
   ]
  },
  {
   "cell_type": "code",
   "execution_count": 60,
   "id": "afe98137",
   "metadata": {},
   "outputs": [
    {
     "data": {
      "text/plain": [
       "tensor([8, 2, 3], device='cuda:0')"
      ]
     },
     "execution_count": 60,
     "metadata": {},
     "output_type": "execute_result"
    }
   ],
   "source": [
    "x"
   ]
  },
  {
   "cell_type": "code",
   "execution_count": 61,
   "id": "411eedea",
   "metadata": {},
   "outputs": [
    {
     "data": {
      "text/plain": [
       "(device(type='cuda', index=0),\n",
       " 139735974543872,\n",
       " device(type='cuda', index=0),\n",
       " 139735974543872)"
      ]
     },
     "execution_count": 61,
     "metadata": {},
     "output_type": "execute_result"
    }
   ],
   "source": [
    "x.device, x.data_ptr(), x.detach().device, x.detach().data_ptr()"
   ]
  },
  {
   "cell_type": "code",
   "execution_count": 62,
   "id": "af691a8c",
   "metadata": {},
   "outputs": [
    {
     "data": {
      "text/plain": [
       "(tensor([5, 2, 3], device='cuda:0'), tensor([5, 2, 3], device='cuda:0'))"
      ]
     },
     "execution_count": 62,
     "metadata": {},
     "output_type": "execute_result"
    }
   ],
   "source": [
    "y = x.detach()\n",
    "y[0] = 5\n",
    "x, y"
   ]
  },
  {
   "cell_type": "code",
   "execution_count": 63,
   "id": "6734508c",
   "metadata": {},
   "outputs": [
    {
     "data": {
      "text/plain": [
       "(tensor([10,  2,  3], device='cuda:0'), tensor([10,  2,  3], device='cuda:0'))"
      ]
     },
     "execution_count": 63,
     "metadata": {},
     "output_type": "execute_result"
    }
   ],
   "source": [
    "y = x.detach().to(x.device)\n",
    "y[0] = 10\n",
    "x, y"
   ]
  },
  {
   "cell_type": "code",
   "execution_count": 64,
   "id": "60e63a2b",
   "metadata": {},
   "outputs": [
    {
     "data": {
      "text/plain": [
       "(tensor([10,  2,  3], device='cuda:0'),\n",
       " tensor([100.,   2.,   3.], device='cuda:0'))"
      ]
     },
     "execution_count": 64,
     "metadata": {},
     "output_type": "execute_result"
    }
   ],
   "source": [
    "y = x.detach().float()\n",
    "y[0] = 100\n",
    "x, y"
   ]
  },
  {
   "cell_type": "code",
   "execution_count": 65,
   "id": "a0f656b3",
   "metadata": {},
   "outputs": [
    {
     "data": {
      "text/plain": [
       "(tensor([12,  2,  3], device='cuda:0'), tensor([12,  2,  3], device='cuda:0'))"
      ]
     },
     "execution_count": 65,
     "metadata": {},
     "output_type": "execute_result"
    }
   ],
   "source": [
    "y = x.detach().cuda()\n",
    "y[0] = 12\n",
    "x, y"
   ]
  },
  {
   "cell_type": "code",
   "execution_count": 66,
   "id": "fa45ba3b",
   "metadata": {},
   "outputs": [
    {
     "data": {
      "text/plain": [
       "(tensor([12,  2,  3], device='cuda:0'), tensor([15,  2,  3]))"
      ]
     },
     "execution_count": 66,
     "metadata": {},
     "output_type": "execute_result"
    }
   ],
   "source": [
    "y = x.detach().cpu()\n",
    "y[0] = 15\n",
    "x, y"
   ]
  },
  {
   "cell_type": "code",
   "execution_count": 67,
   "id": "bfd7454f",
   "metadata": {},
   "outputs": [
    {
     "data": {
      "text/plain": [
       "(tensor([150,   2,   3], device='cuda:0'),\n",
       " tensor([150,   2,   3], device='cuda:0'))"
      ]
     },
     "execution_count": 67,
     "metadata": {},
     "output_type": "execute_result"
    }
   ],
   "source": [
    "y = x.detach().to(x.dtype)\n",
    "y[0] = 150\n",
    "x, y"
   ]
  },
  {
   "cell_type": "code",
   "execution_count": 68,
   "id": "d2772a2c",
   "metadata": {},
   "outputs": [
    {
     "name": "stdout",
     "output_type": "stream",
     "text": [
      "tensor([1, 2, 3], device='cuda:0') tensor([20,  2,  3])\n"
     ]
    }
   ],
   "source": [
    "y = torch.tensor([1, 2, 3])\n",
    "x = torch.as_tensor(y).cuda()\n",
    "y[0] = 20\n",
    "print(x, y)"
   ]
  },
  {
   "cell_type": "code",
   "execution_count": 69,
   "id": "acc72dcb",
   "metadata": {},
   "outputs": [
    {
     "name": "stdout",
     "output_type": "stream",
     "text": [
      "tensor(45., grad_fn=<SumBackward0>) tensor([1., 1., 1., 1., 1., 1., 1., 1., 1., 1.])\n",
      "element 0 of tensors does not require grad and does not have a grad_fn\n"
     ]
    },
    {
     "data": {
      "text/plain": [
       "(tensor([1., 1., 1., 1., 1., 1., 1., 1., 1., 1.]),\n",
       " device(type='cpu'),\n",
       " device(type='cpu'),\n",
       " <SumBackward0 at 0x7f17eb7e6730>,\n",
       " False)"
      ]
     },
     "execution_count": 69,
     "metadata": {},
     "output_type": "execute_result"
    }
   ],
   "source": [
    "x = torch.arange(10).float().requires_grad_()\n",
    "y = x.sum()\n",
    "y.backward()\n",
    "print(y, x.grad)\n",
    "z = y.detach() # Grad history removed\n",
    "w = 3*z\n",
    "try:\n",
    "    w.backward()\n",
    "except Exception as e:\n",
    "    assert isinstance(e, RuntimeError)\n",
    "    print(e)\n",
    "x.grad, x.device, z.device, y.grad_fn, z.requires_grad"
   ]
  },
  {
   "cell_type": "code",
   "execution_count": 70,
   "id": "3d86f019-a327-40db-84a4-0bbf94f0e110",
   "metadata": {
    "pycharm": {
     "name": "#%%\n"
    }
   },
   "outputs": [],
   "source": [
    "x = torch.tensor([[1]])"
   ]
  },
  {
   "cell_type": "code",
   "execution_count": 71,
   "id": "ebe074e7-d10b-4f98-a58f-18712e8e1694",
   "metadata": {
    "pycharm": {
     "name": "#%%\n"
    }
   },
   "outputs": [
    {
     "data": {
      "text/plain": [
       "1"
      ]
     },
     "execution_count": 71,
     "metadata": {},
     "output_type": "execute_result"
    }
   ],
   "source": [
    "x.item()"
   ]
  },
  {
   "cell_type": "code",
   "execution_count": 72,
   "id": "d9cf5fec-4e4a-4dd0-879c-2a03def9237f",
   "metadata": {
    "pycharm": {
     "name": "#%%\n"
    }
   },
   "outputs": [],
   "source": [
    "x = torch.from_numpy(np.random.standard_normal((2, 3, 5)))"
   ]
  },
  {
   "cell_type": "code",
   "execution_count": 73,
   "id": "a38e2385-147e-4187-88c7-8bdc2d01beb8",
   "metadata": {
    "pycharm": {
     "name": "#%%\n"
    }
   },
   "outputs": [
    {
     "data": {
      "text/plain": [
       "(tensor([[[ 0.8401, -1.2497,  0.3200,  0.2728, -1.9819],\n",
       "          [-0.4943, -0.8071, -0.0412, -0.6897,  0.1742],\n",
       "          [ 1.2418,  0.2975, -0.6117, -2.8984, -0.3961]],\n",
       " \n",
       "         [[-0.4435, -0.8014,  0.4499,  0.0935, -0.0899],\n",
       "          [ 1.2150, -0.1891, -0.1527, -2.6508, -2.0496],\n",
       "          [-0.0976, -0.1521,  0.4055, -0.0582, -0.4535]]], dtype=torch.float64),\n",
       " torch.Size([2, 3, 5]))"
      ]
     },
     "execution_count": 73,
     "metadata": {},
     "output_type": "execute_result"
    }
   ],
   "source": [
    "x, x.shape"
   ]
  },
  {
   "cell_type": "code",
   "execution_count": 74,
   "id": "c78e2fb6-9164-49cf-bdfc-9b45a3afeb6b",
   "metadata": {
    "pycharm": {
     "name": "#%%\n"
    }
   },
   "outputs": [
    {
     "name": "stderr",
     "output_type": "stream",
     "text": [
      "/tmp/ipykernel_11384/3687214812.py:1: UserWarning: The use of `x.T` on tensors of dimension other than 2 to reverse their shape is deprecated and it will throw an error in a future release. Consider `x.mT` to transpose batches of matrices or `x.permute(*torch.arange(x.ndim - 1, -1, -1))` to reverse the dimensions of a tensor. (Triggered internally at ../aten/src/ATen/native/TensorShape.cpp:3571.)\n",
      "  x.T, x.T.shape\n"
     ]
    },
    {
     "data": {
      "text/plain": [
       "(tensor([[[ 0.8401, -0.4435],\n",
       "          [-0.4943,  1.2150],\n",
       "          [ 1.2418, -0.0976]],\n",
       " \n",
       "         [[-1.2497, -0.8014],\n",
       "          [-0.8071, -0.1891],\n",
       "          [ 0.2975, -0.1521]],\n",
       " \n",
       "         [[ 0.3200,  0.4499],\n",
       "          [-0.0412, -0.1527],\n",
       "          [-0.6117,  0.4055]],\n",
       " \n",
       "         [[ 0.2728,  0.0935],\n",
       "          [-0.6897, -2.6508],\n",
       "          [-2.8984, -0.0582]],\n",
       " \n",
       "         [[-1.9819, -0.0899],\n",
       "          [ 0.1742, -2.0496],\n",
       "          [-0.3961, -0.4535]]], dtype=torch.float64),\n",
       " torch.Size([5, 3, 2]))"
      ]
     },
     "execution_count": 74,
     "metadata": {},
     "output_type": "execute_result"
    }
   ],
   "source": [
    "x.T, x.T.shape"
   ]
  },
  {
   "cell_type": "code",
   "execution_count": 75,
   "id": "e44e4e46-6e86-4093-9e80-4bfb054d95b4",
   "metadata": {
    "pycharm": {
     "name": "#%%\n"
    }
   },
   "outputs": [],
   "source": [
    "# view of x. In place modification does apply\n",
    "y = x.T"
   ]
  },
  {
   "cell_type": "code",
   "execution_count": 76,
   "id": "c102c88e-947c-476f-8c50-a9b02300be07",
   "metadata": {
    "pycharm": {
     "name": "#%%\n"
    }
   },
   "outputs": [],
   "source": [
    "y[0][0][0] = -6"
   ]
  },
  {
   "cell_type": "code",
   "execution_count": 77,
   "id": "73c4b26a-8a6f-4fa0-95af-ebafe47741b7",
   "metadata": {
    "pycharm": {
     "name": "#%%\n"
    }
   },
   "outputs": [
    {
     "data": {
      "text/plain": [
       "tensor([[[-6.0000, -1.2497,  0.3200,  0.2728, -1.9819],\n",
       "         [-0.4943, -0.8071, -0.0412, -0.6897,  0.1742],\n",
       "         [ 1.2418,  0.2975, -0.6117, -2.8984, -0.3961]],\n",
       "\n",
       "        [[-0.4435, -0.8014,  0.4499,  0.0935, -0.0899],\n",
       "         [ 1.2150, -0.1891, -0.1527, -2.6508, -2.0496],\n",
       "         [-0.0976, -0.1521,  0.4055, -0.0582, -0.4535]]], dtype=torch.float64)"
      ]
     },
     "execution_count": 77,
     "metadata": {},
     "output_type": "execute_result"
    }
   ],
   "source": [
    "x"
   ]
  },
  {
   "cell_type": "code",
   "execution_count": 78,
   "id": "bd259a02-bb2f-40a6-8af6-8d4e9c121830",
   "metadata": {
    "pycharm": {
     "name": "#%%\n"
    }
   },
   "outputs": [],
   "source": [
    "z = x.permute((2, 1, 0))"
   ]
  },
  {
   "cell_type": "code",
   "execution_count": 79,
   "id": "da28810f-65ab-487c-a93e-35b95b432648",
   "metadata": {
    "pycharm": {
     "name": "#%%\n"
    }
   },
   "outputs": [
    {
     "data": {
      "text/plain": [
       "tensor([[[-6.0000, -0.4435],\n",
       "         [-0.4943,  1.2150],\n",
       "         [ 1.2418, -0.0976]],\n",
       "\n",
       "        [[-1.2497, -0.8014],\n",
       "         [-0.8071, -0.1891],\n",
       "         [ 0.2975, -0.1521]],\n",
       "\n",
       "        [[ 0.3200,  0.4499],\n",
       "         [-0.0412, -0.1527],\n",
       "         [-0.6117,  0.4055]],\n",
       "\n",
       "        [[ 0.2728,  0.0935],\n",
       "         [-0.6897, -2.6508],\n",
       "         [-2.8984, -0.0582]],\n",
       "\n",
       "        [[-1.9819, -0.0899],\n",
       "         [ 0.1742, -2.0496],\n",
       "         [-0.3961, -0.4535]]], dtype=torch.float64)"
      ]
     },
     "execution_count": 79,
     "metadata": {},
     "output_type": "execute_result"
    }
   ],
   "source": [
    "z"
   ]
  },
  {
   "cell_type": "code",
   "execution_count": 80,
   "id": "6b54b553-07b5-40e9-bfb8-c6c85ddfed7e",
   "metadata": {
    "pycharm": {
     "name": "#%%\n"
    }
   },
   "outputs": [],
   "source": [
    "# View\n",
    "z[0] *= 2"
   ]
  },
  {
   "cell_type": "code",
   "execution_count": 81,
   "id": "09dcff0d-5f46-426b-bb0b-cad07ca302fe",
   "metadata": {
    "pycharm": {
     "name": "#%%\n"
    }
   },
   "outputs": [
    {
     "data": {
      "text/plain": [
       "tensor([[[-12.0000,  -0.8870],\n",
       "         [ -0.9887,   2.4300],\n",
       "         [  2.4836,  -0.1951]],\n",
       "\n",
       "        [[ -1.2497,  -0.8014],\n",
       "         [ -0.8071,  -0.1891],\n",
       "         [  0.2975,  -0.1521]],\n",
       "\n",
       "        [[  0.3200,   0.4499],\n",
       "         [ -0.0412,  -0.1527],\n",
       "         [ -0.6117,   0.4055]],\n",
       "\n",
       "        [[  0.2728,   0.0935],\n",
       "         [ -0.6897,  -2.6508],\n",
       "         [ -2.8984,  -0.0582]],\n",
       "\n",
       "        [[ -1.9819,  -0.0899],\n",
       "         [  0.1742,  -2.0496],\n",
       "         [ -0.3961,  -0.4535]]], dtype=torch.float64)"
      ]
     },
     "execution_count": 81,
     "metadata": {},
     "output_type": "execute_result"
    }
   ],
   "source": [
    "z"
   ]
  },
  {
   "cell_type": "code",
   "execution_count": 82,
   "id": "608b9643-0726-4b4e-bf9e-3952aaa8cd77",
   "metadata": {
    "pycharm": {
     "name": "#%%\n"
    }
   },
   "outputs": [
    {
     "data": {
      "text/plain": [
       "tensor([[[-12.0000,  -1.2497,   0.3200,   0.2728,  -1.9819],\n",
       "         [ -0.9887,  -0.8071,  -0.0412,  -0.6897,   0.1742],\n",
       "         [  2.4836,   0.2975,  -0.6117,  -2.8984,  -0.3961]],\n",
       "\n",
       "        [[ -0.8870,  -0.8014,   0.4499,   0.0935,  -0.0899],\n",
       "         [  2.4300,  -0.1891,  -0.1527,  -2.6508,  -2.0496],\n",
       "         [ -0.1951,  -0.1521,   0.4055,  -0.0582,  -0.4535]]],\n",
       "       dtype=torch.float64)"
      ]
     },
     "execution_count": 82,
     "metadata": {},
     "output_type": "execute_result"
    }
   ],
   "source": [
    "x"
   ]
  },
  {
   "cell_type": "code",
   "execution_count": 83,
   "id": "f0cdc5b6-31b4-4b8f-868c-fd2d8d0ce0ef",
   "metadata": {
    "pycharm": {
     "name": "#%%\n"
    }
   },
   "outputs": [
    {
     "data": {
      "text/plain": [
       "torch.Size([2, 3, 5])"
      ]
     },
     "execution_count": 83,
     "metadata": {},
     "output_type": "execute_result"
    }
   ],
   "source": [
    "x.shape"
   ]
  },
  {
   "cell_type": "code",
   "execution_count": 84,
   "id": "d933d874-46d4-48ea-8686-4e1c68cac5ae",
   "metadata": {
    "pycharm": {
     "name": "#%%\n"
    }
   },
   "outputs": [
    {
     "data": {
      "text/plain": [
       "(tensor([[[-12.0000,  -0.8870],\n",
       "          [ -0.9887,   2.4300],\n",
       "          [  2.4836,  -0.1951]],\n",
       " \n",
       "         [[ -1.2497,  -0.8014],\n",
       "          [ -0.8071,  -0.1891],\n",
       "          [  0.2975,  -0.1521]],\n",
       " \n",
       "         [[  0.3200,   0.4499],\n",
       "          [ -0.0412,  -0.1527],\n",
       "          [ -0.6117,   0.4055]],\n",
       " \n",
       "         [[  0.2728,   0.0935],\n",
       "          [ -0.6897,  -2.6508],\n",
       "          [ -2.8984,  -0.0582]],\n",
       " \n",
       "         [[ -1.9819,  -0.0899],\n",
       "          [  0.1742,  -2.0496],\n",
       "          [ -0.3961,  -0.4535]]], dtype=torch.float64),\n",
       " torch.Size([5, 3, 2]))"
      ]
     },
     "execution_count": 84,
     "metadata": {},
     "output_type": "execute_result"
    }
   ],
   "source": [
    "x.T, x.T.shape"
   ]
  },
  {
   "cell_type": "code",
   "execution_count": 85,
   "id": "cb8c0073-42f7-4ed2-b797-07d4af7f3911",
   "metadata": {
    "pycharm": {
     "name": "#%%\n"
    }
   },
   "outputs": [
    {
     "data": {
      "text/plain": [
       "tensor([[[-12.0000,  -0.9887,   2.4836],\n",
       "         [ -1.2497,  -0.8071,   0.2975],\n",
       "         [  0.3200,  -0.0412,  -0.6117],\n",
       "         [  0.2728,  -0.6897,  -2.8984],\n",
       "         [ -1.9819,   0.1742,  -0.3961]],\n",
       "\n",
       "        [[ -0.8870,   2.4300,  -0.1951],\n",
       "         [ -0.8014,  -0.1891,  -0.1521],\n",
       "         [  0.4499,  -0.1527,   0.4055],\n",
       "         [  0.0935,  -2.6508,  -0.0582],\n",
       "         [ -0.0899,  -2.0496,  -0.4535]]], dtype=torch.float64)"
      ]
     },
     "execution_count": 85,
     "metadata": {},
     "output_type": "execute_result"
    }
   ],
   "source": [
    "x.mT"
   ]
  },
  {
   "cell_type": "code",
   "execution_count": 86,
   "id": "7a89918e-75da-436a-af9b-4d9cd749d12b",
   "metadata": {
    "pycharm": {
     "name": "#%%\n"
    }
   },
   "outputs": [
    {
     "data": {
      "text/plain": [
       "torch.Size([2, 5, 3])"
      ]
     },
     "execution_count": 86,
     "metadata": {},
     "output_type": "execute_result"
    }
   ],
   "source": [
    "x.mT.shape"
   ]
  },
  {
   "cell_type": "code",
   "execution_count": 87,
   "id": "06028186",
   "metadata": {},
   "outputs": [
    {
     "data": {
      "text/plain": [
       "torch.Size([5, 3, 2])"
      ]
     },
     "execution_count": 87,
     "metadata": {},
     "output_type": "execute_result"
    }
   ],
   "source": [
    "z.size()"
   ]
  },
  {
   "cell_type": "code",
   "execution_count": 88,
   "id": "362bb1b0",
   "metadata": {},
   "outputs": [
    {
     "name": "stdout",
     "output_type": "stream",
     "text": [
      "view size is not compatible with input tensor's size and stride (at least one dimension spans across two contiguous subspaces). Use .reshape(...) instead.\n"
     ]
    }
   ],
   "source": [
    "try:\n",
    "    z.view(1, 5, 6)\n",
    "except Exception as e:\n",
    "    print(e)\n",
    "    "
   ]
  },
  {
   "cell_type": "code",
   "execution_count": 89,
   "id": "e40fb4f8",
   "metadata": {},
   "outputs": [
    {
     "data": {
      "text/plain": [
       "tensor([[[-12.0000,  -0.8870,  -0.9887,   2.4300,   2.4836,  -0.1951],\n",
       "         [ -1.2497,  -0.8014,  -0.8071,  -0.1891,   0.2975,  -0.1521],\n",
       "         [  0.3200,   0.4499,  -0.0412,  -0.1527,  -0.6117,   0.4055],\n",
       "         [  0.2728,   0.0935,  -0.6897,  -2.6508,  -2.8984,  -0.0582],\n",
       "         [ -1.9819,  -0.0899,   0.1742,  -2.0496,  -0.3961,  -0.4535]]],\n",
       "       dtype=torch.float64)"
      ]
     },
     "execution_count": 89,
     "metadata": {},
     "output_type": "execute_result"
    }
   ],
   "source": [
    "z.contiguous().view(1, 5, 6)"
   ]
  },
  {
   "cell_type": "code",
   "execution_count": 90,
   "id": "af2be5b6",
   "metadata": {},
   "outputs": [
    {
     "data": {
      "text/plain": [
       "False"
      ]
     },
     "execution_count": 90,
     "metadata": {},
     "output_type": "execute_result"
    }
   ],
   "source": [
    "z.contiguous() is z"
   ]
  },
  {
   "cell_type": "code",
   "execution_count": 91,
   "id": "77c93a59-14ca-47f2-9064-49439aa12fb0",
   "metadata": {
    "pycharm": {
     "name": "#%%\n"
    }
   },
   "outputs": [],
   "source": [
    "x = torch.from_numpy(np.random.standard_normal((2, 4, 3)))"
   ]
  },
  {
   "cell_type": "code",
   "execution_count": 92,
   "id": "02361535-2df5-4540-b070-03eb3cdabd2c",
   "metadata": {
    "pycharm": {
     "name": "#%%\n"
    }
   },
   "outputs": [
    {
     "data": {
      "text/plain": [
       "tensor([[[-0.7509, -1.4357,  0.6673],\n",
       "         [ 0.9800,  1.0506, -2.7861],\n",
       "         [-1.2900,  0.3528, -0.9873],\n",
       "         [ 1.7662,  1.6340, -1.2444]],\n",
       "\n",
       "        [[ 0.4815, -1.6657,  1.2088],\n",
       "         [ 0.4361, -1.5371, -0.0290],\n",
       "         [-0.3853,  1.3921, -0.0270],\n",
       "         [-0.0472, -1.2953,  1.2597]]], dtype=torch.float64)"
      ]
     },
     "execution_count": 92,
     "metadata": {},
     "output_type": "execute_result"
    }
   ],
   "source": [
    "x"
   ]
  },
  {
   "cell_type": "code",
   "execution_count": 93,
   "id": "033c1688-8a1e-4a1d-ac8e-b35eacfb32b2",
   "metadata": {
    "pycharm": {
     "name": "#%%\n"
    }
   },
   "outputs": [
    {
     "data": {
      "text/plain": [
       "tensor([[[-0.7509,  0.4815],\n",
       "         [-1.4357, -1.6657],\n",
       "         [ 0.6673,  1.2088]],\n",
       "\n",
       "        [[ 0.9800,  0.4361],\n",
       "         [ 1.0506, -1.5371],\n",
       "         [-2.7861, -0.0290]],\n",
       "\n",
       "        [[-1.2900, -0.3853],\n",
       "         [ 0.3528,  1.3921],\n",
       "         [-0.9873, -0.0270]],\n",
       "\n",
       "        [[ 1.7662, -0.0472],\n",
       "         [ 1.6340, -1.2953],\n",
       "         [-1.2444,  1.2597]]], dtype=torch.float64)"
      ]
     },
     "execution_count": 93,
     "metadata": {},
     "output_type": "execute_result"
    }
   ],
   "source": [
    "x.permute((1, -1, 0))"
   ]
  },
  {
   "cell_type": "code",
   "execution_count": 94,
   "id": "5a62ba69-7113-4b71-92c2-78cd621b9adf",
   "metadata": {
    "pycharm": {
     "name": "#%%\n"
    }
   },
   "outputs": [
    {
     "data": {
      "text/plain": [
       "torch.Size([4, 3, 2])"
      ]
     },
     "execution_count": 94,
     "metadata": {},
     "output_type": "execute_result"
    }
   ],
   "source": [
    "x.permute((1, -1, 0)).shape"
   ]
  },
  {
   "cell_type": "code",
   "execution_count": 95,
   "id": "7ac36dda-6fce-41c6-86e1-53fa853cd181",
   "metadata": {
    "pycharm": {
     "name": "#%%\n"
    }
   },
   "outputs": [
    {
     "data": {
      "text/plain": [
       "tensor([[0., 0., 0., 0., 0.],\n",
       "        [0., 0., 0., 0., 0.],\n",
       "        [0., 0., 0., 0., 0.],\n",
       "        [0., 0., 0., 0., 0.],\n",
       "        [0., 0., 0., 0., 0.],\n",
       "        [0., 0., 0., 0., 0.],\n",
       "        [0., 0., 0., 0., 0.],\n",
       "        [0., 0., 0., 0., 0.],\n",
       "        [0., 0., 0., 0., 0.],\n",
       "        [0., 0., 0., 0., 0.]])"
      ]
     },
     "execution_count": 95,
     "metadata": {},
     "output_type": "execute_result"
    }
   ],
   "source": [
    "torch.zeros((10, 5))"
   ]
  },
  {
   "cell_type": "code",
   "execution_count": 96,
   "id": "ddc2c0e0-96f8-40be-96ca-8a1ba6fd5733",
   "metadata": {
    "pycharm": {
     "name": "#%%\n"
    }
   },
   "outputs": [
    {
     "data": {
      "text/plain": [
       "tensor([[1., 1., 1., 1., 1.],\n",
       "        [1., 1., 1., 1., 1.],\n",
       "        [1., 1., 1., 1., 1.],\n",
       "        [1., 1., 1., 1., 1.],\n",
       "        [1., 1., 1., 1., 1.],\n",
       "        [1., 1., 1., 1., 1.],\n",
       "        [1., 1., 1., 1., 1.],\n",
       "        [1., 1., 1., 1., 1.],\n",
       "        [1., 1., 1., 1., 1.],\n",
       "        [1., 1., 1., 1., 1.]])"
      ]
     },
     "execution_count": 96,
     "metadata": {},
     "output_type": "execute_result"
    }
   ],
   "source": [
    "torch.ones((10, 5))"
   ]
  },
  {
   "cell_type": "code",
   "execution_count": 97,
   "id": "76c7ac0a-59c1-47e3-bbe7-ed13fd87c626",
   "metadata": {
    "pycharm": {
     "name": "#%%\n"
    }
   },
   "outputs": [
    {
     "data": {
      "text/plain": [
       "device(type='cpu')"
      ]
     },
     "execution_count": 97,
     "metadata": {},
     "output_type": "execute_result"
    }
   ],
   "source": [
    "x.device"
   ]
  },
  {
   "cell_type": "code",
   "execution_count": 98,
   "id": "515e3c03-4e35-4bb4-a025-23a6b1273c07",
   "metadata": {
    "pycharm": {
     "name": "#%%\n"
    }
   },
   "outputs": [
    {
     "data": {
      "text/plain": [
       "device(type='cpu')"
      ]
     },
     "execution_count": 98,
     "metadata": {},
     "output_type": "execute_result"
    }
   ],
   "source": [
    "torch.device(\"cpu\")"
   ]
  },
  {
   "cell_type": "code",
   "execution_count": 99,
   "id": "f2ba9996-a166-4cae-a10c-66538a370b01",
   "metadata": {
    "pycharm": {
     "name": "#%%\n"
    }
   },
   "outputs": [
    {
     "data": {
      "text/plain": [
       "device(type='cuda', index=0)"
      ]
     },
     "execution_count": 99,
     "metadata": {},
     "output_type": "execute_result"
    }
   ],
   "source": [
    "torch.device(\"cuda:0\")"
   ]
  },
  {
   "cell_type": "code",
   "execution_count": 100,
   "id": "c2de43a3-4a41-4948-8553-3d21aa971642",
   "metadata": {
    "pycharm": {
     "name": "#%%\n"
    }
   },
   "outputs": [
    {
     "data": {
      "text/plain": [
       "24"
      ]
     },
     "execution_count": 100,
     "metadata": {},
     "output_type": "execute_result"
    }
   ],
   "source": [
    "# Product of x size shape\n",
    "x.numel()"
   ]
  },
  {
   "cell_type": "code",
   "execution_count": 101,
   "id": "1d297107-20b2-4ab0-96e0-2328c28df603",
   "metadata": {
    "pycharm": {
     "name": "#%%\n"
    }
   },
   "outputs": [
    {
     "data": {
      "text/plain": [
       "torch.float64"
      ]
     },
     "execution_count": 101,
     "metadata": {},
     "output_type": "execute_result"
    }
   ],
   "source": [
    "x.dtype"
   ]
  },
  {
   "cell_type": "code",
   "execution_count": 102,
   "id": "39661bd8-c6ed-44a6-9bef-9c548bcf87f2",
   "metadata": {
    "pycharm": {
     "name": "#%%\n"
    }
   },
   "outputs": [
    {
     "data": {
      "text/plain": [
       "torch.float32"
      ]
     },
     "execution_count": 102,
     "metadata": {},
     "output_type": "execute_result"
    }
   ],
   "source": [
    "torch.get_default_dtype()"
   ]
  },
  {
   "cell_type": "code",
   "execution_count": 103,
   "id": "aba45475-aaee-4739-a40b-d1ccfe14272a",
   "metadata": {
    "pycharm": {
     "name": "#%%\n"
    }
   },
   "outputs": [
    {
     "data": {
      "text/plain": [
       "(tensor([2., 3.]), torch.float64)"
      ]
     },
     "execution_count": 103,
     "metadata": {},
     "output_type": "execute_result"
    }
   ],
   "source": [
    "torch.set_default_dtype(torch.float64)\n",
    "x = torch.tensor([2.0, 3.0])\n",
    "x, x.dtype"
   ]
  },
  {
   "cell_type": "code",
   "execution_count": 104,
   "id": "545ead16-b2f4-49ab-8660-4ea121a064e3",
   "metadata": {
    "pycharm": {
     "name": "#%%\n"
    }
   },
   "outputs": [
    {
     "data": {
      "text/plain": [
       "torch.float64"
      ]
     },
     "execution_count": 104,
     "metadata": {},
     "output_type": "execute_result"
    }
   ],
   "source": [
    "torch.get_default_dtype()"
   ]
  },
  {
   "cell_type": "code",
   "execution_count": 105,
   "id": "941b86e6-2ce1-4394-b252-aec18d5a50c4",
   "metadata": {
    "pycharm": {
     "name": "#%%\n"
    }
   },
   "outputs": [],
   "source": [
    "torch.set_default_dtype(torch.float32)"
   ]
  },
  {
   "cell_type": "code",
   "execution_count": 106,
   "id": "e664b192-2558-4a5f-9db7-1d22bf260ccd",
   "metadata": {
    "pycharm": {
     "name": "#%%\n"
    }
   },
   "outputs": [
    {
     "data": {
      "text/plain": [
       "(tensor([2., 3.]), torch.float32)"
      ]
     },
     "execution_count": 106,
     "metadata": {},
     "output_type": "execute_result"
    }
   ],
   "source": [
    "x = torch.tensor([2.0, 3.0])\n",
    "x, x.dtype"
   ]
  },
  {
   "cell_type": "code",
   "execution_count": 107,
   "id": "db624dda",
   "metadata": {},
   "outputs": [
    {
     "name": "stderr",
     "output_type": "stream",
     "text": [
      "/tmp/ipykernel_11384/1275431606.py:2: UserWarning: To copy construct from a tensor, it is recommended to use sourceTensor.clone().detach() or sourceTensor.clone().detach().requires_grad_(True), rather than torch.tensor(sourceTensor).\n",
      "  y = torch.tensor(x)\n"
     ]
    },
    {
     "data": {
      "text/plain": [
       "(tensor([1., 2., 3.], device='cuda:0'), tensor([1., 2., 3.], device='cuda:0'))"
      ]
     },
     "execution_count": 107,
     "metadata": {},
     "output_type": "execute_result"
    }
   ],
   "source": [
    "x = torch.tensor([1.0, 2.0, 3.0]).cuda()\n",
    "y = torch.tensor(x)\n",
    "x, y"
   ]
  },
  {
   "cell_type": "code",
   "execution_count": 108,
   "id": "c73fbdab",
   "metadata": {},
   "outputs": [
    {
     "name": "stderr",
     "output_type": "stream",
     "text": [
      "/tmp/ipykernel_11384/3518871083.py:2: UserWarning: To copy construct from a tensor, it is recommended to use sourceTensor.clone().detach() or sourceTensor.clone().detach().requires_grad_(True), rather than torch.tensor(sourceTensor).\n",
      "  y = torch.tensor(x)\n"
     ]
    },
    {
     "data": {
      "text/plain": [
       "(tensor([1., 2., 3.], device='cuda:0', requires_grad=True),\n",
       " tensor([1., 2., 3.], device='cuda:0'))"
      ]
     },
     "execution_count": 108,
     "metadata": {},
     "output_type": "execute_result"
    }
   ],
   "source": [
    "x = torch.tensor([1.0, 2.0, 3.0]).cuda().requires_grad_()\n",
    "y = torch.tensor(x)\n",
    "x, y"
   ]
  },
  {
   "cell_type": "code",
   "execution_count": 109,
   "id": "774aeae5",
   "metadata": {},
   "outputs": [
    {
     "data": {
      "text/plain": [
       "(tensor([1., 2., 3.], device='cuda:0', requires_grad=True),\n",
       " tensor([1., 2., 3.], device='cuda:0', requires_grad=True))"
      ]
     },
     "execution_count": 109,
     "metadata": {},
     "output_type": "execute_result"
    }
   ],
   "source": [
    "x = torch.tensor([1.0, 2.0, 3.0]).cuda().requires_grad_()\n",
    "y = torch.as_tensor(x)\n",
    "x, y"
   ]
  },
  {
   "cell_type": "code",
   "execution_count": 110,
   "id": "439af4f6",
   "metadata": {},
   "outputs": [
    {
     "data": {
      "text/plain": [
       "(tensor([1., 2., 3.], device='cuda:0', requires_grad=True),\n",
       " tensor([1., 2., 3.], grad_fn=<ToCopyBackward0>))"
      ]
     },
     "execution_count": 110,
     "metadata": {},
     "output_type": "execute_result"
    }
   ],
   "source": [
    "x = torch.tensor([1.0, 2.0, 3.0]).cuda().requires_grad_()\n",
    "y = torch.as_tensor(x).cpu()\n",
    "x, y"
   ]
  },
  {
   "cell_type": "code",
   "execution_count": 111,
   "id": "8a39ceb2",
   "metadata": {},
   "outputs": [
    {
     "name": "stderr",
     "output_type": "stream",
     "text": [
      "/tmp/ipykernel_11384/1466604540.py:5: UserWarning: The .grad attribute of a Tensor that is not a leaf Tensor is being accessed. Its .grad attribute won't be populated during autograd.backward(). If you indeed want the .grad field to be populated for a non-leaf Tensor, use .retain_grad() on the non-leaf Tensor. If you access the non-leaf Tensor by mistake, make sure you access the leaf Tensor instead. See github.com/pytorch/pytorch/pull/30531 for more informations. (Triggered internally at aten/src/ATen/core/TensorBody.h:486.)\n",
      "  x.grad, y.grad\n"
     ]
    },
    {
     "data": {
      "text/plain": [
       "(tensor([1., 1., 1.], device='cuda:0'), None)"
      ]
     },
     "execution_count": 111,
     "metadata": {},
     "output_type": "execute_result"
    }
   ],
   "source": [
    "x = torch.tensor([1.0, 2.0, 3.0]).cuda().requires_grad_()\n",
    "y = torch.as_tensor(x).cpu()\n",
    "z = y.sum()\n",
    "z.backward()\n",
    "x.grad, y.grad"
   ]
  },
  {
   "cell_type": "code",
   "execution_count": 112,
   "id": "3381207a",
   "metadata": {},
   "outputs": [
    {
     "name": "stderr",
     "output_type": "stream",
     "text": [
      "/tmp/ipykernel_11384/4188210077.py:5: UserWarning: The .grad attribute of a Tensor that is not a leaf Tensor is being accessed. Its .grad attribute won't be populated during autograd.backward(). If you indeed want the .grad field to be populated for a non-leaf Tensor, use .retain_grad() on the non-leaf Tensor. If you access the non-leaf Tensor by mistake, make sure you access the leaf Tensor instead. See github.com/pytorch/pytorch/pull/30531 for more informations. (Triggered internally at aten/src/ATen/core/TensorBody.h:486.)\n",
      "  x.grad, y.grad\n"
     ]
    },
    {
     "data": {
      "text/plain": [
       "(tensor([2., 2., 2.], device='cuda:0'), None)"
      ]
     },
     "execution_count": 112,
     "metadata": {},
     "output_type": "execute_result"
    }
   ],
   "source": [
    "x = torch.tensor([1.0, 2.0, 3.0]).cuda().requires_grad_()\n",
    "y = torch.as_tensor(x).cpu()\n",
    "z = y.sum() + x.sum()\n",
    "z.backward()\n",
    "x.grad, y.grad\n"
   ]
  },
  {
   "cell_type": "code",
   "execution_count": 113,
   "id": "62f52a95",
   "metadata": {},
   "outputs": [
    {
     "name": "stderr",
     "output_type": "stream",
     "text": [
      "/tmp/ipykernel_11384/2049015638.py:5: UserWarning: The .grad attribute of a Tensor that is not a leaf Tensor is being accessed. Its .grad attribute won't be populated during autograd.backward(). If you indeed want the .grad field to be populated for a non-leaf Tensor, use .retain_grad() on the non-leaf Tensor. If you access the non-leaf Tensor by mistake, make sure you access the leaf Tensor instead. See github.com/pytorch/pytorch/pull/30531 for more informations. (Triggered internally at aten/src/ATen/core/TensorBody.h:486.)\n",
      "  x.grad, y.grad, y\n"
     ]
    },
    {
     "data": {
      "text/plain": [
       "(tensor([2., 2., 2.], device='cuda:0'),\n",
       " None,\n",
       " tensor([1., 2., 3.], grad_fn=<ToCopyBackward0>))"
      ]
     },
     "execution_count": 113,
     "metadata": {},
     "output_type": "execute_result"
    }
   ],
   "source": [
    "x = torch.tensor([1.0, 2.0, 3.0]).cuda().requires_grad_()\n",
    "y = torch.as_tensor(x).cpu().requires_grad_()\n",
    "z = y.sum() + x.sum()\n",
    "z.backward()\n",
    "x.grad, y.grad, y\n"
   ]
  },
  {
   "cell_type": "code",
   "execution_count": 114,
   "id": "a7a6a462-57bb-403b-9380-7caa730c08db",
   "metadata": {
    "pycharm": {
     "name": "#%%\n"
    }
   },
   "outputs": [],
   "source": [
    "a = torch.tensor([1, 2, 3.], requires_grad=True).cuda()"
   ]
  },
  {
   "cell_type": "code",
   "execution_count": 115,
   "id": "600dec67-3b29-407a-8680-397ffd0b71aa",
   "metadata": {
    "pycharm": {
     "name": "#%%\n"
    }
   },
   "outputs": [],
   "source": [
    "b = torch.asarray(a)"
   ]
  },
  {
   "cell_type": "code",
   "execution_count": 116,
   "id": "6c6989a4-02f4-4788-9964-9fb34ab376fd",
   "metadata": {
    "pycharm": {
     "name": "#%%\n"
    }
   },
   "outputs": [
    {
     "data": {
      "text/plain": [
       "tensor([1., 2., 3.], device='cuda:0')"
      ]
     },
     "execution_count": 116,
     "metadata": {},
     "output_type": "execute_result"
    }
   ],
   "source": [
    "b"
   ]
  },
  {
   "cell_type": "code",
   "execution_count": 117,
   "id": "29427df4-4534-47d6-ba8f-1bf065f280a1",
   "metadata": {
    "pycharm": {
     "name": "#%%\n"
    }
   },
   "outputs": [
    {
     "data": {
      "text/plain": [
       "(False, device(type='cuda', index=0))"
      ]
     },
     "execution_count": 117,
     "metadata": {},
     "output_type": "execute_result"
    }
   ],
   "source": [
    "b.requires_grad, b.device"
   ]
  },
  {
   "cell_type": "code",
   "execution_count": 118,
   "id": "5065f931",
   "metadata": {},
   "outputs": [
    {
     "data": {
      "text/plain": [
       "(139735974550016, 139735974550016)"
      ]
     },
     "execution_count": 118,
     "metadata": {},
     "output_type": "execute_result"
    }
   ],
   "source": [
    "a.data_ptr(), b.data_ptr()"
   ]
  },
  {
   "cell_type": "code",
   "execution_count": 119,
   "id": "4f094357-b3f8-4988-b5cf-4a1e55431bed",
   "metadata": {
    "pycharm": {
     "name": "#%%\n"
    }
   },
   "outputs": [
    {
     "data": {
      "text/plain": [
       "True"
      ]
     },
     "execution_count": 119,
     "metadata": {},
     "output_type": "execute_result"
    }
   ],
   "source": [
    "a.requires_grad"
   ]
  },
  {
   "cell_type": "code",
   "execution_count": 120,
   "id": "03740507",
   "metadata": {},
   "outputs": [
    {
     "data": {
      "text/plain": [
       "(tensor([2., 3., 4.], device='cuda:0', grad_fn=<AddBackward0>),\n",
       " tensor([2., 3., 4.], device='cuda:0'))"
      ]
     },
     "execution_count": 120,
     "metadata": {},
     "output_type": "execute_result"
    }
   ],
   "source": [
    "a += 1\n",
    "a, b"
   ]
  },
  {
   "cell_type": "code",
   "execution_count": 121,
   "id": "19bb6f41-2ab8-4fb2-bb32-bcc77c92fd95",
   "metadata": {
    "pycharm": {
     "name": "#%%\n"
    }
   },
   "outputs": [
    {
     "data": {
      "text/plain": [
       "(tensor([2., 3., 4.], device='cuda:0', grad_fn=<AddBackward0>),\n",
       " device(type='cuda', index=0),\n",
       " True)"
      ]
     },
     "execution_count": 121,
     "metadata": {},
     "output_type": "execute_result"
    }
   ],
   "source": [
    "b = torch.asarray(a, requires_grad=True)\n",
    "b, b.device, b.requires_grad"
   ]
  },
  {
   "cell_type": "code",
   "execution_count": 122,
   "id": "87a4a4ef-1356-473e-a077-cdef8dba994b",
   "metadata": {
    "pycharm": {
     "name": "#%%\n"
    }
   },
   "outputs": [
    {
     "data": {
      "text/plain": [
       "(tensor([4., 6., 8.], device='cuda:0', grad_fn=<MulBackward0>),\n",
       " tensor([4., 6., 8.], device='cuda:0', grad_fn=<MulBackward0>))"
      ]
     },
     "execution_count": 122,
     "metadata": {},
     "output_type": "execute_result"
    }
   ],
   "source": [
    "a *= 2\n",
    "a, b"
   ]
  },
  {
   "cell_type": "code",
   "execution_count": 123,
   "id": "b4aa8a5e-fc73-424f-9e14-e07b2a61143b",
   "metadata": {
    "pycharm": {
     "name": "#%%\n"
    }
   },
   "outputs": [
    {
     "data": {
      "text/plain": [
       "True"
      ]
     },
     "execution_count": 123,
     "metadata": {},
     "output_type": "execute_result"
    }
   ],
   "source": [
    "a.data_ptr() == b.data_ptr()"
   ]
  },
  {
   "cell_type": "code",
   "execution_count": 124,
   "id": "61f9d325-80fa-434f-88dd-b2330ab9650b",
   "metadata": {
    "pycharm": {
     "name": "#%%\n"
    }
   },
   "outputs": [
    {
     "data": {
      "text/plain": [
       "False"
      ]
     },
     "execution_count": 124,
     "metadata": {},
     "output_type": "execute_result"
    }
   ],
   "source": [
    "c = torch.asarray(a, copy=True)\n",
    "c.data_ptr() == a.data_ptr()"
   ]
  },
  {
   "cell_type": "code",
   "execution_count": 125,
   "id": "8fb073dd-df97-4cf2-878a-db16703b269c",
   "metadata": {
    "pycharm": {
     "name": "#%%\n"
    }
   },
   "outputs": [],
   "source": [
    "a *= 2"
   ]
  },
  {
   "cell_type": "code",
   "execution_count": 126,
   "id": "7a0711f0-529b-44f9-ab90-2b1e66405ac2",
   "metadata": {
    "pycharm": {
     "name": "#%%\n"
    }
   },
   "outputs": [
    {
     "data": {
      "text/plain": [
       "(tensor([ 8., 12., 16.], device='cuda:0', grad_fn=<MulBackward0>),\n",
       " tensor([ 8., 12., 16.], device='cuda:0', grad_fn=<MulBackward0>),\n",
       " tensor([4., 6., 8.], device='cuda:0'))"
      ]
     },
     "execution_count": 126,
     "metadata": {},
     "output_type": "execute_result"
    }
   ],
   "source": [
    "a, b, c"
   ]
  },
  {
   "cell_type": "code",
   "execution_count": 127,
   "id": "8db677d0",
   "metadata": {},
   "outputs": [
    {
     "data": {
      "text/plain": [
       "(False,\n",
       " tensor([16., 24., 32.], device='cuda:0', grad_fn=<MulBackward0>),\n",
       " tensor([ 8., 12., 16.]))"
      ]
     },
     "execution_count": 127,
     "metadata": {},
     "output_type": "execute_result"
    }
   ],
   "source": [
    "d = torch.asarray(a, device=\"cpu\")\n",
    "a *= 2\n",
    "d.data_ptr() == a.data_ptr(), a, d"
   ]
  },
  {
   "cell_type": "code",
   "execution_count": 128,
   "id": "9084eb5b",
   "metadata": {},
   "outputs": [
    {
     "data": {
      "text/plain": [
       "(tensor([1., 2., 3.], device='cuda:0', grad_fn=<ToCopyBackward0>),\n",
       " tensor([1., 2., 3.], device='cuda:0'))"
      ]
     },
     "execution_count": 128,
     "metadata": {},
     "output_type": "execute_result"
    }
   ],
   "source": [
    "a = torch.tensor([1, 2, 3.], requires_grad=True).cuda()\n",
    "b = torch.asarray(a)\n",
    "a, b"
   ]
  },
  {
   "cell_type": "code",
   "execution_count": 129,
   "id": "de1c0f01",
   "metadata": {},
   "outputs": [
    {
     "data": {
      "text/plain": [
       "(tensor([1., 1., 1.]), tensor([1., 2., 3.], requires_grad=True))"
      ]
     },
     "execution_count": 129,
     "metadata": {},
     "output_type": "execute_result"
    }
   ],
   "source": [
    "a = torch.tensor([1, 2, 3.], requires_grad=True)\n",
    "c = a.sum()\n",
    "c.backward()\n",
    "a.grad, a"
   ]
  },
  {
   "cell_type": "code",
   "execution_count": 130,
   "id": "748257cd",
   "metadata": {},
   "outputs": [
    {
     "name": "stdout",
     "output_type": "stream",
     "text": [
      "tensor([1., 2., 3.], requires_grad=True)\n"
     ]
    },
    {
     "data": {
      "text/plain": [
       "(tensor([1., 2., 3.]), tensor([1., 2., 3.]))"
      ]
     },
     "execution_count": 130,
     "metadata": {},
     "output_type": "execute_result"
    }
   ],
   "source": [
    "a = torch.tensor([1, 2, 3.], requires_grad=True)\n",
    "print(a)\n",
    "b = torch.asarray(a) # change the grad op\n",
    "c = a.sum()\n",
    "assert a.requires_grad is False\n",
    "a, b"
   ]
  },
  {
   "cell_type": "code",
   "execution_count": 131,
   "id": "693597bb",
   "metadata": {},
   "outputs": [
    {
     "name": "stdout",
     "output_type": "stream",
     "text": [
      "tensor([1., 2., 3.], requires_grad=True)\n"
     ]
    },
    {
     "data": {
      "text/plain": [
       "(tensor([1., 2., 3.], requires_grad=True),\n",
       " tensor([1., 2., 3.], device='cuda:0'))"
      ]
     },
     "execution_count": 131,
     "metadata": {},
     "output_type": "execute_result"
    }
   ],
   "source": [
    "a = torch.tensor([1, 2, 3.], requires_grad=True)\n",
    "print(a)\n",
    "b = torch.asarray(a, device=x.device) # change the grad op\n",
    "c = a.sum()\n",
    "# assert a.requires_grad is False\n",
    "a, b"
   ]
  },
  {
   "cell_type": "code",
   "execution_count": 1195,
   "id": "ddab725f",
   "metadata": {},
   "outputs": [
    {
     "name": "stdout",
     "output_type": "stream",
     "text": [
      "Before a:  tensor([1., 2., 3.], device='cuda:0', requires_grad=True)\n",
      "After a:  tensor([1., 2., 3.], device='cuda:0') tensor([1., 2., 3.], device='cuda:0')\n"
     ]
    }
   ],
   "source": [
    "a = torch.tensor([1, 2, 3.], requires_grad=True, device=torch.device(\"cuda:0\"))\n",
    "print(\"Before a: \", a)\n",
    "b = torch.asarray(a, dtype=a.dtype)\n",
    "c = a.sum()\n",
    "print(\"After a: \", a, b)\n",
    "assert a.requires_grad is False"
   ]
  },
  {
   "cell_type": "code",
   "execution_count": 133,
   "id": "b17855c0",
   "metadata": {},
   "outputs": [
    {
     "name": "stdout",
     "output_type": "stream",
     "text": [
      "tensor([1., 2., 3.], device='cuda:0', requires_grad=True) tensor([1., 2., 3.])\n"
     ]
    },
    {
     "data": {
      "text/plain": [
       "(tensor([1., 1., 1.], device='cuda:0'), None)"
      ]
     },
     "execution_count": 133,
     "metadata": {},
     "output_type": "execute_result"
    }
   ],
   "source": [
    "a = torch.tensor([1, 2, 3.], requires_grad=True, device=torch.device(\"cuda:0\"))\n",
    "b = torch.asarray(a, device=\"cpu\")\n",
    "c = a.sum() + b.sum()\n",
    "c.backward()\n",
    "print(a, b)\n",
    "a.grad, b.grad"
   ]
  },
  {
   "cell_type": "code",
   "execution_count": 1196,
   "id": "e7c8b5b0",
   "metadata": {},
   "outputs": [
    {
     "data": {
      "text/plain": [
       "(tensor([2., 2., 2.], device='cuda:0'), None)"
      ]
     },
     "execution_count": 1196,
     "metadata": {},
     "output_type": "execute_result"
    }
   ],
   "source": [
    "a = torch.tensor([1, 2, 3.], requires_grad=True, device=torch.device(\"cuda:0\"))\n",
    "b = torch.asarray(a, dtype=torch.float64)\n",
    "c = a.sum() + a.sum() + b.sum()\n",
    "c.backward()\n",
    "a.grad, b.grad"
   ]
  },
  {
   "cell_type": "code",
   "execution_count": 135,
   "id": "132556ed",
   "metadata": {},
   "outputs": [],
   "source": [
    "a = torch.tensor([1, 2, 3.], requires_grad=True, device=torch.device(\"cuda:0\"))\n",
    "b = torch.asarray(a, dtype=torch.float32)\n",
    "c = a.sum()\n",
    "assert a.requires_grad is False"
   ]
  },
  {
   "cell_type": "code",
   "execution_count": 136,
   "id": "ccb33a35",
   "metadata": {},
   "outputs": [],
   "source": [
    "a = torch.tensor([1, 2, 3.], requires_grad=True, device=torch.device(\"cuda:0\"))\n",
    "b = torch.asarray(a, dtype=a.dtype)\n",
    "c = a.sum()\n",
    "assert a.requires_grad is False"
   ]
  },
  {
   "cell_type": "code",
   "execution_count": 137,
   "id": "a0d0e47b",
   "metadata": {},
   "outputs": [
    {
     "data": {
      "text/plain": [
       "(tensor([2., 2., 2.]), tensor([2., 2., 2.]))"
      ]
     },
     "execution_count": 137,
     "metadata": {},
     "output_type": "execute_result"
    }
   ],
   "source": [
    "a = torch.tensor([1, 2, 3.]).requires_grad_()\n",
    "b = torch.asarray(a, requires_grad=True)\n",
    "c = b.sum() + a.sum()\n",
    "c.backward()\n",
    "b.grad, a.grad"
   ]
  },
  {
   "cell_type": "code",
   "execution_count": 138,
   "id": "ad45e551",
   "metadata": {},
   "outputs": [
    {
     "data": {
      "text/plain": [
       "(None, tensor([1., 1., 1.]))"
      ]
     },
     "execution_count": 138,
     "metadata": {},
     "output_type": "execute_result"
    }
   ],
   "source": [
    "a = torch.tensor([1, 2, 3.]).requires_grad_()\n",
    "b = torch.asarray(a, copy=True)\n",
    "c = b.sum() + a.sum()\n",
    "c.backward()\n",
    "b.grad, a.grad"
   ]
  },
  {
   "cell_type": "code",
   "execution_count": 139,
   "id": "cfe70c51",
   "metadata": {},
   "outputs": [
    {
     "data": {
      "text/plain": [
       "(tensor([1., 1., 1.], device='cuda:0'), tensor([1., 1., 1.], device='cuda:0'))"
      ]
     },
     "execution_count": 139,
     "metadata": {},
     "output_type": "execute_result"
    }
   ],
   "source": [
    "a = torch.tensor([1, 2, 3.]).cuda().requires_grad_()\n",
    "b = torch.asarray(a, copy=True).requires_grad_()\n",
    "c = b.sum() + a.sum()\n",
    "c.backward()\n",
    "b.grad, a.grad"
   ]
  },
  {
   "cell_type": "code",
   "execution_count": 140,
   "id": "243f0602",
   "metadata": {},
   "outputs": [
    {
     "data": {
      "text/plain": [
       "(tensor([1., 1., 1.], device='cuda:0'), tensor([1., 1., 1.], device='cuda:0'))"
      ]
     },
     "execution_count": 140,
     "metadata": {},
     "output_type": "execute_result"
    }
   ],
   "source": [
    "a = torch.tensor([1, 2, 3.]).cuda().requires_grad_()\n",
    "b = torch.asarray(a, copy=True)\n",
    "b.requires_grad_()\n",
    "c = b.sum() + a.sum()\n",
    "c.backward()\n",
    "b.grad, a.grad"
   ]
  },
  {
   "cell_type": "code",
   "execution_count": 141,
   "id": "2d981ff0-bd81-41ea-a432-1b2defe1c7a9",
   "metadata": {
    "pycharm": {
     "name": "#%%\n"
    }
   },
   "outputs": [
    {
     "data": {
      "text/plain": [
       "94377828074576"
      ]
     },
     "execution_count": 141,
     "metadata": {},
     "output_type": "execute_result"
    }
   ],
   "source": [
    "# Numpy data_ptr\n",
    "np.array([1, 2, 3]).__array_interface__[\"data\"][0]"
   ]
  },
  {
   "cell_type": "code",
   "execution_count": 142,
   "id": "859be230-a9ff-4345-9d29-3a001cbca47c",
   "metadata": {
    "pycharm": {
     "name": "#%%\n"
    }
   },
   "outputs": [
    {
     "data": {
      "text/plain": [
       "tensor([1, 0, 2, 0, 3, 0], dtype=torch.int16)"
      ]
     },
     "execution_count": 142,
     "metadata": {},
     "output_type": "execute_result"
    }
   ],
   "source": [
    "a = array.array('i', [1, 2, 3])\n",
    "b = torch.frombuffer(a, dtype=torch.int16)\n",
    "b"
   ]
  },
  {
   "cell_type": "code",
   "execution_count": 143,
   "id": "a84b4158",
   "metadata": {
    "collapsed": false,
    "jupyter": {
     "outputs_hidden": false
    },
    "pycharm": {
     "name": "#%%\n"
    }
   },
   "outputs": [
    {
     "data": {
      "text/plain": [
       "tensor([65,  0,  0,  0, 66,  0,  0,  0], dtype=torch.int8)"
      ]
     },
     "execution_count": 143,
     "metadata": {},
     "output_type": "execute_result"
    }
   ],
   "source": [
    "c = array.array('u', ['A', 'B'])\n",
    "b = torch.frombuffer(c, dtype=torch.int8)\n",
    "b"
   ]
  },
  {
   "cell_type": "code",
   "execution_count": 144,
   "id": "3adc9ca6",
   "metadata": {
    "collapsed": false,
    "jupyter": {
     "outputs_hidden": false
    },
    "pycharm": {
     "name": "#%%\n"
    }
   },
   "outputs": [],
   "source": [
    "x = torch.arange(25).view(5, 5)"
   ]
  },
  {
   "cell_type": "code",
   "execution_count": 145,
   "id": "f0d54738",
   "metadata": {
    "collapsed": false,
    "jupyter": {
     "outputs_hidden": false
    },
    "pycharm": {
     "name": "#%%\n"
    }
   },
   "outputs": [
    {
     "data": {
      "text/plain": [
       "tensor([[ 0,  1,  2,  3,  4],\n",
       "        [ 5,  6,  7,  8,  9],\n",
       "        [10, 11, 12, 13, 14],\n",
       "        [15, 16, 17, 18, 19],\n",
       "        [20, 21, 22, 23, 24]])"
      ]
     },
     "execution_count": 145,
     "metadata": {},
     "output_type": "execute_result"
    }
   ],
   "source": [
    "x"
   ]
  },
  {
   "cell_type": "code",
   "execution_count": 146,
   "id": "1c259ecc",
   "metadata": {
    "collapsed": false,
    "jupyter": {
     "outputs_hidden": false
    },
    "pycharm": {
     "name": "#%%\n"
    }
   },
   "outputs": [
    {
     "data": {
      "text/plain": [
       "tensor([[0, 1],\n",
       "        [1, 2]])"
      ]
     },
     "execution_count": 146,
     "metadata": {},
     "output_type": "execute_result"
    }
   ],
   "source": [
    "t = torch.as_strided(x, size=(2, 2), stride=(1, 1) )\n",
    "t"
   ]
  },
  {
   "cell_type": "code",
   "execution_count": 147,
   "id": "171a879d",
   "metadata": {},
   "outputs": [
    {
     "data": {
      "text/plain": [
       "tensor([[0, 1],\n",
       "        [2, 3]])"
      ]
     },
     "execution_count": 147,
     "metadata": {},
     "output_type": "execute_result"
    }
   ],
   "source": [
    "t = torch.as_strided(x, size=(2, 2), stride=(2, 1) )\n",
    "t"
   ]
  },
  {
   "cell_type": "code",
   "execution_count": 148,
   "id": "2110ba6d",
   "metadata": {},
   "outputs": [
    {
     "data": {
      "text/plain": [
       "tensor([[0, 1, 2],\n",
       "        [2, 3, 4],\n",
       "        [4, 5, 6]])"
      ]
     },
     "execution_count": 148,
     "metadata": {},
     "output_type": "execute_result"
    }
   ],
   "source": [
    "t = torch.as_strided(x, size=(3, 3), stride=(2, 1) )\n",
    "t"
   ]
  },
  {
   "cell_type": "code",
   "execution_count": 149,
   "id": "b73945a7",
   "metadata": {
    "collapsed": false,
    "jupyter": {
     "outputs_hidden": false
    },
    "pycharm": {
     "name": "#%%\n"
    }
   },
   "outputs": [
    {
     "data": {
      "text/plain": [
       "tensor([[ 1,  7],\n",
       "        [ 5, 11]])"
      ]
     },
     "execution_count": 149,
     "metadata": {},
     "output_type": "execute_result"
    }
   ],
   "source": [
    "t = torch.as_strided(x, (2, 2), (4, 6) , 1)\n",
    "t\n"
   ]
  },
  {
   "cell_type": "code",
   "execution_count": 150,
   "id": "d8582605",
   "metadata": {
    "collapsed": false,
    "jupyter": {
     "outputs_hidden": false
    },
    "pycharm": {
     "name": "#%%\n"
    }
   },
   "outputs": [
    {
     "data": {
      "text/plain": [
       "tensor([[ 2,  8],\n",
       "        [ 6, 12]])"
      ]
     },
     "execution_count": 150,
     "metadata": {},
     "output_type": "execute_result"
    }
   ],
   "source": [
    "t = torch.as_strided(x, (2, 2), (4, 6) , 2)\n",
    "t"
   ]
  },
  {
   "cell_type": "code",
   "execution_count": 151,
   "id": "bdd710bb",
   "metadata": {
    "collapsed": false,
    "jupyter": {
     "outputs_hidden": false
    },
    "pycharm": {
     "name": "#%%\n"
    }
   },
   "outputs": [
    {
     "data": {
      "text/plain": [
       "tensor([[14, 20],\n",
       "        [18, 24]])"
      ]
     },
     "execution_count": 151,
     "metadata": {},
     "output_type": "execute_result"
    }
   ],
   "source": [
    "t = torch.as_strided(x, (2, 2), (4, 6) , 14)\n",
    "t"
   ]
  },
  {
   "cell_type": "code",
   "execution_count": 152,
   "id": "c0bca1d1",
   "metadata": {
    "collapsed": false,
    "jupyter": {
     "outputs_hidden": false
    },
    "pycharm": {
     "name": "#%%\n"
    }
   },
   "outputs": [
    {
     "data": {
      "text/plain": [
       "tensor([[[14],\n",
       "         [20]],\n",
       "\n",
       "        [[18],\n",
       "         [24]]])"
      ]
     },
     "execution_count": 152,
     "metadata": {},
     "output_type": "execute_result"
    }
   ],
   "source": [
    "t = torch.as_strided(x, (2, 2, 1), (4, 6, 1) , 14)\n",
    "t"
   ]
  },
  {
   "cell_type": "code",
   "execution_count": 153,
   "id": "01b8fe72",
   "metadata": {
    "collapsed": false,
    "jupyter": {
     "outputs_hidden": false
    },
    "pycharm": {
     "name": "#%%\n"
    }
   },
   "outputs": [
    {
     "data": {
      "text/plain": [
       "tensor([1.0000, 1.5000, 2.0000, 2.5000, 3.0000, 3.5000, 4.0000, 4.5000, 5.0000,\n",
       "        5.5000, 6.0000, 6.5000, 7.0000, 7.5000, 8.0000, 8.5000, 9.0000, 9.5000])"
      ]
     },
     "execution_count": 153,
     "metadata": {},
     "output_type": "execute_result"
    }
   ],
   "source": [
    "x = torch.arange(1, 10, 0.5)\n",
    "x"
   ]
  },
  {
   "cell_type": "code",
   "execution_count": 154,
   "id": "d885c4ec",
   "metadata": {
    "collapsed": false,
    "jupyter": {
     "outputs_hidden": false
    },
    "pycharm": {
     "name": "#%%\n"
    }
   },
   "outputs": [
    {
     "data": {
      "text/plain": [
       "tensor([ 1.0000,  3.2500,  5.5000,  7.7500, 10.0000])"
      ]
     },
     "execution_count": 154,
     "metadata": {},
     "output_type": "execute_result"
    }
   ],
   "source": [
    "x = torch.linspace(1, 10, 5)\n",
    "x"
   ]
  },
  {
   "cell_type": "code",
   "execution_count": 155,
   "id": "5dc07568",
   "metadata": {
    "collapsed": false,
    "jupyter": {
     "outputs_hidden": false
    },
    "pycharm": {
     "name": "#%%\n"
    }
   },
   "outputs": [
    {
     "name": "stderr",
     "output_type": "stream",
     "text": [
      "/tmp/ipykernel_11384/1458550859.py:1: UserWarning: torch.range is deprecated and will be removed in a future release because its behavior is inconsistent with Python's range builtin. Instead, use torch.arange, which produces values in [start, end).\n",
      "  x = torch.range(1, 10, 2, dtype=torch.int32)\n"
     ]
    },
    {
     "data": {
      "text/plain": [
       "tensor([1, 3, 5, 7, 9], dtype=torch.int32)"
      ]
     },
     "execution_count": 155,
     "metadata": {},
     "output_type": "execute_result"
    }
   ],
   "source": [
    "x = torch.range(1, 10, 2, dtype=torch.int32)\n",
    "x"
   ]
  },
  {
   "cell_type": "code",
   "execution_count": 156,
   "id": "8b501646",
   "metadata": {
    "collapsed": false,
    "jupyter": {
     "outputs_hidden": false
    },
    "pycharm": {
     "name": "#%%\n"
    }
   },
   "outputs": [
    {
     "data": {
      "text/plain": [
       "tensor([0.1250, 0.3536, 1.0000, 2.8284, 8.0000])"
      ]
     },
     "execution_count": 156,
     "metadata": {},
     "output_type": "execute_result"
    }
   ],
   "source": [
    "\"\"\"\n",
    "(\n",
    "base ** start,\n",
    "base **(start+ steps−1 end−start),\n",
    "base ** end\n",
    ")\n",
    "\"\"\"\n",
    "torch.logspace(-3, 3, 5, base=2)"
   ]
  },
  {
   "cell_type": "code",
   "execution_count": 157,
   "id": "51495b1e",
   "metadata": {
    "collapsed": false,
    "jupyter": {
     "outputs_hidden": false
    },
    "pycharm": {
     "name": "#%%\n"
    }
   },
   "outputs": [
    {
     "name": "stdout",
     "output_type": "stream",
     "text": [
      "tensor([[0., 0., 0., 0., 0.],\n",
      "        [0., 0., 0., 0., 0.],\n",
      "        [0., 0., 0., 0., 0.],\n",
      "        [0., 0., 0., 0., 0.],\n",
      "        [0., 0., 0., 0., 0.],\n",
      "        [0., 0., 0., 0., 0.],\n",
      "        [0., 0., 0., 0., 0.],\n",
      "        [0., 0., 0., 0., 0.],\n",
      "        [0., 0., 0., 0., 0.],\n",
      "        [0., 0., 0., 0., 0.]])\n"
     ]
    },
    {
     "data": {
      "text/plain": [
       "(tensor([[1., 0., 0., 0.],\n",
       "         [0., 1., 0., 0.],\n",
       "         [0., 0., 1., 0.]]),\n",
       " tensor([[1., 0., 0., 0.],\n",
       "         [0., 1., 0., 0.],\n",
       "         [0., 0., 1., 0.]]))"
      ]
     },
     "execution_count": 157,
     "metadata": {},
     "output_type": "execute_result"
    }
   ],
   "source": [
    "s = (10, 5)\n",
    "y  = torch.zeros(s)\n",
    "print(y)\n",
    "x = torch.eye(3, 4, out=y)\n",
    "x, y"
   ]
  },
  {
   "cell_type": "code",
   "execution_count": 158,
   "id": "cbcc2530",
   "metadata": {
    "collapsed": false,
    "jupyter": {
     "outputs_hidden": false
    },
    "pycharm": {
     "name": "#%%\n"
    }
   },
   "outputs": [
    {
     "data": {
      "text/plain": [
       "tensor([[ 321385552,      21974,          0,          0,         64],\n",
       "        [         0,         80,          0,  321424672,      21974],\n",
       "        [         0,          0,          0,          0,          0],\n",
       "        [         0,          0,          0,          0,          0],\n",
       "        [         0,          0,          1,          0,          0],\n",
       "        [         0,        177,          0,  321425008,      21974],\n",
       "        [ 393727136,      32536,          0,          0,          1],\n",
       "        [         0,      65543,      82431,      32769,        592],\n",
       "        [1714827361,  808805933,        113,          0,  321253264],\n",
       "        [     21974,         97,          0,  321401456,      21974]],\n",
       "       dtype=torch.int32)"
      ]
     },
     "execution_count": 158,
     "metadata": {},
     "output_type": "execute_result"
    }
   ],
   "source": [
    "x = torch.empty(size=s, dtype=torch.int32)\n",
    "x"
   ]
  },
  {
   "cell_type": "code",
   "execution_count": 159,
   "id": "4db32229",
   "metadata": {
    "collapsed": false,
    "jupyter": {
     "outputs_hidden": false
    },
    "pycharm": {
     "name": "#%%\n"
    }
   },
   "outputs": [
    {
     "data": {
      "text/plain": [
       "tensor([[1065353216, 1065353216, 1065353216, 1077411840,          0],\n",
       "        [1077936128,          0,          0,          0,          0],\n",
       "        [         0,          0,          0,          0,          0],\n",
       "        [         0,          0,          0,          0,          0],\n",
       "        [         0,          0,          0,          0,          0],\n",
       "        [         0,          0,          0,          0,          0],\n",
       "        [         0,          0,          0,          0,          0],\n",
       "        [         0,          0,          0,          0,          0],\n",
       "        [         0,          0,          0,          0,          0],\n",
       "        [         0,          0,          0,          0,          0]],\n",
       "       device='cuda:0', dtype=torch.int32)"
      ]
     },
     "execution_count": 159,
     "metadata": {},
     "output_type": "execute_result"
    }
   ],
   "source": [
    "z = torch.empty_like(x, device='cuda:0')\n",
    "z"
   ]
  },
  {
   "cell_type": "code",
   "execution_count": 160,
   "id": "4a9097cb",
   "metadata": {
    "collapsed": false,
    "jupyter": {
     "outputs_hidden": false
    },
    "pycharm": {
     "name": "#%%\n"
    }
   },
   "outputs": [
    {
     "data": {
      "text/plain": [
       "tensor([[8.0069e-25, 2.1106e-27, 4.4842e-44],\n",
       "        [4.5593e-41, 3.0792e-41, 0.0000e+00],\n",
       "        [2.1106e-27, 4.4842e-44, 1.7937e-43]])"
      ]
     },
     "execution_count": 160,
     "metadata": {},
     "output_type": "execute_result"
    }
   ],
   "source": [
    "a = torch.empty_strided((3, 3), (1, 2))\n",
    "a"
   ]
  },
  {
   "cell_type": "code",
   "execution_count": 161,
   "id": "278fafed",
   "metadata": {
    "collapsed": false,
    "jupyter": {
     "outputs_hidden": false
    },
    "pycharm": {
     "name": "#%%\n"
    }
   },
   "outputs": [
    {
     "data": {
      "text/plain": [
       "(1, 2)"
      ]
     },
     "execution_count": 161,
     "metadata": {},
     "output_type": "execute_result"
    }
   ],
   "source": [
    "a.stride()"
   ]
  },
  {
   "cell_type": "code",
   "execution_count": 162,
   "id": "d25a5ee1",
   "metadata": {
    "collapsed": false,
    "jupyter": {
     "outputs_hidden": false
    },
    "pycharm": {
     "name": "#%%\n"
    }
   },
   "outputs": [
    {
     "data": {
      "text/plain": [
       "tensor([[10, 10, 10, 10],\n",
       "        [10, 10, 10, 10],\n",
       "        [10, 10, 10, 10]], dtype=torch.int32)"
      ]
     },
     "execution_count": 162,
     "metadata": {},
     "output_type": "execute_result"
    }
   ],
   "source": [
    "a = torch.full((3, 4), 10, dtype=torch.int32)\n",
    "a"
   ]
  },
  {
   "cell_type": "code",
   "execution_count": 163,
   "id": "77a2ac82",
   "metadata": {
    "collapsed": false,
    "jupyter": {
     "outputs_hidden": false
    },
    "pycharm": {
     "name": "#%%\n"
    }
   },
   "outputs": [
    {
     "data": {
      "text/plain": [
       "tensor([[2, 2, 2, 2],\n",
       "        [2, 2, 2, 2],\n",
       "        [2, 2, 2, 2]], dtype=torch.int32)"
      ]
     },
     "execution_count": 163,
     "metadata": {},
     "output_type": "execute_result"
    }
   ],
   "source": [
    "b = torch.full_like(a, 2)\n",
    "b"
   ]
  },
  {
   "cell_type": "code",
   "execution_count": 1198,
   "id": "c86c2fb7",
   "metadata": {
    "collapsed": false,
    "jupyter": {
     "outputs_hidden": false
    },
    "pycharm": {
     "name": "#%%\n"
    }
   },
   "outputs": [
    {
     "data": {
      "text/plain": [
       "tensor([0.0000, 0.7000, 1.0000, 1.0000])"
      ]
     },
     "execution_count": 1198,
     "metadata": {},
     "output_type": "execute_result"
    }
   ],
   "source": [
    "z = torch.tensor([-1.5, 0, 0.4, 2.])\n",
    "torch.heaviside(z, torch.tensor(0.7))"
   ]
  },
  {
   "cell_type": "code",
   "execution_count": 165,
   "id": "b3c122d0",
   "metadata": {},
   "outputs": [
    {
     "data": {
      "text/plain": [
       "tensor([0.0000, 0.3000, 1.0000, 1.0000])"
      ]
     },
     "execution_count": 165,
     "metadata": {},
     "output_type": "execute_result"
    }
   ],
   "source": [
    "z = torch.tensor([-1.5, 0, 0.4, 2.])\n",
    "torch.heaviside(z, torch.tensor([0.7, 0.3, 0.2, 0.1]))"
   ]
  },
  {
   "cell_type": "code",
   "execution_count": 166,
   "id": "7f87bb3d",
   "metadata": {
    "collapsed": false,
    "jupyter": {
     "outputs_hidden": false
    },
    "pycharm": {
     "name": "#%%\n"
    }
   },
   "outputs": [
    {
     "data": {
      "text/plain": [
       "(array([ 0.40414121,  0.01800329, -0.84919857,  0.03504249, -0.03693258,\n",
       "        -0.61153001,  0.744825  ,  0.12637771,  0.98310348, -0.85189286]),\n",
       " tensor([0.4041, 0.0180, 0.8492, 0.0350, 0.0369, 0.6115, 0.7448, 0.1264, 0.9831,\n",
       "         0.8519], dtype=torch.float64))"
      ]
     },
     "execution_count": 166,
     "metadata": {},
     "output_type": "execute_result"
    }
   ],
   "source": [
    "x = np.random.uniform(-1, 1, (10, ))\n",
    "y = torch.from_numpy(x)\n",
    "y = torch.abs(y)\n",
    "x, y"
   ]
  },
  {
   "cell_type": "code",
   "execution_count": 167,
   "id": "68e921d7",
   "metadata": {
    "collapsed": false,
    "jupyter": {
     "outputs_hidden": false
    },
    "pycharm": {
     "name": "#%%\n"
    }
   },
   "outputs": [
    {
     "data": {
      "text/plain": [
       "(tensor(0.7071), tensor(0.7071), tensor(1.))"
      ]
     },
     "execution_count": 167,
     "metadata": {},
     "output_type": "execute_result"
    }
   ],
   "source": [
    "deg = np.pi / 4.\n",
    "torch.cos(torch.tensor(deg)), torch.sin(torch.tensor(deg)), torch.tan(torch.tensor(deg))"
   ]
  },
  {
   "cell_type": "code",
   "execution_count": 168,
   "id": "29627da5",
   "metadata": {
    "collapsed": false,
    "jupyter": {
     "outputs_hidden": false
    },
    "pycharm": {
     "name": "#%%\n"
    }
   },
   "outputs": [
    {
     "data": {
      "text/plain": [
       "tensor([0.0000, 0.5236, 1.0472, 1.5708, 2.0944, 2.6180, 3.1416])"
      ]
     },
     "execution_count": 168,
     "metadata": {},
     "output_type": "execute_result"
    }
   ],
   "source": [
    "a = torch.arange(0, np.pi + np.pi / 6, np.pi / 6)\n",
    "a"
   ]
  },
  {
   "cell_type": "code",
   "execution_count": 169,
   "id": "989ad9cb",
   "metadata": {
    "collapsed": false,
    "jupyter": {
     "outputs_hidden": false
    },
    "pycharm": {
     "name": "#%%\n"
    }
   },
   "outputs": [
    {
     "data": {
      "text/plain": [
       "(tensor([ 1.0000,  1.1402,  1.6003,  2.5092,  4.1218,  6.8906, 11.5920]),\n",
       " tensor([0.0000, 0.5236, 1.0472, 1.5708, 2.0944, 2.6180, 3.1416]))"
      ]
     },
     "execution_count": 169,
     "metadata": {},
     "output_type": "execute_result"
    }
   ],
   "source": [
    "b = torch.cosh(a)\n",
    "b, torch.acosh(b)"
   ]
  },
  {
   "cell_type": "code",
   "execution_count": 170,
   "id": "82dfeb46",
   "metadata": {
    "collapsed": false,
    "jupyter": {
     "outputs_hidden": false
    },
    "pycharm": {
     "name": "#%%\n"
    }
   },
   "outputs": [
    {
     "data": {
      "text/plain": [
       "(tensor([0.0000, 0.4805, 0.7807, 0.9172, 0.9701, 0.9894, 0.9963]),\n",
       " tensor([0.0000, 0.5236, 1.0472, 1.5708, 2.0944, 2.6180, 3.1416]))"
      ]
     },
     "execution_count": 170,
     "metadata": {},
     "output_type": "execute_result"
    }
   ],
   "source": [
    "b = torch.tanh(a)\n",
    "b, torch.atanh(b)"
   ]
  },
  {
   "cell_type": "code",
   "execution_count": 171,
   "id": "0d50bc23",
   "metadata": {
    "collapsed": false,
    "jupyter": {
     "outputs_hidden": false
    },
    "pycharm": {
     "name": "#%%\n"
    }
   },
   "outputs": [
    {
     "data": {
      "text/plain": [
       "(tensor([ 0.0000,  0.5479,  1.2494,  2.3013,  3.9987,  6.8176, 11.5487]),\n",
       " tensor([0.0000, 0.5236, 1.0472, 1.5708, 2.0944, 2.6180, 3.1416]))"
      ]
     },
     "execution_count": 171,
     "metadata": {},
     "output_type": "execute_result"
    }
   ],
   "source": [
    "b = torch.sinh(a)\n",
    "b, torch.asinh(b)"
   ]
  },
  {
   "cell_type": "code",
   "execution_count": 172,
   "id": "36352383",
   "metadata": {
    "collapsed": false,
    "jupyter": {
     "outputs_hidden": false
    },
    "pycharm": {
     "name": "#%%\n"
    }
   },
   "outputs": [
    {
     "data": {
      "text/plain": [
       "(tensor([ 1.0000e+00,  8.6603e-01,  5.0000e-01, -4.3711e-08, -5.0000e-01,\n",
       "         -8.6603e-01, -1.0000e+00]),\n",
       " tensor([0.0000, 0.5236, 1.0472, 1.5708, 2.0944, 2.6180, 3.1416]),\n",
       " tensor([  0.0000,  30.0000,  60.0000,  90.0000, 120.0000, 150.0000, 180.0000]))"
      ]
     },
     "execution_count": 172,
     "metadata": {},
     "output_type": "execute_result"
    }
   ],
   "source": [
    "b = torch.cos(a)\n",
    "b,  torch.acos(b), torch.acos(b).rad2deg()"
   ]
  },
  {
   "cell_type": "code",
   "execution_count": 173,
   "id": "e612bbf1",
   "metadata": {
    "collapsed": false,
    "jupyter": {
     "outputs_hidden": false
    },
    "pycharm": {
     "name": "#%%\n"
    }
   },
   "outputs": [
    {
     "data": {
      "text/plain": [
       "(tensor([ 0.0000e+00,  5.0000e-01,  8.6603e-01,  1.0000e+00,  8.6603e-01,\n",
       "          5.0000e-01, -8.7423e-08]),\n",
       " tensor([ 0.0000e+00,  5.2360e-01,  1.0472e+00,  1.5708e+00,  1.0472e+00,\n",
       "          5.2360e-01, -8.7423e-08]),\n",
       " tensor([ 0.0000e+00,  3.0000e+01,  6.0000e+01,  9.0000e+01,  6.0000e+01,\n",
       "          3.0000e+01, -5.0090e-06]))"
      ]
     },
     "execution_count": 173,
     "metadata": {},
     "output_type": "execute_result"
    }
   ],
   "source": [
    "b = torch.sin(a)\n",
    "b,  torch.asin(b), torch.asin(b).rad2deg()"
   ]
  },
  {
   "cell_type": "code",
   "execution_count": 174,
   "id": "3115d61c",
   "metadata": {},
   "outputs": [
    {
     "data": {
      "text/plain": [
       "(tensor([ 0.0000e+00,  5.7735e-01,  1.7321e+00, -2.2877e+07, -1.7321e+00,\n",
       "         -5.7735e-01,  8.7423e-08]),\n",
       " tensor([ 0.0000e+00,  5.2360e-01,  1.0472e+00, -1.5708e+00, -1.0472e+00,\n",
       "         -5.2360e-01,  8.7423e-08]),\n",
       " tensor([  0,  30,  60, -90, -59, -30,   0]))"
      ]
     },
     "execution_count": 174,
     "metadata": {},
     "output_type": "execute_result"
    }
   ],
   "source": [
    "b = torch.tan(a)\n",
    "b,  torch.atan(b), torch.atan(b).rad2deg().long()"
   ]
  },
  {
   "cell_type": "code",
   "execution_count": 175,
   "id": "5d60e688",
   "metadata": {},
   "outputs": [
    {
     "data": {
      "text/plain": [
       "(tensor([ 0.0000e+00,  5.7735e-01,  1.7321e+00, -2.2877e+07, -1.7321e+00,\n",
       "         -5.7735e-01,  8.7423e-08]),\n",
       " tensor([ 0.0000,  0.5236,  1.0472,  1.5708,  2.0944,  2.6180, -3.1416]),\n",
       " tensor([   0,   30,   60,   90,  120,  150, -180]))"
      ]
     },
     "execution_count": 175,
     "metadata": {},
     "output_type": "execute_result"
    }
   ],
   "source": [
    "b = torch.tan(a)\n",
    "b,  torch.atan2(torch.sin(a), torch.cos(a)), torch.atan2(torch.sin(a), torch.cos(a)).rad2deg().long()"
   ]
  },
  {
   "cell_type": "code",
   "execution_count": 176,
   "id": "ea5f4aed",
   "metadata": {
    "collapsed": false,
    "jupyter": {
     "outputs_hidden": false
    },
    "pycharm": {
     "name": "#%%\n"
    }
   },
   "outputs": [
    {
     "data": {
      "text/plain": [
       "(tensor([ 0.0000e+00,  0.0000e+00,  0.0000e+00,  9.5367e-07,  0.0000e+00,\n",
       "          0.0000e+00,  0.0000e+00,  0.0000e+00,  0.0000e+00, -4.7684e-07]),\n",
       " tensor([-9.9747, -9.4769, 22.3760, 12.3873,  1.0765, 10.6416,  8.6678, 13.0525,\n",
       "         -9.9975, -4.6120]),\n",
       " tensor([-1.5387, -1.8587,  1.9656,  0.1338,  0.9355,  0.7505,  0.0845,  0.4429,\n",
       "         -2.0726,  1.2533]),\n",
       " tensor([-8.4360, -7.6182, 20.4104, 12.2534,  0.1410,  9.8911,  8.5833, 12.6096,\n",
       "         -7.9249, -5.8653]))"
      ]
     },
     "execution_count": 176,
     "metadata": {},
     "output_type": "execute_result"
    }
   ],
   "source": [
    "\"\"\"out\n",
    "i\n",
    "​\n",
    " =input\n",
    "i\n",
    "​\n",
    " +alpha×other\n",
    "i\n",
    "​\n",
    "\n",
    "\"\"\"\n",
    "torch.manual_seed(10)\n",
    "a = torch.randn(10)\n",
    "b = torch.randn_like(a)\n",
    "c = torch.add(a, b, alpha=10)\n",
    "d = a + b\n",
    "a+10*b - c, c, d, c - d"
   ]
  },
  {
   "cell_type": "code",
   "execution_count": 177,
   "id": "922336bf",
   "metadata": {
    "collapsed": false,
    "jupyter": {
     "outputs_hidden": false
    },
    "pycharm": {
     "name": "#%%\n"
    }
   },
   "outputs": [
    {
     "data": {
      "text/plain": [
       "(tensor([ 2.3562,  2.3562, -0.7854, -2.3562]),\n",
       " tensor([ 135.,  135.,  -45., -135.]))"
      ]
     },
     "execution_count": 177,
     "metadata": {},
     "output_type": "execute_result"
    }
   ],
   "source": [
    "a = torch.tensor([-1+1j, -2+2j, 3-3j, -3-3j])\n",
    "torch.angle(a), torch.angle(a).rad2deg()"
   ]
  },
  {
   "cell_type": "code",
   "execution_count": 178,
   "id": "80c65c7e",
   "metadata": {
    "collapsed": false,
    "jupyter": {
     "outputs_hidden": false
    },
    "pycharm": {
     "name": "#%%\n"
    }
   },
   "outputs": [
    {
     "data": {
      "text/plain": [
       "tensor([ 1, -1, -3], dtype=torch.int8)"
      ]
     },
     "execution_count": 178,
     "metadata": {},
     "output_type": "execute_result"
    }
   ],
   "source": [
    "torch.bitwise_not(torch.tensor([-2, 0, 2], dtype=torch.int8))"
   ]
  },
  {
   "cell_type": "code",
   "execution_count": 179,
   "id": "d3c18375",
   "metadata": {
    "collapsed": false,
    "jupyter": {
     "outputs_hidden": false
    },
    "pycharm": {
     "name": "#%%\n"
    }
   },
   "outputs": [
    {
     "data": {
      "text/plain": [
       "(1, -1, -3)"
      ]
     },
     "execution_count": 179,
     "metadata": {},
     "output_type": "execute_result"
    }
   ],
   "source": [
    "~-2, ~0, ~2"
   ]
  },
  {
   "cell_type": "code",
   "execution_count": 180,
   "id": "531b6ba5",
   "metadata": {
    "collapsed": false,
    "jupyter": {
     "outputs_hidden": false
    },
    "pycharm": {
     "name": "#%%\n"
    }
   },
   "outputs": [],
   "source": [
    "a = torch.tensor([-1, -2, 3], dtype=torch.int8)\n",
    "b = torch.tensor([1, 0, 13], dtype=torch.int8)"
   ]
  },
  {
   "cell_type": "code",
   "execution_count": 181,
   "id": "9f3edcbd",
   "metadata": {
    "collapsed": false,
    "jupyter": {
     "outputs_hidden": false
    },
    "pycharm": {
     "name": "#%%\n"
    }
   },
   "outputs": [
    {
     "data": {
      "text/plain": [
       "(tensor([-1, -2, 15], dtype=torch.int8),\n",
       " tensor([-1, -2, 15], dtype=torch.int8))"
      ]
     },
     "execution_count": 181,
     "metadata": {},
     "output_type": "execute_result"
    }
   ],
   "source": [
    "a | b, torch.bitwise_or(a, b)"
   ]
  },
  {
   "cell_type": "code",
   "execution_count": 182,
   "id": "1f49ee20",
   "metadata": {
    "collapsed": false,
    "jupyter": {
     "outputs_hidden": false
    },
    "pycharm": {
     "name": "#%%\n"
    }
   },
   "outputs": [
    {
     "data": {
      "text/plain": [
       "(tensor([1, 0, 1], dtype=torch.int8), tensor([1, 0, 1], dtype=torch.int8))"
      ]
     },
     "execution_count": 182,
     "metadata": {},
     "output_type": "execute_result"
    }
   ],
   "source": [
    "a & b, torch.bitwise_and(a, b)"
   ]
  },
  {
   "cell_type": "code",
   "execution_count": 183,
   "id": "fc22ebe2",
   "metadata": {
    "collapsed": false,
    "jupyter": {
     "outputs_hidden": false
    },
    "pycharm": {
     "name": "#%%\n"
    }
   },
   "outputs": [
    {
     "data": {
      "text/plain": [
       "(tensor([-2, -2, 14], dtype=torch.int8),\n",
       " tensor([-2, -2, 14], dtype=torch.int8))"
      ]
     },
     "execution_count": 183,
     "metadata": {},
     "output_type": "execute_result"
    }
   ],
   "source": [
    "a ^ b, torch.bitwise_xor(a, b)"
   ]
  },
  {
   "cell_type": "code",
   "execution_count": 184,
   "id": "5beb696b",
   "metadata": {
    "collapsed": false,
    "jupyter": {
     "outputs_hidden": false
    },
    "pycharm": {
     "name": "#%%\n"
    }
   },
   "outputs": [
    {
     "data": {
      "text/plain": [
       "(tensor([ 0,  1, -4], dtype=torch.int8),\n",
       " tensor([ 0,  1, -4], dtype=torch.int8))"
      ]
     },
     "execution_count": 184,
     "metadata": {},
     "output_type": "execute_result"
    }
   ],
   "source": [
    "~a, torch.bitwise_not(a)"
   ]
  },
  {
   "cell_type": "code",
   "execution_count": 185,
   "id": "440533d4",
   "metadata": {
    "collapsed": false,
    "jupyter": {
     "outputs_hidden": false
    },
    "pycharm": {
     "name": "#%%\n"
    }
   },
   "outputs": [
    {
     "data": {
      "text/plain": [
       "(tensor([-1, -1,  0], dtype=torch.int8),\n",
       " tensor([-1, -1,  0], dtype=torch.int8))"
      ]
     },
     "execution_count": 185,
     "metadata": {},
     "output_type": "execute_result"
    }
   ],
   "source": [
    "a >> 2, torch.bitwise_right_shift(a, 2)"
   ]
  },
  {
   "cell_type": "code",
   "execution_count": 186,
   "id": "fda177af",
   "metadata": {
    "collapsed": false,
    "jupyter": {
     "outputs_hidden": false
    },
    "pycharm": {
     "name": "#%%\n"
    }
   },
   "outputs": [
    {
     "data": {
      "text/plain": [
       "(tensor([-4, -8, 12], dtype=torch.int8),\n",
       " tensor([-4, -8, 12], dtype=torch.int8))"
      ]
     },
     "execution_count": 186,
     "metadata": {},
     "output_type": "execute_result"
    }
   ],
   "source": [
    "a << 2, torch.bitwise_left_shift(a, 2)"
   ]
  },
  {
   "cell_type": "code",
   "execution_count": 187,
   "id": "b97b2e8e",
   "metadata": {
    "collapsed": false,
    "jupyter": {
     "outputs_hidden": false
    },
    "pycharm": {
     "name": "#%%\n"
    }
   },
   "outputs": [
    {
     "data": {
      "text/plain": [
       "(tensor([ 7.8272,  7.9770, -2.0894, -2.9085,  1.5047, -0.4250,  1.5641,  5.0730,\n",
       "         -7.8141, -0.4589]),\n",
       " tensor([ 8.,  8., -2., -2.,  2., -0.,  2.,  6., -7., -0.]))"
      ]
     },
     "execution_count": 187,
     "metadata": {},
     "output_type": "execute_result"
    }
   ],
   "source": [
    "x = torch.empty(10).uniform_(-10, 10)\n",
    "y = torch.ceil(x)\n",
    "x, y"
   ]
  },
  {
   "cell_type": "code",
   "execution_count": 188,
   "id": "3e39ecff",
   "metadata": {
    "collapsed": false,
    "jupyter": {
     "outputs_hidden": false
    },
    "pycharm": {
     "name": "#%%\n"
    }
   },
   "outputs": [
    {
     "data": {
      "text/plain": [
       "tensor([ 7.,  7., -3., -3.,  1., -1.,  1.,  5., -8., -1.])"
      ]
     },
     "execution_count": 188,
     "metadata": {},
     "output_type": "execute_result"
    }
   ],
   "source": [
    "torch.floor(x)"
   ]
  },
  {
   "cell_type": "code",
   "execution_count": 189,
   "id": "bfc5c2f5",
   "metadata": {},
   "outputs": [
    {
     "data": {
      "text/plain": [
       "tensor([ 8.,  8., -2., -3.,  2., -0.,  2.,  5., -8., -0.])"
      ]
     },
     "execution_count": 189,
     "metadata": {},
     "output_type": "execute_result"
    }
   ],
   "source": [
    "torch.round(x)"
   ]
  },
  {
   "cell_type": "code",
   "execution_count": 190,
   "id": "f18c973b",
   "metadata": {},
   "outputs": [
    {
     "data": {
      "text/plain": [
       "tensor([-2.,  2.,  2.,  3.,  3.])"
      ]
     },
     "execution_count": 190,
     "metadata": {},
     "output_type": "execute_result"
    }
   ],
   "source": [
    "torch.round(torch.tensor([-1.5, 2.1, 2.5, 2.51, 3.0]))"
   ]
  },
  {
   "cell_type": "code",
   "execution_count": 1199,
   "id": "c936c65e",
   "metadata": {},
   "outputs": [
    {
     "data": {
      "text/plain": [
       "tensor([-1.,  2.,  2.,  2.,  3.])"
      ]
     },
     "execution_count": 1199,
     "metadata": {},
     "output_type": "execute_result"
    }
   ],
   "source": [
    "torch.trunc(torch.tensor([-1.5, 2.1, 2.5, 2.51, 3.0]))"
   ]
  },
  {
   "cell_type": "code",
   "execution_count": 191,
   "id": "49955b0c",
   "metadata": {
    "collapsed": false,
    "jupyter": {
     "outputs_hidden": false
    },
    "pycharm": {
     "name": "#%%\n"
    }
   },
   "outputs": [
    {
     "data": {
      "text/plain": [
       "tensor([ 5.0000,  5.0000, -2.0894, -2.9085,  1.5047, -0.4250,  1.5641,  5.0000,\n",
       "        -5.0000, -0.4589])"
      ]
     },
     "execution_count": 191,
     "metadata": {},
     "output_type": "execute_result"
    }
   ],
   "source": [
    "torch.clamp(x, -5, 5)"
   ]
  },
  {
   "cell_type": "code",
   "execution_count": 192,
   "id": "5d64e7cd",
   "metadata": {
    "collapsed": false,
    "jupyter": {
     "outputs_hidden": false
    },
    "pycharm": {
     "name": "#%%\n"
    }
   },
   "outputs": [
    {
     "data": {
      "text/plain": [
       "tensor([ 5.0000,  5.0000, -2.0894, -2.9085,  1.5047, -0.4250,  1.5641,  5.0000,\n",
       "        -5.0000, -0.4589])"
      ]
     },
     "execution_count": 192,
     "metadata": {},
     "output_type": "execute_result"
    }
   ],
   "source": [
    "torch.clip(x, -5, 5)"
   ]
  },
  {
   "cell_type": "code",
   "execution_count": 193,
   "id": "59eee0b4",
   "metadata": {
    "collapsed": false,
    "jupyter": {
     "outputs_hidden": false
    },
    "pycharm": {
     "name": "#%%\n"
    }
   },
   "outputs": [
    {
     "data": {
      "text/plain": [
       "tensor([-2.0000, -1.5556, -1.1111, -0.6667, -0.2222,  0.2222,  0.6667,  1.1111,\n",
       "         1.5556,  2.0000])"
      ]
     },
     "execution_count": 193,
     "metadata": {},
     "output_type": "execute_result"
    }
   ],
   "source": [
    "z = torch.linspace(-2, 2, steps=x.shape[0])\n",
    "z"
   ]
  },
  {
   "cell_type": "code",
   "execution_count": 194,
   "id": "5d8539c2",
   "metadata": {
    "collapsed": false,
    "jupyter": {
     "outputs_hidden": false
    },
    "pycharm": {
     "name": "#%%\n"
    }
   },
   "outputs": [
    {
     "data": {
      "text/plain": [
       "(tensor([ 7.8272,  7.9770, -2.0894, -2.9085,  1.5047, -0.4250,  1.5641,  5.0730,\n",
       "         -7.8141, -0.4589]),\n",
       " tensor([-2.0000, -1.5556, -1.1111, -0.6667, -0.2222,  0.2222,  0.6667,  1.1111,\n",
       "          1.5556,  2.0000]),\n",
       " tensor([ 7.8272,  7.9770, -1.1111, -0.6667,  1.5047,  0.2222,  1.5641,  5.0730,\n",
       "          1.5556,  2.0000]))"
      ]
     },
     "execution_count": 194,
     "metadata": {},
     "output_type": "execute_result"
    }
   ],
   "source": [
    "x, z, torch.clamp(x, min=z)"
   ]
  },
  {
   "cell_type": "code",
   "execution_count": 195,
   "id": "4b171129",
   "metadata": {},
   "outputs": [
    {
     "data": {
      "text/plain": [
       "tensor([[[-2.0000,  3.8629, -1.1111,  0.7650, -0.2222,  2.2736,  0.6667,\n",
       "           1.1111,  2.9278,  3.6535],\n",
       "         [-2.0000, -1.5556,  0.3334,  1.2600,  0.9129,  3.6949,  1.7955,\n",
       "           1.1111,  1.5556,  3.1033]],\n",
       "\n",
       "        [[ 3.8337, -1.5556, -1.1111,  1.4001, -0.2222,  0.2222,  0.6667,\n",
       "           1.1111,  1.5556,  2.0000],\n",
       "         [-2.0000, -1.4075,  1.8998,  0.2265,  3.4446,  0.2222,  0.6667,\n",
       "           3.9150,  1.5556,  2.0000]],\n",
       "\n",
       "        [[-2.0000,  3.8485,  2.1296, -0.6667, -0.2222,  1.2267,  0.6667,\n",
       "           1.2419,  1.5556,  2.0000],\n",
       "         [-0.1001,  2.3487,  3.4069,  0.8841, -0.2222,  2.0911,  1.5593,\n",
       "           1.7064,  1.5556,  2.0000]]])"
      ]
     },
     "execution_count": 195,
     "metadata": {},
     "output_type": "execute_result"
    }
   ],
   "source": [
    "torch.clamp(torch.empty((3, 2, x.shape[0]), dtype=torch.float).uniform_(-4, 4), z)"
   ]
  },
  {
   "cell_type": "code",
   "execution_count": 196,
   "id": "07207863",
   "metadata": {
    "collapsed": false,
    "jupyter": {
     "outputs_hidden": false
    },
    "pycharm": {
     "name": "#%%\n"
    }
   },
   "outputs": [
    {
     "data": {
      "text/plain": [
       "(tensor([ 7.8272,  7.9770, -2.0894, -2.9085,  1.5047, -0.4250,  1.5641,  5.0730,\n",
       "         -7.8141, -0.4589]),\n",
       " tensor([7.8272, 7.9770, 2.0894, 2.9085, 1.5047, 0.4250, 1.5641, 5.0730, 7.8141,\n",
       "         0.4589]))"
      ]
     },
     "execution_count": 196,
     "metadata": {},
     "output_type": "execute_result"
    }
   ],
   "source": [
    "x, torch.copysign(x, 1)"
   ]
  },
  {
   "cell_type": "code",
   "execution_count": 197,
   "id": "dc52cbdd",
   "metadata": {
    "collapsed": false,
    "jupyter": {
     "outputs_hidden": false
    },
    "pycharm": {
     "name": "#%%\n"
    }
   },
   "outputs": [
    {
     "data": {
      "text/plain": [
       "tensor([-7.8272, -7.9770, -2.0894, -2.9085, -1.5047, -0.4250, -1.5641, -5.0730,\n",
       "        -7.8141, -0.4589])"
      ]
     },
     "execution_count": 197,
     "metadata": {},
     "output_type": "execute_result"
    }
   ],
   "source": [
    "torch.copysign(x, -1)"
   ]
  },
  {
   "cell_type": "code",
   "execution_count": 198,
   "id": "a85282c2",
   "metadata": {
    "collapsed": false,
    "jupyter": {
     "outputs_hidden": false
    },
    "pycharm": {
     "name": "#%%\n"
    }
   },
   "outputs": [
    {
     "data": {
      "text/plain": [
       "tensor([ 448.4634,  457.0470, -119.7113, -166.6436,   86.2121,  -24.3507,\n",
       "          89.6180,  290.6599, -447.7174,  -26.2918])"
      ]
     },
     "execution_count": 198,
     "metadata": {},
     "output_type": "execute_result"
    }
   ],
   "source": [
    "torch.rad2deg(x)"
   ]
  },
  {
   "cell_type": "code",
   "execution_count": 199,
   "id": "7492a453",
   "metadata": {
    "collapsed": false,
    "jupyter": {
     "outputs_hidden": false
    },
    "pycharm": {
     "name": "#%%\n"
    }
   },
   "outputs": [
    {
     "data": {
      "text/plain": [
       "tensor([ 0.1366,  0.1392, -0.0365, -0.0508,  0.0263, -0.0074,  0.0273,  0.0885,\n",
       "        -0.1364, -0.0080])"
      ]
     },
     "execution_count": 199,
     "metadata": {},
     "output_type": "execute_result"
    }
   ],
   "source": [
    "torch.deg2rad(x)"
   ]
  },
  {
   "cell_type": "code",
   "execution_count": 200,
   "id": "7cd7ae50",
   "metadata": {
    "collapsed": false,
    "jupyter": {
     "outputs_hidden": false
    },
    "pycharm": {
     "name": "#%%\n"
    }
   },
   "outputs": [
    {
     "data": {
      "text/plain": [
       "(tensor([ 7.8272,  7.9770, -2.0894, -2.9085,  1.5047, -0.4250,  1.5641,  5.0730,\n",
       "         -7.8141, -0.4589]),\n",
       " tensor([ 8.,  8., -2., -2.,  2., -0.,  2.,  6., -7., -0.]),\n",
       " tensor([62.6173, 63.8158,  4.1787,  5.8170,  3.0094,  0.0000,  3.1283, 30.4378,\n",
       "         54.6990,  0.0000]))"
      ]
     },
     "execution_count": 200,
     "metadata": {},
     "output_type": "execute_result"
    }
   ],
   "source": [
    "x, y, torch.mul(x, y)"
   ]
  },
  {
   "cell_type": "code",
   "execution_count": 201,
   "id": "79bd3ac7",
   "metadata": {},
   "outputs": [
    {
     "data": {
      "text/plain": [
       "(tensor([[ 0,  1,  2,  3],\n",
       "         [ 4,  5,  6,  7],\n",
       "         [ 8,  9, 10, 11],\n",
       "         [12, 13, 14, 15]]),\n",
       " tensor([0, 1, 2, 3]),\n",
       " tensor([[ 0,  1,  4,  9],\n",
       "         [ 0,  5, 12, 21],\n",
       "         [ 0,  9, 20, 33],\n",
       "         [ 0, 13, 28, 45]]),\n",
       " tensor([[ 0,  1,  4,  9],\n",
       "         [ 0,  5, 12, 21],\n",
       "         [ 0,  9, 20, 33],\n",
       "         [ 0, 13, 28, 45]]))"
      ]
     },
     "execution_count": 201,
     "metadata": {},
     "output_type": "execute_result"
    }
   ],
   "source": [
    "x = torch.arange(16).view((4, 4))\n",
    "y = torch.arange(4, dtype=x.dtype)\n",
    "x, y, x*y, torch.mul(x, y)"
   ]
  },
  {
   "cell_type": "code",
   "execution_count": 202,
   "id": "f7efde01",
   "metadata": {},
   "outputs": [
    {
     "data": {
      "text/plain": [
       "(tensor([[[ 0,  1],\n",
       "          [ 2,  3]],\n",
       " \n",
       "         [[ 4,  5],\n",
       "          [ 6,  7]],\n",
       " \n",
       "         [[ 8,  9],\n",
       "          [10, 11]],\n",
       " \n",
       "         [[12, 13],\n",
       "          [14, 15]]]),\n",
       " tensor([1, 2]),\n",
       " tensor([[[ 0,  2],\n",
       "          [ 2,  6]],\n",
       " \n",
       "         [[ 4, 10],\n",
       "          [ 6, 14]],\n",
       " \n",
       "         [[ 8, 18],\n",
       "          [10, 22]],\n",
       " \n",
       "         [[12, 26],\n",
       "          [14, 30]]]),\n",
       " tensor([[[ 0,  2],\n",
       "          [ 2,  6]],\n",
       " \n",
       "         [[ 4, 10],\n",
       "          [ 6, 14]],\n",
       " \n",
       "         [[ 8, 18],\n",
       "          [10, 22]],\n",
       " \n",
       "         [[12, 26],\n",
       "          [14, 30]]]))"
      ]
     },
     "execution_count": 202,
     "metadata": {},
     "output_type": "execute_result"
    }
   ],
   "source": [
    "x = torch.arange(16).view((4, 2, 2))\n",
    "y = torch.arange(1, 3, dtype=x.dtype)\n",
    "x, y, x*y, torch.mul(x, y)"
   ]
  },
  {
   "cell_type": "code",
   "execution_count": 203,
   "id": "e05ff78a",
   "metadata": {},
   "outputs": [
    {
     "data": {
      "text/plain": [
       "(torch.Size([4, 2, 2, 1]),\n",
       " torch.Size([2]),\n",
       " torch.Size([4, 2, 2, 2]),\n",
       " tensor([[[[ 0],\n",
       "           [ 1]],\n",
       " \n",
       "          [[ 2],\n",
       "           [ 3]]],\n",
       " \n",
       " \n",
       "         [[[ 4],\n",
       "           [ 5]],\n",
       " \n",
       "          [[ 6],\n",
       "           [ 7]]],\n",
       " \n",
       " \n",
       "         [[[ 8],\n",
       "           [ 9]],\n",
       " \n",
       "          [[10],\n",
       "           [11]]],\n",
       " \n",
       " \n",
       "         [[[12],\n",
       "           [13]],\n",
       " \n",
       "          [[14],\n",
       "           [15]]]]),\n",
       " tensor([1, 2]),\n",
       " tensor([[[[ 0,  0],\n",
       "           [ 1,  2]],\n",
       " \n",
       "          [[ 2,  4],\n",
       "           [ 3,  6]]],\n",
       " \n",
       " \n",
       "         [[[ 4,  8],\n",
       "           [ 5, 10]],\n",
       " \n",
       "          [[ 6, 12],\n",
       "           [ 7, 14]]],\n",
       " \n",
       " \n",
       "         [[[ 8, 16],\n",
       "           [ 9, 18]],\n",
       " \n",
       "          [[10, 20],\n",
       "           [11, 22]]],\n",
       " \n",
       " \n",
       "         [[[12, 24],\n",
       "           [13, 26]],\n",
       " \n",
       "          [[14, 28],\n",
       "           [15, 30]]]]))"
      ]
     },
     "execution_count": 203,
     "metadata": {},
     "output_type": "execute_result"
    }
   ],
   "source": [
    "x = torch.arange(16).view((4, 2, 2, 1))\n",
    "y = torch.arange(1, 3, dtype=x.dtype)\n",
    "z = torch.mul(x, y)\n",
    "x.size(), y.size(), z.size(), x, y, z"
   ]
  },
  {
   "cell_type": "code",
   "execution_count": 204,
   "id": "3a17166b",
   "metadata": {},
   "outputs": [
    {
     "data": {
      "text/plain": [
       "(torch.Size([4, 2, 2, 1]), torch.Size([3]), torch.Size([4, 2, 2, 3]))"
      ]
     },
     "execution_count": 204,
     "metadata": {},
     "output_type": "execute_result"
    }
   ],
   "source": [
    "x = torch.arange(16).view((4, 2, 2, 1))\n",
    "y = torch.arange(1, 4, dtype=x.dtype)\n",
    "z = torch.mul(x, y)\n",
    "x.size(), y.size(), z.size()"
   ]
  },
  {
   "cell_type": "code",
   "execution_count": 205,
   "id": "45ce4bb7",
   "metadata": {},
   "outputs": [
    {
     "data": {
      "text/plain": [
       "(torch.Size([4, 2, 2, 1]), torch.Size([1, 3]), torch.Size([4, 2, 2, 3]))"
      ]
     },
     "execution_count": 205,
     "metadata": {},
     "output_type": "execute_result"
    }
   ],
   "source": [
    "x = torch.arange(16).view((4, 2, 2, 1))\n",
    "y = torch.arange(1, 4, dtype=x.dtype).view(1, 3)\n",
    "z = torch.mul(x, y)\n",
    "x.size(), y.size(), z.size()"
   ]
  },
  {
   "cell_type": "code",
   "execution_count": 206,
   "id": "1dd73e49",
   "metadata": {},
   "outputs": [
    {
     "data": {
      "text/plain": [
       "(torch.Size([4, 2, 2, 1]), torch.Size([1, 1, 3]), torch.Size([4, 2, 2, 3]))"
      ]
     },
     "execution_count": 206,
     "metadata": {},
     "output_type": "execute_result"
    }
   ],
   "source": [
    "x = torch.arange(16).view((4, 2, 2, 1))\n",
    "y = torch.arange(1, 4, dtype=x.dtype).view(1, 1, 3)\n",
    "z = torch.mul(x, y)\n",
    "x.size(), y.size(), z.size()"
   ]
  },
  {
   "cell_type": "code",
   "execution_count": 207,
   "id": "bd9cab2f",
   "metadata": {},
   "outputs": [
    {
     "data": {
      "text/plain": [
       "(torch.Size([4, 2, 1, 2, 1]),\n",
       " torch.Size([3, 1, 3]),\n",
       " torch.Size([4, 2, 3, 2, 3]))"
      ]
     },
     "execution_count": 207,
     "metadata": {},
     "output_type": "execute_result"
    }
   ],
   "source": [
    "x = torch.arange(16).view((4, 2, 1, 2, 1))\n",
    "y = torch.arange(1, 10, dtype=x.dtype).view(3, 1, 3)\n",
    "z = torch.mul(x, y)\n",
    "x.size(), y.size(), z.size()"
   ]
  },
  {
   "cell_type": "code",
   "execution_count": 208,
   "id": "072f472d",
   "metadata": {},
   "outputs": [
    {
     "data": {
      "text/plain": [
       "(torch.Size([4, 2, 1, 2, 1]), torch.Size([2, 2]), torch.Size([4, 2, 1, 2, 2]))"
      ]
     },
     "execution_count": 208,
     "metadata": {},
     "output_type": "execute_result"
    }
   ],
   "source": [
    "x = torch.arange(16).view((4, 2, 1, 2, 1))\n",
    "y = torch.arange(1, 5, dtype=x.dtype).view(2, 2)\n",
    "z = torch.mul(x, y)\n",
    "x.size(), y.size(), z.size()"
   ]
  },
  {
   "cell_type": "code",
   "execution_count": 209,
   "id": "09fe11d1",
   "metadata": {},
   "outputs": [
    {
     "data": {
      "text/plain": [
       "(torch.Size([4, 2, 1, 2]), torch.Size([2, 2]), torch.Size([4, 2, 2, 2]))"
      ]
     },
     "execution_count": 209,
     "metadata": {},
     "output_type": "execute_result"
    }
   ],
   "source": [
    "x = torch.arange(16).view((4, 2, 1, 2))\n",
    "y = torch.arange(1, 5, dtype=x.dtype).view(2, 2)\n",
    "z = torch.mul(x, y)\n",
    "x.size(), y.size(), z.size()"
   ]
  },
  {
   "cell_type": "code",
   "execution_count": 210,
   "id": "06aef732",
   "metadata": {},
   "outputs": [
    {
     "data": {
      "text/plain": [
       "(torch.Size([4, 1, 2, 2, 1]), torch.Size([2, 5]), torch.Size([4, 1, 2, 2, 5]))"
      ]
     },
     "execution_count": 210,
     "metadata": {},
     "output_type": "execute_result"
    }
   ],
   "source": [
    "x = torch.arange(16).view((4, 1, 2, 2, 1))\n",
    "y = torch.arange(1, 11, dtype=x.dtype).view(2, 5)\n",
    "z = torch.mul(x, y)\n",
    "x.size(), y.size(), z.size()"
   ]
  },
  {
   "cell_type": "code",
   "execution_count": 211,
   "id": "621646e7",
   "metadata": {
    "collapsed": false,
    "jupyter": {
     "outputs_hidden": false
    },
    "pycharm": {
     "name": "#%%\n"
    }
   },
   "outputs": [
    {
     "data": {
      "text/plain": [
       "tensor([[[[[   nan],\n",
       "           [0.5000]],\n",
       "\n",
       "          [[0.5000],\n",
       "           [0.5000]]]],\n",
       "\n",
       "\n",
       "\n",
       "        [[[[0.5000],\n",
       "           [0.5000]],\n",
       "\n",
       "          [[0.5000],\n",
       "           [0.5000]]]],\n",
       "\n",
       "\n",
       "\n",
       "        [[[[0.5000],\n",
       "           [0.5000]],\n",
       "\n",
       "          [[0.5000],\n",
       "           [0.5000]]]],\n",
       "\n",
       "\n",
       "\n",
       "        [[[[0.5000],\n",
       "           [0.5000]],\n",
       "\n",
       "          [[0.5000],\n",
       "           [0.5000]]]]])"
      ]
     },
     "execution_count": 211,
     "metadata": {},
     "output_type": "execute_result"
    }
   ],
   "source": [
    "torch.div(x, 2*x)"
   ]
  },
  {
   "cell_type": "code",
   "execution_count": 212,
   "id": "360227f3",
   "metadata": {
    "collapsed": false,
    "jupyter": {
     "outputs_hidden": false
    },
    "pycharm": {
     "name": "#%%\n"
    }
   },
   "outputs": [
    {
     "data": {
      "text/plain": [
       "tensor([[-0.9668],\n",
       "        [ 0.8147],\n",
       "        [ 1.6947],\n",
       "        [-0.3067],\n",
       "        [ 1.2974],\n",
       "        [-0.3421],\n",
       "        [ 0.6608],\n",
       "        [-0.5189],\n",
       "        [ 1.2998],\n",
       "        [-1.3373],\n",
       "        [-0.8349],\n",
       "        [-0.5937],\n",
       "        [ 1.2963],\n",
       "        [ 0.7824],\n",
       "        [-0.9487],\n",
       "        [ 0.5878]])"
      ]
     },
     "execution_count": 212,
     "metadata": {},
     "output_type": "execute_result"
    }
   ],
   "source": [
    "torch.randn((x.numel(), 1))"
   ]
  },
  {
   "cell_type": "code",
   "execution_count": 213,
   "id": "d252514b",
   "metadata": {
    "collapsed": false,
    "jupyter": {
     "outputs_hidden": false
    },
    "pycharm": {
     "name": "#%%\n"
    }
   },
   "outputs": [
    {
     "data": {
      "text/plain": [
       "tensor([[ 1,  2,  3,  4,  5],\n",
       "        [ 6,  7,  8,  9, 10]])"
      ]
     },
     "execution_count": 213,
     "metadata": {},
     "output_type": "execute_result"
    }
   ],
   "source": [
    "y"
   ]
  },
  {
   "cell_type": "code",
   "execution_count": 214,
   "id": "57c95466",
   "metadata": {
    "collapsed": false,
    "jupyter": {
     "outputs_hidden": false
    },
    "pycharm": {
     "name": "#%%\n"
    }
   },
   "outputs": [
    {
     "data": {
      "text/plain": [
       "tensor([[[[[ 0.0000,  0.0000,  0.0000,  0.0000,  0.0000],\n",
       "           [ 0.1667,  0.1429,  0.1250,  0.1111,  0.1000]],\n",
       "\n",
       "          [[ 2.0000,  1.0000,  0.6667,  0.5000,  0.4000],\n",
       "           [ 0.5000,  0.4286,  0.3750,  0.3333,  0.3000]]]],\n",
       "\n",
       "\n",
       "\n",
       "        [[[[ 4.0000,  2.0000,  1.3333,  1.0000,  0.8000],\n",
       "           [ 0.8333,  0.7143,  0.6250,  0.5556,  0.5000]],\n",
       "\n",
       "          [[ 6.0000,  3.0000,  2.0000,  1.5000,  1.2000],\n",
       "           [ 1.1667,  1.0000,  0.8750,  0.7778,  0.7000]]]],\n",
       "\n",
       "\n",
       "\n",
       "        [[[[ 8.0000,  4.0000,  2.6667,  2.0000,  1.6000],\n",
       "           [ 1.5000,  1.2857,  1.1250,  1.0000,  0.9000]],\n",
       "\n",
       "          [[10.0000,  5.0000,  3.3333,  2.5000,  2.0000],\n",
       "           [ 1.8333,  1.5714,  1.3750,  1.2222,  1.1000]]]],\n",
       "\n",
       "\n",
       "\n",
       "        [[[[12.0000,  6.0000,  4.0000,  3.0000,  2.4000],\n",
       "           [ 2.1667,  1.8571,  1.6250,  1.4444,  1.3000]],\n",
       "\n",
       "          [[14.0000,  7.0000,  4.6667,  3.5000,  2.8000],\n",
       "           [ 2.5000,  2.1429,  1.8750,  1.6667,  1.5000]]]]])"
      ]
     },
     "execution_count": 214,
     "metadata": {},
     "output_type": "execute_result"
    }
   ],
   "source": [
    "x / y"
   ]
  },
  {
   "cell_type": "code",
   "execution_count": 215,
   "id": "0f46e958",
   "metadata": {
    "collapsed": false,
    "jupyter": {
     "outputs_hidden": false
    },
    "pycharm": {
     "name": "#%%\n"
    }
   },
   "outputs": [
    {
     "data": {
      "text/plain": [
       "tensor([[[[[ 0.0000,  0.0000,  0.0000,  0.0000,  0.0000],\n",
       "           [ 0.1667,  0.1429,  0.1250,  0.1111,  0.1000]],\n",
       "\n",
       "          [[ 2.0000,  1.0000,  0.6667,  0.5000,  0.4000],\n",
       "           [ 0.5000,  0.4286,  0.3750,  0.3333,  0.3000]]]],\n",
       "\n",
       "\n",
       "\n",
       "        [[[[ 4.0000,  2.0000,  1.3333,  1.0000,  0.8000],\n",
       "           [ 0.8333,  0.7143,  0.6250,  0.5556,  0.5000]],\n",
       "\n",
       "          [[ 6.0000,  3.0000,  2.0000,  1.5000,  1.2000],\n",
       "           [ 1.1667,  1.0000,  0.8750,  0.7778,  0.7000]]]],\n",
       "\n",
       "\n",
       "\n",
       "        [[[[ 8.0000,  4.0000,  2.6667,  2.0000,  1.6000],\n",
       "           [ 1.5000,  1.2857,  1.1250,  1.0000,  0.9000]],\n",
       "\n",
       "          [[10.0000,  5.0000,  3.3333,  2.5000,  2.0000],\n",
       "           [ 1.8333,  1.5714,  1.3750,  1.2222,  1.1000]]]],\n",
       "\n",
       "\n",
       "\n",
       "        [[[[12.0000,  6.0000,  4.0000,  3.0000,  2.4000],\n",
       "           [ 2.1667,  1.8571,  1.6250,  1.4444,  1.3000]],\n",
       "\n",
       "          [[14.0000,  7.0000,  4.6667,  3.5000,  2.8000],\n",
       "           [ 2.5000,  2.1429,  1.8750,  1.6667,  1.5000]]]]])"
      ]
     },
     "execution_count": 215,
     "metadata": {},
     "output_type": "execute_result"
    }
   ],
   "source": [
    "torch.div(x, y)"
   ]
  },
  {
   "cell_type": "code",
   "execution_count": 216,
   "id": "3fef806c",
   "metadata": {
    "collapsed": false,
    "jupyter": {
     "outputs_hidden": false
    },
    "pycharm": {
     "name": "#%%\n"
    }
   },
   "outputs": [
    {
     "data": {
      "text/plain": [
       "tensor([[[[[ 0.,  0.,  0.,  0.,  0.],\n",
       "           [ 0.,  0.,  0.,  0.,  0.]],\n",
       "\n",
       "          [[ 2.,  1.,  0.,  0.,  0.],\n",
       "           [ 0.,  0.,  0.,  0.,  0.]]]],\n",
       "\n",
       "\n",
       "\n",
       "        [[[[ 4.,  2.,  1.,  1.,  0.],\n",
       "           [ 0.,  0.,  0.,  0.,  0.]],\n",
       "\n",
       "          [[ 6.,  3.,  2.,  1.,  1.],\n",
       "           [ 1.,  1.,  0.,  0.,  0.]]]],\n",
       "\n",
       "\n",
       "\n",
       "        [[[[ 8.,  4.,  2.,  2.,  1.],\n",
       "           [ 1.,  1.,  1.,  1.,  0.]],\n",
       "\n",
       "          [[10.,  5.,  3.,  2.,  2.],\n",
       "           [ 1.,  1.,  1.,  1.,  1.]]]],\n",
       "\n",
       "\n",
       "\n",
       "        [[[[12.,  6.,  4.,  3.,  2.],\n",
       "           [ 2.,  1.,  1.,  1.,  1.]],\n",
       "\n",
       "          [[14.,  7.,  4.,  3.,  2.],\n",
       "           [ 2.,  2.,  1.,  1.,  1.]]]]])"
      ]
     },
     "execution_count": 216,
     "metadata": {},
     "output_type": "execute_result"
    }
   ],
   "source": [
    "torch.div(x, y + 1.e-9, rounding_mode=\"trunc\")"
   ]
  },
  {
   "cell_type": "code",
   "execution_count": 217,
   "id": "473db953",
   "metadata": {
    "collapsed": false,
    "jupyter": {
     "outputs_hidden": false
    },
    "pycharm": {
     "name": "#%%\n"
    }
   },
   "outputs": [
    {
     "data": {
      "text/plain": [
       "tensor([[[[[ 0.,  0.,  0.,  0.,  0.],\n",
       "           [ 0.,  0.,  0.,  0.,  0.]],\n",
       "\n",
       "          [[ 2.,  1.,  0.,  0.,  0.],\n",
       "           [ 0.,  0.,  0.,  0.,  0.]]]],\n",
       "\n",
       "\n",
       "\n",
       "        [[[[ 4.,  2.,  1.,  1.,  0.],\n",
       "           [ 0.,  0.,  0.,  0.,  0.]],\n",
       "\n",
       "          [[ 6.,  3.,  2.,  1.,  1.],\n",
       "           [ 1.,  1.,  0.,  0.,  0.]]]],\n",
       "\n",
       "\n",
       "\n",
       "        [[[[ 8.,  4.,  2.,  2.,  1.],\n",
       "           [ 1.,  1.,  1.,  1.,  0.]],\n",
       "\n",
       "          [[10.,  5.,  3.,  2.,  2.],\n",
       "           [ 1.,  1.,  1.,  1.,  1.]]]],\n",
       "\n",
       "\n",
       "\n",
       "        [[[[12.,  6.,  4.,  3.,  2.],\n",
       "           [ 2.,  1.,  1.,  1.,  1.]],\n",
       "\n",
       "          [[14.,  7.,  4.,  3.,  2.],\n",
       "           [ 2.,  2.,  1.,  1.,  1.]]]]])"
      ]
     },
     "execution_count": 217,
     "metadata": {},
     "output_type": "execute_result"
    }
   ],
   "source": [
    "torch.div(x, y  + 1.e-9, rounding_mode=\"floor\")"
   ]
  },
  {
   "cell_type": "code",
   "execution_count": 218,
   "id": "68f06f38",
   "metadata": {
    "collapsed": false,
    "jupyter": {
     "outputs_hidden": false
    },
    "pycharm": {
     "name": "#%%\n"
    }
   },
   "outputs": [
    {
     "data": {
      "text/plain": [
       "(torch.Size([4, 1, 2, 2, 1]),\n",
       " torch.Size([2, 5]),\n",
       " torch.Size([4, 1, 2, 2, 5]),\n",
       " torch.Size([4, 1, 2, 2, 5]))"
      ]
     },
     "execution_count": 218,
     "metadata": {},
     "output_type": "execute_result"
    }
   ],
   "source": [
    "x.shape, y.shape, (x / y).shape, (x*y).shape"
   ]
  },
  {
   "cell_type": "code",
   "execution_count": 219,
   "id": "a1000f64",
   "metadata": {
    "collapsed": false,
    "jupyter": {
     "outputs_hidden": false
    },
    "pycharm": {
     "name": "#%%\n"
    }
   },
   "outputs": [
    {
     "data": {
      "text/plain": [
       "(tensor([2.7183, 3.0377, 3.3947, 3.7937, 4.2395, 4.7377, 5.2945, 5.9167, 6.6120,\n",
       "         7.3891]),\n",
       " tensor([2.7183, 3.0377, 3.3947, 3.7937, 4.2395, 4.7377, 5.2945, 5.9167, 6.6120,\n",
       "         7.3891]))"
      ]
     },
     "execution_count": 219,
     "metadata": {},
     "output_type": "execute_result"
    }
   ],
   "source": [
    "c = torch.logspace(1, 2, 10,\n",
    "                   base=torch.exp(torch.tensor(1.0)).item())\n",
    "c, torch.exp(torch.linspace(1, 2, 10))\n"
   ]
  },
  {
   "cell_type": "code",
   "execution_count": 220,
   "id": "4a14ae66",
   "metadata": {
    "collapsed": false,
    "jupyter": {
     "outputs_hidden": false
    },
    "pycharm": {
     "name": "#%%\n"
    }
   },
   "outputs": [
    {
     "data": {
      "text/plain": [
       "(tensor([2.7183, 3.0377, 3.3947, 3.7937, 4.2395, 4.7377, 5.2945, 5.9167, 6.6120,\n",
       "         7.3891]),\n",
       " tensor([  15.1543,   20.8579,   29.8064,   44.4190,   69.3729,  114.1733,\n",
       "          199.2360,  371.1823,  743.9826, 1618.1774]))"
      ]
     },
     "execution_count": 220,
     "metadata": {},
     "output_type": "execute_result"
    }
   ],
   "source": [
    "c, torch.exp(c)"
   ]
  },
  {
   "cell_type": "code",
   "execution_count": 221,
   "id": "e5d20184",
   "metadata": {
    "collapsed": false,
    "jupyter": {
     "outputs_hidden": false
    },
    "pycharm": {
     "name": "#%%\n"
    }
   },
   "outputs": [
    {
     "data": {
      "text/plain": [
       "(tensor([  6.5809,   8.2120,  10.5175,  13.8678,  18.8893,  26.6806,  39.2464,\n",
       "          60.4091,  97.8173, 167.6206]),\n",
       " tensor([  6.5809,   8.2120,  10.5175,  13.8678,  18.8893,  26.6806,  39.2464,\n",
       "          60.4091,  97.8173, 167.6206]))"
      ]
     },
     "execution_count": 221,
     "metadata": {},
     "output_type": "execute_result"
    }
   ],
   "source": [
    "torch.special.exp2(c), torch.pow(2, c)"
   ]
  },
  {
   "cell_type": "code",
   "execution_count": 222,
   "id": "4b5cd8ee",
   "metadata": {
    "collapsed": false,
    "jupyter": {
     "outputs_hidden": false
    },
    "pycharm": {
     "name": "#%%\n"
    }
   },
   "outputs": [
    {
     "data": {
      "text/plain": [
       "(tensor([  14.1543,   19.8579,   28.8064,   43.4190,   68.3729,  113.1733,\n",
       "          198.2360,  370.1823,  742.9826, 1617.1774]),\n",
       " tensor([  14.1543,   19.8579,   28.8064,   43.4190,   68.3729,  113.1733,\n",
       "          198.2360,  370.1823,  742.9826, 1617.1774]))"
      ]
     },
     "execution_count": 222,
     "metadata": {},
     "output_type": "execute_result"
    }
   ],
   "source": [
    "torch.special.expm1(c), torch.exp(c) - 1"
   ]
  },
  {
   "cell_type": "code",
   "execution_count": 223,
   "id": "3bc1b040",
   "metadata": {
    "collapsed": false,
    "jupyter": {
     "outputs_hidden": false
    },
    "pycharm": {
     "name": "#%%\n"
    }
   },
   "outputs": [
    {
     "data": {
      "text/plain": [
       "tensor(8.0791)"
      ]
     },
     "execution_count": 223,
     "metadata": {},
     "output_type": "execute_result"
    }
   ],
   "source": [
    "torch.special.logsumexp(c, 0) # LSE"
   ]
  },
  {
   "cell_type": "code",
   "execution_count": 224,
   "id": "3292b578",
   "metadata": {},
   "outputs": [
    {
     "data": {
      "text/plain": [
       "(tensor(8.0791), tensor(8.0791))"
      ]
     },
     "execution_count": 224,
     "metadata": {},
     "output_type": "execute_result"
    }
   ],
   "source": [
    "torch.special.logsumexp(c, 0), torch.log(torch.exp(c).sum(0))"
   ]
  },
  {
   "cell_type": "code",
   "execution_count": 225,
   "id": "f5167988",
   "metadata": {
    "collapsed": false,
    "jupyter": {
     "outputs_hidden": false
    },
    "pycharm": {
     "name": "#%%\n"
    }
   },
   "outputs": [
    {
     "data": {
      "text/plain": [
       "(tensor([1.3133, 1.3957, 1.4804, 1.5673, 1.6562, 1.7471, 1.8397, 1.9339, 2.0297,\n",
       "         2.1269]),\n",
       " tensor([1.3133, 1.3957, 1.4804, 1.5673, 1.6562, 1.7471, 1.8397, 1.9339, 2.0297,\n",
       "         2.1269]))"
      ]
     },
     "execution_count": 225,
     "metadata": {},
     "output_type": "execute_result"
    }
   ],
   "source": [
    "torch.log1p(c),  torch.log(1 + c)"
   ]
  },
  {
   "cell_type": "code",
   "execution_count": 226,
   "id": "6f81feeb",
   "metadata": {
    "collapsed": false,
    "jupyter": {
     "outputs_hidden": false
    },
    "pycharm": {
     "name": "#%%\n"
    }
   },
   "outputs": [
    {
     "data": {
      "text/plain": [
       "(tensor([[-8.1690,  2.3226, -8.8774, -0.0603, -1.2294],\n",
       "         [ 0.0959, -2.3810, -1.4615, -6.0452, -6.6024],\n",
       "         [ 3.2829,  9.0205, -7.9889, -9.4396, -5.4088],\n",
       "         [ 9.5987,  9.0000, -9.7306,  2.4256,  1.3488]]),\n",
       " tensor([[ -9.,   2.,  -9.,  -1.,  -2.],\n",
       "         [  0.,  -3.,  -2.,  -7.,  -7.],\n",
       "         [  3.,   9.,  -8., -10.,  -6.],\n",
       "         [  9.,   8., -10.,   2.,   1.]]),\n",
       " tensor([[-8.,  3., -8., -0., -1.],\n",
       "         [ 1., -2., -1., -6., -6.],\n",
       "         [ 4., 10., -7., -9., -5.],\n",
       "         [10.,  9., -9.,  3.,  2.]]),\n",
       " tensor([[-8.,  2., -8., -0., -1.],\n",
       "         [ 0., -2., -1., -6., -6.],\n",
       "         [ 3.,  9., -7., -9., -5.],\n",
       "         [ 9.,  8., -9.,  2.,  1.]]),\n",
       " tensor([[ -8.,   2.,  -9.,  -0.,  -1.],\n",
       "         [  0.,  -2.,  -1.,  -6.,  -7.],\n",
       "         [  3.,   9.,  -8.,  -9.,  -5.],\n",
       "         [ 10.,   9., -10.,   2.,   1.]]))"
      ]
     },
     "execution_count": 226,
     "metadata": {},
     "output_type": "execute_result"
    }
   ],
   "source": [
    "x = torch.empty(4, 5).uniform_(-10, 10)\n",
    "(x,\n",
    "torch.floor(x.to(torch.float)), \n",
    "torch.ceil(x.to(torch.float)),\n",
    "torch.trunc(x.to(torch.float)), \n",
    "torch.round(x.to(torch.float)))"
   ]
  },
  {
   "cell_type": "code",
   "execution_count": 227,
   "id": "d5368b59",
   "metadata": {
    "collapsed": false,
    "jupyter": {
     "outputs_hidden": false
    },
    "pycharm": {
     "name": "#%%\n"
    }
   },
   "outputs": [
    {
     "data": {
      "text/plain": [
       "tensor([4, 8, 4, 5])"
      ]
     },
     "execution_count": 227,
     "metadata": {},
     "output_type": "execute_result"
    }
   ],
   "source": [
    "a = torch.randint(10, (4, ))\n",
    "a"
   ]
  },
  {
   "cell_type": "code",
   "execution_count": 1202,
   "id": "107ed162",
   "metadata": {},
   "outputs": [
    {
     "data": {
      "text/plain": [
       "tensor([0, 0, 0, 0])"
      ]
     },
     "execution_count": 1202,
     "metadata": {},
     "output_type": "execute_result"
    }
   ],
   "source": [
    "torch.randint(0, 1, (4, ))"
   ]
  },
  {
   "cell_type": "code",
   "execution_count": 1203,
   "id": "abf1537c",
   "metadata": {},
   "outputs": [
    {
     "data": {
      "text/plain": [
       "tensor([0, 1, 0, 0])"
      ]
     },
     "execution_count": 1203,
     "metadata": {},
     "output_type": "execute_result"
    }
   ],
   "source": [
    "torch.randint(0, 2, (4, ))"
   ]
  },
  {
   "cell_type": "code",
   "execution_count": 228,
   "id": "a899cf14",
   "metadata": {
    "collapsed": false,
    "jupyter": {
     "outputs_hidden": false
    },
    "pycharm": {
     "name": "#%%\n"
    }
   },
   "outputs": [
    {
     "data": {
      "text/plain": [
       "(tensor([16., 64., 16., 25.], dtype=torch.float64),\n",
       " tensor([16, 64, 16, 25]),\n",
       " tensor([16, 64, 16, 25]))"
      ]
     },
     "execution_count": 228,
     "metadata": {},
     "output_type": "execute_result"
    }
   ],
   "source": [
    "torch.float_power(a, 2) , a**2, torch.pow(a, 2) # torch.float_power -> double precision"
   ]
  },
  {
   "cell_type": "code",
   "execution_count": 229,
   "id": "c5ab3818",
   "metadata": {
    "collapsed": false,
    "jupyter": {
     "outputs_hidden": false
    },
    "pycharm": {
     "name": "#%%\n"
    }
   },
   "outputs": [
    {
     "data": {
      "text/plain": [
       "(tensor([ -5.0311,  -4.2620,  -2.9611,  -2.5506,  -1.6885,  -3.4632, -10.8981,\n",
       "          -8.6869,   0.7117,  -4.2923]),\n",
       " tensor([-0.0311, -0.2620, -0.9611, -0.5506, -0.6885, -0.4632, -0.8981, -0.6869,\n",
       "          0.7117, -0.2923]))"
      ]
     },
     "execution_count": 229,
     "metadata": {},
     "output_type": "execute_result"
    }
   ],
   "source": [
    "z = torch.normal(mean=torch.ones((10, )) * -5.0,\n",
    "                 std=torch.linspace(1, 10, 10))\n",
    "z, torch.frac(z)"
   ]
  },
  {
   "cell_type": "code",
   "execution_count": 230,
   "id": "ee707b1d",
   "metadata": {
    "collapsed": false,
    "jupyter": {
     "outputs_hidden": false
    },
    "pycharm": {
     "name": "#%%\n"
    }
   },
   "outputs": [
    {
     "data": {
      "text/plain": [
       "(tensor([1, 3, 5, 7, 9]), tensor([0, 2, 4, 6, 8]))"
      ]
     },
     "execution_count": 230,
     "metadata": {},
     "output_type": "execute_result"
    }
   ],
   "source": [
    "x = torch.arange(1, 10, 2)\n",
    "z = torch.arange(0, 10, 2)\n",
    "x, z"
   ]
  },
  {
   "cell_type": "code",
   "execution_count": 231,
   "id": "f3c7af8e",
   "metadata": {
    "collapsed": false,
    "jupyter": {
     "outputs_hidden": false
    },
    "pycharm": {
     "name": "#%%\n"
    }
   },
   "outputs": [],
   "source": [
    "y = 2 * z"
   ]
  },
  {
   "cell_type": "code",
   "execution_count": 232,
   "id": "a6f23dba",
   "metadata": {
    "collapsed": false,
    "jupyter": {
     "outputs_hidden": false
    },
    "pycharm": {
     "name": "#%%\n"
    }
   },
   "outputs": [
    {
     "data": {
      "text/plain": [
       "(tensor([2., 2., 2., 2., 2.]),)"
      ]
     },
     "execution_count": 232,
     "metadata": {},
     "output_type": "execute_result"
    }
   ],
   "source": [
    "torch.gradient(y, spacing=(z, ))"
   ]
  },
  {
   "cell_type": "code",
   "execution_count": 233,
   "id": "b7893957",
   "metadata": {
    "collapsed": false,
    "jupyter": {
     "outputs_hidden": false
    },
    "pycharm": {
     "name": "#%%\n"
    }
   },
   "outputs": [],
   "source": [
    "mat = torch.randint(0, 10, size=(10, 5))"
   ]
  },
  {
   "cell_type": "code",
   "execution_count": 234,
   "id": "90ed8c44",
   "metadata": {
    "collapsed": false,
    "jupyter": {
     "outputs_hidden": false
    },
    "pycharm": {
     "name": "#%%\n"
    }
   },
   "outputs": [
    {
     "data": {
      "text/plain": [
       "tensor([[8, 2, 8, 2, 0],\n",
       "        [9, 4, 3, 7, 3],\n",
       "        [8, 6, 0, 7, 8],\n",
       "        [1, 8, 9, 7, 1],\n",
       "        [5, 1, 9, 0, 7],\n",
       "        [5, 5, 7, 1, 5],\n",
       "        [0, 0, 9, 1, 0],\n",
       "        [9, 9, 9, 4, 9],\n",
       "        [0, 3, 4, 4, 5],\n",
       "        [5, 8, 9, 3, 9]])"
      ]
     },
     "execution_count": 234,
     "metadata": {},
     "output_type": "execute_result"
    }
   ],
   "source": [
    "mat"
   ]
  },
  {
   "cell_type": "code",
   "execution_count": 235,
   "id": "a77e484c",
   "metadata": {
    "collapsed": false,
    "jupyter": {
     "outputs_hidden": false
    },
    "pycharm": {
     "name": "#%%\n"
    }
   },
   "outputs": [
    {
     "data": {
      "text/plain": [
       "(tensor([ 48,  86, 118, 102,  94,  84,  42, 150,  86, 142]),\n",
       " tensor([ 48,  86, 118, 102,  94,  84,  42, 150,  86, 142]))"
      ]
     },
     "execution_count": 235,
     "metadata": {},
     "output_type": "execute_result"
    }
   ],
   "source": [
    "w = torch.matmul(mat, z)\n",
    "w, mat @ z"
   ]
  },
  {
   "cell_type": "code",
   "execution_count": 236,
   "id": "ab853b4a",
   "metadata": {
    "collapsed": false,
    "jupyter": {
     "outputs_hidden": false
    },
    "pycharm": {
     "name": "#%%\n"
    }
   },
   "outputs": [
    {
     "data": {
      "text/plain": [
       "tensor([ 0.3137-0.4507j, -0.0110+0.1705j, -0.9885+0.9486j, -0.2790+0.6491j])"
      ]
     },
     "execution_count": 236,
     "metadata": {},
     "output_type": "execute_result"
    }
   ],
   "source": [
    "x=torch.randn(4, dtype=torch.cfloat)\n",
    "x"
   ]
  },
  {
   "cell_type": "code",
   "execution_count": 237,
   "id": "f4c779ad",
   "metadata": {
    "collapsed": false,
    "jupyter": {
     "outputs_hidden": false
    },
    "pycharm": {
     "name": "#%%\n"
    }
   },
   "outputs": [
    {
     "data": {
      "text/plain": [
       "tensor([-0.4507,  0.1705,  0.9486,  0.6491])"
      ]
     },
     "execution_count": 237,
     "metadata": {},
     "output_type": "execute_result"
    }
   ],
   "source": [
    "x.imag"
   ]
  },
  {
   "cell_type": "code",
   "execution_count": 238,
   "id": "ecbf3f37",
   "metadata": {
    "collapsed": false,
    "jupyter": {
     "outputs_hidden": false
    },
    "pycharm": {
     "name": "#%%\n"
    }
   },
   "outputs": [
    {
     "data": {
      "text/plain": [
       "(tensor([1, 2, 3, 4]), tensor([10., 10., 10., 10.]))"
      ]
     },
     "execution_count": 238,
     "metadata": {},
     "output_type": "execute_result"
    }
   ],
   "source": [
    "start = torch.arange(1, 5)\n",
    "end = torch.empty(4).fill_(10)\n",
    "start, end"
   ]
  },
  {
   "cell_type": "code",
   "execution_count": 239,
   "id": "96a5be2b",
   "metadata": {},
   "outputs": [
    {
     "data": {
      "text/plain": [
       "(tensor([1, 2, 3, 4]), tensor([10., 10., 10., 10.]))"
      ]
     },
     "execution_count": 239,
     "metadata": {},
     "output_type": "execute_result"
    }
   ],
   "source": [
    "start = torch.arange(1, 5)\n",
    "start, end"
   ]
  },
  {
   "cell_type": "code",
   "execution_count": 240,
   "id": "fb69de83",
   "metadata": {
    "collapsed": false,
    "jupyter": {
     "outputs_hidden": false
    },
    "pycharm": {
     "name": "#%%\n"
    }
   },
   "outputs": [
    {
     "data": {
      "text/plain": [
       "tensor([5.5000, 6.0000, 6.5000, 7.0000])"
      ]
     },
     "execution_count": 240,
     "metadata": {},
     "output_type": "execute_result"
    }
   ],
   "source": [
    "start = torch.arange(1, 5.)\n",
    "end = torch.empty(4).fill_(10.)\n",
    "x = torch.lerp(start, end, 0.5)\n",
    "x"
   ]
  },
  {
   "cell_type": "code",
   "execution_count": 241,
   "id": "86b97246",
   "metadata": {
    "collapsed": false,
    "jupyter": {
     "outputs_hidden": false
    },
    "pycharm": {
     "name": "#%%\n"
    }
   },
   "outputs": [
    {
     "data": {
      "text/plain": [
       "tensor([5.5000, 6.0000, 6.5000, 7.0000])"
      ]
     },
     "execution_count": 241,
     "metadata": {},
     "output_type": "execute_result"
    }
   ],
   "source": [
    "y = torch.lgamma(x)\n",
    "x"
   ]
  },
  {
   "cell_type": "code",
   "execution_count": 242,
   "id": "02ed245e",
   "metadata": {
    "collapsed": false,
    "jupyter": {
     "outputs_hidden": false
    },
    "pycharm": {
     "name": "#%%\n"
    }
   },
   "outputs": [
    {
     "data": {
      "text/plain": [
       "tensor([0.0000, 0.6931, 1.0986, 2.3026])"
      ]
     },
     "execution_count": 242,
     "metadata": {},
     "output_type": "execute_result"
    }
   ],
   "source": [
    "z = torch.log(torch.tensor([1.0, 2, 3, 10]))\n",
    "z"
   ]
  },
  {
   "cell_type": "code",
   "execution_count": 243,
   "id": "ac21ad1a",
   "metadata": {},
   "outputs": [
    {
     "data": {
      "text/plain": [
       "tensor([ 1.,  2.,  3., 10.])"
      ]
     },
     "execution_count": 243,
     "metadata": {},
     "output_type": "execute_result"
    }
   ],
   "source": [
    "z = torch.log(torch.exp(torch.tensor([1.0, 2, 3, 10])))\n",
    "z"
   ]
  },
  {
   "cell_type": "code",
   "execution_count": 244,
   "id": "6ded2005",
   "metadata": {
    "collapsed": false,
    "jupyter": {
     "outputs_hidden": false
    },
    "pycharm": {
     "name": "#%%\n"
    }
   },
   "outputs": [
    {
     "data": {
      "text/plain": [
       "(tensor([2.4594, 2.5850, 2.7004, 2.8074]),\n",
       " tensor([0.7404, 0.7782, 0.8129, 0.8451]))"
      ]
     },
     "execution_count": 244,
     "metadata": {},
     "output_type": "execute_result"
    }
   ],
   "source": [
    "torch.log2(x), torch.log10(x)"
   ]
  },
  {
   "cell_type": "code",
   "execution_count": 245,
   "id": "320268f4",
   "metadata": {
    "collapsed": false,
    "jupyter": {
     "outputs_hidden": false
    },
    "pycharm": {
     "name": "#%%\n"
    }
   },
   "outputs": [
    {
     "data": {
      "text/plain": [
       "tensor([0.6931, 1.3863, 1.7918], dtype=torch.float64)"
      ]
     },
     "execution_count": 245,
     "metadata": {},
     "output_type": "execute_result"
    }
   ],
   "source": [
    "\"\"\"log(e**x  +  e**y)\"\"\"\n",
    "a = torch.tensor([np.log(1.0), np.log(2), np.log(3)])\n",
    "x = torch.logaddexp(a, a)\n",
    "x"
   ]
  },
  {
   "cell_type": "code",
   "execution_count": 246,
   "id": "8ccc7731",
   "metadata": {
    "collapsed": false,
    "jupyter": {
     "outputs_hidden": false
    },
    "pycharm": {
     "name": "#%%\n"
    }
   },
   "outputs": [
    {
     "data": {
      "text/plain": [
       "tensor([False,  True,  True])"
      ]
     },
     "execution_count": 246,
     "metadata": {},
     "output_type": "execute_result"
    }
   ],
   "source": [
    "torch.logical_and(a, a)"
   ]
  },
  {
   "cell_type": "code",
   "execution_count": 247,
   "id": "eef21f1c",
   "metadata": {
    "collapsed": false,
    "jupyter": {
     "outputs_hidden": false
    },
    "pycharm": {
     "name": "#%%\n"
    }
   },
   "outputs": [
    {
     "data": {
      "text/plain": [
       "tensor([False,  True,  True])"
      ]
     },
     "execution_count": 247,
     "metadata": {},
     "output_type": "execute_result"
    }
   ],
   "source": [
    "torch.logical_or(a, a)"
   ]
  },
  {
   "cell_type": "code",
   "execution_count": 248,
   "id": "e959bd5e",
   "metadata": {
    "collapsed": false,
    "jupyter": {
     "outputs_hidden": false
    },
    "pycharm": {
     "name": "#%%\n"
    }
   },
   "outputs": [
    {
     "data": {
      "text/plain": [
       "tensor(2.)"
      ]
     },
     "execution_count": 248,
     "metadata": {},
     "output_type": "execute_result"
    }
   ],
   "source": [
    "torch.log2(torch.tensor(4))"
   ]
  },
  {
   "cell_type": "code",
   "execution_count": 249,
   "id": "0ae2e2c7",
   "metadata": {
    "collapsed": false,
    "jupyter": {
     "outputs_hidden": false
    },
    "pycharm": {
     "name": "#%%\n"
    }
   },
   "outputs": [
    {
     "data": {
      "text/plain": [
       "tensor(1.)"
      ]
     },
     "execution_count": 249,
     "metadata": {},
     "output_type": "execute_result"
    }
   ],
   "source": [
    "torch.log10(torch.tensor(10))"
   ]
  },
  {
   "cell_type": "code",
   "execution_count": 250,
   "id": "cb4a15cb",
   "metadata": {
    "collapsed": false,
    "jupyter": {
     "outputs_hidden": false
    },
    "pycharm": {
     "name": "#%%\n"
    }
   },
   "outputs": [
    {
     "data": {
      "text/plain": [
       "(tensor([0.6931, 1.0986, 1.3863, 1.6094, 1.7918]),\n",
       " tensor([0.6931, 1.0986, 1.3863, 1.6094, 1.7918]))"
      ]
     },
     "execution_count": 250,
     "metadata": {},
     "output_type": "execute_result"
    }
   ],
   "source": [
    "a = torch.arange(1, 6.)\n",
    "torch.log1p(a), torch.log(1 + a)"
   ]
  },
  {
   "cell_type": "code",
   "execution_count": 251,
   "id": "40bf5795",
   "metadata": {},
   "outputs": [
    {
     "data": {
      "text/plain": [
       "tensor([0.5488, 0.7152, 0.6028, 0.5449, 0.4237], dtype=torch.float64)"
      ]
     },
     "execution_count": 251,
     "metadata": {},
     "output_type": "execute_result"
    }
   ],
   "source": [
    "np.random.seed(0)\n",
    "torch.from_numpy(np.random.uniform(0., 1.0, 5))"
   ]
  },
  {
   "cell_type": "code",
   "execution_count": 252,
   "id": "ce64e642",
   "metadata": {
    "collapsed": false,
    "jupyter": {
     "outputs_hidden": false
    },
    "pycharm": {
     "name": "#%%\n"
    }
   },
   "outputs": [
    {
     "data": {
      "text/plain": [
       "(tensor([0.5488, 0.7152, 0.6028, 0.5449, 0.4237], dtype=torch.float64),\n",
       " tensor([ 0.1959,  0.9207,  0.4170,  0.1800, -0.3078], dtype=torch.float64),\n",
       " tensor([ 0.1959,  0.9207,  0.4170,  0.1800, -0.3078], dtype=torch.float64))"
      ]
     },
     "execution_count": 252,
     "metadata": {},
     "output_type": "execute_result"
    }
   ],
   "source": [
    "np.random.seed(0)\n",
    "a = torch.from_numpy(np.random.uniform(0., 1.0, 5))\n",
    "\"\"\"Inverse of sigmoid = sigmoid^(-1)(x)\"\"\"\n",
    "x = torch.logit(a, eps=1e-7)\n",
    "a, x,  torch.log(a / (1 - a))"
   ]
  },
  {
   "cell_type": "code",
   "execution_count": 253,
   "id": "a757a060",
   "metadata": {
    "collapsed": false,
    "jupyter": {
     "outputs_hidden": false
    },
    "pycharm": {
     "name": "#%%\n"
    }
   },
   "outputs": [
    {
     "data": {
      "text/plain": [
       "tensor([ 0.1959,  0.9207,  0.4170,  0.1800, -0.3078], dtype=torch.float64)"
      ]
     },
     "execution_count": 253,
     "metadata": {},
     "output_type": "execute_result"
    }
   ],
   "source": [
    "torch.special.logit(a)"
   ]
  },
  {
   "cell_type": "code",
   "execution_count": 254,
   "id": "8614a4f6",
   "metadata": {
    "collapsed": false,
    "jupyter": {
     "outputs_hidden": false
    },
    "pycharm": {
     "name": "#%%\n"
    }
   },
   "outputs": [
    {
     "data": {
      "text/plain": [
       "tensor([2.1810], dtype=torch.float64)"
      ]
     },
     "execution_count": 254,
     "metadata": {},
     "output_type": "execute_result"
    }
   ],
   "source": [
    "torch.special.logsumexp(a, 0, keepdim=True)"
   ]
  },
  {
   "cell_type": "code",
   "execution_count": 255,
   "id": "a626fe76",
   "metadata": {
    "collapsed": false,
    "jupyter": {
     "outputs_hidden": false
    },
    "pycharm": {
     "name": "#%%\n"
    }
   },
   "outputs": [
    {
     "data": {
      "text/plain": [
       "tensor([-1.6322, -1.4658, -1.5782, -1.6361, -1.7573], dtype=torch.float64)"
      ]
     },
     "execution_count": 255,
     "metadata": {},
     "output_type": "execute_result"
    }
   ],
   "source": [
    "torch.special.log_softmax(a, 0)"
   ]
  },
  {
   "cell_type": "code",
   "execution_count": 256,
   "id": "cb3896d6",
   "metadata": {},
   "outputs": [
    {
     "data": {
      "text/plain": [
       "tensor([-1.6322, -1.4658, -1.5782, -1.6361, -1.7573], dtype=torch.float64)"
      ]
     },
     "execution_count": 256,
     "metadata": {},
     "output_type": "execute_result"
    }
   ],
   "source": [
    "torch.log(torch.softmax(a.unsqueeze(0), dim=1)).squeeze(0)"
   ]
  },
  {
   "cell_type": "code",
   "execution_count": 257,
   "id": "dda69b0b",
   "metadata": {
    "collapsed": false,
    "jupyter": {
     "outputs_hidden": false
    },
    "pycharm": {
     "name": "#%%\n"
    }
   },
   "outputs": [
    {
     "data": {
      "text/plain": [
       "(tensor([5.0000, 5.6569, 6.4031]), tensor([5.0000, 5.6569, 6.4031]))"
      ]
     },
     "execution_count": 257,
     "metadata": {},
     "output_type": "execute_result"
    }
   ],
   "source": [
    "a = torch.hypot(torch.tensor([4.0]), torch.tensor([3.0, 4.0, 5.0]))\n",
    "a, torch.sqrt(torch.square(torch.tensor([4.0])) + torch.square(torch.tensor([3.0, 4.0, 5.0])))"
   ]
  },
  {
   "cell_type": "code",
   "execution_count": 258,
   "id": "458426b6",
   "metadata": {},
   "outputs": [
    {
     "data": {
      "text/plain": [
       "torch.Size([3, 4, 2])"
      ]
     },
     "execution_count": 258,
     "metadata": {},
     "output_type": "execute_result"
    }
   ],
   "source": [
    "torch.hypot(torch.randn(3, 4, 2), torch.randn(1, 2)).size()"
   ]
  },
  {
   "cell_type": "code",
   "execution_count": 259,
   "id": "72cc5e44",
   "metadata": {},
   "outputs": [
    {
     "data": {
      "text/plain": [
       "torch.Size([3, 4, 2])"
      ]
     },
     "execution_count": 259,
     "metadata": {},
     "output_type": "execute_result"
    }
   ],
   "source": [
    "torch.hypot(torch.randn(3, 4, 2), torch.randn(4, 2)).size()"
   ]
  },
  {
   "cell_type": "code",
   "execution_count": 260,
   "id": "5f696337",
   "metadata": {},
   "outputs": [
    {
     "data": {
      "text/plain": [
       "tensor([[[1.1852, 1.8572],\n",
       "         [0.9726, 0.8881],\n",
       "         [0.8701, 1.4409],\n",
       "         [1.3286, 2.2583]],\n",
       "\n",
       "        [[0.5969, 1.4650],\n",
       "         [1.7226, 0.8193],\n",
       "         [0.2540, 1.5368],\n",
       "         [1.2984, 0.7989]],\n",
       "\n",
       "        [[1.0027, 1.9252],\n",
       "         [2.2143, 0.7767],\n",
       "         [0.6472, 1.3295],\n",
       "         [1.5403, 2.4474]]])"
      ]
     },
     "execution_count": 260,
     "metadata": {},
     "output_type": "execute_result"
    }
   ],
   "source": [
    "torch.manual_seed(0)\n",
    "torch.hypot(torch.randn(3, 4, 2), torch.randn(4, 2))"
   ]
  },
  {
   "cell_type": "code",
   "execution_count": 261,
   "id": "e83d4ac4",
   "metadata": {},
   "outputs": [
    {
     "data": {
      "text/plain": [
       "tensor([[[1.1852, 1.8572],\n",
       "         [0.9726, 0.8881],\n",
       "         [0.8701, 1.4409],\n",
       "         [1.3286, 2.2583]],\n",
       "\n",
       "        [[0.5969, 1.4650],\n",
       "         [1.7226, 0.8193],\n",
       "         [0.2540, 1.5368],\n",
       "         [1.2984, 0.7989]],\n",
       "\n",
       "        [[1.0027, 1.9252],\n",
       "         [2.2143, 0.7767],\n",
       "         [0.6472, 1.3295],\n",
       "         [1.5403, 2.4474]]])"
      ]
     },
     "execution_count": 261,
     "metadata": {},
     "output_type": "execute_result"
    }
   ],
   "source": [
    "torch.manual_seed(0)\n",
    "torch.sqrt(torch.square(torch.randn(3, 4, 2)) +  torch.randn(4, 2).square())"
   ]
  },
  {
   "cell_type": "code",
   "execution_count": 262,
   "id": "9a448e42",
   "metadata": {},
   "outputs": [
    {
     "data": {
      "text/plain": [
       "(tensor([[0., 1., 2.],\n",
       "         [3., 4., 5.]]),\n",
       " tensor(15.))"
      ]
     },
     "execution_count": 262,
     "metadata": {},
     "output_type": "execute_result"
    }
   ],
   "source": [
    "x = torch.arange(6).view(2, 3).float()\n",
    "x, torch.norm(x, p=1)"
   ]
  },
  {
   "cell_type": "code",
   "execution_count": 263,
   "id": "562b82a1",
   "metadata": {},
   "outputs": [
    {
     "data": {
      "text/plain": [
       "(tensor([[0., 1., 2.],\n",
       "         [3., 4., 5.]]),\n",
       " tensor([ 3., 12.]))"
      ]
     },
     "execution_count": 263,
     "metadata": {},
     "output_type": "execute_result"
    }
   ],
   "source": [
    "x = torch.arange(6).view(2, 3).float()\n",
    "x, torch.norm(x, p=1, dim=1)"
   ]
  },
  {
   "cell_type": "code",
   "execution_count": 264,
   "id": "94a480fb",
   "metadata": {},
   "outputs": [
    {
     "data": {
      "text/plain": [
       "(tensor([[0., 1., 2.],\n",
       "         [3., 4., 5.]]),\n",
       " tensor([3., 5., 7.]))"
      ]
     },
     "execution_count": 264,
     "metadata": {},
     "output_type": "execute_result"
    }
   ],
   "source": [
    "x = torch.arange(6).view(2, 3).float()\n",
    "x, torch.norm(x, p=1, dim=0)"
   ]
  },
  {
   "cell_type": "code",
   "execution_count": 265,
   "id": "ae255ab9",
   "metadata": {
    "collapsed": false,
    "jupyter": {
     "outputs_hidden": false
    },
    "pycharm": {
     "name": "#%%\n"
    }
   },
   "outputs": [
    {
     "data": {
      "text/plain": [
       "(tensor([[ 1.5410, -0.2934, -2.1788],\n",
       "         [ 0.5684, -1.0845, -1.3986],\n",
       "         [ 0.4033,  0.8380, -0.7193],\n",
       "         [-0.4033, -0.5966,  0.1820]]),\n",
       " tensor([[-0.8567,  1.1006, -1.0712]]),\n",
       " tensor([[ 1.5410, -0.2934, -2.1788],\n",
       "         [ 0.5684, -1.0845, -1.3986],\n",
       "         [ 0.4033,  0.8380, -0.7193],\n",
       "         [-0.4033, -0.5966,  0.1820]]))"
      ]
     },
     "execution_count": 265,
     "metadata": {},
     "output_type": "execute_result"
    }
   ],
   "source": [
    "torch.manual_seed(0)\n",
    "a = torch.randn((4, 3))\n",
    "b = torch.randn((1, 3))\n",
    "c = torch.mul(a, torch.div(b, b))\n",
    "a, b, c"
   ]
  },
  {
   "cell_type": "code",
   "execution_count": 266,
   "id": "e41e1984",
   "metadata": {
    "collapsed": false,
    "jupyter": {
     "outputs_hidden": false
    },
    "pycharm": {
     "name": "#%%\n"
    }
   },
   "outputs": [
    {
     "data": {
      "text/plain": [
       "tensor([[-0.1852,  0.0454,  0.1787,  0.1153],\n",
       "        [ 0.8546, -0.2098, -0.8248, -0.5322],\n",
       "        [-0.5631,  0.1382,  0.5434,  0.3507],\n",
       "        [ 1.3461, -0.3304, -1.2992, -0.8383]])"
      ]
     },
     "execution_count": 266,
     "metadata": {},
     "output_type": "execute_result"
    }
   ],
   "source": [
    "torch.multiply(torch.randn((4, 1)), torch.randn((1, 4)))"
   ]
  },
  {
   "cell_type": "code",
   "execution_count": 267,
   "id": "37314f8c",
   "metadata": {
    "collapsed": false,
    "jupyter": {
     "outputs_hidden": false
    },
    "pycharm": {
     "name": "#%%\n"
    }
   },
   "outputs": [
    {
     "data": {
      "text/plain": [
       "(torch.Size([100, 10]), torch.Size([100, 10]), torch.Size([100, 10]))"
      ]
     },
     "execution_count": 267,
     "metadata": {},
     "output_type": "execute_result"
    }
   ],
   "source": [
    "mat = torch.randn((100, 50))\n",
    "weights = torch.randn((50, 10))\n",
    "\n",
    "out = torch.einsum(\"...ij, jk -> ik\", mat, weights)\n",
    "out2 = torch.matmul(mat, weights)\n",
    "out3 = torch.matmul(mat, torch.reshape(weights, (weights.shape[0], weights.shape[-1])))\n",
    "out.shape, out2.shape, out3.shape"
   ]
  },
  {
   "cell_type": "code",
   "execution_count": 268,
   "id": "d80c2c76",
   "metadata": {
    "collapsed": false,
    "jupyter": {
     "outputs_hidden": false
    },
    "pycharm": {
     "name": "#%%\n"
    }
   },
   "outputs": [
    {
     "data": {
      "text/plain": [
       "(torch.Size([100, 50]), torch.Size([100]))"
      ]
     },
     "execution_count": 268,
     "metadata": {},
     "output_type": "execute_result"
    }
   ],
   "source": [
    "mat = torch.randn((100, 50))\n",
    "weights = torch.randn((50,))\n",
    "\n",
    "out = torch.multiply(mat, weights)\n",
    "out.shape, torch.matmul(mat, weights).size()"
   ]
  },
  {
   "cell_type": "code",
   "execution_count": 269,
   "id": "be334245",
   "metadata": {
    "collapsed": false,
    "jupyter": {
     "outputs_hidden": false
    },
    "pycharm": {
     "name": "#%%\n"
    }
   },
   "outputs": [
    {
     "data": {
      "text/plain": [
       "torch.Size([5])"
      ]
     },
     "execution_count": 269,
     "metadata": {},
     "output_type": "execute_result"
    }
   ],
   "source": [
    "out = torch.matmul(torch.randn(100), torch.randn((100, 5)))\n",
    "out.size()"
   ]
  },
  {
   "cell_type": "code",
   "execution_count": 270,
   "id": "32034140",
   "metadata": {},
   "outputs": [
    {
     "data": {
      "text/plain": [
       "torch.Size([2, 5])"
      ]
     },
     "execution_count": 270,
     "metadata": {},
     "output_type": "execute_result"
    }
   ],
   "source": [
    "out = torch.matmul(torch.randn(100), torch.randn((2, 100, 5)))\n",
    "out.size()"
   ]
  },
  {
   "cell_type": "code",
   "execution_count": 271,
   "id": "fa76b2f7",
   "metadata": {
    "collapsed": false,
    "jupyter": {
     "outputs_hidden": false
    },
    "pycharm": {
     "name": "#%%\n"
    }
   },
   "outputs": [
    {
     "name": "stdout",
     "output_type": "stream",
     "text": [
      "tensor([ 0.7748,  1.0908, -0.9250,  0.3432,  0.3262,  0.6877,  0.5873,  2.4935,\n",
      "        -0.1416, -0.9051])\n",
      "tensor([-0.6365, -0.9667,  0.0166,  0.3447,  0.4370,  0.6700, -1.0341, -1.0923,\n",
      "         0.2971, -0.6574])\n",
      "tensor([-0.4932, -1.0544, -0.0153,  0.1183,  0.1426,  0.4607, -0.6073, -2.7237,\n",
      "        -0.0421,  0.5949])\n",
      "tensor(-3.6195) torch.Size([10])\n",
      "tensor(-3.6195)\n"
     ]
    }
   ],
   "source": [
    "x = torch.randn(10)\n",
    "y = torch.randn(10)\n",
    "print(x)\n",
    "print(y)\n",
    "print(x*y)\n",
    "print(torch.matmul(x, y.T), y.T.shape)\n",
    "print(torch.matmul(x, y))"
   ]
  },
  {
   "cell_type": "code",
   "execution_count": 272,
   "id": "b878a2ca",
   "metadata": {
    "collapsed": false,
    "jupyter": {
     "outputs_hidden": false
    },
    "pycharm": {
     "name": "#%%\n"
    }
   },
   "outputs": [
    {
     "name": "stdout",
     "output_type": "stream",
     "text": [
      "tensor([[-1.3108,  0.9678, -0.1382],\n",
      "        [-0.3933,  0.7411, -0.9995],\n",
      "        [-0.8365, -0.3093,  0.1642],\n",
      "        [ 1.1595, -0.5581,  0.5985]])\n",
      "tensor([[ 0.6621,  0.5155, -1.4612],\n",
      "        [-0.4179, -0.4778, -0.6226],\n",
      "        [-2.4238,  1.2073,  0.3683],\n",
      "        [ 0.0918,  0.6302,  2.7244]])\n",
      "tensor([[-0.8678,  0.4988,  0.2020],\n",
      "        [ 0.1643, -0.3541,  0.6223],\n",
      "        [ 2.0275, -0.3734,  0.0605],\n",
      "        [ 0.1064, -0.3517,  1.6306]])\n",
      "tensor([[-0.1670,  0.1714,  4.2945,  0.1130],\n",
      "        [ 1.5821,  0.4325,  1.4799, -2.2921],\n",
      "        [-0.9531,  0.3951,  1.7145,  0.1756],\n",
      "        [-0.3945, -0.5905, -3.2637,  1.3852]])\n"
     ]
    }
   ],
   "source": [
    "x = torch.randn((4, 3))\n",
    "y = torch.randn((4, 3))\n",
    "print(x)\n",
    "print(y)\n",
    "print(x*y)\n",
    "print(torch.matmul(x, y.T))"
   ]
  },
  {
   "cell_type": "code",
   "execution_count": 273,
   "id": "596e8c74",
   "metadata": {
    "collapsed": false,
    "jupyter": {
     "outputs_hidden": false
    },
    "pycharm": {
     "name": "#%%\n"
    }
   },
   "outputs": [
    {
     "name": "stdout",
     "output_type": "stream",
     "text": [
      "torch.Size([2])\n"
     ]
    }
   ],
   "source": [
    "x = torch.randn(10)\n",
    "y = torch.randn((10, 2))\n",
    "z = torch.matmul(x, y)\n",
    "print(z.shape)"
   ]
  },
  {
   "cell_type": "code",
   "execution_count": 274,
   "id": "1e620a97",
   "metadata": {
    "collapsed": false,
    "jupyter": {
     "outputs_hidden": false
    },
    "pycharm": {
     "name": "#%%\n"
    }
   },
   "outputs": [],
   "source": [
    "j, k, n = 3, 4, 2\n",
    "\n",
    "x = torch.randn((j, 1, n, n))\n",
    "y = torch.randn((k, n, n))\n",
    "z = torch.matmul(x, y)\n",
    "assert z.size() == (j, k, n, n )"
   ]
  },
  {
   "cell_type": "code",
   "execution_count": 275,
   "id": "bef3d00e",
   "metadata": {},
   "outputs": [],
   "source": [
    "j, k, n, z = 3, 4, 2, 7\n",
    "\n",
    "x = torch.randn((j, 1, n, z))\n",
    "y = torch.randn((k, z, n))\n",
    "z = torch.matmul(x, y)\n",
    "assert z.size() == (j, k, n, n )"
   ]
  },
  {
   "cell_type": "code",
   "execution_count": 276,
   "id": "4733577a",
   "metadata": {
    "collapsed": false,
    "jupyter": {
     "outputs_hidden": false
    },
    "pycharm": {
     "name": "#%%\n"
    }
   },
   "outputs": [
    {
     "data": {
      "text/plain": [
       "torch.Size([10, 3, 5])"
      ]
     },
     "execution_count": 276,
     "metadata": {},
     "output_type": "execute_result"
    }
   ],
   "source": [
    "x = torch.randn(10, 3, 4)\n",
    "y = torch.randn(4, 5)\n",
    "\n",
    "z = torch.matmul(x, y).size()\n",
    "z"
   ]
  },
  {
   "cell_type": "code",
   "execution_count": 277,
   "id": "513c74fd",
   "metadata": {},
   "outputs": [
    {
     "data": {
      "text/plain": [
       "torch.Size([2, 10, 3, 5])"
      ]
     },
     "execution_count": 277,
     "metadata": {},
     "output_type": "execute_result"
    }
   ],
   "source": [
    "x = torch.randn(10, 3, 4)\n",
    "y = torch.randn(2, 1, 4, 5)\n",
    "\n",
    "z = torch.matmul(x, y).size()\n",
    "z"
   ]
  },
  {
   "cell_type": "code",
   "execution_count": 278,
   "id": "3546ef63",
   "metadata": {},
   "outputs": [
    {
     "data": {
      "text/plain": [
       "(torch.Size([3]), torch.Size([3, 4]))"
      ]
     },
     "execution_count": 278,
     "metadata": {},
     "output_type": "execute_result"
    }
   ],
   "source": [
    "x = torch.randn(3, 4)\n",
    "y = torch.randn(4)\n",
    "\n",
    "torch.matmul(x, y).size(), torch.mul(x, y).size()"
   ]
  },
  {
   "cell_type": "code",
   "execution_count": 279,
   "id": "d2478ff3",
   "metadata": {
    "collapsed": false,
    "jupyter": {
     "outputs_hidden": false
    },
    "pycharm": {
     "name": "#%%\n"
    }
   },
   "outputs": [
    {
     "data": {
      "text/plain": [
       "(tensor([-1., -2., -3., -4., -5., -6., -7., -8., -9.]),\n",
       " tensor([-1., -2., -3., -4., -5., -6., -7., -8., -9.]))"
      ]
     },
     "execution_count": 279,
     "metadata": {},
     "output_type": "execute_result"
    }
   ],
   "source": [
    "torch.neg(torch.arange(1, 10.)), -torch.arange(1, 10.0)"
   ]
  },
  {
   "cell_type": "code",
   "execution_count": 280,
   "id": "a53d83b9-4f5d-4fd4-9921-d4cb38e79d32",
   "metadata": {
    "pycharm": {
     "name": "#%%\n"
    }
   },
   "outputs": [
    {
     "data": {
      "text/plain": [
       "(tensor([ 1.,  4.,  9., 16., 25., 36., 49., 64., 81.]),\n",
       " tensor([ 1.0000,  2.6390,  4.6555,  6.9644,  9.5183, 12.2860, 15.2453, 18.3792,\n",
       "         21.6740]),\n",
       " tensor([ 1.0000,  2.6390,  4.6555,  6.9644,  9.5183, 12.2860, 15.2453, 18.3792,\n",
       "         21.6740]),\n",
       " tensor([1.0000e+00, 4.0000e+00, 2.7000e+01, 2.5600e+02, 3.1250e+03, 4.6656e+04,\n",
       "         8.2354e+05, 1.6777e+07, 3.8742e+08]),\n",
       " tensor([1.0000e+00, 4.0000e+00, 2.7000e+01, 2.5600e+02, 3.1250e+03, 4.6656e+04,\n",
       "         8.2354e+05, 1.6777e+07, 3.8742e+08]))"
      ]
     },
     "execution_count": 280,
     "metadata": {},
     "output_type": "execute_result"
    }
   ],
   "source": [
    "x = torch.arange(1.0, 10.0)\n",
    "y = torch.arange(1, 10)\n",
    "torch.pow(x, 2), torch.pow(x, 1.4), x**1.4, torch.pow(x, y), x**y"
   ]
  },
  {
   "cell_type": "code",
   "execution_count": 281,
   "id": "8fe9450a-59e0-4ce6-95f8-db37e944a598",
   "metadata": {
    "pycharm": {
     "name": "#%%\n"
    }
   },
   "outputs": [
    {
     "data": {
      "text/plain": [
       "tensor([[[[0.0000, 0.0000],\n",
       "          [0.0000, 0.0000]],\n",
       "\n",
       "         [[0.0000, 1.5000],\n",
       "          [1.5000, 0.0000]]],\n",
       "\n",
       "\n",
       "        [[[0.0000, 0.0000],\n",
       "          [1.5000, 0.0000]],\n",
       "\n",
       "         [[0.0000, 0.0000],\n",
       "          [0.0000, 1.5000]]]], size=(2, 2, 2, 2), dtype=torch.quint8,\n",
       "       quantization_scheme=torch.per_tensor_affine, scale=1.5, zero_point=3)"
      ]
     },
     "execution_count": 281,
     "metadata": {},
     "output_type": "execute_result"
    }
   ],
   "source": [
    "qx = torch.quantize_per_tensor(torch.rand(2, 2, 2, 2), 1.5, 3, torch.quint8)\n",
    "qx"
   ]
  },
  {
   "cell_type": "code",
   "execution_count": 282,
   "id": "013e8456-13aa-467a-a02b-a7fc2c2d4208",
   "metadata": {
    "pycharm": {
     "name": "#%%\n"
    }
   },
   "outputs": [
    {
     "data": {
      "text/plain": [
       "tensor([[[[0.0000, 0.0000],\n",
       "          [1.5000, 0.0000]],\n",
       "\n",
       "         [[0.0000, 0.0000],\n",
       "          [0.0000, 1.5000]]],\n",
       "\n",
       "\n",
       "        [[[1.5000, 0.0000],\n",
       "          [0.0000, 1.5000]],\n",
       "\n",
       "         [[0.0000, 0.0000],\n",
       "          [1.5000, 0.0000]]]], size=(2, 2, 2, 2), dtype=torch.quint8,\n",
       "       quantization_scheme=torch.per_tensor_affine, scale=1.5, zero_point=3)"
      ]
     },
     "execution_count": 282,
     "metadata": {},
     "output_type": "execute_result"
    }
   ],
   "source": [
    "qx = torch.quantize_per_tensor(torch.rand(2, 2, 2, 2), 1.5, 3, torch.quint8)\n",
    "qx"
   ]
  },
  {
   "cell_type": "code",
   "execution_count": 283,
   "id": "e4eba639-2fc0-4333-aed1-592ea0cc3af2",
   "metadata": {
    "pycharm": {
     "name": "#%%\n"
    }
   },
   "outputs": [
    {
     "data": {
      "text/plain": [
       "tensor([[ 180.0233, -180.0233],\n",
       "        [ 359.9894, -359.9894],\n",
       "        [  89.9544,  -89.9544]])"
      ]
     },
     "execution_count": 283,
     "metadata": {},
     "output_type": "execute_result"
    }
   ],
   "source": [
    "a = torch.tensor([[3.142, -3.142], [6.283, -6.283], [1.570, -1.570]])\n",
    "torch.rad2deg(a)"
   ]
  },
  {
   "cell_type": "code",
   "execution_count": 284,
   "id": "c613c6a5-217f-42db-9bff-c17ca840ba9d",
   "metadata": {
    "pycharm": {
     "name": "#%%\n"
    }
   },
   "outputs": [
    {
     "data": {
      "text/plain": [
       "(tensor([ 0.4175+0.2713j, -0.9249-0.2195j,  1.4950-0.5629j,  0.0085-0.5683j]),\n",
       " tensor([ 0.4175, -0.9249,  1.4950,  0.0085]),\n",
       " tensor([ 0.2713, -0.2195, -0.5629, -0.5683]))"
      ]
     },
     "execution_count": 284,
     "metadata": {},
     "output_type": "execute_result"
    }
   ],
   "source": [
    "x = torch.randn(4, dtype=torch.cfloat)\n",
    "x, x.real, x.imag"
   ]
  },
  {
   "cell_type": "code",
   "execution_count": 285,
   "id": "2d80d55c-e46d-4b28-a32b-c1a0dc5663d5",
   "metadata": {
    "pycharm": {
     "name": "#%%\n"
    }
   },
   "outputs": [
    {
     "data": {
      "text/plain": [
       "(tensor([ 0.5373, -1.7453,  1.4449, -0.7032]),\n",
       " tensor([ 0.5373, -1.7453,  1.4449, -0.7032]))"
      ]
     },
     "execution_count": 285,
     "metadata": {},
     "output_type": "execute_result"
    }
   ],
   "source": [
    "x = torch.randn(4)\n",
    "torch.reciprocal(x), 1.0 / x"
   ]
  },
  {
   "cell_type": "code",
   "execution_count": 286,
   "id": "87919fbd-216a-4e07-b923-a553c9da1229",
   "metadata": {
    "pycharm": {
     "name": "#%%\n"
    }
   },
   "outputs": [
    {
     "data": {
      "text/plain": [
       "tensor([-3, -2, -1,  1,  2,  3])"
      ]
     },
     "execution_count": 286,
     "metadata": {},
     "output_type": "execute_result"
    }
   ],
   "source": [
    "x = torch.tensor([-3, -2, -1, 1, 2, 3])\n",
    "x"
   ]
  },
  {
   "cell_type": "code",
   "execution_count": 287,
   "id": "73ab7ff4-945f-48d1-8dfe-5bbc4576a6e0",
   "metadata": {
    "pycharm": {
     "name": "#%%\n"
    }
   },
   "outputs": [
    {
     "data": {
      "text/plain": [
       "(tensor([-3, -2, -1,  1,  2,  3]),\n",
       " tensor([0, 1, 2, 1, 2, 0]),\n",
       " tensor([0, 1, 2, 1, 2, 0]),\n",
       " tensor([-1.0000, -0.6667, -0.3333,  0.3333,  0.6667,  1.0000]))"
      ]
     },
     "execution_count": 287,
     "metadata": {},
     "output_type": "execute_result"
    }
   ],
   "source": [
    "x, x % 3, torch.remainder(x, 3), torch.div(x, 3)"
   ]
  },
  {
   "cell_type": "code",
   "execution_count": 288,
   "id": "9754509f-aafb-4f09-8cdc-60f58d67ecbd",
   "metadata": {
    "pycharm": {
     "name": "#%%\n"
    }
   },
   "outputs": [
    {
     "data": {
      "text/plain": [
       "(tensor([-3, -2, -1,  1,  2,  3]),\n",
       " tensor([ 0, -2, -1, -2, -1,  0]),\n",
       " tensor([ 0, -2, -1, -2, -1,  0]),\n",
       " tensor([ 1.0000,  0.6667,  0.3333, -0.3333, -0.6667, -1.0000]))"
      ]
     },
     "execution_count": 288,
     "metadata": {},
     "output_type": "execute_result"
    }
   ],
   "source": [
    "div = -3\n",
    "x, x % div, torch.remainder(x, div), torch.div(x, div)"
   ]
  },
  {
   "cell_type": "code",
   "execution_count": 289,
   "id": "14427b9b-7f4c-4a93-b807-dda5da2fa34a",
   "metadata": {
    "pycharm": {
     "name": "#%%\n"
    }
   },
   "outputs": [
    {
     "data": {
      "text/plain": [
       "(tensor([ 0.5801, -0.7462,  2.9093, -2.6763,  4.8707, -0.2210,  0.3906,  1.4204,\n",
       "         -0.6040,  1.8863,  0.7268,  3.2588,  4.2776,  2.5514,  1.6607,  2.6937,\n",
       "          1.1918,  1.7576,  1.4461,  0.1476]),\n",
       " tensor([ 0., -0.,  2., -2.,  4., -0.,  0.,  1., -0.,  1.,  0.,  3.,  4.,  2.,\n",
       "          1.,  2.,  1.,  1.,  1.,  0.]),\n",
       " tensor([ 1., -0.,  3., -2.,  5., -0.,  1.,  2., -0.,  2.,  1.,  4.,  5.,  3.,\n",
       "          2.,  3.,  2.,  2.,  2.,  1.]),\n",
       " tensor([ 1., -1.,  3., -3.,  5., -0.,  0.,  1., -1.,  2.,  1.,  3.,  4.,  3.,\n",
       "          2.,  3.,  1.,  2.,  1.,  0.]),\n",
       " tensor([ 0., -1.,  2., -3.,  4., -1.,  0.,  1., -1.,  1.,  0.,  3.,  4.,  2.,\n",
       "          1.,  2.,  1.,  1.,  1.,  0.]))"
      ]
     },
     "execution_count": 289,
     "metadata": {},
     "output_type": "execute_result"
    }
   ],
   "source": [
    "x = 1. + torch.randn(20) * 2\n",
    "x, torch.trunc(x), torch.ceil(x), torch.round(x), torch.floor(x)"
   ]
  },
  {
   "cell_type": "code",
   "execution_count": 290,
   "id": "e26ce0a7-5732-4dd3-971a-cdc1a28b0fac",
   "metadata": {
    "pycharm": {
     "name": "#%%\n"
    }
   },
   "outputs": [
    {
     "data": {
      "text/plain": [
       "(tensor([0.7616,    nan, 1.7057,    nan, 2.2070,    nan, 0.6249, 1.1918,    nan,\n",
       "         1.3734, 0.8525, 1.8052, 2.0682, 1.5973, 1.2887, 1.6413, 1.0917, 1.3258,\n",
       "         1.2026, 0.3841]),\n",
       " tensor([0.7616,    nan, 1.7057,    nan, 2.2070,    nan, 0.6249, 1.1918,    nan,\n",
       "         1.3734, 0.8525, 1.8052, 2.0682, 1.5973, 1.2887, 1.6413, 1.0917, 1.3258,\n",
       "         1.2026, 0.3841]))"
      ]
     },
     "execution_count": 290,
     "metadata": {},
     "output_type": "execute_result"
    }
   ],
   "source": [
    "torch.sqrt(x), x ** 0.5"
   ]
  },
  {
   "cell_type": "code",
   "execution_count": 291,
   "id": "131ded28-bae2-443d-926d-de997f4be809",
   "metadata": {
    "pycharm": {
     "name": "#%%\n"
    }
   },
   "outputs": [
    {
     "data": {
      "text/plain": [
       "tensor([False,  True, False,  True, False,  True, False, False,  True, False,\n",
       "        False, False, False, False, False, False, False, False, False, False])"
      ]
     },
     "execution_count": 291,
     "metadata": {},
     "output_type": "execute_result"
    }
   ],
   "source": [
    "torch.isnan(torch.sqrt(x))"
   ]
  },
  {
   "cell_type": "code",
   "execution_count": 292,
   "id": "8fd60365-8193-4546-ba81-19fc45dad79d",
   "metadata": {
    "pycharm": {
     "name": "#%%\n"
    }
   },
   "outputs": [
    {
     "data": {
      "text/plain": [
       "(tensor([1.7240, 1.3401, 0.3437, 0.3737, 0.2053, 4.5258, 2.5604, 0.7040, 1.6557,\n",
       "         0.5302, 1.3759, 0.3069, 0.2338, 0.3919, 0.6021, 0.3712, 0.8391, 0.5690,\n",
       "         0.6915, 6.7768]),\n",
       " tensor([1.7240, 1.3401, 0.3437, 0.3737, 0.2053, 4.5258, 2.5604, 0.7040, 1.6557,\n",
       "         0.5302, 1.3759, 0.3069, 0.2338, 0.3919, 0.6021, 0.3712, 0.8391, 0.5690,\n",
       "         0.6915, 6.7768]),\n",
       " tensor([1.7240, 1.3401, 0.3437, 0.3737, 0.2053, 4.5258, 2.5604, 0.7040, 1.6557,\n",
       "         0.5302, 1.3759, 0.3069, 0.2338, 0.3919, 0.6021, 0.3712, 0.8391, 0.5690,\n",
       "         0.6915, 6.7768]))"
      ]
     },
     "execution_count": 292,
     "metadata": {},
     "output_type": "execute_result"
    }
   ],
   "source": [
    "torch.rsqrt(x**2), (x**2) **-0.5, 1 / x.abs()"
   ]
  },
  {
   "cell_type": "code",
   "execution_count": 293,
   "id": "ef866854-1cab-452e-87f2-60377dfa79db",
   "metadata": {
    "pycharm": {
     "name": "#%%\n"
    }
   },
   "outputs": [
    {
     "data": {
      "text/plain": [
       "(tensor([ 0.5801, -0.7462,  2.9093, -2.6763,  4.8707, -0.2210,  0.3906,  1.4204,\n",
       "         -0.6040,  1.8863,  0.7268,  3.2588,  4.2776,  2.5514,  1.6607,  2.6937,\n",
       "          1.1918,  1.7576,  1.4461,  0.1476]),\n",
       " tensor([ 1., -1.,  1., -1.,  1., -1.,  1.,  1., -1.,  1.,  1.,  1.,  1.,  1.,\n",
       "          1.,  1.,  1.,  1.,  1.,  1.]),\n",
       " tensor([0.5801, 0.7462, 2.9093, 2.6763, 4.8707, 0.2210, 0.3906, 1.4204, 0.6040,\n",
       "         1.8863, 0.7268, 3.2588, 4.2776, 2.5514, 1.6607, 2.6937, 1.1918, 1.7576,\n",
       "         1.4461, 0.1476]),\n",
       " tensor(0.))"
      ]
     },
     "execution_count": 293,
     "metadata": {},
     "output_type": "execute_result"
    }
   ],
   "source": [
    "x, torch.sign(x), torch.copysign(x, 1), torch.sign(torch.tensor(0.0))"
   ]
  },
  {
   "cell_type": "code",
   "execution_count": 294,
   "id": "7847efcb-3656-4dfe-8149-a03ed74e4377",
   "metadata": {
    "pycharm": {
     "name": "#%%\n"
    }
   },
   "outputs": [
    {
     "data": {
      "text/plain": [
       "(tensor([0.6000+0.8000j, 0.2800-0.9600j, 0.0000+0.0000j, 0.4472+0.8944j]),\n",
       " tensor(25.5930),\n",
       " tensor([  -7.+24.j, -527.-336.j,    0.+0.j,   -3.+4.j]))"
      ]
     },
     "execution_count": 294,
     "metadata": {},
     "output_type": "execute_result"
    }
   ],
   "source": [
    "t = torch.tensor([3+4j, 7-24j, 0, 1+2j]) # input / |input|\n",
    "torch.sgn(t), torch.norm(t, p=2), torch.square(t)"
   ]
  },
  {
   "cell_type": "code",
   "execution_count": 295,
   "id": "71cd36be-ff9a-4010-98c8-80c447aad939",
   "metadata": {
    "pycharm": {
     "name": "#%%\n"
    }
   },
   "outputs": [
    {
     "data": {
      "text/plain": [
       "tensor([False,  True, False,  True, False,  True, False, False,  True, False,\n",
       "        False, False, False, False, False, False, False, False, False, False])"
      ]
     },
     "execution_count": 295,
     "metadata": {},
     "output_type": "execute_result"
    }
   ],
   "source": [
    "torch.signbit(x)"
   ]
  },
  {
   "cell_type": "code",
   "execution_count": 296,
   "id": "072d87e6-0441-43a5-b4c7-df1e39be35b3",
   "metadata": {
    "pycharm": {
     "name": "#%%\n"
    }
   },
   "outputs": [
    {
     "data": {
      "text/plain": [
       "(tensor([3.3647e-01, 5.5681e-01, 8.4643e+00, 7.1624e+00, 2.3724e+01, 4.8822e-02,\n",
       "         1.5254e-01, 2.0175e+00, 3.6476e-01, 3.5580e+00, 5.2820e-01, 1.0620e+01,\n",
       "         1.8298e+01, 6.5098e+00, 2.7580e+00, 7.2562e+00, 1.4204e+00, 3.0892e+00,\n",
       "         2.0913e+00, 2.1775e-02]),\n",
       " tensor([3.3647e-01, 5.5681e-01, 8.4643e+00, 7.1624e+00, 2.3724e+01, 4.8822e-02,\n",
       "         1.5254e-01, 2.0175e+00, 3.6476e-01, 3.5580e+00, 5.2820e-01, 1.0620e+01,\n",
       "         1.8298e+01, 6.5098e+00, 2.7580e+00, 7.2562e+00, 1.4204e+00, 3.0892e+00,\n",
       "         2.0913e+00, 2.1775e-02]))"
      ]
     },
     "execution_count": 296,
     "metadata": {},
     "output_type": "execute_result"
    }
   ],
   "source": [
    "torch.square(x), x ** 2"
   ]
  },
  {
   "cell_type": "code",
   "execution_count": 297,
   "id": "b45232b4-c8f7-49d8-989e-41a1a7324283",
   "metadata": {
    "pycharm": {
     "name": "#%%\n"
    }
   },
   "outputs": [
    {
     "data": {
      "text/plain": [
       "tensor([0., 0., 0., 0., 0., 0., 0., 0., 0., 0., 0., 0., 0., 0., 0., 0., 0., 0., 0., 0.])"
      ]
     },
     "execution_count": 297,
     "metadata": {},
     "output_type": "execute_result"
    }
   ],
   "source": [
    "torch.sub(x, x)"
   ]
  },
  {
   "cell_type": "code",
   "execution_count": 298,
   "id": "3b369f42",
   "metadata": {},
   "outputs": [
    {
     "data": {
      "text/plain": [
       "(tensor([0, 1, 2, 3, 4, 5, 6, 7, 8, 9]),\n",
       " tensor([ 0, -1, -2, -3, -4, -5, -6, -7, -8, -9]))"
      ]
     },
     "execution_count": 298,
     "metadata": {},
     "output_type": "execute_result"
    }
   ],
   "source": [
    "t = torch.arange(10)\n",
    "t, torch.sub(t, t, alpha=2)"
   ]
  },
  {
   "cell_type": "code",
   "execution_count": 299,
   "id": "2b040497-a28e-4820-88e3-8eb4093e0d7d",
   "metadata": {
    "pycharm": {
     "name": "#%%\n"
    }
   },
   "outputs": [
    {
     "data": {
      "text/plain": [
       "(tensor([ 0.5801, -0.7462,  2.9093, -2.6763,  4.8707, -0.2210,  0.3906,  1.4204,\n",
       "         -0.6040,  1.8863,  0.7268,  3.2588,  4.2776,  2.5514,  1.6607,  2.6937,\n",
       "          1.1918,  1.7576,  1.4461,  0.1476]),\n",
       " tensor([ 1.4128,  1.1698,  1.1019, -2.3802, -1.2955,  0.0751, -1.5073,  2.4818,\n",
       "          2.1453, -1.3821,  0.6009, -2.0698, -0.8366,  0.6276,  0.1787, -2.8780,\n",
       "          0.5630,  1.2117, -0.6184,  2.4333]),\n",
       " tensor([ 1.4128,  1.1698,  1.1019, -2.3802, -1.2955,  0.0751, -1.5073,  2.4818,\n",
       "          2.1453, -1.3821,  0.6009, -2.0698, -0.8366,  0.6276,  0.1787, -2.8780,\n",
       "          0.5630,  1.2117, -0.6184,  2.4333]),\n",
       " tensor([ 1.4128,  1.1698,  1.1019, -2.3802, -1.2955,  0.0751, -1.5073,  2.4818,\n",
       "          2.1453, -1.3821,  0.6009, -2.0698, -0.8366,  0.6276,  0.1787, -2.8780,\n",
       "          0.5630,  1.2117, -0.6184,  2.4333]),\n",
       " tensor([ 1.,  1.,  1., -2., -1.,  0., -1.,  2.,  2., -1.,  0., -2., -0.,  0.,\n",
       "          0., -2.,  0.,  1., -0.,  2.]),\n",
       " tensor([ 1.,  1.,  1., -3., -2.,  0., -2.,  2.,  2., -2.,  0., -3., -1.,  0.,\n",
       "          0., -3.,  0.,  1., -1.,  2.]),\n",
       " tensor([ 1.4128,  1.1698,  1.1019, -2.3802, -1.2955,  0.0751, -1.5073,  2.4818,\n",
       "          2.1453, -1.3821,  0.6009, -2.0698, -0.8366,  0.6276,  0.1787, -2.8780,\n",
       "          0.5630,  1.2117, -0.6184,  2.4333]))"
      ]
     },
     "execution_count": 299,
     "metadata": {},
     "output_type": "execute_result"
    }
   ],
   "source": [
    "z = torch.randn_like(x)\n",
    "x, z, torch.divide( z * x, x), torch.div(z*x, x), torch.div(z*x, x, rounding_mode=\"trunc\"), torch.div(z*x, x, rounding_mode=\"floor\"), torch.true_divide(z*x, x)"
   ]
  },
  {
   "cell_type": "code",
   "execution_count": 300,
   "id": "46ac6ca7-9ec5-4579-8634-961182fb0959",
   "metadata": {
    "pycharm": {
     "name": "#%%\n"
    }
   },
   "outputs": [
    {
     "data": {
      "text/plain": [
       "(tensor([ 0.8195, -0.8729,  3.2059,  6.3702, -6.3102, -0.0166, -0.5887,  3.5250,\n",
       "         -1.2957, -2.6070,  0.4367, -6.7451, -3.5786,  1.6012,  0.2968, -7.7526,\n",
       "          0.6710,  2.1297, -0.8942,  0.3591]),\n",
       " tensor([ 0.8195, -0.8729,  3.2059,  6.3702, -6.3102, -0.0166, -0.5887,  3.5250,\n",
       "         -1.2957, -2.6070,  0.4367, -6.7451, -3.5786,  1.6012,  0.2968, -7.7526,\n",
       "          0.6710,  2.1297, -0.8942,  0.3591]),\n",
       " tensor([0.0000e+00, 0.0000e+00, 0.0000e+00, 0.0000e+00, 0.0000e+00, 1.8626e-09,\n",
       "         0.0000e+00, 0.0000e+00, 0.0000e+00, 0.0000e+00, 0.0000e+00, 0.0000e+00,\n",
       "         0.0000e+00, 0.0000e+00, 2.9802e-08, 0.0000e+00, 0.0000e+00, 0.0000e+00,\n",
       "         0.0000e+00, 0.0000e+00]))"
      ]
     },
     "execution_count": 300,
     "metadata": {},
     "output_type": "execute_result"
    }
   ],
   "source": [
    "y = torch.special.xlogy(x, torch.exp(z))\n",
    "y, x*z, y - x*z"
   ]
  },
  {
   "cell_type": "code",
   "execution_count": 301,
   "id": "1395705b-12b4-41eb-89ac-891c3e69a24d",
   "metadata": {
    "pycharm": {
     "name": "#%%\n"
    }
   },
   "outputs": [
    {
     "data": {
      "text/plain": [
       "tensor([False, False, False, False, False, False, False, False, False, False,\n",
       "        False, False, False, False, False, False, False, False, False, False])"
      ]
     },
     "execution_count": 301,
     "metadata": {},
     "output_type": "execute_result"
    }
   ],
   "source": [
    "torch.isnan(x)"
   ]
  },
  {
   "cell_type": "code",
   "execution_count": 302,
   "id": "5da768e9",
   "metadata": {},
   "outputs": [
    {
     "data": {
      "text/plain": [
       "(tensor([1., nan]), nan, tensor([1., nan]))"
      ]
     },
     "execution_count": 302,
     "metadata": {},
     "output_type": "execute_result"
    }
   ],
   "source": [
    "torch.tensor([1.0, np.nan]), torch.nan, torch.tensor([1.0, torch.nan])"
   ]
  },
  {
   "cell_type": "code",
   "execution_count": 303,
   "id": "0d27de80",
   "metadata": {},
   "outputs": [
    {
     "data": {
      "text/plain": [
       "(tensor([False,  True]), tensor([False,  True]))"
      ]
     },
     "execution_count": 303,
     "metadata": {},
     "output_type": "execute_result"
    }
   ],
   "source": [
    "torch.isnan(torch.tensor([1.0, np.nan])), torch.isnan(torch.tensor([1.0, torch.nan]))"
   ]
  },
  {
   "cell_type": "code",
   "execution_count": 304,
   "metadata": {
    "collapsed": false,
    "pycharm": {
     "name": "#%%\n"
    }
   },
   "outputs": [
    {
     "data": {
      "text/plain": [
       "tensor([ 0.5801, -0.7462,  2.9093, -2.6763,  4.8707, -0.2210,  0.3906,  1.4204,\n",
       "        -0.6040,  1.8863,  0.7268,  3.2588,  4.2776,  2.5514,  1.6607,  2.6937,\n",
       "         1.1918,  1.7576,  1.4461,  0.1476])"
      ]
     },
     "execution_count": 304,
     "metadata": {},
     "output_type": "execute_result"
    }
   ],
   "source": [
    "x"
   ]
  },
  {
   "cell_type": "code",
   "execution_count": 305,
   "metadata": {
    "collapsed": false,
    "pycharm": {
     "name": "#%%\n"
    }
   },
   "outputs": [
    {
     "data": {
      "text/plain": [
       "(tensor([[30, 94, 31, 73, 89, 76, 19, 76, 82, 61],\n",
       "         [38, 96, 55, 13, 50, 87, 67, 33,  0, 12],\n",
       "         [78, 80, 18, 14, 22, 64, 31, 12, 79, 97],\n",
       "         [49, 33, 82, 17, 14, 84, 86,  2,  5, 14]]),\n",
       " tensor(29),\n",
       " tensor(97),\n",
       " torch.return_types.max(\n",
       " values=tensor([78, 96, 82, 73, 89, 87, 86, 76, 82, 97]),\n",
       " indices=tensor([2, 1, 3, 0, 0, 1, 3, 0, 0, 2])),\n",
       " torch.return_types.max(\n",
       " values=tensor([94, 96, 97, 86]),\n",
       " indices=tensor([1, 1, 9, 6])))"
      ]
     },
     "execution_count": 305,
     "metadata": {},
     "output_type": "execute_result"
    }
   ],
   "source": [
    "torch.manual_seed(4)\n",
    "x = torch.randint(0, 100, size=(4, 10))\n",
    "x, torch.argmax(x), torch.max(x), torch.max(x, dim=0), torch.max(x, dim=1)"
   ]
  },
  {
   "cell_type": "code",
   "execution_count": 306,
   "metadata": {
    "collapsed": false,
    "pycharm": {
     "name": "#%%\n"
    }
   },
   "outputs": [
    {
     "data": {
      "text/plain": [
       "torch.return_types.max(\n",
       "values=tensor([[94],\n",
       "        [96],\n",
       "        [97],\n",
       "        [86]]),\n",
       "indices=tensor([[1],\n",
       "        [1],\n",
       "        [9],\n",
       "        [6]]))"
      ]
     },
     "execution_count": 306,
     "metadata": {},
     "output_type": "execute_result"
    }
   ],
   "source": [
    "torch.max(x, dim=1, keepdim=True)"
   ]
  },
  {
   "cell_type": "code",
   "execution_count": 307,
   "id": "de78736a",
   "metadata": {},
   "outputs": [
    {
     "data": {
      "text/plain": [
       "torch.return_types.max(\n",
       "values=tensor([[78, 96, 82, 73, 89, 87, 86, 76, 82, 97]]),\n",
       "indices=tensor([[2, 1, 3, 0, 0, 1, 3, 0, 0, 2]]))"
      ]
     },
     "execution_count": 307,
     "metadata": {},
     "output_type": "execute_result"
    }
   ],
   "source": [
    "torch.max(x, dim=0, keepdim=True)"
   ]
  },
  {
   "cell_type": "code",
   "execution_count": 308,
   "id": "0eede983",
   "metadata": {},
   "outputs": [
    {
     "data": {
      "text/plain": [
       "(tensor([[ 1, 17, 50, 18, 23],\n",
       "         [91, 16, 85, 41, 90],\n",
       "         [13, 79, 34, 21, 36],\n",
       "         [52, 77, 26, 72, 30]]),\n",
       " tensor([[35, 28,  6, 69, 68],\n",
       "         [76, 30, 63,  3, 90],\n",
       "         [60, 36,  7,  8, 58],\n",
       "         [82,  5, 26, 91, 29]]),\n",
       " tensor([[35, 28, 50, 69, 68],\n",
       "         [91, 30, 85, 41, 90],\n",
       "         [60, 79, 34, 21, 58],\n",
       "         [82, 77, 26, 91, 30]]))"
      ]
     },
     "execution_count": 308,
     "metadata": {},
     "output_type": "execute_result"
    }
   ],
   "source": [
    "torch.manual_seed(60)\n",
    "y = torch.randint(0, 100, size=(4, 5))\n",
    "z = torch.randint(0, 100, size=(4, 5))\n",
    "y, z, torch.max(y, z)"
   ]
  },
  {
   "cell_type": "code",
   "execution_count": 309,
   "id": "0377a79c",
   "metadata": {},
   "outputs": [
    {
     "data": {
      "text/plain": [
       "(tensor([91, 79, 85, 72, 90]), tensor([91, 79, 85, 72, 90]))"
      ]
     },
     "execution_count": 309,
     "metadata": {},
     "output_type": "execute_result"
    }
   ],
   "source": [
    "torch.max(y, dim=0).values, torch.max(y, dim=0)[0]"
   ]
  },
  {
   "cell_type": "code",
   "execution_count": 310,
   "id": "4972641b",
   "metadata": {},
   "outputs": [
    {
     "data": {
      "text/plain": [
       "(tensor([1, 2, 1, 3, 1]), tensor([1, 2, 1, 3, 1]))"
      ]
     },
     "execution_count": 310,
     "metadata": {},
     "output_type": "execute_result"
    }
   ],
   "source": [
    "torch.max(y, dim=0).indices, torch.max(y, dim=0)[1]"
   ]
  },
  {
   "cell_type": "code",
   "execution_count": 311,
   "id": "40e8a6de",
   "metadata": {},
   "outputs": [
    {
     "data": {
      "text/plain": [
       "(tensor([1, 2, 1, 3, 1]), tensor([[1, 2, 1, 3, 1]]))"
      ]
     },
     "execution_count": 311,
     "metadata": {},
     "output_type": "execute_result"
    }
   ],
   "source": [
    "torch.argmax(y, dim=0), torch.argmax(y, dim=0, keepdim=True)"
   ]
  },
  {
   "cell_type": "code",
   "execution_count": 312,
   "id": "80f877f4",
   "metadata": {},
   "outputs": [
    {
     "data": {
      "text/plain": [
       "tensor([[35, 28, 50, 69, 68],\n",
       "        [91, 30, 85, 41, 90],\n",
       "        [60, 79, 34, 21, 58],\n",
       "        [82, 77, 26, 91, 30]])"
      ]
     },
     "execution_count": 312,
     "metadata": {},
     "output_type": "execute_result"
    }
   ],
   "source": [
    "torch.maximum(y, z)"
   ]
  },
  {
   "cell_type": "code",
   "execution_count": 313,
   "id": "7d7d36dd",
   "metadata": {},
   "outputs": [
    {
     "data": {
      "text/plain": [
       "(tensor([[ 1, 17, 50, 18, 23],\n",
       "         [91, 16, 85, 41, 90],\n",
       "         [13, 79, 34, 21, 36],\n",
       "         [52, 77, 26, 72, 30]]),\n",
       " tensor([[35, 28,  6, 69, 68]]),\n",
       " tensor([[35, 28, 50, 69, 68],\n",
       "         [91, 28, 85, 69, 90],\n",
       "         [35, 79, 34, 69, 68],\n",
       "         [52, 77, 26, 72, 68]]),\n",
       " tensor([[35, 28, 50, 69, 68],\n",
       "         [91, 28, 85, 69, 90],\n",
       "         [35, 79, 34, 69, 68],\n",
       "         [52, 77, 26, 72, 68]]))"
      ]
     },
     "execution_count": 313,
     "metadata": {},
     "output_type": "execute_result"
    }
   ],
   "source": [
    "torch.manual_seed(60)\n",
    "\"\"\"If one of the elements being compared is a NaN, then that element is returned. maximum() is not supported for tensors with complex dtypes\"\"\"\n",
    "y = torch.randint(0, 100, size=(4, 5))\n",
    "z = torch.randint(0, 100, size=(1, 5))\n",
    "y, z, torch.max(y, z), torch.maximum(y, z)"
   ]
  },
  {
   "cell_type": "code",
   "execution_count": 1207,
   "id": "5d0bfed2",
   "metadata": {},
   "outputs": [
    {
     "data": {
      "text/plain": [
       "torch.Size([4, 3, 2, 5])"
      ]
     },
     "execution_count": 1207,
     "metadata": {},
     "output_type": "execute_result"
    }
   ],
   "source": [
    "torch.manual_seed(60)\n",
    "y = torch.randint(0, 100, size=(4, 3, 2, 5))\n",
    "z = torch.randint(0, 100, size=(1, 5))\n",
    "torch.max(y, z, ).size()"
   ]
  },
  {
   "cell_type": "code",
   "execution_count": 315,
   "id": "b986e763",
   "metadata": {},
   "outputs": [
    {
     "data": {
      "text/plain": [
       "(tensor([[35., 28., 50., 69., nan],\n",
       "         [91., 28., 85., 69., nan],\n",
       "         [35., 79., 34., 69., nan],\n",
       "         [52., 77., 26., 72., nan]]),\n",
       " tensor([[35., 28., 50., 69., nan],\n",
       "         [91., 28., 85., 69., nan],\n",
       "         [35., 79., 34., 69., nan],\n",
       "         [52., 77., 26., 72., nan]]))"
      ]
     },
     "execution_count": 315,
     "metadata": {},
     "output_type": "execute_result"
    }
   ],
   "source": [
    "torch.manual_seed(60)\n",
    "y = torch.randint(0, 100, size=(4, 5)).float()\n",
    "z = torch.randint(0, 100, size=(1, 5)).float()\n",
    "z[-1, -1] = np.nan\n",
    "torch.max(y, z, ), torch.maximum(y, z)"
   ]
  },
  {
   "cell_type": "code",
   "execution_count": 316,
   "id": "cd593dbc",
   "metadata": {},
   "outputs": [
    {
     "data": {
      "text/plain": [
       "tensor([[[ 0.2929,  1.2911],\n",
       "         [ 0.6166,  0.2693],\n",
       "         [-0.4581,  0.8754],\n",
       "         [-0.3745,  2.3506]],\n",
       "\n",
       "        [[ 2.7820, -0.6994],\n",
       "         [ 1.7504,  0.1734],\n",
       "         [ 0.4083,  2.5536],\n",
       "         [-2.5738, -2.4772]],\n",
       "\n",
       "        [[-2.8787,  1.9957],\n",
       "         [ 1.6689,  2.2201],\n",
       "         [ 2.8717,  1.7950],\n",
       "         [-0.2311,  1.6832]]])"
      ]
     },
     "execution_count": 316,
     "metadata": {},
     "output_type": "execute_result"
    }
   ],
   "source": [
    "np.random.seed(0)\n",
    "x = torch.from_numpy(np.random.uniform(-3, 3, size=(3, 4, 2)).astype(float)).float()\n",
    "x"
   ]
  },
  {
   "cell_type": "code",
   "execution_count": 317,
   "id": "46ba61cc",
   "metadata": {},
   "outputs": [
    {
     "data": {
      "text/plain": [
       "tensor(2.8717)"
      ]
     },
     "execution_count": 317,
     "metadata": {},
     "output_type": "execute_result"
    }
   ],
   "source": [
    "\"\"\"\n",
    "amax/amin supports reducing on multiple dimensions,\n",
    "\n",
    "amax/amin does not return indices,\n",
    "\n",
    "amax/amin evenly distributes gradient between equal values, while max(dim)/min(dim) propagates gradient only to a single index in the source tensor.\n",
    "\"\"\"\n",
    "torch.amax(x)"
   ]
  },
  {
   "cell_type": "code",
   "execution_count": 318,
   "id": "cc92fa8c",
   "metadata": {},
   "outputs": [
    {
     "data": {
      "text/plain": [
       "(tensor([[0.6166, 2.3506],\n",
       "         [2.7820, 2.5536],\n",
       "         [2.8717, 2.2201]]),\n",
       " tensor([[[0.6166, 2.3506]],\n",
       " \n",
       "         [[2.7820, 2.5536]],\n",
       " \n",
       "         [[2.8717, 2.2201]]]))"
      ]
     },
     "execution_count": 318,
     "metadata": {},
     "output_type": "execute_result"
    }
   ],
   "source": [
    "torch.amax(x, dim=1), torch.amax(x, dim=1, keepdim=True)"
   ]
  },
  {
   "cell_type": "code",
   "execution_count": 319,
   "id": "abd07bf6",
   "metadata": {},
   "outputs": [
    {
     "data": {
      "text/plain": [
       "tensor([[[ 2.7820,  1.9957],\n",
       "         [ 1.7504,  2.2201],\n",
       "         [ 2.8717,  2.5536],\n",
       "         [-0.2311,  2.3506]]])"
      ]
     },
     "execution_count": 319,
     "metadata": {},
     "output_type": "execute_result"
    }
   ],
   "source": [
    "torch.amax(x, dim=0, keepdim=True)"
   ]
  },
  {
   "cell_type": "code",
   "execution_count": 320,
   "id": "fc381dc5",
   "metadata": {},
   "outputs": [
    {
     "data": {
      "text/plain": [
       "tensor([[[1, 2],\n",
       "         [1, 2],\n",
       "         [2, 1],\n",
       "         [2, 0]]])"
      ]
     },
     "execution_count": 320,
     "metadata": {},
     "output_type": "execute_result"
    }
   ],
   "source": [
    "torch.argmax(x, dim=0, keepdim=True)"
   ]
  },
  {
   "cell_type": "code",
   "execution_count": 321,
   "id": "73097036",
   "metadata": {},
   "outputs": [
    {
     "data": {
      "text/plain": [
       "tensor([2.8717, 2.5536])"
      ]
     },
     "execution_count": 321,
     "metadata": {},
     "output_type": "execute_result"
    }
   ],
   "source": [
    "torch.amax(x, dim=(0, 1))"
   ]
  },
  {
   "cell_type": "code",
   "execution_count": 322,
   "id": "4da86753",
   "metadata": {},
   "outputs": [
    {
     "data": {
      "text/plain": [
       "tensor([2.8717, 2.5536])"
      ]
     },
     "execution_count": 322,
     "metadata": {},
     "output_type": "execute_result"
    }
   ],
   "source": [
    "torch.amax(x, dim=(1, 0))"
   ]
  },
  {
   "cell_type": "code",
   "execution_count": 323,
   "id": "64c671b0",
   "metadata": {},
   "outputs": [
    {
     "data": {
      "text/plain": [
       "tensor([[0.6166, 2.3506],\n",
       "        [2.7820, 2.5536],\n",
       "        [2.8717, 2.2201]])"
      ]
     },
     "execution_count": 323,
     "metadata": {},
     "output_type": "execute_result"
    }
   ],
   "source": [
    "torch.amax(x, dim=(1, ))"
   ]
  },
  {
   "cell_type": "code",
   "execution_count": 324,
   "id": "4e035e78",
   "metadata": {},
   "outputs": [
    {
     "data": {
      "text/plain": [
       "tensor([[[2.8717, 2.5536]]])"
      ]
     },
     "execution_count": 324,
     "metadata": {},
     "output_type": "execute_result"
    }
   ],
   "source": [
    "torch.amax(x, dim=(1, 0), keepdim=True)"
   ]
  },
  {
   "cell_type": "code",
   "execution_count": 325,
   "id": "29a261ad",
   "metadata": {},
   "outputs": [
    {
     "data": {
      "text/plain": [
       "(tensor(16), tensor(-2.8787), tensor(-2.8787))"
      ]
     },
     "execution_count": 325,
     "metadata": {},
     "output_type": "execute_result"
    }
   ],
   "source": [
    "torch.argmin(x), torch.min(x), x.flatten()[torch.argmin(x)]"
   ]
  },
  {
   "cell_type": "code",
   "execution_count": 326,
   "id": "965bc2ca",
   "metadata": {},
   "outputs": [
    {
     "data": {
      "text/plain": [
       "tensor([-2.8787, -2.4772])"
      ]
     },
     "execution_count": 326,
     "metadata": {},
     "output_type": "execute_result"
    }
   ],
   "source": [
    "torch.amin(x, dim=(0, 1))"
   ]
  },
  {
   "cell_type": "code",
   "execution_count": 327,
   "id": "bf5d7958",
   "metadata": {},
   "outputs": [
    {
     "data": {
      "text/plain": [
       "torch.return_types.min(\n",
       "values=tensor([[-0.4581,  0.2693],\n",
       "        [-2.5738, -2.4772],\n",
       "        [-2.8787,  1.6832]]),\n",
       "indices=tensor([[2, 1],\n",
       "        [3, 3],\n",
       "        [0, 3]]))"
      ]
     },
     "execution_count": 327,
     "metadata": {},
     "output_type": "execute_result"
    }
   ],
   "source": [
    "torch.min(x, dim=1)"
   ]
  },
  {
   "cell_type": "code",
   "execution_count": 328,
   "id": "1f4998ad",
   "metadata": {},
   "outputs": [
    {
     "data": {
      "text/plain": [
       "tensor([[[ 0.2929,  1.2911],\n",
       "         [ 0.6166,  0.2693],\n",
       "         [-0.4581,  0.8754],\n",
       "         [-0.3745,  2.3506]],\n",
       "\n",
       "        [[ 2.7820, -0.6994],\n",
       "         [ 1.7504,  0.1734],\n",
       "         [ 0.4083,  2.5536],\n",
       "         [-2.5738, -2.4772]],\n",
       "\n",
       "        [[-2.8787,  1.9957],\n",
       "         [ 1.6689,  2.2201],\n",
       "         [ 2.8717,  1.7950],\n",
       "         [-0.2311,  1.6832]]])"
      ]
     },
     "execution_count": 328,
     "metadata": {},
     "output_type": "execute_result"
    }
   ],
   "source": [
    "x"
   ]
  },
  {
   "cell_type": "code",
   "execution_count": 329,
   "id": "5e191142",
   "metadata": {},
   "outputs": [
    {
     "data": {
      "text/plain": [
       "torch.return_types.aminmax(\n",
       "min=tensor(-2.8787),\n",
       "max=tensor(2.8717))"
      ]
     },
     "execution_count": 329,
     "metadata": {},
     "output_type": "execute_result"
    }
   ],
   "source": [
    "torch.aminmax(x,)"
   ]
  },
  {
   "cell_type": "code",
   "execution_count": 330,
   "id": "335a090e",
   "metadata": {},
   "outputs": [
    {
     "data": {
      "text/plain": [
       "torch.return_types.aminmax(\n",
       "min=tensor([[-0.4581,  0.2693],\n",
       "        [-2.5738, -2.4772],\n",
       "        [-2.8787,  1.6832]]),\n",
       "max=tensor([[0.6166, 2.3506],\n",
       "        [2.7820, 2.5536],\n",
       "        [2.8717, 2.2201]]))"
      ]
     },
     "execution_count": 330,
     "metadata": {},
     "output_type": "execute_result"
    }
   ],
   "source": [
    "torch.aminmax(x, dim=1)"
   ]
  },
  {
   "cell_type": "code",
   "execution_count": 331,
   "id": "86310b04",
   "metadata": {},
   "outputs": [
    {
     "name": "stdout",
     "output_type": "stream",
     "text": [
      "error : aminmax(): argument 'dim' must be int, not tuple\n"
     ]
    }
   ],
   "source": [
    "try:\n",
    "    torch.aminmax(x, dim=(0, 1))\n",
    "except Exception:\n",
    "    print(\"error : aminmax(): argument 'dim' must be int, not tuple\")"
   ]
  },
  {
   "cell_type": "code",
   "execution_count": 332,
   "id": "d7ff2e4f",
   "metadata": {},
   "outputs": [
    {
     "data": {
      "text/plain": [
       "(tensor([[0.9273, 0.7838, 0.8209, 0.9204, 0.7088],\n",
       "         [0.9400, 0.8191, 0.9263, 0.8709, 0.8316],\n",
       "         [0.8916, 0.8574, 0.9048, 0.7915, 0.8391]]),\n",
       " tensor([[ True,  True,  True, False,  True],\n",
       "         [ True,  True,  True,  True,  True],\n",
       "         [ True,  True,  True,  True,  True]]),\n",
       " tensor(False),\n",
       " tensor(True))"
      ]
     },
     "execution_count": 332,
     "metadata": {},
     "output_type": "execute_result"
    }
   ],
   "source": [
    "torch.manual_seed(1)\n",
    "p = torch.empty(3, 5).uniform_(0.7, 1)\n",
    "x = torch.bernoulli(p).type(torch.bool)\n",
    "p, x, torch.all(x), torch.any(x)"
   ]
  },
  {
   "cell_type": "code",
   "execution_count": 333,
   "id": "97566188",
   "metadata": {},
   "outputs": [
    {
     "data": {
      "text/plain": [
       "(tensor([[0.8919, 0.9923, 0.9490, 0.7133, 0.7074],\n",
       "         [0.7777, 0.9817, 0.8250, 0.9142, 0.7803],\n",
       "         [0.9972, 0.7865, 0.9625, 0.8518, 0.7710]]),\n",
       " tensor([[ True,  True,  True,  True,  True],\n",
       "         [ True,  True,  True,  True, False],\n",
       "         [ True,  True,  True,  True,  True]]),\n",
       " tensor([ True, False,  True]),\n",
       " tensor([[True],\n",
       "         [True],\n",
       "         [True]]))"
      ]
     },
     "execution_count": 333,
     "metadata": {},
     "output_type": "execute_result"
    }
   ],
   "source": [
    "p = torch.empty(3, 5).uniform_(0.7, 1)\n",
    "x = torch.bernoulli(p).type(torch.bool)\n",
    "p, x, torch.all(x, dim=1), torch.any(x, dim=1, keepdim=True)"
   ]
  },
  {
   "cell_type": "code",
   "execution_count": 334,
   "id": "66c7748b",
   "metadata": {},
   "outputs": [
    {
     "data": {
      "text/plain": [
       "(tensor([1., 2.]), tensor([3., 4.]), tensor(2.8284), tensor(2.8284))"
      ]
     },
     "execution_count": 334,
     "metadata": {},
     "output_type": "execute_result"
    }
   ],
   "source": [
    "x = torch.tensor([1., 2.])\n",
    "y = torch.tensor([3, 4.])\n",
    "x, y, torch.dist(y, x, 2), (y- x).square().sum().sqrt()"
   ]
  },
  {
   "cell_type": "code",
   "execution_count": 335,
   "id": "b1903a1e",
   "metadata": {},
   "outputs": [
    {
     "data": {
      "text/plain": [
       "(tensor([[[ 0.4533,  1.1422,  0.2486],\n",
       "          [-1.7754, -0.0255, -1.0233]],\n",
       " \n",
       "         [[-0.5962, -1.0055,  0.4285],\n",
       "          [ 1.4761, -1.7869,  1.6103]],\n",
       " \n",
       "         [[-0.7040, -0.1853, -0.3416],\n",
       "          [-0.3003,  1.3075, -1.1628]],\n",
       " \n",
       "         [[ 0.1196, -0.1631,  0.6614],\n",
       "          [ 1.1899,  1.4301,  0.4208]],\n",
       " \n",
       "         [[-0.3538,  0.7639, -0.5890],\n",
       "          [-0.7636,  1.3352,  0.6043]]]),\n",
       " tensor([ 0.8779, -1.3920, -0.4033]),\n",
       " tensor(8.1500),\n",
       " tensor(8.1500))"
      ]
     },
     "execution_count": 335,
     "metadata": {},
     "output_type": "execute_result"
    }
   ],
   "source": [
    "x = torch.randn(5, 2, 3)\n",
    "y = torch.randn(3)\n",
    "x, y, torch.dist(y, x, p=2), (y- x).square().sum().sqrt()"
   ]
  },
  {
   "cell_type": "code",
   "execution_count": 336,
   "id": "acfb2c97",
   "metadata": {},
   "outputs": [
    {
     "data": {
      "text/plain": [
       "(tensor([[[ 1.2858,  0.8168,  0.2053],\n",
       "          [ 0.3051,  0.5357, -0.4312]],\n",
       " \n",
       "         [[ 0.1573,  1.2540, -0.0135],\n",
       "          [ 1.8606, -1.9804,  1.7986]],\n",
       " \n",
       "         [[ 0.1018,  0.3400, -1.3633],\n",
       "          [-0.9832,  1.5113,  0.6419]],\n",
       " \n",
       "         [[ 0.4730, -0.4286,  0.5514],\n",
       "          [-1.5474,  0.5181,  0.1065]],\n",
       " \n",
       "         [[ 0.2692,  1.3248,  1.7460],\n",
       "          [ 1.8550, -0.7064,  2.5571]]]),\n",
       " tensor([[1.7280],\n",
       "         [0.8098]]),\n",
       " tensor(7.8199),\n",
       " tensor(7.8199))"
      ]
     },
     "execution_count": 336,
     "metadata": {},
     "output_type": "execute_result"
    }
   ],
   "source": [
    "x = torch.randn(5, 2, 3)\n",
    "y = torch.randn(2, 1)\n",
    "x, y, torch.dist(y, x, p=2), (y- x).square().sum().sqrt()"
   ]
  },
  {
   "cell_type": "code",
   "execution_count": 337,
   "id": "c3edd510",
   "metadata": {},
   "outputs": [
    {
     "data": {
      "text/plain": [
       "(tensor([[ 1.5410, -0.2934],\n",
       "         [-2.1788,  0.5684],\n",
       "         [-1.0845, -1.3986]]),\n",
       " tensor([ 1.6892,  0.6306, -0.5361]),\n",
       " tensor([ 1.6892,  0.6306, -0.5361]))"
      ]
     },
     "execution_count": 337,
     "metadata": {},
     "output_type": "execute_result"
    }
   ],
   "source": [
    "torch.manual_seed(0)\n",
    "y = torch.randn(3, 2)\n",
    "y, torch.logsumexp(y, 1), torch.log(y.exp().sum(1)) # log(sum(y[i] for i in range(3)))"
   ]
  },
  {
   "cell_type": "code",
   "execution_count": 338,
   "id": "51c8e7ce",
   "metadata": {},
   "outputs": [
    {
     "data": {
      "text/plain": [
       "(tensor([[0., 1., 2., 3., 4.],\n",
       "         [5., 6., 7., 8., 9.]]),\n",
       " tensor(4.5000),\n",
       " tensor(4.),\n",
       " tensor([2., 7.]),\n",
       " torch.return_types.median(\n",
       " values=tensor([2., 7.]),\n",
       " indices=tensor([2, 2])))"
      ]
     },
     "execution_count": 338,
     "metadata": {},
     "output_type": "execute_result"
    }
   ],
   "source": [
    "x = torch.arange(0, 10).to(dtype=torch.float32).reshape((2, 5))\n",
    "x, torch.mean(x), torch.median(x), torch.mean(x, dim=1), torch.median(x, dim=1)"
   ]
  },
  {
   "cell_type": "code",
   "execution_count": 339,
   "id": "508ec574",
   "metadata": {},
   "outputs": [
    {
     "data": {
      "text/plain": [
       "(tensor([[0., 1., 2., 3.],\n",
       "         [4., 5., 6., 7.]]),\n",
       " tensor(3.5000),\n",
       " tensor(3.),\n",
       " tensor([1.5000, 5.5000]),\n",
       " torch.return_types.median(\n",
       " values=tensor([1., 5.]),\n",
       " indices=tensor([1, 1])))"
      ]
     },
     "execution_count": 339,
     "metadata": {},
     "output_type": "execute_result"
    }
   ],
   "source": [
    "x = torch.arange(0, 8).to(dtype=torch.float32).reshape((2, 4))\n",
    "x, torch.mean(x), torch.median(x), torch.mean(x, dim=1), torch.median(x, dim=1)"
   ]
  },
  {
   "cell_type": "code",
   "execution_count": 340,
   "id": "eb3c68ca",
   "metadata": {},
   "outputs": [
    {
     "data": {
      "text/plain": [
       "tensor([ 1, -1,  1,  1,  2])"
      ]
     },
     "execution_count": 340,
     "metadata": {},
     "output_type": "execute_result"
    }
   ],
   "source": [
    "torch.tensor([1.2, -1.2, 1.5, 1.5, 2.8]).long()"
   ]
  },
  {
   "cell_type": "code",
   "execution_count": 341,
   "id": "aac16cb1",
   "metadata": {},
   "outputs": [
    {
     "data": {
      "text/plain": [
       "tensor([True, True, True, True, True])"
      ]
     },
     "execution_count": 341,
     "metadata": {},
     "output_type": "execute_result"
    }
   ],
   "source": [
    "torch.tensor([1.2, -1.2, 1.5, 1.5, 2.8]).bool()"
   ]
  },
  {
   "cell_type": "code",
   "execution_count": 342,
   "id": "c460582c",
   "metadata": {},
   "outputs": [
    {
     "data": {
      "text/plain": [
       "tensor([ 1, -1,  1,  1,  2], dtype=torch.int32)"
      ]
     },
     "execution_count": 342,
     "metadata": {},
     "output_type": "execute_result"
    }
   ],
   "source": [
    "torch.tensor([1.2, -1.2, 1.5, 1.5, 2.8]).int()"
   ]
  },
  {
   "cell_type": "code",
   "execution_count": 343,
   "id": "f6e8aced",
   "metadata": {},
   "outputs": [
    {
     "data": {
      "text/plain": [
       "(tensor([4, 9, 3, 0, 3, 9]),\n",
       " tensor([[10, 15,  9,  6,  9, 15],\n",
       "         [ 1,  6,  0, -3,  0,  6],\n",
       "         [ 4,  9,  3,  0,  3,  9],\n",
       "         [ 1,  6,  0, -3,  0,  6]]),\n",
       " torch.return_types.mode(\n",
       " values=tensor([ 1,  6,  0, -3,  0,  6]),\n",
       " indices=tensor([3, 3, 3, 3, 3, 3])),\n",
       " torch.return_types.mode(\n",
       " values=tensor([9, 0, 3, 0]),\n",
       " indices=tensor([4, 4, 4, 4])),\n",
       " '\\n',\n",
       " torch.return_types.mode(\n",
       " values=tensor([9, 0, 3, 0]),\n",
       " indices=tensor([4, 4, 4, 4])))"
      ]
     },
     "execution_count": 343,
     "metadata": {},
     "output_type": "execute_result"
    }
   ],
   "source": [
    "torch.manual_seed(0)\n",
    "a = torch.randint(10, (6,))\n",
    "b = a + (torch.randn(4, 1) * 5).long()\n",
    "a, b, torch.mode(b, dim=0),torch.mode(b, dim=1), '\\n',torch.mode(b)"
   ]
  },
  {
   "cell_type": "code",
   "execution_count": 344,
   "id": "0142a5f8",
   "metadata": {},
   "outputs": [
    {
     "data": {
      "text/plain": [
       "(tensor(33.2866), tensor(33.2866))"
      ]
     },
     "execution_count": 344,
     "metadata": {},
     "output_type": "execute_result"
    }
   ],
   "source": [
    "torch.norm(b.to(dtype=torch.float32)), torch.linalg.vector_norm(b.float())"
   ]
  },
  {
   "cell_type": "code",
   "execution_count": 345,
   "id": "1e86293d",
   "metadata": {},
   "outputs": [
    {
     "data": {
      "text/plain": [
       "(tensor(33.2866), tensor(33.2866))"
      ]
     },
     "execution_count": 345,
     "metadata": {},
     "output_type": "execute_result"
    }
   ],
   "source": [
    "torch.norm(b.float()), b.square().sum().sqrt()"
   ]
  },
  {
   "cell_type": "code",
   "execution_count": 346,
   "id": "c722318c",
   "metadata": {},
   "outputs": [
    {
     "data": {
      "text/plain": [
       "(tensor([27.3496,  9.0554, 14.0000,  9.0554]),\n",
       " tensor([27.3496,  9.0554, 14.0000,  9.0554]))"
      ]
     },
     "execution_count": 346,
     "metadata": {},
     "output_type": "execute_result"
    }
   ],
   "source": [
    "torch.norm(b.float(), dim=1), b.square().sum(1).sqrt()"
   ]
  },
  {
   "cell_type": "code",
   "execution_count": 347,
   "id": "9dae3afb",
   "metadata": {},
   "outputs": [
    {
     "data": {
      "text/plain": [
       "(tensor(1.), tensor(nan))"
      ]
     },
     "execution_count": 347,
     "metadata": {},
     "output_type": "execute_result"
    }
   ],
   "source": [
    "torch.nansum(torch.tensor([1., float(\"nan\")])), torch.sum(torch.tensor([1., float(\"nan\")]))"
   ]
  },
  {
   "cell_type": "code",
   "execution_count": 348,
   "id": "e6821e61",
   "metadata": {},
   "outputs": [
    {
     "data": {
      "text/plain": [
       "(tensor(1.), tensor(nan))"
      ]
     },
     "execution_count": 348,
     "metadata": {},
     "output_type": "execute_result"
    }
   ],
   "source": [
    "torch.nanmean(torch.tensor([1., float(\"nan\")])), torch.mean(torch.tensor([1., float(\"nan\")]))"
   ]
  },
  {
   "cell_type": "code",
   "execution_count": 349,
   "id": "5365708f",
   "metadata": {},
   "outputs": [
    {
     "data": {
      "text/plain": [
       "(tensor(1.), tensor(1.))"
      ]
     },
     "execution_count": 349,
     "metadata": {},
     "output_type": "execute_result"
    }
   ],
   "source": [
    "torch.nanmedian(torch.tensor([1., float(\"nan\")])), torch.nanmedian(torch.tensor([1., float(\"nan\")]))"
   ]
  },
  {
   "cell_type": "code",
   "execution_count": 350,
   "id": "4a48f771",
   "metadata": {},
   "outputs": [
    {
     "data": {
      "text/plain": [
       "(tensor([[1, 2],\n",
       "         [3, 4]]),\n",
       " tensor(24),\n",
       " tensor([ 2, 12]))"
      ]
     },
     "execution_count": 350,
     "metadata": {},
     "output_type": "execute_result"
    }
   ],
   "source": [
    "a = torch.tensor([[1, 2], [3, 4]])\n",
    "a, torch.prod(a), torch.prod(a, dim=1)"
   ]
  },
  {
   "cell_type": "code",
   "execution_count": 351,
   "id": "4022537c",
   "metadata": {},
   "outputs": [
    {
     "data": {
      "text/plain": [
       "tensor([[-1.1258, -1.1524, -0.2506, -0.4339,  0.5988],\n",
       "        [-1.5551, -0.3414,  1.8530,  0.4681, -0.1577],\n",
       "        [ 1.4437,  0.2660,  1.3894,  1.5863,  0.9463],\n",
       "        [-0.8437,  0.9318,  1.2590,  2.0050,  0.0537]])"
      ]
     },
     "execution_count": 351,
     "metadata": {},
     "output_type": "execute_result"
    }
   ],
   "source": [
    "torch.manual_seed(0)\n",
    "x = torch.randn((4, 5))\n",
    "x"
   ]
  },
  {
   "cell_type": "code",
   "execution_count": 352,
   "id": "b20c9a86",
   "metadata": {},
   "outputs": [
    {
     "data": {
      "text/plain": [
       "tensor([-1.5551, -1.1524, -1.1258, -0.8437, -0.4339, -0.3414, -0.2506, -0.1577,\n",
       "         0.0537,  0.2660,  0.4681,  0.5988,  0.9318,  0.9463,  1.2590,  1.3894,\n",
       "         1.4437,  1.5863,  1.8530,  2.0050])"
      ]
     },
     "execution_count": 352,
     "metadata": {},
     "output_type": "execute_result"
    }
   ],
   "source": [
    "torch.sort(x.flatten()).values"
   ]
  },
  {
   "cell_type": "code",
   "execution_count": 353,
   "id": "27d9f0d9",
   "metadata": {},
   "outputs": [
    {
     "data": {
      "text/plain": [
       "torch.return_types.sort(\n",
       "values=tensor([[-1.1524, -1.1258, -0.4339, -0.2506,  0.5988],\n",
       "        [-1.5551, -0.3414, -0.1577,  0.4681,  1.8530],\n",
       "        [ 0.2660,  0.9463,  1.3894,  1.4437,  1.5863],\n",
       "        [-0.8437,  0.0537,  0.9318,  1.2590,  2.0050]]),\n",
       "indices=tensor([[1, 0, 3, 2, 4],\n",
       "        [0, 1, 4, 3, 2],\n",
       "        [1, 4, 2, 0, 3],\n",
       "        [0, 4, 1, 2, 3]]))"
      ]
     },
     "execution_count": 353,
     "metadata": {},
     "output_type": "execute_result"
    }
   ],
   "source": [
    "torch.sort(x)"
   ]
  },
  {
   "cell_type": "code",
   "execution_count": 354,
   "id": "4cf54ec7",
   "metadata": {},
   "outputs": [
    {
     "data": {
      "text/plain": [
       "torch.return_types.sort(\n",
       "values=tensor([[-1.5551, -1.1524, -0.2506, -0.4339, -0.1577],\n",
       "        [-1.1258, -0.3414,  1.2590,  0.4681,  0.0537],\n",
       "        [-0.8437,  0.2660,  1.3894,  1.5863,  0.5988],\n",
       "        [ 1.4437,  0.9318,  1.8530,  2.0050,  0.9463]]),\n",
       "indices=tensor([[1, 0, 0, 0, 1],\n",
       "        [0, 1, 3, 1, 3],\n",
       "        [3, 2, 2, 2, 0],\n",
       "        [2, 3, 1, 3, 2]]))"
      ]
     },
     "execution_count": 354,
     "metadata": {},
     "output_type": "execute_result"
    }
   ],
   "source": [
    "torch.sort(x, dim=0)"
   ]
  },
  {
   "cell_type": "code",
   "execution_count": 355,
   "id": "5d46ca2b",
   "metadata": {},
   "outputs": [
    {
     "data": {
      "text/plain": [
       "tensor([[-1.1258, -1.1524, -0.2506, -0.4339,  0.5988],\n",
       "        [-1.5551, -0.3414,  1.8530,  0.4681, -0.1577],\n",
       "        [ 1.4437,  0.2660,  1.3894,  1.5863,  0.9463],\n",
       "        [-0.8437,  0.9318,  1.2590,  2.0050,  0.0537]])"
      ]
     },
     "execution_count": 355,
     "metadata": {},
     "output_type": "execute_result"
    }
   ],
   "source": [
    "x"
   ]
  },
  {
   "cell_type": "code",
   "execution_count": 356,
   "id": "bb95eea1",
   "metadata": {},
   "outputs": [
    {
     "data": {
      "text/plain": [
       "tensor([-1.5551, -1.1524, -1.1258, -0.8437, -0.4339, -0.3414, -0.2506, -0.1577,\n",
       "         0.0537,  0.2660,  0.4681,  0.5988,  0.9318,  0.9463,  1.2590,  1.3894,\n",
       "         1.4437,  1.5863,  1.8530,  2.0050])"
      ]
     },
     "execution_count": 356,
     "metadata": {},
     "output_type": "execute_result"
    }
   ],
   "source": [
    "torch.sort(x.flatten()).values"
   ]
  },
  {
   "cell_type": "code",
   "execution_count": 357,
   "id": "21a68263",
   "metadata": {},
   "outputs": [
    {
     "data": {
      "text/plain": [
       "(0.36705, -0.38765)"
      ]
     },
     "execution_count": 357,
     "metadata": {},
     "output_type": "execute_result"
    }
   ],
   "source": [
    "(0.2660 +  0.4681) / 2,  (-0.4339 -0.3414) / 2"
   ]
  },
  {
   "cell_type": "code",
   "execution_count": 358,
   "id": "08f3e7c2",
   "metadata": {},
   "outputs": [
    {
     "data": {
      "text/plain": [
       "(tensor([0.3671]), tensor([[[0.3671]]]))"
      ]
     },
     "execution_count": 358,
     "metadata": {},
     "output_type": "execute_result"
    }
   ],
   "source": [
    "torch.quantile(x, torch.tensor([0.5])), torch.quantile(x, torch.tensor([0.5]), keepdim=True)"
   ]
  },
  {
   "cell_type": "code",
   "execution_count": 359,
   "id": "fa4f14da",
   "metadata": {},
   "outputs": [
    {
     "data": {
      "text/plain": [
       "tensor([ 0.3671, -0.3645])"
      ]
     },
     "execution_count": 359,
     "metadata": {},
     "output_type": "execute_result"
    }
   ],
   "source": [
    "torch.quantile(x, torch.tensor([0.5, 0.25]))"
   ]
  },
  {
   "cell_type": "code",
   "execution_count": 360,
   "id": "d8ea3368",
   "metadata": {},
   "outputs": [
    {
     "data": {
      "text/plain": [
       "tensor([[-0.4339, -0.1577,  1.3894,  0.9318]])"
      ]
     },
     "execution_count": 360,
     "metadata": {},
     "output_type": "execute_result"
    }
   ],
   "source": [
    "torch.quantile(x, torch.tensor([0.5]), dim=1)"
   ]
  },
  {
   "cell_type": "code",
   "execution_count": 361,
   "id": "5a305dfd",
   "metadata": {},
   "outputs": [
    {
     "data": {
      "text/plain": [
       "tensor([[-0.4339, -0.1577,  1.3894,  0.9318]])"
      ]
     },
     "execution_count": 361,
     "metadata": {},
     "output_type": "execute_result"
    }
   ],
   "source": [
    "torch.quantile(x, torch.tensor([0.5]), interpolation=\"linear\", dim=1)\n"
   ]
  },
  {
   "cell_type": "code",
   "execution_count": 362,
   "id": "fb912f29",
   "metadata": {},
   "outputs": [
    {
     "data": {
      "text/plain": [
       "tensor([[-0.4339, -0.1577,  1.3894,  0.9318]])"
      ]
     },
     "execution_count": 362,
     "metadata": {},
     "output_type": "execute_result"
    }
   ],
   "source": [
    "torch.quantile(x, torch.tensor([0.5]), interpolation=\"lower\", dim=1)\n"
   ]
  },
  {
   "cell_type": "code",
   "execution_count": 363,
   "id": "4418edff",
   "metadata": {},
   "outputs": [
    {
     "data": {
      "text/plain": [
       "tensor([[-0.4339, -0.1577,  1.3894,  0.9318]])"
      ]
     },
     "execution_count": 363,
     "metadata": {},
     "output_type": "execute_result"
    }
   ],
   "source": [
    "torch.quantile(x, torch.tensor([0.5]), interpolation=\"higher\", dim=1)\n"
   ]
  },
  {
   "cell_type": "code",
   "execution_count": 364,
   "id": "a8da68dc",
   "metadata": {},
   "outputs": [
    {
     "data": {
      "text/plain": [
       "tensor([[-0.4339, -0.1577,  1.3894,  0.9318]])"
      ]
     },
     "execution_count": 364,
     "metadata": {},
     "output_type": "execute_result"
    }
   ],
   "source": [
    "torch.quantile(x, torch.tensor([0.5]), interpolation=\"nearest\", dim=1)\n"
   ]
  },
  {
   "cell_type": "code",
   "execution_count": 365,
   "id": "03b2dbd2",
   "metadata": {},
   "outputs": [
    {
     "data": {
      "text/plain": [
       "tensor([[-0.4339, -0.1577,  1.3894,  0.9318]])"
      ]
     },
     "execution_count": 365,
     "metadata": {},
     "output_type": "execute_result"
    }
   ],
   "source": [
    "torch.quantile(x, torch.tensor([0.5]), interpolation=\"midpoint\", dim=1)\n"
   ]
  },
  {
   "cell_type": "code",
   "execution_count": 366,
   "id": "332e6d67",
   "metadata": {},
   "outputs": [
    {
     "data": {
      "text/plain": [
       "(tensor([[-0.8920, -1.5091,  0.3704,  1.4565,  0.9398],\n",
       "         [ 0.7748,  0.1919,  1.2638, -1.2904, -0.7911]]),\n",
       " tensor([0.3656, 0.1490]))"
      ]
     },
     "execution_count": 366,
     "metadata": {},
     "output_type": "execute_result"
    }
   ],
   "source": [
    "x = torch.randn((2, 5))\n",
    "x, torch.sum(x, dim=1)\n"
   ]
  },
  {
   "cell_type": "code",
   "execution_count": 367,
   "id": "48491b8b",
   "metadata": {},
   "outputs": [
    {
     "data": {
      "text/plain": [
       "(tensor([[2, 1, 2, 2, 1, 1, 0, 0, 1, 2],\n",
       "         [1, 1, 2, 1, 2, 2, 0, 1, 0, 2],\n",
       "         [0, 1, 1, 2, 2, 2, 2, 1, 0, 2],\n",
       "         [1, 1, 1, 2, 1, 1, 1, 1, 1, 2]]),\n",
       " tensor([[0, 1, 1, 2, 2, 2, 2, 1, 0, 2],\n",
       "         [1, 1, 1, 2, 1, 1, 1, 1, 1, 2],\n",
       "         [1, 1, 2, 1, 2, 2, 0, 1, 0, 2],\n",
       "         [2, 1, 2, 2, 1, 1, 0, 0, 1, 2]]),\n",
       " tensor([[0, 0, 1, 1, 1, 2, 2, 2, 2],\n",
       "         [0, 1, 0, 1, 2, 1, 1, 2, 2],\n",
       "         [2, 1, 0, 1, 2, 0, 2, 1, 2],\n",
       "         [1, 1, 1, 1, 1, 1, 2, 1, 2]]))"
      ]
     },
     "execution_count": 367,
     "metadata": {},
     "output_type": "execute_result"
    }
   ],
   "source": [
    "x = torch.randint(0, 3, (4, 10))\n",
    "x, torch.unique(x, dim=0), torch.unique(x, dim=1, sorted=False)"
   ]
  },
  {
   "cell_type": "code",
   "execution_count": 368,
   "id": "219deaaa",
   "metadata": {},
   "outputs": [
    {
     "data": {
      "text/plain": [
       "(tensor([1, 1, 2, 1, 2, 0, 1, 0, 2, 0]), tensor([0, 1, 2]), tensor([0, 1, 2]))"
      ]
     },
     "execution_count": 368,
     "metadata": {},
     "output_type": "execute_result"
    }
   ],
   "source": [
    "x = torch.randint(0, 3, (10, ))\n",
    "x, torch.unique(x, dim=0), torch.unique(x, dim=0, sorted=False)"
   ]
  },
  {
   "cell_type": "code",
   "execution_count": 369,
   "id": "2e634666",
   "metadata": {},
   "outputs": [
    {
     "data": {
      "text/plain": [
       "(tensor(0.6667), tensor(1.))"
      ]
     },
     "execution_count": 369,
     "metadata": {},
     "output_type": "execute_result"
    }
   ],
   "source": [
    "torch.var_mean(x.to(torch.float32))"
   ]
  },
  {
   "cell_type": "code",
   "execution_count": 370,
   "id": "f3742831",
   "metadata": {},
   "outputs": [
    {
     "data": {
      "text/plain": [
       "((tensor([0.7100, 0.3561, 0.2945, 0.3399]),\n",
       "  tensor([-0.1546, -0.4543,  0.0979, -0.5714])),\n",
       " tensor([-0.1546, -0.4543,  0.0979, -0.5714]))"
      ]
     },
     "execution_count": 370,
     "metadata": {},
     "output_type": "execute_result"
    }
   ],
   "source": [
    "x = torch.randn((4, 5))\n",
    "torch.var_mean(x.to(torch.float32), dim=1), torch.mean(x.float(), dim=1)"
   ]
  },
  {
   "cell_type": "code",
   "execution_count": 371,
   "id": "92a88826",
   "metadata": {},
   "outputs": [
    {
     "data": {
      "text/plain": [
       "True"
      ]
     },
     "execution_count": 371,
     "metadata": {},
     "output_type": "execute_result"
    }
   ],
   "source": [
    "torch.allclose(torch.tensor([10000., 1e-08]), torch.tensor([10000.1, 1e-09]))"
   ]
  },
  {
   "cell_type": "code",
   "execution_count": 372,
   "id": "f9db76c9",
   "metadata": {},
   "outputs": [
    {
     "data": {
      "text/plain": [
       "(tensor([[-1.1258, -1.1524, -0.2506, -0.4339,  0.5988],\n",
       "         [-1.5551, -0.3414,  1.8530,  0.4681, -0.1577],\n",
       "         [ 1.4437,  0.2660,  1.3894,  1.5863,  0.9463],\n",
       "         [-0.8437,  0.9318,  1.2590,  2.0050,  0.0537]]),\n",
       " torch.return_types.sort(\n",
       " values=tensor([[-1.1524, -1.1258, -0.4339, -0.2506,  0.5988],\n",
       "         [-1.5551, -0.3414, -0.1577,  0.4681,  1.8530],\n",
       "         [ 0.2660,  0.9463,  1.3894,  1.4437,  1.5863],\n",
       "         [-0.8437,  0.0537,  0.9318,  1.2590,  2.0050]]),\n",
       " indices=tensor([[1, 0, 3, 2, 4],\n",
       "         [0, 1, 4, 3, 2],\n",
       "         [1, 4, 2, 0, 3],\n",
       "         [0, 4, 1, 2, 3]])),\n",
       " torch.return_types.sort(\n",
       " values=tensor([[-1.1524, -1.1258, -0.4339, -0.2506,  0.5988],\n",
       "         [-1.5551, -0.3414, -0.1577,  0.4681,  1.8530],\n",
       "         [ 0.2660,  0.9463,  1.3894,  1.4437,  1.5863],\n",
       "         [-0.8437,  0.0537,  0.9318,  1.2590,  2.0050]]),\n",
       " indices=tensor([[1, 0, 3, 2, 4],\n",
       "         [0, 1, 4, 3, 2],\n",
       "         [1, 4, 2, 0, 3],\n",
       "         [0, 4, 1, 2, 3]])),\n",
       " torch.return_types.sort(\n",
       " values=tensor([[-1.5551, -1.1524, -0.2506, -0.4339, -0.1577],\n",
       "         [-1.1258, -0.3414,  1.2590,  0.4681,  0.0537],\n",
       "         [-0.8437,  0.2660,  1.3894,  1.5863,  0.5988],\n",
       "         [ 1.4437,  0.9318,  1.8530,  2.0050,  0.9463]]),\n",
       " indices=tensor([[1, 0, 0, 0, 1],\n",
       "         [0, 1, 3, 1, 3],\n",
       "         [3, 2, 2, 2, 0],\n",
       "         [2, 3, 1, 3, 2]])))"
      ]
     },
     "execution_count": 372,
     "metadata": {},
     "output_type": "execute_result"
    }
   ],
   "source": [
    "torch.manual_seed(0)\n",
    "x = torch.randn((4, 5))\n",
    "x, torch.sort(x), torch.sort(x, dim=1), torch.sort(x, dim=0)"
   ]
  },
  {
   "cell_type": "code",
   "execution_count": 373,
   "id": "4f11a400",
   "metadata": {},
   "outputs": [
    {
     "data": {
      "text/plain": [
       "(tensor([[-1.5551, -1.1524, -0.2506, -0.4339, -0.1577],\n",
       "         [-1.1258, -0.3414,  1.2590,  0.4681,  0.0537],\n",
       "         [-0.8437,  0.2660,  1.3894,  1.5863,  0.5988],\n",
       "         [ 1.4437,  0.9318,  1.8530,  2.0050,  0.9463]]),\n",
       " tensor([[1, 0, 0, 0, 1],\n",
       "         [0, 1, 3, 1, 3],\n",
       "         [3, 2, 2, 2, 0],\n",
       "         [2, 3, 1, 3, 2]]))"
      ]
     },
     "execution_count": 373,
     "metadata": {},
     "output_type": "execute_result"
    }
   ],
   "source": [
    "s, indexes = torch.sort(x, dim=0)\n",
    "s, indexes"
   ]
  },
  {
   "cell_type": "code",
   "execution_count": 374,
   "id": "da02bcab",
   "metadata": {},
   "outputs": [
    {
     "data": {
      "text/plain": [
       "tensor([[1, 0, 0, 0, 1],\n",
       "        [0, 1, 3, 1, 3],\n",
       "        [3, 2, 2, 2, 0],\n",
       "        [2, 3, 1, 3, 2]])"
      ]
     },
     "execution_count": 374,
     "metadata": {},
     "output_type": "execute_result"
    }
   ],
   "source": [
    "torch.argsort(x, dim=0)"
   ]
  },
  {
   "cell_type": "code",
   "execution_count": 375,
   "id": "4384aa50",
   "metadata": {},
   "outputs": [
    {
     "data": {
      "text/plain": [
       "tensor([[ 2,  4,  6,  8],\n",
       "        [40, 48, 56, 64]])"
      ]
     },
     "execution_count": 375,
     "metadata": {},
     "output_type": "execute_result"
    }
   ],
   "source": [
    "torch.bitwise_left_shift(torch.tensor([[2, 4, 6, 8],\n",
    "                                       [10, 12, 14, 16]]), torch.tensor([[0], [2]]))"
   ]
  },
  {
   "cell_type": "code",
   "execution_count": 376,
   "id": "979ab70a",
   "metadata": {},
   "outputs": [
    {
     "data": {
      "text/plain": [
       "(tensor([[-0.8920, -1.5091,  0.3704],\n",
       "         [ 1.4565,  0.9398,  0.7748],\n",
       "         [ 0.1919,  1.2638, -1.2904]]),\n",
       " tensor([[-0.8920, -1.5091,  0.3704],\n",
       "         [ 1.4565,  0.9398,  0.7748],\n",
       "         [ 0.1919,  1.2638, -1.2904]]),\n",
       " tensor([[-4.4600, -7.5455,  1.8520],\n",
       "         [ 7.2825,  4.6990,  3.8742],\n",
       "         [ 0.9593,  6.3190, -6.4522]]))"
      ]
     },
     "execution_count": 376,
     "metadata": {},
     "output_type": "execute_result"
    }
   ],
   "source": [
    "x = torch.randn((3, 3))\n",
    "y = x * 1.0\n",
    "z = x * 5.0\n",
    "x, y, z"
   ]
  },
  {
   "cell_type": "code",
   "execution_count": 377,
   "id": "e450e78e",
   "metadata": {},
   "outputs": [
    {
     "data": {
      "text/plain": [
       "(tensor([[True, True, True],\n",
       "         [True, True, True],\n",
       "         [True, True, True]]),\n",
       " tensor([[False, False, False],\n",
       "         [False, False, False],\n",
       "         [False, False, False]]))"
      ]
     },
     "execution_count": 377,
     "metadata": {},
     "output_type": "execute_result"
    }
   ],
   "source": [
    "torch.eq(x, y), torch.eq(x, z)"
   ]
  },
  {
   "cell_type": "code",
   "execution_count": 378,
   "id": "b32ac2d4",
   "metadata": {},
   "outputs": [
    {
     "data": {
      "text/plain": [
       "(tensor([[False, False, False],\n",
       "         [False, False, False],\n",
       "         [False, False, False]]),\n",
       " tensor([[False, False,  True],\n",
       "         [ True,  True,  True],\n",
       "         [ True,  True, False]]))"
      ]
     },
     "execution_count": 378,
     "metadata": {},
     "output_type": "execute_result"
    }
   ],
   "source": [
    "torch.gt(x, y), torch.gt(z, x)"
   ]
  },
  {
   "cell_type": "code",
   "execution_count": 379,
   "id": "77bfc7e3",
   "metadata": {},
   "outputs": [
    {
     "data": {
      "text/plain": [
       "tensor([-0.7911, -0.0209, -0.7185])"
      ]
     },
     "execution_count": 379,
     "metadata": {},
     "output_type": "execute_result"
    }
   ],
   "source": [
    "w = torch.randn(3)\n",
    "w"
   ]
  },
  {
   "cell_type": "code",
   "execution_count": 380,
   "id": "baff1cae",
   "metadata": {},
   "outputs": [
    {
     "data": {
      "text/plain": [
       "(tensor([[-4.4600, -7.5455,  1.8520],\n",
       "         [ 7.2825,  4.6990,  3.8742],\n",
       "         [ 0.9593,  6.3190, -6.4522]]),\n",
       " tensor([-0.7911, -0.0209, -0.7185]),\n",
       " tensor([[False, False,  True],\n",
       "         [ True,  True,  True],\n",
       "         [ True,  True, False]]))"
      ]
     },
     "execution_count": 380,
     "metadata": {},
     "output_type": "execute_result"
    }
   ],
   "source": [
    "z, w, torch.greater(z, w)"
   ]
  },
  {
   "cell_type": "code",
   "execution_count": 381,
   "id": "1ebfb6a1",
   "metadata": {},
   "outputs": [
    {
     "data": {
      "text/plain": [
       "(tensor([[-4.4600, -7.5455,  1.8520],\n",
       "         [ 7.2825,  4.6990,  3.8742],\n",
       "         [ 0.9593,  6.3190, -6.4522]]),\n",
       " tensor([-0.7911, -0.0209, -0.7185]),\n",
       " tensor([[ True,  True, False],\n",
       "         [False, False, False],\n",
       "         [False, False,  True]]),\n",
       " tensor(True))"
      ]
     },
     "execution_count": 381,
     "metadata": {},
     "output_type": "execute_result"
    }
   ],
   "source": [
    "z, w, torch.less(z, w), torch.all(torch.less(z, w) ==  (z < w))"
   ]
  },
  {
   "cell_type": "code",
   "execution_count": 382,
   "id": "f1e3999c",
   "metadata": {},
   "outputs": [
    {
     "data": {
      "text/plain": [
       "(tensor([[-4.4600, -7.5455,  1.8520],\n",
       "         [ 7.2825,  4.6990,  3.8742],\n",
       "         [ 0.9593,  6.3190, -6.4522]]),\n",
       " tensor([-0.7911, -0.0209, -0.7185]),\n",
       " tensor([[False, False,  True],\n",
       "         [ True,  True,  True],\n",
       "         [ True,  True, False]]))"
      ]
     },
     "execution_count": 382,
     "metadata": {},
     "output_type": "execute_result"
    }
   ],
   "source": [
    "z, w, torch.greater_equal(z, w)"
   ]
  },
  {
   "cell_type": "code",
   "execution_count": 383,
   "id": "0b4ce564",
   "metadata": {},
   "outputs": [
    {
     "data": {
      "text/plain": [
       "(tensor([[-4.4600, -7.5455,  1.8520],\n",
       "         [ 7.2825,  4.6990,  3.8742],\n",
       "         [ 0.9593,  6.3190, -6.4522]]),\n",
       " tensor([[ 0.5186, -1.3125,  0.1920]]),\n",
       " tensor([[False, False,  True],\n",
       "         [ True,  True,  True],\n",
       "         [ True,  True, False]]),\n",
       " tensor([[False, False,  True],\n",
       "         [ True,  True,  True],\n",
       "         [ True,  True, False]]))"
      ]
     },
     "execution_count": 383,
     "metadata": {},
     "output_type": "execute_result"
    }
   ],
   "source": [
    "u = torch.randn((1, 3))\n",
    "z, u, torch.greater(z, u), torch.gt(z, u)"
   ]
  },
  {
   "cell_type": "code",
   "execution_count": 384,
   "id": "dd2eb55e",
   "metadata": {},
   "outputs": [
    {
     "data": {
      "text/plain": [
       "(tensor([[-4.4600, -7.5455,  1.8520],\n",
       "         [ 7.2825,  4.6990,  3.8742],\n",
       "         [ 0.9593,  6.3190, -6.4522]]),\n",
       " tensor([[ 0.5428],\n",
       "         [-2.2188],\n",
       "         [ 0.2590]]),\n",
       " tensor([[False, False,  True],\n",
       "         [ True,  True,  True],\n",
       "         [ True,  True, False]]))"
      ]
     },
     "execution_count": 384,
     "metadata": {},
     "output_type": "execute_result"
    }
   ],
   "source": [
    "u = torch.randn((3, 1))\n",
    "z, u, torch.greater(z, u)"
   ]
  },
  {
   "cell_type": "code",
   "execution_count": 385,
   "id": "6ca3af1d",
   "metadata": {},
   "outputs": [
    {
     "data": {
      "text/plain": [
       "(tensor([[-1.0297, -7.5455,  1.8520],\n",
       "         [ 7.2825,  4.6990,  3.8742],\n",
       "         [ 0.9593,  6.3190, -6.4522]]),\n",
       " tensor([[-1.0297],\n",
       "         [-0.5008],\n",
       "         [ 0.2734]]),\n",
       " tensor([[ True,  True, False],\n",
       "         [False, False, False],\n",
       "         [False, False,  True]]),\n",
       " tensor([[ True,  True, False],\n",
       "         [False, False, False],\n",
       "         [False, False,  True]]),\n",
       " tensor([[False,  True, False],\n",
       "         [False, False, False],\n",
       "         [False, False,  True]]),\n",
       " tensor([[False,  True, False],\n",
       "         [False, False, False],\n",
       "         [False, False,  True]]))"
      ]
     },
     "execution_count": 385,
     "metadata": {},
     "output_type": "execute_result"
    }
   ],
   "source": [
    "u = torch.randn((3, 1))\n",
    "z[0][0] = u[0][0]\n",
    "z, u, torch.le(z, u), torch.less_equal(z, u), torch.less(z, u), torch.lt(z, u)"
   ]
  },
  {
   "cell_type": "code",
   "execution_count": 386,
   "id": "ca9b7a2e",
   "metadata": {},
   "outputs": [
    {
     "data": {
      "text/plain": [
       "(tensor([[-1.0297, -7.5455,  1.8520],\n",
       "         [ 7.2825,  4.6990,  3.8742],\n",
       "         [ 0.9593,  6.3190, -6.4522]]),\n",
       " tensor([[-1.0297],\n",
       "         [-0.5008],\n",
       "         [ 0.2734]]),\n",
       " tensor([[-1.0297, -1.0297,  1.8520],\n",
       "         [ 7.2825,  4.6990,  3.8742],\n",
       "         [ 0.9593,  6.3190,  0.2734]]))"
      ]
     },
     "execution_count": 386,
     "metadata": {},
     "output_type": "execute_result"
    }
   ],
   "source": [
    "z, u, torch.maximum(u, z)"
   ]
  },
  {
   "cell_type": "code",
   "execution_count": 387,
   "id": "742fbf92",
   "metadata": {},
   "outputs": [
    {
     "data": {
      "text/plain": [
       "(tensor([[ True, False, False],\n",
       "         [False, False, False],\n",
       "         [False, False, False]]),\n",
       " False)"
      ]
     },
     "execution_count": 387,
     "metadata": {},
     "output_type": "execute_result"
    }
   ],
   "source": [
    "torch.eq(z, u), torch.equal(z, u)"
   ]
  },
  {
   "cell_type": "code",
   "execution_count": 388,
   "id": "f5d9a9ad",
   "metadata": {},
   "outputs": [
    {
     "data": {
      "text/plain": [
       "(tensor([[-1.0297],\n",
       "         [-0.5008],\n",
       "         [ 0.2734]]),\n",
       " tensor([[False],\n",
       "         [ True],\n",
       "         [False]]))"
      ]
     },
     "execution_count": 388,
     "metadata": {},
     "output_type": "execute_result"
    }
   ],
   "source": [
    "u, torch.isclose(u, u + torch.tensor([[1], [1.e-10], [2]]))"
   ]
  },
  {
   "cell_type": "code",
   "execution_count": 389,
   "id": "cbef61a0",
   "metadata": {},
   "outputs": [
    {
     "data": {
      "text/plain": [
       "tensor([ True, False, False])"
      ]
     },
     "execution_count": 389,
     "metadata": {},
     "output_type": "execute_result"
    }
   ],
   "source": [
    "torch.isfinite(torch.tensor([1.0, float('inf'), torch.nan]))"
   ]
  },
  {
   "cell_type": "code",
   "execution_count": 390,
   "id": "e496c4b8",
   "metadata": {},
   "outputs": [
    {
     "data": {
      "text/plain": [
       "tensor([False,  True, False])"
      ]
     },
     "execution_count": 390,
     "metadata": {},
     "output_type": "execute_result"
    }
   ],
   "source": [
    "torch.isinf(torch.tensor([1.0, float('inf'), torch.nan]))"
   ]
  },
  {
   "cell_type": "code",
   "execution_count": 391,
   "id": "b2d54fd8",
   "metadata": {},
   "outputs": [
    {
     "data": {
      "text/plain": [
       "tensor([False, False,  True])"
      ]
     },
     "execution_count": 391,
     "metadata": {},
     "output_type": "execute_result"
    }
   ],
   "source": [
    "torch.isnan(torch.tensor([1.0, float('inf'), torch.nan]))"
   ]
  },
  {
   "cell_type": "code",
   "execution_count": 392,
   "id": "533aa729",
   "metadata": {},
   "outputs": [
    {
     "data": {
      "text/plain": [
       "tensor([[False,  True],\n",
       "        [ True, False]])"
      ]
     },
     "execution_count": 392,
     "metadata": {},
     "output_type": "execute_result"
    }
   ],
   "source": [
    "torch.isin(torch.tensor([[1, 2], \n",
    "                         [3, 4]]\n",
    "                        ), \n",
    "           torch.tensor([2, 3]))"
   ]
  },
  {
   "cell_type": "code",
   "execution_count": 393,
   "id": "5829c19e",
   "metadata": {},
   "outputs": [
    {
     "data": {
      "text/plain": [
       "tensor([[False,  True],\n",
       "        [ True, False]])"
      ]
     },
     "execution_count": 393,
     "metadata": {},
     "output_type": "execute_result"
    }
   ],
   "source": [
    "torch.isin(torch.tensor([[1, 2], [3, 4]]), torch.tensor([[2], [3]]))"
   ]
  },
  {
   "cell_type": "code",
   "execution_count": 394,
   "id": "98cd40d0",
   "metadata": {},
   "outputs": [
    {
     "data": {
      "text/plain": [
       "(tensor([[[44, 39],\n",
       "          [33, 60],\n",
       "          [63, 79],\n",
       "          [27,  3],\n",
       "          [97, 83]],\n",
       " \n",
       "         [[ 1, 66],\n",
       "          [56, 99],\n",
       "          [78, 76],\n",
       "          [56, 68],\n",
       "          [94, 33]],\n",
       " \n",
       "         [[26, 19],\n",
       "          [91, 54],\n",
       "          [24, 41],\n",
       "          [69, 69],\n",
       "          [49, 80]],\n",
       " \n",
       "         [[81, 12],\n",
       "          [63, 60],\n",
       "          [95, 85],\n",
       "          [22, 99],\n",
       "          [11, 88]]]),\n",
       " tensor([[38],\n",
       "         [39],\n",
       "         [52],\n",
       "         [61],\n",
       "         [55]]),\n",
       " tensor([[[False,  True],\n",
       "          [False, False],\n",
       "          [False, False],\n",
       "          [False, False],\n",
       "          [False, False]],\n",
       " \n",
       "         [[False, False],\n",
       "          [False, False],\n",
       "          [False, False],\n",
       "          [False, False],\n",
       "          [False, False]],\n",
       " \n",
       "         [[False, False],\n",
       "          [False, False],\n",
       "          [False, False],\n",
       "          [False, False],\n",
       "          [False, False]],\n",
       " \n",
       "         [[False, False],\n",
       "          [False, False],\n",
       "          [False, False],\n",
       "          [False, False],\n",
       "          [False, False]]]))"
      ]
     },
     "execution_count": 394,
     "metadata": {},
     "output_type": "execute_result"
    }
   ],
   "source": [
    "torch.manual_seed(0)\n",
    "x = torch.randint(0, 100, (4, 5, 2))\n",
    "y = torch.randint(36, 72, (5, 1))\n",
    "x, y, torch.isin(x, y)"
   ]
  },
  {
   "cell_type": "code",
   "execution_count": 395,
   "id": "6b748d51",
   "metadata": {},
   "outputs": [
    {
     "name": "stderr",
     "output_type": "stream",
     "text": [
      "/tmp/ipykernel_11384/1689219387.py:1: UserWarning: ComplexHalf support is experimental and many operators don't support it yet. (Triggered internally at ../aten/src/ATen/EmptyTensor.cpp:31.)\n",
      "  torch.isreal(torch.tensor([1.0, 3*j], dtype=torch.complex32))\n"
     ]
    },
    {
     "data": {
      "text/plain": [
       "tensor([True, True])"
      ]
     },
     "execution_count": 395,
     "metadata": {},
     "output_type": "execute_result"
    }
   ],
   "source": [
    "torch.isreal(torch.tensor([1.0, 3*j], dtype=torch.complex32))"
   ]
  },
  {
   "cell_type": "code",
   "execution_count": 396,
   "id": "2b48269b",
   "metadata": {},
   "outputs": [
    {
     "data": {
      "text/plain": [
       "(tensor([[-0.6787,  0.9383,  0.4889, -0.6731,  0.8728,  1.0554,  0.1778, -0.2303,\n",
       "          -0.3067, -1.5810],\n",
       "         [ 1.7066, -0.4462,  0.7440,  1.5210,  3.4105, -1.5312,  1.5419,  0.5073,\n",
       "          -0.5910, -0.5692],\n",
       "         [ 0.9200,  1.1108,  1.2899, -1.4782, -0.1938,  0.4455,  1.3253, -1.6293,\n",
       "          -0.5497, -0.4798],\n",
       "         [-0.4997, -1.0670, -0.3170, -1.0925, -0.4372,  1.6459, -1.3602,  0.3446,\n",
       "           0.5199, -2.6133],\n",
       "         [-1.6965, -0.2282,  0.4418,  0.2469,  0.0769,  0.3380,  0.4544,  0.4569,\n",
       "          -0.8654,  0.7813]]),\n",
       " torch.return_types.topk(\n",
       " values=tensor([[1.0554, 0.9383],\n",
       "         [3.4105, 1.7066],\n",
       "         [1.3253, 1.2899],\n",
       "         [1.6459, 0.5199],\n",
       "         [0.7813, 0.4569]]),\n",
       " indices=tensor([[5, 1],\n",
       "         [4, 0],\n",
       "         [6, 2],\n",
       "         [5, 8],\n",
       "         [9, 7]])))"
      ]
     },
     "execution_count": 396,
     "metadata": {},
     "output_type": "execute_result"
    }
   ],
   "source": [
    "x = torch.randn((5, 10))\n",
    "x, torch.topk(x, 2, dim=1)"
   ]
  },
  {
   "cell_type": "code",
   "execution_count": 397,
   "id": "7be31df7",
   "metadata": {},
   "outputs": [
    {
     "data": {
      "text/plain": [
       "(tensor([[-1.3120, -0.2188, -2.4351, -0.0729, -0.0340,  0.9625,  0.3492, -0.9215,\n",
       "          -1.2103, -0.6227],\n",
       "         [-0.4637,  1.9218, -0.4025,  0.1239,  1.1648,  0.9234, -0.7300, -0.8834,\n",
       "          -0.4189, -0.8048],\n",
       "         [ 0.5656,  0.6104,  0.4669,  1.9507,  0.2443, -0.0773,  0.1164, -0.5940,\n",
       "          -1.2439, -0.1021],\n",
       "         [-1.0335, -0.3126,  0.9851, -0.2596, -0.9911,  0.3016, -0.1073,  0.9985,\n",
       "          -0.4987,  0.7611],\n",
       "         [ 0.6183, -0.2994,  0.2133, -0.1201,  0.3605, -0.3140, -1.0787,  0.2408,\n",
       "          -1.3962,  0.1136]]),\n",
       " torch.return_types.topk(\n",
       " values=tensor([[ 0.6183,  1.9218,  0.9851,  1.9507,  1.1648,  0.9625,  0.3492,  0.9985,\n",
       "          -0.4189,  0.7611],\n",
       "         [ 0.5656,  0.6104,  0.4669,  0.1239,  0.3605,  0.9234,  0.1164,  0.2408,\n",
       "          -0.4987,  0.1136]]),\n",
       " indices=tensor([[4, 1, 3, 2, 1, 0, 0, 3, 1, 3],\n",
       "         [2, 2, 2, 1, 4, 1, 2, 4, 3, 4]])))"
      ]
     },
     "execution_count": 397,
     "metadata": {},
     "output_type": "execute_result"
    }
   ],
   "source": [
    "x = torch.randn((5, 10))\n",
    "x, torch.topk(x, 2, dim=0)"
   ]
  },
  {
   "cell_type": "code",
   "execution_count": 398,
   "id": "b77e7620",
   "metadata": {},
   "outputs": [
    {
     "data": {
      "text/plain": [
       "(tensor(-0.0993), tensor(0.7175))"
      ]
     },
     "execution_count": 398,
     "metadata": {},
     "output_type": "execute_result"
    }
   ],
   "source": [
    "torch.mean(x), torch.var(x)"
   ]
  },
  {
   "cell_type": "code",
   "execution_count": 399,
   "id": "6d665bd0",
   "metadata": {},
   "outputs": [
    {
     "data": {
      "text/plain": [
       "(torch.return_types.sort(\n",
       " values=tensor([[-2.4351, -1.3120, -1.2103, -0.9215, -0.6227, -0.2188, -0.0729, -0.0340,\n",
       "           0.3492,  0.9625],\n",
       "         [-0.8834, -0.8048, -0.7300, -0.4637, -0.4189, -0.4025,  0.1239,  0.9234,\n",
       "           1.1648,  1.9218],\n",
       "         [-1.2439, -0.5940, -0.1021, -0.0773,  0.1164,  0.2443,  0.4669,  0.5656,\n",
       "           0.6104,  1.9507],\n",
       "         [-1.0335, -0.9911, -0.4987, -0.3126, -0.2596, -0.1073,  0.3016,  0.7611,\n",
       "           0.9851,  0.9985],\n",
       "         [-1.3962, -1.0787, -0.3140, -0.2994, -0.1201,  0.1136,  0.2133,  0.2408,\n",
       "           0.3605,  0.6183]]),\n",
       " indices=tensor([[2, 0, 8, 7, 9, 1, 3, 4, 6, 5],\n",
       "         [7, 9, 6, 0, 8, 2, 3, 5, 4, 1],\n",
       "         [8, 7, 9, 5, 6, 4, 2, 0, 1, 3],\n",
       "         [0, 4, 8, 1, 3, 6, 5, 9, 2, 7],\n",
       "         [8, 6, 5, 1, 3, 9, 2, 7, 4, 0]])),\n",
       " torch.return_types.kthvalue(\n",
       " values=tensor([-1.3120, -0.8048, -0.5940, -0.9911, -1.0787]),\n",
       " indices=tensor([0, 9, 7, 4, 6])))"
      ]
     },
     "execution_count": 399,
     "metadata": {},
     "output_type": "execute_result"
    }
   ],
   "source": [
    "torch.sort(x),torch.kthvalue(x, 2, dim=-1, ) # smallest kth value"
   ]
  },
  {
   "cell_type": "code",
   "execution_count": 400,
   "id": "b8ac4d97",
   "metadata": {},
   "outputs": [
    {
     "data": {
      "text/plain": [
       "(tensor([[-1.3120, -0.2188, -2.4351, -0.0729, -0.0340,  0.9625,  0.3492, -0.9215,\n",
       "          -1.2103, -0.6227],\n",
       "         [-0.4637,  1.9218, -0.4025,  0.1239,  1.1648,  0.9234, -0.7300, -0.8834,\n",
       "          -0.4189, -0.8048],\n",
       "         [ 0.5656,  0.6104,  0.4669,  1.9507,  0.2443, -0.0773,  0.1164, -0.5940,\n",
       "          -1.2439, -0.1021],\n",
       "         [-1.0335, -0.3126,  0.9851, -0.2596, -0.9911,  0.3016, -0.1073,  0.9985,\n",
       "          -0.4987,  0.7611],\n",
       "         [ 0.6183, -0.2994,  0.2133, -0.1201,  0.3605, -0.3140, -1.0787,  0.2408,\n",
       "          -1.3962,  0.1136]]),\n",
       " torch.return_types.sort(\n",
       " values=tensor([[ 0.9625,  0.3492, -0.0340, -0.0729, -0.2188, -0.6227, -0.9215, -1.2103,\n",
       "          -1.3120, -2.4351],\n",
       "         [ 1.9218,  1.1648,  0.9234,  0.1239, -0.4025, -0.4189, -0.4637, -0.7300,\n",
       "          -0.8048, -0.8834],\n",
       "         [ 1.9507,  0.6104,  0.5656,  0.4669,  0.2443,  0.1164, -0.0773, -0.1021,\n",
       "          -0.5940, -1.2439],\n",
       "         [ 0.9985,  0.9851,  0.7611,  0.3016, -0.1073, -0.2596, -0.3126, -0.4987,\n",
       "          -0.9911, -1.0335],\n",
       "         [ 0.6183,  0.3605,  0.2408,  0.2133,  0.1136, -0.1201, -0.2994, -0.3140,\n",
       "          -1.0787, -1.3962]]),\n",
       " indices=tensor([[5, 6, 4, 3, 1, 9, 7, 8, 0, 2],\n",
       "         [1, 4, 5, 3, 2, 8, 0, 6, 9, 7],\n",
       "         [3, 1, 0, 2, 4, 6, 5, 9, 7, 8],\n",
       "         [7, 2, 9, 5, 6, 3, 1, 8, 4, 0],\n",
       "         [0, 4, 7, 2, 9, 3, 1, 5, 6, 8]])))"
      ]
     },
     "execution_count": 400,
     "metadata": {},
     "output_type": "execute_result"
    }
   ],
   "source": [
    "x, torch.sort(x, descending=True)"
   ]
  },
  {
   "cell_type": "code",
   "execution_count": 401,
   "id": "0fc6c07e",
   "metadata": {},
   "outputs": [
    {
     "data": {
      "text/plain": [
       "torch.return_types.sort(\n",
       "values=tensor([[-2.4351, -1.3120, -1.2103, -0.9215, -0.6227, -0.2188, -0.0729, -0.0340,\n",
       "          0.3492,  0.9625],\n",
       "        [-0.8834, -0.8048, -0.7300, -0.4637, -0.4189, -0.4025,  0.1239,  0.9234,\n",
       "          1.1648,  1.9218],\n",
       "        [-1.2439, -0.5940, -0.1021, -0.0773,  0.1164,  0.2443,  0.4669,  0.5656,\n",
       "          0.6104,  1.9507],\n",
       "        [-1.0335, -0.9911, -0.4987, -0.3126, -0.2596, -0.1073,  0.3016,  0.7611,\n",
       "          0.9851,  0.9985],\n",
       "        [-1.3962, -1.0787, -0.3140, -0.2994, -0.1201,  0.1136,  0.2133,  0.2408,\n",
       "          0.3605,  0.6183]]),\n",
       "indices=tensor([[2, 0, 8, 7, 9, 1, 3, 4, 6, 5],\n",
       "        [7, 9, 6, 0, 8, 2, 3, 5, 4, 1],\n",
       "        [8, 7, 9, 5, 6, 4, 2, 0, 1, 3],\n",
       "        [0, 4, 8, 1, 3, 6, 5, 9, 2, 7],\n",
       "        [8, 6, 5, 1, 3, 9, 2, 7, 4, 0]]))"
      ]
     },
     "execution_count": 401,
     "metadata": {},
     "output_type": "execute_result"
    }
   ],
   "source": [
    "torch.sort(x, descending=False)"
   ]
  },
  {
   "cell_type": "code",
   "execution_count": 402,
   "id": "a8788496",
   "metadata": {},
   "outputs": [
    {
     "data": {
      "text/plain": [
       "tensor([9.7000, 0.5000, 3.1000,    nan])"
      ]
     },
     "execution_count": 402,
     "metadata": {},
     "output_type": "execute_result"
    }
   ],
   "source": [
    "a = torch.tensor([9.7, float('nan'), 3.1, float('nan')])\n",
    "b = torch.tensor([-2.2, 0.5, float('nan'), float('nan')])\n",
    "torch.fmax(a, b)"
   ]
  },
  {
   "cell_type": "code",
   "execution_count": 403,
   "id": "a4414612",
   "metadata": {},
   "outputs": [
    {
     "data": {
      "text/plain": [
       "tensor([-2.2000,  0.5000,  3.1000,     nan])"
      ]
     },
     "execution_count": 403,
     "metadata": {},
     "output_type": "execute_result"
    }
   ],
   "source": [
    "a = torch.tensor([9.7, float('nan'), 3.1, float('nan')])\n",
    "b = torch.tensor([-2.2, 0.5, float('nan'), float('nan')])\n",
    "torch.fmin(a, b)"
   ]
  },
  {
   "cell_type": "code",
   "execution_count": 404,
   "id": "26873081",
   "metadata": {},
   "outputs": [
    {
     "data": {
      "text/plain": [
       "<torch._C.Generator at 0x7f180e9fe870>"
      ]
     },
     "execution_count": 404,
     "metadata": {},
     "output_type": "execute_result"
    }
   ],
   "source": [
    "torch.manual_seed(15)"
   ]
  },
  {
   "cell_type": "code",
   "execution_count": 405,
   "id": "4ee5eede",
   "metadata": {},
   "outputs": [
    {
     "data": {
      "text/plain": [
       "15"
      ]
     },
     "execution_count": 405,
     "metadata": {},
     "output_type": "execute_result"
    }
   ],
   "source": [
    "torch.initial_seed()"
   ]
  },
  {
   "cell_type": "code",
   "execution_count": 406,
   "id": "27437632",
   "metadata": {},
   "outputs": [],
   "source": [
    "torch.set_rng_state(torch.manual_seed(10).get_state())"
   ]
  },
  {
   "cell_type": "code",
   "execution_count": 407,
   "id": "2a3f4147",
   "metadata": {},
   "outputs": [
    {
     "data": {
      "text/plain": [
       "tensor([10,  0,  0,  ...,  0,  0,  0], dtype=torch.uint8)"
      ]
     },
     "execution_count": 407,
     "metadata": {},
     "output_type": "execute_result"
    }
   ],
   "source": [
    "torch.get_rng_state()"
   ]
  },
  {
   "cell_type": "code",
   "execution_count": 408,
   "id": "6d558244",
   "metadata": {},
   "outputs": [
    {
     "data": {
      "text/plain": [
       "torch.Size([5056])"
      ]
     },
     "execution_count": 408,
     "metadata": {},
     "output_type": "execute_result"
    }
   ],
   "source": [
    "torch.get_rng_state().shape"
   ]
  },
  {
   "cell_type": "code",
   "execution_count": 409,
   "id": "3d6157de",
   "metadata": {},
   "outputs": [
    {
     "data": {
      "text/plain": [
       "tensor([0., 1., 0., 1., 0., 0., 1., 1., 1., 0.])"
      ]
     },
     "execution_count": 409,
     "metadata": {},
     "output_type": "execute_result"
    }
   ],
   "source": [
    "x = torch.bernoulli(torch.empty((10, )).uniform_(0., 1.))\n",
    "x"
   ]
  },
  {
   "cell_type": "code",
   "execution_count": 410,
   "id": "3d891148",
   "metadata": {},
   "outputs": [
    {
     "data": {
      "text/plain": [
       "(tensor([[0.0000e+00, 0.0000e+00, 0.0000e+00, 0.0000e+00, 0.0000e+00, 0.0000e+00,\n",
       "          0.0000e+00, 0.0000e+00, 0.0000e+00, 1.0000e+00],\n",
       "         [1.3114e-01, 1.4448e-01, 1.1519e-01, 7.2451e-02, 9.4196e-02, 0.0000e+00,\n",
       "          1.9251e-01, 0.0000e+00, 1.8448e-01, 6.5550e-02],\n",
       "         [3.2687e-01, 3.3312e-01, 0.0000e+00, 0.0000e+00, 6.2837e-02, 0.0000e+00,\n",
       "          6.5319e-02, 2.1185e-01, 0.0000e+00, 0.0000e+00],\n",
       "         [0.0000e+00, 2.8622e-01, 0.0000e+00, 5.6685e-02, 0.0000e+00, 1.6846e-01,\n",
       "          9.9556e-04, 0.0000e+00, 2.1693e-01, 2.7071e-01],\n",
       "         [0.0000e+00, 0.0000e+00, 3.0034e-02, 1.1351e-01, 8.2245e-02, 3.3287e-01,\n",
       "          1.6176e-01, 0.0000e+00, 0.0000e+00, 2.7958e-01],\n",
       "         [6.0583e-01, 0.0000e+00, 0.0000e+00, 2.2125e-01, 0.0000e+00, 0.0000e+00,\n",
       "          0.0000e+00, 1.7293e-01, 0.0000e+00, 0.0000e+00]]),\n",
       " tensor([[9, 5, 8, 7, 6, 3],\n",
       "         [8, 2, 4, 1, 3, 0],\n",
       "         [1, 0, 7, 4, 6, 8],\n",
       "         [9, 1, 5, 8, 3, 6],\n",
       "         [6, 3, 2, 5, 4, 9],\n",
       "         [0, 3, 7, 9, 8, 5]]))"
      ]
     },
     "execution_count": 410,
     "metadata": {},
     "output_type": "execute_result"
    }
   ],
   "source": [
    "x = torch.empty((6, 10)).uniform_(-1., 1.).clip(min=0)\n",
    "x /= x.sum(axis=1).reshape(-1, 1)\n",
    "y = torch.multinomial(x, 6)\n",
    "x, y"
   ]
  },
  {
   "cell_type": "code",
   "execution_count": 411,
   "id": "30978b0f",
   "metadata": {},
   "outputs": [
    {
     "data": {
      "text/plain": [
       "(tensor([[0.0000, 0.2003, 0.0239, 0.3631, 0.0000, 0.0000, 0.4127, 0.0000, 0.0000,\n",
       "          0.0000],\n",
       "         [0.4556, 0.2521, 0.0000, 0.0000, 0.1452, 0.0000, 0.1470, 0.0000, 0.0000,\n",
       "          0.0000],\n",
       "         [0.1697, 0.2461, 0.0639, 0.0000, 0.1511, 0.1126, 0.1233, 0.0000, 0.0000,\n",
       "          0.1334],\n",
       "         [0.1277, 0.2054, 0.0000, 0.1942, 0.0000, 0.0000, 0.0000, 0.0000, 0.2085,\n",
       "          0.2642],\n",
       "         [0.2733, 0.0000, 0.0000, 0.5444, 0.0000, 0.0000, 0.1823, 0.0000, 0.0000,\n",
       "          0.0000],\n",
       "         [0.0077, 0.0000, 0.0000, 0.0000, 0.0000, 0.2648, 0.7275, 0.0000, 0.0000,\n",
       "          0.0000]]),\n",
       " tensor([[6, 1, 3, 6, 1, 3, 6, 6, 6, 3, 6, 3, 3, 6, 1, 6, 6, 3, 2, 6],\n",
       "         [0, 6, 4, 1, 1, 1, 6, 0, 0, 0, 0, 0, 1, 0, 4, 6, 0, 0, 0, 4],\n",
       "         [5, 6, 1, 4, 1, 6, 0, 2, 6, 9, 9, 0, 0, 0, 9, 4, 0, 6, 4, 4],\n",
       "         [9, 3, 9, 9, 1, 1, 9, 3, 1, 0, 0, 9, 9, 8, 9, 9, 0, 0, 3, 3],\n",
       "         [0, 3, 3, 6, 3, 0, 3, 0, 6, 3, 0, 3, 3, 0, 3, 3, 0, 6, 0, 0],\n",
       "         [5, 6, 5, 5, 6, 6, 6, 6, 6, 6, 5, 5, 6, 6, 6, 6, 6, 5, 6, 6]]))"
      ]
     },
     "execution_count": 411,
     "metadata": {},
     "output_type": "execute_result"
    }
   ],
   "source": [
    "x = torch.empty((6, 10)).uniform_(-1., 1.).clip(min=0)\n",
    "x /= x.sum(axis=1).reshape(-1, 1)\n",
    "y = torch.multinomial(x, 20, replacement=True)\n",
    "x, y"
   ]
  },
  {
   "cell_type": "code",
   "execution_count": 412,
   "id": "cffda130",
   "metadata": {},
   "outputs": [
    {
     "data": {
      "text/plain": [
       "(tensor([[0.0000, 0.0000, 0.0000, 0.2185, 0.2117, 0.2086, 0.0000, 0.3613, 0.0000,\n",
       "          0.0000],\n",
       "         [0.0000, 0.2056, 0.0418, 0.1199, 0.0000, 0.2306, 0.0000, 0.2363, 0.1658,\n",
       "          0.0000],\n",
       "         [0.0000, 0.2677, 0.1551, 0.1353, 0.0000, 0.0000, 0.0721, 0.0000, 0.1375,\n",
       "          0.2323],\n",
       "         [0.1509, 0.0000, 0.0000, 0.0108, 0.0879, 0.3452, 0.0000, 0.3466, 0.0000,\n",
       "          0.0587],\n",
       "         [0.8556, 0.0000, 0.0000, 0.0000, 0.0000, 0.0000, 0.0000, 0.1444, 0.0000,\n",
       "          0.0000],\n",
       "         [0.0000, 0.0000, 0.0000, 0.0784, 0.0000, 0.0000, 0.3180, 0.1439, 0.1148,\n",
       "          0.3450]]),\n",
       " tensor([[7, 4, 7, 5, 5, 4],\n",
       "         [1, 1, 5, 7, 8, 5],\n",
       "         [8, 3, 3, 1, 9, 9],\n",
       "         [7, 7, 5, 0, 5, 9],\n",
       "         [0, 0, 7, 0, 0, 0],\n",
       "         [9, 8, 7, 8, 6, 6]]))"
      ]
     },
     "execution_count": 412,
     "metadata": {},
     "output_type": "execute_result"
    }
   ],
   "source": [
    "x = torch.empty((6, 10)).uniform_(-1., 1.).clip(min=0)\n",
    "x /= x.sum(axis=1).reshape(-1, 1)\n",
    "y = torch.multinomial(x, 6, replacement=True)\n",
    "x, y"
   ]
  },
  {
   "cell_type": "code",
   "execution_count": 413,
   "id": "4bfc77ef",
   "metadata": {},
   "outputs": [
    {
     "data": {
      "text/plain": [
       "(tensor([[0.0000e+00, 3.1722e-01, 3.4761e-01, 0.0000e+00, 2.2883e-01, 0.0000e+00,\n",
       "          1.0633e-01, 0.0000e+00, 0.0000e+00, 0.0000e+00],\n",
       "         [2.1744e-02, 0.0000e+00, 0.0000e+00, 5.6924e-02, 0.0000e+00, 0.0000e+00,\n",
       "          4.1203e-01, 0.0000e+00, 0.0000e+00, 5.0930e-01],\n",
       "         [1.4849e-01, 1.9427e-01, 0.0000e+00, 1.6195e-01, 0.0000e+00, 2.2848e-01,\n",
       "          1.3260e-01, 1.3328e-01, 9.3384e-04, 0.0000e+00],\n",
       "         [0.0000e+00, 0.0000e+00, 0.0000e+00, 1.0000e+00, 0.0000e+00, 0.0000e+00,\n",
       "          0.0000e+00, 0.0000e+00, 0.0000e+00, 0.0000e+00],\n",
       "         [0.0000e+00, 0.0000e+00, 0.0000e+00, 0.0000e+00, 2.3839e-01, 0.0000e+00,\n",
       "          7.6161e-01, 0.0000e+00, 0.0000e+00, 0.0000e+00],\n",
       "         [4.2518e-02, 3.2778e-01, 0.0000e+00, 2.6690e-01, 0.0000e+00, 0.0000e+00,\n",
       "          0.0000e+00, 0.0000e+00, 1.9345e-01, 1.6934e-01]]),\n",
       " tensor([[2, 4, 6, 1, 0, 8],\n",
       "         [9, 6, 3, 0, 8, 5],\n",
       "         [1, 5, 0, 6, 3, 7],\n",
       "         [3, 6, 5, 7, 8, 9],\n",
       "         [6, 4, 7, 5, 8, 9],\n",
       "         [1, 3, 9, 8, 0, 6]]))"
      ]
     },
     "execution_count": 413,
     "metadata": {},
     "output_type": "execute_result"
    }
   ],
   "source": [
    "x = torch.empty((6, 10)).uniform_(-1., 1.).clip(min=0)\n",
    "x /= x.sum(axis=1).reshape(-1, 1)\n",
    "y = torch.multinomial(x, 6)\n",
    "x, y"
   ]
  },
  {
   "cell_type": "code",
   "execution_count": 414,
   "id": "0ef19d05",
   "metadata": {},
   "outputs": [
    {
     "data": {
      "text/plain": [
       "(tensor([[0.3786, 0.6214],\n",
       "         [0.0024, 0.9976],\n",
       "         [0.0188, 0.9812],\n",
       "         [0.0040, 0.9960],\n",
       "         [0.9968, 0.0032],\n",
       "         [0.8889, 0.1111]]),\n",
       " tensor([[1],\n",
       "         [1],\n",
       "         [1],\n",
       "         [1],\n",
       "         [0],\n",
       "         [0]]))"
      ]
     },
     "execution_count": 414,
     "metadata": {},
     "output_type": "execute_result"
    }
   ],
   "source": [
    "# Bernoulli\n",
    "torch.manual_seed(10)\n",
    "x = torch.empty((6, 2)).uniform_(-10., 10.).exp()\n",
    "x /= x.sum(axis=1).reshape(-1, 1)\n",
    "y = torch.multinomial(x,1)\n",
    "x, y"
   ]
  },
  {
   "cell_type": "code",
   "execution_count": 415,
   "id": "59d33638",
   "metadata": {},
   "outputs": [
    {
     "data": {
      "text/plain": [
       "(tensor([[0.3786, 0.6214],\n",
       "         [0.0024, 0.9976],\n",
       "         [0.0188, 0.9812],\n",
       "         [0.0040, 0.9960],\n",
       "         [0.9968, 0.0032],\n",
       "         [0.8889, 0.1111]]),\n",
       " tensor([[1, 1, 0, 1, 1, 1],\n",
       "         [1, 1, 1, 1, 1, 1],\n",
       "         [1, 1, 1, 1, 1, 1],\n",
       "         [1, 1, 1, 1, 1, 1],\n",
       "         [0, 0, 0, 0, 0, 0],\n",
       "         [0, 0, 0, 0, 0, 1]]))"
      ]
     },
     "execution_count": 415,
     "metadata": {},
     "output_type": "execute_result"
    }
   ],
   "source": [
    "# Binomial\n",
    "torch.manual_seed(10)\n",
    "x = torch.empty((6, 2)).uniform_(-10., 10.).exp()\n",
    "x /= x.sum(axis=1).reshape(-1, 1)\n",
    "y = torch.multinomial(x, num_samples=6, replacement=True)\n",
    "x, y"
   ]
  },
  {
   "cell_type": "code",
   "execution_count": 416,
   "id": "ec7dfc92",
   "metadata": {},
   "outputs": [
    {
     "data": {
      "text/plain": [
       "tensor([-2.5312,  0.9218, -0.2304,  1.9977,  0.6257,  0.4458, -1.9492, -1.4291,\n",
       "         0.7388, -0.4644], dtype=torch.float64)"
      ]
     },
     "execution_count": 416,
     "metadata": {},
     "output_type": "execute_result"
    }
   ],
   "source": [
    "torch.normal(mean=torch.as_tensor(np.random.uniform(-1, 1, (10, ))), \n",
    "             std=torch.tensor([1.0,]))"
   ]
  },
  {
   "cell_type": "code",
   "execution_count": 417,
   "id": "111c4523",
   "metadata": {},
   "outputs": [
    {
     "data": {
      "text/plain": [
       "tensor([-0.9088, -0.9017, -0.9700, -1.6733, -0.6607, -0.9986,  1.4816, -1.0823,\n",
       "        -3.3556,  1.9240])"
      ]
     },
     "execution_count": 417,
     "metadata": {},
     "output_type": "execute_result"
    }
   ],
   "source": [
    "torch.randn(10)"
   ]
  },
  {
   "cell_type": "code",
   "execution_count": 418,
   "id": "1c83111b",
   "metadata": {},
   "outputs": [
    {
     "data": {
      "text/plain": [
       "tensor([1.2508, 0.3957, 1.8691, 4.3749, 6.2620, 6.3892, 6.3018, 9.6663, 9.6998])"
      ]
     },
     "execution_count": 418,
     "metadata": {},
     "output_type": "execute_result"
    }
   ],
   "source": [
    "torch.normal(torch.arange(1, 10).to(dtype=torch.float32)) # std=1"
   ]
  },
  {
   "cell_type": "code",
   "execution_count": 419,
   "id": "6faf6a26",
   "metadata": {},
   "outputs": [
    {
     "data": {
      "text/plain": [
       "tensor([[-1.4764,  5.6420,  1.3109,  1.0151,  4.1289],\n",
       "        [ 3.3669,  2.6046,  1.4301,  2.8745,  2.6706]])"
      ]
     },
     "execution_count": 419,
     "metadata": {},
     "output_type": "execute_result"
    }
   ],
   "source": [
    "torch.normal(2, 3, size=(2, 5))"
   ]
  },
  {
   "cell_type": "code",
   "execution_count": 420,
   "id": "27b81ec3",
   "metadata": {},
   "outputs": [
    {
     "data": {
      "text/plain": [
       "tensor(1.)"
      ]
     },
     "execution_count": 420,
     "metadata": {},
     "output_type": "execute_result"
    }
   ],
   "source": [
    "torch.poisson(torch.tensor(2.0))"
   ]
  },
  {
   "cell_type": "code",
   "execution_count": 421,
   "id": "00bc2888",
   "metadata": {},
   "outputs": [
    {
     "data": {
      "text/plain": [
       "tensor([0.0231, 0.6404, 0.5023, 0.8459, 0.5840, 0.1057, 0.9714, 0.0698, 0.7400,\n",
       "        0.1518])"
      ]
     },
     "execution_count": 421,
     "metadata": {},
     "output_type": "execute_result"
    }
   ],
   "source": [
    "torch.rand(10)"
   ]
  },
  {
   "cell_type": "code",
   "execution_count": 422,
   "id": "966740a4",
   "metadata": {},
   "outputs": [
    {
     "data": {
      "text/plain": [
       "tensor([0.9652, 0.9545, 0.7324, 0.5577, 0.1327, 0.1189, 0.8381, 0.0495, 0.4778,\n",
       "        0.9061])"
      ]
     },
     "execution_count": 422,
     "metadata": {},
     "output_type": "execute_result"
    }
   ],
   "source": [
    "torch.rand_like(torch.rand(10)) # uniform [0, 1])"
   ]
  },
  {
   "cell_type": "code",
   "execution_count": 423,
   "id": "9763d26f",
   "metadata": {},
   "outputs": [
    {
     "data": {
      "text/plain": [
       "tensor([[1, 1, 1, 1, 1],\n",
       "        [1, 1, 1, 1, 1],\n",
       "        [1, 1, 1, 1, 1],\n",
       "        [1, 1, 1, 1, 1]])"
      ]
     },
     "execution_count": 423,
     "metadata": {},
     "output_type": "execute_result"
    }
   ],
   "source": [
    "torch.randint(1, 2, (4, 5)) # 2 exclusive"
   ]
  },
  {
   "cell_type": "code",
   "execution_count": 424,
   "id": "de5c1c25",
   "metadata": {},
   "outputs": [
    {
     "data": {
      "text/plain": [
       "tensor([[9, 9, 5, 7, 7],\n",
       "        [4, 8, 3, 2, 6],\n",
       "        [4, 9, 9, 1, 9],\n",
       "        [5, 1, 6, 1, 6]])"
      ]
     },
     "execution_count": 424,
     "metadata": {},
     "output_type": "execute_result"
    }
   ],
   "source": [
    "torch.randint(1, 10, (4, 5)) #"
   ]
  },
  {
   "cell_type": "code",
   "execution_count": 425,
   "id": "b52aa16b",
   "metadata": {},
   "outputs": [
    {
     "data": {
      "text/plain": [
       "tensor([[1, 7, 3, 3, 6, 6, 6, 7, 4, 3],\n",
       "        [2, 8, 6, 3, 1, 5, 5, 7, 1, 6],\n",
       "        [2, 5, 9, 3, 3, 5, 8, 5, 4, 7],\n",
       "        [8, 8, 1, 9, 8, 9, 7, 6, 9, 8]])"
      ]
     },
     "execution_count": 425,
     "metadata": {},
     "output_type": "execute_result"
    }
   ],
   "source": [
    "torch.randint(1, 10, (4, 10)) #"
   ]
  },
  {
   "cell_type": "code",
   "execution_count": 426,
   "id": "e83beff7",
   "metadata": {},
   "outputs": [
    {
     "data": {
      "text/plain": [
       "tensor([ 1.2975, -0.0994, -1.2832, -0.3770, -0.0436,  0.2165, -1.0431, -0.1058,\n",
       "        -0.6530, -0.4172])"
      ]
     },
     "execution_count": 426,
     "metadata": {},
     "output_type": "execute_result"
    }
   ],
   "source": [
    "torch.randn((10, )) # Gaussian(mean=0, std=1)"
   ]
  },
  {
   "cell_type": "code",
   "execution_count": 427,
   "id": "c88ff56a",
   "metadata": {},
   "outputs": [
    {
     "data": {
      "text/plain": [
       "tensor([7, 6, 2, 8, 3, 0, 5, 4, 1, 9])"
      ]
     },
     "execution_count": 427,
     "metadata": {},
     "output_type": "execute_result"
    }
   ],
   "source": [
    "torch.randperm(10) # 0 to n - 1."
   ]
  },
  {
   "cell_type": "code",
   "execution_count": 1208,
   "id": "eb159c4b",
   "metadata": {},
   "outputs": [
    {
     "data": {
      "text/plain": [
       "(tensor([[0.9957, 0.5259, 0.3433, 0.4213, 0.2879],\n",
       "         [0.7548, 0.7363, 0.9597, 0.6841, 0.4133],\n",
       "         [0.7319, 0.6337, 0.3509, 0.4002, 0.1545]]),\n",
       " tensor([[1., 0., 0., 1., 1.],\n",
       "         [0., 0., 1., 1., 1.],\n",
       "         [1., 0., 0., 1., 1.]]),\n",
       " tensor([[1., 0., 0., 1., 1.],\n",
       "         [0., 0., 1., 1., 1.],\n",
       "         [1., 0., 0., 1., 1.]]))"
      ]
     },
     "execution_count": 1208,
     "metadata": {},
     "output_type": "execute_result"
    }
   ],
   "source": [
    "x = torch.rand(size=(3, 5))\n",
    "z = x.clone()\n",
    "torch.manual_seed(0)\n",
    "y = x.bernoulli(0.5)\n",
    "torch.manual_seed(0)\n",
    "x, y, z.bernoulli_(0.5)"
   ]
  },
  {
   "cell_type": "code",
   "execution_count": 429,
   "id": "7a92d448",
   "metadata": {},
   "outputs": [
    {
     "data": {
      "text/plain": [
       "(tensor([[0.7690+0.2739j, 0.0620+0.9849j],\n",
       "         [0.1929+0.6006j, 0.1768+0.4136j],\n",
       "         [0.7603+0.2212j, 0.2109+0.6543j]], dtype=torch.complex32),\n",
       " tensor([[0.7690-0.2739j, 0.1929-0.6006j, 0.7603-0.2212j],\n",
       "         [0.0620-0.9849j, 0.1768-0.4136j, 0.2109-0.6543j]],\n",
       "        dtype=torch.complex32),\n",
       " tensor([[0.7690-0.2739j, 0.1929-0.6006j, 0.7603-0.2212j],\n",
       "         [0.0620-0.9849j, 0.1768-0.4136j, 0.2109-0.6543j]],\n",
       "        dtype=torch.complex32))"
      ]
     },
     "execution_count": 429,
     "metadata": {},
     "output_type": "execute_result"
    }
   ],
   "source": [
    "x = torch.rand((3, 2), dtype=torch.complex32)\n",
    "x, torch.adjoint(x), x.mH"
   ]
  },
  {
   "cell_type": "code",
   "execution_count": 430,
   "id": "37f3a7d0",
   "metadata": {},
   "outputs": [
    {
     "data": {
      "text/plain": [
       "(tensor([[[-0.1229, -0.1470],\n",
       "          [-0.0515,  0.8635],\n",
       "          [ 0.3505, -0.1256],\n",
       "          [-0.3161, -0.0996],\n",
       "          [-0.0590, -1.1481]],\n",
       " \n",
       "         [[-0.0483, -0.4535],\n",
       "          [ 0.2529, -0.0707],\n",
       "          [ 0.0302,  2.6520],\n",
       "          [ 0.3916, -0.2582],\n",
       "          [-0.1142,  0.0290]],\n",
       " \n",
       "         [[ 0.7818, -0.8530],\n",
       "          [ 1.6806,  0.7914],\n",
       "          [-1.7915,  0.5185],\n",
       "          [-0.7019,  0.1280],\n",
       "          [-0.4489,  0.3921]]]),\n",
       " tensor([[0, 1, 1],\n",
       "         [0, 2, 0],\n",
       "         [1, 1, 0],\n",
       "         [1, 2, 0],\n",
       "         [1, 2, 1],\n",
       "         [1, 3, 0],\n",
       "         [1, 4, 1],\n",
       "         [2, 0, 0],\n",
       "         [2, 1, 0],\n",
       "         [2, 1, 1],\n",
       "         [2, 2, 1],\n",
       "         [2, 3, 1],\n",
       "         [2, 4, 1]]),\n",
       " torch.Size([13, 3]),\n",
       " 3)"
      ]
     },
     "execution_count": 430,
     "metadata": {},
     "output_type": "execute_result"
    }
   ],
   "source": [
    "torch.manual_seed(1055_0)\n",
    "x = torch.randn((3, 5, 2)) * torch.randn((3, 5, 2))\n",
    "y = torch.argwhere(x > 0)\n",
    "x, y, y.shape, x.dim()"
   ]
  },
  {
   "cell_type": "code",
   "execution_count": 431,
   "id": "908225ee",
   "metadata": {},
   "outputs": [
    {
     "data": {
      "text/plain": [
       "(tensor([[-0.1229, -0.1470, -0.0515,  0.8635,  0.3505, -0.1256],\n",
       "         [-0.3161, -0.0996, -0.0590, -1.1481, -0.0483, -0.4535],\n",
       "         [ 0.2529, -0.0707,  0.0302,  2.6520,  0.3916, -0.2582],\n",
       "         [-0.1142,  0.0290,  0.7818, -0.8530,  1.6806,  0.7914],\n",
       "         [-1.7915,  0.5185, -0.7019,  0.1280, -0.4489,  0.3921]]),\n",
       " tensor([[False, False, False,  True, False, False],\n",
       "         [False, False, False, False, False, False],\n",
       "         [False, False, False,  True, False, False],\n",
       "         [False, False,  True, False,  True,  True],\n",
       "         [False,  True, False, False, False, False]]))"
      ]
     },
     "execution_count": 431,
     "metadata": {},
     "output_type": "execute_result"
    }
   ],
   "source": [
    "z = x.reshape((-1, 6))\n",
    "w = z > 0.5\n",
    "z, w"
   ]
  },
  {
   "cell_type": "code",
   "execution_count": 432,
   "id": "3c7b62e4",
   "metadata": {},
   "outputs": [
    {
     "data": {
      "text/plain": [
       "tensor([[0, 3],\n",
       "        [2, 3],\n",
       "        [3, 2],\n",
       "        [3, 4],\n",
       "        [3, 5],\n",
       "        [4, 1]])"
      ]
     },
     "execution_count": 432,
     "metadata": {},
     "output_type": "execute_result"
    }
   ],
   "source": [
    "torch.argwhere(w)"
   ]
  },
  {
   "cell_type": "code",
   "execution_count": 433,
   "id": "83d587d1",
   "metadata": {},
   "outputs": [
    {
     "data": {
      "text/plain": [
       "(tensor([0, 2, 3, 3, 3, 4]), tensor([3, 3, 2, 4, 5, 1]))"
      ]
     },
     "execution_count": 433,
     "metadata": {},
     "output_type": "execute_result"
    }
   ],
   "source": [
    "torch.where(z > 0.5)"
   ]
  },
  {
   "cell_type": "code",
   "execution_count": 434,
   "id": "9bc325d2",
   "metadata": {},
   "outputs": [
    {
     "data": {
      "text/plain": [
       "(tensor([0, 0, 1, 1, 1, 1, 1, 2, 2, 2, 2, 2, 2]),\n",
       " tensor([1, 2, 1, 2, 2, 3, 4, 0, 1, 1, 2, 3, 4]),\n",
       " tensor([1, 0, 0, 0, 1, 0, 1, 0, 0, 1, 1, 1, 1]))"
      ]
     },
     "execution_count": 434,
     "metadata": {},
     "output_type": "execute_result"
    }
   ],
   "source": [
    "torch.where(x > 0)"
   ]
  },
  {
   "cell_type": "code",
   "execution_count": 435,
   "id": "6c285cc9",
   "metadata": {},
   "outputs": [
    {
     "data": {
      "text/plain": [
       "tensor([0.8635, 2.6520, 0.7818, 1.6806, 0.7914, 0.5185])"
      ]
     },
     "execution_count": 435,
     "metadata": {},
     "output_type": "execute_result"
    }
   ],
   "source": [
    "z[torch.where(z>0.5)[0], torch.where(z>0.5)[1]]"
   ]
  },
  {
   "cell_type": "code",
   "execution_count": 436,
   "id": "129b195c",
   "metadata": {},
   "outputs": [
    {
     "data": {
      "text/plain": [
       "tensor([0.8635, 2.6520, 0.7818, 1.6806, 0.7914, 0.5185])"
      ]
     },
     "execution_count": 436,
     "metadata": {},
     "output_type": "execute_result"
    }
   ],
   "source": [
    "z[torch.where(z>0.5)]"
   ]
  },
  {
   "cell_type": "code",
   "execution_count": 437,
   "id": "5d708dee",
   "metadata": {},
   "outputs": [
    {
     "data": {
      "text/plain": [
       "tensor([ 0.8635,  0.8635, -0.0515,  0.3505, -0.1256, -0.1470])"
      ]
     },
     "execution_count": 437,
     "metadata": {},
     "output_type": "execute_result"
    }
   ],
   "source": [
    "z[torch.where(z>0.5)[0][0], torch.where(z>0.5)[1]]"
   ]
  },
  {
   "cell_type": "code",
   "execution_count": 438,
   "id": "80985d91",
   "metadata": {},
   "outputs": [
    {
     "data": {
      "text/plain": [
       "tensor([0.8635, 2.6520, 0.7818, 1.6806, 0.7914, 0.5185])"
      ]
     },
     "execution_count": 438,
     "metadata": {},
     "output_type": "execute_result"
    }
   ],
   "source": [
    "z[w]"
   ]
  },
  {
   "cell_type": "code",
   "execution_count": 439,
   "id": "8451a01b",
   "metadata": {},
   "outputs": [
    {
     "data": {
      "text/plain": [
       "tensor([0.8635, 2.6520, 0.7818, 1.6806, 0.7914, 0.5185])"
      ]
     },
     "execution_count": 439,
     "metadata": {},
     "output_type": "execute_result"
    }
   ],
   "source": [
    "z[z > 0.5]"
   ]
  },
  {
   "cell_type": "code",
   "execution_count": 440,
   "id": "8cd8f7a1",
   "metadata": {},
   "outputs": [
    {
     "data": {
      "text/plain": [
       "tensor([0.8635, 2.6520, 0.7818, 1.6806, 0.7914, 0.5185])"
      ]
     },
     "execution_count": 440,
     "metadata": {},
     "output_type": "execute_result"
    }
   ],
   "source": [
    "u, v = torch.argwhere(w)[:, 0], torch.argwhere(w)[:, 1]\n",
    "u, v\n",
    "z[u, v]"
   ]
  },
  {
   "cell_type": "code",
   "execution_count": 441,
   "id": "c30a8cf4",
   "metadata": {},
   "outputs": [
    {
     "data": {
      "text/plain": [
       "(tensor([[-2.4687,  0.6115,  0.6885],\n",
       "         [-0.6325, -1.3371, -0.3474]]),\n",
       " tensor([[-1.2069,  0.1033, -0.4732,  0.0675, -0.8394],\n",
       "         [-0.0482,  0.5090,  0.1540,  1.3774,  0.4698]]),\n",
       " tensor([[-2.4687,  0.6115,  0.6885, -1.2069,  0.1033, -0.4732,  0.0675, -0.8394],\n",
       "         [-0.6325, -1.3371, -0.3474, -0.0482,  0.5090,  0.1540,  1.3774,  0.4698]]))"
      ]
     },
     "execution_count": 441,
     "metadata": {},
     "output_type": "execute_result"
    }
   ],
   "source": [
    "x = torch.randn((2, 3))\n",
    "y = torch.randn((2, 5))\n",
    "x, y, torch.cat([x, y], dim=1)"
   ]
  },
  {
   "cell_type": "code",
   "execution_count": 442,
   "id": "1d7901de",
   "metadata": {},
   "outputs": [
    {
     "data": {
      "text/plain": [
       "(tensor([[1.2488, 1.3165, 0.3610],\n",
       "         [0.9160, 0.6672, 0.5852]]),\n",
       " tensor([[ 0.1917,  0.1975,  0.3168],\n",
       "         [ 0.2421,  1.0920, -2.0946],\n",
       "         [-1.1453,  1.0282, -0.5966],\n",
       "         [ 0.4115,  0.6258,  1.3535],\n",
       "         [-0.7743, -0.3055,  0.6094],\n",
       "         [-0.0339, -1.7323,  0.3846]]),\n",
       " tensor([[ 1.2488,  1.3165,  0.3610],\n",
       "         [ 0.9160,  0.6672,  0.5852],\n",
       "         [ 0.1917,  0.1975,  0.3168],\n",
       "         [ 0.2421,  1.0920, -2.0946],\n",
       "         [-1.1453,  1.0282, -0.5966],\n",
       "         [ 0.4115,  0.6258,  1.3535],\n",
       "         [-0.7743, -0.3055,  0.6094],\n",
       "         [-0.0339, -1.7323,  0.3846]]))"
      ]
     },
     "execution_count": 442,
     "metadata": {},
     "output_type": "execute_result"
    }
   ],
   "source": [
    "x = torch.randn((2, 3))\n",
    "y = torch.randn((6, 3))\n",
    "x, y, torch.cat([x, y], dim=0)"
   ]
  },
  {
   "cell_type": "code",
   "execution_count": 443,
   "id": "6ac73a0e",
   "metadata": {},
   "outputs": [
    {
     "data": {
      "text/plain": [
       "(tensor([[ 0.1427-0.4634j,  0.1979-0.0497j, -1.2266-0.6763j],\n",
       "         [ 0.1193-0.4250j,  1.2852+0.2961j, -0.4182-0.5327j],\n",
       "         [ 0.2966-0.1570j, -0.3179+1.2539j, -0.3684-0.5815j],\n",
       "         [ 0.8516-0.3237j,  0.1956+0.6533j, -0.3860+0.1547j]],\n",
       "        dtype=torch.complex32),\n",
       " tensor([[ 0.1427+0.4634j,  0.1979+0.0497j, -1.2266+0.6763j],\n",
       "         [ 0.1193+0.4250j,  1.2852-0.2961j, -0.4182+0.5327j],\n",
       "         [ 0.2966+0.1570j, -0.3179-1.2539j, -0.3684+0.5815j],\n",
       "         [ 0.8516+0.3237j,  0.1956-0.6533j, -0.3860-0.1547j]],\n",
       "        dtype=torch.complex32),\n",
       " True,\n",
       " tensor(True))"
      ]
     },
     "execution_count": 443,
     "metadata": {},
     "output_type": "execute_result"
    }
   ],
   "source": [
    "x = torch.randn((4, 3), dtype=torch.complex32)\n",
    "y = torch.conj(x)\n",
    "x, y, y.is_conj(), torch.all(x == torch.conj(y))"
   ]
  },
  {
   "cell_type": "code",
   "execution_count": 444,
   "id": "e93dbfe6",
   "metadata": {},
   "outputs": [
    {
     "data": {
      "text/plain": [
       "(5.5, 3.6666666666666665, 2.2)"
      ]
     },
     "execution_count": 444,
     "metadata": {},
     "output_type": "execute_result"
    }
   ],
   "source": [
    "11 / 2, 11 / 3, 11 / 5"
   ]
  },
  {
   "cell_type": "code",
   "execution_count": 445,
   "id": "3af8afb4",
   "metadata": {},
   "outputs": [
    {
     "data": {
      "text/plain": [
       "(tensor([ 0,  1,  2,  3,  4,  5,  6,  7,  8,  9, 10]),\n",
       " (tensor([0, 1, 2, 3, 4, 5]), tensor([ 6,  7,  8,  9, 10])),\n",
       " (tensor([0, 1, 2, 3]), tensor([4, 5, 6, 7]), tensor([ 8,  9, 10])),\n",
       " (tensor([0, 1, 2]), tensor([3, 4, 5]), tensor([6, 7, 8]), tensor([ 9, 10])))"
      ]
     },
     "execution_count": 445,
     "metadata": {},
     "output_type": "execute_result"
    }
   ],
   "source": [
    "x = torch.arange(11)\n",
    "y = torch.chunk(x, 2)\n",
    "z = torch.chunk(x, 3)\n",
    "w = torch.chunk(x, 5)\n",
    "\n",
    "x, y, z, w"
   ]
  },
  {
   "cell_type": "code",
   "execution_count": 446,
   "id": "72e9c9cc",
   "metadata": {},
   "outputs": [
    {
     "data": {
      "text/plain": [
       "(tensor([[ 1.5410, -0.2934, -2.1788,  0.5684, -1.0845, -1.3986],\n",
       "         [ 0.4033,  0.8380, -0.7193, -0.4033, -0.5966,  0.1820]]),\n",
       " (tensor([[ 1.5410, -0.2934],\n",
       "          [ 0.4033,  0.8380]]),\n",
       "  tensor([[-2.1788,  0.5684],\n",
       "          [-0.7193, -0.4033]]),\n",
       "  tensor([[-1.0845, -1.3986],\n",
       "          [-0.5966,  0.1820]])),\n",
       " (tensor([[ 1.5410, -0.2934, -2.1788,  0.5684, -1.0845, -1.3986]]),\n",
       "  tensor([[ 0.4033,  0.8380, -0.7193, -0.4033, -0.5966,  0.1820]])),\n",
       " (tensor([[ 1.5410, -0.2934, -2.1788,  0.5684, -1.0845, -1.3986],\n",
       "          [ 0.4033,  0.8380, -0.7193, -0.4033, -0.5966,  0.1820]]),))"
      ]
     },
     "execution_count": 446,
     "metadata": {},
     "output_type": "execute_result"
    }
   ],
   "source": [
    "torch.manual_seed(0)\n",
    "x = torch.randn((2, 6))\n",
    "y = torch.chunk(x, 3, dim=1)\n",
    "z = torch.chunk(x, 4, dim=0)\n",
    "w = torch.chunk(x, 1, dim=0)\n",
    "x, y, z, w"
   ]
  },
  {
   "cell_type": "code",
   "execution_count": 447,
   "id": "0546d560",
   "metadata": {},
   "outputs": [
    {
     "data": {
      "text/plain": [
       "(tensor([[[ 0,  1,  2,  3],\n",
       "          [ 4,  5,  6,  7]],\n",
       " \n",
       "         [[ 8,  9, 10, 11],\n",
       "          [12, 13, 14, 15]]]),\n",
       " (tensor([[[0, 1, 2, 3],\n",
       "           [4, 5, 6, 7]]]),\n",
       "  tensor([[[ 8,  9, 10, 11],\n",
       "           [12, 13, 14, 15]]])))"
      ]
     },
     "execution_count": 447,
     "metadata": {},
     "output_type": "execute_result"
    }
   ],
   "source": [
    "x = torch.arange(16).reshape(2, 2, 4)\n",
    "y = torch.chunk(x, 2)\n",
    "x, y"
   ]
  },
  {
   "cell_type": "code",
   "execution_count": 448,
   "id": "6e3f3a03",
   "metadata": {},
   "outputs": [
    {
     "data": {
      "text/plain": [
       "(tensor([[[ 0,  1,  2,  3],\n",
       "          [ 4,  5,  6,  7]],\n",
       " \n",
       "         [[ 8,  9, 10, 11],\n",
       "          [12, 13, 14, 15]]]),\n",
       " (tensor([[[ 0,  1],\n",
       "           [ 4,  5]],\n",
       "  \n",
       "          [[ 8,  9],\n",
       "           [12, 13]]]),\n",
       "  tensor([[[ 2,  3],\n",
       "           [ 6,  7]],\n",
       "  \n",
       "          [[10, 11],\n",
       "           [14, 15]]])))"
      ]
     },
     "execution_count": 448,
     "metadata": {},
     "output_type": "execute_result"
    }
   ],
   "source": [
    "x = torch.arange(16).reshape(2, 2, 4)\n",
    "y = torch.chunk(x, 2, dim=-1)\n",
    "x, y"
   ]
  },
  {
   "cell_type": "code",
   "execution_count": 449,
   "id": "b52526b2",
   "metadata": {},
   "outputs": [
    {
     "data": {
      "text/plain": [
       "(tensor([[[ 0,  1,  2,  3],\n",
       "          [ 4,  5,  6,  7]],\n",
       " \n",
       "         [[ 8,  9, 10, 11],\n",
       "          [12, 13, 14, 15]]]),\n",
       " (tensor([[[ 0,  1],\n",
       "           [ 4,  5]],\n",
       "  \n",
       "          [[ 8,  9],\n",
       "           [12, 13]]]),\n",
       "  tensor([[[ 2,  3],\n",
       "           [ 6,  7]],\n",
       "  \n",
       "          [[10, 11],\n",
       "           [14, 15]]])),\n",
       " 2,\n",
       " [torch.Size([2, 2, 2]), torch.Size([2, 2, 2])])"
      ]
     },
     "execution_count": 449,
     "metadata": {},
     "output_type": "execute_result"
    }
   ],
   "source": [
    "x = torch.arange(16).reshape(2, 2, 4)\n",
    "y = torch.dsplit(x, 2)\n",
    "x, y, len(y), [_.size() for _ in y]"
   ]
  },
  {
   "cell_type": "code",
   "execution_count": 450,
   "id": "14ed41c5",
   "metadata": {},
   "outputs": [
    {
     "data": {
      "text/plain": [
       "(tensor([[[ 0,  1,  2,  3],\n",
       "          [ 4,  5,  6,  7]],\n",
       " \n",
       "         [[ 8,  9, 10, 11],\n",
       "          [12, 13, 14, 15]],\n",
       " \n",
       "         [[16, 17, 18, 19],\n",
       "          [20, 21, 22, 23]],\n",
       " \n",
       "         [[24, 25, 26, 27],\n",
       "          [28, 29, 30, 31]]]),\n",
       " (tensor([[[ 0],\n",
       "           [ 4]],\n",
       "  \n",
       "          [[ 8],\n",
       "           [12]],\n",
       "  \n",
       "          [[16],\n",
       "           [20]],\n",
       "  \n",
       "          [[24],\n",
       "           [28]]]),\n",
       "  tensor([[[ 1],\n",
       "           [ 5]],\n",
       "  \n",
       "          [[ 9],\n",
       "           [13]],\n",
       "  \n",
       "          [[17],\n",
       "           [21]],\n",
       "  \n",
       "          [[25],\n",
       "           [29]]]),\n",
       "  tensor([[[ 2],\n",
       "           [ 6]],\n",
       "  \n",
       "          [[10],\n",
       "           [14]],\n",
       "  \n",
       "          [[18],\n",
       "           [22]],\n",
       "  \n",
       "          [[26],\n",
       "           [30]]]),\n",
       "  tensor([[[ 3],\n",
       "           [ 7]],\n",
       "  \n",
       "          [[11],\n",
       "           [15]],\n",
       "  \n",
       "          [[19],\n",
       "           [23]],\n",
       "  \n",
       "          [[27],\n",
       "           [31]]])),\n",
       " 4,\n",
       " [torch.Size([4, 2, 1]),\n",
       "  torch.Size([4, 2, 1]),\n",
       "  torch.Size([4, 2, 1]),\n",
       "  torch.Size([4, 2, 1])])"
      ]
     },
     "execution_count": 450,
     "metadata": {},
     "output_type": "execute_result"
    }
   ],
   "source": [
    "x = torch.arange(32).reshape(4, 2, 4)\n",
    "y = torch.dsplit(x, 4)\n",
    "x, y, len(y), [_.size() for _ in y]"
   ]
  },
  {
   "cell_type": "code",
   "execution_count": 451,
   "id": "79e4a3d8",
   "metadata": {},
   "outputs": [
    {
     "data": {
      "text/plain": [
       "(tensor([[[ 0,  1,  2,  3],\n",
       "          [ 4,  5,  6,  7]],\n",
       " \n",
       "         [[ 8,  9, 10, 11],\n",
       "          [12, 13, 14, 15]],\n",
       " \n",
       "         [[16, 17, 18, 19],\n",
       "          [20, 21, 22, 23]],\n",
       " \n",
       "         [[24, 25, 26, 27],\n",
       "          [28, 29, 30, 31]]]),\n",
       " (tensor([[[ 0],\n",
       "           [ 4]],\n",
       "  \n",
       "          [[ 8],\n",
       "           [12]],\n",
       "  \n",
       "          [[16],\n",
       "           [20]],\n",
       "  \n",
       "          [[24],\n",
       "           [28]]]),\n",
       "  tensor([[[ 1,  2],\n",
       "           [ 5,  6]],\n",
       "  \n",
       "          [[ 9, 10],\n",
       "           [13, 14]],\n",
       "  \n",
       "          [[17, 18],\n",
       "           [21, 22]],\n",
       "  \n",
       "          [[25, 26],\n",
       "           [29, 30]]]),\n",
       "  tensor([[[ 3],\n",
       "           [ 7]],\n",
       "  \n",
       "          [[11],\n",
       "           [15]],\n",
       "  \n",
       "          [[19],\n",
       "           [23]],\n",
       "  \n",
       "          [[27],\n",
       "           [31]]])),\n",
       " 3,\n",
       " [torch.Size([4, 2, 1]), torch.Size([4, 2, 2]), torch.Size([4, 2, 1])])"
      ]
     },
     "execution_count": 451,
     "metadata": {},
     "output_type": "execute_result"
    }
   ],
   "source": [
    "x = torch.arange(32).reshape(4, 2, 4)\n",
    "y = torch.dsplit(x, [1, 3])\n",
    "x, y, len(y), [_.size() for _ in y]"
   ]
  },
  {
   "cell_type": "code",
   "execution_count": 452,
   "id": "ccd4b0cc",
   "metadata": {},
   "outputs": [
    {
     "data": {
      "text/plain": [
       "(tensor([[[ 0,  1,  2,  3],\n",
       "          [ 4,  5,  6,  7]],\n",
       " \n",
       "         [[ 8,  9, 10, 11],\n",
       "          [12, 13, 14, 15]],\n",
       " \n",
       "         [[16, 17, 18, 19],\n",
       "          [20, 21, 22, 23]],\n",
       " \n",
       "         [[24, 25, 26, 27],\n",
       "          [28, 29, 30, 31]]]),\n",
       " (tensor([[[ 0],\n",
       "           [ 4]],\n",
       "  \n",
       "          [[ 8],\n",
       "           [12]],\n",
       "  \n",
       "          [[16],\n",
       "           [20]],\n",
       "  \n",
       "          [[24],\n",
       "           [28]]]),\n",
       "  tensor([[[ 1,  2,  3],\n",
       "           [ 5,  6,  7]],\n",
       "  \n",
       "          [[ 9, 10, 11],\n",
       "           [13, 14, 15]],\n",
       "  \n",
       "          [[17, 18, 19],\n",
       "           [21, 22, 23]],\n",
       "  \n",
       "          [[25, 26, 27],\n",
       "           [29, 30, 31]]]),\n",
       "  tensor([], size=(4, 2, 0), dtype=torch.int64)),\n",
       " 3,\n",
       " [torch.Size([4, 2, 1]), torch.Size([4, 2, 3]), torch.Size([4, 2, 0])])"
      ]
     },
     "execution_count": 452,
     "metadata": {},
     "output_type": "execute_result"
    }
   ],
   "source": [
    "x = torch.arange(32).reshape(4, 2, 4)\n",
    "y = torch.dsplit(x, [1, 5])\n",
    "x, y, len(y), [_.size() for _ in y]"
   ]
  },
  {
   "cell_type": "code",
   "execution_count": 453,
   "id": "2ba4b5d2",
   "metadata": {},
   "outputs": [
    {
     "data": {
      "text/plain": [
       "(tensor([[[[ 0,  1],\n",
       "           [ 2,  3]],\n",
       " \n",
       "          [[ 4,  5],\n",
       "           [ 6,  7]]],\n",
       " \n",
       " \n",
       "         [[[ 8,  9],\n",
       "           [10, 11]],\n",
       " \n",
       "          [[12, 13],\n",
       "           [14, 15]]],\n",
       " \n",
       " \n",
       "         [[[16, 17],\n",
       "           [18, 19]],\n",
       " \n",
       "          [[20, 21],\n",
       "           [22, 23]]],\n",
       " \n",
       " \n",
       "         [[[24, 25],\n",
       "           [26, 27]],\n",
       " \n",
       "          [[28, 29],\n",
       "           [30, 31]]]]),\n",
       " (tensor([[[[ 0,  1]],\n",
       "  \n",
       "           [[ 4,  5]]],\n",
       "  \n",
       "  \n",
       "          [[[ 8,  9]],\n",
       "  \n",
       "           [[12, 13]]],\n",
       "  \n",
       "  \n",
       "          [[[16, 17]],\n",
       "  \n",
       "           [[20, 21]]],\n",
       "  \n",
       "  \n",
       "          [[[24, 25]],\n",
       "  \n",
       "           [[28, 29]]]]),\n",
       "  tensor([[[[ 2,  3]],\n",
       "  \n",
       "           [[ 6,  7]]],\n",
       "  \n",
       "  \n",
       "          [[[10, 11]],\n",
       "  \n",
       "           [[14, 15]]],\n",
       "  \n",
       "  \n",
       "          [[[18, 19]],\n",
       "  \n",
       "           [[22, 23]]],\n",
       "  \n",
       "  \n",
       "          [[[26, 27]],\n",
       "  \n",
       "           [[30, 31]]]]),\n",
       "  tensor([], size=(4, 2, 0, 2), dtype=torch.int64)),\n",
       " 3,\n",
       " [torch.Size([4, 2, 1, 2]),\n",
       "  torch.Size([4, 2, 1, 2]),\n",
       "  torch.Size([4, 2, 0, 2])])"
      ]
     },
     "execution_count": 453,
     "metadata": {},
     "output_type": "execute_result"
    }
   ],
   "source": [
    "x = torch.arange(32).reshape(4, 2, 2, 2)\n",
    "y = torch.dsplit(x, [1, 5])\n",
    "x, y, len(y), [_.size() for _ in y]"
   ]
  },
  {
   "cell_type": "code",
   "execution_count": 454,
   "id": "030f7442",
   "metadata": {},
   "outputs": [
    {
     "data": {
      "text/plain": [
       "(tensor([0, 1, 2, 3, 4, 5, 6, 7]),\n",
       " (tensor([0, 1, 2, 3]), tensor([4, 5, 6, 7])))"
      ]
     },
     "execution_count": 454,
     "metadata": {},
     "output_type": "execute_result"
    }
   ],
   "source": [
    "x = torch.arange(8)\n",
    "y = torch.tensor_split(x, 2)\n",
    "x, y"
   ]
  },
  {
   "cell_type": "code",
   "execution_count": 455,
   "id": "f3a291a8",
   "metadata": {},
   "outputs": [
    {
     "data": {
      "text/plain": [
       "((tensor([0, 1, 2, 3]), tensor([4, 5, 6, 7])),\n",
       " (tensor([0, 1, 2, 3]), tensor([4, 5, 6, 7])))"
      ]
     },
     "execution_count": 455,
     "metadata": {},
     "output_type": "execute_result"
    }
   ],
   "source": [
    "x.chunk(2), x.tensor_split(2)"
   ]
  },
  {
   "cell_type": "code",
   "execution_count": 456,
   "id": "21001d03",
   "metadata": {},
   "outputs": [
    {
     "data": {
      "text/plain": [
       "(tensor([0, 1, 2, 3, 4, 5, 6]),\n",
       " (tensor([0, 1]),\n",
       "  tensor([2]),\n",
       "  tensor([3]),\n",
       "  tensor([4]),\n",
       "  tensor([5]),\n",
       "  tensor([6])),\n",
       " (tensor([0, 1]), tensor([2, 3]), tensor([4, 5]), tensor([6])))"
      ]
     },
     "execution_count": 456,
     "metadata": {},
     "output_type": "execute_result"
    }
   ],
   "source": [
    "x = torch.arange(7)\n",
    "x, x.tensor_split(6), x.chunk(6)"
   ]
  },
  {
   "cell_type": "code",
   "execution_count": 457,
   "id": "74d7f5d1",
   "metadata": {},
   "outputs": [
    {
     "data": {
      "text/plain": [
       "(tensor([0, 1, 2, 3, 4, 5, 6]),\n",
       " (tensor([0]),\n",
       "  tensor([1]),\n",
       "  tensor([2]),\n",
       "  tensor([3]),\n",
       "  tensor([4]),\n",
       "  tensor([5]),\n",
       "  tensor([6]),\n",
       "  tensor([], dtype=torch.int64),\n",
       "  tensor([], dtype=torch.int64),\n",
       "  tensor([], dtype=torch.int64),\n",
       "  tensor([], dtype=torch.int64),\n",
       "  tensor([], dtype=torch.int64)),\n",
       " (tensor([0]),\n",
       "  tensor([1]),\n",
       "  tensor([2]),\n",
       "  tensor([3]),\n",
       "  tensor([4]),\n",
       "  tensor([5]),\n",
       "  tensor([6])))"
      ]
     },
     "execution_count": 457,
     "metadata": {},
     "output_type": "execute_result"
    }
   ],
   "source": [
    "x = torch.arange(7)\n",
    "x, x.tensor_split(12), x.chunk(12)"
   ]
  },
  {
   "cell_type": "code",
   "execution_count": 458,
   "id": "af4496de",
   "metadata": {},
   "outputs": [
    {
     "data": {
      "text/plain": [
       "(tensor([[[-0.9891,  0.2736, -0.3410, -0.5595, -0.6359],\n",
       "          [-0.3519,  0.4749,  0.0566,  0.8611, -0.3574],\n",
       "          [-0.2926,  0.9788, -0.9538, -0.3936, -0.6204]],\n",
       " \n",
       "         [[ 0.9621,  0.5324, -0.3351, -0.4245,  0.3067],\n",
       "          [-0.3380,  0.3105, -0.5119, -0.6188, -0.0250],\n",
       "          [ 0.5872,  0.8517,  0.2210, -0.5939,  0.5228]],\n",
       " \n",
       "         [[ 0.3898,  0.4266, -0.3334, -0.1349,  0.4615],\n",
       "          [ 0.4131,  0.6642, -0.5998,  0.6279, -0.3890],\n",
       "          [-0.0251, -0.4707, -0.2964,  0.6742,  0.8543]],\n",
       " \n",
       "         [[ 0.3482, -0.7501, -0.3688,  0.6937, -0.2698],\n",
       "          [-0.8169,  0.2323, -0.8877, -0.0060, -0.1229],\n",
       "          [ 0.0096, -0.2381, -0.1461, -0.6045, -0.6602]]]),\n",
       " (tensor([[[-0.9891,  0.2736, -0.3410, -0.5595, -0.6359]],\n",
       "  \n",
       "          [[ 0.9621,  0.5324, -0.3351, -0.4245,  0.3067]],\n",
       "  \n",
       "          [[ 0.3898,  0.4266, -0.3334, -0.1349,  0.4615]],\n",
       "  \n",
       "          [[ 0.3482, -0.7501, -0.3688,  0.6937, -0.2698]]]),\n",
       "  tensor([[[-0.3519,  0.4749,  0.0566,  0.8611, -0.3574]],\n",
       "  \n",
       "          [[-0.3380,  0.3105, -0.5119, -0.6188, -0.0250]],\n",
       "  \n",
       "          [[ 0.4131,  0.6642, -0.5998,  0.6279, -0.3890]],\n",
       "  \n",
       "          [[-0.8169,  0.2323, -0.8877, -0.0060, -0.1229]]]),\n",
       "  tensor([[[-0.2926,  0.9788, -0.9538, -0.3936, -0.6204]],\n",
       "  \n",
       "          [[ 0.5872,  0.8517,  0.2210, -0.5939,  0.5228]],\n",
       "  \n",
       "          [[-0.0251, -0.4707, -0.2964,  0.6742,  0.8543]],\n",
       "  \n",
       "          [[ 0.0096, -0.2381, -0.1461, -0.6045, -0.6602]]])),\n",
       " 3,\n",
       " torch.Size([4, 1, 5]))"
      ]
     },
     "execution_count": 458,
     "metadata": {},
     "output_type": "execute_result"
    }
   ],
   "source": [
    "torch.manual_seed(10)\n",
    "x = torch.randn((4, 3, 5)).uniform_(-1, 1)\n",
    "y = torch.tensor_split(x, 3, dim=1)\n",
    "x, y, len(y), y[0].shape"
   ]
  },
  {
   "cell_type": "code",
   "execution_count": 459,
   "id": "627c5eb2",
   "metadata": {},
   "outputs": [
    {
     "data": {
      "text/plain": [
       "(tensor([[[-0.9891,  0.2736, -0.3410, -0.5595, -0.6359],\n",
       "          [-0.3519,  0.4749,  0.0566,  0.8611, -0.3574],\n",
       "          [-0.2926,  0.9788, -0.9538, -0.3936, -0.6204]],\n",
       " \n",
       "         [[ 0.9621,  0.5324, -0.3351, -0.4245,  0.3067],\n",
       "          [-0.3380,  0.3105, -0.5119, -0.6188, -0.0250],\n",
       "          [ 0.5872,  0.8517,  0.2210, -0.5939,  0.5228]],\n",
       " \n",
       "         [[ 0.3898,  0.4266, -0.3334, -0.1349,  0.4615],\n",
       "          [ 0.4131,  0.6642, -0.5998,  0.6279, -0.3890],\n",
       "          [-0.0251, -0.4707, -0.2964,  0.6742,  0.8543]],\n",
       " \n",
       "         [[ 0.3482, -0.7501, -0.3688,  0.6937, -0.2698],\n",
       "          [-0.8169,  0.2323, -0.8877, -0.0060, -0.1229],\n",
       "          [ 0.0096, -0.2381, -0.1461, -0.6045, -0.6602]]]),\n",
       " (tensor([[[-0.9891,  0.2736, -0.3410, -0.5595, -0.6359],\n",
       "           [-0.3519,  0.4749,  0.0566,  0.8611, -0.3574]],\n",
       "  \n",
       "          [[ 0.9621,  0.5324, -0.3351, -0.4245,  0.3067],\n",
       "           [-0.3380,  0.3105, -0.5119, -0.6188, -0.0250]],\n",
       "  \n",
       "          [[ 0.3898,  0.4266, -0.3334, -0.1349,  0.4615],\n",
       "           [ 0.4131,  0.6642, -0.5998,  0.6279, -0.3890]],\n",
       "  \n",
       "          [[ 0.3482, -0.7501, -0.3688,  0.6937, -0.2698],\n",
       "           [-0.8169,  0.2323, -0.8877, -0.0060, -0.1229]]]),\n",
       "  tensor([[[-0.2926,  0.9788, -0.9538, -0.3936, -0.6204]],\n",
       "  \n",
       "          [[ 0.5872,  0.8517,  0.2210, -0.5939,  0.5228]],\n",
       "  \n",
       "          [[-0.0251, -0.4707, -0.2964,  0.6742,  0.8543]],\n",
       "  \n",
       "          [[ 0.0096, -0.2381, -0.1461, -0.6045, -0.6602]]])),\n",
       " 2,\n",
       " torch.Size([4, 2, 5]),\n",
       " torch.Size([4, 1, 5]))"
      ]
     },
     "execution_count": 459,
     "metadata": {},
     "output_type": "execute_result"
    }
   ],
   "source": [
    "torch.manual_seed(10)\n",
    "x = torch.randn((4, 3, 5)).uniform_(-1, 1)\n",
    "y = torch.tensor_split(x, 2, dim=1)\n",
    "x, y, len(y), y[0].shape, y[1].shape"
   ]
  },
  {
   "cell_type": "code",
   "execution_count": 460,
   "id": "2db0c90f",
   "metadata": {},
   "outputs": [
    {
     "data": {
      "text/plain": [
       "(tensor([[[-0.9891,  0.2736, -0.3410, -0.5595, -0.6359],\n",
       "          [-0.3519,  0.4749,  0.0566,  0.8611, -0.3574],\n",
       "          [-0.2926,  0.9788, -0.9538, -0.3936, -0.6204]],\n",
       " \n",
       "         [[ 0.9621,  0.5324, -0.3351, -0.4245,  0.3067],\n",
       "          [-0.3380,  0.3105, -0.5119, -0.6188, -0.0250],\n",
       "          [ 0.5872,  0.8517,  0.2210, -0.5939,  0.5228]],\n",
       " \n",
       "         [[ 0.3898,  0.4266, -0.3334, -0.1349,  0.4615],\n",
       "          [ 0.4131,  0.6642, -0.5998,  0.6279, -0.3890],\n",
       "          [-0.0251, -0.4707, -0.2964,  0.6742,  0.8543]],\n",
       " \n",
       "         [[ 0.3482, -0.7501, -0.3688,  0.6937, -0.2698],\n",
       "          [-0.8169,  0.2323, -0.8877, -0.0060, -0.1229],\n",
       "          [ 0.0096, -0.2381, -0.1461, -0.6045, -0.6602]]]),\n",
       " (tensor([[[-0.9891,  0.2736, -0.3410, -0.5595, -0.6359]],\n",
       "  \n",
       "          [[ 0.9621,  0.5324, -0.3351, -0.4245,  0.3067]],\n",
       "  \n",
       "          [[ 0.3898,  0.4266, -0.3334, -0.1349,  0.4615]],\n",
       "  \n",
       "          [[ 0.3482, -0.7501, -0.3688,  0.6937, -0.2698]]]),\n",
       "  tensor([[[-0.3519,  0.4749,  0.0566,  0.8611, -0.3574]],\n",
       "  \n",
       "          [[-0.3380,  0.3105, -0.5119, -0.6188, -0.0250]],\n",
       "  \n",
       "          [[ 0.4131,  0.6642, -0.5998,  0.6279, -0.3890]],\n",
       "  \n",
       "          [[-0.8169,  0.2323, -0.8877, -0.0060, -0.1229]]]),\n",
       "  tensor([[[-0.2926,  0.9788, -0.9538, -0.3936, -0.6204]],\n",
       "  \n",
       "          [[ 0.5872,  0.8517,  0.2210, -0.5939,  0.5228]],\n",
       "  \n",
       "          [[-0.0251, -0.4707, -0.2964,  0.6742,  0.8543]],\n",
       "  \n",
       "          [[ 0.0096, -0.2381, -0.1461, -0.6045, -0.6602]]])),\n",
       " 3,\n",
       " torch.Size([4, 1, 5]),\n",
       " torch.Size([4, 1, 5]))"
      ]
     },
     "execution_count": 460,
     "metadata": {},
     "output_type": "execute_result"
    }
   ],
   "source": [
    "torch.manual_seed(10)\n",
    "x = torch.randn((4, 3, 5)).uniform_(-1, 1)\n",
    "y = torch.tensor_split(x, [1,2], dim=1) # in dim 1 indices 0:1, 1:2, 2:\n",
    "\n",
    "x, y, len(y), y[0].shape, y[1].shape"
   ]
  },
  {
   "cell_type": "code",
   "execution_count": 461,
   "id": "1b430a32",
   "metadata": {},
   "outputs": [
    {
     "data": {
      "text/plain": [
       "(tensor([[[-0.9891,  0.2736, -0.3410, -0.5595, -0.6359],\n",
       "          [-0.3519,  0.4749,  0.0566,  0.8611, -0.3574],\n",
       "          [-0.2926,  0.9788, -0.9538, -0.3936, -0.6204]],\n",
       " \n",
       "         [[ 0.9621,  0.5324, -0.3351, -0.4245,  0.3067],\n",
       "          [-0.3380,  0.3105, -0.5119, -0.6188, -0.0250],\n",
       "          [ 0.5872,  0.8517,  0.2210, -0.5939,  0.5228]],\n",
       " \n",
       "         [[ 0.3898,  0.4266, -0.3334, -0.1349,  0.4615],\n",
       "          [ 0.4131,  0.6642, -0.5998,  0.6279, -0.3890],\n",
       "          [-0.0251, -0.4707, -0.2964,  0.6742,  0.8543]],\n",
       " \n",
       "         [[ 0.3482, -0.7501, -0.3688,  0.6937, -0.2698],\n",
       "          [-0.8169,  0.2323, -0.8877, -0.0060, -0.1229],\n",
       "          [ 0.0096, -0.2381, -0.1461, -0.6045, -0.6602]]]),\n",
       " (tensor([[[-0.9891,  0.2736, -0.3410, -0.5595, -0.6359]],\n",
       "  \n",
       "          [[ 0.9621,  0.5324, -0.3351, -0.4245,  0.3067]],\n",
       "  \n",
       "          [[ 0.3898,  0.4266, -0.3334, -0.1349,  0.4615]],\n",
       "  \n",
       "          [[ 0.3482, -0.7501, -0.3688,  0.6937, -0.2698]]]),\n",
       "  tensor([[[-0.3519,  0.4749,  0.0566,  0.8611, -0.3574],\n",
       "           [-0.2926,  0.9788, -0.9538, -0.3936, -0.6204]],\n",
       "  \n",
       "          [[-0.3380,  0.3105, -0.5119, -0.6188, -0.0250],\n",
       "           [ 0.5872,  0.8517,  0.2210, -0.5939,  0.5228]],\n",
       "  \n",
       "          [[ 0.4131,  0.6642, -0.5998,  0.6279, -0.3890],\n",
       "           [-0.0251, -0.4707, -0.2964,  0.6742,  0.8543]],\n",
       "  \n",
       "          [[-0.8169,  0.2323, -0.8877, -0.0060, -0.1229],\n",
       "           [ 0.0096, -0.2381, -0.1461, -0.6045, -0.6602]]]),\n",
       "  tensor([], size=(4, 0, 5))),\n",
       " 3,\n",
       " [torch.Size([4, 1, 5]), torch.Size([4, 2, 5]), torch.Size([4, 0, 5])])"
      ]
     },
     "execution_count": 461,
     "metadata": {},
     "output_type": "execute_result"
    }
   ],
   "source": [
    "torch.manual_seed(10)\n",
    "x = torch.randn((4, 3, 5)).uniform_(-1, 1)\n",
    "y = torch.tensor_split(x, [1,4], dim=1) # in dim 1 indices 0:1, 1:2, 2:\n",
    "\n",
    "x, y, len(y), [_.size() for _ in y]"
   ]
  },
  {
   "cell_type": "code",
   "execution_count": 462,
   "id": "68abb26f",
   "metadata": {},
   "outputs": [
    {
     "data": {
      "text/plain": [
       "(tensor([ 0,  1,  2,  3,  4,  5,  6,  7,  8,  9, 10, 11, 12, 13, 14, 15]),\n",
       " (tensor([0, 1, 2, 3, 4, 5, 6, 7]), tensor([ 8,  9, 10, 11, 12, 13, 14, 15])),\n",
       " 2,\n",
       " torch.Size([8]),\n",
       " torch.Size([8]))"
      ]
     },
     "execution_count": 462,
     "metadata": {},
     "output_type": "execute_result"
    }
   ],
   "source": [
    "torch.manual_seed(10)\n",
    "x = torch.arange(16)\n",
    "y = torch.hsplit(x, 2)\n",
    "\n",
    "x, y, len(y), y[0].shape, y[1].shape"
   ]
  },
  {
   "cell_type": "code",
   "execution_count": 463,
   "id": "89f0f597",
   "metadata": {},
   "outputs": [
    {
     "data": {
      "text/plain": [
       "(tensor([[ 0,  1,  2,  3],\n",
       "         [ 4,  5,  6,  7],\n",
       "         [ 8,  9, 10, 11],\n",
       "         [12, 13, 14, 15]]),\n",
       " (tensor([[ 0,  1],\n",
       "          [ 4,  5],\n",
       "          [ 8,  9],\n",
       "          [12, 13]]),\n",
       "  tensor([[ 2,  3],\n",
       "          [ 6,  7],\n",
       "          [10, 11],\n",
       "          [14, 15]])),\n",
       " 2,\n",
       " torch.Size([4, 2]),\n",
       " torch.Size([4, 2]))"
      ]
     },
     "execution_count": 463,
     "metadata": {},
     "output_type": "execute_result"
    }
   ],
   "source": [
    "torch.manual_seed(10)\n",
    "x = torch.arange(16).reshape(4, 4)\n",
    "y = torch.hsplit(x, 2)\n",
    "\n",
    "x, y, len(y), y[0].shape, y[1].shape"
   ]
  },
  {
   "cell_type": "code",
   "execution_count": 464,
   "id": "1b352946",
   "metadata": {},
   "outputs": [
    {
     "name": "stdout",
     "output_type": "stream",
     "text": [
      "torch.hsplit attempted to split along dimension 1, but the size of the dimension 4 is not divisible by the split_size 3!\n"
     ]
    }
   ],
   "source": [
    "torch.manual_seed(10)\n",
    "x = torch.arange(16).reshape(4, 4)\n",
    "try:\n",
    "    y = torch.hsplit(x, 3)\n",
    "    \n",
    "    x, y, len(y), [_.size() for _ in y]\n",
    "except Exception as e:\n",
    "    print(e)"
   ]
  },
  {
   "cell_type": "code",
   "execution_count": 465,
   "id": "55ecb133",
   "metadata": {},
   "outputs": [
    {
     "data": {
      "text/plain": [
       "(tensor([[[-0.9891,  0.2736, -0.3410, -0.5595, -0.6359],\n",
       "          [-0.3519,  0.4749,  0.0566,  0.8611, -0.3574],\n",
       "          [-0.2926,  0.9788, -0.9538, -0.3936, -0.6204]],\n",
       " \n",
       "         [[ 0.9621,  0.5324, -0.3351, -0.4245,  0.3067],\n",
       "          [-0.3380,  0.3105, -0.5119, -0.6188, -0.0250],\n",
       "          [ 0.5872,  0.8517,  0.2210, -0.5939,  0.5228]],\n",
       " \n",
       "         [[ 0.3898,  0.4266, -0.3334, -0.1349,  0.4615],\n",
       "          [ 0.4131,  0.6642, -0.5998,  0.6279, -0.3890],\n",
       "          [-0.0251, -0.4707, -0.2964,  0.6742,  0.8543]],\n",
       " \n",
       "         [[ 0.3482, -0.7501, -0.3688,  0.6937, -0.2698],\n",
       "          [-0.8169,  0.2323, -0.8877, -0.0060, -0.1229],\n",
       "          [ 0.0096, -0.2381, -0.1461, -0.6045, -0.6602]]]),\n",
       " (tensor([[[-0.9891,  0.2736, -0.3410, -0.5595, -0.6359]],\n",
       "  \n",
       "          [[ 0.9621,  0.5324, -0.3351, -0.4245,  0.3067]],\n",
       "  \n",
       "          [[ 0.3898,  0.4266, -0.3334, -0.1349,  0.4615]],\n",
       "  \n",
       "          [[ 0.3482, -0.7501, -0.3688,  0.6937, -0.2698]]]),\n",
       "  tensor([[[-0.3519,  0.4749,  0.0566,  0.8611, -0.3574]],\n",
       "  \n",
       "          [[-0.3380,  0.3105, -0.5119, -0.6188, -0.0250]],\n",
       "  \n",
       "          [[ 0.4131,  0.6642, -0.5998,  0.6279, -0.3890]],\n",
       "  \n",
       "          [[-0.8169,  0.2323, -0.8877, -0.0060, -0.1229]]]),\n",
       "  tensor([[[-0.2926,  0.9788, -0.9538, -0.3936, -0.6204]],\n",
       "  \n",
       "          [[ 0.5872,  0.8517,  0.2210, -0.5939,  0.5228]],\n",
       "  \n",
       "          [[-0.0251, -0.4707, -0.2964,  0.6742,  0.8543]],\n",
       "  \n",
       "          [[ 0.0096, -0.2381, -0.1461, -0.6045, -0.6602]]])),\n",
       " 3,\n",
       " torch.Size([4, 1, 5]),\n",
       " torch.Size([4, 1, 5]))"
      ]
     },
     "execution_count": 465,
     "metadata": {},
     "output_type": "execute_result"
    }
   ],
   "source": [
    "torch.manual_seed(10)\n",
    "x = torch.randn((4, 3, 5)).uniform_(-1, 1)\n",
    "y = torch.hsplit(x, 3) # dim >= 2 split with dim=1\n",
    "\n",
    "x, y, len(y), y[0].shape, y[1].shape"
   ]
  },
  {
   "cell_type": "code",
   "execution_count": 466,
   "id": "1e26a08c",
   "metadata": {},
   "outputs": [
    {
     "data": {
      "text/plain": [
       "(tensor([[ 0,  1,  2,  3],\n",
       "         [ 4,  5,  6,  7],\n",
       "         [ 8,  9, 10, 11],\n",
       "         [12, 13, 14, 15]]),\n",
       " (tensor([[0, 1, 2, 3],\n",
       "          [4, 5, 6, 7]]),\n",
       "  tensor([[ 8,  9, 10, 11],\n",
       "          [12, 13, 14, 15]])),\n",
       " 2,\n",
       " torch.Size([2, 4]),\n",
       " torch.Size([2, 4]))"
      ]
     },
     "execution_count": 466,
     "metadata": {},
     "output_type": "execute_result"
    }
   ],
   "source": [
    "torch.manual_seed(10)\n",
    "x = torch.arange(16).reshape(4, 4)\n",
    "y = torch.vsplit(x, 2)\n",
    "\n",
    "x, y, len(y), y[0].shape, y[1].shape"
   ]
  },
  {
   "cell_type": "code",
   "execution_count": 467,
   "id": "a391a46a",
   "metadata": {},
   "outputs": [
    {
     "data": {
      "text/plain": [
       "(tensor([[[ 0.3283,  0.9021, -0.7989, -0.9440, -0.5409],\n",
       "          [ 0.9599,  0.9000, -0.9731,  0.2426,  0.1349],\n",
       "          [ 0.8835, -0.2998,  0.3297, -0.4953, -0.9342]],\n",
       " \n",
       "         [[ 0.1122, -0.4834, -0.0627, -0.2208, -0.8088],\n",
       "          [ 0.5855,  0.6906,  0.7647,  0.1298, -0.9443],\n",
       "          [-0.7997, -0.1051, -0.1037, -0.9076,  0.6198]],\n",
       " \n",
       "         [[-0.7456, -0.0281, -0.9539,  0.2808,  0.0047],\n",
       "          [ 0.6917,  0.1680, -0.7886,  0.9428, -0.8605],\n",
       "          [ 0.4800, -0.6964,  0.5396,  0.2496,  0.2677]],\n",
       " \n",
       "         [[-0.2380,  0.9126,  0.9748, -0.1035, -0.3187],\n",
       "          [ 0.1554,  0.6437,  0.9304,  0.9089,  0.4649],\n",
       "          [ 0.1155, -0.7347, -0.7623,  0.6762, -0.9009]],\n",
       " \n",
       "         [[-0.0443,  0.8122, -0.8639, -0.6939, -0.9941],\n",
       "          [ 0.5423,  0.2141,  0.6034, -0.1342, -0.3238],\n",
       "          [ 0.8398, -0.6529, -0.6420,  0.6843,  0.9246]],\n",
       " \n",
       "         [[-0.5127, -0.9567,  0.0489, -0.0077,  0.2975],\n",
       "          [ 0.5361,  0.1110, -0.6464, -0.0689,  0.4617],\n",
       "          [ 0.1640, -0.6849, -0.0601, -0.1849, -0.4312]],\n",
       " \n",
       "         [[ 0.5072,  0.3929,  0.8446,  0.8351, -0.0383],\n",
       "          [-0.8076,  0.3287,  0.5220,  0.5982,  0.6061],\n",
       "          [ 0.5435,  0.2151,  0.0669,  0.4977, -0.9901]],\n",
       " \n",
       "         [[ 0.4930,  0.2780,  0.2664, -0.2777,  0.2872],\n",
       "          [ 0.2369, -0.9736, -0.4699,  0.4990, -0.6931],\n",
       "          [-0.3552,  0.5815,  0.5134, -0.7742,  0.4442]]]),\n",
       " (tensor([[[ 0.3283,  0.9021, -0.7989, -0.9440, -0.5409],\n",
       "           [ 0.9599,  0.9000, -0.9731,  0.2426,  0.1349],\n",
       "           [ 0.8835, -0.2998,  0.3297, -0.4953, -0.9342]],\n",
       "  \n",
       "          [[ 0.1122, -0.4834, -0.0627, -0.2208, -0.8088],\n",
       "           [ 0.5855,  0.6906,  0.7647,  0.1298, -0.9443],\n",
       "           [-0.7997, -0.1051, -0.1037, -0.9076,  0.6198]],\n",
       "  \n",
       "          [[-0.7456, -0.0281, -0.9539,  0.2808,  0.0047],\n",
       "           [ 0.6917,  0.1680, -0.7886,  0.9428, -0.8605],\n",
       "           [ 0.4800, -0.6964,  0.5396,  0.2496,  0.2677]],\n",
       "  \n",
       "          [[-0.2380,  0.9126,  0.9748, -0.1035, -0.3187],\n",
       "           [ 0.1554,  0.6437,  0.9304,  0.9089,  0.4649],\n",
       "           [ 0.1155, -0.7347, -0.7623,  0.6762, -0.9009]]]),\n",
       "  tensor([[[-0.0443,  0.8122, -0.8639, -0.6939, -0.9941],\n",
       "           [ 0.5423,  0.2141,  0.6034, -0.1342, -0.3238],\n",
       "           [ 0.8398, -0.6529, -0.6420,  0.6843,  0.9246]],\n",
       "  \n",
       "          [[-0.5127, -0.9567,  0.0489, -0.0077,  0.2975],\n",
       "           [ 0.5361,  0.1110, -0.6464, -0.0689,  0.4617],\n",
       "           [ 0.1640, -0.6849, -0.0601, -0.1849, -0.4312]],\n",
       "  \n",
       "          [[ 0.5072,  0.3929,  0.8446,  0.8351, -0.0383],\n",
       "           [-0.8076,  0.3287,  0.5220,  0.5982,  0.6061],\n",
       "           [ 0.5435,  0.2151,  0.0669,  0.4977, -0.9901]],\n",
       "  \n",
       "          [[ 0.4930,  0.2780,  0.2664, -0.2777,  0.2872],\n",
       "           [ 0.2369, -0.9736, -0.4699,  0.4990, -0.6931],\n",
       "           [-0.3552,  0.5815,  0.5134, -0.7742,  0.4442]]])),\n",
       " 2,\n",
       " torch.Size([4, 3, 5]),\n",
       " torch.Size([4, 3, 5]))"
      ]
     },
     "execution_count": 467,
     "metadata": {},
     "output_type": "execute_result"
    }
   ],
   "source": [
    "torch.manual_seed(10)\n",
    "x = torch.randn((8, 3, 5)).uniform_(-1, 1)\n",
    "y = torch.vsplit(x, 2) # dim >= 2 split with dim=0 => tensor_split(x, 2, dim=0)\n",
    "\n",
    "x, y, len(y), y[0].shape, y[1].shape"
   ]
  },
  {
   "cell_type": "code",
   "execution_count": 468,
   "id": "5df3865c",
   "metadata": {},
   "outputs": [
    {
     "data": {
      "text/plain": [
       "(tensor([[ 0,  1],\n",
       "         [ 2,  3],\n",
       "         [ 4,  5],\n",
       "         [ 6,  7],\n",
       "         [ 8,  9],\n",
       "         [10, 11],\n",
       "         [12, 13],\n",
       "         [14, 15]]),\n",
       " (tensor([[0, 1],\n",
       "          [2, 3]]),\n",
       "  tensor([[4, 5],\n",
       "          [6, 7]]),\n",
       "  tensor([[ 8,  9],\n",
       "          [10, 11]]),\n",
       "  tensor([[12, 13],\n",
       "          [14, 15]])),\n",
       " (tensor([[0, 1],\n",
       "          [2, 3]]),\n",
       "  tensor([[4, 5],\n",
       "          [6, 7]]),\n",
       "  tensor([[ 8,  9],\n",
       "          [10, 11]]),\n",
       "  tensor([[12, 13],\n",
       "          [14, 15]])),\n",
       " [torch.Size([2, 2]),\n",
       "  torch.Size([2, 2]),\n",
       "  torch.Size([2, 2]),\n",
       "  torch.Size([2, 2])])"
      ]
     },
     "execution_count": 468,
     "metadata": {},
     "output_type": "execute_result"
    }
   ],
   "source": [
    "x = torch.arange(16).reshape(8, 2)\n",
    "y = torch.chunk(x, 4)\n",
    "z = torch.split(x, 2)\n",
    "x, y, z, [_.size() for _ in z]"
   ]
  },
  {
   "cell_type": "code",
   "execution_count": 469,
   "id": "96644277",
   "metadata": {},
   "outputs": [
    {
     "data": {
      "text/plain": [
       "(tensor([[ 0,  1],\n",
       "         [ 2,  3],\n",
       "         [ 4,  5],\n",
       "         [ 6,  7],\n",
       "         [ 8,  9],\n",
       "         [10, 11],\n",
       "         [12, 13],\n",
       "         [14, 15]]),\n",
       " (tensor([[0, 1],\n",
       "          [2, 3],\n",
       "          [4, 5],\n",
       "          [6, 7]]),\n",
       "  tensor([[ 8,  9],\n",
       "          [10, 11],\n",
       "          [12, 13],\n",
       "          [14, 15]])),\n",
       " (tensor([[0, 1],\n",
       "          [2, 3],\n",
       "          [4, 5],\n",
       "          [6, 7]]),\n",
       "  tensor([[ 8,  9],\n",
       "          [10, 11],\n",
       "          [12, 13],\n",
       "          [14, 15]])),\n",
       " [torch.Size([4, 2]), torch.Size([4, 2])])"
      ]
     },
     "execution_count": 469,
     "metadata": {},
     "output_type": "execute_result"
    }
   ],
   "source": [
    "x = torch.arange(16).reshape(8, 2)\n",
    "y = torch.chunk(x, 2)\n",
    "z = torch.split(x, 4)\n",
    "x, y, z, [_.size() for _ in z]"
   ]
  },
  {
   "cell_type": "code",
   "execution_count": 470,
   "id": "cbfe9f22",
   "metadata": {},
   "outputs": [
    {
     "data": {
      "text/plain": [
       "(tensor([[0, 1],\n",
       "         [2, 3],\n",
       "         [4, 5],\n",
       "         [6, 7]]),\n",
       " (tensor([[0],\n",
       "          [2],\n",
       "          [4],\n",
       "          [6]]),\n",
       "  tensor([[1],\n",
       "          [3],\n",
       "          [5],\n",
       "          [7]])),\n",
       " (tensor([[0],\n",
       "          [2],\n",
       "          [4],\n",
       "          [6]]),\n",
       "  tensor([[1],\n",
       "          [3],\n",
       "          [5],\n",
       "          [7]])))"
      ]
     },
     "execution_count": 470,
     "metadata": {},
     "output_type": "execute_result"
    }
   ],
   "source": [
    "x = torch.arange(8).reshape(4, 2)\n",
    "y = torch.chunk(x, 2, dim=1)\n",
    "z = torch.split(x, 1, dim=1)\n",
    "x, y, z\n"
   ]
  },
  {
   "cell_type": "code",
   "execution_count": 471,
   "id": "7b95af79",
   "metadata": {},
   "outputs": [
    {
     "data": {
      "text/plain": [
       "(tensor([[ 0,  1,  2,  3,  4,  5],\n",
       "         [ 6,  7,  8,  9, 10, 11],\n",
       "         [12, 13, 14, 15, 16, 17],\n",
       "         [18, 19, 20, 21, 22, 23]]),\n",
       " (tensor([[ 0,  1,  2,  3,  4,  5],\n",
       "          [ 6,  7,  8,  9, 10, 11],\n",
       "          [12, 13, 14, 15, 16, 17],\n",
       "          [18, 19, 20, 21, 22, 23]]),),\n",
       " (tensor([[ 0],\n",
       "          [ 6],\n",
       "          [12],\n",
       "          [18]]),\n",
       "  tensor([[ 1],\n",
       "          [ 7],\n",
       "          [13],\n",
       "          [19]]),\n",
       "  tensor([[ 2],\n",
       "          [ 8],\n",
       "          [14],\n",
       "          [20]]),\n",
       "  tensor([[ 3],\n",
       "          [ 9],\n",
       "          [15],\n",
       "          [21]]),\n",
       "  tensor([[ 4],\n",
       "          [10],\n",
       "          [16],\n",
       "          [22]]),\n",
       "  tensor([[ 5],\n",
       "          [11],\n",
       "          [17],\n",
       "          [23]])))"
      ]
     },
     "execution_count": 471,
     "metadata": {},
     "output_type": "execute_result"
    }
   ],
   "source": [
    "x = torch.arange(24).reshape(4, 6)\n",
    "y = torch.chunk(x, 1, dim=1)\n",
    "z = torch.split(x, 1, dim=1)\n",
    "x, y, z"
   ]
  },
  {
   "cell_type": "code",
   "execution_count": 472,
   "id": "7e33ad51",
   "metadata": {},
   "outputs": [
    {
     "data": {
      "text/plain": [
       "(tensor([[0, 1],\n",
       "         [2, 3],\n",
       "         [4, 5],\n",
       "         [6, 7]]),\n",
       " (tensor([[0],\n",
       "          [2],\n",
       "          [4],\n",
       "          [6]]),\n",
       "  tensor([[1],\n",
       "          [3],\n",
       "          [5],\n",
       "          [7]])),\n",
       " (tensor([[0, 1],\n",
       "          [2, 3],\n",
       "          [4, 5],\n",
       "          [6, 7]]),))"
      ]
     },
     "execution_count": 472,
     "metadata": {},
     "output_type": "execute_result"
    }
   ],
   "source": [
    "x = torch.arange(8).reshape(4, 2)\n",
    "y = torch.chunk(x, 2, dim=1)\n",
    "z = torch.split(x, 2, dim=1)\n",
    "x, y, z\n"
   ]
  },
  {
   "cell_type": "code",
   "execution_count": 473,
   "id": "e29441f3",
   "metadata": {},
   "outputs": [
    {
     "data": {
      "text/plain": [
       "(tensor([[0, 1],\n",
       "         [2, 3],\n",
       "         [4, 5],\n",
       "         [6, 7]]),\n",
       " (tensor([[0],\n",
       "          [2],\n",
       "          [4],\n",
       "          [6]]),\n",
       "  tensor([[1],\n",
       "          [3],\n",
       "          [5],\n",
       "          [7]])),\n",
       " (tensor([[0, 1],\n",
       "          [2, 3],\n",
       "          [4, 5],\n",
       "          [6, 7]]),))"
      ]
     },
     "execution_count": 473,
     "metadata": {},
     "output_type": "execute_result"
    }
   ],
   "source": [
    "x = torch.arange(8).reshape(4, 2)\n",
    "y = torch.chunk(x, 4, dim=1)\n",
    "z = torch.split(x, 5, dim=1)\n",
    "x, y, z"
   ]
  },
  {
   "cell_type": "code",
   "execution_count": 474,
   "id": "47fd5b9c",
   "metadata": {},
   "outputs": [
    {
     "data": {
      "text/plain": [
       "(tensor([[ 0,  1,  2,  3],\n",
       "         [ 4,  5,  6,  7],\n",
       "         [ 8,  9, 10, 11],\n",
       "         [12, 13, 14, 15]]),\n",
       " (tensor([[ 0,  1],\n",
       "          [ 4,  5],\n",
       "          [ 8,  9],\n",
       "          [12, 13]]),\n",
       "  tensor([[ 2,  3],\n",
       "          [ 6,  7],\n",
       "          [10, 11],\n",
       "          [14, 15]])),\n",
       " (tensor([[ 0,  1],\n",
       "          [ 4,  5],\n",
       "          [ 8,  9],\n",
       "          [12, 13]]),\n",
       "  tensor([[ 2,  3],\n",
       "          [ 6,  7],\n",
       "          [10, 11],\n",
       "          [14, 15]])))"
      ]
     },
     "execution_count": 474,
     "metadata": {},
     "output_type": "execute_result"
    }
   ],
   "source": [
    "x = torch.arange(16).reshape(4, 4)\n",
    "y = torch.chunk(x, 2, dim=1)\n",
    "z = torch.split(x, 2, dim=1)\n",
    "x, y, z"
   ]
  },
  {
   "cell_type": "code",
   "execution_count": 475,
   "id": "a204422d",
   "metadata": {},
   "outputs": [
    {
     "data": {
      "text/plain": [
       "(tensor([[ 0,  1,  2,  3],\n",
       "         [ 4,  5,  6,  7],\n",
       "         [ 8,  9, 10, 11],\n",
       "         [12, 13, 14, 15]]),\n",
       " (tensor([[ 0,  1],\n",
       "          [ 4,  5],\n",
       "          [ 8,  9],\n",
       "          [12, 13]]),\n",
       "  tensor([[ 2,  3],\n",
       "          [ 6,  7],\n",
       "          [10, 11],\n",
       "          [14, 15]])),\n",
       " (tensor([[ 0,  1,  2],\n",
       "          [ 4,  5,  6],\n",
       "          [ 8,  9, 10],\n",
       "          [12, 13, 14]]),\n",
       "  tensor([[ 3],\n",
       "          [ 7],\n",
       "          [11],\n",
       "          [15]])),\n",
       " 2,\n",
       " 2)"
      ]
     },
     "execution_count": 475,
     "metadata": {},
     "output_type": "execute_result"
    }
   ],
   "source": [
    "x = torch.arange(16).reshape(4, 4)\n",
    "y = torch.chunk(x, 3, dim=1)\n",
    "z = torch.split(x, 3, dim=1)\n",
    "x, y, z, len(y), len(z)\n"
   ]
  },
  {
   "cell_type": "code",
   "execution_count": 476,
   "id": "eb681ba0",
   "metadata": {},
   "outputs": [
    {
     "data": {
      "text/plain": [
       "tensor([[ 0,  1,  2,  3],\n",
       "        [ 4,  5,  6,  7],\n",
       "        [ 8,  9, 10, 11],\n",
       "        [12, 13, 14, 15]])"
      ]
     },
     "execution_count": 476,
     "metadata": {},
     "output_type": "execute_result"
    }
   ],
   "source": [
    "x = torch.arange(16).reshape(4, 4)\n",
    "x"
   ]
  },
  {
   "cell_type": "code",
   "execution_count": 477,
   "id": "ab9fbab2",
   "metadata": {},
   "outputs": [
    {
     "data": {
      "text/plain": [
       "(tensor([[ 0,  1],\n",
       "         [ 4,  5],\n",
       "         [ 8,  9],\n",
       "         [12, 13]]),\n",
       " tensor([[ 2,  3],\n",
       "         [ 6,  7],\n",
       "         [10, 11],\n",
       "         [14, 15]]))"
      ]
     },
     "execution_count": 477,
     "metadata": {},
     "output_type": "execute_result"
    }
   ],
   "source": [
    "y = torch.chunk(x, 3, dim=1)\n",
    "y"
   ]
  },
  {
   "cell_type": "code",
   "execution_count": 478,
   "id": "ea4c80ad",
   "metadata": {},
   "outputs": [
    {
     "data": {
      "text/plain": [
       "(tensor([[ 0],\n",
       "         [ 4],\n",
       "         [ 8],\n",
       "         [12]]),\n",
       " tensor([[ 1,  2,  3],\n",
       "         [ 5,  6,  7],\n",
       "         [ 9, 10, 11],\n",
       "         [13, 14, 15]]))"
      ]
     },
     "execution_count": 478,
     "metadata": {},
     "output_type": "execute_result"
    }
   ],
   "source": [
    "# z = torch.split(x, (1, 2), dim=1) # error\n",
    "z = torch.split(x, (1, 3), dim=1) # split size 2. 1 + 3 = 4\n",
    "z"
   ]
  },
  {
   "cell_type": "code",
   "execution_count": 479,
   "id": "6e224a7f",
   "metadata": {},
   "outputs": [
    {
     "data": {
      "text/plain": [
       "(tensor([[ 0],\n",
       "         [ 4],\n",
       "         [ 8],\n",
       "         [12]]),\n",
       " tensor([[ 1,  2,  3],\n",
       "         [ 5,  6,  7],\n",
       "         [ 9, 10, 11],\n",
       "         [13, 14, 15]]),\n",
       " tensor([], size=(4, 0), dtype=torch.int64))"
      ]
     },
     "execution_count": 479,
     "metadata": {},
     "output_type": "execute_result"
    }
   ],
   "source": [
    "w = torch.tensor_split(x, (1, 4), dim=1)\n",
    "w"
   ]
  },
  {
   "cell_type": "code",
   "execution_count": 480,
   "id": "bbce1a2e",
   "metadata": {},
   "outputs": [
    {
     "name": "stdout",
     "output_type": "stream",
     "text": [
      "tensor([[ 0,  1,  2,  3,  4,  5,  6,  7],\n",
      "        [ 8,  9, 10, 11, 12, 13, 14, 15],\n",
      "        [16, 17, 18, 19, 20, 21, 22, 23],\n",
      "        [24, 25, 26, 27, 28, 29, 30, 31]])\n",
      "(tensor([[ 0,  1,  2],\n",
      "        [ 8,  9, 10],\n",
      "        [16, 17, 18],\n",
      "        [24, 25, 26]]), tensor([[ 3,  4,  5],\n",
      "        [11, 12, 13],\n",
      "        [19, 20, 21],\n",
      "        [27, 28, 29]]), tensor([[ 6,  7],\n",
      "        [14, 15],\n",
      "        [22, 23],\n",
      "        [30, 31]]))\n",
      "z\n",
      "(tensor([[ 0],\n",
      "        [ 8],\n",
      "        [16],\n",
      "        [24]]), tensor([[ 1,  2,  3],\n",
      "        [ 9, 10, 11],\n",
      "        [17, 18, 19],\n",
      "        [25, 26, 27]]), tensor([[ 4,  5,  6,  7],\n",
      "        [12, 13, 14, 15],\n",
      "        [20, 21, 22, 23],\n",
      "        [28, 29, 30, 31]]))\n",
      "w \n",
      "(tensor([[ 0],\n",
      "        [ 8],\n",
      "        [16],\n",
      "        [24]]), tensor([[ 1,  2,  3],\n",
      "        [ 9, 10, 11],\n",
      "        [17, 18, 19],\n",
      "        [25, 26, 27]]), tensor([[ 4,  5,  6,  7],\n",
      "        [12, 13, 14, 15],\n",
      "        [20, 21, 22, 23],\n",
      "        [28, 29, 30, 31]]))\n"
     ]
    }
   ],
   "source": [
    "x = torch.arange(32).reshape(4, 8)\n",
    "y = torch.chunk(x, 3, dim=1)\n",
    "# z = torch.split(x, (1, 2), dim=1) # error\n",
    "z = torch.split(x, (1, 3, 4), dim=1) # split size 2. 1 + 3 +4= 8 # choose tensor with length 1, 3, 4\n",
    "w = torch.tensor_split(x, (1, 4), dim=1)\n",
    "print(x)\n",
    "print(y)\n",
    "print(\"z\")\n",
    "print(z)\n",
    "print(\"w \")\n",
    "print(w)"
   ]
  },
  {
   "cell_type": "code",
   "execution_count": 481,
   "id": "581f836a",
   "metadata": {},
   "outputs": [
    {
     "data": {
      "text/plain": [
       "(tensor([[ 0,  1,  2],\n",
       "         [ 3,  4,  5],\n",
       "         [ 6,  7,  8],\n",
       "         [ 9, 10, 11],\n",
       "         [12, 13, 14],\n",
       "         [15, 16, 17],\n",
       "         [18, 19, 20],\n",
       "         [21, 22, 23],\n",
       "         [24, 25, 26]]),\n",
       " (tensor([[ 0],\n",
       "          [ 3],\n",
       "          [ 6],\n",
       "          [ 9],\n",
       "          [12],\n",
       "          [15],\n",
       "          [18],\n",
       "          [21],\n",
       "          [24]]),\n",
       "  tensor([[ 1],\n",
       "          [ 4],\n",
       "          [ 7],\n",
       "          [10],\n",
       "          [13],\n",
       "          [16],\n",
       "          [19],\n",
       "          [22],\n",
       "          [25]]),\n",
       "  tensor([[ 2],\n",
       "          [ 5],\n",
       "          [ 8],\n",
       "          [11],\n",
       "          [14],\n",
       "          [17],\n",
       "          [20],\n",
       "          [23],\n",
       "          [26]])),\n",
       " (tensor([[ 0,  1,  2],\n",
       "          [ 3,  4,  5],\n",
       "          [ 6,  7,  8],\n",
       "          [ 9, 10, 11],\n",
       "          [12, 13, 14],\n",
       "          [15, 16, 17],\n",
       "          [18, 19, 20],\n",
       "          [21, 22, 23],\n",
       "          [24, 25, 26]]),),\n",
       " 1)"
      ]
     },
     "execution_count": 481,
     "metadata": {},
     "output_type": "execute_result"
    }
   ],
   "source": [
    "x = torch.arange(27).reshape(9, 3)\n",
    "y = torch.chunk(x, 3, dim=1)\n",
    "z = torch.split(x, 3, dim=1)\n",
    "x, y, z, len(z)"
   ]
  },
  {
   "cell_type": "code",
   "execution_count": 482,
   "id": "d29d18cb",
   "metadata": {},
   "outputs": [
    {
     "data": {
      "text/plain": [
       "(tensor([[ 0,  1,  2],\n",
       "         [ 3,  4,  5],\n",
       "         [ 6,  7,  8],\n",
       "         [ 9, 10, 11],\n",
       "         [12, 13, 14],\n",
       "         [15, 16, 17],\n",
       "         [18, 19, 20],\n",
       "         [21, 22, 23],\n",
       "         [24, 25, 26]]),\n",
       " (tensor([[ 0],\n",
       "          [ 3],\n",
       "          [ 6],\n",
       "          [ 9],\n",
       "          [12],\n",
       "          [15],\n",
       "          [18],\n",
       "          [21],\n",
       "          [24]]),\n",
       "  tensor([[ 1],\n",
       "          [ 4],\n",
       "          [ 7],\n",
       "          [10],\n",
       "          [13],\n",
       "          [16],\n",
       "          [19],\n",
       "          [22],\n",
       "          [25]]),\n",
       "  tensor([[ 2],\n",
       "          [ 5],\n",
       "          [ 8],\n",
       "          [11],\n",
       "          [14],\n",
       "          [17],\n",
       "          [20],\n",
       "          [23],\n",
       "          [26]])),\n",
       " (tensor([[ 0,  1],\n",
       "          [ 3,  4],\n",
       "          [ 6,  7],\n",
       "          [ 9, 10],\n",
       "          [12, 13],\n",
       "          [15, 16],\n",
       "          [18, 19],\n",
       "          [21, 22],\n",
       "          [24, 25]]),\n",
       "  tensor([[ 2],\n",
       "          [ 5],\n",
       "          [ 8],\n",
       "          [11],\n",
       "          [14],\n",
       "          [17],\n",
       "          [20],\n",
       "          [23],\n",
       "          [26]])))"
      ]
     },
     "execution_count": 482,
     "metadata": {},
     "output_type": "execute_result"
    }
   ],
   "source": [
    "x = torch.arange(27).reshape(9, 3)\n",
    "y = torch.chunk(x, 3, dim=1)\n",
    "z = torch.split(x, 2, dim=1)\n",
    "x, y, z\n"
   ]
  },
  {
   "cell_type": "code",
   "execution_count": 483,
   "id": "6c269204",
   "metadata": {},
   "outputs": [
    {
     "data": {
      "text/plain": [
       "(2.3333333333333335,\n",
       " 2,\n",
       " tensor([ 0,  1,  2,  3,  4,  5,  6,  7,  8,  9, 10, 11, 12, 13]),\n",
       " (tensor([0, 1, 2]),\n",
       "  tensor([3, 4, 5]),\n",
       "  tensor([6, 7, 8]),\n",
       "  tensor([ 9, 10, 11]),\n",
       "  tensor([12, 13])),\n",
       " (tensor([0, 1, 2]),\n",
       "  tensor([3, 4, 5]),\n",
       "  tensor([6, 7]),\n",
       "  tensor([8, 9]),\n",
       "  tensor([10, 11]),\n",
       "  tensor([12, 13])),\n",
       " (tensor([0, 1, 2, 3]),\n",
       "  tensor([4, 5, 6, 7]),\n",
       "  tensor([ 8,  9, 10, 11]),\n",
       "  tensor([12, 13])),\n",
       " 5,\n",
       " 6,\n",
       " 4)"
      ]
     },
     "execution_count": 483,
     "metadata": {},
     "output_type": "execute_result"
    }
   ],
   "source": [
    "x = torch.arange(14)\n",
    "y = x.chunk(6)\n",
    "z = x.tensor_split(6)\n",
    "w = x.split(4)\n",
    "14/6, 14//6, x, y, z, w, len(y), len(z), len(w)"
   ]
  },
  {
   "cell_type": "code",
   "execution_count": 484,
   "id": "0eb79e0c",
   "metadata": {},
   "outputs": [
    {
     "data": {
      "text/plain": [
       "(tensor([[ 0,  1,  2,  3,  4,  5,  6,  7,  8,  9, 10, 11],\n",
       "         [12, 13, 14, 15, 16, 17, 18, 19, 20, 21, 22, 23]]),\n",
       " (tensor([[ 0,  1,  2,  3,  4],\n",
       "          [12, 13, 14, 15, 16]]),\n",
       "  tensor([[ 5,  6,  7,  8,  9],\n",
       "          [17, 18, 19, 20, 21]]),\n",
       "  tensor([[10, 11],\n",
       "          [22, 23]])))"
      ]
     },
     "execution_count": 484,
     "metadata": {},
     "output_type": "execute_result"
    }
   ],
   "source": [
    "x = torch.arange(24).reshape(2, 12)\n",
    "y = torch.split(x, 5, dim=-1)\n",
    "x, y"
   ]
  },
  {
   "cell_type": "code",
   "execution_count": 485,
   "id": "29a3f5bd",
   "metadata": {},
   "outputs": [
    {
     "data": {
      "text/plain": [
       "([tensor([0]),\n",
       "  tensor([1]),\n",
       "  tensor([2]),\n",
       "  tensor([3]),\n",
       "  tensor([4]),\n",
       "  tensor([5]),\n",
       "  tensor([6]),\n",
       "  tensor([7]),\n",
       "  tensor([8]),\n",
       "  tensor([9])],\n",
       " tensor([0, 1, 2, 3, 4, 5, 6, 7, 8, 9]))"
      ]
     },
     "execution_count": 485,
     "metadata": {},
     "output_type": "execute_result"
    }
   ],
   "source": [
    "x = [torch.tensor([i]) for i in range(10)]\n",
    "y = torch.cat(x)\n",
    "x, y"
   ]
  },
  {
   "cell_type": "code",
   "execution_count": 486,
   "id": "72a8bb2c",
   "metadata": {},
   "outputs": [
    {
     "data": {
      "text/plain": [
       "(torch.Size([8, 3]), torch.Size([4, 6]), torch.Size([2, 4, 3]))"
      ]
     },
     "execution_count": 486,
     "metadata": {},
     "output_type": "execute_result"
    }
   ],
   "source": [
    "x = torch.rand((4, 3))\n",
    "y = torch.randn((4, 3))\n",
    "z = torch.cat([x, y], axis=0)\n",
    "w = torch.cat([x, y], axis=1)\n",
    "u = torch.stack([x, y])\n",
    "\n",
    "z.shape, w.shape, u.shape"
   ]
  },
  {
   "cell_type": "code",
   "execution_count": 487,
   "id": "0024c9a6",
   "metadata": {},
   "outputs": [
    {
     "data": {
      "text/plain": [
       "tensor([[ 0.1385,  0.9382,  0.4488],\n",
       "        [ 0.5681,  0.6448,  0.1155],\n",
       "        [ 0.8566,  0.1693,  0.0540],\n",
       "        [ 0.5942,  0.6414,  0.8605],\n",
       "        [-0.0573, -0.5266, -0.3605],\n",
       "        [-1.2083, -1.4945,  0.6655],\n",
       "        [-1.1147, -0.4674,  1.5830],\n",
       "        [ 0.7387, -1.4656,  0.6556]])"
      ]
     },
     "execution_count": 487,
     "metadata": {},
     "output_type": "execute_result"
    }
   ],
   "source": [
    "z"
   ]
  },
  {
   "cell_type": "code",
   "execution_count": 488,
   "id": "5cac57da",
   "metadata": {},
   "outputs": [
    {
     "data": {
      "text/plain": [
       "tensor([[[ 0.1385,  0.9382,  0.4488],\n",
       "         [ 0.5681,  0.6448,  0.1155],\n",
       "         [ 0.8566,  0.1693,  0.0540],\n",
       "         [ 0.5942,  0.6414,  0.8605]],\n",
       "\n",
       "        [[-0.0573, -0.5266, -0.3605],\n",
       "         [-1.2083, -1.4945,  0.6655],\n",
       "         [-1.1147, -0.4674,  1.5830],\n",
       "         [ 0.7387, -1.4656,  0.6556]]])"
      ]
     },
     "execution_count": 488,
     "metadata": {},
     "output_type": "execute_result"
    }
   ],
   "source": [
    "u"
   ]
  },
  {
   "cell_type": "code",
   "execution_count": 489,
   "id": "5915bf52",
   "metadata": {},
   "outputs": [
    {
     "data": {
      "text/plain": [
       "(torch.Size([8, 3]), torch.Size([4, 2, 3]))"
      ]
     },
     "execution_count": 489,
     "metadata": {},
     "output_type": "execute_result"
    }
   ],
   "source": [
    "x = torch.rand((4, 3))\n",
    "y = torch.randn((4, 3))\n",
    "z = torch.cat([x, y], axis=0)\n",
    "u = torch.stack([x, y], dim=1)\n",
    "\n",
    "z.shape, u.shape"
   ]
  },
  {
   "cell_type": "code",
   "execution_count": 490,
   "id": "aefb0857",
   "metadata": {},
   "outputs": [
    {
     "data": {
      "text/plain": [
       "(torch.Size([8, 3]), torch.Size([4, 3, 2]))"
      ]
     },
     "execution_count": 490,
     "metadata": {},
     "output_type": "execute_result"
    }
   ],
   "source": [
    "x = torch.rand((4, 3))\n",
    "y = torch.randn((4, 3))\n",
    "z = torch.cat([x, y], axis=0)\n",
    "u = torch.stack([x, y], dim=-1)\n",
    "\n",
    "z.shape, u.shape"
   ]
  },
  {
   "cell_type": "code",
   "execution_count": 491,
   "id": "61b30073",
   "metadata": {},
   "outputs": [
    {
     "data": {
      "text/plain": [
       "(torch.Size([3]),\n",
       " torch.Size([3]),\n",
       " torch.Size([1, 3, 2]),\n",
       " tensor([[[1, 4],\n",
       "          [2, 5],\n",
       "          [3, 6]]]))"
      ]
     },
     "execution_count": 491,
     "metadata": {},
     "output_type": "execute_result"
    }
   ],
   "source": [
    "a = torch.tensor([1, 2, 3])\n",
    "b = torch.tensor([4, 5, 6])\n",
    "z = torch.dstack((a,b))\n",
    "a.shape, b.shape, z.shape, z"
   ]
  },
  {
   "cell_type": "code",
   "execution_count": 492,
   "id": "15221de1",
   "metadata": {},
   "outputs": [
    {
     "data": {
      "text/plain": [
       "(torch.Size([3]),\n",
       " torch.Size([3]),\n",
       " torch.Size([3]),\n",
       " torch.Size([1, 3, 3]),\n",
       " tensor([[[1, 4, 7],\n",
       "          [2, 5, 8],\n",
       "          [3, 6, 9]]]))"
      ]
     },
     "execution_count": 492,
     "metadata": {},
     "output_type": "execute_result"
    }
   ],
   "source": [
    "a = torch.tensor([1, 2, 3])\n",
    "b = torch.tensor([4, 5, 6])\n",
    "c = b + 3\n",
    "z = torch.dstack((a,b, c))\n",
    "a.shape, b.shape, c.shape, z.shape, z"
   ]
  },
  {
   "cell_type": "code",
   "execution_count": 493,
   "id": "07665bf5",
   "metadata": {},
   "outputs": [
    {
     "data": {
      "text/plain": [
       "(torch.Size([2, 4, 3, 2]),\n",
       " torch.Size([2, 4, 6, 2]),\n",
       " torch.Size([2, 4, 9, 2]),\n",
       " [torch.Size([2, 4, 5, 2]), torch.Size([2, 4, 4, 2])])"
      ]
     },
     "execution_count": 493,
     "metadata": {},
     "output_type": "execute_result"
    }
   ],
   "source": [
    "a = torch.randn(2, 4, 3, 2)\n",
    "b = torch.randn(2, 4, 6, 2)\n",
    "z = torch.dstack((a,b))\n",
    "a.shape, b.shape,  z.shape, [_.size() for _ in z.tensor_split(2, 2)]"
   ]
  },
  {
   "cell_type": "code",
   "execution_count": 494,
   "id": "8eaa1e0e",
   "metadata": {},
   "outputs": [
    {
     "data": {
      "text/plain": [
       "(torch.Size([3, 4]), torch.Size([3, 4]), torch.Size([3, 4, 2]))"
      ]
     },
     "execution_count": 494,
     "metadata": {},
     "output_type": "execute_result"
    }
   ],
   "source": [
    "a = torch.randn(3, 4,)\n",
    "b = torch.randn(3, 4,)\n",
    "z = torch.dstack((a,b))\n",
    "a.shape, b.shape,  z.shape"
   ]
  },
  {
   "cell_type": "code",
   "execution_count": 495,
   "id": "b9f5b5c4",
   "metadata": {},
   "outputs": [
    {
     "data": {
      "text/plain": [
       "(tensor([1, 2, 3]), tensor([4, 5, 6]), tensor([1, 2, 3, 4, 5, 6]))"
      ]
     },
     "execution_count": 495,
     "metadata": {},
     "output_type": "execute_result"
    }
   ],
   "source": [
    "x = torch.tensor([1, 2, 3])\n",
    "y = torch.tensor([4, 5, 6])\n",
    "z = torch.hstack([x, y])\n",
    "\n",
    "x, y, z"
   ]
  },
  {
   "cell_type": "code",
   "execution_count": 496,
   "id": "afbabaf5",
   "metadata": {},
   "outputs": [
    {
     "data": {
      "text/plain": [
       "torch.Size([2, 2, 3, 5])"
      ]
     },
     "execution_count": 496,
     "metadata": {},
     "output_type": "execute_result"
    }
   ],
   "source": [
    "x = torch.randn((2, 3, 5))\n",
    "y = torch.randn((2, 3, 5))\n",
    "\n",
    "z = torch.stack([x, y])\n",
    "z.shape"
   ]
  },
  {
   "cell_type": "code",
   "execution_count": 497,
   "id": "3b7aa047",
   "metadata": {},
   "outputs": [
    {
     "data": {
      "text/plain": [
       "(torch.Size([2, 3, 10]), torch.Size([2, 2, 3, 5]))"
      ]
     },
     "execution_count": 497,
     "metadata": {},
     "output_type": "execute_result"
    }
   ],
   "source": [
    "x = torch.randn((2, 3, 5))\n",
    "y = torch.randn((2, 3, 5))\n",
    "\n",
    "z = torch.dstack([x, y])\n",
    "w = torch.stack([x, y])\n",
    "z.shape, w.shape"
   ]
  },
  {
   "cell_type": "code",
   "execution_count": 498,
   "id": "b08d01c7",
   "metadata": {},
   "outputs": [
    {
     "data": {
      "text/plain": [
       "(torch.Size([2, 3, 20]), torch.Size([2, 3, 20]), True)"
      ]
     },
     "execution_count": 498,
     "metadata": {},
     "output_type": "execute_result"
    }
   ],
   "source": [
    "x = torch.randn((2, 3, 5))\n",
    "y = torch.randn((2, 3, 15))\n",
    "\n",
    "z = torch.dstack([x, y])\n",
    "# w = torch.stack([x, y]) # error\n",
    "w = torch.cat((x, y), dim=-1)\n",
    "z.shape, w.shape, (w == z).all().item()"
   ]
  },
  {
   "cell_type": "code",
   "execution_count": 499,
   "id": "a920b5a1",
   "metadata": {},
   "outputs": [
    {
     "data": {
      "text/plain": [
       "(torch.Size([2, 6, 5]), torch.Size([2, 2, 3, 5]))"
      ]
     },
     "execution_count": 499,
     "metadata": {},
     "output_type": "execute_result"
    }
   ],
   "source": [
    "x = torch.randn((2, 3, 5))\n",
    "y = torch.randn((2, 3, 5))\n",
    "\n",
    "z = torch.hstack([x, y])\n",
    "w = torch.stack([x, y]) \n",
    "\n",
    "z.shape, w.shape"
   ]
  },
  {
   "cell_type": "code",
   "execution_count": 500,
   "id": "32ca92f1",
   "metadata": {},
   "outputs": [
    {
     "data": {
      "text/plain": [
       "(torch.Size([2, 6]), torch.Size([2, 2, 3]))"
      ]
     },
     "execution_count": 500,
     "metadata": {},
     "output_type": "execute_result"
    }
   ],
   "source": [
    "x = torch.randn((2, 3))\n",
    "y = torch.randn((2, 3))\n",
    "\n",
    "z = torch.hstack([x, y])\n",
    "w = torch.stack([x, y]) \n",
    "\n",
    "z.shape, w.shape"
   ]
  },
  {
   "cell_type": "code",
   "execution_count": 501,
   "id": "f2759a2b",
   "metadata": {},
   "outputs": [
    {
     "data": {
      "text/plain": [
       "(torch.Size([6]), torch.Size([2, 3]))"
      ]
     },
     "execution_count": 501,
     "metadata": {},
     "output_type": "execute_result"
    }
   ],
   "source": [
    "x = torch.randn((3))\n",
    "y = torch.randn((3))\n",
    "\n",
    "z = torch.hstack([x, y])\n",
    "w = torch.stack([x, y]) \n",
    "\n",
    "z.shape, w.shape"
   ]
  },
  {
   "cell_type": "code",
   "execution_count": 502,
   "id": "6b084fba",
   "metadata": {},
   "outputs": [
    {
     "data": {
      "text/plain": [
       "torch.Size([2, 16, 5, 10])"
      ]
     },
     "execution_count": 502,
     "metadata": {},
     "output_type": "execute_result"
    }
   ],
   "source": [
    "x = torch.randn((2, 3, 5, 10))\n",
    "y = torch.randn((2, 13, 5, 10))\n",
    "\n",
    "z = torch.hstack([x, y])\n",
    "\n",
    "z.shape"
   ]
  },
  {
   "cell_type": "code",
   "execution_count": 503,
   "id": "2b825799",
   "metadata": {},
   "outputs": [
    {
     "data": {
      "text/plain": [
       "(tensor([[0, 1],\n",
       "         [2, 3],\n",
       "         [4, 5],\n",
       "         [6, 7]]),\n",
       " tensor([[ 0,  1,  2,  3,  4],\n",
       "         [ 5,  6,  7,  8,  9],\n",
       "         [10, 11, 12, 13, 14],\n",
       "         [15, 16, 17, 18, 19]]),\n",
       " tensor([[ 0,  1,  0,  1,  2,  3,  4],\n",
       "         [ 2,  3,  5,  6,  7,  8,  9],\n",
       "         [ 4,  5, 10, 11, 12, 13, 14],\n",
       "         [ 6,  7, 15, 16, 17, 18, 19]]))"
      ]
     },
     "execution_count": 503,
     "metadata": {},
     "output_type": "execute_result"
    }
   ],
   "source": [
    "x = torch.arange(8).reshape(4, 2)\n",
    "y = torch.arange(20).reshape(4, 5)\n",
    "\n",
    "z = torch.hstack([x, y])\n",
    "\n",
    "x, y, z"
   ]
  },
  {
   "cell_type": "code",
   "execution_count": 504,
   "id": "631628b1",
   "metadata": {},
   "outputs": [
    {
     "data": {
      "text/plain": [
       "(tensor([1, 2, 3]),\n",
       " tensor([4, 5, 6]),\n",
       " tensor([[1, 2, 3],\n",
       "         [4, 5, 6]]),\n",
       " torch.Size([2, 3]))"
      ]
     },
     "execution_count": 504,
     "metadata": {},
     "output_type": "execute_result"
    }
   ],
   "source": [
    "x = torch.tensor([1, 2, 3])\n",
    "y = torch.tensor([4, 5, 6])\n",
    "z = torch.vstack([x, y])\n",
    "\n",
    "x, y, z, z.shape"
   ]
  },
  {
   "cell_type": "code",
   "execution_count": 505,
   "id": "c932e302",
   "metadata": {},
   "outputs": [
    {
     "data": {
      "text/plain": [
       "torch.Size([14, 3, 5, 10])"
      ]
     },
     "execution_count": 505,
     "metadata": {},
     "output_type": "execute_result"
    }
   ],
   "source": [
    "x = torch.randn((2, 3, 5, 10))\n",
    "y = torch.randn((12, 3, 5, 10))\n",
    "z = torch.vstack([x, y])\n",
    "\n",
    "z.shape"
   ]
  },
  {
   "cell_type": "code",
   "execution_count": 1211,
   "id": "98e985bb",
   "metadata": {},
   "outputs": [
    {
     "data": {
      "text/plain": [
       "(torch.Size([2, 12, 5, 10]), torch.Size([2, 12, 5, 10]))"
      ]
     },
     "execution_count": 1211,
     "metadata": {},
     "output_type": "execute_result"
    }
   ],
   "source": [
    "x = torch.randn((2, 3, 5, 10))\n",
    "y = torch.randn((2, 9, 5, 10))\n",
    "z = torch.column_stack([x, y])\n",
    "\n",
    "z.shape, torch.hstack([x, y]).size()"
   ]
  },
  {
   "cell_type": "code",
   "execution_count": 507,
   "id": "00103f81",
   "metadata": {},
   "outputs": [
    {
     "data": {
      "text/plain": [
       "(tensor([ 1.6030, -0.6286, -0.1103, -0.3636,  3.1615]),\n",
       " tensor([[ 1.2750, -0.6041],\n",
       "         [ 0.7774, -0.4993],\n",
       "         [-2.4730, -0.0056],\n",
       "         [ 0.0678, -0.4279],\n",
       "         [ 0.7685,  1.2232]]),\n",
       " tensor([[ 1.6030,  1.2750, -0.6041],\n",
       "         [-0.6286,  0.7774, -0.4993],\n",
       "         [-0.1103, -2.4730, -0.0056],\n",
       "         [-0.3636,  0.0678, -0.4279],\n",
       "         [ 3.1615,  0.7685,  1.2232]]))"
      ]
     },
     "execution_count": 507,
     "metadata": {},
     "output_type": "execute_result"
    }
   ],
   "source": [
    "x = torch.randn((5, )) \n",
    "y = torch.randn((5, 2))\n",
    "z = torch.column_stack([x, y])  # same as hstack but can use column x instead of x of shape 5, 1\n",
    "\n",
    "x, y, z"
   ]
  },
  {
   "cell_type": "code",
   "execution_count": 508,
   "id": "4a76b433",
   "metadata": {},
   "outputs": [
    {
     "data": {
      "text/plain": [
       "(tensor([-2.9608, -0.4511,  0.2548,  0.7277, -1.4189]),\n",
       " tensor([-1.8819, -0.2044,  1.1399, -1.0333,  1.4107]),\n",
       " tensor([[-2.9608, -1.8819],\n",
       "         [-0.4511, -0.2044],\n",
       "         [ 0.2548,  1.1399],\n",
       "         [ 0.7277, -1.0333],\n",
       "         [-1.4189,  1.4107]]))"
      ]
     },
     "execution_count": 508,
     "metadata": {},
     "output_type": "execute_result"
    }
   ],
   "source": [
    "x = torch.randn((5, )) \n",
    "y = torch.randn((5))\n",
    "\n",
    "z = torch.column_stack([x, y])  # same as hstack but can use column x instead of x of shape 5, 1\n",
    "\n",
    "x, y, z"
   ]
  },
  {
   "cell_type": "code",
   "execution_count": 509,
   "id": "cfe1c75c",
   "metadata": {},
   "outputs": [
    {
     "data": {
      "text/plain": [
       "(tensor([[-0.0431,  0.4065, -0.7238],\n",
       "         [-0.4569, -0.1475,  2.3853],\n",
       "         [ 0.7860, -1.2873,  0.1151],\n",
       "         [ 2.3212, -1.2334, -0.8420],\n",
       "         [-1.0510,  0.8425,  2.2077]]),\n",
       " tensor([[-1.0854, -0.8205],\n",
       "         [-0.9836, -1.3838],\n",
       "         [ 0.3352, -1.0652],\n",
       "         [ 0.5570, -1.1763],\n",
       "         [-0.3040,  0.1077]]),\n",
       " tensor([-0.2663, -0.0613,  2.2612, -1.3886,  0.2945]),\n",
       " tensor([[-0.0431,  0.4065, -0.7238, -1.0854, -0.8205, -0.2663],\n",
       "         [-0.4569, -0.1475,  2.3853, -0.9836, -1.3838, -0.0613],\n",
       "         [ 0.7860, -1.2873,  0.1151,  0.3352, -1.0652,  2.2612],\n",
       "         [ 2.3212, -1.2334, -0.8420,  0.5570, -1.1763, -1.3886],\n",
       "         [-1.0510,  0.8425,  2.2077, -0.3040,  0.1077,  0.2945]]))"
      ]
     },
     "execution_count": 509,
     "metadata": {},
     "output_type": "execute_result"
    }
   ],
   "source": [
    "x = torch.randn((5, 3)) \n",
    "y = torch.randn((5, 2))\n",
    "w = torch.randn((5, ))\n",
    "z = torch.column_stack([x, y, w])  # same as hstack but can use column x instead of x of shape 5, 1\n",
    "\n",
    "x, y, w, z"
   ]
  },
  {
   "cell_type": "code",
   "execution_count": 510,
   "id": "81a62f4c",
   "metadata": {},
   "outputs": [
    {
     "data": {
      "text/plain": [
       "tensor([[-0.0431, -0.4569,  0.7860,  2.3212, -1.0510],\n",
       "        [ 0.4065, -0.1475, -1.2873, -1.2334,  0.8425],\n",
       "        [-0.7238,  2.3853,  0.1151, -0.8420,  2.2077]])"
      ]
     },
     "execution_count": 510,
     "metadata": {},
     "output_type": "execute_result"
    }
   ],
   "source": [
    "x.T"
   ]
  },
  {
   "cell_type": "code",
   "execution_count": 511,
   "id": "fec6a7f7",
   "metadata": {},
   "outputs": [
    {
     "data": {
      "text/plain": [
       "(tensor([[1, 2],\n",
       "         [3, 4]]),\n",
       " tensor([[1, 2],\n",
       "         [3, 4]]))"
      ]
     },
     "execution_count": 511,
     "metadata": {},
     "output_type": "execute_result"
    }
   ],
   "source": [
    "t = torch.tensor([[1, 2], [3, 4]])\n",
    "t, torch.gather(t, 0, torch.tensor([[0, 0], [1, 1]]))"
   ]
  },
  {
   "cell_type": "code",
   "execution_count": 1212,
   "id": "c67ddf93",
   "metadata": {},
   "outputs": [
    {
     "data": {
      "text/plain": [
       "(tensor([[1, 2],\n",
       "         [3, 2]]),\n",
       " tensor([[1, 1],\n",
       "         [4, 3]]))"
      ]
     },
     "execution_count": 1212,
     "metadata": {},
     "output_type": "execute_result"
    }
   ],
   "source": [
    "t = torch.tensor([[1, 2], [3, 4]])\n",
    "(torch.gather(t, 0, torch.tensor([[0, 0], [1, 0]])),\n",
    "torch.gather(t, 1, torch.tensor([[0, 0], [1, 0]])))"
   ]
  },
  {
   "cell_type": "code",
   "execution_count": 948,
   "id": "08829216",
   "metadata": {},
   "outputs": [
    {
     "data": {
      "text/plain": [
       "(tensor([[1, 2, 3],\n",
       "         [4, 5, 6]]),\n",
       " tensor([[1, 2, 3],\n",
       "         [4, 2, 3]]))"
      ]
     },
     "execution_count": 948,
     "metadata": {},
     "output_type": "execute_result"
    }
   ],
   "source": [
    "t = torch.tensor([[1, 2, 3], [4,5,6]])\n",
    "t, torch.gather(t, 0, torch.tensor([[0, 0, 0], [1, 0, 0]]))"
   ]
  },
  {
   "cell_type": "code",
   "execution_count": 514,
   "id": "65379dfd",
   "metadata": {},
   "outputs": [
    {
     "data": {
      "text/plain": [
       "(tensor([[[ 0,  1,  2,  3],\n",
       "          [ 4,  5,  6,  7]],\n",
       " \n",
       "         [[ 8,  9, 10, 11],\n",
       "          [12, 13, 14, 15]],\n",
       " \n",
       "         [[16, 17, 18, 19],\n",
       "          [20, 21, 22, 23]],\n",
       " \n",
       "         [[24, 25, 26, 27],\n",
       "          [28, 29, 30, 31]]]),\n",
       " tensor([[[ 0,  9, 18],\n",
       "          [ 4, 13, 22]],\n",
       " \n",
       "         [[ 0,  9, 18],\n",
       "          [ 4, 13, 22]],\n",
       " \n",
       "         [[ 0,  9, 18],\n",
       "          [ 4, 13, 22]],\n",
       " \n",
       "         [[ 0,  9, 18],\n",
       "          [ 4, 13, 22]],\n",
       " \n",
       "         [[ 0,  9, 18],\n",
       "          [ 4, 13, 22]],\n",
       " \n",
       "         [[ 0,  9, 18],\n",
       "          [ 4, 13, 22]],\n",
       " \n",
       "         [[ 0,  9, 18],\n",
       "          [ 4, 13, 22]]]))"
      ]
     },
     "execution_count": 514,
     "metadata": {},
     "output_type": "execute_result"
    }
   ],
   "source": [
    "t = torch.arange(32).reshape(4, 2, 4)\n",
    "t, torch.gather(t, 0, torch.tensor([[[0, 1, 2, ], [0, 1, 2, ], ],\n",
    "                                    [[0, 1, 2, ], [0, 1, 2, ], ],\n",
    "                                    [[0, 1, 2, ], [0, 1, 2, ], ],\n",
    "                                    [[0, 1, 2, ], [0, 1, 2, ], ],\n",
    "                                    [[0, 1, 2, ], [0, 1, 2, ], ],\n",
    "                                    [[0, 1, 2, ], [0, 1, 2, ], ],\n",
    "                                    [[0, 1, 2, ], [0, 1, 2, ], ],\n",
    "                                    ]))"
   ]
  },
  {
   "cell_type": "code",
   "execution_count": 968,
   "id": "64bd1776",
   "metadata": {},
   "outputs": [
    {
     "data": {
      "text/plain": [
       "(tensor([[[ 0,  1,  2,  3],\n",
       "          [ 4,  5,  6,  7]],\n",
       " \n",
       "         [[ 8,  9, 10, 11],\n",
       "          [12, 13, 14, 15]],\n",
       " \n",
       "         [[16, 17, 18, 19],\n",
       "          [20, 21, 22, 23]],\n",
       " \n",
       "         [[24, 25, 26, 27],\n",
       "          [28, 29, 30, 31]]]),\n",
       " tensor([[[ 0,  9, 18, 27],\n",
       "          [ 4, 13, 22, 31]]]))"
      ]
     },
     "execution_count": 968,
     "metadata": {},
     "output_type": "execute_result"
    }
   ],
   "source": [
    "t = torch.arange(32).reshape(4, 2, 4)\n",
    "t, torch.gather(t, 0, torch.tensor([[[0, 1, 2, 3],\n",
    "                                     [0, 1, 2, 3]\n",
    "                                     ]]))"
   ]
  },
  {
   "cell_type": "code",
   "execution_count": 1213,
   "id": "02a128f1",
   "metadata": {},
   "outputs": [
    {
     "data": {
      "text/plain": [
       "(tensor([[[ 0,  1,  2,  3],\n",
       "          [ 4,  5,  6,  7]],\n",
       " \n",
       "         [[ 8,  9, 10, 11],\n",
       "          [12, 13, 14, 15]],\n",
       " \n",
       "         [[16, 17, 18, 19],\n",
       "          [20, 21, 22, 23]],\n",
       " \n",
       "         [[24, 25, 26, 27],\n",
       "          [28, 29, 30, 31]]]),\n",
       " tensor([[[0, 5],\n",
       "          [0, 5],\n",
       "          [0, 5]]]))"
      ]
     },
     "execution_count": 1213,
     "metadata": {},
     "output_type": "execute_result"
    }
   ],
   "source": [
    "t = torch.arange(32).reshape(4, 2, 4)\n",
    "t, torch.gather(t, 1, torch.tensor([[[0, 1],\n",
    "                                     [0, 1],\n",
    "                                     [0, 1],\n",
    "                                     ]]))"
   ]
  },
  {
   "cell_type": "code",
   "execution_count": 953,
   "id": "02927156",
   "metadata": {},
   "outputs": [
    {
     "data": {
      "text/plain": [
       "(tensor([[[ 0,  1,  2,  3],\n",
       "          [ 4,  5,  6,  7]],\n",
       " \n",
       "         [[ 8,  9, 10, 11],\n",
       "          [12, 13, 14, 15]],\n",
       " \n",
       "         [[16, 17, 18, 19],\n",
       "          [20, 21, 22, 23]],\n",
       " \n",
       "         [[24, 25, 26, 27],\n",
       "          [28, 29, 30, 31]]]),\n",
       " tensor([[[8]]]))"
      ]
     },
     "execution_count": 953,
     "metadata": {},
     "output_type": "execute_result"
    }
   ],
   "source": [
    "t = torch.arange(32).reshape(4, 2, 4)\n",
    "t, torch.gather(t, 0, torch.tensor([[[1]]]))"
   ]
  },
  {
   "cell_type": "code",
   "execution_count": 515,
   "id": "69a891e9",
   "metadata": {},
   "outputs": [
    {
     "data": {
      "text/plain": [
       "(tensor([[[ 0,  1,  2,  3],\n",
       "          [ 4,  5,  6,  7]],\n",
       " \n",
       "         [[ 8,  9, 10, 11],\n",
       "          [12, 13, 14, 15]],\n",
       " \n",
       "         [[16, 17, 18, 19],\n",
       "          [20, 21, 22, 23]],\n",
       " \n",
       "         [[24, 25, 26, 27],\n",
       "          [28, 29, 30, 31]]]),\n",
       " tensor([[[ 8,  9, 10, 11]]]))"
      ]
     },
     "execution_count": 515,
     "metadata": {},
     "output_type": "execute_result"
    }
   ],
   "source": [
    "t = torch.arange(32).reshape(4, 2, 4)\n",
    "t, torch.gather(t, 0, torch.tensor([[[1, 1, 1, 1]]]))"
   ]
  },
  {
   "cell_type": "code",
   "execution_count": 516,
   "id": "ac00c64e",
   "metadata": {},
   "outputs": [
    {
     "data": {
      "text/plain": [
       "(tensor([[[ 0,  1,  2,  3],\n",
       "          [ 4,  5,  6,  7]],\n",
       " \n",
       "         [[ 8,  9, 10, 11],\n",
       "          [12, 13, 14, 15]],\n",
       " \n",
       "         [[16, 17, 18, 19],\n",
       "          [20, 21, 22, 23]],\n",
       " \n",
       "         [[24, 25, 26, 27],\n",
       "          [28, 29, 30, 31]]]),\n",
       " tensor([[[4, 5, 6, 7]]]))"
      ]
     },
     "execution_count": 516,
     "metadata": {},
     "output_type": "execute_result"
    }
   ],
   "source": [
    "t = torch.arange(32).reshape(4, 2, 4)\n",
    "t, torch.gather(t, 1, torch.tensor([[[1, 1, 1, 1]]]))"
   ]
  },
  {
   "cell_type": "code",
   "execution_count": 517,
   "id": "97b9bf45",
   "metadata": {},
   "outputs": [
    {
     "data": {
      "text/plain": [
       "(tensor([[[ 0,  1,  2,  3],\n",
       "          [ 4,  5,  6,  7]],\n",
       " \n",
       "         [[ 8,  9, 10, 11],\n",
       "          [12, 13, 14, 15]],\n",
       " \n",
       "         [[16, 17, 18, 19],\n",
       "          [20, 21, 22, 23]],\n",
       " \n",
       "         [[24, 25, 26, 27],\n",
       "          [28, 29, 30, 31]]]),\n",
       " tensor([[[ 4,  1,  2]],\n",
       " \n",
       "         [[12,  9, 10]]]))"
      ]
     },
     "execution_count": 517,
     "metadata": {},
     "output_type": "execute_result"
    }
   ],
   "source": [
    "t = torch.arange(32).reshape(4, 2, 4)\n",
    "t, torch.gather(t, 1, torch.tensor([[[1, 0, 0]],\n",
    "                                    [[1, 0, 0]]\n",
    "                                   ]))"
   ]
  },
  {
   "cell_type": "code",
   "execution_count": 518,
   "id": "9dbaf268",
   "metadata": {},
   "outputs": [
    {
     "data": {
      "text/plain": [
       "(tensor([[[ 0,  1,  2,  3],\n",
       "          [ 4,  5,  6,  7]],\n",
       " \n",
       "         [[ 8,  9, 10, 11],\n",
       "          [12, 13, 14, 15]],\n",
       " \n",
       "         [[16, 17, 18, 19],\n",
       "          [20, 21, 22, 23]],\n",
       " \n",
       "         [[24, 25, 26, 27],\n",
       "          [28, 29, 30, 31]]]),\n",
       " tensor([[[1, 0, 0]],\n",
       " \n",
       "         [[9, 8, 8]]]))"
      ]
     },
     "execution_count": 518,
     "metadata": {},
     "output_type": "execute_result"
    }
   ],
   "source": [
    "t = torch.arange(32).reshape(4, 2, 4)\n",
    "t, torch.gather(t, 2, torch.tensor([[[1, 0, 0]],\n",
    "                                     [[1, 0, 0]]\n",
    "                                   ]))"
   ]
  },
  {
   "cell_type": "code",
   "execution_count": 969,
   "id": "9f9e8226",
   "metadata": {},
   "outputs": [
    {
     "data": {
      "text/plain": [
       "(tensor([[[ 0,  1],\n",
       "          [ 2,  3],\n",
       "          [ 4,  5]],\n",
       " \n",
       "         [[ 6,  7],\n",
       "          [ 8,  9],\n",
       "          [10, 11]],\n",
       " \n",
       "         [[12, 13],\n",
       "          [14, 15],\n",
       "          [16, 17]],\n",
       " \n",
       "         [[18, 19],\n",
       "          [20, 21],\n",
       "          [22, 23]]]),\n",
       " tensor([[[ 0,  1],\n",
       "          [ 2,  3],\n",
       "          [ 4,  5]],\n",
       " \n",
       "         [[12, 13],\n",
       "          [14, 15],\n",
       "          [16, 17]]]),\n",
       " torch.Size([2, 3, 2]))"
      ]
     },
     "execution_count": 969,
     "metadata": {},
     "output_type": "execute_result"
    }
   ],
   "source": [
    "x = torch.arange(4 * 3 * 2).view((4, 3, 2))\n",
    "y = torch.index_select(x, 0, torch.tensor([0, 2])) # indices:  the 1-D tensor containing the indices to index\n",
    "x, y, y.shape"
   ]
  },
  {
   "cell_type": "code",
   "execution_count": 970,
   "id": "2aa4a6a0",
   "metadata": {},
   "outputs": [
    {
     "data": {
      "text/plain": [
       "(tensor([[[ 0,  1],\n",
       "          [ 2,  3],\n",
       "          [ 4,  5]],\n",
       " \n",
       "         [[ 6,  7],\n",
       "          [ 8,  9],\n",
       "          [10, 11]],\n",
       " \n",
       "         [[12, 13],\n",
       "          [14, 15],\n",
       "          [16, 17]],\n",
       " \n",
       "         [[18, 19],\n",
       "          [20, 21],\n",
       "          [22, 23]]]),\n",
       " tensor([[[-1,  1],\n",
       "          [ 2,  3],\n",
       "          [ 4,  5]],\n",
       " \n",
       "         [[12, 13],\n",
       "          [14, 15],\n",
       "          [16, 17]]]),\n",
       " torch.Size([2, 3, 2]))"
      ]
     },
     "execution_count": 970,
     "metadata": {},
     "output_type": "execute_result"
    }
   ],
   "source": [
    "x = torch.arange(4 * 3 * 2).view((4, 3, 2))\n",
    "y = torch.index_select(x, 0, torch.tensor([0, 2])) \n",
    "y[0, 0, 0] = -1 # index_select does not inplace replace\n",
    "x, y, y.shape"
   ]
  },
  {
   "cell_type": "code",
   "execution_count": 971,
   "id": "4fc43bd9",
   "metadata": {},
   "outputs": [
    {
     "data": {
      "text/plain": [
       "(tensor([[[ 0,  1],\n",
       "          [ 2,  3],\n",
       "          [ 4,  5]],\n",
       " \n",
       "         [[ 6,  7],\n",
       "          [ 8,  9],\n",
       "          [10, 11]],\n",
       " \n",
       "         [[12, 13],\n",
       "          [14, 15],\n",
       "          [16, 17]],\n",
       " \n",
       "         [[18, 19],\n",
       "          [20, 21],\n",
       "          [22, 23]]]),\n",
       " tensor([[[-1,  1],\n",
       "          [ 2,  3],\n",
       "          [ 4,  5]],\n",
       " \n",
       "         [[12, 13],\n",
       "          [14, 15],\n",
       "          [16, 17]]]),\n",
       " torch.Size([2, 3, 2]))"
      ]
     },
     "execution_count": 971,
     "metadata": {},
     "output_type": "execute_result"
    }
   ],
   "source": [
    "x = torch.arange(4 * 3 * 2).view((4, 3, 2))\n",
    "y = x.index_select(0, torch.tensor([0, 2])) \n",
    "y[0, 0, 0] = -1\n",
    "x, y, y.shape"
   ]
  },
  {
   "cell_type": "code",
   "execution_count": 973,
   "id": "69e53293",
   "metadata": {},
   "outputs": [
    {
     "data": {
      "text/plain": [
       "(tensor([[[ 0,  1],\n",
       "          [ 2,  3],\n",
       "          [ 4,  5]],\n",
       " \n",
       "         [[ 6,  7],\n",
       "          [ 8,  9],\n",
       "          [10, 11]],\n",
       " \n",
       "         [[12, 13],\n",
       "          [14, 15],\n",
       "          [16, 17]],\n",
       " \n",
       "         [[18, 19],\n",
       "          [20, 21],\n",
       "          [22, 23]]]),\n",
       " tensor([[[ 0,  1],\n",
       "          [ 4,  5],\n",
       "          [ 0,  1]],\n",
       " \n",
       "         [[ 6,  7],\n",
       "          [10, 11],\n",
       "          [ 6,  7]],\n",
       " \n",
       "         [[12, 13],\n",
       "          [16, 17],\n",
       "          [12, 13]],\n",
       " \n",
       "         [[18, 19],\n",
       "          [22, 23],\n",
       "          [18, 19]]]),\n",
       " torch.Size([4, 3, 2]))"
      ]
     },
     "execution_count": 973,
     "metadata": {},
     "output_type": "execute_result"
    }
   ],
   "source": [
    "x = torch.arange(4 * 3 * 2).view((4, 3, 2))\n",
    "y = x.index_select(1, torch.tensor([0, 2, 0])) \n",
    "x, y, y.shape"
   ]
  },
  {
   "cell_type": "code",
   "execution_count": 974,
   "id": "3608c478",
   "metadata": {},
   "outputs": [
    {
     "data": {
      "text/plain": [
       "(tensor([[[ 0,  1],\n",
       "          [ 2,  3],\n",
       "          [ 4,  5]],\n",
       " \n",
       "         [[ 6,  7],\n",
       "          [ 8,  9],\n",
       "          [10, 11]],\n",
       " \n",
       "         [[12, 13],\n",
       "          [14, 15],\n",
       "          [16, 17]],\n",
       " \n",
       "         [[18, 19],\n",
       "          [20, 21],\n",
       "          [22, 23]]]),\n",
       " tensor([[[ 0,  1]],\n",
       " \n",
       "         [[ 6,  7]],\n",
       " \n",
       "         [[12, 13]],\n",
       " \n",
       "         [[18, 19]]]),\n",
       " torch.Size([4, 1, 2]))"
      ]
     },
     "execution_count": 974,
     "metadata": {},
     "output_type": "execute_result"
    }
   ],
   "source": [
    "x = torch.arange(4 * 3 * 2).view((4, 3, 2))\n",
    "y = x.index_select(1, torch.tensor(0)) \n",
    "x, y, y.shape"
   ]
  },
  {
   "cell_type": "code",
   "execution_count": 976,
   "id": "be84af16",
   "metadata": {},
   "outputs": [
    {
     "data": {
      "text/plain": [
       "(tensor([[[ 0,  1],\n",
       "          [ 2,  3],\n",
       "          [ 4,  5]],\n",
       " \n",
       "         [[ 6,  7],\n",
       "          [ 8,  9],\n",
       "          [10, 11]],\n",
       " \n",
       "         [[12, 13],\n",
       "          [14, 15],\n",
       "          [16, 17]],\n",
       " \n",
       "         [[18, 19],\n",
       "          [20, 21],\n",
       "          [22, 23]]]),\n",
       " tensor([[[ 0,  0,  0,  0,  0],\n",
       "          [ 2,  2,  2,  2,  2],\n",
       "          [ 4,  4,  4,  4,  4]],\n",
       " \n",
       "         [[ 6,  6,  6,  6,  6],\n",
       "          [ 8,  8,  8,  8,  8],\n",
       "          [10, 10, 10, 10, 10]],\n",
       " \n",
       "         [[12, 12, 12, 12, 12],\n",
       "          [14, 14, 14, 14, 14],\n",
       "          [16, 16, 16, 16, 16]],\n",
       " \n",
       "         [[18, 18, 18, 18, 18],\n",
       "          [20, 20, 20, 20, 20],\n",
       "          [22, 22, 22, 22, 22]]]),\n",
       " torch.Size([4, 3, 5]))"
      ]
     },
     "execution_count": 976,
     "metadata": {},
     "output_type": "execute_result"
    }
   ],
   "source": [
    "x = torch.arange(4 * 3 * 2).view((4, 3, 2))\n",
    "y = torch.index_select(x, 2, torch.tensor([0, 0, 0, 0, 0])) \n",
    "x, y, y.shape"
   ]
  },
  {
   "cell_type": "code",
   "execution_count": 982,
   "id": "2f9c4883",
   "metadata": {},
   "outputs": [
    {
     "data": {
      "text/plain": [
       "(tensor([[[52, 53, 54, 55],\n",
       "          [56, 57, 58, 59],\n",
       "          [60, 61, 62, 63]],\n",
       " \n",
       "         [[64, 65, 66, 67],\n",
       "          [68, 69, 70, 71],\n",
       "          [72, 73, 74, 75]]]),\n",
       " tensor([], dtype=torch.int64),\n",
       " torch.Size([0]))"
      ]
     },
     "execution_count": 982,
     "metadata": {},
     "output_type": "execute_result"
    }
   ],
   "source": [
    "torch.manual_seed(10)\n",
    "x = torch.arange(52, 52 + 4 * 3 * 2).view((2, 3, 4))\n",
    "y = torch.masked_select(x, x.ge(76))\n",
    "x, y, y.size()"
   ]
  },
  {
   "cell_type": "code",
   "execution_count": 983,
   "id": "d5ba7d0c",
   "metadata": {},
   "outputs": [
    {
     "data": {
      "text/plain": [
       "(tensor([[[52, 53, 54, 55],\n",
       "          [56, 57, 58, 59],\n",
       "          [60, 61, 62, 63]],\n",
       " \n",
       "         [[64, 65, 66, 67],\n",
       "          [68, 69, 70, 71],\n",
       "          [72, 73, 74, 75]]]),\n",
       " tensor([60, 61, 62, 63, 64, 65, 66, 67, 68, 69, 70, 71, 72, 73, 74, 75]),\n",
       " torch.Size([16]))"
      ]
     },
     "execution_count": 983,
     "metadata": {},
     "output_type": "execute_result"
    }
   ],
   "source": [
    "torch.manual_seed(10)\n",
    "x = torch.arange(52, 52 + 4 * 3 * 2).view((2, 3, 4))\n",
    "y = torch.masked_select(x, x.ge(60))\n",
    "x, y, y.size()"
   ]
  },
  {
   "cell_type": "code",
   "execution_count": 984,
   "id": "5182c1d0",
   "metadata": {},
   "outputs": [
    {
     "data": {
      "text/plain": [
       "(tensor([[[-0.8173, -0.5556, -0.8267, -1.2970],\n",
       "          [-0.1974, -0.9643, -0.5133,  2.6278],\n",
       "          [ 0.0178, -0.1282, -0.0944,  0.0526]],\n",
       " \n",
       "         [[ 0.2386, -1.5565,  1.6471, -1.0891],\n",
       "          [-0.1460, -0.2311, -0.4995,  0.3127],\n",
       "          [-0.0772,  0.3426, -0.7574, -1.5660]]]),\n",
       " tensor([2.6278, 1.6471]),\n",
       " tensor([2.6278, 1.6471]))"
      ]
     },
     "execution_count": 984,
     "metadata": {},
     "output_type": "execute_result"
    }
   ],
   "source": [
    "torch.manual_seed(10)\n",
    "x = torch.randn((2, 3, 4))\n",
    "y = x[x.ge(0.5)]\n",
    "x, y, x.masked_select(x.ge(0.5))\n"
   ]
  },
  {
   "cell_type": "code",
   "execution_count": 985,
   "id": "9177f6b7",
   "metadata": {},
   "outputs": [
    {
     "data": {
      "text/plain": [
       "(tensor([[[-0.8173, -0.5556, -0.8267, -1.2970],\n",
       "          [-0.1974, -0.9643, -0.5133,  2.6278],\n",
       "          [ 0.0178, -0.1282, -0.0944,  0.0526]],\n",
       " \n",
       "         [[ 0.2386, -1.5565,  1.6471, -1.0891],\n",
       "          [-0.1460, -0.2311, -0.4995,  0.3127],\n",
       "          [-0.0772,  0.3426, -0.7574, -1.5660]]]),\n",
       " tensor([[0, 1, 3],\n",
       "         [1, 0, 2]]),\n",
       " tensor([[[-1.0000, -1.0000, -1.0000, -1.0000],\n",
       "          [-1.0000, -1.0000, -1.0000,  2.6278],\n",
       "          [-1.0000, -1.0000, -1.0000, -1.0000]],\n",
       " \n",
       "         [[-1.0000, -1.0000,  1.6471, -1.0000],\n",
       "          [-1.0000, -1.0000, -1.0000, -1.0000],\n",
       "          [-1.0000, -1.0000, -1.0000, -1.0000]]]),\n",
       " (tensor([0, 1]), tensor([1, 0]), tensor([3, 2])),\n",
       " tensor([2.6278, 1.6471]))"
      ]
     },
     "execution_count": 985,
     "metadata": {},
     "output_type": "execute_result"
    }
   ],
   "source": [
    "torch.manual_seed(10)\n",
    "x = torch.randn((2, 3, 4))\n",
    "y = torch.argwhere(x.ge(0.5))\n",
    "z = torch.where(x.ge(0.5), x, -1)\n",
    "x, y, z, torch.where(x >= 0.5), x[torch.where(x >= 0.5)]"
   ]
  },
  {
   "cell_type": "code",
   "execution_count": 526,
   "id": "9e96e323",
   "metadata": {},
   "outputs": [
    {
     "data": {
      "text/plain": [
       "(tensor([[[-0.8173, -0.5556, -0.8267, -1.2970, -0.1974, -0.9643],\n",
       "          [-0.5133,  2.6278, -0.7465,  1.0051, -0.2568,  0.4765],\n",
       "          [-0.6652, -0.3627, -1.4504, -0.2496,  0.8298,  1.1209]],\n",
       " \n",
       "         [[ 0.9999,  1.1167, -2.1806, -1.1094, -2.0410,  0.0334],\n",
       "          [ 1.6294, -2.1184,  0.7828,  0.9304, -1.1151,  0.1490],\n",
       "          [-1.0923, -1.4551,  1.3358,  0.3075,  0.6278, -0.1005]]]),\n",
       " tensor([[0, 1, 1],\n",
       "         [0, 1, 3],\n",
       "         [0, 2, 4],\n",
       "         [0, 2, 5],\n",
       "         [1, 0, 0],\n",
       "         [1, 0, 1],\n",
       "         [1, 1, 0],\n",
       "         [1, 1, 2],\n",
       "         [1, 1, 3],\n",
       "         [1, 2, 2],\n",
       "         [1, 2, 4]]),\n",
       " tensor([[[-1.0000, -1.0000, -1.0000, -1.0000, -1.0000, -1.0000],\n",
       "          [-1.0000,  2.6278, -1.0000,  1.0051, -1.0000, -1.0000],\n",
       "          [-1.0000, -1.0000, -1.0000, -1.0000,  0.8298,  1.1209]],\n",
       " \n",
       "         [[ 0.9999,  1.1167, -1.0000, -1.0000, -1.0000, -1.0000],\n",
       "          [ 1.6294, -1.0000,  0.7828,  0.9304, -1.0000, -1.0000],\n",
       "          [-1.0000, -1.0000,  1.3358, -1.0000,  0.6278, -1.0000]]]),\n",
       " (tensor([0, 0, 0, 0, 1, 1, 1, 1, 1, 1, 1]),\n",
       "  tensor([1, 1, 2, 2, 0, 0, 1, 1, 1, 2, 2]),\n",
       "  tensor([1, 3, 4, 5, 0, 1, 0, 2, 3, 2, 4])))"
      ]
     },
     "execution_count": 526,
     "metadata": {},
     "output_type": "execute_result"
    }
   ],
   "source": [
    "torch.manual_seed(10)\n",
    "x = torch.randn((2, 3, 6))\n",
    "y = torch.argwhere(x.ge(0.5))\n",
    "z = torch.where(x.ge(0.5), x, -1)\n",
    "x, y, z, torch.where(x >= 0.5)"
   ]
  },
  {
   "cell_type": "code",
   "execution_count": 988,
   "id": "0876ca49",
   "metadata": {},
   "outputs": [
    {
     "data": {
      "text/plain": [
       "(tensor([[[-0.8173, -0.5556, -0.8267, -1.2970],\n",
       "          [-0.1974, -0.9643, -0.5133,  2.6278],\n",
       "          [ 0.0178, -0.1282, -0.0944,  0.0526]],\n",
       " \n",
       "         [[ 0.2386, -1.5565,  1.6471, -1.0891],\n",
       "          [-0.1460, -0.2311, -0.4995,  0.3127],\n",
       "          [-0.0772,  0.3426, -0.7574, -1.5660]]]),\n",
       " tensor([[0, 1, 3],\n",
       "         [1, 0, 2]]),\n",
       " tensor([[[-0.8173, -0.5556, -0.8267, -1.2970],\n",
       "          [-0.1974, -0.9643, -0.5133,  2.0104],\n",
       "          [ 0.0178, -0.1282, -0.0944,  0.0526]],\n",
       " \n",
       "         [[ 0.2386, -1.5565, -1.1243, -1.0891],\n",
       "          [-0.1460, -0.2311, -0.4995,  0.3127],\n",
       "          [-0.0772,  0.3426, -0.7574, -1.5660]]]),\n",
       " (tensor([0, 1]), tensor([1, 0]), tensor([3, 2])),\n",
       " tensor([2.6278, 1.6471]))"
      ]
     },
     "execution_count": 988,
     "metadata": {},
     "output_type": "execute_result"
    }
   ],
   "source": [
    "torch.manual_seed(10)\n",
    "x = torch.randn((2, 3, 4))\n",
    "y = torch.argwhere(x.ge(0.5))\n",
    "z = torch.where(x.lt(0.5), x, torch.randn(3, 4))\n",
    "x, y, z, torch.where(x >= 0.5), x[torch.where(x >= 0.5)]\n"
   ]
  },
  {
   "cell_type": "code",
   "execution_count": 996,
   "id": "8b173c76",
   "metadata": {},
   "outputs": [
    {
     "data": {
      "text/plain": [
       "(tensor([1., 1., 1., 1., 1., 1., 1., 1., 1., 1., 1., 1., 1., 1., 1.]),\n",
       " tensor([ 0.,  1.,  2.,  3.,  4.,  5.,  6.,  7.,  8.,  9., 10., 11., 12., 13.,\n",
       "         14.]),\n",
       " tensor([ 1.,  2.,  3.,  4.,  5.,  6.,  7.,  8.,  9., 10., 11., 12., 13., 14.,\n",
       "         15.]))"
      ]
     },
     "execution_count": 996,
     "metadata": {},
     "output_type": "execute_result"
    }
   ],
   "source": [
    "x = torch.ones(5 * 3)\n",
    "y = torch.arange(15, dtype=torch.float32)\n",
    "z = torch.index_add(x, 0, index=torch.tensor(range(15)), source=y)\n",
    "x, y, z"
   ]
  },
  {
   "cell_type": "code",
   "execution_count": 998,
   "id": "2b6dd5d1",
   "metadata": {},
   "outputs": [
    {
     "data": {
      "text/plain": [
       "(tensor([1., 1., 1., 1., 1., 1., 1., 1., 1., 1., 1., 1., 1., 1., 1.]),\n",
       " tensor([ 0.,  1.,  2.,  3.,  4.,  5.,  6.,  7.,  8.,  9., 10., 11., 12., 13.,\n",
       "         14.]),\n",
       " tensor([1.0000, 1.1000, 1.2000, 1.3000, 1.4000, 1.5000, 1.6000, 1.7000, 1.8000,\n",
       "         1.9000, 2.0000, 2.1000, 2.2000, 2.3000, 2.4000]),\n",
       " tensor([1.0000, 1.1000, 1.2000, 1.3000, 1.4000, 1.5000, 1.6000, 1.7000, 1.8000,\n",
       "         1.9000, 2.0000, 2.1000, 2.2000, 2.3000, 2.4000]))"
      ]
     },
     "execution_count": 998,
     "metadata": {},
     "output_type": "execute_result"
    }
   ],
   "source": [
    "x = torch.ones(5 * 3)\n",
    "y = torch.arange(15, dtype=torch.float32)\n",
    "z = torch.index_add(x, 0, index=torch.tensor(range(15)), source=y, alpha=0.1)\n",
    "x, y, z, x + 0.1*y"
   ]
  },
  {
   "cell_type": "code",
   "execution_count": 1000,
   "id": "959c9c7d",
   "metadata": {},
   "outputs": [
    {
     "data": {
      "text/plain": [
       "(tensor([1., 1., 1., 1., 1., 1., 1., 1., 1., 1., 1., 1., 1., 1., 1.]),\n",
       " tensor([ 0.,  1.,  2.,  3.,  4.,  5.,  6.,  7.,  8.,  9., 10., 11., 12., 13.,\n",
       "         14.]),\n",
       " tensor([106.,   1.,   1.,   1.,   1.,   1.,   1.,   1.,   1.,   1.,   1.,   1.,\n",
       "           1.,   1.,   1.]))"
      ]
     },
     "execution_count": 1000,
     "metadata": {},
     "output_type": "execute_result"
    }
   ],
   "source": [
    "x = torch.ones(5 * 3)\n",
    "y = torch.arange(15, dtype=torch.float32)\n",
    "z = torch.index_add(x, 0, index=torch.tensor([0] * 15), source=y, alpha=1)\n",
    "x, y, z"
   ]
  },
  {
   "cell_type": "code",
   "execution_count": 1003,
   "id": "fc77e4e3",
   "metadata": {},
   "outputs": [
    {
     "data": {
      "text/plain": [
       "(tensor([[0., 0., 0.],\n",
       "         [0., 0., 0.],\n",
       "         [0., 0., 0.],\n",
       "         [0., 0., 0.],\n",
       "         [0., 0., 0.]]),\n",
       " tensor([[ 0.,  1.,  2.],\n",
       "         [ 3.,  4.,  5.],\n",
       "         [ 6.,  7.,  8.],\n",
       "         [ 9., 10., 11.],\n",
       "         [12., 13., 14.]]),\n",
       " tensor([[ 0.,  2.,  4.],\n",
       "         [ 6.,  8., 10.],\n",
       "         [12., 14., 16.],\n",
       "         [18., 20., 22.],\n",
       "         [24., 26., 28.]]),\n",
       " tensor([[ 3.,  0.,  0.],\n",
       "         [12.,  0.,  0.],\n",
       "         [21.,  0.,  0.],\n",
       "         [30.,  0.,  0.],\n",
       "         [39.,  0.,  0.]]),\n",
       " tensor([[0., 0., 0.],\n",
       "         [0., 0., 0.],\n",
       "         [0., 0., 0.],\n",
       "         [0., 0., 0.],\n",
       "         [0., 0., 0.]]))"
      ]
     },
     "execution_count": 1003,
     "metadata": {},
     "output_type": "execute_result"
    }
   ],
   "source": [
    "x = torch.zeros((5, 3))\n",
    "_x = x.clone()\n",
    "y = torch.arange(15, dtype=torch.float32).reshape((5, 3))\n",
    "z = torch.index_add(x, 0, torch.tensor([0,1,2,3,4]), y, alpha=2)\n",
    "w = x.index_add(1, torch.tensor([0, 0, 0, ]), y)\n",
    "_x, y, z, w, x"
   ]
  },
  {
   "cell_type": "code",
   "execution_count": 990,
   "id": "fb5ec1d3",
   "metadata": {},
   "outputs": [
    {
     "data": {
      "text/plain": [
       "(tensor([[0., 0., 0.],\n",
       "         [0., 0., 0.],\n",
       "         [0., 0., 0.],\n",
       "         [0., 0., 0.],\n",
       "         [0., 0., 0.]]),\n",
       " tensor([[ 0.,  1.,  2.],\n",
       "         [ 3.,  4.,  5.],\n",
       "         [ 6.,  7.,  8.],\n",
       "         [ 9., 10., 11.],\n",
       "         [12., 13., 14.]]),\n",
       " tensor([[ 0.,  2.,  4.],\n",
       "         [ 6.,  8., 10.],\n",
       "         [12., 14., 16.],\n",
       "         [18., 20., 22.],\n",
       "         [24., 26., 28.]]),\n",
       " tensor([[ 3.,  0.,  0.],\n",
       "         [12.,  0.,  0.],\n",
       "         [21.,  0.,  0.],\n",
       "         [30.,  0.,  0.],\n",
       "         [39.,  0.,  0.]]),\n",
       " tensor([[ 3.,  0.,  0.],\n",
       "         [12.,  0.,  0.],\n",
       "         [21.,  0.,  0.],\n",
       "         [30.,  0.,  0.],\n",
       "         [39.,  0.,  0.]]))"
      ]
     },
     "execution_count": 990,
     "metadata": {},
     "output_type": "execute_result"
    }
   ],
   "source": [
    "x = torch.zeros((5, 3))\n",
    "_x = x.clone()\n",
    "y = torch.arange(15, dtype=torch.float32).reshape((5, 3))\n",
    "z = torch.index_add(x, 0, torch.tensor([0,1,2,3,4]), y, alpha=2)\n",
    "w = x.index_add_(1, torch.tensor([0, 0, 0, ]), y)\n",
    "_x, y, z, w, x"
   ]
  },
  {
   "cell_type": "code",
   "execution_count": 529,
   "id": "a2b429e1",
   "metadata": {},
   "outputs": [
    {
     "data": {
      "text/plain": [
       "(tensor([[0., 0., 0.],\n",
       "         [0., 0., 0.],\n",
       "         [0., 0., 0.],\n",
       "         [0., 0., 0.]]),\n",
       " tensor([[ 0.,  1.,  2.],\n",
       "         [ 3.,  4.,  5.],\n",
       "         [ 6.,  7.,  8.],\n",
       "         [ 9., 10., 11.]]),\n",
       " tensor([[ 9., 12., 15.],\n",
       "         [ 9., 10., 11.],\n",
       "         [ 0.,  0.,  0.],\n",
       "         [ 0.,  0.,  0.]]))"
      ]
     },
     "execution_count": 529,
     "metadata": {},
     "output_type": "execute_result"
    }
   ],
   "source": [
    "\"\"\"\n",
    "self[index[i], :, :] += alpha * src[i, :, :]  # if dim == 0\n",
    "self[:, index[i], :] += alpha * src[:, i, :]  # if dim == 1\n",
    "self[:, :, index[i]] += alpha * src[:, :, i]  # if dim == 2\n",
    "\"\"\"\n",
    "x = torch.zeros((4, 3))\n",
    "_x = x.clone()\n",
    "y = torch.arange(12, dtype=torch.float32).reshape((4, 3))\n",
    "z = torch.index_add(x, 0, torch.tensor([0, 0, 0, 1]), y)\n",
    "x, y, z"
   ]
  },
  {
   "cell_type": "code",
   "execution_count": 1006,
   "id": "45d9acf9",
   "metadata": {},
   "outputs": [
    {
     "data": {
      "text/plain": [
       "(tensor([[1., 1., 1.],\n",
       "         [1., 1., 1.],\n",
       "         [1., 1., 1.],\n",
       "         [1., 1., 1.]]),\n",
       " tensor([[ 0.,  1.,  2.],\n",
       "         [ 3.,  4.,  5.],\n",
       "         [ 6.,  7.,  8.],\n",
       "         [ 9., 10., 11.]]),\n",
       " tensor([[ 0., 28., 80.],\n",
       "         [ 9., 10., 11.],\n",
       "         [ 1.,  1.,  1.],\n",
       "         [ 1.,  1.,  1.]]))"
      ]
     },
     "execution_count": 1006,
     "metadata": {},
     "output_type": "execute_result"
    }
   ],
   "source": [
    "x = torch.ones((4, 3))\n",
    "_x = x.clone()\n",
    "y = torch.arange(12, dtype=torch.float32).reshape((4, 3))\n",
    "z = torch.index_reduce(x, 0, torch.tensor([0, 0, 0, 1]), y, \"prod\")\n",
    "x, y, z"
   ]
  },
  {
   "cell_type": "code",
   "execution_count": 531,
   "id": "1795332d",
   "metadata": {},
   "outputs": [
    {
     "data": {
      "text/plain": [
       "(tensor([[1., 1., 1.],\n",
       "         [1., 1., 1.],\n",
       "         [1., 1., 1.],\n",
       "         [1., 1., 1.]]),\n",
       " tensor([[ 0.,  1.,  2.],\n",
       "         [ 3.,  4.,  5.],\n",
       "         [ 6.,  7.,  8.],\n",
       "         [ 9., 10., 11.]]),\n",
       " tensor([[ 0., 28., 80.],\n",
       "         [ 9., 10., 11.],\n",
       "         [ 1.,  1.,  1.],\n",
       "         [ 1.,  1.,  1.]]))"
      ]
     },
     "execution_count": 531,
     "metadata": {},
     "output_type": "execute_result"
    }
   ],
   "source": [
    "x = torch.ones((4, 3))\n",
    "_x = x.clone()\n",
    "y = torch.arange(12, dtype=torch.float32).reshape((4, 3))\n",
    "z = torch.index_reduce(x, 0, torch.tensor([0, 0, 0, 1]), y, \"prod\", include_self=False)\n",
    "x, y, z"
   ]
  },
  {
   "cell_type": "code",
   "execution_count": 1009,
   "id": "178e2e80",
   "metadata": {},
   "outputs": [
    {
     "data": {
      "text/plain": [
       "(tensor([[1., 1., 1.],\n",
       "         [1., 1., 1.],\n",
       "         [1., 1., 1.],\n",
       "         [1., 1., 1.]]),\n",
       " tensor([[ 0.,  1.,  2.],\n",
       "         [ 3.,  4.,  5.],\n",
       "         [ 6.,  7.,  8.],\n",
       "         [ 9., 10., 11.]]),\n",
       " tensor([[ 3.,  4.,  5.],\n",
       "         [ 9., 10., 11.],\n",
       "         [ 1.,  1.,  1.],\n",
       "         [ 1.,  1.,  1.]]))"
      ]
     },
     "execution_count": 1009,
     "metadata": {},
     "output_type": "execute_result"
    }
   ],
   "source": [
    "x = torch.ones((4, 3))\n",
    "_x = x.clone()\n",
    "y = torch.arange(12, dtype=torch.float32).reshape((4, 3))\n",
    "z = torch.index_reduce(x, 0, torch.tensor([0, 0, 0, 1]), y, \"mean\", include_self=False)\n",
    "x, y, z"
   ]
  },
  {
   "cell_type": "code",
   "execution_count": 1010,
   "id": "81398c17",
   "metadata": {},
   "outputs": [
    {
     "data": {
      "text/plain": [
       "(tensor([[[0., 0., 0.],\n",
       "          [0., 0., 0.]],\n",
       " \n",
       "         [[0., 0., 0.],\n",
       "          [0., 0., 0.]]]),\n",
       " tensor([[0., 1., 2.],\n",
       "         [3., 4., 5.]]),\n",
       " tensor([[[0., 1., 2.],\n",
       "          [0., 1., 2.]],\n",
       " \n",
       "         [[3., 4., 5.],\n",
       "          [3., 4., 5.]]]))"
      ]
     },
     "execution_count": 1010,
     "metadata": {},
     "output_type": "execute_result"
    }
   ],
   "source": [
    "x = torch.zeros((2, 2, 3))\n",
    "_x = x.clone()\n",
    "y = torch.arange(6, dtype=torch.float32).reshape((2, 3))\n",
    "z = torch.index_add(x, 0, torch.tensor([0, 1]), y, )\n",
    "x, y, z"
   ]
  },
  {
   "cell_type": "code",
   "execution_count": 1014,
   "id": "c7da2424",
   "metadata": {},
   "outputs": [
    {
     "data": {
      "text/plain": [
       "(tensor([[[0., 0., 0.],\n",
       "          [0., 0., 0.]],\n",
       " \n",
       "         [[0., 0., 0.],\n",
       "          [0., 0., 0.]]]),\n",
       " tensor([[0., 1., 2.],\n",
       "         [3., 4., 5.]]),\n",
       " tensor([[[3., 5., 7.],\n",
       "          [3., 5., 7.]],\n",
       " \n",
       "         [[0., 0., 0.],\n",
       "          [0., 0., 0.]]]))"
      ]
     },
     "execution_count": 1014,
     "metadata": {},
     "output_type": "execute_result"
    }
   ],
   "source": [
    "x = torch.zeros((2, 2, 3))\n",
    "_x = x.clone()\n",
    "y = torch.arange(6, dtype=torch.float32).reshape((2, 3))\n",
    "z = torch.index_add(x, 0, torch.tensor([0, 0]), y, )\n",
    "x, y, z"
   ]
  },
  {
   "cell_type": "code",
   "execution_count": 1018,
   "id": "26dd3f99",
   "metadata": {},
   "outputs": [
    {
     "data": {
      "text/plain": [
       "(tensor([[[0., 0., 0.],\n",
       "          [0., 0., 0.]],\n",
       " \n",
       "         [[0., 0., 0.],\n",
       "          [0., 0., 0.]]]),\n",
       " tensor([[[0., 1., 2.],\n",
       "          [3., 4., 5.]]]),\n",
       " tensor([[[3., 5., 7.],\n",
       "          [0., 0., 0.]],\n",
       " \n",
       "         [[3., 5., 7.],\n",
       "          [0., 0., 0.]]]))"
      ]
     },
     "execution_count": 1018,
     "metadata": {},
     "output_type": "execute_result"
    }
   ],
   "source": [
    "x = torch.zeros((2, 2, 3))\n",
    "_x = x.clone()\n",
    "y = torch.arange(6, dtype=torch.float32).reshape((1, 2, 3))\n",
    "z = torch.index_add(x, 1, torch.tensor([0, 0,]), y, )\n",
    "x, y, z"
   ]
  },
  {
   "cell_type": "code",
   "execution_count": 533,
   "id": "7d6ecc4f",
   "metadata": {},
   "outputs": [
    {
     "data": {
      "text/plain": [
       "(tensor([[1., 1., 1.],\n",
       "         [1., 1., 1.],\n",
       "         [1., 1., 1.],\n",
       "         [1., 1., 1.]]),\n",
       " tensor([[ 0.,  1.,  2.],\n",
       "         [ 3.,  4.,  5.],\n",
       "         [ 6.,  7.,  8.],\n",
       "         [ 9., 10., 11.]]),\n",
       " tensor([[ 6.,  7.,  8.],\n",
       "         [ 9., 10., 11.],\n",
       "         [ 1.,  1.,  1.],\n",
       "         [ 1.,  1.,  1.]]))"
      ]
     },
     "execution_count": 533,
     "metadata": {},
     "output_type": "execute_result"
    }
   ],
   "source": [
    "x = torch.ones((4, 3))\n",
    "_x = x.clone()\n",
    "y = torch.arange(12, dtype=torch.float32).reshape((4, 3))\n",
    "z = torch.index_reduce(x, 0, torch.tensor([0, 0, 0, 1]), y, \"amax\", include_self=False)\n",
    "x, y, z"
   ]
  },
  {
   "cell_type": "code",
   "execution_count": 1021,
   "id": "c949f8ed",
   "metadata": {},
   "outputs": [
    {
     "data": {
      "text/plain": [
       "(tensor([[1., 1., 1.],\n",
       "         [1., 1., 1.],\n",
       "         [1., 1., 1.],\n",
       "         [1., 1., 1.]]),\n",
       " tensor([[ 0.,  1.,  2.],\n",
       "         [ 3.,  4.,  5.],\n",
       "         [ 6.,  7.,  8.],\n",
       "         [ 9., 10., 11.]]),\n",
       " tensor([[ 6.,  7.,  8.],\n",
       "         [ 9., 10., 11.],\n",
       "         [ 1.,  1.,  1.],\n",
       "         [ 1.,  1.,  1.]]))"
      ]
     },
     "execution_count": 1021,
     "metadata": {},
     "output_type": "execute_result"
    }
   ],
   "source": [
    "x = torch.ones((4, 3))\n",
    "_x = x.clone()\n",
    "y = torch.arange(12, dtype=torch.float32).reshape((4, 3))\n",
    "z = torch.index_reduce(x, 0, torch.tensor([0, 0, 0, 1]), y, \"amax\", include_self=True)\n",
    "x, y, z"
   ]
  },
  {
   "cell_type": "code",
   "execution_count": 534,
   "id": "9d1030cc",
   "metadata": {},
   "outputs": [
    {
     "data": {
      "text/plain": [
       "(torch.Size([2, 4, 5]), torch.Size([4, 5, 2]))"
      ]
     },
     "execution_count": 534,
     "metadata": {},
     "output_type": "execute_result"
    }
   ],
   "source": [
    "x = torch.randn(2, 4, 5)\n",
    "y = torch.movedim(x, 0, 2) # 4 -> 2 -> 5 : 4 -> 5 -> 2 \n",
    "x.shape, y.shape"
   ]
  },
  {
   "cell_type": "code",
   "execution_count": 535,
   "id": "89bff73d",
   "metadata": {},
   "outputs": [
    {
     "data": {
      "text/plain": [
       "(torch.Size([2, 3, 4, 5]), torch.Size([2, 4, 3, 5]))"
      ]
     },
     "execution_count": 535,
     "metadata": {},
     "output_type": "execute_result"
    }
   ],
   "source": [
    "x = torch.randn(2, 3, 4, 5)\n",
    "y = torch.movedim(x, 1, 2)\n",
    "x.shape, y.shape"
   ]
  },
  {
   "cell_type": "code",
   "execution_count": 536,
   "id": "16a3b1cf",
   "metadata": {},
   "outputs": [
    {
     "data": {
      "text/plain": [
       "(torch.Size([2, 3, 4, 5]), torch.Size([3, 4, 5, 2]))"
      ]
     },
     "execution_count": 536,
     "metadata": {},
     "output_type": "execute_result"
    }
   ],
   "source": [
    "x = torch.randn(2, 3, 4, 5)\n",
    "y = torch.movedim(x, 0, 3)\n",
    "x.shape, y.shape"
   ]
  },
  {
   "cell_type": "code",
   "execution_count": 537,
   "id": "b53b4a19",
   "metadata": {},
   "outputs": [
    {
     "data": {
      "text/plain": [
       "(torch.Size([2, 3, 4, 5]), torch.Size([2, 3, 5, 4]))"
      ]
     },
     "execution_count": 537,
     "metadata": {},
     "output_type": "execute_result"
    }
   ],
   "source": [
    "x = torch.randn(2, 3, 4, 5)\n",
    "y = torch.movedim(x, -2, -1)\n",
    "x.shape, y.shape"
   ]
  },
  {
   "cell_type": "code",
   "execution_count": 538,
   "id": "943c86b0",
   "metadata": {},
   "outputs": [
    {
     "data": {
      "text/plain": [
       "(torch.Size([2, 3, 4, 5]), torch.Size([2, 4, 5, 3]))"
      ]
     },
     "execution_count": 538,
     "metadata": {},
     "output_type": "execute_result"
    }
   ],
   "source": [
    "x = torch.randn(2, 3, 4, 5)\n",
    "y = torch.movedim(x, 1, -1)\n",
    "x.shape, y.shape"
   ]
  },
  {
   "cell_type": "code",
   "execution_count": 539,
   "id": "2d5f9fb7",
   "metadata": {},
   "outputs": [
    {
     "data": {
      "text/plain": [
       "(torch.Size([2, 3, 4, 5]), torch.Size([3, 2, 4, 5]))"
      ]
     },
     "execution_count": 539,
     "metadata": {},
     "output_type": "execute_result"
    }
   ],
   "source": [
    "x = torch.randn(2, 3, 4, 5)\n",
    "y = torch.movedim(x, 1, 0)\n",
    "x.shape, y.shape"
   ]
  },
  {
   "cell_type": "code",
   "execution_count": 1022,
   "id": "b546d041",
   "metadata": {},
   "outputs": [
    {
     "data": {
      "text/plain": [
       "(torch.Size([2, 3, 4, 5]), torch.Size([5, 2, 3, 4]))"
      ]
     },
     "execution_count": 1022,
     "metadata": {},
     "output_type": "execute_result"
    }
   ],
   "source": [
    "x = torch.randn(2, 3, 4, 5)\n",
    "y = torch.movedim(x, 3, 0)\n",
    "x.shape, y.shape"
   ]
  },
  {
   "cell_type": "code",
   "execution_count": 1024,
   "id": "f8fdb787",
   "metadata": {},
   "outputs": [
    {
     "data": {
      "text/plain": [
       "(tensor(10.), tensor(10.))"
      ]
     },
     "execution_count": 1024,
     "metadata": {},
     "output_type": "execute_result"
    }
   ],
   "source": [
    "x = torch.randn(2, 3, 4, 5)\n",
    "y = torch.movedim(x, 3, 0) \n",
    "y[0, 0, 0, 0] = 10. # Return view and modify in place\n",
    "y[0, 0, 0, 0], x[0, 0, 0, 0] "
   ]
  },
  {
   "cell_type": "code",
   "execution_count": 540,
   "id": "10883469",
   "metadata": {},
   "outputs": [
    {
     "data": {
      "text/plain": [
       "(torch.Size([2, 3, 4, 5]), torch.Size([3, 2, 4, 5]))"
      ]
     },
     "execution_count": 540,
     "metadata": {},
     "output_type": "execute_result"
    }
   ],
   "source": [
    "x = torch.randn(2, 3, 4, 5)\n",
    "y = x.permute((1, 0, 2, -1))\n",
    "x.shape, y.shape"
   ]
  },
  {
   "cell_type": "code",
   "execution_count": 541,
   "id": "bab56ab0",
   "metadata": {},
   "outputs": [
    {
     "data": {
      "text/plain": [
       "(torch.Size([2, 3, 4, 5]), torch.Size([3, 2, 4, 5]))"
      ]
     },
     "execution_count": 541,
     "metadata": {},
     "output_type": "execute_result"
    }
   ],
   "source": [
    "x = torch.randn(2, 3, 4, 5)\n",
    "y = torch.movedim(x, (1, 0), (0, 1))\n",
    "x.shape, y.shape"
   ]
  },
  {
   "cell_type": "code",
   "execution_count": 542,
   "id": "87871ea5",
   "metadata": {},
   "outputs": [
    {
     "data": {
      "text/plain": [
       "(torch.Size([2, 3, 4, 5]), torch.Size([3, 4, 2, 5]))"
      ]
     },
     "execution_count": 542,
     "metadata": {},
     "output_type": "execute_result"
    }
   ],
   "source": [
    "x = torch.randn(2, 3, 4, 5)\n",
    "y = torch.movedim(x, (1, 0), (0, 2))\n",
    "x.shape, y.shape"
   ]
  },
  {
   "cell_type": "code",
   "execution_count": 1081,
   "id": "c2ede1b4",
   "metadata": {},
   "outputs": [
    {
     "data": {
      "text/plain": [
       "(torch.Size([3, 4, 5]), torch.Size([4, 5, 3]))"
      ]
     },
     "execution_count": 1081,
     "metadata": {},
     "output_type": "execute_result"
    }
   ],
   "source": [
    "x = torch.randn( 3, 4, 5)\n",
    "y = torch.movedim(x, (1, 0, 2), (0, 2, 1))\n",
    "x.shape, y.shape"
   ]
  },
  {
   "cell_type": "code",
   "execution_count": 544,
   "id": "f191cb5c",
   "metadata": {},
   "outputs": [
    {
     "data": {
      "text/plain": [
       "(torch.Size([3, 4, 5]), torch.Size([4, 5, 3]))"
      ]
     },
     "execution_count": 544,
     "metadata": {},
     "output_type": "execute_result"
    }
   ],
   "source": [
    "x = torch.randn( 3, 4, 5)\n",
    "y = torch.moveaxis(x, (1, 0, 2), (0, 2, 1))\n",
    "x.shape, y.shape"
   ]
  },
  {
   "cell_type": "code",
   "execution_count": 1025,
   "id": "c0269597",
   "metadata": {},
   "outputs": [
    {
     "data": {
      "text/plain": [
       "(torch.Size([3, 6, 5, 8, 10]), torch.Size([6, 5, 8, 10, 3]))"
      ]
     },
     "execution_count": 1025,
     "metadata": {},
     "output_type": "execute_result"
    }
   ],
   "source": [
    "x = torch.randn( 3, 6, 5, 8, 10)\n",
    "y = torch.moveaxis(x, (0,), (-1,))\n",
    "x.shape, y.shape"
   ]
  },
  {
   "cell_type": "code",
   "execution_count": 545,
   "id": "31c9ec3b",
   "metadata": {},
   "outputs": [
    {
     "data": {
      "text/plain": [
       "(torch.Size([3, 6, 5, 8, 10]), torch.Size([5, 8, 10, 6, 3]))"
      ]
     },
     "execution_count": 545,
     "metadata": {},
     "output_type": "execute_result"
    }
   ],
   "source": [
    "x = torch.randn( 3, 6, 5, 8, 10)\n",
    "y = torch.moveaxis(x, (0, 1), (-1, -2,))\n",
    "x.shape, y.shape"
   ]
  },
  {
   "cell_type": "code",
   "execution_count": 1026,
   "id": "102cdbcd",
   "metadata": {},
   "outputs": [
    {
     "data": {
      "text/plain": [
       "(tensor([[0, 1, 2, 3, 4],\n",
       "         [5, 6, 7, 8, 9]]),\n",
       " tensor([[2, 3, 4],\n",
       "         [7, 8, 9]]))"
      ]
     },
     "execution_count": 1026,
     "metadata": {},
     "output_type": "execute_result"
    }
   ],
   "source": [
    "x = torch.arange(10).reshape(2, 5)\n",
    "y = torch.narrow(x, dim=1, start=2, length=3)\n",
    "x, y"
   ]
  },
  {
   "cell_type": "code",
   "execution_count": 547,
   "id": "ab6d549b",
   "metadata": {},
   "outputs": [
    {
     "data": {
      "text/plain": [
       "(tensor([[1, 1, 0, 0, 0],\n",
       "         [0, 0, 1, 1, 0]]),\n",
       " tensor([[0, 0],\n",
       "         [0, 1],\n",
       "         [1, 2],\n",
       "         [1, 3]]))"
      ]
     },
     "execution_count": 547,
     "metadata": {},
     "output_type": "execute_result"
    }
   ],
   "source": [
    "x = torch.randint(2, size=(2, 5))\n",
    "y = torch.nonzero(x)\n",
    "x, y"
   ]
  },
  {
   "cell_type": "code",
   "execution_count": 548,
   "id": "5de8f39c",
   "metadata": {},
   "outputs": [
    {
     "data": {
      "text/plain": [
       "(tensor([-0.3223,  1.0415,  1.4034,  0.3885,  0.3318]),\n",
       " tensor([[-0.8138,  0.5468, -1.1161, -1.3636,  0.1270],\n",
       "         [-0.5033,  1.5707, -1.6496,  1.0674,  1.2403]]),\n",
       " tensor([[-0.3223,  1.0415,  1.4034,  0.3885,  0.3318],\n",
       "         [-0.8138,  0.5468, -1.1161, -1.3636,  0.1270],\n",
       "         [-0.5033,  1.5707, -1.6496,  1.0674,  1.2403]]))"
      ]
     },
     "execution_count": 548,
     "metadata": {},
     "output_type": "execute_result"
    }
   ],
   "source": [
    "x = torch.randn((5))\n",
    "y = torch.randn((2, 5))\n",
    "z = torch.row_stack([x, y])\n",
    "x, y, z"
   ]
  },
  {
   "cell_type": "code",
   "execution_count": 549,
   "id": "86d64666",
   "metadata": {},
   "outputs": [
    {
     "data": {
      "text/plain": [
       "(tensor([[[[-1.6053,  0.2325],\n",
       "           [ 2.2399,  0.8473],\n",
       "           [ 1.2006, -0.4016]]],\n",
       " \n",
       " \n",
       "         [[[-1.4260,  0.9039],\n",
       "           [ 0.8557,  0.6889],\n",
       "           [ 0.8850,  1.7706]]]]),\n",
       " tensor([[[-1.6053,  2.2399,  1.2006]],\n",
       " \n",
       "         [[-1.4260,  0.8557,  0.8850]]]),\n",
       " torch.Size([2, 1, 3]))"
      ]
     },
     "execution_count": 549,
     "metadata": {},
     "output_type": "execute_result"
    }
   ],
   "source": [
    "torch.manual_seed(4)\n",
    "x = torch.randn((2, 1, 3, 2))\n",
    "y = x.select(3, 0 )\n",
    "x, y, y.shape"
   ]
  },
  {
   "cell_type": "code",
   "execution_count": 550,
   "id": "895ec1d5",
   "metadata": {},
   "outputs": [
    {
     "data": {
      "text/plain": [
       "(tensor([[[[-1.6053,  0.2325],\n",
       "           [ 2.2399,  0.8473],\n",
       "           [ 1.2006, -0.4016]]],\n",
       " \n",
       " \n",
       "         [[[-1.4260,  0.9039],\n",
       "           [ 0.8557,  0.6889],\n",
       "           [ 0.8850,  1.7706]]]]),\n",
       " tensor([[[[-1.6053],\n",
       "           [ 2.2399],\n",
       "           [ 1.2006]]],\n",
       " \n",
       " \n",
       "         [[[-1.4260],\n",
       "           [ 0.8557],\n",
       "           [ 0.8850]]]]),\n",
       " torch.Size([2, 1, 3, 1]))"
      ]
     },
     "execution_count": 550,
     "metadata": {},
     "output_type": "execute_result"
    }
   ],
   "source": [
    "torch.manual_seed(4)\n",
    "x = torch.randn((2, 1, 3, 2))\n",
    "y = x.index_select(3, torch.tensor([0]))\n",
    "x, y, y.shape"
   ]
  },
  {
   "cell_type": "code",
   "execution_count": 551,
   "id": "cb9ecf0a",
   "metadata": {},
   "outputs": [
    {
     "data": {
      "text/plain": [
       "(tensor([[[[-0.0809,  0.0513],\n",
       "           [-0.8688, -0.2757],\n",
       "           [-1.2717,  0.8816]]],\n",
       " \n",
       " \n",
       "         [[[-0.6640,  0.2639],\n",
       "           [ 0.1610,  1.1758],\n",
       "           [-0.3615,  0.4681]]]]),\n",
       " tensor([[[-0.0809, -0.8688, -1.2717]],\n",
       " \n",
       "         [[-0.6640,  0.1610, -0.3615]]]),\n",
       " torch.Size([2, 1, 3]))"
      ]
     },
     "execution_count": 551,
     "metadata": {},
     "output_type": "execute_result"
    }
   ],
   "source": [
    "x = torch.randn((2, 1, 3, 2))\n",
    "y = x.select(-1, 0)\n",
    "x, y, y.shape"
   ]
  },
  {
   "cell_type": "code",
   "execution_count": 1027,
   "id": "c96ce6b8",
   "metadata": {},
   "outputs": [
    {
     "data": {
      "text/plain": [
       "(tensor([[[[-10.0000,   0.3596],\n",
       "           [  1.2129,  -0.0512],\n",
       "           [  0.4679,   0.3861]]],\n",
       " \n",
       " \n",
       "         [[[  0.1550,   0.2155],\n",
       "           [  0.9103,   1.3021],\n",
       "           [  1.3047,  -0.6982]]]]),\n",
       " tensor([[[-10.0000,   1.2129,   0.4679]],\n",
       " \n",
       "         [[  0.1550,   0.9103,   1.3047]]]),\n",
       " torch.Size([2, 1, 3]))"
      ]
     },
     "execution_count": 1027,
     "metadata": {},
     "output_type": "execute_result"
    }
   ],
   "source": [
    "x = torch.randn((2, 1, 3, 2))\n",
    "y = x.select(-1, 0) # View modify in place\n",
    "y[0, 0, 0] = -10\n",
    "x, y, y.shape"
   ]
  },
  {
   "cell_type": "code",
   "execution_count": 552,
   "id": "7463c430",
   "metadata": {},
   "outputs": [
    {
     "data": {
      "text/plain": [
       "(tensor([[[[-0.6014, -1.0122],\n",
       "           [-0.3023, -1.2277],\n",
       "           [ 0.9198, -0.3485]]],\n",
       " \n",
       " \n",
       "         [[[-0.8692, -0.9582],\n",
       "           [-1.1920,  1.9050],\n",
       "           [-0.9373, -0.8465]]]]),\n",
       " tensor([[[-0.6014, -1.0122],\n",
       "          [-0.3023, -1.2277],\n",
       "          [ 0.9198, -0.3485]]]),\n",
       " torch.Size([1, 3, 2]))"
      ]
     },
     "execution_count": 552,
     "metadata": {},
     "output_type": "execute_result"
    }
   ],
   "source": [
    "torch.manual_seed(10)\n",
    "x = torch.randn((2, 1, 3, 2))\n",
    "y = x.select(0, 0)\n",
    "x, y, y.shape"
   ]
  },
  {
   "cell_type": "code",
   "execution_count": 553,
   "id": "e213e965",
   "metadata": {},
   "outputs": [
    {
     "data": {
      "text/plain": [
       "(tensor([[[[-0.6014, -1.0122],\n",
       "           [-0.3023, -1.2277],\n",
       "           [ 0.9198, -0.3485]]],\n",
       " \n",
       " \n",
       "         [[[-0.8692, -0.9582],\n",
       "           [-1.1920,  1.9050],\n",
       "           [-0.9373, -0.8465]]]]),\n",
       " tensor([[[[-0.6014, -1.0122],\n",
       "           [-0.3023, -1.2277],\n",
       "           [ 0.9198, -0.3485]]]]),\n",
       " torch.Size([1, 1, 3, 2]))"
      ]
     },
     "execution_count": 553,
     "metadata": {},
     "output_type": "execute_result"
    }
   ],
   "source": [
    "torch.manual_seed(10)\n",
    "x = torch.randn((2, 1, 3, 2))\n",
    "y = x.index_select(0, torch.tensor(0))\n",
    "x, y, y.shape"
   ]
  },
  {
   "cell_type": "code",
   "execution_count": 1031,
   "id": "8a7bf9a4",
   "metadata": {},
   "outputs": [
    {
     "data": {
      "text/plain": [
       "(tensor([[[[-0.6014, -1.0122],\n",
       "           [-0.3023, -1.2277],\n",
       "           [ 0.9198, -0.3485]]],\n",
       " \n",
       " \n",
       "         [[[-0.8692, -0.9582],\n",
       "           [-1.1920,  1.9050],\n",
       "           [-0.9373, -0.8465]]]]),\n",
       " tensor([[[[-0.6014, -1.0122],\n",
       "           [-0.3023, -1.2277],\n",
       "           [ 0.9198, -0.3485]]],\n",
       " \n",
       " \n",
       "         [[[-0.6014, -1.0122],\n",
       "           [-0.3023, -1.2277],\n",
       "           [ 0.9198, -0.3485]]],\n",
       " \n",
       " \n",
       "         [[[-0.6014, -1.0122],\n",
       "           [-0.3023, -1.2277],\n",
       "           [ 0.9198, -0.3485]]],\n",
       " \n",
       " \n",
       "         [[[-0.8692, -0.9582],\n",
       "           [-1.1920,  1.9050],\n",
       "           [-0.9373, -0.8465]]]]),\n",
       " torch.Size([4, 1, 3, 2]))"
      ]
     },
     "execution_count": 1031,
     "metadata": {},
     "output_type": "execute_result"
    }
   ],
   "source": [
    "torch.manual_seed(10)\n",
    "x = torch.randn((2, 1, 3, 2))\n",
    "y = x.index_select(0, torch.tensor([0, 0, 0, 1]))\n",
    "x, y, y.shape"
   ]
  },
  {
   "cell_type": "code",
   "execution_count": 554,
   "id": "3c54a6ec",
   "metadata": {},
   "outputs": [
    {
     "data": {
      "text/plain": [
       "(tensor([[[[-0.6014, -1.0122],\n",
       "           [-0.3023, -1.2277],\n",
       "           [ 0.9198, -0.3485]]],\n",
       " \n",
       " \n",
       "         [[[-0.8692, -0.9582],\n",
       "           [-1.1920,  1.9050],\n",
       "           [-0.9373, -0.8465]]]]),\n",
       " tensor([[[[-0.6014, -1.0122]]],\n",
       " \n",
       " \n",
       "         [[[-0.8692, -0.9582]]]]),\n",
       " torch.Size([2, 1, 1, 2]))"
      ]
     },
     "execution_count": 554,
     "metadata": {},
     "output_type": "execute_result"
    }
   ],
   "source": [
    "torch.manual_seed(10)\n",
    "x = torch.randn((2, 1, 3, 2))\n",
    "y = x.index_select(2, torch.tensor(0))\n",
    "x, y, y.shape"
   ]
  },
  {
   "cell_type": "code",
   "execution_count": 555,
   "id": "7f409c05",
   "metadata": {},
   "outputs": [
    {
     "data": {
      "text/plain": [
       "(tensor([[[[-0.6014, -1.0122],\n",
       "           [-0.3023, -1.2277],\n",
       "           [ 0.9198, -0.3485]]],\n",
       " \n",
       " \n",
       "         [[[-0.8692, -0.9582],\n",
       "           [-1.1920,  1.9050],\n",
       "           [-0.9373, -0.8465]]]]),\n",
       " tensor([[[[-1.0122, -1.0122, -0.6014],\n",
       "           [-1.2277, -1.2277, -0.3023],\n",
       "           [-0.3485, -0.3485,  0.9198]]],\n",
       " \n",
       " \n",
       "         [[[-0.9582, -0.9582, -0.8692],\n",
       "           [ 1.9050,  1.9050, -1.1920],\n",
       "           [-0.8465, -0.8465, -0.9373]]]]),\n",
       " torch.Size([2, 1, 3, 3]))"
      ]
     },
     "execution_count": 555,
     "metadata": {},
     "output_type": "execute_result"
    }
   ],
   "source": [
    "torch.manual_seed(10)\n",
    "x = torch.randn((2, 1, 3, 2))\n",
    "y = x.index_select(3, torch.tensor([1, 1, 0]))\n",
    "x, y, y.shape"
   ]
  },
  {
   "cell_type": "code",
   "execution_count": 1032,
   "id": "02626b80",
   "metadata": {},
   "outputs": [
    {
     "data": {
      "text/plain": [
       "(tensor([[[[-0.6014, -1.0122],\n",
       "           [-0.3023, -1.2277],\n",
       "           [ 0.9198, -0.3485]]],\n",
       " \n",
       " \n",
       "         [[[-0.8692, -0.9582],\n",
       "           [-1.1920,  1.9050],\n",
       "           [-0.9373, -0.8465]]]]),\n",
       " tensor([[[-0.6014, -1.0122],\n",
       "          [-0.3023, -1.2277],\n",
       "          [ 0.9198, -0.3485]]]),\n",
       " torch.Size([1, 3, 2]))"
      ]
     },
     "execution_count": 1032,
     "metadata": {},
     "output_type": "execute_result"
    }
   ],
   "source": [
    "torch.manual_seed(10)\n",
    "x = torch.randn((2, 1, 3, 2))\n",
    "y = x.select(0, 0)\n",
    "x, y, y.shape"
   ]
  },
  {
   "cell_type": "code",
   "execution_count": 1038,
   "id": "aea741b7",
   "metadata": {},
   "outputs": [
    {
     "data": {
      "text/plain": [
       "(tensor([[ 1,  2,  3,  4,  5],\n",
       "         [ 6,  7,  8,  9, 10]]),\n",
       " tensor([[1, 0, 0, 0, 0],\n",
       "         [0, 0, 0, 0, 0],\n",
       "         [0, 0, 0, 0, 0],\n",
       "         [0, 0, 0, 0, 0]]))"
      ]
     },
     "execution_count": 1038,
     "metadata": {},
     "output_type": "execute_result"
    }
   ],
   "source": [
    "x = torch.arange(1, 11).reshape((2, 5))\n",
    "y = torch.zeros(4, 5, dtype=x.dtype)\n",
    "y.scatter_(0, torch.tensor([[0]]), x)\n",
    "x, y"
   ]
  },
  {
   "cell_type": "code",
   "execution_count": 1039,
   "id": "0726da55",
   "metadata": {},
   "outputs": [
    {
     "data": {
      "text/plain": [
       "(tensor([[ 1,  2,  3,  4,  5],\n",
       "         [ 6,  7,  8,  9, 10]]),\n",
       " tensor([[0, 0, 0, 0, 0],\n",
       "         [1, 0, 0, 0, 0],\n",
       "         [0, 0, 0, 0, 0],\n",
       "         [0, 0, 0, 0, 0]]))"
      ]
     },
     "execution_count": 1039,
     "metadata": {},
     "output_type": "execute_result"
    }
   ],
   "source": [
    "x = torch.arange(1, 11).reshape((2, 5))\n",
    "y = torch.zeros(4, 5, dtype=x.dtype)\n",
    "y.scatter_(0, torch.tensor([[1]]), x)\n",
    "x, y"
   ]
  },
  {
   "cell_type": "code",
   "execution_count": 1046,
   "id": "40ec59ba",
   "metadata": {},
   "outputs": [
    {
     "data": {
      "text/plain": [
       "(tensor([[ 1,  2,  3,  4,  5],\n",
       "         [ 6,  7,  8,  9, 10]]),\n",
       " tensor([[0, 0, 0, 0, 0],\n",
       "         [1, 0, 0, 0, 0],\n",
       "         [0, 2, 0, 0, 0],\n",
       "         [0, 0, 0, 0, 0]]))"
      ]
     },
     "execution_count": 1046,
     "metadata": {},
     "output_type": "execute_result"
    }
   ],
   "source": [
    "x = torch.arange(1, 11).reshape((2, 5))\n",
    "y = torch.zeros(4, 5, dtype=x.dtype)\n",
    "y.scatter_(0, torch.tensor([[1, 2]]), x)\n",
    "x, y"
   ]
  },
  {
   "cell_type": "code",
   "execution_count": 1054,
   "id": "a803f27a",
   "metadata": {},
   "outputs": [
    {
     "data": {
      "text/plain": [
       "(tensor([[ 1,  2,  3,  4,  5,  6],\n",
       "         [ 7,  8,  9, 10, 11, 12]]),\n",
       " tensor([[1, 2, 3, 4, 5],\n",
       "         [0, 0, 0, 0, 0],\n",
       "         [0, 0, 0, 0, 0],\n",
       "         [0, 0, 0, 0, 0]]))"
      ]
     },
     "execution_count": 1054,
     "metadata": {},
     "output_type": "execute_result"
    }
   ],
   "source": [
    "x = torch.arange(1, 13).reshape((2, 6))\n",
    "y = torch.zeros(4, 5, dtype=x.dtype)\n",
    "y.scatter_(0, torch.tensor([[0, 0, 0, 0, 0]]), x)\n",
    "x, y"
   ]
  },
  {
   "cell_type": "code",
   "execution_count": 1055,
   "id": "6de9be7c",
   "metadata": {},
   "outputs": [
    {
     "data": {
      "text/plain": [
       "(tensor([[ 1,  2,  3,  4,  5,  6],\n",
       "         [ 7,  8,  9, 10, 11, 12]]),\n",
       " tensor([[ 1,  2,  3,  4,  5],\n",
       "         [ 7,  8,  9, 10, 11],\n",
       "         [ 0,  0,  0,  0,  0],\n",
       "         [ 0,  0,  0,  0,  0]]))"
      ]
     },
     "execution_count": 1055,
     "metadata": {},
     "output_type": "execute_result"
    }
   ],
   "source": [
    "x = torch.arange(1, 13).reshape((2, 6))\n",
    "y = torch.zeros(4, 5, dtype=x.dtype)\n",
    "y.scatter_(0, torch.tensor([[0, 0, 0, 0, 0], [1]*5]), x)\n",
    "x, y"
   ]
  },
  {
   "cell_type": "code",
   "execution_count": 1057,
   "id": "1c646a83",
   "metadata": {},
   "outputs": [
    {
     "data": {
      "text/plain": [
       "(tensor([[ 1,  2,  3,  4,  5,  6],\n",
       "         [ 7,  8,  9, 10, 11, 12]]),\n",
       " tensor([[ 1,  2,  3,  4,  5],\n",
       "         [ 7,  8,  9, 10, 11],\n",
       "         [ 0,  0,  0,  0,  0],\n",
       "         [ 0,  0,  0,  0,  0]]))"
      ]
     },
     "execution_count": 1057,
     "metadata": {},
     "output_type": "execute_result"
    }
   ],
   "source": [
    "x = torch.arange(1, 13).reshape((2, 6))\n",
    "y = torch.zeros(4, 5, dtype=x.dtype)\n",
    "y.scatter_(0, torch.tensor([[0, 0, 0, 0, 0], [1]*5]), x)\n",
    "x, y"
   ]
  },
  {
   "cell_type": "code",
   "execution_count": 1044,
   "id": "3a5c0d8d",
   "metadata": {},
   "outputs": [
    {
     "data": {
      "text/plain": [
       "(tensor([[ 1,  2,  3,  4,  5],\n",
       "         [ 6,  7,  8,  9, 10]]),\n",
       " tensor([[6, 0, 0, 0, 0],\n",
       "         [1, 0, 0, 0, 0],\n",
       "         [0, 0, 0, 0, 0],\n",
       "         [0, 0, 0, 0, 0]]))"
      ]
     },
     "execution_count": 1044,
     "metadata": {},
     "output_type": "execute_result"
    }
   ],
   "source": [
    "x = torch.arange(1, 11).reshape((2, 5))\n",
    "y = torch.zeros(4, 5, dtype=x.dtype)\n",
    "y.scatter_(0, torch.tensor([[1], [0]]), x)\n",
    "x, y"
   ]
  },
  {
   "cell_type": "code",
   "execution_count": 556,
   "id": "bec98db1",
   "metadata": {},
   "outputs": [
    {
     "data": {
      "text/plain": [
       "(tensor([[ 1,  2,  3,  4,  5],\n",
       "         [ 6,  7,  8,  9, 10]]),\n",
       " tensor([[ 1,  0,  3,  4,  5],\n",
       "         [ 0,  2,  0,  0,  0],\n",
       "         [ 0,  7,  0,  0,  0],\n",
       "         [ 6,  0,  8,  9, 10]]))"
      ]
     },
     "execution_count": 556,
     "metadata": {},
     "output_type": "execute_result"
    }
   ],
   "source": [
    "x = torch.arange(1, 11).reshape((2, 5))\n",
    "y = torch.zeros(4, 5, dtype=x.dtype)\n",
    "y.scatter_(0, torch.tensor([[0, 1, 0, 0, 0,], [3, 2, 3, 3, 3] ]), x)\n",
    "x, y"
   ]
  },
  {
   "cell_type": "code",
   "execution_count": 557,
   "id": "ab63797b",
   "metadata": {},
   "outputs": [
    {
     "data": {
      "text/plain": [
       "(tensor([[ 1,  2,  3,  4,  5],\n",
       "         [ 6,  7,  8,  9, 10]]),\n",
       " tensor([[1, 0, 3, 0, 0],\n",
       "         [0, 2, 0, 0, 0],\n",
       "         [0, 7, 0, 0, 0],\n",
       "         [6, 0, 8, 0, 0]]))"
      ]
     },
     "execution_count": 557,
     "metadata": {},
     "output_type": "execute_result"
    }
   ],
   "source": [
    "x = torch.arange(1, 11).reshape((2, 5))\n",
    "y = torch.zeros(4, 5, dtype=x.dtype).scatter_(0, torch.tensor([[0, 1, 0,], [3, 2, 3] ]), x)\n",
    "x, y"
   ]
  },
  {
   "cell_type": "code",
   "execution_count": 1059,
   "id": "411c8056",
   "metadata": {},
   "outputs": [
    {
     "data": {
      "text/plain": [
       "(tensor([[ 1,  2,  3,  4,  5],\n",
       "         [ 6,  7,  8,  9, 10]]),\n",
       " tensor([[1, 2, 3, 0, 0],\n",
       "         [6, 0, 7, 0, 8],\n",
       "         [0, 0, 0, 0, 0],\n",
       "         [0, 0, 0, 0, 0]]))"
      ]
     },
     "execution_count": 1059,
     "metadata": {},
     "output_type": "execute_result"
    }
   ],
   "source": [
    "x = torch.arange(1, 11).reshape((2, 5))\n",
    "y = torch.zeros(4, 5, dtype=x.dtype)\n",
    "y.scatter_(1, torch.tensor([[0,1,2], [0,2,4],  ]), x)\n",
    "x, y"
   ]
  },
  {
   "cell_type": "code",
   "execution_count": 559,
   "id": "c1680ce2",
   "metadata": {},
   "outputs": [
    {
     "name": "stderr",
     "output_type": "stream",
     "text": [
      "/tmp/ipykernel_11384/3944860815.py:2: UserWarning: The reduce argument of torch.scatter with Tensor src is deprecated and will be removed in a future PyTorch release. Use torch.scatter_reduce instead for more reduction options. (Triggered internally at ../aten/src/ATen/native/TensorAdvancedIndexing.cpp:224.)\n",
      "  y = torch.zeros(4, 5, dtype=x.dtype).scatter_(1, torch.tensor([[0,1,0], [0,2,4] ]), x, reduce=\"add\")\n"
     ]
    },
    {
     "data": {
      "text/plain": [
       "(tensor([[ 1,  2,  3,  4,  5],\n",
       "         [ 6,  7,  8,  9, 10]]),\n",
       " tensor([[4, 2, 0, 0, 0],\n",
       "         [6, 0, 7, 0, 8],\n",
       "         [0, 0, 0, 0, 0],\n",
       "         [0, 0, 0, 0, 0]]))"
      ]
     },
     "execution_count": 559,
     "metadata": {},
     "output_type": "execute_result"
    }
   ],
   "source": [
    "x = torch.arange(1, 11).reshape((2, 5))\n",
    "y = torch.zeros(4, 5, dtype=x.dtype).scatter_(1, torch.tensor([[0,1,0], [0,2,4] ]), x, reduce=\"add\")\n",
    "x, y"
   ]
  },
  {
   "cell_type": "code",
   "execution_count": 560,
   "id": "f9b56155",
   "metadata": {},
   "outputs": [
    {
     "data": {
      "text/plain": [
       "(tensor([[ 1,  2,  3,  4,  5],\n",
       "         [ 6,  7,  8,  9, 10]]),\n",
       " tensor([[5, 3, 1, 1, 1],\n",
       "         [7, 1, 8, 1, 9],\n",
       "         [1, 1, 1, 1, 1],\n",
       "         [1, 1, 1, 1, 1]]))"
      ]
     },
     "execution_count": 560,
     "metadata": {},
     "output_type": "execute_result"
    }
   ],
   "source": [
    "x = torch.arange(1, 11).reshape((2, 5))\n",
    "y = torch.ones(4, 5, dtype=x.dtype).scatter_(1, torch.tensor([[0,1,0], [0,2,4] ]), x, reduce=\"add\")\n",
    "x, y"
   ]
  },
  {
   "cell_type": "code",
   "execution_count": 561,
   "id": "6dc48da6",
   "metadata": {},
   "outputs": [
    {
     "data": {
      "text/plain": [
       "tensor([[0., 0., 0., 0., 0., 0., 0., 0.],\n",
       "        [0., 0., 0., 0., 0., 0., 0., 0.],\n",
       "        [0., 0., 0., 0., 0., 0., 0., 0.],\n",
       "        [0., 0., 0., 0., 0., 0., 0., 0.],\n",
       "        [0., 0., 0., 0., 0., 0., 0., 0.],\n",
       "        [0., 0., 0., 0., 0., 0., 0., 0.],\n",
       "        [1., 1., 1., 1., 1., 1., 1., 1.],\n",
       "        [1., 1., 1., 1., 1., 1., 1., 1.]])"
      ]
     },
     "execution_count": 561,
     "metadata": {},
     "output_type": "execute_result"
    }
   ],
   "source": [
    "x = torch.zeros(8, 8)\n",
    "y = torch.ones((2, 8))\n",
    "z = x.slice_scatter(y, start=6)\n",
    "z"
   ]
  },
  {
   "cell_type": "code",
   "execution_count": 562,
   "id": "d92d5e7a",
   "metadata": {},
   "outputs": [
    {
     "data": {
      "text/plain": [
       "tensor([[0., 0., 0., 0., 0., 0., 0., 0.],\n",
       "        [0., 0., 0., 0., 0., 0., 0., 0.],\n",
       "        [0., 0., 0., 0., 0., 0., 0., 0.],\n",
       "        [0., 0., 0., 0., 0., 0., 0., 0.],\n",
       "        [0., 0., 0., 0., 0., 0., 0., 0.],\n",
       "        [0., 0., 0., 0., 0., 0., 0., 0.],\n",
       "        [1., 1., 1., 1., 1., 1., 1., 1.],\n",
       "        [0., 0., 0., 0., 0., 0., 0., 0.]])"
      ]
     },
     "execution_count": 562,
     "metadata": {},
     "output_type": "execute_result"
    }
   ],
   "source": [
    "x = torch.zeros(8, 8)\n",
    "y = torch.ones((1, 8))\n",
    "z = x.slice_scatter(y, start=6, end=7)\n",
    "z"
   ]
  },
  {
   "cell_type": "code",
   "execution_count": 563,
   "id": "abe2147e",
   "metadata": {},
   "outputs": [
    {
     "data": {
      "text/plain": [
       "tensor([[0., 0., 0., 0., 0., 0., 0., 0.],\n",
       "        [0., 0., 0., 0., 0., 0., 0., 0.],\n",
       "        [0., 0., 0., 0., 0., 0., 0., 0.],\n",
       "        [0., 0., 0., 0., 0., 0., 0., 0.],\n",
       "        [1., 1., 1., 1., 1., 1., 1., 1.],\n",
       "        [0., 0., 0., 0., 0., 0., 0., 0.],\n",
       "        [1., 1., 1., 1., 1., 1., 1., 1.],\n",
       "        [0., 0., 0., 0., 0., 0., 0., 0.]])"
      ]
     },
     "execution_count": 563,
     "metadata": {},
     "output_type": "execute_result"
    }
   ],
   "source": [
    "x = torch.zeros(8, 8)\n",
    "y = torch.ones((2, 8))\n",
    "z = x.slice_scatter(y, start=4, step=2)\n",
    "z"
   ]
  },
  {
   "cell_type": "code",
   "execution_count": 1075,
   "id": "fd80352a",
   "metadata": {},
   "outputs": [
    {
     "data": {
      "text/plain": [
       "tensor([[ 0.,  0.,  1.,  0.,  2.,  0.,  3.,  0.],\n",
       "        [ 4.,  0.,  5.,  0.,  6.,  0.,  7.,  0.],\n",
       "        [ 8.,  0.,  9.,  0., 10.,  0., 11.,  0.],\n",
       "        [12.,  0., 13.,  0., 14.,  0., 15.,  0.],\n",
       "        [16.,  0., 17.,  0., 18.,  0., 19.,  0.],\n",
       "        [20.,  0., 21.,  0., 22.,  0., 23.,  0.],\n",
       "        [24.,  0., 25.,  0., 26.,  0., 27.,  0.],\n",
       "        [28.,  0., 29.,  0., 30.,  0., 31.,  0.]])"
      ]
     },
     "execution_count": 1075,
     "metadata": {},
     "output_type": "execute_result"
    }
   ],
   "source": [
    "x = torch.zeros(8, 8)\n",
    "y = torch.arange(32).view(8, 4)\n",
    "z = x.slice_scatter(y, dim=1, step=2)\n",
    "z"
   ]
  },
  {
   "cell_type": "code",
   "execution_count": 1076,
   "id": "d23e1086",
   "metadata": {},
   "outputs": [
    {
     "data": {
      "text/plain": [
       "tensor([[ 0.,  1.,  2.,  3.,  4.,  5.,  6.,  7.],\n",
       "        [ 0.,  0.,  0.,  0.,  0.,  0.,  0.,  0.],\n",
       "        [ 8.,  9., 10., 11., 12., 13., 14., 15.],\n",
       "        [ 0.,  0.,  0.,  0.,  0.,  0.,  0.,  0.],\n",
       "        [16., 17., 18., 19., 20., 21., 22., 23.],\n",
       "        [ 0.,  0.,  0.,  0.,  0.,  0.,  0.,  0.],\n",
       "        [24., 25., 26., 27., 28., 29., 30., 31.],\n",
       "        [ 0.,  0.,  0.,  0.,  0.,  0.,  0.,  0.]])"
      ]
     },
     "execution_count": 1076,
     "metadata": {},
     "output_type": "execute_result"
    }
   ],
   "source": [
    "x = torch.zeros(8, 8)\n",
    "y = torch.arange(32).view(4, 8)\n",
    "z = x.slice_scatter(y, dim=0, step=2)\n",
    "z"
   ]
  },
  {
   "cell_type": "code",
   "execution_count": 565,
   "id": "bf977c24",
   "metadata": {},
   "outputs": [
    {
     "data": {
      "text/plain": [
       "(tensor([[0., 0.],\n",
       "         [0., 0.]]),\n",
       " tensor([1, 2]),\n",
       " tensor([[1., 2.],\n",
       "         [0., 0.]]))"
      ]
     },
     "execution_count": 565,
     "metadata": {},
     "output_type": "execute_result"
    }
   ],
   "source": [
    "x = torch.zeros(2, 2)\n",
    "y = torch.arange(1, 3).view(2)\n",
    "x, y, x.select_scatter(y, 0, 0)"
   ]
  },
  {
   "cell_type": "code",
   "execution_count": 566,
   "id": "8d521c58",
   "metadata": {},
   "outputs": [
    {
     "data": {
      "text/plain": [
       "(tensor([[0., 0., 0., 0., 0.],\n",
       "         [0., 0., 0., 0., 0.],\n",
       "         [0., 0., 0., 0., 0.]]),\n",
       " tensor([1, 2, 3, 4, 5]),\n",
       " tensor([[1., 2., 3., 4., 5.],\n",
       "         [1., 2., 3., 4., 5.],\n",
       "         [0., 0., 0., 0., 0.]]))"
      ]
     },
     "execution_count": 566,
     "metadata": {},
     "output_type": "execute_result"
    }
   ],
   "source": [
    "x = torch.zeros(3, 5)\n",
    "y = torch.arange(1, 6).view(5)\n",
    "x, y, x.select_scatter(y, 0, 0).select_scatter(y, 0, 1)"
   ]
  },
  {
   "cell_type": "code",
   "execution_count": 568,
   "id": "e506642e",
   "metadata": {},
   "outputs": [
    {
     "data": {
      "text/plain": [
       "(tensor([[0., 0., 0., 0., 0.],\n",
       "         [0., 0., 0., 0., 0.],\n",
       "         [0., 0., 0., 0., 0.]]),\n",
       " tensor([1, 2, 3]),\n",
       " tensor([[1., 0., 0., 0., 0.],\n",
       "         [2., 0., 0., 0., 0.],\n",
       "         [3., 0., 0., 0., 0.]]))"
      ]
     },
     "execution_count": 568,
     "metadata": {},
     "output_type": "execute_result"
    }
   ],
   "source": [
    "x = torch.zeros(3, 5)\n",
    "y = torch.arange(1, 4).view(3)\n",
    "x, y, x.select_scatter(y, 1, 0)"
   ]
  },
  {
   "cell_type": "code",
   "execution_count": 569,
   "id": "bfe11bc1",
   "metadata": {},
   "outputs": [
    {
     "data": {
      "text/plain": [
       "(tensor([[[0., 0., 0., 0., 0.],\n",
       "          [0., 0., 0., 0., 0.],\n",
       "          [0., 0., 0., 0., 0.],\n",
       "          [0., 0., 0., 0., 0.]],\n",
       " \n",
       "         [[0., 0., 0., 0., 0.],\n",
       "          [0., 0., 0., 0., 0.],\n",
       "          [0., 0., 0., 0., 0.],\n",
       "          [0., 0., 0., 0., 0.]],\n",
       " \n",
       "         [[0., 0., 0., 0., 0.],\n",
       "          [0., 0., 0., 0., 0.],\n",
       "          [0., 0., 0., 0., 0.],\n",
       "          [0., 0., 0., 0., 0.]]]),\n",
       " tensor([[ 0,  1,  2,  3,  4],\n",
       "         [ 5,  6,  7,  8,  9],\n",
       "         [10, 11, 12, 13, 14]]),\n",
       " tensor([[[ 0.,  1.,  2.,  3.,  4.],\n",
       "          [ 0.,  0.,  0.,  0.,  0.],\n",
       "          [ 0.,  0.,  0.,  0.,  0.],\n",
       "          [ 0.,  0.,  0.,  0.,  0.]],\n",
       " \n",
       "         [[ 5.,  6.,  7.,  8.,  9.],\n",
       "          [ 0.,  0.,  0.,  0.,  0.],\n",
       "          [ 0.,  0.,  0.,  0.,  0.],\n",
       "          [ 0.,  0.,  0.,  0.,  0.]],\n",
       " \n",
       "         [[10., 11., 12., 13., 14.],\n",
       "          [ 0.,  0.,  0.,  0.,  0.],\n",
       "          [ 0.,  0.,  0.,  0.,  0.],\n",
       "          [ 0.,  0.,  0.,  0.,  0.]]]))"
      ]
     },
     "execution_count": 569,
     "metadata": {},
     "output_type": "execute_result"
    }
   ],
   "source": [
    "x = torch.zeros(3, 4, 5)\n",
    "y = torch.arange(3*5).view(3, 5)\n",
    "x, y, x.select_scatter(y, 1, 0)"
   ]
  },
  {
   "cell_type": "code",
   "execution_count": 1112,
   "id": "9ad46b64",
   "metadata": {},
   "outputs": [
    {
     "data": {
      "text/plain": [
       "(tensor([[[0., 0., 0., 0., 0.],\n",
       "          [0., 0., 0., 0., 0.],\n",
       "          [0., 0., 0., 0., 0.],\n",
       "          [0., 0., 0., 0., 0.]],\n",
       " \n",
       "         [[0., 0., 0., 0., 0.],\n",
       "          [0., 0., 0., 0., 0.],\n",
       "          [0., 0., 0., 0., 0.],\n",
       "          [0., 0., 0., 0., 0.]],\n",
       " \n",
       "         [[0., 0., 0., 0., 0.],\n",
       "          [0., 0., 0., 0., 0.],\n",
       "          [0., 0., 0., 0., 0.],\n",
       "          [0., 0., 0., 0., 0.]]]),\n",
       " tensor([[0, 1, 2, 3, 4],\n",
       "         [0, 1, 2, 3, 4],\n",
       "         [0, 1, 2, 3, 4]]),\n",
       " tensor([[[0., 1., 2., 3., 4.],\n",
       "          [0., 0., 0., 0., 0.],\n",
       "          [0., 0., 0., 0., 0.],\n",
       "          [0., 0., 0., 0., 0.]],\n",
       " \n",
       "         [[0., 1., 2., 3., 4.],\n",
       "          [0., 0., 0., 0., 0.],\n",
       "          [0., 0., 0., 0., 0.],\n",
       "          [0., 0., 0., 0., 0.]],\n",
       " \n",
       "         [[0., 1., 2., 3., 4.],\n",
       "          [0., 0., 0., 0., 0.],\n",
       "          [0., 0., 0., 0., 0.],\n",
       "          [0., 0., 0., 0., 0.]]]))"
      ]
     },
     "execution_count": 1112,
     "metadata": {},
     "output_type": "execute_result"
    }
   ],
   "source": [
    "x = torch.zeros(3, 4, 5)\n",
    "y = torch.arange(1*5).view(1, 5).expand((3, 5))\n",
    "x, y, x.select_scatter(y, 1, 0)"
   ]
  },
  {
   "cell_type": "code",
   "execution_count": 570,
   "id": "b45cdd5d",
   "metadata": {},
   "outputs": [
    {
     "data": {
      "text/plain": [
       "tensor([ 0,  3,  4,  5,  8,  9, 10, 11])"
      ]
     },
     "execution_count": 570,
     "metadata": {},
     "output_type": "execute_result"
    }
   ],
   "source": [
    "torch.manual_seed(16)\n",
    "x = torch.arange(12).view(4, 3)\n",
    "mask = torch.empty(4, 3).uniform_(0, 0.1).bernoulli_().bool()\n",
    "x[mask]"
   ]
  },
  {
   "cell_type": "code",
   "execution_count": 1215,
   "id": "93d5d23d",
   "metadata": {},
   "outputs": [
    {
     "data": {
      "text/plain": [
       "(tensor([[ 0,  1,  2],\n",
       "         [ 3,  4,  5],\n",
       "         [ 6,  7,  8],\n",
       "         [ 9, 10, 11]]),\n",
       " tensor([[ True, False, False],\n",
       "         [ True,  True,  True],\n",
       "         [False, False,  True],\n",
       "         [ True,  True,  True]]),\n",
       " tensor([ 0,  3,  4,  5,  8,  9, 10, 11]),\n",
       " tensor([[ 0],\n",
       "         [ 3],\n",
       "         [ 4],\n",
       "         [ 5],\n",
       "         [ 8],\n",
       "         [ 9],\n",
       "         [10],\n",
       "         [11]]))"
      ]
     },
     "execution_count": 1215,
     "metadata": {},
     "output_type": "execute_result"
    }
   ],
   "source": [
    "torch.manual_seed(16)\n",
    "x = torch.arange(12).view(4, 3)\n",
    "mask = torch.empty(4, 3).uniform_(0, 0.1).bernoulli_().bool()\n",
    "x, mask, x.masked_select(mask), x[mask.nonzero().chunk(2, 1)]#.flatten()"
   ]
  },
  {
   "cell_type": "code",
   "execution_count": 572,
   "id": "b1825907",
   "metadata": {},
   "outputs": [
    {
     "data": {
      "text/plain": [
       "(tensor([[ 0,  1,  2],\n",
       "         [ 3,  4,  5],\n",
       "         [ 6,  7,  8],\n",
       "         [ 9, 10, 11]]),\n",
       " tensor([[88, 89, 90],\n",
       "         [91, 92, 93],\n",
       "         [94, 95, 96],\n",
       "         [97, 98, 99]]),\n",
       " tensor([[ True, False, False],\n",
       "         [ True,  True,  True],\n",
       "         [False, False,  True],\n",
       "         [ True,  True,  True]]),\n",
       " tensor([[88,  1,  2],\n",
       "         [89, 90, 91],\n",
       "         [ 6,  7, 92],\n",
       "         [93, 94, 95]]))"
      ]
     },
     "execution_count": 572,
     "metadata": {},
     "output_type": "execute_result"
    }
   ],
   "source": [
    "torch.manual_seed(16)\n",
    "x = torch.arange(12).view(4, 3)\n",
    "y = torch.arange(88, 100).view(4, 3)\n",
    "mask = torch.empty(4, 3).uniform_(.999999, 1.0).bernoulli_().bool()\n",
    "x, y, mask, x.masked_scatter(mask, y)"
   ]
  },
  {
   "cell_type": "code",
   "execution_count": 1102,
   "id": "f95eb4e2",
   "metadata": {},
   "outputs": [
    {
     "data": {
      "text/plain": [
       "(tensor([[ 0,  1,  2],\n",
       "         [ 3,  4,  5],\n",
       "         [ 6,  7,  8],\n",
       "         [ 9, 10, 11]]),\n",
       " tensor([[88, 89, 90],\n",
       "         [91, 92, 93],\n",
       "         [94, 95, 96],\n",
       "         [97, 98, 99]]),\n",
       " tensor([[ True, False, False],\n",
       "         [ True,  True,  True],\n",
       "         [False, False,  True],\n",
       "         [ True,  True,  True]]),\n",
       " tensor([[88,  1,  2],\n",
       "         [89, 90, 91],\n",
       "         [ 6,  7, 92],\n",
       "         [93, 94, 95]]),\n",
       " tensor([[88,  1,  2],\n",
       "         [91, 92, 93],\n",
       "         [ 6,  7, 96],\n",
       "         [97, 98, 99]]))"
      ]
     },
     "execution_count": 1102,
     "metadata": {},
     "output_type": "execute_result"
    }
   ],
   "source": [
    "torch.manual_seed(16)\n",
    "x = torch.arange(12).view(4, 3)\n",
    "y = torch.arange(88, 100).view(4, 3)\n",
    "mask = torch.empty(4, 3).uniform_(0, 0.01).bernoulli_().bool()\n",
    "x, y, mask, x.masked_scatter(mask, y), y.where(mask, x)"
   ]
  },
  {
   "cell_type": "code",
   "execution_count": 574,
   "id": "f1128e7e",
   "metadata": {},
   "outputs": [
    {
     "name": "stdout",
     "output_type": "stream",
     "text": [
      "16\n"
     ]
    },
    {
     "data": {
      "text/plain": [
       "(tensor([[ 0,  1,  2,  3,  4,  5],\n",
       "         [ 6,  7,  8,  9, 10, 11],\n",
       "         [12, 13, 14, 15, 16, 17],\n",
       "         [18, 19, 20, 21, 22, 23],\n",
       "         [24, 25, 26, 27, 28, 29],\n",
       "         [30, 31, 32, 33, 34, 35]]),\n",
       " tensor([[ 88,  89,  90,  91],\n",
       "         [ 92,  93,  94,  95],\n",
       "         [ 96,  97,  98,  99],\n",
       "         [100, 101, 102, 103]]),\n",
       " tensor([[ True,  True, False, False,  True, False],\n",
       "         [ True, False, False, False, False,  True],\n",
       "         [False,  True,  True, False, False, False],\n",
       "         [False,  True,  True, False, False,  True],\n",
       "         [False,  True,  True,  True, False,  True],\n",
       "         [False,  True, False, False,  True, False]]),\n",
       " tensor([[ 88,  89,   2,   3,  90,   5],\n",
       "         [ 91,   7,   8,   9,  10,  92],\n",
       "         [ 12,  93,  94,  15,  16,  17],\n",
       "         [ 18,  95,  96,  21,  22,  97],\n",
       "         [ 24,  98,  99, 100,  28, 101],\n",
       "         [ 30, 102,  32,  33, 103,  35]]))"
      ]
     },
     "execution_count": 574,
     "metadata": {},
     "output_type": "execute_result"
    }
   ],
   "source": [
    "torch.manual_seed(16)\n",
    "x = torch.arange(6 * 6).view(6, 6)\n",
    "mask = torch.empty_like(x).float().uniform_(0, 0.01).bernoulli_().bool()\n",
    "nmask = mask.sum().item()\n",
    "print(nmask)\n",
    "y = torch.arange(88, 88 + nmask).view(4, 4)\n",
    "x, y, mask, x.masked_scatter(mask, y)"
   ]
  },
  {
   "cell_type": "code",
   "execution_count": 1108,
   "id": "ef9d9256",
   "metadata": {},
   "outputs": [
    {
     "name": "stdout",
     "output_type": "stream",
     "text": [
      "16\n"
     ]
    },
    {
     "data": {
      "text/plain": [
       "(tensor([[ 0,  1,  2,  3,  4,  5],\n",
       "         [ 6,  7,  8,  9, 10, 11],\n",
       "         [12, 13, 14, 15, 16, 17],\n",
       "         [18, 19, 20, 21, 22, 23],\n",
       "         [24, 25, 26, 27, 28, 29],\n",
       "         [30, 31, 32, 33, 34, 35]]),\n",
       " tensor([[ 88,  89,  90,  91],\n",
       "         [ 92,  93,  94,  95],\n",
       "         [ 96,  97,  98,  99],\n",
       "         [100, 101, 102, 103]]),\n",
       " tensor([[ True,  True, False, False,  True, False],\n",
       "         [ True, False, False, False, False,  True],\n",
       "         [False,  True,  True, False, False, False],\n",
       "         [False,  True,  True, False, False,  True],\n",
       "         [False,  True,  True,  True, False,  True],\n",
       "         [False,  True, False, False,  True, False]]),\n",
       " tensor([[ 88,  89,   2,   3,  90,   5],\n",
       "         [ 91,   7,   8,   9,  10,  92],\n",
       "         [ 12,  93,  94,  15,  16,  17],\n",
       "         [ 18,  95,  96,  21,  22,  97],\n",
       "         [ 24,  98,  99, 100,  28, 101],\n",
       "         [ 30, 102,  32,  33, 103,  35]]))"
      ]
     },
     "execution_count": 1108,
     "metadata": {},
     "output_type": "execute_result"
    }
   ],
   "source": [
    "torch.manual_seed(16)\n",
    "x = torch.arange(6 * 6).view(6, 6)\n",
    "mask = torch.empty_like(x).float().uniform_(0, 0.01).bernoulli_().bool()\n",
    "nmask = mask.sum().item()\n",
    "print(nmask)\n",
    "y = torch.arange(88, 88 + nmask).view(4, 4)\n",
    "x, y, mask, x.masked_scatter(mask, y.flatten())"
   ]
  },
  {
   "cell_type": "code",
   "execution_count": 575,
   "id": "317df56d",
   "metadata": {},
   "outputs": [
    {
     "data": {
      "text/plain": [
       "torch.Size([2, 2, 2])"
      ]
     },
     "execution_count": 575,
     "metadata": {},
     "output_type": "execute_result"
    }
   ],
   "source": [
    "x = torch.zeros(2, 1, 2, 1, 2)\n",
    "y = torch.squeeze(x)\n",
    "y.shape"
   ]
  },
  {
   "cell_type": "code",
   "execution_count": 576,
   "id": "882d0bfa",
   "metadata": {},
   "outputs": [
    {
     "data": {
      "text/plain": [
       "torch.Size([2, 1, 2, 2])"
      ]
     },
     "execution_count": 576,
     "metadata": {},
     "output_type": "execute_result"
    }
   ],
   "source": [
    "x = torch.zeros(2, 1, 2, 1, 2)\n",
    "y = torch.squeeze(x, -2)\n",
    "y.shape"
   ]
  },
  {
   "cell_type": "code",
   "execution_count": 577,
   "id": "900826d6",
   "metadata": {},
   "outputs": [
    {
     "data": {
      "text/plain": [
       "torch.Size([2, 2, 1, 2])"
      ]
     },
     "execution_count": 577,
     "metadata": {},
     "output_type": "execute_result"
    }
   ],
   "source": [
    "x = torch.zeros(2, 1, 2, 1, 2)\n",
    "y = torch.squeeze(x, (1))\n",
    "y.shape"
   ]
  },
  {
   "cell_type": "code",
   "execution_count": 578,
   "id": "8283f8fe",
   "metadata": {},
   "outputs": [
    {
     "data": {
      "text/plain": [
       "torch.Size([2, 1, 2, 1, 2])"
      ]
     },
     "execution_count": 578,
     "metadata": {},
     "output_type": "execute_result"
    }
   ],
   "source": [
    "x = torch.zeros(2, 1, 2, 1, 2)\n",
    "y = torch.squeeze(x, (0))\n",
    "y.shape"
   ]
  },
  {
   "cell_type": "code",
   "execution_count": 579,
   "id": "020441b9",
   "metadata": {},
   "outputs": [
    {
     "data": {
      "text/plain": [
       "torch.Size([2, 2, 2])"
      ]
     },
     "execution_count": 579,
     "metadata": {},
     "output_type": "execute_result"
    }
   ],
   "source": [
    "x = torch.zeros(2, 1, 2, 1, 2)\n",
    "y = torch.squeeze(x, (1, -2))\n",
    "y.shape"
   ]
  },
  {
   "cell_type": "code",
   "execution_count": 580,
   "id": "ed4355e3",
   "metadata": {},
   "outputs": [
    {
     "data": {
      "text/plain": [
       "torch.Size([2, 1, 2, 2])"
      ]
     },
     "execution_count": 580,
     "metadata": {},
     "output_type": "execute_result"
    }
   ],
   "source": [
    "x = torch.zeros(2, 1, 2, 1, 2)\n",
    "y = torch.squeeze(x, (-2, ))\n",
    "y.shape"
   ]
  },
  {
   "cell_type": "code",
   "execution_count": 1103,
   "id": "43fe33ac",
   "metadata": {},
   "outputs": [
    {
     "data": {
      "text/plain": [
       "torch.Size([2, 2, 1, 2])"
      ]
     },
     "execution_count": 1103,
     "metadata": {},
     "output_type": "execute_result"
    }
   ],
   "source": [
    "x = torch.zeros(2, 1, 2, 1, 2)\n",
    "y = torch.squeeze(x, (1, ))\n",
    "y.shape"
   ]
  },
  {
   "cell_type": "code",
   "execution_count": 1115,
   "id": "567ea9e0",
   "metadata": {},
   "outputs": [
    {
     "data": {
      "text/plain": [
       "(torch.Size([2, 3, 5]), torch.Size([5, 3, 2]), torch.Size([5, 3, 2]))"
      ]
     },
     "execution_count": 1115,
     "metadata": {},
     "output_type": "execute_result"
    }
   ],
   "source": [
    "x = torch.rand(2, 3, 5)\n",
    "y = torch.transpose(x, 0, 2)\n",
    "x.shape, y.shape, x.moveaxis((0, 2), (2, 0)).size()"
   ]
  },
  {
   "cell_type": "code",
   "execution_count": 582,
   "id": "ef2aa58f",
   "metadata": {},
   "outputs": [
    {
     "data": {
      "text/plain": [
       "(torch.Size([2, 3, 5]), torch.Size([5, 3, 2]))"
      ]
     },
     "execution_count": 582,
     "metadata": {},
     "output_type": "execute_result"
    }
   ],
   "source": [
    "x = torch.rand(2, 3, 5)\n",
    "y = torch.swapaxes(x, 0, 2)\n",
    "x.shape, y.shape"
   ]
  },
  {
   "cell_type": "code",
   "execution_count": 583,
   "id": "4c375cad",
   "metadata": {},
   "outputs": [
    {
     "data": {
      "text/plain": [
       "(torch.Size([2, 3, 5, 6, 7]), torch.Size([5, 3, 2, 6, 7]))"
      ]
     },
     "execution_count": 583,
     "metadata": {},
     "output_type": "execute_result"
    }
   ],
   "source": [
    "x = torch.rand(2, 3, 5, 6, 7)\n",
    "y = torch.swapaxes(x, 0, 2)\n",
    "x.shape, y.shape"
   ]
  },
  {
   "cell_type": "code",
   "execution_count": 584,
   "id": "4865baa3",
   "metadata": {},
   "outputs": [
    {
     "data": {
      "text/plain": [
       "(torch.Size([2, 3, 5, 6, 7]), torch.Size([5, 3, 2, 6, 7]))"
      ]
     },
     "execution_count": 584,
     "metadata": {},
     "output_type": "execute_result"
    }
   ],
   "source": [
    "x = torch.rand(2, 3, 5, 6, 7)\n",
    "y = torch.swapdims(x, 0, 2)\n",
    "x.shape, y.shape"
   ]
  },
  {
   "cell_type": "code",
   "execution_count": 585,
   "id": "4eb92f16",
   "metadata": {},
   "outputs": [
    {
     "data": {
      "text/plain": [
       "(torch.Size([2, 3, 5]), torch.Size([5, 3, 2]))"
      ]
     },
     "execution_count": 585,
     "metadata": {},
     "output_type": "execute_result"
    }
   ],
   "source": [
    "x = torch.rand(2, 3, 5)\n",
    "y = torch.swapdims(x, 0, 2)\n",
    "x.shape, y.shape"
   ]
  },
  {
   "cell_type": "code",
   "execution_count": 586,
   "id": "8cd534cf",
   "metadata": {},
   "outputs": [
    {
     "data": {
      "text/plain": [
       "torch.Size([4, 2])"
      ]
     },
     "execution_count": 586,
     "metadata": {},
     "output_type": "execute_result"
    }
   ],
   "source": [
    "x = torch.rand(2, 3, 5)\n",
    "# torch.t(x).shape # error shape 3D\n",
    "x = torch.rand(2, 4)\n",
    "x.t().shape"
   ]
  },
  {
   "cell_type": "code",
   "execution_count": 1216,
   "id": "5f276e45",
   "metadata": {},
   "outputs": [
    {
     "data": {
      "text/plain": [
       "(tensor([4, 5, 8]), tensor([4, 5, 8]))"
      ]
     },
     "execution_count": 1216,
     "metadata": {},
     "output_type": "execute_result"
    }
   ],
   "source": [
    "x = torch.tensor([[4, 3, 5],\n",
    "                 [6, 7, 8]])\n",
    "(torch.take(x, torch.tensor([0, 2, 5])), \n",
    "torch.gather(x.flatten(), dim=0, index= torch.tensor([0, 2, 5])))"
   ]
  },
  {
   "cell_type": "code",
   "execution_count": 588,
   "id": "ce8176fe",
   "metadata": {},
   "outputs": [
    {
     "data": {
      "text/plain": [
       "(tensor([ 0,  1,  2,  3,  4,  5,  6,  7,  8,  9, 10, 11, 12, 13, 14, 15, 16, 17,\n",
       "         18, 19, 20, 21, 22, 23, 24, 25, 26, 27, 28, 29, 30, 31]),\n",
       " tensor([0, 2, 5]))"
      ]
     },
     "execution_count": 588,
     "metadata": {},
     "output_type": "execute_result"
    }
   ],
   "source": [
    "x= torch.arange(32).to(dtype=torch.int64)\n",
    "x, torch.take(x, torch.tensor([0, 2, 5]))"
   ]
  },
  {
   "cell_type": "code",
   "execution_count": 589,
   "id": "4fe157de",
   "metadata": {},
   "outputs": [
    {
     "data": {
      "text/plain": [
       "(tensor([[[ 0,  1],\n",
       "          [ 2,  3],\n",
       "          [ 4,  5],\n",
       "          [ 6,  7],\n",
       "          [ 8,  9],\n",
       "          [10, 11],\n",
       "          [12, 13],\n",
       "          [14, 15]],\n",
       " \n",
       "         [[16, 17],\n",
       "          [18, 19],\n",
       "          [20, 21],\n",
       "          [22, 23],\n",
       "          [24, 25],\n",
       "          [26, 27],\n",
       "          [28, 29],\n",
       "          [30, 31]]]),\n",
       " tensor([[ 0],\n",
       "         [ 2],\n",
       "         [ 5],\n",
       "         [31]]))"
      ]
     },
     "execution_count": 589,
     "metadata": {},
     "output_type": "execute_result"
    }
   ],
   "source": [
    "x= torch.arange(32).to(dtype=torch.int64).view(2, 8, 2)\n",
    "x, torch.take(x, torch.tensor([[0], [2], [5], [31]]))"
   ]
  },
  {
   "cell_type": "code",
   "execution_count": 1119,
   "id": "783509ce",
   "metadata": {},
   "outputs": [
    {
     "data": {
      "text/plain": [
       "(tensor([[[ 0,  1],\n",
       "          [ 2,  3],\n",
       "          [ 4,  5],\n",
       "          [ 6,  7],\n",
       "          [ 8,  9],\n",
       "          [10, 11],\n",
       "          [12, 13],\n",
       "          [14, 15]],\n",
       " \n",
       "         [[16, 17],\n",
       "          [18, 19],\n",
       "          [20, 21],\n",
       "          [22, 23],\n",
       "          [24, 25],\n",
       "          [26, 27],\n",
       "          [28, 29],\n",
       "          [30, 31]]]),\n",
       " tensor([[ 0,  0],\n",
       "         [ 2,  2],\n",
       "         [ 5,  5],\n",
       "         [30, 31]]))"
      ]
     },
     "execution_count": 1119,
     "metadata": {},
     "output_type": "execute_result"
    }
   ],
   "source": [
    "x= torch.arange(32).to(dtype=torch.int64).view(2, 8, 2)\n",
    "x, torch.take(x, torch.tensor([[0] * 2, [2] * 2, [5] * 2, [30, 31]]))"
   ]
  },
  {
   "cell_type": "code",
   "execution_count": 590,
   "id": "65d8a2c9",
   "metadata": {},
   "outputs": [
    {
     "data": {
      "text/plain": [
       "(tensor([[ 0,  1,  2],\n",
       "         [ 3,  4,  5],\n",
       "         [70,  7,  8]]),\n",
       " tensor(6),\n",
       " tensor([70]))"
      ]
     },
     "execution_count": 590,
     "metadata": {},
     "output_type": "execute_result"
    }
   ],
   "source": [
    "x = torch.arange(9).reshape(3, 3)\n",
    "x[-1][0] = 70\n",
    "\n",
    "idx = torch.argmax(x)\n",
    "x, idx, x.take_along_dim(idx, )"
   ]
  },
  {
   "cell_type": "code",
   "execution_count": 591,
   "id": "35977cfc",
   "metadata": {},
   "outputs": [
    {
     "data": {
      "text/plain": [
       "(tensor([[ 0,  1,  2],\n",
       "         [ 3,  4,  5],\n",
       "         [70,  7,  8]]),\n",
       " tensor([[0, 1, 2],\n",
       "         [0, 1, 2],\n",
       "         [1, 2, 0]]),\n",
       " tensor([[ 0,  1,  2],\n",
       "         [ 3,  4,  5],\n",
       "         [ 7,  8, 70]]))"
      ]
     },
     "execution_count": 591,
     "metadata": {},
     "output_type": "execute_result"
    }
   ],
   "source": [
    "x = torch.arange(9).reshape(3, 3)\n",
    "x[-1][0] = 70\n",
    "\n",
    "idx = torch.argsort(x) # dim=-1\n",
    "x, idx, x.take_along_dim(idx, 1)"
   ]
  },
  {
   "cell_type": "code",
   "execution_count": 1217,
   "id": "95198097",
   "metadata": {},
   "outputs": [
    {
     "data": {
      "text/plain": [
       "(tensor([[[ 1.8423,  0.5189, -1.7119, -1.7014,  2.0194],\n",
       "          [-0.2686, -0.1307, -1.4374,  0.3908, -0.0190],\n",
       "          [-1.3527, -0.7308,  0.9879, -0.4194, -0.5849],\n",
       "          [-0.7823,  2.7799,  1.2220, -0.3364, -0.9651]],\n",
       " \n",
       "         [[-0.1297, -0.6018,  0.1450, -0.1498,  0.8183],\n",
       "          [-0.6633,  0.2653, -1.5660, -1.6407, -0.0197],\n",
       "          [ 0.2278, -0.3985, -1.0365,  0.6705, -0.1777],\n",
       "          [ 0.4314,  1.2417,  2.1503, -2.2281, -1.2897]]]),\n",
       " tensor([ 0,  5, 25]),\n",
       " tensor([ 1.8423, -0.2686, -0.6633]),\n",
       " tensor([ 1.8423, -0.2686, -0.6633]))"
      ]
     },
     "execution_count": 1217,
     "metadata": {},
     "output_type": "execute_result"
    }
   ],
   "source": [
    "torch.manual_seed(5)\n",
    "x = torch.randn(2, 4, 5)\n",
    "idx = torch.tensor([0, 5, 25])\n",
    "x, idx, x.take_along_dim(idx), x.take(idx)"
   ]
  },
  {
   "cell_type": "code",
   "execution_count": 1218,
   "id": "71ebd175",
   "metadata": {},
   "outputs": [
    {
     "data": {
      "text/plain": [
       "(tensor([[[ 1.8423,  0.5189, -1.7119, -1.7014,  2.0194],\n",
       "          [-0.2686, -0.1307, -1.4374,  0.3908, -0.0190],\n",
       "          [-1.3527, -0.7308,  0.9879, -0.4194, -0.5849],\n",
       "          [-0.7823,  2.7799,  1.2220, -0.3364, -0.9651]],\n",
       " \n",
       "         [[-0.1297, -0.6018,  0.1450, -0.1498,  0.8183],\n",
       "          [-0.6633,  0.2653, -1.5660, -1.6407, -0.0197],\n",
       "          [ 0.2278, -0.3985, -1.0365,  0.6705, -0.1777],\n",
       "          [ 0.4314,  1.2417,  2.1503, -2.2281, -1.2897]]]),\n",
       " tensor([[ 0],\n",
       "         [ 5],\n",
       "         [25]]),\n",
       " tensor([ 1.8423, -0.2686, -0.6633]),\n",
       " tensor([[ 1.8423],\n",
       "         [-0.2686],\n",
       "         [-0.6633]]))"
      ]
     },
     "execution_count": 1218,
     "metadata": {},
     "output_type": "execute_result"
    }
   ],
   "source": [
    "torch.manual_seed(5)\n",
    "x = torch.randn(2, 4, 5)\n",
    "idx = torch.tensor([0, 5, 25]).unsqueeze(1)\n",
    "x, idx, x.take_along_dim(idx), x.take(idx)"
   ]
  },
  {
   "cell_type": "code",
   "execution_count": 1127,
   "id": "a0c96dc9",
   "metadata": {},
   "outputs": [
    {
     "data": {
      "text/plain": [
       "(tensor([[[ 1.8423,  0.5189, -1.7119, -1.7014,  2.0194],\n",
       "          [-0.2686, -0.1307, -1.4374,  0.3908, -0.0190],\n",
       "          [-1.3527, -0.7308,  0.9879, -0.4194, -0.5849],\n",
       "          [-0.7823,  2.7799,  1.2220, -0.3364, -0.9651]],\n",
       " \n",
       "         [[-0.1297, -0.6018,  0.1450, -0.1498,  0.8183],\n",
       "          [-0.6633,  0.2653, -1.5660, -1.6407, -0.0197],\n",
       "          [ 0.2278, -0.3985, -1.0365,  0.6705, -0.1777],\n",
       "          [ 0.4314,  1.2417,  2.1503, -2.2281, -1.2897]]]),\n",
       " tensor(0),\n",
       " tensor([1.8423]))"
      ]
     },
     "execution_count": 1127,
     "metadata": {},
     "output_type": "execute_result"
    }
   ],
   "source": [
    "torch.manual_seed(5)\n",
    "x = torch.randn(2, 4, 5)\n",
    "idx = torch.tensor(0)\n",
    "x, idx, x.take_along_dim(idx)"
   ]
  },
  {
   "cell_type": "code",
   "execution_count": 1220,
   "id": "0771c624",
   "metadata": {},
   "outputs": [
    {
     "data": {
      "text/plain": [
       "(tensor([[[ 1.8423,  0.5189, -1.7119, -1.7014,  2.0194],\n",
       "          [-0.2686, -0.1307, -1.4374,  0.3908, -0.0190],\n",
       "          [-1.3527, -0.7308,  0.9879, -0.4194, -0.5849],\n",
       "          [-0.7823,  2.7799,  1.2220, -0.3364, -0.9651]],\n",
       " \n",
       "         [[-0.1297, -0.6018,  0.1450, -0.1498,  0.8183],\n",
       "          [-0.6633,  0.2653, -1.5660, -1.6407, -0.0197],\n",
       "          [ 0.2278, -0.3985, -1.0365,  0.6705, -0.1777],\n",
       "          [ 0.4314,  1.2417,  2.1503, -2.2281, -1.2897]]]),\n",
       " tensor([[[0]]]),\n",
       " tensor([[[ 1.8423,  0.5189, -1.7119, -1.7014,  2.0194],\n",
       "          [-0.2686, -0.1307, -1.4374,  0.3908, -0.0190],\n",
       "          [-1.3527, -0.7308,  0.9879, -0.4194, -0.5849],\n",
       "          [-0.7823,  2.7799,  1.2220, -0.3364, -0.9651]]]),\n",
       " torch.Size([1, 4, 5]),\n",
       " tensor([[[1.8423]]]))"
      ]
     },
     "execution_count": 1220,
     "metadata": {},
     "output_type": "execute_result"
    }
   ],
   "source": [
    "torch.manual_seed(5)\n",
    "x = torch.randn(2, 4, 5)\n",
    "idx = torch.tensor([[[0]]])\n",
    "y = x.take_along_dim(idx, 0)\n",
    "x, idx, y, y.size(), x.take(idx)"
   ]
  },
  {
   "cell_type": "code",
   "execution_count": 594,
   "id": "6832b97d",
   "metadata": {},
   "outputs": [
    {
     "data": {
      "text/plain": [
       "(tensor([[[ 1.8423,  0.5189, -1.7119, -1.7014,  2.0194],\n",
       "          [-0.2686, -0.1307, -1.4374,  0.3908, -0.0190],\n",
       "          [-1.3527, -0.7308,  0.9879, -0.4194, -0.5849],\n",
       "          [-0.7823,  2.7799,  1.2220, -0.3364, -0.9651]],\n",
       " \n",
       "         [[-0.1297, -0.6018,  0.1450, -0.1498,  0.8183],\n",
       "          [-0.6633,  0.2653, -1.5660, -1.6407, -0.0197],\n",
       "          [ 0.2278, -0.3985, -1.0365,  0.6705, -0.1777],\n",
       "          [ 0.4314,  1.2417,  2.1503, -2.2281, -1.2897]]]),\n",
       " tensor([[[1]]]),\n",
       " tensor([[[-0.1297, -0.6018,  0.1450, -0.1498,  0.8183],\n",
       "          [-0.6633,  0.2653, -1.5660, -1.6407, -0.0197],\n",
       "          [ 0.2278, -0.3985, -1.0365,  0.6705, -0.1777],\n",
       "          [ 0.4314,  1.2417,  2.1503, -2.2281, -1.2897]]]))"
      ]
     },
     "execution_count": 594,
     "metadata": {},
     "output_type": "execute_result"
    }
   ],
   "source": [
    "torch.manual_seed(5)\n",
    "x = torch.randn(2, 4, 5)\n",
    "idx = torch.tensor([[[1]]])\n",
    "x, idx, x.take_along_dim(idx, 0)"
   ]
  },
  {
   "cell_type": "code",
   "execution_count": 1221,
   "id": "b2ddcbef",
   "metadata": {},
   "outputs": [
    {
     "data": {
      "text/plain": [
       "(tensor([[[ 1.8423,  0.5189, -1.7119, -1.7014,  2.0194],\n",
       "          [-0.2686, -0.1307, -1.4374,  0.3908, -0.0190],\n",
       "          [-1.3527, -0.7308,  0.9879, -0.4194, -0.5849],\n",
       "          [-0.7823,  2.7799,  1.2220, -0.3364, -0.9651]],\n",
       " \n",
       "         [[-0.1297, -0.6018,  0.1450, -0.1498,  0.8183],\n",
       "          [-0.6633,  0.2653, -1.5660, -1.6407, -0.0197],\n",
       "          [ 0.2278, -0.3985, -1.0365,  0.6705, -0.1777],\n",
       "          [ 0.4314,  1.2417,  2.1503, -2.2281, -1.2897]]]),\n",
       " tensor([[[1]],\n",
       " \n",
       "         [[0]],\n",
       " \n",
       "         [[0]]]),\n",
       " tensor([[[-0.1297, -0.6018,  0.1450, -0.1498,  0.8183],\n",
       "          [-0.6633,  0.2653, -1.5660, -1.6407, -0.0197],\n",
       "          [ 0.2278, -0.3985, -1.0365,  0.6705, -0.1777],\n",
       "          [ 0.4314,  1.2417,  2.1503, -2.2281, -1.2897]],\n",
       " \n",
       "         [[ 1.8423,  0.5189, -1.7119, -1.7014,  2.0194],\n",
       "          [-0.2686, -0.1307, -1.4374,  0.3908, -0.0190],\n",
       "          [-1.3527, -0.7308,  0.9879, -0.4194, -0.5849],\n",
       "          [-0.7823,  2.7799,  1.2220, -0.3364, -0.9651]],\n",
       " \n",
       "         [[ 1.8423,  0.5189, -1.7119, -1.7014,  2.0194],\n",
       "          [-0.2686, -0.1307, -1.4374,  0.3908, -0.0190],\n",
       "          [-1.3527, -0.7308,  0.9879, -0.4194, -0.5849],\n",
       "          [-0.7823,  2.7799,  1.2220, -0.3364, -0.9651]]]),\n",
       " torch.Size([3, 4, 5]))"
      ]
     },
     "execution_count": 1221,
     "metadata": {},
     "output_type": "execute_result"
    }
   ],
   "source": [
    "torch.manual_seed(5)\n",
    "x = torch.randn(2, 4, 5)\n",
    "idx = torch.tensor([[[1]],\n",
    "                    [[0]],\n",
    "                    [[0]],\n",
    "                    ])\n",
    "y = x.take_along_dim(idx, 0)\n",
    "x, idx, y, y.size()"
   ]
  },
  {
   "cell_type": "code",
   "execution_count": 596,
   "id": "ec35b872",
   "metadata": {},
   "outputs": [
    {
     "data": {
      "text/plain": [
       "(tensor([[[ 1.8423,  0.5189, -1.7119, -1.7014,  2.0194],\n",
       "          [-0.2686, -0.1307, -1.4374,  0.3908, -0.0190],\n",
       "          [-1.3527, -0.7308,  0.9879, -0.4194, -0.5849],\n",
       "          [-0.7823,  2.7799,  1.2220, -0.3364, -0.9651]],\n",
       " \n",
       "         [[-0.1297, -0.6018,  0.1450, -0.1498,  0.8183],\n",
       "          [-0.6633,  0.2653, -1.5660, -1.6407, -0.0197],\n",
       "          [ 0.2278, -0.3985, -1.0365,  0.6705, -0.1777],\n",
       "          [ 0.4314,  1.2417,  2.1503, -2.2281, -1.2897]]]),\n",
       " tensor([[[1]],\n",
       " \n",
       "         [[0]]]),\n",
       " tensor([[[-0.2686, -0.1307, -1.4374,  0.3908, -0.0190]],\n",
       " \n",
       "         [[-0.1297, -0.6018,  0.1450, -0.1498,  0.8183]]]))"
      ]
     },
     "execution_count": 596,
     "metadata": {},
     "output_type": "execute_result"
    }
   ],
   "source": [
    "torch.manual_seed(5)\n",
    "x = torch.randn(2, 4, 5)\n",
    "idx = torch.tensor([[[1]],\n",
    "                    [[0]],\n",
    "                    ])\n",
    "x, idx, x.take_along_dim(idx, 1)"
   ]
  },
  {
   "cell_type": "code",
   "execution_count": 1129,
   "id": "5c8d2596",
   "metadata": {},
   "outputs": [
    {
     "data": {
      "text/plain": [
       "(tensor([[[ 1.8423,  0.5189, -1.7119, -1.7014,  2.0194],\n",
       "          [-0.2686, -0.1307, -1.4374,  0.3908, -0.0190],\n",
       "          [-1.3527, -0.7308,  0.9879, -0.4194, -0.5849],\n",
       "          [-0.7823,  2.7799,  1.2220, -0.3364, -0.9651]],\n",
       " \n",
       "         [[-0.1297, -0.6018,  0.1450, -0.1498,  0.8183],\n",
       "          [-0.6633,  0.2653, -1.5660, -1.6407, -0.0197],\n",
       "          [ 0.2278, -0.3985, -1.0365,  0.6705, -0.1777],\n",
       "          [ 0.4314,  1.2417,  2.1503, -2.2281, -1.2897]]]),\n",
       " tensor([[[1]],\n",
       " \n",
       "         [[0]]]),\n",
       " tensor([[[-0.2686, -0.1307, -1.4374,  0.3908, -0.0190]],\n",
       " \n",
       "         [[-0.1297, -0.6018,  0.1450, -0.1498,  0.8183]]]))"
      ]
     },
     "execution_count": 1129,
     "metadata": {},
     "output_type": "execute_result"
    }
   ],
   "source": [
    "torch.manual_seed(5)\n",
    "x = torch.randn(2, 4, 5)\n",
    "idx = torch.tensor([[[1]],\n",
    "                    [[0]],\n",
    "                    ])\n",
    "x, idx, x.take_along_dim(idx, 1)"
   ]
  },
  {
   "cell_type": "code",
   "execution_count": 1138,
   "id": "33167d5c",
   "metadata": {},
   "outputs": [
    {
     "data": {
      "text/plain": [
       "(tensor([[[ 1.8423,  0.5189, -1.7119, -1.7014,  2.0194],\n",
       "          [-0.2686, -0.1307, -1.4374,  0.3908, -0.0190],\n",
       "          [-1.3527, -0.7308,  0.9879, -0.4194, -0.5849],\n",
       "          [-0.7823,  2.7799,  1.2220, -0.3364, -0.9651]],\n",
       " \n",
       "         [[-0.1297, -0.6018,  0.1450, -0.1498,  0.8183],\n",
       "          [-0.6633,  0.2653, -1.5660, -1.6407, -0.0197],\n",
       "          [ 0.2278, -0.3985, -1.0365,  0.6705, -0.1777],\n",
       "          [ 0.4314,  1.2417,  2.1503, -2.2281, -1.2897]]]),\n",
       " tensor([[[1, 2]],\n",
       " \n",
       "         [[0, 0]]]),\n",
       " tensor([[[ 0.5189, -1.7119],\n",
       "          [-0.1307, -1.4374],\n",
       "          [-0.7308,  0.9879],\n",
       "          [ 2.7799,  1.2220]],\n",
       " \n",
       "         [[-0.1297, -0.1297],\n",
       "          [-0.6633, -0.6633],\n",
       "          [ 0.2278,  0.2278],\n",
       "          [ 0.4314,  0.4314]]]),\n",
       " tensor([[[ 0.5189, -1.7119],\n",
       "          [-0.1307, -1.4374],\n",
       "          [-0.7308,  0.9879],\n",
       "          [ 2.7799,  1.2220]],\n",
       " \n",
       "         [[-0.1297, -0.1297],\n",
       "          [-0.6633, -0.6633],\n",
       "          [ 0.2278,  0.2278],\n",
       "          [ 0.4314,  0.4314]]]))"
      ]
     },
     "execution_count": 1138,
     "metadata": {},
     "output_type": "execute_result"
    }
   ],
   "source": [
    "torch.manual_seed(5)\n",
    "x = torch.randn(2, 4, 5)\n",
    "idx = torch.tensor([[[1, 2]],\n",
    "                    [[0, 0],],\n",
    "                    ])\n",
    "x, idx, x.take_along_dim(idx, 2), x.gather(dim=2, index=torch.tensor([[[1, 2]]*4,\n",
    "                                                                      [[0, 0]]*4\n",
    "                                                                      ]))"
   ]
  },
  {
   "cell_type": "code",
   "execution_count": 598,
   "id": "5b1454b5",
   "metadata": {},
   "outputs": [
    {
     "data": {
      "text/plain": [
       "(tensor([1, 2, 3]), tensor([1, 2, 3, 1, 2, 3]))"
      ]
     },
     "execution_count": 598,
     "metadata": {},
     "output_type": "execute_result"
    }
   ],
   "source": [
    "x = torch.tensor([1,2,3])\n",
    "y = torch.tile(x, (2,))\n",
    "x, y"
   ]
  },
  {
   "cell_type": "code",
   "execution_count": 1139,
   "id": "6d29c44b",
   "metadata": {},
   "outputs": [
    {
     "data": {
      "text/plain": [
       "(tensor([1, 2, 3]),\n",
       " tensor([[1, 2, 3, 1, 2, 3, 1, 2, 3],\n",
       "         [1, 2, 3, 1, 2, 3, 1, 2, 3]]))"
      ]
     },
     "execution_count": 1139,
     "metadata": {},
     "output_type": "execute_result"
    }
   ],
   "source": [
    "x = torch.tensor([1,2,3])\n",
    "y = torch.tile(x, (2,3))\n",
    "x, y"
   ]
  },
  {
   "cell_type": "code",
   "execution_count": 1140,
   "id": "8531bc1f",
   "metadata": {},
   "outputs": [
    {
     "data": {
      "text/plain": [
       "(tensor([1, 2, 3]),\n",
       " tensor([[[1, 2, 3, 1, 2, 3, 1, 2, 3, 1, 2, 3],\n",
       "          [1, 2, 3, 1, 2, 3, 1, 2, 3, 1, 2, 3],\n",
       "          [1, 2, 3, 1, 2, 3, 1, 2, 3, 1, 2, 3]],\n",
       " \n",
       "         [[1, 2, 3, 1, 2, 3, 1, 2, 3, 1, 2, 3],\n",
       "          [1, 2, 3, 1, 2, 3, 1, 2, 3, 1, 2, 3],\n",
       "          [1, 2, 3, 1, 2, 3, 1, 2, 3, 1, 2, 3]]]),\n",
       " torch.Size([2, 3, 12]))"
      ]
     },
     "execution_count": 1140,
     "metadata": {},
     "output_type": "execute_result"
    }
   ],
   "source": [
    "x = torch.tensor([1,2,3])\n",
    "y = torch.tile(x, (2,3,4))\n",
    "x, y, y.shape"
   ]
  },
  {
   "cell_type": "code",
   "execution_count": 1222,
   "id": "29359f3e",
   "metadata": {},
   "outputs": [
    {
     "data": {
      "text/plain": [
       "(tensor([[1, 2, 3]]),\n",
       " tensor([[[1, 2, 3, 1, 2, 3, 1, 2, 3, 1, 2, 3],\n",
       "          [1, 2, 3, 1, 2, 3, 1, 2, 3, 1, 2, 3],\n",
       "          [1, 2, 3, 1, 2, 3, 1, 2, 3, 1, 2, 3]],\n",
       " \n",
       "         [[1, 2, 3, 1, 2, 3, 1, 2, 3, 1, 2, 3],\n",
       "          [1, 2, 3, 1, 2, 3, 1, 2, 3, 1, 2, 3],\n",
       "          [1, 2, 3, 1, 2, 3, 1, 2, 3, 1, 2, 3]]]),\n",
       " torch.Size([1, 3]),\n",
       " torch.Size([2, 3, 12]))"
      ]
     },
     "execution_count": 1222,
     "metadata": {},
     "output_type": "execute_result"
    }
   ],
   "source": [
    "x = torch.tensor([1,2,3]).unsqueeze(0)\n",
    "y = torch.tile(x, (2,3,4))\n",
    "x, y, x.size(), y.shape"
   ]
  },
  {
   "cell_type": "code",
   "execution_count": 1141,
   "id": "ead1b12d",
   "metadata": {},
   "outputs": [
    {
     "data": {
      "text/plain": [
       "(tensor([1, 2, 3]),\n",
       " tensor([[[0, 0, 0, 0, 0, 0, 0, 0, 0, 0, 0, 0],\n",
       "          [0, 0, 0, 0, 0, 0, 0, 0, 0, 0, 0, 0],\n",
       "          [0, 0, 0, 0, 0, 0, 0, 0, 0, 0, 0, 0]],\n",
       " \n",
       "         [[1, 2, 3, 1, 2, 3, 1, 2, 3, 1, 2, 3],\n",
       "          [1, 2, 3, 1, 2, 3, 1, 2, 3, 1, 2, 3],\n",
       "          [1, 2, 3, 1, 2, 3, 1, 2, 3, 1, 2, 3]]]),\n",
       " torch.Size([2, 3, 12]))"
      ]
     },
     "execution_count": 1141,
     "metadata": {},
     "output_type": "execute_result"
    }
   ],
   "source": [
    "x = torch.tensor([1,2,3])\n",
    "y = torch.tile(x, (2,3,4))\n",
    "y[0] = 0\n",
    "x, y, y.shape"
   ]
  },
  {
   "cell_type": "code",
   "execution_count": 1143,
   "id": "937828ec",
   "metadata": {},
   "outputs": [
    {
     "data": {
      "text/plain": [
       "(tensor([[0, 1, 2],\n",
       "         [3, 4, 5],\n",
       "         [6, 7, 8]]),\n",
       " tensor([[[0, 1, 2, 0, 1, 2, 0, 1, 2, 0, 1, 2],\n",
       "          [3, 4, 5, 3, 4, 5, 3, 4, 5, 3, 4, 5],\n",
       "          [6, 7, 8, 6, 7, 8, 6, 7, 8, 6, 7, 8],\n",
       "          [0, 1, 2, 0, 1, 2, 0, 1, 2, 0, 1, 2],\n",
       "          [3, 4, 5, 3, 4, 5, 3, 4, 5, 3, 4, 5],\n",
       "          [6, 7, 8, 6, 7, 8, 6, 7, 8, 6, 7, 8],\n",
       "          [0, 1, 2, 0, 1, 2, 0, 1, 2, 0, 1, 2],\n",
       "          [3, 4, 5, 3, 4, 5, 3, 4, 5, 3, 4, 5],\n",
       "          [6, 7, 8, 6, 7, 8, 6, 7, 8, 6, 7, 8]],\n",
       " \n",
       "         [[0, 1, 2, 0, 1, 2, 0, 1, 2, 0, 1, 2],\n",
       "          [3, 4, 5, 3, 4, 5, 3, 4, 5, 3, 4, 5],\n",
       "          [6, 7, 8, 6, 7, 8, 6, 7, 8, 6, 7, 8],\n",
       "          [0, 1, 2, 0, 1, 2, 0, 1, 2, 0, 1, 2],\n",
       "          [3, 4, 5, 3, 4, 5, 3, 4, 5, 3, 4, 5],\n",
       "          [6, 7, 8, 6, 7, 8, 6, 7, 8, 6, 7, 8],\n",
       "          [0, 1, 2, 0, 1, 2, 0, 1, 2, 0, 1, 2],\n",
       "          [3, 4, 5, 3, 4, 5, 3, 4, 5, 3, 4, 5],\n",
       "          [6, 7, 8, 6, 7, 8, 6, 7, 8, 6, 7, 8]]]),\n",
       " torch.Size([2, 9, 12]))"
      ]
     },
     "execution_count": 1143,
     "metadata": {},
     "output_type": "execute_result"
    }
   ],
   "source": [
    "x = torch.arange(9).reshape(3,3)\n",
    "y = torch.tile(x, (2,3,4))\n",
    "x, y, y.shape"
   ]
  },
  {
   "cell_type": "code",
   "execution_count": 602,
   "id": "4879b733",
   "metadata": {},
   "outputs": [
    {
     "data": {
      "text/plain": [
       "tensor([[0, 1, 2],\n",
       "        [3, 4, 5],\n",
       "        [6, 7, 8]])"
      ]
     },
     "execution_count": 602,
     "metadata": {},
     "output_type": "execute_result"
    }
   ],
   "source": [
    "torch.arange(9).reshape(3,3)"
   ]
  },
  {
   "cell_type": "code",
   "execution_count": 603,
   "id": "2ba07b32",
   "metadata": {},
   "outputs": [
    {
     "data": {
      "text/plain": [
       "(tensor([0, 1, 2]), tensor([3, 4, 5]), tensor([6, 7, 8]))"
      ]
     },
     "execution_count": 603,
     "metadata": {},
     "output_type": "execute_result"
    }
   ],
   "source": [
    "torch.unbind(torch.arange(9).reshape(3,3))"
   ]
  },
  {
   "cell_type": "code",
   "execution_count": 604,
   "id": "595c01f6",
   "metadata": {},
   "outputs": [
    {
     "data": {
      "text/plain": [
       "(tensor([0, 3, 6]), tensor([1, 4, 7]), tensor([2, 5, 8]))"
      ]
     },
     "execution_count": 604,
     "metadata": {},
     "output_type": "execute_result"
    }
   ],
   "source": [
    "torch.unbind(torch.arange(9).reshape(3,3), dim=1)"
   ]
  },
  {
   "cell_type": "code",
   "execution_count": 605,
   "id": "8a99e7ff",
   "metadata": {},
   "outputs": [
    {
     "data": {
      "text/plain": [
       "(tensor([[[ 0,  1,  2,  3,  4,  5,  6,  7],\n",
       "          [ 8,  9, 10, 11, 12, 13, 14, 15]],\n",
       " \n",
       "         [[16, 17, 18, 19, 20, 21, 22, 23],\n",
       "          [24, 25, 26, 27, 28, 29, 30, 31]],\n",
       " \n",
       "         [[32, 33, 34, 35, 36, 37, 38, 39],\n",
       "          [40, 41, 42, 43, 44, 45, 46, 47]]]),\n",
       " (tensor([[ 0,  1,  2,  3,  4,  5,  6,  7],\n",
       "          [ 8,  9, 10, 11, 12, 13, 14, 15]]),\n",
       "  tensor([[16, 17, 18, 19, 20, 21, 22, 23],\n",
       "          [24, 25, 26, 27, 28, 29, 30, 31]]),\n",
       "  tensor([[32, 33, 34, 35, 36, 37, 38, 39],\n",
       "          [40, 41, 42, 43, 44, 45, 46, 47]])),\n",
       " (tensor([[[ 0,  1,  2,  3,  4,  5,  6,  7],\n",
       "           [ 8,  9, 10, 11, 12, 13, 14, 15]]]),\n",
       "  tensor([[[16, 17, 18, 19, 20, 21, 22, 23],\n",
       "           [24, 25, 26, 27, 28, 29, 30, 31]]]),\n",
       "  tensor([[[32, 33, 34, 35, 36, 37, 38, 39],\n",
       "           [40, 41, 42, 43, 44, 45, 46, 47]]])))"
      ]
     },
     "execution_count": 605,
     "metadata": {},
     "output_type": "execute_result"
    }
   ],
   "source": [
    "x = torch.arange(48).reshape(3, 2, 8)\n",
    "x, torch.unbind(x), torch.chunk(x, 3)"
   ]
  },
  {
   "cell_type": "code",
   "execution_count": 606,
   "id": "3702df45",
   "metadata": {},
   "outputs": [
    {
     "data": {
      "text/plain": [
       "(tensor([[[ 0,  1,  2,  3,  4,  5,  6,  7],\n",
       "          [ 8,  9, 10, 11, 12, 13, 14, 15]],\n",
       " \n",
       "         [[16, 17, 18, 19, 20, 21, 22, 23],\n",
       "          [24, 25, 26, 27, 28, 29, 30, 31]],\n",
       " \n",
       "         [[32, 33, 34, 35, 36, 37, 38, 39],\n",
       "          [40, 41, 42, 43, 44, 45, 46, 47]]]),\n",
       " (tensor([[ 0,  8],\n",
       "          [16, 24],\n",
       "          [32, 40]]),\n",
       "  tensor([[ 1,  9],\n",
       "          [17, 25],\n",
       "          [33, 41]]),\n",
       "  tensor([[ 2, 10],\n",
       "          [18, 26],\n",
       "          [34, 42]]),\n",
       "  tensor([[ 3, 11],\n",
       "          [19, 27],\n",
       "          [35, 43]]),\n",
       "  tensor([[ 4, 12],\n",
       "          [20, 28],\n",
       "          [36, 44]]),\n",
       "  tensor([[ 5, 13],\n",
       "          [21, 29],\n",
       "          [37, 45]]),\n",
       "  tensor([[ 6, 14],\n",
       "          [22, 30],\n",
       "          [38, 46]]),\n",
       "  tensor([[ 7, 15],\n",
       "          [23, 31],\n",
       "          [39, 47]])),\n",
       " (tensor([[[ 0],\n",
       "           [ 8]],\n",
       "  \n",
       "          [[16],\n",
       "           [24]],\n",
       "  \n",
       "          [[32],\n",
       "           [40]]]),\n",
       "  tensor([[[ 1],\n",
       "           [ 9]],\n",
       "  \n",
       "          [[17],\n",
       "           [25]],\n",
       "  \n",
       "          [[33],\n",
       "           [41]]]),\n",
       "  tensor([[[ 2],\n",
       "           [10]],\n",
       "  \n",
       "          [[18],\n",
       "           [26]],\n",
       "  \n",
       "          [[34],\n",
       "           [42]]]),\n",
       "  tensor([[[ 3],\n",
       "           [11]],\n",
       "  \n",
       "          [[19],\n",
       "           [27]],\n",
       "  \n",
       "          [[35],\n",
       "           [43]]]),\n",
       "  tensor([[[ 4],\n",
       "           [12]],\n",
       "  \n",
       "          [[20],\n",
       "           [28]],\n",
       "  \n",
       "          [[36],\n",
       "           [44]]]),\n",
       "  tensor([[[ 5],\n",
       "           [13]],\n",
       "  \n",
       "          [[21],\n",
       "           [29]],\n",
       "  \n",
       "          [[37],\n",
       "           [45]]]),\n",
       "  tensor([[[ 6],\n",
       "           [14]],\n",
       "  \n",
       "          [[22],\n",
       "           [30]],\n",
       "  \n",
       "          [[38],\n",
       "           [46]]]),\n",
       "  tensor([[[ 7],\n",
       "           [15]],\n",
       "  \n",
       "          [[23],\n",
       "           [31]],\n",
       "  \n",
       "          [[39],\n",
       "           [47]]])))"
      ]
     },
     "execution_count": 606,
     "metadata": {},
     "output_type": "execute_result"
    }
   ],
   "source": [
    "x = torch.arange(48).reshape(3, 2, 8)\n",
    "x, torch.unbind(x, dim=-1), torch.chunk(x, 8, 2)"
   ]
  },
  {
   "cell_type": "code",
   "execution_count": 1144,
   "id": "91b2eebd",
   "metadata": {},
   "outputs": [
    {
     "data": {
      "text/plain": [
       "(tensor([[[ 0,  1,  2,  3,  4,  5,  6,  7],\n",
       "          [ 8,  9, 10, 11, 12, 13, 14, 15]],\n",
       " \n",
       "         [[16, 17, 18, 19, 20, 21, 22, 23],\n",
       "          [24, 25, 26, 27, 28, 29, 30, 31]],\n",
       " \n",
       "         [[32, 33, 34, 35, 36, 37, 38, 39],\n",
       "          [40, 41, 42, 43, 44, 45, 46, 47]]]),\n",
       " [torch.Size([3, 2]),\n",
       "  torch.Size([3, 2]),\n",
       "  torch.Size([3, 2]),\n",
       "  torch.Size([3, 2]),\n",
       "  torch.Size([3, 2]),\n",
       "  torch.Size([3, 2]),\n",
       "  torch.Size([3, 2]),\n",
       "  torch.Size([3, 2])])"
      ]
     },
     "execution_count": 1144,
     "metadata": {},
     "output_type": "execute_result"
    }
   ],
   "source": [
    "x = torch.arange(48).reshape(3, 2, 8)\n",
    "x, [_.size() for _ in torch.unbind(x, dim=-1)]"
   ]
  },
  {
   "cell_type": "code",
   "execution_count": 1223,
   "id": "df8c8958",
   "metadata": {},
   "outputs": [
    {
     "data": {
      "text/plain": [
       "(tensor([[ 0,  8],\n",
       "         [16, 24],\n",
       "         [32, 40]]),\n",
       " tensor([[ 1,  9],\n",
       "         [17, 25],\n",
       "         [33, 41]]),\n",
       " tensor([[ 2, 10],\n",
       "         [18, 26],\n",
       "         [34, 42]]),\n",
       " tensor([[ 3, 11],\n",
       "         [19, 27],\n",
       "         [35, 43]]),\n",
       " tensor([[ 4, 12],\n",
       "         [20, 28],\n",
       "         [36, 44]]),\n",
       " tensor([[ 5, 13],\n",
       "         [21, 29],\n",
       "         [37, 45]]),\n",
       " tensor([[ 6, 14],\n",
       "         [22, 30],\n",
       "         [38, 46]]),\n",
       " tensor([[ 7, 15],\n",
       "         [23, 31],\n",
       "         [39, 47]]))"
      ]
     },
     "execution_count": 1223,
     "metadata": {},
     "output_type": "execute_result"
    }
   ],
   "source": [
    "x = torch.arange(48).reshape(3, 2, 8)\n",
    "torch.unbind(x, dim=-1)"
   ]
  },
  {
   "cell_type": "code",
   "execution_count": 1225,
   "id": "988bf8dd",
   "metadata": {},
   "outputs": [
    {
     "data": {
      "text/plain": [
       "[tensor([[ 0,  8],\n",
       "         [16, 24],\n",
       "         [32, 40]]),\n",
       " tensor([[ 1,  9],\n",
       "         [17, 25],\n",
       "         [33, 41]]),\n",
       " tensor([[ 2, 10],\n",
       "         [18, 26],\n",
       "         [34, 42]]),\n",
       " tensor([[ 3, 11],\n",
       "         [19, 27],\n",
       "         [35, 43]]),\n",
       " tensor([[ 4, 12],\n",
       "         [20, 28],\n",
       "         [36, 44]]),\n",
       " tensor([[ 5, 13],\n",
       "         [21, 29],\n",
       "         [37, 45]]),\n",
       " tensor([[ 6, 14],\n",
       "         [22, 30],\n",
       "         [38, 46]]),\n",
       " tensor([[ 7, 15],\n",
       "         [23, 31],\n",
       "         [39, 47]])]"
      ]
     },
     "execution_count": 1225,
     "metadata": {},
     "output_type": "execute_result"
    }
   ],
   "source": [
    "x = torch.arange(48).reshape(3, 2, 8)\n",
    "[_.squeeze() for _ in x.chunk(8, dim=-1)]"
   ]
  },
  {
   "cell_type": "code",
   "execution_count": 607,
   "id": "a127bdf7",
   "metadata": {},
   "outputs": [
    {
     "data": {
      "text/plain": [
       "(tensor([1, 2, 3]), tensor([[1, 2, 3]]))"
      ]
     },
     "execution_count": 607,
     "metadata": {},
     "output_type": "execute_result"
    }
   ],
   "source": [
    "x = torch.tensor([1,2,3])\n",
    "y = torch.unsqueeze(x, 0)\n",
    "x, y"
   ]
  },
  {
   "cell_type": "code",
   "execution_count": 608,
   "id": "d85a3aa1",
   "metadata": {},
   "outputs": [
    {
     "data": {
      "text/plain": [
       "(tensor([[1, 2, 3],\n",
       "         [4, 5, 6]]),\n",
       " tensor([[[1, 2, 3]],\n",
       " \n",
       "         [[4, 5, 6]]]),\n",
       " torch.Size([2, 3]),\n",
       " torch.Size([2, 1, 3]))"
      ]
     },
     "execution_count": 608,
     "metadata": {},
     "output_type": "execute_result"
    }
   ],
   "source": [
    "x = torch.tensor([[1,2,3], [4,5,6]])\n",
    "y = torch.unsqueeze(x, 1)\n",
    "x, y, x.shape, y.shape"
   ]
  },
  {
   "cell_type": "code",
   "execution_count": 609,
   "id": "29d1e945",
   "metadata": {},
   "outputs": [],
   "source": [
    "# import io\n",
    "# torch.load('tensors.pt')\n",
    "# torch.load('tensors.pt', map_location=torch.device('cpu'))\n",
    "# torch.load('tensors.pt', map_location=lambda storage, loc: storage)\n",
    "# torch.load('tensors.pt', map_location=lambda storage, loc: storage.cuda(1))\n",
    "# torch.load('tensors.pt', map_location={'cuda:1':'cuda:0'})\n",
    "# with open('tensor.pt', 'rb') as f:\n",
    "#     buffer = io.BytesIO(f.read())\n",
    "# torch.load(buffer)\n",
    "# torch.load('module.pt', encoding='ascii')"
   ]
  },
  {
   "cell_type": "code",
   "execution_count": 610,
   "id": "0305767c",
   "metadata": {},
   "outputs": [],
   "source": [
    "# # Save to file\n",
    "# x = torch.tensor([0, 1, 2, 3, 4])\n",
    "# torch.save(x, 'tensor.pt')\n",
    "# # Save to io.BytesIO buffer\n",
    "# buffer = io.BytesIO()\n",
    "# torch.save(x, buffer)"
   ]
  },
  {
   "cell_type": "code",
   "execution_count": 611,
   "id": "8202125f",
   "metadata": {},
   "outputs": [
    {
     "data": {
      "text/plain": [
       "(tensor([1, 2, 3, 4]), False)"
      ]
     },
     "execution_count": 611,
     "metadata": {},
     "output_type": "execute_result"
    }
   ],
   "source": [
    "x = torch.arange(1, 5)\n",
    "x, x.requires_grad"
   ]
  },
  {
   "cell_type": "code",
   "execution_count": 612,
   "id": "169c9441",
   "metadata": {},
   "outputs": [
    {
     "data": {
      "text/plain": [
       "(tensor([1., 2., 3., 4.], requires_grad=True), True)"
      ]
     },
     "execution_count": 612,
     "metadata": {},
     "output_type": "execute_result"
    }
   ],
   "source": [
    "x = torch.arange(1, 5, dtype=torch.float32)\n",
    "x.requires_grad_(True)\n",
    "x, x.requires_grad"
   ]
  },
  {
   "cell_type": "code",
   "execution_count": 1145,
   "id": "174c9698",
   "metadata": {},
   "outputs": [
    {
     "data": {
      "text/plain": [
       "(tensor([1., 2., 3., 4.], requires_grad=True),\n",
       " tensor(60., grad_fn=<MulBackward0>),\n",
       " True,\n",
       " True)"
      ]
     },
     "execution_count": 1145,
     "metadata": {},
     "output_type": "execute_result"
    }
   ],
   "source": [
    "x = torch.arange(1, 5, dtype=torch.float32)\n",
    "x.requires_grad_(True)\n",
    "y = 2 * torch.dot(x, x)\n",
    "x, y, x.requires_grad, y.requires_grad"
   ]
  },
  {
   "cell_type": "code",
   "execution_count": 614,
   "id": "1804a4dd",
   "metadata": {},
   "outputs": [
    {
     "data": {
      "text/plain": [
       "(tensor([1., 2., 3., 4.]), False, False)"
      ]
     },
     "execution_count": 614,
     "metadata": {},
     "output_type": "execute_result"
    }
   ],
   "source": [
    "x = torch.arange(1, 5, dtype=torch.float32)\n",
    "y = 2 * torch.dot(x, x)\n",
    "x, x.requires_grad, y.requires_grad"
   ]
  },
  {
   "cell_type": "code",
   "execution_count": 615,
   "id": "312feb73",
   "metadata": {},
   "outputs": [
    {
     "data": {
      "text/plain": [
       "(tensor([1., 2., 3., 4.], requires_grad=True), True, False)"
      ]
     },
     "execution_count": 615,
     "metadata": {},
     "output_type": "execute_result"
    }
   ],
   "source": [
    "x = torch.arange(1, 5, dtype=torch.float32)\n",
    "x.requires_grad_(True)\n",
    "with torch.no_grad():\n",
    "    y = 2 * torch.dot(x, x)\n",
    "x, x.requires_grad, y.requires_grad"
   ]
  },
  {
   "cell_type": "code",
   "execution_count": 616,
   "id": "c58fe945",
   "metadata": {},
   "outputs": [
    {
     "data": {
      "text/plain": [
       "(tensor([1., 2., 3., 4.], requires_grad=True), True, False)"
      ]
     },
     "execution_count": 616,
     "metadata": {},
     "output_type": "execute_result"
    }
   ],
   "source": [
    "x = torch.arange(1, 5, dtype=torch.float32)\n",
    "x.requires_grad_(True)\n",
    "is_train = False\n",
    "with torch.set_grad_enabled(is_train): # specific thread local\n",
    "    y = 2 * torch.dot(x, x)\n",
    "x, x.requires_grad, y.requires_grad"
   ]
  },
  {
   "cell_type": "code",
   "execution_count": 617,
   "id": "e5763a56",
   "metadata": {},
   "outputs": [
    {
     "data": {
      "text/plain": [
       "(tensor([1., 2., 3., 4.], requires_grad=True), True, True)"
      ]
     },
     "execution_count": 617,
     "metadata": {},
     "output_type": "execute_result"
    }
   ],
   "source": [
    "x = torch.arange(1, 5, dtype=torch.float32)\n",
    "x.requires_grad_(True)\n",
    "is_train = True\n",
    "with torch.set_grad_enabled(is_train):\n",
    "    y = 2 * torch.dot(x, x)\n",
    "x, x.requires_grad, y.requires_grad"
   ]
  },
  {
   "cell_type": "code",
   "execution_count": 618,
   "id": "d84cbc3f",
   "metadata": {},
   "outputs": [
    {
     "data": {
      "text/plain": [
       "(tensor([1., 2., 3., 4.], requires_grad=True), True, True)"
      ]
     },
     "execution_count": 618,
     "metadata": {},
     "output_type": "execute_result"
    }
   ],
   "source": [
    "x = torch.arange(1, 5, dtype=torch.float32)\n",
    "x.requires_grad_(True)\n",
    "is_train = True\n",
    "with torch.enable_grad():\n",
    "    y = 2 * torch.dot(x, x)\n",
    "x, x.requires_grad, y.requires_grad"
   ]
  },
  {
   "cell_type": "code",
   "execution_count": 1147,
   "id": "14edd29a",
   "metadata": {},
   "outputs": [
    {
     "data": {
      "text/plain": [
       "(tensor([1., 2., 3., 4.], requires_grad=True), True, True, False)"
      ]
     },
     "execution_count": 1147,
     "metadata": {},
     "output_type": "execute_result"
    }
   ],
   "source": [
    "x = torch.arange(1, 5, dtype=torch.float32)\n",
    "x.requires_grad_(True)\n",
    "is_train = True\n",
    "\n",
    "with torch.no_grad():\n",
    "    with torch.enable_grad():\n",
    "        y = 2 * torch.dot(x, x)\n",
    "    z = x.dot(x)\n",
    "x, x.requires_grad, y.requires_grad, z.requires_grad"
   ]
  },
  {
   "cell_type": "code",
   "execution_count": 619,
   "id": "ce807bae",
   "metadata": {},
   "outputs": [
    {
     "data": {
      "text/plain": [
       "True"
      ]
     },
     "execution_count": 619,
     "metadata": {},
     "output_type": "execute_result"
    }
   ],
   "source": [
    "torch.is_grad_enabled()"
   ]
  },
  {
   "cell_type": "code",
   "execution_count": 620,
   "id": "1509ad1a",
   "metadata": {},
   "outputs": [
    {
     "data": {
      "text/plain": [
       "False"
      ]
     },
     "execution_count": 620,
     "metadata": {},
     "output_type": "execute_result"
    }
   ],
   "source": [
    "torch.set_grad_enabled(False)\n",
    "torch.is_grad_enabled()"
   ]
  },
  {
   "cell_type": "code",
   "execution_count": 621,
   "id": "eecfe5c9",
   "metadata": {},
   "outputs": [
    {
     "data": {
      "text/plain": [
       "(True, False)"
      ]
     },
     "execution_count": 621,
     "metadata": {},
     "output_type": "execute_result"
    }
   ],
   "source": [
    "z = 2 *y\n",
    "y.requires_grad, z.requires_grad"
   ]
  },
  {
   "cell_type": "code",
   "execution_count": 622,
   "id": "56f5b581",
   "metadata": {},
   "outputs": [
    {
     "data": {
      "text/plain": [
       "True"
      ]
     },
     "execution_count": 622,
     "metadata": {},
     "output_type": "execute_result"
    }
   ],
   "source": [
    "torch.set_grad_enabled(True)\n",
    "torch.is_grad_enabled()"
   ]
  },
  {
   "cell_type": "code",
   "execution_count": 623,
   "id": "b9b00b9b",
   "metadata": {},
   "outputs": [
    {
     "data": {
      "text/plain": [
       "(True, False)"
      ]
     },
     "execution_count": 623,
     "metadata": {},
     "output_type": "execute_result"
    }
   ],
   "source": [
    "with torch.inference_mode():\n",
    "    z = x * x\n",
    "x.requires_grad, z.requires_grad"
   ]
  },
  {
   "cell_type": "code",
   "execution_count": 624,
   "id": "12c1a934",
   "metadata": {},
   "outputs": [
    {
     "data": {
      "text/plain": [
       "(True, True)"
      ]
     },
     "execution_count": 624,
     "metadata": {},
     "output_type": "execute_result"
    }
   ],
   "source": [
    "z = x * x \n",
    "x.requires_grad, z.requires_grad"
   ]
  },
  {
   "cell_type": "code",
   "execution_count": 625,
   "id": "7c07a2cb",
   "metadata": {},
   "outputs": [
    {
     "data": {
      "text/plain": [
       "(tensor([0, 1, 2, 3, 4, 5, 6, 7, 8, 9]),\n",
       " tensor([0, 1, 2, 3, 4, 5, 6, 7, 8, 9]))"
      ]
     },
     "execution_count": 625,
     "metadata": {},
     "output_type": "execute_result"
    }
   ],
   "source": [
    "x = torch.arange(10)\n",
    "y = torch.atleast_1d(x)\n",
    "x, y"
   ]
  },
  {
   "cell_type": "code",
   "execution_count": 626,
   "id": "271bcb37",
   "metadata": {},
   "outputs": [
    {
     "data": {
      "text/plain": [
       "(tensor([[0, 1, 2, 3, 4],\n",
       "         [5, 6, 7, 8, 9]]),\n",
       " tensor([[0, 1, 2, 3, 4],\n",
       "         [5, 6, 7, 8, 9]]))"
      ]
     },
     "execution_count": 626,
     "metadata": {},
     "output_type": "execute_result"
    }
   ],
   "source": [
    "x = torch.arange(10).reshape(2, 5)\n",
    "y = torch.atleast_1d(x)\n",
    "x, y"
   ]
  },
  {
   "cell_type": "code",
   "execution_count": 627,
   "id": "4304a7ab",
   "metadata": {},
   "outputs": [
    {
     "data": {
      "text/plain": [
       "(tensor(0.5000), tensor([0.5000]))"
      ]
     },
     "execution_count": 627,
     "metadata": {},
     "output_type": "execute_result"
    }
   ],
   "source": [
    "x = torch.tensor(0.5)\n",
    "y = torch.atleast_1d(x)\n",
    "x, y"
   ]
  },
  {
   "cell_type": "code",
   "execution_count": 628,
   "id": "d269cdb9",
   "metadata": {},
   "outputs": [
    {
     "data": {
      "text/plain": [
       "(tensor(0.5000), (tensor([0.5000]), tensor([1.])))"
      ]
     },
     "execution_count": 628,
     "metadata": {},
     "output_type": "execute_result"
    }
   ],
   "source": [
    "x = torch.tensor(0.5)\n",
    "y = torch.atleast_1d((x, 2*x))\n",
    "x, y"
   ]
  },
  {
   "cell_type": "code",
   "execution_count": 629,
   "id": "a9650fa1",
   "metadata": {},
   "outputs": [
    {
     "data": {
      "text/plain": [
       "(tensor([0, 1, 2, 3, 4, 5, 6, 7, 8, 9]),\n",
       " tensor([[0, 1, 2, 3, 4, 5, 6, 7, 8, 9]]),\n",
       " torch.Size([1, 10]))"
      ]
     },
     "execution_count": 629,
     "metadata": {},
     "output_type": "execute_result"
    }
   ],
   "source": [
    "x = torch.arange(10)\n",
    "y = torch.atleast_2d(x)\n",
    "x, y, y.shape"
   ]
  },
  {
   "cell_type": "code",
   "execution_count": 1152,
   "id": "7875b811",
   "metadata": {},
   "outputs": [
    {
     "data": {
      "text/plain": [
       "(tensor(10), tensor([[10]]), torch.Size([1, 1]))"
      ]
     },
     "execution_count": 1152,
     "metadata": {},
     "output_type": "execute_result"
    }
   ],
   "source": [
    "x = torch.tensor(10)\n",
    "y = torch.atleast_2d(x)\n",
    "x, y, y.shape"
   ]
  },
  {
   "cell_type": "code",
   "execution_count": 1151,
   "id": "2df2b223",
   "metadata": {},
   "outputs": [
    {
     "data": {
      "text/plain": [
       "(tensor([0, 1, 2, 3]),\n",
       " tensor([[[0],\n",
       "          [1],\n",
       "          [2],\n",
       "          [3]]]),\n",
       " torch.Size([1, 4, 1]))"
      ]
     },
     "execution_count": 1151,
     "metadata": {},
     "output_type": "execute_result"
    }
   ],
   "source": [
    "x = torch.arange(4)\n",
    "x, torch.atleast_3d(x), torch.atleast_3d(x).size()"
   ]
  },
  {
   "cell_type": "code",
   "execution_count": 1149,
   "id": "7b8bfc19",
   "metadata": {},
   "outputs": [
    {
     "data": {
      "text/plain": [
       "(tensor([[0, 1],\n",
       "         [2, 3]]),\n",
       " tensor([[[0],\n",
       "          [1]],\n",
       " \n",
       "         [[2],\n",
       "          [3]]]),\n",
       " torch.Size([2, 2, 1]))"
      ]
     },
     "execution_count": 1149,
     "metadata": {},
     "output_type": "execute_result"
    }
   ],
   "source": [
    "x = torch.arange(4).view(2, 2)\n",
    "x, torch.atleast_3d(x), torch.atleast_3d(x).size()"
   ]
  },
  {
   "cell_type": "code",
   "execution_count": 631,
   "id": "57c9f6f7",
   "metadata": {},
   "outputs": [
    {
     "data": {
      "text/plain": [
       "(tensor([[0, 1, 2, 3, 4, 5, 6, 7, 8, 9]]),\n",
       " tensor([[[0],\n",
       "          [1],\n",
       "          [2],\n",
       "          [3]]]),\n",
       " torch.Size([1, 4, 1]))"
      ]
     },
     "execution_count": 631,
     "metadata": {},
     "output_type": "execute_result"
    }
   ],
   "source": [
    "x = torch.arange(4)\n",
    "y, torch.atleast_3d(x), torch.atleast_3d(x).shape"
   ]
  },
  {
   "cell_type": "code",
   "execution_count": 632,
   "id": "d53055b9",
   "metadata": {},
   "outputs": [
    {
     "data": {
      "text/plain": [
       "tensor([[ 1,  2,  0,  0,  0,  0],\n",
       "        [ 3,  4,  0,  0,  0,  0],\n",
       "        [ 0,  0,  5,  6,  7,  0],\n",
       "        [ 0,  0,  8,  9, 10,  0],\n",
       "        [ 0,  0, 11, 12, 13,  0],\n",
       "        [ 0,  0,  0,  0,  0, 14]])"
      ]
     },
     "execution_count": 632,
     "metadata": {},
     "output_type": "execute_result"
    }
   ],
   "source": [
    "x = torch.tensor([[1, 2], [3, 4]])\n",
    "y = torch.tensor([[5, 6, 7], [8, 9, 10], [11,12, 13]])\n",
    "z = torch.tensor(14)\n",
    "w = torch.block_diag(x, y, z)\n",
    "w"
   ]
  },
  {
   "cell_type": "code",
   "execution_count": 1153,
   "id": "cea2c288",
   "metadata": {},
   "outputs": [
    {
     "data": {
      "text/plain": [
       "(tensor([[ 1,  2,  0,  0,  0,  0],\n",
       "         [ 0,  0,  5,  6,  7,  0],\n",
       "         [ 0,  0,  8,  9, 10,  0],\n",
       "         [ 0,  0, 11, 12, 13,  0],\n",
       "         [ 0,  0,  0,  0,  0, 14]]),\n",
       " 2)"
      ]
     },
     "execution_count": 1153,
     "metadata": {},
     "output_type": "execute_result"
    }
   ],
   "source": [
    "x = torch.tensor([1, 2])\n",
    "y = torch.tensor([[5, 6, 7], [8, 9, 10], [11,12, 13]])\n",
    "z = torch.tensor(14)\n",
    "w = torch.block_diag(x, y, z)\n",
    "w, w.dim()"
   ]
  },
  {
   "cell_type": "code",
   "execution_count": 1154,
   "id": "043c9f6d",
   "metadata": {},
   "outputs": [
    {
     "data": {
      "text/plain": [
       "(tensor([1, 2, 3]),\n",
       " tensor([[1, 2, 3],\n",
       "         [1, 2, 3],\n",
       "         [1, 2, 3]]),\n",
       " torch.Size([3]),\n",
       " torch.Size([3, 3]))"
      ]
     },
     "execution_count": 1154,
     "metadata": {},
     "output_type": "execute_result"
    }
   ],
   "source": [
    "x = torch.arange(1, 4)\n",
    "y = x.broadcast_to((3, 3))\n",
    "x, y, x.shape, y.shape"
   ]
  },
  {
   "cell_type": "code",
   "execution_count": 1155,
   "id": "bc1efb4a",
   "metadata": {},
   "outputs": [
    {
     "data": {
      "text/plain": [
       "(tensor([-10, -10, -10]),\n",
       " tensor([[-10, -10, -10],\n",
       "         [-10, -10, -10],\n",
       "         [-10, -10, -10]]),\n",
       " torch.Size([3]),\n",
       " torch.Size([3, 3]))"
      ]
     },
     "execution_count": 1155,
     "metadata": {},
     "output_type": "execute_result"
    }
   ],
   "source": [
    "x = torch.arange(1, 4)\n",
    "y = x.broadcast_to((3, 3)) # Change in place\n",
    "y[0] = -10\n",
    "x, y, x.shape, y.shape"
   ]
  },
  {
   "cell_type": "code",
   "execution_count": 1156,
   "id": "ca0cf245",
   "metadata": {},
   "outputs": [
    {
     "data": {
      "text/plain": [
       "(torch.Size([4, 5, 6]),\n",
       " torch.Size([2, 4, 5, 6]),\n",
       " tensor([[-1.1258, -1.1524, -0.2506, -0.4339,  0.8487,  0.6920],\n",
       "         [-0.3160, -2.1152,  0.3223, -1.2633,  0.3500,  0.3081],\n",
       "         [ 0.1198,  1.2377,  1.1168, -0.2473, -1.3527, -1.6959],\n",
       "         [ 0.5667,  0.7935,  0.5988, -1.5551, -0.3414,  1.8530],\n",
       "         [ 0.7502, -0.5855, -0.1734,  0.1835,  1.3894,  1.5863]]),\n",
       " tensor([[-1.1258, -1.1524, -0.2506, -0.4339,  0.8487,  0.6920],\n",
       "         [-0.3160, -2.1152,  0.3223, -1.2633,  0.3500,  0.3081],\n",
       "         [ 0.1198,  1.2377,  1.1168, -0.2473, -1.3527, -1.6959],\n",
       "         [ 0.5667,  0.7935,  0.5988, -1.5551, -0.3414,  1.8530],\n",
       "         [ 0.7502, -0.5855, -0.1734,  0.1835,  1.3894,  1.5863]]),\n",
       " tensor([[-1.1258, -1.1524, -0.2506, -0.4339,  0.8487,  0.6920],\n",
       "         [-0.3160, -2.1152,  0.3223, -1.2633,  0.3500,  0.3081],\n",
       "         [ 0.1198,  1.2377,  1.1168, -0.2473, -1.3527, -1.6959],\n",
       "         [ 0.5667,  0.7935,  0.5988, -1.5551, -0.3414,  1.8530],\n",
       "         [ 0.7502, -0.5855, -0.1734,  0.1835,  1.3894,  1.5863]]))"
      ]
     },
     "execution_count": 1156,
     "metadata": {},
     "output_type": "execute_result"
    }
   ],
   "source": [
    "torch.manual_seed(0)\n",
    "x = torch.randn(4, 5, 6)\n",
    "y = x.broadcast_to((2, 4, 5, 6))\n",
    "x.shape, y.shape, x[0], y[0][0], y[1][0]"
   ]
  },
  {
   "cell_type": "code",
   "execution_count": 1157,
   "id": "a0e66493",
   "metadata": {},
   "outputs": [
    {
     "data": {
      "text/plain": [
       "(tensor([0, 1, 2, 3, 4, 5, 6, 7, 8, 9]),\n",
       " tensor([[0, 1, 2, 3, 4, 5, 6, 7, 8, 9]]),\n",
       " torch.Size([10]),\n",
       " torch.Size([1, 10]))"
      ]
     },
     "execution_count": 1157,
     "metadata": {},
     "output_type": "execute_result"
    }
   ],
   "source": [
    "torch.manual_seed(0)\n",
    "x = torch.arange(10)\n",
    "y = x.broadcast_to((1, 10))\n",
    "x, y, x.shape, y.shape,"
   ]
  },
  {
   "cell_type": "code",
   "execution_count": 1163,
   "id": "fe9f204a",
   "metadata": {},
   "outputs": [],
   "source": [
    "torch.manual_seed(0)\n",
    "x = torch.arange(10)\n",
    "# y = x.broadcast_to((10, 1)) # Error for this case\n",
    "# x, y, x.shape, y.shape,"
   ]
  },
  {
   "cell_type": "code",
   "execution_count": 1167,
   "id": "ce8074fc",
   "metadata": {},
   "outputs": [
    {
     "data": {
      "text/plain": [
       "(tensor([ 0,  1,  2,  3,  4,  5,  6,  7,  8,  9, 10, 11, 12, 13, 14, 15, 16, 17,\n",
       "         18, 19]),\n",
       " tensor([[ 0,  1,  2,  3,  4,  5,  6,  7,  8,  9, 10, 11, 12, 13, 14, 15, 16, 17,\n",
       "          18, 19],\n",
       "         [ 0,  1,  2,  3,  4,  5,  6,  7,  8,  9, 10, 11, 12, 13, 14, 15, 16, 17,\n",
       "          18, 19]]),\n",
       " torch.Size([20]),\n",
       " torch.Size([2, 20]))"
      ]
     },
     "execution_count": 1167,
     "metadata": {},
     "output_type": "execute_result"
    }
   ],
   "source": [
    "torch.manual_seed(0)\n",
    "x = torch.arange(2*10)\n",
    "y = x.broadcast_to((2, 20))\n",
    "x, y, x.shape, y.shape,"
   ]
  },
  {
   "cell_type": "code",
   "execution_count": 1168,
   "id": "c33f7ceb",
   "metadata": {},
   "outputs": [
    {
     "data": {
      "text/plain": [
       "(tensor([ 0,  1,  2,  3,  4,  5,  6,  7,  8,  9, 10, 11, 12, 13, 14, 15, 16, 17,\n",
       "         18, 19]),\n",
       " tensor([[ 0,  1,  2,  3,  4,  5,  6,  7,  8,  9, 10, 11, 12, 13, 14, 15, 16, 17,\n",
       "          18, 19],\n",
       "         [ 0,  1,  2,  3,  4,  5,  6,  7,  8,  9, 10, 11, 12, 13, 14, 15, 16, 17,\n",
       "          18, 19]]),\n",
       " torch.Size([20]),\n",
       " torch.Size([2, 20]))"
      ]
     },
     "execution_count": 1168,
     "metadata": {},
     "output_type": "execute_result"
    }
   ],
   "source": [
    "torch.manual_seed(0)\n",
    "x = torch.arange(2*10)\n",
    "y = x.broadcast_to((2, -1))\n",
    "x, y, x.shape, y.shape,"
   ]
  },
  {
   "cell_type": "code",
   "execution_count": 635,
   "id": "2fea0c7b",
   "metadata": {},
   "outputs": [
    {
     "data": {
      "text/plain": [
       "(torch.Size([4, 5, 6]), torch.Size([4, 5, 6]))"
      ]
     },
     "execution_count": 635,
     "metadata": {},
     "output_type": "execute_result"
    }
   ],
   "source": [
    "x = torch.randn(4, 5, 6)\n",
    "y = x.expand(-1, 5, 6)\n",
    "x.shape, y.size()"
   ]
  },
  {
   "cell_type": "code",
   "execution_count": 1228,
   "id": "e0c54eae",
   "metadata": {},
   "outputs": [
    {
     "data": {
      "text/plain": [
       "(torch.Size([4, 5, 6]), torch.Size([4, 5, 6]))"
      ]
     },
     "execution_count": 1228,
     "metadata": {},
     "output_type": "execute_result"
    }
   ],
   "source": [
    "x = torch.randn(4, 5, 6)\n",
    "y = x.expand(-1, -1, 6,)\n",
    "x.shape, y.size()"
   ]
  },
  {
   "cell_type": "code",
   "execution_count": 1229,
   "id": "e630918d",
   "metadata": {},
   "outputs": [
    {
     "data": {
      "text/plain": [
       "(torch.Size([4, 5, 6]),\n",
       " torch.Size([2, 4, 5, 6]),\n",
       " tensor([[-10.0000,  -0.3962,   0.4971,   0.7795,   0.1194,   0.0134],\n",
       "         [  0.0619,   0.1137,  -0.4390,  -1.0939,   0.5687,   0.0649],\n",
       "         [  0.7042,   0.1080,   0.6396,  -1.0614,   1.3808,  -1.0805],\n",
       "         [ -0.2685,   0.6220,   1.0864,   0.3832,  -0.1289,   0.2485],\n",
       "         [  0.0273,  -0.4243,   0.4892,   0.1045,   2.0131,  -0.1408]]),\n",
       " tensor([[-10.0000,  -0.3962,   0.4971,   0.7795,   0.1194,   0.0134],\n",
       "         [  0.0619,   0.1137,  -0.4390,  -1.0939,   0.5687,   0.0649],\n",
       "         [  0.7042,   0.1080,   0.6396,  -1.0614,   1.3808,  -1.0805],\n",
       "         [ -0.2685,   0.6220,   1.0864,   0.3832,  -0.1289,   0.2485],\n",
       "         [  0.0273,  -0.4243,   0.4892,   0.1045,   2.0131,  -0.1408]]),\n",
       " tensor([[-10.0000,  -0.3962,   0.4971,   0.7795,   0.1194,   0.0134],\n",
       "         [  0.0619,   0.1137,  -0.4390,  -1.0939,   0.5687,   0.0649],\n",
       "         [  0.7042,   0.1080,   0.6396,  -1.0614,   1.3808,  -1.0805],\n",
       "         [ -0.2685,   0.6220,   1.0864,   0.3832,  -0.1289,   0.2485],\n",
       "         [  0.0273,  -0.4243,   0.4892,   0.1045,   2.0131,  -0.1408]]))"
      ]
     },
     "execution_count": 1229,
     "metadata": {},
     "output_type": "execute_result"
    }
   ],
   "source": [
    "x = torch.randn(4, 5, 6)\n",
    "y = x.expand(2, -1, -1, 6,)\n",
    "x[0, 0, 0] = -10\n",
    "x.shape, y.size(), x[0], y[0][0], y[1][0]"
   ]
  },
  {
   "cell_type": "code",
   "execution_count": 638,
   "id": "fc3e0f51",
   "metadata": {},
   "outputs": [
    {
     "data": {
      "text/plain": [
       "(torch.Size([4, 5, 6]), torch.Size([2, 2, 4, 5, 6]))"
      ]
     },
     "execution_count": 638,
     "metadata": {},
     "output_type": "execute_result"
    }
   ],
   "source": [
    "x = torch.randn(4, 5, 6)\n",
    "y = x.expand(2, 2, -1, -1, 6,)\n",
    "x.shape, y.size()"
   ]
  },
  {
   "cell_type": "code",
   "execution_count": 639,
   "id": "a033d3b0",
   "metadata": {},
   "outputs": [
    {
     "data": {
      "text/plain": [
       "(torch.Size([1, 5, 6]), torch.Size([2, 2, 10, 5, 6]))"
      ]
     },
     "execution_count": 639,
     "metadata": {},
     "output_type": "execute_result"
    }
   ],
   "source": [
    "x = torch.randn(1, 5, 6)\n",
    "y = x.expand(2, 2, 10, -1, 6,)\n",
    "x.shape, y.size()"
   ]
  },
  {
   "cell_type": "code",
   "execution_count": 640,
   "id": "3879f860",
   "metadata": {},
   "outputs": [
    {
     "data": {
      "text/plain": [
       "(tensor([[0, 1, 2],\n",
       "         [3, 4, 5]]),\n",
       " tensor([[[0, 1, 2],\n",
       "          [3, 4, 5]],\n",
       " \n",
       "         [[0, 1, 2],\n",
       "          [3, 4, 5]]]))"
      ]
     },
     "execution_count": 640,
     "metadata": {},
     "output_type": "execute_result"
    }
   ],
   "source": [
    "x = torch.arange(6).view((2, 3))\n",
    "y = x.expand(2, -1, -1)\n",
    "x, y"
   ]
  },
  {
   "cell_type": "code",
   "execution_count": 1171,
   "id": "01ec512c",
   "metadata": {},
   "outputs": [
    {
     "data": {
      "text/plain": [
       "(tensor([[0, 0, 0],\n",
       "         [3, 4, 5]]),\n",
       " tensor([[[0, 0, 0],\n",
       "          [3, 4, 5]],\n",
       " \n",
       "         [[0, 0, 0],\n",
       "          [3, 4, 5]]]))"
      ]
     },
     "execution_count": 1171,
     "metadata": {},
     "output_type": "execute_result"
    }
   ],
   "source": [
    "x = torch.arange(6).view((2, 3))\n",
    "y = x.expand(2, -1, -1)\n",
    "x[0] = 0 # Replace with in-place\n",
    "x, y"
   ]
  },
  {
   "cell_type": "code",
   "execution_count": 1177,
   "id": "5536e625",
   "metadata": {},
   "outputs": [
    {
     "data": {
      "text/plain": [
       "True"
      ]
     },
     "execution_count": 1177,
     "metadata": {},
     "output_type": "execute_result"
    }
   ],
   "source": [
    "x.data_ptr() == y[0].data_ptr()"
   ]
  },
  {
   "cell_type": "code",
   "execution_count": 643,
   "id": "9385a86c",
   "metadata": {},
   "outputs": [
    {
     "data": {
      "text/plain": [
       "(torch.Size([1, 5, 6]), torch.Size([1, 1, 5, 6]))"
      ]
     },
     "execution_count": 643,
     "metadata": {},
     "output_type": "execute_result"
    }
   ],
   "source": [
    "x = torch.randn(1, 5, 6)\n",
    "y = x.unsqueeze(0)\n",
    "x.shape, y.size()"
   ]
  },
  {
   "cell_type": "code",
   "execution_count": 644,
   "id": "184addf2",
   "metadata": {},
   "outputs": [
    {
     "data": {
      "text/plain": [
       "(tensor([[0, 1, 2]]),\n",
       " tensor([[4],\n",
       "         [5]]),\n",
       " tensor([[[8],\n",
       "          [9]]]),\n",
       " tensor([[[0, 1, 2],\n",
       "          [0, 1, 2]]]),\n",
       " tensor([[[4, 4, 4],\n",
       "          [5, 5, 5]]]),\n",
       " tensor([[[8, 8, 8],\n",
       "          [9, 9, 9]]]),\n",
       " torch.Size([1, 2, 3]),\n",
       " torch.Size([1, 2, 3]),\n",
       " torch.Size([1, 2, 3]))"
      ]
     },
     "execution_count": 644,
     "metadata": {},
     "output_type": "execute_result"
    }
   ],
   "source": [
    "x = torch.arange(3).view(1, 3)\n",
    "y = torch.arange(4, 6).view(2, 1)\n",
    "z = torch.arange(8, 10).view(1, 2, 1)\n",
    "a, b, c = torch.broadcast_tensors(x, y, z)\n",
    "#   1 3\n",
    "#   2 1\n",
    "# 1 2 1\n",
    "x, y, z, a, b, c, a.size(), b.size(), c.size()"
   ]
  },
  {
   "cell_type": "code",
   "execution_count": 1179,
   "id": "9542f164",
   "metadata": {},
   "outputs": [
    {
     "data": {
      "text/plain": [
       "torch.Size([1, 2, 3])"
      ]
     },
     "execution_count": 1179,
     "metadata": {},
     "output_type": "execute_result"
    }
   ],
   "source": [
    "torch.broadcast_shapes((1, 3), (2, 1), (1, 2, 1))"
   ]
  },
  {
   "cell_type": "code",
   "execution_count": 645,
   "id": "94e40931",
   "metadata": {},
   "outputs": [
    {
     "data": {
      "text/plain": [
       "torch.Size([3, 1, 4, 2])"
      ]
     },
     "execution_count": 645,
     "metadata": {},
     "output_type": "execute_result"
    }
   ],
   "source": [
    "torch.broadcast_shapes((2,), (4, 1), (3, 1, 1, 2))"
   ]
  },
  {
   "cell_type": "code",
   "execution_count": 1231,
   "id": "55b85459",
   "metadata": {},
   "outputs": [
    {
     "data": {
      "text/plain": [
       "(tensor([[ 0,  3,  6,  9, 10, 11, 20]]), tensor([[0, 1, 3, 4, 5, 5, 5]]))"
      ]
     },
     "execution_count": 1231,
     "metadata": {},
     "output_type": "execute_result"
    }
   ],
   "source": [
    "boundaries = torch.tensor([1, 3, 5, 7, 9])\n",
    "x = torch.tensor([[0, 3, 6, 9, 10, 11, 20]])\n",
    "y = torch.bucketize(x, boundaries) # )a, b[\n",
    "x, y"
   ]
  },
  {
   "cell_type": "code",
   "execution_count": 1181,
   "id": "9b164546",
   "metadata": {},
   "outputs": [
    {
     "data": {
      "text/plain": [
       "(tensor([[ 0,  3,  6,  9, 10, 11]]), tensor([[0, 2, 3, 5, 5, 5]]))"
      ]
     },
     "execution_count": 1181,
     "metadata": {},
     "output_type": "execute_result"
    }
   ],
   "source": [
    "boundaries = torch.tensor([1, 3, 5, 7, 9])\n",
    "x = torch.tensor([[0, 3, 6, 9, 10, 11]])\n",
    "y = torch.bucketize(x, boundaries, right=True) # [a, b(\n",
    "x, y"
   ]
  },
  {
   "cell_type": "code",
   "execution_count": 1182,
   "id": "1f6eecb6",
   "metadata": {},
   "outputs": [
    {
     "data": {
      "text/plain": [
       "(tensor([[1, 4],\n",
       "         [1, 5],\n",
       "         [2, 4],\n",
       "         [2, 5],\n",
       "         [3, 4],\n",
       "         [3, 5]]),\n",
       " torch.Size([6, 2]))"
      ]
     },
     "execution_count": 1182,
     "metadata": {},
     "output_type": "execute_result"
    }
   ],
   "source": [
    "a = [1,2, 3]\n",
    "b = [4, 5]\n",
    "x = torch.tensor(a)\n",
    "y = torch.tensor(b)\n",
    "z = torch.cartesian_prod(x, y) # Only on dimensional tensor\n",
    "z, z.shape"
   ]
  },
  {
   "cell_type": "code",
   "execution_count": 1232,
   "id": "246317c2",
   "metadata": {},
   "outputs": [
    {
     "data": {
      "text/plain": [
       "(tensor([[1, 4, 6],\n",
       "         [1, 4, 7],\n",
       "         [1, 4, 8],\n",
       "         [1, 4, 9],\n",
       "         [1, 5, 6],\n",
       "         [1, 5, 7],\n",
       "         [1, 5, 8],\n",
       "         [1, 5, 9],\n",
       "         [2, 4, 6],\n",
       "         [2, 4, 7],\n",
       "         [2, 4, 8],\n",
       "         [2, 4, 9],\n",
       "         [2, 5, 6],\n",
       "         [2, 5, 7],\n",
       "         [2, 5, 8],\n",
       "         [2, 5, 9],\n",
       "         [3, 4, 6],\n",
       "         [3, 4, 7],\n",
       "         [3, 4, 8],\n",
       "         [3, 4, 9],\n",
       "         [3, 5, 6],\n",
       "         [3, 5, 7],\n",
       "         [3, 5, 8],\n",
       "         [3, 5, 9]]),\n",
       " torch.Size([24, 3]))"
      ]
     },
     "execution_count": 1232,
     "metadata": {},
     "output_type": "execute_result"
    }
   ],
   "source": [
    "a = [1,2, 3]\n",
    "b = [4, 5]\n",
    "c = [6, 7, 8, 9]\n",
    "x = torch.tensor(a)\n",
    "y = torch.tensor(b)\n",
    "w = torch.tensor(c)\n",
    "z = torch.cartesian_prod(x, y, w) # Only on dimensional tensor\n",
    "z, z.shape"
   ]
  },
  {
   "cell_type": "code",
   "execution_count": 1185,
   "id": "3950ca3b",
   "metadata": {},
   "outputs": [
    {
     "data": {
      "text/plain": [
       "(tensor([[4., 3.],\n",
       "         [4., 2.],\n",
       "         [3., 3.]]),\n",
       " tensor([[0., 0.],\n",
       "         [4., 2.]]),\n",
       " tensor([[5.0000, 1.0000],\n",
       "         [4.4721, 0.0000],\n",
       "         [4.2426, 1.4142]]))"
      ]
     },
     "execution_count": 1185,
     "metadata": {},
     "output_type": "execute_result"
    }
   ],
   "source": [
    "x = torch.tensor([[4, 3], [4, 2], (3, 3)])\n",
    "y = torch.tensor([[0, 0], [4, 2]])\n",
    "x = x.to (dtype=torch.float)\n",
    "y = y.to(dtype=torch.float)\n",
    "z = torch.cdist(x, y, p=2) # Batch norm (x - y) ** 2 with norm\n",
    "x, y, z"
   ]
  },
  {
   "cell_type": "code",
   "execution_count": 650,
   "id": "74a93238",
   "metadata": {},
   "outputs": [
    {
     "data": {
      "text/plain": [
       "(False, False, torch.Size([2, 4]), tensor(True))"
      ]
     },
     "execution_count": 650,
     "metadata": {},
     "output_type": "execute_result"
    }
   ],
   "source": [
    "x = torch.randn(2, 4)\n",
    "y = torch.clone(x)\n",
    "x.requires_grad, y.requires_grad, y.shape, torch.all(x == y)"
   ]
  },
  {
   "cell_type": "code",
   "execution_count": 651,
   "id": "18f892ca",
   "metadata": {},
   "outputs": [
    {
     "data": {
      "text/plain": [
       "(True, True, torch.Size([2, 4]), tensor(True))"
      ]
     },
     "execution_count": 651,
     "metadata": {},
     "output_type": "execute_result"
    }
   ],
   "source": [
    "x = torch.randn(2, 4, requires_grad=True)\n",
    "y = torch.clone(x)\n",
    "x.requires_grad, y.requires_grad, y.shape, torch.all(x == y)"
   ]
  },
  {
   "cell_type": "code",
   "execution_count": 652,
   "id": "2f070206",
   "metadata": {},
   "outputs": [
    {
     "data": {
      "text/plain": [
       "(True, True, torch.Size([2, 4]), tensor(True))"
      ]
     },
     "execution_count": 652,
     "metadata": {},
     "output_type": "execute_result"
    }
   ],
   "source": [
    "x = torch.randn(2, 4, requires_grad=True)\n",
    "y = torch.clone(x).cpu()\n",
    "x.requires_grad, y.requires_grad, y.shape, torch.all(x == y)"
   ]
  },
  {
   "cell_type": "code",
   "execution_count": 653,
   "id": "c3a5d0b2",
   "metadata": {},
   "outputs": [
    {
     "data": {
      "text/plain": [
       "(True,\n",
       " True,\n",
       " torch.Size([2, 4]),\n",
       " tensor(True, device='cuda:0'),\n",
       " device(type='cuda', index=0),\n",
       " device(type='cuda', index=0))"
      ]
     },
     "execution_count": 653,
     "metadata": {},
     "output_type": "execute_result"
    }
   ],
   "source": [
    "x = torch.randn(2, 4, requires_grad=True).cuda()\n",
    "y = torch.clone(x)\n",
    "x.requires_grad, y.requires_grad, y.shape, torch.all(x == y), x.device, y.device"
   ]
  },
  {
   "cell_type": "code",
   "execution_count": 654,
   "id": "7736f397",
   "metadata": {},
   "outputs": [
    {
     "data": {
      "text/plain": [
       "(True, False, torch.Size([2, 4]), tensor(True))"
      ]
     },
     "execution_count": 654,
     "metadata": {},
     "output_type": "execute_result"
    }
   ],
   "source": [
    "x = torch.randn(2, 4, requires_grad=True)\n",
    "y = torch.clone(x).detach()\n",
    "x.requires_grad, y.requires_grad, y.shape, torch.all(x == y)"
   ]
  },
  {
   "cell_type": "code",
   "execution_count": 655,
   "id": "8744e963",
   "metadata": {},
   "outputs": [
    {
     "data": {
      "text/plain": [
       "(True, False, torch.Size([2, 4]), tensor(True, device='cuda:0'))"
      ]
     },
     "execution_count": 655,
     "metadata": {},
     "output_type": "execute_result"
    }
   ],
   "source": [
    "x = torch.randn(2, 4, requires_grad=True).cuda()\n",
    "y = torch.clone(x).detach()\n",
    "x.requires_grad, y.requires_grad, y.shape, torch.all(x == y)"
   ]
  },
  {
   "cell_type": "code",
   "execution_count": 656,
   "id": "4d2dd0da",
   "metadata": {},
   "outputs": [
    {
     "data": {
      "text/plain": [
       "(True, True, device(type='cuda', index=0), device(type='cpu'))"
      ]
     },
     "execution_count": 656,
     "metadata": {},
     "output_type": "execute_result"
    }
   ],
   "source": [
    "x = torch.randn(2, 4, requires_grad=True).cuda()\n",
    "y = torch.clone(x).cpu()\n",
    "x.requires_grad, y.requires_grad, x.device, y.device"
   ]
  },
  {
   "cell_type": "code",
   "execution_count": 657,
   "id": "c8aabe86",
   "metadata": {},
   "outputs": [
    {
     "data": {
      "text/plain": [
       "(True, False, device(type='cuda', index=0), device(type='cpu'))"
      ]
     },
     "execution_count": 657,
     "metadata": {},
     "output_type": "execute_result"
    }
   ],
   "source": [
    "x = torch.randn(2, 4, requires_grad=True).cuda()\n",
    "y = torch.clone(x).detach().cpu()\n",
    "x.requires_grad, y.requires_grad, x.device, y.device"
   ]
  },
  {
   "cell_type": "code",
   "execution_count": 658,
   "id": "c686e9c7",
   "metadata": {},
   "outputs": [
    {
     "data": {
      "text/plain": [
       "(tensor([1., 2., 3., 4.]), tensor(30.))"
      ]
     },
     "execution_count": 658,
     "metadata": {},
     "output_type": "execute_result"
    }
   ],
   "source": [
    "x = torch.arange(1, 5, dtype=torch.float)\n",
    "y = torch.dot(x, x) \n",
    "x, y"
   ]
  },
  {
   "cell_type": "code",
   "execution_count": 659,
   "id": "14e5787e",
   "metadata": {},
   "outputs": [],
   "source": [
    "# y.backward() # error requires grad needed\n",
    "x.grad"
   ]
  },
  {
   "cell_type": "code",
   "execution_count": 660,
   "id": "480de1aa",
   "metadata": {},
   "outputs": [
    {
     "data": {
      "text/plain": [
       "(tensor([1., 2., 3., 4.], requires_grad=True),\n",
       " tensor(30., grad_fn=<DotBackward0>))"
      ]
     },
     "execution_count": 660,
     "metadata": {},
     "output_type": "execute_result"
    }
   ],
   "source": [
    "x = torch.arange(1, 5, dtype=torch.float, requires_grad=True)\n",
    "y = torch.dot(x, x) \n",
    "x, y"
   ]
  },
  {
   "cell_type": "code",
   "execution_count": 661,
   "id": "3ca2147b",
   "metadata": {},
   "outputs": [
    {
     "data": {
      "text/plain": [
       "tensor([2., 4., 6., 8.])"
      ]
     },
     "execution_count": 661,
     "metadata": {},
     "output_type": "execute_result"
    }
   ],
   "source": [
    "y.backward()\n",
    "x.grad # dy / dx = 2*x"
   ]
  },
  {
   "cell_type": "code",
   "execution_count": 662,
   "id": "0fb817d2",
   "metadata": {},
   "outputs": [
    {
     "data": {
      "text/plain": [
       "(tensor(2., requires_grad=True),\n",
       " tensor(4., grad_fn=<PowBackward0>),\n",
       " None,\n",
       " tensor(4.))"
      ]
     },
     "execution_count": 662,
     "metadata": {},
     "output_type": "execute_result"
    }
   ],
   "source": [
    "x = torch.tensor(2., requires_grad=True)\n",
    "y = x ** 2\n",
    "x, y, y.backward(), x.grad"
   ]
  },
  {
   "cell_type": "code",
   "execution_count": 663,
   "id": "eb496360",
   "metadata": {},
   "outputs": [
    {
     "data": {
      "text/plain": [
       "(tensor(2., requires_grad=True),\n",
       " tensor(4., grad_fn=<PowBackward0>),\n",
       " None,\n",
       " tensor(400.))"
      ]
     },
     "execution_count": 663,
     "metadata": {},
     "output_type": "execute_result"
    }
   ],
   "source": [
    "x = torch.tensor(2., requires_grad=True)\n",
    "y = x ** 2\n",
    "x, y, y.backward(torch.tensor(100.)), x.grad # v.T * J vector matrix product with the chain rule"
   ]
  },
  {
   "cell_type": "code",
   "execution_count": 664,
   "id": "6b13950d",
   "metadata": {},
   "outputs": [
    {
     "data": {
      "text/plain": [
       "(tensor([1., 2.], requires_grad=True),\n",
       " tensor(3., grad_fn=<SumBackward0>),\n",
       " None,\n",
       " tensor([1., 1.]))"
      ]
     },
     "execution_count": 664,
     "metadata": {},
     "output_type": "execute_result"
    }
   ],
   "source": [
    "x = torch.tensor([1., 2.], requires_grad=True)\n",
    "y = x.sum() # x1 + x2 = 1 + 2\n",
    "x, y, y.backward(), x.grad  # dy/dx = [1, 1]"
   ]
  },
  {
   "cell_type": "code",
   "execution_count": 665,
   "id": "c4efe9e7",
   "metadata": {},
   "outputs": [
    {
     "data": {
      "text/plain": [
       "(tensor([1., 2.], requires_grad=True),\n",
       " tensor(3., grad_fn=<SumBackward0>),\n",
       " None,\n",
       " tensor([3., 3.]))"
      ]
     },
     "execution_count": 665,
     "metadata": {},
     "output_type": "execute_result"
    }
   ],
   "source": [
    "x = torch.tensor([1., 2.], requires_grad=True)\n",
    "y = x.sum()\n",
    "x, y, y.backward(torch.tensor(3.)), x.grad "
   ]
  },
  {
   "cell_type": "code",
   "execution_count": 666,
   "id": "111630be",
   "metadata": {},
   "outputs": [
    {
     "data": {
      "text/plain": [
       "(tensor([1., 2.], requires_grad=True),\n",
       " tensor(3., grad_fn=<SumBackward0>),\n",
       " None,\n",
       " tensor([1., 1.]))"
      ]
     },
     "execution_count": 666,
     "metadata": {},
     "output_type": "execute_result"
    }
   ],
   "source": [
    "x = torch.tensor([1., 2.], requires_grad=True)\n",
    "y = x.sum()\n",
    "x, y, y.backward(torch.tensor(1.)), x.grad "
   ]
  },
  {
   "cell_type": "code",
   "execution_count": 1237,
   "id": "c6405373",
   "metadata": {},
   "outputs": [
    {
     "data": {
      "text/plain": [
       "(tensor([1., 2.], requires_grad=True),\n",
       " tensor([3., 5., 2.], grad_fn=<CopySlices>),\n",
       " None,\n",
       " tensor([10.,  7.]))"
      ]
     },
     "execution_count": 1237,
     "metadata": {},
     "output_type": "execute_result"
    }
   ],
   "source": [
    "x = torch.tensor([1., 2.], requires_grad=True)\n",
    "y = torch.empty(3)\n",
    "y[0] = 3*x[0]**2 \n",
    "y[1] = x[0] **2 + 2*x[1]\n",
    "y[2] = x[1]\n",
    "# dy/dx0 = 6*1 + 2*1*2 + 0 * 3 = 10 \n",
    "# dy/dx1 = 0*1 + 2*2 + 1 * 3 = 7\n",
    "x, y, y.backward(gradient=torch.tensor([1, 2, 3. ])), x.grad \n"
   ]
  },
  {
   "cell_type": "code",
   "execution_count": 668,
   "id": "375e18a7",
   "metadata": {},
   "outputs": [
    {
     "name": "stdout",
     "output_type": "stream",
     "text": [
      "x grad:  tensor(4.)\n",
      "x grad:  tensor(44.)\n",
      "x grad:  tensor(444.)\n"
     ]
    }
   ],
   "source": [
    "x = torch.tensor(2., requires_grad=True)\n",
    "y = x ** 2\n",
    "grads = [1, 10, 100]\n",
    "for v in grads:\n",
    "    y.backward(torch.tensor(v), retain_graph=True)\n",
    "    print(\"x grad: \", x.grad)"
   ]
  },
  {
   "cell_type": "code",
   "execution_count": 669,
   "id": "c1648ab5",
   "metadata": {},
   "outputs": [
    {
     "name": "stdout",
     "output_type": "stream",
     "text": [
      "x grad:  tensor(4.)\n",
      "x grad:  tensor(40.)\n",
      "x grad:  tensor(400.)\n"
     ]
    }
   ],
   "source": [
    "x = torch.tensor(2., requires_grad=True)\n",
    "y = x ** 2\n",
    "grads = [1, 10, 100]\n",
    "for v in grads:\n",
    "    y.backward(torch.tensor(v), retain_graph=True) \n",
    "    print(\"x grad: \", x.grad)\n",
    "    x.grad.data.zero_()\n",
    "    "
   ]
  },
  {
   "cell_type": "code",
   "execution_count": 1239,
   "id": "96452550",
   "metadata": {},
   "outputs": [
    {
     "data": {
      "text/plain": [
       "(tensor(4.), False, True, None, tensor(4.), tensor(True))"
      ]
     },
     "execution_count": 1239,
     "metadata": {},
     "output_type": "execute_result"
    }
   ],
   "source": [
    "x = torch.tensor(2., requires_grad=True)\n",
    "y = x ** 2\n",
    "u = y.detach()\n",
    "w = u * x\n",
    "u, u.requires_grad, y.requires_grad, w.backward(), x.grad, x.grad == u"
   ]
  },
  {
   "cell_type": "code",
   "execution_count": 1240,
   "id": "212c7075",
   "metadata": {},
   "outputs": [
    {
     "name": "stderr",
     "output_type": "stream",
     "text": [
      "/tmp/ipykernel_11384/3334387955.py:3: UserWarning: The .grad attribute of a Tensor that is not a leaf Tensor is being accessed. Its .grad attribute won't be populated during autograd.backward(). If you indeed want the .grad field to be populated for a non-leaf Tensor, use .retain_grad() on the non-leaf Tensor. If you access the non-leaf Tensor by mistake, make sure you access the leaf Tensor instead. See github.com/pytorch/pytorch/pull/30531 for more informations. (Triggered internally at aten/src/ATen/core/TensorBody.h:486.)\n",
      "  y.grad, x.grad\n"
     ]
    },
    {
     "data": {
      "text/plain": [
       "(None, tensor(8.))"
      ]
     },
     "execution_count": 1240,
     "metadata": {},
     "output_type": "execute_result"
    }
   ],
   "source": [
    "z = y + 2\n",
    "z.backward(retain_graph=True)\n",
    "y.grad, x.grad"
   ]
  },
  {
   "cell_type": "code",
   "execution_count": 672,
   "id": "aaeebefd",
   "metadata": {},
   "outputs": [
    {
     "data": {
      "text/plain": [
       "(tensor(1.), tensor(12.))"
      ]
     },
     "execution_count": 672,
     "metadata": {},
     "output_type": "execute_result"
    }
   ],
   "source": [
    "z = y + 2\n",
    "y.retain_grad()\n",
    "z.backward(retain_graph=True)\n",
    "y.grad, x.grad"
   ]
  },
  {
   "cell_type": "code",
   "execution_count": 673,
   "id": "c51933bf",
   "metadata": {},
   "outputs": [
    {
     "data": {
      "text/plain": [
       "(tensor(2.), tensor(16.))"
      ]
     },
     "execution_count": 673,
     "metadata": {},
     "output_type": "execute_result"
    }
   ],
   "source": [
    "z = y + 2\n",
    "y.retain_grad()\n",
    "z.backward(retain_graph=True)\n",
    "y.grad, x.grad"
   ]
  },
  {
   "cell_type": "code",
   "execution_count": 674,
   "id": "84f99e18",
   "metadata": {},
   "outputs": [
    {
     "data": {
      "text/plain": [
       "(tensor(1.), tensor(4.))"
      ]
     },
     "execution_count": 674,
     "metadata": {},
     "output_type": "execute_result"
    }
   ],
   "source": [
    "z = y + 2\n",
    "y.retain_grad()\n",
    "y.grad.data.zero_()\n",
    "x.grad.data.zero_()\n",
    "z.backward(retain_graph=True)\n",
    "y.grad, x.grad"
   ]
  },
  {
   "cell_type": "code",
   "execution_count": 675,
   "id": "1c4d3e12",
   "metadata": {},
   "outputs": [
    {
     "data": {
      "text/plain": [
       "True"
      ]
     },
     "execution_count": 675,
     "metadata": {},
     "output_type": "execute_result"
    }
   ],
   "source": [
    "x = torch.tensor(2.)\n",
    "x.requires_grad_() is x"
   ]
  },
  {
   "cell_type": "code",
   "execution_count": 676,
   "id": "a2c26315",
   "metadata": {},
   "outputs": [
    {
     "name": "stdout",
     "output_type": "stream",
     "text": [
      "x grad:  tensor(4.)\n",
      "x grad  tensor(8.)\n"
     ]
    }
   ],
   "source": [
    "x = torch.tensor(2.).requires_grad_()\n",
    "y = x**2\n",
    "z1 = y + 2\n",
    "z2 = 2*y\n",
    "z1.backward(retain_graph=True)\n",
    "print('x grad: ', x.grad)\n",
    "x.grad.zero_()\n",
    "z2.backward()\n",
    "print('x grad ', x.grad)"
   ]
  },
  {
   "cell_type": "code",
   "execution_count": 1242,
   "id": "b59369f2",
   "metadata": {},
   "outputs": [
    {
     "name": "stdout",
     "output_type": "stream",
     "text": [
      "x1 grad:  tensor(4.)\n",
      "x2 grad  tensor(8.) True\n"
     ]
    }
   ],
   "source": [
    "x1 = torch.tensor(2.).requires_grad_()\n",
    "x2 = x1.clone()\n",
    "z1 = x1**2 + 2\n",
    "z2 = 2*x2**2\n",
    "z1.backward()\n",
    "print('x1 grad: ', x1.grad)\n",
    "x2.retain_grad()\n",
    "z2.backward()\n",
    "print('x2 grad ', x2.grad, x2.requires_grad)"
   ]
  },
  {
   "cell_type": "code",
   "execution_count": 1243,
   "id": "282de8b7",
   "metadata": {},
   "outputs": [
    {
     "name": "stdout",
     "output_type": "stream",
     "text": [
      "True True\n",
      "x1 grad:  tensor(4.) None\n",
      "x2 grad  tensor(8.)\n"
     ]
    },
    {
     "name": "stderr",
     "output_type": "stream",
     "text": [
      "/tmp/ipykernel_11384/1546225473.py:7: UserWarning: The .grad attribute of a Tensor that is not a leaf Tensor is being accessed. Its .grad attribute won't be populated during autograd.backward(). If you indeed want the .grad field to be populated for a non-leaf Tensor, use .retain_grad() on the non-leaf Tensor. If you access the non-leaf Tensor by mistake, make sure you access the leaf Tensor instead. See github.com/pytorch/pytorch/pull/30531 for more informations. (Triggered internally at aten/src/ATen/core/TensorBody.h:486.)\n",
      "  print('x1 grad: ', x1.grad, x2.grad)\n"
     ]
    }
   ],
   "source": [
    "x1 = torch.tensor(2.).requires_grad_()\n",
    "x2 = x1.clone().requires_grad_()\n",
    "z1 = x1**2 + 2\n",
    "z2 = 2*x2**2\n",
    "print(x1.requires_grad, x2.requires_grad)\n",
    "z1.backward()\n",
    "print('x1 grad: ', x1.grad, x2.grad)\n",
    "x2.retain_grad()\n",
    "z2.backward()\n",
    "print('x2 grad ', x2.grad)"
   ]
  },
  {
   "cell_type": "code",
   "execution_count": 679,
   "id": "c4bc2cfd",
   "metadata": {},
   "outputs": [
    {
     "name": "stdout",
     "output_type": "stream",
     "text": [
      "True True\n",
      "x1 grad:  tensor(4.) None\n",
      "x2 grad  tensor(8.)\n"
     ]
    }
   ],
   "source": [
    "x1 = torch.tensor(2.).requires_grad_()\n",
    "x2 = x1.clone().detach().requires_grad_()\n",
    "z1 = x1**2 + 2\n",
    "z2 = 2*x2**2\n",
    "print(x1.requires_grad, x2.requires_grad)\n",
    "z1.backward()\n",
    "print('x1 grad: ', x1.grad, x2.grad)\n",
    "\n",
    "z2.backward()\n",
    "print('x2 grad ', x2.grad)"
   ]
  },
  {
   "cell_type": "code",
   "execution_count": 680,
   "id": "30fe3f2d",
   "metadata": {},
   "outputs": [
    {
     "data": {
      "text/plain": [
       "([1, 2, 3],\n",
       " [(1, 2), (1, 3), (2, 3)],\n",
       " [(1, 1), (1, 2), (1, 3), (2, 2), (2, 3), (3, 3)])"
      ]
     },
     "execution_count": 680,
     "metadata": {},
     "output_type": "execute_result"
    }
   ],
   "source": [
    "a = [1, 2, 3]\n",
    "b = list(itertools.combinations(a, 2))\n",
    "c = list(itertools.combinations_with_replacement(a, 2))\n",
    "a, b, c"
   ]
  },
  {
   "cell_type": "code",
   "execution_count": 1245,
   "id": "d01a5f49",
   "metadata": {},
   "outputs": [
    {
     "data": {
      "text/plain": [
       "(tensor([1, 2, 3]),\n",
       " tensor([[1, 2],\n",
       "         [1, 3],\n",
       "         [2, 3]]),\n",
       " tensor([[1, 1],\n",
       "         [1, 2],\n",
       "         [1, 3],\n",
       "         [2, 2],\n",
       "         [2, 3],\n",
       "         [3, 3]]),\n",
       " (tensor([[1, 1, 1],\n",
       "          [2, 2, 2],\n",
       "          [3, 3, 3]]),\n",
       "  tensor([[1, 2, 3],\n",
       "          [1, 2, 3],\n",
       "          [1, 2, 3]])))"
      ]
     },
     "execution_count": 1245,
     "metadata": {},
     "output_type": "execute_result"
    }
   ],
   "source": [
    "x = torch.arange(1, 4)\n",
    "y = torch.combinations(x, r=2) #  1D vector\n",
    "z = torch.combinations(x, r=2, with_replacement=True)\n",
    "x, y, z, torch.meshgrid(x, x)"
   ]
  },
  {
   "cell_type": "code",
   "execution_count": 682,
   "id": "5dc74b2f",
   "metadata": {},
   "outputs": [
    {
     "data": {
      "text/plain": [
       "(tensor([[-0.2330,  0.5100, -0.5786,  1.3384, -0.0539],\n",
       "         [ 0.9509,  0.1995, -0.3677, -0.8678,  0.2964]]),\n",
       " tensor([[ 1.0000, -0.5430],\n",
       "         [-0.5430,  1.0000]]))"
      ]
     },
     "execution_count": 682,
     "metadata": {},
     "output_type": "execute_result"
    }
   ],
   "source": [
    "x = torch.randn(2, 5)\n",
    "y = torch.corrcoef(x)\n",
    "x, y"
   ]
  },
  {
   "cell_type": "code",
   "execution_count": 683,
   "id": "08b062a1",
   "metadata": {},
   "outputs": [
    {
     "data": {
      "text/plain": [
       "(tensor([[-1.9446, -0.3840,  0.2014,  0.3516, -1.1336,  0.8857, -0.7724,  1.1395,\n",
       "          -1.2681,  0.1740],\n",
       "         [-0.4182, -0.2478,  3.3113,  1.1900, -0.8579,  0.6911,  0.3811,  0.8403,\n",
       "           0.6615,  1.0013]]),\n",
       " tensor([[1.0000, 0.5231],\n",
       "         [0.5231, 1.0000]]))"
      ]
     },
     "execution_count": 683,
     "metadata": {},
     "output_type": "execute_result"
    }
   ],
   "source": [
    "x = torch.randn(2, 10)\n",
    "y = torch.corrcoef(x)\n",
    "x, y"
   ]
  },
  {
   "cell_type": "code",
   "execution_count": 684,
   "id": "b588ed39",
   "metadata": {},
   "outputs": [
    {
     "data": {
      "text/plain": [
       "(tensor([[-1.2247, -0.4046, -1.2771, -0.1473,  0.4504, -0.9301, -1.2094, -1.7229,\n",
       "          -0.3050, -0.9585],\n",
       "         [-2.6443,  0.2495, -0.3948,  0.2510,  0.9836,  0.4406, -0.3762, -0.9113,\n",
       "          -0.2684, -0.2437],\n",
       "         [-0.5239, -1.0655, -0.5164,  0.8749,  0.3835,  0.7017, -0.8696,  0.4112,\n",
       "           0.1007,  1.3884]]),\n",
       " tensor([[1.0000, 0.6440, 0.1660],\n",
       "         [0.6440, 1.0000, 0.2905],\n",
       "         [0.1660, 0.2905, 1.0000]]))"
      ]
     },
     "execution_count": 684,
     "metadata": {},
     "output_type": "execute_result"
    }
   ],
   "source": [
    "x = torch.randn(3, 10)\n",
    "y = torch.corrcoef(x)\n",
    "x, y"
   ]
  },
  {
   "cell_type": "code",
   "execution_count": 685,
   "id": "2c41e1df",
   "metadata": {},
   "outputs": [
    {
     "data": {
      "text/plain": [
       "(tensor([0.4281, 0.9655, 0.6518]), tensor([-0.7729, -0.2914,  0.0885]))"
      ]
     },
     "execution_count": 685,
     "metadata": {},
     "output_type": "execute_result"
    }
   ],
   "source": [
    "torch.var(x, axis=1), torch.mean(x, axis=1)"
   ]
  },
  {
   "cell_type": "code",
   "execution_count": 686,
   "id": "5105e6f6",
   "metadata": {},
   "outputs": [
    {
     "data": {
      "text/plain": [
       "tensor([[0.4281, 0.4140, 0.0877],\n",
       "        [0.4140, 0.9655, 0.2305],\n",
       "        [0.0877, 0.2305, 0.6518]])"
      ]
     },
     "execution_count": 686,
     "metadata": {},
     "output_type": "execute_result"
    }
   ],
   "source": [
    "torch.cov(x)"
   ]
  },
  {
   "cell_type": "code",
   "execution_count": 687,
   "id": "1cd37ee9",
   "metadata": {},
   "outputs": [
    {
     "data": {
      "text/plain": [
       "tensor([[0.3853, 0.3726, 0.0789],\n",
       "        [0.3726, 0.8689, 0.2074],\n",
       "        [0.0789, 0.2074, 0.5866]])"
      ]
     },
     "execution_count": 687,
     "metadata": {},
     "output_type": "execute_result"
    }
   ],
   "source": [
    "#correction = 1 which returns the unbiased estimate, even if both fweights and aweights are specified. correction = 0 will return the simple average\n",
    "torch.cov(x, correction=0)"
   ]
  },
  {
   "cell_type": "code",
   "execution_count": 688,
   "id": "19347ea6",
   "metadata": {},
   "outputs": [
    {
     "data": {
      "text/plain": [
       "tensor(0.1382)"
      ]
     },
     "execution_count": 688,
     "metadata": {},
     "output_type": "execute_result"
    }
   ],
   "source": [
    "0.1139 / (torch.sqrt(torch.tensor(1.0533) * torch.tensor(0.6452)))"
   ]
  },
  {
   "cell_type": "code",
   "execution_count": 689,
   "id": "5568c0ac",
   "metadata": {},
   "outputs": [
    {
     "data": {
      "text/plain": [
       "(tensor([ 0.7257,  1.4833,  1.0171, -0.8752,  0.9010,  0.7038,  0.7496, -0.7846,\n",
       "         -0.1913,  0.7085]),\n",
       " tensor(1.),\n",
       " tensor(0.6201))"
      ]
     },
     "execution_count": 689,
     "metadata": {},
     "output_type": "execute_result"
    }
   ],
   "source": [
    "x = torch.randn(10)\n",
    "y = torch.corrcoef(x)\n",
    "z = torch.cov(x)\n",
    "x, y, z"
   ]
  },
  {
   "cell_type": "code",
   "execution_count": 690,
   "id": "a1e66273",
   "metadata": {},
   "outputs": [
    {
     "data": {
      "text/plain": [
       "(tensor([[-1.4433, -0.4365,  1.3631],\n",
       "         [-0.6659,  1.1001, -1.4173],\n",
       "         [ 0.5971, -0.5364, -0.0637],\n",
       "         [-0.4759,  0.4233, -2.4766],\n",
       "         [ 0.5431, -0.9459, -0.0184]]),\n",
       " tensor([[1.0736, 0.7157, 1.5703]]),\n",
       " tensor([[-1.6610,  3.7300, -0.5643],\n",
       "         [ 2.7418, -0.4758, -1.6577],\n",
       "         [-0.7967, -1.0060,  1.0031],\n",
       "         [ 2.4371, -1.9114, -0.7951],\n",
       "         [-1.4722, -0.8727,  1.4042]]),\n",
       " tensor([[-1.6610,  3.7300, -0.5643],\n",
       "         [ 2.7418, -0.4758, -1.6577],\n",
       "         [-0.7967, -1.0060,  1.0031],\n",
       "         [ 2.4371, -1.9114, -0.7951],\n",
       "         [-1.4722, -0.8727,  1.4042]]),\n",
       " torch.Size([5, 3]),\n",
       " torch.Size([5, 3]))"
      ]
     },
     "execution_count": 690,
     "metadata": {},
     "output_type": "execute_result"
    }
   ],
   "source": [
    "x = torch.randn(5, 3)\n",
    "y = torch.randn(1, 3)\n",
    "z = torch.cross(x, y)\n",
    "u = torch.cross(x, y, dim=1)\n",
    "x, y, z, u, z.shape, u.shape"
   ]
  },
  {
   "cell_type": "code",
   "execution_count": 691,
   "id": "9fef5995",
   "metadata": {},
   "outputs": [
    {
     "data": {
      "text/plain": [
       "(tensor([[ 1.8648,  1.0935,  1.2316],\n",
       "         [ 2.2138, -0.7924,  1.3246],\n",
       "         [-0.9188, -0.7594, -0.6028],\n",
       "         [ 0.5948,  1.1396, -0.0276],\n",
       "         [ 0.8338, -1.4293,  2.0282]]),\n",
       " tensor([[-1.3105, -2.6715,  1.4750],\n",
       "         [ 0.8088, -0.1597,  0.7659],\n",
       "         [-0.0812, -0.3576,  1.1916],\n",
       "         [-0.6736,  1.8975,  0.2191],\n",
       "         [-1.4868,  1.0045,  0.4089]]),\n",
       " tensor([[ 4.9031, -4.3646, -3.5488],\n",
       "         [-0.3955, -0.6243,  0.2875],\n",
       "         [-1.1205,  1.1438,  0.2670],\n",
       "         [ 0.3021, -0.1117,  1.8963],\n",
       "         [-2.6217, -3.3564, -1.2876]]),\n",
       " tensor([[ 4.9031, -4.3646, -3.5488],\n",
       "         [-0.3955, -0.6243,  0.2875],\n",
       "         [-1.1205,  1.1438,  0.2670],\n",
       "         [ 0.3021, -0.1117,  1.8963],\n",
       "         [-2.6217, -3.3564, -1.2876]]),\n",
       " torch.Size([5, 3]),\n",
       " torch.Size([5, 3]))"
      ]
     },
     "execution_count": 691,
     "metadata": {},
     "output_type": "execute_result"
    }
   ],
   "source": [
    "x = torch.randn(5, 3)\n",
    "y = torch.randn(5, 3)\n",
    "z = torch.cross(x, y)\n",
    "# w = torch.cross(x, y, dim=0) # error because size != 3 in dim0\n",
    "u = torch.cross(x, y, dim=1)\n",
    "x, y, z, u, z.shape, u.shape"
   ]
  },
  {
   "cell_type": "code",
   "execution_count": 692,
   "id": "f71cdc91",
   "metadata": {},
   "outputs": [
    {
     "data": {
      "text/plain": [
       "torch.Size([5, 2, 3])"
      ]
     },
     "execution_count": 692,
     "metadata": {},
     "output_type": "execute_result"
    }
   ],
   "source": [
    "x = torch.randn(5, 2, 3)\n",
    "y = torch.randn(5, 1, 3)\n",
    "u = torch.cross(x, y, dim=-1)\n",
    "u.shape"
   ]
  },
  {
   "cell_type": "code",
   "execution_count": 693,
   "id": "2d57b81b",
   "metadata": {},
   "outputs": [
    {
     "data": {
      "text/plain": [
       "(torch.Size([3, 2, 3]), torch.Size([3, 2, 3]))"
      ]
     },
     "execution_count": 693,
     "metadata": {},
     "output_type": "execute_result"
    }
   ],
   "source": [
    "x = torch.randn(3, 2, 3)\n",
    "y = torch.randn(3, 1, 3)\n",
    "u = torch.cross(x, y, dim=0)\n",
    "z = torch.cross(x, y, dim=2)\n",
    "u.shape, z.shape"
   ]
  },
  {
   "cell_type": "code",
   "execution_count": 694,
   "id": "e9771ece",
   "metadata": {},
   "outputs": [
    {
     "data": {
      "text/plain": [
       "(tensor([[ 0,  1,  2],\n",
       "         [ 3,  4,  5],\n",
       "         [ 6,  7,  8],\n",
       "         [ 9, 10, 11]]),\n",
       " tensor([[ 0,  1,  3],\n",
       "         [ 3,  7, 12],\n",
       "         [ 6, 13, 21],\n",
       "         [ 9, 19, 30]]))"
      ]
     },
     "execution_count": 694,
     "metadata": {},
     "output_type": "execute_result"
    }
   ],
   "source": [
    "x = torch.arange(12).view(4, 3)\n",
    "y = torch.cumsum(x, 1)\n",
    "x, y"
   ]
  },
  {
   "cell_type": "code",
   "execution_count": 695,
   "id": "3a43adeb",
   "metadata": {},
   "outputs": [
    {
     "data": {
      "text/plain": [
       "(tensor([[ 0,  1,  2],\n",
       "         [ 3,  4,  5],\n",
       "         [ 6,  7,  8],\n",
       "         [ 9, 10, 11]]),\n",
       " tensor([[ 0,  1,  2],\n",
       "         [ 3,  5,  7],\n",
       "         [ 9, 12, 15],\n",
       "         [18, 22, 26]]))"
      ]
     },
     "execution_count": 695,
     "metadata": {},
     "output_type": "execute_result"
    }
   ],
   "source": [
    "x = torch.arange(12).view(4, 3)\n",
    "y = torch.cumsum(x, 0)\n",
    "x, y"
   ]
  },
  {
   "cell_type": "code",
   "execution_count": 696,
   "id": "aabfedeb",
   "metadata": {},
   "outputs": [
    {
     "data": {
      "text/plain": [
       "(tensor([[ 0,  1,  2],\n",
       "         [ 3,  4,  5],\n",
       "         [ 6,  7,  8],\n",
       "         [ 9, 10, 11]]),\n",
       " torch.return_types.cummin(\n",
       " values=tensor([[0, 1, 2],\n",
       "         [0, 1, 2],\n",
       "         [0, 1, 2],\n",
       "         [0, 1, 2]]),\n",
       " indices=tensor([[0, 0, 0],\n",
       "         [0, 0, 0],\n",
       "         [0, 0, 0],\n",
       "         [0, 0, 0]])))"
      ]
     },
     "execution_count": 696,
     "metadata": {},
     "output_type": "execute_result"
    }
   ],
   "source": [
    "x = torch.arange(12).view(4, 3)\n",
    "y = torch.cummin(x, 0)\n",
    "x, y"
   ]
  },
  {
   "cell_type": "code",
   "execution_count": 697,
   "id": "bac15120",
   "metadata": {},
   "outputs": [
    {
     "data": {
      "text/plain": [
       "(tensor([[ 0,  3,  6,  9],\n",
       "         [ 1,  4,  7, 10],\n",
       "         [ 2,  5,  8, 11]]),\n",
       " torch.return_types.cummax(\n",
       " values=tensor([[ 0,  3,  6,  9],\n",
       "         [ 1,  4,  7, 10],\n",
       "         [ 2,  5,  8, 11]]),\n",
       " indices=tensor([[0, 0, 0, 0],\n",
       "         [1, 1, 1, 1],\n",
       "         [2, 2, 2, 2]])))"
      ]
     },
     "execution_count": 697,
     "metadata": {},
     "output_type": "execute_result"
    }
   ],
   "source": [
    "x = torch.arange(12).view(4, 3).T\n",
    "y = torch.cummax(x, 0)\n",
    "x, y"
   ]
  },
  {
   "cell_type": "code",
   "execution_count": 698,
   "id": "5eed5e71",
   "metadata": {},
   "outputs": [
    {
     "data": {
      "text/plain": [
       "(tensor([[ 0,  3,  6,  9],\n",
       "         [ 1,  4,  7, 10],\n",
       "         [ 2,  5,  8, 11]]),\n",
       " torch.return_types.cummin(\n",
       " values=tensor([[0, 0, 0, 0],\n",
       "         [1, 1, 1, 1],\n",
       "         [2, 2, 2, 2]]),\n",
       " indices=tensor([[0, 0, 0, 0],\n",
       "         [0, 0, 0, 0],\n",
       "         [0, 0, 0, 0]])))"
      ]
     },
     "execution_count": 698,
     "metadata": {},
     "output_type": "execute_result"
    }
   ],
   "source": [
    "x = torch.arange(12).view(4, 3).T\n",
    "y = torch.cummin(x, 1)\n",
    "x, y"
   ]
  },
  {
   "cell_type": "code",
   "execution_count": 1246,
   "id": "25d84d51",
   "metadata": {},
   "outputs": [
    {
     "data": {
      "text/plain": [
       "(tensor([[[8, 0],\n",
       "          [2, 6],\n",
       "          [7, 6]],\n",
       " \n",
       "         [[7, 1],\n",
       "          [1, 0],\n",
       "          [8, 2]],\n",
       " \n",
       "         [[6, 3],\n",
       "          [1, 2],\n",
       "          [0, 0]],\n",
       " \n",
       "         [[5, 3],\n",
       "          [8, 2],\n",
       "          [8, 2]]]),\n",
       " tensor([[[  8,   0],\n",
       "          [ 16,   0],\n",
       "          [112,   0]],\n",
       " \n",
       "         [[  7,   1],\n",
       "          [  7,   0],\n",
       "          [ 56,   0]],\n",
       " \n",
       "         [[  6,   3],\n",
       "          [  6,   6],\n",
       "          [  0,   0]],\n",
       " \n",
       "         [[  5,   3],\n",
       "          [ 40,   6],\n",
       "          [320,  12]]]))"
      ]
     },
     "execution_count": 1246,
     "metadata": {},
     "output_type": "execute_result"
    }
   ],
   "source": [
    "torch.manual_seed(0)\n",
    "x = torch.randint(0, 9, (4, 3, 2))\n",
    "y = torch.cumprod(x, 1) \n",
    "x, y"
   ]
  },
  {
   "cell_type": "code",
   "execution_count": 1247,
   "id": "65194b4f",
   "metadata": {},
   "outputs": [
    {
     "data": {
      "text/plain": [
       "(tensor([1, 2, 3, 4, 5]),\n",
       " tensor([[1, 0, 0, 0, 0],\n",
       "         [0, 2, 0, 0, 0],\n",
       "         [0, 0, 3, 0, 0],\n",
       "         [0, 0, 0, 4, 0],\n",
       "         [0, 0, 0, 0, 5]]))"
      ]
     },
     "execution_count": 1247,
     "metadata": {},
     "output_type": "execute_result"
    }
   ],
   "source": [
    "x = torch.arange(1, 6)\n",
    "y = torch.diag(x)\n",
    "x, y"
   ]
  },
  {
   "cell_type": "code",
   "execution_count": 1248,
   "id": "3a75217f",
   "metadata": {},
   "outputs": [
    {
     "data": {
      "text/plain": [
       "(tensor([1, 2, 3, 4, 5]),\n",
       " tensor([[0, 1, 0, 0, 0, 0],\n",
       "         [0, 0, 2, 0, 0, 0],\n",
       "         [0, 0, 0, 3, 0, 0],\n",
       "         [0, 0, 0, 0, 4, 0],\n",
       "         [0, 0, 0, 0, 0, 5],\n",
       "         [0, 0, 0, 0, 0, 0]]))"
      ]
     },
     "execution_count": 1248,
     "metadata": {},
     "output_type": "execute_result"
    }
   ],
   "source": [
    "x = torch.arange(1, 6)\n",
    "y = torch.diag(x, diagonal=1)\n",
    "x, y"
   ]
  },
  {
   "cell_type": "code",
   "execution_count": 1250,
   "id": "a5b1ff7d",
   "metadata": {},
   "outputs": [
    {
     "data": {
      "text/plain": [
       "(tensor([1, 2, 3, 4, 5]),\n",
       " tensor([[0, 0, 1, 0, 0, 0, 0],\n",
       "         [0, 0, 0, 2, 0, 0, 0],\n",
       "         [0, 0, 0, 0, 3, 0, 0],\n",
       "         [0, 0, 0, 0, 0, 4, 0],\n",
       "         [0, 0, 0, 0, 0, 0, 5],\n",
       "         [0, 0, 0, 0, 0, 0, 0],\n",
       "         [0, 0, 0, 0, 0, 0, 0]]))"
      ]
     },
     "execution_count": 1250,
     "metadata": {},
     "output_type": "execute_result"
    }
   ],
   "source": [
    "x = torch.arange(1, 6)\n",
    "y = torch.diag(x, diagonal=2)\n",
    "x, y"
   ]
  },
  {
   "cell_type": "code",
   "execution_count": 1251,
   "id": "f8745969",
   "metadata": {},
   "outputs": [
    {
     "data": {
      "text/plain": [
       "(tensor([1, 2, 3, 4, 5]),\n",
       " tensor([[0, 0, 0, 0, 0, 0],\n",
       "         [1, 0, 0, 0, 0, 0],\n",
       "         [0, 2, 0, 0, 0, 0],\n",
       "         [0, 0, 3, 0, 0, 0],\n",
       "         [0, 0, 0, 4, 0, 0],\n",
       "         [0, 0, 0, 0, 5, 0]]))"
      ]
     },
     "execution_count": 1251,
     "metadata": {},
     "output_type": "execute_result"
    }
   ],
   "source": [
    "x = torch.arange(1, 6)\n",
    "y = torch.diag(x, diagonal=-1)\n",
    "x, y"
   ]
  },
  {
   "cell_type": "code",
   "execution_count": 1252,
   "id": "c5dc236a",
   "metadata": {},
   "outputs": [
    {
     "data": {
      "text/plain": [
       "(tensor([1, 2, 3, 4, 5]),\n",
       " tensor([[0, 0, 0, 0, 0, 0, 0, 0, 0, 0],\n",
       "         [0, 0, 0, 0, 0, 0, 0, 0, 0, 0],\n",
       "         [0, 0, 0, 0, 0, 0, 0, 0, 0, 0],\n",
       "         [0, 0, 0, 0, 0, 0, 0, 0, 0, 0],\n",
       "         [0, 0, 0, 0, 0, 0, 0, 0, 0, 0],\n",
       "         [1, 0, 0, 0, 0, 0, 0, 0, 0, 0],\n",
       "         [0, 2, 0, 0, 0, 0, 0, 0, 0, 0],\n",
       "         [0, 0, 3, 0, 0, 0, 0, 0, 0, 0],\n",
       "         [0, 0, 0, 4, 0, 0, 0, 0, 0, 0],\n",
       "         [0, 0, 0, 0, 5, 0, 0, 0, 0, 0]]))"
      ]
     },
     "execution_count": 1252,
     "metadata": {},
     "output_type": "execute_result"
    }
   ],
   "source": [
    "x = torch.arange(1, 6)\n",
    "y = torch.diag(x, diagonal=-5)\n",
    "x, y"
   ]
  },
  {
   "cell_type": "code",
   "execution_count": 1255,
   "id": "be282439",
   "metadata": {},
   "outputs": [
    {
     "data": {
      "text/plain": [
       "(tensor([[ 1,  2,  3,  4,  5,  6],\n",
       "         [ 7,  8,  9, 10, 11, 12]]),\n",
       " tensor([1, 8]))"
      ]
     },
     "execution_count": 1255,
     "metadata": {},
     "output_type": "execute_result"
    }
   ],
   "source": [
    "x = torch.arange(1, 2 * 6 + 1).view(2, 6)\n",
    "y = torch.diag(x)\n",
    "x, y"
   ]
  },
  {
   "cell_type": "code",
   "execution_count": 1258,
   "id": "33d3c7ad",
   "metadata": {},
   "outputs": [],
   "source": [
    "torch.manual_seed(0)\n",
    "x = torch.randint(0, 9, (4, 3, 2))\n",
    "# y = torch.diag(x) # Errors not 3D only 1D and 2D"
   ]
  },
  {
   "cell_type": "code",
   "execution_count": 1259,
   "id": "a6f7672f",
   "metadata": {},
   "outputs": [
    {
     "data": {
      "text/plain": [
       "(tensor([[8, 0, 2, 6, 7, 6],\n",
       "         [7, 1, 1, 0, 8, 2],\n",
       "         [6, 3, 1, 2, 0, 0],\n",
       "         [5, 3, 8, 2, 8, 2],\n",
       "         [8, 5, 7, 8, 6, 0],\n",
       "         [1, 0, 8, 6, 1, 6],\n",
       "         [1, 8, 8, 7, 2, 3],\n",
       "         [7, 7, 1, 5, 4, 7],\n",
       "         [5, 7, 4, 2, 5, 4],\n",
       "         [8, 5, 5, 4, 2, 2]]),\n",
       " tensor([8, 1, 1, 2, 6, 6]))"
      ]
     },
     "execution_count": 1259,
     "metadata": {},
     "output_type": "execute_result"
    }
   ],
   "source": [
    "torch.manual_seed(0)\n",
    "x = torch.randint(0, 9, (10, 6))\n",
    "y = torch.diag(x) \n",
    "x, y"
   ]
  },
  {
   "cell_type": "code",
   "execution_count": 1260,
   "id": "c70e7ac9",
   "metadata": {},
   "outputs": [
    {
     "data": {
      "text/plain": [
       "(tensor([[8, 0, 2, 6, 7, 6],\n",
       "         [7, 1, 1, 0, 8, 2],\n",
       "         [6, 3, 1, 2, 0, 0],\n",
       "         [5, 3, 8, 2, 8, 2],\n",
       "         [8, 5, 7, 8, 6, 0],\n",
       "         [1, 0, 8, 6, 1, 6],\n",
       "         [1, 8, 8, 7, 2, 3],\n",
       "         [7, 7, 1, 5, 4, 7],\n",
       "         [5, 7, 4, 2, 5, 4],\n",
       "         [8, 5, 5, 4, 2, 2]]),\n",
       " tensor([0, 1, 2, 8, 0]))"
      ]
     },
     "execution_count": 1260,
     "metadata": {},
     "output_type": "execute_result"
    }
   ],
   "source": [
    "torch.manual_seed(0)\n",
    "x = torch.randint(0, 9, (10, 6))\n",
    "y = torch.diag(x, 1) \n",
    "x, y"
   ]
  },
  {
   "cell_type": "code",
   "execution_count": 1261,
   "id": "684efb24",
   "metadata": {},
   "outputs": [
    {
     "data": {
      "text/plain": [
       "(tensor([[8, 0, 2, 6, 7, 6],\n",
       "         [7, 1, 1, 0, 8, 2],\n",
       "         [6, 3, 1, 2, 0, 0],\n",
       "         [5, 3, 8, 2, 8, 2],\n",
       "         [8, 5, 7, 8, 6, 0],\n",
       "         [1, 0, 8, 6, 1, 6],\n",
       "         [1, 8, 8, 7, 2, 3],\n",
       "         [7, 7, 1, 5, 4, 7],\n",
       "         [5, 7, 4, 2, 5, 4],\n",
       "         [8, 5, 5, 4, 2, 2]]),\n",
       " tensor([6]))"
      ]
     },
     "execution_count": 1261,
     "metadata": {},
     "output_type": "execute_result"
    }
   ],
   "source": [
    "torch.manual_seed(0)\n",
    "x = torch.randint(0, 9, (10, 6))\n",
    "y = torch.diag(x, 5) \n",
    "x, y"
   ]
  },
  {
   "cell_type": "code",
   "execution_count": 1262,
   "id": "d16e27a6",
   "metadata": {},
   "outputs": [
    {
     "data": {
      "text/plain": [
       "(tensor([[8, 0, 2, 6, 7, 6],\n",
       "         [7, 1, 1, 0, 8, 2],\n",
       "         [6, 3, 1, 2, 0, 0],\n",
       "         [5, 3, 8, 2, 8, 2],\n",
       "         [8, 5, 7, 8, 6, 0],\n",
       "         [1, 0, 8, 6, 1, 6],\n",
       "         [1, 8, 8, 7, 2, 3],\n",
       "         [7, 7, 1, 5, 4, 7],\n",
       "         [5, 7, 4, 2, 5, 4],\n",
       "         [8, 5, 5, 4, 2, 2]]),\n",
       " tensor([], dtype=torch.int64))"
      ]
     },
     "execution_count": 1262,
     "metadata": {},
     "output_type": "execute_result"
    }
   ],
   "source": [
    "torch.manual_seed(0)\n",
    "x = torch.randint(0, 9, (10, 6))\n",
    "y = torch.diag(x, 6) \n",
    "x, y"
   ]
  },
  {
   "cell_type": "code",
   "execution_count": 1263,
   "id": "b9a41bb9",
   "metadata": {},
   "outputs": [
    {
     "data": {
      "text/plain": [
       "(tensor([[8, 0, 2, 6, 7, 6],\n",
       "         [7, 1, 1, 0, 8, 2],\n",
       "         [6, 3, 1, 2, 0, 0],\n",
       "         [5, 3, 8, 2, 8, 2],\n",
       "         [8, 5, 7, 8, 6, 0],\n",
       "         [1, 0, 8, 6, 1, 6],\n",
       "         [1, 8, 8, 7, 2, 3],\n",
       "         [7, 7, 1, 5, 4, 7],\n",
       "         [5, 7, 4, 2, 5, 4],\n",
       "         [8, 5, 5, 4, 2, 2]]),\n",
       " tensor([], dtype=torch.int64))"
      ]
     },
     "execution_count": 1263,
     "metadata": {},
     "output_type": "execute_result"
    }
   ],
   "source": [
    "torch.manual_seed(0)\n",
    "x = torch.randint(0, 9, (10, 6))\n",
    "y = torch.diag(x, 10) \n",
    "x, y"
   ]
  },
  {
   "cell_type": "code",
   "execution_count": 1264,
   "id": "69ef3e5c",
   "metadata": {},
   "outputs": [
    {
     "data": {
      "text/plain": [
       "(tensor([[8, 0, 2, 6, 7, 6],\n",
       "         [7, 1, 1, 0, 8, 2],\n",
       "         [6, 3, 1, 2, 0, 0],\n",
       "         [5, 3, 8, 2, 8, 2],\n",
       "         [8, 5, 7, 8, 6, 0],\n",
       "         [1, 0, 8, 6, 1, 6],\n",
       "         [1, 8, 8, 7, 2, 3],\n",
       "         [7, 7, 1, 5, 4, 7],\n",
       "         [5, 7, 4, 2, 5, 4],\n",
       "         [8, 5, 5, 4, 2, 2]]),\n",
       " tensor([5, 5, 8, 7, 4, 4]))"
      ]
     },
     "execution_count": 1264,
     "metadata": {},
     "output_type": "execute_result"
    }
   ],
   "source": [
    "torch.manual_seed(0)\n",
    "x = torch.randint(0, 9, (10, 6))\n",
    "y = torch.diag(x, -3) \n",
    "x, y"
   ]
  },
  {
   "cell_type": "code",
   "execution_count": 1267,
   "id": "66f20d68",
   "metadata": {},
   "outputs": [
    {
     "data": {
      "text/plain": [
       "(tensor([[8, 0, 2, 6, 7, 6]]), tensor([8]))"
      ]
     },
     "execution_count": 1267,
     "metadata": {},
     "output_type": "execute_result"
    }
   ],
   "source": [
    "torch.manual_seed(0)\n",
    "x = torch.randint(0, 9, (1, 6))\n",
    "y = torch.diag(x) \n",
    "x, y"
   ]
  },
  {
   "cell_type": "code",
   "execution_count": 1269,
   "id": "ae7bdf98",
   "metadata": {},
   "outputs": [
    {
     "data": {
      "text/plain": [
       "(tensor([[ 1.5410, -0.2934, -2.1788],\n",
       "         [ 0.5684, -1.0845, -1.3986]]),\n",
       " tensor([[[ 1.5410,  0.0000,  0.0000],\n",
       "          [ 0.0000, -0.2934,  0.0000],\n",
       "          [ 0.0000,  0.0000, -2.1788]],\n",
       " \n",
       "         [[ 0.5684,  0.0000,  0.0000],\n",
       "          [ 0.0000, -1.0845,  0.0000],\n",
       "          [ 0.0000,  0.0000, -1.3986]]]),\n",
       " torch.Size([2, 3, 3]))"
      ]
     },
     "execution_count": 1269,
     "metadata": {},
     "output_type": "execute_result"
    }
   ],
   "source": [
    "torch.manual_seed(0)\n",
    "x = torch.randn(2, 3)\n",
    "y = torch.diag_embed(x)\n",
    "x, y, y.size()"
   ]
  },
  {
   "cell_type": "code",
   "execution_count": 1270,
   "id": "0586ace6",
   "metadata": {},
   "outputs": [
    {
     "data": {
      "text/plain": [
       "(tensor([[ 1.5410, -0.2934, -2.1788],\n",
       "         [ 0.5684, -1.0845, -1.3986]]),\n",
       " tensor([[[ 0.0000,  1.5410,  0.0000,  0.0000],\n",
       "          [ 0.0000,  0.0000, -0.2934,  0.0000],\n",
       "          [ 0.0000,  0.0000,  0.0000, -2.1788],\n",
       "          [ 0.0000,  0.0000,  0.0000,  0.0000]],\n",
       " \n",
       "         [[ 0.0000,  0.5684,  0.0000,  0.0000],\n",
       "          [ 0.0000,  0.0000, -1.0845,  0.0000],\n",
       "          [ 0.0000,  0.0000,  0.0000, -1.3986],\n",
       "          [ 0.0000,  0.0000,  0.0000,  0.0000]]]),\n",
       " torch.Size([2, 4, 4]))"
      ]
     },
     "execution_count": 1270,
     "metadata": {},
     "output_type": "execute_result"
    }
   ],
   "source": [
    "torch.manual_seed(0)\n",
    "x = torch.randn(2, 3)\n",
    "y = torch.diag_embed(x, offset=1)\n",
    "x, y, y.size()"
   ]
  },
  {
   "cell_type": "code",
   "execution_count": 1271,
   "id": "1630b0fa",
   "metadata": {},
   "outputs": [
    {
     "data": {
      "text/plain": [
       "(tensor([[ 1.5410, -0.2934, -2.1788],\n",
       "         [ 0.5684, -1.0845, -1.3986]]),\n",
       " tensor([[[ 1.5410,  0.0000,  0.0000],\n",
       "          [ 0.0000, -0.2934,  0.0000],\n",
       "          [ 0.0000,  0.0000, -2.1788]],\n",
       " \n",
       "         [[ 0.5684,  0.0000,  0.0000],\n",
       "          [ 0.0000, -1.0845,  0.0000],\n",
       "          [ 0.0000,  0.0000, -1.3986]]]))"
      ]
     },
     "execution_count": 1271,
     "metadata": {},
     "output_type": "execute_result"
    }
   ],
   "source": [
    "torch.manual_seed(0)\n",
    "x = torch.randn(2, 3)\n",
    "y = torch.diag_embed(x, dim1=-2, dim2=-1)\n",
    "x, y"
   ]
  },
  {
   "cell_type": "code",
   "execution_count": 1272,
   "id": "3d7a62ba",
   "metadata": {},
   "outputs": [
    {
     "data": {
      "text/plain": [
       "(tensor([[ 1.5410, -0.2934, -2.1788],\n",
       "         [ 0.5684, -1.0845, -1.3986]]),\n",
       " tensor([[[ 1.5410,  0.0000,  0.0000],\n",
       "          [ 0.0000, -0.2934,  0.0000],\n",
       "          [ 0.0000,  0.0000, -2.1788]],\n",
       " \n",
       "         [[ 0.5684,  0.0000,  0.0000],\n",
       "          [ 0.0000, -1.0845,  0.0000],\n",
       "          [ 0.0000,  0.0000, -1.3986]]]))"
      ]
     },
     "execution_count": 1272,
     "metadata": {},
     "output_type": "execute_result"
    }
   ],
   "source": [
    "torch.manual_seed(0)\n",
    "x = torch.randn(2, 3)\n",
    "y = torch.diag_embed(x, dim1=-1, dim2=-2)\n",
    "x, y"
   ]
  },
  {
   "cell_type": "code",
   "execution_count": 708,
   "id": "51668d75",
   "metadata": {},
   "outputs": [
    {
     "data": {
      "text/plain": [
       "(tensor([[ 0.5724,  0.4709,  2.3167],\n",
       "         [ 1.2746, -0.0603, -0.2617]]),\n",
       " tensor([[[ 0.0000,  0.5724,  0.0000,  0.0000],\n",
       "          [ 0.0000,  0.0000,  0.4709,  0.0000],\n",
       "          [ 0.0000,  0.0000,  0.0000,  2.3167],\n",
       "          [ 0.0000,  0.0000,  0.0000,  0.0000]],\n",
       " \n",
       "         [[ 0.0000,  1.2746,  0.0000,  0.0000],\n",
       "          [ 0.0000,  0.0000, -0.0603,  0.0000],\n",
       "          [ 0.0000,  0.0000,  0.0000, -0.2617],\n",
       "          [ 0.0000,  0.0000,  0.0000,  0.0000]]]))"
      ]
     },
     "execution_count": 708,
     "metadata": {},
     "output_type": "execute_result"
    }
   ],
   "source": [
    "torch.manual_seed(0)\n",
    "x = torch.randn(2, 3)\n",
    "y = torch.diag_embed(x, offset=1)\n",
    "x, y"
   ]
  },
  {
   "cell_type": "code",
   "execution_count": 1273,
   "id": "0872b8ea",
   "metadata": {},
   "outputs": [
    {
     "data": {
      "text/plain": [
       "(tensor([[ 1.5410, -0.2934, -2.1788],\n",
       "         [ 0.5684, -1.0845, -1.3986]]),\n",
       " tensor([[[ 0.0000,  0.0000,  1.5410,  0.0000,  0.0000],\n",
       "          [ 0.0000,  0.0000,  0.0000, -0.2934,  0.0000],\n",
       "          [ 0.0000,  0.0000,  0.0000,  0.0000, -2.1788],\n",
       "          [ 0.0000,  0.0000,  0.0000,  0.0000,  0.0000],\n",
       "          [ 0.0000,  0.0000,  0.0000,  0.0000,  0.0000]],\n",
       " \n",
       "         [[ 0.0000,  0.0000,  0.5684,  0.0000,  0.0000],\n",
       "          [ 0.0000,  0.0000,  0.0000, -1.0845,  0.0000],\n",
       "          [ 0.0000,  0.0000,  0.0000,  0.0000, -1.3986],\n",
       "          [ 0.0000,  0.0000,  0.0000,  0.0000,  0.0000],\n",
       "          [ 0.0000,  0.0000,  0.0000,  0.0000,  0.0000]]]))"
      ]
     },
     "execution_count": 1273,
     "metadata": {},
     "output_type": "execute_result"
    }
   ],
   "source": [
    "torch.manual_seed(0)\n",
    "x = torch.randn(2, 3)\n",
    "y = torch.diag_embed(x, offset=2)\n",
    "x, y"
   ]
  },
  {
   "cell_type": "code",
   "execution_count": 1278,
   "id": "afea239b",
   "metadata": {},
   "outputs": [
    {
     "data": {
      "text/plain": [
       "(tensor([[ 1.5410, -0.2934, -2.1788],\n",
       "         [ 0.5684, -1.0845, -1.3986]]),\n",
       " tensor([[[ 0.0000,  1.5410,  0.0000,  0.0000],\n",
       "          [ 0.0000,  0.0000, -0.2934,  0.0000],\n",
       "          [ 0.0000,  0.0000,  0.0000, -2.1788],\n",
       "          [ 0.0000,  0.0000,  0.0000,  0.0000]],\n",
       " \n",
       "         [[ 0.0000,  0.5684,  0.0000,  0.0000],\n",
       "          [ 0.0000,  0.0000, -1.0845,  0.0000],\n",
       "          [ 0.0000,  0.0000,  0.0000, -1.3986],\n",
       "          [ 0.0000,  0.0000,  0.0000,  0.0000]]]),\n",
       " torch.Size([2, 4, 4]))"
      ]
     },
     "execution_count": 1278,
     "metadata": {},
     "output_type": "execute_result"
    }
   ],
   "source": [
    "torch.manual_seed(0)\n",
    "x = torch.randn(2, 3)\n",
    "y = torch.diag_embed(x, offset=1, dim1=-2, dim2=-1)\n",
    "x, y, y.size()"
   ]
  },
  {
   "cell_type": "code",
   "execution_count": 1277,
   "id": "afea239b",
   "metadata": {},
   "outputs": [
    {
     "data": {
      "text/plain": [
       "(tensor([[ 1.5410, -0.2934, -2.1788],\n",
       "         [ 0.5684, -1.0845, -1.3986]]),\n",
       " tensor([[[ 0.0000,  0.0000,  0.0000,  0.0000],\n",
       "          [ 1.5410,  0.0000,  0.0000,  0.0000],\n",
       "          [ 0.0000, -0.2934,  0.0000,  0.0000],\n",
       "          [ 0.0000,  0.0000, -2.1788,  0.0000]],\n",
       " \n",
       "         [[ 0.0000,  0.0000,  0.0000,  0.0000],\n",
       "          [ 0.5684,  0.0000,  0.0000,  0.0000],\n",
       "          [ 0.0000, -1.0845,  0.0000,  0.0000],\n",
       "          [ 0.0000,  0.0000, -1.3986,  0.0000]]]),\n",
       " torch.Size([2, 4, 4]))"
      ]
     },
     "execution_count": 1277,
     "metadata": {},
     "output_type": "execute_result"
    }
   ],
   "source": [
    "torch.manual_seed(0)\n",
    "x = torch.randn(2, 3)\n",
    "y = torch.diag_embed(x, offset=1, dim1=-1, dim2=-2)\n",
    "x, y, y.size()"
   ]
  },
  {
   "cell_type": "code",
   "execution_count": 1279,
   "id": "48e4dde7",
   "metadata": {},
   "outputs": [
    {
     "data": {
      "text/plain": [
       "(tensor([[ 1.5410, -0.2934, -2.1788],\n",
       "         [ 0.5684, -1.0845, -1.3986]]),\n",
       " tensor([[[ 0.0000,  0.0000,  0.0000,  0.0000,  0.0000],\n",
       "          [ 0.0000,  0.0000,  0.0000,  0.0000,  0.0000],\n",
       "          [ 1.5410,  0.0000,  0.0000,  0.0000,  0.0000],\n",
       "          [ 0.0000, -0.2934,  0.0000,  0.0000,  0.0000],\n",
       "          [ 0.0000,  0.0000, -2.1788,  0.0000,  0.0000]],\n",
       " \n",
       "         [[ 0.0000,  0.0000,  0.0000,  0.0000,  0.0000],\n",
       "          [ 0.0000,  0.0000,  0.0000,  0.0000,  0.0000],\n",
       "          [ 0.5684,  0.0000,  0.0000,  0.0000,  0.0000],\n",
       "          [ 0.0000, -1.0845,  0.0000,  0.0000,  0.0000],\n",
       "          [ 0.0000,  0.0000, -1.3986,  0.0000,  0.0000]]]))"
      ]
     },
     "execution_count": 1279,
     "metadata": {},
     "output_type": "execute_result"
    }
   ],
   "source": [
    "torch.manual_seed(0)\n",
    "x = torch.randn(2, 3)\n",
    "y = torch.diag_embed(x, offset=2, dim1=-1, dim2=-2)\n",
    "x, y"
   ]
  },
  {
   "cell_type": "code",
   "execution_count": 1280,
   "id": "b5a8b8e5",
   "metadata": {},
   "outputs": [
    {
     "data": {
      "text/plain": [
       "(tensor([[ 1.5410, -0.2934, -2.1788],\n",
       "         [ 0.5684, -1.0845, -1.3986]]),\n",
       " tensor([[[ 0.0000,  0.0000,  1.5410,  0.0000,  0.0000],\n",
       "          [ 0.0000,  0.0000,  0.0000, -0.2934,  0.0000],\n",
       "          [ 0.0000,  0.0000,  0.0000,  0.0000, -2.1788],\n",
       "          [ 0.0000,  0.0000,  0.0000,  0.0000,  0.0000],\n",
       "          [ 0.0000,  0.0000,  0.0000,  0.0000,  0.0000]],\n",
       " \n",
       "         [[ 0.0000,  0.0000,  0.5684,  0.0000,  0.0000],\n",
       "          [ 0.0000,  0.0000,  0.0000, -1.0845,  0.0000],\n",
       "          [ 0.0000,  0.0000,  0.0000,  0.0000, -1.3986],\n",
       "          [ 0.0000,  0.0000,  0.0000,  0.0000,  0.0000],\n",
       "          [ 0.0000,  0.0000,  0.0000,  0.0000,  0.0000]]]))"
      ]
     },
     "execution_count": 1280,
     "metadata": {},
     "output_type": "execute_result"
    }
   ],
   "source": [
    "torch.manual_seed(0)\n",
    "x = torch.randn(2, 3)\n",
    "y = torch.diag_embed(x, offset=2, dim1=-2, dim2=-1)\n",
    "x, y"
   ]
  },
  {
   "cell_type": "code",
   "execution_count": 1281,
   "id": "d8b7d1aa",
   "metadata": {},
   "outputs": [
    {
     "data": {
      "text/plain": [
       "(tensor([[ 1.5410, -0.2934, -2.1788],\n",
       "         [ 0.5684, -1.0845, -1.3986]]),\n",
       " tensor([[[ 0.0000,  0.0000,  0.0000,  0.0000,  0.0000],\n",
       "          [ 0.0000,  0.0000,  0.0000,  0.0000,  0.0000],\n",
       "          [ 1.5410,  0.0000,  0.0000,  0.0000,  0.0000],\n",
       "          [ 0.0000, -0.2934,  0.0000,  0.0000,  0.0000],\n",
       "          [ 0.0000,  0.0000, -2.1788,  0.0000,  0.0000]],\n",
       " \n",
       "         [[ 0.0000,  0.0000,  0.0000,  0.0000,  0.0000],\n",
       "          [ 0.0000,  0.0000,  0.0000,  0.0000,  0.0000],\n",
       "          [ 0.5684,  0.0000,  0.0000,  0.0000,  0.0000],\n",
       "          [ 0.0000, -1.0845,  0.0000,  0.0000,  0.0000],\n",
       "          [ 0.0000,  0.0000, -1.3986,  0.0000,  0.0000]]]))"
      ]
     },
     "execution_count": 1281,
     "metadata": {},
     "output_type": "execute_result"
    }
   ],
   "source": [
    "torch.manual_seed(0)\n",
    "x = torch.randn(2, 3)\n",
    "y = torch.diag_embed(x, offset=-2,)\n",
    "x, y"
   ]
  },
  {
   "cell_type": "code",
   "execution_count": 1283,
   "id": "ad317ab9",
   "metadata": {},
   "outputs": [
    {
     "data": {
      "text/plain": [
       "(tensor([[ 1.5410, -0.2934, -2.1788],\n",
       "         [ 0.5684, -1.0845, -1.3986]]),\n",
       " tensor([[[ 0.0000,  0.0000,  1.5410,  0.0000,  0.0000],\n",
       "          [ 0.0000,  0.0000,  0.0000, -0.2934,  0.0000],\n",
       "          [ 0.0000,  0.0000,  0.0000,  0.0000, -2.1788],\n",
       "          [ 0.0000,  0.0000,  0.0000,  0.0000,  0.0000],\n",
       "          [ 0.0000,  0.0000,  0.0000,  0.0000,  0.0000]],\n",
       " \n",
       "         [[ 0.0000,  0.0000,  0.5684,  0.0000,  0.0000],\n",
       "          [ 0.0000,  0.0000,  0.0000, -1.0845,  0.0000],\n",
       "          [ 0.0000,  0.0000,  0.0000,  0.0000, -1.3986],\n",
       "          [ 0.0000,  0.0000,  0.0000,  0.0000,  0.0000],\n",
       "          [ 0.0000,  0.0000,  0.0000,  0.0000,  0.0000]]]))"
      ]
     },
     "execution_count": 1283,
     "metadata": {},
     "output_type": "execute_result"
    }
   ],
   "source": [
    "torch.manual_seed(0)\n",
    "x = torch.randn(2, 3)\n",
    "y = torch.diag_embed(x, offset=-2, dim1=-1, dim2=-2)\n",
    "x, y"
   ]
  },
  {
   "cell_type": "code",
   "execution_count": 1286,
   "id": "70fa19a6",
   "metadata": {},
   "outputs": [
    {
     "data": {
      "text/plain": [
       "(tensor([[ 1.5410, -0.2934, -2.1788]]),\n",
       " tensor([[[ 0.0000,  0.0000,  1.5410,  0.0000,  0.0000],\n",
       "          [ 0.0000,  0.0000,  0.0000, -0.2934,  0.0000],\n",
       "          [ 0.0000,  0.0000,  0.0000,  0.0000, -2.1788],\n",
       "          [ 0.0000,  0.0000,  0.0000,  0.0000,  0.0000],\n",
       "          [ 0.0000,  0.0000,  0.0000,  0.0000,  0.0000]]]))"
      ]
     },
     "execution_count": 1286,
     "metadata": {},
     "output_type": "execute_result"
    }
   ],
   "source": [
    "torch.manual_seed(0)\n",
    "x = torch.randn(1, 3)\n",
    "y = torch.diag_embed(x, offset=2)\n",
    "x, y"
   ]
  },
  {
   "cell_type": "code",
   "execution_count": 1287,
   "id": "05c54d28",
   "metadata": {},
   "outputs": [
    {
     "data": {
      "text/plain": [
       "(tensor([ 1.5410, -0.2934, -2.1788]),\n",
       " tensor([[ 0.0000,  0.0000,  1.5410,  0.0000,  0.0000],\n",
       "         [ 0.0000,  0.0000,  0.0000, -0.2934,  0.0000],\n",
       "         [ 0.0000,  0.0000,  0.0000,  0.0000, -2.1788],\n",
       "         [ 0.0000,  0.0000,  0.0000,  0.0000,  0.0000],\n",
       "         [ 0.0000,  0.0000,  0.0000,  0.0000,  0.0000]]))"
      ]
     },
     "execution_count": 1287,
     "metadata": {},
     "output_type": "execute_result"
    }
   ],
   "source": [
    "torch.manual_seed(0)\n",
    "x = torch.randn(3)\n",
    "y = torch.diag_embed(x, offset=2)\n",
    "x, y"
   ]
  },
  {
   "cell_type": "code",
   "execution_count": 1290,
   "id": "4fb2975f",
   "metadata": {},
   "outputs": [
    {
     "data": {
      "text/plain": [
       "(tensor([[[-1.1258, -1.1524, -0.2506],\n",
       "          [-0.4339,  0.8487,  0.6920],\n",
       "          [-0.3160, -2.1152,  0.4681],\n",
       "          [-0.1577,  1.4437,  0.2660]],\n",
       " \n",
       "         [[ 0.1665,  0.8744, -0.1435],\n",
       "          [-0.1116,  0.9318,  1.2590],\n",
       "          [ 2.0050,  0.0537,  0.6181],\n",
       "          [-0.4128, -0.8411, -2.3160]]]),\n",
       " tensor([[[[-1.1258,  0.0000,  0.0000],\n",
       "           [ 0.0000, -1.1524,  0.0000],\n",
       "           [ 0.0000,  0.0000, -0.2506]],\n",
       " \n",
       "          [[-0.4339,  0.0000,  0.0000],\n",
       "           [ 0.0000,  0.8487,  0.0000],\n",
       "           [ 0.0000,  0.0000,  0.6920]],\n",
       " \n",
       "          [[-0.3160,  0.0000,  0.0000],\n",
       "           [ 0.0000, -2.1152,  0.0000],\n",
       "           [ 0.0000,  0.0000,  0.4681]],\n",
       " \n",
       "          [[-0.1577,  0.0000,  0.0000],\n",
       "           [ 0.0000,  1.4437,  0.0000],\n",
       "           [ 0.0000,  0.0000,  0.2660]]],\n",
       " \n",
       " \n",
       "         [[[ 0.1665,  0.0000,  0.0000],\n",
       "           [ 0.0000,  0.8744,  0.0000],\n",
       "           [ 0.0000,  0.0000, -0.1435]],\n",
       " \n",
       "          [[-0.1116,  0.0000,  0.0000],\n",
       "           [ 0.0000,  0.9318,  0.0000],\n",
       "           [ 0.0000,  0.0000,  1.2590]],\n",
       " \n",
       "          [[ 2.0050,  0.0000,  0.0000],\n",
       "           [ 0.0000,  0.0537,  0.0000],\n",
       "           [ 0.0000,  0.0000,  0.6181]],\n",
       " \n",
       "          [[-0.4128,  0.0000,  0.0000],\n",
       "           [ 0.0000, -0.8411,  0.0000],\n",
       "           [ 0.0000,  0.0000, -2.3160]]]]),\n",
       " torch.Size([2, 4, 3, 3]))"
      ]
     },
     "execution_count": 1290,
     "metadata": {},
     "output_type": "execute_result"
    }
   ],
   "source": [
    "torch.manual_seed(0)\n",
    "x = torch.randn(2, 4, 3)\n",
    "y = torch.diag_embed(x)\n",
    "x, y, y.size()"
   ]
  },
  {
   "cell_type": "code",
   "execution_count": 1295,
   "id": "25c88557",
   "metadata": {},
   "outputs": [
    {
     "data": {
      "text/plain": [
       "(tensor([[[-1.1258, -1.1524, -0.2506],\n",
       "          [-0.4339,  0.8487,  0.6920],\n",
       "          [-0.3160, -2.1152,  0.4681],\n",
       "          [-0.1577,  1.4437,  0.2660]],\n",
       " \n",
       "         [[ 0.1665,  0.8744, -0.1435],\n",
       "          [-0.1116,  0.9318,  1.2590],\n",
       "          [ 2.0050,  0.0537,  0.6181],\n",
       "          [-0.4128, -0.8411, -2.3160]]]),\n",
       " tensor([[[[-1.1258,  0.0000,  0.0000],\n",
       "           [ 0.0000, -1.1524,  0.0000],\n",
       "           [ 0.0000,  0.0000, -0.2506]],\n",
       " \n",
       "          [[-0.4339,  0.0000,  0.0000],\n",
       "           [ 0.0000,  0.8487,  0.0000],\n",
       "           [ 0.0000,  0.0000,  0.6920]],\n",
       " \n",
       "          [[-0.3160,  0.0000,  0.0000],\n",
       "           [ 0.0000, -2.1152,  0.0000],\n",
       "           [ 0.0000,  0.0000,  0.4681]],\n",
       " \n",
       "          [[-0.1577,  0.0000,  0.0000],\n",
       "           [ 0.0000,  1.4437,  0.0000],\n",
       "           [ 0.0000,  0.0000,  0.2660]]],\n",
       " \n",
       " \n",
       "         [[[ 0.1665,  0.0000,  0.0000],\n",
       "           [ 0.0000,  0.8744,  0.0000],\n",
       "           [ 0.0000,  0.0000, -0.1435]],\n",
       " \n",
       "          [[-0.1116,  0.0000,  0.0000],\n",
       "           [ 0.0000,  0.9318,  0.0000],\n",
       "           [ 0.0000,  0.0000,  1.2590]],\n",
       " \n",
       "          [[ 2.0050,  0.0000,  0.0000],\n",
       "           [ 0.0000,  0.0537,  0.0000],\n",
       "           [ 0.0000,  0.0000,  0.6181]],\n",
       " \n",
       "          [[-0.4128,  0.0000,  0.0000],\n",
       "           [ 0.0000, -0.8411,  0.0000],\n",
       "           [ 0.0000,  0.0000, -2.3160]]]]),\n",
       " torch.Size([2, 4, 3, 3]))"
      ]
     },
     "execution_count": 1295,
     "metadata": {},
     "output_type": "execute_result"
    }
   ],
   "source": [
    "torch.manual_seed(0)\n",
    "x = torch.randn(2, 4, 3)\n",
    "y = torch.diag_embed(x, dim1=-2, dim2=-1)\n",
    "x, y, y.size()"
   ]
  },
  {
   "cell_type": "code",
   "execution_count": 1297,
   "id": "a53a833d",
   "metadata": {},
   "outputs": [
    {
     "data": {
      "text/plain": [
       "(tensor([[[-1.1258, -1.1524, -0.2506],\n",
       "          [-0.4339,  0.8487,  0.6920],\n",
       "          [-0.3160, -2.1152,  0.4681],\n",
       "          [-0.1577,  1.4437,  0.2660]],\n",
       " \n",
       "         [[ 0.1665,  0.8744, -0.1435],\n",
       "          [-0.1116,  0.9318,  1.2590],\n",
       "          [ 2.0050,  0.0537,  0.6181],\n",
       "          [-0.4128, -0.8411, -2.3160]]]),\n",
       " tensor([[[[-1.1258,  0.0000,  0.0000],\n",
       "           [ 0.0000, -1.1524,  0.0000],\n",
       "           [ 0.0000,  0.0000, -0.2506]],\n",
       " \n",
       "          [[-0.4339,  0.0000,  0.0000],\n",
       "           [ 0.0000,  0.8487,  0.0000],\n",
       "           [ 0.0000,  0.0000,  0.6920]],\n",
       " \n",
       "          [[-0.3160,  0.0000,  0.0000],\n",
       "           [ 0.0000, -2.1152,  0.0000],\n",
       "           [ 0.0000,  0.0000,  0.4681]],\n",
       " \n",
       "          [[-0.1577,  0.0000,  0.0000],\n",
       "           [ 0.0000,  1.4437,  0.0000],\n",
       "           [ 0.0000,  0.0000,  0.2660]]],\n",
       " \n",
       " \n",
       "         [[[ 0.1665,  0.0000,  0.0000],\n",
       "           [ 0.0000,  0.8744,  0.0000],\n",
       "           [ 0.0000,  0.0000, -0.1435]],\n",
       " \n",
       "          [[-0.1116,  0.0000,  0.0000],\n",
       "           [ 0.0000,  0.9318,  0.0000],\n",
       "           [ 0.0000,  0.0000,  1.2590]],\n",
       " \n",
       "          [[ 2.0050,  0.0000,  0.0000],\n",
       "           [ 0.0000,  0.0537,  0.0000],\n",
       "           [ 0.0000,  0.0000,  0.6181]],\n",
       " \n",
       "          [[-0.4128,  0.0000,  0.0000],\n",
       "           [ 0.0000, -0.8411,  0.0000],\n",
       "           [ 0.0000,  0.0000, -2.3160]]]]),\n",
       " torch.Size([2, 4, 3, 3]))"
      ]
     },
     "execution_count": 1297,
     "metadata": {},
     "output_type": "execute_result"
    }
   ],
   "source": [
    "torch.manual_seed(0)\n",
    "x = torch.randn(2, 4, 3)\n",
    "y = torch.diag_embed(x, dim1=-1, dim2=-2)\n",
    "x, y, y.size()"
   ]
  },
  {
   "cell_type": "code",
   "execution_count": 1298,
   "id": "4e01745f",
   "metadata": {},
   "outputs": [
    {
     "data": {
      "text/plain": [
       "(tensor([[[-1.1258, -1.1524, -0.2506],\n",
       "          [-0.4339,  0.8487,  0.6920],\n",
       "          [-0.3160, -2.1152,  0.4681],\n",
       "          [-0.1577,  1.4437,  0.2660]],\n",
       " \n",
       "         [[ 0.1665,  0.8744, -0.1435],\n",
       "          [-0.1116,  0.9318,  1.2590],\n",
       "          [ 2.0050,  0.0537,  0.6181],\n",
       "          [-0.4128, -0.8411, -2.3160]]]),\n",
       " tensor([[[[ 0.0000,  0.0000,  0.0000,  0.0000,  0.0000],\n",
       "           [ 0.0000,  0.0000,  0.0000,  0.0000,  0.0000],\n",
       "           [-1.1258,  0.0000,  0.0000,  0.0000,  0.0000],\n",
       "           [ 0.0000, -1.1524,  0.0000,  0.0000,  0.0000],\n",
       "           [ 0.0000,  0.0000, -0.2506,  0.0000,  0.0000]],\n",
       " \n",
       "          [[ 0.0000,  0.0000,  0.0000,  0.0000,  0.0000],\n",
       "           [ 0.0000,  0.0000,  0.0000,  0.0000,  0.0000],\n",
       "           [-0.4339,  0.0000,  0.0000,  0.0000,  0.0000],\n",
       "           [ 0.0000,  0.8487,  0.0000,  0.0000,  0.0000],\n",
       "           [ 0.0000,  0.0000,  0.6920,  0.0000,  0.0000]],\n",
       " \n",
       "          [[ 0.0000,  0.0000,  0.0000,  0.0000,  0.0000],\n",
       "           [ 0.0000,  0.0000,  0.0000,  0.0000,  0.0000],\n",
       "           [-0.3160,  0.0000,  0.0000,  0.0000,  0.0000],\n",
       "           [ 0.0000, -2.1152,  0.0000,  0.0000,  0.0000],\n",
       "           [ 0.0000,  0.0000,  0.4681,  0.0000,  0.0000]],\n",
       " \n",
       "          [[ 0.0000,  0.0000,  0.0000,  0.0000,  0.0000],\n",
       "           [ 0.0000,  0.0000,  0.0000,  0.0000,  0.0000],\n",
       "           [-0.1577,  0.0000,  0.0000,  0.0000,  0.0000],\n",
       "           [ 0.0000,  1.4437,  0.0000,  0.0000,  0.0000],\n",
       "           [ 0.0000,  0.0000,  0.2660,  0.0000,  0.0000]]],\n",
       " \n",
       " \n",
       "         [[[ 0.0000,  0.0000,  0.0000,  0.0000,  0.0000],\n",
       "           [ 0.0000,  0.0000,  0.0000,  0.0000,  0.0000],\n",
       "           [ 0.1665,  0.0000,  0.0000,  0.0000,  0.0000],\n",
       "           [ 0.0000,  0.8744,  0.0000,  0.0000,  0.0000],\n",
       "           [ 0.0000,  0.0000, -0.1435,  0.0000,  0.0000]],\n",
       " \n",
       "          [[ 0.0000,  0.0000,  0.0000,  0.0000,  0.0000],\n",
       "           [ 0.0000,  0.0000,  0.0000,  0.0000,  0.0000],\n",
       "           [-0.1116,  0.0000,  0.0000,  0.0000,  0.0000],\n",
       "           [ 0.0000,  0.9318,  0.0000,  0.0000,  0.0000],\n",
       "           [ 0.0000,  0.0000,  1.2590,  0.0000,  0.0000]],\n",
       " \n",
       "          [[ 0.0000,  0.0000,  0.0000,  0.0000,  0.0000],\n",
       "           [ 0.0000,  0.0000,  0.0000,  0.0000,  0.0000],\n",
       "           [ 2.0050,  0.0000,  0.0000,  0.0000,  0.0000],\n",
       "           [ 0.0000,  0.0537,  0.0000,  0.0000,  0.0000],\n",
       "           [ 0.0000,  0.0000,  0.6181,  0.0000,  0.0000]],\n",
       " \n",
       "          [[ 0.0000,  0.0000,  0.0000,  0.0000,  0.0000],\n",
       "           [ 0.0000,  0.0000,  0.0000,  0.0000,  0.0000],\n",
       "           [-0.4128,  0.0000,  0.0000,  0.0000,  0.0000],\n",
       "           [ 0.0000, -0.8411,  0.0000,  0.0000,  0.0000],\n",
       "           [ 0.0000,  0.0000, -2.3160,  0.0000,  0.0000]]]]),\n",
       " torch.Size([2, 4, 5, 5]))"
      ]
     },
     "execution_count": 1298,
     "metadata": {},
     "output_type": "execute_result"
    }
   ],
   "source": [
    "torch.manual_seed(0)\n",
    "x = torch.randn(2, 4, 3)\n",
    "y = torch.diag_embed(x, dim1=-1, dim2=-2, offset=2)\n",
    "x, y, y.size()"
   ]
  },
  {
   "cell_type": "code",
   "execution_count": 1300,
   "id": "9544c261",
   "metadata": {},
   "outputs": [
    {
     "data": {
      "text/plain": [
       "(tensor([[[-1.1258, -1.1524, -0.2506],\n",
       "          [-0.4339,  0.8487,  0.6920],\n",
       "          [-0.3160, -2.1152,  0.4681],\n",
       "          [-0.1577,  1.4437,  0.2660]],\n",
       " \n",
       "         [[ 0.1665,  0.8744, -0.1435],\n",
       "          [-0.1116,  0.9318,  1.2590],\n",
       "          [ 2.0050,  0.0537,  0.6181],\n",
       "          [-0.4128, -0.8411, -2.3160]]]),\n",
       " tensor([[[[-1.1258, -0.4339, -0.3160, -0.1577],\n",
       "           [ 0.0000,  0.0000,  0.0000,  0.0000],\n",
       "           [ 0.0000,  0.0000,  0.0000,  0.0000]],\n",
       " \n",
       "          [[ 0.0000,  0.0000,  0.0000,  0.0000],\n",
       "           [-1.1524,  0.8487, -2.1152,  1.4437],\n",
       "           [ 0.0000,  0.0000,  0.0000,  0.0000]],\n",
       " \n",
       "          [[ 0.0000,  0.0000,  0.0000,  0.0000],\n",
       "           [ 0.0000,  0.0000,  0.0000,  0.0000],\n",
       "           [-0.2506,  0.6920,  0.4681,  0.2660]]],\n",
       " \n",
       " \n",
       "         [[[ 0.1665, -0.1116,  2.0050, -0.4128],\n",
       "           [ 0.0000,  0.0000,  0.0000,  0.0000],\n",
       "           [ 0.0000,  0.0000,  0.0000,  0.0000]],\n",
       " \n",
       "          [[ 0.0000,  0.0000,  0.0000,  0.0000],\n",
       "           [ 0.8744,  0.9318,  0.0537, -0.8411],\n",
       "           [ 0.0000,  0.0000,  0.0000,  0.0000]],\n",
       " \n",
       "          [[ 0.0000,  0.0000,  0.0000,  0.0000],\n",
       "           [ 0.0000,  0.0000,  0.0000,  0.0000],\n",
       "           [-0.1435,  1.2590,  0.6181, -2.3160]]]]),\n",
       " torch.Size([2, 3, 3, 4]))"
      ]
     },
     "execution_count": 1300,
     "metadata": {},
     "output_type": "execute_result"
    }
   ],
   "source": [
    "torch.manual_seed(0)\n",
    "x = torch.randn(2, 4, 3)\n",
    "y = torch.diag_embed(x, dim1=-3, dim2=-2)\n",
    "x, y, y.size()"
   ]
  },
  {
   "cell_type": "code",
   "execution_count": 1301,
   "id": "c4064e49",
   "metadata": {},
   "outputs": [
    {
     "data": {
      "text/plain": [
       "(tensor([[[-1.1258, -1.1524, -0.2506],\n",
       "          [-0.4339,  0.8487,  0.6920],\n",
       "          [-0.3160, -2.1152,  0.4681],\n",
       "          [-0.1577,  1.4437,  0.2660]],\n",
       " \n",
       "         [[ 0.1665,  0.8744, -0.1435],\n",
       "          [-0.1116,  0.9318,  1.2590],\n",
       "          [ 2.0050,  0.0537,  0.6181],\n",
       "          [-0.4128, -0.8411, -2.3160]]]),\n",
       " tensor([[[[-1.1258,  0.0000,  0.0000],\n",
       "           [-0.4339,  0.0000,  0.0000],\n",
       "           [-0.3160,  0.0000,  0.0000],\n",
       "           [-0.1577,  0.0000,  0.0000]],\n",
       " \n",
       "          [[ 0.0000, -1.1524,  0.0000],\n",
       "           [ 0.0000,  0.8487,  0.0000],\n",
       "           [ 0.0000, -2.1152,  0.0000],\n",
       "           [ 0.0000,  1.4437,  0.0000]],\n",
       " \n",
       "          [[ 0.0000,  0.0000, -0.2506],\n",
       "           [ 0.0000,  0.0000,  0.6920],\n",
       "           [ 0.0000,  0.0000,  0.4681],\n",
       "           [ 0.0000,  0.0000,  0.2660]]],\n",
       " \n",
       " \n",
       "         [[[ 0.1665,  0.0000,  0.0000],\n",
       "           [-0.1116,  0.0000,  0.0000],\n",
       "           [ 2.0050,  0.0000,  0.0000],\n",
       "           [-0.4128,  0.0000,  0.0000]],\n",
       " \n",
       "          [[ 0.0000,  0.8744,  0.0000],\n",
       "           [ 0.0000,  0.9318,  0.0000],\n",
       "           [ 0.0000,  0.0537,  0.0000],\n",
       "           [ 0.0000, -0.8411,  0.0000]],\n",
       " \n",
       "          [[ 0.0000,  0.0000, -0.1435],\n",
       "           [ 0.0000,  0.0000,  1.2590],\n",
       "           [ 0.0000,  0.0000,  0.6181],\n",
       "           [ 0.0000,  0.0000, -2.3160]]]]),\n",
       " torch.Size([2, 3, 4, 3]))"
      ]
     },
     "execution_count": 1301,
     "metadata": {},
     "output_type": "execute_result"
    }
   ],
   "source": [
    "torch.manual_seed(0)\n",
    "x = torch.randn(2, 4, 3)\n",
    "y = torch.diag_embed(x, dim1=-3, dim2=-1)\n",
    "x, y, y.size()"
   ]
  },
  {
   "cell_type": "code",
   "execution_count": 716,
   "id": "086c8872",
   "metadata": {},
   "outputs": [
    {
     "data": {
      "text/plain": [
       "(tensor([ 0.4895, -1.1593, -1.5678]),\n",
       " tensor([[ 0.4895,  0.0000,  0.0000],\n",
       "         [ 0.0000, -1.1593,  0.0000],\n",
       "         [ 0.0000,  0.0000, -1.5678]]))"
      ]
     },
     "execution_count": 716,
     "metadata": {},
     "output_type": "execute_result"
    }
   ],
   "source": [
    "x = torch.randn(3)\n",
    "y = torch.diag(x)\n",
    "x, y"
   ]
  },
  {
   "cell_type": "code",
   "execution_count": 717,
   "id": "734ef23e",
   "metadata": {},
   "outputs": [
    {
     "data": {
      "text/plain": [
       "(tensor([ 1.1481,  0.3906, -0.8943]),\n",
       " tensor([[ 0.0000,  0.0000,  0.0000,  0.0000],\n",
       "         [ 1.1481,  0.0000,  0.0000,  0.0000],\n",
       "         [ 0.0000,  0.3906,  0.0000,  0.0000],\n",
       "         [ 0.0000,  0.0000, -0.8943,  0.0000]]))"
      ]
     },
     "execution_count": 717,
     "metadata": {},
     "output_type": "execute_result"
    }
   ],
   "source": [
    "x = torch.randn(3)\n",
    "y = torch.diag(x, -1)\n",
    "x, y"
   ]
  },
  {
   "cell_type": "code",
   "execution_count": 1302,
   "id": "079cff5b",
   "metadata": {},
   "outputs": [
    {
     "data": {
      "text/plain": [
       "(tensor([ 1.5410, -0.2934, -2.1788]),\n",
       " tensor([[ 1.5410,  0.0000,  0.0000],\n",
       "         [ 0.0000, -0.2934,  0.0000],\n",
       "         [ 0.0000,  0.0000, -2.1788]]))"
      ]
     },
     "execution_count": 1302,
     "metadata": {},
     "output_type": "execute_result"
    }
   ],
   "source": [
    "torch.manual_seed(0)\n",
    "x = torch.randn(3)\n",
    "y = torch.diagflat(x)\n",
    "x, y"
   ]
  },
  {
   "cell_type": "code",
   "execution_count": 1303,
   "id": "a42546f8",
   "metadata": {},
   "outputs": [
    {
     "data": {
      "text/plain": [
       "(tensor([ 1.5410, -0.2934, -2.1788]),\n",
       " tensor([[ 0.0000,  1.5410,  0.0000,  0.0000],\n",
       "         [ 0.0000,  0.0000, -0.2934,  0.0000],\n",
       "         [ 0.0000,  0.0000,  0.0000, -2.1788],\n",
       "         [ 0.0000,  0.0000,  0.0000,  0.0000]]))"
      ]
     },
     "execution_count": 1303,
     "metadata": {},
     "output_type": "execute_result"
    }
   ],
   "source": [
    "torch.manual_seed(0)\n",
    "x = torch.randn(3)\n",
    "y = torch.diagflat(x, 1)\n",
    "x, y"
   ]
  },
  {
   "cell_type": "code",
   "execution_count": 1304,
   "id": "a42546f8",
   "metadata": {},
   "outputs": [
    {
     "data": {
      "text/plain": [
       "(tensor([ 1.5410, -0.2934, -2.1788]),\n",
       " tensor([[ 0.0000,  0.0000,  0.0000,  0.0000],\n",
       "         [ 1.5410,  0.0000,  0.0000,  0.0000],\n",
       "         [ 0.0000, -0.2934,  0.0000,  0.0000],\n",
       "         [ 0.0000,  0.0000, -2.1788,  0.0000]]))"
      ]
     },
     "execution_count": 1304,
     "metadata": {},
     "output_type": "execute_result"
    }
   ],
   "source": [
    "torch.manual_seed(0)\n",
    "x = torch.randn(3)\n",
    "y = torch.diagflat(x, -1)\n",
    "x, y"
   ]
  },
  {
   "cell_type": "code",
   "execution_count": 1305,
   "id": "e7dc5bfe",
   "metadata": {},
   "outputs": [
    {
     "data": {
      "text/plain": [
       "(tensor([[ 1.5410, -0.2934],\n",
       "         [-2.1788,  0.5684],\n",
       "         [-1.0845, -1.3986]]),\n",
       " tensor([[ 1.5410,  0.0000,  0.0000,  0.0000,  0.0000,  0.0000],\n",
       "         [ 0.0000, -0.2934,  0.0000,  0.0000,  0.0000,  0.0000],\n",
       "         [ 0.0000,  0.0000, -2.1788,  0.0000,  0.0000,  0.0000],\n",
       "         [ 0.0000,  0.0000,  0.0000,  0.5684,  0.0000,  0.0000],\n",
       "         [ 0.0000,  0.0000,  0.0000,  0.0000, -1.0845,  0.0000],\n",
       "         [ 0.0000,  0.0000,  0.0000,  0.0000,  0.0000, -1.3986]]))"
      ]
     },
     "execution_count": 1305,
     "metadata": {},
     "output_type": "execute_result"
    }
   ],
   "source": [
    "torch.manual_seed(0)\n",
    "x = torch.randn(3, 2)\n",
    "y = torch.diagflat(x,)\n",
    "x, y"
   ]
  },
  {
   "cell_type": "code",
   "execution_count": 1306,
   "id": "e7dc5bfe",
   "metadata": {},
   "outputs": [
    {
     "data": {
      "text/plain": [
       "(tensor([[ 1.5410, -0.2934],\n",
       "         [-2.1788,  0.5684],\n",
       "         [-1.0845, -1.3986]]),\n",
       " tensor([[ 0.0000,  1.5410,  0.0000,  0.0000,  0.0000,  0.0000,  0.0000],\n",
       "         [ 0.0000,  0.0000, -0.2934,  0.0000,  0.0000,  0.0000,  0.0000],\n",
       "         [ 0.0000,  0.0000,  0.0000, -2.1788,  0.0000,  0.0000,  0.0000],\n",
       "         [ 0.0000,  0.0000,  0.0000,  0.0000,  0.5684,  0.0000,  0.0000],\n",
       "         [ 0.0000,  0.0000,  0.0000,  0.0000,  0.0000, -1.0845,  0.0000],\n",
       "         [ 0.0000,  0.0000,  0.0000,  0.0000,  0.0000,  0.0000, -1.3986],\n",
       "         [ 0.0000,  0.0000,  0.0000,  0.0000,  0.0000,  0.0000,  0.0000]]))"
      ]
     },
     "execution_count": 1306,
     "metadata": {},
     "output_type": "execute_result"
    }
   ],
   "source": [
    "torch.manual_seed(0)\n",
    "x = torch.randn(3, 2)\n",
    "y = torch.diagflat(x, 1)\n",
    "x, y"
   ]
  },
  {
   "cell_type": "code",
   "execution_count": 1311,
   "id": "4fdc7073",
   "metadata": {},
   "outputs": [
    {
     "data": {
      "text/plain": [
       "(tensor([[[-1.1258, -1.1524, -0.2506, -0.4339],\n",
       "          [ 0.8487,  0.6920, -0.3160, -2.1152],\n",
       "          [ 0.4681, -0.1577,  1.4437,  0.2660]],\n",
       " \n",
       "         [[ 0.1665,  0.8744, -0.1435, -0.1116],\n",
       "          [ 0.9318,  1.2590,  2.0050,  0.0537],\n",
       "          [ 0.6181, -0.4128, -0.8411, -2.3160]]]),\n",
       " tensor([[-1.1258,  0.0000,  0.0000,  0.0000,  0.0000,  0.0000,  0.0000,  0.0000,\n",
       "           0.0000,  0.0000,  0.0000,  0.0000,  0.0000,  0.0000,  0.0000,  0.0000,\n",
       "           0.0000,  0.0000,  0.0000,  0.0000,  0.0000,  0.0000,  0.0000,  0.0000],\n",
       "         [ 0.0000, -1.1524,  0.0000,  0.0000,  0.0000,  0.0000,  0.0000,  0.0000,\n",
       "           0.0000,  0.0000,  0.0000,  0.0000,  0.0000,  0.0000,  0.0000,  0.0000,\n",
       "           0.0000,  0.0000,  0.0000,  0.0000,  0.0000,  0.0000,  0.0000,  0.0000],\n",
       "         [ 0.0000,  0.0000, -0.2506,  0.0000,  0.0000,  0.0000,  0.0000,  0.0000,\n",
       "           0.0000,  0.0000,  0.0000,  0.0000,  0.0000,  0.0000,  0.0000,  0.0000,\n",
       "           0.0000,  0.0000,  0.0000,  0.0000,  0.0000,  0.0000,  0.0000,  0.0000],\n",
       "         [ 0.0000,  0.0000,  0.0000, -0.4339,  0.0000,  0.0000,  0.0000,  0.0000,\n",
       "           0.0000,  0.0000,  0.0000,  0.0000,  0.0000,  0.0000,  0.0000,  0.0000,\n",
       "           0.0000,  0.0000,  0.0000,  0.0000,  0.0000,  0.0000,  0.0000,  0.0000],\n",
       "         [ 0.0000,  0.0000,  0.0000,  0.0000,  0.8487,  0.0000,  0.0000,  0.0000,\n",
       "           0.0000,  0.0000,  0.0000,  0.0000,  0.0000,  0.0000,  0.0000,  0.0000,\n",
       "           0.0000,  0.0000,  0.0000,  0.0000,  0.0000,  0.0000,  0.0000,  0.0000],\n",
       "         [ 0.0000,  0.0000,  0.0000,  0.0000,  0.0000,  0.6920,  0.0000,  0.0000,\n",
       "           0.0000,  0.0000,  0.0000,  0.0000,  0.0000,  0.0000,  0.0000,  0.0000,\n",
       "           0.0000,  0.0000,  0.0000,  0.0000,  0.0000,  0.0000,  0.0000,  0.0000],\n",
       "         [ 0.0000,  0.0000,  0.0000,  0.0000,  0.0000,  0.0000, -0.3160,  0.0000,\n",
       "           0.0000,  0.0000,  0.0000,  0.0000,  0.0000,  0.0000,  0.0000,  0.0000,\n",
       "           0.0000,  0.0000,  0.0000,  0.0000,  0.0000,  0.0000,  0.0000,  0.0000],\n",
       "         [ 0.0000,  0.0000,  0.0000,  0.0000,  0.0000,  0.0000,  0.0000, -2.1152,\n",
       "           0.0000,  0.0000,  0.0000,  0.0000,  0.0000,  0.0000,  0.0000,  0.0000,\n",
       "           0.0000,  0.0000,  0.0000,  0.0000,  0.0000,  0.0000,  0.0000,  0.0000],\n",
       "         [ 0.0000,  0.0000,  0.0000,  0.0000,  0.0000,  0.0000,  0.0000,  0.0000,\n",
       "           0.4681,  0.0000,  0.0000,  0.0000,  0.0000,  0.0000,  0.0000,  0.0000,\n",
       "           0.0000,  0.0000,  0.0000,  0.0000,  0.0000,  0.0000,  0.0000,  0.0000],\n",
       "         [ 0.0000,  0.0000,  0.0000,  0.0000,  0.0000,  0.0000,  0.0000,  0.0000,\n",
       "           0.0000, -0.1577,  0.0000,  0.0000,  0.0000,  0.0000,  0.0000,  0.0000,\n",
       "           0.0000,  0.0000,  0.0000,  0.0000,  0.0000,  0.0000,  0.0000,  0.0000],\n",
       "         [ 0.0000,  0.0000,  0.0000,  0.0000,  0.0000,  0.0000,  0.0000,  0.0000,\n",
       "           0.0000,  0.0000,  1.4437,  0.0000,  0.0000,  0.0000,  0.0000,  0.0000,\n",
       "           0.0000,  0.0000,  0.0000,  0.0000,  0.0000,  0.0000,  0.0000,  0.0000],\n",
       "         [ 0.0000,  0.0000,  0.0000,  0.0000,  0.0000,  0.0000,  0.0000,  0.0000,\n",
       "           0.0000,  0.0000,  0.0000,  0.2660,  0.0000,  0.0000,  0.0000,  0.0000,\n",
       "           0.0000,  0.0000,  0.0000,  0.0000,  0.0000,  0.0000,  0.0000,  0.0000],\n",
       "         [ 0.0000,  0.0000,  0.0000,  0.0000,  0.0000,  0.0000,  0.0000,  0.0000,\n",
       "           0.0000,  0.0000,  0.0000,  0.0000,  0.1665,  0.0000,  0.0000,  0.0000,\n",
       "           0.0000,  0.0000,  0.0000,  0.0000,  0.0000,  0.0000,  0.0000,  0.0000],\n",
       "         [ 0.0000,  0.0000,  0.0000,  0.0000,  0.0000,  0.0000,  0.0000,  0.0000,\n",
       "           0.0000,  0.0000,  0.0000,  0.0000,  0.0000,  0.8744,  0.0000,  0.0000,\n",
       "           0.0000,  0.0000,  0.0000,  0.0000,  0.0000,  0.0000,  0.0000,  0.0000],\n",
       "         [ 0.0000,  0.0000,  0.0000,  0.0000,  0.0000,  0.0000,  0.0000,  0.0000,\n",
       "           0.0000,  0.0000,  0.0000,  0.0000,  0.0000,  0.0000, -0.1435,  0.0000,\n",
       "           0.0000,  0.0000,  0.0000,  0.0000,  0.0000,  0.0000,  0.0000,  0.0000],\n",
       "         [ 0.0000,  0.0000,  0.0000,  0.0000,  0.0000,  0.0000,  0.0000,  0.0000,\n",
       "           0.0000,  0.0000,  0.0000,  0.0000,  0.0000,  0.0000,  0.0000, -0.1116,\n",
       "           0.0000,  0.0000,  0.0000,  0.0000,  0.0000,  0.0000,  0.0000,  0.0000],\n",
       "         [ 0.0000,  0.0000,  0.0000,  0.0000,  0.0000,  0.0000,  0.0000,  0.0000,\n",
       "           0.0000,  0.0000,  0.0000,  0.0000,  0.0000,  0.0000,  0.0000,  0.0000,\n",
       "           0.9318,  0.0000,  0.0000,  0.0000,  0.0000,  0.0000,  0.0000,  0.0000],\n",
       "         [ 0.0000,  0.0000,  0.0000,  0.0000,  0.0000,  0.0000,  0.0000,  0.0000,\n",
       "           0.0000,  0.0000,  0.0000,  0.0000,  0.0000,  0.0000,  0.0000,  0.0000,\n",
       "           0.0000,  1.2590,  0.0000,  0.0000,  0.0000,  0.0000,  0.0000,  0.0000],\n",
       "         [ 0.0000,  0.0000,  0.0000,  0.0000,  0.0000,  0.0000,  0.0000,  0.0000,\n",
       "           0.0000,  0.0000,  0.0000,  0.0000,  0.0000,  0.0000,  0.0000,  0.0000,\n",
       "           0.0000,  0.0000,  2.0050,  0.0000,  0.0000,  0.0000,  0.0000,  0.0000],\n",
       "         [ 0.0000,  0.0000,  0.0000,  0.0000,  0.0000,  0.0000,  0.0000,  0.0000,\n",
       "           0.0000,  0.0000,  0.0000,  0.0000,  0.0000,  0.0000,  0.0000,  0.0000,\n",
       "           0.0000,  0.0000,  0.0000,  0.0537,  0.0000,  0.0000,  0.0000,  0.0000],\n",
       "         [ 0.0000,  0.0000,  0.0000,  0.0000,  0.0000,  0.0000,  0.0000,  0.0000,\n",
       "           0.0000,  0.0000,  0.0000,  0.0000,  0.0000,  0.0000,  0.0000,  0.0000,\n",
       "           0.0000,  0.0000,  0.0000,  0.0000,  0.6181,  0.0000,  0.0000,  0.0000],\n",
       "         [ 0.0000,  0.0000,  0.0000,  0.0000,  0.0000,  0.0000,  0.0000,  0.0000,\n",
       "           0.0000,  0.0000,  0.0000,  0.0000,  0.0000,  0.0000,  0.0000,  0.0000,\n",
       "           0.0000,  0.0000,  0.0000,  0.0000,  0.0000, -0.4128,  0.0000,  0.0000],\n",
       "         [ 0.0000,  0.0000,  0.0000,  0.0000,  0.0000,  0.0000,  0.0000,  0.0000,\n",
       "           0.0000,  0.0000,  0.0000,  0.0000,  0.0000,  0.0000,  0.0000,  0.0000,\n",
       "           0.0000,  0.0000,  0.0000,  0.0000,  0.0000,  0.0000, -0.8411,  0.0000],\n",
       "         [ 0.0000,  0.0000,  0.0000,  0.0000,  0.0000,  0.0000,  0.0000,  0.0000,\n",
       "           0.0000,  0.0000,  0.0000,  0.0000,  0.0000,  0.0000,  0.0000,  0.0000,\n",
       "           0.0000,  0.0000,  0.0000,  0.0000,  0.0000,  0.0000,  0.0000, -2.3160]]),\n",
       " torch.Size([24, 24]))"
      ]
     },
     "execution_count": 1311,
     "metadata": {},
     "output_type": "execute_result"
    }
   ],
   "source": [
    "torch.manual_seed(0)\n",
    "x = torch.randn(2, 3, 4)\n",
    "y = torch.diagflat(x,)\n",
    "x, y, y.size()"
   ]
  },
  {
   "cell_type": "code",
   "execution_count": 1313,
   "id": "eb1b9bb4",
   "metadata": {},
   "outputs": [
    {
     "data": {
      "text/plain": [
       "(tensor([[ 1.5410, -0.2934, -2.1788,  0.5684],\n",
       "         [-1.0845, -1.3986,  0.4033,  0.8380],\n",
       "         [-0.7193, -0.4033, -0.5966,  0.1820]]),\n",
       " tensor([ 1.5410, -1.3986, -0.5966]))"
      ]
     },
     "execution_count": 1313,
     "metadata": {},
     "output_type": "execute_result"
    }
   ],
   "source": [
    "torch.manual_seed(0)\n",
    "x = torch.randn(3, 4)\n",
    "y = torch.diagonal(x)\n",
    "x, y"
   ]
  },
  {
   "cell_type": "code",
   "execution_count": 1315,
   "id": "eb1b9bb4",
   "metadata": {},
   "outputs": [
    {
     "data": {
      "text/plain": [
       "(tensor([[ 1.5410, -0.2934, -2.1788,  0.5684],\n",
       "         [-1.0845, -1.3986,  0.4033,  0.8380],\n",
       "         [-0.7193, -0.4033, -0.5966,  0.1820]]),\n",
       " tensor([-2.1788,  0.8380]))"
      ]
     },
     "execution_count": 1315,
     "metadata": {},
     "output_type": "execute_result"
    }
   ],
   "source": [
    "torch.manual_seed(0)\n",
    "x = torch.randn(3, 4)\n",
    "y = torch.diagonal(x, 2)\n",
    "x, y"
   ]
  },
  {
   "cell_type": "code",
   "execution_count": 1316,
   "id": "eb1b9bb4",
   "metadata": {},
   "outputs": [
    {
     "data": {
      "text/plain": [
       "(tensor([[ 1.5410, -0.2934, -2.1788,  0.5684],\n",
       "         [-1.0845, -1.3986,  0.4033,  0.8380],\n",
       "         [-0.7193, -0.4033, -0.5966,  0.1820]]),\n",
       " tensor([0.5684]))"
      ]
     },
     "execution_count": 1316,
     "metadata": {},
     "output_type": "execute_result"
    }
   ],
   "source": [
    "torch.manual_seed(0)\n",
    "x = torch.randn(3, 4)\n",
    "y = torch.diagonal(x, 3)\n",
    "x, y"
   ]
  },
  {
   "cell_type": "code",
   "execution_count": 1317,
   "id": "eb1b9bb4",
   "metadata": {},
   "outputs": [
    {
     "data": {
      "text/plain": [
       "(tensor([[ 1.5410, -0.2934, -2.1788,  0.5684],\n",
       "         [-1.0845, -1.3986,  0.4033,  0.8380],\n",
       "         [-0.7193, -0.4033, -0.5966,  0.1820]]),\n",
       " tensor([]))"
      ]
     },
     "execution_count": 1317,
     "metadata": {},
     "output_type": "execute_result"
    }
   ],
   "source": [
    "torch.manual_seed(0)\n",
    "x = torch.randn(3, 4)\n",
    "y = torch.diagonal(x, 4)\n",
    "x, y"
   ]
  },
  {
   "cell_type": "code",
   "execution_count": 1319,
   "id": "eb1b9bb4",
   "metadata": {},
   "outputs": [
    {
     "data": {
      "text/plain": [
       "(tensor([[ 1.5410, -0.2934, -2.1788,  0.5684],\n",
       "         [-1.0845, -1.3986,  0.4033,  0.8380],\n",
       "         [-0.7193, -0.4033, -0.5966,  0.1820]]),\n",
       " tensor([-1.0845, -0.4033]))"
      ]
     },
     "execution_count": 1319,
     "metadata": {},
     "output_type": "execute_result"
    }
   ],
   "source": [
    "torch.manual_seed(0)\n",
    "x = torch.randn(3, 4)\n",
    "y = torch.diagonal(x, -1) # dim1: _int = 0, dim2: _int = 1\n",
    "x, y"
   ]
  },
  {
   "cell_type": "code",
   "execution_count": 1323,
   "id": "786afa91",
   "metadata": {},
   "outputs": [
    {
     "data": {
      "text/plain": [
       "(tensor([[[-1.1258, -1.1524, -0.2506, -0.4339],\n",
       "          [ 0.8487,  0.6920, -0.3160, -2.1152],\n",
       "          [ 0.4681, -0.1577,  1.4437,  0.2660]],\n",
       " \n",
       "         [[ 0.1665,  0.8744, -0.1435, -0.1116],\n",
       "          [ 0.9318,  1.2590,  2.0050,  0.0537],\n",
       "          [ 0.6181, -0.4128, -0.8411, -2.3160]]]),\n",
       " tensor([[-1.1258,  0.9318],\n",
       "         [-1.1524,  1.2590],\n",
       "         [-0.2506,  2.0050],\n",
       "         [-0.4339,  0.0537]]),\n",
       " torch.Size([4, 2]))"
      ]
     },
     "execution_count": 1323,
     "metadata": {},
     "output_type": "execute_result"
    }
   ],
   "source": [
    "torch.manual_seed(0)\n",
    "x = torch.randn(2, 3, 4)\n",
    "y = torch.diagonal(x, 0) # dim1: _int = 0, dim2: _int = 1\n",
    "x, y, y.size()"
   ]
  },
  {
   "cell_type": "code",
   "execution_count": 1325,
   "id": "786afa91",
   "metadata": {},
   "outputs": [
    {
     "data": {
      "text/plain": [
       "(tensor([[[-1.1258, -1.1524, -0.2506, -0.4339],\n",
       "          [ 0.8487,  0.6920, -0.3160, -2.1152],\n",
       "          [ 0.4681, -0.1577,  1.4437,  0.2660]],\n",
       " \n",
       "         [[ 0.1665,  0.8744, -0.1435, -0.1116],\n",
       "          [ 0.9318,  1.2590,  2.0050,  0.0537],\n",
       "          [ 0.6181, -0.4128, -0.8411, -2.3160]]]),\n",
       " tensor([[-1.1258,  0.6920,  1.4437],\n",
       "         [ 0.1665,  1.2590, -0.8411]]),\n",
       " torch.Size([2, 3]))"
      ]
     },
     "execution_count": 1325,
     "metadata": {},
     "output_type": "execute_result"
    }
   ],
   "source": [
    "torch.manual_seed(0)\n",
    "x = torch.randn(2, 3, 4)\n",
    "y = torch.diagonal(x, 0, dim1=1, dim2=2)\n",
    "x, y, y.size()"
   ]
  },
  {
   "cell_type": "code",
   "execution_count": 1326,
   "id": "317c16d8",
   "metadata": {},
   "outputs": [
    {
     "data": {
      "text/plain": [
       "(tensor([[[-1.1258, -1.1524, -0.2506, -0.4339],\n",
       "          [ 0.8487,  0.6920, -0.3160, -2.1152],\n",
       "          [ 0.4681, -0.1577,  1.4437,  0.2660]],\n",
       " \n",
       "         [[ 0.1665,  0.8744, -0.1435, -0.1116],\n",
       "          [ 0.9318,  1.2590,  2.0050,  0.0537],\n",
       "          [ 0.6181, -0.4128, -0.8411, -2.3160]]]),\n",
       " tensor([[-0.2506, -2.1152],\n",
       "         [-0.1435,  0.0537]]),\n",
       " torch.Size([2, 2]))"
      ]
     },
     "execution_count": 1326,
     "metadata": {},
     "output_type": "execute_result"
    }
   ],
   "source": [
    "torch.manual_seed(0)\n",
    "x = torch.randn(2, 3, 4)\n",
    "y = torch.diagonal(x, 2, dim1=1, dim2=2)\n",
    "x, y, y.size()"
   ]
  },
  {
   "cell_type": "code",
   "execution_count": 1328,
   "id": "93e2c731",
   "metadata": {},
   "outputs": [
    {
     "data": {
      "text/plain": [
       "(tensor([[[[  1,   2,   3,   4,   5],\n",
       "           [  6,   7,   8,   9,  10],\n",
       "           [ 11,  12,  13,  14,  15],\n",
       "           [ 16,  17,  18,  19,  20]],\n",
       " \n",
       "          [[ 21,  22,  23,  24,  25],\n",
       "           [ 26,  27,  28,  29,  30],\n",
       "           [ 31,  32,  33,  34,  35],\n",
       "           [ 36,  37,  38,  39,  40]],\n",
       " \n",
       "          [[ 41,  42,  43,  44,  45],\n",
       "           [ 46,  47,  48,  49,  50],\n",
       "           [ 51,  52,  53,  54,  55],\n",
       "           [ 56,  57,  58,  59,  60]]],\n",
       " \n",
       " \n",
       "         [[[ 61,  62,  63,  64,  65],\n",
       "           [ 66,  67,  68,  69,  70],\n",
       "           [ 71,  72,  73,  74,  75],\n",
       "           [ 76,  77,  78,  79,  80]],\n",
       " \n",
       "          [[ 81,  82,  83,  84,  85],\n",
       "           [ 86,  87,  88,  89,  90],\n",
       "           [ 91,  92,  93,  94,  95],\n",
       "           [ 96,  97,  98,  99, 100]],\n",
       " \n",
       "          [[101, 102, 103, 104, 105],\n",
       "           [106, 107, 108, 109, 110],\n",
       "           [111, 112, 113, 114, 115],\n",
       "           [116, 117, 118, 119, 120]]]]),\n",
       " tensor([[[  1,  26,  51],\n",
       "          [  2,  27,  52],\n",
       "          [  3,  28,  53],\n",
       "          [  4,  29,  54],\n",
       "          [  5,  30,  55]],\n",
       " \n",
       "         [[ 61,  86, 111],\n",
       "          [ 62,  87, 112],\n",
       "          [ 63,  88, 113],\n",
       "          [ 64,  89, 114],\n",
       "          [ 65,  90, 115]]]),\n",
       " torch.Size([2, 5, 3]))"
      ]
     },
     "execution_count": 1328,
     "metadata": {},
     "output_type": "execute_result"
    }
   ],
   "source": [
    "torch.manual_seed(0)\n",
    "x = torch.arange(1 , 2*  3*  4*  5 + 1).view(2, 3, 4, 5)\n",
    "y = torch.diagonal(x, dim1=1, dim2=2)\n",
    "x, y, y.size()"
   ]
  },
  {
   "cell_type": "code",
   "execution_count": 731,
   "id": "14bea8fb",
   "metadata": {},
   "outputs": [
    {
     "data": {
      "text/plain": [
       "(tensor([1, 3, 2]), tensor([ 2, -1]))"
      ]
     },
     "execution_count": 731,
     "metadata": {},
     "output_type": "execute_result"
    }
   ],
   "source": [
    "x = torch.tensor([1, 3, 2])\n",
    "y = torch.diff(x) # recursive diff y[i] = x[i+1] - x[i], n = 1\n",
    "x, y"
   ]
  },
  {
   "cell_type": "code",
   "execution_count": 732,
   "id": "14bea8fb",
   "metadata": {},
   "outputs": [
    {
     "data": {
      "text/plain": [
       "(tensor([1, 3, 2]), tensor([-3]))"
      ]
     },
     "execution_count": 732,
     "metadata": {},
     "output_type": "execute_result"
    }
   ],
   "source": [
    "x = torch.tensor([1, 3, 2])\n",
    "y = torch.diff(x, 2) # tensor([ 2, -1]) -> tensor([-3])\n",
    "x, y"
   ]
  },
  {
   "cell_type": "code",
   "execution_count": 733,
   "id": "01a7d7cd",
   "metadata": {},
   "outputs": [
    {
     "data": {
      "text/plain": [
       "(tensor([1, 3, 2]), tensor([], dtype=torch.int64))"
      ]
     },
     "execution_count": 733,
     "metadata": {},
     "output_type": "execute_result"
    }
   ],
   "source": [
    "x = torch.tensor([1, 3, 2])\n",
    "y = torch.diff(x, 3)\n",
    "x, y"
   ]
  },
  {
   "cell_type": "code",
   "execution_count": 734,
   "id": "f9a14789",
   "metadata": {},
   "outputs": [
    {
     "data": {
      "text/plain": [
       "(tensor([1, 3, 2]), tensor([], dtype=torch.int64))"
      ]
     },
     "execution_count": 734,
     "metadata": {},
     "output_type": "execute_result"
    }
   ],
   "source": [
    "x = torch.tensor([1, 3, 2])\n",
    "y = torch.diff(x, 4)\n",
    "x, y"
   ]
  },
  {
   "cell_type": "code",
   "execution_count": 735,
   "id": "2ed1c412",
   "metadata": {},
   "outputs": [
    {
     "data": {
      "text/plain": [
       "(tensor([1, 3, 2]), tensor([ 2, -1,  2,  1]))"
      ]
     },
     "execution_count": 735,
     "metadata": {},
     "output_type": "execute_result"
    }
   ],
   "source": [
    "x = torch.tensor([1, 3, 2])\n",
    "y = torch.diff(x, append=torch.tensor([4, 5]))\n",
    "x, y"
   ]
  },
  {
   "cell_type": "code",
   "execution_count": 736,
   "id": "62060c5b",
   "metadata": {},
   "outputs": [
    {
     "data": {
      "text/plain": [
       "(tensor([1, 3, 2]), tensor([ 1, -4,  2, -1]))"
      ]
     },
     "execution_count": 736,
     "metadata": {},
     "output_type": "execute_result"
    }
   ],
   "source": [
    "x = torch.tensor([1, 3, 2])\n",
    "y = torch.diff(x, prepend=torch.tensor([4, 5]))\n",
    "x, y"
   ]
  },
  {
   "cell_type": "code",
   "execution_count": 737,
   "id": "7ad1056b",
   "metadata": {},
   "outputs": [
    {
     "data": {
      "text/plain": [
       "(tensor([1, 2]), tensor(5))"
      ]
     },
     "execution_count": 737,
     "metadata": {},
     "output_type": "execute_result"
    }
   ],
   "source": [
    "x = torch.arange(1, 3)\n",
    "y = torch.einsum('i,i -> ', x, x)\n",
    "x, y"
   ]
  },
  {
   "cell_type": "code",
   "execution_count": 738,
   "id": "8b9774b2",
   "metadata": {},
   "outputs": [
    {
     "data": {
      "text/plain": [
       "(tensor([1, 2]), tensor(5))"
      ]
     },
     "execution_count": 738,
     "metadata": {},
     "output_type": "execute_result"
    }
   ],
   "source": [
    "x = torch.arange(1, 3)\n",
    "y = torch.einsum('i,i', x, x)\n",
    "x, y"
   ]
  },
  {
   "cell_type": "code",
   "execution_count": 739,
   "id": "d9302374",
   "metadata": {},
   "outputs": [
    {
     "data": {
      "text/plain": [
       "(tensor([2, 3, 4, 5]), tensor([  8,  27,  64, 125]))"
      ]
     },
     "execution_count": 739,
     "metadata": {},
     "output_type": "execute_result"
    }
   ],
   "source": [
    "x = torch.arange(2, 6)\n",
    "y = torch.einsum('i, i, i -> i', x, x, x)\n",
    "x, y"
   ]
  },
  {
   "cell_type": "code",
   "execution_count": 740,
   "id": "d9302374",
   "metadata": {},
   "outputs": [
    {
     "data": {
      "text/plain": [
       "(tensor([[ 0,  1,  2,  3],\n",
       "         [ 4,  5,  6,  7],\n",
       "         [ 8,  9, 10, 11],\n",
       "         [12, 13, 14, 15]]),\n",
       " tensor(30))"
      ]
     },
     "execution_count": 740,
     "metadata": {},
     "output_type": "execute_result"
    }
   ],
   "source": [
    "x = torch.arange(16).view(4, 4)\n",
    "y = torch.einsum('ii', x) # trace\n",
    "x, y"
   ]
  },
  {
   "cell_type": "code",
   "execution_count": 741,
   "id": "a36d5270",
   "metadata": {},
   "outputs": [
    {
     "data": {
      "text/plain": [
       "(tensor([[ 0,  1,  2,  3],\n",
       "         [ 4,  5,  6,  7],\n",
       "         [ 8,  9, 10, 11],\n",
       "         [12, 13, 14, 15]]),\n",
       " tensor(120),\n",
       " tensor(120))"
      ]
     },
     "execution_count": 741,
     "metadata": {},
     "output_type": "execute_result"
    }
   ],
   "source": [
    "x = torch.arange(16).view(4, 4)\n",
    "y = torch.einsum('ij->', x) # sum total\n",
    "x, y, torch.sum(x)"
   ]
  },
  {
   "cell_type": "code",
   "execution_count": 742,
   "id": "6b923052",
   "metadata": {},
   "outputs": [
    {
     "data": {
      "text/plain": [
       "(tensor([[ 0,  1,  2,  3],\n",
       "         [ 4,  5,  6,  7],\n",
       "         [ 8,  9, 10, 11],\n",
       "         [12, 13, 14, 15]]),\n",
       " tensor([[ 0,  4,  8, 12],\n",
       "         [ 1,  5,  9, 13],\n",
       "         [ 2,  6, 10, 14],\n",
       "         [ 3,  7, 11, 15]]))"
      ]
     },
     "execution_count": 742,
     "metadata": {},
     "output_type": "execute_result"
    }
   ],
   "source": [
    "x = torch.arange(16).view(4, 4)\n",
    "y = torch.einsum('ij->ji', x) # transpose\n",
    "x, y"
   ]
  },
  {
   "cell_type": "code",
   "execution_count": 743,
   "id": "764a8661",
   "metadata": {},
   "outputs": [
    {
     "data": {
      "text/plain": [
       "(tensor([ 2.6292, -0.2322,  0.9447,  0.1879]),\n",
       " tensor([1.6382, 0.6472, 1.0213, 0.0089, 0.0210]),\n",
       " tensor([[ 4.3071e+00,  1.7015e+00,  2.6852e+00,  2.3356e-02,  5.5265e-02],\n",
       "         [-3.8041e-01, -1.5028e-01, -2.3716e-01, -2.0629e-03, -4.8811e-03],\n",
       "         [ 1.5475e+00,  6.1135e-01,  9.6479e-01,  8.3919e-03,  1.9857e-02],\n",
       "         [ 3.0790e-01,  1.2163e-01,  1.9195e-01,  1.6697e-03,  3.9507e-03]]),\n",
       " tensor([[ 2.6292,  2.6292,  2.6292,  2.6292,  2.6292],\n",
       "         [-0.2322, -0.2322, -0.2322, -0.2322, -0.2322],\n",
       "         [ 0.9447,  0.9447,  0.9447,  0.9447,  0.9447],\n",
       "         [ 0.1879,  0.1879,  0.1879,  0.1879,  0.1879]]))"
      ]
     },
     "execution_count": 743,
     "metadata": {},
     "output_type": "execute_result"
    }
   ],
   "source": [
    "x = torch.randn(4)\n",
    "y = torch.randn(5)\n",
    "z = torch.einsum('i,j->ij', x, y)\n",
    "x, y, z, z / y"
   ]
  },
  {
   "cell_type": "code",
   "execution_count": 744,
   "id": "764a8661",
   "metadata": {},
   "outputs": [
    {
     "data": {
      "text/plain": [
       "(torch.Size([4, 5]), torch.Size([5, 10]), torch.Size([4, 10]))"
      ]
     },
     "execution_count": 744,
     "metadata": {},
     "output_type": "execute_result"
    }
   ],
   "source": [
    "x = torch.randn(4, 5)\n",
    "y = torch.randn(5, 10)\n",
    "z = torch.einsum('ij,jk->ik', x, y) # multiplication\n",
    "x.size(), y.size(), z.size()"
   ]
  },
  {
   "cell_type": "code",
   "execution_count": 745,
   "id": "764a8661",
   "metadata": {},
   "outputs": [
    {
     "data": {
      "text/plain": [
       "(torch.Size([4, 5]), torch.Size([5, 10]), torch.Size([10, 4]))"
      ]
     },
     "execution_count": 745,
     "metadata": {},
     "output_type": "execute_result"
    }
   ],
   "source": [
    "x = torch.randn(4, 5)\n",
    "y = torch.randn(5, 10)\n",
    "z = torch.einsum('ij,jk->ki', x, y) # multiplication transpose\n",
    "x.size(), y.size(), z.size()"
   ]
  },
  {
   "cell_type": "code",
   "execution_count": 746,
   "id": "764a8661",
   "metadata": {},
   "outputs": [
    {
     "data": {
      "text/plain": [
       "(torch.Size([10, 3, 4, 5]), torch.Size([10, 3, 5, 4]))"
      ]
     },
     "execution_count": 746,
     "metadata": {},
     "output_type": "execute_result"
    }
   ],
   "source": [
    "x = torch.randn(10, 3, 4, 5)\n",
    "y = torch.einsum('...ij->...ji', x) \n",
    "x.size(), y.size()"
   ]
  },
  {
   "cell_type": "code",
   "execution_count": 747,
   "id": "10678fef",
   "metadata": {},
   "outputs": [
    {
     "data": {
      "text/plain": [
       "(torch.Size([10, 3, 4, 5]), torch.Size([10, 3, 4]))"
      ]
     },
     "execution_count": 747,
     "metadata": {},
     "output_type": "execute_result"
    }
   ],
   "source": [
    "x = torch.randn(10, 3, 4, 5)\n",
    "y = torch.einsum('...ij->...i', x) \n",
    "x.size(), y.size()"
   ]
  },
  {
   "cell_type": "code",
   "execution_count": 748,
   "id": "4e22906e",
   "metadata": {},
   "outputs": [
    {
     "data": {
      "text/plain": [
       "(tensor([[[ 0,  1],\n",
       "          [ 2,  3],\n",
       "          [ 4,  5],\n",
       "          [ 6,  7]],\n",
       " \n",
       "         [[ 8,  9],\n",
       "          [10, 11],\n",
       "          [12, 13],\n",
       "          [14, 15]]]),\n",
       " tensor([[1, 1],\n",
       "         [1, 1]]),\n",
       " tensor([[ 1,  5,  9, 13],\n",
       "         [17, 21, 25, 29]]))"
      ]
     },
     "execution_count": 748,
     "metadata": {},
     "output_type": "execute_result"
    }
   ],
   "source": [
    "x = torch.arange(2*4*2).view(2, 4, 2)\n",
    "y = torch.ones((2, 2), dtype=x.dtype)\n",
    "z = torch.einsum('ijk,ik->ij', x, y) \n",
    "x, y, z"
   ]
  },
  {
   "cell_type": "code",
   "execution_count": 749,
   "id": "e3a34558",
   "metadata": {},
   "outputs": [
    {
     "data": {
      "text/plain": [
       "(tensor([-0.7635, -0.8541, -1.3047,  0.4984,  0.5870, -0.3949,  0.1368, -0.5560,\n",
       "         -0.5397,  0.6477]),\n",
       " tensor([-0.7635, -0.8541, -1.3047,  0.4984,  0.5870, -0.3949,  0.1368, -0.5560,\n",
       "         -0.5397,  0.6477]))"
      ]
     },
     "execution_count": 749,
     "metadata": {},
     "output_type": "execute_result"
    }
   ],
   "source": [
    "x = torch.randn(10)\n",
    "y = x.flatten()\n",
    "x, y"
   ]
  },
  {
   "cell_type": "code",
   "execution_count": 750,
   "id": "97616f21",
   "metadata": {},
   "outputs": [
    {
     "data": {
      "text/plain": [
       "(tensor([[-0.2045, -1.2383],\n",
       "         [-2.8990, -0.8041],\n",
       "         [ 0.1043,  0.0366],\n",
       "         [-0.5550,  1.1267],\n",
       "         [ 1.6890, -0.0728],\n",
       "         [-0.2765, -1.3065],\n",
       "         [ 0.9028,  1.6512],\n",
       "         [-1.2426, -0.0281],\n",
       "         [ 1.2602, -1.0350],\n",
       "         [-0.5411, -1.7712]]),\n",
       " tensor([-0.2045, -1.2383, -2.8990, -0.8041,  0.1043,  0.0366, -0.5550,  1.1267,\n",
       "          1.6890, -0.0728, -0.2765, -1.3065,  0.9028,  1.6512, -1.2426, -0.0281,\n",
       "          1.2602, -1.0350, -0.5411, -1.7712]),\n",
       " torch.Size([20]))"
      ]
     },
     "execution_count": 750,
     "metadata": {},
     "output_type": "execute_result"
    }
   ],
   "source": [
    "x = torch.randn(10, 2)\n",
    "y = x.flatten()\n",
    "x, y, y.shape"
   ]
  },
  {
   "cell_type": "code",
   "execution_count": 751,
   "id": "083a3be8",
   "metadata": {},
   "outputs": [
    {
     "data": {
      "text/plain": [
       "(torch.Size([2, 4, 6, 3]), torch.Size([2, 72]))"
      ]
     },
     "execution_count": 751,
     "metadata": {},
     "output_type": "execute_result"
    }
   ],
   "source": [
    "x = torch.randn(2, 4, 6, 3)\n",
    "y = torch.flatten(x, start_dim=1, end_dim=-1) \n",
    "x.shape, y.size()"
   ]
  },
  {
   "cell_type": "code",
   "execution_count": 752,
   "id": "c2667bcf",
   "metadata": {},
   "outputs": [
    {
     "data": {
      "text/plain": [
       "(torch.Size([2, 4, 6, 3]), torch.Size([2, 24, 3]))"
      ]
     },
     "execution_count": 752,
     "metadata": {},
     "output_type": "execute_result"
    }
   ],
   "source": [
    "x = torch.randn(2, 4, 6, 3)\n",
    "y = torch.flatten(x, start_dim=1, end_dim=2)\n",
    "x.shape, y.size()"
   ]
  },
  {
   "cell_type": "code",
   "execution_count": 753,
   "id": "8b998288",
   "metadata": {},
   "outputs": [
    {
     "data": {
      "text/plain": [
       "(tensor([[-1.6934, -1.3907, -1.6627, -1.9899, -3.8245],\n",
       "         [-1.4860, -0.2098,  0.3589, -1.2709,  0.2085]]),\n",
       " tensor([-1.6934, -1.3907, -1.6627, -1.9899, -3.8245, -1.4860, -0.2098,  0.3589,\n",
       "         -1.2709,  0.2085]))"
      ]
     },
     "execution_count": 753,
     "metadata": {},
     "output_type": "execute_result"
    }
   ],
   "source": [
    "x = torch.randn(2, 5)\n",
    "y = x.flatten()\n",
    "x[0] *= 2 \n",
    "x, y\n"
   ]
  },
  {
   "cell_type": "code",
   "execution_count": 1329,
   "id": "bb84d186",
   "metadata": {},
   "outputs": [
    {
     "data": {
      "text/plain": [
       "(tensor([[[0, 1],\n",
       "          [2, 3]],\n",
       " \n",
       "         [[4, 5],\n",
       "          [6, 7]]]),\n",
       " tensor([[[4, 5],\n",
       "          [6, 7]],\n",
       " \n",
       "         [[0, 1],\n",
       "          [2, 3]]]),\n",
       " torch.Size([2, 2, 2]))"
      ]
     },
     "execution_count": 1329,
     "metadata": {},
     "output_type": "execute_result"
    }
   ],
   "source": [
    "x = torch.arange(8).view(2, 2, 2)\n",
    "y = torch.flip(x, (0,))\n",
    "x, y, y.size()"
   ]
  },
  {
   "cell_type": "code",
   "execution_count": 1333,
   "id": "bb84d186",
   "metadata": {},
   "outputs": [
    {
     "data": {
      "text/plain": [
       "(tensor([[[0, 1],\n",
       "          [2, 3]],\n",
       " \n",
       "         [[4, 5],\n",
       "          [6, 7]]]),\n",
       " tensor([[[2, 3],\n",
       "          [0, 1]],\n",
       " \n",
       "         [[6, 7],\n",
       "          [4, 5]]]),\n",
       " torch.Size([2, 2, 2]))"
      ]
     },
     "execution_count": 1333,
     "metadata": {},
     "output_type": "execute_result"
    }
   ],
   "source": [
    "x = torch.arange(8).view(2, 2, 2)\n",
    "y = torch.flip(x, (1,))\n",
    "x, y, y.size()"
   ]
  },
  {
   "cell_type": "code",
   "execution_count": 1332,
   "id": "bb84d186",
   "metadata": {},
   "outputs": [
    {
     "data": {
      "text/plain": [
       "(tensor([[[0, 1],\n",
       "          [2, 3]],\n",
       " \n",
       "         [[4, 5],\n",
       "          [6, 7]]]),\n",
       " tensor([[[1, 0],\n",
       "          [3, 2]],\n",
       " \n",
       "         [[5, 4],\n",
       "          [7, 6]]]),\n",
       " torch.Size([2, 2, 2]))"
      ]
     },
     "execution_count": 1332,
     "metadata": {},
     "output_type": "execute_result"
    }
   ],
   "source": [
    "x = torch.arange(8).view(2, 2, 2)\n",
    "y = torch.flip(x, (2,))\n",
    "x, y, y.size()"
   ]
  },
  {
   "cell_type": "code",
   "execution_count": 757,
   "id": "bb84d186",
   "metadata": {},
   "outputs": [
    {
     "data": {
      "text/plain": [
       "(tensor([[[0, 1],\n",
       "          [2, 3]],\n",
       " \n",
       "         [[4, 5],\n",
       "          [6, 7]]]),\n",
       " tensor([[[6, 7],\n",
       "          [4, 5]],\n",
       " \n",
       "         [[2, 3],\n",
       "          [0, 1]]]))"
      ]
     },
     "execution_count": 757,
     "metadata": {},
     "output_type": "execute_result"
    }
   ],
   "source": [
    "x = torch.arange(8).view(2, 2, 2)\n",
    "y = torch.flip(x, (0, 1))\n",
    "x, y"
   ]
  },
  {
   "cell_type": "code",
   "execution_count": 758,
   "id": "bb84d186",
   "metadata": {},
   "outputs": [
    {
     "data": {
      "text/plain": [
       "(tensor([[[0, 1],\n",
       "          [2, 3]],\n",
       " \n",
       "         [[4, 5],\n",
       "          [6, 7]]]),\n",
       " tensor([[[7, 6],\n",
       "          [5, 4]],\n",
       " \n",
       "         [[3, 2],\n",
       "          [1, 0]]]))"
      ]
     },
     "execution_count": 758,
     "metadata": {},
     "output_type": "execute_result"
    }
   ],
   "source": [
    "x = torch.arange(8).view(2, 2, 2)\n",
    "y = torch.flip(x, (0, 1, -1))\n",
    "x, y"
   ]
  },
  {
   "cell_type": "code",
   "execution_count": 1335,
   "id": "eb0896b2",
   "metadata": {},
   "outputs": [
    {
     "data": {
      "text/plain": [
       "(tensor([[[ 0,  1,  2,  3,  4],\n",
       "          [ 5,  6,  7,  8,  9],\n",
       "          [10, 11, 12, 13, 14],\n",
       "          [15, 16, 17, 18, 19]],\n",
       " \n",
       "         [[20, 21, 22, 23, 24],\n",
       "          [25, 26, 27, 28, 29],\n",
       "          [30, 31, 32, 33, 34],\n",
       "          [35, 36, 37, 38, 39]],\n",
       " \n",
       "         [[40, 41, 42, 43, 44],\n",
       "          [45, 46, 47, 48, 49],\n",
       "          [50, 51, 52, 53, 54],\n",
       "          [55, 56, 57, 58, 59]]]),\n",
       " tensor([[[59, 58, 57, 56, 55],\n",
       "          [54, 53, 52, 51, 50],\n",
       "          [49, 48, 47, 46, 45],\n",
       "          [44, 43, 42, 41, 40]],\n",
       " \n",
       "         [[39, 38, 37, 36, 35],\n",
       "          [34, 33, 32, 31, 30],\n",
       "          [29, 28, 27, 26, 25],\n",
       "          [24, 23, 22, 21, 20]],\n",
       " \n",
       "         [[19, 18, 17, 16, 15],\n",
       "          [14, 13, 12, 11, 10],\n",
       "          [ 9,  8,  7,  6,  5],\n",
       "          [ 4,  3,  2,  1,  0]]]))"
      ]
     },
     "execution_count": 1335,
     "metadata": {},
     "output_type": "execute_result"
    }
   ],
   "source": [
    "x = torch.arange(3*4*5).view(3, 4, 5)\n",
    "y = torch.flip(x, (0, 1, -1))\n",
    "x, y"
   ]
  },
  {
   "cell_type": "code",
   "execution_count": 1334,
   "id": "1f608949",
   "metadata": {},
   "outputs": [
    {
     "data": {
      "text/plain": [
       "(tensor([[[10, 11],\n",
       "          [12, 13]],\n",
       " \n",
       "         [[14, 15],\n",
       "          [16, 17]]]),\n",
       " tensor([[[7, 6],\n",
       "          [5, 4]],\n",
       " \n",
       "         [[3, 2],\n",
       "          [1, 0]]]))"
      ]
     },
     "execution_count": 1334,
     "metadata": {},
     "output_type": "execute_result"
    }
   ],
   "source": [
    "x = torch.arange(8).view(2, 2, 2)\n",
    "y = torch.flip(x, (0, 1, -1))  # not a view but a copy\n",
    "x += 10  \n",
    "x, y"
   ]
  },
  {
   "cell_type": "code",
   "execution_count": 760,
   "id": "87c47472",
   "metadata": {},
   "outputs": [
    {
     "data": {
      "text/plain": [
       "(tensor([[0, 1],\n",
       "         [2, 3]]),\n",
       " tensor([[1, 0],\n",
       "         [3, 2]]))"
      ]
     },
     "execution_count": 760,
     "metadata": {},
     "output_type": "execute_result"
    }
   ],
   "source": [
    "x = torch.arange(4).view(2, 2)\n",
    "y = torch.fliplr(x,)\n",
    "x, y"
   ]
  },
  {
   "cell_type": "code",
   "execution_count": 761,
   "id": "53ca418c",
   "metadata": {},
   "outputs": [
    {
     "data": {
      "text/plain": [
       "(tensor([[[0, 1],\n",
       "          [2, 3]],\n",
       " \n",
       "         [[4, 5],\n",
       "          [6, 7]]]),\n",
       " tensor([[[2, 3],\n",
       "          [0, 1]],\n",
       " \n",
       "         [[6, 7],\n",
       "          [4, 5]]]))"
      ]
     },
     "execution_count": 761,
     "metadata": {},
     "output_type": "execute_result"
    }
   ],
   "source": [
    "x = torch.arange(8).view(2, 2, 2)\n",
    "y = torch.fliplr(x, ) # flip(axis=1)\n",
    "x, y"
   ]
  },
  {
   "cell_type": "code",
   "execution_count": 1336,
   "id": "89e757c2",
   "metadata": {},
   "outputs": [
    {
     "data": {
      "text/plain": [
       "(tensor([[[ 0,  1,  2,  3,  4],\n",
       "          [ 5,  6,  7,  8,  9],\n",
       "          [10, 11, 12, 13, 14],\n",
       "          [15, 16, 17, 18, 19]],\n",
       " \n",
       "         [[20, 21, 22, 23, 24],\n",
       "          [25, 26, 27, 28, 29],\n",
       "          [30, 31, 32, 33, 34],\n",
       "          [35, 36, 37, 38, 39]],\n",
       " \n",
       "         [[40, 41, 42, 43, 44],\n",
       "          [45, 46, 47, 48, 49],\n",
       "          [50, 51, 52, 53, 54],\n",
       "          [55, 56, 57, 58, 59]]]),\n",
       " tensor([[[15, 16, 17, 18, 19],\n",
       "          [10, 11, 12, 13, 14],\n",
       "          [ 5,  6,  7,  8,  9],\n",
       "          [ 0,  1,  2,  3,  4]],\n",
       " \n",
       "         [[35, 36, 37, 38, 39],\n",
       "          [30, 31, 32, 33, 34],\n",
       "          [25, 26, 27, 28, 29],\n",
       "          [20, 21, 22, 23, 24]],\n",
       " \n",
       "         [[55, 56, 57, 58, 59],\n",
       "          [50, 51, 52, 53, 54],\n",
       "          [45, 46, 47, 48, 49],\n",
       "          [40, 41, 42, 43, 44]]]))"
      ]
     },
     "execution_count": 1336,
     "metadata": {},
     "output_type": "execute_result"
    }
   ],
   "source": [
    "x = torch.arange(3*4*5).view(3, 4, 5)\n",
    "y = torch.fliplr(x, ) # flip(axis=1)\n",
    "x, y"
   ]
  },
  {
   "cell_type": "code",
   "execution_count": 762,
   "id": "0c82e6c4",
   "metadata": {},
   "outputs": [
    {
     "data": {
      "text/plain": [
       "(tensor([[0, 1],\n",
       "         [2, 3]]),\n",
       " tensor([[2, 3],\n",
       "         [0, 1]]))"
      ]
     },
     "execution_count": 762,
     "metadata": {},
     "output_type": "execute_result"
    }
   ],
   "source": [
    "x = torch.arange(4).view(2, 2)\n",
    "y = torch.flipud(x,) # flip(axis=0)\n",
    "x, y"
   ]
  },
  {
   "cell_type": "code",
   "execution_count": 763,
   "id": "f7cdeb8a",
   "metadata": {},
   "outputs": [
    {
     "data": {
      "text/plain": [
       "(tensor([[[0, 1],\n",
       "          [2, 3]],\n",
       " \n",
       "         [[4, 5],\n",
       "          [6, 7]]]),\n",
       " tensor([[[4, 5],\n",
       "          [6, 7]],\n",
       " \n",
       "         [[0, 1],\n",
       "          [2, 3]]]))"
      ]
     },
     "execution_count": 763,
     "metadata": {},
     "output_type": "execute_result"
    }
   ],
   "source": [
    "x = torch.arange(8).view(2, 2, 2)\n",
    "y = torch.flipud(x, )\n",
    "x, y"
   ]
  },
  {
   "cell_type": "code",
   "execution_count": 1337,
   "id": "47d7d2f0",
   "metadata": {},
   "outputs": [
    {
     "data": {
      "text/plain": [
       "(tensor([[[ 0,  1,  2,  3,  4],\n",
       "          [ 5,  6,  7,  8,  9],\n",
       "          [10, 11, 12, 13, 14],\n",
       "          [15, 16, 17, 18, 19]],\n",
       " \n",
       "         [[20, 21, 22, 23, 24],\n",
       "          [25, 26, 27, 28, 29],\n",
       "          [30, 31, 32, 33, 34],\n",
       "          [35, 36, 37, 38, 39]],\n",
       " \n",
       "         [[40, 41, 42, 43, 44],\n",
       "          [45, 46, 47, 48, 49],\n",
       "          [50, 51, 52, 53, 54],\n",
       "          [55, 56, 57, 58, 59]]]),\n",
       " tensor([[[40, 41, 42, 43, 44],\n",
       "          [45, 46, 47, 48, 49],\n",
       "          [50, 51, 52, 53, 54],\n",
       "          [55, 56, 57, 58, 59]],\n",
       " \n",
       "         [[20, 21, 22, 23, 24],\n",
       "          [25, 26, 27, 28, 29],\n",
       "          [30, 31, 32, 33, 34],\n",
       "          [35, 36, 37, 38, 39]],\n",
       " \n",
       "         [[ 0,  1,  2,  3,  4],\n",
       "          [ 5,  6,  7,  8,  9],\n",
       "          [10, 11, 12, 13, 14],\n",
       "          [15, 16, 17, 18, 19]]]))"
      ]
     },
     "execution_count": 1337,
     "metadata": {},
     "output_type": "execute_result"
    }
   ],
   "source": [
    "x = torch.arange(3*4*5).view(3, 4, 5)\n",
    "y = torch.flipud(x)\n",
    "x, y"
   ]
  },
  {
   "cell_type": "code",
   "execution_count": 1338,
   "id": "c147a536",
   "metadata": {},
   "outputs": [
    {
     "data": {
      "text/plain": [
       "(tensor([[1., 0., 0.],\n",
       "         [0., 1., 0.],\n",
       "         [0., 0., 1.]]),\n",
       " tensor([[1., 1., 1.],\n",
       "         [1., 1., 1.]]),\n",
       " tensor([[1., 1., 1., 0., 0., 0., 0., 0., 0.],\n",
       "         [1., 1., 1., 0., 0., 0., 0., 0., 0.],\n",
       "         [0., 0., 0., 1., 1., 1., 0., 0., 0.],\n",
       "         [0., 0., 0., 1., 1., 1., 0., 0., 0.],\n",
       "         [0., 0., 0., 0., 0., 0., 1., 1., 1.],\n",
       "         [0., 0., 0., 0., 0., 0., 1., 1., 1.]]))"
      ]
     },
     "execution_count": 1338,
     "metadata": {},
     "output_type": "execute_result"
    }
   ],
   "source": [
    "x = torch.eye(3)\n",
    "y = torch.ones(2, 3)\n",
    "z = torch.kron(x, y)\n",
    "x, y, z"
   ]
  },
  {
   "cell_type": "code",
   "execution_count": 1339,
   "id": "0612878e",
   "metadata": {},
   "outputs": [
    {
     "data": {
      "text/plain": [
       "(tensor([[1., 1., 1.],\n",
       "         [1., 1., 1.],\n",
       "         [1., 1., 1.]]),\n",
       " tensor([[0, 1],\n",
       "         [2, 3],\n",
       "         [4, 5]]),\n",
       " tensor([[0., 1., 0., 1., 0., 1.],\n",
       "         [2., 3., 2., 3., 2., 3.],\n",
       "         [4., 5., 4., 5., 4., 5.],\n",
       "         [0., 1., 0., 1., 0., 1.],\n",
       "         [2., 3., 2., 3., 2., 3.],\n",
       "         [4., 5., 4., 5., 4., 5.],\n",
       "         [0., 1., 0., 1., 0., 1.],\n",
       "         [2., 3., 2., 3., 2., 3.],\n",
       "         [4., 5., 4., 5., 4., 5.]]))"
      ]
     },
     "execution_count": 1339,
     "metadata": {},
     "output_type": "execute_result"
    }
   ],
   "source": [
    "x = torch.ones(3, 3)\n",
    "y = torch.arange(3*2).view(3, 2)\n",
    "z = torch.kron(x, y)\n",
    "x, y, z"
   ]
  },
  {
   "cell_type": "code",
   "execution_count": 1340,
   "id": "657bf3fd",
   "metadata": {},
   "outputs": [
    {
     "data": {
      "text/plain": [
       "(tensor([[1., 1., 2.],\n",
       "         [1., 1., 2.],\n",
       "         [1., 1., 2.]]),\n",
       " tensor([[0, 1],\n",
       "         [2, 3],\n",
       "         [4, 5]]),\n",
       " tensor([[ 0.,  1.,  0.,  1.,  0.,  2.],\n",
       "         [ 2.,  3.,  2.,  3.,  4.,  6.],\n",
       "         [ 4.,  5.,  4.,  5.,  8., 10.],\n",
       "         [ 0.,  1.,  0.,  1.,  0.,  2.],\n",
       "         [ 2.,  3.,  2.,  3.,  4.,  6.],\n",
       "         [ 4.,  5.,  4.,  5.,  8., 10.],\n",
       "         [ 0.,  1.,  0.,  1.,  0.,  2.],\n",
       "         [ 2.,  3.,  2.,  3.,  4.,  6.],\n",
       "         [ 4.,  5.,  4.,  5.,  8., 10.]]))"
      ]
     },
     "execution_count": 1340,
     "metadata": {},
     "output_type": "execute_result"
    }
   ],
   "source": [
    "x = torch.ones(3, 3)\n",
    "x[..., -1] *= 2\n",
    "y = torch.arange(3*2).view(3, 2)\n",
    "z = torch.kron(x, y)\n",
    "x, y, z"
   ]
  },
  {
   "cell_type": "code",
   "execution_count": 1342,
   "id": "f4004cf6",
   "metadata": {},
   "outputs": [
    {
     "data": {
      "text/plain": [
       "(tensor([[0, 1],\n",
       "         [2, 3],\n",
       "         [4, 5],\n",
       "         [6, 7]]),\n",
       " tensor([[1, 3, 5, 7],\n",
       "         [0, 2, 4, 6]]),\n",
       " torch.Size([2, 4]))"
      ]
     },
     "execution_count": 1342,
     "metadata": {},
     "output_type": "execute_result"
    }
   ],
   "source": [
    "x = torch.arange(8).view(4, 2)\n",
    "y = torch.rot90(x, 1) # dims =(0, 1)\n",
    "x, y, y.shape"
   ]
  },
  {
   "cell_type": "code",
   "execution_count": 1344,
   "id": "a9be5618",
   "metadata": {},
   "outputs": [
    {
     "data": {
      "text/plain": [
       "(tensor([[0, 1],\n",
       "         [2, 3],\n",
       "         [4, 5],\n",
       "         [6, 7]]),\n",
       " tensor([[7, 6],\n",
       "         [5, 4],\n",
       "         [3, 2],\n",
       "         [1, 0]]),\n",
       " torch.Size([4, 2]))"
      ]
     },
     "execution_count": 1344,
     "metadata": {},
     "output_type": "execute_result"
    }
   ],
   "source": [
    "x = torch.arange(8).view(4, 2)\n",
    "y = torch.rot90(x, 2) # dims =(0, 1)\n",
    "x, y, y.shape"
   ]
  },
  {
   "cell_type": "code",
   "execution_count": 1345,
   "id": "97a35ef2",
   "metadata": {},
   "outputs": [
    {
     "data": {
      "text/plain": [
       "(tensor([[0, 1],\n",
       "         [2, 3],\n",
       "         [4, 5],\n",
       "         [6, 7]]),\n",
       " tensor([[6, 4, 2, 0],\n",
       "         [7, 5, 3, 1]]),\n",
       " torch.Size([2, 4]))"
      ]
     },
     "execution_count": 1345,
     "metadata": {},
     "output_type": "execute_result"
    }
   ],
   "source": [
    "x = torch.arange(8).view(4, 2)\n",
    "y = torch.rot90(x, 3) # dims =(0, 1)\n",
    "x, y, y.shape"
   ]
  },
  {
   "cell_type": "code",
   "execution_count": 766,
   "id": "f4004cf6",
   "metadata": {},
   "outputs": [
    {
     "data": {
      "text/plain": [
       "(tensor([[0, 1],\n",
       "         [2, 3],\n",
       "         [4, 5],\n",
       "         [6, 7]]),\n",
       " tensor([[6, 4, 2, 0],\n",
       "         [7, 5, 3, 1]]))"
      ]
     },
     "execution_count": 766,
     "metadata": {},
     "output_type": "execute_result"
    }
   ],
   "source": [
    "x = torch.arange(8).view(4, 2)\n",
    "y = torch.rot90(x, -1)\n",
    "x, y"
   ]
  },
  {
   "cell_type": "code",
   "execution_count": 767,
   "id": "f4004cf6",
   "metadata": {},
   "outputs": [
    {
     "data": {
      "text/plain": [
       "(tensor([[0, 1],\n",
       "         [2, 3],\n",
       "         [4, 5],\n",
       "         [6, 7]]),\n",
       " tensor([[7, 6],\n",
       "         [5, 4],\n",
       "         [3, 2],\n",
       "         [1, 0]]))"
      ]
     },
     "execution_count": 767,
     "metadata": {},
     "output_type": "execute_result"
    }
   ],
   "source": [
    "x = torch.arange(8).view(4, 2)\n",
    "y = torch.rot90(x, -2)\n",
    "x, y"
   ]
  },
  {
   "cell_type": "code",
   "execution_count": 768,
   "id": "cc1f6e5e",
   "metadata": {},
   "outputs": [
    {
     "data": {
      "text/plain": [
       "(tensor([[0, 1],\n",
       "         [2, 3],\n",
       "         [4, 5],\n",
       "         [6, 7]]),\n",
       " tensor([[1, 3, 5, 7],\n",
       "         [0, 2, 4, 6]]))"
      ]
     },
     "execution_count": 768,
     "metadata": {},
     "output_type": "execute_result"
    }
   ],
   "source": [
    "x = torch.arange(8).view(4, 2)\n",
    "y = torch.rot90(x, -3)\n",
    "x, y"
   ]
  },
  {
   "cell_type": "code",
   "execution_count": 769,
   "id": "cac284b0",
   "metadata": {},
   "outputs": [
    {
     "data": {
      "text/plain": [
       "(tensor([[0, 1],\n",
       "         [2, 3],\n",
       "         [4, 5],\n",
       "         [6, 7]]),\n",
       " tensor([[0, 1],\n",
       "         [2, 3],\n",
       "         [4, 5],\n",
       "         [6, 7]]))"
      ]
     },
     "execution_count": 769,
     "metadata": {},
     "output_type": "execute_result"
    }
   ],
   "source": [
    "x = torch.arange(8).view(4, 2)\n",
    "y = torch.rot90(x, -4)\n",
    "x, y"
   ]
  },
  {
   "cell_type": "code",
   "execution_count": 770,
   "id": "683c3070",
   "metadata": {},
   "outputs": [
    {
     "data": {
      "text/plain": [
       "(tensor([[0, 1],\n",
       "         [2, 3],\n",
       "         [4, 5],\n",
       "         [6, 7]]),\n",
       " tensor([[1, 3, 5, 7],\n",
       "         [0, 2, 4, 6]]))"
      ]
     },
     "execution_count": 770,
     "metadata": {},
     "output_type": "execute_result"
    }
   ],
   "source": [
    "x = torch.arange(8).view(4, 2)\n",
    "y = torch.rot90(x, 1)\n",
    "x, y"
   ]
  },
  {
   "cell_type": "code",
   "execution_count": 771,
   "id": "683c3070",
   "metadata": {},
   "outputs": [
    {
     "data": {
      "text/plain": [
       "(tensor([[0, 1],\n",
       "         [2, 3],\n",
       "         [4, 5],\n",
       "         [6, 7]]),\n",
       " tensor([[6, 4, 2, 0],\n",
       "         [7, 5, 3, 1]]))"
      ]
     },
     "execution_count": 771,
     "metadata": {},
     "output_type": "execute_result"
    }
   ],
   "source": [
    "x = torch.arange(8).view(4, 2)\n",
    "y = torch.rot90(x, 1, (1, 0))\n",
    "x, y"
   ]
  },
  {
   "cell_type": "code",
   "execution_count": 772,
   "id": "683c3070",
   "metadata": {},
   "outputs": [
    {
     "data": {
      "text/plain": [
       "(tensor([[0, 1],\n",
       "         [2, 3],\n",
       "         [4, 5],\n",
       "         [6, 7]]),\n",
       " tensor([[6, 4, 2, 0],\n",
       "         [7, 5, 3, 1]]))"
      ]
     },
     "execution_count": 772,
     "metadata": {},
     "output_type": "execute_result"
    }
   ],
   "source": [
    "x = torch.arange(8).view(4, 2)\n",
    "y = torch.rot90(x, -1, )\n",
    "x, y"
   ]
  },
  {
   "cell_type": "code",
   "execution_count": 1349,
   "id": "475ab8a0",
   "metadata": {},
   "outputs": [
    {
     "data": {
      "text/plain": [
       "(tensor([[[ 0,  1],\n",
       "          [ 2,  3],\n",
       "          [ 4,  5],\n",
       "          [ 6,  7]],\n",
       " \n",
       "         [[ 8,  9],\n",
       "          [10, 11],\n",
       "          [12, 13],\n",
       "          [14, 15]],\n",
       " \n",
       "         [[16, 17],\n",
       "          [18, 19],\n",
       "          [20, 21],\n",
       "          [22, 23]]]),\n",
       " tensor([[[ 6,  7],\n",
       "          [14, 15],\n",
       "          [22, 23]],\n",
       " \n",
       "         [[ 4,  5],\n",
       "          [12, 13],\n",
       "          [20, 21]],\n",
       " \n",
       "         [[ 2,  3],\n",
       "          [10, 11],\n",
       "          [18, 19]],\n",
       " \n",
       "         [[ 0,  1],\n",
       "          [ 8,  9],\n",
       "          [16, 17]]]),\n",
       " torch.Size([4, 3, 2]))"
      ]
     },
     "execution_count": 1349,
     "metadata": {},
     "output_type": "execute_result"
    }
   ],
   "source": [
    "x = torch.arange(3*4*2).view(3, 4, 2)\n",
    "y = torch.rot90(x)\n",
    "x, y, y.size()"
   ]
  },
  {
   "cell_type": "code",
   "execution_count": 1352,
   "id": "6336ed5e",
   "metadata": {},
   "outputs": [
    {
     "data": {
      "text/plain": [
       "(tensor([[[ 0,  1],\n",
       "          [ 2,  3],\n",
       "          [ 4,  5],\n",
       "          [ 6,  7]],\n",
       " \n",
       "         [[ 8,  9],\n",
       "          [10, 11],\n",
       "          [12, 13],\n",
       "          [14, 15]],\n",
       " \n",
       "         [[16, 17],\n",
       "          [18, 19],\n",
       "          [20, 21],\n",
       "          [22, 23]]]),\n",
       " tensor([[[22, 23],\n",
       "          [20, 21],\n",
       "          [18, 19],\n",
       "          [16, 17]],\n",
       " \n",
       "         [[14, 15],\n",
       "          [12, 13],\n",
       "          [10, 11],\n",
       "          [ 8,  9]],\n",
       " \n",
       "         [[ 6,  7],\n",
       "          [ 4,  5],\n",
       "          [ 2,  3],\n",
       "          [ 0,  1]]]),\n",
       " torch.Size([3, 4, 2]))"
      ]
     },
     "execution_count": 1352,
     "metadata": {},
     "output_type": "execute_result"
    }
   ],
   "source": [
    "x = torch.arange(3*4*2).view(3, 4, 2)\n",
    "y = torch.rot90(x, 2)\n",
    "x, y, y.size()"
   ]
  },
  {
   "cell_type": "code",
   "execution_count": 1353,
   "id": "b638db83",
   "metadata": {},
   "outputs": [
    {
     "data": {
      "text/plain": [
       "(tensor([[[ 0,  1],\n",
       "          [ 2,  3],\n",
       "          [ 4,  5],\n",
       "          [ 6,  7]],\n",
       " \n",
       "         [[ 8,  9],\n",
       "          [10, 11],\n",
       "          [12, 13],\n",
       "          [14, 15]],\n",
       " \n",
       "         [[16, 17],\n",
       "          [18, 19],\n",
       "          [20, 21],\n",
       "          [22, 23]]]),\n",
       " tensor([[[16, 17],\n",
       "          [ 8,  9],\n",
       "          [ 0,  1]],\n",
       " \n",
       "         [[18, 19],\n",
       "          [10, 11],\n",
       "          [ 2,  3]],\n",
       " \n",
       "         [[20, 21],\n",
       "          [12, 13],\n",
       "          [ 4,  5]],\n",
       " \n",
       "         [[22, 23],\n",
       "          [14, 15],\n",
       "          [ 6,  7]]]),\n",
       " torch.Size([4, 3, 2]))"
      ]
     },
     "execution_count": 1353,
     "metadata": {},
     "output_type": "execute_result"
    }
   ],
   "source": [
    "x = torch.arange(3*4*2).view(3, 4, 2)\n",
    "y = torch.rot90(x, 3)\n",
    "x, y, y.size()"
   ]
  },
  {
   "cell_type": "code",
   "execution_count": 773,
   "id": "80012fd3",
   "metadata": {},
   "outputs": [
    {
     "data": {
      "text/plain": [
       "(tensor([10,  6,  4,  3,  0, 10,  0]),\n",
       " tensor([20,  3,  2,  2, 10,  0,  0]),\n",
       " tensor([10,  3,  2,  1, 10, 10,  0]))"
      ]
     },
     "execution_count": 773,
     "metadata": {},
     "output_type": "execute_result"
    }
   ],
   "source": [
    "x = torch.tensor([10, 6, 4, 3, 0, 10, 0])\n",
    "y = torch.tensor([20, 3, 2, 2, 10, 0, 0])\n",
    "z = torch.gcd(x, y)\n",
    "x, y, z"
   ]
  },
  {
   "cell_type": "code",
   "execution_count": 1363,
   "id": "fc2bc846",
   "metadata": {},
   "outputs": [
    {
     "data": {
      "text/plain": [
       "(tensor([3., 3., 7., 2., 2., 3., 6., 2., 9., 2., 8., 5., 0., 5., 4., 1., 8., 8.,\n",
       "         0., 5.]),\n",
       " tensor([1., 4., 3., 1., 4.]))"
      ]
     },
     "execution_count": 1363,
     "metadata": {},
     "output_type": "execute_result"
    }
   ],
   "source": [
    "torch.manual_seed(15850)\n",
    "x = torch.randint(0, 10, size=(20, ), dtype=torch.float32)\n",
    "y = torch.histc(x, 5, 1, 6) # Computes the histogram of a tensor. between min=1 max=6\n",
    "x, y"
   ]
  },
  {
   "cell_type": "code",
   "execution_count": 775,
   "id": "3ede5b59",
   "metadata": {},
   "outputs": [
    {
     "data": {
      "text/plain": [
       "torch.return_types.histogram(\n",
       "hist=tensor([0., 2., 1., 0.]),\n",
       "bin_edges=tensor([0.0000, 0.7500, 1.5000, 2.2500, 3.0000]))"
      ]
     },
     "execution_count": 775,
     "metadata": {},
     "output_type": "execute_result"
    }
   ],
   "source": [
    "torch.histogram(torch.tensor([1, 2, 1.]), bins=4, range=(0., 3.))"
   ]
  },
  {
   "cell_type": "code",
   "execution_count": 776,
   "id": "c20a89fb",
   "metadata": {},
   "outputs": [
    {
     "data": {
      "text/plain": [
       "torch.return_types.histogram(\n",
       "hist=tensor([0.0000, 0.8889, 0.4444, 0.0000]),\n",
       "bin_edges=tensor([0.0000, 0.7500, 1.5000, 2.2500, 3.0000]))"
      ]
     },
     "execution_count": 776,
     "metadata": {},
     "output_type": "execute_result"
    }
   ],
   "source": [
    "torch.histogram(torch.tensor([1, 2, 1.]), bins=4, range=(0., 3.), density=True)"
   ]
  },
  {
   "cell_type": "code",
   "execution_count": 777,
   "id": "5dfa4eca",
   "metadata": {},
   "outputs": [
    {
     "data": {
      "text/plain": [
       "torch.return_types.histogram(\n",
       "hist=tensor([0.0000, 0.9524, 0.3810, 0.0000]),\n",
       "bin_edges=tensor([0.0000, 0.7500, 1.5000, 2.2500, 3.0000]))"
      ]
     },
     "execution_count": 777,
     "metadata": {},
     "output_type": "execute_result"
    }
   ],
   "source": [
    "torch.histogram(torch.tensor([1, 2, 1.]), bins=4, range=(0., 3.), weight=torch.tensor([1, 2., 4.]) ,density=True)"
   ]
  },
  {
   "cell_type": "code",
   "execution_count": 778,
   "id": "efdb2182",
   "metadata": {},
   "outputs": [
    {
     "data": {
      "text/plain": [
       "(tensor([[ 1.1678,  0.2173, -2.2779, -1.0563, -0.1484],\n",
       "         [-0.4025, -0.6824, -1.3900, -0.3223,  1.3641],\n",
       "         [-0.8140, -0.1239, -0.3759,  1.0415,  0.2307],\n",
       "         [ 0.3197, -1.1248,  0.1573,  0.2471,  0.2022],\n",
       "         [ 0.8874,  0.0690,  1.7996,  0.6050, -0.3018],\n",
       "         [ 0.2786, -0.3267,  1.4424,  2.3305,  0.8667],\n",
       "         [ 0.5084, -0.8161,  1.2785, -0.9040, -0.4785],\n",
       "         [ 0.5810, -0.2914,  1.5597, -0.1804,  1.6283],\n",
       "         [-0.0533, -0.2421,  0.2068,  0.3834,  0.3204],\n",
       "         [ 0.0493, -0.6853,  1.6986,  0.5051,  0.9845]]),\n",
       " torch.return_types.histogram(\n",
       " hist=tensor([ 1.,  1.,  3.,  5., 11., 12.,  6.,  5.,  5.,  1.]),\n",
       " bin_edges=tensor([-2.2779, -1.8170, -1.3562, -0.8953, -0.4345,  0.0263,  0.4872,  0.9480,\n",
       "          1.4089,  1.8697,  2.3305])))"
      ]
     },
     "execution_count": 778,
     "metadata": {},
     "output_type": "execute_result"
    }
   ],
   "source": [
    "x = torch.randn(10, 5)\n",
    "y = torch.histogram(x, 10)\n",
    "x, y"
   ]
  },
  {
   "cell_type": "code",
   "execution_count": 779,
   "id": "07478d21",
   "metadata": {},
   "outputs": [
    {
     "data": {
      "text/plain": [
       "(tensor([[0., 0.],\n",
       "         [1., 1.],\n",
       "         [2., 2.]]),\n",
       " torch.return_types.histogramdd(\n",
       " hist=tensor([[1., 0.],\n",
       "         [0., 1.]]),\n",
       " bin_edges=(tensor([0., 1., 2.]), tensor([0.0000, 0.5000, 1.0000]))))"
      ]
     },
     "execution_count": 779,
     "metadata": {},
     "output_type": "execute_result"
    }
   ],
   "source": [
    "x =torch.tensor([[0., 0.], [1., 1.], [2., 2.]])\n",
    "y = torch.histogramdd(x, bins=(2, 2), range=[0., 2., 0., 1.])\n",
    "x, y"
   ]
  },
  {
   "cell_type": "code",
   "execution_count": 780,
   "id": "63eec35f",
   "metadata": {},
   "outputs": [
    {
     "name": "stderr",
     "output_type": "stream",
     "text": [
      "/home/mtb/env/lib/python3.9/site-packages/torch/functional.py:504: UserWarning: torch.meshgrid: in an upcoming release, it will be required to pass the indexing argument. (Triggered internally at ../aten/src/ATen/native/TensorShape.cpp:3483.)\n",
      "  return _VF.meshgrid(tensors, **kwargs)  # type: ignore[attr-defined]\n"
     ]
    },
    {
     "data": {
      "text/plain": [
       "(tensor(2), tensor([3, 4, 5]), (tensor([[2, 2, 2]]), tensor([[3, 4, 5]])))"
      ]
     },
     "execution_count": 780,
     "metadata": {},
     "output_type": "execute_result"
    }
   ],
   "source": [
    "x = torch.tensor(2)\n",
    "y = torch.tensor([3, 4, 5])\n",
    "z = torch.meshgrid(x, y)\n",
    "x, y, z"
   ]
  },
  {
   "cell_type": "code",
   "execution_count": 781,
   "id": "d2dc1666",
   "metadata": {},
   "outputs": [
    {
     "data": {
      "text/plain": [
       "(tensor(2), tensor([3, 4, 5]), (tensor([[2, 2, 2]]), tensor([[3, 4, 5]])))"
      ]
     },
     "execution_count": 781,
     "metadata": {},
     "output_type": "execute_result"
    }
   ],
   "source": [
    "x = torch.tensor(2)\n",
    "y = torch.tensor([3, 4, 5])\n",
    "z = torch.meshgrid(x, y, indexing='ij')\n",
    "x, y, z"
   ]
  },
  {
   "cell_type": "code",
   "execution_count": 782,
   "id": "3bf2fa29",
   "metadata": {},
   "outputs": [
    {
     "data": {
      "text/plain": [
       "(tensor(2),\n",
       " tensor([3, 4, 5]),\n",
       " (tensor([[2],\n",
       "          [2],\n",
       "          [2]]),\n",
       "  tensor([[3],\n",
       "          [4],\n",
       "          [5]])))"
      ]
     },
     "execution_count": 782,
     "metadata": {},
     "output_type": "execute_result"
    }
   ],
   "source": [
    "x = torch.tensor(2)\n",
    "y = torch.tensor([3, 4, 5])\n",
    "z = torch.meshgrid(x, y, indexing='xy')\n",
    "x, y, z"
   ]
  },
  {
   "cell_type": "code",
   "execution_count": 783,
   "id": "a3329ddc",
   "metadata": {},
   "outputs": [
    {
     "data": {
      "text/plain": [
       "(tensor([1, 2, 3]),\n",
       " tensor([4, 5, 6]),\n",
       " (tensor([[1, 1, 1],\n",
       "          [2, 2, 2],\n",
       "          [3, 3, 3]]),\n",
       "  tensor([[4, 5, 6],\n",
       "          [4, 5, 6],\n",
       "          [4, 5, 6]])))"
      ]
     },
     "execution_count": 783,
     "metadata": {},
     "output_type": "execute_result"
    }
   ],
   "source": [
    "x = torch.tensor([1, 2, 3])\n",
    "y = torch.tensor([4, 5, 6])\n",
    "z = torch.meshgrid(x, y, indexing='ij')\n",
    "x, y, z"
   ]
  },
  {
   "cell_type": "code",
   "execution_count": 784,
   "id": "a7c7d9ca",
   "metadata": {},
   "outputs": [
    {
     "data": {
      "text/plain": [
       "(tensor([1, 2, 3]),\n",
       " tensor([4, 5, 6]),\n",
       " (tensor([[1, 2, 3],\n",
       "          [1, 2, 3],\n",
       "          [1, 2, 3]]),\n",
       "  tensor([[4, 4, 4],\n",
       "          [5, 5, 5],\n",
       "          [6, 6, 6]])))"
      ]
     },
     "execution_count": 784,
     "metadata": {},
     "output_type": "execute_result"
    }
   ],
   "source": [
    "x = torch.tensor([1, 2, 3])\n",
    "y = torch.tensor([4, 5, 6])\n",
    "z = torch.meshgrid(x, y, indexing='xy')\n",
    "x, y, z"
   ]
  },
  {
   "cell_type": "code",
   "execution_count": 1366,
   "id": "4544644c",
   "metadata": {},
   "outputs": [
    {
     "data": {
      "text/plain": [
       "(tensor([ 1,  2,  3, 10]),\n",
       " tensor([4, 5, 6]),\n",
       " tensor([7, 8, 9]),\n",
       " (tensor([[[ 1,  1,  1],\n",
       "           [ 1,  1,  1],\n",
       "           [ 1,  1,  1]],\n",
       "  \n",
       "          [[ 2,  2,  2],\n",
       "           [ 2,  2,  2],\n",
       "           [ 2,  2,  2]],\n",
       "  \n",
       "          [[ 3,  3,  3],\n",
       "           [ 3,  3,  3],\n",
       "           [ 3,  3,  3]],\n",
       "  \n",
       "          [[10, 10, 10],\n",
       "           [10, 10, 10],\n",
       "           [10, 10, 10]]]),\n",
       "  tensor([[[4, 4, 4],\n",
       "           [5, 5, 5],\n",
       "           [6, 6, 6]],\n",
       "  \n",
       "          [[4, 4, 4],\n",
       "           [5, 5, 5],\n",
       "           [6, 6, 6]],\n",
       "  \n",
       "          [[4, 4, 4],\n",
       "           [5, 5, 5],\n",
       "           [6, 6, 6]],\n",
       "  \n",
       "          [[4, 4, 4],\n",
       "           [5, 5, 5],\n",
       "           [6, 6, 6]]]),\n",
       "  tensor([[[7, 8, 9],\n",
       "           [7, 8, 9],\n",
       "           [7, 8, 9]],\n",
       "  \n",
       "          [[7, 8, 9],\n",
       "           [7, 8, 9],\n",
       "           [7, 8, 9]],\n",
       "  \n",
       "          [[7, 8, 9],\n",
       "           [7, 8, 9],\n",
       "           [7, 8, 9]],\n",
       "  \n",
       "          [[7, 8, 9],\n",
       "           [7, 8, 9],\n",
       "           [7, 8, 9]]])))"
      ]
     },
     "execution_count": 1366,
     "metadata": {},
     "output_type": "execute_result"
    }
   ],
   "source": [
    "x = torch.tensor([1, 2, 3, 10])\n",
    "y = torch.tensor([4, 5, 6])\n",
    "z = y + 3\n",
    "w = torch.meshgrid(x, y, z)\n",
    "x, y, z, w"
   ]
  },
  {
   "cell_type": "code",
   "execution_count": 1368,
   "id": "09edb482",
   "metadata": {},
   "outputs": [
    {
     "data": {
      "text/plain": [
       "(tensor([ 1,  2,  3, 10]),\n",
       " tensor([4, 5]),\n",
       " tensor([7, 8]),\n",
       " (tensor([[[ 1,  1],\n",
       "           [ 1,  1]],\n",
       "  \n",
       "          [[ 2,  2],\n",
       "           [ 2,  2]],\n",
       "  \n",
       "          [[ 3,  3],\n",
       "           [ 3,  3]],\n",
       "  \n",
       "          [[10, 10],\n",
       "           [10, 10]]]),\n",
       "  tensor([[[4, 4],\n",
       "           [5, 5]],\n",
       "  \n",
       "          [[4, 4],\n",
       "           [5, 5]],\n",
       "  \n",
       "          [[4, 4],\n",
       "           [5, 5]],\n",
       "  \n",
       "          [[4, 4],\n",
       "           [5, 5]]]),\n",
       "  tensor([[[7, 8],\n",
       "           [7, 8]],\n",
       "  \n",
       "          [[7, 8],\n",
       "           [7, 8]],\n",
       "  \n",
       "          [[7, 8],\n",
       "           [7, 8]],\n",
       "  \n",
       "          [[7, 8],\n",
       "           [7, 8]]])),\n",
       " torch.Size([4, 2, 2]))"
      ]
     },
     "execution_count": 1368,
     "metadata": {},
     "output_type": "execute_result"
    }
   ],
   "source": [
    "x = torch.tensor([1, 2, 3, 10])\n",
    "y = torch.tensor([4, 5])\n",
    "z = y + 3\n",
    "w = torch.meshgrid(x, y, z)\n",
    "x, y, z, w, w[0].size()"
   ]
  },
  {
   "cell_type": "code",
   "execution_count": 785,
   "id": "66600861",
   "metadata": {},
   "outputs": [
    {
     "data": {
      "text/plain": [
       "tensor([[1, 4],\n",
       "        [1, 5],\n",
       "        [1, 6],\n",
       "        [2, 4],\n",
       "        [2, 5],\n",
       "        [2, 6],\n",
       "        [3, 4],\n",
       "        [3, 5],\n",
       "        [3, 6]])"
      ]
     },
     "execution_count": 785,
     "metadata": {},
     "output_type": "execute_result"
    }
   ],
   "source": [
    "torch.cartesian_prod(x, y)"
   ]
  },
  {
   "cell_type": "code",
   "execution_count": 1370,
   "id": "06a2f905",
   "metadata": {},
   "outputs": [
    {
     "data": {
      "text/plain": [
       "(tensor([[1, 4, 7],\n",
       "         [1, 4, 8],\n",
       "         [1, 4, 9],\n",
       "         [1, 5, 7],\n",
       "         [1, 5, 8],\n",
       "         [1, 5, 9],\n",
       "         [1, 6, 7],\n",
       "         [1, 6, 8],\n",
       "         [1, 6, 9],\n",
       "         [2, 4, 7],\n",
       "         [2, 4, 8],\n",
       "         [2, 4, 9],\n",
       "         [2, 5, 7],\n",
       "         [2, 5, 8],\n",
       "         [2, 5, 9],\n",
       "         [2, 6, 7],\n",
       "         [2, 6, 8],\n",
       "         [2, 6, 9],\n",
       "         [3, 4, 7],\n",
       "         [3, 4, 8],\n",
       "         [3, 4, 9],\n",
       "         [3, 5, 7],\n",
       "         [3, 5, 8],\n",
       "         [3, 5, 9],\n",
       "         [3, 6, 7],\n",
       "         [3, 6, 8],\n",
       "         [3, 6, 9]]),\n",
       " torch.Size([27, 3]))"
      ]
     },
     "execution_count": 1370,
     "metadata": {},
     "output_type": "execute_result"
    }
   ],
   "source": [
    "x = torch.tensor([1, 2, 3])\n",
    "y = torch.tensor([4, 5, 6])\n",
    "z = torch.tensor([7, 8, 9])\n",
    "w = torch.cartesian_prod(x, y, z)\n",
    "w, w.size()"
   ]
  },
  {
   "cell_type": "code",
   "execution_count": 787,
   "id": "b221c27d",
   "metadata": {},
   "outputs": [
    {
     "data": {
      "text/plain": [
       "(tensor([1, 2, 3]),\n",
       " tensor([4, 5]),\n",
       " (tensor([[1, 2, 3],\n",
       "          [1, 2, 3]]),\n",
       "  tensor([[4, 4, 4],\n",
       "          [5, 5, 5]])))"
      ]
     },
     "execution_count": 787,
     "metadata": {},
     "output_type": "execute_result"
    }
   ],
   "source": [
    "x = torch.tensor([1, 2, 3])\n",
    "y = torch.tensor([4, 5, ])\n",
    "z = torch.meshgrid(x, y, indexing='xy')\n",
    "x, y, z"
   ]
  },
  {
   "cell_type": "code",
   "execution_count": 788,
   "id": "6b11e29c",
   "metadata": {},
   "outputs": [
    {
     "data": {
      "text/plain": [
       "(tensor([10,  6,  4,  3,  0, 10,  0]),\n",
       " tensor([20,  3,  2,  2, 10,  0,  0]),\n",
       " tensor([20,  6,  4,  6,  0,  0,  0]))"
      ]
     },
     "execution_count": 788,
     "metadata": {},
     "output_type": "execute_result"
    }
   ],
   "source": [
    "x = torch.tensor([10, 6, 4, 3, 0, 10, 0])\n",
    "y = torch.tensor([20, 3, 2, 2, 10, 0, 0])\n",
    "z = torch.lcm(x, y)\n",
    "x, y, z"
   ]
  },
  {
   "cell_type": "code",
   "execution_count": 1373,
   "id": "4c03086f",
   "metadata": {},
   "outputs": [
    {
     "data": {
      "text/plain": [
       "(tensor([ 1.5410, -0.2934, -2.1788,  0.5684, -1.0845, -1.3986,  0.4033,  0.8380,\n",
       "         -0.7193, -0.4033]),\n",
       " tensor([1.5410, 1.6892, 1.7098, 1.9870, 2.0323, 2.0642, 2.2381, 2.4585, 2.4993,\n",
       "         2.5528]),\n",
       " tensor([1.5410, 1.6892, 1.7098, 1.9870, 2.0323, 2.0642, 2.2381, 2.4585, 2.4993,\n",
       "         2.5528]))"
      ]
     },
     "execution_count": 1373,
     "metadata": {},
     "output_type": "execute_result"
    }
   ],
   "source": [
    "torch.manual_seed(0)\n",
    "x = torch.randn(10)\n",
    "y = torch.logcumsumexp(x, dim=0)\n",
    "x, y, x.exp().cumsum(0).log()"
   ]
  },
  {
   "cell_type": "code",
   "execution_count": 790,
   "id": "266d0476",
   "metadata": {},
   "outputs": [
    {
     "data": {
      "text/plain": [
       "(tensor([[[1, 2],\n",
       "          [3, 4]],\n",
       " \n",
       "         [[5, 6],\n",
       "          [7, 8]]]),\n",
       " tensor([1, 2, 3, 4, 5, 6, 7, 8]),\n",
       " tensor([1, 2, 3, 4, 5, 6, 7, 8]))"
      ]
     },
     "execution_count": 790,
     "metadata": {},
     "output_type": "execute_result"
    }
   ],
   "source": [
    "x = torch.arange(1, 9).view(2, 2, 2)\n",
    "y = torch.ravel(x)\n",
    "z = torch.flatten(x)\n",
    "x, y, z"
   ]
  },
  {
   "cell_type": "code",
   "execution_count": 791,
   "id": "6848f205",
   "metadata": {},
   "outputs": [
    {
     "data": {
      "text/plain": [
       "(tensor([[[1, 2],\n",
       "          [3, 4]],\n",
       " \n",
       "         [[5, 6],\n",
       "          [7, 8]]]),\n",
       " tensor([1, 2, 3, 4, 5, 6, 7, 8]),\n",
       " tensor([[1, 2, 3, 4],\n",
       "         [5, 6, 7, 8]]))"
      ]
     },
     "execution_count": 791,
     "metadata": {},
     "output_type": "execute_result"
    }
   ],
   "source": [
    "x = torch.arange(1, 9).view(2, 2, 2)\n",
    "y = torch.ravel(x)\n",
    "z = torch.flatten(x, 1, 2)\n",
    "x, y, z"
   ]
  },
  {
   "cell_type": "code",
   "execution_count": 792,
   "id": "7b8508f5",
   "metadata": {},
   "outputs": [
    {
     "data": {
      "text/plain": [
       "(tensor([[[-1,  2],\n",
       "          [ 3,  4]],\n",
       " \n",
       "         [[ 5,  6],\n",
       "          [ 7,  8]]]),\n",
       " tensor([-1,  2,  3,  4,  5,  6,  7,  8]))"
      ]
     },
     "execution_count": 792,
     "metadata": {},
     "output_type": "execute_result"
    }
   ],
   "source": [
    "x = torch.arange(1, 9).view(2, 2, 2)\n",
    "y = torch.ravel(x)\n",
    "y[0] = -1 # inplace modification\n",
    "x, y"
   ]
  },
  {
   "cell_type": "code",
   "execution_count": 793,
   "id": "54684ff6",
   "metadata": {},
   "outputs": [
    {
     "data": {
      "text/plain": [
       "(tensor([[1., 1., 1., 1.],\n",
       "         [2., 2., 2., 2.],\n",
       "         [3., 3., 3., 3.],\n",
       "         [4., 4., 4., 4.]]),\n",
       " tensor([ 4.,  8., 12., 16.]),\n",
       " tensor([[0.5000, 0.5000, 0.5000, 0.5000],\n",
       "         [0.5000, 0.5000, 0.5000, 0.5000],\n",
       "         [0.5000, 0.5000, 0.5000, 0.5000],\n",
       "         [0.5000, 0.5000, 0.5000, 0.5000]]))"
      ]
     },
     "execution_count": 793,
     "metadata": {},
     "output_type": "execute_result"
    }
   ],
   "source": [
    "x = torch.ones(4, 4)\n",
    "x[1].fill_(2)\n",
    "x[2].fill_(3)\n",
    "x[3].fill_(4)\n",
    "y = torch.norm(x, 1, 1)\n",
    "z = torch.renorm(x, p=1, dim=0, maxnorm=2)\n",
    "x, y, z\n"
   ]
  },
  {
   "cell_type": "code",
   "execution_count": 794,
   "id": "78190a1d",
   "metadata": {},
   "outputs": [
    {
     "data": {
      "text/plain": [
       "(tensor([[1., 1., 1., 1.],\n",
       "         [2., 2., 2., 2.],\n",
       "         [3., 3., 3., 3.],\n",
       "         [4., 4., 4., 4.]]),\n",
       " tensor([ 4.,  8., 12., 16.]),\n",
       " tensor([[1.0000, 1.0000, 1.0000, 1.0000],\n",
       "         [2.0000, 2.0000, 2.0000, 2.0000],\n",
       "         [2.5000, 2.5000, 2.5000, 2.5000],\n",
       "         [2.5000, 2.5000, 2.5000, 2.5000]]))"
      ]
     },
     "execution_count": 794,
     "metadata": {},
     "output_type": "execute_result"
    }
   ],
   "source": [
    "x = torch.ones(4, 4)\n",
    "x[1].fill_(2)\n",
    "x[2].fill_(3)\n",
    "x[3].fill_(4)\n",
    "y = torch.norm(x, 1, 1)\n",
    "z = torch.renorm(x, 1, 0, 10)\n",
    "x, y, z"
   ]
  },
  {
   "cell_type": "code",
   "execution_count": 1374,
   "id": "caf39ff3",
   "metadata": {},
   "outputs": [
    {
     "data": {
      "text/plain": [
       "(tensor([[1., 1., 1., 1.],\n",
       "         [2., 2., 2., 2.],\n",
       "         [3., 3., 3., 4.],\n",
       "         [4., 4., 4., 4.]]),\n",
       " tensor([ 4.,  8., 13., 16.]),\n",
       " tensor([[1.0000, 1.0000, 1.0000, 1.0000],\n",
       "         [2.0000, 2.0000, 2.0000, 2.0000],\n",
       "         [2.3077, 2.3077, 2.3077, 3.0769],\n",
       "         [2.5000, 2.5000, 2.5000, 2.5000]]),\n",
       " tensor([7.8077, 7.8077, 7.8077, 8.5769]))"
      ]
     },
     "execution_count": 1374,
     "metadata": {},
     "output_type": "execute_result"
    }
   ],
   "source": [
    "x = torch.ones(4, 4)\n",
    "x[1].fill_(2)\n",
    "x[2].fill_(3)\n",
    "x[3].fill_(4)\n",
    "x[2][-1] = 4\n",
    "y = torch.norm(x, 1, 1)\n",
    "z = torch.renorm(x, 1, 0, 10) # norm(z, dim=1) < 10\n",
    "x, y, z, z.sum(0)"
   ]
  },
  {
   "cell_type": "code",
   "execution_count": 796,
   "id": "82100b6d",
   "metadata": {},
   "outputs": [
    {
     "data": {
      "text/plain": [
       "2.3076923076923075"
      ]
     },
     "execution_count": 796,
     "metadata": {},
     "output_type": "execute_result"
    }
   ],
   "source": [
    "10*3/13"
   ]
  },
  {
   "cell_type": "code",
   "execution_count": 797,
   "id": "0c48877b",
   "metadata": {},
   "outputs": [
    {
     "data": {
      "text/plain": [
       "(tensor([1, 2, 3, 4]), tensor([1, 1, 2, 2, 3, 3, 4, 4]))"
      ]
     },
     "execution_count": 797,
     "metadata": {},
     "output_type": "execute_result"
    }
   ],
   "source": [
    "x = torch.arange(1, 5)\n",
    "y = torch.repeat_interleave(x, 2)\n",
    "x, y"
   ]
  },
  {
   "cell_type": "code",
   "execution_count": 798,
   "id": "0c48877b",
   "metadata": {},
   "outputs": [
    {
     "data": {
      "text/plain": [
       "(tensor([[ 1,  2,  3],\n",
       "         [ 4,  5,  6],\n",
       "         [ 7,  8,  9],\n",
       "         [10, 11, 12]]),\n",
       " tensor([[ 1,  1,  2,  2,  3,  3],\n",
       "         [ 4,  4,  5,  5,  6,  6],\n",
       "         [ 7,  7,  8,  8,  9,  9],\n",
       "         [10, 10, 11, 11, 12, 12]]))"
      ]
     },
     "execution_count": 798,
     "metadata": {},
     "output_type": "execute_result"
    }
   ],
   "source": [
    "x = torch.arange(1, 13).view(4, 3)\n",
    "y = torch.repeat_interleave(x, 2, 1)\n",
    "x, y"
   ]
  },
  {
   "cell_type": "code",
   "execution_count": 799,
   "id": "0c48877b",
   "metadata": {},
   "outputs": [
    {
     "data": {
      "text/plain": [
       "(tensor([[ 1,  2,  3],\n",
       "         [ 4,  5,  6],\n",
       "         [ 7,  8,  9],\n",
       "         [10, 11, 12]]),\n",
       " tensor([[ 1,  1,  1,  2,  2,  2,  3,  3,  3],\n",
       "         [ 4,  4,  4,  5,  5,  5,  6,  6,  6],\n",
       "         [ 7,  7,  7,  8,  8,  8,  9,  9,  9],\n",
       "         [10, 10, 10, 11, 11, 11, 12, 12, 12]]))"
      ]
     },
     "execution_count": 799,
     "metadata": {},
     "output_type": "execute_result"
    }
   ],
   "source": [
    "x = torch.arange(1, 13).view(4, 3)\n",
    "y = torch.repeat_interleave(x, 3, 1)\n",
    "x, y"
   ]
  },
  {
   "cell_type": "code",
   "execution_count": 800,
   "id": "0f22e20d",
   "metadata": {},
   "outputs": [
    {
     "data": {
      "text/plain": [
       "(tensor([[ 1,  2,  3],\n",
       "         [ 4,  5,  6],\n",
       "         [ 7,  8,  9],\n",
       "         [10, 11, 12]]),\n",
       " tensor([[ 1,  2,  3],\n",
       "         [ 1,  2,  3],\n",
       "         [ 4,  5,  6],\n",
       "         [ 4,  5,  6],\n",
       "         [ 7,  8,  9],\n",
       "         [ 7,  8,  9],\n",
       "         [10, 11, 12],\n",
       "         [10, 11, 12]]))"
      ]
     },
     "execution_count": 800,
     "metadata": {},
     "output_type": "execute_result"
    }
   ],
   "source": [
    "x = torch.arange(1, 13).view(4, 3)\n",
    "y = torch.repeat_interleave(x, 2, 0)\n",
    "x, y"
   ]
  },
  {
   "cell_type": "code",
   "execution_count": 801,
   "id": "4a45fed5",
   "metadata": {},
   "outputs": [
    {
     "data": {
      "text/plain": [
       "(tensor([[ 1,  2,  3],\n",
       "         [ 4,  5,  6],\n",
       "         [ 7,  8,  9],\n",
       "         [10, 11, 12]]),\n",
       " tensor([[ 1,  2,  3,  1,  2,  3],\n",
       "         [ 4,  5,  6,  4,  5,  6],\n",
       "         [ 7,  8,  9,  7,  8,  9],\n",
       "         [10, 11, 12, 10, 11, 12]]))"
      ]
     },
     "execution_count": 801,
     "metadata": {},
     "output_type": "execute_result"
    }
   ],
   "source": [
    "x = torch.arange(1, 13).view(4, 3)\n",
    "y = torch.tile(x, (2, ))\n",
    "x, y"
   ]
  },
  {
   "cell_type": "code",
   "execution_count": 802,
   "id": "4a45fed5",
   "metadata": {},
   "outputs": [
    {
     "data": {
      "text/plain": [
       "(tensor([[ 1,  2,  3],\n",
       "         [ 4,  5,  6],\n",
       "         [ 7,  8,  9],\n",
       "         [10, 11, 12]]),\n",
       " tensor([[ 1,  2,  3,  1,  2,  3],\n",
       "         [ 4,  5,  6,  4,  5,  6],\n",
       "         [ 7,  8,  9,  7,  8,  9],\n",
       "         [10, 11, 12, 10, 11, 12]]))"
      ]
     },
     "execution_count": 802,
     "metadata": {},
     "output_type": "execute_result"
    }
   ],
   "source": [
    "x = torch.arange(1, 13).view(4, 3)\n",
    "y = torch.tile(x, (1, 2))\n",
    "x, y"
   ]
  },
  {
   "cell_type": "code",
   "execution_count": 803,
   "id": "4a45fed5",
   "metadata": {},
   "outputs": [
    {
     "data": {
      "text/plain": [
       "(tensor([[ 1,  2,  3],\n",
       "         [ 4,  5,  6],\n",
       "         [ 7,  8,  9],\n",
       "         [10, 11, 12]]),\n",
       " tensor([[ 1,  2,  3],\n",
       "         [ 4,  5,  6],\n",
       "         [ 7,  8,  9],\n",
       "         [10, 11, 12],\n",
       "         [ 1,  2,  3],\n",
       "         [ 4,  5,  6],\n",
       "         [ 7,  8,  9],\n",
       "         [10, 11, 12]]))"
      ]
     },
     "execution_count": 803,
     "metadata": {},
     "output_type": "execute_result"
    }
   ],
   "source": [
    "x = torch.arange(1, 13).view(4, 3)\n",
    "y = torch.tile(x, (2, 1))\n",
    "x, y"
   ]
  },
  {
   "cell_type": "code",
   "execution_count": 804,
   "id": "680c7f45",
   "metadata": {},
   "outputs": [
    {
     "data": {
      "text/plain": [
       "(tensor([[1, 2, 3],\n",
       "         [4, 5, 6],\n",
       "         [7, 8, 9]]),\n",
       " tensor([[1, 2, 3],\n",
       "         [4, 5, 6],\n",
       "         [7, 8, 9]]))"
      ]
     },
     "execution_count": 804,
     "metadata": {},
     "output_type": "execute_result"
    }
   ],
   "source": [
    "x = torch.arange(1, 10).view(3, 3)\n",
    "y = torch.roll(x, 0)\n",
    "x, y"
   ]
  },
  {
   "cell_type": "code",
   "execution_count": 1375,
   "id": "680c7f45",
   "metadata": {},
   "outputs": [
    {
     "data": {
      "text/plain": [
       "(tensor([[1, 2, 3],\n",
       "         [4, 5, 6],\n",
       "         [7, 8, 9]]),\n",
       " tensor([[9, 1, 2],\n",
       "         [3, 4, 5],\n",
       "         [6, 7, 8]]))"
      ]
     },
     "execution_count": 1375,
     "metadata": {},
     "output_type": "execute_result"
    }
   ],
   "source": [
    "x = torch.arange(1, 10).view(3, 3)\n",
    "y = torch.roll(x, shifts=1)\n",
    "x, y"
   ]
  },
  {
   "cell_type": "code",
   "execution_count": 806,
   "id": "172aaafc",
   "metadata": {},
   "outputs": [
    {
     "data": {
      "text/plain": [
       "(tensor([[1, 2, 3],\n",
       "         [4, 5, 6],\n",
       "         [7, 8, 9]]),\n",
       " tensor([[8, 9, 1],\n",
       "         [2, 3, 4],\n",
       "         [5, 6, 7]]))"
      ]
     },
     "execution_count": 806,
     "metadata": {},
     "output_type": "execute_result"
    }
   ],
   "source": [
    "x = torch.arange(1, 10).view(3, 3)\n",
    "y = torch.roll(x, 2) \n",
    "\"\"\"\n",
    "Roll the tensor input along the given dimension(s). Elements that are shifted beyond the last position are re-introduced at the first position. If dims is None, the tensor will be flattened before rolling and then restored to the original shape.\n",
    "\"\"\"\n",
    "x, y"
   ]
  },
  {
   "cell_type": "code",
   "execution_count": 807,
   "id": "ce189372",
   "metadata": {},
   "outputs": [
    {
     "data": {
      "text/plain": [
       "(tensor([[1, 2, 3],\n",
       "         [4, 5, 6],\n",
       "         [7, 8, 9]]),\n",
       " tensor([[1, 2, 3],\n",
       "         [4, 5, 6],\n",
       "         [7, 8, 9]]))"
      ]
     },
     "execution_count": 807,
     "metadata": {},
     "output_type": "execute_result"
    }
   ],
   "source": [
    "x = torch.arange(1, 10).view(3, 3)\n",
    "y = torch.roll(x, 9)\n",
    "x, y"
   ]
  },
  {
   "cell_type": "code",
   "execution_count": 808,
   "id": "20674e80",
   "metadata": {},
   "outputs": [
    {
     "data": {
      "text/plain": [
       "(tensor([[1, 2, 3],\n",
       "         [4, 5, 6],\n",
       "         [7, 8, 9]]),\n",
       " tensor([[9, 1, 2],\n",
       "         [3, 4, 5],\n",
       "         [6, 7, 8]]))"
      ]
     },
     "execution_count": 808,
     "metadata": {},
     "output_type": "execute_result"
    }
   ],
   "source": [
    "x = torch.arange(1, 10).view(3, 3)\n",
    "y = torch.roll(x, 10) \n",
    "x, y"
   ]
  },
  {
   "cell_type": "code",
   "execution_count": 809,
   "id": "680c7f45",
   "metadata": {},
   "outputs": [
    {
     "data": {
      "text/plain": [
       "(tensor([[1, 2, 3],\n",
       "         [4, 5, 6],\n",
       "         [7, 8, 9]]),\n",
       " tensor([[7, 8, 9],\n",
       "         [1, 2, 3],\n",
       "         [4, 5, 6]]))"
      ]
     },
     "execution_count": 809,
     "metadata": {},
     "output_type": "execute_result"
    }
   ],
   "source": [
    "x = torch.arange(1, 10).view(3, 3)\n",
    "y = torch.roll(x, 1, 0)\n",
    "x, y"
   ]
  },
  {
   "cell_type": "code",
   "execution_count": 1378,
   "id": "680c7f45",
   "metadata": {},
   "outputs": [
    {
     "data": {
      "text/plain": [
       "(tensor([[1, 2, 3],\n",
       "         [4, 5, 6],\n",
       "         [7, 8, 9]]),\n",
       " tensor([[3, 1, 2],\n",
       "         [6, 4, 5],\n",
       "         [9, 7, 8]]))"
      ]
     },
     "execution_count": 1378,
     "metadata": {},
     "output_type": "execute_result"
    }
   ],
   "source": [
    "x = torch.arange(1, 10).view(3, 3)\n",
    "y = torch.roll(x, 1, dims=1)\n",
    "x, y"
   ]
  },
  {
   "cell_type": "code",
   "execution_count": 1379,
   "id": "98d94cde",
   "metadata": {},
   "outputs": [
    {
     "data": {
      "text/plain": [
       "(tensor([[1, 2, 3],\n",
       "         [4, 5, 6],\n",
       "         [7, 8, 9]]),\n",
       " tensor([[2, 3, 1],\n",
       "         [5, 6, 4],\n",
       "         [8, 9, 7]]))"
      ]
     },
     "execution_count": 1379,
     "metadata": {},
     "output_type": "execute_result"
    }
   ],
   "source": [
    "x = torch.arange(1, 10).view(3, 3)\n",
    "y = torch.roll(x, -1, 1)\n",
    "x, y"
   ]
  },
  {
   "cell_type": "code",
   "execution_count": 812,
   "id": "98d94cde",
   "metadata": {},
   "outputs": [
    {
     "data": {
      "text/plain": [
       "(tensor([[1, 2, 3],\n",
       "         [4, 5, 6],\n",
       "         [7, 8, 9]]),\n",
       " tensor([[1, 2, 3],\n",
       "         [4, 5, 6],\n",
       "         [7, 8, 9]]))"
      ]
     },
     "execution_count": 812,
     "metadata": {},
     "output_type": "execute_result"
    }
   ],
   "source": [
    "x = torch.arange(1, 10).view(3, 3)\n",
    "y = torch.roll(x, 3, 1)\n",
    "x, y"
   ]
  },
  {
   "cell_type": "code",
   "execution_count": 813,
   "id": "842d5b88",
   "metadata": {},
   "outputs": [
    {
     "data": {
      "text/plain": [
       "(tensor([[1, 2, 3],\n",
       "         [4, 5, 6],\n",
       "         [7, 8, 9]]),\n",
       " tensor([[3, 1, 2],\n",
       "         [6, 4, 5],\n",
       "         [9, 7, 8]]))"
      ]
     },
     "execution_count": 813,
     "metadata": {},
     "output_type": "execute_result"
    }
   ],
   "source": [
    "x = torch.arange(1, 10).view(3, 3)\n",
    "y = torch.roll(x, 1, 1)\n",
    "x, y"
   ]
  },
  {
   "cell_type": "code",
   "execution_count": 814,
   "id": "b21c9b54",
   "metadata": {},
   "outputs": [
    {
     "data": {
      "text/plain": [
       "(tensor([[1, 2, 3],\n",
       "         [4, 5, 6],\n",
       "         [7, 8, 9]]),\n",
       " tensor([[3, 1, 2],\n",
       "         [6, 4, 5],\n",
       "         [9, 7, 8]]))"
      ]
     },
     "execution_count": 814,
     "metadata": {},
     "output_type": "execute_result"
    }
   ],
   "source": [
    "x = torch.arange(1, 10).view(3, 3)\n",
    "y = torch.roll(x, 4, 1)\n",
    "x, y"
   ]
  },
  {
   "cell_type": "code",
   "execution_count": 815,
   "id": "c8becf70",
   "metadata": {},
   "outputs": [
    {
     "data": {
      "text/plain": [
       "(tensor([[1, 2, 3],\n",
       "         [4, 5, 6],\n",
       "         [7, 8, 9]]),\n",
       " tensor([[8, 9, 7],\n",
       "         [2, 3, 1],\n",
       "         [5, 6, 4]]))"
      ]
     },
     "execution_count": 815,
     "metadata": {},
     "output_type": "execute_result"
    }
   ],
   "source": [
    "x = torch.arange(1, 10).view(3, 3)\n",
    "y = torch.roll(x, (1, 2),(0, -1))\n",
    "x, y"
   ]
  },
  {
   "cell_type": "code",
   "execution_count": 816,
   "id": "20a6a9e7",
   "metadata": {},
   "outputs": [
    {
     "data": {
      "text/plain": [
       "(tensor([[ 1,  3,  5,  7,  9],\n",
       "         [ 2,  4,  6,  8, 10]]),\n",
       " tensor([[1],\n",
       "         [4]]))"
      ]
     },
     "execution_count": 816,
     "metadata": {},
     "output_type": "execute_result"
    }
   ],
   "source": [
    "x = torch.tensor([[1, 3, 5, 7, 9], [2, 4, 6, 8, 10]])\n",
    "y = torch.searchsorted(x, torch.tensor([[3], [10]])) # bisect_search\n",
    "x, y"
   ]
  },
  {
   "cell_type": "code",
   "execution_count": 817,
   "id": "b21f9697",
   "metadata": {},
   "outputs": [
    {
     "data": {
      "text/plain": [
       "(tensor([[ 1,  3,  5,  7,  9],\n",
       "         [ 2,  4,  6,  8, 10]]),\n",
       " tensor([[1, 2],\n",
       "         [4, 5]]))"
      ]
     },
     "execution_count": 817,
     "metadata": {},
     "output_type": "execute_result"
    }
   ],
   "source": [
    "x = torch.tensor([[1, 3, 5, 7, 9], [2, 4, 6, 8, 10]])\n",
    "y = torch.searchsorted(x, torch.tensor([[3, 4], [10, 11]]))\n",
    "x, y"
   ]
  },
  {
   "cell_type": "code",
   "execution_count": 818,
   "id": "4dcd4ca3",
   "metadata": {},
   "outputs": [
    {
     "data": {
      "text/plain": [
       "(tensor([[ 1,  3,  5,  7,  9],\n",
       "         [ 2,  4,  6,  8, 10]]),\n",
       " tensor([[2, 2],\n",
       "         [5, 5]]))"
      ]
     },
     "execution_count": 818,
     "metadata": {},
     "output_type": "execute_result"
    }
   ],
   "source": [
    "x = torch.tensor([[1, 3, 5, 7, 9], [2, 4, 6, 8, 10]])\n",
    "y = torch.searchsorted(x, torch.tensor([[3, 4], [10, 11]]), side=\"right\")\n",
    "x, y"
   ]
  },
  {
   "cell_type": "code",
   "execution_count": 819,
   "id": "6281262d",
   "metadata": {},
   "outputs": [
    {
     "data": {
      "text/plain": [
       "(tensor([[ 1,  3,  5,  7,  9],\n",
       "         [ 2,  4,  6,  8, 10]]),\n",
       " tensor([[2, 2],\n",
       "         [5, 5]]))"
      ]
     },
     "execution_count": 819,
     "metadata": {},
     "output_type": "execute_result"
    }
   ],
   "source": [
    "x = torch.tensor([[1, 3, 5, 7, 9], [2, 4, 6, 8, 10]])\n",
    "y = torch.searchsorted(x, torch.tensor([[3, 4], [10, 11]]), side=\"right\", right=True)\n",
    "x, y"
   ]
  },
  {
   "cell_type": "code",
   "execution_count": 820,
   "id": "1380f27c",
   "metadata": {},
   "outputs": [
    {
     "data": {
      "text/plain": [
       "(tensor([[ 1,  3,  5,  7,  9],\n",
       "         [ 2,  4,  6,  8, 10]]),\n",
       " tensor([[2, 2],\n",
       "         [5, 5]]))"
      ]
     },
     "execution_count": 820,
     "metadata": {},
     "output_type": "execute_result"
    }
   ],
   "source": [
    "x = torch.tensor([[1, 3, 5, 7, 9], [2, 4, 6, 8, 10]])\n",
    "y = torch.searchsorted(x, torch.tensor([[3, 4], [10, 11]]), right=True)\n",
    "x, y"
   ]
  },
  {
   "cell_type": "code",
   "execution_count": 821,
   "id": "33aa9f40",
   "metadata": {},
   "outputs": [
    {
     "data": {
      "text/plain": [
       "(tensor([[ 1,  3,  5,  7,  9],\n",
       "         [ 2,  4,  6,  8, 10]]),\n",
       " tensor([[1, 2],\n",
       "         [4, 5]]))"
      ]
     },
     "execution_count": 821,
     "metadata": {},
     "output_type": "execute_result"
    }
   ],
   "source": [
    "x = torch.tensor([[1, 3, 5, 7, 9], [2, 4, 6, 8, 10]])\n",
    "y = torch.searchsorted(x, torch.tensor([[3, 4], [10, 11]]), right=False)\n",
    "x, y"
   ]
  },
  {
   "cell_type": "code",
   "execution_count": 822,
   "id": "bb785eed",
   "metadata": {},
   "outputs": [
    {
     "data": {
      "text/plain": [
       "(tensor([[ 1,  3,  5,  7,  9],\n",
       "         [ 2,  4,  6,  8, 10]]),\n",
       " tensor([[1, 2],\n",
       "         [4, 5]]))"
      ]
     },
     "execution_count": 822,
     "metadata": {},
     "output_type": "execute_result"
    }
   ],
   "source": [
    "x = torch.tensor([[1, 3, 5, 7, 9], [2, 4, 6, 8, 10]])\n",
    "y = torch.searchsorted(x, torch.tensor([[3, 4], [10, 11]]), right=False, side=\"left\")\n",
    "x, y"
   ]
  },
  {
   "cell_type": "code",
   "execution_count": 823,
   "id": "74f07506",
   "metadata": {},
   "outputs": [],
   "source": [
    "# x = torch.tensor([[1, 3, 5, 7, 9], [2, 4, 6, 8, 10]])\n",
    "# y = torch.searchsorted(x, torch.tensor([[3, 4], [10, 11]]), right=True, side=\"left\") # Error\n",
    "# x, y"
   ]
  },
  {
   "cell_type": "code",
   "execution_count": 824,
   "id": "5f177f37",
   "metadata": {},
   "outputs": [
    {
     "data": {
      "text/plain": [
       "(torch.Size([2, 4, 3]), torch.Size([2, 3, 4, 10]), torch.Size([2, 2, 10]))"
      ]
     },
     "execution_count": 824,
     "metadata": {},
     "output_type": "execute_result"
    }
   ],
   "source": [
    "x = torch.randn(2, 4, 3)\n",
    "y = torch.randn(2, 3, 4, 10)\n",
    "z = torch.tensordot(x, y, dims=[(1, 2), (2, 1)])\n",
    "x.shape, y.shape, z.shape"
   ]
  },
  {
   "cell_type": "code",
   "execution_count": 825,
   "id": "3bfb53ba",
   "metadata": {},
   "outputs": [
    {
     "data": {
      "text/plain": [
       "(torch.Size([2, 6, 3]), torch.Size([6, 3, 4, 10]), torch.Size([2, 4, 10]))"
      ]
     },
     "execution_count": 825,
     "metadata": {},
     "output_type": "execute_result"
    }
   ],
   "source": [
    "x = torch.randn(2, 6, 3)\n",
    "y = torch.randn(6, 3, 4, 10)\n",
    "z = torch.tensordot(x, y, dims=2)\n",
    "x.shape, y.shape, z.shape"
   ]
  },
  {
   "cell_type": "code",
   "execution_count": 826,
   "id": "2edac83b",
   "metadata": {},
   "outputs": [
    {
     "data": {
      "text/plain": [
       "(torch.Size([2, 6, 3]), torch.Size([6, 3, 4, 10]), torch.Size([2, 4, 10]))"
      ]
     },
     "execution_count": 826,
     "metadata": {},
     "output_type": "execute_result"
    }
   ],
   "source": [
    "x = torch.randn(2, 6, 3)\n",
    "y = torch.randn(6, 3, 4, 10)\n",
    "z = torch.tensordot(x, y, dims=2)\n",
    "x.shape, y.shape, z.shape"
   ]
  },
  {
   "cell_type": "code",
   "execution_count": 827,
   "id": "3342fa93",
   "metadata": {},
   "outputs": [
    {
     "data": {
      "text/plain": [
       "(tensor([1, 2, 3]), tensor(14))"
      ]
     },
     "execution_count": 827,
     "metadata": {},
     "output_type": "execute_result"
    }
   ],
   "source": [
    "x = torch.tensor([1, 2, 3])\n",
    "y = torch.tensordot(x, x, [(0, ), (0, )])\n",
    "x, y"
   ]
  },
  {
   "cell_type": "code",
   "execution_count": 828,
   "id": "afb8ada2",
   "metadata": {},
   "outputs": [
    {
     "data": {
      "text/plain": [
       "(tensor([1, 2, 3]), tensor(14))"
      ]
     },
     "execution_count": 828,
     "metadata": {},
     "output_type": "execute_result"
    }
   ],
   "source": [
    "x = torch.tensor([1, 2, 3])\n",
    "y = torch.tensordot(x, x, 1)\n",
    "x, y"
   ]
  },
  {
   "cell_type": "code",
   "execution_count": 829,
   "id": "a8cd594a",
   "metadata": {},
   "outputs": [
    {
     "data": {
      "text/plain": [
       "(tensor([1, 2, 3]),\n",
       " tensor([[1, 2, 3],\n",
       "         [2, 4, 6],\n",
       "         [3, 6, 9]]))"
      ]
     },
     "execution_count": 829,
     "metadata": {},
     "output_type": "execute_result"
    }
   ],
   "source": [
    "x = torch.tensor([1, 2, 3])\n",
    "y = torch.tensordot(x, x, 0)\n",
    "x, y"
   ]
  },
  {
   "cell_type": "code",
   "execution_count": 830,
   "id": "3f8e1020",
   "metadata": {},
   "outputs": [
    {
     "data": {
      "text/plain": [
       "(torch.Size([10, 4]), torch.Size([4]), torch.Size([10]))"
      ]
     },
     "execution_count": 830,
     "metadata": {},
     "output_type": "execute_result"
    }
   ],
   "source": [
    "x = torch.randn(10, 4)\n",
    "w = torch.randn((4, ))\n",
    "z = torch.tensordot(x, w, [(1, ), (0, )])\n",
    "x.shape, w.shape, z.shape"
   ]
  },
  {
   "cell_type": "code",
   "execution_count": 831,
   "id": "33d8f12a",
   "metadata": {},
   "outputs": [
    {
     "data": {
      "text/plain": [
       "(torch.Size([10, 4]), torch.Size([4]), torch.Size([10]))"
      ]
     },
     "execution_count": 831,
     "metadata": {},
     "output_type": "execute_result"
    }
   ],
   "source": [
    "x = torch.randn(10, 4)\n",
    "w = torch.randn(4,)\n",
    "z = torch.tensordot(x, w, 1)\n",
    "x.shape, w.shape, z.shape"
   ]
  },
  {
   "cell_type": "code",
   "execution_count": 832,
   "id": "6196879a",
   "metadata": {},
   "outputs": [
    {
     "data": {
      "text/plain": [
       "(torch.Size([10, 4]), torch.Size([1, 4]), torch.Size([]), tensor(-3.4823))"
      ]
     },
     "execution_count": 832,
     "metadata": {},
     "output_type": "execute_result"
    }
   ],
   "source": [
    "x = torch.randn(10, 4)\n",
    "w = torch.randn((1, 4, ))\n",
    "z = torch.tensordot(x, w, [(0, 1, ), (0, 1)])\n",
    "x.shape, w.shape, z.shape, z"
   ]
  },
  {
   "cell_type": "code",
   "execution_count": 833,
   "id": "bf8e463b",
   "metadata": {},
   "outputs": [
    {
     "data": {
      "text/plain": [
       "(tensor([[1., 0., 0., 0., 0.],\n",
       "         [0., 1., 0., 0., 0.],\n",
       "         [0., 0., 1., 0., 0.],\n",
       "         [0., 0., 0., 1., 0.],\n",
       "         [0., 0., 0., 0., 1.]]),\n",
       " tensor(5.))"
      ]
     },
     "execution_count": 833,
     "metadata": {},
     "output_type": "execute_result"
    }
   ],
   "source": [
    "x = torch.eye(5)\n",
    "y = torch.trace(x)\n",
    "x, y"
   ]
  },
  {
   "cell_type": "code",
   "execution_count": 1382,
   "id": "9ed1380c",
   "metadata": {},
   "outputs": [
    {
     "data": {
      "text/plain": [
       "(tensor([[-1.1258, -1.1524, -0.2506, -0.4339,  0.5988],\n",
       "         [-1.5551, -0.3414,  1.8530,  0.4681, -0.1577],\n",
       "         [ 1.4437,  0.2660,  1.3894,  1.5863,  0.9463],\n",
       "         [-0.8437,  0.9318,  1.2590,  2.0050,  0.0537]]),\n",
       " tensor([[-1.1258,  0.0000,  0.0000,  0.0000,  0.0000],\n",
       "         [-1.5551, -0.3414,  0.0000,  0.0000,  0.0000],\n",
       "         [ 1.4437,  0.2660,  1.3894,  0.0000,  0.0000],\n",
       "         [-0.8437,  0.9318,  1.2590,  2.0050,  0.0000]]))"
      ]
     },
     "execution_count": 1382,
     "metadata": {},
     "output_type": "execute_result"
    }
   ],
   "source": [
    "torch.manual_seed(0)\n",
    "x = torch.randn(4, 5)\n",
    "y = torch.tril(x)\n",
    "x, y"
   ]
  },
  {
   "cell_type": "code",
   "execution_count": 835,
   "id": "2067de8e",
   "metadata": {},
   "outputs": [
    {
     "data": {
      "text/plain": [
       "(tensor([[ 0.7472, -2.3159,  0.3861, -0.9314,  0.4962],\n",
       "         [-1.1912, -0.7544,  1.0279, -1.3733, -1.3151],\n",
       "         [ 0.3104, -1.5805,  0.1032,  0.7193, -1.5687],\n",
       "         [ 1.1340,  0.1088, -0.5270,  0.1177, -0.9916]]),\n",
       " tensor([[ 0.7472, -2.3159,  0.0000,  0.0000,  0.0000],\n",
       "         [-1.1912, -0.7544,  1.0279,  0.0000,  0.0000],\n",
       "         [ 0.3104, -1.5805,  0.1032,  0.7193,  0.0000],\n",
       "         [ 1.1340,  0.1088, -0.5270,  0.1177, -0.9916]]))"
      ]
     },
     "execution_count": 835,
     "metadata": {},
     "output_type": "execute_result"
    }
   ],
   "source": [
    "x = torch.randn(4, 5)\n",
    "y = torch.tril(x, 1)\n",
    "x, y"
   ]
  },
  {
   "cell_type": "code",
   "execution_count": 836,
   "id": "73942ec8",
   "metadata": {},
   "outputs": [
    {
     "data": {
      "text/plain": [
       "(tensor([[-0.2256,  0.4482, -0.0363,  0.5221, -1.4654],\n",
       "         [ 0.0171, -0.1031, -2.1439,  1.7196, -1.9324],\n",
       "         [-2.3089, -1.2689, -0.4462, -0.4866,  1.8644],\n",
       "         [-1.0131,  1.2226, -1.0785, -0.5635,  0.2629]]),\n",
       " tensor([[-0.2256,  0.4482, -0.0363,  0.0000,  0.0000],\n",
       "         [ 0.0171, -0.1031, -2.1439,  1.7196,  0.0000],\n",
       "         [-2.3089, -1.2689, -0.4462, -0.4866,  1.8644],\n",
       "         [-1.0131,  1.2226, -1.0785, -0.5635,  0.2629]]))"
      ]
     },
     "execution_count": 836,
     "metadata": {},
     "output_type": "execute_result"
    }
   ],
   "source": [
    "x = torch.randn(4, 5)\n",
    "y = torch.tril(x, 2)\n",
    "x, y"
   ]
  },
  {
   "cell_type": "code",
   "execution_count": 837,
   "id": "2ead8897",
   "metadata": {},
   "outputs": [
    {
     "data": {
      "text/plain": [
       "(tensor([[ 0.3116,  0.9994,  0.0421,  1.3953, -0.5135],\n",
       "         [-0.3973,  1.1066, -1.9553, -0.0758, -2.0540],\n",
       "         [-1.9300,  0.0733, -1.7251,  0.3169, -0.3121],\n",
       "         [-1.6814,  0.7694,  1.1013,  0.2713,  0.9725]]),\n",
       " tensor([[ 0.3116,  0.9994,  0.0421,  1.3953, -0.5135],\n",
       "         [-0.3973,  1.1066, -1.9553, -0.0758, -2.0540],\n",
       "         [-1.9300,  0.0733, -1.7251,  0.3169, -0.3121],\n",
       "         [-1.6814,  0.7694,  1.1013,  0.2713,  0.9725]]))"
      ]
     },
     "execution_count": 837,
     "metadata": {},
     "output_type": "execute_result"
    }
   ],
   "source": [
    "x = torch.randn(4, 5)\n",
    "y = torch.tril(x, 12)\n",
    "x, y"
   ]
  },
  {
   "cell_type": "code",
   "execution_count": 838,
   "id": "ebbcc198",
   "metadata": {},
   "outputs": [
    {
     "data": {
      "text/plain": [
       "(tensor([[ 1.1096,  0.3692,  1.8329,  0.1788,  0.2425],\n",
       "         [ 0.3800, -0.5947, -0.7297,  0.0620, -0.1482],\n",
       "         [-0.2496,  0.0927,  2.6936, -0.7209, -0.6927],\n",
       "         [-1.3371, -0.3692, -0.7407, -0.4709,  0.8817]]),\n",
       " tensor([[ 0.0000,  0.0000,  0.0000,  0.0000,  0.0000],\n",
       "         [ 0.3800,  0.0000,  0.0000,  0.0000,  0.0000],\n",
       "         [-0.2496,  0.0927,  0.0000,  0.0000,  0.0000],\n",
       "         [-1.3371, -0.3692, -0.7407,  0.0000,  0.0000]]))"
      ]
     },
     "execution_count": 838,
     "metadata": {},
     "output_type": "execute_result"
    }
   ],
   "source": [
    "x = torch.randn(4, 5)\n",
    "y = torch.tril(x, -1)\n",
    "x, y"
   ]
  },
  {
   "cell_type": "code",
   "execution_count": 839,
   "id": "a0b3adc4",
   "metadata": {},
   "outputs": [
    {
     "data": {
      "text/plain": [
       "(tensor([[ 2.2488, -0.8913,  1.0375, -0.1524, -2.0789],\n",
       "         [ 0.7059,  0.0737, -1.5731, -1.0325, -0.3373],\n",
       "         [ 1.0106,  0.2794, -1.3872,  0.4690, -0.4593],\n",
       "         [ 1.3420, -0.4591, -0.9949,  1.3445,  1.0545]]),\n",
       " tensor([[0., 0., 0., 0., 0.],\n",
       "         [0., 0., 0., 0., 0.],\n",
       "         [0., 0., 0., 0., 0.],\n",
       "         [0., 0., 0., 0., 0.]]))"
      ]
     },
     "execution_count": 839,
     "metadata": {},
     "output_type": "execute_result"
    }
   ],
   "source": [
    "x = torch.randn(4, 5)\n",
    "y = torch.tril(x, -12)\n",
    "x, y\n"
   ]
  },
  {
   "cell_type": "code",
   "execution_count": 840,
   "id": "3a397445",
   "metadata": {},
   "outputs": [
    {
     "data": {
      "text/plain": [
       "(tensor([[0, 0, 0, 1, 1, 2],\n",
       "         [0, 1, 2, 1, 2, 2]]),\n",
       " tensor([[-0.4120, -0.1431, -0.1459],\n",
       "         [ 0.2963,  0.6481, -0.5681],\n",
       "         [-0.3464, -0.9108,  0.6783]]),\n",
       " tensor([[-0.4120, -0.1431, -0.1459],\n",
       "         [ 0.0000,  0.6481, -0.5681],\n",
       "         [ 0.0000,  0.0000,  0.6783]]),\n",
       " tensor([[-0.4120, -0.1431, -0.1459],\n",
       "         [ 0.0000,  0.6481, -0.5681],\n",
       "         [ 0.0000,  0.0000,  0.6783]]))"
      ]
     },
     "execution_count": 840,
     "metadata": {},
     "output_type": "execute_result"
    }
   ],
   "source": [
    "indices = torch.triu_indices(3, 3)\n",
    "x = torch.randn(3, 3)\n",
    "y = torch.empty(size=(3, 3), dtype=x.dtype).fill_(0)\n",
    "y[indices[0], indices[1]] = x[indices[0], indices[1]]\n",
    "z = torch.triu(x)\n",
    "indices, x, y, z"
   ]
  },
  {
   "cell_type": "code",
   "execution_count": 841,
   "id": "0141a345",
   "metadata": {},
   "outputs": [
    {
     "data": {
      "text/plain": [
       "(tensor([[0, 0, 1],\n",
       "         [1, 2, 2]]),\n",
       " tensor([[ 0.4168, -0.8088,  2.5595],\n",
       "         [-0.7882, -0.1090,  0.3864],\n",
       "         [ 1.4855, -0.4217, -0.1133]]),\n",
       " tensor([[ 0.0000, -0.8088,  2.5595],\n",
       "         [ 0.0000,  0.0000,  0.3864],\n",
       "         [ 0.0000,  0.0000,  0.0000]]),\n",
       " tensor([[ 0.4168, -0.8088,  2.5595],\n",
       "         [ 0.0000, -0.1090,  0.3864],\n",
       "         [ 0.0000,  0.0000, -0.1133]]))"
      ]
     },
     "execution_count": 841,
     "metadata": {},
     "output_type": "execute_result"
    }
   ],
   "source": [
    "indices = torch.triu_indices(3, 3, offset=1)\n",
    "x = torch.randn(3, 3)\n",
    "y = torch.empty(size=(3, 3), dtype=x.dtype).fill_(0)\n",
    "y[indices[0], indices[1]] = x[indices[0], indices[1]]\n",
    "z = torch.triu(x)\n",
    "indices, x, y, z"
   ]
  },
  {
   "cell_type": "code",
   "execution_count": 842,
   "id": "93ebf6cd",
   "metadata": {},
   "outputs": [
    {
     "data": {
      "text/plain": [
       "(tensor([], size=(2, 0), dtype=torch.int64),\n",
       " tensor([[-0.4916,  0.1706,  0.6539],\n",
       "         [-2.5486,  0.9710,  0.4175],\n",
       "         [ 1.2207, -1.2526,  0.1575]]),\n",
       " tensor([[0., 0., 0.],\n",
       "         [0., 0., 0.],\n",
       "         [0., 0., 0.]]),\n",
       " tensor([[-0.4916,  0.1706,  0.6539],\n",
       "         [ 0.0000,  0.9710,  0.4175],\n",
       "         [ 0.0000,  0.0000,  0.1575]]))"
      ]
     },
     "execution_count": 842,
     "metadata": {},
     "output_type": "execute_result"
    }
   ],
   "source": [
    "indices = torch.triu_indices(3, 3, offset=10)\n",
    "x = torch.randn(3, 3)\n",
    "y = torch.empty(size=(3, 3), dtype=x.dtype).fill_(0)\n",
    "y[indices[0], indices[1]] = x[indices[0], indices[1]]\n",
    "z = torch.triu(x)\n",
    "indices, x, y, z"
   ]
  },
  {
   "cell_type": "code",
   "execution_count": 843,
   "id": "97146770",
   "metadata": {},
   "outputs": [
    {
     "data": {
      "text/plain": [
       "(torch.Size([3, 4, 2, 3]), torch.Size([3, 24]))"
      ]
     },
     "execution_count": 843,
     "metadata": {},
     "output_type": "execute_result"
    }
   ],
   "source": [
    "x = torch.randn(3, 4, 2, 3)\n",
    "y = torch.flatten(x, 1)\n",
    "x.shape, y.shape"
   ]
  },
  {
   "cell_type": "code",
   "execution_count": 844,
   "id": "512f263a",
   "metadata": {},
   "outputs": [],
   "source": [
    "# x = torch.randn(3, 4, 2, 3)\n",
    "# y = torch.unflatten(x, 1, (2, 2), 2, 3)\n",
    "# x.shape, y.shape # vi.13.1 (3, 2, 2, 2, 3)"
   ]
  },
  {
   "cell_type": "code",
   "execution_count": 845,
   "id": "e4d0456d",
   "metadata": {},
   "outputs": [
    {
     "data": {
      "text/plain": [
       "(tensor([1, 2, 3, 5]),\n",
       " tensor([[  1,   1,   1,   1],\n",
       "         [  8,   4,   2,   1],\n",
       "         [ 27,   9,   3,   1],\n",
       "         [125,  25,   5,   1]]))"
      ]
     },
     "execution_count": 845,
     "metadata": {},
     "output_type": "execute_result"
    }
   ],
   "source": [
    "x = torch.tensor([1, 2, 3, 5])\n",
    "y = torch.vander(x)\n",
    "x, y"
   ]
  },
  {
   "cell_type": "code",
   "execution_count": 846,
   "id": "dddd8fb2",
   "metadata": {},
   "outputs": [
    {
     "data": {
      "text/plain": [
       "(tensor([ 1.0000+0.0000j,  0.4778-0.6328j, -0.5658-0.3575j]),\n",
       " tensor([[ 1.0000,  0.0000],\n",
       "         [ 0.4778, -0.6328],\n",
       "         [-0.5658, -0.3575]]))"
      ]
     },
     "execution_count": 846,
     "metadata": {},
     "output_type": "execute_result"
    }
   ],
   "source": [
    "x = torch.randn(3, dtype=torch.cfloat)\n",
    "y = torch.view_as_real(x)\n",
    "x[0] = 1\n",
    "x, y"
   ]
  },
  {
   "cell_type": "code",
   "execution_count": 847,
   "id": "9ad643ab",
   "metadata": {},
   "outputs": [
    {
     "data": {
      "text/plain": [
       "(tensor([[ 0.0620,  0.8725],\n",
       "         [ 0.1777, -2.7480],\n",
       "         [-0.5489,  0.2484],\n",
       "         [-1.2654,  1.2056]]),\n",
       " tensor([ 0.0620+0.8725j,  0.1777-2.7480j, -0.5489+0.2484j, -1.2654+1.2056j]))"
      ]
     },
     "execution_count": 847,
     "metadata": {},
     "output_type": "execute_result"
    }
   ],
   "source": [
    "x = torch.randn((4, 2), dtype=torch.float)\n",
    "y = torch.view_as_complex(x)\n",
    "x, y"
   ]
  },
  {
   "cell_type": "code",
   "execution_count": 848,
   "id": "72ee9932",
   "metadata": {},
   "outputs": [
    {
     "data": {
      "text/plain": [
       "torch.Size([3, 5])"
      ]
     },
     "execution_count": 848,
     "metadata": {},
     "output_type": "execute_result"
    }
   ],
   "source": [
    "b1 = torch.randn(10, 3, 4)\n",
    "b2 = torch.randn(10, 4, 5)\n",
    "M = torch.randn(3, 5)\n",
    "x = torch.addbmm(M, b1, b2,)\n",
    "x.shape"
   ]
  },
  {
   "cell_type": "code",
   "execution_count": 849,
   "id": "9cb819ba",
   "metadata": {},
   "outputs": [
    {
     "data": {
      "text/plain": [
       "tensor([[-0.6900, -1.6444, -2.6803],\n",
       "        [ 2.9639, -2.9640, -1.5327]])"
      ]
     },
     "execution_count": 849,
     "metadata": {},
     "output_type": "execute_result"
    }
   ],
   "source": [
    "M = torch.randn(2, 3)\n",
    "mat1 = torch.randn(2, 3)\n",
    "mat2 = torch.randn(3, 3)\n",
    "torch.addmm(M, mat1, mat2)"
   ]
  },
  {
   "cell_type": "code",
   "execution_count": 850,
   "id": "f23f7270",
   "metadata": {},
   "outputs": [
    {
     "data": {
      "text/plain": [
       "tensor([0.0106, 1.1353])"
      ]
     },
     "execution_count": 850,
     "metadata": {},
     "output_type": "execute_result"
    }
   ],
   "source": [
    "M = torch.randn(2)\n",
    "mat = torch.randn(2, 3)\n",
    "vec = torch.randn(3)\n",
    "torch.addmv(M, mat, vec)"
   ]
  },
  {
   "cell_type": "code",
   "execution_count": 851,
   "id": "1f48c8d9",
   "metadata": {},
   "outputs": [
    {
     "data": {
      "text/plain": [
       "(tensor([[1., 2.],\n",
       "         [2., 4.],\n",
       "         [3., 6.]]),\n",
       " tensor([1., 2., 2., 4., 3., 6.]))"
      ]
     },
     "execution_count": 851,
     "metadata": {},
     "output_type": "execute_result"
    }
   ],
   "source": [
    "vec1 = torch.arange(1., 4.)\n",
    "vec2 = torch.arange(1., 3.)\n",
    "M = torch.zeros(3, 2)\n",
    "torch.addr(M, vec1, vec2), torch.kron(vec1, vec2)"
   ]
  },
  {
   "cell_type": "code",
   "execution_count": 852,
   "id": "f2ad5e70",
   "metadata": {},
   "outputs": [
    {
     "data": {
      "text/plain": [
       "tensor([1., 2., 2., 4., 3., 6.])"
      ]
     },
     "execution_count": 852,
     "metadata": {},
     "output_type": "execute_result"
    }
   ],
   "source": [
    "torch.kron(vec1, vec2)"
   ]
  },
  {
   "cell_type": "code",
   "execution_count": 853,
   "id": "daa9a9a4",
   "metadata": {},
   "outputs": [
    {
     "data": {
      "text/plain": [
       "torch.Size([3, 5])"
      ]
     },
     "execution_count": 853,
     "metadata": {},
     "output_type": "execute_result"
    }
   ],
   "source": [
    "b1 = torch.randn(10, 3, 4)\n",
    "b2 = torch.randn(10, 4, 5)\n",
    "M = torch.randn(3, 5)\n",
    "x = torch.addbmm(M, b1, b2,) # = M + sum_{i=0, i=9}(b1_i @ b2_i)\n",
    "x.shape"
   ]
  },
  {
   "cell_type": "code",
   "execution_count": 854,
   "id": "47021d20",
   "metadata": {},
   "outputs": [
    {
     "data": {
      "text/plain": [
       "torch.Size([3, 5])"
      ]
     },
     "execution_count": 854,
     "metadata": {},
     "output_type": "execute_result"
    }
   ],
   "source": [
    "b1 = torch.randn(10, 3, 4)\n",
    "b2 = torch.randn(10, 4, 5)\n",
    "M = torch.randn(3, 5)\n",
    "x = torch.addbmm(M, b1, b2,) # = M + sum_{i=0, i=9}(b1_i @ b2_i)\n",
    "x.shape"
   ]
  },
  {
   "cell_type": "code",
   "execution_count": 855,
   "id": "82a8efa8",
   "metadata": {},
   "outputs": [
    {
     "name": "stdout",
     "output_type": "stream",
     "text": [
      "torch.Size([3, 5]) torch.Size([3, 5]) True\n"
     ]
    },
    {
     "data": {
      "text/plain": [
       "(tensor([  1.7124,  -8.9462,  -6.0957,  -7.1705, -10.7196]),\n",
       " tensor([  1.7124,  -8.9462,  -6.0957,  -7.1705, -10.7196]),\n",
       " tensor(-3.1292e-06))"
      ]
     },
     "execution_count": 855,
     "metadata": {},
     "output_type": "execute_result"
    }
   ],
   "source": [
    "b1 = torch.randn(10, 3, 4)\n",
    "b2 = torch.randn(10, 4, 5)\n",
    "M = torch.randn(3, 5)\n",
    "x = torch.addbmm(M, b1, b2,) \n",
    "w = M + (b1@b2).sum(axis=0)\n",
    "print(x.shape, w.shape, torch.allclose(x, w))\n",
    "x[0], w[0], (x-w).sum()"
   ]
  },
  {
   "cell_type": "code",
   "execution_count": 856,
   "id": "31e65be5",
   "metadata": {},
   "outputs": [
    {
     "data": {
      "text/plain": [
       "torch.Size([3, 5])"
      ]
     },
     "execution_count": 856,
     "metadata": {},
     "output_type": "execute_result"
    }
   ],
   "source": [
    "b1 = torch.randn(3, 4)\n",
    "b2 = torch.randn(4, 5)\n",
    "M = torch.randn(3, 5)\n",
    "x = torch.addmm(M, b1, b2,) \n",
    "x.shape"
   ]
  },
  {
   "cell_type": "code",
   "execution_count": 857,
   "id": "76d2ef2f",
   "metadata": {},
   "outputs": [
    {
     "data": {
      "text/plain": [
       "torch.Size([3])"
      ]
     },
     "execution_count": 857,
     "metadata": {},
     "output_type": "execute_result"
    }
   ],
   "source": [
    "b1 = torch.randn(3, 5)\n",
    "b2 = torch.randn(5)\n",
    "M = torch.randn(3)\n",
    "x = torch.addmv(M, b1, b2,) \n",
    "x.shape"
   ]
  },
  {
   "cell_type": "code",
   "execution_count": 858,
   "id": "89fe81d6",
   "metadata": {},
   "outputs": [
    {
     "data": {
      "text/plain": [
       "torch.Size([3])"
      ]
     },
     "execution_count": 858,
     "metadata": {},
     "output_type": "execute_result"
    }
   ],
   "source": [
    "b1 = torch.randn(3, 5)\n",
    "b2 = torch.randn(5)\n",
    "M = torch.randn(1)\n",
    "x = torch.addmv(M, b1, b2,) \n",
    "x.shape"
   ]
  },
  {
   "cell_type": "code",
   "execution_count": 859,
   "id": "219a1fb7",
   "metadata": {},
   "outputs": [],
   "source": [
    "# b1 = torch.randn(10, 3, 4)\n",
    "# b2 = torch.randn(10, 4, 5)\n",
    "# M = torch.randn(10, 3, 5)\n",
    "# x = torch.addmm(M, b1, b2,) # mat1 must be a matrix \n",
    "# x.shape"
   ]
  },
  {
   "cell_type": "code",
   "execution_count": 860,
   "id": "f3dd8595",
   "metadata": {},
   "outputs": [
    {
     "data": {
      "text/plain": [
       "torch.Size([5, 5])"
      ]
     },
     "execution_count": 860,
     "metadata": {},
     "output_type": "execute_result"
    }
   ],
   "source": [
    "b1 = torch.randn(5)\n",
    "b2 = torch.randn(5)\n",
    "M = torch.randn(1)\n",
    "x = torch.addr(M, b1, b2,) \n",
    "x.shape"
   ]
  },
  {
   "cell_type": "code",
   "execution_count": 861,
   "id": "d81752a0",
   "metadata": {},
   "outputs": [
    {
     "data": {
      "text/plain": [
       "torch.Size([10, 3, 5])"
      ]
     },
     "execution_count": 861,
     "metadata": {},
     "output_type": "execute_result"
    }
   ],
   "source": [
    "b1 = torch.randn(10, 3, 4)\n",
    "b2 = torch.randn(10, 4, 5)\n",
    "x = torch.bmm(b1, b2,)\n",
    "x.size()"
   ]
  },
  {
   "cell_type": "code",
   "execution_count": 862,
   "id": "5108a2cc",
   "metadata": {},
   "outputs": [
    {
     "data": {
      "text/plain": [
       "torch.Size([10, 3, 5])"
      ]
     },
     "execution_count": 862,
     "metadata": {},
     "output_type": "execute_result"
    }
   ],
   "source": [
    "b1 = torch.randn(10, 3, 4)\n",
    "b2 = torch.randn(10, 4, 5)\n",
    "M = torch.randn(10, 3, 5)\n",
    "x = torch.baddbmm(M, b1, b2,) \n",
    "x.shape"
   ]
  },
  {
   "cell_type": "code",
   "execution_count": 863,
   "id": "8b1fe6b5",
   "metadata": {},
   "outputs": [
    {
     "data": {
      "text/plain": [
       "torch.Size([10, 3, 5])"
      ]
     },
     "execution_count": 863,
     "metadata": {},
     "output_type": "execute_result"
    }
   ],
   "source": [
    "b1 = torch.randn(10, 3, 4)\n",
    "b2 = torch.randn(10, 4, 5)\n",
    "M = torch.randn(3, 5)\n",
    "x = torch.baddbmm(M, b1, b2,) \n",
    "x.shape"
   ]
  },
  {
   "cell_type": "code",
   "execution_count": 864,
   "id": "4acd7cbe",
   "metadata": {},
   "outputs": [
    {
     "name": "stderr",
     "output_type": "stream",
     "text": [
      "/home/mtb/env/lib/python3.9/site-packages/torch/functional.py:1626: UserWarning: torch.chain_matmul is deprecated and will be removed in a future PyTorch release. Use torch.linalg.multi_dot instead, which accepts a list of two or more tensors rather than multiple parameters. (Triggered internally at ../aten/src/ATen/native/LinearAlgebra.cpp:1079.)\n",
      "  return _VF.chain_matmul(matrices)  # type: ignore[attr-defined]\n"
     ]
    },
    {
     "data": {
      "text/plain": [
       "tensor([[  2.4150,  -7.7080,  -9.4596,  -1.5324,  -0.9475,  -2.3734,   4.9824],\n",
       "        [ -7.6586, -18.4708, -14.3795,  16.3256,  -3.6935,  -6.1310,  -4.5999],\n",
       "        [ -0.0202, -13.4761,  -8.8585,   8.0996,  -7.3388,   4.8497,   4.8646]])"
      ]
     },
     "execution_count": 864,
     "metadata": {},
     "output_type": "execute_result"
    }
   ],
   "source": [
    "a = torch.randn(3, 4)\n",
    "b = torch.randn(4, 5)\n",
    "c = torch.randn(5, 6)\n",
    "d = torch.randn(6, 7)\n",
    "# will raise a deprecation warning\n",
    "torch.chain_matmul(a, b, c, d)"
   ]
  },
  {
   "cell_type": "code",
   "execution_count": 865,
   "id": "191fbabb",
   "metadata": {},
   "outputs": [
    {
     "name": "stderr",
     "output_type": "stream",
     "text": [
      "/tmp/ipykernel_11384/1657277021.py:3: UserWarning: torch.cholesky is deprecated in favor of torch.linalg.cholesky and will be removed in a future PyTorch release.\n",
      "L = torch.cholesky(A)\n",
      "should be replaced with\n",
      "L = torch.linalg.cholesky(A)\n",
      "and\n",
      "U = torch.cholesky(A, upper=True)\n",
      "should be replaced with\n",
      "U = torch.linalg.cholesky(A).mH().\n",
      "This transform will produce equivalent results for all valid (symmetric positive definite) inputs. (Triggered internally at ../aten/src/ATen/native/BatchLinearAlgebra.cpp:1691.)\n",
      "  y = torch.cholesky(z)\n"
     ]
    },
    {
     "data": {
      "text/plain": [
       "(tensor([[ 0.3183, -1.3639, -0.4403],\n",
       "         [ 0.5187, -0.3453,  2.9636],\n",
       "         [-0.3499, -0.1567,  1.8309]]),\n",
       " tensor([[ 2.1555, -0.6688, -0.7039],\n",
       "         [-0.6688,  9.1711,  5.2985],\n",
       "         [-0.7039,  5.2985,  3.4990]]),\n",
       " tensor([[ 1.4682,  0.0000,  0.0000],\n",
       "         [-0.4555,  2.9939,  0.0000],\n",
       "         [-0.4794,  1.6968,  0.6245]]))"
      ]
     },
     "execution_count": 865,
     "metadata": {},
     "output_type": "execute_result"
    }
   ],
   "source": [
    "x = torch.randn(3, 3)\n",
    "z = x @ x.mT\n",
    "y = torch.cholesky(z)\n",
    "x, z, y"
   ]
  },
  {
   "cell_type": "code",
   "execution_count": 866,
   "id": "100c8372",
   "metadata": {},
   "outputs": [
    {
     "data": {
      "text/plain": [
       "(tensor([1., 2., 3.]),\n",
       " tensor([1., 2.]),\n",
       " tensor([[1., 2.],\n",
       "         [2., 4.],\n",
       "         [3., 6.]]),\n",
       " tensor([[1., 2.],\n",
       "         [2., 4.],\n",
       "         [3., 6.]]))"
      ]
     },
     "execution_count": 866,
     "metadata": {},
     "output_type": "execute_result"
    }
   ],
   "source": [
    "vec1 = torch.arange(1., 4.)\n",
    "vec2 = torch.arange(1., 3.)\n",
    "vec1, vec2,torch.outer(vec1, vec2), torch.ger(vec1, vec2)"
   ]
  },
  {
   "cell_type": "code",
   "execution_count": 867,
   "id": "83676f4b",
   "metadata": {},
   "outputs": [
    {
     "data": {
      "text/plain": [
       "(tensor([4., 5.]), tensor([1., 2.]), tensor(14.))"
      ]
     },
     "execution_count": 867,
     "metadata": {},
     "output_type": "execute_result"
    }
   ],
   "source": [
    "vec1 = torch.arange(4., 6.)\n",
    "vec2 = torch.arange(1., 3.)\n",
    "vec1, vec2, torch.inner(vec1, vec2)"
   ]
  },
  {
   "cell_type": "code",
   "execution_count": 868,
   "id": "ac0a2b75",
   "metadata": {},
   "outputs": [
    {
     "data": {
      "text/plain": [
       "(tensor([[5., 6.],\n",
       "         [7., 8.]]),\n",
       " tensor([[1., 2.],\n",
       "         [3., 4.],\n",
       "         [5., 6.],\n",
       "         [7., 8.]]),\n",
       " tensor([[ 17.,  39.,  61.,  83.],\n",
       "         [ 23.,  53.,  83., 113.]]))"
      ]
     },
     "execution_count": 868,
     "metadata": {},
     "output_type": "execute_result"
    }
   ],
   "source": [
    "vec1 = torch.arange(5., 9.).view(2, 2)\n",
    "vec2 = torch.arange(1., 9.).view(4, 2)\n",
    "vec1, vec2, torch.inner(vec1, vec2)"
   ]
  },
  {
   "cell_type": "code",
   "execution_count": 869,
   "id": "1ed60bfb",
   "metadata": {},
   "outputs": [
    {
     "data": {
      "text/plain": [
       "(tensor([[5., 6.],\n",
       "         [7., 8.]]),\n",
       " tensor([[1., 2.],\n",
       "         [3., 4.],\n",
       "         [5., 6.],\n",
       "         [7., 8.]]),\n",
       " tensor([[ 17.,  39.,  61.,  83.],\n",
       "         [ 23.,  53.,  83., 113.]]),\n",
       " tensor([[ 17.,  39.,  61.,  83.],\n",
       "         [ 23.,  53.,  83., 113.]]))"
      ]
     },
     "execution_count": 869,
     "metadata": {},
     "output_type": "execute_result"
    }
   ],
   "source": [
    "vec1 = torch.arange(5., 9.).view(2, 2)\n",
    "vec2 = torch.arange(1., 9.).view(4, 2)\n",
    "vec1, vec2, torch.inner(vec1, vec2), torch.einsum('ij, kj -> ik', vec1, vec2)"
   ]
  },
  {
   "cell_type": "code",
   "execution_count": 870,
   "id": "5e125fbf",
   "metadata": {},
   "outputs": [
    {
     "data": {
      "text/plain": [
       "(tensor([[0.5000, 0.0000, 0.0000],\n",
       "         [0.0000, 0.2500, 0.0000],\n",
       "         [0.0000, 0.0000, 0.1250]]),\n",
       " tensor([[2., 0., 0.],\n",
       "         [0., 4., 0.],\n",
       "         [0., 0., 8.]]))"
      ]
     },
     "execution_count": 870,
     "metadata": {},
     "output_type": "execute_result"
    }
   ],
   "source": [
    "x = torch.diag(torch.tensor([1/2, 1/4, 1/8]))\n",
    "y  = torch.linalg.inv(x)\n",
    "x, y"
   ]
  },
  {
   "cell_type": "code",
   "execution_count": 871,
   "id": "871e7e8c",
   "metadata": {},
   "outputs": [
    {
     "data": {
      "text/plain": [
       "(tensor([[2., 0., 0.],\n",
       "         [0., 4., 0.],\n",
       "         [0., 0., 8.]]),\n",
       " tensor(64.))"
      ]
     },
     "execution_count": 871,
     "metadata": {},
     "output_type": "execute_result"
    }
   ],
   "source": [
    "x = torch.diag(torch.tensor([2, 4., 8]))\n",
    "y  = torch.linalg.det(x)\n",
    "x, y"
   ]
  },
  {
   "cell_type": "code",
   "execution_count": 872,
   "id": "88d1ba59",
   "metadata": {},
   "outputs": [
    {
     "data": {
      "text/plain": [
       "(tensor([[2., 0., 0.],\n",
       "         [0., 4., 0.],\n",
       "         [0., 0., 8.]]),\n",
       " tensor(4.1589),\n",
       " tensor(4.1589))"
      ]
     },
     "execution_count": 872,
     "metadata": {},
     "output_type": "execute_result"
    }
   ],
   "source": [
    "x = torch.diag(torch.tensor([2, 4., 8]))\n",
    "y  = torch.logdet(x)\n",
    "x, y, torch.log(torch.det(x))"
   ]
  },
  {
   "cell_type": "code",
   "execution_count": 873,
   "id": "88d1ba59",
   "metadata": {},
   "outputs": [
    {
     "data": {
      "text/plain": [
       "(tensor([[2., 0., 0.],\n",
       "         [0., 4., 0.],\n",
       "         [0., 0., 8.]]),\n",
       " tensor(4.1589),\n",
       " tensor(4.1589))"
      ]
     },
     "execution_count": 873,
     "metadata": {},
     "output_type": "execute_result"
    }
   ],
   "source": [
    "x = torch.diag(torch.tensor([2, 4., 8]))\n",
    "y  = torch.logdet(x)\n",
    "x, y, torch.log(torch.det(x))"
   ]
  },
  {
   "cell_type": "code",
   "execution_count": 874,
   "id": "eecd786d",
   "metadata": {},
   "outputs": [
    {
     "data": {
      "text/plain": [
       "tensor(64.)"
      ]
     },
     "execution_count": 874,
     "metadata": {},
     "output_type": "execute_result"
    }
   ],
   "source": [
    "x = torch.diag(torch.tensor([2, 4., 8]))\n",
    "x.det()"
   ]
  },
  {
   "cell_type": "code",
   "execution_count": 875,
   "id": "dde43081",
   "metadata": {},
   "outputs": [
    {
     "data": {
      "text/plain": [
       "(tensor(64.),\n",
       " torch.return_types.linalg_slogdet(\n",
       " sign=tensor(1.),\n",
       " logabsdet=tensor(4.1589)))"
      ]
     },
     "execution_count": 875,
     "metadata": {},
     "output_type": "execute_result"
    }
   ],
   "source": [
    "x = torch.diag(torch.tensor([2, 4., 8]))\n",
    "torch.linalg.det(x), torch.linalg.slogdet(x)"
   ]
  },
  {
   "cell_type": "code",
   "execution_count": 876,
   "id": "954735c8",
   "metadata": {},
   "outputs": [
    {
     "data": {
      "text/plain": [
       "(tensor(-64.),\n",
       " torch.return_types.linalg_slogdet(\n",
       " sign=tensor(-1.),\n",
       " logabsdet=tensor(4.1589)))"
      ]
     },
     "execution_count": 876,
     "metadata": {},
     "output_type": "execute_result"
    }
   ],
   "source": [
    "x = torch.diag(torch.tensor([2, 4., -8]))\n",
    "torch.linalg.det(x), torch.linalg.slogdet(x)"
   ]
  },
  {
   "cell_type": "code",
   "execution_count": 877,
   "id": "fc7c6d15",
   "metadata": {},
   "outputs": [
    {
     "data": {
      "text/plain": [
       "(tensor(0.),\n",
       " torch.return_types.linalg_slogdet(\n",
       " sign=tensor(0.),\n",
       " logabsdet=tensor(-inf)))"
      ]
     },
     "execution_count": 877,
     "metadata": {},
     "output_type": "execute_result"
    }
   ],
   "source": [
    "x = torch.diag(torch.tensor([2, 4., 0]))\n",
    "torch.linalg.det(x), torch.linalg.slogdet(x)"
   ]
  },
  {
   "cell_type": "code",
   "execution_count": 878,
   "id": "13d1198f",
   "metadata": {},
   "outputs": [
    {
     "name": "stderr",
     "output_type": "stream",
     "text": [
      "/home/mtb/env/lib/python3.9/site-packages/torch/functional.py:1728: UserWarning: torch.lu is deprecated in favor of torch.linalg.lu_factor / torch.linalg.lu_factor_ex and will be removed in a future PyTorch release.\n",
      "LU, pivots = torch.lu(A, compute_pivots)\n",
      "should be replaced with\n",
      "LU, pivots = torch.linalg.lu_factor(A, compute_pivots)\n",
      "and\n",
      "LU, pivots, info = torch.lu(A, compute_pivots, get_infos=True)\n",
      "should be replaced with\n",
      "LU, pivots, info = torch.linalg.lu_factor_ex(A, compute_pivots) (Triggered internally at ../aten/src/ATen/native/BatchLinearAlgebra.cpp:1991.)\n",
      "  return torch._lu_with_info(A, pivot=pivot, check_errors=(not get_infos))\n"
     ]
    },
    {
     "data": {
      "text/plain": [
       "(tensor([[[0.2083, 0.8259, 0.0762],\n",
       "          [0.6355, 0.7834, 0.9294],\n",
       "          [0.4124, 0.3836, 0.7633]],\n",
       " \n",
       "         [[0.2916, 0.4571, 0.8805],\n",
       "          [0.1093, 0.8716, 0.1732],\n",
       "          [0.9636, 0.9499, 0.6296]]]),\n",
       " tensor([[[ 0.6355,  0.7834,  0.9294],\n",
       "          [ 0.3278,  0.5691, -0.2285],\n",
       "          [ 0.6489, -0.2193,  0.1100]],\n",
       " \n",
       "         [[ 0.9636,  0.9499,  0.6296],\n",
       "          [ 0.1134,  0.7639,  0.1018],\n",
       "          [ 0.3026,  0.2221,  0.6674]]]),\n",
       " tensor([[2, 2, 3],\n",
       "         [3, 2, 3]], dtype=torch.int32))"
      ]
     },
     "execution_count": 878,
     "metadata": {},
     "output_type": "execute_result"
    }
   ],
   "source": [
    "x = torch.empty((2, 3, 3)).uniform_(0, 1.)\n",
    "lu,  pivot = torch.lu(x)\n",
    "x, lu, pivot"
   ]
  },
  {
   "cell_type": "code",
   "execution_count": 879,
   "id": "f88f368f",
   "metadata": {},
   "outputs": [
    {
     "name": "stdout",
     "output_type": "stream",
     "text": [
      "tensor([[[ 1.9801,  1.6302, -1.0295],\n",
      "         [-0.3438,  1.2109, -1.2231],\n",
      "         [-0.3550,  0.6913, -0.0961]],\n",
      "\n",
      "        [[-1.2437, -0.0744,  0.4289],\n",
      "         [-0.3776,  1.7788, -0.6308],\n",
      "         [-0.7606, -0.8484,  1.0898]]]) tensor([[1, 2, 3],\n",
      "        [1, 3, 3]], dtype=torch.int32)\n",
      "tensor(1.9825e-06)\n"
     ]
    },
    {
     "name": "stderr",
     "output_type": "stream",
     "text": [
      "/tmp/ipykernel_11384/3452137007.py:5: UserWarning: torch.lu_solve is deprecated in favor of torch.linalg.lu_solveand will be removed in a future PyTorch release.\n",
      "Note that torch.linalg.lu_solve has its arguments reversed.\n",
      "X = torch.lu_solve(B, LU, pivots)\n",
      "should be replaced with\n",
      "X = torch.linalg.lu_solve(LU, pivots, B) (Triggered internally at ../aten/src/ATen/native/BatchLinearAlgebra.cpp:2148.)\n",
      "  x = torch.lu_solve(b, LU, pivots)\n"
     ]
    }
   ],
   "source": [
    "A = torch.randn(2, 3, 3)\n",
    "b = torch.randn(2, 3, 1)\n",
    "LU, pivots = torch.linalg.lu_factor(A)\n",
    "print(LU, pivots)\n",
    "x = torch.lu_solve(b, LU, pivots)\n",
    "print(torch.dist(A @ x, b))"
   ]
  },
  {
   "cell_type": "code",
   "execution_count": 880,
   "id": "6a4564c3",
   "metadata": {},
   "outputs": [
    {
     "name": "stdout",
     "output_type": "stream",
     "text": [
      "True\n",
      "True\n"
     ]
    }
   ],
   "source": [
    "A = torch.randn(2, 3, 3)\n",
    "LU, pivots = torch.linalg.lu_factor(A)\n",
    "P, L, U = torch.lu_unpack(LU, pivots)\n",
    "# We can recover A from the factorization\n",
    "A_ = P @ L @ U\n",
    "print(torch.allclose(A, A_))\n",
    "\n",
    "# LU factorization of a rectangular matrix:\n",
    "A = torch.randn(2, 3, 2)\n",
    "LU, pivots = torch.linalg.lu_factor(A)\n",
    "P, L, U = torch.lu_unpack(LU, pivots)\n",
    "# P, L, U are the same as returned by linalg.lu\n",
    "P_, L_, U_ = torch.linalg.lu(A)\n",
    "print(torch.allclose(P, P_) and torch.allclose(L, L_) and torch.allclose(U, U_))"
   ]
  },
  {
   "cell_type": "code",
   "execution_count": 881,
   "id": "6de93c48",
   "metadata": {},
   "outputs": [
    {
     "data": {
      "text/plain": [
       "(tensor([[ 0.4335, -0.9976,  0.2945],\n",
       "         [ 0.9167,  0.3468,  0.3627],\n",
       "         [-0.7023,  0.4625,  0.6052]]),\n",
       " tensor([[1., 0., 0.],\n",
       "         [0., 1., 0.],\n",
       "         [0., 0., 1.]]),\n",
       " tensor([[-0.9334, -0.6423, -0.0560],\n",
       "         [ 0.4607, -0.6265,  0.6152],\n",
       "         [-0.3055,  1.1409,  0.3272]]),\n",
       " tensor([[0.1879, 0.9952, 0.0867],\n",
       "         [0.8404, 0.1203, 0.1315],\n",
       "         [0.4932, 0.2139, 0.3662]]))"
      ]
     },
     "execution_count": 881,
     "metadata": {},
     "output_type": "execute_result"
    }
   ],
   "source": [
    "x = torch.randn(3, 3)\n",
    "y = torch.linalg.matrix_power(x, 0)\n",
    "z = torch.linalg.matrix_power(x, 2)\n",
    "x, y, z, x*x"
   ]
  },
  {
   "cell_type": "code",
   "execution_count": 882,
   "id": "4d37030b",
   "metadata": {},
   "outputs": [
    {
     "data": {
      "text/plain": [
       "(tensor([[[1., 0.],\n",
       "          [0., 1.]],\n",
       " \n",
       "         [[2., 0.],\n",
       "          [0., 2.]]]),\n",
       " tensor([[[2.7183, 0.0000],\n",
       "          [0.0000, 2.7183]],\n",
       " \n",
       "         [[7.3891, 0.0000],\n",
       "          [0.0000, 7.3891]]]))"
      ]
     },
     "execution_count": 882,
     "metadata": {},
     "output_type": "execute_result"
    }
   ],
   "source": [
    "x = torch.empty(2, 2, 2)\n",
    "x[0, :, :] = torch.eye(2, 2)\n",
    "x[1, :, :] = 2 * torch.eye(2, 2)\n",
    "x, torch.linalg.matrix_exp(x)\n"
   ]
  },
  {
   "cell_type": "code",
   "execution_count": 883,
   "id": "94b255cd",
   "metadata": {},
   "outputs": [
    {
     "data": {
      "text/plain": [
       "(torch.Size([2, 3]), torch.Size([3, 4]), torch.Size([2, 4]))"
      ]
     },
     "execution_count": 883,
     "metadata": {},
     "output_type": "execute_result"
    }
   ],
   "source": [
    "x, y = torch.randn(2, 3), torch.randn(3, 4)\n",
    "z = torch.mm(x, y) # matrix matric multiplication\n",
    "x.shape, y.shape, z.shape"
   ]
  },
  {
   "cell_type": "code",
   "execution_count": 884,
   "id": "5dda5254",
   "metadata": {},
   "outputs": [
    {
     "data": {
      "text/plain": [
       "(torch.Size([2, 3]), torch.Size([3]), torch.Size([2]))"
      ]
     },
     "execution_count": 884,
     "metadata": {},
     "output_type": "execute_result"
    }
   ],
   "source": [
    "x, y = torch.randn(2, 3), torch.randn(3,)\n",
    "z = torch.mv(x, y) # matrix vector multiplication\n",
    "x.shape, y.shape, z.shape"
   ]
  },
  {
   "cell_type": "code",
   "execution_count": 885,
   "id": "e2dfacb1",
   "metadata": {},
   "outputs": [
    {
     "name": "stderr",
     "output_type": "stream",
     "text": [
      "/tmp/ipykernel_11384/2650104568.py:2: UserWarning: torch.qr is deprecated in favor of torch.linalg.qr and will be removed in a future PyTorch release.\n",
      "The boolean parameter 'some' has been replaced with a string parameter 'mode'.\n",
      "Q, R = torch.qr(A, some)\n",
      "should be replaced with\n",
      "Q, R = torch.linalg.qr(A, 'reduced' if some else 'complete') (Triggered internally at ../aten/src/ATen/native/BatchLinearAlgebra.cpp:2425.)\n",
      "  q, r = torch.qr(x)\n"
     ]
    },
    {
     "data": {
      "text/plain": [
       "(torch.Size([3, 2, 4, 4]), torch.Size([3, 2, 4, 5]))"
      ]
     },
     "execution_count": 885,
     "metadata": {},
     "output_type": "execute_result"
    }
   ],
   "source": [
    "x = torch.randn(3, 2, 4, 5)\n",
    "q, r = torch.qr(x)\n",
    "q.shape, r.shape"
   ]
  },
  {
   "cell_type": "code",
   "execution_count": 886,
   "id": "9284df80",
   "metadata": {},
   "outputs": [
    {
     "data": {
      "text/plain": [
       "(torch.Size([3, 2, 4, 4]), torch.Size([3, 2, 4, 5]))"
      ]
     },
     "execution_count": 886,
     "metadata": {},
     "output_type": "execute_result"
    }
   ],
   "source": [
    "x = torch.randn(3, 2, 4, 5)\n",
    "q, r = torch.qr(x, some=False)\n",
    "q.shape, r.shape"
   ]
  },
  {
   "cell_type": "code",
   "execution_count": 887,
   "id": "f94abe1b",
   "metadata": {},
   "outputs": [
    {
     "data": {
      "text/plain": [
       "(torch.Size([3, 2, 4, 4]), torch.Size([3, 2, 4]), torch.Size([3, 2, 5, 5]))"
      ]
     },
     "execution_count": 887,
     "metadata": {},
     "output_type": "execute_result"
    }
   ],
   "source": [
    "x = torch.randn(3, 2, 4, 5)\n",
    "u, s, v= torch.svd(x, some=False)\n",
    "u.shape, s.shape, v.shape"
   ]
  },
  {
   "cell_type": "code",
   "execution_count": 888,
   "id": "e6a85529",
   "metadata": {},
   "outputs": [
    {
     "data": {
      "text/plain": [
       "(torch.Size([3, 2, 4, 2]), torch.Size([3, 2, 2]), torch.Size([3, 2, 5, 2]))"
      ]
     },
     "execution_count": 888,
     "metadata": {},
     "output_type": "execute_result"
    }
   ],
   "source": [
    "x = torch.randn( 3, 2,  4, 5)\n",
    "u, s, v= torch.svd_lowrank(x, q=2, niter=4000)\n",
    "u.shape, s.shape, v.shape"
   ]
  },
  {
   "cell_type": "code",
   "execution_count": 889,
   "id": "04ac9d54",
   "metadata": {},
   "outputs": [
    {
     "data": {
      "text/plain": [
       "torch.return_types.linalg_eig(\n",
       "eigenvalues=tensor([ 1.1584+2.1496j,  1.1584-2.1496j, -0.5104+0.0000j, -1.3489+0.0000j]),\n",
       "eigenvectors=tensor([[-0.2308+0.2247j, -0.2308-0.2247j,  0.9046+0.0000j,  0.3606+0.0000j],\n",
       "        [ 0.0393-0.2754j,  0.0393+0.2754j,  0.2702+0.0000j, -0.7002+0.0000j],\n",
       "        [ 0.6962+0.0000j,  0.6962-0.0000j,  0.2482+0.0000j,  0.2416+0.0000j],\n",
       "        [-0.0013-0.5781j, -0.0013+0.5781j,  0.2170+0.0000j,  0.5668+0.0000j]]))"
      ]
     },
     "execution_count": 889,
     "metadata": {},
     "output_type": "execute_result"
    }
   ],
   "source": [
    "x = torch.randn( 4, 4)\n",
    "y = torch.linalg.eig(x)\n",
    "y"
   ]
  },
  {
   "cell_type": "code",
   "execution_count": 890,
   "id": "2c79d65c",
   "metadata": {},
   "outputs": [
    {
     "data": {
      "text/plain": [
       "torch.return_types.linalg_eigh(\n",
       "eigenvalues=tensor([-2.6940, -2.4615, -0.1661,  2.0879]),\n",
       "eigenvectors=tensor([[-0.3924, -0.0038, -0.6423,  0.6583],\n",
       "        [-0.7085,  0.6036,  0.3591, -0.0685],\n",
       "        [ 0.0581,  0.3985, -0.6733, -0.6200],\n",
       "        [-0.5836, -0.6905, -0.0711, -0.4213]]))"
      ]
     },
     "execution_count": 890,
     "metadata": {},
     "output_type": "execute_result"
    }
   ],
   "source": [
    "x = torch.randn( 4, 4)\n",
    "x = x + x.t()\n",
    "y = torch.linalg.eigh(x,)\n",
    "y"
   ]
  },
  {
   "cell_type": "code",
   "execution_count": 891,
   "id": "282eee37",
   "metadata": {},
   "outputs": [
    {
     "data": {
      "text/plain": [
       "torch.return_types.linalg_eigh(\n",
       "eigenvalues=tensor([-4.6546, -1.3291,  1.1200,  5.4572]),\n",
       "eigenvectors=tensor([[ 0.4068,  0.8490,  0.3353,  0.0352],\n",
       "        [-0.7618,  0.2069,  0.3472,  0.5063],\n",
       "        [-0.4728,  0.2407,  0.0529, -0.8460],\n",
       "        [-0.1752,  0.4224, -0.8742,  0.1634]]))"
      ]
     },
     "execution_count": 891,
     "metadata": {},
     "output_type": "execute_result"
    }
   ],
   "source": [
    "x = torch.randn( 4, 4)\n",
    "x = x + x.t()\n",
    "y = torch.linalg.eigh(x,)\n",
    "y"
   ]
  },
  {
   "cell_type": "code",
   "execution_count": 892,
   "id": "a1b5ccd8",
   "metadata": {},
   "outputs": [],
   "source": [
    "# x = torch.randn(2, 2).triu()\n",
    "# y = torch.randn(2, 3)\n",
    "# z = torch.triangular_solve(x, y)\n",
    "# x, y, z"
   ]
  },
  {
   "cell_type": "code",
   "execution_count": 893,
   "id": "55664d43",
   "metadata": {},
   "outputs": [
    {
     "data": {
      "text/plain": [
       "tensor(7)"
      ]
     },
     "execution_count": 893,
     "metadata": {},
     "output_type": "execute_result"
    }
   ],
   "source": [
    "torch.vdot(torch.tensor([2, 3]), torch.tensor([2, 1]))"
   ]
  },
  {
   "cell_type": "code",
   "execution_count": 894,
   "id": "2c233ad9",
   "metadata": {},
   "outputs": [
    {
     "data": {
      "text/plain": [
       "(tensor([1.+2.j, 3.-1.j]),\n",
       " tensor([2.+1.j, 4.+0.j]),\n",
       " tensor(16.+1.j),\n",
       " tensor(16.-1.j))"
      ]
     },
     "execution_count": 894,
     "metadata": {},
     "output_type": "execute_result"
    }
   ],
   "source": [
    "x = torch.tensor((1 +2j, 3 - 1j))\n",
    "y = torch.tensor((2 +1j, 4 - 0j))\n",
    "z = torch.vdot(x, y)\n",
    "w = torch.vdot(y, x)\n",
    "x, y, z, w"
   ]
  },
  {
   "cell_type": "code",
   "execution_count": 895,
   "id": "8937892b",
   "metadata": {},
   "outputs": [
    {
     "data": {
      "text/plain": [
       "(tensor([0, 1, 2]),\n",
       " tensor([1, 4]),\n",
       " tensor([[0, 1, 2],\n",
       "         [3, 4, 5]]),\n",
       " tensor([[0, 3],\n",
       "         [1, 4],\n",
       "         [2, 5]]))"
      ]
     },
     "execution_count": 895,
     "metadata": {},
     "output_type": "execute_result"
    }
   ],
   "source": [
    "x = torch.arange(6).view(2, 3)\n",
    "y = x.transpose(0, 1)\n",
    "x[0], y[1], x, y"
   ]
  },
  {
   "cell_type": "code",
   "execution_count": 896,
   "id": "4b418ff2",
   "metadata": {},
   "outputs": [
    {
     "data": {
      "text/plain": [
       "(tensor([0, 1, 2, 3, 4, 5]),\n",
       " tensor([0, 3, 1, 4, 2, 5]),\n",
       " tensor([0, 3, 1, 4, 2, 5]))"
      ]
     },
     "execution_count": 896,
     "metadata": {},
     "output_type": "execute_result"
    }
   ],
   "source": [
    "x = torch.arange(6).view(2, 3)\n",
    "y = x.transpose(0, 1)\n",
    "x.flatten(), y.flatten(), y.contiguous().flatten()"
   ]
  },
  {
   "cell_type": "code",
   "execution_count": 897,
   "id": "357f6ea3",
   "metadata": {},
   "outputs": [],
   "source": [
    "# y.view(-1, 6) # error non contiguous"
   ]
  },
  {
   "cell_type": "code",
   "execution_count": 898,
   "id": "10dec342",
   "metadata": {},
   "outputs": [
    {
     "data": {
      "text/plain": [
       "tensor([0., 1., 2., 3., 4., 5.])"
      ]
     },
     "execution_count": 898,
     "metadata": {},
     "output_type": "execute_result"
    }
   ],
   "source": [
    "x = torch.arange(6).float().requires_grad_()\n",
    "y = torch.arange(6)\n",
    "z = x * y\n",
    "z.sum().backward()\n",
    "x.grad"
   ]
  },
  {
   "cell_type": "code",
   "execution_count": 899,
   "id": "c28b2caf",
   "metadata": {},
   "outputs": [
    {
     "name": "stdout",
     "output_type": "stream",
     "text": [
      "a leaf Variable that requires grad is being used in an in-place operation.\n"
     ]
    }
   ],
   "source": [
    "x = torch.arange(6).float().requires_grad_()\n",
    "y = torch.arange(6)\n",
    "z = x * y\n",
    "try:\n",
    "    x.add_(2) #\n",
    "    z.sum().backward()\n",
    "    x.grad\n",
    "except Exception as e:\n",
    "    print(e)"
   ]
  },
  {
   "cell_type": "code",
   "execution_count": 900,
   "id": "0a3bb95f",
   "metadata": {},
   "outputs": [
    {
     "name": "stderr",
     "output_type": "stream",
     "text": [
      "/tmp/ipykernel_11384/3045897786.py:6: UserWarning: The .grad attribute of a Tensor that is not a leaf Tensor is being accessed. Its .grad attribute won't be populated during autograd.backward(). If you indeed want the .grad field to be populated for a non-leaf Tensor, use .retain_grad() on the non-leaf Tensor. If you access the non-leaf Tensor by mistake, make sure you access the leaf Tensor instead. See github.com/pytorch/pytorch/pull/30531 for more informations. (Triggered internally at aten/src/ATen/core/TensorBody.h:486.)\n",
      "  x.grad is None\n"
     ]
    },
    {
     "data": {
      "text/plain": [
       "True"
      ]
     },
     "execution_count": 900,
     "metadata": {},
     "output_type": "execute_result"
    }
   ],
   "source": [
    "x = torch.arange(6).float().requires_grad_()\n",
    "y = torch.arange(6)\n",
    "z = x * y\n",
    "x = x.add(2) #\n",
    "z.sum().backward()\n",
    "x.grad is None"
   ]
  },
  {
   "cell_type": "code",
   "execution_count": 901,
   "id": "f63d8da5",
   "metadata": {},
   "outputs": [
    {
     "data": {
      "text/plain": [
       "<torch.autograd.anomaly_mode.set_detect_anomaly at 0x7f18080fca00>"
      ]
     },
     "execution_count": 901,
     "metadata": {},
     "output_type": "execute_result"
    }
   ],
   "source": [
    "torch.autograd.set_detect_anomaly(True)"
   ]
  },
  {
   "cell_type": "code",
   "execution_count": 902,
   "metadata": {},
   "outputs": [
    {
     "name": "stdout",
     "output_type": "stream",
     "text": [
      "one of the variables needed for gradient computation has been modified by an inplace operation: [torch.FloatTensor [6]] is at version 1; expected version 0 instead. Hint: the backtrace further above shows the operation that failed to compute its gradient. The variable in question was changed in there or anywhere later. Good luck!\n"
     ]
    },
    {
     "name": "stderr",
     "output_type": "stream",
     "text": [
      "/home/mtb/env/lib/python3.9/site-packages/torch/autograd/__init__.py:200: UserWarning: Error detected in MulBackward0. Traceback of forward call that caused the error:\n",
      "  File \"/usr/local/lib/python3.9/runpy.py\", line 197, in _run_module_as_main\n",
      "    return _run_code(code, main_globals, None,\n",
      "  File \"/usr/local/lib/python3.9/runpy.py\", line 87, in _run_code\n",
      "    exec(code, run_globals)\n",
      "  File \"/home/mtb/env/lib/python3.9/site-packages/ipykernel_launcher.py\", line 17, in <module>\n",
      "    app.launch_new_instance()\n",
      "  File \"/home/mtb/env/lib/python3.9/site-packages/traitlets/config/application.py\", line 978, in launch_instance\n",
      "    app.start()\n",
      "  File \"/home/mtb/env/lib/python3.9/site-packages/ipykernel/kernelapp.py\", line 712, in start\n",
      "    self.io_loop.start()\n",
      "  File \"/home/mtb/env/lib/python3.9/site-packages/tornado/platform/asyncio.py\", line 215, in start\n",
      "    self.asyncio_loop.run_forever()\n",
      "  File \"/usr/local/lib/python3.9/asyncio/base_events.py\", line 596, in run_forever\n",
      "    self._run_once()\n",
      "  File \"/usr/local/lib/python3.9/asyncio/base_events.py\", line 1890, in _run_once\n",
      "    handle._run()\n",
      "  File \"/usr/local/lib/python3.9/asyncio/events.py\", line 80, in _run\n",
      "    self._context.run(self._callback, *self._args)\n",
      "  File \"/home/mtb/env/lib/python3.9/site-packages/ipykernel/kernelbase.py\", line 510, in dispatch_queue\n",
      "    await self.process_one()\n",
      "  File \"/home/mtb/env/lib/python3.9/site-packages/ipykernel/kernelbase.py\", line 499, in process_one\n",
      "    await dispatch(*args)\n",
      "  File \"/home/mtb/env/lib/python3.9/site-packages/ipykernel/kernelbase.py\", line 406, in dispatch_shell\n",
      "    await result\n",
      "  File \"/home/mtb/env/lib/python3.9/site-packages/ipykernel/kernelbase.py\", line 730, in execute_request\n",
      "    reply_content = await reply_content\n",
      "  File \"/home/mtb/env/lib/python3.9/site-packages/ipykernel/ipkernel.py\", line 383, in do_execute\n",
      "    res = shell.run_cell(\n",
      "  File \"/home/mtb/env/lib/python3.9/site-packages/ipykernel/zmqshell.py\", line 528, in run_cell\n",
      "    return super().run_cell(*args, **kwargs)\n",
      "  File \"/home/mtb/env/lib/python3.9/site-packages/IPython/core/interactiveshell.py\", line 2885, in run_cell\n",
      "    result = self._run_cell(\n",
      "  File \"/home/mtb/env/lib/python3.9/site-packages/IPython/core/interactiveshell.py\", line 2940, in _run_cell\n",
      "    return runner(coro)\n",
      "  File \"/home/mtb/env/lib/python3.9/site-packages/IPython/core/async_helpers.py\", line 129, in _pseudo_sync_runner\n",
      "    coro.send(None)\n",
      "  File \"/home/mtb/env/lib/python3.9/site-packages/IPython/core/interactiveshell.py\", line 3139, in run_cell_async\n",
      "    has_raised = await self.run_ast_nodes(code_ast.body, cell_name,\n",
      "  File \"/home/mtb/env/lib/python3.9/site-packages/IPython/core/interactiveshell.py\", line 3318, in run_ast_nodes\n",
      "    if await self.run_code(code, result, async_=asy):\n",
      "  File \"/home/mtb/env/lib/python3.9/site-packages/IPython/core/interactiveshell.py\", line 3378, in run_code\n",
      "    exec(code_obj, self.user_global_ns, self.user_ns)\n",
      "  File \"/tmp/ipykernel_11384/2443847684.py\", line 3, in <module>\n",
      "    z = x * y\n",
      " (Triggered internally at ../torch/csrc/autograd/python_anomaly_mode.cpp:114.)\n",
      "  Variable._execution_engine.run_backward(  # Calls into the C++ engine to run the backward pass\n"
     ]
    }
   ],
   "source": [
    "x = torch.arange(6).float().requires_grad_()\n",
    "y = torch.arange(6).float()\n",
    "z = x * y\n",
    "try:\n",
    "    y.add_(2) #\n",
    "    z.sum().backward()\n",
    "    x.grad\n",
    "except Exception as e:\n",
    "    print(e)"
   ]
  },
  {
   "cell_type": "code",
   "execution_count": 903,
   "id": "db2f9fcf",
   "metadata": {},
   "outputs": [
    {
     "data": {
      "text/plain": [
       "(tensor([[[1, 2, 3, 1, 2, 3],\n",
       "          [1, 2, 3, 1, 2, 3],\n",
       "          [1, 2, 3, 1, 2, 3]],\n",
       " \n",
       "         [[1, 2, 3, 1, 2, 3],\n",
       "          [1, 2, 3, 1, 2, 3],\n",
       "          [1, 2, 3, 1, 2, 3]],\n",
       " \n",
       "         [[1, 2, 3, 1, 2, 3],\n",
       "          [1, 2, 3, 1, 2, 3],\n",
       "          [1, 2, 3, 1, 2, 3]],\n",
       " \n",
       "         [[1, 2, 3, 1, 2, 3],\n",
       "          [1, 2, 3, 1, 2, 3],\n",
       "          [1, 2, 3, 1, 2, 3]]]),\n",
       " torch.Size([4, 3, 6]))"
      ]
     },
     "execution_count": 903,
     "metadata": {},
     "output_type": "execute_result"
    }
   ],
   "source": [
    "x = torch.arange(1, 4)\n",
    "x.repeat(4, 3, 2), x.repeat(4, 3, 2).shape"
   ]
  },
  {
   "cell_type": "code",
   "execution_count": 904,
   "id": "94c02b4a",
   "metadata": {},
   "outputs": [
    {
     "data": {
      "text/plain": [
       "(tensor([[[1, 2, 3],\n",
       "          [1, 2, 3],\n",
       "          [1, 2, 3]],\n",
       " \n",
       "         [[1, 2, 3],\n",
       "          [1, 2, 3],\n",
       "          [1, 2, 3]],\n",
       " \n",
       "         [[1, 2, 3],\n",
       "          [1, 2, 3],\n",
       "          [1, 2, 3]],\n",
       " \n",
       "         [[1, 2, 3],\n",
       "          [1, 2, 3],\n",
       "          [1, 2, 3]]]),\n",
       " torch.Size([4, 3, 6]))"
      ]
     },
     "execution_count": 904,
     "metadata": {},
     "output_type": "execute_result"
    }
   ],
   "source": [
    "x = torch.arange(1, 4)\n",
    "x.repeat(4, 3, 1), x.repeat(4, 3, 2).shape"
   ]
  },
  {
   "cell_type": "code",
   "execution_count": 905,
   "id": "1dec99cd",
   "metadata": {},
   "outputs": [
    {
     "data": {
      "text/plain": [
       "(tensor([[[1, 2, 3],\n",
       "          [1, 2, 3],\n",
       "          [1, 2, 3]],\n",
       " \n",
       "         [[1, 2, 3],\n",
       "          [1, 2, 3],\n",
       "          [1, 2, 3]],\n",
       " \n",
       "         [[1, 2, 3],\n",
       "          [1, 2, 3],\n",
       "          [1, 2, 3]],\n",
       " \n",
       "         [[1, 2, 3],\n",
       "          [1, 2, 3],\n",
       "          [1, 2, 3]]]),\n",
       " torch.Size([4, 3, 3]))"
      ]
     },
     "execution_count": 905,
     "metadata": {},
     "output_type": "execute_result"
    }
   ],
   "source": [
    "x = torch.arange(1, 4)\n",
    "x.broadcast_to(4, 3, -1), x.broadcast_to(4, 3, -1).shape"
   ]
  },
  {
   "cell_type": "code",
   "execution_count": 906,
   "id": "a5abd707",
   "metadata": {},
   "outputs": [
    {
     "data": {
      "text/plain": [
       "tensor([[[-3.4332e+00,  4.1306e+00,  2.7835e+00,  6.2500e+00, -1.3532e-01],\n",
       "         [ 1.7545e+00,  1.2880e+00,  2.2875e+00,  2.4286e+00, -8.5016e-01]],\n",
       "\n",
       "        [[-3.4435e-01,  3.9925e-01, -2.0620e-01,  5.5388e-01,  5.2064e-01],\n",
       "         [ 1.4451e+00, -6.0349e-02, -2.3001e-01, -1.7045e+00, -5.8001e-01]],\n",
       "\n",
       "        [[-2.3901e-02, -1.4739e-02,  1.0084e-03, -1.5447e-02, -6.5993e-02],\n",
       "         [ 1.6502e+00, -3.4122e-01, -7.6157e-01,  4.9502e-02,  5.9108e-02]],\n",
       "\n",
       "        [[-8.5730e-01, -2.1425e-01,  2.2282e-01, -6.6234e-01,  9.4921e-03],\n",
       "         [ 1.1695e+00,  4.3300e-01,  8.7795e-01,  7.6086e-01, -1.7555e+00]]])"
      ]
     },
     "execution_count": 906,
     "metadata": {},
     "output_type": "execute_result"
    }
   ],
   "source": [
    "torch.randn(4, 2, 1) * torch.randn(4, 2, 5)"
   ]
  },
  {
   "cell_type": "code",
   "execution_count": 907,
   "id": "7ed53181",
   "metadata": {},
   "outputs": [
    {
     "data": {
      "text/plain": [
       "tensor([[[ 0.4333],\n",
       "         [ 1.3554]],\n",
       "\n",
       "        [[ 0.7927],\n",
       "         [ 2.5368]],\n",
       "\n",
       "        [[-2.3524],\n",
       "         [-2.6435]],\n",
       "\n",
       "        [[ 1.8153],\n",
       "         [-1.1626]]])"
      ]
     },
     "execution_count": 907,
     "metadata": {},
     "output_type": "execute_result"
    }
   ],
   "source": [
    "torch.randn(4, 2, 5) @ torch.randn( 4, 5, 1) "
   ]
  },
  {
   "cell_type": "code",
   "execution_count": 908,
   "id": "9ece7569",
   "metadata": {},
   "outputs": [],
   "source": [
    "h = 32"
   ]
  },
  {
   "cell_type": "code",
   "execution_count": 909,
   "id": "82801532",
   "metadata": {},
   "outputs": [],
   "source": [
    "positions = torch.arange(32).float()"
   ]
  },
  {
   "cell_type": "code",
   "execution_count": 910,
   "id": "bc71f31a",
   "metadata": {},
   "outputs": [
    {
     "data": {
      "text/plain": [
       "(tensor([1.0000e+00, 1.7783e+00, 3.1623e+00, 5.6234e+00, 1.0000e+01, 1.7783e+01,\n",
       "         3.1623e+01, 5.6234e+01, 1.0000e+02, 1.7783e+02, 3.1623e+02, 5.6234e+02,\n",
       "         1.0000e+03, 1.7783e+03, 3.1623e+03, 5.6234e+03, 1.0000e+04, 1.7783e+04,\n",
       "         3.1623e+04, 5.6234e+04, 1.0000e+05, 1.7783e+05, 3.1623e+05, 5.6234e+05,\n",
       "         1.0000e+06, 1.7783e+06, 3.1623e+06, 5.6234e+06, 1.0000e+07, 1.7783e+07,\n",
       "         3.1623e+07, 5.6234e+07]),\n",
       " tensor([0.0000, 0.0625, 0.1250, 0.1875, 0.2500, 0.3125, 0.3750, 0.4375, 0.5000,\n",
       "         0.5625, 0.6250, 0.6875, 0.7500, 0.8125, 0.8750, 0.9375, 1.0000, 1.0625,\n",
       "         1.1250, 1.1875, 1.2500, 1.3125, 1.3750, 1.4375, 1.5000, 1.5625, 1.6250,\n",
       "         1.6875, 1.7500, 1.8125, 1.8750, 1.9375]))"
      ]
     },
     "execution_count": 910,
     "metadata": {},
     "output_type": "execute_result"
    }
   ],
   "source": [
    "power = 2.0 * positions / h\n",
    "en = torch.pow(10000, power)\n",
    "en, power"
   ]
  },
  {
   "cell_type": "code",
   "execution_count": 911,
   "id": "a57acf21",
   "metadata": {},
   "outputs": [
    {
     "data": {
      "text/plain": [
       "tensor([1., 2., 3.])"
      ]
     },
     "execution_count": 911,
     "metadata": {},
     "output_type": "execute_result"
    }
   ],
   "source": [
    "x.to(torch.FloatTensor())"
   ]
  },
  {
   "cell_type": "code",
   "execution_count": 912,
   "id": "dd16bebd",
   "metadata": {},
   "outputs": [
    {
     "data": {
      "text/plain": [
       "tensor([1., 2., 3.])"
      ]
     },
     "execution_count": 912,
     "metadata": {},
     "output_type": "execute_result"
    }
   ],
   "source": [
    "x.to(torch.FloatTensor(1))"
   ]
  },
  {
   "cell_type": "code",
   "execution_count": 913,
   "id": "a2521734",
   "metadata": {},
   "outputs": [
    {
     "data": {
      "text/plain": [
       "torch.float32"
      ]
     },
     "execution_count": 913,
     "metadata": {},
     "output_type": "execute_result"
    }
   ],
   "source": [
    "x.to(torch.FloatTensor(1)).dtype\n"
   ]
  },
  {
   "cell_type": "code",
   "execution_count": 914,
   "id": "5b646946",
   "metadata": {},
   "outputs": [
    {
     "data": {
      "text/plain": [
       "tensor([8.0069e-25, 4.5593e-41])"
      ]
     },
     "execution_count": 914,
     "metadata": {},
     "output_type": "execute_result"
    }
   ],
   "source": [
    "torch.FloatTensor(2)"
   ]
  },
  {
   "cell_type": "code",
   "execution_count": 915,
   "id": "d73e547f",
   "metadata": {},
   "outputs": [
    {
     "data": {
      "text/plain": [
       "tensor([2.6849e-27, 3.0792e-41, 2.6834e-27, 3.0792e-41, 5.7453e-44])"
      ]
     },
     "execution_count": 915,
     "metadata": {},
     "output_type": "execute_result"
    }
   ],
   "source": [
    "torch.FloatTensor(5)"
   ]
  },
  {
   "cell_type": "code",
   "execution_count": 916,
   "id": "65fdfeb5",
   "metadata": {},
   "outputs": [
    {
     "data": {
      "text/plain": [
       "tensor([[2.6579e-27, 3.0792e-41, 2.9567e-43, 0.0000e+00, 0.0000e+00, 0.0000e+00,\n",
       "         0.0000e+00, 0.0000e+00, 0.0000e+00, 3.0792e-41],\n",
       "        [1.8788e+31, 1.7220e+22, 2.1715e-18, 8.5013e-07, 2.1765e-04, 6.4836e-10,\n",
       "         2.1160e-07, 6.8247e-07, 5.4664e+22, 4.1726e+21],\n",
       "        [1.0931e-05, 2.5811e-09, 1.2986e+19, 6.8995e-07, 2.1707e-18, 1.6678e+19,\n",
       "         7.0976e+22, 2.1715e-18, 4.2330e+21, 1.6534e+19],\n",
       "        [1.1625e+27, 1.4580e-19, 7.1856e+22, 4.3605e+27, 1.5766e-19, 1.1272e+21,\n",
       "         2.1707e-18, 1.9284e+31, 3.2314e-18, 1.5099e-07],\n",
       "        [6.7574e-07, 1.0538e-11, 5.2004e+22, 6.7200e-07, 1.0801e-05, 8.3391e-10,\n",
       "         8.4707e-07, 4.3682e-05, 2.1707e-18, 7.2128e+22]])"
      ]
     },
     "execution_count": 916,
     "metadata": {},
     "output_type": "execute_result"
    }
   ],
   "source": [
    "torch.FloatTensor(5, 10)"
   ]
  },
  {
   "cell_type": "code",
   "execution_count": 917,
   "id": "03c77092",
   "metadata": {},
   "outputs": [
    {
     "data": {
      "text/plain": [
       "(False, True)"
      ]
     },
     "execution_count": 917,
     "metadata": {},
     "output_type": "execute_result"
    }
   ],
   "source": [
    "x = torch.arange(5).float().requires_grad_()\n",
    "y = x.detach()\n",
    "y.requires_grad, x.requires_grad"
   ]
  },
  {
   "cell_type": "code",
   "execution_count": 918,
   "id": "4516a355",
   "metadata": {},
   "outputs": [
    {
     "name": "stdout",
     "output_type": "stream",
     "text": [
      "tensor(35.)\n"
     ]
    },
    {
     "data": {
      "text/plain": [
       "(tensor([1., 1., 1., 1., 1.]), None, False)"
      ]
     },
     "execution_count": 918,
     "metadata": {},
     "output_type": "execute_result"
    }
   ],
   "source": [
    "x = torch.arange(5).float().requires_grad_()\n",
    "y = x.detach()\n",
    "z1 = (y + 5).sum()\n",
    "z2 = (x + 5).sum()\n",
    "print(z1)\n",
    "z2.backward()\n",
    "x.grad, y.grad, z1.requires_grad"
   ]
  },
  {
   "cell_type": "code",
   "execution_count": 919,
   "id": "bfa1d1f4",
   "metadata": {},
   "outputs": [
    {
     "data": {
      "text/plain": [
       "tensor([0.4581, 0.4829, 0.3125, 0.6150, 0.2139])"
      ]
     },
     "execution_count": 919,
     "metadata": {},
     "output_type": "execute_result"
    }
   ],
   "source": [
    "torch.manual_seed(10)\n",
    "torch.rand(5)"
   ]
  },
  {
   "cell_type": "code",
   "execution_count": 920,
   "id": "3e98e9ed",
   "metadata": {},
   "outputs": [
    {
     "data": {
      "text/plain": [
       "tensor([0.4581, 0.4829, 0.3125, 0.6150, 0.2139])"
      ]
     },
     "execution_count": 920,
     "metadata": {},
     "output_type": "execute_result"
    }
   ],
   "source": [
    "x = torch.empty(5)\n",
    "torch.manual_seed(10)\n",
    "x.uniform_()"
   ]
  },
  {
   "cell_type": "code",
   "execution_count": 921,
   "id": "f4037f79",
   "metadata": {},
   "outputs": [
    {
     "data": {
      "text/plain": [
       "tensor([[[ 8.0069e-25,  4.5593e-41,  2.6735e-27,  3.0792e-41, -1.6750e+29]]])"
      ]
     },
     "execution_count": 921,
     "metadata": {},
     "output_type": "execute_result"
    }
   ],
   "source": [
    "torch.Tensor(1, 1, 5)"
   ]
  },
  {
   "cell_type": "code",
   "execution_count": 922,
   "id": "2183763d",
   "metadata": {},
   "outputs": [
    {
     "data": {
      "text/plain": [
       "64"
      ]
     },
     "execution_count": 922,
     "metadata": {},
     "output_type": "execute_result"
    }
   ],
   "source": [
    "512//8"
   ]
  },
  {
   "cell_type": "code",
   "execution_count": 923,
   "id": "2484772f",
   "metadata": {},
   "outputs": [
    {
     "data": {
      "text/plain": [
       "(torch.Size([2, 5, 8]), torch.Size([10, 2, 4]))"
      ]
     },
     "execution_count": 923,
     "metadata": {},
     "output_type": "execute_result"
    }
   ],
   "source": [
    "torch.manual_seed(10)\n",
    "x = torch.randn(2, 5, 8)\n",
    "y = x.view(2, -1, 4).transpose(0, 1)\n",
    "x.shape, y.shape"
   ]
  },
  {
   "cell_type": "code",
   "execution_count": 924,
   "id": "57af49b3",
   "metadata": {},
   "outputs": [
    {
     "data": {
      "text/plain": [
       "tensor([-0.8173, -0.5556, -0.8267, -1.2970, -0.1974, -0.9643, -0.5133,  2.6278])"
      ]
     },
     "execution_count": 924,
     "metadata": {},
     "output_type": "execute_result"
    }
   ],
   "source": [
    "step, batch = 0, 0\n",
    "x[step, batch]"
   ]
  },
  {
   "cell_type": "code",
   "execution_count": 925,
   "id": "f8869563",
   "metadata": {},
   "outputs": [
    {
     "data": {
      "text/plain": [
       "tensor([-0.8173, -0.5556, -0.8267, -1.2970, -0.1974, -0.9643, -0.5133,  2.6278])"
      ]
     },
     "execution_count": 925,
     "metadata": {},
     "output_type": "execute_result"
    }
   ],
   "source": [
    "y[batch:batch+2, step].ravel()"
   ]
  },
  {
   "cell_type": "code",
   "execution_count": 926,
   "id": "608f3099",
   "metadata": {},
   "outputs": [
    {
     "data": {
      "text/plain": [
       "(torch.Size([2, 5, 8]), torch.Size([10, 2, 4]))"
      ]
     },
     "execution_count": 926,
     "metadata": {},
     "output_type": "execute_result"
    }
   ],
   "source": [
    "torch.manual_seed(10)\n",
    "x = torch.randn(2, 5, 8)\n",
    "y = x.view(2, -1, 4).contiguous().transpose(0, 1)\n",
    "x.shape, y.shape"
   ]
  },
  {
   "cell_type": "code",
   "execution_count": 927,
   "id": "0691cace",
   "metadata": {},
   "outputs": [
    {
     "data": {
      "text/plain": [
       "tensor([-0.8173, -0.5556, -0.8267, -1.2970, -0.1974, -0.9643, -0.5133,  2.6278])"
      ]
     },
     "execution_count": 927,
     "metadata": {},
     "output_type": "execute_result"
    }
   ],
   "source": [
    "step, batch = 0, 0\n",
    "x[step, batch]"
   ]
  },
  {
   "cell_type": "code",
   "execution_count": 928,
   "id": "81034e08",
   "metadata": {},
   "outputs": [
    {
     "data": {
      "text/plain": [
       "tensor([-0.8173, -0.5556, -0.8267, -1.2970, -0.1974, -0.9643, -0.5133,  2.6278])"
      ]
     },
     "execution_count": 928,
     "metadata": {},
     "output_type": "execute_result"
    }
   ],
   "source": [
    "y[batch:batch+2, step].ravel()"
   ]
  },
  {
   "cell_type": "code",
   "execution_count": 929,
   "id": "d6765755",
   "metadata": {},
   "outputs": [
    {
     "data": {
      "text/plain": [
       "tensor([[-0.8173, -0.5556, -0.8267, -1.2970],\n",
       "        [-0.1974, -0.9643, -0.5133,  2.6278]])"
      ]
     },
     "execution_count": 929,
     "metadata": {},
     "output_type": "execute_result"
    }
   ],
   "source": [
    "y.view(5, 2, -1, 4)[0, :, 0]"
   ]
  },
  {
   "cell_type": "code",
   "execution_count": 930,
   "id": "ee7e4770",
   "metadata": {},
   "outputs": [
    {
     "data": {
      "text/plain": [
       "torch.Size([2, 5, 8])"
      ]
     },
     "execution_count": 930,
     "metadata": {},
     "output_type": "execute_result"
    }
   ],
   "source": [
    "x.shape"
   ]
  },
  {
   "cell_type": "code",
   "execution_count": 931,
   "id": "e66d8682",
   "metadata": {},
   "outputs": [
    {
     "data": {
      "text/plain": [
       "torch.Size([10, 8])"
      ]
     },
     "execution_count": 931,
     "metadata": {},
     "output_type": "execute_result"
    }
   ],
   "source": [
    "torch.manual_seed(10)\n",
    "x = torch.randn(2, 5, 8)\n",
    "y = x.view(2, -1, 4).transpose(0, 1).contiguous().view(10, -1)\n",
    "y.shape"
   ]
  },
  {
   "cell_type": "code",
   "execution_count": 932,
   "id": "9f36ed4d",
   "metadata": {},
   "outputs": [
    {
     "data": {
      "text/plain": [
       "tensor([[-0.8173, -0.5556, -0.8267, -1.2970],\n",
       "        [-0.1974, -0.9643, -0.5133,  2.6278]])"
      ]
     },
     "execution_count": 932,
     "metadata": {},
     "output_type": "execute_result"
    }
   ],
   "source": [
    "y[batch:batch+2, :4 ]"
   ]
  },
  {
   "cell_type": "code",
   "execution_count": 933,
   "id": "9509c97d",
   "metadata": {},
   "outputs": [
    {
     "data": {
      "text/plain": [
       "tensor([[ 4,  4,  4],\n",
       "        [ 4,  4,  4],\n",
       "        [ 6,  7,  8],\n",
       "        [ 9, 10, 11]])"
      ]
     },
     "execution_count": 933,
     "metadata": {},
     "output_type": "execute_result"
    }
   ],
   "source": [
    "x = torch.arange(12).view(4, 3)\n",
    "y = torch.tensor([0, 1])\n",
    "x.index_fill(0, y, 4)"
   ]
  },
  {
   "cell_type": "code",
   "execution_count": 934,
   "id": "67cbde67",
   "metadata": {},
   "outputs": [
    {
     "data": {
      "text/plain": [
       "tensor([[-5,  1, -5],\n",
       "        [-5,  4, -5],\n",
       "        [-5,  7, -5],\n",
       "        [-5, 10, -5]])"
      ]
     },
     "execution_count": 934,
     "metadata": {},
     "output_type": "execute_result"
    }
   ],
   "source": [
    "x = torch.arange(12).view(4, 3)\n",
    "y = torch.tensor([0, -1])\n",
    "x.index_fill_(1, y, -5)\n",
    "x"
   ]
  },
  {
   "cell_type": "code",
   "execution_count": 935,
   "id": "122c2b32",
   "metadata": {},
   "outputs": [
    {
     "data": {
      "text/plain": [
       "(tensor([[ 0,  1,  2],\n",
       "         [ 3,  4,  5],\n",
       "         [ 6,  7,  8],\n",
       "         [ 9, 10, 11]]),\n",
       " tensor([2, 0, 0]),\n",
       " tensor([[-99,   1, -99],\n",
       "         [-99,   4, -99],\n",
       "         [-99,   7, -99],\n",
       "         [-99,  10, -99]]))"
      ]
     },
     "execution_count": 935,
     "metadata": {},
     "output_type": "execute_result"
    }
   ],
   "source": [
    "x = torch.arange(12).view(4, 3)\n",
    "y = torch.randint(0, 3, size=(3,))\n",
    "x, y, x.index_fill(1, y, -99)"
   ]
  },
  {
   "cell_type": "code",
   "execution_count": 936,
   "id": "7f71826a",
   "metadata": {},
   "outputs": [
    {
     "data": {
      "text/plain": [
       "(tensor([[ 0,  1,  2],\n",
       "         [ 3,  4,  5],\n",
       "         [ 6,  7,  8],\n",
       "         [ 9, 10, 11]]),\n",
       " tensor([[2],\n",
       "         [0],\n",
       "         [1],\n",
       "         [0]]),\n",
       " tensor([[6],\n",
       "         [0],\n",
       "         [3],\n",
       "         [0]]))"
      ]
     },
     "execution_count": 936,
     "metadata": {},
     "output_type": "execute_result"
    }
   ],
   "source": [
    "torch.manual_seed(5)\n",
    "x = torch.arange(12).view(4, 3)\n",
    "y = torch.randint(0, 3, size=(4, 1))\n",
    "x, y, x.gather(0, y)"
   ]
  },
  {
   "cell_type": "code",
   "execution_count": 937,
   "id": "b89e605c",
   "metadata": {},
   "outputs": [
    {
     "data": {
      "text/plain": [
       "(tensor([[ 0,  1,  2],\n",
       "         [ 3,  4,  5],\n",
       "         [ 6,  7,  8],\n",
       "         [ 9, 10, 11]]),\n",
       " tensor([[2, 0, 1],\n",
       "         [0, 2, 1],\n",
       "         [1, 2, 0],\n",
       "         [1, 1, 0]]),\n",
       " tensor([[6, 1, 5],\n",
       "         [0, 7, 5],\n",
       "         [3, 7, 2],\n",
       "         [3, 4, 2]]))"
      ]
     },
     "execution_count": 937,
     "metadata": {},
     "output_type": "execute_result"
    }
   ],
   "source": [
    "torch.manual_seed(5)\n",
    "x = torch.arange(12).view(4, 3)\n",
    "y = torch.randint(0, 3, size=(4, 3))\n",
    "x, y, x.gather(0, y)"
   ]
  },
  {
   "cell_type": "code",
   "execution_count": 938,
   "id": "699b4bd0",
   "metadata": {},
   "outputs": [
    {
     "data": {
      "text/plain": [
       "(tensor([[ 0,  1,  2],\n",
       "         [ 3,  4,  5],\n",
       "         [ 6,  7,  8],\n",
       "         [ 9, 10, 11]]),\n",
       " tensor([[2, 0, 1],\n",
       "         [0, 2, 1]]),\n",
       " tensor([[6, 1, 5],\n",
       "         [0, 7, 5]]))"
      ]
     },
     "execution_count": 938,
     "metadata": {},
     "output_type": "execute_result"
    }
   ],
   "source": [
    "torch.manual_seed(5)\n",
    "x = torch.arange(12).view(4, 3)\n",
    "y = torch.randint(0, 3, size=(2, 3))\n",
    "x, y, x.gather(0, y)"
   ]
  },
  {
   "cell_type": "code",
   "execution_count": 939,
   "id": "4ea2bc9d",
   "metadata": {},
   "outputs": [
    {
     "data": {
      "text/plain": [
       "(tensor([[ 0,  1,  2],\n",
       "         [ 3,  4,  5],\n",
       "         [ 6,  7,  8],\n",
       "         [ 9, 10, 11]]),\n",
       " tensor([1, 2, 0, 1]),\n",
       " tensor([[3, 4, 5],\n",
       "         [6, 7, 8],\n",
       "         [0, 1, 2],\n",
       "         [3, 4, 5]]))"
      ]
     },
     "execution_count": 939,
     "metadata": {},
     "output_type": "execute_result"
    }
   ],
   "source": [
    "x = torch.arange(12).view(4, 3)\n",
    "y = torch.randint(0, 3, size=( 4, ))\n",
    "x, y, x.index_select(0, y)"
   ]
  },
  {
   "cell_type": "code",
   "execution_count": 940,
   "id": "9aacedce",
   "metadata": {},
   "outputs": [
    {
     "data": {
      "text/plain": [
       "(tensor([[ 0,  1,  2],\n",
       "         [ 3,  4,  5],\n",
       "         [ 6,  7,  8],\n",
       "         [ 9, 10, 11]]),\n",
       " tensor([1, 0, 2, 2, 0, 0, 0, 0, 2, 1, 0, 0]),\n",
       " tensor([[3, 4, 5],\n",
       "         [0, 1, 2],\n",
       "         [6, 7, 8],\n",
       "         [6, 7, 8],\n",
       "         [0, 1, 2],\n",
       "         [0, 1, 2],\n",
       "         [0, 1, 2],\n",
       "         [0, 1, 2],\n",
       "         [6, 7, 8],\n",
       "         [3, 4, 5],\n",
       "         [0, 1, 2],\n",
       "         [0, 1, 2]]))"
      ]
     },
     "execution_count": 940,
     "metadata": {},
     "output_type": "execute_result"
    }
   ],
   "source": [
    "x = torch.arange(12).view(4, 3)\n",
    "y = torch.randint(0, 3, size=( 12, ))\n",
    "x, y, x.index_select(0, y)"
   ]
  },
  {
   "cell_type": "code",
   "execution_count": 941,
   "id": "4ee724c3",
   "metadata": {},
   "outputs": [
    {
     "data": {
      "text/plain": [
       "(tensor([[ 0,  1,  2],\n",
       "         [ 3,  4,  5],\n",
       "         [ 6,  7,  8],\n",
       "         [ 9, 10, 11]]),\n",
       " tensor([0, 0, 2, 1, 1, 0, 2, 0, 0, 2, 2, 0]),\n",
       " tensor([[ 0,  0,  2,  1,  1,  0,  2,  0,  0,  2,  2,  0],\n",
       "         [ 3,  3,  5,  4,  4,  3,  5,  3,  3,  5,  5,  3],\n",
       "         [ 6,  6,  8,  7,  7,  6,  8,  6,  6,  8,  8,  6],\n",
       "         [ 9,  9, 11, 10, 10,  9, 11,  9,  9, 11, 11,  9]]))"
      ]
     },
     "execution_count": 941,
     "metadata": {},
     "output_type": "execute_result"
    }
   ],
   "source": [
    "x = torch.arange(12).view(4, 3)\n",
    "y = torch.randint(0, 3, size=( 12, ))\n",
    "x, y, x.index_select(1, y)"
   ]
  },
  {
   "cell_type": "code",
   "execution_count": 942,
   "id": "5121365a",
   "metadata": {},
   "outputs": [
    {
     "data": {
      "text/plain": [
       "(tensor([[ 0,  1,  2],\n",
       "         [ 3,  4,  5],\n",
       "         [ 6,  7,  8],\n",
       "         [ 9, 10, 11]]),\n",
       " tensor([[False,  True, False],\n",
       "         [False, False,  True],\n",
       "         [ True,  True,  True],\n",
       "         [ True,  True, False]]),\n",
       " tensor([ 1,  5,  6,  7,  8,  9, 10]))"
      ]
     },
     "execution_count": 942,
     "metadata": {},
     "output_type": "execute_result"
    }
   ],
   "source": [
    "torch.manual_seed(5)\n",
    "x = torch.arange(12).view(4, 3)\n",
    "y = torch.bernoulli(torch.empty_like(x.float()).uniform_(0, 1.), 0.5).bool()\n",
    "x, y, torch.masked_select(x, y)"
   ]
  },
  {
   "cell_type": "code",
   "execution_count": 943,
   "id": "bda5d0f9",
   "metadata": {},
   "outputs": [
    {
     "data": {
      "text/plain": [
       "(tensor([[ 0,  1,  2],\n",
       "         [ 3,  4,  5],\n",
       "         [ 6,  7,  8],\n",
       "         [ 9, 10, 11]]),\n",
       " tensor([[False,  True, False],\n",
       "         [False, False,  True],\n",
       "         [ True,  True,  True],\n",
       "         [ True,  True, False]]),\n",
       " tensor([[False],\n",
       "         [False],\n",
       "         [ True],\n",
       "         [ True]]),\n",
       " tensor([ 6,  7,  8,  9, 10, 11]))"
      ]
     },
     "execution_count": 943,
     "metadata": {},
     "output_type": "execute_result"
    }
   ],
   "source": [
    "torch.manual_seed(5)\n",
    "x = torch.arange(12).view(4, 3)\n",
    "y = torch.bernoulli(torch.empty_like(x.float()).uniform_(0, 1.), 0.5).bool()\n",
    "x, y, y[:, 0].view(4, 1), torch.masked_select(x, y[:, 0].view(4, 1))"
   ]
  },
  {
   "cell_type": "code",
   "execution_count": 944,
   "id": "911c73e8",
   "metadata": {},
   "outputs": [
    {
     "data": {
      "text/plain": [
       "(tensor([[ 0,  1,  2],\n",
       "         [ 3,  4,  5],\n",
       "         [ 6,  7,  8],\n",
       "         [ 9, 10, 11]]),\n",
       " tensor([[False,  True, False],\n",
       "         [False, False,  True],\n",
       "         [ True,  True,  True],\n",
       "         [ True,  True, False]]),\n",
       " tensor([[False,  True, False]]),\n",
       " tensor([ 1,  4,  7, 10]))"
      ]
     },
     "execution_count": 944,
     "metadata": {},
     "output_type": "execute_result"
    }
   ],
   "source": [
    "torch.manual_seed(5)\n",
    "x = torch.arange(12).view(4, 3)\n",
    "y = torch.bernoulli(torch.empty_like(x.float()).uniform_(0, 1.), 0.5).bool()\n",
    "x, y, y[0, :].view(1, 3), torch.masked_select(x, y[0, :], )"
   ]
  },
  {
   "cell_type": "code",
   "execution_count": 945,
   "id": "b0604666",
   "metadata": {},
   "outputs": [
    {
     "data": {
      "text/plain": [
       "(tensor([[ 0,  1,  2],\n",
       "         [ 3,  4,  5],\n",
       "         [ 6,  7,  8],\n",
       "         [ 9, 10, 11]]),\n",
       " tensor([[False,  True, False],\n",
       "         [False, False,  True],\n",
       "         [ True,  True,  True],\n",
       "         [ True,  True, False]]),\n",
       " tensor([[ 0, -5,  2],\n",
       "         [ 3,  4, -5],\n",
       "         [-5, -5, -5],\n",
       "         [-5, -5, 11]]))"
      ]
     },
     "execution_count": 945,
     "metadata": {},
     "output_type": "execute_result"
    }
   ],
   "source": [
    "torch.manual_seed(5)\n",
    "x = torch.arange(12).view(4, 3)\n",
    "y = torch.bernoulli(torch.empty_like(x.float()).uniform_(0, 1.), 0.5).bool()\n",
    "x, y, x.masked_fill(y, -5) # Only float allowed"
   ]
  },
  {
   "cell_type": "code",
   "execution_count": 946,
   "id": "f0917d8f",
   "metadata": {},
   "outputs": [
    {
     "data": {
      "text/plain": [
       "(tensor([[ 0,  1,  2],\n",
       "         [ 3,  4,  5],\n",
       "         [ 6,  7,  8],\n",
       "         [ 9, 10, 11]]),\n",
       " tensor([[False,  True, False],\n",
       "         [False, False,  True],\n",
       "         [ True,  True,  True],\n",
       "         [ True,  True, False]]),\n",
       " tensor([[False],\n",
       "         [False],\n",
       "         [ True],\n",
       "         [ True]]),\n",
       " tensor([[ 0,  1,  2],\n",
       "         [ 3,  4,  5],\n",
       "         [-5, -5, -5],\n",
       "         [-5, -5, -5]]))"
      ]
     },
     "execution_count": 946,
     "metadata": {},
     "output_type": "execute_result"
    }
   ],
   "source": [
    "torch.manual_seed(5)\n",
    "x = torch.arange(12).view(4, 3)\n",
    "y = torch.bernoulli(torch.empty_like(x.float()).uniform_(0, 1.), 0.5).bool()\n",
    "x, y, y[:, 0].view(4, 1), torch.masked_fill(x, y[:, 0].view(4, 1), -5)"
   ]
  },
  {
   "cell_type": "code",
   "execution_count": 947,
   "id": "39568d63",
   "metadata": {},
   "outputs": [
    {
     "data": {
      "text/plain": [
       "(tensor([[0, 0, 0, 0, 0],\n",
       "         [0, 0, 0, 0, 0]]),\n",
       " tensor([[0, 0, 0, 1, 1],\n",
       "         [1, 1, 0, 1, 1]]),\n",
       " tensor([[0, 1, 2, 3, 4],\n",
       "         [5, 6, 7, 8, 9]]),\n",
       " tensor([[0, 0, 0, 0, 1],\n",
       "         [2, 3, 0, 4, 5]]))"
      ]
     },
     "execution_count": 947,
     "metadata": {},
     "output_type": "execute_result"
    }
   ],
   "source": [
    "torch.manual_seed(5)\n",
    "x = torch.tensor([[0, 0, 0, 0, 0], [0, 0, 0, 0, 0]])\n",
    "mask = torch.tensor([[0, 0, 0, 1, 1], [1, 1, 0, 1, 1]])\n",
    "source = torch.tensor([[0, 1, 2, 3, 4], [5, 6, 7, 8, 9]])\n",
    "x, mask, source, x.masked_scatter(mask, source)"
   ]
  },
  {
   "cell_type": "code",
   "execution_count": null,
   "id": "41d1cccb",
   "metadata": {},
   "outputs": [],
   "source": []
  }
 ],
 "metadata": {
  "kernelspec": {
   "display_name": "Python 3.9.10 ('env')",
   "language": "python",
   "name": "python3"
  },
  "language_info": {
   "codemirror_mode": {
    "name": "ipython",
    "version": 3
   },
   "file_extension": ".py",
   "mimetype": "text/x-python",
   "name": "python",
   "nbconvert_exporter": "python",
   "pygments_lexer": "ipython3",
   "version": "3.9.10"
  },
  "toc-showtags": false,
  "vscode": {
   "interpreter": {
    "hash": "f7d1c444690c64dc164009c81e7c7e493213a917c1ee917acb226d895d2dc691"
   }
  }
 },
 "nbformat": 4,
 "nbformat_minor": 5
}
