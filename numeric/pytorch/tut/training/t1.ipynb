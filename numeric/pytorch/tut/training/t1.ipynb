{
 "cells": [
  {
   "cell_type": "code",
   "execution_count": 1,
   "id": "b7ad7870",
   "metadata": {},
   "outputs": [],
   "source": [
    "import torch\n",
    "import numpy as np\n",
    "import array\n",
    "import itertools\n"
   ]
  },
  {
   "cell_type": "code",
   "execution_count": 2,
   "id": "ec9acec7",
   "metadata": {},
   "outputs": [
    {
     "data": {
      "text/plain": [
       "'1.12.1+cu116'"
      ]
     },
     "execution_count": 2,
     "metadata": {},
     "output_type": "execute_result"
    }
   ],
   "source": [
    "torch.__version__"
   ]
  },
  {
   "cell_type": "code",
   "execution_count": 3,
   "id": "4d35308a-e79a-46fc-8518-050cb4e2d41a",
   "metadata": {
    "pycharm": {
     "name": "#%%\n"
    }
   },
   "outputs": [],
   "source": [
    "t = torch.tensor(1)"
   ]
  },
  {
   "cell_type": "code",
   "execution_count": 4,
   "id": "4e618c3b-49ab-45a4-9cde-3ca2e2041474",
   "metadata": {
    "pycharm": {
     "name": "#%%\n"
    }
   },
   "outputs": [
    {
     "data": {
      "text/plain": [
       "tensor(1)"
      ]
     },
     "execution_count": 4,
     "metadata": {},
     "output_type": "execute_result"
    }
   ],
   "source": [
    "t"
   ]
  },
  {
   "cell_type": "code",
   "execution_count": 5,
   "id": "40283e69-c52c-47d6-9b0a-9259a1497caa",
   "metadata": {
    "pycharm": {
     "name": "#%%\n"
    }
   },
   "outputs": [
    {
     "data": {
      "text/plain": [
       "torch.Size([])"
      ]
     },
     "execution_count": 5,
     "metadata": {},
     "output_type": "execute_result"
    }
   ],
   "source": [
    "t.shape"
   ]
  },
  {
   "cell_type": "code",
   "execution_count": 6,
   "id": "ca661468-3c61-47f8-bac8-f37af7872bc3",
   "metadata": {
    "pycharm": {
     "name": "#%%\n"
    }
   },
   "outputs": [],
   "source": [
    "x = t + torch.tensor([1, 2])"
   ]
  },
  {
   "cell_type": "code",
   "execution_count": 7,
   "id": "323d4904-0be7-443d-bfac-a12fd75b3cb6",
   "metadata": {
    "pycharm": {
     "name": "#%%\n"
    }
   },
   "outputs": [
    {
     "data": {
      "text/plain": [
       "tensor([2, 3])"
      ]
     },
     "execution_count": 7,
     "metadata": {},
     "output_type": "execute_result"
    }
   ],
   "source": [
    "x"
   ]
  },
  {
   "cell_type": "code",
   "execution_count": 8,
   "id": "0123518a-57dc-473b-8434-64f58bd9fcd5",
   "metadata": {
    "pycharm": {
     "name": "#%%\n"
    }
   },
   "outputs": [
    {
     "data": {
      "text/plain": [
       "torch.Size([2])"
      ]
     },
     "execution_count": 8,
     "metadata": {},
     "output_type": "execute_result"
    }
   ],
   "source": [
    "x.shape"
   ]
  },
  {
   "cell_type": "code",
   "execution_count": 9,
   "id": "2a2b18f7-065d-4cac-b772-5ee2a9825caa",
   "metadata": {
    "pycharm": {
     "name": "#%%\n"
    }
   },
   "outputs": [],
   "source": [
    "a = \"12\""
   ]
  },
  {
   "cell_type": "code",
   "execution_count": 10,
   "id": "126a1151-3a97-4ada-b010-a37afc08fb11",
   "metadata": {
    "pycharm": {
     "name": "#%%\n"
    }
   },
   "outputs": [
    {
     "data": {
      "text/plain": [
       "False"
      ]
     },
     "execution_count": 10,
     "metadata": {},
     "output_type": "execute_result"
    }
   ],
   "source": [
    "torch.is_tensor(a)"
   ]
  },
  {
   "cell_type": "code",
   "execution_count": 11,
   "id": "ce626628-e8c8-4ec3-8301-68895c5534d9",
   "metadata": {
    "pycharm": {
     "name": "#%%\n"
    }
   },
   "outputs": [
    {
     "data": {
      "text/plain": [
       "True"
      ]
     },
     "execution_count": 11,
     "metadata": {},
     "output_type": "execute_result"
    }
   ],
   "source": [
    "torch.is_tensor(x)"
   ]
  },
  {
   "cell_type": "code",
   "execution_count": 12,
   "id": "864d4981-590a-4dea-b965-f053aabd5b29",
   "metadata": {
    "pycharm": {
     "name": "#%%\n"
    }
   },
   "outputs": [
    {
     "data": {
      "text/plain": [
       "False"
      ]
     },
     "execution_count": 12,
     "metadata": {},
     "output_type": "execute_result"
    }
   ],
   "source": [
    "torch.is_floating_point(x)"
   ]
  },
  {
   "cell_type": "code",
   "execution_count": 13,
   "id": "c9f03f7c-442a-405c-bcdf-97d1408d5ea1",
   "metadata": {
    "pycharm": {
     "name": "#%%\n"
    }
   },
   "outputs": [
    {
     "data": {
      "text/plain": [
       "True"
      ]
     },
     "execution_count": 13,
     "metadata": {},
     "output_type": "execute_result"
    }
   ],
   "source": [
    "torch.is_nonzero(x[0])"
   ]
  },
  {
   "cell_type": "code",
   "execution_count": 14,
   "id": "02f40e81-5396-4d8a-9422-4c5262724d67",
   "metadata": {
    "pycharm": {
     "name": "#%%\n"
    }
   },
   "outputs": [],
   "source": [
    "y = torch.tensor((1.3, 2.4))"
   ]
  },
  {
   "cell_type": "code",
   "execution_count": 15,
   "id": "ea991306-014b-40da-af32-7e00d34f197d",
   "metadata": {
    "pycharm": {
     "name": "#%%\n"
    }
   },
   "outputs": [
    {
     "data": {
      "text/plain": [
       "torch.float32"
      ]
     },
     "execution_count": 15,
     "metadata": {},
     "output_type": "execute_result"
    }
   ],
   "source": [
    "y.dtype"
   ]
  },
  {
   "cell_type": "code",
   "execution_count": 16,
   "id": "02eb2c89-7d6f-49c2-8109-158f3c166bda",
   "metadata": {
    "pycharm": {
     "name": "#%%\n"
    }
   },
   "outputs": [
    {
     "data": {
      "text/plain": [
       "torch.Size([1, 5, 2])"
      ]
     },
     "execution_count": 16,
     "metadata": {},
     "output_type": "execute_result"
    }
   ],
   "source": [
    "torch.tensor(np.linspace(0, 30, 10).reshape(1, 5, 2)).shape"
   ]
  },
  {
   "cell_type": "code",
   "execution_count": 17,
   "id": "1572e575-0d22-4eb3-9a33-1ab5bb53851d",
   "metadata": {
    "pycharm": {
     "name": "#%%\n"
    }
   },
   "outputs": [
    {
     "data": {
      "text/plain": [
       "3"
      ]
     },
     "execution_count": 17,
     "metadata": {},
     "output_type": "execute_result"
    }
   ],
   "source": [
    "torch.tensor(np.linspace(0, 30, 10).reshape(1, 5, 2)).dim()"
   ]
  },
  {
   "cell_type": "code",
   "execution_count": 18,
   "id": "9e9cd037-a6c8-43ae-a3cc-98d631d900cd",
   "metadata": {
    "pycharm": {
     "name": "#%%\n"
    }
   },
   "outputs": [
    {
     "data": {
      "text/plain": [
       "torch.Size([1, 5, 2])"
      ]
     },
     "execution_count": 18,
     "metadata": {},
     "output_type": "execute_result"
    }
   ],
   "source": [
    "torch.tensor(np.linspace(0, 30, 10).reshape(1, 5, 2)).size()"
   ]
  },
  {
   "cell_type": "code",
   "execution_count": 19,
   "id": "696b773c-aeb6-4763-b56b-c96575ed4ee1",
   "metadata": {
    "pycharm": {
     "name": "#%%\n"
    }
   },
   "outputs": [],
   "source": [
    "x = torch.tensor(np.linspace(0, 30, 10).reshape(1, 5, 2))"
   ]
  },
  {
   "cell_type": "code",
   "execution_count": 20,
   "id": "835732c5",
   "metadata": {
    "pycharm": {
     "name": "#%%\n"
    }
   },
   "outputs": [
    {
     "name": "stdout",
     "output_type": "stream",
     "text": [
      "tensor([1, 2, 3]) [1, 2, 3, 4]\n"
     ]
    }
   ],
   "source": [
    "y = [1, 2, 3]\n",
    "x = torch.tensor(y)\n",
    "y.append(4)\n",
    "print(x, y)"
   ]
  },
  {
   "cell_type": "code",
   "execution_count": 21,
   "id": "660a2c56-402c-48a3-a479-f53cdcd96c44",
   "metadata": {
    "pycharm": {
     "name": "#%%\n"
    }
   },
   "outputs": [
    {
     "name": "stdout",
     "output_type": "stream",
     "text": [
      "tensor([1, 2, 3]) [20, 2, 3]\n"
     ]
    }
   ],
   "source": [
    "y = [1, 2, 3]\n",
    "x = torch.tensor(y)\n",
    "y[0] = 20\n",
    "print(x, y)"
   ]
  },
  {
   "cell_type": "code",
   "execution_count": 22,
   "id": "21bf949c-696b-4b56-8a84-688558b750a0",
   "metadata": {
    "pycharm": {
     "name": "#%%\n"
    }
   },
   "outputs": [
    {
     "name": "stdout",
     "output_type": "stream",
     "text": [
      "tensor([20,  2,  3]) [20  2  3]\n"
     ]
    }
   ],
   "source": [
    "y = np.array([1, 2, 3])\n",
    "x = torch.as_tensor(y)\n",
    "y[0] = 20\n",
    "print(x, y)"
   ]
  },
  {
   "cell_type": "code",
   "execution_count": 23,
   "id": "88ba9dfe",
   "metadata": {},
   "outputs": [
    {
     "data": {
      "text/plain": [
       "tensor([1., 1., 1., 1., 1., 1., 1., 1., 1., 1.])"
      ]
     },
     "execution_count": 23,
     "metadata": {},
     "output_type": "execute_result"
    }
   ],
   "source": [
    "x = torch.arange(10).float().requires_grad_()\n",
    "y = x.sum()\n",
    "y.backward()\n",
    "z = torch.as_tensor(x)\n",
    "\n",
    "x.grad"
   ]
  },
  {
   "cell_type": "code",
   "execution_count": 24,
   "id": "24421d90",
   "metadata": {},
   "outputs": [
    {
     "data": {
      "text/plain": [
       "tensor([4., 4., 4., 4., 4., 4., 4., 4., 4., 4.])"
      ]
     },
     "execution_count": 24,
     "metadata": {},
     "output_type": "execute_result"
    }
   ],
   "source": [
    "x = torch.arange(10).float().requires_grad_()\n",
    "y = x.sum()\n",
    "y.backward()\n",
    "z = torch.as_tensor(y)\n",
    "w = 3*z\n",
    "w.backward()\n",
    "x.grad"
   ]
  },
  {
   "cell_type": "code",
   "execution_count": 25,
   "id": "f50874d2-96cb-4c71-ab33-6e1ef1c18ab1",
   "metadata": {
    "pycharm": {
     "name": "#%%\n"
    }
   },
   "outputs": [
    {
     "name": "stdout",
     "output_type": "stream",
     "text": [
      "tensor([1, 2, 3]) [1 2 3]\n",
      "tensor([1, 2, 3], device='cuda:0') [-1  2  3]\n"
     ]
    }
   ],
   "source": [
    "y = np.array([1, 2, 3])\n",
    "x = torch.as_tensor(y)\n",
    "print(x, y)\n",
    "x = torch.from_numpy(y).cuda()\n",
    "y[0] = -1\n",
    "print(x, y)"
   ]
  },
  {
   "cell_type": "code",
   "execution_count": 26,
   "id": "67c3dd8e-6bde-45df-9d18-6685e36b14e4",
   "metadata": {
    "pycharm": {
     "name": "#%%\n"
    }
   },
   "outputs": [
    {
     "name": "stdout",
     "output_type": "stream",
     "text": [
      "tensor([1, 2, 3], device='cuda:0') [20  2  3]\n"
     ]
    }
   ],
   "source": [
    "y = np.array([1, 2, 3])\n",
    "x = torch.as_tensor(y).cuda()\n",
    "y[0] = 20\n",
    "print(x, y)"
   ]
  },
  {
   "cell_type": "code",
   "execution_count": 27,
   "id": "87bfe117-5788-41c8-9ad3-abfb21104d3c",
   "metadata": {
    "pycharm": {
     "name": "#%%\n"
    }
   },
   "outputs": [],
   "source": [
    "x.detach().cpu()[0] = 4"
   ]
  },
  {
   "cell_type": "code",
   "execution_count": 28,
   "id": "3d86f019-a327-40db-84a4-0bbf94f0e110",
   "metadata": {
    "pycharm": {
     "name": "#%%\n"
    }
   },
   "outputs": [],
   "source": [
    "x = torch.tensor([[1]])"
   ]
  },
  {
   "cell_type": "code",
   "execution_count": 29,
   "id": "ebe074e7-d10b-4f98-a58f-18712e8e1694",
   "metadata": {
    "pycharm": {
     "name": "#%%\n"
    }
   },
   "outputs": [
    {
     "data": {
      "text/plain": [
       "1"
      ]
     },
     "execution_count": 29,
     "metadata": {},
     "output_type": "execute_result"
    }
   ],
   "source": [
    "x.item()"
   ]
  },
  {
   "cell_type": "code",
   "execution_count": 30,
   "id": "d9cf5fec-4e4a-4dd0-879c-2a03def9237f",
   "metadata": {
    "pycharm": {
     "name": "#%%\n"
    }
   },
   "outputs": [],
   "source": [
    "x = torch.from_numpy(np.random.standard_normal((2, 3, 5)))"
   ]
  },
  {
   "cell_type": "code",
   "execution_count": 31,
   "id": "a38e2385-147e-4187-88c7-8bdc2d01beb8",
   "metadata": {
    "pycharm": {
     "name": "#%%\n"
    }
   },
   "outputs": [
    {
     "data": {
      "text/plain": [
       "(tensor([[[-0.8403, -0.8579, -1.0917, -0.3671, -0.1498],\n",
       "          [-0.2867, -0.9575, -0.8574,  1.8057,  0.6838],\n",
       "          [-1.4822, -0.4928, -1.0739,  0.1018,  0.1228]],\n",
       " \n",
       "         [[-1.3857,  1.5200, -0.1191, -1.9383,  1.3128],\n",
       "          [ 0.8102,  0.8577, -1.9701, -0.9148, -0.5477],\n",
       "          [ 0.7166, -0.7231, -0.0551, -0.0477, -0.0906]]], dtype=torch.float64),\n",
       " torch.Size([2, 3, 5]))"
      ]
     },
     "execution_count": 31,
     "metadata": {},
     "output_type": "execute_result"
    }
   ],
   "source": [
    "x, x.shape"
   ]
  },
  {
   "cell_type": "code",
   "execution_count": 32,
   "id": "c78e2fb6-9164-49cf-bdfc-9b45a3afeb6b",
   "metadata": {
    "pycharm": {
     "name": "#%%\n"
    }
   },
   "outputs": [
    {
     "name": "stderr",
     "output_type": "stream",
     "text": [
      "/tmp/ipykernel_11739/3687214812.py:1: UserWarning: The use of `x.T` on tensors of dimension other than 2 to reverse their shape is deprecated and it will throw an error in a future release. Consider `x.mT` to transpose batches of matricesor `x.permute(*torch.arange(x.ndim - 1, -1, -1))` to reverse the dimensions of a tensor. (Triggered internally at  ../aten/src/ATen/native/TensorShape.cpp:2981.)\n",
      "  x.T, x.T.shape\n"
     ]
    },
    {
     "data": {
      "text/plain": [
       "(tensor([[[-0.8403, -1.3857],\n",
       "          [-0.2867,  0.8102],\n",
       "          [-1.4822,  0.7166]],\n",
       " \n",
       "         [[-0.8579,  1.5200],\n",
       "          [-0.9575,  0.8577],\n",
       "          [-0.4928, -0.7231]],\n",
       " \n",
       "         [[-1.0917, -0.1191],\n",
       "          [-0.8574, -1.9701],\n",
       "          [-1.0739, -0.0551]],\n",
       " \n",
       "         [[-0.3671, -1.9383],\n",
       "          [ 1.8057, -0.9148],\n",
       "          [ 0.1018, -0.0477]],\n",
       " \n",
       "         [[-0.1498,  1.3128],\n",
       "          [ 0.6838, -0.5477],\n",
       "          [ 0.1228, -0.0906]]], dtype=torch.float64),\n",
       " torch.Size([5, 3, 2]))"
      ]
     },
     "execution_count": 32,
     "metadata": {},
     "output_type": "execute_result"
    }
   ],
   "source": [
    "x.T, x.T.shape"
   ]
  },
  {
   "cell_type": "code",
   "execution_count": 33,
   "id": "e44e4e46-6e86-4093-9e80-4bfb054d95b4",
   "metadata": {
    "pycharm": {
     "name": "#%%\n"
    }
   },
   "outputs": [],
   "source": [
    "# view of x\n",
    "y = x.T"
   ]
  },
  {
   "cell_type": "code",
   "execution_count": 34,
   "id": "c102c88e-947c-476f-8c50-a9b02300be07",
   "metadata": {
    "pycharm": {
     "name": "#%%\n"
    }
   },
   "outputs": [],
   "source": [
    "y[0][0][0] = -6"
   ]
  },
  {
   "cell_type": "code",
   "execution_count": 35,
   "id": "73c4b26a-8a6f-4fa0-95af-ebafe47741b7",
   "metadata": {
    "pycharm": {
     "name": "#%%\n"
    }
   },
   "outputs": [
    {
     "data": {
      "text/plain": [
       "tensor([[[-6.0000, -0.8579, -1.0917, -0.3671, -0.1498],\n",
       "         [-0.2867, -0.9575, -0.8574,  1.8057,  0.6838],\n",
       "         [-1.4822, -0.4928, -1.0739,  0.1018,  0.1228]],\n",
       "\n",
       "        [[-1.3857,  1.5200, -0.1191, -1.9383,  1.3128],\n",
       "         [ 0.8102,  0.8577, -1.9701, -0.9148, -0.5477],\n",
       "         [ 0.7166, -0.7231, -0.0551, -0.0477, -0.0906]]], dtype=torch.float64)"
      ]
     },
     "execution_count": 35,
     "metadata": {},
     "output_type": "execute_result"
    }
   ],
   "source": [
    "x"
   ]
  },
  {
   "cell_type": "code",
   "execution_count": 36,
   "id": "bd259a02-bb2f-40a6-8af6-8d4e9c121830",
   "metadata": {
    "pycharm": {
     "name": "#%%\n"
    }
   },
   "outputs": [],
   "source": [
    "z = x.permute((2, 1, 0))"
   ]
  },
  {
   "cell_type": "code",
   "execution_count": 37,
   "id": "da28810f-65ab-487c-a93e-35b95b432648",
   "metadata": {
    "pycharm": {
     "name": "#%%\n"
    }
   },
   "outputs": [
    {
     "data": {
      "text/plain": [
       "tensor([[[-6.0000, -1.3857],\n",
       "         [-0.2867,  0.8102],\n",
       "         [-1.4822,  0.7166]],\n",
       "\n",
       "        [[-0.8579,  1.5200],\n",
       "         [-0.9575,  0.8577],\n",
       "         [-0.4928, -0.7231]],\n",
       "\n",
       "        [[-1.0917, -0.1191],\n",
       "         [-0.8574, -1.9701],\n",
       "         [-1.0739, -0.0551]],\n",
       "\n",
       "        [[-0.3671, -1.9383],\n",
       "         [ 1.8057, -0.9148],\n",
       "         [ 0.1018, -0.0477]],\n",
       "\n",
       "        [[-0.1498,  1.3128],\n",
       "         [ 0.6838, -0.5477],\n",
       "         [ 0.1228, -0.0906]]], dtype=torch.float64)"
      ]
     },
     "execution_count": 37,
     "metadata": {},
     "output_type": "execute_result"
    }
   ],
   "source": [
    "z"
   ]
  },
  {
   "cell_type": "code",
   "execution_count": 38,
   "id": "6b54b553-07b5-40e9-bfb8-c6c85ddfed7e",
   "metadata": {
    "pycharm": {
     "name": "#%%\n"
    }
   },
   "outputs": [],
   "source": [
    "# View\n",
    "z[0] *= 2"
   ]
  },
  {
   "cell_type": "code",
   "execution_count": 39,
   "id": "09dcff0d-5f46-426b-bb0b-cad07ca302fe",
   "metadata": {
    "pycharm": {
     "name": "#%%\n"
    }
   },
   "outputs": [
    {
     "data": {
      "text/plain": [
       "tensor([[[-12.0000,  -2.7715],\n",
       "         [ -0.5734,   1.6205],\n",
       "         [ -2.9644,   1.4332]],\n",
       "\n",
       "        [[ -0.8579,   1.5200],\n",
       "         [ -0.9575,   0.8577],\n",
       "         [ -0.4928,  -0.7231]],\n",
       "\n",
       "        [[ -1.0917,  -0.1191],\n",
       "         [ -0.8574,  -1.9701],\n",
       "         [ -1.0739,  -0.0551]],\n",
       "\n",
       "        [[ -0.3671,  -1.9383],\n",
       "         [  1.8057,  -0.9148],\n",
       "         [  0.1018,  -0.0477]],\n",
       "\n",
       "        [[ -0.1498,   1.3128],\n",
       "         [  0.6838,  -0.5477],\n",
       "         [  0.1228,  -0.0906]]], dtype=torch.float64)"
      ]
     },
     "execution_count": 39,
     "metadata": {},
     "output_type": "execute_result"
    }
   ],
   "source": [
    "z"
   ]
  },
  {
   "cell_type": "code",
   "execution_count": 40,
   "id": "608b9643-0726-4b4e-bf9e-3952aaa8cd77",
   "metadata": {
    "pycharm": {
     "name": "#%%\n"
    }
   },
   "outputs": [
    {
     "data": {
      "text/plain": [
       "tensor([[[-12.0000,  -0.8579,  -1.0917,  -0.3671,  -0.1498],\n",
       "         [ -0.5734,  -0.9575,  -0.8574,   1.8057,   0.6838],\n",
       "         [ -2.9644,  -0.4928,  -1.0739,   0.1018,   0.1228]],\n",
       "\n",
       "        [[ -2.7715,   1.5200,  -0.1191,  -1.9383,   1.3128],\n",
       "         [  1.6205,   0.8577,  -1.9701,  -0.9148,  -0.5477],\n",
       "         [  1.4332,  -0.7231,  -0.0551,  -0.0477,  -0.0906]]],\n",
       "       dtype=torch.float64)"
      ]
     },
     "execution_count": 40,
     "metadata": {},
     "output_type": "execute_result"
    }
   ],
   "source": [
    "x"
   ]
  },
  {
   "cell_type": "code",
   "execution_count": 41,
   "id": "f0cdc5b6-31b4-4b8f-868c-fd2d8d0ce0ef",
   "metadata": {
    "pycharm": {
     "name": "#%%\n"
    }
   },
   "outputs": [
    {
     "data": {
      "text/plain": [
       "torch.Size([2, 3, 5])"
      ]
     },
     "execution_count": 41,
     "metadata": {},
     "output_type": "execute_result"
    }
   ],
   "source": [
    "x.shape"
   ]
  },
  {
   "cell_type": "code",
   "execution_count": 42,
   "id": "d933d874-46d4-48ea-8686-4e1c68cac5ae",
   "metadata": {
    "pycharm": {
     "name": "#%%\n"
    }
   },
   "outputs": [
    {
     "data": {
      "text/plain": [
       "(tensor([[[-12.0000,  -2.7715],\n",
       "          [ -0.5734,   1.6205],\n",
       "          [ -2.9644,   1.4332]],\n",
       " \n",
       "         [[ -0.8579,   1.5200],\n",
       "          [ -0.9575,   0.8577],\n",
       "          [ -0.4928,  -0.7231]],\n",
       " \n",
       "         [[ -1.0917,  -0.1191],\n",
       "          [ -0.8574,  -1.9701],\n",
       "          [ -1.0739,  -0.0551]],\n",
       " \n",
       "         [[ -0.3671,  -1.9383],\n",
       "          [  1.8057,  -0.9148],\n",
       "          [  0.1018,  -0.0477]],\n",
       " \n",
       "         [[ -0.1498,   1.3128],\n",
       "          [  0.6838,  -0.5477],\n",
       "          [  0.1228,  -0.0906]]], dtype=torch.float64),\n",
       " torch.Size([5, 3, 2]))"
      ]
     },
     "execution_count": 42,
     "metadata": {},
     "output_type": "execute_result"
    }
   ],
   "source": [
    "x.T, x.T.shape"
   ]
  },
  {
   "cell_type": "code",
   "execution_count": 43,
   "id": "cb8c0073-42f7-4ed2-b797-07d4af7f3911",
   "metadata": {
    "pycharm": {
     "name": "#%%\n"
    }
   },
   "outputs": [
    {
     "data": {
      "text/plain": [
       "tensor([[[-12.0000,  -0.5734,  -2.9644],\n",
       "         [ -0.8579,  -0.9575,  -0.4928],\n",
       "         [ -1.0917,  -0.8574,  -1.0739],\n",
       "         [ -0.3671,   1.8057,   0.1018],\n",
       "         [ -0.1498,   0.6838,   0.1228]],\n",
       "\n",
       "        [[ -2.7715,   1.6205,   1.4332],\n",
       "         [  1.5200,   0.8577,  -0.7231],\n",
       "         [ -0.1191,  -1.9701,  -0.0551],\n",
       "         [ -1.9383,  -0.9148,  -0.0477],\n",
       "         [  1.3128,  -0.5477,  -0.0906]]], dtype=torch.float64)"
      ]
     },
     "execution_count": 43,
     "metadata": {},
     "output_type": "execute_result"
    }
   ],
   "source": [
    "x.mT"
   ]
  },
  {
   "cell_type": "code",
   "execution_count": 44,
   "id": "7a89918e-75da-436a-af9b-4d9cd749d12b",
   "metadata": {
    "pycharm": {
     "name": "#%%\n"
    }
   },
   "outputs": [
    {
     "data": {
      "text/plain": [
       "torch.Size([2, 5, 3])"
      ]
     },
     "execution_count": 44,
     "metadata": {},
     "output_type": "execute_result"
    }
   ],
   "source": [
    "x.mT.shape"
   ]
  },
  {
   "cell_type": "code",
   "execution_count": 45,
   "id": "77c93a59-14ca-47f2-9064-49439aa12fb0",
   "metadata": {
    "pycharm": {
     "name": "#%%\n"
    }
   },
   "outputs": [],
   "source": [
    "x = torch.from_numpy(np.random.standard_normal((2, 4, 3)))"
   ]
  },
  {
   "cell_type": "code",
   "execution_count": 46,
   "id": "02361535-2df5-4540-b070-03eb3cdabd2c",
   "metadata": {
    "pycharm": {
     "name": "#%%\n"
    }
   },
   "outputs": [
    {
     "data": {
      "text/plain": [
       "tensor([[[ 0.9641,  0.2640,  0.7015],\n",
       "         [-1.2162,  0.3629, -1.6472],\n",
       "         [-0.5718,  0.1935, -0.2064],\n",
       "         [-2.4294, -0.0310, -0.7922]],\n",
       "\n",
       "        [[-0.1972, -1.4377,  0.4741],\n",
       "         [ 0.4425,  1.2312,  0.5249],\n",
       "         [-0.4134, -0.1628,  1.4354],\n",
       "         [-0.2048,  0.5252, -1.2311]]], dtype=torch.float64)"
      ]
     },
     "execution_count": 46,
     "metadata": {},
     "output_type": "execute_result"
    }
   ],
   "source": [
    "x"
   ]
  },
  {
   "cell_type": "code",
   "execution_count": 47,
   "id": "033c1688-8a1e-4a1d-ac8e-b35eacfb32b2",
   "metadata": {
    "pycharm": {
     "name": "#%%\n"
    }
   },
   "outputs": [
    {
     "data": {
      "text/plain": [
       "tensor([[[ 0.9641, -0.1972],\n",
       "         [ 0.2640, -1.4377],\n",
       "         [ 0.7015,  0.4741]],\n",
       "\n",
       "        [[-1.2162,  0.4425],\n",
       "         [ 0.3629,  1.2312],\n",
       "         [-1.6472,  0.5249]],\n",
       "\n",
       "        [[-0.5718, -0.4134],\n",
       "         [ 0.1935, -0.1628],\n",
       "         [-0.2064,  1.4354]],\n",
       "\n",
       "        [[-2.4294, -0.2048],\n",
       "         [-0.0310,  0.5252],\n",
       "         [-0.7922, -1.2311]]], dtype=torch.float64)"
      ]
     },
     "execution_count": 47,
     "metadata": {},
     "output_type": "execute_result"
    }
   ],
   "source": [
    "x.permute((1, -1, 0))"
   ]
  },
  {
   "cell_type": "code",
   "execution_count": 48,
   "id": "5a62ba69-7113-4b71-92c2-78cd621b9adf",
   "metadata": {
    "pycharm": {
     "name": "#%%\n"
    }
   },
   "outputs": [
    {
     "data": {
      "text/plain": [
       "torch.Size([4, 3, 2])"
      ]
     },
     "execution_count": 48,
     "metadata": {},
     "output_type": "execute_result"
    }
   ],
   "source": [
    "x.permute((1, -1, 0)).shape"
   ]
  },
  {
   "cell_type": "code",
   "execution_count": 49,
   "id": "7ac36dda-6fce-41c6-86e1-53fa853cd181",
   "metadata": {
    "pycharm": {
     "name": "#%%\n"
    }
   },
   "outputs": [
    {
     "data": {
      "text/plain": [
       "tensor([[0., 0., 0., 0., 0.],\n",
       "        [0., 0., 0., 0., 0.],\n",
       "        [0., 0., 0., 0., 0.],\n",
       "        [0., 0., 0., 0., 0.],\n",
       "        [0., 0., 0., 0., 0.],\n",
       "        [0., 0., 0., 0., 0.],\n",
       "        [0., 0., 0., 0., 0.],\n",
       "        [0., 0., 0., 0., 0.],\n",
       "        [0., 0., 0., 0., 0.],\n",
       "        [0., 0., 0., 0., 0.]])"
      ]
     },
     "execution_count": 49,
     "metadata": {},
     "output_type": "execute_result"
    }
   ],
   "source": [
    "torch.zeros((10, 5))"
   ]
  },
  {
   "cell_type": "code",
   "execution_count": 50,
   "id": "ddc2c0e0-96f8-40be-96ca-8a1ba6fd5733",
   "metadata": {
    "pycharm": {
     "name": "#%%\n"
    }
   },
   "outputs": [
    {
     "data": {
      "text/plain": [
       "tensor([[1., 1., 1., 1., 1.],\n",
       "        [1., 1., 1., 1., 1.],\n",
       "        [1., 1., 1., 1., 1.],\n",
       "        [1., 1., 1., 1., 1.],\n",
       "        [1., 1., 1., 1., 1.],\n",
       "        [1., 1., 1., 1., 1.],\n",
       "        [1., 1., 1., 1., 1.],\n",
       "        [1., 1., 1., 1., 1.],\n",
       "        [1., 1., 1., 1., 1.],\n",
       "        [1., 1., 1., 1., 1.]])"
      ]
     },
     "execution_count": 50,
     "metadata": {},
     "output_type": "execute_result"
    }
   ],
   "source": [
    "torch.ones((10, 5))"
   ]
  },
  {
   "cell_type": "code",
   "execution_count": 51,
   "id": "76c7ac0a-59c1-47e3-bbe7-ed13fd87c626",
   "metadata": {
    "pycharm": {
     "name": "#%%\n"
    }
   },
   "outputs": [
    {
     "data": {
      "text/plain": [
       "device(type='cpu')"
      ]
     },
     "execution_count": 51,
     "metadata": {},
     "output_type": "execute_result"
    }
   ],
   "source": [
    "x.device"
   ]
  },
  {
   "cell_type": "code",
   "execution_count": 52,
   "id": "515e3c03-4e35-4bb4-a025-23a6b1273c07",
   "metadata": {
    "pycharm": {
     "name": "#%%\n"
    }
   },
   "outputs": [
    {
     "data": {
      "text/plain": [
       "device(type='cpu')"
      ]
     },
     "execution_count": 52,
     "metadata": {},
     "output_type": "execute_result"
    }
   ],
   "source": [
    "torch.device(\"cpu\")"
   ]
  },
  {
   "cell_type": "code",
   "execution_count": 53,
   "id": "f2ba9996-a166-4cae-a10c-66538a370b01",
   "metadata": {
    "pycharm": {
     "name": "#%%\n"
    }
   },
   "outputs": [
    {
     "data": {
      "text/plain": [
       "device(type='cuda', index=0)"
      ]
     },
     "execution_count": 53,
     "metadata": {},
     "output_type": "execute_result"
    }
   ],
   "source": [
    "torch.device(\"cuda:0\")"
   ]
  },
  {
   "cell_type": "code",
   "execution_count": 54,
   "id": "c2de43a3-4a41-4948-8553-3d21aa971642",
   "metadata": {
    "pycharm": {
     "name": "#%%\n"
    }
   },
   "outputs": [
    {
     "data": {
      "text/plain": [
       "24"
      ]
     },
     "execution_count": 54,
     "metadata": {},
     "output_type": "execute_result"
    }
   ],
   "source": [
    "# Product of x size shape\n",
    "x.numel()"
   ]
  },
  {
   "cell_type": "code",
   "execution_count": 55,
   "id": "1d297107-20b2-4ab0-96e0-2328c28df603",
   "metadata": {
    "pycharm": {
     "name": "#%%\n"
    }
   },
   "outputs": [
    {
     "data": {
      "text/plain": [
       "torch.float64"
      ]
     },
     "execution_count": 55,
     "metadata": {},
     "output_type": "execute_result"
    }
   ],
   "source": [
    "x.dtype"
   ]
  },
  {
   "cell_type": "code",
   "execution_count": 56,
   "id": "39661bd8-c6ed-44a6-9bef-9c548bcf87f2",
   "metadata": {
    "pycharm": {
     "name": "#%%\n"
    }
   },
   "outputs": [
    {
     "data": {
      "text/plain": [
       "torch.float32"
      ]
     },
     "execution_count": 56,
     "metadata": {},
     "output_type": "execute_result"
    }
   ],
   "source": [
    "torch.get_default_dtype()"
   ]
  },
  {
   "cell_type": "code",
   "execution_count": 57,
   "id": "aba45475-aaee-4739-a40b-d1ccfe14272a",
   "metadata": {
    "pycharm": {
     "name": "#%%\n"
    }
   },
   "outputs": [
    {
     "data": {
      "text/plain": [
       "(tensor([2., 3.]), torch.float64)"
      ]
     },
     "execution_count": 57,
     "metadata": {},
     "output_type": "execute_result"
    }
   ],
   "source": [
    "torch.set_default_dtype(torch.float64)\n",
    "x = torch.tensor([2.0, 3.0])\n",
    "x, x.dtype"
   ]
  },
  {
   "cell_type": "code",
   "execution_count": 58,
   "id": "545ead16-b2f4-49ab-8660-4ea121a064e3",
   "metadata": {
    "pycharm": {
     "name": "#%%\n"
    }
   },
   "outputs": [
    {
     "data": {
      "text/plain": [
       "torch.float64"
      ]
     },
     "execution_count": 58,
     "metadata": {},
     "output_type": "execute_result"
    }
   ],
   "source": [
    "torch.get_default_dtype()"
   ]
  },
  {
   "cell_type": "code",
   "execution_count": 59,
   "id": "941b86e6-2ce1-4394-b252-aec18d5a50c4",
   "metadata": {
    "pycharm": {
     "name": "#%%\n"
    }
   },
   "outputs": [],
   "source": [
    "torch.set_default_dtype(torch.float32)"
   ]
  },
  {
   "cell_type": "code",
   "execution_count": 60,
   "id": "e664b192-2558-4a5f-9db7-1d22bf260ccd",
   "metadata": {
    "pycharm": {
     "name": "#%%\n"
    }
   },
   "outputs": [
    {
     "data": {
      "text/plain": [
       "(tensor([2., 3.]), torch.float32)"
      ]
     },
     "execution_count": 60,
     "metadata": {},
     "output_type": "execute_result"
    }
   ],
   "source": [
    "x = torch.tensor([2.0, 3.0])\n",
    "x, x.dtype"
   ]
  },
  {
   "cell_type": "code",
   "execution_count": 61,
   "id": "a7a6a462-57bb-403b-9380-7caa730c08db",
   "metadata": {
    "pycharm": {
     "name": "#%%\n"
    }
   },
   "outputs": [],
   "source": [
    "a = torch.tensor([1, 2, 3.], requires_grad=True).cuda()"
   ]
  },
  {
   "cell_type": "code",
   "execution_count": 62,
   "id": "600dec67-3b29-407a-8680-397ffd0b71aa",
   "metadata": {
    "pycharm": {
     "name": "#%%\n"
    }
   },
   "outputs": [],
   "source": [
    "b = torch.asarray(a)"
   ]
  },
  {
   "cell_type": "code",
   "execution_count": 63,
   "id": "6c6989a4-02f4-4788-9964-9fb34ab376fd",
   "metadata": {
    "pycharm": {
     "name": "#%%\n"
    }
   },
   "outputs": [
    {
     "data": {
      "text/plain": [
       "tensor([1., 2., 3.], device='cuda:0')"
      ]
     },
     "execution_count": 63,
     "metadata": {},
     "output_type": "execute_result"
    }
   ],
   "source": [
    "b"
   ]
  },
  {
   "cell_type": "code",
   "execution_count": 64,
   "id": "29427df4-4534-47d6-ba8f-1bf065f280a1",
   "metadata": {
    "pycharm": {
     "name": "#%%\n"
    }
   },
   "outputs": [
    {
     "data": {
      "text/plain": [
       "(False, device(type='cuda', index=0))"
      ]
     },
     "execution_count": 64,
     "metadata": {},
     "output_type": "execute_result"
    }
   ],
   "source": [
    "b.requires_grad, b.device"
   ]
  },
  {
   "cell_type": "code",
   "execution_count": 65,
   "id": "4f094357-b3f8-4988-b5cf-4a1e55431bed",
   "metadata": {
    "pycharm": {
     "name": "#%%\n"
    }
   },
   "outputs": [
    {
     "data": {
      "text/plain": [
       "True"
      ]
     },
     "execution_count": 65,
     "metadata": {},
     "output_type": "execute_result"
    }
   ],
   "source": [
    "a.requires_grad"
   ]
  },
  {
   "cell_type": "code",
   "execution_count": 66,
   "id": "19bb6f41-2ab8-4fb2-bb32-bcc77c92fd95",
   "metadata": {
    "pycharm": {
     "name": "#%%\n"
    }
   },
   "outputs": [
    {
     "data": {
      "text/plain": [
       "(tensor([1., 2., 3.], device='cuda:0', grad_fn=<ToCopyBackward0>),\n",
       " device(type='cuda', index=0),\n",
       " True)"
      ]
     },
     "execution_count": 66,
     "metadata": {},
     "output_type": "execute_result"
    }
   ],
   "source": [
    "b = torch.asarray(a, requires_grad=True)\n",
    "b, b.device, b.requires_grad"
   ]
  },
  {
   "cell_type": "code",
   "execution_count": 67,
   "id": "87a4a4ef-1356-473e-a077-cdef8dba994b",
   "metadata": {
    "pycharm": {
     "name": "#%%\n"
    }
   },
   "outputs": [
    {
     "data": {
      "text/plain": [
       "(tensor([2., 4., 6.], device='cuda:0', grad_fn=<MulBackward0>),\n",
       " tensor([2., 4., 6.], device='cuda:0', grad_fn=<MulBackward0>))"
      ]
     },
     "execution_count": 67,
     "metadata": {},
     "output_type": "execute_result"
    }
   ],
   "source": [
    "a *= 2\n",
    "a, b"
   ]
  },
  {
   "cell_type": "code",
   "execution_count": 68,
   "id": "b4aa8a5e-fc73-424f-9e14-e07b2a61143b",
   "metadata": {
    "pycharm": {
     "name": "#%%\n"
    }
   },
   "outputs": [
    {
     "data": {
      "text/plain": [
       "True"
      ]
     },
     "execution_count": 68,
     "metadata": {},
     "output_type": "execute_result"
    }
   ],
   "source": [
    "a.data_ptr() == b.data_ptr()"
   ]
  },
  {
   "cell_type": "code",
   "execution_count": 69,
   "id": "61f9d325-80fa-434f-88dd-b2330ab9650b",
   "metadata": {
    "pycharm": {
     "name": "#%%\n"
    }
   },
   "outputs": [
    {
     "data": {
      "text/plain": [
       "False"
      ]
     },
     "execution_count": 69,
     "metadata": {},
     "output_type": "execute_result"
    }
   ],
   "source": [
    "c = torch.asarray(a, copy=True)\n",
    "c.data_ptr() == a.data_ptr()"
   ]
  },
  {
   "cell_type": "code",
   "execution_count": 70,
   "id": "8fb073dd-df97-4cf2-878a-db16703b269c",
   "metadata": {
    "pycharm": {
     "name": "#%%\n"
    }
   },
   "outputs": [],
   "source": [
    "a *= 2"
   ]
  },
  {
   "cell_type": "code",
   "execution_count": 71,
   "id": "7a0711f0-529b-44f9-ab90-2b1e66405ac2",
   "metadata": {
    "pycharm": {
     "name": "#%%\n"
    }
   },
   "outputs": [
    {
     "data": {
      "text/plain": [
       "(tensor([ 4.,  8., 12.], device='cuda:0', grad_fn=<MulBackward0>),\n",
       " tensor([ 4.,  8., 12.], device='cuda:0', grad_fn=<MulBackward0>),\n",
       " tensor([2., 4., 6.], device='cuda:0'))"
      ]
     },
     "execution_count": 71,
     "metadata": {},
     "output_type": "execute_result"
    }
   ],
   "source": [
    "a, b, c"
   ]
  },
  {
   "cell_type": "code",
   "execution_count": 72,
   "id": "ef68340b-9723-4bdc-ab86-9630622e7f87",
   "metadata": {
    "pycharm": {
     "name": "#%%\n"
    }
   },
   "outputs": [
    {
     "data": {
      "text/plain": [
       "139847576584704"
      ]
     },
     "execution_count": 72,
     "metadata": {},
     "output_type": "execute_result"
    }
   ],
   "source": [
    "c.data_ptr()"
   ]
  },
  {
   "cell_type": "code",
   "execution_count": 73,
   "id": "2d981ff0-bd81-41ea-a432-1b2defe1c7a9",
   "metadata": {
    "pycharm": {
     "name": "#%%\n"
    }
   },
   "outputs": [
    {
     "data": {
      "text/plain": [
       "94034925100576"
      ]
     },
     "execution_count": 73,
     "metadata": {},
     "output_type": "execute_result"
    }
   ],
   "source": [
    "# Numpy data_ptr\n",
    "np.array([1, 2, 3]).__array_interface__[\"data\"][0]"
   ]
  },
  {
   "cell_type": "code",
   "execution_count": 74,
   "id": "859be230-a9ff-4345-9d29-3a001cbca47c",
   "metadata": {
    "pycharm": {
     "name": "#%%\n"
    }
   },
   "outputs": [
    {
     "data": {
      "text/plain": [
       "tensor([1, 0, 2, 0, 3, 0], dtype=torch.int16)"
      ]
     },
     "execution_count": 74,
     "metadata": {},
     "output_type": "execute_result"
    }
   ],
   "source": [
    "a = array.array('i', [1, 2, 3])\n",
    "b = torch.frombuffer(a, dtype=torch.int16)\n",
    "b"
   ]
  },
  {
   "cell_type": "code",
   "execution_count": 75,
   "id": "a84b4158",
   "metadata": {
    "collapsed": false,
    "jupyter": {
     "outputs_hidden": false
    },
    "pycharm": {
     "name": "#%%\n"
    }
   },
   "outputs": [
    {
     "data": {
      "text/plain": [
       "tensor([65,  0,  0,  0, 66,  0,  0,  0], dtype=torch.int8)"
      ]
     },
     "execution_count": 75,
     "metadata": {},
     "output_type": "execute_result"
    }
   ],
   "source": [
    "c = array.array('u', ['A', 'B'])\n",
    "b = torch.frombuffer(c, dtype=torch.int8)\n",
    "b"
   ]
  },
  {
   "cell_type": "code",
   "execution_count": 76,
   "id": "3adc9ca6",
   "metadata": {
    "collapsed": false,
    "jupyter": {
     "outputs_hidden": false
    },
    "pycharm": {
     "name": "#%%\n"
    }
   },
   "outputs": [],
   "source": [
    "x = torch.randn(5, 5)"
   ]
  },
  {
   "cell_type": "code",
   "execution_count": 77,
   "id": "f0d54738",
   "metadata": {
    "collapsed": false,
    "jupyter": {
     "outputs_hidden": false
    },
    "pycharm": {
     "name": "#%%\n"
    }
   },
   "outputs": [
    {
     "data": {
      "text/plain": [
       "tensor([[-5.8231e-02, -7.4488e-01, -2.1927e-01,  1.9743e+00,  1.2920e-03],\n",
       "        [-1.3271e+00,  3.8495e-02,  3.7499e-01,  1.1131e+00,  1.1605e-01],\n",
       "        [ 9.5761e-01, -2.9152e-01,  5.5013e-01,  8.5579e-01,  2.9198e-01],\n",
       "        [-8.1161e-01,  8.9939e-01,  1.1063e+00,  1.7749e+00,  9.8790e-01],\n",
       "        [-1.4958e+00,  5.0499e-01, -1.0653e+00,  1.0088e-01,  3.1875e-01]])"
      ]
     },
     "execution_count": 77,
     "metadata": {},
     "output_type": "execute_result"
    }
   ],
   "source": [
    "x"
   ]
  },
  {
   "cell_type": "code",
   "execution_count": 78,
   "id": "1c259ecc",
   "metadata": {
    "collapsed": false,
    "jupyter": {
     "outputs_hidden": false
    },
    "pycharm": {
     "name": "#%%\n"
    }
   },
   "outputs": [
    {
     "data": {
      "text/plain": [
       "tensor([[-0.0582,  0.0385],\n",
       "        [ 0.0013,  0.9576]])"
      ]
     },
     "execution_count": 78,
     "metadata": {},
     "output_type": "execute_result"
    }
   ],
   "source": [
    "t = torch.as_strided(x, (2, 2), (4, 6) )\n",
    "t"
   ]
  },
  {
   "cell_type": "code",
   "execution_count": 79,
   "id": "b73945a7",
   "metadata": {
    "collapsed": false,
    "jupyter": {
     "outputs_hidden": false
    },
    "pycharm": {
     "name": "#%%\n"
    }
   },
   "outputs": [
    {
     "data": {
      "text/plain": [
       "tensor([[-0.7449,  0.3750],\n",
       "        [-1.3271, -0.2915]])"
      ]
     },
     "execution_count": 79,
     "metadata": {},
     "output_type": "execute_result"
    }
   ],
   "source": [
    "t = torch.as_strided(x, (2, 2), (4, 6) , 1)\n",
    "t\n"
   ]
  },
  {
   "cell_type": "code",
   "execution_count": 80,
   "id": "d8582605",
   "metadata": {
    "collapsed": false,
    "jupyter": {
     "outputs_hidden": false
    },
    "pycharm": {
     "name": "#%%\n"
    }
   },
   "outputs": [
    {
     "data": {
      "text/plain": [
       "tensor([[-0.2193,  1.1131],\n",
       "        [ 0.0385,  0.5501]])"
      ]
     },
     "execution_count": 80,
     "metadata": {},
     "output_type": "execute_result"
    }
   ],
   "source": [
    "t = torch.as_strided(x, (2, 2), (4, 6) , 2)\n",
    "t"
   ]
  },
  {
   "cell_type": "code",
   "execution_count": 81,
   "id": "bdd710bb",
   "metadata": {
    "collapsed": false,
    "jupyter": {
     "outputs_hidden": false
    },
    "pycharm": {
     "name": "#%%\n"
    }
   },
   "outputs": [
    {
     "data": {
      "text/plain": [
       "tensor([[ 0.2920, -1.4958],\n",
       "        [ 1.7749,  0.3187]])"
      ]
     },
     "execution_count": 81,
     "metadata": {},
     "output_type": "execute_result"
    }
   ],
   "source": [
    "t = torch.as_strided(x, (2, 2), (4, 6) , 14)\n",
    "t"
   ]
  },
  {
   "cell_type": "code",
   "execution_count": 82,
   "id": "c0bca1d1",
   "metadata": {
    "collapsed": false,
    "jupyter": {
     "outputs_hidden": false
    },
    "pycharm": {
     "name": "#%%\n"
    }
   },
   "outputs": [
    {
     "data": {
      "text/plain": [
       "tensor([[[ 0.2920],\n",
       "         [-1.4958]],\n",
       "\n",
       "        [[ 1.7749],\n",
       "         [ 0.3187]]])"
      ]
     },
     "execution_count": 82,
     "metadata": {},
     "output_type": "execute_result"
    }
   ],
   "source": [
    "t = torch.as_strided(x, (2, 2, 1), (4, 6, 1) , 14)\n",
    "t"
   ]
  },
  {
   "cell_type": "code",
   "execution_count": 83,
   "id": "01b8fe72",
   "metadata": {
    "collapsed": false,
    "jupyter": {
     "outputs_hidden": false
    },
    "pycharm": {
     "name": "#%%\n"
    }
   },
   "outputs": [
    {
     "data": {
      "text/plain": [
       "tensor([1.0000, 1.5000, 2.0000, 2.5000, 3.0000, 3.5000, 4.0000, 4.5000, 5.0000,\n",
       "        5.5000, 6.0000, 6.5000, 7.0000, 7.5000, 8.0000, 8.5000, 9.0000, 9.5000])"
      ]
     },
     "execution_count": 83,
     "metadata": {},
     "output_type": "execute_result"
    }
   ],
   "source": [
    "x = torch.arange(1, 10, 0.5)\n",
    "x"
   ]
  },
  {
   "cell_type": "code",
   "execution_count": 84,
   "id": "d885c4ec",
   "metadata": {
    "collapsed": false,
    "jupyter": {
     "outputs_hidden": false
    },
    "pycharm": {
     "name": "#%%\n"
    }
   },
   "outputs": [
    {
     "data": {
      "text/plain": [
       "tensor([ 1.0000,  3.2500,  5.5000,  7.7500, 10.0000])"
      ]
     },
     "execution_count": 84,
     "metadata": {},
     "output_type": "execute_result"
    }
   ],
   "source": [
    "x = torch.linspace(1, 10, 5)\n",
    "x"
   ]
  },
  {
   "cell_type": "code",
   "execution_count": 85,
   "id": "5dc07568",
   "metadata": {
    "collapsed": false,
    "jupyter": {
     "outputs_hidden": false
    },
    "pycharm": {
     "name": "#%%\n"
    }
   },
   "outputs": [
    {
     "name": "stderr",
     "output_type": "stream",
     "text": [
      "/tmp/ipykernel_11739/1458550859.py:1: UserWarning: torch.range is deprecated and will be removed in a future release because its behavior is inconsistent with Python's range builtin. Instead, use torch.arange, which produces values in [start, end).\n",
      "  x = torch.range(1, 10, 2, dtype=torch.int32)\n"
     ]
    },
    {
     "data": {
      "text/plain": [
       "tensor([1, 3, 5, 7, 9], dtype=torch.int32)"
      ]
     },
     "execution_count": 85,
     "metadata": {},
     "output_type": "execute_result"
    }
   ],
   "source": [
    "x = torch.range(1, 10, 2, dtype=torch.int32)\n",
    "x"
   ]
  },
  {
   "cell_type": "code",
   "execution_count": 86,
   "id": "8b501646",
   "metadata": {
    "collapsed": false,
    "jupyter": {
     "outputs_hidden": false
    },
    "pycharm": {
     "name": "#%%\n"
    }
   },
   "outputs": [
    {
     "data": {
      "text/plain": [
       "tensor([0.1250, 0.3536, 1.0000, 2.8284, 8.0000])"
      ]
     },
     "execution_count": 86,
     "metadata": {},
     "output_type": "execute_result"
    }
   ],
   "source": [
    "\"\"\"\n",
    "(\n",
    "base ** start,\n",
    "base **(start+ steps−1 end−start),\n",
    "base ** end\n",
    ")\n",
    "\"\"\"\n",
    "torch.logspace(-3, 3, 5, base=2)"
   ]
  },
  {
   "cell_type": "code",
   "execution_count": 87,
   "id": "51495b1e",
   "metadata": {
    "collapsed": false,
    "jupyter": {
     "outputs_hidden": false
    },
    "pycharm": {
     "name": "#%%\n"
    }
   },
   "outputs": [
    {
     "name": "stdout",
     "output_type": "stream",
     "text": [
      "tensor([[0., 0., 0., 0., 0.],\n",
      "        [0., 0., 0., 0., 0.],\n",
      "        [0., 0., 0., 0., 0.],\n",
      "        [0., 0., 0., 0., 0.],\n",
      "        [0., 0., 0., 0., 0.],\n",
      "        [0., 0., 0., 0., 0.],\n",
      "        [0., 0., 0., 0., 0.],\n",
      "        [0., 0., 0., 0., 0.],\n",
      "        [0., 0., 0., 0., 0.],\n",
      "        [0., 0., 0., 0., 0.]])\n"
     ]
    },
    {
     "data": {
      "text/plain": [
       "(tensor([[1., 0., 0., 0.],\n",
       "         [0., 1., 0., 0.],\n",
       "         [0., 0., 1., 0.]]),\n",
       " tensor([[1., 0., 0., 0.],\n",
       "         [0., 1., 0., 0.],\n",
       "         [0., 0., 1., 0.]]))"
      ]
     },
     "execution_count": 87,
     "metadata": {},
     "output_type": "execute_result"
    }
   ],
   "source": [
    "s = (10, 5)\n",
    "y  = torch.zeros(s)\n",
    "print(y)\n",
    "x = torch.eye(3, 4, out=y)\n",
    "x, y"
   ]
  },
  {
   "cell_type": "code",
   "execution_count": 88,
   "id": "cbcc2530",
   "metadata": {
    "collapsed": false,
    "jupyter": {
     "outputs_hidden": false
    },
    "pycharm": {
     "name": "#%%\n"
    }
   },
   "outputs": [
    {
     "data": {
      "text/plain": [
       "tensor([[-535785824,      32561, -535785824,      32561,         32],\n",
       "        [         0,         64,          0, 1856783632,      21894],\n",
       "        [         0,          0,          0,          0,          0],\n",
       "        [         0,          0,          0,          0,          0],\n",
       "        [         0,          0,         65,          0, 1856783408],\n",
       "        [     21894, 1856784752,      21894,          0,          0],\n",
       "        [        33,          0, 1856785616,      21894, -535786336],\n",
       "        [     32561,        160,          0,         80,          0],\n",
       "        [1856784464,      21894,          0,          0,          0],\n",
       "        [         0,          0,          0,          0,          0]],\n",
       "       dtype=torch.int32)"
      ]
     },
     "execution_count": 88,
     "metadata": {},
     "output_type": "execute_result"
    }
   ],
   "source": [
    "x = torch.empty(size=s, dtype=torch.int32)\n",
    "x"
   ]
  },
  {
   "cell_type": "code",
   "execution_count": 89,
   "id": "4db32229",
   "metadata": {
    "collapsed": false,
    "jupyter": {
     "outputs_hidden": false
    },
    "pycharm": {
     "name": "#%%\n"
    }
   },
   "outputs": [
    {
     "data": {
      "text/plain": [
       "tensor([[1073741824, 1082130432, 1086324736,          0,          0],\n",
       "        [         0,          0,          0,          0,          0],\n",
       "        [         0,          0,          0,          0,          0],\n",
       "        [         0,          0,          0,          0,          0],\n",
       "        [         0,          0,          0,          0,          0],\n",
       "        [         0,          0,          0,          0,          0],\n",
       "        [         0,          0,          0,          0,          0],\n",
       "        [         0,          0,          0,          0,          0],\n",
       "        [         0,          0,          0,          0,          0],\n",
       "        [         0,          0,          0,          0,          0]],\n",
       "       device='cuda:0', dtype=torch.int32)"
      ]
     },
     "execution_count": 89,
     "metadata": {},
     "output_type": "execute_result"
    }
   ],
   "source": [
    "z = torch.empty_like(x, device='cuda:0')\n",
    "z"
   ]
  },
  {
   "cell_type": "code",
   "execution_count": 90,
   "id": "4a9097cb",
   "metadata": {
    "collapsed": false,
    "jupyter": {
     "outputs_hidden": false
    },
    "pycharm": {
     "name": "#%%\n"
    }
   },
   "outputs": [
    {
     "data": {
      "text/plain": [
       "tensor([[7.0065e-44, 0.0000e+00, 0.0000e+00],\n",
       "        [0.0000e+00, 0.0000e+00, 0.0000e+00],\n",
       "        [0.0000e+00, 0.0000e+00, 0.0000e+00]])"
      ]
     },
     "execution_count": 90,
     "metadata": {},
     "output_type": "execute_result"
    }
   ],
   "source": [
    "a = torch.empty_strided((3, 3), (1, 2))\n",
    "a"
   ]
  },
  {
   "cell_type": "code",
   "execution_count": 91,
   "id": "278fafed",
   "metadata": {
    "collapsed": false,
    "jupyter": {
     "outputs_hidden": false
    },
    "pycharm": {
     "name": "#%%\n"
    }
   },
   "outputs": [
    {
     "data": {
      "text/plain": [
       "(1, 2)"
      ]
     },
     "execution_count": 91,
     "metadata": {},
     "output_type": "execute_result"
    }
   ],
   "source": [
    "a.stride()"
   ]
  },
  {
   "cell_type": "code",
   "execution_count": 92,
   "id": "d25a5ee1",
   "metadata": {
    "collapsed": false,
    "jupyter": {
     "outputs_hidden": false
    },
    "pycharm": {
     "name": "#%%\n"
    }
   },
   "outputs": [
    {
     "data": {
      "text/plain": [
       "tensor([[10, 10, 10, 10],\n",
       "        [10, 10, 10, 10],\n",
       "        [10, 10, 10, 10]], dtype=torch.int32)"
      ]
     },
     "execution_count": 92,
     "metadata": {},
     "output_type": "execute_result"
    }
   ],
   "source": [
    "a = torch.full((3, 4), 10, dtype=torch.int32)\n",
    "a"
   ]
  },
  {
   "cell_type": "code",
   "execution_count": 93,
   "id": "77a2ac82",
   "metadata": {
    "collapsed": false,
    "jupyter": {
     "outputs_hidden": false
    },
    "pycharm": {
     "name": "#%%\n"
    }
   },
   "outputs": [
    {
     "data": {
      "text/plain": [
       "tensor([[2, 2, 2, 2],\n",
       "        [2, 2, 2, 2],\n",
       "        [2, 2, 2, 2]], dtype=torch.int32)"
      ]
     },
     "execution_count": 93,
     "metadata": {},
     "output_type": "execute_result"
    }
   ],
   "source": [
    "b = torch.full_like(a, 2)\n",
    "b\n"
   ]
  },
  {
   "cell_type": "code",
   "execution_count": 94,
   "id": "c86c2fb7",
   "metadata": {
    "collapsed": false,
    "jupyter": {
     "outputs_hidden": false
    },
    "pycharm": {
     "name": "#%%\n"
    }
   },
   "outputs": [
    {
     "data": {
      "text/plain": [
       "tensor([0.0000, 0.7000, 1.0000, 1.0000])"
      ]
     },
     "execution_count": 94,
     "metadata": {},
     "output_type": "execute_result"
    }
   ],
   "source": [
    "z = torch.tensor([-1.5, 0, 0.4, 2.])\n",
    "torch.heaviside(z, torch.tensor(0.7))"
   ]
  },
  {
   "cell_type": "code",
   "execution_count": 95,
   "id": "7f87bb3d",
   "metadata": {
    "collapsed": false,
    "jupyter": {
     "outputs_hidden": false
    },
    "pycharm": {
     "name": "#%%\n"
    }
   },
   "outputs": [
    {
     "data": {
      "text/plain": [
       "(array([ 0.08182767, -0.15001438, -0.12614883, -0.76268654, -0.06502347,\n",
       "        -0.11737392, -0.5675209 , -0.76818669,  0.78838109,  0.98807988]),\n",
       " tensor([0.0818, 0.1500, 0.1261, 0.7627, 0.0650, 0.1174, 0.5675, 0.7682, 0.7884,\n",
       "         0.9881], dtype=torch.float64))"
      ]
     },
     "execution_count": 95,
     "metadata": {},
     "output_type": "execute_result"
    }
   ],
   "source": [
    "x = np.random.uniform(-1, 1, (10, ))\n",
    "y = torch.from_numpy(x)\n",
    "y = torch.abs(y)\n",
    "x, y"
   ]
  },
  {
   "cell_type": "code",
   "execution_count": 96,
   "id": "68e921d7",
   "metadata": {
    "collapsed": false,
    "jupyter": {
     "outputs_hidden": false
    },
    "pycharm": {
     "name": "#%%\n"
    }
   },
   "outputs": [
    {
     "data": {
      "text/plain": [
       "(tensor(0.7071), tensor(0.7071), tensor(1.))"
      ]
     },
     "execution_count": 96,
     "metadata": {},
     "output_type": "execute_result"
    }
   ],
   "source": [
    "deg = np.pi / 4\n",
    "\n",
    "torch.cos(torch.tensor(deg)), torch.sin(torch.tensor(deg)), torch.tan(torch.tensor(deg))\n"
   ]
  },
  {
   "cell_type": "code",
   "execution_count": 97,
   "id": "29627da5",
   "metadata": {
    "collapsed": false,
    "jupyter": {
     "outputs_hidden": false
    },
    "pycharm": {
     "name": "#%%\n"
    }
   },
   "outputs": [
    {
     "data": {
      "text/plain": [
       "tensor([1.8381, 1.8842, 1.2614, 1.4308, 1.5700])"
      ]
     },
     "execution_count": 97,
     "metadata": {},
     "output_type": "execute_result"
    }
   ],
   "source": [
    "a = torch.randn(4).uniform_(1, 2)\n",
    "a = a.tolist() + [1.57]\n",
    "a = torch.tensor(a)\n",
    "a"
   ]
  },
  {
   "cell_type": "code",
   "execution_count": 98,
   "id": "989ad9cb",
   "metadata": {
    "collapsed": false,
    "jupyter": {
     "outputs_hidden": false
    },
    "pycharm": {
     "name": "#%%\n"
    }
   },
   "outputs": [
    {
     "data": {
      "text/plain": [
       "tensor([1.2180, 1.2474, 0.7081, 0.8978, 1.0226])"
      ]
     },
     "execution_count": 98,
     "metadata": {},
     "output_type": "execute_result"
    }
   ],
   "source": [
    "torch.acosh(a)"
   ]
  },
  {
   "cell_type": "code",
   "execution_count": 99,
   "id": "82dfeb46",
   "metadata": {
    "collapsed": false,
    "jupyter": {
     "outputs_hidden": false
    },
    "pycharm": {
     "name": "#%%\n"
    }
   },
   "outputs": [
    {
     "data": {
      "text/plain": [
       "tensor([nan, nan, nan, nan, nan])"
      ]
     },
     "execution_count": 99,
     "metadata": {},
     "output_type": "execute_result"
    }
   ],
   "source": [
    "torch.atanh(a)\n",
    "\n"
   ]
  },
  {
   "cell_type": "code",
   "execution_count": 100,
   "id": "0d50bc23",
   "metadata": {
    "collapsed": false,
    "jupyter": {
     "outputs_hidden": false
    },
    "pycharm": {
     "name": "#%%\n"
    }
   },
   "outputs": [
    {
     "data": {
      "text/plain": [
       "tensor([1.3688, 1.3906, 1.0547, 1.1558, 1.2330])"
      ]
     },
     "execution_count": 100,
     "metadata": {},
     "output_type": "execute_result"
    }
   ],
   "source": [
    "torch.asinh(a)"
   ]
  },
  {
   "cell_type": "code",
   "execution_count": 101,
   "id": "36352383",
   "metadata": {
    "collapsed": false,
    "jupyter": {
     "outputs_hidden": false
    },
    "pycharm": {
     "name": "#%%\n"
    }
   },
   "outputs": [
    {
     "data": {
      "text/plain": [
       "tensor([45.0005])"
      ]
     },
     "execution_count": 101,
     "metadata": {},
     "output_type": "execute_result"
    }
   ],
   "source": [
    "torch.acos(torch.tensor([0.7071])) * 180 / np.pi"
   ]
  },
  {
   "cell_type": "code",
   "execution_count": 102,
   "id": "e612bbf1",
   "metadata": {
    "collapsed": false,
    "jupyter": {
     "outputs_hidden": false
    },
    "pycharm": {
     "name": "#%%\n"
    }
   },
   "outputs": [
    {
     "data": {
      "text/plain": [
       "tensor([60.0000], dtype=torch.float64)"
      ]
     },
     "execution_count": 102,
     "metadata": {},
     "output_type": "execute_result"
    }
   ],
   "source": [
    "torch.asin(torch.tensor([np.sqrt(3) / 2])) * 180 / np.pi\n"
   ]
  },
  {
   "cell_type": "code",
   "execution_count": 103,
   "id": "ea5f4aed",
   "metadata": {
    "collapsed": false,
    "jupyter": {
     "outputs_hidden": false
    },
    "pycharm": {
     "name": "#%%\n"
    }
   },
   "outputs": [
    {
     "data": {
      "text/plain": [
       "(tensor([  2.6276,   5.0307, -11.7929, -15.7758, -27.4283,  25.3252,  -2.2501,\n",
       "          -6.8267,   2.5242,  21.4399]),\n",
       " tensor([ 0.9706,  1.0059, -1.0745, -2.2715, -4.1318,  4.7511, -0.1991,  0.1124,\n",
       "          0.5251,  2.7833]),\n",
       " tensor([  1.6570,   4.0249, -10.7183, -13.5044, -23.2964,  20.5741,  -2.0511,\n",
       "          -6.9391,   1.9991,  18.6565]))"
      ]
     },
     "execution_count": 103,
     "metadata": {},
     "output_type": "execute_result"
    }
   ],
   "source": [
    "\"\"\"out\n",
    "i\n",
    "​\n",
    " =input\n",
    "i\n",
    "​\n",
    " +alpha×other\n",
    "i\n",
    "​\n",
    "\n",
    "\"\"\"\n",
    "a = torch.randn(10)\n",
    "b = torch.randn_like(a)\n",
    "c = torch.add(a, b, alpha=10)\n",
    "d = a + b\n",
    "c, d, c-d\n"
   ]
  },
  {
   "cell_type": "code",
   "execution_count": 104,
   "id": "922336bf",
   "metadata": {
    "collapsed": false,
    "jupyter": {
     "outputs_hidden": false
    },
    "pycharm": {
     "name": "#%%\n"
    }
   },
   "outputs": [
    {
     "data": {
      "text/plain": [
       "tensor([135.0001, 135.0001, -45.0000])"
      ]
     },
     "execution_count": 104,
     "metadata": {},
     "output_type": "execute_result"
    }
   ],
   "source": [
    "torch.angle(torch.tensor([-1+1j, -2+2j, 3-3j])) * 180 / 3.14159"
   ]
  },
  {
   "cell_type": "code",
   "execution_count": 105,
   "id": "80c65c7e",
   "metadata": {
    "collapsed": false,
    "jupyter": {
     "outputs_hidden": false
    },
    "pycharm": {
     "name": "#%%\n"
    }
   },
   "outputs": [
    {
     "data": {
      "text/plain": [
       "tensor([ 1, -1, -3], dtype=torch.int8)"
      ]
     },
     "execution_count": 105,
     "metadata": {},
     "output_type": "execute_result"
    }
   ],
   "source": [
    "torch.bitwise_not(torch.tensor([-2, 0, 2], dtype=torch.int8))"
   ]
  },
  {
   "cell_type": "code",
   "execution_count": 106,
   "id": "d3c18375",
   "metadata": {
    "collapsed": false,
    "jupyter": {
     "outputs_hidden": false
    },
    "pycharm": {
     "name": "#%%\n"
    }
   },
   "outputs": [
    {
     "data": {
      "text/plain": [
       "(1, -1, -3)"
      ]
     },
     "execution_count": 106,
     "metadata": {},
     "output_type": "execute_result"
    }
   ],
   "source": [
    "~-2, ~0, ~2"
   ]
  },
  {
   "cell_type": "code",
   "execution_count": 107,
   "id": "531b6ba5",
   "metadata": {
    "collapsed": false,
    "jupyter": {
     "outputs_hidden": false
    },
    "pycharm": {
     "name": "#%%\n"
    }
   },
   "outputs": [],
   "source": [
    "a = torch.tensor([-1, -2, 3], dtype=torch.int8)\n",
    "b = torch.tensor([1, 0, 13], dtype=torch.int8)"
   ]
  },
  {
   "cell_type": "code",
   "execution_count": 108,
   "id": "9f3edcbd",
   "metadata": {
    "collapsed": false,
    "jupyter": {
     "outputs_hidden": false
    },
    "pycharm": {
     "name": "#%%\n"
    }
   },
   "outputs": [
    {
     "data": {
      "text/plain": [
       "(tensor([-1, -2, 15], dtype=torch.int8),\n",
       " tensor([-1, -2, 15], dtype=torch.int8))"
      ]
     },
     "execution_count": 108,
     "metadata": {},
     "output_type": "execute_result"
    }
   ],
   "source": [
    "a | b, torch.bitwise_or(a, b)\n"
   ]
  },
  {
   "cell_type": "code",
   "execution_count": 109,
   "id": "1f49ee20",
   "metadata": {
    "collapsed": false,
    "jupyter": {
     "outputs_hidden": false
    },
    "pycharm": {
     "name": "#%%\n"
    }
   },
   "outputs": [
    {
     "data": {
      "text/plain": [
       "(tensor([1, 0, 1], dtype=torch.int8), tensor([1, 0, 1], dtype=torch.int8))"
      ]
     },
     "execution_count": 109,
     "metadata": {},
     "output_type": "execute_result"
    }
   ],
   "source": [
    "a & b, torch.bitwise_and(a, b)"
   ]
  },
  {
   "cell_type": "code",
   "execution_count": 110,
   "id": "fc22ebe2",
   "metadata": {
    "collapsed": false,
    "jupyter": {
     "outputs_hidden": false
    },
    "pycharm": {
     "name": "#%%\n"
    }
   },
   "outputs": [
    {
     "data": {
      "text/plain": [
       "(tensor([-2, -2, 14], dtype=torch.int8),\n",
       " tensor([-2, -2, 14], dtype=torch.int8))"
      ]
     },
     "execution_count": 110,
     "metadata": {},
     "output_type": "execute_result"
    }
   ],
   "source": [
    "a ^ b, torch.bitwise_xor(a, b)\n",
    "\n"
   ]
  },
  {
   "cell_type": "code",
   "execution_count": 111,
   "id": "5beb696b",
   "metadata": {
    "collapsed": false,
    "jupyter": {
     "outputs_hidden": false
    },
    "pycharm": {
     "name": "#%%\n"
    }
   },
   "outputs": [
    {
     "data": {
      "text/plain": [
       "(tensor([ 0,  1, -4], dtype=torch.int8),\n",
       " tensor([ 0,  1, -4], dtype=torch.int8))"
      ]
     },
     "execution_count": 111,
     "metadata": {},
     "output_type": "execute_result"
    }
   ],
   "source": [
    "~a, torch.bitwise_not(a)"
   ]
  },
  {
   "cell_type": "code",
   "execution_count": 112,
   "id": "440533d4",
   "metadata": {
    "collapsed": false,
    "jupyter": {
     "outputs_hidden": false
    },
    "pycharm": {
     "name": "#%%\n"
    }
   },
   "outputs": [
    {
     "data": {
      "text/plain": [
       "(tensor([-1, -1,  0], dtype=torch.int8),\n",
       " tensor([-1, -1,  0], dtype=torch.int8))"
      ]
     },
     "execution_count": 112,
     "metadata": {},
     "output_type": "execute_result"
    }
   ],
   "source": [
    "a >> 2, torch.bitwise_right_shift(a, 2)"
   ]
  },
  {
   "cell_type": "code",
   "execution_count": 113,
   "id": "fda177af",
   "metadata": {
    "collapsed": false,
    "jupyter": {
     "outputs_hidden": false
    },
    "pycharm": {
     "name": "#%%\n"
    }
   },
   "outputs": [
    {
     "data": {
      "text/plain": [
       "(tensor([-4, -8, 12], dtype=torch.int8),\n",
       " tensor([-4, -8, 12], dtype=torch.int8))"
      ]
     },
     "execution_count": 113,
     "metadata": {},
     "output_type": "execute_result"
    }
   ],
   "source": [
    "a << 2, torch.bitwise_left_shift(a, 2)"
   ]
  },
  {
   "cell_type": "code",
   "execution_count": 114,
   "id": "b97b2e8e",
   "metadata": {
    "collapsed": false,
    "jupyter": {
     "outputs_hidden": false
    },
    "pycharm": {
     "name": "#%%\n"
    }
   },
   "outputs": [
    {
     "data": {
      "text/plain": [
       "(tensor([-1.0514,  0.1325, -0.8264, -0.1159,  0.4410,  1.0915, -1.6782, -0.6685,\n",
       "          1.1355,  0.2595]),\n",
       " tensor([-1.,  1., -0., -0.,  1.,  2., -1., -0.,  2.,  1.]))"
      ]
     },
     "execution_count": 114,
     "metadata": {},
     "output_type": "execute_result"
    }
   ],
   "source": [
    "x = torch.randn(10)\n",
    "y = torch.ceil(x)\n",
    "x, y"
   ]
  },
  {
   "cell_type": "code",
   "execution_count": 115,
   "id": "3e39ecff",
   "metadata": {
    "collapsed": false,
    "jupyter": {
     "outputs_hidden": false
    },
    "pycharm": {
     "name": "#%%\n"
    }
   },
   "outputs": [
    {
     "data": {
      "text/plain": [
       "tensor([-2.,  0., -1., -1.,  0.,  1., -2., -1.,  1.,  0.])"
      ]
     },
     "execution_count": 115,
     "metadata": {},
     "output_type": "execute_result"
    }
   ],
   "source": [
    "torch.floor(x)"
   ]
  },
  {
   "cell_type": "code",
   "execution_count": 116,
   "id": "49955b0c",
   "metadata": {
    "collapsed": false,
    "jupyter": {
     "outputs_hidden": false
    },
    "pycharm": {
     "name": "#%%\n"
    }
   },
   "outputs": [
    {
     "data": {
      "text/plain": [
       "tensor([-0.5000,  0.1325, -0.5000, -0.1159,  0.4410,  0.5000, -0.5000, -0.5000,\n",
       "         0.5000,  0.2595])"
      ]
     },
     "execution_count": 116,
     "metadata": {},
     "output_type": "execute_result"
    }
   ],
   "source": [
    "torch.clamp(x, -0.5, 0.5)"
   ]
  },
  {
   "cell_type": "code",
   "execution_count": 117,
   "id": "5d64e7cd",
   "metadata": {
    "collapsed": false,
    "jupyter": {
     "outputs_hidden": false
    },
    "pycharm": {
     "name": "#%%\n"
    }
   },
   "outputs": [
    {
     "data": {
      "text/plain": [
       "tensor([-0.5000,  0.1325, -0.5000, -0.1159,  0.4410,  0.5000, -0.5000, -0.5000,\n",
       "         0.5000,  0.2595])"
      ]
     },
     "execution_count": 117,
     "metadata": {},
     "output_type": "execute_result"
    }
   ],
   "source": [
    "torch.clip(x, -0.5, 0.5)\n"
   ]
  },
  {
   "cell_type": "code",
   "execution_count": 118,
   "id": "59eee0b4",
   "metadata": {
    "collapsed": false,
    "jupyter": {
     "outputs_hidden": false
    },
    "pycharm": {
     "name": "#%%\n"
    }
   },
   "outputs": [
    {
     "data": {
      "text/plain": [
       "tensor([-1.0000, -0.7778, -0.5556, -0.3333, -0.1111,  0.1111,  0.3333,  0.5556,\n",
       "         0.7778,  1.0000])"
      ]
     },
     "execution_count": 118,
     "metadata": {},
     "output_type": "execute_result"
    }
   ],
   "source": [
    "z = torch.linspace(-1, 1, steps=x.shape[0])\n",
    "z"
   ]
  },
  {
   "cell_type": "code",
   "execution_count": 119,
   "id": "5d8539c2",
   "metadata": {
    "collapsed": false,
    "jupyter": {
     "outputs_hidden": false
    },
    "pycharm": {
     "name": "#%%\n"
    }
   },
   "outputs": [
    {
     "data": {
      "text/plain": [
       "(tensor([-1.0514,  0.1325, -0.8264, -0.1159,  0.4410,  1.0915, -1.6782, -0.6685,\n",
       "          1.1355,  0.2595]),\n",
       " tensor([-1.0000, -0.7778, -0.5556, -0.3333, -0.1111,  0.1111,  0.3333,  0.5556,\n",
       "          0.7778,  1.0000]),\n",
       " tensor([-1.0000,  0.1325, -0.5556, -0.1159,  0.4410,  1.0915,  0.3333,  0.5556,\n",
       "          1.1355,  1.0000]))"
      ]
     },
     "execution_count": 119,
     "metadata": {},
     "output_type": "execute_result"
    }
   ],
   "source": [
    "x, z, torch.clamp(x, min=z)"
   ]
  },
  {
   "cell_type": "code",
   "execution_count": 120,
   "id": "4b171129",
   "metadata": {},
   "outputs": [
    {
     "data": {
      "text/plain": [
       "tensor([[[-0.7873, -0.7778, -0.5556,  2.7197, -0.1111,  0.8642,  2.8565,\n",
       "           3.7644,  2.0508,  1.0000],\n",
       "         [-0.9076, -0.7778,  0.1025, -0.3333, -0.0165,  0.1111,  2.4132,\n",
       "           0.5556,  0.7778,  1.0000]],\n",
       "\n",
       "        [[ 1.3414,  3.9536,  0.0364,  2.4950,  3.0370,  0.1111,  0.3333,\n",
       "           0.5556,  0.7778,  3.0926],\n",
       "         [ 3.0841, -0.7778,  0.6845, -0.3333, -0.1111,  2.0312,  0.3333,\n",
       "           0.7718,  0.7778,  3.7510]],\n",
       "\n",
       "        [[ 1.9955,  2.5477, -0.5556, -0.3333,  0.8630,  0.1111,  0.3333,\n",
       "           1.5437,  2.4942,  1.0000],\n",
       "         [-1.0000, -0.7778,  0.9158,  1.4987,  3.8647,  0.1111,  1.2470,\n",
       "           0.5556,  0.7778,  2.1104]]])"
      ]
     },
     "execution_count": 120,
     "metadata": {},
     "output_type": "execute_result"
    }
   ],
   "source": [
    "torch.clamp(torch.empty((3, 2, x.shape[0]), dtype=torch.float).uniform_(-4, 4), z)"
   ]
  },
  {
   "cell_type": "code",
   "execution_count": 121,
   "id": "07207863",
   "metadata": {
    "collapsed": false,
    "jupyter": {
     "outputs_hidden": false
    },
    "pycharm": {
     "name": "#%%\n"
    }
   },
   "outputs": [
    {
     "data": {
      "text/plain": [
       "tensor([1.0514, 0.1325, 0.8264, 0.1159, 0.4410, 1.0915, 1.6782, 0.6685, 1.1355,\n",
       "        0.2595])"
      ]
     },
     "execution_count": 121,
     "metadata": {},
     "output_type": "execute_result"
    }
   ],
   "source": [
    "torch.copysign(x, 1)"
   ]
  },
  {
   "cell_type": "code",
   "execution_count": 122,
   "id": "dc52cbdd",
   "metadata": {
    "collapsed": false,
    "jupyter": {
     "outputs_hidden": false
    },
    "pycharm": {
     "name": "#%%\n"
    }
   },
   "outputs": [
    {
     "data": {
      "text/plain": [
       "tensor([-1.0514, -0.1325, -0.8264, -0.1159, -0.4410, -1.0915, -1.6782, -0.6685,\n",
       "        -1.1355, -0.2595])"
      ]
     },
     "execution_count": 122,
     "metadata": {},
     "output_type": "execute_result"
    }
   ],
   "source": [
    "torch.copysign(x, -1)"
   ]
  },
  {
   "cell_type": "code",
   "execution_count": 123,
   "id": "a85282c2",
   "metadata": {
    "collapsed": false,
    "jupyter": {
     "outputs_hidden": false
    },
    "pycharm": {
     "name": "#%%\n"
    }
   },
   "outputs": [
    {
     "data": {
      "text/plain": [
       "tensor([-60.2430,   7.5920, -47.3517,  -6.6383,  25.2662,  62.5356, -96.1510,\n",
       "        -38.3045,  65.0606,  14.8691])"
      ]
     },
     "execution_count": 123,
     "metadata": {},
     "output_type": "execute_result"
    }
   ],
   "source": [
    "torch.rad2deg(x)"
   ]
  },
  {
   "cell_type": "code",
   "execution_count": 124,
   "id": "7492a453",
   "metadata": {
    "collapsed": false,
    "jupyter": {
     "outputs_hidden": false
    },
    "pycharm": {
     "name": "#%%\n"
    }
   },
   "outputs": [
    {
     "data": {
      "text/plain": [
       "tensor([-0.0184,  0.0023, -0.0144, -0.0020,  0.0077,  0.0190, -0.0293, -0.0117,\n",
       "         0.0198,  0.0045])"
      ]
     },
     "execution_count": 124,
     "metadata": {},
     "output_type": "execute_result"
    }
   ],
   "source": [
    "torch.deg2rad(x)"
   ]
  },
  {
   "cell_type": "code",
   "execution_count": 125,
   "id": "7cd7ae50",
   "metadata": {
    "collapsed": false,
    "jupyter": {
     "outputs_hidden": false
    },
    "pycharm": {
     "name": "#%%\n"
    }
   },
   "outputs": [
    {
     "data": {
      "text/plain": [
       "(tensor([-1.0514,  0.1325, -0.8264, -0.1159,  0.4410,  1.0915, -1.6782, -0.6685,\n",
       "          1.1355,  0.2595]),\n",
       " tensor([-1.,  1., -0., -0.,  1.,  2., -1., -0.,  2.,  1.]),\n",
       " tensor([1.0514, 0.1325, 0.0000, 0.0000, 0.4410, 2.1829, 1.6782, 0.0000, 2.2710,\n",
       "         0.2595]))"
      ]
     },
     "execution_count": 125,
     "metadata": {},
     "output_type": "execute_result"
    }
   ],
   "source": [
    "x, y, torch.mul(x, y)"
   ]
  },
  {
   "cell_type": "code",
   "execution_count": 126,
   "id": "79bd3ac7",
   "metadata": {},
   "outputs": [
    {
     "data": {
      "text/plain": [
       "(tensor([[ 0,  1,  2,  3],\n",
       "         [ 4,  5,  6,  7],\n",
       "         [ 8,  9, 10, 11],\n",
       "         [12, 13, 14, 15]]),\n",
       " tensor([0, 1, 2, 3]),\n",
       " tensor([[ 0,  1,  4,  9],\n",
       "         [ 0,  5, 12, 21],\n",
       "         [ 0,  9, 20, 33],\n",
       "         [ 0, 13, 28, 45]]),\n",
       " tensor([[ 0,  1,  4,  9],\n",
       "         [ 0,  5, 12, 21],\n",
       "         [ 0,  9, 20, 33],\n",
       "         [ 0, 13, 28, 45]]))"
      ]
     },
     "execution_count": 126,
     "metadata": {},
     "output_type": "execute_result"
    }
   ],
   "source": [
    "x = torch.arange(16).view((4, 4))\n",
    "y = torch.arange(4, dtype=x.dtype)\n",
    "x, y, x*y, torch.mul(x, y)"
   ]
  },
  {
   "cell_type": "code",
   "execution_count": 127,
   "id": "621646e7",
   "metadata": {
    "collapsed": false,
    "jupyter": {
     "outputs_hidden": false
    },
    "pycharm": {
     "name": "#%%\n"
    }
   },
   "outputs": [
    {
     "data": {
      "text/plain": [
       "tensor([[   nan, 0.5000, 0.5000, 0.5000],\n",
       "        [0.5000, 0.5000, 0.5000, 0.5000],\n",
       "        [0.5000, 0.5000, 0.5000, 0.5000],\n",
       "        [0.5000, 0.5000, 0.5000, 0.5000]])"
      ]
     },
     "execution_count": 127,
     "metadata": {},
     "output_type": "execute_result"
    }
   ],
   "source": [
    "torch.div(x, 2*x)"
   ]
  },
  {
   "cell_type": "code",
   "execution_count": 128,
   "id": "360227f3",
   "metadata": {
    "collapsed": false,
    "jupyter": {
     "outputs_hidden": false
    },
    "pycharm": {
     "name": "#%%\n"
    }
   },
   "outputs": [
    {
     "data": {
      "text/plain": [
       "tensor([[ 1.0653],\n",
       "        [-1.0647],\n",
       "        [ 1.7097],\n",
       "        [-0.4530],\n",
       "        [-0.6821],\n",
       "        [-0.4252],\n",
       "        [-1.3487],\n",
       "        [-0.8877],\n",
       "        [ 2.2434],\n",
       "        [-0.9085],\n",
       "        [ 0.5715],\n",
       "        [ 0.3293],\n",
       "        [-0.0178],\n",
       "        [ 0.7558],\n",
       "        [ 1.8226],\n",
       "        [-1.1744]])"
      ]
     },
     "execution_count": 128,
     "metadata": {},
     "output_type": "execute_result"
    }
   ],
   "source": [
    "torch.randn((x.numel(), 1))"
   ]
  },
  {
   "cell_type": "code",
   "execution_count": 129,
   "id": "d252514b",
   "metadata": {
    "collapsed": false,
    "jupyter": {
     "outputs_hidden": false
    },
    "pycharm": {
     "name": "#%%\n"
    }
   },
   "outputs": [
    {
     "data": {
      "text/plain": [
       "tensor([0, 1, 2, 3])"
      ]
     },
     "execution_count": 129,
     "metadata": {},
     "output_type": "execute_result"
    }
   ],
   "source": [
    "y"
   ]
  },
  {
   "cell_type": "code",
   "execution_count": 130,
   "id": "57c95466",
   "metadata": {
    "collapsed": false,
    "jupyter": {
     "outputs_hidden": false
    },
    "pycharm": {
     "name": "#%%\n"
    }
   },
   "outputs": [
    {
     "data": {
      "text/plain": [
       "tensor([[    nan,  1.0000,  1.0000,  1.0000],\n",
       "        [    inf,  5.0000,  3.0000,  2.3333],\n",
       "        [    inf,  9.0000,  5.0000,  3.6667],\n",
       "        [    inf, 13.0000,  7.0000,  5.0000]])"
      ]
     },
     "execution_count": 130,
     "metadata": {},
     "output_type": "execute_result"
    }
   ],
   "source": [
    "x / y"
   ]
  },
  {
   "cell_type": "code",
   "execution_count": 131,
   "id": "0f46e958",
   "metadata": {
    "collapsed": false,
    "jupyter": {
     "outputs_hidden": false
    },
    "pycharm": {
     "name": "#%%\n"
    }
   },
   "outputs": [
    {
     "data": {
      "text/plain": [
       "tensor([[    nan,  1.0000,  1.0000,  1.0000],\n",
       "        [    inf,  5.0000,  3.0000,  2.3333],\n",
       "        [    inf,  9.0000,  5.0000,  3.6667],\n",
       "        [    inf, 13.0000,  7.0000,  5.0000]])"
      ]
     },
     "execution_count": 131,
     "metadata": {},
     "output_type": "execute_result"
    }
   ],
   "source": [
    "\n",
    "torch.div(x, y)"
   ]
  },
  {
   "cell_type": "code",
   "execution_count": 132,
   "id": "3fef806c",
   "metadata": {
    "collapsed": false,
    "jupyter": {
     "outputs_hidden": false
    },
    "pycharm": {
     "name": "#%%\n"
    }
   },
   "outputs": [
    {
     "data": {
      "text/plain": [
       "tensor([[0.0000e+00, 1.0000e+00, 1.0000e+00, 1.0000e+00],\n",
       "        [4.0000e+09, 5.0000e+00, 3.0000e+00, 2.0000e+00],\n",
       "        [8.0000e+09, 9.0000e+00, 5.0000e+00, 3.0000e+00],\n",
       "        [1.2000e+10, 1.3000e+01, 7.0000e+00, 5.0000e+00]])"
      ]
     },
     "execution_count": 132,
     "metadata": {},
     "output_type": "execute_result"
    }
   ],
   "source": [
    "torch.div(x, y + 1.e-9, rounding_mode=\"trunc\")"
   ]
  },
  {
   "cell_type": "code",
   "execution_count": 133,
   "id": "473db953",
   "metadata": {
    "collapsed": false,
    "jupyter": {
     "outputs_hidden": false
    },
    "pycharm": {
     "name": "#%%\n"
    }
   },
   "outputs": [
    {
     "data": {
      "text/plain": [
       "tensor([[0.0000e+00, 1.0000e+00, 1.0000e+00, 1.0000e+00],\n",
       "        [4.0000e+09, 5.0000e+00, 3.0000e+00, 2.0000e+00],\n",
       "        [8.0000e+09, 9.0000e+00, 5.0000e+00, 3.0000e+00],\n",
       "        [1.2000e+10, 1.3000e+01, 7.0000e+00, 5.0000e+00]])"
      ]
     },
     "execution_count": 133,
     "metadata": {},
     "output_type": "execute_result"
    }
   ],
   "source": [
    "torch.div(x, y  + 1.e-9, rounding_mode=\"floor\")\n"
   ]
  },
  {
   "cell_type": "code",
   "execution_count": 134,
   "id": "68f06f38",
   "metadata": {
    "collapsed": false,
    "jupyter": {
     "outputs_hidden": false
    },
    "pycharm": {
     "name": "#%%\n"
    }
   },
   "outputs": [
    {
     "data": {
      "text/plain": [
       "(torch.Size([4, 4]), torch.Size([4]), torch.Size([4, 4]), torch.Size([4, 4]))"
      ]
     },
     "execution_count": 134,
     "metadata": {},
     "output_type": "execute_result"
    }
   ],
   "source": [
    "x.shape, y.shape, (x / y).shape, (x*y).shape"
   ]
  },
  {
   "cell_type": "code",
   "execution_count": 135,
   "id": "a1000f64",
   "metadata": {
    "collapsed": false,
    "jupyter": {
     "outputs_hidden": false
    },
    "pycharm": {
     "name": "#%%\n"
    }
   },
   "outputs": [
    {
     "data": {
      "text/plain": [
       "(tensor([2.7183, 3.0377, 3.3947, 3.7937, 4.2395, 4.7377, 5.2945, 5.9167, 6.6120,\n",
       "         7.3891]),\n",
       " tensor([2.7183, 3.0377, 3.3947, 3.7937, 4.2395, 4.7377, 5.2945, 5.9167, 6.6120,\n",
       "         7.3891]))"
      ]
     },
     "execution_count": 135,
     "metadata": {},
     "output_type": "execute_result"
    }
   ],
   "source": [
    "c = torch.logspace(1, 2, 10,\n",
    "                   base=torch.exp(torch.tensor(1.0)).item())\n",
    "c, torch.exp(torch.linspace(1, 2, 10))\n"
   ]
  },
  {
   "cell_type": "code",
   "execution_count": 136,
   "id": "4a14ae66",
   "metadata": {
    "collapsed": false,
    "jupyter": {
     "outputs_hidden": false
    },
    "pycharm": {
     "name": "#%%\n"
    }
   },
   "outputs": [
    {
     "data": {
      "text/plain": [
       "(tensor([2.7183, 3.0377, 3.3947, 3.7937, 4.2395, 4.7377, 5.2945, 5.9167, 6.6120,\n",
       "         7.3891]),\n",
       " tensor([  15.1543,   20.8579,   29.8064,   44.4190,   69.3729,  114.1733,\n",
       "          199.2360,  371.1823,  743.9826, 1618.1774]))"
      ]
     },
     "execution_count": 136,
     "metadata": {},
     "output_type": "execute_result"
    }
   ],
   "source": [
    "c, torch.exp(c)"
   ]
  },
  {
   "cell_type": "code",
   "execution_count": 137,
   "id": "e5d20184",
   "metadata": {
    "collapsed": false,
    "jupyter": {
     "outputs_hidden": false
    },
    "pycharm": {
     "name": "#%%\n"
    }
   },
   "outputs": [
    {
     "data": {
      "text/plain": [
       "tensor([  6.5809,   8.2120,  10.5175,  13.8678,  18.8893,  26.6806,  39.2464,\n",
       "         60.4091,  97.8173, 167.6206])"
      ]
     },
     "execution_count": 137,
     "metadata": {},
     "output_type": "execute_result"
    }
   ],
   "source": [
    "torch.special.exp2(c)"
   ]
  },
  {
   "cell_type": "code",
   "execution_count": 138,
   "id": "4b5cd8ee",
   "metadata": {
    "collapsed": false,
    "jupyter": {
     "outputs_hidden": false
    },
    "pycharm": {
     "name": "#%%\n"
    }
   },
   "outputs": [
    {
     "data": {
      "text/plain": [
       "tensor([  14.1543,   19.8579,   28.8064,   43.4190,   68.3729,  113.1733,\n",
       "         198.2360,  370.1823,  742.9826, 1617.1774])"
      ]
     },
     "execution_count": 138,
     "metadata": {},
     "output_type": "execute_result"
    }
   ],
   "source": [
    "torch.special.expm1(c)"
   ]
  },
  {
   "cell_type": "code",
   "execution_count": 139,
   "id": "3bc1b040",
   "metadata": {
    "collapsed": false,
    "jupyter": {
     "outputs_hidden": false
    },
    "pycharm": {
     "name": "#%%\n"
    }
   },
   "outputs": [],
   "source": [
    "# torch.special.logsumexp(c) # LSE"
   ]
  },
  {
   "cell_type": "code",
   "execution_count": 140,
   "id": "f5167988",
   "metadata": {
    "collapsed": false,
    "jupyter": {
     "outputs_hidden": false
    },
    "pycharm": {
     "name": "#%%\n"
    }
   },
   "outputs": [
    {
     "data": {
      "text/plain": [
       "(tensor([1.3133, 1.3957, 1.4804, 1.5673, 1.6562, 1.7471, 1.8397, 1.9339, 2.0297,\n",
       "         2.1269]),\n",
       " tensor([1.3133, 1.3957, 1.4804, 1.5673, 1.6562, 1.7471, 1.8397, 1.9339, 2.0297,\n",
       "         2.1269]))"
      ]
     },
     "execution_count": 140,
     "metadata": {},
     "output_type": "execute_result"
    }
   ],
   "source": [
    "torch.log1p(c),  torch.log(1 + c)\n"
   ]
  },
  {
   "cell_type": "code",
   "execution_count": 141,
   "id": "6f81feeb",
   "metadata": {
    "collapsed": false,
    "jupyter": {
     "outputs_hidden": false
    },
    "pycharm": {
     "name": "#%%\n"
    }
   },
   "outputs": [
    {
     "data": {
      "text/plain": [
       "(tensor([[ 0,  1,  2,  3],\n",
       "         [ 4,  5,  6,  7],\n",
       "         [ 8,  9, 10, 11],\n",
       "         [12, 13, 14, 15]]),\n",
       " tensor([[ 0.,  1.,  2.,  3.],\n",
       "         [ 4.,  5.,  6.,  7.],\n",
       "         [ 8.,  9., 10., 11.],\n",
       "         [12., 13., 14., 15.]]),\n",
       " tensor([[ 0.,  1.,  2.,  3.],\n",
       "         [ 4.,  5.,  6.,  7.],\n",
       "         [ 8.,  9., 10., 11.],\n",
       "         [12., 13., 14., 15.]]))"
      ]
     },
     "execution_count": 141,
     "metadata": {},
     "output_type": "execute_result"
    }
   ],
   "source": [
    "x, torch.trunc(x.to(torch.float)), torch.floor(x.to(torch.float))\n"
   ]
  },
  {
   "cell_type": "code",
   "execution_count": 142,
   "id": "d5368b59",
   "metadata": {
    "collapsed": false,
    "jupyter": {
     "outputs_hidden": false
    },
    "pycharm": {
     "name": "#%%\n"
    }
   },
   "outputs": [
    {
     "data": {
      "text/plain": [
       "tensor([1, 0, 7, 9])"
      ]
     },
     "execution_count": 142,
     "metadata": {},
     "output_type": "execute_result"
    }
   ],
   "source": [
    "a = torch.randint(10, (4, ))\n",
    "a"
   ]
  },
  {
   "cell_type": "code",
   "execution_count": 143,
   "id": "a899cf14",
   "metadata": {
    "collapsed": false,
    "jupyter": {
     "outputs_hidden": false
    },
    "pycharm": {
     "name": "#%%\n"
    }
   },
   "outputs": [
    {
     "data": {
      "text/plain": [
       "(tensor([ 1.,  0., 49., 81.], dtype=torch.float64),\n",
       " tensor([ 1,  0, 49, 81]),\n",
       " tensor([ 1,  0, 49, 81]))"
      ]
     },
     "execution_count": 143,
     "metadata": {},
     "output_type": "execute_result"
    }
   ],
   "source": [
    "torch.float_power(a, 2) , a**2, torch.pow(a, 2)"
   ]
  },
  {
   "cell_type": "code",
   "execution_count": 144,
   "id": "c5ab3818",
   "metadata": {
    "collapsed": false,
    "jupyter": {
     "outputs_hidden": false
    },
    "pycharm": {
     "name": "#%%\n"
    }
   },
   "outputs": [
    {
     "data": {
      "text/plain": [
       "(tensor([ -6.3488,  -1.3118,  -0.9860,  -4.0498,  -9.7726,   4.2244,   4.6605,\n",
       "          -2.1556,  -4.1942, -17.8960]),\n",
       " tensor([-0.3488, -0.3118, -0.9860, -0.0498, -0.7726,  0.2244,  0.6605, -0.1556,\n",
       "         -0.1942, -0.8960]))"
      ]
     },
     "execution_count": 144,
     "metadata": {},
     "output_type": "execute_result"
    }
   ],
   "source": [
    "z = torch.normal(mean=torch.ones((10, )) * -5.0,\n",
    "                 std=torch.linspace(1, 10, 10))\n",
    "\n",
    "z, torch.frac(z)"
   ]
  },
  {
   "cell_type": "code",
   "execution_count": 145,
   "id": "ee707b1d",
   "metadata": {
    "collapsed": false,
    "jupyter": {
     "outputs_hidden": false
    },
    "pycharm": {
     "name": "#%%\n"
    }
   },
   "outputs": [
    {
     "data": {
      "text/plain": [
       "(tensor([1, 3, 5, 7, 9]), tensor([0, 2, 4, 6, 8]))"
      ]
     },
     "execution_count": 145,
     "metadata": {},
     "output_type": "execute_result"
    }
   ],
   "source": [
    "x = torch.arange(1, 10, 2)\n",
    "z = torch.arange(0, 10, 2)\n",
    "x, z\n"
   ]
  },
  {
   "cell_type": "code",
   "execution_count": 146,
   "id": "f3c7af8e",
   "metadata": {
    "collapsed": false,
    "jupyter": {
     "outputs_hidden": false
    },
    "pycharm": {
     "name": "#%%\n"
    }
   },
   "outputs": [],
   "source": [
    "y = 2 * z"
   ]
  },
  {
   "cell_type": "code",
   "execution_count": 147,
   "id": "a6f23dba",
   "metadata": {
    "collapsed": false,
    "jupyter": {
     "outputs_hidden": false
    },
    "pycharm": {
     "name": "#%%\n"
    }
   },
   "outputs": [
    {
     "data": {
      "text/plain": [
       "(tensor([2., 2., 2., 2., 2.]),)"
      ]
     },
     "execution_count": 147,
     "metadata": {},
     "output_type": "execute_result"
    }
   ],
   "source": [
    "torch.gradient(y, spacing=(z, ))"
   ]
  },
  {
   "cell_type": "code",
   "execution_count": 148,
   "id": "b7893957",
   "metadata": {
    "collapsed": false,
    "jupyter": {
     "outputs_hidden": false
    },
    "pycharm": {
     "name": "#%%\n"
    }
   },
   "outputs": [],
   "source": [
    "mat = torch.randint(0, 10, size=(10, 5))\n"
   ]
  },
  {
   "cell_type": "code",
   "execution_count": 149,
   "id": "90ed8c44",
   "metadata": {
    "collapsed": false,
    "jupyter": {
     "outputs_hidden": false
    },
    "pycharm": {
     "name": "#%%\n"
    }
   },
   "outputs": [
    {
     "data": {
      "text/plain": [
       "tensor([[6, 6, 2, 9, 1],\n",
       "        [8, 9, 2, 1, 9],\n",
       "        [4, 7, 2, 1, 1],\n",
       "        [4, 4, 6, 8, 3],\n",
       "        [8, 3, 3, 0, 1],\n",
       "        [5, 0, 7, 0, 8],\n",
       "        [7, 4, 8, 7, 1],\n",
       "        [3, 6, 0, 7, 6],\n",
       "        [5, 5, 9, 1, 7],\n",
       "        [7, 2, 8, 6, 9]])"
      ]
     },
     "execution_count": 149,
     "metadata": {},
     "output_type": "execute_result"
    }
   ],
   "source": [
    "mat"
   ]
  },
  {
   "cell_type": "code",
   "execution_count": 150,
   "id": "a77e484c",
   "metadata": {
    "collapsed": false,
    "jupyter": {
     "outputs_hidden": false
    },
    "pycharm": {
     "name": "#%%\n"
    }
   },
   "outputs": [
    {
     "data": {
      "text/plain": [
       "(tensor([ 82, 104,  36, 104,  26,  92,  90, 102, 108, 144]),\n",
       " tensor([ 82, 104,  36, 104,  26,  92,  90, 102, 108, 144]))"
      ]
     },
     "execution_count": 150,
     "metadata": {},
     "output_type": "execute_result"
    }
   ],
   "source": [
    "w = torch.matmul(mat, z)\n",
    "w, mat @ z"
   ]
  },
  {
   "cell_type": "code",
   "execution_count": 151,
   "id": "ab853b4a",
   "metadata": {
    "collapsed": false,
    "jupyter": {
     "outputs_hidden": false
    },
    "pycharm": {
     "name": "#%%\n"
    }
   },
   "outputs": [
    {
     "data": {
      "text/plain": [
       "tensor([-0.7177-0.4166j,  0.0914-1.0599j, -0.0287+1.0018j, -1.2289+0.1354j])"
      ]
     },
     "execution_count": 151,
     "metadata": {},
     "output_type": "execute_result"
    }
   ],
   "source": [
    "x=torch.randn(4, dtype=torch.cfloat)\n",
    "x"
   ]
  },
  {
   "cell_type": "code",
   "execution_count": 152,
   "id": "f4c779ad",
   "metadata": {
    "collapsed": false,
    "jupyter": {
     "outputs_hidden": false
    },
    "pycharm": {
     "name": "#%%\n"
    }
   },
   "outputs": [
    {
     "data": {
      "text/plain": [
       "tensor([-0.4166, -1.0599,  1.0018,  0.1354])"
      ]
     },
     "execution_count": 152,
     "metadata": {},
     "output_type": "execute_result"
    }
   ],
   "source": [
    "x.imag\n"
   ]
  },
  {
   "cell_type": "code",
   "execution_count": 153,
   "id": "ecbf3f37",
   "metadata": {
    "collapsed": false,
    "jupyter": {
     "outputs_hidden": false
    },
    "pycharm": {
     "name": "#%%\n"
    }
   },
   "outputs": [
    {
     "data": {
      "text/plain": [
       "(tensor([1, 2, 3, 4]), tensor([10., 10., 10., 10.]))"
      ]
     },
     "execution_count": 153,
     "metadata": {},
     "output_type": "execute_result"
    }
   ],
   "source": [
    "start = torch.arange(1, 5)\n",
    "end = torch.empty(4).fill_(10)\n",
    "start, end"
   ]
  },
  {
   "cell_type": "code",
   "execution_count": 154,
   "id": "fb69de83",
   "metadata": {
    "collapsed": false,
    "jupyter": {
     "outputs_hidden": false
    },
    "pycharm": {
     "name": "#%%\n"
    }
   },
   "outputs": [
    {
     "data": {
      "text/plain": [
       "tensor([5.5000, 6.0000, 6.5000, 7.0000])"
      ]
     },
     "execution_count": 154,
     "metadata": {},
     "output_type": "execute_result"
    }
   ],
   "source": [
    "start = torch.arange(1, 5.)\n",
    "end = torch.empty(4).fill_(10.)\n",
    "\n",
    "x = torch.lerp(start, end, 0.5)\n",
    "x"
   ]
  },
  {
   "cell_type": "code",
   "execution_count": 155,
   "id": "86b97246",
   "metadata": {
    "collapsed": false,
    "jupyter": {
     "outputs_hidden": false
    },
    "pycharm": {
     "name": "#%%\n"
    }
   },
   "outputs": [
    {
     "data": {
      "text/plain": [
       "tensor([5.5000, 6.0000, 6.5000, 7.0000])"
      ]
     },
     "execution_count": 155,
     "metadata": {},
     "output_type": "execute_result"
    }
   ],
   "source": [
    "y = torch.lgamma(x)\n",
    "x"
   ]
  },
  {
   "cell_type": "code",
   "execution_count": 156,
   "id": "02ed245e",
   "metadata": {
    "collapsed": false,
    "jupyter": {
     "outputs_hidden": false
    },
    "pycharm": {
     "name": "#%%\n"
    }
   },
   "outputs": [
    {
     "data": {
      "text/plain": [
       "tensor([0.0000, 0.6931, 1.0986, 2.3026])"
      ]
     },
     "execution_count": 156,
     "metadata": {},
     "output_type": "execute_result"
    }
   ],
   "source": [
    "z = torch.log(torch.tensor([1.0, 2, 3, 10]))\n",
    "\n",
    "z"
   ]
  },
  {
   "cell_type": "code",
   "execution_count": 157,
   "id": "6ded2005",
   "metadata": {
    "collapsed": false,
    "jupyter": {
     "outputs_hidden": false
    },
    "pycharm": {
     "name": "#%%\n"
    }
   },
   "outputs": [
    {
     "data": {
      "text/plain": [
       "(tensor([2.4594, 2.5850, 2.7004, 2.8074]),\n",
       " tensor([0.7404, 0.7782, 0.8129, 0.8451]))"
      ]
     },
     "execution_count": 157,
     "metadata": {},
     "output_type": "execute_result"
    }
   ],
   "source": [
    "torch.log2(x), torch.log10(x)"
   ]
  },
  {
   "cell_type": "code",
   "execution_count": 158,
   "id": "320268f4",
   "metadata": {
    "collapsed": false,
    "jupyter": {
     "outputs_hidden": false
    },
    "pycharm": {
     "name": "#%%\n"
    }
   },
   "outputs": [
    {
     "data": {
      "text/plain": [
       "tensor([0.6931, 1.3863, 1.7918], dtype=torch.float64)"
      ]
     },
     "execution_count": 158,
     "metadata": {},
     "output_type": "execute_result"
    }
   ],
   "source": [
    "\"\"\"log(e**x  +  e**y)\"\"\"\n",
    "a = torch.tensor([np.log(1.0), np.log(2), np.log(3)])\n",
    "x = torch.logaddexp(a, a)\n",
    "x"
   ]
  },
  {
   "cell_type": "code",
   "execution_count": 159,
   "id": "8ccc7731",
   "metadata": {
    "collapsed": false,
    "jupyter": {
     "outputs_hidden": false
    },
    "pycharm": {
     "name": "#%%\n"
    }
   },
   "outputs": [
    {
     "data": {
      "text/plain": [
       "tensor([False,  True,  True])"
      ]
     },
     "execution_count": 159,
     "metadata": {},
     "output_type": "execute_result"
    }
   ],
   "source": [
    "torch.logical_and(a, a)"
   ]
  },
  {
   "cell_type": "code",
   "execution_count": 160,
   "id": "eef21f1c",
   "metadata": {
    "collapsed": false,
    "jupyter": {
     "outputs_hidden": false
    },
    "pycharm": {
     "name": "#%%\n"
    }
   },
   "outputs": [
    {
     "data": {
      "text/plain": [
       "tensor([False,  True,  True])"
      ]
     },
     "execution_count": 160,
     "metadata": {},
     "output_type": "execute_result"
    }
   ],
   "source": [
    "torch.logical_or(a, a)\n"
   ]
  },
  {
   "cell_type": "code",
   "execution_count": 161,
   "id": "e959bd5e",
   "metadata": {
    "collapsed": false,
    "jupyter": {
     "outputs_hidden": false
    },
    "pycharm": {
     "name": "#%%\n"
    }
   },
   "outputs": [
    {
     "data": {
      "text/plain": [
       "tensor(2.)"
      ]
     },
     "execution_count": 161,
     "metadata": {},
     "output_type": "execute_result"
    }
   ],
   "source": [
    "torch.log2(torch.tensor(4))"
   ]
  },
  {
   "cell_type": "code",
   "execution_count": 162,
   "id": "0ae2e2c7",
   "metadata": {
    "collapsed": false,
    "jupyter": {
     "outputs_hidden": false
    },
    "pycharm": {
     "name": "#%%\n"
    }
   },
   "outputs": [
    {
     "data": {
      "text/plain": [
       "tensor(1.)"
      ]
     },
     "execution_count": 162,
     "metadata": {},
     "output_type": "execute_result"
    }
   ],
   "source": [
    "torch.log10(torch.tensor(10))"
   ]
  },
  {
   "cell_type": "code",
   "execution_count": 163,
   "id": "cb4a15cb",
   "metadata": {
    "collapsed": false,
    "jupyter": {
     "outputs_hidden": false
    },
    "pycharm": {
     "name": "#%%\n"
    }
   },
   "outputs": [
    {
     "data": {
      "text/plain": [
       "(tensor([0.6931, 1.0986, 1.3863, 1.6094, 1.7918]),\n",
       " tensor([0.6931, 1.0986, 1.3863, 1.6094, 1.7918]))"
      ]
     },
     "execution_count": 163,
     "metadata": {},
     "output_type": "execute_result"
    }
   ],
   "source": [
    "a = torch.arange(1, 6.)\n",
    "torch.log1p(a), torch.log(1 + a)"
   ]
  },
  {
   "cell_type": "code",
   "execution_count": 164,
   "id": "ce64e642",
   "metadata": {
    "collapsed": false,
    "jupyter": {
     "outputs_hidden": false
    },
    "pycharm": {
     "name": "#%%\n"
    }
   },
   "outputs": [
    {
     "data": {
      "text/plain": [
       "(tensor([0.0622, 0.8783, 0.4664, 0.2151, 0.5002]),\n",
       " tensor([-2.7130e+00,  1.9765e+00, -1.3479e-01, -1.2947e+00,  9.3774e-04]))"
      ]
     },
     "execution_count": 164,
     "metadata": {},
     "output_type": "execute_result"
    }
   ],
   "source": [
    "a = torch.rand((5, ))\n",
    "\"\"\"Inverse of sigmoid = sigmoid^(-1)(x)\"\"\"\n",
    "x = torch.logit(a, eps=1e-7)\n",
    "a, x"
   ]
  },
  {
   "cell_type": "code",
   "execution_count": 165,
   "id": "a757a060",
   "metadata": {
    "collapsed": false,
    "jupyter": {
     "outputs_hidden": false
    },
    "pycharm": {
     "name": "#%%\n"
    }
   },
   "outputs": [
    {
     "data": {
      "text/plain": [
       "tensor([-2.7130e+00,  1.9765e+00, -1.3479e-01, -1.2947e+00,  9.3774e-04])"
      ]
     },
     "execution_count": 165,
     "metadata": {},
     "output_type": "execute_result"
    }
   ],
   "source": [
    "torch.special.logit(a)"
   ]
  },
  {
   "cell_type": "code",
   "execution_count": 166,
   "id": "8614a4f6",
   "metadata": {
    "collapsed": false,
    "jupyter": {
     "outputs_hidden": false
    },
    "pycharm": {
     "name": "#%%\n"
    }
   },
   "outputs": [
    {
     "data": {
      "text/plain": [
       "tensor([2.0737])"
      ]
     },
     "execution_count": 166,
     "metadata": {},
     "output_type": "execute_result"
    }
   ],
   "source": [
    "torch.special.logsumexp(a, 0, keepdim=True)"
   ]
  },
  {
   "cell_type": "code",
   "execution_count": 167,
   "id": "a626fe76",
   "metadata": {
    "collapsed": false,
    "jupyter": {
     "outputs_hidden": false
    },
    "pycharm": {
     "name": "#%%\n"
    }
   },
   "outputs": [
    {
     "data": {
      "text/plain": [
       "tensor([-2.0115, -1.1954, -1.6073, -1.8586, -1.5735])"
      ]
     },
     "execution_count": 167,
     "metadata": {},
     "output_type": "execute_result"
    }
   ],
   "source": [
    "torch.special.log_softmax(a, 0)"
   ]
  },
  {
   "cell_type": "code",
   "execution_count": 168,
   "id": "dda69b0b",
   "metadata": {
    "collapsed": false,
    "jupyter": {
     "outputs_hidden": false
    },
    "pycharm": {
     "name": "#%%\n"
    }
   },
   "outputs": [
    {
     "data": {
      "text/plain": [
       "tensor([5.0000, 5.6569, 6.4031])"
      ]
     },
     "execution_count": 168,
     "metadata": {},
     "output_type": "execute_result"
    }
   ],
   "source": [
    "a = torch.hypot(torch.tensor([4.0]), torch.tensor([3.0, 4.0, 5.0]))\n",
    "a"
   ]
  },
  {
   "cell_type": "code",
   "execution_count": 169,
   "id": "ae255ab9",
   "metadata": {
    "collapsed": false,
    "jupyter": {
     "outputs_hidden": false
    },
    "pycharm": {
     "name": "#%%\n"
    }
   },
   "outputs": [
    {
     "data": {
      "text/plain": [
       "(tensor([[ 0.3274, -1.7550, -1.0335],\n",
       "         [-0.8639,  1.1798, -1.1471],\n",
       "         [ 0.8873, -0.9517,  2.0511],\n",
       "         [-0.2137,  1.4172,  0.2684]]),\n",
       " tensor([[-0.5776,  0.6749,  0.5853]]),\n",
       " tensor([[ 0.3274, -1.7550, -1.0335],\n",
       "         [-0.8639,  1.1798, -1.1471],\n",
       "         [ 0.8873, -0.9517,  2.0511],\n",
       "         [-0.2137,  1.4172,  0.2684]]))"
      ]
     },
     "execution_count": 169,
     "metadata": {},
     "output_type": "execute_result"
    }
   ],
   "source": [
    "a = torch.randn((4, 3))\n",
    "b = torch.randn((1, 3))\n",
    "c = torch.mul(a, torch.div(b, b))\n",
    "a, b, c"
   ]
  },
  {
   "cell_type": "code",
   "execution_count": 170,
   "id": "e41e1984",
   "metadata": {
    "collapsed": false,
    "jupyter": {
     "outputs_hidden": false
    },
    "pycharm": {
     "name": "#%%\n"
    }
   },
   "outputs": [
    {
     "data": {
      "text/plain": [
       "tensor([[ 0.0364,  0.3591, -0.7413, -0.7228],\n",
       "        [ 0.0442,  0.4357, -0.8994, -0.8770],\n",
       "        [-0.1102, -1.0861,  2.2419,  2.1861],\n",
       "        [ 0.0344,  0.3387, -0.6991, -0.6817]])"
      ]
     },
     "execution_count": 170,
     "metadata": {},
     "output_type": "execute_result"
    }
   ],
   "source": [
    "torch.multiply(torch.randn((4, 1)), torch.randn((1, 4)))"
   ]
  },
  {
   "cell_type": "code",
   "execution_count": 171,
   "id": "37314f8c",
   "metadata": {
    "collapsed": false,
    "jupyter": {
     "outputs_hidden": false
    },
    "pycharm": {
     "name": "#%%\n"
    }
   },
   "outputs": [
    {
     "data": {
      "text/plain": [
       "(torch.Size([100, 10]), torch.Size([100, 10]), torch.Size([1, 100, 10]))"
      ]
     },
     "execution_count": 171,
     "metadata": {},
     "output_type": "execute_result"
    }
   ],
   "source": [
    "mat = torch.randn((100, 50))\n",
    "weights = torch.randn((50, 10))\n",
    "\n",
    "out = torch.einsum(\"ij, jk -> ik\", mat, weights)\n",
    "out2 = torch.matmul(mat, weights)\n",
    "out3 = torch.matmul(mat, torch.reshape(weights, (1, weights.shape[0], weights.shape[-1])))\n",
    "out.shape, out2.shape, out3.shape"
   ]
  },
  {
   "cell_type": "code",
   "execution_count": 172,
   "id": "d80c2c76",
   "metadata": {
    "collapsed": false,
    "jupyter": {
     "outputs_hidden": false
    },
    "pycharm": {
     "name": "#%%\n"
    }
   },
   "outputs": [
    {
     "data": {
      "text/plain": [
       "torch.Size([100, 50])"
      ]
     },
     "execution_count": 172,
     "metadata": {},
     "output_type": "execute_result"
    }
   ],
   "source": [
    "mat = torch.randn((100, 50))\n",
    "weights = torch.randn((50,))\n",
    "\n",
    "out = torch.multiply(mat, weights)\n",
    "out.shape"
   ]
  },
  {
   "cell_type": "code",
   "execution_count": 173,
   "id": "be334245",
   "metadata": {
    "collapsed": false,
    "jupyter": {
     "outputs_hidden": false
    },
    "pycharm": {
     "name": "#%%\n"
    }
   },
   "outputs": [
    {
     "data": {
      "text/plain": [
       "torch.Size([5])"
      ]
     },
     "execution_count": 173,
     "metadata": {},
     "output_type": "execute_result"
    }
   ],
   "source": [
    "out = torch.matmul(torch.randn(100), torch.randn((100, 5)))\n",
    "out.size()"
   ]
  },
  {
   "cell_type": "code",
   "execution_count": 174,
   "id": "fa76b2f7",
   "metadata": {
    "collapsed": false,
    "jupyter": {
     "outputs_hidden": false
    },
    "pycharm": {
     "name": "#%%\n"
    }
   },
   "outputs": [
    {
     "name": "stdout",
     "output_type": "stream",
     "text": [
      "tensor([-1.2353, -0.1560,  1.4259, -0.2342,  0.7426,  1.4585, -1.2353, -1.9690,\n",
      "        -0.3181, -0.3874])\n",
      "tensor([-0.4250,  1.9915,  0.3034,  0.5253, -0.8596,  0.6139,  0.0257,  0.6254,\n",
      "        -0.9295,  0.0178])\n",
      "tensor([ 0.5250, -0.3106,  0.4326, -0.1230, -0.6383,  0.8953, -0.0317, -1.2313,\n",
      "         0.2957, -0.0069])\n",
      "tensor(-0.1933) torch.Size([10])\n",
      "tensor(-0.1933)\n"
     ]
    }
   ],
   "source": [
    "x = torch.randn(10)\n",
    "y = torch.randn(10)\n",
    "print(x)\n",
    "print(y)\n",
    "print(x*y)\n",
    "print(torch.matmul(x, y.T), y.T.shape)\n",
    "print(torch.matmul(x, y))"
   ]
  },
  {
   "cell_type": "code",
   "execution_count": 175,
   "id": "b878a2ca",
   "metadata": {
    "collapsed": false,
    "jupyter": {
     "outputs_hidden": false
    },
    "pycharm": {
     "name": "#%%\n"
    }
   },
   "outputs": [
    {
     "name": "stdout",
     "output_type": "stream",
     "text": [
      "tensor([[-0.1819, -0.4552,  0.9148],\n",
      "        [ 0.1276,  0.8478, -0.9935],\n",
      "        [-1.8612, -0.1829,  1.1225],\n",
      "        [ 0.7419, -0.2832, -2.3505]])\n",
      "tensor([[ 0.6268, -0.3974,  0.8355],\n",
      "        [-1.2903, -0.0971,  1.7446],\n",
      "        [ 0.9952, -1.8428, -0.2166],\n",
      "        [-0.6686,  0.0340, -0.3804]])\n",
      "tensor([[-0.1140,  0.1809,  0.7643],\n",
      "        [-0.1646, -0.0824, -1.7332],\n",
      "        [-1.8522,  0.3370, -0.2432],\n",
      "        [-0.4960, -0.0096,  0.8941]])\n",
      "tensor([[ 0.8312,  1.8749,  0.4596, -0.2418],\n",
      "        [-1.0869, -1.9802, -1.2201,  0.3214],\n",
      "        [-0.1560,  4.3776, -1.7584,  0.8111],\n",
      "        [-1.3862, -5.0304,  1.7695,  0.3884]])\n"
     ]
    }
   ],
   "source": [
    "x = torch.randn((4, 3))\n",
    "y = torch.randn((4, 3))\n",
    "print(x)\n",
    "print(y)\n",
    "print(x*y)\n",
    "print(torch.matmul(x, y.T))"
   ]
  },
  {
   "cell_type": "code",
   "execution_count": 176,
   "id": "596e8c74",
   "metadata": {
    "collapsed": false,
    "jupyter": {
     "outputs_hidden": false
    },
    "pycharm": {
     "name": "#%%\n"
    }
   },
   "outputs": [
    {
     "name": "stdout",
     "output_type": "stream",
     "text": [
      "torch.Size([2])\n"
     ]
    }
   ],
   "source": [
    "x = torch.randn(10)\n",
    "y = torch.randn((10, 2))\n",
    "z = torch.matmul(x, y)\n",
    "print(z.shape)"
   ]
  },
  {
   "cell_type": "code",
   "execution_count": 177,
   "id": "1e620a97",
   "metadata": {
    "collapsed": false,
    "jupyter": {
     "outputs_hidden": false
    },
    "pycharm": {
     "name": "#%%\n"
    }
   },
   "outputs": [
    {
     "data": {
      "text/plain": [
       "torch.Size([3, 4, 2, 2])"
      ]
     },
     "execution_count": 177,
     "metadata": {},
     "output_type": "execute_result"
    }
   ],
   "source": [
    "j, k, n = 3, 4, 2\n",
    "\n",
    "x = torch.randn((j, 1, n, n))\n",
    "y = torch.randn((k, n, n))\n",
    "z = torch.matmul(x, y)\n",
    "z.shape"
   ]
  },
  {
   "cell_type": "code",
   "execution_count": 178,
   "id": "4733577a",
   "metadata": {
    "collapsed": false,
    "jupyter": {
     "outputs_hidden": false
    },
    "pycharm": {
     "name": "#%%\n"
    }
   },
   "outputs": [
    {
     "data": {
      "text/plain": [
       "torch.Size([10, 3, 5])"
      ]
     },
     "execution_count": 178,
     "metadata": {},
     "output_type": "execute_result"
    }
   ],
   "source": [
    "x = torch.randn(10, 3, 4)\n",
    "y = torch.randn(4, 5)\n",
    "\n",
    "z = torch.matmul(x, y).size()\n",
    "z"
   ]
  },
  {
   "cell_type": "code",
   "execution_count": 179,
   "id": "d2478ff3",
   "metadata": {
    "collapsed": false,
    "jupyter": {
     "outputs_hidden": false
    },
    "pycharm": {
     "name": "#%%\n"
    }
   },
   "outputs": [
    {
     "data": {
      "text/plain": [
       "(tensor([-1., -2., -3., -4., -5., -6., -7., -8., -9.]),\n",
       " tensor([-1., -2., -3., -4., -5., -6., -7., -8., -9.]))"
      ]
     },
     "execution_count": 179,
     "metadata": {},
     "output_type": "execute_result"
    }
   ],
   "source": [
    "torch.neg(torch.arange(1, 10.)), -torch.arange(1, 10.0)\n",
    "\n"
   ]
  },
  {
   "cell_type": "code",
   "execution_count": 180,
   "id": "a53d83b9-4f5d-4fd4-9921-d4cb38e79d32",
   "metadata": {
    "pycharm": {
     "name": "#%%\n"
    }
   },
   "outputs": [
    {
     "data": {
      "text/plain": [
       "(tensor([ 1.,  4.,  9., 16., 25., 36., 49., 64., 81.]),\n",
       " tensor([ 1.0000,  2.6390,  4.6555,  6.9644,  9.5183, 12.2860, 15.2453, 18.3792,\n",
       "         21.6740]),\n",
       " tensor([ 1.0000,  2.6390,  4.6555,  6.9644,  9.5183, 12.2860, 15.2453, 18.3792,\n",
       "         21.6740]),\n",
       " tensor([1.0000e+00, 4.0000e+00, 2.7000e+01, 2.5600e+02, 3.1250e+03, 4.6656e+04,\n",
       "         8.2354e+05, 1.6777e+07, 3.8742e+08]),\n",
       " tensor([1.0000e+00, 4.0000e+00, 2.7000e+01, 2.5600e+02, 3.1250e+03, 4.6656e+04,\n",
       "         8.2354e+05, 1.6777e+07, 3.8742e+08]))"
      ]
     },
     "execution_count": 180,
     "metadata": {},
     "output_type": "execute_result"
    }
   ],
   "source": [
    "x = torch.arange(1.0, 10.0)\n",
    "y = torch.arange(1, 10)\n",
    "torch.pow(x, 2), torch.pow(x, 1.4), x**1.4, torch.pow(x, y), x**y"
   ]
  },
  {
   "cell_type": "code",
   "execution_count": 181,
   "id": "8fe9450a-59e0-4ce6-95f8-db37e944a598",
   "metadata": {
    "pycharm": {
     "name": "#%%\n"
    }
   },
   "outputs": [
    {
     "data": {
      "text/plain": [
       "tensor([[[[1.5000, 1.5000],\n",
       "          [1.5000, 0.0000]],\n",
       "\n",
       "         [[0.0000, 1.5000],\n",
       "          [0.0000, 0.0000]]],\n",
       "\n",
       "\n",
       "        [[[1.5000, 0.0000],\n",
       "          [1.5000, 0.0000]],\n",
       "\n",
       "         [[0.0000, 0.0000],\n",
       "          [0.0000, 0.0000]]]], size=(2, 2, 2, 2), dtype=torch.quint8,\n",
       "       quantization_scheme=torch.per_tensor_affine, scale=1.5, zero_point=3)"
      ]
     },
     "execution_count": 181,
     "metadata": {},
     "output_type": "execute_result"
    }
   ],
   "source": [
    "qx = torch.quantize_per_tensor(torch.rand(2, 2, 2, 2), 1.5, 3, torch.quint8)\n",
    "qx"
   ]
  },
  {
   "cell_type": "code",
   "execution_count": 182,
   "id": "013e8456-13aa-467a-a02b-a7fc2c2d4208",
   "metadata": {
    "pycharm": {
     "name": "#%%\n"
    }
   },
   "outputs": [
    {
     "data": {
      "text/plain": [
       "tensor([[[[0.0000, 0.0000],\n",
       "          [0.0000, 0.0000]],\n",
       "\n",
       "         [[0.0000, 1.5000],\n",
       "          [0.0000, 0.0000]]],\n",
       "\n",
       "\n",
       "        [[[0.0000, 0.0000],\n",
       "          [0.0000, 0.0000]],\n",
       "\n",
       "         [[0.0000, 0.0000],\n",
       "          [1.5000, 1.5000]]]], size=(2, 2, 2, 2), dtype=torch.quint8,\n",
       "       quantization_scheme=torch.per_tensor_affine, scale=1.5, zero_point=3)"
      ]
     },
     "execution_count": 182,
     "metadata": {},
     "output_type": "execute_result"
    }
   ],
   "source": [
    "qx = torch.quantize_per_tensor(torch.rand(2, 2, 2, 2), 1.5, 3, torch.quint8)\n",
    "qx"
   ]
  },
  {
   "cell_type": "code",
   "execution_count": 183,
   "id": "e4eba639-2fc0-4333-aed1-592ea0cc3af2",
   "metadata": {
    "pycharm": {
     "name": "#%%\n"
    }
   },
   "outputs": [
    {
     "data": {
      "text/plain": [
       "tensor([[ 180.0233, -180.0233],\n",
       "        [ 359.9894, -359.9894],\n",
       "        [  89.9544,  -89.9544]])"
      ]
     },
     "execution_count": 183,
     "metadata": {},
     "output_type": "execute_result"
    }
   ],
   "source": [
    "a = torch.tensor([[3.142, -3.142], [6.283, -6.283], [1.570, -1.570]])\n",
    "torch.rad2deg(a)"
   ]
  },
  {
   "cell_type": "code",
   "execution_count": 184,
   "id": "c613c6a5-217f-42db-9bff-c17ca840ba9d",
   "metadata": {
    "pycharm": {
     "name": "#%%\n"
    }
   },
   "outputs": [
    {
     "data": {
      "text/plain": [
       "(tensor([ 1.4067+0.7518j,  0.3761+0.3579j, -0.1046+0.1531j,  0.0177+0.3538j]),\n",
       " tensor([ 1.4067,  0.3761, -0.1046,  0.0177]),\n",
       " tensor([0.7518, 0.3579, 0.1531, 0.3538]))"
      ]
     },
     "execution_count": 184,
     "metadata": {},
     "output_type": "execute_result"
    }
   ],
   "source": [
    "x = torch.randn(4, dtype=torch.cfloat)\n",
    "x, x.real, x.imag"
   ]
  },
  {
   "cell_type": "code",
   "execution_count": 185,
   "id": "2d80d55c-e46d-4b28-a32b-c1a0dc5663d5",
   "metadata": {
    "pycharm": {
     "name": "#%%\n"
    }
   },
   "outputs": [
    {
     "data": {
      "text/plain": [
       "(tensor([ 1.1211, -3.1044, -0.7891, -1.2775]),\n",
       " tensor([ 1.1211, -3.1044, -0.7891, -1.2775]))"
      ]
     },
     "execution_count": 185,
     "metadata": {},
     "output_type": "execute_result"
    }
   ],
   "source": [
    "x = torch.randn(4)\n",
    "torch.reciprocal(x), 1.0 / x"
   ]
  },
  {
   "cell_type": "code",
   "execution_count": 186,
   "id": "87919fbd-216a-4e07-b923-a553c9da1229",
   "metadata": {
    "pycharm": {
     "name": "#%%\n"
    }
   },
   "outputs": [
    {
     "data": {
      "text/plain": [
       "tensor([-3, -2, -1,  1,  2,  3])"
      ]
     },
     "execution_count": 186,
     "metadata": {},
     "output_type": "execute_result"
    }
   ],
   "source": [
    "x = torch.tensor([-3, -2, -1, 1, 2, 3])\n",
    "x"
   ]
  },
  {
   "cell_type": "code",
   "execution_count": 187,
   "id": "73ab7ff4-945f-48d1-8dfe-5bbc4576a6e0",
   "metadata": {
    "pycharm": {
     "name": "#%%\n"
    }
   },
   "outputs": [
    {
     "data": {
      "text/plain": [
       "(tensor([-3, -2, -1,  1,  2,  3]),\n",
       " tensor([0, 1, 2, 1, 2, 0]),\n",
       " tensor([0, 1, 2, 1, 2, 0]),\n",
       " tensor([-1.0000, -0.6667, -0.3333,  0.3333,  0.6667,  1.0000]))"
      ]
     },
     "execution_count": 187,
     "metadata": {},
     "output_type": "execute_result"
    }
   ],
   "source": [
    "x, x % 3, torch.remainder(x, 3), torch.div(x, 3)"
   ]
  },
  {
   "cell_type": "code",
   "execution_count": 188,
   "id": "9754509f-aafb-4f09-8cdc-60f58d67ecbd",
   "metadata": {
    "pycharm": {
     "name": "#%%\n"
    }
   },
   "outputs": [
    {
     "data": {
      "text/plain": [
       "(tensor([-3, -2, -1,  1,  2,  3]),\n",
       " tensor([ 0, -2, -1, -2, -1,  0]),\n",
       " tensor([ 0, -2, -1, -2, -1,  0]),\n",
       " tensor([ 1.0000,  0.6667,  0.3333, -0.3333, -0.6667, -1.0000]))"
      ]
     },
     "execution_count": 188,
     "metadata": {},
     "output_type": "execute_result"
    }
   ],
   "source": [
    "div = -3\n",
    "x, x % div, torch.remainder(x, div), torch.div(x, div)"
   ]
  },
  {
   "cell_type": "code",
   "execution_count": 189,
   "id": "14427b9b-7f4c-4a93-b807-dda5da2fa34a",
   "metadata": {
    "pycharm": {
     "name": "#%%\n"
    }
   },
   "outputs": [
    {
     "data": {
      "text/plain": [
       "(tensor([ 1.3780,  1.0612,  0.7018, -1.5441,  0.5279,  1.2405,  0.9570, -0.0639,\n",
       "          1.9644,  3.9782, -1.3697,  2.7409, -0.8263,  1.3318,  0.4229, -0.2702,\n",
       "          0.5813, -1.9900, -1.2762,  2.3590]),\n",
       " tensor([ 1.,  1.,  0., -1.,  0.,  1.,  0., -0.,  1.,  3., -1.,  2., -0.,  1.,\n",
       "          0., -0.,  0., -1., -1.,  2.]),\n",
       " tensor([ 2.,  2.,  1., -1.,  1.,  2.,  1., -0.,  2.,  4., -1.,  3., -0.,  2.,\n",
       "          1., -0.,  1., -1., -1.,  3.]),\n",
       " tensor([ 1.,  1.,  1., -2.,  1.,  1.,  1., -0.,  2.,  4., -1.,  3., -1.,  1.,\n",
       "          0., -0.,  1., -2., -1.,  2.]),\n",
       " tensor([ 1.,  1.,  0., -2.,  0.,  1.,  0., -1.,  1.,  3., -2.,  2., -1.,  1.,\n",
       "          0., -1.,  0., -2., -2.,  2.]))"
      ]
     },
     "execution_count": 189,
     "metadata": {},
     "output_type": "execute_result"
    }
   ],
   "source": [
    "x = 1. + torch.randn(20) * 2\n",
    "x, torch.trunc(x), torch.ceil(x), torch.round(x), torch.floor(x)"
   ]
  },
  {
   "cell_type": "code",
   "execution_count": 190,
   "id": "e26ce0a7-5732-4dd3-971a-cdc1a28b0fac",
   "metadata": {
    "pycharm": {
     "name": "#%%\n"
    }
   },
   "outputs": [
    {
     "data": {
      "text/plain": [
       "(tensor([1.1739, 1.0302, 0.8378,    nan, 0.7266, 1.1138, 0.9783,    nan, 1.4016,\n",
       "         1.9945,    nan, 1.6556,    nan, 1.1541, 0.6503,    nan, 0.7624,    nan,\n",
       "            nan, 1.5359]),\n",
       " tensor([1.1739, 1.0302, 0.8378,    nan, 0.7266, 1.1138, 0.9783,    nan, 1.4016,\n",
       "         1.9945,    nan, 1.6556,    nan, 1.1541, 0.6503,    nan, 0.7624,    nan,\n",
       "            nan, 1.5359]))"
      ]
     },
     "execution_count": 190,
     "metadata": {},
     "output_type": "execute_result"
    }
   ],
   "source": [
    "torch.sqrt(x), x ** 0.5"
   ]
  },
  {
   "cell_type": "code",
   "execution_count": 191,
   "id": "131ded28-bae2-443d-926d-de997f4be809",
   "metadata": {
    "pycharm": {
     "name": "#%%\n"
    }
   },
   "outputs": [
    {
     "data": {
      "text/plain": [
       "tensor([False, False, False,  True, False, False, False,  True, False, False,\n",
       "         True, False,  True, False, False,  True, False,  True,  True, False])"
      ]
     },
     "execution_count": 191,
     "metadata": {},
     "output_type": "execute_result"
    }
   ],
   "source": [
    "torch.isnan(torch.sqrt(x))"
   ]
  },
  {
   "cell_type": "code",
   "execution_count": 192,
   "id": "8fd60365-8193-4546-ba81-19fc45dad79d",
   "metadata": {
    "pycharm": {
     "name": "#%%\n"
    }
   },
   "outputs": [
    {
     "data": {
      "text/plain": [
       "(tensor([0.8519, 0.9707, 1.1937,    nan, 1.3763, 0.8979, 1.0222,    nan, 0.7135,\n",
       "         0.5014,    nan, 0.6040,    nan, 0.8665, 1.5377,    nan, 1.3116,    nan,\n",
       "            nan, 0.6511]),\n",
       " tensor([0.8519, 0.9707, 1.1937,    nan, 1.3763, 0.8979, 1.0222,    nan, 0.7135,\n",
       "         0.5014,    nan, 0.6040,    nan, 0.8665, 1.5377,    nan, 1.3116,    nan,\n",
       "            nan, 0.6511]))"
      ]
     },
     "execution_count": 192,
     "metadata": {},
     "output_type": "execute_result"
    }
   ],
   "source": [
    "torch.rsqrt(x), x **-0.5"
   ]
  },
  {
   "cell_type": "code",
   "execution_count": 193,
   "id": "ef866854-1cab-452e-87f2-60377dfa79db",
   "metadata": {
    "pycharm": {
     "name": "#%%\n"
    }
   },
   "outputs": [
    {
     "data": {
      "text/plain": [
       "(tensor([ 1.3780,  1.0612,  0.7018, -1.5441,  0.5279,  1.2405,  0.9570, -0.0639,\n",
       "          1.9644,  3.9782, -1.3697,  2.7409, -0.8263,  1.3318,  0.4229, -0.2702,\n",
       "          0.5813, -1.9900, -1.2762,  2.3590]),\n",
       " tensor([ 1.,  1.,  1., -1.,  1.,  1.,  1., -1.,  1.,  1., -1.,  1., -1.,  1.,\n",
       "          1., -1.,  1., -1., -1.,  1.]))"
      ]
     },
     "execution_count": 193,
     "metadata": {},
     "output_type": "execute_result"
    }
   ],
   "source": [
    "x, torch.sign(x)"
   ]
  },
  {
   "cell_type": "code",
   "execution_count": 194,
   "id": "7847efcb-3656-4dfe-8149-a03ed74e4377",
   "metadata": {
    "pycharm": {
     "name": "#%%\n"
    }
   },
   "outputs": [
    {
     "data": {
      "text/plain": [
       "tensor([0.6000+0.8000j, 0.2800-0.9600j, 0.0000+0.0000j, 0.4472+0.8944j])"
      ]
     },
     "execution_count": 194,
     "metadata": {},
     "output_type": "execute_result"
    }
   ],
   "source": [
    "t = torch.tensor([3+4j, 7-24j, 0, 1+2j])\n",
    "torch.sgn(t)"
   ]
  },
  {
   "cell_type": "code",
   "execution_count": 195,
   "id": "71cd36be-ff9a-4010-98c8-80c447aad939",
   "metadata": {
    "pycharm": {
     "name": "#%%\n"
    }
   },
   "outputs": [
    {
     "data": {
      "text/plain": [
       "tensor([False, False, False,  True, False, False, False,  True, False, False,\n",
       "         True, False,  True, False, False,  True, False,  True,  True, False])"
      ]
     },
     "execution_count": 195,
     "metadata": {},
     "output_type": "execute_result"
    }
   ],
   "source": [
    "torch.signbit(x)"
   ]
  },
  {
   "cell_type": "code",
   "execution_count": 196,
   "id": "072d87e6-0441-43a5-b4c7-df1e39be35b3",
   "metadata": {
    "pycharm": {
     "name": "#%%\n"
    }
   },
   "outputs": [
    {
     "data": {
      "text/plain": [
       "(tensor([1.8988e+00, 1.1262e+00, 4.9259e-01, 2.3843e+00, 2.7871e-01, 1.5388e+00,\n",
       "         9.1587e-01, 4.0799e-03, 3.8590e+00, 1.5826e+01, 1.8761e+00, 7.5126e+00,\n",
       "         6.8276e-01, 1.7738e+00, 1.7887e-01, 7.3035e-02, 3.3791e-01, 3.9602e+00,\n",
       "         1.6286e+00, 5.5649e+00]),\n",
       " tensor([1.8988e+00, 1.1262e+00, 4.9259e-01, 2.3843e+00, 2.7871e-01, 1.5388e+00,\n",
       "         9.1587e-01, 4.0799e-03, 3.8590e+00, 1.5826e+01, 1.8761e+00, 7.5126e+00,\n",
       "         6.8276e-01, 1.7738e+00, 1.7887e-01, 7.3035e-02, 3.3791e-01, 3.9602e+00,\n",
       "         1.6286e+00, 5.5649e+00]))"
      ]
     },
     "execution_count": 196,
     "metadata": {},
     "output_type": "execute_result"
    }
   ],
   "source": [
    "torch.square(x), x ** 2"
   ]
  },
  {
   "cell_type": "code",
   "execution_count": 197,
   "id": "b45232b4-c8f7-49d8-989e-41a1a7324283",
   "metadata": {
    "pycharm": {
     "name": "#%%\n"
    }
   },
   "outputs": [
    {
     "data": {
      "text/plain": [
       "tensor([0., 0., 0., 0., 0., 0., 0., 0., 0., 0., 0., 0., 0., 0., 0., 0., 0., 0., 0., 0.])"
      ]
     },
     "execution_count": 197,
     "metadata": {},
     "output_type": "execute_result"
    }
   ],
   "source": [
    "torch.sub(x, x)"
   ]
  },
  {
   "cell_type": "code",
   "execution_count": 198,
   "id": "2b040497-a28e-4820-88e3-8eb4093e0d7d",
   "metadata": {
    "pycharm": {
     "name": "#%%\n"
    }
   },
   "outputs": [
    {
     "data": {
      "text/plain": [
       "(tensor([-63.3331,  -2.9065,  -0.8564,   4.1430,   0.9484,  -4.3811,   1.5370,\n",
       "           1.4457,   1.7665,  -1.4495,  -1.4258,   4.7614,   2.2498,  -5.4750,\n",
       "          -2.4953,  -2.2058,  -2.3736,  -1.7744,  -1.3300,   2.7009]),\n",
       " tensor([-63.3331,  -2.9065,  -0.8564,   4.1430,   0.9484,  -4.3811,   1.5370,\n",
       "           1.4457,   1.7665,  -1.4495,  -1.4258,   4.7614,   2.2498,  -5.4750,\n",
       "          -2.4953,  -2.2058,  -2.3736,  -1.7744,  -1.3300,   2.7009]),\n",
       " tensor([-63.3331,  -2.9065,  -0.8564,   4.1430,   0.9484,  -4.3811,   1.5370,\n",
       "           1.4457,   1.7665,  -1.4495,  -1.4258,   4.7614,   2.2498,  -5.4750,\n",
       "          -2.4953,  -2.2058,  -2.3736,  -1.7744,  -1.3300,   2.7009]),\n",
       " tensor([-63.3331,  -2.9065,  -0.8564,   4.1430,   0.9484,  -4.3811,   1.5370,\n",
       "           1.4457,   1.7665,  -1.4495,  -1.4258,   4.7614,   2.2498,  -5.4750,\n",
       "          -2.4953,  -2.2058,  -2.3736,  -1.7744,  -1.3300,   2.7009]))"
      ]
     },
     "execution_count": 198,
     "metadata": {},
     "output_type": "execute_result"
    }
   ],
   "source": [
    "z = torch.randn_like(x)\n",
    "torch.divide(x, z * x), torch.div(x, z*x), torch.div(x, z*x), torch.true_divide(x, z*x)"
   ]
  },
  {
   "cell_type": "code",
   "execution_count": 199,
   "id": "46ac6ca7-9ec5-4579-8634-961182fb0959",
   "metadata": {
    "pycharm": {
     "name": "#%%\n"
    }
   },
   "outputs": [
    {
     "data": {
      "text/plain": [
       "(tensor([-0.0218, -0.3651, -0.8195, -0.3727,  0.5567, -0.2831,  0.6227, -0.0442,\n",
       "          1.1120, -2.7445,  0.9606,  0.5757, -0.3673, -0.2433, -0.1695,  0.1225,\n",
       "         -0.2449,  1.1215,  0.9595,  0.8734]),\n",
       " tensor([-0.0218, -0.3651, -0.8195, -0.3727,  0.5567, -0.2831,  0.6227, -0.0442,\n",
       "          1.1120, -2.7445,  0.9606,  0.5757, -0.3673, -0.2433, -0.1695,  0.1225,\n",
       "         -0.2449,  1.1215,  0.9595,  0.8734]),\n",
       " tensor([ 1.8626e-09, -2.9802e-08,  0.0000e+00, -2.9802e-08,  0.0000e+00,\n",
       "          2.9802e-08,  0.0000e+00,  0.0000e+00,  0.0000e+00,  2.3842e-07,\n",
       "          0.0000e+00,  0.0000e+00,  2.9802e-08, -4.4703e-08,  0.0000e+00,\n",
       "          7.4506e-09, -2.9802e-08,  0.0000e+00,  0.0000e+00,  5.9605e-08]))"
      ]
     },
     "execution_count": 199,
     "metadata": {},
     "output_type": "execute_result"
    }
   ],
   "source": [
    "y = torch.special.xlogy(x, torch.exp(z))\n",
    "y, x*z, y - x*z"
   ]
  },
  {
   "cell_type": "code",
   "execution_count": 200,
   "id": "1395705b-12b4-41eb-89ac-891c3e69a24d",
   "metadata": {
    "pycharm": {
     "name": "#%%\n"
    }
   },
   "outputs": [
    {
     "data": {
      "text/plain": [
       "tensor([False, False, False, False, False, False, False, False, False, False,\n",
       "        False, False, False, False, False, False, False, False, False, False])"
      ]
     },
     "execution_count": 200,
     "metadata": {},
     "output_type": "execute_result"
    }
   ],
   "source": [
    "torch.isnan(x)"
   ]
  },
  {
   "cell_type": "code",
   "execution_count": 201,
   "metadata": {
    "collapsed": false,
    "pycharm": {
     "name": "#%%\n"
    }
   },
   "outputs": [
    {
     "data": {
      "text/plain": [
       "tensor([ 1.3780,  1.0612,  0.7018, -1.5441,  0.5279,  1.2405,  0.9570, -0.0639,\n",
       "         1.9644,  3.9782, -1.3697,  2.7409, -0.8263,  1.3318,  0.4229, -0.2702,\n",
       "         0.5813, -1.9900, -1.2762,  2.3590])"
      ]
     },
     "execution_count": 201,
     "metadata": {},
     "output_type": "execute_result"
    }
   ],
   "source": [
    "x"
   ]
  },
  {
   "cell_type": "code",
   "execution_count": 202,
   "metadata": {
    "collapsed": false,
    "pycharm": {
     "name": "#%%\n"
    }
   },
   "outputs": [
    {
     "data": {
      "text/plain": [
       "(tensor([[30, 94, 31, 73, 89, 76, 19, 76, 82, 61],\n",
       "         [38, 96, 55, 13, 50, 87, 67, 33,  0, 12],\n",
       "         [78, 80, 18, 14, 22, 64, 31, 12, 79, 97],\n",
       "         [49, 33, 82, 17, 14, 84, 86,  2,  5, 14]]),\n",
       " tensor(97),\n",
       " torch.return_types.max(\n",
       " values=tensor([78, 96, 82, 73, 89, 87, 86, 76, 82, 97]),\n",
       " indices=tensor([2, 1, 3, 0, 0, 1, 3, 0, 0, 2])),\n",
       " torch.return_types.max(\n",
       " values=tensor([94, 96, 97, 86]),\n",
       " indices=tensor([1, 1, 9, 6])))"
      ]
     },
     "execution_count": 202,
     "metadata": {},
     "output_type": "execute_result"
    }
   ],
   "source": [
    "torch.manual_seed(4)\n",
    "x = torch.randint(0, 100, size=(4, 10))\n",
    "x, torch.max(x), torch.max(x, dim=0), torch.max(x, dim=1)"
   ]
  },
  {
   "cell_type": "code",
   "execution_count": 203,
   "metadata": {
    "collapsed": false,
    "pycharm": {
     "name": "#%%\n"
    }
   },
   "outputs": [
    {
     "data": {
      "text/plain": [
       "torch.return_types.max(\n",
       "values=tensor([[94],\n",
       "        [96],\n",
       "        [97],\n",
       "        [86]]),\n",
       "indices=tensor([[1],\n",
       "        [1],\n",
       "        [9],\n",
       "        [6]]))"
      ]
     },
     "execution_count": 203,
     "metadata": {},
     "output_type": "execute_result"
    }
   ],
   "source": [
    "torch.max(x, dim=1, keepdim=True)\n"
   ]
  },
  {
   "cell_type": "code",
   "execution_count": 204,
   "id": "de78736a",
   "metadata": {},
   "outputs": [
    {
     "data": {
      "text/plain": [
       "torch.return_types.max(\n",
       "values=tensor([[78, 96, 82, 73, 89, 87, 86, 76, 82, 97]]),\n",
       "indices=tensor([[2, 1, 3, 0, 0, 1, 3, 0, 0, 2]]))"
      ]
     },
     "execution_count": 204,
     "metadata": {},
     "output_type": "execute_result"
    }
   ],
   "source": [
    "torch.max(x, dim=0, keepdim=True)"
   ]
  },
  {
   "cell_type": "code",
   "execution_count": 205,
   "id": "0eede983",
   "metadata": {},
   "outputs": [
    {
     "data": {
      "text/plain": [
       "(tensor([[92, 41, 98, 54, 87],\n",
       "         [ 8,  0, 19, 18, 17],\n",
       "         [29, 20, 66, 53, 36],\n",
       "         [15, 26, 83,  7, 62]]),\n",
       " tensor([[35, 49, 95, 42, 93],\n",
       "         [44, 57, 49, 61, 87],\n",
       "         [68, 80, 91, 42, 66],\n",
       "         [22, 95, 26, 10, 47]]),\n",
       " tensor([[92, 49, 98, 54, 93],\n",
       "         [44, 57, 49, 61, 87],\n",
       "         [68, 80, 91, 53, 66],\n",
       "         [22, 95, 83, 10, 62]]))"
      ]
     },
     "execution_count": 205,
     "metadata": {},
     "output_type": "execute_result"
    }
   ],
   "source": [
    "y = torch.randint(0, 100, size=(4, 5))\n",
    "z = torch.randint(0, 100, size=(4, 5))\n",
    "\n",
    "\n",
    "y, z, torch.max(y, z)"
   ]
  },
  {
   "cell_type": "code",
   "execution_count": 206,
   "id": "0377a79c",
   "metadata": {},
   "outputs": [
    {
     "data": {
      "text/plain": [
       "tensor([92, 41, 98, 54, 87])"
      ]
     },
     "execution_count": 206,
     "metadata": {},
     "output_type": "execute_result"
    }
   ],
   "source": [
    "torch.max(y, dim=0).values\n"
   ]
  },
  {
   "cell_type": "code",
   "execution_count": 207,
   "id": "4972641b",
   "metadata": {},
   "outputs": [
    {
     "data": {
      "text/plain": [
       "tensor([0, 0, 0, 0, 0])"
      ]
     },
     "execution_count": 207,
     "metadata": {},
     "output_type": "execute_result"
    }
   ],
   "source": [
    "torch.max(y, dim=0).indices"
   ]
  },
  {
   "cell_type": "code",
   "execution_count": 208,
   "id": "40e8a6de",
   "metadata": {},
   "outputs": [
    {
     "data": {
      "text/plain": [
       "tensor([0, 0, 0, 0, 0])"
      ]
     },
     "execution_count": 208,
     "metadata": {},
     "output_type": "execute_result"
    }
   ],
   "source": [
    "torch.argmax(y, dim=0)"
   ]
  },
  {
   "cell_type": "code",
   "execution_count": 209,
   "id": "80f877f4",
   "metadata": {},
   "outputs": [
    {
     "data": {
      "text/plain": [
       "tensor([[92, 49, 98, 54, 93],\n",
       "        [44, 57, 49, 61, 87],\n",
       "        [68, 80, 91, 53, 66],\n",
       "        [22, 95, 83, 10, 62]])"
      ]
     },
     "execution_count": 209,
     "metadata": {},
     "output_type": "execute_result"
    }
   ],
   "source": [
    "torch.maximum(y, z)"
   ]
  },
  {
   "cell_type": "code",
   "execution_count": 210,
   "id": "cd593dbc",
   "metadata": {},
   "outputs": [
    {
     "data": {
      "text/plain": [
       "tensor([[[ 0.2929,  1.2911],\n",
       "         [ 0.6166,  0.2693],\n",
       "         [-0.4581,  0.8754],\n",
       "         [-0.3745,  2.3506]],\n",
       "\n",
       "        [[ 2.7820, -0.6994],\n",
       "         [ 1.7504,  0.1734],\n",
       "         [ 0.4083,  2.5536],\n",
       "         [-2.5738, -2.4772]],\n",
       "\n",
       "        [[-2.8787,  1.9957],\n",
       "         [ 1.6689,  2.2201],\n",
       "         [ 2.8717,  1.7950],\n",
       "         [-0.2311,  1.6832]]], dtype=torch.float64)"
      ]
     },
     "execution_count": 210,
     "metadata": {},
     "output_type": "execute_result"
    }
   ],
   "source": [
    "np.random.seed(0)\n",
    "x = torch.from_numpy(np.random.uniform(-3, 3, size=(3, 4, 2)))\n",
    "x"
   ]
  },
  {
   "cell_type": "code",
   "execution_count": 211,
   "id": "46ba61cc",
   "metadata": {},
   "outputs": [
    {
     "data": {
      "text/plain": [
       "tensor(2.8717, dtype=torch.float64)"
      ]
     },
     "execution_count": 211,
     "metadata": {},
     "output_type": "execute_result"
    }
   ],
   "source": [
    "torch.amax(x)"
   ]
  },
  {
   "cell_type": "code",
   "execution_count": 212,
   "id": "cc92fa8c",
   "metadata": {},
   "outputs": [
    {
     "data": {
      "text/plain": [
       "tensor([[0.6166, 2.3506],\n",
       "        [2.7820, 2.5536],\n",
       "        [2.8717, 2.2201]], dtype=torch.float64)"
      ]
     },
     "execution_count": 212,
     "metadata": {},
     "output_type": "execute_result"
    }
   ],
   "source": [
    "torch.amax(x, dim=1)"
   ]
  },
  {
   "cell_type": "code",
   "execution_count": 213,
   "id": "abd07bf6",
   "metadata": {},
   "outputs": [
    {
     "data": {
      "text/plain": [
       "tensor([[[ 2.7820,  1.9957],\n",
       "         [ 1.7504,  2.2201],\n",
       "         [ 2.8717,  2.5536],\n",
       "         [-0.2311,  2.3506]]], dtype=torch.float64)"
      ]
     },
     "execution_count": 213,
     "metadata": {},
     "output_type": "execute_result"
    }
   ],
   "source": [
    "torch.amax(x, dim=0, keepdim=True)"
   ]
  },
  {
   "cell_type": "code",
   "execution_count": 214,
   "id": "fc381dc5",
   "metadata": {},
   "outputs": [
    {
     "data": {
      "text/plain": [
       "tensor([[[1, 2],\n",
       "         [1, 2],\n",
       "         [2, 1],\n",
       "         [2, 0]]])"
      ]
     },
     "execution_count": 214,
     "metadata": {},
     "output_type": "execute_result"
    }
   ],
   "source": [
    "torch.argmax(x, dim=0, keepdim=True)"
   ]
  },
  {
   "cell_type": "code",
   "execution_count": 215,
   "id": "73097036",
   "metadata": {},
   "outputs": [
    {
     "data": {
      "text/plain": [
       "tensor([2.8717, 2.5536], dtype=torch.float64)"
      ]
     },
     "execution_count": 215,
     "metadata": {},
     "output_type": "execute_result"
    }
   ],
   "source": [
    "torch.amax(x, dim=(0, 1))"
   ]
  },
  {
   "cell_type": "code",
   "execution_count": 216,
   "id": "4da86753",
   "metadata": {},
   "outputs": [
    {
     "data": {
      "text/plain": [
       "tensor([2.8717, 2.5536], dtype=torch.float64)"
      ]
     },
     "execution_count": 216,
     "metadata": {},
     "output_type": "execute_result"
    }
   ],
   "source": [
    "torch.amax(x, dim=(1, 0))\n"
   ]
  },
  {
   "cell_type": "code",
   "execution_count": 217,
   "id": "64c671b0",
   "metadata": {},
   "outputs": [
    {
     "data": {
      "text/plain": [
       "tensor([[0.6166, 2.3506],\n",
       "        [2.7820, 2.5536],\n",
       "        [2.8717, 2.2201]], dtype=torch.float64)"
      ]
     },
     "execution_count": 217,
     "metadata": {},
     "output_type": "execute_result"
    }
   ],
   "source": [
    "torch.amax(x, dim=(1, ))"
   ]
  },
  {
   "cell_type": "code",
   "execution_count": 218,
   "id": "4e035e78",
   "metadata": {},
   "outputs": [
    {
     "data": {
      "text/plain": [
       "tensor([[[2.8717, 2.5536]]], dtype=torch.float64)"
      ]
     },
     "execution_count": 218,
     "metadata": {},
     "output_type": "execute_result"
    }
   ],
   "source": [
    "torch.amax(x, dim=(1, 0), keepdim=True)"
   ]
  },
  {
   "cell_type": "code",
   "execution_count": 219,
   "id": "29a261ad",
   "metadata": {},
   "outputs": [
    {
     "data": {
      "text/plain": [
       "(tensor(16), tensor(-2.8787, dtype=torch.float64))"
      ]
     },
     "execution_count": 219,
     "metadata": {},
     "output_type": "execute_result"
    }
   ],
   "source": [
    "torch.argmin(x), torch.min(x)"
   ]
  },
  {
   "cell_type": "code",
   "execution_count": 220,
   "id": "965bc2ca",
   "metadata": {},
   "outputs": [
    {
     "data": {
      "text/plain": [
       "tensor([-2.8787, -2.4772], dtype=torch.float64)"
      ]
     },
     "execution_count": 220,
     "metadata": {},
     "output_type": "execute_result"
    }
   ],
   "source": [
    "torch.amin(x, dim=(0, 1))"
   ]
  },
  {
   "cell_type": "code",
   "execution_count": 221,
   "id": "bf5d7958",
   "metadata": {},
   "outputs": [
    {
     "data": {
      "text/plain": [
       "torch.return_types.min(\n",
       "values=tensor([[-0.4581,  0.2693],\n",
       "        [-2.5738, -2.4772],\n",
       "        [-2.8787,  1.6832]], dtype=torch.float64),\n",
       "indices=tensor([[2, 1],\n",
       "        [3, 3],\n",
       "        [0, 3]]))"
      ]
     },
     "execution_count": 221,
     "metadata": {},
     "output_type": "execute_result"
    }
   ],
   "source": [
    "torch.min(x, dim=1)"
   ]
  },
  {
   "cell_type": "code",
   "execution_count": 222,
   "id": "1f4998ad",
   "metadata": {},
   "outputs": [
    {
     "data": {
      "text/plain": [
       "tensor([[[ 0.2929,  1.2911],\n",
       "         [ 0.6166,  0.2693],\n",
       "         [-0.4581,  0.8754],\n",
       "         [-0.3745,  2.3506]],\n",
       "\n",
       "        [[ 2.7820, -0.6994],\n",
       "         [ 1.7504,  0.1734],\n",
       "         [ 0.4083,  2.5536],\n",
       "         [-2.5738, -2.4772]],\n",
       "\n",
       "        [[-2.8787,  1.9957],\n",
       "         [ 1.6689,  2.2201],\n",
       "         [ 2.8717,  1.7950],\n",
       "         [-0.2311,  1.6832]]], dtype=torch.float64)"
      ]
     },
     "execution_count": 222,
     "metadata": {},
     "output_type": "execute_result"
    }
   ],
   "source": [
    "x"
   ]
  },
  {
   "cell_type": "code",
   "execution_count": 223,
   "id": "5e191142",
   "metadata": {},
   "outputs": [
    {
     "data": {
      "text/plain": [
       "torch.return_types.aminmax(\n",
       "min=tensor(-2.8787, dtype=torch.float64),\n",
       "max=tensor(2.8717, dtype=torch.float64))"
      ]
     },
     "execution_count": 223,
     "metadata": {},
     "output_type": "execute_result"
    }
   ],
   "source": [
    "torch.aminmax(x,)"
   ]
  },
  {
   "cell_type": "code",
   "execution_count": 224,
   "id": "335a090e",
   "metadata": {},
   "outputs": [
    {
     "data": {
      "text/plain": [
       "torch.return_types.aminmax(\n",
       "min=tensor([[-0.4581,  0.2693],\n",
       "        [-2.5738, -2.4772],\n",
       "        [-2.8787,  1.6832]], dtype=torch.float64),\n",
       "max=tensor([[0.6166, 2.3506],\n",
       "        [2.7820, 2.5536],\n",
       "        [2.8717, 2.2201]], dtype=torch.float64))"
      ]
     },
     "execution_count": 224,
     "metadata": {},
     "output_type": "execute_result"
    }
   ],
   "source": [
    "torch.aminmax(x, dim=1)"
   ]
  },
  {
   "cell_type": "code",
   "execution_count": 225,
   "id": "d7ff2e4f",
   "metadata": {},
   "outputs": [
    {
     "data": {
      "text/plain": [
       "(tensor([[0.8819, 0.9886, 0.9168, 0.7289, 0.8367],\n",
       "         [0.8561, 0.9452, 0.9134, 0.7442, 0.7085],\n",
       "         [0.8945, 0.9232, 0.9360, 0.9533, 0.9826]]),\n",
       " tensor([[ True,  True,  True, False,  True],\n",
       "         [ True,  True,  True,  True,  True],\n",
       "         [ True,  True,  True,  True,  True]]),\n",
       " tensor([False,  True,  True]),\n",
       " tensor([True, True, True]))"
      ]
     },
     "execution_count": 225,
     "metadata": {},
     "output_type": "execute_result"
    }
   ],
   "source": [
    "p = torch.empty(3, 5).uniform_(0.7, 1)\n",
    "x = torch.bernoulli(p).type(torch.bool)\n",
    "p, x, torch.all(x, dim=1), torch.any(x, dim=1)"
   ]
  },
  {
   "cell_type": "code",
   "execution_count": 226,
   "id": "66c7748b",
   "metadata": {},
   "outputs": [
    {
     "data": {
      "text/plain": [
       "(tensor([1., 2.]), tensor([3., 4.]), tensor(2.8284), tensor(2.8284))"
      ]
     },
     "execution_count": 226,
     "metadata": {},
     "output_type": "execute_result"
    }
   ],
   "source": [
    "x = torch.tensor([1., 2.])\n",
    "y = torch.tensor([3, 4.])\n",
    "x, y, torch.dist(y, x, 2), torch.sum(torch.sqrt(y-x))"
   ]
  },
  {
   "cell_type": "code",
   "execution_count": 227,
   "id": "c3edd510",
   "metadata": {},
   "outputs": [
    {
     "data": {
      "text/plain": [
       "tensor([0.1258, 0.8880, 1.4590])"
      ]
     },
     "execution_count": 227,
     "metadata": {},
     "output_type": "execute_result"
    }
   ],
   "source": [
    "y = torch.randn(3, 3)\n",
    "torch.logsumexp(y, 1)"
   ]
  },
  {
   "cell_type": "code",
   "execution_count": 228,
   "id": "51c8e7ce",
   "metadata": {},
   "outputs": [
    {
     "data": {
      "text/plain": [
       "(tensor([[0., 1., 2., 3., 4.],\n",
       "         [5., 6., 7., 8., 9.]]),\n",
       " tensor(4.5000),\n",
       " tensor(4.),\n",
       " tensor([2., 7.]),\n",
       " torch.return_types.median(\n",
       " values=tensor([2., 7.]),\n",
       " indices=tensor([2, 2])))"
      ]
     },
     "execution_count": 228,
     "metadata": {},
     "output_type": "execute_result"
    }
   ],
   "source": [
    "x = torch.arange(0, 10).to(dtype=torch.float32).reshape((2, 5))\n",
    "x, torch.mean(x), torch.median(x), torch.mean(x, dim=1), torch.median(x, dim=1)"
   ]
  },
  {
   "cell_type": "code",
   "execution_count": 229,
   "id": "f6e8aced",
   "metadata": {},
   "outputs": [
    {
     "data": {
      "text/plain": [
       "(tensor([2, 7, 2, 4, 6]),\n",
       " tensor([[-3,  2, -3, -1,  1],\n",
       "         [ 3,  8,  3,  5,  7],\n",
       "         [-3,  2, -3, -1,  1],\n",
       "         [ 6, 11,  6,  8, 10]]),\n",
       " torch.return_types.mode(\n",
       " values=tensor([-3,  2, -3, -1,  1]),\n",
       " indices=tensor([2, 2, 2, 2, 2])),\n",
       " torch.return_types.mode(\n",
       " values=tensor([-3,  3, -3,  6]),\n",
       " indices=tensor([2, 2, 2, 2])))"
      ]
     },
     "execution_count": 229,
     "metadata": {},
     "output_type": "execute_result"
    }
   ],
   "source": [
    "a = torch.randint(10, (5,))\n",
    "b = a + (torch.randn(4, 1) * 5).long()\n",
    "a, b, torch.mode(b, dim=0),torch.mode(b, dim=1)"
   ]
  },
  {
   "cell_type": "code",
   "execution_count": 230,
   "id": "0142a5f8",
   "metadata": {},
   "outputs": [
    {
     "data": {
      "text/plain": [
       "tensor(23.6854)"
      ]
     },
     "execution_count": 230,
     "metadata": {},
     "output_type": "execute_result"
    }
   ],
   "source": [
    "torch.norm(b.to(dtype=torch.float32))"
   ]
  },
  {
   "cell_type": "code",
   "execution_count": 231,
   "id": "9dae3afb",
   "metadata": {},
   "outputs": [
    {
     "data": {
      "text/plain": [
       "(tensor(1.), tensor(nan))"
      ]
     },
     "execution_count": 231,
     "metadata": {},
     "output_type": "execute_result"
    }
   ],
   "source": [
    "torch.nansum(torch.tensor([1., float(\"nan\")])), torch.sum(torch.tensor([1., float(\"nan\")]))"
   ]
  },
  {
   "cell_type": "code",
   "execution_count": 232,
   "id": "4a48f771",
   "metadata": {},
   "outputs": [
    {
     "data": {
      "text/plain": [
       "(tensor([[1, 2],\n",
       "         [3, 4]]),\n",
       " tensor(24),\n",
       " tensor([ 2, 12]))"
      ]
     },
     "execution_count": 232,
     "metadata": {},
     "output_type": "execute_result"
    }
   ],
   "source": [
    "a = torch.tensor([[1, 2], [3, 4]])\n",
    "a, torch.prod(a), torch.prod(a, dim=1)"
   ]
  },
  {
   "cell_type": "code",
   "execution_count": 233,
   "id": "4022537c",
   "metadata": {},
   "outputs": [
    {
     "data": {
      "text/plain": [
       "(tensor([[-1.1258, -1.1524, -0.2506, -0.4339,  0.5988],\n",
       "         [-1.5551, -0.3414,  1.8530,  0.4681, -0.1577],\n",
       "         [ 1.4437,  0.2660,  1.3894,  1.5863,  0.9463],\n",
       "         [-0.8437,  0.9318,  1.2590,  2.0050,  0.0537]]),)"
      ]
     },
     "execution_count": 233,
     "metadata": {},
     "output_type": "execute_result"
    }
   ],
   "source": [
    "torch.manual_seed(0)\n",
    "x = torch.randn((4, 5))\n",
    "x, "
   ]
  },
  {
   "cell_type": "code",
   "execution_count": 234,
   "id": "b20c9a86",
   "metadata": {},
   "outputs": [
    {
     "data": {
      "text/plain": [
       "tensor([-1.5551, -1.1524, -1.1258, -0.8437, -0.4339, -0.3414, -0.2506, -0.1577,\n",
       "         0.0537,  0.2660,  0.4681,  0.5988,  0.9318,  0.9463,  1.2590,  1.3894,\n",
       "         1.4437,  1.5863,  1.8530,  2.0050])"
      ]
     },
     "execution_count": 234,
     "metadata": {},
     "output_type": "execute_result"
    }
   ],
   "source": [
    "torch.sort(x.flatten()).values"
   ]
  },
  {
   "cell_type": "code",
   "execution_count": 235,
   "id": "08f3e7c2",
   "metadata": {},
   "outputs": [
    {
     "data": {
      "text/plain": [
       "tensor([0.3671])"
      ]
     },
     "execution_count": 235,
     "metadata": {},
     "output_type": "execute_result"
    }
   ],
   "source": [
    "torch.quantile(x, torch.tensor([0.5]))"
   ]
  },
  {
   "cell_type": "code",
   "execution_count": 236,
   "id": "fa4f14da",
   "metadata": {},
   "outputs": [
    {
     "data": {
      "text/plain": [
       "tensor([ 0.3671, -0.3645])"
      ]
     },
     "execution_count": 236,
     "metadata": {},
     "output_type": "execute_result"
    }
   ],
   "source": [
    "torch.quantile(x, torch.tensor([0.5, 0.25]))"
   ]
  },
  {
   "cell_type": "code",
   "execution_count": 237,
   "id": "d8ea3368",
   "metadata": {},
   "outputs": [
    {
     "data": {
      "text/plain": [
       "tensor([[-0.4339, -0.1577,  1.3894,  0.9318]])"
      ]
     },
     "execution_count": 237,
     "metadata": {},
     "output_type": "execute_result"
    }
   ],
   "source": [
    "torch.quantile(x, torch.tensor([0.5]), dim=1)"
   ]
  },
  {
   "cell_type": "code",
   "execution_count": 238,
   "id": "5a305dfd",
   "metadata": {},
   "outputs": [
    {
     "data": {
      "text/plain": [
       "tensor([[-0.4339, -0.1577,  1.3894,  0.9318]])"
      ]
     },
     "execution_count": 238,
     "metadata": {},
     "output_type": "execute_result"
    }
   ],
   "source": [
    "torch.quantile(x, torch.tensor([0.5]), interpolation=\"linear\", dim=1)\n"
   ]
  },
  {
   "cell_type": "code",
   "execution_count": 239,
   "id": "fb912f29",
   "metadata": {},
   "outputs": [
    {
     "data": {
      "text/plain": [
       "tensor([[-0.4339, -0.1577,  1.3894,  0.9318]])"
      ]
     },
     "execution_count": 239,
     "metadata": {},
     "output_type": "execute_result"
    }
   ],
   "source": [
    "torch.quantile(x, torch.tensor([0.5]), interpolation=\"lower\", dim=1)\n"
   ]
  },
  {
   "cell_type": "code",
   "execution_count": 240,
   "id": "4418edff",
   "metadata": {},
   "outputs": [
    {
     "data": {
      "text/plain": [
       "tensor([[-0.4339, -0.1577,  1.3894,  0.9318]])"
      ]
     },
     "execution_count": 240,
     "metadata": {},
     "output_type": "execute_result"
    }
   ],
   "source": [
    "torch.quantile(x, torch.tensor([0.5]), interpolation=\"higher\", dim=1)\n"
   ]
  },
  {
   "cell_type": "code",
   "execution_count": 241,
   "id": "a8da68dc",
   "metadata": {},
   "outputs": [
    {
     "data": {
      "text/plain": [
       "tensor([[-0.4339, -0.1577,  1.3894,  0.9318]])"
      ]
     },
     "execution_count": 241,
     "metadata": {},
     "output_type": "execute_result"
    }
   ],
   "source": [
    "torch.quantile(x, torch.tensor([0.5]), interpolation=\"nearest\", dim=1)\n"
   ]
  },
  {
   "cell_type": "code",
   "execution_count": 242,
   "id": "03b2dbd2",
   "metadata": {},
   "outputs": [
    {
     "data": {
      "text/plain": [
       "tensor([[-0.4339, -0.1577,  1.3894,  0.9318]])"
      ]
     },
     "execution_count": 242,
     "metadata": {},
     "output_type": "execute_result"
    }
   ],
   "source": [
    "torch.quantile(x, torch.tensor([0.5]), interpolation=\"midpoint\", dim=1)\n"
   ]
  },
  {
   "cell_type": "code",
   "execution_count": 243,
   "id": "332e6d67",
   "metadata": {},
   "outputs": [
    {
     "data": {
      "text/plain": [
       "(tensor([[-0.8920, -1.5091,  0.3704,  1.4565,  0.9398],\n",
       "         [ 0.7748,  0.1919,  1.2638, -1.2904, -0.7911]]),\n",
       " tensor([0.3656, 0.1490]))"
      ]
     },
     "execution_count": 243,
     "metadata": {},
     "output_type": "execute_result"
    }
   ],
   "source": [
    "x = torch.randn((2, 5))\n",
    "x, torch.sum(x, dim=1)\n"
   ]
  },
  {
   "cell_type": "code",
   "execution_count": 244,
   "id": "48491b8b",
   "metadata": {},
   "outputs": [
    {
     "data": {
      "text/plain": [
       "(tensor([[3, 2, 0, 3, 3, 2, 3, 2, 3, 0],\n",
       "         [2, 0, 0, 0, 1, 1, 2, 0, 0, 1],\n",
       "         [3, 0, 1, 2, 2, 3, 0, 1, 1, 3],\n",
       "         [1, 1, 3, 2, 3, 3, 2, 2, 3, 0]]),\n",
       " tensor([[1, 1, 3, 2, 3, 3, 2, 2, 3, 0],\n",
       "         [2, 0, 0, 0, 1, 1, 2, 0, 0, 1],\n",
       "         [3, 0, 1, 2, 2, 3, 0, 1, 1, 3],\n",
       "         [3, 2, 0, 3, 3, 2, 3, 2, 3, 0]]),\n",
       " tensor([[0, 0, 2, 2, 2, 3, 3, 3, 3, 3],\n",
       "         [0, 1, 0, 0, 1, 0, 0, 1, 2, 2],\n",
       "         [1, 3, 0, 1, 3, 1, 2, 2, 0, 3],\n",
       "         [3, 0, 1, 2, 3, 3, 2, 3, 2, 1]]))"
      ]
     },
     "execution_count": 244,
     "metadata": {},
     "output_type": "execute_result"
    }
   ],
   "source": [
    "x = torch.randint(0, 4, (4, 10))\n",
    "x, torch.unique(x, dim=0), torch.unique(x, dim=1, sorted=False)"
   ]
  },
  {
   "cell_type": "code",
   "execution_count": 245,
   "id": "f3742831",
   "metadata": {},
   "outputs": [
    {
     "data": {
      "text/plain": [
       "(tensor([1.4333, 0.6778, 1.3778, 1.1111]),\n",
       " tensor([2.1000, 0.7000, 1.6000, 2.0000]))"
      ]
     },
     "execution_count": 245,
     "metadata": {},
     "output_type": "execute_result"
    }
   ],
   "source": [
    "torch.var_mean(x.to(torch.float32), dim=1)"
   ]
  },
  {
   "cell_type": "code",
   "execution_count": 246,
   "id": "92a88826",
   "metadata": {},
   "outputs": [
    {
     "data": {
      "text/plain": [
       "True"
      ]
     },
     "execution_count": 246,
     "metadata": {},
     "output_type": "execute_result"
    }
   ],
   "source": [
    "torch.allclose(torch.tensor([10000., 1e-08]), torch.tensor([10000.1, 1e-09]))"
   ]
  },
  {
   "cell_type": "code",
   "execution_count": 247,
   "id": "f9db76c9",
   "metadata": {},
   "outputs": [
    {
     "data": {
      "text/plain": [
       "(tensor([[-1.1258, -1.1524, -0.2506, -0.4339,  0.5988],\n",
       "         [-1.5551, -0.3414,  1.8530,  0.4681, -0.1577],\n",
       "         [ 1.4437,  0.2660,  1.3894,  1.5863,  0.9463],\n",
       "         [-0.8437,  0.9318,  1.2590,  2.0050,  0.0537]]),\n",
       " torch.return_types.sort(\n",
       " values=tensor([[-1.1524, -1.1258, -0.4339, -0.2506,  0.5988],\n",
       "         [-1.5551, -0.3414, -0.1577,  0.4681,  1.8530],\n",
       "         [ 0.2660,  0.9463,  1.3894,  1.4437,  1.5863],\n",
       "         [-0.8437,  0.0537,  0.9318,  1.2590,  2.0050]]),\n",
       " indices=tensor([[1, 0, 3, 2, 4],\n",
       "         [0, 1, 4, 3, 2],\n",
       "         [1, 4, 2, 0, 3],\n",
       "         [0, 4, 1, 2, 3]])),\n",
       " torch.return_types.sort(\n",
       " values=tensor([[-1.1524, -1.1258, -0.4339, -0.2506,  0.5988],\n",
       "         [-1.5551, -0.3414, -0.1577,  0.4681,  1.8530],\n",
       "         [ 0.2660,  0.9463,  1.3894,  1.4437,  1.5863],\n",
       "         [-0.8437,  0.0537,  0.9318,  1.2590,  2.0050]]),\n",
       " indices=tensor([[1, 0, 3, 2, 4],\n",
       "         [0, 1, 4, 3, 2],\n",
       "         [1, 4, 2, 0, 3],\n",
       "         [0, 4, 1, 2, 3]])),\n",
       " torch.return_types.sort(\n",
       " values=tensor([[-1.5551, -1.1524, -0.2506, -0.4339, -0.1577],\n",
       "         [-1.1258, -0.3414,  1.2590,  0.4681,  0.0537],\n",
       "         [-0.8437,  0.2660,  1.3894,  1.5863,  0.5988],\n",
       "         [ 1.4437,  0.9318,  1.8530,  2.0050,  0.9463]]),\n",
       " indices=tensor([[1, 0, 0, 0, 1],\n",
       "         [0, 1, 3, 1, 3],\n",
       "         [3, 2, 2, 2, 0],\n",
       "         [2, 3, 1, 3, 2]])))"
      ]
     },
     "execution_count": 247,
     "metadata": {},
     "output_type": "execute_result"
    }
   ],
   "source": [
    "torch.manual_seed(0)\n",
    "x = torch.randn((4, 5))\n",
    "x, torch.sort(x), torch.sort(x, dim=1), torch.sort(x, dim=0)"
   ]
  },
  {
   "cell_type": "code",
   "execution_count": 248,
   "id": "4f11a400",
   "metadata": {},
   "outputs": [
    {
     "data": {
      "text/plain": [
       "(tensor([[-1.5551, -1.1524, -0.2506, -0.4339, -0.1577],\n",
       "         [-1.1258, -0.3414,  1.2590,  0.4681,  0.0537],\n",
       "         [-0.8437,  0.2660,  1.3894,  1.5863,  0.5988],\n",
       "         [ 1.4437,  0.9318,  1.8530,  2.0050,  0.9463]]),\n",
       " tensor([[1, 0, 0, 0, 1],\n",
       "         [0, 1, 3, 1, 3],\n",
       "         [3, 2, 2, 2, 0],\n",
       "         [2, 3, 1, 3, 2]]))"
      ]
     },
     "execution_count": 248,
     "metadata": {},
     "output_type": "execute_result"
    }
   ],
   "source": [
    "s, indexes = torch.sort(x, dim=0)\n",
    "s, indexes"
   ]
  },
  {
   "cell_type": "code",
   "execution_count": 249,
   "id": "da02bcab",
   "metadata": {},
   "outputs": [
    {
     "data": {
      "text/plain": [
       "tensor([[1, 0, 0, 0, 1],\n",
       "        [0, 1, 3, 1, 3],\n",
       "        [3, 2, 2, 2, 0],\n",
       "        [2, 3, 1, 3, 2]])"
      ]
     },
     "execution_count": 249,
     "metadata": {},
     "output_type": "execute_result"
    }
   ],
   "source": [
    "torch.argsort(x, dim=0)"
   ]
  },
  {
   "cell_type": "code",
   "execution_count": 250,
   "id": "979ab70a",
   "metadata": {},
   "outputs": [
    {
     "data": {
      "text/plain": [
       "(tensor([[-0.8920, -1.5091,  0.3704],\n",
       "         [ 1.4565,  0.9398,  0.7748],\n",
       "         [ 0.1919,  1.2638, -1.2904]]),\n",
       " tensor([[-0.8920, -1.5091,  0.3704],\n",
       "         [ 1.4565,  0.9398,  0.7748],\n",
       "         [ 0.1919,  1.2638, -1.2904]]),\n",
       " tensor([[-4.4600, -7.5455,  1.8520],\n",
       "         [ 7.2825,  4.6990,  3.8742],\n",
       "         [ 0.9593,  6.3190, -6.4522]]))"
      ]
     },
     "execution_count": 250,
     "metadata": {},
     "output_type": "execute_result"
    }
   ],
   "source": [
    "x = torch.randn((3, 3))\n",
    "y = x * 1.0\n",
    "z = x * 5.0\n",
    "\n",
    "x, y, z"
   ]
  },
  {
   "cell_type": "code",
   "execution_count": 251,
   "id": "e450e78e",
   "metadata": {},
   "outputs": [
    {
     "data": {
      "text/plain": [
       "(tensor([[True, True, True],\n",
       "         [True, True, True],\n",
       "         [True, True, True]]),\n",
       " tensor([[False, False, False],\n",
       "         [False, False, False],\n",
       "         [False, False, False]]))"
      ]
     },
     "execution_count": 251,
     "metadata": {},
     "output_type": "execute_result"
    }
   ],
   "source": [
    "torch.eq(x, y), torch.eq(x, z)"
   ]
  },
  {
   "cell_type": "code",
   "execution_count": 252,
   "id": "b32ac2d4",
   "metadata": {},
   "outputs": [
    {
     "data": {
      "text/plain": [
       "(tensor([[False, False, False],\n",
       "         [False, False, False],\n",
       "         [False, False, False]]),\n",
       " tensor([[False, False,  True],\n",
       "         [ True,  True,  True],\n",
       "         [ True,  True, False]]))"
      ]
     },
     "execution_count": 252,
     "metadata": {},
     "output_type": "execute_result"
    }
   ],
   "source": [
    "torch.gt(x, y), torch.gt(z, x)"
   ]
  },
  {
   "cell_type": "code",
   "execution_count": 253,
   "id": "77bfc7e3",
   "metadata": {},
   "outputs": [
    {
     "data": {
      "text/plain": [
       "tensor([-0.7911, -0.0209, -0.7185])"
      ]
     },
     "execution_count": 253,
     "metadata": {},
     "output_type": "execute_result"
    }
   ],
   "source": [
    "w = torch.randn(3)\n",
    "w"
   ]
  },
  {
   "cell_type": "code",
   "execution_count": 254,
   "id": "baff1cae",
   "metadata": {},
   "outputs": [
    {
     "data": {
      "text/plain": [
       "(tensor([[-4.4600, -7.5455,  1.8520],\n",
       "         [ 7.2825,  4.6990,  3.8742],\n",
       "         [ 0.9593,  6.3190, -6.4522]]),\n",
       " tensor([-0.7911, -0.0209, -0.7185]),\n",
       " tensor([[False, False,  True],\n",
       "         [ True,  True,  True],\n",
       "         [ True,  True, False]]))"
      ]
     },
     "execution_count": 254,
     "metadata": {},
     "output_type": "execute_result"
    }
   ],
   "source": [
    "z, w, torch.greater(z, w)"
   ]
  },
  {
   "cell_type": "code",
   "execution_count": 255,
   "id": "1ebfb6a1",
   "metadata": {},
   "outputs": [
    {
     "data": {
      "text/plain": [
       "(tensor([[-4.4600, -7.5455,  1.8520],\n",
       "         [ 7.2825,  4.6990,  3.8742],\n",
       "         [ 0.9593,  6.3190, -6.4522]]),\n",
       " tensor([-0.7911, -0.0209, -0.7185]),\n",
       " tensor([[ True,  True, False],\n",
       "         [False, False, False],\n",
       "         [False, False,  True]]))"
      ]
     },
     "execution_count": 255,
     "metadata": {},
     "output_type": "execute_result"
    }
   ],
   "source": [
    "z, w, torch.less(z, w)"
   ]
  },
  {
   "cell_type": "code",
   "execution_count": 256,
   "id": "f1e3999c",
   "metadata": {},
   "outputs": [
    {
     "data": {
      "text/plain": [
       "(tensor([[-4.4600, -7.5455,  1.8520],\n",
       "         [ 7.2825,  4.6990,  3.8742],\n",
       "         [ 0.9593,  6.3190, -6.4522]]),\n",
       " tensor([-0.7911, -0.0209, -0.7185]),\n",
       " tensor([[False, False,  True],\n",
       "         [ True,  True,  True],\n",
       "         [ True,  True, False]]))"
      ]
     },
     "execution_count": 256,
     "metadata": {},
     "output_type": "execute_result"
    }
   ],
   "source": [
    "z, w, torch.greater_equal(z, w)"
   ]
  },
  {
   "cell_type": "code",
   "execution_count": 257,
   "id": "0b4ce564",
   "metadata": {},
   "outputs": [
    {
     "data": {
      "text/plain": [
       "(tensor([[-4.4600, -7.5455,  1.8520],\n",
       "         [ 7.2825,  4.6990,  3.8742],\n",
       "         [ 0.9593,  6.3190, -6.4522]]),\n",
       " tensor([[ 0.5186, -1.3125,  0.1920]]),\n",
       " tensor([[False, False,  True],\n",
       "         [ True,  True,  True],\n",
       "         [ True,  True, False]]))"
      ]
     },
     "execution_count": 257,
     "metadata": {},
     "output_type": "execute_result"
    }
   ],
   "source": [
    "u = torch.randn((1, 3))\n",
    "z, u, torch.greater(z, u)"
   ]
  },
  {
   "cell_type": "code",
   "execution_count": 258,
   "id": "dd2eb55e",
   "metadata": {},
   "outputs": [
    {
     "data": {
      "text/plain": [
       "(tensor([[-4.4600, -7.5455,  1.8520],\n",
       "         [ 7.2825,  4.6990,  3.8742],\n",
       "         [ 0.9593,  6.3190, -6.4522]]),\n",
       " tensor([[ 0.5428],\n",
       "         [-2.2188],\n",
       "         [ 0.2590]]),\n",
       " tensor([[False, False,  True],\n",
       "         [ True,  True,  True],\n",
       "         [ True,  True, False]]))"
      ]
     },
     "execution_count": 258,
     "metadata": {},
     "output_type": "execute_result"
    }
   ],
   "source": [
    "u = torch.randn((3, 1))\n",
    "z, u, torch.greater(z, u)"
   ]
  },
  {
   "cell_type": "code",
   "execution_count": 259,
   "id": "6ca3af1d",
   "metadata": {},
   "outputs": [
    {
     "data": {
      "text/plain": [
       "(tensor([[-4.4600, -7.5455,  1.8520],\n",
       "         [ 7.2825,  4.6990,  3.8742],\n",
       "         [ 0.9593,  6.3190, -6.4522]]),\n",
       " tensor([[-1.0297],\n",
       "         [-0.5008],\n",
       "         [ 0.2734]]),\n",
       " tensor([[ True,  True, False],\n",
       "         [False, False, False],\n",
       "         [False, False,  True]]))"
      ]
     },
     "execution_count": 259,
     "metadata": {},
     "output_type": "execute_result"
    }
   ],
   "source": [
    "u = torch.randn((3, 1))\n",
    "z, u, torch.le(z, u)"
   ]
  },
  {
   "cell_type": "code",
   "execution_count": 260,
   "id": "ca9b7a2e",
   "metadata": {},
   "outputs": [
    {
     "data": {
      "text/plain": [
       "(tensor([[-4.4600, -7.5455,  1.8520],\n",
       "         [ 7.2825,  4.6990,  3.8742],\n",
       "         [ 0.9593,  6.3190, -6.4522]]),\n",
       " tensor([[-1.0297],\n",
       "         [-0.5008],\n",
       "         [ 0.2734]]),\n",
       " tensor([[-1.0297, -1.0297,  1.8520],\n",
       "         [ 7.2825,  4.6990,  3.8742],\n",
       "         [ 0.9593,  6.3190,  0.2734]]))"
      ]
     },
     "execution_count": 260,
     "metadata": {},
     "output_type": "execute_result"
    }
   ],
   "source": [
    "z, u, torch.maximum(u, z)"
   ]
  },
  {
   "cell_type": "code",
   "execution_count": 261,
   "id": "742fbf92",
   "metadata": {},
   "outputs": [
    {
     "data": {
      "text/plain": [
       "(tensor([[False, False, False],\n",
       "         [False, False, False],\n",
       "         [False, False, False]]),\n",
       " False)"
      ]
     },
     "execution_count": 261,
     "metadata": {},
     "output_type": "execute_result"
    }
   ],
   "source": [
    "torch.eq(z, u), torch.equal(z, u)"
   ]
  },
  {
   "cell_type": "code",
   "execution_count": 262,
   "id": "f5d9a9ad",
   "metadata": {},
   "outputs": [
    {
     "data": {
      "text/plain": [
       "(tensor([[-1.0297],\n",
       "         [-0.5008],\n",
       "         [ 0.2734]]),\n",
       " tensor([[False],\n",
       "         [ True],\n",
       "         [False]]))"
      ]
     },
     "execution_count": 262,
     "metadata": {},
     "output_type": "execute_result"
    }
   ],
   "source": [
    "u, torch.isclose(u, u + torch.tensor([[1], [1.e-10], [2]]))"
   ]
  },
  {
   "cell_type": "code",
   "execution_count": 263,
   "id": "cbef61a0",
   "metadata": {},
   "outputs": [
    {
     "data": {
      "text/plain": [
       "tensor([ True, False, False])"
      ]
     },
     "execution_count": 263,
     "metadata": {},
     "output_type": "execute_result"
    }
   ],
   "source": [
    "torch.isfinite(torch.tensor([1.0, float('inf'), torch.nan]))"
   ]
  },
  {
   "cell_type": "code",
   "execution_count": 264,
   "id": "e496c4b8",
   "metadata": {},
   "outputs": [
    {
     "data": {
      "text/plain": [
       "tensor([False,  True, False])"
      ]
     },
     "execution_count": 264,
     "metadata": {},
     "output_type": "execute_result"
    }
   ],
   "source": [
    "torch.isinf(torch.tensor([1.0, float('inf'), torch.nan]))"
   ]
  },
  {
   "cell_type": "code",
   "execution_count": 265,
   "id": "b2d54fd8",
   "metadata": {},
   "outputs": [
    {
     "data": {
      "text/plain": [
       "tensor([False, False,  True])"
      ]
     },
     "execution_count": 265,
     "metadata": {},
     "output_type": "execute_result"
    }
   ],
   "source": [
    "torch.isnan(torch.tensor([1.0, float('inf'), torch.nan]))"
   ]
  },
  {
   "cell_type": "code",
   "execution_count": 266,
   "id": "533aa729",
   "metadata": {},
   "outputs": [
    {
     "data": {
      "text/plain": [
       "tensor([[False,  True],\n",
       "        [ True, False]])"
      ]
     },
     "execution_count": 266,
     "metadata": {},
     "output_type": "execute_result"
    }
   ],
   "source": [
    "torch.isin(torch.tensor([[1, 2], [3, 4]]), torch.tensor([2, 3]))"
   ]
  },
  {
   "cell_type": "code",
   "execution_count": 267,
   "id": "6b748d51",
   "metadata": {},
   "outputs": [
    {
     "name": "stderr",
     "output_type": "stream",
     "text": [
      "/tmp/ipykernel_11739/1689219387.py:1: UserWarning: ComplexHalf support is experimental and many operators don't support it yet. (Triggered internally at  ../aten/src/ATen/EmptyTensor.cpp:31.)\n",
      "  torch.isreal(torch.tensor([1.0, 3*j], dtype=torch.complex32))\n"
     ]
    },
    {
     "data": {
      "text/plain": [
       "tensor([True, True])"
      ]
     },
     "execution_count": 267,
     "metadata": {},
     "output_type": "execute_result"
    }
   ],
   "source": [
    "torch.isreal(torch.tensor([1.0, 3*j], dtype=torch.complex32))"
   ]
  },
  {
   "cell_type": "code",
   "execution_count": 268,
   "id": "2b48269b",
   "metadata": {},
   "outputs": [
    {
     "data": {
      "text/plain": [
       "(tensor([[-9.3348e-02,  6.8705e-01, -8.3832e-01,  8.9182e-04,  8.4189e-01,\n",
       "          -4.0003e-01,  1.0395e+00,  3.5815e-01, -2.4600e-01,  2.3025e+00],\n",
       "         [-1.8817e+00, -4.9727e-02, -1.0450e+00, -9.5650e-01,  3.3532e-02,\n",
       "           7.1009e-01,  1.6459e+00, -1.3602e+00,  3.4457e-01,  5.1987e-01],\n",
       "         [-2.6133e+00, -1.6965e+00, -2.2824e-01,  2.7995e-01,  2.4693e-01,\n",
       "           7.6887e-02,  3.3801e-01,  4.5440e-01,  4.5694e-01, -8.6537e-01],\n",
       "         [ 7.8131e-01, -9.2679e-01, -2.1883e-01, -2.4351e+00, -8.0483e-01,\n",
       "           5.6561e-01,  6.1036e-01,  4.6688e-01,  1.9507e+00, -1.0631e+00],\n",
       "         [ 1.1404e+00, -8.9882e-02, -5.9399e-01, -1.2439e+00, -1.0209e-01,\n",
       "          -1.0335e+00, -3.1264e-01,  2.4579e-01,  3.7718e-01,  1.1012e+00]]),\n",
       " torch.return_types.topk(\n",
       " values=tensor([[2.3025, 1.0395],\n",
       "         [1.6459, 0.7101],\n",
       "         [0.4569, 0.4544],\n",
       "         [1.9507, 0.7813],\n",
       "         [1.1404, 1.1012]]),\n",
       " indices=tensor([[9, 6],\n",
       "         [6, 5],\n",
       "         [8, 7],\n",
       "         [8, 0],\n",
       "         [0, 9]])))"
      ]
     },
     "execution_count": 268,
     "metadata": {},
     "output_type": "execute_result"
    }
   ],
   "source": [
    "x = torch.randn((5, 10))\n",
    "x, torch.topk(x, 2, dim=1)"
   ]
  },
  {
   "cell_type": "code",
   "execution_count": 269,
   "id": "7be31df7",
   "metadata": {},
   "outputs": [
    {
     "data": {
      "text/plain": [
       "(tensor([[ 0.2440,  1.1646,  0.2886,  0.3866, -0.2011, -0.1179, -0.8294, -1.4073,\n",
       "          -1.9003,  0.1307],\n",
       "         [-0.7043,  0.3147,  0.1574,  0.3854,  0.5737,  0.9979,  0.3016, -0.1073,\n",
       "           0.9985, -0.4987],\n",
       "         [ 0.7611,  0.6183, -0.2994, -0.1878, -0.1201,  0.3605, -0.3140, -1.0787,\n",
       "           0.2408, -1.3962],\n",
       "         [ 0.1136,  1.1047, -1.5616, -0.3546,  0.1715,  0.8760, -0.2871,  1.0216,\n",
       "          -0.5111, -1.7137],\n",
       "         [-0.5101, -0.4749,  0.6623, -1.2063,  0.6074, -0.5472, -1.1005, -0.7201,\n",
       "           0.0119,  0.3398]]),\n",
       " torch.return_types.topk(\n",
       " values=tensor([[ 0.7611,  1.1646,  0.6623,  0.3866,  0.6074,  0.9979,  0.3016,  1.0216,\n",
       "           0.9985,  0.3398],\n",
       "         [ 0.2440,  1.1047,  0.2886,  0.3854,  0.5737,  0.8760, -0.2871, -0.1073,\n",
       "           0.2408,  0.1307]]),\n",
       " indices=tensor([[2, 0, 4, 0, 4, 1, 1, 3, 1, 4],\n",
       "         [0, 3, 0, 1, 1, 3, 3, 1, 2, 0]])))"
      ]
     },
     "execution_count": 269,
     "metadata": {},
     "output_type": "execute_result"
    }
   ],
   "source": [
    "x = torch.randn((5, 10))\n",
    "x, torch.topk(x, 2, dim=0)"
   ]
  },
  {
   "cell_type": "code",
   "execution_count": 270,
   "id": "b77e7620",
   "metadata": {},
   "outputs": [
    {
     "data": {
      "text/plain": [
       "(tensor(-0.1063), tensor(0.5957))"
      ]
     },
     "execution_count": 270,
     "metadata": {},
     "output_type": "execute_result"
    }
   ],
   "source": [
    "torch.mean(x), torch.var(x)"
   ]
  },
  {
   "cell_type": "code",
   "execution_count": 271,
   "id": "6d665bd0",
   "metadata": {},
   "outputs": [
    {
     "data": {
      "text/plain": [
       "(torch.return_types.sort(\n",
       " values=tensor([[-1.9003, -1.4073, -0.8294, -0.2011, -0.1179,  0.1307,  0.2440,  0.2886,\n",
       "           0.3866,  1.1646],\n",
       "         [-0.7043, -0.4987, -0.1073,  0.1574,  0.3016,  0.3147,  0.3854,  0.5737,\n",
       "           0.9979,  0.9985],\n",
       "         [-1.3962, -1.0787, -0.3140, -0.2994, -0.1878, -0.1201,  0.2408,  0.3605,\n",
       "           0.6183,  0.7611],\n",
       "         [-1.7137, -1.5616, -0.5111, -0.3546, -0.2871,  0.1136,  0.1715,  0.8760,\n",
       "           1.0216,  1.1047],\n",
       "         [-1.2063, -1.1005, -0.7201, -0.5472, -0.5101, -0.4749,  0.0119,  0.3398,\n",
       "           0.6074,  0.6623]]),\n",
       " indices=tensor([[8, 7, 6, 4, 5, 9, 0, 2, 3, 1],\n",
       "         [0, 9, 7, 2, 6, 1, 3, 4, 5, 8],\n",
       "         [9, 7, 6, 2, 3, 4, 8, 5, 1, 0],\n",
       "         [9, 2, 8, 3, 6, 0, 4, 5, 7, 1],\n",
       "         [3, 6, 7, 5, 0, 1, 8, 9, 4, 2]])),\n",
       " torch.return_types.kthvalue(\n",
       " values=tensor([-1.4073, -0.4987, -1.0787, -1.5616, -1.1005]),\n",
       " indices=tensor([7, 9, 7, 2, 6])))"
      ]
     },
     "execution_count": 271,
     "metadata": {},
     "output_type": "execute_result"
    }
   ],
   "source": [
    "torch.sort(x),torch.kthvalue(x, 2, dim=-1, ) # smallest kth value"
   ]
  },
  {
   "cell_type": "code",
   "execution_count": 272,
   "id": "b8ac4d97",
   "metadata": {},
   "outputs": [
    {
     "data": {
      "text/plain": [
       "(tensor([[ 0.2440,  1.1646,  0.2886,  0.3866, -0.2011, -0.1179, -0.8294, -1.4073,\n",
       "          -1.9003,  0.1307],\n",
       "         [-0.7043,  0.3147,  0.1574,  0.3854,  0.5737,  0.9979,  0.3016, -0.1073,\n",
       "           0.9985, -0.4987],\n",
       "         [ 0.7611,  0.6183, -0.2994, -0.1878, -0.1201,  0.3605, -0.3140, -1.0787,\n",
       "           0.2408, -1.3962],\n",
       "         [ 0.1136,  1.1047, -1.5616, -0.3546,  0.1715,  0.8760, -0.2871,  1.0216,\n",
       "          -0.5111, -1.7137],\n",
       "         [-0.5101, -0.4749,  0.6623, -1.2063,  0.6074, -0.5472, -1.1005, -0.7201,\n",
       "           0.0119,  0.3398]]),\n",
       " torch.return_types.sort(\n",
       " values=tensor([[ 1.1646,  0.3866,  0.2886,  0.2440,  0.1307, -0.1179, -0.2011, -0.8294,\n",
       "          -1.4073, -1.9003],\n",
       "         [ 0.9985,  0.9979,  0.5737,  0.3854,  0.3147,  0.3016,  0.1574, -0.1073,\n",
       "          -0.4987, -0.7043],\n",
       "         [ 0.7611,  0.6183,  0.3605,  0.2408, -0.1201, -0.1878, -0.2994, -0.3140,\n",
       "          -1.0787, -1.3962],\n",
       "         [ 1.1047,  1.0216,  0.8760,  0.1715,  0.1136, -0.2871, -0.3546, -0.5111,\n",
       "          -1.5616, -1.7137],\n",
       "         [ 0.6623,  0.6074,  0.3398,  0.0119, -0.4749, -0.5101, -0.5472, -0.7201,\n",
       "          -1.1005, -1.2063]]),\n",
       " indices=tensor([[1, 3, 2, 0, 9, 5, 4, 6, 7, 8],\n",
       "         [8, 5, 4, 3, 1, 6, 2, 7, 9, 0],\n",
       "         [0, 1, 5, 8, 4, 3, 2, 6, 7, 9],\n",
       "         [1, 7, 5, 4, 0, 6, 3, 8, 2, 9],\n",
       "         [2, 4, 9, 8, 1, 0, 5, 7, 6, 3]])))"
      ]
     },
     "execution_count": 272,
     "metadata": {},
     "output_type": "execute_result"
    }
   ],
   "source": [
    "x, torch.sort(x, descending=True)"
   ]
  },
  {
   "cell_type": "code",
   "execution_count": 273,
   "id": "0fc6c07e",
   "metadata": {},
   "outputs": [
    {
     "data": {
      "text/plain": [
       "torch.return_types.sort(\n",
       "values=tensor([[-1.9003, -1.4073, -0.8294, -0.2011, -0.1179,  0.1307,  0.2440,  0.2886,\n",
       "          0.3866,  1.1646],\n",
       "        [-0.7043, -0.4987, -0.1073,  0.1574,  0.3016,  0.3147,  0.3854,  0.5737,\n",
       "          0.9979,  0.9985],\n",
       "        [-1.3962, -1.0787, -0.3140, -0.2994, -0.1878, -0.1201,  0.2408,  0.3605,\n",
       "          0.6183,  0.7611],\n",
       "        [-1.7137, -1.5616, -0.5111, -0.3546, -0.2871,  0.1136,  0.1715,  0.8760,\n",
       "          1.0216,  1.1047],\n",
       "        [-1.2063, -1.1005, -0.7201, -0.5472, -0.5101, -0.4749,  0.0119,  0.3398,\n",
       "          0.6074,  0.6623]]),\n",
       "indices=tensor([[8, 7, 6, 4, 5, 9, 0, 2, 3, 1],\n",
       "        [0, 9, 7, 2, 6, 1, 3, 4, 5, 8],\n",
       "        [9, 7, 6, 2, 3, 4, 8, 5, 1, 0],\n",
       "        [9, 2, 8, 3, 6, 0, 4, 5, 7, 1],\n",
       "        [3, 6, 7, 5, 0, 1, 8, 9, 4, 2]]))"
      ]
     },
     "execution_count": 273,
     "metadata": {},
     "output_type": "execute_result"
    }
   ],
   "source": [
    "torch.sort(x, descending=False)"
   ]
  },
  {
   "cell_type": "code",
   "execution_count": 274,
   "id": "a8788496",
   "metadata": {},
   "outputs": [
    {
     "data": {
      "text/plain": [
       "tensor([9.7000, 0.5000, 3.1000,    nan])"
      ]
     },
     "execution_count": 274,
     "metadata": {},
     "output_type": "execute_result"
    }
   ],
   "source": [
    "a = torch.tensor([9.7, float('nan'), 3.1, float('nan')])\n",
    "b = torch.tensor([-2.2, 0.5, float('nan'), float('nan')])\n",
    "torch.fmax(a, b)"
   ]
  },
  {
   "cell_type": "code",
   "execution_count": 275,
   "id": "a4414612",
   "metadata": {},
   "outputs": [
    {
     "data": {
      "text/plain": [
       "tensor([-2.2000,  0.5000,  3.1000,     nan])"
      ]
     },
     "execution_count": 275,
     "metadata": {},
     "output_type": "execute_result"
    }
   ],
   "source": [
    "a = torch.tensor([9.7, float('nan'), 3.1, float('nan')])\n",
    "b = torch.tensor([-2.2, 0.5, float('nan'), float('nan')])\n",
    "torch.fmin(a, b)"
   ]
  },
  {
   "cell_type": "code",
   "execution_count": 276,
   "id": "26873081",
   "metadata": {},
   "outputs": [
    {
     "data": {
      "text/plain": [
       "<torch._C.Generator at 0x7f31cc0e2890>"
      ]
     },
     "execution_count": 276,
     "metadata": {},
     "output_type": "execute_result"
    }
   ],
   "source": [
    "torch.manual_seed(15)"
   ]
  },
  {
   "cell_type": "code",
   "execution_count": 277,
   "id": "4ee5eede",
   "metadata": {},
   "outputs": [
    {
     "data": {
      "text/plain": [
       "15"
      ]
     },
     "execution_count": 277,
     "metadata": {},
     "output_type": "execute_result"
    }
   ],
   "source": [
    "torch.initial_seed()"
   ]
  },
  {
   "cell_type": "code",
   "execution_count": 278,
   "id": "27437632",
   "metadata": {},
   "outputs": [],
   "source": [
    "torch.set_rng_state(torch.manual_seed(10).get_state())"
   ]
  },
  {
   "cell_type": "code",
   "execution_count": 279,
   "id": "2a3f4147",
   "metadata": {},
   "outputs": [
    {
     "data": {
      "text/plain": [
       "tensor([10,  0,  0,  ...,  0,  0,  0], dtype=torch.uint8)"
      ]
     },
     "execution_count": 279,
     "metadata": {},
     "output_type": "execute_result"
    }
   ],
   "source": [
    "torch.get_rng_state()"
   ]
  },
  {
   "cell_type": "code",
   "execution_count": 280,
   "id": "6d558244",
   "metadata": {},
   "outputs": [
    {
     "data": {
      "text/plain": [
       "torch.Size([5056])"
      ]
     },
     "execution_count": 280,
     "metadata": {},
     "output_type": "execute_result"
    }
   ],
   "source": [
    "torch.get_rng_state().shape"
   ]
  },
  {
   "cell_type": "code",
   "execution_count": 281,
   "id": "3d6157de",
   "metadata": {},
   "outputs": [
    {
     "data": {
      "text/plain": [
       "tensor([0., 1., 0., 1., 0., 0., 1., 1., 1., 0.])"
      ]
     },
     "execution_count": 281,
     "metadata": {},
     "output_type": "execute_result"
    }
   ],
   "source": [
    "x = torch.bernoulli(torch.empty((10, )).uniform_(0., 1.))\n",
    "x"
   ]
  },
  {
   "cell_type": "code",
   "execution_count": 282,
   "id": "3d891148",
   "metadata": {},
   "outputs": [
    {
     "data": {
      "text/plain": [
       "(tensor([[0.0000e+00, 0.0000e+00, 0.0000e+00, 0.0000e+00, 0.0000e+00, 0.0000e+00,\n",
       "          0.0000e+00, 0.0000e+00, 0.0000e+00, 1.0000e+00],\n",
       "         [1.3114e-01, 1.4448e-01, 1.1519e-01, 7.2451e-02, 9.4196e-02, 0.0000e+00,\n",
       "          1.9251e-01, 0.0000e+00, 1.8448e-01, 6.5550e-02],\n",
       "         [3.2687e-01, 3.3312e-01, 0.0000e+00, 0.0000e+00, 6.2837e-02, 0.0000e+00,\n",
       "          6.5319e-02, 2.1185e-01, 0.0000e+00, 0.0000e+00],\n",
       "         [0.0000e+00, 2.8622e-01, 0.0000e+00, 5.6685e-02, 0.0000e+00, 1.6846e-01,\n",
       "          9.9556e-04, 0.0000e+00, 2.1693e-01, 2.7071e-01],\n",
       "         [0.0000e+00, 0.0000e+00, 3.0034e-02, 1.1351e-01, 8.2245e-02, 3.3287e-01,\n",
       "          1.6176e-01, 0.0000e+00, 0.0000e+00, 2.7958e-01],\n",
       "         [6.0583e-01, 0.0000e+00, 0.0000e+00, 2.2125e-01, 0.0000e+00, 0.0000e+00,\n",
       "          0.0000e+00, 1.7293e-01, 0.0000e+00, 0.0000e+00]]),\n",
       " tensor([[9, 5, 8, 7, 6, 3],\n",
       "         [1, 6, 2, 3, 4, 8],\n",
       "         [6, 0, 7, 4, 1, 8],\n",
       "         [9, 5, 8, 1, 3, 6],\n",
       "         [5, 3, 9, 4, 6, 2],\n",
       "         [0, 3, 7, 9, 8, 5]]))"
      ]
     },
     "execution_count": 282,
     "metadata": {},
     "output_type": "execute_result"
    }
   ],
   "source": [
    "x = torch.empty((6, 10)).uniform_(-1., 1.).clip(min=0)\n",
    "x /= x.sum(axis=1).reshape(-1, 1)\n",
    "y = torch.multinomial(x, 6)\n",
    "x, y"
   ]
  },
  {
   "cell_type": "code",
   "execution_count": 283,
   "id": "30978b0f",
   "metadata": {},
   "outputs": [
    {
     "data": {
      "text/plain": [
       "(tensor([[0.0000, 0.1881, 0.0742, 0.2092, 0.0000, 0.0000, 0.2912, 0.0000, 0.0000,\n",
       "          0.2373],\n",
       "         [0.4821, 0.0000, 0.0000, 0.0255, 0.0000, 0.1551, 0.2795, 0.0579, 0.0000,\n",
       "          0.0000],\n",
       "         [0.1440, 0.0512, 0.0000, 0.0000, 0.0000, 0.0000, 0.1582, 0.1226, 0.2635,\n",
       "          0.2605],\n",
       "         [0.0000, 0.0000, 0.0973, 0.1545, 0.1771, 0.1794, 0.1609, 0.0637, 0.0198,\n",
       "          0.1473],\n",
       "         [0.0000, 0.2393, 0.1349, 0.1293, 0.0000, 0.1394, 0.1150, 0.0000, 0.0000,\n",
       "          0.2422],\n",
       "         [0.0000, 0.0000, 0.2279, 0.2012, 0.0000, 0.1741, 0.0000, 0.3435, 0.0000,\n",
       "          0.0534]]),\n",
       " tensor([[1, 9, 3, 1, 6, 1, 6, 6, 3, 6, 6, 6, 1, 9, 3, 6, 2, 3, 1, 2],\n",
       "         [0, 0, 0, 0, 5, 5, 0, 7, 6, 0, 0, 6, 6, 7, 0, 0, 6, 0, 6, 6],\n",
       "         [9, 9, 6, 8, 0, 6, 9, 8, 0, 9, 6, 6, 0, 9, 6, 9, 6, 9, 0, 8],\n",
       "         [9, 2, 9, 7, 2, 6, 9, 6, 4, 4, 6, 4, 6, 5, 5, 9, 6, 3, 5, 5],\n",
       "         [5, 3, 2, 1, 6, 3, 6, 6, 1, 3, 2, 1, 6, 6, 6, 2, 1, 9, 6, 2],\n",
       "         [7, 7, 7, 2, 2, 7, 3, 2, 9, 3, 7, 7, 7, 3, 7, 7, 7, 9, 3, 5]]))"
      ]
     },
     "execution_count": 283,
     "metadata": {},
     "output_type": "execute_result"
    }
   ],
   "source": [
    "x = torch.empty((6, 10)).uniform_(-1., 1.).clip(min=0)\n",
    "x /= x.sum(axis=1).reshape(-1, 1)\n",
    "y = torch.multinomial(x, 20, replacement=True)\n",
    "x, y"
   ]
  },
  {
   "cell_type": "code",
   "execution_count": 284,
   "id": "cffda130",
   "metadata": {},
   "outputs": [
    {
     "data": {
      "text/plain": [
       "(tensor([[0.0000, 0.0000, 0.0000, 0.4580, 0.0108, 0.0000, 0.1587, 0.2064, 0.0000,\n",
       "          0.1661],\n",
       "         [0.1816, 0.0964, 0.0000, 0.0000, 0.2290, 0.2510, 0.0000, 0.1652, 0.0000,\n",
       "          0.0768],\n",
       "         [0.0000, 0.0000, 0.0000, 0.0443, 0.0000, 0.0000, 0.1160, 0.0000, 0.0000,\n",
       "          0.8397],\n",
       "         [0.0000, 0.0000, 0.2169, 0.1343, 0.1757, 0.0000, 0.1465, 0.0000, 0.2067,\n",
       "          0.1199],\n",
       "         [0.7760, 0.0054, 0.0000, 0.0000, 0.0000, 0.0000, 0.2186, 0.0000, 0.0000,\n",
       "          0.0000],\n",
       "         [0.0000, 0.0000, 0.0000, 0.0000, 0.0000, 0.0000, 0.0000, 0.2384, 0.0000,\n",
       "          0.7616]]),\n",
       " tensor([[3, 7, 3, 6, 7, 3],\n",
       "         [5, 4, 1, 5, 0, 5],\n",
       "         [9, 6, 6, 9, 9, 9],\n",
       "         [9, 3, 8, 2, 6, 3],\n",
       "         [6, 0, 0, 0, 0, 0],\n",
       "         [9, 9, 9, 9, 9, 9]]))"
      ]
     },
     "execution_count": 284,
     "metadata": {},
     "output_type": "execute_result"
    }
   ],
   "source": [
    "x = torch.empty((6, 10)).uniform_(-1., 1.).clip(min=0)\n",
    "x /= x.sum(axis=1).reshape(-1, 1)\n",
    "y = torch.multinomial(x, 6, replacement=True)\n",
    "x, y"
   ]
  },
  {
   "cell_type": "code",
   "execution_count": 285,
   "id": "4bfc77ef",
   "metadata": {},
   "outputs": [
    {
     "data": {
      "text/plain": [
       "(tensor([[0.3914, 0.0000, 0.0969, 0.2064, 0.0000, 0.1348, 0.0000, 0.0000, 0.0000,\n",
       "          0.1705],\n",
       "         [0.0000, 0.0000, 0.1196, 0.0000, 0.0000, 0.1816, 0.2322, 0.3338, 0.1327,\n",
       "          0.0000],\n",
       "         [0.0661, 0.2158, 0.1306, 0.1723, 0.0037, 0.0000, 0.0000, 0.1553, 0.2139,\n",
       "          0.0423],\n",
       "         [0.2445, 0.0000, 0.2532, 0.0000, 0.0151, 0.0000, 0.0000, 0.2768, 0.1069,\n",
       "          0.1034],\n",
       "         [0.1116, 0.0000, 0.0000, 0.0000, 0.1179, 0.0000, 0.0000, 0.7705, 0.0000,\n",
       "          0.0000],\n",
       "         [0.0000, 0.3239, 0.0000, 0.0790, 0.2611, 0.1221, 0.2139, 0.0000, 0.0000,\n",
       "          0.0000]]),\n",
       " tensor([[3, 0, 9, 2, 5, 7],\n",
       "         [6, 2, 5, 7, 8, 9],\n",
       "         [1, 8, 2, 3, 0, 7],\n",
       "         [8, 7, 2, 9, 0, 4],\n",
       "         [7, 4, 0, 8, 9, 5],\n",
       "         [1, 5, 4, 6, 3, 7]]))"
      ]
     },
     "execution_count": 285,
     "metadata": {},
     "output_type": "execute_result"
    }
   ],
   "source": [
    "x = torch.empty((6, 10)).uniform_(-1., 1.).clip(min=0)\n",
    "x /= x.sum(axis=1).reshape(-1, 1)\n",
    "y = torch.multinomial(x, 6, )\n",
    "x, y"
   ]
  },
  {
   "cell_type": "code",
   "execution_count": 286,
   "id": "ec7dfc92",
   "metadata": {},
   "outputs": [
    {
     "data": {
      "text/plain": [
       "tensor([-0.6586, -0.1060, -1.2703,  3.3482, -0.1665,  0.0593, -0.7544, -1.5684,\n",
       "         0.4485, -0.0209], dtype=torch.float64)"
      ]
     },
     "execution_count": 286,
     "metadata": {},
     "output_type": "execute_result"
    }
   ],
   "source": [
    "torch.normal(mean=torch.as_tensor(np.random.uniform(-1, 1, (10, ))), \n",
    "             std=torch.tensor([1.0,]))"
   ]
  },
  {
   "cell_type": "code",
   "execution_count": 287,
   "id": "111c4523",
   "metadata": {},
   "outputs": [
    {
     "data": {
      "text/plain": [
       "tensor([-2.5098,  0.1792, -2.0132, -0.0133, -0.6491, -0.5718,  0.0967, -1.3372,\n",
       "         0.3180, -1.1399])"
      ]
     },
     "execution_count": 287,
     "metadata": {},
     "output_type": "execute_result"
    }
   ],
   "source": [
    "torch.randn(10)"
   ]
  },
  {
   "cell_type": "code",
   "execution_count": 288,
   "id": "1c83111b",
   "metadata": {},
   "outputs": [
    {
     "data": {
      "text/plain": [
       "tensor([1.4109, 1.2928, 3.7011, 3.1359, 4.5263, 6.9892, 8.0888, 8.8280, 8.7037])"
      ]
     },
     "execution_count": 288,
     "metadata": {},
     "output_type": "execute_result"
    }
   ],
   "source": [
    "torch.normal(torch.arange(1, 10).to(dtype=torch.float32)) # std=1"
   ]
  },
  {
   "cell_type": "code",
   "execution_count": 289,
   "id": "6faf6a26",
   "metadata": {},
   "outputs": [
    {
     "data": {
      "text/plain": [
       "tensor([[ 3.4175,  0.6281,  6.6869,  3.3786,  3.3302],\n",
       "        [-0.1417, -0.1872,  1.0041,  1.6659,  5.7913]])"
      ]
     },
     "execution_count": 289,
     "metadata": {},
     "output_type": "execute_result"
    }
   ],
   "source": [
    "torch.normal(2, 3, size=(2, 5))"
   ]
  },
  {
   "cell_type": "code",
   "execution_count": 290,
   "id": "27b81ec3",
   "metadata": {},
   "outputs": [
    {
     "data": {
      "text/plain": [
       "tensor(5.)"
      ]
     },
     "execution_count": 290,
     "metadata": {},
     "output_type": "execute_result"
    }
   ],
   "source": [
    "torch.poisson(torch.tensor(2.0))"
   ]
  },
  {
   "cell_type": "code",
   "execution_count": 291,
   "id": "00bc2888",
   "metadata": {},
   "outputs": [
    {
     "data": {
      "text/plain": [
       "tensor([0.8691, 0.8476, 0.7216, 0.2752, 0.2451, 0.4001, 0.1851, 0.5446, 0.4505,\n",
       "        0.8453])"
      ]
     },
     "execution_count": 291,
     "metadata": {},
     "output_type": "execute_result"
    }
   ],
   "source": [
    "torch.rand(10)"
   ]
  },
  {
   "cell_type": "code",
   "execution_count": 292,
   "id": "966740a4",
   "metadata": {},
   "outputs": [
    {
     "data": {
      "text/plain": [
       "tensor([0.0562, 0.6537, 0.6693, 0.2503, 0.2214, 0.1055, 0.4320, 0.1998, 0.0837,\n",
       "        0.2836])"
      ]
     },
     "execution_count": 292,
     "metadata": {},
     "output_type": "execute_result"
    }
   ],
   "source": [
    "torch.rand_like(torch.rand(10)) # uniform [0, 1])"
   ]
  },
  {
   "cell_type": "code",
   "execution_count": 293,
   "id": "9763d26f",
   "metadata": {},
   "outputs": [
    {
     "data": {
      "text/plain": [
       "tensor([[1, 1, 1, 1, 1],\n",
       "        [1, 1, 1, 1, 1],\n",
       "        [1, 1, 1, 1, 1],\n",
       "        [1, 1, 1, 1, 1]])"
      ]
     },
     "execution_count": 293,
     "metadata": {},
     "output_type": "execute_result"
    }
   ],
   "source": [
    "torch.randint(1, 2, (4, 5)) # 2 exclusive"
   ]
  },
  {
   "cell_type": "code",
   "execution_count": 294,
   "id": "e83beff7",
   "metadata": {},
   "outputs": [
    {
     "data": {
      "text/plain": [
       "tensor([-0.3435,  0.0763,  1.1972, -0.3095, -0.1022,  0.7600, -0.3332,  0.9962,\n",
       "         1.9406, -0.8433])"
      ]
     },
     "execution_count": 294,
     "metadata": {},
     "output_type": "execute_result"
    }
   ],
   "source": [
    "torch.randn((10, )) # Gaussian(mean=0, std=1)"
   ]
  },
  {
   "cell_type": "code",
   "execution_count": 295,
   "id": "c88ff56a",
   "metadata": {},
   "outputs": [
    {
     "data": {
      "text/plain": [
       "tensor([8, 1, 9, 7, 5, 3, 2, 6, 4, 0])"
      ]
     },
     "execution_count": 295,
     "metadata": {},
     "output_type": "execute_result"
    }
   ],
   "source": [
    "torch.randperm(10) # 0 to n - 1."
   ]
  },
  {
   "cell_type": "code",
   "execution_count": 296,
   "id": "7a92d448",
   "metadata": {},
   "outputs": [
    {
     "data": {
      "text/plain": [
       "(tensor([[0.9492+0.9531j, 0.0073+0.6045j],\n",
       "         [0.5566+0.0786j, 0.1240+0.1743j],\n",
       "         [0.0322+0.2231j, 0.6943+0.6431j]], dtype=torch.complex32),\n",
       " tensor([[0.9492-0.9531j, 0.5566-0.0786j, 0.0322-0.2231j],\n",
       "         [0.0073-0.6045j, 0.1240-0.1743j, 0.6943-0.6431j]],\n",
       "        dtype=torch.complex32),\n",
       " tensor([[0.9492-0.9531j, 0.5566-0.0786j, 0.0322-0.2231j],\n",
       "         [0.0073-0.6045j, 0.1240-0.1743j, 0.6943-0.6431j]],\n",
       "        dtype=torch.complex32))"
      ]
     },
     "execution_count": 296,
     "metadata": {},
     "output_type": "execute_result"
    }
   ],
   "source": [
    "x = torch.rand((3, 2), dtype=torch.complex32)\n",
    "x, torch.adjoint(x), x.mH"
   ]
  },
  {
   "cell_type": "code",
   "execution_count": 297,
   "id": "37f3a7d0",
   "metadata": {},
   "outputs": [
    {
     "data": {
      "text/plain": [
       "(tensor([[[ 0.7849,  0.2833],\n",
       "          [ 2.5434,  0.0181],\n",
       "          [ 1.3786,  0.6507],\n",
       "          [-0.3836, -0.0290],\n",
       "          [-1.2926, -0.2967]],\n",
       " \n",
       "         [[-1.3300, -0.9712],\n",
       "          [-0.2033,  0.5962],\n",
       "          [-2.5893,  0.1280],\n",
       "          [ 0.5126,  1.1982],\n",
       "          [-0.0122, -1.3918]],\n",
       " \n",
       "         [[ 0.1027, -0.7840],\n",
       "          [ 3.2564,  0.1908],\n",
       "          [-2.0345,  0.1245],\n",
       "          [ 0.5929,  0.0608],\n",
       "          [-1.8114,  0.4046]]]),\n",
       " tensor([[0, 0, 0],\n",
       "         [0, 0, 1],\n",
       "         [0, 1, 0],\n",
       "         [0, 1, 1],\n",
       "         [0, 2, 0],\n",
       "         [0, 2, 1],\n",
       "         [1, 1, 1],\n",
       "         [1, 2, 1],\n",
       "         [1, 3, 0],\n",
       "         [1, 3, 1],\n",
       "         [2, 0, 0],\n",
       "         [2, 1, 0],\n",
       "         [2, 1, 1],\n",
       "         [2, 2, 1],\n",
       "         [2, 3, 0],\n",
       "         [2, 3, 1],\n",
       "         [2, 4, 1]]))"
      ]
     },
     "execution_count": 297,
     "metadata": {},
     "output_type": "execute_result"
    }
   ],
   "source": [
    "x = torch.randn((3, 5, 2)) * torch.randn((3, 5, 2))\n",
    "y = torch.argwhere(x > 0)\n",
    "x, y"
   ]
  },
  {
   "cell_type": "code",
   "execution_count": 298,
   "id": "908225ee",
   "metadata": {},
   "outputs": [
    {
     "data": {
      "text/plain": [
       "(tensor([[ 0.7849,  0.2833,  2.5434,  0.0181,  1.3786,  0.6507],\n",
       "         [-0.3836, -0.0290, -1.2926, -0.2967, -1.3300, -0.9712],\n",
       "         [-0.2033,  0.5962, -2.5893,  0.1280,  0.5126,  1.1982],\n",
       "         [-0.0122, -1.3918,  0.1027, -0.7840,  3.2564,  0.1908],\n",
       "         [-2.0345,  0.1245,  0.5929,  0.0608, -1.8114,  0.4046]]),\n",
       " tensor([[ True, False,  True, False,  True,  True],\n",
       "         [False, False, False, False, False, False],\n",
       "         [False,  True, False, False,  True,  True],\n",
       "         [False, False, False, False,  True, False],\n",
       "         [False, False,  True, False, False, False]]))"
      ]
     },
     "execution_count": 298,
     "metadata": {},
     "output_type": "execute_result"
    }
   ],
   "source": [
    "z = x.reshape((-1, 6))\n",
    "w = z > 0.5\n",
    "z, w"
   ]
  },
  {
   "cell_type": "code",
   "execution_count": 299,
   "id": "3c7b62e4",
   "metadata": {},
   "outputs": [
    {
     "data": {
      "text/plain": [
       "tensor([[0, 0],\n",
       "        [0, 2],\n",
       "        [0, 4],\n",
       "        [0, 5],\n",
       "        [2, 1],\n",
       "        [2, 4],\n",
       "        [2, 5],\n",
       "        [3, 4],\n",
       "        [4, 2]])"
      ]
     },
     "execution_count": 299,
     "metadata": {},
     "output_type": "execute_result"
    }
   ],
   "source": [
    "torch.argwhere(w)"
   ]
  },
  {
   "cell_type": "code",
   "execution_count": 300,
   "id": "80985d91",
   "metadata": {},
   "outputs": [
    {
     "data": {
      "text/plain": [
       "tensor([0.7849, 2.5434, 1.3786, 0.6507, 0.5962, 0.5126, 1.1982, 3.2564, 0.5929])"
      ]
     },
     "execution_count": 300,
     "metadata": {},
     "output_type": "execute_result"
    }
   ],
   "source": [
    "z[w]"
   ]
  },
  {
   "cell_type": "code",
   "execution_count": 301,
   "id": "8451a01b",
   "metadata": {},
   "outputs": [
    {
     "data": {
      "text/plain": [
       "tensor([0.7849, 2.5434, 1.3786, 0.6507, 0.5962, 0.5126, 1.1982, 3.2564, 0.5929])"
      ]
     },
     "execution_count": 301,
     "metadata": {},
     "output_type": "execute_result"
    }
   ],
   "source": [
    "z[z > 0.5]"
   ]
  },
  {
   "cell_type": "code",
   "execution_count": 302,
   "id": "8cd8f7a1",
   "metadata": {},
   "outputs": [
    {
     "data": {
      "text/plain": [
       "tensor([0.7849, 2.5434, 1.3786, 0.6507, 0.5962, 0.5126, 1.1982, 3.2564, 0.5929])"
      ]
     },
     "execution_count": 302,
     "metadata": {},
     "output_type": "execute_result"
    }
   ],
   "source": [
    "u, v = torch.argwhere(w)[:, 0], torch.argwhere(w)[:, 1]\n",
    "u, v\n",
    "z[u, v]"
   ]
  },
  {
   "cell_type": "code",
   "execution_count": 303,
   "id": "c30a8cf4",
   "metadata": {},
   "outputs": [
    {
     "data": {
      "text/plain": [
       "(tensor([[ 1.3303, -0.1029,  0.7936],\n",
       "         [ 1.0432, -1.7968,  0.9867]]),\n",
       " tensor([[ 1.3232,  0.1512, -0.1929, -0.6992,  1.0317],\n",
       "         [ 0.5546,  1.2497,  2.1303, -0.1405, -0.7468]]),\n",
       " tensor([[ 1.3303, -0.1029,  0.7936,  1.3232,  0.1512, -0.1929, -0.6992,  1.0317],\n",
       "         [ 1.0432, -1.7968,  0.9867,  0.5546,  1.2497,  2.1303, -0.1405, -0.7468]]))"
      ]
     },
     "execution_count": 303,
     "metadata": {},
     "output_type": "execute_result"
    }
   ],
   "source": [
    "x = torch.randn((2, 3))\n",
    "y = torch.randn((2, 5))\n",
    "x, y, torch.cat([x, y], dim=1)"
   ]
  },
  {
   "cell_type": "code",
   "execution_count": 304,
   "id": "1d7901de",
   "metadata": {},
   "outputs": [
    {
     "data": {
      "text/plain": [
       "(tensor([[-1.0620, -1.1670,  0.1510],\n",
       "         [-0.0018, -0.8504, -1.7453]]),\n",
       " tensor([[-0.4489,  0.8071, -0.4201],\n",
       "         [ 1.8900, -0.6517, -0.9375],\n",
       "         [-1.0854,  0.8030,  1.7166],\n",
       "         [-0.2632,  0.0726, -1.3100],\n",
       "         [-0.1871,  0.2769,  0.3347],\n",
       "         [ 0.3570,  1.5697,  0.5059]]),\n",
       " tensor([[-1.0620e+00, -1.1670e+00,  1.5104e-01],\n",
       "         [-1.8064e-03, -8.5039e-01, -1.7453e+00],\n",
       "         [-4.4892e-01,  8.0711e-01, -4.2013e-01],\n",
       "         [ 1.8900e+00, -6.5173e-01, -9.3748e-01],\n",
       "         [-1.0854e+00,  8.0301e-01,  1.7166e+00],\n",
       "         [-2.6322e-01,  7.2553e-02, -1.3100e+00],\n",
       "         [-1.8708e-01,  2.7687e-01,  3.3471e-01],\n",
       "         [ 3.5698e-01,  1.5697e+00,  5.0589e-01]]))"
      ]
     },
     "execution_count": 304,
     "metadata": {},
     "output_type": "execute_result"
    }
   ],
   "source": [
    "x = torch.randn((2, 3))\n",
    "y = torch.randn((6, 3))\n",
    "x, y, torch.cat([x, y], dim=0)"
   ]
  },
  {
   "cell_type": "code",
   "execution_count": 305,
   "id": "6ac73a0e",
   "metadata": {},
   "outputs": [
    {
     "data": {
      "text/plain": [
       "(tensor([[ 0.2622-0.2476j, -0.0945+0.7168j, -0.7100-0.4229j],\n",
       "         [-0.1370-0.1276j, -0.2206+0.2712j,  0.5039-0.4824j],\n",
       "         [-1.0059+0.7271j, -0.5723+0.6245j, -0.1505-0.0443j],\n",
       "         [-0.3896-0.6665j, -0.7856-0.0842j,  0.9971-0.4058j]],\n",
       "        dtype=torch.complex32),\n",
       " tensor([[ 0.2622+0.2476j, -0.0945-0.7168j, -0.7100+0.4229j],\n",
       "         [-0.1370+0.1276j, -0.2206-0.2712j,  0.5039+0.4824j],\n",
       "         [-1.0059-0.7271j, -0.5723-0.6245j, -0.1505+0.0443j],\n",
       "         [-0.3896+0.6665j, -0.7856+0.0842j,  0.9971+0.4058j]],\n",
       "        dtype=torch.complex32),\n",
       " True,\n",
       " tensor(True))"
      ]
     },
     "execution_count": 305,
     "metadata": {},
     "output_type": "execute_result"
    }
   ],
   "source": [
    "x = torch.randn((4, 3), dtype=torch.complex32)\n",
    "y = torch.conj(x)\n",
    "x, y, y.is_conj(), torch.all(x == torch.conj(y))"
   ]
  },
  {
   "cell_type": "code",
   "execution_count": 306,
   "id": "3af8afb4",
   "metadata": {},
   "outputs": [
    {
     "data": {
      "text/plain": [
       "(tensor([ 0,  1,  2,  3,  4,  5,  6,  7,  8,  9, 10]),\n",
       " (tensor([0, 1, 2, 3, 4, 5]), tensor([ 6,  7,  8,  9, 10])),\n",
       " (tensor([0, 1, 2, 3]), tensor([4, 5, 6, 7]), tensor([ 8,  9, 10])))"
      ]
     },
     "execution_count": 306,
     "metadata": {},
     "output_type": "execute_result"
    }
   ],
   "source": [
    "x = torch.arange(11)\n",
    "y = torch.chunk(x, 2)\n",
    "z = torch.chunk(x, 3)\n",
    "x, y, z"
   ]
  },
  {
   "cell_type": "code",
   "execution_count": 307,
   "id": "72e9c9cc",
   "metadata": {},
   "outputs": [
    {
     "data": {
      "text/plain": [
       "(tensor([[ 0.5916,  0.3237,  0.1185,  0.9920, -0.1610, -0.1669],\n",
       "         [-1.3604, -0.6594,  2.2604, -1.3918,  0.4173, -0.3318]]),\n",
       " (tensor([[ 0.5916,  0.3237],\n",
       "          [-1.3604, -0.6594]]),\n",
       "  tensor([[ 0.1185,  0.9920],\n",
       "          [ 2.2604, -1.3918]]),\n",
       "  tensor([[-0.1610, -0.1669],\n",
       "          [ 0.4173, -0.3318]])),\n",
       " (tensor([[ 0.5916,  0.3237,  0.1185,  0.9920, -0.1610, -0.1669]]),\n",
       "  tensor([[-1.3604, -0.6594,  2.2604, -1.3918,  0.4173, -0.3318]])))"
      ]
     },
     "execution_count": 307,
     "metadata": {},
     "output_type": "execute_result"
    }
   ],
   "source": [
    "x = torch.randn((2, 6))\n",
    "y = torch.chunk(x, 3, dim=1)\n",
    "z = torch.chunk(x, 4, dim=0)\n",
    "x, y, z"
   ]
  },
  {
   "cell_type": "code",
   "execution_count": 308,
   "id": "b52526b2",
   "metadata": {},
   "outputs": [
    {
     "data": {
      "text/plain": [
       "(tensor([[[ 0,  1,  2,  3],\n",
       "          [ 4,  5,  6,  7]],\n",
       " \n",
       "         [[ 8,  9, 10, 11],\n",
       "          [12, 13, 14, 15]]]),\n",
       " (tensor([[[ 0,  1],\n",
       "           [ 4,  5]],\n",
       "  \n",
       "          [[ 8,  9],\n",
       "           [12, 13]]]),\n",
       "  tensor([[[ 2,  3],\n",
       "           [ 6,  7]],\n",
       "  \n",
       "          [[10, 11],\n",
       "           [14, 15]]])))"
      ]
     },
     "execution_count": 308,
     "metadata": {},
     "output_type": "execute_result"
    }
   ],
   "source": [
    "x = torch.arange(16).reshape(2, 2, 4)\n",
    "y = torch.dsplit(x, 2)\n",
    "x, y"
   ]
  },
  {
   "cell_type": "code",
   "execution_count": 309,
   "id": "14ed41c5",
   "metadata": {},
   "outputs": [
    {
     "data": {
      "text/plain": [
       "(tensor([[[ 0,  1,  2,  3],\n",
       "          [ 4,  5,  6,  7]],\n",
       " \n",
       "         [[ 8,  9, 10, 11],\n",
       "          [12, 13, 14, 15]],\n",
       " \n",
       "         [[16, 17, 18, 19],\n",
       "          [20, 21, 22, 23]],\n",
       " \n",
       "         [[24, 25, 26, 27],\n",
       "          [28, 29, 30, 31]]]),\n",
       " (tensor([[[ 0],\n",
       "           [ 4]],\n",
       "  \n",
       "          [[ 8],\n",
       "           [12]],\n",
       "  \n",
       "          [[16],\n",
       "           [20]],\n",
       "  \n",
       "          [[24],\n",
       "           [28]]]),\n",
       "  tensor([[[ 1],\n",
       "           [ 5]],\n",
       "  \n",
       "          [[ 9],\n",
       "           [13]],\n",
       "  \n",
       "          [[17],\n",
       "           [21]],\n",
       "  \n",
       "          [[25],\n",
       "           [29]]]),\n",
       "  tensor([[[ 2],\n",
       "           [ 6]],\n",
       "  \n",
       "          [[10],\n",
       "           [14]],\n",
       "  \n",
       "          [[18],\n",
       "           [22]],\n",
       "  \n",
       "          [[26],\n",
       "           [30]]]),\n",
       "  tensor([[[ 3],\n",
       "           [ 7]],\n",
       "  \n",
       "          [[11],\n",
       "           [15]],\n",
       "  \n",
       "          [[19],\n",
       "           [23]],\n",
       "  \n",
       "          [[27],\n",
       "           [31]]])))"
      ]
     },
     "execution_count": 309,
     "metadata": {},
     "output_type": "execute_result"
    }
   ],
   "source": [
    "x = torch.arange(32).reshape(4, 2, 4)\n",
    "y = torch.dsplit(x, 4)\n",
    "x, y"
   ]
  },
  {
   "cell_type": "code",
   "execution_count": 310,
   "id": "79e4a3d8",
   "metadata": {},
   "outputs": [
    {
     "data": {
      "text/plain": [
       "(tensor([[[ 0,  1,  2,  3],\n",
       "          [ 4,  5,  6,  7]],\n",
       " \n",
       "         [[ 8,  9, 10, 11],\n",
       "          [12, 13, 14, 15]],\n",
       " \n",
       "         [[16, 17, 18, 19],\n",
       "          [20, 21, 22, 23]],\n",
       " \n",
       "         [[24, 25, 26, 27],\n",
       "          [28, 29, 30, 31]]]),\n",
       " (tensor([[[ 0],\n",
       "           [ 4]],\n",
       "  \n",
       "          [[ 8],\n",
       "           [12]],\n",
       "  \n",
       "          [[16],\n",
       "           [20]],\n",
       "  \n",
       "          [[24],\n",
       "           [28]]]),\n",
       "  tensor([[[ 1,  2],\n",
       "           [ 5,  6]],\n",
       "  \n",
       "          [[ 9, 10],\n",
       "           [13, 14]],\n",
       "  \n",
       "          [[17, 18],\n",
       "           [21, 22]],\n",
       "  \n",
       "          [[25, 26],\n",
       "           [29, 30]]]),\n",
       "  tensor([[[ 3],\n",
       "           [ 7]],\n",
       "  \n",
       "          [[11],\n",
       "           [15]],\n",
       "  \n",
       "          [[19],\n",
       "           [23]],\n",
       "  \n",
       "          [[27],\n",
       "           [31]]])))"
      ]
     },
     "execution_count": 310,
     "metadata": {},
     "output_type": "execute_result"
    }
   ],
   "source": [
    "x = torch.arange(32).reshape(4, 2, 4)\n",
    "y = torch.dsplit(x, [1, 3])\n",
    "x, y"
   ]
  },
  {
   "cell_type": "code",
   "execution_count": 311,
   "id": "030f7442",
   "metadata": {},
   "outputs": [
    {
     "data": {
      "text/plain": [
       "(tensor([0, 1, 2, 3, 4, 5, 6, 7]),\n",
       " (tensor([0, 1, 2, 3]), tensor([4, 5, 6, 7])))"
      ]
     },
     "execution_count": 311,
     "metadata": {},
     "output_type": "execute_result"
    }
   ],
   "source": [
    "x = torch.arange(8)\n",
    "y = torch.tensor_split(x, 2)\n",
    "x, y"
   ]
  },
  {
   "cell_type": "code",
   "execution_count": 312,
   "id": "21001d03",
   "metadata": {},
   "outputs": [
    {
     "data": {
      "text/plain": [
       "(tensor([0, 1, 2, 3, 4, 5, 6]), (tensor([0, 1, 2, 3]), tensor([4, 5, 6])))"
      ]
     },
     "execution_count": 312,
     "metadata": {},
     "output_type": "execute_result"
    }
   ],
   "source": [
    "x = torch.arange(7)\n",
    "y = torch.tensor_split(x, 2)\n",
    "x, y"
   ]
  },
  {
   "cell_type": "code",
   "execution_count": 313,
   "id": "af4496de",
   "metadata": {},
   "outputs": [
    {
     "data": {
      "text/plain": [
       "(tensor([[[-0.9891,  0.2736, -0.3410, -0.5595, -0.6359],\n",
       "          [-0.3519,  0.4749,  0.0566,  0.8611, -0.3574],\n",
       "          [-0.2926,  0.9788, -0.9538, -0.3936, -0.6204]],\n",
       " \n",
       "         [[ 0.9621,  0.5324, -0.3351, -0.4245,  0.3067],\n",
       "          [-0.3380,  0.3105, -0.5119, -0.6188, -0.0250],\n",
       "          [ 0.5872,  0.8517,  0.2210, -0.5939,  0.5228]],\n",
       " \n",
       "         [[ 0.3898,  0.4266, -0.3334, -0.1349,  0.4615],\n",
       "          [ 0.4131,  0.6642, -0.5998,  0.6279, -0.3890],\n",
       "          [-0.0251, -0.4707, -0.2964,  0.6742,  0.8543]],\n",
       " \n",
       "         [[ 0.3482, -0.7501, -0.3688,  0.6937, -0.2698],\n",
       "          [-0.8169,  0.2323, -0.8877, -0.0060, -0.1229],\n",
       "          [ 0.0096, -0.2381, -0.1461, -0.6045, -0.6602]]]),\n",
       " (tensor([[[-0.9891,  0.2736, -0.3410, -0.5595, -0.6359]],\n",
       "  \n",
       "          [[ 0.9621,  0.5324, -0.3351, -0.4245,  0.3067]],\n",
       "  \n",
       "          [[ 0.3898,  0.4266, -0.3334, -0.1349,  0.4615]],\n",
       "  \n",
       "          [[ 0.3482, -0.7501, -0.3688,  0.6937, -0.2698]]]),\n",
       "  tensor([[[-0.3519,  0.4749,  0.0566,  0.8611, -0.3574]],\n",
       "  \n",
       "          [[-0.3380,  0.3105, -0.5119, -0.6188, -0.0250]],\n",
       "  \n",
       "          [[ 0.4131,  0.6642, -0.5998,  0.6279, -0.3890]],\n",
       "  \n",
       "          [[-0.8169,  0.2323, -0.8877, -0.0060, -0.1229]]]),\n",
       "  tensor([[[-0.2926,  0.9788, -0.9538, -0.3936, -0.6204]],\n",
       "  \n",
       "          [[ 0.5872,  0.8517,  0.2210, -0.5939,  0.5228]],\n",
       "  \n",
       "          [[-0.0251, -0.4707, -0.2964,  0.6742,  0.8543]],\n",
       "  \n",
       "          [[ 0.0096, -0.2381, -0.1461, -0.6045, -0.6602]]])),\n",
       " 3,\n",
       " torch.Size([4, 1, 5]))"
      ]
     },
     "execution_count": 313,
     "metadata": {},
     "output_type": "execute_result"
    }
   ],
   "source": [
    "torch.manual_seed(10)\n",
    "x = torch.randn((4, 3, 5)).uniform_(-1, 1)\n",
    "y = torch.tensor_split(x, 3, dim=1)\n",
    "\n",
    "x, y, len(y), y[0].shape"
   ]
  },
  {
   "cell_type": "code",
   "execution_count": 314,
   "id": "627c5eb2",
   "metadata": {},
   "outputs": [
    {
     "data": {
      "text/plain": [
       "(tensor([[[-0.9891,  0.2736, -0.3410, -0.5595, -0.6359],\n",
       "          [-0.3519,  0.4749,  0.0566,  0.8611, -0.3574],\n",
       "          [-0.2926,  0.9788, -0.9538, -0.3936, -0.6204]],\n",
       " \n",
       "         [[ 0.9621,  0.5324, -0.3351, -0.4245,  0.3067],\n",
       "          [-0.3380,  0.3105, -0.5119, -0.6188, -0.0250],\n",
       "          [ 0.5872,  0.8517,  0.2210, -0.5939,  0.5228]],\n",
       " \n",
       "         [[ 0.3898,  0.4266, -0.3334, -0.1349,  0.4615],\n",
       "          [ 0.4131,  0.6642, -0.5998,  0.6279, -0.3890],\n",
       "          [-0.0251, -0.4707, -0.2964,  0.6742,  0.8543]],\n",
       " \n",
       "         [[ 0.3482, -0.7501, -0.3688,  0.6937, -0.2698],\n",
       "          [-0.8169,  0.2323, -0.8877, -0.0060, -0.1229],\n",
       "          [ 0.0096, -0.2381, -0.1461, -0.6045, -0.6602]]]),\n",
       " (tensor([[[-0.9891,  0.2736, -0.3410, -0.5595, -0.6359],\n",
       "           [-0.3519,  0.4749,  0.0566,  0.8611, -0.3574]],\n",
       "  \n",
       "          [[ 0.9621,  0.5324, -0.3351, -0.4245,  0.3067],\n",
       "           [-0.3380,  0.3105, -0.5119, -0.6188, -0.0250]],\n",
       "  \n",
       "          [[ 0.3898,  0.4266, -0.3334, -0.1349,  0.4615],\n",
       "           [ 0.4131,  0.6642, -0.5998,  0.6279, -0.3890]],\n",
       "  \n",
       "          [[ 0.3482, -0.7501, -0.3688,  0.6937, -0.2698],\n",
       "           [-0.8169,  0.2323, -0.8877, -0.0060, -0.1229]]]),\n",
       "  tensor([[[-0.2926,  0.9788, -0.9538, -0.3936, -0.6204]],\n",
       "  \n",
       "          [[ 0.5872,  0.8517,  0.2210, -0.5939,  0.5228]],\n",
       "  \n",
       "          [[-0.0251, -0.4707, -0.2964,  0.6742,  0.8543]],\n",
       "  \n",
       "          [[ 0.0096, -0.2381, -0.1461, -0.6045, -0.6602]]])),\n",
       " 2,\n",
       " torch.Size([4, 2, 5]),\n",
       " torch.Size([4, 1, 5]))"
      ]
     },
     "execution_count": 314,
     "metadata": {},
     "output_type": "execute_result"
    }
   ],
   "source": [
    "torch.manual_seed(10)\n",
    "x = torch.randn((4, 3, 5)).uniform_(-1, 1)\n",
    "y = torch.tensor_split(x, 2, dim=1)\n",
    "\n",
    "x, y, len(y), y[0].shape, y[1].shape"
   ]
  },
  {
   "cell_type": "code",
   "execution_count": 315,
   "id": "2db0c90f",
   "metadata": {},
   "outputs": [
    {
     "data": {
      "text/plain": [
       "(tensor([[[-0.9891,  0.2736, -0.3410, -0.5595, -0.6359],\n",
       "          [-0.3519,  0.4749,  0.0566,  0.8611, -0.3574],\n",
       "          [-0.2926,  0.9788, -0.9538, -0.3936, -0.6204]],\n",
       " \n",
       "         [[ 0.9621,  0.5324, -0.3351, -0.4245,  0.3067],\n",
       "          [-0.3380,  0.3105, -0.5119, -0.6188, -0.0250],\n",
       "          [ 0.5872,  0.8517,  0.2210, -0.5939,  0.5228]],\n",
       " \n",
       "         [[ 0.3898,  0.4266, -0.3334, -0.1349,  0.4615],\n",
       "          [ 0.4131,  0.6642, -0.5998,  0.6279, -0.3890],\n",
       "          [-0.0251, -0.4707, -0.2964,  0.6742,  0.8543]],\n",
       " \n",
       "         [[ 0.3482, -0.7501, -0.3688,  0.6937, -0.2698],\n",
       "          [-0.8169,  0.2323, -0.8877, -0.0060, -0.1229],\n",
       "          [ 0.0096, -0.2381, -0.1461, -0.6045, -0.6602]]]),\n",
       " (tensor([[[-0.9891,  0.2736, -0.3410, -0.5595, -0.6359]],\n",
       "  \n",
       "          [[ 0.9621,  0.5324, -0.3351, -0.4245,  0.3067]],\n",
       "  \n",
       "          [[ 0.3898,  0.4266, -0.3334, -0.1349,  0.4615]],\n",
       "  \n",
       "          [[ 0.3482, -0.7501, -0.3688,  0.6937, -0.2698]]]),\n",
       "  tensor([[[-0.3519,  0.4749,  0.0566,  0.8611, -0.3574]],\n",
       "  \n",
       "          [[-0.3380,  0.3105, -0.5119, -0.6188, -0.0250]],\n",
       "  \n",
       "          [[ 0.4131,  0.6642, -0.5998,  0.6279, -0.3890]],\n",
       "  \n",
       "          [[-0.8169,  0.2323, -0.8877, -0.0060, -0.1229]]]),\n",
       "  tensor([[[-0.2926,  0.9788, -0.9538, -0.3936, -0.6204]],\n",
       "  \n",
       "          [[ 0.5872,  0.8517,  0.2210, -0.5939,  0.5228]],\n",
       "  \n",
       "          [[-0.0251, -0.4707, -0.2964,  0.6742,  0.8543]],\n",
       "  \n",
       "          [[ 0.0096, -0.2381, -0.1461, -0.6045, -0.6602]]])),\n",
       " 3,\n",
       " torch.Size([4, 1, 5]),\n",
       " torch.Size([4, 1, 5]))"
      ]
     },
     "execution_count": 315,
     "metadata": {},
     "output_type": "execute_result"
    }
   ],
   "source": [
    "torch.manual_seed(10)\n",
    "x = torch.randn((4, 3, 5)).uniform_(-1, 1)\n",
    "y = torch.tensor_split(x, [1,2], dim=1) # in dim 1 indices 0:1, 1:2, 2:\n",
    "\n",
    "x, y, len(y), y[0].shape, y[1].shape"
   ]
  },
  {
   "cell_type": "code",
   "execution_count": 316,
   "id": "89f0f597",
   "metadata": {},
   "outputs": [
    {
     "data": {
      "text/plain": [
       "(tensor([[ 0,  1,  2,  3],\n",
       "         [ 4,  5,  6,  7],\n",
       "         [ 8,  9, 10, 11],\n",
       "         [12, 13, 14, 15]]),\n",
       " (tensor([[ 0,  1],\n",
       "          [ 4,  5],\n",
       "          [ 8,  9],\n",
       "          [12, 13]]),\n",
       "  tensor([[ 2,  3],\n",
       "          [ 6,  7],\n",
       "          [10, 11],\n",
       "          [14, 15]])),\n",
       " 2,\n",
       " torch.Size([4, 2]),\n",
       " torch.Size([4, 2]))"
      ]
     },
     "execution_count": 316,
     "metadata": {},
     "output_type": "execute_result"
    }
   ],
   "source": [
    "torch.manual_seed(10)\n",
    "x = torch.arange(16).reshape(4, 4)\n",
    "y = torch.hsplit(x, 2)\n",
    "\n",
    "x, y, len(y), y[0].shape, y[1].shape"
   ]
  },
  {
   "cell_type": "code",
   "execution_count": 317,
   "id": "55ecb133",
   "metadata": {},
   "outputs": [
    {
     "data": {
      "text/plain": [
       "(tensor([[[-0.9891,  0.2736, -0.3410, -0.5595, -0.6359],\n",
       "          [-0.3519,  0.4749,  0.0566,  0.8611, -0.3574],\n",
       "          [-0.2926,  0.9788, -0.9538, -0.3936, -0.6204]],\n",
       " \n",
       "         [[ 0.9621,  0.5324, -0.3351, -0.4245,  0.3067],\n",
       "          [-0.3380,  0.3105, -0.5119, -0.6188, -0.0250],\n",
       "          [ 0.5872,  0.8517,  0.2210, -0.5939,  0.5228]],\n",
       " \n",
       "         [[ 0.3898,  0.4266, -0.3334, -0.1349,  0.4615],\n",
       "          [ 0.4131,  0.6642, -0.5998,  0.6279, -0.3890],\n",
       "          [-0.0251, -0.4707, -0.2964,  0.6742,  0.8543]],\n",
       " \n",
       "         [[ 0.3482, -0.7501, -0.3688,  0.6937, -0.2698],\n",
       "          [-0.8169,  0.2323, -0.8877, -0.0060, -0.1229],\n",
       "          [ 0.0096, -0.2381, -0.1461, -0.6045, -0.6602]]]),\n",
       " (tensor([[[-0.9891,  0.2736, -0.3410, -0.5595, -0.6359]],\n",
       "  \n",
       "          [[ 0.9621,  0.5324, -0.3351, -0.4245,  0.3067]],\n",
       "  \n",
       "          [[ 0.3898,  0.4266, -0.3334, -0.1349,  0.4615]],\n",
       "  \n",
       "          [[ 0.3482, -0.7501, -0.3688,  0.6937, -0.2698]]]),\n",
       "  tensor([[[-0.3519,  0.4749,  0.0566,  0.8611, -0.3574]],\n",
       "  \n",
       "          [[-0.3380,  0.3105, -0.5119, -0.6188, -0.0250]],\n",
       "  \n",
       "          [[ 0.4131,  0.6642, -0.5998,  0.6279, -0.3890]],\n",
       "  \n",
       "          [[-0.8169,  0.2323, -0.8877, -0.0060, -0.1229]]]),\n",
       "  tensor([[[-0.2926,  0.9788, -0.9538, -0.3936, -0.6204]],\n",
       "  \n",
       "          [[ 0.5872,  0.8517,  0.2210, -0.5939,  0.5228]],\n",
       "  \n",
       "          [[-0.0251, -0.4707, -0.2964,  0.6742,  0.8543]],\n",
       "  \n",
       "          [[ 0.0096, -0.2381, -0.1461, -0.6045, -0.6602]]])),\n",
       " 3,\n",
       " torch.Size([4, 1, 5]),\n",
       " torch.Size([4, 1, 5]))"
      ]
     },
     "execution_count": 317,
     "metadata": {},
     "output_type": "execute_result"
    }
   ],
   "source": [
    "torch.manual_seed(10)\n",
    "x = torch.randn((4, 3, 5)).uniform_(-1, 1)\n",
    "y = torch.hsplit(x, 3) # dim >= 2 split with dim=1\n",
    "\n",
    "x, y, len(y), y[0].shape, y[1].shape"
   ]
  },
  {
   "cell_type": "code",
   "execution_count": 318,
   "id": "1e26a08c",
   "metadata": {},
   "outputs": [
    {
     "data": {
      "text/plain": [
       "(tensor([[ 0,  1,  2,  3],\n",
       "         [ 4,  5,  6,  7],\n",
       "         [ 8,  9, 10, 11],\n",
       "         [12, 13, 14, 15]]),\n",
       " (tensor([[0, 1, 2, 3],\n",
       "          [4, 5, 6, 7]]),\n",
       "  tensor([[ 8,  9, 10, 11],\n",
       "          [12, 13, 14, 15]])),\n",
       " 2,\n",
       " torch.Size([2, 4]),\n",
       " torch.Size([2, 4]))"
      ]
     },
     "execution_count": 318,
     "metadata": {},
     "output_type": "execute_result"
    }
   ],
   "source": [
    "torch.manual_seed(10)\n",
    "x = torch.arange(16).reshape(4, 4)\n",
    "y = torch.vsplit(x, 2)\n",
    "\n",
    "x, y, len(y), y[0].shape, y[1].shape"
   ]
  },
  {
   "cell_type": "code",
   "execution_count": 319,
   "id": "a391a46a",
   "metadata": {},
   "outputs": [
    {
     "data": {
      "text/plain": [
       "(tensor([[[-0.9891,  0.2736, -0.3410, -0.5595, -0.6359],\n",
       "          [-0.3519,  0.4749,  0.0566,  0.8611, -0.3574],\n",
       "          [-0.2926,  0.9788, -0.9538, -0.3936, -0.6204]],\n",
       " \n",
       "         [[ 0.9621,  0.5324, -0.3351, -0.4245,  0.3067],\n",
       "          [-0.3380,  0.3105, -0.5119, -0.6188, -0.0250],\n",
       "          [ 0.5872,  0.8517,  0.2210, -0.5939,  0.5228]],\n",
       " \n",
       "         [[ 0.3898,  0.4266, -0.3334, -0.1349,  0.4615],\n",
       "          [ 0.4131,  0.6642, -0.5998,  0.6279, -0.3890],\n",
       "          [-0.0251, -0.4707, -0.2964,  0.6742,  0.8543]],\n",
       " \n",
       "         [[ 0.3482, -0.7501, -0.3688,  0.6937, -0.2698],\n",
       "          [-0.8169,  0.2323, -0.8877, -0.0060, -0.1229],\n",
       "          [ 0.0096, -0.2381, -0.1461, -0.6045, -0.6602]]]),\n",
       " (tensor([[[-0.9891,  0.2736, -0.3410, -0.5595, -0.6359],\n",
       "           [-0.3519,  0.4749,  0.0566,  0.8611, -0.3574],\n",
       "           [-0.2926,  0.9788, -0.9538, -0.3936, -0.6204]],\n",
       "  \n",
       "          [[ 0.9621,  0.5324, -0.3351, -0.4245,  0.3067],\n",
       "           [-0.3380,  0.3105, -0.5119, -0.6188, -0.0250],\n",
       "           [ 0.5872,  0.8517,  0.2210, -0.5939,  0.5228]]]),\n",
       "  tensor([[[ 0.3898,  0.4266, -0.3334, -0.1349,  0.4615],\n",
       "           [ 0.4131,  0.6642, -0.5998,  0.6279, -0.3890],\n",
       "           [-0.0251, -0.4707, -0.2964,  0.6742,  0.8543]],\n",
       "  \n",
       "          [[ 0.3482, -0.7501, -0.3688,  0.6937, -0.2698],\n",
       "           [-0.8169,  0.2323, -0.8877, -0.0060, -0.1229],\n",
       "           [ 0.0096, -0.2381, -0.1461, -0.6045, -0.6602]]])),\n",
       " 2,\n",
       " torch.Size([2, 3, 5]),\n",
       " torch.Size([2, 3, 5]))"
      ]
     },
     "execution_count": 319,
     "metadata": {},
     "output_type": "execute_result"
    }
   ],
   "source": [
    "torch.manual_seed(10)\n",
    "x = torch.randn((4, 3, 5)).uniform_(-1, 1)\n",
    "y = torch.vsplit(x, 2) # dim >= 2 split with dim=0 => tensor_split(x, 2, dim=0)\n",
    "\n",
    "x, y, len(y), y[0].shape, y[1].shape"
   ]
  },
  {
   "cell_type": "code",
   "execution_count": 320,
   "id": "5df3865c",
   "metadata": {},
   "outputs": [
    {
     "data": {
      "text/plain": [
       "(tensor([[0, 1],\n",
       "         [2, 3],\n",
       "         [4, 5],\n",
       "         [6, 7]]),\n",
       " (tensor([[0, 1],\n",
       "          [2, 3]]),\n",
       "  tensor([[4, 5],\n",
       "          [6, 7]])),\n",
       " (tensor([[0, 1],\n",
       "          [2, 3]]),\n",
       "  tensor([[4, 5],\n",
       "          [6, 7]])))"
      ]
     },
     "execution_count": 320,
     "metadata": {},
     "output_type": "execute_result"
    }
   ],
   "source": [
    "x = torch.arange(8).reshape(4, 2)\n",
    "y = torch.chunk(x, 2)\n",
    "z = torch.split(x, 2)\n",
    "x, y, z\n"
   ]
  },
  {
   "cell_type": "code",
   "execution_count": 321,
   "id": "cbfe9f22",
   "metadata": {},
   "outputs": [
    {
     "data": {
      "text/plain": [
       "(tensor([[0, 1],\n",
       "         [2, 3],\n",
       "         [4, 5],\n",
       "         [6, 7]]),\n",
       " (tensor([[0],\n",
       "          [2],\n",
       "          [4],\n",
       "          [6]]),\n",
       "  tensor([[1],\n",
       "          [3],\n",
       "          [5],\n",
       "          [7]])),\n",
       " (tensor([[0],\n",
       "          [2],\n",
       "          [4],\n",
       "          [6]]),\n",
       "  tensor([[1],\n",
       "          [3],\n",
       "          [5],\n",
       "          [7]])))"
      ]
     },
     "execution_count": 321,
     "metadata": {},
     "output_type": "execute_result"
    }
   ],
   "source": [
    "x = torch.arange(8).reshape(4, 2)\n",
    "y = torch.chunk(x, 2, dim=1)\n",
    "z = torch.split(x, 1, dim=1)\n",
    "x, y, z\n"
   ]
  },
  {
   "cell_type": "code",
   "execution_count": 322,
   "id": "47fd5b9c",
   "metadata": {},
   "outputs": [
    {
     "data": {
      "text/plain": [
       "(tensor([[ 0,  1,  2,  3],\n",
       "         [ 4,  5,  6,  7],\n",
       "         [ 8,  9, 10, 11],\n",
       "         [12, 13, 14, 15]]),\n",
       " (tensor([[ 0,  1],\n",
       "          [ 4,  5],\n",
       "          [ 8,  9],\n",
       "          [12, 13]]),\n",
       "  tensor([[ 2,  3],\n",
       "          [ 6,  7],\n",
       "          [10, 11],\n",
       "          [14, 15]])),\n",
       " (tensor([[ 0,  1],\n",
       "          [ 4,  5],\n",
       "          [ 8,  9],\n",
       "          [12, 13]]),\n",
       "  tensor([[ 2,  3],\n",
       "          [ 6,  7],\n",
       "          [10, 11],\n",
       "          [14, 15]])))"
      ]
     },
     "execution_count": 322,
     "metadata": {},
     "output_type": "execute_result"
    }
   ],
   "source": [
    "x = torch.arange(16).reshape(4, 4)\n",
    "y = torch.chunk(x, 2, dim=1)\n",
    "z = torch.split(x, 2, dim=1)\n",
    "x, y, z\n"
   ]
  },
  {
   "cell_type": "code",
   "execution_count": 323,
   "id": "a204422d",
   "metadata": {},
   "outputs": [
    {
     "data": {
      "text/plain": [
       "(tensor([[ 0,  1,  2,  3],\n",
       "         [ 4,  5,  6,  7],\n",
       "         [ 8,  9, 10, 11],\n",
       "         [12, 13, 14, 15]]),\n",
       " (tensor([[ 0,  1],\n",
       "          [ 4,  5],\n",
       "          [ 8,  9],\n",
       "          [12, 13]]),\n",
       "  tensor([[ 2,  3],\n",
       "          [ 6,  7],\n",
       "          [10, 11],\n",
       "          [14, 15]])),\n",
       " (tensor([[ 0,  1,  2],\n",
       "          [ 4,  5,  6],\n",
       "          [ 8,  9, 10],\n",
       "          [12, 13, 14]]),\n",
       "  tensor([[ 3],\n",
       "          [ 7],\n",
       "          [11],\n",
       "          [15]])))"
      ]
     },
     "execution_count": 323,
     "metadata": {},
     "output_type": "execute_result"
    }
   ],
   "source": [
    "x = torch.arange(16).reshape(4, 4)\n",
    "y = torch.chunk(x, 3, dim=1)\n",
    "z = torch.split(x, 3, dim=1)\n",
    "x, y, z\n"
   ]
  },
  {
   "cell_type": "code",
   "execution_count": 324,
   "id": "eb681ba0",
   "metadata": {},
   "outputs": [
    {
     "data": {
      "text/plain": [
       "(tensor([[ 0,  1,  2,  3],\n",
       "         [ 4,  5,  6,  7],\n",
       "         [ 8,  9, 10, 11],\n",
       "         [12, 13, 14, 15]]),\n",
       " (tensor([[ 0,  1],\n",
       "          [ 4,  5],\n",
       "          [ 8,  9],\n",
       "          [12, 13]]),\n",
       "  tensor([[ 2,  3],\n",
       "          [ 6,  7],\n",
       "          [10, 11],\n",
       "          [14, 15]])),\n",
       " (tensor([[ 0],\n",
       "          [ 4],\n",
       "          [ 8],\n",
       "          [12]]),\n",
       "  tensor([[ 1,  2,  3],\n",
       "          [ 5,  6,  7],\n",
       "          [ 9, 10, 11],\n",
       "          [13, 14, 15]])),\n",
       " (tensor([[ 0],\n",
       "          [ 4],\n",
       "          [ 8],\n",
       "          [12]]),\n",
       "  tensor([[ 1,  2,  3],\n",
       "          [ 5,  6,  7],\n",
       "          [ 9, 10, 11],\n",
       "          [13, 14, 15]]),\n",
       "  tensor([], size=(4, 0), dtype=torch.int64)))"
      ]
     },
     "execution_count": 324,
     "metadata": {},
     "output_type": "execute_result"
    }
   ],
   "source": [
    "x = torch.arange(16).reshape(4, 4)\n",
    "y = torch.chunk(x, 3, dim=1)\n",
    "# z = torch.split(x, (1, 2), dim=1) # error\n",
    "z = torch.split(x, (1, 3), dim=1) # split size 2. 1 + 3 = 4\n",
    "w = torch.tensor_split(x, (1, 4), dim=1)\n",
    "x, y, z, w\n"
   ]
  },
  {
   "cell_type": "code",
   "execution_count": 325,
   "id": "581f836a",
   "metadata": {},
   "outputs": [
    {
     "data": {
      "text/plain": [
       "(tensor([[ 0,  1,  2],\n",
       "         [ 3,  4,  5],\n",
       "         [ 6,  7,  8],\n",
       "         [ 9, 10, 11],\n",
       "         [12, 13, 14],\n",
       "         [15, 16, 17],\n",
       "         [18, 19, 20],\n",
       "         [21, 22, 23],\n",
       "         [24, 25, 26]]),\n",
       " (tensor([[ 0],\n",
       "          [ 3],\n",
       "          [ 6],\n",
       "          [ 9],\n",
       "          [12],\n",
       "          [15],\n",
       "          [18],\n",
       "          [21],\n",
       "          [24]]),\n",
       "  tensor([[ 1],\n",
       "          [ 4],\n",
       "          [ 7],\n",
       "          [10],\n",
       "          [13],\n",
       "          [16],\n",
       "          [19],\n",
       "          [22],\n",
       "          [25]]),\n",
       "  tensor([[ 2],\n",
       "          [ 5],\n",
       "          [ 8],\n",
       "          [11],\n",
       "          [14],\n",
       "          [17],\n",
       "          [20],\n",
       "          [23],\n",
       "          [26]])),\n",
       " (tensor([[ 0,  1,  2],\n",
       "          [ 3,  4,  5],\n",
       "          [ 6,  7,  8],\n",
       "          [ 9, 10, 11],\n",
       "          [12, 13, 14],\n",
       "          [15, 16, 17],\n",
       "          [18, 19, 20],\n",
       "          [21, 22, 23],\n",
       "          [24, 25, 26]]),))"
      ]
     },
     "execution_count": 325,
     "metadata": {},
     "output_type": "execute_result"
    }
   ],
   "source": [
    "x = torch.arange(27).reshape(9, 3)\n",
    "y = torch.chunk(x, 3, dim=1)\n",
    "z = torch.split(x, 3, dim=1)\n",
    "x, y, z\n"
   ]
  },
  {
   "cell_type": "code",
   "execution_count": 326,
   "id": "d29d18cb",
   "metadata": {},
   "outputs": [
    {
     "data": {
      "text/plain": [
       "(tensor([[ 0,  1,  2],\n",
       "         [ 3,  4,  5],\n",
       "         [ 6,  7,  8],\n",
       "         [ 9, 10, 11],\n",
       "         [12, 13, 14],\n",
       "         [15, 16, 17],\n",
       "         [18, 19, 20],\n",
       "         [21, 22, 23],\n",
       "         [24, 25, 26]]),\n",
       " (tensor([[ 0],\n",
       "          [ 3],\n",
       "          [ 6],\n",
       "          [ 9],\n",
       "          [12],\n",
       "          [15],\n",
       "          [18],\n",
       "          [21],\n",
       "          [24]]),\n",
       "  tensor([[ 1],\n",
       "          [ 4],\n",
       "          [ 7],\n",
       "          [10],\n",
       "          [13],\n",
       "          [16],\n",
       "          [19],\n",
       "          [22],\n",
       "          [25]]),\n",
       "  tensor([[ 2],\n",
       "          [ 5],\n",
       "          [ 8],\n",
       "          [11],\n",
       "          [14],\n",
       "          [17],\n",
       "          [20],\n",
       "          [23],\n",
       "          [26]])),\n",
       " (tensor([[ 0,  1],\n",
       "          [ 3,  4],\n",
       "          [ 6,  7],\n",
       "          [ 9, 10],\n",
       "          [12, 13],\n",
       "          [15, 16],\n",
       "          [18, 19],\n",
       "          [21, 22],\n",
       "          [24, 25]]),\n",
       "  tensor([[ 2],\n",
       "          [ 5],\n",
       "          [ 8],\n",
       "          [11],\n",
       "          [14],\n",
       "          [17],\n",
       "          [20],\n",
       "          [23],\n",
       "          [26]])))"
      ]
     },
     "execution_count": 326,
     "metadata": {},
     "output_type": "execute_result"
    }
   ],
   "source": [
    "x = torch.arange(27).reshape(9, 3)\n",
    "y = torch.chunk(x, 3, dim=1)\n",
    "z = torch.split(x, 2, dim=1)\n",
    "x, y, z\n"
   ]
  },
  {
   "cell_type": "code",
   "execution_count": 327,
   "id": "6c269204",
   "metadata": {},
   "outputs": [
    {
     "data": {
      "text/plain": [
       "(tensor([ 0,  1,  2,  3,  4,  5,  6,  7,  8,  9, 10, 11, 12, 13]),\n",
       " (tensor([0, 1, 2]),\n",
       "  tensor([3, 4, 5]),\n",
       "  tensor([6, 7, 8]),\n",
       "  tensor([ 9, 10, 11]),\n",
       "  tensor([12, 13])),\n",
       " (tensor([0, 1, 2]),\n",
       "  tensor([3, 4, 5]),\n",
       "  tensor([6, 7]),\n",
       "  tensor([8, 9]),\n",
       "  tensor([10, 11]),\n",
       "  tensor([12, 13])),\n",
       " (tensor([0, 1, 2, 3]),\n",
       "  tensor([4, 5, 6, 7]),\n",
       "  tensor([ 8,  9, 10, 11]),\n",
       "  tensor([12, 13])))"
      ]
     },
     "execution_count": 327,
     "metadata": {},
     "output_type": "execute_result"
    }
   ],
   "source": [
    "x = torch.arange(14)\n",
    "y = x.chunk(6)\n",
    "z = x.tensor_split(6)\n",
    "w = x.split(4)\n",
    "x, y, z, w"
   ]
  },
  {
   "cell_type": "code",
   "execution_count": 328,
   "id": "0eb79e0c",
   "metadata": {},
   "outputs": [
    {
     "data": {
      "text/plain": [
       "(tensor([[ 0,  1,  2,  3,  4,  5,  6,  7,  8,  9, 10, 11],\n",
       "         [12, 13, 14, 15, 16, 17, 18, 19, 20, 21, 22, 23]]),\n",
       " (tensor([[ 0,  1,  2,  3,  4],\n",
       "          [12, 13, 14, 15, 16]]),\n",
       "  tensor([[ 5,  6,  7,  8,  9],\n",
       "          [17, 18, 19, 20, 21]]),\n",
       "  tensor([[10, 11],\n",
       "          [22, 23]])))"
      ]
     },
     "execution_count": 328,
     "metadata": {},
     "output_type": "execute_result"
    }
   ],
   "source": [
    "x = torch.arange(24).reshape(2, 12)\n",
    "y = torch.split(x, 5, dim=-1)\n",
    "x, y"
   ]
  },
  {
   "cell_type": "code",
   "execution_count": 329,
   "id": "29a3f5bd",
   "metadata": {},
   "outputs": [
    {
     "data": {
      "text/plain": [
       "([tensor([0]),\n",
       "  tensor([1]),\n",
       "  tensor([2]),\n",
       "  tensor([3]),\n",
       "  tensor([4]),\n",
       "  tensor([5]),\n",
       "  tensor([6]),\n",
       "  tensor([7]),\n",
       "  tensor([8]),\n",
       "  tensor([9])],\n",
       " tensor([0, 1, 2, 3, 4, 5, 6, 7, 8, 9]))"
      ]
     },
     "execution_count": 329,
     "metadata": {},
     "output_type": "execute_result"
    }
   ],
   "source": [
    "x = [torch.tensor([i]) for i in range(10)]\n",
    "y = torch.cat(x)\n",
    "x, y\n"
   ]
  },
  {
   "cell_type": "code",
   "execution_count": 330,
   "id": "72a8bb2c",
   "metadata": {},
   "outputs": [
    {
     "data": {
      "text/plain": [
       "(torch.Size([8, 3]), torch.Size([4, 6]), torch.Size([2, 4, 3]))"
      ]
     },
     "execution_count": 330,
     "metadata": {},
     "output_type": "execute_result"
    }
   ],
   "source": [
    "x = torch.rand((4, 3))\n",
    "y = torch.randn((4, 3))\n",
    "z = torch.cat([x, y], axis=0)\n",
    "w = torch.cat([x, y], axis=1)\n",
    "u = torch.stack([x, y])\n",
    "\n",
    "z.shape, w.shape, u.shape"
   ]
  },
  {
   "cell_type": "code",
   "execution_count": 331,
   "id": "0024c9a6",
   "metadata": {},
   "outputs": [
    {
     "data": {
      "text/plain": [
       "tensor([[ 0.6641,  0.9510,  0.1006],\n",
       "        [ 0.0280,  0.2296,  0.9799],\n",
       "        [ 0.9500,  0.0135,  0.6213],\n",
       "        [ 0.5674,  0.9417,  0.3501],\n",
       "        [-0.3283,  0.7096,  0.4556],\n",
       "        [ 0.2015, -0.1900,  0.2915],\n",
       "        [ 0.2235,  1.2975, -0.1288],\n",
       "        [ 0.1381,  0.0779,  0.1783]])"
      ]
     },
     "execution_count": 331,
     "metadata": {},
     "output_type": "execute_result"
    }
   ],
   "source": [
    "z"
   ]
  },
  {
   "cell_type": "code",
   "execution_count": 332,
   "id": "5cac57da",
   "metadata": {},
   "outputs": [
    {
     "data": {
      "text/plain": [
       "tensor([[[ 0.6641,  0.9510,  0.1006],\n",
       "         [ 0.0280,  0.2296,  0.9799],\n",
       "         [ 0.9500,  0.0135,  0.6213],\n",
       "         [ 0.5674,  0.9417,  0.3501]],\n",
       "\n",
       "        [[-0.3283,  0.7096,  0.4556],\n",
       "         [ 0.2015, -0.1900,  0.2915],\n",
       "         [ 0.2235,  1.2975, -0.1288],\n",
       "         [ 0.1381,  0.0779,  0.1783]]])"
      ]
     },
     "execution_count": 332,
     "metadata": {},
     "output_type": "execute_result"
    }
   ],
   "source": [
    "u"
   ]
  },
  {
   "cell_type": "code",
   "execution_count": 333,
   "id": "5915bf52",
   "metadata": {},
   "outputs": [
    {
     "data": {
      "text/plain": [
       "(torch.Size([8, 3]), torch.Size([4, 2, 3]))"
      ]
     },
     "execution_count": 333,
     "metadata": {},
     "output_type": "execute_result"
    }
   ],
   "source": [
    "x = torch.rand((4, 3))\n",
    "y = torch.randn((4, 3))\n",
    "z = torch.cat([x, y], axis=0)\n",
    "u = torch.stack([x, y], dim=1)\n",
    "\n",
    "z.shape, u.shape"
   ]
  },
  {
   "cell_type": "code",
   "execution_count": 334,
   "id": "aefb0857",
   "metadata": {},
   "outputs": [
    {
     "data": {
      "text/plain": [
       "(torch.Size([8, 3]), torch.Size([4, 3, 2]))"
      ]
     },
     "execution_count": 334,
     "metadata": {},
     "output_type": "execute_result"
    }
   ],
   "source": [
    "x = torch.rand((4, 3))\n",
    "y = torch.randn((4, 3))\n",
    "z = torch.cat([x, y], axis=0)\n",
    "u = torch.stack([x, y], dim=-1)\n",
    "\n",
    "z.shape, u.shape"
   ]
  },
  {
   "cell_type": "code",
   "execution_count": 335,
   "id": "61b30073",
   "metadata": {},
   "outputs": [
    {
     "data": {
      "text/plain": [
       "(torch.Size([3]), torch.Size([1, 3, 2]))"
      ]
     },
     "execution_count": 335,
     "metadata": {},
     "output_type": "execute_result"
    }
   ],
   "source": [
    "a = torch.tensor([1, 2, 3])\n",
    "b = torch.tensor([4, 5, 6])\n",
    "z = torch.dstack((a,b))\n",
    "a.shape, z.shape"
   ]
  },
  {
   "cell_type": "code",
   "execution_count": 336,
   "id": "b9f5b5c4",
   "metadata": {},
   "outputs": [
    {
     "data": {
      "text/plain": [
       "(tensor([1, 2, 3]), tensor([4, 5, 6]), tensor([1, 2, 3, 4, 5, 6]))"
      ]
     },
     "execution_count": 336,
     "metadata": {},
     "output_type": "execute_result"
    }
   ],
   "source": [
    "x = torch.tensor([1, 2, 3])\n",
    "y = torch.tensor([4, 5, 6])\n",
    "z = torch.hstack([x, y])\n",
    "\n",
    "x, y, z"
   ]
  },
  {
   "cell_type": "code",
   "execution_count": 337,
   "id": "afbabaf5",
   "metadata": {},
   "outputs": [
    {
     "data": {
      "text/plain": [
       "torch.Size([2, 2, 3, 5])"
      ]
     },
     "execution_count": 337,
     "metadata": {},
     "output_type": "execute_result"
    }
   ],
   "source": [
    "x = torch.randn((2, 3, 5))\n",
    "y = torch.randn((2, 3, 5))\n",
    "\n",
    "z = torch.stack([x, y])\n",
    "z.shape"
   ]
  },
  {
   "cell_type": "code",
   "execution_count": 338,
   "id": "3b7aa047",
   "metadata": {},
   "outputs": [
    {
     "data": {
      "text/plain": [
       "(torch.Size([2, 3, 10]), torch.Size([2, 2, 3, 5]))"
      ]
     },
     "execution_count": 338,
     "metadata": {},
     "output_type": "execute_result"
    }
   ],
   "source": [
    "x = torch.randn((2, 3, 5))\n",
    "y = torch.randn((2, 3, 5))\n",
    "\n",
    "z = torch.dstack([x, y])\n",
    "w = torch.stack([x, y])\n",
    "z.shape, w.shape"
   ]
  },
  {
   "cell_type": "code",
   "execution_count": 339,
   "id": "b08d01c7",
   "metadata": {},
   "outputs": [
    {
     "data": {
      "text/plain": [
       "torch.Size([2, 3, 20])"
      ]
     },
     "execution_count": 339,
     "metadata": {},
     "output_type": "execute_result"
    }
   ],
   "source": [
    "x = torch.randn((2, 3, 5))\n",
    "y = torch.randn((2, 3, 15))\n",
    "\n",
    "z = torch.dstack([x, y])\n",
    "# w = torch.stack([x, y]) # error\n",
    "\n",
    "z.shape"
   ]
  },
  {
   "cell_type": "code",
   "execution_count": 340,
   "id": "a920b5a1",
   "metadata": {},
   "outputs": [
    {
     "data": {
      "text/plain": [
       "(torch.Size([2, 6, 5]), torch.Size([2, 2, 3, 5]))"
      ]
     },
     "execution_count": 340,
     "metadata": {},
     "output_type": "execute_result"
    }
   ],
   "source": [
    "x = torch.randn((2, 3, 5))\n",
    "y = torch.randn((2, 3, 5))\n",
    "\n",
    "z = torch.hstack([x, y])\n",
    "w = torch.stack([x, y]) \n",
    "\n",
    "z.shape, w.shape"
   ]
  },
  {
   "cell_type": "code",
   "execution_count": 341,
   "id": "6b084fba",
   "metadata": {},
   "outputs": [
    {
     "data": {
      "text/plain": [
       "torch.Size([2, 16, 5, 10])"
      ]
     },
     "execution_count": 341,
     "metadata": {},
     "output_type": "execute_result"
    }
   ],
   "source": [
    "x = torch.randn((2, 3, 5, 10))\n",
    "y = torch.randn((2, 13, 5, 10))\n",
    "\n",
    "z = torch.hstack([x, y])\n",
    "\n",
    "z.shape"
   ]
  },
  {
   "cell_type": "code",
   "execution_count": 342,
   "id": "2b825799",
   "metadata": {},
   "outputs": [
    {
     "data": {
      "text/plain": [
       "(tensor([[0, 1],\n",
       "         [2, 3],\n",
       "         [4, 5],\n",
       "         [6, 7]]),\n",
       " tensor([[ 0,  1,  2,  3,  4],\n",
       "         [ 5,  6,  7,  8,  9],\n",
       "         [10, 11, 12, 13, 14],\n",
       "         [15, 16, 17, 18, 19]]),\n",
       " tensor([[ 0,  1,  0,  1,  2,  3,  4],\n",
       "         [ 2,  3,  5,  6,  7,  8,  9],\n",
       "         [ 4,  5, 10, 11, 12, 13, 14],\n",
       "         [ 6,  7, 15, 16, 17, 18, 19]]))"
      ]
     },
     "execution_count": 342,
     "metadata": {},
     "output_type": "execute_result"
    }
   ],
   "source": [
    "x = torch.arange(8).reshape(4, 2)\n",
    "y = torch.arange(20).reshape(4, 5)\n",
    "\n",
    "z = torch.hstack([x, y])\n",
    "\n",
    "x, y, z"
   ]
  },
  {
   "cell_type": "code",
   "execution_count": 343,
   "id": "631628b1",
   "metadata": {},
   "outputs": [
    {
     "data": {
      "text/plain": [
       "(tensor([1, 2, 3]),\n",
       " tensor([4, 5, 6]),\n",
       " tensor([[1, 2, 3],\n",
       "         [4, 5, 6]]))"
      ]
     },
     "execution_count": 343,
     "metadata": {},
     "output_type": "execute_result"
    }
   ],
   "source": [
    "x = torch.tensor([1, 2, 3])\n",
    "y = torch.tensor([4, 5, 6])\n",
    "z = torch.vstack([x, y])\n",
    "\n",
    "x, y, z"
   ]
  },
  {
   "cell_type": "code",
   "execution_count": 344,
   "id": "c932e302",
   "metadata": {},
   "outputs": [
    {
     "data": {
      "text/plain": [
       "torch.Size([14, 3, 5, 10])"
      ]
     },
     "execution_count": 344,
     "metadata": {},
     "output_type": "execute_result"
    }
   ],
   "source": [
    "x = torch.randn((2, 3, 5, 10))\n",
    "y = torch.randn((12, 3, 5, 10))\n",
    "\n",
    "z = torch.vstack([x, y])\n",
    "\n",
    "z.shape"
   ]
  },
  {
   "cell_type": "code",
   "execution_count": 345,
   "id": "98e985bb",
   "metadata": {},
   "outputs": [
    {
     "data": {
      "text/plain": [
       "torch.Size([2, 6, 5, 10])"
      ]
     },
     "execution_count": 345,
     "metadata": {},
     "output_type": "execute_result"
    }
   ],
   "source": [
    "x = torch.randn((2, 3, 5, 10))\n",
    "y = torch.randn((2, 3, 5, 10))\n",
    "\n",
    "z = torch.column_stack([x, y])\n",
    "\n",
    "z.shape"
   ]
  },
  {
   "cell_type": "code",
   "execution_count": 346,
   "id": "00103f81",
   "metadata": {},
   "outputs": [
    {
     "data": {
      "text/plain": [
       "(tensor([-1.2116, -0.5383, -0.1504, -0.1749,  1.7689]),\n",
       " tensor([[ 1.2172,  0.5667],\n",
       "         [ 0.0333, -0.4585],\n",
       "         [-0.9698,  1.2196],\n",
       "         [ 0.6280, -0.4454],\n",
       "         [-0.6688,  1.6057]]),\n",
       " tensor([[-1.2116,  1.2172,  0.5667],\n",
       "         [-0.5383,  0.0333, -0.4585],\n",
       "         [-0.1504, -0.9698,  1.2196],\n",
       "         [-0.1749,  0.6280, -0.4454],\n",
       "         [ 1.7689, -0.6688,  1.6057]]))"
      ]
     },
     "execution_count": 346,
     "metadata": {},
     "output_type": "execute_result"
    }
   ],
   "source": [
    "x = torch.randn((5, )) \n",
    "y = torch.randn((5, 2))\n",
    "\n",
    "z = torch.column_stack([x, y])  # same as hstack but can use column x instead of x of shape 5, 1\n",
    "\n",
    "x, y, z"
   ]
  },
  {
   "cell_type": "code",
   "execution_count": 347,
   "id": "81a62f4c",
   "metadata": {},
   "outputs": [
    {
     "data": {
      "text/plain": [
       "tensor([-1.2116, -0.5383, -0.1504, -0.1749,  1.7689])"
      ]
     },
     "execution_count": 347,
     "metadata": {},
     "output_type": "execute_result"
    }
   ],
   "source": [
    "x.T"
   ]
  },
  {
   "cell_type": "code",
   "execution_count": 348,
   "id": "c67ddf93",
   "metadata": {},
   "outputs": [
    {
     "data": {
      "text/plain": [
       "(tensor([[1, 2],\n",
       "         [3, 2]]),\n",
       " tensor([[1, 1],\n",
       "         [4, 3]]))"
      ]
     },
     "execution_count": 348,
     "metadata": {},
     "output_type": "execute_result"
    }
   ],
   "source": [
    "t = torch.tensor([[1, 2], [3, 4]])\n",
    "torch.gather(t, 0, torch.tensor([[0, 0], [1, 0]])),torch.gather(t, 1, torch.tensor([[0, 0], [1, 0]]))"
   ]
  },
  {
   "cell_type": "code",
   "execution_count": 349,
   "id": "08829216",
   "metadata": {},
   "outputs": [
    {
     "data": {
      "text/plain": [
       "tensor([[1, 2, 3],\n",
       "        [4, 2, 3]])"
      ]
     },
     "execution_count": 349,
     "metadata": {},
     "output_type": "execute_result"
    }
   ],
   "source": [
    "t = torch.tensor([[1, 2, 3], [4,5,6]])\n",
    "torch.gather(t, 0, torch.tensor([[0, 0, 0], [1, 0, 0]]))"
   ]
  },
  {
   "cell_type": "code",
   "execution_count": 350,
   "id": "9f9e8226",
   "metadata": {},
   "outputs": [
    {
     "data": {
      "text/plain": [
       "(tensor([[[0.1197, 0.2728],\n",
       "          [0.3819, 0.7567],\n",
       "          [0.6406, 0.2714]],\n",
       " \n",
       "         [[0.5889, 0.6309],\n",
       "          [0.1938, 0.4290],\n",
       "          [0.2140, 0.7119]],\n",
       " \n",
       "         [[0.3032, 0.7327],\n",
       "          [0.8981, 0.7449],\n",
       "          [0.3084, 0.8792]],\n",
       " \n",
       "         [[0.1399, 0.9273],\n",
       "          [0.7912, 0.7858],\n",
       "          [0.5700, 0.4172]]]),\n",
       " tensor([[[0.1197, 0.2728],\n",
       "          [0.3819, 0.7567],\n",
       "          [0.6406, 0.2714]],\n",
       " \n",
       "         [[0.3032, 0.7327],\n",
       "          [0.8981, 0.7449],\n",
       "          [0.3084, 0.8792]]]))"
      ]
     },
     "execution_count": 350,
     "metadata": {},
     "output_type": "execute_result"
    }
   ],
   "source": [
    "x = torch.rand((4, 3, 2))\n",
    "y = torch.index_select(x, 0, torch.tensor([0, 2]))\n",
    "x, y"
   ]
  },
  {
   "cell_type": "code",
   "execution_count": 351,
   "id": "69e53293",
   "metadata": {},
   "outputs": [
    {
     "data": {
      "text/plain": [
       "(tensor([[[0.2588, 0.4315],\n",
       "          [0.4071, 0.9524],\n",
       "          [0.8136, 0.7359]],\n",
       " \n",
       "         [[0.9063, 0.7745],\n",
       "          [0.5473, 0.4315],\n",
       "          [0.9037, 0.2336]],\n",
       " \n",
       "         [[0.7448, 0.3647],\n",
       "          [0.4384, 0.3581],\n",
       "          [0.0176, 0.9219]],\n",
       " \n",
       "         [[0.8851, 0.8574],\n",
       "          [0.1434, 0.1502],\n",
       "          [0.7832, 0.0542]]]),\n",
       " tensor([[[0.2588, 0.4315],\n",
       "          [0.8136, 0.7359]],\n",
       " \n",
       "         [[0.9063, 0.7745],\n",
       "          [0.9037, 0.2336]],\n",
       " \n",
       "         [[0.7448, 0.3647],\n",
       "          [0.0176, 0.9219]],\n",
       " \n",
       "         [[0.8851, 0.8574],\n",
       "          [0.7832, 0.0542]]]),\n",
       " torch.Size([4, 2, 2]))"
      ]
     },
     "execution_count": 351,
     "metadata": {},
     "output_type": "execute_result"
    }
   ],
   "source": [
    "x = torch.rand((4, 3, 2))\n",
    "y = torch.index_select(x, 1, torch.tensor([0, 2]))\n",
    "x, y, y.shape"
   ]
  },
  {
   "cell_type": "code",
   "execution_count": 352,
   "id": "1b6d7b06",
   "metadata": {},
   "outputs": [
    {
     "data": {
      "text/plain": [
       "(tensor([[[0.6126, 0.8412],\n",
       "          [0.6581, 0.4990],\n",
       "          [0.6855, 0.6859]],\n",
       " \n",
       "         [[0.3530, 0.0777],\n",
       "          [0.3486, 0.5891],\n",
       "          [0.3117, 0.4206]],\n",
       " \n",
       "         [[0.7498, 0.5268],\n",
       "          [0.0200, 0.3796],\n",
       "          [0.0572, 0.8437]],\n",
       " \n",
       "         [[0.4454, 0.4888],\n",
       "          [0.4468, 0.3609],\n",
       "          [0.4953, 0.2509]]]),\n",
       " tensor([[[0.6126, 0.8412]],\n",
       " \n",
       "         [[0.3530, 0.0777]],\n",
       " \n",
       "         [[0.7498, 0.5268]],\n",
       " \n",
       "         [[0.4454, 0.4888]]]),\n",
       " torch.Size([4, 1, 2]))"
      ]
     },
     "execution_count": 352,
     "metadata": {},
     "output_type": "execute_result"
    }
   ],
   "source": [
    "x = torch.rand((4, 3, 2))\n",
    "y = torch.index_select(x, 1, torch.tensor([0, ]))\n",
    "x, y, y.shape"
   ]
  },
  {
   "cell_type": "code",
   "execution_count": 353,
   "id": "2f9c4883",
   "metadata": {},
   "outputs": [
    {
     "data": {
      "text/plain": [
       "(tensor([[[-0.8173, -0.5556, -0.8267, -1.2970],\n",
       "          [-0.1974, -0.9643, -0.5133,  2.6278],\n",
       "          [ 0.0178, -0.1282, -0.0944,  0.0526]],\n",
       " \n",
       "         [[ 0.2386, -1.5565,  1.6471, -1.0891],\n",
       "          [-0.1460, -0.2311, -0.4995,  0.3127],\n",
       "          [-0.0772,  0.3426, -0.7574, -1.5660]]]),\n",
       " tensor([2.6278, 1.6471]))"
      ]
     },
     "execution_count": 353,
     "metadata": {},
     "output_type": "execute_result"
    }
   ],
   "source": [
    "torch.manual_seed(10)\n",
    "x = torch.randn((2, 3, 4))\n",
    "y = torch.masked_select(x, x.ge(0.5))\n",
    "x, y\n"
   ]
  },
  {
   "cell_type": "code",
   "execution_count": 354,
   "id": "5182c1d0",
   "metadata": {},
   "outputs": [
    {
     "data": {
      "text/plain": [
       "(tensor([[[-0.8173, -0.5556, -0.8267, -1.2970],\n",
       "          [-0.1974, -0.9643, -0.5133,  2.6278],\n",
       "          [ 0.0178, -0.1282, -0.0944,  0.0526]],\n",
       " \n",
       "         [[ 0.2386, -1.5565,  1.6471, -1.0891],\n",
       "          [-0.1460, -0.2311, -0.4995,  0.3127],\n",
       "          [-0.0772,  0.3426, -0.7574, -1.5660]]]),\n",
       " tensor([2.6278, 1.6471]))"
      ]
     },
     "execution_count": 354,
     "metadata": {},
     "output_type": "execute_result"
    }
   ],
   "source": [
    "torch.manual_seed(10)\n",
    "x = torch.randn((2, 3, 4))\n",
    "y = x[x.ge(0.5)]\n",
    "x, y\n"
   ]
  },
  {
   "cell_type": "code",
   "execution_count": 355,
   "id": "9177f6b7",
   "metadata": {},
   "outputs": [
    {
     "data": {
      "text/plain": [
       "(tensor([[[-0.8173, -0.5556, -0.8267, -1.2970],\n",
       "          [-0.1974, -0.9643, -0.5133,  2.6278],\n",
       "          [ 0.0178, -0.1282, -0.0944,  0.0526]],\n",
       " \n",
       "         [[ 0.2386, -1.5565,  1.6471, -1.0891],\n",
       "          [-0.1460, -0.2311, -0.4995,  0.3127],\n",
       "          [-0.0772,  0.3426, -0.7574, -1.5660]]]),\n",
       " tensor([[0, 1, 3],\n",
       "         [1, 0, 2]]),\n",
       " tensor([[[-1.0000, -1.0000, -1.0000, -1.0000],\n",
       "          [-1.0000, -1.0000, -1.0000,  2.6278],\n",
       "          [-1.0000, -1.0000, -1.0000, -1.0000]],\n",
       " \n",
       "         [[-1.0000, -1.0000,  1.6471, -1.0000],\n",
       "          [-1.0000, -1.0000, -1.0000, -1.0000],\n",
       "          [-1.0000, -1.0000, -1.0000, -1.0000]]]))"
      ]
     },
     "execution_count": 355,
     "metadata": {},
     "output_type": "execute_result"
    }
   ],
   "source": [
    "torch.manual_seed(10)\n",
    "x = torch.randn((2, 3, 4))\n",
    "y = torch.argwhere(x.ge(0.5))\n",
    "z = torch.where(x.ge(0.5), x, -1)\n",
    "x, y, z\n"
   ]
  },
  {
   "cell_type": "code",
   "execution_count": 356,
   "id": "7ac9227f",
   "metadata": {},
   "outputs": [
    {
     "data": {
      "text/plain": [
       "(tensor([[0., 0., 0.],\n",
       "         [0., 0., 0.],\n",
       "         [0., 0., 0.],\n",
       "         [0., 0., 0.],\n",
       "         [0., 0., 0.]]),\n",
       " tensor([[ 0.,  1.,  2.],\n",
       "         [ 3.,  4.,  5.],\n",
       "         [ 6.,  7.,  8.],\n",
       "         [ 9., 10., 11.],\n",
       "         [12., 13., 14.]]),\n",
       " tensor([[ 0.,  2.,  4.],\n",
       "         [ 6.,  8., 10.],\n",
       "         [12., 14., 16.],\n",
       "         [18., 20., 22.],\n",
       "         [24., 26., 28.]]),\n",
       " tensor([[ 3.,  0.,  0.],\n",
       "         [12.,  0.,  0.],\n",
       "         [21.,  0.,  0.],\n",
       "         [30.,  0.,  0.],\n",
       "         [39.,  0.,  0.]]))"
      ]
     },
     "execution_count": 356,
     "metadata": {},
     "output_type": "execute_result"
    }
   ],
   "source": [
    "x = torch.zeros((5, 3))\n",
    "_x = x.clone()\n",
    "y = torch.arange(15, dtype=torch.float32).reshape((5, 3))\n",
    "z = torch.index_add(x, 0, torch.tensor([0,1,2,3,4]), y, alpha=2)\n",
    "w = x.index_add_(1, torch.tensor([0, 0, 0]), y)\n",
    "_x, y, z, w"
   ]
  },
  {
   "cell_type": "code",
   "execution_count": 357,
   "id": "a2b429e1",
   "metadata": {},
   "outputs": [
    {
     "data": {
      "text/plain": [
       "(tensor([[0., 0., 0.],\n",
       "         [0., 0., 0.],\n",
       "         [0., 0., 0.],\n",
       "         [0., 0., 0.]]),\n",
       " tensor([[ 0.,  1.,  2.],\n",
       "         [ 3.,  4.,  5.],\n",
       "         [ 6.,  7.,  8.],\n",
       "         [ 9., 10., 11.]]),\n",
       " tensor([[ 9., 12., 15.],\n",
       "         [ 9., 10., 11.],\n",
       "         [ 0.,  0.,  0.],\n",
       "         [ 0.,  0.,  0.]]))"
      ]
     },
     "execution_count": 357,
     "metadata": {},
     "output_type": "execute_result"
    }
   ],
   "source": [
    "x = torch.zeros((4, 3))\n",
    "_x = x.clone()\n",
    "y = torch.arange(12, dtype=torch.float32).reshape((4, 3))\n",
    "z = torch.index_add(x, 0, torch.tensor([0, 0, 0, 1]), y)\n",
    "x, y, z"
   ]
  },
  {
   "cell_type": "code",
   "execution_count": 358,
   "id": "45d9acf9",
   "metadata": {},
   "outputs": [
    {
     "name": "stderr",
     "output_type": "stream",
     "text": [
      "/tmp/ipykernel_11739/1813383457.py:4: UserWarning: index_reduce() is in beta and the API may change at any time. (Triggered internally at  ../aten/src/ATen/native/TensorAdvancedIndexing.cpp:1037.)\n",
      "  z = torch.index_reduce(x, 0, torch.tensor([0, 0, 0, 1]), y, \"prod\")\n"
     ]
    },
    {
     "data": {
      "text/plain": [
       "(tensor([[1., 1., 1.],\n",
       "         [1., 1., 1.],\n",
       "         [1., 1., 1.],\n",
       "         [1., 1., 1.]]),\n",
       " tensor([[ 0.,  1.,  2.],\n",
       "         [ 3.,  4.,  5.],\n",
       "         [ 6.,  7.,  8.],\n",
       "         [ 9., 10., 11.]]),\n",
       " tensor([[ 0., 28., 80.],\n",
       "         [ 9., 10., 11.],\n",
       "         [ 1.,  1.,  1.],\n",
       "         [ 1.,  1.,  1.]]))"
      ]
     },
     "execution_count": 358,
     "metadata": {},
     "output_type": "execute_result"
    }
   ],
   "source": [
    "x = torch.ones((4, 3))\n",
    "_x = x.clone()\n",
    "y = torch.arange(12, dtype=torch.float32).reshape((4, 3))\n",
    "z = torch.index_reduce(x, 0, torch.tensor([0, 0, 0, 1]), y, \"prod\")\n",
    "x, y, z"
   ]
  },
  {
   "cell_type": "code",
   "execution_count": 359,
   "id": "1795332d",
   "metadata": {},
   "outputs": [
    {
     "data": {
      "text/plain": [
       "(tensor([[1., 1., 1.],\n",
       "         [1., 1., 1.],\n",
       "         [1., 1., 1.],\n",
       "         [1., 1., 1.]]),\n",
       " tensor([[ 0.,  1.,  2.],\n",
       "         [ 3.,  4.,  5.],\n",
       "         [ 6.,  7.,  8.],\n",
       "         [ 9., 10., 11.]]),\n",
       " tensor([[ 0., 28., 80.],\n",
       "         [ 9., 10., 11.],\n",
       "         [ 1.,  1.,  1.],\n",
       "         [ 1.,  1.,  1.]]))"
      ]
     },
     "execution_count": 359,
     "metadata": {},
     "output_type": "execute_result"
    }
   ],
   "source": [
    "x = torch.ones((4, 3))\n",
    "_x = x.clone()\n",
    "y = torch.arange(12, dtype=torch.float32).reshape((4, 3))\n",
    "z = torch.index_reduce(x, 0, torch.tensor([0, 0, 0, 1]), y, \"prod\", include_self=False)\n",
    "x, y, z"
   ]
  },
  {
   "cell_type": "code",
   "execution_count": 360,
   "id": "9d1030cc",
   "metadata": {},
   "outputs": [
    {
     "data": {
      "text/plain": [
       "(torch.Size([2, 4, 5]), torch.Size([4, 5, 2]))"
      ]
     },
     "execution_count": 360,
     "metadata": {},
     "output_type": "execute_result"
    }
   ],
   "source": [
    "x = torch.randn(2, 4, 5)\n",
    "y = torch.movedim(x, 0, 2)\n",
    "x.shape, y.shape"
   ]
  },
  {
   "cell_type": "code",
   "execution_count": 361,
   "id": "89bff73d",
   "metadata": {},
   "outputs": [
    {
     "data": {
      "text/plain": [
       "(torch.Size([2, 3, 4, 5]), torch.Size([2, 4, 3, 5]))"
      ]
     },
     "execution_count": 361,
     "metadata": {},
     "output_type": "execute_result"
    }
   ],
   "source": [
    "x = torch.randn(2, 3, 4, 5)\n",
    "y = torch.movedim(x, 1, 2)\n",
    "x.shape, y.shape"
   ]
  },
  {
   "cell_type": "code",
   "execution_count": 362,
   "id": "16a3b1cf",
   "metadata": {},
   "outputs": [
    {
     "data": {
      "text/plain": [
       "(torch.Size([2, 3, 4, 5]), torch.Size([3, 4, 5, 2]))"
      ]
     },
     "execution_count": 362,
     "metadata": {},
     "output_type": "execute_result"
    }
   ],
   "source": [
    "x = torch.randn(2, 3, 4, 5)\n",
    "y = torch.movedim(x, 0, 3)\n",
    "x.shape, y.shape"
   ]
  },
  {
   "cell_type": "code",
   "execution_count": 363,
   "id": "b53b4a19",
   "metadata": {},
   "outputs": [
    {
     "data": {
      "text/plain": [
       "(torch.Size([2, 3, 4, 5]), torch.Size([2, 3, 5, 4]))"
      ]
     },
     "execution_count": 363,
     "metadata": {},
     "output_type": "execute_result"
    }
   ],
   "source": [
    "x = torch.randn(2, 3, 4, 5)\n",
    "y = torch.movedim(x, -2, -1)\n",
    "x.shape, y.shape"
   ]
  },
  {
   "cell_type": "code",
   "execution_count": 364,
   "id": "943c86b0",
   "metadata": {},
   "outputs": [
    {
     "data": {
      "text/plain": [
       "(torch.Size([2, 3, 4, 5]), torch.Size([2, 4, 5, 3]))"
      ]
     },
     "execution_count": 364,
     "metadata": {},
     "output_type": "execute_result"
    }
   ],
   "source": [
    "x = torch.randn(2, 3, 4, 5)\n",
    "y = torch.movedim(x, 1, -1)\n",
    "x.shape, y.shape"
   ]
  },
  {
   "cell_type": "code",
   "execution_count": 365,
   "id": "10883469",
   "metadata": {},
   "outputs": [
    {
     "data": {
      "text/plain": [
       "(torch.Size([2, 3, 4, 5]), torch.Size([3, 2, 4, 5]))"
      ]
     },
     "execution_count": 365,
     "metadata": {},
     "output_type": "execute_result"
    }
   ],
   "source": [
    "x = torch.randn(2, 3, 4, 5)\n",
    "y = x.permute((1, 0, 2, -1))\n",
    "x.shape, y.shape"
   ]
  },
  {
   "cell_type": "code",
   "execution_count": 366,
   "id": "bab56ab0",
   "metadata": {},
   "outputs": [
    {
     "data": {
      "text/plain": [
       "(torch.Size([2, 3, 4, 5]), torch.Size([3, 2, 4, 5]))"
      ]
     },
     "execution_count": 366,
     "metadata": {},
     "output_type": "execute_result"
    }
   ],
   "source": [
    "x = torch.randn(2, 3, 4, 5)\n",
    "y = torch.movedim(x, (1, 0), (0, 1))\n",
    "x.shape, y.shape"
   ]
  },
  {
   "cell_type": "code",
   "execution_count": 367,
   "id": "87871ea5",
   "metadata": {},
   "outputs": [
    {
     "data": {
      "text/plain": [
       "(torch.Size([2, 3, 4, 5]), torch.Size([3, 4, 2, 5]))"
      ]
     },
     "execution_count": 367,
     "metadata": {},
     "output_type": "execute_result"
    }
   ],
   "source": [
    "x = torch.randn(2, 3, 4, 5)\n",
    "y = torch.movedim(x, (1, 0), (0, 2))\n",
    "x.shape, y.shape"
   ]
  },
  {
   "cell_type": "code",
   "execution_count": 368,
   "id": "c2ede1b4",
   "metadata": {},
   "outputs": [
    {
     "data": {
      "text/plain": [
       "(torch.Size([3, 4, 5]), torch.Size([4, 5, 3]))"
      ]
     },
     "execution_count": 368,
     "metadata": {},
     "output_type": "execute_result"
    }
   ],
   "source": [
    "x = torch.randn( 3, 4, 5)\n",
    "y = torch.movedim(x, (1, 0, 2), (0, 2, 1))\n",
    "x.shape, y.shape"
   ]
  },
  {
   "cell_type": "code",
   "execution_count": 369,
   "id": "f191cb5c",
   "metadata": {},
   "outputs": [
    {
     "data": {
      "text/plain": [
       "(torch.Size([3, 4, 5]), torch.Size([4, 5, 3]))"
      ]
     },
     "execution_count": 369,
     "metadata": {},
     "output_type": "execute_result"
    }
   ],
   "source": [
    "x = torch.randn( 3, 4, 5)\n",
    "y = torch.moveaxis(x, (1, 0, 2), (0, 2, 1))\n",
    "x.shape, y.shape"
   ]
  },
  {
   "cell_type": "code",
   "execution_count": 370,
   "id": "102cdbcd",
   "metadata": {},
   "outputs": [
    {
     "data": {
      "text/plain": [
       "(tensor([[0, 1, 2, 3, 4],\n",
       "         [5, 6, 7, 8, 9]]),\n",
       " tensor([[2, 3, 4],\n",
       "         [7, 8, 9]]))"
      ]
     },
     "execution_count": 370,
     "metadata": {},
     "output_type": "execute_result"
    }
   ],
   "source": [
    "x = torch.arange(10).reshape(2, 5)\n",
    "y = torch.narrow(x, 1, 2, 3)\n",
    "x, y"
   ]
  },
  {
   "cell_type": "code",
   "execution_count": 371,
   "id": "ab6d549b",
   "metadata": {},
   "outputs": [
    {
     "data": {
      "text/plain": [
       "(tensor([[0, 0, 1, 0, 0],\n",
       "         [1, 1, 0, 0, 1]]),\n",
       " tensor([[0, 2],\n",
       "         [1, 0],\n",
       "         [1, 1],\n",
       "         [1, 4]]))"
      ]
     },
     "execution_count": 371,
     "metadata": {},
     "output_type": "execute_result"
    }
   ],
   "source": [
    "x = torch.randint(2, size=(2, 5))\n",
    "y = torch.nonzero(x)\n",
    "x, y"
   ]
  },
  {
   "cell_type": "code",
   "execution_count": 372,
   "id": "5de8f39c",
   "metadata": {},
   "outputs": [
    {
     "data": {
      "text/plain": [
       "(tensor([ 0.0634, -0.5729, -0.2855, -1.6254, -1.0430]),\n",
       " tensor([[ 0.1328, -0.2586, -0.4328,  0.4707, -0.1545],\n",
       "         [ 0.6331, -0.3422,  0.1174, -0.5801,  1.0772]]),\n",
       " tensor([[ 0.0634, -0.5729, -0.2855, -1.6254, -1.0430],\n",
       "         [ 0.1328, -0.2586, -0.4328,  0.4707, -0.1545],\n",
       "         [ 0.6331, -0.3422,  0.1174, -0.5801,  1.0772]]))"
      ]
     },
     "execution_count": 372,
     "metadata": {},
     "output_type": "execute_result"
    }
   ],
   "source": [
    "x = torch.randn((5))\n",
    "y = torch.randn((2, 5))\n",
    "z = torch.row_stack([x, y])\n",
    "x, y, z"
   ]
  },
  {
   "cell_type": "code",
   "execution_count": 373,
   "id": "86d64666",
   "metadata": {},
   "outputs": [
    {
     "data": {
      "text/plain": [
       "(tensor([[[[ 0.3906, -1.7717],\n",
       "           [-0.9503,  0.5643],\n",
       "           [-0.9142, -0.8655]]],\n",
       " \n",
       " \n",
       "         [[[-0.5092, -0.0452],\n",
       "           [ 2.1930, -0.4885],\n",
       "           [ 0.4138,  0.4032]]]]),\n",
       " tensor([[[ 0.3906, -0.9503, -0.9142]],\n",
       " \n",
       "         [[-0.5092,  2.1930,  0.4138]]]))"
      ]
     },
     "execution_count": 373,
     "metadata": {},
     "output_type": "execute_result"
    }
   ],
   "source": [
    "x = torch.randn((2, 1, 3, 2))\n",
    "y = x.select(3, 0)\n",
    "x, y"
   ]
  },
  {
   "cell_type": "code",
   "execution_count": 374,
   "id": "cb9ecf0a",
   "metadata": {},
   "outputs": [
    {
     "data": {
      "text/plain": [
       "(tensor([[[[-1.4470, -0.7547],\n",
       "           [-0.4344, -0.3228],\n",
       "           [-0.9116, -3.4322]]],\n",
       " \n",
       " \n",
       "         [[[-1.8018, -1.5609],\n",
       "           [ 0.0479,  0.0819],\n",
       "           [ 1.1457,  0.4785]]]]),\n",
       " tensor([[[-1.4470, -0.4344, -0.9116]],\n",
       " \n",
       "         [[-1.8018,  0.0479,  1.1457]]]))"
      ]
     },
     "execution_count": 374,
     "metadata": {},
     "output_type": "execute_result"
    }
   ],
   "source": [
    "x = torch.randn((2, 1, 3, 2))\n",
    "y = x.select(-1, 0)\n",
    "x, y"
   ]
  },
  {
   "cell_type": "code",
   "execution_count": 375,
   "id": "bec98db1",
   "metadata": {},
   "outputs": [
    {
     "data": {
      "text/plain": [
       "(tensor([[ 1,  2,  3,  4,  5],\n",
       "         [ 6,  7,  8,  9, 10]]),\n",
       " tensor([[ 1,  0,  3,  4,  5],\n",
       "         [ 0,  2,  0,  0,  0],\n",
       "         [ 0,  7,  0,  0,  0],\n",
       "         [ 6,  0,  8,  9, 10]]))"
      ]
     },
     "execution_count": 375,
     "metadata": {},
     "output_type": "execute_result"
    }
   ],
   "source": [
    "x = torch.arange(1, 11).reshape((2, 5))\n",
    "y = torch.zeros(4, 5, dtype=x.dtype).scatter_(0, torch.tensor([[0, 1, 0, 0,0,], [3, 2,3,3,3] ]), x)\n",
    "x, y"
   ]
  },
  {
   "cell_type": "code",
   "execution_count": 376,
   "id": "411c8056",
   "metadata": {},
   "outputs": [
    {
     "data": {
      "text/plain": [
       "(tensor([[ 1,  2,  3,  4,  5],\n",
       "         [ 6,  7,  8,  9, 10]]),\n",
       " tensor([[1, 2, 3, 0, 0],\n",
       "         [6, 0, 7, 0, 8],\n",
       "         [0, 0, 0, 0, 0],\n",
       "         [0, 0, 0, 0, 0]]))"
      ]
     },
     "execution_count": 376,
     "metadata": {},
     "output_type": "execute_result"
    }
   ],
   "source": [
    "x = torch.arange(1, 11).reshape((2, 5))\n",
    "y = torch.zeros(4, 5, dtype=x.dtype).scatter_(1, torch.tensor([[0,1,2], [0,2,4] ]), x)\n",
    "x, y"
   ]
  },
  {
   "cell_type": "code",
   "execution_count": 377,
   "id": "f9b56155",
   "metadata": {},
   "outputs": [
    {
     "data": {
      "text/plain": [
       "(tensor([[ 1,  2,  3,  4,  5],\n",
       "         [ 6,  7,  8,  9, 10]]),\n",
       " tensor([[5, 3, 1, 1, 1],\n",
       "         [7, 1, 8, 1, 9],\n",
       "         [1, 1, 1, 1, 1],\n",
       "         [1, 1, 1, 1, 1]]))"
      ]
     },
     "execution_count": 377,
     "metadata": {},
     "output_type": "execute_result"
    }
   ],
   "source": [
    "x = torch.arange(1, 11).reshape((2, 5))\n",
    "y = torch.ones(4, 5, dtype=x.dtype).scatter_(1, torch.tensor([[0,1,0], [0,2,4] ]), x, reduce=\"add\")\n",
    "x, y"
   ]
  },
  {
   "cell_type": "code",
   "execution_count": 378,
   "id": "6dc48da6",
   "metadata": {},
   "outputs": [],
   "source": [
    "# x = torch.zeros(8, 8)\n",
    "# y = torch.ones(8)\n",
    "# z = x.slice_scatter(y, start=6)\n",
    "# z"
   ]
  },
  {
   "cell_type": "code",
   "execution_count": 379,
   "id": "bf977c24",
   "metadata": {},
   "outputs": [],
   "source": [
    "# x = torch.zeros(2, 2)\n",
    "# y = torch.ones(2)\n",
    "# x.select_scatter(b, 0, 0)"
   ]
  },
  {
   "cell_type": "code",
   "execution_count": 380,
   "id": "317df56d",
   "metadata": {},
   "outputs": [
    {
     "data": {
      "text/plain": [
       "torch.Size([2, 2, 2])"
      ]
     },
     "execution_count": 380,
     "metadata": {},
     "output_type": "execute_result"
    }
   ],
   "source": [
    "x = torch.zeros(2, 1, 2, 1, 2)\n",
    "y = torch.squeeze(x)\n",
    "y.shape\n"
   ]
  },
  {
   "cell_type": "code",
   "execution_count": 381,
   "id": "882d0bfa",
   "metadata": {},
   "outputs": [
    {
     "data": {
      "text/plain": [
       "torch.Size([2, 1, 2, 2])"
      ]
     },
     "execution_count": 381,
     "metadata": {},
     "output_type": "execute_result"
    }
   ],
   "source": [
    "x = torch.zeros(2, 1, 2, 1, 2)\n",
    "y = torch.squeeze(x, -2)\n",
    "y.shape\n"
   ]
  },
  {
   "cell_type": "code",
   "execution_count": 382,
   "id": "567ea9e0",
   "metadata": {},
   "outputs": [
    {
     "data": {
      "text/plain": [
       "(torch.Size([2, 3, 5]), torch.Size([5, 3, 2]))"
      ]
     },
     "execution_count": 382,
     "metadata": {},
     "output_type": "execute_result"
    }
   ],
   "source": [
    "x = torch.rand(2, 3, 5)\n",
    "\n",
    "y = torch.transpose(x, 0, 2)\n",
    "x.shape, y.shape"
   ]
  },
  {
   "cell_type": "code",
   "execution_count": 383,
   "id": "ef2aa58f",
   "metadata": {},
   "outputs": [
    {
     "data": {
      "text/plain": [
       "(torch.Size([2, 3, 5]), torch.Size([5, 3, 2]))"
      ]
     },
     "execution_count": 383,
     "metadata": {},
     "output_type": "execute_result"
    }
   ],
   "source": [
    "x = torch.rand(2, 3, 5)\n",
    "\n",
    "y = torch.swapaxes(x, 0, 2)\n",
    "x.shape, y.shape"
   ]
  },
  {
   "cell_type": "code",
   "execution_count": 384,
   "id": "4eb92f16",
   "metadata": {},
   "outputs": [
    {
     "data": {
      "text/plain": [
       "(torch.Size([2, 3, 5]), torch.Size([5, 3, 2]))"
      ]
     },
     "execution_count": 384,
     "metadata": {},
     "output_type": "execute_result"
    }
   ],
   "source": [
    "x = torch.rand(2, 3, 5)\n",
    "\n",
    "y = torch.swapdims(x, 0, 2)\n",
    "x.shape, y.shape"
   ]
  },
  {
   "cell_type": "code",
   "execution_count": 385,
   "id": "8cd534cf",
   "metadata": {},
   "outputs": [
    {
     "data": {
      "text/plain": [
       "torch.Size([4, 2])"
      ]
     },
     "execution_count": 385,
     "metadata": {},
     "output_type": "execute_result"
    }
   ],
   "source": [
    "x = torch.rand(2, 3, 5)\n",
    "# torch.t(x).shape # error shape 3D\n",
    "x = torch.rand(2, 4)\n",
    "x.t().shape"
   ]
  },
  {
   "cell_type": "code",
   "execution_count": 386,
   "id": "5f276e45",
   "metadata": {},
   "outputs": [
    {
     "data": {
      "text/plain": [
       "tensor([4, 5, 8])"
      ]
     },
     "execution_count": 386,
     "metadata": {},
     "output_type": "execute_result"
    }
   ],
   "source": [
    "x= torch.tensor([[4, 3, 5],\n",
    "                    [6, 7, 8]])\n",
    "torch.take(x, torch.tensor([0, 2, 5]))"
   ]
  },
  {
   "cell_type": "code",
   "execution_count": 387,
   "id": "65d8a2c9",
   "metadata": {},
   "outputs": [
    {
     "data": {
      "text/plain": [
       "(tensor([[ 0,  1,  2],\n",
       "         [ 3,  4,  5],\n",
       "         [70,  7,  8]]),\n",
       " tensor(6),\n",
       " tensor([70]))"
      ]
     },
     "execution_count": 387,
     "metadata": {},
     "output_type": "execute_result"
    }
   ],
   "source": [
    "x = torch.arange(9).reshape(3, 3)\n",
    "x[-1][0] = 70\n",
    "\n",
    "idx = torch.argmax(x)\n",
    "x, idx, x.take_along_dim(idx, )"
   ]
  },
  {
   "cell_type": "code",
   "execution_count": 388,
   "id": "35977cfc",
   "metadata": {},
   "outputs": [
    {
     "data": {
      "text/plain": [
       "(tensor([[ 0,  1,  2],\n",
       "         [ 3,  4,  5],\n",
       "         [70,  7,  8]]),\n",
       " tensor([[0, 1, 2],\n",
       "         [0, 1, 2],\n",
       "         [1, 2, 0]]),\n",
       " tensor([[ 0,  1,  2],\n",
       "         [ 3,  4,  5],\n",
       "         [ 7,  8, 70]]))"
      ]
     },
     "execution_count": 388,
     "metadata": {},
     "output_type": "execute_result"
    }
   ],
   "source": [
    "x = torch.arange(9).reshape(3, 3)\n",
    "x[-1][0] = 70\n",
    "\n",
    "idx = torch.argsort(x)\n",
    "x, idx, x.take_along_dim(idx, 1)"
   ]
  },
  {
   "cell_type": "code",
   "execution_count": 389,
   "id": "5b1454b5",
   "metadata": {},
   "outputs": [
    {
     "data": {
      "text/plain": [
       "(tensor([1, 2, 3]), tensor([1, 2, 3, 1, 2, 3]))"
      ]
     },
     "execution_count": 389,
     "metadata": {},
     "output_type": "execute_result"
    }
   ],
   "source": [
    "x = torch.tensor([1,2,3])\n",
    "y = torch.tile(x, (2,\n",
    "                   ))\n",
    "x, y"
   ]
  },
  {
   "cell_type": "code",
   "execution_count": 390,
   "id": "6d29c44b",
   "metadata": {},
   "outputs": [
    {
     "data": {
      "text/plain": [
       "(tensor([1, 2, 3]),\n",
       " tensor([[1, 2, 3, 1, 2, 3, 1, 2, 3],\n",
       "         [1, 2, 3, 1, 2, 3, 1, 2, 3]]))"
      ]
     },
     "execution_count": 390,
     "metadata": {},
     "output_type": "execute_result"
    }
   ],
   "source": [
    "x = torch.tensor([1,2,3])\n",
    "y = torch.tile(x, (2,3,\n",
    "                   ))\n",
    "x, y"
   ]
  },
  {
   "cell_type": "code",
   "execution_count": 391,
   "id": "8531bc1f",
   "metadata": {},
   "outputs": [
    {
     "data": {
      "text/plain": [
       "(tensor([1, 2, 3]),\n",
       " tensor([[[1, 2, 3, 1, 2, 3, 1, 2, 3, 1, 2, 3],\n",
       "          [1, 2, 3, 1, 2, 3, 1, 2, 3, 1, 2, 3],\n",
       "          [1, 2, 3, 1, 2, 3, 1, 2, 3, 1, 2, 3]],\n",
       " \n",
       "         [[1, 2, 3, 1, 2, 3, 1, 2, 3, 1, 2, 3],\n",
       "          [1, 2, 3, 1, 2, 3, 1, 2, 3, 1, 2, 3],\n",
       "          [1, 2, 3, 1, 2, 3, 1, 2, 3, 1, 2, 3]]]),\n",
       " torch.Size([2, 3, 12]))"
      ]
     },
     "execution_count": 391,
     "metadata": {},
     "output_type": "execute_result"
    }
   ],
   "source": [
    "x = torch.tensor([1,2,3])\n",
    "y = torch.tile(x, (2,3,4\n",
    "                   ))\n",
    "x, y, y.shape"
   ]
  },
  {
   "cell_type": "code",
   "execution_count": 392,
   "id": "2ba07b32",
   "metadata": {},
   "outputs": [
    {
     "data": {
      "text/plain": [
       "(tensor([0, 1, 2]), tensor([3, 4, 5]), tensor([6, 7, 8]))"
      ]
     },
     "execution_count": 392,
     "metadata": {},
     "output_type": "execute_result"
    }
   ],
   "source": [
    "torch.unbind(torch.arange(9).reshape(3,3))"
   ]
  },
  {
   "cell_type": "code",
   "execution_count": 393,
   "id": "595c01f6",
   "metadata": {},
   "outputs": [
    {
     "data": {
      "text/plain": [
       "(tensor([0, 3, 6]), tensor([1, 4, 7]), tensor([2, 5, 8]))"
      ]
     },
     "execution_count": 393,
     "metadata": {},
     "output_type": "execute_result"
    }
   ],
   "source": [
    "torch.unbind(torch.arange(9).reshape(3,3), dim=1)"
   ]
  },
  {
   "cell_type": "code",
   "execution_count": 394,
   "id": "a127bdf7",
   "metadata": {},
   "outputs": [
    {
     "data": {
      "text/plain": [
       "(tensor([1, 2, 3]), tensor([[1, 2, 3]]))"
      ]
     },
     "execution_count": 394,
     "metadata": {},
     "output_type": "execute_result"
    }
   ],
   "source": [
    "x = torch.tensor([1,2,3])\n",
    "y = torch.unsqueeze(x, 0)\n",
    "x, y"
   ]
  },
  {
   "cell_type": "code",
   "execution_count": 395,
   "id": "d85a3aa1",
   "metadata": {},
   "outputs": [
    {
     "data": {
      "text/plain": [
       "(tensor([[1, 2, 3],\n",
       "         [4, 5, 6]]),\n",
       " tensor([[[1, 2, 3]],\n",
       " \n",
       "         [[4, 5, 6]]]),\n",
       " torch.Size([2, 1, 3]))"
      ]
     },
     "execution_count": 395,
     "metadata": {},
     "output_type": "execute_result"
    }
   ],
   "source": [
    "x = torch.tensor([[1,2,3], [4,5,6]])\n",
    "y = torch.unsqueeze(x, 1)\n",
    "x, y, y.shape"
   ]
  },
  {
   "cell_type": "code",
   "execution_count": 396,
   "id": "29d1e945",
   "metadata": {},
   "outputs": [],
   "source": [
    "# import io\n",
    "# torch.load('tensors.pt')\n",
    "# torch.load('tensors.pt', map_location=torch.device('cpu'))\n",
    "# torch.load('tensors.pt', map_location=lambda storage, loc: storage)\n",
    "# torch.load('tensors.pt', map_location=lambda storage, loc: storage.cuda(1))\n",
    "# torch.load('tensors.pt', map_location={'cuda:1':'cuda:0'})\n",
    "# with open('tensor.pt', 'rb') as f:\n",
    "#     buffer = io.BytesIO(f.read())\n",
    "# torch.load(buffer)\n",
    "# torch.load('module.pt', encoding='ascii')"
   ]
  },
  {
   "cell_type": "code",
   "execution_count": 397,
   "id": "0305767c",
   "metadata": {},
   "outputs": [],
   "source": [
    "# # Save to file\n",
    "# x = torch.tensor([0, 1, 2, 3, 4])\n",
    "# torch.save(x, 'tensor.pt')\n",
    "# # Save to io.BytesIO buffer\n",
    "# buffer = io.BytesIO()\n",
    "# torch.save(x, buffer)"
   ]
  },
  {
   "cell_type": "code",
   "execution_count": 398,
   "id": "8202125f",
   "metadata": {},
   "outputs": [
    {
     "data": {
      "text/plain": [
       "(tensor([1, 2, 3, 4]), False)"
      ]
     },
     "execution_count": 398,
     "metadata": {},
     "output_type": "execute_result"
    }
   ],
   "source": [
    "x = torch.arange(1, 5)\n",
    "x, x.requires_grad"
   ]
  },
  {
   "cell_type": "code",
   "execution_count": 399,
   "id": "169c9441",
   "metadata": {},
   "outputs": [
    {
     "data": {
      "text/plain": [
       "(tensor([1., 2., 3., 4.], requires_grad=True), True)"
      ]
     },
     "execution_count": 399,
     "metadata": {},
     "output_type": "execute_result"
    }
   ],
   "source": [
    "x = torch.arange(1, 5, dtype=torch.float32)\n",
    "x.requires_grad_(True)\n",
    "x, x.requires_grad"
   ]
  },
  {
   "cell_type": "code",
   "execution_count": 400,
   "id": "174c9698",
   "metadata": {},
   "outputs": [
    {
     "data": {
      "text/plain": [
       "(tensor([1., 2., 3., 4.], requires_grad=True), True, True)"
      ]
     },
     "execution_count": 400,
     "metadata": {},
     "output_type": "execute_result"
    }
   ],
   "source": [
    "x = torch.arange(1, 5, dtype=torch.float32)\n",
    "x.requires_grad_(True)\n",
    "y = 2 * torch.dot(x, x)\n",
    "x, x.requires_grad, y.requires_grad"
   ]
  },
  {
   "cell_type": "code",
   "execution_count": 401,
   "id": "1804a4dd",
   "metadata": {},
   "outputs": [
    {
     "data": {
      "text/plain": [
       "(tensor([1., 2., 3., 4.]), False, False)"
      ]
     },
     "execution_count": 401,
     "metadata": {},
     "output_type": "execute_result"
    }
   ],
   "source": [
    "x = torch.arange(1, 5, dtype=torch.float32)\n",
    "y = 2 * torch.dot(x, x)\n",
    "x, x.requires_grad, y.requires_grad"
   ]
  },
  {
   "cell_type": "code",
   "execution_count": 402,
   "id": "312feb73",
   "metadata": {},
   "outputs": [
    {
     "data": {
      "text/plain": [
       "(tensor([1., 2., 3., 4.], requires_grad=True), True, False)"
      ]
     },
     "execution_count": 402,
     "metadata": {},
     "output_type": "execute_result"
    }
   ],
   "source": [
    "x = torch.arange(1, 5, dtype=torch.float32)\n",
    "x.requires_grad_(True)\n",
    "with torch.no_grad():\n",
    "    y = 2 * torch.dot(x, x)\n",
    "x, x.requires_grad, y.requires_grad"
   ]
  },
  {
   "cell_type": "code",
   "execution_count": 403,
   "id": "c58fe945",
   "metadata": {},
   "outputs": [
    {
     "data": {
      "text/plain": [
       "(tensor([1., 2., 3., 4.], requires_grad=True), True, False)"
      ]
     },
     "execution_count": 403,
     "metadata": {},
     "output_type": "execute_result"
    }
   ],
   "source": [
    "x = torch.arange(1, 5, dtype=torch.float32)\n",
    "x.requires_grad_(True)\n",
    "is_train = False\n",
    "with torch.set_grad_enabled(is_train):\n",
    "    y = 2 * torch.dot(x, x)\n",
    "x, x.requires_grad, y.requires_grad"
   ]
  },
  {
   "cell_type": "code",
   "execution_count": 404,
   "id": "e5763a56",
   "metadata": {},
   "outputs": [
    {
     "data": {
      "text/plain": [
       "(tensor([1., 2., 3., 4.], requires_grad=True), True, True)"
      ]
     },
     "execution_count": 404,
     "metadata": {},
     "output_type": "execute_result"
    }
   ],
   "source": [
    "x = torch.arange(1, 5, dtype=torch.float32)\n",
    "x.requires_grad_(True)\n",
    "is_train = True\n",
    "with torch.set_grad_enabled(is_train):\n",
    "    y = 2 * torch.dot(x, x)\n",
    "x, x.requires_grad, y.requires_grad"
   ]
  },
  {
   "cell_type": "code",
   "execution_count": 405,
   "id": "d84cbc3f",
   "metadata": {},
   "outputs": [
    {
     "data": {
      "text/plain": [
       "(tensor([1., 2., 3., 4.], requires_grad=True), True, True)"
      ]
     },
     "execution_count": 405,
     "metadata": {},
     "output_type": "execute_result"
    }
   ],
   "source": [
    "x = torch.arange(1, 5, dtype=torch.float32)\n",
    "x.requires_grad_(True)\n",
    "is_train = True\n",
    "with torch.enable_grad():\n",
    "    y = 2 * torch.dot(x, x)\n",
    "x, x.requires_grad, y.requires_grad"
   ]
  },
  {
   "cell_type": "code",
   "execution_count": 406,
   "id": "ce807bae",
   "metadata": {},
   "outputs": [
    {
     "data": {
      "text/plain": [
       "True"
      ]
     },
     "execution_count": 406,
     "metadata": {},
     "output_type": "execute_result"
    }
   ],
   "source": [
    "torch.is_grad_enabled()"
   ]
  },
  {
   "cell_type": "code",
   "execution_count": 407,
   "id": "1509ad1a",
   "metadata": {},
   "outputs": [
    {
     "data": {
      "text/plain": [
       "False"
      ]
     },
     "execution_count": 407,
     "metadata": {},
     "output_type": "execute_result"
    }
   ],
   "source": [
    "torch.set_grad_enabled(False)\n",
    "torch.is_grad_enabled()"
   ]
  },
  {
   "cell_type": "code",
   "execution_count": 408,
   "id": "eecfe5c9",
   "metadata": {},
   "outputs": [
    {
     "data": {
      "text/plain": [
       "(True, False)"
      ]
     },
     "execution_count": 408,
     "metadata": {},
     "output_type": "execute_result"
    }
   ],
   "source": [
    "z = 2 *y\n",
    "y.requires_grad, z.requires_grad"
   ]
  },
  {
   "cell_type": "code",
   "execution_count": 409,
   "id": "56f5b581",
   "metadata": {},
   "outputs": [
    {
     "data": {
      "text/plain": [
       "True"
      ]
     },
     "execution_count": 409,
     "metadata": {},
     "output_type": "execute_result"
    }
   ],
   "source": [
    "torch.set_grad_enabled(True)\n",
    "torch.is_grad_enabled()"
   ]
  },
  {
   "cell_type": "code",
   "execution_count": 410,
   "id": "b9b00b9b",
   "metadata": {},
   "outputs": [
    {
     "data": {
      "text/plain": [
       "(True, False)"
      ]
     },
     "execution_count": 410,
     "metadata": {},
     "output_type": "execute_result"
    }
   ],
   "source": [
    "with torch.inference_mode():\n",
    "    z = x * x\n",
    "x.requires_grad, z.requires_grad"
   ]
  },
  {
   "cell_type": "code",
   "execution_count": 411,
   "id": "12c1a934",
   "metadata": {},
   "outputs": [
    {
     "data": {
      "text/plain": [
       "(True, True)"
      ]
     },
     "execution_count": 411,
     "metadata": {},
     "output_type": "execute_result"
    }
   ],
   "source": [
    "z = x * x \n",
    "x.requires_grad, z.requires_grad"
   ]
  },
  {
   "cell_type": "code",
   "execution_count": 412,
   "id": "7c07a2cb",
   "metadata": {},
   "outputs": [
    {
     "data": {
      "text/plain": [
       "(tensor([0, 1, 2, 3, 4, 5, 6, 7, 8, 9]),\n",
       " tensor([0, 1, 2, 3, 4, 5, 6, 7, 8, 9]))"
      ]
     },
     "execution_count": 412,
     "metadata": {},
     "output_type": "execute_result"
    }
   ],
   "source": [
    "x = torch.arange(10)\n",
    "y = torch.atleast_1d(x)\n",
    "x, y"
   ]
  },
  {
   "cell_type": "code",
   "execution_count": 413,
   "id": "271bcb37",
   "metadata": {},
   "outputs": [
    {
     "data": {
      "text/plain": [
       "(tensor([[0, 1, 2, 3, 4],\n",
       "         [5, 6, 7, 8, 9]]),\n",
       " tensor([[0, 1, 2, 3, 4],\n",
       "         [5, 6, 7, 8, 9]]))"
      ]
     },
     "execution_count": 413,
     "metadata": {},
     "output_type": "execute_result"
    }
   ],
   "source": [
    "x = torch.arange(10).reshape(2, 5)\n",
    "y = torch.atleast_1d(x)\n",
    "x, y"
   ]
  },
  {
   "cell_type": "code",
   "execution_count": 414,
   "id": "4304a7ab",
   "metadata": {},
   "outputs": [
    {
     "data": {
      "text/plain": [
       "(tensor(0.5000), tensor([0.5000]))"
      ]
     },
     "execution_count": 414,
     "metadata": {},
     "output_type": "execute_result"
    }
   ],
   "source": [
    "x = torch.tensor(0.5)\n",
    "y = torch.atleast_1d(x)\n",
    "x, y"
   ]
  },
  {
   "cell_type": "code",
   "execution_count": 415,
   "id": "d269cdb9",
   "metadata": {},
   "outputs": [
    {
     "data": {
      "text/plain": [
       "(tensor(0.5000), (tensor([0.5000]), tensor([1.])))"
      ]
     },
     "execution_count": 415,
     "metadata": {},
     "output_type": "execute_result"
    }
   ],
   "source": [
    "x = torch.tensor(0.5)\n",
    "y = torch.atleast_1d((x, 2*x))\n",
    "x, y"
   ]
  },
  {
   "cell_type": "code",
   "execution_count": 416,
   "id": "a9650fa1",
   "metadata": {},
   "outputs": [
    {
     "data": {
      "text/plain": [
       "(tensor([0, 1, 2, 3, 4, 5, 6, 7, 8, 9]),\n",
       " tensor([[0, 1, 2, 3, 4, 5, 6, 7, 8, 9]]),\n",
       " torch.Size([1, 10]))"
      ]
     },
     "execution_count": 416,
     "metadata": {},
     "output_type": "execute_result"
    }
   ],
   "source": [
    "x = torch.arange(10)\n",
    "y = torch.atleast_2d(x)\n",
    "x, y, y.shape"
   ]
  },
  {
   "cell_type": "code",
   "execution_count": 417,
   "id": "7b8bfc19",
   "metadata": {},
   "outputs": [
    {
     "data": {
      "text/plain": [
       "(tensor([[0, 1, 2, 3, 4, 5, 6, 7, 8, 9]]),\n",
       " tensor([[[0],\n",
       "          [1]],\n",
       " \n",
       "         [[2],\n",
       "          [3]]]))"
      ]
     },
     "execution_count": 417,
     "metadata": {},
     "output_type": "execute_result"
    }
   ],
   "source": [
    "x = torch.arange(4).view(2, 2)\n",
    "y, torch.atleast_3d(x)"
   ]
  },
  {
   "cell_type": "code",
   "execution_count": 418,
   "id": "57c9f6f7",
   "metadata": {},
   "outputs": [
    {
     "data": {
      "text/plain": [
       "(tensor([[0, 1, 2, 3, 4, 5, 6, 7, 8, 9]]),\n",
       " tensor([[[0],\n",
       "          [1],\n",
       "          [2],\n",
       "          [3]]]),\n",
       " torch.Size([1, 4, 1]))"
      ]
     },
     "execution_count": 418,
     "metadata": {},
     "output_type": "execute_result"
    }
   ],
   "source": [
    "x = torch.arange(4)\n",
    "y, torch.atleast_3d(x), torch.atleast_3d(x).shape"
   ]
  },
  {
   "cell_type": "code",
   "execution_count": 419,
   "id": "d53055b9",
   "metadata": {},
   "outputs": [
    {
     "data": {
      "text/plain": [
       "tensor([[ 1,  2,  0,  0,  0,  0],\n",
       "        [ 3,  4,  0,  0,  0,  0],\n",
       "        [ 0,  0,  5,  6,  7,  0],\n",
       "        [ 0,  0,  8,  9, 10,  0],\n",
       "        [ 0,  0, 11, 12, 13,  0],\n",
       "        [ 0,  0,  0,  0,  0, 14]])"
      ]
     },
     "execution_count": 419,
     "metadata": {},
     "output_type": "execute_result"
    }
   ],
   "source": [
    "x = torch.tensor([[1, 2], [3, 4]])\n",
    "y = torch.tensor([[5, 6, 7], [8, 9, 10], [11,12, 13]])\n",
    "z = torch.tensor(14)\n",
    "w = torch.block_diag(x, y, z)\n",
    "w"
   ]
  },
  {
   "cell_type": "code",
   "execution_count": 420,
   "id": "043c9f6d",
   "metadata": {},
   "outputs": [
    {
     "data": {
      "text/plain": [
       "(tensor([1, 2, 3]),\n",
       " tensor([[1, 2, 3],\n",
       "         [1, 2, 3],\n",
       "         [1, 2, 3]]),\n",
       " torch.Size([3, 3]))"
      ]
     },
     "execution_count": 420,
     "metadata": {},
     "output_type": "execute_result"
    }
   ],
   "source": [
    "x = torch.arange(1, 4)\n",
    "y = x.broadcast_to((3, 3))\n",
    "x, y, y.shape"
   ]
  },
  {
   "cell_type": "code",
   "execution_count": 421,
   "id": "ca0cf245",
   "metadata": {},
   "outputs": [
    {
     "data": {
      "text/plain": [
       "(torch.Size([4, 5, 6]), torch.Size([2, 4, 5, 6]))"
      ]
     },
     "execution_count": 421,
     "metadata": {},
     "output_type": "execute_result"
    }
   ],
   "source": [
    "x = torch.randn(4, 5, 6)\n",
    "y = x.broadcast_to((2, 4, 5, 6))\n",
    "x.shape, y.shape"
   ]
  },
  {
   "cell_type": "code",
   "execution_count": 422,
   "id": "2fea0c7b",
   "metadata": {},
   "outputs": [
    {
     "data": {
      "text/plain": [
       "(torch.Size([4, 5, 6]), torch.Size([4, 5, 6]))"
      ]
     },
     "execution_count": 422,
     "metadata": {},
     "output_type": "execute_result"
    }
   ],
   "source": [
    "x = torch.randn(4, 5, 6)\n",
    "y = x.expand(-1, 5, 6)\n",
    "x.shape, y.size()"
   ]
  },
  {
   "cell_type": "code",
   "execution_count": 423,
   "id": "e0c54eae",
   "metadata": {},
   "outputs": [
    {
     "data": {
      "text/plain": [
       "(torch.Size([4, 5, 6]), torch.Size([4, 5, 6]))"
      ]
     },
     "execution_count": 423,
     "metadata": {},
     "output_type": "execute_result"
    }
   ],
   "source": [
    "x = torch.randn(4, 5, 6)\n",
    "y = x.expand(-1, -1, 6,)\n",
    "x.shape, y.size()"
   ]
  },
  {
   "cell_type": "code",
   "execution_count": 424,
   "id": "e630918d",
   "metadata": {},
   "outputs": [
    {
     "data": {
      "text/plain": [
       "(torch.Size([4, 5, 6]), torch.Size([2, 4, 5, 6]))"
      ]
     },
     "execution_count": 424,
     "metadata": {},
     "output_type": "execute_result"
    }
   ],
   "source": [
    "x = torch.randn(4, 5, 6)\n",
    "y = x.expand(2, -1, -1, 6,)\n",
    "x.shape, y.size()"
   ]
  },
  {
   "cell_type": "code",
   "execution_count": 425,
   "id": "fc3e0f51",
   "metadata": {},
   "outputs": [
    {
     "data": {
      "text/plain": [
       "(torch.Size([4, 5, 6]), torch.Size([2, 2, 4, 5, 6]))"
      ]
     },
     "execution_count": 425,
     "metadata": {},
     "output_type": "execute_result"
    }
   ],
   "source": [
    "x = torch.randn(4, 5, 6)\n",
    "y = x.expand(2, 2, -1, -1, 6,)\n",
    "x.shape, y.size()"
   ]
  },
  {
   "cell_type": "code",
   "execution_count": 426,
   "id": "a033d3b0",
   "metadata": {},
   "outputs": [
    {
     "data": {
      "text/plain": [
       "(torch.Size([1, 5, 6]), torch.Size([2, 2, 10, 5, 6]))"
      ]
     },
     "execution_count": 426,
     "metadata": {},
     "output_type": "execute_result"
    }
   ],
   "source": [
    "x = torch.randn(1, 5, 6)\n",
    "y = x.expand(2, 2, 10, -1, 6,)\n",
    "x.shape, y.size()"
   ]
  },
  {
   "cell_type": "code",
   "execution_count": 427,
   "id": "9385a86c",
   "metadata": {},
   "outputs": [
    {
     "data": {
      "text/plain": [
       "(torch.Size([1, 5, 6]), torch.Size([1, 1, 5, 6]))"
      ]
     },
     "execution_count": 427,
     "metadata": {},
     "output_type": "execute_result"
    }
   ],
   "source": [
    "x = torch.randn(1, 5, 6)\n",
    "y = x.unsqueeze(0)\n",
    "x.shape, y.size()"
   ]
  },
  {
   "cell_type": "code",
   "execution_count": 428,
   "id": "184addf2",
   "metadata": {},
   "outputs": [
    {
     "data": {
      "text/plain": [
       "(tensor([[0, 1, 2]]),\n",
       " tensor([[4],\n",
       "         [5]]),\n",
       " tensor([[[8],\n",
       "          [9]]]),\n",
       " tensor([[[0, 1, 2],\n",
       "          [0, 1, 2]]]),\n",
       " tensor([[[4, 4, 4],\n",
       "          [5, 5, 5]]]),\n",
       " tensor([[[8, 8, 8],\n",
       "          [9, 9, 9]]]),\n",
       " torch.Size([1, 2, 3]),\n",
       " torch.Size([1, 2, 3]),\n",
       " torch.Size([1, 2, 3]))"
      ]
     },
     "execution_count": 428,
     "metadata": {},
     "output_type": "execute_result"
    }
   ],
   "source": [
    "x = torch.arange(3).view(1, 3)\n",
    "y = torch.arange(4, 6).view(2, 1)\n",
    "z = torch.arange(8, 10).view(1, 2, 1)\n",
    "a, b, c = torch.broadcast_tensors(x, y, z)\n",
    "x, y, z, a, b, c, a.size(), b.size(), c.size()"
   ]
  },
  {
   "cell_type": "code",
   "execution_count": 429,
   "id": "94e40931",
   "metadata": {},
   "outputs": [
    {
     "data": {
      "text/plain": [
       "torch.Size([3, 1, 4, 2])"
      ]
     },
     "execution_count": 429,
     "metadata": {},
     "output_type": "execute_result"
    }
   ],
   "source": [
    "torch.broadcast_shapes((2,), (4, 1), (3, 1, 1, 2))"
   ]
  },
  {
   "cell_type": "code",
   "execution_count": 430,
   "id": "55b85459",
   "metadata": {},
   "outputs": [
    {
     "data": {
      "text/plain": [
       "(tensor([[ 3,  6,  9, 10, 11],\n",
       "         [ 3,  6,  9, 10, 11]]),\n",
       " tensor([[1, 3, 4, 5, 5],\n",
       "         [1, 3, 4, 5, 5]]))"
      ]
     },
     "execution_count": 430,
     "metadata": {},
     "output_type": "execute_result"
    }
   ],
   "source": [
    "boundaries = torch.tensor([1, 3, 5, 7, 9])\n",
    "x = torch.tensor([[3, 6, 9, 10, 11], [3, 6, 9, 10, 11]])\n",
    "y = torch.bucketize(x, boundaries)\n",
    "x, y"
   ]
  },
  {
   "cell_type": "code",
   "execution_count": 431,
   "id": "9b164546",
   "metadata": {},
   "outputs": [
    {
     "data": {
      "text/plain": [
       "(tensor([[ 3,  6,  9, 10, 11],\n",
       "         [ 3,  6,  9, 10, 11]]),\n",
       " tensor([[2, 3, 5, 5, 5],\n",
       "         [2, 3, 5, 5, 5]]))"
      ]
     },
     "execution_count": 431,
     "metadata": {},
     "output_type": "execute_result"
    }
   ],
   "source": [
    "boundaries = torch.tensor([1, 3, 5, 7, 9])\n",
    "x = torch.tensor([[3, 6, 9, 10, 11], [3, 6, 9, 10, 11]])\n",
    "y = torch.bucketize(x, boundaries, right=True)\n",
    "x, y"
   ]
  },
  {
   "cell_type": "code",
   "execution_count": 432,
   "id": "1f6eecb6",
   "metadata": {},
   "outputs": [
    {
     "data": {
      "text/plain": [
       "tensor([[1, 4],\n",
       "        [1, 5],\n",
       "        [2, 4],\n",
       "        [2, 5],\n",
       "        [3, 4],\n",
       "        [3, 5]])"
      ]
     },
     "execution_count": 432,
     "metadata": {},
     "output_type": "execute_result"
    }
   ],
   "source": [
    "a = [1,2,3]\n",
    "b = [4, 5]\n",
    "x = torch.tensor(a)\n",
    "y = torch.tensor(b)\n",
    "z = torch.cartesian_prod(x, y)\n",
    "z"
   ]
  },
  {
   "cell_type": "code",
   "execution_count": 433,
   "id": "3950ca3b",
   "metadata": {},
   "outputs": [
    {
     "data": {
      "text/plain": [
       "(tensor([[4., 3.],\n",
       "         [4., 2.],\n",
       "         [3., 3.]]),\n",
       " tensor([[0., 0.],\n",
       "         [4., 2.]]),\n",
       " tensor([[5.0000, 1.0000],\n",
       "         [4.4721, 0.0000],\n",
       "         [4.2426, 1.4142]]))"
      ]
     },
     "execution_count": 433,
     "metadata": {},
     "output_type": "execute_result"
    }
   ],
   "source": [
    "x = torch.tensor([[4, 3], [4, 2], (3, 3)])\n",
    "y = torch.tensor([[0, 0], [4, 2]])\n",
    "x = x.to (dtype=torch.float)\n",
    "y = y.to(dtype=torch.float)\n",
    "z = torch.cdist(x, y, p=2) # (x - y) ** 2 with norm\n",
    "x, y, z"
   ]
  },
  {
   "cell_type": "code",
   "execution_count": 434,
   "id": "74a93238",
   "metadata": {},
   "outputs": [
    {
     "data": {
      "text/plain": [
       "(False, False, torch.Size([2, 4]), tensor(True))"
      ]
     },
     "execution_count": 434,
     "metadata": {},
     "output_type": "execute_result"
    }
   ],
   "source": [
    "x = torch.randn(2, 4)\n",
    "y = torch.clone(x)\n",
    "x.requires_grad, y.requires_grad, y.shape, torch.all(x== y)"
   ]
  },
  {
   "cell_type": "code",
   "execution_count": 435,
   "id": "18f892ca",
   "metadata": {},
   "outputs": [
    {
     "data": {
      "text/plain": [
       "(True, True, torch.Size([2, 4]), tensor(True))"
      ]
     },
     "execution_count": 435,
     "metadata": {},
     "output_type": "execute_result"
    }
   ],
   "source": [
    "x = torch.randn(2, 4, requires_grad=True)\n",
    "y = torch.clone(x)\n",
    "x.requires_grad, y.requires_grad, y.shape, torch.all(x== y)"
   ]
  },
  {
   "cell_type": "code",
   "execution_count": 436,
   "id": "2f070206",
   "metadata": {},
   "outputs": [
    {
     "data": {
      "text/plain": [
       "(True, True, torch.Size([2, 4]), tensor(True))"
      ]
     },
     "execution_count": 436,
     "metadata": {},
     "output_type": "execute_result"
    }
   ],
   "source": [
    "x = torch.randn(2, 4, requires_grad=True)\n",
    "y = torch.clone(x).cpu()\n",
    "x.requires_grad, y.requires_grad, y.shape, torch.all(x== y)"
   ]
  },
  {
   "cell_type": "code",
   "execution_count": 437,
   "id": "7736f397",
   "metadata": {},
   "outputs": [
    {
     "data": {
      "text/plain": [
       "(True, False, torch.Size([2, 4]), tensor(True))"
      ]
     },
     "execution_count": 437,
     "metadata": {},
     "output_type": "execute_result"
    }
   ],
   "source": [
    "x = torch.randn(2, 4, requires_grad=True)\n",
    "y = torch.clone(x).detach()\n",
    "x.requires_grad, y.requires_grad, y.shape, torch.all(x== y)"
   ]
  },
  {
   "cell_type": "code",
   "execution_count": 438,
   "id": "c686e9c7",
   "metadata": {},
   "outputs": [
    {
     "data": {
      "text/plain": [
       "(tensor([1., 2., 3., 4.]), tensor(30.))"
      ]
     },
     "execution_count": 438,
     "metadata": {},
     "output_type": "execute_result"
    }
   ],
   "source": [
    "x = torch.arange(1, 5, dtype=torch.float)\n",
    "y = torch.dot(x, x) \n",
    "x, y\n",
    " "
   ]
  },
  {
   "cell_type": "code",
   "execution_count": 439,
   "id": "14e5787e",
   "metadata": {},
   "outputs": [],
   "source": [
    "# y.backward() # error requires grad needed\n",
    "x.grad"
   ]
  },
  {
   "cell_type": "code",
   "execution_count": 440,
   "id": "480de1aa",
   "metadata": {},
   "outputs": [
    {
     "data": {
      "text/plain": [
       "(tensor([1., 2., 3., 4.], requires_grad=True),\n",
       " tensor(30., grad_fn=<DotBackward0>))"
      ]
     },
     "execution_count": 440,
     "metadata": {},
     "output_type": "execute_result"
    }
   ],
   "source": [
    "x = torch.arange(1, 5, dtype=torch.float, requires_grad=True)\n",
    "y = torch.dot(x, x) \n",
    "x, y\n",
    " "
   ]
  },
  {
   "cell_type": "code",
   "execution_count": 441,
   "id": "3ca2147b",
   "metadata": {},
   "outputs": [
    {
     "data": {
      "text/plain": [
       "tensor([2., 4., 6., 8.])"
      ]
     },
     "execution_count": 441,
     "metadata": {},
     "output_type": "execute_result"
    }
   ],
   "source": [
    "y.backward()\n",
    "x.grad # dy / dx = 2*x"
   ]
  },
  {
   "cell_type": "code",
   "execution_count": 442,
   "id": "0fb817d2",
   "metadata": {},
   "outputs": [
    {
     "data": {
      "text/plain": [
       "(tensor(2., requires_grad=True),\n",
       " tensor(4., grad_fn=<PowBackward0>),\n",
       " None,\n",
       " tensor(4.))"
      ]
     },
     "execution_count": 442,
     "metadata": {},
     "output_type": "execute_result"
    }
   ],
   "source": [
    "x = torch.tensor(2., requires_grad=True)\n",
    "y = x ** 2\n",
    "x, y, y.backward(), x.grad"
   ]
  },
  {
   "cell_type": "code",
   "execution_count": 443,
   "id": "eb496360",
   "metadata": {},
   "outputs": [
    {
     "data": {
      "text/plain": [
       "(tensor(2., requires_grad=True),\n",
       " tensor(4., grad_fn=<PowBackward0>),\n",
       " None,\n",
       " tensor(400.))"
      ]
     },
     "execution_count": 443,
     "metadata": {},
     "output_type": "execute_result"
    }
   ],
   "source": [
    "x = torch.tensor(2., requires_grad=True)\n",
    "y = x ** 2\n",
    "x, y, y.backward(torch.tensor(100.)), x.grad # v.T * J vector matrix product with the chain rule"
   ]
  },
  {
   "cell_type": "code",
   "execution_count": 444,
   "id": "6b13950d",
   "metadata": {},
   "outputs": [
    {
     "data": {
      "text/plain": [
       "(tensor([1., 2.], requires_grad=True),\n",
       " tensor(3., grad_fn=<SumBackward0>),\n",
       " None,\n",
       " tensor([1., 1.]))"
      ]
     },
     "execution_count": 444,
     "metadata": {},
     "output_type": "execute_result"
    }
   ],
   "source": [
    "x = torch.tensor([1., 2.], requires_grad=True)\n",
    "y = x.sum()\n",
    "x, y, y.backward(), x.grad "
   ]
  },
  {
   "cell_type": "code",
   "execution_count": 445,
   "id": "c4efe9e7",
   "metadata": {},
   "outputs": [
    {
     "data": {
      "text/plain": [
       "(tensor([1., 2.], requires_grad=True),\n",
       " tensor(3., grad_fn=<SumBackward0>),\n",
       " None,\n",
       " tensor([3., 3.]))"
      ]
     },
     "execution_count": 445,
     "metadata": {},
     "output_type": "execute_result"
    }
   ],
   "source": [
    "x = torch.tensor([1., 2.], requires_grad=True)\n",
    "y = x.sum()\n",
    "x, y, y.backward(torch.tensor(3.)), x.grad "
   ]
  },
  {
   "cell_type": "code",
   "execution_count": 446,
   "id": "111630be",
   "metadata": {},
   "outputs": [
    {
     "data": {
      "text/plain": [
       "(tensor([1., 2.], requires_grad=True),\n",
       " tensor(3., grad_fn=<SumBackward0>),\n",
       " None,\n",
       " tensor([1., 1.]))"
      ]
     },
     "execution_count": 446,
     "metadata": {},
     "output_type": "execute_result"
    }
   ],
   "source": [
    "x = torch.tensor([1., 2.], requires_grad=True)\n",
    "y = x.sum()\n",
    "x, y, y.backward(torch.tensor(1.)), x.grad "
   ]
  },
  {
   "cell_type": "code",
   "execution_count": 447,
   "id": "c6405373",
   "metadata": {},
   "outputs": [
    {
     "data": {
      "text/plain": [
       "(tensor([1., 2.], requires_grad=True),\n",
       " tensor([3., 5., 2.], grad_fn=<CopySlices>),\n",
       " None,\n",
       " tensor([10.,  7.]))"
      ]
     },
     "execution_count": 447,
     "metadata": {},
     "output_type": "execute_result"
    }
   ],
   "source": [
    "x = torch.tensor([1., 2.], requires_grad=True)\n",
    "y = torch.empty(3)\n",
    "y[0] = 3*x[0]**2 \n",
    "y[1] = x[0] **2 + 2*x[1]\n",
    "y[2] = x[1]\n",
    "x, y, y.backward(gradient=torch.tensor([1, 2, 3. ])), x.grad \n"
   ]
  },
  {
   "cell_type": "code",
   "execution_count": 448,
   "id": "375e18a7",
   "metadata": {},
   "outputs": [
    {
     "name": "stdout",
     "output_type": "stream",
     "text": [
      "x grad:  tensor(4.)\n",
      "x grad:  tensor(44.)\n",
      "x grad:  tensor(444.)\n"
     ]
    }
   ],
   "source": [
    "x = torch.tensor(2., requires_grad=True)\n",
    "y = x ** 2\n",
    "grads = [1, 10, 100]\n",
    "for v in grads:\n",
    "    y.backward(torch.tensor(v), retain_graph=True)\n",
    "    print(\"x grad: \", x.grad)"
   ]
  },
  {
   "cell_type": "code",
   "execution_count": 449,
   "id": "c1648ab5",
   "metadata": {},
   "outputs": [
    {
     "name": "stdout",
     "output_type": "stream",
     "text": [
      "x grad:  tensor(4.)\n",
      "x grad:  tensor(40.)\n",
      "x grad:  tensor(400.)\n"
     ]
    }
   ],
   "source": [
    "x = torch.tensor(2., requires_grad=True)\n",
    "y = x ** 2\n",
    "grads = [1, 10, 100]\n",
    "for v in grads:\n",
    "    y.backward(torch.tensor(v), retain_graph=True) \n",
    "    print(\"x grad: \", x.grad)\n",
    "    x.grad.data.zero_()\n",
    "    "
   ]
  },
  {
   "cell_type": "code",
   "execution_count": 450,
   "id": "96452550",
   "metadata": {},
   "outputs": [
    {
     "data": {
      "text/plain": [
       "(False, True, None, tensor(4.), tensor(True))"
      ]
     },
     "execution_count": 450,
     "metadata": {},
     "output_type": "execute_result"
    }
   ],
   "source": [
    "x = torch.tensor(2., requires_grad=True)\n",
    "y = x ** 2\n",
    "u = y.detach()\n",
    "w = u * x\n",
    "u.requires_grad, y.requires_grad, w.backward(), x.grad, x.grad == u"
   ]
  },
  {
   "cell_type": "code",
   "execution_count": 451,
   "id": "212c7075",
   "metadata": {},
   "outputs": [
    {
     "name": "stderr",
     "output_type": "stream",
     "text": [
      "/home/mtb/env/lib/python3.9/site-packages/torch/_tensor.py:1083: UserWarning: The .grad attribute of a Tensor that is not a leaf Tensor is being accessed. Its .grad attribute won't be populated during autograd.backward(). If you indeed want the .grad field to be populated for a non-leaf Tensor, use .retain_grad() on the non-leaf Tensor. If you access the non-leaf Tensor by mistake, make sure you access the leaf Tensor instead. See github.com/pytorch/pytorch/pull/30531 for more informations. (Triggered internally at  aten/src/ATen/core/TensorBody.h:477.)\n",
      "  return self._grad\n"
     ]
    },
    {
     "data": {
      "text/plain": [
       "(None, tensor(8.))"
      ]
     },
     "execution_count": 451,
     "metadata": {},
     "output_type": "execute_result"
    }
   ],
   "source": [
    "z = y + 2\n",
    "z.backward(retain_graph=True)\n",
    "y.grad, x.grad"
   ]
  },
  {
   "cell_type": "code",
   "execution_count": 452,
   "id": "aaeebefd",
   "metadata": {},
   "outputs": [
    {
     "data": {
      "text/plain": [
       "(tensor(1.), tensor(12.))"
      ]
     },
     "execution_count": 452,
     "metadata": {},
     "output_type": "execute_result"
    }
   ],
   "source": [
    "z = y + 2\n",
    "y.retain_grad()\n",
    "z.backward(retain_graph=True)\n",
    "y.grad, x.grad"
   ]
  },
  {
   "cell_type": "code",
   "execution_count": 453,
   "id": "30fe3f2d",
   "metadata": {},
   "outputs": [
    {
     "data": {
      "text/plain": [
       "([1, 2, 3],\n",
       " [(1, 2), (1, 3), (2, 3)],\n",
       " [(1, 1), (1, 2), (1, 3), (2, 2), (2, 3), (3, 3)])"
      ]
     },
     "execution_count": 453,
     "metadata": {},
     "output_type": "execute_result"
    }
   ],
   "source": [
    "a = [1, 2, 3]\n",
    "b = list(itertools.combinations(a, 2))\n",
    "c = list(itertools.combinations_with_replacement(a, 2))\n",
    "a, b, c"
   ]
  },
  {
   "cell_type": "code",
   "execution_count": 454,
   "id": "d01a5f49",
   "metadata": {},
   "outputs": [
    {
     "data": {
      "text/plain": [
       "(tensor([1, 2, 3]),\n",
       " tensor([[1, 2],\n",
       "         [1, 3],\n",
       "         [2, 3]]),\n",
       " tensor([[1, 1],\n",
       "         [1, 2],\n",
       "         [1, 3],\n",
       "         [2, 2],\n",
       "         [2, 3],\n",
       "         [3, 3]]))"
      ]
     },
     "execution_count": 454,
     "metadata": {},
     "output_type": "execute_result"
    }
   ],
   "source": [
    "x = torch.arange(1, 4)\n",
    "y = torch.combinations(x, r=2)\n",
    "z = torch.combinations(x, r=2, with_replacement=True)\n",
    "x, y, z"
   ]
  },
  {
   "cell_type": "code",
   "execution_count": 455,
   "id": "5dc74b2f",
   "metadata": {},
   "outputs": [
    {
     "data": {
      "text/plain": [
       "(tensor([[ 0.6489, -0.7172, -0.9382, -0.6951, -2.2937],\n",
       "         [-1.1244, -0.5851, -1.0027, -0.1789, -0.3659]]),\n",
       " tensor([[ 1.0000, -0.5955],\n",
       "         [-0.5955,  1.0000]]))"
      ]
     },
     "execution_count": 455,
     "metadata": {},
     "output_type": "execute_result"
    }
   ],
   "source": [
    "x = torch.randn(2, 5)\n",
    "y = torch.corrcoef(x)\n",
    "x, y"
   ]
  },
  {
   "cell_type": "code",
   "execution_count": 456,
   "id": "08b062a1",
   "metadata": {},
   "outputs": [
    {
     "data": {
      "text/plain": [
       "(tensor([[-1.0815, -0.1339, -0.9536, -1.4309,  0.0833,  0.2130, -1.4141,  1.1171,\n",
       "          -1.9452,  1.0358],\n",
       "         [-0.4225,  1.6676,  0.3320, -1.0407, -1.3316,  1.8352, -0.7641,  1.3177,\n",
       "          -0.5753, -0.6314]]),\n",
       " tensor([[1.0000, 0.4336],\n",
       "         [0.4336, 1.0000]]))"
      ]
     },
     "execution_count": 456,
     "metadata": {},
     "output_type": "execute_result"
    }
   ],
   "source": [
    "x = torch.randn(2, 10)\n",
    "y = torch.corrcoef(x)\n",
    "x, y"
   ]
  },
  {
   "cell_type": "code",
   "execution_count": 457,
   "id": "b588ed39",
   "metadata": {},
   "outputs": [
    {
     "data": {
      "text/plain": [
       "(tensor([[ 1.8842, -1.1690,  1.3774, -0.2219,  0.9089, -1.0477,  0.2553,  1.1732,\n",
       "           0.4442,  2.4408],\n",
       "         [-1.2143, -0.1353,  0.9550, -0.7599,  0.1419,  0.8651,  0.2730,  1.3451,\n",
       "           0.9469, -0.4589],\n",
       "         [ 1.0038,  0.1288,  0.5153, -1.1387, -0.5295, -1.0948, -1.0750,  0.2590,\n",
       "           0.0224, -1.1082]]),\n",
       " tensor([[ 1.0000, -0.1844,  0.2992],\n",
       "         [-0.1844,  1.0000,  0.0459],\n",
       "         [ 0.2992,  0.0459,  1.0000]]))"
      ]
     },
     "execution_count": 457,
     "metadata": {},
     "output_type": "execute_result"
    }
   ],
   "source": [
    "x = torch.randn(3, 10)\n",
    "y = torch.corrcoef(x)\n",
    "x, y"
   ]
  },
  {
   "cell_type": "code",
   "execution_count": 458,
   "id": "2c41e1df",
   "metadata": {},
   "outputs": [
    {
     "data": {
      "text/plain": [
       "(tensor([1.4143, 0.7065, 0.6229]), tensor([ 0.6045,  0.1959, -0.3017]))"
      ]
     },
     "execution_count": 458,
     "metadata": {},
     "output_type": "execute_result"
    }
   ],
   "source": [
    "torch.var(x, axis=1), torch.mean(x, axis=1)"
   ]
  },
  {
   "cell_type": "code",
   "execution_count": 459,
   "id": "5105e6f6",
   "metadata": {},
   "outputs": [
    {
     "data": {
      "text/plain": [
       "tensor([[ 1.4143, -0.1843,  0.2808],\n",
       "        [-0.1843,  0.7065,  0.0305],\n",
       "        [ 0.2808,  0.0305,  0.6229]])"
      ]
     },
     "execution_count": 459,
     "metadata": {},
     "output_type": "execute_result"
    }
   ],
   "source": [
    "torch.cov(x)"
   ]
  },
  {
   "cell_type": "code",
   "execution_count": 460,
   "id": "19347ea6",
   "metadata": {},
   "outputs": [
    {
     "data": {
      "text/plain": [
       "tensor(0.1382)"
      ]
     },
     "execution_count": 460,
     "metadata": {},
     "output_type": "execute_result"
    }
   ],
   "source": [
    "0.1139 / (torch.sqrt(torch.tensor(1.0533) * torch.tensor(0.6452)))"
   ]
  },
  {
   "cell_type": "code",
   "execution_count": 461,
   "id": "5568c0ac",
   "metadata": {},
   "outputs": [
    {
     "data": {
      "text/plain": [
       "(tensor([-1.4717, -1.1042, -0.4673, -0.2808, -0.9382,  0.0370,  0.1039, -0.6336,\n",
       "         -0.5757,  0.3264]),\n",
       " tensor(1.),\n",
       " tensor(0.3233))"
      ]
     },
     "execution_count": 461,
     "metadata": {},
     "output_type": "execute_result"
    }
   ],
   "source": [
    "x = torch.randn(10)\n",
    "y = torch.corrcoef(x)\n",
    "z = torch.cov(x)\n",
    "x, y, z"
   ]
  },
  {
   "cell_type": "code",
   "execution_count": 462,
   "id": "9fef5995",
   "metadata": {},
   "outputs": [
    {
     "data": {
      "text/plain": [
       "(tensor([[ 0.0884,  0.7748, -1.2376],\n",
       "         [ 0.8706,  0.2863, -0.5158],\n",
       "         [-0.4885, -1.0767,  0.6956],\n",
       "         [-1.9075, -1.4554,  0.5698],\n",
       "         [ 1.1666,  1.6137,  0.1929]]),\n",
       " tensor([[ 0.2460,  0.8164, -0.5063],\n",
       "         [-1.2864, -1.7736,  0.8414],\n",
       "         [-0.5583,  0.6094, -1.1402],\n",
       "         [-0.8559,  0.6871, -1.2597],\n",
       "         [ 0.4824,  1.5709,  0.5711]]),\n",
       " tensor([[ 0.6180, -0.2597, -0.1184],\n",
       "         [-0.6739, -0.0689, -1.1756],\n",
       "         [ 0.8038, -0.9453, -0.8988],\n",
       "         [ 1.4419, -2.8904, -2.5563],\n",
       "         [ 0.6186, -0.5732,  1.0541]]),\n",
       " tensor([[ 0.6180, -0.2597, -0.1184],\n",
       "         [-0.6739, -0.0689, -1.1756],\n",
       "         [ 0.8038, -0.9453, -0.8988],\n",
       "         [ 1.4419, -2.8904, -2.5563],\n",
       "         [ 0.6186, -0.5732,  1.0541]]),\n",
       " torch.Size([5, 3]),\n",
       " torch.Size([5, 3]))"
      ]
     },
     "execution_count": 462,
     "metadata": {},
     "output_type": "execute_result"
    }
   ],
   "source": [
    "x = torch.randn(5, 3)\n",
    "y = torch.randn(5, 3)\n",
    "z = torch.cross(x, y)\n",
    "# w = torch.cross(x, y, dim=0) # error because size != 3 in dim0\n",
    "u = torch.cross(x, y, dim=1)\n",
    "x, y, z, u, z.shape, u.shape"
   ]
  },
  {
   "cell_type": "code",
   "execution_count": 463,
   "id": "f71cdc91",
   "metadata": {},
   "outputs": [
    {
     "data": {
      "text/plain": [
       "torch.Size([5, 2, 3])"
      ]
     },
     "execution_count": 463,
     "metadata": {},
     "output_type": "execute_result"
    }
   ],
   "source": [
    "x = torch.randn(5, 2, 3)\n",
    "y = torch.randn(5, 1, 3)\n",
    "u = torch.cross(x, y, dim=-1)\n",
    "u.shape"
   ]
  },
  {
   "cell_type": "code",
   "execution_count": 464,
   "id": "2d57b81b",
   "metadata": {},
   "outputs": [
    {
     "data": {
      "text/plain": [
       "(torch.Size([3, 2, 3]), torch.Size([3, 2, 3]))"
      ]
     },
     "execution_count": 464,
     "metadata": {},
     "output_type": "execute_result"
    }
   ],
   "source": [
    "x = torch.randn(3, 2, 3)\n",
    "y = torch.randn(3, 1, 3)\n",
    "u = torch.cross(x, y, dim=0)\n",
    "z = torch.cross(x, y, dim=2)\n",
    "u.shape, z.shape"
   ]
  },
  {
   "cell_type": "code",
   "execution_count": 465,
   "id": "e9771ece",
   "metadata": {},
   "outputs": [
    {
     "data": {
      "text/plain": [
       "(tensor([[ 0,  1,  2],\n",
       "         [ 3,  4,  5],\n",
       "         [ 6,  7,  8],\n",
       "         [ 9, 10, 11]]),\n",
       " tensor([[ 0,  1,  3],\n",
       "         [ 3,  7, 12],\n",
       "         [ 6, 13, 21],\n",
       "         [ 9, 19, 30]]))"
      ]
     },
     "execution_count": 465,
     "metadata": {},
     "output_type": "execute_result"
    }
   ],
   "source": [
    "x = torch.arange(12).view(4, 3)\n",
    "y = torch.cumsum(x, 1)\n",
    "x, y"
   ]
  },
  {
   "cell_type": "code",
   "execution_count": 466,
   "id": "3a43adeb",
   "metadata": {},
   "outputs": [
    {
     "data": {
      "text/plain": [
       "(tensor([[ 0,  1,  2],\n",
       "         [ 3,  4,  5],\n",
       "         [ 6,  7,  8],\n",
       "         [ 9, 10, 11]]),\n",
       " tensor([[ 0,  1,  2],\n",
       "         [ 3,  5,  7],\n",
       "         [ 9, 12, 15],\n",
       "         [18, 22, 26]]))"
      ]
     },
     "execution_count": 466,
     "metadata": {},
     "output_type": "execute_result"
    }
   ],
   "source": [
    "x = torch.arange(12).view(4, 3)\n",
    "y = torch.cumsum(x, 0)\n",
    "x, y"
   ]
  },
  {
   "cell_type": "code",
   "execution_count": 467,
   "id": "aabfedeb",
   "metadata": {},
   "outputs": [
    {
     "data": {
      "text/plain": [
       "(tensor([[ 0,  1,  2],\n",
       "         [ 3,  4,  5],\n",
       "         [ 6,  7,  8],\n",
       "         [ 9, 10, 11]]),\n",
       " torch.return_types.cummin(\n",
       " values=tensor([[0, 1, 2],\n",
       "         [0, 1, 2],\n",
       "         [0, 1, 2],\n",
       "         [0, 1, 2]]),\n",
       " indices=tensor([[0, 0, 0],\n",
       "         [0, 0, 0],\n",
       "         [0, 0, 0],\n",
       "         [0, 0, 0]])))"
      ]
     },
     "execution_count": 467,
     "metadata": {},
     "output_type": "execute_result"
    }
   ],
   "source": [
    "x = torch.arange(12).view(4, 3)\n",
    "y = torch.cummin(x, 0)\n",
    "x, y"
   ]
  },
  {
   "cell_type": "code",
   "execution_count": 468,
   "id": "bac15120",
   "metadata": {},
   "outputs": [
    {
     "data": {
      "text/plain": [
       "(tensor([[ 0,  3,  6,  9],\n",
       "         [ 1,  4,  7, 10],\n",
       "         [ 2,  5,  8, 11]]),\n",
       " torch.return_types.cummax(\n",
       " values=tensor([[ 0,  3,  6,  9],\n",
       "         [ 1,  4,  7, 10],\n",
       "         [ 2,  5,  8, 11]]),\n",
       " indices=tensor([[0, 0, 0, 0],\n",
       "         [1, 1, 1, 1],\n",
       "         [2, 2, 2, 2]])))"
      ]
     },
     "execution_count": 468,
     "metadata": {},
     "output_type": "execute_result"
    }
   ],
   "source": [
    "x = torch.arange(12).view(4, 3).T\n",
    "y = torch.cummax(x, 0)\n",
    "x, y"
   ]
  },
  {
   "cell_type": "code",
   "execution_count": 469,
   "id": "5eed5e71",
   "metadata": {},
   "outputs": [
    {
     "data": {
      "text/plain": [
       "(tensor([[ 0,  3,  6,  9],\n",
       "         [ 1,  4,  7, 10],\n",
       "         [ 2,  5,  8, 11]]),\n",
       " torch.return_types.cummin(\n",
       " values=tensor([[0, 0, 0, 0],\n",
       "         [1, 1, 1, 1],\n",
       "         [2, 2, 2, 2]]),\n",
       " indices=tensor([[0, 0, 0, 0],\n",
       "         [0, 0, 0, 0],\n",
       "         [0, 0, 0, 0]])))"
      ]
     },
     "execution_count": 469,
     "metadata": {},
     "output_type": "execute_result"
    }
   ],
   "source": [
    "x = torch.arange(12).view(4, 3).T\n",
    "y = torch.cummin(x, 1)\n",
    "x, y"
   ]
  },
  {
   "cell_type": "code",
   "execution_count": 470,
   "id": "25d84d51",
   "metadata": {},
   "outputs": [
    {
     "data": {
      "text/plain": [
       "tensor([[[ 0.8187, -0.1803],\n",
       "         [-0.1022,  0.1973],\n",
       "         [-0.2281, -0.2867]],\n",
       "\n",
       "        [[ 0.4514,  0.3066],\n",
       "         [ 0.3160, -0.5549],\n",
       "         [-0.0886,  0.0631]],\n",
       "\n",
       "        [[-1.3873,  0.5322],\n",
       "         [ 1.2447, -0.0645],\n",
       "         [ 1.1786,  0.0176]],\n",
       "\n",
       "        [[ 1.6241, -1.3159],\n",
       "         [-1.6408, -1.0765],\n",
       "         [ 0.3575,  1.8586]]])"
      ]
     },
     "execution_count": 470,
     "metadata": {},
     "output_type": "execute_result"
    }
   ],
   "source": [
    "x = torch.randn(4, 3, 2)\n",
    "y = torch.cumprod(x, 1) \n",
    "y"
   ]
  },
  {
   "cell_type": "code",
   "execution_count": 471,
   "id": "65194b4f",
   "metadata": {},
   "outputs": [
    {
     "data": {
      "text/plain": [
       "(tensor([0, 1, 2, 3, 4]),\n",
       " tensor([[0, 0, 0, 0, 0],\n",
       "         [0, 1, 0, 0, 0],\n",
       "         [0, 0, 2, 0, 0],\n",
       "         [0, 0, 0, 3, 0],\n",
       "         [0, 0, 0, 0, 4]]))"
      ]
     },
     "execution_count": 471,
     "metadata": {},
     "output_type": "execute_result"
    }
   ],
   "source": [
    "x = torch.arange(5)\n",
    "y = torch.diag(x)\n",
    "x, y"
   ]
  },
  {
   "cell_type": "code",
   "execution_count": 472,
   "id": "3a75217f",
   "metadata": {},
   "outputs": [
    {
     "data": {
      "text/plain": [
       "(tensor([0, 1, 2, 3, 4]),\n",
       " tensor([[0, 0, 0, 0, 0, 0],\n",
       "         [0, 0, 1, 0, 0, 0],\n",
       "         [0, 0, 0, 2, 0, 0],\n",
       "         [0, 0, 0, 0, 3, 0],\n",
       "         [0, 0, 0, 0, 0, 4],\n",
       "         [0, 0, 0, 0, 0, 0]]))"
      ]
     },
     "execution_count": 472,
     "metadata": {},
     "output_type": "execute_result"
    }
   ],
   "source": [
    "x = torch.arange(5)\n",
    "y = torch.diag(x, diagonal=1)\n",
    "x, y"
   ]
  },
  {
   "cell_type": "code",
   "execution_count": 473,
   "id": "f8745969",
   "metadata": {},
   "outputs": [
    {
     "data": {
      "text/plain": [
       "(tensor([0, 1, 2, 3, 4]),\n",
       " tensor([[0, 0, 0, 0, 0, 0],\n",
       "         [0, 0, 0, 0, 0, 0],\n",
       "         [0, 1, 0, 0, 0, 0],\n",
       "         [0, 0, 2, 0, 0, 0],\n",
       "         [0, 0, 0, 3, 0, 0],\n",
       "         [0, 0, 0, 0, 4, 0]]))"
      ]
     },
     "execution_count": 473,
     "metadata": {},
     "output_type": "execute_result"
    }
   ],
   "source": [
    "x = torch.arange(5)\n",
    "y = torch.diag(x, diagonal=-1)\n",
    "x, y"
   ]
  },
  {
   "cell_type": "code",
   "execution_count": 474,
   "id": "ae7bdf98",
   "metadata": {},
   "outputs": [
    {
     "data": {
      "text/plain": [
       "(tensor([[-0.7003,  0.1005, -1.0682],\n",
       "         [-0.1945,  0.8185,  0.4262]]),\n",
       " tensor([[[-0.7003,  0.0000,  0.0000],\n",
       "          [ 0.0000,  0.1005,  0.0000],\n",
       "          [ 0.0000,  0.0000, -1.0682]],\n",
       " \n",
       "         [[-0.1945,  0.0000,  0.0000],\n",
       "          [ 0.0000,  0.8185,  0.0000],\n",
       "          [ 0.0000,  0.0000,  0.4262]]]))"
      ]
     },
     "execution_count": 474,
     "metadata": {},
     "output_type": "execute_result"
    }
   ],
   "source": [
    "x = torch.randn(2, 3)\n",
    "y = torch.diag_embed(x)\n",
    "x, y"
   ]
  },
  {
   "cell_type": "code",
   "execution_count": 475,
   "id": "0586ace6",
   "metadata": {},
   "outputs": [
    {
     "data": {
      "text/plain": [
       "(tensor([[-0.2323,  0.0559, -0.6362],\n",
       "         [ 0.3677,  1.0201,  0.8712]]),\n",
       " tensor([[[ 0.0000, -0.2323,  0.0000,  0.0000],\n",
       "          [ 0.0000,  0.0000,  0.0559,  0.0000],\n",
       "          [ 0.0000,  0.0000,  0.0000, -0.6362],\n",
       "          [ 0.0000,  0.0000,  0.0000,  0.0000]],\n",
       " \n",
       "         [[ 0.0000,  0.3677,  0.0000,  0.0000],\n",
       "          [ 0.0000,  0.0000,  1.0201,  0.0000],\n",
       "          [ 0.0000,  0.0000,  0.0000,  0.8712],\n",
       "          [ 0.0000,  0.0000,  0.0000,  0.0000]]]))"
      ]
     },
     "execution_count": 475,
     "metadata": {},
     "output_type": "execute_result"
    }
   ],
   "source": [
    "x = torch.randn(2, 3)\n",
    "y = torch.diag_embed(x, offset=1)\n",
    "x, y"
   ]
  },
  {
   "cell_type": "code",
   "execution_count": 476,
   "id": "1630b0fa",
   "metadata": {},
   "outputs": [
    {
     "data": {
      "text/plain": [
       "(tensor([[-0.3835,  0.9400, -1.0051],\n",
       "         [ 0.3838,  1.0032,  1.5143]]),\n",
       " tensor([[[-0.3835,  0.0000,  0.0000],\n",
       "          [ 0.0000,  0.9400,  0.0000],\n",
       "          [ 0.0000,  0.0000, -1.0051]],\n",
       " \n",
       "         [[ 0.3838,  0.0000,  0.0000],\n",
       "          [ 0.0000,  1.0032,  0.0000],\n",
       "          [ 0.0000,  0.0000,  1.5143]]]))"
      ]
     },
     "execution_count": 476,
     "metadata": {},
     "output_type": "execute_result"
    }
   ],
   "source": [
    "x = torch.randn(2, 3)\n",
    "y = torch.diag_embed(x, dim1=-2, dim2=-1)\n",
    "x, y"
   ]
  },
  {
   "cell_type": "code",
   "execution_count": 477,
   "id": "3d7a62ba",
   "metadata": {},
   "outputs": [
    {
     "data": {
      "text/plain": [
       "(tensor([[ 1.8669, -1.8458,  0.2690],\n",
       "         [ 0.6298, -0.8021,  0.5505]]),\n",
       " tensor([[[ 1.8669,  0.0000,  0.0000],\n",
       "          [ 0.0000, -1.8458,  0.0000],\n",
       "          [ 0.0000,  0.0000,  0.2690]],\n",
       " \n",
       "         [[ 0.6298,  0.0000,  0.0000],\n",
       "          [ 0.0000, -0.8021,  0.0000],\n",
       "          [ 0.0000,  0.0000,  0.5505]]]))"
      ]
     },
     "execution_count": 477,
     "metadata": {},
     "output_type": "execute_result"
    }
   ],
   "source": [
    "x = torch.randn(2, 3)\n",
    "y = torch.diag_embed(x, dim1=-1, dim2=-2)\n",
    "x, y"
   ]
  },
  {
   "cell_type": "code",
   "execution_count": 478,
   "id": "51668d75",
   "metadata": {},
   "outputs": [
    {
     "data": {
      "text/plain": [
       "(tensor([[-1.8928,  0.0933,  0.8347],\n",
       "         [-2.4235,  0.3783,  2.6530]]),\n",
       " tensor([[[ 0.0000, -1.8928,  0.0000,  0.0000],\n",
       "          [ 0.0000,  0.0000,  0.0933,  0.0000],\n",
       "          [ 0.0000,  0.0000,  0.0000,  0.8347],\n",
       "          [ 0.0000,  0.0000,  0.0000,  0.0000]],\n",
       " \n",
       "         [[ 0.0000, -2.4235,  0.0000,  0.0000],\n",
       "          [ 0.0000,  0.0000,  0.3783,  0.0000],\n",
       "          [ 0.0000,  0.0000,  0.0000,  2.6530],\n",
       "          [ 0.0000,  0.0000,  0.0000,  0.0000]]]))"
      ]
     },
     "execution_count": 478,
     "metadata": {},
     "output_type": "execute_result"
    }
   ],
   "source": [
    "x = torch.randn(2, 3)\n",
    "y = torch.diag_embed(x, offset=1)\n",
    "x, y"
   ]
  },
  {
   "cell_type": "code",
   "execution_count": 479,
   "id": "0872b8ea",
   "metadata": {},
   "outputs": [
    {
     "data": {
      "text/plain": [
       "(tensor([[ 0.0515, -0.6617, -0.3073],\n",
       "         [ 0.4504, -0.1272,  0.7005]]),\n",
       " tensor([[[ 0.0000,  0.0000,  0.0515,  0.0000,  0.0000],\n",
       "          [ 0.0000,  0.0000,  0.0000, -0.6617,  0.0000],\n",
       "          [ 0.0000,  0.0000,  0.0000,  0.0000, -0.3073],\n",
       "          [ 0.0000,  0.0000,  0.0000,  0.0000,  0.0000],\n",
       "          [ 0.0000,  0.0000,  0.0000,  0.0000,  0.0000]],\n",
       " \n",
       "         [[ 0.0000,  0.0000,  0.4504,  0.0000,  0.0000],\n",
       "          [ 0.0000,  0.0000,  0.0000, -0.1272,  0.0000],\n",
       "          [ 0.0000,  0.0000,  0.0000,  0.0000,  0.7005],\n",
       "          [ 0.0000,  0.0000,  0.0000,  0.0000,  0.0000],\n",
       "          [ 0.0000,  0.0000,  0.0000,  0.0000,  0.0000]]]))"
      ]
     },
     "execution_count": 479,
     "metadata": {},
     "output_type": "execute_result"
    }
   ],
   "source": [
    "x = torch.randn(2, 3)\n",
    "y = torch.diag_embed(x, offset=2)\n",
    "x, y"
   ]
  },
  {
   "cell_type": "code",
   "execution_count": 480,
   "id": "afea239b",
   "metadata": {},
   "outputs": [
    {
     "data": {
      "text/plain": [
       "(tensor([[-0.4178, -0.1203,  0.1156],\n",
       "         [ 1.1124,  0.9308,  2.0012]]),\n",
       " tensor([[[ 0.0000, -0.4178,  0.0000,  0.0000],\n",
       "          [ 0.0000,  0.0000, -0.1203,  0.0000],\n",
       "          [ 0.0000,  0.0000,  0.0000,  0.1156],\n",
       "          [ 0.0000,  0.0000,  0.0000,  0.0000]],\n",
       " \n",
       "         [[ 0.0000,  1.1124,  0.0000,  0.0000],\n",
       "          [ 0.0000,  0.0000,  0.9308,  0.0000],\n",
       "          [ 0.0000,  0.0000,  0.0000,  2.0012],\n",
       "          [ 0.0000,  0.0000,  0.0000,  0.0000]]]))"
      ]
     },
     "execution_count": 480,
     "metadata": {},
     "output_type": "execute_result"
    }
   ],
   "source": [
    "x = torch.randn(2, 3)\n",
    "y = torch.diag_embed(x, offset=1, dim1=-2, dim2=-1)\n",
    "x, y"
   ]
  },
  {
   "cell_type": "code",
   "execution_count": 481,
   "id": "afea239b",
   "metadata": {},
   "outputs": [
    {
     "data": {
      "text/plain": [
       "(tensor([[ 1.3853,  0.5905,  0.7962],\n",
       "         [-0.6143, -1.4441,  1.2330]]),\n",
       " tensor([[[ 0.0000,  0.0000,  0.0000,  0.0000],\n",
       "          [ 1.3853,  0.0000,  0.0000,  0.0000],\n",
       "          [ 0.0000,  0.5905,  0.0000,  0.0000],\n",
       "          [ 0.0000,  0.0000,  0.7962,  0.0000]],\n",
       " \n",
       "         [[ 0.0000,  0.0000,  0.0000,  0.0000],\n",
       "          [-0.6143,  0.0000,  0.0000,  0.0000],\n",
       "          [ 0.0000, -1.4441,  0.0000,  0.0000],\n",
       "          [ 0.0000,  0.0000,  1.2330,  0.0000]]]))"
      ]
     },
     "execution_count": 481,
     "metadata": {},
     "output_type": "execute_result"
    }
   ],
   "source": [
    "x = torch.randn(2, 3)\n",
    "y = torch.diag_embed(x, offset=1, dim1=-1, dim2=-2)\n",
    "x, y"
   ]
  },
  {
   "cell_type": "code",
   "execution_count": 482,
   "id": "48e4dde7",
   "metadata": {},
   "outputs": [
    {
     "data": {
      "text/plain": [
       "(tensor([[ 0.6252,  1.7955,  0.8820],\n",
       "         [-2.2217,  1.8622,  0.4288]]),\n",
       " tensor([[[ 0.0000,  0.0000,  0.0000,  0.0000,  0.0000],\n",
       "          [ 0.0000,  0.0000,  0.0000,  0.0000,  0.0000],\n",
       "          [ 0.6252,  0.0000,  0.0000,  0.0000,  0.0000],\n",
       "          [ 0.0000,  1.7955,  0.0000,  0.0000,  0.0000],\n",
       "          [ 0.0000,  0.0000,  0.8820,  0.0000,  0.0000]],\n",
       " \n",
       "         [[ 0.0000,  0.0000,  0.0000,  0.0000,  0.0000],\n",
       "          [ 0.0000,  0.0000,  0.0000,  0.0000,  0.0000],\n",
       "          [-2.2217,  0.0000,  0.0000,  0.0000,  0.0000],\n",
       "          [ 0.0000,  1.8622,  0.0000,  0.0000,  0.0000],\n",
       "          [ 0.0000,  0.0000,  0.4288,  0.0000,  0.0000]]]))"
      ]
     },
     "execution_count": 482,
     "metadata": {},
     "output_type": "execute_result"
    }
   ],
   "source": [
    "x = torch.randn(2, 3)\n",
    "y = torch.diag_embed(x, offset=2, dim1=-1, dim2=-2)\n",
    "x, y"
   ]
  },
  {
   "cell_type": "code",
   "execution_count": 483,
   "id": "b5a8b8e5",
   "metadata": {},
   "outputs": [
    {
     "data": {
      "text/plain": [
       "(tensor([[-1.2454, -0.0886,  0.3761],\n",
       "         [-1.9998, -0.3850, -1.7887]]),\n",
       " tensor([[[ 0.0000,  0.0000, -1.2454,  0.0000,  0.0000],\n",
       "          [ 0.0000,  0.0000,  0.0000, -0.0886,  0.0000],\n",
       "          [ 0.0000,  0.0000,  0.0000,  0.0000,  0.3761],\n",
       "          [ 0.0000,  0.0000,  0.0000,  0.0000,  0.0000],\n",
       "          [ 0.0000,  0.0000,  0.0000,  0.0000,  0.0000]],\n",
       " \n",
       "         [[ 0.0000,  0.0000, -1.9998,  0.0000,  0.0000],\n",
       "          [ 0.0000,  0.0000,  0.0000, -0.3850,  0.0000],\n",
       "          [ 0.0000,  0.0000,  0.0000,  0.0000, -1.7887],\n",
       "          [ 0.0000,  0.0000,  0.0000,  0.0000,  0.0000],\n",
       "          [ 0.0000,  0.0000,  0.0000,  0.0000,  0.0000]]]))"
      ]
     },
     "execution_count": 483,
     "metadata": {},
     "output_type": "execute_result"
    }
   ],
   "source": [
    "x = torch.randn(2, 3)\n",
    "y = torch.diag_embed(x, offset=2, dim1=-2, dim2=-1)\n",
    "x, y"
   ]
  },
  {
   "cell_type": "code",
   "execution_count": 484,
   "id": "d8b7d1aa",
   "metadata": {},
   "outputs": [
    {
     "data": {
      "text/plain": [
       "(tensor([[-1.5236,  0.3956, -0.7570],\n",
       "         [-0.5083, -0.0644,  0.7055]]),\n",
       " tensor([[[ 0.0000,  0.0000,  0.0000,  0.0000,  0.0000],\n",
       "          [ 0.0000,  0.0000,  0.0000,  0.0000,  0.0000],\n",
       "          [-1.5236,  0.0000,  0.0000,  0.0000,  0.0000],\n",
       "          [ 0.0000,  0.3956,  0.0000,  0.0000,  0.0000],\n",
       "          [ 0.0000,  0.0000, -0.7570,  0.0000,  0.0000]],\n",
       " \n",
       "         [[ 0.0000,  0.0000,  0.0000,  0.0000,  0.0000],\n",
       "          [ 0.0000,  0.0000,  0.0000,  0.0000,  0.0000],\n",
       "          [-0.5083,  0.0000,  0.0000,  0.0000,  0.0000],\n",
       "          [ 0.0000, -0.0644,  0.0000,  0.0000,  0.0000],\n",
       "          [ 0.0000,  0.0000,  0.7055,  0.0000,  0.0000]]]))"
      ]
     },
     "execution_count": 484,
     "metadata": {},
     "output_type": "execute_result"
    }
   ],
   "source": [
    "x = torch.randn(2, 3)\n",
    "y = torch.diag_embed(x, offset=-2,)\n",
    "x, y"
   ]
  },
  {
   "cell_type": "code",
   "execution_count": 485,
   "id": "ad317ab9",
   "metadata": {},
   "outputs": [
    {
     "data": {
      "text/plain": [
       "(tensor([[-0.6430, -0.0176,  1.3924],\n",
       "         [-0.6420, -1.7586, -0.5472]]),\n",
       " tensor([[[ 0.0000,  0.0000, -0.6430,  0.0000,  0.0000],\n",
       "          [ 0.0000,  0.0000,  0.0000, -0.0176,  0.0000],\n",
       "          [ 0.0000,  0.0000,  0.0000,  0.0000,  1.3924],\n",
       "          [ 0.0000,  0.0000,  0.0000,  0.0000,  0.0000],\n",
       "          [ 0.0000,  0.0000,  0.0000,  0.0000,  0.0000]],\n",
       " \n",
       "         [[ 0.0000,  0.0000, -0.6420,  0.0000,  0.0000],\n",
       "          [ 0.0000,  0.0000,  0.0000, -1.7586,  0.0000],\n",
       "          [ 0.0000,  0.0000,  0.0000,  0.0000, -0.5472],\n",
       "          [ 0.0000,  0.0000,  0.0000,  0.0000,  0.0000],\n",
       "          [ 0.0000,  0.0000,  0.0000,  0.0000,  0.0000]]]))"
      ]
     },
     "execution_count": 485,
     "metadata": {},
     "output_type": "execute_result"
    }
   ],
   "source": [
    "x = torch.randn(2, 3)\n",
    "y = torch.diag_embed(x, offset=-2, dim1=-1, dim2=-2)\n",
    "x, y"
   ]
  },
  {
   "cell_type": "code",
   "execution_count": 486,
   "id": "079cff5b",
   "metadata": {},
   "outputs": [
    {
     "data": {
      "text/plain": [
       "(tensor([-0.5109,  0.4393, -0.1733]),\n",
       " tensor([[-0.5109,  0.0000,  0.0000],\n",
       "         [ 0.0000,  0.4393,  0.0000],\n",
       "         [ 0.0000,  0.0000, -0.1733]]))"
      ]
     },
     "execution_count": 486,
     "metadata": {},
     "output_type": "execute_result"
    }
   ],
   "source": [
    "x = torch.randn(3)\n",
    "y = torch.diagflat(x)\n",
    "x, y"
   ]
  },
  {
   "cell_type": "code",
   "execution_count": 487,
   "id": "a42546f8",
   "metadata": {},
   "outputs": [
    {
     "data": {
      "text/plain": [
       "(tensor([3.4143, 0.6228, 0.2562]),\n",
       " tensor([[0.0000, 3.4143, 0.0000, 0.0000],\n",
       "         [0.0000, 0.0000, 0.6228, 0.0000],\n",
       "         [0.0000, 0.0000, 0.0000, 0.2562],\n",
       "         [0.0000, 0.0000, 0.0000, 0.0000]]))"
      ]
     },
     "execution_count": 487,
     "metadata": {},
     "output_type": "execute_result"
    }
   ],
   "source": [
    "x = torch.randn(3)\n",
    "y = torch.diagflat(x, 1)\n",
    "x, y"
   ]
  },
  {
   "cell_type": "code",
   "execution_count": 488,
   "id": "a42546f8",
   "metadata": {},
   "outputs": [
    {
     "data": {
      "text/plain": [
       "(tensor([0.6042, 0.4939, 1.6779]),\n",
       " tensor([[0.0000, 0.0000, 0.0000, 0.0000],\n",
       "         [0.6042, 0.0000, 0.0000, 0.0000],\n",
       "         [0.0000, 0.4939, 0.0000, 0.0000],\n",
       "         [0.0000, 0.0000, 1.6779, 0.0000]]))"
      ]
     },
     "execution_count": 488,
     "metadata": {},
     "output_type": "execute_result"
    }
   ],
   "source": [
    "x = torch.randn(3)\n",
    "y = torch.diagflat(x, -1)\n",
    "x, y"
   ]
  },
  {
   "cell_type": "code",
   "execution_count": 489,
   "id": "e7dc5bfe",
   "metadata": {},
   "outputs": [
    {
     "data": {
      "text/plain": [
       "(tensor([[-0.1580,  0.7937],\n",
       "         [-0.8160,  0.9553],\n",
       "         [-0.9985,  0.2800]]),\n",
       " tensor([[-0.1580,  0.0000,  0.0000,  0.0000,  0.0000,  0.0000],\n",
       "         [ 0.0000,  0.7937,  0.0000,  0.0000,  0.0000,  0.0000],\n",
       "         [ 0.0000,  0.0000, -0.8160,  0.0000,  0.0000,  0.0000],\n",
       "         [ 0.0000,  0.0000,  0.0000,  0.9553,  0.0000,  0.0000],\n",
       "         [ 0.0000,  0.0000,  0.0000,  0.0000, -0.9985,  0.0000],\n",
       "         [ 0.0000,  0.0000,  0.0000,  0.0000,  0.0000,  0.2800]]))"
      ]
     },
     "execution_count": 489,
     "metadata": {},
     "output_type": "execute_result"
    }
   ],
   "source": [
    "x = torch.randn(3, 2)\n",
    "y = torch.diagflat(x,)\n",
    "x, y"
   ]
  },
  {
   "cell_type": "code",
   "execution_count": 490,
   "id": "e7dc5bfe",
   "metadata": {},
   "outputs": [
    {
     "data": {
      "text/plain": [
       "(tensor([[-1.0205, -1.7466],\n",
       "         [ 0.2505, -1.5247],\n",
       "         [ 0.9411,  0.0042]]),\n",
       " tensor([[ 0.0000, -1.0205,  0.0000,  0.0000,  0.0000,  0.0000,  0.0000],\n",
       "         [ 0.0000,  0.0000, -1.7466,  0.0000,  0.0000,  0.0000,  0.0000],\n",
       "         [ 0.0000,  0.0000,  0.0000,  0.2505,  0.0000,  0.0000,  0.0000],\n",
       "         [ 0.0000,  0.0000,  0.0000,  0.0000, -1.5247,  0.0000,  0.0000],\n",
       "         [ 0.0000,  0.0000,  0.0000,  0.0000,  0.0000,  0.9411,  0.0000],\n",
       "         [ 0.0000,  0.0000,  0.0000,  0.0000,  0.0000,  0.0000,  0.0042],\n",
       "         [ 0.0000,  0.0000,  0.0000,  0.0000,  0.0000,  0.0000,  0.0000]]))"
      ]
     },
     "execution_count": 490,
     "metadata": {},
     "output_type": "execute_result"
    }
   ],
   "source": [
    "x = torch.randn(3, 2)\n",
    "y = torch.diagflat(x, 1)\n",
    "x, y"
   ]
  },
  {
   "cell_type": "code",
   "execution_count": 491,
   "id": "eb1b9bb4",
   "metadata": {},
   "outputs": [
    {
     "data": {
      "text/plain": [
       "(tensor([[ 0.3571, -0.3628, -1.1448, -0.6186],\n",
       "         [-0.4890, -0.3628,  0.0654, -0.6279],\n",
       "         [-2.3390,  0.3864, -0.5249, -1.3772]]),\n",
       " tensor([ 0.3571, -0.3628, -0.5249]))"
      ]
     },
     "execution_count": 491,
     "metadata": {},
     "output_type": "execute_result"
    }
   ],
   "source": [
    "x = torch.randn(3, 4)\n",
    "y = torch.diagonal(x)\n",
    "x, y"
   ]
  },
  {
   "cell_type": "code",
   "execution_count": 492,
   "id": "eb1b9bb4",
   "metadata": {},
   "outputs": [
    {
     "data": {
      "text/plain": [
       "(tensor([[-0.1891,  0.3107, -1.7992,  1.8925],\n",
       "         [ 1.8301,  1.0372, -1.0602,  0.5865],\n",
       "         [ 2.1336, -1.3528, -0.0071,  1.3721]]),\n",
       " tensor([-1.7992,  0.5865]))"
      ]
     },
     "execution_count": 492,
     "metadata": {},
     "output_type": "execute_result"
    }
   ],
   "source": [
    "x = torch.randn(3, 4)\n",
    "y = torch.diagonal(x, 2)\n",
    "x, y"
   ]
  },
  {
   "cell_type": "code",
   "execution_count": 493,
   "id": "eb1b9bb4",
   "metadata": {},
   "outputs": [
    {
     "data": {
      "text/plain": [
       "(tensor([[ 1.4300,  0.8147,  1.3040, -0.1844],\n",
       "         [-0.4765, -0.5923, -0.7381,  0.4760],\n",
       "         [ 0.2544,  1.0356, -1.2499,  0.2594]]),\n",
       " tensor([-0.1844]))"
      ]
     },
     "execution_count": 493,
     "metadata": {},
     "output_type": "execute_result"
    }
   ],
   "source": [
    "x = torch.randn(3, 4)\n",
    "y = torch.diagonal(x, 3)\n",
    "x, y"
   ]
  },
  {
   "cell_type": "code",
   "execution_count": 494,
   "id": "eb1b9bb4",
   "metadata": {},
   "outputs": [
    {
     "data": {
      "text/plain": [
       "(tensor([[ 0.1419,  0.0750, -1.3104, -2.1238],\n",
       "         [-1.4934, -0.8064,  0.1278,  0.3581],\n",
       "         [ 0.8473, -1.3593, -0.2924, -0.1543]]),\n",
       " tensor([]))"
      ]
     },
     "execution_count": 494,
     "metadata": {},
     "output_type": "execute_result"
    }
   ],
   "source": [
    "x = torch.randn(3, 4)\n",
    "y = torch.diagonal(x, 4)\n",
    "x, y"
   ]
  },
  {
   "cell_type": "code",
   "execution_count": 495,
   "id": "eb1b9bb4",
   "metadata": {},
   "outputs": [
    {
     "data": {
      "text/plain": [
       "(tensor([[ 0.1450,  0.7481, -1.7583,  1.4937],\n",
       "         [ 0.6058, -0.3395,  1.2589,  0.1454],\n",
       "         [ 0.4251, -0.3093, -0.0574, -1.6127]]),\n",
       " tensor([ 0.6058, -0.3093]))"
      ]
     },
     "execution_count": 495,
     "metadata": {},
     "output_type": "execute_result"
    }
   ],
   "source": [
    "x = torch.randn(3, 4)\n",
    "y = torch.diagonal(x, -1)\n",
    "x, y"
   ]
  },
  {
   "cell_type": "code",
   "execution_count": 496,
   "id": "786afa91",
   "metadata": {},
   "outputs": [
    {
     "data": {
      "text/plain": [
       "(tensor([[[-1.2722, -0.4214, -1.7668, -0.4357],\n",
       "          [-0.8461,  0.4867,  1.0523, -0.6661],\n",
       "          [-0.6256,  0.6651,  0.2024, -0.1172]],\n",
       " \n",
       "         [[-0.1698, -1.2258,  0.3969,  0.0720],\n",
       "          [ 1.3127, -0.4625,  2.0168, -2.0318],\n",
       "          [ 1.2121, -0.6957,  0.3885,  0.7699]]]),\n",
       " tensor([[-1.2722,  1.3127],\n",
       "         [-0.4214, -0.4625],\n",
       "         [-1.7668,  2.0168],\n",
       "         [-0.4357, -2.0318]]))"
      ]
     },
     "execution_count": 496,
     "metadata": {},
     "output_type": "execute_result"
    }
   ],
   "source": [
    "x = torch.randn(2, 3, 4)\n",
    "y = torch.diagonal(x, 0)\n",
    "x, y"
   ]
  },
  {
   "cell_type": "code",
   "execution_count": 497,
   "id": "786afa91",
   "metadata": {},
   "outputs": [
    {
     "data": {
      "text/plain": [
       "(tensor([[[ 1.1968, -0.3403, -0.2881,  1.4844],\n",
       "          [ 1.2516,  0.6832,  0.4048,  1.1524],\n",
       "          [ 2.3697, -1.6026, -1.4689, -0.0640]],\n",
       " \n",
       "         [[-0.9188, -1.4151,  0.2313, -0.1206],\n",
       "          [-2.3284, -1.2783, -1.0372, -0.3035],\n",
       "          [-1.2024, -0.6389, -1.4468, -0.1736]]]),\n",
       " tensor([[ 1.1968,  0.6832, -1.4689],\n",
       "         [-0.9188, -1.2783, -1.4468]]))"
      ]
     },
     "execution_count": 497,
     "metadata": {},
     "output_type": "execute_result"
    }
   ],
   "source": [
    "x = torch.randn(2, 3, 4)\n",
    "y = torch.diagonal(x, 0, dim1=1, dim2=2)\n",
    "x, y"
   ]
  },
  {
   "cell_type": "code",
   "execution_count": 498,
   "id": "317c16d8",
   "metadata": {},
   "outputs": [
    {
     "data": {
      "text/plain": [
       "(tensor([[[ 2.7206e-01, -1.5177e+00, -9.6746e-02, -6.1131e-01],\n",
       "          [-5.9738e-01, -4.3456e-01,  9.0284e-01, -7.9989e-01],\n",
       "          [-7.5205e-01,  1.7237e-01,  1.5719e+00,  1.5077e+00]],\n",
       " \n",
       "         [[ 1.2766e-03,  6.3361e-01,  1.0165e+00, -1.2792e-01],\n",
       "          [ 1.5584e-01, -1.4361e-01, -7.1454e-01, -1.3540e+00],\n",
       "          [ 5.0823e-02,  1.6688e+00,  1.4003e+00,  2.1676e-01]]]),\n",
       " tensor([[-0.0967, -0.7999],\n",
       "         [ 1.0165, -1.3540]]))"
      ]
     },
     "execution_count": 498,
     "metadata": {},
     "output_type": "execute_result"
    }
   ],
   "source": [
    "x = torch.randn(2, 3, 4)\n",
    "y = torch.diagonal(x, 2, dim1=1, dim2=2)\n",
    "x, y"
   ]
  },
  {
   "cell_type": "code",
   "execution_count": 499,
   "id": "14bea8fb",
   "metadata": {},
   "outputs": [
    {
     "data": {
      "text/plain": [
       "(tensor([1, 3, 2]), tensor([ 2, -1]))"
      ]
     },
     "execution_count": 499,
     "metadata": {},
     "output_type": "execute_result"
    }
   ],
   "source": [
    "x = torch.tensor([1, 3, 2])\n",
    "y = torch.diff(x,) # recursive diff y[i] = x[i+1] - x[i]\n",
    "x, y"
   ]
  },
  {
   "cell_type": "code",
   "execution_count": 500,
   "id": "14bea8fb",
   "metadata": {},
   "outputs": [
    {
     "data": {
      "text/plain": [
       "(tensor([1, 3, 2]), tensor([-3]))"
      ]
     },
     "execution_count": 500,
     "metadata": {},
     "output_type": "execute_result"
    }
   ],
   "source": [
    "x = torch.tensor([1, 3, 2])\n",
    "y = torch.diff(x, 2)\n",
    "x, y"
   ]
  },
  {
   "cell_type": "code",
   "execution_count": 501,
   "id": "01a7d7cd",
   "metadata": {},
   "outputs": [
    {
     "data": {
      "text/plain": [
       "(tensor([1, 3, 2]), tensor([], dtype=torch.int64))"
      ]
     },
     "execution_count": 501,
     "metadata": {},
     "output_type": "execute_result"
    }
   ],
   "source": [
    "x = torch.tensor([1, 3, 2])\n",
    "y = torch.diff(x, 3)\n",
    "x, y"
   ]
  },
  {
   "cell_type": "code",
   "execution_count": 502,
   "id": "f9a14789",
   "metadata": {},
   "outputs": [
    {
     "data": {
      "text/plain": [
       "(tensor([1, 3, 2]), tensor([], dtype=torch.int64))"
      ]
     },
     "execution_count": 502,
     "metadata": {},
     "output_type": "execute_result"
    }
   ],
   "source": [
    "x = torch.tensor([1, 3, 2])\n",
    "y = torch.diff(x, 4)\n",
    "x, y"
   ]
  },
  {
   "cell_type": "code",
   "execution_count": 503,
   "id": "2ed1c412",
   "metadata": {},
   "outputs": [
    {
     "data": {
      "text/plain": [
       "(tensor([1, 3, 2]), tensor([ 2, -1,  2,  1]))"
      ]
     },
     "execution_count": 503,
     "metadata": {},
     "output_type": "execute_result"
    }
   ],
   "source": [
    "x = torch.tensor([1, 3, 2])\n",
    "y = torch.diff(x, append=torch.tensor([4, 5]))\n",
    "x, y"
   ]
  },
  {
   "cell_type": "code",
   "execution_count": 504,
   "id": "62060c5b",
   "metadata": {},
   "outputs": [
    {
     "data": {
      "text/plain": [
       "(tensor([1, 3, 2]), tensor([ 1, -4,  2, -1]))"
      ]
     },
     "execution_count": 504,
     "metadata": {},
     "output_type": "execute_result"
    }
   ],
   "source": [
    "x = torch.tensor([1, 3, 2])\n",
    "y = torch.diff(x, prepend=torch.tensor([4, 5]))\n",
    "x, y"
   ]
  },
  {
   "cell_type": "code",
   "execution_count": 505,
   "id": "7ad1056b",
   "metadata": {},
   "outputs": [
    {
     "data": {
      "text/plain": [
       "(tensor([1, 2]), tensor(5))"
      ]
     },
     "execution_count": 505,
     "metadata": {},
     "output_type": "execute_result"
    }
   ],
   "source": [
    "x = torch.arange(1, 3)\n",
    "y = torch.einsum('i,i -> ', x, x)\n",
    "x, y"
   ]
  },
  {
   "cell_type": "code",
   "execution_count": 506,
   "id": "8b9774b2",
   "metadata": {},
   "outputs": [
    {
     "data": {
      "text/plain": [
       "(tensor([1, 2]), tensor(5))"
      ]
     },
     "execution_count": 506,
     "metadata": {},
     "output_type": "execute_result"
    }
   ],
   "source": [
    "x = torch.arange(1, 3)\n",
    "y = torch.einsum('i,i', x, x)\n",
    "x, y"
   ]
  },
  {
   "cell_type": "code",
   "execution_count": 507,
   "id": "d9302374",
   "metadata": {},
   "outputs": [
    {
     "data": {
      "text/plain": [
       "(tensor([2, 3, 4, 5]), tensor([  8,  27,  64, 125]))"
      ]
     },
     "execution_count": 507,
     "metadata": {},
     "output_type": "execute_result"
    }
   ],
   "source": [
    "x = torch.arange(2, 6)\n",
    "y = torch.einsum('i, i, i -> i', x, x, x)\n",
    "x, y"
   ]
  },
  {
   "cell_type": "code",
   "execution_count": 508,
   "id": "d9302374",
   "metadata": {},
   "outputs": [
    {
     "data": {
      "text/plain": [
       "(tensor([[ 0,  1,  2,  3],\n",
       "         [ 4,  5,  6,  7],\n",
       "         [ 8,  9, 10, 11],\n",
       "         [12, 13, 14, 15]]),\n",
       " tensor(30))"
      ]
     },
     "execution_count": 508,
     "metadata": {},
     "output_type": "execute_result"
    }
   ],
   "source": [
    "x = torch.arange(16).view(4, 4)\n",
    "y = torch.einsum('ii', x) # trace\n",
    "x, y"
   ]
  },
  {
   "cell_type": "code",
   "execution_count": 509,
   "id": "a36d5270",
   "metadata": {},
   "outputs": [
    {
     "data": {
      "text/plain": [
       "(tensor([[ 0,  1,  2,  3],\n",
       "         [ 4,  5,  6,  7],\n",
       "         [ 8,  9, 10, 11],\n",
       "         [12, 13, 14, 15]]),\n",
       " tensor(120),\n",
       " tensor(120))"
      ]
     },
     "execution_count": 509,
     "metadata": {},
     "output_type": "execute_result"
    }
   ],
   "source": [
    "x = torch.arange(16).view(4, 4)\n",
    "y = torch.einsum('ij->', x) # sum total\n",
    "x, y, torch.sum(x)"
   ]
  },
  {
   "cell_type": "code",
   "execution_count": 510,
   "id": "6b923052",
   "metadata": {},
   "outputs": [
    {
     "data": {
      "text/plain": [
       "(tensor([[ 0,  1,  2,  3],\n",
       "         [ 4,  5,  6,  7],\n",
       "         [ 8,  9, 10, 11],\n",
       "         [12, 13, 14, 15]]),\n",
       " tensor([[ 0,  4,  8, 12],\n",
       "         [ 1,  5,  9, 13],\n",
       "         [ 2,  6, 10, 14],\n",
       "         [ 3,  7, 11, 15]]))"
      ]
     },
     "execution_count": 510,
     "metadata": {},
     "output_type": "execute_result"
    }
   ],
   "source": [
    "x = torch.arange(16).view(4, 4)\n",
    "y = torch.einsum('ij->ji', x) # transpose\n",
    "x, y"
   ]
  },
  {
   "cell_type": "code",
   "execution_count": 511,
   "id": "764a8661",
   "metadata": {},
   "outputs": [
    {
     "data": {
      "text/plain": [
       "(tensor([-0.5993, -0.3824, -1.1496, -1.0400]),\n",
       " tensor([-0.9106,  0.5027, -0.2359, -0.5306, -1.8110]),\n",
       " tensor([[ 0.5457, -0.3012,  0.1413,  0.3180,  1.0853],\n",
       "         [ 0.3482, -0.1922,  0.0902,  0.2029,  0.6925],\n",
       "         [ 1.0468, -0.5778,  0.2711,  0.6099,  2.0819],\n",
       "         [ 0.9470, -0.5228,  0.2453,  0.5518,  1.8835]]))"
      ]
     },
     "execution_count": 511,
     "metadata": {},
     "output_type": "execute_result"
    }
   ],
   "source": [
    "x = torch.randn(4)\n",
    "y = torch.randn(5)\n",
    "z = torch.einsum('i,j->ij', x, y)\n",
    "x, y, z"
   ]
  },
  {
   "cell_type": "code",
   "execution_count": 512,
   "id": "764a8661",
   "metadata": {},
   "outputs": [
    {
     "data": {
      "text/plain": [
       "(torch.Size([4, 5]), torch.Size([5, 10]), torch.Size([4, 10]))"
      ]
     },
     "execution_count": 512,
     "metadata": {},
     "output_type": "execute_result"
    }
   ],
   "source": [
    "x = torch.randn(4, 5)\n",
    "y = torch.randn(5, 10)\n",
    "z = torch.einsum('ij,jk->ik', x, y) # multiplication\n",
    "x.size(), y.size(), z.size()"
   ]
  },
  {
   "cell_type": "code",
   "execution_count": 513,
   "id": "764a8661",
   "metadata": {},
   "outputs": [
    {
     "data": {
      "text/plain": [
       "(torch.Size([4, 5]), torch.Size([5, 10]), torch.Size([10, 4]))"
      ]
     },
     "execution_count": 513,
     "metadata": {},
     "output_type": "execute_result"
    }
   ],
   "source": [
    "x = torch.randn(4, 5)\n",
    "y = torch.randn(5, 10)\n",
    "z = torch.einsum('ij,jk->ki', x, y) # multiplication transpose\n",
    "x.size(), y.size(), z.size()"
   ]
  },
  {
   "cell_type": "code",
   "execution_count": 514,
   "id": "764a8661",
   "metadata": {},
   "outputs": [
    {
     "data": {
      "text/plain": [
       "(torch.Size([10, 3, 4, 5]), torch.Size([10, 3, 5, 4]))"
      ]
     },
     "execution_count": 514,
     "metadata": {},
     "output_type": "execute_result"
    }
   ],
   "source": [
    "x = torch.randn(10, 3, 4, 5)\n",
    "y = torch.einsum('...ij->...ji', x) \n",
    "x.size(), y.size()"
   ]
  },
  {
   "cell_type": "code",
   "execution_count": 515,
   "id": "10678fef",
   "metadata": {},
   "outputs": [
    {
     "data": {
      "text/plain": [
       "(torch.Size([10, 3, 4, 5]), torch.Size([10, 3, 4]))"
      ]
     },
     "execution_count": 515,
     "metadata": {},
     "output_type": "execute_result"
    }
   ],
   "source": [
    "x = torch.randn(10, 3, 4, 5)\n",
    "y = torch.einsum('...ij->...i', x) \n",
    "x.size(), y.size()"
   ]
  },
  {
   "cell_type": "code",
   "execution_count": 516,
   "id": "4e22906e",
   "metadata": {},
   "outputs": [
    {
     "data": {
      "text/plain": [
       "(tensor([[[ 0,  1],\n",
       "          [ 2,  3],\n",
       "          [ 4,  5],\n",
       "          [ 6,  7]],\n",
       " \n",
       "         [[ 8,  9],\n",
       "          [10, 11],\n",
       "          [12, 13],\n",
       "          [14, 15]]]),\n",
       " tensor([[1, 1],\n",
       "         [1, 1]]),\n",
       " tensor([[ 1,  5,  9, 13],\n",
       "         [17, 21, 25, 29]]))"
      ]
     },
     "execution_count": 516,
     "metadata": {},
     "output_type": "execute_result"
    }
   ],
   "source": [
    "x = torch.arange(2*4*2).view(2, 4, 2)\n",
    "y = torch.ones((2, 2), dtype=x.dtype)\n",
    "z = torch.einsum('ijk,ik->ij', x, y) \n",
    "x, y, z"
   ]
  },
  {
   "cell_type": "code",
   "execution_count": 517,
   "id": "e3a34558",
   "metadata": {},
   "outputs": [
    {
     "data": {
      "text/plain": [
       "(tensor([-0.8146,  0.1194,  0.9507,  0.4968,  1.3951,  0.4367,  0.6194, -0.3220,\n",
       "         -0.3281,  1.9954]),\n",
       " tensor([-0.8146,  0.1194,  0.9507,  0.4968,  1.3951,  0.4367,  0.6194, -0.3220,\n",
       "         -0.3281,  1.9954]))"
      ]
     },
     "execution_count": 517,
     "metadata": {},
     "output_type": "execute_result"
    }
   ],
   "source": [
    "x = torch.randn(10)\n",
    "y = x.flatten()\n",
    "x, y"
   ]
  },
  {
   "cell_type": "code",
   "execution_count": 518,
   "id": "97616f21",
   "metadata": {},
   "outputs": [
    {
     "data": {
      "text/plain": [
       "(tensor([[ 0.1221, -0.5665],\n",
       "         [-0.3549, -0.1188],\n",
       "         [-1.2044, -0.4112],\n",
       "         [-1.0929,  0.4611],\n",
       "         [-0.6815, -1.2085],\n",
       "         [-0.5369,  0.4396],\n",
       "         [-1.3587, -1.1986],\n",
       "         [-0.0710,  0.0659],\n",
       "         [-0.9790,  1.0735],\n",
       "         [-0.0035,  0.8823]]),\n",
       " tensor([ 0.1221, -0.5665, -0.3549, -0.1188, -1.2044, -0.4112, -1.0929,  0.4611,\n",
       "         -0.6815, -1.2085, -0.5369,  0.4396, -1.3587, -1.1986, -0.0710,  0.0659,\n",
       "         -0.9790,  1.0735, -0.0035,  0.8823]),\n",
       " torch.Size([20]))"
      ]
     },
     "execution_count": 518,
     "metadata": {},
     "output_type": "execute_result"
    }
   ],
   "source": [
    "x = torch.randn(10, 2)\n",
    "y = x.flatten()\n",
    "x, y, y.shape"
   ]
  },
  {
   "cell_type": "code",
   "execution_count": 519,
   "id": "083a3be8",
   "metadata": {},
   "outputs": [
    {
     "data": {
      "text/plain": [
       "(torch.Size([2, 4, 6, 3]), torch.Size([2, 72]))"
      ]
     },
     "execution_count": 519,
     "metadata": {},
     "output_type": "execute_result"
    }
   ],
   "source": [
    "x = torch.randn(2, 4, 6, 3)\n",
    "y = torch.flatten(x, start_dim=1, end_dim=-1) \n",
    "x.shape, y.size()"
   ]
  },
  {
   "cell_type": "code",
   "execution_count": 520,
   "id": "c2667bcf",
   "metadata": {},
   "outputs": [
    {
     "data": {
      "text/plain": [
       "(torch.Size([2, 4, 6, 3]), torch.Size([2, 24, 3]))"
      ]
     },
     "execution_count": 520,
     "metadata": {},
     "output_type": "execute_result"
    }
   ],
   "source": [
    "x = torch.randn(2, 4, 6, 3)\n",
    "y = torch.flatten(x, start_dim=1, end_dim=2)\n",
    "x.shape, y.size()"
   ]
  },
  {
   "cell_type": "code",
   "execution_count": 521,
   "id": "8b998288",
   "metadata": {},
   "outputs": [
    {
     "data": {
      "text/plain": [
       "(tensor([[ 0.1481,  1.2322, -0.8211,  1.7868,  5.5968],\n",
       "         [-0.3123, -0.8635,  1.0083,  0.6716,  0.2196]]),\n",
       " tensor([ 0.1481,  1.2322, -0.8211,  1.7868,  5.5968, -0.3123, -0.8635,  1.0083,\n",
       "          0.6716,  0.2196]))"
      ]
     },
     "execution_count": 521,
     "metadata": {},
     "output_type": "execute_result"
    }
   ],
   "source": [
    "x = torch.randn(2, 5)\n",
    "y = x.flatten()\n",
    "x[0] *= 2 \n",
    "x, y\n"
   ]
  },
  {
   "cell_type": "code",
   "execution_count": 522,
   "id": "bb84d186",
   "metadata": {},
   "outputs": [
    {
     "data": {
      "text/plain": [
       "(tensor([[[0, 1],\n",
       "          [2, 3]],\n",
       " \n",
       "         [[4, 5],\n",
       "          [6, 7]]]),\n",
       " tensor([[[4, 5],\n",
       "          [6, 7]],\n",
       " \n",
       "         [[0, 1],\n",
       "          [2, 3]]]))"
      ]
     },
     "execution_count": 522,
     "metadata": {},
     "output_type": "execute_result"
    }
   ],
   "source": [
    "x = torch.arange(8).view(2, 2, 2)\n",
    "y = torch.flip(x, (0,))\n",
    "x, y"
   ]
  },
  {
   "cell_type": "code",
   "execution_count": 523,
   "id": "bb84d186",
   "metadata": {},
   "outputs": [
    {
     "data": {
      "text/plain": [
       "(tensor([[[0, 1],\n",
       "          [2, 3]],\n",
       " \n",
       "         [[4, 5],\n",
       "          [6, 7]]]),\n",
       " tensor([[[2, 3],\n",
       "          [0, 1]],\n",
       " \n",
       "         [[6, 7],\n",
       "          [4, 5]]]))"
      ]
     },
     "execution_count": 523,
     "metadata": {},
     "output_type": "execute_result"
    }
   ],
   "source": [
    "x = torch.arange(8).view(2, 2, 2)\n",
    "y = torch.flip(x, (1, ))\n",
    "x, y"
   ]
  },
  {
   "cell_type": "code",
   "execution_count": 524,
   "id": "bb84d186",
   "metadata": {},
   "outputs": [
    {
     "data": {
      "text/plain": [
       "(tensor([[[0, 1],\n",
       "          [2, 3]],\n",
       " \n",
       "         [[4, 5],\n",
       "          [6, 7]]]),\n",
       " tensor([[[1, 0],\n",
       "          [3, 2]],\n",
       " \n",
       "         [[5, 4],\n",
       "          [7, 6]]]))"
      ]
     },
     "execution_count": 524,
     "metadata": {},
     "output_type": "execute_result"
    }
   ],
   "source": [
    "x = torch.arange(8).view(2, 2, 2)\n",
    "y = torch.flip(x, (2,))\n",
    "x, y"
   ]
  },
  {
   "cell_type": "code",
   "execution_count": 525,
   "id": "bb84d186",
   "metadata": {},
   "outputs": [
    {
     "data": {
      "text/plain": [
       "(tensor([[[0, 1],\n",
       "          [2, 3]],\n",
       " \n",
       "         [[4, 5],\n",
       "          [6, 7]]]),\n",
       " tensor([[[6, 7],\n",
       "          [4, 5]],\n",
       " \n",
       "         [[2, 3],\n",
       "          [0, 1]]]))"
      ]
     },
     "execution_count": 525,
     "metadata": {},
     "output_type": "execute_result"
    }
   ],
   "source": [
    "x = torch.arange(8).view(2, 2, 2)\n",
    "y = torch.flip(x, (0, 1))\n",
    "x, y"
   ]
  },
  {
   "cell_type": "code",
   "execution_count": 526,
   "id": "bb84d186",
   "metadata": {},
   "outputs": [
    {
     "data": {
      "text/plain": [
       "(tensor([[[0, 1],\n",
       "          [2, 3]],\n",
       " \n",
       "         [[4, 5],\n",
       "          [6, 7]]]),\n",
       " tensor([[[7, 6],\n",
       "          [5, 4]],\n",
       " \n",
       "         [[3, 2],\n",
       "          [1, 0]]]))"
      ]
     },
     "execution_count": 526,
     "metadata": {},
     "output_type": "execute_result"
    }
   ],
   "source": [
    "x = torch.arange(8).view(2, 2, 2)\n",
    "y = torch.flip(x, (0, 1, -1))\n",
    "x, y"
   ]
  },
  {
   "cell_type": "code",
   "execution_count": 527,
   "id": "1f608949",
   "metadata": {},
   "outputs": [
    {
     "data": {
      "text/plain": [
       "(tensor([[[10, 11],\n",
       "          [12, 13]],\n",
       " \n",
       "         [[14, 15],\n",
       "          [16, 17]]]),\n",
       " tensor([[[7, 6],\n",
       "          [5, 4]],\n",
       " \n",
       "         [[3, 2],\n",
       "          [1, 0]]]))"
      ]
     },
     "execution_count": 527,
     "metadata": {},
     "output_type": "execute_result"
    }
   ],
   "source": [
    "x = torch.arange(8).view(2, 2, 2)\n",
    "y = torch.flip(x, (0, 1, -1))\n",
    "x += 10 \n",
    "x, y"
   ]
  },
  {
   "cell_type": "code",
   "execution_count": 528,
   "id": "87c47472",
   "metadata": {},
   "outputs": [
    {
     "data": {
      "text/plain": [
       "(tensor([[0, 1],\n",
       "         [2, 3]]),\n",
       " tensor([[1, 0],\n",
       "         [3, 2]]))"
      ]
     },
     "execution_count": 528,
     "metadata": {},
     "output_type": "execute_result"
    }
   ],
   "source": [
    "x = torch.arange(4).view(2, 2)\n",
    "y = torch.fliplr(x,)\n",
    "x, y"
   ]
  },
  {
   "cell_type": "code",
   "execution_count": 529,
   "id": "53ca418c",
   "metadata": {},
   "outputs": [
    {
     "data": {
      "text/plain": [
       "(tensor([[[0, 1],\n",
       "          [2, 3]],\n",
       " \n",
       "         [[4, 5],\n",
       "          [6, 7]]]),\n",
       " tensor([[[2, 3],\n",
       "          [0, 1]],\n",
       " \n",
       "         [[6, 7],\n",
       "          [4, 5]]]))"
      ]
     },
     "execution_count": 529,
     "metadata": {},
     "output_type": "execute_result"
    }
   ],
   "source": [
    "x = torch.arange(8).view(2, 2, 2)\n",
    "y = torch.fliplr(x, )\n",
    "x, y"
   ]
  },
  {
   "cell_type": "code",
   "execution_count": 530,
   "id": "0c82e6c4",
   "metadata": {},
   "outputs": [
    {
     "data": {
      "text/plain": [
       "(tensor([[0, 1],\n",
       "         [2, 3]]),\n",
       " tensor([[2, 3],\n",
       "         [0, 1]]))"
      ]
     },
     "execution_count": 530,
     "metadata": {},
     "output_type": "execute_result"
    }
   ],
   "source": [
    "x = torch.arange(4).view(2, 2)\n",
    "y = torch.flipud(x,)\n",
    "x, y"
   ]
  },
  {
   "cell_type": "code",
   "execution_count": 531,
   "id": "f7cdeb8a",
   "metadata": {},
   "outputs": [
    {
     "data": {
      "text/plain": [
       "(tensor([[[0, 1],\n",
       "          [2, 3]],\n",
       " \n",
       "         [[4, 5],\n",
       "          [6, 7]]]),\n",
       " tensor([[[4, 5],\n",
       "          [6, 7]],\n",
       " \n",
       "         [[0, 1],\n",
       "          [2, 3]]]))"
      ]
     },
     "execution_count": 531,
     "metadata": {},
     "output_type": "execute_result"
    }
   ],
   "source": [
    "x = torch.arange(8).view(2, 2, 2)\n",
    "y = torch.flipud(x, )\n",
    "x, y"
   ]
  },
  {
   "cell_type": "code",
   "execution_count": 532,
   "id": "c147a536",
   "metadata": {},
   "outputs": [
    {
     "data": {
      "text/plain": [
       "(tensor([[1., 0., 0.],\n",
       "         [0., 1., 0.],\n",
       "         [0., 0., 1.]]),\n",
       " tensor([[1., 1., 1.],\n",
       "         [1., 1., 1.]]),\n",
       " tensor([[1., 1., 1., 0., 0., 0., 0., 0., 0.],\n",
       "         [1., 1., 1., 0., 0., 0., 0., 0., 0.],\n",
       "         [0., 0., 0., 1., 1., 1., 0., 0., 0.],\n",
       "         [0., 0., 0., 1., 1., 1., 0., 0., 0.],\n",
       "         [0., 0., 0., 0., 0., 0., 1., 1., 1.],\n",
       "         [0., 0., 0., 0., 0., 0., 1., 1., 1.]]))"
      ]
     },
     "execution_count": 532,
     "metadata": {},
     "output_type": "execute_result"
    }
   ],
   "source": [
    "x = torch.eye(3)\n",
    "y = torch.ones(2, 3)\n",
    "z = torch.kron(x, y)\n",
    "x, y, z"
   ]
  },
  {
   "cell_type": "code",
   "execution_count": 533,
   "id": "f4004cf6",
   "metadata": {},
   "outputs": [
    {
     "data": {
      "text/plain": [
       "(tensor([[0, 1],\n",
       "         [2, 3],\n",
       "         [4, 5],\n",
       "         [6, 7]]),\n",
       " tensor([[1, 3, 5, 7],\n",
       "         [0, 2, 4, 6]]))"
      ]
     },
     "execution_count": 533,
     "metadata": {},
     "output_type": "execute_result"
    }
   ],
   "source": [
    "x = torch.arange(8).view(4, 2)\n",
    "y = torch.rot90(x, 1)\n",
    "x, y"
   ]
  },
  {
   "cell_type": "code",
   "execution_count": 534,
   "id": "f4004cf6",
   "metadata": {},
   "outputs": [
    {
     "data": {
      "text/plain": [
       "(tensor([[0, 1],\n",
       "         [2, 3],\n",
       "         [4, 5],\n",
       "         [6, 7]]),\n",
       " tensor([[6, 4, 2, 0],\n",
       "         [7, 5, 3, 1]]))"
      ]
     },
     "execution_count": 534,
     "metadata": {},
     "output_type": "execute_result"
    }
   ],
   "source": [
    "x = torch.arange(8).view(4, 2)\n",
    "y = torch.rot90(x, -1)\n",
    "x, y"
   ]
  },
  {
   "cell_type": "code",
   "execution_count": 535,
   "id": "f4004cf6",
   "metadata": {},
   "outputs": [
    {
     "data": {
      "text/plain": [
       "(tensor([[0, 1],\n",
       "         [2, 3],\n",
       "         [4, 5],\n",
       "         [6, 7]]),\n",
       " tensor([[7, 6],\n",
       "         [5, 4],\n",
       "         [3, 2],\n",
       "         [1, 0]]))"
      ]
     },
     "execution_count": 535,
     "metadata": {},
     "output_type": "execute_result"
    }
   ],
   "source": [
    "x = torch.arange(8).view(4, 2)\n",
    "y = torch.rot90(x, -2)\n",
    "x, y"
   ]
  },
  {
   "cell_type": "code",
   "execution_count": 536,
   "id": "cc1f6e5e",
   "metadata": {},
   "outputs": [
    {
     "data": {
      "text/plain": [
       "(tensor([[0, 1],\n",
       "         [2, 3],\n",
       "         [4, 5],\n",
       "         [6, 7]]),\n",
       " tensor([[1, 3, 5, 7],\n",
       "         [0, 2, 4, 6]]))"
      ]
     },
     "execution_count": 536,
     "metadata": {},
     "output_type": "execute_result"
    }
   ],
   "source": [
    "x = torch.arange(8).view(4, 2)\n",
    "y = torch.rot90(x, -3)\n",
    "x, y"
   ]
  },
  {
   "cell_type": "code",
   "execution_count": 537,
   "id": "cac284b0",
   "metadata": {},
   "outputs": [
    {
     "data": {
      "text/plain": [
       "(tensor([[0, 1],\n",
       "         [2, 3],\n",
       "         [4, 5],\n",
       "         [6, 7]]),\n",
       " tensor([[0, 1],\n",
       "         [2, 3],\n",
       "         [4, 5],\n",
       "         [6, 7]]))"
      ]
     },
     "execution_count": 537,
     "metadata": {},
     "output_type": "execute_result"
    }
   ],
   "source": [
    "x = torch.arange(8).view(4, 2)\n",
    "y = torch.rot90(x, -4)\n",
    "x, y"
   ]
  },
  {
   "cell_type": "code",
   "execution_count": 538,
   "id": "683c3070",
   "metadata": {},
   "outputs": [
    {
     "data": {
      "text/plain": [
       "(tensor([[0, 1],\n",
       "         [2, 3],\n",
       "         [4, 5],\n",
       "         [6, 7]]),\n",
       " tensor([[1, 3, 5, 7],\n",
       "         [0, 2, 4, 6]]))"
      ]
     },
     "execution_count": 538,
     "metadata": {},
     "output_type": "execute_result"
    }
   ],
   "source": [
    "x = torch.arange(8).view(4, 2)\n",
    "y = torch.rot90(x, 1)\n",
    "x, y"
   ]
  },
  {
   "cell_type": "code",
   "execution_count": 539,
   "id": "683c3070",
   "metadata": {},
   "outputs": [
    {
     "data": {
      "text/plain": [
       "(tensor([[0, 1],\n",
       "         [2, 3],\n",
       "         [4, 5],\n",
       "         [6, 7]]),\n",
       " tensor([[6, 4, 2, 0],\n",
       "         [7, 5, 3, 1]]))"
      ]
     },
     "execution_count": 539,
     "metadata": {},
     "output_type": "execute_result"
    }
   ],
   "source": [
    "x = torch.arange(8).view(4, 2)\n",
    "y = torch.rot90(x, 1, (1, 0))\n",
    "x, y"
   ]
  },
  {
   "cell_type": "code",
   "execution_count": 540,
   "id": "683c3070",
   "metadata": {},
   "outputs": [
    {
     "data": {
      "text/plain": [
       "(tensor([[0, 1],\n",
       "         [2, 3],\n",
       "         [4, 5],\n",
       "         [6, 7]]),\n",
       " tensor([[6, 4, 2, 0],\n",
       "         [7, 5, 3, 1]]))"
      ]
     },
     "execution_count": 540,
     "metadata": {},
     "output_type": "execute_result"
    }
   ],
   "source": [
    "x = torch.arange(8).view(4, 2)\n",
    "y = torch.rot90(x, -1, )\n",
    "x, y"
   ]
  },
  {
   "cell_type": "code",
   "execution_count": 541,
   "id": "80012fd3",
   "metadata": {},
   "outputs": [
    {
     "data": {
      "text/plain": [
       "(tensor([10,  6,  4,  3,  0, 10,  0]),\n",
       " tensor([20,  3,  2,  2, 10,  0,  0]),\n",
       " tensor([10,  3,  2,  1, 10, 10,  0]))"
      ]
     },
     "execution_count": 541,
     "metadata": {},
     "output_type": "execute_result"
    }
   ],
   "source": [
    "x = torch.tensor([10, 6, 4, 3, 0, 10, 0])\n",
    "y = torch.tensor([20, 3, 2, 2, 10, 0, 0])\n",
    "z = torch.gcd(x, y)\n",
    "x, y, z"
   ]
  },
  {
   "cell_type": "code",
   "execution_count": 542,
   "id": "fc2bc846",
   "metadata": {},
   "outputs": [
    {
     "data": {
      "text/plain": [
       "(tensor([2., 1., 3., 2.]), tensor([0., 1., 0., 2., 1.]))"
      ]
     },
     "execution_count": 542,
     "metadata": {},
     "output_type": "execute_result"
    }
   ],
   "source": [
    "x = torch.randint(0, 4, size=(4, ), dtype=torch.float32)\n",
    "y = torch.histc(x, 5, 0, 3)\n",
    "x, y"
   ]
  },
  {
   "cell_type": "code",
   "execution_count": 543,
   "id": "3ede5b59",
   "metadata": {},
   "outputs": [
    {
     "data": {
      "text/plain": [
       "torch.return_types.histogram(\n",
       "hist=tensor([0., 2., 1., 0.]),\n",
       "bin_edges=tensor([0.0000, 0.7500, 1.5000, 2.2500, 3.0000]))"
      ]
     },
     "execution_count": 543,
     "metadata": {},
     "output_type": "execute_result"
    }
   ],
   "source": [
    "torch.histogram(torch.tensor([1, 2, 1.]), bins=4, range=(0., 3.))"
   ]
  },
  {
   "cell_type": "code",
   "execution_count": 544,
   "id": "c20a89fb",
   "metadata": {},
   "outputs": [
    {
     "data": {
      "text/plain": [
       "torch.return_types.histogram(\n",
       "hist=tensor([0.0000, 0.8889, 0.4444, 0.0000]),\n",
       "bin_edges=tensor([0.0000, 0.7500, 1.5000, 2.2500, 3.0000]))"
      ]
     },
     "execution_count": 544,
     "metadata": {},
     "output_type": "execute_result"
    }
   ],
   "source": [
    "torch.histogram(torch.tensor([1, 2, 1.]), bins=4, range=(0., 3.), density=True)"
   ]
  },
  {
   "cell_type": "code",
   "execution_count": 545,
   "id": "5dfa4eca",
   "metadata": {},
   "outputs": [
    {
     "data": {
      "text/plain": [
       "torch.return_types.histogram(\n",
       "hist=tensor([0.0000, 0.9524, 0.3810, 0.0000]),\n",
       "bin_edges=tensor([0.0000, 0.7500, 1.5000, 2.2500, 3.0000]))"
      ]
     },
     "execution_count": 545,
     "metadata": {},
     "output_type": "execute_result"
    }
   ],
   "source": [
    "torch.histogram(torch.tensor([1, 2, 1.]), bins=4, range=(0., 3.), weight=torch.tensor([1, 2., 4.]) ,density=True)"
   ]
  },
  {
   "cell_type": "code",
   "execution_count": 546,
   "id": "efdb2182",
   "metadata": {},
   "outputs": [
    {
     "data": {
      "text/plain": [
       "(tensor([[-1.8018, -0.0891,  0.3175, -0.9041,  0.6787],\n",
       "         [-0.6123,  1.0135, -0.9791, -0.7528,  2.2014],\n",
       "         [ 1.0386, -1.1791, -0.0634, -0.7033, -0.3858],\n",
       "         [ 0.3687,  1.4798,  0.2336, -0.0313, -0.2546],\n",
       "         [-0.2467,  0.4147, -0.9985, -0.4130,  1.5188],\n",
       "         [ 0.8581, -1.4897,  0.6257,  0.2028, -2.1267],\n",
       "         [-0.1211, -0.1962, -0.7199,  0.2057, -0.1265],\n",
       "         [ 0.3719,  0.2793,  0.4652, -0.8321, -0.7800],\n",
       "         [ 0.7146,  0.2142,  1.6186, -1.7483,  0.5477],\n",
       "         [-0.8443, -0.2486, -1.2183,  1.0864,  0.1651]]),\n",
       " torch.return_types.histogram(\n",
       " hist=tensor([ 3.,  1.,  7.,  6., 10., 11.,  5.,  3.,  3.,  1.]),\n",
       " bin_edges=tensor([-2.1267, -1.6939, -1.2611, -0.8283, -0.3955,  0.0373,  0.4701,  0.9029,\n",
       "          1.3357,  1.7686,  2.2014])))"
      ]
     },
     "execution_count": 546,
     "metadata": {},
     "output_type": "execute_result"
    }
   ],
   "source": [
    "x = torch.randn(10, 5)\n",
    "y = torch.histogram(x, 10)\n",
    "x, y"
   ]
  },
  {
   "cell_type": "code",
   "execution_count": 547,
   "id": "07478d21",
   "metadata": {},
   "outputs": [
    {
     "data": {
      "text/plain": [
       "(tensor([[0., 0.],\n",
       "         [1., 1.],\n",
       "         [2., 2.]]),\n",
       " torch.return_types.histogramdd(\n",
       " hist=tensor([[1., 0.],\n",
       "         [0., 1.]]),\n",
       " bin_edges=(tensor([0., 1., 2.]), tensor([0.0000, 0.5000, 1.0000]))))"
      ]
     },
     "execution_count": 547,
     "metadata": {},
     "output_type": "execute_result"
    }
   ],
   "source": [
    "x =torch.tensor([[0., 0.], [1., 1.], [2., 2.]])\n",
    "y = torch.histogramdd(x, bins=(2, 2), range=[0., 2., 0., 1.])\n",
    "x, y"
   ]
  },
  {
   "cell_type": "code",
   "execution_count": 548,
   "id": "63eec35f",
   "metadata": {},
   "outputs": [
    {
     "name": "stderr",
     "output_type": "stream",
     "text": [
      "/home/mtb/env/lib/python3.9/site-packages/torch/functional.py:478: UserWarning: torch.meshgrid: in an upcoming release, it will be required to pass the indexing argument. (Triggered internally at  ../aten/src/ATen/native/TensorShape.cpp:2894.)\n",
      "  return _VF.meshgrid(tensors, **kwargs)  # type: ignore[attr-defined]\n"
     ]
    },
    {
     "data": {
      "text/plain": [
       "(tensor(2), tensor([3, 4, 5]), (tensor([[2, 2, 2]]), tensor([[3, 4, 5]])))"
      ]
     },
     "execution_count": 548,
     "metadata": {},
     "output_type": "execute_result"
    }
   ],
   "source": [
    "x = torch.tensor(2)\n",
    "y = torch.tensor([3, 4, 5])\n",
    "z = torch.meshgrid(x, y)\n",
    "x, y, z"
   ]
  },
  {
   "cell_type": "code",
   "execution_count": 549,
   "id": "d2dc1666",
   "metadata": {},
   "outputs": [
    {
     "data": {
      "text/plain": [
       "(tensor(2), tensor([3, 4, 5]), (tensor([[2, 2, 2]]), tensor([[3, 4, 5]])))"
      ]
     },
     "execution_count": 549,
     "metadata": {},
     "output_type": "execute_result"
    }
   ],
   "source": [
    "x = torch.tensor(2)\n",
    "y = torch.tensor([3, 4, 5])\n",
    "z = torch.meshgrid(x, y, indexing='ij')\n",
    "x, y, z"
   ]
  },
  {
   "cell_type": "code",
   "execution_count": 550,
   "id": "3bf2fa29",
   "metadata": {},
   "outputs": [
    {
     "data": {
      "text/plain": [
       "(tensor(2),\n",
       " tensor([3, 4, 5]),\n",
       " (tensor([[2],\n",
       "          [2],\n",
       "          [2]]),\n",
       "  tensor([[3],\n",
       "          [4],\n",
       "          [5]])))"
      ]
     },
     "execution_count": 550,
     "metadata": {},
     "output_type": "execute_result"
    }
   ],
   "source": [
    "x = torch.tensor(2)\n",
    "y = torch.tensor([3, 4, 5])\n",
    "z = torch.meshgrid(x, y, indexing='xy')\n",
    "x, y, z"
   ]
  },
  {
   "cell_type": "code",
   "execution_count": 551,
   "id": "a3329ddc",
   "metadata": {},
   "outputs": [
    {
     "data": {
      "text/plain": [
       "(tensor([1, 2, 3]),\n",
       " tensor([4, 5, 6]),\n",
       " (tensor([[1, 1, 1],\n",
       "          [2, 2, 2],\n",
       "          [3, 3, 3]]),\n",
       "  tensor([[4, 5, 6],\n",
       "          [4, 5, 6],\n",
       "          [4, 5, 6]])))"
      ]
     },
     "execution_count": 551,
     "metadata": {},
     "output_type": "execute_result"
    }
   ],
   "source": [
    "x = torch.tensor([1, 2, 3])\n",
    "y = torch.tensor([4, 5, 6])\n",
    "z = torch.meshgrid(x, y, indexing='ij')\n",
    "x, y, z"
   ]
  },
  {
   "cell_type": "code",
   "execution_count": 552,
   "id": "a7c7d9ca",
   "metadata": {},
   "outputs": [
    {
     "data": {
      "text/plain": [
       "(tensor([1, 2, 3]),\n",
       " tensor([4, 5, 6]),\n",
       " (tensor([[1, 2, 3],\n",
       "          [1, 2, 3],\n",
       "          [1, 2, 3]]),\n",
       "  tensor([[4, 4, 4],\n",
       "          [5, 5, 5],\n",
       "          [6, 6, 6]])))"
      ]
     },
     "execution_count": 552,
     "metadata": {},
     "output_type": "execute_result"
    }
   ],
   "source": [
    "x = torch.tensor([1, 2, 3])\n",
    "y = torch.tensor([4, 5, 6])\n",
    "z = torch.meshgrid(x, y, indexing='xy')\n",
    "x, y, z"
   ]
  },
  {
   "cell_type": "code",
   "execution_count": 553,
   "id": "66600861",
   "metadata": {},
   "outputs": [
    {
     "data": {
      "text/plain": [
       "tensor([[1, 4],\n",
       "        [1, 5],\n",
       "        [1, 6],\n",
       "        [2, 4],\n",
       "        [2, 5],\n",
       "        [2, 6],\n",
       "        [3, 4],\n",
       "        [3, 5],\n",
       "        [3, 6]])"
      ]
     },
     "execution_count": 553,
     "metadata": {},
     "output_type": "execute_result"
    }
   ],
   "source": [
    "torch.cartesian_prod(x, y)"
   ]
  },
  {
   "cell_type": "code",
   "execution_count": 554,
   "id": "b221c27d",
   "metadata": {},
   "outputs": [
    {
     "data": {
      "text/plain": [
       "(tensor([1, 2, 3]),\n",
       " tensor([4, 5]),\n",
       " (tensor([[1, 2, 3],\n",
       "          [1, 2, 3]]),\n",
       "  tensor([[4, 4, 4],\n",
       "          [5, 5, 5]])))"
      ]
     },
     "execution_count": 554,
     "metadata": {},
     "output_type": "execute_result"
    }
   ],
   "source": [
    "x = torch.tensor([1, 2, 3])\n",
    "y = torch.tensor([4, 5, ])\n",
    "z = torch.meshgrid(x, y, indexing='xy')\n",
    "x, y, z"
   ]
  },
  {
   "cell_type": "code",
   "execution_count": 555,
   "id": "6b11e29c",
   "metadata": {},
   "outputs": [
    {
     "data": {
      "text/plain": [
       "(tensor([10,  6,  4,  3,  0, 10,  0]),\n",
       " tensor([20,  3,  2,  2, 10,  0,  0]),\n",
       " tensor([20,  6,  4,  6,  0,  0,  0]))"
      ]
     },
     "execution_count": 555,
     "metadata": {},
     "output_type": "execute_result"
    }
   ],
   "source": [
    "x = torch.tensor([10, 6, 4, 3, 0, 10, 0])\n",
    "y = torch.tensor([20, 3, 2, 2, 10, 0, 0])\n",
    "z = torch.lcm(x, y)\n",
    "x, y, z"
   ]
  },
  {
   "cell_type": "code",
   "execution_count": 556,
   "id": "4c03086f",
   "metadata": {},
   "outputs": [
    {
     "data": {
      "text/plain": [
       "(tensor([-0.5222, -0.8426, -0.4781,  0.1079, -0.2537, -0.0621,  1.0712,  1.4564,\n",
       "         -1.3962, -0.2100]),\n",
       " tensor([-0.5222,  0.0235,  0.4970,  1.0144,  1.2623,  1.4982,  2.0004,  2.4581,\n",
       "          2.4791,  2.5448]))"
      ]
     },
     "execution_count": 556,
     "metadata": {},
     "output_type": "execute_result"
    }
   ],
   "source": [
    "x = torch.randn(10)\n",
    "y = torch.logcumsumexp(x, dim=0)\n",
    "x, y"
   ]
  },
  {
   "cell_type": "code",
   "execution_count": 557,
   "id": "266d0476",
   "metadata": {},
   "outputs": [
    {
     "data": {
      "text/plain": [
       "(tensor([[[1, 2],\n",
       "          [3, 4]],\n",
       " \n",
       "         [[5, 6],\n",
       "          [7, 8]]]),\n",
       " tensor([1, 2, 3, 4, 5, 6, 7, 8]),\n",
       " tensor([1, 2, 3, 4, 5, 6, 7, 8]))"
      ]
     },
     "execution_count": 557,
     "metadata": {},
     "output_type": "execute_result"
    }
   ],
   "source": [
    "x = torch.arange(1, 9).view(2, 2, 2)\n",
    "y = torch.ravel(x)\n",
    "z = torch.flatten(x)\n",
    "x, y, z"
   ]
  },
  {
   "cell_type": "code",
   "execution_count": 558,
   "id": "6848f205",
   "metadata": {},
   "outputs": [
    {
     "data": {
      "text/plain": [
       "(tensor([[[1, 2],\n",
       "          [3, 4]],\n",
       " \n",
       "         [[5, 6],\n",
       "          [7, 8]]]),\n",
       " tensor([1, 2, 3, 4, 5, 6, 7, 8]),\n",
       " tensor([[1, 2, 3, 4],\n",
       "         [5, 6, 7, 8]]))"
      ]
     },
     "execution_count": 558,
     "metadata": {},
     "output_type": "execute_result"
    }
   ],
   "source": [
    "x = torch.arange(1, 9).view(2, 2, 2)\n",
    "y = torch.ravel(x)\n",
    "z = torch.flatten(x, 1, 2)\n",
    "x, y, z"
   ]
  },
  {
   "cell_type": "code",
   "execution_count": 559,
   "id": "54684ff6",
   "metadata": {},
   "outputs": [
    {
     "data": {
      "text/plain": [
       "(tensor([[1., 1., 1., 1.],\n",
       "         [2., 2., 2., 2.],\n",
       "         [3., 3., 3., 3.],\n",
       "         [4., 4., 4., 4.]]),\n",
       " tensor([ 4.,  8., 12., 16.]),\n",
       " tensor([[0.5000, 0.5000, 0.5000, 0.5000],\n",
       "         [0.5000, 0.5000, 0.5000, 0.5000],\n",
       "         [0.5000, 0.5000, 0.5000, 0.5000],\n",
       "         [0.5000, 0.5000, 0.5000, 0.5000]]))"
      ]
     },
     "execution_count": 559,
     "metadata": {},
     "output_type": "execute_result"
    }
   ],
   "source": [
    "x = torch.ones(4, 4)\n",
    "x[1].fill_(2)\n",
    "x[2].fill_(3)\n",
    "x[3].fill_(4)\n",
    "y = torch.norm(x, 1, 1)\n",
    "z = torch.renorm(x, 1, 0, 2)\n",
    "x, y, z"
   ]
  },
  {
   "cell_type": "code",
   "execution_count": 560,
   "id": "78190a1d",
   "metadata": {},
   "outputs": [
    {
     "data": {
      "text/plain": [
       "(tensor([[1., 1., 1., 1.],\n",
       "         [2., 2., 2., 2.],\n",
       "         [3., 3., 3., 3.],\n",
       "         [4., 4., 4., 4.]]),\n",
       " tensor([ 4.,  8., 12., 16.]),\n",
       " tensor([[1.0000, 1.0000, 1.0000, 1.0000],\n",
       "         [2.0000, 2.0000, 2.0000, 2.0000],\n",
       "         [2.5000, 2.5000, 2.5000, 2.5000],\n",
       "         [2.5000, 2.5000, 2.5000, 2.5000]]))"
      ]
     },
     "execution_count": 560,
     "metadata": {},
     "output_type": "execute_result"
    }
   ],
   "source": [
    "x = torch.ones(4, 4)\n",
    "x[1].fill_(2)\n",
    "x[2].fill_(3)\n",
    "x[3].fill_(4)\n",
    "y = torch.norm(x, 1, 1)\n",
    "z = torch.renorm(x, 1, 0, 10)\n",
    "x, y, z"
   ]
  },
  {
   "cell_type": "code",
   "execution_count": 561,
   "id": "caf39ff3",
   "metadata": {},
   "outputs": [
    {
     "data": {
      "text/plain": [
       "(tensor([[1., 1., 1., 1.],\n",
       "         [2., 2., 2., 2.],\n",
       "         [3., 3., 3., 4.],\n",
       "         [4., 4., 4., 4.]]),\n",
       " tensor([ 4.,  8., 13., 16.]),\n",
       " tensor([[1.0000, 1.0000, 1.0000, 1.0000],\n",
       "         [2.0000, 2.0000, 2.0000, 2.0000],\n",
       "         [2.3077, 2.3077, 2.3077, 3.0769],\n",
       "         [2.5000, 2.5000, 2.5000, 2.5000]]))"
      ]
     },
     "execution_count": 561,
     "metadata": {},
     "output_type": "execute_result"
    }
   ],
   "source": [
    "x = torch.ones(4, 4)\n",
    "x[1].fill_(2)\n",
    "x[2].fill_(3)\n",
    "x[3].fill_(4)\n",
    "x[2][-1] = 4\n",
    "y = torch.norm(x, 1, 1)\n",
    "z = torch.renorm(x, 1, 0, 10) # norm(z, dim=1) < 10\n",
    "x, y, z"
   ]
  },
  {
   "cell_type": "code",
   "execution_count": 562,
   "id": "0c48877b",
   "metadata": {},
   "outputs": [
    {
     "data": {
      "text/plain": [
       "(tensor([1, 2, 3, 4]), tensor([1, 1, 2, 2, 3, 3, 4, 4]))"
      ]
     },
     "execution_count": 562,
     "metadata": {},
     "output_type": "execute_result"
    }
   ],
   "source": [
    "x = torch.arange(1, 5)\n",
    "y = torch.repeat_interleave(x, 2)\n",
    "x, y"
   ]
  },
  {
   "cell_type": "code",
   "execution_count": 563,
   "id": "0c48877b",
   "metadata": {},
   "outputs": [
    {
     "data": {
      "text/plain": [
       "(tensor([[ 1,  2,  3],\n",
       "         [ 4,  5,  6],\n",
       "         [ 7,  8,  9],\n",
       "         [10, 11, 12]]),\n",
       " tensor([[ 1,  1,  2,  2,  3,  3],\n",
       "         [ 4,  4,  5,  5,  6,  6],\n",
       "         [ 7,  7,  8,  8,  9,  9],\n",
       "         [10, 10, 11, 11, 12, 12]]))"
      ]
     },
     "execution_count": 563,
     "metadata": {},
     "output_type": "execute_result"
    }
   ],
   "source": [
    "x = torch.arange(1, 13).view(4, 3)\n",
    "y = torch.repeat_interleave(x, 2, 1)\n",
    "x, y"
   ]
  },
  {
   "cell_type": "code",
   "execution_count": 564,
   "id": "0c48877b",
   "metadata": {},
   "outputs": [
    {
     "data": {
      "text/plain": [
       "(tensor([[ 1,  2,  3],\n",
       "         [ 4,  5,  6],\n",
       "         [ 7,  8,  9],\n",
       "         [10, 11, 12]]),\n",
       " tensor([[ 1,  1,  1,  2,  2,  2,  3,  3,  3],\n",
       "         [ 4,  4,  4,  5,  5,  5,  6,  6,  6],\n",
       "         [ 7,  7,  7,  8,  8,  8,  9,  9,  9],\n",
       "         [10, 10, 10, 11, 11, 11, 12, 12, 12]]))"
      ]
     },
     "execution_count": 564,
     "metadata": {},
     "output_type": "execute_result"
    }
   ],
   "source": [
    "x = torch.arange(1, 13).view(4, 3)\n",
    "y = torch.repeat_interleave(x, 3, 1)\n",
    "x, y"
   ]
  },
  {
   "cell_type": "code",
   "execution_count": 565,
   "id": "0f22e20d",
   "metadata": {},
   "outputs": [
    {
     "data": {
      "text/plain": [
       "(tensor([[ 1,  2,  3],\n",
       "         [ 4,  5,  6],\n",
       "         [ 7,  8,  9],\n",
       "         [10, 11, 12]]),\n",
       " tensor([[ 1,  2,  3],\n",
       "         [ 1,  2,  3],\n",
       "         [ 4,  5,  6],\n",
       "         [ 4,  5,  6],\n",
       "         [ 7,  8,  9],\n",
       "         [ 7,  8,  9],\n",
       "         [10, 11, 12],\n",
       "         [10, 11, 12]]))"
      ]
     },
     "execution_count": 565,
     "metadata": {},
     "output_type": "execute_result"
    }
   ],
   "source": [
    "x = torch.arange(1, 13).view(4, 3)\n",
    "y = torch.repeat_interleave(x, 2, 0)\n",
    "x, y"
   ]
  },
  {
   "cell_type": "code",
   "execution_count": 566,
   "id": "4a45fed5",
   "metadata": {},
   "outputs": [
    {
     "data": {
      "text/plain": [
       "(tensor([[ 1,  2,  3],\n",
       "         [ 4,  5,  6],\n",
       "         [ 7,  8,  9],\n",
       "         [10, 11, 12]]),\n",
       " tensor([[ 1,  2,  3,  1,  2,  3],\n",
       "         [ 4,  5,  6,  4,  5,  6],\n",
       "         [ 7,  8,  9,  7,  8,  9],\n",
       "         [10, 11, 12, 10, 11, 12]]))"
      ]
     },
     "execution_count": 566,
     "metadata": {},
     "output_type": "execute_result"
    }
   ],
   "source": [
    "x = torch.arange(1, 13).view(4, 3)\n",
    "y = torch.tile(x, (2, ))\n",
    "x, y"
   ]
  },
  {
   "cell_type": "code",
   "execution_count": 567,
   "id": "4a45fed5",
   "metadata": {},
   "outputs": [
    {
     "data": {
      "text/plain": [
       "(tensor([[ 1,  2,  3],\n",
       "         [ 4,  5,  6],\n",
       "         [ 7,  8,  9],\n",
       "         [10, 11, 12]]),\n",
       " tensor([[ 1,  2,  3,  1,  2,  3],\n",
       "         [ 4,  5,  6,  4,  5,  6],\n",
       "         [ 7,  8,  9,  7,  8,  9],\n",
       "         [10, 11, 12, 10, 11, 12]]))"
      ]
     },
     "execution_count": 567,
     "metadata": {},
     "output_type": "execute_result"
    }
   ],
   "source": [
    "x = torch.arange(1, 13).view(4, 3)\n",
    "y = torch.tile(x, (1, 2))\n",
    "x, y"
   ]
  },
  {
   "cell_type": "code",
   "execution_count": 568,
   "id": "4a45fed5",
   "metadata": {},
   "outputs": [
    {
     "data": {
      "text/plain": [
       "(tensor([[ 1,  2,  3],\n",
       "         [ 4,  5,  6],\n",
       "         [ 7,  8,  9],\n",
       "         [10, 11, 12]]),\n",
       " tensor([[ 1,  2,  3],\n",
       "         [ 4,  5,  6],\n",
       "         [ 7,  8,  9],\n",
       "         [10, 11, 12],\n",
       "         [ 1,  2,  3],\n",
       "         [ 4,  5,  6],\n",
       "         [ 7,  8,  9],\n",
       "         [10, 11, 12]]))"
      ]
     },
     "execution_count": 568,
     "metadata": {},
     "output_type": "execute_result"
    }
   ],
   "source": [
    "x = torch.arange(1, 13).view(4, 3)\n",
    "y = torch.tile(x, (2, 1))\n",
    "x, y"
   ]
  },
  {
   "cell_type": "code",
   "execution_count": 569,
   "id": "680c7f45",
   "metadata": {},
   "outputs": [
    {
     "data": {
      "text/plain": [
       "(tensor([[1, 2, 3],\n",
       "         [4, 5, 6],\n",
       "         [7, 8, 9]]),\n",
       " tensor([[1, 2, 3],\n",
       "         [4, 5, 6],\n",
       "         [7, 8, 9]]))"
      ]
     },
     "execution_count": 569,
     "metadata": {},
     "output_type": "execute_result"
    }
   ],
   "source": [
    "x = torch.arange(1, 10).view(3, 3)\n",
    "y = torch.roll(x, 0)\n",
    "x, y"
   ]
  },
  {
   "cell_type": "code",
   "execution_count": 570,
   "id": "680c7f45",
   "metadata": {},
   "outputs": [
    {
     "data": {
      "text/plain": [
       "(tensor([[1, 2, 3],\n",
       "         [4, 5, 6],\n",
       "         [7, 8, 9]]),\n",
       " tensor([[9, 1, 2],\n",
       "         [3, 4, 5],\n",
       "         [6, 7, 8]]))"
      ]
     },
     "execution_count": 570,
     "metadata": {},
     "output_type": "execute_result"
    }
   ],
   "source": [
    "x = torch.arange(1, 10).view(3, 3)\n",
    "y = torch.roll(x, 1)\n",
    "x, y"
   ]
  },
  {
   "cell_type": "code",
   "execution_count": 571,
   "id": "680c7f45",
   "metadata": {},
   "outputs": [
    {
     "data": {
      "text/plain": [
       "(tensor([[1, 2, 3],\n",
       "         [4, 5, 6],\n",
       "         [7, 8, 9]]),\n",
       " tensor([[7, 8, 9],\n",
       "         [1, 2, 3],\n",
       "         [4, 5, 6]]))"
      ]
     },
     "execution_count": 571,
     "metadata": {},
     "output_type": "execute_result"
    }
   ],
   "source": [
    "x = torch.arange(1, 10).view(3, 3)\n",
    "y = torch.roll(x, 1, 0)\n",
    "x, y"
   ]
  },
  {
   "cell_type": "code",
   "execution_count": 572,
   "id": "680c7f45",
   "metadata": {},
   "outputs": [
    {
     "data": {
      "text/plain": [
       "(tensor([[1, 2, 3],\n",
       "         [4, 5, 6],\n",
       "         [7, 8, 9]]),\n",
       " tensor([[3, 1, 2],\n",
       "         [6, 4, 5],\n",
       "         [9, 7, 8]]))"
      ]
     },
     "execution_count": 572,
     "metadata": {},
     "output_type": "execute_result"
    }
   ],
   "source": [
    "x = torch.arange(1, 10).view(3, 3)\n",
    "y = torch.roll(x, 1, 1)\n",
    "x, y"
   ]
  },
  {
   "cell_type": "code",
   "execution_count": 573,
   "id": "98d94cde",
   "metadata": {},
   "outputs": [
    {
     "data": {
      "text/plain": [
       "(tensor([[1, 2, 3],\n",
       "         [4, 5, 6],\n",
       "         [7, 8, 9]]),\n",
       " tensor([[2, 3, 1],\n",
       "         [5, 6, 4],\n",
       "         [8, 9, 7]]))"
      ]
     },
     "execution_count": 573,
     "metadata": {},
     "output_type": "execute_result"
    }
   ],
   "source": [
    "x = torch.arange(1, 10).view(3, 3)\n",
    "y = torch.roll(x, -1, 1)\n",
    "x, y\n"
   ]
  },
  {
   "cell_type": "code",
   "execution_count": 574,
   "id": "98d94cde",
   "metadata": {},
   "outputs": [
    {
     "data": {
      "text/plain": [
       "(tensor([[1, 2, 3],\n",
       "         [4, 5, 6],\n",
       "         [7, 8, 9]]),\n",
       " tensor([[1, 2, 3],\n",
       "         [4, 5, 6],\n",
       "         [7, 8, 9]]))"
      ]
     },
     "execution_count": 574,
     "metadata": {},
     "output_type": "execute_result"
    }
   ],
   "source": [
    "x = torch.arange(1, 10).view(3, 3)\n",
    "y = torch.roll(x, 3, 1)\n",
    "x, y"
   ]
  },
  {
   "cell_type": "code",
   "execution_count": 575,
   "id": "842d5b88",
   "metadata": {},
   "outputs": [
    {
     "data": {
      "text/plain": [
       "(tensor([[1, 2, 3],\n",
       "         [4, 5, 6],\n",
       "         [7, 8, 9]]),\n",
       " tensor([[3, 1, 2],\n",
       "         [6, 4, 5],\n",
       "         [9, 7, 8]]))"
      ]
     },
     "execution_count": 575,
     "metadata": {},
     "output_type": "execute_result"
    }
   ],
   "source": [
    "x = torch.arange(1, 10).view(3, 3)\n",
    "y = torch.roll(x, 1, 1)\n",
    "x, y"
   ]
  },
  {
   "cell_type": "code",
   "execution_count": 576,
   "id": "b21c9b54",
   "metadata": {},
   "outputs": [
    {
     "data": {
      "text/plain": [
       "(tensor([[1, 2, 3],\n",
       "         [4, 5, 6],\n",
       "         [7, 8, 9]]),\n",
       " tensor([[3, 1, 2],\n",
       "         [6, 4, 5],\n",
       "         [9, 7, 8]]))"
      ]
     },
     "execution_count": 576,
     "metadata": {},
     "output_type": "execute_result"
    }
   ],
   "source": [
    "x = torch.arange(1, 10).view(3, 3)\n",
    "y = torch.roll(x, 4, 1)\n",
    "x, y"
   ]
  },
  {
   "cell_type": "code",
   "execution_count": 577,
   "id": "c8becf70",
   "metadata": {},
   "outputs": [
    {
     "data": {
      "text/plain": [
       "(tensor([[1, 2, 3],\n",
       "         [4, 5, 6],\n",
       "         [7, 8, 9]]),\n",
       " tensor([[8, 9, 7],\n",
       "         [2, 3, 1],\n",
       "         [5, 6, 4]]))"
      ]
     },
     "execution_count": 577,
     "metadata": {},
     "output_type": "execute_result"
    }
   ],
   "source": [
    "x = torch.arange(1, 10).view(3, 3)\n",
    "y = torch.roll(x, (1, 2),(0, -1))\n",
    "x, y"
   ]
  },
  {
   "cell_type": "code",
   "execution_count": 578,
   "id": "20a6a9e7",
   "metadata": {},
   "outputs": [
    {
     "data": {
      "text/plain": [
       "(tensor([[ 1,  3,  5,  7,  9],\n",
       "         [ 2,  4,  6,  8, 10]]),\n",
       " tensor([[1],\n",
       "         [4]]))"
      ]
     },
     "execution_count": 578,
     "metadata": {},
     "output_type": "execute_result"
    }
   ],
   "source": [
    "x = torch.tensor([[1, 3, 5, 7, 9], [2, 4, 6, 8, 10]])\n",
    "y = torch.searchsorted(x, torch.tensor([[3], [10]]))\n",
    "x, y"
   ]
  },
  {
   "cell_type": "code",
   "execution_count": 579,
   "id": "b21f9697",
   "metadata": {},
   "outputs": [
    {
     "data": {
      "text/plain": [
       "(tensor([[ 1,  3,  5,  7,  9],\n",
       "         [ 2,  4,  6,  8, 10]]),\n",
       " tensor([[1, 2],\n",
       "         [4, 5]]))"
      ]
     },
     "execution_count": 579,
     "metadata": {},
     "output_type": "execute_result"
    }
   ],
   "source": [
    "x = torch.tensor([[1, 3, 5, 7, 9], [2, 4, 6, 8, 10]])\n",
    "y = torch.searchsorted(x, torch.tensor([[3, 4], [10, 11]]))\n",
    "x, y"
   ]
  },
  {
   "cell_type": "code",
   "execution_count": 580,
   "id": "4dcd4ca3",
   "metadata": {},
   "outputs": [
    {
     "data": {
      "text/plain": [
       "(tensor([[ 1,  3,  5,  7,  9],\n",
       "         [ 2,  4,  6,  8, 10]]),\n",
       " tensor([[2, 2],\n",
       "         [5, 5]]))"
      ]
     },
     "execution_count": 580,
     "metadata": {},
     "output_type": "execute_result"
    }
   ],
   "source": [
    "x = torch.tensor([[1, 3, 5, 7, 9], [2, 4, 6, 8, 10]])\n",
    "y = torch.searchsorted(x, torch.tensor([[3, 4], [10, 11]]), side=\"right\")\n",
    "x, y"
   ]
  },
  {
   "cell_type": "code",
   "execution_count": 581,
   "id": "6281262d",
   "metadata": {},
   "outputs": [
    {
     "data": {
      "text/plain": [
       "(tensor([[ 1,  3,  5,  7,  9],\n",
       "         [ 2,  4,  6,  8, 10]]),\n",
       " tensor([[2, 2],\n",
       "         [5, 5]]))"
      ]
     },
     "execution_count": 581,
     "metadata": {},
     "output_type": "execute_result"
    }
   ],
   "source": [
    "x = torch.tensor([[1, 3, 5, 7, 9], [2, 4, 6, 8, 10]])\n",
    "y = torch.searchsorted(x, torch.tensor([[3, 4], [10, 11]]), side=\"right\", right=True)\n",
    "x, y"
   ]
  },
  {
   "cell_type": "code",
   "execution_count": 582,
   "id": "1380f27c",
   "metadata": {},
   "outputs": [
    {
     "data": {
      "text/plain": [
       "(tensor([[ 1,  3,  5,  7,  9],\n",
       "         [ 2,  4,  6,  8, 10]]),\n",
       " tensor([[2, 2],\n",
       "         [5, 5]]))"
      ]
     },
     "execution_count": 582,
     "metadata": {},
     "output_type": "execute_result"
    }
   ],
   "source": [
    "x = torch.tensor([[1, 3, 5, 7, 9], [2, 4, 6, 8, 10]])\n",
    "y = torch.searchsorted(x, torch.tensor([[3, 4], [10, 11]]), right=True)\n",
    "x, y"
   ]
  },
  {
   "cell_type": "code",
   "execution_count": 583,
   "id": "33aa9f40",
   "metadata": {},
   "outputs": [
    {
     "data": {
      "text/plain": [
       "(tensor([[ 1,  3,  5,  7,  9],\n",
       "         [ 2,  4,  6,  8, 10]]),\n",
       " tensor([[1, 2],\n",
       "         [4, 5]]))"
      ]
     },
     "execution_count": 583,
     "metadata": {},
     "output_type": "execute_result"
    }
   ],
   "source": [
    "x = torch.tensor([[1, 3, 5, 7, 9], [2, 4, 6, 8, 10]])\n",
    "y = torch.searchsorted(x, torch.tensor([[3, 4], [10, 11]]), right=False)\n",
    "x, y"
   ]
  },
  {
   "cell_type": "code",
   "execution_count": 584,
   "id": "bb785eed",
   "metadata": {},
   "outputs": [
    {
     "data": {
      "text/plain": [
       "(tensor([[ 1,  3,  5,  7,  9],\n",
       "         [ 2,  4,  6,  8, 10]]),\n",
       " tensor([[1, 2],\n",
       "         [4, 5]]))"
      ]
     },
     "execution_count": 584,
     "metadata": {},
     "output_type": "execute_result"
    }
   ],
   "source": [
    "x = torch.tensor([[1, 3, 5, 7, 9], [2, 4, 6, 8, 10]])\n",
    "y = torch.searchsorted(x, torch.tensor([[3, 4], [10, 11]]), right=False, side=\"left\")\n",
    "x, y"
   ]
  },
  {
   "cell_type": "code",
   "execution_count": 585,
   "id": "74f07506",
   "metadata": {},
   "outputs": [],
   "source": [
    "# x = torch.tensor([[1, 3, 5, 7, 9], [2, 4, 6, 8, 10]])\n",
    "# y = torch.searchsorted(x, torch.tensor([[3, 4], [10, 11]]), right=True, side=\"left\") # Error\n",
    "# x, y"
   ]
  },
  {
   "cell_type": "code",
   "execution_count": 586,
   "id": "5f177f37",
   "metadata": {},
   "outputs": [
    {
     "data": {
      "text/plain": [
       "(torch.Size([2, 4, 3]), torch.Size([2, 3, 4, 10]), torch.Size([2, 2, 10]))"
      ]
     },
     "execution_count": 586,
     "metadata": {},
     "output_type": "execute_result"
    }
   ],
   "source": [
    "x = torch.randn(2, 4, 3)\n",
    "y = torch.randn(2, 3, 4, 10)\n",
    "z = torch.tensordot(x, y, dims=[(1, 2), (2, 1)])\n",
    "x.shape, y.shape, z.shape"
   ]
  },
  {
   "cell_type": "code",
   "execution_count": 587,
   "id": "3bfb53ba",
   "metadata": {},
   "outputs": [
    {
     "data": {
      "text/plain": [
       "(torch.Size([2, 6, 3]), torch.Size([6, 3, 4, 10]), torch.Size([2, 4, 10]))"
      ]
     },
     "execution_count": 587,
     "metadata": {},
     "output_type": "execute_result"
    }
   ],
   "source": [
    "x = torch.randn(2, 6, 3)\n",
    "y = torch.randn(6, 3, 4, 10)\n",
    "z = torch.tensordot(x, y, dims=2)\n",
    "x.shape, y.shape, z.shape"
   ]
  },
  {
   "cell_type": "code",
   "execution_count": 588,
   "id": "3342fa93",
   "metadata": {},
   "outputs": [
    {
     "data": {
      "text/plain": [
       "(tensor([1, 2, 3]), tensor(14))"
      ]
     },
     "execution_count": 588,
     "metadata": {},
     "output_type": "execute_result"
    }
   ],
   "source": [
    "x = torch.tensor([1, 2, 3])\n",
    "y = torch.tensordot(x, x, [(0, ), (0, )])\n",
    "x, y"
   ]
  },
  {
   "cell_type": "code",
   "execution_count": 589,
   "id": "3f8e1020",
   "metadata": {},
   "outputs": [
    {
     "data": {
      "text/plain": [
       "(torch.Size([10, 4]), torch.Size([4]), torch.Size([10]))"
      ]
     },
     "execution_count": 589,
     "metadata": {},
     "output_type": "execute_result"
    }
   ],
   "source": [
    "x = torch.randn(10, 4)\n",
    "w = torch.randn((4, ))\n",
    "z = torch.tensordot(x, w, [(1, ), (0, )])\n",
    "x.shape, w.shape, z.shape"
   ]
  },
  {
   "cell_type": "code",
   "execution_count": 590,
   "id": "33d8f12a",
   "metadata": {},
   "outputs": [
    {
     "data": {
      "text/plain": [
       "(torch.Size([10, 4]), torch.Size([4]), torch.Size([10]))"
      ]
     },
     "execution_count": 590,
     "metadata": {},
     "output_type": "execute_result"
    }
   ],
   "source": [
    "x = torch.randn(10, 4)\n",
    "w = torch.randn(4,)\n",
    "z = torch.tensordot(x, w, 1)\n",
    "x.shape, w.shape, z.shape"
   ]
  },
  {
   "cell_type": "code",
   "execution_count": 591,
   "id": "6196879a",
   "metadata": {},
   "outputs": [
    {
     "data": {
      "text/plain": [
       "(torch.Size([10, 4]), torch.Size([1, 4]), torch.Size([]), tensor(1.3427))"
      ]
     },
     "execution_count": 591,
     "metadata": {},
     "output_type": "execute_result"
    }
   ],
   "source": [
    "x = torch.randn(10, 4)\n",
    "w = torch.randn((1, 4, ))\n",
    "z = torch.tensordot(x, w, [(0, 1, ), (0, 1)])\n",
    "x.shape, w.shape, z.shape, z"
   ]
  },
  {
   "cell_type": "code",
   "execution_count": 592,
   "id": "bf8e463b",
   "metadata": {},
   "outputs": [
    {
     "data": {
      "text/plain": [
       "(tensor([[1., 0., 0., 0., 0.],\n",
       "         [0., 1., 0., 0., 0.],\n",
       "         [0., 0., 1., 0., 0.],\n",
       "         [0., 0., 0., 1., 0.],\n",
       "         [0., 0., 0., 0., 1.]]),\n",
       " tensor(5.))"
      ]
     },
     "execution_count": 592,
     "metadata": {},
     "output_type": "execute_result"
    }
   ],
   "source": [
    "x = torch.eye(5)\n",
    "y = torch.trace(x)\n",
    "x, y"
   ]
  },
  {
   "cell_type": "code",
   "execution_count": 593,
   "id": "9ed1380c",
   "metadata": {},
   "outputs": [
    {
     "data": {
      "text/plain": [
       "(tensor([[ 0.2787, -0.1891, -1.0682, -0.6846, -0.5943],\n",
       "         [-1.9667, -0.9179,  1.0661,  1.3711,  0.0070],\n",
       "         [-2.7781,  0.9921, -0.8136,  1.4463, -0.1600],\n",
       "         [-1.1061,  0.9363, -0.9525, -0.4005, -1.4756]]),\n",
       " tensor([[ 0.2787,  0.0000,  0.0000,  0.0000,  0.0000],\n",
       "         [-1.9667, -0.9179,  0.0000,  0.0000,  0.0000],\n",
       "         [-2.7781,  0.9921, -0.8136,  0.0000,  0.0000],\n",
       "         [-1.1061,  0.9363, -0.9525, -0.4005,  0.0000]]))"
      ]
     },
     "execution_count": 593,
     "metadata": {},
     "output_type": "execute_result"
    }
   ],
   "source": [
    "x = torch.randn(4, 5)\n",
    "y = torch.tril(x)\n",
    "x, y"
   ]
  },
  {
   "cell_type": "code",
   "execution_count": 594,
   "id": "2067de8e",
   "metadata": {},
   "outputs": [
    {
     "data": {
      "text/plain": [
       "(tensor([[ 0.7109,  2.0271, -0.1642,  0.6015, -0.5753],\n",
       "         [-1.0966, -0.0183, -0.1373,  0.1056, -0.7594],\n",
       "         [-0.7123,  0.9240,  0.8100, -2.3655,  1.2098],\n",
       "         [ 0.0250, -0.4402, -0.3470,  0.9234,  1.8556]]),\n",
       " tensor([[ 0.7109,  2.0271,  0.0000,  0.0000,  0.0000],\n",
       "         [-1.0966, -0.0183, -0.1373,  0.0000,  0.0000],\n",
       "         [-0.7123,  0.9240,  0.8100, -2.3655,  0.0000],\n",
       "         [ 0.0250, -0.4402, -0.3470,  0.9234,  1.8556]]))"
      ]
     },
     "execution_count": 594,
     "metadata": {},
     "output_type": "execute_result"
    }
   ],
   "source": [
    "x = torch.randn(4, 5)\n",
    "y = torch.tril(x, 1)\n",
    "x, y"
   ]
  },
  {
   "cell_type": "code",
   "execution_count": 595,
   "id": "73942ec8",
   "metadata": {},
   "outputs": [
    {
     "data": {
      "text/plain": [
       "(tensor([[ 0.1941, -0.5117, -0.1632, -0.5816,  1.8591],\n",
       "         [-0.6438, -0.3152, -0.8416, -0.5065,  0.3025],\n",
       "         [-2.3344,  1.1107,  1.5358, -1.4401, -0.4134],\n",
       "         [-0.7154, -0.5449, -0.6745, -1.3601, -0.3134]]),\n",
       " tensor([[ 0.1941, -0.5117, -0.1632,  0.0000,  0.0000],\n",
       "         [-0.6438, -0.3152, -0.8416, -0.5065,  0.0000],\n",
       "         [-2.3344,  1.1107,  1.5358, -1.4401, -0.4134],\n",
       "         [-0.7154, -0.5449, -0.6745, -1.3601, -0.3134]]))"
      ]
     },
     "execution_count": 595,
     "metadata": {},
     "output_type": "execute_result"
    }
   ],
   "source": [
    "x = torch.randn(4, 5)\n",
    "y = torch.tril(x, 2)\n",
    "x, y"
   ]
  },
  {
   "cell_type": "code",
   "execution_count": 596,
   "id": "2ead8897",
   "metadata": {},
   "outputs": [
    {
     "data": {
      "text/plain": [
       "(tensor([[-0.4041, -1.6877,  0.7651, -3.3976,  0.1118],\n",
       "         [-1.1434,  0.3586, -0.0855,  0.6548,  0.8472],\n",
       "         [ 0.2450, -1.0596, -0.8808,  2.2446, -0.5521],\n",
       "         [ 2.0963, -0.6030, -0.2930,  0.7252, -0.3601]]),\n",
       " tensor([[-0.4041, -1.6877,  0.7651, -3.3976,  0.1118],\n",
       "         [-1.1434,  0.3586, -0.0855,  0.6548,  0.8472],\n",
       "         [ 0.2450, -1.0596, -0.8808,  2.2446, -0.5521],\n",
       "         [ 2.0963, -0.6030, -0.2930,  0.7252, -0.3601]]))"
      ]
     },
     "execution_count": 596,
     "metadata": {},
     "output_type": "execute_result"
    }
   ],
   "source": [
    "x = torch.randn(4, 5)\n",
    "y = torch.tril(x, 12)\n",
    "x, y"
   ]
  },
  {
   "cell_type": "code",
   "execution_count": 597,
   "id": "ebbcc198",
   "metadata": {},
   "outputs": [
    {
     "data": {
      "text/plain": [
       "(tensor([[ 1.0437,  0.3217,  0.0696, -1.1667, -0.9020],\n",
       "         [-0.1813, -0.0382,  0.5074, -0.4555,  0.1065],\n",
       "         [-0.5743,  0.0953,  0.2952, -0.0027, -0.5858],\n",
       "         [ 0.9236,  0.6884,  1.4220, -0.3725, -1.2842]]),\n",
       " tensor([[ 0.0000,  0.0000,  0.0000,  0.0000,  0.0000],\n",
       "         [-0.1813,  0.0000,  0.0000,  0.0000,  0.0000],\n",
       "         [-0.5743,  0.0953,  0.0000,  0.0000,  0.0000],\n",
       "         [ 0.9236,  0.6884,  1.4220,  0.0000,  0.0000]]))"
      ]
     },
     "execution_count": 597,
     "metadata": {},
     "output_type": "execute_result"
    }
   ],
   "source": [
    "x = torch.randn(4, 5)\n",
    "y = torch.tril(x, -1)\n",
    "x, y"
   ]
  },
  {
   "cell_type": "code",
   "execution_count": 598,
   "id": "a0b3adc4",
   "metadata": {},
   "outputs": [
    {
     "data": {
      "text/plain": [
       "(tensor([[ 0.6437,  0.1651, -1.4114, -1.4172,  0.9644],\n",
       "         [ 2.1546,  0.5930, -0.1044,  0.5794,  0.5645],\n",
       "         [-0.6778, -0.2901, -1.3914, -0.5226, -0.8394],\n",
       "         [-0.4629, -1.0117,  0.8612,  0.8926, -0.9760]]),\n",
       " tensor([[0., 0., 0., 0., 0.],\n",
       "         [0., 0., 0., 0., 0.],\n",
       "         [0., 0., 0., 0., 0.],\n",
       "         [0., 0., 0., 0., 0.]]))"
      ]
     },
     "execution_count": 598,
     "metadata": {},
     "output_type": "execute_result"
    }
   ],
   "source": [
    "x = torch.randn(4, 5)\n",
    "y = torch.tril(x, -12)\n",
    "x, y\n"
   ]
  },
  {
   "cell_type": "code",
   "execution_count": 599,
   "id": "3a397445",
   "metadata": {},
   "outputs": [
    {
     "data": {
      "text/plain": [
       "(tensor([[0, 0, 0, 1, 1, 2],\n",
       "         [0, 1, 2, 1, 2, 2]]),\n",
       " tensor([[ 1.0356,  0.4328,  0.5132],\n",
       "         [-0.5475, -0.6300, -1.3755],\n",
       "         [-0.8512, -0.0665,  0.7791]]),\n",
       " tensor([[ 1.0356,  0.4328,  0.5132],\n",
       "         [ 0.0000, -0.6300, -1.3755],\n",
       "         [ 0.0000,  0.0000,  0.7791]]),\n",
       " tensor([[ 1.0356,  0.4328,  0.5132],\n",
       "         [ 0.0000, -0.6300, -1.3755],\n",
       "         [ 0.0000,  0.0000,  0.7791]]))"
      ]
     },
     "execution_count": 599,
     "metadata": {},
     "output_type": "execute_result"
    }
   ],
   "source": [
    "indices = torch.triu_indices(3, 3)\n",
    "x = torch.randn(3, 3)\n",
    "y = torch.empty(size=(3, 3), dtype=x.dtype).fill_(0)\n",
    "y[indices[0], indices[1]] = x[indices[0], indices[1]]\n",
    "z = torch.triu(x)\n",
    "indices, x, y, z"
   ]
  },
  {
   "cell_type": "code",
   "execution_count": 600,
   "id": "0141a345",
   "metadata": {},
   "outputs": [
    {
     "data": {
      "text/plain": [
       "(tensor([[0, 0, 1],\n",
       "         [1, 2, 2]]),\n",
       " tensor([[-1.2596,  0.9378, -0.1095],\n",
       "         [-0.6004, -0.6488,  0.3704],\n",
       "         [-0.5148,  0.2346,  0.4719]]),\n",
       " tensor([[ 0.0000,  0.9378, -0.1095],\n",
       "         [ 0.0000,  0.0000,  0.3704],\n",
       "         [ 0.0000,  0.0000,  0.0000]]),\n",
       " tensor([[-1.2596,  0.9378, -0.1095],\n",
       "         [ 0.0000, -0.6488,  0.3704],\n",
       "         [ 0.0000,  0.0000,  0.4719]]))"
      ]
     },
     "execution_count": 600,
     "metadata": {},
     "output_type": "execute_result"
    }
   ],
   "source": [
    "indices = torch.triu_indices(3, 3, offset=1)\n",
    "x = torch.randn(3, 3)\n",
    "y = torch.empty(size=(3, 3), dtype=x.dtype).fill_(0)\n",
    "y[indices[0], indices[1]] = x[indices[0], indices[1]]\n",
    "z = torch.triu(x)\n",
    "indices, x, y, z"
   ]
  },
  {
   "cell_type": "code",
   "execution_count": 601,
   "id": "93ebf6cd",
   "metadata": {},
   "outputs": [
    {
     "data": {
      "text/plain": [
       "(tensor([], size=(2, 0), dtype=torch.int64),\n",
       " tensor([[ 0.3354,  0.0980,  0.1549],\n",
       "         [ 1.3252, -0.9572, -0.6068],\n",
       "         [-0.4890,  0.1540,  0.0198]]),\n",
       " tensor([[0., 0., 0.],\n",
       "         [0., 0., 0.],\n",
       "         [0., 0., 0.]]),\n",
       " tensor([[ 0.3354,  0.0980,  0.1549],\n",
       "         [ 0.0000, -0.9572, -0.6068],\n",
       "         [ 0.0000,  0.0000,  0.0198]]))"
      ]
     },
     "execution_count": 601,
     "metadata": {},
     "output_type": "execute_result"
    }
   ],
   "source": [
    "indices = torch.triu_indices(3, 3, offset=10)\n",
    "x = torch.randn(3, 3)\n",
    "y = torch.empty(size=(3, 3), dtype=x.dtype).fill_(0)\n",
    "y[indices[0], indices[1]] = x[indices[0], indices[1]]\n",
    "z = torch.triu(x)\n",
    "indices, x, y, z"
   ]
  },
  {
   "cell_type": "code",
   "execution_count": 602,
   "id": "97146770",
   "metadata": {},
   "outputs": [
    {
     "data": {
      "text/plain": [
       "(torch.Size([3, 4, 2, 3]), torch.Size([3, 24]))"
      ]
     },
     "execution_count": 602,
     "metadata": {},
     "output_type": "execute_result"
    }
   ],
   "source": [
    "x = torch.randn(3, 4, 2, 3)\n",
    "y = torch.flatten(x, 1)\n",
    "x.shape, y.shape"
   ]
  },
  {
   "cell_type": "code",
   "execution_count": 603,
   "id": "512f263a",
   "metadata": {},
   "outputs": [],
   "source": [
    "# x = torch.randn(3, 4, 2, 3)\n",
    "# y = torch.unflatten(x, 1, (2, 2), 2, 3)\n",
    "# x.shape, y.shape # vi.13.1 (3, 2, 2, 2, 3)"
   ]
  },
  {
   "cell_type": "code",
   "execution_count": 604,
   "id": "e4d0456d",
   "metadata": {},
   "outputs": [
    {
     "data": {
      "text/plain": [
       "(tensor([1, 2, 3, 5]),\n",
       " tensor([[  1,   1,   1,   1],\n",
       "         [  8,   4,   2,   1],\n",
       "         [ 27,   9,   3,   1],\n",
       "         [125,  25,   5,   1]]))"
      ]
     },
     "execution_count": 604,
     "metadata": {},
     "output_type": "execute_result"
    }
   ],
   "source": [
    "x = torch.tensor([1, 2, 3, 5])\n",
    "y = torch.vander(x)\n",
    "x, y"
   ]
  },
  {
   "cell_type": "code",
   "execution_count": 605,
   "id": "dddd8fb2",
   "metadata": {},
   "outputs": [
    {
     "data": {
      "text/plain": [
       "(tensor([ 1.0000+0.0000j,  0.9733+0.4566j, -1.0926-0.5448j]),\n",
       " tensor([[ 1.0000,  0.0000],\n",
       "         [ 0.9733,  0.4566],\n",
       "         [-1.0926, -0.5448]]))"
      ]
     },
     "execution_count": 605,
     "metadata": {},
     "output_type": "execute_result"
    }
   ],
   "source": [
    "x = torch.randn(3, dtype=torch.cfloat)\n",
    "y = torch.view_as_real(x)\n",
    "x[0] = 1\n",
    "x, y"
   ]
  },
  {
   "cell_type": "code",
   "execution_count": 606,
   "id": "9ad643ab",
   "metadata": {},
   "outputs": [
    {
     "data": {
      "text/plain": [
       "(tensor([[ 0.9877,  1.3055],\n",
       "         [-1.0931, -0.2222],\n",
       "         [ 0.1640, -0.0647],\n",
       "         [ 1.1717,  0.5596]]),\n",
       " tensor([ 0.9877+1.3055j, -1.0931-0.2222j,  0.1640-0.0647j,  1.1717+0.5596j]))"
      ]
     },
     "execution_count": 606,
     "metadata": {},
     "output_type": "execute_result"
    }
   ],
   "source": [
    "x = torch.randn((4, 2), dtype=torch.float)\n",
    "y = torch.view_as_complex(x)\n",
    "x, y"
   ]
  },
  {
   "cell_type": "code",
   "execution_count": 607,
   "id": "72ee9932",
   "metadata": {},
   "outputs": [
    {
     "data": {
      "text/plain": [
       "torch.Size([3, 5])"
      ]
     },
     "execution_count": 607,
     "metadata": {},
     "output_type": "execute_result"
    }
   ],
   "source": [
    "b1 = torch.randn(10, 3, 4)\n",
    "b2 = torch.randn(10, 4, 5)\n",
    "M = torch.randn(3, 5)\n",
    "x = torch.addbmm(M, b1, b2,)\n",
    "x.shape"
   ]
  },
  {
   "cell_type": "code",
   "execution_count": 608,
   "id": "9cb819ba",
   "metadata": {},
   "outputs": [
    {
     "data": {
      "text/plain": [
       "tensor([[ 0.7406, -0.6102, -0.0937],\n",
       "        [-1.5371, -0.4773,  2.8854]])"
      ]
     },
     "execution_count": 608,
     "metadata": {},
     "output_type": "execute_result"
    }
   ],
   "source": [
    "M = torch.randn(2, 3)\n",
    "mat1 = torch.randn(2, 3)\n",
    "mat2 = torch.randn(3, 3)\n",
    "torch.addmm(M, mat1, mat2)"
   ]
  },
  {
   "cell_type": "code",
   "execution_count": 609,
   "id": "f23f7270",
   "metadata": {},
   "outputs": [
    {
     "data": {
      "text/plain": [
       "tensor([-1.6599,  2.1888])"
      ]
     },
     "execution_count": 609,
     "metadata": {},
     "output_type": "execute_result"
    }
   ],
   "source": [
    "M = torch.randn(2)\n",
    "mat = torch.randn(2, 3)\n",
    "vec = torch.randn(3)\n",
    "torch.addmv(M, mat, vec)"
   ]
  },
  {
   "cell_type": "code",
   "execution_count": 610,
   "id": "1f48c8d9",
   "metadata": {},
   "outputs": [
    {
     "data": {
      "text/plain": [
       "(tensor([[1., 2.],\n",
       "         [2., 4.],\n",
       "         [3., 6.]]),\n",
       " tensor([1., 2., 2., 4., 3., 6.]))"
      ]
     },
     "execution_count": 610,
     "metadata": {},
     "output_type": "execute_result"
    }
   ],
   "source": [
    "vec1 = torch.arange(1., 4.)\n",
    "vec2 = torch.arange(1., 3.)\n",
    "M = torch.zeros(3, 2)\n",
    "torch.addr(M, vec1, vec2), torch.kron(vec1, vec2)"
   ]
  },
  {
   "cell_type": "code",
   "execution_count": 611,
   "id": "f2ad5e70",
   "metadata": {},
   "outputs": [
    {
     "data": {
      "text/plain": [
       "tensor([1., 2., 2., 4., 3., 6.])"
      ]
     },
     "execution_count": 611,
     "metadata": {},
     "output_type": "execute_result"
    }
   ],
   "source": [
    "torch.kron(vec1, vec2)"
   ]
  },
  {
   "cell_type": "code",
   "execution_count": 612,
   "id": "daa9a9a4",
   "metadata": {},
   "outputs": [
    {
     "data": {
      "text/plain": [
       "torch.Size([3, 5])"
      ]
     },
     "execution_count": 612,
     "metadata": {},
     "output_type": "execute_result"
    }
   ],
   "source": [
    "b1 = torch.randn(10, 3, 4)\n",
    "b2 = torch.randn(10, 4, 5)\n",
    "M = torch.randn(3, 5)\n",
    "x = torch.addbmm(M, b1, b2,)\n",
    "x.shape"
   ]
  },
  {
   "cell_type": "code",
   "execution_count": 613,
   "id": "d81752a0",
   "metadata": {},
   "outputs": [
    {
     "data": {
      "text/plain": [
       "torch.Size([10, 3, 5])"
      ]
     },
     "execution_count": 613,
     "metadata": {},
     "output_type": "execute_result"
    }
   ],
   "source": [
    "b1 = torch.randn(10, 3, 4)\n",
    "b2 = torch.randn(10, 4, 5)\n",
    "x = torch.bmm(b1, b2,)\n",
    "x.size()"
   ]
  },
  {
   "cell_type": "code",
   "execution_count": 614,
   "id": "4acd7cbe",
   "metadata": {},
   "outputs": [
    {
     "name": "stderr",
     "output_type": "stream",
     "text": [
      "/home/mtb/env/lib/python3.9/site-packages/torch/functional.py:1543: UserWarning: torch.chain_matmul is deprecated and will be removed in a future PyTorch release. Use torch.linalg.multi_dot instead, which accepts a list of two or more tensors rather than multiple parameters. (Triggered internally at  ../aten/src/ATen/native/LinearAlgebra.cpp:931.)\n",
      "  return _VF.chain_matmul(matrices)  # type: ignore[attr-defined]\n"
     ]
    },
    {
     "data": {
      "text/plain": [
       "tensor([[ 10.4736, -11.2468, -17.0450,  -3.1485,  -3.5106,  -8.9772,  26.9850],\n",
       "        [ -7.0091,  10.9394,  13.1081,  -9.7042,  10.2214,  13.3537, -15.7966],\n",
       "        [ -7.8957,  14.1040,  18.1096, -13.2509,  13.2883,  16.6035, -20.6470]])"
      ]
     },
     "execution_count": 614,
     "metadata": {},
     "output_type": "execute_result"
    }
   ],
   "source": [
    "a = torch.randn(3, 4)\n",
    "b = torch.randn(4, 5)\n",
    "c = torch.randn(5, 6)\n",
    "d = torch.randn(6, 7)\n",
    "# will raise a deprecation warning\n",
    "torch.chain_matmul(a, b, c, d)"
   ]
  },
  {
   "cell_type": "code",
   "execution_count": 615,
   "id": "191fbabb",
   "metadata": {},
   "outputs": [
    {
     "name": "stderr",
     "output_type": "stream",
     "text": [
      "/tmp/ipykernel_11739/1657277021.py:3: UserWarning: torch.cholesky is deprecated in favor of torch.linalg.cholesky and will be removed in a future PyTorch release.\n",
      "L = torch.cholesky(A)\n",
      "should be replaced with\n",
      "L = torch.linalg.cholesky(A)\n",
      "and\n",
      "U = torch.cholesky(A, upper=True)\n",
      "should be replaced with\n",
      "U = torch.linalg.cholesky(A).mH().\n",
      "This transform will produce equivalent results for all valid (symmetric positive definite) inputs. (Triggered internally at  ../aten/src/ATen/native/BatchLinearAlgebra.cpp:1744.)\n",
      "  y = torch.cholesky(z)\n"
     ]
    },
    {
     "data": {
      "text/plain": [
       "(tensor([[-0.8110,  0.8532,  0.8064],\n",
       "         [-1.4154,  2.6354,  0.0806],\n",
       "         [ 2.2210,  1.0400, -0.4860]]),\n",
       " tensor([[ 2.0359,  3.4613, -1.3059],\n",
       "         [ 3.4613,  8.9551, -0.4422],\n",
       "         [-1.3059, -0.4422,  6.2506]]),\n",
       " tensor([[ 1.4268,  0.0000,  0.0000],\n",
       "         [ 2.4258,  1.7522,  0.0000],\n",
       "         [-0.9152,  1.0147,  2.0936]]))"
      ]
     },
     "execution_count": 615,
     "metadata": {},
     "output_type": "execute_result"
    }
   ],
   "source": [
    "x = torch.randn(3, 3)\n",
    "z = x @ x.mT\n",
    "y = torch.cholesky(z)\n",
    "x, z, y"
   ]
  },
  {
   "cell_type": "code",
   "execution_count": 616,
   "id": "100c8372",
   "metadata": {},
   "outputs": [
    {
     "data": {
      "text/plain": [
       "(tensor([1., 2., 3.]),\n",
       " tensor([1., 2.]),\n",
       " tensor([[1., 2.],\n",
       "         [2., 4.],\n",
       "         [3., 6.]]),\n",
       " tensor([[1., 2.],\n",
       "         [2., 4.],\n",
       "         [3., 6.]]))"
      ]
     },
     "execution_count": 616,
     "metadata": {},
     "output_type": "execute_result"
    }
   ],
   "source": [
    "vec1 = torch.arange(1., 4.)\n",
    "vec2 = torch.arange(1., 3.)\n",
    "vec1, vec2,torch.outer(vec1, vec2), torch.ger(vec1, vec2)"
   ]
  },
  {
   "cell_type": "code",
   "execution_count": 617,
   "id": "83676f4b",
   "metadata": {},
   "outputs": [
    {
     "data": {
      "text/plain": [
       "(tensor([4., 5.]), tensor([1., 2.]), tensor(14.))"
      ]
     },
     "execution_count": 617,
     "metadata": {},
     "output_type": "execute_result"
    }
   ],
   "source": [
    "vec1 = torch.arange(4., 6.)\n",
    "vec2 = torch.arange(1., 3.)\n",
    "vec1, vec2, torch.inner(vec1, vec2)"
   ]
  },
  {
   "cell_type": "code",
   "execution_count": 618,
   "id": "ac0a2b75",
   "metadata": {},
   "outputs": [
    {
     "data": {
      "text/plain": [
       "(tensor([[5., 6.],\n",
       "         [7., 8.]]),\n",
       " tensor([[1., 2.],\n",
       "         [3., 4.],\n",
       "         [5., 6.],\n",
       "         [7., 8.]]),\n",
       " tensor([[ 17.,  39.,  61.,  83.],\n",
       "         [ 23.,  53.,  83., 113.]]))"
      ]
     },
     "execution_count": 618,
     "metadata": {},
     "output_type": "execute_result"
    }
   ],
   "source": [
    "vec1 = torch.arange(5., 9.).view(2, 2)\n",
    "vec2 = torch.arange(1., 9.).view(4, 2)\n",
    "vec1, vec2, torch.inner(vec1, vec2)"
   ]
  },
  {
   "cell_type": "code",
   "execution_count": 619,
   "id": "5e125fbf",
   "metadata": {},
   "outputs": [
    {
     "data": {
      "text/plain": [
       "(tensor([[0.5000, 0.0000, 0.0000],\n",
       "         [0.0000, 0.2500, 0.0000],\n",
       "         [0.0000, 0.0000, 0.1250]]),\n",
       " tensor([[2., 0., -0.],\n",
       "         [0., 4., -0.],\n",
       "         [0., 0., 8.]]))"
      ]
     },
     "execution_count": 619,
     "metadata": {},
     "output_type": "execute_result"
    }
   ],
   "source": [
    "x = torch.diag(torch.tensor([1/2, 1/4, 1/8]))\n",
    "y  = torch.linalg.inv(x)\n",
    "x, y"
   ]
  },
  {
   "cell_type": "code",
   "execution_count": 620,
   "id": "871e7e8c",
   "metadata": {},
   "outputs": [
    {
     "data": {
      "text/plain": [
       "(tensor([[2., 0., 0.],\n",
       "         [0., 4., 0.],\n",
       "         [0., 0., 8.]]),\n",
       " tensor(64.))"
      ]
     },
     "execution_count": 620,
     "metadata": {},
     "output_type": "execute_result"
    }
   ],
   "source": [
    "x = torch.diag(torch.tensor([2, 4., 8]))\n",
    "y  = torch.linalg.det(x)\n",
    "x, y"
   ]
  },
  {
   "cell_type": "code",
   "execution_count": 621,
   "id": "88d1ba59",
   "metadata": {},
   "outputs": [
    {
     "data": {
      "text/plain": [
       "(tensor([[2., 0., 0.],\n",
       "         [0., 4., 0.],\n",
       "         [0., 0., 8.]]),\n",
       " tensor(4.1589),\n",
       " tensor(4.1589))"
      ]
     },
     "execution_count": 621,
     "metadata": {},
     "output_type": "execute_result"
    }
   ],
   "source": [
    "x = torch.diag(torch.tensor([2, 4., 8]))\n",
    "y  = torch.logdet(x)\n",
    "x, y, torch.log(torch.det(x))"
   ]
  },
  {
   "cell_type": "code",
   "execution_count": 622,
   "id": "88d1ba59",
   "metadata": {},
   "outputs": [
    {
     "data": {
      "text/plain": [
       "(tensor([[2., 0., 0.],\n",
       "         [0., 4., 0.],\n",
       "         [0., 0., 8.]]),\n",
       " tensor(4.1589),\n",
       " tensor(4.1589))"
      ]
     },
     "execution_count": 622,
     "metadata": {},
     "output_type": "execute_result"
    }
   ],
   "source": [
    "x = torch.diag(torch.tensor([2, 4., 8]))\n",
    "y  = torch.logdet(x)\n",
    "x, y, torch.log(torch.det(x))"
   ]
  },
  {
   "cell_type": "code",
   "execution_count": 623,
   "id": "eecd786d",
   "metadata": {},
   "outputs": [
    {
     "data": {
      "text/plain": [
       "tensor(64.)"
      ]
     },
     "execution_count": 623,
     "metadata": {},
     "output_type": "execute_result"
    }
   ],
   "source": [
    "x = torch.diag(torch.tensor([2, 4., 8]))\n",
    "x.det()"
   ]
  },
  {
   "cell_type": "code",
   "execution_count": 624,
   "id": "dde43081",
   "metadata": {},
   "outputs": [
    {
     "data": {
      "text/plain": [
       "(tensor(64.),\n",
       " torch.return_types.linalg_slogdet(\n",
       " sign=tensor(1.),\n",
       " logabsdet=tensor(4.1589)))"
      ]
     },
     "execution_count": 624,
     "metadata": {},
     "output_type": "execute_result"
    }
   ],
   "source": [
    "x = torch.diag(torch.tensor([2, 4., 8]))\n",
    "torch.linalg.det(x), torch.linalg.slogdet(x)"
   ]
  },
  {
   "cell_type": "code",
   "execution_count": 625,
   "id": "954735c8",
   "metadata": {},
   "outputs": [
    {
     "data": {
      "text/plain": [
       "(tensor(-64.),\n",
       " torch.return_types.linalg_slogdet(\n",
       " sign=tensor(-1.),\n",
       " logabsdet=tensor(4.1589)))"
      ]
     },
     "execution_count": 625,
     "metadata": {},
     "output_type": "execute_result"
    }
   ],
   "source": [
    "x = torch.diag(torch.tensor([2, 4., -8]))\n",
    "torch.linalg.det(x), torch.linalg.slogdet(x)"
   ]
  },
  {
   "cell_type": "code",
   "execution_count": 626,
   "id": "fc7c6d15",
   "metadata": {},
   "outputs": [
    {
     "data": {
      "text/plain": [
       "(tensor(0.),\n",
       " torch.return_types.linalg_slogdet(\n",
       " sign=tensor(0.),\n",
       " logabsdet=tensor(-inf)))"
      ]
     },
     "execution_count": 626,
     "metadata": {},
     "output_type": "execute_result"
    }
   ],
   "source": [
    "x = torch.diag(torch.tensor([2, 4., 0]))\n",
    "torch.linalg.det(x), torch.linalg.slogdet(x)"
   ]
  },
  {
   "cell_type": "code",
   "execution_count": 627,
   "id": "13d1198f",
   "metadata": {},
   "outputs": [
    {
     "data": {
      "text/plain": [
       "(tensor([[[0.6994, 0.6232, 0.1060],\n",
       "          [0.8568, 0.2412, 0.9031],\n",
       "          [0.0448, 0.0822, 0.0725]],\n",
       " \n",
       "         [[0.5522, 0.1515, 0.6264],\n",
       "          [0.5923, 0.9156, 0.7762],\n",
       "          [0.8187, 0.3603, 0.8674]]]),\n",
       " tensor([[[ 0.8568,  0.2412,  0.9031],\n",
       "          [ 0.8164,  0.4263, -0.6312],\n",
       "          [ 0.0523,  0.1633,  0.1284]],\n",
       " \n",
       "         [[ 0.8187,  0.3603,  0.8674],\n",
       "          [ 0.7234,  0.6549,  0.1486],\n",
       "          [ 0.6745, -0.1398,  0.0621]]]),\n",
       " tensor([[2, 2, 3],\n",
       "         [3, 2, 3]], dtype=torch.int32))"
      ]
     },
     "execution_count": 627,
     "metadata": {},
     "output_type": "execute_result"
    }
   ],
   "source": [
    "x = torch.empty((2, 3, 3)).uniform_(0, 1.)\n",
    "lu,  pivot = torch.lu(x)\n",
    "x, lu, pivot"
   ]
  },
  {
   "cell_type": "code",
   "execution_count": 628,
   "id": "f88f368f",
   "metadata": {},
   "outputs": [
    {
     "name": "stdout",
     "output_type": "stream",
     "text": [
      "tensor([[[-1.1597,  1.4795, -1.9514],\n",
      "         [ 0.9971, -0.9569,  2.2037],\n",
      "         [-0.0610,  0.2183,  0.9831]],\n",
      "\n",
      "        [[-1.8474,  0.6402, -0.4475],\n",
      "         [ 0.4535,  1.2057,  0.0491],\n",
      "         [ 0.4134,  0.9066,  0.2954]]]) tensor([[3, 2, 3],\n",
      "        [2, 3, 3]], dtype=torch.int32)\n",
      "tensor(3.3453e-07)\n"
     ]
    }
   ],
   "source": [
    "A = torch.randn(2, 3, 3)\n",
    "b = torch.randn(2, 3, 1)\n",
    "LU, pivots = torch.linalg.lu_factor(A)\n",
    "print(LU, pivots)\n",
    "x = torch.lu_solve(b, LU, pivots)\n",
    "print(torch.dist(A @ x, b))"
   ]
  },
  {
   "cell_type": "code",
   "execution_count": 629,
   "id": "6a4564c3",
   "metadata": {},
   "outputs": [
    {
     "name": "stdout",
     "output_type": "stream",
     "text": [
      "True\n",
      "True\n"
     ]
    }
   ],
   "source": [
    "A = torch.randn(2, 3, 3)\n",
    "LU, pivots = torch.linalg.lu_factor(A)\n",
    "P, L, U = torch.lu_unpack(LU, pivots)\n",
    "# We can recover A from the factorization\n",
    "A_ = P @ L @ U\n",
    "print(torch.allclose(A, A_))\n",
    "\n",
    "# LU factorization of a rectangular matrix:\n",
    "A = torch.randn(2, 3, 2)\n",
    "LU, pivots = torch.linalg.lu_factor(A)\n",
    "P, L, U = torch.lu_unpack(LU, pivots)\n",
    "# P, L, U are the same as returned by linalg.lu\n",
    "P_, L_, U_ = torch.linalg.lu(A)\n",
    "print(torch.allclose(P, P_) and torch.allclose(L, L_) and torch.allclose(U, U_))"
   ]
  },
  {
   "cell_type": "code",
   "execution_count": 630,
   "id": "6de93c48",
   "metadata": {},
   "outputs": [
    {
     "data": {
      "text/plain": [
       "(tensor([[ 1.1676, -0.0744,  1.3883],\n",
       "         [-1.4346, -1.4317,  0.3421],\n",
       "         [-0.2623,  0.8203,  0.0875]]),\n",
       " tensor([[1., 0., 0.],\n",
       "         [0., 1., 0.],\n",
       "         [0., 0., 1.]]),\n",
       " tensor([[ 1.1060,  1.1585,  1.7171],\n",
       "         [ 0.2890,  2.4371, -2.4515],\n",
       "         [-1.5060, -1.0831, -0.0759]]),\n",
       " tensor([[1.3634, 0.0055, 1.9275],\n",
       "         [2.0579, 2.0497, 0.1170],\n",
       "         [0.0688, 0.6729, 0.0077]]))"
      ]
     },
     "execution_count": 630,
     "metadata": {},
     "output_type": "execute_result"
    }
   ],
   "source": [
    "x = torch.randn(3, 3)\n",
    "y = torch.linalg.matrix_power(x, 0)\n",
    "z = torch.linalg.matrix_power(x, 2)\n",
    "x, y, z, x*x"
   ]
  },
  {
   "cell_type": "code",
   "execution_count": 631,
   "id": "4d37030b",
   "metadata": {},
   "outputs": [
    {
     "data": {
      "text/plain": [
       "(tensor([[[1., 0.],\n",
       "          [0., 1.]],\n",
       " \n",
       "         [[2., 0.],\n",
       "          [0., 2.]]]),\n",
       " tensor([[[2.7183, 0.0000],\n",
       "          [0.0000, 2.7183]],\n",
       " \n",
       "         [[7.3891, 0.0000],\n",
       "          [0.0000, 7.3891]]]))"
      ]
     },
     "execution_count": 631,
     "metadata": {},
     "output_type": "execute_result"
    }
   ],
   "source": [
    "x = torch.empty(2, 2, 2)\n",
    "x[0, :, :] = torch.eye(2, 2)\n",
    "x[1, :, :] = 2 * torch.eye(2, 2)\n",
    "x, torch.linalg.matrix_exp(x)\n"
   ]
  },
  {
   "cell_type": "code",
   "execution_count": 632,
   "id": "94b255cd",
   "metadata": {},
   "outputs": [
    {
     "data": {
      "text/plain": [
       "(torch.Size([2, 3]), torch.Size([3, 4]), torch.Size([2, 4]))"
      ]
     },
     "execution_count": 632,
     "metadata": {},
     "output_type": "execute_result"
    }
   ],
   "source": [
    "x, y = torch.randn(2, 3), torch.randn(3, 4)\n",
    "z = torch.mm(x, y) # matrix matric multiplication\n",
    "x.shape, y.shape, z.shape"
   ]
  },
  {
   "cell_type": "code",
   "execution_count": 633,
   "id": "5dda5254",
   "metadata": {},
   "outputs": [
    {
     "data": {
      "text/plain": [
       "(torch.Size([2, 3]), torch.Size([3]), torch.Size([2]))"
      ]
     },
     "execution_count": 633,
     "metadata": {},
     "output_type": "execute_result"
    }
   ],
   "source": [
    "x, y = torch.randn(2, 3), torch.randn(3,)\n",
    "z = torch.mv(x, y) # matrix vector multiplication\n",
    "x.shape, y.shape, z.shape"
   ]
  },
  {
   "cell_type": "code",
   "execution_count": 634,
   "id": "e2dfacb1",
   "metadata": {},
   "outputs": [
    {
     "name": "stderr",
     "output_type": "stream",
     "text": [
      "/tmp/ipykernel_11739/2650104568.py:2: UserWarning: torch.qr is deprecated in favor of torch.linalg.qr and will be removed in a future PyTorch release.\n",
      "The boolean parameter 'some' has been replaced with a string parameter 'mode'.\n",
      "Q, R = torch.qr(A, some)\n",
      "should be replaced with\n",
      "Q, R = torch.linalg.qr(A, 'reduced' if some else 'complete') (Triggered internally at  ../aten/src/ATen/native/BatchLinearAlgebra.cpp:2491.)\n",
      "  q, r = torch.qr(x)\n"
     ]
    },
    {
     "data": {
      "text/plain": [
       "(torch.Size([3, 2, 4, 4]), torch.Size([3, 2, 4, 5]))"
      ]
     },
     "execution_count": 634,
     "metadata": {},
     "output_type": "execute_result"
    }
   ],
   "source": [
    "x = torch.randn(3, 2, 4, 5)\n",
    "q, r = torch.qr(x)\n",
    "q.shape, r.shape"
   ]
  },
  {
   "cell_type": "code",
   "execution_count": 635,
   "id": "9284df80",
   "metadata": {},
   "outputs": [
    {
     "data": {
      "text/plain": [
       "(torch.Size([3, 2, 4, 4]), torch.Size([3, 2, 4, 5]))"
      ]
     },
     "execution_count": 635,
     "metadata": {},
     "output_type": "execute_result"
    }
   ],
   "source": [
    "x = torch.randn(3, 2, 4, 5)\n",
    "q, r = torch.qr(x, some=False)\n",
    "q.shape, r.shape"
   ]
  },
  {
   "cell_type": "code",
   "execution_count": 636,
   "id": "f94abe1b",
   "metadata": {},
   "outputs": [
    {
     "data": {
      "text/plain": [
       "(torch.Size([3, 2, 4, 4]), torch.Size([3, 2, 4]), torch.Size([3, 2, 5, 5]))"
      ]
     },
     "execution_count": 636,
     "metadata": {},
     "output_type": "execute_result"
    }
   ],
   "source": [
    "x = torch.randn(3, 2, 4, 5)\n",
    "u, s, v= torch.svd(x, some=False)\n",
    "u.shape, s.shape, v.shape"
   ]
  },
  {
   "cell_type": "code",
   "execution_count": 637,
   "id": "e6a85529",
   "metadata": {},
   "outputs": [
    {
     "data": {
      "text/plain": [
       "(torch.Size([3, 2, 4, 2]), torch.Size([3, 2, 2]), torch.Size([3, 2, 5, 2]))"
      ]
     },
     "execution_count": 637,
     "metadata": {},
     "output_type": "execute_result"
    }
   ],
   "source": [
    "x = torch.randn( 3, 2,  4, 5)\n",
    "u, s, v= torch.svd_lowrank(x, q=2, niter=4000)\n",
    "u.shape, s.shape, v.shape"
   ]
  },
  {
   "cell_type": "code",
   "execution_count": 638,
   "id": "04ac9d54",
   "metadata": {},
   "outputs": [
    {
     "name": "stderr",
     "output_type": "stream",
     "text": [
      "/tmp/ipykernel_11739/2485119706.py:2: UserWarning: torch.eig is deprecated in favor of torch.linalg.eig and will be removed in a future PyTorch release.\n",
      "torch.linalg.eig returns complex tensors of dtype cfloat or cdouble rather than real tensors mimicking complex tensors.\n",
      "L, _ = torch.eig(A)\n",
      "should be replaced with\n",
      "L_complex = torch.linalg.eigvals(A)\n",
      "and\n",
      "L, V = torch.eig(A, eigenvectors=True)\n",
      "should be replaced with\n",
      "L_complex, V_complex = torch.linalg.eig(A) (Triggered internally at  ../aten/src/ATen/native/BatchLinearAlgebra.cpp:3415.)\n",
      "  y = torch.eig(x)\n"
     ]
    },
    {
     "data": {
      "text/plain": [
       "torch.return_types.eig(\n",
       "eigenvalues=tensor([[ 0.5370,  1.6990],\n",
       "        [ 0.5370, -1.6990],\n",
       "        [-0.7925,  0.0000],\n",
       "        [ 0.1371,  0.0000]]),\n",
       "eigenvectors=tensor([]))"
      ]
     },
     "execution_count": 638,
     "metadata": {},
     "output_type": "execute_result"
    }
   ],
   "source": [
    "x = torch.randn( 4, 4)\n",
    "y = torch.eig(x)\n",
    "y"
   ]
  },
  {
   "cell_type": "code",
   "execution_count": 639,
   "id": "2c79d65c",
   "metadata": {},
   "outputs": [
    {
     "name": "stderr",
     "output_type": "stream",
     "text": [
      "/tmp/ipykernel_11739/2227893435.py:3: UserWarning: torch.symeig is deprecated in favor of torch.linalg.eigh and will be removed in a future PyTorch release.\n",
      "The default behavior has changed from using the upper triangular portion of the matrix by default to using the lower triangular portion.\n",
      "L, _ = torch.symeig(A, upper=upper)\n",
      "should be replaced with\n",
      "L = torch.linalg.eigvalsh(A, UPLO='U' if upper else 'L')\n",
      "and\n",
      "L, V = torch.symeig(A, eigenvectors=True)\n",
      "should be replaced with\n",
      "L, V = torch.linalg.eigh(A, UPLO='U' if upper else 'L') (Triggered internally at  ../aten/src/ATen/native/BatchLinearAlgebra.cpp:3029.)\n",
      "  y = torch.symeig(x,)\n"
     ]
    },
    {
     "data": {
      "text/plain": [
       "torch.return_types.symeig(\n",
       "eigenvalues=tensor([-5.8353, -2.2555,  0.3291,  1.3259]),\n",
       "eigenvectors=tensor([]))"
      ]
     },
     "execution_count": 639,
     "metadata": {},
     "output_type": "execute_result"
    }
   ],
   "source": [
    "x = torch.randn( 4, 4)\n",
    "x = x + x.t()\n",
    "y = torch.symeig(x,)\n",
    "y"
   ]
  },
  {
   "cell_type": "code",
   "execution_count": 640,
   "id": "282eee37",
   "metadata": {},
   "outputs": [
    {
     "data": {
      "text/plain": [
       "torch.return_types.symeig(\n",
       "eigenvalues=tensor([-3.1052, -1.3947,  1.1192,  2.7923]),\n",
       "eigenvectors=tensor([[ 0.3349,  0.4871, -0.6451, -0.4842],\n",
       "        [ 0.0686, -0.4209, -0.7063,  0.5650],\n",
       "        [-0.9361,  0.0765, -0.2870, -0.1882],\n",
       "        [-0.0823,  0.7613,  0.0510,  0.6411]]))"
      ]
     },
     "execution_count": 640,
     "metadata": {},
     "output_type": "execute_result"
    }
   ],
   "source": [
    "x = torch.randn( 4, 4)\n",
    "x = x + x.t()\n",
    "y = torch.symeig(x, eigenvectors=True)\n",
    "y"
   ]
  },
  {
   "cell_type": "code",
   "execution_count": 641,
   "id": "a1b5ccd8",
   "metadata": {},
   "outputs": [],
   "source": [
    "# x = torch.randn(2, 2).triu()\n",
    "# y = torch.randn(2, 3)\n",
    "# z = torch.triangular_solve(x, y)\n",
    "# x, y, z"
   ]
  },
  {
   "cell_type": "code",
   "execution_count": 642,
   "id": "55664d43",
   "metadata": {},
   "outputs": [
    {
     "data": {
      "text/plain": [
       "tensor(7)"
      ]
     },
     "execution_count": 642,
     "metadata": {},
     "output_type": "execute_result"
    }
   ],
   "source": [
    "torch.vdot(torch.tensor([2, 3]), torch.tensor([2, 1]))"
   ]
  },
  {
   "cell_type": "code",
   "execution_count": 643,
   "id": "2c233ad9",
   "metadata": {},
   "outputs": [
    {
     "data": {
      "text/plain": [
       "(tensor([1.+2.j, 3.-1.j]),\n",
       " tensor([2.+1.j, 4.+0.j]),\n",
       " tensor(16.+1.j),\n",
       " tensor(16.-1.j))"
      ]
     },
     "execution_count": 643,
     "metadata": {},
     "output_type": "execute_result"
    }
   ],
   "source": [
    "x = torch.tensor((1 +2j, 3 - 1j))\n",
    "y = torch.tensor((2 +1j, 4 - 0j))\n",
    "z = torch.vdot(x, y)\n",
    "w = torch.vdot(y, x)\n",
    "x, y, z, w"
   ]
  },
  {
   "cell_type": "code",
   "execution_count": null,
   "id": "956f0aae",
   "metadata": {},
   "outputs": [],
   "source": []
  },
  {
   "cell_type": "code",
   "execution_count": null,
   "id": "b0a58f1e",
   "metadata": {},
   "outputs": [],
   "source": []
  },
  {
   "cell_type": "code",
   "execution_count": null,
   "id": "74150d88",
   "metadata": {},
   "outputs": [],
   "source": []
  },
  {
   "cell_type": "code",
   "execution_count": null,
   "id": "b1732024",
   "metadata": {},
   "outputs": [],
   "source": []
  },
  {
   "cell_type": "code",
   "execution_count": null,
   "id": "d1c93b22",
   "metadata": {},
   "outputs": [],
   "source": []
  },
  {
   "cell_type": "code",
   "execution_count": null,
   "id": "4ac36d3e",
   "metadata": {},
   "outputs": [],
   "source": []
  },
  {
   "cell_type": "code",
   "execution_count": null,
   "id": "84fe35a2",
   "metadata": {},
   "outputs": [],
   "source": []
  },
  {
   "cell_type": "code",
   "execution_count": null,
   "id": "bdfaba3c",
   "metadata": {},
   "outputs": [],
   "source": []
  },
  {
   "cell_type": "code",
   "execution_count": null,
   "id": "222cb158",
   "metadata": {},
   "outputs": [],
   "source": []
  },
  {
   "cell_type": "code",
   "execution_count": null,
   "id": "08be4732",
   "metadata": {},
   "outputs": [],
   "source": []
  },
  {
   "cell_type": "code",
   "execution_count": null,
   "id": "8d44ce0c",
   "metadata": {},
   "outputs": [],
   "source": []
  },
  {
   "cell_type": "code",
   "execution_count": null,
   "id": "f5003832",
   "metadata": {},
   "outputs": [],
   "source": []
  },
  {
   "cell_type": "code",
   "execution_count": null,
   "id": "df0e44c2",
   "metadata": {},
   "outputs": [],
   "source": []
  },
  {
   "cell_type": "code",
   "execution_count": null,
   "id": "c508aadd",
   "metadata": {},
   "outputs": [],
   "source": []
  },
  {
   "cell_type": "code",
   "execution_count": null,
   "id": "87223d59",
   "metadata": {},
   "outputs": [],
   "source": []
  },
  {
   "cell_type": "code",
   "execution_count": null,
   "id": "ced83a72",
   "metadata": {},
   "outputs": [],
   "source": []
  },
  {
   "cell_type": "code",
   "execution_count": null,
   "id": "c6e1021f",
   "metadata": {},
   "outputs": [],
   "source": []
  },
  {
   "cell_type": "code",
   "execution_count": null,
   "id": "3f3d84ab",
   "metadata": {},
   "outputs": [],
   "source": []
  },
  {
   "cell_type": "code",
   "execution_count": null,
   "id": "c8c2d664",
   "metadata": {},
   "outputs": [],
   "source": []
  },
  {
   "cell_type": "code",
   "execution_count": null,
   "id": "e49f428d",
   "metadata": {},
   "outputs": [],
   "source": []
  }
 ],
 "metadata": {
  "kernelspec": {
   "display_name": "Python 3.9.10 ('env')",
   "language": "python",
   "name": "python3"
  },
  "language_info": {
   "codemirror_mode": {
    "name": "ipython",
    "version": 3
   },
   "file_extension": ".py",
   "mimetype": "text/x-python",
   "name": "python",
   "nbconvert_exporter": "python",
   "pygments_lexer": "ipython3",
   "version": "3.9.10"
  },
  "toc-showtags": false,
  "vscode": {
   "interpreter": {
    "hash": "f7d1c444690c64dc164009c81e7c7e493213a917c1ee917acb226d895d2dc691"
   }
  }
 },
 "nbformat": 4,
 "nbformat_minor": 5
}
