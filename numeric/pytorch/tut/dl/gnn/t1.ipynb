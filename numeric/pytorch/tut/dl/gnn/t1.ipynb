{
 "cells": [
  {
   "cell_type": "code",
   "execution_count": 1,
   "metadata": {},
   "outputs": [
    {
     "name": "stderr",
     "output_type": "stream",
     "text": [
      "/env_dl/lib/python3.10/site-packages/tqdm/auto.py:21: TqdmWarning: IProgress not found. Please update jupyter and ipywidgets. See https://ipywidgets.readthedocs.io/en/stable/user_install.html\n",
      "  from .autonotebook import tqdm as notebook_tqdm\n"
     ]
    }
   ],
   "source": [
    "%load_ext autoreload\n",
    "%autoreload 2\n",
    "\n",
    "import numpy\n",
    "import matplotlib as mpl\n",
    "import matplotlib.pyplot as plt\n",
    "\n",
    "import torch\n",
    "from torch import nn\n",
    "from torch.nn import functional as F\n",
    "\n",
    "from torch_geometric.datasets import TUDataset\n",
    "from torch_geometric.loader import DataLoader\n",
    "from torch_geometric import utils, nn as gnn, transforms as T\n",
    "from torch_geometric.nn import GCNConv\n",
    "plt.style.use(\"seaborn-v0_8\")"
   ]
  },
  {
   "cell_type": "code",
   "execution_count": 2,
   "metadata": {},
   "outputs": [],
   "source": [
    "tu_ds = TUDataset(\"/mnt/dl/datasets/gnn/tudataset\", name=\"ENZYMES\", use_node_attr=True)"
   ]
  },
  {
   "cell_type": "code",
   "execution_count": 3,
   "metadata": {},
   "outputs": [
    {
     "data": {
      "text/plain": [
       "ENZYMES(600)"
      ]
     },
     "execution_count": 3,
     "metadata": {},
     "output_type": "execute_result"
    }
   ],
   "source": [
    "tu_ds"
   ]
  },
  {
   "cell_type": "code",
   "execution_count": 4,
   "metadata": {},
   "outputs": [
    {
     "data": {
      "text/plain": [
       "18"
      ]
     },
     "execution_count": 4,
     "metadata": {},
     "output_type": "execute_result"
    }
   ],
   "source": [
    "tu_ds.num_node_attributes\n"
   ]
  },
  {
   "cell_type": "code",
   "execution_count": 5,
   "metadata": {},
   "outputs": [
    {
     "data": {
      "text/plain": [
       "tensor([[11.0000, 15.8870, 37.7800,  ...,  1.0000,  0.0000,  0.0000],\n",
       "        [11.0000, 16.3629, 40.3800,  ...,  1.0000,  0.0000,  0.0000],\n",
       "        [16.0000, 21.3951, 63.3500,  ...,  1.0000,  0.0000,  0.0000],\n",
       "        ...,\n",
       "        [ 4.0000, 10.2377, 20.7000,  ...,  0.0000,  1.0000,  0.0000],\n",
       "        [ 6.0000, 16.4543, 23.0300,  ...,  0.0000,  1.0000,  0.0000],\n",
       "        [ 6.0000, 16.9627, 29.1600,  ...,  0.0000,  1.0000,  0.0000]])"
      ]
     },
     "execution_count": 5,
     "metadata": {},
     "output_type": "execute_result"
    }
   ],
   "source": [
    "tu_ds.x"
   ]
  },
  {
   "cell_type": "code",
   "execution_count": 6,
   "metadata": {},
   "outputs": [
    {
     "data": {
      "text/plain": [
       "torch.Size([19580, 21])"
      ]
     },
     "execution_count": 6,
     "metadata": {},
     "output_type": "execute_result"
    }
   ],
   "source": [
    "tu_ds.x.shape"
   ]
  },
  {
   "cell_type": "code",
   "execution_count": 7,
   "metadata": {},
   "outputs": [
    {
     "data": {
      "text/plain": [
       "6"
      ]
     },
     "execution_count": 7,
     "metadata": {},
     "output_type": "execute_result"
    }
   ],
   "source": [
    "tu_ds.num_classes"
   ]
  },
  {
   "cell_type": "code",
   "execution_count": 8,
   "metadata": {},
   "outputs": [
    {
     "data": {
      "text/plain": [
       "Data(edge_index=[2, 168], x=[37, 21], y=[1])"
      ]
     },
     "execution_count": 8,
     "metadata": {},
     "output_type": "execute_result"
    }
   ],
   "source": [
    "tu_ds[0]"
   ]
  },
  {
   "cell_type": "code",
   "execution_count": 9,
   "metadata": {},
   "outputs": [
    {
     "data": {
      "text/plain": [
       "Data(edge_index=[2, 160], x=[67, 21], y=[1])"
      ]
     },
     "execution_count": 9,
     "metadata": {},
     "output_type": "execute_result"
    }
   ],
   "source": [
    "tu_ds[500]"
   ]
  },
  {
   "cell_type": "code",
   "execution_count": 10,
   "metadata": {},
   "outputs": [
    {
     "data": {
      "text/plain": [
       "0"
      ]
     },
     "execution_count": 10,
     "metadata": {},
     "output_type": "execute_result"
    }
   ],
   "source": [
    "tu_ds[500].num_edge_features"
   ]
  },
  {
   "cell_type": "code",
   "execution_count": 11,
   "metadata": {},
   "outputs": [],
   "source": [
    "tu_loader = DataLoader(tu_ds, batch_size=32)"
   ]
  },
  {
   "cell_type": "code",
   "execution_count": 12,
   "metadata": {},
   "outputs": [],
   "source": [
    "l = next(iter(tu_loader))"
   ]
  },
  {
   "cell_type": "code",
   "execution_count": 13,
   "metadata": {},
   "outputs": [
    {
     "data": {
      "text/plain": [
       "DataBatch(edge_index=[2, 4264], x=[1069, 21], y=[32], batch=[1069], ptr=[33])"
      ]
     },
     "execution_count": 13,
     "metadata": {},
     "output_type": "execute_result"
    }
   ],
   "source": [
    "l"
   ]
  },
  {
   "cell_type": "code",
   "execution_count": 14,
   "metadata": {},
   "outputs": [
    {
     "data": {
      "text/plain": [
       "tensor([ 0,  0,  0,  ..., 31, 31, 31])"
      ]
     },
     "execution_count": 14,
     "metadata": {},
     "output_type": "execute_result"
    }
   ],
   "source": [
    "l.batch"
   ]
  },
  {
   "cell_type": "code",
   "execution_count": 15,
   "metadata": {},
   "outputs": [
    {
     "data": {
      "text/plain": [
       "Data(edge_index=[2, 12], x=[4, 21], y=[1])"
      ]
     },
     "execution_count": 15,
     "metadata": {},
     "output_type": "execute_result"
    }
   ],
   "source": [
    "tu_ds[10]"
   ]
  },
  {
   "cell_type": "code",
   "execution_count": 16,
   "metadata": {},
   "outputs": [
    {
     "data": {
      "text/plain": [
       "tensor([329, 330, 331, 332, 333, 334, 335, 336, 337, 338, 339, 340, 341, 342])"
      ]
     },
     "execution_count": 16,
     "metadata": {},
     "output_type": "execute_result"
    }
   ],
   "source": [
    "torch.argwhere(l.batch == 11).squeeze()"
   ]
  },
  {
   "cell_type": "code",
   "execution_count": 17,
   "metadata": {},
   "outputs": [
    {
     "data": {
      "text/plain": [
       "tensor([[ 7.0000e+00,  1.0329e+01,  2.7880e+01, -1.8000e-01,  1.2740e+00,\n",
       "          6.7100e+01,  3.0000e+00,  0.0000e+00,  4.0000e+00,  4.0000e+00,\n",
       "          1.0000e+00,  2.0000e+00,  2.0000e+00,  1.0000e+00,  4.0000e+00,\n",
       "          3.0000e+00,  0.0000e+00,  4.0000e+00,  1.0000e+00,  0.0000e+00,\n",
       "          0.0000e+00],\n",
       "        [ 6.0000e+00,  9.1068e+00,  2.3050e+01, -5.0000e-01,  1.0240e+00,\n",
       "          5.3700e+01,  1.0000e+00,  4.0000e+00,  1.0000e+00,  3.0000e+00,\n",
       "          1.0000e+00,  2.0000e+00,  2.0000e+00,  1.0000e+00,  3.0000e+00,\n",
       "          0.0000e+00,  5.0000e+00,  1.0000e+00,  1.0000e+00,  0.0000e+00,\n",
       "          0.0000e+00],\n",
       "        [ 6.0000e+00,  1.4947e+01,  1.9730e+01,  2.2300e+00,  9.1100e-01,\n",
       "          4.3900e+01,  2.0000e+00,  3.0000e+00,  1.0000e+00,  1.0000e+00,\n",
       "          2.0000e+00,  3.0000e+00,  3.0000e+00,  2.0000e+00,  1.0000e+00,\n",
       "          2.0000e+00,  3.0000e+00,  1.0000e+00,  0.0000e+00,  1.0000e+00,\n",
       "          0.0000e+00],\n",
       "        [ 6.0000e+00,  1.5697e+01,  2.3020e+01,  3.0500e+00,  1.0420e+00,\n",
       "          4.8200e+01,  1.0000e+00,  3.0000e+00,  2.0000e+00,  2.0000e+00,\n",
       "          1.0000e+00,  3.0000e+00,  4.0000e+00,  0.0000e+00,  2.0000e+00,\n",
       "          1.0000e+00,  3.0000e+00,  2.0000e+00,  0.0000e+00,  1.0000e+00,\n",
       "          0.0000e+00],\n",
       "        [ 1.1000e+01,  2.4727e+01,  4.0230e+01,  2.8000e+00,  1.8230e+00,\n",
       "          9.4500e+01,  2.0000e+00,  6.0000e+00,  3.0000e+00,  5.0000e+00,\n",
       "          1.0000e+00,  5.0000e+00,  5.0000e+00,  1.0000e+00,  5.0000e+00,\n",
       "          2.0000e+00,  6.0000e+00,  3.0000e+00,  0.0000e+00,  1.0000e+00,\n",
       "          0.0000e+00],\n",
       "        [ 5.0000e+00,  1.3590e+01,  1.8470e+01,  5.6300e+00,  8.5800e-01,\n",
       "          2.9800e+01,  0.0000e+00,  4.0000e+00,  1.0000e+00,  0.0000e+00,\n",
       "          1.0000e+00,  4.0000e+00,  5.0000e+00,  0.0000e+00,  0.0000e+00,\n",
       "          0.0000e+00,  4.0000e+00,  1.0000e+00,  0.0000e+00,  1.0000e+00,\n",
       "          0.0000e+00],\n",
       "        [ 6.0000e+00,  1.4947e+01,  1.9730e+01,  2.2300e+00,  9.1100e-01,\n",
       "          4.3900e+01,  2.0000e+00,  3.0000e+00,  1.0000e+00,  1.0000e+00,\n",
       "          2.0000e+00,  3.0000e+00,  3.0000e+00,  2.0000e+00,  1.0000e+00,\n",
       "          2.0000e+00,  3.0000e+00,  1.0000e+00,  0.0000e+00,  1.0000e+00,\n",
       "          0.0000e+00],\n",
       "        [ 6.0000e+00,  1.5697e+01,  2.3020e+01,  3.0500e+00,  1.0420e+00,\n",
       "          4.8200e+01,  1.0000e+00,  3.0000e+00,  2.0000e+00,  2.0000e+00,\n",
       "          1.0000e+00,  3.0000e+00,  4.0000e+00,  0.0000e+00,  2.0000e+00,\n",
       "          1.0000e+00,  3.0000e+00,  2.0000e+00,  0.0000e+00,  1.0000e+00,\n",
       "          0.0000e+00],\n",
       "        [ 1.1000e+01,  2.4727e+01,  4.0230e+01,  2.8000e+00,  1.8230e+00,\n",
       "          9.4500e+01,  2.0000e+00,  6.0000e+00,  3.0000e+00,  5.0000e+00,\n",
       "          1.0000e+00,  5.0000e+00,  5.0000e+00,  1.0000e+00,  5.0000e+00,\n",
       "          2.0000e+00,  6.0000e+00,  3.0000e+00,  0.0000e+00,  1.0000e+00,\n",
       "          0.0000e+00],\n",
       "        [ 2.0000e+00,  3.8161e+00,  7.7700e+00,  7.2000e-01,  3.5900e-01,\n",
       "          1.7200e+01,  0.0000e+00,  1.0000e+00,  1.0000e+00,  1.0000e+00,\n",
       "          0.0000e+00,  1.0000e+00,  1.0000e+00,  0.0000e+00,  1.0000e+00,\n",
       "          0.0000e+00,  1.0000e+00,  1.0000e+00,  0.0000e+00,  1.0000e+00,\n",
       "          0.0000e+00],\n",
       "        [ 2.0000e+00,  3.7886e+00,  9.5400e+00, -8.2000e-01,  4.3800e-01,\n",
       "          2.2600e+01,  0.0000e+00,  0.0000e+00,  2.0000e+00,  2.0000e+00,\n",
       "          0.0000e+00,  0.0000e+00,  0.0000e+00,  0.0000e+00,  2.0000e+00,\n",
       "          0.0000e+00,  0.0000e+00,  2.0000e+00,  0.0000e+00,  1.0000e+00,\n",
       "          0.0000e+00],\n",
       "        [ 2.0000e+00,  3.8114e+00,  1.6000e+00, -1.7700e+00,  6.2000e-02,\n",
       "          1.8200e+01,  2.0000e+00,  0.0000e+00,  0.0000e+00,  0.0000e+00,\n",
       "          2.0000e+00,  0.0000e+00,  0.0000e+00,  2.0000e+00,  0.0000e+00,\n",
       "          2.0000e+00,  0.0000e+00,  0.0000e+00,  0.0000e+00,  1.0000e+00,\n",
       "          0.0000e+00],\n",
       "        [ 3.0000e+00,  6.5715e+00,  4.7800e+00, -1.0000e+00,  1.9700e-01,\n",
       "          2.9200e+01,  3.0000e+00,  0.0000e+00,  0.0000e+00,  1.0000e+00,\n",
       "          2.0000e+00,  0.0000e+00,  0.0000e+00,  2.0000e+00,  1.0000e+00,\n",
       "          3.0000e+00,  0.0000e+00,  0.0000e+00,  0.0000e+00,  1.0000e+00,\n",
       "          0.0000e+00],\n",
       "        [ 3.0000e+00,  6.7727e+00,  8.0000e+00,  2.2900e+00,  3.7200e-01,\n",
       "          1.8900e+01,  1.0000e+00,  2.0000e+00,  0.0000e+00,  0.0000e+00,\n",
       "          1.0000e+00,  2.0000e+00,  2.0000e+00,  1.0000e+00,  0.0000e+00,\n",
       "          1.0000e+00,  2.0000e+00,  0.0000e+00,  0.0000e+00,  1.0000e+00,\n",
       "          0.0000e+00]])"
      ]
     },
     "execution_count": 17,
     "metadata": {},
     "output_type": "execute_result"
    }
   ],
   "source": [
    "l.x[torch.argwhere(l.batch == 11).squeeze()]"
   ]
  },
  {
   "cell_type": "code",
   "execution_count": 18,
   "metadata": {},
   "outputs": [
    {
     "data": {
      "text/plain": [
       "tensor([[ 7.0000e+00,  1.0329e+01,  2.7880e+01, -1.8000e-01,  1.2740e+00,\n",
       "          6.7100e+01,  3.0000e+00,  0.0000e+00,  4.0000e+00,  4.0000e+00,\n",
       "          1.0000e+00,  2.0000e+00,  2.0000e+00,  1.0000e+00,  4.0000e+00,\n",
       "          3.0000e+00,  0.0000e+00,  4.0000e+00,  1.0000e+00,  0.0000e+00,\n",
       "          0.0000e+00],\n",
       "        [ 6.0000e+00,  9.1068e+00,  2.3050e+01, -5.0000e-01,  1.0240e+00,\n",
       "          5.3700e+01,  1.0000e+00,  4.0000e+00,  1.0000e+00,  3.0000e+00,\n",
       "          1.0000e+00,  2.0000e+00,  2.0000e+00,  1.0000e+00,  3.0000e+00,\n",
       "          0.0000e+00,  5.0000e+00,  1.0000e+00,  1.0000e+00,  0.0000e+00,\n",
       "          0.0000e+00],\n",
       "        [ 6.0000e+00,  1.4947e+01,  1.9730e+01,  2.2300e+00,  9.1100e-01,\n",
       "          4.3900e+01,  2.0000e+00,  3.0000e+00,  1.0000e+00,  1.0000e+00,\n",
       "          2.0000e+00,  3.0000e+00,  3.0000e+00,  2.0000e+00,  1.0000e+00,\n",
       "          2.0000e+00,  3.0000e+00,  1.0000e+00,  0.0000e+00,  1.0000e+00,\n",
       "          0.0000e+00],\n",
       "        [ 6.0000e+00,  1.5697e+01,  2.3020e+01,  3.0500e+00,  1.0420e+00,\n",
       "          4.8200e+01,  1.0000e+00,  3.0000e+00,  2.0000e+00,  2.0000e+00,\n",
       "          1.0000e+00,  3.0000e+00,  4.0000e+00,  0.0000e+00,  2.0000e+00,\n",
       "          1.0000e+00,  3.0000e+00,  2.0000e+00,  0.0000e+00,  1.0000e+00,\n",
       "          0.0000e+00],\n",
       "        [ 1.1000e+01,  2.4727e+01,  4.0230e+01,  2.8000e+00,  1.8230e+00,\n",
       "          9.4500e+01,  2.0000e+00,  6.0000e+00,  3.0000e+00,  5.0000e+00,\n",
       "          1.0000e+00,  5.0000e+00,  5.0000e+00,  1.0000e+00,  5.0000e+00,\n",
       "          2.0000e+00,  6.0000e+00,  3.0000e+00,  0.0000e+00,  1.0000e+00,\n",
       "          0.0000e+00],\n",
       "        [ 5.0000e+00,  1.3590e+01,  1.8470e+01,  5.6300e+00,  8.5800e-01,\n",
       "          2.9800e+01,  0.0000e+00,  4.0000e+00,  1.0000e+00,  0.0000e+00,\n",
       "          1.0000e+00,  4.0000e+00,  5.0000e+00,  0.0000e+00,  0.0000e+00,\n",
       "          0.0000e+00,  4.0000e+00,  1.0000e+00,  0.0000e+00,  1.0000e+00,\n",
       "          0.0000e+00],\n",
       "        [ 6.0000e+00,  1.4947e+01,  1.9730e+01,  2.2300e+00,  9.1100e-01,\n",
       "          4.3900e+01,  2.0000e+00,  3.0000e+00,  1.0000e+00,  1.0000e+00,\n",
       "          2.0000e+00,  3.0000e+00,  3.0000e+00,  2.0000e+00,  1.0000e+00,\n",
       "          2.0000e+00,  3.0000e+00,  1.0000e+00,  0.0000e+00,  1.0000e+00,\n",
       "          0.0000e+00],\n",
       "        [ 6.0000e+00,  1.5697e+01,  2.3020e+01,  3.0500e+00,  1.0420e+00,\n",
       "          4.8200e+01,  1.0000e+00,  3.0000e+00,  2.0000e+00,  2.0000e+00,\n",
       "          1.0000e+00,  3.0000e+00,  4.0000e+00,  0.0000e+00,  2.0000e+00,\n",
       "          1.0000e+00,  3.0000e+00,  2.0000e+00,  0.0000e+00,  1.0000e+00,\n",
       "          0.0000e+00],\n",
       "        [ 1.1000e+01,  2.4727e+01,  4.0230e+01,  2.8000e+00,  1.8230e+00,\n",
       "          9.4500e+01,  2.0000e+00,  6.0000e+00,  3.0000e+00,  5.0000e+00,\n",
       "          1.0000e+00,  5.0000e+00,  5.0000e+00,  1.0000e+00,  5.0000e+00,\n",
       "          2.0000e+00,  6.0000e+00,  3.0000e+00,  0.0000e+00,  1.0000e+00,\n",
       "          0.0000e+00],\n",
       "        [ 2.0000e+00,  3.8161e+00,  7.7700e+00,  7.2000e-01,  3.5900e-01,\n",
       "          1.7200e+01,  0.0000e+00,  1.0000e+00,  1.0000e+00,  1.0000e+00,\n",
       "          0.0000e+00,  1.0000e+00,  1.0000e+00,  0.0000e+00,  1.0000e+00,\n",
       "          0.0000e+00,  1.0000e+00,  1.0000e+00,  0.0000e+00,  1.0000e+00,\n",
       "          0.0000e+00],\n",
       "        [ 2.0000e+00,  3.7886e+00,  9.5400e+00, -8.2000e-01,  4.3800e-01,\n",
       "          2.2600e+01,  0.0000e+00,  0.0000e+00,  2.0000e+00,  2.0000e+00,\n",
       "          0.0000e+00,  0.0000e+00,  0.0000e+00,  0.0000e+00,  2.0000e+00,\n",
       "          0.0000e+00,  0.0000e+00,  2.0000e+00,  0.0000e+00,  1.0000e+00,\n",
       "          0.0000e+00],\n",
       "        [ 2.0000e+00,  3.8114e+00,  1.6000e+00, -1.7700e+00,  6.2000e-02,\n",
       "          1.8200e+01,  2.0000e+00,  0.0000e+00,  0.0000e+00,  0.0000e+00,\n",
       "          2.0000e+00,  0.0000e+00,  0.0000e+00,  2.0000e+00,  0.0000e+00,\n",
       "          2.0000e+00,  0.0000e+00,  0.0000e+00,  0.0000e+00,  1.0000e+00,\n",
       "          0.0000e+00],\n",
       "        [ 3.0000e+00,  6.5715e+00,  4.7800e+00, -1.0000e+00,  1.9700e-01,\n",
       "          2.9200e+01,  3.0000e+00,  0.0000e+00,  0.0000e+00,  1.0000e+00,\n",
       "          2.0000e+00,  0.0000e+00,  0.0000e+00,  2.0000e+00,  1.0000e+00,\n",
       "          3.0000e+00,  0.0000e+00,  0.0000e+00,  0.0000e+00,  1.0000e+00,\n",
       "          0.0000e+00],\n",
       "        [ 3.0000e+00,  6.7727e+00,  8.0000e+00,  2.2900e+00,  3.7200e-01,\n",
       "          1.8900e+01,  1.0000e+00,  2.0000e+00,  0.0000e+00,  0.0000e+00,\n",
       "          1.0000e+00,  2.0000e+00,  2.0000e+00,  1.0000e+00,  0.0000e+00,\n",
       "          1.0000e+00,  2.0000e+00,  0.0000e+00,  0.0000e+00,  1.0000e+00,\n",
       "          0.0000e+00]])"
      ]
     },
     "execution_count": 18,
     "metadata": {},
     "output_type": "execute_result"
    }
   ],
   "source": [
    "tu_ds[11].x"
   ]
  },
  {
   "cell_type": "code",
   "execution_count": 19,
   "metadata": {},
   "outputs": [
    {
     "data": {
      "text/plain": [
       "tensor([5, 5, 5, 5, 5, 5, 5, 5, 5, 5, 5, 5, 5, 5, 5, 5, 5, 5, 5, 5, 5, 5, 5, 5,\n",
       "        5, 5, 5, 5, 5, 5, 5, 5])"
      ]
     },
     "execution_count": 19,
     "metadata": {},
     "output_type": "execute_result"
    }
   ],
   "source": [
    "l.y"
   ]
  },
  {
   "cell_type": "code",
   "execution_count": 20,
   "metadata": {},
   "outputs": [],
   "source": [
    "tu_ds = TUDataset(\"/mnt/dl/datasets/gnn/tudataset2\", name=\"ENZYMES\", use_node_attr=True, \n",
    "                  pre_transform=T.NormalizeFeatures([\"x\"]))"
   ]
  },
  {
   "cell_type": "code",
   "execution_count": 21,
   "metadata": {},
   "outputs": [
    {
     "data": {
      "text/plain": [
       "tensor([[0.0514, 0.0664, 0.1335,  ..., 0.0208, 0.0177, 0.0177],\n",
       "        [0.0499, 0.0658, 0.1371,  ..., 0.0202, 0.0172, 0.0172],\n",
       "        [0.0509, 0.0635, 0.1614,  ..., 0.0159, 0.0135, 0.0135],\n",
       "        ...,\n",
       "        [0.0461, 0.0892, 0.1614,  ..., 0.0185, 0.0254, 0.0185],\n",
       "        [0.0490, 0.1079, 0.1450,  ..., 0.0151, 0.0208, 0.0151],\n",
       "        [0.0467, 0.1057, 0.1713,  ..., 0.0144, 0.0198, 0.0144]])"
      ]
     },
     "execution_count": 21,
     "metadata": {},
     "output_type": "execute_result"
    }
   ],
   "source": [
    "tu_ds.x"
   ]
  },
  {
   "cell_type": "code",
   "execution_count": 22,
   "metadata": {},
   "outputs": [
    {
     "data": {
      "text/plain": [
       "(tensor(0.0476), tensor(0.0663))"
      ]
     },
     "execution_count": 22,
     "metadata": {},
     "output_type": "execute_result"
    }
   ],
   "source": [
    "tu_ds.x.mean(), tu_ds.x.std()"
   ]
  },
  {
   "cell_type": "code",
   "execution_count": 23,
   "metadata": {},
   "outputs": [
    {
     "data": {
      "text/plain": [
       "21"
      ]
     },
     "execution_count": 23,
     "metadata": {},
     "output_type": "execute_result"
    }
   ],
   "source": [
    "tu_ds.num_node_features"
   ]
  },
  {
   "cell_type": "code",
   "execution_count": 24,
   "metadata": {},
   "outputs": [],
   "source": [
    "loader = DataLoader(tu_ds, batch_size=32)"
   ]
  },
  {
   "cell_type": "code",
   "execution_count": 35,
   "metadata": {},
   "outputs": [],
   "source": [
    "class GCN(nn.Module):\n",
    "    \n",
    "    def __init__(self):\n",
    "        super().__init__()\n",
    "        self.conv1 = GCNConv(tu_ds.num_node_features, 32)\n",
    "        self.conv2 = GCNConv(32, tu_ds.num_classes,)\n",
    "    \n",
    "    def forward(self, data):\n",
    "        x, edge_index = data.x, data.edge_index\n",
    "        \n",
    "        x = self.conv1(x, edge_index)\n",
    "        x = F.relu(x)\n",
    "        \n",
    "        x = F.dropout(x, 0.1, training=self.training)\n",
    "        x = self.conv2(x, edge_index)\n",
    "        \n",
    "        return x\n",
    "        "
   ]
  },
  {
   "cell_type": "code",
   "execution_count": 36,
   "metadata": {},
   "outputs": [],
   "source": [
    "gcn = GCN().cuda()"
   ]
  },
  {
   "cell_type": "code",
   "execution_count": 37,
   "metadata": {},
   "outputs": [
    {
     "data": {
      "text/plain": [
       "GCN(\n",
       "  (conv1): GCNConv(21, 32)\n",
       "  (conv2): GCNConv(32, 6)\n",
       ")"
      ]
     },
     "execution_count": 37,
     "metadata": {},
     "output_type": "execute_result"
    }
   ],
   "source": [
    "optimizer = torch.optim.Adam(gcn.parameters(), 1e-3)\n",
    "gcn.train()"
   ]
  },
  {
   "cell_type": "code",
   "execution_count": 38,
   "metadata": {},
   "outputs": [
    {
     "data": {
      "text/plain": [
       "tensor([[-0.0274,  0.0872,  0.0687,  0.0267,  0.0497,  0.0813],\n",
       "        [-0.0354,  0.1036,  0.0761,  0.0269,  0.0586,  0.0915],\n",
       "        [-0.0346,  0.1030,  0.0752,  0.0262,  0.0601,  0.0907],\n",
       "        [-0.0387,  0.1122,  0.0816,  0.0276,  0.0661,  0.1000],\n",
       "        [-0.0278,  0.0880,  0.0540,  0.0121,  0.0410,  0.0682],\n",
       "        [-0.0308,  0.0960,  0.0571,  0.0104,  0.0419,  0.0743],\n",
       "        [-0.0335,  0.0888,  0.0606,  0.0117,  0.0445,  0.0777],\n",
       "        [-0.0374,  0.0991,  0.0691,  0.0127,  0.0490,  0.0855],\n",
       "        [-0.0293,  0.0800,  0.0536,  0.0095,  0.0367,  0.0687],\n",
       "        [-0.0408,  0.1070,  0.0695,  0.0152,  0.0492,  0.0899],\n",
       "        [-0.0371,  0.0998,  0.0624,  0.0148,  0.0435,  0.0800],\n",
       "        [-0.0354,  0.0982,  0.0600,  0.0138,  0.0430,  0.0759],\n",
       "        [-0.0389,  0.1064,  0.0655,  0.0154,  0.0494,  0.0824],\n",
       "        [-0.0336,  0.0950,  0.0708,  0.0275,  0.0622,  0.0843],\n",
       "        [-0.0336,  0.0950,  0.0708,  0.0275,  0.0622,  0.0843],\n",
       "        [-0.0354,  0.0981,  0.0758,  0.0263,  0.0617,  0.0910],\n",
       "        [-0.0354,  0.0981,  0.0758,  0.0263,  0.0617,  0.0910],\n",
       "        [-0.0299,  0.0981,  0.0779,  0.0329,  0.0686,  0.0952],\n",
       "        [-0.0246,  0.0867,  0.0606,  0.0145,  0.0514,  0.0772],\n",
       "        [-0.0246,  0.0867,  0.0606,  0.0145,  0.0514,  0.0772],\n",
       "        [-0.0380,  0.1016,  0.0570,  0.0190,  0.0514,  0.0784],\n",
       "        [-0.0342,  0.0883,  0.0476,  0.0095,  0.0362,  0.0594],\n",
       "        [-0.0316,  0.0822,  0.0413,  0.0113,  0.0298,  0.0538],\n",
       "        [-0.0337,  0.0811,  0.0389,  0.0073,  0.0311,  0.0550],\n",
       "        [-0.0228,  0.0784,  0.0489,  0.0122,  0.0511,  0.0630],\n",
       "        [-0.0331,  0.0969,  0.0543,  0.0106,  0.0466,  0.0710],\n",
       "        [-0.0307,  0.0957,  0.0510,  0.0081,  0.0449,  0.0676],\n",
       "        [-0.0281,  0.0903,  0.0561,  0.0149,  0.0556,  0.0725],\n",
       "        [-0.0341,  0.1030,  0.0555,  0.0092,  0.0487,  0.0739],\n",
       "        [-0.0371,  0.1077,  0.0612,  0.0101,  0.0563,  0.0796],\n",
       "        [-0.0272,  0.0862,  0.0612, -0.0017,  0.0511,  0.0623],\n",
       "        [-0.0268,  0.0620,  0.0501, -0.0036,  0.0479,  0.0581],\n",
       "        [-0.0298,  0.0704,  0.0557, -0.0041,  0.0532,  0.0635],\n",
       "        [-0.0314,  0.0836,  0.0568,  0.0057,  0.0569,  0.0658],\n",
       "        [-0.0334,  0.0854,  0.0674, -0.0015,  0.0611,  0.0719],\n",
       "        [-0.0389,  0.0898,  0.0587,  0.0070,  0.0466,  0.0642],\n",
       "        [-0.0298,  0.0704,  0.0557, -0.0041,  0.0532,  0.0635]],\n",
       "       device='cuda:0', grad_fn=<AddBackward0>)"
      ]
     },
     "execution_count": 38,
     "metadata": {},
     "output_type": "execute_result"
    }
   ],
   "source": [
    "gcn(tu_ds[0].cuda())"
   ]
  },
  {
   "cell_type": "code",
   "execution_count": 39,
   "metadata": {},
   "outputs": [
    {
     "data": {
      "text/plain": [
       "tensor([-1.2866,  3.4302,  2.1131,  0.5411,  1.9306,  2.7773], device='cuda:0',\n",
       "       grad_fn=<SumBackward1>)"
      ]
     },
     "execution_count": 39,
     "metadata": {},
     "output_type": "execute_result"
    }
   ],
   "source": [
    "gcn(tu_ds[0].cuda()).sum(axis=0)"
   ]
  },
  {
   "cell_type": "code",
   "execution_count": 40,
   "metadata": {},
   "outputs": [],
   "source": [
    "losses = []\n",
    "for epoch in range(50):\n",
    "    for i in range(len(tu_ds)):\n",
    "        data = tu_ds[i].cuda()\n",
    "        yhat = gcn(data)\n",
    "        yhat = yhat.sum(dim=0, keepdims=True)\n",
    "        loss = F.cross_entropy(yhat, data.y)\n",
    "        losses.append(loss.item())\n",
    "        optimizer.zero_grad()\n",
    "        loss.backward()\n",
    "        optimizer.step()"
   ]
  },
  {
   "cell_type": "code",
   "execution_count": 41,
   "metadata": {},
   "outputs": [
    {
     "data": {
      "text/plain": [
       "[<matplotlib.lines.Line2D at 0x7fe9c6031c00>]"
      ]
     },
     "execution_count": 41,
     "metadata": {},
     "output_type": "execute_result"
    },
    {
     "data": {
      "image/png": "[encoded data removed]",
      "text/plain": [
       "<Figure size 800x550 with 1 Axes>"
      ]
     },
     "metadata": {},
     "output_type": "display_data"
    }
   ],
   "source": [
    "plt.plot(losses)"
   ]
  },
  {
   "cell_type": "code",
   "execution_count": 42,
   "metadata": {},
   "outputs": [
    {
     "data": {
      "text/plain": [
       "tensor([[14.4077, 15.0278, 15.5044, 20.0911, 14.1653, 13.9115]],\n",
       "       device='cuda:0', grad_fn=<SumBackward1>)"
      ]
     },
     "execution_count": 42,
     "metadata": {},
     "output_type": "execute_result"
    }
   ],
   "source": [
    "yhat"
   ]
  },
  {
   "cell_type": "code",
   "execution_count": 43,
   "metadata": {},
   "outputs": [
    {
     "data": {
      "text/plain": [
       "tensor([3], device='cuda:0')"
      ]
     },
     "execution_count": 43,
     "metadata": {},
     "output_type": "execute_result"
    }
   ],
   "source": [
    "data.y"
   ]
  },
  {
   "cell_type": "code",
   "execution_count": null,
   "metadata": {},
   "outputs": [],
   "source": []
  }
 ],
 "metadata": {
  "kernelspec": {
   "display_name": "env_dl",
   "language": "python",
   "name": "python3"
  },
  "language_info": {
   "codemirror_mode": {
    "name": "ipython",
    "version": 3
   },
   "file_extension": ".py",
   "mimetype": "text/x-python",
   "name": "python",
   "nbconvert_exporter": "python",
   "pygments_lexer": "ipython3",
   "version": "3.10.0"
  }
 },
 "nbformat": 4,
 "nbformat_minor": 2
}
