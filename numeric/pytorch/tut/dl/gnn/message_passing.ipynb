{
 "cells": [
  {
   "cell_type": "code",
   "execution_count": 30,
   "metadata": {},
   "outputs": [
    {
     "name": "stdout",
     "output_type": "stream",
     "text": [
      "The autoreload extension is already loaded. To reload it, use:\n",
      "  %reload_ext autoreload\n"
     ]
    }
   ],
   "source": [
    "%load_ext autoreload\n",
    "%autoreload 2\n",
    "\n",
    "import numpy\n",
    "import matplotlib as mpl\n",
    "import matplotlib.pyplot as plt\n",
    "\n",
    "import torch\n",
    "from torch import nn\n",
    "from torch.nn import functional as F\n",
    "\n",
    "from torch_geometric.datasets import CoraFull, TUDataset, Planetoid\n",
    "from torch_geometric.loader import DataLoader\n",
    "from torch_geometric import utils, nn as gnn, transforms as T\n",
    "from torch_geometric.nn import GCNConv, MessagePassing\n",
    "plt.style.use(\"seaborn-v0_8\")"
   ]
  },
  {
   "cell_type": "code",
   "execution_count": 31,
   "metadata": {},
   "outputs": [],
   "source": [
    "model = MessagePassing(\"mean\", flow=\"source_to_target\")"
   ]
  },
  {
   "cell_type": "code",
   "execution_count": 32,
   "metadata": {},
   "outputs": [
    {
     "data": {
      "text/plain": [
       "MessagePassing()"
      ]
     },
     "execution_count": 32,
     "metadata": {},
     "output_type": "execute_result"
    }
   ],
   "source": [
    "model"
   ]
  },
  {
   "cell_type": "code",
   "execution_count": 33,
   "metadata": {},
   "outputs": [],
   "source": [
    "dataset = Planetoid(\"/mnt/dl/datasets/gnn/cora\", name=\"cora\")"
   ]
  },
  {
   "cell_type": "code",
   "execution_count": 34,
   "metadata": {},
   "outputs": [
    {
     "data": {
      "text/plain": [
       "cora()"
      ]
     },
     "execution_count": 34,
     "metadata": {},
     "output_type": "execute_result"
    }
   ],
   "source": [
    "dataset"
   ]
  },
  {
   "cell_type": "code",
   "execution_count": 35,
   "metadata": {},
   "outputs": [
    {
     "data": {
      "text/plain": [
       "1"
      ]
     },
     "execution_count": 35,
     "metadata": {},
     "output_type": "execute_result"
    }
   ],
   "source": [
    "len(dataset)"
   ]
  },
  {
   "cell_type": "code",
   "execution_count": 36,
   "metadata": {},
   "outputs": [],
   "source": [
    "data = dataset[0]"
   ]
  },
  {
   "cell_type": "code",
   "execution_count": 37,
   "metadata": {},
   "outputs": [
    {
     "data": {
      "text/plain": [
       "Data(x=[2708, 1433], edge_index=[2, 10556], y=[2708], train_mask=[2708], val_mask=[2708], test_mask=[2708])"
      ]
     },
     "execution_count": 37,
     "metadata": {},
     "output_type": "execute_result"
    }
   ],
   "source": [
    "data"
   ]
  },
  {
   "cell_type": "code",
   "execution_count": 38,
   "metadata": {},
   "outputs": [
    {
     "data": {
      "text/plain": [
       "tensor([[   0,    0,    0,  ..., 2707, 2707, 2707],\n",
       "        [ 633, 1862, 2582,  ...,  598, 1473, 2706]])"
      ]
     },
     "execution_count": 38,
     "metadata": {},
     "output_type": "execute_result"
    }
   ],
   "source": [
    "data.edge_index"
   ]
  },
  {
   "cell_type": "code",
   "execution_count": 39,
   "metadata": {},
   "outputs": [
    {
     "data": {
      "text/plain": [
       "tensor([0., 1.])"
      ]
     },
     "execution_count": 39,
     "metadata": {},
     "output_type": "execute_result"
    }
   ],
   "source": [
    "data.x.ravel().unique()"
   ]
  },
  {
   "cell_type": "code",
   "execution_count": 40,
   "metadata": {},
   "outputs": [
    {
     "data": {
      "text/plain": [
       "tensor([0, 1, 2, 3, 4, 5, 6])"
      ]
     },
     "execution_count": 40,
     "metadata": {},
     "output_type": "execute_result"
    }
   ],
   "source": [
    "data.y.unique()"
   ]
  },
  {
   "cell_type": "code",
   "execution_count": 41,
   "metadata": {},
   "outputs": [
    {
     "data": {
      "text/plain": [
       "tensor([[   0,    0,    0,  ..., 2707, 2707, 2707],\n",
       "        [ 633, 1862, 2582,  ...,  598, 1473, 2706]])"
      ]
     },
     "execution_count": 41,
     "metadata": {},
     "output_type": "execute_result"
    }
   ],
   "source": [
    "data.edge_index"
   ]
  },
  {
   "cell_type": "code",
   "execution_count": 42,
   "metadata": {},
   "outputs": [],
   "source": [
    "loader = DataLoader(dataset, batch_size=32)"
   ]
  },
  {
   "cell_type": "code",
   "execution_count": 43,
   "metadata": {},
   "outputs": [
    {
     "data": {
      "text/plain": [
       "DataBatch(x=[2708, 1433], edge_index=[2, 10556], y=[2708], train_mask=[2708], val_mask=[2708], test_mask=[2708], batch=[2708], ptr=[2])"
      ]
     },
     "execution_count": 43,
     "metadata": {},
     "output_type": "execute_result"
    }
   ],
   "source": [
    "next(iter(loader))"
   ]
  },
  {
   "cell_type": "code",
   "execution_count": 44,
   "metadata": {},
   "outputs": [
    {
     "data": {
      "text/plain": [
       "tensor([0, 0, 0,  ..., 0, 0, 0])"
      ]
     },
     "execution_count": 44,
     "metadata": {},
     "output_type": "execute_result"
    }
   ],
   "source": [
    "next(iter(loader)).batch"
   ]
  },
  {
   "cell_type": "code",
   "execution_count": 45,
   "metadata": {},
   "outputs": [
    {
     "data": {
      "text/plain": [
       "tensor([[0., 0., 0.,  ..., 0., 0., 0.],\n",
       "        [0., 0., 0.,  ..., 0., 0., 0.],\n",
       "        [0., 0., 0.,  ..., 0., 0., 0.],\n",
       "        ...,\n",
       "        [0., 0., 0.,  ..., 0., 0., 0.],\n",
       "        [0., 0., 0.,  ..., 0., 0., 0.],\n",
       "        [0., 0., 0.,  ..., 0., 0., 0.]])"
      ]
     },
     "execution_count": 45,
     "metadata": {},
     "output_type": "execute_result"
    }
   ],
   "source": [
    "data.x"
   ]
  },
  {
   "cell_type": "code",
   "execution_count": 46,
   "metadata": {},
   "outputs": [
    {
     "data": {
      "text/plain": [
       "tensor([[   0,    0,    0,  ..., 2707, 2707, 2707],\n",
       "        [ 633, 1862, 2582,  ...,  598, 1473, 2706]])"
      ]
     },
     "execution_count": 46,
     "metadata": {},
     "output_type": "execute_result"
    }
   ],
   "source": [
    "data.edge_index"
   ]
  },
  {
   "cell_type": "code",
   "execution_count": 47,
   "metadata": {},
   "outputs": [
    {
     "data": {
      "text/plain": [
       "(torch.Size([2708, 1433]), torch.Size([2, 10556]))"
      ]
     },
     "execution_count": 47,
     "metadata": {},
     "output_type": "execute_result"
    }
   ],
   "source": [
    "x = data.x.cuda()\n",
    "edge_index = data.edge_index.cuda()\n",
    "x.shape, edge_index.shape"
   ]
  },
  {
   "cell_type": "code",
   "execution_count": 48,
   "metadata": {},
   "outputs": [
    {
     "data": {
      "text/plain": [
       "(tensor([[   0,    0,    0,  ..., 2705, 2706, 2707],\n",
       "         [ 633, 1862, 2582,  ..., 2705, 2706, 2707]], device='cuda:0'),\n",
       " None)"
      ]
     },
     "execution_count": 48,
     "metadata": {},
     "output_type": "execute_result"
    }
   ],
   "source": [
    "utils.add_self_loops(edge_index)"
   ]
  },
  {
   "cell_type": "code",
   "execution_count": 49,
   "metadata": {},
   "outputs": [
    {
     "data": {
      "text/plain": [
       "tensor(3, device='cuda:0')"
      ]
     },
     "execution_count": 49,
     "metadata": {},
     "output_type": "execute_result"
    }
   ],
   "source": [
    "(edge_index[0] == 0).sum()"
   ]
  },
  {
   "cell_type": "code",
   "execution_count": 123,
   "metadata": {},
   "outputs": [],
   "source": [
    "class GCNConv(MessagePassing):\n",
    "    \n",
    "    def __init__(self, in_dim, out_dim):\n",
    "        # super().__init__(aggr=\"add\")\n",
    "        # super().__init__(aggr=\"add\", flow=\"target_to_source\") # ji format\n",
    "        super().__init__(aggr=\"add\") \n",
    "        self.lin = nn.Linear(in_dim, out_dim, bias=False)\n",
    "        self.bias = nn.Parameter(torch.zeros((out_dim, )))\n",
    "    \n",
    "    def forward(self, x, edge_index):\n",
    "        edge_index, _ = utils.add_self_loops(edge_index)\n",
    "        x = self.lin(x)\n",
    "        print(\"x size lin: \", x.size())\n",
    "        \n",
    "        # print(f\"x[{edge_index[0][0]}] in message: \", x[edge_index[0][0]])\n",
    "        print(f\"x[{edge_index[0][0]}] in message: \", x[0])\n",
    "        # print(f\"x[{edge_index[1][0]}] in message: \", x[edge_index[1][0]])\n",
    "        print(f\"x[{edge_index[1][0]}] in message: \", x[633])\n",
    "        \n",
    "        row, col = edge_index\n",
    "        deg = utils.degree(row, x.size(0)) # j index\n",
    "        deg_inv_sqrt = deg.sqrt().reciprocal()\n",
    "        assert deg_inv_sqrt.size(0) == x.size(0)\n",
    "        deg_inv_sqrt[torch.isinf(deg_inv_sqrt)] = 0.\n",
    "        norm = deg_inv_sqrt[row] * deg_inv_sqrt[col]\n",
    "        \n",
    "        print(\"Propagating edge size: ...\", edge_index.size())\n",
    "        out = self.propagate(edge_index, x=x, norm=norm)\n",
    "        out += self.bias\n",
    "        \n",
    "        return out\n",
    "    \n",
    "    def message(self, x_j, x_i, norm):\n",
    "        print(\"Messaging...\")\n",
    "        print(\"Norm size: \", norm.size())\n",
    "        print(f\"xi size: {x_i.size()}, xj size: {x_j.size()}\")\n",
    "        \n",
    "        print(\"x_i[0] in message: \", x_i[0])\n",
    "        print(\"x_j[0] in message: \", x_j[0])\n",
    "        return norm.view(-1, 1) * x_j\n",
    "        # return torch.zeros_like(x_j)\n",
    "    \n",
    "            \n",
    "    def update(self, inputs):\n",
    "        print(\"Updating....\", inputs.size())\n",
    "        return inputs"
   ]
  },
  {
   "cell_type": "code",
   "execution_count": 124,
   "metadata": {},
   "outputs": [],
   "source": [
    "torch.manual_seed(0)\n",
    "model = GCNConv(data.x.shape[-1], 8).cuda()"
   ]
  },
  {
   "cell_type": "code",
   "execution_count": 125,
   "metadata": {},
   "outputs": [
    {
     "name": "stdout",
     "output_type": "stream",
     "text": [
      "x size lin:  torch.Size([2708, 8])\n",
      "x[0] in message:  tensor([ 0.0713, -0.0250,  0.0616,  0.0009,  0.1036, -0.0217,  0.0565, -0.0251],\n",
      "       device='cuda:0', grad_fn=<SelectBackward0>)\n",
      "x[633] in message:  tensor([ 0.0615, -0.0272, -0.0020, -0.0586,  0.0352,  0.0776, -0.0073, -0.0728],\n",
      "       device='cuda:0', grad_fn=<SelectBackward0>)\n",
      "Propagating edge size: ... torch.Size([2, 13264])\n",
      "Messaging...\n",
      "Norm size:  torch.Size([13264])\n",
      "xi size: torch.Size([13264, 8]), xj size: torch.Size([13264, 8])\n",
      "x_i[0] in message:  tensor([ 0.0615, -0.0272, -0.0020, -0.0586,  0.0352,  0.0776, -0.0073, -0.0728],\n",
      "       device='cuda:0', grad_fn=<SelectBackward0>)\n",
      "x_j[0] in message:  tensor([ 0.0713, -0.0250,  0.0616,  0.0009,  0.1036, -0.0217,  0.0565, -0.0251],\n",
      "       device='cuda:0', grad_fn=<SelectBackward0>)\n",
      "Updating.... torch.Size([2708, 8])\n"
     ]
    },
    {
     "data": {
      "text/plain": [
       "tensor([[-0.0031, -0.0112,  0.0281,  ...,  0.0170,  0.0280, -0.0118],\n",
       "        [ 0.0273,  0.0128,  0.0390,  ...,  0.0147, -0.0033, -0.0430],\n",
       "        [ 0.0014, -0.0163,  0.0444,  ..., -0.0294,  0.0096, -0.0534],\n",
       "        ...,\n",
       "        [ 0.0198,  0.0105,  0.0870,  ..., -0.1209,  0.0119, -0.0168],\n",
       "        [-0.0265, -0.0301,  0.0267,  ..., -0.0185, -0.0077,  0.0171],\n",
       "        [-0.0125, -0.0269,  0.0160,  ..., -0.0235,  0.0118,  0.0246]],\n",
       "       device='cuda:0', grad_fn=<AddBackward0>)"
      ]
     },
     "execution_count": 125,
     "metadata": {},
     "output_type": "execute_result"
    }
   ],
   "source": [
    "model(x, edge_index)"
   ]
  },
  {
   "cell_type": "code",
   "execution_count": 122,
   "metadata": {},
   "outputs": [
    {
     "data": {
      "text/plain": [
       "Data(x=[2708, 1433], edge_index=[2, 10556], y=[2708], train_mask=[2708], val_mask=[2708], test_mask=[2708])"
      ]
     },
     "execution_count": 122,
     "metadata": {},
     "output_type": "execute_result"
    }
   ],
   "source": [
    "dataset[0]"
   ]
  },
  {
   "cell_type": "code",
   "execution_count": 113,
   "metadata": {},
   "outputs": [],
   "source": [
    "data2 = T.NormalizeFeatures()(dataset[0])"
   ]
  },
  {
   "cell_type": "code",
   "execution_count": 114,
   "metadata": {},
   "outputs": [
    {
     "data": {
      "text/plain": [
       "tensor([0., 1.])"
      ]
     },
     "execution_count": 114,
     "metadata": {},
     "output_type": "execute_result"
    }
   ],
   "source": [
    "dataset[0].x.ravel().unique()"
   ]
  },
  {
   "cell_type": "code",
   "execution_count": 67,
   "metadata": {},
   "outputs": [
    {
     "data": {
      "text/plain": [
       "tensor([0.0000, 0.0333, 0.0357, 0.0370, 0.0385, 0.0400, 0.0417, 0.0435, 0.0455,\n",
       "        0.0476, 0.0500, 0.0526, 0.0556, 0.0588, 0.0625, 0.0667, 0.0714, 0.0769,\n",
       "        0.0833, 0.0909, 0.1000, 0.1111, 0.1250, 0.1429, 0.1667, 0.2000, 0.2500,\n",
       "        0.3333, 0.5000, 1.0000])"
      ]
     },
     "execution_count": 67,
     "metadata": {},
     "output_type": "execute_result"
    }
   ],
   "source": [
    "data2.x.ravel().unique()"
   ]
  },
  {
   "cell_type": "code",
   "execution_count": 73,
   "metadata": {},
   "outputs": [
    {
     "data": {
      "text/plain": [
       "tensor([0.0088, 0.0055, 0.0060,  ..., 0.0062, 0.0070, 0.0073])"
      ]
     },
     "execution_count": 73,
     "metadata": {},
     "output_type": "execute_result"
    }
   ],
   "source": [
    "data2.x.std(1)"
   ]
  },
  {
   "cell_type": "code",
   "execution_count": 74,
   "metadata": {},
   "outputs": [
    {
     "data": {
      "text/plain": [
       "tensor([1.0000, 1.0000, 1.0000,  ..., 1.0000, 1.0000, 1.0000])"
      ]
     },
     "execution_count": 74,
     "metadata": {},
     "output_type": "execute_result"
    }
   ],
   "source": [
    "data2.x.sum(1)"
   ]
  },
  {
   "cell_type": "code",
   "execution_count": null,
   "metadata": {},
   "outputs": [],
   "source": []
  }
 ],
 "metadata": {
  "kernelspec": {
   "display_name": "env_dl",
   "language": "python",
   "name": "python3"
  },
  "language_info": {
   "codemirror_mode": {
    "name": "ipython",
    "version": 3
   },
   "file_extension": ".py",
   "mimetype": "text/x-python",
   "name": "python",
   "nbconvert_exporter": "python",
   "pygments_lexer": "ipython3",
   "version": "3.10.0"
  }
 },
 "nbformat": 4,
 "nbformat_minor": 2
}
