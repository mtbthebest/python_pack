{
 "cells": [
  {
   "cell_type": "code",
   "execution_count": 1,
   "metadata": {},
   "outputs": [],
   "source": [
    "%load_ext autoreload\n",
    "%autoreload 2\n",
    "import os\n",
    "import shutil\n",
    "import torch\n",
    "import numpy as np\n",
    "import fairseq\n",
    "import argparse"
   ]
  },
  {
   "cell_type": "code",
   "execution_count": 2,
   "metadata": {},
   "outputs": [
    {
     "data": {
      "text/plain": [
       "'0.12.2'"
      ]
     },
     "execution_count": 2,
     "metadata": {},
     "output_type": "execute_result"
    }
   ],
   "source": [
    "fairseq.__version__"
   ]
  },
  {
   "cell_type": "code",
   "execution_count": 3,
   "metadata": {},
   "outputs": [],
   "source": [
    "path = \"/mnt/dl/\""
   ]
  },
  {
   "cell_type": "code",
   "execution_count": 4,
   "metadata": {},
   "outputs": [],
   "source": [
    "src_lang, tgt_lang = 'en', 'fr'"
   ]
  },
  {
   "cell_type": "code",
   "execution_count": 5,
   "metadata": {},
   "outputs": [],
   "source": [
    "datapath = os.path.join(path, 'Translation', 'WMT_15', src_lang + '-' + tgt_lang)"
   ]
  },
  {
   "cell_type": "code",
   "execution_count": 6,
   "metadata": {},
   "outputs": [
    {
     "data": {
      "text/plain": [
       "['test.tok.clean.dl.bpe.40000.en',\n",
       " 'valid.tok.clean.dl.bpe.40000.en',\n",
       " 'valid.tok.clean.dl.en',\n",
       " 'valid.tok.fr',\n",
       " 'test.tok.clean.dl.en',\n",
       " 'test.tok.clean.en',\n",
       " 'test.fr',\n",
       " 'test.tok.clean.fr',\n",
       " 'valid.tok.clean.dl.fr',\n",
       " 'train.tok.clean.dl.en',\n",
       " 'train.tok.clean.dl.en-fr',\n",
       " 'vocab.bpe.40000',\n",
       " 'train.tok.clean.fr',\n",
       " 'test.tok.clean.dl.fr',\n",
       " 'train.fr',\n",
       " 'test.tok.clean.dl.bpe.40000.fr',\n",
       " 'test.tok.fr',\n",
       " 'valid.tok.en',\n",
       " 'train.tok.en',\n",
       " 'train.tok.clean.dl.fr',\n",
       " 'valid.fr',\n",
       " 'train.tok.fr',\n",
       " 'bpe.40000',\n",
       " 'valid.tok.clean.en',\n",
       " 'train.en',\n",
       " 'mosesdecoder',\n",
       " 'test.en',\n",
       " 'valid.tok.clean.dl.bpe.40000.fr',\n",
       " 'train.tok.clean.en',\n",
       " 'test.tok.en',\n",
       " 'valid.en',\n",
       " 'train.tok.clean.dl.bpe.40000.fr',\n",
       " 'valid.tok.clean.fr',\n",
       " 'train.tok.clean.dl.bpe.40000.en',\n",
       " 'train.tok.clean.dl.bpe.40000.en-fr']"
      ]
     },
     "execution_count": 6,
     "metadata": {},
     "output_type": "execute_result"
    }
   ],
   "source": [
    "os.listdir(datapath)"
   ]
  },
  {
   "cell_type": "code",
   "execution_count": 7,
   "metadata": {},
   "outputs": [],
   "source": [
    "new_path = os.path.join(path, 'fairseq', 'Translation')\n",
    "os.makedirs(new_path, exist_ok=True)"
   ]
  },
  {
   "cell_type": "code",
   "execution_count": 8,
   "metadata": {},
   "outputs": [],
   "source": [
    "def bump_new_files(path, new_path, tag, size=1000):\n",
    "    for lang in [src_lang, tgt_lang]:\n",
    "        with open(os.path.join(path, f'{tag}.tok.clean.dl.bpe.40000.{lang}')) as f, \\\n",
    "           open(os.path.join(new_path, f'{tag}.tok.clean.dl.bpe.40000.{lang}'), 'w') as sf:\n",
    "            lines = []\n",
    "            for i, line in enumerate(f):\n",
    "                if i == size:\n",
    "                    break\n",
    "                lines.append(line)\n",
    "            \n",
    "            sf.writelines(lines)\n"
   ]
  },
  {
   "cell_type": "code",
   "execution_count": 9,
   "metadata": {},
   "outputs": [],
   "source": [
    "bump_new_files(datapath, new_path, 'train', 10000)"
   ]
  },
  {
   "cell_type": "code",
   "execution_count": 10,
   "metadata": {},
   "outputs": [
    {
     "name": "stdout",
     "output_type": "stream",
     "text": [
      "In his briefing on economic development , Al Hor@@ ner will give you details of programs we fund to foster partnerships between the private sector and First Nations and Inuit communities , in areas like resource development projects , for example .\n",
      "\n",
      "( b ) Positive aspects\n",
      "\n",
      "Activities of the second type will be a major determin@@ ant of the successful implementation of a language policy .\n",
      "\n",
      "Emergency suppl@@ emental requirements with respect to the support account for peacekeeping operations would amount to $ 11,@@ 36@@ 5,@@ 400 , comprising $ 5,@@ 00@@ 6,@@ 900 for the establishment of 181 new posts ( 2 D-2 , 1 D-1 , 8 P-5 , 104 P-4 / 3 , 8 P-2 / 1 , 8 GS ( Principal level ( PL ) and 50 GS ( OL ) ) and $ 6,@@ 35@@ 8,@@ 500 for non-@@ post requirements .\n",
      "\n",
      "Order No. 1991-@@ R-@@ 140 dated May 17 , 1991 - City of Lethbridge , mileage 1@@ 10.@@ 95 Tab@@ er Subdivision .\n",
      "\n",
      "&quot; Judge Gold@@ stone has confirmed that there were war crimes committed by the Israeli forces and also crimes against humanity , attacks on civilians that had no military purpose , excessive destruction of buildings , block@@ age of food and other essenti@@ als to the civilian population .\n",
      "\n",
      "The Federal Government holds the view that there is no apparent connection between the period of time needed to process asylum applications and the rights laid down in the Covenant .\n",
      "\n",
      "There are no known natural sources of acryl@@ on@@ itri@@ le .\n",
      "\n",
      "James rec@@ oun@@ ts how the community was developed :\n",
      "\n",
      "I believe the maximum that command@@ ing officers can get is 60 % of one month &apos;s pay .\n",
      "\n"
     ]
    }
   ],
   "source": [
    "with open(os.path.join(new_path, f'train.tok.clean.dl.bpe.40000.{src_lang}')) as f:\n",
    "    for i, line in enumerate(f):\n",
    "        if i == 10:\n",
    "            break\n",
    "        print(line)"
   ]
  },
  {
   "cell_type": "code",
   "execution_count": 11,
   "metadata": {},
   "outputs": [
    {
     "name": "stdout",
     "output_type": "stream",
     "text": [
      "Dans sa présentation sur le développement économique , M. Al Hor@@ ner vous donnera des détails sur les programmes que nous finan@@ çons pour favoriser l&apos; établissement de partenariats entre le secteur privé et les collectivités des Premières nations et inu@@ ites dans des domaines comme celui de l&apos; exploitation des ressources naturelles .\n",
      "\n",
      "b ) Aspects positifs\n",
      "\n",
      "Pour la mise en oeuvre , la deuxième catégorie d&apos; activités constitue un déterminant essentiel du succès de la politique linguistique .\n",
      "\n",
      "Les ressources supplémentaires à pré@@ lever d&apos; urgence sur le compte d&apos; appui aux opérations de maintien de la paix se mon@@ teraient à 11 365 400 dollars , soit 5 006 900 dollars pour la création de 181 postes &#91; 2 D-2 , 1 D-1 , 8 P-5 , 104 P-4 / 3 , 8 P-2 / 1 , 8 GS ( 1re classe ) et 50 GS ( autres classes ) &#93; et 6 358 500 dollars pour les objets de dépense autres que les postes .\n",
      "\n",
      "L&apos; arrêté no 1991-@@ R-@@ 140 du 17 mai 1991 - ville de Lethbridge , point milliaire 1@@ 10,@@ 95 de la subdivision Tab@@ er .\n",
      "\n",
      "« Richard Gold@@ stone a confirmé que les forces israéliennes ont commis des crimes de guerre et des crimes contre l&apos; humanité , qu&apos; elles ont attaqué des civils sans aucune justification militaire , procédé à des destruc@@ tions excessi@@ ves de bâtiments et empêché l&apos; approvisionnement de la population civile en nourriture et autres biens de première nécessité .\n",
      "\n",
      "Le Gouvernement fédéral estime qu&apos; il n&apos; y a pas de lien manifeste entre les délais nécessaires pour examiner les demandes d&apos; asile et les droits énoncés dans le Pacte .\n",
      "\n",
      "On ne conna@@ Ã ® t aucune source naturelle d&apos; acryl@@ on@@ itri@@ le .\n",
      "\n",
      "Mme James racon@@ te comment la collectivité a été créée .\n",
      "\n",
      "Je crois que l&apos; amende maximum qui peut être imposée à des commandants peut atteindre jusqu&apos; à 60 p.\n",
      "\n"
     ]
    }
   ],
   "source": [
    "with open(os.path.join(new_path, f'train.tok.clean.dl.bpe.40000.{tgt_lang}')) as f:\n",
    "    for i, line in enumerate(f):\n",
    "        if i == 10:\n",
    "            break\n",
    "        print(line)"
   ]
  },
  {
   "cell_type": "code",
   "execution_count": 12,
   "metadata": {},
   "outputs": [
    {
     "data": {
      "text/plain": [
       "'/mnt/dl/fairseq/Translation/bpe.40000'"
      ]
     },
     "execution_count": 12,
     "metadata": {},
     "output_type": "execute_result"
    }
   ],
   "source": [
    "shutil.copy2(os.path.join(datapath,  'bpe.40000'), os.path.join(new_path,  'bpe.40000'))"
   ]
  },
  {
   "cell_type": "code",
   "execution_count": 13,
   "metadata": {},
   "outputs": [
    {
     "data": {
      "text/plain": [
       "'/mnt/dl/fairseq/Translation/data-bin'"
      ]
     },
     "execution_count": 13,
     "metadata": {},
     "output_type": "execute_result"
    }
   ],
   "source": [
    "destdir = os.path.join(new_path, 'data-bin')\n",
    "os.makedirs(destdir, exist_ok=True)\n",
    "destdir"
   ]
  },
  {
   "cell_type": "code",
   "execution_count": 14,
   "metadata": {},
   "outputs": [],
   "source": [
    "parser = argparse.ArgumentParser()"
   ]
  },
  {
   "cell_type": "code",
   "execution_count": 15,
   "metadata": {},
   "outputs": [
    {
     "data": {
      "text/plain": [
       "_StoreAction(option_strings=['--destdir'], dest='destdir', nargs=None, const=None, default='/mnt/dl/fairseq/Translation/data-bin', type=None, choices=None, help=None, metavar=None)"
      ]
     },
     "execution_count": 15,
     "metadata": {},
     "output_type": "execute_result"
    }
   ],
   "source": [
    "parser.add_argument('--source-lang', default=src_lang)\n",
    "parser.add_argument('--target-lang', default=tgt_lang)\n",
    "parser.add_argument('--trainpref', default=os.path.join(new_path, f'train.tok.clean.dl.bpe.40000'))\n",
    "parser.add_argument('--destdir', default=destdir)"
   ]
  },
  {
   "cell_type": "code",
   "execution_count": 16,
   "metadata": {},
   "outputs": [],
   "source": [
    "args = parser.parse_args([])"
   ]
  },
  {
   "cell_type": "code",
   "execution_count": 17,
   "metadata": {},
   "outputs": [
    {
     "data": {
      "text/plain": [
       "'en'"
      ]
     },
     "execution_count": 17,
     "metadata": {},
     "output_type": "execute_result"
    }
   ],
   "source": [
    "args.source_lang"
   ]
  },
  {
   "cell_type": "code",
   "execution_count": 18,
   "metadata": {},
   "outputs": [],
   "source": [
    "from fairseq_cli import preprocess\n",
    "from fairseq import options\n",
    "from fairseq.data import Dictionary, MMapIndexedDataset, IndexedDataset, IndexedRawTextDataset, PrependTokenDataset, ConcatDataset, StripTokenDataset\n",
    "from fairseq.binarizer import VocabularyDatasetBinarizer, FileBinarizer\n",
    "from fairseq.data import data_utils"
   ]
  },
  {
   "cell_type": "code",
   "execution_count": 19,
   "metadata": {},
   "outputs": [],
   "source": [
    "parser = options.get_preprocessing_parser()"
   ]
  },
  {
   "cell_type": "code",
   "execution_count": 20,
   "metadata": {},
   "outputs": [],
   "source": [
    "args = parser.parse_args([])"
   ]
  },
  {
   "cell_type": "code",
   "execution_count": 21,
   "metadata": {},
   "outputs": [
    {
     "data": {
      "text/plain": [
       "{'no_progress_bar': False,\n",
       " 'log_interval': 100,\n",
       " 'log_format': None,\n",
       " 'log_file': None,\n",
       " 'aim_repo': None,\n",
       " 'aim_run_hash': None,\n",
       " 'tensorboard_logdir': None,\n",
       " 'wandb_project': None,\n",
       " 'azureml_logging': False,\n",
       " 'seed': 1,\n",
       " 'cpu': False,\n",
       " 'tpu': False,\n",
       " 'bf16': False,\n",
       " 'memory_efficient_bf16': False,\n",
       " 'fp16': False,\n",
       " 'memory_efficient_fp16': False,\n",
       " 'fp16_no_flatten_grads': False,\n",
       " 'fp16_init_scale': 128,\n",
       " 'fp16_scale_window': None,\n",
       " 'fp16_scale_tolerance': 0.0,\n",
       " 'on_cpu_convert_precision': False,\n",
       " 'min_loss_scale': 0.0001,\n",
       " 'threshold_loss_scale': None,\n",
       " 'amp': False,\n",
       " 'amp_batch_retries': 2,\n",
       " 'amp_init_scale': 128,\n",
       " 'amp_scale_window': None,\n",
       " 'user_dir': None,\n",
       " 'empty_cache_freq': 0,\n",
       " 'all_gather_list_size': 16384,\n",
       " 'model_parallel_size': 1,\n",
       " 'quantization_config_path': None,\n",
       " 'profile': False,\n",
       " 'reset_logging': False,\n",
       " 'suppress_crashes': False,\n",
       " 'use_plasma_view': False,\n",
       " 'plasma_path': '/tmp/plasma',\n",
       " 'criterion': 'cross_entropy',\n",
       " 'tokenizer': None,\n",
       " 'bpe': None,\n",
       " 'optimizer': None,\n",
       " 'lr_scheduler': 'fixed',\n",
       " 'scoring': 'bleu',\n",
       " 'task': 'translation',\n",
       " 'source_lang': None,\n",
       " 'target_lang': None,\n",
       " 'trainpref': None,\n",
       " 'validpref': None,\n",
       " 'testpref': None,\n",
       " 'align_suffix': None,\n",
       " 'destdir': 'data-bin',\n",
       " 'thresholdtgt': 0,\n",
       " 'thresholdsrc': 0,\n",
       " 'tgtdict': None,\n",
       " 'srcdict': None,\n",
       " 'nwordstgt': -1,\n",
       " 'nwordssrc': -1,\n",
       " 'alignfile': None,\n",
       " 'dataset_impl': 'mmap',\n",
       " 'joined_dictionary': False,\n",
       " 'only_source': False,\n",
       " 'padding_factor': 8,\n",
       " 'workers': 1,\n",
       " 'dict_only': False}"
      ]
     },
     "execution_count": 21,
     "metadata": {},
     "output_type": "execute_result"
    }
   ],
   "source": [
    "args.__dict__"
   ]
  },
  {
   "cell_type": "code",
   "execution_count": 22,
   "metadata": {},
   "outputs": [],
   "source": [
    "args.source_lang = src_lang\n",
    "args.target_lang = tgt_lang\n",
    "args.trainpref = os.path.join(new_path, f'train.tok.clean.dl.bpe.40000')\n",
    "args.joined_dictionary = True\n",
    "args.nwordssrc = 2048 # Dict Size \n",
    "args.nwordstgt = 2048 # Dict Size \n",
    "args.destdir = destdir"
   ]
  },
  {
   "cell_type": "code",
   "execution_count": 23,
   "metadata": {},
   "outputs": [
    {
     "name": "stderr",
     "output_type": "stream",
     "text": [
      "2023-06-17 15:52:12 | INFO | fairseq_cli.preprocess | Namespace(no_progress_bar=False, log_interval=100, log_format=None, log_file=None, aim_repo=None, aim_run_hash=None, tensorboard_logdir=None, wandb_project=None, azureml_logging=False, seed=1, cpu=False, tpu=False, bf16=False, memory_efficient_bf16=False, fp16=False, memory_efficient_fp16=False, fp16_no_flatten_grads=False, fp16_init_scale=128, fp16_scale_window=None, fp16_scale_tolerance=0.0, on_cpu_convert_precision=False, min_loss_scale=0.0001, threshold_loss_scale=None, amp=False, amp_batch_retries=2, amp_init_scale=128, amp_scale_window=None, user_dir=None, empty_cache_freq=0, all_gather_list_size=16384, model_parallel_size=1, quantization_config_path=None, profile=False, reset_logging=False, suppress_crashes=False, use_plasma_view=False, plasma_path='/tmp/plasma', criterion='cross_entropy', tokenizer=None, bpe=None, optimizer=None, lr_scheduler='fixed', scoring='bleu', task='translation', source_lang='en', target_lang='fr', trainpref='/mnt/dl/fairseq/Translation/train.tok.clean.dl.bpe.40000', validpref=None, testpref=None, align_suffix=None, destdir='/mnt/dl/fairseq/Translation/data-bin', thresholdtgt=0, thresholdsrc=0, tgtdict=None, srcdict=None, nwordstgt=2048, nwordssrc=2048, alignfile=None, dataset_impl='mmap', joined_dictionary=True, only_source=False, padding_factor=8, workers=1, dict_only=False)\n",
      "2023-06-17 15:52:13 | INFO | fairseq_cli.preprocess | [en] Dictionary: 2048 types\n",
      "2023-06-17 15:52:14 | INFO | fairseq_cli.preprocess | [en] /mnt/dl/fairseq/Translation/train.tok.clean.dl.bpe.40000.en: 10000 sents, 301498 tokens, 29.8% replaced (by <unk>)\n",
      "2023-06-17 15:52:14 | INFO | fairseq_cli.preprocess | [fr] Dictionary: 2048 types\n",
      "2023-06-17 15:52:16 | INFO | fairseq_cli.preprocess | [fr] /mnt/dl/fairseq/Translation/train.tok.clean.dl.bpe.40000.fr: 10000 sents, 346738 tokens, 27.5% replaced (by <unk>)\n",
      "2023-06-17 15:52:16 | INFO | fairseq_cli.preprocess | Wrote preprocessed data to /mnt/dl/fairseq/Translation/data-bin\n"
     ]
    }
   ],
   "source": [
    "preprocess.main(args)"
   ]
  },
  {
   "cell_type": "code",
   "execution_count": 24,
   "metadata": {},
   "outputs": [
    {
     "data": {
      "text/plain": [
       "'translation'"
      ]
     },
     "execution_count": 24,
     "metadata": {},
     "output_type": "execute_result"
    }
   ],
   "source": [
    "args.task"
   ]
  },
  {
   "cell_type": "code",
   "execution_count": 25,
   "metadata": {},
   "outputs": [],
   "source": [
    "src_dict = Dictionary.load(os.path.join(destdir, 'dict.en.txt'))"
   ]
  },
  {
   "cell_type": "code",
   "execution_count": 26,
   "metadata": {},
   "outputs": [
    {
     "data": {
      "text/plain": [
       "['<s>', '<pad>', '</s>', '<unk>', ',', '.', 'de', 'the', 'of', 'la']"
      ]
     },
     "execution_count": 26,
     "metadata": {},
     "output_type": "execute_result"
    }
   ],
   "source": [
    "src_dict.symbols[:10]"
   ]
  },
  {
   "cell_type": "code",
   "execution_count": 27,
   "metadata": {},
   "outputs": [
    {
     "data": {
      "text/plain": [
       "['train.en-fr.fr.idx',\n",
       " 'train.en-fr.fr.bin',\n",
       " 'dict.fr.txt',\n",
       " 'preprocess.log',\n",
       " 'dict.en.txt',\n",
       " 'train.en-fr.en.idx',\n",
       " 'train.en-fr.en.bin']"
      ]
     },
     "execution_count": 27,
     "metadata": {},
     "output_type": "execute_result"
    }
   ],
   "source": [
    "os.listdir(destdir)"
   ]
  },
  {
   "cell_type": "code",
   "execution_count": 28,
   "metadata": {},
   "outputs": [],
   "source": [
    "idx_ds = MMapIndexedDataset(os.path.join(destdir, \"train.en-fr.en\"))"
   ]
  },
  {
   "cell_type": "code",
   "execution_count": 29,
   "metadata": {},
   "outputs": [
    {
     "data": {
      "text/plain": [
       "array([43,  6, 21, ..., 41, 26, 26], dtype=int32)"
      ]
     },
     "execution_count": 29,
     "metadata": {},
     "output_type": "execute_result"
    }
   ],
   "source": [
    "idx_ds.sizes"
   ]
  },
  {
   "cell_type": "code",
   "execution_count": 30,
   "metadata": {},
   "outputs": [
    {
     "data": {
      "text/plain": [
       "301498"
      ]
     },
     "execution_count": 30,
     "metadata": {},
     "output_type": "execute_result"
    }
   ],
   "source": [
    "idx_ds.sizes.sum()"
   ]
  },
  {
   "cell_type": "code",
   "execution_count": 31,
   "metadata": {},
   "outputs": [],
   "source": [
    "lines = []\n",
    "with open(os.path.join(destdir, \"train.en-fr.en.bin\"), 'rb') as f:\n",
    "    while True:\n",
    "        data = f.read(1024)\n",
    "        lines.extend(np.frombuffer(data, dtype=np.uint16).tolist())\n",
    "        if not data: break\n",
    "    \n",
    "    data = []\n",
    "    pos = 0\n",
    "    for size in idx_ds.sizes:\n",
    "        data.append(lines[pos: pos + size])\n",
    "        pos += size\n",
    "    \n",
    "    \n",
    "        "
   ]
  },
  {
   "cell_type": "code",
   "execution_count": 32,
   "metadata": {},
   "outputs": [
    {
     "data": {
      "text/plain": [
       "True"
      ]
     },
     "execution_count": 32,
     "metadata": {},
     "output_type": "execute_result"
    }
   ],
   "source": [
    "[len(line) for line in data] == idx_ds.sizes.tolist()"
   ]
  },
  {
   "cell_type": "code",
   "execution_count": 33,
   "metadata": {},
   "outputs": [
    {
     "data": {
      "text/plain": [
       "numpy.memmap"
      ]
     },
     "execution_count": 33,
     "metadata": {},
     "output_type": "execute_result"
    }
   ],
   "source": [
    "type(idx_ds._bin_buffer_mmap)"
   ]
  },
  {
   "cell_type": "code",
   "execution_count": 34,
   "metadata": {},
   "outputs": [
    {
     "data": {
      "text/plain": [
       "numpy.uint16"
      ]
     },
     "execution_count": 34,
     "metadata": {},
     "output_type": "execute_result"
    }
   ],
   "source": [
    "idx_ds._index.dtype"
   ]
  },
  {
   "cell_type": "code",
   "execution_count": 35,
   "metadata": {},
   "outputs": [
    {
     "data": {
      "text/plain": [
       "array([  91,  382,    3,   27,  482,  147,    4,    3,    3,    3,   76,\n",
       "       1601,  156,    3,    8, 1155,  125,    3,   13,    3,    3,  205,\n",
       "          7, 1400,  981,   10, 1002,   82,   10,    3, 1407,    4,   20,\n",
       "        488,  592,    3,  147,  918,    4,   26, 1010,    5,    2],\n",
       "      dtype=uint16)"
      ]
     },
     "execution_count": 35,
     "metadata": {},
     "output_type": "execute_result"
    }
   ],
   "source": [
    "np.frombuffer(idx_ds._bin_buffer, dtype=idx_ds._index.dtype, count=idx_ds.sizes[0])"
   ]
  },
  {
   "cell_type": "code",
   "execution_count": 36,
   "metadata": {},
   "outputs": [
    {
     "data": {
      "text/plain": [
       "array([  91,  382,    3,   27,  482,  147,    4,    3,    3,    3,   76,\n",
       "       1601,  156,    3,    8, 1155,  125,    3,   13,    3,    3,  205,\n",
       "          7, 1400,  981,   10, 1002,   82,   10,    3, 1407,    4,   20,\n",
       "        488,  592,    3,  147,  918,    4,   26, 1010,    5,    2])"
      ]
     },
     "execution_count": 36,
     "metadata": {},
     "output_type": "execute_result"
    }
   ],
   "source": [
    "np.array(data[0])"
   ]
  },
  {
   "cell_type": "code",
   "execution_count": 37,
   "metadata": {},
   "outputs": [
    {
     "data": {
      "text/plain": [
       "(86, 6)"
      ]
     },
     "execution_count": 37,
     "metadata": {},
     "output_type": "execute_result"
    }
   ],
   "source": [
    "idx_ds._index[1]"
   ]
  },
  {
   "cell_type": "code",
   "execution_count": 38,
   "metadata": {},
   "outputs": [],
   "source": [
    "ptr, size  = idx_ds._index[1]"
   ]
  },
  {
   "cell_type": "code",
   "execution_count": 39,
   "metadata": {},
   "outputs": [
    {
     "data": {
      "text/plain": [
       "array([ 21, 219,  19,   3, 807,   2], dtype=uint16)"
      ]
     },
     "execution_count": 39,
     "metadata": {},
     "output_type": "execute_result"
    }
   ],
   "source": [
    "np.frombuffer(idx_ds._bin_buffer, dtype=idx_ds._index.dtype, count=size, \n",
    "              offset=ptr)"
   ]
  },
  {
   "cell_type": "code",
   "execution_count": 40,
   "metadata": {},
   "outputs": [
    {
     "data": {
      "text/plain": [
       "array([ 21, 219,  19,   3, 807,   2])"
      ]
     },
     "execution_count": 40,
     "metadata": {},
     "output_type": "execute_result"
    }
   ],
   "source": [
    "np.array(data[1])"
   ]
  },
  {
   "cell_type": "code",
   "execution_count": 41,
   "metadata": {},
   "outputs": [
    {
     "name": "stderr",
     "output_type": "stream",
     "text": [
      "2023-06-17 15:52:17 | INFO | fairseq.data.data_utils | loaded 10,000 examples from: /mnt/dl/fairseq/Translation/data-bin/train.en-fr.en\n"
     ]
    }
   ],
   "source": [
    "src_dataset = data_utils.load_indexed_dataset(os.path.join(destdir,  \"train.en-fr.en\"), \n",
    "                                              dictionary=src_dict,\n",
    "                                              dataset_impl=\"mmap\")"
   ]
  },
  {
   "cell_type": "code",
   "execution_count": 42,
   "metadata": {},
   "outputs": [
    {
     "data": {
      "text/plain": [
       "10000"
      ]
     },
     "execution_count": 42,
     "metadata": {},
     "output_type": "execute_result"
    }
   ],
   "source": [
    "src_dataset.__len__()"
   ]
  },
  {
   "cell_type": "code",
   "execution_count": 43,
   "metadata": {},
   "outputs": [
    {
     "data": {
      "text/plain": [
       "tensor([  91,  382,    3,   27,  482,  147,    4,    3,    3,    3,   76, 1601,\n",
       "         156,    3,    8, 1155,  125,    3,   13,    3,    3,  205,    7, 1400,\n",
       "         981,   10, 1002,   82,   10,    3, 1407,    4,   20,  488,  592,    3,\n",
       "         147,  918,    4,   26, 1010,    5,    2])"
      ]
     },
     "execution_count": 43,
     "metadata": {},
     "output_type": "execute_result"
    }
   ],
   "source": [
    "src_dataset[0]"
   ]
  },
  {
   "cell_type": "code",
   "execution_count": 44,
   "metadata": {},
   "outputs": [
    {
     "data": {
      "text/plain": [
       "0"
      ]
     },
     "execution_count": 44,
     "metadata": {},
     "output_type": "execute_result"
    }
   ],
   "source": [
    "src_dict.bos_index"
   ]
  },
  {
   "cell_type": "code",
   "execution_count": 45,
   "metadata": {},
   "outputs": [
    {
     "data": {
      "text/plain": [
       "2"
      ]
     },
     "execution_count": 45,
     "metadata": {},
     "output_type": "execute_result"
    }
   ],
   "source": [
    "src_dict.eos_index"
   ]
  },
  {
   "cell_type": "code",
   "execution_count": 46,
   "metadata": {},
   "outputs": [
    {
     "data": {
      "text/plain": [
       "'In his <unk> on economic development , <unk> <unk> <unk> will give you <unk> of programs we <unk> to <unk> <unk> between the private sector and First Nations and <unk> communities , in areas like <unk> development projects , for example .'"
      ]
     },
     "execution_count": 46,
     "metadata": {},
     "output_type": "execute_result"
    }
   ],
   "source": [
    "src_dict.string(src_dataset[0].unsqueeze(0))"
   ]
  },
  {
   "cell_type": "code",
   "execution_count": 47,
   "metadata": {},
   "outputs": [],
   "source": [
    "bos_src_dataset = PrependTokenDataset(src_dataset, src_dict.bos())"
   ]
  },
  {
   "cell_type": "code",
   "execution_count": 48,
   "metadata": {},
   "outputs": [
    {
     "data": {
      "text/plain": [
       "tensor([   0,   91,  382,    3,   27,  482,  147,    4,    3,    3,    3,   76,\n",
       "        1601,  156,    3,    8, 1155,  125,    3,   13,    3,    3,  205,    7,\n",
       "        1400,  981,   10, 1002,   82,   10,    3, 1407,    4,   20,  488,  592,\n",
       "           3,  147,  918,    4,   26, 1010,    5,    2])"
      ]
     },
     "execution_count": 48,
     "metadata": {},
     "output_type": "execute_result"
    }
   ],
   "source": [
    "bos_src_dataset[0]"
   ]
  },
  {
   "cell_type": "code",
   "execution_count": 49,
   "metadata": {},
   "outputs": [
    {
     "data": {
      "text/plain": [
       "'In his <unk> on economic development , <unk> <unk> <unk> will give you <unk> of programs we <unk> to <unk> <unk> between the private sector and First Nations and <unk> communities , in areas like <unk> development projects , for example .'"
      ]
     },
     "execution_count": 49,
     "metadata": {},
     "output_type": "execute_result"
    }
   ],
   "source": [
    "src_dict.string(bos_src_dataset[0].unsqueeze(0))"
   ]
  },
  {
   "cell_type": "code",
   "execution_count": 50,
   "metadata": {},
   "outputs": [
    {
     "data": {
      "text/plain": [
       "3"
      ]
     },
     "execution_count": 50,
     "metadata": {},
     "output_type": "execute_result"
    }
   ],
   "source": [
    "src_dict.index(\"[en]\")"
   ]
  },
  {
   "cell_type": "code",
   "execution_count": null,
   "metadata": {},
   "outputs": [],
   "source": []
  }
 ],
 "metadata": {
  "kernelspec": {
   "display_name": "env_nlp",
   "language": "python",
   "name": "python3"
  },
  "language_info": {
   "codemirror_mode": {
    "name": "ipython",
    "version": 3
   },
   "file_extension": ".py",
   "mimetype": "text/x-python",
   "name": "python",
   "nbconvert_exporter": "python",
   "pygments_lexer": "ipython3",
   "version": "3.9.10"
  },
  "orig_nbformat": 4
 },
 "nbformat": 4,
 "nbformat_minor": 2
}
