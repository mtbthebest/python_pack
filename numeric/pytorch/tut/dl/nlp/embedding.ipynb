{
 "cells": [
  {
   "cell_type": "code",
   "execution_count": 1,
   "metadata": {},
   "outputs": [
    {
     "name": "stderr",
     "output_type": "stream",
     "text": [
      "[nltk_data] Downloading package punkt to /home/mtb/nltk_data...\n",
      "[nltk_data]   Package punkt is already up-to-date!\n"
     ]
    },
    {
     "data": {
      "text/plain": [
       "True"
      ]
     },
     "execution_count": 1,
     "metadata": {},
     "output_type": "execute_result"
    }
   ],
   "source": [
    "import os\n",
    "import os.path as osp\n",
    "import numpy as np\n",
    "import torch\n",
    "from torch import nn\n",
    "import torch.nn.functional as F\n",
    "from torch.utils.data import DataLoader, Dataset, IterableDataset\n",
    "import random\n",
    "import math\n",
    "import string\n",
    "import pandas as pd\n",
    "import matplotlib.pyplot as plt\n",
    "import re\n",
    "import nltk\n",
    "import collections\n",
    "import itertools\n",
    "from sklearn.manifold import TSNE\n",
    "from nltk import tokenize, sent_tokenize\n",
    "\n",
    "nltk.data.path.append(os.path.join(os.path.expanduser('~'), '.nltk_data'))\n",
    "nltk.download('punkt')"
   ]
  },
  {
   "cell_type": "code",
   "execution_count": 2,
   "metadata": {},
   "outputs": [],
   "source": [
    "dataset_path = os.getenv(\"DL_DATASET\")"
   ]
  },
  {
   "cell_type": "code",
   "execution_count": 3,
   "metadata": {},
   "outputs": [],
   "source": [
    "embedding_dataset_path =[osp.join(dataset_path, \n",
    "                                  f\"OANC_GrAF/OANC-GrAF/data/written_1/journal/slate/{i}\") \n",
    "                                  for i in range(1, 50)\n",
    "                ]               "
   ]
  },
  {
   "attachments": {},
   "cell_type": "markdown",
   "metadata": {},
   "source": [
    "<h1> Load Data </h1>"
   ]
  },
  {
   "cell_type": "code",
   "execution_count": 4,
   "metadata": {},
   "outputs": [],
   "source": [
    "files = []\n",
    "\n",
    "for folder in embedding_dataset_path:\n",
    "    for file_index in os.listdir(folder):\n",
    "        if not file_index.endswith(\".txt\"):\n",
    "            continue\n",
    "        files.append(osp.join(folder, file_index))"
   ]
  },
  {
   "cell_type": "code",
   "execution_count": 5,
   "metadata": {},
   "outputs": [
    {
     "data": {
      "text/plain": [
       "3591"
      ]
     },
     "execution_count": 5,
     "metadata": {},
     "output_type": "execute_result"
    }
   ],
   "source": [
    "len(files)"
   ]
  },
  {
   "cell_type": "code",
   "execution_count": 6,
   "metadata": {},
   "outputs": [],
   "source": [
    "files = sorted(files)"
   ]
  },
  {
   "cell_type": "code",
   "execution_count": 7,
   "metadata": {},
   "outputs": [
    {
     "data": {
      "text/plain": [
       "'/media/mtb/nas/datasets/OANC_GrAF/OANC-GrAF/data/written_1/journal/slate/1/Article247_4.txt'"
      ]
     },
     "execution_count": 7,
     "metadata": {},
     "output_type": "execute_result"
    }
   ],
   "source": [
    "files[0]"
   ]
  },
  {
   "cell_type": "code",
   "execution_count": 8,
   "metadata": {},
   "outputs": [],
   "source": [
    "def read_file(filename):\n",
    "    with open(filename, mode='r', encoding='utf-8') as f:\n",
    "        return f.read()\n"
   ]
  },
  {
   "cell_type": "code",
   "execution_count": 9,
   "metadata": {},
   "outputs": [
    {
     "data": {
      "text/plain": [
       "'\\n   \\n   \\n      \\n         \\n            Harmonic Convergences\\n            \\n\\n            You\\'re right, Maxim\\'s strong point is that it\\'s totally unsentimental\\nand ungenteel. It\\'s a sendup of the old model, but in a different way than,\\nsay, Hustler was, and the difference (surprise) reflects the sexual\\nculture of the \\'90s. With its belligerent grossness and misogyny,\\nHustler rebelled against the establishment men\\'s mags\\' class\\ncondescension, the earnest philosophizing about the sexual revolution, the\\n\"thinking men\\'s sex bomb\" syndrome, at the same time that it was deliberately\\ngoading feminists. It came right out with the anger that the regular men\\'s mags\\ntried to hide. Maxim pokes fun at its progenitors but with considerable\\nironic affection. It\\'s not angry. In fact, while its fondness for the most\\nidiotic, juvenile humor knows no bounds, any strong emotion is taboo (unless\\nyou count horror at having your penis mangled)--that\\'s part of the British\\ninfluence, I guess. And feminism isn\\'t an issue, at least not directly--partly\\nbecause its basic ideas have been assimilated and are taken for granted, partly\\nbecause politics in general and feminism in particular barely exist in the\\nconsciousness of Maxim\\'s age group. (Whereas Gear, which retains\\ncertain elements of the old men\\'s mag ethos, and the old hostility--and not\\nincidentally runs somewhat longer articles--does worry about and argue with\\nfeminism, as in its recent piece on sexual repression in the military, in which\\nit is argued, after a fashion, that 1) we can\\'t suppress male soldiers\\' urge to\\nrape and harass women without suppressing the urge to kill that\\'s the\\nmilitary\\'s reason for being, 2) sexual harassment crusades interfere with\\nwomen\\'s equality, 3) women soldiers aren\\'t men\\'s equals anyway, and 4) why do\\nwe need women in the military in the first place?)\\n\\n            Another thing I\\'ve noticed is that the trajectory of the new men\\'s magazines\\nand that of contemporary women\\'s magazines seem to be converging, at least\\ncompared with 20 years ago. There used to be an enormous gulf between the sense\\nof entitlement to the good things of life, including women, that pervaded the\\nmen\\'s mags and women\\'s anxious obsession with self-improvement in order to be\\nworthy of male attention. In young women\\'s magazines now, Cosmo being\\nthe paradigm, there\\'s a much more bluntly instrumental, \"male\" attitude toward\\ngetting sex of the quantity and quality desired. Beauty is as central a\\npreoccupation as ever, if anything more so, but the preoccupation has much more\\nof a narcissistic, self-pampering quality and less of a desperation to make up\\nfor some irrecoverable, primal imperfection. In the men\\'s magazines, there\\'s\\nmuch more of a sense that if you want women to give you the time of day, you\\nhave to make some effort to find out what they want and give it to them. In the\\nold model, if men needed advice on women or sex, they got it from a male expert\\nlike the \"Playboy Advisor.\" Now Maxim features advice from women on such\\nmatters as how not to give the wrong impression on a first date.\\n\\n            On the other hand, men still don\\'t like to express anxiety directly--I\\'d\\nguess that part of the reason men\\'s mags have gotten sillier is that they\\'ve\\nseized on men\\'s time-honored method of covering up insecurity by clowning\\naround. Regarding your suggestion that these magazines give men a safe place to\\nbe together without their heterosexuality being questioned: That sounds like\\nmore of a hope (on their part) than a reality. Because it\\'s ultimately\\nself-doubt that really matters, no place can really be safe--hence the\\nneed to escalate the jokes.\\n\\n         \\n      \\n   \\n'"
      ]
     },
     "execution_count": 9,
     "metadata": {},
     "output_type": "execute_result"
    }
   ],
   "source": [
    "read_file(files[0])"
   ]
  },
  {
   "cell_type": "code",
   "execution_count": 10,
   "metadata": {},
   "outputs": [
    {
     "data": {
      "text/html": [
       "<div>\n",
       "<style scoped>\n",
       "    .dataframe tbody tr th:only-of-type {\n",
       "        vertical-align: middle;\n",
       "    }\n",
       "\n",
       "    .dataframe tbody tr th {\n",
       "        vertical-align: top;\n",
       "    }\n",
       "\n",
       "    .dataframe thead th {\n",
       "        text-align: right;\n",
       "    }\n",
       "</style>\n",
       "<table border=\"1\" class=\"dataframe\">\n",
       "  <thead>\n",
       "    <tr style=\"text-align: right;\">\n",
       "      <th></th>\n",
       "      <th>path</th>\n",
       "      <th>filename</th>\n",
       "      <th>text_raw</th>\n",
       "    </tr>\n",
       "  </thead>\n",
       "  <tbody>\n",
       "    <tr>\n",
       "      <th>0</th>\n",
       "      <td>/media/mtb/nas/datasets/OANC_GrAF/OANC-GrAF/da...</td>\n",
       "      <td>Article247_4.txt</td>\n",
       "      <td>\\n   \\n   \\n      \\n         \\n            Har...</td>\n",
       "    </tr>\n",
       "    <tr>\n",
       "      <th>1</th>\n",
       "      <td>/media/mtb/nas/datasets/OANC_GrAF/OANC-GrAF/da...</td>\n",
       "      <td>Article247_40.txt</td>\n",
       "      <td>\\n   \\n   \\n      \\n         \\n            All...</td>\n",
       "    </tr>\n",
       "    <tr>\n",
       "      <th>2</th>\n",
       "      <td>/media/mtb/nas/datasets/OANC_GrAF/OANC-GrAF/da...</td>\n",
       "      <td>Article247_42.txt</td>\n",
       "      <td>\\n   \\n   \\n      \\n         \\n            Pic...</td>\n",
       "    </tr>\n",
       "    <tr>\n",
       "      <th>3</th>\n",
       "      <td>/media/mtb/nas/datasets/OANC_GrAF/OANC-GrAF/da...</td>\n",
       "      <td>Article247_47.txt</td>\n",
       "      <td>\\n   \\n   \\n      \\n         \\n            The...</td>\n",
       "    </tr>\n",
       "    <tr>\n",
       "      <th>4</th>\n",
       "      <td>/media/mtb/nas/datasets/OANC_GrAF/OANC-GrAF/da...</td>\n",
       "      <td>Article247_5.txt</td>\n",
       "      <td>\\n   \\n   \\n      \\n         \\n            Bad...</td>\n",
       "    </tr>\n",
       "    <tr>\n",
       "      <th>...</th>\n",
       "      <td>...</td>\n",
       "      <td>...</td>\n",
       "      <td>...</td>\n",
       "    </tr>\n",
       "    <tr>\n",
       "      <th>3586</th>\n",
       "      <td>/media/mtb/nas/datasets/OANC_GrAF/OANC-GrAF/da...</td>\n",
       "      <td>Article247_3295.txt</td>\n",
       "      <td>\\n   \\n   \\n      \\n         \\n            Wea...</td>\n",
       "    </tr>\n",
       "    <tr>\n",
       "      <th>3587</th>\n",
       "      <td>/media/mtb/nas/datasets/OANC_GrAF/OANC-GrAF/da...</td>\n",
       "      <td>Article247_3296.txt</td>\n",
       "      <td>\\n   \\n   \\n      \\n         \\n            ER:...</td>\n",
       "    </tr>\n",
       "    <tr>\n",
       "      <th>3588</th>\n",
       "      <td>/media/mtb/nas/datasets/OANC_GrAF/OANC-GrAF/da...</td>\n",
       "      <td>Article247_3297.txt</td>\n",
       "      <td>\\n   \\n   \\n      \\n         \\n            Is ...</td>\n",
       "    </tr>\n",
       "    <tr>\n",
       "      <th>3589</th>\n",
       "      <td>/media/mtb/nas/datasets/OANC_GrAF/OANC-GrAF/da...</td>\n",
       "      <td>Article247_3298.txt</td>\n",
       "      <td>\\n   \\n   \\n      \\n         \\n            No ...</td>\n",
       "    </tr>\n",
       "    <tr>\n",
       "      <th>3590</th>\n",
       "      <td>/media/mtb/nas/datasets/OANC_GrAF/OANC-GrAF/da...</td>\n",
       "      <td>Article247_3299.txt</td>\n",
       "      <td>\\n   \\n   \\n      \\n         \\n            FDR...</td>\n",
       "    </tr>\n",
       "  </tbody>\n",
       "</table>\n",
       "<p>3591 rows × 3 columns</p>\n",
       "</div>"
      ],
      "text/plain": [
       "                                                   path             filename  \\\n",
       "0     /media/mtb/nas/datasets/OANC_GrAF/OANC-GrAF/da...     Article247_4.txt   \n",
       "1     /media/mtb/nas/datasets/OANC_GrAF/OANC-GrAF/da...    Article247_40.txt   \n",
       "2     /media/mtb/nas/datasets/OANC_GrAF/OANC-GrAF/da...    Article247_42.txt   \n",
       "3     /media/mtb/nas/datasets/OANC_GrAF/OANC-GrAF/da...    Article247_47.txt   \n",
       "4     /media/mtb/nas/datasets/OANC_GrAF/OANC-GrAF/da...     Article247_5.txt   \n",
       "...                                                 ...                  ...   \n",
       "3586  /media/mtb/nas/datasets/OANC_GrAF/OANC-GrAF/da...  Article247_3295.txt   \n",
       "3587  /media/mtb/nas/datasets/OANC_GrAF/OANC-GrAF/da...  Article247_3296.txt   \n",
       "3588  /media/mtb/nas/datasets/OANC_GrAF/OANC-GrAF/da...  Article247_3297.txt   \n",
       "3589  /media/mtb/nas/datasets/OANC_GrAF/OANC-GrAF/da...  Article247_3298.txt   \n",
       "3590  /media/mtb/nas/datasets/OANC_GrAF/OANC-GrAF/da...  Article247_3299.txt   \n",
       "\n",
       "                                               text_raw  \n",
       "0     \\n   \\n   \\n      \\n         \\n            Har...  \n",
       "1     \\n   \\n   \\n      \\n         \\n            All...  \n",
       "2     \\n   \\n   \\n      \\n         \\n            Pic...  \n",
       "3     \\n   \\n   \\n      \\n         \\n            The...  \n",
       "4     \\n   \\n   \\n      \\n         \\n            Bad...  \n",
       "...                                                 ...  \n",
       "3586  \\n   \\n   \\n      \\n         \\n            Wea...  \n",
       "3587  \\n   \\n   \\n      \\n         \\n            ER:...  \n",
       "3588  \\n   \\n   \\n      \\n         \\n            Is ...  \n",
       "3589  \\n   \\n   \\n      \\n         \\n            No ...  \n",
       "3590  \\n   \\n   \\n      \\n         \\n            FDR...  \n",
       "\n",
       "[3591 rows x 3 columns]"
      ]
     },
     "execution_count": 10,
     "metadata": {},
     "output_type": "execute_result"
    }
   ],
   "source": [
    "df_filenames, df_texts, df_paths = [], [], []\n",
    "\n",
    "for filename in files:\n",
    "    df_paths.append(filename)\n",
    "    df_filenames.append(os.path.basename(filename))\n",
    "    df_texts.append(read_file(filename))\n",
    "ndf = pd.DataFrame({'path': df_paths,\n",
    "                   'filename': df_filenames,\n",
    "                   'text_raw': df_texts,\n",
    "                   })\n",
    "ndf\n"
   ]
  },
  {
   "cell_type": "code",
   "execution_count": 11,
   "metadata": {},
   "outputs": [
    {
     "data": {
      "text/plain": [
       "[\"\\n   \\n   \\n      \\n         \\n            Harmonic Convergences\\n            \\n\\n            You're right, Maxim's strong point is that it's totally unsentimental\\nand ungenteel.\",\n",
       " \"It's a sendup of the old model, but in a different way than,\\nsay, Hustler was, and the difference (surprise) reflects the sexual\\nculture of the '90s.\",\n",
       " 'With its belligerent grossness and misogyny,\\nHustler rebelled against the establishment men\\'s mags\\' class\\ncondescension, the earnest philosophizing about the sexual revolution, the\\n\"thinking men\\'s sex bomb\" syndrome, at the same time that it was deliberately\\ngoading feminists.',\n",
       " \"It came right out with the anger that the regular men's mags\\ntried to hide.\",\n",
       " 'Maxim pokes fun at its progenitors but with considerable\\nironic affection.',\n",
       " \"It's not angry.\",\n",
       " \"In fact, while its fondness for the most\\nidiotic, juvenile humor knows no bounds, any strong emotion is taboo (unless\\nyou count horror at having your penis mangled)--that's part of the British\\ninfluence, I guess.\",\n",
       " \"And feminism isn't an issue, at least not directly--partly\\nbecause its basic ideas have been assimilated and are taken for granted, partly\\nbecause politics in general and feminism in particular barely exist in the\\nconsciousness of Maxim's age group.\",\n",
       " \"(Whereas Gear, which retains\\ncertain elements of the old men's mag ethos, and the old hostility--and not\\nincidentally runs somewhat longer articles--does worry about and argue with\\nfeminism, as in its recent piece on sexual repression in the military, in which\\nit is argued, after a fashion, that 1) we can't suppress male soldiers' urge to\\nrape and harass women without suppressing the urge to kill that's the\\nmilitary's reason for being, 2) sexual harassment crusades interfere with\\nwomen's equality, 3) women soldiers aren't men's equals anyway, and 4) why do\\nwe need women in the military in the first place?)\",\n",
       " \"Another thing I've noticed is that the trajectory of the new men's magazines\\nand that of contemporary women's magazines seem to be converging, at least\\ncompared with 20 years ago.\",\n",
       " \"There used to be an enormous gulf between the sense\\nof entitlement to the good things of life, including women, that pervaded the\\nmen's mags and women's anxious obsession with self-improvement in order to be\\nworthy of male attention.\",\n",
       " 'In young women\\'s magazines now, Cosmo being\\nthe paradigm, there\\'s a much more bluntly instrumental, \"male\" attitude toward\\ngetting sex of the quantity and quality desired.',\n",
       " 'Beauty is as central a\\npreoccupation as ever, if anything more so, but the preoccupation has much more\\nof a narcissistic, self-pampering quality and less of a desperation to make up\\nfor some irrecoverable, primal imperfection.',\n",
       " \"In the men's magazines, there's\\nmuch more of a sense that if you want women to give you the time of day, you\\nhave to make some effort to find out what they want and give it to them.\",\n",
       " 'In the\\nold model, if men needed advice on women or sex, they got it from a male expert\\nlike the \"Playboy Advisor.\"',\n",
       " 'Now Maxim features advice from women on such\\nmatters as how not to give the wrong impression on a first date.',\n",
       " \"On the other hand, men still don't like to express anxiety directly--I'd\\nguess that part of the reason men's mags have gotten sillier is that they've\\nseized on men's time-honored method of covering up insecurity by clowning\\naround.\",\n",
       " 'Regarding your suggestion that these magazines give men a safe place to\\nbe together without their heterosexuality being questioned: That sounds like\\nmore of a hope (on their part) than a reality.',\n",
       " \"Because it's ultimately\\nself-doubt that really matters, no place can really be safe--hence the\\nneed to escalate the jokes.\"]"
      ]
     },
     "execution_count": 11,
     "metadata": {},
     "output_type": "execute_result"
    }
   ],
   "source": [
    "sent_tokenize(ndf['text_raw'][0])"
   ]
  },
  {
   "cell_type": "code",
   "execution_count": 12,
   "metadata": {},
   "outputs": [],
   "source": [
    "df = []\n",
    "for i in range(len(ndf)):\n",
    "    tokenize_sent = sent_tokenize(ndf['text_raw'][i])\n",
    "    _df = ndf.iloc[i: i+1,].copy(deep=True)\n",
    "    _df = pd.concat([_df.copy(deep=True) for _  in range(len(tokenize_sent))]).reset_index()\n",
    "    _df['text'] = tokenize_sent \n",
    "    df.append(_df)\n",
    "df = pd.concat(df).reset_index()"
   ]
  },
  {
   "cell_type": "code",
   "execution_count": 13,
   "metadata": {},
   "outputs": [
    {
     "data": {
      "text/html": [
       "<div>\n",
       "<style scoped>\n",
       "    .dataframe tbody tr th:only-of-type {\n",
       "        vertical-align: middle;\n",
       "    }\n",
       "\n",
       "    .dataframe tbody tr th {\n",
       "        vertical-align: top;\n",
       "    }\n",
       "\n",
       "    .dataframe thead th {\n",
       "        text-align: right;\n",
       "    }\n",
       "</style>\n",
       "<table border=\"1\" class=\"dataframe\">\n",
       "  <thead>\n",
       "    <tr style=\"text-align: right;\">\n",
       "      <th></th>\n",
       "      <th>level_0</th>\n",
       "      <th>index</th>\n",
       "      <th>path</th>\n",
       "      <th>filename</th>\n",
       "      <th>text_raw</th>\n",
       "      <th>text</th>\n",
       "    </tr>\n",
       "  </thead>\n",
       "  <tbody>\n",
       "    <tr>\n",
       "      <th>0</th>\n",
       "      <td>0</td>\n",
       "      <td>0</td>\n",
       "      <td>/media/mtb/nas/datasets/OANC_GrAF/OANC-GrAF/da...</td>\n",
       "      <td>Article247_4.txt</td>\n",
       "      <td>\\n   \\n   \\n      \\n         \\n            Har...</td>\n",
       "      <td>\\n   \\n   \\n      \\n         \\n            Har...</td>\n",
       "    </tr>\n",
       "    <tr>\n",
       "      <th>1</th>\n",
       "      <td>1</td>\n",
       "      <td>0</td>\n",
       "      <td>/media/mtb/nas/datasets/OANC_GrAF/OANC-GrAF/da...</td>\n",
       "      <td>Article247_4.txt</td>\n",
       "      <td>\\n   \\n   \\n      \\n         \\n            Har...</td>\n",
       "      <td>It's a sendup of the old model, but in a diffe...</td>\n",
       "    </tr>\n",
       "    <tr>\n",
       "      <th>2</th>\n",
       "      <td>2</td>\n",
       "      <td>0</td>\n",
       "      <td>/media/mtb/nas/datasets/OANC_GrAF/OANC-GrAF/da...</td>\n",
       "      <td>Article247_4.txt</td>\n",
       "      <td>\\n   \\n   \\n      \\n         \\n            Har...</td>\n",
       "      <td>With its belligerent grossness and misogyny,\\n...</td>\n",
       "    </tr>\n",
       "    <tr>\n",
       "      <th>3</th>\n",
       "      <td>3</td>\n",
       "      <td>0</td>\n",
       "      <td>/media/mtb/nas/datasets/OANC_GrAF/OANC-GrAF/da...</td>\n",
       "      <td>Article247_4.txt</td>\n",
       "      <td>\\n   \\n   \\n      \\n         \\n            Har...</td>\n",
       "      <td>It came right out with the anger that the regu...</td>\n",
       "    </tr>\n",
       "    <tr>\n",
       "      <th>4</th>\n",
       "      <td>4</td>\n",
       "      <td>0</td>\n",
       "      <td>/media/mtb/nas/datasets/OANC_GrAF/OANC-GrAF/da...</td>\n",
       "      <td>Article247_4.txt</td>\n",
       "      <td>\\n   \\n   \\n      \\n         \\n            Har...</td>\n",
       "      <td>Maxim pokes fun at its progenitors but with co...</td>\n",
       "    </tr>\n",
       "    <tr>\n",
       "      <th>...</th>\n",
       "      <td>...</td>\n",
       "      <td>...</td>\n",
       "      <td>...</td>\n",
       "      <td>...</td>\n",
       "      <td>...</td>\n",
       "      <td>...</td>\n",
       "    </tr>\n",
       "    <tr>\n",
       "      <th>161507</th>\n",
       "      <td>28</td>\n",
       "      <td>3590</td>\n",
       "      <td>/media/mtb/nas/datasets/OANC_GrAF/OANC-GrAF/da...</td>\n",
       "      <td>Article247_3299.txt</td>\n",
       "      <td>\\n   \\n   \\n      \\n         \\n            FDR...</td>\n",
       "      <td>I never quite figured out, for\\nexample, what ...</td>\n",
       "    </tr>\n",
       "    <tr>\n",
       "      <th>161508</th>\n",
       "      <td>29</td>\n",
       "      <td>3590</td>\n",
       "      <td>/media/mtb/nas/datasets/OANC_GrAF/OANC-GrAF/da...</td>\n",
       "      <td>Article247_3299.txt</td>\n",
       "      <td>\\n   \\n   \\n      \\n         \\n            FDR...</td>\n",
       "      <td>Poor Hick, bereft of career, living in\\na perp...</td>\n",
       "    </tr>\n",
       "    <tr>\n",
       "      <th>161509</th>\n",
       "      <td>30</td>\n",
       "      <td>3590</td>\n",
       "      <td>/media/mtb/nas/datasets/OANC_GrAF/OANC-GrAF/da...</td>\n",
       "      <td>Article247_3299.txt</td>\n",
       "      <td>\\n   \\n   \\n      \\n         \\n            FDR...</td>\n",
       "      <td>Marjorie, it's been a delight to correspond wi...</td>\n",
       "    </tr>\n",
       "    <tr>\n",
       "      <th>161510</th>\n",
       "      <td>31</td>\n",
       "      <td>3590</td>\n",
       "      <td>/media/mtb/nas/datasets/OANC_GrAF/OANC-GrAF/da...</td>\n",
       "      <td>Article247_3299.txt</td>\n",
       "      <td>\\n   \\n   \\n      \\n         \\n            FDR...</td>\n",
       "      <td>Best wishes\\nuntil we meet again--perhaps over...</td>\n",
       "    </tr>\n",
       "    <tr>\n",
       "      <th>161511</th>\n",
       "      <td>32</td>\n",
       "      <td>3590</td>\n",
       "      <td>/media/mtb/nas/datasets/OANC_GrAF/OANC-GrAF/da...</td>\n",
       "      <td>Article247_3299.txt</td>\n",
       "      <td>\\n   \\n   \\n      \\n         \\n            FDR...</td>\n",
       "      <td>Yours,\\n\\n            Chris</td>\n",
       "    </tr>\n",
       "  </tbody>\n",
       "</table>\n",
       "<p>161512 rows × 6 columns</p>\n",
       "</div>"
      ],
      "text/plain": [
       "        level_0  index                                               path  \\\n",
       "0             0      0  /media/mtb/nas/datasets/OANC_GrAF/OANC-GrAF/da...   \n",
       "1             1      0  /media/mtb/nas/datasets/OANC_GrAF/OANC-GrAF/da...   \n",
       "2             2      0  /media/mtb/nas/datasets/OANC_GrAF/OANC-GrAF/da...   \n",
       "3             3      0  /media/mtb/nas/datasets/OANC_GrAF/OANC-GrAF/da...   \n",
       "4             4      0  /media/mtb/nas/datasets/OANC_GrAF/OANC-GrAF/da...   \n",
       "...         ...    ...                                                ...   \n",
       "161507       28   3590  /media/mtb/nas/datasets/OANC_GrAF/OANC-GrAF/da...   \n",
       "161508       29   3590  /media/mtb/nas/datasets/OANC_GrAF/OANC-GrAF/da...   \n",
       "161509       30   3590  /media/mtb/nas/datasets/OANC_GrAF/OANC-GrAF/da...   \n",
       "161510       31   3590  /media/mtb/nas/datasets/OANC_GrAF/OANC-GrAF/da...   \n",
       "161511       32   3590  /media/mtb/nas/datasets/OANC_GrAF/OANC-GrAF/da...   \n",
       "\n",
       "                   filename  \\\n",
       "0          Article247_4.txt   \n",
       "1          Article247_4.txt   \n",
       "2          Article247_4.txt   \n",
       "3          Article247_4.txt   \n",
       "4          Article247_4.txt   \n",
       "...                     ...   \n",
       "161507  Article247_3299.txt   \n",
       "161508  Article247_3299.txt   \n",
       "161509  Article247_3299.txt   \n",
       "161510  Article247_3299.txt   \n",
       "161511  Article247_3299.txt   \n",
       "\n",
       "                                                 text_raw  \\\n",
       "0       \\n   \\n   \\n      \\n         \\n            Har...   \n",
       "1       \\n   \\n   \\n      \\n         \\n            Har...   \n",
       "2       \\n   \\n   \\n      \\n         \\n            Har...   \n",
       "3       \\n   \\n   \\n      \\n         \\n            Har...   \n",
       "4       \\n   \\n   \\n      \\n         \\n            Har...   \n",
       "...                                                   ...   \n",
       "161507  \\n   \\n   \\n      \\n         \\n            FDR...   \n",
       "161508  \\n   \\n   \\n      \\n         \\n            FDR...   \n",
       "161509  \\n   \\n   \\n      \\n         \\n            FDR...   \n",
       "161510  \\n   \\n   \\n      \\n         \\n            FDR...   \n",
       "161511  \\n   \\n   \\n      \\n         \\n            FDR...   \n",
       "\n",
       "                                                     text  \n",
       "0       \\n   \\n   \\n      \\n         \\n            Har...  \n",
       "1       It's a sendup of the old model, but in a diffe...  \n",
       "2       With its belligerent grossness and misogyny,\\n...  \n",
       "3       It came right out with the anger that the regu...  \n",
       "4       Maxim pokes fun at its progenitors but with co...  \n",
       "...                                                   ...  \n",
       "161507  I never quite figured out, for\\nexample, what ...  \n",
       "161508  Poor Hick, bereft of career, living in\\na perp...  \n",
       "161509  Marjorie, it's been a delight to correspond wi...  \n",
       "161510  Best wishes\\nuntil we meet again--perhaps over...  \n",
       "161511                        Yours,\\n\\n            Chris  \n",
       "\n",
       "[161512 rows x 6 columns]"
      ]
     },
     "execution_count": 13,
     "metadata": {},
     "output_type": "execute_result"
    }
   ],
   "source": [
    "df"
   ]
  },
  {
   "attachments": {},
   "cell_type": "markdown",
   "metadata": {},
   "source": [
    "<h1> Preprocess DATA </h1>"
   ]
  },
  {
   "cell_type": "code",
   "execution_count": 14,
   "metadata": {},
   "outputs": [],
   "source": [
    "text = np.stack(df['text'].values)"
   ]
  },
  {
   "cell_type": "code",
   "execution_count": 15,
   "metadata": {},
   "outputs": [
    {
     "data": {
      "text/plain": [
       "array([\"\\n   \\n   \\n      \\n         \\n            Harmonic Convergences\\n            \\n\\n            You're right, Maxim's strong point is that it's totally unsentimental\\nand ungenteel.\",\n",
       "       \"It's a sendup of the old model, but in a different way than,\\nsay, Hustler was, and the difference (surprise) reflects the sexual\\nculture of the '90s.\",\n",
       "       'With its belligerent grossness and misogyny,\\nHustler rebelled against the establishment men\\'s mags\\' class\\ncondescension, the earnest philosophizing about the sexual revolution, the\\n\"thinking men\\'s sex bomb\" syndrome, at the same time that it was deliberately\\ngoading feminists.',\n",
       "       ...,\n",
       "       \"Marjorie, it's been a delight to correspond with you this week.\",\n",
       "       'Best wishes\\nuntil we meet again--perhaps over Volume 9 of some future 14-volume\\nbiography of Rosalynn Carter.',\n",
       "       'Yours,\\n\\n            Chris'], dtype='<U4371')"
      ]
     },
     "execution_count": 15,
     "metadata": {},
     "output_type": "execute_result"
    }
   ],
   "source": [
    "text"
   ]
  },
  {
   "cell_type": "code",
   "execution_count": 16,
   "metadata": {},
   "outputs": [
    {
     "data": {
      "text/plain": [
       "161512"
      ]
     },
     "execution_count": 16,
     "metadata": {},
     "output_type": "execute_result"
    }
   ],
   "source": [
    "len(text)"
   ]
  },
  {
   "cell_type": "code",
   "execution_count": 17,
   "metadata": {},
   "outputs": [],
   "source": [
    "def preprocess_text(text):\n",
    "    text = re.sub(r\"\\\\n\", \" \", text)\n",
    "    text = re.sub(r\"\\n\", \" \", text)\n",
    "    text = text.translate(string.punctuation)\n",
    "    \n",
    "    text = text.lower().split()\n",
    "    text = \" \".join(text)\n",
    "    text = re.sub(r\"[^A-Za-z0-9^,!.\\/'+-=]\", \" \", text)\n",
    "    text = re.sub(r\"what's\", \"what is \", text)\n",
    "    text = re.sub(r\"\\'s\", \" \", text)\n",
    "    text = re.sub(r\"\\'ve\", \" have \", text)\n",
    "    text = re.sub(r\"n't\", \" not \", text)\n",
    "    text = re.sub(r\"i'm\", \"i am \", text)\n",
    "    text = re.sub(r\"\\'re\", \" are \", text)\n",
    "    text = re.sub(r\"\\'d\", \" would \", text)\n",
    "    text = re.sub(r\"\\'ll\", \" will \", text)\n",
    "    text = re.sub(r\",\", \" \", text)\n",
    "    text = re.sub(r\"\\.\", \" \", text)\n",
    "    text = re.sub(r\"!\", \" ! \", text)\n",
    "    text = re.sub(r\"\\/\", \" \", text)\n",
    "    text = re.sub(r\"\\^\", \" ^ \", text)\n",
    "    text = re.sub(r\"\\+\", \" + \", text)\n",
    "    text = re.sub(r\"\\-\", \" - \", text)\n",
    "    text = re.sub(r\"\\=\", \" = \", text)\n",
    "    text = re.sub(r\"'\", \" \", text)\n",
    "    text = re.sub(r\"(\\d+)(k)\", r\"\\g<1>000\", text)\n",
    "    text = re.sub(r\":\", \" : \", text)\n",
    "    text = re.sub(r\" e g \", \" eg \", text)\n",
    "    text = re.sub(r\" b g \", \" bg \", text)\n",
    "    text = re.sub(r\" u s \", \" american \", text)\n",
    "    text = re.sub(r\"\\0s\", \"0\", text)\n",
    "    text = re.sub(r\" 9 11 \", \"911\", text)\n",
    "    text = re.sub(r\"e - mail\", \"email\", text)\n",
    "    text = re.sub(r\"j k\", \"jk\", text)\n",
    "    text = re.sub(r\"\\-\\-\", \" \", text)\n",
    "    text = re.sub(r\"\\-\\s+\\-\", \" \", text)\n",
    "    text = re.sub(r\"\\s+\\-\\s+\", \"-\", text)\n",
    "    text = re.sub(r\"\\s{2,}\", \" \", text)\n",
    "    \n",
    "    return text\n",
    "    \n",
    "\n",
    "df['text_preprocess'] = df['text'].apply(preprocess_text)"
   ]
  },
  {
   "cell_type": "code",
   "execution_count": 18,
   "metadata": {},
   "outputs": [
    {
     "data": {
      "text/plain": [
       "0         harmonic convergences you are right maxim stro...\n",
       "1         it a sendup of the old model but in a differen...\n",
       "2         with its belligerent grossness and misogyny hu...\n",
       "3         it came right out with the anger that the regu...\n",
       "4         maxim pokes fun at its progenitors but with co...\n",
       "                                ...                        \n",
       "161507    i never quite figured out for example what the...\n",
       "161508    poor hick bereft of career living in a perpetu...\n",
       "161509    marjorie it been a delight to correspond with ...\n",
       "161510    best wishes until we meet again perhaps over v...\n",
       "161511                                          yours chris\n",
       "Name: text_preprocess, Length: 161512, dtype: object"
      ]
     },
     "execution_count": 18,
     "metadata": {},
     "output_type": "execute_result"
    }
   ],
   "source": [
    "df['text_preprocess']"
   ]
  },
  {
   "cell_type": "code",
   "execution_count": 19,
   "metadata": {},
   "outputs": [],
   "source": [
    "# for i in range(len(df['text_preprocess'])):\n",
    "#     sentence = df['text_preprocess'].iloc[i]\n",
    "#     if '-' in sentence:\n",
    "#         print(sentence)\n",
    "    "
   ]
  },
  {
   "cell_type": "code",
   "execution_count": 20,
   "metadata": {},
   "outputs": [],
   "source": [
    "corpus = df['text_preprocess'].tolist()"
   ]
  },
  {
   "cell_type": "code",
   "execution_count": 21,
   "metadata": {},
   "outputs": [
    {
     "data": {
      "text/plain": [
       "161512"
      ]
     },
     "execution_count": 21,
     "metadata": {},
     "output_type": "execute_result"
    }
   ],
   "source": [
    "len(corpus)"
   ]
  },
  {
   "cell_type": "code",
   "execution_count": 22,
   "metadata": {},
   "outputs": [],
   "source": [
    "words = [tokenize.word_tokenize(x) for x in corpus]"
   ]
  },
  {
   "cell_type": "code",
   "execution_count": 23,
   "metadata": {},
   "outputs": [
    {
     "data": {
      "text/plain": [
       "['harmonic',\n",
       " 'convergences',\n",
       " 'you',\n",
       " 'are',\n",
       " 'right',\n",
       " 'maxim',\n",
       " 'strong',\n",
       " 'point',\n",
       " 'is',\n",
       " 'that',\n",
       " 'it',\n",
       " 'totally',\n",
       " 'unsentimental',\n",
       " 'and',\n",
       " 'ungenteel']"
      ]
     },
     "execution_count": 23,
     "metadata": {},
     "output_type": "execute_result"
    }
   ],
   "source": [
    "words[0]"
   ]
  },
  {
   "cell_type": "code",
   "execution_count": 24,
   "metadata": {},
   "outputs": [],
   "source": [
    "counter = collections.Counter(np.concatenate(words))"
   ]
  },
  {
   "cell_type": "code",
   "execution_count": 25,
   "metadata": {},
   "outputs": [
    {
     "data": {
      "text/plain": [
       "207534"
      ]
     },
     "execution_count": 25,
     "metadata": {},
     "output_type": "execute_result"
    }
   ],
   "source": [
    "counter['the']"
   ]
  },
  {
   "cell_type": "code",
   "execution_count": 26,
   "metadata": {},
   "outputs": [
    {
     "data": {
      "text/plain": [
       "73401"
      ]
     },
     "execution_count": 26,
     "metadata": {},
     "output_type": "execute_result"
    }
   ],
   "source": [
    "counter['and']\n"
   ]
  },
  {
   "cell_type": "code",
   "execution_count": 27,
   "metadata": {},
   "outputs": [],
   "source": [
    "voc_df = pd.DataFrame([counter]).T.reset_index()\n",
    "voc_df.columns = ['words','count']\n",
    "voc_df = voc_df.sort_values(by='count', ascending=False).reset_index(drop=True)"
   ]
  },
  {
   "cell_type": "code",
   "execution_count": 28,
   "metadata": {},
   "outputs": [
    {
     "data": {
      "text/html": [
       "<div>\n",
       "<style scoped>\n",
       "    .dataframe tbody tr th:only-of-type {\n",
       "        vertical-align: middle;\n",
       "    }\n",
       "\n",
       "    .dataframe tbody tr th {\n",
       "        vertical-align: top;\n",
       "    }\n",
       "\n",
       "    .dataframe thead th {\n",
       "        text-align: right;\n",
       "    }\n",
       "</style>\n",
       "<table border=\"1\" class=\"dataframe\">\n",
       "  <thead>\n",
       "    <tr style=\"text-align: right;\">\n",
       "      <th></th>\n",
       "      <th>words</th>\n",
       "      <th>count</th>\n",
       "    </tr>\n",
       "  </thead>\n",
       "  <tbody>\n",
       "    <tr>\n",
       "      <th>0</th>\n",
       "      <td>the</td>\n",
       "      <td>207534</td>\n",
       "    </tr>\n",
       "    <tr>\n",
       "      <th>1</th>\n",
       "      <td>of</td>\n",
       "      <td>89733</td>\n",
       "    </tr>\n",
       "    <tr>\n",
       "      <th>2</th>\n",
       "      <td>to</td>\n",
       "      <td>82077</td>\n",
       "    </tr>\n",
       "    <tr>\n",
       "      <th>3</th>\n",
       "      <td>a</td>\n",
       "      <td>77055</td>\n",
       "    </tr>\n",
       "    <tr>\n",
       "      <th>4</th>\n",
       "      <td>and</td>\n",
       "      <td>73401</td>\n",
       "    </tr>\n",
       "    <tr>\n",
       "      <th>...</th>\n",
       "      <td>...</td>\n",
       "      <td>...</td>\n",
       "    </tr>\n",
       "    <tr>\n",
       "      <th>81152</th>\n",
       "      <td>half-millennium</td>\n",
       "      <td>1</td>\n",
       "    </tr>\n",
       "    <tr>\n",
       "      <th>81153</th>\n",
       "      <td>data-creation</td>\n",
       "      <td>1</td>\n",
       "    </tr>\n",
       "    <tr>\n",
       "      <th>81154</th>\n",
       "      <td>applause-getters</td>\n",
       "      <td>1</td>\n",
       "    </tr>\n",
       "    <tr>\n",
       "      <th>81155</th>\n",
       "      <td>impartially</td>\n",
       "      <td>1</td>\n",
       "    </tr>\n",
       "    <tr>\n",
       "      <th>81156</th>\n",
       "      <td>14-volume</td>\n",
       "      <td>1</td>\n",
       "    </tr>\n",
       "  </tbody>\n",
       "</table>\n",
       "<p>81157 rows × 2 columns</p>\n",
       "</div>"
      ],
      "text/plain": [
       "                  words   count\n",
       "0                   the  207534\n",
       "1                    of   89733\n",
       "2                    to   82077\n",
       "3                     a   77055\n",
       "4                   and   73401\n",
       "...                 ...     ...\n",
       "81152   half-millennium       1\n",
       "81153     data-creation       1\n",
       "81154  applause-getters       1\n",
       "81155       impartially       1\n",
       "81156         14-volume       1\n",
       "\n",
       "[81157 rows x 2 columns]"
      ]
     },
     "execution_count": 28,
     "metadata": {},
     "output_type": "execute_result"
    }
   ],
   "source": [
    "voc_df"
   ]
  },
  {
   "cell_type": "code",
   "execution_count": 29,
   "metadata": {},
   "outputs": [
    {
     "data": {
      "text/plain": [
       "<AxesSubplot: xlabel='words'>"
      ]
     },
     "execution_count": 29,
     "metadata": {},
     "output_type": "execute_result"
    },
    {
     "data": {
      "image/png": "[encoded data removed]",
      "text/plain": [
       "<Figure size 640x480 with 1 Axes>"
      ]
     },
     "metadata": {},
     "output_type": "display_data"
    }
   ],
   "source": [
    "voc_df.sort_values(by='count', ascending=False).plot(x='words')"
   ]
  },
  {
   "cell_type": "code",
   "execution_count": 30,
   "metadata": {},
   "outputs": [
    {
     "data": {
      "text/html": [
       "<div>\n",
       "<style scoped>\n",
       "    .dataframe tbody tr th:only-of-type {\n",
       "        vertical-align: middle;\n",
       "    }\n",
       "\n",
       "    .dataframe tbody tr th {\n",
       "        vertical-align: top;\n",
       "    }\n",
       "\n",
       "    .dataframe thead th {\n",
       "        text-align: right;\n",
       "    }\n",
       "</style>\n",
       "<table border=\"1\" class=\"dataframe\">\n",
       "  <thead>\n",
       "    <tr style=\"text-align: right;\">\n",
       "      <th></th>\n",
       "      <th>words</th>\n",
       "      <th>count</th>\n",
       "    </tr>\n",
       "  </thead>\n",
       "  <tbody>\n",
       "    <tr>\n",
       "      <th>0</th>\n",
       "      <td>the</td>\n",
       "      <td>207534</td>\n",
       "    </tr>\n",
       "    <tr>\n",
       "      <th>1</th>\n",
       "      <td>of</td>\n",
       "      <td>89733</td>\n",
       "    </tr>\n",
       "    <tr>\n",
       "      <th>2</th>\n",
       "      <td>to</td>\n",
       "      <td>82077</td>\n",
       "    </tr>\n",
       "    <tr>\n",
       "      <th>3</th>\n",
       "      <td>a</td>\n",
       "      <td>77055</td>\n",
       "    </tr>\n",
       "    <tr>\n",
       "      <th>4</th>\n",
       "      <td>and</td>\n",
       "      <td>73401</td>\n",
       "    </tr>\n",
       "    <tr>\n",
       "      <th>...</th>\n",
       "      <td>...</td>\n",
       "      <td>...</td>\n",
       "    </tr>\n",
       "    <tr>\n",
       "      <th>81152</th>\n",
       "      <td>half-millennium</td>\n",
       "      <td>1</td>\n",
       "    </tr>\n",
       "    <tr>\n",
       "      <th>81153</th>\n",
       "      <td>data-creation</td>\n",
       "      <td>1</td>\n",
       "    </tr>\n",
       "    <tr>\n",
       "      <th>81154</th>\n",
       "      <td>applause-getters</td>\n",
       "      <td>1</td>\n",
       "    </tr>\n",
       "    <tr>\n",
       "      <th>81155</th>\n",
       "      <td>impartially</td>\n",
       "      <td>1</td>\n",
       "    </tr>\n",
       "    <tr>\n",
       "      <th>81156</th>\n",
       "      <td>14-volume</td>\n",
       "      <td>1</td>\n",
       "    </tr>\n",
       "  </tbody>\n",
       "</table>\n",
       "<p>81157 rows × 2 columns</p>\n",
       "</div>"
      ],
      "text/plain": [
       "                  words   count\n",
       "0                   the  207534\n",
       "1                    of   89733\n",
       "2                    to   82077\n",
       "3                     a   77055\n",
       "4                   and   73401\n",
       "...                 ...     ...\n",
       "81152   half-millennium       1\n",
       "81153     data-creation       1\n",
       "81154  applause-getters       1\n",
       "81155       impartially       1\n",
       "81156         14-volume       1\n",
       "\n",
       "[81157 rows x 2 columns]"
      ]
     },
     "execution_count": 30,
     "metadata": {},
     "output_type": "execute_result"
    }
   ],
   "source": [
    "voc_df"
   ]
  },
  {
   "cell_type": "code",
   "execution_count": 31,
   "metadata": {},
   "outputs": [],
   "source": [
    "voc_df.to_csv('./data.csv')"
   ]
  },
  {
   "attachments": {},
   "cell_type": "markdown",
   "metadata": {},
   "source": [
    "<h1> Model DATA processing </h1>"
   ]
  },
  {
   "cell_type": "code",
   "execution_count": 32,
   "metadata": {},
   "outputs": [],
   "source": [
    "class Vocabulary:\n",
    "    SPECIAL_CHARS =['<unk>']\n",
    "    def __init__(self, corpus, min_freq=None, special_chars=\"unk\") -> None:\n",
    "        self.corpus = corpus\n",
    "        self.special_chars = special_chars\n",
    "        self.sentences = [tokenize.word_tokenize(sentence)\n",
    "                                            for sentence in corpus]\n",
    "        self.counter = collections.Counter(np.concatenate(self.sentences))\n",
    "        self.voc_df = self.get_vocab_df(self.counter)\n",
    "        self.min_freq = min_freq \n",
    "        \n",
    "        self.token_dict = {}       \n",
    "        self.idx_dict = {}       \n",
    "    \n",
    "    def __getitem__(self, index):\n",
    "        pass\n",
    "    \n",
    "    def __len__(self):\n",
    "        return len(self.voc_df)\n",
    "\n",
    "    def get_vocab_df(self, counter):\n",
    "        voc_df = pd.DataFrame([counter]).T.reset_index()\n",
    "        voc_df.columns = ['token','count']\n",
    "        voc_df = voc_df.sort_values(by='count', ascending=False).reset_index(drop=True)\n",
    "        \n",
    "        return voc_df\n",
    "\n",
    "    def preprocess(self):\n",
    "        condition = self.voc_df['count'] >= self.min_freq\n",
    "        unk_count = self.voc_df.loc[~condition, \"count\"].sum()\n",
    "        trunc_voc_df = self.voc_df[condition].copy().reset_index(drop=True)\n",
    "        \n",
    "        self.trunc_voc_df = trunc_voc_df\n",
    "        \n",
    "        trunc_voc_df.loc[:, 'idx'] = trunc_voc_df.index + 1\n",
    "        \n",
    "        trunc_voc_df = pd.concat([trunc_voc_df,\n",
    "                                  pd.DataFrame({\"idx\": [0], \n",
    "                                                 \"token\": [self.special_chars],\n",
    "                                                 \"count\": [unk_count]\n",
    "                                                 }\n",
    "                                               )\n",
    "                                  ]).reset_index(drop=True)\n",
    "        \n",
    "        self.counter = dict(zip(trunc_voc_df ['token'], trunc_voc_df['count']))\n",
    "        \n",
    "        \n",
    "        self.token_dict = dict(zip(trunc_voc_df['token'],\n",
    "                                  trunc_voc_df['idx'],\n",
    "                                  ))    \n",
    "        self.idx_dict = dict(zip(trunc_voc_df['idx'],\n",
    "                                  trunc_voc_df['token'],\n",
    "                                  ))        \n",
    "        self.voc_df = trunc_voc_df\n",
    "        \n",
    "        self.sentences = [[token if token in self.token_dict else self.special_chars \n",
    "                           for token in tokens] \n",
    "                          for tokens in self.sentences]\n",
    "        \n",
    "    def get_token(self, index):\n",
    "        return self.tokens[index]\n",
    "    \n",
    "    def idx_to_token(self, idx):\n",
    "        return [self.idx_dict[id] for id in idx]\n",
    "    \n",
    "    def token_to_idx(self, tokens):\n",
    "        return [self.token_dict[token] if token in self.token_dict else -1 \n",
    "                for token in tokens]\n",
    "        \n",
    "        \n"
   ]
  },
  {
   "cell_type": "code",
   "execution_count": 33,
   "metadata": {},
   "outputs": [],
   "source": [
    "vocab = Vocabulary(corpus, min_freq=5)"
   ]
  },
  {
   "cell_type": "code",
   "execution_count": 34,
   "metadata": {},
   "outputs": [
    {
     "data": {
      "text/html": [
       "<div>\n",
       "<style scoped>\n",
       "    .dataframe tbody tr th:only-of-type {\n",
       "        vertical-align: middle;\n",
       "    }\n",
       "\n",
       "    .dataframe tbody tr th {\n",
       "        vertical-align: top;\n",
       "    }\n",
       "\n",
       "    .dataframe thead th {\n",
       "        text-align: right;\n",
       "    }\n",
       "</style>\n",
       "<table border=\"1\" class=\"dataframe\">\n",
       "  <thead>\n",
       "    <tr style=\"text-align: right;\">\n",
       "      <th></th>\n",
       "      <th>token</th>\n",
       "      <th>count</th>\n",
       "    </tr>\n",
       "  </thead>\n",
       "  <tbody>\n",
       "    <tr>\n",
       "      <th>0</th>\n",
       "      <td>the</td>\n",
       "      <td>207534</td>\n",
       "    </tr>\n",
       "    <tr>\n",
       "      <th>1</th>\n",
       "      <td>of</td>\n",
       "      <td>89733</td>\n",
       "    </tr>\n",
       "    <tr>\n",
       "      <th>2</th>\n",
       "      <td>to</td>\n",
       "      <td>82077</td>\n",
       "    </tr>\n",
       "    <tr>\n",
       "      <th>3</th>\n",
       "      <td>a</td>\n",
       "      <td>77055</td>\n",
       "    </tr>\n",
       "    <tr>\n",
       "      <th>4</th>\n",
       "      <td>and</td>\n",
       "      <td>73401</td>\n",
       "    </tr>\n",
       "    <tr>\n",
       "      <th>...</th>\n",
       "      <td>...</td>\n",
       "      <td>...</td>\n",
       "    </tr>\n",
       "    <tr>\n",
       "      <th>81152</th>\n",
       "      <td>half-millennium</td>\n",
       "      <td>1</td>\n",
       "    </tr>\n",
       "    <tr>\n",
       "      <th>81153</th>\n",
       "      <td>data-creation</td>\n",
       "      <td>1</td>\n",
       "    </tr>\n",
       "    <tr>\n",
       "      <th>81154</th>\n",
       "      <td>applause-getters</td>\n",
       "      <td>1</td>\n",
       "    </tr>\n",
       "    <tr>\n",
       "      <th>81155</th>\n",
       "      <td>impartially</td>\n",
       "      <td>1</td>\n",
       "    </tr>\n",
       "    <tr>\n",
       "      <th>81156</th>\n",
       "      <td>14-volume</td>\n",
       "      <td>1</td>\n",
       "    </tr>\n",
       "  </tbody>\n",
       "</table>\n",
       "<p>81157 rows × 2 columns</p>\n",
       "</div>"
      ],
      "text/plain": [
       "                  token   count\n",
       "0                   the  207534\n",
       "1                    of   89733\n",
       "2                    to   82077\n",
       "3                     a   77055\n",
       "4                   and   73401\n",
       "...                 ...     ...\n",
       "81152   half-millennium       1\n",
       "81153     data-creation       1\n",
       "81154  applause-getters       1\n",
       "81155       impartially       1\n",
       "81156         14-volume       1\n",
       "\n",
       "[81157 rows x 2 columns]"
      ]
     },
     "execution_count": 34,
     "metadata": {},
     "output_type": "execute_result"
    }
   ],
   "source": [
    "vocab.voc_df"
   ]
  },
  {
   "cell_type": "code",
   "execution_count": 35,
   "metadata": {},
   "outputs": [
    {
     "data": {
      "text/plain": [
       "3286170"
      ]
     },
     "execution_count": 35,
     "metadata": {},
     "output_type": "execute_result"
    }
   ],
   "source": [
    "vocab.voc_df['count'].sum()"
   ]
  },
  {
   "cell_type": "code",
   "execution_count": 36,
   "metadata": {},
   "outputs": [],
   "source": [
    "vocab.preprocess()"
   ]
  },
  {
   "cell_type": "code",
   "execution_count": 37,
   "metadata": {},
   "outputs": [
    {
     "data": {
      "text/html": [
       "<div>\n",
       "<style scoped>\n",
       "    .dataframe tbody tr th:only-of-type {\n",
       "        vertical-align: middle;\n",
       "    }\n",
       "\n",
       "    .dataframe tbody tr th {\n",
       "        vertical-align: top;\n",
       "    }\n",
       "\n",
       "    .dataframe thead th {\n",
       "        text-align: right;\n",
       "    }\n",
       "</style>\n",
       "<table border=\"1\" class=\"dataframe\">\n",
       "  <thead>\n",
       "    <tr style=\"text-align: right;\">\n",
       "      <th></th>\n",
       "      <th>token</th>\n",
       "      <th>count</th>\n",
       "      <th>idx</th>\n",
       "    </tr>\n",
       "  </thead>\n",
       "  <tbody>\n",
       "    <tr>\n",
       "      <th>0</th>\n",
       "      <td>the</td>\n",
       "      <td>207534</td>\n",
       "      <td>1</td>\n",
       "    </tr>\n",
       "    <tr>\n",
       "      <th>1</th>\n",
       "      <td>of</td>\n",
       "      <td>89733</td>\n",
       "      <td>2</td>\n",
       "    </tr>\n",
       "    <tr>\n",
       "      <th>2</th>\n",
       "      <td>to</td>\n",
       "      <td>82077</td>\n",
       "      <td>3</td>\n",
       "    </tr>\n",
       "    <tr>\n",
       "      <th>3</th>\n",
       "      <td>a</td>\n",
       "      <td>77055</td>\n",
       "      <td>4</td>\n",
       "    </tr>\n",
       "    <tr>\n",
       "      <th>4</th>\n",
       "      <td>and</td>\n",
       "      <td>73401</td>\n",
       "      <td>5</td>\n",
       "    </tr>\n",
       "    <tr>\n",
       "      <th>...</th>\n",
       "      <td>...</td>\n",
       "      <td>...</td>\n",
       "      <td>...</td>\n",
       "    </tr>\n",
       "    <tr>\n",
       "      <th>28007</th>\n",
       "      <td>darrow</td>\n",
       "      <td>5</td>\n",
       "      <td>28008</td>\n",
       "    </tr>\n",
       "    <tr>\n",
       "      <th>28008</th>\n",
       "      <td>annotated</td>\n",
       "      <td>5</td>\n",
       "      <td>28009</td>\n",
       "    </tr>\n",
       "    <tr>\n",
       "      <th>28009</th>\n",
       "      <td>rustic</td>\n",
       "      <td>5</td>\n",
       "      <td>28010</td>\n",
       "    </tr>\n",
       "    <tr>\n",
       "      <th>28010</th>\n",
       "      <td>afflicting</td>\n",
       "      <td>5</td>\n",
       "      <td>28011</td>\n",
       "    </tr>\n",
       "    <tr>\n",
       "      <th>28011</th>\n",
       "      <td>unk</td>\n",
       "      <td>86346</td>\n",
       "      <td>0</td>\n",
       "    </tr>\n",
       "  </tbody>\n",
       "</table>\n",
       "<p>28012 rows × 3 columns</p>\n",
       "</div>"
      ],
      "text/plain": [
       "            token   count    idx\n",
       "0             the  207534      1\n",
       "1              of   89733      2\n",
       "2              to   82077      3\n",
       "3               a   77055      4\n",
       "4             and   73401      5\n",
       "...           ...     ...    ...\n",
       "28007      darrow       5  28008\n",
       "28008   annotated       5  28009\n",
       "28009      rustic       5  28010\n",
       "28010  afflicting       5  28011\n",
       "28011         unk   86346      0\n",
       "\n",
       "[28012 rows x 3 columns]"
      ]
     },
     "execution_count": 37,
     "metadata": {},
     "output_type": "execute_result"
    }
   ],
   "source": [
    "vocab.voc_df"
   ]
  },
  {
   "cell_type": "code",
   "execution_count": 38,
   "metadata": {},
   "outputs": [
    {
     "data": {
      "text/plain": [
       "3286170"
      ]
     },
     "execution_count": 38,
     "metadata": {},
     "output_type": "execute_result"
    }
   ],
   "source": [
    "vocab.voc_df['count'].sum()"
   ]
  },
  {
   "cell_type": "code",
   "execution_count": 39,
   "metadata": {},
   "outputs": [
    {
     "data": {
      "text/plain": [
       "(['unk',\n",
       "  'unk',\n",
       "  'you',\n",
       "  'are',\n",
       "  'right',\n",
       "  'maxim',\n",
       "  'strong',\n",
       "  'point',\n",
       "  'is',\n",
       "  'that',\n",
       "  'it',\n",
       "  'totally',\n",
       "  'unsentimental',\n",
       "  'and',\n",
       "  'unk'],\n",
       " 'harmonic convergences you are right maxim strong point is that it totally unsentimental and ungenteel ')"
      ]
     },
     "execution_count": 39,
     "metadata": {},
     "output_type": "execute_result"
    }
   ],
   "source": [
    "vocab.sentences[0], corpus[0]"
   ]
  },
  {
   "cell_type": "code",
   "execution_count": 40,
   "metadata": {},
   "outputs": [],
   "source": [
    "class NegativeSampling:\n",
    "    \n",
    "    def __init__(self, weights) -> None:\n",
    "        self.weights = weights\n",
    "        self.population = list(range(1, len(self.weights) + 1))\n",
    "        self.candidate = []\n",
    "        self.i = 0\n",
    "    def sample(self):\n",
    "        if self.i == len(self.candidate):\n",
    "            self.candidate = random.choices(self.population, self.weights, k=10000)\n",
    "            self.i = 0\n",
    "        self.i += 1\n",
    "        return self.candidate[self.i - 1]\n",
    "        \n",
    "        "
   ]
  },
  {
   "cell_type": "code",
   "execution_count": 41,
   "metadata": {},
   "outputs": [],
   "source": [
    "def extract_contexts_and_center(sentences, counter, unk_char=\"unk\", max_window_size=5):\n",
    "    centers, contexts = [], []\n",
    "    num_tokens = sum(counter.values())\n",
    "    for tokens in sentences:\n",
    "        if len(tokens) < 2:\n",
    "            continue\n",
    "        for i in range(len(tokens)):\n",
    "            token = tokens[i]\n",
    "            if token == unk_char or random.uniform(0, 1) < (1e-4 / counter[token] * num_tokens ):\n",
    "                continue\n",
    "            window_size = random.randint(1, max_window_size)\n",
    "            low, high = max(0, i - window_size), min(i + 1 + window_size, len(tokens))\n",
    "            indices = list(range(low, i)) + list(range(i+1, high))\n",
    "            values = [tokens[idx] for idx in indices if tokens[idx] != unk_char]\n",
    "            if values:\n",
    "                contexts.append(values)\n",
    "                centers.append(token)\n",
    "        \n",
    "    return centers, contexts"
   ]
  },
  {
   "cell_type": "code",
   "execution_count": 42,
   "metadata": {},
   "outputs": [],
   "source": [
    "vocab = Vocabulary(corpus, min_freq=5)\n",
    "vocab.preprocess()"
   ]
  },
  {
   "cell_type": "code",
   "execution_count": 43,
   "metadata": {},
   "outputs": [],
   "source": [
    "centers, contexts = extract_contexts_and_center(vocab.sentences[-2:], counter)\n"
   ]
  },
  {
   "cell_type": "code",
   "execution_count": 44,
   "metadata": {},
   "outputs": [
    {
     "data": {
      "text/plain": [
       "0.8455868049738062"
      ]
     },
     "execution_count": 44,
     "metadata": {},
     "output_type": "execute_result"
    }
   ],
   "source": [
    "random.uniform(0, 1)"
   ]
  },
  {
   "cell_type": "code",
   "execution_count": 45,
   "metadata": {},
   "outputs": [
    {
     "data": {
      "text/plain": [
       "(['best',\n",
       "  'until',\n",
       "  'we',\n",
       "  'again',\n",
       "  'perhaps',\n",
       "  'over',\n",
       "  'of',\n",
       "  'some',\n",
       "  'future',\n",
       "  'of'],\n",
       " [['wishes'],\n",
       "  ['best', 'wishes', 'we', 'meet'],\n",
       "  ['until', 'meet'],\n",
       "  ['we', 'meet', 'perhaps', 'over'],\n",
       "  ['wishes',\n",
       "   'until',\n",
       "   'we',\n",
       "   'meet',\n",
       "   'again',\n",
       "   'over',\n",
       "   'volume',\n",
       "   '9',\n",
       "   'of',\n",
       "   'some'],\n",
       "  ['we', 'meet', 'again', 'perhaps', 'volume', '9', 'of', 'some'],\n",
       "  ['over', 'volume', '9', 'some', 'future'],\n",
       "  ['over', 'volume', '9', 'of', 'future', 'biography', 'of'],\n",
       "  ['volume', '9', 'of', 'some', 'biography', 'of'],\n",
       "  ['of', 'some', 'future', 'biography', 'carter']])"
      ]
     },
     "execution_count": 45,
     "metadata": {},
     "output_type": "execute_result"
    }
   ],
   "source": [
    "centers, contexts"
   ]
  },
  {
   "cell_type": "code",
   "execution_count": 46,
   "metadata": {},
   "outputs": [],
   "source": [
    "def get_negatives(contexts, vocab, k=5):  \n",
    "    voc_df = vocab.voc_df[vocab.voc_df['token'] != \"unk\"].copy()\n",
    "    voc_df['sampling_weights'] = voc_df['count'] ** 0.75\n",
    "    generator = NegativeSampling(voc_df['sampling_weights'].tolist())\n",
    "    contexts_negatives = []\n",
    "    for context in contexts:\n",
    "        context_negative = []\n",
    "        while len(context_negative) < k:\n",
    "            idx = generator.sample()\n",
    "            token = vocab.idx_to_token([idx])[0]\n",
    "            if token in context:\n",
    "                continue\n",
    "            context_negative.append(token)\n",
    "        contexts_negatives.append(context_negative)\n",
    "    \n",
    "    return contexts_negatives\n",
    "negatives = get_negatives(contexts, vocab)"
   ]
  },
  {
   "cell_type": "code",
   "execution_count": 47,
   "metadata": {},
   "outputs": [],
   "source": [
    "def load_data(corpus):\n",
    "    vocab = Vocabulary(corpus, min_freq=5)\n",
    "    vocab.preprocess()\n",
    "    centers, contexts = extract_contexts_and_center(vocab.sentences, vocab.counter)\n",
    "    negatives = get_negatives(contexts, vocab)\n",
    "    \n",
    "    return vocab, centers, contexts, negatives\n",
    "    "
   ]
  },
  {
   "cell_type": "code",
   "execution_count": 48,
   "metadata": {},
   "outputs": [],
   "source": [
    "vocab, centers, contexts, negatives = load_data(corpus)\n",
    "num_classes = len(vocab)"
   ]
  },
  {
   "cell_type": "code",
   "execution_count": 49,
   "metadata": {},
   "outputs": [
    {
     "data": {
      "text/plain": [
       "(1929177, 1929177, 1929177)"
      ]
     },
     "execution_count": 49,
     "metadata": {},
     "output_type": "execute_result"
    }
   ],
   "source": [
    "len(centers), len(contexts), len(negatives)"
   ]
  },
  {
   "cell_type": "code",
   "execution_count": 50,
   "metadata": {},
   "outputs": [
    {
     "data": {
      "text/plain": [
       "('you',\n",
       " ['are', 'right', 'maxim', 'strong', 'point'],\n",
       " ['fritz', 'york', 'like', 'television', 'saying'])"
      ]
     },
     "execution_count": 50,
     "metadata": {},
     "output_type": "execute_result"
    }
   ],
   "source": [
    "centers[0], contexts[0], negatives[0]"
   ]
  },
  {
   "cell_type": "code",
   "execution_count": 51,
   "metadata": {},
   "outputs": [],
   "source": [
    "class OANCDataset(Dataset):\n",
    "    \n",
    "    def __init__(self, centers, contexts, negatives) -> None:\n",
    "        self.centers = centers\n",
    "        self.contexts = contexts\n",
    "        self.negatives = negatives\n",
    "    \n",
    "    def __getitem__(self, index):\n",
    "        return (self.centers[index], self.contexts[index],\n",
    "                self.negatives[index])\n",
    "\n",
    "    def __len__(self):\n",
    "        return len(self.centers)\n"
   ]
  },
  {
   "cell_type": "code",
   "execution_count": 52,
   "metadata": {},
   "outputs": [],
   "source": [
    "def collate_fn(data):\n",
    "    centers, contexts, masks, labels = [], [], [], []\n",
    "    max_len = max(len(co) + len(neg) for ce, co, neg in data)\n",
    "    for center, context, negative in data:\n",
    "        centers.append(vocab.token_to_idx([center]))\n",
    "        contexts.append([vocab.token_to_idx([c])[0] for c in context] + \\\n",
    "                        [vocab.token_to_idx([c])[0] for c in negative] + \\\n",
    "                        [0] * (max_len - len(context) - len(negative)))\n",
    "        masks.append(\n",
    "            [1] * (len(context) + len(negative)) + [0] * (max_len - len(context) - len(negative))\n",
    "        )\n",
    "        labels.append(\n",
    "            [1] * len(context) + [0] * (max_len - len(context))\n",
    "        )\n",
    "    return (torch.tensor(centers, dtype=torch.int64),\n",
    "            torch.tensor(contexts, dtype=torch.long),\n",
    "            torch.tensor(masks, dtype=torch.long),\n",
    "            torch.tensor(labels, dtype=torch.long)\n",
    "    )\n",
    "  "
   ]
  },
  {
   "cell_type": "code",
   "execution_count": 53,
   "metadata": {},
   "outputs": [],
   "source": [
    "dataset = OANCDataset(centers, contexts, negatives)"
   ]
  },
  {
   "cell_type": "code",
   "execution_count": 54,
   "metadata": {},
   "outputs": [
    {
     "data": {
      "text/plain": [
       "1929177"
      ]
     },
     "execution_count": 54,
     "metadata": {},
     "output_type": "execute_result"
    }
   ],
   "source": [
    "len(dataset)"
   ]
  },
  {
   "cell_type": "code",
   "execution_count": 55,
   "metadata": {},
   "outputs": [],
   "source": [
    "dataloader = DataLoader(dataset, batch_size=128, shuffle=True, collate_fn=collate_fn)"
   ]
  },
  {
   "cell_type": "code",
   "execution_count": 56,
   "metadata": {},
   "outputs": [],
   "source": [
    "data = next(iter(dataloader))"
   ]
  },
  {
   "cell_type": "code",
   "execution_count": 57,
   "metadata": {},
   "outputs": [
    {
     "data": {
      "text/plain": [
       "(tensor([[   15,    19,    11,   558,    13,     2,     4,   566, 21488,    13,\n",
       "             71,    76,  2698,   207,     3],\n",
       "         [   11, 27905,  3642,  5830,   432,  1073, 24953,     0,     0,     0,\n",
       "              0,     0,     0,     0,     0],\n",
       "         [   33,     6, 14975, 16311,     1,   687,  2678,    19,     0,     0,\n",
       "              0,     0,     0,     0,     0],\n",
       "         [    3,   848,    60,    64,   587,     2, 11203, 12443,  6808,   325,\n",
       "           5082,     0,     0,     0,     0],\n",
       "         [  303,     1,   346,  8615,   563,   837,     3,   165,     6,   556,\n",
       "            418,   101, 12988,     0,     0],\n",
       "         [   42,    16,   815,     1, 13063,    28,  1624,  4012,   685,    14,\n",
       "          17945,     0,     0,     0,     0],\n",
       "         [   78,     1,  2433, 17563,   390,  2163,   105,   111,   153,     0,\n",
       "              0,     0,     0,     0,     0],\n",
       "         [13020,    60, 13716, 24424,  1715,  6143,   370,   462,     0,     0,\n",
       "              0,     0,     0,     0,     0],\n",
       "         [ 6856,     1,   107,  1512,   332,  8361,  9058,     0,     0,     0,\n",
       "              0,     0,     0,     0,     0],\n",
       "         [ 1787, 12962,  8075,   314, 20447,  2192,     0,     0,     0,     0,\n",
       "              0,     0,     0,     0,     0]]),\n",
       " torch.Size([128, 15]))"
      ]
     },
     "execution_count": 57,
     "metadata": {},
     "output_type": "execute_result"
    }
   ],
   "source": [
    "data[1][:10], data[1].shape"
   ]
  },
  {
   "cell_type": "code",
   "execution_count": 58,
   "metadata": {},
   "outputs": [
    {
     "data": {
      "text/plain": [
       "torch.Size([128, 15, 28012])"
      ]
     },
     "execution_count": 58,
     "metadata": {},
     "output_type": "execute_result"
    }
   ],
   "source": [
    "test_data = F.one_hot(data[1], num_classes)\n",
    "test_data.shape"
   ]
  },
  {
   "cell_type": "code",
   "execution_count": 59,
   "metadata": {},
   "outputs": [
    {
     "data": {
      "text/plain": [
       "torch.Size([128, 15, 300])"
      ]
     },
     "execution_count": 59,
     "metadata": {},
     "output_type": "execute_result"
    }
   ],
   "source": [
    "nn.Embedding(num_embeddings=num_classes,\n",
    "             embedding_dim=300)(data[1]).shape\n"
   ]
  },
  {
   "cell_type": "code",
   "execution_count": 60,
   "metadata": {},
   "outputs": [
    {
     "data": {
      "text/plain": [
       "torch.Size([128, 1])"
      ]
     },
     "execution_count": 60,
     "metadata": {},
     "output_type": "execute_result"
    }
   ],
   "source": [
    "data[0].shape"
   ]
  },
  {
   "cell_type": "code",
   "execution_count": 61,
   "metadata": {},
   "outputs": [
    {
     "data": {
      "text/plain": [
       "torch.Size([128, 1, 300])"
      ]
     },
     "execution_count": 61,
     "metadata": {},
     "output_type": "execute_result"
    }
   ],
   "source": [
    "nn.Embedding(num_embeddings=num_classes,\n",
    "             embedding_dim=300)(data[0]).shape"
   ]
  },
  {
   "cell_type": "code",
   "execution_count": 62,
   "metadata": {},
   "outputs": [],
   "source": [
    "class SkipGram(nn.Module):\n",
    "    \n",
    "    def __init__(self, num_classes, hidden_size=10) -> None:\n",
    "        super().__init__()\n",
    "        self.embed_v = nn.Embedding(num_classes, embedding_dim=hidden_size)\n",
    "        self.embed_u = nn.Embedding(num_classes, embedding_dim=hidden_size)\n",
    "        self.initialize()\n",
    "    \n",
    "    def initialize(self,):\n",
    "        with torch.no_grad():\n",
    "            nn.init.xavier_normal_(self.embed_u.weight)    \n",
    "            nn.init.normal_(self.embed_v.weight)\n",
    "    \n",
    "    def forward(self, centers, contexts_and_negatives):\n",
    "        v = self.embed_v(centers)\n",
    "        u = self.embed_u(contexts_and_negatives)\n",
    "        pred = torch.bmm(v, u.permute(0, 2, 1)).squeeze(dim=1)\n",
    "        return pred\n"
   ]
  },
  {
   "cell_type": "code",
   "execution_count": 63,
   "metadata": {},
   "outputs": [],
   "source": [
    "class BinaryLoss(nn.Module):\n",
    "    \n",
    "    def __init__(self) -> None:\n",
    "        super().__init__()\n",
    "    \n",
    "    def forward(self, input, target, mask=None):\n",
    "        return F.binary_cross_entropy_with_logits(input, target, weight=mask, reduction=\"none\").mean(dim=1)"
   ]
  },
  {
   "cell_type": "code",
   "execution_count": 64,
   "metadata": {},
   "outputs": [],
   "source": [
    "device = torch.device('cuda')\n",
    "net = SkipGram(num_classes, hidden_size=256).to(device=device)\n",
    "loss_fn = BinaryLoss()"
   ]
  },
  {
   "cell_type": "code",
   "execution_count": 65,
   "metadata": {},
   "outputs": [
    {
     "data": {
      "text/plain": [
       "SkipGram(\n",
       "  (embed_v): Embedding(28012, 256)\n",
       "  (embed_u): Embedding(28012, 256)\n",
       ")"
      ]
     },
     "execution_count": 65,
     "metadata": {},
     "output_type": "execute_result"
    }
   ],
   "source": [
    "optimizer = torch.optim.Adam(params=net.parameters(),\n",
    "                             lr=0.005\n",
    "                             )\n",
    "# optimizer = torch.optim.SGD(params=net.parameters(),\n",
    "                            #  lr=0.01, momentum=0.9, nesterov=True\n",
    "                            #  )\n",
    "scheduler = torch.optim.lr_scheduler.ExponentialLR(optimizer, 0.9998)\n",
    "net.train()"
   ]
  },
  {
   "cell_type": "code",
   "execution_count": 66,
   "metadata": {},
   "outputs": [],
   "source": [
    "# net.load_state_dict(torch.load( \"./cbow.pth\")[\"model_state_dict\"])\n",
    "# optimizer.load_state_dict(torch.load( \"./cbow.pth\")[\"optimizer_state_dict\"])"
   ]
  },
  {
   "cell_type": "code",
   "execution_count": 67,
   "metadata": {},
   "outputs": [],
   "source": [
    "dataloader = DataLoader(dataset, batch_size=1024, \n",
    "                        shuffle=True, collate_fn=collate_fn, num_workers=4)"
   ]
  },
  {
   "cell_type": "code",
   "execution_count": 68,
   "metadata": {},
   "outputs": [
    {
     "name": "stderr",
     "output_type": "stream",
     "text": [
      "/home/mtb/env/lib/python3.9/site-packages/torch/optim/lr_scheduler.py:156: UserWarning: The epoch parameter in `scheduler.step()` was not necessary and is being deprecated where possible. Please use `scheduler.step()` to step the scheduler. During the deprecation, if epoch is different from None, the closed form is used instead of the new chainable form, where available. Please open an issue if you are unable to replicate your use case: https://github.com/pytorch/pytorch/issues/new/choose.\n",
      "  warnings.warn(EPOCH_DEPRECATION_WARNING, UserWarning)\n"
     ]
    },
    {
     "name": "stdout",
     "output_type": "stream",
     "text": [
      "Epoch: 0, it: 100, loss: 0.6833571195602417, lr: 0.005\n",
      "Epoch: 0, it: 200, loss: 0.6586815714836121, lr: 0.005\n",
      "Epoch: 0, it: 300, loss: 0.6438267827033997, lr: 0.005\n",
      "Epoch: 0, it: 400, loss: 0.6373800039291382, lr: 0.005\n",
      "Epoch: 0, it: 500, loss: 0.6308484077453613, lr: 0.005\n",
      "Epoch: 0, it: 600, loss: 0.6252744793891907, lr: 0.005\n",
      "Epoch: 0, it: 700, loss: 0.6339184045791626, lr: 0.005\n",
      "Epoch: 0, it: 800, loss: 0.6231869459152222, lr: 0.005\n",
      "Epoch: 0, it: 900, loss: 0.6231158971786499, lr: 0.005\n",
      "Epoch: 0, it: 1000, loss: 0.6157102584838867, lr: 0.005\n",
      "Epoch: 0, it: 1100, loss: 0.6111462116241455, lr: 0.005\n",
      "Epoch: 0, it: 1200, loss: 0.6133556365966797, lr: 0.005\n",
      "Epoch: 0, it: 1300, loss: 0.6233624219894409, lr: 0.005\n",
      "Epoch: 0, it: 1400, loss: 0.6196811199188232, lr: 0.005\n",
      "Epoch: 0, it: 1500, loss: 0.6074351668357849, lr: 0.005\n",
      "Epoch: 0, it: 1600, loss: 0.6142903566360474, lr: 0.005\n",
      "Epoch: 0, it: 1700, loss: 0.6183051466941833, lr: 0.005\n",
      "Epoch: 0, it: 1800, loss: 0.6092698574066162, lr: 0.005\n",
      "Epoch: 1, it: 1900, loss: 0.5395812392234802, lr: 0.004999\n",
      "Epoch: 1, it: 2000, loss: 0.5456657409667969, lr: 0.004999\n",
      "Epoch: 1, it: 2100, loss: 0.5550123453140259, lr: 0.004999\n",
      "Epoch: 1, it: 2200, loss: 0.5550462007522583, lr: 0.004999\n",
      "Epoch: 1, it: 2300, loss: 0.549233615398407, lr: 0.004999\n",
      "Epoch: 1, it: 2400, loss: 0.5589436292648315, lr: 0.004999\n",
      "Epoch: 1, it: 2500, loss: 0.5568557977676392, lr: 0.004999\n",
      "Epoch: 1, it: 2600, loss: 0.5629526376724243, lr: 0.004999\n",
      "Epoch: 1, it: 2700, loss: 0.5596170425415039, lr: 0.004999\n",
      "Epoch: 1, it: 2800, loss: 0.56712806224823, lr: 0.004999\n",
      "Epoch: 1, it: 2900, loss: 0.5692143440246582, lr: 0.004999\n",
      "Epoch: 1, it: 3000, loss: 0.5624219179153442, lr: 0.004999\n",
      "Epoch: 1, it: 3100, loss: 0.5611526966094971, lr: 0.004999\n",
      "Epoch: 1, it: 3200, loss: 0.564598798751831, lr: 0.004999\n",
      "Epoch: 1, it: 3300, loss: 0.5785753130912781, lr: 0.004999\n",
      "Epoch: 1, it: 3400, loss: 0.5718100070953369, lr: 0.004999\n",
      "Epoch: 1, it: 3500, loss: 0.5707992315292358, lr: 0.004999\n",
      "Epoch: 1, it: 3600, loss: 0.5738073587417603, lr: 0.004999\n",
      "Epoch: 1, it: 3700, loss: 0.5818938612937927, lr: 0.004999\n",
      "Epoch: 2, it: 3800, loss: 0.520574688911438, lr: 0.0049980002\n",
      "Epoch: 2, it: 3900, loss: 0.5200364589691162, lr: 0.0049980002\n",
      "Epoch: 2, it: 4000, loss: 0.522749662399292, lr: 0.0049980002\n",
      "Epoch: 2, it: 4100, loss: 0.5207826495170593, lr: 0.0049980002\n",
      "Epoch: 2, it: 4200, loss: 0.5310363173484802, lr: 0.0049980002\n",
      "Epoch: 2, it: 4300, loss: 0.5427627563476562, lr: 0.0049980002\n",
      "Epoch: 2, it: 4400, loss: 0.5442781448364258, lr: 0.0049980002\n",
      "Epoch: 2, it: 4500, loss: 0.5432924032211304, lr: 0.0049980002\n",
      "Epoch: 2, it: 4600, loss: 0.551842212677002, lr: 0.0049980002\n",
      "Epoch: 2, it: 4700, loss: 0.5457944273948669, lr: 0.0049980002\n",
      "Epoch: 2, it: 4800, loss: 0.5552361011505127, lr: 0.0049980002\n",
      "Epoch: 2, it: 4900, loss: 0.5482357740402222, lr: 0.0049980002\n",
      "Epoch: 2, it: 5000, loss: 0.5537853240966797, lr: 0.0049980002\n",
      "Epoch: 2, it: 5100, loss: 0.561438798904419, lr: 0.0049980002\n",
      "Epoch: 2, it: 5200, loss: 0.5651815533638, lr: 0.0049980002\n",
      "Epoch: 2, it: 5300, loss: 0.5621739625930786, lr: 0.0049980002\n",
      "Epoch: 2, it: 5400, loss: 0.5610712766647339, lr: 0.0049980002\n",
      "Epoch: 2, it: 5500, loss: 0.5685985088348389, lr: 0.0049980002\n",
      "Epoch: 2, it: 5600, loss: 0.5557892322540283, lr: 0.0049980002\n",
      "Epoch: 3, it: 5700, loss: 0.5133456587791443, lr: 0.004997000599960001\n",
      "Epoch: 3, it: 5800, loss: 0.5127074718475342, lr: 0.004997000599960001\n",
      "Epoch: 3, it: 5900, loss: 0.5268961191177368, lr: 0.004997000599960001\n",
      "Epoch: 3, it: 6000, loss: 0.5306317806243896, lr: 0.004997000599960001\n",
      "Epoch: 3, it: 6100, loss: 0.5280143022537231, lr: 0.004997000599960001\n",
      "Epoch: 3, it: 6200, loss: 0.527625560760498, lr: 0.004997000599960001\n",
      "Epoch: 3, it: 6300, loss: 0.5421360731124878, lr: 0.004997000599960001\n",
      "Epoch: 3, it: 6400, loss: 0.5369013547897339, lr: 0.004997000599960001\n",
      "Epoch: 3, it: 6500, loss: 0.5377225875854492, lr: 0.004997000599960001\n",
      "Epoch: 3, it: 6600, loss: 0.535967230796814, lr: 0.004997000599960001\n",
      "Epoch: 3, it: 6700, loss: 0.5453604459762573, lr: 0.004997000599960001\n",
      "Epoch: 3, it: 6800, loss: 0.5563331842422485, lr: 0.004997000599960001\n",
      "Epoch: 3, it: 6900, loss: 0.5599696040153503, lr: 0.004997000599960001\n",
      "Epoch: 3, it: 7000, loss: 0.5485352873802185, lr: 0.004997000599960001\n",
      "Epoch: 3, it: 7100, loss: 0.5587911605834961, lr: 0.004997000599960001\n",
      "Epoch: 3, it: 7200, loss: 0.5497336387634277, lr: 0.004997000599960001\n",
      "Epoch: 3, it: 7300, loss: 0.5574915409088135, lr: 0.004997000599960001\n",
      "Epoch: 3, it: 7400, loss: 0.5587246417999268, lr: 0.004997000599960001\n",
      "Epoch: 3, it: 7500, loss: 0.5659608840942383, lr: 0.004997000599960001\n",
      "Epoch: 4, it: 7600, loss: 0.5201914310455322, lr: 0.004996001199840008\n",
      "Epoch: 4, it: 7700, loss: 0.5218571424484253, lr: 0.004996001199840008\n",
      "Epoch: 4, it: 7800, loss: 0.5213674306869507, lr: 0.004996001199840008\n",
      "Epoch: 4, it: 7900, loss: 0.5167772769927979, lr: 0.004996001199840008\n",
      "Epoch: 4, it: 8000, loss: 0.5342471599578857, lr: 0.004996001199840008\n",
      "Epoch: 4, it: 8100, loss: 0.5307698249816895, lr: 0.004996001199840008\n",
      "Epoch: 4, it: 8200, loss: 0.5286829471588135, lr: 0.004996001199840008\n",
      "Epoch: 4, it: 8300, loss: 0.5229970812797546, lr: 0.004996001199840008\n",
      "Epoch: 4, it: 8400, loss: 0.5462180376052856, lr: 0.004996001199840008\n",
      "Epoch: 4, it: 8500, loss: 0.5305885672569275, lr: 0.004996001199840008\n",
      "Epoch: 4, it: 8600, loss: 0.5350747108459473, lr: 0.004996001199840008\n",
      "Epoch: 4, it: 8700, loss: 0.5318063497543335, lr: 0.004996001199840008\n",
      "Epoch: 4, it: 8800, loss: 0.5494994521141052, lr: 0.004996001199840008\n",
      "Epoch: 4, it: 8900, loss: 0.545536994934082, lr: 0.004996001199840008\n",
      "Epoch: 4, it: 9000, loss: 0.5426455736160278, lr: 0.004996001199840008\n",
      "Epoch: 4, it: 9100, loss: 0.5501728653907776, lr: 0.004996001199840008\n",
      "Epoch: 4, it: 9200, loss: 0.5387986898422241, lr: 0.004996001199840008\n",
      "Epoch: 4, it: 9300, loss: 0.5479618906974792, lr: 0.004996001199840008\n",
      "Epoch: 4, it: 9400, loss: 0.5486010909080505, lr: 0.004996001199840008\n",
      "Epoch: 5, it: 9500, loss: 0.5114142298698425, lr: 0.0049950019996000405\n",
      "Epoch: 5, it: 9600, loss: 0.5112309455871582, lr: 0.0049950019996000405\n",
      "Epoch: 5, it: 9700, loss: 0.513672947883606, lr: 0.0049950019996000405\n",
      "Epoch: 5, it: 9800, loss: 0.519879937171936, lr: 0.0049950019996000405\n",
      "Epoch: 5, it: 9900, loss: 0.513740062713623, lr: 0.0049950019996000405\n",
      "Epoch: 5, it: 10000, loss: 0.5251419544219971, lr: 0.0049950019996000405\n",
      "Epoch: 5, it: 10100, loss: 0.5344158411026001, lr: 0.0049950019996000405\n",
      "Epoch: 5, it: 10200, loss: 0.5355576872825623, lr: 0.0049950019996000405\n",
      "Epoch: 5, it: 10300, loss: 0.5392193794250488, lr: 0.0049950019996000405\n",
      "Epoch: 5, it: 10400, loss: 0.5288228988647461, lr: 0.0049950019996000405\n",
      "Epoch: 5, it: 10500, loss: 0.5282185077667236, lr: 0.0049950019996000405\n",
      "Epoch: 5, it: 10600, loss: 0.531609296798706, lr: 0.0049950019996000405\n",
      "Epoch: 5, it: 10700, loss: 0.5373265147209167, lr: 0.0049950019996000405\n",
      "Epoch: 5, it: 10800, loss: 0.5388388633728027, lr: 0.0049950019996000405\n",
      "Epoch: 5, it: 10900, loss: 0.544108510017395, lr: 0.0049950019996000405\n",
      "Epoch: 5, it: 11000, loss: 0.5415008068084717, lr: 0.0049950019996000405\n",
      "Epoch: 5, it: 11100, loss: 0.5348993539810181, lr: 0.0049950019996000405\n",
      "Epoch: 5, it: 11200, loss: 0.5500361323356628, lr: 0.0049950019996000405\n",
      "Epoch: 5, it: 11300, loss: 0.5504999160766602, lr: 0.0049950019996000405\n",
      "Epoch: 6, it: 11400, loss: 0.5103409886360168, lr: 0.004994002999200121\n",
      "Epoch: 6, it: 11500, loss: 0.5095629692077637, lr: 0.004994002999200121\n",
      "Epoch: 6, it: 11600, loss: 0.5083465576171875, lr: 0.004994002999200121\n",
      "Epoch: 6, it: 11700, loss: 0.5146129131317139, lr: 0.004994002999200121\n",
      "Epoch: 6, it: 11800, loss: 0.5153512954711914, lr: 0.004994002999200121\n",
      "Epoch: 6, it: 11900, loss: 0.516771674156189, lr: 0.004994002999200121\n",
      "Epoch: 6, it: 12000, loss: 0.5337904095649719, lr: 0.004994002999200121\n",
      "Epoch: 6, it: 12100, loss: 0.5378515720367432, lr: 0.004994002999200121\n",
      "Epoch: 6, it: 12200, loss: 0.5169605016708374, lr: 0.004994002999200121\n",
      "Epoch: 6, it: 12300, loss: 0.5364359617233276, lr: 0.004994002999200121\n",
      "Epoch: 6, it: 12400, loss: 0.530204713344574, lr: 0.004994002999200121\n",
      "Epoch: 6, it: 12500, loss: 0.544469952583313, lr: 0.004994002999200121\n",
      "Epoch: 6, it: 12600, loss: 0.534294843673706, lr: 0.004994002999200121\n",
      "Epoch: 6, it: 12700, loss: 0.5334393978118896, lr: 0.004994002999200121\n",
      "Epoch: 6, it: 12800, loss: 0.5410409569740295, lr: 0.004994002999200121\n",
      "Epoch: 6, it: 12900, loss: 0.5364428162574768, lr: 0.004994002999200121\n",
      "Epoch: 6, it: 13000, loss: 0.5368052124977112, lr: 0.004994002999200121\n",
      "Epoch: 6, it: 13100, loss: 0.5433437824249268, lr: 0.004994002999200121\n",
      "Epoch: 7, it: 13200, loss: 0.5028406977653503, lr: 0.004993004198600281\n",
      "Epoch: 7, it: 13300, loss: 0.5054036378860474, lr: 0.004993004198600281\n",
      "Epoch: 7, it: 13400, loss: 0.5138816237449646, lr: 0.004993004198600281\n",
      "Epoch: 7, it: 13500, loss: 0.5203831791877747, lr: 0.004993004198600281\n",
      "Epoch: 7, it: 13600, loss: 0.5144621729850769, lr: 0.004993004198600281\n",
      "Epoch: 7, it: 13700, loss: 0.5177801251411438, lr: 0.004993004198600281\n",
      "Epoch: 7, it: 13800, loss: 0.5127187967300415, lr: 0.004993004198600281\n",
      "Epoch: 7, it: 13900, loss: 0.5371445417404175, lr: 0.004993004198600281\n",
      "Epoch: 7, it: 14000, loss: 0.5330848097801208, lr: 0.004993004198600281\n",
      "Epoch: 7, it: 14100, loss: 0.5163508653640747, lr: 0.004993004198600281\n",
      "Epoch: 7, it: 14200, loss: 0.5312056541442871, lr: 0.004993004198600281\n",
      "Epoch: 7, it: 14300, loss: 0.5325309038162231, lr: 0.004993004198600281\n",
      "Epoch: 7, it: 14400, loss: 0.5277835130691528, lr: 0.004993004198600281\n",
      "Epoch: 7, it: 14500, loss: 0.5343774557113647, lr: 0.004993004198600281\n",
      "Epoch: 7, it: 14600, loss: 0.5225551128387451, lr: 0.004993004198600281\n",
      "Epoch: 7, it: 14700, loss: 0.5362409353256226, lr: 0.004993004198600281\n",
      "Epoch: 7, it: 14800, loss: 0.5272284150123596, lr: 0.004993004198600281\n",
      "Epoch: 7, it: 14900, loss: 0.5309188961982727, lr: 0.004993004198600281\n",
      "Epoch: 7, it: 15000, loss: 0.5428177118301392, lr: 0.004993004198600281\n",
      "Epoch: 8, it: 15100, loss: 0.4929056763648987, lr: 0.004992005597760561\n",
      "Epoch: 8, it: 15200, loss: 0.5000718832015991, lr: 0.004992005597760561\n",
      "Epoch: 8, it: 15300, loss: 0.5109471082687378, lr: 0.004992005597760561\n",
      "Epoch: 8, it: 15400, loss: 0.5191234350204468, lr: 0.004992005597760561\n",
      "Epoch: 8, it: 15500, loss: 0.5047059059143066, lr: 0.004992005597760561\n",
      "Epoch: 8, it: 15600, loss: 0.5212701559066772, lr: 0.004992005597760561\n",
      "Epoch: 8, it: 15700, loss: 0.5215027928352356, lr: 0.004992005597760561\n",
      "Epoch: 8, it: 15800, loss: 0.5275780558586121, lr: 0.004992005597760561\n",
      "Epoch: 8, it: 15900, loss: 0.5180516839027405, lr: 0.004992005597760561\n",
      "Epoch: 8, it: 16000, loss: 0.5243821740150452, lr: 0.004992005597760561\n",
      "Epoch: 8, it: 16100, loss: 0.5237008333206177, lr: 0.004992005597760561\n",
      "Epoch: 8, it: 16200, loss: 0.526579737663269, lr: 0.004992005597760561\n",
      "Epoch: 8, it: 16300, loss: 0.5186917781829834, lr: 0.004992005597760561\n",
      "Epoch: 8, it: 16400, loss: 0.5300581455230713, lr: 0.004992005597760561\n",
      "Epoch: 8, it: 16500, loss: 0.5337958335876465, lr: 0.004992005597760561\n",
      "Epoch: 8, it: 16600, loss: 0.5369389057159424, lr: 0.004992005597760561\n",
      "Epoch: 8, it: 16700, loss: 0.5381465554237366, lr: 0.004992005597760561\n",
      "Epoch: 8, it: 16800, loss: 0.5353983640670776, lr: 0.004992005597760561\n",
      "Epoch: 8, it: 16900, loss: 0.5354185700416565, lr: 0.004992005597760561\n",
      "Epoch: 9, it: 17000, loss: 0.4974927306175232, lr: 0.004991007196641009\n",
      "Epoch: 9, it: 17100, loss: 0.5063595771789551, lr: 0.004991007196641009\n",
      "Epoch: 9, it: 17200, loss: 0.504159152507782, lr: 0.004991007196641009\n",
      "Epoch: 9, it: 17300, loss: 0.5131322145462036, lr: 0.004991007196641009\n",
      "Epoch: 9, it: 17400, loss: 0.514337420463562, lr: 0.004991007196641009\n",
      "Epoch: 9, it: 17500, loss: 0.5120857357978821, lr: 0.004991007196641009\n",
      "Epoch: 9, it: 17600, loss: 0.5178260207176208, lr: 0.004991007196641009\n",
      "Epoch: 9, it: 17700, loss: 0.5351771116256714, lr: 0.004991007196641009\n",
      "Epoch: 9, it: 17800, loss: 0.5198968648910522, lr: 0.004991007196641009\n",
      "Epoch: 9, it: 17900, loss: 0.5284574627876282, lr: 0.004991007196641009\n",
      "Epoch: 9, it: 18000, loss: 0.5144591927528381, lr: 0.004991007196641009\n",
      "Epoch: 9, it: 18100, loss: 0.5196475386619568, lr: 0.004991007196641009\n",
      "Epoch: 9, it: 18200, loss: 0.5112890005111694, lr: 0.004991007196641009\n",
      "Epoch: 9, it: 18300, loss: 0.5288992524147034, lr: 0.004991007196641009\n",
      "Epoch: 9, it: 18400, loss: 0.5267012119293213, lr: 0.004991007196641009\n",
      "Epoch: 9, it: 18500, loss: 0.5374840497970581, lr: 0.004991007196641009\n",
      "Epoch: 9, it: 18600, loss: 0.5374361276626587, lr: 0.004991007196641009\n",
      "Epoch: 9, it: 18700, loss: 0.529032289981842, lr: 0.004991007196641009\n",
      "Epoch: 9, it: 18800, loss: 0.5336358547210693, lr: 0.004991007196641009\n",
      "Epoch: 10, it: 18900, loss: 0.5067468285560608, lr: 0.004990008995201681\n",
      "Epoch: 10, it: 19000, loss: 0.5130757093429565, lr: 0.004990008995201681\n",
      "Epoch: 10, it: 19100, loss: 0.49923473596572876, lr: 0.004990008995201681\n",
      "Epoch: 10, it: 19200, loss: 0.5053440928459167, lr: 0.004990008995201681\n",
      "Epoch: 10, it: 19300, loss: 0.5184286832809448, lr: 0.004990008995201681\n",
      "Epoch: 10, it: 19400, loss: 0.5259028673171997, lr: 0.004990008995201681\n",
      "Epoch: 10, it: 19500, loss: 0.5171530246734619, lr: 0.004990008995201681\n",
      "Epoch: 10, it: 19600, loss: 0.5208331942558289, lr: 0.004990008995201681\n",
      "Epoch: 10, it: 19700, loss: 0.5205776691436768, lr: 0.004990008995201681\n",
      "Epoch: 10, it: 19800, loss: 0.5227401852607727, lr: 0.004990008995201681\n",
      "Epoch: 10, it: 19900, loss: 0.5388381481170654, lr: 0.004990008995201681\n",
      "Epoch: 10, it: 20000, loss: 0.5422899723052979, lr: 0.004990008995201681\n",
      "Epoch: 10, it: 20100, loss: 0.5253455638885498, lr: 0.004990008995201681\n",
      "Epoch: 10, it: 20200, loss: 0.5222816467285156, lr: 0.004990008995201681\n",
      "Epoch: 10, it: 20300, loss: 0.5208995342254639, lr: 0.004990008995201681\n",
      "Epoch: 10, it: 20400, loss: 0.5186216831207275, lr: 0.004990008995201681\n",
      "Epoch: 10, it: 20500, loss: 0.5513266324996948, lr: 0.004990008995201681\n",
      "Epoch: 10, it: 20600, loss: 0.5292312502861023, lr: 0.004990008995201681\n",
      "Epoch: 10, it: 20700, loss: 0.5309650301933289, lr: 0.004990008995201681\n",
      "Epoch: 11, it: 20800, loss: 0.49463534355163574, lr: 0.004989010993402641\n",
      "Epoch: 11, it: 20900, loss: 0.5036647319793701, lr: 0.004989010993402641\n",
      "Epoch: 11, it: 21000, loss: 0.5088585019111633, lr: 0.004989010993402641\n",
      "Epoch: 11, it: 21100, loss: 0.5078814625740051, lr: 0.004989010993402641\n",
      "Epoch: 11, it: 21200, loss: 0.5170042514801025, lr: 0.004989010993402641\n",
      "Epoch: 11, it: 21300, loss: 0.5130448341369629, lr: 0.004989010993402641\n",
      "Epoch: 11, it: 21400, loss: 0.5197744369506836, lr: 0.004989010993402641\n",
      "Epoch: 11, it: 21500, loss: 0.5245461463928223, lr: 0.004989010993402641\n",
      "Epoch: 11, it: 21600, loss: 0.5199328064918518, lr: 0.004989010993402641\n",
      "Epoch: 11, it: 21700, loss: 0.5203098058700562, lr: 0.004989010993402641\n",
      "Epoch: 11, it: 21800, loss: 0.5249943733215332, lr: 0.004989010993402641\n",
      "Epoch: 11, it: 21900, loss: 0.5221525430679321, lr: 0.004989010993402641\n",
      "Epoch: 11, it: 22000, loss: 0.5280216932296753, lr: 0.004989010993402641\n",
      "Epoch: 11, it: 22100, loss: 0.5295616388320923, lr: 0.004989010993402641\n",
      "Epoch: 11, it: 22200, loss: 0.5363991856575012, lr: 0.004989010993402641\n",
      "Epoch: 11, it: 22300, loss: 0.5308948755264282, lr: 0.004989010993402641\n",
      "Epoch: 11, it: 22400, loss: 0.5259552001953125, lr: 0.004989010993402641\n",
      "Epoch: 11, it: 22500, loss: 0.5353249311447144, lr: 0.004989010993402641\n",
      "Epoch: 11, it: 22600, loss: 0.5191875696182251, lr: 0.004989010993402641\n",
      "Epoch: 12, it: 22700, loss: 0.5014499425888062, lr: 0.00498801319120396\n",
      "Epoch: 12, it: 22800, loss: 0.511680006980896, lr: 0.00498801319120396\n",
      "Epoch: 12, it: 22900, loss: 0.51008141040802, lr: 0.00498801319120396\n",
      "Epoch: 12, it: 23000, loss: 0.5141490697860718, lr: 0.00498801319120396\n",
      "Epoch: 12, it: 23100, loss: 0.5138015747070312, lr: 0.00498801319120396\n",
      "Epoch: 12, it: 23200, loss: 0.516473650932312, lr: 0.00498801319120396\n",
      "Epoch: 12, it: 23300, loss: 0.5115098357200623, lr: 0.00498801319120396\n",
      "Epoch: 12, it: 23400, loss: 0.5114437937736511, lr: 0.00498801319120396\n",
      "Epoch: 12, it: 23500, loss: 0.5211955308914185, lr: 0.00498801319120396\n",
      "Epoch: 12, it: 23600, loss: 0.52292799949646, lr: 0.00498801319120396\n",
      "Epoch: 12, it: 23700, loss: 0.5264034271240234, lr: 0.00498801319120396\n",
      "Epoch: 12, it: 23800, loss: 0.5284822583198547, lr: 0.00498801319120396\n",
      "Epoch: 12, it: 23900, loss: 0.530065655708313, lr: 0.00498801319120396\n",
      "Epoch: 12, it: 24000, loss: 0.5249382257461548, lr: 0.00498801319120396\n",
      "Epoch: 12, it: 24100, loss: 0.528627336025238, lr: 0.00498801319120396\n",
      "Epoch: 12, it: 24200, loss: 0.5281409025192261, lr: 0.00498801319120396\n",
      "Epoch: 12, it: 24300, loss: 0.5228766202926636, lr: 0.00498801319120396\n",
      "Epoch: 12, it: 24400, loss: 0.5283181667327881, lr: 0.00498801319120396\n",
      "Epoch: 13, it: 24500, loss: 0.4977729320526123, lr: 0.00498701558856572\n",
      "Epoch: 13, it: 24600, loss: 0.49935242533683777, lr: 0.00498701558856572\n",
      "Epoch: 13, it: 24700, loss: 0.5061217546463013, lr: 0.00498701558856572\n",
      "Epoch: 13, it: 24800, loss: 0.5009715557098389, lr: 0.00498701558856572\n",
      "Epoch: 13, it: 24900, loss: 0.512860894203186, lr: 0.00498701558856572\n",
      "Epoch: 13, it: 25000, loss: 0.5115482807159424, lr: 0.00498701558856572\n",
      "Epoch: 13, it: 25100, loss: 0.5140367746353149, lr: 0.00498701558856572\n",
      "Epoch: 13, it: 25200, loss: 0.5231099128723145, lr: 0.00498701558856572\n",
      "Epoch: 13, it: 25300, loss: 0.5199809670448303, lr: 0.00498701558856572\n",
      "Epoch: 13, it: 25400, loss: 0.5237289071083069, lr: 0.00498701558856572\n",
      "Epoch: 13, it: 25500, loss: 0.5143047571182251, lr: 0.00498701558856572\n",
      "Epoch: 13, it: 25600, loss: 0.5275901556015015, lr: 0.00498701558856572\n",
      "Epoch: 13, it: 25700, loss: 0.5290212631225586, lr: 0.00498701558856572\n",
      "Epoch: 13, it: 25800, loss: 0.515497624874115, lr: 0.00498701558856572\n",
      "Epoch: 13, it: 25900, loss: 0.5338410139083862, lr: 0.00498701558856572\n",
      "Epoch: 13, it: 26000, loss: 0.5212160348892212, lr: 0.00498701558856572\n",
      "Epoch: 13, it: 26100, loss: 0.524993896484375, lr: 0.00498701558856572\n",
      "Epoch: 13, it: 26200, loss: 0.5303728580474854, lr: 0.00498701558856572\n",
      "Epoch: 13, it: 26300, loss: 0.5264983773231506, lr: 0.00498701558856572\n",
      "Epoch: 14, it: 26400, loss: 0.49967965483665466, lr: 0.004986018185448006\n",
      "Epoch: 14, it: 26500, loss: 0.49832192063331604, lr: 0.004986018185448006\n",
      "Epoch: 14, it: 26600, loss: 0.5007167458534241, lr: 0.004986018185448006\n",
      "Epoch: 14, it: 26700, loss: 0.5061522126197815, lr: 0.004986018185448006\n",
      "Epoch: 14, it: 26800, loss: 0.5192185640335083, lr: 0.004986018185448006\n",
      "Epoch: 14, it: 26900, loss: 0.5214046239852905, lr: 0.004986018185448006\n",
      "Epoch: 14, it: 27000, loss: 0.5017561912536621, lr: 0.004986018185448006\n",
      "Epoch: 14, it: 27100, loss: 0.5258113741874695, lr: 0.004986018185448006\n",
      "Epoch: 14, it: 27200, loss: 0.5170649290084839, lr: 0.004986018185448006\n",
      "Epoch: 14, it: 27300, loss: 0.5153140425682068, lr: 0.004986018185448006\n",
      "Epoch: 14, it: 27400, loss: 0.5234171152114868, lr: 0.004986018185448006\n",
      "Epoch: 14, it: 27500, loss: 0.5173722505569458, lr: 0.004986018185448006\n",
      "Epoch: 14, it: 27600, loss: 0.5311605930328369, lr: 0.004986018185448006\n",
      "Epoch: 14, it: 27700, loss: 0.5202186107635498, lr: 0.004986018185448006\n",
      "Epoch: 14, it: 27800, loss: 0.5277584195137024, lr: 0.004986018185448006\n",
      "Epoch: 14, it: 27900, loss: 0.5200550556182861, lr: 0.004986018185448006\n",
      "Epoch: 14, it: 28000, loss: 0.5249919891357422, lr: 0.004986018185448006\n",
      "Epoch: 14, it: 28100, loss: 0.5365869998931885, lr: 0.004986018185448006\n",
      "Epoch: 14, it: 28200, loss: 0.5204424858093262, lr: 0.004986018185448006\n",
      "Epoch: 15, it: 28300, loss: 0.5025666952133179, lr: 0.004985020981810917\n",
      "Epoch: 15, it: 28400, loss: 0.4993184804916382, lr: 0.004985020981810917\n",
      "Epoch: 15, it: 28500, loss: 0.5067750215530396, lr: 0.004985020981810917\n",
      "Epoch: 15, it: 28600, loss: 0.5007728934288025, lr: 0.004985020981810917\n",
      "Epoch: 15, it: 28700, loss: 0.5046358108520508, lr: 0.004985020981810917\n",
      "Epoch: 15, it: 28800, loss: 0.5043509006500244, lr: 0.004985020981810917\n",
      "Epoch: 15, it: 28900, loss: 0.5093517899513245, lr: 0.004985020981810917\n",
      "Epoch: 15, it: 29000, loss: 0.5214496850967407, lr: 0.004985020981810917\n",
      "Epoch: 15, it: 29100, loss: 0.5142673850059509, lr: 0.004985020981810917\n",
      "Epoch: 15, it: 29200, loss: 0.5210686922073364, lr: 0.004985020981810917\n",
      "Epoch: 15, it: 29300, loss: 0.5223045945167542, lr: 0.004985020981810917\n",
      "Epoch: 15, it: 29400, loss: 0.5239618420600891, lr: 0.004985020981810917\n",
      "Epoch: 15, it: 29500, loss: 0.5197849869728088, lr: 0.004985020981810917\n",
      "Epoch: 15, it: 29600, loss: 0.5188639760017395, lr: 0.004985020981810917\n",
      "Epoch: 15, it: 29700, loss: 0.5301735997200012, lr: 0.004985020981810917\n",
      "Epoch: 15, it: 29800, loss: 0.5305562019348145, lr: 0.004985020981810917\n",
      "Epoch: 15, it: 29900, loss: 0.5376170873641968, lr: 0.004985020981810917\n",
      "Epoch: 15, it: 30000, loss: 0.5334810018539429, lr: 0.004985020981810917\n",
      "Epoch: 15, it: 30100, loss: 0.5271598100662231, lr: 0.004985020981810917\n",
      "Epoch: 16, it: 30200, loss: 0.4953109323978424, lr: 0.004984023977614555\n",
      "Epoch: 16, it: 30300, loss: 0.5043049454689026, lr: 0.004984023977614555\n",
      "Epoch: 16, it: 30400, loss: 0.5094177722930908, lr: 0.004984023977614555\n",
      "Epoch: 16, it: 30500, loss: 0.508800745010376, lr: 0.004984023977614555\n",
      "Epoch: 16, it: 30600, loss: 0.5061793327331543, lr: 0.004984023977614555\n",
      "Epoch: 16, it: 30700, loss: 0.510725736618042, lr: 0.004984023977614555\n",
      "Epoch: 16, it: 30800, loss: 0.5126842856407166, lr: 0.004984023977614555\n",
      "Epoch: 16, it: 30900, loss: 0.51357102394104, lr: 0.004984023977614555\n",
      "Epoch: 16, it: 31000, loss: 0.5179229974746704, lr: 0.004984023977614555\n",
      "Epoch: 16, it: 31100, loss: 0.5355570316314697, lr: 0.004984023977614555\n",
      "Epoch: 16, it: 31200, loss: 0.5263373255729675, lr: 0.004984023977614555\n",
      "Epoch: 16, it: 31300, loss: 0.51502525806427, lr: 0.004984023977614555\n",
      "Epoch: 16, it: 31400, loss: 0.5193501114845276, lr: 0.004984023977614555\n",
      "Epoch: 16, it: 31500, loss: 0.5319210290908813, lr: 0.004984023977614555\n",
      "Epoch: 16, it: 31600, loss: 0.5142196416854858, lr: 0.004984023977614555\n",
      "Epoch: 16, it: 31700, loss: 0.5220589637756348, lr: 0.004984023977614555\n",
      "Epoch: 16, it: 31800, loss: 0.5357640981674194, lr: 0.004984023977614555\n",
      "Epoch: 16, it: 31900, loss: 0.5319855213165283, lr: 0.004984023977614555\n",
      "Epoch: 16, it: 32000, loss: 0.5245643854141235, lr: 0.004984023977614555\n",
      "Epoch: 17, it: 32100, loss: 0.49885794520378113, lr: 0.004983027172819032\n",
      "Epoch: 17, it: 32200, loss: 0.5046744346618652, lr: 0.004983027172819032\n",
      "Epoch: 17, it: 32300, loss: 0.5135042667388916, lr: 0.004983027172819032\n",
      "Epoch: 17, it: 32400, loss: 0.5170567035675049, lr: 0.004983027172819032\n",
      "Epoch: 17, it: 32500, loss: 0.5137388110160828, lr: 0.004983027172819032\n",
      "Epoch: 17, it: 32600, loss: 0.515558123588562, lr: 0.004983027172819032\n",
      "Epoch: 17, it: 32700, loss: 0.5144428014755249, lr: 0.004983027172819032\n",
      "Epoch: 17, it: 32800, loss: 0.5217664241790771, lr: 0.004983027172819032\n",
      "Epoch: 17, it: 32900, loss: 0.5237014293670654, lr: 0.004983027172819032\n",
      "Epoch: 17, it: 33000, loss: 0.5271898508071899, lr: 0.004983027172819032\n",
      "Epoch: 17, it: 33100, loss: 0.5298582315444946, lr: 0.004983027172819032\n",
      "Epoch: 17, it: 33200, loss: 0.5231602787971497, lr: 0.004983027172819032\n",
      "Epoch: 17, it: 33300, loss: 0.5140506029129028, lr: 0.004983027172819032\n",
      "Epoch: 17, it: 33400, loss: 0.5119386911392212, lr: 0.004983027172819032\n",
      "Epoch: 17, it: 33500, loss: 0.5197036266326904, lr: 0.004983027172819032\n",
      "Epoch: 17, it: 33600, loss: 0.529883623123169, lr: 0.004983027172819032\n",
      "Epoch: 17, it: 33700, loss: 0.5260199308395386, lr: 0.004983027172819032\n",
      "Epoch: 17, it: 33800, loss: 0.5279808044433594, lr: 0.004983027172819032\n",
      "Epoch: 17, it: 33900, loss: 0.5327752828598022, lr: 0.004983027172819032\n",
      "Epoch: 18, it: 34000, loss: 0.49398067593574524, lr: 0.0049820305673844685\n",
      "Epoch: 18, it: 34100, loss: 0.5142091512680054, lr: 0.0049820305673844685\n",
      "Epoch: 18, it: 34200, loss: 0.5038435459136963, lr: 0.0049820305673844685\n",
      "Epoch: 18, it: 34300, loss: 0.5180975198745728, lr: 0.0049820305673844685\n",
      "Epoch: 18, it: 34400, loss: 0.509507417678833, lr: 0.0049820305673844685\n",
      "Epoch: 18, it: 34500, loss: 0.512505292892456, lr: 0.0049820305673844685\n",
      "Epoch: 18, it: 34600, loss: 0.5175333023071289, lr: 0.0049820305673844685\n",
      "Epoch: 18, it: 34700, loss: 0.5134519338607788, lr: 0.0049820305673844685\n",
      "Epoch: 18, it: 34800, loss: 0.5203945636749268, lr: 0.0049820305673844685\n",
      "Epoch: 18, it: 34900, loss: 0.5124112367630005, lr: 0.0049820305673844685\n",
      "Epoch: 18, it: 35000, loss: 0.5224418640136719, lr: 0.0049820305673844685\n",
      "Epoch: 18, it: 35100, loss: 0.5168541669845581, lr: 0.0049820305673844685\n",
      "Epoch: 18, it: 35200, loss: 0.5168320536613464, lr: 0.0049820305673844685\n",
      "Epoch: 18, it: 35300, loss: 0.5165560245513916, lr: 0.0049820305673844685\n",
      "Epoch: 18, it: 35400, loss: 0.5218312740325928, lr: 0.0049820305673844685\n",
      "Epoch: 18, it: 35500, loss: 0.5200875997543335, lr: 0.0049820305673844685\n",
      "Epoch: 18, it: 35600, loss: 0.5300543308258057, lr: 0.0049820305673844685\n",
      "Epoch: 18, it: 35700, loss: 0.5222984552383423, lr: 0.0049820305673844685\n",
      "Epoch: 19, it: 35800, loss: 0.5127422213554382, lr: 0.004981034161270991\n",
      "Epoch: 19, it: 35900, loss: 0.4859526455402374, lr: 0.004981034161270991\n",
      "Epoch: 19, it: 36000, loss: 0.5001973509788513, lr: 0.004981034161270991\n",
      "Epoch: 19, it: 36100, loss: 0.5105421543121338, lr: 0.004981034161270991\n",
      "Epoch: 19, it: 36200, loss: 0.5132413506507874, lr: 0.004981034161270991\n",
      "Epoch: 19, it: 36300, loss: 0.5060545802116394, lr: 0.004981034161270991\n",
      "Epoch: 19, it: 36400, loss: 0.5069141387939453, lr: 0.004981034161270991\n",
      "Epoch: 19, it: 36500, loss: 0.503217875957489, lr: 0.004981034161270991\n",
      "Epoch: 19, it: 36600, loss: 0.5024144053459167, lr: 0.004981034161270991\n",
      "Epoch: 19, it: 36700, loss: 0.5285018682479858, lr: 0.004981034161270991\n",
      "Epoch: 19, it: 36800, loss: 0.5170159935951233, lr: 0.004981034161270991\n",
      "Epoch: 19, it: 36900, loss: 0.5178818702697754, lr: 0.004981034161270991\n",
      "Epoch: 19, it: 37000, loss: 0.5269993543624878, lr: 0.004981034161270991\n",
      "Epoch: 19, it: 37100, loss: 0.5240376591682434, lr: 0.004981034161270991\n",
      "Epoch: 19, it: 37200, loss: 0.5287660360336304, lr: 0.004981034161270991\n",
      "Epoch: 19, it: 37300, loss: 0.5185943841934204, lr: 0.004981034161270991\n",
      "Epoch: 19, it: 37400, loss: 0.535940408706665, lr: 0.004981034161270991\n",
      "Epoch: 19, it: 37500, loss: 0.5188196301460266, lr: 0.004981034161270991\n",
      "Epoch: 19, it: 37600, loss: 0.5331134796142578, lr: 0.004981034161270991\n",
      "Epoch: 20, it: 37700, loss: 0.48732098937034607, lr: 0.004980037954438738\n",
      "Epoch: 20, it: 37800, loss: 0.5125643014907837, lr: 0.004980037954438738\n",
      "Epoch: 20, it: 37900, loss: 0.5035858154296875, lr: 0.004980037954438738\n",
      "Epoch: 20, it: 38000, loss: 0.5158486366271973, lr: 0.004980037954438738\n",
      "Epoch: 20, it: 38100, loss: 0.5050352811813354, lr: 0.004980037954438738\n",
      "Epoch: 20, it: 38200, loss: 0.4993492364883423, lr: 0.004980037954438738\n",
      "Epoch: 20, it: 38300, loss: 0.5087679028511047, lr: 0.004980037954438738\n",
      "Epoch: 20, it: 38400, loss: 0.53082674741745, lr: 0.004980037954438738\n",
      "Epoch: 20, it: 38500, loss: 0.5073864459991455, lr: 0.004980037954438738\n",
      "Epoch: 20, it: 38600, loss: 0.5214581489562988, lr: 0.004980037954438738\n",
      "Epoch: 20, it: 38700, loss: 0.5156288146972656, lr: 0.004980037954438738\n",
      "Epoch: 20, it: 38800, loss: 0.5147840976715088, lr: 0.004980037954438738\n",
      "Epoch: 20, it: 38900, loss: 0.5281062126159668, lr: 0.004980037954438738\n",
      "Epoch: 20, it: 39000, loss: 0.5273884534835815, lr: 0.004980037954438738\n",
      "Epoch: 20, it: 39100, loss: 0.5228902101516724, lr: 0.004980037954438738\n",
      "Epoch: 20, it: 39200, loss: 0.5255705714225769, lr: 0.004980037954438738\n",
      "Epoch: 20, it: 39300, loss: 0.5281851291656494, lr: 0.004980037954438738\n",
      "Epoch: 20, it: 39400, loss: 0.5261943936347961, lr: 0.004980037954438738\n",
      "Epoch: 20, it: 39500, loss: 0.5209192037582397, lr: 0.004980037954438738\n",
      "Epoch: 21, it: 39600, loss: 0.5008812546730042, lr: 0.00497904194684785\n",
      "Epoch: 21, it: 39700, loss: 0.49666884541511536, lr: 0.00497904194684785\n",
      "Epoch: 21, it: 39800, loss: 0.5012444257736206, lr: 0.00497904194684785\n",
      "Epoch: 21, it: 39900, loss: 0.5029070973396301, lr: 0.00497904194684785\n",
      "Epoch: 21, it: 40000, loss: 0.5105464458465576, lr: 0.00497904194684785\n",
      "Epoch: 21, it: 40100, loss: 0.5077316164970398, lr: 0.00497904194684785\n",
      "Epoch: 21, it: 40200, loss: 0.5238000154495239, lr: 0.00497904194684785\n",
      "Epoch: 21, it: 40300, loss: 0.5205932259559631, lr: 0.00497904194684785\n",
      "Epoch: 21, it: 40400, loss: 0.5100805163383484, lr: 0.00497904194684785\n",
      "Epoch: 21, it: 40500, loss: 0.5023615956306458, lr: 0.00497904194684785\n",
      "Epoch: 21, it: 40600, loss: 0.5211102962493896, lr: 0.00497904194684785\n",
      "Epoch: 21, it: 40700, loss: 0.5208352208137512, lr: 0.00497904194684785\n",
      "Epoch: 21, it: 40800, loss: 0.5165016651153564, lr: 0.00497904194684785\n",
      "Epoch: 21, it: 40900, loss: 0.5141205787658691, lr: 0.00497904194684785\n",
      "Epoch: 21, it: 41000, loss: 0.5209161043167114, lr: 0.00497904194684785\n",
      "Epoch: 21, it: 41100, loss: 0.5229779481887817, lr: 0.00497904194684785\n",
      "Epoch: 21, it: 41200, loss: 0.5320354700088501, lr: 0.00497904194684785\n",
      "Epoch: 21, it: 41300, loss: 0.5242879390716553, lr: 0.00497904194684785\n",
      "Epoch: 21, it: 41400, loss: 0.5352538824081421, lr: 0.00497904194684785\n",
      "Epoch: 22, it: 41500, loss: 0.48965004086494446, lr: 0.00497804613845848\n",
      "Epoch: 22, it: 41600, loss: 0.5018607378005981, lr: 0.00497804613845848\n",
      "Epoch: 22, it: 41700, loss: 0.49485713243484497, lr: 0.00497804613845848\n",
      "Epoch: 22, it: 41800, loss: 0.5085277557373047, lr: 0.00497804613845848\n",
      "Epoch: 22, it: 41900, loss: 0.5084042549133301, lr: 0.00497804613845848\n",
      "Epoch: 22, it: 42000, loss: 0.5080807209014893, lr: 0.00497804613845848\n",
      "Epoch: 22, it: 42100, loss: 0.5186054706573486, lr: 0.00497804613845848\n",
      "Epoch: 22, it: 42200, loss: 0.5082547664642334, lr: 0.00497804613845848\n",
      "Epoch: 22, it: 42300, loss: 0.5175448060035706, lr: 0.00497804613845848\n",
      "Epoch: 22, it: 42400, loss: 0.5162734985351562, lr: 0.00497804613845848\n",
      "Epoch: 22, it: 42500, loss: 0.516900897026062, lr: 0.00497804613845848\n",
      "Epoch: 22, it: 42600, loss: 0.5163414478302002, lr: 0.00497804613845848\n",
      "Epoch: 22, it: 42700, loss: 0.5265408754348755, lr: 0.00497804613845848\n",
      "Epoch: 22, it: 42800, loss: 0.5155195593833923, lr: 0.00497804613845848\n",
      "Epoch: 22, it: 42900, loss: 0.5222415924072266, lr: 0.00497804613845848\n",
      "Epoch: 22, it: 43000, loss: 0.5331827402114868, lr: 0.00497804613845848\n",
      "Epoch: 22, it: 43100, loss: 0.5345930457115173, lr: 0.00497804613845848\n",
      "Epoch: 22, it: 43200, loss: 0.5315654277801514, lr: 0.00497804613845848\n",
      "Epoch: 22, it: 43300, loss: 0.5315950512886047, lr: 0.00497804613845848\n",
      "Epoch: 23, it: 43400, loss: 0.5002859234809875, lr: 0.004977050529230789\n",
      "Epoch: 23, it: 43500, loss: 0.4980831444263458, lr: 0.004977050529230789\n",
      "Epoch: 23, it: 43600, loss: 0.5061647891998291, lr: 0.004977050529230789\n",
      "Epoch: 23, it: 43700, loss: 0.5174942016601562, lr: 0.004977050529230789\n",
      "Epoch: 23, it: 43800, loss: 0.5165010690689087, lr: 0.004977050529230789\n",
      "Epoch: 23, it: 43900, loss: 0.5144582986831665, lr: 0.004977050529230789\n",
      "Epoch: 23, it: 44000, loss: 0.5179285407066345, lr: 0.004977050529230789\n",
      "Epoch: 23, it: 44100, loss: 0.5113363265991211, lr: 0.004977050529230789\n",
      "Epoch: 23, it: 44200, loss: 0.5157604217529297, lr: 0.004977050529230789\n",
      "Epoch: 23, it: 44300, loss: 0.5094999074935913, lr: 0.004977050529230789\n",
      "Epoch: 23, it: 44400, loss: 0.5187579393386841, lr: 0.004977050529230789\n",
      "Epoch: 23, it: 44500, loss: 0.5245664715766907, lr: 0.004977050529230789\n",
      "Epoch: 23, it: 44600, loss: 0.5326606035232544, lr: 0.004977050529230789\n",
      "Epoch: 23, it: 44700, loss: 0.5225003361701965, lr: 0.004977050529230789\n",
      "Epoch: 23, it: 44800, loss: 0.5225335359573364, lr: 0.004977050529230789\n",
      "Epoch: 23, it: 44900, loss: 0.5367223024368286, lr: 0.004977050529230789\n",
      "Epoch: 23, it: 45000, loss: 0.5194269418716431, lr: 0.004977050529230789\n",
      "Epoch: 23, it: 45100, loss: 0.534172534942627, lr: 0.004977050529230789\n",
      "Epoch: 23, it: 45200, loss: 0.5461370944976807, lr: 0.004977050529230789\n",
      "Epoch: 24, it: 45300, loss: 0.4975152015686035, lr: 0.004976055119124943\n",
      "Epoch: 24, it: 45400, loss: 0.4963682293891907, lr: 0.004976055119124943\n",
      "Epoch: 24, it: 45500, loss: 0.5071238875389099, lr: 0.004976055119124943\n",
      "Epoch: 24, it: 45600, loss: 0.5088557004928589, lr: 0.004976055119124943\n",
      "Epoch: 24, it: 45700, loss: 0.5016433000564575, lr: 0.004976055119124943\n",
      "Epoch: 24, it: 45800, loss: 0.5027057528495789, lr: 0.004976055119124943\n",
      "Epoch: 24, it: 45900, loss: 0.505908727645874, lr: 0.004976055119124943\n",
      "Epoch: 24, it: 46000, loss: 0.5114052295684814, lr: 0.004976055119124943\n",
      "Epoch: 24, it: 46100, loss: 0.5286014080047607, lr: 0.004976055119124943\n",
      "Epoch: 24, it: 46200, loss: 0.518150806427002, lr: 0.004976055119124943\n",
      "Epoch: 24, it: 46300, loss: 0.5194487571716309, lr: 0.004976055119124943\n",
      "Epoch: 24, it: 46400, loss: 0.5273972749710083, lr: 0.004976055119124943\n",
      "Epoch: 24, it: 46500, loss: 0.5193697214126587, lr: 0.004976055119124943\n",
      "Epoch: 24, it: 46600, loss: 0.5298839807510376, lr: 0.004976055119124943\n",
      "Epoch: 24, it: 46700, loss: 0.5310238599777222, lr: 0.004976055119124943\n",
      "Epoch: 24, it: 46800, loss: 0.5237060785293579, lr: 0.004976055119124943\n",
      "Epoch: 24, it: 46900, loss: 0.5247533321380615, lr: 0.004976055119124943\n",
      "Epoch: 24, it: 47000, loss: 0.5263411998748779, lr: 0.004976055119124943\n",
      "Epoch: 24, it: 47100, loss: 0.5236361622810364, lr: 0.004976055119124943\n",
      "Epoch: 25, it: 47200, loss: 0.4943779408931732, lr: 0.004975059908101118\n",
      "Epoch: 25, it: 47300, loss: 0.5068865418434143, lr: 0.004975059908101118\n",
      "Epoch: 25, it: 47400, loss: 0.5058053135871887, lr: 0.004975059908101118\n",
      "Epoch: 25, it: 47500, loss: 0.5066337585449219, lr: 0.004975059908101118\n",
      "Epoch: 25, it: 47600, loss: 0.5159512758255005, lr: 0.004975059908101118\n",
      "Epoch: 25, it: 47700, loss: 0.5187360644340515, lr: 0.004975059908101118\n",
      "Epoch: 25, it: 47800, loss: 0.5149292945861816, lr: 0.004975059908101118\n",
      "Epoch: 25, it: 47900, loss: 0.517444372177124, lr: 0.004975059908101118\n",
      "Epoch: 25, it: 48000, loss: 0.5133427977561951, lr: 0.004975059908101118\n",
      "Epoch: 25, it: 48100, loss: 0.5217978954315186, lr: 0.004975059908101118\n",
      "Epoch: 25, it: 48200, loss: 0.509390115737915, lr: 0.004975059908101118\n",
      "Epoch: 25, it: 48300, loss: 0.5221741199493408, lr: 0.004975059908101118\n",
      "Epoch: 25, it: 48400, loss: 0.5236561894416809, lr: 0.004975059908101118\n",
      "Epoch: 25, it: 48500, loss: 0.5287866592407227, lr: 0.004975059908101118\n",
      "Epoch: 25, it: 48600, loss: 0.5202854871749878, lr: 0.004975059908101118\n",
      "Epoch: 25, it: 48700, loss: 0.5197672843933105, lr: 0.004975059908101118\n",
      "Epoch: 25, it: 48800, loss: 0.5265079140663147, lr: 0.004975059908101118\n",
      "Epoch: 25, it: 48900, loss: 0.5136760473251343, lr: 0.004975059908101118\n",
      "Epoch: 26, it: 49000, loss: 0.4953821301460266, lr: 0.0049740648961194974\n",
      "Epoch: 26, it: 49100, loss: 0.497882604598999, lr: 0.0049740648961194974\n",
      "Epoch: 26, it: 49200, loss: 0.5024820566177368, lr: 0.0049740648961194974\n",
      "Epoch: 26, it: 49300, loss: 0.5068426132202148, lr: 0.0049740648961194974\n",
      "Epoch: 26, it: 49400, loss: 0.5054982900619507, lr: 0.0049740648961194974\n",
      "Epoch: 26, it: 49500, loss: 0.5083865523338318, lr: 0.0049740648961194974\n",
      "Epoch: 26, it: 49600, loss: 0.5137617588043213, lr: 0.0049740648961194974\n",
      "Epoch: 26, it: 49700, loss: 0.513131856918335, lr: 0.0049740648961194974\n",
      "Epoch: 26, it: 49800, loss: 0.5169185996055603, lr: 0.0049740648961194974\n",
      "Epoch: 26, it: 49900, loss: 0.516325056552887, lr: 0.0049740648961194974\n",
      "Epoch: 26, it: 50000, loss: 0.5076428651809692, lr: 0.0049740648961194974\n",
      "Epoch: 26, it: 50100, loss: 0.5212490558624268, lr: 0.0049740648961194974\n",
      "Epoch: 26, it: 50200, loss: 0.5151869058609009, lr: 0.0049740648961194974\n",
      "Epoch: 26, it: 50300, loss: 0.516135573387146, lr: 0.0049740648961194974\n",
      "Epoch: 26, it: 50400, loss: 0.518951416015625, lr: 0.0049740648961194974\n",
      "Epoch: 26, it: 50500, loss: 0.5281386375427246, lr: 0.0049740648961194974\n",
      "Epoch: 26, it: 50600, loss: 0.5310899615287781, lr: 0.0049740648961194974\n",
      "Epoch: 26, it: 50700, loss: 0.5250641107559204, lr: 0.0049740648961194974\n",
      "Epoch: 26, it: 50800, loss: 0.5317617654800415, lr: 0.0049740648961194974\n",
      "Epoch: 27, it: 50900, loss: 0.49300888180732727, lr: 0.004973070083140275\n",
      "Epoch: 27, it: 51000, loss: 0.5052773952484131, lr: 0.004973070083140275\n",
      "Epoch: 27, it: 51100, loss: 0.4996155798435211, lr: 0.004973070083140275\n",
      "Epoch: 27, it: 51200, loss: 0.5048716068267822, lr: 0.004973070083140275\n",
      "Epoch: 27, it: 51300, loss: 0.49571511149406433, lr: 0.004973070083140275\n",
      "Epoch: 27, it: 51400, loss: 0.49740371108055115, lr: 0.004973070083140275\n",
      "Epoch: 27, it: 51500, loss: 0.5108087658882141, lr: 0.004973070083140275\n",
      "Epoch: 27, it: 51600, loss: 0.5087008476257324, lr: 0.004973070083140275\n",
      "Epoch: 27, it: 51700, loss: 0.5149325132369995, lr: 0.004973070083140275\n",
      "Epoch: 27, it: 51800, loss: 0.5289493203163147, lr: 0.004973070083140275\n",
      "Epoch: 27, it: 51900, loss: 0.5144603252410889, lr: 0.004973070083140275\n",
      "Epoch: 27, it: 52000, loss: 0.525066614151001, lr: 0.004973070083140275\n",
      "Epoch: 27, it: 52100, loss: 0.5201960802078247, lr: 0.004973070083140275\n",
      "Epoch: 27, it: 52200, loss: 0.5153756141662598, lr: 0.004973070083140275\n",
      "Epoch: 27, it: 52300, loss: 0.5255440473556519, lr: 0.004973070083140275\n",
      "Epoch: 27, it: 52400, loss: 0.5208215117454529, lr: 0.004973070083140275\n",
      "Epoch: 27, it: 52500, loss: 0.5191015005111694, lr: 0.004973070083140275\n",
      "Epoch: 27, it: 52600, loss: 0.5240569114685059, lr: 0.004973070083140275\n",
      "Epoch: 27, it: 52700, loss: 0.5318874716758728, lr: 0.004973070083140275\n",
      "Epoch: 28, it: 52800, loss: 0.48857051134109497, lr: 0.004972075469123646\n",
      "Epoch: 28, it: 52900, loss: 0.49684178829193115, lr: 0.004972075469123646\n",
      "Epoch: 28, it: 53000, loss: 0.4926952123641968, lr: 0.004972075469123646\n",
      "Epoch: 28, it: 53100, loss: 0.4921382963657379, lr: 0.004972075469123646\n",
      "Epoch: 28, it: 53200, loss: 0.507402777671814, lr: 0.004972075469123646\n",
      "Epoch: 28, it: 53300, loss: 0.49926453828811646, lr: 0.004972075469123646\n",
      "Epoch: 28, it: 53400, loss: 0.5128160119056702, lr: 0.004972075469123646\n",
      "Epoch: 28, it: 53500, loss: 0.5132436752319336, lr: 0.004972075469123646\n",
      "Epoch: 28, it: 53600, loss: 0.5194933414459229, lr: 0.004972075469123646\n",
      "Epoch: 28, it: 53700, loss: 0.5110207796096802, lr: 0.004972075469123646\n",
      "Epoch: 28, it: 53800, loss: 0.5052787661552429, lr: 0.004972075469123646\n",
      "Epoch: 28, it: 53900, loss: 0.5246310830116272, lr: 0.004972075469123646\n",
      "Epoch: 28, it: 54000, loss: 0.5243993997573853, lr: 0.004972075469123646\n",
      "Epoch: 28, it: 54100, loss: 0.5284267663955688, lr: 0.004972075469123646\n",
      "Epoch: 28, it: 54200, loss: 0.5317412614822388, lr: 0.004972075469123646\n",
      "Epoch: 28, it: 54300, loss: 0.5253909230232239, lr: 0.004972075469123646\n",
      "Epoch: 28, it: 54400, loss: 0.5269380807876587, lr: 0.004972075469123646\n",
      "Epoch: 28, it: 54500, loss: 0.5287871956825256, lr: 0.004972075469123646\n",
      "Epoch: 28, it: 54600, loss: 0.5367528200149536, lr: 0.004972075469123646\n",
      "Epoch: 29, it: 54700, loss: 0.49478769302368164, lr: 0.004971081054029821\n",
      "Epoch: 29, it: 54800, loss: 0.49946218729019165, lr: 0.004971081054029821\n",
      "Epoch: 29, it: 54900, loss: 0.5124791264533997, lr: 0.004971081054029821\n",
      "Epoch: 29, it: 55000, loss: 0.511184811592102, lr: 0.004971081054029821\n",
      "Epoch: 29, it: 55100, loss: 0.5017753839492798, lr: 0.004971081054029821\n",
      "Epoch: 29, it: 55200, loss: 0.508769154548645, lr: 0.004971081054029821\n",
      "Epoch: 29, it: 55300, loss: 0.5218265056610107, lr: 0.004971081054029821\n",
      "Epoch: 29, it: 55400, loss: 0.5056871771812439, lr: 0.004971081054029821\n",
      "Epoch: 29, it: 55500, loss: 0.5118204355239868, lr: 0.004971081054029821\n",
      "Epoch: 29, it: 55600, loss: 0.5205776691436768, lr: 0.004971081054029821\n",
      "Epoch: 29, it: 55700, loss: 0.5162264108657837, lr: 0.004971081054029821\n",
      "Epoch: 29, it: 55800, loss: 0.5160484313964844, lr: 0.004971081054029821\n",
      "Epoch: 29, it: 55900, loss: 0.5064051151275635, lr: 0.004971081054029821\n",
      "Epoch: 29, it: 56000, loss: 0.522422194480896, lr: 0.004971081054029821\n",
      "Epoch: 29, it: 56100, loss: 0.5165860652923584, lr: 0.004971081054029821\n",
      "Epoch: 29, it: 56200, loss: 0.5234631299972534, lr: 0.004971081054029821\n",
      "Epoch: 29, it: 56300, loss: 0.5276904106140137, lr: 0.004971081054029821\n",
      "Epoch: 29, it: 56400, loss: 0.5330584645271301, lr: 0.004971081054029821\n",
      "Epoch: 29, it: 56500, loss: 0.5215038061141968, lr: 0.004971081054029821\n",
      "Epoch: 30, it: 56600, loss: 0.4963892102241516, lr: 0.004970086837819016\n",
      "Epoch: 30, it: 56700, loss: 0.5122482776641846, lr: 0.004970086837819016\n",
      "Epoch: 30, it: 56800, loss: 0.4966591000556946, lr: 0.004970086837819016\n",
      "Epoch: 30, it: 56900, loss: 0.5088441371917725, lr: 0.004970086837819016\n",
      "Epoch: 30, it: 57000, loss: 0.503576934337616, lr: 0.004970086837819016\n",
      "Epoch: 30, it: 57100, loss: 0.5139424800872803, lr: 0.004970086837819016\n",
      "Epoch: 30, it: 57200, loss: 0.4985271990299225, lr: 0.004970086837819016\n",
      "Epoch: 30, it: 57300, loss: 0.5163212418556213, lr: 0.004970086837819016\n",
      "Epoch: 30, it: 57400, loss: 0.5139855146408081, lr: 0.004970086837819016\n",
      "Epoch: 30, it: 57500, loss: 0.517146110534668, lr: 0.004970086837819016\n",
      "Epoch: 30, it: 57600, loss: 0.5060563087463379, lr: 0.004970086837819016\n",
      "Epoch: 30, it: 57700, loss: 0.5205652117729187, lr: 0.004970086837819016\n",
      "Epoch: 30, it: 57800, loss: 0.5063024759292603, lr: 0.004970086837819016\n",
      "Epoch: 30, it: 57900, loss: 0.5224502086639404, lr: 0.004970086837819016\n",
      "Epoch: 30, it: 58000, loss: 0.53049635887146, lr: 0.004970086837819016\n",
      "Epoch: 30, it: 58100, loss: 0.5304129123687744, lr: 0.004970086837819016\n",
      "Epoch: 30, it: 58200, loss: 0.5303189754486084, lr: 0.004970086837819016\n",
      "Epoch: 30, it: 58300, loss: 0.5172304511070251, lr: 0.004970086837819016\n",
      "Epoch: 30, it: 58400, loss: 0.5295436382293701, lr: 0.004970086837819016\n",
      "Epoch: 31, it: 58500, loss: 0.4980376064777374, lr: 0.004969092820451452\n",
      "Epoch: 31, it: 58600, loss: 0.49869871139526367, lr: 0.004969092820451452\n",
      "Epoch: 31, it: 58700, loss: 0.5132211446762085, lr: 0.004969092820451452\n",
      "Epoch: 31, it: 58800, loss: 0.5060340166091919, lr: 0.004969092820451452\n",
      "Epoch: 31, it: 58900, loss: 0.5165609121322632, lr: 0.004969092820451452\n",
      "Epoch: 31, it: 59000, loss: 0.5080803036689758, lr: 0.004969092820451452\n",
      "Epoch: 31, it: 59100, loss: 0.5064430236816406, lr: 0.004969092820451452\n",
      "Epoch: 31, it: 59200, loss: 0.5100635290145874, lr: 0.004969092820451452\n",
      "Epoch: 31, it: 59300, loss: 0.5192722082138062, lr: 0.004969092820451452\n",
      "Epoch: 31, it: 59400, loss: 0.5184495449066162, lr: 0.004969092820451452\n",
      "Epoch: 31, it: 59500, loss: 0.5195749998092651, lr: 0.004969092820451452\n",
      "Epoch: 31, it: 59600, loss: 0.5095930099487305, lr: 0.004969092820451452\n",
      "Epoch: 31, it: 59700, loss: 0.5224541425704956, lr: 0.004969092820451452\n",
      "Epoch: 31, it: 59800, loss: 0.5309803485870361, lr: 0.004969092820451452\n",
      "Epoch: 31, it: 59900, loss: 0.5154926180839539, lr: 0.004969092820451452\n",
      "Epoch: 31, it: 60000, loss: 0.5272585153579712, lr: 0.004969092820451452\n",
      "Epoch: 31, it: 60100, loss: 0.5168247222900391, lr: 0.004969092820451452\n",
      "Epoch: 31, it: 60200, loss: 0.5287373065948486, lr: 0.004969092820451452\n",
      "Epoch: 32, it: 60300, loss: 0.49782341718673706, lr: 0.004968099001887362\n",
      "Epoch: 32, it: 60400, loss: 0.5171658396720886, lr: 0.004968099001887362\n",
      "Epoch: 32, it: 60500, loss: 0.4919443130493164, lr: 0.004968099001887362\n",
      "Epoch: 32, it: 60600, loss: 0.5019295811653137, lr: 0.004968099001887362\n",
      "Epoch: 32, it: 60700, loss: 0.5051392912864685, lr: 0.004968099001887362\n",
      "Epoch: 32, it: 60800, loss: 0.5002713799476624, lr: 0.004968099001887362\n",
      "Epoch: 32, it: 60900, loss: 0.5110865831375122, lr: 0.004968099001887362\n",
      "Epoch: 32, it: 61000, loss: 0.5212680101394653, lr: 0.004968099001887362\n",
      "Epoch: 32, it: 61100, loss: 0.509087085723877, lr: 0.004968099001887362\n",
      "Epoch: 32, it: 61200, loss: 0.5119560956954956, lr: 0.004968099001887362\n",
      "Epoch: 32, it: 61300, loss: 0.5104994773864746, lr: 0.004968099001887362\n",
      "Epoch: 32, it: 61400, loss: 0.5204053521156311, lr: 0.004968099001887362\n",
      "Epoch: 32, it: 61500, loss: 0.5235629081726074, lr: 0.004968099001887362\n",
      "Epoch: 32, it: 61600, loss: 0.5223907232284546, lr: 0.004968099001887362\n",
      "Epoch: 32, it: 61700, loss: 0.5287712216377258, lr: 0.004968099001887362\n",
      "Epoch: 32, it: 61800, loss: 0.5142539739608765, lr: 0.004968099001887362\n",
      "Epoch: 32, it: 61900, loss: 0.5250351428985596, lr: 0.004968099001887362\n",
      "Epoch: 32, it: 62000, loss: 0.5239156484603882, lr: 0.004968099001887362\n",
      "Epoch: 32, it: 62100, loss: 0.521019458770752, lr: 0.004968099001887362\n",
      "Epoch: 33, it: 62200, loss: 0.49489080905914307, lr: 0.004967105382086985\n",
      "Epoch: 33, it: 62300, loss: 0.48954933881759644, lr: 0.004967105382086985\n",
      "Epoch: 33, it: 62400, loss: 0.504116415977478, lr: 0.004967105382086985\n",
      "Epoch: 33, it: 62500, loss: 0.5025256276130676, lr: 0.004967105382086985\n",
      "Epoch: 33, it: 62600, loss: 0.5137889981269836, lr: 0.004967105382086985\n",
      "Epoch: 33, it: 62700, loss: 0.5100470781326294, lr: 0.004967105382086985\n",
      "Epoch: 33, it: 62800, loss: 0.5114742517471313, lr: 0.004967105382086985\n",
      "Epoch: 33, it: 62900, loss: 0.521202802658081, lr: 0.004967105382086985\n",
      "Epoch: 33, it: 63000, loss: 0.5091770887374878, lr: 0.004967105382086985\n",
      "Epoch: 33, it: 63100, loss: 0.5096567273139954, lr: 0.004967105382086985\n",
      "Epoch: 33, it: 63200, loss: 0.5093307495117188, lr: 0.004967105382086985\n",
      "Epoch: 33, it: 63300, loss: 0.5181763172149658, lr: 0.004967105382086985\n",
      "Epoch: 33, it: 63400, loss: 0.5232303738594055, lr: 0.004967105382086985\n",
      "Epoch: 33, it: 63500, loss: 0.5208172798156738, lr: 0.004967105382086985\n",
      "Epoch: 33, it: 63600, loss: 0.5187669992446899, lr: 0.004967105382086985\n",
      "Epoch: 33, it: 63700, loss: 0.5238182544708252, lr: 0.004967105382086985\n",
      "Epoch: 33, it: 63800, loss: 0.5102274417877197, lr: 0.004967105382086985\n",
      "Epoch: 33, it: 63900, loss: 0.5260640382766724, lr: 0.004967105382086985\n",
      "Epoch: 33, it: 64000, loss: 0.5185104608535767, lr: 0.004967105382086985\n",
      "Epoch: 34, it: 64100, loss: 0.492953360080719, lr: 0.004966111961010567\n",
      "Epoch: 34, it: 64200, loss: 0.5031837821006775, lr: 0.004966111961010567\n",
      "Epoch: 34, it: 64300, loss: 0.4972521960735321, lr: 0.004966111961010567\n",
      "Epoch: 34, it: 64400, loss: 0.4950753152370453, lr: 0.004966111961010567\n",
      "Epoch: 34, it: 64500, loss: 0.5101819038391113, lr: 0.004966111961010567\n",
      "Epoch: 34, it: 64600, loss: 0.5177888870239258, lr: 0.004966111961010567\n",
      "Epoch: 34, it: 64700, loss: 0.5085999369621277, lr: 0.004966111961010567\n",
      "Epoch: 34, it: 64800, loss: 0.5082825422286987, lr: 0.004966111961010567\n",
      "Epoch: 34, it: 64900, loss: 0.5106435418128967, lr: 0.004966111961010567\n",
      "Epoch: 34, it: 65000, loss: 0.5120747089385986, lr: 0.004966111961010567\n",
      "Epoch: 34, it: 65100, loss: 0.5211647152900696, lr: 0.004966111961010567\n",
      "Epoch: 34, it: 65200, loss: 0.5091491937637329, lr: 0.004966111961010567\n",
      "Epoch: 34, it: 65300, loss: 0.5283137559890747, lr: 0.004966111961010567\n",
      "Epoch: 34, it: 65400, loss: 0.5157153010368347, lr: 0.004966111961010567\n",
      "Epoch: 34, it: 65500, loss: 0.5202351808547974, lr: 0.004966111961010567\n",
      "Epoch: 34, it: 65600, loss: 0.518153965473175, lr: 0.004966111961010567\n",
      "Epoch: 34, it: 65700, loss: 0.5185960531234741, lr: 0.004966111961010567\n",
      "Epoch: 34, it: 65800, loss: 0.525554895401001, lr: 0.004966111961010567\n",
      "Epoch: 34, it: 65900, loss: 0.520261824131012, lr: 0.004966111961010567\n",
      "Epoch: 35, it: 66000, loss: 0.5066562294960022, lr: 0.0049651187386183645\n",
      "Epoch: 35, it: 66100, loss: 0.49531370401382446, lr: 0.0049651187386183645\n",
      "Epoch: 35, it: 66200, loss: 0.49968409538269043, lr: 0.0049651187386183645\n",
      "Epoch: 35, it: 66300, loss: 0.5048611760139465, lr: 0.0049651187386183645\n",
      "Epoch: 35, it: 66400, loss: 0.5149253606796265, lr: 0.0049651187386183645\n",
      "Epoch: 35, it: 66500, loss: 0.5101507902145386, lr: 0.0049651187386183645\n",
      "Epoch: 35, it: 66600, loss: 0.4985644519329071, lr: 0.0049651187386183645\n",
      "Epoch: 35, it: 66700, loss: 0.5160260796546936, lr: 0.0049651187386183645\n",
      "Epoch: 35, it: 66800, loss: 0.5058847665786743, lr: 0.0049651187386183645\n",
      "Epoch: 35, it: 66900, loss: 0.508903443813324, lr: 0.0049651187386183645\n",
      "Epoch: 35, it: 67000, loss: 0.5211403369903564, lr: 0.0049651187386183645\n",
      "Epoch: 35, it: 67100, loss: 0.5208858847618103, lr: 0.0049651187386183645\n",
      "Epoch: 35, it: 67200, loss: 0.5204595327377319, lr: 0.0049651187386183645\n",
      "Epoch: 35, it: 67300, loss: 0.5085926055908203, lr: 0.0049651187386183645\n",
      "Epoch: 35, it: 67400, loss: 0.5368039608001709, lr: 0.0049651187386183645\n",
      "Epoch: 35, it: 67500, loss: 0.5198869705200195, lr: 0.0049651187386183645\n",
      "Epoch: 35, it: 67600, loss: 0.5246411561965942, lr: 0.0049651187386183645\n",
      "Epoch: 35, it: 67700, loss: 0.5245044231414795, lr: 0.0049651187386183645\n",
      "Epoch: 35, it: 67800, loss: 0.5191945433616638, lr: 0.0049651187386183645\n",
      "Epoch: 36, it: 67900, loss: 0.5029480457305908, lr: 0.004964125714870642\n",
      "Epoch: 36, it: 68000, loss: 0.5089996457099915, lr: 0.004964125714870642\n",
      "Epoch: 36, it: 68100, loss: 0.5076632499694824, lr: 0.004964125714870642\n",
      "Epoch: 36, it: 68200, loss: 0.49930471181869507, lr: 0.004964125714870642\n",
      "Epoch: 36, it: 68300, loss: 0.5137633085250854, lr: 0.004964125714870642\n",
      "Epoch: 36, it: 68400, loss: 0.5167784690856934, lr: 0.004964125714870642\n",
      "Epoch: 36, it: 68500, loss: 0.5109941959381104, lr: 0.004964125714870642\n",
      "Epoch: 36, it: 68600, loss: 0.5187771320343018, lr: 0.004964125714870642\n",
      "Epoch: 36, it: 68700, loss: 0.5016688108444214, lr: 0.004964125714870642\n",
      "Epoch: 36, it: 68800, loss: 0.5103009939193726, lr: 0.004964125714870642\n",
      "Epoch: 36, it: 68900, loss: 0.5165021419525146, lr: 0.004964125714870642\n",
      "Epoch: 36, it: 69000, loss: 0.5254429578781128, lr: 0.004964125714870642\n",
      "Epoch: 36, it: 69100, loss: 0.5172619819641113, lr: 0.004964125714870642\n",
      "Epoch: 36, it: 69200, loss: 0.5270891189575195, lr: 0.004964125714870642\n",
      "Epoch: 36, it: 69300, loss: 0.5253983736038208, lr: 0.004964125714870642\n",
      "Epoch: 36, it: 69400, loss: 0.527206540107727, lr: 0.004964125714870642\n",
      "Epoch: 36, it: 69500, loss: 0.5200845003128052, lr: 0.004964125714870642\n",
      "Epoch: 36, it: 69600, loss: 0.524170994758606, lr: 0.004964125714870642\n",
      "Epoch: 36, it: 69700, loss: 0.5284557342529297, lr: 0.004964125714870642\n",
      "Epoch: 37, it: 69800, loss: 0.49998700618743896, lr: 0.004963132889727668\n",
      "Epoch: 37, it: 69900, loss: 0.5066646337509155, lr: 0.004963132889727668\n",
      "Epoch: 37, it: 70000, loss: 0.4996832609176636, lr: 0.004963132889727668\n",
      "Epoch: 37, it: 70100, loss: 0.5060616731643677, lr: 0.004963132889727668\n",
      "Epoch: 37, it: 70200, loss: 0.5037567615509033, lr: 0.004963132889727668\n",
      "Epoch: 37, it: 70300, loss: 0.5115365982055664, lr: 0.004963132889727668\n",
      "Epoch: 37, it: 70400, loss: 0.5183870196342468, lr: 0.004963132889727668\n",
      "Epoch: 37, it: 70500, loss: 0.5121744275093079, lr: 0.004963132889727668\n",
      "Epoch: 37, it: 70600, loss: 0.5192800760269165, lr: 0.004963132889727668\n",
      "Epoch: 37, it: 70700, loss: 0.5132489800453186, lr: 0.004963132889727668\n",
      "Epoch: 37, it: 70800, loss: 0.5119839906692505, lr: 0.004963132889727668\n",
      "Epoch: 37, it: 70900, loss: 0.5149299502372742, lr: 0.004963132889727668\n",
      "Epoch: 37, it: 71000, loss: 0.520505964756012, lr: 0.004963132889727668\n",
      "Epoch: 37, it: 71100, loss: 0.527076780796051, lr: 0.004963132889727668\n",
      "Epoch: 37, it: 71200, loss: 0.5181242227554321, lr: 0.004963132889727668\n",
      "Epoch: 37, it: 71300, loss: 0.5200113654136658, lr: 0.004963132889727668\n",
      "Epoch: 37, it: 71400, loss: 0.535645067691803, lr: 0.004963132889727668\n",
      "Epoch: 37, it: 71500, loss: 0.5205122232437134, lr: 0.004963132889727668\n",
      "Epoch: 38, it: 71600, loss: 0.4957904815673828, lr: 0.004962140263149722\n",
      "Epoch: 38, it: 71700, loss: 0.49009111523628235, lr: 0.004962140263149722\n",
      "Epoch: 38, it: 71800, loss: 0.5025215148925781, lr: 0.004962140263149722\n",
      "Epoch: 38, it: 71900, loss: 0.5095611810684204, lr: 0.004962140263149722\n",
      "Epoch: 38, it: 72000, loss: 0.49633216857910156, lr: 0.004962140263149722\n",
      "Epoch: 38, it: 72100, loss: 0.4968983829021454, lr: 0.004962140263149722\n",
      "Epoch: 38, it: 72200, loss: 0.5098549127578735, lr: 0.004962140263149722\n",
      "Epoch: 38, it: 72300, loss: 0.5034087896347046, lr: 0.004962140263149722\n",
      "Epoch: 38, it: 72400, loss: 0.5130789279937744, lr: 0.004962140263149722\n",
      "Epoch: 38, it: 72500, loss: 0.5246789455413818, lr: 0.004962140263149722\n",
      "Epoch: 38, it: 72600, loss: 0.5102423429489136, lr: 0.004962140263149722\n",
      "Epoch: 38, it: 72700, loss: 0.5136587619781494, lr: 0.004962140263149722\n",
      "Epoch: 38, it: 72800, loss: 0.5176817178726196, lr: 0.004962140263149722\n",
      "Epoch: 38, it: 72900, loss: 0.515397310256958, lr: 0.004962140263149722\n",
      "Epoch: 38, it: 73000, loss: 0.5108562707901001, lr: 0.004962140263149722\n",
      "Epoch: 38, it: 73100, loss: 0.5202623009681702, lr: 0.004962140263149722\n",
      "Epoch: 38, it: 73200, loss: 0.5227548480033875, lr: 0.004962140263149722\n",
      "Epoch: 38, it: 73300, loss: 0.5334501266479492, lr: 0.004962140263149722\n",
      "Epoch: 38, it: 73400, loss: 0.5310981273651123, lr: 0.004962140263149722\n",
      "Epoch: 39, it: 73500, loss: 0.5081382989883423, lr: 0.004961147835097092\n",
      "Epoch: 39, it: 73600, loss: 0.4861118495464325, lr: 0.004961147835097092\n",
      "Epoch: 39, it: 73700, loss: 0.5089806318283081, lr: 0.004961147835097092\n",
      "Epoch: 39, it: 73800, loss: 0.5054802894592285, lr: 0.004961147835097092\n",
      "Epoch: 39, it: 73900, loss: 0.4938955307006836, lr: 0.004961147835097092\n",
      "Epoch: 39, it: 74000, loss: 0.5086489915847778, lr: 0.004961147835097092\n",
      "Epoch: 39, it: 74100, loss: 0.5103546977043152, lr: 0.004961147835097092\n",
      "Epoch: 39, it: 74200, loss: 0.5063793659210205, lr: 0.004961147835097092\n",
      "Epoch: 39, it: 74300, loss: 0.5085747241973877, lr: 0.004961147835097092\n",
      "Epoch: 39, it: 74400, loss: 0.5083858370780945, lr: 0.004961147835097092\n",
      "Epoch: 39, it: 74500, loss: 0.5149967074394226, lr: 0.004961147835097092\n",
      "Epoch: 39, it: 74600, loss: 0.5176792740821838, lr: 0.004961147835097092\n",
      "Epoch: 39, it: 74700, loss: 0.5157355666160583, lr: 0.004961147835097092\n",
      "Epoch: 39, it: 74800, loss: 0.5200785398483276, lr: 0.004961147835097092\n",
      "Epoch: 39, it: 74900, loss: 0.5223076343536377, lr: 0.004961147835097092\n",
      "Epoch: 39, it: 75000, loss: 0.5145270824432373, lr: 0.004961147835097092\n",
      "Epoch: 39, it: 75100, loss: 0.5302380919456482, lr: 0.004961147835097092\n",
      "Epoch: 39, it: 75200, loss: 0.530773401260376, lr: 0.004961147835097092\n",
      "Epoch: 39, it: 75300, loss: 0.5193623304367065, lr: 0.004961147835097092\n",
      "Epoch: 40, it: 75400, loss: 0.48624444007873535, lr: 0.004960155605530073\n",
      "Epoch: 40, it: 75500, loss: 0.49565589427948, lr: 0.004960155605530073\n",
      "Epoch: 40, it: 75600, loss: 0.4945783019065857, lr: 0.004960155605530073\n",
      "Epoch: 40, it: 75700, loss: 0.5078291893005371, lr: 0.004960155605530073\n",
      "Epoch: 40, it: 75800, loss: 0.5066153407096863, lr: 0.004960155605530073\n",
      "Epoch: 40, it: 75900, loss: 0.5138822793960571, lr: 0.004960155605530073\n",
      "Epoch: 40, it: 76000, loss: 0.511159360408783, lr: 0.004960155605530073\n",
      "Epoch: 40, it: 76100, loss: 0.5168601870536804, lr: 0.004960155605530073\n",
      "Epoch: 40, it: 76200, loss: 0.516196608543396, lr: 0.004960155605530073\n",
      "Epoch: 40, it: 76300, loss: 0.5141839981079102, lr: 0.004960155605530073\n",
      "Epoch: 40, it: 76400, loss: 0.5095747113227844, lr: 0.004960155605530073\n",
      "Epoch: 40, it: 76500, loss: 0.5195091962814331, lr: 0.004960155605530073\n",
      "Epoch: 40, it: 76600, loss: 0.5233252048492432, lr: 0.004960155605530073\n",
      "Epoch: 40, it: 76700, loss: 0.5154089331626892, lr: 0.004960155605530073\n",
      "Epoch: 40, it: 76800, loss: 0.5197479724884033, lr: 0.004960155605530073\n",
      "Epoch: 40, it: 76900, loss: 0.535183310508728, lr: 0.004960155605530073\n",
      "Epoch: 40, it: 77000, loss: 0.5193331241607666, lr: 0.004960155605530073\n",
      "Epoch: 40, it: 77100, loss: 0.5200225114822388, lr: 0.004960155605530073\n",
      "Epoch: 40, it: 77200, loss: 0.5325594544410706, lr: 0.004960155605530073\n",
      "Epoch: 41, it: 77300, loss: 0.49895527958869934, lr: 0.0049591635744089665\n",
      "Epoch: 41, it: 77400, loss: 0.5026149749755859, lr: 0.0049591635744089665\n",
      "Epoch: 41, it: 77500, loss: 0.506572961807251, lr: 0.0049591635744089665\n",
      "Epoch: 41, it: 77600, loss: 0.50848788022995, lr: 0.0049591635744089665\n",
      "Epoch: 41, it: 77700, loss: 0.504082202911377, lr: 0.0049591635744089665\n",
      "Epoch: 41, it: 77800, loss: 0.5176724791526794, lr: 0.0049591635744089665\n",
      "Epoch: 41, it: 77900, loss: 0.48994845151901245, lr: 0.0049591635744089665\n",
      "Epoch: 41, it: 78000, loss: 0.5025789737701416, lr: 0.0049591635744089665\n",
      "Epoch: 41, it: 78100, loss: 0.5157109498977661, lr: 0.0049591635744089665\n",
      "Epoch: 41, it: 78200, loss: 0.5157217979431152, lr: 0.0049591635744089665\n",
      "Epoch: 41, it: 78300, loss: 0.5142614841461182, lr: 0.0049591635744089665\n",
      "Epoch: 41, it: 78400, loss: 0.5279054641723633, lr: 0.0049591635744089665\n",
      "Epoch: 41, it: 78500, loss: 0.5218453407287598, lr: 0.0049591635744089665\n",
      "Epoch: 41, it: 78600, loss: 0.517492413520813, lr: 0.0049591635744089665\n",
      "Epoch: 41, it: 78700, loss: 0.5165901780128479, lr: 0.0049591635744089665\n",
      "Epoch: 41, it: 78800, loss: 0.5183311700820923, lr: 0.0049591635744089665\n",
      "Epoch: 41, it: 78900, loss: 0.5187197923660278, lr: 0.0049591635744089665\n",
      "Epoch: 41, it: 79000, loss: 0.522173285484314, lr: 0.0049591635744089665\n",
      "Epoch: 41, it: 79100, loss: 0.5207173824310303, lr: 0.0049591635744089665\n",
      "Epoch: 42, it: 79200, loss: 0.4916425049304962, lr: 0.004958171741694085\n",
      "Epoch: 42, it: 79300, loss: 0.4994076192378998, lr: 0.004958171741694085\n",
      "Epoch: 42, it: 79400, loss: 0.5024727582931519, lr: 0.004958171741694085\n",
      "Epoch: 42, it: 79500, loss: 0.49801382422447205, lr: 0.004958171741694085\n",
      "Epoch: 42, it: 79600, loss: 0.49851489067077637, lr: 0.004958171741694085\n",
      "Epoch: 42, it: 79700, loss: 0.5076653957366943, lr: 0.004958171741694085\n",
      "Epoch: 42, it: 79800, loss: 0.5154840350151062, lr: 0.004958171741694085\n",
      "Epoch: 42, it: 79900, loss: 0.522461473941803, lr: 0.004958171741694085\n",
      "Epoch: 42, it: 80000, loss: 0.5008082389831543, lr: 0.004958171741694085\n",
      "Epoch: 42, it: 80100, loss: 0.5206817388534546, lr: 0.004958171741694085\n",
      "Epoch: 42, it: 80200, loss: 0.5142982006072998, lr: 0.004958171741694085\n",
      "Epoch: 42, it: 80300, loss: 0.5111970901489258, lr: 0.004958171741694085\n",
      "Epoch: 42, it: 80400, loss: 0.5123845338821411, lr: 0.004958171741694085\n",
      "Epoch: 42, it: 80500, loss: 0.5259612798690796, lr: 0.004958171741694085\n",
      "Epoch: 42, it: 80600, loss: 0.5141254663467407, lr: 0.004958171741694085\n",
      "Epoch: 42, it: 80700, loss: 0.5269506573677063, lr: 0.004958171741694085\n",
      "Epoch: 42, it: 80800, loss: 0.5222959518432617, lr: 0.004958171741694085\n",
      "Epoch: 42, it: 80900, loss: 0.5322122573852539, lr: 0.004958171741694085\n",
      "Epoch: 42, it: 81000, loss: 0.5169105529785156, lr: 0.004958171741694085\n",
      "Epoch: 43, it: 81100, loss: 0.49576812982559204, lr: 0.004957180107345747\n",
      "Epoch: 43, it: 81200, loss: 0.4992096424102783, lr: 0.004957180107345747\n",
      "Epoch: 43, it: 81300, loss: 0.49881869554519653, lr: 0.004957180107345747\n",
      "Epoch: 43, it: 81400, loss: 0.5039121508598328, lr: 0.004957180107345747\n",
      "Epoch: 43, it: 81500, loss: 0.4986492395401001, lr: 0.004957180107345747\n",
      "Epoch: 43, it: 81600, loss: 0.5107015371322632, lr: 0.004957180107345747\n",
      "Epoch: 43, it: 81700, loss: 0.5113667249679565, lr: 0.004957180107345747\n",
      "Epoch: 43, it: 81800, loss: 0.5084192156791687, lr: 0.004957180107345747\n",
      "Epoch: 43, it: 81900, loss: 0.5093709230422974, lr: 0.004957180107345747\n",
      "Epoch: 43, it: 82000, loss: 0.5086614489555359, lr: 0.004957180107345747\n",
      "Epoch: 43, it: 82100, loss: 0.521020770072937, lr: 0.004957180107345747\n",
      "Epoch: 43, it: 82200, loss: 0.5078461170196533, lr: 0.004957180107345747\n",
      "Epoch: 43, it: 82300, loss: 0.5175251364707947, lr: 0.004957180107345747\n",
      "Epoch: 43, it: 82400, loss: 0.5206830501556396, lr: 0.004957180107345747\n",
      "Epoch: 43, it: 82500, loss: 0.525995671749115, lr: 0.004957180107345747\n",
      "Epoch: 43, it: 82600, loss: 0.5255140066146851, lr: 0.004957180107345747\n",
      "Epoch: 43, it: 82700, loss: 0.5258166790008545, lr: 0.004957180107345747\n",
      "Epoch: 43, it: 82800, loss: 0.5308974981307983, lr: 0.004957180107345747\n",
      "Epoch: 44, it: 82900, loss: 0.4892446994781494, lr: 0.004956188671324278\n",
      "Epoch: 44, it: 83000, loss: 0.5137841701507568, lr: 0.004956188671324278\n",
      "Epoch: 44, it: 83100, loss: 0.5131160616874695, lr: 0.004956188671324278\n",
      "Epoch: 44, it: 83200, loss: 0.4994664192199707, lr: 0.004956188671324278\n",
      "Epoch: 44, it: 83300, loss: 0.5023937225341797, lr: 0.004956188671324278\n",
      "Epoch: 44, it: 83400, loss: 0.5065643787384033, lr: 0.004956188671324278\n",
      "Epoch: 44, it: 83500, loss: 0.5164056420326233, lr: 0.004956188671324278\n",
      "Epoch: 44, it: 83600, loss: 0.5097064971923828, lr: 0.004956188671324278\n",
      "Epoch: 44, it: 83700, loss: 0.5109922885894775, lr: 0.004956188671324278\n",
      "Epoch: 44, it: 83800, loss: 0.5142332911491394, lr: 0.004956188671324278\n",
      "Epoch: 44, it: 83900, loss: 0.5052406787872314, lr: 0.004956188671324278\n",
      "Epoch: 44, it: 84000, loss: 0.517943263053894, lr: 0.004956188671324278\n",
      "Epoch: 44, it: 84100, loss: 0.5180718302726746, lr: 0.004956188671324278\n",
      "Epoch: 44, it: 84200, loss: 0.5236654281616211, lr: 0.004956188671324278\n",
      "Epoch: 44, it: 84300, loss: 0.5163493156433105, lr: 0.004956188671324278\n",
      "Epoch: 44, it: 84400, loss: 0.516175389289856, lr: 0.004956188671324278\n",
      "Epoch: 44, it: 84500, loss: 0.5152159333229065, lr: 0.004956188671324278\n",
      "Epoch: 44, it: 84600, loss: 0.5292508602142334, lr: 0.004956188671324278\n",
      "Epoch: 44, it: 84700, loss: 0.521969735622406, lr: 0.004956188671324278\n",
      "Epoch: 45, it: 84800, loss: 0.4925265908241272, lr: 0.004955197433590013\n",
      "Epoch: 45, it: 84900, loss: 0.503800630569458, lr: 0.004955197433590013\n",
      "Epoch: 45, it: 85000, loss: 0.5026676654815674, lr: 0.004955197433590013\n",
      "Epoch: 45, it: 85100, loss: 0.5099936723709106, lr: 0.004955197433590013\n",
      "Epoch: 45, it: 85200, loss: 0.5085627436637878, lr: 0.004955197433590013\n",
      "Epoch: 45, it: 85300, loss: 0.5052496790885925, lr: 0.004955197433590013\n",
      "Epoch: 45, it: 85400, loss: 0.5093967914581299, lr: 0.004955197433590013\n",
      "Epoch: 45, it: 85500, loss: 0.5162343382835388, lr: 0.004955197433590013\n",
      "Epoch: 45, it: 85600, loss: 0.5176389217376709, lr: 0.004955197433590013\n",
      "Epoch: 45, it: 85700, loss: 0.507488489151001, lr: 0.004955197433590013\n",
      "Epoch: 45, it: 85800, loss: 0.5145093202590942, lr: 0.004955197433590013\n",
      "Epoch: 45, it: 85900, loss: 0.5183238387107849, lr: 0.004955197433590013\n",
      "Epoch: 45, it: 86000, loss: 0.5110785961151123, lr: 0.004955197433590013\n",
      "Epoch: 45, it: 86100, loss: 0.5125253200531006, lr: 0.004955197433590013\n",
      "Epoch: 45, it: 86200, loss: 0.5223355889320374, lr: 0.004955197433590013\n",
      "Epoch: 45, it: 86300, loss: 0.515725314617157, lr: 0.004955197433590013\n",
      "Epoch: 45, it: 86400, loss: 0.5193840861320496, lr: 0.004955197433590013\n",
      "Epoch: 45, it: 86500, loss: 0.5183634161949158, lr: 0.004955197433590013\n",
      "Epoch: 45, it: 86600, loss: 0.5179036855697632, lr: 0.004955197433590013\n",
      "Epoch: 46, it: 86700, loss: 0.49879246950149536, lr: 0.004954206394103295\n",
      "Epoch: 46, it: 86800, loss: 0.5002104640007019, lr: 0.004954206394103295\n",
      "Epoch: 46, it: 86900, loss: 0.5041334629058838, lr: 0.004954206394103295\n",
      "Epoch: 46, it: 87000, loss: 0.5045788288116455, lr: 0.004954206394103295\n",
      "Epoch: 46, it: 87100, loss: 0.5023509860038757, lr: 0.004954206394103295\n",
      "Epoch: 46, it: 87200, loss: 0.503942608833313, lr: 0.004954206394103295\n",
      "Epoch: 46, it: 87300, loss: 0.5060853958129883, lr: 0.004954206394103295\n",
      "Epoch: 46, it: 87400, loss: 0.5170949101448059, lr: 0.004954206394103295\n",
      "Epoch: 46, it: 87500, loss: 0.5203320980072021, lr: 0.004954206394103295\n",
      "Epoch: 46, it: 87600, loss: 0.5078452825546265, lr: 0.004954206394103295\n",
      "Epoch: 46, it: 87700, loss: 0.5147562623023987, lr: 0.004954206394103295\n",
      "Epoch: 46, it: 87800, loss: 0.51776123046875, lr: 0.004954206394103295\n",
      "Epoch: 46, it: 87900, loss: 0.5061196088790894, lr: 0.004954206394103295\n",
      "Epoch: 46, it: 88000, loss: 0.5167165994644165, lr: 0.004954206394103295\n",
      "Epoch: 46, it: 88100, loss: 0.532399594783783, lr: 0.004954206394103295\n",
      "Epoch: 46, it: 88200, loss: 0.5253839492797852, lr: 0.004954206394103295\n",
      "Epoch: 46, it: 88300, loss: 0.5186260938644409, lr: 0.004954206394103295\n",
      "Epoch: 46, it: 88400, loss: 0.5340126156806946, lr: 0.004954206394103295\n",
      "Epoch: 46, it: 88500, loss: 0.5363366603851318, lr: 0.004954206394103295\n",
      "Epoch: 47, it: 88600, loss: 0.4934285879135132, lr: 0.004953215552824474\n",
      "Epoch: 47, it: 88700, loss: 0.4983832836151123, lr: 0.004953215552824474\n",
      "Epoch: 47, it: 88800, loss: 0.49977678060531616, lr: 0.004953215552824474\n",
      "Epoch: 47, it: 88900, loss: 0.504512369632721, lr: 0.004953215552824474\n",
      "Epoch: 47, it: 89000, loss: 0.5098965764045715, lr: 0.004953215552824474\n",
      "Epoch: 47, it: 89100, loss: 0.5017596483230591, lr: 0.004953215552824474\n",
      "Epoch: 47, it: 89200, loss: 0.5066976547241211, lr: 0.004953215552824474\n",
      "Epoch: 47, it: 89300, loss: 0.5021075010299683, lr: 0.004953215552824474\n",
      "Epoch: 47, it: 89400, loss: 0.5290087461471558, lr: 0.004953215552824474\n",
      "Epoch: 47, it: 89500, loss: 0.5110538005828857, lr: 0.004953215552824474\n",
      "Epoch: 47, it: 89600, loss: 0.5131288766860962, lr: 0.004953215552824474\n",
      "Epoch: 47, it: 89700, loss: 0.5279138088226318, lr: 0.004953215552824474\n",
      "Epoch: 47, it: 89800, loss: 0.5167919397354126, lr: 0.004953215552824474\n",
      "Epoch: 47, it: 89900, loss: 0.521206259727478, lr: 0.004953215552824474\n",
      "Epoch: 47, it: 90000, loss: 0.5138837695121765, lr: 0.004953215552824474\n",
      "Epoch: 47, it: 90100, loss: 0.53072190284729, lr: 0.004953215552824474\n",
      "Epoch: 47, it: 90200, loss: 0.5353133678436279, lr: 0.004953215552824474\n",
      "Epoch: 47, it: 90300, loss: 0.5194866061210632, lr: 0.004953215552824474\n",
      "Epoch: 47, it: 90400, loss: 0.5219533443450928, lr: 0.004953215552824474\n",
      "Epoch: 48, it: 90500, loss: 0.49116361141204834, lr: 0.004952224909713909\n",
      "Epoch: 48, it: 90600, loss: 0.5079500079154968, lr: 0.004952224909713909\n",
      "Epoch: 48, it: 90700, loss: 0.49618956446647644, lr: 0.004952224909713909\n",
      "Epoch: 48, it: 90800, loss: 0.5060589909553528, lr: 0.004952224909713909\n",
      "Epoch: 48, it: 90900, loss: 0.5073210000991821, lr: 0.004952224909713909\n",
      "Epoch: 48, it: 91000, loss: 0.5087926387786865, lr: 0.004952224909713909\n",
      "Epoch: 48, it: 91100, loss: 0.5082614421844482, lr: 0.004952224909713909\n",
      "Epoch: 48, it: 91200, loss: 0.5128859281539917, lr: 0.004952224909713909\n",
      "Epoch: 48, it: 91300, loss: 0.520551323890686, lr: 0.004952224909713909\n",
      "Epoch: 48, it: 91400, loss: 0.5165699124336243, lr: 0.004952224909713909\n",
      "Epoch: 48, it: 91500, loss: 0.5204188227653503, lr: 0.004952224909713909\n",
      "Epoch: 48, it: 91600, loss: 0.516736626625061, lr: 0.004952224909713909\n",
      "Epoch: 48, it: 91700, loss: 0.5257821679115295, lr: 0.004952224909713909\n",
      "Epoch: 48, it: 91800, loss: 0.5236635804176331, lr: 0.004952224909713909\n",
      "Epoch: 48, it: 91900, loss: 0.5217474699020386, lr: 0.004952224909713909\n",
      "Epoch: 48, it: 92000, loss: 0.5047335028648376, lr: 0.004952224909713909\n",
      "Epoch: 48, it: 92100, loss: 0.5187457203865051, lr: 0.004952224909713909\n",
      "Epoch: 48, it: 92200, loss: 0.5301138758659363, lr: 0.004952224909713909\n",
      "Epoch: 48, it: 92300, loss: 0.5339212417602539, lr: 0.004952224909713909\n",
      "Epoch: 49, it: 92400, loss: 0.4872283339500427, lr: 0.004951234464731967\n",
      "Epoch: 49, it: 92500, loss: 0.49636682868003845, lr: 0.004951234464731967\n",
      "Epoch: 49, it: 92600, loss: 0.5005824565887451, lr: 0.004951234464731967\n",
      "Epoch: 49, it: 92700, loss: 0.4995766580104828, lr: 0.004951234464731967\n",
      "Epoch: 49, it: 92800, loss: 0.5055067539215088, lr: 0.004951234464731967\n",
      "Epoch: 49, it: 92900, loss: 0.5108931064605713, lr: 0.004951234464731967\n",
      "Epoch: 49, it: 93000, loss: 0.511582612991333, lr: 0.004951234464731967\n",
      "Epoch: 49, it: 93100, loss: 0.5076277256011963, lr: 0.004951234464731967\n",
      "Epoch: 49, it: 93200, loss: 0.5068395137786865, lr: 0.004951234464731967\n",
      "Epoch: 49, it: 93300, loss: 0.510921835899353, lr: 0.004951234464731967\n",
      "Epoch: 49, it: 93400, loss: 0.5124121904373169, lr: 0.004951234464731967\n",
      "Epoch: 49, it: 93500, loss: 0.522485077381134, lr: 0.004951234464731967\n",
      "Epoch: 49, it: 93600, loss: 0.5175603628158569, lr: 0.004951234464731967\n",
      "Epoch: 49, it: 93700, loss: 0.5104249715805054, lr: 0.004951234464731967\n",
      "Epoch: 49, it: 93800, loss: 0.5153719186782837, lr: 0.004951234464731967\n",
      "Epoch: 49, it: 93900, loss: 0.5238044261932373, lr: 0.004951234464731967\n",
      "Epoch: 49, it: 94000, loss: 0.5300254821777344, lr: 0.004951234464731967\n",
      "Epoch: 49, it: 94100, loss: 0.5287835597991943, lr: 0.004951234464731967\n",
      "Epoch: 49, it: 94200, loss: 0.5229577422142029, lr: 0.004951234464731967\n"
     ]
    }
   ],
   "source": [
    "it, losses = 0, []\n",
    "for epoch in range(50):\n",
    "\n",
    "    for i, batch_data in enumerate(dataloader):\n",
    "        center, context, mask, label = [data.to(device) for data in batch_data]\n",
    "        pred = net(center, context)\n",
    "        loss = (loss_fn(pred, label.float(), mask) * mask.shape[1]) / mask.sum(dim=1) \n",
    "        loss = loss.mean()\n",
    "        optimizer.zero_grad()\n",
    "        loss.backward()\n",
    "        optimizer.step()\n",
    "        scheduler.step(epoch)\n",
    "        \n",
    "        losses.append(float(loss.item()))\n",
    "        it += 1\n",
    "        if it % 100 == 0:\n",
    "            print(f\"Epoch: {epoch}, it: {it}, loss: {loss.item()}, lr: {scheduler.get_last_lr()[0]}\")\n",
    "         \n",
    "        "
   ]
  },
  {
   "cell_type": "code",
   "execution_count": 69,
   "metadata": {},
   "outputs": [],
   "source": [
    "torch.save({\"model_state_dict\": net.state_dict(),\n",
    "            \"optimizer_state_dict\": optimizer.state_dict()},\n",
    "           \"./cbow.pth\")"
   ]
  },
  {
   "cell_type": "code",
   "execution_count": 70,
   "metadata": {},
   "outputs": [
    {
     "data": {
      "text/plain": [
       "[<matplotlib.lines.Line2D at 0x7f5431262610>]"
      ]
     },
     "execution_count": 70,
     "metadata": {},
     "output_type": "execute_result"
    },
    {
     "data": {
      "image/png": "[encoded data removed]",
      "text/plain": [
       "<Figure size 640x480 with 1 Axes>"
      ]
     },
     "metadata": {},
     "output_type": "display_data"
    }
   ],
   "source": [
    "plt.plot(losses[::1000])"
   ]
  },
  {
   "cell_type": "code",
   "execution_count": 71,
   "metadata": {},
   "outputs": [
    {
     "name": "stdout",
     "output_type": "stream",
     "text": [
      "Index token of man:  167\n",
      "[18010, 8401, 23939, 4444, 893, 19376, 7231, 24342, 11739, 19084]\n"
     ]
    },
    {
     "data": {
      "text/plain": [
       "(['vilified',\n",
       "  'machinery',\n",
       "  'lows',\n",
       "  'favorable',\n",
       "  'jews',\n",
       "  'sweepstakes',\n",
       "  'yugoslav',\n",
       "  'self-sufficiency',\n",
       "  'openness',\n",
       "  'ants'],\n",
       " tensor([0.2686, 0.2447, 0.2328, 0.2311, 0.2271, 0.2247, 0.2146, 0.2139, 0.2121,\n",
       "         0.2073], device='cuda:0'))"
      ]
     },
     "execution_count": 71,
     "metadata": {},
     "output_type": "execute_result"
    }
   ],
   "source": [
    "def get_embedding(query_token):\n",
    "    index_token = vocab.token_to_idx([query_token])[0]\n",
    "    with torch.no_grad():\n",
    "        embed = net.embed_v.weight.data[index_token]\n",
    "        print(f\"Index token of {query_token}: \", index_token)\n",
    "    return embed\n",
    "def get_similar_token(query_token, k, include_score=False):\n",
    "        embed = get_embedding(query_token)\n",
    "        dot_prod =  torch.matmul(net.embed_v.weight.data ,\n",
    "                                 embed) / (torch.sqrt(torch.sum(net.embed_v.weight.data**2,  dim=1),) *  torch.sqrt(torch.sum(embed**2)))\n",
    "        index_token = vocab.token_to_idx([query_token])[0]\n",
    "        dot_prod[index_token]= -torch.inf\n",
    "        topk = torch.topk(dot_prod, k)\n",
    "        top_indices = topk.indices.cpu().tolist()\n",
    "        print(top_indices)\n",
    "        words = vocab.idx_to_token(top_indices)\n",
    "        if include_score:\n",
    "            scores = topk.values\n",
    "            return words, scores\n",
    "        return words\n",
    "    \n",
    "\n",
    "get_similar_token('man', 10, True)\n",
    "    "
   ]
  },
  {
   "cell_type": "code",
   "execution_count": 72,
   "metadata": {},
   "outputs": [
    {
     "name": "stdout",
     "output_type": "stream",
     "text": [
      "Index token of man:  167\n",
      "Index token of woman:  384\n"
     ]
    },
    {
     "data": {
      "text/plain": [
       "(tensor(0.1861, device='cuda:0'),)"
      ]
     },
     "execution_count": 72,
     "metadata": {},
     "output_type": "execute_result"
    }
   ],
   "source": [
    "def words_distance(w1, w2):\n",
    "    e1, e2 = get_embedding(w1), get_embedding(w2)\n",
    "    \n",
    "    dot = torch.dot(e1, e2) / (torch.sqrt(torch.sum(e1**2)) *  torch.sqrt(torch.sum(e2**2)))\n",
    "    \n",
    "    return dot\n",
    "words_distance('man', 'woman'), "
   ]
  },
  {
   "cell_type": "code",
   "execution_count": 73,
   "metadata": {},
   "outputs": [
    {
     "data": {
      "image/png": "[encoded data removed]",
      "text/plain": [
       "<Figure size 1000x1000 with 1 Axes>"
      ]
     },
     "metadata": {},
     "output_type": "display_data"
    }
   ],
   "source": [
    "def plot_tsne():\n",
    "    embeddings = net.embed_v.weight.data.cpu().numpy()[250:350]\n",
    "    tsne = TSNE(n_components=2).fit_transform(embeddings)\n",
    "    fig =  plt.figure(figsize=(10, 10))\n",
    "    _df = vocab.voc_df.copy()\n",
    "    _df = _df.sort_values(by=[\"idx\"]).reset_index(drop=True)[250:350]\n",
    "    for i, label in enumerate(_df['token']):\n",
    "        x, y = tsne[i]\n",
    "        plt.scatter(x, y)\n",
    "        plt.annotate(label, xy=(x, y), xytext=(5, 2), textcoords=\"offset points\", fontsize=8)\n",
    "    plt.show()\n",
    "plot_tsne()"
   ]
  },
  {
   "cell_type": "code",
   "execution_count": 74,
   "metadata": {},
   "outputs": [
    {
     "name": "stdout",
     "output_type": "stream",
     "text": [
      "Index token of poor:  605\n",
      "[9602, 4282, 20921, 11717, 17941, 5080, 13978, 27861, 16535, 4007]\n"
     ]
    },
    {
     "data": {
      "text/plain": [
       "(['readership',\n",
       "  'rolls',\n",
       "  'inequity',\n",
       "  'paparazzi',\n",
       "  'retaliatory',\n",
       "  'encounters',\n",
       "  'alarmingly',\n",
       "  'scientologist',\n",
       "  'sox',\n",
       "  'essays'],\n",
       " tensor([0.2390, 0.2301, 0.2261, 0.2246, 0.2238, 0.2229, 0.2227, 0.2213, 0.2190,\n",
       "         0.2186], device='cuda:0'))"
      ]
     },
     "execution_count": 74,
     "metadata": {},
     "output_type": "execute_result"
    }
   ],
   "source": [
    "get_similar_token(\"poor\", 10, True)"
   ]
  },
  {
   "cell_type": "code",
   "execution_count": 75,
   "metadata": {},
   "outputs": [
    {
     "name": "stdout",
     "output_type": "stream",
     "text": [
      "Index token of small:  404\n",
      "[544, 23126, 23071, 4861, 4588, 21375, 23554, 21874, 401, 7943]\n"
     ]
    },
    {
     "data": {
      "text/plain": [
       "(['large',\n",
       "  'vintner',\n",
       "  'deity',\n",
       "  'leonard',\n",
       "  'signals',\n",
       "  'garlic',\n",
       "  'slits',\n",
       "  'transcendence',\n",
       "  'set',\n",
       "  'louisiana'],\n",
       " tensor([0.2925, 0.2479, 0.2331, 0.2313, 0.2307, 0.2271, 0.2209, 0.2201, 0.2198,\n",
       "         0.2182], device='cuda:0'))"
      ]
     },
     "execution_count": 75,
     "metadata": {},
     "output_type": "execute_result"
    }
   ],
   "source": [
    "get_similar_token(\"small\", 10, True)"
   ]
  },
  {
   "cell_type": "code",
   "execution_count": 76,
   "metadata": {},
   "outputs": [
    {
     "name": "stdout",
     "output_type": "stream",
     "text": [
      "Index token of man:  167\n",
      "Index token of woman:  384\n",
      "Index token of good:  121\n"
     ]
    }
   ],
   "source": [
    "e1 = get_embedding('man')\n",
    "e2 = get_embedding('woman')\n",
    "d1 = get_embedding('good')"
   ]
  },
  {
   "cell_type": "code",
   "execution_count": 77,
   "metadata": {},
   "outputs": [],
   "source": [
    "W = net.embed_v.weight.data"
   ]
  },
  {
   "cell_type": "code",
   "execution_count": 78,
   "metadata": {},
   "outputs": [],
   "source": [
    "e = e1 - e2 + d1\n",
    "dst = torch.matmul(W, e) # / (torch.norm(W, 2) * torch.norm(e))\n",
    "topk = torch.topk(dst, 20)"
   ]
  },
  {
   "cell_type": "code",
   "execution_count": 79,
   "metadata": {},
   "outputs": [
    {
     "data": {
      "text/plain": [
       "(['frikik',\n",
       "  'hipster',\n",
       "  'sweepstakes',\n",
       "  'malevolent',\n",
       "  'florida',\n",
       "  'announcement',\n",
       "  'dictum',\n",
       "  'jewel',\n",
       "  'ably',\n",
       "  'skulls',\n",
       "  'phillips',\n",
       "  'rapacious',\n",
       "  'mistaking',\n",
       "  'feeds',\n",
       "  'ingrained',\n",
       "  'hospitalized',\n",
       "  'koch',\n",
       "  'descriptive',\n",
       "  'nature',\n",
       "  'logevall'],\n",
       " tensor([26.1943, 25.0949, 24.2238, 23.9985, 23.7607, 23.1993, 22.9982, 22.5340,\n",
       "         22.0786, 22.0722, 21.8094, 21.8015, 21.4114, 21.3108, 21.2377, 21.0165,\n",
       "         20.9168, 20.9048, 20.7945, 20.6814], device='cuda:0'))"
      ]
     },
     "execution_count": 79,
     "metadata": {},
     "output_type": "execute_result"
    }
   ],
   "source": [
    "vocab.idx_to_token([k for k in topk.indices.cpu().tolist()]), topk.values"
   ]
  },
  {
   "cell_type": "code",
   "execution_count": null,
   "metadata": {},
   "outputs": [],
   "source": []
  }
 ],
 "metadata": {
  "kernelspec": {
   "display_name": "env",
   "language": "python",
   "name": "python3"
  },
  "language_info": {
   "codemirror_mode": {
    "name": "ipython",
    "version": 3
   },
   "file_extension": ".py",
   "mimetype": "text/x-python",
   "name": "python",
   "nbconvert_exporter": "python",
   "pygments_lexer": "ipython3",
   "version": "3.9.10"
  },
  "orig_nbformat": 4,
  "vscode": {
   "interpreter": {
    "hash": "f7d1c444690c64dc164009c81e7c7e493213a917c1ee917acb226d895d2dc691"
   }
  }
 },
 "nbformat": 4,
 "nbformat_minor": 2
}
