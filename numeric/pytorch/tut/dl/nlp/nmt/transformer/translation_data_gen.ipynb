{
 "cells": [
  {
   "cell_type": "code",
   "execution_count": 26,
   "metadata": {},
   "outputs": [],
   "source": [
    "import pandas as pd\n",
    "import os \n",
    "import sys\n",
    "import collections\n",
    "from mosestokenizer import MosesTokenizer\n",
    "from multiprocessing import Pool\n",
    "import tempfile\n",
    "import numpy as np"
   ]
  },
  {
   "cell_type": "code",
   "execution_count": 27,
   "metadata": {},
   "outputs": [],
   "source": [
    "DATASET_PATH = \"/mnt/dl/Translation/WMT_15/en-fr\""
   ]
  },
  {
   "cell_type": "code",
   "execution_count": 28,
   "metadata": {},
   "outputs": [],
   "source": [
    "src_lang, tgt_lang = 'en', 'fr'"
   ]
  },
  {
   "cell_type": "code",
   "execution_count": 29,
   "metadata": {},
   "outputs": [
    {
     "data": {
      "text/plain": [
       "4145152"
      ]
     },
     "execution_count": 29,
     "metadata": {},
     "output_type": "execute_result"
    }
   ],
   "source": [
    "512 * 8096"
   ]
  },
  {
   "cell_type": "code",
   "execution_count": 30,
   "metadata": {},
   "outputs": [
    {
     "data": {
      "text/plain": [
       "4145152"
      ]
     },
     "execution_count": 30,
     "metadata": {},
     "output_type": "execute_result"
    }
   ],
   "source": [
    "MAX_DATASIZE = 512 * 8096\n",
    "MAX_DATASIZE"
   ]
  },
  {
   "cell_type": "code",
   "execution_count": 31,
   "metadata": {},
   "outputs": [],
   "source": [
    "train_file = os.path.join(DATASET_PATH,  'train.{}.{}')\n",
    "valid_file = os.path.join(DATASET_PATH, 'valid.{}.{}')\n",
    "test_file = os.path.join(DATASET_PATH,  'test.{}.{}')"
   ]
  },
  {
   "cell_type": "code",
   "execution_count": 32,
   "metadata": {},
   "outputs": [],
   "source": [
    "def read_file(fname, chunksize=int(4e6)):\n",
    "    print(\"Reading filename: \", fname)\n",
    "    lines = [pd.NA] * chunksize \n",
    "    print(\"List created\")\n",
    "    with open(fname, 'r', encoding=\"utf-8\") as f:\n",
    "        for i, line in enumerate(f):\n",
    "            if  i == len(lines):\n",
    "                break\n",
    "            lines[i] = line\n",
    "    print(f'Total lines for {fname}: {i + 1}')\n",
    "    return  pd.Series(lines).dropna(how='all')\n",
    "        "
   ]
  },
  {
   "cell_type": "code",
   "execution_count": 33,
   "metadata": {},
   "outputs": [],
   "source": [
    "def save_file(lines, fname):\n",
    "    with open(fname, \"w\") as f:\n",
    "        for line in lines:\n",
    "            f.write(line)\n",
    "            f.write(\"\\n\")\n",
    "    return True   "
   ]
  },
  {
   "cell_type": "code",
   "execution_count": 34,
   "metadata": {},
   "outputs": [
    {
     "name": "stdout",
     "output_type": "stream",
     "text": [
      "Reading filename:  /mnt/dl/Translation/WMT_15/en-fr/train.tok.clean.dl.en\n",
      "List created\n",
      "Total lines for /mnt/dl/Translation/WMT_15/en-fr/train.tok.clean.dl.en: 4145152\n",
      "Reading filename:  /mnt/dl/Translation/WMT_15/en-fr/train.tok.clean.dl.fr\n",
      "List created\n",
      "Total lines for /mnt/dl/Translation/WMT_15/en-fr/train.tok.clean.dl.fr: 4145152\n"
     ]
    }
   ],
   "source": [
    "train_df = pd.DataFrame({'src': read_file(train_file.format('tok.clean.dl', src_lang), MAX_DATASIZE), \n",
    "                        'tgt': read_file(train_file.format('tok.clean.dl', tgt_lang), MAX_DATASIZE), \n",
    "                        })\n",
    "# valid_df = pd.DataFrame({'src': read_file(valid_file.format('tok.clean', src_lang), 10000), \n",
    "#                         'tgt': read_file(valid_file.format('tok.clean', tgt_lang), 10000), \n",
    "#                         })\n",
    "# test_df = pd.DataFrame({'src': read_file(test_file.format('tok.clean', src_lang), MAX_DATASIZE), \n",
    "#                         'tgt': read_file(test_file.format('tok.clean', tgt_lang), MAX_DATASIZE), \n",
    "#                         })\n"
   ]
  },
  {
   "cell_type": "code",
   "execution_count": 35,
   "metadata": {},
   "outputs": [
    {
     "data": {
      "text/html": [
       "<div>\n",
       "<style scoped>\n",
       "    .dataframe tbody tr th:only-of-type {\n",
       "        vertical-align: middle;\n",
       "    }\n",
       "\n",
       "    .dataframe tbody tr th {\n",
       "        vertical-align: top;\n",
       "    }\n",
       "\n",
       "    .dataframe thead th {\n",
       "        text-align: right;\n",
       "    }\n",
       "</style>\n",
       "<table border=\"1\" class=\"dataframe\">\n",
       "  <thead>\n",
       "    <tr style=\"text-align: right;\">\n",
       "      <th></th>\n",
       "      <th>src</th>\n",
       "      <th>tgt</th>\n",
       "    </tr>\n",
       "  </thead>\n",
       "  <tbody>\n",
       "    <tr>\n",
       "      <th>0</th>\n",
       "      <td>In his briefing on economic development , Al H...</td>\n",
       "      <td>Dans sa présentation sur le développement écon...</td>\n",
       "    </tr>\n",
       "    <tr>\n",
       "      <th>1</th>\n",
       "      <td>( b ) Positive aspects\\n</td>\n",
       "      <td>b ) Aspects positifs\\n</td>\n",
       "    </tr>\n",
       "    <tr>\n",
       "      <th>2</th>\n",
       "      <td>Activities of the second type will be a major ...</td>\n",
       "      <td>Pour la mise en oeuvre , la deuxième catégorie...</td>\n",
       "    </tr>\n",
       "    <tr>\n",
       "      <th>3</th>\n",
       "      <td>Emergency supplemental requirements with respe...</td>\n",
       "      <td>Les ressources supplémentaires à prélever d&amp;ap...</td>\n",
       "    </tr>\n",
       "    <tr>\n",
       "      <th>4</th>\n",
       "      <td>Order No. 1991-R-140 dated May 17 , 1991 - Cit...</td>\n",
       "      <td>L&amp;apos; arrêté no 1991-R-140 du 17 mai 1991 - ...</td>\n",
       "    </tr>\n",
       "    <tr>\n",
       "      <th>...</th>\n",
       "      <td>...</td>\n",
       "      <td>...</td>\n",
       "    </tr>\n",
       "    <tr>\n",
       "      <th>4145147</th>\n",
       "      <td>Documentation :\\n</td>\n",
       "      <td>Documentation\\n</td>\n",
       "    </tr>\n",
       "    <tr>\n",
       "      <th>4145148</th>\n",
       "      <td>Unfortunately , we all know that this amendmen...</td>\n",
       "      <td>Nous savons tous que cet amendement n&amp;apos; a ...</td>\n",
       "    </tr>\n",
       "    <tr>\n",
       "      <th>4145149</th>\n",
       "      <td>Furthermore , the resumption of the Peace Jirg...</td>\n",
       "      <td>En outre , la reprise du processus de paix de ...</td>\n",
       "    </tr>\n",
       "    <tr>\n",
       "      <th>4145150</th>\n",
       "      <td>For product vs. product comparisons , the actu...</td>\n",
       "      <td>Pour les comparaisons de produit à produit , l...</td>\n",
       "    </tr>\n",
       "    <tr>\n",
       "      <th>4145151</th>\n",
       "      <td>In early January 18 officers and 196 NCOs went...</td>\n",
       "      <td>Il réclame également 200 sous-officiers aguerr...</td>\n",
       "    </tr>\n",
       "  </tbody>\n",
       "</table>\n",
       "<p>4145152 rows × 2 columns</p>\n",
       "</div>"
      ],
      "text/plain": [
       "                                                       src   \n",
       "0        In his briefing on economic development , Al H...  \\\n",
       "1                                 ( b ) Positive aspects\\n   \n",
       "2        Activities of the second type will be a major ...   \n",
       "3        Emergency supplemental requirements with respe...   \n",
       "4        Order No. 1991-R-140 dated May 17 , 1991 - Cit...   \n",
       "...                                                    ...   \n",
       "4145147                                  Documentation :\\n   \n",
       "4145148  Unfortunately , we all know that this amendmen...   \n",
       "4145149  Furthermore , the resumption of the Peace Jirg...   \n",
       "4145150  For product vs. product comparisons , the actu...   \n",
       "4145151  In early January 18 officers and 196 NCOs went...   \n",
       "\n",
       "                                                       tgt  \n",
       "0        Dans sa présentation sur le développement écon...  \n",
       "1                                   b ) Aspects positifs\\n  \n",
       "2        Pour la mise en oeuvre , la deuxième catégorie...  \n",
       "3        Les ressources supplémentaires à prélever d&ap...  \n",
       "4        L&apos; arrêté no 1991-R-140 du 17 mai 1991 - ...  \n",
       "...                                                    ...  \n",
       "4145147                                    Documentation\\n  \n",
       "4145148  Nous savons tous que cet amendement n&apos; a ...  \n",
       "4145149  En outre , la reprise du processus de paix de ...  \n",
       "4145150  Pour les comparaisons de produit à produit , l...  \n",
       "4145151  Il réclame également 200 sous-officiers aguerr...  \n",
       "\n",
       "[4145152 rows x 2 columns]"
      ]
     },
     "execution_count": 35,
     "metadata": {},
     "output_type": "execute_result"
    }
   ],
   "source": [
    "train_df"
   ]
  },
  {
   "cell_type": "code",
   "execution_count": 18,
   "metadata": {},
   "outputs": [
    {
     "data": {
      "text/html": [
       "<div>\n",
       "<style scoped>\n",
       "    .dataframe tbody tr th:only-of-type {\n",
       "        vertical-align: middle;\n",
       "    }\n",
       "\n",
       "    .dataframe tbody tr th {\n",
       "        vertical-align: top;\n",
       "    }\n",
       "\n",
       "    .dataframe thead th {\n",
       "        text-align: right;\n",
       "    }\n",
       "</style>\n",
       "<table border=\"1\" class=\"dataframe\">\n",
       "  <thead>\n",
       "    <tr style=\"text-align: right;\">\n",
       "      <th></th>\n",
       "      <th>src</th>\n",
       "      <th>tgt</th>\n",
       "    </tr>\n",
       "  </thead>\n",
       "  <tbody>\n",
       "    <tr>\n",
       "      <th>0</th>\n",
       "      <td>In his briefing on economic development , Al H...</td>\n",
       "      <td>Dans sa présentation sur le développement écon...</td>\n",
       "    </tr>\n",
       "    <tr>\n",
       "      <th>1</th>\n",
       "      <td>( b ) Positive aspects\\n</td>\n",
       "      <td>b ) Aspects positifs\\n</td>\n",
       "    </tr>\n",
       "    <tr>\n",
       "      <th>2</th>\n",
       "      <td>Crop insurance payments include only governmen...</td>\n",
       "      <td>Les indemnités d ’ assurance-récolte comprenne...</td>\n",
       "    </tr>\n",
       "    <tr>\n",
       "      <th>3</th>\n",
       "      <td>Activities of the second type will be a major ...</td>\n",
       "      <td>Pour la mise en oeuvre , la deuxième catégorie...</td>\n",
       "    </tr>\n",
       "    <tr>\n",
       "      <th>4</th>\n",
       "      <td>Emergency supplemental requirements with respe...</td>\n",
       "      <td>Les ressources supplémentaires à prélever d&amp;ap...</td>\n",
       "    </tr>\n",
       "    <tr>\n",
       "      <th>...</th>\n",
       "      <td>...</td>\n",
       "      <td>...</td>\n",
       "    </tr>\n",
       "    <tr>\n",
       "      <th>40729915</th>\n",
       "      <td>Provide the &amp;quot; trade date &amp;quot; not the &amp;...</td>\n",
       "      <td>Indiquer la date de l ’ opération et non celle...</td>\n",
       "    </tr>\n",
       "    <tr>\n",
       "      <th>40729916</th>\n",
       "      <td>Heather says a friend had a BabyFirst home vis...</td>\n",
       "      <td>Heather dit qu ’ une de ses amies avait eu une...</td>\n",
       "    </tr>\n",
       "    <tr>\n",
       "      <th>40729917</th>\n",
       "      <td>&amp;quot; Software &amp;quot; specially designed or m...</td>\n",
       "      <td>Cuves de réacteurs Cuves métalliques , ou élém...</td>\n",
       "    </tr>\n",
       "    <tr>\n",
       "      <th>40729918</th>\n",
       "      <td>That would definitely be interesting .\\n</td>\n",
       "      <td>Ce serait certainement intéressant .\\n</td>\n",
       "    </tr>\n",
       "    <tr>\n",
       "      <th>40729919</th>\n",
       "      <td>• Resources were allocated to 29 strategically...</td>\n",
       "      <td>• Des ressources ont été affectées à 29 engage...</td>\n",
       "    </tr>\n",
       "  </tbody>\n",
       "</table>\n",
       "<p>40729920 rows × 2 columns</p>\n",
       "</div>"
      ],
      "text/plain": [
       "                                                        src   \n",
       "0         In his briefing on economic development , Al H...  \\\n",
       "1                                  ( b ) Positive aspects\\n   \n",
       "2         Crop insurance payments include only governmen...   \n",
       "3         Activities of the second type will be a major ...   \n",
       "4         Emergency supplemental requirements with respe...   \n",
       "...                                                     ...   \n",
       "40729915  Provide the &quot; trade date &quot; not the &...   \n",
       "40729916  Heather says a friend had a BabyFirst home vis...   \n",
       "40729917  &quot; Software &quot; specially designed or m...   \n",
       "40729918           That would definitely be interesting .\\n   \n",
       "40729919  • Resources were allocated to 29 strategically...   \n",
       "\n",
       "                                                        tgt  \n",
       "0         Dans sa présentation sur le développement écon...  \n",
       "1                                    b ) Aspects positifs\\n  \n",
       "2         Les indemnités d ’ assurance-récolte comprenne...  \n",
       "3         Pour la mise en oeuvre , la deuxième catégorie...  \n",
       "4         Les ressources supplémentaires à prélever d&ap...  \n",
       "...                                                     ...  \n",
       "40729915  Indiquer la date de l ’ opération et non celle...  \n",
       "40729916  Heather dit qu ’ une de ses amies avait eu une...  \n",
       "40729917  Cuves de réacteurs Cuves métalliques , ou élém...  \n",
       "40729918             Ce serait certainement intéressant .\\n  \n",
       "40729919  • Des ressources ont été affectées à 29 engage...  \n",
       "\n",
       "[40729920 rows x 2 columns]"
      ]
     },
     "execution_count": 18,
     "metadata": {},
     "output_type": "execute_result"
    }
   ],
   "source": [
    "train_df"
   ]
  },
  {
   "cell_type": "code",
   "execution_count": 36,
   "metadata": {},
   "outputs": [
    {
     "data": {
      "text/plain": [
       "<PandasArray>\n",
       "['In early January 18 officers and 196 NCOs went to Britain to take up training duties , with more to follow in subsequent weeks .\\n', 'Il réclame également 200 sous-officiers aguerris , qui doivent tous être détachés pour une période de trois mois et qui pourront être rappelés si leur présence devient nécessaire aux opérations .\\n']\n",
       "Length: 2, dtype: object"
      ]
     },
     "execution_count": 36,
     "metadata": {},
     "output_type": "execute_result"
    }
   ],
   "source": [
    "train_df.iloc[-1].array"
   ]
  },
  {
   "cell_type": "code",
   "execution_count": 48,
   "metadata": {},
   "outputs": [],
   "source": [
    "STEP = 250005"
   ]
  },
  {
   "cell_type": "code",
   "execution_count": 49,
   "metadata": {},
   "outputs": [
    {
     "data": {
      "text/plain": [
       "'We &apos;re always talking about our image on the outside , but I &apos;d be interested in hearing what suggestions you have to improve our image on the inside of the military , because there &apos;s a big problem of our image right there .\\n'"
      ]
     },
     "execution_count": 49,
     "metadata": {},
     "output_type": "execute_result"
    }
   ],
   "source": [
    "train_df.iloc[STEP].array[0]"
   ]
  },
  {
   "cell_type": "code",
   "execution_count": 50,
   "metadata": {},
   "outputs": [
    {
     "data": {
      "text/plain": [
       "'Nous parlons constamment de notre image à l&apos; étranger , et j&apos; aimerais donc savoir ce que vous pourriez proposer pour améliorer notre image au sein même de l&apos; armée , parce qu&apos; il semble y avoir un grand problème de ce côté-là .\\n'"
      ]
     },
     "execution_count": 50,
     "metadata": {},
     "output_type": "execute_result"
    }
   ],
   "source": [
    "train_df.iloc[STEP].array[1]"
   ]
  },
  {
   "cell_type": "code",
   "execution_count": null,
   "metadata": {},
   "outputs": [],
   "source": [
    "train_df"
   ]
  },
  {
   "cell_type": "code",
   "execution_count": null,
   "metadata": {},
   "outputs": [],
   "source": [
    "valid_df"
   ]
  },
  {
   "cell_type": "code",
   "execution_count": null,
   "metadata": {},
   "outputs": [],
   "source": [
    "test_df"
   ]
  },
  {
   "cell_type": "code",
   "execution_count": null,
   "metadata": {},
   "outputs": [],
   "source": [
    "def tokenize_filter(text, lang):\n",
    "    with MosesTokenizer(lang) as tokenize:\n",
    "        return \" \".join(tokenize(text))\n",
    "    \n",
    "def latin_filter(src_line, tgt_line):\n",
    "    try:\n",
    "        src_line.encode(\"latin1\")\n",
    "        tgt_line.encode(\"latin1\")\n",
    "    except:\n",
    "        return False\n",
    "    return True  \n",
    "\n",
    "def sentence_length_ratio_filter(src_line, tgt_line, max_len=250, min_len=1, ratio=None):\n",
    "    src_len = src_line.count(\" \")\n",
    "    tgt_len = tgt_line.count(\" \")\n",
    "    \n",
    "    if not (min_len <= src_len <= max_len and min_len <= tgt_len <= max_len):\n",
    "        return False\n",
    "    if ratio is None:\n",
    "        return True\n",
    "    if max(src_len, tgt_len) > ratio * min(src_len, tgt_len):\n",
    "        return False\n",
    "    return True\n",
    "    \n",
    "\n",
    "def process_train(src_lines, tgt_lines, src_fname, tgt_fname,):\n",
    "    print(\"processing train....\")\n",
    "    src_tokens = [''] * len(src_lines)\n",
    "    tgt_tokens = [''] * len(tgt_lines)\n",
    "    assert len(src_lines) == len(tgt_lines)\n",
    "    for i in range(len(src_lines)):\n",
    "        if i > 0 and i % 1000 == 0:\n",
    "            print(\"processed \", i)\n",
    "        src_line, tgt_line = src_lines[i], tgt_lines[i]\n",
    "        src_line = tokenize_filter(src_line, src_lang)\n",
    "        tgt_line = tokenize_filter(tgt_line, tgt_lang)\n",
    "        if not latin_filter(src_line, tgt_line) or not sentence_length_ratio_filter(src_line, tgt_line, ratio=2.0):\n",
    "            continue\n",
    "        src_tokens[i] = src_line\n",
    "        tgt_tokens[i] = tgt_line\n",
    "    print(\"writing to files\")\n",
    "    \n",
    "    save_file(src_tokens, src_fname)\n",
    "    save_file(tgt_tokens, tgt_fname)\n",
    "    print(\"done writing to files\")\n",
    "    \n",
    "\n",
    "def process_test(src_lines, tgt_lines, src_fname, tgt_fname,):\n",
    "    src_tokens = [''] * len(src_lines)\n",
    "    tgt_tokens = [''] * len(tgt_lines)\n",
    "    assert len(src_lines) == len(tgt_lines)\n",
    "    for i in range(len(src_lines)):\n",
    "        src_line, tgt_line = src_lines[i], tgt_lines[i]\n",
    "        src_line = tokenize_filter(src_line, src_lang)\n",
    "        tgt_line = tokenize_filter(tgt_line, tgt_lang)\n",
    "        if not sentence_length_ratio_filter(src_line, tgt_line, ratio=2.0):\n",
    "            continue\n",
    "        src_tokens[i] = src_line\n",
    "        tgt_tokens[i] = tgt_line\n",
    "    save_file(src_tokens, src_fname)\n",
    "    save_file(tgt_tokens, tgt_fname)\n",
    "    \n",
    "    \n",
    "def process(src_lines, tgt_lines, process_fn, nproc=14):\n",
    "    # size = min(10000, len(src_lines))\n",
    "    size = len(src_lines)\n",
    "    # size = 100\n",
    "    bins = [i * (size // nproc) for i in range(nproc + 1)]\n",
    "    bins[-1] = size\n",
    "    src_args = [src_lines[bins[i]:bins[i+1]] for i in range(nproc)]\n",
    "    tgt_args = [tgt_lines[bins[i]:bins[i+1]] for i in range(nproc)]\n",
    "    assert len(src_args) == len(tgt_args) == nproc\n",
    "    print([len(a) for a in tgt_args])\n",
    "    pool = Pool(nproc)\n",
    "    src_tmps = [tempfile.NamedTemporaryFile(delete=False) for _ in src_args]\n",
    "    tgt_tmps = [tempfile.NamedTemporaryFile(delete=False) for _ in tgt_args]\n",
    "    try:\n",
    "        for src_proc_lines, tgt_proc_lines, src_tmp, tgt_tmp in zip(src_args, tgt_args, src_tmps, tgt_tmps):\n",
    "            print(len(src_proc_lines))\n",
    "            pool.apply_async(process_fn, (src_proc_lines, tgt_proc_lines, src_tmp.name, tgt_tmp.name))\n",
    "        pool.close()\n",
    "        pool.join()\n",
    "        print(\"Done processing\")\n",
    "        outputs = {\"src\": [], \"tgt\": []}\n",
    "        for i in range(nproc):\n",
    "            src_tmp = src_tmps[i]\n",
    "            tgt_tmp = tgt_tmps[i]\n",
    "            outputs[\"src\"].append(read_file(src_tmp.name))\n",
    "            outputs[\"tgt\"].append(read_file(tgt_tmp.name))\n",
    "            src_tmp.close()\n",
    "            tgt_tmp.close()\n",
    "\n",
    "    except Exception as e:\n",
    "        for i in range(nproc):\n",
    "            src_tmps[i].close()\n",
    "            tgt_tmps[i].close()\n",
    "        \n",
    "        raise e\n",
    "    outputs['src'] = pd.concat(outputs['src']).reset_index(drop=True)\n",
    "    outputs['tgt'] = pd.concat(outputs['tgt']).reset_index(drop=True)\n",
    "    df = pd.DataFrame(outputs)\n",
    "    df = df[df['src'] != '\\n']\n",
    "    return df \n",
    "\n"
   ]
  },
  {
   "cell_type": "code",
   "execution_count": null,
   "metadata": {},
   "outputs": [],
   "source": [
    "# train_outs = process(train_df['src'].values, train_df['tgt'].values, process_train)\n",
    "# train_outs"
   ]
  },
  {
   "cell_type": "code",
   "execution_count": null,
   "metadata": {},
   "outputs": [],
   "source": [
    "# valid_outs = process(valid_df['src'].values, valid_df['tgt'].values, process_train)\n",
    "# valid_outs"
   ]
  },
  {
   "cell_type": "code",
   "execution_count": null,
   "metadata": {},
   "outputs": [],
   "source": [
    "# test_outs = process(test_df['src'].values, test_df['tgt'].values, process_test)\n",
    "# test_outs"
   ]
  },
  {
   "cell_type": "code",
   "execution_count": null,
   "metadata": {},
   "outputs": [],
   "source": []
  }
 ],
 "metadata": {
  "kernelspec": {
   "display_name": "env_nlp",
   "language": "python",
   "name": "python3"
  },
  "language_info": {
   "codemirror_mode": {
    "name": "ipython",
    "version": 3
   },
   "file_extension": ".py",
   "mimetype": "text/x-python",
   "name": "python",
   "nbconvert_exporter": "python",
   "pygments_lexer": "ipython3",
   "version": "3.9.2"
  },
  "orig_nbformat": 4
 },
 "nbformat": 4,
 "nbformat_minor": 2
}
