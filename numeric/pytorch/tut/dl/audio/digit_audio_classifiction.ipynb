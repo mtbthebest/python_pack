{
 "cells": [
  {
   "cell_type": "code",
   "execution_count": 1,
   "metadata": {},
   "outputs": [
    {
     "ename": "ModuleNotFoundError",
     "evalue": "No module named 'librosa'",
     "output_type": "error",
     "traceback": [
      "\u001b[0;31m---------------------------------------------------------------------------\u001b[0m",
      "\u001b[0;31mModuleNotFoundError\u001b[0m                       Traceback (most recent call last)",
      "\u001b[1;32m/numeric/pytorch/tut/dl/audio/digit_audio_classifiction.ipynb Cell 1\u001b[0m line \u001b[0;36m1\n\u001b[0;32m----> <a href='vscode-notebook-cell://ssh-remote%2Btorch_docker/numeric/pytorch/tut/dl/audio/digit_audio_classifiction.ipynb#W0sdnNjb2RlLXJlbW90ZQ%3D%3D?line=0'>1</a>\u001b[0m \u001b[39mimport\u001b[39;00m \u001b[39mlibrosa\u001b[39;00m\n\u001b[1;32m      <a href='vscode-notebook-cell://ssh-remote%2Btorch_docker/numeric/pytorch/tut/dl/audio/digit_audio_classifiction.ipynb#W0sdnNjb2RlLXJlbW90ZQ%3D%3D?line=1'>2</a>\u001b[0m \u001b[39mimport\u001b[39;00m \u001b[39mlibrosa\u001b[39;00m\u001b[39m.\u001b[39;00m\u001b[39mdisplay\u001b[39;00m\n\u001b[1;32m      <a href='vscode-notebook-cell://ssh-remote%2Btorch_docker/numeric/pytorch/tut/dl/audio/digit_audio_classifiction.ipynb#W0sdnNjb2RlLXJlbW90ZQ%3D%3D?line=2'>3</a>\u001b[0m \u001b[39mimport\u001b[39;00m \u001b[39mos\u001b[39;00m\n",
      "\u001b[0;31mModuleNotFoundError\u001b[0m: No module named 'librosa'"
     ]
    }
   ],
   "source": [
    "import librosa\n",
    "import librosa.display\n",
    "import os\n",
    "import numpy as np\n",
    "import torch\n",
    "from torch import nn\n",
    "import random"
   ]
  },
  {
   "cell_type": "code",
   "execution_count": 2,
   "metadata": {},
   "outputs": [],
   "source": [
    "dataset_path = os.getenv(\"DL_DATASET\")"
   ]
  },
  {
   "cell_type": "code",
   "execution_count": 3,
   "metadata": {},
   "outputs": [
    {
     "data": {
      "text/plain": [
       "'/media/mtb/nas/datasets/'"
      ]
     },
     "execution_count": 3,
     "metadata": {},
     "output_type": "execute_result"
    }
   ],
   "source": [
    "dataset_path"
   ]
  },
  {
   "cell_type": "code",
   "execution_count": 4,
   "metadata": {},
   "outputs": [],
   "source": [
    "path = os.path.join(dataset_path, \"Free Spoken Digit Dataset (FSDD)\", \"recordings\")\n"
   ]
  },
  {
   "cell_type": "code",
   "execution_count": 5,
   "metadata": {},
   "outputs": [],
   "source": [
    "files = sorted(os.listdir(path))"
   ]
  },
  {
   "cell_type": "code",
   "execution_count": 6,
   "metadata": {},
   "outputs": [],
   "source": [
    "records = {}\n",
    "for digit in range(0, 10):\n",
    "    records[digit] = [os.path.join(path, f) for f in files if f[0] == str(digit)]"
   ]
  },
  {
   "cell_type": "code",
   "execution_count": 7,
   "metadata": {},
   "outputs": [],
   "source": [
    "max_length = 1.5 # 1s"
   ]
  },
  {
   "cell_type": "code",
   "execution_count": 8,
   "metadata": {},
   "outputs": [],
   "source": [
    "filename = records[0][0]\n",
    "samples, sample_rate = librosa.load(filename)"
   ]
  },
  {
   "cell_type": "code",
   "execution_count": 9,
   "metadata": {},
   "outputs": [
    {
     "data": {
      "text/plain": [
       "22050"
      ]
     },
     "execution_count": 9,
     "metadata": {},
     "output_type": "execute_result"
    }
   ],
   "source": [
    "sample_rate"
   ]
  },
  {
   "cell_type": "code",
   "execution_count": 10,
   "metadata": {},
   "outputs": [
    {
     "data": {
      "text/plain": [
       "(6571,)"
      ]
     },
     "execution_count": 10,
     "metadata": {},
     "output_type": "execute_result"
    }
   ],
   "source": [
    "samples.shape"
   ]
  },
  {
   "cell_type": "code",
   "execution_count": 11,
   "metadata": {},
   "outputs": [
    {
     "name": "stdout",
     "output_type": "stream",
     "text": [
      "[-0.00959835 -0.01158336 -0.01204519 ...  0.00977148  0.00670916\n",
      "  0.        ] 22050 (12599,)\n",
      "[-0.00904024 -0.01047492 -0.01028862 ... -0.00939842 -0.00546714\n",
      "  0.        ] 22050 (10739,)\n",
      "[4.5371056e-04 5.4217811e-04 5.6023826e-04 ... 1.8139806e-04 7.2749441e-05\n",
      " 0.0000000e+00] 22050 (21623,)\n",
      "[ 0.00022888  0.00029364  0.00027108 ... -0.00038984 -0.0002718\n",
      "  0.        ] 22050 (9937,)\n",
      "[-6.0064533e-05 -9.6634118e-05 -1.0220682e-04 ... -1.0517509e-04\n",
      " -5.8315847e-05  0.0000000e+00] 22050 (11781,)\n"
     ]
    }
   ],
   "source": [
    "for digit in range(5):\n",
    "    filename = records[digit][np.random.randint(0, 150)]\n",
    "    samples, sample_rate = librosa.load(filename)\n",
    "    print(samples, sample_rate, samples.shape)"
   ]
  },
  {
   "cell_type": "code",
   "execution_count": 12,
   "metadata": {},
   "outputs": [
    {
     "data": {
      "text/plain": [
       "(array([-6.0064533e-05, -9.6634118e-05, -1.0220682e-04, ...,\n",
       "        -1.0517509e-04, -5.8315847e-05,  0.0000000e+00], dtype=float32),\n",
       " 22050,\n",
       " (11781,))"
      ]
     },
     "execution_count": 12,
     "metadata": {},
     "output_type": "execute_result"
    }
   ],
   "source": [
    "samples, sample_rate, samples.shape"
   ]
  },
  {
   "cell_type": "code",
   "execution_count": 13,
   "metadata": {},
   "outputs": [
    {
     "name": "stderr",
     "output_type": "stream",
     "text": [
      "/tmp/ipykernel_8153/833007516.py:1: FutureWarning: Pass size=33075 as keyword args. From version 0.10 passing these as positional arguments will result in an error\n",
      "  short_samples = librosa.util.fix_length(samples, int(sample_rate * max_length))\n"
     ]
    },
    {
     "data": {
      "text/plain": [
       "(33075,)"
      ]
     },
     "execution_count": 13,
     "metadata": {},
     "output_type": "execute_result"
    }
   ],
   "source": [
    "short_samples = librosa.util.fix_length(samples, int(sample_rate * max_length))\n",
    "short_samples.shape"
   ]
  },
  {
   "cell_type": "code",
   "execution_count": 14,
   "metadata": {},
   "outputs": [
    {
     "name": "stderr",
     "output_type": "stream",
     "text": [
      "/tmp/ipykernel_8153/1538198112.py:1: FutureWarning: Pass y=[-6.0064533e-05 -9.6634118e-05 -1.0220682e-04 ...  0.0000000e+00\n",
      "  0.0000000e+00  0.0000000e+00] as keyword args. From version 0.10 passing these as positional arguments will result in an error\n",
      "  melSpectrum = librosa.feature.melspectrogram(short_samples, sr=sample_rate, n_mels=128)\n"
     ]
    }
   ],
   "source": [
    "melSpectrum = librosa.feature.melspectrogram(short_samples, sr=sample_rate, n_mels=128)"
   ]
  },
  {
   "cell_type": "code",
   "execution_count": 15,
   "metadata": {},
   "outputs": [],
   "source": [
    "import matplotlib.pyplot as plt"
   ]
  },
  {
   "cell_type": "code",
   "execution_count": 16,
   "metadata": {},
   "outputs": [
    {
     "data": {
      "text/plain": [
       "[<matplotlib.lines.Line2D at 0x7fecaae8aa30>]"
      ]
     },
     "execution_count": 16,
     "metadata": {},
     "output_type": "execute_result"
    },
    {
     "data": {
      "image/png": "[encoded data removed]",
      "text/plain": [
       "<Figure size 640x480 with 1 Axes>"
      ]
     },
     "metadata": {},
     "output_type": "display_data"
    }
   ],
   "source": [
    "plt.plot(samples, label='samples', color='blue')"
   ]
  },
  {
   "cell_type": "code",
   "execution_count": 17,
   "metadata": {},
   "outputs": [
    {
     "data": {
      "text/plain": [
       "[<matplotlib.lines.Line2D at 0x7fecaad78820>]"
      ]
     },
     "execution_count": 17,
     "metadata": {},
     "output_type": "execute_result"
    },
    {
     "data": {
      "image/png": "[encoded data removed]",
      "text/plain": [
       "<Figure size 640x480 with 1 Axes>"
      ]
     },
     "metadata": {},
     "output_type": "display_data"
    }
   ],
   "source": [
    "plt.plot(short_samples, label='short_samples', color='red')"
   ]
  },
  {
   "cell_type": "code",
   "execution_count": 18,
   "metadata": {},
   "outputs": [
    {
     "data": {
      "text/plain": [
       "array([[1.7009147e-04, 4.4067952e-04, 2.4581872e-04, ..., 0.0000000e+00,\n",
       "        0.0000000e+00, 0.0000000e+00],\n",
       "       [3.1308091e-04, 7.3944696e-04, 4.2712159e-04, ..., 0.0000000e+00,\n",
       "        0.0000000e+00, 0.0000000e+00],\n",
       "       [8.7204666e-05, 2.3403294e-04, 3.4270476e-04, ..., 0.0000000e+00,\n",
       "        0.0000000e+00, 0.0000000e+00],\n",
       "       ...,\n",
       "       [2.9452538e-11, 7.3220978e-12, 8.1679003e-19, ..., 0.0000000e+00,\n",
       "        0.0000000e+00, 0.0000000e+00],\n",
       "       [2.9093464e-11, 7.2329824e-12, 1.3053681e-18, ..., 0.0000000e+00,\n",
       "        0.0000000e+00, 0.0000000e+00],\n",
       "       [2.8858489e-11, 7.1746519e-12, 1.1058781e-18, ..., 0.0000000e+00,\n",
       "        0.0000000e+00, 0.0000000e+00]], dtype=float32)"
      ]
     },
     "execution_count": 18,
     "metadata": {},
     "output_type": "execute_result"
    }
   ],
   "source": [
    "melSpectrum"
   ]
  },
  {
   "cell_type": "code",
   "execution_count": 19,
   "metadata": {},
   "outputs": [
    {
     "data": {
      "text/plain": [
       "array([[-57.16629 , -53.03189 , -55.566963, ..., -80.      , -80.      ,\n",
       "        -80.      ],\n",
       "       [-54.51655 , -50.784046, -53.167603, ..., -80.      , -80.      ,\n",
       "        -80.      ],\n",
       "       [-60.06772 , -55.780342, -54.123917, ..., -80.      , -80.      ,\n",
       "        -80.      ],\n",
       "       ...,\n",
       "       [-80.      , -80.      , -80.      , ..., -80.      , -80.      ,\n",
       "        -80.      ],\n",
       "       [-80.      , -80.      , -80.      , ..., -80.      , -80.      ,\n",
       "        -80.      ],\n",
       "       [-80.      , -80.      , -80.      , ..., -80.      , -80.      ,\n",
       "        -80.      ]], dtype=float32)"
      ]
     },
     "execution_count": 19,
     "metadata": {},
     "output_type": "execute_result"
    }
   ],
   "source": [
    "logMelspectrogram = librosa.power_to_db(melSpectrum, ref=np.max)\n",
    "logMelspectrogram"
   ]
  },
  {
   "cell_type": "code",
   "execution_count": 20,
   "metadata": {},
   "outputs": [
    {
     "data": {
      "image/png": "[encoded data removed]",
      "text/plain": [
       "<Figure size 640x480 with 2 Axes>"
      ]
     },
     "metadata": {},
     "output_type": "display_data"
    }
   ],
   "source": [
    "fig = plt.figure()\n",
    "librosa.display.specshow(logMelspectrogram, sr=sample_rate, x_axis='time', y_axis='mel', cmap=\"jet\")\n",
    "plt.title('Mel log-frequency power spectrogram')\n",
    "plt.colorbar(pad=0.01, format='%+02.0f dB')\n",
    "plt.tight_layout()  "
   ]
  },
  {
   "cell_type": "code",
   "execution_count": 21,
   "metadata": {},
   "outputs": [
    {
     "name": "stdout",
     "output_type": "stream",
     "text": [
      "Lable 0 Size: (300)\n",
      "Lable 1 Size: (300)\n",
      "Lable 2 Size: (300)\n",
      "Lable 3 Size: (300)\n",
      "Lable 4 Size: (300)\n",
      "Lable 5 Size: (300)\n",
      "Lable 6 Size: (300)\n",
      "Lable 7 Size: (300)\n",
      "Lable 8 Size: (300)\n",
      "Lable 9 Size: (300)\n"
     ]
    }
   ],
   "source": [
    "for digit in range(10):\n",
    "    print(f\"Lable {digit} Size: ({len(records[digit])})\")"
   ]
  },
  {
   "cell_type": "code",
   "execution_count": 22,
   "metadata": {},
   "outputs": [],
   "source": [
    "from torch.utils.data import DataLoader, Dataset\n"
   ]
  },
  {
   "cell_type": "code",
   "execution_count": 23,
   "metadata": {},
   "outputs": [],
   "source": [
    "class Normalize():\n",
    "    # Normalize between -1, 1\n",
    "    def __init__(self, max_value=-80.) -> None:\n",
    "        self.max = max_value\n",
    "    \n",
    "    def __call__(self, x):\n",
    "        return(x + 80) / 80.\n",
    "\n",
    "class TimePitchStretch():\n",
    "    \n",
    "    def __call__(self, x, sample_rate):\n",
    "        ts = random.choice([0.75,1,1.25])\n",
    "        ps = random.choice([-1,0,+1])\n",
    "        x = librosa.effects.time_stretch(x, rate=ts)\n",
    "        x = librosa.effects.pitch_shift(x, sr=sample_rate, n_steps=ps)\n",
    "        return x\n",
    "    \n",
    "class Compose:\n",
    "    \n",
    "    def __init__(self, transforms) -> None:\n",
    "        self.transforms = transforms\n",
    "    \n",
    "    def __call__(self, x, *args):\n",
    "        for op in self.transforms:\n",
    "            x = op(x, *args)\n",
    "        return x\n",
    "\n",
    "class FSDDDataset(Dataset):\n",
    "    AUDIO_MAX_LENGTH = 1.5\n",
    "    def __init__(self, path, transforms=None) -> None:\n",
    "        self.path = path\n",
    "        self.files = sorted(os.listdir(path))\n",
    "        self.data = self.load()\n",
    "\n",
    "        np.random.shuffle(self.data)\n",
    "        self.transforms = transforms\n",
    "        self.normalizer = Normalize()\n",
    "        \n",
    "    def __getitem__(self, index):\n",
    "        label, audio_path = self.data[index]\n",
    "        feature = self.process_audio(audio_path) # nmel, time\n",
    "        feature = self.normalizer(feature)\n",
    "        return feature, label\n",
    "    \n",
    "    def process_audio(self, filename):\n",
    "        sample, sample_rate = librosa.load(filename)\n",
    "        if self.transforms:\n",
    "            sample = self._transform(sample, sample_rate) \n",
    "        short_sample = librosa.util.fix_length(sample, size=int(sample_rate * self.AUDIO_MAX_LENGTH))\n",
    "        mel_spect = librosa.feature.melspectrogram(y=short_sample.astype(np.float32), sr=sample_rate, n_mels=128)\n",
    "        log_mel_spect =  librosa.power_to_db(mel_spect, ref=np.max)\n",
    "        return log_mel_spect\n",
    "\n",
    "    def load(self):\n",
    "        records = []\n",
    "        for digit in range(0, 10):\n",
    "            records.extend([(digit, os.path.join(self.path, f)) \n",
    "                            for f in self.files if f[0] == str(digit)])\n",
    "        return records\n",
    "    \n",
    "    def __len__(self):\n",
    "        return len(self.data)\n",
    "    \n",
    "    def _transform(self, feature, sample_rate):\n",
    "        if np.random.random() < 0.8:\n",
    "            return feature\n",
    "        return self.transforms(feature, sample_rate)\n",
    "            \n",
    "        "
   ]
  },
  {
   "cell_type": "code",
   "execution_count": 24,
   "metadata": {},
   "outputs": [],
   "source": [
    "torch.manual_seed(42)\n",
    "np.random.seed(42)\n",
    "random.seed(42)\n",
    "dataset = FSDDDataset( os.path.join(dataset_path, \"Free Spoken Digit Dataset (FSDD)\", \"recordings\"), \n",
    "                      transforms=Compose([TimePitchStretch()]))\n",
    "dataloader = DataLoader(dataset=dataset, batch_size=32, num_workers=8)"
   ]
  },
  {
   "cell_type": "code",
   "execution_count": 25,
   "metadata": {},
   "outputs": [],
   "source": [
    "class Model(nn.Module):\n",
    "    \n",
    "    def __init__(self) -> None:\n",
    "        super().__init__()\n",
    "        self.inp_size = 128 * 65\n",
    "        fc1 = nn.Linear(128 * 65, 256)\n",
    "        bn1 = nn.BatchNorm1d(256)\n",
    "        relu1 = nn.ReLU()\n",
    "        \n",
    "        fc2 = nn.Linear(256, 128)\n",
    "        bn2 = nn.BatchNorm1d(128)\n",
    "        relu2 = nn.ReLU()\n",
    "        \n",
    "        # drop = nn.Dropout(p=0.2)\n",
    "        \n",
    "        out = nn.Linear(128, 10)\n",
    "        \n",
    "        self.net = nn.Sequential(\n",
    "            fc1, bn1, relu1, \n",
    "            fc2, bn2, relu2, \n",
    "            out\n",
    "        )\n",
    "    \n",
    "    def forward(self, x):\n",
    "        x = x.view(-1, self.inp_size)\n",
    "        x = self.net(x)\n",
    "        return x"
   ]
  },
  {
   "cell_type": "code",
   "execution_count": 26,
   "metadata": {},
   "outputs": [],
   "source": [
    "net = Model().cuda()\n",
    "loss_fn = nn.CrossEntropyLoss(reduction=\"mean\")\n",
    "optimizer = torch.optim.SGD(net.parameters(), lr=0.001, momentum=0.9, nesterov=True)"
   ]
  },
  {
   "cell_type": "code",
   "execution_count": 27,
   "metadata": {},
   "outputs": [
    {
     "name": "stdout",
     "output_type": "stream",
     "text": [
      "0 tensor(2.4542, device='cuda:0', grad_fn=<NllLossBackward0>)\n",
      "0 tensor(2.2772, device='cuda:0', grad_fn=<NllLossBackward0>)\n",
      "0 tensor(2.2371, device='cuda:0', grad_fn=<NllLossBackward0>)\n",
      "0 tensor(2.2185, device='cuda:0', grad_fn=<NllLossBackward0>)\n",
      "0 tensor(2.0809, device='cuda:0', grad_fn=<NllLossBackward0>)\n",
      "0 tensor(2.0518, device='cuda:0', grad_fn=<NllLossBackward0>)\n",
      "0 tensor(2.0717, device='cuda:0', grad_fn=<NllLossBackward0>)\n",
      "0 tensor(1.8720, device='cuda:0', grad_fn=<NllLossBackward0>)\n",
      "0 tensor(1.8298, device='cuda:0', grad_fn=<NllLossBackward0>)\n",
      "0 tensor(1.7684, device='cuda:0', grad_fn=<NllLossBackward0>)\n",
      "0 tensor(1.8900, device='cuda:0', grad_fn=<NllLossBackward0>)\n",
      "0 tensor(1.6927, device='cuda:0', grad_fn=<NllLossBackward0>)\n",
      "0 tensor(1.8830, device='cuda:0', grad_fn=<NllLossBackward0>)\n",
      "0 tensor(1.7174, device='cuda:0', grad_fn=<NllLossBackward0>)\n",
      "0 tensor(1.7029, device='cuda:0', grad_fn=<NllLossBackward0>)\n",
      "0 tensor(1.6393, device='cuda:0', grad_fn=<NllLossBackward0>)\n",
      "0 tensor(1.6941, device='cuda:0', grad_fn=<NllLossBackward0>)\n",
      "0 tensor(1.7241, device='cuda:0', grad_fn=<NllLossBackward0>)\n",
      "0 tensor(1.5368, device='cuda:0', grad_fn=<NllLossBackward0>)\n",
      "0 tensor(1.5688, device='cuda:0', grad_fn=<NllLossBackward0>)\n",
      "0 tensor(1.6011, device='cuda:0', grad_fn=<NllLossBackward0>)\n",
      "0 tensor(1.4830, device='cuda:0', grad_fn=<NllLossBackward0>)\n",
      "0 tensor(1.5947, device='cuda:0', grad_fn=<NllLossBackward0>)\n",
      "0 tensor(1.3700, device='cuda:0', grad_fn=<NllLossBackward0>)\n",
      "0 tensor(1.5050, device='cuda:0', grad_fn=<NllLossBackward0>)\n",
      "0 tensor(1.5458, device='cuda:0', grad_fn=<NllLossBackward0>)\n",
      "0 tensor(1.5893, device='cuda:0', grad_fn=<NllLossBackward0>)\n",
      "0 tensor(1.3119, device='cuda:0', grad_fn=<NllLossBackward0>)\n",
      "0 tensor(1.3767, device='cuda:0', grad_fn=<NllLossBackward0>)\n",
      "0 tensor(1.3058, device='cuda:0', grad_fn=<NllLossBackward0>)\n",
      "0 tensor(1.4379, device='cuda:0', grad_fn=<NllLossBackward0>)\n",
      "0 tensor(1.4477, device='cuda:0', grad_fn=<NllLossBackward0>)\n",
      "0 tensor(1.4005, device='cuda:0', grad_fn=<NllLossBackward0>)\n",
      "0 tensor(1.2636, device='cuda:0', grad_fn=<NllLossBackward0>)\n",
      "0 tensor(1.4040, device='cuda:0', grad_fn=<NllLossBackward0>)\n",
      "0 tensor(1.2106, device='cuda:0', grad_fn=<NllLossBackward0>)\n",
      "0 tensor(1.2866, device='cuda:0', grad_fn=<NllLossBackward0>)\n",
      "0 tensor(1.2021, device='cuda:0', grad_fn=<NllLossBackward0>)\n",
      "0 tensor(1.1766, device='cuda:0', grad_fn=<NllLossBackward0>)\n",
      "0 tensor(1.1105, device='cuda:0', grad_fn=<NllLossBackward0>)\n",
      "0 tensor(1.3150, device='cuda:0', grad_fn=<NllLossBackward0>)\n",
      "0 tensor(1.2405, device='cuda:0', grad_fn=<NllLossBackward0>)\n",
      "0 tensor(1.2273, device='cuda:0', grad_fn=<NllLossBackward0>)\n",
      "0 tensor(1.2180, device='cuda:0', grad_fn=<NllLossBackward0>)\n",
      "0 tensor(1.3559, device='cuda:0', grad_fn=<NllLossBackward0>)\n",
      "0 tensor(1.2441, device='cuda:0', grad_fn=<NllLossBackward0>)\n",
      "0 tensor(1.0353, device='cuda:0', grad_fn=<NllLossBackward0>)\n",
      "0 tensor(1.2112, device='cuda:0', grad_fn=<NllLossBackward0>)\n",
      "0 tensor(1.2740, device='cuda:0', grad_fn=<NllLossBackward0>)\n",
      "0 tensor(1.0820, device='cuda:0', grad_fn=<NllLossBackward0>)\n",
      "0 tensor(1.1229, device='cuda:0', grad_fn=<NllLossBackward0>)\n",
      "0 tensor(1.2221, device='cuda:0', grad_fn=<NllLossBackward0>)\n",
      "0 tensor(1.1512, device='cuda:0', grad_fn=<NllLossBackward0>)\n",
      "0 tensor(1.2331, device='cuda:0', grad_fn=<NllLossBackward0>)\n",
      "0 tensor(1.1464, device='cuda:0', grad_fn=<NllLossBackward0>)\n",
      "0 tensor(1.1006, device='cuda:0', grad_fn=<NllLossBackward0>)\n",
      "0 tensor(1.0430, device='cuda:0', grad_fn=<NllLossBackward0>)\n",
      "0 tensor(1.1564, device='cuda:0', grad_fn=<NllLossBackward0>)\n",
      "0 tensor(1.2369, device='cuda:0', grad_fn=<NllLossBackward0>)\n",
      "0 tensor(0.9136, device='cuda:0', grad_fn=<NllLossBackward0>)\n",
      "0 tensor(1.0186, device='cuda:0', grad_fn=<NllLossBackward0>)\n",
      "0 tensor(0.9303, device='cuda:0', grad_fn=<NllLossBackward0>)\n",
      "0 tensor(0.9838, device='cuda:0', grad_fn=<NllLossBackward0>)\n",
      "0 tensor(1.0493, device='cuda:0', grad_fn=<NllLossBackward0>)\n",
      "0 tensor(0.8770, device='cuda:0', grad_fn=<NllLossBackward0>)\n",
      "0 tensor(0.9744, device='cuda:0', grad_fn=<NllLossBackward0>)\n",
      "0 tensor(1.0293, device='cuda:0', grad_fn=<NllLossBackward0>)\n",
      "0 tensor(1.0142, device='cuda:0', grad_fn=<NllLossBackward0>)\n",
      "0 tensor(0.9349, device='cuda:0', grad_fn=<NllLossBackward0>)\n",
      "0 tensor(1.0696, device='cuda:0', grad_fn=<NllLossBackward0>)\n",
      "0 tensor(0.8735, device='cuda:0', grad_fn=<NllLossBackward0>)\n",
      "0 tensor(1.1193, device='cuda:0', grad_fn=<NllLossBackward0>)\n",
      "0 tensor(0.8699, device='cuda:0', grad_fn=<NllLossBackward0>)\n",
      "0 tensor(0.9434, device='cuda:0', grad_fn=<NllLossBackward0>)\n",
      "0 tensor(0.8743, device='cuda:0', grad_fn=<NllLossBackward0>)\n",
      "0 tensor(0.9600, device='cuda:0', grad_fn=<NllLossBackward0>)\n",
      "0 tensor(0.9136, device='cuda:0', grad_fn=<NllLossBackward0>)\n",
      "0 tensor(0.8870, device='cuda:0', grad_fn=<NllLossBackward0>)\n",
      "0 tensor(0.8081, device='cuda:0', grad_fn=<NllLossBackward0>)\n",
      "0 tensor(0.9294, device='cuda:0', grad_fn=<NllLossBackward0>)\n",
      "0 tensor(0.9896, device='cuda:0', grad_fn=<NllLossBackward0>)\n",
      "0 tensor(0.9093, device='cuda:0', grad_fn=<NllLossBackward0>)\n",
      "0 tensor(0.7342, device='cuda:0', grad_fn=<NllLossBackward0>)\n",
      "0 tensor(0.7310, device='cuda:0', grad_fn=<NllLossBackward0>)\n",
      "0 tensor(0.8411, device='cuda:0', grad_fn=<NllLossBackward0>)\n",
      "0 tensor(0.9021, device='cuda:0', grad_fn=<NllLossBackward0>)\n",
      "0 tensor(0.7810, device='cuda:0', grad_fn=<NllLossBackward0>)\n",
      "0 tensor(0.8034, device='cuda:0', grad_fn=<NllLossBackward0>)\n"
     ]
    }
   ],
   "source": [
    "NEPOCHS = 5\n",
    "train_losses = []\n",
    "epoch_loss = []\n",
    "\n",
    "for epoch in range(NEPOCHS):\n",
    "    for (x, y) in dataloader:\n",
    "        x, y = x.cuda(), y.cuda()\n",
    "        optimizer.zero_grad()\n",
    "        out = net(x)\n",
    "        loss = loss_fn(out, y)\n",
    "        loss.backward()\n",
    "        train_losses.append(loss.item())\n",
    "        print(epoch, loss)\n",
    "        optimizer.step()\n"
   ]
  },
  {
   "cell_type": "code",
   "execution_count": null,
   "metadata": {},
   "outputs": [
    {
     "data": {
      "text/plain": [
       "[<matplotlib.lines.Line2D at 0x7f6a3a581be0>]"
      ]
     },
     "execution_count": 62,
     "metadata": {},
     "output_type": "execute_result"
    },
    {
     "data": {
      "image/png": "[encoded data removed]",
      "text/plain": [
       "<Figure size 640x480 with 1 Axes>"
      ]
     },
     "metadata": {},
     "output_type": "display_data"
    }
   ],
   "source": [
    "plt.plot(train_losses)"
   ]
  },
  {
   "cell_type": "code",
   "execution_count": null,
   "metadata": {},
   "outputs": [],
   "source": [
    "data = iter(dataloader)\n",
    "x, y = next(data)"
   ]
  },
  {
   "cell_type": "code",
   "execution_count": null,
   "metadata": {},
   "outputs": [
    {
     "data": {
      "text/plain": [
       "torch.Size([32, 128, 65])"
      ]
     },
     "execution_count": 64,
     "metadata": {},
     "output_type": "execute_result"
    }
   ],
   "source": [
    "y.shape"
   ]
  },
  {
   "cell_type": "code",
   "execution_count": null,
   "metadata": {},
   "outputs": [],
   "source": [
    "net.eval()\n",
    "with torch.no_grad():\n",
    "    y_pred = net(x.cuda())"
   ]
  },
  {
   "cell_type": "code",
   "execution_count": null,
   "metadata": {},
   "outputs": [
    {
     "data": {
      "text/plain": [
       "(tensor([6, 3, 6, 0, 8, 3, 4, 7, 1, 8, 7, 0, 2, 5, 9, 3, 3, 1, 9, 8, 0, 0, 3, 6,\n",
       "         4, 9, 8, 4, 0, 4, 3, 5], device='cuda:0'),\n",
       " tensor([6, 3, 6, 0, 8, 3, 4, 7, 1, 8, 7, 0, 2, 5, 9, 3, 3, 1, 9, 8, 0, 0, 3, 6,\n",
       "         4, 9, 8, 4, 0, 4, 3, 5]))"
      ]
     },
     "execution_count": 72,
     "metadata": {},
     "output_type": "execute_result"
    }
   ],
   "source": [
    "torch.argmax(y_pred, dim=-1), y"
   ]
  },
  {
   "cell_type": "code",
   "execution_count": null,
   "metadata": {},
   "outputs": [],
   "source": []
  }
 ],
 "metadata": {
  "kernelspec": {
   "display_name": "env",
   "language": "python",
   "name": "python3"
  },
  "language_info": {
   "codemirror_mode": {
    "name": "ipython",
    "version": 3
   },
   "file_extension": ".py",
   "mimetype": "text/x-python",
   "name": "python",
   "nbconvert_exporter": "python",
   "pygments_lexer": "ipython3",
   "version": "3.9.2"
  },
  "orig_nbformat": 4,
  "vscode": {
   "interpreter": {
    "hash": "f7d1c444690c64dc164009c81e7c7e493213a917c1ee917acb226d895d2dc691"
   }
  }
 },
 "nbformat": 4,
 "nbformat_minor": 2
}
