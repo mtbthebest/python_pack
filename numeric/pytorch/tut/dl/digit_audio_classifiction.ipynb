{
 "cells": [
  {
   "cell_type": "code",
   "execution_count": 1,
   "metadata": {},
   "outputs": [],
   "source": [
    "import librosa\n",
    "import librosa.display\n",
    "import os\n",
    "import numpy as np\n",
    "import torch\n",
    "from torch import nn\n",
    "import random"
   ]
  },
  {
   "cell_type": "code",
   "execution_count": 2,
   "metadata": {},
   "outputs": [],
   "source": [
    "dataset_path = os.getenv(\"DL_DATASET\")"
   ]
  },
  {
   "cell_type": "code",
   "execution_count": 3,
   "metadata": {},
   "outputs": [
    {
     "data": {
      "text/plain": [
       "'/media/mtb/nas/datasets/'"
      ]
     },
     "execution_count": 3,
     "metadata": {},
     "output_type": "execute_result"
    }
   ],
   "source": [
    "dataset_path"
   ]
  },
  {
   "cell_type": "code",
   "execution_count": 4,
   "metadata": {},
   "outputs": [],
   "source": [
    "path = os.path.join(dataset_path, \"Free Spoken Digit Dataset (FSDD)\", \"recordings\")\n"
   ]
  },
  {
   "cell_type": "code",
   "execution_count": 5,
   "metadata": {},
   "outputs": [],
   "source": [
    "files = sorted(os.listdir(path))"
   ]
  },
  {
   "cell_type": "code",
   "execution_count": 6,
   "metadata": {},
   "outputs": [],
   "source": [
    "records = {}\n",
    "for digit in range(0, 10):\n",
    "    records[digit] = [os.path.join(path, f) for f in files if f[0] == str(digit)]"
   ]
  },
  {
   "cell_type": "code",
   "execution_count": 7,
   "metadata": {},
   "outputs": [],
   "source": [
    "max_length = 1.5 # 1s"
   ]
  },
  {
   "cell_type": "code",
   "execution_count": 8,
   "metadata": {},
   "outputs": [],
   "source": [
    "filename = records[0][0]\n",
    "samples, sample_rate = librosa.load(filename)"
   ]
  },
  {
   "cell_type": "code",
   "execution_count": 9,
   "metadata": {},
   "outputs": [
    {
     "data": {
      "text/plain": [
       "22050"
      ]
     },
     "execution_count": 9,
     "metadata": {},
     "output_type": "execute_result"
    }
   ],
   "source": [
    "sample_rate"
   ]
  },
  {
   "cell_type": "code",
   "execution_count": 10,
   "metadata": {},
   "outputs": [
    {
     "data": {
      "text/plain": [
       "(6571,)"
      ]
     },
     "execution_count": 10,
     "metadata": {},
     "output_type": "execute_result"
    }
   ],
   "source": [
    "samples.shape"
   ]
  },
  {
   "cell_type": "code",
   "execution_count": 11,
   "metadata": {},
   "outputs": [
    {
     "name": "stdout",
     "output_type": "stream",
     "text": [
      "[ 0.00362129  0.00073368 -0.00340068 ...  0.00037207  0.00025946\n",
      "  0.        ] 22050 (12354,)\n",
      "[ 0.00015859  0.00015921  0.00014748 ... -0.00032447 -0.00019537\n",
      "  0.        ] 22050 (15692,)\n",
      "[-0.00042124 -0.00030743 -0.00016569 ... -0.00050717 -0.00031351\n",
      "  0.        ] 22050 (9438,)\n",
      "[0.00199726 0.00308194 0.00348567 ... 0.00472449 0.00269703 0.        ] 22050 (9157,)\n",
      "[0.0002389  0.00095187 0.00173984 ... 0.0027752  0.00145007 0.        ] 22050 (11183,)\n"
     ]
    }
   ],
   "source": [
    "for digit in range(5):\n",
    "    filename = records[digit][np.random.randint(0, 150)]\n",
    "    samples, sample_rate = librosa.load(filename)\n",
    "    print(samples, sample_rate, samples.shape)"
   ]
  },
  {
   "cell_type": "code",
   "execution_count": 12,
   "metadata": {},
   "outputs": [
    {
     "data": {
      "text/plain": [
       "(array([0.0002389 , 0.00095187, 0.00173984, ..., 0.0027752 , 0.00145007,\n",
       "        0.        ], dtype=float32),\n",
       " 22050,\n",
       " (11183,))"
      ]
     },
     "execution_count": 12,
     "metadata": {},
     "output_type": "execute_result"
    }
   ],
   "source": [
    "samples, sample_rate, samples.shape"
   ]
  },
  {
   "cell_type": "code",
   "execution_count": 13,
   "metadata": {},
   "outputs": [
    {
     "name": "stderr",
     "output_type": "stream",
     "text": [
      "/tmp/ipykernel_22440/833007516.py:1: FutureWarning: Pass size=33075 as keyword args. From version 0.10 passing these as positional arguments will result in an error\n",
      "  short_samples = librosa.util.fix_length(samples, int(sample_rate * max_length))\n"
     ]
    },
    {
     "data": {
      "text/plain": [
       "(33075,)"
      ]
     },
     "execution_count": 13,
     "metadata": {},
     "output_type": "execute_result"
    }
   ],
   "source": [
    "short_samples = librosa.util.fix_length(samples, int(sample_rate * max_length))\n",
    "short_samples.shape"
   ]
  },
  {
   "cell_type": "code",
   "execution_count": 14,
   "metadata": {},
   "outputs": [
    {
     "name": "stderr",
     "output_type": "stream",
     "text": [
      "/tmp/ipykernel_22440/1538198112.py:1: FutureWarning: Pass y=[0.0002389  0.00095187 0.00173984 ... 0.         0.         0.        ] as keyword args. From version 0.10 passing these as positional arguments will result in an error\n",
      "  melSpectrum = librosa.feature.melspectrogram(short_samples, sr=sample_rate, n_mels=128)\n"
     ]
    }
   ],
   "source": [
    "melSpectrum = librosa.feature.melspectrogram(short_samples, sr=sample_rate, n_mels=128)"
   ]
  },
  {
   "cell_type": "code",
   "execution_count": 15,
   "metadata": {},
   "outputs": [],
   "source": [
    "import matplotlib.pyplot as plt"
   ]
  },
  {
   "cell_type": "code",
   "execution_count": 16,
   "metadata": {},
   "outputs": [
    {
     "data": {
      "text/plain": [
       "[<matplotlib.lines.Line2D at 0x7f6a69dbb4c0>]"
      ]
     },
     "execution_count": 16,
     "metadata": {},
     "output_type": "execute_result"
    },
    {
     "data": {
      "image/png": "[encoded data removed]",
      "text/plain": [
       "<Figure size 640x480 with 1 Axes>"
      ]
     },
     "metadata": {},
     "output_type": "display_data"
    }
   ],
   "source": [
    "plt.plot(samples, label='samples', color='blue')"
   ]
  },
  {
   "cell_type": "code",
   "execution_count": 17,
   "metadata": {},
   "outputs": [
    {
     "data": {
      "text/plain": [
       "[<matplotlib.lines.Line2D at 0x7f6a69d346a0>]"
      ]
     },
     "execution_count": 17,
     "metadata": {},
     "output_type": "execute_result"
    },
    {
     "data": {
      "image/png": "[encoded data removed]",
      "text/plain": [
       "<Figure size 640x480 with 1 Axes>"
      ]
     },
     "metadata": {},
     "output_type": "display_data"
    }
   ],
   "source": [
    "plt.plot(short_samples, label='short_samples', color='red')"
   ]
  },
  {
   "cell_type": "code",
   "execution_count": 18,
   "metadata": {},
   "outputs": [
    {
     "data": {
      "text/plain": [
       "array([[1.49344742e-05, 8.34149887e-06, 2.62584444e-06, ...,\n",
       "        0.00000000e+00, 0.00000000e+00, 0.00000000e+00],\n",
       "       [1.42039935e-05, 3.88098124e-06, 9.55961994e-08, ...,\n",
       "        0.00000000e+00, 0.00000000e+00, 0.00000000e+00],\n",
       "       [1.01541018e-05, 2.68634312e-06, 3.63532791e-07, ...,\n",
       "        0.00000000e+00, 0.00000000e+00, 0.00000000e+00],\n",
       "       ...,\n",
       "       [1.24967509e-10, 3.14049793e-11, 1.18465803e-16, ...,\n",
       "        0.00000000e+00, 0.00000000e+00, 0.00000000e+00],\n",
       "       [1.12175630e-10, 2.82168594e-11, 6.98769955e-17, ...,\n",
       "        0.00000000e+00, 0.00000000e+00, 0.00000000e+00],\n",
       "       [1.04335887e-10, 2.62617306e-11, 7.16019847e-17, ...,\n",
       "        0.00000000e+00, 0.00000000e+00, 0.00000000e+00]], dtype=float32)"
      ]
     },
     "execution_count": 18,
     "metadata": {},
     "output_type": "execute_result"
    }
   ],
   "source": [
    "melSpectrum"
   ]
  },
  {
   "cell_type": "code",
   "execution_count": 19,
   "metadata": {},
   "outputs": [
    {
     "data": {
      "text/plain": [
       "array([[-72.743355, -75.27281 , -80.      , ..., -80.      , -80.      ,\n",
       "        -80.      ],\n",
       "       [-72.96115 , -78.59584 , -80.      , ..., -80.      , -80.      ,\n",
       "        -80.      ],\n",
       "       [-74.41884 , -80.      , -80.      , ..., -80.      , -80.      ,\n",
       "        -80.      ],\n",
       "       ...,\n",
       "       [-80.      , -80.      , -80.      , ..., -80.      , -80.      ,\n",
       "        -80.      ],\n",
       "       [-80.      , -80.      , -80.      , ..., -80.      , -80.      ,\n",
       "        -80.      ],\n",
       "       [-80.      , -80.      , -80.      , ..., -80.      , -80.      ,\n",
       "        -80.      ]], dtype=float32)"
      ]
     },
     "execution_count": 19,
     "metadata": {},
     "output_type": "execute_result"
    }
   ],
   "source": [
    "logMelspectrogram = librosa.power_to_db(melSpectrum, ref=np.max)\n",
    "logMelspectrogram"
   ]
  },
  {
   "cell_type": "code",
   "execution_count": 20,
   "metadata": {},
   "outputs": [
    {
     "data": {
      "image/png": "[encoded data removed]",
      "text/plain": [
       "<Figure size 640x480 with 2 Axes>"
      ]
     },
     "metadata": {},
     "output_type": "display_data"
    }
   ],
   "source": [
    "fig = plt.figure()\n",
    "librosa.display.specshow(logMelspectrogram, sr=sample_rate, x_axis='time', y_axis='mel', cmap=\"jet\")\n",
    "plt.title('Mel log-frequency power spectrogram')\n",
    "plt.colorbar(pad=0.01, format='%+02.0f dB')\n",
    "plt.tight_layout()  "
   ]
  },
  {
   "cell_type": "code",
   "execution_count": 21,
   "metadata": {},
   "outputs": [
    {
     "name": "stdout",
     "output_type": "stream",
     "text": [
      "Lable 0 Size: (300)\n",
      "Lable 1 Size: (300)\n",
      "Lable 2 Size: (300)\n",
      "Lable 3 Size: (300)\n",
      "Lable 4 Size: (300)\n",
      "Lable 5 Size: (300)\n",
      "Lable 6 Size: (300)\n",
      "Lable 7 Size: (300)\n",
      "Lable 8 Size: (300)\n",
      "Lable 9 Size: (300)\n"
     ]
    }
   ],
   "source": [
    "for digit in range(10):\n",
    "    print(f\"Lable {digit} Size: ({len(records[digit])})\")"
   ]
  },
  {
   "cell_type": "code",
   "execution_count": 22,
   "metadata": {},
   "outputs": [],
   "source": [
    "from torch.utils.data import DataLoader, Dataset\n"
   ]
  },
  {
   "cell_type": "code",
   "execution_count": 55,
   "metadata": {},
   "outputs": [],
   "source": [
    "class Normalize():\n",
    "    # Normalize between -1, 1\n",
    "    def __init__(self, max_value=-80.) -> None:\n",
    "        self.max = max_value\n",
    "    \n",
    "    def __call__(self, x):\n",
    "        return(x + 80) / 80.\n",
    "\n",
    "class TimePitchStretch():\n",
    "    \n",
    "    def __call__(self, x, sample_rate):\n",
    "        ts = random.choice([0.75,1,1.25])\n",
    "        ps = random.choice([-1,0,+1])\n",
    "        x = librosa.effects.time_stretch(x, rate=ts)\n",
    "        x = librosa.effects.pitch_shift(x, sr=sample_rate, n_steps=ps)\n",
    "        return x\n",
    "    \n",
    "class Compose:\n",
    "    \n",
    "    def __init__(self, transforms) -> None:\n",
    "        self.transforms = transforms\n",
    "    \n",
    "    def __call__(self, x, *args):\n",
    "        for op in self.transforms:\n",
    "            x = op(x, *args)\n",
    "        return x\n",
    "\n",
    "class FSDDDataset(Dataset):\n",
    "    AUDIO_MAX_LENGTH = 1.5\n",
    "    def __init__(self, path, transforms=None) -> None:\n",
    "        self.path = path\n",
    "        self.files = sorted(os.listdir(path))\n",
    "        self.data = self.load()\n",
    "\n",
    "        np.random.shuffle(self.data)\n",
    "        self.transforms = transforms\n",
    "        self.normalizer = Normalize()\n",
    "        \n",
    "    def __getitem__(self, index):\n",
    "        label, audio_path = self.data[index]\n",
    "        feature = self.process_audio(audio_path) # nmel, time\n",
    "        feature = self.normalizer(feature)\n",
    "        return feature, label\n",
    "    \n",
    "    def process_audio(self, filename):\n",
    "        sample, sample_rate = librosa.load(filename)\n",
    "        if self.transforms:\n",
    "            sample = self._transform(sample, sample_rate) \n",
    "        short_sample = librosa.util.fix_length(sample, size=int(sample_rate * self.AUDIO_MAX_LENGTH))\n",
    "        mel_spect = librosa.feature.melspectrogram(y=short_sample.astype(np.float32), sr=sample_rate, n_mels=128)\n",
    "        log_mel_spect =  librosa.power_to_db(mel_spect, ref=np.max)\n",
    "        return log_mel_spect\n",
    "\n",
    "    def load(self):\n",
    "        records = []\n",
    "        for digit in range(0, 10):\n",
    "            records.extend([(digit, os.path.join(self.path, f)) \n",
    "                            for f in self.files if f[0] == str(digit)])\n",
    "        return records\n",
    "    \n",
    "    def __len__(self):\n",
    "        return len(self.data)\n",
    "    \n",
    "    def _transform(self, feature, sample_rate):\n",
    "        if np.random.random() < 0.8:\n",
    "            return feature\n",
    "        return self.transforms(feature, sample_rate)\n",
    "            \n",
    "        "
   ]
  },
  {
   "cell_type": "code",
   "execution_count": 56,
   "metadata": {},
   "outputs": [],
   "source": [
    "torch.manual_seed(42)\n",
    "np.random.seed(42)\n",
    "random.seed(42)\n",
    "dataset = FSDDDataset( os.path.join(dataset_path, \"Free Spoken Digit Dataset (FSDD)\", \"recordings\"), \n",
    "                      transforms=Compose([TimePitchStretch()]))\n",
    "dataloader = DataLoader(dataset=dataset, batch_size=32, num_workers=8)"
   ]
  },
  {
   "cell_type": "code",
   "execution_count": 57,
   "metadata": {},
   "outputs": [],
   "source": [
    "class Model(nn.Module):\n",
    "    \n",
    "    def __init__(self) -> None:\n",
    "        super().__init__()\n",
    "        self.inp_size = 128 * 65\n",
    "        fc1 = nn.Linear(128 * 65, 256)\n",
    "        bn1 = nn.BatchNorm1d(256)\n",
    "        relu1 = nn.ReLU()\n",
    "        \n",
    "        fc2 = nn.Linear(256, 128)\n",
    "        bn2 = nn.BatchNorm1d(128)\n",
    "        relu2 = nn.ReLU()\n",
    "        \n",
    "        # drop = nn.Dropout(p=0.2)\n",
    "        \n",
    "        out = nn.Linear(128, 10)\n",
    "        \n",
    "        self.net = nn.Sequential(\n",
    "            fc1, bn1, relu1, \n",
    "            fc2, bn2, relu2, \n",
    "            out\n",
    "        )\n",
    "    \n",
    "    def forward(self, x):\n",
    "        x = x.view(-1, self.inp_size)\n",
    "        x = self.net(x)\n",
    "        return x"
   ]
  },
  {
   "cell_type": "code",
   "execution_count": 60,
   "metadata": {},
   "outputs": [],
   "source": [
    "net = Model().cuda()\n",
    "loss_fn = nn.CrossEntropyLoss(reduction=\"mean\")\n",
    "optimizer = torch.optim.SGD(net.parameters(), lr=0.001, momentum=0.9, nesterov=True)"
   ]
  },
  {
   "cell_type": "code",
   "execution_count": 61,
   "metadata": {},
   "outputs": [
    {
     "name": "stdout",
     "output_type": "stream",
     "text": [
      "0 tensor(2.4781, device='cuda:0', grad_fn=<NllLossBackward0>)\n",
      "0 tensor(2.3913, device='cuda:0', grad_fn=<NllLossBackward0>)\n",
      "0 tensor(2.2683, device='cuda:0', grad_fn=<NllLossBackward0>)\n",
      "0 tensor(2.1550, device='cuda:0', grad_fn=<NllLossBackward0>)\n",
      "0 tensor(2.1465, device='cuda:0', grad_fn=<NllLossBackward0>)\n",
      "0 tensor(1.9792, device='cuda:0', grad_fn=<NllLossBackward0>)\n",
      "0 tensor(2.0368, device='cuda:0', grad_fn=<NllLossBackward0>)\n",
      "0 tensor(1.9876, device='cuda:0', grad_fn=<NllLossBackward0>)\n",
      "0 tensor(2.0437, device='cuda:0', grad_fn=<NllLossBackward0>)\n",
      "0 tensor(1.8166, device='cuda:0', grad_fn=<NllLossBackward0>)\n",
      "0 tensor(1.8780, device='cuda:0', grad_fn=<NllLossBackward0>)\n",
      "0 tensor(1.8118, device='cuda:0', grad_fn=<NllLossBackward0>)\n",
      "0 tensor(1.8300, device='cuda:0', grad_fn=<NllLossBackward0>)\n",
      "0 tensor(1.6827, device='cuda:0', grad_fn=<NllLossBackward0>)\n",
      "0 tensor(1.7644, device='cuda:0', grad_fn=<NllLossBackward0>)\n",
      "0 tensor(1.5655, device='cuda:0', grad_fn=<NllLossBackward0>)\n",
      "0 tensor(1.7937, device='cuda:0', grad_fn=<NllLossBackward0>)\n",
      "0 tensor(1.6967, device='cuda:0', grad_fn=<NllLossBackward0>)\n",
      "0 tensor(1.5787, device='cuda:0', grad_fn=<NllLossBackward0>)\n",
      "0 tensor(1.5633, device='cuda:0', grad_fn=<NllLossBackward0>)\n",
      "0 tensor(1.6434, device='cuda:0', grad_fn=<NllLossBackward0>)\n",
      "0 tensor(1.3810, device='cuda:0', grad_fn=<NllLossBackward0>)\n",
      "0 tensor(1.6287, device='cuda:0', grad_fn=<NllLossBackward0>)\n",
      "0 tensor(1.4705, device='cuda:0', grad_fn=<NllLossBackward0>)\n",
      "0 tensor(1.4646, device='cuda:0', grad_fn=<NllLossBackward0>)\n",
      "0 tensor(1.5349, device='cuda:0', grad_fn=<NllLossBackward0>)\n",
      "0 tensor(1.5514, device='cuda:0', grad_fn=<NllLossBackward0>)\n",
      "0 tensor(1.2992, device='cuda:0', grad_fn=<NllLossBackward0>)\n",
      "0 tensor(1.4569, device='cuda:0', grad_fn=<NllLossBackward0>)\n",
      "0 tensor(1.3719, device='cuda:0', grad_fn=<NllLossBackward0>)\n",
      "0 tensor(1.4137, device='cuda:0', grad_fn=<NllLossBackward0>)\n",
      "0 tensor(1.4939, device='cuda:0', grad_fn=<NllLossBackward0>)\n",
      "0 tensor(1.4254, device='cuda:0', grad_fn=<NllLossBackward0>)\n",
      "0 tensor(1.2309, device='cuda:0', grad_fn=<NllLossBackward0>)\n",
      "0 tensor(1.3622, device='cuda:0', grad_fn=<NllLossBackward0>)\n",
      "0 tensor(1.2667, device='cuda:0', grad_fn=<NllLossBackward0>)\n",
      "0 tensor(1.3578, device='cuda:0', grad_fn=<NllLossBackward0>)\n",
      "0 tensor(1.3584, device='cuda:0', grad_fn=<NllLossBackward0>)\n",
      "0 tensor(1.1764, device='cuda:0', grad_fn=<NllLossBackward0>)\n",
      "0 tensor(1.1215, device='cuda:0', grad_fn=<NllLossBackward0>)\n",
      "0 tensor(1.1944, device='cuda:0', grad_fn=<NllLossBackward0>)\n",
      "0 tensor(1.1607, device='cuda:0', grad_fn=<NllLossBackward0>)\n",
      "0 tensor(1.3698, device='cuda:0', grad_fn=<NllLossBackward0>)\n",
      "0 tensor(1.2195, device='cuda:0', grad_fn=<NllLossBackward0>)\n",
      "0 tensor(1.3851, device='cuda:0', grad_fn=<NllLossBackward0>)\n",
      "0 tensor(1.2603, device='cuda:0', grad_fn=<NllLossBackward0>)\n",
      "0 tensor(1.0133, device='cuda:0', grad_fn=<NllLossBackward0>)\n",
      "0 tensor(1.1534, device='cuda:0', grad_fn=<NllLossBackward0>)\n",
      "0 tensor(1.1939, device='cuda:0', grad_fn=<NllLossBackward0>)\n",
      "0 tensor(1.0668, device='cuda:0', grad_fn=<NllLossBackward0>)\n",
      "0 tensor(1.1363, device='cuda:0', grad_fn=<NllLossBackward0>)\n",
      "0 tensor(1.2023, device='cuda:0', grad_fn=<NllLossBackward0>)\n",
      "0 tensor(1.2008, device='cuda:0', grad_fn=<NllLossBackward0>)\n",
      "0 tensor(1.2685, device='cuda:0', grad_fn=<NllLossBackward0>)\n",
      "0 tensor(1.0516, device='cuda:0', grad_fn=<NllLossBackward0>)\n",
      "0 tensor(1.1246, device='cuda:0', grad_fn=<NllLossBackward0>)\n",
      "0 tensor(1.0561, device='cuda:0', grad_fn=<NllLossBackward0>)\n",
      "0 tensor(1.1092, device='cuda:0', grad_fn=<NllLossBackward0>)\n",
      "0 tensor(1.2086, device='cuda:0', grad_fn=<NllLossBackward0>)\n",
      "0 tensor(1.0721, device='cuda:0', grad_fn=<NllLossBackward0>)\n",
      "0 tensor(1.1022, device='cuda:0', grad_fn=<NllLossBackward0>)\n",
      "0 tensor(0.9730, device='cuda:0', grad_fn=<NllLossBackward0>)\n",
      "0 tensor(1.0739, device='cuda:0', grad_fn=<NllLossBackward0>)\n",
      "0 tensor(1.0917, device='cuda:0', grad_fn=<NllLossBackward0>)\n",
      "0 tensor(0.8933, device='cuda:0', grad_fn=<NllLossBackward0>)\n",
      "0 tensor(1.0551, device='cuda:0', grad_fn=<NllLossBackward0>)\n",
      "0 tensor(0.9884, device='cuda:0', grad_fn=<NllLossBackward0>)\n",
      "0 tensor(0.9787, device='cuda:0', grad_fn=<NllLossBackward0>)\n",
      "0 tensor(0.9233, device='cuda:0', grad_fn=<NllLossBackward0>)\n",
      "0 tensor(1.0145, device='cuda:0', grad_fn=<NllLossBackward0>)\n",
      "0 tensor(0.8850, device='cuda:0', grad_fn=<NllLossBackward0>)\n",
      "0 tensor(1.1266, device='cuda:0', grad_fn=<NllLossBackward0>)\n",
      "0 tensor(0.8511, device='cuda:0', grad_fn=<NllLossBackward0>)\n",
      "0 tensor(0.8443, device='cuda:0', grad_fn=<NllLossBackward0>)\n",
      "0 tensor(0.8758, device='cuda:0', grad_fn=<NllLossBackward0>)\n",
      "0 tensor(1.0252, device='cuda:0', grad_fn=<NllLossBackward0>)\n",
      "0 tensor(0.9432, device='cuda:0', grad_fn=<NllLossBackward0>)\n",
      "0 tensor(1.0062, device='cuda:0', grad_fn=<NllLossBackward0>)\n",
      "0 tensor(0.7945, device='cuda:0', grad_fn=<NllLossBackward0>)\n",
      "0 tensor(0.9730, device='cuda:0', grad_fn=<NllLossBackward0>)\n",
      "0 tensor(0.8782, device='cuda:0', grad_fn=<NllLossBackward0>)\n",
      "0 tensor(0.9792, device='cuda:0', grad_fn=<NllLossBackward0>)\n",
      "0 tensor(0.7545, device='cuda:0', grad_fn=<NllLossBackward0>)\n",
      "0 tensor(0.8076, device='cuda:0', grad_fn=<NllLossBackward0>)\n",
      "0 tensor(0.9499, device='cuda:0', grad_fn=<NllLossBackward0>)\n",
      "0 tensor(0.8911, device='cuda:0', grad_fn=<NllLossBackward0>)\n",
      "0 tensor(0.7603, device='cuda:0', grad_fn=<NllLossBackward0>)\n",
      "0 tensor(0.8931, device='cuda:0', grad_fn=<NllLossBackward0>)\n",
      "0 tensor(0.8884, device='cuda:0', grad_fn=<NllLossBackward0>)\n",
      "0 tensor(0.7501, device='cuda:0', grad_fn=<NllLossBackward0>)\n",
      "0 tensor(0.8228, device='cuda:0', grad_fn=<NllLossBackward0>)\n",
      "0 tensor(0.7393, device='cuda:0', grad_fn=<NllLossBackward0>)\n",
      "0 tensor(0.7120, device='cuda:0', grad_fn=<NllLossBackward0>)\n",
      "0 tensor(0.9546, device='cuda:0', grad_fn=<NllLossBackward0>)\n",
      "1 tensor(0.6778, device='cuda:0', grad_fn=<NllLossBackward0>)\n",
      "1 tensor(0.8116, device='cuda:0', grad_fn=<NllLossBackward0>)\n",
      "1 tensor(0.6538, device='cuda:0', grad_fn=<NllLossBackward0>)\n",
      "1 tensor(0.8298, device='cuda:0', grad_fn=<NllLossBackward0>)\n",
      "1 tensor(0.9384, device='cuda:0', grad_fn=<NllLossBackward0>)\n",
      "1 tensor(0.6193, device='cuda:0', grad_fn=<NllLossBackward0>)\n",
      "1 tensor(0.7761, device='cuda:0', grad_fn=<NllLossBackward0>)\n",
      "1 tensor(0.7026, device='cuda:0', grad_fn=<NllLossBackward0>)\n",
      "1 tensor(0.8484, device='cuda:0', grad_fn=<NllLossBackward0>)\n",
      "1 tensor(0.7640, device='cuda:0', grad_fn=<NllLossBackward0>)\n",
      "1 tensor(0.8053, device='cuda:0', grad_fn=<NllLossBackward0>)\n",
      "1 tensor(0.6317, device='cuda:0', grad_fn=<NllLossBackward0>)\n",
      "1 tensor(0.7130, device='cuda:0', grad_fn=<NllLossBackward0>)\n",
      "1 tensor(0.6916, device='cuda:0', grad_fn=<NllLossBackward0>)\n",
      "1 tensor(0.6613, device='cuda:0', grad_fn=<NllLossBackward0>)\n",
      "1 tensor(0.6259, device='cuda:0', grad_fn=<NllLossBackward0>)\n",
      "1 tensor(0.7027, device='cuda:0', grad_fn=<NllLossBackward0>)\n",
      "1 tensor(0.6182, device='cuda:0', grad_fn=<NllLossBackward0>)\n",
      "1 tensor(0.6290, device='cuda:0', grad_fn=<NllLossBackward0>)\n",
      "1 tensor(0.7904, device='cuda:0', grad_fn=<NllLossBackward0>)\n",
      "1 tensor(0.6487, device='cuda:0', grad_fn=<NllLossBackward0>)\n",
      "1 tensor(0.6767, device='cuda:0', grad_fn=<NllLossBackward0>)\n",
      "1 tensor(0.6031, device='cuda:0', grad_fn=<NllLossBackward0>)\n",
      "1 tensor(0.6013, device='cuda:0', grad_fn=<NllLossBackward0>)\n",
      "1 tensor(0.6310, device='cuda:0', grad_fn=<NllLossBackward0>)\n",
      "1 tensor(0.6583, device='cuda:0', grad_fn=<NllLossBackward0>)\n",
      "1 tensor(0.6826, device='cuda:0', grad_fn=<NllLossBackward0>)\n",
      "1 tensor(0.5266, device='cuda:0', grad_fn=<NllLossBackward0>)\n",
      "1 tensor(0.6558, device='cuda:0', grad_fn=<NllLossBackward0>)\n",
      "1 tensor(0.5244, device='cuda:0', grad_fn=<NllLossBackward0>)\n",
      "1 tensor(0.6758, device='cuda:0', grad_fn=<NllLossBackward0>)\n",
      "1 tensor(0.6739, device='cuda:0', grad_fn=<NllLossBackward0>)\n",
      "1 tensor(0.5703, device='cuda:0', grad_fn=<NllLossBackward0>)\n",
      "1 tensor(0.4980, device='cuda:0', grad_fn=<NllLossBackward0>)\n",
      "1 tensor(0.6055, device='cuda:0', grad_fn=<NllLossBackward0>)\n",
      "1 tensor(0.5481, device='cuda:0', grad_fn=<NllLossBackward0>)\n",
      "1 tensor(0.5885, device='cuda:0', grad_fn=<NllLossBackward0>)\n",
      "1 tensor(0.5210, device='cuda:0', grad_fn=<NllLossBackward0>)\n",
      "1 tensor(0.6255, device='cuda:0', grad_fn=<NllLossBackward0>)\n",
      "1 tensor(0.4640, device='cuda:0', grad_fn=<NllLossBackward0>)\n",
      "1 tensor(0.6613, device='cuda:0', grad_fn=<NllLossBackward0>)\n",
      "1 tensor(0.5563, device='cuda:0', grad_fn=<NllLossBackward0>)\n",
      "1 tensor(0.6305, device='cuda:0', grad_fn=<NllLossBackward0>)\n",
      "1 tensor(0.5763, device='cuda:0', grad_fn=<NllLossBackward0>)\n",
      "1 tensor(0.8284, device='cuda:0', grad_fn=<NllLossBackward0>)\n",
      "1 tensor(0.6263, device='cuda:0', grad_fn=<NllLossBackward0>)\n",
      "1 tensor(0.4409, device='cuda:0', grad_fn=<NllLossBackward0>)\n",
      "1 tensor(0.4606, device='cuda:0', grad_fn=<NllLossBackward0>)\n",
      "1 tensor(0.7209, device='cuda:0', grad_fn=<NllLossBackward0>)\n",
      "1 tensor(0.4773, device='cuda:0', grad_fn=<NllLossBackward0>)\n",
      "1 tensor(0.5215, device='cuda:0', grad_fn=<NllLossBackward0>)\n",
      "1 tensor(0.5721, device='cuda:0', grad_fn=<NllLossBackward0>)\n",
      "1 tensor(0.5565, device='cuda:0', grad_fn=<NllLossBackward0>)\n",
      "1 tensor(0.6778, device='cuda:0', grad_fn=<NllLossBackward0>)\n",
      "1 tensor(0.4827, device='cuda:0', grad_fn=<NllLossBackward0>)\n",
      "1 tensor(0.5716, device='cuda:0', grad_fn=<NllLossBackward0>)\n",
      "1 tensor(0.5047, device='cuda:0', grad_fn=<NllLossBackward0>)\n",
      "1 tensor(0.5719, device='cuda:0', grad_fn=<NllLossBackward0>)\n",
      "1 tensor(0.6964, device='cuda:0', grad_fn=<NllLossBackward0>)\n",
      "1 tensor(0.4979, device='cuda:0', grad_fn=<NllLossBackward0>)\n",
      "1 tensor(0.4977, device='cuda:0', grad_fn=<NllLossBackward0>)\n",
      "1 tensor(0.5153, device='cuda:0', grad_fn=<NllLossBackward0>)\n",
      "1 tensor(0.4997, device='cuda:0', grad_fn=<NllLossBackward0>)\n",
      "1 tensor(0.5536, device='cuda:0', grad_fn=<NllLossBackward0>)\n",
      "1 tensor(0.4641, device='cuda:0', grad_fn=<NllLossBackward0>)\n",
      "1 tensor(0.5281, device='cuda:0', grad_fn=<NllLossBackward0>)\n",
      "1 tensor(0.5081, device='cuda:0', grad_fn=<NllLossBackward0>)\n",
      "1 tensor(0.4970, device='cuda:0', grad_fn=<NllLossBackward0>)\n",
      "1 tensor(0.5389, device='cuda:0', grad_fn=<NllLossBackward0>)\n",
      "1 tensor(0.5377, device='cuda:0', grad_fn=<NllLossBackward0>)\n",
      "1 tensor(0.3897, device='cuda:0', grad_fn=<NllLossBackward0>)\n",
      "1 tensor(0.6303, device='cuda:0', grad_fn=<NllLossBackward0>)\n",
      "1 tensor(0.3915, device='cuda:0', grad_fn=<NllLossBackward0>)\n",
      "1 tensor(0.4533, device='cuda:0', grad_fn=<NllLossBackward0>)\n",
      "1 tensor(0.4528, device='cuda:0', grad_fn=<NllLossBackward0>)\n",
      "1 tensor(0.5661, device='cuda:0', grad_fn=<NllLossBackward0>)\n",
      "1 tensor(0.5334, device='cuda:0', grad_fn=<NllLossBackward0>)\n",
      "1 tensor(0.4002, device='cuda:0', grad_fn=<NllLossBackward0>)\n",
      "1 tensor(0.3888, device='cuda:0', grad_fn=<NllLossBackward0>)\n",
      "1 tensor(0.5916, device='cuda:0', grad_fn=<NllLossBackward0>)\n",
      "1 tensor(0.5904, device='cuda:0', grad_fn=<NllLossBackward0>)\n",
      "1 tensor(0.4767, device='cuda:0', grad_fn=<NllLossBackward0>)\n",
      "1 tensor(0.4265, device='cuda:0', grad_fn=<NllLossBackward0>)\n",
      "1 tensor(0.4512, device='cuda:0', grad_fn=<NllLossBackward0>)\n",
      "1 tensor(0.5803, device='cuda:0', grad_fn=<NllLossBackward0>)\n",
      "1 tensor(0.4640, device='cuda:0', grad_fn=<NllLossBackward0>)\n",
      "1 tensor(0.4274, device='cuda:0', grad_fn=<NllLossBackward0>)\n",
      "1 tensor(0.4832, device='cuda:0', grad_fn=<NllLossBackward0>)\n",
      "1 tensor(0.4723, device='cuda:0', grad_fn=<NllLossBackward0>)\n",
      "1 tensor(0.4145, device='cuda:0', grad_fn=<NllLossBackward0>)\n",
      "1 tensor(0.4365, device='cuda:0', grad_fn=<NllLossBackward0>)\n",
      "1 tensor(0.3270, device='cuda:0', grad_fn=<NllLossBackward0>)\n",
      "1 tensor(0.3667, device='cuda:0', grad_fn=<NllLossBackward0>)\n",
      "1 tensor(0.4701, device='cuda:0', grad_fn=<NllLossBackward0>)\n",
      "2 tensor(0.3100, device='cuda:0', grad_fn=<NllLossBackward0>)\n",
      "2 tensor(0.4665, device='cuda:0', grad_fn=<NllLossBackward0>)\n",
      "2 tensor(0.3177, device='cuda:0', grad_fn=<NllLossBackward0>)\n",
      "2 tensor(0.4056, device='cuda:0', grad_fn=<NllLossBackward0>)\n",
      "2 tensor(0.4576, device='cuda:0', grad_fn=<NllLossBackward0>)\n",
      "2 tensor(0.3958, device='cuda:0', grad_fn=<NllLossBackward0>)\n",
      "2 tensor(0.4909, device='cuda:0', grad_fn=<NllLossBackward0>)\n",
      "2 tensor(0.3207, device='cuda:0', grad_fn=<NllLossBackward0>)\n",
      "2 tensor(0.4702, device='cuda:0', grad_fn=<NllLossBackward0>)\n",
      "2 tensor(0.4601, device='cuda:0', grad_fn=<NllLossBackward0>)\n",
      "2 tensor(0.3962, device='cuda:0', grad_fn=<NllLossBackward0>)\n",
      "2 tensor(0.3120, device='cuda:0', grad_fn=<NllLossBackward0>)\n",
      "2 tensor(0.4022, device='cuda:0', grad_fn=<NllLossBackward0>)\n",
      "2 tensor(0.4839, device='cuda:0', grad_fn=<NllLossBackward0>)\n",
      "2 tensor(0.3985, device='cuda:0', grad_fn=<NllLossBackward0>)\n",
      "2 tensor(0.3448, device='cuda:0', grad_fn=<NllLossBackward0>)\n",
      "2 tensor(0.3659, device='cuda:0', grad_fn=<NllLossBackward0>)\n",
      "2 tensor(0.4248, device='cuda:0', grad_fn=<NllLossBackward0>)\n",
      "2 tensor(0.4498, device='cuda:0', grad_fn=<NllLossBackward0>)\n",
      "2 tensor(0.5252, device='cuda:0', grad_fn=<NllLossBackward0>)\n",
      "2 tensor(0.3579, device='cuda:0', grad_fn=<NllLossBackward0>)\n",
      "2 tensor(0.4271, device='cuda:0', grad_fn=<NllLossBackward0>)\n",
      "2 tensor(0.3773, device='cuda:0', grad_fn=<NllLossBackward0>)\n",
      "2 tensor(0.3611, device='cuda:0', grad_fn=<NllLossBackward0>)\n",
      "2 tensor(0.4506, device='cuda:0', grad_fn=<NllLossBackward0>)\n",
      "2 tensor(0.4153, device='cuda:0', grad_fn=<NllLossBackward0>)\n",
      "2 tensor(0.4785, device='cuda:0', grad_fn=<NllLossBackward0>)\n",
      "2 tensor(0.3344, device='cuda:0', grad_fn=<NllLossBackward0>)\n",
      "2 tensor(0.4022, device='cuda:0', grad_fn=<NllLossBackward0>)\n",
      "2 tensor(0.3589, device='cuda:0', grad_fn=<NllLossBackward0>)\n",
      "2 tensor(0.4089, device='cuda:0', grad_fn=<NllLossBackward0>)\n",
      "2 tensor(0.4265, device='cuda:0', grad_fn=<NllLossBackward0>)\n",
      "2 tensor(0.3276, device='cuda:0', grad_fn=<NllLossBackward0>)\n",
      "2 tensor(0.3542, device='cuda:0', grad_fn=<NllLossBackward0>)\n",
      "2 tensor(0.4546, device='cuda:0', grad_fn=<NllLossBackward0>)\n",
      "2 tensor(0.3487, device='cuda:0', grad_fn=<NllLossBackward0>)\n",
      "2 tensor(0.3380, device='cuda:0', grad_fn=<NllLossBackward0>)\n",
      "2 tensor(0.2819, device='cuda:0', grad_fn=<NllLossBackward0>)\n",
      "2 tensor(0.3590, device='cuda:0', grad_fn=<NllLossBackward0>)\n",
      "2 tensor(0.2634, device='cuda:0', grad_fn=<NllLossBackward0>)\n",
      "2 tensor(0.3849, device='cuda:0', grad_fn=<NllLossBackward0>)\n",
      "2 tensor(0.3759, device='cuda:0', grad_fn=<NllLossBackward0>)\n",
      "2 tensor(0.4063, device='cuda:0', grad_fn=<NllLossBackward0>)\n",
      "2 tensor(0.3575, device='cuda:0', grad_fn=<NllLossBackward0>)\n",
      "2 tensor(0.5597, device='cuda:0', grad_fn=<NllLossBackward0>)\n",
      "2 tensor(0.4457, device='cuda:0', grad_fn=<NllLossBackward0>)\n",
      "2 tensor(0.2696, device='cuda:0', grad_fn=<NllLossBackward0>)\n",
      "2 tensor(0.3707, device='cuda:0', grad_fn=<NllLossBackward0>)\n",
      "2 tensor(0.5263, device='cuda:0', grad_fn=<NllLossBackward0>)\n",
      "2 tensor(0.3264, device='cuda:0', grad_fn=<NllLossBackward0>)\n",
      "2 tensor(0.3646, device='cuda:0', grad_fn=<NllLossBackward0>)\n",
      "2 tensor(0.3971, device='cuda:0', grad_fn=<NllLossBackward0>)\n",
      "2 tensor(0.4610, device='cuda:0', grad_fn=<NllLossBackward0>)\n",
      "2 tensor(0.5328, device='cuda:0', grad_fn=<NllLossBackward0>)\n",
      "2 tensor(0.3156, device='cuda:0', grad_fn=<NllLossBackward0>)\n",
      "2 tensor(0.3852, device='cuda:0', grad_fn=<NllLossBackward0>)\n",
      "2 tensor(0.4319, device='cuda:0', grad_fn=<NllLossBackward0>)\n",
      "2 tensor(0.3579, device='cuda:0', grad_fn=<NllLossBackward0>)\n",
      "2 tensor(0.3963, device='cuda:0', grad_fn=<NllLossBackward0>)\n",
      "2 tensor(0.2864, device='cuda:0', grad_fn=<NllLossBackward0>)\n",
      "2 tensor(0.3199, device='cuda:0', grad_fn=<NllLossBackward0>)\n",
      "2 tensor(0.3197, device='cuda:0', grad_fn=<NllLossBackward0>)\n",
      "2 tensor(0.2904, device='cuda:0', grad_fn=<NllLossBackward0>)\n",
      "2 tensor(0.3727, device='cuda:0', grad_fn=<NllLossBackward0>)\n",
      "2 tensor(0.2513, device='cuda:0', grad_fn=<NllLossBackward0>)\n",
      "2 tensor(0.3207, device='cuda:0', grad_fn=<NllLossBackward0>)\n",
      "2 tensor(0.3664, device='cuda:0', grad_fn=<NllLossBackward0>)\n",
      "2 tensor(0.3952, device='cuda:0', grad_fn=<NllLossBackward0>)\n",
      "2 tensor(0.3037, device='cuda:0', grad_fn=<NllLossBackward0>)\n",
      "2 tensor(0.3365, device='cuda:0', grad_fn=<NllLossBackward0>)\n",
      "2 tensor(0.2513, device='cuda:0', grad_fn=<NllLossBackward0>)\n",
      "2 tensor(0.4440, device='cuda:0', grad_fn=<NllLossBackward0>)\n",
      "2 tensor(0.2356, device='cuda:0', grad_fn=<NllLossBackward0>)\n",
      "2 tensor(0.2706, device='cuda:0', grad_fn=<NllLossBackward0>)\n",
      "2 tensor(0.3589, device='cuda:0', grad_fn=<NllLossBackward0>)\n",
      "2 tensor(0.4243, device='cuda:0', grad_fn=<NllLossBackward0>)\n",
      "2 tensor(0.3470, device='cuda:0', grad_fn=<NllLossBackward0>)\n",
      "2 tensor(0.2523, device='cuda:0', grad_fn=<NllLossBackward0>)\n",
      "2 tensor(0.2797, device='cuda:0', grad_fn=<NllLossBackward0>)\n",
      "2 tensor(0.3720, device='cuda:0', grad_fn=<NllLossBackward0>)\n",
      "2 tensor(0.3378, device='cuda:0', grad_fn=<NllLossBackward0>)\n",
      "2 tensor(0.3074, device='cuda:0', grad_fn=<NllLossBackward0>)\n",
      "2 tensor(0.2351, device='cuda:0', grad_fn=<NllLossBackward0>)\n",
      "2 tensor(0.2533, device='cuda:0', grad_fn=<NllLossBackward0>)\n",
      "2 tensor(0.4287, device='cuda:0', grad_fn=<NllLossBackward0>)\n",
      "2 tensor(0.3760, device='cuda:0', grad_fn=<NllLossBackward0>)\n",
      "2 tensor(0.2201, device='cuda:0', grad_fn=<NllLossBackward0>)\n",
      "2 tensor(0.3579, device='cuda:0', grad_fn=<NllLossBackward0>)\n",
      "2 tensor(0.3461, device='cuda:0', grad_fn=<NllLossBackward0>)\n",
      "2 tensor(0.3669, device='cuda:0', grad_fn=<NllLossBackward0>)\n",
      "2 tensor(0.2396, device='cuda:0', grad_fn=<NllLossBackward0>)\n",
      "2 tensor(0.2696, device='cuda:0', grad_fn=<NllLossBackward0>)\n",
      "2 tensor(0.2318, device='cuda:0', grad_fn=<NllLossBackward0>)\n",
      "2 tensor(0.4098, device='cuda:0', grad_fn=<NllLossBackward0>)\n",
      "3 tensor(0.2212, device='cuda:0', grad_fn=<NllLossBackward0>)\n",
      "3 tensor(0.3696, device='cuda:0', grad_fn=<NllLossBackward0>)\n",
      "3 tensor(0.2086, device='cuda:0', grad_fn=<NllLossBackward0>)\n",
      "3 tensor(0.2629, device='cuda:0', grad_fn=<NllLossBackward0>)\n",
      "3 tensor(0.3742, device='cuda:0', grad_fn=<NllLossBackward0>)\n",
      "3 tensor(0.2929, device='cuda:0', grad_fn=<NllLossBackward0>)\n",
      "3 tensor(0.2782, device='cuda:0', grad_fn=<NllLossBackward0>)\n",
      "3 tensor(0.2192, device='cuda:0', grad_fn=<NllLossBackward0>)\n",
      "3 tensor(0.4295, device='cuda:0', grad_fn=<NllLossBackward0>)\n",
      "3 tensor(0.3145, device='cuda:0', grad_fn=<NllLossBackward0>)\n",
      "3 tensor(0.3087, device='cuda:0', grad_fn=<NllLossBackward0>)\n",
      "3 tensor(0.2659, device='cuda:0', grad_fn=<NllLossBackward0>)\n",
      "3 tensor(0.3005, device='cuda:0', grad_fn=<NllLossBackward0>)\n",
      "3 tensor(0.3476, device='cuda:0', grad_fn=<NllLossBackward0>)\n",
      "3 tensor(0.2730, device='cuda:0', grad_fn=<NllLossBackward0>)\n",
      "3 tensor(0.2315, device='cuda:0', grad_fn=<NllLossBackward0>)\n",
      "3 tensor(0.2847, device='cuda:0', grad_fn=<NllLossBackward0>)\n",
      "3 tensor(0.2804, device='cuda:0', grad_fn=<NllLossBackward0>)\n",
      "3 tensor(0.3321, device='cuda:0', grad_fn=<NllLossBackward0>)\n",
      "3 tensor(0.4419, device='cuda:0', grad_fn=<NllLossBackward0>)\n",
      "3 tensor(0.2623, device='cuda:0', grad_fn=<NllLossBackward0>)\n",
      "3 tensor(0.3366, device='cuda:0', grad_fn=<NllLossBackward0>)\n",
      "3 tensor(0.2283, device='cuda:0', grad_fn=<NllLossBackward0>)\n",
      "3 tensor(0.3087, device='cuda:0', grad_fn=<NllLossBackward0>)\n",
      "3 tensor(0.3443, device='cuda:0', grad_fn=<NllLossBackward0>)\n",
      "3 tensor(0.3192, device='cuda:0', grad_fn=<NllLossBackward0>)\n",
      "3 tensor(0.2943, device='cuda:0', grad_fn=<NllLossBackward0>)\n",
      "3 tensor(0.1990, device='cuda:0', grad_fn=<NllLossBackward0>)\n",
      "3 tensor(0.3433, device='cuda:0', grad_fn=<NllLossBackward0>)\n",
      "3 tensor(0.1967, device='cuda:0', grad_fn=<NllLossBackward0>)\n",
      "3 tensor(0.2707, device='cuda:0', grad_fn=<NllLossBackward0>)\n",
      "3 tensor(0.3199, device='cuda:0', grad_fn=<NllLossBackward0>)\n",
      "3 tensor(0.3136, device='cuda:0', grad_fn=<NllLossBackward0>)\n",
      "3 tensor(0.1860, device='cuda:0', grad_fn=<NllLossBackward0>)\n",
      "3 tensor(0.2467, device='cuda:0', grad_fn=<NllLossBackward0>)\n",
      "3 tensor(0.2626, device='cuda:0', grad_fn=<NllLossBackward0>)\n",
      "3 tensor(0.2017, device='cuda:0', grad_fn=<NllLossBackward0>)\n",
      "3 tensor(0.1772, device='cuda:0', grad_fn=<NllLossBackward0>)\n",
      "3 tensor(0.2923, device='cuda:0', grad_fn=<NllLossBackward0>)\n",
      "3 tensor(0.1803, device='cuda:0', grad_fn=<NllLossBackward0>)\n",
      "3 tensor(0.2237, device='cuda:0', grad_fn=<NllLossBackward0>)\n",
      "3 tensor(0.1978, device='cuda:0', grad_fn=<NllLossBackward0>)\n",
      "3 tensor(0.2333, device='cuda:0', grad_fn=<NllLossBackward0>)\n",
      "3 tensor(0.3013, device='cuda:0', grad_fn=<NllLossBackward0>)\n",
      "3 tensor(0.3794, device='cuda:0', grad_fn=<NllLossBackward0>)\n",
      "3 tensor(0.2438, device='cuda:0', grad_fn=<NllLossBackward0>)\n",
      "3 tensor(0.1637, device='cuda:0', grad_fn=<NllLossBackward0>)\n",
      "3 tensor(0.1697, device='cuda:0', grad_fn=<NllLossBackward0>)\n",
      "3 tensor(0.4236, device='cuda:0', grad_fn=<NllLossBackward0>)\n",
      "3 tensor(0.1775, device='cuda:0', grad_fn=<NllLossBackward0>)\n",
      "3 tensor(0.2885, device='cuda:0', grad_fn=<NllLossBackward0>)\n",
      "3 tensor(0.2659, device='cuda:0', grad_fn=<NllLossBackward0>)\n",
      "3 tensor(0.2767, device='cuda:0', grad_fn=<NllLossBackward0>)\n",
      "3 tensor(0.3251, device='cuda:0', grad_fn=<NllLossBackward0>)\n",
      "3 tensor(0.2005, device='cuda:0', grad_fn=<NllLossBackward0>)\n",
      "3 tensor(0.2252, device='cuda:0', grad_fn=<NllLossBackward0>)\n",
      "3 tensor(0.2257, device='cuda:0', grad_fn=<NllLossBackward0>)\n",
      "3 tensor(0.3553, device='cuda:0', grad_fn=<NllLossBackward0>)\n",
      "3 tensor(0.2939, device='cuda:0', grad_fn=<NllLossBackward0>)\n",
      "3 tensor(0.2102, device='cuda:0', grad_fn=<NllLossBackward0>)\n",
      "3 tensor(0.2527, device='cuda:0', grad_fn=<NllLossBackward0>)\n",
      "3 tensor(0.1544, device='cuda:0', grad_fn=<NllLossBackward0>)\n",
      "3 tensor(0.2184, device='cuda:0', grad_fn=<NllLossBackward0>)\n",
      "3 tensor(0.2799, device='cuda:0', grad_fn=<NllLossBackward0>)\n",
      "3 tensor(0.2038, device='cuda:0', grad_fn=<NllLossBackward0>)\n",
      "3 tensor(0.3461, device='cuda:0', grad_fn=<NllLossBackward0>)\n",
      "3 tensor(0.2879, device='cuda:0', grad_fn=<NllLossBackward0>)\n",
      "3 tensor(0.2750, device='cuda:0', grad_fn=<NllLossBackward0>)\n",
      "3 tensor(0.2167, device='cuda:0', grad_fn=<NllLossBackward0>)\n",
      "3 tensor(0.3036, device='cuda:0', grad_fn=<NllLossBackward0>)\n",
      "3 tensor(0.1448, device='cuda:0', grad_fn=<NllLossBackward0>)\n",
      "3 tensor(0.2980, device='cuda:0', grad_fn=<NllLossBackward0>)\n",
      "3 tensor(0.1359, device='cuda:0', grad_fn=<NllLossBackward0>)\n",
      "3 tensor(0.2305, device='cuda:0', grad_fn=<NllLossBackward0>)\n",
      "3 tensor(0.2350, device='cuda:0', grad_fn=<NllLossBackward0>)\n",
      "3 tensor(0.3040, device='cuda:0', grad_fn=<NllLossBackward0>)\n",
      "3 tensor(0.2906, device='cuda:0', grad_fn=<NllLossBackward0>)\n",
      "3 tensor(0.1810, device='cuda:0', grad_fn=<NllLossBackward0>)\n",
      "3 tensor(0.2062, device='cuda:0', grad_fn=<NllLossBackward0>)\n",
      "3 tensor(0.3511, device='cuda:0', grad_fn=<NllLossBackward0>)\n",
      "3 tensor(0.3127, device='cuda:0', grad_fn=<NllLossBackward0>)\n",
      "3 tensor(0.2563, device='cuda:0', grad_fn=<NllLossBackward0>)\n",
      "3 tensor(0.1637, device='cuda:0', grad_fn=<NllLossBackward0>)\n",
      "3 tensor(0.1875, device='cuda:0', grad_fn=<NllLossBackward0>)\n",
      "3 tensor(0.2877, device='cuda:0', grad_fn=<NllLossBackward0>)\n",
      "3 tensor(0.3109, device='cuda:0', grad_fn=<NllLossBackward0>)\n",
      "3 tensor(0.1716, device='cuda:0', grad_fn=<NllLossBackward0>)\n",
      "3 tensor(0.3813, device='cuda:0', grad_fn=<NllLossBackward0>)\n",
      "3 tensor(0.2247, device='cuda:0', grad_fn=<NllLossBackward0>)\n",
      "3 tensor(0.2268, device='cuda:0', grad_fn=<NllLossBackward0>)\n",
      "3 tensor(0.1996, device='cuda:0', grad_fn=<NllLossBackward0>)\n",
      "3 tensor(0.1462, device='cuda:0', grad_fn=<NllLossBackward0>)\n",
      "3 tensor(0.1839, device='cuda:0', grad_fn=<NllLossBackward0>)\n",
      "3 tensor(0.2291, device='cuda:0', grad_fn=<NllLossBackward0>)\n",
      "4 tensor(0.1702, device='cuda:0', grad_fn=<NllLossBackward0>)\n",
      "4 tensor(0.2838, device='cuda:0', grad_fn=<NllLossBackward0>)\n",
      "4 tensor(0.1432, device='cuda:0', grad_fn=<NllLossBackward0>)\n",
      "4 tensor(0.2003, device='cuda:0', grad_fn=<NllLossBackward0>)\n",
      "4 tensor(0.3277, device='cuda:0', grad_fn=<NllLossBackward0>)\n",
      "4 tensor(0.1671, device='cuda:0', grad_fn=<NllLossBackward0>)\n",
      "4 tensor(0.1999, device='cuda:0', grad_fn=<NllLossBackward0>)\n",
      "4 tensor(0.1813, device='cuda:0', grad_fn=<NllLossBackward0>)\n",
      "4 tensor(0.2582, device='cuda:0', grad_fn=<NllLossBackward0>)\n",
      "4 tensor(0.1944, device='cuda:0', grad_fn=<NllLossBackward0>)\n",
      "4 tensor(0.1776, device='cuda:0', grad_fn=<NllLossBackward0>)\n",
      "4 tensor(0.1918, device='cuda:0', grad_fn=<NllLossBackward0>)\n",
      "4 tensor(0.2330, device='cuda:0', grad_fn=<NllLossBackward0>)\n",
      "4 tensor(0.2678, device='cuda:0', grad_fn=<NllLossBackward0>)\n",
      "4 tensor(0.2272, device='cuda:0', grad_fn=<NllLossBackward0>)\n",
      "4 tensor(0.1324, device='cuda:0', grad_fn=<NllLossBackward0>)\n",
      "4 tensor(0.1884, device='cuda:0', grad_fn=<NllLossBackward0>)\n",
      "4 tensor(0.1843, device='cuda:0', grad_fn=<NllLossBackward0>)\n",
      "4 tensor(0.2201, device='cuda:0', grad_fn=<NllLossBackward0>)\n",
      "4 tensor(0.3562, device='cuda:0', grad_fn=<NllLossBackward0>)\n",
      "4 tensor(0.1527, device='cuda:0', grad_fn=<NllLossBackward0>)\n",
      "4 tensor(0.2192, device='cuda:0', grad_fn=<NllLossBackward0>)\n",
      "4 tensor(0.1954, device='cuda:0', grad_fn=<NllLossBackward0>)\n",
      "4 tensor(0.2477, device='cuda:0', grad_fn=<NllLossBackward0>)\n",
      "4 tensor(0.1802, device='cuda:0', grad_fn=<NllLossBackward0>)\n",
      "4 tensor(0.2105, device='cuda:0', grad_fn=<NllLossBackward0>)\n",
      "4 tensor(0.2286, device='cuda:0', grad_fn=<NllLossBackward0>)\n",
      "4 tensor(0.1181, device='cuda:0', grad_fn=<NllLossBackward0>)\n",
      "4 tensor(0.2380, device='cuda:0', grad_fn=<NllLossBackward0>)\n",
      "4 tensor(0.1910, device='cuda:0', grad_fn=<NllLossBackward0>)\n",
      "4 tensor(0.1717, device='cuda:0', grad_fn=<NllLossBackward0>)\n",
      "4 tensor(0.2281, device='cuda:0', grad_fn=<NllLossBackward0>)\n",
      "4 tensor(0.1912, device='cuda:0', grad_fn=<NllLossBackward0>)\n",
      "4 tensor(0.1338, device='cuda:0', grad_fn=<NllLossBackward0>)\n",
      "4 tensor(0.2049, device='cuda:0', grad_fn=<NllLossBackward0>)\n",
      "4 tensor(0.3523, device='cuda:0', grad_fn=<NllLossBackward0>)\n",
      "4 tensor(0.2072, device='cuda:0', grad_fn=<NllLossBackward0>)\n",
      "4 tensor(0.1843, device='cuda:0', grad_fn=<NllLossBackward0>)\n",
      "4 tensor(0.1662, device='cuda:0', grad_fn=<NllLossBackward0>)\n",
      "4 tensor(0.1120, device='cuda:0', grad_fn=<NllLossBackward0>)\n",
      "4 tensor(0.2107, device='cuda:0', grad_fn=<NllLossBackward0>)\n",
      "4 tensor(0.1783, device='cuda:0', grad_fn=<NllLossBackward0>)\n",
      "4 tensor(0.2104, device='cuda:0', grad_fn=<NllLossBackward0>)\n",
      "4 tensor(0.2231, device='cuda:0', grad_fn=<NllLossBackward0>)\n",
      "4 tensor(0.3271, device='cuda:0', grad_fn=<NllLossBackward0>)\n",
      "4 tensor(0.2413, device='cuda:0', grad_fn=<NllLossBackward0>)\n",
      "4 tensor(0.0862, device='cuda:0', grad_fn=<NllLossBackward0>)\n",
      "4 tensor(0.1269, device='cuda:0', grad_fn=<NllLossBackward0>)\n",
      "4 tensor(0.3858, device='cuda:0', grad_fn=<NllLossBackward0>)\n",
      "4 tensor(0.1773, device='cuda:0', grad_fn=<NllLossBackward0>)\n",
      "4 tensor(0.1925, device='cuda:0', grad_fn=<NllLossBackward0>)\n",
      "4 tensor(0.1998, device='cuda:0', grad_fn=<NllLossBackward0>)\n",
      "4 tensor(0.2503, device='cuda:0', grad_fn=<NllLossBackward0>)\n",
      "4 tensor(0.2740, device='cuda:0', grad_fn=<NllLossBackward0>)\n",
      "4 tensor(0.1802, device='cuda:0', grad_fn=<NllLossBackward0>)\n",
      "4 tensor(0.2004, device='cuda:0', grad_fn=<NllLossBackward0>)\n",
      "4 tensor(0.1273, device='cuda:0', grad_fn=<NllLossBackward0>)\n",
      "4 tensor(0.1677, device='cuda:0', grad_fn=<NllLossBackward0>)\n",
      "4 tensor(0.2527, device='cuda:0', grad_fn=<NllLossBackward0>)\n",
      "4 tensor(0.2224, device='cuda:0', grad_fn=<NllLossBackward0>)\n",
      "4 tensor(0.2202, device='cuda:0', grad_fn=<NllLossBackward0>)\n",
      "4 tensor(0.1651, device='cuda:0', grad_fn=<NllLossBackward0>)\n",
      "4 tensor(0.1642, device='cuda:0', grad_fn=<NllLossBackward0>)\n",
      "4 tensor(0.1823, device='cuda:0', grad_fn=<NllLossBackward0>)\n",
      "4 tensor(0.1162, device='cuda:0', grad_fn=<NllLossBackward0>)\n",
      "4 tensor(0.1702, device='cuda:0', grad_fn=<NllLossBackward0>)\n",
      "4 tensor(0.1970, device='cuda:0', grad_fn=<NllLossBackward0>)\n",
      "4 tensor(0.1658, device='cuda:0', grad_fn=<NllLossBackward0>)\n",
      "4 tensor(0.1944, device='cuda:0', grad_fn=<NllLossBackward0>)\n",
      "4 tensor(0.2009, device='cuda:0', grad_fn=<NllLossBackward0>)\n",
      "4 tensor(0.1900, device='cuda:0', grad_fn=<NllLossBackward0>)\n",
      "4 tensor(0.4074, device='cuda:0', grad_fn=<NllLossBackward0>)\n",
      "4 tensor(0.1197, device='cuda:0', grad_fn=<NllLossBackward0>)\n",
      "4 tensor(0.1297, device='cuda:0', grad_fn=<NllLossBackward0>)\n",
      "4 tensor(0.1378, device='cuda:0', grad_fn=<NllLossBackward0>)\n",
      "4 tensor(0.2583, device='cuda:0', grad_fn=<NllLossBackward0>)\n",
      "4 tensor(0.2255, device='cuda:0', grad_fn=<NllLossBackward0>)\n",
      "4 tensor(0.1440, device='cuda:0', grad_fn=<NllLossBackward0>)\n",
      "4 tensor(0.1235, device='cuda:0', grad_fn=<NllLossBackward0>)\n",
      "4 tensor(0.2589, device='cuda:0', grad_fn=<NllLossBackward0>)\n",
      "4 tensor(0.2483, device='cuda:0', grad_fn=<NllLossBackward0>)\n",
      "4 tensor(0.1685, device='cuda:0', grad_fn=<NllLossBackward0>)\n",
      "4 tensor(0.1093, device='cuda:0', grad_fn=<NllLossBackward0>)\n",
      "4 tensor(0.1493, device='cuda:0', grad_fn=<NllLossBackward0>)\n",
      "4 tensor(0.2184, device='cuda:0', grad_fn=<NllLossBackward0>)\n",
      "4 tensor(0.2296, device='cuda:0', grad_fn=<NllLossBackward0>)\n",
      "4 tensor(0.2573, device='cuda:0', grad_fn=<NllLossBackward0>)\n",
      "4 tensor(0.2517, device='cuda:0', grad_fn=<NllLossBackward0>)\n",
      "4 tensor(0.2205, device='cuda:0', grad_fn=<NllLossBackward0>)\n",
      "4 tensor(0.2141, device='cuda:0', grad_fn=<NllLossBackward0>)\n",
      "4 tensor(0.2226, device='cuda:0', grad_fn=<NllLossBackward0>)\n",
      "4 tensor(0.1418, device='cuda:0', grad_fn=<NllLossBackward0>)\n",
      "4 tensor(0.1865, device='cuda:0', grad_fn=<NllLossBackward0>)\n",
      "4 tensor(0.1454, device='cuda:0', grad_fn=<NllLossBackward0>)\n"
     ]
    }
   ],
   "source": [
    "NEPOCHS = 5\n",
    "train_losses = []\n",
    "epoch_loss = []\n",
    "\n",
    "for epoch in range(NEPOCHS):\n",
    "    for (x, y) in dataloader:\n",
    "        x, y = x.cuda(), y.cuda()\n",
    "        optimizer.zero_grad()\n",
    "        out = net(x)\n",
    "        loss = loss_fn(out, y)\n",
    "        loss.backward()\n",
    "        train_losses.append(loss.item())\n",
    "        print(epoch, loss)\n",
    "        optimizer.step()\n"
   ]
  },
  {
   "cell_type": "code",
   "execution_count": 62,
   "metadata": {},
   "outputs": [
    {
     "data": {
      "text/plain": [
       "[<matplotlib.lines.Line2D at 0x7f6a3a581be0>]"
      ]
     },
     "execution_count": 62,
     "metadata": {},
     "output_type": "execute_result"
    },
    {
     "data": {
      "image/png": "[encoded data removed]",
      "text/plain": [
       "<Figure size 640x480 with 1 Axes>"
      ]
     },
     "metadata": {},
     "output_type": "display_data"
    }
   ],
   "source": [
    "plt.plot(train_losses)"
   ]
  },
  {
   "cell_type": "code",
   "execution_count": 63,
   "metadata": {},
   "outputs": [],
   "source": [
    "data = iter(dataloader)\n",
    "x, y = next(data)"
   ]
  },
  {
   "cell_type": "code",
   "execution_count": 64,
   "metadata": {},
   "outputs": [
    {
     "data": {
      "text/plain": [
       "torch.Size([32, 128, 65])"
      ]
     },
     "execution_count": 64,
     "metadata": {},
     "output_type": "execute_result"
    }
   ],
   "source": [
    "y.shape"
   ]
  },
  {
   "cell_type": "code",
   "execution_count": 70,
   "metadata": {},
   "outputs": [],
   "source": [
    "net.eval()\n",
    "with torch.no_grad():\n",
    "    y_pred = net(x.cuda())"
   ]
  },
  {
   "cell_type": "code",
   "execution_count": 72,
   "metadata": {},
   "outputs": [
    {
     "data": {
      "text/plain": [
       "(tensor([6, 3, 6, 0, 8, 3, 4, 7, 1, 8, 7, 0, 2, 5, 9, 3, 3, 1, 9, 8, 0, 0, 3, 6,\n",
       "         4, 9, 8, 4, 0, 4, 3, 5], device='cuda:0'),\n",
       " tensor([6, 3, 6, 0, 8, 3, 4, 7, 1, 8, 7, 0, 2, 5, 9, 3, 3, 1, 9, 8, 0, 0, 3, 6,\n",
       "         4, 9, 8, 4, 0, 4, 3, 5]))"
      ]
     },
     "execution_count": 72,
     "metadata": {},
     "output_type": "execute_result"
    }
   ],
   "source": [
    "torch.argmax(y_pred, dim=-1), y"
   ]
  },
  {
   "cell_type": "code",
   "execution_count": null,
   "metadata": {},
   "outputs": [],
   "source": []
  }
 ],
 "metadata": {
  "kernelspec": {
   "display_name": "env",
   "language": "python",
   "name": "python3"
  },
  "language_info": {
   "codemirror_mode": {
    "name": "ipython",
    "version": 3
   },
   "file_extension": ".py",
   "mimetype": "text/x-python",
   "name": "python",
   "nbconvert_exporter": "python",
   "pygments_lexer": "ipython3",
   "version": "3.9.10"
  },
  "orig_nbformat": 4,
  "vscode": {
   "interpreter": {
    "hash": "f7d1c444690c64dc164009c81e7c7e493213a917c1ee917acb226d895d2dc691"
   }
  }
 },
 "nbformat": 4,
 "nbformat_minor": 2
}
