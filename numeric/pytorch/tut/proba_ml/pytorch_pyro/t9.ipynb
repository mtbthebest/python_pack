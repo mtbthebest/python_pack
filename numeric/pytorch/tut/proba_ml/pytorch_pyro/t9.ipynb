{
 "cells": [
  {
   "cell_type": "code",
   "execution_count": 1,
   "metadata": {},
   "outputs": [
    {
     "name": "stderr",
     "output_type": "stream",
     "text": [
      "/env_nlp/lib/python3.9/site-packages/tqdm/auto.py:21: TqdmWarning: IProgress not found. Please update jupyter and ipywidgets. See https://ipywidgets.readthedocs.io/en/stable/user_install.html\n",
      "  from .autonotebook import tqdm as notebook_tqdm\n"
     ]
    }
   ],
   "source": [
    "%load_ext autoreload\n",
    "%autoreload 2\n",
    "import torch\n",
    "from torch import nn, optim\n",
    "import numpy as np\n",
    "import pandas as pd\n",
    "import scipy\n",
    "import matplotlib as mpl\n",
    "import matplotlib.pyplot as plt\n",
    "import pyro\n",
    "import pyro.distributions as dist\n",
    "from pyro.distributions import Categorical, Normal, Multinomial, Binomial, MultivariateNormal, Beta, constraints\n",
    "from pyro.distributions.torch import Bernoulli\n",
    "import pyro.infer as infer\n",
    "from pyro.infer import TraceEnum_ELBO, Trace_ELBO, config_enumerate\n",
    "from pyro import poutine\n",
    "from pyro.poutine.trace_messenger import TraceMessenger\n",
    "from pyro.poutine.messenger import Messenger\n",
    "\n",
    "plt.style.use('seaborn-v0_8')\n"
   ]
  },
  {
   "cell_type": "code",
   "execution_count": 15,
   "metadata": {},
   "outputs": [
    {
     "data": {
      "text/plain": [
       "{'type': 'sample',\n",
       " 'name': 'a',\n",
       " 'fn': Categorical(probs: torch.Size([6])),\n",
       " 'is_observed': False,\n",
       " 'args': (),\n",
       " 'kwargs': {},\n",
       " 'value': tensor([[0],\n",
       "         [1],\n",
       "         [2],\n",
       "         [3],\n",
       "         [4],\n",
       "         [5]]),\n",
       " 'infer': {'enumerate': 'parallel',\n",
       "  'expand': False,\n",
       "  '_enumerate_dim': -2,\n",
       "  '_dim_to_id': {-2: 0}},\n",
       " 'scale': 1.0,\n",
       " 'mask': None,\n",
       " 'cond_indep_stack': (),\n",
       " 'done': True,\n",
       " 'stop': False,\n",
       " 'continuation': None}"
      ]
     },
     "execution_count": 15,
     "metadata": {},
     "output_type": "execute_result"
    }
   ],
   "source": [
    "def model():\n",
    "    # p = pyro.param(\"p\", )\n",
    "    \n",
    "    probs_a = torch.softmax(torch.randn(6,), 0)\n",
    "    a = pyro.sample(\"a\", Categorical(probs=probs_a))\n",
    "    \n",
    "    b = pyro.sample(\"b\", Bernoulli(probs_a[a]))\n",
    "\n",
    "pyro.set_rng_seed(0)\n",
    "torch.manual_seed(0)\n",
    "pyro.clear_param_store()\n",
    "model = config_enumerate(model)\n",
    "trace = poutine.trace(poutine.enum(model, first_available_dim=-2)).get_trace()\n",
    "# trace = poutine.trace(poutine.block(model, hide=[])).get_trace()\n",
    "trace.nodes[\"a\"]"
   ]
  },
  {
   "cell_type": "code",
   "execution_count": 7,
   "metadata": {},
   "outputs": [],
   "source": [
    "trace.compute_log_prob()"
   ]
  },
  {
   "cell_type": "code",
   "execution_count": 8,
   "metadata": {},
   "outputs": [
    {
     "data": {
      "text/plain": [
       "['Trace Shapes:      ',\n",
       " ' Param Sites:      ',\n",
       " 'Sample Sites:      ',\n",
       " '       a dist     |',\n",
       " '        value 6 1 |',\n",
       " '     log_prob 6 1 |']"
      ]
     },
     "execution_count": 8,
     "metadata": {},
     "output_type": "execute_result"
    }
   ],
   "source": [
    "trace.format_shapes().split(\"\\n\")"
   ]
  },
  {
   "cell_type": "code",
   "execution_count": 10,
   "metadata": {},
   "outputs": [
    {
     "data": {
      "text/plain": [
       "{'type': 'sample',\n",
       " 'name': 'a',\n",
       " 'fn': Categorical(probs: torch.Size([6]), logits: torch.Size([6])),\n",
       " 'is_observed': False,\n",
       " 'args': (),\n",
       " 'kwargs': {},\n",
       " 'value': tensor([[0],\n",
       "         [1],\n",
       "         [2],\n",
       "         [3],\n",
       "         [4],\n",
       "         [5]]),\n",
       " 'infer': {'enumerate': 'parallel',\n",
       "  'expand': False,\n",
       "  '_enumerate_dim': -2,\n",
       "  '_dim_to_id': {-2: 0}},\n",
       " 'scale': 1.0,\n",
       " 'mask': None,\n",
       " 'cond_indep_stack': (),\n",
       " 'done': True,\n",
       " 'stop': False,\n",
       " 'continuation': None,\n",
       " 'unscaled_log_prob': tensor([[-0.5232],\n",
       "         [-2.3576],\n",
       "         [-4.2429],\n",
       "         [-1.4957],\n",
       "         [-3.1487],\n",
       "         [-3.4627]]),\n",
       " 'log_prob': tensor([[-0.5232],\n",
       "         [-2.3576],\n",
       "         [-4.2429],\n",
       "         [-1.4957],\n",
       "         [-3.1487],\n",
       "         [-3.4627]]),\n",
       " 'log_prob_sum': tensor(-15.2308)}"
      ]
     },
     "execution_count": 10,
     "metadata": {},
     "output_type": "execute_result"
    }
   ],
   "source": [
    "trace.nodes[\"a\"]"
   ]
  },
  {
   "cell_type": "code",
   "execution_count": 11,
   "metadata": {},
   "outputs": [
    {
     "data": {
      "text/plain": [
       "tensor([[0.5926],\n",
       "        [0.0946],\n",
       "        [0.0144],\n",
       "        [0.2241],\n",
       "        [0.0429],\n",
       "        [0.0313]])"
      ]
     },
     "execution_count": 11,
     "metadata": {},
     "output_type": "execute_result"
    }
   ],
   "source": [
    "trace.nodes[\"a\"][\"log_prob\"].exp()"
   ]
  },
  {
   "cell_type": "code",
   "execution_count": 13,
   "metadata": {},
   "outputs": [
    {
     "data": {
      "text/plain": [
       "tensor([0.5926, 0.0946, 0.0144, 0.2241, 0.0429, 0.0313])"
      ]
     },
     "execution_count": 13,
     "metadata": {},
     "output_type": "execute_result"
    }
   ],
   "source": [
    "trace.nodes[\"a\"]['fn'].probs"
   ]
  },
  {
   "cell_type": "code",
   "execution_count": null,
   "metadata": {},
   "outputs": [],
   "source": []
  }
 ],
 "metadata": {
  "kernelspec": {
   "display_name": "env_nlp",
   "language": "python",
   "name": "python3"
  },
  "language_info": {
   "codemirror_mode": {
    "name": "ipython",
    "version": 3
   },
   "file_extension": ".py",
   "mimetype": "text/x-python",
   "name": "python",
   "nbconvert_exporter": "python",
   "pygments_lexer": "ipython3",
   "version": "3.9.2"
  }
 },
 "nbformat": 4,
 "nbformat_minor": 2
}
