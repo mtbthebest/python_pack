{
 "cells": [
  {
   "cell_type": "code",
   "execution_count": 38,
   "metadata": {},
   "outputs": [
    {
     "name": "stdout",
     "output_type": "stream",
     "text": [
      "The autoreload extension is already loaded. To reload it, use:\n",
      "  %reload_ext autoreload\n"
     ]
    }
   ],
   "source": [
    "%load_ext autoreload\n",
    "%autoreload 2\n",
    "import torch\n",
    "from torch import nn, optim\n",
    "import numpy as np\n",
    "import pandas as pd\n",
    "import scipy\n",
    "import matplotlib as mpl\n",
    "import matplotlib.pyplot as plt\n",
    "import pyro\n",
    "import pyro.distributions as dist\n",
    "from pyro.distributions import Categorical, Normal, Multinomial, Binomial, MultivariateNormal, Beta, constraints\n",
    "from pyro.distributions.torch import Bernoulli\n",
    "import pyro.infer as infer\n",
    "from pyro.infer import TraceEnum_ELBO, Trace_ELBO, config_enumerate\n",
    "from pyro import poutine\n",
    "from pyro.poutine.trace_messenger import TraceMessenger\n",
    "from pyro.poutine.enum_messenger import EnumMessenger\n",
    "from pyro.poutine.messenger import Messenger\n",
    "\n",
    "plt.style.use('seaborn-v0_8')\n"
   ]
  },
  {
   "cell_type": "code",
   "execution_count": 2,
   "metadata": {},
   "outputs": [
    {
     "name": "stdout",
     "output_type": "stream",
     "text": [
      "tensor([ 0.4033,  0.8380, -0.7193, -0.4033, -0.5966,  0.1820]) tensor([0.5995, 0.6980, 0.3276, 0.4005, 0.3551, 0.5454])\n"
     ]
    }
   ],
   "source": [
    "def model():\n",
    "    p = pyro.param(\"p\", torch.softmax(torch.randn(1, 6), -1).squeeze())\n",
    "    a = pyro.sample(\"a\", Categorical(p))\n",
    "    pb = torch.randn(6, )\n",
    "    print(pb, torch.sigmoid(pb))\n",
    "    b = pyro.sample(\"b\", Bernoulli(logits=pb[a]))\n",
    "    c = pyro.sample(\"c\", Normal(b, torch.tensor(1.)))\n",
    "    return \n",
    "pyro.set_rng_seed(0)\n",
    "torch.manual_seed(0)\n",
    "pyro.clear_param_store()\n",
    "model = config_enumerate(model)\n",
    "trace = poutine.trace(poutine.enum(model, first_available_dim=-2)).get_trace()"
   ]
  },
  {
   "cell_type": "code",
   "execution_count": 3,
   "metadata": {},
   "outputs": [],
   "source": [
    "trace.compute_log_prob()"
   ]
  },
  {
   "cell_type": "code",
   "execution_count": 4,
   "metadata": {},
   "outputs": [
    {
     "data": {
      "text/plain": [
       "['Trace Shapes:        ',\n",
       " ' Param Sites:        ',\n",
       " '            p       6',\n",
       " 'Sample Sites:        ',\n",
       " '       a dist       |',\n",
       " '        value   6 1 |',\n",
       " '     log_prob   6 1 |',\n",
       " '       b dist   6 1 |',\n",
       " '        value 2 1 1 |',\n",
       " '     log_prob 2 6 1 |',\n",
       " '       c dist 2 1 1 |',\n",
       " '        value 2 1 1 |',\n",
       " '     log_prob 2 1 1 |']"
      ]
     },
     "execution_count": 4,
     "metadata": {},
     "output_type": "execute_result"
    }
   ],
   "source": [
    "trace.format_shapes().split(\"\\n\")"
   ]
  },
  {
   "cell_type": "code",
   "execution_count": 5,
   "metadata": {},
   "outputs": [
    {
     "data": {
      "text/plain": [
       "{'type': 'sample',\n",
       " 'name': 'a',\n",
       " 'fn': Categorical(probs: torch.Size([6]), logits: torch.Size([6])),\n",
       " 'is_observed': False,\n",
       " 'args': (),\n",
       " 'kwargs': {},\n",
       " 'value': tensor([[0],\n",
       "         [1],\n",
       "         [2],\n",
       "         [3],\n",
       "         [4],\n",
       "         [5]]),\n",
       " 'infer': {'enumerate': 'parallel',\n",
       "  'expand': False,\n",
       "  '_enumerate_dim': -2,\n",
       "  '_dim_to_id': {-2: 0}},\n",
       " 'scale': 1.0,\n",
       " 'mask': None,\n",
       " 'cond_indep_stack': (),\n",
       " 'done': True,\n",
       " 'stop': False,\n",
       " 'continuation': None,\n",
       " 'unscaled_log_prob': tensor([[-0.5232],\n",
       "         [-2.3576],\n",
       "         [-4.2429],\n",
       "         [-1.4957],\n",
       "         [-3.1487],\n",
       "         [-3.4627]], grad_fn=<SqueezeBackward1>),\n",
       " 'log_prob': tensor([[-0.5232],\n",
       "         [-2.3576],\n",
       "         [-4.2429],\n",
       "         [-1.4957],\n",
       "         [-3.1487],\n",
       "         [-3.4627]], grad_fn=<SqueezeBackward1>),\n",
       " 'log_prob_sum': tensor(-15.2308, grad_fn=<SumBackward0>)}"
      ]
     },
     "execution_count": 5,
     "metadata": {},
     "output_type": "execute_result"
    }
   ],
   "source": [
    "trace.nodes[\"a\"]"
   ]
  },
  {
   "cell_type": "code",
   "execution_count": 6,
   "metadata": {},
   "outputs": [
    {
     "data": {
      "text/plain": [
       "tensor([[0.5926],\n",
       "        [0.0946],\n",
       "        [0.0144],\n",
       "        [0.2241],\n",
       "        [0.0429],\n",
       "        [0.0313]], grad_fn=<ExpBackward0>)"
      ]
     },
     "execution_count": 6,
     "metadata": {},
     "output_type": "execute_result"
    }
   ],
   "source": [
    "trace.nodes[\"a\"][\"log_prob\"].exp()"
   ]
  },
  {
   "cell_type": "code",
   "execution_count": 7,
   "metadata": {},
   "outputs": [
    {
     "data": {
      "text/plain": [
       "Categorical(probs: torch.Size([6]), logits: torch.Size([6]))"
      ]
     },
     "execution_count": 7,
     "metadata": {},
     "output_type": "execute_result"
    }
   ],
   "source": [
    "trace.nodes[\"a\"]['fn']"
   ]
  },
  {
   "cell_type": "code",
   "execution_count": 8,
   "metadata": {},
   "outputs": [
    {
     "data": {
      "text/plain": [
       "tensor([-0.5232, -2.3576, -4.2429, -1.4957, -3.1487, -3.4627],\n",
       "       grad_fn=<LogBackward0>)"
      ]
     },
     "execution_count": 8,
     "metadata": {},
     "output_type": "execute_result"
    }
   ],
   "source": [
    "trace.nodes[\"a\"][\"fn\"].logits"
   ]
  },
  {
   "cell_type": "code",
   "execution_count": 9,
   "metadata": {},
   "outputs": [
    {
     "data": {
      "text/plain": [
       "tensor([0.5926, 0.0946, 0.0144, 0.2241, 0.0429, 0.0313],\n",
       "       grad_fn=<DivBackward0>)"
      ]
     },
     "execution_count": 9,
     "metadata": {},
     "output_type": "execute_result"
    }
   ],
   "source": [
    "trace.nodes[\"a\"][\"fn\"].probs"
   ]
  },
  {
   "cell_type": "code",
   "execution_count": 10,
   "metadata": {},
   "outputs": [],
   "source": [
    "probs = trace.nodes[\"a\"][\"fn\"].probs"
   ]
  },
  {
   "cell_type": "code",
   "execution_count": 11,
   "metadata": {},
   "outputs": [
    {
     "data": {
      "text/plain": [
       "tensor([-0.5232, -2.3576, -4.2429, -1.4957, -3.1487, -3.4627],\n",
       "       grad_fn=<LogBackward0>)"
      ]
     },
     "execution_count": 11,
     "metadata": {},
     "output_type": "execute_result"
    }
   ],
   "source": [
    "torch.log(probs)"
   ]
  },
  {
   "cell_type": "code",
   "execution_count": 12,
   "metadata": {},
   "outputs": [
    {
     "data": {
      "text/plain": [
       "{'type': 'sample',\n",
       " 'name': 'b',\n",
       " 'fn': Bernoulli(logits: torch.Size([6, 1])),\n",
       " 'is_observed': False,\n",
       " 'args': (),\n",
       " 'kwargs': {},\n",
       " 'value': tensor([[[0.]],\n",
       " \n",
       "         [[1.]]]),\n",
       " 'infer': {'enumerate': 'parallel',\n",
       "  'expand': False,\n",
       "  '_enumerate_dim': -3,\n",
       "  '_dim_to_id': {-3: 1, -2: 0}},\n",
       " 'scale': 1.0,\n",
       " 'mask': None,\n",
       " 'cond_indep_stack': (),\n",
       " 'done': True,\n",
       " 'stop': False,\n",
       " 'continuation': None,\n",
       " 'unscaled_log_prob': tensor([[[-0.9150],\n",
       "          [-1.1975],\n",
       "          [-0.3968],\n",
       "          [-0.5117],\n",
       "          [-0.4387],\n",
       "          [-0.7883]],\n",
       " \n",
       "         [[-0.5117],\n",
       "          [-0.3595],\n",
       "          [-1.1161],\n",
       "          [-0.9150],\n",
       "          [-1.0353],\n",
       "          [-0.6063]]]),\n",
       " 'log_prob': tensor([[[-0.9150],\n",
       "          [-1.1975],\n",
       "          [-0.3968],\n",
       "          [-0.5117],\n",
       "          [-0.4387],\n",
       "          [-0.7883]],\n",
       " \n",
       "         [[-0.5117],\n",
       "          [-0.3595],\n",
       "          [-1.1161],\n",
       "          [-0.9150],\n",
       "          [-1.0353],\n",
       "          [-0.6063]]]),\n",
       " 'log_prob_sum': tensor(-8.7918)}"
      ]
     },
     "execution_count": 12,
     "metadata": {},
     "output_type": "execute_result"
    }
   ],
   "source": [
    "trace.nodes[\"b\"]"
   ]
  },
  {
   "cell_type": "code",
   "execution_count": 13,
   "metadata": {},
   "outputs": [
    {
     "data": {
      "text/plain": [
       "tensor([[0.5995],\n",
       "        [0.6980],\n",
       "        [0.3276],\n",
       "        [0.4005],\n",
       "        [0.3551],\n",
       "        [0.5454]])"
      ]
     },
     "execution_count": 13,
     "metadata": {},
     "output_type": "execute_result"
    }
   ],
   "source": [
    "probs = trace.nodes[\"b\"][\"fn\"].probs\n",
    "probs"
   ]
  },
  {
   "cell_type": "code",
   "execution_count": 14,
   "metadata": {},
   "outputs": [],
   "source": [
    "probs = torch.column_stack((1-probs, probs))"
   ]
  },
  {
   "cell_type": "code",
   "execution_count": 15,
   "metadata": {},
   "outputs": [
    {
     "data": {
      "text/plain": [
       "tensor([[0.4005, 0.5995],\n",
       "        [0.3020, 0.6980],\n",
       "        [0.6724, 0.3276],\n",
       "        [0.5995, 0.4005],\n",
       "        [0.6449, 0.3551],\n",
       "        [0.4546, 0.5454]])"
      ]
     },
     "execution_count": 15,
     "metadata": {},
     "output_type": "execute_result"
    }
   ],
   "source": [
    "probs"
   ]
  },
  {
   "cell_type": "code",
   "execution_count": 16,
   "metadata": {},
   "outputs": [
    {
     "data": {
      "text/plain": [
       "tensor([[[-0.9150],\n",
       "         [-1.1975],\n",
       "         [-0.3968],\n",
       "         [-0.5117],\n",
       "         [-0.4387],\n",
       "         [-0.7883]],\n",
       "\n",
       "        [[-0.5117],\n",
       "         [-0.3595],\n",
       "         [-1.1161],\n",
       "         [-0.9150],\n",
       "         [-1.0353],\n",
       "         [-0.6063]]])"
      ]
     },
     "execution_count": 16,
     "metadata": {},
     "output_type": "execute_result"
    }
   ],
   "source": [
    "trace.nodes[\"b\"][\"log_prob\"]"
   ]
  },
  {
   "cell_type": "code",
   "execution_count": 17,
   "metadata": {},
   "outputs": [
    {
     "data": {
      "text/plain": [
       "tensor([[[-0.9150],\n",
       "         [-1.1975],\n",
       "         [-0.3968],\n",
       "         [-0.5117],\n",
       "         [-0.4387],\n",
       "         [-0.7883]],\n",
       "\n",
       "        [[-0.5117],\n",
       "         [-0.3595],\n",
       "         [-1.1161],\n",
       "         [-0.9150],\n",
       "         [-1.0353],\n",
       "         [-0.6063]]])"
      ]
     },
     "execution_count": 17,
     "metadata": {},
     "output_type": "execute_result"
    }
   ],
   "source": [
    "torch.stack([torch.log(torch.select(probs, 1, 0)).unsqueeze(1), torch.log(torch.select(probs, 1, 1)).unsqueeze(1)])"
   ]
  },
  {
   "cell_type": "code",
   "execution_count": 19,
   "metadata": {},
   "outputs": [
    {
     "data": {
      "text/plain": [
       "tensor([[[0.]],\n",
       "\n",
       "        [[1.]]])"
      ]
     },
     "execution_count": 19,
     "metadata": {},
     "output_type": "execute_result"
    }
   ],
   "source": [
    "trace.nodes[\"c\"][\"fn\"].loc"
   ]
  },
  {
   "cell_type": "code",
   "execution_count": 20,
   "metadata": {},
   "outputs": [
    {
     "data": {
      "text/plain": [
       "tensor([[[-1.2859]],\n",
       "\n",
       "        [[-1.5246]]])"
      ]
     },
     "execution_count": 20,
     "metadata": {},
     "output_type": "execute_result"
    }
   ],
   "source": [
    "trace.nodes[\"c\"][\"log_prob\"]"
   ]
  },
  {
   "cell_type": "code",
   "execution_count": 34,
   "metadata": {},
   "outputs": [
    {
     "name": "stdout",
     "output_type": "stream",
     "text": [
      "Guide a:  tensor(0)\n"
     ]
    }
   ],
   "source": [
    "def model():\n",
    "    p = pyro.param(\"p\", torch.softmax(torch.randn(1, 6), -1).squeeze())\n",
    "    a = pyro.sample(\"a\", Categorical(p))\n",
    "    print(\"Model a: \", a)\n",
    "    return \n",
    "\n",
    "def guide():\n",
    "    p = pyro.param(\"p\", torch.softmax(torch.randn(1, 6), -1).squeeze())\n",
    "    a = pyro.sample(\"a\", Categorical(p))\n",
    "    print(\"Guide a: \", a)\n",
    "pyro.set_rng_seed(0)\n",
    "torch.manual_seed(0)\n",
    "pyro.clear_param_store()\n",
    "guide = config_enumerate(guide, default=\"sequential\")\n",
    "trace = poutine.trace(poutine.enum(guide, first_available_dim=-1)).get_trace()"
   ]
  },
  {
   "cell_type": "code",
   "execution_count": 26,
   "metadata": {},
   "outputs": [],
   "source": [
    "trace.compute_log_prob()"
   ]
  },
  {
   "cell_type": "code",
   "execution_count": 28,
   "metadata": {},
   "outputs": [
    {
     "data": {
      "text/plain": [
       "['Trace Shapes:  ',\n",
       " ' Param Sites:  ',\n",
       " '            p 6',\n",
       " 'Sample Sites:  ',\n",
       " '       a dist |',\n",
       " '        value |',\n",
       " '     log_prob |']"
      ]
     },
     "execution_count": 28,
     "metadata": {},
     "output_type": "execute_result"
    }
   ],
   "source": [
    "trace.format_shapes().split(\"\\n\")"
   ]
  },
  {
   "cell_type": "code",
   "execution_count": 37,
   "metadata": {},
   "outputs": [
    {
     "name": "stdout",
     "output_type": "stream",
     "text": [
      "Guide a:  tensor(5)\n",
      "Model a:  tensor(5)\n",
      "Guide a:  tensor(4)\n",
      "Model a:  tensor(4)\n",
      "Guide a:  tensor(3)\n",
      "Model a:  tensor(3)\n",
      "Guide a:  tensor(2)\n",
      "Model a:  tensor(2)\n",
      "Guide a:  tensor(1)\n",
      "Model a:  tensor(1)\n",
      "Guide a:  tensor(0)\n",
      "Model a:  tensor(0)\n"
     ]
    }
   ],
   "source": [
    "elbo = TraceEnum_ELBO(max_plate_nesting=0)\n",
    "elbo.loss(model, config_enumerate(guide, \"sequential\"));"
   ]
  },
  {
   "cell_type": "code",
   "execution_count": 44,
   "metadata": {},
   "outputs": [
    {
     "name": "stdout",
     "output_type": "stream",
     "text": [
      "Guide a:  tensor(0)\n"
     ]
    }
   ],
   "source": [
    "guide = config_enumerate(guide, default=\"sequential\")\n",
    "\n",
    "pyro.set_rng_seed(0)\n",
    "torch.manual_seed(0)\n",
    "pyro.clear_param_store()\n",
    "with EnumMessenger(first_available_dim=-1) as trace:\n",
    "    guide()"
   ]
  },
  {
   "cell_type": "code",
   "execution_count": null,
   "metadata": {},
   "outputs": [],
   "source": []
  },
  {
   "cell_type": "code",
   "execution_count": 49,
   "metadata": {},
   "outputs": [
    {
     "name": "stdout",
     "output_type": "stream",
     "text": [
      "Model a:  tensor([0, 1, 2, 3])\n"
     ]
    }
   ],
   "source": [
    "def model():\n",
    "    a = pyro.sample(\"a\", dist.Categorical(torch.ones(4)))\n",
    "    b = pyro.sample(\"b\", dist.Categorical(torch.ones(3)))\n",
    "    print(\"Model a: \", a)\n",
    "    return \n",
    "\n",
    "pyro.set_rng_seed(0)\n",
    "torch.manual_seed(0)\n",
    "pyro.clear_param_store()\n",
    "model = config_enumerate(model)\n",
    "trace = poutine.trace(poutine.enum(model, first_available_dim=-1)).get_trace()"
   ]
  },
  {
   "cell_type": "code",
   "execution_count": 50,
   "metadata": {},
   "outputs": [],
   "source": [
    "trace.compute_log_prob()"
   ]
  },
  {
   "cell_type": "code",
   "execution_count": 51,
   "metadata": {},
   "outputs": [
    {
     "data": {
      "text/plain": [
       "['Trace Shapes:      ',\n",
       " ' Param Sites:      ',\n",
       " 'Sample Sites:      ',\n",
       " '       a dist     |',\n",
       " '        value   4 |',\n",
       " '     log_prob   4 |',\n",
       " '       b dist     |',\n",
       " '        value 3 1 |',\n",
       " '     log_prob 3 1 |']"
      ]
     },
     "execution_count": 51,
     "metadata": {},
     "output_type": "execute_result"
    }
   ],
   "source": [
    "trace.format_shapes().split(\"\\n\")"
   ]
  },
  {
   "cell_type": "code",
   "execution_count": 54,
   "metadata": {},
   "outputs": [
    {
     "data": {
      "text/plain": [
       "tensor([0.0729, 0.8067, 0.1204])"
      ]
     },
     "execution_count": 54,
     "metadata": {},
     "output_type": "execute_result"
    }
   ],
   "source": [
    "pyro.sample(\"p\", dist.Dirichlet(torch.ones(3)))"
   ]
  },
  {
   "cell_type": "code",
   "execution_count": 56,
   "metadata": {},
   "outputs": [
    {
     "data": {
      "text/plain": [
       "tensor(1.)"
      ]
     },
     "execution_count": 56,
     "metadata": {},
     "output_type": "execute_result"
    }
   ],
   "source": [
    "pyro.sample(\"p\", dist.Dirichlet(torch.ones(3))).sum()"
   ]
  },
  {
   "cell_type": "code",
   "execution_count": null,
   "metadata": {},
   "outputs": [],
   "source": []
  }
 ],
 "metadata": {
  "kernelspec": {
   "display_name": "env_nlp",
   "language": "python",
   "name": "python3"
  },
  "language_info": {
   "codemirror_mode": {
    "name": "ipython",
    "version": 3
   },
   "file_extension": ".py",
   "mimetype": "text/x-python",
   "name": "python",
   "nbconvert_exporter": "python",
   "pygments_lexer": "ipython3",
   "version": "3.10.0"
  }
 },
 "nbformat": 4,
 "nbformat_minor": 2
}
