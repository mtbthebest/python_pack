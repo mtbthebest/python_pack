{
 "cells": [
  {
   "cell_type": "code",
   "execution_count": 1,
   "metadata": {},
   "outputs": [],
   "source": [
    "%load_ext autoreload\n",
    "%autoreload 2\n",
    "import torch\n",
    "from torch import nn, optim\n",
    "import numpy as np\n",
    "import pandas as pd\n",
    "import scipy\n",
    "import matplotlib as mpl\n",
    "import matplotlib.pyplot as plt\n",
    "import pyro\n",
    "import pyro.distributions as dist\n",
    "from pyro.distributions import Categorical, Normal, Multinomial, Binomial, MultivariateNormal, Beta, constraints\n",
    "from pyro.distributions.torch import Bernoulli\n",
    "import pyro.infer as infer\n",
    "from pyro.infer import TraceEnum_ELBO, Trace_ELBO, config_enumerate\n",
    "from pyro import poutine\n",
    "from pyro.poutine.trace_messenger import TraceMessenger\n",
    "from pyro.poutine.messenger import Messenger\n",
    "\n",
    "plt.style.use('seaborn-v0_8')\n"
   ]
  },
  {
   "cell_type": "code",
   "execution_count": 119,
   "metadata": {},
   "outputs": [
    {
     "data": {
      "text/plain": [
       "{'type': 'sample',\n",
       " 'name': 'c',\n",
       " 'fn': Bernoulli(probs: torch.Size([4])),\n",
       " 'is_observed': False,\n",
       " 'args': (),\n",
       " 'kwargs': {},\n",
       " 'value': tensor([[[[0.]]],\n",
       " \n",
       " \n",
       "         [[[1.]]]]),\n",
       " 'infer': {'enumerate': 'parallel',\n",
       "  'expand': False,\n",
       "  '_enumerate_dim': -4,\n",
       "  '_dim_to_id': {-4: 2, -2: 0, -3: 1}},\n",
       " 'scale': 1.0,\n",
       " 'mask': None,\n",
       " 'cond_indep_stack': (CondIndepStackFrame(name='c_plate', dim=-1, size=4, counter=0),),\n",
       " 'done': True,\n",
       " 'stop': False,\n",
       " 'continuation': None}"
      ]
     },
     "execution_count": 119,
     "metadata": {},
     "output_type": "execute_result"
    }
   ],
   "source": [
    "def model():\n",
    "    p = pyro.param(\"p\", torch.arange(6.) / 6)\n",
    "    \n",
    "    a = pyro.sample(\"a\", Categorical(torch.ones(6, dtype=torch.float) / 6.))\n",
    "    b = pyro.sample(\"b\", Bernoulli(p[a]))\n",
    "    locs = torch.tensor([0.2, 0.9])\n",
    "    with pyro.plate(\"c_plate\", 4):\n",
    "        c = pyro.sample(\"c\", Bernoulli(0.5))\n",
    "        e = pyro.sample(\"e\", Normal(locs[c.long()], 1.0))\n",
    "    \n",
    "    with pyro.plate(\"d_plate\", 3):\n",
    "        d = pyro.sample(\"d\", Normal(torch.zeros(3, 4), torch.ones(3, 4)).to_event(1))\n",
    "\n",
    "pyro.set_rng_seed(0)\n",
    "pyro.clear_param_store()\n",
    "model = config_enumerate(model)\n",
    "trace = poutine.trace(poutine.enum(model, first_available_dim=-2)).get_trace()\n",
    "trace.nodes[\"c\"]"
   ]
  },
  {
   "cell_type": "code",
   "execution_count": 120,
   "metadata": {},
   "outputs": [],
   "source": [
    "trace.compute_log_prob()"
   ]
  },
  {
   "cell_type": "code",
   "execution_count": 121,
   "metadata": {},
   "outputs": [
    {
     "data": {
      "text/plain": [
       "['Trace Shapes:            ',\n",
       " ' Param Sites:            ',\n",
       " '            p         6  ',\n",
       " 'Sample Sites:            ',\n",
       " '       a dist         |  ',\n",
       " '        value     6 1 |  ',\n",
       " '     log_prob     6 1 |  ',\n",
       " '       b dist     6 1 |  ',\n",
       " '        value   2 1 1 |  ',\n",
       " '     log_prob   2 6 1 |  ',\n",
       " ' c_plate dist         |  ',\n",
       " '        value       4 |  ',\n",
       " '     log_prob         |  ',\n",
       " '       c dist       4 |  ',\n",
       " '        value 2 1 1 1 |  ',\n",
       " '     log_prob 2 1 1 4 |  ',\n",
       " '       e dist 2 1 1 4 |  ',\n",
       " '        value 2 1 1 4 |  ',\n",
       " '     log_prob 2 1 1 4 |  ',\n",
       " ' d_plate dist         |  ',\n",
       " '        value       3 |  ',\n",
       " '     log_prob         |  ',\n",
       " '       d dist       3 | 4',\n",
       " '        value       3 | 4',\n",
       " '     log_prob       3 |  ']"
      ]
     },
     "execution_count": 121,
     "metadata": {},
     "output_type": "execute_result"
    }
   ],
   "source": [
    "trace.format_shapes().split(\"\\n\")"
   ]
  },
  {
   "cell_type": "code",
   "execution_count": 122,
   "metadata": {},
   "outputs": [
    {
     "data": {
      "text/plain": [
       "{'type': 'sample',\n",
       " 'name': 'd',\n",
       " 'fn': Independent(Normal(loc: torch.Size([3, 4]), scale: torch.Size([3, 4])), 1),\n",
       " 'is_observed': False,\n",
       " 'args': (),\n",
       " 'kwargs': {},\n",
       " 'value': tensor([[-0.7193, -0.4033, -0.5966,  0.1820],\n",
       "         [-0.8567,  1.1006, -1.0712,  0.1227],\n",
       "         [-0.5663,  0.3731, -0.8920, -1.5091]]),\n",
       " 'infer': {'_dim_to_id': {-2: 0, -3: 1, -4: 2}},\n",
       " 'scale': 1.0,\n",
       " 'mask': None,\n",
       " 'cond_indep_stack': (CondIndepStackFrame(name='d_plate', dim=-1, size=3, counter=0),),\n",
       " 'done': True,\n",
       " 'stop': False,\n",
       " 'continuation': None,\n",
       " 'unscaled_log_prob': tensor([-4.2103, -5.2296, -5.4422]),\n",
       " 'log_prob': tensor([-4.2103, -5.2296, -5.4422]),\n",
       " 'log_prob_sum': tensor(-14.8822)}"
      ]
     },
     "execution_count": 122,
     "metadata": {},
     "output_type": "execute_result"
    }
   ],
   "source": [
    "trace.nodes[\"d\"]"
   ]
  },
  {
   "cell_type": "code",
   "execution_count": 123,
   "metadata": {},
   "outputs": [
    {
     "data": {
      "text/plain": [
       "{'type': 'sample',\n",
       " 'name': 'a',\n",
       " 'fn': Categorical(probs: torch.Size([6]), logits: torch.Size([6])),\n",
       " 'is_observed': False,\n",
       " 'args': (),\n",
       " 'kwargs': {},\n",
       " 'value': tensor([[0],\n",
       "         [1],\n",
       "         [2],\n",
       "         [3],\n",
       "         [4],\n",
       "         [5]]),\n",
       " 'infer': {'enumerate': 'parallel',\n",
       "  'expand': False,\n",
       "  '_enumerate_dim': -2,\n",
       "  '_dim_to_id': {-2: 0}},\n",
       " 'scale': 1.0,\n",
       " 'mask': None,\n",
       " 'cond_indep_stack': (),\n",
       " 'done': True,\n",
       " 'stop': False,\n",
       " 'continuation': None,\n",
       " 'unscaled_log_prob': tensor([[-1.7918],\n",
       "         [-1.7918],\n",
       "         [-1.7918],\n",
       "         [-1.7918],\n",
       "         [-1.7918],\n",
       "         [-1.7918]]),\n",
       " 'log_prob': tensor([[-1.7918],\n",
       "         [-1.7918],\n",
       "         [-1.7918],\n",
       "         [-1.7918],\n",
       "         [-1.7918],\n",
       "         [-1.7918]]),\n",
       " 'log_prob_sum': tensor(-10.7506)}"
      ]
     },
     "execution_count": 123,
     "metadata": {},
     "output_type": "execute_result"
    }
   ],
   "source": [
    "trace.nodes[\"a\"]"
   ]
  },
  {
   "cell_type": "code",
   "execution_count": 124,
   "metadata": {},
   "outputs": [
    {
     "data": {
      "text/plain": [
       "tensor([[[0.]],\n",
       "\n",
       "        [[1.]]])"
      ]
     },
     "execution_count": 124,
     "metadata": {},
     "output_type": "execute_result"
    }
   ],
   "source": [
    "trace.nodes[\"b\"][\"value\"]"
   ]
  },
  {
   "cell_type": "code",
   "execution_count": 125,
   "metadata": {},
   "outputs": [
    {
     "data": {
      "text/plain": [
       "tensor([[[[0.]]],\n",
       "\n",
       "\n",
       "        [[[1.]]]])"
      ]
     },
     "execution_count": 125,
     "metadata": {},
     "output_type": "execute_result"
    }
   ],
   "source": [
    "trace.nodes[\"c\"][\"value\"]"
   ]
  },
  {
   "cell_type": "code",
   "execution_count": 126,
   "metadata": {},
   "outputs": [
    {
     "name": "stdout",
     "output_type": "stream",
     "text": [
      "Help on function trace in module pyro.poutine.handlers:\n",
      "\n",
      "trace(fn=None, *args, **kwargs)\n",
      "    Convenient wrapper of :class:`~pyro.poutine.trace_messenger.TraceMessenger` \n",
      "    \n",
      "    \n",
      "    Return a handler that records the inputs and outputs of primitive calls\n",
      "    and their dependencies.\n",
      "    \n",
      "    Consider the following Pyro program:\n",
      "    \n",
      "        >>> def model(x):\n",
      "        ...     s = pyro.param(\"s\", torch.tensor(0.5))\n",
      "        ...     z = pyro.sample(\"z\", dist.Normal(x, s))\n",
      "        ...     return z ** 2\n",
      "    \n",
      "    We can record its execution using ``trace``\n",
      "    and use the resulting data structure to compute the log-joint probability\n",
      "    of all of the sample sites in the execution or extract all parameters.\n",
      "    \n",
      "        >>> trace = pyro.poutine.trace(model).get_trace(0.0)\n",
      "        >>> logp = trace.log_prob_sum()\n",
      "        >>> params = [trace.nodes[name][\"value\"].unconstrained() for name in trace.param_nodes]\n",
      "    \n",
      "    :param fn: a stochastic function (callable containing Pyro primitive calls)\n",
      "    :param graph_type: string that specifies the kind of graph to construct\n",
      "    :param param_only: if true, only records params and not samples\n",
      "    :returns: stochastic function decorated with a :class:`~pyro.poutine.trace_messenger.TraceMessenger`\n",
      "\n"
     ]
    }
   ],
   "source": [
    "help(poutine.trace)"
   ]
  },
  {
   "cell_type": "code",
   "execution_count": 127,
   "metadata": {},
   "outputs": [
    {
     "data": {
      "text/plain": [
       "{'type': 'sample',\n",
       " 'name': 'a',\n",
       " 'fn': Categorical(probs: torch.Size([6]), logits: torch.Size([6])),\n",
       " 'is_observed': False,\n",
       " 'args': (),\n",
       " 'kwargs': {},\n",
       " 'value': tensor([[0],\n",
       "         [1],\n",
       "         [2],\n",
       "         [3],\n",
       "         [4],\n",
       "         [5]]),\n",
       " 'infer': {'enumerate': 'parallel',\n",
       "  'expand': False,\n",
       "  '_enumerate_dim': -2,\n",
       "  '_dim_to_id': {-2: 0}},\n",
       " 'scale': 1.0,\n",
       " 'mask': None,\n",
       " 'cond_indep_stack': (),\n",
       " 'done': True,\n",
       " 'stop': False,\n",
       " 'continuation': None,\n",
       " 'unscaled_log_prob': tensor([[-1.7918],\n",
       "         [-1.7918],\n",
       "         [-1.7918],\n",
       "         [-1.7918],\n",
       "         [-1.7918],\n",
       "         [-1.7918]]),\n",
       " 'log_prob': tensor([[-1.7918],\n",
       "         [-1.7918],\n",
       "         [-1.7918],\n",
       "         [-1.7918],\n",
       "         [-1.7918],\n",
       "         [-1.7918]]),\n",
       " 'log_prob_sum': tensor(-10.7506)}"
      ]
     },
     "execution_count": 127,
     "metadata": {},
     "output_type": "execute_result"
    }
   ],
   "source": [
    "trace.nodes[\"a\"]"
   ]
  },
  {
   "cell_type": "code",
   "execution_count": 128,
   "metadata": {},
   "outputs": [
    {
     "data": {
      "text/plain": [
       "-1.791759469228055"
      ]
     },
     "execution_count": 128,
     "metadata": {},
     "output_type": "execute_result"
    }
   ],
   "source": [
    "np.log(1/6.)"
   ]
  },
  {
   "cell_type": "code",
   "execution_count": 129,
   "metadata": {},
   "outputs": [
    {
     "data": {
      "text/plain": [
       "{'type': 'sample',\n",
       " 'name': 'b',\n",
       " 'fn': Bernoulli(probs: torch.Size([6, 1]), logits: torch.Size([6, 1])),\n",
       " 'is_observed': False,\n",
       " 'args': (),\n",
       " 'kwargs': {},\n",
       " 'value': tensor([[[0.]],\n",
       " \n",
       "         [[1.]]]),\n",
       " 'infer': {'enumerate': 'parallel',\n",
       "  'expand': False,\n",
       "  '_enumerate_dim': -3,\n",
       "  '_dim_to_id': {-3: 1, -2: 0}},\n",
       " 'scale': 1.0,\n",
       " 'mask': None,\n",
       " 'cond_indep_stack': (),\n",
       " 'done': True,\n",
       " 'stop': False,\n",
       " 'continuation': None,\n",
       " 'unscaled_log_prob': tensor([[[-1.1921e-07],\n",
       "          [-1.8232e-01],\n",
       "          [-4.0547e-01],\n",
       "          [-6.9315e-01],\n",
       "          [-1.0986e+00],\n",
       "          [-1.7918e+00]],\n",
       " \n",
       "         [[-1.5942e+01],\n",
       "          [-1.7918e+00],\n",
       "          [-1.0986e+00],\n",
       "          [-6.9315e-01],\n",
       "          [-4.0547e-01],\n",
       "          [-1.8232e-01]]], grad_fn=<NegBackward0>),\n",
       " 'log_prob': tensor([[[-1.1921e-07],\n",
       "          [-1.8232e-01],\n",
       "          [-4.0547e-01],\n",
       "          [-6.9315e-01],\n",
       "          [-1.0986e+00],\n",
       "          [-1.7918e+00]],\n",
       " \n",
       "         [[-1.5942e+01],\n",
       "          [-1.7918e+00],\n",
       "          [-1.0986e+00],\n",
       "          [-6.9315e-01],\n",
       "          [-4.0547e-01],\n",
       "          [-1.8232e-01]]], grad_fn=<NegBackward0>),\n",
       " 'log_prob_sum': tensor(-24.2850, grad_fn=<SumBackward0>)}"
      ]
     },
     "execution_count": 129,
     "metadata": {},
     "output_type": "execute_result"
    }
   ],
   "source": [
    "trace.nodes[\"b\"]"
   ]
  },
  {
   "cell_type": "code",
   "execution_count": 130,
   "metadata": {},
   "outputs": [
    {
     "data": {
      "text/plain": [
       "torch.Size([2, 6, 1])"
      ]
     },
     "execution_count": 130,
     "metadata": {},
     "output_type": "execute_result"
    }
   ],
   "source": [
    "trace.nodes[\"b\"][\"log_prob\"].size()"
   ]
  },
  {
   "cell_type": "code",
   "execution_count": 131,
   "metadata": {},
   "outputs": [
    {
     "data": {
      "text/plain": [
       "tensor([[0.1667],\n",
       "        [0.1667],\n",
       "        [0.1667],\n",
       "        [0.1667],\n",
       "        [0.1667],\n",
       "        [0.1667]])"
      ]
     },
     "execution_count": 131,
     "metadata": {},
     "output_type": "execute_result"
    }
   ],
   "source": [
    "trace.nodes[\"a\"][\"log_prob\"].exp()"
   ]
  },
  {
   "cell_type": "code",
   "execution_count": 132,
   "metadata": {},
   "outputs": [
    {
     "data": {
      "text/plain": [
       "-1.7915594892253888"
      ]
     },
     "execution_count": 132,
     "metadata": {},
     "output_type": "execute_result"
    }
   ],
   "source": [
    "np.log(0.1667)"
   ]
  },
  {
   "cell_type": "code",
   "execution_count": 133,
   "metadata": {},
   "outputs": [
    {
     "data": {
      "text/plain": [
       "-0.1823615575939759"
      ]
     },
     "execution_count": 133,
     "metadata": {},
     "output_type": "execute_result"
    }
   ],
   "source": [
    "np.log(1 - 0.1667)"
   ]
  },
  {
   "cell_type": "code",
   "execution_count": 134,
   "metadata": {},
   "outputs": [
    {
     "data": {
      "text/plain": [
       "tensor([[[[0.2000, 0.2000, 0.2000, 0.2000]]],\n",
       "\n",
       "\n",
       "        [[[0.9000, 0.9000, 0.9000, 0.9000]]]])"
      ]
     },
     "execution_count": 134,
     "metadata": {},
     "output_type": "execute_result"
    }
   ],
   "source": [
    "trace.nodes[\"e\"][\"fn\"].loc"
   ]
  },
  {
   "cell_type": "code",
   "execution_count": 135,
   "metadata": {},
   "outputs": [
    {
     "data": {
      "text/plain": [
       "tensor([[-15.9424],\n",
       "        [ -1.6094],\n",
       "        [ -0.6931],\n",
       "        [  0.0000],\n",
       "        [  0.6931],\n",
       "        [  1.6094]], grad_fn=<SubBackward0>)"
      ]
     },
     "execution_count": 135,
     "metadata": {},
     "output_type": "execute_result"
    }
   ],
   "source": [
    "trace.nodes[\"b\"][\"fn\"].logits"
   ]
  },
  {
   "cell_type": "code",
   "execution_count": 136,
   "metadata": {},
   "outputs": [
    {
     "data": {
      "text/plain": [
       "tensor([[0.0000],\n",
       "        [0.1667],\n",
       "        [0.3333],\n",
       "        [0.5000],\n",
       "        [0.6667],\n",
       "        [0.8333]], grad_fn=<IndexBackward0>)"
      ]
     },
     "execution_count": 136,
     "metadata": {},
     "output_type": "execute_result"
    }
   ],
   "source": [
    "trace.nodes[\"b\"][\"fn\"].probs"
   ]
  },
  {
   "cell_type": "code",
   "execution_count": 137,
   "metadata": {},
   "outputs": [
    {
     "data": {
      "text/plain": [
       "tensor([[ 0.0000],\n",
       "        [-0.1823],\n",
       "        [-0.4055],\n",
       "        [-0.6931],\n",
       "        [-1.0986],\n",
       "        [-1.7918]], grad_fn=<LogBackward0>)"
      ]
     },
     "execution_count": 137,
     "metadata": {},
     "output_type": "execute_result"
    }
   ],
   "source": [
    "(1 - trace.nodes[\"b\"][\"fn\"].probs).log()"
   ]
  },
  {
   "cell_type": "code",
   "execution_count": 141,
   "metadata": {},
   "outputs": [
    {
     "data": {
      "text/plain": [
       "tensor([[-1.1921e-07],\n",
       "        [-1.8232e-01],\n",
       "        [-4.0547e-01],\n",
       "        [-6.9315e-01],\n",
       "        [-1.0986e+00],\n",
       "        [-1.7918e+00]], grad_fn=<SelectBackward0>)"
      ]
     },
     "execution_count": 141,
     "metadata": {},
     "output_type": "execute_result"
    }
   ],
   "source": [
    "trace.nodes[\"b\"][\"log_prob\"][0]"
   ]
  },
  {
   "cell_type": "code",
   "execution_count": 142,
   "metadata": {},
   "outputs": [
    {
     "data": {
      "text/plain": [
       "tensor([[   -inf],\n",
       "        [-1.7918],\n",
       "        [-1.0986],\n",
       "        [-0.6931],\n",
       "        [-0.4055],\n",
       "        [-0.1823]], grad_fn=<LogBackward0>)"
      ]
     },
     "execution_count": 142,
     "metadata": {},
     "output_type": "execute_result"
    }
   ],
   "source": [
    "(trace.nodes[\"b\"][\"fn\"].probs).log()"
   ]
  },
  {
   "cell_type": "code",
   "execution_count": 143,
   "metadata": {},
   "outputs": [
    {
     "data": {
      "text/plain": [
       "tensor([[-15.9424],\n",
       "        [ -1.7918],\n",
       "        [ -1.0986],\n",
       "        [ -0.6931],\n",
       "        [ -0.4055],\n",
       "        [ -0.1823]], grad_fn=<SelectBackward0>)"
      ]
     },
     "execution_count": 143,
     "metadata": {},
     "output_type": "execute_result"
    }
   ],
   "source": [
    "trace.nodes[\"b\"][\"log_prob\"][1]"
   ]
  },
  {
   "cell_type": "code",
   "execution_count": null,
   "metadata": {},
   "outputs": [],
   "source": []
  }
 ],
 "metadata": {
  "kernelspec": {
   "display_name": "env_nlp",
   "language": "python",
   "name": "python3"
  },
  "language_info": {
   "codemirror_mode": {
    "name": "ipython",
    "version": 3
   },
   "file_extension": ".py",
   "mimetype": "text/x-python",
   "name": "python",
   "nbconvert_exporter": "python",
   "pygments_lexer": "ipython3",
   "version": "3.10.0"
  }
 },
 "nbformat": 4,
 "nbformat_minor": 2
}
