{
 "cells": [
  {
   "cell_type": "code",
   "execution_count": 1,
   "metadata": {},
   "outputs": [
    {
     "name": "stderr",
     "output_type": "stream",
     "text": [
      "/env_nlp/lib/python3.9/site-packages/tqdm/auto.py:21: TqdmWarning: IProgress not found. Please update jupyter and ipywidgets. See https://ipywidgets.readthedocs.io/en/stable/user_install.html\n",
      "  from .autonotebook import tqdm as notebook_tqdm\n"
     ]
    }
   ],
   "source": [
    "%load_ext autoreload\n",
    "%autoreload 2\n",
    "\n",
    "import math\n",
    "import numpy as np\n",
    "import random\n",
    "import pandas as pd\n",
    "import matplotlib as mpl\n",
    "import matplotlib.pyplot as plt\n",
    "import torch\n",
    "from torch import nn\n",
    "\n",
    "import pyro\n",
    "from pyro.nn import PyroParam, PyroSample, PyroModule\n",
    "import pyro.distributions as dist\n",
    "from pyro.distributions.torch import Bernoulli\n",
    "from pyro.distributions import constraints\n",
    "from pyro.infer import SVI, Trace_ELBO, Predictive\n",
    "from pyro import poutine\n",
    "\n",
    "plt.style.use(\"seaborn-v0_8\")"
   ]
  },
  {
   "cell_type": "markdown",
   "metadata": {},
   "source": [
    "## Load dataset "
   ]
  },
  {
   "cell_type": "code",
   "execution_count": 2,
   "metadata": {},
   "outputs": [],
   "source": [
    "wind_df = pd.read_csv(\"/mnt/dl/machine_learning_dataset/wind_speed_prediction_dataset/wind_dataset.csv\")"
   ]
  },
  {
   "cell_type": "code",
   "execution_count": 3,
   "metadata": {},
   "outputs": [
    {
     "data": {
      "text/html": [
       "<div>\n",
       "<style scoped>\n",
       "    .dataframe tbody tr th:only-of-type {\n",
       "        vertical-align: middle;\n",
       "    }\n",
       "\n",
       "    .dataframe tbody tr th {\n",
       "        vertical-align: top;\n",
       "    }\n",
       "\n",
       "    .dataframe thead th {\n",
       "        text-align: right;\n",
       "    }\n",
       "</style>\n",
       "<table border=\"1\" class=\"dataframe\">\n",
       "  <thead>\n",
       "    <tr style=\"text-align: right;\">\n",
       "      <th></th>\n",
       "      <th>DATE</th>\n",
       "      <th>WIND</th>\n",
       "      <th>IND</th>\n",
       "      <th>RAIN</th>\n",
       "      <th>IND.1</th>\n",
       "      <th>T.MAX</th>\n",
       "      <th>IND.2</th>\n",
       "      <th>T.MIN</th>\n",
       "      <th>T.MIN.G</th>\n",
       "    </tr>\n",
       "  </thead>\n",
       "  <tbody>\n",
       "    <tr>\n",
       "      <th>0</th>\n",
       "      <td>1961-01-01</td>\n",
       "      <td>13.67</td>\n",
       "      <td>0</td>\n",
       "      <td>0.2</td>\n",
       "      <td>0.0</td>\n",
       "      <td>9.5</td>\n",
       "      <td>0.0</td>\n",
       "      <td>3.7</td>\n",
       "      <td>-1.0</td>\n",
       "    </tr>\n",
       "    <tr>\n",
       "      <th>1</th>\n",
       "      <td>1961-01-02</td>\n",
       "      <td>11.50</td>\n",
       "      <td>0</td>\n",
       "      <td>5.1</td>\n",
       "      <td>0.0</td>\n",
       "      <td>7.2</td>\n",
       "      <td>0.0</td>\n",
       "      <td>4.2</td>\n",
       "      <td>1.1</td>\n",
       "    </tr>\n",
       "    <tr>\n",
       "      <th>2</th>\n",
       "      <td>1961-01-03</td>\n",
       "      <td>11.25</td>\n",
       "      <td>0</td>\n",
       "      <td>0.4</td>\n",
       "      <td>0.0</td>\n",
       "      <td>5.5</td>\n",
       "      <td>0.0</td>\n",
       "      <td>0.5</td>\n",
       "      <td>-0.5</td>\n",
       "    </tr>\n",
       "    <tr>\n",
       "      <th>3</th>\n",
       "      <td>1961-01-04</td>\n",
       "      <td>8.63</td>\n",
       "      <td>0</td>\n",
       "      <td>0.2</td>\n",
       "      <td>0.0</td>\n",
       "      <td>5.6</td>\n",
       "      <td>0.0</td>\n",
       "      <td>0.4</td>\n",
       "      <td>-3.2</td>\n",
       "    </tr>\n",
       "    <tr>\n",
       "      <th>4</th>\n",
       "      <td>1961-01-05</td>\n",
       "      <td>11.92</td>\n",
       "      <td>0</td>\n",
       "      <td>10.4</td>\n",
       "      <td>0.0</td>\n",
       "      <td>7.2</td>\n",
       "      <td>1.0</td>\n",
       "      <td>-1.5</td>\n",
       "      <td>-7.5</td>\n",
       "    </tr>\n",
       "    <tr>\n",
       "      <th>...</th>\n",
       "      <td>...</td>\n",
       "      <td>...</td>\n",
       "      <td>...</td>\n",
       "      <td>...</td>\n",
       "      <td>...</td>\n",
       "      <td>...</td>\n",
       "      <td>...</td>\n",
       "      <td>...</td>\n",
       "      <td>...</td>\n",
       "    </tr>\n",
       "    <tr>\n",
       "      <th>6569</th>\n",
       "      <td>1978-12-27</td>\n",
       "      <td>14.46</td>\n",
       "      <td>0</td>\n",
       "      <td>16.8</td>\n",
       "      <td>0.0</td>\n",
       "      <td>9.8</td>\n",
       "      <td>0.0</td>\n",
       "      <td>4.0</td>\n",
       "      <td>0.0</td>\n",
       "    </tr>\n",
       "    <tr>\n",
       "      <th>6570</th>\n",
       "      <td>1978-12-28</td>\n",
       "      <td>14.33</td>\n",
       "      <td>0</td>\n",
       "      <td>16.0</td>\n",
       "      <td>0.0</td>\n",
       "      <td>9.1</td>\n",
       "      <td>0.0</td>\n",
       "      <td>8.5</td>\n",
       "      <td>8.0</td>\n",
       "    </tr>\n",
       "    <tr>\n",
       "      <th>6571</th>\n",
       "      <td>1978-12-29</td>\n",
       "      <td>19.17</td>\n",
       "      <td>0</td>\n",
       "      <td>14.7</td>\n",
       "      <td>0.0</td>\n",
       "      <td>5.0</td>\n",
       "      <td>0.0</td>\n",
       "      <td>3.5</td>\n",
       "      <td>3.2</td>\n",
       "    </tr>\n",
       "    <tr>\n",
       "      <th>6572</th>\n",
       "      <td>1978-12-30</td>\n",
       "      <td>18.08</td>\n",
       "      <td>0</td>\n",
       "      <td>4.9</td>\n",
       "      <td>0.0</td>\n",
       "      <td>2.9</td>\n",
       "      <td>0.0</td>\n",
       "      <td>0.3</td>\n",
       "      <td>-0.5</td>\n",
       "    </tr>\n",
       "    <tr>\n",
       "      <th>6573</th>\n",
       "      <td>1978-12-31</td>\n",
       "      <td>19.25</td>\n",
       "      <td>0</td>\n",
       "      <td>0.5</td>\n",
       "      <td>0.0</td>\n",
       "      <td>1.2</td>\n",
       "      <td>1.0</td>\n",
       "      <td>-1.5</td>\n",
       "      <td>-3.0</td>\n",
       "    </tr>\n",
       "  </tbody>\n",
       "</table>\n",
       "<p>6574 rows × 9 columns</p>\n",
       "</div>"
      ],
      "text/plain": [
       "            DATE   WIND  IND  RAIN  IND.1  T.MAX  IND.2  T.MIN  T.MIN.G\n",
       "0     1961-01-01  13.67    0   0.2    0.0    9.5    0.0    3.7     -1.0\n",
       "1     1961-01-02  11.50    0   5.1    0.0    7.2    0.0    4.2      1.1\n",
       "2     1961-01-03  11.25    0   0.4    0.0    5.5    0.0    0.5     -0.5\n",
       "3     1961-01-04   8.63    0   0.2    0.0    5.6    0.0    0.4     -3.2\n",
       "4     1961-01-05  11.92    0  10.4    0.0    7.2    1.0   -1.5     -7.5\n",
       "...          ...    ...  ...   ...    ...    ...    ...    ...      ...\n",
       "6569  1978-12-27  14.46    0  16.8    0.0    9.8    0.0    4.0      0.0\n",
       "6570  1978-12-28  14.33    0  16.0    0.0    9.1    0.0    8.5      8.0\n",
       "6571  1978-12-29  19.17    0  14.7    0.0    5.0    0.0    3.5      3.2\n",
       "6572  1978-12-30  18.08    0   4.9    0.0    2.9    0.0    0.3     -0.5\n",
       "6573  1978-12-31  19.25    0   0.5    0.0    1.2    1.0   -1.5     -3.0\n",
       "\n",
       "[6574 rows x 9 columns]"
      ]
     },
     "execution_count": 3,
     "metadata": {},
     "output_type": "execute_result"
    }
   ],
   "source": [
    "wind_df"
   ]
  },
  {
   "cell_type": "code",
   "execution_count": 4,
   "metadata": {},
   "outputs": [],
   "source": [
    "wind_df.dropna(inplace=True)"
   ]
  },
  {
   "cell_type": "code",
   "execution_count": 5,
   "metadata": {},
   "outputs": [],
   "source": [
    "x = wind_df[['IND', 'RAIN', 'IND.1', 'T.MAX', 'IND.2', 'T.MIN', 'T.MIN.G']].to_numpy()\n",
    "y = wind_df['WIND'].to_numpy()"
   ]
  },
  {
   "cell_type": "code",
   "execution_count": 6,
   "metadata": {},
   "outputs": [],
   "source": [
    "x = torch.from_numpy(x).float()\n",
    "y = torch.from_numpy(y).float()"
   ]
  },
  {
   "cell_type": "code",
   "execution_count": 7,
   "metadata": {},
   "outputs": [
    {
     "data": {
      "text/plain": [
       "tensor([[ 0.0000,  0.2000,  0.0000,  ...,  0.0000,  3.7000, -1.0000],\n",
       "        [ 0.0000,  5.1000,  0.0000,  ...,  0.0000,  4.2000,  1.1000],\n",
       "        [ 0.0000,  0.4000,  0.0000,  ...,  0.0000,  0.5000, -0.5000],\n",
       "        ...,\n",
       "        [ 0.0000, 14.7000,  0.0000,  ...,  0.0000,  3.5000,  3.2000],\n",
       "        [ 0.0000,  4.9000,  0.0000,  ...,  0.0000,  0.3000, -0.5000],\n",
       "        [ 0.0000,  0.5000,  0.0000,  ...,  1.0000, -1.5000, -3.0000]])"
      ]
     },
     "execution_count": 7,
     "metadata": {},
     "output_type": "execute_result"
    }
   ],
   "source": [
    "x"
   ]
  },
  {
   "cell_type": "code",
   "execution_count": 8,
   "metadata": {},
   "outputs": [
    {
     "data": {
      "text/plain": [
       "tensor([13.6700, 11.5000, 11.2500,  ..., 19.1700, 18.0800, 19.2500])"
      ]
     },
     "execution_count": 8,
     "metadata": {},
     "output_type": "execute_result"
    }
   ],
   "source": [
    "y"
   ]
  },
  {
   "cell_type": "code",
   "execution_count": 9,
   "metadata": {},
   "outputs": [],
   "source": [
    "## Linear Model\n",
    "\n",
    "class LinearModel(nn.Module):\n",
    "    \n",
    "    def __init__(self, indim):\n",
    "        super().__init__()\n",
    "        \n",
    "        hdim = 32\n",
    "        self.net = nn.Sequential(\n",
    "            nn.Linear(indim, hdim, bias=True),\n",
    "            nn.ReLU(),\n",
    "            nn.Linear(hdim, 1, bias=True),\n",
    "        )\n",
    "        self.apply(self.reset_parameters)\n",
    "    \n",
    "    @staticmethod\n",
    "    def reset_parameters(m):\n",
    "        if isinstance(m, nn.Linear):\n",
    "            nn.init.xavier_normal_(m.weight)\n",
    "            if m.bias is not None:\n",
    "                nn.init.constant_(m.bias, 0.)\n",
    "        \n",
    "    def forward(self, x):\n",
    "        return self.net(x).squeeze()\n",
    "        "
   ]
  },
  {
   "cell_type": "code",
   "execution_count": 10,
   "metadata": {},
   "outputs": [],
   "source": [
    "seed = 0\n",
    "torch.manual_seed(seed)\n",
    "np.random.seed(seed)\n",
    "random.seed(seed)"
   ]
  },
  {
   "cell_type": "code",
   "execution_count": 11,
   "metadata": {},
   "outputs": [
    {
     "data": {
      "text/plain": [
       "tensor([[-0.2824, -0.1061, -0.5067,  ..., -1.0184, -0.1283, -0.1208],\n",
       "        [-0.2824,  0.2042, -0.5067,  ..., -1.0184, -0.1050, -0.0533],\n",
       "        [-0.2824, -0.0934, -0.5067,  ..., -1.0184, -0.2778, -0.1047],\n",
       "        ...,\n",
       "        [-0.2824,  0.8121, -0.5067,  ..., -1.0184, -0.1377,  0.0142],\n",
       "        [-0.2824,  0.1915, -0.5067,  ..., -1.0184, -0.2872, -0.1047],\n",
       "        [-0.2824, -0.0871, -0.5067,  ...,  9.8353, -0.3712, -0.1851]])"
      ]
     },
     "execution_count": 11,
     "metadata": {},
     "output_type": "execute_result"
    }
   ],
   "source": [
    "(x - x.mean(0)) / (x.var(0) + 1e-8)"
   ]
  },
  {
   "cell_type": "code",
   "execution_count": 12,
   "metadata": {},
   "outputs": [],
   "source": [
    "lin_net = LinearModel(7)\n",
    "lin_net.cuda()\n",
    "\n",
    "# inp = x.cuda()\n",
    "inp = (x - x.mean(0)) / (x.var(0) + 1e-8)\n",
    "inp = inp.cuda()\n",
    "out = y.cuda()\n",
    "optimizer = torch.optim.Adam(lin_net.parameters(), lr=5e-2)\n",
    "scheduler = torch.optim.lr_scheduler.ExponentialLR(optimizer, 0.998)\n",
    "epochs = 1000\n",
    "losses = []\n",
    "criterion = nn.MSELoss()\n",
    "for i in range(epochs):\n",
    "    net_out = lin_net(inp)\n",
    "    loss = criterion(net_out, out)\n",
    "    optimizer.zero_grad()\n",
    "    loss.backward()\n",
    "    optimizer.step()\n",
    "    scheduler.step()\n",
    "    losses.append(loss.item())\n",
    "    \n",
    "    "
   ]
  },
  {
   "cell_type": "code",
   "execution_count": 13,
   "metadata": {},
   "outputs": [
    {
     "data": {
      "text/plain": [
       "[<matplotlib.lines.Line2D at 0x7f0c77d748b0>]"
      ]
     },
     "execution_count": 13,
     "metadata": {},
     "output_type": "execute_result"
    },
    {
     "data": {
      "image/png": "[encoded data removed]",
      "text/plain": [
       "<Figure size 800x550 with 1 Axes>"
      ]
     },
     "metadata": {},
     "output_type": "display_data"
    }
   ],
   "source": [
    "plt.plot(losses)"
   ]
  },
  {
   "cell_type": "code",
   "execution_count": 14,
   "metadata": {},
   "outputs": [
    {
     "data": {
      "text/plain": [
       "tensor([10.4230, 12.8120, 13.0628,  ..., 15.1093, 15.7815, 10.6805],\n",
       "       device='cuda:0', grad_fn=<SqueezeBackward0>)"
      ]
     },
     "execution_count": 14,
     "metadata": {},
     "output_type": "execute_result"
    }
   ],
   "source": [
    "net_out"
   ]
  },
  {
   "cell_type": "code",
   "execution_count": 15,
   "metadata": {},
   "outputs": [
    {
     "data": {
      "text/plain": [
       "tensor([13.6700, 11.5000, 11.2500,  ..., 19.1700, 18.0800, 19.2500],\n",
       "       device='cuda:0')"
      ]
     },
     "execution_count": 15,
     "metadata": {},
     "output_type": "execute_result"
    }
   ],
   "source": [
    "out"
   ]
  },
  {
   "cell_type": "code",
   "execution_count": 16,
   "metadata": {},
   "outputs": [
    {
     "data": {
      "text/plain": [
       "[0.006753226122334176]"
      ]
     },
     "execution_count": 16,
     "metadata": {},
     "output_type": "execute_result"
    }
   ],
   "source": [
    "scheduler.get_last_lr()"
   ]
  },
  {
   "cell_type": "code",
   "execution_count": 17,
   "metadata": {},
   "outputs": [],
   "source": [
    "## Bayesian Linear Model\n",
    "\n",
    "\n",
    "class BayesianLinear(pyro.nn.PyroModule):\n",
    "    \n",
    "    def __init__(self, in_dim, out_dim, bias=True):\n",
    "        super().__init__()\n",
    "        \n",
    "        self.weight_loc = PyroParam(torch.zeros(in_dim, out_dim))\n",
    "        self.weight_scale = PyroParam(torch.ones(in_dim, out_dim), constraint=constraints.positive)\n",
    "        \n",
    "        self.bias_loc = PyroParam(torch.zeros(out_dim, ))\n",
    "        self.bias_scale = PyroParam(torch.ones(out_dim), constraint=constraints.positive)\n",
    "        \n",
    "        self.weight = PyroSample(lambda self: dist.Normal(self.weight_loc, self.weight_scale).to_event(2))\n",
    "        if bias:\n",
    "            self.bias = PyroSample(lambda self: dist.Normal(self.bias_loc, self.bias_scale).to_event(1))\n",
    "        else:\n",
    "            self.bias = None\n",
    "    \n",
    "    def forward(self, x):\n",
    "        out = x @ self.weight \n",
    "        if self.bias is not None:\n",
    "            out += self.bias\n",
    "        return out\n",
    "    "
   ]
  },
  {
   "cell_type": "code",
   "execution_count": 18,
   "metadata": {},
   "outputs": [],
   "source": [
    "bay_net = BayesianLinear(5, 3).cuda()"
   ]
  },
  {
   "cell_type": "code",
   "execution_count": 19,
   "metadata": {},
   "outputs": [
    {
     "data": {
      "text/plain": [
       "tensor([[-0.9247, -0.4253, -2.6438],\n",
       "        [ 0.1452, -0.1209, -0.5797],\n",
       "        [-0.6229, -0.3284, -1.0745],\n",
       "        [-0.3631, -1.6711,  2.2655],\n",
       "        [ 0.3117, -0.1842,  1.2866]], device='cuda:0', grad_fn=<AddBackward0>)"
      ]
     },
     "execution_count": 19,
     "metadata": {},
     "output_type": "execute_result"
    }
   ],
   "source": [
    "bay_net.weight"
   ]
  },
  {
   "cell_type": "code",
   "execution_count": 20,
   "metadata": {},
   "outputs": [
    {
     "data": {
      "text/plain": [
       "tensor([[ 0.1808, -0.5523,  0.9238],\n",
       "        [-0.7350,  1.3800,  0.8676],\n",
       "        [ 0.1297, -0.9406,  0.8109],\n",
       "        [ 0.8821, -1.0133, -0.3634],\n",
       "        [ 0.5101,  0.4179, -0.6888]], device='cuda:0', grad_fn=<AddBackward0>)"
      ]
     },
     "execution_count": 20,
     "metadata": {},
     "output_type": "execute_result"
    }
   ],
   "source": [
    "bay_net.weight"
   ]
  },
  {
   "cell_type": "code",
   "execution_count": 21,
   "metadata": {},
   "outputs": [
    {
     "data": {
      "text/plain": [
       "tensor([1., 1., 1.], device='cuda:0', grad_fn=<AddBackward0>)"
      ]
     },
     "execution_count": 21,
     "metadata": {},
     "output_type": "execute_result"
    }
   ],
   "source": [
    "bay_net.bias_scale"
   ]
  },
  {
   "cell_type": "code",
   "execution_count": 22,
   "metadata": {},
   "outputs": [
    {
     "data": {
      "text/plain": [
       "tensor([1., 1., 1.], device='cuda:0', grad_fn=<AddBackward0>)"
      ]
     },
     "execution_count": 22,
     "metadata": {},
     "output_type": "execute_result"
    }
   ],
   "source": [
    "bay_net.bias_scale"
   ]
  },
  {
   "cell_type": "code",
   "execution_count": 23,
   "metadata": {},
   "outputs": [
    {
     "data": {
      "text/plain": [
       "tensor([[ 1.0177, -0.9609, -4.3574],\n",
       "        [ 1.5258, -1.3349, -1.7212]], device='cuda:0', grad_fn=<AddBackward0>)"
      ]
     },
     "execution_count": 23,
     "metadata": {},
     "output_type": "execute_result"
    }
   ],
   "source": [
    "bay_net(torch.randn(2, 5).cuda())"
   ]
  },
  {
   "cell_type": "code",
   "execution_count": 24,
   "metadata": {},
   "outputs": [],
   "source": [
    "\n",
    "## Linear Model\n",
    "\n",
    "class BayesianRegModel(PyroModule):\n",
    "    \n",
    "    def __init__(self, indim):\n",
    "        super().__init__()\n",
    "        \n",
    "        hdim = 32\n",
    "        self.net = PyroModule[nn.Sequential](\n",
    "            BayesianLinear(indim, hdim, bias=True),\n",
    "            PyroModule[nn.ReLU](),\n",
    "            BayesianLinear(hdim, 1, bias=True),\n",
    "        )\n",
    "    \n",
    "    def forward(self, x):\n",
    "        return self.net(x).squeeze()\n",
    "    "
   ]
  },
  {
   "cell_type": "code",
   "execution_count": 25,
   "metadata": {},
   "outputs": [],
   "source": [
    "lin_net = BayesianRegModel(7)\n",
    "lin_net.cuda()\n",
    "\n",
    "inp = (x - x.mean(0)) / (x.var(0) + 1e-8)\n",
    "inp = inp.cuda()\n",
    "out = y.cuda()\n",
    "optimizer = pyro.optim.Adam({\"lr\": 6e-3})\n",
    "epochs = 1000\n",
    "losses = []\n",
    "    "
   ]
  },
  {
   "cell_type": "code",
   "execution_count": 33,
   "metadata": {},
   "outputs": [],
   "source": [
    "optimizer = torch.optim.Adam(lin_net.parameters(), lr=5e-2)\n",
    "scheduler = torch.optim.lr_scheduler.ExponentialLR(optimizer, 0.998)\n",
    "epochs = 1000\n",
    "losses = []\n",
    "criterion = nn.MSELoss()\n",
    "for i in range(epochs):\n",
    "    net_out = lin_net(inp)\n",
    "    loss = criterion(net_out, out)\n",
    "    optimizer.zero_grad()\n",
    "    loss.backward()\n",
    "    optimizer.step()\n",
    "    scheduler.step()\n",
    "    losses.append(loss.item())"
   ]
  },
  {
   "cell_type": "code",
   "execution_count": 35,
   "metadata": {},
   "outputs": [
    {
     "data": {
      "text/plain": [
       "[<matplotlib.lines.Line2D at 0x7f0c6193a610>]"
      ]
     },
     "execution_count": 35,
     "metadata": {},
     "output_type": "execute_result"
    },
    {
     "data": {
      "image/png": "[encoded data removed]",
      "text/plain": [
       "<Figure size 800x550 with 1 Axes>"
      ]
     },
     "metadata": {},
     "output_type": "display_data"
    }
   ],
   "source": [
    "plt.plot(losses)"
   ]
  },
  {
   "cell_type": "code",
   "execution_count": 37,
   "metadata": {},
   "outputs": [
    {
     "data": {
      "text/plain": [
       "tensor([13.6700, 11.5000, 11.2500,  ..., 19.1700, 18.0800, 19.2500],\n",
       "       device='cuda:0')"
      ]
     },
     "execution_count": 37,
     "metadata": {},
     "output_type": "execute_result"
    }
   ],
   "source": [
    "out"
   ]
  },
  {
   "cell_type": "code",
   "execution_count": 38,
   "metadata": {},
   "outputs": [
    {
     "data": {
      "text/plain": [
       "tensor([ 9.2954, 10.8684, 11.3697,  ..., 12.2123, 12.8305,  2.7245],\n",
       "       device='cuda:0', grad_fn=<SqueezeBackward0>)"
      ]
     },
     "execution_count": 38,
     "metadata": {},
     "output_type": "execute_result"
    }
   ],
   "source": [
    "lin_net(inp)"
   ]
  },
  {
   "cell_type": "code",
   "execution_count": 40,
   "metadata": {},
   "outputs": [
    {
     "data": {
      "text/plain": [
       "tensor([11.0944, 12.8058, 13.3024,  ..., 15.3027, 14.7507, 11.0134],\n",
       "       device='cuda:0', grad_fn=<SqueezeBackward0>)"
      ]
     },
     "execution_count": 40,
     "metadata": {},
     "output_type": "execute_result"
    }
   ],
   "source": [
    "lin_net(inp)"
   ]
  },
  {
   "cell_type": "code",
   "execution_count": null,
   "metadata": {},
   "outputs": [],
   "source": []
  }
 ],
 "metadata": {
  "kernelspec": {
   "display_name": "env_nlp",
   "language": "python",
   "name": "python3"
  },
  "language_info": {
   "codemirror_mode": {
    "name": "ipython",
    "version": 3
   },
   "file_extension": ".py",
   "mimetype": "text/x-python",
   "name": "python",
   "nbconvert_exporter": "python",
   "pygments_lexer": "ipython3",
   "version": "3.9.2"
  },
  "orig_nbformat": 4
 },
 "nbformat": 4,
 "nbformat_minor": 2
}
