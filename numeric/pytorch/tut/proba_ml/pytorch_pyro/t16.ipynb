{
 "cells": [
  {
   "cell_type": "code",
   "execution_count": 1,
   "metadata": {},
   "outputs": [
    {
     "name": "stderr",
     "output_type": "stream",
     "text": [
      "/env_nlp/lib/python3.9/site-packages/tqdm/auto.py:21: TqdmWarning: IProgress not found. Please update jupyter and ipywidgets. See https://ipywidgets.readthedocs.io/en/stable/user_install.html\n",
      "  from .autonotebook import tqdm as notebook_tqdm\n"
     ]
    }
   ],
   "source": [
    "%load_ext autoreload\n",
    "%autoreload 2\n",
    "import copy\n",
    "import torch\n",
    "import numpy as np\n",
    "import matplotlib as mpl\n",
    "import matplotlib.pyplot as plt\n",
    "import pyro\n",
    "from pyro.infer import SVI, Trace_ELBO\n",
    "from pyro import poutine, infer, nn, optim, distributions as dist\n",
    "from pyro.poutine.trace_messenger import TraceMessenger\n",
    "\n",
    "plt.style.use('seaborn-v0_8')"
   ]
  },
  {
   "cell_type": "code",
   "execution_count": 2,
   "metadata": {},
   "outputs": [
    {
     "data": {
      "text/plain": [
       "tensor([ 5.3606,  2.3661,  4.7863,  5.4606,  4.7806,  3.8014,  5.5489,  5.8429,\n",
       "         7.5138,  5.5811,  6.4055,  3.6548,  1.9198,  6.3644,  8.0814,  6.3635,\n",
       "         4.8303,  3.2084,  5.4008,  7.1685,  5.4893,  8.6178,  3.7076,  5.0261,\n",
       "         6.4316,  5.5290,  6.1749,  4.7627,  5.8928,  5.2005,  3.5786,  4.9301,\n",
       "         4.6039,  7.9003,  2.5057,  1.2011,  4.1518,  3.6229,  4.6803,  3.2775,\n",
       "         4.2312,  1.4442,  2.3728,  5.5425,  4.3146,  8.0107,  7.9259,  5.5699,\n",
       "         8.9080,  2.4924,  2.5632,  5.7260,  8.0061,  0.7024,  6.3908,  0.7407,\n",
       "         7.2961,  5.8747,  1.9360, 10.2399,  5.8433, 10.1749,  5.2477,  7.6781,\n",
       "         4.5014, 11.2925,  2.9754,  3.5654,  3.9475,  8.0504,  5.0690,  1.8635,\n",
       "         3.6430,  4.8083,  5.5781,  2.5915,  3.9283,  4.0140,  7.5996,  5.3543,\n",
       "         4.7134,  5.4960,  5.9979,  1.5145,  5.5162,  7.3524,  6.1284,  2.9477,\n",
       "        -0.2151,  5.4171, -0.0260,  2.6171,  5.0064,  3.5786,  9.7551,  3.1514,\n",
       "         0.4548,  4.9382,  6.3573,  4.2137])"
      ]
     },
     "execution_count": 2,
     "metadata": {},
     "output_type": "execute_result"
    }
   ],
   "source": [
    "prob = dist.Normal(5, 2.)\n",
    "x= prob.sample((100,) )\n",
    "x"
   ]
  },
  {
   "cell_type": "code",
   "execution_count": 3,
   "metadata": {},
   "outputs": [
    {
     "data": {
      "text/plain": [
       "<matplotlib.collections.PathCollection at 0x7ff5882c4fd0>"
      ]
     },
     "execution_count": 3,
     "metadata": {},
     "output_type": "execute_result"
    },
    {
     "data": {
      "image/png": "[encoded data removed]",
      "text/plain": [
       "<Figure size 800x550 with 1 Axes>"
      ]
     },
     "metadata": {},
     "output_type": "display_data"
    }
   ],
   "source": [
    "plt.scatter(x, prob.log_prob(x).exp())"
   ]
  },
  {
   "cell_type": "code",
   "execution_count": 4,
   "metadata": {},
   "outputs": [
    {
     "data": {
      "text/plain": [
       "100"
      ]
     },
     "execution_count": 4,
     "metadata": {},
     "output_type": "execute_result"
    }
   ],
   "source": [
    "N = len(x)\n",
    "N"
   ]
  },
  {
   "cell_type": "code",
   "execution_count": 5,
   "metadata": {},
   "outputs": [],
   "source": [
    "def model(x):\n",
    "    p = pyro.param(\"p\", lambda: torch.randn(1))\n",
    "    mu = pyro.sample(\"mu\", dist.Normal(p, torch.tensor(1.5)))\n",
    "    with pyro.plate(\"data\", N):\n",
    "        obs = pyro.sample(\"obs\", dist.Normal(mu, torch.tensor(3.)), obs=x)\n",
    "    \n",
    "    return obs"
   ]
  },
  {
   "cell_type": "code",
   "execution_count": 6,
   "metadata": {},
   "outputs": [],
   "source": [
    "trace = pyro.poutine.trace(model).get_trace(x)"
   ]
  },
  {
   "cell_type": "code",
   "execution_count": 7,
   "metadata": {},
   "outputs": [
    {
     "data": {
      "text/plain": [
       "<pyro.poutine.trace_struct.Trace at 0x7ff586242b50>"
      ]
     },
     "execution_count": 7,
     "metadata": {},
     "output_type": "execute_result"
    }
   ],
   "source": [
    "trace"
   ]
  },
  {
   "cell_type": "code",
   "execution_count": 8,
   "metadata": {},
   "outputs": [
    {
     "data": {
      "text/plain": [
       "OrderedDict([('_INPUT',\n",
       "              {'name': '_INPUT',\n",
       "               'type': 'args',\n",
       "               'args': (tensor([ 5.3606,  2.3661,  4.7863,  5.4606,  4.7806,  3.8014,  5.5489,  5.8429,\n",
       "                         7.5138,  5.5811,  6.4055,  3.6548,  1.9198,  6.3644,  8.0814,  6.3635,\n",
       "                         4.8303,  3.2084,  5.4008,  7.1685,  5.4893,  8.6178,  3.7076,  5.0261,\n",
       "                         6.4316,  5.5290,  6.1749,  4.7627,  5.8928,  5.2005,  3.5786,  4.9301,\n",
       "                         4.6039,  7.9003,  2.5057,  1.2011,  4.1518,  3.6229,  4.6803,  3.2775,\n",
       "                         4.2312,  1.4442,  2.3728,  5.5425,  4.3146,  8.0107,  7.9259,  5.5699,\n",
       "                         8.9080,  2.4924,  2.5632,  5.7260,  8.0061,  0.7024,  6.3908,  0.7407,\n",
       "                         7.2961,  5.8747,  1.9360, 10.2399,  5.8433, 10.1749,  5.2477,  7.6781,\n",
       "                         4.5014, 11.2925,  2.9754,  3.5654,  3.9475,  8.0504,  5.0690,  1.8635,\n",
       "                         3.6430,  4.8083,  5.5781,  2.5915,  3.9283,  4.0140,  7.5996,  5.3543,\n",
       "                         4.7134,  5.4960,  5.9979,  1.5145,  5.5162,  7.3524,  6.1284,  2.9477,\n",
       "                        -0.2151,  5.4171, -0.0260,  2.6171,  5.0064,  3.5786,  9.7551,  3.1514,\n",
       "                         0.4548,  4.9382,  6.3573,  4.2137]),),\n",
       "               'kwargs': {}}),\n",
       "             ('p',\n",
       "              {'type': 'param',\n",
       "               'name': 'p',\n",
       "               'fn': <bound method ParamStoreDict.get_param of <pyro.params.param_store.ParamStoreDict object at 0x7ff58caefb80>>,\n",
       "               'is_observed': False,\n",
       "               'args': ('p', <function __main__.model.<locals>.<lambda>()>),\n",
       "               'kwargs': {'constraint': Real(), 'event_dim': None},\n",
       "               'value': tensor([-0.2607], requires_grad=True),\n",
       "               'scale': 1.0,\n",
       "               'mask': None,\n",
       "               'cond_indep_stack': (),\n",
       "               'done': True,\n",
       "               'stop': False,\n",
       "               'continuation': None,\n",
       "               'infer': {}}),\n",
       "             ('mu',\n",
       "              {'type': 'sample',\n",
       "               'name': 'mu',\n",
       "               'fn': Normal(loc: tensor([-0.2607], requires_grad=True), scale: tensor([1.5000])),\n",
       "               'is_observed': False,\n",
       "               'args': (),\n",
       "               'kwargs': {},\n",
       "               'value': tensor([-1.3680], grad_fn=<AddBackward0>),\n",
       "               'infer': {},\n",
       "               'scale': 1.0,\n",
       "               'mask': None,\n",
       "               'cond_indep_stack': (),\n",
       "               'done': True,\n",
       "               'stop': False,\n",
       "               'continuation': None}),\n",
       "             ('data',\n",
       "              {'type': 'sample',\n",
       "               'name': 'data',\n",
       "               'fn': <pyro.poutine.subsample_messenger._Subsample at 0x7ff586275d60>,\n",
       "               'is_observed': False,\n",
       "               'args': (),\n",
       "               'kwargs': {},\n",
       "               'value': tensor([ 0,  1,  2,  3,  4,  5,  6,  7,  8,  9, 10, 11, 12, 13, 14, 15, 16, 17,\n",
       "                       18, 19, 20, 21, 22, 23, 24, 25, 26, 27, 28, 29, 30, 31, 32, 33, 34, 35,\n",
       "                       36, 37, 38, 39, 40, 41, 42, 43, 44, 45, 46, 47, 48, 49, 50, 51, 52, 53,\n",
       "                       54, 55, 56, 57, 58, 59, 60, 61, 62, 63, 64, 65, 66, 67, 68, 69, 70, 71,\n",
       "                       72, 73, 74, 75, 76, 77, 78, 79, 80, 81, 82, 83, 84, 85, 86, 87, 88, 89,\n",
       "                       90, 91, 92, 93, 94, 95, 96, 97, 98, 99]),\n",
       "               'infer': {},\n",
       "               'scale': 1.0,\n",
       "               'mask': None,\n",
       "               'cond_indep_stack': (),\n",
       "               'done': True,\n",
       "               'stop': False,\n",
       "               'continuation': None}),\n",
       "             ('obs',\n",
       "              {'type': 'sample',\n",
       "               'name': 'obs',\n",
       "               'fn': Normal(loc: torch.Size([100]), scale: torch.Size([100])),\n",
       "               'is_observed': True,\n",
       "               'args': (),\n",
       "               'kwargs': {},\n",
       "               'value': tensor([ 5.3606,  2.3661,  4.7863,  5.4606,  4.7806,  3.8014,  5.5489,  5.8429,\n",
       "                        7.5138,  5.5811,  6.4055,  3.6548,  1.9198,  6.3644,  8.0814,  6.3635,\n",
       "                        4.8303,  3.2084,  5.4008,  7.1685,  5.4893,  8.6178,  3.7076,  5.0261,\n",
       "                        6.4316,  5.5290,  6.1749,  4.7627,  5.8928,  5.2005,  3.5786,  4.9301,\n",
       "                        4.6039,  7.9003,  2.5057,  1.2011,  4.1518,  3.6229,  4.6803,  3.2775,\n",
       "                        4.2312,  1.4442,  2.3728,  5.5425,  4.3146,  8.0107,  7.9259,  5.5699,\n",
       "                        8.9080,  2.4924,  2.5632,  5.7260,  8.0061,  0.7024,  6.3908,  0.7407,\n",
       "                        7.2961,  5.8747,  1.9360, 10.2399,  5.8433, 10.1749,  5.2477,  7.6781,\n",
       "                        4.5014, 11.2925,  2.9754,  3.5654,  3.9475,  8.0504,  5.0690,  1.8635,\n",
       "                        3.6430,  4.8083,  5.5781,  2.5915,  3.9283,  4.0140,  7.5996,  5.3543,\n",
       "                        4.7134,  5.4960,  5.9979,  1.5145,  5.5162,  7.3524,  6.1284,  2.9477,\n",
       "                       -0.2151,  5.4171, -0.0260,  2.6171,  5.0064,  3.5786,  9.7551,  3.1514,\n",
       "                        0.4548,  4.9382,  6.3573,  4.2137]),\n",
       "               'infer': {},\n",
       "               'scale': 1.0,\n",
       "               'mask': None,\n",
       "               'cond_indep_stack': (CondIndepStackFrame(name='data', dim=-1, size=100, counter=0),),\n",
       "               'done': True,\n",
       "               'stop': False,\n",
       "               'continuation': None}),\n",
       "             ('_RETURN',\n",
       "              {'name': '_RETURN',\n",
       "               'type': 'return',\n",
       "               'value': tensor([ 5.3606,  2.3661,  4.7863,  5.4606,  4.7806,  3.8014,  5.5489,  5.8429,\n",
       "                        7.5138,  5.5811,  6.4055,  3.6548,  1.9198,  6.3644,  8.0814,  6.3635,\n",
       "                        4.8303,  3.2084,  5.4008,  7.1685,  5.4893,  8.6178,  3.7076,  5.0261,\n",
       "                        6.4316,  5.5290,  6.1749,  4.7627,  5.8928,  5.2005,  3.5786,  4.9301,\n",
       "                        4.6039,  7.9003,  2.5057,  1.2011,  4.1518,  3.6229,  4.6803,  3.2775,\n",
       "                        4.2312,  1.4442,  2.3728,  5.5425,  4.3146,  8.0107,  7.9259,  5.5699,\n",
       "                        8.9080,  2.4924,  2.5632,  5.7260,  8.0061,  0.7024,  6.3908,  0.7407,\n",
       "                        7.2961,  5.8747,  1.9360, 10.2399,  5.8433, 10.1749,  5.2477,  7.6781,\n",
       "                        4.5014, 11.2925,  2.9754,  3.5654,  3.9475,  8.0504,  5.0690,  1.8635,\n",
       "                        3.6430,  4.8083,  5.5781,  2.5915,  3.9283,  4.0140,  7.5996,  5.3543,\n",
       "                        4.7134,  5.4960,  5.9979,  1.5145,  5.5162,  7.3524,  6.1284,  2.9477,\n",
       "                       -0.2151,  5.4171, -0.0260,  2.6171,  5.0064,  3.5786,  9.7551,  3.1514,\n",
       "                        0.4548,  4.9382,  6.3573,  4.2137])})])"
      ]
     },
     "execution_count": 8,
     "metadata": {},
     "output_type": "execute_result"
    }
   ],
   "source": [
    "trace.nodes"
   ]
  },
  {
   "cell_type": "code",
   "execution_count": 9,
   "metadata": {},
   "outputs": [],
   "source": [
    "trace.compute_log_prob()"
   ]
  },
  {
   "cell_type": "code",
   "execution_count": 10,
   "metadata": {},
   "outputs": [
    {
     "data": {
      "text/plain": [
       "OrderedDict([('_INPUT',\n",
       "              {'name': '_INPUT',\n",
       "               'type': 'args',\n",
       "               'args': (tensor([ 5.3606,  2.3661,  4.7863,  5.4606,  4.7806,  3.8014,  5.5489,  5.8429,\n",
       "                         7.5138,  5.5811,  6.4055,  3.6548,  1.9198,  6.3644,  8.0814,  6.3635,\n",
       "                         4.8303,  3.2084,  5.4008,  7.1685,  5.4893,  8.6178,  3.7076,  5.0261,\n",
       "                         6.4316,  5.5290,  6.1749,  4.7627,  5.8928,  5.2005,  3.5786,  4.9301,\n",
       "                         4.6039,  7.9003,  2.5057,  1.2011,  4.1518,  3.6229,  4.6803,  3.2775,\n",
       "                         4.2312,  1.4442,  2.3728,  5.5425,  4.3146,  8.0107,  7.9259,  5.5699,\n",
       "                         8.9080,  2.4924,  2.5632,  5.7260,  8.0061,  0.7024,  6.3908,  0.7407,\n",
       "                         7.2961,  5.8747,  1.9360, 10.2399,  5.8433, 10.1749,  5.2477,  7.6781,\n",
       "                         4.5014, 11.2925,  2.9754,  3.5654,  3.9475,  8.0504,  5.0690,  1.8635,\n",
       "                         3.6430,  4.8083,  5.5781,  2.5915,  3.9283,  4.0140,  7.5996,  5.3543,\n",
       "                         4.7134,  5.4960,  5.9979,  1.5145,  5.5162,  7.3524,  6.1284,  2.9477,\n",
       "                        -0.2151,  5.4171, -0.0260,  2.6171,  5.0064,  3.5786,  9.7551,  3.1514,\n",
       "                         0.4548,  4.9382,  6.3573,  4.2137]),),\n",
       "               'kwargs': {}}),\n",
       "             ('p',\n",
       "              {'type': 'param',\n",
       "               'name': 'p',\n",
       "               'fn': <bound method ParamStoreDict.get_param of <pyro.params.param_store.ParamStoreDict object at 0x7ff58caefb80>>,\n",
       "               'is_observed': False,\n",
       "               'args': ('p', <function __main__.model.<locals>.<lambda>()>),\n",
       "               'kwargs': {'constraint': Real(), 'event_dim': None},\n",
       "               'value': tensor([-0.2607], requires_grad=True),\n",
       "               'scale': 1.0,\n",
       "               'mask': None,\n",
       "               'cond_indep_stack': (),\n",
       "               'done': True,\n",
       "               'stop': False,\n",
       "               'continuation': None,\n",
       "               'infer': {}}),\n",
       "             ('mu',\n",
       "              {'type': 'sample',\n",
       "               'name': 'mu',\n",
       "               'fn': Normal(loc: tensor([-0.2607], requires_grad=True), scale: tensor([1.5000])),\n",
       "               'is_observed': False,\n",
       "               'args': (),\n",
       "               'kwargs': {},\n",
       "               'value': tensor([-1.3680], grad_fn=<AddBackward0>),\n",
       "               'infer': {},\n",
       "               'scale': 1.0,\n",
       "               'mask': None,\n",
       "               'cond_indep_stack': (),\n",
       "               'done': True,\n",
       "               'stop': False,\n",
       "               'continuation': None,\n",
       "               'unscaled_log_prob': tensor([-1.5969], grad_fn=<SubBackward0>),\n",
       "               'log_prob': tensor([-1.5969], grad_fn=<SubBackward0>),\n",
       "               'log_prob_sum': tensor(-1.5969, grad_fn=<SumBackward0>)}),\n",
       "             ('data',\n",
       "              {'type': 'sample',\n",
       "               'name': 'data',\n",
       "               'fn': <pyro.poutine.subsample_messenger._Subsample at 0x7ff586275d60>,\n",
       "               'is_observed': False,\n",
       "               'args': (),\n",
       "               'kwargs': {},\n",
       "               'value': tensor([ 0,  1,  2,  3,  4,  5,  6,  7,  8,  9, 10, 11, 12, 13, 14, 15, 16, 17,\n",
       "                       18, 19, 20, 21, 22, 23, 24, 25, 26, 27, 28, 29, 30, 31, 32, 33, 34, 35,\n",
       "                       36, 37, 38, 39, 40, 41, 42, 43, 44, 45, 46, 47, 48, 49, 50, 51, 52, 53,\n",
       "                       54, 55, 56, 57, 58, 59, 60, 61, 62, 63, 64, 65, 66, 67, 68, 69, 70, 71,\n",
       "                       72, 73, 74, 75, 76, 77, 78, 79, 80, 81, 82, 83, 84, 85, 86, 87, 88, 89,\n",
       "                       90, 91, 92, 93, 94, 95, 96, 97, 98, 99]),\n",
       "               'infer': {},\n",
       "               'scale': 1.0,\n",
       "               'mask': None,\n",
       "               'cond_indep_stack': (),\n",
       "               'done': True,\n",
       "               'stop': False,\n",
       "               'continuation': None,\n",
       "               'unscaled_log_prob': tensor(0.),\n",
       "               'log_prob': tensor(0.),\n",
       "               'log_prob_sum': tensor(0.)}),\n",
       "             ('obs',\n",
       "              {'type': 'sample',\n",
       "               'name': 'obs',\n",
       "               'fn': Normal(loc: torch.Size([100]), scale: torch.Size([100])),\n",
       "               'is_observed': True,\n",
       "               'args': (),\n",
       "               'kwargs': {},\n",
       "               'value': tensor([ 5.3606,  2.3661,  4.7863,  5.4606,  4.7806,  3.8014,  5.5489,  5.8429,\n",
       "                        7.5138,  5.5811,  6.4055,  3.6548,  1.9198,  6.3644,  8.0814,  6.3635,\n",
       "                        4.8303,  3.2084,  5.4008,  7.1685,  5.4893,  8.6178,  3.7076,  5.0261,\n",
       "                        6.4316,  5.5290,  6.1749,  4.7627,  5.8928,  5.2005,  3.5786,  4.9301,\n",
       "                        4.6039,  7.9003,  2.5057,  1.2011,  4.1518,  3.6229,  4.6803,  3.2775,\n",
       "                        4.2312,  1.4442,  2.3728,  5.5425,  4.3146,  8.0107,  7.9259,  5.5699,\n",
       "                        8.9080,  2.4924,  2.5632,  5.7260,  8.0061,  0.7024,  6.3908,  0.7407,\n",
       "                        7.2961,  5.8747,  1.9360, 10.2399,  5.8433, 10.1749,  5.2477,  7.6781,\n",
       "                        4.5014, 11.2925,  2.9754,  3.5654,  3.9475,  8.0504,  5.0690,  1.8635,\n",
       "                        3.6430,  4.8083,  5.5781,  2.5915,  3.9283,  4.0140,  7.5996,  5.3543,\n",
       "                        4.7134,  5.4960,  5.9979,  1.5145,  5.5162,  7.3524,  6.1284,  2.9477,\n",
       "                       -0.2151,  5.4171, -0.0260,  2.6171,  5.0064,  3.5786,  9.7551,  3.1514,\n",
       "                        0.4548,  4.9382,  6.3573,  4.2137]),\n",
       "               'infer': {},\n",
       "               'scale': 1.0,\n",
       "               'mask': None,\n",
       "               'cond_indep_stack': (CondIndepStackFrame(name='data', dim=-1, size=100, counter=0),),\n",
       "               'done': True,\n",
       "               'stop': False,\n",
       "               'continuation': None,\n",
       "               'unscaled_log_prob': tensor([ -4.5328,  -2.7922,  -4.1218,  -4.6081,  -4.1178,  -3.5022,  -4.6755,\n",
       "                        -4.9063,  -6.4001,  -4.7004,  -5.3746,  -3.4192,  -2.6181,  -5.3392,\n",
       "                        -6.9782,  -5.3384,  -4.1520,  -3.1811,  -4.5630,  -6.0660,  -4.6299,\n",
       "                        -7.5573,  -3.4488,  -4.2889,  -5.3973,  -4.6602,  -5.1784,  -4.1056,\n",
       "                        -4.9464,  -4.4145,  -3.3770,  -4.2212,  -3.9989,  -6.7898,  -2.8512,\n",
       "                        -2.3842,  -3.7103,  -3.4014,  -4.0499,  -3.2165,  -3.7593,  -2.4569,\n",
       "                        -2.7950,  -4.6706,  -3.8116,  -6.9042,  -6.8163,  -4.6917,  -7.8840,\n",
       "                        -2.8455,  -2.8761,  -4.8133,  -6.8994,  -2.2557,  -5.3619,  -2.2646,\n",
       "                        -6.1879,  -4.9318,  -2.6240,  -9.5033,  -4.9066,  -9.4197,  -4.4491,\n",
       "                        -6.5638,  -3.9314, -10.9225,  -3.0656,  -3.3697,  -3.5872,  -6.9457,\n",
       "                        -4.3195,  -2.5977,  -3.4126,  -4.1368,  -4.6980,  -2.8886,  -3.5759,\n",
       "                        -3.6268,  -6.4852,  -4.5281,  -4.0722,  -4.6350,  -5.0318,  -2.4791,\n",
       "                        -4.6504,  -6.2423,  -5.1396,  -3.0523,  -2.0914,  -4.5752,  -2.1176,\n",
       "                        -2.8998,  -4.2749,  -3.3770,  -8.8911,  -3.1523,  -2.2021,  -4.2269,\n",
       "                        -5.3331,  -3.7484], grad_fn=<SubBackward0>),\n",
       "               'log_prob': tensor([ -4.5328,  -2.7922,  -4.1218,  -4.6081,  -4.1178,  -3.5022,  -4.6755,\n",
       "                        -4.9063,  -6.4001,  -4.7004,  -5.3746,  -3.4192,  -2.6181,  -5.3392,\n",
       "                        -6.9782,  -5.3384,  -4.1520,  -3.1811,  -4.5630,  -6.0660,  -4.6299,\n",
       "                        -7.5573,  -3.4488,  -4.2889,  -5.3973,  -4.6602,  -5.1784,  -4.1056,\n",
       "                        -4.9464,  -4.4145,  -3.3770,  -4.2212,  -3.9989,  -6.7898,  -2.8512,\n",
       "                        -2.3842,  -3.7103,  -3.4014,  -4.0499,  -3.2165,  -3.7593,  -2.4569,\n",
       "                        -2.7950,  -4.6706,  -3.8116,  -6.9042,  -6.8163,  -4.6917,  -7.8840,\n",
       "                        -2.8455,  -2.8761,  -4.8133,  -6.8994,  -2.2557,  -5.3619,  -2.2646,\n",
       "                        -6.1879,  -4.9318,  -2.6240,  -9.5033,  -4.9066,  -9.4197,  -4.4491,\n",
       "                        -6.5638,  -3.9314, -10.9225,  -3.0656,  -3.3697,  -3.5872,  -6.9457,\n",
       "                        -4.3195,  -2.5977,  -3.4126,  -4.1368,  -4.6980,  -2.8886,  -3.5759,\n",
       "                        -3.6268,  -6.4852,  -4.5281,  -4.0722,  -4.6350,  -5.0318,  -2.4791,\n",
       "                        -4.6504,  -6.2423,  -5.1396,  -3.0523,  -2.0914,  -4.5752,  -2.1176,\n",
       "                        -2.8998,  -4.2749,  -3.3770,  -8.8911,  -3.1523,  -2.2021,  -4.2269,\n",
       "                        -5.3331,  -3.7484], grad_fn=<SubBackward0>),\n",
       "               'log_prob_sum': tensor(-451.9908, grad_fn=<SumBackward0>)}),\n",
       "             ('_RETURN',\n",
       "              {'name': '_RETURN',\n",
       "               'type': 'return',\n",
       "               'value': tensor([ 5.3606,  2.3661,  4.7863,  5.4606,  4.7806,  3.8014,  5.5489,  5.8429,\n",
       "                        7.5138,  5.5811,  6.4055,  3.6548,  1.9198,  6.3644,  8.0814,  6.3635,\n",
       "                        4.8303,  3.2084,  5.4008,  7.1685,  5.4893,  8.6178,  3.7076,  5.0261,\n",
       "                        6.4316,  5.5290,  6.1749,  4.7627,  5.8928,  5.2005,  3.5786,  4.9301,\n",
       "                        4.6039,  7.9003,  2.5057,  1.2011,  4.1518,  3.6229,  4.6803,  3.2775,\n",
       "                        4.2312,  1.4442,  2.3728,  5.5425,  4.3146,  8.0107,  7.9259,  5.5699,\n",
       "                        8.9080,  2.4924,  2.5632,  5.7260,  8.0061,  0.7024,  6.3908,  0.7407,\n",
       "                        7.2961,  5.8747,  1.9360, 10.2399,  5.8433, 10.1749,  5.2477,  7.6781,\n",
       "                        4.5014, 11.2925,  2.9754,  3.5654,  3.9475,  8.0504,  5.0690,  1.8635,\n",
       "                        3.6430,  4.8083,  5.5781,  2.5915,  3.9283,  4.0140,  7.5996,  5.3543,\n",
       "                        4.7134,  5.4960,  5.9979,  1.5145,  5.5162,  7.3524,  6.1284,  2.9477,\n",
       "                       -0.2151,  5.4171, -0.0260,  2.6171,  5.0064,  3.5786,  9.7551,  3.1514,\n",
       "                        0.4548,  4.9382,  6.3573,  4.2137])})])"
      ]
     },
     "execution_count": 10,
     "metadata": {},
     "output_type": "execute_result"
    }
   ],
   "source": [
    "trace.nodes"
   ]
  },
  {
   "cell_type": "code",
   "execution_count": 11,
   "metadata": {},
   "outputs": [
    {
     "name": "stdout",
     "output_type": "stream",
     "text": [
      "('mu', {'type': 'sample', 'name': 'mu', 'fn': Normal(loc: tensor([-0.2607], requires_grad=True), scale: tensor([1.5000])), 'is_observed': False, 'args': (), 'kwargs': {}, 'value': tensor([-1.3680], grad_fn=<AddBackward0>), 'infer': {}, 'scale': 1.0, 'mask': None, 'cond_indep_stack': (), 'done': True, 'stop': False, 'continuation': None, 'unscaled_log_prob': tensor([-1.5969], grad_fn=<SubBackward0>), 'log_prob': tensor([-1.5969], grad_fn=<SubBackward0>), 'log_prob_sum': tensor(-1.5969, grad_fn=<SumBackward0>)})\n",
      "('data', {'type': 'sample', 'name': 'data', 'fn': <pyro.poutine.subsample_messenger._Subsample object at 0x7ff586275d60>, 'is_observed': False, 'args': (), 'kwargs': {}, 'value': tensor([ 0,  1,  2,  3,  4,  5,  6,  7,  8,  9, 10, 11, 12, 13, 14, 15, 16, 17,\n",
      "        18, 19, 20, 21, 22, 23, 24, 25, 26, 27, 28, 29, 30, 31, 32, 33, 34, 35,\n",
      "        36, 37, 38, 39, 40, 41, 42, 43, 44, 45, 46, 47, 48, 49, 50, 51, 52, 53,\n",
      "        54, 55, 56, 57, 58, 59, 60, 61, 62, 63, 64, 65, 66, 67, 68, 69, 70, 71,\n",
      "        72, 73, 74, 75, 76, 77, 78, 79, 80, 81, 82, 83, 84, 85, 86, 87, 88, 89,\n",
      "        90, 91, 92, 93, 94, 95, 96, 97, 98, 99]), 'infer': {}, 'scale': 1.0, 'mask': None, 'cond_indep_stack': (), 'done': True, 'stop': False, 'continuation': None, 'unscaled_log_prob': tensor(0.), 'log_prob': tensor(0.), 'log_prob_sum': tensor(0.)})\n"
     ]
    }
   ],
   "source": [
    "for site in trace.iter_stochastic_nodes():\n",
    "    print(site)"
   ]
  },
  {
   "cell_type": "code",
   "execution_count": 12,
   "metadata": {},
   "outputs": [
    {
     "name": "stdout",
     "output_type": "stream",
     "text": [
      "p\n"
     ]
    }
   ],
   "source": [
    "for param_node in trace.param_nodes:\n",
    "    print(param_node)"
   ]
  },
  {
   "cell_type": "code",
   "execution_count": 13,
   "metadata": {},
   "outputs": [
    {
     "name": "stdout",
     "output_type": "stream",
     "text": [
      "mu\n",
      "data\n"
     ]
    }
   ],
   "source": [
    "for name in trace.stochastic_nodes:\n",
    "    print(name)"
   ]
  },
  {
   "cell_type": "code",
   "execution_count": 14,
   "metadata": {},
   "outputs": [
    {
     "name": "stdout",
     "output_type": "stream",
     "text": [
      "obs\n"
     ]
    }
   ],
   "source": [
    "for name in trace.observation_nodes:\n",
    "    print(name)"
   ]
  },
  {
   "cell_type": "code",
   "execution_count": 15,
   "metadata": {},
   "outputs": [],
   "source": [
    "scaled_model = poutine.scale(model, torch.tensor(0.5))\n",
    "scaled_trace = poutine.trace(scaled_model).get_trace(x)"
   ]
  },
  {
   "cell_type": "code",
   "execution_count": 17,
   "metadata": {},
   "outputs": [],
   "source": [
    "scaled_trace.compute_log_prob()"
   ]
  },
  {
   "cell_type": "code",
   "execution_count": 18,
   "metadata": {},
   "outputs": [
    {
     "data": {
      "text/plain": [
       "OrderedDict([('_INPUT',\n",
       "              {'name': '_INPUT',\n",
       "               'type': 'args',\n",
       "               'args': (tensor([ 5.3606,  2.3661,  4.7863,  5.4606,  4.7806,  3.8014,  5.5489,  5.8429,\n",
       "                         7.5138,  5.5811,  6.4055,  3.6548,  1.9198,  6.3644,  8.0814,  6.3635,\n",
       "                         4.8303,  3.2084,  5.4008,  7.1685,  5.4893,  8.6178,  3.7076,  5.0261,\n",
       "                         6.4316,  5.5290,  6.1749,  4.7627,  5.8928,  5.2005,  3.5786,  4.9301,\n",
       "                         4.6039,  7.9003,  2.5057,  1.2011,  4.1518,  3.6229,  4.6803,  3.2775,\n",
       "                         4.2312,  1.4442,  2.3728,  5.5425,  4.3146,  8.0107,  7.9259,  5.5699,\n",
       "                         8.9080,  2.4924,  2.5632,  5.7260,  8.0061,  0.7024,  6.3908,  0.7407,\n",
       "                         7.2961,  5.8747,  1.9360, 10.2399,  5.8433, 10.1749,  5.2477,  7.6781,\n",
       "                         4.5014, 11.2925,  2.9754,  3.5654,  3.9475,  8.0504,  5.0690,  1.8635,\n",
       "                         3.6430,  4.8083,  5.5781,  2.5915,  3.9283,  4.0140,  7.5996,  5.3543,\n",
       "                         4.7134,  5.4960,  5.9979,  1.5145,  5.5162,  7.3524,  6.1284,  2.9477,\n",
       "                        -0.2151,  5.4171, -0.0260,  2.6171,  5.0064,  3.5786,  9.7551,  3.1514,\n",
       "                         0.4548,  4.9382,  6.3573,  4.2137]),),\n",
       "               'kwargs': {}}),\n",
       "             ('p',\n",
       "              {'type': 'param',\n",
       "               'name': 'p',\n",
       "               'fn': <bound method ParamStoreDict.get_param of <pyro.params.param_store.ParamStoreDict object at 0x7ff58caefb80>>,\n",
       "               'is_observed': False,\n",
       "               'args': ('p', <function __main__.model.<locals>.<lambda>()>),\n",
       "               'kwargs': {'constraint': Real(), 'event_dim': None},\n",
       "               'value': tensor([-0.2607], requires_grad=True),\n",
       "               'scale': tensor(0.5000),\n",
       "               'mask': None,\n",
       "               'cond_indep_stack': (),\n",
       "               'done': True,\n",
       "               'stop': False,\n",
       "               'continuation': None,\n",
       "               'infer': {}}),\n",
       "             ('mu',\n",
       "              {'type': 'sample',\n",
       "               'name': 'mu',\n",
       "               'fn': Normal(loc: tensor([-0.2607], requires_grad=True), scale: tensor([1.5000])),\n",
       "               'is_observed': False,\n",
       "               'args': (),\n",
       "               'kwargs': {},\n",
       "               'value': tensor([-0.3225], grad_fn=<AddBackward0>),\n",
       "               'infer': {},\n",
       "               'scale': tensor(0.5000),\n",
       "               'mask': None,\n",
       "               'cond_indep_stack': (),\n",
       "               'done': True,\n",
       "               'stop': False,\n",
       "               'continuation': None,\n",
       "               'unscaled_log_prob': tensor([-1.3253], grad_fn=<SubBackward0>),\n",
       "               'log_prob': tensor([-0.6626], grad_fn=<MulBackward0>),\n",
       "               'log_prob_sum': tensor(-0.6626, grad_fn=<SumBackward0>)}),\n",
       "             ('data',\n",
       "              {'type': 'sample',\n",
       "               'name': 'data',\n",
       "               'fn': <pyro.poutine.subsample_messenger._Subsample at 0x7ff586275df0>,\n",
       "               'is_observed': False,\n",
       "               'args': (),\n",
       "               'kwargs': {},\n",
       "               'value': tensor([ 0,  1,  2,  3,  4,  5,  6,  7,  8,  9, 10, 11, 12, 13, 14, 15, 16, 17,\n",
       "                       18, 19, 20, 21, 22, 23, 24, 25, 26, 27, 28, 29, 30, 31, 32, 33, 34, 35,\n",
       "                       36, 37, 38, 39, 40, 41, 42, 43, 44, 45, 46, 47, 48, 49, 50, 51, 52, 53,\n",
       "                       54, 55, 56, 57, 58, 59, 60, 61, 62, 63, 64, 65, 66, 67, 68, 69, 70, 71,\n",
       "                       72, 73, 74, 75, 76, 77, 78, 79, 80, 81, 82, 83, 84, 85, 86, 87, 88, 89,\n",
       "                       90, 91, 92, 93, 94, 95, 96, 97, 98, 99]),\n",
       "               'infer': {},\n",
       "               'scale': tensor(0.5000),\n",
       "               'mask': None,\n",
       "               'cond_indep_stack': (),\n",
       "               'done': True,\n",
       "               'stop': False,\n",
       "               'continuation': None,\n",
       "               'unscaled_log_prob': tensor(0.),\n",
       "               'log_prob': tensor(0.),\n",
       "               'log_prob_sum': tensor(0.)}),\n",
       "             ('obs',\n",
       "              {'type': 'sample',\n",
       "               'name': 'obs',\n",
       "               'fn': Normal(loc: torch.Size([100]), scale: torch.Size([100])),\n",
       "               'is_observed': True,\n",
       "               'args': (),\n",
       "               'kwargs': {},\n",
       "               'value': tensor([ 5.3606,  2.3661,  4.7863,  5.4606,  4.7806,  3.8014,  5.5489,  5.8429,\n",
       "                        7.5138,  5.5811,  6.4055,  3.6548,  1.9198,  6.3644,  8.0814,  6.3635,\n",
       "                        4.8303,  3.2084,  5.4008,  7.1685,  5.4893,  8.6178,  3.7076,  5.0261,\n",
       "                        6.4316,  5.5290,  6.1749,  4.7627,  5.8928,  5.2005,  3.5786,  4.9301,\n",
       "                        4.6039,  7.9003,  2.5057,  1.2011,  4.1518,  3.6229,  4.6803,  3.2775,\n",
       "                        4.2312,  1.4442,  2.3728,  5.5425,  4.3146,  8.0107,  7.9259,  5.5699,\n",
       "                        8.9080,  2.4924,  2.5632,  5.7260,  8.0061,  0.7024,  6.3908,  0.7407,\n",
       "                        7.2961,  5.8747,  1.9360, 10.2399,  5.8433, 10.1749,  5.2477,  7.6781,\n",
       "                        4.5014, 11.2925,  2.9754,  3.5654,  3.9475,  8.0504,  5.0690,  1.8635,\n",
       "                        3.6430,  4.8083,  5.5781,  2.5915,  3.9283,  4.0140,  7.5996,  5.3543,\n",
       "                        4.7134,  5.4960,  5.9979,  1.5145,  5.5162,  7.3524,  6.1284,  2.9477,\n",
       "                       -0.2151,  5.4171, -0.0260,  2.6171,  5.0064,  3.5786,  9.7551,  3.1514,\n",
       "                        0.4548,  4.9382,  6.3573,  4.2137]),\n",
       "               'infer': {},\n",
       "               'scale': tensor(0.5000),\n",
       "               'mask': None,\n",
       "               'cond_indep_stack': (CondIndepStackFrame(name='data', dim=-1, size=100, counter=0),),\n",
       "               'done': True,\n",
       "               'stop': False,\n",
       "               'continuation': None,\n",
       "               'unscaled_log_prob': tensor([-3.8119, -2.4191, -3.4675, -3.8755, -3.4643, -2.9624, -3.9327, -4.1293,\n",
       "                       -5.4290, -3.9538, -4.5323, -2.8964, -2.2969, -4.5016, -5.9411, -4.5010,\n",
       "                       -3.4926, -2.7102, -3.8373, -5.1350, -3.8940, -6.4580, -2.9199, -3.6068,\n",
       "                       -4.5519, -3.9197, -4.3629, -3.4541, -4.1636, -3.7121, -2.8630, -3.5503,\n",
       "                       -3.3658, -5.7739, -2.4619, -2.1465, -3.1297, -2.8823, -3.4080, -2.7375,\n",
       "                       -3.1695, -2.1909, -2.4211, -3.9285, -3.2121, -5.8754, -5.7973, -3.9464,\n",
       "                       -6.7509, -2.4577, -2.4802, -4.0500, -5.8711, -2.0759, -4.5213, -2.0803,\n",
       "                       -5.2421, -4.1511, -2.3009, -8.2155, -4.1296, -8.1395, -3.7412, -5.5736,\n",
       "                       -3.3103, -9.5124, -2.6218, -2.8573, -3.0304, -5.9123, -3.6324, -2.2830,\n",
       "                       -2.8912, -3.4800, -3.9518, -2.4893, -3.0214, -3.0623, -5.5041, -3.8079,\n",
       "                       -3.4265, -3.8983, -4.2368, -2.2050, -3.9114, -5.2900, -4.3294, -2.6116,\n",
       "                       -2.0182, -3.8477, -2.0224, -2.4976, -3.5951, -2.8630, -7.6596, -2.6880,\n",
       "                       -2.0511, -3.5551, -4.4964, -3.1607], grad_fn=<SubBackward0>),\n",
       "               'log_prob': tensor([-1.9059, -1.2096, -1.7338, -1.9378, -1.7321, -1.4812, -1.9664, -2.0646,\n",
       "                       -2.7145, -1.9769, -2.2661, -1.4482, -1.1484, -2.2508, -2.9706, -2.2505,\n",
       "                       -1.7463, -1.3551, -1.9187, -2.5675, -1.9470, -3.2290, -1.4599, -1.8034,\n",
       "                       -2.2759, -1.9599, -2.1814, -1.7271, -2.0818, -1.8561, -1.4315, -1.7751,\n",
       "                       -1.6829, -2.8869, -1.2309, -1.0732, -1.5649, -1.4412, -1.7040, -1.3688,\n",
       "                       -1.5848, -1.0955, -1.2106, -1.9643, -1.6061, -2.9377, -2.8987, -1.9732,\n",
       "                       -3.3755, -1.2289, -1.2401, -2.0250, -2.9356, -1.0380, -2.2607, -1.0402,\n",
       "                       -2.6211, -2.0756, -1.1505, -4.1077, -2.0648, -4.0697, -1.8706, -2.7868,\n",
       "                       -1.6552, -4.7562, -1.3109, -1.4286, -1.5152, -2.9561, -1.8162, -1.1415,\n",
       "                       -1.4456, -1.7400, -1.9759, -1.2446, -1.5107, -1.5311, -2.7521, -1.9039,\n",
       "                       -1.7132, -1.9492, -2.1184, -1.1025, -1.9557, -2.6450, -2.1647, -1.3058,\n",
       "                       -1.0091, -1.9238, -1.0112, -1.2488, -1.7976, -1.4315, -3.8298, -1.3440,\n",
       "                       -1.0256, -1.7775, -2.2482, -1.5804], grad_fn=<MulBackward0>),\n",
       "               'log_prob_sum': tensor(-192.3531, grad_fn=<SumBackward0>)}),\n",
       "             ('_RETURN',\n",
       "              {'name': '_RETURN',\n",
       "               'type': 'return',\n",
       "               'value': tensor([ 5.3606,  2.3661,  4.7863,  5.4606,  4.7806,  3.8014,  5.5489,  5.8429,\n",
       "                        7.5138,  5.5811,  6.4055,  3.6548,  1.9198,  6.3644,  8.0814,  6.3635,\n",
       "                        4.8303,  3.2084,  5.4008,  7.1685,  5.4893,  8.6178,  3.7076,  5.0261,\n",
       "                        6.4316,  5.5290,  6.1749,  4.7627,  5.8928,  5.2005,  3.5786,  4.9301,\n",
       "                        4.6039,  7.9003,  2.5057,  1.2011,  4.1518,  3.6229,  4.6803,  3.2775,\n",
       "                        4.2312,  1.4442,  2.3728,  5.5425,  4.3146,  8.0107,  7.9259,  5.5699,\n",
       "                        8.9080,  2.4924,  2.5632,  5.7260,  8.0061,  0.7024,  6.3908,  0.7407,\n",
       "                        7.2961,  5.8747,  1.9360, 10.2399,  5.8433, 10.1749,  5.2477,  7.6781,\n",
       "                        4.5014, 11.2925,  2.9754,  3.5654,  3.9475,  8.0504,  5.0690,  1.8635,\n",
       "                        3.6430,  4.8083,  5.5781,  2.5915,  3.9283,  4.0140,  7.5996,  5.3543,\n",
       "                        4.7134,  5.4960,  5.9979,  1.5145,  5.5162,  7.3524,  6.1284,  2.9477,\n",
       "                       -0.2151,  5.4171, -0.0260,  2.6171,  5.0064,  3.5786,  9.7551,  3.1514,\n",
       "                        0.4548,  4.9382,  6.3573,  4.2137])})])"
      ]
     },
     "execution_count": 18,
     "metadata": {},
     "output_type": "execute_result"
    }
   ],
   "source": [
    "scaled_trace.nodes"
   ]
  },
  {
   "cell_type": "code",
   "execution_count": 19,
   "metadata": {},
   "outputs": [
    {
     "data": {
      "text/plain": [
       "tensor(-193.0158, grad_fn=<AddBackward0>)"
      ]
     },
     "execution_count": 19,
     "metadata": {},
     "output_type": "execute_result"
    }
   ],
   "source": [
    "scaled_trace.log_prob_sum()"
   ]
  },
  {
   "cell_type": "code",
   "execution_count": 21,
   "metadata": {},
   "outputs": [
    {
     "data": {
      "text/plain": [
       "tensor([True, True, True, True, True, True, True, True, True, True, True, True,\n",
       "        True, True, True, True, True, True, True, True, True, True, True, True,\n",
       "        True, True, True, True, True, True, True, True, True, True, True, True,\n",
       "        True, True, True, True, True, True, True, True, True, True, True, True,\n",
       "        True, True, True, True, True, True, True, True, True, True, True, True,\n",
       "        True, True, True, True, True, True, True, True, True, True, True, True,\n",
       "        True, True, True, True, True, True, True, True, True, True, True, True,\n",
       "        True, True, True, True, True, True, True, True, True, True, True, True,\n",
       "        True, True, True, True])"
      ]
     },
     "execution_count": 21,
     "metadata": {},
     "output_type": "execute_result"
    }
   ],
   "source": [
    "scaled_trace.nodes[\"obs\"][ 'unscaled_log_prob'] * 0.5 == scaled_trace.nodes[\"obs\"]['log_prob']"
   ]
  },
  {
   "cell_type": "code",
   "execution_count": 22,
   "metadata": {},
   "outputs": [],
   "source": [
    "def model(x):\n",
    "    p = pyro.param(\"p\", lambda: torch.randn(1))\n",
    "    mu = pyro.sample(\"mu\", dist.Normal(p, torch.tensor(1.5)))\n",
    "    with pyro.plate(\"data\", N):\n",
    "        obs = pyro.sample(\"obs\", dist.Normal(mu, torch.tensor(3.)), obs=x)\n",
    "    \n",
    "    return obs"
   ]
  },
  {
   "cell_type": "code",
   "execution_count": 23,
   "metadata": {},
   "outputs": [],
   "source": [
    "trace = poutine.trace(model, param_only=True).get_trace(x)"
   ]
  },
  {
   "cell_type": "code",
   "execution_count": 24,
   "metadata": {},
   "outputs": [
    {
     "data": {
      "text/plain": [
       "OrderedDict([('p',\n",
       "              {'type': 'param',\n",
       "               'name': 'p',\n",
       "               'fn': <bound method ParamStoreDict.get_param of <pyro.params.param_store.ParamStoreDict object at 0x7ff58caefb80>>,\n",
       "               'is_observed': False,\n",
       "               'args': ('p', <function __main__.model.<locals>.<lambda>()>),\n",
       "               'kwargs': {'constraint': Real(), 'event_dim': None},\n",
       "               'value': tensor([-0.2607], requires_grad=True),\n",
       "               'scale': 1.0,\n",
       "               'mask': None,\n",
       "               'cond_indep_stack': (),\n",
       "               'done': True,\n",
       "               'stop': False,\n",
       "               'continuation': None,\n",
       "               'infer': {}})])"
      ]
     },
     "execution_count": 24,
     "metadata": {},
     "output_type": "execute_result"
    }
   ],
   "source": [
    "trace.nodes"
   ]
  },
  {
   "cell_type": "code",
   "execution_count": 25,
   "metadata": {},
   "outputs": [],
   "source": [
    "def model(x):\n",
    "    p = pyro.param(\"p\", lambda: torch.randn(1))\n",
    "    mu = pyro.sample(\"mu\", dist.Normal(p, torch.tensor(1.5)))\n",
    "    \n",
    "    s = pyro.sample(\"s\", dist.Uniform(0., mu.abs()) )  \n",
    "  \n",
    "    with pyro.plate(\"data\", N):\n",
    "        obs = pyro.sample(\"obs\", dist.Normal(mu, s), obs=x)\n",
    "    \n",
    "    return obs"
   ]
  },
  {
   "cell_type": "code",
   "execution_count": 28,
   "metadata": {},
   "outputs": [],
   "source": [
    "trace = poutine.trace(model).get_trace(x)"
   ]
  },
  {
   "cell_type": "code",
   "execution_count": 29,
   "metadata": {},
   "outputs": [
    {
     "data": {
      "text/plain": [
       "OrderedDict([('_INPUT',\n",
       "              {'name': '_INPUT',\n",
       "               'type': 'args',\n",
       "               'args': (tensor([ 5.3606,  2.3661,  4.7863,  5.4606,  4.7806,  3.8014,  5.5489,  5.8429,\n",
       "                         7.5138,  5.5811,  6.4055,  3.6548,  1.9198,  6.3644,  8.0814,  6.3635,\n",
       "                         4.8303,  3.2084,  5.4008,  7.1685,  5.4893,  8.6178,  3.7076,  5.0261,\n",
       "                         6.4316,  5.5290,  6.1749,  4.7627,  5.8928,  5.2005,  3.5786,  4.9301,\n",
       "                         4.6039,  7.9003,  2.5057,  1.2011,  4.1518,  3.6229,  4.6803,  3.2775,\n",
       "                         4.2312,  1.4442,  2.3728,  5.5425,  4.3146,  8.0107,  7.9259,  5.5699,\n",
       "                         8.9080,  2.4924,  2.5632,  5.7260,  8.0061,  0.7024,  6.3908,  0.7407,\n",
       "                         7.2961,  5.8747,  1.9360, 10.2399,  5.8433, 10.1749,  5.2477,  7.6781,\n",
       "                         4.5014, 11.2925,  2.9754,  3.5654,  3.9475,  8.0504,  5.0690,  1.8635,\n",
       "                         3.6430,  4.8083,  5.5781,  2.5915,  3.9283,  4.0140,  7.5996,  5.3543,\n",
       "                         4.7134,  5.4960,  5.9979,  1.5145,  5.5162,  7.3524,  6.1284,  2.9477,\n",
       "                        -0.2151,  5.4171, -0.0260,  2.6171,  5.0064,  3.5786,  9.7551,  3.1514,\n",
       "                         0.4548,  4.9382,  6.3573,  4.2137]),),\n",
       "               'kwargs': {}}),\n",
       "             ('p',\n",
       "              {'type': 'param',\n",
       "               'name': 'p',\n",
       "               'fn': <bound method ParamStoreDict.get_param of <pyro.params.param_store.ParamStoreDict object at 0x7ff58caefb80>>,\n",
       "               'is_observed': False,\n",
       "               'args': ('p', <function __main__.model.<locals>.<lambda>()>),\n",
       "               'kwargs': {'constraint': Real(), 'event_dim': None},\n",
       "               'value': tensor([-0.2607], requires_grad=True),\n",
       "               'scale': 1.0,\n",
       "               'mask': None,\n",
       "               'cond_indep_stack': (),\n",
       "               'done': True,\n",
       "               'stop': False,\n",
       "               'continuation': None,\n",
       "               'infer': {}}),\n",
       "             ('mu',\n",
       "              {'type': 'sample',\n",
       "               'name': 'mu',\n",
       "               'fn': Normal(loc: tensor([-0.2607], requires_grad=True), scale: tensor([1.5000])),\n",
       "               'is_observed': False,\n",
       "               'args': (),\n",
       "               'kwargs': {},\n",
       "               'value': tensor([-2.5589], grad_fn=<AddBackward0>),\n",
       "               'infer': {},\n",
       "               'scale': 1.0,\n",
       "               'mask': None,\n",
       "               'cond_indep_stack': (),\n",
       "               'done': True,\n",
       "               'stop': False,\n",
       "               'continuation': None}),\n",
       "             ('s',\n",
       "              {'type': 'sample',\n",
       "               'name': 's',\n",
       "               'fn': Uniform(low: tensor([0.]), high: tensor([2.5589], grad_fn=<AbsBackward0>)),\n",
       "               'is_observed': False,\n",
       "               'args': (),\n",
       "               'kwargs': {},\n",
       "               'value': tensor([0.4216], grad_fn=<AddBackward0>),\n",
       "               'infer': {},\n",
       "               'scale': 1.0,\n",
       "               'mask': None,\n",
       "               'cond_indep_stack': (),\n",
       "               'done': True,\n",
       "               'stop': False,\n",
       "               'continuation': None}),\n",
       "             ('data',\n",
       "              {'type': 'sample',\n",
       "               'name': 'data',\n",
       "               'fn': <pyro.poutine.subsample_messenger._Subsample at 0x7ff584328100>,\n",
       "               'is_observed': False,\n",
       "               'args': (),\n",
       "               'kwargs': {},\n",
       "               'value': tensor([ 0,  1,  2,  3,  4,  5,  6,  7,  8,  9, 10, 11, 12, 13, 14, 15, 16, 17,\n",
       "                       18, 19, 20, 21, 22, 23, 24, 25, 26, 27, 28, 29, 30, 31, 32, 33, 34, 35,\n",
       "                       36, 37, 38, 39, 40, 41, 42, 43, 44, 45, 46, 47, 48, 49, 50, 51, 52, 53,\n",
       "                       54, 55, 56, 57, 58, 59, 60, 61, 62, 63, 64, 65, 66, 67, 68, 69, 70, 71,\n",
       "                       72, 73, 74, 75, 76, 77, 78, 79, 80, 81, 82, 83, 84, 85, 86, 87, 88, 89,\n",
       "                       90, 91, 92, 93, 94, 95, 96, 97, 98, 99]),\n",
       "               'infer': {},\n",
       "               'scale': 1.0,\n",
       "               'mask': None,\n",
       "               'cond_indep_stack': (),\n",
       "               'done': True,\n",
       "               'stop': False,\n",
       "               'continuation': None}),\n",
       "             ('obs',\n",
       "              {'type': 'sample',\n",
       "               'name': 'obs',\n",
       "               'fn': Normal(loc: torch.Size([100]), scale: torch.Size([100])),\n",
       "               'is_observed': True,\n",
       "               'args': (),\n",
       "               'kwargs': {},\n",
       "               'value': tensor([ 5.3606,  2.3661,  4.7863,  5.4606,  4.7806,  3.8014,  5.5489,  5.8429,\n",
       "                        7.5138,  5.5811,  6.4055,  3.6548,  1.9198,  6.3644,  8.0814,  6.3635,\n",
       "                        4.8303,  3.2084,  5.4008,  7.1685,  5.4893,  8.6178,  3.7076,  5.0261,\n",
       "                        6.4316,  5.5290,  6.1749,  4.7627,  5.8928,  5.2005,  3.5786,  4.9301,\n",
       "                        4.6039,  7.9003,  2.5057,  1.2011,  4.1518,  3.6229,  4.6803,  3.2775,\n",
       "                        4.2312,  1.4442,  2.3728,  5.5425,  4.3146,  8.0107,  7.9259,  5.5699,\n",
       "                        8.9080,  2.4924,  2.5632,  5.7260,  8.0061,  0.7024,  6.3908,  0.7407,\n",
       "                        7.2961,  5.8747,  1.9360, 10.2399,  5.8433, 10.1749,  5.2477,  7.6781,\n",
       "                        4.5014, 11.2925,  2.9754,  3.5654,  3.9475,  8.0504,  5.0690,  1.8635,\n",
       "                        3.6430,  4.8083,  5.5781,  2.5915,  3.9283,  4.0140,  7.5996,  5.3543,\n",
       "                        4.7134,  5.4960,  5.9979,  1.5145,  5.5162,  7.3524,  6.1284,  2.9477,\n",
       "                       -0.2151,  5.4171, -0.0260,  2.6171,  5.0064,  3.5786,  9.7551,  3.1514,\n",
       "                        0.4548,  4.9382,  6.3573,  4.2137]),\n",
       "               'infer': {},\n",
       "               'scale': 1.0,\n",
       "               'mask': None,\n",
       "               'cond_indep_stack': (CondIndepStackFrame(name='data', dim=-1, size=100, counter=0),),\n",
       "               'done': True,\n",
       "               'stop': False,\n",
       "               'continuation': None}),\n",
       "             ('_RETURN',\n",
       "              {'name': '_RETURN',\n",
       "               'type': 'return',\n",
       "               'value': tensor([ 5.3606,  2.3661,  4.7863,  5.4606,  4.7806,  3.8014,  5.5489,  5.8429,\n",
       "                        7.5138,  5.5811,  6.4055,  3.6548,  1.9198,  6.3644,  8.0814,  6.3635,\n",
       "                        4.8303,  3.2084,  5.4008,  7.1685,  5.4893,  8.6178,  3.7076,  5.0261,\n",
       "                        6.4316,  5.5290,  6.1749,  4.7627,  5.8928,  5.2005,  3.5786,  4.9301,\n",
       "                        4.6039,  7.9003,  2.5057,  1.2011,  4.1518,  3.6229,  4.6803,  3.2775,\n",
       "                        4.2312,  1.4442,  2.3728,  5.5425,  4.3146,  8.0107,  7.9259,  5.5699,\n",
       "                        8.9080,  2.4924,  2.5632,  5.7260,  8.0061,  0.7024,  6.3908,  0.7407,\n",
       "                        7.2961,  5.8747,  1.9360, 10.2399,  5.8433, 10.1749,  5.2477,  7.6781,\n",
       "                        4.5014, 11.2925,  2.9754,  3.5654,  3.9475,  8.0504,  5.0690,  1.8635,\n",
       "                        3.6430,  4.8083,  5.5781,  2.5915,  3.9283,  4.0140,  7.5996,  5.3543,\n",
       "                        4.7134,  5.4960,  5.9979,  1.5145,  5.5162,  7.3524,  6.1284,  2.9477,\n",
       "                       -0.2151,  5.4171, -0.0260,  2.6171,  5.0064,  3.5786,  9.7551,  3.1514,\n",
       "                        0.4548,  4.9382,  6.3573,  4.2137])})])"
      ]
     },
     "execution_count": 29,
     "metadata": {},
     "output_type": "execute_result"
    }
   ],
   "source": [
    "trace.nodes"
   ]
  },
  {
   "cell_type": "code",
   "execution_count": 30,
   "metadata": {},
   "outputs": [],
   "source": [
    "trace.compute_log_prob()"
   ]
  },
  {
   "cell_type": "code",
   "execution_count": 32,
   "metadata": {},
   "outputs": [
    {
     "data": {
      "text/plain": [
       "OrderedDict([('_INPUT',\n",
       "              {'name': '_INPUT',\n",
       "               'type': 'args',\n",
       "               'args': (tensor([ 5.3606,  2.3661,  4.7863,  5.4606,  4.7806,  3.8014,  5.5489,  5.8429,\n",
       "                         7.5138,  5.5811,  6.4055,  3.6548,  1.9198,  6.3644,  8.0814,  6.3635,\n",
       "                         4.8303,  3.2084,  5.4008,  7.1685,  5.4893,  8.6178,  3.7076,  5.0261,\n",
       "                         6.4316,  5.5290,  6.1749,  4.7627,  5.8928,  5.2005,  3.5786,  4.9301,\n",
       "                         4.6039,  7.9003,  2.5057,  1.2011,  4.1518,  3.6229,  4.6803,  3.2775,\n",
       "                         4.2312,  1.4442,  2.3728,  5.5425,  4.3146,  8.0107,  7.9259,  5.5699,\n",
       "                         8.9080,  2.4924,  2.5632,  5.7260,  8.0061,  0.7024,  6.3908,  0.7407,\n",
       "                         7.2961,  5.8747,  1.9360, 10.2399,  5.8433, 10.1749,  5.2477,  7.6781,\n",
       "                         4.5014, 11.2925,  2.9754,  3.5654,  3.9475,  8.0504,  5.0690,  1.8635,\n",
       "                         3.6430,  4.8083,  5.5781,  2.5915,  3.9283,  4.0140,  7.5996,  5.3543,\n",
       "                         4.7134,  5.4960,  5.9979,  1.5145,  5.5162,  7.3524,  6.1284,  2.9477,\n",
       "                        -0.2151,  5.4171, -0.0260,  2.6171,  5.0064,  3.5786,  9.7551,  3.1514,\n",
       "                         0.4548,  4.9382,  6.3573,  4.2137]),),\n",
       "               'kwargs': {}}),\n",
       "             ('p',\n",
       "              {'type': 'param',\n",
       "               'name': 'p',\n",
       "               'fn': <bound method ParamStoreDict.get_param of <pyro.params.param_store.ParamStoreDict object at 0x7ff58caefb80>>,\n",
       "               'is_observed': False,\n",
       "               'args': ('p', <function __main__.model.<locals>.<lambda>()>),\n",
       "               'kwargs': {'constraint': Real(), 'event_dim': None},\n",
       "               'value': tensor([-0.2607], requires_grad=True),\n",
       "               'scale': 1.0,\n",
       "               'mask': None,\n",
       "               'cond_indep_stack': (),\n",
       "               'done': True,\n",
       "               'stop': False,\n",
       "               'continuation': None,\n",
       "               'infer': {}}),\n",
       "             ('mu',\n",
       "              {'type': 'sample',\n",
       "               'name': 'mu',\n",
       "               'fn': Normal(loc: tensor([-0.2607], requires_grad=True), scale: tensor([1.5000])),\n",
       "               'is_observed': False,\n",
       "               'args': (),\n",
       "               'kwargs': {},\n",
       "               'value': tensor([-2.5589], grad_fn=<AddBackward0>),\n",
       "               'infer': {},\n",
       "               'scale': 1.0,\n",
       "               'mask': None,\n",
       "               'cond_indep_stack': (),\n",
       "               'done': True,\n",
       "               'stop': False,\n",
       "               'continuation': None,\n",
       "               'unscaled_log_prob': tensor([-2.4981], grad_fn=<SubBackward0>),\n",
       "               'log_prob': tensor([-2.4981], grad_fn=<SubBackward0>),\n",
       "               'log_prob_sum': tensor(-2.4981, grad_fn=<SumBackward0>)}),\n",
       "             ('s',\n",
       "              {'type': 'sample',\n",
       "               'name': 's',\n",
       "               'fn': Uniform(low: tensor([0.]), high: tensor([2.5589], grad_fn=<AbsBackward0>)),\n",
       "               'is_observed': False,\n",
       "               'args': (),\n",
       "               'kwargs': {},\n",
       "               'value': tensor([0.4216], grad_fn=<AddBackward0>),\n",
       "               'infer': {},\n",
       "               'scale': 1.0,\n",
       "               'mask': None,\n",
       "               'cond_indep_stack': (),\n",
       "               'done': True,\n",
       "               'stop': False,\n",
       "               'continuation': None,\n",
       "               'unscaled_log_prob': tensor([-0.9396], grad_fn=<SubBackward0>),\n",
       "               'log_prob': tensor([-0.9396], grad_fn=<SubBackward0>),\n",
       "               'log_prob_sum': tensor(-0.9396, grad_fn=<SumBackward0>)}),\n",
       "             ('data',\n",
       "              {'type': 'sample',\n",
       "               'name': 'data',\n",
       "               'fn': <pyro.poutine.subsample_messenger._Subsample at 0x7ff584328100>,\n",
       "               'is_observed': False,\n",
       "               'args': (),\n",
       "               'kwargs': {},\n",
       "               'value': tensor([ 0,  1,  2,  3,  4,  5,  6,  7,  8,  9, 10, 11, 12, 13, 14, 15, 16, 17,\n",
       "                       18, 19, 20, 21, 22, 23, 24, 25, 26, 27, 28, 29, 30, 31, 32, 33, 34, 35,\n",
       "                       36, 37, 38, 39, 40, 41, 42, 43, 44, 45, 46, 47, 48, 49, 50, 51, 52, 53,\n",
       "                       54, 55, 56, 57, 58, 59, 60, 61, 62, 63, 64, 65, 66, 67, 68, 69, 70, 71,\n",
       "                       72, 73, 74, 75, 76, 77, 78, 79, 80, 81, 82, 83, 84, 85, 86, 87, 88, 89,\n",
       "                       90, 91, 92, 93, 94, 95, 96, 97, 98, 99]),\n",
       "               'infer': {},\n",
       "               'scale': 1.0,\n",
       "               'mask': None,\n",
       "               'cond_indep_stack': (),\n",
       "               'done': True,\n",
       "               'stop': False,\n",
       "               'continuation': None,\n",
       "               'unscaled_log_prob': tensor(0.),\n",
       "               'log_prob': tensor(0.),\n",
       "               'log_prob_sum': tensor(0.)}),\n",
       "             ('obs',\n",
       "              {'type': 'sample',\n",
       "               'name': 'obs',\n",
       "               'fn': Normal(loc: torch.Size([100]), scale: torch.Size([100])),\n",
       "               'is_observed': True,\n",
       "               'args': (),\n",
       "               'kwargs': {},\n",
       "               'value': tensor([ 5.3606,  2.3661,  4.7863,  5.4606,  4.7806,  3.8014,  5.5489,  5.8429,\n",
       "                        7.5138,  5.5811,  6.4055,  3.6548,  1.9198,  6.3644,  8.0814,  6.3635,\n",
       "                        4.8303,  3.2084,  5.4008,  7.1685,  5.4893,  8.6178,  3.7076,  5.0261,\n",
       "                        6.4316,  5.5290,  6.1749,  4.7627,  5.8928,  5.2005,  3.5786,  4.9301,\n",
       "                        4.6039,  7.9003,  2.5057,  1.2011,  4.1518,  3.6229,  4.6803,  3.2775,\n",
       "                        4.2312,  1.4442,  2.3728,  5.5425,  4.3146,  8.0107,  7.9259,  5.5699,\n",
       "                        8.9080,  2.4924,  2.5632,  5.7260,  8.0061,  0.7024,  6.3908,  0.7407,\n",
       "                        7.2961,  5.8747,  1.9360, 10.2399,  5.8433, 10.1749,  5.2477,  7.6781,\n",
       "                        4.5014, 11.2925,  2.9754,  3.5654,  3.9475,  8.0504,  5.0690,  1.8635,\n",
       "                        3.6430,  4.8083,  5.5781,  2.5915,  3.9283,  4.0140,  7.5996,  5.3543,\n",
       "                        4.7134,  5.4960,  5.9979,  1.5145,  5.5162,  7.3524,  6.1284,  2.9477,\n",
       "                       -0.2151,  5.4171, -0.0260,  2.6171,  5.0064,  3.5786,  9.7551,  3.1514,\n",
       "                        0.4548,  4.9382,  6.3573,  4.2137]),\n",
       "               'infer': {},\n",
       "               'scale': 1.0,\n",
       "               'mask': None,\n",
       "               'cond_indep_stack': (CondIndepStackFrame(name='data', dim=-1, size=100, counter=0),),\n",
       "               'done': True,\n",
       "               'stop': False,\n",
       "               'continuation': None,\n",
       "               'unscaled_log_prob': tensor([-176.4781,  -68.2828, -151.8187, -180.9601, -151.5808, -113.8487,\n",
       "                       -184.9665, -198.6183, -285.4513, -186.4394, -226.1012, -108.6633,\n",
       "                        -56.4794, -224.0319, -318.5211, -223.9874, -153.6426,  -93.6175,\n",
       "                       -178.2739, -266.2215, -182.2582, -351.4393, -110.5167, -161.8891,\n",
       "                       -227.4229, -184.0579, -214.6236, -150.8429, -200.9832, -169.4144,\n",
       "                       -106.0159, -157.8156, -144.3727, -307.7730,  -72.2052,  -39.8217,\n",
       "                       -126.7316, -107.5484, -147.4674,  -95.8715, -129.7439,  -45.1311,\n",
       "                        -68.4689, -184.6743, -132.9521, -314.3022, -309.2840, -185.9257,\n",
       "                       -369.9240,  -71.8289,  -73.8545, -193.1302, -314.0297,  -29.9732,\n",
       "                       -225.3609,  -30.6806, -273.2468, -200.1250,  -56.8871, -460.8355,\n",
       "                       -198.6381, -456.1702, -171.4812, -294.8375, -140.2726, -539.7476,\n",
       "                        -86.2110, -105.5574, -119.1331, -316.6719, -163.7233,  -55.0675,\n",
       "                       -108.2509, -152.7280, -186.3014,  -74.6730, -118.4338, -121.5810,\n",
       "                       -290.3336, -176.1969, -148.8218, -182.5593, -206.0131,  -46.7273,\n",
       "                       -183.4761, -276.3807, -212.3459,  -85.3485,  -15.5077, -179.0020,\n",
       "                        -18.1013,  -75.4142, -161.0467, -106.0153, -426.5926,  -91.7783,\n",
       "                        -25.6033, -158.1610, -223.6769, -129.0789], grad_fn=<SubBackward0>),\n",
       "               'log_prob': tensor([-176.4781,  -68.2828, -151.8187, -180.9601, -151.5808, -113.8487,\n",
       "                       -184.9665, -198.6183, -285.4513, -186.4394, -226.1012, -108.6633,\n",
       "                        -56.4794, -224.0319, -318.5211, -223.9874, -153.6426,  -93.6175,\n",
       "                       -178.2739, -266.2215, -182.2582, -351.4393, -110.5167, -161.8891,\n",
       "                       -227.4229, -184.0579, -214.6236, -150.8429, -200.9832, -169.4144,\n",
       "                       -106.0159, -157.8156, -144.3727, -307.7730,  -72.2052,  -39.8217,\n",
       "                       -126.7316, -107.5484, -147.4674,  -95.8715, -129.7439,  -45.1311,\n",
       "                        -68.4689, -184.6743, -132.9521, -314.3022, -309.2840, -185.9257,\n",
       "                       -369.9240,  -71.8289,  -73.8545, -193.1302, -314.0297,  -29.9732,\n",
       "                       -225.3609,  -30.6806, -273.2468, -200.1250,  -56.8871, -460.8355,\n",
       "                       -198.6381, -456.1702, -171.4812, -294.8375, -140.2726, -539.7476,\n",
       "                        -86.2110, -105.5574, -119.1331, -316.6719, -163.7233,  -55.0675,\n",
       "                       -108.2509, -152.7280, -186.3014,  -74.6730, -118.4338, -121.5810,\n",
       "                       -290.3336, -176.1969, -148.8218, -182.5593, -206.0131,  -46.7273,\n",
       "                       -183.4761, -276.3807, -212.3459,  -85.3485,  -15.5077, -179.0020,\n",
       "                        -18.1013,  -75.4142, -161.0467, -106.0153, -426.5926,  -91.7783,\n",
       "                        -25.6033, -158.1610, -223.6769, -129.0789], grad_fn=<SubBackward0>),\n",
       "               'log_prob_sum': tensor(-17305.0762, grad_fn=<SumBackward0>)}),\n",
       "             ('_RETURN',\n",
       "              {'name': '_RETURN',\n",
       "               'type': 'return',\n",
       "               'value': tensor([ 5.3606,  2.3661,  4.7863,  5.4606,  4.7806,  3.8014,  5.5489,  5.8429,\n",
       "                        7.5138,  5.5811,  6.4055,  3.6548,  1.9198,  6.3644,  8.0814,  6.3635,\n",
       "                        4.8303,  3.2084,  5.4008,  7.1685,  5.4893,  8.6178,  3.7076,  5.0261,\n",
       "                        6.4316,  5.5290,  6.1749,  4.7627,  5.8928,  5.2005,  3.5786,  4.9301,\n",
       "                        4.6039,  7.9003,  2.5057,  1.2011,  4.1518,  3.6229,  4.6803,  3.2775,\n",
       "                        4.2312,  1.4442,  2.3728,  5.5425,  4.3146,  8.0107,  7.9259,  5.5699,\n",
       "                        8.9080,  2.4924,  2.5632,  5.7260,  8.0061,  0.7024,  6.3908,  0.7407,\n",
       "                        7.2961,  5.8747,  1.9360, 10.2399,  5.8433, 10.1749,  5.2477,  7.6781,\n",
       "                        4.5014, 11.2925,  2.9754,  3.5654,  3.9475,  8.0504,  5.0690,  1.8635,\n",
       "                        3.6430,  4.8083,  5.5781,  2.5915,  3.9283,  4.0140,  7.5996,  5.3543,\n",
       "                        4.7134,  5.4960,  5.9979,  1.5145,  5.5162,  7.3524,  6.1284,  2.9477,\n",
       "                       -0.2151,  5.4171, -0.0260,  2.6171,  5.0064,  3.5786,  9.7551,  3.1514,\n",
       "                        0.4548,  4.9382,  6.3573,  4.2137])})])"
      ]
     },
     "execution_count": 32,
     "metadata": {},
     "output_type": "execute_result"
    }
   ],
   "source": [
    "trace.nodes"
   ]
  },
  {
   "cell_type": "code",
   "execution_count": 37,
   "metadata": {},
   "outputs": [
    {
     "data": {
      "text/plain": [
       "<pyro.poutine.trace_struct.Trace at 0x7ff58383cb20>"
      ]
     },
     "execution_count": 37,
     "metadata": {},
     "output_type": "execute_result"
    }
   ],
   "source": [
    "blocked_model = poutine.block(model, hide_fn=lambda msg: True)\n",
    "blocked_trace = poutine.trace(blocked_model).get_trace(x)\n",
    "blocked_trace"
   ]
  },
  {
   "cell_type": "code",
   "execution_count": 38,
   "metadata": {},
   "outputs": [
    {
     "data": {
      "text/plain": [
       "OrderedDict([('_INPUT',\n",
       "              {'name': '_INPUT',\n",
       "               'type': 'args',\n",
       "               'args': (tensor([ 5.3606,  2.3661,  4.7863,  5.4606,  4.7806,  3.8014,  5.5489,  5.8429,\n",
       "                         7.5138,  5.5811,  6.4055,  3.6548,  1.9198,  6.3644,  8.0814,  6.3635,\n",
       "                         4.8303,  3.2084,  5.4008,  7.1685,  5.4893,  8.6178,  3.7076,  5.0261,\n",
       "                         6.4316,  5.5290,  6.1749,  4.7627,  5.8928,  5.2005,  3.5786,  4.9301,\n",
       "                         4.6039,  7.9003,  2.5057,  1.2011,  4.1518,  3.6229,  4.6803,  3.2775,\n",
       "                         4.2312,  1.4442,  2.3728,  5.5425,  4.3146,  8.0107,  7.9259,  5.5699,\n",
       "                         8.9080,  2.4924,  2.5632,  5.7260,  8.0061,  0.7024,  6.3908,  0.7407,\n",
       "                         7.2961,  5.8747,  1.9360, 10.2399,  5.8433, 10.1749,  5.2477,  7.6781,\n",
       "                         4.5014, 11.2925,  2.9754,  3.5654,  3.9475,  8.0504,  5.0690,  1.8635,\n",
       "                         3.6430,  4.8083,  5.5781,  2.5915,  3.9283,  4.0140,  7.5996,  5.3543,\n",
       "                         4.7134,  5.4960,  5.9979,  1.5145,  5.5162,  7.3524,  6.1284,  2.9477,\n",
       "                        -0.2151,  5.4171, -0.0260,  2.6171,  5.0064,  3.5786,  9.7551,  3.1514,\n",
       "                         0.4548,  4.9382,  6.3573,  4.2137]),),\n",
       "               'kwargs': {}}),\n",
       "             ('_RETURN',\n",
       "              {'name': '_RETURN',\n",
       "               'type': 'return',\n",
       "               'value': tensor([ 5.3606,  2.3661,  4.7863,  5.4606,  4.7806,  3.8014,  5.5489,  5.8429,\n",
       "                        7.5138,  5.5811,  6.4055,  3.6548,  1.9198,  6.3644,  8.0814,  6.3635,\n",
       "                        4.8303,  3.2084,  5.4008,  7.1685,  5.4893,  8.6178,  3.7076,  5.0261,\n",
       "                        6.4316,  5.5290,  6.1749,  4.7627,  5.8928,  5.2005,  3.5786,  4.9301,\n",
       "                        4.6039,  7.9003,  2.5057,  1.2011,  4.1518,  3.6229,  4.6803,  3.2775,\n",
       "                        4.2312,  1.4442,  2.3728,  5.5425,  4.3146,  8.0107,  7.9259,  5.5699,\n",
       "                        8.9080,  2.4924,  2.5632,  5.7260,  8.0061,  0.7024,  6.3908,  0.7407,\n",
       "                        7.2961,  5.8747,  1.9360, 10.2399,  5.8433, 10.1749,  5.2477,  7.6781,\n",
       "                        4.5014, 11.2925,  2.9754,  3.5654,  3.9475,  8.0504,  5.0690,  1.8635,\n",
       "                        3.6430,  4.8083,  5.5781,  2.5915,  3.9283,  4.0140,  7.5996,  5.3543,\n",
       "                        4.7134,  5.4960,  5.9979,  1.5145,  5.5162,  7.3524,  6.1284,  2.9477,\n",
       "                       -0.2151,  5.4171, -0.0260,  2.6171,  5.0064,  3.5786,  9.7551,  3.1514,\n",
       "                        0.4548,  4.9382,  6.3573,  4.2137])})])"
      ]
     },
     "execution_count": 38,
     "metadata": {},
     "output_type": "execute_result"
    }
   ],
   "source": [
    "blocked_trace.nodes"
   ]
  },
  {
   "cell_type": "code",
   "execution_count": 58,
   "metadata": {},
   "outputs": [
    {
     "data": {
      "text/plain": [
       "OrderedDict([('_INPUT',\n",
       "              {'name': '_INPUT',\n",
       "               'type': 'args',\n",
       "               'args': (tensor([ 5.3606,  2.3661,  4.7863,  5.4606,  4.7806,  3.8014,  5.5489,  5.8429,\n",
       "                         7.5138,  5.5811,  6.4055,  3.6548,  1.9198,  6.3644,  8.0814,  6.3635,\n",
       "                         4.8303,  3.2084,  5.4008,  7.1685,  5.4893,  8.6178,  3.7076,  5.0261,\n",
       "                         6.4316,  5.5290,  6.1749,  4.7627,  5.8928,  5.2005,  3.5786,  4.9301,\n",
       "                         4.6039,  7.9003,  2.5057,  1.2011,  4.1518,  3.6229,  4.6803,  3.2775,\n",
       "                         4.2312,  1.4442,  2.3728,  5.5425,  4.3146,  8.0107,  7.9259,  5.5699,\n",
       "                         8.9080,  2.4924,  2.5632,  5.7260,  8.0061,  0.7024,  6.3908,  0.7407,\n",
       "                         7.2961,  5.8747,  1.9360, 10.2399,  5.8433, 10.1749,  5.2477,  7.6781,\n",
       "                         4.5014, 11.2925,  2.9754,  3.5654,  3.9475,  8.0504,  5.0690,  1.8635,\n",
       "                         3.6430,  4.8083,  5.5781,  2.5915,  3.9283,  4.0140,  7.5996,  5.3543,\n",
       "                         4.7134,  5.4960,  5.9979,  1.5145,  5.5162,  7.3524,  6.1284,  2.9477,\n",
       "                        -0.2151,  5.4171, -0.0260,  2.6171,  5.0064,  3.5786,  9.7551,  3.1514,\n",
       "                         0.4548,  4.9382,  6.3573,  4.2137]),),\n",
       "               'kwargs': {}}),\n",
       "             ('s',\n",
       "              {'type': 'sample',\n",
       "               'name': 's',\n",
       "               'fn': Uniform(low: tensor([0.]), high: tensor([1.1009], grad_fn=<AbsBackward0>)),\n",
       "               'is_observed': False,\n",
       "               'args': (),\n",
       "               'kwargs': {},\n",
       "               'value': tensor([0.3384], grad_fn=<AddBackward0>),\n",
       "               'infer': {},\n",
       "               'scale': 1.0,\n",
       "               'mask': None,\n",
       "               'cond_indep_stack': (),\n",
       "               'done': True,\n",
       "               'stop': False,\n",
       "               'continuation': None,\n",
       "               'unscaled_log_prob': tensor([-0.0961], grad_fn=<SubBackward0>),\n",
       "               'log_prob': tensor([-0.0961], grad_fn=<SubBackward0>),\n",
       "               'log_prob_sum': tensor(-0.0961, grad_fn=<SumBackward0>)}),\n",
       "             ('data',\n",
       "              {'type': 'sample',\n",
       "               'name': 'data',\n",
       "               'fn': <pyro.poutine.subsample_messenger._Subsample at 0x7ff584558580>,\n",
       "               'is_observed': False,\n",
       "               'args': (),\n",
       "               'kwargs': {},\n",
       "               'value': tensor([ 0,  1,  2,  3,  4,  5,  6,  7,  8,  9, 10, 11, 12, 13, 14, 15, 16, 17,\n",
       "                       18, 19, 20, 21, 22, 23, 24, 25, 26, 27, 28, 29, 30, 31, 32, 33, 34, 35,\n",
       "                       36, 37, 38, 39, 40, 41, 42, 43, 44, 45, 46, 47, 48, 49, 50, 51, 52, 53,\n",
       "                       54, 55, 56, 57, 58, 59, 60, 61, 62, 63, 64, 65, 66, 67, 68, 69, 70, 71,\n",
       "                       72, 73, 74, 75, 76, 77, 78, 79, 80, 81, 82, 83, 84, 85, 86, 87, 88, 89,\n",
       "                       90, 91, 92, 93, 94, 95, 96, 97, 98, 99]),\n",
       "               'infer': {},\n",
       "               'scale': 1.0,\n",
       "               'mask': None,\n",
       "               'cond_indep_stack': (),\n",
       "               'done': True,\n",
       "               'stop': False,\n",
       "               'continuation': None,\n",
       "               'unscaled_log_prob': tensor(0.),\n",
       "               'log_prob': tensor(0.),\n",
       "               'log_prob_sum': tensor(0.)}),\n",
       "             ('obs',\n",
       "              {'type': 'sample',\n",
       "               'name': 'obs',\n",
       "               'fn': Normal(loc: torch.Size([100]), scale: torch.Size([100])),\n",
       "               'is_observed': True,\n",
       "               'args': (),\n",
       "               'kwargs': {},\n",
       "               'value': tensor([ 5.3606,  2.3661,  4.7863,  5.4606,  4.7806,  3.8014,  5.5489,  5.8429,\n",
       "                        7.5138,  5.5811,  6.4055,  3.6548,  1.9198,  6.3644,  8.0814,  6.3635,\n",
       "                        4.8303,  3.2084,  5.4008,  7.1685,  5.4893,  8.6178,  3.7076,  5.0261,\n",
       "                        6.4316,  5.5290,  6.1749,  4.7627,  5.8928,  5.2005,  3.5786,  4.9301,\n",
       "                        4.6039,  7.9003,  2.5057,  1.2011,  4.1518,  3.6229,  4.6803,  3.2775,\n",
       "                        4.2312,  1.4442,  2.3728,  5.5425,  4.3146,  8.0107,  7.9259,  5.5699,\n",
       "                        8.9080,  2.4924,  2.5632,  5.7260,  8.0061,  0.7024,  6.3908,  0.7407,\n",
       "                        7.2961,  5.8747,  1.9360, 10.2399,  5.8433, 10.1749,  5.2477,  7.6781,\n",
       "                        4.5014, 11.2925,  2.9754,  3.5654,  3.9475,  8.0504,  5.0690,  1.8635,\n",
       "                        3.6430,  4.8083,  5.5781,  2.5915,  3.9283,  4.0140,  7.5996,  5.3543,\n",
       "                        4.7134,  5.4960,  5.9979,  1.5145,  5.5162,  7.3524,  6.1284,  2.9477,\n",
       "                       -0.2151,  5.4171, -0.0260,  2.6171,  5.0064,  3.5786,  9.7551,  3.1514,\n",
       "                        0.4548,  4.9382,  6.3573,  4.2137]),\n",
       "               'infer': {},\n",
       "               'scale': 1.0,\n",
       "               'mask': None,\n",
       "               'cond_indep_stack': (CondIndepStackFrame(name='data', dim=-1, size=100, counter=0),),\n",
       "               'done': True,\n",
       "               'stop': False,\n",
       "               'continuation': None,\n",
       "               'unscaled_log_prob': tensor([-7.9052e+01, -6.8237e+00, -5.9132e+01, -8.2813e+01, -5.8947e+01,\n",
       "                       -3.1674e+01, -8.6209e+01, -9.8003e+01, -1.7937e+02, -8.7465e+01,\n",
       "                       -1.2268e+02, -2.8311e+01, -2.7636e+00, -1.2078e+02, -2.1256e+02,\n",
       "                       -1.2074e+02, -6.0556e+01, -1.9226e+01, -8.0554e+01, -1.6056e+02,\n",
       "                       -8.3910e+01, -2.4651e+02, -2.9501e+01, -6.7099e+01, -1.2389e+02,\n",
       "                       -8.5436e+01, -1.1223e+02, -5.8373e+01, -1.0008e+02, -7.3207e+01,\n",
       "                       -2.6638e+01, -6.3847e+01, -5.3406e+01, -2.0166e+02, -8.4507e+00,\n",
       "                        1.2068e-01, -4.0472e+01, -2.7603e+01, -5.5768e+01, -2.0518e+01,\n",
       "                       -4.2613e+01, -3.5012e-01, -6.8980e+00, -8.5960e+01, -4.4924e+01,\n",
       "                       -2.0827e+02, -2.0319e+02, -8.7027e+01, -2.6592e+02, -8.2893e+00,\n",
       "                       -9.1712e+00, -9.3222e+01, -2.0799e+02, -5.2860e-01, -1.2200e+02,\n",
       "                       -4.0165e-01, -1.6739e+02, -9.9324e+01, -2.8803e+00, -3.6445e+02,\n",
       "                       -9.8020e+01, -3.5929e+02, -7.4906e+01, -1.8869e+02, -5.0318e+01,\n",
       "                       -4.5329e+02, -1.5176e+01, -2.6351e+01, -3.5210e+01, -2.1068e+02,\n",
       "                       -6.8576e+01, -2.3743e+00, -2.8049e+01, -5.9841e+01, -8.7347e+01,\n",
       "                       -9.5364e+00, -3.4736e+01, -3.6883e+01, -1.8421e+02, -7.8817e+01,\n",
       "                       -5.6810e+01, -8.4165e+01, -1.0453e+02, -5.8229e-01, -8.4942e+01,\n",
       "                       -1.7045e+02, -1.1018e+02, -1.4725e+01, -7.3952e+00, -8.1165e+01,\n",
       "                       -5.3789e+00, -9.8713e+00, -6.6423e+01, -2.6637e+01, -3.2680e+02,\n",
       "                       -1.8192e+01, -1.6574e+00, -6.4121e+01, -1.2046e+02, -4.2138e+01],\n",
       "                      grad_fn=<SubBackward0>),\n",
       "               'log_prob': tensor([-7.9052e+01, -6.8237e+00, -5.9132e+01, -8.2813e+01, -5.8947e+01,\n",
       "                       -3.1674e+01, -8.6209e+01, -9.8003e+01, -1.7937e+02, -8.7465e+01,\n",
       "                       -1.2268e+02, -2.8311e+01, -2.7636e+00, -1.2078e+02, -2.1256e+02,\n",
       "                       -1.2074e+02, -6.0556e+01, -1.9226e+01, -8.0554e+01, -1.6056e+02,\n",
       "                       -8.3910e+01, -2.4651e+02, -2.9501e+01, -6.7099e+01, -1.2389e+02,\n",
       "                       -8.5436e+01, -1.1223e+02, -5.8373e+01, -1.0008e+02, -7.3207e+01,\n",
       "                       -2.6638e+01, -6.3847e+01, -5.3406e+01, -2.0166e+02, -8.4507e+00,\n",
       "                        1.2068e-01, -4.0472e+01, -2.7603e+01, -5.5768e+01, -2.0518e+01,\n",
       "                       -4.2613e+01, -3.5012e-01, -6.8980e+00, -8.5960e+01, -4.4924e+01,\n",
       "                       -2.0827e+02, -2.0319e+02, -8.7027e+01, -2.6592e+02, -8.2893e+00,\n",
       "                       -9.1712e+00, -9.3222e+01, -2.0799e+02, -5.2860e-01, -1.2200e+02,\n",
       "                       -4.0165e-01, -1.6739e+02, -9.9324e+01, -2.8803e+00, -3.6445e+02,\n",
       "                       -9.8020e+01, -3.5929e+02, -7.4906e+01, -1.8869e+02, -5.0318e+01,\n",
       "                       -4.5329e+02, -1.5176e+01, -2.6351e+01, -3.5210e+01, -2.1068e+02,\n",
       "                       -6.8576e+01, -2.3743e+00, -2.8049e+01, -5.9841e+01, -8.7347e+01,\n",
       "                       -9.5364e+00, -3.4736e+01, -3.6883e+01, -1.8421e+02, -7.8817e+01,\n",
       "                       -5.6810e+01, -8.4165e+01, -1.0453e+02, -5.8229e-01, -8.4942e+01,\n",
       "                       -1.7045e+02, -1.1018e+02, -1.4725e+01, -7.3952e+00, -8.1165e+01,\n",
       "                       -5.3789e+00, -9.8713e+00, -6.6423e+01, -2.6637e+01, -3.2680e+02,\n",
       "                       -1.8192e+01, -1.6574e+00, -6.4121e+01, -1.2046e+02, -4.2138e+01],\n",
       "                      grad_fn=<SubBackward0>),\n",
       "               'log_prob_sum': tensor(-8696.4180, grad_fn=<SumBackward0>)}),\n",
       "             ('_RETURN',\n",
       "              {'name': '_RETURN',\n",
       "               'type': 'return',\n",
       "               'value': tensor([ 5.3606,  2.3661,  4.7863,  5.4606,  4.7806,  3.8014,  5.5489,  5.8429,\n",
       "                        7.5138,  5.5811,  6.4055,  3.6548,  1.9198,  6.3644,  8.0814,  6.3635,\n",
       "                        4.8303,  3.2084,  5.4008,  7.1685,  5.4893,  8.6178,  3.7076,  5.0261,\n",
       "                        6.4316,  5.5290,  6.1749,  4.7627,  5.8928,  5.2005,  3.5786,  4.9301,\n",
       "                        4.6039,  7.9003,  2.5057,  1.2011,  4.1518,  3.6229,  4.6803,  3.2775,\n",
       "                        4.2312,  1.4442,  2.3728,  5.5425,  4.3146,  8.0107,  7.9259,  5.5699,\n",
       "                        8.9080,  2.4924,  2.5632,  5.7260,  8.0061,  0.7024,  6.3908,  0.7407,\n",
       "                        7.2961,  5.8747,  1.9360, 10.2399,  5.8433, 10.1749,  5.2477,  7.6781,\n",
       "                        4.5014, 11.2925,  2.9754,  3.5654,  3.9475,  8.0504,  5.0690,  1.8635,\n",
       "                        3.6430,  4.8083,  5.5781,  2.5915,  3.9283,  4.0140,  7.5996,  5.3543,\n",
       "                        4.7134,  5.4960,  5.9979,  1.5145,  5.5162,  7.3524,  6.1284,  2.9477,\n",
       "                       -0.2151,  5.4171, -0.0260,  2.6171,  5.0064,  3.5786,  9.7551,  3.1514,\n",
       "                        0.4548,  4.9382,  6.3573,  4.2137])})])"
      ]
     },
     "execution_count": 58,
     "metadata": {},
     "output_type": "execute_result"
    }
   ],
   "source": [
    "pyro.clear_param_store()\n",
    "pyro.set_rng_seed(0)\n",
    "torch.manual_seed(0)\n",
    "blocked_model = poutine.block(model, hide=[\"p\", \"mu\"])\n",
    "blocked_trace = poutine.trace(blocked_model).get_trace(x)\n",
    "blocked_trace.compute_log_prob()\n",
    "blocked_trace.nodes"
   ]
  },
  {
   "cell_type": "code",
   "execution_count": 59,
   "metadata": {},
   "outputs": [
    {
     "data": {
      "text/plain": [
       "tensor(-8696.5137, grad_fn=<AddBackward0>)"
      ]
     },
     "execution_count": 59,
     "metadata": {},
     "output_type": "execute_result"
    }
   ],
   "source": [
    "blocked_trace.log_prob_sum()"
   ]
  },
  {
   "cell_type": "code",
   "execution_count": 56,
   "metadata": {},
   "outputs": [
    {
     "data": {
      "text/plain": [
       "OrderedDict([('_INPUT',\n",
       "              {'name': '_INPUT',\n",
       "               'type': 'args',\n",
       "               'args': (tensor([ 5.3606,  2.3661,  4.7863,  5.4606,  4.7806,  3.8014,  5.5489,  5.8429,\n",
       "                         7.5138,  5.5811,  6.4055,  3.6548,  1.9198,  6.3644,  8.0814,  6.3635,\n",
       "                         4.8303,  3.2084,  5.4008,  7.1685,  5.4893,  8.6178,  3.7076,  5.0261,\n",
       "                         6.4316,  5.5290,  6.1749,  4.7627,  5.8928,  5.2005,  3.5786,  4.9301,\n",
       "                         4.6039,  7.9003,  2.5057,  1.2011,  4.1518,  3.6229,  4.6803,  3.2775,\n",
       "                         4.2312,  1.4442,  2.3728,  5.5425,  4.3146,  8.0107,  7.9259,  5.5699,\n",
       "                         8.9080,  2.4924,  2.5632,  5.7260,  8.0061,  0.7024,  6.3908,  0.7407,\n",
       "                         7.2961,  5.8747,  1.9360, 10.2399,  5.8433, 10.1749,  5.2477,  7.6781,\n",
       "                         4.5014, 11.2925,  2.9754,  3.5654,  3.9475,  8.0504,  5.0690,  1.8635,\n",
       "                         3.6430,  4.8083,  5.5781,  2.5915,  3.9283,  4.0140,  7.5996,  5.3543,\n",
       "                         4.7134,  5.4960,  5.9979,  1.5145,  5.5162,  7.3524,  6.1284,  2.9477,\n",
       "                        -0.2151,  5.4171, -0.0260,  2.6171,  5.0064,  3.5786,  9.7551,  3.1514,\n",
       "                         0.4548,  4.9382,  6.3573,  4.2137]),),\n",
       "               'kwargs': {}}),\n",
       "             ('s',\n",
       "              {'type': 'sample',\n",
       "               'name': 's',\n",
       "               'fn': Uniform(low: tensor([0.]), high: tensor([1.1009], grad_fn=<AbsBackward0>)),\n",
       "               'is_observed': False,\n",
       "               'args': (),\n",
       "               'kwargs': {},\n",
       "               'value': tensor([0.3384], grad_fn=<AddBackward0>),\n",
       "               'infer': {},\n",
       "               'scale': 1.0,\n",
       "               'mask': None,\n",
       "               'cond_indep_stack': (),\n",
       "               'done': True,\n",
       "               'stop': False,\n",
       "               'continuation': None,\n",
       "               'unscaled_log_prob': tensor([-0.0961], grad_fn=<SubBackward0>),\n",
       "               'log_prob': tensor([-0.0961], grad_fn=<SubBackward0>),\n",
       "               'log_prob_sum': tensor(-0.0961, grad_fn=<SumBackward0>)}),\n",
       "             ('data',\n",
       "              {'type': 'sample',\n",
       "               'name': 'data',\n",
       "               'fn': <pyro.poutine.subsample_messenger._Subsample at 0x7ff583595f10>,\n",
       "               'is_observed': False,\n",
       "               'args': (),\n",
       "               'kwargs': {},\n",
       "               'value': tensor([ 0,  1,  2,  3,  4,  5,  6,  7,  8,  9, 10, 11, 12, 13, 14, 15, 16, 17,\n",
       "                       18, 19, 20, 21, 22, 23, 24, 25, 26, 27, 28, 29, 30, 31, 32, 33, 34, 35,\n",
       "                       36, 37, 38, 39, 40, 41, 42, 43, 44, 45, 46, 47, 48, 49, 50, 51, 52, 53,\n",
       "                       54, 55, 56, 57, 58, 59, 60, 61, 62, 63, 64, 65, 66, 67, 68, 69, 70, 71,\n",
       "                       72, 73, 74, 75, 76, 77, 78, 79, 80, 81, 82, 83, 84, 85, 86, 87, 88, 89,\n",
       "                       90, 91, 92, 93, 94, 95, 96, 97, 98, 99]),\n",
       "               'infer': {},\n",
       "               'scale': 1.0,\n",
       "               'mask': None,\n",
       "               'cond_indep_stack': (),\n",
       "               'done': True,\n",
       "               'stop': False,\n",
       "               'continuation': None,\n",
       "               'unscaled_log_prob': tensor(0.),\n",
       "               'log_prob': tensor(0.),\n",
       "               'log_prob_sum': tensor(0.)}),\n",
       "             ('_RETURN',\n",
       "              {'name': '_RETURN',\n",
       "               'type': 'return',\n",
       "               'value': tensor([ 5.3606,  2.3661,  4.7863,  5.4606,  4.7806,  3.8014,  5.5489,  5.8429,\n",
       "                        7.5138,  5.5811,  6.4055,  3.6548,  1.9198,  6.3644,  8.0814,  6.3635,\n",
       "                        4.8303,  3.2084,  5.4008,  7.1685,  5.4893,  8.6178,  3.7076,  5.0261,\n",
       "                        6.4316,  5.5290,  6.1749,  4.7627,  5.8928,  5.2005,  3.5786,  4.9301,\n",
       "                        4.6039,  7.9003,  2.5057,  1.2011,  4.1518,  3.6229,  4.6803,  3.2775,\n",
       "                        4.2312,  1.4442,  2.3728,  5.5425,  4.3146,  8.0107,  7.9259,  5.5699,\n",
       "                        8.9080,  2.4924,  2.5632,  5.7260,  8.0061,  0.7024,  6.3908,  0.7407,\n",
       "                        7.2961,  5.8747,  1.9360, 10.2399,  5.8433, 10.1749,  5.2477,  7.6781,\n",
       "                        4.5014, 11.2925,  2.9754,  3.5654,  3.9475,  8.0504,  5.0690,  1.8635,\n",
       "                        3.6430,  4.8083,  5.5781,  2.5915,  3.9283,  4.0140,  7.5996,  5.3543,\n",
       "                        4.7134,  5.4960,  5.9979,  1.5145,  5.5162,  7.3524,  6.1284,  2.9477,\n",
       "                       -0.2151,  5.4171, -0.0260,  2.6171,  5.0064,  3.5786,  9.7551,  3.1514,\n",
       "                        0.4548,  4.9382,  6.3573,  4.2137])})])"
      ]
     },
     "execution_count": 56,
     "metadata": {},
     "output_type": "execute_result"
    }
   ],
   "source": [
    "pyro.clear_param_store()\n",
    "pyro.set_rng_seed(0)\n",
    "torch.manual_seed(0)\n",
    "blocked_model = poutine.block(model, hide=[\"p\", \"mu\", \"obs\"])\n",
    "blocked_trace = poutine.trace(blocked_model).get_trace(x)\n",
    "blocked_trace.compute_log_prob()\n",
    "blocked_trace.nodes"
   ]
  },
  {
   "cell_type": "code",
   "execution_count": 57,
   "metadata": {},
   "outputs": [
    {
     "data": {
      "text/plain": [
       "tensor(-0.0961, grad_fn=<AddBackward0>)"
      ]
     },
     "execution_count": 57,
     "metadata": {},
     "output_type": "execute_result"
    }
   ],
   "source": [
    "blocked_trace.log_prob_sum()"
   ]
  },
  {
   "cell_type": "code",
   "execution_count": 60,
   "metadata": {},
   "outputs": [
    {
     "data": {
      "text/plain": [
       "-8696.5141"
      ]
     },
     "execution_count": 60,
     "metadata": {},
     "output_type": "execute_result"
    }
   ],
   "source": [
    "-8696.4180 -0.0961"
   ]
  },
  {
   "cell_type": "code",
   "execution_count": 61,
   "metadata": {},
   "outputs": [
    {
     "data": {
      "text/plain": [
       "OrderedDict([('_INPUT',\n",
       "              {'name': '_INPUT',\n",
       "               'type': 'args',\n",
       "               'args': (tensor([ 5.3606,  2.3661,  4.7863,  5.4606,  4.7806,  3.8014,  5.5489,  5.8429,\n",
       "                         7.5138,  5.5811,  6.4055,  3.6548,  1.9198,  6.3644,  8.0814,  6.3635,\n",
       "                         4.8303,  3.2084,  5.4008,  7.1685,  5.4893,  8.6178,  3.7076,  5.0261,\n",
       "                         6.4316,  5.5290,  6.1749,  4.7627,  5.8928,  5.2005,  3.5786,  4.9301,\n",
       "                         4.6039,  7.9003,  2.5057,  1.2011,  4.1518,  3.6229,  4.6803,  3.2775,\n",
       "                         4.2312,  1.4442,  2.3728,  5.5425,  4.3146,  8.0107,  7.9259,  5.5699,\n",
       "                         8.9080,  2.4924,  2.5632,  5.7260,  8.0061,  0.7024,  6.3908,  0.7407,\n",
       "                         7.2961,  5.8747,  1.9360, 10.2399,  5.8433, 10.1749,  5.2477,  7.6781,\n",
       "                         4.5014, 11.2925,  2.9754,  3.5654,  3.9475,  8.0504,  5.0690,  1.8635,\n",
       "                         3.6430,  4.8083,  5.5781,  2.5915,  3.9283,  4.0140,  7.5996,  5.3543,\n",
       "                         4.7134,  5.4960,  5.9979,  1.5145,  5.5162,  7.3524,  6.1284,  2.9477,\n",
       "                        -0.2151,  5.4171, -0.0260,  2.6171,  5.0064,  3.5786,  9.7551,  3.1514,\n",
       "                         0.4548,  4.9382,  6.3573,  4.2137]),),\n",
       "               'kwargs': {}}),\n",
       "             ('p',\n",
       "              {'type': 'param',\n",
       "               'name': 'p',\n",
       "               'fn': <bound method ParamStoreDict.get_param of <pyro.params.param_store.ParamStoreDict object at 0x7ff58caefb80>>,\n",
       "               'is_observed': False,\n",
       "               'args': ('p', <function __main__.model.<locals>.<lambda>()>),\n",
       "               'kwargs': {'constraint': Real(), 'event_dim': None},\n",
       "               'value': tensor([1.5410], requires_grad=True),\n",
       "               'scale': 1.0,\n",
       "               'mask': None,\n",
       "               'cond_indep_stack': (),\n",
       "               'done': True,\n",
       "               'stop': False,\n",
       "               'continuation': None,\n",
       "               'infer': {}}),\n",
       "             ('_RETURN',\n",
       "              {'name': '_RETURN',\n",
       "               'type': 'return',\n",
       "               'value': tensor([ 5.3606,  2.3661,  4.7863,  5.4606,  4.7806,  3.8014,  5.5489,  5.8429,\n",
       "                        7.5138,  5.5811,  6.4055,  3.6548,  1.9198,  6.3644,  8.0814,  6.3635,\n",
       "                        4.8303,  3.2084,  5.4008,  7.1685,  5.4893,  8.6178,  3.7076,  5.0261,\n",
       "                        6.4316,  5.5290,  6.1749,  4.7627,  5.8928,  5.2005,  3.5786,  4.9301,\n",
       "                        4.6039,  7.9003,  2.5057,  1.2011,  4.1518,  3.6229,  4.6803,  3.2775,\n",
       "                        4.2312,  1.4442,  2.3728,  5.5425,  4.3146,  8.0107,  7.9259,  5.5699,\n",
       "                        8.9080,  2.4924,  2.5632,  5.7260,  8.0061,  0.7024,  6.3908,  0.7407,\n",
       "                        7.2961,  5.8747,  1.9360, 10.2399,  5.8433, 10.1749,  5.2477,  7.6781,\n",
       "                        4.5014, 11.2925,  2.9754,  3.5654,  3.9475,  8.0504,  5.0690,  1.8635,\n",
       "                        3.6430,  4.8083,  5.5781,  2.5915,  3.9283,  4.0140,  7.5996,  5.3543,\n",
       "                        4.7134,  5.4960,  5.9979,  1.5145,  5.5162,  7.3524,  6.1284,  2.9477,\n",
       "                       -0.2151,  5.4171, -0.0260,  2.6171,  5.0064,  3.5786,  9.7551,  3.1514,\n",
       "                        0.4548,  4.9382,  6.3573,  4.2137])})])"
      ]
     },
     "execution_count": 61,
     "metadata": {},
     "output_type": "execute_result"
    }
   ],
   "source": [
    "pyro.clear_param_store()\n",
    "pyro.set_rng_seed(0)\n",
    "torch.manual_seed(0)\n",
    "blocked_model = poutine.block(model, hide_fn=lambda msg: msg[\"type\"] == \"sample\")\n",
    "blocked_trace = poutine.trace(blocked_model).get_trace(x)\n",
    "blocked_trace.compute_log_prob()\n",
    "blocked_trace.nodes"
   ]
  },
  {
   "cell_type": "code",
   "execution_count": 62,
   "metadata": {},
   "outputs": [
    {
     "data": {
      "text/plain": [
       "0.0"
      ]
     },
     "execution_count": 62,
     "metadata": {},
     "output_type": "execute_result"
    }
   ],
   "source": [
    "blocked_trace.log_prob_sum()"
   ]
  },
  {
   "cell_type": "code",
   "execution_count": 84,
   "metadata": {},
   "outputs": [],
   "source": [
    "def model():\n",
    "    n, d = 100, 50\n",
    "    x = torch.randn(n, d)\n",
    "    y = torch.randn(n)\n",
    "    p = pyro.param(\"p\", torch.randn((d, )))\n",
    "    \n",
    "    s = pyro.sample(\"s\", dist.LogNormal(0, 10.))\n",
    "\n",
    "    with pyro.plate(\"data\", n):\n",
    "        mu = pyro.sample(\"mu\", dist.Normal(x @ p, torch.tensor(1.)))\n",
    "        obs = pyro.sample(\"obs\", dist.Normal(mu, s), obs=y)\n",
    "    \n",
    "    return obs"
   ]
  },
  {
   "cell_type": "code",
   "execution_count": 87,
   "metadata": {},
   "outputs": [],
   "source": [
    "pyro.clear_param_store()\n",
    "pyro.set_rng_seed(0)\n",
    "torch.manual_seed(0)\n",
    "trace = poutine.trace(model).get_trace()\n",
    "trace.compute_log_prob()"
   ]
  },
  {
   "cell_type": "code",
   "execution_count": 88,
   "metadata": {},
   "outputs": [
    {
     "data": {
      "text/plain": [
       "OrderedDict([('_INPUT',\n",
       "              {'name': '_INPUT', 'type': 'args', 'args': (), 'kwargs': {}}),\n",
       "             ('p',\n",
       "              {'type': 'param',\n",
       "               'name': 'p',\n",
       "               'fn': <bound method ParamStoreDict.get_param of <pyro.params.param_store.ParamStoreDict object at 0x7ff58caefb80>>,\n",
       "               'is_observed': False,\n",
       "               'args': ('p',\n",
       "                tensor([-1.0768, -0.2064,  1.6145, -0.7608, -0.2477,  0.8676,  0.3162,  1.4760,\n",
       "                         2.1844, -1.0102, -0.8100, -0.5154, -2.0127,  1.1668, -2.3918,  0.2562,\n",
       "                        -1.1708, -1.0753, -0.3450, -0.0816, -1.1515, -1.8388, -2.2352, -0.7290,\n",
       "                        -2.0795,  1.1382,  1.1847, -0.2417, -2.2050,  0.1879, -1.2202, -1.3615,\n",
       "                        -0.0945,  0.2903,  1.5134,  1.2463,  1.2842,  0.6412, -1.0515,  1.0107,\n",
       "                        -0.9904, -2.4436,  1.4533, -0.2001, -1.1807,  0.4489, -1.3836,  0.6680,\n",
       "                        -1.6093, -1.2903], requires_grad=True)),\n",
       "               'kwargs': {'constraint': Real(), 'event_dim': None},\n",
       "               'value': tensor([-1.0768, -0.2064,  1.6145, -0.7608, -0.2477,  0.8676,  0.3162,  1.4760,\n",
       "                        2.1844, -1.0102, -0.8100, -0.5154, -2.0127,  1.1668, -2.3918,  0.2562,\n",
       "                       -1.1708, -1.0753, -0.3450, -0.0816, -1.1515, -1.8388, -2.2352, -0.7290,\n",
       "                       -2.0795,  1.1382,  1.1847, -0.2417, -2.2050,  0.1879, -1.2202, -1.3615,\n",
       "                       -0.0945,  0.2903,  1.5134,  1.2463,  1.2842,  0.6412, -1.0515,  1.0107,\n",
       "                       -0.9904, -2.4436,  1.4533, -0.2001, -1.1807,  0.4489, -1.3836,  0.6680,\n",
       "                       -1.6093, -1.2903], requires_grad=True),\n",
       "               'scale': 1.0,\n",
       "               'mask': None,\n",
       "               'cond_indep_stack': (),\n",
       "               'done': True,\n",
       "               'stop': False,\n",
       "               'continuation': None,\n",
       "               'infer': {}}),\n",
       "             ('s',\n",
       "              {'type': 'sample',\n",
       "               'name': 's',\n",
       "               'fn': LogNormal(),\n",
       "               'is_observed': False,\n",
       "               'args': (),\n",
       "               'kwargs': {},\n",
       "               'value': tensor(7879.1577),\n",
       "               'infer': {},\n",
       "               'scale': 1.0,\n",
       "               'mask': None,\n",
       "               'cond_indep_stack': (),\n",
       "               'done': True,\n",
       "               'stop': False,\n",
       "               'continuation': None,\n",
       "               'unscaled_log_prob': tensor(-12.5960),\n",
       "               'log_prob': tensor(-12.5960),\n",
       "               'log_prob_sum': tensor(-12.5960)}),\n",
       "             ('data',\n",
       "              {'type': 'sample',\n",
       "               'name': 'data',\n",
       "               'fn': <pyro.poutine.subsample_messenger._Subsample at 0x7ff582858eb0>,\n",
       "               'is_observed': False,\n",
       "               'args': (),\n",
       "               'kwargs': {},\n",
       "               'value': tensor([ 0,  1,  2,  3,  4,  5,  6,  7,  8,  9, 10, 11, 12, 13, 14, 15, 16, 17,\n",
       "                       18, 19, 20, 21, 22, 23, 24, 25, 26, 27, 28, 29, 30, 31, 32, 33, 34, 35,\n",
       "                       36, 37, 38, 39, 40, 41, 42, 43, 44, 45, 46, 47, 48, 49, 50, 51, 52, 53,\n",
       "                       54, 55, 56, 57, 58, 59, 60, 61, 62, 63, 64, 65, 66, 67, 68, 69, 70, 71,\n",
       "                       72, 73, 74, 75, 76, 77, 78, 79, 80, 81, 82, 83, 84, 85, 86, 87, 88, 89,\n",
       "                       90, 91, 92, 93, 94, 95, 96, 97, 98, 99]),\n",
       "               'infer': {},\n",
       "               'scale': 1.0,\n",
       "               'mask': None,\n",
       "               'cond_indep_stack': (),\n",
       "               'done': True,\n",
       "               'stop': False,\n",
       "               'continuation': None,\n",
       "               'unscaled_log_prob': tensor(0.),\n",
       "               'log_prob': tensor(0.),\n",
       "               'log_prob_sum': tensor(0.)}),\n",
       "             ('mu',\n",
       "              {'type': 'sample',\n",
       "               'name': 'mu',\n",
       "               'fn': Normal(loc: torch.Size([100]), scale: torch.Size([100])),\n",
       "               'is_observed': False,\n",
       "               'args': (),\n",
       "               'kwargs': {},\n",
       "               'value': tensor([ -5.8189,  -0.9439,   5.4694,  -1.8790,   7.6725, -12.3746,   9.0409,\n",
       "                        -5.1402,   2.6480,  17.1082,   6.9912,  -2.9309,   4.0106,   3.4522,\n",
       "                        14.9682,  -4.7907,  24.1639, -11.6333,  -2.8537,   2.2339, -10.5701,\n",
       "                        -7.3159,  -0.6007,   4.6200,  -4.1711,   5.6707,  13.9093,  -4.3173,\n",
       "                         4.9054,   4.3582,  -6.2217,  -1.4156,  -2.4095,  -3.0377,   2.2148,\n",
       "                        -8.1444,   4.6846, -14.5297,   5.8615, -13.6198,   4.8926,   0.2188,\n",
       "                        -3.4117,   2.7990,  -4.2379,   3.1736,   8.2992, -13.5051,  17.5293,\n",
       "                        -1.6168,  11.3880,   6.6575,   2.0328,   5.4878, -13.4271,   2.2162,\n",
       "                        -1.7192,  -3.4664,  -9.4252,  -0.4257,  11.2026,   8.5265, -22.7070,\n",
       "                        -3.9001,  -7.1820,  14.6245,   6.6845,  -9.3604, -20.2112,  -4.5439,\n",
       "                        11.7549,  -5.2926,   5.8765,  -6.5974,   6.5445, -20.4104, -16.0463,\n",
       "                         5.1401,  -3.3998,  -5.3245,   5.8045,  -3.6810,  -4.1583,  11.5745,\n",
       "                        -3.9032,   2.8043,  -2.6357,   4.0503,  -2.5822,   6.5171,  -7.0495,\n",
       "                         9.3276,   2.2226,  10.8491,   0.2647,  -4.0595,  -5.8215,  -3.1620,\n",
       "                         4.2343,  -1.3044], grad_fn=<AddBackward0>),\n",
       "               'infer': {},\n",
       "               'scale': 1.0,\n",
       "               'mask': None,\n",
       "               'cond_indep_stack': (CondIndepStackFrame(name='data', dim=-1, size=100, counter=0),),\n",
       "               'done': True,\n",
       "               'stop': False,\n",
       "               'continuation': None,\n",
       "               'unscaled_log_prob': tensor([-5.3288, -1.2992, -1.1513, -0.9869, -1.0951, -0.9392, -1.7663, -0.9196,\n",
       "                       -0.9323, -1.6553, -2.9321, -1.9922, -4.3565, -1.5035, -1.0486, -1.4586,\n",
       "                       -0.9361, -0.9189, -0.9578, -2.1461, -2.5899, -0.9196, -0.9197, -1.0087,\n",
       "                       -0.9427, -1.5688, -0.9524, -2.2010, -1.6246, -1.0116, -0.9540, -1.0578,\n",
       "                       -1.4888, -1.9154, -1.1295, -0.9934, -0.9845, -0.9189, -2.0306, -1.0336,\n",
       "                       -0.9570, -2.4371, -0.9619, -2.9953, -2.2815, -1.3322, -0.9263, -0.9813,\n",
       "                       -0.9242, -1.1737, -0.9699, -1.2071, -1.5655, -0.9744, -1.0685, -1.3982,\n",
       "                       -1.0037, -1.1195, -1.1922, -1.3815, -1.3270, -1.0104, -1.2039, -1.0410,\n",
       "                       -1.5518, -1.2367, -0.9694, -1.8521, -1.1708, -0.9733, -1.0312, -4.5464,\n",
       "                       -1.1091, -1.1651, -1.0482, -2.4163, -2.0377, -0.9503, -0.9260, -0.9996,\n",
       "                       -0.9999, -1.1277, -1.7957, -1.1766, -1.4731, -1.0516, -1.8437, -3.0871,\n",
       "                       -1.4449, -0.9373, -1.1117, -1.9850, -0.9789, -1.5034, -0.9284, -1.4249,\n",
       "                       -1.8164, -1.1853, -1.0057, -0.9262], grad_fn=<SubBackward0>),\n",
       "               'log_prob': tensor([-5.3288, -1.2992, -1.1513, -0.9869, -1.0951, -0.9392, -1.7663, -0.9196,\n",
       "                       -0.9323, -1.6553, -2.9321, -1.9922, -4.3565, -1.5035, -1.0486, -1.4586,\n",
       "                       -0.9361, -0.9189, -0.9578, -2.1461, -2.5899, -0.9196, -0.9197, -1.0087,\n",
       "                       -0.9427, -1.5688, -0.9524, -2.2010, -1.6246, -1.0116, -0.9540, -1.0578,\n",
       "                       -1.4888, -1.9154, -1.1295, -0.9934, -0.9845, -0.9189, -2.0306, -1.0336,\n",
       "                       -0.9570, -2.4371, -0.9619, -2.9953, -2.2815, -1.3322, -0.9263, -0.9813,\n",
       "                       -0.9242, -1.1737, -0.9699, -1.2071, -1.5655, -0.9744, -1.0685, -1.3982,\n",
       "                       -1.0037, -1.1195, -1.1922, -1.3815, -1.3270, -1.0104, -1.2039, -1.0410,\n",
       "                       -1.5518, -1.2367, -0.9694, -1.8521, -1.1708, -0.9733, -1.0312, -4.5464,\n",
       "                       -1.1091, -1.1651, -1.0482, -2.4163, -2.0377, -0.9503, -0.9260, -0.9996,\n",
       "                       -0.9999, -1.1277, -1.7957, -1.1766, -1.4731, -1.0516, -1.8437, -3.0871,\n",
       "                       -1.4449, -0.9373, -1.1117, -1.9850, -0.9789, -1.5034, -0.9284, -1.4249,\n",
       "                       -1.8164, -1.1853, -1.0057, -0.9262], grad_fn=<SubBackward0>),\n",
       "               'log_prob_sum': tensor(-143.7902, grad_fn=<SumBackward0>)}),\n",
       "             ('obs',\n",
       "              {'type': 'sample',\n",
       "               'name': 'obs',\n",
       "               'fn': Normal(loc: torch.Size([100]), scale: torch.Size([100])),\n",
       "               'is_observed': True,\n",
       "               'args': (),\n",
       "               'kwargs': {},\n",
       "               'value': tensor([-2.1622e-01,  1.1429e+00, -1.1941e+00, -4.5405e-01,  1.1093e+00,\n",
       "                       -7.6403e-01,  9.0433e-01,  7.2556e-01,  1.7199e-01,  7.5765e-01,\n",
       "                       -1.1577e+00,  4.9287e-01, -1.0117e+00, -4.4190e-01,  5.8262e-01,\n",
       "                        6.7811e-01,  6.6600e-02, -8.2076e-01,  3.9079e-01, -6.0642e-01,\n",
       "                        1.0430e+00,  5.3715e-01, -3.7142e-04, -2.1958e+00,  7.3682e-01,\n",
       "                        1.4199e+00, -4.8715e-01, -5.1492e-01, -8.3614e-01,  2.1074e-01,\n",
       "                       -7.6517e-01,  1.1447e+00, -1.6897e-01,  8.1874e-01,  1.7329e-01,\n",
       "                        1.8932e+00,  9.6315e-01,  1.1630e-01, -1.5593e+00, -1.7994e+00,\n",
       "                       -6.0627e-01, -5.4790e-02, -5.4473e-02, -3.9481e-01, -3.2798e-01,\n",
       "                       -7.7617e-02, -1.6793e+00,  4.8466e-01, -1.1538e+00, -3.8882e-01,\n",
       "                        1.5016e+00, -2.6877e-01, -1.3828e+00, -5.9227e-01,  3.6397e-01,\n",
       "                       -1.1891e+00, -3.6396e-01, -7.3487e-01,  6.3302e-01,  1.1717e+00,\n",
       "                        1.1080e-01,  2.0265e-01, -7.8402e-01,  1.6561e+00, -1.4234e+00,\n",
       "                       -9.8623e-01, -1.4693e+00, -5.3286e-01,  1.1625e+00,  1.5849e-01,\n",
       "                       -8.9962e-02,  5.0410e-01, -1.7201e+00, -2.4500e-01, -4.6105e-01,\n",
       "                        1.9069e-01, -6.3790e-01, -1.0171e-02, -3.7311e-01, -3.7786e-01,\n",
       "                       -6.6426e-02,  3.5033e-01, -1.3409e+00,  4.1918e-01, -6.9368e-01,\n",
       "                        1.4002e+00, -1.0164e+00,  7.4870e-01,  3.5325e-01, -1.3168e-01,\n",
       "                       -1.6393e+00, -2.4469e+00,  9.6698e-01,  4.8602e-01, -1.3325e+00,\n",
       "                        1.0231e+00,  6.7554e-01, -1.5183e-01,  5.0412e-01,  5.3099e-01]),\n",
       "               'infer': {},\n",
       "               'scale': 1.0,\n",
       "               'mask': None,\n",
       "               'cond_indep_stack': (CondIndepStackFrame(name='data', dim=-1, size=100, counter=0),),\n",
       "               'done': True,\n",
       "               'stop': False,\n",
       "               'continuation': None,\n",
       "               'unscaled_log_prob': tensor([-9.8909, -9.8909, -9.8909, -9.8909, -9.8909, -9.8909, -9.8909, -9.8909,\n",
       "                       -9.8909, -9.8909, -9.8909, -9.8909, -9.8909, -9.8909, -9.8909, -9.8909,\n",
       "                       -9.8909, -9.8909, -9.8909, -9.8909, -9.8909, -9.8909, -9.8909, -9.8909,\n",
       "                       -9.8909, -9.8909, -9.8909, -9.8909, -9.8909, -9.8909, -9.8909, -9.8909,\n",
       "                       -9.8909, -9.8909, -9.8909, -9.8909, -9.8909, -9.8909, -9.8909, -9.8909,\n",
       "                       -9.8909, -9.8909, -9.8909, -9.8909, -9.8909, -9.8909, -9.8909, -9.8909,\n",
       "                       -9.8909, -9.8909, -9.8909, -9.8909, -9.8909, -9.8909, -9.8909, -9.8909,\n",
       "                       -9.8909, -9.8909, -9.8909, -9.8909, -9.8909, -9.8909, -9.8909, -9.8909,\n",
       "                       -9.8909, -9.8909, -9.8909, -9.8909, -9.8909, -9.8909, -9.8909, -9.8909,\n",
       "                       -9.8909, -9.8909, -9.8909, -9.8909, -9.8909, -9.8909, -9.8909, -9.8909,\n",
       "                       -9.8909, -9.8909, -9.8909, -9.8909, -9.8909, -9.8909, -9.8909, -9.8909,\n",
       "                       -9.8909, -9.8909, -9.8909, -9.8909, -9.8909, -9.8909, -9.8909, -9.8909,\n",
       "                       -9.8909, -9.8909, -9.8909, -9.8909], grad_fn=<SubBackward0>),\n",
       "               'log_prob': tensor([-9.8909, -9.8909, -9.8909, -9.8909, -9.8909, -9.8909, -9.8909, -9.8909,\n",
       "                       -9.8909, -9.8909, -9.8909, -9.8909, -9.8909, -9.8909, -9.8909, -9.8909,\n",
       "                       -9.8909, -9.8909, -9.8909, -9.8909, -9.8909, -9.8909, -9.8909, -9.8909,\n",
       "                       -9.8909, -9.8909, -9.8909, -9.8909, -9.8909, -9.8909, -9.8909, -9.8909,\n",
       "                       -9.8909, -9.8909, -9.8909, -9.8909, -9.8909, -9.8909, -9.8909, -9.8909,\n",
       "                       -9.8909, -9.8909, -9.8909, -9.8909, -9.8909, -9.8909, -9.8909, -9.8909,\n",
       "                       -9.8909, -9.8909, -9.8909, -9.8909, -9.8909, -9.8909, -9.8909, -9.8909,\n",
       "                       -9.8909, -9.8909, -9.8909, -9.8909, -9.8909, -9.8909, -9.8909, -9.8909,\n",
       "                       -9.8909, -9.8909, -9.8909, -9.8909, -9.8909, -9.8909, -9.8909, -9.8909,\n",
       "                       -9.8909, -9.8909, -9.8909, -9.8909, -9.8909, -9.8909, -9.8909, -9.8909,\n",
       "                       -9.8909, -9.8909, -9.8909, -9.8909, -9.8909, -9.8909, -9.8909, -9.8909,\n",
       "                       -9.8909, -9.8909, -9.8909, -9.8909, -9.8909, -9.8909, -9.8909, -9.8909,\n",
       "                       -9.8909, -9.8909, -9.8909, -9.8909], grad_fn=<SubBackward0>),\n",
       "               'log_prob_sum': tensor(-989.0915, grad_fn=<SumBackward0>)}),\n",
       "             ('_RETURN',\n",
       "              {'name': '_RETURN',\n",
       "               'type': 'return',\n",
       "               'value': tensor([-2.1622e-01,  1.1429e+00, -1.1941e+00, -4.5405e-01,  1.1093e+00,\n",
       "                       -7.6403e-01,  9.0433e-01,  7.2556e-01,  1.7199e-01,  7.5765e-01,\n",
       "                       -1.1577e+00,  4.9287e-01, -1.0117e+00, -4.4190e-01,  5.8262e-01,\n",
       "                        6.7811e-01,  6.6600e-02, -8.2076e-01,  3.9079e-01, -6.0642e-01,\n",
       "                        1.0430e+00,  5.3715e-01, -3.7142e-04, -2.1958e+00,  7.3682e-01,\n",
       "                        1.4199e+00, -4.8715e-01, -5.1492e-01, -8.3614e-01,  2.1074e-01,\n",
       "                       -7.6517e-01,  1.1447e+00, -1.6897e-01,  8.1874e-01,  1.7329e-01,\n",
       "                        1.8932e+00,  9.6315e-01,  1.1630e-01, -1.5593e+00, -1.7994e+00,\n",
       "                       -6.0627e-01, -5.4790e-02, -5.4473e-02, -3.9481e-01, -3.2798e-01,\n",
       "                       -7.7617e-02, -1.6793e+00,  4.8466e-01, -1.1538e+00, -3.8882e-01,\n",
       "                        1.5016e+00, -2.6877e-01, -1.3828e+00, -5.9227e-01,  3.6397e-01,\n",
       "                       -1.1891e+00, -3.6396e-01, -7.3487e-01,  6.3302e-01,  1.1717e+00,\n",
       "                        1.1080e-01,  2.0265e-01, -7.8402e-01,  1.6561e+00, -1.4234e+00,\n",
       "                       -9.8623e-01, -1.4693e+00, -5.3286e-01,  1.1625e+00,  1.5849e-01,\n",
       "                       -8.9962e-02,  5.0410e-01, -1.7201e+00, -2.4500e-01, -4.6105e-01,\n",
       "                        1.9069e-01, -6.3790e-01, -1.0171e-02, -3.7311e-01, -3.7786e-01,\n",
       "                       -6.6426e-02,  3.5033e-01, -1.3409e+00,  4.1918e-01, -6.9368e-01,\n",
       "                        1.4002e+00, -1.0164e+00,  7.4870e-01,  3.5325e-01, -1.3168e-01,\n",
       "                       -1.6393e+00, -2.4469e+00,  9.6698e-01,  4.8602e-01, -1.3325e+00,\n",
       "                        1.0231e+00,  6.7554e-01, -1.5183e-01,  5.0412e-01,  5.3099e-01])})])"
      ]
     },
     "execution_count": 88,
     "metadata": {},
     "output_type": "execute_result"
    }
   ],
   "source": [
    "trace.nodes"
   ]
  },
  {
   "cell_type": "code",
   "execution_count": 89,
   "metadata": {},
   "outputs": [
    {
     "data": {
      "text/plain": [
       "tensor(-1145.4777, grad_fn=<AddBackward0>)"
      ]
     },
     "execution_count": 89,
     "metadata": {},
     "output_type": "execute_result"
    }
   ],
   "source": [
    "trace.log_prob_sum()"
   ]
  },
  {
   "cell_type": "code",
   "execution_count": 102,
   "metadata": {},
   "outputs": [
    {
     "data": {
      "text/plain": [
       "MaskedDistribution()"
      ]
     },
     "execution_count": 102,
     "metadata": {},
     "output_type": "execute_result"
    }
   ],
   "source": [
    "dist.Normal(0., 1.).mask(False)"
   ]
  },
  {
   "cell_type": "code",
   "execution_count": 112,
   "metadata": {},
   "outputs": [],
   "source": [
    "gmask = None\n",
    "def model(is_masked=False):\n",
    "    global gmask\n",
    "    n, d = 100, 50\n",
    "    x = torch.randn(n, d)\n",
    "    y = torch.randn(n)\n",
    "    p = pyro.param(\"p\", torch.randn((d, )))\n",
    "    \n",
    "    s = pyro.sample(\"s\", dist.LogNormal(0, 10.))\n",
    "    mask_prob = torch.empty(100, ).uniform_(0, 1.)\n",
    "    mask = torch.bernoulli(mask_prob).bool()\n",
    "    if not is_masked:\n",
    "        mask.fill_(True)\n",
    "    gmask = mask\n",
    "    with pyro.plate(\"data\", n):\n",
    "        mu = pyro.sample(\"mu\", dist.Normal(x @ p, torch.tensor(1.)))\n",
    "        obs = pyro.sample(\"obs\", dist.Normal(mu, s).mask(mask), obs=y)\n",
    "    \n",
    "    return obs"
   ]
  },
  {
   "cell_type": "code",
   "execution_count": 113,
   "metadata": {},
   "outputs": [],
   "source": [
    "pyro.clear_param_store()\n",
    "pyro.set_rng_seed(0)\n",
    "torch.manual_seed(0)\n",
    "trace = poutine.trace(model).get_trace()\n",
    "trace.compute_log_prob()"
   ]
  },
  {
   "cell_type": "code",
   "execution_count": 114,
   "metadata": {},
   "outputs": [
    {
     "data": {
      "text/plain": [
       "OrderedDict([('_INPUT',\n",
       "              {'name': '_INPUT', 'type': 'args', 'args': (), 'kwargs': {}}),\n",
       "             ('p',\n",
       "              {'type': 'param',\n",
       "               'name': 'p',\n",
       "               'fn': <bound method ParamStoreDict.get_param of <pyro.params.param_store.ParamStoreDict object at 0x7ff58caefb80>>,\n",
       "               'is_observed': False,\n",
       "               'args': ('p',\n",
       "                tensor([-1.0768, -0.2064,  1.6145, -0.7608, -0.2477,  0.8676,  0.3162,  1.4760,\n",
       "                         2.1844, -1.0102, -0.8100, -0.5154, -2.0127,  1.1668, -2.3918,  0.2562,\n",
       "                        -1.1708, -1.0753, -0.3450, -0.0816, -1.1515, -1.8388, -2.2352, -0.7290,\n",
       "                        -2.0795,  1.1382,  1.1847, -0.2417, -2.2050,  0.1879, -1.2202, -1.3615,\n",
       "                        -0.0945,  0.2903,  1.5134,  1.2463,  1.2842,  0.6412, -1.0515,  1.0107,\n",
       "                        -0.9904, -2.4436,  1.4533, -0.2001, -1.1807,  0.4489, -1.3836,  0.6680,\n",
       "                        -1.6093, -1.2903], requires_grad=True)),\n",
       "               'kwargs': {'constraint': Real(), 'event_dim': None},\n",
       "               'value': tensor([-1.0768, -0.2064,  1.6145, -0.7608, -0.2477,  0.8676,  0.3162,  1.4760,\n",
       "                        2.1844, -1.0102, -0.8100, -0.5154, -2.0127,  1.1668, -2.3918,  0.2562,\n",
       "                       -1.1708, -1.0753, -0.3450, -0.0816, -1.1515, -1.8388, -2.2352, -0.7290,\n",
       "                       -2.0795,  1.1382,  1.1847, -0.2417, -2.2050,  0.1879, -1.2202, -1.3615,\n",
       "                       -0.0945,  0.2903,  1.5134,  1.2463,  1.2842,  0.6412, -1.0515,  1.0107,\n",
       "                       -0.9904, -2.4436,  1.4533, -0.2001, -1.1807,  0.4489, -1.3836,  0.6680,\n",
       "                       -1.6093, -1.2903], requires_grad=True),\n",
       "               'scale': 1.0,\n",
       "               'mask': None,\n",
       "               'cond_indep_stack': (),\n",
       "               'done': True,\n",
       "               'stop': False,\n",
       "               'continuation': None,\n",
       "               'infer': {}}),\n",
       "             ('s',\n",
       "              {'type': 'sample',\n",
       "               'name': 's',\n",
       "               'fn': LogNormal(),\n",
       "               'is_observed': False,\n",
       "               'args': (),\n",
       "               'kwargs': {},\n",
       "               'value': tensor(7879.1577),\n",
       "               'infer': {},\n",
       "               'scale': 1.0,\n",
       "               'mask': None,\n",
       "               'cond_indep_stack': (),\n",
       "               'done': True,\n",
       "               'stop': False,\n",
       "               'continuation': None,\n",
       "               'unscaled_log_prob': tensor(-12.5960),\n",
       "               'log_prob': tensor(-12.5960),\n",
       "               'log_prob_sum': tensor(-12.5960)}),\n",
       "             ('data',\n",
       "              {'type': 'sample',\n",
       "               'name': 'data',\n",
       "               'fn': <pyro.poutine.subsample_messenger._Subsample at 0x7ff58212a790>,\n",
       "               'is_observed': False,\n",
       "               'args': (),\n",
       "               'kwargs': {},\n",
       "               'value': tensor([ 0,  1,  2,  3,  4,  5,  6,  7,  8,  9, 10, 11, 12, 13, 14, 15, 16, 17,\n",
       "                       18, 19, 20, 21, 22, 23, 24, 25, 26, 27, 28, 29, 30, 31, 32, 33, 34, 35,\n",
       "                       36, 37, 38, 39, 40, 41, 42, 43, 44, 45, 46, 47, 48, 49, 50, 51, 52, 53,\n",
       "                       54, 55, 56, 57, 58, 59, 60, 61, 62, 63, 64, 65, 66, 67, 68, 69, 70, 71,\n",
       "                       72, 73, 74, 75, 76, 77, 78, 79, 80, 81, 82, 83, 84, 85, 86, 87, 88, 89,\n",
       "                       90, 91, 92, 93, 94, 95, 96, 97, 98, 99]),\n",
       "               'infer': {},\n",
       "               'scale': 1.0,\n",
       "               'mask': None,\n",
       "               'cond_indep_stack': (),\n",
       "               'done': True,\n",
       "               'stop': False,\n",
       "               'continuation': None,\n",
       "               'unscaled_log_prob': tensor(0.),\n",
       "               'log_prob': tensor(0.),\n",
       "               'log_prob_sum': tensor(0.)}),\n",
       "             ('mu',\n",
       "              {'type': 'sample',\n",
       "               'name': 'mu',\n",
       "               'fn': Normal(loc: torch.Size([100]), scale: torch.Size([100])),\n",
       "               'is_observed': False,\n",
       "               'args': (),\n",
       "               'kwargs': {},\n",
       "               'value': tensor([ -2.3455,  -1.8016,   6.3454,  -3.5598,   7.7854, -12.2983,   8.6545,\n",
       "                        -6.3564,   1.8923,  14.7415,   4.8256,  -1.6217,   5.4069,   2.2043,\n",
       "                        15.4503,  -2.7191,  24.3082, -13.5680,  -4.1449,   4.1582,  -8.9498,\n",
       "                        -5.9478,  -0.4629,   5.1426,  -4.5174,   3.7272,  14.1175,  -6.6610,\n",
       "                         5.0899,   4.4119,  -6.3068,  -1.2024,   0.4001,  -2.1082,   1.2350,\n",
       "                        -7.6569,   4.3386, -13.8070,   5.0152, -13.7198,   5.1286,   4.1624,\n",
       "                        -4.3311,   0.9641,  -6.6324,   1.9001,   8.9731, -12.5541,  18.8047,\n",
       "                        -0.7122,  12.2737,   5.0367,   0.0377,   4.2447, -13.0122,   3.3812,\n",
       "                        -1.9560,  -2.9158,  -8.9777,  -0.1633,  14.6225,   9.1419, -24.6241,\n",
       "                        -3.3862,  -5.4755,  14.9252,   6.3400,  -8.4402, -17.8138,  -3.5129,\n",
       "                        12.3460, -10.3469,   6.0850,  -8.0540,   6.2387, -19.7454, -15.6240,\n",
       "                         5.5546,  -3.2293,  -3.9276,   5.7599,  -3.2181,  -3.0284,  11.3448,\n",
       "                        -4.2943,   2.7551,  -4.3299,   4.7899,  -1.3447,   7.3722,  -7.2070,\n",
       "                         8.5618,   3.7028,   9.7002,   0.7266,  -2.1134,  -7.7796,  -2.2892,\n",
       "                         4.6626,  -0.5810], grad_fn=<AddBackward0>),\n",
       "               'infer': {},\n",
       "               'scale': 1.0,\n",
       "               'mask': None,\n",
       "               'cond_indep_stack': (CondIndepStackFrame(name='data', dim=-1, size=100, counter=0),),\n",
       "               'done': True,\n",
       "               'stop': False,\n",
       "               'continuation': None,\n",
       "               'unscaled_log_prob': tensor([-1.0458, -2.4149, -0.9378, -1.7797, -1.0345, -0.9267, -1.3380, -1.7030,\n",
       "                       -1.0944, -1.5839, -0.9316, -0.9311, -1.6701, -0.9328, -1.4104, -1.4522,\n",
       "                       -0.9198, -2.7899, -2.1514, -0.9829, -0.9405, -1.8054, -0.9239, -1.3668,\n",
       "                       -1.0782, -1.2417, -1.0279, -1.1946, -1.4224, -1.0361, -0.9801, -1.1929,\n",
       "                       -2.4362, -1.0352, -0.9737, -1.3003, -0.9191, -1.1783, -1.1268, -1.0865,\n",
       "                       -0.9197, -3.3413, -1.6540, -0.9395, -1.1955, -0.9853, -1.2351, -1.0977,\n",
       "                       -1.8691, -0.9371, -1.0793, -1.2902, -1.2869, -1.3331, -0.9277, -0.9362,\n",
       "                       -0.9342, -0.9224, -0.9615, -1.6682, -4.0853, -0.9366, -1.5943, -0.9191,\n",
       "                       -1.0880, -1.0422, -0.9193, -1.0184, -2.3430, -1.8450, -0.9258, -3.7055,\n",
       "                       -1.0022, -1.2039, -1.2504, -1.4866, -1.4952, -0.9324, -0.9608, -1.4142,\n",
       "                       -0.9829, -0.9357, -0.9378, -1.0381, -1.9614, -1.0275, -0.9748, -1.8204,\n",
       "                       -0.9414, -1.4670, -1.2219, -1.1600, -2.5869, -0.9212, -1.0988, -1.3609,\n",
       "                       -1.1101, -2.2033, -0.9190, -1.1007], grad_fn=<SubBackward0>),\n",
       "               'log_prob': tensor([-1.0458, -2.4149, -0.9378, -1.7797, -1.0345, -0.9267, -1.3380, -1.7030,\n",
       "                       -1.0944, -1.5839, -0.9316, -0.9311, -1.6701, -0.9328, -1.4104, -1.4522,\n",
       "                       -0.9198, -2.7899, -2.1514, -0.9829, -0.9405, -1.8054, -0.9239, -1.3668,\n",
       "                       -1.0782, -1.2417, -1.0279, -1.1946, -1.4224, -1.0361, -0.9801, -1.1929,\n",
       "                       -2.4362, -1.0352, -0.9737, -1.3003, -0.9191, -1.1783, -1.1268, -1.0865,\n",
       "                       -0.9197, -3.3413, -1.6540, -0.9395, -1.1955, -0.9853, -1.2351, -1.0977,\n",
       "                       -1.8691, -0.9371, -1.0793, -1.2902, -1.2869, -1.3331, -0.9277, -0.9362,\n",
       "                       -0.9342, -0.9224, -0.9615, -1.6682, -4.0853, -0.9366, -1.5943, -0.9191,\n",
       "                       -1.0880, -1.0422, -0.9193, -1.0184, -2.3430, -1.8450, -0.9258, -3.7055,\n",
       "                       -1.0022, -1.2039, -1.2504, -1.4866, -1.4952, -0.9324, -0.9608, -1.4142,\n",
       "                       -0.9829, -0.9357, -0.9378, -1.0381, -1.9614, -1.0275, -0.9748, -1.8204,\n",
       "                       -0.9414, -1.4670, -1.2219, -1.1600, -2.5869, -0.9212, -1.0988, -1.3609,\n",
       "                       -1.1101, -2.2033, -0.9190, -1.1007], grad_fn=<SubBackward0>),\n",
       "               'log_prob_sum': tensor(-133.7495, grad_fn=<SumBackward0>)}),\n",
       "             ('obs',\n",
       "              {'type': 'sample',\n",
       "               'name': 'obs',\n",
       "               'fn': MaskedDistribution(),\n",
       "               'is_observed': True,\n",
       "               'args': (),\n",
       "               'kwargs': {},\n",
       "               'value': tensor([-2.1622e-01,  1.1429e+00, -1.1941e+00, -4.5405e-01,  1.1093e+00,\n",
       "                       -7.6403e-01,  9.0433e-01,  7.2556e-01,  1.7199e-01,  7.5765e-01,\n",
       "                       -1.1577e+00,  4.9287e-01, -1.0117e+00, -4.4190e-01,  5.8262e-01,\n",
       "                        6.7811e-01,  6.6600e-02, -8.2076e-01,  3.9079e-01, -6.0642e-01,\n",
       "                        1.0430e+00,  5.3715e-01, -3.7142e-04, -2.1958e+00,  7.3682e-01,\n",
       "                        1.4199e+00, -4.8715e-01, -5.1492e-01, -8.3614e-01,  2.1074e-01,\n",
       "                       -7.6517e-01,  1.1447e+00, -1.6897e-01,  8.1874e-01,  1.7329e-01,\n",
       "                        1.8932e+00,  9.6315e-01,  1.1630e-01, -1.5593e+00, -1.7994e+00,\n",
       "                       -6.0627e-01, -5.4790e-02, -5.4473e-02, -3.9481e-01, -3.2798e-01,\n",
       "                       -7.7617e-02, -1.6793e+00,  4.8466e-01, -1.1538e+00, -3.8882e-01,\n",
       "                        1.5016e+00, -2.6877e-01, -1.3828e+00, -5.9227e-01,  3.6397e-01,\n",
       "                       -1.1891e+00, -3.6396e-01, -7.3487e-01,  6.3302e-01,  1.1717e+00,\n",
       "                        1.1080e-01,  2.0265e-01, -7.8402e-01,  1.6561e+00, -1.4234e+00,\n",
       "                       -9.8623e-01, -1.4693e+00, -5.3286e-01,  1.1625e+00,  1.5849e-01,\n",
       "                       -8.9962e-02,  5.0410e-01, -1.7201e+00, -2.4500e-01, -4.6105e-01,\n",
       "                        1.9069e-01, -6.3790e-01, -1.0171e-02, -3.7311e-01, -3.7786e-01,\n",
       "                       -6.6426e-02,  3.5033e-01, -1.3409e+00,  4.1918e-01, -6.9368e-01,\n",
       "                        1.4002e+00, -1.0164e+00,  7.4870e-01,  3.5325e-01, -1.3168e-01,\n",
       "                       -1.6393e+00, -2.4469e+00,  9.6698e-01,  4.8602e-01, -1.3325e+00,\n",
       "                        1.0231e+00,  6.7554e-01, -1.5183e-01,  5.0412e-01,  5.3099e-01]),\n",
       "               'infer': {},\n",
       "               'scale': 1.0,\n",
       "               'mask': None,\n",
       "               'cond_indep_stack': (CondIndepStackFrame(name='data', dim=-1, size=100, counter=0),),\n",
       "               'done': True,\n",
       "               'stop': False,\n",
       "               'continuation': None,\n",
       "               'unscaled_log_prob': tensor([-9.8909, -9.8909, -9.8909, -9.8909, -9.8909, -9.8909, -9.8909, -9.8909,\n",
       "                       -9.8909, -9.8909, -9.8909, -9.8909, -9.8909, -9.8909, -9.8909, -9.8909,\n",
       "                       -9.8909, -9.8909, -9.8909, -9.8909, -9.8909, -9.8909, -9.8909, -9.8909,\n",
       "                       -9.8909, -9.8909, -9.8909, -9.8909, -9.8909, -9.8909, -9.8909, -9.8909,\n",
       "                       -9.8909, -9.8909, -9.8909, -9.8909, -9.8909, -9.8909, -9.8909, -9.8909,\n",
       "                       -9.8909, -9.8909, -9.8909, -9.8909, -9.8909, -9.8909, -9.8909, -9.8909,\n",
       "                       -9.8909, -9.8909, -9.8909, -9.8909, -9.8909, -9.8909, -9.8909, -9.8909,\n",
       "                       -9.8909, -9.8909, -9.8909, -9.8909, -9.8909, -9.8909, -9.8909, -9.8909,\n",
       "                       -9.8909, -9.8909, -9.8909, -9.8909, -9.8909, -9.8909, -9.8909, -9.8909,\n",
       "                       -9.8909, -9.8909, -9.8909, -9.8909, -9.8909, -9.8909, -9.8909, -9.8909,\n",
       "                       -9.8909, -9.8909, -9.8909, -9.8909, -9.8909, -9.8909, -9.8909, -9.8909,\n",
       "                       -9.8909, -9.8909, -9.8909, -9.8909, -9.8909, -9.8909, -9.8909, -9.8909,\n",
       "                       -9.8909, -9.8909, -9.8909, -9.8909], grad_fn=<WhereBackward0>),\n",
       "               'log_prob': tensor([-9.8909, -9.8909, -9.8909, -9.8909, -9.8909, -9.8909, -9.8909, -9.8909,\n",
       "                       -9.8909, -9.8909, -9.8909, -9.8909, -9.8909, -9.8909, -9.8909, -9.8909,\n",
       "                       -9.8909, -9.8909, -9.8909, -9.8909, -9.8909, -9.8909, -9.8909, -9.8909,\n",
       "                       -9.8909, -9.8909, -9.8909, -9.8909, -9.8909, -9.8909, -9.8909, -9.8909,\n",
       "                       -9.8909, -9.8909, -9.8909, -9.8909, -9.8909, -9.8909, -9.8909, -9.8909,\n",
       "                       -9.8909, -9.8909, -9.8909, -9.8909, -9.8909, -9.8909, -9.8909, -9.8909,\n",
       "                       -9.8909, -9.8909, -9.8909, -9.8909, -9.8909, -9.8909, -9.8909, -9.8909,\n",
       "                       -9.8909, -9.8909, -9.8909, -9.8909, -9.8909, -9.8909, -9.8909, -9.8909,\n",
       "                       -9.8909, -9.8909, -9.8909, -9.8909, -9.8909, -9.8909, -9.8909, -9.8909,\n",
       "                       -9.8909, -9.8909, -9.8909, -9.8909, -9.8909, -9.8909, -9.8909, -9.8909,\n",
       "                       -9.8909, -9.8909, -9.8909, -9.8909, -9.8909, -9.8909, -9.8909, -9.8909,\n",
       "                       -9.8909, -9.8909, -9.8909, -9.8909, -9.8909, -9.8909, -9.8909, -9.8909,\n",
       "                       -9.8909, -9.8909, -9.8909, -9.8909], grad_fn=<WhereBackward0>),\n",
       "               'log_prob_sum': tensor(-989.0915, grad_fn=<SumBackward0>)}),\n",
       "             ('_RETURN',\n",
       "              {'name': '_RETURN',\n",
       "               'type': 'return',\n",
       "               'value': tensor([-2.1622e-01,  1.1429e+00, -1.1941e+00, -4.5405e-01,  1.1093e+00,\n",
       "                       -7.6403e-01,  9.0433e-01,  7.2556e-01,  1.7199e-01,  7.5765e-01,\n",
       "                       -1.1577e+00,  4.9287e-01, -1.0117e+00, -4.4190e-01,  5.8262e-01,\n",
       "                        6.7811e-01,  6.6600e-02, -8.2076e-01,  3.9079e-01, -6.0642e-01,\n",
       "                        1.0430e+00,  5.3715e-01, -3.7142e-04, -2.1958e+00,  7.3682e-01,\n",
       "                        1.4199e+00, -4.8715e-01, -5.1492e-01, -8.3614e-01,  2.1074e-01,\n",
       "                       -7.6517e-01,  1.1447e+00, -1.6897e-01,  8.1874e-01,  1.7329e-01,\n",
       "                        1.8932e+00,  9.6315e-01,  1.1630e-01, -1.5593e+00, -1.7994e+00,\n",
       "                       -6.0627e-01, -5.4790e-02, -5.4473e-02, -3.9481e-01, -3.2798e-01,\n",
       "                       -7.7617e-02, -1.6793e+00,  4.8466e-01, -1.1538e+00, -3.8882e-01,\n",
       "                        1.5016e+00, -2.6877e-01, -1.3828e+00, -5.9227e-01,  3.6397e-01,\n",
       "                       -1.1891e+00, -3.6396e-01, -7.3487e-01,  6.3302e-01,  1.1717e+00,\n",
       "                        1.1080e-01,  2.0265e-01, -7.8402e-01,  1.6561e+00, -1.4234e+00,\n",
       "                       -9.8623e-01, -1.4693e+00, -5.3286e-01,  1.1625e+00,  1.5849e-01,\n",
       "                       -8.9962e-02,  5.0410e-01, -1.7201e+00, -2.4500e-01, -4.6105e-01,\n",
       "                        1.9069e-01, -6.3790e-01, -1.0171e-02, -3.7311e-01, -3.7786e-01,\n",
       "                       -6.6426e-02,  3.5033e-01, -1.3409e+00,  4.1918e-01, -6.9368e-01,\n",
       "                        1.4002e+00, -1.0164e+00,  7.4870e-01,  3.5325e-01, -1.3168e-01,\n",
       "                       -1.6393e+00, -2.4469e+00,  9.6698e-01,  4.8602e-01, -1.3325e+00,\n",
       "                        1.0231e+00,  6.7554e-01, -1.5183e-01,  5.0412e-01,  5.3099e-01])})])"
      ]
     },
     "execution_count": 114,
     "metadata": {},
     "output_type": "execute_result"
    }
   ],
   "source": [
    "trace.nodes"
   ]
  },
  {
   "cell_type": "code",
   "execution_count": 115,
   "metadata": {},
   "outputs": [
    {
     "data": {
      "text/plain": [
       "tensor(-1135.4370, grad_fn=<AddBackward0>)"
      ]
     },
     "execution_count": 115,
     "metadata": {},
     "output_type": "execute_result"
    }
   ],
   "source": [
    "trace.log_prob_sum()"
   ]
  },
  {
   "cell_type": "code",
   "execution_count": 120,
   "metadata": {},
   "outputs": [],
   "source": [
    "pyro.clear_param_store()\n",
    "pyro.set_rng_seed(0)\n",
    "torch.manual_seed(0)\n",
    "trace = poutine.trace(model).get_trace()\n",
    "trace.compute_log_prob()\n",
    "trace.log_prob_sum()\n",
    "prev_log_sum = trace.nodes['obs']['log_prob'].clone().detach()"
   ]
  },
  {
   "cell_type": "code",
   "execution_count": 121,
   "metadata": {},
   "outputs": [
    {
     "data": {
      "text/plain": [
       "tensor(-640.8912, grad_fn=<AddBackward0>)"
      ]
     },
     "execution_count": 121,
     "metadata": {},
     "output_type": "execute_result"
    }
   ],
   "source": [
    "pyro.clear_param_store()\n",
    "pyro.set_rng_seed(0)\n",
    "torch.manual_seed(0)\n",
    "trace = poutine.trace(model).get_trace(True)\n",
    "trace.compute_log_prob()\n",
    "trace.log_prob_sum()"
   ]
  },
  {
   "cell_type": "code",
   "execution_count": 122,
   "metadata": {},
   "outputs": [
    {
     "data": {
      "text/plain": [
       "OrderedDict([('_INPUT',\n",
       "              {'name': '_INPUT',\n",
       "               'type': 'args',\n",
       "               'args': (True,),\n",
       "               'kwargs': {}}),\n",
       "             ('p',\n",
       "              {'type': 'param',\n",
       "               'name': 'p',\n",
       "               'fn': <bound method ParamStoreDict.get_param of <pyro.params.param_store.ParamStoreDict object at 0x7ff58caefb80>>,\n",
       "               'is_observed': False,\n",
       "               'args': ('p',\n",
       "                tensor([-1.0768, -0.2064,  1.6145, -0.7608, -0.2477,  0.8676,  0.3162,  1.4760,\n",
       "                         2.1844, -1.0102, -0.8100, -0.5154, -2.0127,  1.1668, -2.3918,  0.2562,\n",
       "                        -1.1708, -1.0753, -0.3450, -0.0816, -1.1515, -1.8388, -2.2352, -0.7290,\n",
       "                        -2.0795,  1.1382,  1.1847, -0.2417, -2.2050,  0.1879, -1.2202, -1.3615,\n",
       "                        -0.0945,  0.2903,  1.5134,  1.2463,  1.2842,  0.6412, -1.0515,  1.0107,\n",
       "                        -0.9904, -2.4436,  1.4533, -0.2001, -1.1807,  0.4489, -1.3836,  0.6680,\n",
       "                        -1.6093, -1.2903], requires_grad=True)),\n",
       "               'kwargs': {'constraint': Real(), 'event_dim': None},\n",
       "               'value': tensor([-1.0768, -0.2064,  1.6145, -0.7608, -0.2477,  0.8676,  0.3162,  1.4760,\n",
       "                        2.1844, -1.0102, -0.8100, -0.5154, -2.0127,  1.1668, -2.3918,  0.2562,\n",
       "                       -1.1708, -1.0753, -0.3450, -0.0816, -1.1515, -1.8388, -2.2352, -0.7290,\n",
       "                       -2.0795,  1.1382,  1.1847, -0.2417, -2.2050,  0.1879, -1.2202, -1.3615,\n",
       "                       -0.0945,  0.2903,  1.5134,  1.2463,  1.2842,  0.6412, -1.0515,  1.0107,\n",
       "                       -0.9904, -2.4436,  1.4533, -0.2001, -1.1807,  0.4489, -1.3836,  0.6680,\n",
       "                       -1.6093, -1.2903], requires_grad=True),\n",
       "               'scale': 1.0,\n",
       "               'mask': None,\n",
       "               'cond_indep_stack': (),\n",
       "               'done': True,\n",
       "               'stop': False,\n",
       "               'continuation': None,\n",
       "               'infer': {}}),\n",
       "             ('s',\n",
       "              {'type': 'sample',\n",
       "               'name': 's',\n",
       "               'fn': LogNormal(),\n",
       "               'is_observed': False,\n",
       "               'args': (),\n",
       "               'kwargs': {},\n",
       "               'value': tensor(7879.1577),\n",
       "               'infer': {},\n",
       "               'scale': 1.0,\n",
       "               'mask': None,\n",
       "               'cond_indep_stack': (),\n",
       "               'done': True,\n",
       "               'stop': False,\n",
       "               'continuation': None,\n",
       "               'unscaled_log_prob': tensor(-12.5960),\n",
       "               'log_prob': tensor(-12.5960),\n",
       "               'log_prob_sum': tensor(-12.5960)}),\n",
       "             ('data',\n",
       "              {'type': 'sample',\n",
       "               'name': 'data',\n",
       "               'fn': <pyro.poutine.subsample_messenger._Subsample at 0x7ff58483c580>,\n",
       "               'is_observed': False,\n",
       "               'args': (),\n",
       "               'kwargs': {},\n",
       "               'value': tensor([ 0,  1,  2,  3,  4,  5,  6,  7,  8,  9, 10, 11, 12, 13, 14, 15, 16, 17,\n",
       "                       18, 19, 20, 21, 22, 23, 24, 25, 26, 27, 28, 29, 30, 31, 32, 33, 34, 35,\n",
       "                       36, 37, 38, 39, 40, 41, 42, 43, 44, 45, 46, 47, 48, 49, 50, 51, 52, 53,\n",
       "                       54, 55, 56, 57, 58, 59, 60, 61, 62, 63, 64, 65, 66, 67, 68, 69, 70, 71,\n",
       "                       72, 73, 74, 75, 76, 77, 78, 79, 80, 81, 82, 83, 84, 85, 86, 87, 88, 89,\n",
       "                       90, 91, 92, 93, 94, 95, 96, 97, 98, 99]),\n",
       "               'infer': {},\n",
       "               'scale': 1.0,\n",
       "               'mask': None,\n",
       "               'cond_indep_stack': (),\n",
       "               'done': True,\n",
       "               'stop': False,\n",
       "               'continuation': None,\n",
       "               'unscaled_log_prob': tensor(0.),\n",
       "               'log_prob': tensor(0.),\n",
       "               'log_prob_sum': tensor(0.)}),\n",
       "             ('mu',\n",
       "              {'type': 'sample',\n",
       "               'name': 'mu',\n",
       "               'fn': Normal(loc: torch.Size([100]), scale: torch.Size([100])),\n",
       "               'is_observed': False,\n",
       "               'args': (),\n",
       "               'kwargs': {},\n",
       "               'value': tensor([ -2.3455,  -1.8016,   6.3454,  -3.5598,   7.7854, -12.2983,   8.6545,\n",
       "                        -6.3564,   1.8923,  14.7415,   4.8256,  -1.6217,   5.4069,   2.2043,\n",
       "                        15.4503,  -2.7191,  24.3082, -13.5680,  -4.1449,   4.1582,  -8.9498,\n",
       "                        -5.9478,  -0.4629,   5.1426,  -4.5174,   3.7272,  14.1175,  -6.6610,\n",
       "                         5.0899,   4.4119,  -6.3068,  -1.2024,   0.4001,  -2.1082,   1.2350,\n",
       "                        -7.6569,   4.3386, -13.8070,   5.0152, -13.7198,   5.1286,   4.1624,\n",
       "                        -4.3311,   0.9641,  -6.6324,   1.9001,   8.9731, -12.5541,  18.8047,\n",
       "                        -0.7122,  12.2737,   5.0367,   0.0377,   4.2447, -13.0122,   3.3812,\n",
       "                        -1.9560,  -2.9158,  -8.9777,  -0.1633,  14.6225,   9.1419, -24.6241,\n",
       "                        -3.3862,  -5.4755,  14.9252,   6.3400,  -8.4402, -17.8138,  -3.5129,\n",
       "                        12.3460, -10.3469,   6.0850,  -8.0540,   6.2387, -19.7454, -15.6240,\n",
       "                         5.5546,  -3.2293,  -3.9276,   5.7599,  -3.2181,  -3.0284,  11.3448,\n",
       "                        -4.2943,   2.7551,  -4.3299,   4.7899,  -1.3447,   7.3722,  -7.2070,\n",
       "                         8.5618,   3.7028,   9.7002,   0.7266,  -2.1134,  -7.7796,  -2.2892,\n",
       "                         4.6626,  -0.5810], grad_fn=<AddBackward0>),\n",
       "               'infer': {},\n",
       "               'scale': 1.0,\n",
       "               'mask': None,\n",
       "               'cond_indep_stack': (CondIndepStackFrame(name='data', dim=-1, size=100, counter=0),),\n",
       "               'done': True,\n",
       "               'stop': False,\n",
       "               'continuation': None,\n",
       "               'unscaled_log_prob': tensor([-1.0458, -2.4149, -0.9378, -1.7797, -1.0345, -0.9267, -1.3380, -1.7030,\n",
       "                       -1.0944, -1.5839, -0.9316, -0.9311, -1.6701, -0.9328, -1.4104, -1.4522,\n",
       "                       -0.9198, -2.7899, -2.1514, -0.9829, -0.9405, -1.8054, -0.9239, -1.3668,\n",
       "                       -1.0782, -1.2417, -1.0279, -1.1946, -1.4224, -1.0361, -0.9801, -1.1929,\n",
       "                       -2.4362, -1.0352, -0.9737, -1.3003, -0.9191, -1.1783, -1.1268, -1.0865,\n",
       "                       -0.9197, -3.3413, -1.6540, -0.9395, -1.1955, -0.9853, -1.2351, -1.0977,\n",
       "                       -1.8691, -0.9371, -1.0793, -1.2902, -1.2869, -1.3331, -0.9277, -0.9362,\n",
       "                       -0.9342, -0.9224, -0.9615, -1.6682, -4.0853, -0.9366, -1.5943, -0.9191,\n",
       "                       -1.0880, -1.0422, -0.9193, -1.0184, -2.3430, -1.8450, -0.9258, -3.7055,\n",
       "                       -1.0022, -1.2039, -1.2504, -1.4866, -1.4952, -0.9324, -0.9608, -1.4142,\n",
       "                       -0.9829, -0.9357, -0.9378, -1.0381, -1.9614, -1.0275, -0.9748, -1.8204,\n",
       "                       -0.9414, -1.4670, -1.2219, -1.1600, -2.5869, -0.9212, -1.0988, -1.3609,\n",
       "                       -1.1101, -2.2033, -0.9190, -1.1007], grad_fn=<SubBackward0>),\n",
       "               'log_prob': tensor([-1.0458, -2.4149, -0.9378, -1.7797, -1.0345, -0.9267, -1.3380, -1.7030,\n",
       "                       -1.0944, -1.5839, -0.9316, -0.9311, -1.6701, -0.9328, -1.4104, -1.4522,\n",
       "                       -0.9198, -2.7899, -2.1514, -0.9829, -0.9405, -1.8054, -0.9239, -1.3668,\n",
       "                       -1.0782, -1.2417, -1.0279, -1.1946, -1.4224, -1.0361, -0.9801, -1.1929,\n",
       "                       -2.4362, -1.0352, -0.9737, -1.3003, -0.9191, -1.1783, -1.1268, -1.0865,\n",
       "                       -0.9197, -3.3413, -1.6540, -0.9395, -1.1955, -0.9853, -1.2351, -1.0977,\n",
       "                       -1.8691, -0.9371, -1.0793, -1.2902, -1.2869, -1.3331, -0.9277, -0.9362,\n",
       "                       -0.9342, -0.9224, -0.9615, -1.6682, -4.0853, -0.9366, -1.5943, -0.9191,\n",
       "                       -1.0880, -1.0422, -0.9193, -1.0184, -2.3430, -1.8450, -0.9258, -3.7055,\n",
       "                       -1.0022, -1.2039, -1.2504, -1.4866, -1.4952, -0.9324, -0.9608, -1.4142,\n",
       "                       -0.9829, -0.9357, -0.9378, -1.0381, -1.9614, -1.0275, -0.9748, -1.8204,\n",
       "                       -0.9414, -1.4670, -1.2219, -1.1600, -2.5869, -0.9212, -1.0988, -1.3609,\n",
       "                       -1.1101, -2.2033, -0.9190, -1.1007], grad_fn=<SubBackward0>),\n",
       "               'log_prob_sum': tensor(-133.7495, grad_fn=<SumBackward0>)}),\n",
       "             ('obs',\n",
       "              {'type': 'sample',\n",
       "               'name': 'obs',\n",
       "               'fn': MaskedDistribution(),\n",
       "               'is_observed': True,\n",
       "               'args': (),\n",
       "               'kwargs': {},\n",
       "               'value': tensor([-2.1622e-01,  1.1429e+00, -1.1941e+00, -4.5405e-01,  1.1093e+00,\n",
       "                       -7.6403e-01,  9.0433e-01,  7.2556e-01,  1.7199e-01,  7.5765e-01,\n",
       "                       -1.1577e+00,  4.9287e-01, -1.0117e+00, -4.4190e-01,  5.8262e-01,\n",
       "                        6.7811e-01,  6.6600e-02, -8.2076e-01,  3.9079e-01, -6.0642e-01,\n",
       "                        1.0430e+00,  5.3715e-01, -3.7142e-04, -2.1958e+00,  7.3682e-01,\n",
       "                        1.4199e+00, -4.8715e-01, -5.1492e-01, -8.3614e-01,  2.1074e-01,\n",
       "                       -7.6517e-01,  1.1447e+00, -1.6897e-01,  8.1874e-01,  1.7329e-01,\n",
       "                        1.8932e+00,  9.6315e-01,  1.1630e-01, -1.5593e+00, -1.7994e+00,\n",
       "                       -6.0627e-01, -5.4790e-02, -5.4473e-02, -3.9481e-01, -3.2798e-01,\n",
       "                       -7.7617e-02, -1.6793e+00,  4.8466e-01, -1.1538e+00, -3.8882e-01,\n",
       "                        1.5016e+00, -2.6877e-01, -1.3828e+00, -5.9227e-01,  3.6397e-01,\n",
       "                       -1.1891e+00, -3.6396e-01, -7.3487e-01,  6.3302e-01,  1.1717e+00,\n",
       "                        1.1080e-01,  2.0265e-01, -7.8402e-01,  1.6561e+00, -1.4234e+00,\n",
       "                       -9.8623e-01, -1.4693e+00, -5.3286e-01,  1.1625e+00,  1.5849e-01,\n",
       "                       -8.9962e-02,  5.0410e-01, -1.7201e+00, -2.4500e-01, -4.6105e-01,\n",
       "                        1.9069e-01, -6.3790e-01, -1.0171e-02, -3.7311e-01, -3.7786e-01,\n",
       "                       -6.6426e-02,  3.5033e-01, -1.3409e+00,  4.1918e-01, -6.9368e-01,\n",
       "                        1.4002e+00, -1.0164e+00,  7.4870e-01,  3.5325e-01, -1.3168e-01,\n",
       "                       -1.6393e+00, -2.4469e+00,  9.6698e-01,  4.8602e-01, -1.3325e+00,\n",
       "                        1.0231e+00,  6.7554e-01, -1.5183e-01,  5.0412e-01,  5.3099e-01]),\n",
       "               'infer': {},\n",
       "               'scale': 1.0,\n",
       "               'mask': None,\n",
       "               'cond_indep_stack': (CondIndepStackFrame(name='data', dim=-1, size=100, counter=0),),\n",
       "               'done': True,\n",
       "               'stop': False,\n",
       "               'continuation': None,\n",
       "               'unscaled_log_prob': tensor([-9.8909, -9.8909, -9.8909,  0.0000, -9.8909, -9.8909, -9.8909,  0.0000,\n",
       "                       -9.8909, -9.8909, -9.8909, -9.8909, -9.8909, -9.8909,  0.0000,  0.0000,\n",
       "                        0.0000,  0.0000,  0.0000, -9.8909, -9.8909,  0.0000,  0.0000,  0.0000,\n",
       "                       -9.8909,  0.0000,  0.0000,  0.0000, -9.8909,  0.0000, -9.8909, -9.8909,\n",
       "                        0.0000, -9.8909,  0.0000,  0.0000, -9.8909,  0.0000, -9.8909,  0.0000,\n",
       "                        0.0000, -9.8909, -9.8909,  0.0000,  0.0000,  0.0000,  0.0000, -9.8909,\n",
       "                        0.0000,  0.0000, -9.8909,  0.0000, -9.8909,  0.0000,  0.0000,  0.0000,\n",
       "                        0.0000,  0.0000, -9.8909,  0.0000,  0.0000, -9.8909,  0.0000,  0.0000,\n",
       "                        0.0000, -9.8909, -9.8909, -9.8909, -9.8909,  0.0000, -9.8909, -9.8909,\n",
       "                        0.0000,  0.0000,  0.0000,  0.0000, -9.8909, -9.8909, -9.8909, -9.8909,\n",
       "                        0.0000,  0.0000, -9.8909,  0.0000, -9.8909,  0.0000, -9.8909,  0.0000,\n",
       "                       -9.8909, -9.8909, -9.8909, -9.8909, -9.8909, -9.8909,  0.0000,  0.0000,\n",
       "                        0.0000, -9.8909, -9.8909, -9.8909], grad_fn=<WhereBackward0>),\n",
       "               'log_prob': tensor([-9.8909, -9.8909, -9.8909,  0.0000, -9.8909, -9.8909, -9.8909,  0.0000,\n",
       "                       -9.8909, -9.8909, -9.8909, -9.8909, -9.8909, -9.8909,  0.0000,  0.0000,\n",
       "                        0.0000,  0.0000,  0.0000, -9.8909, -9.8909,  0.0000,  0.0000,  0.0000,\n",
       "                       -9.8909,  0.0000,  0.0000,  0.0000, -9.8909,  0.0000, -9.8909, -9.8909,\n",
       "                        0.0000, -9.8909,  0.0000,  0.0000, -9.8909,  0.0000, -9.8909,  0.0000,\n",
       "                        0.0000, -9.8909, -9.8909,  0.0000,  0.0000,  0.0000,  0.0000, -9.8909,\n",
       "                        0.0000,  0.0000, -9.8909,  0.0000, -9.8909,  0.0000,  0.0000,  0.0000,\n",
       "                        0.0000,  0.0000, -9.8909,  0.0000,  0.0000, -9.8909,  0.0000,  0.0000,\n",
       "                        0.0000, -9.8909, -9.8909, -9.8909, -9.8909,  0.0000, -9.8909, -9.8909,\n",
       "                        0.0000,  0.0000,  0.0000,  0.0000, -9.8909, -9.8909, -9.8909, -9.8909,\n",
       "                        0.0000,  0.0000, -9.8909,  0.0000, -9.8909,  0.0000, -9.8909,  0.0000,\n",
       "                       -9.8909, -9.8909, -9.8909, -9.8909, -9.8909, -9.8909,  0.0000,  0.0000,\n",
       "                        0.0000, -9.8909, -9.8909, -9.8909], grad_fn=<WhereBackward0>),\n",
       "               'log_prob_sum': tensor(-494.5457, grad_fn=<SumBackward0>)}),\n",
       "             ('_RETURN',\n",
       "              {'name': '_RETURN',\n",
       "               'type': 'return',\n",
       "               'value': tensor([-2.1622e-01,  1.1429e+00, -1.1941e+00, -4.5405e-01,  1.1093e+00,\n",
       "                       -7.6403e-01,  9.0433e-01,  7.2556e-01,  1.7199e-01,  7.5765e-01,\n",
       "                       -1.1577e+00,  4.9287e-01, -1.0117e+00, -4.4190e-01,  5.8262e-01,\n",
       "                        6.7811e-01,  6.6600e-02, -8.2076e-01,  3.9079e-01, -6.0642e-01,\n",
       "                        1.0430e+00,  5.3715e-01, -3.7142e-04, -2.1958e+00,  7.3682e-01,\n",
       "                        1.4199e+00, -4.8715e-01, -5.1492e-01, -8.3614e-01,  2.1074e-01,\n",
       "                       -7.6517e-01,  1.1447e+00, -1.6897e-01,  8.1874e-01,  1.7329e-01,\n",
       "                        1.8932e+00,  9.6315e-01,  1.1630e-01, -1.5593e+00, -1.7994e+00,\n",
       "                       -6.0627e-01, -5.4790e-02, -5.4473e-02, -3.9481e-01, -3.2798e-01,\n",
       "                       -7.7617e-02, -1.6793e+00,  4.8466e-01, -1.1538e+00, -3.8882e-01,\n",
       "                        1.5016e+00, -2.6877e-01, -1.3828e+00, -5.9227e-01,  3.6397e-01,\n",
       "                       -1.1891e+00, -3.6396e-01, -7.3487e-01,  6.3302e-01,  1.1717e+00,\n",
       "                        1.1080e-01,  2.0265e-01, -7.8402e-01,  1.6561e+00, -1.4234e+00,\n",
       "                       -9.8623e-01, -1.4693e+00, -5.3286e-01,  1.1625e+00,  1.5849e-01,\n",
       "                       -8.9962e-02,  5.0410e-01, -1.7201e+00, -2.4500e-01, -4.6105e-01,\n",
       "                        1.9069e-01, -6.3790e-01, -1.0171e-02, -3.7311e-01, -3.7786e-01,\n",
       "                       -6.6426e-02,  3.5033e-01, -1.3409e+00,  4.1918e-01, -6.9368e-01,\n",
       "                        1.4002e+00, -1.0164e+00,  7.4870e-01,  3.5325e-01, -1.3168e-01,\n",
       "                       -1.6393e+00, -2.4469e+00,  9.6698e-01,  4.8602e-01, -1.3325e+00,\n",
       "                        1.0231e+00,  6.7554e-01, -1.5183e-01,  5.0412e-01,  5.3099e-01])})])"
      ]
     },
     "execution_count": 122,
     "metadata": {},
     "output_type": "execute_result"
    }
   ],
   "source": [
    "trace.nodes"
   ]
  },
  {
   "cell_type": "code",
   "execution_count": 123,
   "metadata": {},
   "outputs": [
    {
     "data": {
      "text/plain": [
       "tensor([ True,  True,  True, False,  True,  True,  True, False,  True,  True,\n",
       "         True,  True,  True,  True, False, False, False, False, False,  True,\n",
       "         True, False, False, False,  True, False, False, False,  True, False,\n",
       "         True,  True, False,  True, False, False,  True, False,  True, False,\n",
       "        False,  True,  True, False, False, False, False,  True, False, False,\n",
       "         True, False,  True, False, False, False, False, False,  True, False,\n",
       "        False,  True, False, False, False,  True,  True,  True,  True, False,\n",
       "         True,  True, False, False, False, False,  True,  True,  True,  True,\n",
       "        False, False,  True, False,  True, False,  True, False,  True,  True,\n",
       "         True,  True,  True,  True, False, False, False,  True,  True,  True])"
      ]
     },
     "execution_count": 123,
     "metadata": {},
     "output_type": "execute_result"
    }
   ],
   "source": [
    "gmask"
   ]
  },
  {
   "cell_type": "code",
   "execution_count": 127,
   "metadata": {},
   "outputs": [
    {
     "data": {
      "text/plain": [
       "tensor(-640.8912)"
      ]
     },
     "execution_count": 127,
     "metadata": {},
     "output_type": "execute_result"
    }
   ],
   "source": [
    "prev_log_sum.masked_select(gmask).sum()  -133.7495 -12.5960"
   ]
  },
  {
   "cell_type": "code",
   "execution_count": 134,
   "metadata": {},
   "outputs": [
    {
     "data": {
      "text/plain": [
       "tensor(-8672.6230, grad_fn=<AddBackward0>)"
      ]
     },
     "execution_count": 134,
     "metadata": {},
     "output_type": "execute_result"
    }
   ],
   "source": [
    "pyro.clear_param_store()\n",
    "pyro.set_rng_seed(0)\n",
    "torch.manual_seed(0)\n",
    "replay_trace = poutine.trace(model).get_trace()\n",
    "trace = poutine.trace(poutine.replay(model, trace=replay_trace)).get_trace()\n",
    "trace.compute_log_prob()\n",
    "trace.log_prob_sum()"
   ]
  },
  {
   "cell_type": "code",
   "execution_count": 136,
   "metadata": {},
   "outputs": [
    {
     "data": {
      "text/plain": [
       "tensor(-4576.8442, grad_fn=<AddBackward0>)"
      ]
     },
     "execution_count": 136,
     "metadata": {},
     "output_type": "execute_result"
    }
   ],
   "source": [
    "pyro.clear_param_store()\n",
    "pyro.set_rng_seed(0)\n",
    "torch.manual_seed(0)\n",
    "conditioned_model = poutine.condition(model, data={\"mu\": torch.tensor(1.).expand([100])})\n",
    "trace = poutine.trace(conditioned_model).get_trace()\n",
    "trace.compute_log_prob()\n",
    "trace.log_prob_sum()\n"
   ]
  },
  {
   "cell_type": "code",
   "execution_count": 137,
   "metadata": {},
   "outputs": [
    {
     "data": {
      "text/plain": [
       "{'type': 'sample',\n",
       " 'name': 'mu',\n",
       " 'fn': Normal(loc: torch.Size([100]), scale: torch.Size([100])),\n",
       " 'is_observed': True,\n",
       " 'args': (),\n",
       " 'kwargs': {},\n",
       " 'value': tensor([1., 1., 1., 1., 1., 1., 1., 1., 1., 1., 1., 1., 1., 1., 1., 1., 1., 1.,\n",
       "         1., 1., 1., 1., 1., 1., 1., 1., 1., 1., 1., 1., 1., 1., 1., 1., 1., 1.,\n",
       "         1., 1., 1., 1., 1., 1., 1., 1., 1., 1., 1., 1., 1., 1., 1., 1., 1., 1.,\n",
       "         1., 1., 1., 1., 1., 1., 1., 1., 1., 1., 1., 1., 1., 1., 1., 1., 1., 1.,\n",
       "         1., 1., 1., 1., 1., 1., 1., 1., 1., 1., 1., 1., 1., 1., 1., 1., 1., 1.,\n",
       "         1., 1., 1., 1., 1., 1., 1., 1., 1., 1.]),\n",
       " 'infer': {},\n",
       " 'scale': 1.0,\n",
       " 'mask': None,\n",
       " 'cond_indep_stack': (CondIndepStackFrame(name='data', dim=-1, size=100, counter=0),),\n",
       " 'done': True,\n",
       " 'stop': False,\n",
       " 'continuation': None,\n",
       " 'unscaled_log_prob': tensor([  -8.3269,   -1.4934,  -14.1858,   -6.1929,  -27.3173,  -87.6885,\n",
       "          -23.6266,  -19.5491,   -2.0211, -111.8448,   -8.8577,   -3.9590,\n",
       "          -16.7821,   -1.8586,  -91.4908,  -12.2090, -273.5062,  -80.7221,\n",
       "           -7.3090,   -4.8403,  -48.3721,  -35.1925,   -2.1401,   -6.0269,\n",
       "          -13.1854,   -7.1516,  -80.9375,  -24.8520,  -13.8901,   -5.2048,\n",
       "          -25.1184,   -5.2484,   -3.6612,   -4.3668,   -1.0791,  -46.3324,\n",
       "           -6.4387, -121.4652,   -6.5991, -100.9021,   -9.6069,   -1.3810,\n",
       "           -9.4006,   -0.9475,  -24.6456,   -1.7184,  -26.6803, -101.0583,\n",
       "         -135.8290,   -2.7295,  -58.2429,  -12.9161,   -0.9244,   -9.5500,\n",
       "          -97.2486,   -3.3285,   -5.8200,   -8.2649,  -47.8280,   -3.7690,\n",
       "          -62.5901,  -32.5537, -300.1099,  -10.6251,  -25.8197, -104.9111,\n",
       "          -15.3206,  -41.3671, -211.0733,  -18.1696,  -63.9626,  -41.2941,\n",
       "          -16.0064,  -35.3559,  -19.2377, -194.5684, -121.8274,  -10.5571,\n",
       "          -11.1271,  -18.4589,  -10.6086,   -9.0591,   -8.2690,  -49.4949,\n",
       "           -8.3319,   -1.7499,  -13.3975,  -14.0908,   -4.1871,  -15.0981,\n",
       "          -28.5109,  -24.4996,   -1.3029,  -39.3578,   -1.3001,   -9.1347,\n",
       "          -34.2219,  -12.8843,   -7.5833,   -3.3036], grad_fn=<SubBackward0>),\n",
       " 'log_prob': tensor([  -8.3269,   -1.4934,  -14.1858,   -6.1929,  -27.3173,  -87.6885,\n",
       "          -23.6266,  -19.5491,   -2.0211, -111.8448,   -8.8577,   -3.9590,\n",
       "          -16.7821,   -1.8586,  -91.4908,  -12.2090, -273.5062,  -80.7221,\n",
       "           -7.3090,   -4.8403,  -48.3721,  -35.1925,   -2.1401,   -6.0269,\n",
       "          -13.1854,   -7.1516,  -80.9375,  -24.8520,  -13.8901,   -5.2048,\n",
       "          -25.1184,   -5.2484,   -3.6612,   -4.3668,   -1.0791,  -46.3324,\n",
       "           -6.4387, -121.4652,   -6.5991, -100.9021,   -9.6069,   -1.3810,\n",
       "           -9.4006,   -0.9475,  -24.6456,   -1.7184,  -26.6803, -101.0583,\n",
       "         -135.8290,   -2.7295,  -58.2429,  -12.9161,   -0.9244,   -9.5500,\n",
       "          -97.2486,   -3.3285,   -5.8200,   -8.2649,  -47.8280,   -3.7690,\n",
       "          -62.5901,  -32.5537, -300.1099,  -10.6251,  -25.8197, -104.9111,\n",
       "          -15.3206,  -41.3671, -211.0733,  -18.1696,  -63.9626,  -41.2941,\n",
       "          -16.0064,  -35.3559,  -19.2377, -194.5684, -121.8274,  -10.5571,\n",
       "          -11.1271,  -18.4589,  -10.6086,   -9.0591,   -8.2690,  -49.4949,\n",
       "           -8.3319,   -1.7499,  -13.3975,  -14.0908,   -4.1871,  -15.0981,\n",
       "          -28.5109,  -24.4996,   -1.3029,  -39.3578,   -1.3001,   -9.1347,\n",
       "          -34.2219,  -12.8843,   -7.5833,   -3.3036], grad_fn=<SubBackward0>),\n",
       " 'log_prob_sum': tensor(-3575.1567, grad_fn=<SumBackward0>)}"
      ]
     },
     "execution_count": 137,
     "metadata": {},
     "output_type": "execute_result"
    }
   ],
   "source": [
    "trace.nodes[\"mu\"]"
   ]
  },
  {
   "cell_type": "code",
   "execution_count": 140,
   "metadata": {},
   "outputs": [
    {
     "data": {
      "text/plain": [
       "{'type': 'sample',\n",
       " 'name': 'obs',\n",
       " 'fn': MaskedDistribution(),\n",
       " 'is_observed': True,\n",
       " 'args': (),\n",
       " 'kwargs': {},\n",
       " 'value': tensor([-2.1622e-01,  1.1429e+00, -1.1941e+00, -4.5405e-01,  1.1093e+00,\n",
       "         -7.6403e-01,  9.0433e-01,  7.2556e-01,  1.7199e-01,  7.5765e-01,\n",
       "         -1.1577e+00,  4.9287e-01, -1.0117e+00, -4.4190e-01,  5.8262e-01,\n",
       "          6.7811e-01,  6.6600e-02, -8.2076e-01,  3.9079e-01, -6.0642e-01,\n",
       "          1.0430e+00,  5.3715e-01, -3.7142e-04, -2.1958e+00,  7.3682e-01,\n",
       "          1.4199e+00, -4.8715e-01, -5.1492e-01, -8.3614e-01,  2.1074e-01,\n",
       "         -7.6517e-01,  1.1447e+00, -1.6897e-01,  8.1874e-01,  1.7329e-01,\n",
       "          1.8932e+00,  9.6315e-01,  1.1630e-01, -1.5593e+00, -1.7994e+00,\n",
       "         -6.0627e-01, -5.4790e-02, -5.4473e-02, -3.9481e-01, -3.2798e-01,\n",
       "         -7.7617e-02, -1.6793e+00,  4.8466e-01, -1.1538e+00, -3.8882e-01,\n",
       "          1.5016e+00, -2.6877e-01, -1.3828e+00, -5.9227e-01,  3.6397e-01,\n",
       "         -1.1891e+00, -3.6396e-01, -7.3487e-01,  6.3302e-01,  1.1717e+00,\n",
       "          1.1080e-01,  2.0265e-01, -7.8402e-01,  1.6561e+00, -1.4234e+00,\n",
       "         -9.8623e-01, -1.4693e+00, -5.3286e-01,  1.1625e+00,  1.5849e-01,\n",
       "         -8.9962e-02,  5.0410e-01, -1.7201e+00, -2.4500e-01, -4.6105e-01,\n",
       "          1.9069e-01, -6.3790e-01, -1.0171e-02, -3.7311e-01, -3.7786e-01,\n",
       "         -6.6426e-02,  3.5033e-01, -1.3409e+00,  4.1918e-01, -6.9368e-01,\n",
       "          1.4002e+00, -1.0164e+00,  7.4870e-01,  3.5325e-01, -1.3168e-01,\n",
       "         -1.6393e+00, -2.4469e+00,  9.6698e-01,  4.8602e-01, -1.3325e+00,\n",
       "          1.0231e+00,  6.7554e-01, -1.5183e-01,  5.0412e-01,  5.3099e-01]),\n",
       " 'infer': {},\n",
       " 'scale': 1.0,\n",
       " 'mask': None,\n",
       " 'cond_indep_stack': (CondIndepStackFrame(name='data', dim=-1, size=100, counter=0),),\n",
       " 'done': True,\n",
       " 'stop': False,\n",
       " 'continuation': None,\n",
       " 'unscaled_log_prob': tensor([-9.8909, -9.8909, -9.8909, -9.8909, -9.8909, -9.8909, -9.8909, -9.8909,\n",
       "         -9.8909, -9.8909, -9.8909, -9.8909, -9.8909, -9.8909, -9.8909, -9.8909,\n",
       "         -9.8909, -9.8909, -9.8909, -9.8909, -9.8909, -9.8909, -9.8909, -9.8909,\n",
       "         -9.8909, -9.8909, -9.8909, -9.8909, -9.8909, -9.8909, -9.8909, -9.8909,\n",
       "         -9.8909, -9.8909, -9.8909, -9.8909, -9.8909, -9.8909, -9.8909, -9.8909,\n",
       "         -9.8909, -9.8909, -9.8909, -9.8909, -9.8909, -9.8909, -9.8909, -9.8909,\n",
       "         -9.8909, -9.8909, -9.8909, -9.8909, -9.8909, -9.8909, -9.8909, -9.8909,\n",
       "         -9.8909, -9.8909, -9.8909, -9.8909, -9.8909, -9.8909, -9.8909, -9.8909,\n",
       "         -9.8909, -9.8909, -9.8909, -9.8909, -9.8909, -9.8909, -9.8909, -9.8909,\n",
       "         -9.8909, -9.8909, -9.8909, -9.8909, -9.8909, -9.8909, -9.8909, -9.8909,\n",
       "         -9.8909, -9.8909, -9.8909, -9.8909, -9.8909, -9.8909, -9.8909, -9.8909,\n",
       "         -9.8909, -9.8909, -9.8909, -9.8909, -9.8909, -9.8909, -9.8909, -9.8909,\n",
       "         -9.8909, -9.8909, -9.8909, -9.8909], grad_fn=<WhereBackward0>),\n",
       " 'log_prob': tensor([-9.8909, -9.8909, -9.8909, -9.8909, -9.8909, -9.8909, -9.8909, -9.8909,\n",
       "         -9.8909, -9.8909, -9.8909, -9.8909, -9.8909, -9.8909, -9.8909, -9.8909,\n",
       "         -9.8909, -9.8909, -9.8909, -9.8909, -9.8909, -9.8909, -9.8909, -9.8909,\n",
       "         -9.8909, -9.8909, -9.8909, -9.8909, -9.8909, -9.8909, -9.8909, -9.8909,\n",
       "         -9.8909, -9.8909, -9.8909, -9.8909, -9.8909, -9.8909, -9.8909, -9.8909,\n",
       "         -9.8909, -9.8909, -9.8909, -9.8909, -9.8909, -9.8909, -9.8909, -9.8909,\n",
       "         -9.8909, -9.8909, -9.8909, -9.8909, -9.8909, -9.8909, -9.8909, -9.8909,\n",
       "         -9.8909, -9.8909, -9.8909, -9.8909, -9.8909, -9.8909, -9.8909, -9.8909,\n",
       "         -9.8909, -9.8909, -9.8909, -9.8909, -9.8909, -9.8909, -9.8909, -9.8909,\n",
       "         -9.8909, -9.8909, -9.8909, -9.8909, -9.8909, -9.8909, -9.8909, -9.8909,\n",
       "         -9.8909, -9.8909, -9.8909, -9.8909, -9.8909, -9.8909, -9.8909, -9.8909,\n",
       "         -9.8909, -9.8909, -9.8909, -9.8909, -9.8909, -9.8909, -9.8909, -9.8909,\n",
       "         -9.8909, -9.8909, -9.8909, -9.8909], grad_fn=<WhereBackward0>),\n",
       " 'log_prob_sum': tensor(-989.0915, grad_fn=<SumBackward0>)}"
      ]
     },
     "execution_count": 140,
     "metadata": {},
     "output_type": "execute_result"
    }
   ],
   "source": [
    "pyro.clear_param_store()\n",
    "pyro.set_rng_seed(0)\n",
    "torch.manual_seed(0)\n",
    "trace = poutine.trace(model).get_trace()\n",
    "trace.compute_log_prob()\n",
    "trace.log_prob_sum()\n",
    "trace.nodes[\"obs\"]"
   ]
  },
  {
   "cell_type": "code",
   "execution_count": 141,
   "metadata": {},
   "outputs": [
    {
     "data": {
      "text/plain": [
       "{'type': 'sample',\n",
       " 'name': 'obs',\n",
       " 'fn': MaskedDistribution(),\n",
       " 'is_observed': False,\n",
       " 'args': (),\n",
       " 'kwargs': {},\n",
       " 'value': tensor([   575.3362,   6350.6543,  -7208.2539, -13457.8779,   1310.0590,\n",
       "             78.5790,  11028.0410,   4565.3130,  -2129.3877,   4506.5371,\n",
       "           6973.1475, -11956.0010,    941.5563,  -7390.6782,   1613.1522,\n",
       "         -11139.9980,   8248.0215,  -6321.3076,   5654.2969,   6590.0132,\n",
       "           9422.5850, -14137.4004,   5115.0688,  -7763.4893,  -8205.4570,\n",
       "          -3899.1360, -10121.9248,  16599.4844, -12734.6025,   1482.3986,\n",
       "           1705.9686,   8231.3232, -18445.8184,  -6877.0928,   5753.8115,\n",
       "            553.9900,  -5595.9663,   8445.3896,   -204.6812,  -8963.5840,\n",
       "           3624.7888,  -1259.1777,   5752.2202,   6631.7021,   -894.3475,\n",
       "           6176.5645, -14198.9023,  -4658.7754,   4937.0356,  -1872.4167,\n",
       "          10932.1914, -19707.8613,   8442.3545,   6454.2729,   5669.9419,\n",
       "          -5884.7085,   7947.1348,  -8653.7402,  14061.3760,    338.6104,\n",
       "          -9883.5801, -11379.3838,  -2188.2510, -10803.8398,   -871.8994,\n",
       "           1566.2625, -10303.6055,  12330.9463,  10067.4365,   4723.0298,\n",
       "          -3793.1123,   3548.6584, -12089.9746,  11056.2949, -11928.4180,\n",
       "          -5135.3125,  -5284.8311,   5159.2461,  -4754.2598,  -6783.6831,\n",
       "           -830.3766,  -5000.6792,   2864.6909,   1753.3868,   2044.8688,\n",
       "          10055.0830,   3489.0059,  -4648.2100,   7543.9126,   3083.2686,\n",
       "           8425.7686,  -4725.1909,  -4548.4614,  -3277.2314,   1869.7336,\n",
       "         -11141.1465, -12290.7168,   -904.6165,  -8154.2490,  -3364.7788],\n",
       "        grad_fn=<AddBackward0>),\n",
       " 'infer': {'was_observed': True,\n",
       "  'obs': tensor([-2.1622e-01,  1.1429e+00, -1.1941e+00, -4.5405e-01,  1.1093e+00,\n",
       "          -7.6403e-01,  9.0433e-01,  7.2556e-01,  1.7199e-01,  7.5765e-01,\n",
       "          -1.1577e+00,  4.9287e-01, -1.0117e+00, -4.4190e-01,  5.8262e-01,\n",
       "           6.7811e-01,  6.6600e-02, -8.2076e-01,  3.9079e-01, -6.0642e-01,\n",
       "           1.0430e+00,  5.3715e-01, -3.7142e-04, -2.1958e+00,  7.3682e-01,\n",
       "           1.4199e+00, -4.8715e-01, -5.1492e-01, -8.3614e-01,  2.1074e-01,\n",
       "          -7.6517e-01,  1.1447e+00, -1.6897e-01,  8.1874e-01,  1.7329e-01,\n",
       "           1.8932e+00,  9.6315e-01,  1.1630e-01, -1.5593e+00, -1.7994e+00,\n",
       "          -6.0627e-01, -5.4790e-02, -5.4473e-02, -3.9481e-01, -3.2798e-01,\n",
       "          -7.7617e-02, -1.6793e+00,  4.8466e-01, -1.1538e+00, -3.8882e-01,\n",
       "           1.5016e+00, -2.6877e-01, -1.3828e+00, -5.9227e-01,  3.6397e-01,\n",
       "          -1.1891e+00, -3.6396e-01, -7.3487e-01,  6.3302e-01,  1.1717e+00,\n",
       "           1.1080e-01,  2.0265e-01, -7.8402e-01,  1.6561e+00, -1.4234e+00,\n",
       "          -9.8623e-01, -1.4693e+00, -5.3286e-01,  1.1625e+00,  1.5849e-01,\n",
       "          -8.9962e-02,  5.0410e-01, -1.7201e+00, -2.4500e-01, -4.6105e-01,\n",
       "           1.9069e-01, -6.3790e-01, -1.0171e-02, -3.7311e-01, -3.7786e-01,\n",
       "          -6.6426e-02,  3.5033e-01, -1.3409e+00,  4.1918e-01, -6.9368e-01,\n",
       "           1.4002e+00, -1.0164e+00,  7.4870e-01,  3.5325e-01, -1.3168e-01,\n",
       "          -1.6393e+00, -2.4469e+00,  9.6698e-01,  4.8602e-01, -1.3325e+00,\n",
       "           1.0231e+00,  6.7554e-01, -1.5183e-01,  5.0412e-01,  5.3099e-01])},\n",
       " 'scale': 1.0,\n",
       " 'mask': None,\n",
       " 'cond_indep_stack': (CondIndepStackFrame(name='data', dim=-1, size=100, counter=0),),\n",
       " 'done': True,\n",
       " 'stop': False,\n",
       " 'continuation': None,\n",
       " 'unscaled_log_prob': tensor([ -9.8936, -10.2159, -10.3101, -11.3488,  -9.9046,  -9.8910, -10.8689,\n",
       "         -10.0592,  -9.9275, -10.0534, -10.2820, -11.0419,  -9.8980, -10.3311,\n",
       "          -9.9115, -10.8899, -10.4356, -10.2114, -10.1488, -10.2402, -10.6073,\n",
       "         -11.4993, -10.1017, -10.3770, -10.4326, -10.0136, -10.7184, -12.1119,\n",
       "         -11.1981,  -9.9085,  -9.9145, -10.4368, -12.6314, -10.2716, -10.1574,\n",
       "          -9.8935, -10.1435, -10.4672,  -9.8913, -10.5360,  -9.9964,  -9.9038,\n",
       "         -10.1578, -10.2450,  -9.8973, -10.1980, -11.5167, -10.0648, -10.0857,\n",
       "          -9.9191, -10.8513, -13.0207, -10.4649, -10.2260, -10.1510, -10.1701,\n",
       "         -10.3998, -10.4936, -11.4854,  -9.8918, -10.6800, -10.9355,  -9.9286,\n",
       "         -10.8304,  -9.8970,  -9.9103, -10.7470, -11.1172, -10.7101, -10.0708,\n",
       "         -10.0075,  -9.9929, -11.0693, -10.8769, -11.0381, -10.1017, -10.1145,\n",
       "         -10.1048, -10.0727, -10.2611,  -9.8965, -10.0921,  -9.9571,  -9.9154,\n",
       "          -9.9247, -10.7048,  -9.9892, -10.0653, -10.3494,  -9.9671, -10.4637,\n",
       "         -10.0714, -10.0578,  -9.9779,  -9.9190, -10.8902, -11.1060,  -9.8975,\n",
       "         -10.4271,  -9.9821], grad_fn=<WhereBackward0>),\n",
       " 'log_prob': tensor([ -9.8936, -10.2159, -10.3101, -11.3488,  -9.9046,  -9.8910, -10.8689,\n",
       "         -10.0592,  -9.9275, -10.0534, -10.2820, -11.0419,  -9.8980, -10.3311,\n",
       "          -9.9115, -10.8899, -10.4356, -10.2114, -10.1488, -10.2402, -10.6073,\n",
       "         -11.4993, -10.1017, -10.3770, -10.4326, -10.0136, -10.7184, -12.1119,\n",
       "         -11.1981,  -9.9085,  -9.9145, -10.4368, -12.6314, -10.2716, -10.1574,\n",
       "          -9.8935, -10.1435, -10.4672,  -9.8913, -10.5360,  -9.9964,  -9.9038,\n",
       "         -10.1578, -10.2450,  -9.8973, -10.1980, -11.5167, -10.0648, -10.0857,\n",
       "          -9.9191, -10.8513, -13.0207, -10.4649, -10.2260, -10.1510, -10.1701,\n",
       "         -10.3998, -10.4936, -11.4854,  -9.8918, -10.6800, -10.9355,  -9.9286,\n",
       "         -10.8304,  -9.8970,  -9.9103, -10.7470, -11.1172, -10.7101, -10.0708,\n",
       "         -10.0075,  -9.9929, -11.0693, -10.8769, -11.0381, -10.1017, -10.1145,\n",
       "         -10.1048, -10.0727, -10.2611,  -9.8965, -10.0921,  -9.9571,  -9.9154,\n",
       "          -9.9247, -10.7048,  -9.9892, -10.0653, -10.3494,  -9.9671, -10.4637,\n",
       "         -10.0714, -10.0578,  -9.9779,  -9.9190, -10.8902, -11.1060,  -9.8975,\n",
       "         -10.4271,  -9.9821], grad_fn=<WhereBackward0>),\n",
       " 'log_prob_sum': tensor(-1038.4353, grad_fn=<SumBackward0>)}"
      ]
     },
     "execution_count": 141,
     "metadata": {},
     "output_type": "execute_result"
    }
   ],
   "source": [
    "pyro.clear_param_store()\n",
    "pyro.set_rng_seed(0)\n",
    "torch.manual_seed(0)\n",
    "trace = poutine.trace(pyro.poutine.uncondition(model)).get_trace()\n",
    "trace.compute_log_prob()\n",
    "trace.log_prob_sum()\n",
    "trace.nodes[\"obs\"]"
   ]
  },
  {
   "cell_type": "code",
   "execution_count": 244,
   "metadata": {},
   "outputs": [],
   "source": [
    "def model():\n",
    "    probs_a = torch.tensor([0.4, 0.3, 0.3])\n",
    "    probs_b = torch.tensor([-10., 10, 50.])\n",
    "    a = pyro.sample(\"a\", dist.Categorical(probs_a))\n",
    "    print(\"Sampled a: \", a)\n",
    "    with pyro.plate(\"data\", 10):\n",
    "        pyro.sample(\"obs\", dist.Normal(probs_b[a], torch.tensor(1.)),)"
   ]
  },
  {
   "cell_type": "code",
   "execution_count": 245,
   "metadata": {},
   "outputs": [
    {
     "name": "stdout",
     "output_type": "stream",
     "text": [
      "Sampled a:  tensor(2)\n"
     ]
    },
    {
     "data": {
      "text/plain": [
       "tensor(-11.3389)"
      ]
     },
     "execution_count": 245,
     "metadata": {},
     "output_type": "execute_result"
    }
   ],
   "source": [
    "pyro.clear_param_store()\n",
    "pyro.set_rng_seed(0)\n",
    "torch.manual_seed(0)\n",
    "trace = poutine.trace(model).get_trace()\n",
    "trace.compute_log_prob()\n",
    "trace.log_prob_sum()"
   ]
  },
  {
   "cell_type": "code",
   "execution_count": 246,
   "metadata": {},
   "outputs": [
    {
     "data": {
      "text/plain": [
       "['Trace Shapes:     ',\n",
       " ' Param Sites:     ',\n",
       " 'Sample Sites:     ',\n",
       " '       a dist    |',\n",
       " '        value    |',\n",
       " '     log_prob    |',\n",
       " '    data dist    |',\n",
       " '        value 10 |',\n",
       " '     log_prob    |',\n",
       " '     obs dist 10 |',\n",
       " '        value 10 |',\n",
       " '     log_prob 10 |']"
      ]
     },
     "execution_count": 246,
     "metadata": {},
     "output_type": "execute_result"
    }
   ],
   "source": [
    "trace.format_shapes().split(\"\\n\")"
   ]
  },
  {
   "cell_type": "code",
   "execution_count": 247,
   "metadata": {},
   "outputs": [
    {
     "data": {
      "text/plain": [
       "{'type': 'sample',\n",
       " 'name': 'obs',\n",
       " 'fn': Normal(loc: torch.Size([10]), scale: torch.Size([10])),\n",
       " 'is_observed': False,\n",
       " 'args': (),\n",
       " 'kwargs': {},\n",
       " 'value': tensor([50.2072, 50.2699, 50.5507, 50.2704, 50.6472, 50.2490, 49.6646, 50.4564,\n",
       "         49.3745, 50.4539]),\n",
       " 'infer': {},\n",
       " 'scale': 1.0,\n",
       " 'mask': None,\n",
       " 'cond_indep_stack': (CondIndepStackFrame(name='data', dim=-1, size=10, counter=0),),\n",
       " 'done': True,\n",
       " 'stop': False,\n",
       " 'continuation': None,\n",
       " 'unscaled_log_prob': tensor([-0.9404, -0.9554, -1.0706, -0.9555, -1.1284, -0.9499, -0.9752, -1.0231,\n",
       "         -1.1145, -1.0219]),\n",
       " 'log_prob': tensor([-0.9404, -0.9554, -1.0706, -0.9555, -1.1284, -0.9499, -0.9752, -1.0231,\n",
       "         -1.1145, -1.0219]),\n",
       " 'log_prob_sum': tensor(-10.1349)}"
      ]
     },
     "execution_count": 247,
     "metadata": {},
     "output_type": "execute_result"
    }
   ],
   "source": [
    "trace.nodes[\"obs\"]"
   ]
  },
  {
   "cell_type": "code",
   "execution_count": 248,
   "metadata": {},
   "outputs": [],
   "source": [
    "def model():\n",
    "    probs_a = torch.tensor([0.4, 0.3, 0.3])\n",
    "    probs_b = torch.tensor([-10., 10, 50.])\n",
    "    a = pyro.sample(\"a\", dist.Categorical(probs_a))\n",
    "    print(\"Selected a\", a)\n",
    "    with pyro.plate(\"data\", 10):\n",
    "        print(probs_b[a])\n",
    "        pyro.sample(\"obs\", dist.Normal(probs_b[a], torch.tensor(1.)))"
   ]
  },
  {
   "cell_type": "code",
   "execution_count": 249,
   "metadata": {},
   "outputs": [
    {
     "name": "stdout",
     "output_type": "stream",
     "text": [
      "Selected a tensor([[0],\n",
      "        [1],\n",
      "        [2]])\n",
      "tensor([[-10.],\n",
      "        [ 10.],\n",
      "        [ 50.]])\n"
     ]
    },
    {
     "data": {
      "text/plain": [
       "tensor(-43.5795)"
      ]
     },
     "execution_count": 249,
     "metadata": {},
     "output_type": "execute_result"
    }
   ],
   "source": [
    "pyro.clear_param_store()\n",
    "pyro.set_rng_seed(0)\n",
    "torch.manual_seed(0)\n",
    "enum_model = poutine.enum(infer.config_enumerate(model, \"parallel\"), first_available_dim=-2)\n",
    "trace = poutine.trace(enum_model).get_trace()\n",
    "trace.compute_log_prob()\n",
    "trace.log_prob_sum()"
   ]
  },
  {
   "cell_type": "code",
   "execution_count": 250,
   "metadata": {},
   "outputs": [
    {
     "data": {
      "text/plain": [
       "['Trace Shapes:       ',\n",
       " ' Param Sites:       ',\n",
       " 'Sample Sites:       ',\n",
       " '       a dist      |',\n",
       " '        value 3  1 |',\n",
       " '     log_prob 3  1 |',\n",
       " '    data dist      |',\n",
       " '        value   10 |',\n",
       " '     log_prob      |',\n",
       " '     obs dist 3 10 |',\n",
       " '        value 3 10 |',\n",
       " '     log_prob 3 10 |']"
      ]
     },
     "execution_count": 250,
     "metadata": {},
     "output_type": "execute_result"
    }
   ],
   "source": [
    "trace.format_shapes().split(\"\\n\")\n"
   ]
  },
  {
   "cell_type": "code",
   "execution_count": 251,
   "metadata": {},
   "outputs": [
    {
     "data": {
      "text/plain": [
       "tensor([-0.9163, -1.2040, -1.2040])"
      ]
     },
     "execution_count": 251,
     "metadata": {},
     "output_type": "execute_result"
    }
   ],
   "source": [
    "torch.tensor([0.4, 0.3, 0.3]).log()"
   ]
  },
  {
   "cell_type": "code",
   "execution_count": 252,
   "metadata": {},
   "outputs": [
    {
     "data": {
      "text/plain": [
       "OrderedDict([('_INPUT',\n",
       "              {'name': '_INPUT', 'type': 'args', 'args': (), 'kwargs': {}}),\n",
       "             ('a',\n",
       "              {'type': 'sample',\n",
       "               'name': 'a',\n",
       "               'fn': Categorical(probs: torch.Size([3]), logits: torch.Size([3])),\n",
       "               'is_observed': False,\n",
       "               'args': (),\n",
       "               'kwargs': {},\n",
       "               'value': tensor([[0],\n",
       "                       [1],\n",
       "                       [2]]),\n",
       "               'infer': {'enumerate': 'parallel',\n",
       "                'expand': False,\n",
       "                '_enumerate_dim': -2,\n",
       "                '_dim_to_id': {-2: 0}},\n",
       "               'scale': 1.0,\n",
       "               'mask': None,\n",
       "               'cond_indep_stack': (),\n",
       "               'done': True,\n",
       "               'stop': False,\n",
       "               'continuation': None,\n",
       "               'unscaled_log_prob': tensor([[-0.9163],\n",
       "                       [-1.2040],\n",
       "                       [-1.2040]]),\n",
       "               'log_prob': tensor([[-0.9163],\n",
       "                       [-1.2040],\n",
       "                       [-1.2040]]),\n",
       "               'log_prob_sum': tensor(-3.3242)}),\n",
       "             ('data',\n",
       "              {'type': 'sample',\n",
       "               'name': 'data',\n",
       "               'fn': <pyro.poutine.subsample_messenger._Subsample at 0x7ff5803c9610>,\n",
       "               'is_observed': False,\n",
       "               'args': (),\n",
       "               'kwargs': {},\n",
       "               'value': tensor([0, 1, 2, 3, 4, 5, 6, 7, 8, 9]),\n",
       "               'infer': {},\n",
       "               'scale': 1.0,\n",
       "               'mask': None,\n",
       "               'cond_indep_stack': (),\n",
       "               'done': True,\n",
       "               'stop': False,\n",
       "               'continuation': None,\n",
       "               'unscaled_log_prob': tensor(0.),\n",
       "               'log_prob': tensor(0.),\n",
       "               'log_prob_sum': tensor(0.)}),\n",
       "             ('obs',\n",
       "              {'type': 'sample',\n",
       "               'name': 'obs',\n",
       "               'fn': Normal(loc: torch.Size([3, 10]), scale: torch.Size([3, 10])),\n",
       "               'is_observed': False,\n",
       "               'args': (),\n",
       "               'kwargs': {},\n",
       "               'value': tensor([[-11.1258, -11.1524, -10.2506, -10.4339,  -9.1513,  -9.3080, -10.3160,\n",
       "                        -12.1152,  -9.6777, -11.2633],\n",
       "                       [ 10.3500,  10.3081,  10.1198,  11.2377,   9.8565,   9.8884,   9.3864,\n",
       "                         10.0316,   9.5073,  10.2484],\n",
       "                       [ 50.4397,  50.1124,  49.1589,  47.6840,  49.8977,  50.7924,  49.7103,\n",
       "                         50.0525,  50.5229,  52.3022]]),\n",
       "               'infer': {'_dim_to_id': {-2: 0}},\n",
       "               'scale': 1.0,\n",
       "               'mask': None,\n",
       "               'cond_indep_stack': (CondIndepStackFrame(name='data', dim=-1, size=10, counter=0),),\n",
       "               'done': True,\n",
       "               'stop': False,\n",
       "               'continuation': None,\n",
       "               'unscaled_log_prob': tensor([[-1.5527, -1.5829, -0.9503, -1.0131, -1.2791, -1.1584, -0.9689, -3.1560,\n",
       "                        -0.9709, -1.7169],\n",
       "                       [-0.9802, -0.9664, -0.9261, -1.6848, -0.9292, -0.9252, -1.1072, -0.9194,\n",
       "                        -1.0403, -0.9498],\n",
       "                       [-1.0156, -0.9253, -1.2726, -3.6010, -0.9242, -1.2329, -0.9609, -0.9203,\n",
       "                        -1.0556, -3.5690]]),\n",
       "               'log_prob': tensor([[-1.5527, -1.5829, -0.9503, -1.0131, -1.2791, -1.1584, -0.9689, -3.1560,\n",
       "                        -0.9709, -1.7169],\n",
       "                       [-0.9802, -0.9664, -0.9261, -1.6848, -0.9292, -0.9252, -1.1072, -0.9194,\n",
       "                        -1.0403, -0.9498],\n",
       "                       [-1.0156, -0.9253, -1.2726, -3.6010, -0.9242, -1.2329, -0.9609, -0.9203,\n",
       "                        -1.0556, -3.5690]]),\n",
       "               'log_prob_sum': tensor(-40.2552)}),\n",
       "             ('_RETURN',\n",
       "              {'name': '_RETURN', 'type': 'return', 'value': None})])"
      ]
     },
     "execution_count": 252,
     "metadata": {},
     "output_type": "execute_result"
    }
   ],
   "source": [
    "trace.nodes"
   ]
  },
  {
   "cell_type": "code",
   "execution_count": 253,
   "metadata": {},
   "outputs": [
    {
     "data": {
      "text/plain": [
       "tensor([[-1.5527, -1.5829, -0.9503, -1.0131, -1.2791, -1.1584, -0.9689, -3.1560,\n",
       "         -0.9709, -1.7169],\n",
       "        [-0.9802, -0.9664, -0.9261, -1.6848, -0.9292, -0.9252, -1.1072, -0.9194,\n",
       "         -1.0403, -0.9498],\n",
       "        [-1.0156, -0.9253, -1.2726, -3.6010, -0.9242, -1.2329, -0.9609, -0.9203,\n",
       "         -1.0556, -3.5690]])"
      ]
     },
     "execution_count": 253,
     "metadata": {},
     "output_type": "execute_result"
    }
   ],
   "source": [
    "trace.nodes[\"obs\"][\"fn\"].log_prob(trace.nodes[\"obs\"][\"value\"])"
   ]
  },
  {
   "cell_type": "code",
   "execution_count": 254,
   "metadata": {},
   "outputs": [
    {
     "data": {
      "text/plain": [
       "tensor([[0.2117, 0.2054, 0.3866, 0.3631, 0.2783, 0.3140, 0.3795, 0.0426, 0.3788,\n",
       "         0.1796],\n",
       "        [0.3752, 0.3804, 0.3961, 0.1855, 0.3949, 0.3965, 0.3305, 0.3987, 0.3533,\n",
       "         0.3868],\n",
       "        [0.3622, 0.3964, 0.2801, 0.0273, 0.3969, 0.2914, 0.3826, 0.3984, 0.3480,\n",
       "         0.0282]])"
      ]
     },
     "execution_count": 254,
     "metadata": {},
     "output_type": "execute_result"
    }
   ],
   "source": [
    "trace.nodes[\"obs\"][\"fn\"].log_prob(trace.nodes[\"obs\"][\"value\"]).exp()"
   ]
  },
  {
   "cell_type": "code",
   "execution_count": 255,
   "metadata": {},
   "outputs": [
    {
     "data": {
      "text/plain": [
       "tensor([[-11.1258, -11.1524, -10.2506, -10.4339,  -9.1513,  -9.3080, -10.3160,\n",
       "         -12.1152,  -9.6777, -11.2633],\n",
       "        [ 10.3500,  10.3081,  10.1198,  11.2377,   9.8565,   9.8884,   9.3864,\n",
       "          10.0316,   9.5073,  10.2484],\n",
       "        [ 50.4397,  50.1124,  49.1589,  47.6840,  49.8977,  50.7924,  49.7103,\n",
       "          50.0525,  50.5229,  52.3022]])"
      ]
     },
     "execution_count": 255,
     "metadata": {},
     "output_type": "execute_result"
    }
   ],
   "source": [
    "trace.nodes[\"obs\"][\"value\"]"
   ]
  },
  {
   "cell_type": "code",
   "execution_count": 264,
   "metadata": {},
   "outputs": [
    {
     "name": "stdout",
     "output_type": "stream",
     "text": [
      "Selected a tensor([[0],\n",
      "        [1],\n",
      "        [2]])\n",
      "tensor([[-10.],\n",
      "        [ 10.],\n",
      "        [ 50.]])\n",
      "Selected a tensor(0)\n",
      "tensor(-10.)\n"
     ]
    }
   ],
   "source": [
    "infer.infer_discrete(enum_model, -1)()"
   ]
  },
  {
   "cell_type": "code",
   "execution_count": null,
   "metadata": {},
   "outputs": [],
   "source": []
  },
  {
   "cell_type": "code",
   "execution_count": null,
   "metadata": {},
   "outputs": [],
   "source": []
  },
  {
   "cell_type": "code",
   "execution_count": null,
   "metadata": {},
   "outputs": [],
   "source": []
  },
  {
   "cell_type": "code",
   "execution_count": null,
   "metadata": {},
   "outputs": [],
   "source": []
  }
 ],
 "metadata": {
  "kernelspec": {
   "display_name": "env_nlp",
   "language": "python",
   "name": "python3"
  },
  "language_info": {
   "codemirror_mode": {
    "name": "ipython",
    "version": 3
   },
   "file_extension": ".py",
   "mimetype": "text/x-python",
   "name": "python",
   "nbconvert_exporter": "python",
   "pygments_lexer": "ipython3",
   "version": "3.10.0"
  }
 },
 "nbformat": 4,
 "nbformat_minor": 2
}
