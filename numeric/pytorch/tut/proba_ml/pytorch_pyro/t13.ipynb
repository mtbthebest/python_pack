{
 "cells": [
  {
   "cell_type": "code",
   "execution_count": 9,
   "metadata": {},
   "outputs": [
    {
     "name": "stdout",
     "output_type": "stream",
     "text": [
      "The autoreload extension is already loaded. To reload it, use:\n",
      "  %reload_ext autoreload\n"
     ]
    }
   ],
   "source": [
    "%load_ext autoreload\n",
    "%autoreload 2\n",
    "import torch\n",
    "from torch import nn, optim\n",
    "import numpy as np\n",
    "import pandas as pd\n",
    "import scipy\n",
    "import matplotlib as mpl\n",
    "import matplotlib.pyplot as plt\n",
    "import pyro\n",
    "import pyro.distributions as dist\n",
    "from pyro.distributions import Categorical, Normal, Multinomial, Binomial, MultivariateNormal, Beta, constraints\n",
    "from pyro.distributions.torch import Bernoulli\n",
    "import pyro.infer as infer\n",
    "from pyro.infer import TraceEnum_ELBO, Trace_ELBO, config_enumerate, SVI\n",
    "from pyro import poutine\n",
    "\n",
    "plt.style.use('seaborn-v0_8')"
   ]
  },
  {
   "cell_type": "code",
   "execution_count": 10,
   "metadata": {},
   "outputs": [],
   "source": [
    "data = dist.Normal(2, 10.).sample((1000, ))"
   ]
  },
  {
   "cell_type": "code",
   "execution_count": 11,
   "metadata": {},
   "outputs": [
    {
     "name": "stdout",
     "output_type": "stream",
     "text": [
      "15273.580078125\n"
     ]
    }
   ],
   "source": [
    "@config_enumerate\n",
    "def model(d):\n",
    "    locs = torch.tensor([2, 4, 5])\n",
    "    p = torch.tensor([0.3, 0.4, 0.3])\n",
    "    idx = pyro.sample(\"idx\", dist.Categorical(p))\n",
    "    with pyro.plate(\"data\", len(data)):\n",
    "        z = pyro.sample(\"z\", dist.Normal(p[idx], 2.0), obs=d)\n",
    "\n",
    "def guide(data):\n",
    "    pass\n",
    "pyro.set_rng_seed(0)\n",
    "torch.manual_seed(0)\n",
    "svi = SVI(model, guide, pyro.optim.Adam({\"lr\": 1e-2}), TraceEnum_ELBO(max_plate_nesting=1))\n",
    "print(svi.step(data))\n"
   ]
  },
  {
   "cell_type": "code",
   "execution_count": 12,
   "metadata": {},
   "outputs": [],
   "source": [
    "@config_enumerate\n",
    "def model(d):\n",
    "    locs = torch.tensor([2, 4, 5])\n",
    "    p = torch.tensor([0.3, 0.4, 0.3])\n",
    "    idx = pyro.sample(\"idx\", dist.Categorical(p))\n",
    "    with pyro.plate(\"data\", len(data)):\n",
    "        z = pyro.sample(\"z\", dist.Normal(p[idx], 2.0), obs=d)\n",
    "\n",
    "def guide(data):\n",
    "    pass\n",
    "pyro.set_rng_seed(0)\n",
    "torch.manual_seed(0)\n",
    "trace = poutine.trace(poutine.enum(model, first_available_dim=-2)).get_trace(data)"
   ]
  },
  {
   "cell_type": "code",
   "execution_count": 13,
   "metadata": {},
   "outputs": [],
   "source": [
    "trace.compute_log_prob()"
   ]
  },
  {
   "cell_type": "code",
   "execution_count": 14,
   "metadata": {},
   "outputs": [
    {
     "data": {
      "text/plain": [
       "torch.Size([1000])"
      ]
     },
     "execution_count": 14,
     "metadata": {},
     "output_type": "execute_result"
    }
   ],
   "source": [
    "trace.nodes[\"z\"][\"value\"].size()"
   ]
  },
  {
   "cell_type": "code",
   "execution_count": 15,
   "metadata": {},
   "outputs": [
    {
     "data": {
      "text/plain": [
       "torch.Size([3, 1000])"
      ]
     },
     "execution_count": 15,
     "metadata": {},
     "output_type": "execute_result"
    }
   ],
   "source": [
    "trace.nodes[\"z\"]['log_prob'].size()"
   ]
  },
  {
   "cell_type": "code",
   "execution_count": 16,
   "metadata": {},
   "outputs": [
    {
     "data": {
      "text/plain": [
       "tensor(-15304.9834)"
      ]
     },
     "execution_count": 16,
     "metadata": {},
     "output_type": "execute_result"
    }
   ],
   "source": [
    "trace.nodes[\"z\"]['log_prob'].sum() / 3"
   ]
  },
  {
   "cell_type": "code",
   "execution_count": null,
   "metadata": {},
   "outputs": [],
   "source": []
  }
 ],
 "metadata": {
  "kernelspec": {
   "display_name": "env_nlp",
   "language": "python",
   "name": "python3"
  },
  "language_info": {
   "codemirror_mode": {
    "name": "ipython",
    "version": 3
   },
   "file_extension": ".py",
   "mimetype": "text/x-python",
   "name": "python",
   "nbconvert_exporter": "python",
   "pygments_lexer": "ipython3",
   "version": "3.10.0"
  }
 },
 "nbformat": 4,
 "nbformat_minor": 2
}
