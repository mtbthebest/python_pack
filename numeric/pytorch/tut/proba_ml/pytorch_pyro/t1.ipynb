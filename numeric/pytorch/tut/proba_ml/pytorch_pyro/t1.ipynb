{
 "cells": [
  {
   "cell_type": "code",
   "execution_count": 1,
   "metadata": {},
   "outputs": [
    {
     "name": "stderr",
     "output_type": "stream",
     "text": [
      "/env_nlp/lib/python3.9/site-packages/tqdm/auto.py:21: TqdmWarning: IProgress not found. Please update jupyter and ipywidgets. See https://ipywidgets.readthedocs.io/en/stable/user_install.html\n",
      "  from .autonotebook import tqdm as notebook_tqdm\n"
     ]
    }
   ],
   "source": [
    "%load_ext autoreload\n",
    "%autoreload 2\n",
    "import torch\n",
    "from torch import nn, optim\n",
    "import numpy as np\n",
    "import pyro\n",
    "import pyro.distributions as dist\n",
    "from pyro.distributions import Categorical, Normal, Multinomial, Binomial, MultivariateNormal, Beta\n",
    "from pyro.distributions.torch import Bernoulli\n",
    "import pyro.infer as infer"
   ]
  },
  {
   "cell_type": "code",
   "execution_count": 2,
   "metadata": {},
   "outputs": [],
   "source": [
    "pyro.set_rng_seed(0)"
   ]
  },
  {
   "cell_type": "code",
   "execution_count": 3,
   "metadata": {},
   "outputs": [
    {
     "data": {
      "text/plain": [
       "'1.8.4'"
      ]
     },
     "execution_count": 3,
     "metadata": {},
     "output_type": "execute_result"
    }
   ],
   "source": [
    "pyro.__version__"
   ]
  },
  {
   "cell_type": "code",
   "execution_count": 4,
   "metadata": {},
   "outputs": [
    {
     "data": {
      "text/plain": [
       "Bernoulli(probs: 0.5)"
      ]
     },
     "execution_count": 4,
     "metadata": {},
     "output_type": "execute_result"
    }
   ],
   "source": [
    "dist.Bernoulli(0.5)"
   ]
  },
  {
   "cell_type": "code",
   "execution_count": 5,
   "metadata": {},
   "outputs": [
    {
     "data": {
      "text/plain": [
       "tensor(1.)"
      ]
     },
     "execution_count": 5,
     "metadata": {},
     "output_type": "execute_result"
    }
   ],
   "source": [
    "dist.Bernoulli(0.5).sample()"
   ]
  },
  {
   "cell_type": "code",
   "execution_count": 6,
   "metadata": {},
   "outputs": [
    {
     "data": {
      "text/plain": [
       "tensor(0.)"
      ]
     },
     "execution_count": 6,
     "metadata": {},
     "output_type": "execute_result"
    }
   ],
   "source": [
    "dist.Bernoulli(0.5).sample()"
   ]
  },
  {
   "cell_type": "code",
   "execution_count": 7,
   "metadata": {},
   "outputs": [],
   "source": [
    "d = dist.Bernoulli(0.5)"
   ]
  },
  {
   "cell_type": "code",
   "execution_count": 8,
   "metadata": {},
   "outputs": [
    {
     "data": {
      "text/plain": [
       "tensor(1.)"
      ]
     },
     "execution_count": 8,
     "metadata": {},
     "output_type": "execute_result"
    }
   ],
   "source": [
    "d.sample()"
   ]
  },
  {
   "cell_type": "code",
   "execution_count": 9,
   "metadata": {},
   "outputs": [
    {
     "data": {
      "text/plain": [
       "tensor([1., 1., 0., 1., 0., 1., 0., 1., 1., 1.])"
      ]
     },
     "execution_count": 9,
     "metadata": {},
     "output_type": "execute_result"
    }
   ],
   "source": [
    "d.sample((10,))"
   ]
  },
  {
   "cell_type": "code",
   "execution_count": 10,
   "metadata": {},
   "outputs": [
    {
     "data": {
      "text/plain": [
       "tensor(-0.6931)"
      ]
     },
     "execution_count": 10,
     "metadata": {},
     "output_type": "execute_result"
    }
   ],
   "source": [
    "d.log_prob(d.sample())"
   ]
  },
  {
   "cell_type": "code",
   "execution_count": 11,
   "metadata": {},
   "outputs": [],
   "source": [
    "d = dist.Bernoulli(0.9)"
   ]
  },
  {
   "cell_type": "code",
   "execution_count": 12,
   "metadata": {},
   "outputs": [
    {
     "data": {
      "text/plain": [
       "tensor(1.)"
      ]
     },
     "execution_count": 12,
     "metadata": {},
     "output_type": "execute_result"
    }
   ],
   "source": [
    "s = d.sample()\n",
    "s"
   ]
  },
  {
   "cell_type": "code",
   "execution_count": 13,
   "metadata": {},
   "outputs": [
    {
     "data": {
      "text/plain": [
       "tensor(-0.1054)"
      ]
     },
     "execution_count": 13,
     "metadata": {},
     "output_type": "execute_result"
    }
   ],
   "source": [
    "d.log_prob(s)"
   ]
  },
  {
   "cell_type": "code",
   "execution_count": 14,
   "metadata": {},
   "outputs": [
    {
     "data": {
      "text/plain": [
       "tensor(1.)"
      ]
     },
     "execution_count": 14,
     "metadata": {},
     "output_type": "execute_result"
    }
   ],
   "source": [
    "s = d.sample()\n",
    "s"
   ]
  },
  {
   "cell_type": "code",
   "execution_count": 15,
   "metadata": {},
   "outputs": [
    {
     "data": {
      "text/plain": [
       "tensor(-2.3026)"
      ]
     },
     "execution_count": 15,
     "metadata": {},
     "output_type": "execute_result"
    }
   ],
   "source": [
    "d.log_prob(torch.tensor(0.))"
   ]
  },
  {
   "cell_type": "code",
   "execution_count": 16,
   "metadata": {},
   "outputs": [
    {
     "data": {
      "text/plain": [
       "-0.10536051565782628"
      ]
     },
     "execution_count": 16,
     "metadata": {},
     "output_type": "execute_result"
    }
   ],
   "source": [
    "np.log(0.9)"
   ]
  },
  {
   "cell_type": "code",
   "execution_count": 17,
   "metadata": {},
   "outputs": [
    {
     "data": {
      "text/plain": [
       "-2.3025850929940455"
      ]
     },
     "execution_count": 17,
     "metadata": {},
     "output_type": "execute_result"
    }
   ],
   "source": [
    "np.log(0.1)"
   ]
  },
  {
   "cell_type": "code",
   "execution_count": 18,
   "metadata": {},
   "outputs": [
    {
     "data": {
      "text/plain": [
       "(Bernoulli(probs: torch.Size([2, 3])),\n",
       " tensor([[0.4963, 0.7682, 0.0885],\n",
       "         [0.1320, 0.3074, 0.6341]]))"
      ]
     },
     "execution_count": 18,
     "metadata": {},
     "output_type": "execute_result"
    }
   ],
   "source": [
    "pyro.set_rng_seed(0)\n",
    "d = dist.Bernoulli(torch.empty(2, 3).uniform_(0, 1))\n",
    "d, d.probs"
   ]
  },
  {
   "cell_type": "code",
   "execution_count": 19,
   "metadata": {},
   "outputs": [
    {
     "data": {
      "text/plain": [
       "(tensor([[1., 0., 0.],\n",
       "         [0., 0., 1.]]),\n",
       " torch.Size([2, 3]))"
      ]
     },
     "execution_count": 19,
     "metadata": {},
     "output_type": "execute_result"
    }
   ],
   "source": [
    "x = d.sample()\n",
    "x, x.shape"
   ]
  },
  {
   "cell_type": "code",
   "execution_count": 20,
   "metadata": {},
   "outputs": [
    {
     "data": {
      "text/plain": [
       "torch.Size([2, 3])"
      ]
     },
     "execution_count": 20,
     "metadata": {},
     "output_type": "execute_result"
    }
   ],
   "source": [
    "d.batch_shape"
   ]
  },
  {
   "cell_type": "code",
   "execution_count": 21,
   "metadata": {},
   "outputs": [
    {
     "data": {
      "text/plain": [
       "tensor([[-0.7007, -1.4620, -0.0926],\n",
       "        [-0.1416, -0.3673, -0.4556]])"
      ]
     },
     "execution_count": 21,
     "metadata": {},
     "output_type": "execute_result"
    }
   ],
   "source": [
    "d.log_prob(x)"
   ]
  },
  {
   "cell_type": "code",
   "execution_count": 22,
   "metadata": {},
   "outputs": [
    {
     "data": {
      "text/plain": [
       "tensor([[-0.7007, -1.4620, -0.0926],\n",
       "        [-0.1416, -0.3673, -0.4556]])"
      ]
     },
     "execution_count": 22,
     "metadata": {},
     "output_type": "execute_result"
    }
   ],
   "source": [
    "torch.log(x * d.probs + (1 - x) * (1-d.probs))"
   ]
  },
  {
   "cell_type": "code",
   "execution_count": 23,
   "metadata": {},
   "outputs": [
    {
     "data": {
      "text/plain": [
       "(Independent(Bernoulli(probs: torch.Size([2, 3])), 1),\n",
       " tensor([[0.4581, 0.4829, 0.3125],\n",
       "         [0.6150, 0.2139, 0.4118]]))"
      ]
     },
     "execution_count": 23,
     "metadata": {},
     "output_type": "execute_result"
    }
   ],
   "source": [
    "pyro.set_rng_seed(10)\n",
    "probs = torch.empty(2, 3).uniform_(0, 1)\n",
    "d = dist.Bernoulli(probs).to_event(1)\n",
    "d, probs"
   ]
  },
  {
   "cell_type": "code",
   "execution_count": 24,
   "metadata": {},
   "outputs": [
    {
     "data": {
      "text/plain": [
       "torch.Size([2])"
      ]
     },
     "execution_count": 24,
     "metadata": {},
     "output_type": "execute_result"
    }
   ],
   "source": [
    "d.batch_shape"
   ]
  },
  {
   "cell_type": "code",
   "execution_count": 25,
   "metadata": {},
   "outputs": [
    {
     "data": {
      "text/plain": [
       "torch.Size([3])"
      ]
     },
     "execution_count": 25,
     "metadata": {},
     "output_type": "execute_result"
    }
   ],
   "source": [
    "d.event_shape"
   ]
  },
  {
   "cell_type": "code",
   "execution_count": 26,
   "metadata": {},
   "outputs": [
    {
     "data": {
      "text/plain": [
       "tensor([[0., 0., 0.],\n",
       "        [1., 0., 0.]])"
      ]
     },
     "execution_count": 26,
     "metadata": {},
     "output_type": "execute_result"
    }
   ],
   "source": [
    "x = d.sample()\n",
    "x"
   ]
  },
  {
   "cell_type": "code",
   "execution_count": 27,
   "metadata": {},
   "outputs": [
    {
     "data": {
      "text/plain": [
       "tensor([-1.6468, -1.2576])"
      ]
     },
     "execution_count": 27,
     "metadata": {},
     "output_type": "execute_result"
    }
   ],
   "source": [
    "d.log_prob(x)"
   ]
  },
  {
   "cell_type": "code",
   "execution_count": 28,
   "metadata": {},
   "outputs": [
    {
     "data": {
      "text/plain": [
       "-1.6468862454314406"
      ]
     },
     "execution_count": 28,
     "metadata": {},
     "output_type": "execute_result"
    }
   ],
   "source": [
    "np.log(1 - np.array([0.4581, 0.4829, 0.3125])).sum()"
   ]
  },
  {
   "cell_type": "code",
   "execution_count": 29,
   "metadata": {},
   "outputs": [
    {
     "data": {
      "text/plain": [
       "-1.2574925322202877"
      ]
     },
     "execution_count": 29,
     "metadata": {},
     "output_type": "execute_result"
    }
   ],
   "source": [
    "np.log(np.array([0.6150, 1- 0.2139, 1-0.4118])).sum()"
   ]
  },
  {
   "cell_type": "code",
   "execution_count": 30,
   "metadata": {},
   "outputs": [
    {
     "data": {
      "text/plain": [
       "(Independent(Bernoulli(probs: torch.Size([15, 8])), 1),\n",
       " tensor([[0.4581, 0.4829, 0.3125, 0.6150, 0.2139, 0.4118, 0.6938, 0.9693],\n",
       "         [0.6178, 0.3304, 0.5479, 0.4440, 0.7041, 0.5573, 0.6959, 0.9849],\n",
       "         [0.2924, 0.4823, 0.6150, 0.4967, 0.4521, 0.0575, 0.0687, 0.0501],\n",
       "         [0.0108, 0.0343, 0.1212, 0.0490, 0.0310, 0.7192, 0.8067, 0.8379],\n",
       "         [0.7694, 0.6694, 0.7203, 0.2235, 0.9502, 0.4655, 0.9314, 0.6533],\n",
       "         [0.8914, 0.8988, 0.3955, 0.3546, 0.5752, 0.4787, 0.5782, 0.7536],\n",
       "         [0.1093, 0.4771, 0.1076, 0.9829, 0.1483, 0.5956, 0.3634, 0.7842],\n",
       "         [0.5017, 0.4497, 0.8660, 0.9567, 0.1371, 0.0177, 0.5417, 0.6575],\n",
       "         [0.6141, 0.9619, 0.7244, 0.2700, 0.1576, 0.8879, 0.9792, 0.2627],\n",
       "         [0.1800, 0.6750, 0.1424, 0.3790, 0.0055, 0.6368, 0.3295, 0.2203],\n",
       "         [0.1821, 0.3241, 0.7375, 0.5283, 0.9306, 0.3213, 0.3537, 0.9894],\n",
       "         [0.0231, 0.3032, 0.1898, 0.9811, 0.7662, 0.3325, 0.2877, 0.6533],\n",
       "         [0.3310, 0.6552, 0.2441, 0.1906, 0.4875, 0.7936, 0.9259, 0.6105],\n",
       "         [0.2030, 0.7614, 0.6949, 0.7133, 0.3333, 0.4325, 0.7307, 0.7065],\n",
       "         [0.8321, 0.2001, 0.8140, 0.3055, 0.4874, 0.2647, 0.3518, 0.8371]]))"
      ]
     },
     "execution_count": 30,
     "metadata": {},
     "output_type": "execute_result"
    }
   ],
   "source": [
    "pyro.set_rng_seed(10)\n",
    "probs = torch.empty(15, 8).uniform_(0, 1)\n",
    "d = dist.Bernoulli(probs).to_event(1)\n",
    "d, probs"
   ]
  },
  {
   "cell_type": "code",
   "execution_count": 31,
   "metadata": {},
   "outputs": [
    {
     "data": {
      "text/plain": [
       "tensor([[0., 0., 1., 1., 0., 1., 1., 1.],\n",
       "        [1., 0., 1., 0., 1., 1., 1., 1.],\n",
       "        [0., 0., 1., 1., 1., 0., 0., 1.],\n",
       "        [0., 0., 0., 0., 0., 1., 1., 1.],\n",
       "        [1., 1., 1., 1., 1., 0., 1., 1.],\n",
       "        [1., 1., 0., 0., 1., 0., 1., 1.],\n",
       "        [1., 0., 0., 1., 0., 1., 0., 1.],\n",
       "        [0., 1., 1., 1., 0., 0., 0., 0.],\n",
       "        [1., 1., 1., 0., 0., 0., 1., 0.],\n",
       "        [1., 1., 0., 1., 0., 0., 1., 1.],\n",
       "        [1., 0., 1., 0., 1., 0., 0., 1.],\n",
       "        [0., 0., 0., 1., 1., 0., 0., 1.],\n",
       "        [0., 1., 1., 0., 0., 1., 1., 1.],\n",
       "        [0., 1., 0., 1., 0., 0., 1., 1.],\n",
       "        [1., 0., 1., 0., 0., 0., 0., 1.]])"
      ]
     },
     "execution_count": 31,
     "metadata": {},
     "output_type": "execute_result"
    }
   ],
   "source": [
    "d.sample()"
   ]
  },
  {
   "cell_type": "code",
   "execution_count": 32,
   "metadata": {},
   "outputs": [
    {
     "data": {
      "text/plain": [
       "tensor([-3.9376, -4.7065, -3.8444, -2.4066, -4.2979, -4.4157, -4.0161, -2.8469,\n",
       "        -3.9206, -3.5516, -3.9249, -4.2868, -3.2856, -5.0895, -2.6148])"
      ]
     },
     "execution_count": 32,
     "metadata": {},
     "output_type": "execute_result"
    }
   ],
   "source": [
    "d.log_prob(d.sample())"
   ]
  },
  {
   "cell_type": "code",
   "execution_count": 33,
   "metadata": {},
   "outputs": [],
   "source": [
    "d = dist.MultivariateNormal(torch.zeros(3), torch.eye(3, 3))\n",
    "assert d.batch_shape == ()\n",
    "assert d.event_shape == (3,)"
   ]
  },
  {
   "cell_type": "code",
   "execution_count": 34,
   "metadata": {},
   "outputs": [
    {
     "data": {
      "text/plain": [
       "tensor([-0.1316,  0.8379,  2.6584])"
      ]
     },
     "execution_count": 34,
     "metadata": {},
     "output_type": "execute_result"
    }
   ],
   "source": [
    "d.sample()"
   ]
  },
  {
   "cell_type": "code",
   "execution_count": 35,
   "metadata": {},
   "outputs": [],
   "source": [
    "d = dist.MultivariateNormal(torch.zeros(10, 3), torch.eye(3, 3).expand(10, -1, -1)).to_event(1)"
   ]
  },
  {
   "cell_type": "code",
   "execution_count": 36,
   "metadata": {},
   "outputs": [
    {
     "data": {
      "text/plain": [
       "tensor([[ 0.6050,  1.3021, -0.1537],\n",
       "        [ 0.2865,  0.2404,  1.6265],\n",
       "        [-0.0273, -0.7515, -0.5487],\n",
       "        [-0.3148, -0.4927,  1.2738],\n",
       "        [ 2.2051,  1.4851, -0.7850],\n",
       "        [-1.3380, -0.2595, -0.2028],\n",
       "        [ 1.5568, -0.5618, -0.7364],\n",
       "        [ 0.3485,  2.1104, -1.1749],\n",
       "        [ 0.6335, -1.0158, -1.6675],\n",
       "        [-1.5590,  1.4037,  0.7496]])"
      ]
     },
     "execution_count": 36,
     "metadata": {},
     "output_type": "execute_result"
    }
   ],
   "source": [
    "d.sample()"
   ]
  },
  {
   "cell_type": "code",
   "execution_count": 37,
   "metadata": {},
   "outputs": [
    {
     "data": {
      "text/plain": [
       "torch.Size([10, 3])"
      ]
     },
     "execution_count": 37,
     "metadata": {},
     "output_type": "execute_result"
    }
   ],
   "source": [
    "d.event_shape"
   ]
  },
  {
   "cell_type": "code",
   "execution_count": 38,
   "metadata": {},
   "outputs": [
    {
     "data": {
      "text/plain": [
       "torch.Size([])"
      ]
     },
     "execution_count": 38,
     "metadata": {},
     "output_type": "execute_result"
    }
   ],
   "source": [
    "d.batch_shape"
   ]
  },
  {
   "cell_type": "code",
   "execution_count": 39,
   "metadata": {},
   "outputs": [
    {
     "data": {
      "text/plain": [
       "tensor([ 0.3164,  0.9872,  0.8355, -1.1924, -0.6644, -0.6571,  0.4060,  0.2794,\n",
       "         1.4254, -1.5937])"
      ]
     },
     "execution_count": 39,
     "metadata": {},
     "output_type": "execute_result"
    }
   ],
   "source": [
    "x = pyro.sample(\"x\", dist.Normal(0, 1).expand([10]).to_event(1))\n",
    "x"
   ]
  },
  {
   "cell_type": "code",
   "execution_count": 40,
   "metadata": {},
   "outputs": [
    {
     "data": {
      "text/plain": [
       "Normal(loc: torch.Size([2]), scale: torch.Size([2]))"
      ]
     },
     "execution_count": 40,
     "metadata": {},
     "output_type": "execute_result"
    }
   ],
   "source": [
    "dist.Normal(0, 1).expand([2])"
   ]
  },
  {
   "cell_type": "code",
   "execution_count": 41,
   "metadata": {},
   "outputs": [
    {
     "data": {
      "text/plain": [
       "torch.Size([2])"
      ]
     },
     "execution_count": 41,
     "metadata": {},
     "output_type": "execute_result"
    }
   ],
   "source": [
    "dist.Normal(0, 1).expand([2]).batch_shape"
   ]
  },
  {
   "cell_type": "code",
   "execution_count": 42,
   "metadata": {},
   "outputs": [
    {
     "data": {
      "text/plain": [
       "torch.Size([])"
      ]
     },
     "execution_count": 42,
     "metadata": {},
     "output_type": "execute_result"
    }
   ],
   "source": [
    "dist.Normal(0, 1).expand([2]).event_shape"
   ]
  },
  {
   "cell_type": "code",
   "execution_count": 43,
   "metadata": {},
   "outputs": [
    {
     "name": "stdout",
     "output_type": "stream",
     "text": [
      "data is:  tensor([0., 0., 1., 1., 0., 0., 1., 0., 0., 0.])\n",
      "probs is:  tensor([0.3490, 0.1953, 0.2792, 0.2526, 0.3792, 0.7686, 0.6907, 0.7526, 0.1184,\n",
      "        0.8699])\n",
      "ind:  tensor([0, 6, 5, 2, 4])\n",
      "pred  tensor([0.3490, 0.6907, 0.7686, 0.2792, 0.3792], grad_fn=<IndexBackward0>)\n",
      "x  tensor([0., 1., 0., 0., 0.])\n"
     ]
    }
   ],
   "source": [
    "pyro.set_rng_seed(50)\n",
    "pyro.clear_param_store()\n",
    "data = torch.bernoulli(torch.clip(torch.randn(10), min=0, max=1))\n",
    "probs = pyro.param('p', lambda:torch.empty((10, )).uniform_(0, 1.))\n",
    "print(\"data is: \", data)\n",
    "print(\"probs is: \", probs.data)\n",
    "with pyro.plate('x', len(data), subsample_size=5) as ind:\n",
    "    label = data[ind]\n",
    "    print(\"ind: \", ind)\n",
    "    pred = probs[ind]\n",
    "    print(\"pred \", pred)\n",
    "    x = pyro.sample('x', dist.Bernoulli(pred))\n",
    "    print('x ', x)\n",
    "\n"
   ]
  },
  {
   "cell_type": "code",
   "execution_count": 44,
   "metadata": {},
   "outputs": [
    {
     "name": "stdout",
     "output_type": "stream",
     "text": [
      "Label:  tensor([0., 1., 0., 1., 0.])\n",
      "pred  tensor([0.3490, 0.6907, 0.7686, 0.2792, 0.3792], grad_fn=<IndexBackward0>)\n",
      "x  tensor([0., 1., 0., 1., 0.]) tensor(True)\n",
      "tensor([-0.4293, -0.3700, -1.4635, -1.2757, -0.4768], grad_fn=<NegBackward0>)\n"
     ]
    }
   ],
   "source": [
    "pyro.set_rng_seed(50)\n",
    "pyro.clear_param_store()\n",
    "data = torch.bernoulli(torch.clip(torch.randn(10), min=0, max=1))\n",
    "probs = pyro.param('p', lambda:torch.empty((10, )).uniform_(0, 1.))\n",
    "with pyro.plate('x', len(data), subsample_size=5) as ind:\n",
    "    label = data[ind]\n",
    "    print(\"Label: \", label)\n",
    "    pred = probs[ind]\n",
    "    print(\"pred \", pred)\n",
    "    d = dist.Bernoulli(pred)\n",
    "    x = pyro.sample('x', d, obs=label)\n",
    "    print('x ', x, torch.all(x == label))\n",
    "    print(d.log_prob(x))"
   ]
  },
  {
   "cell_type": "code",
   "execution_count": 50,
   "metadata": {},
   "outputs": [
    {
     "name": "stdout",
     "output_type": "stream",
     "text": [
      "a  tensor(2)\n",
      "b  tensor(0.)\n",
      "c  tensor([0., 0., 1., 0.])\n",
      "d  tensor([[0., 0., 0., 1.],\n",
      "        [0., 0., 0., 0.],\n",
      "        [0., 0., 1., 0.],\n",
      "        [0., 0., 0., 1.],\n",
      "        [1., 1., 1., 1.]])\n",
      "e_loc  torch.Size([5, 4, 1])\n",
      "e  torch.Size([5, 4, 7])\n"
     ]
    }
   ],
   "source": [
    "pyro.set_rng_seed(10)\n",
    "pyro.clear_param_store()\n",
    "p = pyro.param(\"p\", torch.arange(6.) / 6)\n",
    "locs = pyro.param(\"locs\", torch.tensor([-1., 1.]))\n",
    "a = pyro.sample(\"a\", dist.Categorical(torch.ones(6) / 6))\n",
    "b = pyro.sample(\"b\", dist.Bernoulli(p[a]))\n",
    "\n",
    "with pyro.plate(\"c_plate\", 4):\n",
    "    c = pyro.sample(\"c\", dist.Bernoulli(0.3))\n",
    "    with pyro.plate(\"d_plate\", 5):\n",
    "        d = pyro.sample(\"d\",  Bernoulli(0.4))\n",
    "        e_loc = locs[d.long()].unsqueeze(-1)\n",
    "        e_scale = torch.arange(1., 8.)\n",
    "        e = pyro.sample(\"e\", Normal(e_loc, e_scale)\n",
    "                        .to_event(1))\n",
    "\n",
    "\n",
    "print('a ', a)\n",
    "print('b ', b)\n",
    "print('c ', c)\n",
    "print('d ', d)\n",
    "print('e_loc ', e_loc.size())\n",
    "print('e ', e.size())"
   ]
  },
  {
   "cell_type": "code",
   "execution_count": 53,
   "metadata": {},
   "outputs": [
    {
     "data": {
      "text/plain": [
       "tensor([1., 0., 1., 1., 1., 1., 1., 0., 1., 1.])"
      ]
     },
     "execution_count": 53,
     "metadata": {},
     "output_type": "execute_result"
    }
   ],
   "source": [
    "pyro.set_rng_seed(0)\n",
    "pyro.clear_param_store()\n",
    "p = 0.65\n",
    "\n",
    "x = pyro.sample(\"x\", Bernoulli(p).expand([10]), )\n",
    "x"
   ]
  },
  {
   "cell_type": "code",
   "execution_count": 54,
   "metadata": {},
   "outputs": [
    {
     "name": "stdout",
     "output_type": "stream",
     "text": [
      "tensor([1., 0., 1., 1., 1., 1., 1., 0., 1., 1.])\n"
     ]
    }
   ],
   "source": [
    "pyro.set_rng_seed(0)\n",
    "pyro.clear_param_store()\n",
    "p = 0.65\n",
    "\n",
    "with pyro.plate('data', 10):\n",
    "    x = pyro.sample(\"x\", Bernoulli(p) )\n",
    "    print(x)"
   ]
  },
  {
   "cell_type": "code",
   "execution_count": 57,
   "metadata": {},
   "outputs": [
    {
     "name": "stdout",
     "output_type": "stream",
     "text": [
      "tensor([1., 0., 1., 1., 1., 1., 1., 0., 1., 1.])\n"
     ]
    }
   ],
   "source": [
    "pyro.set_rng_seed(0)\n",
    "pyro.clear_param_store()\n",
    "p = 0.65\n",
    "\n",
    "with pyro.plate('data', 10):\n",
    "    x = pyro.sample(\"x\", Bernoulli(torch.zeros(10).float().fill_(p)) )\n",
    "    print(x)"
   ]
  },
  {
   "cell_type": "code",
   "execution_count": 56,
   "metadata": {},
   "outputs": [
    {
     "name": "stdout",
     "output_type": "stream",
     "text": [
      "tensor([[1., 0., 1., 1., 1., 1., 1., 0., 1., 1.],\n",
      "        [1., 1., 1., 1., 1., 1., 0., 0., 1., 1.],\n",
      "        [0., 0., 1., 0., 1., 1., 0., 1., 1., 1.],\n",
      "        [1., 0., 1., 1., 1., 1., 1., 0., 0., 0.],\n",
      "        [1., 1., 1., 1., 1., 1., 0., 0., 1., 1.],\n",
      "        [0., 0., 0., 1., 0., 1., 1., 1., 1., 1.],\n",
      "        [0., 0., 1., 0., 0., 1., 1., 1., 0., 0.],\n",
      "        [1., 1., 0., 0., 0., 0., 1., 1., 1., 1.],\n",
      "        [1., 0., 0., 1., 1., 1., 1., 1., 0., 1.],\n",
      "        [0., 0., 0., 0., 1., 1., 0., 1., 1., 1.]])\n"
     ]
    }
   ],
   "source": [
    "pyro.set_rng_seed(0)\n",
    "pyro.clear_param_store()\n",
    "p = 0.65\n",
    "\n",
    "with pyro.plate('data', 10):\n",
    "    x = pyro.sample(\"x\", Bernoulli(p).expand([10]).to_event(1) )\n",
    "    print(x)"
   ]
  },
  {
   "cell_type": "code",
   "execution_count": null,
   "metadata": {},
   "outputs": [],
   "source": []
  }
 ],
 "metadata": {
  "kernelspec": {
   "display_name": "env_nlp",
   "language": "python",
   "name": "python3"
  },
  "language_info": {
   "codemirror_mode": {
    "name": "ipython",
    "version": 3
   },
   "file_extension": ".py",
   "mimetype": "text/x-python",
   "name": "python",
   "nbconvert_exporter": "python",
   "pygments_lexer": "ipython3",
   "version": "3.10.0"
  },
  "orig_nbformat": 4
 },
 "nbformat": 4,
 "nbformat_minor": 2
}
