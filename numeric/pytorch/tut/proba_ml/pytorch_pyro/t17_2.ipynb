{
 "cells": [
  {
   "cell_type": "code",
   "execution_count": null,
   "metadata": {},
   "outputs": [],
   "source": [
    "%load_ext autoreload\n",
    "%autoreload 2\n",
    "import copy\n",
    "import torch\n",
    "import numpy as np\n",
    "import matplotlib as mpl\n",
    "import matplotlib.pyplot as plt\n",
    "import pyro\n",
    "from pyro.infer import SVI, Trace_ELBO, TraceEnum_ELBO, config_enumerate, infer_discrete, autoguide\n",
    "from pyro import poutine, infer, nn, distributions as dist\n",
    "\n",
    "plt.style.use('seaborn-v0_8')"
   ]
  },
  {
   "cell_type": "markdown",
   "metadata": {},
   "source": [
    "## Loss Grad"
   ]
  },
  {
   "cell_type": "code",
   "execution_count": null,
   "metadata": {},
   "outputs": [],
   "source": [
    "pyro.set_rng_seed(0)\n",
    "torch.manual_seed(0)\n",
    "x = torch.empty(10).uniform_(-5, 5)\n",
    "w = torch.randn(1).item()\n",
    "y = w*x + 1e-2 * torch.randn(10)\n",
    "plt.scatter(x, y)"
   ]
  },
  {
   "cell_type": "code",
   "execution_count": null,
   "metadata": {},
   "outputs": [],
   "source": [
    "def model(x, y=None):\n",
    "    p = pyro.sample(\"w\", dist.Normal(-10, 10.))\n",
    "    with pyro.plate(\"data\", 10):\n",
    "        pyro.sample(\"obs\", dist.Normal(p*x, torch.tensor(1.0)), obs=y)\n",
    "\n",
    "pyro.clear_param_store()\n",
    "pyro.set_rng_seed(0)\n",
    "torch.manual_seed(0)\n",
    "guide = autoguide.AutoNormal(model=model)\n",
    "optim = pyro.optim.Adam({\"lr\": 1e-2})\n",
    "losses = []\n",
    "svi = SVI(model, guide, optim, Trace_ELBO(1))\n",
    "for i in range(1000):\n",
    "    losses.append(svi.step(x, y))\n",
    "    "
   ]
  },
  {
   "cell_type": "code",
   "execution_count": null,
   "metadata": {},
   "outputs": [],
   "source": [
    "plt.plot(losses)"
   ]
  },
  {
   "cell_type": "code",
   "execution_count": null,
   "metadata": {},
   "outputs": [],
   "source": [
    "torch.tensor(losses[:10])"
   ]
  },
  {
   "cell_type": "code",
   "execution_count": null,
   "metadata": {},
   "outputs": [],
   "source": [
    "list(pyro.get_param_store().items())"
   ]
  },
  {
   "cell_type": "code",
   "execution_count": 69,
   "metadata": {},
   "outputs": [],
   "source": [
    "def model(x, y=None):\n",
    "    p = pyro.sample(\"w\", dist.Normal(-10, 10.))\n",
    "    with pyro.plate(\"data\", 10):\n",
    "        pyro.sample(\"obs\", dist.Normal(p*x, torch.tensor(1.0)), obs=y)\n",
    "\n",
    "pyro.clear_param_store()\n",
    "pyro.set_rng_seed(0)\n",
    "torch.manual_seed(0)\n",
    "guide = autoguide.AutoNormal(model=model)\n",
    "losses2 = []\n",
    "svi = SVI(model, guide, optim, Trace_ELBO(1))\n",
    "\n",
    "def train():\n",
    "    guide_trace = poutine.trace(guide).get_trace(x, y)\n",
    "    replay_model = poutine.replay(model, trace=guide_trace)\n",
    "    trace = poutine.trace(replay_model).get_trace(x, y)\n",
    "    \n",
    "    elbo = 0\n",
    "    elbo += trace.nodes[\"obs\"][\"fn\"].log_prob(trace.nodes[\"obs\"][\"value\"]).sum()\n",
    "    \n",
    "    elbo -= guide_trace.nodes[\"w\"][\"fn\"].log_prob(guide_trace.nodes[\"w\"][\"value\"]).sum()\n",
    "    \n",
    "    params = set(\n",
    "            site[\"value\"].unconstrained() for site in guide_trace.nodes.values() if site[\"type\"] == \"param\"\n",
    "        )\n",
    "    optim = torch.optim.Adam(params, lr=1e-2)\n",
    "    \n",
    "    loss = -elbo\n",
    "    loss.backward()\n",
    "    optim.step()\n",
    "    pyro.infer.util.zero_grads(params)\n",
    "    \n",
    "    return loss.item()    \n",
    "        \n",
    "for i in range(1000):\n",
    "    loss = train()\n",
    "    losses2.append(train())"
   ]
  },
  {
   "cell_type": "code",
   "execution_count": 70,
   "metadata": {},
   "outputs": [
    {
     "data": {
      "text/plain": [
       "[13.228569030761719,\n",
       " 10.88357162475586,\n",
       " 9.33586311340332,\n",
       " 9.966324806213379,\n",
       " 9.676599502563477,\n",
       " 9.71802806854248,\n",
       " 9.880288124084473,\n",
       " 9.396834373474121,\n",
       " 9.571087837219238,\n",
       " 9.209325790405273]"
      ]
     },
     "execution_count": 70,
     "metadata": {},
     "output_type": "execute_result"
    }
   ],
   "source": [
    "losses2[:10]"
   ]
  },
  {
   "cell_type": "code",
   "execution_count": 71,
   "metadata": {},
   "outputs": [
    {
     "data": {
      "text/plain": [
       "[<matplotlib.lines.Line2D at 0x7fde2646da90>]"
      ]
     },
     "execution_count": 71,
     "metadata": {},
     "output_type": "execute_result"
    },
    {
     "data": {
      "image/png": "[encoded data removed]",
      "text/plain": [
       "<Figure size 800x550 with 1 Axes>"
      ]
     },
     "metadata": {},
     "output_type": "display_data"
    }
   ],
   "source": [
    "plt.plot(losses2)"
   ]
  },
  {
   "cell_type": "code",
   "execution_count": 72,
   "metadata": {},
   "outputs": [
    {
     "data": {
      "text/plain": [
       "[('AutoNormal.locs.w',\n",
       "  Parameter containing:\n",
       "  tensor(0.1600, requires_grad=True)),\n",
       " ('AutoNormal.scales.w', tensor(0.0010, grad_fn=<SoftplusBackward0>))]"
      ]
     },
     "execution_count": 72,
     "metadata": {},
     "output_type": "execute_result"
    }
   ],
   "source": [
    "list(pyro.get_param_store().items())"
   ]
  },
  {
   "cell_type": "code",
   "execution_count": 73,
   "metadata": {},
   "outputs": [
    {
     "data": {
      "text/plain": [
       "0.1603812575340271"
      ]
     },
     "execution_count": 73,
     "metadata": {},
     "output_type": "execute_result"
    }
   ],
   "source": [
    "w"
   ]
  },
  {
   "cell_type": "markdown",
   "metadata": {},
   "source": [
    "## Gaussian Mixture"
   ]
  },
  {
   "cell_type": "code",
   "execution_count": 103,
   "metadata": {},
   "outputs": [],
   "source": [
    "pyro.set_rng_seed(100)\n",
    "torch.manual_seed(0)\n",
    "K = 3\n",
    "N = 10\n",
    "w = None\n",
    "c = 0\n",
    "while c < 100:\n",
    "    w = dist.Dirichlet(torch.empty(K).uniform_(0, 2.)).sample()\n",
    "    if w.min() > 0.25:\n",
    "        break\n",
    "clusters = dist.Categorical(w).sample((N,))\n",
    "locs = dist.Uniform(-5, 5).sample((K, )).sort().values\n",
    "scales = dist.LogNormal(0, 1.).sample((K,))\n",
    "components = [dist.Normal(locs[i], scales[i]) for i in range(K)]\n",
    "mixtures_points = [components[i].sample() for i in clusters]"
   ]
  },
  {
   "cell_type": "code",
   "execution_count": 104,
   "metadata": {},
   "outputs": [
    {
     "data": {
      "text/plain": [
       "(tensor([0.3893, 0.2703, 0.3404]),\n",
       " tensor([-4.8583, -1.0143,  3.3622]),\n",
       " tensor([1.2537, 2.6778, 1.4333]))"
      ]
     },
     "execution_count": 104,
     "metadata": {},
     "output_type": "execute_result"
    }
   ],
   "source": [
    "w, locs, scales"
   ]
  },
  {
   "cell_type": "code",
   "execution_count": 105,
   "metadata": {},
   "outputs": [
    {
     "data": {
      "text/plain": [
       "tensor([ 1.1176,  4.7003, -5.0363, -4.3728,  3.6215,  3.7799, -3.7588, -1.5503,\n",
       "         5.1692, -3.1651])"
      ]
     },
     "execution_count": 105,
     "metadata": {},
     "output_type": "execute_result"
    }
   ],
   "source": [
    "data = torch.hstack(mixtures_points)\n",
    "data"
   ]
  },
  {
   "cell_type": "code",
   "execution_count": 106,
   "metadata": {},
   "outputs": [],
   "source": [
    "@config_enumerate\n",
    "def model(data, is_eval=False):\n",
    "    weights = pyro.sample(\"weights\", dist.Dirichlet(torch.ones(K) / K))\n",
    "    \n",
    "    with pyro.plate(\"mixture\", K):\n",
    "        l = pyro.sample(\"locs\", dist.Normal(-10., 10.))\n",
    "        s = pyro.sample(\"scales\", dist.LogNormal(0., 10.))\n",
    "    \n",
    "    print(\"l: \", l)\n",
    "    print(\"s: \", s)\n",
    "\n",
    "    with pyro.plate(\"data\", len(data)):\n",
    "        clusters = pyro.sample(\"cluster\", dist.Categorical(weights))\n",
    "        if is_eval:\n",
    "            model_mixt = pyro.sample(\"obs\", dist.Normal(l[clusters], s[clusters]), \n",
    "                           )\n",
    "        else:\n",
    "            model_mixt = pyro.sample(\"obs\", dist.Normal(l[clusters], s[clusters]), \n",
    "                            obs=data)\n",
    "        print(\"clusters: \", clusters)\n",
    "        print(\"model_mixt: \", model_mixt.size())\n",
    "        \n",
    "    return model_mixt  "
   ]
  },
  {
   "cell_type": "code",
   "execution_count": 194,
   "metadata": {},
   "outputs": [],
   "source": [
    "def init_loc_fn(site):\n",
    "    if site[\"name\"] == \"weights\":\n",
    "        value = torch.ones(K) / K\n",
    "    elif site[\"name\"] == \"scales\":\n",
    "        value = dist.LogNormal(0, data.std()).sample([K])\n",
    "    elif site[\"name\"] == \"locs\":\n",
    "        value = data[torch.multinomial(torch.ones_like(data).div(N), num_samples=K)]\n",
    "    else:\n",
    "        raise NotImplementedError\n",
    "    \n",
    "    return value\n",
    "\n",
    "\n",
    "def train(data, is_eval, seed):\n",
    "    optim = pyro.optim.Adam({\"lr\": 2e-3})\n",
    "    elbo = TraceEnum_ELBO(max_plate_nesting=1) # log sum(p(x, z|θ)_z) - Σ_n q(θ|D) \n",
    "    pyro.clear_param_store()\n",
    "    pyro.set_rng_seed(seed)\n",
    "    torch.manual_seed(seed)\n",
    "\n",
    "               \n",
    "\n",
    "    losses = []\n",
    "    svi = SVI(model, guide, optim, elbo)\n",
    "    \n",
    "    for i in range(1):\n",
    "        losses.append(svi.step(data, is_eval))\n",
    "        print(\"Losses: \", losses)\n",
    "    \n",
    "    svi.losses = losses\n",
    "    return svi\n"
   ]
  },
  {
   "cell_type": "code",
   "execution_count": 195,
   "metadata": {},
   "outputs": [
    {
     "name": "stdout",
     "output_type": "stream",
     "text": [
      "l:  tensor([-5.0363,  3.7799,  4.7003])\n",
      "s:  tensor([2.3204, 2.9925, 9.3647])\n",
      "clusters:  tensor([2, 0, 2, 1, 1, 2, 0, 1, 2, 2])\n",
      "model_mixt:  torch.Size([10])\n",
      "l:  tensor([-5.0363,  3.7799,  4.7003], grad_fn=<ExpandBackward0>)\n",
      "s:  tensor([2.3204, 2.9925, 9.3647], grad_fn=<ExpandBackward0>)\n",
      "clusters:  tensor([[0],\n",
      "        [1],\n",
      "        [2]])\n",
      "model_mixt:  torch.Size([10])\n",
      "Losses:  [55.42920684814453]\n"
     ]
    },
    {
     "data": {
      "text/plain": [
       "<pyro.infer.svi.SVI at 0x7fde1de280a0>"
      ]
     },
     "execution_count": 195,
     "metadata": {},
     "output_type": "execute_result"
    }
   ],
   "source": [
    "train(data, False, 0)"
   ]
  },
  {
   "cell_type": "code",
   "execution_count": 184,
   "metadata": {},
   "outputs": [
    {
     "data": {
      "text/plain": [
       "55.4292"
      ]
     },
     "execution_count": 184,
     "metadata": {},
     "output_type": "execute_result"
    }
   ],
   "source": [
    "0.7590-sum([-4.0668, -4.3237, -5.4835]) - sum([-3.3447, -4.1710, -4.3020]) + 28.978500000000004"
   ]
  },
  {
   "cell_type": "code",
   "execution_count": 178,
   "metadata": {},
   "outputs": [
    {
     "data": {
      "text/plain": [
       "-28.978500000000004"
      ]
     },
     "execution_count": 178,
     "metadata": {},
     "output_type": "execute_result"
    }
   ],
   "source": [
    "sum([-3.1052, -2.8719, -2.7157, -2.7336, -2.8381, -2.8368, -2.8042, -3.2442,\n",
    "        -2.9172, -2.9116])"
   ]
  },
  {
   "cell_type": "code",
   "execution_count": 124,
   "metadata": {},
   "outputs": [],
   "source": [
    "z = torch.tensor([[ -5.2775, -10.5645,  -1.7607,  -1.8015,  -8.7217,  -8.9787,  -1.9122,\n",
    "          -2.8892, -11.4328,  -2.0858],\n",
    "        [ -2.4108,  -2.0624,  -6.3547,  -5.7261,  -2.0165,  -2.0151,  -5.1882,\n",
    "          -3.6013,  -2.1228,  -4.7080],\n",
    "        [ -3.2291,  -3.1559,  -3.6964,  -3.6252,  -3.1625,  -3.1607,  -3.5639,\n",
    "          -3.3786,  -3.1571,  -3.5086]])"
   ]
  },
  {
   "cell_type": "code",
   "execution_count": 125,
   "metadata": {},
   "outputs": [
    {
     "data": {
      "text/plain": [
       "tensor([[ -5.2775, -10.5645,  -1.7607,  -1.8015,  -8.7217,  -8.9787,  -1.9122,\n",
       "          -2.8892, -11.4328,  -2.0858],\n",
       "        [ -2.4108,  -2.0624,  -6.3547,  -5.7261,  -2.0165,  -2.0151,  -5.1882,\n",
       "          -3.6013,  -2.1228,  -4.7080],\n",
       "        [ -3.2291,  -3.1559,  -3.6964,  -3.6252,  -3.1625,  -3.1607,  -3.5639,\n",
       "          -3.3786,  -3.1571,  -3.5086]])"
      ]
     },
     "execution_count": 125,
     "metadata": {},
     "output_type": "execute_result"
    }
   ],
   "source": [
    "z"
   ]
  },
  {
   "cell_type": "code",
   "execution_count": 126,
   "metadata": {},
   "outputs": [
    {
     "data": {
      "text/plain": [
       "tensor(-125.2685)"
      ]
     },
     "execution_count": 126,
     "metadata": {},
     "output_type": "execute_result"
    }
   ],
   "source": [
    "z.sum()"
   ]
  },
  {
   "cell_type": "code",
   "execution_count": 127,
   "metadata": {},
   "outputs": [
    {
     "data": {
      "text/plain": [
       "-59.409"
      ]
     },
     "execution_count": 127,
     "metadata": {},
     "output_type": "execute_result"
    }
   ],
   "source": [
    "-0.7590-11.8177-13.8739-32.9584"
   ]
  },
  {
   "cell_type": "code",
   "execution_count": 128,
   "metadata": {},
   "outputs": [
    {
     "data": {
      "text/plain": [
       "65.8596"
      ]
     },
     "execution_count": 128,
     "metadata": {},
     "output_type": "execute_result"
    }
   ],
   "source": [
    "125.2686-59.409"
   ]
  },
  {
   "cell_type": "code",
   "execution_count": 172,
   "metadata": {},
   "outputs": [],
   "source": [
    "v = torch.tensor([[ -5.2775, -10.5645,  -1.7607,  -1.8015,  -8.7217,  -8.9787,  -1.9122,\n",
    "          -2.8892, -11.4328,  -2.0858],\n",
    "        [ -2.4108,  -2.0624,  -6.3547,  -5.7261,  -2.0165,  -2.0151,  -5.1882,\n",
    "          -3.6013,  -2.1228,  -4.7080],\n",
    "        [ -3.2291,  -3.1559,  -3.6964,  -3.6252,  -3.1625,  -3.1607,  -3.5639,\n",
    "          -3.3786,  -3.1571,  -3.5086]]).exp() * torch.tensor([-1.0986, -1.0986, -1.0986]).unsqueeze(1).exp()"
   ]
  },
  {
   "cell_type": "code",
   "execution_count": 175,
   "metadata": {},
   "outputs": [
    {
     "data": {
      "text/plain": [
       "tensor(-28.9784)"
      ]
     },
     "execution_count": 175,
     "metadata": {},
     "output_type": "execute_result"
    }
   ],
   "source": [
    "v.sum(0).log().sum()"
   ]
  },
  {
   "cell_type": "code",
   "execution_count": 187,
   "metadata": {},
   "outputs": [
    {
     "data": {
      "text/plain": [
       "-28.978500000000004"
      ]
     },
     "execution_count": 187,
     "metadata": {},
     "output_type": "execute_result"
    }
   ],
   "source": [
    "sum([-3.1052, -2.8719, -2.7157, -2.7336, -2.8381, -2.8368, -2.8042, -3.2442,\n",
    "        -2.9172, -2.9116])"
   ]
  },
  {
   "cell_type": "code",
   "execution_count": null,
   "metadata": {},
   "outputs": [],
   "source": []
  }
 ],
 "metadata": {
  "kernelspec": {
   "display_name": "env_nlp",
   "language": "python",
   "name": "python3"
  },
  "language_info": {
   "codemirror_mode": {
    "name": "ipython",
    "version": 3
   },
   "file_extension": ".py",
   "mimetype": "text/x-python",
   "name": "python",
   "nbconvert_exporter": "python",
   "pygments_lexer": "ipython3",
   "version": "3.10.0"
  }
 },
 "nbformat": 4,
 "nbformat_minor": 2
}
