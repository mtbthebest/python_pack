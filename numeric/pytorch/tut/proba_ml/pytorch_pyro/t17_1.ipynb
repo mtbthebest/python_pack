{
 "cells": [
  {
   "cell_type": "code",
   "execution_count": 1,
   "metadata": {},
   "outputs": [
    {
     "name": "stderr",
     "output_type": "stream",
     "text": [
      "/env_nlp/lib/python3.9/site-packages/tqdm/auto.py:21: TqdmWarning: IProgress not found. Please update jupyter and ipywidgets. See https://ipywidgets.readthedocs.io/en/stable/user_install.html\n",
      "  from .autonotebook import tqdm as notebook_tqdm\n"
     ]
    }
   ],
   "source": [
    "%load_ext autoreload\n",
    "%autoreload 2\n",
    "import copy\n",
    "import torch\n",
    "import numpy as np\n",
    "import matplotlib as mpl\n",
    "import matplotlib.pyplot as plt\n",
    "import pyro\n",
    "from pyro.infer import SVI, Trace_ELBO, TraceEnum_ELBO, config_enumerate, infer_discrete, autoguide\n",
    "from pyro import poutine, infer, nn, distributions as dist\n",
    "\n",
    "plt.style.use('seaborn-v0_8')"
   ]
  },
  {
   "cell_type": "markdown",
   "metadata": {},
   "source": [
    "## Gaussian Mixture"
   ]
  },
  {
   "cell_type": "code",
   "execution_count": 2,
   "metadata": {},
   "outputs": [],
   "source": [
    "pyro.set_rng_seed(100)\n",
    "torch.manual_seed(0)\n",
    "K = 3\n",
    "N = 30\n",
    "w = None\n",
    "c = 0\n",
    "while c < 100:\n",
    "    w = dist.Dirichlet(torch.empty(K).uniform_(0, 2.)).sample()\n",
    "    if w.min() > 0.25:\n",
    "        break\n",
    "clusters = dist.Categorical(w).sample((30,))\n",
    "locs = dist.Uniform(-5, 5).sample((K, )).sort().values\n",
    "scales = dist.LogNormal(0, 1.).sample((K,))\n",
    "components = [dist.Normal(locs[i], scales[i]) for i in range(K)]\n",
    "mixtures_points = [components[i].sample() for i in clusters]"
   ]
  },
  {
   "cell_type": "code",
   "execution_count": 3,
   "metadata": {},
   "outputs": [
    {
     "data": {
      "text/plain": [
       "(tensor([0.3893, 0.2703, 0.3404]),\n",
       " tensor([-4.1184, -2.4766,  2.6092]),\n",
       " tensor([0.3868, 0.5362, 1.4405]))"
      ]
     },
     "execution_count": 3,
     "metadata": {},
     "output_type": "execute_result"
    }
   ],
   "source": [
    "w, locs, scales"
   ]
  },
  {
   "cell_type": "code",
   "execution_count": 4,
   "metadata": {},
   "outputs": [],
   "source": [
    "data = torch.hstack(mixtures_points)"
   ]
  },
  {
   "cell_type": "code",
   "execution_count": 5,
   "metadata": {},
   "outputs": [],
   "source": [
    "@config_enumerate\n",
    "def model(data):\n",
    "    # print(\"receibed data\")\n",
    "    weights = pyro.sample(\"weights\", dist.Dirichlet(torch.ones(K) / K))\n",
    "    \n",
    "    with pyro.plate(\"mixture\", K):\n",
    "        l = pyro.sample(\"locs\", dist.Normal(-10., 10.))\n",
    "        s =   pyro.sample(\"scales\", dist.LogNormal(0., 10.))\n",
    "\n",
    "    with pyro.plate(\"data\", len(data)):\n",
    "        clusters = pyro.sample(\"cluster\", dist.Categorical(weights))\n",
    "        model_mixt = pyro.sample(\"obs\", dist.Normal(l[clusters], s[clusters]), \n",
    "                          obs=data)\n",
    "        \n",
    "    \n",
    "    return model_mixt  "
   ]
  },
  {
   "cell_type": "code",
   "execution_count": 6,
   "metadata": {},
   "outputs": [],
   "source": [
    "def init_loc_fn(site):\n",
    "    if site[\"name\"] == \"weights\":\n",
    "        value = torch.ones(K) / K\n",
    "    elif site[\"name\"] == \"scales\":\n",
    "        value = dist.LogNormal(0, data.std()).sample([3])\n",
    "    elif site[\"name\"] == \"locs\":\n",
    "        value = data[torch.multinomial(torch.ones_like(data).div(N), num_samples=3)]\n",
    "    else:\n",
    "        raise NotImplementedError\n",
    "    \n",
    "    print(site[\"name\"], value)\n",
    "    return value\n",
    "\n",
    "\n",
    "def train(data, seed):\n",
    "    optim = pyro.optim.Adam({\"lr\": 2e-3})\n",
    "    elbo = TraceEnum_ELBO(max_plate_nesting=1)\n",
    "    pyro.clear_param_store()\n",
    "    pyro.set_rng_seed(seed)\n",
    "    torch.manual_seed(seed)\n",
    "\n",
    "    guide = autoguide.AutoDelta(poutine.block(model, \n",
    "                                              expose_fn= lambda msg: msg[\"name\"] in [\"weights\", \"locs\", \"scales\"]),\n",
    "                                init_loc_fn=init_loc_fn)\n",
    "\n",
    "    losses = []\n",
    "    svi = SVI(model, guide, optim, elbo)\n",
    "    \n",
    "    for i in range(5000):\n",
    "        losses.append(svi.step(data))\n",
    "    \n",
    "    svi.losses = losses\n",
    "    return svi\n"
   ]
  },
  {
   "cell_type": "code",
   "execution_count": 7,
   "metadata": {},
   "outputs": [
    {
     "name": "stdout",
     "output_type": "stream",
     "text": [
      "weights tensor([0.3333, 0.3333, 0.3333])\n",
      "locs tensor([-3.8066,  3.3477, -2.2717])\n",
      "scales tensor([3.8429e-03, 1.0949e+02, 5.1063e-02])\n",
      "weights tensor([0.3333, 0.3333, 0.3333])\n",
      "locs tensor([2.3806, 3.1148, 3.9554])\n",
      "scales tensor([740.7034,   1.3179,   2.5536])\n",
      "weights tensor([0.3333, 0.3333, 0.3333])\n",
      "locs tensor([-4.4660, -2.5926, -2.4909])\n",
      "scales tensor([6.6264e+03, 4.4104e+00, 2.9305e-04])\n",
      "weights tensor([0.3333, 0.3333, 0.3333])\n",
      "locs tensor([ 3.3477, -2.5926,  3.1148])\n",
      "scales tensor([1.8231, 5.8191, 1.4486])\n"
     ]
    },
    {
     "data": {
      "text/plain": [
       "[<matplotlib.lines.Line2D at 0x7f96a9d9e880>]"
      ]
     },
     "execution_count": 7,
     "metadata": {},
     "output_type": "execute_result"
    },
    {
     "data": {
      "image/png": "[encoded data removed]",
      "text/plain": [
       "<Figure size 800x550 with 1 Axes>"
      ]
     },
     "metadata": {},
     "output_type": "display_data"
    }
   ],
   "source": [
    "# svi = min([train(data, i) for i in range(50)], key=lambda s: np.mean(s.losses))\n",
    "svi = min([train(data, i) for i in np.random.choice(100000, (4, ))], key=lambda s: np.min(s.losses))\n",
    "plt.plot(svi.losses)"
   ]
  },
  {
   "cell_type": "code",
   "execution_count": 8,
   "metadata": {},
   "outputs": [],
   "source": [
    "param_store = pyro.get_param_store()"
   ]
  },
  {
   "cell_type": "code",
   "execution_count": 9,
   "metadata": {},
   "outputs": [
    {
     "data": {
      "text/plain": [
       "[('AutoDelta.weights',\n",
       "  tensor([0.2988, 0.6899, 0.0113], grad_fn=<DivBackward0>)),\n",
       " ('AutoDelta.locs',\n",
       "  Parameter containing:\n",
       "  tensor([ 3.4406, -3.5937,  2.2395], requires_grad=True)),\n",
       " ('AutoDelta.scales',\n",
       "  tensor([1.8650e+00, 7.7559e-01, 5.3678e-04], grad_fn=<AddBackward0>))]"
      ]
     },
     "execution_count": 9,
     "metadata": {},
     "output_type": "execute_result"
    }
   ],
   "source": [
    "list(param_store.items())"
   ]
  },
  {
   "cell_type": "code",
   "execution_count": 10,
   "metadata": {},
   "outputs": [
    {
     "data": {
      "text/plain": [
       "(tensor([0.3893, 0.2703, 0.3404]),\n",
       " tensor([-4.1184, -2.4766,  2.6092]),\n",
       " tensor([0.3868, 0.5362, 1.4405]))"
      ]
     },
     "execution_count": 10,
     "metadata": {},
     "output_type": "execute_result"
    }
   ],
   "source": [
    "w, locs, scales"
   ]
  },
  {
   "cell_type": "code",
   "execution_count": 11,
   "metadata": {},
   "outputs": [],
   "source": [
    "guide_trace = poutine.trace(svi.guide).get_trace(data)"
   ]
  },
  {
   "cell_type": "code",
   "execution_count": 12,
   "metadata": {},
   "outputs": [
    {
     "data": {
      "text/plain": [
       "OrderedDict([('_INPUT',\n",
       "              {'name': '_INPUT',\n",
       "               'type': 'args',\n",
       "               'args': (tensor([-2.2717,  3.9554, -4.1576, -4.4058, -3.0122, -2.4909, -4.0826, -2.7928,\n",
       "                         3.3477, -3.8066, -4.8031,  2.7409, -4.1476, -3.7938, -2.3436, -4.0385,\n",
       "                        -3.7344, -4.4660,  0.8765,  7.1470, -2.5926,  6.3683, -4.2250, -3.6229,\n",
       "                         2.3806,  3.1148, -2.5959, -4.4268,  2.2398,  1.6455]),),\n",
       "               'kwargs': {}}),\n",
       "             ('mixture',\n",
       "              {'type': 'sample',\n",
       "               'name': 'mixture',\n",
       "               'fn': <pyro.poutine.subsample_messenger._Subsample at 0x7f96a9d6ef70>,\n",
       "               'is_observed': False,\n",
       "               'args': (),\n",
       "               'kwargs': {},\n",
       "               'value': tensor([0, 1, 2]),\n",
       "               'infer': {},\n",
       "               'scale': 1.0,\n",
       "               'mask': None,\n",
       "               'cond_indep_stack': (),\n",
       "               'done': True,\n",
       "               'stop': False,\n",
       "               'continuation': None}),\n",
       "             ('AutoDelta.weights',\n",
       "              {'type': 'param',\n",
       "               'name': 'AutoDelta.weights',\n",
       "               'fn': <bound method ParamStoreDict.get_param of <pyro.params.param_store.ParamStoreDict object at 0x7f96b7047c40>>,\n",
       "               'is_observed': False,\n",
       "               'args': ('AutoDelta.weights',),\n",
       "               'kwargs': {'constraint': Real(), 'event_dim': 1},\n",
       "               'value': tensor([0.2988, 0.6899, 0.0113], grad_fn=<DivBackward0>),\n",
       "               'scale': 1.0,\n",
       "               'mask': None,\n",
       "               'cond_indep_stack': (),\n",
       "               'done': True,\n",
       "               'stop': False,\n",
       "               'continuation': None,\n",
       "               'infer': {}}),\n",
       "             ('weights',\n",
       "              {'type': 'sample',\n",
       "               'name': 'weights',\n",
       "               'fn': Delta(v: torch.Size([3]), log_density: 0.0),\n",
       "               'is_observed': False,\n",
       "               'args': (),\n",
       "               'kwargs': {},\n",
       "               'value': tensor([0.2988, 0.6899, 0.0113], grad_fn=<ExpandBackward0>),\n",
       "               'infer': {},\n",
       "               'scale': 1.0,\n",
       "               'mask': None,\n",
       "               'cond_indep_stack': (),\n",
       "               'done': True,\n",
       "               'stop': False,\n",
       "               'continuation': None}),\n",
       "             ('AutoDelta.locs',\n",
       "              {'type': 'param',\n",
       "               'name': 'AutoDelta.locs',\n",
       "               'fn': <bound method ParamStoreDict.get_param of <pyro.params.param_store.ParamStoreDict object at 0x7f96b7047c40>>,\n",
       "               'is_observed': False,\n",
       "               'args': ('AutoDelta.locs',),\n",
       "               'kwargs': {'constraint': Real(), 'event_dim': 0},\n",
       "               'value': Parameter containing:\n",
       "               tensor([ 3.4406, -3.5937,  2.2395], requires_grad=True),\n",
       "               'scale': 1.0,\n",
       "               'mask': None,\n",
       "               'cond_indep_stack': (CondIndepStackFrame(name='mixture', dim=-1, size=3, counter=0),),\n",
       "               'done': True,\n",
       "               'stop': False,\n",
       "               'continuation': None,\n",
       "               'infer': {}}),\n",
       "             ('locs',\n",
       "              {'type': 'sample',\n",
       "               'name': 'locs',\n",
       "               'fn': Delta(v: torch.Size([3]), log_density: torch.Size([3])),\n",
       "               'is_observed': False,\n",
       "               'args': (),\n",
       "               'kwargs': {},\n",
       "               'value': tensor([ 3.4406, -3.5937,  2.2395], grad_fn=<ExpandBackward0>),\n",
       "               'infer': {},\n",
       "               'scale': 1.0,\n",
       "               'mask': None,\n",
       "               'cond_indep_stack': (CondIndepStackFrame(name='mixture', dim=-1, size=3, counter=0),),\n",
       "               'done': True,\n",
       "               'stop': False,\n",
       "               'continuation': None}),\n",
       "             ('AutoDelta.scales',\n",
       "              {'type': 'param',\n",
       "               'name': 'AutoDelta.scales',\n",
       "               'fn': <bound method ParamStoreDict.get_param of <pyro.params.param_store.ParamStoreDict object at 0x7f96b7047c40>>,\n",
       "               'is_observed': False,\n",
       "               'args': ('AutoDelta.scales',),\n",
       "               'kwargs': {'constraint': Real(), 'event_dim': 0},\n",
       "               'value': tensor([1.8650e+00, 7.7559e-01, 5.3678e-04], grad_fn=<AddBackward0>),\n",
       "               'scale': 1.0,\n",
       "               'mask': None,\n",
       "               'cond_indep_stack': (CondIndepStackFrame(name='mixture', dim=-1, size=3, counter=0),),\n",
       "               'done': True,\n",
       "               'stop': False,\n",
       "               'continuation': None,\n",
       "               'infer': {}}),\n",
       "             ('scales',\n",
       "              {'type': 'sample',\n",
       "               'name': 'scales',\n",
       "               'fn': Delta(v: torch.Size([3]), log_density: torch.Size([3])),\n",
       "               'is_observed': False,\n",
       "               'args': (),\n",
       "               'kwargs': {},\n",
       "               'value': tensor([1.8650e+00, 7.7559e-01, 5.3678e-04], grad_fn=<ExpandBackward0>),\n",
       "               'infer': {},\n",
       "               'scale': 1.0,\n",
       "               'mask': None,\n",
       "               'cond_indep_stack': (CondIndepStackFrame(name='mixture', dim=-1, size=3, counter=0),),\n",
       "               'done': True,\n",
       "               'stop': False,\n",
       "               'continuation': None}),\n",
       "             ('_RETURN',\n",
       "              {'name': '_RETURN',\n",
       "               'type': 'return',\n",
       "               'value': {'weights': tensor([0.2988, 0.6899, 0.0113], grad_fn=<ExpandBackward0>),\n",
       "                'locs': tensor([ 3.4406, -3.5937,  2.2395], grad_fn=<ExpandBackward0>),\n",
       "                'scales': tensor([1.8650e+00, 7.7559e-01, 5.3678e-04], grad_fn=<ExpandBackward0>)}})])"
      ]
     },
     "execution_count": 12,
     "metadata": {},
     "output_type": "execute_result"
    }
   ],
   "source": [
    "guide_trace.nodes"
   ]
  },
  {
   "cell_type": "code",
   "execution_count": 13,
   "metadata": {},
   "outputs": [],
   "source": [
    "trained_model = poutine.replay(svi.model, trace=guide_trace)"
   ]
  },
  {
   "cell_type": "code",
   "execution_count": 18,
   "metadata": {},
   "outputs": [],
   "source": [
    "def classifier(data, temperature=0):\n",
    "    infered_model = infer_discrete(trained_model, temperature=temperature,\n",
    "                                   first_available_dim=-2)\n",
    "    trace = poutine.trace(infered_model).get_trace(data)\n",
    "    return trace.nodes[\"cluster\"][\"value\"]\n",
    "    "
   ]
  },
  {
   "cell_type": "code",
   "execution_count": 21,
   "metadata": {},
   "outputs": [],
   "source": [
    "new_data = torch.arange(-2, 3, 0.1)\n",
    "z = classifier(new_data)"
   ]
  },
  {
   "cell_type": "code",
   "execution_count": 22,
   "metadata": {},
   "outputs": [
    {
     "data": {
      "text/plain": [
       "tensor([1, 1, 1, 1, 1, 1, 1, 1, 1, 0, 0, 0, 0, 0, 0, 0, 0, 0, 0, 0, 0, 0, 0, 0,\n",
       "        0, 0, 0, 0, 0, 0, 0, 0, 0, 0, 0, 0, 0, 0, 0, 0, 0, 0, 0, 0, 0, 0, 0, 0,\n",
       "        0, 0])"
      ]
     },
     "execution_count": 22,
     "metadata": {},
     "output_type": "execute_result"
    }
   ],
   "source": [
    "z"
   ]
  },
  {
   "cell_type": "code",
   "execution_count": 23,
   "metadata": {},
   "outputs": [],
   "source": [
    "prev_guide = svi.guide"
   ]
  },
  {
   "cell_type": "code",
   "execution_count": 24,
   "metadata": {},
   "outputs": [
    {
     "data": {
      "text/plain": [
       "[('AutoDelta.weights',\n",
       "  tensor([0.2988, 0.6899, 0.0113], grad_fn=<DivBackward0>)),\n",
       " ('AutoDelta.locs',\n",
       "  Parameter containing:\n",
       "  tensor([ 3.4406, -3.5937,  2.2395], requires_grad=True)),\n",
       " ('AutoDelta.scales',\n",
       "  tensor([1.8650e+00, 7.7559e-01, 5.3678e-04], grad_fn=<AddBackward0>))]"
      ]
     },
     "execution_count": 24,
     "metadata": {},
     "output_type": "execute_result"
    }
   ],
   "source": [
    "list(param_store.items())"
   ]
  },
  {
   "cell_type": "code",
   "execution_count": 27,
   "metadata": {},
   "outputs": [],
   "source": [
    "@config_enumerate\n",
    "def cluster_guide(data):\n",
    "    with poutine.block(\n",
    "        hide_types=[\"param\"]\n",
    "    ):  \n",
    "        prev_guide(data)\n",
    "    \n",
    "    with pyro.plate(\"data\", len(data)):\n",
    "        cluster_probs = pyro.param(\"cluster_probs\", torch.ones(K) / K, \n",
    "                             constraint=dist.constraints.simplex)\n",
    "        pyro.sample(\"cluster\", dist.Categorical(cluster_probs))\n",
    "        "
   ]
  },
  {
   "cell_type": "code",
   "execution_count": 28,
   "metadata": {},
   "outputs": [],
   "source": [
    "optim = pyro.optim.Adam({\"lr\": 0.2,})\n",
    "elbo = TraceEnum_ELBO(max_plate_nesting=1)\n",
    "new_svi = SVI(model, cluster_guide, optim, loss=elbo)"
   ]
  },
  {
   "cell_type": "code",
   "execution_count": 29,
   "metadata": {},
   "outputs": [
    {
     "data": {
      "text/plain": [
       "[<matplotlib.lines.Line2D at 0x7f967b24ccd0>]"
      ]
     },
     "execution_count": 29,
     "metadata": {},
     "output_type": "execute_result"
    },
    {
     "data": {
      "image/png": "[encoded data removed]",
      "text/plain": [
       "<Figure size 800x550 with 1 Axes>"
      ]
     },
     "metadata": {},
     "output_type": "display_data"
    }
   ],
   "source": [
    "losses = []\n",
    "for i in range(1000):\n",
    "    losses.append(new_svi.step(data))\n",
    "plt.plot(losses)"
   ]
  },
  {
   "cell_type": "code",
   "execution_count": 30,
   "metadata": {},
   "outputs": [
    {
     "data": {
      "text/plain": [
       "[('AutoDelta.weights',\n",
       "  tensor([0.2988, 0.6899, 0.0113], grad_fn=<DivBackward0>)),\n",
       " ('AutoDelta.locs',\n",
       "  Parameter containing:\n",
       "  tensor([ 3.4406, -3.5937,  2.2395], requires_grad=True)),\n",
       " ('AutoDelta.scales',\n",
       "  tensor([1.8650e+00, 7.7559e-01, 5.3678e-04], grad_fn=<AddBackward0>)),\n",
       " ('cluster_probs',\n",
       "  tensor([5.0101e-01, 4.9896e-01, 3.4865e-05], grad_fn=<DivBackward0>))]"
      ]
     },
     "execution_count": 30,
     "metadata": {},
     "output_type": "execute_result"
    }
   ],
   "source": [
    "list(param_store.items())"
   ]
  },
  {
   "cell_type": "code",
   "execution_count": 4,
   "metadata": {},
   "outputs": [],
   "source": [
    "import pyro.contrib.examples.polyphonic_data_loader as poly\n"
   ]
  },
  {
   "cell_type": "code",
   "execution_count": 5,
   "metadata": {},
   "outputs": [
    {
     "name": "stdout",
     "output_type": "stream",
     "text": [
      "processing raw data - jsb_chorales ...\n",
      "dumped processed data to /env_nlp/lib/python3.9/site-packages/pyro/contrib/examples/.data/jsb_chorales.pkl\n"
     ]
    }
   ],
   "source": [
    "data = poly.load_data(poly.JSB_CHORALES)"
   ]
  },
  {
   "cell_type": "code",
   "execution_count": 7,
   "metadata": {},
   "outputs": [
    {
     "data": {
      "text/plain": [
       "{'sequence_lengths': tensor([129,  65,  49,  65, 114,  33,  57,  49,  64,  33, 108,  48,  49,  48,\n",
       "          61,  48,  65,  53,  41,  52,  33,  61,  41,  45,  69,  39,  57,  80,\n",
       "          86,  57,  61, 105,  68,  65,  48,  57,  57,  52,  48,  33,  93,  41,\n",
       "          65,  49,  73,  48,  33,  45,  65,  52,  49, 109,  49,  52,  65,  41,\n",
       "          49,  65,  77,  73,  57,  41,  65,  57,  44,  33,  85,  72,  60,  41,\n",
       "          49,  33,  56,  52,  56,  83,  57,  57,  52,  41,  53,  64,  61,  65,\n",
       "          65,  48,  25,  96,  41,  37,  76,  65,  65,  72,  41,  65,  41,  37,\n",
       "          77,  48,  85,  57,  72,  48,  45,  53,  49,  84,  68,  49,  73,  50,\n",
       "          96,  55,  66,  98,  37,  76,  65,  33,  49,  77,  76,  65, 128,  41,\n",
       "          45,  61,  33,  88,  61,  63,  65,  68,  60,  49,  48,  45,  65,  45,\n",
       "          33,  64,  64,  65,  49,  63,  61,  48,  45,  65,  84, 120,  41, 102,\n",
       "          49,  57,  69,  57,  82,  48,  76,  48,  52, 113,  97,  83,  33,  68,\n",
       "          41,  49,  65, 109, 108,  60,  65,  57,  49,  33,  57,  33,  61, 113,\n",
       "          58,  64,  65,  33,  57,  49,  64,  68,  60,  65,  41,  72,  53,  49,\n",
       "          57,  33,  49,  89,  65,  44,  49,  61,  65,  69,  52,  76,  33,  57,\n",
       "          76,  57,  33,  76, 101,  40,  41,  44,  76,  65,  49,  54,  49,  49,\n",
       "          64,  51, 109,  65,  65]),\n",
       " 'sequences': tensor([[[0., 0., 0.,  ..., 0., 0., 0.],\n",
       "          [0., 0., 0.,  ..., 0., 0., 0.],\n",
       "          [0., 0., 0.,  ..., 0., 0., 0.],\n",
       "          ...,\n",
       "          [0., 0., 0.,  ..., 0., 0., 0.],\n",
       "          [0., 0., 0.,  ..., 0., 0., 0.],\n",
       "          [0., 0., 0.,  ..., 0., 0., 0.]],\n",
       " \n",
       "         [[0., 0., 0.,  ..., 0., 0., 0.],\n",
       "          [0., 0., 0.,  ..., 0., 0., 0.],\n",
       "          [0., 0., 0.,  ..., 0., 0., 0.],\n",
       "          ...,\n",
       "          [0., 0., 0.,  ..., 0., 0., 0.],\n",
       "          [0., 0., 0.,  ..., 0., 0., 0.],\n",
       "          [0., 0., 0.,  ..., 0., 0., 0.]],\n",
       " \n",
       "         [[0., 0., 0.,  ..., 0., 0., 0.],\n",
       "          [0., 0., 0.,  ..., 0., 0., 0.],\n",
       "          [0., 0., 0.,  ..., 0., 0., 0.],\n",
       "          ...,\n",
       "          [0., 0., 0.,  ..., 0., 0., 0.],\n",
       "          [0., 0., 0.,  ..., 0., 0., 0.],\n",
       "          [0., 0., 0.,  ..., 0., 0., 0.]],\n",
       " \n",
       "         ...,\n",
       " \n",
       "         [[0., 0., 0.,  ..., 0., 0., 0.],\n",
       "          [0., 0., 0.,  ..., 0., 0., 0.],\n",
       "          [0., 0., 0.,  ..., 0., 0., 0.],\n",
       "          ...,\n",
       "          [0., 0., 0.,  ..., 0., 0., 0.],\n",
       "          [0., 0., 0.,  ..., 0., 0., 0.],\n",
       "          [0., 0., 0.,  ..., 0., 0., 0.]],\n",
       " \n",
       "         [[0., 0., 0.,  ..., 0., 0., 0.],\n",
       "          [0., 0., 0.,  ..., 0., 0., 0.],\n",
       "          [0., 0., 0.,  ..., 0., 0., 0.],\n",
       "          ...,\n",
       "          [0., 0., 0.,  ..., 0., 0., 0.],\n",
       "          [0., 0., 0.,  ..., 0., 0., 0.],\n",
       "          [0., 0., 0.,  ..., 0., 0., 0.]],\n",
       " \n",
       "         [[0., 0., 0.,  ..., 0., 0., 0.],\n",
       "          [0., 0., 0.,  ..., 0., 0., 0.],\n",
       "          [0., 0., 0.,  ..., 0., 0., 0.],\n",
       "          ...,\n",
       "          [0., 0., 0.,  ..., 0., 0., 0.],\n",
       "          [0., 0., 0.,  ..., 0., 0., 0.],\n",
       "          [0., 0., 0.,  ..., 0., 0., 0.]]])}"
      ]
     },
     "execution_count": 7,
     "metadata": {},
     "output_type": "execute_result"
    }
   ],
   "source": [
    "data[\"train\"]"
   ]
  },
  {
   "cell_type": "code",
   "execution_count": 12,
   "metadata": {},
   "outputs": [
    {
     "data": {
      "text/plain": [
       "tensor([129,  65,  49,  65, 114,  33,  57,  49,  64,  33, 108,  48,  49,  48,\n",
       "         61,  48,  65,  53,  41,  52,  33,  61,  41,  45,  69,  39,  57,  80,\n",
       "         86,  57,  61, 105,  68,  65,  48,  57,  57,  52,  48,  33,  93,  41,\n",
       "         65,  49,  73,  48,  33,  45,  65,  52,  49, 109,  49,  52,  65,  41,\n",
       "         49,  65,  77,  73,  57,  41,  65,  57,  44,  33,  85,  72,  60,  41,\n",
       "         49,  33,  56,  52,  56,  83,  57,  57,  52,  41,  53,  64,  61,  65,\n",
       "         65,  48,  25,  96,  41,  37,  76,  65,  65,  72,  41,  65,  41,  37,\n",
       "         77,  48,  85,  57,  72,  48,  45,  53,  49,  84,  68,  49,  73,  50,\n",
       "         96,  55,  66,  98,  37,  76,  65,  33,  49,  77,  76,  65, 128,  41,\n",
       "         45,  61,  33,  88,  61,  63,  65,  68,  60,  49,  48,  45,  65,  45,\n",
       "         33,  64,  64,  65,  49,  63,  61,  48,  45,  65,  84, 120,  41, 102,\n",
       "         49,  57,  69,  57,  82,  48,  76,  48,  52, 113,  97,  83,  33,  68,\n",
       "         41,  49,  65, 109, 108,  60,  65,  57,  49,  33,  57,  33,  61, 113,\n",
       "         58,  64,  65,  33,  57,  49,  64,  68,  60,  65,  41,  72,  53,  49,\n",
       "         57,  33,  49,  89,  65,  44,  49,  61,  65,  69,  52,  76,  33,  57,\n",
       "         76,  57,  33,  76, 101,  40,  41,  44,  76,  65,  49,  54,  49,  49,\n",
       "         64,  51, 109,  65,  65])"
      ]
     },
     "execution_count": 12,
     "metadata": {},
     "output_type": "execute_result"
    }
   ],
   "source": [
    "data[\"train\"][\"sequence_lengths\"]"
   ]
  },
  {
   "cell_type": "code",
   "execution_count": 10,
   "metadata": {},
   "outputs": [
    {
     "data": {
      "text/plain": [
       "torch.Size([229, 129, 88])"
      ]
     },
     "execution_count": 10,
     "metadata": {},
     "output_type": "execute_result"
    }
   ],
   "source": [
    "data[\"train\"][\"sequences\"].size()"
   ]
  },
  {
   "cell_type": "code",
   "execution_count": 14,
   "metadata": {},
   "outputs": [],
   "source": [
    "ex = data[\"train\"][\"sequences\"][1]"
   ]
  },
  {
   "cell_type": "code",
   "execution_count": 17,
   "metadata": {},
   "outputs": [
    {
     "data": {
      "text/plain": [
       "torch.Size([129, 88])"
      ]
     },
     "execution_count": 17,
     "metadata": {},
     "output_type": "execute_result"
    }
   ],
   "source": [
    "ex.size()"
   ]
  },
  {
   "cell_type": "code",
   "execution_count": 15,
   "metadata": {},
   "outputs": [
    {
     "data": {
      "text/plain": [
       "tensor([[0., 0., 0.,  ..., 0., 0., 0.],\n",
       "        [0., 0., 0.,  ..., 0., 0., 0.],\n",
       "        [0., 0., 0.,  ..., 0., 0., 0.],\n",
       "        ...,\n",
       "        [0., 0., 0.,  ..., 0., 0., 0.],\n",
       "        [0., 0., 0.,  ..., 0., 0., 0.],\n",
       "        [0., 0., 0.,  ..., 0., 0., 0.]])"
      ]
     },
     "execution_count": 15,
     "metadata": {},
     "output_type": "execute_result"
    }
   ],
   "source": [
    "ex"
   ]
  },
  {
   "cell_type": "code",
   "execution_count": 16,
   "metadata": {},
   "outputs": [
    {
     "data": {
      "text/plain": [
       "tensor([0., 0., 0., 0., 0., 0., 0., 0., 0., 0., 0., 0., 0., 0., 0., 0., 0., 0.,\n",
       "        0., 0., 0., 0., 0., 0., 0., 0., 0., 0., 0., 0., 0., 0., 0., 0., 0., 0.,\n",
       "        0., 0., 0., 0., 0., 0., 0., 0., 0., 0., 0., 0., 0., 0., 0., 0., 1., 0.,\n",
       "        0., 0., 1., 0., 0., 1., 0., 0., 0., 0., 1., 0., 0., 0., 0., 0., 0., 0.,\n",
       "        0., 0., 0., 0., 0., 0., 0., 0., 0., 0., 0., 0., 0., 0., 0., 0.])"
      ]
     },
     "execution_count": 16,
     "metadata": {},
     "output_type": "execute_result"
    }
   ],
   "source": [
    "ex[0]"
   ]
  },
  {
   "cell_type": "code",
   "execution_count": 18,
   "metadata": {},
   "outputs": [
    {
     "data": {
      "text/plain": [
       "tensor([0., 0., 0., 0., 0., 0., 0., 0., 0., 0., 0., 0., 0., 0., 0., 0., 0., 0.,\n",
       "        0., 0., 0., 0., 0., 0., 0., 0., 0., 0., 0., 0., 0., 0., 0., 0., 0., 0.,\n",
       "        0., 0., 0., 0., 0., 0., 0., 0., 0., 0., 0., 0., 0., 1., 0., 0., 0., 0.,\n",
       "        0., 0., 1., 0., 0., 0., 0., 1., 0., 0., 1., 0., 0., 0., 0., 0., 0., 0.,\n",
       "        0., 0., 0., 0., 0., 0., 0., 0., 0., 0., 0., 0., 0., 0., 0., 0.])"
      ]
     },
     "execution_count": 18,
     "metadata": {},
     "output_type": "execute_result"
    }
   ],
   "source": [
    "ex[1]"
   ]
  },
  {
   "cell_type": "code",
   "execution_count": 21,
   "metadata": {},
   "outputs": [
    {
     "data": {
      "text/plain": [
       "tensor(0.)"
      ]
     },
     "execution_count": 21,
     "metadata": {},
     "output_type": "execute_result"
    }
   ],
   "source": [
    "ex[65:].sum()"
   ]
  },
  {
   "cell_type": "code",
   "execution_count": 22,
   "metadata": {},
   "outputs": [
    {
     "data": {
      "text/plain": [
       "tensor([0., 0., 0., 0., 0., 0., 0., 0., 0., 0., 0., 0., 0., 0., 0., 0., 0., 0.,\n",
       "        0., 0., 0., 0., 0., 0., 0., 0., 0., 0., 0., 0., 0., 0., 0., 0., 0., 0.,\n",
       "        0., 0., 0., 0., 1., 0., 0., 0., 0., 0., 0., 1., 0., 0., 0., 0., 0., 0.,\n",
       "        0., 0., 1., 0., 0., 0., 0., 0., 0., 0., 1., 0., 0., 0., 0., 0., 0., 0.,\n",
       "        0., 0., 0., 0., 0., 0., 0., 0., 0., 0., 0., 0., 0., 0., 0., 0.])"
      ]
     },
     "execution_count": 22,
     "metadata": {},
     "output_type": "execute_result"
    }
   ],
   "source": [
    "ex[64]"
   ]
  },
  {
   "cell_type": "code",
   "execution_count": 23,
   "metadata": {},
   "outputs": [],
   "source": [
    "sequences = data[\"train\"][\"sequences\"]\n",
    "lengths = data[\"train\"][\"sequence_lengths\"]\n",
    "\n",
    "# find all the notes that are present at least once in the training set\n",
    "present_notes = (sequences == 1).sum(0).sum(0) > 0\n",
    "# remove notes that are never played (we remove 37/88 notes)\n",
    "sequences = sequences[..., present_notes]"
   ]
  },
  {
   "cell_type": "code",
   "execution_count": 25,
   "metadata": {},
   "outputs": [
    {
     "data": {
      "text/plain": [
       "torch.Size([229, 129, 51])"
      ]
     },
     "execution_count": 25,
     "metadata": {},
     "output_type": "execute_result"
    }
   ],
   "source": [
    "sequences.size()"
   ]
  },
  {
   "cell_type": "code",
   "execution_count": 26,
   "metadata": {},
   "outputs": [
    {
     "data": {
      "text/plain": [
       "13807.0"
      ]
     },
     "execution_count": 26,
     "metadata": {},
     "output_type": "execute_result"
    }
   ],
   "source": [
    "num_observations = float(lengths.sum())\n",
    "num_observations"
   ]
  },
  {
   "cell_type": "code",
   "execution_count": 27,
   "metadata": {},
   "outputs": [],
   "source": [
    "num_sequences, max_length, data_dim = sequences.shape\n"
   ]
  },
  {
   "cell_type": "code",
   "execution_count": 28,
   "metadata": {},
   "outputs": [
    {
     "data": {
      "text/plain": [
       "229"
      ]
     },
     "execution_count": 28,
     "metadata": {},
     "output_type": "execute_result"
    }
   ],
   "source": [
    "num_sequences"
   ]
  },
  {
   "cell_type": "code",
   "execution_count": 29,
   "metadata": {},
   "outputs": [
    {
     "data": {
      "text/plain": [
       "129"
      ]
     },
     "execution_count": 29,
     "metadata": {},
     "output_type": "execute_result"
    }
   ],
   "source": [
    "max_length"
   ]
  },
  {
   "cell_type": "code",
   "execution_count": 30,
   "metadata": {},
   "outputs": [
    {
     "data": {
      "text/plain": [
       "51"
      ]
     },
     "execution_count": 30,
     "metadata": {},
     "output_type": "execute_result"
    }
   ],
   "source": [
    "data_dim"
   ]
  },
  {
   "cell_type": "code",
   "execution_count": 33,
   "metadata": {},
   "outputs": [
    {
     "data": {
      "text/plain": [
       "tensor([[3.6161e-01, 6.0911e-07, 1.9840e-03, 4.6036e-10, 1.5080e-01, 3.3099e-06,\n",
       "         1.4890e-05, 5.5664e-07, 2.4926e-02, 2.0698e-02, 9.4012e-02, 4.5392e-08,\n",
       "         9.6835e-29, 3.4595e-01, 7.2783e-14, 8.1011e-07],\n",
       "        [1.0847e-06, 3.0679e-01, 3.9628e-02, 1.1167e-09, 1.6784e-07, 1.7937e-10,\n",
       "         1.3159e-03, 8.1377e-06, 3.6302e-03, 1.4684e-04, 3.1064e-01, 5.0675e-06,\n",
       "         2.0058e-01, 1.3716e-01, 8.7989e-05, 2.8809e-07],\n",
       "        [6.4479e-02, 4.3550e-01, 6.4081e-02, 3.6200e-01, 3.1735e-06, 1.5437e-06,\n",
       "         2.7385e-07, 9.4056e-03, 1.4669e-03, 4.9832e-09, 1.2236e-08, 1.1957e-07,\n",
       "         1.8149e-03, 4.1483e-12, 1.4793e-02, 4.6454e-02],\n",
       "        [1.2897e-06, 1.4855e-06, 1.0692e-06, 2.1151e-01, 5.8647e-02, 7.1553e-04,\n",
       "         4.6889e-05, 4.0958e-03, 5.6374e-02, 3.1083e-01, 6.0637e-04, 1.9875e-01,\n",
       "         1.2005e-02, 1.4627e-01, 1.4423e-04, 6.9613e-23],\n",
       "        [2.3629e-01, 2.0715e-06, 1.7326e-02, 2.2014e-11, 3.6482e-02, 4.9211e-07,\n",
       "         1.4110e-02, 1.9165e-12, 1.5758e-11, 3.9546e-02, 2.2691e-01, 9.8258e-06,\n",
       "         2.2559e-01, 9.3006e-05, 1.8563e-09, 2.0364e-01],\n",
       "        [5.9589e-03, 1.6254e-06, 1.6036e-02, 7.8719e-03, 1.7949e-03, 9.4524e-01,\n",
       "         3.4907e-12, 7.7135e-03, 4.3668e-08, 1.4549e-04, 6.2594e-10, 8.1973e-04,\n",
       "         1.4190e-02, 1.6487e-08, 4.8285e-09, 2.2645e-04],\n",
       "        [1.2245e-03, 2.0917e-02, 2.9602e-06, 1.9884e-04, 4.6429e-05, 5.1461e-01,\n",
       "         3.6767e-01, 5.1680e-05, 2.4677e-11, 2.4633e-08, 4.2433e-02, 4.3547e-06,\n",
       "         2.9047e-13, 1.8275e-10, 5.2837e-02, 3.7321e-06],\n",
       "        [1.4577e-02, 5.0108e-23, 2.5197e-01, 2.9101e-16, 8.6344e-02, 1.1584e-01,\n",
       "         3.0933e-08, 2.8655e-01, 3.0022e-02, 7.3210e-04, 1.3738e-02, 1.3474e-01,\n",
       "         3.9297e-03, 8.1760e-03, 5.3388e-02, 3.4672e-16],\n",
       "        [1.0432e-03, 1.6751e-06, 3.6075e-06, 8.2879e-03, 7.8753e-04, 2.5851e-03,\n",
       "         1.4283e-02, 4.3841e-07, 8.0727e-01, 7.7221e-06, 2.1168e-07, 3.9401e-03,\n",
       "         8.2544e-02, 4.9918e-10, 8.6130e-06, 7.9235e-02],\n",
       "        [7.8383e-13, 3.4395e-01, 5.3737e-08, 5.6407e-02, 5.4525e-03, 7.5022e-02,\n",
       "         8.0976e-07, 1.5468e-05, 3.7231e-05, 5.1597e-01, 1.1351e-14, 1.5520e-03,\n",
       "         9.8774e-08, 1.5523e-03, 3.7005e-05, 1.0238e-13],\n",
       "        [1.4307e-04, 4.5438e-03, 6.8076e-02, 4.8098e-07, 4.5202e-05, 1.7828e-07,\n",
       "         1.2293e-01, 2.2327e-02, 2.2743e-05, 1.9906e-08, 7.5436e-01, 1.2367e-11,\n",
       "         1.3593e-11, 5.5141e-04, 1.5048e-09, 2.6995e-02],\n",
       "        [1.4220e-02, 3.4669e-02, 2.0527e-02, 8.4429e-08, 7.3790e-03, 5.9705e-03,\n",
       "         1.3953e-06, 2.2590e-06, 1.6841e-01, 1.0621e-03, 2.4497e-13, 6.1535e-01,\n",
       "         1.0548e-03, 3.0285e-05, 1.1017e-02, 1.2030e-01],\n",
       "        [1.0908e-03, 9.3771e-12, 1.3481e-02, 5.4772e-02, 1.6644e-01, 6.2017e-08,\n",
       "         1.7132e-02, 2.7834e-07, 1.8507e-05, 2.5505e-10, 2.6679e-03, 6.4175e-04,\n",
       "         5.3490e-01, 2.0883e-01, 1.3052e-05, 1.7748e-07],\n",
       "        [2.2332e-08, 1.5450e-05, 5.7541e-04, 4.9752e-13, 2.2829e-01, 1.6791e-03,\n",
       "         2.9363e-02, 1.4914e-03, 1.1950e-09, 4.7690e-12, 1.3587e-04, 2.0508e-03,\n",
       "         2.3700e-05, 7.2759e-01, 1.1591e-03, 7.6243e-03],\n",
       "        [4.5424e-07, 7.9242e-02, 9.3830e-24, 5.0155e-18, 1.5441e-06, 1.1132e-01,\n",
       "         5.8737e-09, 9.8174e-03, 9.7400e-05, 2.6211e-01, 1.1105e-04, 1.0819e-11,\n",
       "         2.4015e-06, 3.1738e-02, 5.0556e-01, 3.7458e-08],\n",
       "        [9.6284e-10, 2.5326e-05, 5.1144e-01, 7.2250e-03, 9.8361e-05, 1.8656e-03,\n",
       "         6.1127e-03, 1.0895e-06, 2.1614e-05, 1.4429e-12, 4.9415e-02, 4.0371e-05,\n",
       "         1.9681e-02, 5.8748e-17, 4.1338e-02, 3.6273e-01]])"
      ]
     },
     "execution_count": 33,
     "metadata": {},
     "output_type": "execute_result"
    }
   ],
   "source": [
    "dist.Dirichlet(0.9 * torch.eye(16) + 0.1).to_event(1).sample()"
   ]
  },
  {
   "cell_type": "code",
   "execution_count": 35,
   "metadata": {},
   "outputs": [
    {
     "data": {
      "text/plain": [
       "torch.return_types.max(\n",
       "values=tensor([0.5948, 0.8845, 0.4677, 0.6039, 0.4931, 0.6813, 0.6623, 0.4022, 0.4396,\n",
       "        0.7509, 0.8897, 0.3788, 0.3210, 0.7410, 0.7441, 0.4033]),\n",
       "indices=tensor([ 0,  1,  2,  3,  4,  3,  4,  1,  8,  9, 10, 10,  7, 13, 14,  4]))"
      ]
     },
     "execution_count": 35,
     "metadata": {},
     "output_type": "execute_result"
    }
   ],
   "source": [
    "dist.Dirichlet(0.9 * torch.eye(16) + 0.1).to_event(1).sample().max(1)"
   ]
  },
  {
   "cell_type": "code",
   "execution_count": null,
   "metadata": {},
   "outputs": [],
   "source": []
  }
 ],
 "metadata": {
  "kernelspec": {
   "display_name": "env_nlp",
   "language": "python",
   "name": "python3"
  },
  "language_info": {
   "codemirror_mode": {
    "name": "ipython",
    "version": 3
   },
   "file_extension": ".py",
   "mimetype": "text/x-python",
   "name": "python",
   "nbconvert_exporter": "python",
   "pygments_lexer": "ipython3",
   "version": "3.10.0"
  }
 },
 "nbformat": 4,
 "nbformat_minor": 2
}
