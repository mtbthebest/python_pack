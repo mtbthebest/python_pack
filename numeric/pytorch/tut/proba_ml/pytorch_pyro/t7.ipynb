{
 "cells": [
  {
   "cell_type": "code",
   "execution_count": 2,
   "metadata": {},
   "outputs": [
    {
     "name": "stderr",
     "output_type": "stream",
     "text": [
      "/env_nlp/lib/python3.9/site-packages/tqdm/auto.py:21: TqdmWarning: IProgress not found. Please update jupyter and ipywidgets. See https://ipywidgets.readthedocs.io/en/stable/user_install.html\n",
      "  from .autonotebook import tqdm as notebook_tqdm\n"
     ]
    }
   ],
   "source": [
    "%load_ext autoreload\n",
    "%autoreload 2\n",
    "import torch\n",
    "from torch import nn, optim\n",
    "import numpy as np\n",
    "import pandas as pd\n",
    "import scipy\n",
    "import matplotlib as mpl\n",
    "import matplotlib.pyplot as plt\n",
    "import pyro\n",
    "import pyro.distributions as dist\n",
    "from pyro.distributions import Categorical, Normal, Multinomial, Binomial, MultivariateNormal, Beta, constraints\n",
    "from pyro.distributions.torch import Bernoulli\n",
    "import pyro.infer as infer\n",
    "from pyro.infer import TraceEnum_ELBO, Trace_ELBO\n",
    "from pyro import poutine\n",
    "from pyro.poutine.trace_messenger import TraceMessenger\n",
    "from pyro.poutine.messenger import Messenger\n",
    "\n",
    "plt.style.use('seaborn-v0_8')\n"
   ]
  },
  {
   "cell_type": "code",
   "execution_count": 3,
   "metadata": {},
   "outputs": [],
   "source": [
    "def model(θ):\n",
    "    sigma = pyro.param(\"sigma\", lambda: torch.tensor(1.0))\n",
    "    z = pyro.sample(\"z\", dist.Normal(θ, sigma))\n",
    "    o = z ** 2\n",
    "    return o"
   ]
  },
  {
   "cell_type": "code",
   "execution_count": 4,
   "metadata": {},
   "outputs": [
    {
     "data": {
      "text/plain": [
       "tensor(2.3747, grad_fn=<PowBackward0>)"
      ]
     },
     "execution_count": 4,
     "metadata": {},
     "output_type": "execute_result"
    }
   ],
   "source": [
    "pyro.clear_param_store()\n",
    "pyro.set_rng_seed(0)\n",
    "model(0)"
   ]
  },
  {
   "cell_type": "code",
   "execution_count": 5,
   "metadata": {},
   "outputs": [],
   "source": [
    "class LogMessenger(Messenger):\n",
    "    \n",
    "    def __init__(self, data):\n",
    "        self.data = data\n",
    "        self.params = []\n",
    "    def __call__(self, fn):\n",
    "        def wrapper(*args, **kwargs):\n",
    "            with self:\n",
    "                fn(*args, **kwargs)\n",
    "                return self.logp.clone()\n",
    "        \n",
    "        return wrapper\n",
    "    \n",
    "    def __enter__(self):\n",
    "        self.logp = torch.tensor(0.0)\n",
    "        return super().__enter__()\n",
    "    \n",
    "    def __exit__(self, exc_type, exc_value, traceback):\n",
    "        self.logp = torch.tensor(0.0)\n",
    "        return super().__exit__(exc_type, exc_value, traceback)\n",
    "    \n",
    "    def _process_message(self, msg):\n",
    "        print(\"Process message \", msg)\n",
    "        # return msg\n",
    "        return super()._process_message(msg)\n",
    "\n",
    "    def _pyro_sample(self, msg):\n",
    "        print(msg)\n",
    "        msg[\"value\"] = msg[\"fn\"].sample()\n",
    "        print(\"Pyro sample Sampled is \", msg[\"value\"])\n",
    "        value = torch.tensor(1.0)\n",
    "        print(\"Setting value to \", value)\n",
    "        msg[\"value\"] = value\n",
    "        msg[\"is_observed\"] = True\n",
    "        self.logp += msg[\"fn\"].log_prob(value).sum()\n",
    "        msg[\"logp\"] = self.logp\n",
    "        # return msg\n",
    "\n",
    "    def _pyro_param(self, msg):\n",
    "        print(\"Pyro param: \", msg[\"name\"])\n",
    "        # msg[\"value\"].requires_grad_(False)\n",
    "        # return msg\n",
    "    \n",
    "    def _postprocess_message(self, msg):\n",
    "        print()\n",
    "        print(\"Postprocess message \", msg[\"name\"], msg[\"value\"])\n",
    "        print()\n",
    "        return super()._postprocess_message(msg)\n",
    "\n",
    "    "
   ]
  },
  {
   "cell_type": "code",
   "execution_count": 6,
   "metadata": {},
   "outputs": [
    {
     "name": "stdout",
     "output_type": "stream",
     "text": [
      "Process message  {'type': 'param', 'name': 'sigma', 'fn': <bound method ParamStoreDict.get_param of <pyro.params.param_store.ParamStoreDict object at 0x7f5f3e5ee880>>, 'is_observed': False, 'args': ('sigma', <function model.<locals>.<lambda> at 0x7f604210ae50>), 'kwargs': {'constraint': Real(), 'event_dim': None}, 'value': None, 'scale': 1.0, 'mask': None, 'cond_indep_stack': (), 'done': False, 'stop': False, 'continuation': None, 'infer': {}}\n",
      "Pyro param:  sigma\n",
      "\n",
      "Postprocess message  sigma tensor(1., requires_grad=True)\n",
      "\n",
      "Process message  {'type': 'sample', 'name': 'z', 'fn': Normal(loc: 0.0, scale: 1.0), 'is_observed': False, 'args': (), 'kwargs': {}, 'value': None, 'infer': {}, 'scale': 1.0, 'mask': None, 'cond_indep_stack': (), 'done': False, 'stop': False, 'continuation': None}\n",
      "{'type': 'sample', 'name': 'z', 'fn': Normal(loc: 0.0, scale: 1.0), 'is_observed': False, 'args': (), 'kwargs': {}, 'value': None, 'infer': {}, 'scale': 1.0, 'mask': None, 'cond_indep_stack': (), 'done': False, 'stop': False, 'continuation': None}\n",
      "Pyro sample Sampled is  tensor(1.5410)\n",
      "Setting value to  tensor(1.)\n",
      "\n",
      "Postprocess message  z tensor(1.)\n",
      "\n",
      "Model result:  tensor(1.)\n",
      "Log P:  tensor(-1.4189, grad_fn=<CloneBackward0>)\n"
     ]
    }
   ],
   "source": [
    "pyro.clear_param_store()\n",
    "pyro.set_rng_seed(0)\n",
    "with LogMessenger({\"z\": torch.tensor(0.5)}) as m:\n",
    "    print(\"Model result: \", model(0))\n",
    "    print(\"Log P: \", m.logp.clone())"
   ]
  },
  {
   "cell_type": "code",
   "execution_count": 7,
   "metadata": {},
   "outputs": [],
   "source": [
    "class ScaleMessenger(Messenger):\n",
    "    \n",
    "    def __init__(self, scale):\n",
    "        self.scale = scale\n",
    "\n",
    "    def __enter__(self):\n",
    "        return super().__enter__()\n",
    "    \n",
    "    def __exit__(self, exc_type, exc_value, traceback):\n",
    "        return super().__exit__(exc_type, exc_value, traceback)\n",
    "    \n",
    "    def _process_message(self, msg):\n",
    "        print(\"ScaleMessenger Process message \", msg)\n",
    "        return super()._process_message(msg)\n",
    "\n",
    "    def _pyro_sample(self, msg):\n",
    "        print(\"ScaleMessenger pyro sample: \", msg[\"name\"])\n",
    "\n",
    "    def _pyro_param(self, msg):\n",
    "        print(\"ScaleMessenger pyro param: \", msg[\"name\"])\n",
    "\n",
    "    def _postprocess_message(self, msg):\n",
    "        print()\n",
    "        print(\"ScaleMessenger Postprocess message \", msg[\"name\"], msg[\"value\"])\n",
    "        print()\n",
    "        return super()._postprocess_message(msg)"
   ]
  },
  {
   "cell_type": "code",
   "execution_count": 8,
   "metadata": {},
   "outputs": [
    {
     "name": "stdout",
     "output_type": "stream",
     "text": [
      "Process message  {'type': 'param', 'name': 'sigma', 'fn': <bound method ParamStoreDict.get_param of <pyro.params.param_store.ParamStoreDict object at 0x7f5f3e5ee880>>, 'is_observed': False, 'args': ('sigma', <function model.<locals>.<lambda> at 0x7f605b9fd310>), 'kwargs': {'constraint': Real(), 'event_dim': None}, 'value': None, 'scale': 1.0, 'mask': None, 'cond_indep_stack': (), 'done': False, 'stop': False, 'continuation': None, 'infer': {}}\n",
      "Pyro param:  sigma\n",
      "ScaleMessenger Process message  {'type': 'param', 'name': 'sigma', 'fn': <bound method ParamStoreDict.get_param of <pyro.params.param_store.ParamStoreDict object at 0x7f5f3e5ee880>>, 'is_observed': False, 'args': ('sigma', <function model.<locals>.<lambda> at 0x7f605b9fd310>), 'kwargs': {'constraint': Real(), 'event_dim': None}, 'value': None, 'scale': 1.0, 'mask': None, 'cond_indep_stack': (), 'done': False, 'stop': False, 'continuation': None, 'infer': {}}\n",
      "ScaleMessenger pyro param:  sigma\n",
      "\n",
      "ScaleMessenger Postprocess message  sigma tensor(1., requires_grad=True)\n",
      "\n",
      "\n",
      "Postprocess message  sigma tensor(1., requires_grad=True)\n",
      "\n",
      "Process message  {'type': 'sample', 'name': 'z', 'fn': Normal(loc: 0.0, scale: 1.0), 'is_observed': False, 'args': (), 'kwargs': {}, 'value': None, 'infer': {}, 'scale': 1.0, 'mask': None, 'cond_indep_stack': (), 'done': False, 'stop': False, 'continuation': None}\n",
      "{'type': 'sample', 'name': 'z', 'fn': Normal(loc: 0.0, scale: 1.0), 'is_observed': False, 'args': (), 'kwargs': {}, 'value': None, 'infer': {}, 'scale': 1.0, 'mask': None, 'cond_indep_stack': (), 'done': False, 'stop': False, 'continuation': None}\n",
      "Pyro sample Sampled is  tensor(1.5410)\n",
      "Setting value to  tensor(1.)\n",
      "ScaleMessenger Process message  {'type': 'sample', 'name': 'z', 'fn': Normal(loc: 0.0, scale: 1.0), 'is_observed': True, 'args': (), 'kwargs': {}, 'value': tensor(1.), 'infer': {}, 'scale': 1.0, 'mask': None, 'cond_indep_stack': (), 'done': False, 'stop': False, 'continuation': None, 'logp': tensor(-1.4189, grad_fn=<AddBackward0>)}\n",
      "ScaleMessenger pyro sample:  z\n",
      "\n",
      "ScaleMessenger Postprocess message  z tensor(1.)\n",
      "\n",
      "\n",
      "Postprocess message  z tensor(1.)\n",
      "\n"
     ]
    }
   ],
   "source": [
    "pyro.clear_param_store()\n",
    "pyro.set_rng_seed(0)\n",
    "with ScaleMessenger(2.0) as scale:\n",
    "    with LogMessenger({\"z\": torch.tensor(0.5)}) as m:\n",
    "        model(0.)"
   ]
  },
  {
   "cell_type": "code",
   "execution_count": 9,
   "metadata": {},
   "outputs": [
    {
     "data": {
      "text/plain": [
       "tensor(2.3747, grad_fn=<PowBackward0>)"
      ]
     },
     "execution_count": 9,
     "metadata": {},
     "output_type": "execute_result"
    }
   ],
   "source": [
    "def model1(θ):\n",
    "    sigma = pyro.deterministic(\"sigma\", lambda: torch.tensor(1.0))\n",
    "    z = pyro.sample(\"z\", dist.Normal(θ, sigma))\n",
    "    o = pyro.deterministic(\"o\", z**2)\n",
    "    return o\n",
    "pyro.clear_param_store()\n",
    "pyro.set_rng_seed(0)\n",
    "model(0)"
   ]
  },
  {
   "cell_type": "code",
   "execution_count": 12,
   "metadata": {},
   "outputs": [
    {
     "data": {
      "text/plain": [
       "tensor(0.5000)"
      ]
     },
     "execution_count": 12,
     "metadata": {},
     "output_type": "execute_result"
    }
   ],
   "source": [
    "d = dist.Delta(torch.tensor(0.5))\n",
    "s = d.sample()\n",
    "s"
   ]
  },
  {
   "cell_type": "code",
   "execution_count": 14,
   "metadata": {},
   "outputs": [
    {
     "data": {
      "text/plain": [
       "tensor(1.)"
      ]
     },
     "execution_count": 14,
     "metadata": {},
     "output_type": "execute_result"
    }
   ],
   "source": [
    "d.log_prob(s).exp()"
   ]
  },
  {
   "cell_type": "code",
   "execution_count": 15,
   "metadata": {},
   "outputs": [
    {
     "data": {
      "text/plain": [
       "tensor(0.)"
      ]
     },
     "execution_count": 15,
     "metadata": {},
     "output_type": "execute_result"
    }
   ],
   "source": [
    "d.log_prob(s + 0.1).exp()"
   ]
  },
  {
   "cell_type": "code",
   "execution_count": null,
   "metadata": {},
   "outputs": [],
   "source": []
  }
 ],
 "metadata": {
  "kernelspec": {
   "display_name": "env_nlp",
   "language": "python",
   "name": "python3"
  },
  "language_info": {
   "codemirror_mode": {
    "name": "ipython",
    "version": 3
   },
   "file_extension": ".py",
   "mimetype": "text/x-python",
   "name": "python",
   "nbconvert_exporter": "python",
   "pygments_lexer": "ipython3",
   "version": "3.10.0"
  }
 },
 "nbformat": 4,
 "nbformat_minor": 2
}
