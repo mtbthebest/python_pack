{
 "cells": [
  {
   "cell_type": "code",
   "execution_count": 1,
   "metadata": {},
   "outputs": [
    {
     "name": "stderr",
     "output_type": "stream",
     "text": [
      "/env_nlp/lib/python3.9/site-packages/tqdm/auto.py:21: TqdmWarning: IProgress not found. Please update jupyter and ipywidgets. See https://ipywidgets.readthedocs.io/en/stable/user_install.html\n",
      "  from .autonotebook import tqdm as notebook_tqdm\n"
     ]
    }
   ],
   "source": [
    "%load_ext autoreload\n",
    "%autoreload 2\n",
    "import os\n",
    "import random\n",
    "from collections import OrderedDict, defaultdict\n",
    "import torch\n",
    "from torch import nn, optim\n",
    "from torch.nn import functional as F\n",
    "from torch.utils.data import DataLoader, Dataset\n",
    "from torchvision.transforms import ToTensor, Compose, Normalize\n",
    "import numpy as np\n",
    "import pandas as pd\n",
    "import PIL\n",
    "from PIL import Image\n",
    "import matplotlib as mpl\n",
    "import matplotlib.pyplot as plt\n",
    "plt.style.use('seaborn-v0_8')\n",
    "import pyro\n",
    "from pyro.distributions import Normal, Bernoulli\n",
    "from pyro.infer import SVI, Trace_ELBO\n",
    "\n",
    "from mnist import MNIST, MNISTTrain, MNISTTest\n",
    "\n",
    "random.seed(0)\n",
    "np.random.seed(0)\n",
    "torch.manual_seed(0)\n",
    "pyro.set_rng_seed(0)"
   ]
  },
  {
   "cell_type": "code",
   "execution_count": 2,
   "metadata": {},
   "outputs": [],
   "source": [
    "batch_size = 1024 * 4"
   ]
  },
  {
   "cell_type": "code",
   "execution_count": 3,
   "metadata": {},
   "outputs": [],
   "source": [
    "train_loader = DataLoader(dataset=MNISTTrain(transform=Compose([ToTensor(),])),\n",
    "                          batch_size=batch_size, shuffle=True, num_workers=2)"
   ]
  },
  {
   "cell_type": "code",
   "execution_count": 4,
   "metadata": {},
   "outputs": [],
   "source": [
    "test_loader = DataLoader(dataset=MNISTTest(transform=Compose([ToTensor(),])),\n",
    "                          batch_size=batch_size, shuffle=False)\n"
   ]
  },
  {
   "cell_type": "code",
   "execution_count": 5,
   "metadata": {},
   "outputs": [],
   "source": [
    "class Encoder(nn.Module):\n",
    "    \n",
    "    def __init__(self, hidden, zdim):\n",
    "        super().__init__()\n",
    "        self.fc1 = nn.Linear(784, hidden)\n",
    "        self.std_net = nn.Linear(hidden, zdim)\n",
    "        self.mu_net = nn.Linear(hidden, zdim)\n",
    "        \n",
    "            \n",
    "    def forward(self, x):\n",
    "        x = x.squeeze().view(-1, 784)\n",
    "        feat1 = F.relu(self.fc1(x))\n",
    "        mean = self.mu_net(feat1)\n",
    "        std = torch.exp(self.std_net(feat1))\n",
    "        return mean, std\n",
    "\n",
    "class Decoder(nn.Module):\n",
    "    \n",
    "    def __init__(self, zdim, hidden):\n",
    "        super().__init__()\n",
    "        self.net = nn.Sequential(\n",
    "            nn.Linear(zdim, hidden),\n",
    "            nn.ReLU(),\n",
    "            nn.Linear(hidden, 784),\n",
    "            nn.Sigmoid()\n",
    "            )\n",
    "    \n",
    "    def forward(self, z):\n",
    "        x_hat = self.net(z)\n",
    "        # x_hat = x_hat.view(z.size(0), 1, 28, 28)\n",
    "        return x_hat\n",
    "\n",
    "\n",
    "class VAE(nn.Module):\n",
    "    \n",
    "    def __init__(self):\n",
    "        super().__init__()\n",
    "        self.zdim = 50\n",
    "        self.encoder = Encoder(hidden=400, zdim=self.zdim)\n",
    "        self.decoder = Decoder(hidden=400, zdim=self.zdim,)\n",
    "        \n",
    "        self.apply(self.reset_parameters)\n",
    "    \n",
    "    def reset_parameters(self, module):\n",
    "        if isinstance(module, nn.Linear):\n",
    "            nn.init.xavier_normal_(module.weight, )\n",
    "            if module.bias is not None:\n",
    "                nn.init.constant_(module.bias, 0.)\n",
    "\n",
    "    def model(self, x):\n",
    "        pyro.module(\"decoder\", self.decoder)\n",
    "        img = x.ge(0.5).to(torch.float32).reshape(x.shape[0], 784)\n",
    "        with pyro.plate(\"data\", x.size(0)):\n",
    "            mean = x.new_zeros((x.size(0), self.zdim))\n",
    "            std = x.new_ones((x.size(0), self.zdim))\n",
    "            # print(x)\n",
    "            z = pyro.sample(\"z\", Normal(mean, std).to_event(1))\n",
    "            x_hat = self.decoder(z)\n",
    "            # print(\"---\")\n",
    "            # print(x_hat)\n",
    "            # imgs.append(x)\n",
    "            # imgs.append(x_hat)\n",
    "            \n",
    "            pyro.sample(\"x_hat\", Bernoulli(x_hat).to_event(1), obs=img)\n",
    "        return x_hat\n",
    "            \n",
    "    \n",
    "    def guide(self, x):\n",
    "        pyro.module(\"encoder\", self.encoder)\n",
    "        with pyro.plate(\"data\", x.size(0)):\n",
    "            mean, std = self.encoder(x)\n",
    "            pyro.sample(\"z\", Normal(mean, std).to_event(1))\n",
    "    \n",
    "    def reconstruct_img(self, x):\n",
    "        with torch.no_grad():\n",
    "            mean, std = self.encoder(x)\n",
    "            print(mean.size(), std.size())\n",
    "            z = Normal(mean, std).sample()\n",
    "            x_hat = self.decoder(z)\n",
    "            return x_hat\n",
    "            "
   ]
  },
  {
   "cell_type": "code",
   "execution_count": 6,
   "metadata": {},
   "outputs": [],
   "source": [
    "\n",
    "def train():\n",
    "    pyro.clear_param_store()\n",
    "    vae = VAE()\n",
    "    vae.cuda()\n",
    "    vae.train()\n",
    "    optimizer = pyro.optim.Adam({\"lr\": 5e-4})\n",
    "    svi = SVI(vae.model, vae.guide, optimizer, Trace_ELBO())\n",
    "    epochs = 25\n",
    "    losses = []\n",
    "    it = 0\n",
    "    for i in range(epochs):\n",
    "        print(\"Starting Epoch \", i, \"...\")\n",
    "        for j, (img, label) in enumerate(train_loader):\n",
    "            img = img.cuda()\n",
    "            img /= 255.0\n",
    "            loss = svi.step(img)\n",
    "            # print(loss)\n",
    "            losses.append(loss / batch_size)\n",
    "            if it % 50 == 0:\n",
    "                print(f\"Epoch: {i}, batch: {j}, loss: {np.mean(losses[-100:])}\")\n",
    "            it += 1\n",
    "    return vae, losses\n",
    "    \n",
    "        "
   ]
  },
  {
   "cell_type": "code",
   "execution_count": 7,
   "metadata": {},
   "outputs": [
    {
     "name": "stdout",
     "output_type": "stream",
     "text": [
      "Starting Epoch  0 ...\n",
      "Epoch: 0, batch: 0, loss: 573.3875427246094\n",
      "Epoch: 0, batch: 50, loss: 353.71470731847427\n",
      "Starting Epoch  1 ...\n",
      "Epoch: 1, batch: 41, loss: 295.1570189666748\n",
      "Starting Epoch  2 ...\n",
      "Epoch: 2, batch: 32, loss: 222.86134746551514\n",
      "Starting Epoch  3 ...\n",
      "Epoch: 3, batch: 23, loss: 192.59916641235353\n",
      "Starting Epoch  4 ...\n",
      "Epoch: 4, batch: 14, loss: 173.7318946647644\n",
      "Starting Epoch  5 ...\n",
      "Epoch: 5, batch: 5, loss: 162.4774200630188\n",
      "Epoch: 5, batch: 55, loss: 155.02336338043213\n",
      "Starting Epoch  6 ...\n",
      "Epoch: 6, batch: 46, loss: 148.83620403289794\n",
      "Starting Epoch  7 ...\n",
      "Epoch: 7, batch: 37, loss: 143.19157779693603\n",
      "Starting Epoch  8 ...\n",
      "Epoch: 8, batch: 28, loss: 138.74401424407958\n",
      "Starting Epoch  9 ...\n",
      "Epoch: 9, batch: 19, loss: 134.97924503326416\n",
      "Starting Epoch  10 ...\n",
      "Epoch: 10, batch: 10, loss: 131.88202741622925\n",
      "Starting Epoch  11 ...\n",
      "Epoch: 11, batch: 1, loss: 129.1868341445923\n",
      "Epoch: 11, batch: 51, loss: 127.30475858688355\n",
      "Starting Epoch  12 ...\n",
      "Epoch: 12, batch: 42, loss: 125.26517738342285\n",
      "Starting Epoch  13 ...\n",
      "Epoch: 13, batch: 33, loss: 122.83960182189941\n",
      "Starting Epoch  14 ...\n",
      "Epoch: 14, batch: 24, loss: 121.18793579101562\n",
      "Starting Epoch  15 ...\n",
      "Epoch: 15, batch: 15, loss: 119.75907802581787\n",
      "Starting Epoch  16 ...\n",
      "Epoch: 16, batch: 6, loss: 118.34378164291383\n",
      "Epoch: 16, batch: 56, loss: 117.57180631637573\n",
      "Starting Epoch  17 ...\n",
      "Epoch: 17, batch: 47, loss: 116.47907331466675\n",
      "Starting Epoch  18 ...\n",
      "Epoch: 18, batch: 38, loss: 114.99813886642455\n",
      "Starting Epoch  19 ...\n",
      "Epoch: 19, batch: 29, loss: 114.05633094787598\n",
      "Starting Epoch  20 ...\n",
      "Epoch: 20, batch: 20, loss: 113.19038719177246\n",
      "Starting Epoch  21 ...\n",
      "Epoch: 21, batch: 11, loss: 112.36955043792724\n",
      "Starting Epoch  22 ...\n",
      "Epoch: 22, batch: 2, loss: 111.63298934936523\n",
      "Epoch: 22, batch: 52, loss: 111.45303176879882\n",
      "Starting Epoch  23 ...\n",
      "Epoch: 23, batch: 43, loss: 110.79374305725098\n",
      "Starting Epoch  24 ...\n",
      "Epoch: 24, batch: 34, loss: 109.73137479782105\n"
     ]
    }
   ],
   "source": [
    "model, losses = train()"
   ]
  },
  {
   "cell_type": "code",
   "execution_count": 8,
   "metadata": {},
   "outputs": [],
   "source": [
    "def plot_images(model, idx):\n",
    "    with torch.no_grad():\n",
    "        model.eval()\n",
    "        img,label = test_loader.dataset[idx]\n",
    "        img = img.unsqueeze(0).cuda()\n",
    "        img /= 255.0\n",
    "        out = model.reconstruct_img(img)\n",
    "        print(out.size())\n",
    "        out = out[0].detach().cpu().view(1, 28, 28).permute(1, 2, 0)\n",
    "        fig, (ax1, ax2) = plt.subplots(1, 2)\n",
    "        ax1.imshow(img.squeeze(0).permute(1, 2, 0).detach().cpu())\n",
    "        ax2.imshow(out)\n",
    "        fig.suptitle(label.item())"
   ]
  },
  {
   "cell_type": "code",
   "execution_count": 10,
   "metadata": {},
   "outputs": [
    {
     "name": "stdout",
     "output_type": "stream",
     "text": [
      "torch.Size([1, 50]) torch.Size([1, 50])\n",
      "torch.Size([1, 784])\n"
     ]
    },
    {
     "data": {
      "image/png": "[encoded data removed]",
      "text/plain": [
       "<Figure size 800x550 with 2 Axes>"
      ]
     },
     "metadata": {},
     "output_type": "display_data"
    }
   ],
   "source": [
    "plot_images(model, 0)"
   ]
  },
  {
   "cell_type": "code",
   "execution_count": 11,
   "metadata": {},
   "outputs": [
    {
     "name": "stdout",
     "output_type": "stream",
     "text": [
      "torch.Size([1, 50]) torch.Size([1, 50])\n",
      "torch.Size([1, 784])\n"
     ]
    },
    {
     "data": {
      "image/png": "[encoded data removed]",
      "text/plain": [
       "<Figure size 800x550 with 2 Axes>"
      ]
     },
     "metadata": {},
     "output_type": "display_data"
    }
   ],
   "source": [
    "plot_images(model, 100)"
   ]
  },
  {
   "cell_type": "code",
   "execution_count": null,
   "metadata": {},
   "outputs": [],
   "source": []
  }
 ],
 "metadata": {
  "kernelspec": {
   "display_name": "env_nlp",
   "language": "python",
   "name": "python3"
  },
  "language_info": {
   "codemirror_mode": {
    "name": "ipython",
    "version": 3
   },
   "file_extension": ".py",
   "mimetype": "text/x-python",
   "name": "python",
   "nbconvert_exporter": "python",
   "pygments_lexer": "ipython3",
   "version": "3.9.2"
  },
  "orig_nbformat": 4
 },
 "nbformat": 4,
 "nbformat_minor": 2
}
