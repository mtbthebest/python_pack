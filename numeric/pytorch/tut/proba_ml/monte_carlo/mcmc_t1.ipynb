{
 "cells": [
  {
   "cell_type": "code",
   "execution_count": 33,
   "metadata": {},
   "outputs": [
    {
     "name": "stdout",
     "output_type": "stream",
     "text": [
      "The autoreload extension is already loaded. To reload it, use:\n",
      "  %reload_ext autoreload\n"
     ]
    }
   ],
   "source": [
    "%load_ext autoreload \n",
    "%autoreload 2\n",
    "\n",
    "import matplotlib as mpl\n",
    "import matplotlib.pyplot as plt\n",
    "import seaborn as sns\n",
    "import torch\n",
    "import pyro\n",
    "import pyro.distributions as dist\n",
    "from pyro import infer, poutine\n",
    "from pyro.infer import HMC, MCMC, NUTS\n",
    "plt.style.use(\"seaborn-v0_8\")"
   ]
  },
  {
   "cell_type": "code",
   "execution_count": 34,
   "metadata": {},
   "outputs": [
    {
     "data": {
      "text/plain": [
       "[<matplotlib.lines.Line2D at 0x7f43c6aec3d0>]"
      ]
     },
     "execution_count": 34,
     "metadata": {},
     "output_type": "execute_result"
    },
    {
     "data": {
      "image/png": "[encoded data removed]",
      "text/plain": [
       "<Figure size 800x550 with 1 Axes>"
      ]
     },
     "metadata": {},
     "output_type": "display_data"
    }
   ],
   "source": [
    "pyro.clear_param_store()\n",
    "pyro.set_rng_seed(0)\n",
    "N = 25\n",
    "μ =  torch.tensor(2.7)\n",
    "𝝈 =  torch.tensor(0.956)\n",
    "y = dist.Normal(μ, 𝝈).sample((N, ))\n",
    "z = (dist.Normal(μ, 𝝈).log_prob(y).exp())\n",
    "plt.plot(y.sort().values, z.take(y.argsort()))"
   ]
  },
  {
   "cell_type": "code",
   "execution_count": 35,
   "metadata": {},
   "outputs": [],
   "source": [
    "def model(data):\n",
    "    mu = pyro.sample(\"mu\", dist.Normal(-60, 10))\n",
    "    sigma = pyro.sample(\"sigma\", dist.LogNormal(0, 2))\n",
    "    with pyro.plate(\"data\", N):\n",
    "        obs = pyro.sample(\"obs\", dist.Normal(mu, sigma), obs=data)\n",
    "    return obs"
   ]
  },
  {
   "cell_type": "code",
   "execution_count": 36,
   "metadata": {},
   "outputs": [
    {
     "name": "stdout",
     "output_type": "stream",
     "text": [
      "running mcmc\n"
     ]
    },
    {
     "name": "stderr",
     "output_type": "stream",
     "text": [
      "Warmup:   0%|          | 0/30 [00:00, ?it/s]"
     ]
    },
    {
     "name": "stderr",
     "output_type": "stream",
     "text": [
      "Warmup:   3%|▎         | 1/30 [00:00,  1.51it/s, step size=2.25e-01, acc. prob=1.000]"
     ]
    },
    {
     "name": "stdout",
     "output_type": "stream",
     "text": [
      "kernel params  {'mu': tensor(-0.4587), 'sigma': tensor(-1.5960)} Warmup\n",
      "kernel params  {'mu': tensor(-0.4587), 'sigma': tensor(-1.5960)} Warmup\n"
     ]
    },
    {
     "name": "stderr",
     "output_type": "stream",
     "text": [
      "Warmup:  10%|█         | 3/30 [00:00,  3.57it/s, step size=3.75e-03, acc. prob=0.333]"
     ]
    },
    {
     "name": "stdout",
     "output_type": "stream",
     "text": [
      "kernel params  {'mu': tensor(-0.4587), 'sigma': tensor(-1.5960)} Warmup\n"
     ]
    },
    {
     "name": "stderr",
     "output_type": "stream",
     "text": [
      "Warmup:  13%|█▎        | 4/30 [00:03,  1.03s/it, step size=5.07e-03, acc. prob=0.500]"
     ]
    },
    {
     "name": "stdout",
     "output_type": "stream",
     "text": [
      "kernel params  {'mu': tensor(-0.4587), 'sigma': tensor(-1.5960)} Warmup\n"
     ]
    },
    {
     "name": "stderr",
     "output_type": "stream",
     "text": [
      "Warmup:  17%|█▋        | 5/30 [00:05,  1.30s/it, step size=7.93e-03, acc. prob=0.600]"
     ]
    },
    {
     "name": "stdout",
     "output_type": "stream",
     "text": [
      "kernel params  {'mu': tensor(-0.4587), 'sigma': tensor(-1.5960)} Warmup\n"
     ]
    },
    {
     "name": "stderr",
     "output_type": "stream",
     "text": [
      "Warmup:  20%|██        | 6/30 [00:06,  1.25s/it, step size=1.35e-02, acc. prob=0.667]"
     ]
    },
    {
     "name": "stdout",
     "output_type": "stream",
     "text": [
      "kernel params  {'mu': tensor(-0.4587), 'sigma': tensor(-1.5960)} Warmup\n"
     ]
    },
    {
     "name": "stderr",
     "output_type": "stream",
     "text": [
      "Warmup:  23%|██▎       | 7/30 [00:07,  1.07s/it, step size=2.41e-02, acc. prob=0.714]"
     ]
    },
    {
     "name": "stdout",
     "output_type": "stream",
     "text": [
      "kernel params  {'mu': tensor(-0.4587), 'sigma': tensor(-1.5960)} Warmup\n"
     ]
    },
    {
     "name": "stderr",
     "output_type": "stream",
     "text": [
      "Warmup:  27%|██▋       | 8/30 [00:07,  1.17it/s, step size=4.45e-02, acc. prob=0.750]"
     ]
    },
    {
     "name": "stdout",
     "output_type": "stream",
     "text": [
      "kernel params  {'mu': tensor(-0.4587), 'sigma': tensor(-1.5960)} Warmup\n"
     ]
    },
    {
     "name": "stderr",
     "output_type": "stream",
     "text": [
      "Warmup:  30%|███       | 9/30 [00:07,  1.52it/s, step size=2.37e-02, acc. prob=0.778]"
     ]
    },
    {
     "name": "stdout",
     "output_type": "stream",
     "text": [
      "kernel params  {'mu': tensor(-0.4587), 'sigma': tensor(-1.5960)} Warmup\n"
     ]
    },
    {
     "name": "stderr",
     "output_type": "stream",
     "text": [
      "Warmup:  33%|███▎      | 10/30 [00:08,  1.75it/s, step size=2.37e-02, acc. prob=0.800]"
     ]
    },
    {
     "name": "stdout",
     "output_type": "stream",
     "text": [
      "kernel params  {'mu': tensor(-0.4587), 'sigma': tensor(-1.5960)} Warmup\n"
     ]
    },
    {
     "name": "stderr",
     "output_type": "stream",
     "text": [
      "Warmup:  37%|███▋      | 11/30 [00:08,  1.94it/s, step size=2.37e-02, acc. prob=1.000]"
     ]
    },
    {
     "name": "stdout",
     "output_type": "stream",
     "text": [
      "kernel params  {'mu': tensor(-0.4587), 'sigma': tensor(-1.5960)} Sample\n"
     ]
    },
    {
     "name": "stderr",
     "output_type": "stream",
     "text": [
      "Sample:  40%|████      | 12/30 [00:08,  2.10it/s, step size=2.37e-02, acc. prob=1.000]"
     ]
    },
    {
     "name": "stdout",
     "output_type": "stream",
     "text": [
      "kernel params  {'mu': tensor(-0.4587), 'sigma': tensor(-1.5960)} Sample\n"
     ]
    },
    {
     "name": "stderr",
     "output_type": "stream",
     "text": [
      "Sample:  43%|████▎     | 13/30 [00:09,  2.22it/s, step size=2.37e-02, acc. prob=0.999]"
     ]
    },
    {
     "name": "stdout",
     "output_type": "stream",
     "text": [
      "kernel params  {'mu': tensor(-0.4587), 'sigma': tensor(-1.5960)} Sample\n"
     ]
    },
    {
     "name": "stderr",
     "output_type": "stream",
     "text": [
      "Sample:  47%|████▋     | 14/30 [00:09,  2.31it/s, step size=2.37e-02, acc. prob=0.999]"
     ]
    },
    {
     "name": "stdout",
     "output_type": "stream",
     "text": [
      "kernel params  {'mu': tensor(-0.4587), 'sigma': tensor(-1.5960)} Sample\n"
     ]
    },
    {
     "name": "stderr",
     "output_type": "stream",
     "text": [
      "Sample:  50%|█████     | 15/30 [00:09,  2.38it/s, step size=2.37e-02, acc. prob=1.000]"
     ]
    },
    {
     "name": "stdout",
     "output_type": "stream",
     "text": [
      "kernel params  {'mu': tensor(-0.4587), 'sigma': tensor(-1.5960)} Sample\n"
     ]
    },
    {
     "name": "stderr",
     "output_type": "stream",
     "text": [
      "Sample:  53%|█████▎    | 16/30 [00:10,  2.45it/s, step size=2.37e-02, acc. prob=0.990]"
     ]
    },
    {
     "name": "stdout",
     "output_type": "stream",
     "text": [
      "kernel params  {'mu': tensor(-0.4587), 'sigma': tensor(-1.5960)} Sample\n"
     ]
    },
    {
     "name": "stderr",
     "output_type": "stream",
     "text": [
      "Sample:  57%|█████▋    | 17/30 [00:10,  2.49it/s, step size=2.37e-02, acc. prob=0.991]"
     ]
    },
    {
     "name": "stdout",
     "output_type": "stream",
     "text": [
      "kernel params  {'mu': tensor(-0.4587), 'sigma': tensor(-1.5960)} Sample\n"
     ]
    },
    {
     "name": "stderr",
     "output_type": "stream",
     "text": [
      "Sample:  60%|██████    | 18/30 [00:11,  2.52it/s, step size=2.37e-02, acc. prob=0.992]"
     ]
    },
    {
     "name": "stdout",
     "output_type": "stream",
     "text": [
      "kernel params  {'mu': tensor(-0.4587), 'sigma': tensor(-1.5960)} Sample\n"
     ]
    },
    {
     "name": "stderr",
     "output_type": "stream",
     "text": [
      "Sample:  63%|██████▎   | 19/30 [00:11,  2.55it/s, step size=2.37e-02, acc. prob=0.993]"
     ]
    },
    {
     "name": "stdout",
     "output_type": "stream",
     "text": [
      "kernel params  {'mu': tensor(-0.4587), 'sigma': tensor(-1.5960)} Sample\n"
     ]
    },
    {
     "name": "stderr",
     "output_type": "stream",
     "text": [
      "Sample:  67%|██████▋   | 20/30 [00:11,  2.54it/s, step size=2.37e-02, acc. prob=0.994]"
     ]
    },
    {
     "name": "stdout",
     "output_type": "stream",
     "text": [
      "kernel params  {'mu': tensor(-0.4587), 'sigma': tensor(-1.5960)} Sample\n"
     ]
    },
    {
     "name": "stderr",
     "output_type": "stream",
     "text": [
      "Sample:  70%|███████   | 21/30 [00:12,  2.55it/s, step size=2.37e-02, acc. prob=0.994]"
     ]
    },
    {
     "name": "stdout",
     "output_type": "stream",
     "text": [
      "kernel params  {'mu': tensor(-0.4587), 'sigma': tensor(-1.5960)} Sample\n"
     ]
    },
    {
     "name": "stderr",
     "output_type": "stream",
     "text": [
      "Sample:  73%|███████▎  | 22/30 [00:12,  2.57it/s, step size=2.37e-02, acc. prob=0.995]"
     ]
    },
    {
     "name": "stdout",
     "output_type": "stream",
     "text": [
      "kernel params  {'mu': tensor(-0.4587), 'sigma': tensor(-1.5960)} Sample\n"
     ]
    },
    {
     "name": "stderr",
     "output_type": "stream",
     "text": [
      "Sample:  77%|███████▋  | 23/30 [00:13,  2.57it/s, step size=2.37e-02, acc. prob=0.995]"
     ]
    },
    {
     "name": "stdout",
     "output_type": "stream",
     "text": [
      "kernel params  {'mu': tensor(-0.4587), 'sigma': tensor(-1.5960)} Sample\n"
     ]
    },
    {
     "name": "stderr",
     "output_type": "stream",
     "text": [
      "Sample:  80%|████████  | 24/30 [00:13,  2.58it/s, step size=2.37e-02, acc. prob=0.995]"
     ]
    },
    {
     "name": "stdout",
     "output_type": "stream",
     "text": [
      "kernel params  {'mu': tensor(-0.4587), 'sigma': tensor(-1.5960)} Sample\n"
     ]
    },
    {
     "name": "stderr",
     "output_type": "stream",
     "text": [
      "Sample:  83%|████████▎ | 25/30 [00:13,  2.59it/s, step size=2.37e-02, acc. prob=0.995]"
     ]
    },
    {
     "name": "stdout",
     "output_type": "stream",
     "text": [
      "kernel params  {'mu': tensor(-0.4587), 'sigma': tensor(-1.5960)} Sample\n"
     ]
    },
    {
     "name": "stderr",
     "output_type": "stream",
     "text": [
      "Sample:  87%|████████▋ | 26/30 [00:14,  2.59it/s, step size=2.37e-02, acc. prob=0.996]"
     ]
    },
    {
     "name": "stdout",
     "output_type": "stream",
     "text": [
      "kernel params  {'mu': tensor(-0.4587), 'sigma': tensor(-1.5960)} Sample\n"
     ]
    },
    {
     "name": "stderr",
     "output_type": "stream",
     "text": [
      "Sample:  90%|█████████ | 27/30 [00:14,  2.60it/s, step size=2.37e-02, acc. prob=0.996]"
     ]
    },
    {
     "name": "stdout",
     "output_type": "stream",
     "text": [
      "kernel params  {'mu': tensor(-0.4587), 'sigma': tensor(-1.5960)} Sample\n"
     ]
    },
    {
     "name": "stderr",
     "output_type": "stream",
     "text": [
      "Sample:  93%|█████████▎| 28/30 [00:15,  2.58it/s, step size=2.37e-02, acc. prob=0.996]"
     ]
    },
    {
     "name": "stdout",
     "output_type": "stream",
     "text": [
      "kernel params  {'mu': tensor(-0.4587), 'sigma': tensor(-1.5960)} Sample\n"
     ]
    },
    {
     "name": "stderr",
     "output_type": "stream",
     "text": [
      "Sample:  97%|█████████▋| 29/30 [00:15,  2.61it/s, step size=2.37e-02, acc. prob=0.996]"
     ]
    },
    {
     "name": "stdout",
     "output_type": "stream",
     "text": [
      "kernel params  {'mu': tensor(-0.4587), 'sigma': tensor(-1.5960)} Sample\n"
     ]
    },
    {
     "name": "stderr",
     "output_type": "stream",
     "text": [
      "Sample: 100%|██████████| 30/30 [00:15,  1.90it/s, step size=2.37e-02, acc. prob=0.997]"
     ]
    },
    {
     "name": "stdout",
     "output_type": "stream",
     "text": [
      "kernel params  {'mu': tensor(-0.4587), 'sigma': tensor(-1.5960)} Sample\n"
     ]
    },
    {
     "name": "stderr",
     "output_type": "stream",
     "text": [
      "\n"
     ]
    }
   ],
   "source": [
    "pyro.clear_param_store()\n",
    "pyro.set_rng_seed(12560)\n",
    "hmc_kernel = HMC(model, step_size=1, num_steps=10)\n",
    "def hook_mcmc(kernel:HMC, samples, stage, i):\n",
    "    print(\"kernel params \", kernel._initial_params, stage)\n",
    "    \n",
    "mcmc = MCMC(kernel=hmc_kernel, num_samples=20, warmup_steps=10,\n",
    "            hook_fn=hook_mcmc\n",
    "            )\n",
    "print(\"running mcmc\")\n",
    "mcmc.run(y)"
   ]
  },
  {
   "cell_type": "code",
   "execution_count": 37,
   "metadata": {},
   "outputs": [
    {
     "data": {
      "text/plain": [
       "{'mu': tensor([13.9724,  6.4049,  0.5061,  0.9401,  1.0479,  3.2247,  2.8633,  2.9290,\n",
       "          3.0050,  2.7520,  2.6046,  2.9821,  2.9425,  2.5816,  2.7564,  2.5075,\n",
       "          2.5162,  2.8366,  2.7638,  2.6294]),\n",
       " 'sigma': tensor([161.7101,   4.7666,   2.5700,   2.8469,   1.9602,   0.6741,   1.1793,\n",
       "           1.1456,   0.9810,   1.1077,   1.1570,   1.0095,   1.1479,   1.1936,\n",
       "           1.1872,   1.1498,   1.1686,   1.1099,   0.9949,   0.9834])}"
      ]
     },
     "execution_count": 37,
     "metadata": {},
     "output_type": "execute_result"
    }
   ],
   "source": [
    "mcmc.get_samples()"
   ]
  },
  {
   "cell_type": "code",
   "execution_count": 38,
   "metadata": {},
   "outputs": [],
   "source": [
    "mcmc.kernel.initial_params"
   ]
  },
  {
   "cell_type": "code",
   "execution_count": 39,
   "metadata": {},
   "outputs": [
    {
     "data": {
      "text/plain": [
       "tensor(-3175.8696)"
      ]
     },
     "execution_count": 39,
     "metadata": {},
     "output_type": "execute_result"
    }
   ],
   "source": [
    "dist.Normal(-0.4587, .2027).log_prob(y).sum()"
   ]
  },
  {
   "cell_type": "code",
   "execution_count": 40,
   "metadata": {},
   "outputs": [
    {
     "data": {
      "text/plain": [
       "tensor(3.2383)"
      ]
     },
     "execution_count": 40,
     "metadata": {},
     "output_type": "execute_result"
    }
   ],
   "source": [
    "mcmc.get_samples()[\"mu\"].mean()"
   ]
  },
  {
   "cell_type": "code",
   "execution_count": 41,
   "metadata": {},
   "outputs": [
    {
     "data": {
      "text/plain": [
       "tensor(9.5022)"
      ]
     },
     "execution_count": 41,
     "metadata": {},
     "output_type": "execute_result"
    }
   ],
   "source": [
    "mcmc.get_samples()['sigma'].mean()"
   ]
  },
  {
   "cell_type": "code",
   "execution_count": 42,
   "metadata": {},
   "outputs": [
    {
     "data": {
      "text/plain": [
       "{('mu', 'sigma'): tensor([1., 1.])}"
      ]
     },
     "execution_count": 42,
     "metadata": {},
     "output_type": "execute_result"
    }
   ],
   "source": [
    "mcmc.kernel.inverse_mass_matrix"
   ]
  },
  {
   "cell_type": "code",
   "execution_count": 46,
   "metadata": {},
   "outputs": [
    {
     "name": "stdout",
     "output_type": "stream",
     "text": [
      "running mcmc\n"
     ]
    },
    {
     "name": "stderr",
     "output_type": "stream",
     "text": [
      "Warmup:   0%|          | 0/120 [00:00, ?it/s]"
     ]
    },
    {
     "name": "stderr",
     "output_type": "stream",
     "text": [
      "Sample: 100%|██████████| 120/120 [00:16,  7.12it/s, step size=3.95e-01, acc. prob=0.921]\n"
     ]
    }
   ],
   "source": [
    "pyro.clear_param_store()\n",
    "pyro.set_rng_seed(12560)\n",
    "hmc_kernel = HMC(model,)\n",
    "    \n",
    "mcmc = MCMC(kernel=hmc_kernel, num_samples=20, warmup_steps=100)\n",
    "print(\"running mcmc\")\n",
    "mcmc.run(y)"
   ]
  },
  {
   "cell_type": "code",
   "execution_count": 47,
   "metadata": {},
   "outputs": [
    {
     "data": {
      "text/plain": [
       "tensor(2.6052)"
      ]
     },
     "execution_count": 47,
     "metadata": {},
     "output_type": "execute_result"
    }
   ],
   "source": [
    "mcmc.get_samples()[\"mu\"].mean()"
   ]
  },
  {
   "cell_type": "code",
   "execution_count": 48,
   "metadata": {},
   "outputs": [
    {
     "data": {
      "text/plain": [
       "tensor(1.0284)"
      ]
     },
     "execution_count": 48,
     "metadata": {},
     "output_type": "execute_result"
    }
   ],
   "source": [
    "mcmc.get_samples()[\"sigma\"].mean()"
   ]
  },
  {
   "cell_type": "code",
   "execution_count": 52,
   "metadata": {},
   "outputs": [
    {
     "name": "stdout",
     "output_type": "stream",
     "text": [
      "running mcmc\n"
     ]
    },
    {
     "name": "stderr",
     "output_type": "stream",
     "text": [
      "Warmup:   0%|          | 0/1020 [00:00, ?it/s]"
     ]
    },
    {
     "name": "stderr",
     "output_type": "stream",
     "text": [
      "Sample: 100%|██████████| 1020/1020 [00:01, 562.87it/s, step size=9.97e-01, acc. prob=0.919]\n"
     ]
    }
   ],
   "source": [
    "pyro.clear_param_store()\n",
    "pyro.set_rng_seed(12560)\n",
    "hmc_kernel = HMC(model, step_size=0.1, num_steps=5)\n",
    "mcmc = MCMC(kernel=hmc_kernel, num_samples=20, warmup_steps=1000)\n",
    "print(\"running mcmc\")\n",
    "mcmc.run(y)"
   ]
  },
  {
   "cell_type": "code",
   "execution_count": 53,
   "metadata": {},
   "outputs": [
    {
     "data": {
      "text/plain": [
       "tensor(2.6008)"
      ]
     },
     "execution_count": 53,
     "metadata": {},
     "output_type": "execute_result"
    }
   ],
   "source": [
    "mcmc.get_samples()[\"mu\"].mean()"
   ]
  },
  {
   "cell_type": "code",
   "execution_count": 54,
   "metadata": {},
   "outputs": [
    {
     "data": {
      "text/plain": [
       "tensor(0.9805)"
      ]
     },
     "execution_count": 54,
     "metadata": {},
     "output_type": "execute_result"
    }
   ],
   "source": [
    "mcmc.get_samples()[\"sigma\"].mean()"
   ]
  },
  {
   "cell_type": "code",
   "execution_count": 55,
   "metadata": {},
   "outputs": [
    {
     "name": "stdout",
     "output_type": "stream",
     "text": [
      "\n",
      "                mean       std    median     25.0%     75.0%     n_eff     r_hat\n",
      "        mu      2.60      0.22      2.58      2.50      2.77      3.91      1.84\n",
      "     sigma      0.98      0.15      0.96      0.85      0.98      7.51      1.40\n",
      "\n",
      "Number of divergences: 0\n"
     ]
    }
   ],
   "source": [
    "mcmc.summary(prob=0.5)"
   ]
  },
  {
   "cell_type": "code",
   "execution_count": null,
   "metadata": {},
   "outputs": [],
   "source": []
  }
 ],
 "metadata": {
  "kernelspec": {
   "display_name": "env_nlp",
   "language": "python",
   "name": "python3"
  },
  "language_info": {
   "codemirror_mode": {
    "name": "ipython",
    "version": 3
   },
   "file_extension": ".py",
   "mimetype": "text/x-python",
   "name": "python",
   "nbconvert_exporter": "python",
   "pygments_lexer": "ipython3",
   "version": "3.9.2"
  }
 },
 "nbformat": 4,
 "nbformat_minor": 2
}
