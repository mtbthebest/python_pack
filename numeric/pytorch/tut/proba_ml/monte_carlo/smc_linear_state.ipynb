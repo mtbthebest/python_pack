{
 "cells": [
  {
   "cell_type": "code",
   "execution_count": 1,
   "metadata": {},
   "outputs": [
    {
     "name": "stderr",
     "output_type": "stream",
     "text": [
      "/env_nlp/lib/python3.9/site-packages/tqdm/auto.py:21: TqdmWarning: IProgress not found. Please update jupyter and ipywidgets. See https://ipywidgets.readthedocs.io/en/stable/user_install.html\n",
      "  from .autonotebook import tqdm as notebook_tqdm\n"
     ]
    }
   ],
   "source": [
    "%load_ext autoreload \n",
    "%autoreload 2\n",
    "\n",
    "import numpy as np\n",
    "import matplotlib as mpl\n",
    "import matplotlib.pyplot as plt\n",
    "import seaborn as sns\n",
    "import torch\n",
    "import pyro\n",
    "import pyro.distributions as dist\n",
    "from pyro import infer, poutine\n",
    "from pyro.infer import Importance, EmpiricalMarginal, SMCFilter\n",
    "plt.style.use(\"seaborn-v0_8\")"
   ]
  },
  {
   "cell_type": "code",
   "execution_count": 2,
   "metadata": {},
   "outputs": [],
   "source": [
    "class LinearStateModel:\n",
    "    def __init__(self):\n",
    "        self.A = torch.tensor([[1.0, 0], [0, -3.0]])\n",
    "        self.v = torch.tensor([1.0, 0.5])\n",
    "        self.e = torch.tensor([0.5, 0.5])\n",
    "    \n",
    "    def init(self, state, initial):\n",
    "        self.t = 0\n",
    "        state[\"z\"] = pyro.sample(f\"z_{self.t}\", dist.Delta(initial).to_event(1))\n",
    "                    \n",
    "    def step(self, state, y=None):\n",
    "        \n",
    "        self.t += 1\n",
    "        state[\"z\"] = pyro.sample(f\"z_{self.t}\", dist.Normal(state[\"z\"] @ self.A,\n",
    "                                                            self.v).to_event(1))\n",
    "        state[\"y\"] = pyro.sample(f\"y_{self.t}\", dist.Normal(state[\"z\"], \n",
    "                                                            self.e).to_event(1), obs=y)\n",
    "        return state[\"z\"], state[\"y\"], self.t\n",
    "    \n",
    "class LinearStateGuide:\n",
    "    \n",
    "    def __init__(self, model):\n",
    "        self.model = model\n",
    "    \n",
    "    def init(self, state, initial):\n",
    "        self.t = 0\n",
    "        pyro.sample(f\"z_{self.t}\", dist.Delta(initial).to_event(1))\n",
    "\n",
    "    def step(self, state, y=None):\n",
    "        self.t += 1\n",
    "        pyro.sample(\"z_{}\".format(self.t), dist.Normal(state[\"z\"] @ self.model.A, \n",
    "                                                       torch.tensor([1.0, 1.0])).to_event(1))\n",
    "        "
   ]
  },
  {
   "cell_type": "code",
   "execution_count": 3,
   "metadata": {},
   "outputs": [],
   "source": [
    "def generate_data(initial=torch.zeros(2), T=5):\n",
    "    model = LinearStateModel()\n",
    "    state = {}\n",
    "    model.init(state, initial)\n",
    "    z, y = [state[\"z\"]], []\n",
    "    for t in range(1, T+1):\n",
    "        model.step(state)\n",
    "        z.append(state[f\"z\"])\n",
    "        y.append(state[f\"y\"])\n",
    "    \n",
    "    return torch.stack(z), torch.stack(y)"
   ]
  },
  {
   "cell_type": "code",
   "execution_count": 4,
   "metadata": {},
   "outputs": [],
   "source": [
    "data_z, data_y = generate_data(T=10)"
   ]
  },
  {
   "cell_type": "code",
   "execution_count": 5,
   "metadata": {},
   "outputs": [
    {
     "data": {
      "text/plain": [
       "tensor([[ 4.0913e-01, -7.8016e-01],\n",
       "        [ 1.7357e+00,  3.6217e+00],\n",
       "        [ 1.3733e+00, -9.8746e+00],\n",
       "        [ 2.3304e+00,  2.8083e+01],\n",
       "        [ 2.0464e+00, -8.6037e+01],\n",
       "        [ 2.5511e+00,  2.5644e+02],\n",
       "        [ 1.5577e+00, -7.6864e+02],\n",
       "        [ 1.0704e+00,  2.3060e+03],\n",
       "        [-2.0060e-01, -6.9192e+03],\n",
       "        [-1.6632e+00,  2.0758e+04]])"
      ]
     },
     "execution_count": 5,
     "metadata": {},
     "output_type": "execute_result"
    }
   ],
   "source": [
    "data_y"
   ]
  },
  {
   "cell_type": "code",
   "execution_count": 6,
   "metadata": {},
   "outputs": [
    {
     "data": {
      "text/plain": [
       "(tensor([ 0.4091,  1.7357,  1.3733,  2.3304,  2.0464,  2.5511,  1.5577,  1.0704,\n",
       "         -0.2006, -1.6632]),\n",
       " tensor([-7.8016e-01,  3.6217e+00, -9.8746e+00,  2.8083e+01, -8.6037e+01,\n",
       "          2.5644e+02, -7.6864e+02,  2.3060e+03, -6.9192e+03,  2.0758e+04]))"
      ]
     },
     "execution_count": 6,
     "metadata": {},
     "output_type": "execute_result"
    }
   ],
   "source": [
    "data_y.unbind(1)"
   ]
  },
  {
   "cell_type": "code",
   "execution_count": 7,
   "metadata": {},
   "outputs": [
    {
     "data": {
      "text/plain": [
       "[<matplotlib.lines.Line2D at 0x7f9d7d1b9c10>]"
      ]
     },
     "execution_count": 7,
     "metadata": {},
     "output_type": "execute_result"
    },
    {
     "data": {
      "image/png": "[encoded data removed]",
      "text/plain": [
       "<Figure size 800x550 with 1 Axes>"
      ]
     },
     "metadata": {},
     "output_type": "display_data"
    }
   ],
   "source": [
    "plt.plot(*data_y.unbind(1), \"o\")"
   ]
  },
  {
   "cell_type": "code",
   "execution_count": 8,
   "metadata": {},
   "outputs": [
    {
     "data": {
      "text/plain": [
       "tensor([[ 4.0913e-01, -7.8016e-01],\n",
       "        [ 1.7357e+00,  3.6217e+00],\n",
       "        [ 1.3733e+00, -9.8746e+00],\n",
       "        [ 2.3304e+00,  2.8083e+01],\n",
       "        [ 2.0464e+00, -8.6037e+01],\n",
       "        [ 2.5511e+00,  2.5644e+02],\n",
       "        [ 1.5577e+00, -7.6864e+02],\n",
       "        [ 1.0704e+00,  2.3060e+03],\n",
       "        [-2.0060e-01, -6.9192e+03],\n",
       "        [-1.6632e+00,  2.0758e+04]])"
      ]
     },
     "execution_count": 8,
     "metadata": {},
     "output_type": "execute_result"
    }
   ],
   "source": [
    "data_y"
   ]
  },
  {
   "cell_type": "code",
   "execution_count": 9,
   "metadata": {},
   "outputs": [],
   "source": [
    "pyro.clear_param_store()\n",
    "pyro.set_rng_seed(100)\n",
    "model = LinearStateModel()\n",
    "guide = LinearStateGuide(model)\n",
    "smc = SMCFilter(model=model, guide=guide, num_particles=200, max_plate_nesting=0)\n",
    "smc.init(initial=torch.tensor([1.0, 0.0]))\n",
    "for y in data_y:\n",
    "   smc.step(y.expand(200, -1))"
   ]
  },
  {
   "cell_type": "code",
   "execution_count": 11,
   "metadata": {},
   "outputs": [],
   "source": [
    "emp = smc.get_empirical()[\"y\"]"
   ]
  },
  {
   "cell_type": "code",
   "execution_count": 14,
   "metadata": {},
   "outputs": [
    {
     "data": {
      "text/plain": [
       "torch.Size([200, 2])"
      ]
     },
     "execution_count": 14,
     "metadata": {},
     "output_type": "execute_result"
    }
   ],
   "source": [
    "emp._samples.size()"
   ]
  },
  {
   "cell_type": "code",
   "execution_count": 15,
   "metadata": {},
   "outputs": [
    {
     "data": {
      "text/plain": [
       "tensor(10378.3252)"
      ]
     },
     "execution_count": 15,
     "metadata": {},
     "output_type": "execute_result"
    }
   ],
   "source": [
    "emp._samples.mean()"
   ]
  },
  {
   "cell_type": "code",
   "execution_count": null,
   "metadata": {},
   "outputs": [],
   "source": []
  },
  {
   "cell_type": "code",
   "execution_count": null,
   "metadata": {},
   "outputs": [],
   "source": []
  },
  {
   "cell_type": "code",
   "execution_count": null,
   "metadata": {},
   "outputs": [],
   "source": []
  },
  {
   "cell_type": "code",
   "execution_count": null,
   "metadata": {},
   "outputs": [],
   "source": []
  },
  {
   "cell_type": "code",
   "execution_count": null,
   "metadata": {},
   "outputs": [],
   "source": []
  },
  {
   "cell_type": "code",
   "execution_count": null,
   "metadata": {},
   "outputs": [],
   "source": []
  },
  {
   "cell_type": "code",
   "execution_count": null,
   "metadata": {},
   "outputs": [],
   "source": []
  },
  {
   "cell_type": "code",
   "execution_count": null,
   "metadata": {},
   "outputs": [],
   "source": []
  },
  {
   "cell_type": "code",
   "execution_count": null,
   "metadata": {},
   "outputs": [],
   "source": []
  },
  {
   "cell_type": "code",
   "execution_count": null,
   "metadata": {},
   "outputs": [],
   "source": []
  }
 ],
 "metadata": {
  "kernelspec": {
   "display_name": "env_nlp",
   "language": "python",
   "name": "python3"
  },
  "language_info": {
   "codemirror_mode": {
    "name": "ipython",
    "version": 3
   },
   "file_extension": ".py",
   "mimetype": "text/x-python",
   "name": "python",
   "nbconvert_exporter": "python",
   "pygments_lexer": "ipython3",
   "version": "3.9.2"
  }
 },
 "nbformat": 4,
 "nbformat_minor": 2
}
