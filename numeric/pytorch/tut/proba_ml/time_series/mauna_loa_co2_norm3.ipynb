{
 "cells": [
  {
   "cell_type": "code",
   "execution_count": 1,
   "metadata": {},
   "outputs": [
    {
     "name": "stderr",
     "output_type": "stream",
     "text": [
      "/env_nlp/lib/python3.9/site-packages/tqdm/auto.py:21: TqdmWarning: IProgress not found. Please update jupyter and ipywidgets. See https://ipywidgets.readthedocs.io/en/stable/user_install.html\n",
      "  from .autonotebook import tqdm as notebook_tqdm\n"
     ]
    }
   ],
   "source": [
    "%load_ext autoreload\n",
    "%autoreload 2\n",
    "\n",
    "import numpy as np\n",
    "import pandas as pd\n",
    "import matplotlib as mpl\n",
    "import matplotlib.pyplot as plt\n",
    "import seaborn as sns\n",
    "import torch\n",
    "import pyro\n",
    "import pyro.distributions as dist\n",
    "from pyro import infer, poutine\n",
    "from pyro.infer.autoguide import AutoNormal\n",
    "from pyro.nn.module import PyroParam, PyroModule, PyroSample\n",
    "from pyro.contrib.gp import Parameterized\n",
    "plt.style.use(\"seaborn-v0_8\")"
   ]
  },
  {
   "cell_type": "code",
   "execution_count": 2,
   "metadata": {},
   "outputs": [],
   "source": [
    "co2_df = pd.read_csv(\"/mnt/dl/machine_learning_dataset/atmospheric_co2_mauna_loa/monthly_in_situ_co2_mlo.csv\",\n",
    "                     skiprows=57)"
   ]
  },
  {
   "cell_type": "code",
   "execution_count": 3,
   "metadata": {},
   "outputs": [
    {
     "data": {
      "text/html": [
       "<div>\n",
       "<style scoped>\n",
       "    .dataframe tbody tr th:only-of-type {\n",
       "        vertical-align: middle;\n",
       "    }\n",
       "\n",
       "    .dataframe tbody tr th {\n",
       "        vertical-align: top;\n",
       "    }\n",
       "\n",
       "    .dataframe thead th {\n",
       "        text-align: right;\n",
       "    }\n",
       "</style>\n",
       "<table border=\"1\" class=\"dataframe\">\n",
       "  <thead>\n",
       "    <tr style=\"text-align: right;\">\n",
       "      <th></th>\n",
       "      <th>Yr</th>\n",
       "      <th>Mn</th>\n",
       "      <th>Date</th>\n",
       "      <th>Date</th>\n",
       "      <th>CO2</th>\n",
       "      <th>seasonally</th>\n",
       "      <th>fit</th>\n",
       "      <th>seasonally</th>\n",
       "      <th>CO2</th>\n",
       "      <th>seasonally</th>\n",
       "      <th>Sta</th>\n",
       "    </tr>\n",
       "  </thead>\n",
       "  <tbody>\n",
       "    <tr>\n",
       "      <th>0</th>\n",
       "      <td></td>\n",
       "      <td></td>\n",
       "      <td></td>\n",
       "      <td></td>\n",
       "      <td></td>\n",
       "      <td>adjusted</td>\n",
       "      <td></td>\n",
       "      <td>adjusted fit</td>\n",
       "      <td>filled</td>\n",
       "      <td>adjusted filled</td>\n",
       "      <td>NaN</td>\n",
       "    </tr>\n",
       "    <tr>\n",
       "      <th>1</th>\n",
       "      <td></td>\n",
       "      <td></td>\n",
       "      <td>Excel</td>\n",
       "      <td></td>\n",
       "      <td>[ppm]</td>\n",
       "      <td>[ppm]</td>\n",
       "      <td>[ppm]</td>\n",
       "      <td>[ppm]</td>\n",
       "      <td>[ppm]</td>\n",
       "      <td>[ppm]</td>\n",
       "      <td>NaN</td>\n",
       "    </tr>\n",
       "    <tr>\n",
       "      <th>2</th>\n",
       "      <td>1958</td>\n",
       "      <td>01</td>\n",
       "      <td>21200</td>\n",
       "      <td>1958.0411</td>\n",
       "      <td>-99.99</td>\n",
       "      <td>-99.99</td>\n",
       "      <td>-99.99</td>\n",
       "      <td>-99.99</td>\n",
       "      <td>-99.99</td>\n",
       "      <td>-99.99</td>\n",
       "      <td>MLO</td>\n",
       "    </tr>\n",
       "    <tr>\n",
       "      <th>3</th>\n",
       "      <td>1958</td>\n",
       "      <td>02</td>\n",
       "      <td>21231</td>\n",
       "      <td>1958.1260</td>\n",
       "      <td>-99.99</td>\n",
       "      <td>-99.99</td>\n",
       "      <td>-99.99</td>\n",
       "      <td>-99.99</td>\n",
       "      <td>-99.99</td>\n",
       "      <td>-99.99</td>\n",
       "      <td>MLO</td>\n",
       "    </tr>\n",
       "    <tr>\n",
       "      <th>4</th>\n",
       "      <td>1958</td>\n",
       "      <td>03</td>\n",
       "      <td>21259</td>\n",
       "      <td>1958.2027</td>\n",
       "      <td>315.71</td>\n",
       "      <td>314.44</td>\n",
       "      <td>316.19</td>\n",
       "      <td>314.91</td>\n",
       "      <td>315.71</td>\n",
       "      <td>314.44</td>\n",
       "      <td>MLO</td>\n",
       "    </tr>\n",
       "    <tr>\n",
       "      <th>...</th>\n",
       "      <td>...</td>\n",
       "      <td>...</td>\n",
       "      <td>...</td>\n",
       "      <td>...</td>\n",
       "      <td>...</td>\n",
       "      <td>...</td>\n",
       "      <td>...</td>\n",
       "      <td>...</td>\n",
       "      <td>...</td>\n",
       "      <td>...</td>\n",
       "      <td>...</td>\n",
       "    </tr>\n",
       "    <tr>\n",
       "      <th>789</th>\n",
       "      <td>2023</td>\n",
       "      <td>08</td>\n",
       "      <td>45153</td>\n",
       "      <td>2023.6219</td>\n",
       "      <td>419.56</td>\n",
       "      <td>421.11</td>\n",
       "      <td>419.58</td>\n",
       "      <td>421.18</td>\n",
       "      <td>419.56</td>\n",
       "      <td>421.11</td>\n",
       "      <td>MLO</td>\n",
       "    </tr>\n",
       "    <tr>\n",
       "      <th>790</th>\n",
       "      <td>2023</td>\n",
       "      <td>09</td>\n",
       "      <td>45184</td>\n",
       "      <td>2023.7068</td>\n",
       "      <td>418.07</td>\n",
       "      <td>421.57</td>\n",
       "      <td>417.96</td>\n",
       "      <td>421.48</td>\n",
       "      <td>418.07</td>\n",
       "      <td>421.57</td>\n",
       "      <td>MLO</td>\n",
       "    </tr>\n",
       "    <tr>\n",
       "      <th>791</th>\n",
       "      <td>2023</td>\n",
       "      <td>10</td>\n",
       "      <td>45214</td>\n",
       "      <td>2023.7890</td>\n",
       "      <td>-99.99</td>\n",
       "      <td>-99.99</td>\n",
       "      <td>-99.99</td>\n",
       "      <td>-99.99</td>\n",
       "      <td>-99.99</td>\n",
       "      <td>-99.99</td>\n",
       "      <td>MLO</td>\n",
       "    </tr>\n",
       "    <tr>\n",
       "      <th>792</th>\n",
       "      <td>2023</td>\n",
       "      <td>11</td>\n",
       "      <td>45245</td>\n",
       "      <td>2023.8740</td>\n",
       "      <td>-99.99</td>\n",
       "      <td>-99.99</td>\n",
       "      <td>-99.99</td>\n",
       "      <td>-99.99</td>\n",
       "      <td>-99.99</td>\n",
       "      <td>-99.99</td>\n",
       "      <td>MLO</td>\n",
       "    </tr>\n",
       "    <tr>\n",
       "      <th>793</th>\n",
       "      <td>2023</td>\n",
       "      <td>12</td>\n",
       "      <td>45275</td>\n",
       "      <td>2023.9562</td>\n",
       "      <td>-99.99</td>\n",
       "      <td>-99.99</td>\n",
       "      <td>-99.99</td>\n",
       "      <td>-99.99</td>\n",
       "      <td>-99.99</td>\n",
       "      <td>-99.99</td>\n",
       "      <td>MLO</td>\n",
       "    </tr>\n",
       "  </tbody>\n",
       "</table>\n",
       "<p>794 rows × 11 columns</p>\n",
       "</div>"
      ],
      "text/plain": [
       "       Yr   Mn      Date         Date       CO2  seasonally          fit   \n",
       "0                                                  adjusted               \\\n",
       "1                  Excel                  [ppm]      [ppm]         [ppm]   \n",
       "2    1958   01     21200    1958.0411    -99.99      -99.99       -99.99   \n",
       "3    1958   02     21231    1958.1260    -99.99      -99.99       -99.99   \n",
       "4    1958   03     21259    1958.2027    315.71      314.44       316.19   \n",
       "..    ...  ...       ...          ...       ...         ...          ...   \n",
       "789  2023   08     45153    2023.6219    419.56      421.11       419.58   \n",
       "790  2023   09     45184    2023.7068    418.07      421.57       417.96   \n",
       "791  2023   10     45214    2023.7890    -99.99      -99.99       -99.99   \n",
       "792  2023   11     45245    2023.8740    -99.99      -99.99       -99.99   \n",
       "793  2023   12     45275    2023.9562    -99.99      -99.99       -99.99   \n",
       "\n",
       "       seasonally           CO2       seasonally   Sta  \n",
       "0    adjusted fit        filled  adjusted filled   NaN  \n",
       "1           [ppm]         [ppm]            [ppm]   NaN  \n",
       "2          -99.99        -99.99           -99.99   MLO  \n",
       "3          -99.99        -99.99           -99.99   MLO  \n",
       "4          314.91        315.71           314.44   MLO  \n",
       "..            ...           ...              ...   ...  \n",
       "789        421.18        419.56           421.11   MLO  \n",
       "790        421.48        418.07           421.57   MLO  \n",
       "791        -99.99        -99.99           -99.99   MLO  \n",
       "792        -99.99        -99.99           -99.99   MLO  \n",
       "793        -99.99        -99.99           -99.99   MLO  \n",
       "\n",
       "[794 rows x 11 columns]"
      ]
     },
     "execution_count": 3,
     "metadata": {},
     "output_type": "execute_result"
    }
   ],
   "source": [
    "co2_df"
   ]
  },
  {
   "cell_type": "code",
   "execution_count": 4,
   "metadata": {},
   "outputs": [
    {
     "data": {
      "text/plain": [
       "Index(['  Yr', ' Mn', '    Date', '      Date', '     CO2', 'seasonally',\n",
       "       '        fit', '  seasonally', '      CO2', ' seasonally', ' Sta'],\n",
       "      dtype='object')"
      ]
     },
     "execution_count": 4,
     "metadata": {},
     "output_type": "execute_result"
    }
   ],
   "source": [
    "co2_df.columns"
   ]
  },
  {
   "cell_type": "code",
   "execution_count": 5,
   "metadata": {},
   "outputs": [],
   "source": [
    "co2_df = co2_df.loc[2:,['  Yr', ' Mn', '     CO2',]]"
   ]
  },
  {
   "cell_type": "code",
   "execution_count": 6,
   "metadata": {},
   "outputs": [],
   "source": [
    "new_cols = list(map(lambda x: x.strip(), co2_df.columns))"
   ]
  },
  {
   "cell_type": "code",
   "execution_count": 7,
   "metadata": {},
   "outputs": [
    {
     "data": {
      "text/plain": [
       "['Yr', 'Mn', 'CO2']"
      ]
     },
     "execution_count": 7,
     "metadata": {},
     "output_type": "execute_result"
    }
   ],
   "source": [
    "new_cols "
   ]
  },
  {
   "cell_type": "code",
   "execution_count": 8,
   "metadata": {},
   "outputs": [],
   "source": [
    "co2_df = co2_df.rename(columns=dict(zip(co2_df.columns, new_cols)))"
   ]
  },
  {
   "cell_type": "code",
   "execution_count": 9,
   "metadata": {},
   "outputs": [
    {
     "data": {
      "text/html": [
       "<div>\n",
       "<style scoped>\n",
       "    .dataframe tbody tr th:only-of-type {\n",
       "        vertical-align: middle;\n",
       "    }\n",
       "\n",
       "    .dataframe tbody tr th {\n",
       "        vertical-align: top;\n",
       "    }\n",
       "\n",
       "    .dataframe thead th {\n",
       "        text-align: right;\n",
       "    }\n",
       "</style>\n",
       "<table border=\"1\" class=\"dataframe\">\n",
       "  <thead>\n",
       "    <tr style=\"text-align: right;\">\n",
       "      <th></th>\n",
       "      <th>Yr</th>\n",
       "      <th>Mn</th>\n",
       "      <th>CO2</th>\n",
       "    </tr>\n",
       "  </thead>\n",
       "  <tbody>\n",
       "    <tr>\n",
       "      <th>2</th>\n",
       "      <td>1958</td>\n",
       "      <td>01</td>\n",
       "      <td>-99.99</td>\n",
       "    </tr>\n",
       "    <tr>\n",
       "      <th>3</th>\n",
       "      <td>1958</td>\n",
       "      <td>02</td>\n",
       "      <td>-99.99</td>\n",
       "    </tr>\n",
       "    <tr>\n",
       "      <th>4</th>\n",
       "      <td>1958</td>\n",
       "      <td>03</td>\n",
       "      <td>315.71</td>\n",
       "    </tr>\n",
       "    <tr>\n",
       "      <th>5</th>\n",
       "      <td>1958</td>\n",
       "      <td>04</td>\n",
       "      <td>317.45</td>\n",
       "    </tr>\n",
       "    <tr>\n",
       "      <th>6</th>\n",
       "      <td>1958</td>\n",
       "      <td>05</td>\n",
       "      <td>317.51</td>\n",
       "    </tr>\n",
       "    <tr>\n",
       "      <th>...</th>\n",
       "      <td>...</td>\n",
       "      <td>...</td>\n",
       "      <td>...</td>\n",
       "    </tr>\n",
       "    <tr>\n",
       "      <th>789</th>\n",
       "      <td>2023</td>\n",
       "      <td>08</td>\n",
       "      <td>419.56</td>\n",
       "    </tr>\n",
       "    <tr>\n",
       "      <th>790</th>\n",
       "      <td>2023</td>\n",
       "      <td>09</td>\n",
       "      <td>418.07</td>\n",
       "    </tr>\n",
       "    <tr>\n",
       "      <th>791</th>\n",
       "      <td>2023</td>\n",
       "      <td>10</td>\n",
       "      <td>-99.99</td>\n",
       "    </tr>\n",
       "    <tr>\n",
       "      <th>792</th>\n",
       "      <td>2023</td>\n",
       "      <td>11</td>\n",
       "      <td>-99.99</td>\n",
       "    </tr>\n",
       "    <tr>\n",
       "      <th>793</th>\n",
       "      <td>2023</td>\n",
       "      <td>12</td>\n",
       "      <td>-99.99</td>\n",
       "    </tr>\n",
       "  </tbody>\n",
       "</table>\n",
       "<p>792 rows × 3 columns</p>\n",
       "</div>"
      ],
      "text/plain": [
       "       Yr   Mn       CO2\n",
       "2    1958   01    -99.99\n",
       "3    1958   02    -99.99\n",
       "4    1958   03    315.71\n",
       "5    1958   04    317.45\n",
       "6    1958   05    317.51\n",
       "..    ...  ...       ...\n",
       "789  2023   08    419.56\n",
       "790  2023   09    418.07\n",
       "791  2023   10    -99.99\n",
       "792  2023   11    -99.99\n",
       "793  2023   12    -99.99\n",
       "\n",
       "[792 rows x 3 columns]"
      ]
     },
     "execution_count": 9,
     "metadata": {},
     "output_type": "execute_result"
    }
   ],
   "source": [
    "co2_df"
   ]
  },
  {
   "cell_type": "code",
   "execution_count": 10,
   "metadata": {},
   "outputs": [],
   "source": [
    "co2_df.Yr = co2_df.Yr.astype(int)\n",
    "co2_df.Mn = co2_df.Mn.astype(int)\n",
    "co2_df.CO2 = co2_df.CO2.astype(float)"
   ]
  },
  {
   "cell_type": "code",
   "execution_count": 11,
   "metadata": {},
   "outputs": [],
   "source": [
    "# Drop Missing\n",
    "data = co2_df.copy()\n",
    "data = data[data[\"CO2\"] != -99.99]"
   ]
  },
  {
   "cell_type": "code",
   "execution_count": 12,
   "metadata": {},
   "outputs": [
    {
     "data": {
      "text/html": [
       "<div>\n",
       "<style scoped>\n",
       "    .dataframe tbody tr th:only-of-type {\n",
       "        vertical-align: middle;\n",
       "    }\n",
       "\n",
       "    .dataframe tbody tr th {\n",
       "        vertical-align: top;\n",
       "    }\n",
       "\n",
       "    .dataframe thead th {\n",
       "        text-align: right;\n",
       "    }\n",
       "</style>\n",
       "<table border=\"1\" class=\"dataframe\">\n",
       "  <thead>\n",
       "    <tr style=\"text-align: right;\">\n",
       "      <th></th>\n",
       "      <th>Yr</th>\n",
       "      <th>Mn</th>\n",
       "      <th>CO2</th>\n",
       "    </tr>\n",
       "  </thead>\n",
       "  <tbody>\n",
       "    <tr>\n",
       "      <th>4</th>\n",
       "      <td>1958</td>\n",
       "      <td>3</td>\n",
       "      <td>315.71</td>\n",
       "    </tr>\n",
       "    <tr>\n",
       "      <th>5</th>\n",
       "      <td>1958</td>\n",
       "      <td>4</td>\n",
       "      <td>317.45</td>\n",
       "    </tr>\n",
       "    <tr>\n",
       "      <th>6</th>\n",
       "      <td>1958</td>\n",
       "      <td>5</td>\n",
       "      <td>317.51</td>\n",
       "    </tr>\n",
       "    <tr>\n",
       "      <th>8</th>\n",
       "      <td>1958</td>\n",
       "      <td>7</td>\n",
       "      <td>315.87</td>\n",
       "    </tr>\n",
       "    <tr>\n",
       "      <th>9</th>\n",
       "      <td>1958</td>\n",
       "      <td>8</td>\n",
       "      <td>314.93</td>\n",
       "    </tr>\n",
       "    <tr>\n",
       "      <th>...</th>\n",
       "      <td>...</td>\n",
       "      <td>...</td>\n",
       "      <td>...</td>\n",
       "    </tr>\n",
       "    <tr>\n",
       "      <th>786</th>\n",
       "      <td>2023</td>\n",
       "      <td>5</td>\n",
       "      <td>423.78</td>\n",
       "    </tr>\n",
       "    <tr>\n",
       "      <th>787</th>\n",
       "      <td>2023</td>\n",
       "      <td>6</td>\n",
       "      <td>423.39</td>\n",
       "    </tr>\n",
       "    <tr>\n",
       "      <th>788</th>\n",
       "      <td>2023</td>\n",
       "      <td>7</td>\n",
       "      <td>421.62</td>\n",
       "    </tr>\n",
       "    <tr>\n",
       "      <th>789</th>\n",
       "      <td>2023</td>\n",
       "      <td>8</td>\n",
       "      <td>419.56</td>\n",
       "    </tr>\n",
       "    <tr>\n",
       "      <th>790</th>\n",
       "      <td>2023</td>\n",
       "      <td>9</td>\n",
       "      <td>418.07</td>\n",
       "    </tr>\n",
       "  </tbody>\n",
       "</table>\n",
       "<p>782 rows × 3 columns</p>\n",
       "</div>"
      ],
      "text/plain": [
       "       Yr  Mn     CO2\n",
       "4    1958   3  315.71\n",
       "5    1958   4  317.45\n",
       "6    1958   5  317.51\n",
       "8    1958   7  315.87\n",
       "9    1958   8  314.93\n",
       "..    ...  ..     ...\n",
       "786  2023   5  423.78\n",
       "787  2023   6  423.39\n",
       "788  2023   7  421.62\n",
       "789  2023   8  419.56\n",
       "790  2023   9  418.07\n",
       "\n",
       "[782 rows x 3 columns]"
      ]
     },
     "execution_count": 12,
     "metadata": {},
     "output_type": "execute_result"
    }
   ],
   "source": [
    "data"
   ]
  },
  {
   "cell_type": "code",
   "execution_count": 13,
   "metadata": {},
   "outputs": [
    {
     "name": "stdout",
     "output_type": "stream",
     "text": [
      "<class 'pandas.core.frame.DataFrame'>\n",
      "Index: 782 entries, 4 to 790\n",
      "Data columns (total 3 columns):\n",
      " #   Column  Non-Null Count  Dtype  \n",
      "---  ------  --------------  -----  \n",
      " 0   Yr      782 non-null    int64  \n",
      " 1   Mn      782 non-null    int64  \n",
      " 2   CO2     782 non-null    float64\n",
      "dtypes: float64(1), int64(2)\n",
      "memory usage: 24.4 KB\n"
     ]
    }
   ],
   "source": [
    "data.info()"
   ]
  },
  {
   "cell_type": "code",
   "execution_count": 14,
   "metadata": {},
   "outputs": [],
   "source": [
    "data[\"date\"] = data.apply(lambda x: f\"{int(x['Yr'])}-{int(x['Mn']):02d}\", axis=1)"
   ]
  },
  {
   "cell_type": "code",
   "execution_count": 15,
   "metadata": {},
   "outputs": [
    {
     "data": {
      "text/html": [
       "<div>\n",
       "<style scoped>\n",
       "    .dataframe tbody tr th:only-of-type {\n",
       "        vertical-align: middle;\n",
       "    }\n",
       "\n",
       "    .dataframe tbody tr th {\n",
       "        vertical-align: top;\n",
       "    }\n",
       "\n",
       "    .dataframe thead th {\n",
       "        text-align: right;\n",
       "    }\n",
       "</style>\n",
       "<table border=\"1\" class=\"dataframe\">\n",
       "  <thead>\n",
       "    <tr style=\"text-align: right;\">\n",
       "      <th></th>\n",
       "      <th>Yr</th>\n",
       "      <th>Mn</th>\n",
       "      <th>CO2</th>\n",
       "      <th>date</th>\n",
       "    </tr>\n",
       "  </thead>\n",
       "  <tbody>\n",
       "    <tr>\n",
       "      <th>4</th>\n",
       "      <td>1958</td>\n",
       "      <td>3</td>\n",
       "      <td>315.71</td>\n",
       "      <td>1958-03</td>\n",
       "    </tr>\n",
       "    <tr>\n",
       "      <th>5</th>\n",
       "      <td>1958</td>\n",
       "      <td>4</td>\n",
       "      <td>317.45</td>\n",
       "      <td>1958-04</td>\n",
       "    </tr>\n",
       "    <tr>\n",
       "      <th>6</th>\n",
       "      <td>1958</td>\n",
       "      <td>5</td>\n",
       "      <td>317.51</td>\n",
       "      <td>1958-05</td>\n",
       "    </tr>\n",
       "    <tr>\n",
       "      <th>8</th>\n",
       "      <td>1958</td>\n",
       "      <td>7</td>\n",
       "      <td>315.87</td>\n",
       "      <td>1958-07</td>\n",
       "    </tr>\n",
       "    <tr>\n",
       "      <th>9</th>\n",
       "      <td>1958</td>\n",
       "      <td>8</td>\n",
       "      <td>314.93</td>\n",
       "      <td>1958-08</td>\n",
       "    </tr>\n",
       "    <tr>\n",
       "      <th>...</th>\n",
       "      <td>...</td>\n",
       "      <td>...</td>\n",
       "      <td>...</td>\n",
       "      <td>...</td>\n",
       "    </tr>\n",
       "    <tr>\n",
       "      <th>786</th>\n",
       "      <td>2023</td>\n",
       "      <td>5</td>\n",
       "      <td>423.78</td>\n",
       "      <td>2023-05</td>\n",
       "    </tr>\n",
       "    <tr>\n",
       "      <th>787</th>\n",
       "      <td>2023</td>\n",
       "      <td>6</td>\n",
       "      <td>423.39</td>\n",
       "      <td>2023-06</td>\n",
       "    </tr>\n",
       "    <tr>\n",
       "      <th>788</th>\n",
       "      <td>2023</td>\n",
       "      <td>7</td>\n",
       "      <td>421.62</td>\n",
       "      <td>2023-07</td>\n",
       "    </tr>\n",
       "    <tr>\n",
       "      <th>789</th>\n",
       "      <td>2023</td>\n",
       "      <td>8</td>\n",
       "      <td>419.56</td>\n",
       "      <td>2023-08</td>\n",
       "    </tr>\n",
       "    <tr>\n",
       "      <th>790</th>\n",
       "      <td>2023</td>\n",
       "      <td>9</td>\n",
       "      <td>418.07</td>\n",
       "      <td>2023-09</td>\n",
       "    </tr>\n",
       "  </tbody>\n",
       "</table>\n",
       "<p>782 rows × 4 columns</p>\n",
       "</div>"
      ],
      "text/plain": [
       "       Yr  Mn     CO2     date\n",
       "4    1958   3  315.71  1958-03\n",
       "5    1958   4  317.45  1958-04\n",
       "6    1958   5  317.51  1958-05\n",
       "8    1958   7  315.87  1958-07\n",
       "9    1958   8  314.93  1958-08\n",
       "..    ...  ..     ...      ...\n",
       "786  2023   5  423.78  2023-05\n",
       "787  2023   6  423.39  2023-06\n",
       "788  2023   7  421.62  2023-07\n",
       "789  2023   8  419.56  2023-08\n",
       "790  2023   9  418.07  2023-09\n",
       "\n",
       "[782 rows x 4 columns]"
      ]
     },
     "execution_count": 15,
     "metadata": {},
     "output_type": "execute_result"
    }
   ],
   "source": [
    "data"
   ]
  },
  {
   "cell_type": "code",
   "execution_count": 16,
   "metadata": {},
   "outputs": [
    {
     "name": "stderr",
     "output_type": "stream",
     "text": [
      "/tmp/ipykernel_3694/263896264.py:5: UserWarning: FixedFormatter should only be used together with FixedLocator\n",
      "  ax.set_xticklabels(ax.get_xticklabels()[::14], rotation=90)\n"
     ]
    },
    {
     "data": {
      "image/png": "[encoded data removed]",
      "text/plain": [
       "<Figure size 800x550 with 1 Axes>"
      ]
     },
     "metadata": {},
     "output_type": "display_data"
    }
   ],
   "source": [
    "fig, ax = plt.subplots()\n",
    "ax.plot(data[\"date\"], data[\"CO2\"])\n",
    "ax.set_xlabel(\"Year\")\n",
    "ax.set_ylabel(\"CO2\")\n",
    "ax.set_xticklabels(ax.get_xticklabels()[::14], rotation=90)\n",
    "locator = mpl.ticker.MultipleLocator(15)\n",
    "ax.xaxis.set_major_locator(locator)"
   ]
  },
  {
   "cell_type": "code",
   "execution_count": 17,
   "metadata": {},
   "outputs": [],
   "source": [
    "x = data.date.values.tolist()\n",
    "y = torch.tensor(data.CO2.values).float()"
   ]
  },
  {
   "cell_type": "code",
   "execution_count": 18,
   "metadata": {},
   "outputs": [],
   "source": [
    "ytrain = y"
   ]
  },
  {
   "cell_type": "code",
   "execution_count": 19,
   "metadata": {},
   "outputs": [
    {
     "data": {
      "text/plain": [
       "(tensor(962.1698), tensor(358.5257))"
      ]
     },
     "execution_count": 19,
     "metadata": {},
     "output_type": "execute_result"
    }
   ],
   "source": [
    "yvar, ymean = torch.var_mean(ytrain)\n",
    "yvar, ymean"
   ]
  },
  {
   "cell_type": "code",
   "execution_count": 20,
   "metadata": {},
   "outputs": [
    {
     "data": {
      "text/plain": [
       "tensor(31.0189)"
      ]
     },
     "execution_count": 20,
     "metadata": {},
     "output_type": "execute_result"
    }
   ],
   "source": [
    "ytrain.std()"
   ]
  },
  {
   "cell_type": "code",
   "execution_count": 21,
   "metadata": {},
   "outputs": [],
   "source": [
    "ytrain_norm = (ytrain  - ymean) / yvar.sqrt()"
   ]
  },
  {
   "cell_type": "code",
   "execution_count": 22,
   "metadata": {},
   "outputs": [
    {
     "data": {
      "text/plain": [
       "(tensor(4.9986e-07), tensor(1.))"
      ]
     },
     "execution_count": 22,
     "metadata": {},
     "output_type": "execute_result"
    }
   ],
   "source": [
    "ytrain_norm.mean(), ytrain_norm.std()"
   ]
  },
  {
   "cell_type": "code",
   "execution_count": 23,
   "metadata": {},
   "outputs": [
    {
     "data": {
      "text/plain": [
       "tensor([-1.3803, -1.2091, -0.8126, -0.5199, -0.1204,  0.4205,  0.8229,  1.4815])"
      ]
     },
     "execution_count": 23,
     "metadata": {},
     "output_type": "execute_result"
    }
   ],
   "source": [
    "ytrain_norm[::100]"
   ]
  },
  {
   "cell_type": "code",
   "execution_count": 24,
   "metadata": {},
   "outputs": [],
   "source": [
    "ytrain_norm = ytrain_norm#[:25]"
   ]
  },
  {
   "cell_type": "code",
   "execution_count": 25,
   "metadata": {},
   "outputs": [],
   "source": [
    "transition_matrix = torch.tensor([[1., 1.], [0, 1]])\n",
    "obs_matrix = torch.tensor([1., 0])"
   ]
  },
  {
   "cell_type": "code",
   "execution_count": 26,
   "metadata": {},
   "outputs": [
    {
     "data": {
      "text/plain": [
       "tensor(0.)"
      ]
     },
     "execution_count": 26,
     "metadata": {},
     "output_type": "execute_result"
    }
   ],
   "source": [
    "dist.LogNormal(-20000., 1).sample()"
   ]
  },
  {
   "cell_type": "code",
   "execution_count": 27,
   "metadata": {},
   "outputs": [],
   "source": [
    "def model(is_training=True):\n",
    "    z = pyro.sample(\"z\", dist.Normal(torch.tensor([0.0, 0.0]), torch.tensor([1., 1.])).to_event(1))\n",
    "    # print('z0 ', z)\n",
    "    # μ = pyro.sample(\"μ\", dist.LogNormal(0, 1.))\n",
    "    # δ = pyro.sample(\"δ\", dist.LogNormal(0, 1.))\n",
    "    # ϵ = pyro.sample(\"ϵ\", dist.LogNormal(0, 1.))\n",
    "    μₚ = pyro.sample(\"μ\", dist.LogNormal(0., 1.))  \n",
    "    δₚ = pyro.sample(\"δ\", dist.LogNormal(0., 1.))  \n",
    "    ϵₚ = pyro.sample(\"ϵ\", dist.LogNormal(0., 1.))  \n",
    "    data_plate =  pyro.plate(\"data\", len(ytrain_norm))\n",
    "    # for t in pyro.markov(range(len(list(data_plate)))):\n",
    "    for t in pyro.markov(range(len(ytrain_norm))):\n",
    "        # μ = pyro.sample(f\"latent_μ_{t}\", dist.Normal(0., μₚ))\n",
    "        # δ = pyro.sample(f\"latent_δ_{t}\", dist.Normal(0., δₚ))\n",
    "        \n",
    "        # z = transition_matrix @ z + torch.tensor([μ, δ])\n",
    "        z = pyro.sample(f\"latent_z_{t}\", dist.Normal(transition_matrix @ z, torch.tensor([μₚ, δₚ])))\n",
    "        \n",
    "        # ϵ = pyro.sample(f\"latent_ϵ_{t}\", dist.Normal(0., ϵₚ))\n",
    "        yobs = ytrain_norm[t] if is_training else None\n",
    "        # print(\"Selected ϵ: \", ϵₚ, \" mean: \", obs_matrix @ z)\n",
    "        obs = pyro.sample(f\"y_{t}\", dist.Normal(obs_matrix @ z, ϵₚ ), obs=yobs)\n",
    "    \n",
    "    return obs"
   ]
  },
  {
   "cell_type": "code",
   "execution_count": 28,
   "metadata": {},
   "outputs": [],
   "source": [
    "# pyro.clear_param_store()\n",
    "# pyro.set_rng_seed(0)\n",
    "# model_simp = (\n",
    "#         poutine.block(model, \n",
    "#                     expose_fn=lambda x: \"latent_z\" not in x[\"name\"]\n",
    "#                       )\n",
    "#         )\n",
    "# def init_loc_fn(x):\n",
    "#     print(x[\"name\"])\n",
    "#     if x[\"name\"] == \"z\":\n",
    "#         return torch.tensor([-1.5, 1e-3])\n",
    "#     return torch.tensor(0.001)\n",
    "  \n",
    "# guide = AutoNormal(model_simp, init_loc_fn=init_loc_fn, init_scale=1.)\n",
    "# with poutine.block(), poutine.trace(param_only=True) as param_capture:\n",
    "#     guide()"
   ]
  },
  {
   "cell_type": "code",
   "execution_count": 29,
   "metadata": {},
   "outputs": [],
   "source": [
    "pyro.clear_param_store()\n",
    "pyro.set_rng_seed(0)\n",
    "\n",
    "def guide(is_training=True):\n",
    "    z_loc = pyro.param(\"zloc\", torch.tensor([-1.5, 1e-3]))\n",
    "    z_scale = pyro.param(\"zscale\", torch.tensor([0.1, 10]), constraint=dist.constraints.positive)\n",
    "    z = pyro.sample(\"z\", dist.Normal(z_loc, z_scale).to_event(1))\n",
    "    \n",
    "    for n in [\"μ\",\"δ\", \"ϵ\"]:\n",
    "        loc = pyro.param(f\"{n}loc\", torch.tensor(1e-3))\n",
    "        scale = pyro.param(f\"{n}scale\", torch.tensor(10), constraint=dist.constraints.positive)\n",
    "        d = pyro.sample(f\"{n}\", dist.LogNormal(loc, scale))\n",
    "    "
   ]
  },
  {
   "cell_type": "code",
   "execution_count": 30,
   "metadata": {},
   "outputs": [],
   "source": [
    "with poutine.block(), poutine.trace(param_only=True) as param_capture:\n",
    "    guide()"
   ]
  },
  {
   "cell_type": "code",
   "execution_count": 31,
   "metadata": {},
   "outputs": [],
   "source": [
    "# pyro.get_param_store().__setitem__('z',  torch.tensor([1.0, 1e-3]))"
   ]
  },
  {
   "cell_type": "code",
   "execution_count": 32,
   "metadata": {},
   "outputs": [
    {
     "data": {
      "text/plain": [
       "[('zloc', tensor([-1.5000e+00,  1.0000e-03], requires_grad=True)),\n",
       " ('zscale', tensor([ 0.1000, 10.0000], grad_fn=<AddBackward0>)),\n",
       " ('μloc', tensor(0.0010, requires_grad=True)),\n",
       " ('μscale', tensor(10., grad_fn=<AddBackward0>)),\n",
       " ('δloc', tensor(0.0010, requires_grad=True)),\n",
       " ('δscale', tensor(10., grad_fn=<AddBackward0>)),\n",
       " ('ϵloc', tensor(0.0010, requires_grad=True)),\n",
       " ('ϵscale', tensor(10., grad_fn=<AddBackward0>))]"
      ]
     },
     "execution_count": 32,
     "metadata": {},
     "output_type": "execute_result"
    }
   ],
   "source": [
    "list(pyro.get_param_store().items())"
   ]
  },
  {
   "cell_type": "code",
   "execution_count": 33,
   "metadata": {},
   "outputs": [
    {
     "name": "stdout",
     "output_type": "stream",
     "text": [
      "[('zloc', tensor([-1.5000e+00,  1.0000e-03], requires_grad=True)), ('zscale', tensor([ 0.1000, 10.0000], grad_fn=<AddBackward0>)), ('μloc', tensor(0.0010, requires_grad=True)), ('μscale', tensor(10., grad_fn=<AddBackward0>)), ('δloc', tensor(0.0010, requires_grad=True)), ('δscale', tensor(10., grad_fn=<AddBackward0>)), ('ϵloc', tensor(0.0010, requires_grad=True)), ('ϵscale', tensor(10., grad_fn=<AddBackward0>))]\n"
     ]
    }
   ],
   "source": [
    "params = list([pyro.param(name).unconstrained() for name in param_capture.trace])\n",
    "optimizer = torch.optim.Adam(params, lr=1e-2)\n",
    "print(list(pyro.get_param_store().items()))"
   ]
  },
  {
   "cell_type": "code",
   "execution_count": 34,
   "metadata": {},
   "outputs": [],
   "source": [
    "def train(i):\n",
    "    guide_trace = poutine.trace(guide).get_trace()\n",
    "    model_trace = poutine.trace( poutine.replay(model, trace=guide_trace)).get_trace() \n",
    "    \n",
    "    elbo_loss = 0\n",
    "    \n",
    "    for name, node in model_trace.nodes.items():\n",
    "        if node[\"type\"] != \"sample\":\n",
    "            continue\n",
    "        elbo_loss += node[\"fn\"].log_prob(node[\"value\"]).sum()\n",
    "        if  name in guide_trace.nodes:\n",
    "            elbo_loss -=  guide_trace.nodes[name][\"fn\"].log_prob(guide_trace.nodes[name][\"value\"]).sum()\n",
    "            \n",
    "    return -elbo_loss"
   ]
  },
  {
   "cell_type": "code",
   "execution_count": 35,
   "metadata": {},
   "outputs": [
    {
     "ename": "ValueError",
     "evalue": "Expected parameter loc (Tensor of shape ()) of distribution Normal(loc: nan, scale: nan) to satisfy the constraint Real(), but found invalid values:\nnan\nTrace Shapes:    \n Param Sites:    \n         zloc 2  \n       zscale 2  \n         μloc    \n       μscale    \n         δloc    \n       δscale    \n         ϵloc    \n       ϵscale    \nSample Sites:    \n       z dist | 2\n        value | 2\n       μ dist |  \n        value |  \n       δ dist |  \n        value |  ",
     "output_type": "error",
     "traceback": [
      "\u001b[0;31m---------------------------------------------------------------------------\u001b[0m",
      "\u001b[0;31mValueError\u001b[0m                                Traceback (most recent call last)",
      "File \u001b[0;32m/env_nlp/lib/python3.9/site-packages/pyro/poutine/trace_messenger.py:174\u001b[0m, in \u001b[0;36mTraceHandler.__call__\u001b[0;34m(self, *args, **kwargs)\u001b[0m\n\u001b[1;32m    173\u001b[0m \u001b[39mtry\u001b[39;00m:\n\u001b[0;32m--> 174\u001b[0m     ret \u001b[39m=\u001b[39m \u001b[39mself\u001b[39;49m\u001b[39m.\u001b[39;49mfn(\u001b[39m*\u001b[39;49margs, \u001b[39m*\u001b[39;49m\u001b[39m*\u001b[39;49mkwargs)\n\u001b[1;32m    175\u001b[0m \u001b[39mexcept\u001b[39;00m (\u001b[39mValueError\u001b[39;00m, \u001b[39mRuntimeError\u001b[39;00m) \u001b[39mas\u001b[39;00m e:\n",
      "\u001b[1;32m/numeric/pytorch/tut/proba_ml/time_series/mauna_loa_co2_norm3.ipynb Cell 35\u001b[0m line \u001b[0;36m1\n\u001b[1;32m     <a href='vscode-notebook-cell://ssh-remote%2Btorch_docker/numeric/pytorch/tut/proba_ml/time_series/mauna_loa_co2_norm3.ipynb#Y101sdnNjb2RlLXJlbW90ZQ%3D%3D?line=10'>11</a>\u001b[0m scale \u001b[39m=\u001b[39m pyro\u001b[39m.\u001b[39mparam(\u001b[39mf\u001b[39m\u001b[39m\"\u001b[39m\u001b[39m{\u001b[39;00mn\u001b[39m}\u001b[39;00m\u001b[39mscale\u001b[39m\u001b[39m\"\u001b[39m, torch\u001b[39m.\u001b[39mtensor(\u001b[39m10\u001b[39m), constraint\u001b[39m=\u001b[39mdist\u001b[39m.\u001b[39mconstraints\u001b[39m.\u001b[39mpositive)\n\u001b[0;32m---> <a href='vscode-notebook-cell://ssh-remote%2Btorch_docker/numeric/pytorch/tut/proba_ml/time_series/mauna_loa_co2_norm3.ipynb#Y101sdnNjb2RlLXJlbW90ZQ%3D%3D?line=11'>12</a>\u001b[0m d \u001b[39m=\u001b[39m pyro\u001b[39m.\u001b[39msample(\u001b[39mf\u001b[39m\u001b[39m\"\u001b[39m\u001b[39m{\u001b[39;00mn\u001b[39m}\u001b[39;00m\u001b[39m\"\u001b[39m, dist\u001b[39m.\u001b[39;49mLogNormal(loc, scale))\n",
      "File \u001b[0;32m/env_nlp/lib/python3.9/site-packages/pyro/distributions/distribution.py:24\u001b[0m, in \u001b[0;36mDistributionMeta.__call__\u001b[0;34m(cls, *args, **kwargs)\u001b[0m\n\u001b[1;32m     23\u001b[0m         \u001b[39mreturn\u001b[39;00m result\n\u001b[0;32m---> 24\u001b[0m \u001b[39mreturn\u001b[39;00m \u001b[39msuper\u001b[39;49m()\u001b[39m.\u001b[39;49m\u001b[39m__call__\u001b[39;49m(\u001b[39m*\u001b[39;49margs, \u001b[39m*\u001b[39;49m\u001b[39m*\u001b[39;49mkwargs)\n",
      "File \u001b[0;32m/env_nlp/lib/python3.9/site-packages/pyro/distributions/torch.py:205\u001b[0m, in \u001b[0;36mLogNormal.__init__\u001b[0;34m(self, loc, scale, validate_args)\u001b[0m\n\u001b[1;32m    204\u001b[0m \u001b[39mdef\u001b[39;00m \u001b[39m__init__\u001b[39m(\u001b[39mself\u001b[39m, loc, scale, validate_args\u001b[39m=\u001b[39m\u001b[39mNone\u001b[39;00m):\n\u001b[0;32m--> 205\u001b[0m     base_dist \u001b[39m=\u001b[39m Normal(loc, scale)\n\u001b[1;32m    206\u001b[0m     \u001b[39m# This differs from torch.distributions.LogNormal only in that base_dist is\u001b[39;00m\n\u001b[1;32m    207\u001b[0m     \u001b[39m# a pyro.distributions.Normal rather than a torch.distributions.Normal.\u001b[39;00m\n",
      "File \u001b[0;32m/env_nlp/lib/python3.9/site-packages/pyro/distributions/distribution.py:24\u001b[0m, in \u001b[0;36mDistributionMeta.__call__\u001b[0;34m(cls, *args, **kwargs)\u001b[0m\n\u001b[1;32m     23\u001b[0m         \u001b[39mreturn\u001b[39;00m result\n\u001b[0;32m---> 24\u001b[0m \u001b[39mreturn\u001b[39;00m \u001b[39msuper\u001b[39;49m()\u001b[39m.\u001b[39;49m\u001b[39m__call__\u001b[39;49m(\u001b[39m*\u001b[39;49margs, \u001b[39m*\u001b[39;49m\u001b[39m*\u001b[39;49mkwargs)\n",
      "File \u001b[0;32m/env_nlp/lib/python3.9/site-packages/torch/distributions/normal.py:56\u001b[0m, in \u001b[0;36mNormal.__init__\u001b[0;34m(self, loc, scale, validate_args)\u001b[0m\n\u001b[1;32m     55\u001b[0m     batch_shape \u001b[39m=\u001b[39m \u001b[39mself\u001b[39m\u001b[39m.\u001b[39mloc\u001b[39m.\u001b[39msize()\n\u001b[0;32m---> 56\u001b[0m \u001b[39msuper\u001b[39;49m()\u001b[39m.\u001b[39;49m\u001b[39m__init__\u001b[39;49m(batch_shape, validate_args\u001b[39m=\u001b[39;49mvalidate_args)\n",
      "File \u001b[0;32m/env_nlp/lib/python3.9/site-packages/torch/distributions/distribution.py:62\u001b[0m, in \u001b[0;36mDistribution.__init__\u001b[0;34m(self, batch_shape, event_shape, validate_args)\u001b[0m\n\u001b[1;32m     61\u001b[0m         \u001b[39mif\u001b[39;00m \u001b[39mnot\u001b[39;00m valid\u001b[39m.\u001b[39mall():\n\u001b[0;32m---> 62\u001b[0m             \u001b[39mraise\u001b[39;00m \u001b[39mValueError\u001b[39;00m(\n\u001b[1;32m     63\u001b[0m                 \u001b[39mf\u001b[39m\u001b[39m\"\u001b[39m\u001b[39mExpected parameter \u001b[39m\u001b[39m{\u001b[39;00mparam\u001b[39m}\u001b[39;00m\u001b[39m \u001b[39m\u001b[39m\"\u001b[39m\n\u001b[1;32m     64\u001b[0m                 \u001b[39mf\u001b[39m\u001b[39m\"\u001b[39m\u001b[39m(\u001b[39m\u001b[39m{\u001b[39;00m\u001b[39mtype\u001b[39m(value)\u001b[39m.\u001b[39m\u001b[39m__name__\u001b[39m\u001b[39m}\u001b[39;00m\u001b[39m of shape \u001b[39m\u001b[39m{\u001b[39;00m\u001b[39mtuple\u001b[39m(value\u001b[39m.\u001b[39mshape)\u001b[39m}\u001b[39;00m\u001b[39m) \u001b[39m\u001b[39m\"\u001b[39m\n\u001b[1;32m     65\u001b[0m                 \u001b[39mf\u001b[39m\u001b[39m\"\u001b[39m\u001b[39mof distribution \u001b[39m\u001b[39m{\u001b[39;00m\u001b[39mrepr\u001b[39m(\u001b[39mself\u001b[39m)\u001b[39m}\u001b[39;00m\u001b[39m \u001b[39m\u001b[39m\"\u001b[39m\n\u001b[1;32m     66\u001b[0m                 \u001b[39mf\u001b[39m\u001b[39m\"\u001b[39m\u001b[39mto satisfy the constraint \u001b[39m\u001b[39m{\u001b[39;00m\u001b[39mrepr\u001b[39m(constraint)\u001b[39m}\u001b[39;00m\u001b[39m, \u001b[39m\u001b[39m\"\u001b[39m\n\u001b[1;32m     67\u001b[0m                 \u001b[39mf\u001b[39m\u001b[39m\"\u001b[39m\u001b[39mbut found invalid values:\u001b[39m\u001b[39m\\n\u001b[39;00m\u001b[39m{\u001b[39;00mvalue\u001b[39m}\u001b[39;00m\u001b[39m\"\u001b[39m\n\u001b[1;32m     68\u001b[0m             )\n\u001b[1;32m     69\u001b[0m \u001b[39msuper\u001b[39m()\u001b[39m.\u001b[39m\u001b[39m__init__\u001b[39m()\n",
      "\u001b[0;31mValueError\u001b[0m: Expected parameter loc (Tensor of shape ()) of distribution Normal(loc: nan, scale: nan) to satisfy the constraint Real(), but found invalid values:\nnan",
      "\nThe above exception was the direct cause of the following exception:\n",
      "\u001b[0;31mValueError\u001b[0m                                Traceback (most recent call last)",
      "\u001b[1;32m/numeric/pytorch/tut/proba_ml/time_series/mauna_loa_co2_norm3.ipynb Cell 35\u001b[0m line \u001b[0;36m3\n\u001b[1;32m      <a href='vscode-notebook-cell://ssh-remote%2Btorch_docker/numeric/pytorch/tut/proba_ml/time_series/mauna_loa_co2_norm3.ipynb#Y101sdnNjb2RlLXJlbW90ZQ%3D%3D?line=0'>1</a>\u001b[0m losses \u001b[39m=\u001b[39m []\n\u001b[1;32m      <a href='vscode-notebook-cell://ssh-remote%2Btorch_docker/numeric/pytorch/tut/proba_ml/time_series/mauna_loa_co2_norm3.ipynb#Y101sdnNjb2RlLXJlbW90ZQ%3D%3D?line=1'>2</a>\u001b[0m \u001b[39mfor\u001b[39;00m i \u001b[39min\u001b[39;00m \u001b[39mrange\u001b[39m(\u001b[39m20000\u001b[39m):\n\u001b[0;32m----> <a href='vscode-notebook-cell://ssh-remote%2Btorch_docker/numeric/pytorch/tut/proba_ml/time_series/mauna_loa_co2_norm3.ipynb#Y101sdnNjb2RlLXJlbW90ZQ%3D%3D?line=2'>3</a>\u001b[0m     loss \u001b[39m=\u001b[39m train(i) \u001b[39m/\u001b[39m \u001b[39mlen\u001b[39m(ytrain_norm)\n\u001b[1;32m      <a href='vscode-notebook-cell://ssh-remote%2Btorch_docker/numeric/pytorch/tut/proba_ml/time_series/mauna_loa_co2_norm3.ipynb#Y101sdnNjb2RlLXJlbW90ZQ%3D%3D?line=3'>4</a>\u001b[0m     optimizer\u001b[39m.\u001b[39mzero_grad()\n\u001b[1;32m      <a href='vscode-notebook-cell://ssh-remote%2Btorch_docker/numeric/pytorch/tut/proba_ml/time_series/mauna_loa_co2_norm3.ipynb#Y101sdnNjb2RlLXJlbW90ZQ%3D%3D?line=4'>5</a>\u001b[0m     loss\u001b[39m.\u001b[39mbackward()\n",
      "\u001b[1;32m/numeric/pytorch/tut/proba_ml/time_series/mauna_loa_co2_norm3.ipynb Cell 35\u001b[0m line \u001b[0;36m2\n\u001b[1;32m      <a href='vscode-notebook-cell://ssh-remote%2Btorch_docker/numeric/pytorch/tut/proba_ml/time_series/mauna_loa_co2_norm3.ipynb#Y101sdnNjb2RlLXJlbW90ZQ%3D%3D?line=0'>1</a>\u001b[0m \u001b[39mdef\u001b[39;00m \u001b[39mtrain\u001b[39m(i):\n\u001b[0;32m----> <a href='vscode-notebook-cell://ssh-remote%2Btorch_docker/numeric/pytorch/tut/proba_ml/time_series/mauna_loa_co2_norm3.ipynb#Y101sdnNjb2RlLXJlbW90ZQ%3D%3D?line=1'>2</a>\u001b[0m     guide_trace \u001b[39m=\u001b[39m poutine\u001b[39m.\u001b[39;49mtrace(guide)\u001b[39m.\u001b[39;49mget_trace()\n\u001b[1;32m      <a href='vscode-notebook-cell://ssh-remote%2Btorch_docker/numeric/pytorch/tut/proba_ml/time_series/mauna_loa_co2_norm3.ipynb#Y101sdnNjb2RlLXJlbW90ZQ%3D%3D?line=2'>3</a>\u001b[0m     model_trace \u001b[39m=\u001b[39m poutine\u001b[39m.\u001b[39mtrace( poutine\u001b[39m.\u001b[39mreplay(model, trace\u001b[39m=\u001b[39mguide_trace))\u001b[39m.\u001b[39mget_trace() \n\u001b[1;32m      <a href='vscode-notebook-cell://ssh-remote%2Btorch_docker/numeric/pytorch/tut/proba_ml/time_series/mauna_loa_co2_norm3.ipynb#Y101sdnNjb2RlLXJlbW90ZQ%3D%3D?line=4'>5</a>\u001b[0m     elbo_loss \u001b[39m=\u001b[39m \u001b[39m0\u001b[39m\n",
      "File \u001b[0;32m/env_nlp/lib/python3.9/site-packages/pyro/poutine/trace_messenger.py:198\u001b[0m, in \u001b[0;36mTraceHandler.get_trace\u001b[0;34m(self, *args, **kwargs)\u001b[0m\n\u001b[1;32m    190\u001b[0m \u001b[39mdef\u001b[39;00m \u001b[39mget_trace\u001b[39m(\u001b[39mself\u001b[39m, \u001b[39m*\u001b[39margs, \u001b[39m*\u001b[39m\u001b[39m*\u001b[39mkwargs):\n\u001b[1;32m    191\u001b[0m \u001b[39m    \u001b[39m\u001b[39m\"\"\"\u001b[39;00m\n\u001b[1;32m    192\u001b[0m \u001b[39m    :returns: data structure\u001b[39;00m\n\u001b[1;32m    193\u001b[0m \u001b[39m    :rtype: pyro.poutine.Trace\u001b[39;00m\n\u001b[0;32m   (...)\u001b[0m\n\u001b[1;32m    196\u001b[0m \u001b[39m    Calls this poutine and returns its trace instead of the function's return value.\u001b[39;00m\n\u001b[1;32m    197\u001b[0m \u001b[39m    \"\"\"\u001b[39;00m\n\u001b[0;32m--> 198\u001b[0m     \u001b[39mself\u001b[39;49m(\u001b[39m*\u001b[39;49margs, \u001b[39m*\u001b[39;49m\u001b[39m*\u001b[39;49mkwargs)\n\u001b[1;32m    199\u001b[0m     \u001b[39mreturn\u001b[39;00m \u001b[39mself\u001b[39m\u001b[39m.\u001b[39mmsngr\u001b[39m.\u001b[39mget_trace()\n",
      "File \u001b[0;32m/env_nlp/lib/python3.9/site-packages/pyro/poutine/trace_messenger.py:180\u001b[0m, in \u001b[0;36mTraceHandler.__call__\u001b[0;34m(self, *args, **kwargs)\u001b[0m\n\u001b[1;32m    178\u001b[0m         exc \u001b[39m=\u001b[39m exc_type(\u001b[39m\"\u001b[39m\u001b[39m{}\u001b[39;00m\u001b[39m\\n\u001b[39;00m\u001b[39m{}\u001b[39;00m\u001b[39m\"\u001b[39m\u001b[39m.\u001b[39mformat(exc_value, shapes))\n\u001b[1;32m    179\u001b[0m         exc \u001b[39m=\u001b[39m exc\u001b[39m.\u001b[39mwith_traceback(traceback)\n\u001b[0;32m--> 180\u001b[0m         \u001b[39mraise\u001b[39;00m exc \u001b[39mfrom\u001b[39;00m \u001b[39me\u001b[39;00m\n\u001b[1;32m    181\u001b[0m     \u001b[39mself\u001b[39m\u001b[39m.\u001b[39mmsngr\u001b[39m.\u001b[39mtrace\u001b[39m.\u001b[39madd_node(\n\u001b[1;32m    182\u001b[0m         \u001b[39m\"\u001b[39m\u001b[39m_RETURN\u001b[39m\u001b[39m\"\u001b[39m, name\u001b[39m=\u001b[39m\u001b[39m\"\u001b[39m\u001b[39m_RETURN\u001b[39m\u001b[39m\"\u001b[39m, \u001b[39mtype\u001b[39m\u001b[39m=\u001b[39m\u001b[39m\"\u001b[39m\u001b[39mreturn\u001b[39m\u001b[39m\"\u001b[39m, value\u001b[39m=\u001b[39mret\n\u001b[1;32m    183\u001b[0m     )\n\u001b[1;32m    184\u001b[0m \u001b[39mreturn\u001b[39;00m ret\n",
      "File \u001b[0;32m/env_nlp/lib/python3.9/site-packages/pyro/poutine/trace_messenger.py:174\u001b[0m, in \u001b[0;36mTraceHandler.__call__\u001b[0;34m(self, *args, **kwargs)\u001b[0m\n\u001b[1;32m    170\u001b[0m \u001b[39mself\u001b[39m\u001b[39m.\u001b[39mmsngr\u001b[39m.\u001b[39mtrace\u001b[39m.\u001b[39madd_node(\n\u001b[1;32m    171\u001b[0m     \u001b[39m\"\u001b[39m\u001b[39m_INPUT\u001b[39m\u001b[39m\"\u001b[39m, name\u001b[39m=\u001b[39m\u001b[39m\"\u001b[39m\u001b[39m_INPUT\u001b[39m\u001b[39m\"\u001b[39m, \u001b[39mtype\u001b[39m\u001b[39m=\u001b[39m\u001b[39m\"\u001b[39m\u001b[39margs\u001b[39m\u001b[39m\"\u001b[39m, args\u001b[39m=\u001b[39margs, kwargs\u001b[39m=\u001b[39mkwargs\n\u001b[1;32m    172\u001b[0m )\n\u001b[1;32m    173\u001b[0m \u001b[39mtry\u001b[39;00m:\n\u001b[0;32m--> 174\u001b[0m     ret \u001b[39m=\u001b[39m \u001b[39mself\u001b[39;49m\u001b[39m.\u001b[39;49mfn(\u001b[39m*\u001b[39;49margs, \u001b[39m*\u001b[39;49m\u001b[39m*\u001b[39;49mkwargs)\n\u001b[1;32m    175\u001b[0m \u001b[39mexcept\u001b[39;00m (\u001b[39mValueError\u001b[39;00m, \u001b[39mRuntimeError\u001b[39;00m) \u001b[39mas\u001b[39;00m e:\n\u001b[1;32m    176\u001b[0m     exc_type, exc_value, traceback \u001b[39m=\u001b[39m sys\u001b[39m.\u001b[39mexc_info()\n",
      "\u001b[1;32m/numeric/pytorch/tut/proba_ml/time_series/mauna_loa_co2_norm3.ipynb Cell 35\u001b[0m line \u001b[0;36m1\n\u001b[1;32m     <a href='vscode-notebook-cell://ssh-remote%2Btorch_docker/numeric/pytorch/tut/proba_ml/time_series/mauna_loa_co2_norm3.ipynb#Y101sdnNjb2RlLXJlbW90ZQ%3D%3D?line=9'>10</a>\u001b[0m loc \u001b[39m=\u001b[39m pyro\u001b[39m.\u001b[39mparam(\u001b[39mf\u001b[39m\u001b[39m\"\u001b[39m\u001b[39m{\u001b[39;00mn\u001b[39m}\u001b[39;00m\u001b[39mloc\u001b[39m\u001b[39m\"\u001b[39m, torch\u001b[39m.\u001b[39mtensor(\u001b[39m1e-3\u001b[39m))\n\u001b[1;32m     <a href='vscode-notebook-cell://ssh-remote%2Btorch_docker/numeric/pytorch/tut/proba_ml/time_series/mauna_loa_co2_norm3.ipynb#Y101sdnNjb2RlLXJlbW90ZQ%3D%3D?line=10'>11</a>\u001b[0m scale \u001b[39m=\u001b[39m pyro\u001b[39m.\u001b[39mparam(\u001b[39mf\u001b[39m\u001b[39m\"\u001b[39m\u001b[39m{\u001b[39;00mn\u001b[39m}\u001b[39;00m\u001b[39mscale\u001b[39m\u001b[39m\"\u001b[39m, torch\u001b[39m.\u001b[39mtensor(\u001b[39m10\u001b[39m), constraint\u001b[39m=\u001b[39mdist\u001b[39m.\u001b[39mconstraints\u001b[39m.\u001b[39mpositive)\n\u001b[0;32m---> <a href='vscode-notebook-cell://ssh-remote%2Btorch_docker/numeric/pytorch/tut/proba_ml/time_series/mauna_loa_co2_norm3.ipynb#Y101sdnNjb2RlLXJlbW90ZQ%3D%3D?line=11'>12</a>\u001b[0m d \u001b[39m=\u001b[39m pyro\u001b[39m.\u001b[39msample(\u001b[39mf\u001b[39m\u001b[39m\"\u001b[39m\u001b[39m{\u001b[39;00mn\u001b[39m}\u001b[39;00m\u001b[39m\"\u001b[39m, dist\u001b[39m.\u001b[39;49mLogNormal(loc, scale))\n",
      "File \u001b[0;32m/env_nlp/lib/python3.9/site-packages/pyro/distributions/distribution.py:24\u001b[0m, in \u001b[0;36mDistributionMeta.__call__\u001b[0;34m(cls, *args, **kwargs)\u001b[0m\n\u001b[1;32m     22\u001b[0m     \u001b[39mif\u001b[39;00m result \u001b[39mis\u001b[39;00m \u001b[39mnot\u001b[39;00m \u001b[39mNone\u001b[39;00m:\n\u001b[1;32m     23\u001b[0m         \u001b[39mreturn\u001b[39;00m result\n\u001b[0;32m---> 24\u001b[0m \u001b[39mreturn\u001b[39;00m \u001b[39msuper\u001b[39;49m()\u001b[39m.\u001b[39;49m\u001b[39m__call__\u001b[39;49m(\u001b[39m*\u001b[39;49margs, \u001b[39m*\u001b[39;49m\u001b[39m*\u001b[39;49mkwargs)\n",
      "File \u001b[0;32m/env_nlp/lib/python3.9/site-packages/pyro/distributions/torch.py:205\u001b[0m, in \u001b[0;36mLogNormal.__init__\u001b[0;34m(self, loc, scale, validate_args)\u001b[0m\n\u001b[1;32m    204\u001b[0m \u001b[39mdef\u001b[39;00m \u001b[39m__init__\u001b[39m(\u001b[39mself\u001b[39m, loc, scale, validate_args\u001b[39m=\u001b[39m\u001b[39mNone\u001b[39;00m):\n\u001b[0;32m--> 205\u001b[0m     base_dist \u001b[39m=\u001b[39m Normal(loc, scale)\n\u001b[1;32m    206\u001b[0m     \u001b[39m# This differs from torch.distributions.LogNormal only in that base_dist is\u001b[39;00m\n\u001b[1;32m    207\u001b[0m     \u001b[39m# a pyro.distributions.Normal rather than a torch.distributions.Normal.\u001b[39;00m\n\u001b[1;32m    208\u001b[0m     \u001b[39msuper\u001b[39m(torch\u001b[39m.\u001b[39mdistributions\u001b[39m.\u001b[39mLogNormal, \u001b[39mself\u001b[39m)\u001b[39m.\u001b[39m\u001b[39m__init__\u001b[39m(\n\u001b[1;32m    209\u001b[0m         base_dist,\n\u001b[1;32m    210\u001b[0m         torch\u001b[39m.\u001b[39mdistributions\u001b[39m.\u001b[39mtransforms\u001b[39m.\u001b[39mExpTransform(),\n\u001b[1;32m    211\u001b[0m         validate_args\u001b[39m=\u001b[39mvalidate_args,\n\u001b[1;32m    212\u001b[0m     )\n",
      "File \u001b[0;32m/env_nlp/lib/python3.9/site-packages/pyro/distributions/distribution.py:24\u001b[0m, in \u001b[0;36mDistributionMeta.__call__\u001b[0;34m(cls, *args, **kwargs)\u001b[0m\n\u001b[1;32m     22\u001b[0m     \u001b[39mif\u001b[39;00m result \u001b[39mis\u001b[39;00m \u001b[39mnot\u001b[39;00m \u001b[39mNone\u001b[39;00m:\n\u001b[1;32m     23\u001b[0m         \u001b[39mreturn\u001b[39;00m result\n\u001b[0;32m---> 24\u001b[0m \u001b[39mreturn\u001b[39;00m \u001b[39msuper\u001b[39;49m()\u001b[39m.\u001b[39;49m\u001b[39m__call__\u001b[39;49m(\u001b[39m*\u001b[39;49margs, \u001b[39m*\u001b[39;49m\u001b[39m*\u001b[39;49mkwargs)\n",
      "File \u001b[0;32m/env_nlp/lib/python3.9/site-packages/torch/distributions/normal.py:56\u001b[0m, in \u001b[0;36mNormal.__init__\u001b[0;34m(self, loc, scale, validate_args)\u001b[0m\n\u001b[1;32m     54\u001b[0m \u001b[39melse\u001b[39;00m:\n\u001b[1;32m     55\u001b[0m     batch_shape \u001b[39m=\u001b[39m \u001b[39mself\u001b[39m\u001b[39m.\u001b[39mloc\u001b[39m.\u001b[39msize()\n\u001b[0;32m---> 56\u001b[0m \u001b[39msuper\u001b[39;49m()\u001b[39m.\u001b[39;49m\u001b[39m__init__\u001b[39;49m(batch_shape, validate_args\u001b[39m=\u001b[39;49mvalidate_args)\n",
      "File \u001b[0;32m/env_nlp/lib/python3.9/site-packages/torch/distributions/distribution.py:62\u001b[0m, in \u001b[0;36mDistribution.__init__\u001b[0;34m(self, batch_shape, event_shape, validate_args)\u001b[0m\n\u001b[1;32m     60\u001b[0m         valid \u001b[39m=\u001b[39m constraint\u001b[39m.\u001b[39mcheck(value)\n\u001b[1;32m     61\u001b[0m         \u001b[39mif\u001b[39;00m \u001b[39mnot\u001b[39;00m valid\u001b[39m.\u001b[39mall():\n\u001b[0;32m---> 62\u001b[0m             \u001b[39mraise\u001b[39;00m \u001b[39mValueError\u001b[39;00m(\n\u001b[1;32m     63\u001b[0m                 \u001b[39mf\u001b[39m\u001b[39m\"\u001b[39m\u001b[39mExpected parameter \u001b[39m\u001b[39m{\u001b[39;00mparam\u001b[39m}\u001b[39;00m\u001b[39m \u001b[39m\u001b[39m\"\u001b[39m\n\u001b[1;32m     64\u001b[0m                 \u001b[39mf\u001b[39m\u001b[39m\"\u001b[39m\u001b[39m(\u001b[39m\u001b[39m{\u001b[39;00m\u001b[39mtype\u001b[39m(value)\u001b[39m.\u001b[39m\u001b[39m__name__\u001b[39m\u001b[39m}\u001b[39;00m\u001b[39m of shape \u001b[39m\u001b[39m{\u001b[39;00m\u001b[39mtuple\u001b[39m(value\u001b[39m.\u001b[39mshape)\u001b[39m}\u001b[39;00m\u001b[39m) \u001b[39m\u001b[39m\"\u001b[39m\n\u001b[1;32m     65\u001b[0m                 \u001b[39mf\u001b[39m\u001b[39m\"\u001b[39m\u001b[39mof distribution \u001b[39m\u001b[39m{\u001b[39;00m\u001b[39mrepr\u001b[39m(\u001b[39mself\u001b[39m)\u001b[39m}\u001b[39;00m\u001b[39m \u001b[39m\u001b[39m\"\u001b[39m\n\u001b[1;32m     66\u001b[0m                 \u001b[39mf\u001b[39m\u001b[39m\"\u001b[39m\u001b[39mto satisfy the constraint \u001b[39m\u001b[39m{\u001b[39;00m\u001b[39mrepr\u001b[39m(constraint)\u001b[39m}\u001b[39;00m\u001b[39m, \u001b[39m\u001b[39m\"\u001b[39m\n\u001b[1;32m     67\u001b[0m                 \u001b[39mf\u001b[39m\u001b[39m\"\u001b[39m\u001b[39mbut found invalid values:\u001b[39m\u001b[39m\\n\u001b[39;00m\u001b[39m{\u001b[39;00mvalue\u001b[39m}\u001b[39;00m\u001b[39m\"\u001b[39m\n\u001b[1;32m     68\u001b[0m             )\n\u001b[1;32m     69\u001b[0m \u001b[39msuper\u001b[39m()\u001b[39m.\u001b[39m\u001b[39m__init__\u001b[39m()\n",
      "\u001b[0;31mValueError\u001b[0m: Expected parameter loc (Tensor of shape ()) of distribution Normal(loc: nan, scale: nan) to satisfy the constraint Real(), but found invalid values:\nnan\nTrace Shapes:    \n Param Sites:    \n         zloc 2  \n       zscale 2  \n         μloc    \n       μscale    \n         δloc    \n       δscale    \n         ϵloc    \n       ϵscale    \nSample Sites:    \n       z dist | 2\n        value | 2\n       μ dist |  \n        value |  \n       δ dist |  \n        value |  "
     ]
    }
   ],
   "source": [
    "losses = []\n",
    "for i in range(20000):\n",
    "    loss = train(i) / len(ytrain_norm)\n",
    "    optimizer.zero_grad()\n",
    "    loss.backward()\n",
    "    torch.nn.utils.clip_grad_norm_(params, 10.)\n",
    "    optimizer.step()\n",
    "    losses.append(loss.item())\n",
    "    "
   ]
  },
  {
   "cell_type": "code",
   "execution_count": null,
   "metadata": {},
   "outputs": [
    {
     "data": {
      "text/plain": [
       "[<matplotlib.lines.Line2D at 0x7f38180ea730>]"
      ]
     },
     "execution_count": 36,
     "metadata": {},
     "output_type": "execute_result"
    },
    {
     "data": {
      "image/png": "[encoded data removed]",
      "text/plain": [
       "<Figure size 800x550 with 1 Axes>"
      ]
     },
     "metadata": {},
     "output_type": "display_data"
    }
   ],
   "source": [
    "plt.plot(losses)"
   ]
  },
  {
   "cell_type": "code",
   "execution_count": null,
   "metadata": {},
   "outputs": [
    {
     "data": {
      "text/plain": [
       "[12.46843433380127,\n",
       " 10.655694007873535,\n",
       " 12.819190979003906,\n",
       " 12.951011657714844,\n",
       " 15.791682243347168,\n",
       " 13.774538040161133,\n",
       " 15.681482315063477,\n",
       " 12.237618446350098,\n",
       " 14.269937515258789,\n",
       " 11.619881629943848]"
      ]
     },
     "execution_count": 44,
     "metadata": {},
     "output_type": "execute_result"
    }
   ],
   "source": [
    "losses[-10:]"
   ]
  },
  {
   "cell_type": "code",
   "execution_count": null,
   "metadata": {},
   "outputs": [
    {
     "name": "stdout",
     "output_type": "stream",
     "text": [
      "[('zloc', tensor([-0.0122,  0.1575], requires_grad=True)), ('zscale', tensor([0.9768, 0.6016], grad_fn=<AddBackward0>)), ('μloc', tensor(-0.0923, requires_grad=True)), ('μscale', tensor(0.9466, grad_fn=<AddBackward0>)), ('δloc', tensor(-0.0132, requires_grad=True)), ('δscale', tensor(1.0541, grad_fn=<AddBackward0>)), ('ϵloc', tensor(9.5548, requires_grad=True)), ('ϵscale', tensor(0.0531, grad_fn=<AddBackward0>))]\n"
     ]
    }
   ],
   "source": [
    "print(list(pyro.get_param_store().items()))"
   ]
  },
  {
   "cell_type": "code",
   "execution_count": null,
   "metadata": {},
   "outputs": [],
   "source": [
    "def predict():\n",
    "    def run_model():\n",
    "        model(False)\n",
    "    guide_trace = poutine.trace(guide).get_trace()\n",
    "    model_trace = poutine.trace( poutine.replay(run_model, trace=guide_trace)).get_trace()\n",
    "    values = [] \n",
    "    for name, node in model_trace.nodes.items():\n",
    "        if \"y\" in name:\n",
    "            values.append(node[\"value\"])\n",
    "    return torch.hstack(values)"
   ]
  },
  {
   "cell_type": "code",
   "execution_count": null,
   "metadata": {},
   "outputs": [
    {
     "data": {
      "text/plain": [
       "tensor([-4.2356e+02, -4.9468e+02, -1.1629e+04, -9.5322e+02,  1.0540e+04,\n",
       "         2.2574e+03, -3.0769e+04,  1.3951e+04,  4.5144e+03,  1.0491e+04,\n",
       "         5.2556e+03, -2.1763e+04,  1.7465e+03,  3.7220e+03,  3.2314e+03,\n",
       "        -4.6058e+03, -1.0535e+04, -7.1317e+03, -1.0737e+04, -6.6410e+03,\n",
       "        -2.7978e+04,  1.8476e+04, -4.9249e+04, -5.0545e+03, -1.6939e+02,\n",
       "        -1.3893e+04,  1.0178e+04, -2.0368e+04,  2.5298e+04, -1.4261e+04,\n",
       "         1.6482e+04,  1.1448e+04, -2.5389e+03, -1.2768e+04, -1.1126e+04,\n",
       "        -7.3165e+03, -6.2747e+02, -3.2618e+04,  1.6146e+03, -2.0608e+04,\n",
       "         1.8256e+04,  7.8765e+03, -2.0791e+03,  7.7292e+03,  1.1221e+04,\n",
       "        -2.2436e+04,  1.5793e+04,  4.0516e+03,  3.7034e+03,  8.7473e+03,\n",
       "         2.3156e+03, -2.9362e+04,  1.2667e+04, -1.5911e+04, -6.2732e+03,\n",
       "         1.5333e+03,  1.4877e+04, -2.7563e+03, -1.1674e+04, -1.6159e+04,\n",
       "         1.1202e+03, -3.0680e+04, -9.2378e+03, -2.0397e+04,  1.4510e+04,\n",
       "        -1.5296e+04, -1.5525e+04, -8.3090e+03, -1.4360e+04, -4.1743e+03,\n",
       "         9.5724e+03,  1.0952e+03,  1.6332e+04,  1.9462e+04,  1.8711e+04,\n",
       "         6.2177e+03,  9.9991e+03, -2.3951e+04, -8.5378e+03,  1.2117e+04,\n",
       "         1.3844e+04, -1.1157e+04, -6.9654e+03, -8.7001e+03, -1.9641e+04,\n",
       "        -4.6077e+03, -1.2248e+04,  1.1628e+04, -1.2959e+04, -1.0787e+04,\n",
       "        -9.7772e+03,  5.8282e+03,  1.5797e+04, -6.5678e+03, -2.3648e+04,\n",
       "        -1.5940e+04,  1.4585e+04,  1.1542e+04, -1.2586e+04,  5.6034e+03,\n",
       "        -1.8692e+04,  2.6303e+04,  7.4225e+03,  5.9576e+03, -1.6046e+04,\n",
       "        -3.5058e+04,  2.3058e+03,  3.0023e+03, -1.0632e+03,  1.2301e+04,\n",
       "        -1.2280e+04, -2.1105e+04, -2.4792e+04,  6.9906e+03,  5.0398e+02,\n",
       "        -7.7301e+03,  1.5417e+04,  1.6475e+04, -7.5685e+02, -2.0572e+04,\n",
       "        -2.1516e+03,  5.7735e+03,  2.1943e+04, -9.7987e+03,  2.5788e+03,\n",
       "        -2.6388e+04, -4.1021e+03, -7.9263e+03, -1.6937e+04, -2.3720e+02,\n",
       "        -1.7012e+03, -4.7639e+03,  1.4609e+04, -8.6351e+01, -8.1588e+03,\n",
       "         1.4477e+04,  6.1531e+03,  1.0518e+04, -2.3138e+03,  1.4560e+03,\n",
       "         5.5436e+03, -1.7535e+04,  1.3554e+04,  3.4854e+03,  1.4459e+04,\n",
       "         2.8189e+03, -2.3455e+03, -1.0953e+04,  7.9442e+03,  6.4978e+03,\n",
       "        -6.0501e+03,  2.3926e+04,  5.3126e+03,  6.6075e+03, -1.1029e+04,\n",
       "        -1.8409e+04, -1.0483e+04, -1.1294e+04, -2.0503e+04,  1.4768e+04,\n",
       "        -8.2640e+03,  1.0054e+02, -1.4694e+04,  1.6900e+04, -1.0595e+04,\n",
       "        -1.2312e+04,  2.9343e+04, -2.0944e+04, -1.8469e+04,  2.3041e+03,\n",
       "         4.2023e+03, -8.1298e+03,  1.4856e+04,  6.8959e+03,  1.9509e+04,\n",
       "         8.8576e+03, -1.8298e+04, -1.6768e+02, -3.7672e+03,  5.5455e+03,\n",
       "        -1.0025e+03,  2.1353e+04,  5.9924e+03,  9.8652e+02, -3.1276e+03,\n",
       "         3.5355e+03,  4.8491e+03, -2.5780e+04, -2.3134e+04,  2.0106e+04,\n",
       "         2.2824e+04,  4.3359e+03,  3.8303e+03, -4.8612e+03,  1.3275e+04,\n",
       "         1.1494e+04, -9.8824e+03, -7.3211e+03,  1.9181e+03,  2.5614e+03,\n",
       "         7.5148e+03, -1.0420e+04,  1.3846e+04,  7.4206e+03,  1.5824e+04,\n",
       "        -1.8719e+04, -6.9841e+03,  6.7393e+03, -2.3782e+04, -1.4184e+04,\n",
       "         5.1600e+03, -8.3353e+03,  1.3078e+03,  4.7161e+03, -1.0410e+04,\n",
       "        -2.2518e+04, -2.5771e+03, -1.3183e+04,  1.4745e+04,  1.3157e+04,\n",
       "        -5.8372e+03,  3.2506e+04,  6.9151e+02, -5.6967e+03, -4.4606e+04,\n",
       "         2.0740e+04,  1.6124e+03, -1.6977e+04, -6.6558e+03, -1.1701e+03,\n",
       "         9.3163e+03, -1.2049e+04,  1.0259e+04, -1.1648e+04, -9.6056e+03,\n",
       "        -1.0668e+04, -3.9817e+03, -3.1345e+03,  1.1584e+04, -1.5188e+04,\n",
       "         1.0294e+04, -2.7383e+03, -1.4223e+04, -1.6746e+04, -6.4973e+03,\n",
       "         1.4391e+04, -4.7258e+03,  2.0225e+03, -2.5148e+04,  2.7677e+02,\n",
       "        -7.6708e+03, -7.0273e+03,  4.8029e+03, -1.3300e+04, -1.2084e+04,\n",
       "        -4.9139e+03, -8.0268e+03, -9.6925e+02,  2.4160e+04, -3.8341e+04,\n",
       "        -9.7881e+03, -3.3909e+03, -4.1729e+03, -6.8953e+03, -7.2278e+03,\n",
       "        -1.9454e+04,  3.9393e+03, -6.9562e+02,  1.5510e+04, -1.2333e+04,\n",
       "         2.2378e+04, -5.7968e+03,  8.6983e+00,  1.0314e+04, -1.6386e+04,\n",
       "        -5.8660e+02, -2.5075e+04,  4.9854e+03,  4.0866e+03,  4.3242e+03,\n",
       "         2.5310e+04, -6.1891e+03,  2.9001e+04, -2.5442e+04,  1.4206e+04,\n",
       "         3.0670e+03, -4.8605e+03, -1.2839e+03,  1.4160e+04,  1.2786e+04,\n",
       "         2.0699e+04, -1.9277e+04,  3.9171e+04, -1.0846e+04, -2.0214e+04,\n",
       "         1.9994e+03,  1.1403e+03,  5.4852e+03,  2.0554e+04,  3.4572e+03,\n",
       "        -1.0300e+03, -2.1398e+04, -3.9577e+03,  1.1161e+03,  3.7694e+03,\n",
       "        -8.2368e+03, -9.3452e+03, -2.8990e+03, -8.3600e+03, -9.9725e+03,\n",
       "        -2.1198e+04, -1.6254e+04, -1.4335e+04,  2.6813e+03, -1.4775e+02,\n",
       "         2.7680e+04,  1.1724e+04,  1.7362e+03, -1.9037e+04,  2.2832e+04,\n",
       "        -1.1650e+04, -1.2602e+04,  3.6229e+04,  2.2052e+03, -3.1460e+03,\n",
       "        -2.2739e+04, -5.8097e+03, -1.4402e+04, -6.6956e+03, -7.0949e+03,\n",
       "        -1.4605e+03, -1.8754e+04, -2.5839e+04, -3.3700e+04, -3.3382e+04,\n",
       "         1.4187e+04,  5.7123e+03,  6.4311e+03,  1.2815e+04, -5.1002e+03,\n",
       "        -1.3764e+04, -3.5170e+04, -1.6671e+03,  1.9092e+04,  5.5903e+03,\n",
       "         7.2895e+03, -1.6528e+04, -9.1873e+03,  1.0577e+04,  1.1734e+04,\n",
       "         8.7593e+03,  1.5778e+04,  1.7375e+04,  3.3039e+02, -3.3772e+04,\n",
       "         4.2277e+03,  8.1980e+03, -2.8945e+04,  1.2658e+03,  1.7897e+04,\n",
       "         7.3172e+03, -8.6463e+03,  1.5111e+03, -6.5904e+03, -1.7769e+03,\n",
       "        -1.3990e+04,  4.8159e+03, -1.6946e+03, -9.6543e+03,  6.3273e+03,\n",
       "         1.2585e+04, -2.8662e+04, -1.5984e+04,  1.9924e+04, -6.0016e+03,\n",
       "        -5.8606e+03,  1.8900e+04,  3.2342e+03, -2.6465e+04,  7.9350e+03,\n",
       "         2.9658e+03,  1.1540e+04, -2.9200e+04,  1.5789e+04,  8.3824e+03,\n",
       "        -9.7949e+03,  1.0302e+04,  4.4753e+03, -1.9076e+04, -1.5343e+04,\n",
       "        -2.3916e+03, -8.3988e+03,  4.4563e+03, -8.7883e+03,  9.9498e+03,\n",
       "        -1.3580e+04,  3.0779e+03,  5.8069e+03, -1.6049e+04,  1.4402e+04,\n",
       "        -3.5759e+03,  4.1917e+02, -3.2340e+03,  9.3487e+03,  6.2894e+03,\n",
       "        -1.9050e+04,  2.2368e+04,  7.0780e+03, -5.8320e+03,  1.3491e+04,\n",
       "        -9.8278e+03,  8.2998e+03,  3.8779e+03, -1.2939e+04, -5.7704e+03,\n",
       "         1.3302e+04, -1.3814e+04,  5.8082e+03,  1.7902e+04, -4.9016e+03,\n",
       "         1.9985e+04,  4.8710e+03, -2.5210e+03, -7.6485e+03,  1.4010e+04,\n",
       "        -1.2311e+04,  2.6713e+03, -2.2700e+03,  4.1908e+03, -6.3495e+03,\n",
       "        -1.5390e+04, -6.8778e+03, -1.1086e+04,  6.5879e+03,  1.1006e+04,\n",
       "        -2.4574e+03, -4.4362e+03,  1.3173e+04, -1.5199e+03,  8.9443e+03,\n",
       "        -1.5394e+03, -6.3778e+02,  2.2792e+04, -4.4469e+03,  2.0269e+03,\n",
       "        -1.2772e+04,  1.3012e+04, -4.2867e+03,  2.7227e+03,  8.2163e+03,\n",
       "        -2.6862e+04, -1.9661e+04, -7.6038e+03,  9.8167e+03, -6.6327e+03,\n",
       "         2.1314e+04, -1.6658e+04,  1.4772e+04,  8.1625e+03,  2.7991e+04,\n",
       "         5.9160e+03, -9.6544e+03,  1.5112e+04, -3.3376e+03,  4.0500e+02,\n",
       "         2.0187e+03, -1.2489e+04, -3.9407e+03, -5.6599e+03, -1.7213e+04,\n",
       "        -1.5790e+04,  1.5510e+04, -3.2403e+03, -1.4775e+04,  1.9883e+04,\n",
       "         1.4515e+03, -6.1333e+03, -1.0961e+04,  1.1002e+04, -1.4658e+04,\n",
       "         4.1348e+04,  7.6018e+03, -2.7007e+04,  3.1107e+04, -4.0096e+04,\n",
       "         1.9754e+04,  1.7159e+03, -8.0701e+02,  8.4555e+03,  1.6328e+03,\n",
       "         4.7875e+03, -2.6020e+04,  1.3551e+04,  2.0831e+03,  4.5046e+04,\n",
       "         8.1749e+03,  1.2679e+03, -1.7529e+04,  1.1822e+04, -2.4785e+04,\n",
       "         1.4954e+04, -1.5670e+04,  3.2063e+04,  3.4898e+04,  6.4031e+02,\n",
       "         1.3294e+04,  2.3040e+04,  1.5502e+04, -7.9763e+03, -8.8416e+03,\n",
       "         6.3681e+02, -1.9359e+03, -8.0658e+03, -4.7697e+03,  1.3554e+04,\n",
       "         1.6971e+04,  3.2411e+04, -1.4695e+03,  1.2033e+04,  3.7048e+04,\n",
       "         1.7020e+04, -1.4530e+04,  1.2444e+03,  9.8924e+03, -9.8006e+03,\n",
       "        -3.6846e+03,  6.1568e+02, -8.3705e+03,  1.5028e+04, -2.0887e+04,\n",
       "         1.5187e+04, -1.6153e+03, -3.2988e+03,  1.3066e+04,  8.0233e+03,\n",
       "         2.4735e+02, -2.7546e+04,  2.6009e+04,  1.0456e+03, -2.6285e+04,\n",
       "         1.4582e+04,  1.4143e+04,  4.2248e+02,  5.9035e+03, -6.0681e+03,\n",
       "        -5.3447e+03, -2.3939e+04,  2.0036e+04,  2.5530e+03, -2.2715e+04,\n",
       "        -2.1053e+04, -1.0589e+04,  1.3954e+04,  1.8303e+04, -1.2885e+03,\n",
       "        -1.7868e+04, -2.0676e+04,  8.1877e+03, -1.0231e+04, -1.6966e+04,\n",
       "         2.1733e+04, -6.4994e+03, -8.1609e+03, -1.7575e+04,  3.7554e+02,\n",
       "         5.4046e+03,  5.6434e+03, -1.9339e+04,  3.4683e+03, -6.8676e+03,\n",
       "         1.2136e+04, -3.7022e+03,  1.9404e+04, -1.0484e+04, -3.7648e+03,\n",
       "         2.2375e+04,  7.3007e+03, -3.4108e+03, -9.8141e+03,  5.9579e+03,\n",
       "        -8.7539e+03,  2.0208e+03,  1.8454e+04,  1.1017e+04,  2.9994e+04,\n",
       "        -4.0694e+03, -1.0221e+04,  7.1462e+03, -2.1351e+04, -1.4816e+04,\n",
       "        -6.1709e+03,  1.2358e+03, -1.2716e+04, -1.8505e+04,  1.6166e+04,\n",
       "         5.6829e+03,  5.1666e+03,  2.4493e+04,  4.1400e+03, -3.8756e+03,\n",
       "        -1.3516e+04,  4.2932e+04,  7.2632e+03,  1.9311e+04,  2.0787e+04,\n",
       "        -1.0001e+04,  1.5764e+04,  1.7423e+04,  1.9436e+03,  6.2132e+03,\n",
       "         1.3495e+04,  9.8103e+03,  2.4783e+04,  1.4648e+04,  1.1576e+04,\n",
       "         9.8648e+03,  3.9659e+03,  2.5080e+02,  1.2211e+03,  2.0234e+04,\n",
       "         2.3977e+04,  2.0477e+04,  3.1539e+04, -1.7269e+04,  4.4544e+04,\n",
       "        -2.6349e+03,  4.0540e+03,  1.1205e+04, -6.6223e+03, -1.4578e+04,\n",
       "         3.5646e+04, -8.1978e+03,  1.4548e+03,  1.5256e+04,  4.6220e+03,\n",
       "         2.2844e+04, -4.1179e+03,  1.6349e+04,  3.0594e+04, -4.1606e+03,\n",
       "         3.7289e+04,  1.2491e+04, -1.0059e+04,  2.4665e+04, -9.1452e+03,\n",
       "        -3.1819e+04,  3.7268e+04,  8.9953e+03, -1.8538e+02, -9.6814e+03,\n",
       "         1.8622e+03,  2.1818e+04,  1.1461e+04,  3.5828e+04,  2.5500e+04,\n",
       "         6.7003e+03,  7.7560e+03, -1.9055e+03,  2.1805e+04, -1.1508e+03,\n",
       "         1.5236e+04,  2.1229e+04,  2.3131e+04, -2.1550e+02,  5.7815e+03,\n",
       "        -6.2165e+03, -8.5268e+03, -2.0366e+04,  1.7876e+04, -1.8468e+04,\n",
       "         9.8523e+03,  1.7660e+04,  3.1769e+03, -5.1707e+02,  1.7135e+04,\n",
       "        -2.5103e+04, -3.2606e+03, -1.3909e+04,  2.3546e+04,  2.3524e+04,\n",
       "        -2.4858e+02,  1.3368e+04,  1.8014e+04,  8.5592e+02,  5.5302e+03,\n",
       "        -3.9145e+01,  3.4033e+04,  1.5095e+04, -1.3447e+04,  1.3791e+04,\n",
       "        -3.3185e+04, -2.2521e+03, -2.0203e+04,  1.7200e+04,  1.0432e+04,\n",
       "        -6.5407e+03, -1.0885e+04,  1.3309e+04, -1.3291e+04,  1.5955e+04,\n",
       "         2.0678e+04,  1.6812e+03,  8.4331e+03,  4.4710e+03, -2.1017e+04,\n",
       "         2.6536e+03,  2.1271e+04,  1.0483e+03,  3.8076e+03,  2.1964e+03,\n",
       "        -9.9962e+03,  1.8318e+04, -1.1454e+04,  1.1731e+04,  1.0124e+04,\n",
       "         6.9922e+03,  6.2831e+02,  6.0606e+02, -1.8872e+03,  6.6873e+03,\n",
       "        -2.3382e+04,  2.5529e+04,  7.2552e+03,  1.5851e+04,  2.9482e+03,\n",
       "        -1.8898e+04,  5.7635e+03, -1.3146e+04,  5.3251e+03,  1.5496e+04,\n",
       "         9.0705e+03, -6.6694e+03, -1.9581e+03,  9.8316e+03,  1.5716e+04,\n",
       "         2.8558e+04,  2.7118e+04, -1.3737e+04,  7.3863e+03,  1.3815e+04,\n",
       "        -1.0619e+04,  1.4996e+04, -2.4001e+04, -1.1308e+04,  2.0200e+04,\n",
       "         2.2621e+04,  3.5628e+03,  8.1829e+03,  1.9575e+04,  1.0031e+04,\n",
       "         6.6084e+03,  5.5168e+03, -1.4410e+04,  4.9423e+03, -1.9752e+04,\n",
       "         8.6990e+03,  1.7109e+04,  1.9396e+04,  1.1628e+04,  2.2133e+04,\n",
       "         2.1779e+03, -5.1826e+02, -1.2951e+04,  2.7779e+03, -7.4648e+03,\n",
       "        -8.9763e+03,  2.0583e+04, -1.0335e+04, -2.5586e+02, -9.5335e+03,\n",
       "         1.7577e+04, -2.9045e+03,  7.4777e+03,  2.5745e+04,  8.0689e+03,\n",
       "         3.1554e+04, -7.8539e+03,  1.9390e+03,  2.5210e+03, -4.7286e+03,\n",
       "         3.1008e+04, -4.3078e+02], grad_fn=<CatBackward0>)"
      ]
     },
     "execution_count": 48,
     "metadata": {},
     "output_type": "execute_result"
    }
   ],
   "source": [
    "predict()"
   ]
  },
  {
   "cell_type": "code",
   "execution_count": null,
   "metadata": {},
   "outputs": [],
   "source": []
  }
 ],
 "metadata": {
  "kernelspec": {
   "display_name": "env_nlp",
   "language": "python",
   "name": "python3"
  },
  "language_info": {
   "codemirror_mode": {
    "name": "ipython",
    "version": 3
   },
   "file_extension": ".py",
   "mimetype": "text/x-python",
   "name": "python",
   "nbconvert_exporter": "python",
   "pygments_lexer": "ipython3",
   "version": "3.9.2"
  }
 },
 "nbformat": 4,
 "nbformat_minor": 2
}
