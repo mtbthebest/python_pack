{
 "cells": [
  {
   "cell_type": "code",
   "execution_count": 1,
   "metadata": {},
   "outputs": [
    {
     "name": "stderr",
     "output_type": "stream",
     "text": [
      "/env_dl/lib/python3.10/site-packages/tqdm/auto.py:21: TqdmWarning: IProgress not found. Please update jupyter and ipywidgets. See https://ipywidgets.readthedocs.io/en/stable/user_install.html\n",
      "  from .autonotebook import tqdm as notebook_tqdm\n"
     ]
    }
   ],
   "source": [
    "%load_ext autoreload\n",
    "%autoreload 2\n",
    "\n",
    "import numpy as np\n",
    "import pandas as pd\n",
    "import matplotlib as mpl\n",
    "import matplotlib.pyplot as plt\n",
    "import seaborn as sns\n",
    "import torch\n",
    "import pyro\n",
    "import pyro.distributions as dist\n",
    "from pyro.distributions import constraints\n",
    "from pyro import infer, poutine\n",
    "from pyro.infer.autoguide import AutoNormal\n",
    "from pyro.nn.module import PyroParam, PyroModule, PyroSample\n",
    "from pyro.contrib.gp import Parameterized\n",
    "from pyro.poutine.messenger import Messenger\n",
    "plt.style.use(\"seaborn-v0_8\")"
   ]
  },
  {
   "cell_type": "code",
   "execution_count": 2,
   "metadata": {},
   "outputs": [],
   "source": [
    "co2_df = pd.read_csv(\"/mnt/dl/machine_learning_dataset/atmospheric_co2_mauna_loa/monthly_in_situ_co2_mlo.csv\",\n",
    "                     skiprows=57)"
   ]
  },
  {
   "cell_type": "code",
   "execution_count": 3,
   "metadata": {},
   "outputs": [
    {
     "data": {
      "text/html": [
       "<div>\n",
       "<style scoped>\n",
       "    .dataframe tbody tr th:only-of-type {\n",
       "        vertical-align: middle;\n",
       "    }\n",
       "\n",
       "    .dataframe tbody tr th {\n",
       "        vertical-align: top;\n",
       "    }\n",
       "\n",
       "    .dataframe thead th {\n",
       "        text-align: right;\n",
       "    }\n",
       "</style>\n",
       "<table border=\"1\" class=\"dataframe\">\n",
       "  <thead>\n",
       "    <tr style=\"text-align: right;\">\n",
       "      <th></th>\n",
       "      <th>Yr</th>\n",
       "      <th>Mn</th>\n",
       "      <th>Date</th>\n",
       "      <th>Date</th>\n",
       "      <th>CO2</th>\n",
       "      <th>seasonally</th>\n",
       "      <th>fit</th>\n",
       "      <th>seasonally</th>\n",
       "      <th>CO2</th>\n",
       "      <th>seasonally</th>\n",
       "      <th>Sta</th>\n",
       "    </tr>\n",
       "  </thead>\n",
       "  <tbody>\n",
       "    <tr>\n",
       "      <th>0</th>\n",
       "      <td></td>\n",
       "      <td></td>\n",
       "      <td></td>\n",
       "      <td></td>\n",
       "      <td></td>\n",
       "      <td>adjusted</td>\n",
       "      <td></td>\n",
       "      <td>adjusted fit</td>\n",
       "      <td>filled</td>\n",
       "      <td>adjusted filled</td>\n",
       "      <td>NaN</td>\n",
       "    </tr>\n",
       "    <tr>\n",
       "      <th>1</th>\n",
       "      <td></td>\n",
       "      <td></td>\n",
       "      <td>Excel</td>\n",
       "      <td></td>\n",
       "      <td>[ppm]</td>\n",
       "      <td>[ppm]</td>\n",
       "      <td>[ppm]</td>\n",
       "      <td>[ppm]</td>\n",
       "      <td>[ppm]</td>\n",
       "      <td>[ppm]</td>\n",
       "      <td>NaN</td>\n",
       "    </tr>\n",
       "    <tr>\n",
       "      <th>2</th>\n",
       "      <td>1958</td>\n",
       "      <td>01</td>\n",
       "      <td>21200</td>\n",
       "      <td>1958.0411</td>\n",
       "      <td>-99.99</td>\n",
       "      <td>-99.99</td>\n",
       "      <td>-99.99</td>\n",
       "      <td>-99.99</td>\n",
       "      <td>-99.99</td>\n",
       "      <td>-99.99</td>\n",
       "      <td>MLO</td>\n",
       "    </tr>\n",
       "    <tr>\n",
       "      <th>3</th>\n",
       "      <td>1958</td>\n",
       "      <td>02</td>\n",
       "      <td>21231</td>\n",
       "      <td>1958.1260</td>\n",
       "      <td>-99.99</td>\n",
       "      <td>-99.99</td>\n",
       "      <td>-99.99</td>\n",
       "      <td>-99.99</td>\n",
       "      <td>-99.99</td>\n",
       "      <td>-99.99</td>\n",
       "      <td>MLO</td>\n",
       "    </tr>\n",
       "    <tr>\n",
       "      <th>4</th>\n",
       "      <td>1958</td>\n",
       "      <td>03</td>\n",
       "      <td>21259</td>\n",
       "      <td>1958.2027</td>\n",
       "      <td>315.71</td>\n",
       "      <td>314.44</td>\n",
       "      <td>316.19</td>\n",
       "      <td>314.91</td>\n",
       "      <td>315.71</td>\n",
       "      <td>314.44</td>\n",
       "      <td>MLO</td>\n",
       "    </tr>\n",
       "    <tr>\n",
       "      <th>...</th>\n",
       "      <td>...</td>\n",
       "      <td>...</td>\n",
       "      <td>...</td>\n",
       "      <td>...</td>\n",
       "      <td>...</td>\n",
       "      <td>...</td>\n",
       "      <td>...</td>\n",
       "      <td>...</td>\n",
       "      <td>...</td>\n",
       "      <td>...</td>\n",
       "      <td>...</td>\n",
       "    </tr>\n",
       "    <tr>\n",
       "      <th>789</th>\n",
       "      <td>2023</td>\n",
       "      <td>08</td>\n",
       "      <td>45153</td>\n",
       "      <td>2023.6219</td>\n",
       "      <td>419.56</td>\n",
       "      <td>421.11</td>\n",
       "      <td>419.58</td>\n",
       "      <td>421.18</td>\n",
       "      <td>419.56</td>\n",
       "      <td>421.11</td>\n",
       "      <td>MLO</td>\n",
       "    </tr>\n",
       "    <tr>\n",
       "      <th>790</th>\n",
       "      <td>2023</td>\n",
       "      <td>09</td>\n",
       "      <td>45184</td>\n",
       "      <td>2023.7068</td>\n",
       "      <td>418.07</td>\n",
       "      <td>421.57</td>\n",
       "      <td>417.96</td>\n",
       "      <td>421.48</td>\n",
       "      <td>418.07</td>\n",
       "      <td>421.57</td>\n",
       "      <td>MLO</td>\n",
       "    </tr>\n",
       "    <tr>\n",
       "      <th>791</th>\n",
       "      <td>2023</td>\n",
       "      <td>10</td>\n",
       "      <td>45214</td>\n",
       "      <td>2023.7890</td>\n",
       "      <td>-99.99</td>\n",
       "      <td>-99.99</td>\n",
       "      <td>-99.99</td>\n",
       "      <td>-99.99</td>\n",
       "      <td>-99.99</td>\n",
       "      <td>-99.99</td>\n",
       "      <td>MLO</td>\n",
       "    </tr>\n",
       "    <tr>\n",
       "      <th>792</th>\n",
       "      <td>2023</td>\n",
       "      <td>11</td>\n",
       "      <td>45245</td>\n",
       "      <td>2023.8740</td>\n",
       "      <td>-99.99</td>\n",
       "      <td>-99.99</td>\n",
       "      <td>-99.99</td>\n",
       "      <td>-99.99</td>\n",
       "      <td>-99.99</td>\n",
       "      <td>-99.99</td>\n",
       "      <td>MLO</td>\n",
       "    </tr>\n",
       "    <tr>\n",
       "      <th>793</th>\n",
       "      <td>2023</td>\n",
       "      <td>12</td>\n",
       "      <td>45275</td>\n",
       "      <td>2023.9562</td>\n",
       "      <td>-99.99</td>\n",
       "      <td>-99.99</td>\n",
       "      <td>-99.99</td>\n",
       "      <td>-99.99</td>\n",
       "      <td>-99.99</td>\n",
       "      <td>-99.99</td>\n",
       "      <td>MLO</td>\n",
       "    </tr>\n",
       "  </tbody>\n",
       "</table>\n",
       "<p>794 rows × 11 columns</p>\n",
       "</div>"
      ],
      "text/plain": [
       "       Yr   Mn      Date         Date       CO2  seasonally          fit   \n",
       "0                                                  adjusted               \\\n",
       "1                  Excel                  [ppm]      [ppm]         [ppm]   \n",
       "2    1958   01     21200    1958.0411    -99.99      -99.99       -99.99   \n",
       "3    1958   02     21231    1958.1260    -99.99      -99.99       -99.99   \n",
       "4    1958   03     21259    1958.2027    315.71      314.44       316.19   \n",
       "..    ...  ...       ...          ...       ...         ...          ...   \n",
       "789  2023   08     45153    2023.6219    419.56      421.11       419.58   \n",
       "790  2023   09     45184    2023.7068    418.07      421.57       417.96   \n",
       "791  2023   10     45214    2023.7890    -99.99      -99.99       -99.99   \n",
       "792  2023   11     45245    2023.8740    -99.99      -99.99       -99.99   \n",
       "793  2023   12     45275    2023.9562    -99.99      -99.99       -99.99   \n",
       "\n",
       "       seasonally           CO2       seasonally   Sta  \n",
       "0    adjusted fit        filled  adjusted filled   NaN  \n",
       "1           [ppm]         [ppm]            [ppm]   NaN  \n",
       "2          -99.99        -99.99           -99.99   MLO  \n",
       "3          -99.99        -99.99           -99.99   MLO  \n",
       "4          314.91        315.71           314.44   MLO  \n",
       "..            ...           ...              ...   ...  \n",
       "789        421.18        419.56           421.11   MLO  \n",
       "790        421.48        418.07           421.57   MLO  \n",
       "791        -99.99        -99.99           -99.99   MLO  \n",
       "792        -99.99        -99.99           -99.99   MLO  \n",
       "793        -99.99        -99.99           -99.99   MLO  \n",
       "\n",
       "[794 rows x 11 columns]"
      ]
     },
     "execution_count": 3,
     "metadata": {},
     "output_type": "execute_result"
    }
   ],
   "source": [
    "co2_df"
   ]
  },
  {
   "cell_type": "code",
   "execution_count": 4,
   "metadata": {},
   "outputs": [
    {
     "data": {
      "text/plain": [
       "Index(['  Yr', ' Mn', '    Date', '      Date', '     CO2', 'seasonally',\n",
       "       '        fit', '  seasonally', '      CO2', ' seasonally', ' Sta'],\n",
       "      dtype='object')"
      ]
     },
     "execution_count": 4,
     "metadata": {},
     "output_type": "execute_result"
    }
   ],
   "source": [
    "co2_df.columns"
   ]
  },
  {
   "cell_type": "code",
   "execution_count": 5,
   "metadata": {},
   "outputs": [],
   "source": [
    "co2_df = co2_df.loc[2:,['  Yr', ' Mn', '     CO2',]]"
   ]
  },
  {
   "cell_type": "code",
   "execution_count": 6,
   "metadata": {},
   "outputs": [],
   "source": [
    "new_cols = list(map(lambda x: x.strip(), co2_df.columns))"
   ]
  },
  {
   "cell_type": "code",
   "execution_count": 7,
   "metadata": {},
   "outputs": [
    {
     "data": {
      "text/plain": [
       "['Yr', 'Mn', 'CO2']"
      ]
     },
     "execution_count": 7,
     "metadata": {},
     "output_type": "execute_result"
    }
   ],
   "source": [
    "new_cols "
   ]
  },
  {
   "cell_type": "code",
   "execution_count": 8,
   "metadata": {},
   "outputs": [],
   "source": [
    "co2_df = co2_df.rename(columns=dict(zip(co2_df.columns, new_cols)))"
   ]
  },
  {
   "cell_type": "code",
   "execution_count": 9,
   "metadata": {},
   "outputs": [
    {
     "data": {
      "text/html": [
       "<div>\n",
       "<style scoped>\n",
       "    .dataframe tbody tr th:only-of-type {\n",
       "        vertical-align: middle;\n",
       "    }\n",
       "\n",
       "    .dataframe tbody tr th {\n",
       "        vertical-align: top;\n",
       "    }\n",
       "\n",
       "    .dataframe thead th {\n",
       "        text-align: right;\n",
       "    }\n",
       "</style>\n",
       "<table border=\"1\" class=\"dataframe\">\n",
       "  <thead>\n",
       "    <tr style=\"text-align: right;\">\n",
       "      <th></th>\n",
       "      <th>Yr</th>\n",
       "      <th>Mn</th>\n",
       "      <th>CO2</th>\n",
       "    </tr>\n",
       "  </thead>\n",
       "  <tbody>\n",
       "    <tr>\n",
       "      <th>2</th>\n",
       "      <td>1958</td>\n",
       "      <td>01</td>\n",
       "      <td>-99.99</td>\n",
       "    </tr>\n",
       "    <tr>\n",
       "      <th>3</th>\n",
       "      <td>1958</td>\n",
       "      <td>02</td>\n",
       "      <td>-99.99</td>\n",
       "    </tr>\n",
       "    <tr>\n",
       "      <th>4</th>\n",
       "      <td>1958</td>\n",
       "      <td>03</td>\n",
       "      <td>315.71</td>\n",
       "    </tr>\n",
       "    <tr>\n",
       "      <th>5</th>\n",
       "      <td>1958</td>\n",
       "      <td>04</td>\n",
       "      <td>317.45</td>\n",
       "    </tr>\n",
       "    <tr>\n",
       "      <th>6</th>\n",
       "      <td>1958</td>\n",
       "      <td>05</td>\n",
       "      <td>317.51</td>\n",
       "    </tr>\n",
       "    <tr>\n",
       "      <th>...</th>\n",
       "      <td>...</td>\n",
       "      <td>...</td>\n",
       "      <td>...</td>\n",
       "    </tr>\n",
       "    <tr>\n",
       "      <th>789</th>\n",
       "      <td>2023</td>\n",
       "      <td>08</td>\n",
       "      <td>419.56</td>\n",
       "    </tr>\n",
       "    <tr>\n",
       "      <th>790</th>\n",
       "      <td>2023</td>\n",
       "      <td>09</td>\n",
       "      <td>418.07</td>\n",
       "    </tr>\n",
       "    <tr>\n",
       "      <th>791</th>\n",
       "      <td>2023</td>\n",
       "      <td>10</td>\n",
       "      <td>-99.99</td>\n",
       "    </tr>\n",
       "    <tr>\n",
       "      <th>792</th>\n",
       "      <td>2023</td>\n",
       "      <td>11</td>\n",
       "      <td>-99.99</td>\n",
       "    </tr>\n",
       "    <tr>\n",
       "      <th>793</th>\n",
       "      <td>2023</td>\n",
       "      <td>12</td>\n",
       "      <td>-99.99</td>\n",
       "    </tr>\n",
       "  </tbody>\n",
       "</table>\n",
       "<p>792 rows × 3 columns</p>\n",
       "</div>"
      ],
      "text/plain": [
       "       Yr   Mn       CO2\n",
       "2    1958   01    -99.99\n",
       "3    1958   02    -99.99\n",
       "4    1958   03    315.71\n",
       "5    1958   04    317.45\n",
       "6    1958   05    317.51\n",
       "..    ...  ...       ...\n",
       "789  2023   08    419.56\n",
       "790  2023   09    418.07\n",
       "791  2023   10    -99.99\n",
       "792  2023   11    -99.99\n",
       "793  2023   12    -99.99\n",
       "\n",
       "[792 rows x 3 columns]"
      ]
     },
     "execution_count": 9,
     "metadata": {},
     "output_type": "execute_result"
    }
   ],
   "source": [
    "co2_df"
   ]
  },
  {
   "cell_type": "code",
   "execution_count": 10,
   "metadata": {},
   "outputs": [],
   "source": [
    "co2_df.Yr = co2_df.Yr.astype(int)\n",
    "co2_df.Mn = co2_df.Mn.astype(int)\n",
    "co2_df.CO2 = co2_df.CO2.astype(float)"
   ]
  },
  {
   "cell_type": "code",
   "execution_count": 11,
   "metadata": {},
   "outputs": [],
   "source": [
    "# Drop Missing\n",
    "data = co2_df.copy()\n",
    "data = data[data[\"CO2\"] != -99.99]"
   ]
  },
  {
   "cell_type": "code",
   "execution_count": 12,
   "metadata": {},
   "outputs": [
    {
     "data": {
      "text/html": [
       "<div>\n",
       "<style scoped>\n",
       "    .dataframe tbody tr th:only-of-type {\n",
       "        vertical-align: middle;\n",
       "    }\n",
       "\n",
       "    .dataframe tbody tr th {\n",
       "        vertical-align: top;\n",
       "    }\n",
       "\n",
       "    .dataframe thead th {\n",
       "        text-align: right;\n",
       "    }\n",
       "</style>\n",
       "<table border=\"1\" class=\"dataframe\">\n",
       "  <thead>\n",
       "    <tr style=\"text-align: right;\">\n",
       "      <th></th>\n",
       "      <th>Yr</th>\n",
       "      <th>Mn</th>\n",
       "      <th>CO2</th>\n",
       "    </tr>\n",
       "  </thead>\n",
       "  <tbody>\n",
       "    <tr>\n",
       "      <th>4</th>\n",
       "      <td>1958</td>\n",
       "      <td>3</td>\n",
       "      <td>315.71</td>\n",
       "    </tr>\n",
       "    <tr>\n",
       "      <th>5</th>\n",
       "      <td>1958</td>\n",
       "      <td>4</td>\n",
       "      <td>317.45</td>\n",
       "    </tr>\n",
       "    <tr>\n",
       "      <th>6</th>\n",
       "      <td>1958</td>\n",
       "      <td>5</td>\n",
       "      <td>317.51</td>\n",
       "    </tr>\n",
       "    <tr>\n",
       "      <th>8</th>\n",
       "      <td>1958</td>\n",
       "      <td>7</td>\n",
       "      <td>315.87</td>\n",
       "    </tr>\n",
       "    <tr>\n",
       "      <th>9</th>\n",
       "      <td>1958</td>\n",
       "      <td>8</td>\n",
       "      <td>314.93</td>\n",
       "    </tr>\n",
       "    <tr>\n",
       "      <th>...</th>\n",
       "      <td>...</td>\n",
       "      <td>...</td>\n",
       "      <td>...</td>\n",
       "    </tr>\n",
       "    <tr>\n",
       "      <th>786</th>\n",
       "      <td>2023</td>\n",
       "      <td>5</td>\n",
       "      <td>423.78</td>\n",
       "    </tr>\n",
       "    <tr>\n",
       "      <th>787</th>\n",
       "      <td>2023</td>\n",
       "      <td>6</td>\n",
       "      <td>423.39</td>\n",
       "    </tr>\n",
       "    <tr>\n",
       "      <th>788</th>\n",
       "      <td>2023</td>\n",
       "      <td>7</td>\n",
       "      <td>421.62</td>\n",
       "    </tr>\n",
       "    <tr>\n",
       "      <th>789</th>\n",
       "      <td>2023</td>\n",
       "      <td>8</td>\n",
       "      <td>419.56</td>\n",
       "    </tr>\n",
       "    <tr>\n",
       "      <th>790</th>\n",
       "      <td>2023</td>\n",
       "      <td>9</td>\n",
       "      <td>418.07</td>\n",
       "    </tr>\n",
       "  </tbody>\n",
       "</table>\n",
       "<p>782 rows × 3 columns</p>\n",
       "</div>"
      ],
      "text/plain": [
       "       Yr  Mn     CO2\n",
       "4    1958   3  315.71\n",
       "5    1958   4  317.45\n",
       "6    1958   5  317.51\n",
       "8    1958   7  315.87\n",
       "9    1958   8  314.93\n",
       "..    ...  ..     ...\n",
       "786  2023   5  423.78\n",
       "787  2023   6  423.39\n",
       "788  2023   7  421.62\n",
       "789  2023   8  419.56\n",
       "790  2023   9  418.07\n",
       "\n",
       "[782 rows x 3 columns]"
      ]
     },
     "execution_count": 12,
     "metadata": {},
     "output_type": "execute_result"
    }
   ],
   "source": [
    "data"
   ]
  },
  {
   "cell_type": "code",
   "execution_count": 13,
   "metadata": {},
   "outputs": [
    {
     "name": "stdout",
     "output_type": "stream",
     "text": [
      "<class 'pandas.core.frame.DataFrame'>\n",
      "Index: 782 entries, 4 to 790\n",
      "Data columns (total 3 columns):\n",
      " #   Column  Non-Null Count  Dtype  \n",
      "---  ------  --------------  -----  \n",
      " 0   Yr      782 non-null    int64  \n",
      " 1   Mn      782 non-null    int64  \n",
      " 2   CO2     782 non-null    float64\n",
      "dtypes: float64(1), int64(2)\n",
      "memory usage: 24.4 KB\n"
     ]
    }
   ],
   "source": [
    "data.info()"
   ]
  },
  {
   "cell_type": "code",
   "execution_count": 14,
   "metadata": {},
   "outputs": [],
   "source": [
    "data[\"date\"] = data.apply(lambda x: pd.to_datetime(f\"{int(x.Yr):04}/{int(x.Mn):02d}\",), axis=1)"
   ]
  },
  {
   "cell_type": "code",
   "execution_count": 15,
   "metadata": {},
   "outputs": [
    {
     "data": {
      "text/html": [
       "<div>\n",
       "<style scoped>\n",
       "    .dataframe tbody tr th:only-of-type {\n",
       "        vertical-align: middle;\n",
       "    }\n",
       "\n",
       "    .dataframe tbody tr th {\n",
       "        vertical-align: top;\n",
       "    }\n",
       "\n",
       "    .dataframe thead th {\n",
       "        text-align: right;\n",
       "    }\n",
       "</style>\n",
       "<table border=\"1\" class=\"dataframe\">\n",
       "  <thead>\n",
       "    <tr style=\"text-align: right;\">\n",
       "      <th></th>\n",
       "      <th>Yr</th>\n",
       "      <th>Mn</th>\n",
       "      <th>CO2</th>\n",
       "      <th>date</th>\n",
       "    </tr>\n",
       "  </thead>\n",
       "  <tbody>\n",
       "    <tr>\n",
       "      <th>4</th>\n",
       "      <td>1958</td>\n",
       "      <td>3</td>\n",
       "      <td>315.71</td>\n",
       "      <td>1958-03-01</td>\n",
       "    </tr>\n",
       "    <tr>\n",
       "      <th>5</th>\n",
       "      <td>1958</td>\n",
       "      <td>4</td>\n",
       "      <td>317.45</td>\n",
       "      <td>1958-04-01</td>\n",
       "    </tr>\n",
       "    <tr>\n",
       "      <th>6</th>\n",
       "      <td>1958</td>\n",
       "      <td>5</td>\n",
       "      <td>317.51</td>\n",
       "      <td>1958-05-01</td>\n",
       "    </tr>\n",
       "    <tr>\n",
       "      <th>8</th>\n",
       "      <td>1958</td>\n",
       "      <td>7</td>\n",
       "      <td>315.87</td>\n",
       "      <td>1958-07-01</td>\n",
       "    </tr>\n",
       "    <tr>\n",
       "      <th>9</th>\n",
       "      <td>1958</td>\n",
       "      <td>8</td>\n",
       "      <td>314.93</td>\n",
       "      <td>1958-08-01</td>\n",
       "    </tr>\n",
       "    <tr>\n",
       "      <th>...</th>\n",
       "      <td>...</td>\n",
       "      <td>...</td>\n",
       "      <td>...</td>\n",
       "      <td>...</td>\n",
       "    </tr>\n",
       "    <tr>\n",
       "      <th>786</th>\n",
       "      <td>2023</td>\n",
       "      <td>5</td>\n",
       "      <td>423.78</td>\n",
       "      <td>2023-05-01</td>\n",
       "    </tr>\n",
       "    <tr>\n",
       "      <th>787</th>\n",
       "      <td>2023</td>\n",
       "      <td>6</td>\n",
       "      <td>423.39</td>\n",
       "      <td>2023-06-01</td>\n",
       "    </tr>\n",
       "    <tr>\n",
       "      <th>788</th>\n",
       "      <td>2023</td>\n",
       "      <td>7</td>\n",
       "      <td>421.62</td>\n",
       "      <td>2023-07-01</td>\n",
       "    </tr>\n",
       "    <tr>\n",
       "      <th>789</th>\n",
       "      <td>2023</td>\n",
       "      <td>8</td>\n",
       "      <td>419.56</td>\n",
       "      <td>2023-08-01</td>\n",
       "    </tr>\n",
       "    <tr>\n",
       "      <th>790</th>\n",
       "      <td>2023</td>\n",
       "      <td>9</td>\n",
       "      <td>418.07</td>\n",
       "      <td>2023-09-01</td>\n",
       "    </tr>\n",
       "  </tbody>\n",
       "</table>\n",
       "<p>782 rows × 4 columns</p>\n",
       "</div>"
      ],
      "text/plain": [
       "       Yr  Mn     CO2       date\n",
       "4    1958   3  315.71 1958-03-01\n",
       "5    1958   4  317.45 1958-04-01\n",
       "6    1958   5  317.51 1958-05-01\n",
       "8    1958   7  315.87 1958-07-01\n",
       "9    1958   8  314.93 1958-08-01\n",
       "..    ...  ..     ...        ...\n",
       "786  2023   5  423.78 2023-05-01\n",
       "787  2023   6  423.39 2023-06-01\n",
       "788  2023   7  421.62 2023-07-01\n",
       "789  2023   8  419.56 2023-08-01\n",
       "790  2023   9  418.07 2023-09-01\n",
       "\n",
       "[782 rows x 4 columns]"
      ]
     },
     "execution_count": 15,
     "metadata": {},
     "output_type": "execute_result"
    }
   ],
   "source": [
    "data"
   ]
  },
  {
   "cell_type": "code",
   "execution_count": 16,
   "metadata": {},
   "outputs": [
    {
     "data": {
      "text/plain": [
       "Text(0, 0.5, 'CO2')"
      ]
     },
     "execution_count": 16,
     "metadata": {},
     "output_type": "execute_result"
    },
    {
     "data": {
      "image/png": "[encoded data removed]",
      "text/plain": [
       "<Figure size 800x550 with 1 Axes>"
      ]
     },
     "metadata": {},
     "output_type": "display_data"
    }
   ],
   "source": [
    "fig, ax = plt.subplots()\n",
    "ax.plot(data[\"date\"], data[\"CO2\"])\n",
    "ax.set_xlabel(\"Year\")\n",
    "ax.set_ylabel(\"CO2\")"
   ]
  },
  {
   "cell_type": "code",
   "execution_count": 17,
   "metadata": {},
   "outputs": [],
   "source": [
    "data = data.set_index(\"date\", drop=True)"
   ]
  },
  {
   "cell_type": "code",
   "execution_count": 18,
   "metadata": {},
   "outputs": [
    {
     "data": {
      "text/html": [
       "<div>\n",
       "<style scoped>\n",
       "    .dataframe tbody tr th:only-of-type {\n",
       "        vertical-align: middle;\n",
       "    }\n",
       "\n",
       "    .dataframe tbody tr th {\n",
       "        vertical-align: top;\n",
       "    }\n",
       "\n",
       "    .dataframe thead th {\n",
       "        text-align: right;\n",
       "    }\n",
       "</style>\n",
       "<table border=\"1\" class=\"dataframe\">\n",
       "  <thead>\n",
       "    <tr style=\"text-align: right;\">\n",
       "      <th></th>\n",
       "      <th>Yr</th>\n",
       "      <th>Mn</th>\n",
       "      <th>CO2</th>\n",
       "    </tr>\n",
       "    <tr>\n",
       "      <th>date</th>\n",
       "      <th></th>\n",
       "      <th></th>\n",
       "      <th></th>\n",
       "    </tr>\n",
       "  </thead>\n",
       "  <tbody>\n",
       "    <tr>\n",
       "      <th>1958-03-01</th>\n",
       "      <td>1958</td>\n",
       "      <td>3</td>\n",
       "      <td>315.71</td>\n",
       "    </tr>\n",
       "    <tr>\n",
       "      <th>1958-04-01</th>\n",
       "      <td>1958</td>\n",
       "      <td>4</td>\n",
       "      <td>317.45</td>\n",
       "    </tr>\n",
       "    <tr>\n",
       "      <th>1958-05-01</th>\n",
       "      <td>1958</td>\n",
       "      <td>5</td>\n",
       "      <td>317.51</td>\n",
       "    </tr>\n",
       "    <tr>\n",
       "      <th>1958-07-01</th>\n",
       "      <td>1958</td>\n",
       "      <td>7</td>\n",
       "      <td>315.87</td>\n",
       "    </tr>\n",
       "    <tr>\n",
       "      <th>1958-08-01</th>\n",
       "      <td>1958</td>\n",
       "      <td>8</td>\n",
       "      <td>314.93</td>\n",
       "    </tr>\n",
       "    <tr>\n",
       "      <th>...</th>\n",
       "      <td>...</td>\n",
       "      <td>...</td>\n",
       "      <td>...</td>\n",
       "    </tr>\n",
       "    <tr>\n",
       "      <th>2023-05-01</th>\n",
       "      <td>2023</td>\n",
       "      <td>5</td>\n",
       "      <td>423.78</td>\n",
       "    </tr>\n",
       "    <tr>\n",
       "      <th>2023-06-01</th>\n",
       "      <td>2023</td>\n",
       "      <td>6</td>\n",
       "      <td>423.39</td>\n",
       "    </tr>\n",
       "    <tr>\n",
       "      <th>2023-07-01</th>\n",
       "      <td>2023</td>\n",
       "      <td>7</td>\n",
       "      <td>421.62</td>\n",
       "    </tr>\n",
       "    <tr>\n",
       "      <th>2023-08-01</th>\n",
       "      <td>2023</td>\n",
       "      <td>8</td>\n",
       "      <td>419.56</td>\n",
       "    </tr>\n",
       "    <tr>\n",
       "      <th>2023-09-01</th>\n",
       "      <td>2023</td>\n",
       "      <td>9</td>\n",
       "      <td>418.07</td>\n",
       "    </tr>\n",
       "  </tbody>\n",
       "</table>\n",
       "<p>782 rows × 3 columns</p>\n",
       "</div>"
      ],
      "text/plain": [
       "              Yr  Mn     CO2\n",
       "date                        \n",
       "1958-03-01  1958   3  315.71\n",
       "1958-04-01  1958   4  317.45\n",
       "1958-05-01  1958   5  317.51\n",
       "1958-07-01  1958   7  315.87\n",
       "1958-08-01  1958   8  314.93\n",
       "...          ...  ..     ...\n",
       "2023-05-01  2023   5  423.78\n",
       "2023-06-01  2023   6  423.39\n",
       "2023-07-01  2023   7  421.62\n",
       "2023-08-01  2023   8  419.56\n",
       "2023-09-01  2023   9  418.07\n",
       "\n",
       "[782 rows x 3 columns]"
      ]
     },
     "execution_count": 18,
     "metadata": {},
     "output_type": "execute_result"
    }
   ],
   "source": [
    "data"
   ]
  },
  {
   "cell_type": "code",
   "execution_count": 19,
   "metadata": {},
   "outputs": [],
   "source": [
    "data = data.query(\"date >= 1960\")"
   ]
  },
  {
   "cell_type": "code",
   "execution_count": 20,
   "metadata": {},
   "outputs": [
    {
     "data": {
      "text/plain": [
       "Text(0, 0.5, 'CO2')"
      ]
     },
     "execution_count": 20,
     "metadata": {},
     "output_type": "execute_result"
    },
    {
     "data": {
      "image/png": "[encoded data removed]",
      "text/plain": [
       "<Figure size 800x550 with 1 Axes>"
      ]
     },
     "metadata": {},
     "output_type": "display_data"
    }
   ],
   "source": [
    "fig, ax = plt.subplots()\n",
    "ax.plot(data.index, data[\"CO2\"])\n",
    "ax.set_xlabel(\"Year\")\n",
    "ax.set_ylabel(\"CO2\")"
   ]
  },
  {
   "cell_type": "code",
   "execution_count": 21,
   "metadata": {},
   "outputs": [
    {
     "data": {
      "text/plain": [
       "Text(0, 0.5, 'CO2')"
      ]
     },
     "execution_count": 21,
     "metadata": {},
     "output_type": "execute_result"
    },
    {
     "data": {
      "image/png": "[encoded data removed]",
      "text/plain": [
       "<Figure size 800x550 with 1 Axes>"
      ]
     },
     "metadata": {},
     "output_type": "display_data"
    }
   ],
   "source": [
    "S = 8\n",
    "fig, ax = plt.subplots()\n",
    "ax.plot(data.index[:S], data[\"CO2\"][:S])\n",
    "ax.set_xlabel(\"Year\")\n",
    "ax.set_ylabel(\"CO2\")"
   ]
  },
  {
   "cell_type": "code",
   "execution_count": 22,
   "metadata": {},
   "outputs": [
    {
     "name": "stderr",
     "output_type": "stream",
     "text": [
      "/tmp/ipykernel_10831/2352591742.py:1: SettingWithCopyWarning: \n",
      "A value is trying to be set on a copy of a slice from a DataFrame.\n",
      "Try using .loc[row_indexer,col_indexer] = value instead\n",
      "\n",
      "See the caveats in the documentation: https://pandas.pydata.org/pandas-docs/stable/user_guide/indexing.html#returning-a-view-versus-a-copy\n",
      "  data.loc[:, \"time\"] = 0.\n"
     ]
    }
   ],
   "source": [
    "data.loc[:, \"time\"] = 0."
   ]
  },
  {
   "cell_type": "code",
   "execution_count": 23,
   "metadata": {},
   "outputs": [],
   "source": [
    "data.iloc[1:, -1] = np.cumsum((data.index[1:]  - data.index[:-1]).days)"
   ]
  },
  {
   "cell_type": "code",
   "execution_count": 24,
   "metadata": {},
   "outputs": [
    {
     "data": {
      "text/html": [
       "<div>\n",
       "<style scoped>\n",
       "    .dataframe tbody tr th:only-of-type {\n",
       "        vertical-align: middle;\n",
       "    }\n",
       "\n",
       "    .dataframe tbody tr th {\n",
       "        vertical-align: top;\n",
       "    }\n",
       "\n",
       "    .dataframe thead th {\n",
       "        text-align: right;\n",
       "    }\n",
       "</style>\n",
       "<table border=\"1\" class=\"dataframe\">\n",
       "  <thead>\n",
       "    <tr style=\"text-align: right;\">\n",
       "      <th></th>\n",
       "      <th>Yr</th>\n",
       "      <th>Mn</th>\n",
       "      <th>CO2</th>\n",
       "      <th>time</th>\n",
       "    </tr>\n",
       "    <tr>\n",
       "      <th>date</th>\n",
       "      <th></th>\n",
       "      <th></th>\n",
       "      <th></th>\n",
       "      <th></th>\n",
       "    </tr>\n",
       "  </thead>\n",
       "  <tbody>\n",
       "    <tr>\n",
       "      <th>1960-01-01</th>\n",
       "      <td>1960</td>\n",
       "      <td>1</td>\n",
       "      <td>316.43</td>\n",
       "      <td>0.0</td>\n",
       "    </tr>\n",
       "    <tr>\n",
       "      <th>1960-02-01</th>\n",
       "      <td>1960</td>\n",
       "      <td>2</td>\n",
       "      <td>316.98</td>\n",
       "      <td>31.0</td>\n",
       "    </tr>\n",
       "    <tr>\n",
       "      <th>1960-03-01</th>\n",
       "      <td>1960</td>\n",
       "      <td>3</td>\n",
       "      <td>317.58</td>\n",
       "      <td>60.0</td>\n",
       "    </tr>\n",
       "    <tr>\n",
       "      <th>1960-04-01</th>\n",
       "      <td>1960</td>\n",
       "      <td>4</td>\n",
       "      <td>319.03</td>\n",
       "      <td>91.0</td>\n",
       "    </tr>\n",
       "    <tr>\n",
       "      <th>1960-05-01</th>\n",
       "      <td>1960</td>\n",
       "      <td>5</td>\n",
       "      <td>320.03</td>\n",
       "      <td>121.0</td>\n",
       "    </tr>\n",
       "    <tr>\n",
       "      <th>...</th>\n",
       "      <td>...</td>\n",
       "      <td>...</td>\n",
       "      <td>...</td>\n",
       "      <td>...</td>\n",
       "    </tr>\n",
       "    <tr>\n",
       "      <th>2023-05-01</th>\n",
       "      <td>2023</td>\n",
       "      <td>5</td>\n",
       "      <td>423.78</td>\n",
       "      <td>23131.0</td>\n",
       "    </tr>\n",
       "    <tr>\n",
       "      <th>2023-06-01</th>\n",
       "      <td>2023</td>\n",
       "      <td>6</td>\n",
       "      <td>423.39</td>\n",
       "      <td>23162.0</td>\n",
       "    </tr>\n",
       "    <tr>\n",
       "      <th>2023-07-01</th>\n",
       "      <td>2023</td>\n",
       "      <td>7</td>\n",
       "      <td>421.62</td>\n",
       "      <td>23192.0</td>\n",
       "    </tr>\n",
       "    <tr>\n",
       "      <th>2023-08-01</th>\n",
       "      <td>2023</td>\n",
       "      <td>8</td>\n",
       "      <td>419.56</td>\n",
       "      <td>23223.0</td>\n",
       "    </tr>\n",
       "    <tr>\n",
       "      <th>2023-09-01</th>\n",
       "      <td>2023</td>\n",
       "      <td>9</td>\n",
       "      <td>418.07</td>\n",
       "      <td>23254.0</td>\n",
       "    </tr>\n",
       "  </tbody>\n",
       "</table>\n",
       "<p>762 rows × 4 columns</p>\n",
       "</div>"
      ],
      "text/plain": [
       "              Yr  Mn     CO2     time\n",
       "date                                 \n",
       "1960-01-01  1960   1  316.43      0.0\n",
       "1960-02-01  1960   2  316.98     31.0\n",
       "1960-03-01  1960   3  317.58     60.0\n",
       "1960-04-01  1960   4  319.03     91.0\n",
       "1960-05-01  1960   5  320.03    121.0\n",
       "...          ...  ..     ...      ...\n",
       "2023-05-01  2023   5  423.78  23131.0\n",
       "2023-06-01  2023   6  423.39  23162.0\n",
       "2023-07-01  2023   7  421.62  23192.0\n",
       "2023-08-01  2023   8  419.56  23223.0\n",
       "2023-09-01  2023   9  418.07  23254.0\n",
       "\n",
       "[762 rows x 4 columns]"
      ]
     },
     "execution_count": 24,
     "metadata": {},
     "output_type": "execute_result"
    }
   ],
   "source": [
    "data"
   ]
  },
  {
   "cell_type": "code",
   "execution_count": 25,
   "metadata": {},
   "outputs": [],
   "source": [
    "data.loc[:, \"time\"] = np.arange(0., len(data))"
   ]
  },
  {
   "cell_type": "code",
   "execution_count": 26,
   "metadata": {},
   "outputs": [
    {
     "data": {
      "text/html": [
       "<div>\n",
       "<style scoped>\n",
       "    .dataframe tbody tr th:only-of-type {\n",
       "        vertical-align: middle;\n",
       "    }\n",
       "\n",
       "    .dataframe tbody tr th {\n",
       "        vertical-align: top;\n",
       "    }\n",
       "\n",
       "    .dataframe thead th {\n",
       "        text-align: right;\n",
       "    }\n",
       "</style>\n",
       "<table border=\"1\" class=\"dataframe\">\n",
       "  <thead>\n",
       "    <tr style=\"text-align: right;\">\n",
       "      <th></th>\n",
       "      <th>Yr</th>\n",
       "      <th>Mn</th>\n",
       "      <th>CO2</th>\n",
       "      <th>time</th>\n",
       "    </tr>\n",
       "    <tr>\n",
       "      <th>date</th>\n",
       "      <th></th>\n",
       "      <th></th>\n",
       "      <th></th>\n",
       "      <th></th>\n",
       "    </tr>\n",
       "  </thead>\n",
       "  <tbody>\n",
       "    <tr>\n",
       "      <th>1960-01-01</th>\n",
       "      <td>1960</td>\n",
       "      <td>1</td>\n",
       "      <td>316.43</td>\n",
       "      <td>0.0</td>\n",
       "    </tr>\n",
       "    <tr>\n",
       "      <th>1960-02-01</th>\n",
       "      <td>1960</td>\n",
       "      <td>2</td>\n",
       "      <td>316.98</td>\n",
       "      <td>1.0</td>\n",
       "    </tr>\n",
       "    <tr>\n",
       "      <th>1960-03-01</th>\n",
       "      <td>1960</td>\n",
       "      <td>3</td>\n",
       "      <td>317.58</td>\n",
       "      <td>2.0</td>\n",
       "    </tr>\n",
       "    <tr>\n",
       "      <th>1960-04-01</th>\n",
       "      <td>1960</td>\n",
       "      <td>4</td>\n",
       "      <td>319.03</td>\n",
       "      <td>3.0</td>\n",
       "    </tr>\n",
       "    <tr>\n",
       "      <th>1960-05-01</th>\n",
       "      <td>1960</td>\n",
       "      <td>5</td>\n",
       "      <td>320.03</td>\n",
       "      <td>4.0</td>\n",
       "    </tr>\n",
       "    <tr>\n",
       "      <th>...</th>\n",
       "      <td>...</td>\n",
       "      <td>...</td>\n",
       "      <td>...</td>\n",
       "      <td>...</td>\n",
       "    </tr>\n",
       "    <tr>\n",
       "      <th>2023-05-01</th>\n",
       "      <td>2023</td>\n",
       "      <td>5</td>\n",
       "      <td>423.78</td>\n",
       "      <td>757.0</td>\n",
       "    </tr>\n",
       "    <tr>\n",
       "      <th>2023-06-01</th>\n",
       "      <td>2023</td>\n",
       "      <td>6</td>\n",
       "      <td>423.39</td>\n",
       "      <td>758.0</td>\n",
       "    </tr>\n",
       "    <tr>\n",
       "      <th>2023-07-01</th>\n",
       "      <td>2023</td>\n",
       "      <td>7</td>\n",
       "      <td>421.62</td>\n",
       "      <td>759.0</td>\n",
       "    </tr>\n",
       "    <tr>\n",
       "      <th>2023-08-01</th>\n",
       "      <td>2023</td>\n",
       "      <td>8</td>\n",
       "      <td>419.56</td>\n",
       "      <td>760.0</td>\n",
       "    </tr>\n",
       "    <tr>\n",
       "      <th>2023-09-01</th>\n",
       "      <td>2023</td>\n",
       "      <td>9</td>\n",
       "      <td>418.07</td>\n",
       "      <td>761.0</td>\n",
       "    </tr>\n",
       "  </tbody>\n",
       "</table>\n",
       "<p>762 rows × 4 columns</p>\n",
       "</div>"
      ],
      "text/plain": [
       "              Yr  Mn     CO2   time\n",
       "date                               \n",
       "1960-01-01  1960   1  316.43    0.0\n",
       "1960-02-01  1960   2  316.98    1.0\n",
       "1960-03-01  1960   3  317.58    2.0\n",
       "1960-04-01  1960   4  319.03    3.0\n",
       "1960-05-01  1960   5  320.03    4.0\n",
       "...          ...  ..     ...    ...\n",
       "2023-05-01  2023   5  423.78  757.0\n",
       "2023-06-01  2023   6  423.39  758.0\n",
       "2023-07-01  2023   7  421.62  759.0\n",
       "2023-08-01  2023   8  419.56  760.0\n",
       "2023-09-01  2023   9  418.07  761.0\n",
       "\n",
       "[762 rows x 4 columns]"
      ]
     },
     "execution_count": 26,
     "metadata": {},
     "output_type": "execute_result"
    }
   ],
   "source": [
    "data"
   ]
  },
  {
   "cell_type": "code",
   "execution_count": 27,
   "metadata": {},
   "outputs": [],
   "source": [
    "data.loc[:, \"time\"] /= 1000.0"
   ]
  },
  {
   "cell_type": "code",
   "execution_count": 28,
   "metadata": {},
   "outputs": [
    {
     "data": {
      "text/html": [
       "<div>\n",
       "<style scoped>\n",
       "    .dataframe tbody tr th:only-of-type {\n",
       "        vertical-align: middle;\n",
       "    }\n",
       "\n",
       "    .dataframe tbody tr th {\n",
       "        vertical-align: top;\n",
       "    }\n",
       "\n",
       "    .dataframe thead th {\n",
       "        text-align: right;\n",
       "    }\n",
       "</style>\n",
       "<table border=\"1\" class=\"dataframe\">\n",
       "  <thead>\n",
       "    <tr style=\"text-align: right;\">\n",
       "      <th></th>\n",
       "      <th>Yr</th>\n",
       "      <th>Mn</th>\n",
       "      <th>CO2</th>\n",
       "      <th>time</th>\n",
       "    </tr>\n",
       "    <tr>\n",
       "      <th>date</th>\n",
       "      <th></th>\n",
       "      <th></th>\n",
       "      <th></th>\n",
       "      <th></th>\n",
       "    </tr>\n",
       "  </thead>\n",
       "  <tbody>\n",
       "    <tr>\n",
       "      <th>1960-01-01</th>\n",
       "      <td>1960</td>\n",
       "      <td>1</td>\n",
       "      <td>316.43</td>\n",
       "      <td>0.000</td>\n",
       "    </tr>\n",
       "    <tr>\n",
       "      <th>1960-02-01</th>\n",
       "      <td>1960</td>\n",
       "      <td>2</td>\n",
       "      <td>316.98</td>\n",
       "      <td>0.001</td>\n",
       "    </tr>\n",
       "    <tr>\n",
       "      <th>1960-03-01</th>\n",
       "      <td>1960</td>\n",
       "      <td>3</td>\n",
       "      <td>317.58</td>\n",
       "      <td>0.002</td>\n",
       "    </tr>\n",
       "    <tr>\n",
       "      <th>1960-04-01</th>\n",
       "      <td>1960</td>\n",
       "      <td>4</td>\n",
       "      <td>319.03</td>\n",
       "      <td>0.003</td>\n",
       "    </tr>\n",
       "    <tr>\n",
       "      <th>1960-05-01</th>\n",
       "      <td>1960</td>\n",
       "      <td>5</td>\n",
       "      <td>320.03</td>\n",
       "      <td>0.004</td>\n",
       "    </tr>\n",
       "    <tr>\n",
       "      <th>...</th>\n",
       "      <td>...</td>\n",
       "      <td>...</td>\n",
       "      <td>...</td>\n",
       "      <td>...</td>\n",
       "    </tr>\n",
       "    <tr>\n",
       "      <th>2023-05-01</th>\n",
       "      <td>2023</td>\n",
       "      <td>5</td>\n",
       "      <td>423.78</td>\n",
       "      <td>0.757</td>\n",
       "    </tr>\n",
       "    <tr>\n",
       "      <th>2023-06-01</th>\n",
       "      <td>2023</td>\n",
       "      <td>6</td>\n",
       "      <td>423.39</td>\n",
       "      <td>0.758</td>\n",
       "    </tr>\n",
       "    <tr>\n",
       "      <th>2023-07-01</th>\n",
       "      <td>2023</td>\n",
       "      <td>7</td>\n",
       "      <td>421.62</td>\n",
       "      <td>0.759</td>\n",
       "    </tr>\n",
       "    <tr>\n",
       "      <th>2023-08-01</th>\n",
       "      <td>2023</td>\n",
       "      <td>8</td>\n",
       "      <td>419.56</td>\n",
       "      <td>0.760</td>\n",
       "    </tr>\n",
       "    <tr>\n",
       "      <th>2023-09-01</th>\n",
       "      <td>2023</td>\n",
       "      <td>9</td>\n",
       "      <td>418.07</td>\n",
       "      <td>0.761</td>\n",
       "    </tr>\n",
       "  </tbody>\n",
       "</table>\n",
       "<p>762 rows × 4 columns</p>\n",
       "</div>"
      ],
      "text/plain": [
       "              Yr  Mn     CO2   time\n",
       "date                               \n",
       "1960-01-01  1960   1  316.43  0.000\n",
       "1960-02-01  1960   2  316.98  0.001\n",
       "1960-03-01  1960   3  317.58  0.002\n",
       "1960-04-01  1960   4  319.03  0.003\n",
       "1960-05-01  1960   5  320.03  0.004\n",
       "...          ...  ..     ...    ...\n",
       "2023-05-01  2023   5  423.78  0.757\n",
       "2023-06-01  2023   6  423.39  0.758\n",
       "2023-07-01  2023   7  421.62  0.759\n",
       "2023-08-01  2023   8  419.56  0.760\n",
       "2023-09-01  2023   9  418.07  0.761\n",
       "\n",
       "[762 rows x 4 columns]"
      ]
     },
     "execution_count": 28,
     "metadata": {},
     "output_type": "execute_result"
    }
   ],
   "source": [
    "data"
   ]
  },
  {
   "cell_type": "code",
   "execution_count": 29,
   "metadata": {},
   "outputs": [],
   "source": [
    "x = data.time.values.tolist()\n",
    "y = torch.tensor(data.CO2.values).float()"
   ]
  },
  {
   "cell_type": "code",
   "execution_count": 30,
   "metadata": {},
   "outputs": [],
   "source": [
    "ytrain = y.cuda()"
   ]
  },
  {
   "cell_type": "code",
   "execution_count": 31,
   "metadata": {},
   "outputs": [],
   "source": [
    "ytrain = (ytrain - ytrain.mean()) / ytrain.std()"
   ]
  },
  {
   "cell_type": "code",
   "execution_count": 32,
   "metadata": {},
   "outputs": [],
   "source": [
    "n = len(ytrain)\n",
    "ytest = ytrain[int(0.85 * n):]\n",
    "ytrain =  ytrain[:int(0.85 * n)]\n",
    "assert len(ytest) + len(ytrain) == n"
   ]
  },
  {
   "cell_type": "code",
   "execution_count": 33,
   "metadata": {},
   "outputs": [
    {
     "data": {
      "text/plain": [
       "[<matplotlib.lines.Line2D at 0x7faf37b9b400>]"
      ]
     },
     "execution_count": 33,
     "metadata": {},
     "output_type": "execute_result"
    },
    {
     "data": {
      "image/png": "[encoded data removed]",
      "text/plain": [
       "<Figure size 800x550 with 1 Axes>"
      ]
     },
     "metadata": {},
     "output_type": "display_data"
    }
   ],
   "source": [
    "plt.plot(ytest.detach().cpu())"
   ]
  },
  {
   "cell_type": "code",
   "execution_count": 34,
   "metadata": {},
   "outputs": [
    {
     "data": {
      "text/plain": [
       "[<matplotlib.lines.Line2D at 0x7faf37bdca60>]"
      ]
     },
     "execution_count": 34,
     "metadata": {},
     "output_type": "execute_result"
    },
    {
     "data": {
      "image/png": "[encoded data removed]",
      "text/plain": [
       "<Figure size 800x550 with 1 Axes>"
      ]
     },
     "metadata": {},
     "output_type": "display_data"
    }
   ],
   "source": [
    "plt.plot(ytrain.detach().cpu())"
   ]
  },
  {
   "cell_type": "code",
   "execution_count": 35,
   "metadata": {},
   "outputs": [
    {
     "data": {
      "text/plain": [
       "[<matplotlib.lines.Line2D at 0x7faf1eaef7f0>]"
      ]
     },
     "execution_count": 35,
     "metadata": {},
     "output_type": "execute_result"
    },
    {
     "data": {
      "image/png": "[encoded data removed]",
      "text/plain": [
       "<Figure size 800x550 with 1 Axes>"
      ]
     },
     "metadata": {},
     "output_type": "display_data"
    }
   ],
   "source": [
    "# plt.plot(ytrain[64:64+16].detach().cpu())\n",
    "plt.plot(ytrain[502:502+16].detach().cpu())"
   ]
  },
  {
   "cell_type": "code",
   "execution_count": 36,
   "metadata": {},
   "outputs": [
    {
     "data": {
      "text/plain": [
       "647"
      ]
     },
     "execution_count": 36,
     "metadata": {},
     "output_type": "execute_result"
    }
   ],
   "source": [
    "len(ytrain)"
   ]
  },
  {
   "cell_type": "code",
   "execution_count": 37,
   "metadata": {},
   "outputs": [
    {
     "data": {
      "text/plain": [
       "tensor([[  0,   1,   2,  ...,   6,   7,   8],\n",
       "        [  1,   2,   3,  ...,   7,   8,   9],\n",
       "        [  2,   3,   4,  ...,   8,   9,  10],\n",
       "        ...,\n",
       "        [636, 637, 638,  ..., 642, 643, 644],\n",
       "        [637, 638, 639,  ..., 643, 644, 645],\n",
       "        [638, 639, 640,  ..., 644, 645, 646]], device='cuda:0')"
      ]
     },
     "execution_count": 37,
     "metadata": {},
     "output_type": "execute_result"
    }
   ],
   "source": [
    "batch_t = torch.arange(S + 1).unsqueeze_(0)\n",
    "batch_t = batch_t.repeat((len(ytrain) - S, 1))\n",
    "batch_t = batch_t + torch.arange(batch_t.size(0)).unsqueeze_(1)\n",
    "batch_t = batch_t.cuda()\n",
    "batch_t"
   ]
  },
  {
   "cell_type": "code",
   "execution_count": 38,
   "metadata": {},
   "outputs": [
    {
     "data": {
      "text/plain": [
       "tensor([[-1.4112, -1.3932, -1.3736,  ..., -1.3540, -1.4285, -1.4850],\n",
       "        [-1.3932, -1.3736, -1.3263,  ..., -1.4285, -1.4850, -1.4961],\n",
       "        [-1.3736, -1.3263, -1.2936,  ..., -1.4850, -1.4961, -1.4579],\n",
       "        ...,\n",
       "        [ 1.2666,  1.3195,  1.2836,  ...,  1.1141,  1.1631,  1.2163],\n",
       "        [ 1.3195,  1.2836,  1.2343,  ...,  1.1631,  1.2163,  1.2525],\n",
       "        [ 1.2836,  1.2343,  1.1703,  ...,  1.2163,  1.2525,  1.2581]],\n",
       "       device='cuda:0')"
      ]
     },
     "execution_count": 38,
     "metadata": {},
     "output_type": "execute_result"
    }
   ],
   "source": [
    "batch_y = ytrain[batch_t.flatten()].view(batch_t.size())\n",
    "batch_y "
   ]
  },
  {
   "cell_type": "code",
   "execution_count": 39,
   "metadata": {},
   "outputs": [
    {
     "data": {
      "text/plain": [
       "tensor([5.])"
      ]
     },
     "execution_count": 39,
     "metadata": {},
     "output_type": "execute_result"
    }
   ],
   "source": [
    "z = torch.ones(1, requires_grad=True)\n",
    "w = [z , 2*z.square()]\n",
    "sum(w).backward()\n",
    "z.grad"
   ]
  },
  {
   "cell_type": "code",
   "execution_count": 40,
   "metadata": {},
   "outputs": [],
   "source": [
    "class LinearSTS(PyroModule):\n",
    "    \n",
    "    def __init__(self, seasons):\n",
    "        super().__init__()\n",
    "        self.seasons = seasons\n",
    "        \n",
    "        self.σs = PyroParam(torch.tensor(5.e-3), constraint=constraints.positive)\n",
    "        self.σμ = PyroParam(torch.tensor(5.e-2), constraint=constraints.positive)\n",
    "        self.σδ = PyroParam(torch.tensor(5.e-3), constraint=constraints.positive)\n",
    "        self.σy = PyroParam(torch.tensor(5.e-3), constraint=constraints.positive)\n",
    "\n",
    "        st = [1.e-1] * (self.seasons - 1)\n",
    "        self.st = PyroParam(torch.tensor(st))\n",
    "        \n",
    "        self.δloc = PyroParam(torch.tensor(1.e-2))\n",
    "        self.μloc = PyroParam(torch.tensor(0.1))\n",
    "        \n",
    "    def forward(self, snext):\n",
    "        T = len(snext)\n",
    "        δt = self.δloc\n",
    "        μt = self.μloc\n",
    "        data = {\"δt\": [δt], \"μt\": [μt], \"st\": self.st, \"yt\": []}\n",
    "        \n",
    "        for i in pyro.markov(range(T)):\n",
    "            self.forward_step(i, snext, data)\n",
    "        \n",
    "        return data\n",
    "    \n",
    "    def forward_step(self, step, snext, data=None):\n",
    "        δt = data[\"δt\"][-1]\n",
    "        μt = data[\"μt\"][-1]\n",
    "        \n",
    "        st = None\n",
    "        if data[\"st\"] is not None:\n",
    "            st = data[\"st\"]\n",
    "        \n",
    "        δt =  pyro.sample(f\"δt_{step}\", dist.Normal(δt, self.σδ).mask(False))\n",
    "        μt = pyro.sample(f\"μt_{step}\", dist.Normal(μt + δt, self.σμ).mask(False))\n",
    "        st_cycle = 0.\n",
    "        if st is not None:\n",
    "            st_cycle = pyro.sample(f\"st_{step}\", dist.Normal(-st.sum(), self.σs).mask(False))\n",
    "            st = torch.cat((st[1:].clone(), st_cycle.unsqueeze(0)))\n",
    "            \n",
    "        yt = pyro.sample(f\"yt_{step}\", dist.Normal(μt + st_cycle, self.σy), obs=snext[step])\n",
    "        \n",
    "        if data is not None:\n",
    "            data[\"st\"] = st\n",
    "            data[\"δt\"].append(δt)\n",
    "            data[\"μt\"].append(μt)\n",
    "            data[\"yt\"].append(yt)\n",
    "    \n",
    "    def predict(self):\n",
    "        pass\n"
   ]
  },
  {
   "cell_type": "code",
   "execution_count": 41,
   "metadata": {},
   "outputs": [],
   "source": [
    "pyro.clear_param_store()\n",
    "pyro.set_rng_seed(0)\n",
    "model = LinearSTS(S).cuda()"
   ]
  },
  {
   "cell_type": "code",
   "execution_count": 42,
   "metadata": {},
   "outputs": [],
   "source": [
    "trace = poutine.trace(model, param_only=True).get_trace(batch_y[:, -1])"
   ]
  },
  {
   "cell_type": "code",
   "execution_count": 43,
   "metadata": {},
   "outputs": [],
   "source": [
    "params = [ p[\"value\"].unconstrained() for _, p in trace.nodes.items()]"
   ]
  },
  {
   "cell_type": "code",
   "execution_count": 44,
   "metadata": {},
   "outputs": [
    {
     "data": {
      "text/plain": [
       "[Parameter containing:\n",
       " tensor(0.0100, device='cuda:0', requires_grad=True),\n",
       " Parameter containing:\n",
       " tensor(0.1000, device='cuda:0', requires_grad=True),\n",
       " Parameter containing:\n",
       " tensor([0.1000, 0.1000, 0.1000, 0.1000, 0.1000, 0.1000, 0.1000],\n",
       "        device='cuda:0', requires_grad=True),\n",
       " Parameter containing:\n",
       " tensor(-5.2983, device='cuda:0', requires_grad=True),\n",
       " Parameter containing:\n",
       " tensor(-2.9957, device='cuda:0', requires_grad=True),\n",
       " Parameter containing:\n",
       " tensor(-5.2983, device='cuda:0', requires_grad=True),\n",
       " Parameter containing:\n",
       " tensor(-5.2983, device='cuda:0', requires_grad=True)]"
      ]
     },
     "execution_count": 44,
     "metadata": {},
     "output_type": "execute_result"
    }
   ],
   "source": [
    "params"
   ]
  },
  {
   "cell_type": "code",
   "execution_count": 45,
   "metadata": {},
   "outputs": [
    {
     "name": "stdout",
     "output_type": "stream",
     "text": [
      "[0.59134441614151, 1.0475434064865112, 0.4388193190097809, 1.9880319833755493, 3.4748663902282715, 6.562243938446045, 6.9165873527526855, 0.4915750324726105, 0.6038786172866821, 0.4803953766822815]\n"
     ]
    },
    {
     "data": {
      "image/png": "[encoded data removed]",
      "text/plain": [
       "<Figure size 1600x600 with 2 Axes>"
      ]
     },
     "metadata": {},
     "output_type": "display_data"
    }
   ],
   "source": [
    "def train(model, batch_y, params, optimizer, eps):\n",
    "    T = len(batch_y)\n",
    "    losses = []\n",
    "    for i in range(eps):\n",
    "        trace = poutine.trace(model).get_trace(batch_y[:, -1])\n",
    "        loss = 0.\n",
    "        for _, site in trace.nodes.items():\n",
    "            if \"yt\" in site[\"name\"]:\n",
    "                loss = loss + site[\"fn\"].log_prob(site[\"value\"])\n",
    "        loss /= T\n",
    "        loss = loss.neg()\n",
    "        \n",
    "        optimizer.zero_grad()\n",
    "        loss.backward()\n",
    "        torch.nn.utils.clip_grad_norm_(params, 10)\n",
    "        optimizer.step()\n",
    "        losses.append(loss.detach().item())\n",
    "    \n",
    "    fig, (ax1, ax2) = plt.subplots(1, 2, figsize=(16, 6))\n",
    "    yhat = model([None] * len(batch_y[:, -1]))[\"yt\"]\n",
    "    yhat = [i.detach().item() for i in yhat]\n",
    "    y = [i.detach().item() for i in batch_y[:, -1]]\n",
    "    ax1.plot(y, label=\"True Y\")\n",
    "    ax1.plot(yhat, label=\"Pred Y\")\n",
    "    ax1.set_ylabel(\"Y\")\n",
    "    ax2.plot(losses)\n",
    "    ax2.set_ylabel(\"losses\")\n",
    "    \n",
    "    print(losses[-10:])\n",
    "\n",
    "optimizer = torch.optim.Adam(params, lr=1e-2)\n",
    "train(model, batch_y, params, optimizer, 2500) "
   ]
  },
  {
   "cell_type": "code",
   "execution_count": null,
   "metadata": {},
   "outputs": [],
   "source": []
  }
 ],
 "metadata": {
  "kernelspec": {
   "display_name": "env_nlp",
   "language": "python",
   "name": "python3"
  },
  "language_info": {
   "codemirror_mode": {
    "name": "ipython",
    "version": 3
   },
   "file_extension": ".py",
   "mimetype": "text/x-python",
   "name": "python",
   "nbconvert_exporter": "python",
   "pygments_lexer": "ipython3",
   "version": "3.10.0"
  }
 },
 "nbformat": 4,
 "nbformat_minor": 2
}
