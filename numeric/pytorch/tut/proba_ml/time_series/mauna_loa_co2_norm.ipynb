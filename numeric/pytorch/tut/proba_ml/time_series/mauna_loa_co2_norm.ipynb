{
 "cells": [
  {
   "cell_type": "code",
   "execution_count": 36,
   "metadata": {},
   "outputs": [
    {
     "name": "stdout",
     "output_type": "stream",
     "text": [
      "The autoreload extension is already loaded. To reload it, use:\n",
      "  %reload_ext autoreload\n"
     ]
    }
   ],
   "source": [
    "%load_ext autoreload\n",
    "%autoreload 2\n",
    "\n",
    "import numpy as np\n",
    "import pandas as pd\n",
    "import matplotlib as mpl\n",
    "import matplotlib.pyplot as plt\n",
    "import seaborn as sns\n",
    "import torch\n",
    "import pyro\n",
    "import pyro.distributions as dist\n",
    "from pyro import infer, poutine\n",
    "from pyro.infer.autoguide import AutoNormal\n",
    "from pyro.nn.module import PyroParam, PyroModule, PyroSample\n",
    "from pyro.contrib.gp import Parameterized\n",
    "plt.style.use(\"seaborn-v0_8\")"
   ]
  },
  {
   "cell_type": "code",
   "execution_count": 37,
   "metadata": {},
   "outputs": [],
   "source": [
    "co2_df = pd.read_csv(\"/mnt/dl/machine_learning_dataset/atmospheric_co2_mauna_loa/monthly_in_situ_co2_mlo.csv\",\n",
    "                     skiprows=57)"
   ]
  },
  {
   "cell_type": "code",
   "execution_count": 38,
   "metadata": {},
   "outputs": [
    {
     "data": {
      "text/html": [
       "<div>\n",
       "<style scoped>\n",
       "    .dataframe tbody tr th:only-of-type {\n",
       "        vertical-align: middle;\n",
       "    }\n",
       "\n",
       "    .dataframe tbody tr th {\n",
       "        vertical-align: top;\n",
       "    }\n",
       "\n",
       "    .dataframe thead th {\n",
       "        text-align: right;\n",
       "    }\n",
       "</style>\n",
       "<table border=\"1\" class=\"dataframe\">\n",
       "  <thead>\n",
       "    <tr style=\"text-align: right;\">\n",
       "      <th></th>\n",
       "      <th>Yr</th>\n",
       "      <th>Mn</th>\n",
       "      <th>Date</th>\n",
       "      <th>Date</th>\n",
       "      <th>CO2</th>\n",
       "      <th>seasonally</th>\n",
       "      <th>fit</th>\n",
       "      <th>seasonally</th>\n",
       "      <th>CO2</th>\n",
       "      <th>seasonally</th>\n",
       "      <th>Sta</th>\n",
       "    </tr>\n",
       "  </thead>\n",
       "  <tbody>\n",
       "    <tr>\n",
       "      <th>0</th>\n",
       "      <td></td>\n",
       "      <td></td>\n",
       "      <td></td>\n",
       "      <td></td>\n",
       "      <td></td>\n",
       "      <td>adjusted</td>\n",
       "      <td></td>\n",
       "      <td>adjusted fit</td>\n",
       "      <td>filled</td>\n",
       "      <td>adjusted filled</td>\n",
       "      <td>NaN</td>\n",
       "    </tr>\n",
       "    <tr>\n",
       "      <th>1</th>\n",
       "      <td></td>\n",
       "      <td></td>\n",
       "      <td>Excel</td>\n",
       "      <td></td>\n",
       "      <td>[ppm]</td>\n",
       "      <td>[ppm]</td>\n",
       "      <td>[ppm]</td>\n",
       "      <td>[ppm]</td>\n",
       "      <td>[ppm]</td>\n",
       "      <td>[ppm]</td>\n",
       "      <td>NaN</td>\n",
       "    </tr>\n",
       "    <tr>\n",
       "      <th>2</th>\n",
       "      <td>1958</td>\n",
       "      <td>01</td>\n",
       "      <td>21200</td>\n",
       "      <td>1958.0411</td>\n",
       "      <td>-99.99</td>\n",
       "      <td>-99.99</td>\n",
       "      <td>-99.99</td>\n",
       "      <td>-99.99</td>\n",
       "      <td>-99.99</td>\n",
       "      <td>-99.99</td>\n",
       "      <td>MLO</td>\n",
       "    </tr>\n",
       "    <tr>\n",
       "      <th>3</th>\n",
       "      <td>1958</td>\n",
       "      <td>02</td>\n",
       "      <td>21231</td>\n",
       "      <td>1958.1260</td>\n",
       "      <td>-99.99</td>\n",
       "      <td>-99.99</td>\n",
       "      <td>-99.99</td>\n",
       "      <td>-99.99</td>\n",
       "      <td>-99.99</td>\n",
       "      <td>-99.99</td>\n",
       "      <td>MLO</td>\n",
       "    </tr>\n",
       "    <tr>\n",
       "      <th>4</th>\n",
       "      <td>1958</td>\n",
       "      <td>03</td>\n",
       "      <td>21259</td>\n",
       "      <td>1958.2027</td>\n",
       "      <td>315.71</td>\n",
       "      <td>314.44</td>\n",
       "      <td>316.19</td>\n",
       "      <td>314.91</td>\n",
       "      <td>315.71</td>\n",
       "      <td>314.44</td>\n",
       "      <td>MLO</td>\n",
       "    </tr>\n",
       "    <tr>\n",
       "      <th>...</th>\n",
       "      <td>...</td>\n",
       "      <td>...</td>\n",
       "      <td>...</td>\n",
       "      <td>...</td>\n",
       "      <td>...</td>\n",
       "      <td>...</td>\n",
       "      <td>...</td>\n",
       "      <td>...</td>\n",
       "      <td>...</td>\n",
       "      <td>...</td>\n",
       "      <td>...</td>\n",
       "    </tr>\n",
       "    <tr>\n",
       "      <th>789</th>\n",
       "      <td>2023</td>\n",
       "      <td>08</td>\n",
       "      <td>45153</td>\n",
       "      <td>2023.6219</td>\n",
       "      <td>419.56</td>\n",
       "      <td>421.11</td>\n",
       "      <td>419.58</td>\n",
       "      <td>421.18</td>\n",
       "      <td>419.56</td>\n",
       "      <td>421.11</td>\n",
       "      <td>MLO</td>\n",
       "    </tr>\n",
       "    <tr>\n",
       "      <th>790</th>\n",
       "      <td>2023</td>\n",
       "      <td>09</td>\n",
       "      <td>45184</td>\n",
       "      <td>2023.7068</td>\n",
       "      <td>418.07</td>\n",
       "      <td>421.57</td>\n",
       "      <td>417.96</td>\n",
       "      <td>421.48</td>\n",
       "      <td>418.07</td>\n",
       "      <td>421.57</td>\n",
       "      <td>MLO</td>\n",
       "    </tr>\n",
       "    <tr>\n",
       "      <th>791</th>\n",
       "      <td>2023</td>\n",
       "      <td>10</td>\n",
       "      <td>45214</td>\n",
       "      <td>2023.7890</td>\n",
       "      <td>-99.99</td>\n",
       "      <td>-99.99</td>\n",
       "      <td>-99.99</td>\n",
       "      <td>-99.99</td>\n",
       "      <td>-99.99</td>\n",
       "      <td>-99.99</td>\n",
       "      <td>MLO</td>\n",
       "    </tr>\n",
       "    <tr>\n",
       "      <th>792</th>\n",
       "      <td>2023</td>\n",
       "      <td>11</td>\n",
       "      <td>45245</td>\n",
       "      <td>2023.8740</td>\n",
       "      <td>-99.99</td>\n",
       "      <td>-99.99</td>\n",
       "      <td>-99.99</td>\n",
       "      <td>-99.99</td>\n",
       "      <td>-99.99</td>\n",
       "      <td>-99.99</td>\n",
       "      <td>MLO</td>\n",
       "    </tr>\n",
       "    <tr>\n",
       "      <th>793</th>\n",
       "      <td>2023</td>\n",
       "      <td>12</td>\n",
       "      <td>45275</td>\n",
       "      <td>2023.9562</td>\n",
       "      <td>-99.99</td>\n",
       "      <td>-99.99</td>\n",
       "      <td>-99.99</td>\n",
       "      <td>-99.99</td>\n",
       "      <td>-99.99</td>\n",
       "      <td>-99.99</td>\n",
       "      <td>MLO</td>\n",
       "    </tr>\n",
       "  </tbody>\n",
       "</table>\n",
       "<p>794 rows × 11 columns</p>\n",
       "</div>"
      ],
      "text/plain": [
       "       Yr   Mn      Date         Date       CO2  seasonally          fit   \n",
       "0                                                  adjusted               \\\n",
       "1                  Excel                  [ppm]      [ppm]         [ppm]   \n",
       "2    1958   01     21200    1958.0411    -99.99      -99.99       -99.99   \n",
       "3    1958   02     21231    1958.1260    -99.99      -99.99       -99.99   \n",
       "4    1958   03     21259    1958.2027    315.71      314.44       316.19   \n",
       "..    ...  ...       ...          ...       ...         ...          ...   \n",
       "789  2023   08     45153    2023.6219    419.56      421.11       419.58   \n",
       "790  2023   09     45184    2023.7068    418.07      421.57       417.96   \n",
       "791  2023   10     45214    2023.7890    -99.99      -99.99       -99.99   \n",
       "792  2023   11     45245    2023.8740    -99.99      -99.99       -99.99   \n",
       "793  2023   12     45275    2023.9562    -99.99      -99.99       -99.99   \n",
       "\n",
       "       seasonally           CO2       seasonally   Sta  \n",
       "0    adjusted fit        filled  adjusted filled   NaN  \n",
       "1           [ppm]         [ppm]            [ppm]   NaN  \n",
       "2          -99.99        -99.99           -99.99   MLO  \n",
       "3          -99.99        -99.99           -99.99   MLO  \n",
       "4          314.91        315.71           314.44   MLO  \n",
       "..            ...           ...              ...   ...  \n",
       "789        421.18        419.56           421.11   MLO  \n",
       "790        421.48        418.07           421.57   MLO  \n",
       "791        -99.99        -99.99           -99.99   MLO  \n",
       "792        -99.99        -99.99           -99.99   MLO  \n",
       "793        -99.99        -99.99           -99.99   MLO  \n",
       "\n",
       "[794 rows x 11 columns]"
      ]
     },
     "execution_count": 38,
     "metadata": {},
     "output_type": "execute_result"
    }
   ],
   "source": [
    "co2_df"
   ]
  },
  {
   "cell_type": "code",
   "execution_count": 39,
   "metadata": {},
   "outputs": [
    {
     "data": {
      "text/plain": [
       "Index(['  Yr', ' Mn', '    Date', '      Date', '     CO2', 'seasonally',\n",
       "       '        fit', '  seasonally', '      CO2', ' seasonally', ' Sta'],\n",
       "      dtype='object')"
      ]
     },
     "execution_count": 39,
     "metadata": {},
     "output_type": "execute_result"
    }
   ],
   "source": [
    "co2_df.columns"
   ]
  },
  {
   "cell_type": "code",
   "execution_count": 40,
   "metadata": {},
   "outputs": [],
   "source": [
    "co2_df = co2_df.loc[2:,['  Yr', ' Mn', '     CO2',]]"
   ]
  },
  {
   "cell_type": "code",
   "execution_count": 41,
   "metadata": {},
   "outputs": [],
   "source": [
    "new_cols = list(map(lambda x: x.strip(), co2_df.columns))"
   ]
  },
  {
   "cell_type": "code",
   "execution_count": 42,
   "metadata": {},
   "outputs": [
    {
     "data": {
      "text/plain": [
       "['Yr', 'Mn', 'CO2']"
      ]
     },
     "execution_count": 42,
     "metadata": {},
     "output_type": "execute_result"
    }
   ],
   "source": [
    "new_cols "
   ]
  },
  {
   "cell_type": "code",
   "execution_count": 43,
   "metadata": {},
   "outputs": [],
   "source": [
    "co2_df = co2_df.rename(columns=dict(zip(co2_df.columns, new_cols)))"
   ]
  },
  {
   "cell_type": "code",
   "execution_count": 44,
   "metadata": {},
   "outputs": [
    {
     "data": {
      "text/html": [
       "<div>\n",
       "<style scoped>\n",
       "    .dataframe tbody tr th:only-of-type {\n",
       "        vertical-align: middle;\n",
       "    }\n",
       "\n",
       "    .dataframe tbody tr th {\n",
       "        vertical-align: top;\n",
       "    }\n",
       "\n",
       "    .dataframe thead th {\n",
       "        text-align: right;\n",
       "    }\n",
       "</style>\n",
       "<table border=\"1\" class=\"dataframe\">\n",
       "  <thead>\n",
       "    <tr style=\"text-align: right;\">\n",
       "      <th></th>\n",
       "      <th>Yr</th>\n",
       "      <th>Mn</th>\n",
       "      <th>CO2</th>\n",
       "    </tr>\n",
       "  </thead>\n",
       "  <tbody>\n",
       "    <tr>\n",
       "      <th>2</th>\n",
       "      <td>1958</td>\n",
       "      <td>01</td>\n",
       "      <td>-99.99</td>\n",
       "    </tr>\n",
       "    <tr>\n",
       "      <th>3</th>\n",
       "      <td>1958</td>\n",
       "      <td>02</td>\n",
       "      <td>-99.99</td>\n",
       "    </tr>\n",
       "    <tr>\n",
       "      <th>4</th>\n",
       "      <td>1958</td>\n",
       "      <td>03</td>\n",
       "      <td>315.71</td>\n",
       "    </tr>\n",
       "    <tr>\n",
       "      <th>5</th>\n",
       "      <td>1958</td>\n",
       "      <td>04</td>\n",
       "      <td>317.45</td>\n",
       "    </tr>\n",
       "    <tr>\n",
       "      <th>6</th>\n",
       "      <td>1958</td>\n",
       "      <td>05</td>\n",
       "      <td>317.51</td>\n",
       "    </tr>\n",
       "    <tr>\n",
       "      <th>...</th>\n",
       "      <td>...</td>\n",
       "      <td>...</td>\n",
       "      <td>...</td>\n",
       "    </tr>\n",
       "    <tr>\n",
       "      <th>789</th>\n",
       "      <td>2023</td>\n",
       "      <td>08</td>\n",
       "      <td>419.56</td>\n",
       "    </tr>\n",
       "    <tr>\n",
       "      <th>790</th>\n",
       "      <td>2023</td>\n",
       "      <td>09</td>\n",
       "      <td>418.07</td>\n",
       "    </tr>\n",
       "    <tr>\n",
       "      <th>791</th>\n",
       "      <td>2023</td>\n",
       "      <td>10</td>\n",
       "      <td>-99.99</td>\n",
       "    </tr>\n",
       "    <tr>\n",
       "      <th>792</th>\n",
       "      <td>2023</td>\n",
       "      <td>11</td>\n",
       "      <td>-99.99</td>\n",
       "    </tr>\n",
       "    <tr>\n",
       "      <th>793</th>\n",
       "      <td>2023</td>\n",
       "      <td>12</td>\n",
       "      <td>-99.99</td>\n",
       "    </tr>\n",
       "  </tbody>\n",
       "</table>\n",
       "<p>792 rows × 3 columns</p>\n",
       "</div>"
      ],
      "text/plain": [
       "       Yr   Mn       CO2\n",
       "2    1958   01    -99.99\n",
       "3    1958   02    -99.99\n",
       "4    1958   03    315.71\n",
       "5    1958   04    317.45\n",
       "6    1958   05    317.51\n",
       "..    ...  ...       ...\n",
       "789  2023   08    419.56\n",
       "790  2023   09    418.07\n",
       "791  2023   10    -99.99\n",
       "792  2023   11    -99.99\n",
       "793  2023   12    -99.99\n",
       "\n",
       "[792 rows x 3 columns]"
      ]
     },
     "execution_count": 44,
     "metadata": {},
     "output_type": "execute_result"
    }
   ],
   "source": [
    "co2_df"
   ]
  },
  {
   "cell_type": "code",
   "execution_count": 45,
   "metadata": {},
   "outputs": [],
   "source": [
    "co2_df.Yr = co2_df.Yr.astype(int)\n",
    "co2_df.Mn = co2_df.Mn.astype(int)\n",
    "co2_df.CO2 = co2_df.CO2.astype(float)"
   ]
  },
  {
   "cell_type": "code",
   "execution_count": 46,
   "metadata": {},
   "outputs": [],
   "source": [
    "# Drop Missing\n",
    "data = co2_df.copy()\n",
    "data = data[data[\"CO2\"] != -99.99]"
   ]
  },
  {
   "cell_type": "code",
   "execution_count": 47,
   "metadata": {},
   "outputs": [
    {
     "data": {
      "text/html": [
       "<div>\n",
       "<style scoped>\n",
       "    .dataframe tbody tr th:only-of-type {\n",
       "        vertical-align: middle;\n",
       "    }\n",
       "\n",
       "    .dataframe tbody tr th {\n",
       "        vertical-align: top;\n",
       "    }\n",
       "\n",
       "    .dataframe thead th {\n",
       "        text-align: right;\n",
       "    }\n",
       "</style>\n",
       "<table border=\"1\" class=\"dataframe\">\n",
       "  <thead>\n",
       "    <tr style=\"text-align: right;\">\n",
       "      <th></th>\n",
       "      <th>Yr</th>\n",
       "      <th>Mn</th>\n",
       "      <th>CO2</th>\n",
       "    </tr>\n",
       "  </thead>\n",
       "  <tbody>\n",
       "    <tr>\n",
       "      <th>4</th>\n",
       "      <td>1958</td>\n",
       "      <td>3</td>\n",
       "      <td>315.71</td>\n",
       "    </tr>\n",
       "    <tr>\n",
       "      <th>5</th>\n",
       "      <td>1958</td>\n",
       "      <td>4</td>\n",
       "      <td>317.45</td>\n",
       "    </tr>\n",
       "    <tr>\n",
       "      <th>6</th>\n",
       "      <td>1958</td>\n",
       "      <td>5</td>\n",
       "      <td>317.51</td>\n",
       "    </tr>\n",
       "    <tr>\n",
       "      <th>8</th>\n",
       "      <td>1958</td>\n",
       "      <td>7</td>\n",
       "      <td>315.87</td>\n",
       "    </tr>\n",
       "    <tr>\n",
       "      <th>9</th>\n",
       "      <td>1958</td>\n",
       "      <td>8</td>\n",
       "      <td>314.93</td>\n",
       "    </tr>\n",
       "    <tr>\n",
       "      <th>...</th>\n",
       "      <td>...</td>\n",
       "      <td>...</td>\n",
       "      <td>...</td>\n",
       "    </tr>\n",
       "    <tr>\n",
       "      <th>786</th>\n",
       "      <td>2023</td>\n",
       "      <td>5</td>\n",
       "      <td>423.78</td>\n",
       "    </tr>\n",
       "    <tr>\n",
       "      <th>787</th>\n",
       "      <td>2023</td>\n",
       "      <td>6</td>\n",
       "      <td>423.39</td>\n",
       "    </tr>\n",
       "    <tr>\n",
       "      <th>788</th>\n",
       "      <td>2023</td>\n",
       "      <td>7</td>\n",
       "      <td>421.62</td>\n",
       "    </tr>\n",
       "    <tr>\n",
       "      <th>789</th>\n",
       "      <td>2023</td>\n",
       "      <td>8</td>\n",
       "      <td>419.56</td>\n",
       "    </tr>\n",
       "    <tr>\n",
       "      <th>790</th>\n",
       "      <td>2023</td>\n",
       "      <td>9</td>\n",
       "      <td>418.07</td>\n",
       "    </tr>\n",
       "  </tbody>\n",
       "</table>\n",
       "<p>782 rows × 3 columns</p>\n",
       "</div>"
      ],
      "text/plain": [
       "       Yr  Mn     CO2\n",
       "4    1958   3  315.71\n",
       "5    1958   4  317.45\n",
       "6    1958   5  317.51\n",
       "8    1958   7  315.87\n",
       "9    1958   8  314.93\n",
       "..    ...  ..     ...\n",
       "786  2023   5  423.78\n",
       "787  2023   6  423.39\n",
       "788  2023   7  421.62\n",
       "789  2023   8  419.56\n",
       "790  2023   9  418.07\n",
       "\n",
       "[782 rows x 3 columns]"
      ]
     },
     "execution_count": 47,
     "metadata": {},
     "output_type": "execute_result"
    }
   ],
   "source": [
    "data"
   ]
  },
  {
   "cell_type": "code",
   "execution_count": 48,
   "metadata": {},
   "outputs": [
    {
     "name": "stdout",
     "output_type": "stream",
     "text": [
      "<class 'pandas.core.frame.DataFrame'>\n",
      "Index: 782 entries, 4 to 790\n",
      "Data columns (total 3 columns):\n",
      " #   Column  Non-Null Count  Dtype  \n",
      "---  ------  --------------  -----  \n",
      " 0   Yr      782 non-null    int64  \n",
      " 1   Mn      782 non-null    int64  \n",
      " 2   CO2     782 non-null    float64\n",
      "dtypes: float64(1), int64(2)\n",
      "memory usage: 24.4 KB\n"
     ]
    }
   ],
   "source": [
    "data.info()"
   ]
  },
  {
   "cell_type": "code",
   "execution_count": 49,
   "metadata": {},
   "outputs": [],
   "source": [
    "data[\"date\"] = data.apply(lambda x: f\"{int(x['Yr'])}-{int(x['Mn']):02d}\", axis=1)"
   ]
  },
  {
   "cell_type": "code",
   "execution_count": 50,
   "metadata": {},
   "outputs": [
    {
     "data": {
      "text/html": [
       "<div>\n",
       "<style scoped>\n",
       "    .dataframe tbody tr th:only-of-type {\n",
       "        vertical-align: middle;\n",
       "    }\n",
       "\n",
       "    .dataframe tbody tr th {\n",
       "        vertical-align: top;\n",
       "    }\n",
       "\n",
       "    .dataframe thead th {\n",
       "        text-align: right;\n",
       "    }\n",
       "</style>\n",
       "<table border=\"1\" class=\"dataframe\">\n",
       "  <thead>\n",
       "    <tr style=\"text-align: right;\">\n",
       "      <th></th>\n",
       "      <th>Yr</th>\n",
       "      <th>Mn</th>\n",
       "      <th>CO2</th>\n",
       "      <th>date</th>\n",
       "    </tr>\n",
       "  </thead>\n",
       "  <tbody>\n",
       "    <tr>\n",
       "      <th>4</th>\n",
       "      <td>1958</td>\n",
       "      <td>3</td>\n",
       "      <td>315.71</td>\n",
       "      <td>1958-03</td>\n",
       "    </tr>\n",
       "    <tr>\n",
       "      <th>5</th>\n",
       "      <td>1958</td>\n",
       "      <td>4</td>\n",
       "      <td>317.45</td>\n",
       "      <td>1958-04</td>\n",
       "    </tr>\n",
       "    <tr>\n",
       "      <th>6</th>\n",
       "      <td>1958</td>\n",
       "      <td>5</td>\n",
       "      <td>317.51</td>\n",
       "      <td>1958-05</td>\n",
       "    </tr>\n",
       "    <tr>\n",
       "      <th>8</th>\n",
       "      <td>1958</td>\n",
       "      <td>7</td>\n",
       "      <td>315.87</td>\n",
       "      <td>1958-07</td>\n",
       "    </tr>\n",
       "    <tr>\n",
       "      <th>9</th>\n",
       "      <td>1958</td>\n",
       "      <td>8</td>\n",
       "      <td>314.93</td>\n",
       "      <td>1958-08</td>\n",
       "    </tr>\n",
       "    <tr>\n",
       "      <th>...</th>\n",
       "      <td>...</td>\n",
       "      <td>...</td>\n",
       "      <td>...</td>\n",
       "      <td>...</td>\n",
       "    </tr>\n",
       "    <tr>\n",
       "      <th>786</th>\n",
       "      <td>2023</td>\n",
       "      <td>5</td>\n",
       "      <td>423.78</td>\n",
       "      <td>2023-05</td>\n",
       "    </tr>\n",
       "    <tr>\n",
       "      <th>787</th>\n",
       "      <td>2023</td>\n",
       "      <td>6</td>\n",
       "      <td>423.39</td>\n",
       "      <td>2023-06</td>\n",
       "    </tr>\n",
       "    <tr>\n",
       "      <th>788</th>\n",
       "      <td>2023</td>\n",
       "      <td>7</td>\n",
       "      <td>421.62</td>\n",
       "      <td>2023-07</td>\n",
       "    </tr>\n",
       "    <tr>\n",
       "      <th>789</th>\n",
       "      <td>2023</td>\n",
       "      <td>8</td>\n",
       "      <td>419.56</td>\n",
       "      <td>2023-08</td>\n",
       "    </tr>\n",
       "    <tr>\n",
       "      <th>790</th>\n",
       "      <td>2023</td>\n",
       "      <td>9</td>\n",
       "      <td>418.07</td>\n",
       "      <td>2023-09</td>\n",
       "    </tr>\n",
       "  </tbody>\n",
       "</table>\n",
       "<p>782 rows × 4 columns</p>\n",
       "</div>"
      ],
      "text/plain": [
       "       Yr  Mn     CO2     date\n",
       "4    1958   3  315.71  1958-03\n",
       "5    1958   4  317.45  1958-04\n",
       "6    1958   5  317.51  1958-05\n",
       "8    1958   7  315.87  1958-07\n",
       "9    1958   8  314.93  1958-08\n",
       "..    ...  ..     ...      ...\n",
       "786  2023   5  423.78  2023-05\n",
       "787  2023   6  423.39  2023-06\n",
       "788  2023   7  421.62  2023-07\n",
       "789  2023   8  419.56  2023-08\n",
       "790  2023   9  418.07  2023-09\n",
       "\n",
       "[782 rows x 4 columns]"
      ]
     },
     "execution_count": 50,
     "metadata": {},
     "output_type": "execute_result"
    }
   ],
   "source": [
    "data"
   ]
  },
  {
   "cell_type": "code",
   "execution_count": 51,
   "metadata": {},
   "outputs": [
    {
     "name": "stderr",
     "output_type": "stream",
     "text": [
      "/tmp/ipykernel_1424/263896264.py:5: UserWarning: FixedFormatter should only be used together with FixedLocator\n",
      "  ax.set_xticklabels(ax.get_xticklabels()[::14], rotation=90)\n"
     ]
    },
    {
     "data": {
      "image/png": "[encoded data removed]",
      "text/plain": [
       "<Figure size 800x550 with 1 Axes>"
      ]
     },
     "metadata": {},
     "output_type": "display_data"
    }
   ],
   "source": [
    "fig, ax = plt.subplots()\n",
    "ax.plot(data[\"date\"], data[\"CO2\"])\n",
    "ax.set_xlabel(\"Year\")\n",
    "ax.set_ylabel(\"CO2\")\n",
    "ax.set_xticklabels(ax.get_xticklabels()[::14], rotation=90)\n",
    "locator = mpl.ticker.MultipleLocator(15)\n",
    "ax.xaxis.set_major_locator(locator)"
   ]
  },
  {
   "cell_type": "code",
   "execution_count": 52,
   "metadata": {},
   "outputs": [],
   "source": [
    "x = data.date.values.tolist()\n",
    "y = torch.tensor(data.CO2.values).float()"
   ]
  },
  {
   "cell_type": "code",
   "execution_count": 53,
   "metadata": {},
   "outputs": [],
   "source": [
    "ytrain = y.cuda()"
   ]
  },
  {
   "cell_type": "code",
   "execution_count": 54,
   "metadata": {},
   "outputs": [
    {
     "data": {
      "text/plain": [
       "(tensor(962.1697, device='cuda:0'), tensor(358.5257, device='cuda:0'))"
      ]
     },
     "execution_count": 54,
     "metadata": {},
     "output_type": "execute_result"
    }
   ],
   "source": [
    "yvar, ymean = torch.var_mean(ytrain)\n",
    "yvar, ymean"
   ]
  },
  {
   "cell_type": "code",
   "execution_count": 55,
   "metadata": {},
   "outputs": [
    {
     "data": {
      "text/plain": [
       "tensor(31.0189, device='cuda:0')"
      ]
     },
     "execution_count": 55,
     "metadata": {},
     "output_type": "execute_result"
    }
   ],
   "source": [
    "ytrain.std()"
   ]
  },
  {
   "cell_type": "code",
   "execution_count": 56,
   "metadata": {},
   "outputs": [],
   "source": [
    "ytrain_norm = (ytrain  - ymean) / yvar.sqrt()"
   ]
  },
  {
   "cell_type": "code",
   "execution_count": 57,
   "metadata": {},
   "outputs": [
    {
     "data": {
      "text/plain": [
       "(tensor(4.8293e-07, device='cuda:0'), tensor(1., device='cuda:0'))"
      ]
     },
     "execution_count": 57,
     "metadata": {},
     "output_type": "execute_result"
    }
   ],
   "source": [
    "ytrain_norm.mean(), ytrain_norm.std()"
   ]
  },
  {
   "cell_type": "code",
   "execution_count": 58,
   "metadata": {},
   "outputs": [
    {
     "data": {
      "text/plain": [
       "tensor([-1.3803, -1.2091, -0.8126, -0.5199, -0.1204,  0.4205,  0.8229,  1.4815],\n",
       "       device='cuda:0')"
      ]
     },
     "execution_count": 58,
     "metadata": {},
     "output_type": "execute_result"
    }
   ],
   "source": [
    "ytrain_norm[::100]"
   ]
  },
  {
   "cell_type": "code",
   "execution_count": 59,
   "metadata": {},
   "outputs": [],
   "source": [
    "class STSNet(PyroModule):\n",
    "    \n",
    "    def __init__(self, S, device=torch.device(\"cpu\")):\n",
    "        super().__init__()\n",
    "        self.z = PyroSample(lambda self: dist.Normal(torch.tensor([0.0] * 2), torch.tensor(1.0)).to_event(1) )\n",
    "        self.μ = PyroSample(lambda self: dist.LogNormal(0, 1.))\n",
    "        self.δ = PyroSample(lambda self: dist.LogNormal(0, 1.))\n",
    "        self.ϵ = PyroSample(lambda self: dist.LogNormal(0, 1.))\n",
    "        \n",
    "        self.transition_matrix = torch.tensor([[1., 1.], [0, 1]], device=device)\n",
    "        self.obs_matrix = torch.tensor([1., 0], device=device)\n",
    "        \n",
    "        self.device = device\n",
    "    \n",
    "    def forward(self, y, values):\n",
    "        # data_plate = pyro.plate(\"data\", len(y))\n",
    "        z = self.z\n",
    "        for t in range(len(y)) :\n",
    "            zmean = self.transition_matrix @ z.to(self.transition_matrix.device)\n",
    "            \n",
    "            z = pyro.sample(f\"z_{t}\", dist.Normal(zmean, torch.tensor([self.μ, self.δ], device=self.device)).to_event(1))\n",
    "            ymean = self.obs_matrix @ z \n",
    "            if values is None:\n",
    "                obs = pyro.sample(f\"y_{t}\", dist.Normal(ymean, self.ϵ), obs=y[t])\n",
    "            else:\n",
    "                obs = pyro.sample(f\"y_{t}\", dist.Normal(ymean, self.ϵ))\n",
    "                \n",
    "            if values is not None and isinstance(values, list):\n",
    "                values.append(obs.item())\n",
    "\n",
    "class CO2STS(PyroModule):\n",
    "    \n",
    "    def __init__(self, net, y):\n",
    "        super().__init__()\n",
    "        self.net = net\n",
    "        self.y = torch.as_tensor(y)#[:2]\n",
    "\n",
    "    def model(self, training=True):\n",
    "        pyro.module(\"net\", self)\n",
    "        self.values = None\n",
    "        if not training:\n",
    "            self.values = []\n",
    "        self.net(self.y, self.values)\n",
    "        \n",
    "        "
   ]
  },
  {
   "cell_type": "code",
   "execution_count": 60,
   "metadata": {},
   "outputs": [],
   "source": [
    "pyro.clear_param_store()\n",
    "pyro.set_rng_seed(10)\n",
    "net = STSNet(S=12, device=torch.device(\"cuda:0\")).cuda()\n",
    "\n",
    "co2_model = CO2STS(net, y=ytrain_norm)\n",
    "model = (\n",
    "        # co2_model.model\n",
    "        poutine.block(co2_model.model, \n",
    "                      # expose_fn=lambda x: \"z\" not in x[\"name\"] \n",
    "                    #   expose_fn=expose_fn,\n",
    "                    expose_fn=lambda x: \"z_\" not in x[\"name\"]\n",
    "                      )\n",
    "        )\n",
    "guide = AutoNormal(model)"
   ]
  },
  {
   "cell_type": "code",
   "execution_count": 61,
   "metadata": {},
   "outputs": [
    {
     "name": "stdout",
     "output_type": "stream",
     "text": [
      "[('AutoNormal.locs.net.z', Parameter containing:\n",
      "tensor([0., 0.], requires_grad=True)), ('AutoNormal.scales.net.z', tensor([0.1000, 0.1000], grad_fn=<SoftplusBackward0>)), ('AutoNormal.locs.net.μ', Parameter containing:\n",
      "tensor(0., requires_grad=True)), ('AutoNormal.scales.net.μ', tensor(0.1000, grad_fn=<SoftplusBackward0>)), ('AutoNormal.locs.net.δ', Parameter containing:\n",
      "tensor(0., requires_grad=True)), ('AutoNormal.scales.net.δ', tensor(0.1000, grad_fn=<SoftplusBackward0>)), ('AutoNormal.locs.net.ε', Parameter containing:\n",
      "tensor(0., requires_grad=True)), ('AutoNormal.scales.net.ε', tensor(0.1000, grad_fn=<SoftplusBackward0>))]\n"
     ]
    }
   ],
   "source": [
    "with torch.no_grad():\n",
    "    with poutine.block(), poutine.trace(param_only=True) as param_capture:\n",
    "        guide()\n",
    "        \n",
    "\n",
    "params = list([pyro.param(name).unconstrained() for name in param_capture.trace])\n",
    "loss_fn =  infer.Trace_ELBO().differentiable_loss\n",
    "optimizer = torch.optim.Adam(params, lr=1e-3,)\n",
    "print(list(pyro.get_param_store().items()))"
   ]
  },
  {
   "cell_type": "code",
   "execution_count": 62,
   "metadata": {},
   "outputs": [
    {
     "name": "stderr",
     "output_type": "stream",
     "text": [
      "/env_nlp/lib/python3.9/site-packages/pyro/util.py:303: UserWarning: Found vars in model but not guide: {'z_1', 'z_73', 'z_177', 'z_514', 'z_231', 'z_356', 'z_224', 'z_430', 'z_442', 'z_556', 'z_169', 'z_278', 'z_461', 'z_275', 'z_168', 'z_366', 'z_431', 'z_662', 'z_733', 'z_6', 'z_60', 'z_347', 'z_209', 'z_685', 'z_206', 'z_46', 'z_220', 'z_353', 'z_519', 'z_397', 'z_470', 'z_132', 'z_610', 'z_113', 'z_174', 'z_233', 'z_466', 'z_563', 'z_779', 'z_770', 'z_40', 'z_331', 'z_202', 'z_565', 'z_721', 'z_691', 'z_598', 'z_645', 'z_97', 'z_346', 'z_655', 'z_497', 'z_624', 'z_751', 'z_420', 'z_144', 'z_642', 'z_547', 'z_654', 'z_200', 'z_68', 'z_139', 'z_270', 'z_315', 'z_524', 'z_554', 'z_710', 'z_735', 'z_544', 'z_0', 'z_77', 'z_539', 'z_765', 'z_176', 'z_729', 'z_333', 'z_147', 'z_310', 'z_487', 'z_313', 'z_449', 'z_527', 'z_24', 'z_585', 'z_653', 'z_314', 'z_54', 'z_709', 'z_400', 'z_769', 'z_121', 'z_377', 'z_705', 'z_37', 'z_674', 'z_459', 'z_149', 'z_622', 'z_579', 'z_10', 'z_164', 'z_384', 'z_684', 'z_173', 'z_756', 'z_633', 'z_768', 'z_776', 'z_138', 'z_473', 'z_506', 'z_62', 'z_178', 'z_388', 'z_89', 'z_305', 'z_437', 'z_390', 'z_248', 'z_440', 'z_207', 'z_494', 'z_182', 'z_454', 'z_575', 'z_252', 'z_304', 'z_38', 'z_335', 'z_529', 'z_53', 'z_375', 'z_300', 'z_325', 'z_476', 'z_609', 'z_594', 'z_634', 'z_187', 'z_699', 'z_671', 'z_534', 'z_711', 'z_484', 'z_25', 'z_592', 'z_541', 'z_618', 'z_16', 'z_17', 'z_462', 'z_59', 'z_338', 'z_474', 'z_676', 'z_27', 'z_141', 'z_238', 'z_463', 'z_659', 'z_332', 'z_467', 'z_643', 'z_58', 'z_781', 'z_283', 'z_31', 'z_219', 'z_201', 'z_293', 'z_607', 'z_661', 'z_436', 'z_82', 'z_707', 'z_312', 'z_170', 'z_399', 'z_698', 'z_692', 'z_351', 'z_723', 'z_627', 'z_410', 'z_345', 'z_593', 'z_401', 'z_357', 'z_501', 'z_301', 'z_211', 'z_614', 'z_499', 'z_672', 'z_555', 'z_319', 'z_631', 'z_424', 'z_158', 'z_512', 'z_601', 'z_11', 'z_364', 'z_367', 'z_56', 'z_429', 'z_626', 'z_15', 'z_396', 'z_171', 'z_98', 'z_502', 'z_508', 'z_619', 'z_778', 'z_343', 'z_504', 'z_417', 'z_465', 'z_411', 'z_599', 'z_725', 'z_217', 'z_720', 'z_706', 'z_427', 'z_81', 'z_453', 'z_203', 'z_196', 'z_712', 'z_457', 'z_535', 'z_606', 'z_632', 'z_212', 'z_540', 'z_362', 'z_597', 'z_455', 'z_414', 'z_761', 'z_290', 'z_352', 'z_152', 'z_102', 'z_533', 'z_142', 'z_576', 'z_596', 'z_145', 'z_223', 'z_85', 'z_644', 'z_226', 'z_306', 'z_165', 'z_326', 'z_359', 'z_408', 'z_472', 'z_677', 'z_686', 'z_714', 'z_750', 'z_678', 'z_107', 'z_4', 'z_435', 'z_510', 'z_236', 'z_525', 'z_23', 'z_105', 'z_755', 'z_320', 'z_775', 'z_126', 'z_767', 'z_648', 'z_349', 'z_451', 'z_663', 'z_409', 'z_726', 'z_239', 'z_123', 'z_376', 'z_448', 'z_774', 'z_681', 'z_124', 'z_549', 'z_222', 'z_162', 'z_302', 'z_179', 'z_334', 'z_741', 'z_412', 'z_675', 'z_95', 'z_724', 'z_135', 'z_303', 'z_39', 'z_80', 'z_395', 'z_405', 'z_683', 'z_730', 'z_458', 'z_221', 'z_344', 'z_272', 'z_386', 'z_199', 'z_468', 'z_505', 'z_413', 'z_422', 'z_2', 'z_374', 'z_260', 'z_728', 'z_251', 'z_186', 'z_638', 'z_280', 'z_773', 'z_746', 'z_668', 'z_104', 'z_478', 'z_479', 'z_90', 'z_291', 'z_600', 'z_588', 'z_630', 'z_480', 'z_669', 'z_19', 'z_284', 'z_657', 'z_697', 'z_567', 'z_667', 'z_9', 'z_324', 'z_316', 'z_526', 'z_294', 'z_237', 'z_268', 'z_99', 'z_641', 'z_32', 'z_108', 'z_35', 'z_531', 'z_76', 'z_218', 'z_552', 'z_635', 'z_426', 'z_450', 'z_100', 'z_718', 'z_381', 'z_120', 'z_267', 'z_48', 'z_41', 'z_215', 'z_704', 'z_318', 'z_434', 'z_247', 'z_373', 'z_701', 'z_749', 'z_530', 'z_464', 'z_550', 'z_486', 'z_257', 'z_43', 'z_438', 'z_652', 'z_406', 'z_254', 'z_584', 'z_227', 'z_311', 'z_7', 'z_282', 'z_513', 'z_428', 'z_490', 'z_256', 'z_543', 'z_69', 'z_117', 'z_548', 'z_208', 'z_732', 'z_590', 'z_194', 'z_297', 'z_287', 'z_407', 'z_79', 'z_603', 'z_337', 'z_518', 'z_112', 'z_760', 'z_355', 'z_708', 'z_703', 'z_146', 'z_198', 'z_88', 'z_308', 'z_394', 'z_307', 'z_520', 'z_21', 'z_371', 'z_628', 'z_358', 'z_772', 'z_22', 'z_564', 'z_228', 'z_192', 'z_279', 'z_421', 'z_532', 'z_277', 'z_734', 'z_559', 'z_136', 'z_67', 'z_78', 'z_317', 'z_568', 'z_615', 'z_744', 'z_538', 'z_163', 'z_578', 'z_574', 'z_86', 'z_93', 'z_595', 'z_111', 'z_687', 'z_185', 'z_623', 'z_225', 'z_150', 'z_70', 'z_569', 'z_745', 'z_370', 'z_573', 'z_764', 'z_137', 'z_482', 'z_608', 'z_329', 'z_379', 'z_456', 'z_441', 'z_369', 'z_492', 'z_181', 'z_65', 'z_509', 'z_106', 'z_385', 'z_758', 'z_354', 'z_382', 'z_460', 'z_403', 'z_586', 'z_616', 'z_591', 'z_736', 'z_51', 'z_75', 'z_114', 'z_503', 'z_18', 'z_389', 'z_261', 'z_157', 'z_771', 'z_694', 'z_536', 'z_243', 'z_330', 'z_342', 'z_249', 'z_625', 'z_719', 'z_265', 'z_133', 'z_285', 'z_702', 'z_52', 'z_295', 'z_656', 'z_360', 'z_713', 'z_296', 'z_443', 'z_658', 'z_680', 'z_416', 'z_229', 'z_402', 'z_477', 'z_646', 'z_660', 'z_167', 'z_392', 'z_12', 'z_159', 'z_175', 'z_640', 'z_271', 'z_96', 'z_241', 'z_581', 'z_134', 'z_29', 'z_664', 'z_489', 'z_189', 'z_679', 'z_115', 'z_87', 'z_742', 'z_651', 'z_757', 'z_471', 'z_404', 'z_242', 'z_577', 'z_125', 'z_647', 'z_74', 'z_507', 'z_281', 'z_553', 'z_83', 'z_323', 'z_161', 'z_262', 'z_475', 'z_739', 'z_234', 'z_160', 'z_321', 'z_748', 'z_398', 'z_340', 'z_469', 'z_418', 'z_298', 'z_20', 'z_13', 'z_517', 'z_566', 'z_649', 'z_148', 'z_5', 'z_481', 'z_665', 'z_689', 'z_500', 'z_516', 'z_562', 'z_582', 'z_118', 'z_766', 'z_273', 'z_696', 'z_731', 'z_617', 'z_433', 'z_66', 'z_276', 'z_235', 'z_716', 'z_666', 'z_109', 'z_740', 'z_250', 'z_361', 'z_14', 'z_738', 'z_511', 'z_143', 'z_216', 'z_372', 'z_45', 'z_583', 'z_263', 'z_493', 'z_639', 'z_419', 'z_210', 'z_205', 'z_255', 'z_292', 'z_688', 'z_26', 'z_673', 'z_197', 'z_753', 'z_214', 'z_495', 'z_91', 'z_116', 'z_423', 'z_752', 'z_650', 'z_129', 'z_387', 'z_700', 'z_557', 'z_571', 'z_488', 'z_572', 'z_759', 'z_128', 'z_558', 'z_195', 'z_258', 'z_266', 'z_542', 'z_636', 'z_528', 'z_84', 'z_130', 'z_8', 'z_63', 'z_259', 'z_605', 'z_328', 'z_191', 'z_537', 'z_483', 'z_253', 'z_780', 'z_289', 'z_629', 'z_30', 'z_61', 'z_204', 'z_230', 'z_336', 'z_288', 'z_36', 'z_693', 'z_101', 'z_190', 'z_213', 'z_452', 'z_444', 'z_339', 'z_763', 'z_264', 'z_545', 'z_432', 'z_743', 'z_286', 'z_57', 'z_560', 'z_415', 'z_602', 'z_368', 'z_496', 'z_523', 'z_122', 'z_119', 'z_188', 'z_521', 'z_348', 'z_747', 'z_580', 'z_380', 'z_350', 'z_378', 'z_3', 'z_33', 'z_110', 'z_612', 'z_695', 'z_383', 'z_72', 'z_71', 'z_184', 'z_587', 'z_156', 'z_682', 'z_42', 'z_722', 'z_393', 'z_715', 'z_604', 'z_613', 'z_309', 'z_244', 'z_570', 'z_28', 'z_717', 'z_445', 'z_131', 'z_245', 'z_180', 'z_154', 'z_498', 'z_183', 'z_34', 'z_50', 'z_92', 'z_153', 'z_299', 'z_762', 'z_155', 'z_341', 'z_439', 'z_621', 'z_485', 'z_103', 'z_269', 'z_172', 'z_727', 'z_240', 'z_246', 'z_64', 'z_47', 'z_127', 'z_166', 'z_363', 'z_561', 'z_670', 'z_690', 'z_637', 'z_232', 'z_55', 'z_522', 'z_322', 'z_551', 'z_777', 'z_425', 'z_589', 'z_546', 'z_611', 'z_391', 'z_515', 'z_327', 'z_44', 'z_491', 'z_447', 'z_737', 'z_140', 'z_365', 'z_446', 'z_193', 'z_754', 'z_620', 'z_151', 'z_274', 'z_49', 'z_94'}\n",
      "  warnings.warn(f\"Found vars in model but not guide: {bad_sites}\")\n"
     ]
    }
   ],
   "source": [
    "losses = []\n",
    "for i in range(5):\n",
    "    loss = loss_fn(co2_model.model, guide) / len(ytrain_norm)\n",
    "    optimizer.zero_grad()\n",
    "    torch.nn.utils.clip_grad_norm_(params, 10.)\n",
    "    loss.backward()\n",
    "    optimizer.step()\n",
    "    losses.append(loss.detach().item())"
   ]
  },
  {
   "cell_type": "code",
   "execution_count": 63,
   "metadata": {},
   "outputs": [
    {
     "data": {
      "text/plain": [
       "[<matplotlib.lines.Line2D at 0x7f41e933e5e0>]"
      ]
     },
     "execution_count": 63,
     "metadata": {},
     "output_type": "execute_result"
    },
    {
     "data": {
      "image/png": "[encoded data removed]",
      "text/plain": [
       "<Figure size 800x550 with 1 Axes>"
      ]
     },
     "metadata": {},
     "output_type": "display_data"
    }
   ],
   "source": [
    "plt.plot(losses)"
   ]
  },
  {
   "cell_type": "code",
   "execution_count": 65,
   "metadata": {},
   "outputs": [
    {
     "name": "stdout",
     "output_type": "stream",
     "text": [
      "[('AutoNormal.locs.net.z', Parameter containing:\n",
      "tensor([0.0012, 0.0039], requires_grad=True)), ('AutoNormal.scales.net.z', tensor([0.1003, 0.1002], grad_fn=<SoftplusBackward0>)), ('AutoNormal.locs.net.μ', Parameter containing:\n",
      "tensor(-0.0037, requires_grad=True)), ('AutoNormal.scales.net.μ', tensor(0.1005, grad_fn=<SoftplusBackward0>)), ('AutoNormal.locs.net.δ', Parameter containing:\n",
      "tensor(-0.0014, requires_grad=True)), ('AutoNormal.scales.net.δ', tensor(0.1005, grad_fn=<SoftplusBackward0>)), ('AutoNormal.locs.net.ε', Parameter containing:\n",
      "tensor(0.0038, requires_grad=True)), ('AutoNormal.scales.net.ε', tensor(0.1002, grad_fn=<SoftplusBackward0>))]\n"
     ]
    }
   ],
   "source": [
    "print(list(pyro.get_param_store().items()))"
   ]
  },
  {
   "cell_type": "code",
   "execution_count": null,
   "metadata": {},
   "outputs": [],
   "source": []
  }
 ],
 "metadata": {
  "kernelspec": {
   "display_name": "env_nlp",
   "language": "python",
   "name": "python3"
  },
  "language_info": {
   "codemirror_mode": {
    "name": "ipython",
    "version": 3
   },
   "file_extension": ".py",
   "mimetype": "text/x-python",
   "name": "python",
   "nbconvert_exporter": "python",
   "pygments_lexer": "ipython3",
   "version": "3.9.2"
  }
 },
 "nbformat": 4,
 "nbformat_minor": 2
}
