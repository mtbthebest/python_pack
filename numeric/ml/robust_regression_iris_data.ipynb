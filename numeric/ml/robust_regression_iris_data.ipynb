{
 "cells": [
  {
   "cell_type": "code",
   "execution_count": 1,
   "metadata": {},
   "outputs": [
    {
     "name": "stderr",
     "output_type": "stream",
     "text": [
      "/env_nlp/lib/python3.9/site-packages/tqdm/auto.py:21: TqdmWarning: IProgress not found. Please update jupyter and ipywidgets. See https://ipywidgets.readthedocs.io/en/stable/user_install.html\n",
      "  from .autonotebook import tqdm as notebook_tqdm\n"
     ]
    }
   ],
   "source": [
    "%load_ext autoreload\n",
    "%autoreload 2\n",
    "\n",
    "import numpy as np\n",
    "import pandas as pd\n",
    "import matplotlib as mpl\n",
    "import matplotlib.pyplot as plt\n",
    "import seaborn as sns  \n",
    "import torch \n",
    "from torch import nn\n",
    "import pyro\n",
    "from pyro.distributions import Normal, Beta\n",
    "from pyro.distributions.torch import Bernoulli\n",
    "from pyro.infer import Trace_ELBO, SVI\n",
    "from pyro.infer.predictive import Predictive\n",
    "from pyro.optim import Adam\n",
    "from pyro.nn.module import PyroModule, PyroParam, PyroSample\n",
    "from torch.distributions import constraints\n",
    "\n",
    "plt.style.use('seaborn-v0_8')"
   ]
  },
  {
   "cell_type": "markdown",
   "metadata": {},
   "source": [
    "## Load Dataset"
   ]
  },
  {
   "cell_type": "code",
   "execution_count": 2,
   "metadata": {},
   "outputs": [],
   "source": [
    "iris_df  = pd.read_csv(\"/mnt/dl/machine_learning_dataset/iris_dataset/IRIS.csv\")"
   ]
  },
  {
   "cell_type": "code",
   "execution_count": 3,
   "metadata": {},
   "outputs": [
    {
     "data": {
      "text/html": [
       "<div>\n",
       "<style scoped>\n",
       "    .dataframe tbody tr th:only-of-type {\n",
       "        vertical-align: middle;\n",
       "    }\n",
       "\n",
       "    .dataframe tbody tr th {\n",
       "        vertical-align: top;\n",
       "    }\n",
       "\n",
       "    .dataframe thead th {\n",
       "        text-align: right;\n",
       "    }\n",
       "</style>\n",
       "<table border=\"1\" class=\"dataframe\">\n",
       "  <thead>\n",
       "    <tr style=\"text-align: right;\">\n",
       "      <th></th>\n",
       "      <th>sepal_length</th>\n",
       "      <th>sepal_width</th>\n",
       "      <th>petal_length</th>\n",
       "      <th>petal_width</th>\n",
       "      <th>species</th>\n",
       "    </tr>\n",
       "  </thead>\n",
       "  <tbody>\n",
       "    <tr>\n",
       "      <th>0</th>\n",
       "      <td>5.1</td>\n",
       "      <td>3.5</td>\n",
       "      <td>1.4</td>\n",
       "      <td>0.2</td>\n",
       "      <td>Iris-setosa</td>\n",
       "    </tr>\n",
       "    <tr>\n",
       "      <th>1</th>\n",
       "      <td>4.9</td>\n",
       "      <td>3.0</td>\n",
       "      <td>1.4</td>\n",
       "      <td>0.2</td>\n",
       "      <td>Iris-setosa</td>\n",
       "    </tr>\n",
       "    <tr>\n",
       "      <th>2</th>\n",
       "      <td>4.7</td>\n",
       "      <td>3.2</td>\n",
       "      <td>1.3</td>\n",
       "      <td>0.2</td>\n",
       "      <td>Iris-setosa</td>\n",
       "    </tr>\n",
       "    <tr>\n",
       "      <th>3</th>\n",
       "      <td>4.6</td>\n",
       "      <td>3.1</td>\n",
       "      <td>1.5</td>\n",
       "      <td>0.2</td>\n",
       "      <td>Iris-setosa</td>\n",
       "    </tr>\n",
       "    <tr>\n",
       "      <th>4</th>\n",
       "      <td>5.0</td>\n",
       "      <td>3.6</td>\n",
       "      <td>1.4</td>\n",
       "      <td>0.2</td>\n",
       "      <td>Iris-setosa</td>\n",
       "    </tr>\n",
       "    <tr>\n",
       "      <th>...</th>\n",
       "      <td>...</td>\n",
       "      <td>...</td>\n",
       "      <td>...</td>\n",
       "      <td>...</td>\n",
       "      <td>...</td>\n",
       "    </tr>\n",
       "    <tr>\n",
       "      <th>145</th>\n",
       "      <td>6.7</td>\n",
       "      <td>3.0</td>\n",
       "      <td>5.2</td>\n",
       "      <td>2.3</td>\n",
       "      <td>Iris-virginica</td>\n",
       "    </tr>\n",
       "    <tr>\n",
       "      <th>146</th>\n",
       "      <td>6.3</td>\n",
       "      <td>2.5</td>\n",
       "      <td>5.0</td>\n",
       "      <td>1.9</td>\n",
       "      <td>Iris-virginica</td>\n",
       "    </tr>\n",
       "    <tr>\n",
       "      <th>147</th>\n",
       "      <td>6.5</td>\n",
       "      <td>3.0</td>\n",
       "      <td>5.2</td>\n",
       "      <td>2.0</td>\n",
       "      <td>Iris-virginica</td>\n",
       "    </tr>\n",
       "    <tr>\n",
       "      <th>148</th>\n",
       "      <td>6.2</td>\n",
       "      <td>3.4</td>\n",
       "      <td>5.4</td>\n",
       "      <td>2.3</td>\n",
       "      <td>Iris-virginica</td>\n",
       "    </tr>\n",
       "    <tr>\n",
       "      <th>149</th>\n",
       "      <td>5.9</td>\n",
       "      <td>3.0</td>\n",
       "      <td>5.1</td>\n",
       "      <td>1.8</td>\n",
       "      <td>Iris-virginica</td>\n",
       "    </tr>\n",
       "  </tbody>\n",
       "</table>\n",
       "<p>150 rows × 5 columns</p>\n",
       "</div>"
      ],
      "text/plain": [
       "     sepal_length  sepal_width  petal_length  petal_width         species\n",
       "0             5.1          3.5           1.4          0.2     Iris-setosa\n",
       "1             4.9          3.0           1.4          0.2     Iris-setosa\n",
       "2             4.7          3.2           1.3          0.2     Iris-setosa\n",
       "3             4.6          3.1           1.5          0.2     Iris-setosa\n",
       "4             5.0          3.6           1.4          0.2     Iris-setosa\n",
       "..            ...          ...           ...          ...             ...\n",
       "145           6.7          3.0           5.2          2.3  Iris-virginica\n",
       "146           6.3          2.5           5.0          1.9  Iris-virginica\n",
       "147           6.5          3.0           5.2          2.0  Iris-virginica\n",
       "148           6.2          3.4           5.4          2.3  Iris-virginica\n",
       "149           5.9          3.0           5.1          1.8  Iris-virginica\n",
       "\n",
       "[150 rows x 5 columns]"
      ]
     },
     "execution_count": 3,
     "metadata": {},
     "output_type": "execute_result"
    }
   ],
   "source": [
    "iris_df"
   ]
  },
  {
   "cell_type": "code",
   "execution_count": 4,
   "metadata": {},
   "outputs": [
    {
     "data": {
      "text/plain": [
       "0         Iris-setosa\n",
       "1         Iris-setosa\n",
       "2         Iris-setosa\n",
       "3         Iris-setosa\n",
       "4         Iris-setosa\n",
       "            ...      \n",
       "145    Iris-virginica\n",
       "146    Iris-virginica\n",
       "147    Iris-virginica\n",
       "148    Iris-virginica\n",
       "149    Iris-virginica\n",
       "Name: species, Length: 150, dtype: object"
      ]
     },
     "execution_count": 4,
     "metadata": {},
     "output_type": "execute_result"
    }
   ],
   "source": [
    "iris_df[\"species\"]"
   ]
  },
  {
   "cell_type": "code",
   "execution_count": 5,
   "metadata": {},
   "outputs": [],
   "source": [
    "df = iris_df.copy()"
   ]
  },
  {
   "cell_type": "code",
   "execution_count": 6,
   "metadata": {},
   "outputs": [
    {
     "data": {
      "text/html": [
       "<div>\n",
       "<style scoped>\n",
       "    .dataframe tbody tr th:only-of-type {\n",
       "        vertical-align: middle;\n",
       "    }\n",
       "\n",
       "    .dataframe tbody tr th {\n",
       "        vertical-align: top;\n",
       "    }\n",
       "\n",
       "    .dataframe thead th {\n",
       "        text-align: right;\n",
       "    }\n",
       "</style>\n",
       "<table border=\"1\" class=\"dataframe\">\n",
       "  <thead>\n",
       "    <tr style=\"text-align: right;\">\n",
       "      <th></th>\n",
       "      <th>sepal_length</th>\n",
       "      <th>sepal_width</th>\n",
       "      <th>petal_length</th>\n",
       "      <th>petal_width</th>\n",
       "      <th>species</th>\n",
       "    </tr>\n",
       "  </thead>\n",
       "  <tbody>\n",
       "    <tr>\n",
       "      <th>0</th>\n",
       "      <td>5.1</td>\n",
       "      <td>3.5</td>\n",
       "      <td>1.4</td>\n",
       "      <td>0.2</td>\n",
       "      <td>Iris-setosa</td>\n",
       "    </tr>\n",
       "    <tr>\n",
       "      <th>1</th>\n",
       "      <td>4.9</td>\n",
       "      <td>3.0</td>\n",
       "      <td>1.4</td>\n",
       "      <td>0.2</td>\n",
       "      <td>Iris-setosa</td>\n",
       "    </tr>\n",
       "    <tr>\n",
       "      <th>2</th>\n",
       "      <td>4.7</td>\n",
       "      <td>3.2</td>\n",
       "      <td>1.3</td>\n",
       "      <td>0.2</td>\n",
       "      <td>Iris-setosa</td>\n",
       "    </tr>\n",
       "    <tr>\n",
       "      <th>3</th>\n",
       "      <td>4.6</td>\n",
       "      <td>3.1</td>\n",
       "      <td>1.5</td>\n",
       "      <td>0.2</td>\n",
       "      <td>Iris-setosa</td>\n",
       "    </tr>\n",
       "    <tr>\n",
       "      <th>4</th>\n",
       "      <td>5.0</td>\n",
       "      <td>3.6</td>\n",
       "      <td>1.4</td>\n",
       "      <td>0.2</td>\n",
       "      <td>Iris-setosa</td>\n",
       "    </tr>\n",
       "    <tr>\n",
       "      <th>...</th>\n",
       "      <td>...</td>\n",
       "      <td>...</td>\n",
       "      <td>...</td>\n",
       "      <td>...</td>\n",
       "      <td>...</td>\n",
       "    </tr>\n",
       "    <tr>\n",
       "      <th>95</th>\n",
       "      <td>5.7</td>\n",
       "      <td>3.0</td>\n",
       "      <td>4.2</td>\n",
       "      <td>1.2</td>\n",
       "      <td>Iris-versicolor</td>\n",
       "    </tr>\n",
       "    <tr>\n",
       "      <th>96</th>\n",
       "      <td>5.7</td>\n",
       "      <td>2.9</td>\n",
       "      <td>4.2</td>\n",
       "      <td>1.3</td>\n",
       "      <td>Iris-versicolor</td>\n",
       "    </tr>\n",
       "    <tr>\n",
       "      <th>97</th>\n",
       "      <td>6.2</td>\n",
       "      <td>2.9</td>\n",
       "      <td>4.3</td>\n",
       "      <td>1.3</td>\n",
       "      <td>Iris-versicolor</td>\n",
       "    </tr>\n",
       "    <tr>\n",
       "      <th>98</th>\n",
       "      <td>5.1</td>\n",
       "      <td>2.5</td>\n",
       "      <td>3.0</td>\n",
       "      <td>1.1</td>\n",
       "      <td>Iris-versicolor</td>\n",
       "    </tr>\n",
       "    <tr>\n",
       "      <th>99</th>\n",
       "      <td>5.7</td>\n",
       "      <td>2.8</td>\n",
       "      <td>4.1</td>\n",
       "      <td>1.3</td>\n",
       "      <td>Iris-versicolor</td>\n",
       "    </tr>\n",
       "  </tbody>\n",
       "</table>\n",
       "<p>100 rows × 5 columns</p>\n",
       "</div>"
      ],
      "text/plain": [
       "    sepal_length  sepal_width  petal_length  petal_width          species\n",
       "0            5.1          3.5           1.4          0.2      Iris-setosa\n",
       "1            4.9          3.0           1.4          0.2      Iris-setosa\n",
       "2            4.7          3.2           1.3          0.2      Iris-setosa\n",
       "3            4.6          3.1           1.5          0.2      Iris-setosa\n",
       "4            5.0          3.6           1.4          0.2      Iris-setosa\n",
       "..           ...          ...           ...          ...              ...\n",
       "95           5.7          3.0           4.2          1.2  Iris-versicolor\n",
       "96           5.7          2.9           4.2          1.3  Iris-versicolor\n",
       "97           6.2          2.9           4.3          1.3  Iris-versicolor\n",
       "98           5.1          2.5           3.0          1.1  Iris-versicolor\n",
       "99           5.7          2.8           4.1          1.3  Iris-versicolor\n",
       "\n",
       "[100 rows x 5 columns]"
      ]
     },
     "execution_count": 6,
     "metadata": {},
     "output_type": "execute_result"
    }
   ],
   "source": [
    "df = df[df.species != \"Iris-virginica\"]\n",
    "df"
   ]
  },
  {
   "cell_type": "code",
   "execution_count": 7,
   "metadata": {},
   "outputs": [
    {
     "data": {
      "text/plain": [
       "species\n",
       "Iris-setosa        50\n",
       "Iris-versicolor    50\n",
       "Name: count, dtype: int64"
      ]
     },
     "execution_count": 7,
     "metadata": {},
     "output_type": "execute_result"
    }
   ],
   "source": [
    "df[\"species\"].value_counts()"
   ]
  },
  {
   "cell_type": "code",
   "execution_count": 8,
   "metadata": {},
   "outputs": [],
   "source": [
    "df[\"species\"] = df[\"species\"].apply(lambda x: {True: 0, False: 1}[x == 'Iris-setosa'])"
   ]
  },
  {
   "cell_type": "code",
   "execution_count": 9,
   "metadata": {},
   "outputs": [
    {
     "data": {
      "text/html": [
       "<div>\n",
       "<style scoped>\n",
       "    .dataframe tbody tr th:only-of-type {\n",
       "        vertical-align: middle;\n",
       "    }\n",
       "\n",
       "    .dataframe tbody tr th {\n",
       "        vertical-align: top;\n",
       "    }\n",
       "\n",
       "    .dataframe thead th {\n",
       "        text-align: right;\n",
       "    }\n",
       "</style>\n",
       "<table border=\"1\" class=\"dataframe\">\n",
       "  <thead>\n",
       "    <tr style=\"text-align: right;\">\n",
       "      <th></th>\n",
       "      <th>sepal_length</th>\n",
       "      <th>sepal_width</th>\n",
       "      <th>petal_length</th>\n",
       "      <th>petal_width</th>\n",
       "      <th>species</th>\n",
       "    </tr>\n",
       "  </thead>\n",
       "  <tbody>\n",
       "    <tr>\n",
       "      <th>0</th>\n",
       "      <td>5.1</td>\n",
       "      <td>3.5</td>\n",
       "      <td>1.4</td>\n",
       "      <td>0.2</td>\n",
       "      <td>0</td>\n",
       "    </tr>\n",
       "    <tr>\n",
       "      <th>1</th>\n",
       "      <td>4.9</td>\n",
       "      <td>3.0</td>\n",
       "      <td>1.4</td>\n",
       "      <td>0.2</td>\n",
       "      <td>0</td>\n",
       "    </tr>\n",
       "    <tr>\n",
       "      <th>2</th>\n",
       "      <td>4.7</td>\n",
       "      <td>3.2</td>\n",
       "      <td>1.3</td>\n",
       "      <td>0.2</td>\n",
       "      <td>0</td>\n",
       "    </tr>\n",
       "    <tr>\n",
       "      <th>3</th>\n",
       "      <td>4.6</td>\n",
       "      <td>3.1</td>\n",
       "      <td>1.5</td>\n",
       "      <td>0.2</td>\n",
       "      <td>0</td>\n",
       "    </tr>\n",
       "    <tr>\n",
       "      <th>4</th>\n",
       "      <td>5.0</td>\n",
       "      <td>3.6</td>\n",
       "      <td>1.4</td>\n",
       "      <td>0.2</td>\n",
       "      <td>0</td>\n",
       "    </tr>\n",
       "    <tr>\n",
       "      <th>...</th>\n",
       "      <td>...</td>\n",
       "      <td>...</td>\n",
       "      <td>...</td>\n",
       "      <td>...</td>\n",
       "      <td>...</td>\n",
       "    </tr>\n",
       "    <tr>\n",
       "      <th>95</th>\n",
       "      <td>5.7</td>\n",
       "      <td>3.0</td>\n",
       "      <td>4.2</td>\n",
       "      <td>1.2</td>\n",
       "      <td>1</td>\n",
       "    </tr>\n",
       "    <tr>\n",
       "      <th>96</th>\n",
       "      <td>5.7</td>\n",
       "      <td>2.9</td>\n",
       "      <td>4.2</td>\n",
       "      <td>1.3</td>\n",
       "      <td>1</td>\n",
       "    </tr>\n",
       "    <tr>\n",
       "      <th>97</th>\n",
       "      <td>6.2</td>\n",
       "      <td>2.9</td>\n",
       "      <td>4.3</td>\n",
       "      <td>1.3</td>\n",
       "      <td>1</td>\n",
       "    </tr>\n",
       "    <tr>\n",
       "      <th>98</th>\n",
       "      <td>5.1</td>\n",
       "      <td>2.5</td>\n",
       "      <td>3.0</td>\n",
       "      <td>1.1</td>\n",
       "      <td>1</td>\n",
       "    </tr>\n",
       "    <tr>\n",
       "      <th>99</th>\n",
       "      <td>5.7</td>\n",
       "      <td>2.8</td>\n",
       "      <td>4.1</td>\n",
       "      <td>1.3</td>\n",
       "      <td>1</td>\n",
       "    </tr>\n",
       "  </tbody>\n",
       "</table>\n",
       "<p>100 rows × 5 columns</p>\n",
       "</div>"
      ],
      "text/plain": [
       "    sepal_length  sepal_width  petal_length  petal_width  species\n",
       "0            5.1          3.5           1.4          0.2        0\n",
       "1            4.9          3.0           1.4          0.2        0\n",
       "2            4.7          3.2           1.3          0.2        0\n",
       "3            4.6          3.1           1.5          0.2        0\n",
       "4            5.0          3.6           1.4          0.2        0\n",
       "..           ...          ...           ...          ...      ...\n",
       "95           5.7          3.0           4.2          1.2        1\n",
       "96           5.7          2.9           4.2          1.3        1\n",
       "97           6.2          2.9           4.3          1.3        1\n",
       "98           5.1          2.5           3.0          1.1        1\n",
       "99           5.7          2.8           4.1          1.3        1\n",
       "\n",
       "[100 rows x 5 columns]"
      ]
     },
     "execution_count": 9,
     "metadata": {},
     "output_type": "execute_result"
    }
   ],
   "source": [
    "df"
   ]
  },
  {
   "cell_type": "code",
   "execution_count": 10,
   "metadata": {},
   "outputs": [
    {
     "data": {
      "text/plain": [
       "Text(0.5, 0, 'Sepal Length')"
      ]
     },
     "execution_count": 10,
     "metadata": {},
     "output_type": "execute_result"
    },
    {
     "data": {
      "image/png": "[encoded data removed]",
      "text/plain": [
       "<Figure size 800x550 with 1 Axes>"
      ]
     },
     "metadata": {},
     "output_type": "display_data"
    }
   ],
   "source": [
    "fig, ax = plt.subplots()\n",
    "versicolor = df[df.species == 1]\n",
    "setosa = df[df.species == 0]\n",
    "ax.scatter(versicolor.sepal_length, versicolor.species, c=\"#F00\")\n",
    "ax.scatter(setosa.sepal_length, setosa.species, c=\"#0F0\")\n",
    "ax.set_xlabel(\"Sepal Length\")"
   ]
  },
  {
   "cell_type": "code",
   "execution_count": 11,
   "metadata": {},
   "outputs": [],
   "source": [
    "outliers_length = np.random.uniform(4.0, 4.7, (5, ))\n",
    "outliers_class = np.ones_like(outliers_length)"
   ]
  },
  {
   "cell_type": "code",
   "execution_count": 12,
   "metadata": {},
   "outputs": [
    {
     "name": "stderr",
     "output_type": "stream",
     "text": [
      "/tmp/ipykernel_2435/1843461220.py:3: SettingWithCopyWarning: \n",
      "A value is trying to be set on a copy of a slice from a DataFrame.\n",
      "Try using .loc[row_indexer,col_indexer] = value instead\n",
      "\n",
      "See the caveats in the documentation: https://pandas.pydata.org/pandas-docs/stable/user_guide/indexing.html#returning-a-view-versus-a-copy\n",
      "  df[\"outliers\"] = 0\n"
     ]
    },
    {
     "data": {
      "text/html": [
       "<div>\n",
       "<style scoped>\n",
       "    .dataframe tbody tr th:only-of-type {\n",
       "        vertical-align: middle;\n",
       "    }\n",
       "\n",
       "    .dataframe tbody tr th {\n",
       "        vertical-align: top;\n",
       "    }\n",
       "\n",
       "    .dataframe thead th {\n",
       "        text-align: right;\n",
       "    }\n",
       "</style>\n",
       "<table border=\"1\" class=\"dataframe\">\n",
       "  <thead>\n",
       "    <tr style=\"text-align: right;\">\n",
       "      <th></th>\n",
       "      <th>sepal_length</th>\n",
       "      <th>species</th>\n",
       "      <th>outliers</th>\n",
       "    </tr>\n",
       "  </thead>\n",
       "  <tbody>\n",
       "    <tr>\n",
       "      <th>0</th>\n",
       "      <td>5.100000</td>\n",
       "      <td>0.0</td>\n",
       "      <td>0</td>\n",
       "    </tr>\n",
       "    <tr>\n",
       "      <th>1</th>\n",
       "      <td>4.900000</td>\n",
       "      <td>0.0</td>\n",
       "      <td>0</td>\n",
       "    </tr>\n",
       "    <tr>\n",
       "      <th>2</th>\n",
       "      <td>4.700000</td>\n",
       "      <td>0.0</td>\n",
       "      <td>0</td>\n",
       "    </tr>\n",
       "    <tr>\n",
       "      <th>3</th>\n",
       "      <td>4.600000</td>\n",
       "      <td>0.0</td>\n",
       "      <td>0</td>\n",
       "    </tr>\n",
       "    <tr>\n",
       "      <th>4</th>\n",
       "      <td>5.000000</td>\n",
       "      <td>0.0</td>\n",
       "      <td>0</td>\n",
       "    </tr>\n",
       "    <tr>\n",
       "      <th>...</th>\n",
       "      <td>...</td>\n",
       "      <td>...</td>\n",
       "      <td>...</td>\n",
       "    </tr>\n",
       "    <tr>\n",
       "      <th>0</th>\n",
       "      <td>4.695315</td>\n",
       "      <td>1.0</td>\n",
       "      <td>1</td>\n",
       "    </tr>\n",
       "    <tr>\n",
       "      <th>1</th>\n",
       "      <td>4.345219</td>\n",
       "      <td>1.0</td>\n",
       "      <td>1</td>\n",
       "    </tr>\n",
       "    <tr>\n",
       "      <th>2</th>\n",
       "      <td>4.307028</td>\n",
       "      <td>1.0</td>\n",
       "      <td>1</td>\n",
       "    </tr>\n",
       "    <tr>\n",
       "      <th>3</th>\n",
       "      <td>4.617720</td>\n",
       "      <td>1.0</td>\n",
       "      <td>1</td>\n",
       "    </tr>\n",
       "    <tr>\n",
       "      <th>4</th>\n",
       "      <td>4.659746</td>\n",
       "      <td>1.0</td>\n",
       "      <td>1</td>\n",
       "    </tr>\n",
       "  </tbody>\n",
       "</table>\n",
       "<p>105 rows × 3 columns</p>\n",
       "</div>"
      ],
      "text/plain": [
       "    sepal_length  species  outliers\n",
       "0       5.100000      0.0         0\n",
       "1       4.900000      0.0         0\n",
       "2       4.700000      0.0         0\n",
       "3       4.600000      0.0         0\n",
       "4       5.000000      0.0         0\n",
       "..           ...      ...       ...\n",
       "0       4.695315      1.0         1\n",
       "1       4.345219      1.0         1\n",
       "2       4.307028      1.0         1\n",
       "3       4.617720      1.0         1\n",
       "4       4.659746      1.0         1\n",
       "\n",
       "[105 rows x 3 columns]"
      ]
     },
     "execution_count": 12,
     "metadata": {},
     "output_type": "execute_result"
    }
   ],
   "source": [
    "Nin = len(df)\n",
    "df = df[[\"sepal_length\", \"species\"]]\n",
    "df[\"outliers\"] = 0\n",
    "df = pd.concat([df, pd.DataFrame({\"sepal_length\": outliers_length, \"species\": outliers_class,\n",
    "                                  \"outliers\": 1})], axis=0)\n",
    "df"
   ]
  },
  {
   "cell_type": "code",
   "execution_count": 13,
   "metadata": {},
   "outputs": [
    {
     "data": {
      "text/html": [
       "<div>\n",
       "<style scoped>\n",
       "    .dataframe tbody tr th:only-of-type {\n",
       "        vertical-align: middle;\n",
       "    }\n",
       "\n",
       "    .dataframe tbody tr th {\n",
       "        vertical-align: top;\n",
       "    }\n",
       "\n",
       "    .dataframe thead th {\n",
       "        text-align: right;\n",
       "    }\n",
       "</style>\n",
       "<table border=\"1\" class=\"dataframe\">\n",
       "  <thead>\n",
       "    <tr style=\"text-align: right;\">\n",
       "      <th></th>\n",
       "      <th>sepal_length</th>\n",
       "      <th>species</th>\n",
       "      <th>outliers</th>\n",
       "    </tr>\n",
       "  </thead>\n",
       "  <tbody>\n",
       "    <tr>\n",
       "      <th>0</th>\n",
       "      <td>5.100000</td>\n",
       "      <td>0.0</td>\n",
       "      <td>0</td>\n",
       "    </tr>\n",
       "    <tr>\n",
       "      <th>1</th>\n",
       "      <td>4.900000</td>\n",
       "      <td>0.0</td>\n",
       "      <td>0</td>\n",
       "    </tr>\n",
       "    <tr>\n",
       "      <th>2</th>\n",
       "      <td>4.700000</td>\n",
       "      <td>0.0</td>\n",
       "      <td>0</td>\n",
       "    </tr>\n",
       "    <tr>\n",
       "      <th>3</th>\n",
       "      <td>4.600000</td>\n",
       "      <td>0.0</td>\n",
       "      <td>0</td>\n",
       "    </tr>\n",
       "    <tr>\n",
       "      <th>4</th>\n",
       "      <td>5.000000</td>\n",
       "      <td>0.0</td>\n",
       "      <td>0</td>\n",
       "    </tr>\n",
       "    <tr>\n",
       "      <th>...</th>\n",
       "      <td>...</td>\n",
       "      <td>...</td>\n",
       "      <td>...</td>\n",
       "    </tr>\n",
       "    <tr>\n",
       "      <th>100</th>\n",
       "      <td>4.695315</td>\n",
       "      <td>1.0</td>\n",
       "      <td>1</td>\n",
       "    </tr>\n",
       "    <tr>\n",
       "      <th>101</th>\n",
       "      <td>4.345219</td>\n",
       "      <td>1.0</td>\n",
       "      <td>1</td>\n",
       "    </tr>\n",
       "    <tr>\n",
       "      <th>102</th>\n",
       "      <td>4.307028</td>\n",
       "      <td>1.0</td>\n",
       "      <td>1</td>\n",
       "    </tr>\n",
       "    <tr>\n",
       "      <th>103</th>\n",
       "      <td>4.617720</td>\n",
       "      <td>1.0</td>\n",
       "      <td>1</td>\n",
       "    </tr>\n",
       "    <tr>\n",
       "      <th>104</th>\n",
       "      <td>4.659746</td>\n",
       "      <td>1.0</td>\n",
       "      <td>1</td>\n",
       "    </tr>\n",
       "  </tbody>\n",
       "</table>\n",
       "<p>105 rows × 3 columns</p>\n",
       "</div>"
      ],
      "text/plain": [
       "     sepal_length  species  outliers\n",
       "0        5.100000      0.0         0\n",
       "1        4.900000      0.0         0\n",
       "2        4.700000      0.0         0\n",
       "3        4.600000      0.0         0\n",
       "4        5.000000      0.0         0\n",
       "..            ...      ...       ...\n",
       "100      4.695315      1.0         1\n",
       "101      4.345219      1.0         1\n",
       "102      4.307028      1.0         1\n",
       "103      4.617720      1.0         1\n",
       "104      4.659746      1.0         1\n",
       "\n",
       "[105 rows x 3 columns]"
      ]
     },
     "execution_count": 13,
     "metadata": {},
     "output_type": "execute_result"
    }
   ],
   "source": [
    "df = df.reset_index(drop=True)\n",
    "df"
   ]
  },
  {
   "cell_type": "code",
   "execution_count": 14,
   "metadata": {},
   "outputs": [
    {
     "data": {
      "text/plain": [
       "array([ 50,  11,  41,  36,  18,   5,  20,  56, 103,  13,  32,  97,  29,\n",
       "        72,  67,  23,  40,  27,   6,  47,  99,  62, 102,  60,  69,   0,\n",
       "        54,  95,  16,  57, 104,  66,  17,  21,  89,  28,  81,  52,  58,\n",
       "        35,  42,  94,  30,  46,  34,  86,  83,  68,  19,  63,  85,  88,\n",
       "        49,  71,  37, 100,  14,  76,  77,  26,  51,  22,  84,  53,  64,\n",
       "        87,   7,  96,   3,  10,  25,   9,  45,  65,  78,   8,  38,  39,\n",
       "         4,  82,  12,  98,  15,  75,  59,  61,  70,   1,  73,  48,  31,\n",
       "        74,   2,  93,  33,  43,  90,  91,  80,  55,  24, 101,  79,  44,\n",
       "        92])"
      ]
     },
     "execution_count": 14,
     "metadata": {},
     "output_type": "execute_result"
    }
   ],
   "source": [
    "indices = np.arange(0, len(df))\n",
    "np.random.shuffle(indices)\n",
    "indices"
   ]
  },
  {
   "cell_type": "code",
   "execution_count": 15,
   "metadata": {},
   "outputs": [],
   "source": [
    "df = df.iloc[indices]"
   ]
  },
  {
   "cell_type": "code",
   "execution_count": 16,
   "metadata": {},
   "outputs": [
    {
     "data": {
      "text/html": [
       "<div>\n",
       "<style scoped>\n",
       "    .dataframe tbody tr th:only-of-type {\n",
       "        vertical-align: middle;\n",
       "    }\n",
       "\n",
       "    .dataframe tbody tr th {\n",
       "        vertical-align: top;\n",
       "    }\n",
       "\n",
       "    .dataframe thead th {\n",
       "        text-align: right;\n",
       "    }\n",
       "</style>\n",
       "<table border=\"1\" class=\"dataframe\">\n",
       "  <thead>\n",
       "    <tr style=\"text-align: right;\">\n",
       "      <th></th>\n",
       "      <th>sepal_length</th>\n",
       "      <th>species</th>\n",
       "      <th>outliers</th>\n",
       "    </tr>\n",
       "  </thead>\n",
       "  <tbody>\n",
       "    <tr>\n",
       "      <th>50</th>\n",
       "      <td>7.000000</td>\n",
       "      <td>1.0</td>\n",
       "      <td>0</td>\n",
       "    </tr>\n",
       "    <tr>\n",
       "      <th>11</th>\n",
       "      <td>4.800000</td>\n",
       "      <td>0.0</td>\n",
       "      <td>0</td>\n",
       "    </tr>\n",
       "    <tr>\n",
       "      <th>41</th>\n",
       "      <td>4.500000</td>\n",
       "      <td>0.0</td>\n",
       "      <td>0</td>\n",
       "    </tr>\n",
       "    <tr>\n",
       "      <th>36</th>\n",
       "      <td>5.500000</td>\n",
       "      <td>0.0</td>\n",
       "      <td>0</td>\n",
       "    </tr>\n",
       "    <tr>\n",
       "      <th>18</th>\n",
       "      <td>5.700000</td>\n",
       "      <td>0.0</td>\n",
       "      <td>0</td>\n",
       "    </tr>\n",
       "    <tr>\n",
       "      <th>...</th>\n",
       "      <td>...</td>\n",
       "      <td>...</td>\n",
       "      <td>...</td>\n",
       "    </tr>\n",
       "    <tr>\n",
       "      <th>24</th>\n",
       "      <td>4.800000</td>\n",
       "      <td>0.0</td>\n",
       "      <td>0</td>\n",
       "    </tr>\n",
       "    <tr>\n",
       "      <th>101</th>\n",
       "      <td>4.345219</td>\n",
       "      <td>1.0</td>\n",
       "      <td>1</td>\n",
       "    </tr>\n",
       "    <tr>\n",
       "      <th>79</th>\n",
       "      <td>5.700000</td>\n",
       "      <td>1.0</td>\n",
       "      <td>0</td>\n",
       "    </tr>\n",
       "    <tr>\n",
       "      <th>44</th>\n",
       "      <td>5.100000</td>\n",
       "      <td>0.0</td>\n",
       "      <td>0</td>\n",
       "    </tr>\n",
       "    <tr>\n",
       "      <th>92</th>\n",
       "      <td>5.800000</td>\n",
       "      <td>1.0</td>\n",
       "      <td>0</td>\n",
       "    </tr>\n",
       "  </tbody>\n",
       "</table>\n",
       "<p>105 rows × 3 columns</p>\n",
       "</div>"
      ],
      "text/plain": [
       "     sepal_length  species  outliers\n",
       "50       7.000000      1.0         0\n",
       "11       4.800000      0.0         0\n",
       "41       4.500000      0.0         0\n",
       "36       5.500000      0.0         0\n",
       "18       5.700000      0.0         0\n",
       "..            ...      ...       ...\n",
       "24       4.800000      0.0         0\n",
       "101      4.345219      1.0         1\n",
       "79       5.700000      1.0         0\n",
       "44       5.100000      0.0         0\n",
       "92       5.800000      1.0         0\n",
       "\n",
       "[105 rows x 3 columns]"
      ]
     },
     "execution_count": 16,
     "metadata": {},
     "output_type": "execute_result"
    }
   ],
   "source": [
    "df"
   ]
  },
  {
   "cell_type": "code",
   "execution_count": 17,
   "metadata": {},
   "outputs": [],
   "source": [
    "x = df[\"sepal_length\"]\n",
    "y = df[\"species\"].astype(int)"
   ]
  },
  {
   "cell_type": "code",
   "execution_count": 18,
   "metadata": {},
   "outputs": [
    {
     "data": {
      "text/plain": [
       "50     2.400056\n",
       "11    -0.954432\n",
       "41    -1.411862\n",
       "36     0.112905\n",
       "18     0.417858\n",
       "         ...   \n",
       "24    -0.954432\n",
       "101   -1.647867\n",
       "79     0.417858\n",
       "44    -0.497002\n",
       "92     0.570335\n",
       "Name: sepal_length, Length: 105, dtype: float64"
      ]
     },
     "execution_count": 18,
     "metadata": {},
     "output_type": "execute_result"
    }
   ],
   "source": [
    "xc = (x - x.mean()) / np.sqrt(np.var(x) + 1e-9)\n",
    "yc = y.copy()\n",
    "xc"
   ]
  },
  {
   "cell_type": "code",
   "execution_count": 19,
   "metadata": {},
   "outputs": [],
   "source": [
    "xc, yc = torch.from_numpy(xc.values).float(), torch.from_numpy(yc.values).float()"
   ]
  },
  {
   "cell_type": "code",
   "execution_count": 20,
   "metadata": {},
   "outputs": [
    {
     "data": {
      "text/plain": [
       "(tensor([ 2.4001, -0.9544, -1.4119,  0.1129,  0.4179, -0.0396, -0.0396,  1.3327,\n",
       "         -1.2324, -1.7168, -0.3445,  1.1802, -1.1069,  1.3327,  0.5703, -0.4970,\n",
       "         -0.6495, -0.3445, -1.2594, -1.2594,  0.4179,  0.8753, -1.7061, -0.6495,\n",
       "          0.2654, -0.4970,  1.6377,  0.4179, -0.0396, -0.8020, -1.1683,  0.2654,\n",
       "         -0.4970, -0.4970,  0.1129, -0.3445,  0.1129,  2.2476,  1.7901, -0.6495,\n",
       "         -1.5643,  0.2654, -0.9544, -0.4970, -0.8020,  1.9426,  0.8753,  1.1802,\n",
       "         -0.4970,  1.0278,  0.8753,  0.2654, -0.6495,  1.0278, -0.8020, -1.1141,\n",
       "          0.5703,  2.0951,  1.9426, -0.6495,  1.4852, -1.2594, -0.0396,  0.1129,\n",
       "          0.2654,  1.3327, -0.6495,  0.4179, -1.2594, -0.0396, -0.6495, -0.8020,\n",
       "         -0.9544,  1.9426,  0.8753, -1.5643, -1.5643, -0.4970, -0.6495,  0.5703,\n",
       "         -0.9544, -0.4970,  0.4179,  1.7901, -0.3445,  0.7228,  0.7228, -0.8020,\n",
       "          1.0278, -0.1920, -0.0396,  1.4852, -1.1069, -0.6495,  0.1129, -0.6495,\n",
       "          0.1129,  1.0278,  0.1129,  0.4179, -0.9544, -1.6479,  0.4179, -0.4970,\n",
       "          0.5703]),\n",
       " tensor([1., 0., 0., 0., 0., 0., 0., 1., 1., 0., 0., 1., 0., 1., 1., 0., 0., 0.,\n",
       "         0., 0., 1., 1., 1., 1., 1., 0., 1., 1., 0., 1., 1., 1., 0., 0., 1., 0.,\n",
       "         1., 1., 1., 0., 0., 1., 0., 0., 0., 1., 1., 1., 0., 1., 1., 1., 0., 1.,\n",
       "         0., 1., 0., 1., 1., 0., 1., 0., 1., 1., 1., 1., 0., 1., 0., 0., 0., 0.,\n",
       "         0., 1., 1., 0., 0., 0., 0., 1., 0., 1., 0., 1., 1., 1., 1., 0., 1., 0.,\n",
       "         0., 1., 0., 1., 0., 0., 1., 1., 1., 1., 0., 1., 1., 0., 1.]))"
      ]
     },
     "execution_count": 20,
     "metadata": {},
     "output_type": "execute_result"
    }
   ],
   "source": [
    "xc, yc"
   ]
  },
  {
   "cell_type": "code",
   "execution_count": 21,
   "metadata": {},
   "outputs": [],
   "source": [
    "d = pyro.sample(\"pi\", Beta(1.0, 1.0).expand([100]))"
   ]
  },
  {
   "cell_type": "code",
   "execution_count": 22,
   "metadata": {},
   "outputs": [
    {
     "data": {
      "text/plain": [
       "tensor([0.3432, 0.2559, 0.0097, 0.3637, 0.0891, 0.8770, 0.3049, 0.6585, 0.4348,\n",
       "        0.2925, 0.1354, 0.7341, 0.1230, 0.2617, 0.2355, 0.5497, 0.6828, 0.2837,\n",
       "        0.1713, 0.4757, 0.5546, 0.0846, 0.5704, 0.0210, 0.4116, 0.2684, 0.0633,\n",
       "        0.5161, 0.3320, 0.6198, 0.0822, 0.4482, 0.3905, 0.8059, 0.1502, 0.9073,\n",
       "        0.4641, 0.4783, 0.6776, 0.4100, 0.8055, 0.2866, 0.5360, 0.3129, 0.2604,\n",
       "        0.5779, 0.0365, 0.0705, 0.0471, 0.1371, 0.4057, 0.4422, 0.3697, 0.8023,\n",
       "        0.8134, 0.1834, 0.4924, 0.8906, 0.1897, 0.3405, 0.2327, 0.6509, 0.8941,\n",
       "        0.8850, 0.8923, 0.8800, 0.1509, 0.5912, 0.3633, 0.8338, 0.8971, 0.3883,\n",
       "        0.9373, 0.2529, 0.1950, 0.6276, 0.4490, 0.4371, 0.8643, 0.0976, 0.3351,\n",
       "        0.5806, 0.4761, 0.3736, 0.0882, 0.1646, 0.9013, 0.8106, 0.9342, 0.5245,\n",
       "        0.2560, 0.7398, 0.1550, 0.3181, 0.9744, 0.5872, 0.3120, 0.8570, 0.9837,\n",
       "        0.6724])"
      ]
     },
     "execution_count": 22,
     "metadata": {},
     "output_type": "execute_result"
    }
   ],
   "source": [
    "d"
   ]
  },
  {
   "cell_type": "code",
   "execution_count": 23,
   "metadata": {},
   "outputs": [
    {
     "data": {
      "text/plain": [
       "tensor([0.6704, 0.7294, 3.2467, 0.6617, 1.1174, 0.9691, 0.6914, 0.6712, 0.6421,\n",
       "        0.6997, 0.9302, 0.7205, 0.9690, 0.7241, 0.7502, 0.6398, 0.6840, 0.7061,\n",
       "        0.8449, 0.6374, 0.6404, 1.1436, 0.6430, 2.2201, 0.6468, 0.7184, 1.3076,\n",
       "        0.6369, 0.6759, 0.6557, 1.1592, 0.6401, 0.6524, 0.8049, 0.8910, 1.0975,\n",
       "        0.6383, 0.6372, 0.6811, 0.6472, 0.8042, 0.7040, 0.6383, 0.6865, 0.7253,\n",
       "        0.6445, 1.6965, 1.2431, 1.5030, 0.9254, 0.6483, 0.6409, 0.6594, 0.7993,\n",
       "        0.8170, 0.8225, 0.6367, 1.0198, 0.8118, 0.6717, 0.7533, 0.6677, 1.0346,\n",
       "        0.9978, 1.0267, 0.9795, 0.8893, 0.6475, 0.6618, 0.8550, 1.0477, 0.6531,\n",
       "        1.3127, 0.7322, 0.8033, 0.6584, 0.6400, 0.6417, 0.9294, 1.0725, 0.6743,\n",
       "        0.6451, 0.6373, 0.6580, 1.1226, 0.8584, 1.0675, 0.8123, 1.2837, 0.6374,\n",
       "        0.7294, 0.7255, 0.8795, 0.6834, 2.0164, 0.6465, 0.6870, 0.9092, 2.5149,\n",
       "        0.6782])"
      ]
     },
     "execution_count": 23,
     "metadata": {},
     "output_type": "execute_result"
    }
   ],
   "source": [
    "Beta(0.5, 0.5).log_prob(d).exp()"
   ]
  },
  {
   "cell_type": "code",
   "execution_count": 47,
   "metadata": {},
   "outputs": [],
   "source": [
    "class LogisticRegression():\n",
    "    \n",
    "    def model(self, x, y=None):\n",
    "        \n",
    "        with pyro.plate(\"data\", len(x)):\n",
    "            π_dist = Beta(1.0, 1.0)\n",
    "            π = pyro.sample(\"π\", π_dist)\n",
    "            weights = pyro.sample(\"w\", Normal(0, 1.))\n",
    "            bias = pyro.sample(\"b\", Normal(0, 1.))\n",
    "            lin_reg = torch.sigmoid(weights * x + bias)\n",
    "                        \n",
    "            p = π * 0.5 + (1 - π) * lin_reg\n",
    "            s = pyro.sample(\"s\", Bernoulli(p,), obs=y)\n",
    "            return s\n",
    "\n",
    "    def guide(self, x, y=None):\n",
    "        weights_loc = pyro.param(\"weights_loc\", lambda: torch.randn(1))\n",
    "        weights_scale = pyro.param(\"weights_scale\", lambda: torch.ones(1), constraint=constraints.positive)\n",
    "        \n",
    "        bias_loc = pyro.param(\"bias_loc\", lambda: torch.randn(1))\n",
    "        bias_scale = pyro.param(\"bias_scale\", lambda: torch.ones(1), constraint=constraints.positive)\n",
    "        with pyro.plate(\"data\", len(x)):\n",
    "            weights = pyro.sample(\"w\", Normal(weights_loc, weights_scale))\n",
    "            bias =  pyro.sample(\"b\", Normal(bias_loc, bias_scale))"
   ]
  },
  {
   "cell_type": "code",
   "execution_count": 81,
   "metadata": {},
   "outputs": [
    {
     "name": "stderr",
     "output_type": "stream",
     "text": [
      "/env_nlp/lib/python3.9/site-packages/pyro/util.py:303: UserWarning: Found vars in model but not guide: {'π'}\n",
      "  warnings.warn(f\"Found vars in model but not guide: {bad_sites}\")\n"
     ]
    },
    {
     "name": "stdout",
     "output_type": "stream",
     "text": [
      "weights_loc tensor([0.2647], requires_grad=True)\n",
      "weights_scale tensor([0.9826], grad_fn=<AddBackward0>)\n",
      "bias_loc tensor([0.0183], requires_grad=True)\n",
      "bias_scale tensor([0.9798], grad_fn=<AddBackward0>)\n"
     ]
    }
   ],
   "source": [
    "pyro.clear_param_store()\n",
    "pyro.set_rng_seed(0)\n",
    "torch.manual_seed(0)\n",
    "\n",
    "m = LogisticRegression()\n",
    "svi = SVI(model=m.model, guide=m.guide, \n",
    "          optim=pyro.optim.Adam(dict(lr=1e-3)), loss=Trace_ELBO())\n",
    "\n",
    "losses = []\n",
    "for i in range(2000):\n",
    "    loss = svi.step(xc, yc) \n",
    "    losses.append(loss / len(xc))\n",
    "    \n",
    "\n",
    "for name, param in pyro.get_param_store().items():\n",
    "    print(name, param)\n",
    "    "
   ]
  },
  {
   "cell_type": "code",
   "execution_count": 82,
   "metadata": {},
   "outputs": [
    {
     "data": {
      "text/plain": [
       "[<matplotlib.lines.Line2D at 0x7fcb6247b370>]"
      ]
     },
     "execution_count": 82,
     "metadata": {},
     "output_type": "execute_result"
    },
    {
     "data": {
      "image/png": "[encoded data removed]",
      "text/plain": [
       "<Figure size 800x550 with 1 Axes>"
      ]
     },
     "metadata": {},
     "output_type": "display_data"
    }
   ],
   "source": [
    "plt.plot(losses[::10])"
   ]
  },
  {
   "cell_type": "code",
   "execution_count": 83,
   "metadata": {},
   "outputs": [
    {
     "name": "stdout",
     "output_type": "stream",
     "text": [
      "weights_loc tensor([0.2647], requires_grad=True)\n",
      "weights_scale tensor([0.9826], grad_fn=<AddBackward0>)\n",
      "bias_loc tensor([0.0183], requires_grad=True)\n",
      "bias_scale tensor([0.9798], grad_fn=<AddBackward0>)\n"
     ]
    }
   ],
   "source": [
    "for name, param in pyro.get_param_store().items():\n",
    "    print(name, param)"
   ]
  },
  {
   "cell_type": "code",
   "execution_count": 84,
   "metadata": {},
   "outputs": [],
   "source": [
    "pr = Predictive(m.model, num_samples=1)"
   ]
  },
  {
   "cell_type": "code",
   "execution_count": 85,
   "metadata": {},
   "outputs": [],
   "source": [
    "samples = pr.get_samples(xc)"
   ]
  },
  {
   "cell_type": "code",
   "execution_count": 86,
   "metadata": {},
   "outputs": [
    {
     "data": {
      "text/plain": [
       "{'π': tensor([[0.2385, 0.0335, 0.7734, 0.9944, 0.2944, 0.5632, 0.5395, 0.6566, 0.6166,\n",
       "          0.6590, 0.4878, 0.6024, 0.9912, 0.4868, 0.7165, 0.9554, 0.5675, 0.4552,\n",
       "          0.2192, 0.5008, 0.1011, 0.3909, 0.8242, 0.1017, 0.1202, 0.3635, 0.8688,\n",
       "          0.0120, 0.5216, 0.0541, 0.4237, 0.4956, 0.0807, 0.3515, 0.4917, 0.2899,\n",
       "          0.3189, 0.6637, 0.8944, 0.2765, 0.6086, 0.3145, 0.9330, 0.1357, 0.0069,\n",
       "          0.6564, 0.1923, 0.4514, 0.0054, 0.9984, 0.5643, 0.6206, 0.9907, 0.5861,\n",
       "          0.0044, 0.2643, 0.5442, 0.4612, 0.5980, 0.7322, 0.4870, 0.5166, 0.0625,\n",
       "          0.6406, 0.4097, 0.7136, 0.6086, 0.8371, 0.5159, 0.6827, 0.9381, 0.1995,\n",
       "          0.3560, 0.7457, 0.7504, 0.8421, 0.5831, 0.6609, 0.9836, 0.6441, 0.0167,\n",
       "          0.0503, 0.6261, 0.6894, 0.2273, 0.9551, 0.9123, 0.6861, 0.6002, 0.1402,\n",
       "          0.0026, 0.0719, 0.3295, 0.6099, 0.7854, 0.8030, 0.2512, 0.8972, 0.5826,\n",
       "          0.5581, 0.0485, 0.0444, 0.5340, 0.4929, 0.5087]]),\n",
       " 'w': tensor([[ 8.4212e-01, -5.2070e-01,  2.8904e-01,  2.3592e-01,  2.8919e-01,\n",
       "          -1.8993e-01,  7.6104e-01, -1.0485e-01,  2.3007e-01,  1.9844e-01,\n",
       "           7.4139e-01, -9.6358e-01,  2.0765e-01, -4.7662e-01,  1.6016e+00,\n",
       "           2.5899e-02,  1.1845e+00, -1.6059e+00, -2.3452e+00, -6.9114e-01,\n",
       "           5.7890e-01,  2.2773e+00,  2.2538e+00,  7.4354e-02, -8.7742e-01,\n",
       "           2.8644e+00, -1.2757e+00,  2.9958e-01,  1.9770e+00,  2.6531e-01,\n",
       "           6.2911e-01, -3.3433e-01,  5.0659e-01, -5.3577e-01, -1.2218e+00,\n",
       "          -7.6642e-01, -1.0766e+00,  1.7462e+00,  8.9708e-01,  2.2374e-02,\n",
       "          -2.0998e+00, -5.6075e-01,  1.9866e+00, -1.1733e+00, -1.6418e+00,\n",
       "          -5.1408e-02,  3.5584e-01, -1.0210e+00,  2.5774e+00, -2.0954e+00,\n",
       "           9.9459e-01,  1.4563e+00, -1.5653e+00,  3.0263e-01, -2.5305e-01,\n",
       "           6.2366e-01, -1.1494e+00, -1.2185e+00,  5.8151e-02, -6.2384e-01,\n",
       "          -8.9275e-01,  1.0209e+00,  1.4427e+00, -8.6716e-01, -1.3485e+00,\n",
       "          -5.7142e-01, -3.7929e-02, -1.1482e+00, -1.0910e+00,  1.3446e-03,\n",
       "           1.2415e+00, -3.8554e-01, -2.0082e+00, -2.7322e-01,  8.2788e-01,\n",
       "          -1.6523e+00, -4.1668e-01, -1.1783e+00,  1.9642e-01, -1.0133e+00,\n",
       "          -7.4779e-01,  4.9257e-01,  1.4258e+00,  3.3205e-01,  2.5567e-01,\n",
       "           4.1464e-01, -6.5617e-01, -1.2672e+00,  1.2199e-01, -1.1418e+00,\n",
       "          -2.0858e+00, -1.4707e+00, -6.4653e-01,  2.8363e-01,  1.7723e+00,\n",
       "           4.7339e-01,  8.7517e-01, -1.3681e-01,  7.2618e-01,  3.5048e-01,\n",
       "           6.5966e-02,  1.2152e+00, -1.0324e+00,  7.5403e-01, -1.2360e-02]]),\n",
       " 'b': tensor([[-0.3394,  0.0438,  0.0431,  0.5852, -2.0482,  0.4076,  0.7618,  0.1352,\n",
       "          -0.5548,  0.2505,  0.6369,  0.0811, -0.2111,  1.6653,  0.1834, -1.1103,\n",
       "           0.1209,  0.8495, -0.0402, -0.6341,  0.0964, -0.5356,  0.4162, -1.2070,\n",
       "           1.0916,  0.2151,  0.5548,  1.2632,  0.1630, -0.1379, -0.5173,  1.6961,\n",
       "          -0.4603, -0.5078, -0.7047,  0.5849,  1.0892,  0.3831,  1.1200, -0.1620,\n",
       "           1.0780, -0.1221, -1.2492,  0.7375, -0.2289,  1.3813,  0.2884,  0.8662,\n",
       "           0.1792,  0.9605, -0.9554, -0.1952, -0.4095,  0.5809,  1.5753, -0.1736,\n",
       "          -0.3005, -0.9917,  0.2751, -1.1302,  0.0195, -0.9212,  0.6253,  0.4216,\n",
       "          -0.9898, -0.4970, -1.0077,  1.3711, -0.9472, -1.8353,  0.6067, -1.6406,\n",
       "           0.3131,  0.0454,  0.9271, -0.3180, -1.1530, -0.8481, -1.6471,  0.0964,\n",
       "          -0.5260, -1.3420,  0.8811, -0.0406,  1.1253,  0.9656,  2.1832,  0.8861,\n",
       "          -0.4024, -0.3492, -0.8847, -1.1800, -0.4286,  0.2093,  1.4305, -1.1114,\n",
       "           0.5968,  0.5688, -0.2474,  2.0202,  0.2154,  0.8780, -0.3486,  0.0316,\n",
       "           1.3230]]),\n",
       " 's': tensor([[1., 0., 1., 1., 0., 0., 1., 1., 1., 1., 0., 1., 1., 1., 1., 1., 0., 1.,\n",
       "          1., 1., 0., 1., 1., 0., 1., 1., 0., 1., 0., 0., 0., 1., 0., 0., 0., 0.,\n",
       "          0., 1., 1., 0., 1., 0., 0., 0., 1., 1., 1., 1., 1., 1., 1., 1., 0., 1.,\n",
       "          1., 0., 0., 0., 0., 0., 1., 0., 1., 0., 0., 1., 0., 0., 0., 1., 1., 0.,\n",
       "          1., 0., 0., 1., 0., 0., 0., 1., 0., 0., 1., 1., 1., 0., 1., 1., 0., 1.,\n",
       "          0., 0., 0., 1., 0., 0., 1., 1., 0., 1., 1., 0., 1., 1., 1.]])}"
      ]
     },
     "execution_count": 86,
     "metadata": {},
     "output_type": "execute_result"
    }
   ],
   "source": [
    "samples"
   ]
  },
  {
   "cell_type": "code",
   "execution_count": 87,
   "metadata": {},
   "outputs": [
    {
     "data": {
      "text/plain": [
       "tensor([1., 0., 0., 0., 0., 0., 0., 1., 1., 0., 0., 1., 0., 1., 1., 0., 0., 0.,\n",
       "        0., 0., 1., 1., 1., 1., 1., 0., 1., 1., 0., 1., 1., 1., 0., 0., 1., 0.,\n",
       "        1., 1., 1., 0., 0., 1., 0., 0., 0., 1., 1., 1., 0., 1., 1., 1., 0., 1.,\n",
       "        0., 1., 0., 1., 1., 0., 1., 0., 1., 1., 1., 1., 0., 1., 0., 0., 0., 0.,\n",
       "        0., 1., 1., 0., 0., 0., 0., 1., 0., 1., 0., 1., 1., 1., 1., 0., 1., 0.,\n",
       "        0., 1., 0., 1., 0., 0., 1., 1., 1., 1., 0., 1., 1., 0., 1.])"
      ]
     },
     "execution_count": 87,
     "metadata": {},
     "output_type": "execute_result"
    }
   ],
   "source": [
    "yc"
   ]
  },
  {
   "cell_type": "code",
   "execution_count": 88,
   "metadata": {},
   "outputs": [
    {
     "data": {
      "text/plain": [
       "tensor(0.5714)"
      ]
     },
     "execution_count": 88,
     "metadata": {},
     "output_type": "execute_result"
    }
   ],
   "source": [
    "(samples[\"s\"] == yc).sum() / len(xc)"
   ]
  },
  {
   "cell_type": "code",
   "execution_count": 89,
   "metadata": {},
   "outputs": [
    {
     "data": {
      "text/plain": [
       "50     7.000000\n",
       "11     4.800000\n",
       "41     4.500000\n",
       "36     5.500000\n",
       "18     5.700000\n",
       "         ...   \n",
       "24     4.800000\n",
       "101    4.345219\n",
       "79     5.700000\n",
       "44     5.100000\n",
       "92     5.800000\n",
       "Name: sepal_length, Length: 105, dtype: float64"
      ]
     },
     "execution_count": 89,
     "metadata": {},
     "output_type": "execute_result"
    }
   ],
   "source": [
    "x[indices]"
   ]
  },
  {
   "cell_type": "code",
   "execution_count": 91,
   "metadata": {},
   "outputs": [
    {
     "data": {
      "text/plain": [
       "{'weights_loc': tensor([0.2647], requires_grad=True),\n",
       " 'weights_scale': tensor([0.9826], grad_fn=<AddBackward0>),\n",
       " 'bias_loc': tensor([0.0183], requires_grad=True),\n",
       " 'bias_scale': tensor([0.9798], grad_fn=<AddBackward0>)}"
      ]
     },
     "execution_count": 91,
     "metadata": {},
     "output_type": "execute_result"
    }
   ],
   "source": []
  },
  {
   "cell_type": "code",
   "execution_count": 94,
   "metadata": {},
   "outputs": [
    {
     "data": {
      "text/plain": [
       "torch.return_types.aminmax(\n",
       "min=tensor(4.3000, dtype=torch.float64),\n",
       "max=tensor(7., dtype=torch.float64))"
      ]
     },
     "execution_count": 94,
     "metadata": {},
     "output_type": "execute_result"
    }
   ],
   "source": [
    "torch.aminmax(torch.tensor(x))"
   ]
  },
  {
   "cell_type": "code",
   "execution_count": 113,
   "metadata": {},
   "outputs": [
    {
     "data": {
      "text/plain": [
       "<matplotlib.collections.PathCollection at 0x7fcb4603f8e0>"
      ]
     },
     "execution_count": 113,
     "metadata": {},
     "output_type": "execute_result"
    },
    {
     "data": {
      "image/png": "[encoded data removed]",
      "text/plain": [
       "<Figure size 800x550 with 1 Axes>"
      ]
     },
     "metadata": {},
     "output_type": "display_data"
    }
   ],
   "source": [
    "fig, ax = plt.subplots()\n",
    "params = dict(pyro.get_param_store())\n",
    "weights_loc = params[\"weights_loc\"]\n",
    "bias_loc = params[\"bias_loc\"]\n",
    "weights_scale = params[\"weights_scale\"]\n",
    "bias_scale = params[\"bias_scale\"]\n",
    "\n",
    "points = torch.linspace(4, 8., 100)\n",
    "p = (points - x.mean()) / np.sqrt(x.var() + 1e-9)\n",
    "# z = torch.sigmoid(weights_loc * p ).clone().detach().cpu()\n",
    "z = torch.sigmoid(Normal(weights_loc, weights_scale).sample() * p ).clone().detach().cpu()\n",
    "\n",
    "ax.plot(points, z)\n",
    "ax.scatter(versicolor.sepal_length, versicolor.species, c=\"#F00\")\n",
    "ax.scatter(setosa.sepal_length, setosa.species, c=\"#0F0\")"
   ]
  },
  {
   "cell_type": "code",
   "execution_count": 101,
   "metadata": {},
   "outputs": [
    {
     "data": {
      "text/plain": [
       "5.425952648889387"
      ]
     },
     "execution_count": 101,
     "metadata": {},
     "output_type": "execute_result"
    }
   ],
   "source": [
    "x.mean()"
   ]
  },
  {
   "cell_type": "code",
   "execution_count": null,
   "metadata": {},
   "outputs": [],
   "source": []
  }
 ],
 "metadata": {
  "kernelspec": {
   "display_name": "env_nlp",
   "language": "python",
   "name": "python3"
  },
  "language_info": {
   "codemirror_mode": {
    "name": "ipython",
    "version": 3
   },
   "file_extension": ".py",
   "mimetype": "text/x-python",
   "name": "python",
   "nbconvert_exporter": "python",
   "pygments_lexer": "ipython3",
   "version": "3.9.2"
  },
  "orig_nbformat": 4
 },
 "nbformat": 4,
 "nbformat_minor": 2
}
