{
 "cells": [
  {
   "cell_type": "code",
   "execution_count": 1,
   "metadata": {},
   "outputs": [
    {
     "name": "stderr",
     "output_type": "stream",
     "text": [
      "2024-01-11 08:06:35.206434: I tensorflow/core/platform/cpu_feature_guard.cc:182] This TensorFlow binary is optimized to use available CPU instructions in performance-critical operations.\n",
      "To enable the following instructions: AVX2 FMA, in other operations, rebuild TensorFlow with the appropriate compiler flags.\n",
      "/env_dl/lib/python3.10/site-packages/tqdm/auto.py:21: TqdmWarning: IProgress not found. Please update jupyter and ipywidgets. See https://ipywidgets.readthedocs.io/en/stable/user_install.html\n",
      "  from .autonotebook import tqdm as notebook_tqdm\n"
     ]
    }
   ],
   "source": [
    "%load_ext autoreload\n",
    "%autoreload 2\n",
    "import os\n",
    "import random\n",
    "\n",
    "import seaborn as sns\n",
    "import matplotlib as mpl\n",
    "import matplotlib.pyplot as plt\n",
    "import numpy as np\n",
    "\n",
    "import tensorflow as tf\n",
    "import tensorflow_datasets as tfds\n",
    "import keras\n",
    "from keras import layers, optimizers, losses, metrics, callbacks, ops\n",
    "from PIL import Image\n",
    "\n",
    "from swin_transformer import SwinTransformer"
   ]
  },
  {
   "cell_type": "code",
   "execution_count": 2,
   "metadata": {},
   "outputs": [
    {
     "name": "stderr",
     "output_type": "stream",
     "text": [
      "2024-01-11 08:06:37.246510: I tensorflow/compiler/xla/stream_executor/cuda/cuda_gpu_executor.cc:996] successful NUMA node read from SysFS had negative value (-1), but there must be at least one NUMA node, so returning NUMA node zero. See more at https://github.com/torvalds/linux/blob/v6.0/Documentation/ABI/testing/sysfs-bus-pci#L344-L355\n",
      "2024-01-11 08:06:37.270455: I tensorflow/compiler/xla/stream_executor/cuda/cuda_gpu_executor.cc:996] successful NUMA node read from SysFS had negative value (-1), but there must be at least one NUMA node, so returning NUMA node zero. See more at https://github.com/torvalds/linux/blob/v6.0/Documentation/ABI/testing/sysfs-bus-pci#L344-L355\n",
      "2024-01-11 08:06:37.270713: I tensorflow/compiler/xla/stream_executor/cuda/cuda_gpu_executor.cc:996] successful NUMA node read from SysFS had negative value (-1), but there must be at least one NUMA node, so returning NUMA node zero. See more at https://github.com/torvalds/linux/blob/v6.0/Documentation/ABI/testing/sysfs-bus-pci#L344-L355\n"
     ]
    }
   ],
   "source": [
    "gpus = tf.config.experimental.list_physical_devices(device_type=\"GPU\")\n",
    "for gpu in gpus:\n",
    "    tf.config.experimental.set_memory_growth(gpu, True)\n",
    "os.environ[\"XLA_PYTHON_CLIENT_PREALLOCATE\"] = \"false\"\n",
    "os.environ[\"XLA_PYTHON_CLIENT_ALLOCATOR\"] = \"platform\"\n",
    "plt.style.use(\"seaborn-v0_8\")"
   ]
  },
  {
   "cell_type": "markdown",
   "metadata": {},
   "source": [
    "## Dataset"
   ]
  },
  {
   "cell_type": "code",
   "execution_count": 3,
   "metadata": {},
   "outputs": [],
   "source": [
    "DATASET_PATH = \"/mnt/dl/datasets/Oxford102FlowersSplits/\"\n",
    "LABELS = {i: k.strip() for i, k in enumerate(open(os.path.join(DATASET_PATH, \"names.txt\")))}\n",
    "batch_size = 64\n",
    "img_size = 224\n",
    "SIZE = 128\n",
    "batch_size = 32\n",
    "num_classes = len(LABELS)\n",
    "patch_size = 16\n",
    "num_patches = img_size ** 2 / patch_size **2"
   ]
  },
  {
   "cell_type": "code",
   "execution_count": 4,
   "metadata": {},
   "outputs": [],
   "source": [
    "random.seed(0)\n",
    "np.random.seed(0)\n",
    "tf.random.set_seed(0)"
   ]
  },
  {
   "cell_type": "code",
   "execution_count": 5,
   "metadata": {},
   "outputs": [],
   "source": [
    "def load_dataset(split):\n",
    "    \n",
    "    def load_img(img_fname):\n",
    "        img_bytes = tf.io.read_file(img_fname)\n",
    "        img = tf.io.decode_jpeg(img_bytes)\n",
    "        img = tf.image.resize(img, (img_size, img_size))\n",
    "        img = tf.cast(img, tf.float32)\n",
    "        return img\n",
    "        \n",
    "    path = os.path.join(DATASET_PATH, split, )\n",
    "    img_files = os.listdir(os.path.join(path, \"jpeg\"))\n",
    "    img_files = sorted(img_files, key=lambda x: int(x.replace(\".jpeg\", \"\")))\n",
    "    img_files = list(img_files)[:SIZE]\n",
    "    \n",
    "    labels = list(open(os.path.join(path, \"label\", \"label.txt\"),))\n",
    "    labels = [int(l.strip()) for l in labels][:SIZE]\n",
    "    \n",
    "    img_files = [os.path.join(path, \"jpeg\", name) for name in img_files]\n",
    "    \n",
    "    img_ds = tf.data.Dataset.from_tensor_slices(img_files).map(load_img).cache()\n",
    "    label_ds = tf.data.Dataset.from_tensor_slices(labels).cache()\n",
    "    ds = tf.data.Dataset.zip((img_ds, label_ds))\n",
    "    return ds"
   ]
  },
  {
   "cell_type": "code",
   "execution_count": 6,
   "metadata": {},
   "outputs": [
    {
     "name": "stderr",
     "output_type": "stream",
     "text": [
      "2024-01-11 08:06:37.462376: I tensorflow/compiler/xla/stream_executor/cuda/cuda_gpu_executor.cc:996] successful NUMA node read from SysFS had negative value (-1), but there must be at least one NUMA node, so returning NUMA node zero. See more at https://github.com/torvalds/linux/blob/v6.0/Documentation/ABI/testing/sysfs-bus-pci#L344-L355\n",
      "2024-01-11 08:06:37.462625: I tensorflow/compiler/xla/stream_executor/cuda/cuda_gpu_executor.cc:996] successful NUMA node read from SysFS had negative value (-1), but there must be at least one NUMA node, so returning NUMA node zero. See more at https://github.com/torvalds/linux/blob/v6.0/Documentation/ABI/testing/sysfs-bus-pci#L344-L355\n",
      "2024-01-11 08:06:37.462781: I tensorflow/compiler/xla/stream_executor/cuda/cuda_gpu_executor.cc:996] successful NUMA node read from SysFS had negative value (-1), but there must be at least one NUMA node, so returning NUMA node zero. See more at https://github.com/torvalds/linux/blob/v6.0/Documentation/ABI/testing/sysfs-bus-pci#L344-L355\n",
      "2024-01-11 08:06:38.040300: I tensorflow/compiler/xla/stream_executor/cuda/cuda_gpu_executor.cc:996] successful NUMA node read from SysFS had negative value (-1), but there must be at least one NUMA node, so returning NUMA node zero. See more at https://github.com/torvalds/linux/blob/v6.0/Documentation/ABI/testing/sysfs-bus-pci#L344-L355\n",
      "2024-01-11 08:06:38.040747: I tensorflow/compiler/xla/stream_executor/cuda/cuda_gpu_executor.cc:996] successful NUMA node read from SysFS had negative value (-1), but there must be at least one NUMA node, so returning NUMA node zero. See more at https://github.com/torvalds/linux/blob/v6.0/Documentation/ABI/testing/sysfs-bus-pci#L344-L355\n",
      "2024-01-11 08:06:38.040910: I tensorflow/compiler/xla/stream_executor/cuda/cuda_gpu_executor.cc:996] successful NUMA node read from SysFS had negative value (-1), but there must be at least one NUMA node, so returning NUMA node zero. See more at https://github.com/torvalds/linux/blob/v6.0/Documentation/ABI/testing/sysfs-bus-pci#L344-L355\n",
      "2024-01-11 08:06:38.041044: I tensorflow/core/common_runtime/gpu/gpu_device.cc:1635] Created device /job:localhost/replica:0/task:0/device:GPU:0 with 20883 MB memory:  -> device: 0, name: NVIDIA TITAN RTX, pci bus id: 0000:0a:00.0, compute capability: 7.5\n"
     ]
    }
   ],
   "source": [
    "train_ds = load_dataset(\"train\")\n",
    "validation_ds = load_dataset(\"validation\")\n",
    "test_ds = load_dataset(\"test\")"
   ]
  },
  {
   "cell_type": "code",
   "execution_count": 7,
   "metadata": {},
   "outputs": [],
   "source": [
    "aug_layers = [layers.RandomRotation(0.1), layers.RandomFlip()]\n",
    "\n",
    "def preprocess(img, label, training):\n",
    "    if training:\n",
    "        for aug in aug_layers:\n",
    "            img = aug(img)\n",
    "    return tf.cast(img, tf.float32), label\n",
    "    \n",
    "train_ds = train_ds.shuffle(buffer_size=2048).map(lambda img, label: preprocess(img, label, training=True), num_parallel_calls=5).batch(batch_size)\n",
    "validation_ds = validation_ds.map(lambda img, label: preprocess(img, label, training=False), num_parallel_calls=5).batch(batch_size)\n",
    "test_ds = test_ds.map(lambda img, label: preprocess(img, label, training=False), num_parallel_calls=5).batch(batch_size)"
   ]
  },
  {
   "cell_type": "markdown",
   "metadata": {},
   "source": [
    "## MLP Mixer"
   ]
  },
  {
   "cell_type": "code",
   "execution_count": 8,
   "metadata": {},
   "outputs": [],
   "source": [
    "class PatchLayer(keras.Layer):\n",
    "    \n",
    "    def __init__(self,  patch_size, **kwargs):\n",
    "        super().__init__(**kwargs)\n",
    "        self.patch_size = patch_size\n",
    "        \n",
    "    \n",
    "    def build(self, input_shape):\n",
    "        img_size = input_shape[1]\n",
    "        num_patches = img_size // self.patch_size\n",
    "        assert num_patches * self.patch_size == img_size\n",
    "        idx = ops.arange(img_size)\n",
    "        idx_splits = ops.split(idx, num_patches)\n",
    "        idx_splits = ops.stack(idx_splits)\n",
    "\n",
    "        indices = []\n",
    "        for col in range(num_patches):\n",
    "            for row in range(num_patches):\n",
    "                patch_idx = ops.meshgrid(idx_splits[row], idx_splits[col], indexing=\"xy\")\n",
    "                patch_idx = ops.stack(patch_idx, axis=2)\n",
    "                indices.append(patch_idx)\n",
    "        assert len(indices) == num_patches ** 2\n",
    "        indices = tf.stack(indices, 0)\n",
    "        self.indices = indices\n",
    "        return super().build(input_shape)\n",
    "\n",
    "    def compute_output_shape(self, input_shape):\n",
    "        bz, h, w, c = input_shape\n",
    "        num_patches = h // self.patch_size\n",
    "        return (bz, num_patches ** 2, self.patch_size, self.patch_size, c)\n",
    "        \n",
    "\n",
    "    def gather_patches(self, arg):\n",
    "        x, idx = arg\n",
    "        return tf.gather_nd(x, \n",
    "                            idx,\n",
    "                            batch_dims=0\n",
    "                            )\n",
    "    \n",
    "    def call(self, x):\n",
    "        bz, *_ = ops.shape(x)\n",
    "        pz, h, w, *_ = self.indices.shape\n",
    "        idx = ops.reshape(self.indices, (-1, 2))\n",
    "        idx = ops.expand_dims(idx, 0)\n",
    "        x = ops.vectorized_map(self.gather_patches, (x, idx) )\n",
    "        x = ops.reshape(x, (bz, pz, h, w, -1))\n",
    "        return x\n"
   ]
  },
  {
   "cell_type": "code",
   "execution_count": 9,
   "metadata": {},
   "outputs": [],
   "source": [
    "class MLPMixer(keras.Layer):\n",
    "    \n",
    "    def __init__(self, dc, ds, **kwargs):\n",
    "        super().__init__(**kwargs)\n",
    "        self.dc = dc\n",
    "        self.ds = ds\n",
    "    \n",
    "    def build(self, input_shape):   \n",
    "        bz, sz, c =  input_shape     \n",
    "        self.ln1 = layers.LayerNormalization()\n",
    "        self.ln2 = layers.LayerNormalization()\n",
    "        \n",
    "        self.mlp1 = keras.Sequential([\n",
    "            layers.Dense(self.dc, activation=\"gelu\"),\n",
    "            layers.Dropout(0.1),\n",
    "            layers.Dense(sz),\n",
    "        ])\n",
    "        \n",
    "        self.mlp2 = keras.Sequential([\n",
    "            layers.Dense(self.ds, activation=\"gelu\"),\n",
    "            layers.Dropout(0.1),\n",
    "            layers.Dense(c),\n",
    "        ])\n",
    "\n",
    "    def call(self, x):\n",
    "        prev_x = x\n",
    "        x = self.ln1(x)\n",
    "        x = ops.transpose(x, (0, 2, 1))  \n",
    "        x = self.mlp1(x)\n",
    "        x = ops.transpose(x, (0, 2, 1))\n",
    "        x = ops.add(x, prev_x)\n",
    "        \n",
    "        prev_x = x\n",
    "        x = self.ln2(x)\n",
    "        x = self.mlp2(x)\n",
    "        x = ops.add(x, prev_x)\n",
    "        \n",
    "        return x\n",
    "        \n",
    "\n",
    "def build_mlp_vision_model(input):\n",
    "    x = layers.Rescaling(1/255.0)(input)\n",
    "    \n",
    "    x = PatchLayer(patch_size)(x)\n",
    "    \n",
    "    bz, sz, h, w, c = ops.shape(x)\n",
    "    x = layers.Reshape((sz, h * w * c))(x)\n",
    "    x = layers.Dense(512, activation=\"gelu\")(x)\n",
    "    x = layers.Rescaling( 1 / np.sqrt(512.))(x)\n",
    "    \n",
    "    for i in range(8):\n",
    "        x = MLPMixer(1024, 256)(x)\n",
    "    \n",
    "    x = layers.GlobalAveragePooling1D()(x)\n",
    "    \n",
    "    x = keras.Sequential([\n",
    "        layers.Dense(512),\n",
    "        layers.Activation(\"gelu\"),\n",
    "        layers.Dropout(0.1),\n",
    "        layers.Dense(num_classes)\n",
    "    ])(x)\n",
    "    \n",
    "    return x"
   ]
  },
  {
   "cell_type": "code",
   "execution_count": 10,
   "metadata": {},
   "outputs": [
    {
     "data": {
      "text/html": [
       "<pre style=\"white-space:pre;overflow-x:auto;line-height:normal;font-family:Menlo,'DejaVu Sans Mono',consolas,'Courier New',monospace\"><span style=\"font-weight: bold\">Model: \"functional_18\"</span>\n",
       "</pre>\n"
      ],
      "text/plain": [
       "\u001b[1mModel: \"functional_18\"\u001b[0m\n"
      ]
     },
     "metadata": {},
     "output_type": "display_data"
    },
    {
     "data": {
      "text/html": [
       "<pre style=\"white-space:pre;overflow-x:auto;line-height:normal;font-family:Menlo,'DejaVu Sans Mono',consolas,'Courier New',monospace\">┏━━━━━━━━━━━━━━━━━━━━━━━━━━━━━━━━━┳━━━━━━━━━━━━━━━━━━━━━━━━━━━┳━━━━━━━━━━━━┓\n",
       "┃<span style=\"font-weight: bold\"> Layer (type)                    </span>┃<span style=\"font-weight: bold\"> Output Shape              </span>┃<span style=\"font-weight: bold\">    Param # </span>┃\n",
       "┡━━━━━━━━━━━━━━━━━━━━━━━━━━━━━━━━━╇━━━━━━━━━━━━━━━━━━━━━━━━━━━╇━━━━━━━━━━━━┩\n",
       "│ input_layer (<span style=\"color: #0087ff; text-decoration-color: #0087ff\">InputLayer</span>)        │ (<span style=\"color: #00d7ff; text-decoration-color: #00d7ff\">None</span>, <span style=\"color: #00af00; text-decoration-color: #00af00\">224</span>, <span style=\"color: #00af00; text-decoration-color: #00af00\">224</span>, <span style=\"color: #00af00; text-decoration-color: #00af00\">3</span>)       │          <span style=\"color: #00af00; text-decoration-color: #00af00\">0</span> │\n",
       "├─────────────────────────────────┼───────────────────────────┼────────────┤\n",
       "│ rescaling (<span style=\"color: #0087ff; text-decoration-color: #0087ff\">Rescaling</span>)           │ (<span style=\"color: #00d7ff; text-decoration-color: #00d7ff\">None</span>, <span style=\"color: #00af00; text-decoration-color: #00af00\">224</span>, <span style=\"color: #00af00; text-decoration-color: #00af00\">224</span>, <span style=\"color: #00af00; text-decoration-color: #00af00\">3</span>)       │          <span style=\"color: #00af00; text-decoration-color: #00af00\">0</span> │\n",
       "├─────────────────────────────────┼───────────────────────────┼────────────┤\n",
       "│ patch_layer (<span style=\"color: #0087ff; text-decoration-color: #0087ff\">PatchLayer</span>)        │ (<span style=\"color: #00d7ff; text-decoration-color: #00d7ff\">None</span>, <span style=\"color: #00af00; text-decoration-color: #00af00\">196</span>, <span style=\"color: #00af00; text-decoration-color: #00af00\">16</span>, <span style=\"color: #00af00; text-decoration-color: #00af00\">16</span>, <span style=\"color: #00af00; text-decoration-color: #00af00\">3</span>)    │          <span style=\"color: #00af00; text-decoration-color: #00af00\">0</span> │\n",
       "├─────────────────────────────────┼───────────────────────────┼────────────┤\n",
       "│ reshape (<span style=\"color: #0087ff; text-decoration-color: #0087ff\">Reshape</span>)               │ (<span style=\"color: #00d7ff; text-decoration-color: #00d7ff\">None</span>, <span style=\"color: #00af00; text-decoration-color: #00af00\">196</span>, <span style=\"color: #00af00; text-decoration-color: #00af00\">768</span>)          │          <span style=\"color: #00af00; text-decoration-color: #00af00\">0</span> │\n",
       "├─────────────────────────────────┼───────────────────────────┼────────────┤\n",
       "│ dense (<span style=\"color: #0087ff; text-decoration-color: #0087ff\">Dense</span>)                   │ (<span style=\"color: #00d7ff; text-decoration-color: #00d7ff\">None</span>, <span style=\"color: #00af00; text-decoration-color: #00af00\">196</span>, <span style=\"color: #00af00; text-decoration-color: #00af00\">512</span>)          │    <span style=\"color: #00af00; text-decoration-color: #00af00\">393,728</span> │\n",
       "├─────────────────────────────────┼───────────────────────────┼────────────┤\n",
       "│ rescaling_1 (<span style=\"color: #0087ff; text-decoration-color: #0087ff\">Rescaling</span>)         │ (<span style=\"color: #00d7ff; text-decoration-color: #00d7ff\">None</span>, <span style=\"color: #00af00; text-decoration-color: #00af00\">196</span>, <span style=\"color: #00af00; text-decoration-color: #00af00\">512</span>)          │          <span style=\"color: #00af00; text-decoration-color: #00af00\">0</span> │\n",
       "├─────────────────────────────────┼───────────────────────────┼────────────┤\n",
       "│ mlp_mixer (<span style=\"color: #0087ff; text-decoration-color: #0087ff\">MLPMixer</span>)            │ (<span style=\"color: #00d7ff; text-decoration-color: #00d7ff\">None</span>, <span style=\"color: #00af00; text-decoration-color: #00af00\">196</span>, <span style=\"color: #00af00; text-decoration-color: #00af00\">512</span>)          │    <span style=\"color: #00af00; text-decoration-color: #00af00\">667,588</span> │\n",
       "├─────────────────────────────────┼───────────────────────────┼────────────┤\n",
       "│ mlp_mixer_1 (<span style=\"color: #0087ff; text-decoration-color: #0087ff\">MLPMixer</span>)          │ (<span style=\"color: #00d7ff; text-decoration-color: #00d7ff\">None</span>, <span style=\"color: #00af00; text-decoration-color: #00af00\">196</span>, <span style=\"color: #00af00; text-decoration-color: #00af00\">512</span>)          │    <span style=\"color: #00af00; text-decoration-color: #00af00\">667,588</span> │\n",
       "├─────────────────────────────────┼───────────────────────────┼────────────┤\n",
       "│ mlp_mixer_2 (<span style=\"color: #0087ff; text-decoration-color: #0087ff\">MLPMixer</span>)          │ (<span style=\"color: #00d7ff; text-decoration-color: #00d7ff\">None</span>, <span style=\"color: #00af00; text-decoration-color: #00af00\">196</span>, <span style=\"color: #00af00; text-decoration-color: #00af00\">512</span>)          │    <span style=\"color: #00af00; text-decoration-color: #00af00\">667,588</span> │\n",
       "├─────────────────────────────────┼───────────────────────────┼────────────┤\n",
       "│ mlp_mixer_3 (<span style=\"color: #0087ff; text-decoration-color: #0087ff\">MLPMixer</span>)          │ (<span style=\"color: #00d7ff; text-decoration-color: #00d7ff\">None</span>, <span style=\"color: #00af00; text-decoration-color: #00af00\">196</span>, <span style=\"color: #00af00; text-decoration-color: #00af00\">512</span>)          │    <span style=\"color: #00af00; text-decoration-color: #00af00\">667,588</span> │\n",
       "├─────────────────────────────────┼───────────────────────────┼────────────┤\n",
       "│ mlp_mixer_4 (<span style=\"color: #0087ff; text-decoration-color: #0087ff\">MLPMixer</span>)          │ (<span style=\"color: #00d7ff; text-decoration-color: #00d7ff\">None</span>, <span style=\"color: #00af00; text-decoration-color: #00af00\">196</span>, <span style=\"color: #00af00; text-decoration-color: #00af00\">512</span>)          │    <span style=\"color: #00af00; text-decoration-color: #00af00\">667,588</span> │\n",
       "├─────────────────────────────────┼───────────────────────────┼────────────┤\n",
       "│ mlp_mixer_5 (<span style=\"color: #0087ff; text-decoration-color: #0087ff\">MLPMixer</span>)          │ (<span style=\"color: #00d7ff; text-decoration-color: #00d7ff\">None</span>, <span style=\"color: #00af00; text-decoration-color: #00af00\">196</span>, <span style=\"color: #00af00; text-decoration-color: #00af00\">512</span>)          │    <span style=\"color: #00af00; text-decoration-color: #00af00\">667,588</span> │\n",
       "├─────────────────────────────────┼───────────────────────────┼────────────┤\n",
       "│ mlp_mixer_6 (<span style=\"color: #0087ff; text-decoration-color: #0087ff\">MLPMixer</span>)          │ (<span style=\"color: #00d7ff; text-decoration-color: #00d7ff\">None</span>, <span style=\"color: #00af00; text-decoration-color: #00af00\">196</span>, <span style=\"color: #00af00; text-decoration-color: #00af00\">512</span>)          │    <span style=\"color: #00af00; text-decoration-color: #00af00\">667,588</span> │\n",
       "├─────────────────────────────────┼───────────────────────────┼────────────┤\n",
       "│ mlp_mixer_7 (<span style=\"color: #0087ff; text-decoration-color: #0087ff\">MLPMixer</span>)          │ (<span style=\"color: #00d7ff; text-decoration-color: #00d7ff\">None</span>, <span style=\"color: #00af00; text-decoration-color: #00af00\">196</span>, <span style=\"color: #00af00; text-decoration-color: #00af00\">512</span>)          │    <span style=\"color: #00af00; text-decoration-color: #00af00\">667,588</span> │\n",
       "├─────────────────────────────────┼───────────────────────────┼────────────┤\n",
       "│ global_average_pooling1d        │ (<span style=\"color: #00d7ff; text-decoration-color: #00d7ff\">None</span>, <span style=\"color: #00af00; text-decoration-color: #00af00\">512</span>)               │          <span style=\"color: #00af00; text-decoration-color: #00af00\">0</span> │\n",
       "│ (<span style=\"color: #0087ff; text-decoration-color: #0087ff\">GlobalAveragePooling1D</span>)        │                           │            │\n",
       "├─────────────────────────────────┼───────────────────────────┼────────────┤\n",
       "│ sequential_16 (<span style=\"color: #0087ff; text-decoration-color: #0087ff\">Sequential</span>)      │ (<span style=\"color: #00d7ff; text-decoration-color: #00d7ff\">None</span>, <span style=\"color: #00af00; text-decoration-color: #00af00\">102</span>)               │    <span style=\"color: #00af00; text-decoration-color: #00af00\">314,982</span> │\n",
       "└─────────────────────────────────┴───────────────────────────┴────────────┘\n",
       "</pre>\n"
      ],
      "text/plain": [
       "┏━━━━━━━━━━━━━━━━━━━━━━━━━━━━━━━━━┳━━━━━━━━━━━━━━━━━━━━━━━━━━━┳━━━━━━━━━━━━┓\n",
       "┃\u001b[1m \u001b[0m\u001b[1mLayer (type)                   \u001b[0m\u001b[1m \u001b[0m┃\u001b[1m \u001b[0m\u001b[1mOutput Shape             \u001b[0m\u001b[1m \u001b[0m┃\u001b[1m \u001b[0m\u001b[1m   Param #\u001b[0m\u001b[1m \u001b[0m┃\n",
       "┡━━━━━━━━━━━━━━━━━━━━━━━━━━━━━━━━━╇━━━━━━━━━━━━━━━━━━━━━━━━━━━╇━━━━━━━━━━━━┩\n",
       "│ input_layer (\u001b[38;5;33mInputLayer\u001b[0m)        │ (\u001b[38;5;45mNone\u001b[0m, \u001b[38;5;34m224\u001b[0m, \u001b[38;5;34m224\u001b[0m, \u001b[38;5;34m3\u001b[0m)       │          \u001b[38;5;34m0\u001b[0m │\n",
       "├─────────────────────────────────┼───────────────────────────┼────────────┤\n",
       "│ rescaling (\u001b[38;5;33mRescaling\u001b[0m)           │ (\u001b[38;5;45mNone\u001b[0m, \u001b[38;5;34m224\u001b[0m, \u001b[38;5;34m224\u001b[0m, \u001b[38;5;34m3\u001b[0m)       │          \u001b[38;5;34m0\u001b[0m │\n",
       "├─────────────────────────────────┼───────────────────────────┼────────────┤\n",
       "│ patch_layer (\u001b[38;5;33mPatchLayer\u001b[0m)        │ (\u001b[38;5;45mNone\u001b[0m, \u001b[38;5;34m196\u001b[0m, \u001b[38;5;34m16\u001b[0m, \u001b[38;5;34m16\u001b[0m, \u001b[38;5;34m3\u001b[0m)    │          \u001b[38;5;34m0\u001b[0m │\n",
       "├─────────────────────────────────┼───────────────────────────┼────────────┤\n",
       "│ reshape (\u001b[38;5;33mReshape\u001b[0m)               │ (\u001b[38;5;45mNone\u001b[0m, \u001b[38;5;34m196\u001b[0m, \u001b[38;5;34m768\u001b[0m)          │          \u001b[38;5;34m0\u001b[0m │\n",
       "├─────────────────────────────────┼───────────────────────────┼────────────┤\n",
       "│ dense (\u001b[38;5;33mDense\u001b[0m)                   │ (\u001b[38;5;45mNone\u001b[0m, \u001b[38;5;34m196\u001b[0m, \u001b[38;5;34m512\u001b[0m)          │    \u001b[38;5;34m393,728\u001b[0m │\n",
       "├─────────────────────────────────┼───────────────────────────┼────────────┤\n",
       "│ rescaling_1 (\u001b[38;5;33mRescaling\u001b[0m)         │ (\u001b[38;5;45mNone\u001b[0m, \u001b[38;5;34m196\u001b[0m, \u001b[38;5;34m512\u001b[0m)          │          \u001b[38;5;34m0\u001b[0m │\n",
       "├─────────────────────────────────┼───────────────────────────┼────────────┤\n",
       "│ mlp_mixer (\u001b[38;5;33mMLPMixer\u001b[0m)            │ (\u001b[38;5;45mNone\u001b[0m, \u001b[38;5;34m196\u001b[0m, \u001b[38;5;34m512\u001b[0m)          │    \u001b[38;5;34m667,588\u001b[0m │\n",
       "├─────────────────────────────────┼───────────────────────────┼────────────┤\n",
       "│ mlp_mixer_1 (\u001b[38;5;33mMLPMixer\u001b[0m)          │ (\u001b[38;5;45mNone\u001b[0m, \u001b[38;5;34m196\u001b[0m, \u001b[38;5;34m512\u001b[0m)          │    \u001b[38;5;34m667,588\u001b[0m │\n",
       "├─────────────────────────────────┼───────────────────────────┼────────────┤\n",
       "│ mlp_mixer_2 (\u001b[38;5;33mMLPMixer\u001b[0m)          │ (\u001b[38;5;45mNone\u001b[0m, \u001b[38;5;34m196\u001b[0m, \u001b[38;5;34m512\u001b[0m)          │    \u001b[38;5;34m667,588\u001b[0m │\n",
       "├─────────────────────────────────┼───────────────────────────┼────────────┤\n",
       "│ mlp_mixer_3 (\u001b[38;5;33mMLPMixer\u001b[0m)          │ (\u001b[38;5;45mNone\u001b[0m, \u001b[38;5;34m196\u001b[0m, \u001b[38;5;34m512\u001b[0m)          │    \u001b[38;5;34m667,588\u001b[0m │\n",
       "├─────────────────────────────────┼───────────────────────────┼────────────┤\n",
       "│ mlp_mixer_4 (\u001b[38;5;33mMLPMixer\u001b[0m)          │ (\u001b[38;5;45mNone\u001b[0m, \u001b[38;5;34m196\u001b[0m, \u001b[38;5;34m512\u001b[0m)          │    \u001b[38;5;34m667,588\u001b[0m │\n",
       "├─────────────────────────────────┼───────────────────────────┼────────────┤\n",
       "│ mlp_mixer_5 (\u001b[38;5;33mMLPMixer\u001b[0m)          │ (\u001b[38;5;45mNone\u001b[0m, \u001b[38;5;34m196\u001b[0m, \u001b[38;5;34m512\u001b[0m)          │    \u001b[38;5;34m667,588\u001b[0m │\n",
       "├─────────────────────────────────┼───────────────────────────┼────────────┤\n",
       "│ mlp_mixer_6 (\u001b[38;5;33mMLPMixer\u001b[0m)          │ (\u001b[38;5;45mNone\u001b[0m, \u001b[38;5;34m196\u001b[0m, \u001b[38;5;34m512\u001b[0m)          │    \u001b[38;5;34m667,588\u001b[0m │\n",
       "├─────────────────────────────────┼───────────────────────────┼────────────┤\n",
       "│ mlp_mixer_7 (\u001b[38;5;33mMLPMixer\u001b[0m)          │ (\u001b[38;5;45mNone\u001b[0m, \u001b[38;5;34m196\u001b[0m, \u001b[38;5;34m512\u001b[0m)          │    \u001b[38;5;34m667,588\u001b[0m │\n",
       "├─────────────────────────────────┼───────────────────────────┼────────────┤\n",
       "│ global_average_pooling1d        │ (\u001b[38;5;45mNone\u001b[0m, \u001b[38;5;34m512\u001b[0m)               │          \u001b[38;5;34m0\u001b[0m │\n",
       "│ (\u001b[38;5;33mGlobalAveragePooling1D\u001b[0m)        │                           │            │\n",
       "├─────────────────────────────────┼───────────────────────────┼────────────┤\n",
       "│ sequential_16 (\u001b[38;5;33mSequential\u001b[0m)      │ (\u001b[38;5;45mNone\u001b[0m, \u001b[38;5;34m102\u001b[0m)               │    \u001b[38;5;34m314,982\u001b[0m │\n",
       "└─────────────────────────────────┴───────────────────────────┴────────────┘\n"
      ]
     },
     "metadata": {},
     "output_type": "display_data"
    },
    {
     "data": {
      "text/html": [
       "<pre style=\"white-space:pre;overflow-x:auto;line-height:normal;font-family:Menlo,'DejaVu Sans Mono',consolas,'Courier New',monospace\"><span style=\"font-weight: bold\"> Total params: </span><span style=\"color: #00af00; text-decoration-color: #00af00\">6,049,414</span> (23.08 MB)\n",
       "</pre>\n"
      ],
      "text/plain": [
       "\u001b[1m Total params: \u001b[0m\u001b[38;5;34m6,049,414\u001b[0m (23.08 MB)\n"
      ]
     },
     "metadata": {},
     "output_type": "display_data"
    },
    {
     "data": {
      "text/html": [
       "<pre style=\"white-space:pre;overflow-x:auto;line-height:normal;font-family:Menlo,'DejaVu Sans Mono',consolas,'Courier New',monospace\"><span style=\"font-weight: bold\"> Trainable params: </span><span style=\"color: #00af00; text-decoration-color: #00af00\">6,049,414</span> (23.08 MB)\n",
       "</pre>\n"
      ],
      "text/plain": [
       "\u001b[1m Trainable params: \u001b[0m\u001b[38;5;34m6,049,414\u001b[0m (23.08 MB)\n"
      ]
     },
     "metadata": {},
     "output_type": "display_data"
    },
    {
     "data": {
      "text/html": [
       "<pre style=\"white-space:pre;overflow-x:auto;line-height:normal;font-family:Menlo,'DejaVu Sans Mono',consolas,'Courier New',monospace\"><span style=\"font-weight: bold\"> Non-trainable params: </span><span style=\"color: #00af00; text-decoration-color: #00af00\">0</span> (0.00 B)\n",
       "</pre>\n"
      ],
      "text/plain": [
       "\u001b[1m Non-trainable params: \u001b[0m\u001b[38;5;34m0\u001b[0m (0.00 B)\n"
      ]
     },
     "metadata": {},
     "output_type": "display_data"
    }
   ],
   "source": [
    "input = keras.Input(shape=(img_size, img_size, 3))\n",
    "mlp_mixer_out = build_mlp_vision_model(input)\n",
    "mlp_mixer_model = keras.Model(input, mlp_mixer_out)\n",
    "mlp_mixer_model.summary()\n"
   ]
  },
  {
   "cell_type": "code",
   "execution_count": 11,
   "metadata": {},
   "outputs": [],
   "source": [
    "mlp_mixer_model.compile(optimizer=optimizers.Adam(1e-3),\n",
    "              loss=losses.SparseCategoricalCrossentropy(from_logits=True),\n",
    "              metrics=[metrics.SparseCategoricalAccuracy(\"acc\"),\n",
    "                       ]\n",
    "              )\n"
   ]
  },
  {
   "cell_type": "code",
   "execution_count": 12,
   "metadata": {},
   "outputs": [
    {
     "name": "stdout",
     "output_type": "stream",
     "text": [
      "Epoch 1/20\n"
     ]
    },
    {
     "name": "stderr",
     "output_type": "stream",
     "text": [
      "2024-01-09 18:53:50.716531: I tensorflow/core/common_runtime/executor.cc:1197] [/device:CPU:0] (DEBUG INFO) Executor start aborting (this does not indicate an error and you can ignore this message): INVALID_ARGUMENT: You must feed a value for placeholder tensor 'Placeholder/_0' with dtype string and shape [128]\n",
      "\t [[{{node Placeholder/_0}}]]\n",
      "2024-01-09 18:53:50.716863: I tensorflow/core/common_runtime/executor.cc:1197] [/device:CPU:0] (DEBUG INFO) Executor start aborting (this does not indicate an error and you can ignore this message): INVALID_ARGUMENT: You must feed a value for placeholder tensor 'Placeholder/_6' with dtype int32 and shape [128]\n",
      "\t [[{{node Placeholder/_6}}]]\n",
      "2024-01-09 18:53:50.845654: I tensorflow/core/common_runtime/executor.cc:1197] [/device:CPU:0] (DEBUG INFO) Executor start aborting (this does not indicate an error and you can ignore this message): INVALID_ARGUMENT: You must feed a value for placeholder tensor 'pfor/Reshape/functional_18_1/patch_layer_1/Max' with dtype int32\n",
      "\t [[{{node pfor/Reshape/functional_18_1/patch_layer_1/Max}}]]\n",
      "2024-01-09 18:53:57.218574: I tensorflow/core/common_runtime/executor.cc:1197] [/device:CPU:0] (DEBUG INFO) Executor start aborting (this does not indicate an error and you can ignore this message): INVALID_ARGUMENT: You must feed a value for placeholder tensor 'pfor/Reshape/functional_18_1/patch_layer_1/Max' with dtype int32\n",
      "\t [[{{node pfor/Reshape/functional_18_1/patch_layer_1/Max}}]]\n",
      "2024-01-09 18:54:01.035596: I tensorflow/core/common_runtime/executor.cc:1197] [/device:CPU:0] (DEBUG INFO) Executor start aborting (this does not indicate an error and you can ignore this message): INVALID_ARGUMENT: You must feed a value for placeholder tensor '29821' with dtype int32 and shape [196,16,16,2]\n",
      "\t [[{{node 29821}}]]\n",
      "2024-01-09 18:54:02.355998: I tensorflow/compiler/xla/service/service.cc:169] XLA service 0x55586ecfa620 initialized for platform CUDA (this does not guarantee that XLA will be used). Devices:\n",
      "2024-01-09 18:54:02.356065: I tensorflow/compiler/xla/service/service.cc:177]   StreamExecutor device (0): NVIDIA TITAN RTX, Compute Capability 7.5\n",
      "2024-01-09 18:54:02.865575: I tensorflow/compiler/mlir/tensorflow/utils/dump_mlir_util.cc:269] disabling MLIR crash reproducer, set env var `MLIR_CRASH_REPRODUCER_DIRECTORY` to enable.\n",
      "2024-01-09 18:54:05.331018: I tensorflow/compiler/xla/stream_executor/cuda/cuda_dnn.cc:424] Loaded cuDNN version 8600\n",
      "2024-01-09 18:54:06.028757: I tensorflow/tsl/platform/default/subprocess.cc:304] Start cannot spawn child process: No such file or directory\n",
      "2024-01-09 18:54:18.368929: I tensorflow/compiler/xla/stream_executor/gpu/asm_compiler.cc:328] ptxas warning : Registers are spilled to local memory in function 'fusion_405', 56 bytes spill stores, 56 bytes spill loads\n",
      "\n"
     ]
    },
    {
     "name": "stdout",
     "output_type": "stream",
     "text": [
      "\u001b[1m1/4\u001b[0m \u001b[32m━━━━━\u001b[0m\u001b[37m━━━━━━━━━━━━━━━\u001b[0m \u001b[1m1:27\u001b[0m 29s/step - acc: 0.0000e+00 - loss: 4.9758"
     ]
    },
    {
     "name": "stderr",
     "output_type": "stream",
     "text": [
      "2024-01-09 18:54:19.834770: I ./tensorflow/compiler/jit/device_compiler.h:180] Compiled cluster using XLA!  This line is logged at most once for the lifetime of the process.\n"
     ]
    },
    {
     "name": "stdout",
     "output_type": "stream",
     "text": [
      "\u001b[1m4/4\u001b[0m \u001b[32m━━━━━━━━━━━━━━━━━━━━\u001b[0m\u001b[37m\u001b[0m \u001b[1m0s\u001b[0m 94ms/step - acc: 0.0189 - loss: 4.9422 "
     ]
    },
    {
     "name": "stderr",
     "output_type": "stream",
     "text": [
      "2024-01-09 18:54:20.250143: I tensorflow/core/common_runtime/executor.cc:1197] [/device:CPU:0] (DEBUG INFO) Executor start aborting (this does not indicate an error and you can ignore this message): INVALID_ARGUMENT: You must feed a value for placeholder tensor 'Placeholder/_0' with dtype string and shape [128]\n",
      "\t [[{{node Placeholder/_0}}]]\n",
      "2024-01-09 18:54:20.250412: I tensorflow/core/common_runtime/executor.cc:1197] [/device:CPU:0] (DEBUG INFO) Executor start aborting (this does not indicate an error and you can ignore this message): INVALID_ARGUMENT: You must feed a value for placeholder tensor 'Placeholder/_0' with dtype string and shape [128]\n",
      "\t [[{{node Placeholder/_0}}]]\n",
      "2024-01-09 18:54:20.285700: I tensorflow/core/common_runtime/executor.cc:1197] [/device:CPU:0] (DEBUG INFO) Executor start aborting (this does not indicate an error and you can ignore this message): INVALID_ARGUMENT: You must feed a value for placeholder tensor 'pfor/Reshape/functional_18_1/patch_layer_1/Max' with dtype int32\n",
      "\t [[{{node pfor/Reshape/functional_18_1/patch_layer_1/Max}}]]\n",
      "2024-01-09 18:54:20.820988: I tensorflow/core/common_runtime/executor.cc:1197] [/device:CPU:0] (DEBUG INFO) Executor start aborting (this does not indicate an error and you can ignore this message): INVALID_ARGUMENT: You must feed a value for placeholder tensor '31883' with dtype int32 and shape [196,16,16,2]\n",
      "\t [[{{node 31883}}]]\n"
     ]
    },
    {
     "name": "stdout",
     "output_type": "stream",
     "text": [
      "\u001b[1m4/4\u001b[0m \u001b[32m━━━━━━━━━━━━━━━━━━━━\u001b[0m\u001b[37m\u001b[0m \u001b[1m32s\u001b[0m 1s/step - acc: 0.0198 - loss: 4.9296 - val_acc: 0.0156 - val_loss: 4.7133\n",
      "Epoch 2/20\n",
      "\u001b[1m4/4\u001b[0m \u001b[32m━━━━━━━━━━━━━━━━━━━━\u001b[0m\u001b[37m\u001b[0m \u001b[1m1s\u001b[0m 156ms/step - acc: 0.0146 - loss: 4.5363 - val_acc: 0.0078 - val_loss: 4.8333\n",
      "Epoch 3/20\n",
      "\u001b[1m4/4\u001b[0m \u001b[32m━━━━━━━━━━━━━━━━━━━━\u001b[0m\u001b[37m\u001b[0m \u001b[1m1s\u001b[0m 153ms/step - acc: 0.0052 - loss: 4.3864 - val_acc: 0.0078 - val_loss: 4.9633\n",
      "Epoch 4/20\n",
      "\u001b[1m4/4\u001b[0m \u001b[32m━━━━━━━━━━━━━━━━━━━━\u001b[0m\u001b[37m\u001b[0m \u001b[1m1s\u001b[0m 155ms/step - acc: 0.0427 - loss: 4.3509 - val_acc: 0.0156 - val_loss: 5.0164\n",
      "Epoch 5/20\n",
      "\u001b[1m4/4\u001b[0m \u001b[32m━━━━━━━━━━━━━━━━━━━━\u001b[0m\u001b[37m\u001b[0m \u001b[1m1s\u001b[0m 151ms/step - acc: 0.0260 - loss: 4.4185 - val_acc: 0.0312 - val_loss: 5.2508\n",
      "Epoch 6/20\n",
      "\u001b[1m4/4\u001b[0m \u001b[32m━━━━━━━━━━━━━━━━━━━━\u001b[0m\u001b[37m\u001b[0m \u001b[1m1s\u001b[0m 156ms/step - acc: 0.0146 - loss: 4.3928 - val_acc: 0.0156 - val_loss: 5.5297\n",
      "Epoch 7/20\n",
      "\u001b[1m4/4\u001b[0m \u001b[32m━━━━━━━━━━━━━━━━━━━━\u001b[0m\u001b[37m\u001b[0m \u001b[1m1s\u001b[0m 150ms/step - acc: 0.0292 - loss: 4.3989 - val_acc: 0.0000e+00 - val_loss: 5.2009\n",
      "Epoch 8/20\n",
      "\u001b[1m4/4\u001b[0m \u001b[32m━━━━━━━━━━━━━━━━━━━━\u001b[0m\u001b[37m\u001b[0m \u001b[1m1s\u001b[0m 155ms/step - acc: 0.0281 - loss: 4.2405 - val_acc: 0.0078 - val_loss: 5.1879\n",
      "Epoch 9/20\n",
      "\u001b[1m4/4\u001b[0m \u001b[32m━━━━━━━━━━━━━━━━━━━━\u001b[0m\u001b[37m\u001b[0m \u001b[1m1s\u001b[0m 151ms/step - acc: 0.0552 - loss: 4.2281 - val_acc: 0.0312 - val_loss: 5.0979\n",
      "Epoch 10/20\n",
      "\u001b[1m4/4\u001b[0m \u001b[32m━━━━━━━━━━━━━━━━━━━━\u001b[0m\u001b[37m\u001b[0m \u001b[1m1s\u001b[0m 151ms/step - acc: 0.0208 - loss: 4.2720 - val_acc: 0.0156 - val_loss: 5.4480\n",
      "Epoch 11/20\n",
      "\u001b[1m4/4\u001b[0m \u001b[32m━━━━━━━━━━━━━━━━━━━━\u001b[0m\u001b[37m\u001b[0m \u001b[1m1s\u001b[0m 151ms/step - acc: 0.0188 - loss: 4.2170 - val_acc: 0.0156 - val_loss: 5.4288\n",
      "Epoch 12/20\n",
      "\u001b[1m4/4\u001b[0m \u001b[32m━━━━━━━━━━━━━━━━━━━━\u001b[0m\u001b[37m\u001b[0m \u001b[1m1s\u001b[0m 153ms/step - acc: 0.0802 - loss: 4.0051 - val_acc: 0.0000e+00 - val_loss: 5.5246\n",
      "Epoch 13/20\n",
      "\u001b[1m4/4\u001b[0m \u001b[32m━━━━━━━━━━━━━━━━━━━━\u001b[0m\u001b[37m\u001b[0m \u001b[1m1s\u001b[0m 151ms/step - acc: 0.0500 - loss: 4.0023 - val_acc: 0.0000e+00 - val_loss: 5.5966\n",
      "Epoch 14/20\n",
      "\u001b[1m4/4\u001b[0m \u001b[32m━━━━━━━━━━━━━━━━━━━━\u001b[0m\u001b[37m\u001b[0m \u001b[1m1s\u001b[0m 149ms/step - acc: 0.0865 - loss: 3.7875 - val_acc: 0.0078 - val_loss: 5.6543\n",
      "Epoch 15/20\n",
      "\u001b[1m4/4\u001b[0m \u001b[32m━━━━━━━━━━━━━━━━━━━━\u001b[0m\u001b[37m\u001b[0m \u001b[1m1s\u001b[0m 144ms/step - acc: 0.0958 - loss: 3.6152 - val_acc: 0.0156 - val_loss: 5.9073\n",
      "Epoch 16/20\n",
      "\u001b[1m4/4\u001b[0m \u001b[32m━━━━━━━━━━━━━━━━━━━━\u001b[0m\u001b[37m\u001b[0m \u001b[1m1s\u001b[0m 149ms/step - acc: 0.1073 - loss: 3.4087 - val_acc: 0.0391 - val_loss: 6.4243\n",
      "Epoch 17/20\n",
      "\u001b[1m4/4\u001b[0m \u001b[32m━━━━━━━━━━━━━━━━━━━━\u001b[0m\u001b[37m\u001b[0m \u001b[1m1s\u001b[0m 152ms/step - acc: 0.1427 - loss: 3.4634 - val_acc: 0.0312 - val_loss: 6.1024\n",
      "Epoch 18/20\n",
      "\u001b[1m4/4\u001b[0m \u001b[32m━━━━━━━━━━━━━━━━━━━━\u001b[0m\u001b[37m\u001b[0m \u001b[1m1s\u001b[0m 151ms/step - acc: 0.1385 - loss: 3.3563 - val_acc: 0.0469 - val_loss: 6.1452\n",
      "Epoch 19/20\n",
      "\u001b[1m4/4\u001b[0m \u001b[32m━━━━━━━━━━━━━━━━━━━━\u001b[0m\u001b[37m\u001b[0m \u001b[1m1s\u001b[0m 156ms/step - acc: 0.1490 - loss: 3.1504 - val_acc: 0.0469 - val_loss: 6.4320\n",
      "Epoch 20/20\n",
      "\u001b[1m4/4\u001b[0m \u001b[32m━━━━━━━━━━━━━━━━━━━━\u001b[0m\u001b[37m\u001b[0m \u001b[1m1s\u001b[0m 153ms/step - acc: 0.1063 - loss: 3.2285 - val_acc: 0.0469 - val_loss: 6.3837\n"
     ]
    }
   ],
   "source": [
    "history = mlp_mixer_model.fit(train_ds, epochs=20, validation_data=validation_ds)"
   ]
  },
  {
   "cell_type": "markdown",
   "metadata": {},
   "source": [
    "## Conv Mixer"
   ]
  },
  {
   "cell_type": "code",
   "execution_count": 13,
   "metadata": {},
   "outputs": [],
   "source": [
    "patch_size = 7"
   ]
  },
  {
   "cell_type": "code",
   "execution_count": 14,
   "metadata": {},
   "outputs": [],
   "source": [
    "\n",
    "\n",
    "class PatchEmbedding(layers.Layer):\n",
    "    \n",
    "    def __init__(self, filters, **kwargs):\n",
    "        super().__init__(**kwargs)\n",
    "        self.patch = PatchLayer(patch_size)\n",
    "        self.conv = layers.Conv2D(filters, patch_size, strides=patch_size, activation=\"gelu\")\n",
    "        self.bn = layers.BatchNormalization()\n",
    "           \n",
    "    def call(self, x):\n",
    "        x = self.conv(x)\n",
    "        x = self.bn(x)\n",
    "        return x\n",
    "\n",
    "\n",
    "class ConvMixerLayer(layers.Layer):\n",
    "    \n",
    "    def __init__(self,kernel, **kwargs):\n",
    "        super().__init__(**kwargs)\n",
    "        self.kernel = kernel\n",
    "    \n",
    "    def build(self, input_shape):\n",
    "        self.conv1 = layers.DepthwiseConv2D(self.kernel, padding=\"same\")\n",
    "        self.conv2 = layers.Conv2D(input_shape[-1], 1, )\n",
    "        \n",
    "        self.act1 = keras.Sequential([\n",
    "            layers.Activation(\"gelu\"),\n",
    "            layers.BatchNormalization()\n",
    "        ])\n",
    "        \n",
    "        self.act2 = keras.Sequential([\n",
    "            layers.Activation(\"gelu\"),\n",
    "            layers.BatchNormalization()\n",
    "        ])\n",
    "    \n",
    "    def call(self, x):\n",
    "        prev_x = x\n",
    "        x = self.conv1(x)\n",
    "        x = self.act1(x)\n",
    "        x = ops.add(x, prev_x)\n",
    "        \n",
    "        x = self.conv2(x)\n",
    "        x = self.act2(x)\n",
    "        return x\n",
    "        \n",
    "    \n",
    "    \n",
    "class ConvMixer(layers.Layer):\n",
    "    \n",
    "    def __init__(self, **kwargs):\n",
    "        super().__init__(**kwargs)\n",
    "    \n",
    "    def build(self, input_shape):\n",
    "        self.rescaling = layers.Rescaling(1 / 255.0)\n",
    "        self.patch_embedding = PatchEmbedding(512)\n",
    "        self.act1 = keras.Sequential([\n",
    "            layers.Activation(\"gelu\"),\n",
    "            layers.BatchNormalization()\n",
    "        ])\n",
    "        \n",
    "        self.conv_mix_net = keras.Sequential([ConvMixerLayer(patch_size)\n",
    "                                              for _ in range(8)\n",
    "                                              ])\n",
    "        self.pooling = layers.GlobalAveragePooling2D()\n",
    "        \n",
    "        self.classifier = keras.Sequential([\n",
    "                            layers.Dense(1024),\n",
    "                            layers.Activation(\"gelu\"),\n",
    "                            layers.Dropout(0.1),\n",
    "                            layers.Dense(num_classes)\n",
    "              ])\n",
    "    \n",
    "    def call(self, x):\n",
    "        x = self.rescaling(x)\n",
    "        x = self.patch_embedding(x)\n",
    "        x = self.act1(x)\n",
    "        x = self.conv_mix_net(x)\n",
    "        x = self.pooling(x)\n",
    "        x = self.classifier(x)\n",
    "        \n",
    "        return x\n",
    "        "
   ]
  },
  {
   "cell_type": "code",
   "execution_count": 15,
   "metadata": {},
   "outputs": [
    {
     "name": "stderr",
     "output_type": "stream",
     "text": [
      "/env_dl/lib/python3.10/site-packages/keras/src/layers/layer.py:358: UserWarning: `build()` was called on layer 'patch_embedding', however the layer does not have a `build()` method implemented and it looks like it has unbuilt state. This will cause the layer to be marked as built, despite not being actually built, which may cause failures down the line. Make sure to implement a proper `build()` method.\n",
      "  warnings.warn(\n"
     ]
    },
    {
     "data": {
      "text/html": [
       "<pre style=\"white-space:pre;overflow-x:auto;line-height:normal;font-family:Menlo,'DejaVu Sans Mono',consolas,'Courier New',monospace\"><span style=\"font-weight: bold\">Model: \"functional_39\"</span>\n",
       "</pre>\n"
      ],
      "text/plain": [
       "\u001b[1mModel: \"functional_39\"\u001b[0m\n"
      ]
     },
     "metadata": {},
     "output_type": "display_data"
    },
    {
     "data": {
      "text/html": [
       "<pre style=\"white-space:pre;overflow-x:auto;line-height:normal;font-family:Menlo,'DejaVu Sans Mono',consolas,'Courier New',monospace\">┏━━━━━━━━━━━━━━━━━━━━━━━━━━━━━━━━━┳━━━━━━━━━━━━━━━━━━━━━━━━━━━┳━━━━━━━━━━━━┓\n",
       "┃<span style=\"font-weight: bold\"> Layer (type)                    </span>┃<span style=\"font-weight: bold\"> Output Shape              </span>┃<span style=\"font-weight: bold\">    Param # </span>┃\n",
       "┡━━━━━━━━━━━━━━━━━━━━━━━━━━━━━━━━━╇━━━━━━━━━━━━━━━━━━━━━━━━━━━╇━━━━━━━━━━━━┩\n",
       "│ input_layer (<span style=\"color: #0087ff; text-decoration-color: #0087ff\">InputLayer</span>)        │ (<span style=\"color: #00d7ff; text-decoration-color: #00d7ff\">None</span>, <span style=\"color: #00af00; text-decoration-color: #00af00\">224</span>, <span style=\"color: #00af00; text-decoration-color: #00af00\">224</span>, <span style=\"color: #00af00; text-decoration-color: #00af00\">3</span>)       │          <span style=\"color: #00af00; text-decoration-color: #00af00\">0</span> │\n",
       "├─────────────────────────────────┼───────────────────────────┼────────────┤\n",
       "│ conv_mixer (<span style=\"color: #0087ff; text-decoration-color: #0087ff\">ConvMixer</span>)          │ (<span style=\"color: #00d7ff; text-decoration-color: #00d7ff\">None</span>, <span style=\"color: #00af00; text-decoration-color: #00af00\">102</span>)               │  <span style=\"color: #00af00; text-decoration-color: #00af00\">3,048,550</span> │\n",
       "└─────────────────────────────────┴───────────────────────────┴────────────┘\n",
       "</pre>\n"
      ],
      "text/plain": [
       "┏━━━━━━━━━━━━━━━━━━━━━━━━━━━━━━━━━┳━━━━━━━━━━━━━━━━━━━━━━━━━━━┳━━━━━━━━━━━━┓\n",
       "┃\u001b[1m \u001b[0m\u001b[1mLayer (type)                   \u001b[0m\u001b[1m \u001b[0m┃\u001b[1m \u001b[0m\u001b[1mOutput Shape             \u001b[0m\u001b[1m \u001b[0m┃\u001b[1m \u001b[0m\u001b[1m   Param #\u001b[0m\u001b[1m \u001b[0m┃\n",
       "┡━━━━━━━━━━━━━━━━━━━━━━━━━━━━━━━━━╇━━━━━━━━━━━━━━━━━━━━━━━━━━━╇━━━━━━━━━━━━┩\n",
       "│ input_layer (\u001b[38;5;33mInputLayer\u001b[0m)        │ (\u001b[38;5;45mNone\u001b[0m, \u001b[38;5;34m224\u001b[0m, \u001b[38;5;34m224\u001b[0m, \u001b[38;5;34m3\u001b[0m)       │          \u001b[38;5;34m0\u001b[0m │\n",
       "├─────────────────────────────────┼───────────────────────────┼────────────┤\n",
       "│ conv_mixer (\u001b[38;5;33mConvMixer\u001b[0m)          │ (\u001b[38;5;45mNone\u001b[0m, \u001b[38;5;34m102\u001b[0m)               │  \u001b[38;5;34m3,048,550\u001b[0m │\n",
       "└─────────────────────────────────┴───────────────────────────┴────────────┘\n"
      ]
     },
     "metadata": {},
     "output_type": "display_data"
    },
    {
     "data": {
      "text/html": [
       "<pre style=\"white-space:pre;overflow-x:auto;line-height:normal;font-family:Menlo,'DejaVu Sans Mono',consolas,'Courier New',monospace\"><span style=\"font-weight: bold\"> Total params: </span><span style=\"color: #00af00; text-decoration-color: #00af00\">3,048,550</span> (11.63 MB)\n",
       "</pre>\n"
      ],
      "text/plain": [
       "\u001b[1m Total params: \u001b[0m\u001b[38;5;34m3,048,550\u001b[0m (11.63 MB)\n"
      ]
     },
     "metadata": {},
     "output_type": "display_data"
    },
    {
     "data": {
      "text/html": [
       "<pre style=\"white-space:pre;overflow-x:auto;line-height:normal;font-family:Menlo,'DejaVu Sans Mono',consolas,'Courier New',monospace\"><span style=\"font-weight: bold\"> Trainable params: </span><span style=\"color: #00af00; text-decoration-color: #00af00\">3,030,118</span> (11.56 MB)\n",
       "</pre>\n"
      ],
      "text/plain": [
       "\u001b[1m Trainable params: \u001b[0m\u001b[38;5;34m3,030,118\u001b[0m (11.56 MB)\n"
      ]
     },
     "metadata": {},
     "output_type": "display_data"
    },
    {
     "data": {
      "text/html": [
       "<pre style=\"white-space:pre;overflow-x:auto;line-height:normal;font-family:Menlo,'DejaVu Sans Mono',consolas,'Courier New',monospace\"><span style=\"font-weight: bold\"> Non-trainable params: </span><span style=\"color: #00af00; text-decoration-color: #00af00\">18,432</span> (72.00 KB)\n",
       "</pre>\n"
      ],
      "text/plain": [
       "\u001b[1m Non-trainable params: \u001b[0m\u001b[38;5;34m18,432\u001b[0m (72.00 KB)\n"
      ]
     },
     "metadata": {},
     "output_type": "display_data"
    }
   ],
   "source": [
    "input_shape = keras.Input((img_size, img_size, 3))\n",
    "cm_out = ConvMixer()(input)\n",
    "conv_mixer = keras.Model(input, cm_out)\n",
    "conv_mixer.summary()"
   ]
  },
  {
   "cell_type": "code",
   "execution_count": 16,
   "metadata": {},
   "outputs": [
    {
     "name": "stdout",
     "output_type": "stream",
     "text": [
      "Epoch 1/20\n",
      "\u001b[1m4/4\u001b[0m \u001b[32m━━━━━━━━━━━━━━━━━━━━\u001b[0m\u001b[37m\u001b[0m \u001b[1m30s\u001b[0m 729ms/step - acc: 0.0365 - loss: 4.6271 - val_acc: 0.0078 - val_loss: 4.6280\n",
      "Epoch 2/20\n",
      "\u001b[1m4/4\u001b[0m \u001b[32m━━━━━━━━━━━━━━━━━━━━\u001b[0m\u001b[37m\u001b[0m \u001b[1m1s\u001b[0m 222ms/step - acc: 0.1823 - loss: 3.8852 - val_acc: 0.0078 - val_loss: 4.6326\n",
      "Epoch 3/20\n",
      "\u001b[1m4/4\u001b[0m \u001b[32m━━━━━━━━━━━━━━━━━━━━\u001b[0m\u001b[37m\u001b[0m \u001b[1m1s\u001b[0m 235ms/step - acc: 0.2750 - loss: 2.8799 - val_acc: 0.0078 - val_loss: 4.6403\n",
      "Epoch 4/20\n",
      "\u001b[1m4/4\u001b[0m \u001b[32m━━━━━━━━━━━━━━━━━━━━\u001b[0m\u001b[37m\u001b[0m \u001b[1m1s\u001b[0m 226ms/step - acc: 0.3906 - loss: 2.2654 - val_acc: 0.0078 - val_loss: 4.6533\n",
      "Epoch 5/20\n",
      "\u001b[1m4/4\u001b[0m \u001b[32m━━━━━━━━━━━━━━━━━━━━\u001b[0m\u001b[37m\u001b[0m \u001b[1m1s\u001b[0m 235ms/step - acc: 0.5292 - loss: 1.6624 - val_acc: 0.0078 - val_loss: 4.6727\n",
      "Epoch 6/20\n",
      "\u001b[1m4/4\u001b[0m \u001b[32m━━━━━━━━━━━━━━━━━━━━\u001b[0m\u001b[37m\u001b[0m \u001b[1m1s\u001b[0m 236ms/step - acc: 0.5781 - loss: 1.3991 - val_acc: 0.0078 - val_loss: 4.6942\n",
      "Epoch 7/20\n",
      "\u001b[1m4/4\u001b[0m \u001b[32m━━━━━━━━━━━━━━━━━━━━\u001b[0m\u001b[37m\u001b[0m \u001b[1m1s\u001b[0m 243ms/step - acc: 0.7437 - loss: 1.0004 - val_acc: 0.0078 - val_loss: 4.7305\n",
      "Epoch 8/20\n",
      "\u001b[1m4/4\u001b[0m \u001b[32m━━━━━━━━━━━━━━━━━━━━\u001b[0m\u001b[37m\u001b[0m \u001b[1m1s\u001b[0m 236ms/step - acc: 0.8396 - loss: 0.7205 - val_acc: 0.0078 - val_loss: 4.7780\n",
      "Epoch 9/20\n",
      "\u001b[1m4/4\u001b[0m \u001b[32m━━━━━━━━━━━━━━━━━━━━\u001b[0m\u001b[37m\u001b[0m \u001b[1m1s\u001b[0m 236ms/step - acc: 0.9021 - loss: 0.5194 - val_acc: 0.0078 - val_loss: 4.8475\n",
      "Epoch 10/20\n",
      "\u001b[1m4/4\u001b[0m \u001b[32m━━━━━━━━━━━━━━━━━━━━\u001b[0m\u001b[37m\u001b[0m \u001b[1m1s\u001b[0m 238ms/step - acc: 0.9781 - loss: 0.3498 - val_acc: 0.0078 - val_loss: 4.9259\n",
      "Epoch 11/20\n",
      "\u001b[1m4/4\u001b[0m \u001b[32m━━━━━━━━━━━━━━━━━━━━\u001b[0m\u001b[37m\u001b[0m \u001b[1m1s\u001b[0m 244ms/step - acc: 0.9104 - loss: 0.3797 - val_acc: 0.0078 - val_loss: 5.0136\n",
      "Epoch 12/20\n",
      "\u001b[1m4/4\u001b[0m \u001b[32m━━━━━━━━━━━━━━━━━━━━\u001b[0m\u001b[37m\u001b[0m \u001b[1m1s\u001b[0m 236ms/step - acc: 0.9573 - loss: 0.1876 - val_acc: 0.0078 - val_loss: 5.0873\n",
      "Epoch 13/20\n",
      "\u001b[1m4/4\u001b[0m \u001b[32m━━━━━━━━━━━━━━━━━━━━\u001b[0m\u001b[37m\u001b[0m \u001b[1m1s\u001b[0m 239ms/step - acc: 0.9573 - loss: 0.2301 - val_acc: 0.0078 - val_loss: 5.1372\n",
      "Epoch 14/20\n",
      "\u001b[1m4/4\u001b[0m \u001b[32m━━━━━━━━━━━━━━━━━━━━\u001b[0m\u001b[37m\u001b[0m \u001b[1m1s\u001b[0m 238ms/step - acc: 0.9427 - loss: 0.2606 - val_acc: 0.0078 - val_loss: 5.1940\n",
      "Epoch 15/20\n",
      "\u001b[1m4/4\u001b[0m \u001b[32m━━━━━━━━━━━━━━━━━━━━\u001b[0m\u001b[37m\u001b[0m \u001b[1m1s\u001b[0m 233ms/step - acc: 0.9802 - loss: 0.1585 - val_acc: 0.0078 - val_loss: 5.2028\n",
      "Epoch 16/20\n",
      "\u001b[1m4/4\u001b[0m \u001b[32m━━━━━━━━━━━━━━━━━━━━\u001b[0m\u001b[37m\u001b[0m \u001b[1m1s\u001b[0m 233ms/step - acc: 0.9719 - loss: 0.1672 - val_acc: 0.0078 - val_loss: 5.2327\n",
      "Epoch 17/20\n",
      "\u001b[1m4/4\u001b[0m \u001b[32m━━━━━━━━━━━━━━━━━━━━\u001b[0m\u001b[37m\u001b[0m \u001b[1m1s\u001b[0m 231ms/step - acc: 0.9667 - loss: 0.1671 - val_acc: 0.0078 - val_loss: 5.2087\n",
      "Epoch 18/20\n",
      "\u001b[1m4/4\u001b[0m \u001b[32m━━━━━━━━━━━━━━━━━━━━\u001b[0m\u001b[37m\u001b[0m \u001b[1m1s\u001b[0m 233ms/step - acc: 0.9750 - loss: 0.1190 - val_acc: 0.0078 - val_loss: 5.2391\n",
      "Epoch 19/20\n",
      "\u001b[1m4/4\u001b[0m \u001b[32m━━━━━━━━━━━━━━━━━━━━\u001b[0m\u001b[37m\u001b[0m \u001b[1m1s\u001b[0m 230ms/step - acc: 0.9677 - loss: 0.1528 - val_acc: 0.0078 - val_loss: 5.3263\n",
      "Epoch 20/20\n",
      "\u001b[1m4/4\u001b[0m \u001b[32m━━━━━━━━━━━━━━━━━━━━\u001b[0m\u001b[37m\u001b[0m \u001b[1m1s\u001b[0m 230ms/step - acc: 0.9458 - loss: 0.1693 - val_acc: 0.0156 - val_loss: 5.4335\n"
     ]
    }
   ],
   "source": [
    "conv_mixer.compile(optimizer=optimizers.Adam(1e-3),\n",
    "              loss=losses.SparseCategoricalCrossentropy(from_logits=True),\n",
    "              metrics=[metrics.SparseCategoricalAccuracy(\"acc\"),\n",
    "                       ]\n",
    "              )\n",
    "history = conv_mixer.fit(train_ds, epochs=20, validation_data=validation_ds)"
   ]
  }
 ],
 "metadata": {
  "kernelspec": {
   "display_name": "env_dl",
   "language": "python",
   "name": "python3"
  },
  "language_info": {
   "codemirror_mode": {
    "name": "ipython",
    "version": 3
   },
   "file_extension": ".py",
   "mimetype": "text/x-python",
   "name": "python",
   "nbconvert_exporter": "python",
   "pygments_lexer": "ipython3",
   "version": "3.10.0"
  }
 },
 "nbformat": 4,
 "nbformat_minor": 2
}
