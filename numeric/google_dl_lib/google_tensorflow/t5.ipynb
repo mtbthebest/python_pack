{
 "cells": [
  {
   "cell_type": "code",
   "execution_count": 4,
   "metadata": {},
   "outputs": [
    {
     "name": "stdout",
     "output_type": "stream",
     "text": [
      "The autoreload extension is already loaded. To reload it, use:\n",
      "  %reload_ext autoreload\n"
     ]
    }
   ],
   "source": [
    "%load_ext autoreload\n",
    "%autoreload 2\n",
    "import os\n",
    "\n",
    "import seaborn as sns\n",
    "import matplotlib as mpl\n",
    "import matplotlib.pyplot as plt\n",
    "import numpy as np\n",
    "\n",
    "import jax\n",
    "import numpyro\n",
    "from numpyro import distributions as dist\n",
    "\n",
    "import tensorflow as tf\n",
    "import tensorflow_datasets as t\n",
    "import keras\n",
    "from keras import layers"
   ]
  },
  {
   "cell_type": "code",
   "execution_count": 2,
   "metadata": {},
   "outputs": [
    {
     "data": {
      "text/plain": [
       "('2.12.0', '2.12.0', '0.4.23', '0.13.2')"
      ]
     },
     "execution_count": 2,
     "metadata": {},
     "output_type": "execute_result"
    }
   ],
   "source": [
    "tf.__version__, keras.__version__, jax.__version__, numpyro.__version__"
   ]
  },
  {
   "cell_type": "code",
   "execution_count": 5,
   "metadata": {},
   "outputs": [],
   "source": [
    "gpus = tf.config.experimental.list_physical_devices(device_type=\"GPU\")\n",
    "for gpu in gpus:\n",
    "    tf.config.experimental.set_memory_growth(gpu, True)\n",
    "os.environ[\"XLA_PYTHON_CLIENT_PREALLOCATE\"] = \"false\"\n",
    "os.environ[\"XLA_PYTHON_CLIENT_ALLOCATOR\"] = \"platform\"\n",
    "plt.style.use(\"seaborn-v0_8\")"
   ]
  },
  {
   "cell_type": "code",
   "execution_count": 8,
   "metadata": {},
   "outputs": [
    {
     "data": {
      "text/plain": [
       "<tf.Tensor: shape=(10, 5), dtype=float32, numpy=\n",
       "array([[-1.0438759 ,  0.7174883 ,  0.2961204 ,  1.0541657 ,  0.8004052 ],\n",
       "       [-0.35374865,  1.4619656 ,  1.2814779 ,  0.2276688 ,  0.86140734],\n",
       "       [-0.9164158 , -0.22838481,  0.5010487 , -0.75170696,  1.3120747 ],\n",
       "       [-0.72281647,  1.0900371 , -0.18493766,  1.3341756 ,  0.09229992],\n",
       "       [-0.20676935,  1.023208  , -0.09123346, -0.09190509,  0.77868754],\n",
       "       [ 0.62580425,  1.1983048 , -0.17960197, -0.3279678 , -1.633951  ],\n",
       "       [ 2.0519023 , -1.052316  , -0.5664251 , -0.11502498, -1.6121398 ],\n",
       "       [-1.6528223 , -0.04402828,  1.5956256 ,  0.80020845,  1.5728005 ],\n",
       "       [-0.03823924, -0.44332534, -1.0428827 , -1.3271319 ,  0.5912962 ],\n",
       "       [ 0.1396233 ,  0.22514115, -1.0436518 , -0.69081557, -0.97068596]],\n",
       "      dtype=float32)>"
      ]
     },
     "execution_count": 8,
     "metadata": {},
     "output_type": "execute_result"
    }
   ],
   "source": [
    "keras.Sequential"
   ]
  },
  {
   "cell_type": "code",
   "execution_count": null,
   "metadata": {},
   "outputs": [],
   "source": []
  },
  {
   "cell_type": "code",
   "execution_count": null,
   "metadata": {},
   "outputs": [],
   "source": []
  }
 ],
 "metadata": {
  "kernelspec": {
   "display_name": "env_dl",
   "language": "python",
   "name": "python3"
  },
  "language_info": {
   "codemirror_mode": {
    "name": "ipython",
    "version": 3
   },
   "file_extension": ".py",
   "mimetype": "text/x-python",
   "name": "python",
   "nbconvert_exporter": "python",
   "pygments_lexer": "ipython3",
   "version": "3.10.0"
  }
 },
 "nbformat": 4,
 "nbformat_minor": 2
}
