{
 "cells": [
  {
   "cell_type": "code",
   "execution_count": 1,
   "metadata": {},
   "outputs": [
    {
     "name": "stderr",
     "output_type": "stream",
     "text": [
      "2024-01-03 10:50:15.766174: I tensorflow/core/platform/cpu_feature_guard.cc:182] This TensorFlow binary is optimized to use available CPU instructions in performance-critical operations.\n",
      "To enable the following instructions: AVX2 FMA, in other operations, rebuild TensorFlow with the appropriate compiler flags.\n"
     ]
    }
   ],
   "source": [
    "%load_ext autoreload\n",
    "%autoreload 2\n",
    "import random\n",
    "import tensorflow as tf\n",
    "import tensorflow.experimental.numpy as tnp\n",
    "import numpy as np\n"
   ]
  },
  {
   "cell_type": "code",
   "execution_count": 2,
   "metadata": {},
   "outputs": [
    {
     "name": "stderr",
     "output_type": "stream",
     "text": [
      "2024-01-03 10:50:18.007556: I tensorflow/compiler/xla/stream_executor/cuda/cuda_gpu_executor.cc:996] successful NUMA node read from SysFS had negative value (-1), but there must be at least one NUMA node, so returning NUMA node zero. See more at https://github.com/torvalds/linux/blob/v6.0/Documentation/ABI/testing/sysfs-bus-pci#L344-L355\n",
      "2024-01-03 10:50:18.029049: I tensorflow/compiler/xla/stream_executor/cuda/cuda_gpu_executor.cc:996] successful NUMA node read from SysFS had negative value (-1), but there must be at least one NUMA node, so returning NUMA node zero. See more at https://github.com/torvalds/linux/blob/v6.0/Documentation/ABI/testing/sysfs-bus-pci#L344-L355\n",
      "2024-01-03 10:50:18.029261: I tensorflow/compiler/xla/stream_executor/cuda/cuda_gpu_executor.cc:996] successful NUMA node read from SysFS had negative value (-1), but there must be at least one NUMA node, so returning NUMA node zero. See more at https://github.com/torvalds/linux/blob/v6.0/Documentation/ABI/testing/sysfs-bus-pci#L344-L355\n"
     ]
    }
   ],
   "source": [
    "gpus = tf.config.list_physical_devices(\"GPU\")"
   ]
  },
  {
   "cell_type": "code",
   "execution_count": 3,
   "metadata": {},
   "outputs": [
    {
     "data": {
      "text/plain": [
       "1"
      ]
     },
     "execution_count": 3,
     "metadata": {},
     "output_type": "execute_result"
    }
   ],
   "source": [
    "len(gpus)"
   ]
  },
  {
   "cell_type": "code",
   "execution_count": 4,
   "metadata": {},
   "outputs": [
    {
     "data": {
      "text/plain": [
       "[PhysicalDevice(name='/physical_device:GPU:0', device_type='GPU')]"
      ]
     },
     "execution_count": 4,
     "metadata": {},
     "output_type": "execute_result"
    }
   ],
   "source": [
    "gpus"
   ]
  },
  {
   "cell_type": "code",
   "execution_count": 5,
   "metadata": {},
   "outputs": [],
   "source": [
    "for gpu in gpus:\n",
    "    tf.config.experimental.set_memory_growth(gpu, True)"
   ]
  },
  {
   "cell_type": "code",
   "execution_count": 6,
   "metadata": {},
   "outputs": [
    {
     "data": {
      "text/plain": [
       "array([[ 1.76405235,  0.40015721,  0.97873798,  2.2408932 ,  1.86755799,\n",
       "        -0.97727788,  0.95008842, -0.15135721, -0.10321885,  0.4105985 ],\n",
       "       [ 0.14404357,  1.45427351,  0.76103773,  0.12167502,  0.44386323,\n",
       "         0.33367433,  1.49407907, -0.20515826,  0.3130677 , -0.85409574],\n",
       "       [-2.55298982,  0.6536186 ,  0.8644362 , -0.74216502,  2.26975462,\n",
       "        -1.45436567,  0.04575852, -0.18718385,  1.53277921,  1.46935877],\n",
       "       [ 0.15494743,  0.37816252, -0.88778575, -1.98079647, -0.34791215,\n",
       "         0.15634897,  1.23029068,  1.20237985, -0.38732682, -0.30230275],\n",
       "       [-1.04855297, -1.42001794, -1.70627019,  1.9507754 , -0.50965218,\n",
       "        -0.4380743 , -1.25279536,  0.77749036, -1.61389785, -0.21274028]])"
      ]
     },
     "execution_count": 6,
     "metadata": {},
     "output_type": "execute_result"
    }
   ],
   "source": [
    "np.random.seed(0)\n",
    "tf.random.set_seed(0)\n",
    "x = np.random.randn(5, 10).astype(\"float\")\n",
    "x"
   ]
  },
  {
   "cell_type": "code",
   "execution_count": 7,
   "metadata": {},
   "outputs": [
    {
     "name": "stderr",
     "output_type": "stream",
     "text": [
      "2024-01-03 10:50:18.236078: I tensorflow/compiler/xla/stream_executor/cuda/cuda_gpu_executor.cc:996] successful NUMA node read from SysFS had negative value (-1), but there must be at least one NUMA node, so returning NUMA node zero. See more at https://github.com/torvalds/linux/blob/v6.0/Documentation/ABI/testing/sysfs-bus-pci#L344-L355\n",
      "2024-01-03 10:50:18.236299: I tensorflow/compiler/xla/stream_executor/cuda/cuda_gpu_executor.cc:996] successful NUMA node read from SysFS had negative value (-1), but there must be at least one NUMA node, so returning NUMA node zero. See more at https://github.com/torvalds/linux/blob/v6.0/Documentation/ABI/testing/sysfs-bus-pci#L344-L355\n",
      "2024-01-03 10:50:18.236435: I tensorflow/compiler/xla/stream_executor/cuda/cuda_gpu_executor.cc:996] successful NUMA node read from SysFS had negative value (-1), but there must be at least one NUMA node, so returning NUMA node zero. See more at https://github.com/torvalds/linux/blob/v6.0/Documentation/ABI/testing/sysfs-bus-pci#L344-L355\n",
      "2024-01-03 10:50:18.830519: I tensorflow/compiler/xla/stream_executor/cuda/cuda_gpu_executor.cc:996] successful NUMA node read from SysFS had negative value (-1), but there must be at least one NUMA node, so returning NUMA node zero. See more at https://github.com/torvalds/linux/blob/v6.0/Documentation/ABI/testing/sysfs-bus-pci#L344-L355\n",
      "2024-01-03 10:50:18.830715: I tensorflow/compiler/xla/stream_executor/cuda/cuda_gpu_executor.cc:996] successful NUMA node read from SysFS had negative value (-1), but there must be at least one NUMA node, so returning NUMA node zero. See more at https://github.com/torvalds/linux/blob/v6.0/Documentation/ABI/testing/sysfs-bus-pci#L344-L355\n",
      "2024-01-03 10:50:18.830855: I tensorflow/compiler/xla/stream_executor/cuda/cuda_gpu_executor.cc:996] successful NUMA node read from SysFS had negative value (-1), but there must be at least one NUMA node, so returning NUMA node zero. See more at https://github.com/torvalds/linux/blob/v6.0/Documentation/ABI/testing/sysfs-bus-pci#L344-L355\n",
      "2024-01-03 10:50:18.830986: I tensorflow/core/common_runtime/gpu/gpu_device.cc:1635] Created device /job:localhost/replica:0/task:0/device:GPU:0 with 20906 MB memory:  -> device: 0, name: NVIDIA TITAN RTX, pci bus id: 0000:0a:00.0, compute capability: 7.5\n"
     ]
    },
    {
     "data": {
      "text/plain": [
       "<tf.Tensor: shape=(5, 10), dtype=float32, numpy=\n",
       "array([[ 1.7640524 ,  0.4001572 ,  0.978738  ,  2.2408931 ,  1.867558  ,\n",
       "        -0.9772779 ,  0.95008844, -0.1513572 , -0.10321885,  0.41059852],\n",
       "       [ 0.14404356,  1.4542735 ,  0.7610377 ,  0.12167501,  0.44386324,\n",
       "         0.33367434,  1.4940791 , -0.20515826,  0.3130677 , -0.85409576],\n",
       "       [-2.5529897 ,  0.6536186 ,  0.8644362 , -0.742165  ,  2.2697546 ,\n",
       "        -1.4543657 ,  0.04575852, -0.18718386,  1.5327792 ,  1.4693588 ],\n",
       "       [ 0.15494743,  0.37816253, -0.88778573, -1.9807965 , -0.34791216,\n",
       "         0.15634897,  1.2302907 ,  1.2023798 , -0.3873268 , -0.30230275],\n",
       "       [-1.048553  , -1.420018  , -1.7062702 ,  1.9507754 , -0.5096522 ,\n",
       "        -0.4380743 , -1.2527953 ,  0.7774904 , -1.6138978 , -0.21274029]],\n",
       "      dtype=float32)>"
      ]
     },
     "execution_count": 7,
     "metadata": {},
     "output_type": "execute_result"
    }
   ],
   "source": [
    "y = tf.convert_to_tensor(x, dtype=tf.float32)\n",
    "y"
   ]
  },
  {
   "cell_type": "code",
   "execution_count": 8,
   "metadata": {},
   "outputs": [
    {
     "data": {
      "text/plain": [
       "array([[ 1.7640524 ,  0.4001572 ,  0.978738  ,  2.2408931 ,  1.867558  ,\n",
       "        -0.9772779 ,  0.95008844, -0.1513572 , -0.10321885,  0.41059852],\n",
       "       [ 0.14404356,  1.4542735 ,  0.7610377 ,  0.12167501,  0.44386324,\n",
       "         0.33367434,  1.4940791 , -0.20515826,  0.3130677 , -0.85409576],\n",
       "       [-2.5529897 ,  0.6536186 ,  0.8644362 , -0.742165  ,  2.2697546 ,\n",
       "        -1.4543657 ,  0.04575852, -0.18718386,  1.5327792 ,  1.4693588 ],\n",
       "       [ 0.15494743,  0.37816253, -0.88778573, -1.9807965 , -0.34791216,\n",
       "         0.15634897,  1.2302907 ,  1.2023798 , -0.3873268 , -0.30230275],\n",
       "       [-1.048553  , -1.420018  , -1.7062702 ,  1.9507754 , -0.5096522 ,\n",
       "        -0.4380743 , -1.2527953 ,  0.7774904 , -1.6138978 , -0.21274029]],\n",
       "      dtype=float32)"
      ]
     },
     "execution_count": 8,
     "metadata": {},
     "output_type": "execute_result"
    }
   ],
   "source": [
    "y.numpy()"
   ]
  },
  {
   "cell_type": "code",
   "execution_count": 9,
   "metadata": {},
   "outputs": [
    {
     "data": {
      "text/plain": [
       "<tf.Tensor: shape=(4, 3), dtype=int32, numpy=\n",
       "array([[ 0,  1,  2],\n",
       "       [ 3,  4,  5],\n",
       "       [ 6,  7,  8],\n",
       "       [ 9, 10, 11]], dtype=int32)>"
      ]
     },
     "execution_count": 9,
     "metadata": {},
     "output_type": "execute_result"
    }
   ],
   "source": [
    "x = tf.range(4*3)\n",
    "x = tf.reshape(x, (4, 3))\n",
    "x"
   ]
  },
  {
   "cell_type": "code",
   "execution_count": 10,
   "metadata": {},
   "outputs": [
    {
     "data": {
      "text/plain": [
       "<tf.Tensor: shape=(4, 3), dtype=int32, numpy=\n",
       "array([[5, 0, 3],\n",
       "       [3, 7, 9],\n",
       "       [3, 5, 2],\n",
       "       [4, 7, 6]], dtype=int32)>"
      ]
     },
     "execution_count": 10,
     "metadata": {},
     "output_type": "execute_result"
    }
   ],
   "source": [
    "np.random.seed(0)\n",
    "x = tf.constant(np.random.randint(0, 10, (4, 3)).reshape((4, 3)), dtype=tf.int32)\n",
    "x"
   ]
  },
  {
   "cell_type": "code",
   "execution_count": 11,
   "metadata": {},
   "outputs": [
    {
     "data": {
      "text/plain": [
       "(<tf.Tensor: shape=(4, 3), dtype=int32, numpy=\n",
       " array([[5, 0, 3],\n",
       "        [3, 7, 9],\n",
       "        [3, 5, 2],\n",
       "        [4, 7, 6]], dtype=int32)>,\n",
       " <tf.Tensor: shape=(2, 2, 3), dtype=int32, numpy=\n",
       " array([[[5, 0, 3],\n",
       "         [3, 7, 9]],\n",
       " \n",
       "        [[3, 5, 2],\n",
       "         [4, 7, 6]]], dtype=int32)>)"
      ]
     },
     "execution_count": 11,
     "metadata": {},
     "output_type": "execute_result"
    }
   ],
   "source": [
    "x, tf.reshape(x, (2, 2, 3))"
   ]
  },
  {
   "cell_type": "code",
   "execution_count": 12,
   "metadata": {},
   "outputs": [
    {
     "data": {
      "text/plain": [
       "(<tf.Tensor: shape=(4, 3), dtype=int32, numpy=\n",
       " array([[5, 0, 3],\n",
       "        [3, 7, 9],\n",
       "        [3, 5, 2],\n",
       "        [4, 7, 6]], dtype=int32)>,\n",
       " <tf.Tensor: shape=(2, 2, 3), dtype=int32, numpy=\n",
       " array([[[5, 0, 3],\n",
       "         [3, 7, 9]],\n",
       " \n",
       "        [[3, 5, 2],\n",
       "         [4, 7, 6]]], dtype=int32)>)"
      ]
     },
     "execution_count": 12,
     "metadata": {},
     "output_type": "execute_result"
    }
   ],
   "source": [
    "x, tf.reshape(x, (2, -1, 3))"
   ]
  },
  {
   "cell_type": "code",
   "execution_count": 13,
   "metadata": {},
   "outputs": [
    {
     "data": {
      "text/plain": [
       "(<tf.Tensor: shape=(4, 3), dtype=int32, numpy=\n",
       " array([[10,  0,  6],\n",
       "        [ 6, 14, 18],\n",
       "        [ 6, 10,  4],\n",
       "        [ 8, 14, 12]], dtype=int32)>,\n",
       " <tf.Tensor: shape=(4, 3), dtype=int32, numpy=\n",
       " array([[10,  0,  6],\n",
       "        [ 6, 14, 18],\n",
       "        [ 6, 10,  4],\n",
       "        [ 8, 14, 12]], dtype=int32)>)"
      ]
     },
     "execution_count": 13,
     "metadata": {},
     "output_type": "execute_result"
    }
   ],
   "source": [
    "2*x, tf.add(x, x)"
   ]
  },
  {
   "cell_type": "code",
   "execution_count": 14,
   "metadata": {},
   "outputs": [
    {
     "data": {
      "text/plain": [
       "(<tf.Tensor: shape=(4, 3), dtype=int32, numpy=\n",
       " array([[0, 0, 0],\n",
       "        [0, 0, 0],\n",
       "        [0, 0, 0],\n",
       "        [0, 0, 0]], dtype=int32)>,\n",
       " <tf.Tensor: shape=(4, 3), dtype=int32, numpy=\n",
       " array([[0, 0, 0],\n",
       "        [0, 0, 0],\n",
       "        [0, 0, 0],\n",
       "        [0, 0, 0]], dtype=int32)>)"
      ]
     },
     "execution_count": 14,
     "metadata": {},
     "output_type": "execute_result"
    }
   ],
   "source": [
    "x-x, tf.subtract(x, x)"
   ]
  },
  {
   "cell_type": "code",
   "execution_count": 15,
   "metadata": {},
   "outputs": [
    {
     "data": {
      "text/plain": [
       "(<tf.Tensor: shape=(4, 3), dtype=int32, numpy=\n",
       " array([[5, 0, 3],\n",
       "        [3, 7, 9],\n",
       "        [3, 5, 2],\n",
       "        [4, 7, 6]], dtype=int32)>,\n",
       " <tf.Tensor: shape=(3, 4), dtype=int32, numpy=\n",
       " array([[5, 3, 3, 4],\n",
       "        [0, 7, 5, 7],\n",
       "        [3, 9, 2, 6]], dtype=int32)>)"
      ]
     },
     "execution_count": 15,
     "metadata": {},
     "output_type": "execute_result"
    }
   ],
   "source": [
    "x, tf.transpose(x, (1, 0))"
   ]
  },
  {
   "cell_type": "code",
   "execution_count": 16,
   "metadata": {},
   "outputs": [
    {
     "data": {
      "text/plain": [
       "(<tf.Tensor: shape=(4, 3), dtype=int32, numpy=\n",
       " array([[25,  0,  9],\n",
       "        [ 9, 49, 81],\n",
       "        [ 9, 25,  4],\n",
       "        [16, 49, 36]], dtype=int32)>,\n",
       " <tf.Tensor: shape=(4, 3), dtype=int32, numpy=\n",
       " array([[25,  0,  9],\n",
       "        [ 9, 49, 81],\n",
       "        [ 9, 25,  4],\n",
       "        [16, 49, 36]], dtype=int32)>)"
      ]
     },
     "execution_count": 16,
     "metadata": {},
     "output_type": "execute_result"
    }
   ],
   "source": [
    "x * x, tf.multiply(x, x)"
   ]
  },
  {
   "cell_type": "code",
   "execution_count": 17,
   "metadata": {},
   "outputs": [
    {
     "data": {
      "text/plain": [
       "(<tf.Tensor: shape=(4, 3), dtype=int32, numpy=\n",
       " array([[5, 0, 3],\n",
       "        [3, 7, 9],\n",
       "        [3, 5, 2],\n",
       "        [4, 7, 6]], dtype=int32)>,\n",
       " <tf.Tensor: shape=(3,), dtype=int64, numpy=array([0, 1, 1])>)"
      ]
     },
     "execution_count": 17,
     "metadata": {},
     "output_type": "execute_result"
    }
   ],
   "source": [
    "x, tf.argmax(x) # default axis=0"
   ]
  },
  {
   "cell_type": "code",
   "execution_count": 18,
   "metadata": {},
   "outputs": [
    {
     "data": {
      "text/plain": [
       "(<tf.Tensor: shape=(4, 3), dtype=int32, numpy=\n",
       " array([[5, 0, 3],\n",
       "        [3, 7, 9],\n",
       "        [3, 5, 2],\n",
       "        [4, 7, 6]], dtype=int32)>,\n",
       " <tf.Tensor: shape=(3,), dtype=int64, numpy=array([0, 1, 1])>)"
      ]
     },
     "execution_count": 18,
     "metadata": {},
     "output_type": "execute_result"
    }
   ],
   "source": [
    "x, tf.argmax(x, 0)"
   ]
  },
  {
   "cell_type": "code",
   "execution_count": 19,
   "metadata": {},
   "outputs": [
    {
     "data": {
      "text/plain": [
       "(<tf.Tensor: shape=(4, 3), dtype=int32, numpy=\n",
       " array([[5, 0, 3],\n",
       "        [3, 7, 9],\n",
       "        [3, 5, 2],\n",
       "        [4, 7, 6]], dtype=int32)>,\n",
       " <tf.Tensor: shape=(4,), dtype=int64, numpy=array([0, 2, 1, 1])>)"
      ]
     },
     "execution_count": 19,
     "metadata": {},
     "output_type": "execute_result"
    }
   ],
   "source": [
    "x, tf.argmax(x, 1)"
   ]
  },
  {
   "cell_type": "code",
   "execution_count": 20,
   "metadata": {},
   "outputs": [
    {
     "data": {
      "text/plain": [
       "(<tf.Tensor: shape=(4, 3), dtype=int32, numpy=\n",
       " array([[5, 0, 3],\n",
       "        [3, 7, 9],\n",
       "        [3, 5, 2],\n",
       "        [4, 7, 6]], dtype=int32)>,\n",
       " <tf.Tensor: shape=(3,), dtype=int64, numpy=array([1, 0, 2])>)"
      ]
     },
     "execution_count": 20,
     "metadata": {},
     "output_type": "execute_result"
    }
   ],
   "source": [
    "x, tf.argmin(x)"
   ]
  },
  {
   "cell_type": "code",
   "execution_count": 21,
   "metadata": {},
   "outputs": [
    {
     "data": {
      "text/plain": [
       "(<tf.Tensor: shape=(4, 3), dtype=int32, numpy=\n",
       " array([[5, 0, 3],\n",
       "        [3, 7, 9],\n",
       "        [3, 5, 2],\n",
       "        [4, 7, 6]], dtype=int32)>,\n",
       " <tf.Tensor: shape=(3,), dtype=int64, numpy=array([1, 0, 2])>)"
      ]
     },
     "execution_count": 21,
     "metadata": {},
     "output_type": "execute_result"
    }
   ],
   "source": [
    "x, tf.argmin(x, 0)"
   ]
  },
  {
   "cell_type": "code",
   "execution_count": 22,
   "metadata": {},
   "outputs": [
    {
     "data": {
      "text/plain": [
       "(<tf.Tensor: shape=(4, 3), dtype=int32, numpy=\n",
       " array([[5, 0, 3],\n",
       "        [3, 7, 9],\n",
       "        [3, 5, 2],\n",
       "        [4, 7, 6]], dtype=int32)>,\n",
       " <tf.Tensor: shape=(4,), dtype=int32, numpy=array([1, 0, 2, 0], dtype=int32)>)"
      ]
     },
     "execution_count": 22,
     "metadata": {},
     "output_type": "execute_result"
    }
   ],
   "source": [
    "x, tf.argmin(x, 1, output_type=x.dtype)"
   ]
  },
  {
   "cell_type": "code",
   "execution_count": 23,
   "metadata": {},
   "outputs": [
    {
     "data": {
      "text/plain": [
       "TensorShape([4, 3])"
      ]
     },
     "execution_count": 23,
     "metadata": {},
     "output_type": "execute_result"
    }
   ],
   "source": [
    "x.get_shape()"
   ]
  },
  {
   "cell_type": "code",
   "execution_count": 24,
   "metadata": {},
   "outputs": [
    {
     "data": {
      "text/plain": [
       "<tf.Tensor: shape=(4, 3), dtype=int32, numpy=\n",
       "array([[5, 0, 3],\n",
       "       [3, 7, 9],\n",
       "       [3, 5, 2],\n",
       "       [4, 7, 6]], dtype=int32)>"
      ]
     },
     "execution_count": 24,
     "metadata": {},
     "output_type": "execute_result"
    }
   ],
   "source": [
    "x"
   ]
  },
  {
   "cell_type": "code",
   "execution_count": 25,
   "metadata": {},
   "outputs": [
    {
     "data": {
      "text/plain": [
       "tf.int32"
      ]
     },
     "execution_count": 25,
     "metadata": {},
     "output_type": "execute_result"
    }
   ],
   "source": [
    "x.dtype"
   ]
  },
  {
   "cell_type": "code",
   "execution_count": 26,
   "metadata": {},
   "outputs": [
    {
     "data": {
      "text/plain": [
       "<Reference wrapping <tf.Tensor: shape=(4, 3), dtype=int32, numpy=\n",
       "array([[5, 0, 3],\n",
       "       [3, 7, 9],\n",
       "       [3, 5, 2],\n",
       "       [4, 7, 6]], dtype=int32)>>"
      ]
     },
     "execution_count": 26,
     "metadata": {},
     "output_type": "execute_result"
    }
   ],
   "source": [
    "x.ref()"
   ]
  },
  {
   "cell_type": "code",
   "execution_count": 27,
   "metadata": {},
   "outputs": [
    {
     "data": {
      "text/plain": [
       "(<tf.Tensor: shape=(9,), dtype=float32, numpy=\n",
       " array([0.       , 0.7853982, 1.5707964, 2.3561945, 3.1415927, 3.926991 ,\n",
       "        4.712389 , 5.4977875, 6.2831855], dtype=float32)>,\n",
       " <tf.Tensor: shape=(9,), dtype=float32, numpy=\n",
       " array([ 1.0000000e+00,  7.0710677e-01, -4.3711388e-08, -7.0710677e-01,\n",
       "        -1.0000000e+00, -7.0710671e-01,  1.1924881e-08,  7.0710701e-01,\n",
       "         1.0000000e+00], dtype=float32)>,\n",
       " <tf.Tensor: shape=(9,), dtype=float32, numpy=\n",
       " array([ 0.0000000e+00,  7.0710683e-01,  1.0000000e+00,  7.0710683e-01,\n",
       "        -8.7422777e-08, -7.0710689e-01, -1.0000000e+00, -7.0710653e-01,\n",
       "         1.7484555e-07], dtype=float32)>,\n",
       " <tf.Tensor: shape=(9,), dtype=float32, numpy=\n",
       " array([1.        , 1.        , 1.        , 1.        , 1.        ,\n",
       "        1.0000001 , 1.        , 0.99999994, 1.        ], dtype=float32)>,\n",
       " <tf.Tensor: shape=(9,), dtype=float32, numpy=\n",
       " array([ 0.0000000e+00,  1.0000000e+00, -2.2877334e+07, -1.0000000e+00,\n",
       "         8.7422777e-08,  1.0000004e+00, -8.3858280e+07, -9.9999934e-01,\n",
       "         1.7484555e-07], dtype=float32)>)"
      ]
     },
     "execution_count": 27,
     "metadata": {},
     "output_type": "execute_result"
    }
   ],
   "source": [
    "angle = tf.range(0, 2*np.pi+np.pi/4, np.pi/4)\n",
    "angle, tf.cos(angle), tf.sin(angle), tf.square(tf.cos(angle)) +  tf.pow(tf.sin(angle), 2), tf.tan(angle)"
   ]
  },
  {
   "cell_type": "code",
   "execution_count": 28,
   "metadata": {},
   "outputs": [
    {
     "data": {
      "text/plain": [
       "(<tf.Tensor: shape=(9,), dtype=float32, numpy=\n",
       " array([ 1.0000000e+00,  7.0710677e-01, -4.3711388e-08, -7.0710677e-01,\n",
       "        -1.0000000e+00, -7.0710671e-01,  1.1924881e-08,  7.0710701e-01,\n",
       "         1.0000000e+00], dtype=float32)>,\n",
       " <tf.Tensor: shape=(9,), dtype=float32, numpy=\n",
       " array([1.0000000e+00, 7.0710677e-01, 4.3711388e-08, 7.0710677e-01,\n",
       "        1.0000000e+00, 7.0710671e-01, 1.1924881e-08, 7.0710701e-01,\n",
       "        1.0000000e+00], dtype=float32)>)"
      ]
     },
     "execution_count": 28,
     "metadata": {},
     "output_type": "execute_result"
    }
   ],
   "source": [
    "tf.cos(angle), tf.abs(tf.cos(angle))"
   ]
  },
  {
   "cell_type": "code",
   "execution_count": 29,
   "metadata": {},
   "outputs": [
    {
     "data": {
      "text/plain": [
       "(<tf.Tensor: shape=(9,), dtype=float32, numpy=\n",
       " array([ 1.0000000e+00,  7.0710677e-01, -4.3711388e-08, -7.0710677e-01,\n",
       "        -1.0000000e+00, -7.0710671e-01,  1.1924881e-08,  7.0710701e-01,\n",
       "         1.0000000e+00], dtype=float32)>,\n",
       " <tf.Tensor: shape=(9,), dtype=float32, numpy=array([ 1.,  1., -1., -1., -1., -1.,  1.,  1.,  1.], dtype=float32)>)"
      ]
     },
     "execution_count": 29,
     "metadata": {},
     "output_type": "execute_result"
    }
   ],
   "source": [
    "tf.cos(angle), tf.sign(tf.cos(angle))"
   ]
  },
  {
   "cell_type": "code",
   "execution_count": 30,
   "metadata": {},
   "outputs": [
    {
     "data": {
      "text/plain": [
       "(<tf.Tensor: shape=(4, 3), dtype=int32, numpy=\n",
       " array([[5, 0, 3],\n",
       "        [3, 7, 9],\n",
       "        [3, 5, 2],\n",
       "        [4, 7, 6]], dtype=int32)>,\n",
       " <tf.Tensor: shape=(4, 3), dtype=int32, numpy=\n",
       " array([[1, 2, 0],\n",
       "        [0, 1, 2],\n",
       "        [2, 0, 1],\n",
       "        [0, 2, 1]], dtype=int32)>)"
      ]
     },
     "execution_count": 30,
     "metadata": {},
     "output_type": "execute_result"
    }
   ],
   "source": [
    "x, tf.argsort(x) # default - 1"
   ]
  },
  {
   "cell_type": "code",
   "execution_count": 31,
   "metadata": {},
   "outputs": [
    {
     "data": {
      "text/plain": [
       "(<tf.Tensor: shape=(4, 3), dtype=int32, numpy=\n",
       " array([[5, 0, 3],\n",
       "        [3, 7, 9],\n",
       "        [3, 5, 2],\n",
       "        [4, 7, 6]], dtype=int32)>,\n",
       " <tf.Tensor: shape=(4, 3), dtype=int32, numpy=\n",
       " array([[1, 0, 2],\n",
       "        [2, 2, 0],\n",
       "        [3, 1, 3],\n",
       "        [0, 3, 1]], dtype=int32)>)"
      ]
     },
     "execution_count": 31,
     "metadata": {},
     "output_type": "execute_result"
    }
   ],
   "source": [
    "x, tf.argsort(x, 0)"
   ]
  },
  {
   "cell_type": "code",
   "execution_count": 32,
   "metadata": {},
   "outputs": [
    {
     "data": {
      "text/plain": [
       "(<tf.Tensor: shape=(4, 3), dtype=int32, numpy=\n",
       " array([[5, 0, 3],\n",
       "        [3, 7, 9],\n",
       "        [3, 5, 2],\n",
       "        [4, 7, 6]], dtype=int32)>,\n",
       " <tf.Tensor: shape=(4, 3), dtype=int32, numpy=\n",
       " array([[1, 0, 2],\n",
       "        [2, 2, 0],\n",
       "        [3, 1, 3],\n",
       "        [0, 3, 1]], dtype=int32)>)"
      ]
     },
     "execution_count": 32,
     "metadata": {},
     "output_type": "execute_result"
    }
   ],
   "source": [
    "x, tf.argsort(x, 0)"
   ]
  },
  {
   "cell_type": "code",
   "execution_count": 33,
   "metadata": {},
   "outputs": [
    {
     "data": {
      "text/plain": [
       "(<tf.Tensor: shape=(4, 3), dtype=int32, numpy=\n",
       " array([[5, 0, 3],\n",
       "        [3, 7, 9],\n",
       "        [3, 5, 2],\n",
       "        [4, 7, 6]], dtype=int32)>,\n",
       " <tf.Tensor: shape=(4, 3), dtype=bool, numpy=\n",
       " array([[ True, False,  True],\n",
       "        [ True,  True,  True],\n",
       "        [ True,  True,  True],\n",
       "        [ True,  True,  True]])>,\n",
       " <tf.Tensor: shape=(4, 3), dtype=bool, numpy=\n",
       " array([[ True, False,  True],\n",
       "        [ True,  True,  True],\n",
       "        [ True,  True,  True],\n",
       "        [ True,  True,  True]])>)"
      ]
     },
     "execution_count": 33,
     "metadata": {},
     "output_type": "execute_result"
    }
   ],
   "source": [
    "x, x >0, tf.greater(x, 0)"
   ]
  },
  {
   "cell_type": "code",
   "execution_count": 34,
   "metadata": {},
   "outputs": [
    {
     "data": {
      "text/plain": [
       "(<tf.Tensor: shape=(4, 3), dtype=int32, numpy=\n",
       " array([[5, 0, 3],\n",
       "        [3, 7, 9],\n",
       "        [3, 5, 2],\n",
       "        [4, 7, 6]], dtype=int32)>,\n",
       " <tf.Tensor: shape=(4, 3), dtype=bool, numpy=\n",
       " array([[ True,  True,  True],\n",
       "        [ True,  True,  True],\n",
       "        [ True,  True,  True],\n",
       "        [ True,  True,  True]])>,\n",
       " <tf.Tensor: shape=(4, 3), dtype=bool, numpy=\n",
       " array([[ True,  True,  True],\n",
       "        [ True,  True,  True],\n",
       "        [ True,  True,  True],\n",
       "        [ True,  True,  True]])>)"
      ]
     },
     "execution_count": 34,
     "metadata": {},
     "output_type": "execute_result"
    }
   ],
   "source": [
    "x, x >= 0, tf.greater_equal(x, 0)"
   ]
  },
  {
   "cell_type": "code",
   "execution_count": 35,
   "metadata": {},
   "outputs": [
    {
     "data": {
      "text/plain": [
       "(<tf.Tensor: shape=(4, 3), dtype=int32, numpy=\n",
       " array([[5, 0, 3],\n",
       "        [3, 7, 9],\n",
       "        [3, 5, 2],\n",
       "        [4, 7, 6]], dtype=int32)>,\n",
       " <tf.Tensor: shape=(4, 3), dtype=bool, numpy=\n",
       " array([[False,  True, False],\n",
       "        [False, False, False],\n",
       "        [False, False, False],\n",
       "        [False, False, False]])>,\n",
       " <tf.Tensor: shape=(4, 3), dtype=bool, numpy=\n",
       " array([[False,  True, False],\n",
       "        [False, False, False],\n",
       "        [False, False, False],\n",
       "        [False, False, False]])>)"
      ]
     },
     "execution_count": 35,
     "metadata": {},
     "output_type": "execute_result"
    }
   ],
   "source": [
    "x, x <= 0, tf.less_equal(x, 0)"
   ]
  },
  {
   "cell_type": "code",
   "execution_count": 36,
   "metadata": {},
   "outputs": [
    {
     "data": {
      "text/plain": [
       "(<tf.Tensor: shape=(4, 3), dtype=int32, numpy=\n",
       " array([[5, 0, 3],\n",
       "        [3, 7, 9],\n",
       "        [3, 5, 2],\n",
       "        [4, 7, 6]], dtype=int32)>,\n",
       " <tf.Tensor: shape=(4, 3), dtype=bool, numpy=\n",
       " array([[False, False, False],\n",
       "        [False, False, False],\n",
       "        [False, False, False],\n",
       "        [False, False, False]])>,\n",
       " <tf.Tensor: shape=(4, 3), dtype=bool, numpy=\n",
       " array([[False, False, False],\n",
       "        [False, False, False],\n",
       "        [False, False, False],\n",
       "        [False, False, False]])>)"
      ]
     },
     "execution_count": 36,
     "metadata": {},
     "output_type": "execute_result"
    }
   ],
   "source": [
    "x, x < 0, tf.less(x, 0)"
   ]
  },
  {
   "cell_type": "code",
   "execution_count": 37,
   "metadata": {},
   "outputs": [
    {
     "data": {
      "text/plain": [
       "(<tf.Tensor: shape=(4, 3), dtype=int32, numpy=\n",
       " array([[5, 0, 3],\n",
       "        [3, 7, 9],\n",
       "        [3, 5, 2],\n",
       "        [4, 7, 6]], dtype=int32)>,\n",
       " <tf.Tensor: shape=(4, 3), dtype=int32, numpy=\n",
       " array([[0, 3, 5],\n",
       "        [3, 7, 9],\n",
       "        [2, 3, 5],\n",
       "        [4, 6, 7]], dtype=int32)>,\n",
       " <tf.Tensor: shape=(4, 3), dtype=int32, numpy=\n",
       " array([[0, 3, 5],\n",
       "        [3, 7, 9],\n",
       "        [2, 3, 5],\n",
       "        [4, 6, 7]], dtype=int32)>)"
      ]
     },
     "execution_count": 37,
     "metadata": {},
     "output_type": "execute_result"
    }
   ],
   "source": [
    "x, tf.sort(x), tf.sort(x, 1)"
   ]
  },
  {
   "cell_type": "code",
   "execution_count": 38,
   "metadata": {},
   "outputs": [
    {
     "data": {
      "text/plain": [
       "(<tf.Tensor: shape=(4, 3), dtype=int32, numpy=\n",
       " array([[5, 0, 3],\n",
       "        [3, 7, 9],\n",
       "        [3, 5, 2],\n",
       "        [4, 7, 6]], dtype=int32)>,\n",
       " <tf.Tensor: shape=(4, 3), dtype=int32, numpy=\n",
       " array([[3, 0, 2],\n",
       "        [3, 5, 3],\n",
       "        [4, 7, 6],\n",
       "        [5, 7, 9]], dtype=int32)>)"
      ]
     },
     "execution_count": 38,
     "metadata": {},
     "output_type": "execute_result"
    }
   ],
   "source": [
    "x, tf.sort(x, 0)"
   ]
  },
  {
   "cell_type": "code",
   "execution_count": 39,
   "metadata": {},
   "outputs": [
    {
     "data": {
      "text/plain": [
       "(<tf.Tensor: shape=(4, 3), dtype=bool, numpy=\n",
       " array([[ True, False,  True],\n",
       "        [ True,  True,  True],\n",
       "        [ True,  True,  True],\n",
       "        [ True,  True,  True]])>,\n",
       " <tf.Tensor: shape=(3,), dtype=bool, numpy=array([False,  True, False])>,\n",
       " <tf.Tensor: shape=(4, 3), dtype=bool, numpy=\n",
       " array([[False, False, False],\n",
       "        [False,  True, False],\n",
       "        [False,  True, False],\n",
       "        [False,  True, False]])>,\n",
       " <tf.Tensor: shape=(4, 3), dtype=bool, numpy=\n",
       " array([[ True,  True,  True],\n",
       "        [ True,  True,  True],\n",
       "        [ True,  True,  True],\n",
       "        [ True,  True,  True]])>,\n",
       " <tf.Tensor: shape=(3,), dtype=bool, numpy=array([ True, False,  True])>)"
      ]
     },
     "execution_count": 39,
     "metadata": {},
     "output_type": "execute_result"
    }
   ],
   "source": [
    "a = x >= 2\n",
    "b = x[-1] > 6\n",
    "a, b, tf.logical_and(a, b), tf.logical_or(a, b), tf.logical_not(b)"
   ]
  },
  {
   "cell_type": "code",
   "execution_count": 40,
   "metadata": {},
   "outputs": [
    {
     "data": {
      "text/plain": [
       "(<tf.Tensor: shape=(4, 3), dtype=int32, numpy=\n",
       " array([[0, 0, 2],\n",
       "        [2, 6, 0],\n",
       "        [2, 0, 0],\n",
       "        [0, 6, 4]], dtype=int32)>,\n",
       " <tf.Tensor: shape=(4, 3), dtype=int32, numpy=\n",
       " array([[15,  0,  7],\n",
       "        [ 7, 15, 27],\n",
       "        [ 7, 15,  6],\n",
       "        [12, 15, 14]], dtype=int32)>)"
      ]
     },
     "execution_count": 40,
     "metadata": {},
     "output_type": "execute_result"
    }
   ],
   "source": [
    "tf.bitwise.bitwise_and(x, 2*x), tf.bitwise.bitwise_or(x, 2*x)"
   ]
  },
  {
   "cell_type": "code",
   "execution_count": 41,
   "metadata": {},
   "outputs": [
    {
     "data": {
      "text/plain": [
       "(<tf.Tensor: shape=(4, 3), dtype=int32, numpy=\n",
       " array([[1, 0, 0],\n",
       "        [0, 1, 2],\n",
       "        [0, 1, 0],\n",
       "        [1, 1, 1]], dtype=int32)>,\n",
       " <tf.Tensor: shape=(4, 3), dtype=int32, numpy=\n",
       " array([[ -6,  -1,  -4],\n",
       "        [ -4,  -8, -10],\n",
       "        [ -4,  -6,  -3],\n",
       "        [ -5,  -8,  -7]], dtype=int32)>,\n",
       " <tf.Tensor: shape=(4, 3), dtype=int32, numpy=\n",
       " array([[ 80,   0,  48],\n",
       "        [ 48, 112, 144],\n",
       "        [ 48,  80,  32],\n",
       "        [ 64, 112,  96]], dtype=int32)>)"
      ]
     },
     "execution_count": 41,
     "metadata": {},
     "output_type": "execute_result"
    }
   ],
   "source": [
    "tf.bitwise.right_shift(x, 2), tf.bitwise.invert(x), tf.bitwise.left_shift(x, 4)"
   ]
  },
  {
   "cell_type": "code",
   "execution_count": 42,
   "metadata": {},
   "outputs": [
    {
     "data": {
      "text/plain": [
       "<tf.Tensor: shape=(4, 3), dtype=float32, numpy=\n",
       "array([[5., 0., 3.],\n",
       "       [3., 7., 9.],\n",
       "       [3., 5., 2.],\n",
       "       [4., 7., 6.]], dtype=float32)>"
      ]
     },
     "execution_count": 42,
     "metadata": {},
     "output_type": "execute_result"
    }
   ],
   "source": [
    "tf.cast(x, \"float\")"
   ]
  },
  {
   "cell_type": "code",
   "execution_count": 43,
   "metadata": {},
   "outputs": [
    {
     "data": {
      "text/plain": [
       "<tf.Tensor: shape=(4, 3), dtype=float32, numpy=\n",
       "array([[5., 0., 3.],\n",
       "       [3., 7., 9.],\n",
       "       [3., 5., 2.],\n",
       "       [4., 7., 6.]], dtype=float32)>"
      ]
     },
     "execution_count": 43,
     "metadata": {},
     "output_type": "execute_result"
    }
   ],
   "source": [
    "tf.cast(x, tf.float32)"
   ]
  },
  {
   "cell_type": "code",
   "execution_count": 44,
   "metadata": {},
   "outputs": [
    {
     "data": {
      "text/plain": [
       "<tf.Tensor: shape=(4, 3), dtype=float64, numpy=\n",
       "array([[5., 0., 3.],\n",
       "       [3., 7., 9.],\n",
       "       [3., 5., 2.],\n",
       "       [4., 7., 6.]])>"
      ]
     },
     "execution_count": 44,
     "metadata": {},
     "output_type": "execute_result"
    }
   ],
   "source": [
    "tf.cast(x, tf.as_dtype(2))"
   ]
  },
  {
   "cell_type": "code",
   "execution_count": 45,
   "metadata": {},
   "outputs": [
    {
     "data": {
      "text/plain": [
       "tf.float32"
      ]
     },
     "execution_count": 45,
     "metadata": {},
     "output_type": "execute_result"
    }
   ],
   "source": [
    "tf.as_dtype(1)"
   ]
  },
  {
   "cell_type": "code",
   "execution_count": 46,
   "metadata": {},
   "outputs": [
    {
     "data": {
      "text/plain": [
       "(<tf.Tensor: shape=(4, 3), dtype=bool, numpy=\n",
       " array([[ True, False,  True],\n",
       "        [ True,  True,  True],\n",
       "        [ True,  True,  True],\n",
       "        [ True,  True,  True]])>,\n",
       " <tf.Tensor: shape=(), dtype=bool, numpy=False>)"
      ]
     },
     "execution_count": 46,
     "metadata": {},
     "output_type": "execute_result"
    }
   ],
   "source": [
    "x > 0, tf.math.reduce_all(x > 0)"
   ]
  },
  {
   "cell_type": "code",
   "execution_count": 47,
   "metadata": {},
   "outputs": [
    {
     "data": {
      "text/plain": [
       "(<tf.Tensor: shape=(4, 3), dtype=int32, numpy=\n",
       " array([[5, 0, 3],\n",
       "        [3, 7, 9],\n",
       "        [3, 5, 2],\n",
       "        [4, 7, 6]], dtype=int32)>,\n",
       " <tf.Tensor: shape=(), dtype=int32, numpy=-1>)"
      ]
     },
     "execution_count": 47,
     "metadata": {},
     "output_type": "execute_result"
    }
   ],
   "source": [
    "x, tf.case([(tf.math.reduce_all(tf.less(x, 5)), lambda: tf.constant(0))], default=lambda: tf.constant(-1))"
   ]
  },
  {
   "cell_type": "code",
   "execution_count": 48,
   "metadata": {},
   "outputs": [
    {
     "data": {
      "text/plain": [
       "(<tf.Tensor: shape=(4, 3), dtype=int32, numpy=\n",
       " array([[5, 0, 3],\n",
       "        [3, 7, 9],\n",
       "        [3, 5, 2],\n",
       "        [4, 7, 6]], dtype=int32)>,\n",
       " <tf.Tensor: shape=(4, 3), dtype=int32, numpy=\n",
       " array([[-5,  0, -3],\n",
       "        [-3, -7, -9],\n",
       "        [-3, -5, -2],\n",
       "        [-4, -7, -6]], dtype=int32)>)"
      ]
     },
     "execution_count": 48,
     "metadata": {},
     "output_type": "execute_result"
    }
   ],
   "source": [
    "x, tf.case([(tf.math.reduce_any(tf.less(x, 5)), lambda: x * -1)], default=lambda: tf.constant(-1))"
   ]
  },
  {
   "cell_type": "code",
   "execution_count": 49,
   "metadata": {},
   "outputs": [
    {
     "data": {
      "text/plain": [
       "(<tf.Tensor: shape=(4, 3), dtype=int32, numpy=\n",
       " array([[5, 0, 3],\n",
       "        [3, 7, 9],\n",
       "        [3, 5, 2],\n",
       "        [4, 7, 6]], dtype=int32)>,\n",
       " <tf.Tensor: shape=(3,), dtype=float32, numpy=array([1.5, 3.5, 4.5], dtype=float32)>,\n",
       " <tf.Tensor: shape=(4, 3), dtype=float32, numpy=\n",
       " array([[5. , 3.5, 4.5],\n",
       "        [3. , 7. , 9. ],\n",
       "        [3. , 5. , 4.5],\n",
       "        [4. , 7. , 6. ]], dtype=float32)>)"
      ]
     },
     "execution_count": 49,
     "metadata": {},
     "output_type": "execute_result"
    }
   ],
   "source": [
    "x, 0.5 * tf.cast(x[1], tf.float32), tf.maximum(tf.cast(x, tf.float32), 0.5 * tf.cast(x[1], tf.float32))"
   ]
  },
  {
   "cell_type": "code",
   "execution_count": 50,
   "metadata": {},
   "outputs": [
    {
     "data": {
      "text/plain": [
       "(<tf.Tensor: shape=(4, 3), dtype=int32, numpy=\n",
       " array([[5, 0, 3],\n",
       "        [3, 7, 9],\n",
       "        [3, 5, 2],\n",
       "        [4, 7, 6]], dtype=int32)>,\n",
       " <tf.Tensor: shape=(3,), dtype=float32, numpy=array([1.5, 3.5, 4.5], dtype=float32)>,\n",
       " <tf.Tensor: shape=(4, 3), dtype=float32, numpy=\n",
       " array([[1.5, 0. , 3. ],\n",
       "        [1.5, 3.5, 4.5],\n",
       "        [1.5, 3.5, 2. ],\n",
       "        [1.5, 3.5, 4.5]], dtype=float32)>)"
      ]
     },
     "execution_count": 50,
     "metadata": {},
     "output_type": "execute_result"
    }
   ],
   "source": [
    "x, 0.5 * tf.cast(x[1], tf.float32), tf.minimum(tf.cast(x, tf.float32), 0.5 * tf.cast(x[1], tf.float32))"
   ]
  },
  {
   "cell_type": "code",
   "execution_count": 51,
   "metadata": {},
   "outputs": [
    {
     "data": {
      "text/plain": [
       "(<tf.Tensor: shape=(4, 3), dtype=int32, numpy=\n",
       " array([[5, 0, 3],\n",
       "        [3, 7, 9],\n",
       "        [3, 5, 2],\n",
       "        [4, 7, 6]], dtype=int32)>,\n",
       " <tf.Tensor: shape=(), dtype=int32, numpy=9>)"
      ]
     },
     "execution_count": 51,
     "metadata": {},
     "output_type": "execute_result"
    }
   ],
   "source": [
    "x, tnp.amax(x)"
   ]
  },
  {
   "cell_type": "code",
   "execution_count": 52,
   "metadata": {},
   "outputs": [
    {
     "data": {
      "text/plain": [
       "<tf.Tensor: shape=(4, 3), dtype=int32, numpy=\n",
       "array([[5, 0, 3],\n",
       "       [3, 7, 9],\n",
       "       [3, 5, 2],\n",
       "       [4, 7, 6]], dtype=int32)>"
      ]
     },
     "execution_count": 52,
     "metadata": {},
     "output_type": "execute_result"
    }
   ],
   "source": [
    "tnp.abs(x)"
   ]
  },
  {
   "cell_type": "code",
   "execution_count": 53,
   "metadata": {},
   "outputs": [
    {
     "data": {
      "text/plain": [
       "(<tf.Tensor: shape=(4, 3), dtype=int32, numpy=\n",
       " array([[5, 0, 3],\n",
       "        [3, 7, 9],\n",
       "        [3, 5, 2],\n",
       "        [4, 7, 6]], dtype=int32)>,\n",
       " <tf.Tensor: shape=(4, 3), dtype=bool, numpy=\n",
       " array([[False, False, False],\n",
       "        [False,  True,  True],\n",
       "        [False, False, False],\n",
       "        [False,  True,  True]])>,\n",
       " <tf.Tensor: shape=(4,), dtype=int32, numpy=array([7, 9, 7, 6], dtype=int32)>)"
      ]
     },
     "execution_count": 53,
     "metadata": {},
     "output_type": "execute_result"
    }
   ],
   "source": [
    "# Select index in mask\n",
    "mask = x > 5\n",
    "x, mask, tf.boolean_mask(x, mask)"
   ]
  },
  {
   "cell_type": "code",
   "execution_count": 54,
   "metadata": {},
   "outputs": [
    {
     "data": {
      "text/plain": [
       "(<tf.Tensor: shape=(4, 3), dtype=int32, numpy=\n",
       " array([[5, 0, 3],\n",
       "        [3, 7, 9],\n",
       "        [3, 5, 2],\n",
       "        [4, 7, 6]], dtype=int32)>,\n",
       " <tf.Tensor: shape=(3,), dtype=bool, numpy=array([False,  True,  True])>,\n",
       " <tf.Tensor: shape=(4, 2), dtype=int32, numpy=\n",
       " array([[0, 3],\n",
       "        [7, 9],\n",
       "        [5, 2],\n",
       "        [7, 6]], dtype=int32)>)"
      ]
     },
     "execution_count": 54,
     "metadata": {},
     "output_type": "execute_result"
    }
   ],
   "source": [
    "mask = x > 5\n",
    "mask = mask[1]\n",
    "x, mask, tf.boolean_mask(x, mask, 1)"
   ]
  },
  {
   "cell_type": "code",
   "execution_count": 55,
   "metadata": {},
   "outputs": [
    {
     "data": {
      "text/plain": [
       "(<tf.Tensor: shape=(4, 3), dtype=int32, numpy=\n",
       " array([[5, 0, 3],\n",
       "        [3, 7, 9],\n",
       "        [3, 5, 2],\n",
       "        [4, 7, 6]], dtype=int32)>,\n",
       " <tf.Tensor: shape=(4,), dtype=bool, numpy=array([False,  True, False,  True])>,\n",
       " <tf.Tensor: shape=(2, 3), dtype=int32, numpy=\n",
       " array([[3, 7, 9],\n",
       "        [4, 7, 6]], dtype=int32)>)"
      ]
     },
     "execution_count": 55,
     "metadata": {},
     "output_type": "execute_result"
    }
   ],
   "source": [
    "mask = x > 5\n",
    "mask = mask[:, 1]\n",
    "x, mask, tf.boolean_mask(x, mask, 0)"
   ]
  },
  {
   "cell_type": "code",
   "execution_count": 56,
   "metadata": {},
   "outputs": [
    {
     "data": {
      "text/plain": [
       "<tf.Tensor: shape=(3,), dtype=int32, numpy=array([1, 2, 3], dtype=int32)>"
      ]
     },
     "execution_count": 56,
     "metadata": {},
     "output_type": "execute_result"
    }
   ],
   "source": [
    "tf.broadcast_dynamic_shape((1, 2, 3), (2, 3))"
   ]
  },
  {
   "cell_type": "code",
   "execution_count": 57,
   "metadata": {},
   "outputs": [
    {
     "data": {
      "text/plain": [
       "<tf.Tensor: shape=(3,), dtype=int32, numpy=array([2, 5, 3], dtype=int32)>"
      ]
     },
     "execution_count": 57,
     "metadata": {},
     "output_type": "execute_result"
    }
   ],
   "source": [
    "tf.broadcast_dynamic_shape((1, 5, 3), (2, 1, 3))"
   ]
  },
  {
   "cell_type": "code",
   "execution_count": 58,
   "metadata": {},
   "outputs": [
    {
     "data": {
      "text/plain": [
       "<tf.Tensor: shape=(3,), dtype=int32, numpy=array([10,  5,  3], dtype=int32)>"
      ]
     },
     "execution_count": 58,
     "metadata": {},
     "output_type": "execute_result"
    }
   ],
   "source": [
    "tf.broadcast_dynamic_shape((10, 5, 3), (1, 3))"
   ]
  },
  {
   "cell_type": "code",
   "execution_count": 59,
   "metadata": {},
   "outputs": [
    {
     "data": {
      "text/plain": [
       "TensorShape([10, 5, 3])"
      ]
     },
     "execution_count": 59,
     "metadata": {},
     "output_type": "execute_result"
    }
   ],
   "source": [
    "tf.broadcast_static_shape(tf.TensorShape((10, 5, 3)), \n",
    "                          tf.TensorShape((1, 3)))"
   ]
  },
  {
   "cell_type": "code",
   "execution_count": 60,
   "metadata": {},
   "outputs": [
    {
     "data": {
      "text/plain": [
       "(<tf.Tensor: shape=(4, 3), dtype=int32, numpy=\n",
       " array([[5, 0, 3],\n",
       "        [3, 7, 9],\n",
       "        [3, 5, 2],\n",
       "        [4, 7, 6]], dtype=int32)>,\n",
       " <tf.Tensor: shape=(8, 3), dtype=int32, numpy=\n",
       " array([[5, 0, 3],\n",
       "        [3, 7, 9],\n",
       "        [3, 5, 2],\n",
       "        [4, 7, 6],\n",
       "        [5, 0, 3],\n",
       "        [3, 7, 9],\n",
       "        [3, 5, 2],\n",
       "        [4, 7, 6]], dtype=int32)>)"
      ]
     },
     "execution_count": 60,
     "metadata": {},
     "output_type": "execute_result"
    }
   ],
   "source": [
    "x, tf.concat([x, x], axis=0)"
   ]
  },
  {
   "cell_type": "code",
   "execution_count": 61,
   "metadata": {},
   "outputs": [
    {
     "data": {
      "text/plain": [
       "(<tf.Tensor: shape=(4, 3), dtype=int32, numpy=\n",
       " array([[5, 0, 3],\n",
       "        [3, 7, 9],\n",
       "        [3, 5, 2],\n",
       "        [4, 7, 6]], dtype=int32)>,\n",
       " <tf.Tensor: shape=(4, 6), dtype=int32, numpy=\n",
       " array([[5, 0, 3, 5, 0, 3],\n",
       "        [3, 7, 9, 3, 7, 9],\n",
       "        [3, 5, 2, 3, 5, 2],\n",
       "        [4, 7, 6, 4, 7, 6]], dtype=int32)>)"
      ]
     },
     "execution_count": 61,
     "metadata": {},
     "output_type": "execute_result"
    }
   ],
   "source": [
    "x, tf.concat([x, x], axis=1)"
   ]
  },
  {
   "cell_type": "code",
   "execution_count": 62,
   "metadata": {},
   "outputs": [],
   "source": [
    "def get_random_tensor(size, dtype=\"float\", seed=-1):\n",
    "    if seed == -1:\n",
    "        seed = random.randint(0, 2**32 - 1)\n",
    "    np.random.seed(seed)\n",
    "    if isinstance(type(size), int):\n",
    "        size = (size, )\n",
    "    t = tf.convert_to_tensor(np.random.normal(0, 1., size))\n",
    "    t = tf.cast(t, dtype)\n",
    "    return t"
   ]
  },
  {
   "cell_type": "code",
   "execution_count": 63,
   "metadata": {},
   "outputs": [
    {
     "data": {
      "text/plain": [
       "(TensorShape([2, 5, 3]), TensorShape([2, 4, 3]), TensorShape([2, 9, 3]))"
      ]
     },
     "execution_count": 63,
     "metadata": {},
     "output_type": "execute_result"
    }
   ],
   "source": [
    "a = get_random_tensor((2, 5, 3), seed=2)\n",
    "b = get_random_tensor((2, 4, 3), seed=3)\n",
    "a.shape, b.shape, tf.concat([a, b], 1).shape"
   ]
  },
  {
   "cell_type": "code",
   "execution_count": 64,
   "metadata": {},
   "outputs": [
    {
     "data": {
      "text/plain": [
       "(TensorShape([2, 5, 3]), TensorShape([2, 5, 3]), TensorShape([2, 2, 5, 3]))"
      ]
     },
     "execution_count": 64,
     "metadata": {},
     "output_type": "execute_result"
    }
   ],
   "source": [
    "a = get_random_tensor((2, 5, 3), seed=2)\n",
    "b = get_random_tensor((2, 5, 3), seed=3)\n",
    "a.shape, b.shape, tf.stack([a, b], 0).shape"
   ]
  },
  {
   "cell_type": "code",
   "execution_count": 65,
   "metadata": {},
   "outputs": [
    {
     "data": {
      "text/plain": [
       "(<tf.Tensor: shape=(), dtype=int32, numpy=3>, 2)"
      ]
     },
     "execution_count": 65,
     "metadata": {},
     "output_type": "execute_result"
    }
   ],
   "source": [
    "tf.rank(a), tf.rank(x).numpy()"
   ]
  },
  {
   "cell_type": "code",
   "execution_count": 66,
   "metadata": {},
   "outputs": [
    {
     "data": {
      "text/plain": [
       "(<tf.Tensor: shape=(3, 5, 2), dtype=int32, numpy=\n",
       " array([[[ 0,  1],\n",
       "         [ 2,  3],\n",
       "         [ 4,  5],\n",
       "         [ 6,  7],\n",
       "         [ 8,  9]],\n",
       " \n",
       "        [[10, 11],\n",
       "         [12, 13],\n",
       "         [14, 15],\n",
       "         [16, 17],\n",
       "         [18, 19]],\n",
       " \n",
       "        [[20, 21],\n",
       "         [22, 23],\n",
       "         [24, 25],\n",
       "         [26, 27],\n",
       "         [28, 29]]], dtype=int32)>,\n",
       " <tf.Tensor: shape=(5, 2), dtype=int32, numpy=\n",
       " array([[0, 1],\n",
       "        [2, 3],\n",
       "        [4, 5],\n",
       "        [6, 7],\n",
       "        [8, 9]], dtype=int32)>,\n",
       " <tf.Tensor: shape=(5, 2), dtype=int32, numpy=\n",
       " array([[10, 11],\n",
       "        [12, 13],\n",
       "        [14, 15],\n",
       "        [16, 17],\n",
       "        [18, 19]], dtype=int32)>,\n",
       " <tf.Tensor: shape=(5, 2), dtype=int32, numpy=\n",
       " array([[20, 21],\n",
       "        [22, 23],\n",
       "        [24, 25],\n",
       "        [26, 27],\n",
       "        [28, 29]], dtype=int32)>)"
      ]
     },
     "execution_count": 66,
     "metadata": {},
     "output_type": "execute_result"
    }
   ],
   "source": [
    "a = tf.range(3*5*2)\n",
    "a = tf.reshape(a, (3, 5, 2))\n",
    "s, r, t = tf.unstack(a, 3)\n",
    "a, s, r, t"
   ]
  },
  {
   "cell_type": "code",
   "execution_count": 67,
   "metadata": {},
   "outputs": [
    {
     "data": {
      "text/plain": [
       "(<tf.Tensor: shape=(3, 5, 2), dtype=int32, numpy=\n",
       " array([[[ 0,  1],\n",
       "         [ 2,  3],\n",
       "         [ 4,  5],\n",
       "         [ 6,  7],\n",
       "         [ 8,  9]],\n",
       " \n",
       "        [[10, 11],\n",
       "         [12, 13],\n",
       "         [14, 15],\n",
       "         [16, 17],\n",
       "         [18, 19]],\n",
       " \n",
       "        [[20, 21],\n",
       "         [22, 23],\n",
       "         [24, 25],\n",
       "         [26, 27],\n",
       "         [28, 29]]], dtype=int32)>,\n",
       " <tf.Tensor: shape=(3, 5), dtype=int32, numpy=\n",
       " array([[ 0,  2,  4,  6,  8],\n",
       "        [10, 12, 14, 16, 18],\n",
       "        [20, 22, 24, 26, 28]], dtype=int32)>,\n",
       " <tf.Tensor: shape=(3, 5), dtype=int32, numpy=\n",
       " array([[ 1,  3,  5,  7,  9],\n",
       "        [11, 13, 15, 17, 19],\n",
       "        [21, 23, 25, 27, 29]], dtype=int32)>)"
      ]
     },
     "execution_count": 67,
     "metadata": {},
     "output_type": "execute_result"
    }
   ],
   "source": [
    "a = tf.range(3*5*2)\n",
    "a = tf.reshape(a, (3, 5, 2))\n",
    "s, r = tf.unstack(a, axis=2)\n",
    "a, s, r"
   ]
  },
  {
   "cell_type": "code",
   "execution_count": 68,
   "metadata": {},
   "outputs": [
    {
     "data": {
      "text/plain": [
       "(<tf.Tensor: shape=(3, 5, 2), dtype=int32, numpy=\n",
       " array([[[ 0,  1],\n",
       "         [ 2,  3],\n",
       "         [ 4,  5],\n",
       "         [ 6,  7],\n",
       "         [ 8,  9]],\n",
       " \n",
       "        [[10, 11],\n",
       "         [12, 13],\n",
       "         [14, 15],\n",
       "         [16, 17],\n",
       "         [18, 19]],\n",
       " \n",
       "        [[20, 21],\n",
       "         [22, 23],\n",
       "         [24, 25],\n",
       "         [26, 27],\n",
       "         [28, 29]]], dtype=int32)>,\n",
       " <tf.Tensor: shape=(3, 5, 2), dtype=int32, numpy=\n",
       " array([[[ 0,  1],\n",
       "         [ 2,  3],\n",
       "         [ 4,  5],\n",
       "         [ 6,  7],\n",
       "         [ 8,  9]],\n",
       " \n",
       "        [[10, 11],\n",
       "         [12, 13],\n",
       "         [14, 15],\n",
       "         [16, 17],\n",
       "         [18, 19]],\n",
       " \n",
       "        [[20, 21],\n",
       "         [22, 23],\n",
       "         [24, 25],\n",
       "         [26, 27],\n",
       "         [28, 29]]], dtype=int32)>)"
      ]
     },
     "execution_count": 68,
     "metadata": {},
     "output_type": "execute_result"
    }
   ],
   "source": [
    "a = tf.range(3*5*2)\n",
    "a = tf.reshape(a, (3, 5, 2))\n",
    "a, tf.tile(a, (1, 1, 1))"
   ]
  },
  {
   "cell_type": "code",
   "execution_count": 69,
   "metadata": {},
   "outputs": [
    {
     "data": {
      "text/plain": [
       "(<tf.Tensor: shape=(3, 5, 2), dtype=int32, numpy=\n",
       " array([[[ 0,  1],\n",
       "         [ 2,  3],\n",
       "         [ 4,  5],\n",
       "         [ 6,  7],\n",
       "         [ 8,  9]],\n",
       " \n",
       "        [[10, 11],\n",
       "         [12, 13],\n",
       "         [14, 15],\n",
       "         [16, 17],\n",
       "         [18, 19]],\n",
       " \n",
       "        [[20, 21],\n",
       "         [22, 23],\n",
       "         [24, 25],\n",
       "         [26, 27],\n",
       "         [28, 29]]], dtype=int32)>,\n",
       " <tf.Tensor: shape=(3, 5, 4), dtype=int32, numpy=\n",
       " array([[[ 0,  1,  0,  1],\n",
       "         [ 2,  3,  2,  3],\n",
       "         [ 4,  5,  4,  5],\n",
       "         [ 6,  7,  6,  7],\n",
       "         [ 8,  9,  8,  9]],\n",
       " \n",
       "        [[10, 11, 10, 11],\n",
       "         [12, 13, 12, 13],\n",
       "         [14, 15, 14, 15],\n",
       "         [16, 17, 16, 17],\n",
       "         [18, 19, 18, 19]],\n",
       " \n",
       "        [[20, 21, 20, 21],\n",
       "         [22, 23, 22, 23],\n",
       "         [24, 25, 24, 25],\n",
       "         [26, 27, 26, 27],\n",
       "         [28, 29, 28, 29]]], dtype=int32)>)"
      ]
     },
     "execution_count": 69,
     "metadata": {},
     "output_type": "execute_result"
    }
   ],
   "source": [
    "a = tf.range(3*5*2)\n",
    "a = tf.reshape(a, (3, 5, 2))\n",
    "a, tf.tile(a, (1, 1, 2))"
   ]
  },
  {
   "cell_type": "code",
   "execution_count": 70,
   "metadata": {},
   "outputs": [
    {
     "data": {
      "text/plain": [
       "(<tf.Tensor: shape=(3, 5, 2), dtype=int32, numpy=\n",
       " array([[[ 0,  1],\n",
       "         [ 2,  3],\n",
       "         [ 4,  5],\n",
       "         [ 6,  7],\n",
       "         [ 8,  9]],\n",
       " \n",
       "        [[10, 11],\n",
       "         [12, 13],\n",
       "         [14, 15],\n",
       "         [16, 17],\n",
       "         [18, 19]],\n",
       " \n",
       "        [[20, 21],\n",
       "         [22, 23],\n",
       "         [24, 25],\n",
       "         [26, 27],\n",
       "         [28, 29]]], dtype=int32)>,\n",
       " <tf.Tensor: shape=(3, 10, 4), dtype=int32, numpy=\n",
       " array([[[ 0,  1,  0,  1],\n",
       "         [ 2,  3,  2,  3],\n",
       "         [ 4,  5,  4,  5],\n",
       "         [ 6,  7,  6,  7],\n",
       "         [ 8,  9,  8,  9],\n",
       "         [ 0,  1,  0,  1],\n",
       "         [ 2,  3,  2,  3],\n",
       "         [ 4,  5,  4,  5],\n",
       "         [ 6,  7,  6,  7],\n",
       "         [ 8,  9,  8,  9]],\n",
       " \n",
       "        [[10, 11, 10, 11],\n",
       "         [12, 13, 12, 13],\n",
       "         [14, 15, 14, 15],\n",
       "         [16, 17, 16, 17],\n",
       "         [18, 19, 18, 19],\n",
       "         [10, 11, 10, 11],\n",
       "         [12, 13, 12, 13],\n",
       "         [14, 15, 14, 15],\n",
       "         [16, 17, 16, 17],\n",
       "         [18, 19, 18, 19]],\n",
       " \n",
       "        [[20, 21, 20, 21],\n",
       "         [22, 23, 22, 23],\n",
       "         [24, 25, 24, 25],\n",
       "         [26, 27, 26, 27],\n",
       "         [28, 29, 28, 29],\n",
       "         [20, 21, 20, 21],\n",
       "         [22, 23, 22, 23],\n",
       "         [24, 25, 24, 25],\n",
       "         [26, 27, 26, 27],\n",
       "         [28, 29, 28, 29]]], dtype=int32)>)"
      ]
     },
     "execution_count": 70,
     "metadata": {},
     "output_type": "execute_result"
    }
   ],
   "source": [
    "a = tf.range(3*5*2)\n",
    "a = tf.reshape(a, (3, 5, 2))\n",
    "a, tf.tile(a, (1, 2, 2))"
   ]
  },
  {
   "cell_type": "code",
   "execution_count": 71,
   "metadata": {},
   "outputs": [
    {
     "data": {
      "text/plain": [
       "(<tf.Tensor: shape=(3, 5, 2), dtype=int32, numpy=\n",
       " array([[[ 0,  1],\n",
       "         [ 2,  3],\n",
       "         [ 4,  5],\n",
       "         [ 6,  7],\n",
       "         [ 8,  9]],\n",
       " \n",
       "        [[10, 11],\n",
       "         [12, 13],\n",
       "         [14, 15],\n",
       "         [16, 17],\n",
       "         [18, 19]],\n",
       " \n",
       "        [[20, 21],\n",
       "         [22, 23],\n",
       "         [24, 25],\n",
       "         [26, 27],\n",
       "         [28, 29]]], dtype=int32)>,\n",
       " <tf.Tensor: shape=(1, 3, 5, 2), dtype=int32, numpy=\n",
       " array([[[[ 0,  1],\n",
       "          [ 2,  3],\n",
       "          [ 4,  5],\n",
       "          [ 6,  7],\n",
       "          [ 8,  9]],\n",
       " \n",
       "         [[10, 11],\n",
       "          [12, 13],\n",
       "          [14, 15],\n",
       "          [16, 17],\n",
       "          [18, 19]],\n",
       " \n",
       "         [[20, 21],\n",
       "          [22, 23],\n",
       "          [24, 25],\n",
       "          [26, 27],\n",
       "          [28, 29]]]], dtype=int32)>)"
      ]
     },
     "execution_count": 71,
     "metadata": {},
     "output_type": "execute_result"
    }
   ],
   "source": [
    "a = tf.range(3*5*2)\n",
    "a = tf.reshape(a, (3, 5, 2))\n",
    "a, tf.expand_dims(a, axis=0)"
   ]
  },
  {
   "cell_type": "code",
   "execution_count": 72,
   "metadata": {},
   "outputs": [
    {
     "data": {
      "text/plain": [
       "(<tf.Tensor: shape=(3, 5, 2), dtype=int32, numpy=\n",
       " array([[[ 0,  1],\n",
       "         [ 2,  3],\n",
       "         [ 4,  5],\n",
       "         [ 6,  7],\n",
       "         [ 8,  9]],\n",
       " \n",
       "        [[10, 11],\n",
       "         [12, 13],\n",
       "         [14, 15],\n",
       "         [16, 17],\n",
       "         [18, 19]],\n",
       " \n",
       "        [[20, 21],\n",
       "         [22, 23],\n",
       "         [24, 25],\n",
       "         [26, 27],\n",
       "         [28, 29]]], dtype=int32)>,\n",
       " <tf.Tensor: shape=(3, 1, 5, 2), dtype=int32, numpy=\n",
       " array([[[[ 0,  1],\n",
       "          [ 2,  3],\n",
       "          [ 4,  5],\n",
       "          [ 6,  7],\n",
       "          [ 8,  9]]],\n",
       " \n",
       " \n",
       "        [[[10, 11],\n",
       "          [12, 13],\n",
       "          [14, 15],\n",
       "          [16, 17],\n",
       "          [18, 19]]],\n",
       " \n",
       " \n",
       "        [[[20, 21],\n",
       "          [22, 23],\n",
       "          [24, 25],\n",
       "          [26, 27],\n",
       "          [28, 29]]]], dtype=int32)>)"
      ]
     },
     "execution_count": 72,
     "metadata": {},
     "output_type": "execute_result"
    }
   ],
   "source": [
    "a = tf.range(3*5*2)\n",
    "a = tf.reshape(a, (3, 5, 2))\n",
    "a, tf.expand_dims(a, axis=1)"
   ]
  },
  {
   "cell_type": "code",
   "execution_count": 73,
   "metadata": {},
   "outputs": [
    {
     "data": {
      "text/plain": [
       "(<tf.Tensor: shape=(3, 5, 2), dtype=int32, numpy=\n",
       " array([[[ 0,  1],\n",
       "         [ 2,  3],\n",
       "         [ 4,  5],\n",
       "         [ 6,  7],\n",
       "         [ 8,  9]],\n",
       " \n",
       "        [[10, 11],\n",
       "         [12, 13],\n",
       "         [14, 15],\n",
       "         [16, 17],\n",
       "         [18, 19]],\n",
       " \n",
       "        [[20, 21],\n",
       "         [22, 23],\n",
       "         [24, 25],\n",
       "         [26, 27],\n",
       "         [28, 29]]], dtype=int32)>,\n",
       " <tf.Tensor: shape=(3, 5, 2, 1), dtype=int32, numpy=\n",
       " array([[[[ 0],\n",
       "          [ 1]],\n",
       " \n",
       "         [[ 2],\n",
       "          [ 3]],\n",
       " \n",
       "         [[ 4],\n",
       "          [ 5]],\n",
       " \n",
       "         [[ 6],\n",
       "          [ 7]],\n",
       " \n",
       "         [[ 8],\n",
       "          [ 9]]],\n",
       " \n",
       " \n",
       "        [[[10],\n",
       "          [11]],\n",
       " \n",
       "         [[12],\n",
       "          [13]],\n",
       " \n",
       "         [[14],\n",
       "          [15]],\n",
       " \n",
       "         [[16],\n",
       "          [17]],\n",
       " \n",
       "         [[18],\n",
       "          [19]]],\n",
       " \n",
       " \n",
       "        [[[20],\n",
       "          [21]],\n",
       " \n",
       "         [[22],\n",
       "          [23]],\n",
       " \n",
       "         [[24],\n",
       "          [25]],\n",
       " \n",
       "         [[26],\n",
       "          [27]],\n",
       " \n",
       "         [[28],\n",
       "          [29]]]], dtype=int32)>)"
      ]
     },
     "execution_count": 73,
     "metadata": {},
     "output_type": "execute_result"
    }
   ],
   "source": [
    "a = tf.range(3*5*2)\n",
    "a = tf.reshape(a, (3, 5, 2))\n",
    "a, tf.expand_dims(a, axis=3)"
   ]
  },
  {
   "cell_type": "code",
   "execution_count": 74,
   "metadata": {},
   "outputs": [
    {
     "data": {
      "text/plain": [
       "(<tf.Tensor: shape=(5, 2), dtype=int32, numpy=\n",
       " array([[0, 1],\n",
       "        [2, 3],\n",
       "        [4, 5],\n",
       "        [6, 7],\n",
       "        [8, 9]], dtype=int32)>,\n",
       " <tf.Tensor: shape=(1, 5, 2, 1), dtype=int32, numpy=\n",
       " array([[[[0],\n",
       "          [1]],\n",
       " \n",
       "         [[2],\n",
       "          [3]],\n",
       " \n",
       "         [[4],\n",
       "          [5]],\n",
       " \n",
       "         [[6],\n",
       "          [7]],\n",
       " \n",
       "         [[8],\n",
       "          [9]]]], dtype=int32)>,\n",
       " <tf.Tensor: shape=(5, 2), dtype=int32, numpy=\n",
       " array([[0, 1],\n",
       "        [2, 3],\n",
       "        [4, 5],\n",
       "        [6, 7],\n",
       "        [8, 9]], dtype=int32)>)"
      ]
     },
     "execution_count": 74,
     "metadata": {},
     "output_type": "execute_result"
    }
   ],
   "source": [
    "a = tf.range(5*2)\n",
    "a = tf.reshape(a, (5, 2))\n",
    "b = tf.expand_dims(tf.expand_dims(a, axis=2), axis=0)\n",
    "a,  b, tf.squeeze(b)"
   ]
  },
  {
   "cell_type": "code",
   "execution_count": 75,
   "metadata": {},
   "outputs": [
    {
     "data": {
      "text/plain": [
       "(<tf.Tensor: shape=(5, 2), dtype=int32, numpy=\n",
       " array([[0, 1],\n",
       "        [2, 3],\n",
       "        [4, 5],\n",
       "        [6, 7],\n",
       "        [8, 9]], dtype=int32)>,\n",
       " <tf.Tensor: shape=(1, 5, 2, 1), dtype=int32, numpy=\n",
       " array([[[[0],\n",
       "          [1]],\n",
       " \n",
       "         [[2],\n",
       "          [3]],\n",
       " \n",
       "         [[4],\n",
       "          [5]],\n",
       " \n",
       "         [[6],\n",
       "          [7]],\n",
       " \n",
       "         [[8],\n",
       "          [9]]]], dtype=int32)>,\n",
       " <tf.Tensor: shape=(5, 2, 1), dtype=int32, numpy=\n",
       " array([[[0],\n",
       "         [1]],\n",
       " \n",
       "        [[2],\n",
       "         [3]],\n",
       " \n",
       "        [[4],\n",
       "         [5]],\n",
       " \n",
       "        [[6],\n",
       "         [7]],\n",
       " \n",
       "        [[8],\n",
       "         [9]]], dtype=int32)>)"
      ]
     },
     "execution_count": 75,
     "metadata": {},
     "output_type": "execute_result"
    }
   ],
   "source": [
    "a = tf.range(5*2)\n",
    "a = tf.reshape(a, (5, 2))\n",
    "b = tf.expand_dims(tf.expand_dims(a, axis=2), axis=0)\n",
    "a,  b, tf.squeeze(b, axis=0)"
   ]
  },
  {
   "cell_type": "code",
   "execution_count": 76,
   "metadata": {},
   "outputs": [
    {
     "data": {
      "text/plain": [
       "(<tf.Tensor: shape=(5, 2), dtype=int32, numpy=\n",
       " array([[0, 1],\n",
       "        [2, 3],\n",
       "        [4, 5],\n",
       "        [6, 7],\n",
       "        [8, 9]], dtype=int32)>,\n",
       " <tf.Tensor: shape=(1, 5, 2, 1), dtype=int32, numpy=\n",
       " array([[[[0],\n",
       "          [1]],\n",
       " \n",
       "         [[2],\n",
       "          [3]],\n",
       " \n",
       "         [[4],\n",
       "          [5]],\n",
       " \n",
       "         [[6],\n",
       "          [7]],\n",
       " \n",
       "         [[8],\n",
       "          [9]]]], dtype=int32)>,\n",
       " <tf.Tensor: shape=(5, 2), dtype=int32, numpy=\n",
       " array([[0, 1],\n",
       "        [2, 3],\n",
       "        [4, 5],\n",
       "        [6, 7],\n",
       "        [8, 9]], dtype=int32)>)"
      ]
     },
     "execution_count": 76,
     "metadata": {},
     "output_type": "execute_result"
    }
   ],
   "source": [
    "a = tf.range(5*2)\n",
    "a = tf.reshape(a, (5, 2))\n",
    "b = tf.expand_dims(tf.expand_dims(a, axis=2), axis=0)\n",
    "a,  b, tf.squeeze(b, axis=(0, -1))"
   ]
  },
  {
   "cell_type": "code",
   "execution_count": 77,
   "metadata": {},
   "outputs": [
    {
     "data": {
      "text/plain": [
       "(<tf.Tensor: shape=(5, 2), dtype=int32, numpy=\n",
       " array([[0, 1],\n",
       "        [2, 3],\n",
       "        [4, 5],\n",
       "        [6, 7],\n",
       "        [8, 9]], dtype=int32)>,\n",
       " <tf.Tensor: shape=(1, 5, 2, 1), dtype=int32, numpy=\n",
       " array([[[[0],\n",
       "          [1]],\n",
       " \n",
       "         [[2],\n",
       "          [3]],\n",
       " \n",
       "         [[4],\n",
       "          [5]],\n",
       " \n",
       "         [[6],\n",
       "          [7]],\n",
       " \n",
       "         [[8],\n",
       "          [9]]]], dtype=int32)>,\n",
       " <tf.Tensor: shape=(5, 2), dtype=int32, numpy=\n",
       " array([[0, 1],\n",
       "        [2, 3],\n",
       "        [4, 5],\n",
       "        [6, 7],\n",
       "        [8, 9]], dtype=int32)>)"
      ]
     },
     "execution_count": 77,
     "metadata": {},
     "output_type": "execute_result"
    }
   ],
   "source": [
    "a = tf.range(5*2)\n",
    "a = tf.reshape(a, (5, 2))\n",
    "b = tf.expand_dims(tf.expand_dims(a, axis=2), axis=0)\n",
    "a,  b, tf.squeeze(b, axis=(0, -1))"
   ]
  },
  {
   "cell_type": "code",
   "execution_count": 78,
   "metadata": {},
   "outputs": [
    {
     "data": {
      "text/plain": [
       "(<tf.Tensor: shape=(3, 5, 2), dtype=int32, numpy=\n",
       " array([[[ 0,  1],\n",
       "         [ 2,  3],\n",
       "         [ 4,  5],\n",
       "         [ 6,  7],\n",
       "         [ 8,  9]],\n",
       " \n",
       "        [[10, 11],\n",
       "         [12, 13],\n",
       "         [14, 15],\n",
       "         [16, 17],\n",
       "         [18, 19]],\n",
       " \n",
       "        [[20, 21],\n",
       "         [22, 23],\n",
       "         [24, 25],\n",
       "         [26, 27],\n",
       "         [28, 29]]], dtype=int32)>,\n",
       " <tf.Tensor: shape=(2, 5, 3), dtype=int32, numpy=\n",
       " array([[[ 0, 10, 20],\n",
       "         [ 2, 12, 22],\n",
       "         [ 4, 14, 24],\n",
       "         [ 6, 16, 26],\n",
       "         [ 8, 18, 28]],\n",
       " \n",
       "        [[ 1, 11, 21],\n",
       "         [ 3, 13, 23],\n",
       "         [ 5, 15, 25],\n",
       "         [ 7, 17, 27],\n",
       "         [ 9, 19, 29]]], dtype=int32)>)"
      ]
     },
     "execution_count": 78,
     "metadata": {},
     "output_type": "execute_result"
    }
   ],
   "source": [
    "size = tf.constant([3, 5, 2])\n",
    "a = tf.range(tf.math.reduce_prod(size))\n",
    "a = tf.reshape(a, size)\n",
    "a, tf.transpose(a, )"
   ]
  },
  {
   "cell_type": "code",
   "execution_count": 79,
   "metadata": {},
   "outputs": [
    {
     "data": {
      "text/plain": [
       "(<tf.Tensor: shape=(3, 5, 2), dtype=int32, numpy=\n",
       " array([[[ 0,  1],\n",
       "         [ 2,  3],\n",
       "         [ 4,  5],\n",
       "         [ 6,  7],\n",
       "         [ 8,  9]],\n",
       " \n",
       "        [[10, 11],\n",
       "         [12, 13],\n",
       "         [14, 15],\n",
       "         [16, 17],\n",
       "         [18, 19]],\n",
       " \n",
       "        [[20, 21],\n",
       "         [22, 23],\n",
       "         [24, 25],\n",
       "         [26, 27],\n",
       "         [28, 29]]], dtype=int32)>,\n",
       " <tf.Tensor: shape=(5, 3, 2), dtype=int32, numpy=\n",
       " array([[[ 0,  1],\n",
       "         [10, 11],\n",
       "         [20, 21]],\n",
       " \n",
       "        [[ 2,  3],\n",
       "         [12, 13],\n",
       "         [22, 23]],\n",
       " \n",
       "        [[ 4,  5],\n",
       "         [14, 15],\n",
       "         [24, 25]],\n",
       " \n",
       "        [[ 6,  7],\n",
       "         [16, 17],\n",
       "         [26, 27]],\n",
       " \n",
       "        [[ 8,  9],\n",
       "         [18, 19],\n",
       "         [28, 29]]], dtype=int32)>)"
      ]
     },
     "execution_count": 79,
     "metadata": {},
     "output_type": "execute_result"
    }
   ],
   "source": [
    "size = tf.constant([3, 5, 2])\n",
    "a = tf.range(tf.math.reduce_prod(size))\n",
    "a = tf.reshape(a, size)\n",
    "a, tf.transpose(a, (1, 0, 2))"
   ]
  },
  {
   "cell_type": "code",
   "execution_count": 80,
   "metadata": {},
   "outputs": [
    {
     "data": {
      "text/plain": [
       "(<tf.Tensor: shape=(3, 5, 2), dtype=int32, numpy=\n",
       " array([[[ 0,  1],\n",
       "         [ 2,  3],\n",
       "         [ 4,  5],\n",
       "         [ 6,  7],\n",
       "         [ 8,  9]],\n",
       " \n",
       "        [[10, 11],\n",
       "         [12, 13],\n",
       "         [14, 15],\n",
       "         [16, 17],\n",
       "         [18, 19]],\n",
       " \n",
       "        [[20, 21],\n",
       "         [22, 23],\n",
       "         [24, 25],\n",
       "         [26, 27],\n",
       "         [28, 29]]], dtype=int32)>,\n",
       " [<tf.Tensor: shape=(1, 5, 2), dtype=int32, numpy=\n",
       "  array([[[0, 1],\n",
       "          [2, 3],\n",
       "          [4, 5],\n",
       "          [6, 7],\n",
       "          [8, 9]]], dtype=int32)>,\n",
       "  <tf.Tensor: shape=(1, 5, 2), dtype=int32, numpy=\n",
       "  array([[[10, 11],\n",
       "          [12, 13],\n",
       "          [14, 15],\n",
       "          [16, 17],\n",
       "          [18, 19]]], dtype=int32)>,\n",
       "  <tf.Tensor: shape=(1, 5, 2), dtype=int32, numpy=\n",
       "  array([[[20, 21],\n",
       "          [22, 23],\n",
       "          [24, 25],\n",
       "          [26, 27],\n",
       "          [28, 29]]], dtype=int32)>],\n",
       " [<tf.Tensor: shape=(5, 2), dtype=int32, numpy=\n",
       "  array([[0, 1],\n",
       "         [2, 3],\n",
       "         [4, 5],\n",
       "         [6, 7],\n",
       "         [8, 9]], dtype=int32)>,\n",
       "  <tf.Tensor: shape=(5, 2), dtype=int32, numpy=\n",
       "  array([[10, 11],\n",
       "         [12, 13],\n",
       "         [14, 15],\n",
       "         [16, 17],\n",
       "         [18, 19]], dtype=int32)>,\n",
       "  <tf.Tensor: shape=(5, 2), dtype=int32, numpy=\n",
       "  array([[20, 21],\n",
       "         [22, 23],\n",
       "         [24, 25],\n",
       "         [26, 27],\n",
       "         [28, 29]], dtype=int32)>])"
      ]
     },
     "execution_count": 80,
     "metadata": {},
     "output_type": "execute_result"
    }
   ],
   "source": [
    "size = tf.constant([3, 5, 2])\n",
    "a = tf.range(tf.math.reduce_prod(size))\n",
    "a = tf.reshape(a, size)\n",
    "a, tf.split(a, axis=0, num_or_size_splits=3), tf.unstack(a, axis=0)"
   ]
  },
  {
   "cell_type": "code",
   "execution_count": 81,
   "metadata": {},
   "outputs": [
    {
     "data": {
      "text/plain": [
       "(<tf.Tensor: shape=(6, 5, 2), dtype=int32, numpy=\n",
       " array([[[ 0,  1],\n",
       "         [ 2,  3],\n",
       "         [ 4,  5],\n",
       "         [ 6,  7],\n",
       "         [ 8,  9]],\n",
       " \n",
       "        [[10, 11],\n",
       "         [12, 13],\n",
       "         [14, 15],\n",
       "         [16, 17],\n",
       "         [18, 19]],\n",
       " \n",
       "        [[20, 21],\n",
       "         [22, 23],\n",
       "         [24, 25],\n",
       "         [26, 27],\n",
       "         [28, 29]],\n",
       " \n",
       "        [[30, 31],\n",
       "         [32, 33],\n",
       "         [34, 35],\n",
       "         [36, 37],\n",
       "         [38, 39]],\n",
       " \n",
       "        [[40, 41],\n",
       "         [42, 43],\n",
       "         [44, 45],\n",
       "         [46, 47],\n",
       "         [48, 49]],\n",
       " \n",
       "        [[50, 51],\n",
       "         [52, 53],\n",
       "         [54, 55],\n",
       "         [56, 57],\n",
       "         [58, 59]]], dtype=int32)>,\n",
       " [<tf.Tensor: shape=(2, 5, 2), dtype=int32, numpy=\n",
       "  array([[[ 0,  1],\n",
       "          [ 2,  3],\n",
       "          [ 4,  5],\n",
       "          [ 6,  7],\n",
       "          [ 8,  9]],\n",
       "  \n",
       "         [[10, 11],\n",
       "          [12, 13],\n",
       "          [14, 15],\n",
       "          [16, 17],\n",
       "          [18, 19]]], dtype=int32)>,\n",
       "  <tf.Tensor: shape=(2, 5, 2), dtype=int32, numpy=\n",
       "  array([[[20, 21],\n",
       "          [22, 23],\n",
       "          [24, 25],\n",
       "          [26, 27],\n",
       "          [28, 29]],\n",
       "  \n",
       "         [[30, 31],\n",
       "          [32, 33],\n",
       "          [34, 35],\n",
       "          [36, 37],\n",
       "          [38, 39]]], dtype=int32)>,\n",
       "  <tf.Tensor: shape=(2, 5, 2), dtype=int32, numpy=\n",
       "  array([[[40, 41],\n",
       "          [42, 43],\n",
       "          [44, 45],\n",
       "          [46, 47],\n",
       "          [48, 49]],\n",
       "  \n",
       "         [[50, 51],\n",
       "          [52, 53],\n",
       "          [54, 55],\n",
       "          [56, 57],\n",
       "          [58, 59]]], dtype=int32)>],\n",
       " [<tf.Tensor: shape=(5, 2), dtype=int32, numpy=\n",
       "  array([[0, 1],\n",
       "         [2, 3],\n",
       "         [4, 5],\n",
       "         [6, 7],\n",
       "         [8, 9]], dtype=int32)>,\n",
       "  <tf.Tensor: shape=(5, 2), dtype=int32, numpy=\n",
       "  array([[10, 11],\n",
       "         [12, 13],\n",
       "         [14, 15],\n",
       "         [16, 17],\n",
       "         [18, 19]], dtype=int32)>,\n",
       "  <tf.Tensor: shape=(5, 2), dtype=int32, numpy=\n",
       "  array([[20, 21],\n",
       "         [22, 23],\n",
       "         [24, 25],\n",
       "         [26, 27],\n",
       "         [28, 29]], dtype=int32)>,\n",
       "  <tf.Tensor: shape=(5, 2), dtype=int32, numpy=\n",
       "  array([[30, 31],\n",
       "         [32, 33],\n",
       "         [34, 35],\n",
       "         [36, 37],\n",
       "         [38, 39]], dtype=int32)>,\n",
       "  <tf.Tensor: shape=(5, 2), dtype=int32, numpy=\n",
       "  array([[40, 41],\n",
       "         [42, 43],\n",
       "         [44, 45],\n",
       "         [46, 47],\n",
       "         [48, 49]], dtype=int32)>,\n",
       "  <tf.Tensor: shape=(5, 2), dtype=int32, numpy=\n",
       "  array([[50, 51],\n",
       "         [52, 53],\n",
       "         [54, 55],\n",
       "         [56, 57],\n",
       "         [58, 59]], dtype=int32)>])"
      ]
     },
     "execution_count": 81,
     "metadata": {},
     "output_type": "execute_result"
    }
   ],
   "source": [
    "size = tf.constant([6, 5, 2])\n",
    "a = tf.range(tf.math.reduce_prod(size))\n",
    "a = tf.reshape(a, size)\n",
    "a, tf.split(a, axis=0, num_or_size_splits=3), tf.unstack(a, axis=0)"
   ]
  },
  {
   "cell_type": "code",
   "execution_count": 82,
   "metadata": {},
   "outputs": [
    {
     "data": {
      "text/plain": [
       "(<tf.Tensor: shape=(2, 5, 2), dtype=int32, numpy=\n",
       " array([[[ 0,  1],\n",
       "         [ 2,  3],\n",
       "         [ 4,  5],\n",
       "         [ 6,  7],\n",
       "         [ 8,  9]],\n",
       " \n",
       "        [[10, 11],\n",
       "         [12, 13],\n",
       "         [14, 15],\n",
       "         [16, 17],\n",
       "         [18, 19]]], dtype=int32)>,\n",
       " <tf.Tensor: shape=(), dtype=int32, numpy=190>,\n",
       " <tf.Tensor: shape=(), dtype=int32, numpy=0>,\n",
       " <tf.Tensor: shape=(), dtype=int32, numpy=19>,\n",
       " <tf.Tensor: shape=(), dtype=bool, numpy=False>,\n",
       " <tf.Tensor: shape=(), dtype=bool, numpy=True>,\n",
       " <tf.Tensor: shape=(), dtype=float64, numpy=3628800.0>,\n",
       " <tf.Tensor: shape=(), dtype=int32, numpy=9>)"
      ]
     },
     "execution_count": 82,
     "metadata": {},
     "output_type": "execute_result"
    }
   ],
   "source": [
    "size = tf.constant([2, 5, 2])\n",
    "a = tf.range(tf.math.reduce_prod(size))\n",
    "a = tf.reshape(a, size)\n",
    "a, tf.reduce_sum(a), tf.reduce_min(a), tf.reduce_max(a),  tf.reduce_all(a < 0), tf.reduce_any(a > 0), tf.reduce_prod(tf.cast(a + 1, tf.float64)[0]), tf.reduce_mean(a)"
   ]
  },
  {
   "cell_type": "code",
   "execution_count": 83,
   "metadata": {},
   "outputs": [
    {
     "data": {
      "text/plain": [
       "<tf.Tensor: shape=(2, 5, 2), dtype=float64, numpy=\n",
       "array([[[nan, 0.5],\n",
       "        [0.5, 0.5],\n",
       "        [0.5, 0.5],\n",
       "        [0.5, 0.5],\n",
       "        [0.5, 0.5]],\n",
       "\n",
       "       [[0.5, 0.5],\n",
       "        [0.5, 0.5],\n",
       "        [0.5, 0.5],\n",
       "        [0.5, 0.5],\n",
       "        [0.5, 0.5]]])>"
      ]
     },
     "execution_count": 83,
     "metadata": {},
     "output_type": "execute_result"
    }
   ],
   "source": [
    "tf.divide(a, 2*a)"
   ]
  },
  {
   "cell_type": "code",
   "execution_count": 84,
   "metadata": {},
   "outputs": [
    {
     "data": {
      "text/plain": [
       "<tf.Tensor: shape=(2, 5, 2), dtype=int32, numpy=\n",
       "array([[[0, 0],\n",
       "        [0, 0],\n",
       "        [0, 0],\n",
       "        [0, 0],\n",
       "        [0, 0]],\n",
       "\n",
       "       [[0, 0],\n",
       "        [0, 0],\n",
       "        [0, 0],\n",
       "        [0, 0],\n",
       "        [0, 0]]], dtype=int32)>"
      ]
     },
     "execution_count": 84,
     "metadata": {},
     "output_type": "execute_result"
    }
   ],
   "source": [
    "tf.zeros_like(a)"
   ]
  },
  {
   "cell_type": "code",
   "execution_count": 85,
   "metadata": {},
   "outputs": [
    {
     "data": {
      "text/plain": [
       "<tf.Tensor: shape=(2, 5), dtype=float32, numpy=\n",
       "array([[1., 1., 1., 1., 1.],\n",
       "       [1., 1., 1., 1., 1.]], dtype=float32)>"
      ]
     },
     "execution_count": 85,
     "metadata": {},
     "output_type": "execute_result"
    }
   ],
   "source": [
    "tf.ones((2, 5))"
   ]
  },
  {
   "cell_type": "code",
   "execution_count": 86,
   "metadata": {},
   "outputs": [
    {
     "data": {
      "text/plain": [
       "<tf.Tensor: shape=(2, 5, 2), dtype=int32, numpy=\n",
       "array([[[1, 1],\n",
       "        [1, 1],\n",
       "        [1, 1],\n",
       "        [1, 1],\n",
       "        [1, 1]],\n",
       "\n",
       "       [[1, 1],\n",
       "        [1, 1],\n",
       "        [1, 1],\n",
       "        [1, 1],\n",
       "        [1, 1]]], dtype=int32)>"
      ]
     },
     "execution_count": 86,
     "metadata": {},
     "output_type": "execute_result"
    }
   ],
   "source": [
    "tf.ones_like(a)"
   ]
  },
  {
   "cell_type": "code",
   "execution_count": 87,
   "metadata": {},
   "outputs": [
    {
     "data": {
      "text/plain": [
       "<tf.Tensor: shape=(5, 5), dtype=float32, numpy=\n",
       "array([[1., 0., 0., 0., 0.],\n",
       "       [0., 1., 0., 0., 0.],\n",
       "       [0., 0., 1., 0., 0.],\n",
       "       [0., 0., 0., 1., 0.],\n",
       "       [0., 0., 0., 0., 1.]], dtype=float32)>"
      ]
     },
     "execution_count": 87,
     "metadata": {},
     "output_type": "execute_result"
    }
   ],
   "source": [
    "tf.eye(5)"
   ]
  },
  {
   "cell_type": "code",
   "execution_count": 88,
   "metadata": {},
   "outputs": [
    {
     "data": {
      "text/plain": [
       "<tf.Tensor: shape=(2, 5), dtype=float32, numpy=\n",
       "array([[1., 0., 0., 0., 0.],\n",
       "       [0., 1., 0., 0., 0.]], dtype=float32)>"
      ]
     },
     "execution_count": 88,
     "metadata": {},
     "output_type": "execute_result"
    }
   ],
   "source": [
    "tf.eye(num_rows=2, num_columns=5)"
   ]
  },
  {
   "cell_type": "code",
   "execution_count": 89,
   "metadata": {},
   "outputs": [
    {
     "data": {
      "text/plain": [
       "(<tf.Tensor: shape=(3, 2), dtype=float32, numpy=\n",
       " array([[ 0.4412275 , -0.33087015],\n",
       "        [ 2.430771  , -0.25209212],\n",
       "        [ 0.10960984,  1.5824811 ]], dtype=float32)>,\n",
       " <tf.Tensor: shape=(3, 2), dtype=float32, numpy=\n",
       " array([[-0.3123285 ,  0.33928472],\n",
       "        [-0.15590854, -0.5017897 ],\n",
       "        [ 0.2355689 , -1.7636052 ]], dtype=float32)>,\n",
       " <tf.Tensor: shape=(3, 2), dtype=float32, numpy=\n",
       " array([[ 0.4412275 ,  0.33928472],\n",
       "        [ 2.430771  , -0.25209212],\n",
       "        [ 0.2355689 ,  1.5824811 ]], dtype=float32)>)"
      ]
     },
     "execution_count": 89,
     "metadata": {},
     "output_type": "execute_result"
    }
   ],
   "source": [
    "a = get_random_tensor((3, 2), seed=5)\n",
    "b = get_random_tensor((3, 2), seed=15)\n",
    "a, b, tf.maximum(a, b)"
   ]
  },
  {
   "cell_type": "code",
   "execution_count": 90,
   "metadata": {},
   "outputs": [
    {
     "data": {
      "text/plain": [
       "(<tf.Tensor: shape=(3, 2), dtype=float32, numpy=\n",
       " array([[ 0.4412275 , -0.33087015],\n",
       "        [ 2.430771  , -0.25209212],\n",
       "        [ 0.10960984,  1.5824811 ]], dtype=float32)>,\n",
       " <tf.Tensor: shape=(2,), dtype=float32, numpy=array([-0.3123285 ,  0.33928472], dtype=float32)>,\n",
       " <tf.Tensor: shape=(3, 2), dtype=float32, numpy=\n",
       " array([[0.4412275 , 0.33928472],\n",
       "        [2.430771  , 0.33928472],\n",
       "        [0.10960984, 1.5824811 ]], dtype=float32)>,\n",
       " <tf.Tensor: shape=(3, 2), dtype=float32, numpy=\n",
       " array([[-0.3123285 , -0.33087015],\n",
       "        [-0.3123285 , -0.25209212],\n",
       "        [-0.3123285 ,  0.33928472]], dtype=float32)>)"
      ]
     },
     "execution_count": 90,
     "metadata": {},
     "output_type": "execute_result"
    }
   ],
   "source": [
    "a = get_random_tensor((3, 2), seed=5)\n",
    "b = get_random_tensor(2, seed=15)\n",
    "a, b, tf.maximum(a, b), tf.minimum(a, b)"
   ]
  },
  {
   "cell_type": "code",
   "execution_count": 91,
   "metadata": {},
   "outputs": [
    {
     "data": {
      "text/plain": [
       "(<tf.Tensor: shape=(3, 2), dtype=float32, numpy=\n",
       " array([[ 0.4412275 , -0.33087015],\n",
       "        [ 2.430771  , -0.25209212],\n",
       "        [ 0.10960984,  1.5824811 ]], dtype=float32)>,\n",
       " <tf.Tensor: shape=(), dtype=float32, numpy=-0.33087015>,\n",
       " <tf.Tensor: shape=(2,), dtype=float32, numpy=array([ 0.10960984, -0.33087015], dtype=float32)>,\n",
       " <tf.Tensor: shape=(2,), dtype=float32, numpy=array([2.430771 , 1.5824811], dtype=float32)>,\n",
       " <tf.Tensor: shape=(3,), dtype=float32, numpy=array([0.11035734, 2.178679  , 1.692091  ], dtype=float32)>)"
      ]
     },
     "execution_count": 91,
     "metadata": {},
     "output_type": "execute_result"
    }
   ],
   "source": [
    "a = get_random_tensor((3, 2), seed=5)\n",
    "a, tf.reduce_min(a), tf.reduce_min(a, 0), tf.reduce_max(a, 0), tf.reduce_sum(a, 1)"
   ]
  },
  {
   "cell_type": "code",
   "execution_count": 92,
   "metadata": {},
   "outputs": [
    {
     "data": {
      "text/plain": [
       "<tf.Tensor: shape=(11,), dtype=float64, numpy=array([0. , 0.1, 0.2, 0.3, 0.4, 0.5, 0.6, 0.7, 0.8, 0.9, 1. ])>"
      ]
     },
     "execution_count": 92,
     "metadata": {},
     "output_type": "execute_result"
    }
   ],
   "source": [
    "tf.linspace(0, 1, 11)"
   ]
  },
  {
   "cell_type": "code",
   "execution_count": 93,
   "metadata": {},
   "outputs": [
    {
     "data": {
      "text/plain": [
       "<tf.Tensor: shape=(10,), dtype=int32, numpy=array([0, 1, 2, 3, 4, 5, 6, 7, 8, 9], dtype=int32)>"
      ]
     },
     "execution_count": 93,
     "metadata": {},
     "output_type": "execute_result"
    }
   ],
   "source": [
    "tf.range(0, 10, 1)"
   ]
  },
  {
   "cell_type": "code",
   "execution_count": 94,
   "metadata": {},
   "outputs": [
    {
     "data": {
      "text/plain": [
       "<tf.Tensor: shape=(5,), dtype=int32, numpy=array([0, 2, 4, 6, 8], dtype=int32)>"
      ]
     },
     "execution_count": 94,
     "metadata": {},
     "output_type": "execute_result"
    }
   ],
   "source": [
    "tf.range(0, 10, 2)"
   ]
  },
  {
   "cell_type": "code",
   "execution_count": 95,
   "metadata": {},
   "outputs": [
    {
     "data": {
      "text/plain": [
       "(<tf.Tensor: shape=(3, 2), dtype=float32, numpy=\n",
       " array([[ 0.4412275 , -0.33087015],\n",
       "        [ 2.430771  , -0.25209212],\n",
       "        [ 0.10960984,  1.5824811 ]], dtype=float32)>,\n",
       " <tf.Tensor: shape=(), dtype=float32, numpy=2.9652345>,\n",
       " <tf.Tensor: shape=(), dtype=float32, numpy=2.9652345>,\n",
       " <tf.Tensor: shape=(), dtype=float32, numpy=2.9652345>)"
      ]
     },
     "execution_count": 95,
     "metadata": {},
     "output_type": "execute_result"
    }
   ],
   "source": [
    "a, tf.linalg.norm(a, ord=2), tf.sqrt(tf.reduce_sum(tf.square(a))), tf.norm(a, \"euclidean\")"
   ]
  },
  {
   "cell_type": "code",
   "execution_count": 96,
   "metadata": {},
   "outputs": [
    {
     "data": {
      "text/plain": [
       "(<tf.Tensor: shape=(3, 2), dtype=float32, numpy=\n",
       " array([[ 0.4412275 , -0.33087015],\n",
       "        [ 2.430771  , -0.25209212],\n",
       "        [ 0.10960984,  1.5824811 ]], dtype=float32)>,\n",
       " <tf.Tensor: shape=(3,), dtype=float32, numpy=array([0.5515041, 2.443808 , 1.5862726], dtype=float32)>,\n",
       " <tf.Tensor: shape=(3,), dtype=float32, numpy=array([0.5515041, 2.443808 , 1.5862726], dtype=float32)>)"
      ]
     },
     "execution_count": 96,
     "metadata": {},
     "output_type": "execute_result"
    }
   ],
   "source": [
    "a, tf.norm(a, axis=1), tf.sqrt(tf.reduce_sum(tf.square(a), 1))"
   ]
  },
  {
   "cell_type": "code",
   "execution_count": 97,
   "metadata": {},
   "outputs": [
    {
     "data": {
      "text/plain": [
       "(<tf.Tensor: shape=(3, 2), dtype=float32, numpy=\n",
       " array([[ 0.4412275 , -0.33087015],\n",
       "        [ 2.430771  , -0.25209212],\n",
       "        [ 0.10960984,  1.5824811 ]], dtype=float32)>,\n",
       " <tf.Tensor: shape=(3, 2), dtype=float32, numpy=\n",
       " array([[0.2       , 0.        ],\n",
       "        [0.2       , 0.        ],\n",
       "        [0.10960984, 0.2       ]], dtype=float32)>)"
      ]
     },
     "execution_count": 97,
     "metadata": {},
     "output_type": "execute_result"
    }
   ],
   "source": [
    "a, tf.clip_by_value(a, 0., 0.2)"
   ]
  },
  {
   "cell_type": "code",
   "execution_count": 98,
   "metadata": {},
   "outputs": [
    {
     "data": {
      "text/plain": [
       "(<tf.Tensor: shape=(3, 2), dtype=float32, numpy=\n",
       " array([[ 0.4412275 , -0.33087015],\n",
       "        [ 2.430771  , -0.25209212],\n",
       "        [ 0.10960984,  1.5824811 ]], dtype=float32)>,\n",
       " <tf.Tensor: shape=(3,), dtype=float32, numpy=array([0.5515041, 2.443808 , 1.5862726], dtype=float32)>,\n",
       " <tf.Tensor: shape=(3, 2), dtype=float32, numpy=\n",
       " array([[ 0.40002197, -0.29997072],\n",
       "        [ 0.49733266, -0.05157772],\n",
       "        [ 0.0345495 ,  0.49880493]], dtype=float32)>,\n",
       " <tf.Tensor: shape=(3, 2), dtype=float32, numpy=\n",
       " array([[ 0.40002197, -0.29997072],\n",
       "        [ 0.49733266, -0.05157772],\n",
       "        [ 0.0345495 ,  0.49880493]], dtype=float32)>)"
      ]
     },
     "execution_count": 98,
     "metadata": {},
     "output_type": "execute_result"
    }
   ],
   "source": [
    "# t * clip_norm / l2norm(t)\n",
    "a, tf.norm(a, axis=1), tf.clip_by_norm(a, 0.5, 1), tf.divide(a, tf.expand_dims(tf.norm(a, axis=1), 1)) * 0.5"
   ]
  },
  {
   "cell_type": "code",
   "execution_count": 99,
   "metadata": {},
   "outputs": [
    {
     "data": {
      "text/plain": [
       "(<tf.Tensor: shape=(), dtype=int32, numpy=6>,\n",
       " <tf.Tensor: shape=(), dtype=int32, numpy=2>,\n",
       " <tf.Tensor: shape=(2,), dtype=int32, numpy=array([3, 2], dtype=int32)>)"
      ]
     },
     "execution_count": 99,
     "metadata": {},
     "output_type": "execute_result"
    }
   ],
   "source": [
    "tf.size(a), tf.rank(a), tf.shape(a)"
   ]
  },
  {
   "cell_type": "code",
   "execution_count": 100,
   "metadata": {},
   "outputs": [],
   "source": [
    "tf.assert_equal(tf.size(a), 6)"
   ]
  },
  {
   "cell_type": "code",
   "execution_count": 101,
   "metadata": {},
   "outputs": [
    {
     "name": "stdout",
     "output_type": "stream",
     "text": [
      "Assertion error\n"
     ]
    }
   ],
   "source": [
    "try:\n",
    "    tf.assert_equal(tf.size(a), 3)\n",
    "except:\n",
    "    print(\"Assertion error\")\n",
    "    "
   ]
  },
  {
   "cell_type": "code",
   "execution_count": 102,
   "metadata": {},
   "outputs": [],
   "source": [
    "tf.assert_greater(tf.size(a), 3)"
   ]
  },
  {
   "cell_type": "code",
   "execution_count": 103,
   "metadata": {},
   "outputs": [
    {
     "data": {
      "text/plain": [
       "<tf.Tensor: shape=(), dtype=int32, numpy=2>"
      ]
     },
     "execution_count": 103,
     "metadata": {},
     "output_type": "execute_result"
    }
   ],
   "source": [
    "tf.constant(2,)"
   ]
  },
  {
   "cell_type": "code",
   "execution_count": 104,
   "metadata": {},
   "outputs": [
    {
     "data": {
      "text/plain": [
       "<tf.Tensor: shape=(), dtype=float32, numpy=2.0>"
      ]
     },
     "execution_count": 104,
     "metadata": {},
     "output_type": "execute_result"
    }
   ],
   "source": [
    "tf.constant(2, dtype=\"float\")"
   ]
  },
  {
   "cell_type": "code",
   "execution_count": 105,
   "metadata": {},
   "outputs": [
    {
     "data": {
      "text/plain": [
       "<tf.Tensor: shape=(2, 4), dtype=float32, numpy=\n",
       "array([[2., 2., 2., 2.],\n",
       "       [2., 2., 2., 2.]], dtype=float32)>"
      ]
     },
     "execution_count": 105,
     "metadata": {},
     "output_type": "execute_result"
    }
   ],
   "source": [
    "tf.constant(2, dtype=\"float\", shape=(2, 4))"
   ]
  },
  {
   "cell_type": "code",
   "execution_count": 106,
   "metadata": {},
   "outputs": [
    {
     "data": {
      "text/plain": [
       "<tf.Tensor: shape=(4,), dtype=float32, numpy=array([2., 2., 2., 2.], dtype=float32)>"
      ]
     },
     "execution_count": 106,
     "metadata": {},
     "output_type": "execute_result"
    }
   ],
   "source": [
    "tf.fill(4, 2.0)"
   ]
  },
  {
   "cell_type": "code",
   "execution_count": 107,
   "metadata": {},
   "outputs": [
    {
     "data": {
      "text/plain": [
       "(<tf.Tensor: shape=(4, 5), dtype=float32, numpy=\n",
       " array([[2., 2., 2., 2., 2.],\n",
       "        [2., 2., 2., 2., 2.],\n",
       "        [2., 2., 2., 2., 2.],\n",
       "        [2., 2., 2., 2., 2.]], dtype=float32)>,\n",
       " <tf.Tensor: shape=(4, 5), dtype=float32, numpy=\n",
       " array([[2., 2., 2., 2., 2.],\n",
       "        [2., 2., 2., 2., 2.],\n",
       "        [2., 2., 2., 2., 2.],\n",
       "        [2., 2., 2., 2., 2.]], dtype=float32)>)"
      ]
     },
     "execution_count": 107,
     "metadata": {},
     "output_type": "execute_result"
    }
   ],
   "source": [
    "tf.fill((4, 5), 2.0), tf.constant(2., shape=(4, 5))"
   ]
  },
  {
   "cell_type": "code",
   "execution_count": 108,
   "metadata": {},
   "outputs": [
    {
     "data": {
      "text/plain": [
       "<tf.Tensor: shape=(2, 5), dtype=int32, numpy=\n",
       "array([[ 1,  2,  3,  4,  5],\n",
       "       [ 6,  7,  8,  9, 10]], dtype=int32)>"
      ]
     },
     "execution_count": 108,
     "metadata": {},
     "output_type": "execute_result"
    }
   ],
   "source": [
    "tf.constant(tf.range(1, 11), shape=(2, 5))"
   ]
  },
  {
   "cell_type": "code",
   "execution_count": 109,
   "metadata": {},
   "outputs": [
    {
     "data": {
      "text/plain": [
       "<tensorflow.python.ops.init_ops_v2.Constant at 0x7fd00c14dd50>"
      ]
     },
     "execution_count": 109,
     "metadata": {},
     "output_type": "execute_result"
    }
   ],
   "source": [
    "tf.constant_initializer(2.)"
   ]
  },
  {
   "cell_type": "code",
   "execution_count": 110,
   "metadata": {},
   "outputs": [
    {
     "data": {
      "text/plain": [
       "<tf.Tensor: shape=(3, 4), dtype=int32, numpy=\n",
       "array([[0, 0, 0, 0],\n",
       "       [0, 0, 0, 0],\n",
       "       [0, 0, 0, 0]], dtype=int32)>"
      ]
     },
     "execution_count": 110,
     "metadata": {},
     "output_type": "execute_result"
    }
   ],
   "source": [
    "tf.constant_initializer()((3, 4))"
   ]
  },
  {
   "cell_type": "code",
   "execution_count": 111,
   "metadata": {},
   "outputs": [
    {
     "data": {
      "text/plain": [
       "<tf.Tensor: shape=(3, 4), dtype=float32, numpy=\n",
       "array([[ 1.5110626 ,  0.42292207, -0.41969493, -1.0360373 ],\n",
       "       [-1.2368279 ,  0.47027302, -0.01397488,  1.1888583 ],\n",
       "       [ 0.60253334,  0.5997111 , -0.70571196, -0.43297547]],\n",
       "      dtype=float32)>"
      ]
     },
     "execution_count": 111,
     "metadata": {},
     "output_type": "execute_result"
    }
   ],
   "source": [
    "tf.random_normal_initializer(0, 1.)((3, 4))"
   ]
  },
  {
   "cell_type": "code",
   "execution_count": 112,
   "metadata": {},
   "outputs": [
    {
     "data": {
      "text/plain": [
       "<tf.Tensor: shape=(3, 4), dtype=float32, numpy=\n",
       "array([[ 1.0668802 ,  0.19454929, -0.53082895,  0.09190083],\n",
       "       [-0.17753708, -0.91930884, -2.0777557 ,  2.0391905 ],\n",
       "       [ 0.8028997 , -0.9309037 , -0.37243125, -0.32097384]],\n",
       "      dtype=float32)>"
      ]
     },
     "execution_count": 112,
     "metadata": {},
     "output_type": "execute_result"
    }
   ],
   "source": [
    "tf.random_normal_initializer(0, 1.)((3, 4))"
   ]
  },
  {
   "cell_type": "code",
   "execution_count": 113,
   "metadata": {},
   "outputs": [
    {
     "data": {
      "text/plain": [
       "(<tf.Tensor: shape=(3, 2), dtype=float32, numpy=\n",
       " array([[0., 1.],\n",
       "        [2., 3.],\n",
       "        [4., 5.]], dtype=float32)>,\n",
       " <tf.Tensor: shape=(2,), dtype=float32, numpy=array([0., 1.], dtype=float32)>,\n",
       " <tf.Tensor: shape=(3,), dtype=float32, numpy=array([1., 3., 5.], dtype=float32)>)"
      ]
     },
     "execution_count": 113,
     "metadata": {},
     "output_type": "execute_result"
    }
   ],
   "source": [
    "a = tf.range(3*2, dtype=\"float\")\n",
    "a = tf.reshape(a, (3, 2))\n",
    "b = tf.range(2, dtype=\"float\")\n",
    "b = tf.reshape(b, (2, ) )\n",
    "a, b, tf.einsum(\"ij, j -> i\", a, b)"
   ]
  },
  {
   "cell_type": "code",
   "execution_count": 114,
   "metadata": {},
   "outputs": [
    {
     "data": {
      "text/plain": [
       "(<tf.Tensor: shape=(3, 2), dtype=float32, numpy=\n",
       " array([[0., 1.],\n",
       "        [2., 3.],\n",
       "        [4., 5.]], dtype=float32)>,\n",
       " <tf.Tensor: shape=(2, 4), dtype=float32, numpy=\n",
       " array([[0., 1., 2., 3.],\n",
       "        [4., 5., 6., 7.]], dtype=float32)>,\n",
       " <tf.Tensor: shape=(3, 4), dtype=float32, numpy=\n",
       " array([[ 4.,  5.,  6.,  7.],\n",
       "        [12., 17., 22., 27.],\n",
       "        [20., 29., 38., 47.]], dtype=float32)>,\n",
       " <tf.Tensor: shape=(3, 4), dtype=float32, numpy=\n",
       " array([[ 4.,  5.,  6.,  7.],\n",
       "        [12., 17., 22., 27.],\n",
       "        [20., 29., 38., 47.]], dtype=float32)>)"
      ]
     },
     "execution_count": 114,
     "metadata": {},
     "output_type": "execute_result"
    }
   ],
   "source": [
    "a = tf.range(3*2, dtype=\"float\")\n",
    "a = tf.reshape(a, (3, 2))\n",
    "b = tf.range(2*4, dtype=\"float\")\n",
    "b = tf.reshape(b, (2, 4) )\n",
    "a, b, tf.einsum(\"ij, jk -> ik\", a, b), tf.matmul(a, b)"
   ]
  },
  {
   "cell_type": "code",
   "execution_count": 115,
   "metadata": {},
   "outputs": [
    {
     "data": {
      "text/plain": [
       "(TensorShape([3, 2, 5, 6]), TensorShape([6, 3]), TensorShape([3, 2, 5, 3]))"
      ]
     },
     "execution_count": 115,
     "metadata": {},
     "output_type": "execute_result"
    }
   ],
   "source": [
    "a = tf.range(3*2*5*6, dtype=\"float\")\n",
    "a = tf.reshape(a, (3, 2, 5, 6))\n",
    "b = tf.range(6*3, dtype=\"float\")\n",
    "b = tf.reshape(b, (6, 3) )\n",
    "a.shape, b.shape, tf.einsum(\"...ij, jk -> ...ik\", a, b).shape"
   ]
  },
  {
   "cell_type": "code",
   "execution_count": 116,
   "metadata": {},
   "outputs": [
    {
     "data": {
      "text/plain": [
       "(<tf.Tensor: shape=(4,), dtype=float32, numpy=array([0., 1., 2., 3.], dtype=float32)>,\n",
       " <tf.Tensor: shape=(), dtype=float32, numpy=14.0>)"
      ]
     },
     "execution_count": 116,
     "metadata": {},
     "output_type": "execute_result"
    }
   ],
   "source": [
    "a = tf.range(4, dtype=\"float\")\n",
    "a, tf.einsum(\"i, i -> \", a, a)"
   ]
  },
  {
   "cell_type": "code",
   "execution_count": 117,
   "metadata": {},
   "outputs": [
    {
     "data": {
      "text/plain": [
       "(<tf.Tensor: shape=(4,), dtype=float32, numpy=array([0., 1., 2., 3.], dtype=float32)>,\n",
       " <tf.Tensor: shape=(4,), dtype=float32, numpy=array([0., 2., 4., 6.], dtype=float32)>,\n",
       " <tf.Tensor: shape=(4, 4), dtype=float32, numpy=\n",
       " array([[ 0.,  0.,  0.,  0.],\n",
       "        [ 0.,  2.,  4.,  6.],\n",
       "        [ 0.,  4.,  8., 12.],\n",
       "        [ 0.,  6., 12., 18.]], dtype=float32)>)"
      ]
     },
     "execution_count": 117,
     "metadata": {},
     "output_type": "execute_result"
    }
   ],
   "source": [
    "a = tf.range(4, dtype=\"float\")\n",
    "a, 2*a, tf.einsum(\"i, j -> ij\", a, 2*a)"
   ]
  },
  {
   "cell_type": "code",
   "execution_count": 118,
   "metadata": {},
   "outputs": [
    {
     "data": {
      "text/plain": [
       "(TensorShape([3, 2, 5, 6]), TensorShape([6, 5, 2, 3]))"
      ]
     },
     "execution_count": 118,
     "metadata": {},
     "output_type": "execute_result"
    }
   ],
   "source": [
    "a = tf.range(3*2*5*6, dtype=\"float\")\n",
    "a = tf.reshape(a, (3, 2, 5, 6))\n",
    "a.shape, tf.einsum(\"ijkl -> lkji\", a).shape"
   ]
  },
  {
   "cell_type": "code",
   "execution_count": 119,
   "metadata": {},
   "outputs": [
    {
     "data": {
      "text/plain": [
       "(<tf.Tensor: shape=(3, 3), dtype=float32, numpy=\n",
       " array([[0., 1., 2.],\n",
       "        [3., 4., 5.],\n",
       "        [6., 7., 8.]], dtype=float32)>,\n",
       " <tf.Tensor: shape=(3,), dtype=float32, numpy=array([0., 4., 8.], dtype=float32)>)"
      ]
     },
     "execution_count": 119,
     "metadata": {},
     "output_type": "execute_result"
    }
   ],
   "source": [
    "a = tf.range(3*3, dtype=\"float\")\n",
    "a = tf.reshape(a, ( 3, 3))\n",
    "a, tf.einsum(\"ii -> i\", a)"
   ]
  },
  {
   "cell_type": "code",
   "execution_count": 120,
   "metadata": {},
   "outputs": [
    {
     "data": {
      "text/plain": [
       "(<tf.Tensor: shape=(3, 3), dtype=float32, numpy=\n",
       " array([[0., 1., 2.],\n",
       "        [3., 4., 5.],\n",
       "        [6., 7., 8.]], dtype=float32)>,\n",
       " <tf.Tensor: shape=(), dtype=float32, numpy=12.0>)"
      ]
     },
     "execution_count": 120,
     "metadata": {},
     "output_type": "execute_result"
    }
   ],
   "source": [
    "a = tf.range(3*3, dtype=\"float\")\n",
    "a = tf.reshape(a, ( 3, 3))\n",
    "a, tf.einsum(\"ii -> \", a)"
   ]
  },
  {
   "cell_type": "code",
   "execution_count": 121,
   "metadata": {},
   "outputs": [
    {
     "data": {
      "text/plain": [
       "<tf.Tensor: shape=(2, 4, 3), dtype=float32, numpy=\n",
       "array([[[ 0.,  1.,  2.],\n",
       "        [ 3.,  4.,  5.],\n",
       "        [ 6.,  7.,  8.],\n",
       "        [ 9., 10., 11.]],\n",
       "\n",
       "       [[12., 13., 14.],\n",
       "        [15., 16., 17.],\n",
       "        [18., 19., 20.],\n",
       "        [21., 22., 23.]]], dtype=float32)>"
      ]
     },
     "execution_count": 121,
     "metadata": {},
     "output_type": "execute_result"
    }
   ],
   "source": [
    "a = tf.range(2*4*3, dtype=\"float\")\n",
    "a = tf.reshape(a, (2, 4, 3))\n",
    "tf.ensure_shape(a, (2, 4, 3))"
   ]
  },
  {
   "cell_type": "code",
   "execution_count": 122,
   "metadata": {},
   "outputs": [
    {
     "data": {
      "text/plain": [
       "<tf.Tensor: shape=(2, 4, 3), dtype=float32, numpy=\n",
       "array([[[ 0.,  1.,  2.],\n",
       "        [ 3.,  4.,  5.],\n",
       "        [ 6.,  7.,  8.],\n",
       "        [ 9., 10., 11.]],\n",
       "\n",
       "       [[12., 13., 14.],\n",
       "        [15., 16., 17.],\n",
       "        [18., 19., 20.],\n",
       "        [21., 22., 23.]]], dtype=float32)>"
      ]
     },
     "execution_count": 122,
     "metadata": {},
     "output_type": "execute_result"
    }
   ],
   "source": [
    "a = tf.range(2*4*3, dtype=\"float\")\n",
    "a = tf.reshape(a, (2, 4, 3))\n",
    "tf.ensure_shape(a, (None, 4, 3))"
   ]
  },
  {
   "cell_type": "code",
   "execution_count": 123,
   "metadata": {},
   "outputs": [
    {
     "data": {
      "text/plain": [
       "<tf.Tensor: shape=(2, 4, 3), dtype=float32, numpy=\n",
       "array([[[ 0.,  1.,  2.],\n",
       "        [ 3.,  4.,  5.],\n",
       "        [ 6.,  7.,  8.],\n",
       "        [ 9., 10., 11.]],\n",
       "\n",
       "       [[12., 13., 14.],\n",
       "        [15., 16., 17.],\n",
       "        [18., 19., 20.],\n",
       "        [21., 22., 23.]]], dtype=float32)>"
      ]
     },
     "execution_count": 123,
     "metadata": {},
     "output_type": "execute_result"
    }
   ],
   "source": [
    "a = tf.range(2*4*3, dtype=\"float\")\n",
    "a = tf.reshape(a, (2, 4, 3))\n",
    "tf.ensure_shape(a, (None, None, None))"
   ]
  },
  {
   "cell_type": "code",
   "execution_count": 124,
   "metadata": {},
   "outputs": [
    {
     "data": {
      "text/plain": [
       "<tf.Tensor: shape=(2, 4, 3), dtype=float32, numpy=\n",
       "array([[[ 0.,  1.,  2.],\n",
       "        [ 3.,  4.,  5.],\n",
       "        [ 6.,  7.,  8.],\n",
       "        [ 9., 10., 11.]],\n",
       "\n",
       "       [[12., 13., 14.],\n",
       "        [15., 16., 17.],\n",
       "        [18., 19., 20.],\n",
       "        [21., 22., 23.]]], dtype=float32)>"
      ]
     },
     "execution_count": 124,
     "metadata": {},
     "output_type": "execute_result"
    }
   ],
   "source": [
    "a = tf.range(2*4*3, dtype=\"float\")\n",
    "a = tf.reshape(a, (2, 4, 3))\n",
    "tf.ensure_shape(a, (None, 4, None))"
   ]
  },
  {
   "cell_type": "code",
   "execution_count": 125,
   "metadata": {},
   "outputs": [
    {
     "name": "stdout",
     "output_type": "stream",
     "text": [
      "Error shape\n"
     ]
    }
   ],
   "source": [
    "a = tf.range(2*4*3, dtype=\"float\")\n",
    "a = tf.reshape(a, (2, 4, 3))\n",
    "try:\n",
    "    tf.ensure_shape(a, (None, 5, None))\n",
    "except:\n",
    "    print(\"Error shape\")"
   ]
  },
  {
   "cell_type": "code",
   "execution_count": 126,
   "metadata": {},
   "outputs": [
    {
     "data": {
      "text/plain": [
       "(array([0, 1, 1, 0, 1, 0, 1]),\n",
       " <tf.Tensor: shape=(7,), dtype=int64, numpy=array([37, 60, 94, 28, 84, 36, 35])>,\n",
       " [<tf.Tensor: shape=(3,), dtype=int64, numpy=array([37, 28, 36])>])"
      ]
     },
     "execution_count": 126,
     "metadata": {},
     "output_type": "execute_result"
    }
   ],
   "source": [
    "np.random.seed(51)\n",
    "partitions = np.random.binomial(1, 0.55, (7,))\n",
    "t = tf.convert_to_tensor(np.random.randint(0, 100, (7,)))\n",
    "partitions, t, tf.dynamic_partition(t, partitions, 1)"
   ]
  },
  {
   "cell_type": "code",
   "execution_count": 127,
   "metadata": {},
   "outputs": [
    {
     "data": {
      "text/plain": [
       "(array([0, 1, 1, 0, 1, 0, 1]),\n",
       " <tf.Tensor: shape=(7,), dtype=int64, numpy=array([37, 60, 94, 28, 84, 36, 35])>,\n",
       " [<tf.Tensor: shape=(3,), dtype=int64, numpy=array([37, 28, 36])>,\n",
       "  <tf.Tensor: shape=(4,), dtype=int64, numpy=array([60, 94, 84, 35])>,\n",
       "  <tf.Tensor: shape=(0,), dtype=int64, numpy=array([], dtype=int64)>])"
      ]
     },
     "execution_count": 127,
     "metadata": {},
     "output_type": "execute_result"
    }
   ],
   "source": [
    "np.random.seed(51)\n",
    "partitions = np.random.binomial(1, 0.55, (7,))\n",
    "t = tf.convert_to_tensor(np.random.randint(0, 100, (7,)))\n",
    "partitions, t, tf.dynamic_partition(t, partitions, 3)"
   ]
  },
  {
   "cell_type": "code",
   "execution_count": 128,
   "metadata": {},
   "outputs": [
    {
     "data": {
      "text/plain": [
       "(array([1, 2, 1, 1, 2, 0, 2]),\n",
       " <tf.Tensor: shape=(7,), dtype=int64, numpy=array([37, 60, 94, 28, 84, 36, 35])>,\n",
       " [<tf.Tensor: shape=(1,), dtype=int64, numpy=array([36])>,\n",
       "  <tf.Tensor: shape=(3,), dtype=int64, numpy=array([37, 94, 28])>,\n",
       "  <tf.Tensor: shape=(3,), dtype=int64, numpy=array([60, 84, 35])>])"
      ]
     },
     "execution_count": 128,
     "metadata": {},
     "output_type": "execute_result"
    }
   ],
   "source": [
    "np.random.seed(51)\n",
    "partitions = np.random.binomial(2, 0.55, (7,))\n",
    "t = tf.convert_to_tensor(np.random.randint(0, 100, (7,)))\n",
    "partitions, t, tf.dynamic_partition(t, partitions, 3)"
   ]
  },
  {
   "cell_type": "code",
   "execution_count": 129,
   "metadata": {},
   "outputs": [
    {
     "data": {
      "text/plain": [
       "(array([1, 2, 1, 1]),\n",
       " <tf.Tensor: shape=(4, 5), dtype=int64, numpy=\n",
       " array([[94, 52, 37, 37, 60],\n",
       "        [94, 28, 84, 36, 35],\n",
       "        [27, 28, 42, 10,  6],\n",
       "        [25, 33, 77, 39, 48]])>,\n",
       " [<tf.Tensor: shape=(0, 5), dtype=int64, numpy=array([], shape=(0, 5), dtype=int64)>,\n",
       "  <tf.Tensor: shape=(3, 5), dtype=int64, numpy=\n",
       "  array([[94, 52, 37, 37, 60],\n",
       "         [27, 28, 42, 10,  6],\n",
       "         [25, 33, 77, 39, 48]])>,\n",
       "  <tf.Tensor: shape=(1, 5), dtype=int64, numpy=array([[94, 28, 84, 36, 35]])>])"
      ]
     },
     "execution_count": 129,
     "metadata": {},
     "output_type": "execute_result"
    }
   ],
   "source": [
    "np.random.seed(51)\n",
    "partitions = np.random.binomial(2, 0.55, (4,))\n",
    "t = tf.convert_to_tensor(np.random.randint(0, 100, (4, 5)))\n",
    "partitions, t, tf.dynamic_partition(t, partitions, 3)"
   ]
  },
  {
   "cell_type": "code",
   "execution_count": 130,
   "metadata": {},
   "outputs": [
    {
     "data": {
      "text/plain": [
       "(array([1, 2, 1, 1]),\n",
       " <tf.Tensor: shape=(4, 5), dtype=int64, numpy=\n",
       " array([[94, 52, 37, 37, 60],\n",
       "        [94, 28, 84, 36, 35],\n",
       "        [27, 28, 42, 10,  6],\n",
       "        [25, 33, 77, 39, 48]])>,\n",
       " [<tf.Tensor: shape=(0, 5), dtype=int64, numpy=array([], shape=(0, 5), dtype=int64)>,\n",
       "  <tf.Tensor: shape=(3, 5), dtype=int64, numpy=\n",
       "  array([[94, 52, 37, 37, 60],\n",
       "         [27, 28, 42, 10,  6],\n",
       "         [25, 33, 77, 39, 48]])>])"
      ]
     },
     "execution_count": 130,
     "metadata": {},
     "output_type": "execute_result"
    }
   ],
   "source": [
    "np.random.seed(51)\n",
    "partitions = np.random.binomial(2, 0.55, (4,))\n",
    "t = tf.convert_to_tensor(np.random.randint(0, 100, (4, 5)))\n",
    "partitions, t, tf.dynamic_partition(t, partitions, 2)"
   ]
  },
  {
   "cell_type": "code",
   "execution_count": 131,
   "metadata": {},
   "outputs": [
    {
     "data": {
      "text/plain": [
       "(array([2, 3, 4, 2, 2, 2, 2, 2, 3, 0, 2, 3, 0, 3, 1, 2, 2, 2, 2, 3]),\n",
       " <tf.Tensor: shape=(20,), dtype=int64, numpy=\n",
       " array([32, 70, 83, 51, 25, 74, 28, 11, 90, 71, 69, 96, 84, 66, 61, 16, 66,\n",
       "        69, 36, 29])>,\n",
       " [<tf.Tensor: shape=(2,), dtype=int64, numpy=array([71, 84])>,\n",
       "  <tf.Tensor: shape=(1,), dtype=int64, numpy=array([61])>,\n",
       "  <tf.Tensor: shape=(11,), dtype=int64, numpy=array([32, 51, 25, 74, 28, 11, 69, 16, 66, 69, 36])>,\n",
       "  <tf.Tensor: shape=(5,), dtype=int64, numpy=array([70, 90, 96, 66, 29])>,\n",
       "  <tf.Tensor: shape=(1,), dtype=int64, numpy=array([83])>])"
      ]
     },
     "execution_count": 131,
     "metadata": {},
     "output_type": "execute_result"
    }
   ],
   "source": [
    "np.random.seed(541)\n",
    "partitions = np.random.binomial(4, 0.5, (20,))\n",
    "t = tf.convert_to_tensor(np.random.randint(0, 100, (20,)))\n",
    "partitions, t, tf.dynamic_partition(t, partitions, 5)"
   ]
  },
  {
   "cell_type": "code",
   "execution_count": 132,
   "metadata": {},
   "outputs": [
    {
     "data": {
      "text/plain": [
       "[[9, 12],\n",
       " [14],\n",
       " [0, 3, 4, 5, 6, 7, 10, 15, 16, 17, 18],\n",
       " [1, 8, 11, 13, 19],\n",
       " [2]]"
      ]
     },
     "execution_count": 132,
     "metadata": {},
     "output_type": "execute_result"
    }
   ],
   "source": [
    "indices = [[] for i in range(5)]\n",
    "for j, i in enumerate(partitions):\n",
    "    indices[i].append(j)\n",
    "    \n",
    "indices "
   ]
  },
  {
   "cell_type": "code",
   "execution_count": 133,
   "metadata": {},
   "outputs": [
    {
     "data": {
      "text/plain": [
       "(<tf.Tensor: shape=(20,), dtype=int64, numpy=\n",
       " array([32, 70, 83, 51, 25, 74, 28, 11, 90, 71, 69, 96, 84, 66, 61, 16, 66,\n",
       "        69, 36, 29])>,\n",
       " <tf.Tensor: shape=(20,), dtype=int64, numpy=\n",
       " array([32, 70, 83, 51, 25, 74, 28, 11, 90, 71, 69, 96, 84, 66, 61, 16, 66,\n",
       "        69, 36, 29])>)"
      ]
     },
     "execution_count": 133,
     "metadata": {},
     "output_type": "execute_result"
    }
   ],
   "source": [
    "t, tf.dynamic_stitch(indices=indices, data=tf.dynamic_partition(t, partitions, 5))"
   ]
  },
  {
   "cell_type": "code",
   "execution_count": 134,
   "metadata": {},
   "outputs": [
    {
     "data": {
      "text/plain": [
       "(<tf.Tensor: shape=(4,), dtype=float32, numpy=array([0., 1., 2., 3.], dtype=float32)>,\n",
       " <tf.Tensor: shape=(), dtype=float32, numpy=6.0>)"
      ]
     },
     "execution_count": 134,
     "metadata": {},
     "output_type": "execute_result"
    }
   ],
   "source": [
    "a = tf.range(4, dtype=\"float\")\n",
    "a, tf.foldl(lambda u, v: u + v, a)"
   ]
  },
  {
   "cell_type": "code",
   "execution_count": 135,
   "metadata": {},
   "outputs": [
    {
     "data": {
      "text/plain": [
       "(<tf.Tensor: shape=(5,), dtype=int64, numpy=array([ 8, 24, 67, 87, 79])>,\n",
       " <tf.Tensor: shape=(), dtype=int64, numpy=87>)"
      ]
     },
     "execution_count": 135,
     "metadata": {},
     "output_type": "execute_result"
    }
   ],
   "source": [
    "np.random.seed(100)\n",
    "a = tf.constant(np.random.randint(0, 100, (5)))\n",
    "a, tf.foldl(lambda u, v: tf.maximum(u, v), a)"
   ]
  },
  {
   "cell_type": "code",
   "execution_count": 136,
   "metadata": {},
   "outputs": [
    {
     "data": {
      "text/plain": [
       "(<tf.Tensor: shape=(5, 10), dtype=int64, numpy=\n",
       " array([[ 8, 24, 67, 87, 79, 48, 10, 94, 52, 98],\n",
       "        [53, 66, 98, 14, 34, 24, 15, 60, 58, 16],\n",
       "        [ 9, 93, 86,  2, 27,  4, 31,  1, 13, 83],\n",
       "        [ 4, 91, 59, 67,  7, 49, 47, 65, 61, 14],\n",
       "        [55, 71, 80,  2, 94, 19, 98, 63, 53, 27]])>,\n",
       " <tf.Tensor: shape=(10,), dtype=int64, numpy=array([55, 93, 98, 87, 94, 49, 98, 94, 61, 98])>)"
      ]
     },
     "execution_count": 136,
     "metadata": {},
     "output_type": "execute_result"
    }
   ],
   "source": [
    "np.random.seed(100)\n",
    "a = tf.constant(np.random.randint(0, 100, (5, 10)))\n",
    "a, tf.foldl(lambda u, v: tf.maximum(u, v), a)"
   ]
  },
  {
   "cell_type": "code",
   "execution_count": 137,
   "metadata": {},
   "outputs": [
    {
     "data": {
      "text/plain": [
       "(<tf.Tensor: shape=(5, 10), dtype=int64, numpy=\n",
       " array([[ 8, 24, 67, 87, 79, 48, 10, 94, 52, 98],\n",
       "        [53, 66, 98, 14, 34, 24, 15, 60, 58, 16],\n",
       "        [ 9, 93, 86,  2, 27,  4, 31,  1, 13, 83],\n",
       "        [ 4, 91, 59, 67,  7, 49, 47, 65, 61, 14],\n",
       "        [55, 71, 80,  2, 94, 19, 98, 63, 53, 27]])>,\n",
       " <tf.Tensor: shape=(10,), dtype=int64, numpy=array([55, 93, 98, 87, 94, 49, 98, 94, 61, 98])>)"
      ]
     },
     "execution_count": 137,
     "metadata": {},
     "output_type": "execute_result"
    }
   ],
   "source": [
    "np.random.seed(100)\n",
    "a = tf.constant(np.random.randint(0, 100, (5, 10)))\n",
    "a, tf.foldr(lambda u, v: tf.maximum(u, v), a)"
   ]
  },
  {
   "cell_type": "code",
   "execution_count": 138,
   "metadata": {},
   "outputs": [
    {
     "data": {
      "text/plain": [
       "(<tf.Tensor: shape=(5, 4), dtype=float32, numpy=\n",
       " array([[ 1.3315865 ,  0.715279  , -1.5454003 , -0.00838385],\n",
       "        [ 0.621336  , -0.72008556,  0.26551157,  0.10854852],\n",
       "        [ 0.00429143, -0.17460021,  0.4330262 ,  1.2030374 ],\n",
       "        [-0.96506566,  1.028274  ,  0.22863013,  0.44513762],\n",
       "        [-1.1366022 ,  0.13513687,  1.484537  , -1.0798049 ]],\n",
       "       dtype=float32)>,\n",
       " [0, 1, 2],\n",
       " <tf.Tensor: shape=(3, 4), dtype=float32, numpy=\n",
       " array([[ 1.3315865 ,  0.715279  , -1.5454003 , -0.00838385],\n",
       "        [ 0.621336  , -0.72008556,  0.26551157,  0.10854852],\n",
       "        [ 0.00429143, -0.17460021,  0.4330262 ,  1.2030374 ]],\n",
       "       dtype=float32)>)"
      ]
     },
     "execution_count": 138,
     "metadata": {},
     "output_type": "execute_result"
    }
   ],
   "source": [
    "x = get_random_tensor((5, 4), seed=10)\n",
    "indices =[0, 1, 2]\n",
    "x, indices, tf.gather(x, indices=indices, axis=0)"
   ]
  },
  {
   "cell_type": "code",
   "execution_count": 139,
   "metadata": {},
   "outputs": [
    {
     "data": {
      "text/plain": [
       "(<tf.Tensor: shape=(5, 4), dtype=float32, numpy=\n",
       " array([[ 1.3315865 ,  0.715279  , -1.5454003 , -0.00838385],\n",
       "        [ 0.621336  , -0.72008556,  0.26551157,  0.10854852],\n",
       "        [ 0.00429143, -0.17460021,  0.4330262 ,  1.2030374 ],\n",
       "        [-0.96506566,  1.028274  ,  0.22863013,  0.44513762],\n",
       "        [-1.1366022 ,  0.13513687,  1.484537  , -1.0798049 ]],\n",
       "       dtype=float32)>,\n",
       " <tf.Tensor: shape=(5,), dtype=int32, numpy=array([0, 1, 3, 4, 5], dtype=int32)>,\n",
       " <tf.Tensor: shape=(5, 5), dtype=float32, numpy=\n",
       " array([[ 1.3315865 ,  0.715279  , -0.00838385,  0.        ,  0.        ],\n",
       "        [ 0.621336  , -0.72008556,  0.10854852,  0.        ,  0.        ],\n",
       "        [ 0.00429143, -0.17460021,  1.2030374 ,  0.        ,  0.        ],\n",
       "        [-0.96506566,  1.028274  ,  0.44513762,  0.        ,  0.        ],\n",
       "        [-1.1366022 ,  0.13513687, -1.0798049 ,  0.        ,  0.        ]],\n",
       "       dtype=float32)>)"
      ]
     },
     "execution_count": 139,
     "metadata": {},
     "output_type": "execute_result"
    }
   ],
   "source": [
    "x = get_random_tensor((5, 4), seed=10)\n",
    "indices = tf.constant( [0, 1, 3, 4, 5])\n",
    "x, indices, tf.gather(x, indices=indices, axis=1)"
   ]
  },
  {
   "cell_type": "code",
   "execution_count": 140,
   "metadata": {},
   "outputs": [
    {
     "data": {
      "text/plain": [
       "(<tf.Tensor: shape=(5, 4), dtype=float32, numpy=\n",
       " array([[ 1.3315865 ,  0.715279  , -1.5454003 , -0.00838385],\n",
       "        [ 0.621336  , -0.72008556,  0.26551157,  0.10854852],\n",
       "        [ 0.00429143, -0.17460021,  0.4330262 ,  1.2030374 ],\n",
       "        [-0.96506566,  1.028274  ,  0.22863013,  0.44513762],\n",
       "        [-1.1366022 ,  0.13513687,  1.484537  , -1.0798049 ]],\n",
       "       dtype=float32)>,\n",
       " <tf.Tensor: shape=(1, 2), dtype=int32, numpy=array([[0, 1]], dtype=int32)>,\n",
       " <tf.Tensor: shape=(1, 2, 4), dtype=float32, numpy=\n",
       " array([[[ 1.3315865 ,  0.715279  , -1.5454003 , -0.00838385],\n",
       "         [ 0.621336  , -0.72008556,  0.26551157,  0.10854852]]],\n",
       "       dtype=float32)>)"
      ]
     },
     "execution_count": 140,
     "metadata": {},
     "output_type": "execute_result"
    }
   ],
   "source": [
    "x = get_random_tensor((5, 4), seed=10)\n",
    "indices = tf.constant([[0, 1]])\n",
    "x, indices, tf.gather(x, indices=indices, axis=0)"
   ]
  },
  {
   "cell_type": "code",
   "execution_count": 141,
   "metadata": {},
   "outputs": [
    {
     "data": {
      "text/plain": [
       "(<tf.Tensor: shape=(5, 4), dtype=float32, numpy=\n",
       " array([[ 1.3315865 ,  0.715279  , -1.5454003 , -0.00838385],\n",
       "        [ 0.621336  , -0.72008556,  0.26551157,  0.10854852],\n",
       "        [ 0.00429143, -0.17460021,  0.4330262 ,  1.2030374 ],\n",
       "        [-0.96506566,  1.028274  ,  0.22863013,  0.44513762],\n",
       "        [-1.1366022 ,  0.13513687,  1.484537  , -1.0798049 ]],\n",
       "       dtype=float32)>,\n",
       " <tf.Tensor: shape=(1, 2), dtype=int32, numpy=array([[0, 1]], dtype=int32)>,\n",
       " <tf.Tensor: shape=(5, 1, 2), dtype=float32, numpy=\n",
       " array([[[ 1.3315865 ,  0.715279  ]],\n",
       " \n",
       "        [[ 0.621336  , -0.72008556]],\n",
       " \n",
       "        [[ 0.00429143, -0.17460021]],\n",
       " \n",
       "        [[-0.96506566,  1.028274  ]],\n",
       " \n",
       "        [[-1.1366022 ,  0.13513687]]], dtype=float32)>)"
      ]
     },
     "execution_count": 141,
     "metadata": {},
     "output_type": "execute_result"
    }
   ],
   "source": [
    "x = get_random_tensor((5, 4), seed=10)\n",
    "indices = tf.constant([[0, 1]])\n",
    "x, indices, tf.gather(x, indices=indices, axis=1)"
   ]
  },
  {
   "cell_type": "code",
   "execution_count": 142,
   "metadata": {},
   "outputs": [
    {
     "data": {
      "text/plain": [
       "(<tf.Tensor: shape=(4, 3), dtype=int32, numpy=\n",
       " array([[ 0,  1,  2],\n",
       "        [ 3,  4,  5],\n",
       "        [ 6,  7,  8],\n",
       "        [ 9, 10, 11]], dtype=int32)>,\n",
       " <tf.Tensor: shape=(2, 2), dtype=int32, numpy=\n",
       " array([[2, 1],\n",
       "        [0, 4]], dtype=int32)>,\n",
       " <tf.Tensor: shape=(4, 2, 2), dtype=int32, numpy=\n",
       " array([[[ 2,  1],\n",
       "         [ 0,  0]],\n",
       " \n",
       "        [[ 5,  4],\n",
       "         [ 3,  0]],\n",
       " \n",
       "        [[ 8,  7],\n",
       "         [ 6,  0]],\n",
       " \n",
       "        [[11, 10],\n",
       "         [ 9,  0]]], dtype=int32)>)"
      ]
     },
     "execution_count": 142,
     "metadata": {},
     "output_type": "execute_result"
    }
   ],
   "source": [
    "x = tf.range(4*3)\n",
    "x = tf.reshape(x, (4, 3))\n",
    "indices = tf.constant([[2, 1],\n",
    "                       [0, 4]\n",
    "                       ])\n",
    "x, indices, tf.gather(x, indices=indices, axis=1)"
   ]
  },
  {
   "cell_type": "code",
   "execution_count": 143,
   "metadata": {},
   "outputs": [
    {
     "data": {
      "text/plain": [
       "(<tf.Tensor: shape=(4, 3), dtype=int32, numpy=\n",
       " array([[ 0,  1,  2],\n",
       "        [ 3,  4,  5],\n",
       "        [ 6,  7,  8],\n",
       "        [ 9, 10, 11]], dtype=int32)>,\n",
       " <tf.Tensor: shape=(2, 2), dtype=int32, numpy=\n",
       " array([[2, 1],\n",
       "        [0, 4]], dtype=int32)>,\n",
       " <tf.Tensor: shape=(2, 2, 3), dtype=int32, numpy=\n",
       " array([[[6, 7, 8],\n",
       "         [3, 4, 5]],\n",
       " \n",
       "        [[0, 1, 2],\n",
       "         [0, 0, 0]]], dtype=int32)>)"
      ]
     },
     "execution_count": 143,
     "metadata": {},
     "output_type": "execute_result"
    }
   ],
   "source": [
    "x = tf.range(4*3)\n",
    "x = tf.reshape(x, (4, 3))\n",
    "indices = tf.constant([[2, 1],\n",
    "                       [0, 4]\n",
    "                       ])\n",
    "x, indices, tf.gather(x, indices=indices, axis=0)"
   ]
  },
  {
   "cell_type": "code",
   "execution_count": 144,
   "metadata": {},
   "outputs": [
    {
     "data": {
      "text/plain": [
       "(<tf.Tensor: shape=(4, 3), dtype=int32, numpy=\n",
       " array([[ 0,  1,  2],\n",
       "        [ 3,  4,  5],\n",
       "        [ 6,  7,  8],\n",
       "        [ 9, 10, 11]], dtype=int32)>,\n",
       " <tf.Tensor: shape=(4, 2), dtype=int32, numpy=\n",
       " array([[2, 1],\n",
       "        [0, 2],\n",
       "        [2, 1],\n",
       "        [0, 2]], dtype=int32)>,\n",
       " <tf.Tensor: shape=(4, 4, 2), dtype=int32, numpy=\n",
       " array([[[ 2,  1],\n",
       "         [ 0,  2],\n",
       "         [ 2,  1],\n",
       "         [ 0,  2]],\n",
       " \n",
       "        [[ 5,  4],\n",
       "         [ 3,  5],\n",
       "         [ 5,  4],\n",
       "         [ 3,  5]],\n",
       " \n",
       "        [[ 8,  7],\n",
       "         [ 6,  8],\n",
       "         [ 8,  7],\n",
       "         [ 6,  8]],\n",
       " \n",
       "        [[11, 10],\n",
       "         [ 9, 11],\n",
       "         [11, 10],\n",
       "         [ 9, 11]]], dtype=int32)>)"
      ]
     },
     "execution_count": 144,
     "metadata": {},
     "output_type": "execute_result"
    }
   ],
   "source": [
    "x = tf.range(4*3)\n",
    "x = tf.reshape(x, (4, 3))\n",
    "indices = tf.constant([[2, 1],\n",
    "                       [0, 2],\n",
    "                       [2, 1], \n",
    "                       [0, 2]\n",
    "                       ])\n",
    "x, indices, tf.gather(x, indices=indices, axis=1, batch_dims=0)"
   ]
  },
  {
   "cell_type": "code",
   "execution_count": 145,
   "metadata": {},
   "outputs": [
    {
     "data": {
      "text/plain": [
       "(<tf.Tensor: shape=(4, 3), dtype=int32, numpy=\n",
       " array([[ 0,  1,  2],\n",
       "        [ 3,  4,  5],\n",
       "        [ 6,  7,  8],\n",
       "        [ 9, 10, 11]], dtype=int32)>,\n",
       " <tf.Tensor: shape=(4, 2), dtype=int32, numpy=\n",
       " array([[2, 1],\n",
       "        [0, 2],\n",
       "        [2, 1],\n",
       "        [0, 2]], dtype=int32)>,\n",
       " <tf.Tensor: shape=(4, 2), dtype=int32, numpy=\n",
       " array([[ 2,  1],\n",
       "        [ 3,  5],\n",
       "        [ 8,  7],\n",
       "        [ 9, 11]], dtype=int32)>)"
      ]
     },
     "execution_count": 145,
     "metadata": {},
     "output_type": "execute_result"
    }
   ],
   "source": [
    "x = tf.range(4*3)\n",
    "x = tf.reshape(x, (4, 3))\n",
    "indices = tf.constant([[2, 1],\n",
    "                       [0, 2],\n",
    "                       [2, 1], \n",
    "                       [0, 2]\n",
    "                       ])\n",
    "x, indices, tf.gather(x, indices=indices, axis=1, batch_dims=1)"
   ]
  },
  {
   "cell_type": "code",
   "execution_count": 146,
   "metadata": {},
   "outputs": [
    {
     "data": {
      "text/plain": [
       "(<tf.Tensor: shape=(4, 2, 3), dtype=int32, numpy=\n",
       " array([[[ 0,  1,  2],\n",
       "         [ 3,  4,  5]],\n",
       " \n",
       "        [[ 6,  7,  8],\n",
       "         [ 9, 10, 11]],\n",
       " \n",
       "        [[12, 13, 14],\n",
       "         [15, 16, 17]],\n",
       " \n",
       "        [[18, 19, 20],\n",
       "         [21, 22, 23]]], dtype=int32)>,\n",
       " <tf.Tensor: shape=(2,), dtype=int32, numpy=array([1, 2], dtype=int32)>,\n",
       " <tf.Tensor: shape=(4, 2, 2), dtype=int32, numpy=\n",
       " array([[[ 1,  2],\n",
       "         [ 4,  5]],\n",
       " \n",
       "        [[ 7,  8],\n",
       "         [10, 11]],\n",
       " \n",
       "        [[13, 14],\n",
       "         [16, 17]],\n",
       " \n",
       "        [[19, 20],\n",
       "         [22, 23]]], dtype=int32)>)"
      ]
     },
     "execution_count": 146,
     "metadata": {},
     "output_type": "execute_result"
    }
   ],
   "source": [
    "x = tf.range(4*2*3)\n",
    "x = tf.reshape(x, (4, 2, 3))\n",
    "indices = tf.constant([1, 2])\n",
    "x, indices, tf.gather(x, indices=indices, axis=-1)"
   ]
  },
  {
   "cell_type": "code",
   "execution_count": 147,
   "metadata": {},
   "outputs": [
    {
     "data": {
      "text/plain": [
       "(<tf.Tensor: shape=(4, 2, 3), dtype=int32, numpy=\n",
       " array([[[ 0,  1,  2],\n",
       "         [ 3,  4,  5]],\n",
       " \n",
       "        [[ 6,  7,  8],\n",
       "         [ 9, 10, 11]],\n",
       " \n",
       "        [[12, 13, 14],\n",
       "         [15, 16, 17]],\n",
       " \n",
       "        [[18, 19, 20],\n",
       "         [21, 22, 23]]], dtype=int32)>,\n",
       " <tf.Tensor: shape=(4,), dtype=int32, numpy=array([1, 0, 2, 3], dtype=int32)>,\n",
       " <tf.Tensor: shape=(4, 2), dtype=int32, numpy=\n",
       " array([[ 1,  4],\n",
       "        [ 6,  9],\n",
       "        [14, 17],\n",
       "        [ 0,  0]], dtype=int32)>)"
      ]
     },
     "execution_count": 147,
     "metadata": {},
     "output_type": "execute_result"
    }
   ],
   "source": [
    "x = tf.range(4*2*3)\n",
    "x = tf.reshape(x, (4, 2, 3))\n",
    "indices = tf.constant([1, 0,  2, 3])\n",
    "x, indices, tf.gather(x, indices=indices, axis=2, batch_dims=1)"
   ]
  },
  {
   "cell_type": "code",
   "execution_count": 148,
   "metadata": {},
   "outputs": [
    {
     "data": {
      "text/plain": [
       "(<tf.Tensor: shape=(4, 2, 3), dtype=int32, numpy=\n",
       " array([[[ 0,  1,  2],\n",
       "         [ 3,  4,  5]],\n",
       " \n",
       "        [[ 6,  7,  8],\n",
       "         [ 9, 10, 11]],\n",
       " \n",
       "        [[12, 13, 14],\n",
       "         [15, 16, 17]],\n",
       " \n",
       "        [[18, 19, 20],\n",
       "         [21, 22, 23]]], dtype=int32)>,\n",
       " <tf.Tensor: shape=(4,), dtype=int32, numpy=array([1, 0, 2, 3], dtype=int32)>,\n",
       " <tf.Tensor: shape=(4, 3), dtype=int32, numpy=\n",
       " array([[3, 4, 5],\n",
       "        [6, 7, 8],\n",
       "        [0, 0, 0],\n",
       "        [0, 0, 0]], dtype=int32)>)"
      ]
     },
     "execution_count": 148,
     "metadata": {},
     "output_type": "execute_result"
    }
   ],
   "source": [
    "x = tf.range(4*2*3)\n",
    "x = tf.reshape(x, (4, 2, 3))\n",
    "indices = tf.constant([1, 0,  2, 3])\n",
    "x, indices, tf.gather(x, indices=indices, axis=1, batch_dims=1)"
   ]
  },
  {
   "cell_type": "code",
   "execution_count": 149,
   "metadata": {},
   "outputs": [
    {
     "data": {
      "text/plain": [
       "(<tf.Tensor: shape=(4, 2, 3), dtype=int32, numpy=\n",
       " array([[[ 0,  1,  2],\n",
       "         [ 3,  4,  5]],\n",
       " \n",
       "        [[ 6,  7,  8],\n",
       "         [ 9, 10, 11]],\n",
       " \n",
       "        [[12, 13, 14],\n",
       "         [15, 16, 17]],\n",
       " \n",
       "        [[18, 19, 20],\n",
       "         [21, 22, 23]]], dtype=int32)>,\n",
       " <tf.Tensor: shape=(2, 2, 3), dtype=int32, numpy=\n",
       " array([[[12, 13, 14],\n",
       "         [15, 16, 17]],\n",
       " \n",
       "        [[18, 19, 20],\n",
       "         [21, 22, 23]]], dtype=int32)>)"
      ]
     },
     "execution_count": 149,
     "metadata": {},
     "output_type": "execute_result"
    }
   ],
   "source": [
    "x = tf.range(4*2*3)\n",
    "x = tf.reshape(x, (4, 2, 3))\n",
    "x, x[-2:]"
   ]
  },
  {
   "cell_type": "code",
   "execution_count": 150,
   "metadata": {},
   "outputs": [
    {
     "data": {
      "text/plain": [
       "(<tf.Tensor: shape=(4, 2, 3), dtype=int32, numpy=\n",
       " array([[[ 0,  1,  2],\n",
       "         [ 3,  4,  5]],\n",
       " \n",
       "        [[ 6,  7,  8],\n",
       "         [ 9, 10, 11]],\n",
       " \n",
       "        [[12, 13, 14],\n",
       "         [15, 16, 17]],\n",
       " \n",
       "        [[18, 19, 20],\n",
       "         [21, 22, 23]]], dtype=int32)>,\n",
       " <tf.Tensor: shape=(1, 1, 2), dtype=int32, numpy=array([[[4, 5]]], dtype=int32)>,\n",
       " <tf.Tensor: shape=(1, 1, 2), dtype=int32, numpy=array([[[4, 5]]], dtype=int32)>)"
      ]
     },
     "execution_count": 150,
     "metadata": {},
     "output_type": "execute_result"
    }
   ],
   "source": [
    "x = tf.range(4*2*3)\n",
    "x = tf.reshape(x, (4, 2, 3))\n",
    "x, x[0:1, 1:, 1:], tf.slice(x, [0, 1, 1], [1, 1, 2])"
   ]
  },
  {
   "cell_type": "code",
   "execution_count": 151,
   "metadata": {},
   "outputs": [
    {
     "data": {
      "text/plain": [
       "(<tf.Tensor: shape=(2, 3), dtype=int32, numpy=\n",
       " array([[0, 1, 2],\n",
       "        [3, 4, 5]], dtype=int32)>,\n",
       " <tf.Tensor: shape=(2,), dtype=int32, numpy=array([1, 0], dtype=int32)>,\n",
       " <tf.Tensor: shape=(2,), dtype=int32, numpy=array([1, 3], dtype=int32)>)"
      ]
     },
     "execution_count": 151,
     "metadata": {},
     "output_type": "execute_result"
    }
   ],
   "source": [
    "x = tf.range(2*3)\n",
    "x = tf.reshape(x, (2, 3))\n",
    "indices = tf.constant([1, 0, ])\n",
    "x, indices, tf.gather(x, indices=indices, axis=1, batch_dims=1)"
   ]
  },
  {
   "cell_type": "code",
   "execution_count": 152,
   "metadata": {},
   "outputs": [
    {
     "data": {
      "text/plain": [
       "(<tf.Tensor: shape=(2, 3), dtype=int32, numpy=\n",
       " array([[0, 1, 2],\n",
       "        [3, 4, 5]], dtype=int32)>,\n",
       " <tf.Tensor: shape=(2,), dtype=int32, numpy=array([1, 0], dtype=int32)>,\n",
       " <tf.Tensor: shape=(2, 2), dtype=int32, numpy=\n",
       " array([[1, 0],\n",
       "        [4, 3]], dtype=int32)>)"
      ]
     },
     "execution_count": 152,
     "metadata": {},
     "output_type": "execute_result"
    }
   ],
   "source": [
    "x = tf.range(2*3)\n",
    "x = tf.reshape(x, (2, 3))\n",
    "indices = tf.constant([1, 0, ])\n",
    "x, indices, tf.gather(x, indices=indices, axis=1)"
   ]
  },
  {
   "cell_type": "code",
   "execution_count": 153,
   "metadata": {},
   "outputs": [
    {
     "data": {
      "text/plain": [
       "(<tf.Tensor: shape=(2, 3), dtype=int32, numpy=\n",
       " array([[0, 1, 2],\n",
       "        [3, 4, 5]], dtype=int32)>,\n",
       " <tf.Tensor: shape=(2, 2), dtype=int32, numpy=\n",
       " array([[1, 0],\n",
       "        [0, 1]], dtype=int32)>,\n",
       " <tf.Tensor: shape=(2,), dtype=int32, numpy=array([3, 1], dtype=int32)>)"
      ]
     },
     "execution_count": 153,
     "metadata": {},
     "output_type": "execute_result"
    }
   ],
   "source": [
    "x = tf.range(2*3)\n",
    "x = tf.reshape(x, (2, 3))\n",
    "indices = tf.constant([[1, 0,], [0, 1] ])\n",
    "x, indices, tf.gather_nd(x, indices=indices, )"
   ]
  },
  {
   "cell_type": "code",
   "execution_count": 154,
   "metadata": {},
   "outputs": [
    {
     "data": {
      "text/plain": [
       "(<tf.Tensor: shape=(2, 3), dtype=int32, numpy=\n",
       " array([[0, 1, 2],\n",
       "        [3, 4, 5]], dtype=int32)>,\n",
       " <tf.Tensor: shape=(3, 2), dtype=int32, numpy=\n",
       " array([[1, 0],\n",
       "        [0, 1],\n",
       "        [2, 0]], dtype=int32)>,\n",
       " <tf.Tensor: shape=(3,), dtype=int32, numpy=array([3, 1, 0], dtype=int32)>)"
      ]
     },
     "execution_count": 154,
     "metadata": {},
     "output_type": "execute_result"
    }
   ],
   "source": [
    "x = tf.range(2*3)\n",
    "x = tf.reshape(x, (2, 3))\n",
    "indices = tf.constant([[1, 0,], [0, 1], [2, 0] ])\n",
    "x, indices, tf.gather_nd(x, indices=indices, )"
   ]
  },
  {
   "cell_type": "code",
   "execution_count": 155,
   "metadata": {},
   "outputs": [
    {
     "data": {
      "text/plain": [
       "(<tf.Tensor: shape=(2, 3), dtype=int32, numpy=\n",
       " array([[0, 1, 2],\n",
       "        [3, 4, 5]], dtype=int32)>,\n",
       " <tf.Tensor: shape=(2, 1), dtype=int32, numpy=\n",
       " array([[1],\n",
       "        [0]], dtype=int32)>,\n",
       " <tf.Tensor: shape=(2, 3), dtype=int32, numpy=\n",
       " array([[3, 4, 5],\n",
       "        [0, 1, 2]], dtype=int32)>)"
      ]
     },
     "execution_count": 155,
     "metadata": {},
     "output_type": "execute_result"
    }
   ],
   "source": [
    "x = tf.range(2*3)\n",
    "x = tf.reshape(x, (2, 3))\n",
    "indices = tf.constant([[1], [0] ])\n",
    "x, indices, tf.gather_nd(x, indices=indices, )"
   ]
  },
  {
   "cell_type": "code",
   "execution_count": 156,
   "metadata": {},
   "outputs": [
    {
     "data": {
      "text/plain": [
       "(<tf.Tensor: shape=(2, 3), dtype=int32, numpy=\n",
       " array([[0, 1, 2],\n",
       "        [3, 4, 5]], dtype=int32)>,\n",
       " <tf.Tensor: shape=(2, 1), dtype=int32, numpy=\n",
       " array([[1],\n",
       "        [0]], dtype=int32)>,\n",
       " <tf.Tensor: shape=(2,), dtype=int32, numpy=array([1, 3], dtype=int32)>)"
      ]
     },
     "execution_count": 156,
     "metadata": {},
     "output_type": "execute_result"
    }
   ],
   "source": [
    "x = tf.range(2*3)\n",
    "x = tf.reshape(x, (2, 3))\n",
    "indices = tf.constant([[1], [0] ])\n",
    "x, indices, tf.gather_nd(x, indices=indices, batch_dims=1 )"
   ]
  },
  {
   "cell_type": "code",
   "execution_count": 157,
   "metadata": {},
   "outputs": [
    {
     "data": {
      "text/plain": [
       "(<tf.Tensor: shape=(3, 4, 5), dtype=float32, numpy=\n",
       " array([[[ 0.,  1.,  2.,  3.,  4.],\n",
       "         [ 5.,  6.,  7.,  8.,  9.],\n",
       "         [10., 11., 12., 13., 14.],\n",
       "         [15., 16., 17., 18., 19.]],\n",
       " \n",
       "        [[20., 21., 22., 23., 24.],\n",
       "         [25., 26., 27., 28., 29.],\n",
       "         [30., 31., 32., 33., 34.],\n",
       "         [35., 36., 37., 38., 39.]],\n",
       " \n",
       "        [[40., 41., 42., 43., 44.],\n",
       "         [45., 46., 47., 48., 49.],\n",
       "         [50., 51., 52., 53., 54.],\n",
       "         [55., 56., 57., 58., 59.]]], dtype=float32)>,\n",
       " <tf.Tensor: shape=(5,), dtype=bool, numpy=array([False,  True,  True, False,  True])>,\n",
       " <tf.Tensor: shape=(3, 4, 3), dtype=float32, numpy=\n",
       " array([[[ 1.,  2.,  4.],\n",
       "         [ 6.,  7.,  9.],\n",
       "         [11., 12., 14.],\n",
       "         [16., 17., 19.]],\n",
       " \n",
       "        [[21., 22., 24.],\n",
       "         [26., 27., 29.],\n",
       "         [31., 32., 34.],\n",
       "         [36., 37., 39.]],\n",
       " \n",
       "        [[41., 42., 44.],\n",
       "         [46., 47., 49.],\n",
       "         [51., 52., 54.],\n",
       "         [56., 57., 59.]]], dtype=float32)>)"
      ]
     },
     "execution_count": 157,
     "metadata": {},
     "output_type": "execute_result"
    }
   ],
   "source": [
    "np.random.seed(0)\n",
    "mask = tf.constant(np.random.randint(0, 2, (5,)).astype(bool))\n",
    "x = tf.range(3* 4 * 5, dtype=float)\n",
    "x = tf.reshape(x, (3, 4, 5))\n",
    "x, mask, tf.boolean_mask(x, mask, axis=2)"
   ]
  },
  {
   "cell_type": "code",
   "execution_count": 158,
   "metadata": {},
   "outputs": [
    {
     "data": {
      "text/plain": [
       "(<tf.Tensor: shape=(4, 5), dtype=float32, numpy=\n",
       " array([[ 0.07085926,  0.07304142, -1.4223258 ,  1.5200695 , -0.29139397],\n",
       "        [-0.13309029, -0.1730696 , -1.7616516 , -0.08767307,  1.3668793 ],\n",
       "        [ 1.1253141 , -0.35899556,  1.2206081 , -1.3394955 ,  0.42837337],\n",
       "        [-0.12346315,  1.4143772 , -0.12405066,  2.008157  ,  0.22988653]],\n",
       "       dtype=float32)>,\n",
       " <tf.Tensor: shape=(5,), dtype=bool, numpy=array([False,  True,  True, False,  True])>,\n",
       " <tf.Tensor: shape=(4, 5), dtype=float32, numpy=\n",
       " array([[ 0.60489374,  0.07304142, -1.4223258 ,  0.23043416, -0.29139397],\n",
       "        [-0.96898025, -0.1730696 , -1.7616516 , -0.44423282,  1.3668793 ],\n",
       "        [-0.88180053, -0.35899556,  1.2206081 , -1.3232274 ,  0.42837337],\n",
       "        [ 0.90734595,  1.4143772 , -0.12405066, -1.0261788 ,  0.22988653]],\n",
       "       dtype=float32)>)"
      ]
     },
     "execution_count": 158,
     "metadata": {},
     "output_type": "execute_result"
    }
   ],
   "source": [
    "np.random.seed(0)\n",
    "mask = tf.constant(np.random.randint(0, 2, (5,)).astype(bool))\n",
    "x = tf.constant(np.random.normal(0, 1., (4, 5)), dtype=float)\n",
    "y = tf.constant(np.random.normal(0, 1., (4, 5)), dtype=float)\n",
    "x, mask, tf.where(mask, x, y)"
   ]
  },
  {
   "cell_type": "code",
   "execution_count": 159,
   "metadata": {},
   "outputs": [
    {
     "data": {
      "text/plain": [
       "(<tf.Tensor: shape=(4, 5), dtype=float32, numpy=\n",
       " array([[ 0.07085926,  0.07304142, -1.4223258 ,  1.5200695 , -0.29139397],\n",
       "        [-0.13309029, -0.1730696 , -1.7616516 , -0.08767307,  1.3668793 ],\n",
       "        [ 1.1253141 , -0.35899556,  1.2206081 , -1.3394955 ,  0.42837337],\n",
       "        [-0.12346315,  1.4143772 , -0.12405066,  2.008157  ,  0.22988653]],\n",
       "       dtype=float32)>,\n",
       " <tf.Tensor: shape=(5,), dtype=bool, numpy=array([False,  True,  True, False,  True])>,\n",
       " <tf.Tensor: shape=(4, 5), dtype=float32, numpy=\n",
       " array([[ 0.60489374,  0.07304142, -1.4223258 ,  0.23043416, -0.29139397],\n",
       "        [ 0.60489374, -0.1730696 , -1.7616516 ,  0.23043416,  1.3668793 ],\n",
       "        [ 0.60489374, -0.35899556,  1.2206081 ,  0.23043416,  0.42837337],\n",
       "        [ 0.60489374,  1.4143772 , -0.12405066,  0.23043416,  0.22988653]],\n",
       "       dtype=float32)>)"
      ]
     },
     "execution_count": 159,
     "metadata": {},
     "output_type": "execute_result"
    }
   ],
   "source": [
    "np.random.seed(0)\n",
    "mask = tf.constant(np.random.randint(0, 2, (5,)).astype(bool))\n",
    "x = tf.constant(np.random.normal(0, 1., (4, 5)), dtype=float)\n",
    "y = tf.constant(np.random.normal(0, 1., (1, 5)), dtype=float)\n",
    "x, mask, tf.where(mask, x, y)"
   ]
  },
  {
   "cell_type": "code",
   "execution_count": 160,
   "metadata": {},
   "outputs": [
    {
     "data": {
      "text/plain": [
       "<tf.Tensor: shape=(4, 5), dtype=float32, numpy=\n",
       "array([[ 0.07085926,  0.07304142, -1.4223258 ,  1.5200695 , -0.29139397],\n",
       "       [-0.13309029, -0.1730696 , -1.7616516 , -0.08767307,  1.3668793 ],\n",
       "       [ 1.1253141 , -0.35899556,  1.2206081 , -1.3394955 ,  0.42837337],\n",
       "       [-0.12346315,  1.4143772 , -0.12405066,  2.008157  ,  0.22988653]],\n",
       "      dtype=float32)>"
      ]
     },
     "execution_count": 160,
     "metadata": {},
     "output_type": "execute_result"
    }
   ],
   "source": [
    "x"
   ]
  },
  {
   "cell_type": "code",
   "execution_count": 161,
   "metadata": {},
   "outputs": [
    {
     "data": {
      "text/plain": [
       "(<tf.Tensor: shape=(4, 5), dtype=float32, numpy=\n",
       " array([[ 0.07085926,  0.07304142, -1.4223258 ,  1.5200695 , -0.29139397],\n",
       "        [-0.13309029, -0.1730696 , -1.7616516 , -0.08767307,  1.3668793 ],\n",
       "        [ 1.1253141 , -0.35899556,  1.2206081 , -1.3394955 ,  0.42837337],\n",
       "        [-0.12346315,  1.4143772 , -0.12405066,  2.008157  ,  0.22988653]],\n",
       "       dtype=float32)>,\n",
       " <tf.Tensor: shape=(4, 5), dtype=float32, numpy=\n",
       " array([[5.0708594, 5.0730414, 3.5776742, 6.5200696, 4.7086062],\n",
       "        [4.8669095, 4.8269305, 3.2383485, 4.912327 , 6.3668795],\n",
       "        [6.125314 , 4.6410046, 6.220608 , 3.6605043, 5.4283733],\n",
       "        [4.876537 , 6.414377 , 4.8759494, 7.008157 , 5.2298865]],\n",
       "       dtype=float32)>)"
      ]
     },
     "execution_count": 161,
     "metadata": {},
     "output_type": "execute_result"
    }
   ],
   "source": [
    "y = tf.identity(x)\n",
    "x += 5\n",
    "y, x"
   ]
  },
  {
   "cell_type": "code",
   "execution_count": 162,
   "metadata": {},
   "outputs": [
    {
     "data": {
      "text/plain": [
       "True"
      ]
     },
     "execution_count": 162,
     "metadata": {},
     "output_type": "execute_result"
    }
   ],
   "source": [
    "tf.is_tensor(x)"
   ]
  },
  {
   "cell_type": "code",
   "execution_count": 163,
   "metadata": {},
   "outputs": [
    {
     "data": {
      "text/plain": [
       "False"
      ]
     },
     "execution_count": 163,
     "metadata": {},
     "output_type": "execute_result"
    }
   ],
   "source": [
    "tf.is_tensor(5.0)"
   ]
  },
  {
   "cell_type": "code",
   "execution_count": 164,
   "metadata": {},
   "outputs": [
    {
     "data": {
      "text/plain": [
       "<tf.Tensor: shape=(3, 4), dtype=int32, numpy=\n",
       "array([[1, 2, 3, 4],\n",
       "       [2, 3, 4, 5],\n",
       "       [3, 4, 5, 6]], dtype=int32)>"
      ]
     },
     "execution_count": 164,
     "metadata": {},
     "output_type": "execute_result"
    }
   ],
   "source": [
    "tf.map_fn(lambda u: tf.range(u, u+4) , tf.constant([1, 2, 3]))"
   ]
  },
  {
   "cell_type": "code",
   "execution_count": 165,
   "metadata": {},
   "outputs": [
    {
     "data": {
      "text/plain": [
       "(<tf.Tensor: shape=(5,), dtype=int32, numpy=array([0, 1, 2, 3, 4], dtype=int32)>,\n",
       " <tf.Tensor: shape=(3,), dtype=int32, numpy=array([10, 11, 12], dtype=int32)>,\n",
       " [<tf.Tensor: shape=(3, 5), dtype=int32, numpy=\n",
       "  array([[0, 1, 2, 3, 4],\n",
       "         [0, 1, 2, 3, 4],\n",
       "         [0, 1, 2, 3, 4]], dtype=int32)>,\n",
       "  <tf.Tensor: shape=(3, 5), dtype=int32, numpy=\n",
       "  array([[10, 10, 10, 10, 10],\n",
       "         [11, 11, 11, 11, 11],\n",
       "         [12, 12, 12, 12, 12]], dtype=int32)>])"
      ]
     },
     "execution_count": 165,
     "metadata": {},
     "output_type": "execute_result"
    }
   ],
   "source": [
    "x = tf.range(5)\n",
    "y = tf.range(10, 13)\n",
    "x, y, tf.meshgrid(x, y, )"
   ]
  },
  {
   "cell_type": "code",
   "execution_count": 166,
   "metadata": {},
   "outputs": [
    {
     "data": {
      "text/plain": [
       "(<tf.Tensor: shape=(5,), dtype=int32, numpy=array([0, 1, 2, 3, 4], dtype=int32)>,\n",
       " <tf.Tensor: shape=(3,), dtype=int32, numpy=array([10, 11, 12], dtype=int32)>,\n",
       " [<tf.Tensor: shape=(3, 5), dtype=int32, numpy=\n",
       "  array([[0, 1, 2, 3, 4],\n",
       "         [0, 1, 2, 3, 4],\n",
       "         [0, 1, 2, 3, 4]], dtype=int32)>,\n",
       "  <tf.Tensor: shape=(3, 5), dtype=int32, numpy=\n",
       "  array([[10, 10, 10, 10, 10],\n",
       "         [11, 11, 11, 11, 11],\n",
       "         [12, 12, 12, 12, 12]], dtype=int32)>])"
      ]
     },
     "execution_count": 166,
     "metadata": {},
     "output_type": "execute_result"
    }
   ],
   "source": [
    "x = tf.range(5)\n",
    "y = tf.range(10, 13)\n",
    "x, y, tf.meshgrid(x, y, indexing=\"xy\")"
   ]
  },
  {
   "cell_type": "code",
   "execution_count": 167,
   "metadata": {},
   "outputs": [
    {
     "data": {
      "text/plain": [
       "(<tf.Tensor: shape=(5,), dtype=int32, numpy=array([0, 1, 2, 3, 4], dtype=int32)>,\n",
       " <tf.Tensor: shape=(3,), dtype=int32, numpy=array([10, 11, 12], dtype=int32)>,\n",
       " [<tf.Tensor: shape=(5, 3), dtype=int32, numpy=\n",
       "  array([[0, 0, 0],\n",
       "         [1, 1, 1],\n",
       "         [2, 2, 2],\n",
       "         [3, 3, 3],\n",
       "         [4, 4, 4]], dtype=int32)>,\n",
       "  <tf.Tensor: shape=(5, 3), dtype=int32, numpy=\n",
       "  array([[10, 11, 12],\n",
       "         [10, 11, 12],\n",
       "         [10, 11, 12],\n",
       "         [10, 11, 12],\n",
       "         [10, 11, 12]], dtype=int32)>])"
      ]
     },
     "execution_count": 167,
     "metadata": {},
     "output_type": "execute_result"
    }
   ],
   "source": [
    "x = tf.range(5)\n",
    "y = tf.range(10, 13)\n",
    "x, y, tf.meshgrid(x, y, indexing=\"ij\")"
   ]
  },
  {
   "cell_type": "code",
   "execution_count": 168,
   "metadata": {},
   "outputs": [
    {
     "data": {
      "text/plain": [
       "[<tf.Tensor: shape=(3, 5, 4), dtype=int32, numpy=\n",
       " array([[[0, 0, 0, 0],\n",
       "         [1, 1, 1, 1],\n",
       "         [2, 2, 2, 2],\n",
       "         [3, 3, 3, 3],\n",
       "         [4, 4, 4, 4]],\n",
       " \n",
       "        [[0, 0, 0, 0],\n",
       "         [1, 1, 1, 1],\n",
       "         [2, 2, 2, 2],\n",
       "         [3, 3, 3, 3],\n",
       "         [4, 4, 4, 4]],\n",
       " \n",
       "        [[0, 0, 0, 0],\n",
       "         [1, 1, 1, 1],\n",
       "         [2, 2, 2, 2],\n",
       "         [3, 3, 3, 3],\n",
       "         [4, 4, 4, 4]]], dtype=int32)>,\n",
       " <tf.Tensor: shape=(3, 5, 4), dtype=int32, numpy=\n",
       " array([[[10, 10, 10, 10],\n",
       "         [10, 10, 10, 10],\n",
       "         [10, 10, 10, 10],\n",
       "         [10, 10, 10, 10],\n",
       "         [10, 10, 10, 10]],\n",
       " \n",
       "        [[11, 11, 11, 11],\n",
       "         [11, 11, 11, 11],\n",
       "         [11, 11, 11, 11],\n",
       "         [11, 11, 11, 11],\n",
       "         [11, 11, 11, 11]],\n",
       " \n",
       "        [[12, 12, 12, 12],\n",
       "         [12, 12, 12, 12],\n",
       "         [12, 12, 12, 12],\n",
       "         [12, 12, 12, 12],\n",
       "         [12, 12, 12, 12]]], dtype=int32)>,\n",
       " <tf.Tensor: shape=(3, 5, 4), dtype=int32, numpy=\n",
       " array([[[20, 21, 22, 23],\n",
       "         [20, 21, 22, 23],\n",
       "         [20, 21, 22, 23],\n",
       "         [20, 21, 22, 23],\n",
       "         [20, 21, 22, 23]],\n",
       " \n",
       "        [[20, 21, 22, 23],\n",
       "         [20, 21, 22, 23],\n",
       "         [20, 21, 22, 23],\n",
       "         [20, 21, 22, 23],\n",
       "         [20, 21, 22, 23]],\n",
       " \n",
       "        [[20, 21, 22, 23],\n",
       "         [20, 21, 22, 23],\n",
       "         [20, 21, 22, 23],\n",
       "         [20, 21, 22, 23],\n",
       "         [20, 21, 22, 23]]], dtype=int32)>]"
      ]
     },
     "execution_count": 168,
     "metadata": {},
     "output_type": "execute_result"
    }
   ],
   "source": [
    "x = tf.range(5)\n",
    "y = tf.range(10, 13)\n",
    "z = tf.range(20, 24)\n",
    "tf.meshgrid(x, y, z)"
   ]
  },
  {
   "cell_type": "code",
   "execution_count": 169,
   "metadata": {},
   "outputs": [
    {
     "data": {
      "text/plain": [
       "<tf.Tensor: shape=(3, 10), dtype=float32, numpy=\n",
       "array([[0., 0., 1., 0., 0., 0., 0., 0., 0., 0.],\n",
       "       [0., 0., 0., 0., 1., 0., 0., 0., 0., 0.],\n",
       "       [0., 0., 0., 0., 0., 1., 0., 0., 0., 0.]], dtype=float32)>"
      ]
     },
     "execution_count": 169,
     "metadata": {},
     "output_type": "execute_result"
    }
   ],
   "source": [
    "tf.one_hot([2, 4, 5], depth=10)"
   ]
  },
  {
   "cell_type": "code",
   "execution_count": 170,
   "metadata": {},
   "outputs": [
    {
     "data": {
      "text/plain": [
       "<tf.Tensor: shape=(3, 1, 10), dtype=float32, numpy=\n",
       "array([[[0., 0., 1., 0., 0., 0., 0., 0., 0., 0.]],\n",
       "\n",
       "       [[0., 0., 0., 0., 1., 0., 0., 0., 0., 0.]],\n",
       "\n",
       "       [[0., 0., 0., 0., 0., 1., 0., 0., 0., 0.]]], dtype=float32)>"
      ]
     },
     "execution_count": 170,
     "metadata": {},
     "output_type": "execute_result"
    }
   ],
   "source": [
    "tf.one_hot([[2], [4], [5]], depth=10)"
   ]
  },
  {
   "cell_type": "code",
   "execution_count": 171,
   "metadata": {},
   "outputs": [
    {
     "data": {
      "text/plain": [
       "<tf.Tensor: shape=(3, 10), dtype=int32, numpy=\n",
       "array([[1, 1, 0, 1, 1, 1, 1, 1, 1, 1],\n",
       "       [1, 1, 1, 1, 0, 1, 1, 1, 1, 1],\n",
       "       [1, 1, 1, 1, 1, 0, 1, 1, 1, 1]], dtype=int32)>"
      ]
     },
     "execution_count": 171,
     "metadata": {},
     "output_type": "execute_result"
    }
   ],
   "source": [
    "tf.one_hot([2, 4, 5], depth=10, on_value=0, off_value=1)"
   ]
  },
  {
   "cell_type": "code",
   "execution_count": 172,
   "metadata": {},
   "outputs": [
    {
     "data": {
      "text/plain": [
       "(<tf.Tensor: shape=(2, 3), dtype=int32, numpy=\n",
       " array([[1, 2, 3],\n",
       "        [4, 5, 6]], dtype=int32)>,\n",
       " <tf.Tensor: shape=(3, 8), dtype=int32, numpy=\n",
       " array([[-1, -1,  1,  2,  3, -1, -1, -1],\n",
       "        [-1, -1,  4,  5,  6, -1, -1, -1],\n",
       "        [-1, -1, -1, -1, -1, -1, -1, -1]], dtype=int32)>)"
      ]
     },
     "execution_count": 172,
     "metadata": {},
     "output_type": "execute_result"
    }
   ],
   "source": [
    "x = tf.range(1, 7)\n",
    "x = tf.reshape(x, ( 2, 3))\n",
    "x, tf.pad(x, tf.constant([[0, 1], [2, 3]]), constant_values=-1)"
   ]
  },
  {
   "cell_type": "code",
   "execution_count": 173,
   "metadata": {},
   "outputs": [
    {
     "data": {
      "text/plain": [
       "(<tf.Tensor: shape=(2, 3), dtype=int32, numpy=\n",
       " array([[1, 2, 3],\n",
       "        [4, 5, 6]], dtype=int32)>,\n",
       " <tf.Tensor: shape=(3, 7), dtype=int32, numpy=\n",
       " array([[3, 2, 1, 2, 3, 2, 1],\n",
       "        [6, 5, 4, 5, 6, 5, 4],\n",
       "        [3, 2, 1, 2, 3, 2, 1]], dtype=int32)>)"
      ]
     },
     "execution_count": 173,
     "metadata": {},
     "output_type": "execute_result"
    }
   ],
   "source": [
    "x = tf.range(1, 7)\n",
    "x = tf.reshape(x, ( 2, 3))\n",
    "x, tf.pad(x, tf.constant([[0, 1], [2, 2]]), mode=\"REFLECT\")"
   ]
  },
  {
   "cell_type": "code",
   "execution_count": 174,
   "metadata": {},
   "outputs": [
    {
     "data": {
      "text/plain": [
       "(<tf.Tensor: shape=(2, 3), dtype=int32, numpy=\n",
       " array([[1, 2, 3],\n",
       "        [4, 5, 6]], dtype=int32)>,\n",
       " <tf.Tensor: shape=(3, 7), dtype=int32, numpy=\n",
       " array([[2, 1, 1, 2, 3, 3, 2],\n",
       "        [5, 4, 4, 5, 6, 6, 5],\n",
       "        [5, 4, 4, 5, 6, 6, 5]], dtype=int32)>)"
      ]
     },
     "execution_count": 174,
     "metadata": {},
     "output_type": "execute_result"
    }
   ],
   "source": [
    "x = tf.range(1, 7)\n",
    "x = tf.reshape(x, ( 2, 3))\n",
    "x, tf.pad(x, tf.constant([[0, 1], [2, 2]]), mode=\"SYMMETRIC\")"
   ]
  },
  {
   "cell_type": "code",
   "execution_count": 175,
   "metadata": {},
   "outputs": [
    {
     "data": {
      "text/plain": [
       "(<tf.Tensor: shape=(6,), dtype=int32, numpy=array([1, 2, 3, 4, 5, 6], dtype=int32)>,\n",
       " <tf.Tensor: shape=(12,), dtype=int32, numpy=array([1, 1, 2, 2, 3, 3, 4, 4, 5, 5, 6, 6], dtype=int32)>)"
      ]
     },
     "execution_count": 175,
     "metadata": {},
     "output_type": "execute_result"
    }
   ],
   "source": [
    "x = tf.range(1, 7)\n",
    "x, tf.repeat(x, tf.constant(2))"
   ]
  },
  {
   "cell_type": "code",
   "execution_count": 176,
   "metadata": {},
   "outputs": [
    {
     "data": {
      "text/plain": [
       "(<tf.Tensor: shape=(2, 3), dtype=int32, numpy=\n",
       " array([[1, 2, 3],\n",
       "        [4, 5, 6]], dtype=int32)>,\n",
       " <tf.Tensor: shape=(12,), dtype=int32, numpy=array([1, 2, 3, 3, 4, 4, 5, 5, 5, 6, 6, 6], dtype=int32)>)"
      ]
     },
     "execution_count": 176,
     "metadata": {},
     "output_type": "execute_result"
    }
   ],
   "source": [
    "x = tf.range(1, 7)\n",
    "x = tf.reshape(x, ( 2, 3))\n",
    "x, tf.repeat(x, tf.constant([1, 1, 2, 2, 3, 3]))"
   ]
  },
  {
   "cell_type": "code",
   "execution_count": 177,
   "metadata": {},
   "outputs": [
    {
     "data": {
      "text/plain": [
       "(<tf.Tensor: shape=(2, 3), dtype=int32, numpy=\n",
       " array([[1, 2, 3],\n",
       "        [4, 5, 6]], dtype=int32)>,\n",
       " <tf.Tensor: shape=(12,), dtype=int32, numpy=array([1, 1, 2, 2, 3, 3, 4, 4, 5, 5, 6, 6], dtype=int32)>)"
      ]
     },
     "execution_count": 177,
     "metadata": {},
     "output_type": "execute_result"
    }
   ],
   "source": [
    "x = tf.range(1, 7)\n",
    "x = tf.reshape(x, ( 2, 3))\n",
    "x, tf.repeat(x, tf.constant([2]))"
   ]
  },
  {
   "cell_type": "code",
   "execution_count": 178,
   "metadata": {},
   "outputs": [
    {
     "data": {
      "text/plain": [
       "(<tf.Tensor: shape=(2, 3), dtype=int32, numpy=\n",
       " array([[1, 2, 3],\n",
       "        [4, 5, 6]], dtype=int32)>,\n",
       " <tf.Tensor: shape=(4, 3), dtype=int32, numpy=\n",
       " array([[1, 2, 3],\n",
       "        [1, 2, 3],\n",
       "        [4, 5, 6],\n",
       "        [4, 5, 6]], dtype=int32)>)"
      ]
     },
     "execution_count": 178,
     "metadata": {},
     "output_type": "execute_result"
    }
   ],
   "source": [
    "x = tf.range(1, 7)\n",
    "x = tf.reshape(x, ( 2, 3))\n",
    "x, tf.repeat(x, tf.constant([2]), axis=0)"
   ]
  },
  {
   "cell_type": "code",
   "execution_count": 179,
   "metadata": {},
   "outputs": [
    {
     "data": {
      "text/plain": [
       "(<tf.Tensor: shape=(2, 3), dtype=int32, numpy=\n",
       " array([[1, 2, 3],\n",
       "        [4, 5, 6]], dtype=int32)>,\n",
       " <tf.Tensor: shape=(2, 6), dtype=int32, numpy=\n",
       " array([[1, 1, 2, 2, 3, 3],\n",
       "        [4, 4, 5, 5, 6, 6]], dtype=int32)>)"
      ]
     },
     "execution_count": 179,
     "metadata": {},
     "output_type": "execute_result"
    }
   ],
   "source": [
    "x = tf.range(1, 7)\n",
    "x = tf.reshape(x, ( 2, 3))\n",
    "x, tf.repeat(x, tf.constant([2]), axis=1)"
   ]
  },
  {
   "cell_type": "code",
   "execution_count": 180,
   "metadata": {},
   "outputs": [
    {
     "data": {
      "text/plain": [
       "(<tf.Tensor: shape=(1, 2, 3, 4), dtype=int32, numpy=\n",
       " array([[[[ 0,  1,  2,  3],\n",
       "          [ 4,  5,  6,  7],\n",
       "          [ 8,  9, 10, 11]],\n",
       " \n",
       "         [[12, 13, 14, 15],\n",
       "          [16, 17, 18, 19],\n",
       "          [20, 21, 22, 23]]]], dtype=int32)>,\n",
       " <tf.Tensor: shape=(1, 2, 3, 4), dtype=int32, numpy=\n",
       " array([[[[ 3,  2,  1,  0],\n",
       "          [ 7,  6,  5,  4],\n",
       "          [11, 10,  9,  8]],\n",
       " \n",
       "         [[15, 14, 13, 12],\n",
       "          [19, 18, 17, 16],\n",
       "          [23, 22, 21, 20]]]], dtype=int32)>)"
      ]
     },
     "execution_count": 180,
     "metadata": {},
     "output_type": "execute_result"
    }
   ],
   "source": [
    "x = tf.range(24)\n",
    "x = tf.reshape(x, (1, 2, 3, 4))\n",
    "x, tf.reverse(x, [-1])"
   ]
  },
  {
   "cell_type": "code",
   "execution_count": 181,
   "metadata": {},
   "outputs": [
    {
     "data": {
      "text/plain": [
       "(<tf.Tensor: shape=(1, 2, 3, 4), dtype=int32, numpy=\n",
       " array([[[[ 0,  1,  2,  3],\n",
       "          [ 4,  5,  6,  7],\n",
       "          [ 8,  9, 10, 11]],\n",
       " \n",
       "         [[12, 13, 14, 15],\n",
       "          [16, 17, 18, 19],\n",
       "          [20, 21, 22, 23]]]], dtype=int32)>,\n",
       " <tf.Tensor: shape=(1, 2, 3, 4), dtype=int32, numpy=\n",
       " array([[[[11, 10,  9,  8],\n",
       "          [ 7,  6,  5,  4],\n",
       "          [ 3,  2,  1,  0]],\n",
       " \n",
       "         [[23, 22, 21, 20],\n",
       "          [19, 18, 17, 16],\n",
       "          [15, 14, 13, 12]]]], dtype=int32)>)"
      ]
     },
     "execution_count": 181,
     "metadata": {},
     "output_type": "execute_result"
    }
   ],
   "source": [
    "x = tf.range(24)\n",
    "x = tf.reshape(x, (1, 2, 3, 4))\n",
    "x, tf.reverse(x, [-1, -2])"
   ]
  },
  {
   "cell_type": "code",
   "execution_count": 182,
   "metadata": {},
   "outputs": [
    {
     "data": {
      "text/plain": [
       "(<tf.Tensor: shape=(4, 8), dtype=int32, numpy=\n",
       " array([[ 0,  1,  2,  3,  4,  5,  6,  7],\n",
       "        [ 8,  9, 10, 11, 12, 13, 14, 15],\n",
       "        [16, 17, 18, 19, 20, 21, 22, 23],\n",
       "        [24, 25, 26, 27, 28, 29, 30, 31]], dtype=int32)>,\n",
       " <tf.Tensor: shape=(4, 8), dtype=int32, numpy=\n",
       " array([[ 6,  5,  4,  3,  2,  1,  0,  7],\n",
       "        [ 9,  8, 10, 11, 12, 13, 14, 15],\n",
       "        [18, 17, 16, 19, 20, 21, 22, 23],\n",
       "        [24, 25, 26, 27, 28, 29, 30, 31]], dtype=int32)>)"
      ]
     },
     "execution_count": 182,
     "metadata": {},
     "output_type": "execute_result"
    }
   ],
   "source": [
    "x = tf.range(4*8)\n",
    "x = tf.reshape(x, (4, 8))\n",
    "x, tf.reverse_sequence(x, [7, 2, 3, 1], batch_axis=0, seq_axis=1)"
   ]
  },
  {
   "cell_type": "code",
   "execution_count": 183,
   "metadata": {},
   "outputs": [
    {
     "data": {
      "text/plain": [
       "(<tf.Tensor: shape=(2, 3, 4), dtype=int32, numpy=\n",
       " array([[[ 0,  1,  2,  3],\n",
       "         [ 4,  5,  6,  7],\n",
       "         [ 8,  9, 10, 11]],\n",
       " \n",
       "        [[12, 13, 14, 15],\n",
       "         [16, 17, 18, 19],\n",
       "         [20, 21, 22, 23]]], dtype=int32)>,\n",
       " <tf.Tensor: shape=(2, 3, 4), dtype=int32, numpy=\n",
       " array([[[ 0,  1,  2,  3],\n",
       "         [ 4,  5,  6,  7],\n",
       "         [ 8,  9, 10, 11]],\n",
       " \n",
       "        [[12, 13, 14, 15],\n",
       "         [16, 17, 18, 19],\n",
       "         [20, 21, 22, 23]]], dtype=int32)>)"
      ]
     },
     "execution_count": 183,
     "metadata": {},
     "output_type": "execute_result"
    }
   ],
   "source": [
    "x = tf.range(24)\n",
    "x = tf.reshape(x, (2, 3, 4))\n",
    "x, tf.roll(x, shift=0, axis=0)"
   ]
  },
  {
   "cell_type": "code",
   "execution_count": 184,
   "metadata": {},
   "outputs": [
    {
     "data": {
      "text/plain": [
       "(<tf.Tensor: shape=(2, 3, 4), dtype=int32, numpy=\n",
       " array([[[ 0,  1,  2,  3],\n",
       "         [ 4,  5,  6,  7],\n",
       "         [ 8,  9, 10, 11]],\n",
       " \n",
       "        [[12, 13, 14, 15],\n",
       "         [16, 17, 18, 19],\n",
       "         [20, 21, 22, 23]]], dtype=int32)>,\n",
       " <tf.Tensor: shape=(2, 3, 4), dtype=int32, numpy=\n",
       " array([[[12, 13, 14, 15],\n",
       "         [16, 17, 18, 19],\n",
       "         [20, 21, 22, 23]],\n",
       " \n",
       "        [[ 0,  1,  2,  3],\n",
       "         [ 4,  5,  6,  7],\n",
       "         [ 8,  9, 10, 11]]], dtype=int32)>)"
      ]
     },
     "execution_count": 184,
     "metadata": {},
     "output_type": "execute_result"
    }
   ],
   "source": [
    "x = tf.range(24)\n",
    "x = tf.reshape(x, (2, 3, 4))\n",
    "x, tf.roll(x, shift=1, axis=0)"
   ]
  },
  {
   "cell_type": "code",
   "execution_count": 185,
   "metadata": {},
   "outputs": [
    {
     "data": {
      "text/plain": [
       "(<tf.Tensor: shape=(2, 3, 4), dtype=int32, numpy=\n",
       " array([[[ 0,  1,  2,  3],\n",
       "         [ 4,  5,  6,  7],\n",
       "         [ 8,  9, 10, 11]],\n",
       " \n",
       "        [[12, 13, 14, 15],\n",
       "         [16, 17, 18, 19],\n",
       "         [20, 21, 22, 23]]], dtype=int32)>,\n",
       " <tf.Tensor: shape=(2, 3, 4), dtype=int32, numpy=\n",
       " array([[[ 0,  1,  2,  3],\n",
       "         [ 4,  5,  6,  7],\n",
       "         [ 8,  9, 10, 11]],\n",
       " \n",
       "        [[12, 13, 14, 15],\n",
       "         [16, 17, 18, 19],\n",
       "         [20, 21, 22, 23]]], dtype=int32)>)"
      ]
     },
     "execution_count": 185,
     "metadata": {},
     "output_type": "execute_result"
    }
   ],
   "source": [
    "x = tf.range(24)\n",
    "x = tf.reshape(x, (2, 3, 4))\n",
    "x, tf.roll(x, shift=2, axis=0)"
   ]
  },
  {
   "cell_type": "code",
   "execution_count": 186,
   "metadata": {},
   "outputs": [
    {
     "data": {
      "text/plain": [
       "(<tf.Tensor: shape=(2, 3, 4), dtype=int32, numpy=\n",
       " array([[[ 0,  1,  2,  3],\n",
       "         [ 4,  5,  6,  7],\n",
       "         [ 8,  9, 10, 11]],\n",
       " \n",
       "        [[12, 13, 14, 15],\n",
       "         [16, 17, 18, 19],\n",
       "         [20, 21, 22, 23]]], dtype=int32)>,\n",
       " <tf.Tensor: shape=(2, 3, 4), dtype=int32, numpy=\n",
       " array([[[ 3,  0,  1,  2],\n",
       "         [ 7,  4,  5,  6],\n",
       "         [11,  8,  9, 10]],\n",
       " \n",
       "        [[15, 12, 13, 14],\n",
       "         [19, 16, 17, 18],\n",
       "         [23, 20, 21, 22]]], dtype=int32)>)"
      ]
     },
     "execution_count": 186,
     "metadata": {},
     "output_type": "execute_result"
    }
   ],
   "source": [
    "x = tf.range(24)\n",
    "x = tf.reshape(x, (2, 3, 4))\n",
    "x, tf.roll(x, shift=1, axis=-1)"
   ]
  },
  {
   "cell_type": "code",
   "execution_count": 187,
   "metadata": {},
   "outputs": [
    {
     "data": {
      "text/plain": [
       "(<tf.Tensor: shape=(2, 3, 4), dtype=int32, numpy=\n",
       " array([[[ 0,  1,  2,  3],\n",
       "         [ 4,  5,  6,  7],\n",
       "         [ 8,  9, 10, 11]],\n",
       " \n",
       "        [[12, 13, 14, 15],\n",
       "         [16, 17, 18, 19],\n",
       "         [20, 21, 22, 23]]], dtype=int32)>,\n",
       " <tf.Tensor: shape=(2, 3, 4), dtype=int32, numpy=\n",
       " array([[[ 1,  2,  3,  0],\n",
       "         [ 5,  6,  7,  4],\n",
       "         [ 9, 10, 11,  8]],\n",
       " \n",
       "        [[13, 14, 15, 12],\n",
       "         [17, 18, 19, 16],\n",
       "         [21, 22, 23, 20]]], dtype=int32)>)"
      ]
     },
     "execution_count": 187,
     "metadata": {},
     "output_type": "execute_result"
    }
   ],
   "source": [
    "x = tf.range(24)\n",
    "x = tf.reshape(x, (2, 3, 4))\n",
    "x, tf.roll(x, shift=-1, axis=-1)"
   ]
  },
  {
   "cell_type": "code",
   "execution_count": 188,
   "metadata": {},
   "outputs": [
    {
     "data": {
      "text/plain": [
       "(<tf.Tensor: shape=(2, 3, 4), dtype=int32, numpy=\n",
       " array([[[ 0,  1,  2,  3],\n",
       "         [ 4,  5,  6,  7],\n",
       "         [ 8,  9, 10, 11]],\n",
       " \n",
       "        [[12, 13, 14, 15],\n",
       "         [16, 17, 18, 19],\n",
       "         [20, 21, 22, 23]]], dtype=int32)>,\n",
       " <tf.Tensor: shape=(2, 3, 4), dtype=int32, numpy=\n",
       " array([[[ 5,  6,  7,  4],\n",
       "         [ 9, 10, 11,  8],\n",
       "         [ 1,  2,  3,  0]],\n",
       " \n",
       "        [[17, 18, 19, 16],\n",
       "         [21, 22, 23, 20],\n",
       "         [13, 14, 15, 12]]], dtype=int32)>)"
      ]
     },
     "execution_count": 188,
     "metadata": {},
     "output_type": "execute_result"
    }
   ],
   "source": [
    "x = tf.range(24)\n",
    "x = tf.reshape(x, (2, 3, 4))\n",
    "x, tf.roll(x, shift=(-1, -1), axis=(-1, -2))"
   ]
  },
  {
   "cell_type": "code",
   "execution_count": 189,
   "metadata": {},
   "outputs": [
    {
     "data": {
      "text/plain": [
       "(array([1, 2, 3, 4, 5, 6]),\n",
       " <tf.Tensor: shape=(6,), dtype=int64, numpy=array([1, 2, 3, 4, 5, 6])>)"
      ]
     },
     "execution_count": 189,
     "metadata": {},
     "output_type": "execute_result"
    }
   ],
   "source": [
    "x = np.arange(1, 7)\n",
    "s = tf.scan(lambda i, el:  el, x)\n",
    "x, s"
   ]
  },
  {
   "cell_type": "code",
   "execution_count": 190,
   "metadata": {},
   "outputs": [
    {
     "data": {
      "text/plain": [
       "(array([1, 2, 3, 4, 5, 6]),\n",
       " <tf.Tensor: shape=(6,), dtype=int64, numpy=array([0, 0, 0, 0, 0, 0])>)"
      ]
     },
     "execution_count": 190,
     "metadata": {},
     "output_type": "execute_result"
    }
   ],
   "source": [
    "x = np.arange(1, 7)\n",
    "s = tf.scan(lambda i, el:  i, x, initializer=np.array(0))\n",
    "x, s"
   ]
  },
  {
   "cell_type": "code",
   "execution_count": 191,
   "metadata": {},
   "outputs": [
    {
     "data": {
      "text/plain": [
       "(array([[ 1,  2,  3,  4,  5,  6],\n",
       "        [ 2,  4,  6,  8, 10, 12]]),\n",
       " <tf.Tensor: shape=(2,), dtype=int64, numpy=array([21, 42])>)"
      ]
     },
     "execution_count": 191,
     "metadata": {},
     "output_type": "execute_result"
    }
   ],
   "source": [
    "x = np.arange(1, 7)\n",
    "x = np.expand_dims(x, 0)\n",
    "x = np.tile(x, (2, 1))\n",
    "x[1] *= 2\n",
    "s = tf.scan(lambda i, el:  np.sum(el) , x, initializer=np.array(0))\n",
    "x, s"
   ]
  },
  {
   "cell_type": "code",
   "execution_count": 192,
   "metadata": {},
   "outputs": [
    {
     "data": {
      "text/plain": [
       "(array([[ 1,  2,  3,  4,  5,  6],\n",
       "        [10, 20, 30, 40, 50, 60]]),\n",
       " <tf.Tensor: shape=(2,), dtype=int64, numpy=array([ 1, 10])>)"
      ]
     },
     "execution_count": 192,
     "metadata": {},
     "output_type": "execute_result"
    }
   ],
   "source": [
    "x = np.arange(1, 7)\n",
    "x = np.expand_dims(x, 0)\n",
    "x = np.tile(x, (2, 1))\n",
    "x[1] *= 10 \n",
    "s = tf.scan(lambda i, el: el[0]  , x, initializer=np.array(0))\n",
    "x, s"
   ]
  },
  {
   "cell_type": "code",
   "execution_count": 193,
   "metadata": {},
   "outputs": [
    {
     "data": {
      "text/plain": [
       "(<tf.Tensor: shape=(2,), dtype=int32, numpy=array([4, 4], dtype=int32)>,\n",
       " <tf.Tensor: shape=(4, 4), dtype=int32, numpy=\n",
       " array([[ 0, -1,  0,  0],\n",
       "        [ 0,  0, -2,  0],\n",
       "        [ 0,  0,  0,  0],\n",
       "        [ 0,  0,  0,  0]], dtype=int32)>)"
      ]
     },
     "execution_count": 193,
     "metadata": {},
     "output_type": "execute_result"
    }
   ],
   "source": [
    "x = tf.constant([4, 4])\n",
    "ind = tf.constant([[0, 1], [1, 2]])\n",
    "updates = tf.constant([-1, -2])\n",
    "x, tf.scatter_nd(indices=ind, updates=updates, shape=x)"
   ]
  },
  {
   "cell_type": "code",
   "execution_count": 194,
   "metadata": {},
   "outputs": [
    {
     "data": {
      "text/plain": [
       "(<tf.Tensor: shape=(3,), dtype=int32, numpy=array([3, 4, 4], dtype=int32)>,\n",
       " <tf.Tensor: shape=(3, 4, 4), dtype=int32, numpy=\n",
       " array([[[ 0,  0,  0,  0],\n",
       "         [ 0, -1,  0,  0],\n",
       "         [ 0,  0,  0,  0],\n",
       "         [ 0,  0,  0,  0]],\n",
       " \n",
       "        [[ 0,  0,  0,  0],\n",
       "         [ 0,  0,  0,  0],\n",
       "         [ 0,  0,  0,  0],\n",
       "         [ 0,  0,  0,  0]],\n",
       " \n",
       "        [[ 0,  0,  0,  0],\n",
       "         [ 0,  0,  0,  0],\n",
       "         [ 0,  0,  0,  0],\n",
       "         [ 0,  0,  0,  0]]], dtype=int32)>)"
      ]
     },
     "execution_count": 194,
     "metadata": {},
     "output_type": "execute_result"
    }
   ],
   "source": [
    "x = tf.constant([3, 4, 4])\n",
    "ind = tf.constant([[0, 1, 1]])\n",
    "updates = tf.constant([-1])\n",
    "x, tf.scatter_nd(indices=ind, updates=updates, shape=x)"
   ]
  },
  {
   "cell_type": "code",
   "execution_count": 195,
   "metadata": {},
   "outputs": [
    {
     "data": {
      "text/plain": [
       "(<tf.Tensor: shape=(3,), dtype=int32, numpy=array([3, 4, 4], dtype=int32)>,\n",
       " <tf.Tensor: shape=(1, 4, 4), dtype=int32, numpy=\n",
       " array([[[1, 1, 1, 1],\n",
       "         [1, 1, 1, 1],\n",
       "         [1, 1, 1, 1],\n",
       "         [1, 1, 1, 1]]], dtype=int32)>,\n",
       " <tf.Tensor: shape=(3, 4, 4), dtype=int32, numpy=\n",
       " array([[[0, 0, 0, 0],\n",
       "         [0, 0, 0, 0],\n",
       "         [0, 0, 0, 0],\n",
       "         [0, 0, 0, 0]],\n",
       " \n",
       "        [[1, 1, 1, 1],\n",
       "         [1, 1, 1, 1],\n",
       "         [1, 1, 1, 1],\n",
       "         [1, 1, 1, 1]],\n",
       " \n",
       "        [[0, 0, 0, 0],\n",
       "         [0, 0, 0, 0],\n",
       "         [0, 0, 0, 0],\n",
       "         [0, 0, 0, 0]]], dtype=int32)>)"
      ]
     },
     "execution_count": 195,
     "metadata": {},
     "output_type": "execute_result"
    }
   ],
   "source": [
    "x = tf.constant([3, 4, 4])\n",
    "ind = tf.constant([[1]])\n",
    "updates = tf.constant(tf.fill((1, 4, 4), 1))\n",
    "x, updates, tf.scatter_nd(indices=ind, updates=updates, shape=x)"
   ]
  },
  {
   "cell_type": "code",
   "execution_count": 196,
   "metadata": {},
   "outputs": [
    {
     "data": {
      "text/plain": [
       "(<tf.Tensor: shape=(3,), dtype=int32, numpy=array([3, 4, 4], dtype=int32)>,\n",
       " <tf.Tensor: shape=(1, 4, 4), dtype=int32, numpy=\n",
       " array([[[1, 1, 1, 1],\n",
       "         [1, 1, 1, 1],\n",
       "         [1, 1, 1, 1],\n",
       "         [1, 1, 1, 1]]], dtype=int32)>,\n",
       " <tf.Tensor: shape=(3, 4, 4), dtype=int32, numpy=\n",
       " array([[[0, 0, 0, 0],\n",
       "         [0, 0, 0, 0],\n",
       "         [0, 0, 0, 0],\n",
       "         [0, 0, 0, 0]],\n",
       " \n",
       "        [[0, 0, 0, 0],\n",
       "         [0, 0, 0, 0],\n",
       "         [0, 0, 0, 0],\n",
       "         [0, 0, 0, 0]],\n",
       " \n",
       "        [[1, 1, 1, 1],\n",
       "         [1, 1, 1, 1],\n",
       "         [1, 1, 1, 1],\n",
       "         [1, 1, 1, 1]]], dtype=int32)>)"
      ]
     },
     "execution_count": 196,
     "metadata": {},
     "output_type": "execute_result"
    }
   ],
   "source": [
    "x = tf.constant([3, 4, 4])\n",
    "ind = tf.constant([[2]])\n",
    "updates = tf.constant(tf.fill((1, 4, 4), 1))\n",
    "x, updates, tf.scatter_nd(indices=ind, updates=updates, shape=x)"
   ]
  },
  {
   "cell_type": "code",
   "execution_count": 197,
   "metadata": {},
   "outputs": [
    {
     "data": {
      "text/plain": [
       "(<tf.Tensor: shape=(3,), dtype=int32, numpy=array([3, 4, 4], dtype=int32)>,\n",
       " <tf.Variable 'Variable:0' shape=(2, 4, 4) dtype=int32, numpy=\n",
       " array([[[ 1,  1,  1,  1],\n",
       "         [ 1,  1,  1,  1],\n",
       "         [ 1,  1,  1,  1],\n",
       "         [ 1,  1,  1,  1]],\n",
       " \n",
       "        [[-1, -1, -1, -1],\n",
       "         [-1, -1, -1, -1],\n",
       "         [-1, -1, -1, -1],\n",
       "         [-1, -1, -1, -1]]], dtype=int32)>,\n",
       " <tf.Tensor: shape=(3, 4, 4), dtype=int32, numpy=\n",
       " array([[[-1, -1, -1, -1],\n",
       "         [-1, -1, -1, -1],\n",
       "         [-1, -1, -1, -1],\n",
       "         [-1, -1, -1, -1]],\n",
       " \n",
       "        [[ 0,  0,  0,  0],\n",
       "         [ 0,  0,  0,  0],\n",
       "         [ 0,  0,  0,  0],\n",
       "         [ 0,  0,  0,  0]],\n",
       " \n",
       "        [[ 1,  1,  1,  1],\n",
       "         [ 1,  1,  1,  1],\n",
       "         [ 1,  1,  1,  1],\n",
       "         [ 1,  1,  1,  1]]], dtype=int32)>)"
      ]
     },
     "execution_count": 197,
     "metadata": {},
     "output_type": "execute_result"
    }
   ],
   "source": [
    "x = tf.constant([3, 4, 4])\n",
    "ind = tf.constant([[2], [0]])\n",
    "updates = tf.Variable(tf.fill((2, 4, 4), 1))\n",
    "updates[-1].assign(-1)\n",
    "x, updates, tf.scatter_nd(indices=ind, updates=updates, shape=x)"
   ]
  },
  {
   "cell_type": "code",
   "execution_count": 198,
   "metadata": {},
   "outputs": [
    {
     "data": {
      "text/plain": [
       "<tf.Tensor: shape=(3,), dtype=int32, numpy=array([1, 1, 4], dtype=int32)>"
      ]
     },
     "execution_count": 198,
     "metadata": {},
     "output_type": "execute_result"
    }
   ],
   "source": [
    "seq = [0, 3, 6, 9, 12]\n",
    "values = [2, 3, 11]\n",
    "tf.searchsorted(sorted_sequence=seq, values=values)"
   ]
  },
  {
   "cell_type": "code",
   "execution_count": 199,
   "metadata": {},
   "outputs": [
    {
     "data": {
      "text/plain": [
       "<tf.Tensor: shape=(3,), dtype=int32, numpy=array([1, 2, 4], dtype=int32)>"
      ]
     },
     "execution_count": 199,
     "metadata": {},
     "output_type": "execute_result"
    }
   ],
   "source": [
    "seq = [0, 3, 6, 9, 12]\n",
    "values = [2, 3, 11]\n",
    "tf.searchsorted(sorted_sequence=seq, values=values, side=\"right\")"
   ]
  },
  {
   "cell_type": "code",
   "execution_count": 200,
   "metadata": {},
   "outputs": [
    {
     "data": {
      "text/plain": [
       "<tf.Tensor: shape=(2, 10), dtype=bool, numpy=\n",
       "array([[ True,  True, False, False, False, False, False, False, False,\n",
       "        False],\n",
       "       [ True,  True,  True,  True, False, False, False, False, False,\n",
       "        False]])>"
      ]
     },
     "execution_count": 200,
     "metadata": {},
     "output_type": "execute_result"
    }
   ],
   "source": [
    "tf.sequence_mask([2, 4], 10)"
   ]
  },
  {
   "cell_type": "code",
   "execution_count": 201,
   "metadata": {},
   "outputs": [
    {
     "data": {
      "text/plain": [
       "(<tf.Tensor: shape=(2,), dtype=int32, numpy=array([2, 4], dtype=int32)>,\n",
       " [<tf.Tensor: shape=(2,), dtype=int32, numpy=array([2, 4], dtype=int32)>,\n",
       "  <tf.Tensor: shape=(3,), dtype=int32, numpy=array([3, 5, 6], dtype=int32)>,\n",
       "  <tf.Tensor: shape=(1,), dtype=int32, numpy=array([4], dtype=int32)>])"
      ]
     },
     "execution_count": 201,
     "metadata": {},
     "output_type": "execute_result"
    }
   ],
   "source": [
    "x, y, z = [get_random_tensor(size) for i, size in enumerate([(2, 4), (3, 5, 6), 4])]\n",
    "tf.shape(x), tf.shape_n([x, y, z])"
   ]
  },
  {
   "cell_type": "code",
   "execution_count": 202,
   "metadata": {},
   "outputs": [
    {
     "data": {
      "text/plain": [
       "(<tf.Tensor: shape=(2, 2, 6), dtype=int32, numpy=\n",
       " array([[[ 0,  1,  2,  3,  4,  5],\n",
       "         [ 6,  7,  8,  9, 10, 11]],\n",
       " \n",
       "        [[12, 13, 14, 15, 16, 17],\n",
       "         [18, 19, 20, 21, 22, 23]]], dtype=int32)>,\n",
       " <tf.Tensor: shape=(1, 2, 1), dtype=int32, numpy=\n",
       " array([[[2],\n",
       "         [8]]], dtype=int32)>)"
      ]
     },
     "execution_count": 202,
     "metadata": {},
     "output_type": "execute_result"
    }
   ],
   "source": [
    "x = tf.constant(tf.range(4*6), shape=(2, 2, 6))\n",
    "x, tf.slice(x, [0, 0, 2], [1, 2, 1])"
   ]
  },
  {
   "cell_type": "code",
   "execution_count": 203,
   "metadata": {},
   "outputs": [
    {
     "data": {
      "text/plain": [
       "(<tf.Tensor: shape=(8, 8), dtype=int32, numpy=\n",
       " array([[ 0,  1,  2,  3,  4,  5,  6,  7],\n",
       "        [ 8,  9, 10, 11, 12, 13, 14, 15],\n",
       "        [16, 17, 18, 19, 20, 21, 22, 23],\n",
       "        [24, 25, 26, 27, 28, 29, 30, 31],\n",
       "        [32, 33, 34, 35, 36, 37, 38, 39],\n",
       "        [40, 41, 42, 43, 44, 45, 46, 47],\n",
       "        [48, 49, 50, 51, 52, 53, 54, 55],\n",
       "        [56, 57, 58, 59, 60, 61, 62, 63]], dtype=int32)>,\n",
       " <tf.Tensor: shape=(4, 4), dtype=int32, numpy=\n",
       " array([[ 0,  2,  4,  6],\n",
       "        [16, 18, 20, 22],\n",
       "        [32, 34, 36, 38],\n",
       "        [48, 50, 52, 54]], dtype=int32)>)"
      ]
     },
     "execution_count": 203,
     "metadata": {},
     "output_type": "execute_result"
    }
   ],
   "source": [
    "x = tf.constant(tf.range(8*8), shape=(8, 8))\n",
    "x, tf.strided_slice(x, [0, 0,], [8, 8], strides=[2, 2])"
   ]
  },
  {
   "cell_type": "code",
   "execution_count": 204,
   "metadata": {},
   "outputs": [
    {
     "data": {
      "text/plain": [
       "(<tf.Tensor: shape=(4, 5), dtype=float32, numpy=\n",
       " array([[1., 1., 1., 1., 1.],\n",
       "        [1., 1., 1., 1., 1.],\n",
       "        [1., 1., 1., 1., 1.],\n",
       "        [1., 1., 1., 1., 1.]], dtype=float32)>,\n",
       " <tf.Tensor: shape=(4, 5), dtype=float32, numpy=\n",
       " array([[1., 2., 1., 1., 1.],\n",
       "        [1., 3., 1., 1., 1.],\n",
       "        [1., 1., 1., 1., 1.],\n",
       "        [1., 1., 1., 1., 1.]], dtype=float32)>)"
      ]
     },
     "execution_count": 204,
     "metadata": {},
     "output_type": "execute_result"
    }
   ],
   "source": [
    "t = tf.ones((4, 5))\n",
    "ind = tf.constant([[0, 1], [1, 1]])\n",
    "updates = tf.constant([1, 2] , dtype=t.dtype)\n",
    "t, tf.tensor_scatter_nd_add(tensor=t, indices=ind, updates=updates)"
   ]
  },
  {
   "cell_type": "code",
   "execution_count": 205,
   "metadata": {},
   "outputs": [
    {
     "data": {
      "text/plain": [
       "(<tf.Tensor: shape=(4, 5), dtype=float32, numpy=\n",
       " array([[1., 1., 1., 1., 1.],\n",
       "        [1., 1., 1., 1., 1.],\n",
       "        [1., 1., 1., 1., 1.],\n",
       "        [1., 1., 1., 1., 1.]], dtype=float32)>,\n",
       " <tf.Tensor: shape=(4, 5), dtype=float32, numpy=\n",
       " array([[1., 3., 1., 1., 1.],\n",
       "        [1., 3., 1., 1., 1.],\n",
       "        [1., 1., 1., 1., 1.],\n",
       "        [1., 1., 1., 1., 1.]], dtype=float32)>)"
      ]
     },
     "execution_count": 205,
     "metadata": {},
     "output_type": "execute_result"
    }
   ],
   "source": [
    "t = tf.ones((4, 5))\n",
    "ind = tf.constant([[0, 1], [1, 1], [0, 1]])\n",
    "updates = tf.constant([1, 2, 1] , dtype=t.dtype)\n",
    "t, tf.tensor_scatter_nd_add(tensor=t, indices=ind, updates=updates)"
   ]
  },
  {
   "cell_type": "code",
   "execution_count": 206,
   "metadata": {},
   "outputs": [
    {
     "data": {
      "text/plain": [
       "(<tf.Tensor: shape=(4, 5), dtype=float32, numpy=\n",
       " array([[0., 0., 0., 0., 0.],\n",
       "        [0., 0., 0., 0., 0.],\n",
       "        [0., 0., 0., 0., 0.],\n",
       "        [0., 0., 0., 0., 0.]], dtype=float32)>,\n",
       " <tf.Tensor: shape=(2, 5), dtype=float32, numpy=\n",
       " array([[1., 1., 1., 1., 1.],\n",
       "        [1., 1., 1., 1., 1.]], dtype=float32)>,\n",
       " <tf.Tensor: shape=(4, 5), dtype=float32, numpy=\n",
       " array([[2., 2., 2., 2., 2.],\n",
       "        [0., 0., 0., 0., 0.],\n",
       "        [0., 0., 0., 0., 0.],\n",
       "        [0., 0., 0., 0., 0.]], dtype=float32)>)"
      ]
     },
     "execution_count": 206,
     "metadata": {},
     "output_type": "execute_result"
    }
   ],
   "source": [
    "t = tf.zeros((4, 5))\n",
    "ind = tf.constant([[0], [0]])\n",
    "updates = tf.constant([[1]*5, [1]*5] , dtype=t.dtype)\n",
    "t, updates, tf.tensor_scatter_nd_add(tensor=t, indices=ind, updates=updates)"
   ]
  },
  {
   "cell_type": "code",
   "execution_count": 207,
   "metadata": {},
   "outputs": [
    {
     "data": {
      "text/plain": [
       "(<tf.Tensor: shape=(4, 5), dtype=float32, numpy=\n",
       " array([[1., 1., 1., 1., 1.],\n",
       "        [1., 1., 1., 1., 1.],\n",
       "        [1., 1., 1., 1., 1.],\n",
       "        [1., 1., 1., 1., 1.]], dtype=float32)>,\n",
       " <tf.Tensor: shape=(2, 5), dtype=float32, numpy=\n",
       " array([[ 1.,  3.,  5.,  2.,  0.],\n",
       "        [ 3., 10.,  5., 17., -1.]], dtype=float32)>,\n",
       " <tf.Tensor: shape=(4, 5), dtype=float32, numpy=\n",
       " array([[ 3., 10.,  5., 17.,  1.],\n",
       "        [ 1.,  1.,  1.,  1.,  1.],\n",
       "        [ 1.,  1.,  1.,  1.,  1.],\n",
       "        [ 1.,  1.,  1.,  1.,  1.]], dtype=float32)>)"
      ]
     },
     "execution_count": 207,
     "metadata": {},
     "output_type": "execute_result"
    }
   ],
   "source": [
    "t = tf.ones((4, 5))\n",
    "ind = tf.constant([[0], [0]])\n",
    "updates = tf.constant([[1, 3, 5, 2, 0], [3, 10, 5, 17, -1]] , dtype=t.dtype)\n",
    "t, updates, tf.tensor_scatter_nd_max(tensor=t, indices=ind, updates=updates)"
   ]
  },
  {
   "cell_type": "code",
   "execution_count": 208,
   "metadata": {},
   "outputs": [
    {
     "data": {
      "text/plain": [
       "(<tf.Tensor: shape=(4, 5), dtype=float32, numpy=\n",
       " array([[1., 1., 1., 1., 1.],\n",
       "        [1., 1., 1., 1., 1.],\n",
       "        [1., 1., 1., 1., 1.],\n",
       "        [1., 1., 1., 1., 1.]], dtype=float32)>,\n",
       " <tf.Tensor: shape=(2, 5), dtype=float32, numpy=\n",
       " array([[ 1.,  3.,  5.,  2.,  0.],\n",
       "        [ 3., 10.,  5., 17., -1.]], dtype=float32)>,\n",
       " <tf.Tensor: shape=(4, 5), dtype=float32, numpy=\n",
       " array([[ 1.,  1.,  1.,  1., -1.],\n",
       "        [ 1.,  1.,  1.,  1.,  1.],\n",
       "        [ 1.,  1.,  1.,  1.,  1.],\n",
       "        [ 1.,  1.,  1.,  1.,  1.]], dtype=float32)>)"
      ]
     },
     "execution_count": 208,
     "metadata": {},
     "output_type": "execute_result"
    }
   ],
   "source": [
    "t = tf.ones((4, 5))\n",
    "ind = tf.constant([[0], [0]])\n",
    "updates = tf.constant([[1, 3, 5, 2, 0], [3, 10, 5, 17, -1]] , dtype=t.dtype)\n",
    "t, updates, tf.tensor_scatter_nd_min(tensor=t, indices=ind, updates=updates)"
   ]
  },
  {
   "cell_type": "code",
   "execution_count": 209,
   "metadata": {},
   "outputs": [
    {
     "data": {
      "text/plain": [
       "(<tf.Tensor: shape=(4, 5), dtype=float32, numpy=\n",
       " array([[1., 1., 1., 1., 1.],\n",
       "        [1., 1., 1., 1., 1.],\n",
       "        [1., 1., 1., 1., 1.],\n",
       "        [1., 1., 1., 1., 1.]], dtype=float32)>,\n",
       " <tf.Tensor: shape=(2, 5), dtype=float32, numpy=\n",
       " array([[ 1.,  3.,  5.,  2.,  0.],\n",
       "        [ 3., 10.,  5., 17., -1.]], dtype=float32)>,\n",
       " <tf.Tensor: shape=(4, 5), dtype=float32, numpy=\n",
       " array([[1., 3., 5., 2., 0.],\n",
       "        [1., 1., 1., 1., 1.],\n",
       "        [1., 1., 1., 1., 1.],\n",
       "        [1., 1., 1., 1., 1.]], dtype=float32)>)"
      ]
     },
     "execution_count": 209,
     "metadata": {},
     "output_type": "execute_result"
    }
   ],
   "source": [
    "t = tf.ones((4, 5))\n",
    "ind = tf.constant([[0], [0]])\n",
    "updates = tf.constant([[1, 3, 5, 2, 0], [3, 10, 5, 17, -1]] , dtype=t.dtype)\n",
    "t, updates, tf.tensor_scatter_nd_update(tensor=t, indices=ind, updates=updates)"
   ]
  },
  {
   "cell_type": "code",
   "execution_count": 210,
   "metadata": {},
   "outputs": [
    {
     "data": {
      "text/plain": [
       "(<tf.Tensor: shape=(4, 5), dtype=float32, numpy=\n",
       " array([[1., 1., 1., 1., 1.],\n",
       "        [1., 1., 1., 1., 1.],\n",
       "        [1., 1., 1., 1., 1.],\n",
       "        [1., 1., 1., 1., 1.]], dtype=float32)>,\n",
       " <tf.Tensor: shape=(2, 5), dtype=float32, numpy=\n",
       " array([[ 1.,  3.,  5.,  2.,  0.],\n",
       "        [ 3., 10.,  5., 17., -1.]], dtype=float32)>,\n",
       " <tf.Tensor: shape=(4, 5), dtype=float32, numpy=\n",
       " array([[ 1.,  3.,  5.,  2.,  0.],\n",
       "        [ 3., 10.,  5., 17., -1.],\n",
       "        [ 1.,  1.,  1.,  1.,  1.],\n",
       "        [ 1.,  1.,  1.,  1.,  1.]], dtype=float32)>)"
      ]
     },
     "execution_count": 210,
     "metadata": {},
     "output_type": "execute_result"
    }
   ],
   "source": [
    "t = tf.ones((4, 5))\n",
    "ind = tf.constant([[0], [1]])\n",
    "updates = tf.constant([[1, 3, 5, 2, 0], [3, 10, 5, 17, -1]] , dtype=t.dtype)\n",
    "t, updates, tf.tensor_scatter_nd_update(tensor=t, indices=ind, updates=updates)"
   ]
  },
  {
   "cell_type": "code",
   "execution_count": 211,
   "metadata": {},
   "outputs": [
    {
     "data": {
      "text/plain": [
       "(<tf.Tensor: shape=(2, 4, 5), dtype=int32, numpy=\n",
       " array([[[ 0,  1,  2,  3,  4],\n",
       "         [ 5,  6,  7,  8,  9],\n",
       "         [10, 11, 12, 13, 14],\n",
       "         [15, 16, 17, 18, 19]],\n",
       " \n",
       "        [[20, 21, 22, 23, 24],\n",
       "         [25, 26, 27, 28, 29],\n",
       "         [30, 31, 32, 33, 34],\n",
       "         [35, 36, 37, 38, 39]]], dtype=int32)>,\n",
       " <tf.Tensor: shape=(4, 2, 5), dtype=int32, numpy=\n",
       " array([[[ 0,  1,  2,  3,  4],\n",
       "         [ 5,  6,  7,  8,  9]],\n",
       " \n",
       "        [[10, 11, 12, 13, 14],\n",
       "         [15, 16, 17, 18, 19]],\n",
       " \n",
       "        [[20, 21, 22, 23, 24],\n",
       "         [25, 26, 27, 28, 29]],\n",
       " \n",
       "        [[30, 31, 32, 33, 34],\n",
       "         [35, 36, 37, 38, 39]]], dtype=int32)>,\n",
       " <tf.Tensor: shape=(5, 5), dtype=int32, numpy=\n",
       " array([[3150, 3290, 3430, 3570, 3710],\n",
       "        [3290, 3438, 3586, 3734, 3882],\n",
       "        [3430, 3586, 3742, 3898, 4054],\n",
       "        [3570, 3734, 3898, 4062, 4226],\n",
       "        [3710, 3882, 4054, 4226, 4398]], dtype=int32)>)"
      ]
     },
     "execution_count": 211,
     "metadata": {},
     "output_type": "execute_result"
    }
   ],
   "source": [
    "x = tf.constant(tf.range(2*4*5), shape=(2, 4, 5))\n",
    "y = tf.constant(tf.range(2*4*5), shape=(4, 2, 5))\n",
    "x, y, tf.tensordot(x, y, axes=([1, 0], [0, 1]))"
   ]
  },
  {
   "cell_type": "code",
   "execution_count": 212,
   "metadata": {},
   "outputs": [
    {
     "data": {
      "text/plain": [
       "(<tf.Tensor: shape=(10,), dtype=int64, numpy=array([5, 0, 3, 3, 7, 9, 3, 5, 2, 4])>,\n",
       " Unique(y=<tf.Tensor: shape=(7,), dtype=int64, numpy=array([5, 0, 3, 7, 9, 2, 4])>, idx=<tf.Tensor: shape=(10,), dtype=int32, numpy=array([0, 1, 2, 2, 3, 4, 2, 0, 5, 6], dtype=int32)>))"
      ]
     },
     "execution_count": 212,
     "metadata": {},
     "output_type": "execute_result"
    }
   ],
   "source": [
    "np.random.seed(0)\n",
    "x = tf.constant(np.random.randint(0, 10, (10,)))\n",
    "x, tf.unique(x)"
   ]
  },
  {
   "cell_type": "code",
   "execution_count": 213,
   "metadata": {},
   "outputs": [
    {
     "data": {
      "text/plain": [
       "(<tf.Tensor: shape=(10,), dtype=int64, numpy=array([5, 0, 3, 3, 7, 9, 3, 5, 2, 4])>,\n",
       " UniqueWithCounts(y=<tf.Tensor: shape=(7,), dtype=int64, numpy=array([5, 0, 3, 7, 9, 2, 4])>, idx=<tf.Tensor: shape=(10,), dtype=int32, numpy=array([0, 1, 2, 2, 3, 4, 2, 0, 5, 6], dtype=int32)>, count=<tf.Tensor: shape=(7,), dtype=int32, numpy=array([2, 1, 3, 1, 1, 1, 1], dtype=int32)>))"
      ]
     },
     "execution_count": 213,
     "metadata": {},
     "output_type": "execute_result"
    }
   ],
   "source": [
    "np.random.seed(0)\n",
    "x = tf.constant(np.random.randint(0, 10, (10,)))\n",
    "x, tf.unique_with_counts(x)"
   ]
  },
  {
   "cell_type": "code",
   "execution_count": 214,
   "metadata": {},
   "outputs": [
    {
     "name": "stdout",
     "output_type": "stream",
     "text": [
      "{{function_node __wrapped__UniqueWithCounts_device_/job:localhost/replica:0/task:0/device:GPU:0}} unique expects a 1D vector. [Op:UniqueWithCounts]\n"
     ]
    }
   ],
   "source": [
    "np.random.seed(0)\n",
    "x = tf.constant(np.random.randint(0, 10, (10,5)))\n",
    "try:\n",
    "    x, tf.unique_with_counts(x)\n",
    "except Exception as e:\n",
    "    print(e)"
   ]
  },
  {
   "cell_type": "code",
   "execution_count": 215,
   "metadata": {},
   "outputs": [
    {
     "data": {
      "text/plain": [
       "<tf.Tensor: shape=(2, 1), dtype=int32, numpy=\n",
       "array([[1],\n",
       "       [1]], dtype=int32)>"
      ]
     },
     "execution_count": 215,
     "metadata": {},
     "output_type": "execute_result"
    }
   ],
   "source": [
    "tf.unravel_index([5,], dims=[3, 4])"
   ]
  },
  {
   "cell_type": "code",
   "execution_count": 216,
   "metadata": {},
   "outputs": [
    {
     "data": {
      "text/plain": [
       "(<tf.Tensor: shape=(4, 5), dtype=int32, numpy=\n",
       " array([[ 0,  1,  2,  3,  4],\n",
       "        [ 5,  6,  7,  8,  9],\n",
       "        [10, 11, 12, 13, 14],\n",
       "        [15, 16, 17, 18, 19]], dtype=int32)>,\n",
       " <tf.Tensor: shape=(2, 4), dtype=int32, numpy=\n",
       " array([[0, 0, 0, 1],\n",
       "        [3, 0, 2, 1]], dtype=int32)>)"
      ]
     },
     "execution_count": 216,
     "metadata": {},
     "output_type": "execute_result"
    }
   ],
   "source": [
    "x = tf.constant(tf.range(4*5), shape=(4, 5))\n",
    "x, tf.unravel_index([3, 0, 2, 5], dims=[3, 4])"
   ]
  },
  {
   "cell_type": "code",
   "execution_count": 217,
   "metadata": {},
   "outputs": [
    {
     "data": {
      "text/plain": [
       "(<tf.Tensor: shape=(4,), dtype=int32, numpy=array([10, 35, 60, 85], dtype=int32)>,\n",
       " <tf.Tensor: shape=(4, 1), dtype=int32, numpy=\n",
       " array([[10],\n",
       "        [35],\n",
       "        [60],\n",
       "        [85]], dtype=int32)>)"
      ]
     },
     "execution_count": 217,
     "metadata": {},
     "output_type": "execute_result"
    }
   ],
   "source": [
    "y = tf.ones(5, dtype=tf.int32)\n",
    "def matmul(x):\n",
    "    return tf.tensordot(x, y, axes=(0, 0))\n",
    "\n",
    "x = tf.constant(tf.range(4*5), shape=(4, 5))\n",
    "tf.vectorized_map(matmul, x), tf.matmul(x, tf.expand_dims(y, 1))"
   ]
  },
  {
   "cell_type": "code",
   "execution_count": null,
   "metadata": {},
   "outputs": [],
   "source": []
  }
 ],
 "metadata": {
  "kernelspec": {
   "display_name": "env_dl",
   "language": "python",
   "name": "python3"
  },
  "language_info": {
   "codemirror_mode": {
    "name": "ipython",
    "version": 3
   },
   "file_extension": ".py",
   "mimetype": "text/x-python",
   "name": "python",
   "nbconvert_exporter": "python",
   "pygments_lexer": "ipython3",
   "version": "3.10.0"
  }
 },
 "nbformat": 4,
 "nbformat_minor": 2
}
