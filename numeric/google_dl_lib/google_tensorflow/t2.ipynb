{
 "cells": [
  {
   "cell_type": "code",
   "execution_count": 1,
   "metadata": {},
   "outputs": [
    {
     "name": "stderr",
     "output_type": "stream",
     "text": [
      "2024-01-03 12:02:33.563206: I tensorflow/core/platform/cpu_feature_guard.cc:182] This TensorFlow binary is optimized to use available CPU instructions in performance-critical operations.\n",
      "To enable the following instructions: AVX2 FMA, in other operations, rebuild TensorFlow with the appropriate compiler flags.\n",
      "2024-01-03 12:02:35.735670: I tensorflow/compiler/xla/stream_executor/cuda/cuda_gpu_executor.cc:996] successful NUMA node read from SysFS had negative value (-1), but there must be at least one NUMA node, so returning NUMA node zero. See more at https://github.com/torvalds/linux/blob/v6.0/Documentation/ABI/testing/sysfs-bus-pci#L344-L355\n",
      "2024-01-03 12:02:35.755948: I tensorflow/compiler/xla/stream_executor/cuda/cuda_gpu_executor.cc:996] successful NUMA node read from SysFS had negative value (-1), but there must be at least one NUMA node, so returning NUMA node zero. See more at https://github.com/torvalds/linux/blob/v6.0/Documentation/ABI/testing/sysfs-bus-pci#L344-L355\n",
      "2024-01-03 12:02:35.756175: I tensorflow/compiler/xla/stream_executor/cuda/cuda_gpu_executor.cc:996] successful NUMA node read from SysFS had negative value (-1), but there must be at least one NUMA node, so returning NUMA node zero. See more at https://github.com/torvalds/linux/blob/v6.0/Documentation/ABI/testing/sysfs-bus-pci#L344-L355\n"
     ]
    }
   ],
   "source": [
    "%load_ext autoreload\n",
    "%autoreload 2\n",
    "import tensorflow as tf\n",
    "import numpy as np\n",
    "gpus = tf.config.experimental.list_physical_devices(device_type=\"GPU\")\n",
    "for gpu in gpus:\n",
    "    tf.config.experimental.set_memory_growth(gpu, True)"
   ]
  },
  {
   "cell_type": "code",
   "execution_count": 4,
   "metadata": {},
   "outputs": [
    {
     "data": {
      "text/plain": [
       "<tf.Variable 'Variable:0' shape=(6,) dtype=float32, numpy=array([0., 1., 2., 3., 4., 5.], dtype=float32)>"
      ]
     },
     "execution_count": 4,
     "metadata": {},
     "output_type": "execute_result"
    }
   ],
   "source": [
    "x = tf.Variable(tf.range(6, dtype=float), )\n",
    "x"
   ]
  },
  {
   "cell_type": "code",
   "execution_count": 5,
   "metadata": {},
   "outputs": [
    {
     "data": {
      "text/plain": [
       "<tf.Tensor: shape=(6,), dtype=float32, numpy=array([0., 1., 2., 3., 4., 5.], dtype=float32)>"
      ]
     },
     "execution_count": 5,
     "metadata": {},
     "output_type": "execute_result"
    }
   ],
   "source": [
    "y = tf.identity(x)\n",
    "y"
   ]
  },
  {
   "cell_type": "code",
   "execution_count": 6,
   "metadata": {},
   "outputs": [
    {
     "data": {
      "text/plain": [
       "<tf.Variable 'UnreadVariable' shape=(6,) dtype=float32, numpy=array([-1.,  1.,  2.,  3.,  4.,  5.], dtype=float32)>"
      ]
     },
     "execution_count": 6,
     "metadata": {},
     "output_type": "execute_result"
    }
   ],
   "source": [
    "x[0].assign(-1.)"
   ]
  },
  {
   "cell_type": "code",
   "execution_count": 7,
   "metadata": {},
   "outputs": [
    {
     "data": {
      "text/plain": [
       "<tf.Variable 'Variable:0' shape=(6,) dtype=float32, numpy=array([-1.,  1.,  2.,  3.,  4.,  5.], dtype=float32)>"
      ]
     },
     "execution_count": 7,
     "metadata": {},
     "output_type": "execute_result"
    }
   ],
   "source": [
    "x"
   ]
  },
  {
   "cell_type": "code",
   "execution_count": 9,
   "metadata": {},
   "outputs": [
    {
     "data": {
      "text/plain": [
       "<tf.Variable 'UnreadVariable' shape=(6,) dtype=float32, numpy=array([0., 0., 0., 0., 0., 0.], dtype=float32)>"
      ]
     },
     "execution_count": 9,
     "metadata": {},
     "output_type": "execute_result"
    }
   ],
   "source": [
    "z = tf.Variable(x) # New tensor\n",
    "x.assign([0.] * 6)"
   ]
  },
  {
   "cell_type": "code",
   "execution_count": 10,
   "metadata": {},
   "outputs": [
    {
     "data": {
      "text/plain": [
       "<tf.Variable 'Variable:0' shape=(6,) dtype=float32, numpy=array([-1.,  1.,  2.,  3.,  4.,  5.], dtype=float32)>"
      ]
     },
     "execution_count": 10,
     "metadata": {},
     "output_type": "execute_result"
    }
   ],
   "source": [
    "z"
   ]
  },
  {
   "cell_type": "code",
   "execution_count": 11,
   "metadata": {},
   "outputs": [
    {
     "data": {
      "text/plain": [
       "<tf.Variable 'Variable:0' shape=(6,) dtype=float32, numpy=array([0., 0., 0., 0., 0., 0.], dtype=float32)>"
      ]
     },
     "execution_count": 11,
     "metadata": {},
     "output_type": "execute_result"
    }
   ],
   "source": [
    "x"
   ]
  },
  {
   "cell_type": "code",
   "execution_count": 20,
   "metadata": {},
   "outputs": [
    {
     "data": {
      "text/plain": [
       "<tf.Variable 'Variable:0' shape=<unknown> dtype=float32, numpy=1.0>"
      ]
     },
     "execution_count": 20,
     "metadata": {},
     "output_type": "execute_result"
    }
   ],
   "source": [
    "x = tf.Variable(1., shape=tf.TensorShape(None))\n",
    "x"
   ]
  },
  {
   "cell_type": "code",
   "execution_count": 21,
   "metadata": {},
   "outputs": [
    {
     "data": {
      "text/plain": [
       "<tf.Variable 'UnreadVariable' shape=<unknown> dtype=float32, numpy=array([[2., 3.]], dtype=float32)>"
      ]
     },
     "execution_count": 21,
     "metadata": {},
     "output_type": "execute_result"
    }
   ],
   "source": [
    "x.assign([[2., 3.]])"
   ]
  },
  {
   "cell_type": "code",
   "execution_count": 22,
   "metadata": {},
   "outputs": [
    {
     "data": {
      "text/plain": [
       "<tf.Variable 'UnreadVariable' shape=<unknown> dtype=float32, numpy=\n",
       "array([[2., 3.],\n",
       "       [4., 0.]], dtype=float32)>"
      ]
     },
     "execution_count": 22,
     "metadata": {},
     "output_type": "execute_result"
    }
   ],
   "source": [
    "x.assign([[2., 3.], [4.0, 0.]])"
   ]
  },
  {
   "cell_type": "code",
   "execution_count": 24,
   "metadata": {},
   "outputs": [
    {
     "data": {
      "text/plain": [
       "TensorSpec(shape=(6,), dtype=tf.float32, name=None)"
      ]
     },
     "execution_count": 24,
     "metadata": {},
     "output_type": "execute_result"
    }
   ],
   "source": [
    "tf.TensorSpec.from_tensor(y)"
   ]
  },
  {
   "cell_type": "code",
   "execution_count": 28,
   "metadata": {},
   "outputs": [],
   "source": [
    "x = tf.Variable(1.0, )"
   ]
  },
  {
   "cell_type": "code",
   "execution_count": 29,
   "metadata": {},
   "outputs": [
    {
     "data": {
      "text/plain": [
       "<tf.Variable 'Variable:0' shape=() dtype=float32, numpy=2.0>"
      ]
     },
     "execution_count": 29,
     "metadata": {},
     "output_type": "execute_result"
    }
   ],
   "source": [
    "x.assign(2.)\n",
    "x"
   ]
  },
  {
   "cell_type": "code",
   "execution_count": 30,
   "metadata": {},
   "outputs": [
    {
     "data": {
      "text/plain": [
       "<tf.Variable 'Variable:0' shape=() dtype=float32, numpy=0.0>"
      ]
     },
     "execution_count": 30,
     "metadata": {},
     "output_type": "execute_result"
    }
   ],
   "source": [
    "x.assign_add(-2.)\n",
    "x"
   ]
  },
  {
   "cell_type": "code",
   "execution_count": 31,
   "metadata": {},
   "outputs": [
    {
     "data": {
      "text/plain": [
       "<tf.Variable 'Variable:0' shape=() dtype=float32, numpy=-4.0>"
      ]
     },
     "execution_count": 31,
     "metadata": {},
     "output_type": "execute_result"
    }
   ],
   "source": [
    "x.assign_sub(4.)\n",
    "x"
   ]
  },
  {
   "cell_type": "code",
   "execution_count": 35,
   "metadata": {},
   "outputs": [
    {
     "data": {
      "text/plain": [
       "([], TensorShape([]), <tf.Tensor: shape=(), dtype=float32, numpy=-4.0>)"
      ]
     },
     "execution_count": 35,
     "metadata": {},
     "output_type": "execute_result"
    }
   ],
   "source": [
    "x.get_shape().as_list(), x.shape, x.read_value()"
   ]
  },
  {
   "cell_type": "code",
   "execution_count": 38,
   "metadata": {},
   "outputs": [
    {
     "data": {
      "text/plain": [
       "True"
      ]
     },
     "execution_count": 38,
     "metadata": {},
     "output_type": "execute_result"
    }
   ],
   "source": [
    "x.ref() == x.ref()"
   ]
  },
  {
   "cell_type": "code",
   "execution_count": 41,
   "metadata": {},
   "outputs": [
    {
     "data": {
      "text/plain": [
       "False"
      ]
     },
     "execution_count": 41,
     "metadata": {},
     "output_type": "execute_result"
    }
   ],
   "source": [
    "z = tf.Variable(x, name=x.name, shape=tf.TensorShape(None))\n",
    "z.ref() == x.ref()"
   ]
  },
  {
   "cell_type": "code",
   "execution_count": 42,
   "metadata": {},
   "outputs": [
    {
     "data": {
      "text/plain": [
       "<tf.Variable 'Variable:0:0' shape=(4, 4) dtype=float32, numpy=-4.0>"
      ]
     },
     "execution_count": 42,
     "metadata": {},
     "output_type": "execute_result"
    }
   ],
   "source": [
    "z.set_shape((4, 4))\n",
    "z"
   ]
  },
  {
   "cell_type": "code",
   "execution_count": 43,
   "metadata": {},
   "outputs": [
    {
     "data": {
      "text/plain": [
       "-4.0"
      ]
     },
     "execution_count": 43,
     "metadata": {},
     "output_type": "execute_result"
    }
   ],
   "source": [
    "z.numpy()"
   ]
  },
  {
   "cell_type": "code",
   "execution_count": 45,
   "metadata": {},
   "outputs": [
    {
     "name": "stdout",
     "output_type": "stream",
     "text": [
      "WARNING:tensorflow:From /env_dl/lib/python3.10/site-packages/tensorflow/python/util/dispatch.py:1176: div (from tensorflow.python.ops.math_ops) is deprecated and will be removed in a future version.\n",
      "Instructions for updating:\n",
      "Deprecated in favor of operator or tf.math.divide.\n"
     ]
    },
    {
     "data": {
      "text/plain": [
       "<tf.Variable 'Variable:0' shape=() dtype=float32, numpy=-4.0>"
      ]
     },
     "execution_count": 45,
     "metadata": {},
     "output_type": "execute_result"
    }
   ],
   "source": [
    "x.__div__(2.0)\n",
    "x"
   ]
  },
  {
   "cell_type": "code",
   "execution_count": 48,
   "metadata": {},
   "outputs": [
    {
     "data": {
      "text/plain": [
       "<tf.Tensor: shape=(3,), dtype=float32, numpy=array([0., 2., 4.], dtype=float32)>"
      ]
     },
     "execution_count": 48,
     "metadata": {},
     "output_type": "execute_result"
    }
   ],
   "source": [
    "x = tf.Variable(tf.range(3.))\n",
    "with tf.GradientTape() as tape:\n",
    "    y = tf.reduce_sum(x**2) \n",
    "\n",
    "g = tape.gradient(y, x)\n",
    "g"
   ]
  },
  {
   "cell_type": "code",
   "execution_count": 50,
   "metadata": {},
   "outputs": [
    {
     "data": {
      "text/plain": [
       "<tf.Tensor: shape=(3,), dtype=float32, numpy=array([2., 2., 2.], dtype=float32)>"
      ]
     },
     "execution_count": 50,
     "metadata": {},
     "output_type": "execute_result"
    }
   ],
   "source": [
    "x = tf.Variable(tf.range(3.))\n",
    "with tf.GradientTape() as tape:\n",
    "    y = 2*x\n",
    "\n",
    "g = tape.gradient(y, x) # dy/dx = dy1/dx +  dy2/dx + dy3/dx\n",
    "g"
   ]
  },
  {
   "cell_type": "code",
   "execution_count": 51,
   "metadata": {},
   "outputs": [
    {
     "data": {
      "text/plain": [
       "<tf.Tensor: shape=(3,), dtype=float32, numpy=array([1.        , 0.5       , 0.33333334], dtype=float32)>"
      ]
     },
     "execution_count": 51,
     "metadata": {},
     "output_type": "execute_result"
    }
   ],
   "source": [
    "x = tf.Variable(tf.range(3.) + 1)\n",
    "with tf.GradientTape() as tape:\n",
    "    y = tf.math.log(x)\n",
    "\n",
    "g = tape.gradient(y, x)\n",
    "g"
   ]
  },
  {
   "cell_type": "code",
   "execution_count": 68,
   "metadata": {},
   "outputs": [
    {
     "name": "stdout",
     "output_type": "stream",
     "text": [
      "<tf.Variable 'Variable:0' shape=(3,) dtype=float32, numpy=array([0., 1., 2.], dtype=float32)> tf.Tensor(2.0, shape=(), dtype=float32)\n"
     ]
    },
    {
     "data": {
      "text/plain": [
       "<tf.Tensor: shape=(3,), dtype=float32, numpy=array([1., 4., 1.], dtype=float32)>"
      ]
     },
     "execution_count": 68,
     "metadata": {},
     "output_type": "execute_result"
    }
   ],
   "source": [
    "x = tf.Variable(tf.range(3.))\n",
    "with tf.GradientTape() as tape:\n",
    "    print(x, x[2])\n",
    "    y = x + x[1] # [x1 + x2, 2*x2,  x2 + x3]\n",
    "g = tape.gradient(y, x)\n",
    "g"
   ]
  },
  {
   "cell_type": "code",
   "execution_count": 70,
   "metadata": {},
   "outputs": [
    {
     "data": {
      "text/plain": [
       "[None]"
      ]
     },
     "execution_count": 70,
     "metadata": {},
     "output_type": "execute_result"
    }
   ],
   "source": [
    "u = tf.Variable(tf.range(3.), trainable=False)\n",
    "with tf.GradientTape() as tape:\n",
    "    y = u + u[1] # [x1 + x2, 2*x2,  x2 + x3]\n",
    "g = tape.gradient(y, [u])\n",
    "g"
   ]
  },
  {
   "cell_type": "code",
   "execution_count": 71,
   "metadata": {},
   "outputs": [
    {
     "data": {
      "text/plain": [
       "[None, None]"
      ]
     },
     "execution_count": 71,
     "metadata": {},
     "output_type": "execute_result"
    }
   ],
   "source": [
    "u = tf.Variable(tf.range(3.), trainable=False)\n",
    "v = tf.constant(4.0)\n",
    "with tf.GradientTape() as tape:\n",
    "    y = v**2\n",
    "g = tape.gradient(y, [u, v])\n",
    "g"
   ]
  },
  {
   "cell_type": "code",
   "execution_count": 73,
   "metadata": {},
   "outputs": [
    {
     "data": {
      "text/plain": [
       "[<tf.Tensor: shape=(3,), dtype=float32, numpy=array([1., 1., 1.], dtype=float32)>,\n",
       " None]"
      ]
     },
     "execution_count": 73,
     "metadata": {},
     "output_type": "execute_result"
    }
   ],
   "source": [
    "u = tf.Variable(tf.range(3.), )\n",
    "v = tf.constant(4.0)\n",
    "with tf.GradientTape() as tape:\n",
    "    y = v**2 + u \n",
    "g = tape.gradient(y, [u, v])\n",
    "g"
   ]
  },
  {
   "cell_type": "code",
   "execution_count": 72,
   "metadata": {},
   "outputs": [
    {
     "data": {
      "text/plain": [
       "[None, None]"
      ]
     },
     "execution_count": 72,
     "metadata": {},
     "output_type": "execute_result"
    }
   ],
   "source": [
    "u = tf.Variable(tf.range(3.), )\n",
    "v = tf.constant(4.0)\n",
    "with tf.GradientTape() as tape:\n",
    "    y = v**2 + tf.stop_gradient(u) # dy/du = 0\n",
    "g = tape.gradient(y, [u, v])\n",
    "g"
   ]
  },
  {
   "cell_type": "code",
   "execution_count": 75,
   "metadata": {},
   "outputs": [
    {
     "data": {
      "text/plain": [
       "[None, <tf.Tensor: shape=(), dtype=float32, numpy=3.0>]"
      ]
     },
     "execution_count": 75,
     "metadata": {},
     "output_type": "execute_result"
    }
   ],
   "source": [
    "u = tf.Variable(tf.range(3.), )\n",
    "v = tf.constant(4.0)\n",
    "with tf.GradientTape() as tape:\n",
    "    tape.watch(v)\n",
    "    y = v + tf.stop_gradient(u) # dy/du = 0\n",
    "g = tape.gradient(y, [u, v])\n",
    "g"
   ]
  },
  {
   "cell_type": "code",
   "execution_count": 76,
   "metadata": {},
   "outputs": [
    {
     "data": {
      "text/plain": [
       "[None, <tf.Tensor: shape=(), dtype=float32, numpy=24.0>]"
      ]
     },
     "execution_count": 76,
     "metadata": {},
     "output_type": "execute_result"
    }
   ],
   "source": [
    "u = tf.Variable(tf.range(3.), )\n",
    "v = tf.constant(4.0)\n",
    "with tf.GradientTape() as tape:\n",
    "    tape.watch(v)\n",
    "    y = v**2 + tf.stop_gradient(u) # dy/du = 0\n",
    "g = tape.gradient(y, [u, v])\n",
    "g"
   ]
  },
  {
   "cell_type": "code",
   "execution_count": 78,
   "metadata": {},
   "outputs": [
    {
     "data": {
      "text/plain": [
       "[None, None]"
      ]
     },
     "execution_count": 78,
     "metadata": {},
     "output_type": "execute_result"
    }
   ],
   "source": [
    "u = tf.Variable(tf.range(3.), )\n",
    "v = tf.constant(4.0)\n",
    "with tf.GradientTape() as tape:\n",
    "    tape.watch(v)\n",
    "    y = v**2 + tf.stop_gradient(u) # dy/du = 0\n",
    "g = tape.gradient([y[0], y[1]], [u, v])\n",
    "g"
   ]
  },
  {
   "cell_type": "code",
   "execution_count": 83,
   "metadata": {},
   "outputs": [
    {
     "data": {
      "text/plain": [
       "{'u': None, 'v': None}"
      ]
     },
     "execution_count": 83,
     "metadata": {},
     "output_type": "execute_result"
    }
   ],
   "source": [
    "u = tf.Variable(tf.range(3.), )\n",
    "v = tf.constant(4.0)\n",
    "with tf.GradientTape() as tape:\n",
    "    tape.watch(v)\n",
    "    y = v**2 + tf.stop_gradient(u) # dy/du = 0\n",
    "g = tape.gradient({\"y\": y[0]}, {\"u\": u, \"v\": v})\n",
    "g"
   ]
  },
  {
   "cell_type": "code",
   "execution_count": 85,
   "metadata": {},
   "outputs": [
    {
     "data": {
      "text/plain": [
       "{'u': None, 'v': <tf.Tensor: shape=(), dtype=float32, numpy=30.0>}"
      ]
     },
     "execution_count": 85,
     "metadata": {},
     "output_type": "execute_result"
    }
   ],
   "source": [
    "u = tf.Variable(tf.range(3.), )\n",
    "v = tf.constant(4.0)\n",
    "with tf.GradientTape() as tape:\n",
    "    tape.watch(v)\n",
    "    y = v**2 + tf.stop_gradient(u) # dy/du = 0\n",
    "    z = 6*v\n",
    "g = tape.gradient([z, y], {\"u\": u, \"v\": v})\n",
    "g"
   ]
  },
  {
   "cell_type": "code",
   "execution_count": 93,
   "metadata": {},
   "outputs": [
    {
     "name": "stdout",
     "output_type": "stream",
     "text": [
      "g1  {'u': None, 'v': <tf.Tensor: shape=(), dtype=float32, numpy=30.0>}\n",
      "g2  {'u': <tf.Tensor: shape=(3,), dtype=float32, numpy=array([1., 1., 1.], dtype=float32)>, 'v': None}\n"
     ]
    }
   ],
   "source": [
    "u = tf.Variable(tf.range(3.), )\n",
    "v = tf.constant(4.0)\n",
    "with tf.GradientTape(watch_accessed_variables=False) as tape1, tf.GradientTape() as tape2:\n",
    "        tape1.watch(v)\n",
    "        # tape2.watch(v)\n",
    "        y = v**2 + u \n",
    "        z = 6*v\n",
    "g1 = tape1.gradient([z, y], {\"u\": u, \"v\": v})\n",
    "g2 = tape2.gradient([z, y], {\"u\": u, \"v\": v})\n",
    "print(\"g1 \", g1)\n",
    "print(\"g2 \", g2)"
   ]
  },
  {
   "cell_type": "code",
   "execution_count": 124,
   "metadata": {},
   "outputs": [
    {
     "data": {
      "text/plain": [
       "([<tf.Tensor: shape=(3,), dtype=float32, numpy=array([1., 1., 1.], dtype=float32)>],\n",
       " [<tf.Tensor: shape=(), dtype=float32, numpy=30.0>])"
      ]
     },
     "execution_count": 124,
     "metadata": {},
     "output_type": "execute_result"
    }
   ],
   "source": [
    "u = tf.Variable(tf.range(3.), )\n",
    "v = tf.constant(4.0)\n",
    "with tf.GradientTape(persistent=True) as tape:\n",
    "    tape.watch(v)\n",
    "    y = v**2 + u\n",
    "    z = 6 * v\n",
    "gu = tape.gradient([z, y], [u])\n",
    "gv = tape.gradient([z, y], [v]) # Possible only when persistent is set to true\n",
    "gu, gv"
   ]
  },
  {
   "cell_type": "code",
   "execution_count": 125,
   "metadata": {},
   "outputs": [
    {
     "data": {
      "text/plain": [
       "[<tf.Tensor: shape=(), dtype=float32, numpy=24.0>]"
      ]
     },
     "execution_count": 125,
     "metadata": {},
     "output_type": "execute_result"
    }
   ],
   "source": [
    "tape.gradient([y], [v]) "
   ]
  },
  {
   "cell_type": "code",
   "execution_count": 126,
   "metadata": {},
   "outputs": [],
   "source": [
    "del tape"
   ]
  },
  {
   "cell_type": "code",
   "execution_count": 127,
   "metadata": {},
   "outputs": [
    {
     "name": "stdout",
     "output_type": "stream",
     "text": [
      "error  name 'tape' is not defined\n"
     ]
    }
   ],
   "source": [
    "try:\n",
    "    tape.gradient([y], [v]) \n",
    "except Exception as e:\n",
    "    print(\"error \", e)"
   ]
  },
  {
   "cell_type": "code",
   "execution_count": 105,
   "metadata": {},
   "outputs": [
    {
     "data": {
      "text/plain": [
       "<tf.Tensor: shape=(3,), dtype=float32, numpy=array([2., 2., 2.], dtype=float32)>"
      ]
     },
     "execution_count": 105,
     "metadata": {},
     "output_type": "execute_result"
    }
   ],
   "source": [
    "u = tf.Variable(tf.range(3.), )\n",
    "with tf.GradientTape(persistent=True) as tape:\n",
    "    y = 2*u + 1\n",
    "g = tape.gradient(y, u, )\n",
    "g"
   ]
  },
  {
   "cell_type": "code",
   "execution_count": 109,
   "metadata": {},
   "outputs": [
    {
     "data": {
      "text/plain": [
       "<tf.Tensor: shape=(3,), dtype=float32, numpy=array([2., 2., 2.], dtype=float32)>"
      ]
     },
     "execution_count": 109,
     "metadata": {},
     "output_type": "execute_result"
    }
   ],
   "source": [
    "u = tf.Variable(tf.range(3.), )\n",
    "with tf.GradientTape(persistent=True) as tape:\n",
    "    y = 2*u + 1\n",
    "g = tape.gradient(y, u, output_gradients=tf.constant([1.0] * 3) ) # dl/ dy\n",
    "g"
   ]
  },
  {
   "cell_type": "code",
   "execution_count": 123,
   "metadata": {},
   "outputs": [
    {
     "data": {
      "text/plain": [
       "<tf.Tensor: shape=(3,), dtype=float32, numpy=array([4., 4., 4.], dtype=float32)>"
      ]
     },
     "execution_count": 123,
     "metadata": {},
     "output_type": "execute_result"
    }
   ],
   "source": [
    "u = tf.Variable(tf.range(3.), )\n",
    "with tf.GradientTape(persistent=True) as tape:\n",
    "    y = 2*u + 1\n",
    "g = tape.gradient(y, u, output_gradients=tf.constant([2.0] * 3) ) # dl/ dy\n",
    "g"
   ]
  },
  {
   "cell_type": "code",
   "execution_count": 114,
   "metadata": {},
   "outputs": [
    {
     "data": {
      "text/plain": [
       "<tf.Tensor: shape=(3,), dtype=float32, numpy=array([5., 5., 5.], dtype=float32)>"
      ]
     },
     "execution_count": 114,
     "metadata": {},
     "output_type": "execute_result"
    }
   ],
   "source": [
    "u = tf.Variable(tf.range(3.), )\n",
    "with tf.GradientTape() as tape:\n",
    "    y = 2*u + 1\n",
    "    z = u + 4\n",
    "g = tape.gradient([y, z], u, output_gradients=[tf.constant([2.0] * 3), tf.constant([1.0] * 3)] ) # dl/ dy\n",
    "g"
   ]
  },
  {
   "cell_type": "code",
   "execution_count": 119,
   "metadata": {},
   "outputs": [
    {
     "data": {
      "text/plain": [
       "<tf.Tensor: shape=(3,), dtype=float32, numpy=array([6., 6., 6.], dtype=float32)>"
      ]
     },
     "execution_count": 119,
     "metadata": {},
     "output_type": "execute_result"
    }
   ],
   "source": [
    "u = tf.Variable(tf.range(3.), )\n",
    "with tf.GradientTape() as tape:\n",
    "    y = 2*u + 1\n",
    "    z = u + 4\n",
    "g = tape.gradient([y, z], u, output_gradients=[tf.constant([2.0] * 3), tf.constant([2.0] * 3),] ) # dl/ dy\n",
    "g"
   ]
  },
  {
   "cell_type": "code",
   "execution_count": 120,
   "metadata": {},
   "outputs": [
    {
     "data": {
      "text/plain": [
       "<tf.Tensor: shape=(3,), dtype=float32, numpy=array([6., 6., 6.], dtype=float32)>"
      ]
     },
     "execution_count": 120,
     "metadata": {},
     "output_type": "execute_result"
    }
   ],
   "source": [
    "u = tf.Variable(tf.range(3.), )\n",
    "with tf.GradientTape() as tape:\n",
    "    y = 2*u + 1\n",
    "    z = u + 4\n",
    "g = tape.gradient([y, z], u, output_gradients=[tf.constant([2.0] * 3), tf.constant([2.0] * 3), tf.constant([2.0] * 3), tf.constant([2.0] * 3)] ) # dl/ dy\n",
    "g"
   ]
  },
  {
   "cell_type": "code",
   "execution_count": 122,
   "metadata": {},
   "outputs": [
    {
     "name": "stdout",
     "output_type": "stream",
     "text": [
      "y:  tf.Tensor([1. 3. 5.], shape=(3,), dtype=float32)\n"
     ]
    },
    {
     "data": {
      "text/plain": [
       "<tf.Tensor: shape=(3,), dtype=float32, numpy=array([ 2.,  6., 10.], dtype=float32)>"
      ]
     },
     "execution_count": 122,
     "metadata": {},
     "output_type": "execute_result"
    }
   ],
   "source": [
    "u = tf.Variable(tf.range(3.), )\n",
    "with tf.GradientTape() as tape:\n",
    "    y = 2*u + 1\n",
    "    print(\"y: \", y)\n",
    "    z = y ** 2\n",
    "g = tape.gradient(z, y)\n",
    "g"
   ]
  },
  {
   "cell_type": "code",
   "execution_count": 139,
   "metadata": {},
   "outputs": [
    {
     "data": {
      "text/plain": [
       "(<tf.Tensor: shape=(3,), dtype=float32, numpy=array([22., 24., 26.], dtype=float32)>,\n",
       " <tf.Tensor: shape=(3, 3), dtype=float32, numpy=\n",
       " array([[12.,  0.,  6.],\n",
       "        [ 0., 24.,  0.],\n",
       "        [10.,  0., 20.]], dtype=float32)>)"
      ]
     },
     "execution_count": 139,
     "metadata": {},
     "output_type": "execute_result"
    }
   ],
   "source": [
    "u = tf.Variable(tf.range(3.), )\n",
    "with tf.GradientTape(persistent=True) as tape:\n",
    "    y = 2*u + 1 + tf.reverse(u, (0,))\n",
    "    z = y**2\n",
    "    l = tf.reduce_sum(z)\n",
    "g = tape.gradient(z, u)\n",
    "jac = tape.jacobian(z, u)\n",
    "g, jac"
   ]
  },
  {
   "cell_type": "code",
   "execution_count": 140,
   "metadata": {},
   "outputs": [
    {
     "name": "stdout",
     "output_type": "stream",
     "text": [
      "WARNING:tensorflow:5 out of the last 5 calls to <function pfor.<locals>.f at 0x7f0384e5cdc0> triggered tf.function retracing. Tracing is expensive and the excessive number of tracings could be due to (1) creating @tf.function repeatedly in a loop, (2) passing tensors with different shapes, (3) passing Python objects instead of tensors. For (1), please define your @tf.function outside of the loop. For (2), @tf.function has reduce_retracing=True option that can avoid unnecessary retracing. For (3), please refer to https://www.tensorflow.org/guide/function#controlling_retracing and https://www.tensorflow.org/api_docs/python/tf/function for  more details.\n"
     ]
    },
    {
     "data": {
      "text/plain": [
       "(<tf.Tensor: shape=(3,), dtype=float32, numpy=array([22., 24., 26.], dtype=float32)>,\n",
       " <tf.Tensor: shape=(3,), dtype=float32, numpy=array([22., 24., 26.], dtype=float32)>)"
      ]
     },
     "execution_count": 140,
     "metadata": {},
     "output_type": "execute_result"
    }
   ],
   "source": [
    "u = tf.Variable(tf.range(3.), )\n",
    "with tf.GradientTape(persistent=True) as tape:\n",
    "    y = 2*u + 1 + tf.reverse(u, (0,))\n",
    "    z = y**2\n",
    "    l = tf.reduce_sum(z)\n",
    "g = tape.gradient(l, u)\n",
    "jac = tape.jacobian(l, u)\n",
    "g, jac"
   ]
  },
  {
   "cell_type": "code",
   "execution_count": 144,
   "metadata": {},
   "outputs": [
    {
     "name": "stdout",
     "output_type": "stream",
     "text": [
      "WARNING:tensorflow:6 out of the last 6 calls to <function pfor.<locals>.f at 0x7f0384e5e680> triggered tf.function retracing. Tracing is expensive and the excessive number of tracings could be due to (1) creating @tf.function repeatedly in a loop, (2) passing tensors with different shapes, (3) passing Python objects instead of tensors. For (1), please define your @tf.function outside of the loop. For (2), @tf.function has reduce_retracing=True option that can avoid unnecessary retracing. For (3), please refer to https://www.tensorflow.org/guide/function#controlling_retracing and https://www.tensorflow.org/api_docs/python/tf/function for  more details.\n"
     ]
    },
    {
     "data": {
      "text/plain": [
       "(<tf.Tensor: shape=(3,), dtype=float32, numpy=array([22., 24., 26.], dtype=float32)>,\n",
       " <tf.Tensor: shape=(3, 3), dtype=float32, numpy=\n",
       " array([[10.,  0.,  8.],\n",
       "        [ 0., 18.,  0.],\n",
       "        [ 8.,  0., 10.]], dtype=float32)>)"
      ]
     },
     "execution_count": 144,
     "metadata": {},
     "output_type": "execute_result"
    }
   ],
   "source": [
    "u = tf.Variable(tf.range(3.), )\n",
    "with tf.GradientTape() as tape1:\n",
    "    with tf.GradientTape() as tape2:\n",
    "        y = 2*u + 1 + tf.reverse(u, (0,))\n",
    "        z = y**2\n",
    "        l = tf.reduce_sum(z)\n",
    "    g = tape2.gradient(l, u)\n",
    "    hess = tape1.jacobian(g, u)\n",
    "g, hess"
   ]
  },
  {
   "cell_type": "code",
   "execution_count": 145,
   "metadata": {},
   "outputs": [
    {
     "data": {
      "text/plain": [
       "[<tf.Tensor: shape=(), dtype=float32, numpy=6.0>, None]"
      ]
     },
     "execution_count": 145,
     "metadata": {},
     "output_type": "execute_result"
    }
   ],
   "source": [
    "u = tf.Variable(1. )\n",
    "v = tf.Variable(2. )\n",
    "with tf.GradientTape() as tape:\n",
    "    u.assign_add(v) # dy,dv = 0\n",
    "    y = u**2 # y = u**2\n",
    "g = tape.gradient(y, [u, v])\n",
    "g"
   ]
  },
  {
   "cell_type": "code",
   "execution_count": 146,
   "metadata": {},
   "outputs": [
    {
     "data": {
      "text/plain": [
       "[<tf.Tensor: shape=(), dtype=float32, numpy=6.0>, None]"
      ]
     },
     "execution_count": 146,
     "metadata": {},
     "output_type": "execute_result"
    }
   ],
   "source": [
    "u = tf.Variable(1. )\n",
    "v = tf.Variable(2. )\n",
    "with tf.GradientTape() as tape:\n",
    "    u.assign_add(v) # dy,dv = 0\n",
    "    y = u**2 # y = u**2\n",
    "    u.assign_add(3.0)\n",
    "g = tape.gradient(y, [u, v])\n",
    "g"
   ]
  },
  {
   "cell_type": "code",
   "execution_count": 147,
   "metadata": {},
   "outputs": [
    {
     "data": {
      "text/plain": [
       "([None], [<tf.Tensor: shape=(), dtype=float32, numpy=1.0>])"
      ]
     },
     "execution_count": 147,
     "metadata": {},
     "output_type": "execute_result"
    }
   ],
   "source": [
    "u = tf.Variable(1. )\n",
    "with tf.GradientTape(persistent=True) as tape:\n",
    "    y = u**2 \n",
    "    tape.reset()\n",
    "    z = u + 1\n",
    "gy = tape.gradient(y, [u])\n",
    "gz = tape.gradient(z, [u])\n",
    "gy, gz"
   ]
  },
  {
   "cell_type": "code",
   "execution_count": 150,
   "metadata": {},
   "outputs": [
    {
     "data": {
      "text/plain": [
       "([<tf.Tensor: shape=(), dtype=float32, numpy=2.0>,\n",
       "  <tf.Tensor: shape=(), dtype=float32, numpy=1.0>],\n",
       " [<tf.Tensor: shape=(), dtype=float32, numpy=4.0>,\n",
       "  <tf.Tensor: shape=(), dtype=float32, numpy=3.0>])"
      ]
     },
     "execution_count": 150,
     "metadata": {},
     "output_type": "execute_result"
    }
   ],
   "source": [
    "u = tf.Variable(1. )\n",
    "v = tf.Variable(1. )\n",
    "with tf.GradientTape(persistent=True) as tape:\n",
    "    y = u**2 + v\n",
    "    z = 2 * y + v\n",
    "gy = tape.gradient(y, [u, v])\n",
    "gz = tape.gradient(z, [u, v])\n",
    "gy, gz"
   ]
  },
  {
   "cell_type": "code",
   "execution_count": 151,
   "metadata": {},
   "outputs": [
    {
     "data": {
      "text/plain": [
       "([None, None], [None, <tf.Tensor: shape=(), dtype=float32, numpy=1.0>])"
      ]
     },
     "execution_count": 151,
     "metadata": {},
     "output_type": "execute_result"
    }
   ],
   "source": [
    "u = tf.Variable(1. )\n",
    "v = tf.Variable(1. )\n",
    "with tf.GradientTape(persistent=True) as tape:\n",
    "    with tape.stop_recording():\n",
    "        y = u**2 + v\n",
    "    z = 2 * y + v\n",
    "gy = tape.gradient(y, [u, v])\n",
    "gz = tape.gradient(z, [u, v])\n",
    "gy, gz"
   ]
  },
  {
   "cell_type": "code",
   "execution_count": 152,
   "metadata": {},
   "outputs": [
    {
     "data": {
      "text/plain": [
       "([None, None], [None, <tf.Tensor: shape=(), dtype=float32, numpy=1.0>])"
      ]
     },
     "execution_count": 152,
     "metadata": {},
     "output_type": "execute_result"
    }
   ],
   "source": [
    "u = tf.Variable(1. )\n",
    "v = tf.Variable(1. )\n",
    "with tf.GradientTape(persistent=True) as tape:\n",
    "    z = 2 * tf.stop_gradient(y) + v\n",
    "gy = tape.gradient(y, [u, v])\n",
    "gz = tape.gradient(z, [u, v])\n",
    "gy, gz"
   ]
  },
  {
   "cell_type": "code",
   "execution_count": 156,
   "metadata": {},
   "outputs": [
    {
     "data": {
      "text/plain": [
       "(<tf.Variable 'Variable:0' shape=() dtype=float32, numpy=1.0>,)"
      ]
     },
     "execution_count": 156,
     "metadata": {},
     "output_type": "execute_result"
    }
   ],
   "source": [
    "tape.watched_variables()"
   ]
  },
  {
   "cell_type": "code",
   "execution_count": 159,
   "metadata": {},
   "outputs": [
    {
     "name": "stdout",
     "output_type": "stream",
     "text": [
      "dx  tf.Tensor(1.0, shape=(), dtype=float32)\n"
     ]
    },
    {
     "data": {
      "text/plain": [
       "<tf.Tensor: shape=(), dtype=float32, numpy=0.99999994>"
      ]
     },
     "execution_count": 159,
     "metadata": {},
     "output_type": "execute_result"
    }
   ],
   "source": [
    "@tf.custom_gradient\n",
    "def sin(x):\n",
    "    def backward(dx):\n",
    "        print(\"dx \", dx)\n",
    "        return 2 * tf.cos(x) * dx\n",
    "    return tf.sin(x), backward\n",
    "u = tf.Variable(tf.experimental.numpy.pi / 3.)\n",
    "with tf.GradientTape() as tape:\n",
    "    y = sin(u)\n",
    "g = tape.gradient(y, u)\n",
    "g   "
   ]
  },
  {
   "cell_type": "code",
   "execution_count": 174,
   "metadata": {},
   "outputs": [
    {
     "data": {
      "text/plain": [
       "<tf.Tensor: shape=(), dtype=float64, numpy=nan>"
      ]
     },
     "execution_count": 174,
     "metadata": {},
     "output_type": "execute_result"
    }
   ],
   "source": [
    "tf.cast(tf.math.exp(100.), dtype=tf.float64) / (1 + tf.cast(tf.math.exp(100.), dtype=tf.float64) ) "
   ]
  },
  {
   "cell_type": "code",
   "execution_count": 202,
   "metadata": {},
   "outputs": [
    {
     "data": {
      "text/plain": [
       "<tf.Tensor: shape=(1, 5), dtype=float32, numpy=array([[7., 7., 7., 7., 7.]], dtype=float32)>"
      ]
     },
     "execution_count": 202,
     "metadata": {},
     "output_type": "execute_result"
    }
   ],
   "source": [
    "w, b = tf.Variable(tf.ones(shape=[3, 5])), tf.Variable(tf.ones(shape=(5, )))\n",
    "@tf.custom_gradient\n",
    "def linear(x):\n",
    "    y = x @ w + b\n",
    "\n",
    "    def backward(dy, variables): # compulsory variables args\n",
    "        print(\"dx:  \", dy)\n",
    "        print(\"weights:  \", variables)\n",
    "        vw, vb = variables\n",
    "        \n",
    "        return dy @ tf.transpose(vw, (1, 0)), [tf.transpose(x, (1, 0)) @ dy, 2 * dy * tf.ones_like(vb)]\n",
    "    return y, backward\n",
    "\n",
    "x = tf.constant([1., 2., 3.], shape=(1, 3))\n",
    "with tf.GradientTape(persistent=True) as tape:\n",
    "  tape.watch(x)\n",
    "  l = linear(x)\n",
    "l"
   ]
  },
  {
   "cell_type": "code",
   "execution_count": 203,
   "metadata": {},
   "outputs": [
    {
     "name": "stdout",
     "output_type": "stream",
     "text": [
      "dx:   tf.Tensor([[1. 1. 1. 1. 1.]], shape=(1, 5), dtype=float32)\n",
      "weights:   [<tf.Variable 'Variable:0' shape=(3, 5) dtype=float32, numpy=\n",
      "array([[1., 1., 1., 1., 1.],\n",
      "       [1., 1., 1., 1., 1.],\n",
      "       [1., 1., 1., 1., 1.]], dtype=float32)>, <tf.Variable 'Variable:0' shape=(5,) dtype=float32, numpy=array([1., 1., 1., 1., 1.], dtype=float32)>]\n"
     ]
    },
    {
     "data": {
      "text/plain": [
       "<tf.Tensor: shape=(1, 3), dtype=float32, numpy=array([[5., 5., 5.]], dtype=float32)>"
      ]
     },
     "execution_count": 203,
     "metadata": {},
     "output_type": "execute_result"
    }
   ],
   "source": [
    "tape.gradient(l, x)"
   ]
  },
  {
   "cell_type": "code",
   "execution_count": 204,
   "metadata": {},
   "outputs": [
    {
     "name": "stdout",
     "output_type": "stream",
     "text": [
      "dx:   tf.Tensor([[1. 1. 1. 1. 1.]], shape=(1, 5), dtype=float32)\n",
      "weights:   [<tf.Variable 'Variable:0' shape=(3, 5) dtype=float32, numpy=\n",
      "array([[1., 1., 1., 1., 1.],\n",
      "       [1., 1., 1., 1., 1.],\n",
      "       [1., 1., 1., 1., 1.]], dtype=float32)>, <tf.Variable 'Variable:0' shape=(5,) dtype=float32, numpy=array([1., 1., 1., 1., 1.], dtype=float32)>]\n"
     ]
    },
    {
     "data": {
      "text/plain": [
       "<tf.Tensor: shape=(1, 5), dtype=float32, numpy=array([[2., 2., 2., 2., 2.]], dtype=float32)>"
      ]
     },
     "execution_count": 204,
     "metadata": {},
     "output_type": "execute_result"
    }
   ],
   "source": [
    "tape.gradient(l, b)"
   ]
  },
  {
   "cell_type": "code",
   "execution_count": 206,
   "metadata": {},
   "outputs": [
    {
     "name": "stdout",
     "output_type": "stream",
     "text": [
      "dx:   tf.Tensor([[1. 1. 1. 1. 1.]], shape=(1, 5), dtype=float32)\n",
      "weights:   [<tf.Variable 'Variable:0' shape=(3, 5) dtype=float32, numpy=\n",
      "array([[1., 1., 1., 1., 1.],\n",
      "       [1., 1., 1., 1., 1.],\n",
      "       [1., 1., 1., 1., 1.]], dtype=float32)>, <tf.Variable 'Variable:0' shape=(5,) dtype=float32, numpy=array([1., 1., 1., 1., 1.], dtype=float32)>]\n"
     ]
    },
    {
     "data": {
      "text/plain": [
       "<tf.Tensor: shape=(3, 5), dtype=float32, numpy=\n",
       "array([[1., 1., 1., 1., 1.],\n",
       "       [2., 2., 2., 2., 2.],\n",
       "       [3., 3., 3., 3., 3.]], dtype=float32)>"
      ]
     },
     "execution_count": 206,
     "metadata": {},
     "output_type": "execute_result"
    }
   ],
   "source": [
    "tape.gradient(l, w)"
   ]
  },
  {
   "cell_type": "code",
   "execution_count": 207,
   "metadata": {},
   "outputs": [],
   "source": [
    "w, b = tf.Variable(tf.ones(shape=[3, 5])), tf.Variable(tf.ones(shape=(5, )))\n",
    "with tf.GradientTape(persistent=True) as tape:\n",
    "  tape.watch(x)\n",
    "  l = x @ w + b"
   ]
  },
  {
   "cell_type": "code",
   "execution_count": 208,
   "metadata": {},
   "outputs": [
    {
     "data": {
      "text/plain": [
       "<tf.Tensor: shape=(1, 3), dtype=float32, numpy=array([[5., 5., 5.]], dtype=float32)>"
      ]
     },
     "execution_count": 208,
     "metadata": {},
     "output_type": "execute_result"
    }
   ],
   "source": [
    "tape.gradient(l, x)"
   ]
  },
  {
   "cell_type": "code",
   "execution_count": 209,
   "metadata": {},
   "outputs": [
    {
     "data": {
      "text/plain": [
       "<tf.Tensor: shape=(5,), dtype=float32, numpy=array([1., 1., 1., 1., 1.], dtype=float32)>"
      ]
     },
     "execution_count": 209,
     "metadata": {},
     "output_type": "execute_result"
    }
   ],
   "source": [
    "tape.gradient(l, b)"
   ]
  },
  {
   "cell_type": "code",
   "execution_count": 210,
   "metadata": {},
   "outputs": [
    {
     "data": {
      "text/plain": [
       "<tf.Tensor: shape=(3, 5), dtype=float32, numpy=\n",
       "array([[1., 1., 1., 1., 1.],\n",
       "       [2., 2., 2., 2., 2.],\n",
       "       [3., 3., 3., 3., 3.]], dtype=float32)>"
      ]
     },
     "execution_count": 210,
     "metadata": {},
     "output_type": "execute_result"
    }
   ],
   "source": [
    "tape.gradient(l, w)"
   ]
  },
  {
   "cell_type": "code",
   "execution_count": null,
   "metadata": {},
   "outputs": [],
   "source": []
  }
 ],
 "metadata": {
  "kernelspec": {
   "display_name": "env_dl",
   "language": "python",
   "name": "python3"
  },
  "language_info": {
   "codemirror_mode": {
    "name": "ipython",
    "version": 3
   },
   "file_extension": ".py",
   "mimetype": "text/x-python",
   "name": "python",
   "nbconvert_exporter": "python",
   "pygments_lexer": "ipython3",
   "version": "3.10.0"
  }
 },
 "nbformat": 4,
 "nbformat_minor": 2
}
