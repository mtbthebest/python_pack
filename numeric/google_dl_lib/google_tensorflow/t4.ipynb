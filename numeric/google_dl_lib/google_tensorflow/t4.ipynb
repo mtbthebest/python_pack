{
 "cells": [
  {
   "cell_type": "code",
   "execution_count": 1,
   "metadata": {},
   "outputs": [
    {
     "name": "stderr",
     "output_type": "stream",
     "text": [
      "/env_dl/lib/python3.10/site-packages/tqdm/auto.py:21: TqdmWarning: IProgress not found. Please update jupyter and ipywidgets. See https://ipywidgets.readthedocs.io/en/stable/user_install.html\n",
      "  from .autonotebook import tqdm as notebook_tqdm\n"
     ]
    }
   ],
   "source": [
    "%load_ext autoreload\n",
    "%autoreload 2\n",
    "import os\n",
    "\n",
    "import seaborn as sns\n",
    "import matplotlib as mpl\n",
    "import matplotlib.pyplot as plt\n",
    "import numpy as np\n",
    "\n",
    "import jax\n",
    "import numpyro\n",
    "from numpyro import distributions as dist\n",
    "\n",
    "import tensorflow as tf\n",
    "import tensorflow_datasets as t"
   ]
  },
  {
   "cell_type": "code",
   "execution_count": 2,
   "metadata": {},
   "outputs": [],
   "source": [
    "gpus = tf.config.experimental.list_physical_devices(device_type=\"GPU\")\n",
    "for gpu in gpus:\n",
    "    tf.config.experimental.set_memory_growth(gpu, True)\n",
    "os.environ[\"XLA_PYTHON_CLIENT_PREALLOCATE\"] = \"false\"\n",
    "os.environ[\"XLA_PYTHON_CLIENT_ALLOCATOR\"] = \"platform\"\n",
    "plt.style.use(\"seaborn-v0_8\")"
   ]
  },
  {
   "cell_type": "markdown",
   "metadata": {},
   "source": [
    "## Datasets"
   ]
  },
  {
   "cell_type": "code",
   "execution_count": 3,
   "metadata": {},
   "outputs": [],
   "source": [
    "N = 1000\n",
    "D = 4\n",
    "key = jax.random.PRNGKey(seed=0)\n",
    "with numpyro.plate(\"data\", N):\n",
    "    x = numpyro.sample(\"x\", dist.Uniform(-10, 10.), rng_key=key)\n",
    "x = jax.numpy.reshape(x, (-1, 4)) \n",
    "key, subkey = jax.random.split(key)\n",
    "m1, s1 = (dist.Normal(0.0, 2.).sample(key=subkey, sample_shape=(4,)), \n",
    "          dist.LogNormal(0.0, 1.0).sample(key=subkey, sample_shape=(x.shape[0],))\n",
    "        )\n",
    "key, subkey = jax.random.split(key)\n",
    "u = numpyro.sample(\"u\", dist.Normal(x@m1, s1), rng_key=subkey)"
   ]
  },
  {
   "cell_type": "code",
   "execution_count": 4,
   "metadata": {},
   "outputs": [],
   "source": [
    "x = tf.convert_to_tensor(x)\n",
    "y = tf.convert_to_tensor(u)"
   ]
  },
  {
   "cell_type": "code",
   "execution_count": 5,
   "metadata": {},
   "outputs": [
    {
     "data": {
      "text/plain": [
       "(TensorShape([250, 4]), TensorShape([250]))"
      ]
     },
     "execution_count": 5,
     "metadata": {},
     "output_type": "execute_result"
    }
   ],
   "source": [
    "x.shape, y.shape"
   ]
  },
  {
   "cell_type": "code",
   "execution_count": 6,
   "metadata": {},
   "outputs": [],
   "source": [
    "y = tf.reshape(y, (-1, 1))"
   ]
  },
  {
   "cell_type": "code",
   "execution_count": 7,
   "metadata": {},
   "outputs": [],
   "source": [
    "x = x - tf.math.reduce_mean(x, 0, keepdims=True) \n",
    "x /= tf.math.reduce_std(x, 0, keepdims=True)"
   ]
  },
  {
   "cell_type": "code",
   "execution_count": 8,
   "metadata": {},
   "outputs": [
    {
     "data": {
      "text/plain": [
       "(<tf.Tensor: shape=(4,), dtype=float32, numpy=\n",
       " array([ 1.3351441e-08, -1.4901161e-08,  1.0490417e-08, -1.5497207e-08],\n",
       "       dtype=float32)>,\n",
       " <tf.Tensor: shape=(4,), dtype=float32, numpy=array([0.99999994, 1.        , 1.0000001 , 0.99999994], dtype=float32)>)"
      ]
     },
     "execution_count": 8,
     "metadata": {},
     "output_type": "execute_result"
    }
   ],
   "source": [
    "tf.math.reduce_mean(x, 0), tf.math.reduce_std(x, 0)"
   ]
  },
  {
   "cell_type": "code",
   "execution_count": 9,
   "metadata": {},
   "outputs": [],
   "source": [
    "class Linear(tf.Module):\n",
    "    \n",
    "    def __init__(self, in_feat, out_feat, name=None, activation=\"identity\"):\n",
    "        super().__init__(name=name)\n",
    "        self.w = tf.Variable(tf.random.normal([in_feat, out_feat]) * 2 / np.sqrt(in_feat), name=\"w\")\n",
    "        self.b = tf.Variable(tf.zeros([out_feat]), name=\"b\")\n",
    "        self.activation = {\"identity\": tf.identity, \"relu\": tf.nn.relu, \"selu\": tf.nn.selu,\n",
    "                                     \"gelu\": tf.nn.gelu, \"silu\": tf.nn.silu }[activation]\n",
    "    def __call__(self, x):\n",
    "        x = tf.matmul(x, self.w) + self.b\n",
    "        return self.activation(x)\n",
    "    "
   ]
  },
  {
   "cell_type": "code",
   "execution_count": 10,
   "metadata": {},
   "outputs": [],
   "source": [
    "class RegModule(tf.Module):\n",
    "    def __init__(self, in_feat, hidden1, name=None):\n",
    "        super().__init__(name=name)\n",
    "        self.lin1 = Linear(in_feat, hidden1, activation=\"relu\")\n",
    "        self.lin2 = Linear(hidden1, 1)\n",
    "    \n",
    "    def __call__(self, x):\n",
    "        x = self.lin1(x)\n",
    "        x = self.lin2(x)\n",
    "        return x\n",
    "        "
   ]
  },
  {
   "cell_type": "code",
   "execution_count": 11,
   "metadata": {},
   "outputs": [],
   "source": [
    "net = RegModule(D, 8)"
   ]
  },
  {
   "cell_type": "code",
   "execution_count": 12,
   "metadata": {},
   "outputs": [
    {
     "data": {
      "text/plain": [
       "(<__main__.Linear at 0x7fa7d00cf8b0>, <__main__.Linear at 0x7fa7d00cf2e0>)"
      ]
     },
     "execution_count": 12,
     "metadata": {},
     "output_type": "execute_result"
    }
   ],
   "source": [
    "net.submodules"
   ]
  },
  {
   "cell_type": "code",
   "execution_count": 13,
   "metadata": {},
   "outputs": [
    {
     "data": {
      "text/plain": [
       "(<tf.Variable 'b:0' shape=(8,) dtype=float32, numpy=array([0., 0., 0., 0., 0., 0., 0., 0.], dtype=float32)>,\n",
       " <tf.Variable 'w:0' shape=(4, 8) dtype=float32, numpy=\n",
       " array([[ 0.05343907, -0.64620936,  0.0104877 ,  0.73585206,  0.7280023 ,\n",
       "          1.655985  , -0.8846577 , -0.29938447],\n",
       "        [ 0.10300572,  1.9017677 , -0.39868727,  1.408137  , -0.05627052,\n",
       "         -0.17337033, -2.2921865 ,  0.33579674],\n",
       "        [ 0.43652046,  0.83627015, -0.36177674,  0.1234626 ,  0.1032427 ,\n",
       "         -1.5055033 , -1.7950017 , -0.87967366],\n",
       "        [-0.41618684,  0.33824092, -1.3792052 , -0.3136401 , -0.66273975,\n",
       "          1.570117  ,  0.5295412 , -0.9044974 ]], dtype=float32)>,\n",
       " <tf.Variable 'b:0' shape=(1,) dtype=float32, numpy=array([0.], dtype=float32)>,\n",
       " <tf.Variable 'w:0' shape=(8, 1) dtype=float32, numpy=\n",
       " array([[-0.2902276 ],\n",
       "        [-0.40673855],\n",
       "        [ 0.6245968 ],\n",
       "        [-0.7665438 ],\n",
       "        [-0.26995853],\n",
       "        [ 0.5910276 ],\n",
       "        [ 1.6859132 ],\n",
       "        [ 0.54694414]], dtype=float32)>)"
      ]
     },
     "execution_count": 13,
     "metadata": {},
     "output_type": "execute_result"
    }
   ],
   "source": [
    "net.variables"
   ]
  },
  {
   "cell_type": "code",
   "execution_count": 14,
   "metadata": {},
   "outputs": [
    {
     "data": {
      "text/plain": [
       "(<tf.Variable 'b:0' shape=(8,) dtype=float32, numpy=array([0., 0., 0., 0., 0., 0., 0., 0.], dtype=float32)>,\n",
       " <tf.Variable 'w:0' shape=(4, 8) dtype=float32, numpy=\n",
       " array([[ 0.05343907, -0.64620936,  0.0104877 ,  0.73585206,  0.7280023 ,\n",
       "          1.655985  , -0.8846577 , -0.29938447],\n",
       "        [ 0.10300572,  1.9017677 , -0.39868727,  1.408137  , -0.05627052,\n",
       "         -0.17337033, -2.2921865 ,  0.33579674],\n",
       "        [ 0.43652046,  0.83627015, -0.36177674,  0.1234626 ,  0.1032427 ,\n",
       "         -1.5055033 , -1.7950017 , -0.87967366],\n",
       "        [-0.41618684,  0.33824092, -1.3792052 , -0.3136401 , -0.66273975,\n",
       "          1.570117  ,  0.5295412 , -0.9044974 ]], dtype=float32)>,\n",
       " <tf.Variable 'b:0' shape=(1,) dtype=float32, numpy=array([0.], dtype=float32)>,\n",
       " <tf.Variable 'w:0' shape=(8, 1) dtype=float32, numpy=\n",
       " array([[-0.2902276 ],\n",
       "        [-0.40673855],\n",
       "        [ 0.6245968 ],\n",
       "        [-0.7665438 ],\n",
       "        [-0.26995853],\n",
       "        [ 0.5910276 ],\n",
       "        [ 1.6859132 ],\n",
       "        [ 0.54694414]], dtype=float32)>)"
      ]
     },
     "execution_count": 14,
     "metadata": {},
     "output_type": "execute_result"
    }
   ],
   "source": [
    "net.trainable_variables"
   ]
  },
  {
   "cell_type": "code",
   "execution_count": 15,
   "metadata": {},
   "outputs": [
    {
     "data": {
      "text/plain": [
       "()"
      ]
     },
     "execution_count": 15,
     "metadata": {},
     "output_type": "execute_result"
    }
   ],
   "source": [
    "net.lin1.non_trainable_variables"
   ]
  },
  {
   "cell_type": "code",
   "execution_count": 16,
   "metadata": {},
   "outputs": [],
   "source": [
    "del net.lin1"
   ]
  },
  {
   "cell_type": "code",
   "execution_count": 17,
   "metadata": {},
   "outputs": [
    {
     "data": {
      "text/plain": [
       "(<tf.Variable 'b:0' shape=(1,) dtype=float32, numpy=array([0.], dtype=float32)>,\n",
       " <tf.Variable 'w:0' shape=(8, 1) dtype=float32, numpy=\n",
       " array([[-0.2902276 ],\n",
       "        [-0.40673855],\n",
       "        [ 0.6245968 ],\n",
       "        [-0.7665438 ],\n",
       "        [-0.26995853],\n",
       "        [ 0.5910276 ],\n",
       "        [ 1.6859132 ],\n",
       "        [ 0.54694414]], dtype=float32)>)"
      ]
     },
     "execution_count": 17,
     "metadata": {},
     "output_type": "execute_result"
    }
   ],
   "source": [
    "net.trainable_variables"
   ]
  },
  {
   "cell_type": "code",
   "execution_count": 18,
   "metadata": {},
   "outputs": [
    {
     "data": {
      "text/plain": [
       "()"
      ]
     },
     "execution_count": 18,
     "metadata": {},
     "output_type": "execute_result"
    }
   ],
   "source": [
    "net.non_trainable_variables"
   ]
  },
  {
   "cell_type": "code",
   "execution_count": 19,
   "metadata": {},
   "outputs": [],
   "source": [
    "net.lin2.trainable = False"
   ]
  },
  {
   "cell_type": "code",
   "execution_count": 20,
   "metadata": {},
   "outputs": [
    {
     "data": {
      "text/plain": [
       "()"
      ]
     },
     "execution_count": 20,
     "metadata": {},
     "output_type": "execute_result"
    }
   ],
   "source": [
    "net.non_trainable_variables"
   ]
  },
  {
   "cell_type": "code",
   "execution_count": 21,
   "metadata": {},
   "outputs": [
    {
     "data": {
      "text/plain": [
       "(<tf.Variable 'b:0' shape=(1,) dtype=float32, numpy=array([0.], dtype=float32)>,\n",
       " <tf.Variable 'w:0' shape=(8, 1) dtype=float32, numpy=\n",
       " array([[-0.2902276 ],\n",
       "        [-0.40673855],\n",
       "        [ 0.6245968 ],\n",
       "        [-0.7665438 ],\n",
       "        [-0.26995853],\n",
       "        [ 0.5910276 ],\n",
       "        [ 1.6859132 ],\n",
       "        [ 0.54694414]], dtype=float32)>)"
      ]
     },
     "execution_count": 21,
     "metadata": {},
     "output_type": "execute_result"
    }
   ],
   "source": [
    "net.trainable_variables"
   ]
  },
  {
   "cell_type": "code",
   "execution_count": 22,
   "metadata": {},
   "outputs": [],
   "source": [
    "net.lin2.w = tf.Variable(net.lin2.w.numpy(), False)"
   ]
  },
  {
   "cell_type": "code",
   "execution_count": 23,
   "metadata": {},
   "outputs": [
    {
     "data": {
      "text/plain": [
       "(<tf.Variable 'b:0' shape=(1,) dtype=float32, numpy=array([0.], dtype=float32)>,)"
      ]
     },
     "execution_count": 23,
     "metadata": {},
     "output_type": "execute_result"
    }
   ],
   "source": [
    "net.trainable_variables"
   ]
  },
  {
   "cell_type": "code",
   "execution_count": 24,
   "metadata": {},
   "outputs": [
    {
     "data": {
      "text/plain": [
       "(<tf.Variable 'Variable:0' shape=(8, 1) dtype=float32, numpy=\n",
       " array([[-0.2902276 ],\n",
       "        [-0.40673855],\n",
       "        [ 0.6245968 ],\n",
       "        [-0.7665438 ],\n",
       "        [-0.26995853],\n",
       "        [ 0.5910276 ],\n",
       "        [ 1.6859132 ],\n",
       "        [ 0.54694414]], dtype=float32)>,)"
      ]
     },
     "execution_count": 24,
     "metadata": {},
     "output_type": "execute_result"
    }
   ],
   "source": [
    "net.non_trainable_variables"
   ]
  },
  {
   "cell_type": "code",
   "execution_count": 25,
   "metadata": {},
   "outputs": [],
   "source": [
    "\n",
    "@tf.function\n",
    "def train(dataset: tf.data.Dataset, model: RegModule, lr: tf.Tensor, epochs: tf.Tensor, step: tf.Variable):\n",
    "    losses = tf.TensorArray(dtype=tf.float32, dynamic_size=True, size=0)\n",
    "    for i in range(epochs):\n",
    "        for (x, y) in dataset:\n",
    "            with tf.GradientTape() as tape:\n",
    "                yhat = model(x)\n",
    "                loss = tf.math.reduce_mean((y - yhat) ** 2)\n",
    "                tf.print(loss)\n",
    "                losses = losses.write(step, loss)\n",
    "                step.assign_add(1)\n",
    "            grads = tape.gradient(loss, model.trainable_variables)\n",
    "            for w, g in zip(model.trainable_variables,grads):\n",
    "                w.assign_add( -lr * g)\n",
    "    return losses.stack()\n",
    "                \n",
    "        "
   ]
  },
  {
   "cell_type": "code",
   "execution_count": 26,
   "metadata": {},
   "outputs": [],
   "source": [
    "ds = tf.data.Dataset.from_tensor_slices((x, y)).batch(50)"
   ]
  },
  {
   "cell_type": "code",
   "execution_count": 27,
   "metadata": {},
   "outputs": [
    {
     "name": "stdout",
     "output_type": "stream",
     "text": [
      "(50, 4) (50, 1)\n",
      "(50, 4) (50, 1)\n",
      "(50, 4) (50, 1)\n",
      "(50, 4) (50, 1)\n",
      "(50, 4) (50, 1)\n"
     ]
    }
   ],
   "source": [
    "for a, b in ds:\n",
    "    print(a.shape, b.shape)"
   ]
  },
  {
   "cell_type": "code",
   "execution_count": 28,
   "metadata": {},
   "outputs": [
    {
     "data": {
      "text/plain": [
       "<tf.Tensor: shape=(10, 4), dtype=float32, numpy=\n",
       "array([[-0.6520352 ,  1.1371522 ,  0.6709285 , -0.51386076],\n",
       "       [ 1.2721881 ,  0.825287  , -0.13445333, -1.7060719 ],\n",
       "       [-1.1639551 ,  1.5367683 ,  0.4913037 , -0.79017437],\n",
       "       [ 0.41745436, -0.7206475 , -1.4956665 , -1.3537912 ],\n",
       "       [ 0.90091   , -1.0873332 ,  1.0437733 ,  0.89761996],\n",
       "       [-1.1482003 ,  1.1092883 ,  0.9408407 ,  0.86482996],\n",
       "       [ 0.49455872, -0.57093465, -0.7048087 ,  1.7270492 ],\n",
       "       [-0.55817175,  0.02904524, -0.53178674,  0.9006861 ],\n",
       "       [-1.4399315 ,  0.75760365, -0.09381334,  0.9300494 ],\n",
       "       [ 0.99490595, -0.27438605,  0.32521307, -0.21980123]],\n",
       "      dtype=float32)>"
      ]
     },
     "execution_count": 28,
     "metadata": {},
     "output_type": "execute_result"
    }
   ],
   "source": [
    "a[:10]"
   ]
  },
  {
   "cell_type": "code",
   "execution_count": 29,
   "metadata": {},
   "outputs": [],
   "source": [
    "tf.random.set_seed(0)\n",
    "net = RegModule(D, 8)"
   ]
  },
  {
   "cell_type": "code",
   "execution_count": 30,
   "metadata": {},
   "outputs": [
    {
     "data": {
      "text/plain": [
       "(<tf.Tensor: shape=(), dtype=float32, numpy=-0.032753866>,\n",
       " <tf.Variable 'w:0' shape=(4, 8) dtype=float32, numpy=\n",
       " array([[ 1.5110626 ,  0.42292207, -0.41969493, -1.0360373 , -1.2368279 ,\n",
       "          0.47027302, -0.01397488,  1.1888583 ],\n",
       "        [ 0.60253334,  0.5997111 , -0.70571196, -0.43297547,  0.7936245 ,\n",
       "         -0.6974926 , -0.95983326, -0.9006969 ],\n",
       "        [-0.36081055, -0.22377317,  0.30383846,  0.52152544,  0.1554326 ,\n",
       "          1.5885501 , -0.7958055 ,  0.07794423],\n",
       "        [-0.17937538, -0.85996604,  0.21930954,  0.71412295, -2.4445748 ,\n",
       "          0.0267799 ,  1.7339767 , -0.71103793]], dtype=float32)>)"
      ]
     },
     "execution_count": 30,
     "metadata": {},
     "output_type": "execute_result"
    }
   ],
   "source": [
    "tf.reduce_mean(net.lin1.w), net.lin1.w"
   ]
  },
  {
   "cell_type": "code",
   "execution_count": 31,
   "metadata": {},
   "outputs": [
    {
     "name": "stdout",
     "output_type": "stream",
     "text": [
      "374.888763\n",
      "261.372101\n",
      "311.728607\n",
      "271.153931\n",
      "339.108673\n",
      "345.578278\n",
      "240.642\n",
      "286.142395\n",
      "248.28363\n",
      "313.03952\n",
      "318.109955\n",
      "221.08342\n",
      "262.453979\n",
      "225.954498\n",
      "288.131165\n",
      "290.993256\n",
      "202.066559\n",
      "239.626373\n",
      "203.548706\n",
      "263.512695\n",
      "264.330658\n",
      "183.005219\n",
      "217.265823\n",
      "181.282974\n",
      "238.919632\n",
      "237.588074\n",
      "164.016312\n",
      "195.138977\n",
      "159.131882\n",
      "213.820587\n",
      "210.423401\n",
      "144.974258\n",
      "172.300842\n",
      "137.127304\n",
      "188.426605\n",
      "183.384979\n",
      "126.004837\n",
      "149.715942\n",
      "116.040314\n",
      "163.804321\n",
      "157.474533\n",
      "107.916328\n",
      "127.809402\n",
      "96.1406\n",
      "140.131012\n",
      "132.961136\n",
      "90.726181\n",
      "107.192619\n",
      "78.2015\n",
      "117.903107\n",
      "110.465729\n",
      "75.3919067\n",
      "88.8418961\n",
      "62.5527\n",
      "97.95681\n",
      "90.6571884\n",
      "62.2859\n",
      "72.9564667\n",
      "49.3840218\n",
      "80.6643372\n",
      "73.6771851\n",
      "51.4844093\n",
      "59.5800591\n",
      "38.7287788\n",
      "66.102005\n",
      "59.576149\n",
      "42.9041595\n",
      "48.6795502\n",
      "30.4122849\n",
      "54.115551\n",
      "48.1666069\n",
      "36.3077736\n",
      "40.0057373\n",
      "24.1200485\n",
      "44.486908\n",
      "39.1364861\n",
      "31.3677864\n",
      "33.2388344\n",
      "19.4895477\n",
      "36.8828392\n",
      "32.060009\n",
      "27.6830101\n",
      "28.0438519\n",
      "16.1960011\n",
      "30.9865665\n",
      "26.6550846\n",
      "25.0664444\n",
      "24.1205273\n",
      "13.9060202\n",
      "26.4735126\n",
      "22.5576344\n",
      "23.2381973\n",
      "21.1721191\n",
      "12.3357639\n",
      "23.0267563\n",
      "19.4660454\n",
      "21.9732285\n",
      "18.9525433\n",
      "11.2173319\n",
      "20.36763\n"
     ]
    },
    {
     "data": {
      "text/plain": [
       "<tf.Tensor: shape=(), dtype=float32, numpy=-0.029592436>"
      ]
     },
     "execution_count": 31,
     "metadata": {},
     "output_type": "execute_result"
    }
   ],
   "source": [
    "lr =  tf.constant(1e-3)\n",
    "epochs = tf.constant(20)\n",
    "step = tf.Variable(0, trainable=False, name=\"step\")\n",
    "l = train(ds, net, lr, epochs, step)\n",
    "tf.reduce_mean(net.lin1.w)"
   ]
  },
  {
   "cell_type": "code",
   "execution_count": 32,
   "metadata": {},
   "outputs": [
    {
     "data": {
      "text/plain": [
       "<tf.Tensor: shape=(100,), dtype=float32, numpy=\n",
       "array([374.88876 , 261.3721  , 311.7286  , 271.15393 , 339.10867 ,\n",
       "       345.57828 , 240.642   , 286.1424  , 248.28363 , 313.03952 ,\n",
       "       318.10995 , 221.08342 , 262.45398 , 225.9545  , 288.13116 ,\n",
       "       290.99326 , 202.06656 , 239.62637 , 203.5487  , 263.5127  ,\n",
       "       264.33066 , 183.00522 , 217.26582 , 181.28297 , 238.91963 ,\n",
       "       237.58807 , 164.01631 , 195.13898 , 159.13188 , 213.82059 ,\n",
       "       210.4234  , 144.97426 , 172.30084 , 137.1273  , 188.4266  ,\n",
       "       183.38498 , 126.00484 , 149.71594 , 116.04031 , 163.80432 ,\n",
       "       157.47453 , 107.91633 , 127.8094  ,  96.1406  , 140.13101 ,\n",
       "       132.96114 ,  90.72618 , 107.19262 ,  78.2015  , 117.90311 ,\n",
       "       110.46573 ,  75.39191 ,  88.841896,  62.5527  ,  97.95681 ,\n",
       "        90.65719 ,  62.2859  ,  72.95647 ,  49.38402 ,  80.66434 ,\n",
       "        73.677185,  51.48441 ,  59.58006 ,  38.72878 ,  66.102005,\n",
       "        59.57615 ,  42.90416 ,  48.67955 ,  30.412285,  54.11555 ,\n",
       "        48.166607,  36.307774,  40.005737,  24.120049,  44.486908,\n",
       "        39.136486,  31.367786,  33.238834,  19.489548,  36.88284 ,\n",
       "        32.06001 ,  27.68301 ,  28.043852,  16.196001,  30.986567,\n",
       "        26.655085,  25.066444,  24.120527,  13.90602 ,  26.473513,\n",
       "        22.557634,  23.238197,  21.17212 ,  12.335764,  23.026756,\n",
       "        19.466045,  21.973228,  18.952543,  11.217332,  20.36763 ],\n",
       "      dtype=float32)>"
      ]
     },
     "execution_count": 32,
     "metadata": {},
     "output_type": "execute_result"
    }
   ],
   "source": [
    "l"
   ]
  },
  {
   "cell_type": "code",
   "execution_count": 33,
   "metadata": {},
   "outputs": [
    {
     "data": {
      "text/plain": [
       "[<matplotlib.lines.Line2D at 0x7fa758399720>]"
      ]
     },
     "execution_count": 33,
     "metadata": {},
     "output_type": "execute_result"
    },
    {
     "data": {
      "image/png": "[encoded data removed]",
      "text/plain": [
       "<Figure size 800x550 with 1 Axes>"
      ]
     },
     "metadata": {},
     "output_type": "display_data"
    }
   ],
   "source": [
    "plt.plot(l)"
   ]
  },
  {
   "cell_type": "code",
   "execution_count": 34,
   "metadata": {},
   "outputs": [
    {
     "data": {
      "text/plain": [
       "'/mnt/dl/tensorflow_training/dummy1/model-1'"
      ]
     },
     "execution_count": 34,
     "metadata": {},
     "output_type": "execute_result"
    }
   ],
   "source": [
    "path = \"/mnt/dl/tensorflow_training/dummy1\"\n",
    "model_path = path +  \"/model\"\n",
    "ckpt = tf.train.Checkpoint(model=net)\n",
    "ckpt.save(model_path)"
   ]
  },
  {
   "cell_type": "code",
   "execution_count": 35,
   "metadata": {},
   "outputs": [
    {
     "data": {
      "text/plain": [
       "['checkpoint', 'model-1.index', 'model-1.data-00000-of-00001']"
      ]
     },
     "execution_count": 35,
     "metadata": {},
     "output_type": "execute_result"
    }
   ],
   "source": [
    "os.listdir(path)"
   ]
  },
  {
   "cell_type": "code",
   "execution_count": 36,
   "metadata": {},
   "outputs": [
    {
     "data": {
      "text/plain": [
       "<tf.Tensor: shape=(1,), dtype=float32, numpy=array([-31.630892], dtype=float32)>"
      ]
     },
     "execution_count": 36,
     "metadata": {},
     "output_type": "execute_result"
    }
   ],
   "source": [
    "net(a)[10]"
   ]
  },
  {
   "cell_type": "code",
   "execution_count": 37,
   "metadata": {},
   "outputs": [],
   "source": [
    "new_net =  RegModule(D, 8)"
   ]
  },
  {
   "cell_type": "code",
   "execution_count": 38,
   "metadata": {},
   "outputs": [
    {
     "data": {
      "text/plain": [
       "<tf.Tensor: shape=(1,), dtype=float32, numpy=array([0.55888295], dtype=float32)>"
      ]
     },
     "execution_count": 38,
     "metadata": {},
     "output_type": "execute_result"
    }
   ],
   "source": [
    "new_net(a)[10]"
   ]
  },
  {
   "cell_type": "code",
   "execution_count": 39,
   "metadata": {},
   "outputs": [],
   "source": [
    "ckpt = tf.train.Checkpoint(model=new_net)"
   ]
  },
  {
   "cell_type": "code",
   "execution_count": 40,
   "metadata": {},
   "outputs": [
    {
     "data": {
      "text/plain": [
       "<tensorflow.python.checkpoint.checkpoint.CheckpointLoadStatus at 0x7fa94691ece0>"
      ]
     },
     "execution_count": 40,
     "metadata": {},
     "output_type": "execute_result"
    }
   ],
   "source": [
    "ckpt.restore(path +  \"/model-1\")"
   ]
  },
  {
   "cell_type": "code",
   "execution_count": 41,
   "metadata": {},
   "outputs": [
    {
     "data": {
      "text/plain": [
       "<tf.Tensor: shape=(1,), dtype=float32, numpy=array([-31.630892], dtype=float32)>"
      ]
     },
     "execution_count": 41,
     "metadata": {},
     "output_type": "execute_result"
    }
   ],
   "source": [
    "new_net(a)[10]"
   ]
  },
  {
   "cell_type": "code",
   "execution_count": 42,
   "metadata": {},
   "outputs": [
    {
     "name": "stdout",
     "output_type": "stream",
     "text": [
      "INFO:tensorflow:Assets written to: /mnt/dl/tensorflow_training/dummy11/assets\n"
     ]
    }
   ],
   "source": [
    "path = \"/mnt/dl/tensorflow_training/dummy11\"\n",
    "model_path = path +  \"/model\"\n",
    "saved = tf.saved_model.save(net, path)"
   ]
  },
  {
   "cell_type": "code",
   "execution_count": 43,
   "metadata": {},
   "outputs": [],
   "source": [
    "new_net2 = tf.saved_model.load(path)"
   ]
  },
  {
   "cell_type": "code",
   "execution_count": 45,
   "metadata": {},
   "outputs": [
    {
     "data": {
      "text/plain": [
       "<tensorflow.python.saved_model.load.Loader._recreate_base_user_object.<locals>._UserObject at 0x7fa6f860b760>"
      ]
     },
     "execution_count": 45,
     "metadata": {},
     "output_type": "execute_result"
    }
   ],
   "source": [
    "new_net2"
   ]
  },
  {
   "cell_type": "code",
   "execution_count": null,
   "metadata": {},
   "outputs": [],
   "source": []
  }
 ],
 "metadata": {
  "kernelspec": {
   "display_name": "env_dl",
   "language": "python",
   "name": "python3"
  },
  "language_info": {
   "codemirror_mode": {
    "name": "ipython",
    "version": 3
   },
   "file_extension": ".py",
   "mimetype": "text/x-python",
   "name": "python",
   "nbconvert_exporter": "python",
   "pygments_lexer": "ipython3",
   "version": "3.10.0"
  }
 },
 "nbformat": 4,
 "nbformat_minor": 2
}
