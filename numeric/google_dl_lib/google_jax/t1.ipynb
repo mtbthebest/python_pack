{
 "cells": [
  {
   "cell_type": "code",
   "execution_count": 1,
   "metadata": {},
   "outputs": [
    {
     "name": "stderr",
     "output_type": "stream",
     "text": [
      "2024-01-08 08:49:39.956473: I tensorflow/core/platform/cpu_feature_guard.cc:182] This TensorFlow binary is optimized to use available CPU instructions in performance-critical operations.\n",
      "To enable the following instructions: AVX2 FMA, in other operations, rebuild TensorFlow with the appropriate compiler flags.\n",
      "/env_dl/lib/python3.10/site-packages/tqdm/auto.py:21: TqdmWarning: IProgress not found. Please update jupyter and ipywidgets. See https://ipywidgets.readthedocs.io/en/stable/user_install.html\n",
      "  from .autonotebook import tqdm as notebook_tqdm\n"
     ]
    }
   ],
   "source": [
    "%load_ext autoreload\n",
    "%autoreload 2\n",
    "import os\n",
    "\n",
    "import seaborn as sns\n",
    "import matplotlib as mpl\n",
    "import matplotlib.pyplot as plt\n",
    "import numpy as np\n",
    "\n",
    "import tensorflow as tf\n",
    "import tensorflow_datasets as tfds\n",
    "\n",
    "import jax\n",
    "import jax.numpy as jnp\n",
    "import numpyro"
   ]
  },
  {
   "cell_type": "code",
   "execution_count": 2,
   "metadata": {},
   "outputs": [
    {
     "name": "stderr",
     "output_type": "stream",
     "text": [
      "2024-01-08 08:49:41.967723: I tensorflow/compiler/xla/stream_executor/cuda/cuda_gpu_executor.cc:996] successful NUMA node read from SysFS had negative value (-1), but there must be at least one NUMA node, so returning NUMA node zero. See more at https://github.com/torvalds/linux/blob/v6.0/Documentation/ABI/testing/sysfs-bus-pci#L344-L355\n",
      "2024-01-08 08:49:41.988237: I tensorflow/compiler/xla/stream_executor/cuda/cuda_gpu_executor.cc:996] successful NUMA node read from SysFS had negative value (-1), but there must be at least one NUMA node, so returning NUMA node zero. See more at https://github.com/torvalds/linux/blob/v6.0/Documentation/ABI/testing/sysfs-bus-pci#L344-L355\n",
      "2024-01-08 08:49:41.988467: I tensorflow/compiler/xla/stream_executor/cuda/cuda_gpu_executor.cc:996] successful NUMA node read from SysFS had negative value (-1), but there must be at least one NUMA node, so returning NUMA node zero. See more at https://github.com/torvalds/linux/blob/v6.0/Documentation/ABI/testing/sysfs-bus-pci#L344-L355\n"
     ]
    }
   ],
   "source": [
    "gpus = tf.config.experimental.list_physical_devices(device_type=\"GPU\")\n",
    "for gpu in gpus:\n",
    "    tf.config.experimental.set_memory_growth(gpu, True)\n",
    "os.environ[\"XLA_PYTHON_CLIENT_PREALLOCATE\"] = \"false\"\n",
    "os.environ[\"XLA_PYTHON_CLIENT_ALLOCATOR\"] = \"platform\"\n",
    "plt.style.use(\"seaborn-v0_8\")"
   ]
  },
  {
   "cell_type": "code",
   "execution_count": 3,
   "metadata": {},
   "outputs": [
    {
     "data": {
      "text/plain": [
       "<module 'jax.dtypes' from '/env_dl/lib/python3.10/site-packages/jax/dtypes.py'>"
      ]
     },
     "execution_count": 3,
     "metadata": {},
     "output_type": "execute_result"
    }
   ],
   "source": [
    "jax.dtypes"
   ]
  },
  {
   "cell_type": "code",
   "execution_count": 4,
   "metadata": {},
   "outputs": [],
   "source": [
    "x = jnp.array(3, dtype=np.float32)"
   ]
  },
  {
   "cell_type": "code",
   "execution_count": 5,
   "metadata": {},
   "outputs": [
    {
     "data": {
      "text/plain": [
       "Array(3., dtype=float32)"
      ]
     },
     "execution_count": 5,
     "metadata": {},
     "output_type": "execute_result"
    }
   ],
   "source": [
    "x"
   ]
  },
  {
   "cell_type": "code",
   "execution_count": 6,
   "metadata": {},
   "outputs": [
    {
     "data": {
      "text/plain": [
       "(Array([0, 1, 2, 3, 4], dtype=int32),\n",
       " _IndexUpdateRef(Array([0, 1, 2, 3, 4], dtype=int32), 0))"
      ]
     },
     "execution_count": 6,
     "metadata": {},
     "output_type": "execute_result"
    }
   ],
   "source": [
    "x = jnp.arange(5)\n",
    "x, x.at[0]"
   ]
  },
  {
   "cell_type": "code",
   "execution_count": 7,
   "metadata": {},
   "outputs": [
    {
     "data": {
      "text/plain": [
       "(Array([-1,  1,  2,  3,  4], dtype=int32), Array([0, 1, 2, 3, 4], dtype=int32))"
      ]
     },
     "execution_count": 7,
     "metadata": {},
     "output_type": "execute_result"
    }
   ],
   "source": [
    "y = x.at[0].set(-1)\n",
    "y, x"
   ]
  },
  {
   "cell_type": "code",
   "execution_count": 8,
   "metadata": {},
   "outputs": [
    {
     "data": {
      "text/plain": [
       "Array([0, 9, 2, 3, 4], dtype=int32)"
      ]
     },
     "execution_count": 8,
     "metadata": {},
     "output_type": "execute_result"
    }
   ],
   "source": [
    "x.at[1].multiply(9)"
   ]
  },
  {
   "cell_type": "code",
   "execution_count": 9,
   "metadata": {},
   "outputs": [
    {
     "data": {
      "text/plain": [
       "Array([0, 1, 2, 3, 4], dtype=int32)"
      ]
     },
     "execution_count": 9,
     "metadata": {},
     "output_type": "execute_result"
    }
   ],
   "source": [
    "x"
   ]
  },
  {
   "cell_type": "code",
   "execution_count": 10,
   "metadata": {},
   "outputs": [
    {
     "data": {
      "text/plain": [
       "Array([0, 4, 2, 3, 4], dtype=int32)"
      ]
     },
     "execution_count": 10,
     "metadata": {},
     "output_type": "execute_result"
    }
   ],
   "source": [
    "x.at[1].apply(lambda x: x + 3)"
   ]
  },
  {
   "cell_type": "code",
   "execution_count": 11,
   "metadata": {},
   "outputs": [
    {
     "data": {
      "text/plain": [
       "Array(0, dtype=int32)"
      ]
     },
     "execution_count": 11,
     "metadata": {},
     "output_type": "execute_result"
    }
   ],
   "source": [
    "x.at[0].get()"
   ]
  },
  {
   "cell_type": "code",
   "execution_count": 12,
   "metadata": {},
   "outputs": [
    {
     "data": {
      "text/plain": [
       "Array(4, dtype=int32)"
      ]
     },
     "execution_count": 12,
     "metadata": {},
     "output_type": "execute_result"
    }
   ],
   "source": [
    "x.at[100].get()"
   ]
  },
  {
   "cell_type": "code",
   "execution_count": 13,
   "metadata": {},
   "outputs": [
    {
     "data": {
      "text/plain": [
       "Array(-2147483648, dtype=int32)"
      ]
     },
     "execution_count": 13,
     "metadata": {},
     "output_type": "execute_result"
    }
   ],
   "source": [
    "x.at[100].get(mode=\"fill\")"
   ]
  },
  {
   "cell_type": "code",
   "execution_count": 14,
   "metadata": {},
   "outputs": [
    {
     "data": {
      "text/plain": [
       "Array(4, dtype=int32)"
      ]
     },
     "execution_count": 14,
     "metadata": {},
     "output_type": "execute_result"
    }
   ],
   "source": [
    "x.at[100].get(mode=\"clip\", )"
   ]
  },
  {
   "cell_type": "code",
   "execution_count": 15,
   "metadata": {},
   "outputs": [
    {
     "data": {
      "text/plain": [
       "Array(-2147483648, dtype=int32)"
      ]
     },
     "execution_count": 15,
     "metadata": {},
     "output_type": "execute_result"
    }
   ],
   "source": [
    "x.at[100].get(mode=\"drop\", )"
   ]
  },
  {
   "cell_type": "code",
   "execution_count": 16,
   "metadata": {},
   "outputs": [
    {
     "data": {
      "text/plain": [
       "Array(-100, dtype=int32)"
      ]
     },
     "execution_count": 16,
     "metadata": {},
     "output_type": "execute_result"
    }
   ],
   "source": [
    "x.at[100].get(mode=\"fill\", fill_value=-100)"
   ]
  },
  {
   "cell_type": "code",
   "execution_count": 17,
   "metadata": {},
   "outputs": [
    {
     "data": {
      "text/plain": [
       "Array([[ 0,  1,  2,  3,  4],\n",
       "       [ 5,  6,  7,  8,  9],\n",
       "       [10, 11, 12, 13, 14],\n",
       "       [15, 16, 17, 18, 19]], dtype=int32)"
      ]
     },
     "execution_count": 17,
     "metadata": {},
     "output_type": "execute_result"
    }
   ],
   "source": [
    "x = jnp.arange(4*5).reshape((4, 5))\n",
    "x"
   ]
  },
  {
   "cell_type": "code",
   "execution_count": 18,
   "metadata": {},
   "outputs": [
    {
     "data": {
      "text/plain": [
       "Array([[False],\n",
       "       [ True],\n",
       "       [ True],\n",
       "       [ True]], dtype=bool)"
      ]
     },
     "execution_count": 18,
     "metadata": {},
     "output_type": "execute_result"
    }
   ],
   "source": [
    "(x > 3).all(axis=1, keepdims=True)"
   ]
  },
  {
   "cell_type": "code",
   "execution_count": 19,
   "metadata": {},
   "outputs": [
    {
     "data": {
      "text/plain": [
       "Array([[44, 15, 20, 22, 13],\n",
       "       [ 0, 48, 36, 45, 13],\n",
       "       [48, 24, 29,  4,  6],\n",
       "       [42, 26, 16, 43, 48]], dtype=int32)"
      ]
     },
     "execution_count": 19,
     "metadata": {},
     "output_type": "execute_result"
    }
   ],
   "source": [
    "key = jax.random.PRNGKey(seed=0)\n",
    "x = jax.random.randint(key, (4, 5), minval=0, maxval=50)\n",
    "x"
   ]
  },
  {
   "cell_type": "code",
   "execution_count": 20,
   "metadata": {},
   "outputs": [
    {
     "data": {
      "text/plain": [
       "Array(48, dtype=int32)"
      ]
     },
     "execution_count": 20,
     "metadata": {},
     "output_type": "execute_result"
    }
   ],
   "source": [
    "jnp.amax(x)"
   ]
  },
  {
   "cell_type": "code",
   "execution_count": 21,
   "metadata": {},
   "outputs": [
    {
     "data": {
      "text/plain": [
       "Array(0, dtype=int32)"
      ]
     },
     "execution_count": 21,
     "metadata": {},
     "output_type": "execute_result"
    }
   ],
   "source": [
    "jnp.amin(x)"
   ]
  },
  {
   "cell_type": "code",
   "execution_count": 22,
   "metadata": {},
   "outputs": [
    {
     "data": {
      "text/plain": [
       "Array([[0, 0],\n",
       "       [0, 1],\n",
       "       [0, 2],\n",
       "       [0, 3],\n",
       "       [1, 1],\n",
       "       [1, 2],\n",
       "       [1, 3],\n",
       "       [2, 0],\n",
       "       [2, 1],\n",
       "       [2, 2],\n",
       "       [3, 0],\n",
       "       [3, 1],\n",
       "       [3, 2],\n",
       "       [3, 3],\n",
       "       [3, 4]], dtype=int32)"
      ]
     },
     "execution_count": 22,
     "metadata": {},
     "output_type": "execute_result"
    }
   ],
   "source": [
    "jnp.argwhere(x > 13)"
   ]
  },
  {
   "cell_type": "code",
   "execution_count": 23,
   "metadata": {},
   "outputs": [
    {
     "data": {
      "text/plain": [
       "(Array([0, 0, 0, 0, 0, 1, 1, 1, 1, 2, 2, 2, 2, 2, 3, 3, 3, 3, 3], dtype=int32),\n",
       " Array([0, 1, 2, 3, 4, 1, 2, 3, 4, 0, 1, 2, 3, 4, 0, 1, 2, 3, 4], dtype=int32))"
      ]
     },
     "execution_count": 23,
     "metadata": {},
     "output_type": "execute_result"
    }
   ],
   "source": [
    "jnp.where(x > 3,)"
   ]
  },
  {
   "cell_type": "code",
   "execution_count": 24,
   "metadata": {},
   "outputs": [
    {
     "data": {
      "text/plain": [
       "Array([[ True,  True,  True,  True,  True],\n",
       "       [False,  True,  True,  True,  True],\n",
       "       [ True,  True,  True,  True,  True],\n",
       "       [ True,  True,  True,  True,  True]], dtype=bool)"
      ]
     },
     "execution_count": 24,
     "metadata": {},
     "output_type": "execute_result"
    }
   ],
   "source": [
    "jnp.where(x > 3, 1, 0).astype(bool)"
   ]
  },
  {
   "cell_type": "code",
   "execution_count": 25,
   "metadata": {},
   "outputs": [
    {
     "data": {
      "text/plain": [
       "[Array([[44, 15, 20, 22, 13]], dtype=int32),\n",
       " Array([[ 0, 48, 36, 45, 13]], dtype=int32),\n",
       " Array([[48, 24, 29,  4,  6]], dtype=int32),\n",
       " Array([[42, 26, 16, 43, 48]], dtype=int32)]"
      ]
     },
     "execution_count": 25,
     "metadata": {},
     "output_type": "execute_result"
    }
   ],
   "source": [
    "jnp.array_split(x, 4, axis=0)"
   ]
  },
  {
   "cell_type": "code",
   "execution_count": 26,
   "metadata": {},
   "outputs": [
    {
     "data": {
      "text/plain": [
       "[Array([[44, 15, 20, 22, 13]], dtype=int32),\n",
       " Array([[ 0, 48, 36, 45, 13]], dtype=int32),\n",
       " Array([[48, 24, 29,  4,  6]], dtype=int32),\n",
       " Array([[42, 26, 16, 43, 48]], dtype=int32),\n",
       " Array([], dtype=int32),\n",
       " Array([], dtype=int32)]"
      ]
     },
     "execution_count": 26,
     "metadata": {},
     "output_type": "execute_result"
    }
   ],
   "source": [
    "jnp.array_split(x, 6, axis=0)"
   ]
  },
  {
   "cell_type": "code",
   "execution_count": 27,
   "metadata": {},
   "outputs": [
    {
     "data": {
      "text/plain": [
       "array([[44, 15, 20, 22, 13],\n",
       "       [ 0, 48, 36, 45, 13],\n",
       "       [48, 24, 29,  4,  6],\n",
       "       [42, 26, 16, 43, 48]], dtype=int32)"
      ]
     },
     "execution_count": 27,
     "metadata": {},
     "output_type": "execute_result"
    }
   ],
   "source": [
    "np.asarray(x)"
   ]
  },
  {
   "cell_type": "code",
   "execution_count": 28,
   "metadata": {},
   "outputs": [
    {
     "data": {
      "text/plain": [
       "[Array([[44, 15, 20, 22, 13]], dtype=int32),\n",
       " Array([[ 0, 48, 36, 45, 13]], dtype=int32),\n",
       " Array([[48, 24, 29,  4,  6]], dtype=int32),\n",
       " Array([[42, 26, 16, 43, 48]], dtype=int32),\n",
       " Array([], dtype=int32),\n",
       " Array([], dtype=int32)]"
      ]
     },
     "execution_count": 28,
     "metadata": {},
     "output_type": "execute_result"
    }
   ],
   "source": [
    "jnp.array_split(np.asarray(x), 6, axis=0)"
   ]
  },
  {
   "cell_type": "code",
   "execution_count": 29,
   "metadata": {},
   "outputs": [
    {
     "data": {
      "text/plain": [
       "[Array([[44, 15, 20, 22, 13]], dtype=int32),\n",
       " Array([[ 0, 48, 36, 45, 13],\n",
       "        [48, 24, 29,  4,  6]], dtype=int32),\n",
       " Array([[42, 26, 16, 43, 48]], dtype=int32)]"
      ]
     },
     "execution_count": 29,
     "metadata": {},
     "output_type": "execute_result"
    }
   ],
   "source": [
    "jnp.array_split(x, [1, 3, ], axis=0)"
   ]
  },
  {
   "cell_type": "code",
   "execution_count": 30,
   "metadata": {},
   "outputs": [
    {
     "data": {
      "text/plain": [
       "[Array([[44, 15, 20, 22, 13]], dtype=int32),\n",
       " Array([[ 0, 48, 36, 45, 13],\n",
       "        [48, 24, 29,  4,  6]], dtype=int32),\n",
       " Array([[42, 26, 16, 43, 48]], dtype=int32)]"
      ]
     },
     "execution_count": 30,
     "metadata": {},
     "output_type": "execute_result"
    }
   ],
   "source": [
    "jnp.array_split(x, [1, 3,], axis=0)"
   ]
  },
  {
   "cell_type": "code",
   "execution_count": 31,
   "metadata": {},
   "outputs": [
    {
     "data": {
      "text/plain": [
       "Array([[13, 15, 20, 22, 44],\n",
       "       [ 0, 13, 36, 45, 48],\n",
       "       [ 4,  6, 24, 29, 48],\n",
       "       [16, 26, 42, 43, 48]], dtype=int32)"
      ]
     },
     "execution_count": 31,
     "metadata": {},
     "output_type": "execute_result"
    }
   ],
   "source": [
    "jnp.sort(x, axis=1)"
   ]
  },
  {
   "cell_type": "code",
   "execution_count": 32,
   "metadata": {},
   "outputs": [
    {
     "data": {
      "text/plain": [
       "Array([[4, 1, 2, 3, 0],\n",
       "       [0, 4, 2, 3, 1],\n",
       "       [3, 4, 1, 2, 0],\n",
       "       [2, 1, 0, 3, 4]], dtype=int32)"
      ]
     },
     "execution_count": 32,
     "metadata": {},
     "output_type": "execute_result"
    }
   ],
   "source": [
    "jnp.argsort(x, axis=1)"
   ]
  },
  {
   "cell_type": "code",
   "execution_count": 33,
   "metadata": {},
   "outputs": [
    {
     "data": {
      "text/plain": [
       "Array([4, 0, 3, 2], dtype=int32)"
      ]
     },
     "execution_count": 33,
     "metadata": {},
     "output_type": "execute_result"
    }
   ],
   "source": [
    "jnp.argmin(x, 1)"
   ]
  },
  {
   "cell_type": "code",
   "execution_count": 34,
   "metadata": {},
   "outputs": [
    {
     "data": {
      "text/plain": [
       "Array([[[[44, 15, 20, 22, 13],\n",
       "         [ 0, 48, 36, 45, 13],\n",
       "         [48, 24, 29,  4,  6],\n",
       "         [42, 26, 16, 43, 48]]],\n",
       "\n",
       "\n",
       "       [[[44, 15, 20, 22, 13],\n",
       "         [ 0, 48, 36, 45, 13],\n",
       "         [48, 24, 29,  4,  6],\n",
       "         [42, 26, 16, 43, 48]]],\n",
       "\n",
       "\n",
       "       [[[44, 15, 20, 22, 13],\n",
       "         [ 0, 48, 36, 45, 13],\n",
       "         [48, 24, 29,  4,  6],\n",
       "         [42, 26, 16, 43, 48]]]], dtype=int32)"
      ]
     },
     "execution_count": 34,
     "metadata": {},
     "output_type": "execute_result"
    }
   ],
   "source": [
    "jnp.broadcast_to(x, (3, 1, 4, 5))"
   ]
  },
  {
   "cell_type": "code",
   "execution_count": 35,
   "metadata": {},
   "outputs": [
    {
     "data": {
      "text/plain": [
       "Array([-1,  1,  2,  3,  4], dtype=int32)"
      ]
     },
     "execution_count": 35,
     "metadata": {},
     "output_type": "execute_result"
    }
   ],
   "source": [
    "y"
   ]
  },
  {
   "cell_type": "code",
   "execution_count": 36,
   "metadata": {},
   "outputs": [
    {
     "data": {
      "text/plain": [
       "Array([[ 0,  0, -1,  0,  0,  0,  0],\n",
       "       [ 0,  0,  0,  1,  0,  0,  0],\n",
       "       [ 0,  0,  0,  0,  2,  0,  0],\n",
       "       [ 0,  0,  0,  0,  0,  3,  0],\n",
       "       [ 0,  0,  0,  0,  0,  0,  4],\n",
       "       [ 0,  0,  0,  0,  0,  0,  0],\n",
       "       [ 0,  0,  0,  0,  0,  0,  0]], dtype=int32)"
      ]
     },
     "execution_count": 36,
     "metadata": {},
     "output_type": "execute_result"
    }
   ],
   "source": [
    "jnp.diag(y, 2)"
   ]
  },
  {
   "cell_type": "code",
   "execution_count": 37,
   "metadata": {},
   "outputs": [
    {
     "data": {
      "text/plain": [
       "Array([[ 0,  0,  0,  0,  0,  0,  0],\n",
       "       [ 0,  0,  0,  0,  0,  0,  0],\n",
       "       [-1,  0,  0,  0,  0,  0,  0],\n",
       "       [ 0,  1,  0,  0,  0,  0,  0],\n",
       "       [ 0,  0,  2,  0,  0,  0,  0],\n",
       "       [ 0,  0,  0,  3,  0,  0,  0],\n",
       "       [ 0,  0,  0,  0,  4,  0,  0]], dtype=int32)"
      ]
     },
     "execution_count": 37,
     "metadata": {},
     "output_type": "execute_result"
    }
   ],
   "source": [
    "jnp.diag(y, -2)"
   ]
  },
  {
   "cell_type": "code",
   "execution_count": 38,
   "metadata": {},
   "outputs": [
    {
     "data": {
      "text/plain": [
       "(Array([0, 1, 2, 3, 4], dtype=int32), Array([0, 1, 2, 3, 4], dtype=int32))"
      ]
     },
     "execution_count": 38,
     "metadata": {},
     "output_type": "execute_result"
    }
   ],
   "source": [
    "jnp.diag_indices(5)"
   ]
  },
  {
   "cell_type": "code",
   "execution_count": 39,
   "metadata": {},
   "outputs": [
    {
     "data": {
      "text/plain": [
       "((Array([0, 1, 2, 3, 4, 5], dtype=int32),\n",
       "  Array([0, 1, 2, 3, 4, 5], dtype=int32),\n",
       "  Array([0, 1, 2, 3, 4, 5], dtype=int32),\n",
       "  Array([0, 1, 2, 3, 4, 5], dtype=int32),\n",
       "  Array([0, 1, 2, 3, 4, 5], dtype=int32),\n",
       "  Array([0, 1, 2, 3, 4, 5], dtype=int32),\n",
       "  Array([0, 1, 2, 3, 4, 5], dtype=int32),\n",
       "  Array([0, 1, 2, 3, 4, 5], dtype=int32),\n",
       "  Array([0, 1, 2, 3, 4, 5], dtype=int32),\n",
       "  Array([0, 1, 2, 3, 4, 5], dtype=int32),\n",
       "  Array([0, 1, 2, 3, 4, 5], dtype=int32),\n",
       "  Array([0, 1, 2, 3, 4, 5], dtype=int32),\n",
       "  Array([0, 1, 2, 3, 4, 5], dtype=int32),\n",
       "  Array([0, 1, 2, 3, 4, 5], dtype=int32),\n",
       "  Array([0, 1, 2, 3, 4, 5], dtype=int32),\n",
       "  Array([0, 1, 2, 3, 4, 5], dtype=int32),\n",
       "  Array([0, 1, 2, 3, 4, 5], dtype=int32),\n",
       "  Array([0, 1, 2, 3, 4, 5], dtype=int32),\n",
       "  Array([0, 1, 2, 3, 4, 5], dtype=int32),\n",
       "  Array([0, 1, 2, 3, 4, 5], dtype=int32),\n",
       "  Array([0, 1, 2, 3, 4, 5], dtype=int32),\n",
       "  Array([0, 1, 2, 3, 4, 5], dtype=int32),\n",
       "  Array([0, 1, 2, 3, 4, 5], dtype=int32),\n",
       "  Array([0, 1, 2, 3, 4, 5], dtype=int32),\n",
       "  Array([0, 1, 2, 3, 4, 5], dtype=int32),\n",
       "  Array([0, 1, 2, 3, 4, 5], dtype=int32),\n",
       "  Array([0, 1, 2, 3, 4, 5], dtype=int32),\n",
       "  Array([0, 1, 2, 3, 4, 5], dtype=int32),\n",
       "  Array([0, 1, 2, 3, 4, 5], dtype=int32),\n",
       "  Array([0, 1, 2, 3, 4, 5], dtype=int32)),\n",
       " 30)"
      ]
     },
     "execution_count": 39,
     "metadata": {},
     "output_type": "execute_result"
    }
   ],
   "source": [
    "jnp.diag_indices(6, 30), len(jnp.diag_indices(5, 30))"
   ]
  },
  {
   "cell_type": "code",
   "execution_count": 40,
   "metadata": {},
   "outputs": [
    {
     "data": {
      "text/plain": [
       "Array([[-1,  0,  0,  0,  0],\n",
       "       [ 0,  1,  0,  0,  0],\n",
       "       [ 0,  0,  2,  0,  0],\n",
       "       [ 0,  0,  0,  3,  0],\n",
       "       [ 0,  0,  0,  0,  4]], dtype=int32)"
      ]
     },
     "execution_count": 40,
     "metadata": {},
     "output_type": "execute_result"
    }
   ],
   "source": [
    "jnp.diagflat(y)"
   ]
  },
  {
   "cell_type": "code",
   "execution_count": 41,
   "metadata": {},
   "outputs": [
    {
     "data": {
      "text/plain": [
       "(Array([[44, 15, 20, 22, 13],\n",
       "        [ 0, 48, 36, 45, 13],\n",
       "        [48, 24, 29,  4,  6],\n",
       "        [42, 26, 16, 43, 48]], dtype=int32),\n",
       " Array([44, 48, 29, 43], dtype=int32))"
      ]
     },
     "execution_count": 41,
     "metadata": {},
     "output_type": "execute_result"
    }
   ],
   "source": [
    "x, jnp.diag(x)"
   ]
  },
  {
   "cell_type": "code",
   "execution_count": 42,
   "metadata": {},
   "outputs": [
    {
     "data": {
      "text/plain": [
       "(Array([[44, 15, 20, 22, 13],\n",
       "        [ 0, 48, 36, 45, 13],\n",
       "        [48, 24, 29,  4,  6],\n",
       "        [42, 26, 16, 43, 48]], dtype=int32),\n",
       " Array([[44,  0,  0,  0,  0,  0,  0,  0,  0,  0,  0,  0,  0,  0,  0,  0,\n",
       "          0,  0,  0,  0],\n",
       "        [ 0, 15,  0,  0,  0,  0,  0,  0,  0,  0,  0,  0,  0,  0,  0,  0,\n",
       "          0,  0,  0,  0],\n",
       "        [ 0,  0, 20,  0,  0,  0,  0,  0,  0,  0,  0,  0,  0,  0,  0,  0,\n",
       "          0,  0,  0,  0],\n",
       "        [ 0,  0,  0, 22,  0,  0,  0,  0,  0,  0,  0,  0,  0,  0,  0,  0,\n",
       "          0,  0,  0,  0],\n",
       "        [ 0,  0,  0,  0, 13,  0,  0,  0,  0,  0,  0,  0,  0,  0,  0,  0,\n",
       "          0,  0,  0,  0],\n",
       "        [ 0,  0,  0,  0,  0,  0,  0,  0,  0,  0,  0,  0,  0,  0,  0,  0,\n",
       "          0,  0,  0,  0],\n",
       "        [ 0,  0,  0,  0,  0,  0, 48,  0,  0,  0,  0,  0,  0,  0,  0,  0,\n",
       "          0,  0,  0,  0],\n",
       "        [ 0,  0,  0,  0,  0,  0,  0, 36,  0,  0,  0,  0,  0,  0,  0,  0,\n",
       "          0,  0,  0,  0],\n",
       "        [ 0,  0,  0,  0,  0,  0,  0,  0, 45,  0,  0,  0,  0,  0,  0,  0,\n",
       "          0,  0,  0,  0],\n",
       "        [ 0,  0,  0,  0,  0,  0,  0,  0,  0, 13,  0,  0,  0,  0,  0,  0,\n",
       "          0,  0,  0,  0],\n",
       "        [ 0,  0,  0,  0,  0,  0,  0,  0,  0,  0, 48,  0,  0,  0,  0,  0,\n",
       "          0,  0,  0,  0],\n",
       "        [ 0,  0,  0,  0,  0,  0,  0,  0,  0,  0,  0, 24,  0,  0,  0,  0,\n",
       "          0,  0,  0,  0],\n",
       "        [ 0,  0,  0,  0,  0,  0,  0,  0,  0,  0,  0,  0, 29,  0,  0,  0,\n",
       "          0,  0,  0,  0],\n",
       "        [ 0,  0,  0,  0,  0,  0,  0,  0,  0,  0,  0,  0,  0,  4,  0,  0,\n",
       "          0,  0,  0,  0],\n",
       "        [ 0,  0,  0,  0,  0,  0,  0,  0,  0,  0,  0,  0,  0,  0,  6,  0,\n",
       "          0,  0,  0,  0],\n",
       "        [ 0,  0,  0,  0,  0,  0,  0,  0,  0,  0,  0,  0,  0,  0,  0, 42,\n",
       "          0,  0,  0,  0],\n",
       "        [ 0,  0,  0,  0,  0,  0,  0,  0,  0,  0,  0,  0,  0,  0,  0,  0,\n",
       "         26,  0,  0,  0],\n",
       "        [ 0,  0,  0,  0,  0,  0,  0,  0,  0,  0,  0,  0,  0,  0,  0,  0,\n",
       "          0, 16,  0,  0],\n",
       "        [ 0,  0,  0,  0,  0,  0,  0,  0,  0,  0,  0,  0,  0,  0,  0,  0,\n",
       "          0,  0, 43,  0],\n",
       "        [ 0,  0,  0,  0,  0,  0,  0,  0,  0,  0,  0,  0,  0,  0,  0,  0,\n",
       "          0,  0,  0, 48]], dtype=int32))"
      ]
     },
     "execution_count": 42,
     "metadata": {},
     "output_type": "execute_result"
    }
   ],
   "source": [
    "x, jnp.diagflat(x)"
   ]
  },
  {
   "cell_type": "code",
   "execution_count": 43,
   "metadata": {},
   "outputs": [
    {
     "data": {
      "text/plain": [
       "Array(164, dtype=int32)"
      ]
     },
     "execution_count": 43,
     "metadata": {},
     "output_type": "execute_result"
    }
   ],
   "source": [
    "jnp.trace(x)"
   ]
  },
  {
   "cell_type": "code",
   "execution_count": 44,
   "metadata": {},
   "outputs": [
    {
     "data": {
      "text/plain": [
       "Array([[44, 15, 20, 22, 13],\n",
       "       [ 0, 48, 36, 45, 13],\n",
       "       [ 0,  0, 29,  4,  6],\n",
       "       [ 0,  0,  0, 43, 48]], dtype=int32)"
      ]
     },
     "execution_count": 44,
     "metadata": {},
     "output_type": "execute_result"
    }
   ],
   "source": [
    "jnp.triu(x)"
   ]
  },
  {
   "cell_type": "code",
   "execution_count": 45,
   "metadata": {},
   "outputs": [
    {
     "data": {
      "text/plain": [
       "Array([[44,  0,  0,  0,  0],\n",
       "       [ 0, 48,  0,  0,  0],\n",
       "       [48, 24, 29,  0,  0],\n",
       "       [42, 26, 16, 43,  0]], dtype=int32)"
      ]
     },
     "execution_count": 45,
     "metadata": {},
     "output_type": "execute_result"
    }
   ],
   "source": [
    "jnp.tril(x)"
   ]
  },
  {
   "cell_type": "code",
   "execution_count": 46,
   "metadata": {},
   "outputs": [
    {
     "data": {
      "text/plain": [
       "(Array([0, 1, 1, 2, 2, 2, 3, 3, 3, 3, 4, 4, 4, 4, 4], dtype=int32),\n",
       " Array([0, 0, 1, 0, 1, 2, 0, 1, 2, 3, 0, 1, 2, 3, 4], dtype=int32))"
      ]
     },
     "execution_count": 46,
     "metadata": {},
     "output_type": "execute_result"
    }
   ],
   "source": [
    "jnp.tril_indices(5)"
   ]
  },
  {
   "cell_type": "code",
   "execution_count": 47,
   "metadata": {},
   "outputs": [
    {
     "data": {
      "text/plain": [
       "(Array([[44, 15, 20, 22, 13],\n",
       "        [ 0, 48, 36, 45, 13],\n",
       "        [48, 24, 29,  4,  6],\n",
       "        [42, 26, 16, 43, 48]], dtype=int32),\n",
       " Array([[13, 22, 20, 15, 44],\n",
       "        [13, 45, 36, 48,  0],\n",
       "        [ 6,  4, 29, 24, 48],\n",
       "        [48, 43, 16, 26, 42]], dtype=int32))"
      ]
     },
     "execution_count": 47,
     "metadata": {},
     "output_type": "execute_result"
    }
   ],
   "source": [
    "x, jnp.flip(x, 1)"
   ]
  },
  {
   "cell_type": "code",
   "execution_count": 48,
   "metadata": {},
   "outputs": [
    {
     "data": {
      "text/plain": [
       "(Array([[44, 15, 20, 22, 13],\n",
       "        [ 0, 48, 36, 45, 13],\n",
       "        [48, 24, 29,  4,  6],\n",
       "        [42, 26, 16, 43, 48]], dtype=int32),\n",
       " Array([[13, 22, 20, 15, 44],\n",
       "        [13, 45, 36, 48,  0],\n",
       "        [ 6,  4, 29, 24, 48],\n",
       "        [48, 43, 16, 26, 42]], dtype=int32))"
      ]
     },
     "execution_count": 48,
     "metadata": {},
     "output_type": "execute_result"
    }
   ],
   "source": [
    "x, jnp.fliplr(x)"
   ]
  },
  {
   "cell_type": "code",
   "execution_count": 49,
   "metadata": {},
   "outputs": [
    {
     "data": {
      "text/plain": [
       "(Array([[44, 15, 20, 22, 13],\n",
       "        [ 0, 48, 36, 45, 13],\n",
       "        [48, 24, 29,  4,  6],\n",
       "        [42, 26, 16, 43, 48]], dtype=int32),\n",
       " Array([[42, 26, 16, 43, 48],\n",
       "        [48, 24, 29,  4,  6],\n",
       "        [ 0, 48, 36, 45, 13],\n",
       "        [44, 15, 20, 22, 13]], dtype=int32))"
      ]
     },
     "execution_count": 49,
     "metadata": {},
     "output_type": "execute_result"
    }
   ],
   "source": [
    "x, jnp.flipud(x)"
   ]
  },
  {
   "cell_type": "code",
   "execution_count": 50,
   "metadata": {},
   "outputs": [
    {
     "data": {
      "text/plain": [
       "(Array([[44, 15, 20, 22, 13],\n",
       "        [ 0, 48, 36, 45, 13],\n",
       "        [48, 24, 29,  4,  6],\n",
       "        [42, 26, 16, 43, 48]], dtype=int32),\n",
       " Array([[ 0, 48, 36, 45, 13],\n",
       "        [48, 24, 29,  4,  6],\n",
       "        [42, 26, 16, 43, 48],\n",
       "        [44, 15, 20, 22, 13]], dtype=int32))"
      ]
     },
     "execution_count": 50,
     "metadata": {},
     "output_type": "execute_result"
    }
   ],
   "source": [
    "x, jnp.roll(x, -1, axis=0)"
   ]
  },
  {
   "cell_type": "code",
   "execution_count": 51,
   "metadata": {},
   "outputs": [
    {
     "data": {
      "text/plain": [
       "((4, 5), (5,))"
      ]
     },
     "execution_count": 51,
     "metadata": {},
     "output_type": "execute_result"
    }
   ],
   "source": [
    "x.shape, y.shape"
   ]
  },
  {
   "cell_type": "code",
   "execution_count": 52,
   "metadata": {},
   "outputs": [
    {
     "data": {
      "text/plain": [
       "Array([129, 307,  70, 337], dtype=int32)"
      ]
     },
     "execution_count": 52,
     "metadata": {},
     "output_type": "execute_result"
    }
   ],
   "source": [
    "jnp.dot(x, y)"
   ]
  },
  {
   "cell_type": "code",
   "execution_count": 53,
   "metadata": {},
   "outputs": [
    {
     "data": {
      "text/plain": [
       "Array([[[129, 129, 129, 129],\n",
       "        [307, 307, 307, 307],\n",
       "        [ 70,  70,  70,  70],\n",
       "        [337, 337, 337, 337]],\n",
       "\n",
       "       [[129, 129, 129, 129],\n",
       "        [307, 307, 307, 307],\n",
       "        [ 70,  70,  70,  70],\n",
       "        [337, 337, 337, 337]],\n",
       "\n",
       "       [[129, 129, 129, 129],\n",
       "        [307, 307, 307, 307],\n",
       "        [ 70,  70,  70,  70],\n",
       "        [337, 337, 337, 337]]], dtype=int32)"
      ]
     },
     "execution_count": 53,
     "metadata": {},
     "output_type": "execute_result"
    }
   ],
   "source": [
    "jnp.dot(np.broadcast_to(x, (3, 4, 5)), np.tile(np.expand_dims(y, 1) , (1, 4)))"
   ]
  },
  {
   "cell_type": "code",
   "execution_count": 54,
   "metadata": {},
   "outputs": [
    {
     "data": {
      "text/plain": [
       "(3, 4, 4)"
      ]
     },
     "execution_count": 54,
     "metadata": {},
     "output_type": "execute_result"
    }
   ],
   "source": [
    "jnp.dot(np.broadcast_to(x, (3, 4, 5)), np.tile(np.expand_dims(y, 1) , (1, 4))).shape"
   ]
  },
  {
   "cell_type": "code",
   "execution_count": 55,
   "metadata": {},
   "outputs": [
    {
     "data": {
      "text/plain": [
       "Array([0, 0], dtype=uint32)"
      ]
     },
     "execution_count": 55,
     "metadata": {},
     "output_type": "execute_result"
    }
   ],
   "source": [
    "key"
   ]
  },
  {
   "cell_type": "code",
   "execution_count": 56,
   "metadata": {},
   "outputs": [],
   "source": [
    "key = jax.random.PRNGKey(seed=5)"
   ]
  },
  {
   "cell_type": "code",
   "execution_count": 57,
   "metadata": {},
   "outputs": [
    {
     "data": {
      "text/plain": [
       "Array([0, 5], dtype=uint32)"
      ]
     },
     "execution_count": 57,
     "metadata": {},
     "output_type": "execute_result"
    }
   ],
   "source": [
    "key"
   ]
  },
  {
   "cell_type": "code",
   "execution_count": 58,
   "metadata": {},
   "outputs": [],
   "source": [
    "key, *_ = jax.random.split(key, 20)"
   ]
  },
  {
   "cell_type": "code",
   "execution_count": 59,
   "metadata": {},
   "outputs": [
    {
     "data": {
      "text/plain": [
       "Array([  84775539, 2720752065], dtype=uint32)"
      ]
     },
     "execution_count": 59,
     "metadata": {},
     "output_type": "execute_result"
    }
   ],
   "source": [
    "key"
   ]
  },
  {
   "cell_type": "code",
   "execution_count": 60,
   "metadata": {},
   "outputs": [
    {
     "data": {
      "text/plain": [
       "[Array([ 980787721, 1571846600], dtype=uint32),\n",
       " Array([1007743226, 3120075090], dtype=uint32),\n",
       " Array([3201064266, 3236850083], dtype=uint32),\n",
       " Array([740533610, 640878686], dtype=uint32),\n",
       " Array([ 475814257, 3173774151], dtype=uint32),\n",
       " Array([1908136826, 1173383811], dtype=uint32),\n",
       " Array([ 179546637, 1840145968], dtype=uint32),\n",
       " Array([1965024788, 1524004005], dtype=uint32),\n",
       " Array([ 697406116, 3303489305], dtype=uint32),\n",
       " Array([4172440623, 3335609293], dtype=uint32),\n",
       " Array([ 821161162, 2762259627], dtype=uint32),\n",
       " Array([1828496065, 2758455946], dtype=uint32),\n",
       " Array([3523310616,  467218465], dtype=uint32),\n",
       " Array([3440189246, 2347239895], dtype=uint32),\n",
       " Array([1978253726,  662287391], dtype=uint32),\n",
       " Array([ 300712910, 2123853990], dtype=uint32),\n",
       " Array([2297842293, 2913231330], dtype=uint32),\n",
       " Array([2173157618, 2214942288], dtype=uint32),\n",
       " Array([ 202744884, 3134903809], dtype=uint32)]"
      ]
     },
     "execution_count": 60,
     "metadata": {},
     "output_type": "execute_result"
    }
   ],
   "source": [
    "_"
   ]
  },
  {
   "cell_type": "code",
   "execution_count": 61,
   "metadata": {},
   "outputs": [],
   "source": [
    "key, subkey = jax.random.split(key)"
   ]
  },
  {
   "cell_type": "code",
   "execution_count": 62,
   "metadata": {},
   "outputs": [
    {
     "data": {
      "text/plain": [
       "Array([2988791336, 2133025927], dtype=uint32)"
      ]
     },
     "execution_count": 62,
     "metadata": {},
     "output_type": "execute_result"
    }
   ],
   "source": [
    "key"
   ]
  },
  {
   "cell_type": "code",
   "execution_count": 63,
   "metadata": {},
   "outputs": [
    {
     "data": {
      "text/plain": [
       "(4, 3, 4)"
      ]
     },
     "execution_count": 63,
     "metadata": {},
     "output_type": "execute_result"
    }
   ],
   "source": [
    "w = jnp.matmul(jax.random.normal(subkey, (4, 3, 2)), jax.random.normal(subkey, (2, 4)))\n",
    "jnp.shape(w)"
   ]
  },
  {
   "cell_type": "code",
   "execution_count": 64,
   "metadata": {},
   "outputs": [
    {
     "data": {
      "text/plain": [
       "(4, 3, 2, 2)"
      ]
     },
     "execution_count": 64,
     "metadata": {},
     "output_type": "execute_result"
    }
   ],
   "source": [
    "w = jnp.matmul(jax.random.normal(subkey, (4, 3, 2, 5)), jax.random.normal(subkey, (5, 2)))\n",
    "jnp.shape(w)"
   ]
  },
  {
   "cell_type": "code",
   "execution_count": 65,
   "metadata": {},
   "outputs": [
    {
     "data": {
      "text/plain": [
       "(4, 3, 2, 2)"
      ]
     },
     "execution_count": 65,
     "metadata": {},
     "output_type": "execute_result"
    }
   ],
   "source": [
    "w = jnp.matmul(jax.random.normal(subkey, (4, 3, 2, 5)), jax.random.normal(subkey, (4, 3, 5, 2)))\n",
    "jnp.shape(w)"
   ]
  },
  {
   "cell_type": "code",
   "execution_count": 66,
   "metadata": {},
   "outputs": [
    {
     "data": {
      "text/plain": [
       "Array([[-1.9930767 , -1.3934299 , -0.68941104,  0.0639805 , -0.7785856 ,\n",
       "         2.6118815 ,  1.677761  ,  0.39413148,  0.8744686 , -1.3173182 ],\n",
       "       [ 1.3594457 , -1.778455  , -0.46226558,  1.0610049 , -0.43135017,\n",
       "        -0.82170516,  3.516832  ,  0.12264854,  0.52996224, -0.65820223],\n",
       "       [-1.2196643 , -0.36332542, -0.6067744 , -1.118698  ,  1.8194904 ,\n",
       "        -0.86865413, -0.96552336, -0.15416686, -0.16845837, -1.3569748 ],\n",
       "       [ 1.2428071 ,  1.5593872 , -0.45243326, -0.16011813, -0.05142116,\n",
       "        -0.03753103, -0.5560572 , -0.6731499 , -0.32712233,  0.0626047 ]],      dtype=float32)"
      ]
     },
     "execution_count": 66,
     "metadata": {},
     "output_type": "execute_result"
    }
   ],
   "source": [
    "x = jax.random.normal(subkey, (4, 10))\n",
    "x"
   ]
  },
  {
   "cell_type": "code",
   "execution_count": 67,
   "metadata": {},
   "outputs": [
    {
     "data": {
      "text/plain": [
       "Array([[-1.9930767 , -1.778455  , -1.3569748 , -0.6731499 ],\n",
       "       [-1.9795847 , -1.7569282 , -1.3538854 , -0.67051536],\n",
       "       [-1.9660925 , -1.7354012 , -1.3507959 , -0.6678807 ],\n",
       "       [-1.9526005 , -1.7138745 , -1.3477064 , -0.6652461 ],\n",
       "       [-1.9391085 , -1.6923476 , -1.344617  , -0.66261154]],      dtype=float32)"
      ]
     },
     "execution_count": 67,
     "metadata": {},
     "output_type": "execute_result"
    }
   ],
   "source": [
    "jnp.percentile(x, jnp.linspace(0, 1., 5), axis=-1)"
   ]
  },
  {
   "cell_type": "code",
   "execution_count": 68,
   "metadata": {},
   "outputs": [
    {
     "data": {
      "text/plain": [
       "Array([0., 1., 2., 3., 4.], dtype=float32)"
      ]
     },
     "execution_count": 68,
     "metadata": {},
     "output_type": "execute_result"
    }
   ],
   "source": [
    "x = jnp.arange(5.)\n",
    "x"
   ]
  },
  {
   "cell_type": "code",
   "execution_count": 69,
   "metadata": {},
   "outputs": [],
   "source": [
    "def f(x):\n",
    "    return jnp.sum(x**2)"
   ]
  },
  {
   "cell_type": "code",
   "execution_count": 70,
   "metadata": {},
   "outputs": [],
   "source": [
    "g = jax.grad(f)"
   ]
  },
  {
   "cell_type": "code",
   "execution_count": 71,
   "metadata": {},
   "outputs": [
    {
     "data": {
      "text/plain": [
       "<function __main__.f(x)>"
      ]
     },
     "execution_count": 71,
     "metadata": {},
     "output_type": "execute_result"
    }
   ],
   "source": [
    "g"
   ]
  },
  {
   "cell_type": "code",
   "execution_count": 72,
   "metadata": {},
   "outputs": [
    {
     "data": {
      "text/plain": [
       "Array([0., 2., 4., 6., 8.], dtype=float32)"
      ]
     },
     "execution_count": 72,
     "metadata": {},
     "output_type": "execute_result"
    }
   ],
   "source": [
    "g(x)"
   ]
  },
  {
   "cell_type": "code",
   "execution_count": 73,
   "metadata": {},
   "outputs": [],
   "source": [
    "def f(x):\n",
    "    return x**2"
   ]
  },
  {
   "cell_type": "code",
   "execution_count": 74,
   "metadata": {},
   "outputs": [
    {
     "data": {
      "text/plain": [
       "Array([[0., 0., 0., 0., 0.],\n",
       "       [0., 2., 0., 0., 0.],\n",
       "       [0., 0., 4., 0., 0.],\n",
       "       [0., 0., 0., 6., 0.],\n",
       "       [0., 0., 0., 0., 8.]], dtype=float32)"
      ]
     },
     "execution_count": 74,
     "metadata": {},
     "output_type": "execute_result"
    }
   ],
   "source": [
    "jax.jacobian(f)(x)"
   ]
  },
  {
   "cell_type": "code",
   "execution_count": 75,
   "metadata": {},
   "outputs": [],
   "source": [
    "def batch_prod(x, w):\n",
    "    return jnp.dot(x, w)\n"
   ]
  },
  {
   "cell_type": "code",
   "execution_count": 76,
   "metadata": {},
   "outputs": [
    {
     "data": {
      "text/plain": [
       "(Array([[[ 0.,  1.,  2.,  3.],\n",
       "         [ 4.,  5.,  6.,  7.],\n",
       "         [ 8.,  9., 10., 11.],\n",
       "         [12., 13., 14., 15.],\n",
       "         [16., 17., 18., 19.]],\n",
       " \n",
       "        [[20., 21., 22., 23.],\n",
       "         [24., 25., 26., 27.],\n",
       "         [28., 29., 30., 31.],\n",
       "         [32., 33., 34., 35.],\n",
       "         [36., 37., 38., 39.]]], dtype=float32),\n",
       " Array([1., 1., 1., 1.], dtype=float32))"
      ]
     },
     "execution_count": 76,
     "metadata": {},
     "output_type": "execute_result"
    }
   ],
   "source": [
    "x = jnp.arange(2*5*4.).reshape((2, 5, 4))\n",
    "y = jnp.ones(4)\n",
    "x, y"
   ]
  },
  {
   "cell_type": "code",
   "execution_count": 77,
   "metadata": {},
   "outputs": [],
   "source": [
    "f = jax.vmap(batch_prod, in_axes=(1, None))"
   ]
  },
  {
   "cell_type": "code",
   "execution_count": 78,
   "metadata": {},
   "outputs": [
    {
     "data": {
      "text/plain": [
       "Array([[  6.,  86.],\n",
       "       [ 22., 102.],\n",
       "       [ 38., 118.],\n",
       "       [ 54., 134.],\n",
       "       [ 70., 150.]], dtype=float32)"
      ]
     },
     "execution_count": 78,
     "metadata": {},
     "output_type": "execute_result"
    }
   ],
   "source": [
    "f(x, y)"
   ]
  },
  {
   "cell_type": "code",
   "execution_count": 79,
   "metadata": {},
   "outputs": [],
   "source": [
    "f = jax.vmap(batch_prod, in_axes=(1, None), out_axes=1)"
   ]
  },
  {
   "cell_type": "code",
   "execution_count": 80,
   "metadata": {},
   "outputs": [
    {
     "data": {
      "text/plain": [
       "Array([[  6.,  22.,  38.,  54.,  70.],\n",
       "       [ 86., 102., 118., 134., 150.]], dtype=float32)"
      ]
     },
     "execution_count": 80,
     "metadata": {},
     "output_type": "execute_result"
    }
   ],
   "source": [
    "f(x, y)"
   ]
  },
  {
   "cell_type": "code",
   "execution_count": 81,
   "metadata": {},
   "outputs": [],
   "source": [
    "f = jax.vmap(batch_prod, in_axes=(1, None), out_axes=0)"
   ]
  },
  {
   "cell_type": "code",
   "execution_count": 82,
   "metadata": {},
   "outputs": [
    {
     "data": {
      "text/plain": [
       "Array([[  6.,  86.],\n",
       "       [ 22., 102.],\n",
       "       [ 38., 118.],\n",
       "       [ 54., 134.],\n",
       "       [ 70., 150.]], dtype=float32)"
      ]
     },
     "execution_count": 82,
     "metadata": {},
     "output_type": "execute_result"
    }
   ],
   "source": [
    "f(x, y)"
   ]
  },
  {
   "cell_type": "code",
   "execution_count": 83,
   "metadata": {},
   "outputs": [],
   "source": [
    "@jax.jit\n",
    "def func(x, y):\n",
    "    return (x**2 + y).sum()"
   ]
  },
  {
   "cell_type": "code",
   "execution_count": 84,
   "metadata": {},
   "outputs": [],
   "source": [
    "x = jnp.array(5.0)"
   ]
  },
  {
   "cell_type": "code",
   "execution_count": 85,
   "metadata": {},
   "outputs": [],
   "source": [
    "g = jax.grad(func, )"
   ]
  },
  {
   "cell_type": "code",
   "execution_count": 86,
   "metadata": {},
   "outputs": [
    {
     "data": {
      "text/plain": [
       "Array(40., dtype=float32, weak_type=True)"
      ]
     },
     "execution_count": 86,
     "metadata": {},
     "output_type": "execute_result"
    }
   ],
   "source": [
    "g(x, y)"
   ]
  },
  {
   "cell_type": "code",
   "execution_count": 87,
   "metadata": {},
   "outputs": [],
   "source": [
    "g = jax.grad(func, argnums=(0, 1))"
   ]
  },
  {
   "cell_type": "code",
   "execution_count": 88,
   "metadata": {},
   "outputs": [
    {
     "data": {
      "text/plain": [
       "(Array(40., dtype=float32, weak_type=True),\n",
       " Array([1., 1., 1., 1.], dtype=float32))"
      ]
     },
     "execution_count": 88,
     "metadata": {},
     "output_type": "execute_result"
    }
   ],
   "source": [
    "g(x, y)"
   ]
  },
  {
   "cell_type": "code",
   "execution_count": 89,
   "metadata": {},
   "outputs": [
    {
     "data": {
      "text/plain": [
       "Array([1., 1., 1., 1.], dtype=float32)"
      ]
     },
     "execution_count": 89,
     "metadata": {},
     "output_type": "execute_result"
    }
   ],
   "source": [
    "g = jax.grad(func, argnums=(1))\n",
    "g(x, y)"
   ]
  },
  {
   "cell_type": "code",
   "execution_count": 90,
   "metadata": {},
   "outputs": [],
   "source": [
    "@jax.jit\n",
    "def func(x, y):\n",
    "    return (x**2 + jax.lax.stop_gradient(y)).sum()"
   ]
  },
  {
   "cell_type": "code",
   "execution_count": 91,
   "metadata": {},
   "outputs": [
    {
     "data": {
      "text/plain": [
       "(Array(40., dtype=float32, weak_type=True),\n",
       " Array([0., 0., 0., 0.], dtype=float32))"
      ]
     },
     "execution_count": 91,
     "metadata": {},
     "output_type": "execute_result"
    }
   ],
   "source": [
    "g = jax.grad(func, argnums=(0, 1))\n",
    "g(x, y)"
   ]
  },
  {
   "cell_type": "code",
   "execution_count": 92,
   "metadata": {},
   "outputs": [
    {
     "data": {
      "text/plain": [
       "Array([ 0, 10], dtype=uint32)"
      ]
     },
     "execution_count": 92,
     "metadata": {},
     "output_type": "execute_result"
    }
   ],
   "source": [
    "jax.random.PRNGKey(10)"
   ]
  },
  {
   "cell_type": "code",
   "execution_count": 93,
   "metadata": {},
   "outputs": [
    {
     "data": {
      "text/plain": [
       "Array([ True,  True], dtype=bool)"
      ]
     },
     "execution_count": 93,
     "metadata": {},
     "output_type": "execute_result"
    }
   ],
   "source": [
    "jax.random.PRNGKey(10) == jnp.array([0, 10])"
   ]
  },
  {
   "cell_type": "code",
   "execution_count": 94,
   "metadata": {},
   "outputs": [],
   "source": [
    "key = jax.random.PRNGKey(10)"
   ]
  },
  {
   "cell_type": "code",
   "execution_count": 95,
   "metadata": {},
   "outputs": [
    {
     "data": {
      "text/plain": [
       "Array([[ 0.42030108, -0.06056546,  0.22010379, -0.15197884,  0.46862835,\n",
       "         0.3374904 ,  0.01795285,  0.12772979, -0.20340912, -1.8999158 ],\n",
       "       [-0.78252006,  1.1284409 , -0.5952904 , -0.3827003 ,  1.1825141 ,\n",
       "         0.14582098,  0.04951514, -1.1337341 , -0.20873532,  0.371957  ],\n",
       "       [-1.3804309 , -1.0564566 ,  0.76576585, -1.703756  , -0.47371206,\n",
       "         0.15269968,  1.6074513 , -0.6311777 , -0.07509681, -0.452469  ],\n",
       "       [ 0.8433158 ,  0.41477522,  0.19428597,  0.8396955 ,  1.6231618 ,\n",
       "        -0.7286042 , -1.2458912 , -0.02479621, -0.12747055,  1.6777537 ],\n",
       "       [-0.34432983, -1.4066381 ,  1.520736  ,  1.5373518 ,  0.5486705 ,\n",
       "         0.35862777, -1.8304359 ,  1.128324  ,  0.31939405,  0.12123182]],      dtype=float32)"
      ]
     },
     "execution_count": 95,
     "metadata": {},
     "output_type": "execute_result"
    }
   ],
   "source": [
    "jax.random.normal(key=key, shape=(5, 10))"
   ]
  },
  {
   "cell_type": "code",
   "execution_count": 96,
   "metadata": {},
   "outputs": [
    {
     "data": {
      "text/plain": [
       "Array([[ 0.42030108, -0.06056546,  0.22010379, -0.15197884,  0.46862835,\n",
       "         0.3374904 ,  0.01795285,  0.12772979, -0.20340912, -1.8999158 ],\n",
       "       [-0.78252006,  1.1284409 , -0.5952904 , -0.3827003 ,  1.1825141 ,\n",
       "         0.14582098,  0.04951514, -1.1337341 , -0.20873532,  0.371957  ],\n",
       "       [-1.3804309 , -1.0564566 ,  0.76576585, -1.703756  , -0.47371206,\n",
       "         0.15269968,  1.6074513 , -0.6311777 , -0.07509681, -0.452469  ],\n",
       "       [ 0.8433158 ,  0.41477522,  0.19428597,  0.8396955 ,  1.6231618 ,\n",
       "        -0.7286042 , -1.2458912 , -0.02479621, -0.12747055,  1.6777537 ],\n",
       "       [-0.34432983, -1.4066381 ,  1.520736  ,  1.5373518 ,  0.5486705 ,\n",
       "         0.35862777, -1.8304359 ,  1.128324  ,  0.31939405,  0.12123182]],      dtype=float32)"
      ]
     },
     "execution_count": 96,
     "metadata": {},
     "output_type": "execute_result"
    }
   ],
   "source": [
    "jax.random.normal(key=key, shape=(5, 10))"
   ]
  },
  {
   "cell_type": "code",
   "execution_count": 97,
   "metadata": {},
   "outputs": [],
   "source": [
    "key = jax.random.PRNGKey(10)"
   ]
  },
  {
   "cell_type": "code",
   "execution_count": 98,
   "metadata": {},
   "outputs": [],
   "source": [
    "new_key, *subkey = jax.random.split(key, 50)"
   ]
  },
  {
   "cell_type": "code",
   "execution_count": 99,
   "metadata": {},
   "outputs": [
    {
     "data": {
      "text/plain": [
       "Array([2557219826, 3749797334], dtype=uint32)"
      ]
     },
     "execution_count": 99,
     "metadata": {},
     "output_type": "execute_result"
    }
   ],
   "source": [
    "new_key"
   ]
  },
  {
   "cell_type": "code",
   "execution_count": 100,
   "metadata": {},
   "outputs": [
    {
     "data": {
      "text/plain": [
       "49"
      ]
     },
     "execution_count": 100,
     "metadata": {},
     "output_type": "execute_result"
    }
   ],
   "source": [
    "len(subkey)"
   ]
  },
  {
   "cell_type": "code",
   "execution_count": 101,
   "metadata": {},
   "outputs": [
    {
     "data": {
      "text/plain": [
       "[1, 2, 3]"
      ]
     },
     "execution_count": 101,
     "metadata": {},
     "output_type": "execute_result"
    }
   ],
   "source": [
    "jax.tree_util.tree_leaves([1, 2, 3])"
   ]
  },
  {
   "cell_type": "code",
   "execution_count": 102,
   "metadata": {},
   "outputs": [
    {
     "data": {
      "text/plain": [
       "[1, 2]"
      ]
     },
     "execution_count": 102,
     "metadata": {},
     "output_type": "execute_result"
    }
   ],
   "source": [
    "jax.tree_util.tree_leaves([1, 2, ()])"
   ]
  },
  {
   "cell_type": "code",
   "execution_count": 103,
   "metadata": {},
   "outputs": [
    {
     "data": {
      "text/plain": [
       "[1, 2]"
      ]
     },
     "execution_count": 103,
     "metadata": {},
     "output_type": "execute_result"
    }
   ],
   "source": [
    "jax.tree_util.tree_leaves([1, 2, []])"
   ]
  },
  {
   "cell_type": "code",
   "execution_count": 104,
   "metadata": {},
   "outputs": [
    {
     "data": {
      "text/plain": [
       "[1, 2, 5, 7]"
      ]
     },
     "execution_count": 104,
     "metadata": {},
     "output_type": "execute_result"
    }
   ],
   "source": [
    "jax.tree_util.tree_leaves([1, 2, dict(a=5, b=7)])"
   ]
  },
  {
   "cell_type": "code",
   "execution_count": 105,
   "metadata": {},
   "outputs": [
    {
     "data": {
      "text/plain": [
       "[1, 2, 5, 1, 5, -1]"
      ]
     },
     "execution_count": 105,
     "metadata": {},
     "output_type": "execute_result"
    }
   ],
   "source": [
    "jax.tree_util.tree_leaves([1, 2, dict(a=5, b=[1, 5, -1])])"
   ]
  },
  {
   "cell_type": "code",
   "execution_count": 106,
   "metadata": {},
   "outputs": [
    {
     "data": {
      "text/plain": [
       "[[2, 3, 4], [5, 6, 7]]"
      ]
     },
     "execution_count": 106,
     "metadata": {},
     "output_type": "execute_result"
    }
   ],
   "source": [
    "jax.tree_util.tree_map(lambda x: x + 1, [[1, 2, 3], [4, 5, 6]])"
   ]
  },
  {
   "cell_type": "code",
   "execution_count": 107,
   "metadata": {},
   "outputs": [
    {
     "data": {
      "text/plain": [
       "[[2, 3, 4], [5, 6, {'a': 7, 'b': 8}]]"
      ]
     },
     "execution_count": 107,
     "metadata": {},
     "output_type": "execute_result"
    }
   ],
   "source": [
    "jax.tree_util.tree_map(lambda x: x + 1, [[1, 2, 3], [4, 5, {'a': 6, \"b\": 7}]])"
   ]
  },
  {
   "cell_type": "code",
   "execution_count": 108,
   "metadata": {},
   "outputs": [
    {
     "data": {
      "text/plain": [
       "[[2, 3], [5, 6, {'a': 7, 'b': 8}]]"
      ]
     },
     "execution_count": 108,
     "metadata": {},
     "output_type": "execute_result"
    }
   ],
   "source": [
    "jax.tree_util.tree_map(lambda x: x + 1, [[1, 2], [4, 5, {'a': 6, \"b\": 7}]])"
   ]
  },
  {
   "cell_type": "code",
   "execution_count": 109,
   "metadata": {},
   "outputs": [
    {
     "data": {
      "text/plain": [
       "[[4, 4], [8, 10, {'a': 12, 'b': 15}]]"
      ]
     },
     "execution_count": 109,
     "metadata": {},
     "output_type": "execute_result"
    }
   ],
   "source": [
    "jax.tree_util.tree_map(lambda x, y: x + y, \n",
    "                       [[1, 2], [4, 5, {'a': 6, \"b\": 7}]],\n",
    "                       [[ 3, 2], [4, 5, {'a': 6, \"b\": 8}]],\n",
    "                       )"
   ]
  },
  {
   "cell_type": "code",
   "execution_count": 110,
   "metadata": {},
   "outputs": [],
   "source": [
    "np.random.seed(558688)\n",
    "state = np.random.get_state()"
   ]
  },
  {
   "cell_type": "code",
   "execution_count": 111,
   "metadata": {},
   "outputs": [
    {
     "data": {
      "text/plain": [
       "Array([ 2.14199090e+00, -8.07691693e-01,  1.26751781e-01,  1.85495377e+00,\n",
       "        1.17005658e+00, -1.02231055e-01, -4.90567625e-01,  1.34327710e+00,\n",
       "       -1.20233870e+00, -8.40627551e-01,  2.93754387e+00,  8.98693800e-01,\n",
       "        1.22946346e+00,  1.98344278e+00, -2.19409168e-01, -1.41044545e+00,\n",
       "        9.09378707e-01,  3.90317678e+00, -3.08588862e-01, -1.29870713e+00,\n",
       "        8.17582488e-01,  1.75450516e+00,  2.67118073e+00, -9.90965962e-01,\n",
       "        2.24020076e+00, -1.43410575e+00,  1.17588568e+00,  1.13849449e+00,\n",
       "       -2.01387286e-01, -6.93761885e-01,  1.55107129e+00, -3.59898806e-03,\n",
       "        1.13255167e+00, -2.31285945e-01,  2.17942595e+00,  8.28429818e-01,\n",
       "        1.38647854e+00, -2.06096148e+00, -4.04136360e-01,  2.95576310e+00,\n",
       "       -5.22887707e-02,  8.32147837e-01,  6.38064146e-02,  2.82053500e-01,\n",
       "       -7.52611279e-01,  2.22006083e+00, -5.37059188e-01,  2.82165110e-01,\n",
       "        1.00257432e+00,  8.21121454e-01, -7.73652077e-01,  2.62921166e+00,\n",
       "       -2.03411058e-02,  5.99589765e-01,  1.14925253e+00, -2.34280229e-01,\n",
       "        2.80505323e+00,  2.23738575e+00, -6.15264356e-01,  3.95884216e-02,\n",
       "       -6.19779468e-01, -2.01521516e+00,  1.99371970e+00,  1.41750216e+00,\n",
       "        1.85721231e+00,  2.71779346e+00,  3.31487417e+00,  7.25663006e-01,\n",
       "       -7.58225262e-01,  1.20821691e+00,  2.16904283e-01,  8.85902166e-01,\n",
       "       -6.14035010e-01,  3.49480581e+00,  5.78961670e-01, -4.42113966e-01,\n",
       "        2.30243397e+00, -1.05313814e+00, -1.16653919e+00,  1.35926163e+00,\n",
       "        6.63825512e-01,  3.92921066e+00,  1.23135138e+00,  2.05330181e+00,\n",
       "        5.55651844e-01,  3.19353032e+00,  1.19946074e+00, -2.39101481e+00,\n",
       "        8.40612113e-01, -2.39483380e+00, -2.05903530e+00,  2.00712609e+00,\n",
       "        2.22532201e+00, -3.88830423e-01, -1.18461406e+00, -1.99898076e+00,\n",
       "        3.01440865e-01,  5.02864361e-01, -5.22101820e-01, -1.61735415e+00],      dtype=float32)"
      ]
     },
     "execution_count": 111,
     "metadata": {},
     "output_type": "execute_result"
    }
   ],
   "source": [
    "x = numpyro.sample(\"x\", numpyro.distributions.Uniform(-1., 1.), rng_key=subkey[0], sample_shape=(100, 8))\n",
    "m = numpyro.sample(\"m\", numpyro.distributions.Normal(0., -1.), rng_key=subkey[1], sample_shape=(8,))\n",
    "m1 = jnp.log(1 + m)\n",
    "s = numpyro.sample(\"s\", numpyro.distributions.LogNormal(0, 1.), rng_key=subkey[2],)\n",
    "y = x @ m + s + numpyro.sample(\"s\", numpyro.distributions.Normal(0, 1.,), rng_key=subkey[3], sample_shape=(100,))\n",
    "y"
   ]
  },
  {
   "cell_type": "code",
   "execution_count": 112,
   "metadata": {},
   "outputs": [],
   "source": [
    "\n",
    "MODEL_NAMES = 1\n",
    "        \n",
    "class Linear:\n",
    "    \n",
    "    def __init__(self, in_feat, out_feat, name=None):\n",
    "        if name is None:\n",
    "            global MODEL_NAMES\n",
    "            self.name = f\"linear_{MODEL_NAMES}\"\n",
    "            MODEL_NAMES += 1\n",
    "        self.w = jnp.array(np.random.normal(size=(in_feat, out_feat)).astype(float)) * np.sqrt(2 / in_feat)\n",
    "        self.b = jnp.zeros(shape=[out_feat], dtype=float)\n",
    "    \n",
    "    def __call__(self, x):\n",
    "        return jnp.matmul(x, self.w) + self.b\n",
    "    \n",
    "    def update(self, w, b):\n",
    "        self.w = w\n",
    "        self.b = b\n",
    "        return True\n",
    "\n",
    "    def parameters(self):\n",
    "        yield {self.name + \"/w\": self.w, self.name + \"/b\": self.b}\n",
    "\n",
    "class Model:\n",
    "    def __init__(self, ):\n",
    "        self.lin1 = Linear(8, 4)\n",
    "        self.lin2 = Linear(4, 1)\n",
    "    \n",
    "    def __call__(self, x):\n",
    "        x = self.lin1(x)\n",
    "        x = jax.nn.relu(x)\n",
    "        x = self.lin2(x)\n",
    "        return x\n",
    "    \n",
    "    def forward(self, parameters, x):\n",
    "        x = jax.nn.relu(jnp.matmul(x, parameters[\"linear_1/w\"]) + parameters[\"linear_1/b\"])\n",
    "        x = jnp.matmul(x, parameters[\"linear_2/w\"]) + parameters[\"linear_2/b\"]\n",
    "        return x\n",
    "    \n",
    "    def parameters(self):\n",
    "        params = dict()\n",
    "        for model in [self.lin1, self.lin2]:\n",
    "            for p in model.parameters():\n",
    "                params.update(p)\n",
    "        return params        \n",
    "    \n",
    "    def update(self, parameters):   \n",
    "        for model in [self.lin1, self.lin2]:\n",
    "            for p in model.parameters():\n",
    "                for kernel, arr in p.items():\n",
    "                    if \"/w\" in kernel:\n",
    "                        model.w = parameters[kernel]\n",
    "                    elif \"/b\" in kernel:\n",
    "                        model.b = parameters[kernel]\n",
    "                    else:\n",
    "                        raise NotImplementedError\n",
    "        return True\n",
    "    \n",
    "# @jax.jit\n",
    "def mse(parameters, model, x, y):\n",
    "    return jnp.square(y - model.forward(parameters, x)).mean()\n",
    "\n",
    "# @jax.jit\n",
    "def step(parameters,models, x, y):\n",
    "    loss, grad = jax.value_and_grad(mse)(parameters, models[0], x, y,)\n",
    "    new_parameters = jax.tree_util.tree_map(lambda p, g: p - 1e-2 * g, parameters, grad)\n",
    "    return new_parameters, loss\n",
    "    \n",
    "def train(model, x, y):\n",
    "    epochs = 50\n",
    "    losses = []\n",
    "    for i in range(epochs):\n",
    "        parameters, loss = step(model.parameters(), [model], x, y)\n",
    "        model.update(parameters)\n",
    "        losses.append(loss)\n",
    "    losses = jnp.array(losses)\n",
    "    fig, ax = plt.subplots()\n",
    "    ax.plot(losses)\n"
   ]
  },
  {
   "cell_type": "code",
   "execution_count": 113,
   "metadata": {},
   "outputs": [],
   "source": [
    "model = Model()"
   ]
  },
  {
   "cell_type": "code",
   "execution_count": 114,
   "metadata": {},
   "outputs": [
    {
     "data": {
      "text/plain": [
       "{'linear_1/w': Array([[ 0.0052184 , -0.31574   , -0.06467558, -0.75792897],\n",
       "        [ 0.02307569,  0.1985555 , -0.1607105 ,  0.69698745],\n",
       "        [-0.47438717,  0.78848636,  0.00755686,  0.20776498],\n",
       "        [ 0.78258145,  1.2721003 ,  0.58166367, -0.17529531],\n",
       "        [ 0.04692639, -0.54986894,  0.13150747,  0.40755916],\n",
       "        [ 0.29242182,  0.06701525, -0.21177979, -0.08079717],\n",
       "        [ 0.42277133, -0.08409897, -0.64995646, -0.67978114],\n",
       "        [-0.18789701,  0.25834414,  0.04582082, -0.5300697 ]],      dtype=float32),\n",
       " 'linear_1/b': Array([0., 0., 0., 0.], dtype=float32),\n",
       " 'linear_2/w': Array([[ 1.2606083 ],\n",
       "        [-0.9147147 ],\n",
       "        [ 0.06049985],\n",
       "        [-0.5601901 ]], dtype=float32),\n",
       " 'linear_2/b': Array([0.], dtype=float32)}"
      ]
     },
     "execution_count": 114,
     "metadata": {},
     "output_type": "execute_result"
    }
   ],
   "source": [
    "model.parameters()"
   ]
  },
  {
   "cell_type": "code",
   "execution_count": 115,
   "metadata": {},
   "outputs": [
    {
     "data": {
      "image/png": "[encoded data removed]",
      "text/plain": [
       "<Figure size 800x550 with 1 Axes>"
      ]
     },
     "metadata": {},
     "output_type": "display_data"
    }
   ],
   "source": [
    "train(model, x, y)"
   ]
  },
  {
   "cell_type": "code",
   "execution_count": 116,
   "metadata": {},
   "outputs": [],
   "source": [
    "tree = [1, {\"x\": 5, \"y\": [1, 4]}, Model()]"
   ]
  },
  {
   "cell_type": "code",
   "execution_count": 117,
   "metadata": {},
   "outputs": [],
   "source": [
    "flat, _ = jax.tree_util.tree_flatten_with_path(tree)"
   ]
  },
  {
   "cell_type": "code",
   "execution_count": 118,
   "metadata": {},
   "outputs": [
    {
     "name": "stdout",
     "output_type": "stream",
     "text": [
      "(SequenceKey(idx=0),) 1\n",
      "(SequenceKey(idx=1), DictKey(key='x')) 5\n",
      "(SequenceKey(idx=1), DictKey(key='y'), SequenceKey(idx=0)) 1\n",
      "(SequenceKey(idx=1), DictKey(key='y'), SequenceKey(idx=1)) 4\n",
      "(SequenceKey(idx=2),) <__main__.Model object at 0x7ff630122ce0>\n"
     ]
    }
   ],
   "source": [
    "for keypath, value in flat:\n",
    "    print(keypath, value)"
   ]
  },
  {
   "cell_type": "code",
   "execution_count": 119,
   "metadata": {},
   "outputs": [
    {
     "name": "stdout",
     "output_type": "stream",
     "text": [
      "[0] 1\n",
      "[1]['x'] 5\n",
      "[1]['y'][0] 1\n",
      "[1]['y'][1] 4\n",
      "[2] <__main__.Model object at 0x7ff630122ce0>\n"
     ]
    }
   ],
   "source": [
    "for keypath, value in flat:\n",
    "    print(jax.tree_util.keystr(keypath), value)"
   ]
  },
  {
   "cell_type": "code",
   "execution_count": 120,
   "metadata": {},
   "outputs": [
    {
     "data": {
      "text/plain": [
       "[{(SequenceKey(idx=0),): 1},\n",
       " {'x': {(SequenceKey(idx=1), DictKey(key='x')): 5},\n",
       "  'y': [{(SequenceKey(idx=1), DictKey(key='y'), SequenceKey(idx=0)): 1},\n",
       "   {(SequenceKey(idx=1), DictKey(key='y'), SequenceKey(idx=1)): 4}]},\n",
       " {(SequenceKey(idx=2),): <__main__.Model at 0x7ff630122ce0>}]"
      ]
     },
     "execution_count": 120,
     "metadata": {},
     "output_type": "execute_result"
    }
   ],
   "source": [
    "jax.tree_util.tree_map_with_path(lambda k, x: {k: x}, tree)"
   ]
  },
  {
   "cell_type": "code",
   "execution_count": 132,
   "metadata": {},
   "outputs": [],
   "source": [
    "class Container:\n",
    "    \n",
    "    def __init__(self, name) -> None:\n",
    "        self.name = name\n",
    "        self.w = 1.0\n",
    "        self.b = 2.0\n",
    "\n",
    "def flatten(container):\n",
    "    return [container.w, container.b], container.name\n",
    "\n",
    "def unflatten(name, values):\n",
    "    return Container(name)\n"
   ]
  },
  {
   "cell_type": "code",
   "execution_count": 133,
   "metadata": {},
   "outputs": [],
   "source": [
    "jax.tree_util.register_pytree_node(Container, flatten, unflatten)"
   ]
  },
  {
   "cell_type": "code",
   "execution_count": 134,
   "metadata": {},
   "outputs": [
    {
     "name": "stdout",
     "output_type": "stream",
     "text": [
      "0\n",
      "2\n",
      "1.0\n",
      "2.0\n"
     ]
    }
   ],
   "source": [
    "for k in jax.tree_util.tree_leaves([(0, 2), Container(\"A\")]):\n",
    "    print(k)"
   ]
  },
  {
   "cell_type": "code",
   "execution_count": 138,
   "metadata": {},
   "outputs": [
    {
     "data": {
      "text/plain": [
       "Array(0.49999997, dtype=float32, weak_type=True)"
      ]
     },
     "execution_count": 138,
     "metadata": {},
     "output_type": "execute_result"
    }
   ],
   "source": [
    "jax.grad(jnp.sin)(np.pi / 3.0)"
   ]
  },
  {
   "cell_type": "code",
   "execution_count": 140,
   "metadata": {},
   "outputs": [
    {
     "data": {
      "text/plain": [
       "Array(-0.5, dtype=float32, weak_type=True)"
      ]
     },
     "execution_count": 140,
     "metadata": {},
     "output_type": "execute_result"
    }
   ],
   "source": [
    "jax.grad(jax.grad(jnp.sin))(np.pi / 6.0)"
   ]
  },
  {
   "cell_type": "code",
   "execution_count": 141,
   "metadata": {},
   "outputs": [],
   "source": [
    "def f(params, x):\n",
    "    return x @ params[\"w\"] + params[\"b\"]\n"
   ]
  },
  {
   "cell_type": "code",
   "execution_count": 157,
   "metadata": {},
   "outputs": [],
   "source": [
    "np.random.seed(0)\n",
    "params = {\"w\": jnp.array(np.random.normal(size=(2, 5))), \n",
    "          \"b\": jnp.array(np.random.normal(size=(5,))), \n",
    "          }\n",
    "x = jnp.array(np.random.normal(size=(4, 2)))"
   ]
  },
  {
   "cell_type": "code",
   "execution_count": 167,
   "metadata": {},
   "outputs": [],
   "source": [
    "jacf = jax.jacfwd(f)(params, x)"
   ]
  },
  {
   "cell_type": "code",
   "execution_count": 168,
   "metadata": {},
   "outputs": [
    {
     "data": {
      "text/plain": [
       "(4, 5, 2, 5)"
      ]
     },
     "execution_count": 168,
     "metadata": {},
     "output_type": "execute_result"
    }
   ],
   "source": [
    "jacf[\"w\"].shape"
   ]
  },
  {
   "cell_type": "code",
   "execution_count": 169,
   "metadata": {},
   "outputs": [
    {
     "data": {
      "text/plain": [
       "(4, 5, 5)"
      ]
     },
     "execution_count": 169,
     "metadata": {},
     "output_type": "execute_result"
    }
   ],
   "source": [
    "jacf[\"b\"].shape"
   ]
  },
  {
   "cell_type": "code",
   "execution_count": 170,
   "metadata": {},
   "outputs": [],
   "source": [
    "jacr = jax.jacrev(f)(params, x)"
   ]
  },
  {
   "cell_type": "code",
   "execution_count": 171,
   "metadata": {},
   "outputs": [
    {
     "data": {
      "text/plain": [
       "(4, 5, 2, 5)"
      ]
     },
     "execution_count": 171,
     "metadata": {},
     "output_type": "execute_result"
    }
   ],
   "source": [
    "jacr[\"w\"].shape"
   ]
  },
  {
   "cell_type": "code",
   "execution_count": 173,
   "metadata": {},
   "outputs": [
    {
     "data": {
      "text/plain": [
       "Array(True, dtype=bool)"
      ]
     },
     "execution_count": 173,
     "metadata": {},
     "output_type": "execute_result"
    }
   ],
   "source": [
    "jnp.array_equal(jacr[\"w\"], jacf[\"w\"])"
   ]
  },
  {
   "cell_type": "code",
   "execution_count": 181,
   "metadata": {},
   "outputs": [
    {
     "data": {
      "text/plain": [
       "(Array([[-0.7274679 ,  3.0073028 ,  0.86147785,  0.7151864 ,  1.6804861 ],\n",
       "        [-0.5238205 ,  1.6696199 ,  0.5128565 , -0.3703772 ,  0.18926343],\n",
       "        [ 1.1323543 , -1.313065  ,  0.3115151 , -1.5287457 , -2.199464  ],\n",
       "        [ 0.45226657,  2.5371146 ,  1.2699203 ,  1.4971383 ,  2.01947   ]],      dtype=float32),\n",
       " Array([[ 0.95624197,  3.3807828 ,  1.9281936 ,  2.421265  ,  3.0643764 ],\n",
       "        [-0.55995464,  0.3232559 , -0.1402718 , -0.3841428 , -0.14669037],\n",
       "        [-2.4187746 , -6.174424  , -3.856608  , -5.057506  , -6.0504127 ],\n",
       "        [ 1.8262777 ,  2.600896  ,  2.0269375 ,  2.893518  ,  3.0936615 ]],      dtype=float32))"
      ]
     },
     "execution_count": 181,
     "metadata": {},
     "output_type": "execute_result"
    }
   ],
   "source": [
    "jax.jvp(f, \n",
    "        (params, x), \n",
    "        ({\"w\": jnp.ones_like(params[\"w\"]),\n",
    "          \"b\":   jnp.zeros_like(params[\"b\"])}, \n",
    "         x))"
   ]
  },
  {
   "cell_type": "code",
   "execution_count": null,
   "metadata": {},
   "outputs": [],
   "source": []
  }
 ],
 "metadata": {
  "kernelspec": {
   "display_name": "env_dl",
   "language": "python",
   "name": "python3"
  },
  "language_info": {
   "codemirror_mode": {
    "name": "ipython",
    "version": 3
   },
   "file_extension": ".py",
   "mimetype": "text/x-python",
   "name": "python",
   "nbconvert_exporter": "python",
   "pygments_lexer": "ipython3",
   "version": "3.10.0"
  }
 },
 "nbformat": 4,
 "nbformat_minor": 2
}
